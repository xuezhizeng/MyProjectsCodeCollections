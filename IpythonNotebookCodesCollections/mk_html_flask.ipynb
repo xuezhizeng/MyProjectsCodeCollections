{
 "cells": [
  {
   "cell_type": "code",
   "execution_count": 1,
   "metadata": {
    "collapsed": true
   },
   "outputs": [],
   "source": [
    "import pandas as pd\n",
    "import os"
   ]
  },
  {
   "cell_type": "code",
   "execution_count": 2,
   "metadata": {},
   "outputs": [
    {
     "name": "stdout",
     "output_type": "stream",
     "text": [
      "map.csv  mk_html_flask.ipynb  run.py  static  templates  Untitled.ipynb\r\n"
     ]
    }
   ],
   "source": [
    "!ls"
   ]
  },
  {
   "cell_type": "code",
   "execution_count": 3,
   "metadata": {
    "collapsed": true
   },
   "outputs": [],
   "source": [
    "path='static/bossPics/'\n",
    "path2='bossPics/'"
   ]
  },
  {
   "cell_type": "code",
   "execution_count": 4,
   "metadata": {},
   "outputs": [
    {
     "data": {
      "text/plain": [
       "4205"
      ]
     },
     "execution_count": 4,
     "metadata": {},
     "output_type": "execute_result"
    }
   ],
   "source": [
    "pc=os.listdir(path)\n",
    "len(pc)"
   ]
  },
  {
   "cell_type": "code",
   "execution_count": 5,
   "metadata": {
    "collapsed": true
   },
   "outputs": [],
   "source": [
    "# pd.DataFrame(pc, columns=['name']).to_csv('map.csv', index_label='id')"
   ]
  },
  {
   "cell_type": "code",
   "execution_count": 8,
   "metadata": {},
   "outputs": [
    {
     "data": {
      "text/plain": [
       "(4205, 2)"
      ]
     },
     "execution_count": 8,
     "metadata": {},
     "output_type": "execute_result"
    }
   ],
   "source": [
    "df=pd.read_csv('map.csv')\n",
    "df.shape"
   ]
  },
  {
   "cell_type": "code",
   "execution_count": 9,
   "metadata": {
    "collapsed": true
   },
   "outputs": [],
   "source": [
    "# df['id'] = df['id']+1\n",
    "# df.to_csv('map.csv', index=False)"
   ]
  },
  {
   "cell_type": "code",
   "execution_count": 10,
   "metadata": {
    "collapsed": true
   },
   "outputs": [],
   "source": [
    "# df=pd.read_csv('map.csv')\n",
    "# df.shape"
   ]
  },
  {
   "cell_type": "code",
   "execution_count": 11,
   "metadata": {},
   "outputs": [
    {
     "data": {
      "text/html": [
       "<div>\n",
       "<style>\n",
       "    .dataframe thead tr:only-child th {\n",
       "        text-align: right;\n",
       "    }\n",
       "\n",
       "    .dataframe thead th {\n",
       "        text-align: left;\n",
       "    }\n",
       "\n",
       "    .dataframe tbody tr th {\n",
       "        vertical-align: top;\n",
       "    }\n",
       "</style>\n",
       "<table border=\"1\" class=\"dataframe\">\n",
       "  <thead>\n",
       "    <tr style=\"text-align: right;\">\n",
       "      <th></th>\n",
       "      <th>id</th>\n",
       "      <th>name</th>\n",
       "    </tr>\n",
       "  </thead>\n",
       "  <tbody>\n",
       "    <tr>\n",
       "      <th>0</th>\n",
       "      <td>1</td>\n",
       "      <td>1567873_profile.jpg</td>\n",
       "    </tr>\n",
       "    <tr>\n",
       "      <th>1</th>\n",
       "      <td>2</td>\n",
       "      <td>1513326_profile.jpg</td>\n",
       "    </tr>\n",
       "    <tr>\n",
       "      <th>2</th>\n",
       "      <td>3</td>\n",
       "      <td>1566131_profile.jpg</td>\n",
       "    </tr>\n",
       "    <tr>\n",
       "      <th>3</th>\n",
       "      <td>4</td>\n",
       "      <td>631739_profile.jpg</td>\n",
       "    </tr>\n",
       "    <tr>\n",
       "      <th>4</th>\n",
       "      <td>5</td>\n",
       "      <td>960145_profile.jpg</td>\n",
       "    </tr>\n",
       "  </tbody>\n",
       "</table>\n",
       "</div>"
      ],
      "text/plain": [
       "   id                 name\n",
       "0   1  1567873_profile.jpg\n",
       "1   2  1513326_profile.jpg\n",
       "2   3  1566131_profile.jpg\n",
       "3   4   631739_profile.jpg\n",
       "4   5   960145_profile.jpg"
      ]
     },
     "execution_count": 11,
     "metadata": {},
     "output_type": "execute_result"
    }
   ],
   "source": [
    "df.head()"
   ]
  },
  {
   "cell_type": "code",
   "execution_count": 91,
   "metadata": {
    "collapsed": true
   },
   "outputs": [],
   "source": [
    "pre=\"\"\"\n",
    "<!DOCTYPE html>\n",
    "<html>\n",
    "<head>\n",
    "  <link rel=\"stylesheet\" href=\"{{ url_for('static', filename='css/styles.css')%s }}\">\n",
    "</head>\"\"\"\n",
    "\n",
    "pre2=\"\"\"\n",
    "<body>\n",
    "<h1>Set {}</h1>\n",
    "<div class=\"parent\">\"\"\""
   ]
  },
  {
   "cell_type": "code",
   "execution_count": 89,
   "metadata": {},
   "outputs": [
    {
     "data": {
      "text/plain": [
       "'\\n<!DOCTYPE html>\\n<html>\\n<head>\\n  <link rel=\"stylesheet\" href=\"{ url_for(\\'static\\', filename=\\'css/styles.css\\')2 }\">\\n</head>\\n\\n<body>\\n<h1>Set 1</h1>\\n<div class=\"parent\">'"
      ]
     },
     "execution_count": 89,
     "metadata": {},
     "output_type": "execute_result"
    }
   ],
   "source": [
    "pre.format('1')%'2'"
   ]
  },
  {
   "cell_type": "code",
   "execution_count": 63,
   "metadata": {
    "collapsed": true
   },
   "outputs": [],
   "source": [
    "post=\"\"\"</ul>\n",
    "</div>\n",
    "\n",
    "\n",
    "</body>\n",
    "</html>\"\"\""
   ]
  },
  {
   "cell_type": "code",
   "execution_count": 64,
   "metadata": {
    "collapsed": true
   },
   "outputs": [],
   "source": [
    "# pre.format(str(4))"
   ]
  },
  {
   "cell_type": "code",
   "execution_count": 65,
   "metadata": {},
   "outputs": [
    {
     "name": "stdout",
     "output_type": "stream",
     "text": [
      "/home/flask/Pics\r\n"
     ]
    }
   ],
   "source": [
    "!pwd"
   ]
  },
  {
   "cell_type": "code",
   "execution_count": 66,
   "metadata": {},
   "outputs": [
    {
     "name": "stdout",
     "output_type": "stream",
     "text": [
      "map.csv  mk_html_flask.ipynb  run.py  static  templates  Untitled.ipynb\r\n"
     ]
    }
   ],
   "source": [
    "!ls"
   ]
  },
  {
   "cell_type": "code",
   "execution_count": 67,
   "metadata": {},
   "outputs": [
    {
     "name": "stdout",
     "output_type": "stream",
     "text": [
      "[Errno 17] File exists: 'templates/html'\n"
     ]
    }
   ],
   "source": [
    "try:\n",
    "    os.mkdir('templates/html')\n",
    "except Exception as e:\n",
    "    print e"
   ]
  },
  {
   "cell_type": "code",
   "execution_count": 68,
   "metadata": {
    "collapsed": true
   },
   "outputs": [],
   "source": [
    "target = 'templates/html/'"
   ]
  },
  {
   "cell_type": "code",
   "execution_count": 69,
   "metadata": {},
   "outputs": [
    {
     "data": {
      "text/plain": [
       "\"{{ url_for('static', filename='bossPics/') }}\""
      ]
     },
     "execution_count": 69,
     "metadata": {},
     "output_type": "execute_result"
    }
   ],
   "source": [
    "static=\"\"\"{{ url_for('static', filename='%s') }}\"\"\"%path2\n",
    "static"
   ]
  },
  {
   "cell_type": "code",
   "execution_count": 94,
   "metadata": {},
   "outputs": [
    {
     "name": "stdout",
     "output_type": "stream",
     "text": [
      "CPU times: user 1.49 s, sys: 24 ms, total: 1.52 s\n",
      "Wall time: 1.49 s\n"
     ]
    }
   ],
   "source": [
    "%%time\n",
    "content=''\n",
    "n=0\n",
    "for i in range(len(df)):\n",
    "    if i==0 or i%100==0:\n",
    "        \n",
    "        if i!=0:\n",
    "            content+=post\n",
    "        \n",
    "            with open(target+'{}.html'.format(n),'w') as fh:\n",
    "                fh.write(content)\n",
    "        n+=1\n",
    "        content=''\n",
    "        content+=pre%''+pre2.format(str(i))\n",
    "    if i==0:\n",
    "        content+=\"<ul>\"\n",
    "        content+=\"\"\"<li>{}\"\"\".format(df.iloc[i,:]['id'])+\"\"\"<img src=\"{{ url_for('static', filename='%s') }}\"></li>&emsp;\"\"\"%(path2+df.iloc[i,:]['name'])\n",
    "    else:\n",
    "        content+=\"\"\"<li>{}\"\"\".format(df.iloc[i,:]['id'])+\"\"\"<img src=\"{{ url_for('static', filename='%s') }}\"></li>&emsp;\"\"\"%(path2+df.iloc[i,:]['name'])\n",
    "        if i%4==3:\n",
    "            content+=\"</ul><ul>\"\n",
    "#     print n \n"
   ]
  },
  {
   "cell_type": "code",
   "execution_count": 95,
   "metadata": {},
   "outputs": [
    {
     "data": {
      "text/plain": [
       "'\\n<!DOCTYPE html>\\n<html>\\n<head>\\n  <link rel=\"stylesheet\" href=\"{{ url_for(\\'static\\', filename=\\'css/styles.css\\') }}\">\\n</head>\\n<body>\\n<h1>Set 4200</h1>\\n<div class=\"parent\"><li>4201<img src=\"{{ url_for(\\'static\\', filename=\\'bossPics/1384590_profile.jpg\\') }}\"></li>&emsp;<li>4202<img src=\"{{ url_for(\\'static\\', filename=\\'bossPics/1511385_profile.jpg\\') }}\"></li>&emsp;<li>4203<img src=\"{{ url_for(\\'static\\', filename=\\'bossPics/687403_profile.jpg\\') }}\"></li>&emsp;<li>4204<img src=\"{{ url_for(\\'static\\', filename=\\'bossPics/1549390_profile.jpg\\') }}\"></li>&emsp;</ul><ul><li>4205<img src=\"{{ url_for(\\'static\\', filename=\\'bossPics/757104_profile.jpg\\') }}\"></li>&emsp;'"
      ]
     },
     "execution_count": 95,
     "metadata": {},
     "output_type": "execute_result"
    }
   ],
   "source": [
    "content"
   ]
  },
  {
   "cell_type": "code",
   "execution_count": 54,
   "metadata": {},
   "outputs": [
    {
     "data": {
      "text/plain": [
       "id                        1\n",
       "name    1567873_profile.jpg\n",
       "Name: 0, dtype: object"
      ]
     },
     "execution_count": 54,
     "metadata": {},
     "output_type": "execute_result"
    }
   ],
   "source": [
    "df.iloc[0,:]"
   ]
  },
  {
   "cell_type": "code",
   "execution_count": null,
   "metadata": {
    "collapsed": true
   },
   "outputs": [],
   "source": []
  }
 ],
 "metadata": {
  "kernelspec": {
   "display_name": "Python 2",
   "language": "python",
   "name": "python2"
  },
  "language_info": {
   "codemirror_mode": {
    "name": "ipython",
    "version": 2
   },
   "file_extension": ".py",
   "mimetype": "text/x-python",
   "name": "python",
   "nbconvert_exporter": "python",
   "pygments_lexer": "ipython2",
   "version": "2.7.13"
  }
 },
 "nbformat": 4,
 "nbformat_minor": 2
}
