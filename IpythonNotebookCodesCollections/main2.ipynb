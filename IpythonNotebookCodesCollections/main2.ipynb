{
 "cells": [
  {
   "cell_type": "code",
   "execution_count": null,
   "metadata": {
    "collapsed": true
   },
   "outputs": [],
   "source": [
    "import concurrent.futures\n",
    "\n",
    "import requests\n",
    "from lxml import etree\n",
    "from time import time, ctime\n",
    "\n",
    "import pandas as pd\n",
    "\n",
    "save=[]\n",
    "\n",
    "def single((ID, url)):\n",
    "    start=time()\n",
    "    content=etree.HTML(requests.get(url, timeout=60).text).xpath('//div[@class=\"c\"]//*[@title]/@src')\n",
    "    \n",
    "    save.append([ID, content, ctime()[4:], '{:.2f}s'.format(time()-start)])\n",
    "    return ID, content, ctime()[4:], '{:.2f}s'.format(time()-start)"
   ]
  }
 ],
 "metadata": {
  "kernelspec": {
   "display_name": "Python 2",
   "language": "python",
   "name": "python2"
  },
  "language_info": {
   "codemirror_mode": {
    "name": "ipython",
    "version": 2
   },
   "file_extension": ".py",
   "mimetype": "text/x-python",
   "name": "python",
   "nbconvert_exporter": "python",
   "pygments_lexer": "ipython2",
   "version": "2.7.13"
  }
 },
 "nbformat": 4,
 "nbformat_minor": 2
}
