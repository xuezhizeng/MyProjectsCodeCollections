{
 "cells": [
  {
   "cell_type": "markdown",
   "metadata": {},
   "source": [
    "### python setup.py"
   ]
  },
  {
   "cell_type": "markdown",
   "metadata": {},
   "source": [
    "\n",
    "python setup.py bdist_egg sdist bdist_wheel\n",
    "\n",
    "\n",
    "\n",
    "twine upload dist/*\n",
    "\n",
    "rm dist -r && python setup.py bdist_egg sdist bdist_wheel && twine upload dist/*\n"
   ]
  },
  {
   "cell_type": "markdown",
   "metadata": {},
   "source": [
    "### git github"
   ]
  },
  {
   "cell_type": "markdown",
   "metadata": {},
   "source": [
    "git add .\n",
    "\n",
    "git commit -m \"info\"\n",
    "\n",
    "git remote add origin git@github.com:shichaoji2016/json2df.git\n",
    "\n",
    "git pull git@github.com:shichaoji2016/json2df.git\n",
    "\n",
    "git push -u origin master\n",
    "\n",
    "\n",
    "https://stackoverflow.com/questions/492558/removing-multiple-files-from-a-git-repo-that-have-already-been-deleted-from-disk\n",
    "\n",
    "git add -u\n",
    "\n",
    "\n",
    "git tag --delete tagname\n",
    "\n",
    "git tag tagname\n",
    "\n",
    "git push origin --tags\n",
    "\n",
    "___\n",
    "\n",
    "git remote add origin  git@github.com:shichaoji2016/picutil.git"
   ]
  },
  {
   "cell_type": "markdown",
   "metadata": {
    "collapsed": true
   },
   "source": [
    "#### rename github project\n",
    "\n",
    " git remote -v"
   ]
  },
  {
   "cell_type": "markdown",
   "metadata": {},
   "source": [
    "https://stackoverflow.com/questions/5751585/how-do-i-rename-a-repository-on-github\n",
    "\n",
    "git remote set-url origin git@github.com:someuser/newprojectname.git"
   ]
  },
  {
   "cell_type": "code",
   "execution_count": null,
   "metadata": {
    "collapsed": true
   },
   "outputs": [],
   "source": []
  },
  {
   "cell_type": "markdown",
   "metadata": {},
   "source": [
    "math\n",
    "\n",
    "http://fooplot.com/#W3sidHlwZSI6MCwiZXEiOiIxLygxK2VeKC14KSkiLCJjb2xvciI6IiMwMDAwMDAifSx7InR5cGUiOjEwMDB9XQ--"
   ]
  },
  {
   "cell_type": "markdown",
   "metadata": {
    "collapsed": true
   },
   "source": [
    "https://stackoverflow.com/questions/4042452/display-help-message-with-python-argparse-when-script-is-called-without-any-argu"
   ]
  },
  {
   "cell_type": "code",
   "execution_count": null,
   "metadata": {
    "collapsed": true
   },
   "outputs": [],
   "source": []
  }
 ],
 "metadata": {
  "kernelspec": {
   "display_name": "Python 2",
   "language": "python",
   "name": "python2"
  },
  "language_info": {
   "codemirror_mode": {
    "name": "ipython",
    "version": 2
   },
   "file_extension": ".py",
   "mimetype": "text/x-python",
   "name": "python",
   "nbconvert_exporter": "python",
   "pygments_lexer": "ipython2",
   "version": "2.7.13"
  }
 },
 "nbformat": 4,
 "nbformat_minor": 2
}
