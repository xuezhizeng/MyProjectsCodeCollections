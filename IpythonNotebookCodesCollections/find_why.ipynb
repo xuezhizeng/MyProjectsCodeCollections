{
 "cells": [
  {
   "cell_type": "code",
   "execution_count": 1,
   "metadata": {
    "collapsed": true
   },
   "outputs": [],
   "source": [
    "import pandas as pd\n",
    "import os"
   ]
  },
  {
   "cell_type": "markdown",
   "metadata": {},
   "source": [
    "#### in the goden dataset, ideally should have the same row number (no. of users) as the full_data set\n",
    "#### even if there's no legitimate first name of that user, in the goden dataset, that user (row) should be kept, with no gender prediction "
   ]
  },
  {
   "cell_type": "code",
   "execution_count": 2,
   "metadata": {},
   "outputs": [
    {
     "name": "stdout",
     "output_type": "stream",
     "text": [
      "(195185, 40)\n",
      "(166942, 8)\n",
      "CPU times: user 1min 45s, sys: 936 ms, total: 1min 46s\n",
      "Wall time: 1min 46s\n"
     ]
    },
    {
     "name": "stderr",
     "output_type": "stream",
     "text": [
      "<string>:2: DtypeWarning: Columns (1,7) have mixed types. Specify dtype option on import or set low_memory=False.\n"
     ]
    }
   ],
   "source": [
    "%%time\n",
    "df = pd.read_excel('./clean_Json_updated_debug_Dec_17_2017.xlsx')\n",
    "print df.shape\n",
    "gd = pd.read_csv('./users.gender.golden (3).csv')\n",
    "print gd.shape"
   ]
  },
  {
   "cell_type": "code",
   "execution_count": 35,
   "metadata": {},
   "outputs": [
    {
     "data": {
      "text/plain": [
       "0"
      ]
     },
     "execution_count": 35,
     "metadata": {},
     "output_type": "execute_result"
    }
   ],
   "source": [
    "df['public_firstname'].isnull().sum()"
   ]
  },
  {
   "cell_type": "code",
   "execution_count": 34,
   "metadata": {},
   "outputs": [
    {
     "data": {
      "text/plain": [
       "Muhammad    1026\n",
       "Md           541\n",
       "Amit         312\n",
       "Daniel       309\n",
       "John         300\n",
       "Name: public_firstname, dtype: int64"
      ]
     },
     "execution_count": 34,
     "metadata": {},
     "output_type": "execute_result"
    }
   ],
   "source": [
    "df['public_firstname'].value_counts().head()"
   ]
  },
  {
   "cell_type": "markdown",
   "metadata": {},
   "source": [
    "#### full data have 195185 unique users"
   ]
  },
  {
   "cell_type": "code",
   "execution_count": 5,
   "metadata": {},
   "outputs": [
    {
     "data": {
      "text/plain": [
       "(195185, 195185)"
      ]
     },
     "execution_count": 5,
     "metadata": {},
     "output_type": "execute_result"
    }
   ],
   "source": [
    "len(df['username'].unique()), len(df['userId'].unique())"
   ]
  },
  {
   "cell_type": "code",
   "execution_count": 10,
   "metadata": {},
   "outputs": [
    {
     "data": {
      "text/html": [
       "<div>\n",
       "<style>\n",
       "    .dataframe thead tr:only-child th {\n",
       "        text-align: right;\n",
       "    }\n",
       "\n",
       "    .dataframe thead th {\n",
       "        text-align: left;\n",
       "    }\n",
       "\n",
       "    .dataframe tbody tr th {\n",
       "        vertical-align: top;\n",
       "    }\n",
       "</style>\n",
       "<table border=\"1\" class=\"dataframe\">\n",
       "  <thead>\n",
       "    <tr style=\"text-align: right;\">\n",
       "      <th></th>\n",
       "      <th>0</th>\n",
       "    </tr>\n",
       "  </thead>\n",
       "  <tbody>\n",
       "    <tr>\n",
       "      <th>index</th>\n",
       "      <td>rrpteltd.html</td>\n",
       "    </tr>\n",
       "    <tr>\n",
       "      <th>about.avatar</th>\n",
       "      <td>/img/unknown.png</td>\n",
       "    </tr>\n",
       "    <tr>\n",
       "      <th>about.avatar_cdn</th>\n",
       "      <td>//cdn6.f-cdn.com/img/unknown.png</td>\n",
       "    </tr>\n",
       "    <tr>\n",
       "      <th>about.avatar_large</th>\n",
       "      <td>/img/unknown.png</td>\n",
       "    </tr>\n",
       "    <tr>\n",
       "      <th>about.avatar_large_cdn</th>\n",
       "      <td>//cdn6.f-cdn.com/img/unknown.png</td>\n",
       "    </tr>\n",
       "    <tr>\n",
       "      <th>about.chosen_role</th>\n",
       "      <td>2</td>\n",
       "    </tr>\n",
       "    <tr>\n",
       "      <th>about.company</th>\n",
       "      <td>None</td>\n",
       "    </tr>\n",
       "    <tr>\n",
       "      <th>about.cover_image</th>\n",
       "      <td>{u'current_image': {u'url': u'//cdn2.f-cdn.com...</td>\n",
       "    </tr>\n",
       "    <tr>\n",
       "      <th>about.display_name</th>\n",
       "      <td>RRPteLtd</td>\n",
       "    </tr>\n",
       "    <tr>\n",
       "      <th>about.hourly_rate</th>\n",
       "      <td>None</td>\n",
       "    </tr>\n",
       "    <tr>\n",
       "      <th>about.id</th>\n",
       "      <td>1742752</td>\n",
       "    </tr>\n",
       "    <tr>\n",
       "      <th>about.location</th>\n",
       "      <td>{u'administrative_area': None, u'city': u'Sing...</td>\n",
       "    </tr>\n",
       "    <tr>\n",
       "      <th>about.primary_currency</th>\n",
       "      <td>{u'code': u'USD', u'name': u'US Dollar', u'cou...</td>\n",
       "    </tr>\n",
       "    <tr>\n",
       "      <th>about.primary_language</th>\n",
       "      <td>en</td>\n",
       "    </tr>\n",
       "    <tr>\n",
       "      <th>about.profile_description</th>\n",
       "      <td>NaN</td>\n",
       "    </tr>\n",
       "    <tr>\n",
       "      <th>about.public_name</th>\n",
       "      <td>RRPteLtd</td>\n",
       "    </tr>\n",
       "    <tr>\n",
       "      <th>about.recommendations</th>\n",
       "      <td>0</td>\n",
       "    </tr>\n",
       "    <tr>\n",
       "      <th>about.registration_date</th>\n",
       "      <td>1281630982</td>\n",
       "    </tr>\n",
       "    <tr>\n",
       "      <th>about.registration_date_human</th>\n",
       "      <td>August, 2010</td>\n",
       "    </tr>\n",
       "    <tr>\n",
       "      <th>about.registration_date_localized</th>\n",
       "      <td>August 12, 2010</td>\n",
       "    </tr>\n",
       "    <tr>\n",
       "      <th>about.reputation</th>\n",
       "      <td>{u'user_id': 1742752, u'last3months': {u'compl...</td>\n",
       "    </tr>\n",
       "    <tr>\n",
       "      <th>about.responsivenessText</th>\n",
       "      <td>NaN</td>\n",
       "    </tr>\n",
       "    <tr>\n",
       "      <th>about.role</th>\n",
       "      <td>0</td>\n",
       "    </tr>\n",
       "    <tr>\n",
       "      <th>about.status</th>\n",
       "      <td>{u'payment_verified': False, u'identity_verifi...</td>\n",
       "    </tr>\n",
       "    <tr>\n",
       "      <th>about.tagline</th>\n",
       "      <td>NaN</td>\n",
       "    </tr>\n",
       "    <tr>\n",
       "      <th>about.timezone</th>\n",
       "      <td>{u'country': u'SG', u'offset': 8, u'id': 210, ...</td>\n",
       "    </tr>\n",
       "    <tr>\n",
       "      <th>about.username</th>\n",
       "      <td>RRPteLtd</td>\n",
       "    </tr>\n",
       "    <tr>\n",
       "      <th>about.username_sentence</th>\n",
       "      <td>RRPteLtd</td>\n",
       "    </tr>\n",
       "    <tr>\n",
       "      <th>hourlyRate</th>\n",
       "      <td>NaN</td>\n",
       "    </tr>\n",
       "    <tr>\n",
       "      <th>resume.certifications</th>\n",
       "      <td>[]</td>\n",
       "    </tr>\n",
       "    <tr>\n",
       "      <th>resume.education</th>\n",
       "      <td>[]</td>\n",
       "    </tr>\n",
       "    <tr>\n",
       "      <th>resume.exams</th>\n",
       "      <td>[]</td>\n",
       "    </tr>\n",
       "    <tr>\n",
       "      <th>resume.experience</th>\n",
       "      <td>[]</td>\n",
       "    </tr>\n",
       "    <tr>\n",
       "      <th>resume.publications</th>\n",
       "      <td>[]</td>\n",
       "    </tr>\n",
       "    <tr>\n",
       "      <th>resume.show</th>\n",
       "      <td>False</td>\n",
       "    </tr>\n",
       "    <tr>\n",
       "      <th>skills</th>\n",
       "      <td>[]</td>\n",
       "    </tr>\n",
       "    <tr>\n",
       "      <th>timeOffset</th>\n",
       "      <td>480</td>\n",
       "    </tr>\n",
       "    <tr>\n",
       "      <th>userId</th>\n",
       "      <td>1742752</td>\n",
       "    </tr>\n",
       "    <tr>\n",
       "      <th>username</th>\n",
       "      <td>rrpteltd</td>\n",
       "    </tr>\n",
       "    <tr>\n",
       "      <th>public_firstname</th>\n",
       "      <td>RRPteLtd</td>\n",
       "    </tr>\n",
       "  </tbody>\n",
       "</table>\n",
       "</div>"
      ],
      "text/plain": [
       "                                                                                   0\n",
       "index                                                                  rrpteltd.html\n",
       "about.avatar                                                        /img/unknown.png\n",
       "about.avatar_cdn                                    //cdn6.f-cdn.com/img/unknown.png\n",
       "about.avatar_large                                                  /img/unknown.png\n",
       "about.avatar_large_cdn                              //cdn6.f-cdn.com/img/unknown.png\n",
       "about.chosen_role                                                                  2\n",
       "about.company                                                                   None\n",
       "about.cover_image                  {u'current_image': {u'url': u'//cdn2.f-cdn.com...\n",
       "about.display_name                                                          RRPteLtd\n",
       "about.hourly_rate                                                               None\n",
       "about.id                                                                     1742752\n",
       "about.location                     {u'administrative_area': None, u'city': u'Sing...\n",
       "about.primary_currency             {u'code': u'USD', u'name': u'US Dollar', u'cou...\n",
       "about.primary_language                                                            en\n",
       "about.profile_description                                                        NaN\n",
       "about.public_name                                                           RRPteLtd\n",
       "about.recommendations                                                              0\n",
       "about.registration_date                                                   1281630982\n",
       "about.registration_date_human                                           August, 2010\n",
       "about.registration_date_localized                                    August 12, 2010\n",
       "about.reputation                   {u'user_id': 1742752, u'last3months': {u'compl...\n",
       "about.responsivenessText                                                         NaN\n",
       "about.role                                                                         0\n",
       "about.status                       {u'payment_verified': False, u'identity_verifi...\n",
       "about.tagline                                                                    NaN\n",
       "about.timezone                     {u'country': u'SG', u'offset': 8, u'id': 210, ...\n",
       "about.username                                                              RRPteLtd\n",
       "about.username_sentence                                                     RRPteLtd\n",
       "hourlyRate                                                                       NaN\n",
       "resume.certifications                                                             []\n",
       "resume.education                                                                  []\n",
       "resume.exams                                                                      []\n",
       "resume.experience                                                                 []\n",
       "resume.publications                                                               []\n",
       "resume.show                                                                    False\n",
       "skills                                                                            []\n",
       "timeOffset                                                                       480\n",
       "userId                                                                       1742752\n",
       "username                                                                    rrpteltd\n",
       "public_firstname                                                            RRPteLtd"
      ]
     },
     "execution_count": 10,
     "metadata": {},
     "output_type": "execute_result"
    }
   ],
   "source": [
    "df.head(1).transpose()"
   ]
  },
  {
   "cell_type": "code",
   "execution_count": 7,
   "metadata": {},
   "outputs": [
    {
     "data": {
      "text/html": [
       "<div>\n",
       "<style>\n",
       "    .dataframe thead tr:only-child th {\n",
       "        text-align: right;\n",
       "    }\n",
       "\n",
       "    .dataframe thead th {\n",
       "        text-align: left;\n",
       "    }\n",
       "\n",
       "    .dataframe tbody tr th {\n",
       "        vertical-align: top;\n",
       "    }\n",
       "</style>\n",
       "<table border=\"1\" class=\"dataframe\">\n",
       "  <thead>\n",
       "    <tr style=\"text-align: right;\">\n",
       "      <th></th>\n",
       "      <th>user_id</th>\n",
       "      <th>username</th>\n",
       "      <th>freq</th>\n",
       "      <th>male.prob</th>\n",
       "      <th>fname.gender</th>\n",
       "      <th>male.prob2</th>\n",
       "      <th>fname.gender2</th>\n",
       "      <th>pic.gender</th>\n",
       "    </tr>\n",
       "  </thead>\n",
       "  <tbody>\n",
       "    <tr>\n",
       "      <th>0</th>\n",
       "      <td>5</td>\n",
       "      <td>billion</td>\n",
       "      <td>2.0</td>\n",
       "      <td>1.0000</td>\n",
       "      <td>male</td>\n",
       "      <td>0.920000</td>\n",
       "      <td>male</td>\n",
       "      <td>NaN</td>\n",
       "    </tr>\n",
       "    <tr>\n",
       "      <th>1</th>\n",
       "      <td>63</td>\n",
       "      <td>paddyshyam</td>\n",
       "      <td>NaN</td>\n",
       "      <td>NaN</td>\n",
       "      <td>NaN</td>\n",
       "      <td>NaN</td>\n",
       "      <td>NaN</td>\n",
       "      <td>NaN</td>\n",
       "    </tr>\n",
       "    <tr>\n",
       "      <th>2</th>\n",
       "      <td>64</td>\n",
       "      <td>ArmenSoft</td>\n",
       "      <td>1.0</td>\n",
       "      <td>1.0000</td>\n",
       "      <td>male</td>\n",
       "      <td>NaN</td>\n",
       "      <td>NaN</td>\n",
       "      <td>NaN</td>\n",
       "    </tr>\n",
       "    <tr>\n",
       "      <th>3</th>\n",
       "      <td>128</td>\n",
       "      <td>okbookman</td>\n",
       "      <td>1.0</td>\n",
       "      <td>0.9945</td>\n",
       "      <td>male</td>\n",
       "      <td>0.998834</td>\n",
       "      <td>male</td>\n",
       "      <td>NaN</td>\n",
       "    </tr>\n",
       "    <tr>\n",
       "      <th>4</th>\n",
       "      <td>215</td>\n",
       "      <td>revitupmedia</td>\n",
       "      <td>1.0</td>\n",
       "      <td>1.0000</td>\n",
       "      <td>male</td>\n",
       "      <td>NaN</td>\n",
       "      <td>NaN</td>\n",
       "      <td>male</td>\n",
       "    </tr>\n",
       "  </tbody>\n",
       "</table>\n",
       "</div>"
      ],
      "text/plain": [
       "   user_id      username  freq  male.prob fname.gender  male.prob2  \\\n",
       "0        5       billion   2.0     1.0000         male    0.920000   \n",
       "1       63    paddyshyam   NaN        NaN          NaN         NaN   \n",
       "2       64     ArmenSoft   1.0     1.0000         male         NaN   \n",
       "3      128     okbookman   1.0     0.9945         male    0.998834   \n",
       "4      215  revitupmedia   1.0     1.0000         male         NaN   \n",
       "\n",
       "  fname.gender2 pic.gender  \n",
       "0          male        NaN  \n",
       "1           NaN        NaN  \n",
       "2           NaN        NaN  \n",
       "3          male        NaN  \n",
       "4           NaN       male  "
      ]
     },
     "execution_count": 7,
     "metadata": {},
     "output_type": "execute_result"
    }
   ],
   "source": [
    "gd.head()"
   ]
  },
  {
   "cell_type": "markdown",
   "metadata": {},
   "source": [
    "#### golden set has 166942 unique users"
   ]
  },
  {
   "cell_type": "code",
   "execution_count": 8,
   "metadata": {},
   "outputs": [
    {
     "data": {
      "text/plain": [
       "(119819, 166942)"
      ]
     },
     "execution_count": 8,
     "metadata": {},
     "output_type": "execute_result"
    }
   ],
   "source": [
    "len(gd['username'].unique()), len(gd['user_id'].unique())"
   ]
  },
  {
   "cell_type": "code",
   "execution_count": 20,
   "metadata": {},
   "outputs": [
    {
     "data": {
      "text/plain": [
       "0"
      ]
     },
     "execution_count": 20,
     "metadata": {},
     "output_type": "execute_result"
    }
   ],
   "source": [
    "gd['user_id'].isnull().sum()"
   ]
  },
  {
   "cell_type": "code",
   "execution_count": 12,
   "metadata": {},
   "outputs": [
    {
     "data": {
      "text/plain": [
       "47124"
      ]
     },
     "execution_count": 12,
     "metadata": {},
     "output_type": "execute_result"
    }
   ],
   "source": [
    "gd['username'].isnull().sum()"
   ]
  },
  {
   "cell_type": "markdown",
   "metadata": {},
   "source": [
    "#### there's mutual data 154574 between full_info and golden_set "
   ]
  },
  {
   "cell_type": "code",
   "execution_count": 19,
   "metadata": {},
   "outputs": [
    {
     "data": {
      "text/plain": [
       "(154574, 46)"
      ]
     },
     "execution_count": 19,
     "metadata": {},
     "output_type": "execute_result"
    }
   ],
   "source": [
    "joined = df.set_index('userId').join(gd.set_index('user_id'), how='inner', lsuffix='data_')\n",
    "joined.shape"
   ]
  },
  {
   "cell_type": "code",
   "execution_count": 22,
   "metadata": {},
   "outputs": [
    {
     "data": {
      "text/plain": [
       "(166942, 46)"
      ]
     },
     "execution_count": 22,
     "metadata": {},
     "output_type": "execute_result"
    }
   ],
   "source": [
    "right_j = df.set_index('userId').join(gd.set_index('user_id'), how='right', lsuffix='data_')\n",
    "right_j.shape"
   ]
  },
  {
   "cell_type": "markdown",
   "metadata": {},
   "source": [
    "#### 12368 users in goden set but not in full_set (why?)"
   ]
  },
  {
   "cell_type": "code",
   "execution_count": 28,
   "metadata": {},
   "outputs": [
    {
     "data": {
      "text/plain": [
       "(12368, 46)"
      ]
     },
     "execution_count": 28,
     "metadata": {},
     "output_type": "execute_result"
    }
   ],
   "source": [
    "right_j[right_j['index'].isnull()].shape"
   ]
  },
  {
   "cell_type": "code",
   "execution_count": 27,
   "metadata": {},
   "outputs": [
    {
     "data": {
      "text/html": [
       "<div>\n",
       "<style>\n",
       "    .dataframe thead tr:only-child th {\n",
       "        text-align: right;\n",
       "    }\n",
       "\n",
       "    .dataframe thead th {\n",
       "        text-align: left;\n",
       "    }\n",
       "\n",
       "    .dataframe tbody tr th {\n",
       "        vertical-align: top;\n",
       "    }\n",
       "</style>\n",
       "<table border=\"1\" class=\"dataframe\">\n",
       "  <thead>\n",
       "    <tr style=\"text-align: right;\">\n",
       "      <th></th>\n",
       "      <th>index</th>\n",
       "      <th>about.avatar</th>\n",
       "      <th>about.avatar_cdn</th>\n",
       "      <th>about.avatar_large</th>\n",
       "      <th>about.avatar_large_cdn</th>\n",
       "      <th>about.chosen_role</th>\n",
       "      <th>about.company</th>\n",
       "      <th>about.cover_image</th>\n",
       "      <th>about.display_name</th>\n",
       "      <th>about.hourly_rate</th>\n",
       "      <th>...</th>\n",
       "      <th>timeOffset</th>\n",
       "      <th>usernamedata_</th>\n",
       "      <th>public_firstname</th>\n",
       "      <th>username</th>\n",
       "      <th>freq</th>\n",
       "      <th>male.prob</th>\n",
       "      <th>fname.gender</th>\n",
       "      <th>male.prob2</th>\n",
       "      <th>fname.gender2</th>\n",
       "      <th>pic.gender</th>\n",
       "    </tr>\n",
       "    <tr>\n",
       "      <th>user_id</th>\n",
       "      <th></th>\n",
       "      <th></th>\n",
       "      <th></th>\n",
       "      <th></th>\n",
       "      <th></th>\n",
       "      <th></th>\n",
       "      <th></th>\n",
       "      <th></th>\n",
       "      <th></th>\n",
       "      <th></th>\n",
       "      <th></th>\n",
       "      <th></th>\n",
       "      <th></th>\n",
       "      <th></th>\n",
       "      <th></th>\n",
       "      <th></th>\n",
       "      <th></th>\n",
       "      <th></th>\n",
       "      <th></th>\n",
       "      <th></th>\n",
       "      <th></th>\n",
       "    </tr>\n",
       "  </thead>\n",
       "  <tbody>\n",
       "    <tr>\n",
       "      <th>1809867</th>\n",
       "      <td>NaN</td>\n",
       "      <td>NaN</td>\n",
       "      <td>NaN</td>\n",
       "      <td>NaN</td>\n",
       "      <td>NaN</td>\n",
       "      <td>NaN</td>\n",
       "      <td>NaN</td>\n",
       "      <td>NaN</td>\n",
       "      <td>NaN</td>\n",
       "      <td>NaN</td>\n",
       "      <td>...</td>\n",
       "      <td>NaN</td>\n",
       "      <td>NaN</td>\n",
       "      <td>NaN</td>\n",
       "      <td>matthewlarner</td>\n",
       "      <td>2.0</td>\n",
       "      <td>0.9997</td>\n",
       "      <td>male</td>\n",
       "      <td>0.999269</td>\n",
       "      <td>male</td>\n",
       "      <td>NaN</td>\n",
       "    </tr>\n",
       "    <tr>\n",
       "      <th>1810291</th>\n",
       "      <td>NaN</td>\n",
       "      <td>NaN</td>\n",
       "      <td>NaN</td>\n",
       "      <td>NaN</td>\n",
       "      <td>NaN</td>\n",
       "      <td>NaN</td>\n",
       "      <td>NaN</td>\n",
       "      <td>NaN</td>\n",
       "      <td>NaN</td>\n",
       "      <td>NaN</td>\n",
       "      <td>...</td>\n",
       "      <td>NaN</td>\n",
       "      <td>NaN</td>\n",
       "      <td>NaN</td>\n",
       "      <td>kamano</td>\n",
       "      <td>0.0</td>\n",
       "      <td>NaN</td>\n",
       "      <td>NaN</td>\n",
       "      <td>NaN</td>\n",
       "      <td>NaN</td>\n",
       "      <td>NaN</td>\n",
       "    </tr>\n",
       "    <tr>\n",
       "      <th>1810765</th>\n",
       "      <td>NaN</td>\n",
       "      <td>NaN</td>\n",
       "      <td>NaN</td>\n",
       "      <td>NaN</td>\n",
       "      <td>NaN</td>\n",
       "      <td>NaN</td>\n",
       "      <td>NaN</td>\n",
       "      <td>NaN</td>\n",
       "      <td>NaN</td>\n",
       "      <td>NaN</td>\n",
       "      <td>...</td>\n",
       "      <td>NaN</td>\n",
       "      <td>NaN</td>\n",
       "      <td>NaN</td>\n",
       "      <td>IndyBobby</td>\n",
       "      <td>1.0</td>\n",
       "      <td>0.9726</td>\n",
       "      <td>male</td>\n",
       "      <td>0.999187</td>\n",
       "      <td>male</td>\n",
       "      <td>NaN</td>\n",
       "    </tr>\n",
       "    <tr>\n",
       "      <th>1811317</th>\n",
       "      <td>NaN</td>\n",
       "      <td>NaN</td>\n",
       "      <td>NaN</td>\n",
       "      <td>NaN</td>\n",
       "      <td>NaN</td>\n",
       "      <td>NaN</td>\n",
       "      <td>NaN</td>\n",
       "      <td>NaN</td>\n",
       "      <td>NaN</td>\n",
       "      <td>NaN</td>\n",
       "      <td>...</td>\n",
       "      <td>NaN</td>\n",
       "      <td>NaN</td>\n",
       "      <td>NaN</td>\n",
       "      <td>dimpol86</td>\n",
       "      <td>1.0</td>\n",
       "      <td>1.0000</td>\n",
       "      <td>male</td>\n",
       "      <td>1.000000</td>\n",
       "      <td>male</td>\n",
       "      <td>NaN</td>\n",
       "    </tr>\n",
       "    <tr>\n",
       "      <th>1811738</th>\n",
       "      <td>NaN</td>\n",
       "      <td>NaN</td>\n",
       "      <td>NaN</td>\n",
       "      <td>NaN</td>\n",
       "      <td>NaN</td>\n",
       "      <td>NaN</td>\n",
       "      <td>NaN</td>\n",
       "      <td>NaN</td>\n",
       "      <td>NaN</td>\n",
       "      <td>NaN</td>\n",
       "      <td>...</td>\n",
       "      <td>NaN</td>\n",
       "      <td>NaN</td>\n",
       "      <td>NaN</td>\n",
       "      <td>Alexa77</td>\n",
       "      <td>1.0</td>\n",
       "      <td>0.0000</td>\n",
       "      <td>female</td>\n",
       "      <td>0.000000</td>\n",
       "      <td>female</td>\n",
       "      <td>NaN</td>\n",
       "    </tr>\n",
       "  </tbody>\n",
       "</table>\n",
       "<p>5 rows × 46 columns</p>\n",
       "</div>"
      ],
      "text/plain": [
       "        index about.avatar about.avatar_cdn about.avatar_large  \\\n",
       "user_id                                                          \n",
       "1809867   NaN          NaN              NaN                NaN   \n",
       "1810291   NaN          NaN              NaN                NaN   \n",
       "1810765   NaN          NaN              NaN                NaN   \n",
       "1811317   NaN          NaN              NaN                NaN   \n",
       "1811738   NaN          NaN              NaN                NaN   \n",
       "\n",
       "        about.avatar_large_cdn  about.chosen_role about.company  \\\n",
       "user_id                                                           \n",
       "1809867                    NaN                NaN           NaN   \n",
       "1810291                    NaN                NaN           NaN   \n",
       "1810765                    NaN                NaN           NaN   \n",
       "1811317                    NaN                NaN           NaN   \n",
       "1811738                    NaN                NaN           NaN   \n",
       "\n",
       "        about.cover_image about.display_name about.hourly_rate    ...      \\\n",
       "user_id                                                           ...       \n",
       "1809867               NaN                NaN               NaN    ...       \n",
       "1810291               NaN                NaN               NaN    ...       \n",
       "1810765               NaN                NaN               NaN    ...       \n",
       "1811317               NaN                NaN               NaN    ...       \n",
       "1811738               NaN                NaN               NaN    ...       \n",
       "\n",
       "         timeOffset usernamedata_ public_firstname       username freq  \\\n",
       "user_id                                                                  \n",
       "1809867         NaN           NaN              NaN  matthewlarner  2.0   \n",
       "1810291         NaN           NaN              NaN         kamano  0.0   \n",
       "1810765         NaN           NaN              NaN      IndyBobby  1.0   \n",
       "1811317         NaN           NaN              NaN       dimpol86  1.0   \n",
       "1811738         NaN           NaN              NaN        Alexa77  1.0   \n",
       "\n",
       "        male.prob  fname.gender  male.prob2 fname.gender2 pic.gender  \n",
       "user_id                                                               \n",
       "1809867    0.9997          male    0.999269          male        NaN  \n",
       "1810291       NaN           NaN         NaN           NaN        NaN  \n",
       "1810765    0.9726          male    0.999187          male        NaN  \n",
       "1811317    1.0000          male    1.000000          male        NaN  \n",
       "1811738    0.0000        female    0.000000        female        NaN  \n",
       "\n",
       "[5 rows x 46 columns]"
      ]
     },
     "execution_count": 27,
     "metadata": {},
     "output_type": "execute_result"
    }
   ],
   "source": [
    "right_j[right_j['index'].isnull()].tail()"
   ]
  },
  {
   "cell_type": "markdown",
   "metadata": {},
   "source": [
    "#### find why"
   ]
  },
  {
   "cell_type": "code",
   "execution_count": 30,
   "metadata": {},
   "outputs": [
    {
     "data": {
      "text/html": [
       "<div>\n",
       "<style>\n",
       "    .dataframe thead tr:only-child th {\n",
       "        text-align: right;\n",
       "    }\n",
       "\n",
       "    .dataframe thead th {\n",
       "        text-align: left;\n",
       "    }\n",
       "\n",
       "    .dataframe tbody tr th {\n",
       "        vertical-align: top;\n",
       "    }\n",
       "</style>\n",
       "<table border=\"1\" class=\"dataframe\">\n",
       "  <thead>\n",
       "    <tr style=\"text-align: right;\">\n",
       "      <th></th>\n",
       "      <th>index</th>\n",
       "      <th>about.avatar</th>\n",
       "      <th>about.avatar_cdn</th>\n",
       "      <th>about.avatar_large</th>\n",
       "      <th>about.avatar_large_cdn</th>\n",
       "      <th>about.chosen_role</th>\n",
       "      <th>about.company</th>\n",
       "      <th>about.cover_image</th>\n",
       "      <th>about.display_name</th>\n",
       "      <th>about.hourly_rate</th>\n",
       "      <th>...</th>\n",
       "      <th>resume.education</th>\n",
       "      <th>resume.exams</th>\n",
       "      <th>resume.experience</th>\n",
       "      <th>resume.publications</th>\n",
       "      <th>resume.show</th>\n",
       "      <th>skills</th>\n",
       "      <th>timeOffset</th>\n",
       "      <th>userId</th>\n",
       "      <th>username</th>\n",
       "      <th>public_firstname</th>\n",
       "    </tr>\n",
       "  </thead>\n",
       "  <tbody>\n",
       "  </tbody>\n",
       "</table>\n",
       "<p>0 rows × 40 columns</p>\n",
       "</div>"
      ],
      "text/plain": [
       "Empty DataFrame\n",
       "Columns: [index, about.avatar, about.avatar_cdn, about.avatar_large, about.avatar_large_cdn, about.chosen_role, about.company, about.cover_image, about.display_name, about.hourly_rate, about.id, about.location, about.primary_currency, about.primary_language, about.profile_description, about.public_name, about.recommendations, about.registration_date, about.registration_date_human, about.registration_date_localized, about.reputation, about.responsivenessText, about.role, about.status, about.tagline, about.timezone, about.username, about.username_sentence, hourlyRate, resume.certifications, resume.education, resume.exams, resume.experience, resume.publications, resume.show, skills, timeOffset, userId, username, public_firstname]\n",
       "Index: []\n",
       "\n",
       "[0 rows x 40 columns]"
      ]
     },
     "execution_count": 30,
     "metadata": {},
     "output_type": "execute_result"
    }
   ],
   "source": [
    "df[df['userId']==1809867]"
   ]
  },
  {
   "cell_type": "markdown",
   "metadata": {},
   "source": [
    "https://www.freelancer.com/users/1809867.html"
   ]
  },
  {
   "cell_type": "markdown",
   "metadata": {},
   "source": [
    "#### you can see the user is closed, actually in the full_set, I have removed most close users"
   ]
  },
  {
   "cell_type": "code",
   "execution_count": null,
   "metadata": {
    "collapsed": true
   },
   "outputs": [],
   "source": []
  },
  {
   "cell_type": "markdown",
   "metadata": {},
   "source": [
    "### overall, I think the goden set was not generated from the lastest full_data set"
   ]
  },
  {
   "cell_type": "code",
   "execution_count": null,
   "metadata": {
    "collapsed": true
   },
   "outputs": [],
   "source": []
  }
 ],
 "metadata": {
  "kernelspec": {
   "display_name": "Python 2",
   "language": "python",
   "name": "python2"
  },
  "language_info": {
   "codemirror_mode": {
    "name": "ipython",
    "version": 2
   },
   "file_extension": ".py",
   "mimetype": "text/x-python",
   "name": "python",
   "nbconvert_exporter": "python",
   "pygments_lexer": "ipython2",
   "version": "2.7.13"
  }
 },
 "nbformat": 4,
 "nbformat_minor": 2
}
