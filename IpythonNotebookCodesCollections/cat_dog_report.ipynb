{
 "cells": [
  {
   "cell_type": "markdown",
   "metadata": {},
   "source": [
    "### use openface\n",
    "### https://cmusatyalab.github.io/openface/"
   ]
  },
  {
   "cell_type": "markdown",
   "metadata": {},
   "source": [
    "## I named cat and dog, yet actually they are two girls\n",
    "\n",
    "cat: https://worldcosplay.net/member/131098\n",
    "\n",
    "dog: https://worldcosplay.net/member/110814"
   ]
  },
  {
   "cell_type": "markdown",
   "metadata": {},
   "source": [
    "#### training files in total"
   ]
  },
  {
   "cell_type": "code",
   "execution_count": 2,
   "metadata": {},
   "outputs": [
    {
     "name": "stdout",
     "output_type": "stream",
     "text": [
      "794\r\n"
     ]
    }
   ],
   "source": [
    "!find catVsdog/ -type f|wc -l"
   ]
  },
  {
   "cell_type": "markdown",
   "metadata": {},
   "source": [
    "cat trainning pics"
   ]
  },
  {
   "cell_type": "code",
   "execution_count": 1,
   "metadata": {},
   "outputs": [
    {
     "name": "stdout",
     "output_type": "stream",
     "text": [
      "376\r\n"
     ]
    }
   ],
   "source": [
    "!ls catVsdog/cat |wc -l"
   ]
  },
  {
   "cell_type": "markdown",
   "metadata": {},
   "source": [
    "dog trainning pics"
   ]
  },
  {
   "cell_type": "code",
   "execution_count": 2,
   "metadata": {},
   "outputs": [
    {
     "name": "stdout",
     "output_type": "stream",
     "text": [
      "418\r\n"
     ]
    }
   ],
   "source": [
    "!ls catVsdog/dog |wc -l"
   ]
  },
  {
   "cell_type": "markdown",
   "metadata": {},
   "source": [
    "holdout, test unseen pics 60 in total, 30 for each"
   ]
  },
  {
   "cell_type": "code",
   "execution_count": 3,
   "metadata": {},
   "outputs": [
    {
     "name": "stdout",
     "output_type": "stream",
     "text": [
      "60\r\n"
     ]
    }
   ],
   "source": [
    "!ls test_catDog/ |wc -l"
   ]
  },
  {
   "cell_type": "markdown",
   "metadata": {},
   "source": [
    "### 1. generate chopped head "
   ]
  },
  {
   "cell_type": "markdown",
   "metadata": {},
   "source": [
    "#### test:  head size 96, 128, 192, 256*256"
   ]
  },
  {
   "cell_type": "markdown",
   "metadata": {},
   "source": [
    "#### lost how many (not detect faces in pic)"
   ]
  },
  {
   "cell_type": "code",
   "execution_count": 57,
   "metadata": {},
   "outputs": [
    {
     "name": "stdout",
     "output_type": "stream",
     "text": [
      "451\r\n"
     ]
    }
   ],
   "source": [
    "!find catDog_Head_256/ -type f|wc -l"
   ]
  },
  {
   "cell_type": "code",
   "execution_count": 58,
   "metadata": {},
   "outputs": [
    {
     "data": {
      "text/plain": [
       "343"
      ]
     },
     "execution_count": 58,
     "metadata": {},
     "output_type": "execute_result"
    }
   ],
   "source": [
    "794-451"
   ]
  },
  {
   "cell_type": "markdown",
   "metadata": {},
   "source": [
    "lost rate"
   ]
  },
  {
   "cell_type": "code",
   "execution_count": 59,
   "metadata": {},
   "outputs": [
    {
     "data": {
      "text/plain": [
       "0.43198992443324935"
      ]
     },
     "execution_count": 59,
     "metadata": {},
     "output_type": "execute_result"
    }
   ],
   "source": [
    "343/794.0"
   ]
  },
  {
   "cell_type": "markdown",
   "metadata": {},
   "source": [
    "### 2. extract head features to csv\n",
    "\n",
    "\n",
    "### one pic (per row in csv)  is translating to 128 features (per column in csv) by deeplearning model openface trained"
   ]
  },
  {
   "cell_type": "markdown",
   "metadata": {},
   "source": [
    "#### 96, 128, 192, 256"
   ]
  },
  {
   "cell_type": "markdown",
   "metadata": {},
   "source": [
    "#### check feature file dimentions"
   ]
  },
  {
   "cell_type": "code",
   "execution_count": 27,
   "metadata": {
    "collapsed": true
   },
   "outputs": [],
   "source": [
    "import pandas as pd"
   ]
  },
  {
   "cell_type": "code",
   "execution_count": 31,
   "metadata": {},
   "outputs": [
    {
     "data": {
      "text/plain": [
       "(450, 128)"
      ]
     },
     "execution_count": 31,
     "metadata": {},
     "output_type": "execute_result"
    }
   ],
   "source": [
    "f96=pd.read_csv('catDog_data_96/reps.csv', header=None)\n",
    "f96.shape"
   ]
  },
  {
   "cell_type": "code",
   "execution_count": 32,
   "metadata": {},
   "outputs": [
    {
     "data": {
      "text/html": [
       "<div style=\"max-height:1000px;max-width:1500px;overflow:auto;\">\n",
       "<table border=\"1\" class=\"dataframe\">\n",
       "  <thead>\n",
       "    <tr style=\"text-align: right;\">\n",
       "      <th></th>\n",
       "      <th>0</th>\n",
       "      <th>1</th>\n",
       "      <th>2</th>\n",
       "      <th>3</th>\n",
       "      <th>4</th>\n",
       "      <th>5</th>\n",
       "      <th>6</th>\n",
       "      <th>7</th>\n",
       "      <th>8</th>\n",
       "      <th>9</th>\n",
       "      <th>10</th>\n",
       "      <th>11</th>\n",
       "      <th>12</th>\n",
       "      <th>13</th>\n",
       "      <th>14</th>\n",
       "      <th>15</th>\n",
       "      <th>16</th>\n",
       "      <th>17</th>\n",
       "      <th>18</th>\n",
       "      <th>19</th>\n",
       "      <th></th>\n",
       "    </tr>\n",
       "  </thead>\n",
       "  <tbody>\n",
       "    <tr>\n",
       "      <th>0</th>\n",
       "      <td> 0.095006</td>\n",
       "      <td> 0.114895</td>\n",
       "      <td>-0.040929</td>\n",
       "      <td> 0.002802</td>\n",
       "      <td>-0.060583</td>\n",
       "      <td> 0.164475</td>\n",
       "      <td> 0.036179</td>\n",
       "      <td> 0.089683</td>\n",
       "      <td> 0.099084</td>\n",
       "      <td>-0.134550</td>\n",
       "      <td> 0.007068</td>\n",
       "      <td> 0.026751</td>\n",
       "      <td> 0.013505</td>\n",
       "      <td>-0.111769</td>\n",
       "      <td>-0.052792</td>\n",
       "      <td>-0.060445</td>\n",
       "      <td>-0.076484</td>\n",
       "      <td>-0.164740</td>\n",
       "      <td>-0.195195</td>\n",
       "      <td> 0.021376</td>\n",
       "      <td>...</td>\n",
       "    </tr>\n",
       "    <tr>\n",
       "      <th>1</th>\n",
       "      <td> 0.137295</td>\n",
       "      <td> 0.108829</td>\n",
       "      <td>-0.157067</td>\n",
       "      <td> 0.086312</td>\n",
       "      <td> 0.090994</td>\n",
       "      <td> 0.045749</td>\n",
       "      <td> 0.061320</td>\n",
       "      <td>-0.083791</td>\n",
       "      <td>-0.005898</td>\n",
       "      <td>-0.117213</td>\n",
       "      <td> 0.071663</td>\n",
       "      <td> 0.032275</td>\n",
       "      <td> 0.089404</td>\n",
       "      <td>-0.057295</td>\n",
       "      <td>-0.089638</td>\n",
       "      <td> 0.032636</td>\n",
       "      <td> 0.004368</td>\n",
       "      <td> 0.054325</td>\n",
       "      <td>-0.205876</td>\n",
       "      <td> 0.159025</td>\n",
       "      <td>...</td>\n",
       "    </tr>\n",
       "    <tr>\n",
       "      <th>2</th>\n",
       "      <td> 0.025899</td>\n",
       "      <td> 0.033756</td>\n",
       "      <td>-0.033221</td>\n",
       "      <td>-0.065075</td>\n",
       "      <td> 0.099303</td>\n",
       "      <td> 0.007095</td>\n",
       "      <td> 0.003282</td>\n",
       "      <td> 0.076465</td>\n",
       "      <td> 0.109737</td>\n",
       "      <td>-0.108329</td>\n",
       "      <td>-0.025985</td>\n",
       "      <td> 0.073604</td>\n",
       "      <td> 0.063265</td>\n",
       "      <td>-0.058728</td>\n",
       "      <td>-0.041794</td>\n",
       "      <td> 0.000205</td>\n",
       "      <td>-0.045691</td>\n",
       "      <td>-0.025312</td>\n",
       "      <td>-0.307362</td>\n",
       "      <td> 0.104779</td>\n",
       "      <td>...</td>\n",
       "    </tr>\n",
       "    <tr>\n",
       "      <th>3</th>\n",
       "      <td> 0.070520</td>\n",
       "      <td> 0.007260</td>\n",
       "      <td>-0.035757</td>\n",
       "      <td> 0.071901</td>\n",
       "      <td> 0.027261</td>\n",
       "      <td>-0.007601</td>\n",
       "      <td> 0.033085</td>\n",
       "      <td> 0.042394</td>\n",
       "      <td> 0.064380</td>\n",
       "      <td>-0.134384</td>\n",
       "      <td> 0.019899</td>\n",
       "      <td> 0.144023</td>\n",
       "      <td> 0.005666</td>\n",
       "      <td>-0.079865</td>\n",
       "      <td>-0.076105</td>\n",
       "      <td> 0.002645</td>\n",
       "      <td>-0.018480</td>\n",
       "      <td>-0.142820</td>\n",
       "      <td>-0.178851</td>\n",
       "      <td> 0.154239</td>\n",
       "      <td>...</td>\n",
       "    </tr>\n",
       "    <tr>\n",
       "      <th>4</th>\n",
       "      <td> 0.120933</td>\n",
       "      <td> 0.050017</td>\n",
       "      <td>-0.090746</td>\n",
       "      <td> 0.057719</td>\n",
       "      <td> 0.020990</td>\n",
       "      <td> 0.106089</td>\n",
       "      <td> 0.075409</td>\n",
       "      <td> 0.023931</td>\n",
       "      <td> 0.093390</td>\n",
       "      <td>-0.098105</td>\n",
       "      <td> 0.032173</td>\n",
       "      <td> 0.071104</td>\n",
       "      <td> 0.035584</td>\n",
       "      <td>-0.206047</td>\n",
       "      <td>-0.139992</td>\n",
       "      <td> 0.046117</td>\n",
       "      <td>-0.089187</td>\n",
       "      <td>-0.098780</td>\n",
       "      <td>-0.257584</td>\n",
       "      <td> 0.137817</td>\n",
       "      <td>...</td>\n",
       "    </tr>\n",
       "  </tbody>\n",
       "</table>\n",
       "<p>5 rows × 128 columns</p>\n",
       "</div>"
      ],
      "text/plain": [
       "         0         1         2         3         4         5         6   \\\n",
       "0  0.095006  0.114895 -0.040929  0.002802 -0.060583  0.164475  0.036179   \n",
       "1  0.137295  0.108829 -0.157067  0.086312  0.090994  0.045749  0.061320   \n",
       "2  0.025899  0.033756 -0.033221 -0.065075  0.099303  0.007095  0.003282   \n",
       "3  0.070520  0.007260 -0.035757  0.071901  0.027261 -0.007601  0.033085   \n",
       "4  0.120933  0.050017 -0.090746  0.057719  0.020990  0.106089  0.075409   \n",
       "\n",
       "         7         8         9         10        11        12        13  \\\n",
       "0  0.089683  0.099084 -0.134550  0.007068  0.026751  0.013505 -0.111769   \n",
       "1 -0.083791 -0.005898 -0.117213  0.071663  0.032275  0.089404 -0.057295   \n",
       "2  0.076465  0.109737 -0.108329 -0.025985  0.073604  0.063265 -0.058728   \n",
       "3  0.042394  0.064380 -0.134384  0.019899  0.144023  0.005666 -0.079865   \n",
       "4  0.023931  0.093390 -0.098105  0.032173  0.071104  0.035584 -0.206047   \n",
       "\n",
       "         14        15        16        17        18        19      \n",
       "0 -0.052792 -0.060445 -0.076484 -0.164740 -0.195195  0.021376 ...  \n",
       "1 -0.089638  0.032636  0.004368  0.054325 -0.205876  0.159025 ...  \n",
       "2 -0.041794  0.000205 -0.045691 -0.025312 -0.307362  0.104779 ...  \n",
       "3 -0.076105  0.002645 -0.018480 -0.142820 -0.178851  0.154239 ...  \n",
       "4 -0.139992  0.046117 -0.089187 -0.098780 -0.257584  0.137817 ...  \n",
       "\n",
       "[5 rows x 128 columns]"
      ]
     },
     "execution_count": 32,
     "metadata": {},
     "output_type": "execute_result"
    }
   ],
   "source": [
    "f96.head()"
   ]
  },
  {
   "cell_type": "markdown",
   "metadata": {},
   "source": [
    "### 3. train classifier using only SVM in scikit-learn"
   ]
  },
  {
   "cell_type": "markdown",
   "metadata": {},
   "source": [
    "### 4. make prediction on tests , un-train pics "
   ]
  },
  {
   "cell_type": "markdown",
   "metadata": {},
   "source": [
    "### note: out of 60 test pics (30 from each), 21 out of 60 cannot identify head,  yet for the 39 pics with head detected, only 2 misclassification. 2/39 \n",
    "\n",
    "### PS: images saved as 256x256 has better confidence than 96x96\n",
    "\n",
    "### pic name starts with 110814 is actually dog, 131098 is cat"
   ]
  },
  {
   "cell_type": "markdown",
   "metadata": {},
   "source": [
    "96"
   ]
  },
  {
   "cell_type": "code",
   "execution_count": 53,
   "metadata": {},
   "outputs": [
    {
     "name": "stdout",
     "output_type": "stream",
     "text": [
      "/root/.local/lib/python2.7/site-packages/sklearn/lda.py:4: DeprecationWarning: lda.LDA has been moved to discriminant_analysis.LinearDiscriminantAnalysis in 0.17 and will be removed in 0.19\n",
      "  \"in 0.17 and will be removed in 0.19\", DeprecationWarning)\n",
      "\n",
      "=== test_catDog/110814_0.jpg ===\n",
      "Predict dog with 0.94 confidence.\n",
      "\n",
      "=== test_catDog/110814_104.jpg ===\n",
      "Predict dog with 0.99 confidence.\n",
      "\n",
      "=== test_catDog/110814_118.jpg ===\n",
      "cannot find even one face in the picture\n",
      "\n",
      "=== test_catDog/110814_133.jpg ===\n",
      "Predict cat with 0.76 confidence.\n",
      "\n",
      "=== test_catDog/110814_152.jpg ===\n",
      "Predict dog with 1.00 confidence.\n",
      "\n",
      "=== test_catDog/110814_163.jpg ===\n",
      "Predict dog with 0.91 confidence.\n",
      "\n",
      "=== test_catDog/110814_18.jpg ===\n",
      "cannot find even one face in the picture\n",
      "\n",
      "=== test_catDog/110814_181.jpg ===\n",
      "cannot find even one face in the picture\n",
      "\n",
      "=== test_catDog/110814_211.jpg ===\n",
      "Predict dog with 1.00 confidence.\n",
      "\n",
      "=== test_catDog/110814_221.jpg ===\n",
      "cannot find even one face in the picture\n",
      "\n",
      "=== test_catDog/110814_223.jpg ===\n",
      "Predict dog with 1.00 confidence.\n",
      "\n",
      "=== test_catDog/110814_249.jpg ===\n",
      "Predict dog with 1.00 confidence.\n",
      "\n",
      "=== test_catDog/110814_253.jpg ===\n",
      "Predict dog with 0.97 confidence.\n",
      "\n",
      "=== test_catDog/110814_278.jpg ===\n",
      "Predict dog with 1.00 confidence.\n",
      "\n",
      "=== test_catDog/110814_287.jpg ===\n",
      "Predict dog with 1.00 confidence.\n",
      "\n",
      "=== test_catDog/110814_306.jpg ===\n",
      "Predict dog with 0.98 confidence.\n",
      "\n",
      "=== test_catDog/110814_332.jpg ===\n",
      "cannot find even one face in the picture\n",
      "\n",
      "=== test_catDog/110814_376.jpg ===\n",
      "Predict dog with 1.00 confidence.\n",
      "\n",
      "=== test_catDog/110814_383.jpg ===\n",
      "Predict dog with 0.99 confidence.\n",
      "\n",
      "=== test_catDog/110814_423.jpg ===\n",
      "cannot find even one face in the picture\n",
      "\n",
      "=== test_catDog/110814_432.jpg ===\n",
      "cannot find even one face in the picture\n",
      "\n",
      "=== test_catDog/110814_441.jpg ===\n",
      "cannot find even one face in the picture\n",
      "\n",
      "=== test_catDog/110814_447.jpg ===\n",
      "Predict dog with 1.00 confidence.\n",
      "\n",
      "=== test_catDog/110814_45.jpg ===\n",
      "Predict dog with 1.00 confidence.\n",
      "\n",
      "=== test_catDog/110814_61.jpg ===\n",
      "Predict dog with 1.00 confidence.\n",
      "\n",
      "=== test_catDog/110814_66.jpg ===\n",
      "Predict dog with 1.00 confidence.\n",
      "\n",
      "=== test_catDog/110814_79.jpg ===\n",
      "Predict dog with 1.00 confidence.\n",
      "\n",
      "=== test_catDog/110814_80.jpg ===\n",
      "Predict dog with 1.00 confidence.\n",
      "\n",
      "=== test_catDog/110814_9.jpg ===\n",
      "Predict dog with 0.87 confidence.\n",
      "\n",
      "=== test_catDog/110814_92.jpg ===\n",
      "cannot find even one face in the picture\n",
      "\n",
      "=== test_catDog/131098_101.jpg ===\n",
      "cannot find even one face in the picture\n",
      "\n",
      "=== test_catDog/131098_117.jpg ===\n",
      "Predict cat with 1.00 confidence.\n",
      "\n",
      "=== test_catDog/131098_12.jpg ===\n",
      "cannot find even one face in the picture\n",
      "\n",
      "=== test_catDog/131098_137.jpg ===\n",
      "Predict cat with 0.98 confidence.\n",
      "\n",
      "=== test_catDog/131098_144.jpg ===\n",
      "cannot find even one face in the picture\n",
      "\n",
      "=== test_catDog/131098_148.jpg ===\n",
      "Predict cat with 1.00 confidence.\n",
      "\n",
      "=== test_catDog/131098_166.jpg ===\n",
      "cannot find even one face in the picture\n",
      "\n",
      "=== test_catDog/131098_173.jpg ===\n",
      "Predict cat with 1.00 confidence.\n",
      "\n",
      "=== test_catDog/131098_175.jpg ===\n",
      "Predict dog with 0.65 confidence.\n",
      "\n",
      "=== test_catDog/131098_198.jpg ===\n",
      "Predict cat with 0.99 confidence.\n",
      "\n",
      "=== test_catDog/131098_205.jpg ===\n",
      "cannot find even one face in the picture\n",
      "\n",
      "=== test_catDog/131098_216.jpg ===\n",
      "Predict cat with 0.72 confidence.\n",
      "\n",
      "=== test_catDog/131098_226.jpg ===\n",
      "Predict cat with 0.96 confidence.\n",
      "\n",
      "=== test_catDog/131098_235.jpg ===\n",
      "cannot find even one face in the picture\n",
      "\n",
      "=== test_catDog/131098_236.jpg ===\n",
      "cannot find even one face in the picture\n",
      "\n",
      "=== test_catDog/131098_27.jpg ===\n",
      "cannot find even one face in the picture\n",
      "\n",
      "=== test_catDog/131098_273.jpg ===\n",
      "cannot find even one face in the picture\n",
      "\n",
      "=== test_catDog/131098_274.jpg ===\n",
      "cannot find even one face in the picture\n",
      "\n",
      "=== test_catDog/131098_301.jpg ===\n",
      "cannot find even one face in the picture\n",
      "\n",
      "=== test_catDog/131098_314.jpg ===\n",
      "Predict cat with 1.00 confidence.\n",
      "\n",
      "=== test_catDog/131098_337.jpg ===\n",
      "Predict cat with 0.99 confidence.\n",
      "\n",
      "=== test_catDog/131098_350.jpg ===\n",
      "cannot find even one face in the picture\n",
      "\n",
      "=== test_catDog/131098_351.jpg ===\n",
      "Predict cat with 0.98 confidence.\n",
      "\n",
      "=== test_catDog/131098_392.jpg ===\n",
      "Predict cat with 0.92 confidence.\n",
      "\n",
      "=== test_catDog/131098_405.jpg ===\n",
      "Predict cat with 0.90 confidence.\n",
      "\n",
      "=== test_catDog/131098_52.jpg ===\n",
      "Predict cat with 1.00 confidence.\n",
      "\n",
      "=== test_catDog/131098_7.jpg ===\n",
      "Predict cat with 0.65 confidence.\n",
      "\n",
      "=== test_catDog/131098_70.jpg ===\n",
      "Predict cat with 0.98 confidence.\n",
      "\n",
      "=== test_catDog/131098_88.jpg ===\n",
      "Predict cat with 1.00 confidence.\n",
      "\n",
      "=== test_catDog/131098_99.jpg ===\n",
      "Predict cat with 0.89 confidence.\n",
      "CPU times: user 272 ms, sys: 80 ms, total: 352 ms\n",
      "Wall time: 14 s\n"
     ]
    }
   ],
   "source": [
    "%%time\n",
    "!/root/openface/demos/classifier.py \\\n",
    "infer ./catDog_data_96/classifier.pkl \\\n",
    "test_catDog/*"
   ]
  },
  {
   "cell_type": "markdown",
   "metadata": {},
   "source": [
    "256"
   ]
  },
  {
   "cell_type": "code",
   "execution_count": 56,
   "metadata": {},
   "outputs": [
    {
     "name": "stdout",
     "output_type": "stream",
     "text": [
      "/root/.local/lib/python2.7/site-packages/sklearn/lda.py:4: DeprecationWarning: lda.LDA has been moved to discriminant_analysis.LinearDiscriminantAnalysis in 0.17 and will be removed in 0.19\n",
      "  \"in 0.17 and will be removed in 0.19\", DeprecationWarning)\n",
      "\n",
      "=== test_catDog/110814_0.jpg ===\n",
      "Predict dog with 0.93 confidence.\n",
      "\n",
      "=== test_catDog/110814_104.jpg ===\n",
      "Predict dog with 0.99 confidence.\n",
      "\n",
      "=== test_catDog/110814_118.jpg ===\n",
      "cannot find even one face in the picture\n",
      "\n",
      "=== test_catDog/110814_133.jpg ===\n",
      "Predict cat with 0.67 confidence.\n",
      "\n",
      "=== test_catDog/110814_152.jpg ===\n",
      "Predict dog with 1.00 confidence.\n",
      "\n",
      "=== test_catDog/110814_163.jpg ===\n",
      "Predict dog with 0.88 confidence.\n",
      "\n",
      "=== test_catDog/110814_18.jpg ===\n",
      "cannot find even one face in the picture\n",
      "\n",
      "=== test_catDog/110814_181.jpg ===\n",
      "cannot find even one face in the picture\n",
      "\n",
      "=== test_catDog/110814_211.jpg ===\n",
      "Predict dog with 1.00 confidence.\n",
      "\n",
      "=== test_catDog/110814_221.jpg ===\n",
      "cannot find even one face in the picture\n",
      "\n",
      "=== test_catDog/110814_223.jpg ===\n",
      "Predict dog with 1.00 confidence.\n",
      "\n",
      "=== test_catDog/110814_249.jpg ===\n",
      "Predict dog with 1.00 confidence.\n",
      "\n",
      "=== test_catDog/110814_253.jpg ===\n",
      "Predict dog with 0.98 confidence.\n",
      "\n",
      "=== test_catDog/110814_278.jpg ===\n",
      "Predict dog with 1.00 confidence.\n",
      "\n",
      "=== test_catDog/110814_287.jpg ===\n",
      "Predict dog with 1.00 confidence.\n",
      "\n",
      "=== test_catDog/110814_306.jpg ===\n",
      "Predict dog with 0.98 confidence.\n",
      "\n",
      "=== test_catDog/110814_332.jpg ===\n",
      "cannot find even one face in the picture\n",
      "\n",
      "=== test_catDog/110814_376.jpg ===\n",
      "Predict dog with 1.00 confidence.\n",
      "\n",
      "=== test_catDog/110814_383.jpg ===\n",
      "Predict dog with 0.99 confidence.\n",
      "\n",
      "=== test_catDog/110814_423.jpg ===\n",
      "cannot find even one face in the picture\n",
      "\n",
      "=== test_catDog/110814_432.jpg ===\n",
      "cannot find even one face in the picture\n",
      "\n",
      "=== test_catDog/110814_441.jpg ===\n",
      "cannot find even one face in the picture\n",
      "\n",
      "=== test_catDog/110814_447.jpg ===\n",
      "Predict dog with 1.00 confidence.\n",
      "\n",
      "=== test_catDog/110814_45.jpg ===\n",
      "Predict dog with 1.00 confidence.\n",
      "\n",
      "=== test_catDog/110814_61.jpg ===\n",
      "Predict dog with 1.00 confidence.\n",
      "\n",
      "=== test_catDog/110814_66.jpg ===\n",
      "Predict dog with 1.00 confidence.\n",
      "\n",
      "=== test_catDog/110814_79.jpg ===\n",
      "Predict dog with 1.00 confidence.\n",
      "\n",
      "=== test_catDog/110814_80.jpg ===\n",
      "Predict dog with 1.00 confidence.\n",
      "\n",
      "=== test_catDog/110814_9.jpg ===\n",
      "Predict dog with 0.80 confidence.\n",
      "\n",
      "=== test_catDog/110814_92.jpg ===\n",
      "cannot find even one face in the picture\n",
      "\n",
      "=== test_catDog/131098_101.jpg ===\n",
      "cannot find even one face in the picture\n",
      "\n",
      "=== test_catDog/131098_117.jpg ===\n",
      "Predict cat with 1.00 confidence.\n",
      "\n",
      "=== test_catDog/131098_12.jpg ===\n",
      "cannot find even one face in the picture\n",
      "\n",
      "=== test_catDog/131098_137.jpg ===\n",
      "Predict cat with 0.97 confidence.\n",
      "\n",
      "=== test_catDog/131098_144.jpg ===\n",
      "cannot find even one face in the picture\n",
      "\n",
      "=== test_catDog/131098_148.jpg ===\n",
      "Predict cat with 1.00 confidence.\n",
      "\n",
      "=== test_catDog/131098_166.jpg ===\n",
      "cannot find even one face in the picture\n",
      "\n",
      "=== test_catDog/131098_173.jpg ===\n",
      "Predict cat with 1.00 confidence.\n",
      "\n",
      "=== test_catDog/131098_175.jpg ===\n",
      "Predict dog with 0.54 confidence.\n",
      "\n",
      "=== test_catDog/131098_198.jpg ===\n",
      "Predict cat with 0.99 confidence.\n",
      "\n",
      "=== test_catDog/131098_205.jpg ===\n",
      "cannot find even one face in the picture\n",
      "\n",
      "=== test_catDog/131098_216.jpg ===\n",
      "Predict cat with 0.64 confidence.\n",
      "\n",
      "=== test_catDog/131098_226.jpg ===\n",
      "Predict cat with 0.95 confidence.\n",
      "\n",
      "=== test_catDog/131098_235.jpg ===\n",
      "cannot find even one face in the picture\n",
      "\n",
      "=== test_catDog/131098_236.jpg ===\n",
      "cannot find even one face in the picture\n",
      "\n",
      "=== test_catDog/131098_27.jpg ===\n",
      "cannot find even one face in the picture\n",
      "\n",
      "=== test_catDog/131098_273.jpg ===\n",
      "cannot find even one face in the picture\n",
      "\n",
      "=== test_catDog/131098_274.jpg ===\n",
      "cannot find even one face in the picture\n",
      "\n",
      "=== test_catDog/131098_301.jpg ===\n",
      "cannot find even one face in the picture\n",
      "\n",
      "=== test_catDog/131098_314.jpg ===\n",
      "Predict cat with 1.00 confidence.\n",
      "\n",
      "=== test_catDog/131098_337.jpg ===\n",
      "Predict cat with 0.98 confidence.\n",
      "\n",
      "=== test_catDog/131098_350.jpg ===\n",
      "cannot find even one face in the picture\n",
      "\n",
      "=== test_catDog/131098_351.jpg ===\n",
      "Predict cat with 0.98 confidence.\n",
      "\n",
      "=== test_catDog/131098_392.jpg ===\n",
      "Predict cat with 0.90 confidence.\n",
      "\n",
      "=== test_catDog/131098_405.jpg ===\n",
      "Predict cat with 0.92 confidence.\n",
      "\n",
      "=== test_catDog/131098_52.jpg ===\n",
      "Predict cat with 1.00 confidence.\n",
      "\n",
      "=== test_catDog/131098_7.jpg ===\n",
      "Predict cat with 0.70 confidence.\n",
      "\n",
      "=== test_catDog/131098_70.jpg ===\n",
      "Predict cat with 0.97 confidence.\n",
      "\n",
      "=== test_catDog/131098_88.jpg ===\n",
      "Predict cat with 1.00 confidence.\n",
      "\n",
      "=== test_catDog/131098_99.jpg ===\n",
      "Predict cat with 0.88 confidence.\n",
      "CPU times: user 268 ms, sys: 72 ms, total: 340 ms\n",
      "Wall time: 13.8 s\n"
     ]
    }
   ],
   "source": [
    "%%time\n",
    "!/root/openface/demos/classifier.py \\\n",
    "infer ./catDog_data_256/classifier.pkl \\\n",
    "test_catDog/*"
   ]
  },
  {
   "cell_type": "code",
   "execution_count": null,
   "metadata": {
    "collapsed": true
   },
   "outputs": [],
   "source": []
  }
 ],
 "metadata": {
  "kernelspec": {
   "display_name": "Python 2",
   "language": "python",
   "name": "python2"
  },
  "language_info": {
   "codemirror_mode": {
    "name": "ipython",
    "version": 2
   },
   "file_extension": ".py",
   "mimetype": "text/x-python",
   "name": "python",
   "nbconvert_exporter": "python",
   "pygments_lexer": "ipython2",
   "version": "2.7.6"
  }
 },
 "nbformat": 4,
 "nbformat_minor": 2
}
