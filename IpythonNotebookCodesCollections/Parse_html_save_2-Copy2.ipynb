{
 "cells": [
  {
   "cell_type": "markdown",
   "metadata": {},
   "source": [
    "https://hub.docker.com/r/sath89/oracle-12c/"
   ]
  },
  {
   "cell_type": "markdown",
   "metadata": {
    "collapsed": true
   },
   "source": [
    "https://hub.docker.com/_/mysql/"
   ]
  },
  {
   "cell_type": "markdown",
   "metadata": {},
   "source": [
    "https://stackoverflow.com/questions/8858008/how-to-move-a-file-in-python"
   ]
  },
  {
   "cell_type": "markdown",
   "metadata": {},
   "source": [
    "https://stackoverflow.com/questions/1894269/convert-string-representation-of-list-to-list-in-python"
   ]
  },
  {
   "cell_type": "code",
   "execution_count": 1,
   "metadata": {},
   "outputs": [
    {
     "name": "stdout",
     "output_type": "stream",
     "text": [
      "add_bidder\t      old\r\n",
      "addbidder.csv\t      Parse_html_save_2.ipynb\r\n",
      "addbidderPics\t      Parse_html_save.ipynb\r\n",
      "addbidder_urls.csv    Parse_html_save_parse_NoJson.ipynb\r\n",
      "addboss.csv\t      Parse_html_Stat-add1.ipynb\r\n",
      "addbossPics\t      Parse_html_Stat-add2-Copy1.ipynb\r\n",
      "addboss_urls.csv      Parse_html_Stat-add2.ipynb\r\n",
      "add_owner\t      Parse_html_Stat-Copy1.ipynb\r\n",
      "addtional\t      Parse_html_Stat.ipynb\r\n",
      "bidder1.csv\t      Parse_html_V5.ipynb\r\n",
      "bidderPics\t      parse.ipynb\r\n",
      "bidder_urls.csv       pic_down_func-add1.ipynb\r\n",
      "bid_pages2\t      pic_down_func-add2.ipynb\r\n",
      "boss1.csv\t      pic_down_func_bidder.ipynb\r\n",
      "boss1Data.csv\t      pic_down_func.ipynb\r\n",
      "boss1Data_Nojson.csv  picDown.py\r\n",
      "bossPics\t      picDown.pyc\r\n",
      "boss_urls.csv\t      pic_down_report.ipynb\r\n",
      "data\t\t      pic_report.ipynb\r\n",
      "emp_pages4\t      PicsWithFace.zip\r\n",
      "freelancer.py\t      recIpython\r\n",
      "headPics\t      Tensorflow\r\n"
     ]
    }
   ],
   "source": [
    "!ls"
   ]
  },
  {
   "cell_type": "code",
   "execution_count": 1,
   "metadata": {
    "collapsed": true
   },
   "outputs": [],
   "source": [
    "# encoding=utf8\n",
    "import sys\n",
    "reload(sys)\n",
    "sys.setdefaultencoding('utf8')\n",
    "\n",
    "import pandas as pd\n",
    "import os\n",
    "from time import time, ctime\n",
    "\n",
    "import concurrent.futures\n",
    "\n",
    "from lxml import etree\n",
    "import json\n",
    "import re\n",
    "\n",
    "import ast"
   ]
  },
  {
   "cell_type": "code",
   "execution_count": 2,
   "metadata": {},
   "outputs": [
    {
     "data": {
      "text/plain": [
       "64764"
      ]
     },
     "execution_count": 2,
     "metadata": {},
     "output_type": "execute_result"
    }
   ],
   "source": [
    "# path='technosystem.html'\n",
    "\n",
    "folder='add_bidder/'\n",
    "cont = os.listdir(folder)\n",
    "cont = [i for i in cont if i[-4:]=='html']\n",
    "len(cont)"
   ]
  },
  {
   "cell_type": "code",
   "execution_count": 3,
   "metadata": {
    "collapsed": true
   },
   "outputs": [],
   "source": [
    "def flatten_dict(data, layers=1, drop_deeper=False):\n",
    "\n",
    "        for _ in range(layers):\n",
    "            data = [(k, v) if not isinstance(v, dict) else [(k + '.' + k2, v2) for k2, v2 in v.items()] for k, v in\n",
    "                    data.items()]\n",
    "            data = [item for sublist in data for item in sublist if isinstance(sublist, list)] + [y for y in data if\n",
    "                                                                                                  not isinstance(y,\n",
    "                                                                                                                 list)]\n",
    "            data = dict(data)\n",
    "\n",
    "        if drop_deeper:\n",
    "            data = {k: v for k, v in data.items() if not isinstance(v, dict) or isinstance(v, list)}\n",
    "\n",
    "        return data"
   ]
  },
  {
   "cell_type": "code",
   "execution_count": 4,
   "metadata": {
    "collapsed": true
   },
   "outputs": [],
   "source": [
    "df = pd.read_csv('boss1.csv').set_index('name')\n"
   ]
  },
  {
   "cell_type": "code",
   "execution_count": 5,
   "metadata": {
    "collapsed": true
   },
   "outputs": [],
   "source": [
    "from collections import defaultdict\n",
    "iniDict = defaultdict(lambda: None)"
   ]
  },
  {
   "cell_type": "code",
   "execution_count": 6,
   "metadata": {},
   "outputs": [
    {
     "data": {
      "text/plain": [
       "73"
      ]
     },
     "execution_count": 6,
     "metadata": {},
     "output_type": "execute_result"
    }
   ],
   "source": [
    "for i in list(df.index):\n",
    "    iniDict[i]\n",
    "len(iniDict)"
   ]
  },
  {
   "cell_type": "code",
   "execution_count": 7,
   "metadata": {},
   "outputs": [
    {
     "data": {
      "text/plain": [
       "(0, 73)"
      ]
     },
     "execution_count": 7,
     "metadata": {},
     "output_type": "execute_result"
    }
   ],
   "source": [
    "initial = pd.DataFrame(columns=list(df.index))\n",
    "initial.shape"
   ]
  },
  {
   "cell_type": "code",
   "execution_count": 8,
   "metadata": {
    "collapsed": true
   },
   "outputs": [],
   "source": [
    "failed_names=[]\n",
    "def get_columns(path):\n",
    "    global failed_names\n",
    "    get=[]\n",
    "    \n",
    "    with open(folder+path,'r') as fl:\n",
    "        text=fl.read()\n",
    "        tree=etree.HTML(text)\n",
    "    try:\n",
    "        script = tree.xpath('//script')[-1]\n",
    "        data = re.search(r\"__export\\('profileServerData',(.*?)\\n\", script.text)        \n",
    "        jsondata=data.group(1)[:-2]\n",
    "        \n",
    "        json_dict = json.loads(jsondata)\n",
    "        flat = flatten_dict(json_dict, layers=1)\n",
    "        for i in flat:\n",
    "            iniDict[i]=str(flat[i])\n",
    "        return pd.DataFrame(iniDict, index=[0])\n",
    "            \n",
    "#         return pd.DataFrame(iniDict, index=[0])\n",
    "#         names = flat.keys()\n",
    "        return flat\n",
    "    except Exception as e:\n",
    "        print e\n",
    "        failed_names.append(path)\n",
    "        return initial\n",
    "        \n",
    "\n",
    "    "
   ]
  },
  {
   "cell_type": "code",
   "execution_count": 9,
   "metadata": {},
   "outputs": [
    {
     "data": {
      "text/plain": [
       "<function ast.literal_eval>"
      ]
     },
     "execution_count": 9,
     "metadata": {},
     "output_type": "execute_result"
    }
   ],
   "source": [
    "ast.literal_eval"
   ]
  },
  {
   "cell_type": "code",
   "execution_count": 10,
   "metadata": {},
   "outputs": [
    {
     "data": {
      "text/plain": [
       "'used 0.00 s'"
      ]
     },
     "execution_count": 10,
     "metadata": {},
     "output_type": "execute_result"
    }
   ],
   "source": [
    "sss=time()\n",
    "'used {:.2f} s'.format(time()-sss)"
   ]
  },
  {
   "cell_type": "code",
   "execution_count": null,
   "metadata": {
    "collapsed": true
   },
   "outputs": [],
   "source": [
    "sss=time()\n",
    "start = initial.copy()\n",
    "for i in cont:\n",
    "    tmp = get_columns(i)\n",
    "    start = start.append(tmp)\n",
    "start = start.reset_index().drop('index',1)\n",
    "'used {:.2f} s'.format(time()-sss)    "
   ]
  },
  {
   "cell_type": "code",
   "execution_count": 12,
   "metadata": {},
   "outputs": [
    {
     "data": {
      "text/plain": [
       "[]"
      ]
     },
     "execution_count": 12,
     "metadata": {},
     "output_type": "execute_result"
    }
   ],
   "source": [
    "failed_names"
   ]
  },
  {
   "cell_type": "code",
   "execution_count": 27,
   "metadata": {
    "collapsed": true
   },
   "outputs": [],
   "source": [
    "start = start.reset_index().drop('index',1)"
   ]
  },
  {
   "cell_type": "code",
   "execution_count": 15,
   "metadata": {
    "collapsed": true
   },
   "outputs": [],
   "source": [
    "start.to_csv('addbidderData.csv',index=False)"
   ]
  },
  {
   "cell_type": "code",
   "execution_count": 16,
   "metadata": {},
   "outputs": [
    {
     "data": {
      "text/plain": [
       "(64764, 73)"
      ]
     },
     "execution_count": 16,
     "metadata": {},
     "output_type": "execute_result"
    }
   ],
   "source": [
    "df = pd.read_csv('addbidderData.csv')\n",
    "df.shape"
   ]
  },
  {
   "cell_type": "code",
   "execution_count": 34,
   "metadata": {
    "collapsed": true
   },
   "outputs": [],
   "source": [
    "!ll -h"
   ]
  },
  {
   "cell_type": "code",
   "execution_count": 13,
   "metadata": {},
   "outputs": [
    {
     "data": {
      "text/plain": [
       "(64764, 73)"
      ]
     },
     "execution_count": 13,
     "metadata": {},
     "output_type": "execute_result"
    }
   ],
   "source": [
    "start.shape"
   ]
  },
  {
   "cell_type": "code",
   "execution_count": 14,
   "metadata": {},
   "outputs": [
    {
     "data": {
      "text/html": [
       "<div>\n",
       "<style>\n",
       "    .dataframe thead tr:only-child th {\n",
       "        text-align: right;\n",
       "    }\n",
       "\n",
       "    .dataframe thead th {\n",
       "        text-align: left;\n",
       "    }\n",
       "\n",
       "    .dataframe tbody tr th {\n",
       "        vertical-align: top;\n",
       "    }\n",
       "</style>\n",
       "<table border=\"1\" class=\"dataframe\">\n",
       "  <thead>\n",
       "    <tr style=\"text-align: right;\">\n",
       "      <th></th>\n",
       "      <th>abTests</th>\n",
       "      <th>about.account_balances</th>\n",
       "      <th>about.address</th>\n",
       "      <th>about.avatar</th>\n",
       "      <th>about.avatar_cdn</th>\n",
       "      <th>about.avatar_large</th>\n",
       "      <th>about.avatar_large_cdn</th>\n",
       "      <th>about.badges</th>\n",
       "      <th>about.chosen_role</th>\n",
       "      <th>about.closed</th>\n",
       "      <th>...</th>\n",
       "      <th>resume.education</th>\n",
       "      <th>resume.exams</th>\n",
       "      <th>resume.experience</th>\n",
       "      <th>resume.publications</th>\n",
       "      <th>resume.show</th>\n",
       "      <th>skills</th>\n",
       "      <th>timeOffset</th>\n",
       "      <th>userId</th>\n",
       "      <th>username</th>\n",
       "      <th>viewer</th>\n",
       "    </tr>\n",
       "  </thead>\n",
       "  <tbody>\n",
       "    <tr>\n",
       "      <th>0</th>\n",
       "      <td>[]</td>\n",
       "      <td>None</td>\n",
       "      <td>None</td>\n",
       "      <td>/ppic/94299145/logo/10231398/profile_logo_1023...</td>\n",
       "      <td>//cdn5.f-cdn.com/ppic/94299145/logo/10231398/p...</td>\n",
       "      <td>/ppic/94299034/logo/10231398/HzcgL/profile_log...</td>\n",
       "      <td>//cdn5.f-cdn.com/ppic/94299034/logo/10231398/H...</td>\n",
       "      <td>None</td>\n",
       "      <td>1</td>\n",
       "      <td>False</td>\n",
       "      <td>...</td>\n",
       "      <td>[{u'activities': None, u'start_year': u'1994',...</td>\n",
       "      <td>[]</td>\n",
       "      <td>[{u'year_interval': u'-2011', u'month_interval...</td>\n",
       "      <td>[]</td>\n",
       "      <td>True</td>\n",
       "      <td>[{u'usages': 0, u'seo_url': u'php', u'islocal'...</td>\n",
       "      <td>300</td>\n",
       "      <td>10231398</td>\n",
       "      <td>ibrahimnizamani</td>\n",
       "      <td>0</td>\n",
       "    </tr>\n",
       "    <tr>\n",
       "      <th>1</th>\n",
       "      <td>[]</td>\n",
       "      <td>None</td>\n",
       "      <td>None</td>\n",
       "      <td>/ppic/57305096/logo/4273261/profile_logo_42732...</td>\n",
       "      <td>//cdn6.f-cdn.com/ppic/57305096/logo/4273261/pr...</td>\n",
       "      <td>/ppic/57304996/logo/4273261/061ZT/profile_logo...</td>\n",
       "      <td>//cdn5.f-cdn.com/ppic/57304996/logo/4273261/06...</td>\n",
       "      <td>None</td>\n",
       "      <td>1</td>\n",
       "      <td>False</td>\n",
       "      <td>...</td>\n",
       "      <td>[{u'activities': None, u'start_year': u'2008',...</td>\n",
       "      <td>[{u'examEnabled': u'1', u'description': u'C# 1...</td>\n",
       "      <td>[{u'year_interval': u'-2013', u'month_interval...</td>\n",
       "      <td>[]</td>\n",
       "      <td>True</td>\n",
       "      <td>[{u'usages': 9, u'seo_url': u'c_sharp_programm...</td>\n",
       "      <td>330</td>\n",
       "      <td>4273261</td>\n",
       "      <td>sumeetshah90</td>\n",
       "      <td>0</td>\n",
       "    </tr>\n",
       "    <tr>\n",
       "      <th>2</th>\n",
       "      <td>[]</td>\n",
       "      <td>None</td>\n",
       "      <td>None</td>\n",
       "      <td>/ppic/69966705/logo/13517925/profile_logo_1351...</td>\n",
       "      <td>//cdn2.f-cdn.com/ppic/69966705/logo/13517925/p...</td>\n",
       "      <td>/ppic/69966601/logo/13517925/NzpbG/profile_log...</td>\n",
       "      <td>//cdn3.f-cdn.com/ppic/69966601/logo/13517925/N...</td>\n",
       "      <td>None</td>\n",
       "      <td>1</td>\n",
       "      <td>False</td>\n",
       "      <td>...</td>\n",
       "      <td>[]</td>\n",
       "      <td>[]</td>\n",
       "      <td>[]</td>\n",
       "      <td>[]</td>\n",
       "      <td>False</td>\n",
       "      <td>[{u'usages': 0, u'seo_url': u'javascript', u'i...</td>\n",
       "      <td>60</td>\n",
       "      <td>13517925</td>\n",
       "      <td>profftech</td>\n",
       "      <td>0</td>\n",
       "    </tr>\n",
       "    <tr>\n",
       "      <th>3</th>\n",
       "      <td>[]</td>\n",
       "      <td>None</td>\n",
       "      <td>None</td>\n",
       "      <td>/ppic/56711206/logo/615612/profile_logo_615612...</td>\n",
       "      <td>//cdn5.f-cdn.com/ppic/56711206/logo/615612/pro...</td>\n",
       "      <td>/ppic/56711125/logo/615612/Y9qnB/profile_logo_...</td>\n",
       "      <td>//cdn2.f-cdn.com/ppic/56711125/logo/615612/Y9q...</td>\n",
       "      <td>None</td>\n",
       "      <td>1</td>\n",
       "      <td>False</td>\n",
       "      <td>...</td>\n",
       "      <td>[{u'activities': None, u'start_year': u'1998',...</td>\n",
       "      <td>[{u'examEnabled': u'1', u'description': u'Nume...</td>\n",
       "      <td>[{u'year_interval': u'-2013', u'month_interval...</td>\n",
       "      <td>[]</td>\n",
       "      <td>True</td>\n",
       "      <td>[{u'usages': 54, u'seo_url': u'metatrader', u'...</td>\n",
       "      <td>420</td>\n",
       "      <td>615612</td>\n",
       "      <td>fastcoder3000</td>\n",
       "      <td>0</td>\n",
       "    </tr>\n",
       "    <tr>\n",
       "      <th>4</th>\n",
       "      <td>[]</td>\n",
       "      <td>None</td>\n",
       "      <td>None</td>\n",
       "      <td>/ppic/1273745/logo/2093289/profile_logo_209328...</td>\n",
       "      <td>//cdn6.f-cdn.com/ppic/1273745/logo/2093289/pro...</td>\n",
       "      <td>/ppic/1273744/logo/2093289/mayur3.png</td>\n",
       "      <td>//cdn6.f-cdn.com/ppic/1273744/logo/2093289/may...</td>\n",
       "      <td>None</td>\n",
       "      <td>1</td>\n",
       "      <td>False</td>\n",
       "      <td>...</td>\n",
       "      <td>[{u'activities': None, u'start_year': u'2005',...</td>\n",
       "      <td>[]</td>\n",
       "      <td>[]</td>\n",
       "      <td>[]</td>\n",
       "      <td>True</td>\n",
       "      <td>[{u'usages': 2, u'seo_url': u'dot_net', u'islo...</td>\n",
       "      <td>540</td>\n",
       "      <td>2093289</td>\n",
       "      <td>mayurunagar</td>\n",
       "      <td>0</td>\n",
       "    </tr>\n",
       "  </tbody>\n",
       "</table>\n",
       "<p>5 rows × 73 columns</p>\n",
       "</div>"
      ],
      "text/plain": [
       "  abTests about.account_balances about.address  \\\n",
       "0      []                   None          None   \n",
       "1      []                   None          None   \n",
       "2      []                   None          None   \n",
       "3      []                   None          None   \n",
       "4      []                   None          None   \n",
       "\n",
       "                                        about.avatar  \\\n",
       "0  /ppic/94299145/logo/10231398/profile_logo_1023...   \n",
       "1  /ppic/57305096/logo/4273261/profile_logo_42732...   \n",
       "2  /ppic/69966705/logo/13517925/profile_logo_1351...   \n",
       "3  /ppic/56711206/logo/615612/profile_logo_615612...   \n",
       "4  /ppic/1273745/logo/2093289/profile_logo_209328...   \n",
       "\n",
       "                                    about.avatar_cdn  \\\n",
       "0  //cdn5.f-cdn.com/ppic/94299145/logo/10231398/p...   \n",
       "1  //cdn6.f-cdn.com/ppic/57305096/logo/4273261/pr...   \n",
       "2  //cdn2.f-cdn.com/ppic/69966705/logo/13517925/p...   \n",
       "3  //cdn5.f-cdn.com/ppic/56711206/logo/615612/pro...   \n",
       "4  //cdn6.f-cdn.com/ppic/1273745/logo/2093289/pro...   \n",
       "\n",
       "                                  about.avatar_large  \\\n",
       "0  /ppic/94299034/logo/10231398/HzcgL/profile_log...   \n",
       "1  /ppic/57304996/logo/4273261/061ZT/profile_logo...   \n",
       "2  /ppic/69966601/logo/13517925/NzpbG/profile_log...   \n",
       "3  /ppic/56711125/logo/615612/Y9qnB/profile_logo_...   \n",
       "4              /ppic/1273744/logo/2093289/mayur3.png   \n",
       "\n",
       "                              about.avatar_large_cdn about.badges  \\\n",
       "0  //cdn5.f-cdn.com/ppic/94299034/logo/10231398/H...         None   \n",
       "1  //cdn5.f-cdn.com/ppic/57304996/logo/4273261/06...         None   \n",
       "2  //cdn3.f-cdn.com/ppic/69966601/logo/13517925/N...         None   \n",
       "3  //cdn2.f-cdn.com/ppic/56711125/logo/615612/Y9q...         None   \n",
       "4  //cdn6.f-cdn.com/ppic/1273744/logo/2093289/may...         None   \n",
       "\n",
       "  about.chosen_role about.closed  ...    \\\n",
       "0                 1        False  ...     \n",
       "1                 1        False  ...     \n",
       "2                 1        False  ...     \n",
       "3                 1        False  ...     \n",
       "4                 1        False  ...     \n",
       "\n",
       "                                    resume.education  \\\n",
       "0  [{u'activities': None, u'start_year': u'1994',...   \n",
       "1  [{u'activities': None, u'start_year': u'2008',...   \n",
       "2                                                 []   \n",
       "3  [{u'activities': None, u'start_year': u'1998',...   \n",
       "4  [{u'activities': None, u'start_year': u'2005',...   \n",
       "\n",
       "                                        resume.exams  \\\n",
       "0                                                 []   \n",
       "1  [{u'examEnabled': u'1', u'description': u'C# 1...   \n",
       "2                                                 []   \n",
       "3  [{u'examEnabled': u'1', u'description': u'Nume...   \n",
       "4                                                 []   \n",
       "\n",
       "                                   resume.experience resume.publications  \\\n",
       "0  [{u'year_interval': u'-2011', u'month_interval...                  []   \n",
       "1  [{u'year_interval': u'-2013', u'month_interval...                  []   \n",
       "2                                                 []                  []   \n",
       "3  [{u'year_interval': u'-2013', u'month_interval...                  []   \n",
       "4                                                 []                  []   \n",
       "\n",
       "  resume.show                                             skills timeOffset  \\\n",
       "0        True  [{u'usages': 0, u'seo_url': u'php', u'islocal'...        300   \n",
       "1        True  [{u'usages': 9, u'seo_url': u'c_sharp_programm...        330   \n",
       "2       False  [{u'usages': 0, u'seo_url': u'javascript', u'i...         60   \n",
       "3        True  [{u'usages': 54, u'seo_url': u'metatrader', u'...        420   \n",
       "4        True  [{u'usages': 2, u'seo_url': u'dot_net', u'islo...        540   \n",
       "\n",
       "     userId         username viewer  \n",
       "0  10231398  ibrahimnizamani      0  \n",
       "1   4273261     sumeetshah90      0  \n",
       "2  13517925        profftech      0  \n",
       "3    615612    fastcoder3000      0  \n",
       "4   2093289      mayurunagar      0  \n",
       "\n",
       "[5 rows x 73 columns]"
      ]
     },
     "execution_count": 14,
     "metadata": {},
     "output_type": "execute_result"
    }
   ],
   "source": [
    "start.head()"
   ]
  },
  {
   "cell_type": "code",
   "execution_count": null,
   "metadata": {
    "collapsed": true
   },
   "outputs": [],
   "source": []
  },
  {
   "cell_type": "code",
   "execution_count": null,
   "metadata": {
    "collapsed": true
   },
   "outputs": [],
   "source": []
  }
 ],
 "metadata": {
  "kernelspec": {
   "display_name": "Python 2",
   "language": "python",
   "name": "python2"
  },
  "language_info": {
   "codemirror_mode": {
    "name": "ipython",
    "version": 2
   },
   "file_extension": ".py",
   "mimetype": "text/x-python",
   "name": "python",
   "nbconvert_exporter": "python",
   "pygments_lexer": "ipython2",
   "version": "2.7.13"
  }
 },
 "nbformat": 4,
 "nbformat_minor": 2
}
