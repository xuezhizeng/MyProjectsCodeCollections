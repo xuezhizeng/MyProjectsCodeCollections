{
 "cells": [
  {
   "cell_type": "markdown",
   "metadata": {},
   "source": [
    "https://www.hackerrank.com/challenges/the-birthday-bar/problem"
   ]
  },
  {
   "cell_type": "markdown",
   "metadata": {},
   "source": [
    "1. chocolate"
   ]
  },
  {
   "cell_type": "code",
   "execution_count": 8,
   "metadata": {
    "collapsed": true
   },
   "outputs": [],
   "source": [
    "a = '5  '\n",
    "b = '  1 2 1 3 2    ' \n",
    "c = '  3 2'"
   ]
  },
  {
   "cell_type": "code",
   "execution_count": 48,
   "metadata": {},
   "outputs": [
    {
     "name": "stdout",
     "output_type": "stream",
     "text": [
      "2\n"
     ]
    }
   ],
   "source": [
    "def solve(n, s, d, m):\n",
    "    \n",
    "    test = [s[:m]]\n",
    "\n",
    "    p=1\n",
    "\n",
    "    while len(test[-1])==m:\n",
    "        test.append(s[p:p+m])\n",
    "        p+=1\n",
    "\n",
    "    test=test[:-1]\n",
    "    r = map(lambda x: sum(x)==d, test)\n",
    "    return sum(r)\n",
    "\n",
    "    \n",
    "    \n",
    "    \n",
    "    \n",
    "    \n",
    "\n",
    "n = int(a.strip())\n",
    "s = map(int, b.strip().split(' '))\n",
    "d, m = c.strip().split(' ')\n",
    "d, m = [int(d), int(m)]\n",
    "result = solve(n, s, d, m)\n",
    "print(result)\n"
   ]
  },
  {
   "cell_type": "markdown",
   "metadata": {},
   "source": [
    "2 Separate the Numbers\n",
    "\n",
    "https://www.hackerrank.com/contests/university-codesprint-2/challenges/separate-the-numbers/problem"
   ]
  },
  {
   "cell_type": "code",
   "execution_count": 49,
   "metadata": {
    "collapsed": true
   },
   "outputs": [],
   "source": [
    "inp = [\n",
    "'7',\n",
    "'1234',\n",
    "'91011',\n",
    "'99100',\n",
    "'101103',\n",
    "'010203',\n",
    "'13',\n",
    "'1',]"
   ]
  },
  {
   "cell_type": "code",
   "execution_count": 81,
   "metadata": {},
   "outputs": [
    {
     "name": "stdout",
     "output_type": "stream",
     "text": [
      "3\n"
     ]
    }
   ],
   "source": [
    "if '1':print 3"
   ]
  },
  {
   "cell_type": "code",
   "execution_count": 90,
   "metadata": {},
   "outputs": [
    {
     "name": "stdout",
     "output_type": "stream",
     "text": [
      "Yes 1\n",
      "Yes 9\n",
      "Yes 99\n",
      "No\n",
      "No\n",
      "No\n",
      "No\n"
     ]
    }
   ],
   "source": [
    "#!/bin/python\n",
    "\n",
    "import sys\n",
    "\n",
    "def separateNumbers(s):\n",
    "    # Complete this function\n",
    "    flag=0\n",
    "    for i in range(len(s)-1):\n",
    "        \n",
    "        first=int(s[:i+1])\n",
    "        case=''\n",
    "        while len(case)<len(s):\n",
    "            case+=str(first)\n",
    "            first+=1\n",
    "        if case==s:\n",
    "            flag=s[:i+1]\n",
    "            \n",
    "    print \"No\" if not flag else \"Yes \"+flag\n",
    "\n",
    "\n",
    "\n",
    "if __name__ == \"__main__\":\n",
    "    q = int(inp[0].strip())\n",
    "    for a0 in xrange(q):\n",
    "        s = inp[a0+1].strip()\n",
    "        separateNumbers(s)\n",
    "\n"
   ]
  },
  {
   "cell_type": "markdown",
   "metadata": {},
   "source": [
    "3 Two Characters\n",
    "\n",
    "https://www.hackerrank.com/challenges/two-characters/problem"
   ]
  },
  {
   "cell_type": "code",
   "execution_count": 186,
   "metadata": {
    "collapsed": true
   },
   "outputs": [],
   "source": [
    "a = '10'\n",
    "b = 'beabeefeab'"
   ]
  },
  {
   "cell_type": "code",
   "execution_count": 192,
   "metadata": {},
   "outputs": [
    {
     "name": "stdout",
     "output_type": "stream",
     "text": [
      "5\n"
     ]
    }
   ],
   "source": [
    "#!/bin/python\n",
    "\n",
    "import sys\n",
    "\n",
    "\n",
    "    \n",
    "# def twoCharaters(s):\n",
    "#     # Complete this function\n",
    "\n",
    "#     n = 0\n",
    "#     a = list(set(s))\n",
    "#     #print a,len(a)\n",
    "#     for i in xrange(len(a)):\n",
    "#         for j in xrange(i+1,len(a)):\n",
    "#             #print a[i],a[j]\n",
    "#             t = [x for x in s if x == a[i] or x == a[j]]\n",
    "#             #print t\n",
    "#             p = 1\n",
    "#             for k in xrange(len(t)-1):\n",
    "#                 if t[k+1] == t[k]:\n",
    "#                     p = 0\n",
    "#                     break\n",
    "#             if p == 1:\n",
    "#                 n = max(n,len(t))\n",
    "#     return n\n",
    "\n",
    "def twoCharaters(s):\n",
    "    # Complete this function\n",
    "    r=0\n",
    "    \n",
    "    pool = list(set(s))\n",
    "    for i in range(len(pool)):\n",
    "        for j in range(i+1, len(pool)):\n",
    "            \n",
    "            two = [k for k in s if k==pool[i] or k==pool[j]]\n",
    "\n",
    "            flag=1\n",
    "            for x in range(len(two)-1):\n",
    "                if two[x]==two[x+1]:\n",
    "                    flag=0\n",
    "                    break\n",
    "                    \n",
    "            if flag:\n",
    "                r = max(len(two), r) \n",
    "    return r\n",
    "\n",
    "if __name__ == \"__main__\":\n",
    "    l = int(a.strip())\n",
    "    s = b.strip()\n",
    "    result = twoCharaters(s)\n",
    "    print result\n"
   ]
  },
  {
   "cell_type": "markdown",
   "metadata": {},
   "source": [
    "4 Insertion Sort - Part 1  \n",
    "https://www.hackerrank.com/challenges/insertionsort1/problem"
   ]
  },
  {
   "cell_type": "code",
   "execution_count": 276,
   "metadata": {
    "collapsed": true
   },
   "outputs": [],
   "source": [
    "a, b = '5', '2 4 6 8 3'"
   ]
  },
  {
   "cell_type": "code",
   "execution_count": 290,
   "metadata": {},
   "outputs": [
    {
     "name": "stdout",
     "output_type": "stream",
     "text": [
      "2 3 4 5 6 7 8 9 10 10\n",
      "2 3 4 5 6 7 8 9 9 10\n",
      "2 3 4 5 6 7 8 8 9 10\n",
      "2 3 4 5 6 7 7 8 9 10\n",
      "2 3 4 5 6 6 7 8 9 10\n",
      "2 3 4 5 5 6 7 8 9 10\n",
      "2 3 4 4 5 6 7 8 9 10\n",
      "2 3 3 4 5 6 7 8 9 10\n",
      "2 2 3 4 5 6 7 8 9 10\n",
      "1 2 3 4 5 6 7 8 9 10\n"
     ]
    }
   ],
   "source": [
    "#!/bin/python\n",
    "\n",
    "import sys\n",
    "\n",
    "def insertionSort1(n, arr):\n",
    "    flag=1\n",
    "    if len(arr)==1:\n",
    "        print arr[0]\n",
    "    c=arr[-1]\n",
    "    arr=arr[:-1]\n",
    "    for i in range(1, len(arr)+1):\n",
    "        if arr[-i]>c:\n",
    "            for j in arr[:-i]+[arr[-i]]+arr[-i:]: print j,\n",
    "            print\n",
    "        else:\n",
    "            flag=0\n",
    "            for k in arr[:-i+1]+[c]+arr[-i+1:]:print k,\n",
    "            break\n",
    "    if flag:\n",
    "        for i in [c]+arr:print i,\n",
    "\n",
    "if __name__ == \"__main__\":\n",
    "    n = int(a.strip())\n",
    "    arr = map(int, b.strip().split(' '))\n",
    "    insertionSort1(n, arr)\n"
   ]
  },
  {
   "cell_type": "code",
   "execution_count": 281,
   "metadata": {
    "collapsed": true
   },
   "outputs": [],
   "source": [
    "a, b = '10', '2 3 4 5 6 7 8 9 10 1'"
   ]
  },
  {
   "cell_type": "code",
   "execution_count": 300,
   "metadata": {},
   "outputs": [
    {
     "name": "stdout",
     "output_type": "stream",
     "text": [
      "2 3 4 5 6 7 8 9 10 10\n",
      "2 3 4 5 6 7 8 9 9 10\n",
      "2 3 4 5 6 7 8 8 9 10\n",
      "2 3 4 5 6 7 7 8 9 10\n",
      "2 3 4 5 6 6 7 8 9 10\n",
      "2 3 4 5 5 6 7 8 9 10\n",
      "2 3 4 4 5 6 7 8 9 10\n",
      "2 3 3 4 5 6 7 8 9 10\n",
      "2 2 3 4 5 6 7 8 9 10\n",
      "1 2 3 4 5 6 7 8 9 10\n"
     ]
    }
   ],
   "source": [
    "#!/bin/python\n",
    "\n",
    "import sys\n",
    "\n",
    "def insertionSort1(n, arr):\n",
    "    flag=1\n",
    "    arr=arr[::-1]\n",
    "    if len(arr)==1:\n",
    "        print arr[0]\n",
    "    c=arr[0]\n",
    "    arr=arr[1:]\n",
    "    for i in range(len(arr)):\n",
    "        \n",
    "        if c<arr[i]: \n",
    "            \n",
    "            l = arr[:i]+[arr[i]]+arr[i:]\n",
    "            for h in l[::-1]: print h,\n",
    "            print \n",
    "        else:\n",
    "            flag=0\n",
    "            l = arr[:i]+[c]+arr[i:]\n",
    "    \n",
    "            for h in l[::-1]: print h,\n",
    "            break\n",
    "    if flag:\n",
    "            for i in [arr+[c]][0][::-1]: print i,\n",
    "            \n",
    "\n",
    "if __name__ == \"__main__\":\n",
    "    n = int(a.strip())\n",
    "    arr = map(int, b.strip().split(' '))\n",
    "    insertionSort1(n, arr)\n"
   ]
  },
  {
   "cell_type": "code",
   "execution_count": 298,
   "metadata": {},
   "outputs": [
    {
     "data": {
      "text/plain": [
       "[[1]]"
      ]
     },
     "execution_count": 298,
     "metadata": {},
     "output_type": "execute_result"
    }
   ],
   "source": [
    "[[1]]"
   ]
  },
  {
   "cell_type": "markdown",
   "metadata": {},
   "source": [
    "5 Crossword Puzzle  \n",
    "https://www.hackerrank.com/challenges/crossword-puzzle/problem\n"
   ]
  },
  {
   "cell_type": "code",
   "execution_count": null,
   "metadata": {
    "collapsed": true
   },
   "outputs": [],
   "source": []
  },
  {
   "cell_type": "code",
   "execution_count": 348,
   "metadata": {},
   "outputs": [
    {
     "name": "stdout",
     "output_type": "stream",
     "text": [
      "\n"
     ]
    }
   ],
   "source": [
    "put = ['+-++++++++',\n",
    "'+-++++++++',\n",
    "'+-------++',\n",
    "'+-++++++++',\n",
    "'+-++++++++',\n",
    "'+------+++',\n",
    "'+-+++-++++',\n",
    "'+++++-++++',\n",
    "'+++++-++++',\n",
    "'++++++++++',\n",
    "'AGRA;NORWAY;ENGLAND;GWALIOR']"
   ]
  },
  {
   "cell_type": "code",
   "execution_count": 349,
   "metadata": {},
   "outputs": [
    {
     "name": "stdout",
     "output_type": "stream",
     "text": [
      "['AGRA', 'NORWAY', 'ENGLAND', 'GWALIOR']\n",
      "['+-++++++++', '+-++++++++', '+-------++', '+-++++++++', '+-++++++++', '+------+++', '+-+++-++++', '+++++-++++', '+++++-++++', '++++++++++'] AGRA;NORWAY;ENGLAND;GWALIOR\n",
      "+-++++++++\n",
      "+-++++++++\n",
      "+-------++\n",
      "+-++++++++\n",
      "+-++++++++\n",
      "+------+++\n",
      "+-+++-++++\n",
      "+++++-++++\n",
      "+++++-++++\n",
      "++++++++++\n"
     ]
    }
   ],
   "source": [
    "#!/bin/python\n",
    "\n",
    "import sys\n",
    "\n",
    "def crosswordPuzzle(crossword, hints):\n",
    "    words=hints.split(';')\n",
    "    print words\n",
    "    # Complete this function\n",
    "    print crossword, hints\n",
    "    return crossword\n",
    "\n",
    "if __name__ == \"__main__\":\n",
    "    crossword = []\n",
    "    crossword_i = 0\n",
    "    for crossword_i in xrange(10):\n",
    "        crossword_t = str(put[crossword_i].strip())\n",
    "        crossword.append(crossword_t)\n",
    "    hints = put[-1].strip()\n",
    "    result = crosswordPuzzle(crossword, hints)\n",
    "    print \"\\n\".join(map(str, result))"
   ]
  },
  {
   "cell_type": "code",
   "execution_count": 329,
   "metadata": {},
   "outputs": [
    {
     "name": "stdout",
     "output_type": "stream",
     "text": [
      "+E++++++++\n",
      "+N++++++++\n",
      "+GWALIOR++\n",
      "+L++++++++\n",
      "+A++++++++\n",
      "+NORWAY+++\n",
      "+D+++G++++\n",
      "+++++R++++\n",
      "+++++A++++\n",
      "++++++++++\n"
     ]
    }
   ],
   "source": [
    "# Enter your code here. Read input from STDIN. Print output to STDOUT\n",
    "ans = []\n",
    "\n",
    "def rec(g, w):\n",
    "    if len(w) == 0:\n",
    "        if not any([x=='-' for y in g for x in y]):\n",
    "            global ans\n",
    "            ans = g\n",
    "        return\n",
    "    \n",
    "    leng = len(w[0])\n",
    "    \n",
    "    for i in range(10):\n",
    "        for j in range(11-leng):\n",
    "            \n",
    "            if all(g[i][j+x]=='-' or g[i][j+x]==w[0][x] for x in range(leng)):\n",
    "                g2 = [x[:] for x in g]\n",
    "                \n",
    "                for x in range(leng): g2[i][j+x] = w[0][x]\n",
    "                rec(g2, w[1:])\n",
    "                \n",
    "            if all(g[j+x][i]=='-' or g[j+x][i]==w[0][x] for x in range(leng)):\n",
    "                g2 = [x[:] for x in g]\n",
    "                for x in range(leng): g2[j+x][i] = w[0][x]\n",
    "                rec(g2, w[1:])\n",
    "\n",
    "grid = []\n",
    "for i in range(10):\n",
    "    grid.append(list(put[i]))\n",
    "words = put[-1].split(';')\n",
    "\n",
    "rec(grid, words)\n",
    "\n",
    "for i in range(10):\n",
    "    print(''.join(ans[i]))"
   ]
  },
  {
   "cell_type": "code",
   "execution_count": 344,
   "metadata": {},
   "outputs": [
    {
     "name": "stdout",
     "output_type": "stream",
     "text": [
      "+E++++++++\n",
      "+N++++++++\n",
      "+GWALIOR++\n",
      "+L++++++++\n",
      "+A++++++++\n",
      "+NORWAY+++\n",
      "+D+++G++++\n",
      "+++++R++++\n",
      "+++++A++++\n",
      "++++++++++\n"
     ]
    }
   ],
   "source": [
    "# Enter your code here. Read input from STDIN. Print output to STDOUT\n",
    "ans = []\n",
    "\n",
    "def rec(g, w):\n",
    "    if len(w) == 0:\n",
    "        if not any([x=='-' for y in g for x in y]):\n",
    "            global ans\n",
    "            ans = g\n",
    "        return\n",
    "    \n",
    "    leng = len(w[0])\n",
    "    \n",
    "    for i in range(10):\n",
    "        for j in range(11-leng):\n",
    "            \n",
    "            if all(g[i][j+x]=='-' or g[i][j+x]==w[0][x] for x in range(leng)):\n",
    "                g2 = [x[:] for x in g]\n",
    "                \n",
    "                for x in range(leng): g2[i][j+x] = w[0][x]\n",
    "                rec(g2, w[1:])\n",
    "                \n",
    "            if all(g[j+x][i]=='-' or g[j+x][i]==w[0][x] for x in range(leng)):\n",
    "                g2 = [x[:] for x in g]\n",
    "                for x in range(leng): g2[j+x][i] = w[0][x]\n",
    "                rec(g2, w[1:])\n",
    "\n",
    "grid = []\n",
    "for i in range(10):\n",
    "    grid.append(list(put[i]))\n",
    "words = put[-1].split(';')\n",
    "\n",
    "rec(grid, words)\n",
    "# print ans\n",
    "\n",
    "for i in range(10):\n",
    "    print(''.join(ans[i]))"
   ]
  },
  {
   "cell_type": "code",
   "execution_count": 421,
   "metadata": {},
   "outputs": [
    {
     "name": "stdout",
     "output_type": "stream",
     "text": [
      "+E++++++++\n",
      "+N++++++++\n",
      "+GWALIOR++\n",
      "+L++++++++\n",
      "+A++++++++\n",
      "+NORWAY+++\n",
      "+D+++G++++\n",
      "+++++R++++\n",
      "+++++A++++\n",
      "++++++++++\n"
     ]
    }
   ],
   "source": [
    "#!/bin/python\n",
    "\n",
    "import sys\n",
    "\n",
    "def crosswordPuzzle(crossword, hints):\n",
    "#     for l in crossword:print ''.join(l)\n",
    "#     print hints\n",
    "    if len(hints)>0:\n",
    "        word=hints[0]\n",
    "        ln=len(word)\n",
    "    \n",
    "    elif all(crossword[i][j]!='-' for i in range(10) for j in range(10)):\n",
    "        result=''\n",
    "\n",
    "        for w in crossword:\n",
    "            result+=''.join(w)+'\\n'\n",
    "        print result[:-1]\n",
    "        return\n",
    "                \n",
    "#     print word            \n",
    "    for i in range(10):\n",
    "        for j in range(11-ln):\n",
    "            if all(crossword[i][k+j]=='-' or crossword[i][k+j]==word[k] for k in range(ln)):\n",
    "#                 print i,j\n",
    "                new_crossword = [x[:] for x in crossword]\n",
    "                for k in range(ln): new_crossword[i][k+j]=word[k]\n",
    "#                 for w in new_crossword:print ''.join(w)                \n",
    "                crosswordPuzzle(new_crossword, hints[1:])\n",
    "                    \n",
    "            if all(crossword[k+j][i]=='-' or crossword[k+j][i]==word[k] for k in range(ln)):\n",
    "#                 print i,j\n",
    "                new_crossword = [x[:] for x in crossword]\n",
    "                for k in range(ln): new_crossword[k+j][i]=word[k]\n",
    "#                 for w in new_crossword:print ''.join(w)  \n",
    "                crosswordPuzzle(new_crossword, hints[1:])\n",
    "                                        \n",
    "                    \n",
    "                    \n",
    "if __name__ == \"__main__\":\n",
    "    crossword = []\n",
    "    crossword_i = 0\n",
    "    for crossword_i in xrange(10):\n",
    "        crossword_t = str(put[crossword_i].strip())\n",
    "        crossword.append(list(crossword_t))\n",
    "        \n",
    "    \n",
    "    hints = put[-1].strip()\n",
    "    hints=hints.split(';')\n",
    "    crosswordPuzzle(crossword, hints)\n",
    "\n"
   ]
  },
  {
   "cell_type": "code",
   "execution_count": 356,
   "metadata": {},
   "outputs": [
    {
     "data": {
      "text/plain": [
       "[True, True, True, True, True, True, True, True, True, True]"
      ]
     },
     "execution_count": 356,
     "metadata": {},
     "output_type": "execute_result"
    }
   ],
   "source": [
    "[crossword[i][j]!='1' for j in range(10)]"
   ]
  },
  {
   "cell_type": "code",
   "execution_count": 400,
   "metadata": {},
   "outputs": [
    {
     "data": {
      "text/plain": [
       "[['+', '-', '+', '+', '+', '+', '+', '+', '+', '+'],\n",
       " ['+', '-', '+', '+', '+', '+', '+', '+', '+', '+'],\n",
       " ['+', '-', '-', '-', '-', '-', '-', '-', '+', '+'],\n",
       " ['+', '-', '+', '+', '+', '+', '+', '+', '+', '+'],\n",
       " ['+', '-', '+', '+', '+', '+', '+', '+', '+', '+'],\n",
       " ['+', '-', '-', '-', '-', '-', '-', '+', '+', '+'],\n",
       " ['+', '-', '+', '+', '+', '-', '+', '+', '+', '+'],\n",
       " ['+', '+', '+', '+', '+', '-', '+', '+', '+', '+'],\n",
       " ['+', '+', '+', '+', '+', '-', '+', '+', '+', '+'],\n",
       " ['+', '+', '+', '+', '+', '+', '+', '+', '+', '+']]"
      ]
     },
     "execution_count": 400,
     "metadata": {},
     "output_type": "execute_result"
    }
   ],
   "source": [
    "crossword"
   ]
  },
  {
   "cell_type": "code",
   "execution_count": 401,
   "metadata": {},
   "outputs": [
    {
     "data": {
      "text/plain": [
       "False"
      ]
     },
     "execution_count": 401,
     "metadata": {},
     "output_type": "execute_result"
    }
   ],
   "source": [
    "all(crossword[i][j]!='-' for i in range(10) for j in range(10))"
   ]
  },
  {
   "cell_type": "markdown",
   "metadata": {
    "collapsed": true
   },
   "source": [
    "8 pairs\n",
    "\n",
    "https://www.hackerrank.com/challenges/pairs/problem"
   ]
  },
  {
   "cell_type": "code",
   "execution_count": 3,
   "metadata": {
    "collapsed": true
   },
   "outputs": [],
   "source": [
    "a='10 1'\n",
    "b = '363374326 364147530 61825163 1073065718 1281246024 1399469912 428047635 491595254 879792181 1069262793'"
   ]
  },
  {
   "cell_type": "code",
   "execution_count": 4,
   "metadata": {},
   "outputs": [
    {
     "name": "stdout",
     "output_type": "stream",
     "text": [
      "100000 loops, best of 3: 13.8 µs per loop\n"
     ]
    }
   ],
   "source": [
    "%%timeit\n",
    "#!/bin/python\n",
    "\n",
    "import sys\n",
    "\n",
    "def pairs(k, arr):\n",
    "#     print k,arr\n",
    "    # Complete this function\n",
    "    n=0\n",
    "    for i in range(len(arr)):\n",
    "        for j in range(i+1, len(arr)):\n",
    "            if arr[i]-arr[j] in (k, -k):\n",
    "                n+=1\n",
    "#     return n\n",
    "\n",
    "if __name__ == \"__main__\":\n",
    "    n, k = a.strip().split(' ')\n",
    "    n, k = [int(n), int(k)]\n",
    "    arr = map(int, b.strip().split(' '))\n",
    "    result = pairs(k, arr)\n",
    "#     print result\n",
    "\n",
    "    "
   ]
  },
  {
   "cell_type": "code",
   "execution_count": 5,
   "metadata": {},
   "outputs": [
    {
     "name": "stdout",
     "output_type": "stream",
     "text": [
      "0\n"
     ]
    }
   ],
   "source": [
    "#!/bin/python\n",
    "\n",
    "import sys\n",
    "\n",
    "def pairs(k, arr):\n",
    "    pool={}\n",
    "    result=0\n",
    "    for i in arr:\n",
    "        pool[i]=1\n",
    "    for i in pool:\n",
    "        if i-k in pool:\n",
    "            result+=1\n",
    "    return result\n",
    "\n",
    "\n",
    "if __name__ == \"__main__\":\n",
    "    n, k = a.strip().split(' ')\n",
    "    n, k = [int(n), int(k)]\n",
    "    arr = map(int, b.strip().split(' '))\n",
    "    result = pairs(k, arr)\n",
    "    print result\n",
    "\n",
    "    "
   ]
  },
  {
   "cell_type": "markdown",
   "metadata": {
    "collapsed": true
   },
   "source": [
    "6 Sherlock and Array  \n",
    "https://www.hackerrank.com/challenges/sherlock-and-array/problem\n"
   ]
  },
  {
   "cell_type": "code",
   "execution_count": null,
   "metadata": {
    "collapsed": true
   },
   "outputs": [],
   "source": []
  },
  {
   "cell_type": "code",
   "execution_count": 15,
   "metadata": {},
   "outputs": [
    {
     "data": {
      "text/plain": [
       "'YES'"
      ]
     },
     "execution_count": 15,
     "metadata": {},
     "output_type": "execute_result"
    }
   ],
   "source": [
    "#!/bin/python\n",
    "\n",
    "import sys\n",
    "\n",
    "def solve(a):\n",
    "    # Complete this function\n",
    "    for i in range(len(a)):\n",
    "        if sum(a[:i])==sum(a[i+1:]):\n",
    "            return \"YES\"\n",
    "    return \"NO\"\n",
    "\n",
    "# T = int(raw_input().strip())\n",
    "# for a0 in xrange(T):\n",
    "#     n = int(raw_input().strip())\n",
    "#     a = map(int, raw_input().strip().split(' '))\n",
    "#     result = solve(a)\n",
    "#     print(result)\n",
    "\n",
    "solve([1, 2, 3])\n",
    "solve([1, 2, 3, 3])\n"
   ]
  },
  {
   "cell_type": "code",
   "execution_count": 16,
   "metadata": {},
   "outputs": [
    {
     "data": {
      "text/plain": [
       "'YES'"
      ]
     },
     "execution_count": 16,
     "metadata": {},
     "output_type": "execute_result"
    }
   ],
   "source": [
    "#!/bin/python\n",
    "\n",
    "import sys\n",
    "\n",
    "def solve(a):\n",
    "    # Complete this function\n",
    "    pool={}\n",
    "    for i in a:\n",
    "        pool[i]=1\n",
    "    \n",
    "        if sum(a[:i])==sum(a[i+1:]):\n",
    "            return \"YES\"\n",
    "    return \"NO\"\n",
    "\n",
    "# T = int(raw_input().strip())\n",
    "# for a0 in xrange(T):\n",
    "#     n = int(raw_input().strip())\n",
    "#     a = map(int, raw_input().strip().split(' '))\n",
    "#     result = solve(a)\n",
    "#     print(result)\n",
    "\n",
    "solve([1, 2, 3])\n",
    "solve([1, 2, 3, 3])\n"
   ]
  },
  {
   "cell_type": "code",
   "execution_count": 40,
   "metadata": {},
   "outputs": [
    {
     "name": "stdout",
     "output_type": "stream",
     "text": [
      "1 0 6 0\n",
      "2 1 6 2\n",
      "3 3 6 6\n",
      "NO\n",
      "1 0 9 0\n",
      "2 1 9 2\n",
      "3 3 9 6\n",
      "YES\n"
     ]
    }
   ],
   "source": [
    "def solve(a):\n",
    "    s = sum(a)\n",
    "    rs = 0\n",
    "    for n in a:\n",
    "        print n, rs, s, rs*2\n",
    "        if (s - n) / 2. == rs:\n",
    "            print \"YES\"\n",
    "            break\n",
    "        rs += n\n",
    "        \n",
    "    else:print \"NO\"\n",
    "            \n",
    "solve([1, 2, 3])\n",
    "solve([1, 2, 3, 3])\n"
   ]
  },
  {
   "cell_type": "code",
   "execution_count": 86,
   "metadata": {},
   "outputs": [
    {
     "data": {
      "text/plain": [
       "{2: 2, 3: 1, 4: 2, 5: 1}"
      ]
     },
     "execution_count": 86,
     "metadata": {},
     "output_type": "execute_result"
    }
   ],
   "source": [
    "a={}\n",
    "for i in [2,3,4,4,5,2]:\n",
    "    try: a[i]+=1\n",
    "    except: a[i]=1\n",
    "    \n",
    "a"
   ]
  },
  {
   "cell_type": "code",
   "execution_count": 97,
   "metadata": {},
   "outputs": [
    {
     "data": {
      "text/plain": [
       "[3, 5]"
      ]
     },
     "execution_count": 97,
     "metadata": {},
     "output_type": "execute_result"
    }
   ],
   "source": [
    "map(lambda x: x[0],filter(lambda x: x[-1]==1, a.items()))"
   ]
  },
  {
   "cell_type": "code",
   "execution_count": 85,
   "metadata": {},
   "outputs": [
    {
     "data": {
      "text/plain": [
       "[0, 0, 5]"
      ]
     },
     "execution_count": 85,
     "metadata": {},
     "output_type": "execute_result"
    }
   ],
   "source": [
    "map(lambda x: x[0] if x[1]==1 else 0, a.items())"
   ]
  },
  {
   "cell_type": "code",
   "execution_count": 66,
   "metadata": {},
   "outputs": [
    {
     "data": {
      "text/plain": [
       "[[], [2, 3, 4, 5], [], [2, 3, 4, 5]]"
      ]
     },
     "execution_count": 66,
     "metadata": {},
     "output_type": "execute_result"
    }
   ],
   "source": [
    "map(lambda x: a.keys()*x,[i==1 for i in a.values()])"
   ]
  },
  {
   "cell_type": "markdown",
   "metadata": {
    "collapsed": true
   },
   "source": [
    "https://www.hackerrank.com/challenges/stockmax/problem\n",
    "\n",
    "7 Stock Maximize\n"
   ]
  },
  {
   "cell_type": "code",
   "execution_count": 19,
   "metadata": {
    "collapsed": true
   },
   "outputs": [],
   "source": [
    "def stockmax(p):\n",
    "    e=0\n",
    "    m=0\n",
    "    while len(p)>0:\n",
    "        m=max(p)\n",
    "        while len(p)>0 and p[0]<m:\n",
    "            e+=m-p[0]\n",
    "            p.pop(0)\n",
    "        p.pop(0)\n",
    "\n",
    "    return e\n",
    "        \n"
   ]
  },
  {
   "cell_type": "code",
   "execution_count": 20,
   "metadata": {},
   "outputs": [
    {
     "name": "stdout",
     "output_type": "stream",
     "text": [
      "0\n",
      "197\n",
      "3\n"
     ]
    }
   ],
   "source": [
    "put = ['3',\n",
    "'3',\n",
    "'5 3 2',\n",
    "'3',\n",
    "'1 2 100',\n",
    "'4',\n",
    "'1 3 1 2',]\n",
    "\n",
    "\n",
    "import sys\n",
    "\n",
    "# def stockmax(prices):\n",
    "#     print prices\n",
    "    \n",
    "if __name__ == \"__main__\":\n",
    "    t = int(put[0].strip())\n",
    "    put.pop(0)\n",
    "    for a0 in xrange(t):\n",
    "        n = int(put.pop(0).strip())\n",
    "        prices = map(int, put.pop(0).strip().split(' '))\n",
    "        result = stockmax(prices)\n",
    "        print result\n",
    "\n"
   ]
  },
  {
   "cell_type": "code",
   "execution_count": null,
   "metadata": {
    "collapsed": true
   },
   "outputs": [],
   "source": []
  },
  {
   "cell_type": "code",
   "execution_count": null,
   "metadata": {
    "collapsed": true
   },
   "outputs": [],
   "source": []
  }
 ],
 "metadata": {
  "kernelspec": {
   "display_name": "Python 2",
   "language": "python",
   "name": "python2"
  },
  "language_info": {
   "codemirror_mode": {
    "name": "ipython",
    "version": 2
   },
   "file_extension": ".py",
   "mimetype": "text/x-python",
   "name": "python",
   "nbconvert_exporter": "python",
   "pygments_lexer": "ipython2",
   "version": "2.7.13"
  }
 },
 "nbformat": 4,
 "nbformat_minor": 2
}
