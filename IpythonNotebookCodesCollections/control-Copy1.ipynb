{
 "cells": [
  {
   "cell_type": "code",
   "execution_count": 1,
   "metadata": {},
   "outputs": [
    {
     "name": "stdout",
     "output_type": "stream",
     "text": [
      "control.ipynb\t geo.py     mod_traffic.csv  parsing.ipynb\r\n",
      "geo-Copy1.ipynb  index.pkl  mod_traffic.zip  sample.csv\r\n",
      "geo.csv\t\t index.py   noGeo.csv\t     traffic1.csv\r\n",
      "geo.ipynb\t index.pyc  noGeo.zip\t     traffic.csv\r\n"
     ]
    }
   ],
   "source": [
    "!ls"
   ]
  },
  {
   "cell_type": "code",
   "execution_count": 11,
   "metadata": {},
   "outputs": [
    {
     "name": "stdout",
     "output_type": "stream",
     "text": [
      "1072813\n",
      "1163605\n",
      "11.2.0.2.0\n",
      "imges  100   used  6.77 s Sep 23 19:30:01 2017\n",
      "100\n",
      "0.00859398163466 % 1163605 100\n"
     ]
    }
   ],
   "source": [
    "!python geo.py 1"
   ]
  },
  {
   "cell_type": "code",
   "execution_count": null,
   "metadata": {
    "collapsed": true
   },
   "outputs": [],
   "source": []
  },
  {
   "cell_type": "code",
   "execution_count": 3,
   "metadata": {},
   "outputs": [
    {
     "name": "stdout",
     "output_type": "stream",
     "text": [
      "1072813\n",
      "1163605\n",
      "11.2.0.2.0\n"
     ]
    }
   ],
   "source": [
    "import pandas as pd\n",
    "from time import time, ctime\n",
    "import concurrent.futures\n",
    "from index import index\n",
    "\n",
    "from geopy.geocoders import Nominatim\n",
    "\n",
    "g = Nominatim()\n",
    "\n",
    "print len(index)\n",
    "\n",
    "df=pd.read_csv('geo.csv')\n",
    "nn=df.shape[0]\n",
    "print nn\n",
    "\n",
    "import cx_Oracle\n",
    "\n",
    "db=cx_Oracle.connect(\"soyoung\", \"soyoung\", \"my.uconn.science:1521/xe\")\n",
    "print db.version\n",
    "\n",
    "cur=db.cursor()"
   ]
  },
  {
   "cell_type": "code",
   "execution_count": 4,
   "metadata": {},
   "outputs": [
    {
     "data": {
      "text/plain": [
       "[]"
      ]
     },
     "execution_count": 4,
     "metadata": {},
     "output_type": "execute_result"
    }
   ],
   "source": [
    "cur.execute('select * from geo').fetchall()"
   ]
  },
  {
   "cell_type": "code",
   "execution_count": 7,
   "metadata": {
    "collapsed": true
   },
   "outputs": [],
   "source": [
    "db.commit()"
   ]
  },
  {
   "cell_type": "code",
   "execution_count": 1,
   "metadata": {
    "collapsed": true
   },
   "outputs": [],
   "source": [
    "def downing(index):\n",
    "    print index\n",
    "    # print df.shape\n",
    "    geo=df.loc[index, 'geo'][1:-1]\n",
    "    print geo\n",
    "    try:\n",
    "        tmp = g.reverse(geo)\n",
    "        # print tmp\n",
    "        \n",
    "        zipp = str(tmp.raw['address']['postcode'])\n",
    "        # print raw\n",
    "    except Exception as e:\n",
    "        print e\n",
    "    #print i,\n",
    "    try:\n",
    "        print \"\"\"insert into geo values({},'{}','{}')\"\"\".format(index,geo,zipp )\n",
    "#         cur.execute(\"\"\"insert into geo values({},'{}','{}')\"\"\".format(index, geo, zipp))\n",
    "#         db.commit()\n",
    "    except Exception as e:\n",
    "        print e"
   ]
  },
  {
   "cell_type": "code",
   "execution_count": 13,
   "metadata": {},
   "outputs": [
    {
     "name": "stdout",
     "output_type": "stream",
     "text": [
      "100\n",
      "39.0584566666667, -77.04797\n",
      "Service not available\n",
      "local variable 'zipp' referenced before assignment\n"
     ]
    }
   ],
   "source": [
    "downing(100)"
   ]
  },
  {
   "cell_type": "code",
   "execution_count": 14,
   "metadata": {},
   "outputs": [
    {
     "data": {
      "text/plain": [
       "'nominatim.openstreetmap.org'"
      ]
     },
     "execution_count": 14,
     "metadata": {},
     "output_type": "execute_result"
    }
   ],
   "source": [
    "g.domain"
   ]
  },
  {
   "cell_type": "code",
   "execution_count": null,
   "metadata": {
    "collapsed": true
   },
   "outputs": [],
   "source": []
  }
 ],
 "metadata": {
  "kernelspec": {
   "display_name": "Python 2",
   "language": "python",
   "name": "python2"
  },
  "language_info": {
   "codemirror_mode": {
    "name": "ipython",
    "version": 2
   },
   "file_extension": ".py",
   "mimetype": "text/x-python",
   "name": "python",
   "nbconvert_exporter": "python",
   "pygments_lexer": "ipython2",
   "version": "2.7.13"
  }
 },
 "nbformat": 4,
 "nbformat_minor": 2
}
