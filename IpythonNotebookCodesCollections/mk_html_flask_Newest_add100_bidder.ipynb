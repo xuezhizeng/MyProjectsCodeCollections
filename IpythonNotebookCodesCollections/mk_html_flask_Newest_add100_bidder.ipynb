{
 "cells": [
  {
   "cell_type": "code",
   "execution_count": 1,
   "metadata": {
    "collapsed": true
   },
   "outputs": [],
   "source": [
    "import pandas as pd\n",
    "import os"
   ]
  },
  {
   "cell_type": "code",
   "execution_count": 2,
   "metadata": {},
   "outputs": [
    {
     "name": "stdout",
     "output_type": "stream",
     "text": [
      "mk_html_flask_Newest_add100_bidder.ipynb  mk_index-Copy1.ipynb\tstatic\r\n",
      "mk_html_flask_Newest_add100.ipynb\t  mk_index.ipynb\ttemplates\r\n",
      "mk_html_flask_Newest-Copy1.ipynb\t  run.py\r\n",
      "mk_index-bidder.ipynb\t\t\t  run.pyc\r\n"
     ]
    }
   ],
   "source": [
    "!ls"
   ]
  },
  {
   "cell_type": "code",
   "execution_count": 3,
   "metadata": {
    "collapsed": true
   },
   "outputs": [],
   "source": [
    "path='static/bidderPics/'\n",
    "path2='bidderPics/'"
   ]
  },
  {
   "cell_type": "code",
   "execution_count": 4,
   "metadata": {},
   "outputs": [
    {
     "data": {
      "text/plain": [
       "26349"
      ]
     },
     "execution_count": 4,
     "metadata": {},
     "output_type": "execute_result"
    }
   ],
   "source": [
    "pc=os.listdir(path)\n",
    "len(pc)"
   ]
  },
  {
   "cell_type": "code",
   "execution_count": 5,
   "metadata": {
    "collapsed": true
   },
   "outputs": [],
   "source": [
    "pd.DataFrame(pc, columns=['name']).to_csv('map_bidder.csv', index_label='id')"
   ]
  },
  {
   "cell_type": "code",
   "execution_count": 6,
   "metadata": {},
   "outputs": [
    {
     "data": {
      "text/plain": [
       "(26349, 2)"
      ]
     },
     "execution_count": 6,
     "metadata": {},
     "output_type": "execute_result"
    }
   ],
   "source": [
    "df=pd.read_csv('map_bidder.csv')\n",
    "df.shape"
   ]
  },
  {
   "cell_type": "code",
   "execution_count": 7,
   "metadata": {
    "collapsed": true
   },
   "outputs": [],
   "source": [
    "df['id'] = df['id']+1\n",
    "df.to_csv('map_bidder.csv', index=False)"
   ]
  },
  {
   "cell_type": "code",
   "execution_count": 8,
   "metadata": {},
   "outputs": [
    {
     "data": {
      "text/plain": [
       "(26349, 2)"
      ]
     },
     "execution_count": 8,
     "metadata": {},
     "output_type": "execute_result"
    }
   ],
   "source": [
    "df=pd.read_csv('map_bidder.csv')\n",
    "df.shape"
   ]
  },
  {
   "cell_type": "code",
   "execution_count": 9,
   "metadata": {},
   "outputs": [
    {
     "data": {
      "text/html": [
       "<div>\n",
       "<style>\n",
       "    .dataframe thead tr:only-child th {\n",
       "        text-align: right;\n",
       "    }\n",
       "\n",
       "    .dataframe thead th {\n",
       "        text-align: left;\n",
       "    }\n",
       "\n",
       "    .dataframe tbody tr th {\n",
       "        vertical-align: top;\n",
       "    }\n",
       "</style>\n",
       "<table border=\"1\" class=\"dataframe\">\n",
       "  <thead>\n",
       "    <tr style=\"text-align: right;\">\n",
       "      <th></th>\n",
       "      <th>id</th>\n",
       "      <th>name</th>\n",
       "    </tr>\n",
       "  </thead>\n",
       "  <tbody>\n",
       "    <tr>\n",
       "      <th>0</th>\n",
       "      <td>1</td>\n",
       "      <td>307898_profile.jpg</td>\n",
       "    </tr>\n",
       "    <tr>\n",
       "      <th>1</th>\n",
       "      <td>2</td>\n",
       "      <td>1189066_profile.jpg</td>\n",
       "    </tr>\n",
       "    <tr>\n",
       "      <th>2</th>\n",
       "      <td>3</td>\n",
       "      <td>1484438_profile.jpg</td>\n",
       "    </tr>\n",
       "    <tr>\n",
       "      <th>3</th>\n",
       "      <td>4</td>\n",
       "      <td>1265987_profile.jpg</td>\n",
       "    </tr>\n",
       "    <tr>\n",
       "      <th>4</th>\n",
       "      <td>5</td>\n",
       "      <td>1188950_profile.jpg</td>\n",
       "    </tr>\n",
       "  </tbody>\n",
       "</table>\n",
       "</div>"
      ],
      "text/plain": [
       "   id                 name\n",
       "0   1   307898_profile.jpg\n",
       "1   2  1189066_profile.jpg\n",
       "2   3  1484438_profile.jpg\n",
       "3   4  1265987_profile.jpg\n",
       "4   5  1188950_profile.jpg"
      ]
     },
     "execution_count": 9,
     "metadata": {},
     "output_type": "execute_result"
    }
   ],
   "source": [
    "df.head()"
   ]
  },
  {
   "cell_type": "code",
   "execution_count": 10,
   "metadata": {
    "collapsed": true
   },
   "outputs": [],
   "source": [
    "df['new']=df['id'].apply(lambda x: x%100).apply(lambda x: 100 if x==0 else x)\n"
   ]
  },
  {
   "cell_type": "code",
   "execution_count": 11,
   "metadata": {
    "collapsed": true
   },
   "outputs": [],
   "source": [
    "df['new']=df['new'].apply(lambda x: str(x)+\"&ensp;\" if len(str(x))==1 else str(x))"
   ]
  },
  {
   "cell_type": "code",
   "execution_count": 12,
   "metadata": {},
   "outputs": [
    {
     "data": {
      "text/plain": [
       "'5&ensp;'"
      ]
     },
     "execution_count": 12,
     "metadata": {},
     "output_type": "execute_result"
    }
   ],
   "source": [
    "df['new'][4]"
   ]
  },
  {
   "cell_type": "code",
   "execution_count": 13,
   "metadata": {
    "collapsed": true
   },
   "outputs": [],
   "source": [
    "pre=\"\"\"\n",
    "<!DOCTYPE html>\n",
    "<html>\n",
    "<head>\n",
    "  <link rel=\"stylesheet\" href=\"{{ url_for('static', filename='css/styles.css')%s }}\">\n",
    "</head>\"\"\"\n",
    "\n",
    "pre2=\"\"\"\n",
    "<body>\n",
    "<h1>Set {}</h1>\n",
    "<div class=\"parent\"><ul>\"\"\""
   ]
  },
  {
   "cell_type": "code",
   "execution_count": 14,
   "metadata": {},
   "outputs": [
    {
     "data": {
      "text/plain": [
       "'\\n<!DOCTYPE html>\\n<html>\\n<head>\\n  <link rel=\"stylesheet\" href=\"{ url_for(\\'static\\', filename=\\'css/styles.css\\')2 }\">\\n</head>'"
      ]
     },
     "execution_count": 14,
     "metadata": {},
     "output_type": "execute_result"
    }
   ],
   "source": [
    "pre.format('1')%'2'"
   ]
  },
  {
   "cell_type": "code",
   "execution_count": 15,
   "metadata": {
    "collapsed": true
   },
   "outputs": [],
   "source": [
    "post=\"\"\"</ul>\n",
    "</div>\n",
    "\n",
    "\n",
    "</body>\n",
    "</html>\"\"\""
   ]
  },
  {
   "cell_type": "code",
   "execution_count": 16,
   "metadata": {
    "collapsed": true
   },
   "outputs": [],
   "source": [
    "# pre.format(str(4))"
   ]
  },
  {
   "cell_type": "code",
   "execution_count": 17,
   "metadata": {},
   "outputs": [
    {
     "name": "stdout",
     "output_type": "stream",
     "text": [
      "/home/iri/pics/Flask\r\n"
     ]
    }
   ],
   "source": [
    "!pwd"
   ]
  },
  {
   "cell_type": "code",
   "execution_count": 18,
   "metadata": {},
   "outputs": [
    {
     "name": "stdout",
     "output_type": "stream",
     "text": [
      "map_bidder.csv\t\t\t\t  mk_index-bidder.ipynb  run.pyc\r\n",
      "mk_html_flask_Newest_add100_bidder.ipynb  mk_index-Copy1.ipynb\t static\r\n",
      "mk_html_flask_Newest_add100.ipynb\t  mk_index.ipynb\t templates\r\n",
      "mk_html_flask_Newest-Copy1.ipynb\t  run.py\r\n"
     ]
    }
   ],
   "source": [
    "!ls"
   ]
  },
  {
   "cell_type": "code",
   "execution_count": 19,
   "metadata": {},
   "outputs": [],
   "source": [
    "try:\n",
    "    os.mkdir('templates/html/bidder1')\n",
    "except Exception as e:\n",
    "    print e"
   ]
  },
  {
   "cell_type": "code",
   "execution_count": 20,
   "metadata": {
    "collapsed": true
   },
   "outputs": [],
   "source": [
    "target = 'templates/html/bidder1/'"
   ]
  },
  {
   "cell_type": "code",
   "execution_count": 21,
   "metadata": {},
   "outputs": [
    {
     "data": {
      "text/plain": [
       "\"{{ url_for('static', filename='bidderPics/') }}\""
      ]
     },
     "execution_count": 21,
     "metadata": {},
     "output_type": "execute_result"
    }
   ],
   "source": [
    "static=\"\"\"{{ url_for('static', filename='%s') }}\"\"\"%path2\n",
    "static"
   ]
  },
  {
   "cell_type": "code",
   "execution_count": 22,
   "metadata": {},
   "outputs": [
    {
     "name": "stdout",
     "output_type": "stream",
     "text": [
      "CPU times: user 10.7 s, sys: 52 ms, total: 10.8 s\n",
      "Wall time: 10.9 s\n"
     ]
    }
   ],
   "source": [
    "%%time\n",
    "content=''\n",
    "n=0\n",
    "for i in range(len(df)):\n",
    "    if i==0 or i%100==0:\n",
    "        \n",
    "        if i!=0:\n",
    "            content+=post\n",
    "        \n",
    "            with open(target+'{}.html'.format(n),'w') as fh:\n",
    "                fh.write(content)\n",
    "        n+=1\n",
    "        content=''\n",
    "        content+=pre%''+pre2.format(str(n))\n",
    "    if i==0:\n",
    "        content+=\"<ul>\"\n",
    "        content+=\"\"\"<li>{}\"\"\".format(df.iloc[i,:]['new'])+\"\"\"<img src=\"{{ url_for('static', filename='%s') }}\"></li>&emsp;\"\"\"%(path2+df.iloc[i,:]['name'])\n",
    "    else:\n",
    "        content+=\"\"\"<li>{}\"\"\".format(df.iloc[i,:]['new'])+\"\"\"<img src=\"{{ url_for('static', filename='%s') }}\"></li>&emsp;\"\"\"%(path2+df.iloc[i,:]['name'])\n",
    "        if i%4==3:\n",
    "            content+=\"</ul><ul>\"\n",
    "#     print n \n",
    "\n",
    "with open(target+'{}.html'.format(n),'w') as fh:\n",
    "                fh.write(content+post)"
   ]
  },
  {
   "cell_type": "markdown",
   "metadata": {},
   "source": [
    "### last"
   ]
  },
  {
   "cell_type": "code",
   "execution_count": 74,
   "metadata": {
    "collapsed": true
   },
   "outputs": [],
   "source": [
    "# print content+post"
   ]
  },
  {
   "cell_type": "code",
   "execution_count": 75,
   "metadata": {},
   "outputs": [
    {
     "data": {
      "text/plain": [
       "id                        1\n",
       "name    1567873_profile.jpg\n",
       "new                       1\n",
       "Name: 0, dtype: object"
      ]
     },
     "execution_count": 75,
     "metadata": {},
     "output_type": "execute_result"
    }
   ],
   "source": [
    "df.iloc[0,:]"
   ]
  },
  {
   "cell_type": "code",
   "execution_count": 89,
   "metadata": {},
   "outputs": [
    {
     "data": {
      "text/plain": [
       "'\\n<!DOCTYPE html>\\n<html>\\n<head>\\n  <link rel=\"stylesheet\" href=\"{{ url_for(\\'static\\', filename=\\'css/styles.css\\') }}\">\\n</head>\\n<body>\\n<h1>Set 43</h1>\\n<div class=\"parent\"><ul><li> 1<img src=\"{{ url_for(\\'static\\', filename=\\'bossPics/1384590_profile.jpg\\') }}\"></li>&emsp;<li> 2<img src=\"{{ url_for(\\'static\\', filename=\\'bossPics/1511385_profile.jpg\\') }}\"></li>&emsp;<li> 3<img src=\"{{ url_for(\\'static\\', filename=\\'bossPics/687403_profile.jpg\\') }}\"></li>&emsp;<li> 4<img src=\"{{ url_for(\\'static\\', filename=\\'bossPics/1549390_profile.jpg\\') }}\"></li>&emsp;</ul><ul><li> 5<img src=\"{{ url_for(\\'static\\', filename=\\'bossPics/757104_profile.jpg\\') }}\"></li>&emsp;'"
      ]
     },
     "execution_count": 89,
     "metadata": {},
     "output_type": "execute_result"
    }
   ],
   "source": [
    "content"
   ]
  },
  {
   "cell_type": "code",
   "execution_count": null,
   "metadata": {
    "collapsed": true
   },
   "outputs": [],
   "source": []
  }
 ],
 "metadata": {
  "kernelspec": {
   "display_name": "Python 2",
   "language": "python",
   "name": "python2"
  },
  "language_info": {
   "codemirror_mode": {
    "name": "ipython",
    "version": 2
   },
   "file_extension": ".py",
   "mimetype": "text/x-python",
   "name": "python",
   "nbconvert_exporter": "python",
   "pygments_lexer": "ipython2",
   "version": "2.7.13"
  }
 },
 "nbformat": 4,
 "nbformat_minor": 2
}
