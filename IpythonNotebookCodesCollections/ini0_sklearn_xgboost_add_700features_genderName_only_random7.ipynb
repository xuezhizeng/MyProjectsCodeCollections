{
 "cells": [
  {
   "cell_type": "markdown",
   "metadata": {},
   "source": [
    "https://stephenholiday.com/articles/2011/gender-prediction-with-python/"
   ]
  },
  {
   "cell_type": "code",
   "execution_count": 72,
   "metadata": {
    "collapsed": true
   },
   "outputs": [],
   "source": [
    "import pandas as pd\n",
    "import numpy as np\n",
    "import itertools\n",
    "import os\n",
    "import matplotlib.pyplot as plt\n",
    "from time import time, ctime\n",
    "from sklearn.ensemble import RandomForestClassifier\n",
    "from sklearn.svm import SVC, LinearSVC \n",
    "from sklearn.metrics import accuracy_score, classification_report, classification, confusion_matrix\n",
    "from sklearn.model_selection import train_test_split, KFold, cross_val_score, StratifiedKFold, StratifiedShuffleSplit\n",
    "from sklearn.preprocessing import LabelEncoder\n",
    "\n",
    "from helper import plot_confusion_matrix, plot_confusion_matrix2\n",
    "dim=lambda *x: [i.shape for i in x]\n",
    "\n",
    "import wordninja"
   ]
  },
  {
   "cell_type": "code",
   "execution_count": 73,
   "metadata": {},
   "outputs": [
    {
     "name": "stdout",
     "output_type": "stream",
     "text": [
      "(121335, 9)\n",
      "NaN       71935\n",
      "male      40389\n",
      "female     9011\n",
      "Name: fname.gender, dtype: int64\n"
     ]
    },
    {
     "data": {
      "text/html": [
       "<div>\n",
       "<style>\n",
       "    .dataframe thead tr:only-child th {\n",
       "        text-align: right;\n",
       "    }\n",
       "\n",
       "    .dataframe thead th {\n",
       "        text-align: left;\n",
       "    }\n",
       "\n",
       "    .dataframe tbody tr th {\n",
       "        vertical-align: top;\n",
       "    }\n",
       "</style>\n",
       "<table border=\"1\" class=\"dataframe\">\n",
       "  <thead>\n",
       "    <tr style=\"text-align: right;\">\n",
       "      <th></th>\n",
       "      <th>user_id</th>\n",
       "      <th>username</th>\n",
       "      <th>freq</th>\n",
       "      <th>male.prob</th>\n",
       "      <th>fname.gender</th>\n",
       "      <th>male.prob2</th>\n",
       "      <th>fname.gender2</th>\n",
       "      <th>Name</th>\n",
       "      <th>pic.gender</th>\n",
       "    </tr>\n",
       "  </thead>\n",
       "  <tbody>\n",
       "    <tr>\n",
       "      <th>0</th>\n",
       "      <td>5.0</td>\n",
       "      <td>billion</td>\n",
       "      <td>2.0</td>\n",
       "      <td>1.0000</td>\n",
       "      <td>male</td>\n",
       "      <td>0.920000</td>\n",
       "      <td>male</td>\n",
       "      <td>NaN</td>\n",
       "      <td>NaN</td>\n",
       "    </tr>\n",
       "    <tr>\n",
       "      <th>1</th>\n",
       "      <td>63.0</td>\n",
       "      <td>paddyshyam</td>\n",
       "      <td>NaN</td>\n",
       "      <td>NaN</td>\n",
       "      <td>NaN</td>\n",
       "      <td>NaN</td>\n",
       "      <td>NaN</td>\n",
       "      <td>NaN</td>\n",
       "      <td>NaN</td>\n",
       "    </tr>\n",
       "    <tr>\n",
       "      <th>2</th>\n",
       "      <td>64.0</td>\n",
       "      <td>ArmenSoft</td>\n",
       "      <td>1.0</td>\n",
       "      <td>1.0000</td>\n",
       "      <td>male</td>\n",
       "      <td>NaN</td>\n",
       "      <td>NaN</td>\n",
       "      <td>NaN</td>\n",
       "      <td>NaN</td>\n",
       "    </tr>\n",
       "    <tr>\n",
       "      <th>3</th>\n",
       "      <td>128.0</td>\n",
       "      <td>okbookman</td>\n",
       "      <td>1.0</td>\n",
       "      <td>0.9945</td>\n",
       "      <td>male</td>\n",
       "      <td>0.998834</td>\n",
       "      <td>male</td>\n",
       "      <td>NaN</td>\n",
       "      <td>NaN</td>\n",
       "    </tr>\n",
       "    <tr>\n",
       "      <th>4</th>\n",
       "      <td>215.0</td>\n",
       "      <td>revitupmedia</td>\n",
       "      <td>1.0</td>\n",
       "      <td>1.0000</td>\n",
       "      <td>male</td>\n",
       "      <td>NaN</td>\n",
       "      <td>NaN</td>\n",
       "      <td>215_profile.jpg</td>\n",
       "      <td>NaN</td>\n",
       "    </tr>\n",
       "  </tbody>\n",
       "</table>\n",
       "</div>"
      ],
      "text/plain": [
       "   user_id      username  freq  male.prob fname.gender  male.prob2  \\\n",
       "0      5.0       billion   2.0     1.0000         male    0.920000   \n",
       "1     63.0    paddyshyam   NaN        NaN          NaN         NaN   \n",
       "2     64.0     ArmenSoft   1.0     1.0000         male         NaN   \n",
       "3    128.0     okbookman   1.0     0.9945         male    0.998834   \n",
       "4    215.0  revitupmedia   1.0     1.0000         male         NaN   \n",
       "\n",
       "  fname.gender2             Name pic.gender  \n",
       "0          male              NaN        NaN  \n",
       "1           NaN              NaN        NaN  \n",
       "2           NaN              NaN        NaN  \n",
       "3          male              NaN        NaN  \n",
       "4           NaN  215_profile.jpg        NaN  "
      ]
     },
     "execution_count": 73,
     "metadata": {},
     "output_type": "execute_result"
    }
   ],
   "source": [
    "df = pd.read_csv('./users.gender.golden.csv')\n",
    "print df.shape\n",
    "print df['fname.gender'].value_counts(dropna=False)\n",
    "df.head()"
   ]
  },
  {
   "cell_type": "code",
   "execution_count": 74,
   "metadata": {},
   "outputs": [
    {
     "name": "stdout",
     "output_type": "stream",
     "text": [
      "(49400, 2)\n"
     ]
    },
    {
     "data": {
      "text/html": [
       "<div>\n",
       "<style>\n",
       "    .dataframe thead tr:only-child th {\n",
       "        text-align: right;\n",
       "    }\n",
       "\n",
       "    .dataframe thead th {\n",
       "        text-align: left;\n",
       "    }\n",
       "\n",
       "    .dataframe tbody tr th {\n",
       "        vertical-align: top;\n",
       "    }\n",
       "</style>\n",
       "<table border=\"1\" class=\"dataframe\">\n",
       "  <thead>\n",
       "    <tr style=\"text-align: right;\">\n",
       "      <th></th>\n",
       "      <th>username</th>\n",
       "      <th>fname.gender</th>\n",
       "    </tr>\n",
       "  </thead>\n",
       "  <tbody>\n",
       "    <tr>\n",
       "      <th>0</th>\n",
       "      <td>billion</td>\n",
       "      <td>male</td>\n",
       "    </tr>\n",
       "    <tr>\n",
       "      <th>2</th>\n",
       "      <td>ArmenSoft</td>\n",
       "      <td>male</td>\n",
       "    </tr>\n",
       "    <tr>\n",
       "      <th>3</th>\n",
       "      <td>okbookman</td>\n",
       "      <td>male</td>\n",
       "    </tr>\n",
       "    <tr>\n",
       "      <th>4</th>\n",
       "      <td>revitupmedia</td>\n",
       "      <td>male</td>\n",
       "    </tr>\n",
       "    <tr>\n",
       "      <th>7</th>\n",
       "      <td>sakshiinfosys</td>\n",
       "      <td>male</td>\n",
       "    </tr>\n",
       "  </tbody>\n",
       "</table>\n",
       "</div>"
      ],
      "text/plain": [
       "        username fname.gender\n",
       "0        billion         male\n",
       "2      ArmenSoft         male\n",
       "3      okbookman         male\n",
       "4   revitupmedia         male\n",
       "7  sakshiinfosys         male"
      ]
     },
     "execution_count": 74,
     "metadata": {},
     "output_type": "execute_result"
    }
   ],
   "source": [
    "pre9=df[(~df['fname.gender'].isnull())][['username','fname.gender']]\n",
    "print pre9.shape\n",
    "\n",
    "pre1=df[(~df['fname.gender'].isnull())& abs(df['male.prob']-0.5)>0.4][['username','fname.gender']]\n",
    "pre1.shape\n",
    "pre1.head()"
   ]
  },
  {
   "cell_type": "code",
   "execution_count": 75,
   "metadata": {},
   "outputs": [
    {
     "data": {
      "text/html": [
       "<div>\n",
       "<style>\n",
       "    .dataframe thead tr:only-child th {\n",
       "        text-align: right;\n",
       "    }\n",
       "\n",
       "    .dataframe thead th {\n",
       "        text-align: left;\n",
       "    }\n",
       "\n",
       "    .dataframe tbody tr th {\n",
       "        vertical-align: top;\n",
       "    }\n",
       "</style>\n",
       "<table border=\"1\" class=\"dataframe\">\n",
       "  <thead>\n",
       "    <tr style=\"text-align: right;\">\n",
       "      <th></th>\n",
       "      <th>username</th>\n",
       "      <th>fname.gender</th>\n",
       "      <th>username_split_predict</th>\n",
       "    </tr>\n",
       "  </thead>\n",
       "  <tbody>\n",
       "    <tr>\n",
       "      <th>121328</th>\n",
       "      <td>gewens</td>\n",
       "      <td>male</td>\n",
       "      <td>male</td>\n",
       "    </tr>\n",
       "    <tr>\n",
       "      <th>121329</th>\n",
       "      <td>Alexa77</td>\n",
       "      <td>female</td>\n",
       "      <td>female</td>\n",
       "    </tr>\n",
       "    <tr>\n",
       "      <th>121330</th>\n",
       "      <td>ilmanen</td>\n",
       "      <td>female</td>\n",
       "      <td>male</td>\n",
       "    </tr>\n",
       "    <tr>\n",
       "      <th>121332</th>\n",
       "      <td>xmonika</td>\n",
       "      <td>female</td>\n",
       "      <td>female</td>\n",
       "    </tr>\n",
       "    <tr>\n",
       "      <th>121333</th>\n",
       "      <td>lidsoft</td>\n",
       "      <td>male</td>\n",
       "      <td>unknow</td>\n",
       "    </tr>\n",
       "  </tbody>\n",
       "</table>\n",
       "</div>"
      ],
      "text/plain": [
       "       username fname.gender username_split_predict\n",
       "121328   gewens         male                   male\n",
       "121329  Alexa77       female                 female\n",
       "121330  ilmanen       female                   male\n",
       "121332  xmonika       female                 female\n",
       "121333  lidsoft         male                 unknow"
      ]
     },
     "execution_count": 75,
     "metadata": {},
     "output_type": "execute_result"
    }
   ],
   "source": [
    "pre1['split_words']=pre1['username'].\\\n",
    "apply(lambda x: ''.join([i for i in str(x) if i.isdigit()==False])).\\\n",
    "apply(lambda x: wordninja.split(str(x).lower()))\n",
    "\n",
    "from genderizer.genderizer import Genderizer\n",
    "import gender_guesser.detector as gender\n",
    "d = gender.Detector(case_sensitive=False)\n",
    "\n",
    "def helper(X):\n",
    "    tmp = list(map(d.get_gender, X))\n",
    "    tmp = [i for i in tmp if i!='unknown']\n",
    "    try:\n",
    "        tmp[0]\n",
    "        if len(tmp)>1:\n",
    "            m=0\n",
    "            f=0\n",
    "            for i in tmp:\n",
    "                if i in ['male','mostly_male','andy']:\n",
    "                    m+=1\n",
    "                elif i in ['female','mostly_female']:\n",
    "                    f+=1\n",
    "            # change here\n",
    "            if m>f:\n",
    "                return 'male'\n",
    "            else:\n",
    "                return 'female'\n",
    "        else:\n",
    "            if tmp[0] in ['male','mostly_male','andy']:\n",
    "                    return 'male'\n",
    "            else:\n",
    "                return 'female'\n",
    "    except:\n",
    "        return 'unknow'\n",
    "    \n",
    "pre1['username_split_predict'] = pre1['split_words'].apply(helper)\n",
    "pre1 = pre1.drop(['split_words'],axis=1)\n",
    "pre1.tail()"
   ]
  },
  {
   "cell_type": "code",
   "execution_count": null,
   "metadata": {
    "collapsed": true
   },
   "outputs": [],
   "source": []
  },
  {
   "cell_type": "code",
   "execution_count": 76,
   "metadata": {
    "collapsed": true
   },
   "outputs": [],
   "source": [
    "def name_count(name):\n",
    "    arr = np.zeros(52+26*26+3)\n",
    "    # Iterate each character\n",
    "    for ind, x in enumerate(name):\n",
    "        arr[ord(x)-ord('a')] += 1\n",
    "        arr[ord(x)-ord('a')+26] += ind+1\n",
    "    # Iterate every 2 characters\n",
    "    for x in xrange(len(name)-1):\n",
    "        ind = (ord(name[x])-ord('a'))*26 + (ord(name[x+1])-ord('a')) + 52\n",
    "        arr[ind] += 1\n",
    "        # Last character\n",
    "        arr[-3] = ord(name[-1])-ord('a')\n",
    "        # Second Last character\n",
    "        arr[-2] = ord(name[-2])-ord('a')\n",
    "    # Length of name\n",
    "    arr[-1] = len(name)\n",
    "    return arr"
   ]
  },
  {
   "cell_type": "code",
   "execution_count": 77,
   "metadata": {},
   "outputs": [
    {
     "data": {
      "text/plain": [
       "731"
      ]
     },
     "execution_count": 77,
     "metadata": {},
     "output_type": "execute_result"
    }
   ],
   "source": [
    "52+26*26+3"
   ]
  },
  {
   "cell_type": "code",
   "execution_count": 78,
   "metadata": {},
   "outputs": [
    {
     "name": "stdout",
     "output_type": "stream",
     "text": [
      "(49260, 731)\n",
      "(49260, 731)\n",
      "CPU times: user 981 ms, sys: 55 ms, total: 1.04 s\n",
      "Wall time: 1.03 s\n"
     ]
    }
   ],
   "source": [
    "%%time\n",
    "pre1 =pre1.reset_index(drop=True)\n",
    "\n",
    "pre1['mock_name']= pre1['username'].apply(lambda x: ''.join([i.lower() for i in str(x) if i.isdigit()==False]))\n",
    "list_list =np.array(map(name_count, pre1['mock_name']))\n",
    "print list_list.shape\n",
    "tmp = pd.DataFrame(data=list_list, columns=['feature_'+str(i) for i in range(731)])\n",
    "print tmp.shape\n",
    "tmp.head(1)"
   ]
  },
  {
   "cell_type": "code",
   "execution_count": 79,
   "metadata": {
    "collapsed": true
   },
   "outputs": [],
   "source": [
    "# %%time\n",
    "# print cross_val_score(RandomForestClassifier(), tmp, pre0['fname.gender'], cv=10)"
   ]
  },
  {
   "cell_type": "code",
   "execution_count": 80,
   "metadata": {
    "collapsed": true
   },
   "outputs": [],
   "source": [
    "# name_count('abcdfaa')"
   ]
  },
  {
   "cell_type": "code",
   "execution_count": 81,
   "metadata": {
    "collapsed": true
   },
   "outputs": [],
   "source": [
    "# tmp = pd.DataFrame(data=name_count('abcdfaa').reshape(1,-1), columns=['feature_'+str(i) for i in range(731)])\n",
    "# tmp"
   ]
  },
  {
   "cell_type": "code",
   "execution_count": 82,
   "metadata": {},
   "outputs": [
    {
     "data": {
      "text/plain": [
       "(49260, 4)"
      ]
     },
     "execution_count": 82,
     "metadata": {},
     "output_type": "execute_result"
    }
   ],
   "source": [
    "pre1.shape"
   ]
  },
  {
   "cell_type": "code",
   "execution_count": 83,
   "metadata": {},
   "outputs": [
    {
     "data": {
      "text/html": [
       "<div>\n",
       "<style>\n",
       "    .dataframe thead tr:only-child th {\n",
       "        text-align: right;\n",
       "    }\n",
       "\n",
       "    .dataframe thead th {\n",
       "        text-align: left;\n",
       "    }\n",
       "\n",
       "    .dataframe tbody tr th {\n",
       "        vertical-align: top;\n",
       "    }\n",
       "</style>\n",
       "<table border=\"1\" class=\"dataframe\">\n",
       "  <thead>\n",
       "    <tr style=\"text-align: right;\">\n",
       "      <th></th>\n",
       "      <th>username</th>\n",
       "      <th>fname.gender</th>\n",
       "      <th>username_split_predict</th>\n",
       "      <th>mock_name</th>\n",
       "    </tr>\n",
       "  </thead>\n",
       "  <tbody>\n",
       "    <tr>\n",
       "      <th>0</th>\n",
       "      <td>billion</td>\n",
       "      <td>male</td>\n",
       "      <td>unknow</td>\n",
       "      <td>billion</td>\n",
       "    </tr>\n",
       "    <tr>\n",
       "      <th>1</th>\n",
       "      <td>ArmenSoft</td>\n",
       "      <td>male</td>\n",
       "      <td>male</td>\n",
       "      <td>armensoft</td>\n",
       "    </tr>\n",
       "    <tr>\n",
       "      <th>2</th>\n",
       "      <td>okbookman</td>\n",
       "      <td>male</td>\n",
       "      <td>female</td>\n",
       "      <td>okbookman</td>\n",
       "    </tr>\n",
       "    <tr>\n",
       "      <th>3</th>\n",
       "      <td>revitupmedia</td>\n",
       "      <td>male</td>\n",
       "      <td>unknow</td>\n",
       "      <td>revitupmedia</td>\n",
       "    </tr>\n",
       "    <tr>\n",
       "      <th>4</th>\n",
       "      <td>sakshiinfosys</td>\n",
       "      <td>male</td>\n",
       "      <td>male</td>\n",
       "      <td>sakshiinfosys</td>\n",
       "    </tr>\n",
       "  </tbody>\n",
       "</table>\n",
       "</div>"
      ],
      "text/plain": [
       "        username fname.gender username_split_predict      mock_name\n",
       "0        billion         male                 unknow        billion\n",
       "1      ArmenSoft         male                   male      armensoft\n",
       "2      okbookman         male                 female      okbookman\n",
       "3   revitupmedia         male                 unknow   revitupmedia\n",
       "4  sakshiinfosys         male                   male  sakshiinfosys"
      ]
     },
     "execution_count": 83,
     "metadata": {},
     "output_type": "execute_result"
    }
   ],
   "source": [
    "pre1.head()"
   ]
  },
  {
   "cell_type": "code",
   "execution_count": 84,
   "metadata": {
    "collapsed": true
   },
   "outputs": [],
   "source": [
    "# pre0.head()"
   ]
  },
  {
   "cell_type": "code",
   "execution_count": 85,
   "metadata": {},
   "outputs": [
    {
     "name": "stdout",
     "output_type": "stream",
     "text": [
      "(49260, 748)\n",
      "CPU times: user 563 ms, sys: 56 ms, total: 619 ms\n",
      "Wall time: 615 ms\n"
     ]
    }
   ],
   "source": [
    "%%time\n",
    "def add_features(df):\n",
    "    \n",
    "    df['last']= df['username'].str[-1]\n",
    "    df['last_two']= df['username'].str[-2:]\n",
    "#     df['last_three']= df['username'].str[-3:]\n",
    "    df['first']= df['username'].str[0]\n",
    "    df['first2']= df['username'].str[:2]\n",
    "#     df['first3']= df['username'].str[:3]\n",
    "    df['nchar']= df['username'].apply(lambda x: len(str(x)))\n",
    "    df['vowels.pct']=df['username'].apply(lambda x: len([i for i in str(x) if i in 'aeiouy'])/float(len(str(x))))\n",
    "    df['digits.pct']=df['username'].apply(lambda x: sum([i.isdigit() for i in str(x)])/float(len(str(x))))\n",
    "    df['last_is_vowel'] = df['username'].apply(lambda x: str(x)[-1] in 'aeiouy')\n",
    "    df['first_is_vowel'] = df['username'].apply(lambda x: str(x)[0] in 'aeiouy')\n",
    "    df['last_is_digit'] = df['username'].apply(lambda x: str(x)[-1].isdigit())\n",
    "    df['first_is_digit'] = df['username'].apply(lambda x: str(x)[0].isdigit())\n",
    "    df['digits.num'] = df['username'].apply(lambda x: sum([i.isdigit() for i in str(x)]))\n",
    "    df['upper.pct'] = df['username'].apply(lambda x: sum([i.isupper() for i in str(x)]))\n",
    "    df['first_is_upper'] = df['username'].apply(lambda x: str(x)[0].isupper())\n",
    "    df.pop('mock_name')\n",
    "    \n",
    "    \n",
    "    \n",
    "\n",
    "    \n",
    "pre0=pre1.copy()\n",
    "\n",
    "add_features(pre0)\n",
    "\n",
    "pre0 = pd.concat([pre0, tmp], axis=1)\n",
    "\n",
    "print pre0.shape"
   ]
  },
  {
   "cell_type": "code",
   "execution_count": 86,
   "metadata": {},
   "outputs": [
    {
     "data": {
      "text/html": [
       "<div>\n",
       "<style>\n",
       "    .dataframe thead tr:only-child th {\n",
       "        text-align: right;\n",
       "    }\n",
       "\n",
       "    .dataframe thead th {\n",
       "        text-align: left;\n",
       "    }\n",
       "\n",
       "    .dataframe tbody tr th {\n",
       "        vertical-align: top;\n",
       "    }\n",
       "</style>\n",
       "<table border=\"1\" class=\"dataframe\">\n",
       "  <thead>\n",
       "    <tr style=\"text-align: right;\">\n",
       "      <th></th>\n",
       "      <th>username</th>\n",
       "      <th>fname.gender</th>\n",
       "      <th>username_split_predict</th>\n",
       "      <th>last</th>\n",
       "      <th>last_two</th>\n",
       "      <th>first</th>\n",
       "      <th>first2</th>\n",
       "      <th>nchar</th>\n",
       "      <th>vowels.pct</th>\n",
       "      <th>digits.pct</th>\n",
       "      <th>...</th>\n",
       "      <th>feature_721</th>\n",
       "      <th>feature_722</th>\n",
       "      <th>feature_723</th>\n",
       "      <th>feature_724</th>\n",
       "      <th>feature_725</th>\n",
       "      <th>feature_726</th>\n",
       "      <th>feature_727</th>\n",
       "      <th>feature_728</th>\n",
       "      <th>feature_729</th>\n",
       "      <th>feature_730</th>\n",
       "    </tr>\n",
       "  </thead>\n",
       "  <tbody>\n",
       "    <tr>\n",
       "      <th>0</th>\n",
       "      <td>billion</td>\n",
       "      <td>male</td>\n",
       "      <td>unknow</td>\n",
       "      <td>n</td>\n",
       "      <td>on</td>\n",
       "      <td>b</td>\n",
       "      <td>bi</td>\n",
       "      <td>7</td>\n",
       "      <td>0.428571</td>\n",
       "      <td>0.0</td>\n",
       "      <td>...</td>\n",
       "      <td>0.0</td>\n",
       "      <td>0.0</td>\n",
       "      <td>0.0</td>\n",
       "      <td>0.0</td>\n",
       "      <td>0.0</td>\n",
       "      <td>0.0</td>\n",
       "      <td>0.0</td>\n",
       "      <td>13.0</td>\n",
       "      <td>14.0</td>\n",
       "      <td>7.0</td>\n",
       "    </tr>\n",
       "  </tbody>\n",
       "</table>\n",
       "<p>1 rows × 748 columns</p>\n",
       "</div>"
      ],
      "text/plain": [
       "  username fname.gender username_split_predict last last_two first first2  \\\n",
       "0  billion         male                 unknow    n       on     b     bi   \n",
       "\n",
       "   nchar  vowels.pct  digits.pct     ...       feature_721  feature_722  \\\n",
       "0      7    0.428571         0.0     ...               0.0          0.0   \n",
       "\n",
       "   feature_723  feature_724  feature_725  feature_726  feature_727  \\\n",
       "0          0.0          0.0          0.0          0.0          0.0   \n",
       "\n",
       "   feature_728  feature_729  feature_730  \n",
       "0         13.0         14.0          7.0  \n",
       "\n",
       "[1 rows x 748 columns]"
      ]
     },
     "execution_count": 86,
     "metadata": {},
     "output_type": "execute_result"
    }
   ],
   "source": [
    "pre0.head(1)"
   ]
  },
  {
   "cell_type": "code",
   "execution_count": 87,
   "metadata": {},
   "outputs": [
    {
     "data": {
      "text/html": [
       "<div>\n",
       "<style>\n",
       "    .dataframe thead tr:only-child th {\n",
       "        text-align: right;\n",
       "    }\n",
       "\n",
       "    .dataframe thead th {\n",
       "        text-align: left;\n",
       "    }\n",
       "\n",
       "    .dataframe tbody tr th {\n",
       "        vertical-align: top;\n",
       "    }\n",
       "</style>\n",
       "<table border=\"1\" class=\"dataframe\">\n",
       "  <thead>\n",
       "    <tr style=\"text-align: right;\">\n",
       "      <th></th>\n",
       "      <th>username</th>\n",
       "      <th>fname.gender</th>\n",
       "      <th>username_split_predict</th>\n",
       "      <th>last</th>\n",
       "      <th>last_two</th>\n",
       "      <th>first</th>\n",
       "      <th>first2</th>\n",
       "      <th>nchar</th>\n",
       "      <th>vowels.pct</th>\n",
       "      <th>digits.pct</th>\n",
       "      <th>...</th>\n",
       "      <th>feature_721</th>\n",
       "      <th>feature_722</th>\n",
       "      <th>feature_723</th>\n",
       "      <th>feature_724</th>\n",
       "      <th>feature_725</th>\n",
       "      <th>feature_726</th>\n",
       "      <th>feature_727</th>\n",
       "      <th>feature_728</th>\n",
       "      <th>feature_729</th>\n",
       "      <th>feature_730</th>\n",
       "    </tr>\n",
       "  </thead>\n",
       "  <tbody>\n",
       "    <tr>\n",
       "      <th>0</th>\n",
       "      <td>billion</td>\n",
       "      <td>male</td>\n",
       "      <td>unknow</td>\n",
       "      <td>n</td>\n",
       "      <td>on</td>\n",
       "      <td>b</td>\n",
       "      <td>bi</td>\n",
       "      <td>7</td>\n",
       "      <td>0.428571</td>\n",
       "      <td>0.0</td>\n",
       "      <td>...</td>\n",
       "      <td>0.0</td>\n",
       "      <td>0.0</td>\n",
       "      <td>0.0</td>\n",
       "      <td>0.0</td>\n",
       "      <td>0.0</td>\n",
       "      <td>0.0</td>\n",
       "      <td>0.0</td>\n",
       "      <td>13.0</td>\n",
       "      <td>14.0</td>\n",
       "      <td>7.0</td>\n",
       "    </tr>\n",
       "    <tr>\n",
       "      <th>1</th>\n",
       "      <td>ArmenSoft</td>\n",
       "      <td>male</td>\n",
       "      <td>male</td>\n",
       "      <td>t</td>\n",
       "      <td>ft</td>\n",
       "      <td>A</td>\n",
       "      <td>Ar</td>\n",
       "      <td>9</td>\n",
       "      <td>0.222222</td>\n",
       "      <td>0.0</td>\n",
       "      <td>...</td>\n",
       "      <td>0.0</td>\n",
       "      <td>0.0</td>\n",
       "      <td>0.0</td>\n",
       "      <td>0.0</td>\n",
       "      <td>0.0</td>\n",
       "      <td>0.0</td>\n",
       "      <td>0.0</td>\n",
       "      <td>19.0</td>\n",
       "      <td>5.0</td>\n",
       "      <td>9.0</td>\n",
       "    </tr>\n",
       "    <tr>\n",
       "      <th>2</th>\n",
       "      <td>okbookman</td>\n",
       "      <td>male</td>\n",
       "      <td>female</td>\n",
       "      <td>n</td>\n",
       "      <td>an</td>\n",
       "      <td>o</td>\n",
       "      <td>ok</td>\n",
       "      <td>9</td>\n",
       "      <td>0.444444</td>\n",
       "      <td>0.0</td>\n",
       "      <td>...</td>\n",
       "      <td>0.0</td>\n",
       "      <td>0.0</td>\n",
       "      <td>0.0</td>\n",
       "      <td>0.0</td>\n",
       "      <td>0.0</td>\n",
       "      <td>0.0</td>\n",
       "      <td>0.0</td>\n",
       "      <td>13.0</td>\n",
       "      <td>0.0</td>\n",
       "      <td>9.0</td>\n",
       "    </tr>\n",
       "    <tr>\n",
       "      <th>3</th>\n",
       "      <td>revitupmedia</td>\n",
       "      <td>male</td>\n",
       "      <td>unknow</td>\n",
       "      <td>a</td>\n",
       "      <td>ia</td>\n",
       "      <td>r</td>\n",
       "      <td>re</td>\n",
       "      <td>12</td>\n",
       "      <td>0.500000</td>\n",
       "      <td>0.0</td>\n",
       "      <td>...</td>\n",
       "      <td>0.0</td>\n",
       "      <td>0.0</td>\n",
       "      <td>0.0</td>\n",
       "      <td>0.0</td>\n",
       "      <td>0.0</td>\n",
       "      <td>0.0</td>\n",
       "      <td>0.0</td>\n",
       "      <td>0.0</td>\n",
       "      <td>8.0</td>\n",
       "      <td>12.0</td>\n",
       "    </tr>\n",
       "    <tr>\n",
       "      <th>4</th>\n",
       "      <td>sakshiinfosys</td>\n",
       "      <td>male</td>\n",
       "      <td>male</td>\n",
       "      <td>s</td>\n",
       "      <td>ys</td>\n",
       "      <td>s</td>\n",
       "      <td>sa</td>\n",
       "      <td>13</td>\n",
       "      <td>0.384615</td>\n",
       "      <td>0.0</td>\n",
       "      <td>...</td>\n",
       "      <td>0.0</td>\n",
       "      <td>0.0</td>\n",
       "      <td>0.0</td>\n",
       "      <td>0.0</td>\n",
       "      <td>0.0</td>\n",
       "      <td>0.0</td>\n",
       "      <td>0.0</td>\n",
       "      <td>18.0</td>\n",
       "      <td>24.0</td>\n",
       "      <td>13.0</td>\n",
       "    </tr>\n",
       "  </tbody>\n",
       "</table>\n",
       "<p>5 rows × 748 columns</p>\n",
       "</div>"
      ],
      "text/plain": [
       "        username fname.gender username_split_predict last last_two first  \\\n",
       "0        billion         male                 unknow    n       on     b   \n",
       "1      ArmenSoft         male                   male    t       ft     A   \n",
       "2      okbookman         male                 female    n       an     o   \n",
       "3   revitupmedia         male                 unknow    a       ia     r   \n",
       "4  sakshiinfosys         male                   male    s       ys     s   \n",
       "\n",
       "  first2  nchar  vowels.pct  digits.pct     ...       feature_721  \\\n",
       "0     bi      7    0.428571         0.0     ...               0.0   \n",
       "1     Ar      9    0.222222         0.0     ...               0.0   \n",
       "2     ok      9    0.444444         0.0     ...               0.0   \n",
       "3     re     12    0.500000         0.0     ...               0.0   \n",
       "4     sa     13    0.384615         0.0     ...               0.0   \n",
       "\n",
       "   feature_722  feature_723  feature_724  feature_725  feature_726  \\\n",
       "0          0.0          0.0          0.0          0.0          0.0   \n",
       "1          0.0          0.0          0.0          0.0          0.0   \n",
       "2          0.0          0.0          0.0          0.0          0.0   \n",
       "3          0.0          0.0          0.0          0.0          0.0   \n",
       "4          0.0          0.0          0.0          0.0          0.0   \n",
       "\n",
       "   feature_727  feature_728  feature_729  feature_730  \n",
       "0          0.0         13.0         14.0          7.0  \n",
       "1          0.0         19.0          5.0          9.0  \n",
       "2          0.0         13.0          0.0          9.0  \n",
       "3          0.0          0.0          8.0         12.0  \n",
       "4          0.0         18.0         24.0         13.0  \n",
       "\n",
       "[5 rows x 748 columns]"
      ]
     },
     "execution_count": 87,
     "metadata": {},
     "output_type": "execute_result"
    }
   ],
   "source": [
    "pre0.head()"
   ]
  },
  {
   "cell_type": "code",
   "execution_count": 88,
   "metadata": {
    "collapsed": true
   },
   "outputs": [],
   "source": [
    "pre0.to_csv('./preprocessed.csv', index=False)"
   ]
  },
  {
   "cell_type": "code",
   "execution_count": null,
   "metadata": {
    "collapsed": true
   },
   "outputs": [],
   "source": []
  },
  {
   "cell_type": "code",
   "execution_count": 18,
   "metadata": {},
   "outputs": [
    {
     "name": "stdout",
     "output_type": "stream",
     "text": [
      "male      40389\n",
      "female     8871\n",
      "Name: fname.gender, dtype: int64\n"
     ]
    },
    {
     "data": {
      "text/plain": [
       "0.8199147381242388"
      ]
     },
     "execution_count": 18,
     "metadata": {},
     "output_type": "execute_result"
    }
   ],
   "source": [
    "print pre0.iloc[:,1].value_counts()\n",
    "40389.0/(40389+8871)"
   ]
  },
  {
   "cell_type": "markdown",
   "metadata": {},
   "source": [
    "### accuracy if set all male"
   ]
  },
  {
   "cell_type": "code",
   "execution_count": 19,
   "metadata": {},
   "outputs": [
    {
     "name": "stdout",
     "output_type": "stream",
     "text": [
      "['username_split_predict' 'last' 'last_two']\n"
     ]
    },
    {
     "data": {
      "text/html": [
       "<div>\n",
       "<style>\n",
       "    .dataframe thead tr:only-child th {\n",
       "        text-align: right;\n",
       "    }\n",
       "\n",
       "    .dataframe thead th {\n",
       "        text-align: left;\n",
       "    }\n",
       "\n",
       "    .dataframe tbody tr th {\n",
       "        vertical-align: top;\n",
       "    }\n",
       "</style>\n",
       "<table border=\"1\" class=\"dataframe\">\n",
       "  <thead>\n",
       "    <tr style=\"text-align: right;\">\n",
       "      <th></th>\n",
       "      <th>username</th>\n",
       "      <th>fname.gender</th>\n",
       "      <th>username_split_predict</th>\n",
       "      <th>last</th>\n",
       "      <th>last_two</th>\n",
       "      <th>first</th>\n",
       "      <th>first2</th>\n",
       "      <th>nchar</th>\n",
       "      <th>vowels.pct</th>\n",
       "      <th>digits.pct</th>\n",
       "      <th>...</th>\n",
       "      <th>feature_721</th>\n",
       "      <th>feature_722</th>\n",
       "      <th>feature_723</th>\n",
       "      <th>feature_724</th>\n",
       "      <th>feature_725</th>\n",
       "      <th>feature_726</th>\n",
       "      <th>feature_727</th>\n",
       "      <th>feature_728</th>\n",
       "      <th>feature_729</th>\n",
       "      <th>feature_730</th>\n",
       "    </tr>\n",
       "  </thead>\n",
       "  <tbody>\n",
       "    <tr>\n",
       "      <th>0</th>\n",
       "      <td>billion</td>\n",
       "      <td>male</td>\n",
       "      <td>unknow</td>\n",
       "      <td>n</td>\n",
       "      <td>on</td>\n",
       "      <td>b</td>\n",
       "      <td>bi</td>\n",
       "      <td>7</td>\n",
       "      <td>0.428571</td>\n",
       "      <td>0.0</td>\n",
       "      <td>...</td>\n",
       "      <td>0.0</td>\n",
       "      <td>0.0</td>\n",
       "      <td>0.0</td>\n",
       "      <td>0.0</td>\n",
       "      <td>0.0</td>\n",
       "      <td>0.0</td>\n",
       "      <td>0.0</td>\n",
       "      <td>13.0</td>\n",
       "      <td>14.0</td>\n",
       "      <td>7.0</td>\n",
       "    </tr>\n",
       "    <tr>\n",
       "      <th>1</th>\n",
       "      <td>ArmenSoft</td>\n",
       "      <td>male</td>\n",
       "      <td>male</td>\n",
       "      <td>t</td>\n",
       "      <td>ft</td>\n",
       "      <td>A</td>\n",
       "      <td>Ar</td>\n",
       "      <td>9</td>\n",
       "      <td>0.222222</td>\n",
       "      <td>0.0</td>\n",
       "      <td>...</td>\n",
       "      <td>0.0</td>\n",
       "      <td>0.0</td>\n",
       "      <td>0.0</td>\n",
       "      <td>0.0</td>\n",
       "      <td>0.0</td>\n",
       "      <td>0.0</td>\n",
       "      <td>0.0</td>\n",
       "      <td>19.0</td>\n",
       "      <td>5.0</td>\n",
       "      <td>9.0</td>\n",
       "    </tr>\n",
       "    <tr>\n",
       "      <th>2</th>\n",
       "      <td>okbookman</td>\n",
       "      <td>male</td>\n",
       "      <td>female</td>\n",
       "      <td>n</td>\n",
       "      <td>an</td>\n",
       "      <td>o</td>\n",
       "      <td>ok</td>\n",
       "      <td>9</td>\n",
       "      <td>0.444444</td>\n",
       "      <td>0.0</td>\n",
       "      <td>...</td>\n",
       "      <td>0.0</td>\n",
       "      <td>0.0</td>\n",
       "      <td>0.0</td>\n",
       "      <td>0.0</td>\n",
       "      <td>0.0</td>\n",
       "      <td>0.0</td>\n",
       "      <td>0.0</td>\n",
       "      <td>13.0</td>\n",
       "      <td>0.0</td>\n",
       "      <td>9.0</td>\n",
       "    </tr>\n",
       "    <tr>\n",
       "      <th>3</th>\n",
       "      <td>revitupmedia</td>\n",
       "      <td>male</td>\n",
       "      <td>unknow</td>\n",
       "      <td>a</td>\n",
       "      <td>ia</td>\n",
       "      <td>r</td>\n",
       "      <td>re</td>\n",
       "      <td>12</td>\n",
       "      <td>0.500000</td>\n",
       "      <td>0.0</td>\n",
       "      <td>...</td>\n",
       "      <td>0.0</td>\n",
       "      <td>0.0</td>\n",
       "      <td>0.0</td>\n",
       "      <td>0.0</td>\n",
       "      <td>0.0</td>\n",
       "      <td>0.0</td>\n",
       "      <td>0.0</td>\n",
       "      <td>0.0</td>\n",
       "      <td>8.0</td>\n",
       "      <td>12.0</td>\n",
       "    </tr>\n",
       "    <tr>\n",
       "      <th>4</th>\n",
       "      <td>sakshiinfosys</td>\n",
       "      <td>male</td>\n",
       "      <td>male</td>\n",
       "      <td>s</td>\n",
       "      <td>ys</td>\n",
       "      <td>s</td>\n",
       "      <td>sa</td>\n",
       "      <td>13</td>\n",
       "      <td>0.384615</td>\n",
       "      <td>0.0</td>\n",
       "      <td>...</td>\n",
       "      <td>0.0</td>\n",
       "      <td>0.0</td>\n",
       "      <td>0.0</td>\n",
       "      <td>0.0</td>\n",
       "      <td>0.0</td>\n",
       "      <td>0.0</td>\n",
       "      <td>0.0</td>\n",
       "      <td>18.0</td>\n",
       "      <td>24.0</td>\n",
       "      <td>13.0</td>\n",
       "    </tr>\n",
       "  </tbody>\n",
       "</table>\n",
       "<p>5 rows × 748 columns</p>\n",
       "</div>"
      ],
      "text/plain": [
       "        username fname.gender username_split_predict last last_two first  \\\n",
       "0        billion         male                 unknow    n       on     b   \n",
       "1      ArmenSoft         male                   male    t       ft     A   \n",
       "2      okbookman         male                 female    n       an     o   \n",
       "3   revitupmedia         male                 unknow    a       ia     r   \n",
       "4  sakshiinfosys         male                   male    s       ys     s   \n",
       "\n",
       "  first2  nchar  vowels.pct  digits.pct     ...       feature_721  \\\n",
       "0     bi      7    0.428571         0.0     ...               0.0   \n",
       "1     Ar      9    0.222222         0.0     ...               0.0   \n",
       "2     ok      9    0.444444         0.0     ...               0.0   \n",
       "3     re     12    0.500000         0.0     ...               0.0   \n",
       "4     sa     13    0.384615         0.0     ...               0.0   \n",
       "\n",
       "   feature_722  feature_723  feature_724  feature_725  feature_726  \\\n",
       "0          0.0          0.0          0.0          0.0          0.0   \n",
       "1          0.0          0.0          0.0          0.0          0.0   \n",
       "2          0.0          0.0          0.0          0.0          0.0   \n",
       "3          0.0          0.0          0.0          0.0          0.0   \n",
       "4          0.0          0.0          0.0          0.0          0.0   \n",
       "\n",
       "   feature_727  feature_728  feature_729  feature_730  \n",
       "0          0.0         13.0         14.0          7.0  \n",
       "1          0.0         19.0          5.0          9.0  \n",
       "2          0.0         13.0          0.0          9.0  \n",
       "3          0.0          0.0          8.0         12.0  \n",
       "4          0.0         18.0         24.0         13.0  \n",
       "\n",
       "[5 rows x 748 columns]"
      ]
     },
     "execution_count": 19,
     "metadata": {},
     "output_type": "execute_result"
    }
   ],
   "source": [
    "# print pre0.columns.values\n",
    "print pre0.columns.values[2:5]\n",
    "pre0.head()"
   ]
  },
  {
   "cell_type": "code",
   "execution_count": null,
   "metadata": {
    "collapsed": true
   },
   "outputs": [],
   "source": []
  },
  {
   "cell_type": "code",
   "execution_count": 20,
   "metadata": {},
   "outputs": [
    {
     "data": {
      "text/html": [
       "<div>\n",
       "<style>\n",
       "    .dataframe thead tr:only-child th {\n",
       "        text-align: right;\n",
       "    }\n",
       "\n",
       "    .dataframe thead th {\n",
       "        text-align: left;\n",
       "    }\n",
       "\n",
       "    .dataframe tbody tr th {\n",
       "        vertical-align: top;\n",
       "    }\n",
       "</style>\n",
       "<table border=\"1\" class=\"dataframe\">\n",
       "  <thead>\n",
       "    <tr style=\"text-align: right;\">\n",
       "      <th></th>\n",
       "      <th>username</th>\n",
       "      <th>fname.gender</th>\n",
       "      <th>username_split_predict</th>\n",
       "      <th>last</th>\n",
       "      <th>last_two</th>\n",
       "      <th>first</th>\n",
       "      <th>first2</th>\n",
       "      <th>nchar</th>\n",
       "      <th>vowels.pct</th>\n",
       "      <th>digits.pct</th>\n",
       "      <th>...</th>\n",
       "      <th>feature_721</th>\n",
       "      <th>feature_722</th>\n",
       "      <th>feature_723</th>\n",
       "      <th>feature_724</th>\n",
       "      <th>feature_725</th>\n",
       "      <th>feature_726</th>\n",
       "      <th>feature_727</th>\n",
       "      <th>feature_728</th>\n",
       "      <th>feature_729</th>\n",
       "      <th>feature_730</th>\n",
       "    </tr>\n",
       "  </thead>\n",
       "  <tbody>\n",
       "    <tr>\n",
       "      <th>0</th>\n",
       "      <td>billion</td>\n",
       "      <td>male</td>\n",
       "      <td>unknow</td>\n",
       "      <td>n</td>\n",
       "      <td>on</td>\n",
       "      <td>b</td>\n",
       "      <td>bi</td>\n",
       "      <td>7</td>\n",
       "      <td>0.428571</td>\n",
       "      <td>0.0</td>\n",
       "      <td>...</td>\n",
       "      <td>0.0</td>\n",
       "      <td>0.0</td>\n",
       "      <td>0.0</td>\n",
       "      <td>0.0</td>\n",
       "      <td>0.0</td>\n",
       "      <td>0.0</td>\n",
       "      <td>0.0</td>\n",
       "      <td>13.0</td>\n",
       "      <td>14.0</td>\n",
       "      <td>7.0</td>\n",
       "    </tr>\n",
       "    <tr>\n",
       "      <th>1</th>\n",
       "      <td>ArmenSoft</td>\n",
       "      <td>male</td>\n",
       "      <td>male</td>\n",
       "      <td>t</td>\n",
       "      <td>ft</td>\n",
       "      <td>A</td>\n",
       "      <td>Ar</td>\n",
       "      <td>9</td>\n",
       "      <td>0.222222</td>\n",
       "      <td>0.0</td>\n",
       "      <td>...</td>\n",
       "      <td>0.0</td>\n",
       "      <td>0.0</td>\n",
       "      <td>0.0</td>\n",
       "      <td>0.0</td>\n",
       "      <td>0.0</td>\n",
       "      <td>0.0</td>\n",
       "      <td>0.0</td>\n",
       "      <td>19.0</td>\n",
       "      <td>5.0</td>\n",
       "      <td>9.0</td>\n",
       "    </tr>\n",
       "    <tr>\n",
       "      <th>2</th>\n",
       "      <td>okbookman</td>\n",
       "      <td>male</td>\n",
       "      <td>female</td>\n",
       "      <td>n</td>\n",
       "      <td>an</td>\n",
       "      <td>o</td>\n",
       "      <td>ok</td>\n",
       "      <td>9</td>\n",
       "      <td>0.444444</td>\n",
       "      <td>0.0</td>\n",
       "      <td>...</td>\n",
       "      <td>0.0</td>\n",
       "      <td>0.0</td>\n",
       "      <td>0.0</td>\n",
       "      <td>0.0</td>\n",
       "      <td>0.0</td>\n",
       "      <td>0.0</td>\n",
       "      <td>0.0</td>\n",
       "      <td>13.0</td>\n",
       "      <td>0.0</td>\n",
       "      <td>9.0</td>\n",
       "    </tr>\n",
       "    <tr>\n",
       "      <th>3</th>\n",
       "      <td>revitupmedia</td>\n",
       "      <td>male</td>\n",
       "      <td>unknow</td>\n",
       "      <td>a</td>\n",
       "      <td>ia</td>\n",
       "      <td>r</td>\n",
       "      <td>re</td>\n",
       "      <td>12</td>\n",
       "      <td>0.500000</td>\n",
       "      <td>0.0</td>\n",
       "      <td>...</td>\n",
       "      <td>0.0</td>\n",
       "      <td>0.0</td>\n",
       "      <td>0.0</td>\n",
       "      <td>0.0</td>\n",
       "      <td>0.0</td>\n",
       "      <td>0.0</td>\n",
       "      <td>0.0</td>\n",
       "      <td>0.0</td>\n",
       "      <td>8.0</td>\n",
       "      <td>12.0</td>\n",
       "    </tr>\n",
       "    <tr>\n",
       "      <th>4</th>\n",
       "      <td>sakshiinfosys</td>\n",
       "      <td>male</td>\n",
       "      <td>male</td>\n",
       "      <td>s</td>\n",
       "      <td>ys</td>\n",
       "      <td>s</td>\n",
       "      <td>sa</td>\n",
       "      <td>13</td>\n",
       "      <td>0.384615</td>\n",
       "      <td>0.0</td>\n",
       "      <td>...</td>\n",
       "      <td>0.0</td>\n",
       "      <td>0.0</td>\n",
       "      <td>0.0</td>\n",
       "      <td>0.0</td>\n",
       "      <td>0.0</td>\n",
       "      <td>0.0</td>\n",
       "      <td>0.0</td>\n",
       "      <td>18.0</td>\n",
       "      <td>24.0</td>\n",
       "      <td>13.0</td>\n",
       "    </tr>\n",
       "  </tbody>\n",
       "</table>\n",
       "<p>5 rows × 748 columns</p>\n",
       "</div>"
      ],
      "text/plain": [
       "        username fname.gender username_split_predict last last_two first  \\\n",
       "0        billion         male                 unknow    n       on     b   \n",
       "1      ArmenSoft         male                   male    t       ft     A   \n",
       "2      okbookman         male                 female    n       an     o   \n",
       "3   revitupmedia         male                 unknow    a       ia     r   \n",
       "4  sakshiinfosys         male                   male    s       ys     s   \n",
       "\n",
       "  first2  nchar  vowels.pct  digits.pct     ...       feature_721  \\\n",
       "0     bi      7    0.428571         0.0     ...               0.0   \n",
       "1     Ar      9    0.222222         0.0     ...               0.0   \n",
       "2     ok      9    0.444444         0.0     ...               0.0   \n",
       "3     re     12    0.500000         0.0     ...               0.0   \n",
       "4     sa     13    0.384615         0.0     ...               0.0   \n",
       "\n",
       "   feature_722  feature_723  feature_724  feature_725  feature_726  \\\n",
       "0          0.0          0.0          0.0          0.0          0.0   \n",
       "1          0.0          0.0          0.0          0.0          0.0   \n",
       "2          0.0          0.0          0.0          0.0          0.0   \n",
       "3          0.0          0.0          0.0          0.0          0.0   \n",
       "4          0.0          0.0          0.0          0.0          0.0   \n",
       "\n",
       "   feature_727  feature_728  feature_729  feature_730  \n",
       "0          0.0         13.0         14.0          7.0  \n",
       "1          0.0         19.0          5.0          9.0  \n",
       "2          0.0         13.0          0.0          9.0  \n",
       "3          0.0          0.0          8.0         12.0  \n",
       "4          0.0         18.0         24.0         13.0  \n",
       "\n",
       "[5 rows x 748 columns]"
      ]
     },
     "execution_count": 20,
     "metadata": {},
     "output_type": "execute_result"
    }
   ],
   "source": [
    "pre0.head()"
   ]
  },
  {
   "cell_type": "code",
   "execution_count": 21,
   "metadata": {},
   "outputs": [
    {
     "name": "stdout",
     "output_type": "stream",
     "text": [
      "CPU times: user 92 ms, sys: 1e+03 µs, total: 93 ms\n",
      "Wall time: 92.3 ms\n"
     ]
    }
   ],
   "source": [
    "%%time\n",
    "def label_encode(df, columns):\n",
    "    for col in columns:\n",
    "        le = LabelEncoder()\n",
    "        col_values_unique = list(df[col].unique())\n",
    "        le_fitted = le.fit(col_values_unique)\n",
    " \n",
    "        col_values = list(df[col].values)\n",
    "        le.classes_\n",
    "        col_values_transformed = le.transform(col_values)\n",
    "        df[col] = col_values_transformed\n",
    " \n",
    "to_be_encoded_cols = pre0.columns.values[2:7]\n",
    "label_encode(pre0, to_be_encoded_cols)\n",
    "\n",
    "# pre0 =pre0.drop(['username_split_predict'], axis=1)"
   ]
  },
  {
   "cell_type": "code",
   "execution_count": 22,
   "metadata": {},
   "outputs": [
    {
     "name": "stdout",
     "output_type": "stream",
     "text": [
      "[(34482, 746), (34482,), (14778, 746), (14778,)]\n"
     ]
    },
    {
     "data": {
      "text/html": [
       "<div>\n",
       "<style>\n",
       "    .dataframe thead tr:only-child th {\n",
       "        text-align: right;\n",
       "    }\n",
       "\n",
       "    .dataframe thead th {\n",
       "        text-align: left;\n",
       "    }\n",
       "\n",
       "    .dataframe tbody tr th {\n",
       "        vertical-align: top;\n",
       "    }\n",
       "</style>\n",
       "<table border=\"1\" class=\"dataframe\">\n",
       "  <thead>\n",
       "    <tr style=\"text-align: right;\">\n",
       "      <th></th>\n",
       "      <th>username_split_predict</th>\n",
       "      <th>last</th>\n",
       "      <th>last_two</th>\n",
       "      <th>first</th>\n",
       "      <th>first2</th>\n",
       "      <th>nchar</th>\n",
       "      <th>vowels.pct</th>\n",
       "      <th>digits.pct</th>\n",
       "      <th>last_is_vowel</th>\n",
       "      <th>first_is_vowel</th>\n",
       "      <th>...</th>\n",
       "      <th>feature_721</th>\n",
       "      <th>feature_722</th>\n",
       "      <th>feature_723</th>\n",
       "      <th>feature_724</th>\n",
       "      <th>feature_725</th>\n",
       "      <th>feature_726</th>\n",
       "      <th>feature_727</th>\n",
       "      <th>feature_728</th>\n",
       "      <th>feature_729</th>\n",
       "      <th>feature_730</th>\n",
       "    </tr>\n",
       "  </thead>\n",
       "  <tbody>\n",
       "    <tr>\n",
       "      <th>1046</th>\n",
       "      <td>1</td>\n",
       "      <td>40</td>\n",
       "      <td>1678</td>\n",
       "      <td>8</td>\n",
       "      <td>346</td>\n",
       "      <td>9</td>\n",
       "      <td>0.222222</td>\n",
       "      <td>0.0</td>\n",
       "      <td>True</td>\n",
       "      <td>False</td>\n",
       "      <td>...</td>\n",
       "      <td>0.0</td>\n",
       "      <td>0.0</td>\n",
       "      <td>0.0</td>\n",
       "      <td>0.0</td>\n",
       "      <td>0.0</td>\n",
       "      <td>0.0</td>\n",
       "      <td>0.0</td>\n",
       "      <td>4.0</td>\n",
       "      <td>21.0</td>\n",
       "      <td>9.0</td>\n",
       "    </tr>\n",
       "  </tbody>\n",
       "</table>\n",
       "<p>1 rows × 746 columns</p>\n",
       "</div>"
      ],
      "text/plain": [
       "      username_split_predict  last  last_two  first  first2  nchar  \\\n",
       "1046                       1    40      1678      8     346      9   \n",
       "\n",
       "      vowels.pct  digits.pct  last_is_vowel  first_is_vowel     ...       \\\n",
       "1046    0.222222         0.0           True           False     ...        \n",
       "\n",
       "      feature_721  feature_722  feature_723  feature_724  feature_725  \\\n",
       "1046          0.0          0.0          0.0          0.0          0.0   \n",
       "\n",
       "      feature_726  feature_727  feature_728  feature_729  feature_730  \n",
       "1046          0.0          0.0          4.0         21.0          9.0  \n",
       "\n",
       "[1 rows x 746 columns]"
      ]
     },
     "execution_count": 22,
     "metadata": {},
     "output_type": "execute_result"
    }
   ],
   "source": [
    "X_train, X_test, y_train, y_test =train_test_split(pre0.iloc[:,2:], pre0.iloc[:,1], test_size=.3, stratify =pre0.iloc[:,1], \n",
    "                                                  random_state=7)\n",
    "print dim(X_train, y_train, X_test, y_test )\n",
    "X_train.head(1)"
   ]
  },
  {
   "cell_type": "code",
   "execution_count": 23,
   "metadata": {
    "collapsed": true
   },
   "outputs": [],
   "source": [
    "# pre0.to_csv('preprocessed.csv',index=False)"
   ]
  },
  {
   "cell_type": "code",
   "execution_count": 24,
   "metadata": {},
   "outputs": [
    {
     "name": "stdout",
     "output_type": "stream",
     "text": [
      "male      28272\n",
      "female     6210\n",
      "Name: fname.gender, dtype: int64\n",
      "14778\n"
     ]
    },
    {
     "data": {
      "text/plain": [
       "male      12117\n",
       "female     2661\n",
       "Name: fname.gender, dtype: int64"
      ]
     },
     "execution_count": 24,
     "metadata": {},
     "output_type": "execute_result"
    }
   ],
   "source": [
    "# cross_val_score(RandomForestClassifier(), pre0.iloc[:,2:], pre0.iloc[:,1], cv=10)\n",
    "print y_train.value_counts()\n",
    "\n",
    "## true labels\n",
    "print len(y_test)\n",
    "y_test.value_counts()"
   ]
  },
  {
   "cell_type": "code",
   "execution_count": 25,
   "metadata": {},
   "outputs": [
    {
     "name": "stdout",
     "output_type": "stream",
     "text": [
      "CPU times: user 3.29 s, sys: 304 ms, total: 3.6 s\n",
      "Wall time: 3.59 s\n"
     ]
    }
   ],
   "source": [
    "%%time\n",
    "fr=RandomForestClassifier()\n",
    "fr.fit(X_train, y_train)\n",
    "## predict labels\n",
    "fr_p = fr.predict(X_test)\n",
    "pd.Series(fr_p).value_counts()"
   ]
  },
  {
   "cell_type": "code",
   "execution_count": 26,
   "metadata": {},
   "outputs": [
    {
     "name": "stdout",
     "output_type": "stream",
     "text": [
      "0.819935038571\n",
      "0.819326025173\n",
      "Confusion matrix, without normalization\n",
      "[[  395  2266]\n",
      " [  404 11713]]\n"
     ]
    },
    {
     "data": {
      "image/png": "[encoded data removed]",
      "text/plain": [
       "<matplotlib.figure.Figure at 0x2b5236555b50>"
      ]
     },
     "metadata": {},
     "output_type": "display_data"
    }
   ],
   "source": [
    "print 12117/14778.0\n",
    "print accuracy_score(y_test, fr_p)\n",
    "plot_confusion_matrix(confusion_matrix(y_test,fr_p), ['female','male'])"
   ]
  },
  {
   "cell_type": "code",
   "execution_count": 27,
   "metadata": {},
   "outputs": [
    {
     "name": "stdout",
     "output_type": "stream",
     "text": [
      "CPU times: user 50.8 s, sys: 764 ms, total: 51.6 s\n",
      "Wall time: 4.39 s\n"
     ]
    }
   ],
   "source": [
    "%%time\n",
    "fr=RandomForestClassifier(n_estimators=150, min_samples_split=5, n_jobs=24)\n",
    "fr.fit(X_train, y_train)\n",
    "## predict labels\n",
    "fr_p = fr.predict(X_test)\n",
    "pd.Series(fr_p).value_counts()"
   ]
  },
  {
   "cell_type": "code",
   "execution_count": 28,
   "metadata": {},
   "outputs": [
    {
     "name": "stdout",
     "output_type": "stream",
     "text": [
      "0.819935038571\n",
      "0.83089727974\n",
      "Confusion matrix, without normalization\n",
      "[[  178  2483]\n",
      " [   16 12101]]\n"
     ]
    },
    {
     "data": {
      "image/png": "[encoded data removed]",
      "text/plain": [
       "<matplotlib.figure.Figure at 0x2b525f089b90>"
      ]
     },
     "metadata": {},
     "output_type": "display_data"
    }
   ],
   "source": [
    "print 12117/14778.0\n",
    "print accuracy_score(y_test, fr_p)\n",
    "plot_confusion_matrix(confusion_matrix(y_test,fr_p), ['female','male'])"
   ]
  },
  {
   "cell_type": "code",
   "execution_count": 29,
   "metadata": {},
   "outputs": [
    {
     "name": "stdout",
     "output_type": "stream",
     "text": [
      "CPU times: user 3min 36s, sys: 1.08 s, total: 3min 37s\n",
      "Wall time: 12.5 s\n"
     ]
    }
   ],
   "source": [
    "%%time\n",
    "fr=RandomForestClassifier(n_estimators=640, min_samples_split=4, n_jobs=24)\n",
    "fr.fit(X_train, y_train)\n",
    "## predict labels\n",
    "fr_p = fr.predict(X_test)\n",
    "pd.Series(fr_p).value_counts()"
   ]
  },
  {
   "cell_type": "code",
   "execution_count": 30,
   "metadata": {},
   "outputs": [
    {
     "name": "stdout",
     "output_type": "stream",
     "text": [
      "0.819935038571\n",
      "0.832182974692\n",
      "Confusion matrix, without normalization\n",
      "[[  198  2463]\n",
      " [   17 12100]]\n"
     ]
    },
    {
     "data": {
      "image/png": "[encoded data removed]",
      "text/plain": [
       "<matplotlib.figure.Figure at 0x2b5286997990>"
      ]
     },
     "metadata": {},
     "output_type": "display_data"
    }
   ],
   "source": [
    "print 12117/14778.0\n",
    "print accuracy_score(y_test, fr_p)\n",
    "plot_confusion_matrix(confusion_matrix(y_test,fr_p), ['female','male'])"
   ]
  },
  {
   "cell_type": "code",
   "execution_count": 31,
   "metadata": {
    "collapsed": true
   },
   "outputs": [],
   "source": [
    "def plotting(model, df, num):\n",
    "    forest = model\n",
    "    importances = forest.feature_importances_\n",
    "    std = np.std([tree.feature_importances_ for tree in forest.estimators_],\n",
    "                 axis=0)\n",
    "    indices = np.argsort(importances)[::-1]\n",
    "\n",
    "\n",
    "\n",
    "    # Plot the feature importances of the forest\n",
    "    plt.figure(figsize=(16,8))\n",
    "    plt.title(\"Feature importances\")\n",
    "    plt.barh(range(num), importances[indices][:num],\n",
    "           color=\"g\", xerr=std[indices][:num], \n",
    "            align=\"center\", alpha=.7)\n",
    "\n",
    "    plt.yticks(range(num), list(df.columns[indices][:num],))\n",
    "    plt.ylim([-1, num])\n",
    "\n",
    "    plt.gca().invert_yaxis()\n",
    "\n",
    "    plt.show()\n",
    "\n",
    "    # Print the feature ranking\n",
    "    print(\"Feature ranking:\")\n",
    "    for f in range(df.shape[1]):\n",
    "        print(\"{}. feature {} ({:.2f} %)\" .format (f + 1, df.columns[indices[f]], 100*importances[indices[f]]))"
   ]
  },
  {
   "cell_type": "code",
   "execution_count": 32,
   "metadata": {},
   "outputs": [
    {
     "data": {
      "image/png": "[encoded data removed]",
      "text/plain": [
       "<matplotlib.figure.Figure at 0x2b533803e1d0>"
      ]
     },
     "metadata": {},
     "output_type": "display_data"
    },
    {
     "name": "stdout",
     "output_type": "stream",
     "text": [
      "Feature ranking:\n",
      "1. feature username_split_predict (3.57 %)\n",
      "2. feature first2 (2.53 %)\n",
      "3. feature last_two (2.49 %)\n",
      "4. feature vowels.pct (1.98 %)\n",
      "5. feature first (1.94 %)\n",
      "6. feature last (1.84 %)\n",
      "7. feature feature_728 (1.74 %)\n",
      "8. feature feature_729 (1.59 %)\n",
      "9. feature nchar (1.59 %)\n",
      "10. feature feature_730 (1.55 %)\n",
      "11. feature feature_26 (1.45 %)\n",
      "12. feature feature_30 (1.42 %)\n",
      "13. feature feature_39 (1.22 %)\n",
      "14. feature feature_34 (1.21 %)\n",
      "15. feature feature_43 (1.20 %)\n",
      "16. feature feature_44 (1.18 %)\n",
      "17. feature feature_45 (1.10 %)\n",
      "18. feature feature_37 (1.05 %)\n",
      "19. feature feature_40 (1.02 %)\n",
      "20. feature digits.pct (1.01 %)\n",
      "21. feature feature_38 (0.95 %)\n",
      "22. feature feature_28 (0.94 %)\n",
      "23. feature feature_29 (0.80 %)\n",
      "24. feature feature_33 (0.79 %)\n",
      "25. feature feature_0 (0.76 %)\n",
      "26. feature digits.num (0.75 %)\n",
      "27. feature feature_4 (0.72 %)\n",
      "28. feature feature_27 (0.72 %)\n",
      "29. feature feature_46 (0.71 %)\n",
      "30. feature feature_36 (0.68 %)\n",
      "31. feature feature_32 (0.68 %)\n",
      "32. feature feature_18 (0.67 %)\n",
      "33. feature feature_13 (0.65 %)\n",
      "34. feature upper.pct (0.63 %)\n",
      "35. feature feature_41 (0.63 %)\n",
      "36. feature feature_17 (0.61 %)\n",
      "37. feature feature_50 (0.61 %)\n",
      "38. feature feature_19 (0.59 %)\n",
      "39. feature feature_11 (0.58 %)\n",
      "40. feature feature_8 (0.57 %)\n",
      "41. feature feature_14 (0.55 %)\n",
      "42. feature feature_12 (0.53 %)\n",
      "43. feature feature_2 (0.50 %)\n",
      "44. feature feature_48 (0.48 %)\n",
      "45. feature feature_47 (0.46 %)\n",
      "46. feature feature_31 (0.45 %)\n",
      "47. feature feature_35 (0.45 %)\n",
      "48. feature feature_3 (0.44 %)\n",
      "49. feature feature_7 (0.42 %)\n",
      "50. feature feature_10 (0.41 %)\n",
      "51. feature feature_1 (0.40 %)\n",
      "52. feature feature_6 (0.39 %)\n",
      "53. feature feature_20 (0.39 %)\n",
      "54. feature feature_15 (0.38 %)\n",
      "55. feature feature_390 (0.36 %)\n",
      "56. feature feature_65 (0.36 %)\n",
      "57. feature last_is_vowel (0.34 %)\n",
      "58. feature feature_24 (0.32 %)\n",
      "59. feature first_is_vowel (0.32 %)\n",
      "60. feature feature_69 (0.30 %)\n",
      "61. feature feature_273 (0.30 %)\n",
      "62. feature last_is_digit (0.30 %)\n",
      "63. feature first_is_upper (0.29 %)\n",
      "64. feature feature_9 (0.28 %)\n",
      "65. feature feature_21 (0.28 %)\n",
      "66. feature feature_22 (0.28 %)\n",
      "67. feature feature_5 (0.28 %)\n",
      "68. feature feature_51 (0.28 %)\n",
      "69. feature feature_264 (0.28 %)\n",
      "70. feature feature_502 (0.27 %)\n",
      "71. feature feature_49 (0.26 %)\n",
      "72. feature feature_169 (0.26 %)\n",
      "73. feature feature_167 (0.26 %)\n",
      "74. feature feature_71 (0.26 %)\n",
      "75. feature feature_173 (0.26 %)\n",
      "76. feature feature_364 (0.26 %)\n",
      "77. feature feature_498 (0.25 %)\n",
      "78. feature feature_527 (0.24 %)\n",
      "79. feature feature_346 (0.24 %)\n",
      "80. feature feature_342 (0.24 %)\n",
      "81. feature feature_174 (0.24 %)\n",
      "82. feature feature_550 (0.24 %)\n",
      "83. feature feature_494 (0.23 %)\n",
      "84. feature feature_278 (0.23 %)\n",
      "85. feature feature_394 (0.23 %)\n",
      "86. feature feature_429 (0.22 %)\n",
      "87. feature feature_338 (0.22 %)\n",
      "88. feature feature_539 (0.22 %)\n",
      "89. feature feature_546 (0.22 %)\n",
      "90. feature feature_70 (0.21 %)\n",
      "91. feature feature_403 (0.20 %)\n",
      "92. feature feature_64 (0.20 %)\n",
      "93. feature feature_520 (0.20 %)\n",
      "94. feature feature_372 (0.20 %)\n",
      "95. feature feature_238 (0.20 %)\n",
      "96. feature feature_82 (0.20 %)\n",
      "97. feature feature_368 (0.19 %)\n",
      "98. feature feature_160 (0.19 %)\n",
      "99. feature feature_528 (0.19 %)\n",
      "100. feature feature_393 (0.19 %)\n",
      "101. feature feature_234 (0.19 %)\n",
      "102. feature feature_25 (0.19 %)\n",
      "103. feature feature_433 (0.19 %)\n",
      "104. feature feature_312 (0.19 %)\n",
      "105. feature feature_156 (0.19 %)\n",
      "106. feature feature_104 (0.19 %)\n",
      "107. feature feature_63 (0.19 %)\n",
      "108. feature feature_279 (0.18 %)\n",
      "109. feature feature_134 (0.18 %)\n",
      "110. feature feature_54 (0.18 %)\n",
      "111. feature feature_398 (0.18 %)\n",
      "112. feature feature_524 (0.18 %)\n",
      "113. feature feature_111 (0.18 %)\n",
      "114. feature feature_277 (0.18 %)\n",
      "115. feature feature_554 (0.18 %)\n",
      "116. feature feature_508 (0.17 %)\n",
      "117. feature feature_53 (0.17 %)\n",
      "118. feature feature_396 (0.17 %)\n",
      "119. feature feature_175 (0.17 %)\n",
      "120. feature feature_560 (0.17 %)\n",
      "121. feature feature_409 (0.16 %)\n",
      "122. feature feature_138 (0.16 %)\n",
      "123. feature feature_262 (0.16 %)\n",
      "124. feature feature_349 (0.16 %)\n",
      "125. feature feature_260 (0.16 %)\n",
      "126. feature feature_118 (0.16 %)\n",
      "127. feature feature_130 (0.16 %)\n",
      "128. feature feature_320 (0.16 %)\n",
      "129. feature feature_427 (0.16 %)\n",
      "130. feature feature_242 (0.15 %)\n",
      "131. feature feature_378 (0.15 %)\n",
      "132. feature feature_108 (0.15 %)\n",
      "133. feature feature_286 (0.15 %)\n",
      "134. feature feature_553 (0.15 %)\n",
      "135. feature feature_23 (0.15 %)\n",
      "136. feature feature_158 (0.14 %)\n",
      "137. feature feature_67 (0.14 %)\n",
      "138. feature feature_216 (0.14 %)\n",
      "139. feature feature_538 (0.14 %)\n",
      "140. feature feature_513 (0.14 %)\n",
      "141. feature feature_60 (0.14 %)\n",
      "142. feature feature_436 (0.14 %)\n",
      "143. feature feature_55 (0.14 %)\n",
      "144. feature feature_78 (0.14 %)\n",
      "145. feature feature_271 (0.14 %)\n",
      "146. feature feature_157 (0.14 %)\n",
      "147. feature feature_408 (0.14 %)\n",
      "148. feature feature_540 (0.14 %)\n",
      "149. feature feature_590 (0.14 %)\n",
      "150. feature feature_168 (0.14 %)\n",
      "151. feature feature_159 (0.14 %)\n",
      "152. feature feature_352 (0.14 %)\n",
      "153. feature feature_565 (0.13 %)\n",
      "154. feature feature_316 (0.13 %)\n",
      "155. feature feature_58 (0.13 %)\n",
      "156. feature feature_442 (0.13 %)\n",
      "157. feature feature_628 (0.13 %)\n",
      "158. feature feature_563 (0.13 %)\n",
      "159. feature feature_459 (0.13 %)\n",
      "160. feature feature_505 (0.13 %)\n",
      "161. feature feature_272 (0.13 %)\n",
      "162. feature feature_212 (0.13 %)\n",
      "163. feature feature_248 (0.13 %)\n",
      "164. feature feature_589 (0.13 %)\n",
      "165. feature feature_428 (0.13 %)\n",
      "166. feature feature_392 (0.12 %)\n",
      "167. feature feature_208 (0.12 %)\n",
      "168. feature feature_522 (0.12 %)\n",
      "169. feature feature_585 (0.12 %)\n",
      "170. feature feature_512 (0.12 %)\n",
      "171. feature feature_180 (0.12 %)\n",
      "172. feature feature_404 (0.12 %)\n",
      "173. feature feature_602 (0.12 %)\n",
      "174. feature feature_434 (0.12 %)\n",
      "175. feature feature_290 (0.12 %)\n",
      "176. feature feature_356 (0.12 %)\n",
      "177. feature feature_534 (0.12 %)\n",
      "178. feature feature_606 (0.12 %)\n",
      "179. feature feature_114 (0.12 %)\n",
      "180. feature feature_42 (0.12 %)\n",
      "181. feature feature_266 (0.12 %)\n",
      "182. feature feature_59 (0.12 %)\n",
      "183. feature feature_362 (0.12 %)\n",
      "184. feature feature_329 (0.12 %)\n",
      "185. feature feature_511 (0.12 %)\n",
      "186. feature feature_147 (0.11 %)\n",
      "187. feature feature_532 (0.11 %)\n",
      "188. feature feature_638 (0.11 %)\n",
      "189. feature feature_446 (0.11 %)\n",
      "190. feature feature_430 (0.11 %)\n",
      "191. feature feature_641 (0.11 %)\n",
      "192. feature feature_222 (0.11 %)\n",
      "193. feature feature_86 (0.11 %)\n",
      "194. feature feature_557 (0.11 %)\n",
      "195. feature feature_382 (0.11 %)\n",
      "196. feature feature_72 (0.11 %)\n",
      "197. feature feature_435 (0.11 %)\n",
      "198. feature feature_182 (0.11 %)\n",
      "199. feature feature_92 (0.11 %)\n",
      "200. feature feature_95 (0.11 %)\n",
      "201. feature feature_506 (0.11 %)\n",
      "202. feature feature_178 (0.11 %)\n",
      "203. feature feature_376 (0.11 %)\n",
      "204. feature feature_358 (0.11 %)\n",
      "205. feature feature_133 (0.11 %)\n",
      "206. feature feature_564 (0.10 %)\n",
      "207. feature feature_171 (0.10 %)\n",
      "208. feature feature_300 (0.10 %)\n",
      "209. feature feature_583 (0.10 %)\n",
      "210. feature feature_76 (0.10 %)\n",
      "211. feature feature_687 (0.10 %)\n",
      "212. feature feature_112 (0.10 %)\n",
      "213. feature feature_121 (0.10 %)\n",
      "214. feature feature_154 (0.10 %)\n",
      "215. feature feature_74 (0.10 %)\n",
      "216. feature feature_598 (0.10 %)\n",
      "217. feature feature_144 (0.10 %)\n",
      "218. feature feature_518 (0.10 %)\n",
      "219. feature feature_62 (0.10 %)\n",
      "220. feature feature_542 (0.10 %)\n",
      "221. feature feature_164 (0.10 %)\n",
      "222. feature feature_89 (0.10 %)\n",
      "223. feature feature_274 (0.10 %)\n",
      "224. feature feature_497 (0.09 %)\n",
      "225. feature feature_566 (0.09 %)\n",
      "226. feature feature_419 (0.09 %)\n",
      "227. feature feature_281 (0.09 %)\n",
      "228. feature feature_225 (0.09 %)\n",
      "229. feature feature_115 (0.09 %)\n",
      "230. feature feature_73 (0.09 %)\n",
      "231. feature feature_350 (0.09 %)\n",
      "232. feature feature_177 (0.09 %)\n",
      "233. feature feature_98 (0.09 %)\n",
      "234. feature feature_190 (0.09 %)\n",
      "235. feature feature_570 (0.09 %)\n",
      "236. feature feature_496 (0.09 %)\n",
      "237. feature feature_702 (0.09 %)\n",
      "238. feature feature_166 (0.09 %)\n",
      "239. feature feature_676 (0.09 %)\n",
      "240. feature feature_530 (0.09 %)\n",
      "241. feature feature_624 (0.09 %)\n",
      "242. feature feature_591 (0.09 %)\n",
      "243. feature feature_221 (0.08 %)\n",
      "244. feature feature_263 (0.08 %)\n",
      "245. feature feature_504 (0.08 %)\n",
      "246. feature feature_357 (0.08 %)\n",
      "247. feature feature_162 (0.08 %)\n",
      "248. feature feature_150 (0.08 %)\n",
      "249. feature feature_573 (0.08 %)\n",
      "250. feature feature_438 (0.08 %)\n",
      "251. feature feature_431 (0.08 %)\n",
      "252. feature feature_366 (0.08 %)\n",
      "253. feature feature_96 (0.08 %)\n",
      "254. feature feature_417 (0.08 %)\n",
      "255. feature feature_457 (0.08 %)\n",
      "256. feature feature_576 (0.08 %)\n",
      "257. feature feature_449 (0.08 %)\n",
      "258. feature feature_689 (0.08 %)\n",
      "259. feature feature_330 (0.08 %)\n",
      "260. feature feature_261 (0.08 %)\n",
      "261. feature feature_148 (0.08 %)\n",
      "262. feature feature_285 (0.08 %)\n",
      "263. feature feature_418 (0.08 %)\n",
      "264. feature feature_414 (0.08 %)\n",
      "265. feature feature_514 (0.08 %)\n",
      "266. feature feature_228 (0.08 %)\n",
      "267. feature feature_215 (0.08 %)\n",
      "268. feature feature_179 (0.08 %)\n",
      "269. feature feature_548 (0.08 %)\n",
      "270. feature feature_507 (0.08 %)\n",
      "271. feature feature_306 (0.08 %)\n",
      "272. feature feature_584 (0.08 %)\n",
      "273. feature feature_251 (0.08 %)\n",
      "274. feature feature_535 (0.08 %)\n",
      "275. feature feature_326 (0.08 %)\n",
      "276. feature feature_381 (0.08 %)\n",
      "277. feature feature_214 (0.08 %)\n",
      "278. feature feature_322 (0.08 %)\n",
      "279. feature feature_163 (0.07 %)\n",
      "280. feature feature_450 (0.07 %)\n",
      "281. feature feature_270 (0.07 %)\n",
      "282. feature feature_587 (0.07 %)\n",
      "283. feature feature_400 (0.07 %)\n",
      "284. feature feature_52 (0.07 %)\n",
      "285. feature feature_407 (0.07 %)\n",
      "286. feature feature_575 (0.07 %)\n",
      "287. feature feature_632 (0.07 %)\n",
      "288. feature feature_437 (0.07 %)\n",
      "289. feature feature_57 (0.07 %)\n",
      "290. feature feature_379 (0.07 %)\n",
      "291. feature feature_375 (0.07 %)\n",
      "292. feature feature_341 (0.07 %)\n",
      "293. feature feature_16 (0.07 %)\n",
      "294. feature feature_384 (0.07 %)\n",
      "295. feature feature_453 (0.07 %)\n",
      "296. feature feature_340 (0.07 %)\n",
      "297. feature feature_61 (0.07 %)\n",
      "298. feature feature_694 (0.07 %)\n",
      "299. feature feature_254 (0.07 %)\n",
      "300. feature feature_416 (0.07 %)\n",
      "301. feature feature_196 (0.07 %)\n",
      "302. feature feature_348 (0.07 %)\n",
      "303. feature feature_523 (0.07 %)\n",
      "304. feature feature_323 (0.07 %)\n",
      "305. feature feature_500 (0.07 %)\n",
      "306. feature feature_456 (0.07 %)\n",
      "307. feature feature_161 (0.07 %)\n",
      "308. feature feature_186 (0.07 %)\n",
      "309. feature feature_339 (0.07 %)\n",
      "310. feature feature_521 (0.07 %)\n",
      "311. feature feature_344 (0.07 %)\n",
      "312. feature feature_680 (0.07 %)\n",
      "313. feature feature_533 (0.07 %)\n",
      "314. feature feature_679 (0.07 %)\n",
      "315. feature feature_706 (0.07 %)\n",
      "316. feature feature_245 (0.07 %)\n",
      "317. feature feature_391 (0.06 %)\n",
      "318. feature feature_637 (0.06 %)\n",
      "319. feature feature_426 (0.06 %)\n",
      "320. feature feature_678 (0.06 %)\n",
      "321. feature feature_265 (0.06 %)\n",
      "322. feature feature_574 (0.06 %)\n",
      "323. feature feature_170 (0.06 %)\n",
      "324. feature feature_561 (0.06 %)\n",
      "325. feature feature_677 (0.06 %)\n",
      "326. feature feature_122 (0.06 %)\n",
      "327. feature feature_123 (0.06 %)\n",
      "328. feature feature_331 (0.06 %)\n",
      "329. feature feature_116 (0.06 %)\n",
      "330. feature feature_412 (0.06 %)\n",
      "331. feature feature_124 (0.06 %)\n",
      "332. feature feature_79 (0.06 %)\n",
      "333. feature feature_531 (0.06 %)\n",
      "334. feature feature_77 (0.06 %)\n",
      "335. feature feature_219 (0.06 %)\n",
      "336. feature feature_56 (0.06 %)\n",
      "337. feature feature_455 (0.06 %)\n",
      "338. feature feature_402 (0.06 %)\n",
      "339. feature feature_388 (0.06 %)\n",
      "340. feature feature_371 (0.06 %)\n",
      "341. feature feature_199 (0.06 %)\n",
      "342. feature feature_193 (0.06 %)\n",
      "343. feature feature_691 (0.06 %)\n",
      "344. feature feature_201 (0.06 %)\n",
      "345. feature feature_102 (0.06 %)\n",
      "346. feature feature_462 (0.06 %)\n",
      "347. feature feature_420 (0.06 %)\n",
      "348. feature feature_365 (0.06 %)\n",
      "349. feature feature_690 (0.06 %)\n",
      "350. feature feature_267 (0.06 %)\n",
      "351. feature feature_401 (0.06 %)\n",
      "352. feature feature_509 (0.06 %)\n",
      "353. feature feature_658 (0.06 %)\n",
      "354. feature feature_612 (0.06 %)\n",
      "355. feature feature_395 (0.06 %)\n",
      "356. feature feature_106 (0.06 %)\n",
      "357. feature feature_410 (0.06 %)\n",
      "358. feature feature_461 (0.06 %)\n",
      "359. feature feature_313 (0.06 %)\n",
      "360. feature feature_695 (0.06 %)\n",
      "361. feature feature_324 (0.06 %)\n",
      "362. feature feature_686 (0.05 %)\n",
      "363. feature feature_558 (0.05 %)\n",
      "364. feature feature_582 (0.05 %)\n",
      "365. feature feature_181 (0.05 %)\n",
      "366. feature feature_397 (0.05 %)\n",
      "367. feature feature_710 (0.05 %)\n",
      "368. feature feature_252 (0.05 %)\n",
      "369. feature feature_578 (0.05 %)\n",
      "370. feature feature_247 (0.05 %)\n",
      "371. feature feature_258 (0.05 %)\n",
      "372. feature feature_572 (0.05 %)\n",
      "373. feature feature_355 (0.05 %)\n",
      "374. feature feature_544 (0.05 %)\n",
      "375. feature feature_226 (0.05 %)\n",
      "376. feature feature_141 (0.05 %)\n",
      "377. feature feature_525 (0.05 %)\n",
      "378. feature feature_128 (0.05 %)\n",
      "379. feature feature_580 (0.05 %)\n",
      "380. feature feature_568 (0.05 %)\n",
      "381. feature feature_422 (0.05 %)\n",
      "382. feature feature_370 (0.05 %)\n",
      "383. feature feature_283 (0.05 %)\n",
      "384. feature feature_559 (0.05 %)\n",
      "385. feature feature_246 (0.05 %)\n",
      "386. feature feature_275 (0.05 %)\n",
      "387. feature feature_495 (0.05 %)\n",
      "388. feature feature_421 (0.05 %)\n",
      "389. feature feature_249 (0.05 %)\n",
      "390. feature feature_503 (0.05 %)\n",
      "391. feature feature_399 (0.05 %)\n",
      "392. feature feature_336 (0.05 %)\n",
      "393. feature feature_526 (0.05 %)\n",
      "394. feature feature_269 (0.05 %)\n",
      "395. feature feature_425 (0.05 %)\n",
      "396. feature feature_642 (0.05 %)\n",
      "397. feature feature_466 (0.05 %)\n",
      "398. feature feature_611 (0.05 %)\n",
      "399. feature feature_142 (0.05 %)\n",
      "400. feature feature_293 (0.05 %)\n",
      "401. feature feature_319 (0.05 %)\n",
      "402. feature feature_136 (0.05 %)\n",
      "403. feature feature_650 (0.05 %)\n",
      "404. feature feature_488 (0.05 %)\n",
      "405. feature feature_280 (0.05 %)\n",
      "406. feature feature_333 (0.05 %)\n",
      "407. feature feature_460 (0.05 %)\n",
      "408. feature feature_374 (0.05 %)\n",
      "409. feature feature_626 (0.04 %)\n",
      "410. feature feature_187 (0.04 %)\n",
      "411. feature feature_415 (0.04 %)\n",
      "412. feature feature_325 (0.04 %)\n",
      "413. feature feature_230 (0.04 %)\n",
      "414. feature feature_501 (0.04 %)\n",
      "415. feature feature_90 (0.04 %)\n",
      "416. feature feature_423 (0.04 %)\n",
      "417. feature feature_298 (0.04 %)\n",
      "418. feature feature_227 (0.04 %)\n",
      "419. feature feature_110 (0.04 %)\n",
      "420. feature feature_81 (0.04 %)\n",
      "421. feature feature_100 (0.04 %)\n",
      "422. feature feature_688 (0.04 %)\n",
      "423. feature feature_360 (0.04 %)\n",
      "424. feature feature_682 (0.04 %)\n",
      "425. feature feature_693 (0.04 %)\n",
      "426. feature feature_529 (0.04 %)\n",
      "427. feature feature_353 (0.04 %)\n",
      "428. feature feature_515 (0.04 %)\n",
      "429. feature feature_499 (0.04 %)\n",
      "430. feature feature_440 (0.04 %)\n",
      "431. feature feature_334 (0.04 %)\n",
      "432. feature feature_253 (0.04 %)\n",
      "433. feature feature_152 (0.04 %)\n",
      "434. feature feature_235 (0.04 %)\n",
      "435. feature feature_294 (0.04 %)\n",
      "436. feature feature_284 (0.04 %)\n",
      "437. feature feature_716 (0.04 %)\n",
      "438. feature feature_631 (0.04 %)\n",
      "439. feature feature_665 (0.04 %)\n",
      "440. feature feature_552 (0.04 %)\n",
      "441. feature feature_556 (0.04 %)\n",
      "442. feature feature_66 (0.04 %)\n",
      "443. feature feature_345 (0.04 %)\n",
      "444. feature feature_145 (0.04 %)\n",
      "445. feature feature_441 (0.04 %)\n",
      "446. feature feature_383 (0.04 %)\n",
      "447. feature feature_165 (0.04 %)\n",
      "448. feature feature_684 (0.04 %)\n",
      "449. feature feature_315 (0.04 %)\n",
      "450. feature feature_314 (0.04 %)\n",
      "451. feature feature_256 (0.04 %)\n",
      "452. feature feature_439 (0.04 %)\n",
      "453. feature feature_373 (0.04 %)\n",
      "454. feature feature_332 (0.04 %)\n",
      "455. feature feature_236 (0.04 %)\n",
      "456. feature feature_301 (0.04 %)\n",
      "457. feature feature_176 (0.04 %)\n",
      "458. feature feature_581 (0.04 %)\n",
      "459. feature feature_577 (0.04 %)\n",
      "460. feature feature_75 (0.04 %)\n",
      "461. feature feature_549 (0.04 %)\n",
      "462. feature feature_721 (0.04 %)\n",
      "463. feature feature_135 (0.04 %)\n",
      "464. feature feature_727 (0.04 %)\n",
      "465. feature feature_516 (0.04 %)\n",
      "466. feature feature_202 (0.04 %)\n",
      "467. feature feature_151 (0.04 %)\n",
      "468. feature feature_317 (0.04 %)\n",
      "469. feature feature_454 (0.04 %)\n",
      "470. feature feature_282 (0.04 %)\n",
      "471. feature feature_184 (0.03 %)\n",
      "472. feature feature_132 (0.03 %)\n",
      "473. feature feature_367 (0.03 %)\n",
      "474. feature feature_244 (0.03 %)\n",
      "475. feature feature_105 (0.03 %)\n",
      "476. feature feature_241 (0.03 %)\n",
      "477. feature feature_537 (0.03 %)\n",
      "478. feature feature_698 (0.03 %)\n",
      "479. feature feature_615 (0.03 %)\n",
      "480. feature feature_616 (0.03 %)\n",
      "481. feature feature_541 (0.03 %)\n",
      "482. feature feature_555 (0.03 %)\n",
      "483. feature feature_296 (0.03 %)\n",
      "484. feature feature_288 (0.03 %)\n",
      "485. feature feature_220 (0.03 %)\n",
      "486. feature feature_619 (0.03 %)\n",
      "487. feature feature_200 (0.03 %)\n",
      "488. feature feature_359 (0.03 %)\n",
      "489. feature feature_697 (0.03 %)\n",
      "490. feature feature_91 (0.03 %)\n",
      "491. feature feature_597 (0.03 %)\n",
      "492. feature feature_85 (0.03 %)\n",
      "493. feature feature_80 (0.03 %)\n",
      "494. feature feature_343 (0.03 %)\n",
      "495. feature feature_119 (0.03 %)\n",
      "496. feature feature_137 (0.03 %)\n",
      "497. feature feature_377 (0.03 %)\n",
      "498. feature feature_131 (0.03 %)\n",
      "499. feature feature_143 (0.03 %)\n",
      "500. feature feature_243 (0.03 %)\n",
      "501. feature feature_726 (0.03 %)\n",
      "502. feature feature_213 (0.03 %)\n",
      "503. feature feature_304 (0.03 %)\n",
      "504. feature feature_327 (0.03 %)\n",
      "505. feature feature_223 (0.03 %)\n",
      "506. feature feature_547 (0.03 %)\n",
      "507. feature feature_211 (0.03 %)\n",
      "508. feature feature_543 (0.03 %)\n",
      "509. feature feature_635 (0.03 %)\n",
      "510. feature feature_268 (0.03 %)\n",
      "511. feature feature_149 (0.03 %)\n",
      "512. feature feature_83 (0.03 %)\n",
      "513. feature feature_444 (0.03 %)\n",
      "514. feature feature_596 (0.03 %)\n",
      "515. feature feature_609 (0.03 %)\n",
      "516. feature feature_218 (0.03 %)\n",
      "517. feature feature_107 (0.03 %)\n",
      "518. feature feature_571 (0.03 %)\n",
      "519. feature feature_629 (0.03 %)\n",
      "520. feature feature_551 (0.03 %)\n",
      "521. feature feature_303 (0.03 %)\n",
      "522. feature feature_386 (0.03 %)\n",
      "523. feature feature_479 (0.03 %)\n",
      "524. feature feature_411 (0.03 %)\n",
      "525. feature feature_117 (0.03 %)\n",
      "526. feature feature_405 (0.03 %)\n",
      "527. feature feature_232 (0.03 %)\n",
      "528. feature feature_237 (0.03 %)\n",
      "529. feature feature_363 (0.03 %)\n",
      "530. feature feature_627 (0.02 %)\n",
      "531. feature feature_287 (0.02 %)\n",
      "532. feature feature_351 (0.02 %)\n",
      "533. feature feature_463 (0.02 %)\n",
      "534. feature feature_630 (0.02 %)\n",
      "535. feature feature_129 (0.02 %)\n",
      "536. feature feature_443 (0.02 %)\n",
      "537. feature feature_593 (0.02 %)\n",
      "538. feature feature_289 (0.02 %)\n",
      "539. feature feature_328 (0.02 %)\n",
      "540. feature feature_140 (0.02 %)\n",
      "541. feature feature_643 (0.02 %)\n",
      "542. feature feature_662 (0.02 %)\n",
      "543. feature feature_276 (0.02 %)\n",
      "544. feature feature_600 (0.02 %)\n",
      "545. feature feature_464 (0.02 %)\n",
      "546. feature feature_97 (0.02 %)\n",
      "547. feature feature_646 (0.02 %)\n",
      "548. feature feature_210 (0.02 %)\n",
      "549. feature feature_126 (0.02 %)\n",
      "550. feature feature_683 (0.02 %)\n",
      "551. feature feature_84 (0.02 %)\n",
      "552. feature feature_685 (0.02 %)\n",
      "553. feature feature_595 (0.02 %)\n",
      "554. feature feature_432 (0.02 %)\n",
      "555. feature feature_424 (0.02 %)\n",
      "556. feature feature_705 (0.02 %)\n",
      "557. feature feature_674 (0.02 %)\n",
      "558. feature feature_599 (0.02 %)\n",
      "559. feature feature_617 (0.02 %)\n",
      "560. feature feature_194 (0.02 %)\n",
      "561. feature feature_714 (0.02 %)\n",
      "562. feature feature_699 (0.02 %)\n",
      "563. feature feature_217 (0.02 %)\n",
      "564. feature feature_712 (0.02 %)\n",
      "565. feature feature_701 (0.02 %)\n",
      "566. feature feature_720 (0.02 %)\n",
      "567. feature feature_206 (0.02 %)\n",
      "568. feature feature_291 (0.02 %)\n",
      "569. feature feature_209 (0.02 %)\n",
      "570. feature feature_696 (0.02 %)\n",
      "571. feature feature_172 (0.02 %)\n",
      "572. feature feature_204 (0.02 %)\n",
      "573. feature feature_295 (0.02 %)\n",
      "574. feature feature_240 (0.02 %)\n",
      "575. feature feature_197 (0.02 %)\n",
      "576. feature feature_113 (0.02 %)\n",
      "577. feature feature_305 (0.02 %)\n",
      "578. feature feature_722 (0.02 %)\n",
      "579. feature feature_389 (0.02 %)\n",
      "580. feature feature_715 (0.02 %)\n",
      "581. feature feature_569 (0.02 %)\n",
      "582. feature feature_668 (0.02 %)\n",
      "583. feature feature_347 (0.02 %)\n",
      "584. feature feature_704 (0.02 %)\n",
      "585. feature feature_307 (0.02 %)\n",
      "586. feature feature_601 (0.02 %)\n",
      "587. feature feature_654 (0.02 %)\n",
      "588. feature feature_669 (0.02 %)\n",
      "589. feature feature_681 (0.02 %)\n",
      "590. feature feature_519 (0.02 %)\n",
      "591. feature feature_613 (0.02 %)\n",
      "592. feature feature_445 (0.02 %)\n",
      "593. feature feature_652 (0.02 %)\n",
      "594. feature feature_661 (0.02 %)\n",
      "595. feature feature_709 (0.02 %)\n",
      "596. feature feature_545 (0.02 %)\n",
      "597. feature feature_656 (0.02 %)\n",
      "598. feature feature_68 (0.02 %)\n",
      "599. feature feature_708 (0.02 %)\n",
      "600. feature feature_88 (0.02 %)\n",
      "601. feature feature_636 (0.02 %)\n",
      "602. feature feature_155 (0.02 %)\n",
      "603. feature feature_139 (0.02 %)\n",
      "604. feature feature_648 (0.02 %)\n",
      "605. feature feature_567 (0.02 %)\n",
      "606. feature feature_673 (0.02 %)\n",
      "607. feature feature_292 (0.01 %)\n",
      "608. feature feature_703 (0.01 %)\n",
      "609. feature feature_452 (0.01 %)\n",
      "610. feature feature_255 (0.01 %)\n",
      "611. feature feature_185 (0.01 %)\n",
      "612. feature feature_486 (0.01 %)\n",
      "613. feature feature_297 (0.01 %)\n",
      "614. feature feature_607 (0.01 %)\n",
      "615. feature feature_413 (0.01 %)\n",
      "616. feature feature_622 (0.01 %)\n",
      "617. feature feature_657 (0.01 %)\n",
      "618. feature feature_620 (0.01 %)\n",
      "619. feature feature_448 (0.01 %)\n",
      "620. feature feature_586 (0.01 %)\n",
      "621. feature feature_651 (0.01 %)\n",
      "622. feature feature_451 (0.01 %)\n",
      "623. feature feature_93 (0.01 %)\n",
      "624. feature feature_99 (0.01 %)\n",
      "625. feature feature_473 (0.01 %)\n",
      "626. feature feature_109 (0.01 %)\n",
      "627. feature feature_308 (0.01 %)\n",
      "628. feature feature_639 (0.01 %)\n",
      "629. feature feature_369 (0.01 %)\n",
      "630. feature feature_707 (0.01 %)\n",
      "631. feature feature_634 (0.01 %)\n",
      "632. feature feature_299 (0.01 %)\n",
      "633. feature feature_239 (0.01 %)\n",
      "634. feature feature_189 (0.01 %)\n",
      "635. feature feature_337 (0.01 %)\n",
      "636. feature feature_618 (0.01 %)\n",
      "637. feature feature_536 (0.01 %)\n",
      "638. feature feature_713 (0.01 %)\n",
      "639. feature feature_517 (0.01 %)\n",
      "640. feature feature_311 (0.01 %)\n",
      "641. feature feature_385 (0.01 %)\n",
      "642. feature feature_387 (0.01 %)\n",
      "643. feature feature_579 (0.01 %)\n",
      "644. feature feature_664 (0.01 %)\n",
      "645. feature feature_700 (0.01 %)\n",
      "646. feature feature_475 (0.01 %)\n",
      "647. feature feature_127 (0.01 %)\n",
      "648. feature feature_723 (0.01 %)\n",
      "649. feature feature_87 (0.01 %)\n",
      "650. feature feature_188 (0.01 %)\n",
      "651. feature feature_183 (0.01 %)\n",
      "652. feature feature_125 (0.01 %)\n",
      "653. feature feature_205 (0.01 %)\n",
      "654. feature feature_354 (0.01 %)\n",
      "655. feature feature_663 (0.01 %)\n",
      "656. feature feature_608 (0.01 %)\n",
      "657. feature feature_447 (0.01 %)\n",
      "658. feature feature_250 (0.01 %)\n",
      "659. feature feature_465 (0.01 %)\n",
      "660. feature feature_592 (0.01 %)\n",
      "661. feature feature_309 (0.01 %)\n",
      "662. feature feature_724 (0.01 %)\n",
      "663. feature feature_259 (0.01 %)\n",
      "664. feature feature_594 (0.01 %)\n",
      "665. feature feature_655 (0.01 %)\n",
      "666. feature feature_510 (0.01 %)\n",
      "667. feature feature_604 (0.01 %)\n",
      "668. feature feature_670 (0.01 %)\n",
      "669. feature feature_660 (0.01 %)\n",
      "670. feature feature_610 (0.01 %)\n",
      "671. feature feature_480 (0.01 %)\n",
      "672. feature feature_692 (0.01 %)\n",
      "673. feature feature_605 (0.01 %)\n",
      "674. feature feature_153 (0.01 %)\n",
      "675. feature feature_192 (0.01 %)\n",
      "676. feature feature_468 (0.01 %)\n",
      "677. feature feature_476 (0.01 %)\n",
      "678. feature feature_645 (0.01 %)\n",
      "679. feature feature_484 (0.01 %)\n",
      "680. feature feature_625 (0.01 %)\n",
      "681. feature feature_310 (0.01 %)\n",
      "682. feature feature_562 (0.01 %)\n",
      "683. feature feature_233 (0.01 %)\n",
      "684. feature feature_229 (0.01 %)\n",
      "685. feature feature_489 (0.01 %)\n",
      "686. feature feature_318 (0.01 %)\n",
      "687. feature feature_458 (0.01 %)\n",
      "688. feature feature_380 (0.01 %)\n",
      "689. feature feature_490 (0.01 %)\n",
      "690. feature feature_667 (0.01 %)\n",
      "691. feature feature_469 (0.01 %)\n",
      "692. feature feature_101 (0.01 %)\n",
      "693. feature feature_321 (0.01 %)\n",
      "694. feature feature_718 (0.00 %)\n",
      "695. feature feature_103 (0.00 %)\n",
      "696. feature feature_717 (0.00 %)\n",
      "697. feature feature_406 (0.00 %)\n",
      "698. feature feature_653 (0.00 %)\n",
      "699. feature feature_224 (0.00 %)\n",
      "700. feature feature_483 (0.00 %)\n",
      "701. feature feature_623 (0.00 %)\n",
      "702. feature feature_195 (0.00 %)\n",
      "703. feature feature_487 (0.00 %)\n",
      "704. feature feature_203 (0.00 %)\n",
      "705. feature feature_633 (0.00 %)\n",
      "706. feature feature_672 (0.00 %)\n",
      "707. feature feature_719 (0.00 %)\n",
      "708. feature feature_191 (0.00 %)\n",
      "709. feature feature_603 (0.00 %)\n",
      "710. feature feature_671 (0.00 %)\n",
      "711. feature feature_478 (0.00 %)\n",
      "712. feature feature_257 (0.00 %)\n",
      "713. feature feature_120 (0.00 %)\n",
      "714. feature feature_649 (0.00 %)\n",
      "715. feature feature_302 (0.00 %)\n",
      "716. feature feature_644 (0.00 %)\n",
      "717. feature feature_231 (0.00 %)\n",
      "718. feature feature_467 (0.00 %)\n",
      "719. feature feature_711 (0.00 %)\n",
      "720. feature feature_361 (0.00 %)\n",
      "721. feature feature_470 (0.00 %)\n",
      "722. feature feature_335 (0.00 %)\n",
      "723. feature feature_94 (0.00 %)\n",
      "724. feature feature_675 (0.00 %)\n",
      "725. feature feature_659 (0.00 %)\n",
      "726. feature feature_472 (0.00 %)\n",
      "727. feature feature_725 (0.00 %)\n",
      "728. feature feature_666 (0.00 %)\n",
      "729. feature feature_485 (0.00 %)\n",
      "730. feature feature_471 (0.00 %)\n",
      "731. feature feature_588 (0.00 %)\n",
      "732. feature feature_146 (0.00 %)\n",
      "733. feature feature_207 (0.00 %)\n",
      "734. feature feature_482 (0.00 %)\n",
      "735. feature feature_481 (0.00 %)\n",
      "736. feature feature_647 (0.00 %)\n",
      "737. feature feature_614 (0.00 %)\n",
      "738. feature feature_474 (0.00 %)\n",
      "739. feature feature_621 (0.00 %)\n",
      "740. feature feature_198 (0.00 %)\n",
      "741. feature feature_491 (0.00 %)\n",
      "742. feature first_is_digit (0.00 %)\n",
      "743. feature feature_477 (0.00 %)\n",
      "744. feature feature_492 (0.00 %)\n",
      "745. feature feature_493 (0.00 %)\n",
      "746. feature feature_640 (0.00 %)\n"
     ]
    }
   ],
   "source": [
    "plotting(fr, X_train, 20)"
   ]
  },
  {
   "cell_type": "code",
   "execution_count": null,
   "metadata": {
    "collapsed": true
   },
   "outputs": [],
   "source": []
  },
  {
   "cell_type": "code",
   "execution_count": null,
   "metadata": {
    "collapsed": true
   },
   "outputs": [],
   "source": []
  },
  {
   "cell_type": "code",
   "execution_count": 33,
   "metadata": {
    "collapsed": true
   },
   "outputs": [],
   "source": [
    "# RandomForestClassifier?"
   ]
  },
  {
   "cell_type": "code",
   "execution_count": 34,
   "metadata": {},
   "outputs": [
    {
     "name": "stdout",
     "output_type": "stream",
     "text": [
      "CPU times: user 1min 3s, sys: 371 ms, total: 1min 4s\n",
      "Wall time: 5.17 s\n"
     ]
    }
   ],
   "source": [
    "%%time\n",
    "fr=RandomForestClassifier(n_estimators=200\n",
    "                          , min_samples_split=6, n_jobs=24, criterion='entropy')\n",
    "fr.fit(X_train, y_train)\n",
    "## predict labels\n",
    "fr_p = fr.predict(X_test)\n",
    "pd.Series(fr_p).value_counts()"
   ]
  },
  {
   "cell_type": "code",
   "execution_count": 35,
   "metadata": {},
   "outputs": [
    {
     "name": "stdout",
     "output_type": "stream",
     "text": [
      "0.819935038571\n",
      "0.831641629449\n",
      "Confusion matrix, without normalization\n",
      "[[  190  2471]\n",
      " [   17 12100]]\n"
     ]
    },
    {
     "data": {
      "image/png": "[encoded data removed]",
      "text/plain": [
       "<matplotlib.figure.Figure at 0x2b5290026f10>"
      ]
     },
     "metadata": {},
     "output_type": "display_data"
    }
   ],
   "source": [
    "print 12117/14778.0\n",
    "print accuracy_score(y_test, fr_p)\n",
    "plot_confusion_matrix(confusion_matrix(y_test,fr_p), ['female','male'])"
   ]
  },
  {
   "cell_type": "code",
   "execution_count": 36,
   "metadata": {},
   "outputs": [
    {
     "name": "stdout",
     "output_type": "stream",
     "text": [
      "0.370347814319\n",
      "Confusion matrix, without normalization\n",
      "[[2015  646]\n",
      " [8659 3458]]\n"
     ]
    },
    {
     "data": {
      "image/png": "[encoded data removed]",
      "text/plain": [
       "<matplotlib.figure.Figure at 0x2b525f092f50>"
      ]
     },
     "metadata": {},
     "output_type": "display_data"
    },
    {
     "name": "stdout",
     "output_type": "stream",
     "text": [
      "CPU times: user 8.61 s, sys: 2.56 s, total: 11.2 s\n",
      "Wall time: 8.42 s\n"
     ]
    }
   ],
   "source": [
    "%%time\n",
    "lsvm = LinearSVC()\n",
    "lsvm.fit(X_train, y_train)\n",
    "lsvm_pr=lsvm.predict(X_test)\n",
    "pd.Series(lsvm_pr).value_counts()\n",
    "print accuracy_score(y_test, lsvm_pr)\n",
    "plot_confusion_matrix(confusion_matrix(y_test,lsvm_pr), ['female','male'])"
   ]
  },
  {
   "cell_type": "markdown",
   "metadata": {},
   "source": [
    "### try xgboost"
   ]
  },
  {
   "cell_type": "markdown",
   "metadata": {},
   "source": [
    "https://github.com/dmlc/xgboost/blob/master/doc/parameter.md"
   ]
  },
  {
   "cell_type": "code",
   "execution_count": 37,
   "metadata": {},
   "outputs": [
    {
     "name": "stderr",
     "output_type": "stream",
     "text": [
      "/home/shj16110/anaconda2/lib/python2.7/site-packages/sklearn/cross_validation.py:41: DeprecationWarning: This module was deprecated in version 0.18 in favor of the model_selection module into which all the refactored classes and functions are moved. Also note that the interface of the new CV iterators are different from that of this module. This module will be removed in 0.20.\n",
      "  \"This module will be removed in 0.20.\", DeprecationWarning)\n"
     ]
    }
   ],
   "source": [
    "import xgboost as xgb"
   ]
  },
  {
   "cell_type": "code",
   "execution_count": 38,
   "metadata": {
    "collapsed": true
   },
   "outputs": [],
   "source": [
    "d_train = xgb.DMatrix(X_train, label=y_train.map({'male':1, 'female':0}))\n",
    "d_test = xgb.DMatrix(X_test, label=y_test.map({'male':1, 'female':0}))"
   ]
  },
  {
   "cell_type": "code",
   "execution_count": 39,
   "metadata": {},
   "outputs": [
    {
     "data": {
      "text/plain": [
       "array([ 0.,  1.,  1., ...,  1.,  1.,  1.], dtype=float32)"
      ]
     },
     "execution_count": 39,
     "metadata": {},
     "output_type": "execute_result"
    }
   ],
   "source": [
    "d_train.get_label()"
   ]
  },
  {
   "cell_type": "code",
   "execution_count": 1,
   "metadata": {},
   "outputs": [
    {
     "ename": "NameError",
     "evalue": "name 'd_train' is not defined",
     "output_type": "error",
     "traceback": [
      "\u001b[0;31m\u001b[0m",
      "\u001b[0;31mNameError\u001b[0mTraceback (most recent call last)",
      "\u001b[0;32m<ipython-input-1-62b3da0ded79>\u001b[0m in \u001b[0;36m<module>\u001b[0;34m()\u001b[0m\n\u001b[1;32m     20\u001b[0m \u001b[0;34m\u001b[0m\u001b[0m\n\u001b[1;32m     21\u001b[0m }\n\u001b[0;32m---> 22\u001b[0;31m \u001b[0mwatchlist\u001b[0m \u001b[0;34m=\u001b[0m \u001b[0;34m[\u001b[0m\u001b[0;34m(\u001b[0m\u001b[0md_train\u001b[0m\u001b[0;34m,\u001b[0m \u001b[0;34m'train'\u001b[0m\u001b[0;34m)\u001b[0m\u001b[0;34m,\u001b[0m \u001b[0;34m(\u001b[0m\u001b[0md_test\u001b[0m\u001b[0;34m,\u001b[0m \u001b[0;34m'test'\u001b[0m\u001b[0;34m)\u001b[0m\u001b[0;34m]\u001b[0m\u001b[0;34m\u001b[0m\u001b[0m\n\u001b[0m\u001b[1;32m     23\u001b[0m \u001b[0;34m\u001b[0m\u001b[0m\n\u001b[1;32m     24\u001b[0m \u001b[0;31m# def xg_eval(pred, dtrain):\u001b[0m\u001b[0;34m\u001b[0m\u001b[0;34m\u001b[0m\u001b[0m\n",
      "\u001b[0;31mNameError\u001b[0m: name 'd_train' is not defined"
     ]
    }
   ],
   "source": [
    "RANDOM_STATE = 2017\n",
    "params = {\n",
    "    'min_child_weight': 0.7,\n",
    "#     'eta': 0.1,\n",
    "    'colsample_bytree': 0.7,\n",
    "    'max_depth': 24,\n",
    "    'subsample': 0.7,\n",
    "    'alpha': 0.2,\n",
    "    'lambda':0.8,\n",
    "    'gamma': 0.2,\n",
    "    'silent': 0,\n",
    "    'learning_rate':0.05,\n",
    "    'verbose_eval': True,\n",
    "    'seed': RANDOM_STATE,\n",
    "    'objective':\"binary:logistic\",\n",
    "#     'eval_metric':'error'\n",
    "#     'num_class':1\n",
    "    'n_jobs':24,\n",
    "    \n",
    "    \n",
    "}\n",
    "watchlist = [(d_train, 'train'), (d_test, 'test')]\n",
    "\n",
    "def xg_eval(pred, dtrain):\n",
    "    y = dtrain.get_label()\n",
    "    tmp = map(lambda x: 0 if x<0.5 else 1, pred)\n",
    "    return 'acc', accuracy_score(y, tmp)"
   ]
  },
  {
   "cell_type": "code",
   "execution_count": null,
   "metadata": {
    "collapsed": true
   },
   "outputs": [],
   "source": []
  },
  {
   "cell_type": "code",
   "execution_count": 42,
   "metadata": {},
   "outputs": [
    {
     "name": "stdout",
     "output_type": "stream",
     "text": [
      "[0]\ttrain-acc:0.851836\ttest-acc:0.803018\n",
      "Multiple eval metrics have been passed: 'test-acc' will be used for early stopping.\n",
      "\n",
      "Will train until test-acc hasn't improved in 100 rounds.\n",
      "[20]\ttrain-acc:0.868366\ttest-acc:0.828394\n",
      "[40]\ttrain-acc:0.881097\ttest-acc:0.82995\n",
      "[60]\ttrain-acc:0.898904\ttest-acc:0.831033\n",
      "[80]\ttrain-acc:0.921002\ttest-acc:0.831439\n",
      "[100]\ttrain-acc:0.938577\ttest-acc:0.833198\n",
      "[120]\ttrain-acc:0.954469\ttest-acc:0.834348\n",
      "[140]\ttrain-acc:0.966533\ttest-acc:0.834822\n",
      "[160]\ttrain-acc:0.976625\ttest-acc:0.835093\n",
      "[180]\ttrain-acc:0.983673\ttest-acc:0.834484\n",
      "[200]\ttrain-acc:0.989241\ttest-acc:0.835363\n",
      "[220]\ttrain-acc:0.993707\ttest-acc:0.835837\n",
      "[240]\ttrain-acc:0.995708\ttest-acc:0.835431\n",
      "[260]\ttrain-acc:0.996868\ttest-acc:0.834754\n",
      "[280]\ttrain-acc:0.997709\ttest-acc:0.83489\n",
      "[300]\ttrain-acc:0.998637\ttest-acc:0.833536\n",
      "Stopping. Best iteration:\n",
      "[210]\ttrain-acc:0.991619\ttest-acc:0.83604\n",
      "\n"
     ]
    },
    {
     "data": {
      "text/plain": [
       "'!!! used 67.24 s'"
      ]
     },
     "execution_count": 42,
     "metadata": {},
     "output_type": "execute_result"
    }
   ],
   "source": [
    "start=time()\n",
    "\n",
    "clf = xgb.train(params, d_train, 10000, watchlist, early_stopping_rounds=100, \n",
    "                verbose_eval=20, feval=xg_eval, maximize=True)\n",
    "                \n",
    "\n",
    "\n",
    "'!!! used %.2f s'%(time()-start)"
   ]
  },
  {
   "cell_type": "code",
   "execution_count": 43,
   "metadata": {},
   "outputs": [
    {
     "name": "stdout",
     "output_type": "stream",
     "text": [
      "accuracy 0.834145351198\n",
      "statistic\n",
      "male      14206\n",
      "female      572\n",
      "dtype: int64\n",
      "Confusion matrix, without normalization\n",
      "[[  391  2270]\n",
      " [  181 11936]]\n"
     ]
    },
    {
     "data": {
      "image/png": "[encoded data removed]",
      "text/plain": [
       "<matplotlib.figure.Figure at 0x2b51dc2e1f10>"
      ]
     },
     "metadata": {},
     "output_type": "display_data"
    }
   ],
   "source": [
    "# pd.Series(clf.predict(d_test)).describe()\n",
    "print 'accuracy',accuracy_score(d_test.get_label(), clf.predict(d_test)>.5)\n",
    "print 'statistic'\n",
    "print pd.Series(clf.predict(d_test)>.5).map({1:'male',0:'female'}).value_counts()\n",
    "plot_confusion_matrix(confusion_matrix(d_test.get_label(),clf.predict(d_test)>.5), ['female','male'])"
   ]
  },
  {
   "cell_type": "markdown",
   "metadata": {},
   "source": [
    "#### on accuracy "
   ]
  },
  {
   "cell_type": "code",
   "execution_count": null,
   "metadata": {
    "collapsed": true
   },
   "outputs": [],
   "source": []
  },
  {
   "cell_type": "code",
   "execution_count": null,
   "metadata": {
    "collapsed": true
   },
   "outputs": [],
   "source": []
  },
  {
   "cell_type": "markdown",
   "metadata": {},
   "source": [
    "### tune"
   ]
  },
  {
   "cell_type": "code",
   "execution_count": 44,
   "metadata": {
    "collapsed": true
   },
   "outputs": [],
   "source": [
    "RANDOM_STATE = 2017\n",
    "params = {\n",
    "    'min_child_weight': 0.7,\n",
    "#     'eta': 0.1,\n",
    "    'colsample_bytree': 0.7,\n",
    "    'max_depth': 24,\n",
    "    'subsample': 0.7,\n",
    "    'alpha': 0.2,\n",
    "    'lambda':0.8,\n",
    "    'gamma': 0.2,\n",
    "    'silent': 0,\n",
    "    'learning_rate':0.05,\n",
    "    'verbose_eval': True,\n",
    "    'seed': RANDOM_STATE,\n",
    "    'objective':\"binary:logistic\",\n",
    "#     'eval_metric':'error'\n",
    "#     'num_class':1\n",
    "    'n_jobs':12\n",
    "    \n",
    "}\n",
    "watchlist = [(d_train, 'train'), (d_test, 'test')]\n",
    "\n",
    "def xg_eval(pred, dtrain):\n",
    "    y = dtrain.get_label()\n",
    "    tmp = map(lambda x: 0 if x<0.5 else 1, pred)\n",
    "    return 'acc', accuracy_score(y, tmp)"
   ]
  },
  {
   "cell_type": "code",
   "execution_count": 45,
   "metadata": {},
   "outputs": [
    {
     "data": {
      "text/plain": [
       "male      28272\n",
       "female     6210\n",
       "Name: fname.gender, dtype: int64"
      ]
     },
     "execution_count": 45,
     "metadata": {},
     "output_type": "execute_result"
    }
   ],
   "source": [
    "y_train.value_counts()"
   ]
  },
  {
   "cell_type": "code",
   "execution_count": 46,
   "metadata": {},
   "outputs": [
    {
     "data": {
      "text/plain": [
       "0.21965195246179967"
      ]
     },
     "execution_count": 46,
     "metadata": {},
     "output_type": "execute_result"
    }
   ],
   "source": [
    "6210.0/28272"
   ]
  },
  {
   "cell_type": "code",
   "execution_count": 47,
   "metadata": {
    "collapsed": true
   },
   "outputs": [],
   "source": [
    "RANDOM_STATE = 2017\n",
    "\n",
    "params = {\n",
    "    'min_child_weight': 0.8,\n",
    "#     'eta': 0.1,\n",
    "    'colsample_bytree': 0.8,\n",
    "    'max_depth': 28,\n",
    "    'subsample': 0.8,\n",
    "    'alpha': 2,\n",
    "    'lambda':3,\n",
    "    'gamma': 0.1,\n",
    "    'silent': 0,\n",
    "    'learning_rate':0.01,\n",
    "    'verbose_eval': True,\n",
    "    'seed': RANDOM_STATE,\n",
    "    'objective':\"binary:logistic\",\n",
    "#     'eval_metric':'error'\n",
    "#     'num_class':1\n",
    "    'n_jobs':12,\n",
    "        'max_delta_step ':7,\n",
    "        'colsample_bylevel ':0.9 ,    \n",
    "}\n",
    "watchlist = [(d_train, 'train'), (d_test, 'test')]\n",
    "\n",
    "def xg_eval(pred, dtrain):\n",
    "    y = dtrain.get_label()\n",
    "    tmp = map(lambda x: 0 if x<0.5 else 1, pred)\n",
    "    return 'acc', accuracy_score(y, tmp)"
   ]
  },
  {
   "cell_type": "code",
   "execution_count": 48,
   "metadata": {},
   "outputs": [
    {
     "name": "stdout",
     "output_type": "stream",
     "text": [
      "[0]\ttrain-acc:0.838379\ttest-acc:0.820476\n",
      "Multiple eval metrics have been passed: 'test-acc' will be used for early stopping.\n",
      "\n",
      "Will train until test-acc hasn't improved in 200 rounds.\n",
      "[20]\ttrain-acc:0.842121\ttest-acc:0.825281\n",
      "[40]\ttrain-acc:0.842092\ttest-acc:0.825551\n",
      "[60]\ttrain-acc:0.843542\ttest-acc:0.826025\n",
      "[80]\ttrain-acc:0.845253\ttest-acc:0.826161\n",
      "[100]\ttrain-acc:0.847834\ttest-acc:0.826567\n",
      "[120]\ttrain-acc:0.849922\ttest-acc:0.827446\n",
      "[140]\ttrain-acc:0.852503\ttest-acc:0.828597\n",
      "[160]\ttrain-acc:0.854301\ttest-acc:0.828529\n",
      "[180]\ttrain-acc:0.855606\ttest-acc:0.829003\n",
      "[200]\ttrain-acc:0.856882\ttest-acc:0.8288\n",
      "[220]\ttrain-acc:0.858216\ttest-acc:0.828732\n",
      "[240]\ttrain-acc:0.860072\ttest-acc:0.8288\n",
      "[260]\ttrain-acc:0.861522\ttest-acc:0.829273\n",
      "[280]\ttrain-acc:0.862972\ttest-acc:0.829679\n",
      "[300]\ttrain-acc:0.864422\ttest-acc:0.829612\n",
      "[320]\ttrain-acc:0.865582\ttest-acc:0.828935\n",
      "[340]\ttrain-acc:0.867902\ttest-acc:0.829206\n",
      "[360]\ttrain-acc:0.870106\ttest-acc:0.829476\n",
      "[380]\ttrain-acc:0.872426\ttest-acc:0.829679\n",
      "[400]\ttrain-acc:0.875732\ttest-acc:0.830018\n",
      "[420]\ttrain-acc:0.878603\ttest-acc:0.830221\n",
      "[440]\ttrain-acc:0.881561\ttest-acc:0.830424\n",
      "[460]\ttrain-acc:0.885012\ttest-acc:0.830491\n",
      "[480]\ttrain-acc:0.888667\ttest-acc:0.830627\n",
      "[500]\ttrain-acc:0.892901\ttest-acc:0.830965\n",
      "[520]\ttrain-acc:0.896758\ttest-acc:0.831033\n",
      "[540]\ttrain-acc:0.900702\ttest-acc:0.831574\n",
      "[560]\ttrain-acc:0.90482\ttest-acc:0.831912\n",
      "[580]\ttrain-acc:0.909286\ttest-acc:0.832251\n",
      "[600]\ttrain-acc:0.914158\ttest-acc:0.832792\n",
      "[620]\ttrain-acc:0.918305\ttest-acc:0.832927\n",
      "[640]\ttrain-acc:0.922829\ttest-acc:0.833198\n",
      "[660]\ttrain-acc:0.927353\ttest-acc:0.833333\n",
      "[680]\ttrain-acc:0.931907\ttest-acc:0.833469\n",
      "[700]\ttrain-acc:0.935996\ttest-acc:0.833536\n",
      "[720]\ttrain-acc:0.94081\ttest-acc:0.833875\n",
      "[740]\ttrain-acc:0.944957\ttest-acc:0.834145\n",
      "[760]\ttrain-acc:0.948437\ttest-acc:0.834348\n",
      "[780]\ttrain-acc:0.95212\ttest-acc:0.834619\n",
      "[800]\ttrain-acc:0.956064\ttest-acc:0.834619\n",
      "[820]\ttrain-acc:0.958877\ttest-acc:0.834619\n",
      "[840]\ttrain-acc:0.961748\ttest-acc:0.834619\n",
      "[860]\ttrain-acc:0.964851\ttest-acc:0.834416\n",
      "[880]\ttrain-acc:0.967751\ttest-acc:0.834484\n",
      "[900]\ttrain-acc:0.969723\ttest-acc:0.834687\n",
      "[920]\ttrain-acc:0.971724\ttest-acc:0.834551\n",
      "[940]\ttrain-acc:0.973986\ttest-acc:0.834822\n",
      "[960]\ttrain-acc:0.9759\ttest-acc:0.834687\n",
      "[980]\ttrain-acc:0.977641\ttest-acc:0.834957\n",
      "[1000]\ttrain-acc:0.979294\ttest-acc:0.83489\n",
      "[1020]\ttrain-acc:0.980947\ttest-acc:0.835228\n",
      "[1040]\ttrain-acc:0.982774\ttest-acc:0.835228\n",
      "[1060]\ttrain-acc:0.984282\ttest-acc:0.83516\n",
      "[1080]\ttrain-acc:0.985616\ttest-acc:0.835296\n",
      "[1100]\ttrain-acc:0.98666\ttest-acc:0.835228\n",
      "[1120]\ttrain-acc:0.987675\ttest-acc:0.835228\n",
      "[1140]\ttrain-acc:0.988545\ttest-acc:0.835363\n",
      "[1160]\ttrain-acc:0.989299\ttest-acc:0.835499\n",
      "[1180]\ttrain-acc:0.990053\ttest-acc:0.835769\n",
      "[1200]\ttrain-acc:0.99072\ttest-acc:0.835566\n",
      "[1220]\ttrain-acc:0.991445\ttest-acc:0.835566\n",
      "[1240]\ttrain-acc:0.992025\ttest-acc:0.835905\n",
      "[1260]\ttrain-acc:0.992866\ttest-acc:0.835905\n",
      "[1280]\ttrain-acc:0.993359\ttest-acc:0.835837\n",
      "[1300]\ttrain-acc:0.993881\ttest-acc:0.836108\n",
      "[1320]\ttrain-acc:0.994577\ttest-acc:0.835769\n",
      "[1340]\ttrain-acc:0.994954\ttest-acc:0.835769\n",
      "[1360]\ttrain-acc:0.995302\ttest-acc:0.835972\n",
      "[1380]\ttrain-acc:0.995795\ttest-acc:0.835837\n",
      "[1400]\ttrain-acc:0.996027\ttest-acc:0.835769\n",
      "[1420]\ttrain-acc:0.996404\ttest-acc:0.835837\n",
      "[1440]\ttrain-acc:0.996636\ttest-acc:0.835702\n",
      "Stopping. Best iteration:\n",
      "[1248]\ttrain-acc:0.992518\ttest-acc:0.836175\n",
      "\n"
     ]
    },
    {
     "data": {
      "text/plain": [
       "'!!! used 363.66 s'"
      ]
     },
     "execution_count": 48,
     "metadata": {},
     "output_type": "execute_result"
    }
   ],
   "source": [
    "start=time()\n",
    "\n",
    "clf = xgb.train(params, d_train, 10000, watchlist, early_stopping_rounds=200, \n",
    "                verbose_eval=20, feval=xg_eval, maximize=True)\n",
    "                \n",
    "\n",
    "\n",
    "'!!! used %.2f s'%(time()-start)"
   ]
  },
  {
   "cell_type": "code",
   "execution_count": 49,
   "metadata": {},
   "outputs": [
    {
     "name": "stdout",
     "output_type": "stream",
     "text": [
      "accuracy 0.835904723237\n",
      "statistic\n",
      "male      14172\n",
      "female      606\n",
      "dtype: int64\n",
      "Confusion matrix, without normalization\n",
      "[[  421  2240]\n",
      " [  185 11932]]\n"
     ]
    },
    {
     "data": {
      "image/png": "[encoded data removed]",
      "text/plain": [
       "<matplotlib.figure.Figure at 0x2b52900951d0>"
      ]
     },
     "metadata": {},
     "output_type": "display_data"
    }
   ],
   "source": [
    "# pd.Series(clf.predict(d_test)).describe()\n",
    "print 'accuracy',accuracy_score(d_test.get_label(), clf.predict(d_test)>.5)\n",
    "print 'statistic'\n",
    "print pd.Series(clf.predict(d_test)>.5).map({1:'male',0:'female'}).value_counts()\n",
    "plot_confusion_matrix(confusion_matrix(d_test.get_label(),clf.predict(d_test)>.5), ['female','male'])"
   ]
  },
  {
   "cell_type": "code",
   "execution_count": 50,
   "metadata": {},
   "outputs": [
    {
     "data": {
      "text/html": [
       "<div>\n",
       "<style>\n",
       "    .dataframe thead tr:only-child th {\n",
       "        text-align: right;\n",
       "    }\n",
       "\n",
       "    .dataframe thead th {\n",
       "        text-align: left;\n",
       "    }\n",
       "\n",
       "    .dataframe tbody tr th {\n",
       "        vertical-align: top;\n",
       "    }\n",
       "</style>\n",
       "<table border=\"1\" class=\"dataframe\">\n",
       "  <thead>\n",
       "    <tr style=\"text-align: right;\">\n",
       "      <th></th>\n",
       "      <th>feature</th>\n",
       "      <th>importance</th>\n",
       "    </tr>\n",
       "  </thead>\n",
       "  <tbody>\n",
       "    <tr>\n",
       "      <th>286</th>\n",
       "      <td>first2</td>\n",
       "      <td>58737</td>\n",
       "    </tr>\n",
       "    <tr>\n",
       "      <th>141</th>\n",
       "      <td>last_two</td>\n",
       "      <td>57415</td>\n",
       "    </tr>\n",
       "    <tr>\n",
       "      <th>367</th>\n",
       "      <td>vowels.pct</td>\n",
       "      <td>43475</td>\n",
       "    </tr>\n",
       "    <tr>\n",
       "      <th>426</th>\n",
       "      <td>last</td>\n",
       "      <td>34727</td>\n",
       "    </tr>\n",
       "    <tr>\n",
       "      <th>261</th>\n",
       "      <td>first</td>\n",
       "      <td>28113</td>\n",
       "    </tr>\n",
       "    <tr>\n",
       "      <th>517</th>\n",
       "      <td>feature_728</td>\n",
       "      <td>26093</td>\n",
       "    </tr>\n",
       "    <tr>\n",
       "      <th>429</th>\n",
       "      <td>nchar</td>\n",
       "      <td>24514</td>\n",
       "    </tr>\n",
       "    <tr>\n",
       "      <th>516</th>\n",
       "      <td>feature_729</td>\n",
       "      <td>24143</td>\n",
       "    </tr>\n",
       "    <tr>\n",
       "      <th>55</th>\n",
       "      <td>feature_26</td>\n",
       "      <td>23848</td>\n",
       "    </tr>\n",
       "    <tr>\n",
       "      <th>528</th>\n",
       "      <td>feature_30</td>\n",
       "      <td>23842</td>\n",
       "    </tr>\n",
       "  </tbody>\n",
       "</table>\n",
       "</div>"
      ],
      "text/plain": [
       "         feature  importance\n",
       "286       first2       58737\n",
       "141     last_two       57415\n",
       "367   vowels.pct       43475\n",
       "426         last       34727\n",
       "261        first       28113\n",
       "517  feature_728       26093\n",
       "429        nchar       24514\n",
       "516  feature_729       24143\n",
       "55    feature_26       23848\n",
       "528   feature_30       23842"
      ]
     },
     "execution_count": 50,
     "metadata": {},
     "output_type": "execute_result"
    }
   ],
   "source": [
    "f_ip = pd.DataFrame(clf.get_fscore().items(), columns=['feature','importance']).sort_values('importance', ascending=False)\n",
    "f_ip.head(10)"
   ]
  },
  {
   "cell_type": "code",
   "execution_count": 51,
   "metadata": {
    "collapsed": true
   },
   "outputs": [],
   "source": [
    "# pd.DataFrame.plot?"
   ]
  },
  {
   "cell_type": "code",
   "execution_count": 52,
   "metadata": {},
   "outputs": [
    {
     "data": {
      "image/png": "[encoded data removed]",
      "text/plain": [
       "<matplotlib.figure.Figure at 0x2b53389a2cd0>"
      ]
     },
     "metadata": {},
     "output_type": "display_data"
    }
   ],
   "source": [
    "f_ip.head(30).iloc[::-1].set_index('feature').plot(kind='barh', figsize=(16,8))\n",
    "plt.show()"
   ]
  },
  {
   "cell_type": "code",
   "execution_count": null,
   "metadata": {
    "collapsed": true
   },
   "outputs": [],
   "source": []
  },
  {
   "cell_type": "code",
   "execution_count": 53,
   "metadata": {},
   "outputs": [
    {
     "data": {
      "text/html": [
       "<div>\n",
       "<style>\n",
       "    .dataframe thead tr:only-child th {\n",
       "        text-align: right;\n",
       "    }\n",
       "\n",
       "    .dataframe thead th {\n",
       "        text-align: left;\n",
       "    }\n",
       "\n",
       "    .dataframe tbody tr th {\n",
       "        vertical-align: top;\n",
       "    }\n",
       "</style>\n",
       "<table border=\"1\" class=\"dataframe\">\n",
       "  <thead>\n",
       "    <tr style=\"text-align: right;\">\n",
       "      <th></th>\n",
       "      <th>username</th>\n",
       "      <th>fname.gender</th>\n",
       "      <th>username_split_predict</th>\n",
       "      <th>mock_name</th>\n",
       "    </tr>\n",
       "  </thead>\n",
       "  <tbody>\n",
       "    <tr>\n",
       "      <th>0</th>\n",
       "      <td>billion</td>\n",
       "      <td>male</td>\n",
       "      <td>unknow</td>\n",
       "      <td>billion</td>\n",
       "    </tr>\n",
       "    <tr>\n",
       "      <th>1</th>\n",
       "      <td>ArmenSoft</td>\n",
       "      <td>male</td>\n",
       "      <td>male</td>\n",
       "      <td>armensoft</td>\n",
       "    </tr>\n",
       "    <tr>\n",
       "      <th>2</th>\n",
       "      <td>okbookman</td>\n",
       "      <td>male</td>\n",
       "      <td>female</td>\n",
       "      <td>okbookman</td>\n",
       "    </tr>\n",
       "  </tbody>\n",
       "</table>\n",
       "</div>"
      ],
      "text/plain": [
       "    username fname.gender username_split_predict  mock_name\n",
       "0    billion         male                 unknow    billion\n",
       "1  ArmenSoft         male                   male  armensoft\n",
       "2  okbookman         male                 female  okbookman"
      ]
     },
     "execution_count": 53,
     "metadata": {},
     "output_type": "execute_result"
    }
   ],
   "source": [
    "pre0 = pre1.copy()\n",
    "pre0.head(3)"
   ]
  },
  {
   "cell_type": "code",
   "execution_count": null,
   "metadata": {
    "collapsed": true
   },
   "outputs": [],
   "source": []
  },
  {
   "cell_type": "code",
   "execution_count": null,
   "metadata": {
    "collapsed": true
   },
   "outputs": [],
   "source": []
  },
  {
   "cell_type": "code",
   "execution_count": null,
   "metadata": {
    "collapsed": true
   },
   "outputs": [],
   "source": []
  },
  {
   "cell_type": "code",
   "execution_count": null,
   "metadata": {
    "collapsed": true
   },
   "outputs": [],
   "source": []
  },
  {
   "cell_type": "code",
   "execution_count": null,
   "metadata": {
    "collapsed": true
   },
   "outputs": [],
   "source": []
  },
  {
   "cell_type": "code",
   "execution_count": null,
   "metadata": {
    "collapsed": true
   },
   "outputs": [],
   "source": []
  },
  {
   "cell_type": "code",
   "execution_count": null,
   "metadata": {
    "collapsed": true
   },
   "outputs": [],
   "source": []
  },
  {
   "cell_type": "markdown",
   "metadata": {},
   "source": [
    "### other sklearn models"
   ]
  },
  {
   "cell_type": "code",
   "execution_count": 54,
   "metadata": {
    "collapsed": true
   },
   "outputs": [],
   "source": [
    "# %%time\n",
    "# lsvm = LinearSVC()\n",
    "# lsvm.fit(X_train, y_train)\n",
    "# lsvm_pr=lsvm.predict(X_test)\n",
    "# pd.Series(lsvm_pr).value_counts()\n",
    "# print accuracy_score(y_test, lsvm_pr)\n",
    "# plot_confusion_matrix(confusion_matrix(y_test,lsvm_pr), ['female','male'])"
   ]
  },
  {
   "cell_type": "code",
   "execution_count": null,
   "metadata": {
    "collapsed": true
   },
   "outputs": [],
   "source": []
  },
  {
   "cell_type": "code",
   "execution_count": null,
   "metadata": {
    "collapsed": true
   },
   "outputs": [],
   "source": []
  },
  {
   "cell_type": "code",
   "execution_count": null,
   "metadata": {
    "collapsed": true
   },
   "outputs": [],
   "source": []
  },
  {
   "cell_type": "code",
   "execution_count": 55,
   "metadata": {
    "collapsed": true
   },
   "outputs": [],
   "source": [
    "# cross_val_score(SVC(), pre0.iloc[:,2:], pre0.iloc[:,1], cv=10)"
   ]
  },
  {
   "cell_type": "code",
   "execution_count": 56,
   "metadata": {
    "collapsed": true
   },
   "outputs": [],
   "source": [
    "# svm = SVC()\n",
    "# svm"
   ]
  },
  {
   "cell_type": "code",
   "execution_count": 57,
   "metadata": {
    "collapsed": true
   },
   "outputs": [],
   "source": [
    "# %%time\n",
    "# # svm.fit(X_train, y_train)"
   ]
  },
  {
   "cell_type": "code",
   "execution_count": 58,
   "metadata": {
    "collapsed": true
   },
   "outputs": [],
   "source": [
    "# from sklearn.neural_network import MLPClassifier"
   ]
  },
  {
   "cell_type": "code",
   "execution_count": 59,
   "metadata": {
    "collapsed": true
   },
   "outputs": [],
   "source": [
    "# neur = MLPClassifier(verbose=True, learning_rate='adaptive', hidden_layer_sizes=(200,20,1))\n",
    "# neur"
   ]
  },
  {
   "cell_type": "markdown",
   "metadata": {},
   "source": [
    "https://wiki.hpc.uconn.edu/index.php/GPU_Guide"
   ]
  },
  {
   "cell_type": "code",
   "execution_count": 60,
   "metadata": {
    "collapsed": true
   },
   "outputs": [],
   "source": [
    "# %%time\n",
    "# neur.fit(X_train, y_train)\n",
    "# neur_prd = neur.predict(X_test)"
   ]
  },
  {
   "cell_type": "code",
   "execution_count": 61,
   "metadata": {
    "collapsed": true
   },
   "outputs": [],
   "source": [
    "# pd.Series(neur_prd).value_counts()"
   ]
  },
  {
   "cell_type": "code",
   "execution_count": 62,
   "metadata": {
    "collapsed": true
   },
   "outputs": [],
   "source": [
    "# accuracy_score(y_test,neur_prd)"
   ]
  },
  {
   "cell_type": "code",
   "execution_count": 63,
   "metadata": {
    "collapsed": true
   },
   "outputs": [],
   "source": [
    "# plot_confusion_matrix(confusion_matrix(y_test,neur_prd), ['female','male'])"
   ]
  },
  {
   "cell_type": "code",
   "execution_count": null,
   "metadata": {
    "collapsed": true
   },
   "outputs": [],
   "source": []
  },
  {
   "cell_type": "code",
   "execution_count": null,
   "metadata": {
    "collapsed": true
   },
   "outputs": [],
   "source": []
  },
  {
   "cell_type": "code",
   "execution_count": null,
   "metadata": {
    "collapsed": true
   },
   "outputs": [],
   "source": []
  },
  {
   "cell_type": "code",
   "execution_count": null,
   "metadata": {
    "collapsed": true
   },
   "outputs": [],
   "source": []
  },
  {
   "cell_type": "code",
   "execution_count": null,
   "metadata": {
    "collapsed": true
   },
   "outputs": [],
   "source": []
  },
  {
   "cell_type": "code",
   "execution_count": 64,
   "metadata": {
    "collapsed": true
   },
   "outputs": [],
   "source": [
    "# %%time\n",
    "# pred = svm.predict(X_test)\n",
    "# pred.shape"
   ]
  },
  {
   "cell_type": "code",
   "execution_count": 65,
   "metadata": {
    "collapsed": true
   },
   "outputs": [],
   "source": [
    "# pd.Series(pred).value_counts()"
   ]
  },
  {
   "cell_type": "code",
   "execution_count": 66,
   "metadata": {
    "collapsed": true
   },
   "outputs": [],
   "source": [
    "# accuracy_score(y_test, pred)"
   ]
  },
  {
   "cell_type": "code",
   "execution_count": 67,
   "metadata": {
    "collapsed": true
   },
   "outputs": [],
   "source": [
    "# confusion_matrix(y_test,pred)"
   ]
  },
  {
   "cell_type": "code",
   "execution_count": 68,
   "metadata": {
    "collapsed": true
   },
   "outputs": [],
   "source": [
    "# plot_confusion_matrix(confusion_matrix(y_test,pred), ['female','male'])\n"
   ]
  },
  {
   "cell_type": "code",
   "execution_count": 69,
   "metadata": {
    "collapsed": true
   },
   "outputs": [],
   "source": [
    "# from sklearn.naive_bayes import BernoulliNB"
   ]
  },
  {
   "cell_type": "code",
   "execution_count": 70,
   "metadata": {
    "collapsed": true
   },
   "outputs": [],
   "source": [
    "# nb = BernoulliNB()\n",
    "# nb"
   ]
  },
  {
   "cell_type": "code",
   "execution_count": 71,
   "metadata": {
    "collapsed": true
   },
   "outputs": [],
   "source": [
    "# %%time\n",
    "# nb.fit(X_train, y_train)\n",
    "# nb_pd=nb.predict(X_test)\n",
    "# print pd.Series(nb_pd).value_counts()"
   ]
  },
  {
   "cell_type": "code",
   "execution_count": null,
   "metadata": {
    "collapsed": true
   },
   "outputs": [],
   "source": []
  }
 ],
 "metadata": {
  "kernelspec": {
   "display_name": "Python 2",
   "language": "python",
   "name": "python2"
  },
  "language_info": {
   "codemirror_mode": {
    "name": "ipython",
    "version": 2
   },
   "file_extension": ".py",
   "mimetype": "text/x-python",
   "name": "python",
   "nbconvert_exporter": "python",
   "pygments_lexer": "ipython2",
   "version": "2.7.13"
  }
 },
 "nbformat": 4,
 "nbformat_minor": 2
}
