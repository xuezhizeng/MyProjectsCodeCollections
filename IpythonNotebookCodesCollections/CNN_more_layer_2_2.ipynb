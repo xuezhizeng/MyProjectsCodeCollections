{
 "cells": [
  {
   "cell_type": "code",
   "execution_count": 1,
   "metadata": {},
   "outputs": [],
   "source": [
    "# !wget http://www.superdatascience.com/wp-content/uploads/2017/04/Convolutional_Neural_Networks.zip"
   ]
  },
  {
   "cell_type": "code",
   "execution_count": 2,
   "metadata": {},
   "outputs": [],
   "source": [
    "# !unzip Convolutional_Neural_Networks.zip"
   ]
  },
  {
   "cell_type": "markdown",
   "metadata": {},
   "source": [
    "https://keras.io/preprocessing/image/"
   ]
  },
  {
   "cell_type": "code",
   "execution_count": 1,
   "metadata": {},
   "outputs": [
    {
     "name": "stderr",
     "output_type": "stream",
     "text": [
      "Using TensorFlow backend.\n"
     ]
    }
   ],
   "source": [
    "import os\n",
    "os.environ[\"CUDA_DEVICE_ORDER\"] = \"PCI_BUS_ID\"   # see issue #152\n",
    "os.environ[\"CUDA_VISIBLE_DEVICES\"] = \"1\"\n",
    "\n",
    "from keras.models import Sequential\n",
    "from keras.layers import Convolution2D, MaxPooling2D, Flatten, Dense"
   ]
  },
  {
   "cell_type": "code",
   "execution_count": 2,
   "metadata": {},
   "outputs": [
    {
     "name": "stdout",
     "output_type": "stream",
     "text": [
      "[name: \"/cpu:0\"\n",
      "device_type: \"CPU\"\n",
      "memory_limit: 268435456\n",
      "locality {\n",
      "}\n",
      "incarnation: 2931844889019138160\n",
      "]\n"
     ]
    }
   ],
   "source": [
    "from tensorflow.python.client import device_lib\n",
    "print(device_lib.list_local_devices())"
   ]
  },
  {
   "cell_type": "code",
   "execution_count": 5,
   "metadata": {},
   "outputs": [],
   "source": [
    "# initializing\n",
    "classifier = Sequential()\n",
    "# Step 1  - Convolution\n",
    "classifier.add(Convolution2D(32, (3, 3), input_shape=(64, 64, 3), activation='relu'))\n",
    "# step 2 - Pooling\n",
    "classifier.add(MaxPooling2D(pool_size=(2,2)))\n",
    "\n",
    "\n",
    "# add another convolution layer\n",
    "classifier.add(Convolution2D(32, (3, 3), activation='relu'))\n",
    "classifier.add(MaxPooling2D(pool_size=(2,2)))\n",
    "\n",
    "# # add another convolution layer\n",
    "# classifier.add(Convolution2D(16, (2, 2), activation='relu'))\n",
    "# classifier.add(MaxPooling2D(pool_size=(2,2)))\n",
    "\n",
    "\n",
    "# step 3 - Flattening\n",
    "classifier.add(Flatten())\n",
    "# step 4 - full Connection\n",
    "classifier.add(Dense(128, activation='relu'))\n",
    "# step 5 - Output layer\n",
    "classifier.add(Dense(1, activation='sigmoid'))\n",
    "# compile\n",
    "classifier.compile(optimizer='adam', loss='binary_crossentropy', metrics=['accuracy'])"
   ]
  },
  {
   "cell_type": "code",
   "execution_count": 6,
   "metadata": {},
   "outputs": [
    {
     "name": "stdout",
     "output_type": "stream",
     "text": [
      "_________________________________________________________________\n",
      "Layer (type)                 Output Shape              Param #   \n",
      "=================================================================\n",
      "conv2d_1 (Conv2D)            (None, 62, 62, 32)        896       \n",
      "_________________________________________________________________\n",
      "max_pooling2d_1 (MaxPooling2 (None, 31, 31, 32)        0         \n",
      "_________________________________________________________________\n",
      "conv2d_2 (Conv2D)            (None, 29, 29, 32)        9248      \n",
      "_________________________________________________________________\n",
      "max_pooling2d_2 (MaxPooling2 (None, 14, 14, 32)        0         \n",
      "_________________________________________________________________\n",
      "flatten_1 (Flatten)          (None, 6272)              0         \n",
      "_________________________________________________________________\n",
      "dense_1 (Dense)              (None, 128)               802944    \n",
      "_________________________________________________________________\n",
      "dense_2 (Dense)              (None, 1)                 129       \n",
      "=================================================================\n",
      "Total params: 813,217\n",
      "Trainable params: 813,217\n",
      "Non-trainable params: 0\n",
      "_________________________________________________________________\n"
     ]
    }
   ],
   "source": [
    "classifier.summary()"
   ]
  },
  {
   "cell_type": "markdown",
   "metadata": {},
   "source": [
    "### image proprocessing & trainning, testing"
   ]
  },
  {
   "cell_type": "code",
   "execution_count": 7,
   "metadata": {},
   "outputs": [
    {
     "name": "stdout",
     "output_type": "stream",
     "text": [
      " Volume in drive C has no label.\n",
      " Volume Serial Number is 4A40-5701\n",
      "\n",
      " Directory of C:\\Users\\iri\\Desktop\\Convolutional_Neural_Networks\\dataset\n",
      "\n",
      "10/25/2017  10:40 PM    <DIR>          .\n",
      "10/25/2017  10:40 PM    <DIR>          ..\n",
      "02/25/2017  08:44 PM            10,244 .DS_Store\n",
      "10/25/2017  10:40 PM    <DIR>          single_prediction\n",
      "10/25/2017  10:40 PM    <DIR>          test_set\n",
      "10/25/2017  10:40 PM    <DIR>          training_set\n",
      "               1 File(s)         10,244 bytes\n",
      "               5 Dir(s)  18,896,138,240 bytes free\n"
     ]
    }
   ],
   "source": [
    "!dir dataset"
   ]
  },
  {
   "cell_type": "code",
   "execution_count": 8,
   "metadata": {},
   "outputs": [],
   "source": [
    "from keras.preprocessing.image import ImageDataGenerator"
   ]
  },
  {
   "cell_type": "code",
   "execution_count": 9,
   "metadata": {},
   "outputs": [
    {
     "data": {
      "text/plain": [
       "(1, 1.0, 7.0, 9)"
      ]
     },
     "execution_count": 9,
     "metadata": {},
     "output_type": "execute_result"
    }
   ],
   "source": [
    "1, 1.,7., 9"
   ]
  },
  {
   "cell_type": "code",
   "execution_count": 10,
   "metadata": {},
   "outputs": [
    {
     "name": "stdout",
     "output_type": "stream",
     "text": [
      "Found 8000 images belonging to 2 classes.\n",
      "Found 2000 images belonging to 2 classes.\n"
     ]
    }
   ],
   "source": [
    "train_datagen = ImageDataGenerator(\n",
    "        rescale=1./255,\n",
    "        shear_range=0.2,\n",
    "        zoom_range=0.2,\n",
    "        horizontal_flip=True)\n",
    "\n",
    "test_datagen = ImageDataGenerator(rescale=1./255)\n",
    "\n",
    "training_set = train_datagen.flow_from_directory(\n",
    "        'dataset/training_set',\n",
    "        target_size=(64, 64),\n",
    "        batch_size=32,\n",
    "        class_mode='binary')\n",
    "\n",
    "test_set = test_datagen.flow_from_directory(\n",
    "        'dataset/test_set',\n",
    "        target_size=(64, 64),\n",
    "        batch_size=32,\n",
    "        class_mode='binary')\n"
   ]
  },
  {
   "cell_type": "code",
   "execution_count": 11,
   "metadata": {},
   "outputs": [
    {
     "name": "stdout",
     "output_type": "stream",
     "text": [
      "Epoch 1/25\n",
      "250/250 [==============================] - 40s - loss: 0.6641 - acc: 0.5886 - val_loss: 0.5828 - val_acc: 0.6985\n",
      "Epoch 2/25\n",
      "250/250 [==============================] - 34s - loss: 0.5890 - acc: 0.6914 - val_loss: 0.5453 - val_acc: 0.7305\n",
      "Epoch 3/25\n",
      "250/250 [==============================] - 34s - loss: 0.5577 - acc: 0.7129 - val_loss: 0.5138 - val_acc: 0.7590\n",
      "Epoch 4/25\n",
      "250/250 [==============================] - 35s - loss: 0.5279 - acc: 0.7354 - val_loss: 0.5213 - val_acc: 0.7590\n",
      "Epoch 5/25\n",
      "250/250 [==============================] - 34s - loss: 0.5015 - acc: 0.7526 - val_loss: 0.4889 - val_acc: 0.7705\n",
      "Epoch 6/25\n",
      "250/250 [==============================] - 34s - loss: 0.4909 - acc: 0.7559 - val_loss: 0.5317 - val_acc: 0.7345\n",
      "Epoch 7/25\n",
      "250/250 [==============================] - 35s - loss: 0.4652 - acc: 0.7769 - val_loss: 0.4726 - val_acc: 0.7860\n",
      "Epoch 8/25\n",
      "250/250 [==============================] - 35s - loss: 0.4511 - acc: 0.7846 - val_loss: 0.4894 - val_acc: 0.7735\n",
      "Epoch 9/25\n",
      "250/250 [==============================] - 34s - loss: 0.4486 - acc: 0.7911 - val_loss: 0.5197 - val_acc: 0.7455\n",
      "Epoch 10/25\n",
      "250/250 [==============================] - 34s - loss: 0.4394 - acc: 0.7953 - val_loss: 0.4494 - val_acc: 0.7935\n",
      "Epoch 11/25\n",
      "250/250 [==============================] - 35s - loss: 0.4160 - acc: 0.8073 - val_loss: 0.4656 - val_acc: 0.7960\n",
      "Epoch 12/25\n",
      "250/250 [==============================] - 34s - loss: 0.4055 - acc: 0.8127 - val_loss: 0.4465 - val_acc: 0.8015\n",
      "Epoch 13/25\n",
      "250/250 [==============================] - 35s - loss: 0.3990 - acc: 0.8190 - val_loss: 0.4239 - val_acc: 0.8145\n",
      "Epoch 14/25\n",
      "250/250 [==============================] - 35s - loss: 0.3867 - acc: 0.8228 - val_loss: 0.5295 - val_acc: 0.7700\n",
      "Epoch 15/25\n",
      "250/250 [==============================] - 35s - loss: 0.3809 - acc: 0.8299 - val_loss: 0.4251 - val_acc: 0.8305\n",
      "Epoch 16/25\n",
      "250/250 [==============================] - 35s - loss: 0.3679 - acc: 0.8341 - val_loss: 0.4270 - val_acc: 0.8090\n",
      "Epoch 17/25\n",
      "250/250 [==============================] - 35s - loss: 0.3571 - acc: 0.8405 - val_loss: 0.4805 - val_acc: 0.8090\n",
      "Epoch 18/25\n",
      "250/250 [==============================] - 35s - loss: 0.3453 - acc: 0.8452 - val_loss: 0.4406 - val_acc: 0.8190\n",
      "Epoch 19/25\n",
      "250/250 [==============================] - 35s - loss: 0.3297 - acc: 0.8515 - val_loss: 0.4326 - val_acc: 0.8200\n",
      "Epoch 20/25\n",
      "250/250 [==============================] - 35s - loss: 0.3268 - acc: 0.8606 - val_loss: 0.4366 - val_acc: 0.8200\n",
      "Epoch 21/25\n",
      "250/250 [==============================] - 34s - loss: 0.3179 - acc: 0.8599 - val_loss: 0.4115 - val_acc: 0.8265\n",
      "Epoch 22/25\n",
      "250/250 [==============================] - 35s - loss: 0.3099 - acc: 0.8620 - val_loss: 0.4410 - val_acc: 0.8130\n",
      "Epoch 23/25\n",
      "250/250 [==============================] - 35s - loss: 0.2975 - acc: 0.8699 - val_loss: 0.4719 - val_acc: 0.8200\n",
      "Epoch 24/25\n",
      "250/250 [==============================] - 35s - loss: 0.2895 - acc: 0.8769 - val_loss: 0.4498 - val_acc: 0.8150\n",
      "Epoch 25/25\n",
      "250/250 [==============================] - 34s - loss: 0.2739 - acc: 0.8832 - val_loss: 0.4551 - val_acc: 0.8110\n",
      "used: 884.26 s\n"
     ]
    }
   ],
   "source": [
    "from time import time, ctime\n",
    "start = time()\n",
    "classifier.fit_generator(\n",
    "        training_set,\n",
    "        steps_per_epoch= 8000/32,\n",
    "        epochs=25,\n",
    "        validation_data= test_set,\n",
    "        validation_steps= 2000/32)\n",
    "eclipse=time()-start\n",
    "print ('used: {:.2f} s'.format(eclipse))"
   ]
  },
  {
   "cell_type": "code",
   "execution_count": 13,
   "metadata": {},
   "outputs": [
    {
     "name": "stdout",
     "output_type": "stream",
     "text": [
      "884.2610001564026\n"
     ]
    },
    {
     "data": {
      "text/plain": [
       "'Thu Oct 26 21:19:44 2017'"
      ]
     },
     "execution_count": 13,
     "metadata": {},
     "output_type": "execute_result"
    }
   ],
   "source": [
    "print (eclipse)\n",
    "ctime()"
   ]
  },
  {
   "cell_type": "code",
   "execution_count": 14,
   "metadata": {},
   "outputs": [
    {
     "data": {
      "text/plain": [
       "14.737683335940043"
      ]
     },
     "execution_count": 14,
     "metadata": {},
     "output_type": "execute_result"
    }
   ],
   "source": [
    "eclipse/60"
   ]
  },
  {
   "cell_type": "markdown",
   "metadata": {},
   "source": [
    "### predict"
   ]
  },
  {
   "cell_type": "code",
   "execution_count": null,
   "metadata": {},
   "outputs": [],
   "source": [
    "import numpy as np\n",
    "from keras.preprocessing import image"
   ]
  },
  {
   "cell_type": "code",
   "execution_count": null,
   "metadata": {},
   "outputs": [],
   "source": []
  },
  {
   "cell_type": "code",
   "execution_count": null,
   "metadata": {},
   "outputs": [],
   "source": []
  },
  {
   "cell_type": "code",
   "execution_count": null,
   "metadata": {},
   "outputs": [],
   "source": [
    "# classifier.predict_generator(\n",
    "#     test_datagen.flow_from_directory(\n",
    "#         'Convolutional_Neural_Networks/dataset/single_prediction/',\n",
    "#         target_size=(64, 64),\n",
    "#         batch_size=2,\n",
    "#         class_mode='binary'),  steps=2)"
   ]
  },
  {
   "cell_type": "code",
   "execution_count": null,
   "metadata": {},
   "outputs": [],
   "source": [
    "classifier.predict_generator?"
   ]
  },
  {
   "cell_type": "code",
   "execution_count": null,
   "metadata": {},
   "outputs": [],
   "source": []
  }
 ],
 "metadata": {
  "kernelspec": {
   "display_name": "tensorflow",
   "language": "python",
   "name": "tensorflow"
  },
  "language_info": {
   "codemirror_mode": {
    "name": "ipython",
    "version": 3
   },
   "file_extension": ".py",
   "mimetype": "text/x-python",
   "name": "python",
   "nbconvert_exporter": "python",
   "pygments_lexer": "ipython3",
   "version": "3.5.4"
  }
 },
 "nbformat": 4,
 "nbformat_minor": 2
}
