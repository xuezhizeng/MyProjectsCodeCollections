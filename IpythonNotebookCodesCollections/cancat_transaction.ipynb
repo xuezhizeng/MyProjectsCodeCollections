{
 "cells": [
  {
   "cell_type": "code",
   "execution_count": 1,
   "metadata": {
    "collapsed": true
   },
   "outputs": [],
   "source": [
    "import pandas as pd\n",
    "import os"
   ]
  },
  {
   "cell_type": "code",
   "execution_count": 5,
   "metadata": {},
   "outputs": [
    {
     "name": "stdout",
     "output_type": "stream",
     "text": [
      "20514\n",
      "100\n",
      "(2462, 9)\n",
      "CPU times: user 584 ms, sys: 74 ms, total: 658 ms\n",
      "Wall time: 657 ms\n"
     ]
    }
   ],
   "source": [
    "%%time\n",
    "path = '11Jan2018_transaction/'\n",
    "files = os.listdir(path)\n",
    "print len(files)\n",
    "\n",
    "tmp = []\n",
    "for i in files[:100]:\n",
    "    try:\n",
    "        one = pd.read_excel(path+i)\n",
    "        one['PID']=int(i.split('.')[0])\n",
    "        tmp.append(one)\n",
    "    except:\n",
    "        print i,\n",
    "print len(tmp)\n",
    "df = pd.concat(tmp)\n",
    "print df.shape"
   ]
  },
  {
   "cell_type": "code",
   "execution_count": 8,
   "metadata": {},
   "outputs": [],
   "source": [
    "col = list(df.columns)\n",
    "change_order = ['PID',]\n",
    "col = [col.pop(col.index(i)) for i in change_order]+col\n",
    "df = df[col]"
   ]
  },
  {
   "cell_type": "code",
   "execution_count": 11,
   "metadata": {},
   "outputs": [],
   "source": [
    "# df"
   ]
  },
  {
   "cell_type": "code",
   "execution_count": null,
   "metadata": {
    "collapsed": true
   },
   "outputs": [],
   "source": []
  }
 ],
 "metadata": {
  "kernelspec": {
   "display_name": "Python 2",
   "language": "python",
   "name": "python2"
  },
  "language_info": {
   "codemirror_mode": {
    "name": "ipython",
    "version": 2
   },
   "file_extension": ".py",
   "mimetype": "text/x-python",
   "name": "python",
   "nbconvert_exporter": "python",
   "pygments_lexer": "ipython2",
   "version": "2.7.13"
  }
 },
 "nbformat": 4,
 "nbformat_minor": 2
}
