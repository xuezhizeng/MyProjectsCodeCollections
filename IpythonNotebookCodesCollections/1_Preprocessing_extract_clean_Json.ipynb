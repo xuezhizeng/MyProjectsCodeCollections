{
 "cells": [
  {
   "cell_type": "code",
   "execution_count": 1,
   "metadata": {
    "collapsed": true
   },
   "outputs": [],
   "source": [
    "import pandas as pd\n",
    "from ast import literal_eval"
   ]
  },
  {
   "cell_type": "markdown",
   "metadata": {},
   "source": [
    "#### load raw parsed json html file"
   ]
  },
  {
   "cell_type": "code",
   "execution_count": 2,
   "metadata": {},
   "outputs": [
    {
     "data": {
      "text/plain": [
       "(119819, 38)"
      ]
     },
     "execution_count": 2,
     "metadata": {},
     "output_type": "execute_result"
    }
   ],
   "source": [
    "df=pd.read_csv('./new_golden.csv')\n",
    "df.shape"
   ]
  },
  {
   "cell_type": "markdown",
   "metadata": {},
   "source": [
    "#### remove null"
   ]
  },
  {
   "cell_type": "code",
   "execution_count": 6,
   "metadata": {},
   "outputs": [
    {
     "data": {
      "text/plain": [
       "(108016, 38)"
      ]
     },
     "execution_count": 6,
     "metadata": {},
     "output_type": "execute_result"
    }
   ],
   "source": [
    "df = df[~df['username'].isnull()]\n",
    "df.shape"
   ]
  },
  {
   "cell_type": "markdown",
   "metadata": {},
   "source": [
    "#### remove duplicates"
   ]
  },
  {
   "cell_type": "code",
   "execution_count": 15,
   "metadata": {
    "collapsed": true
   },
   "outputs": [],
   "source": [
    "df = df[~df['username'].duplicated()]"
   ]
  },
  {
   "cell_type": "code",
   "execution_count": 56,
   "metadata": {},
   "outputs": [
    {
     "data": {
      "text/html": [
       "<div>\n",
       "<style>\n",
       "    .dataframe thead tr:only-child th {\n",
       "        text-align: right;\n",
       "    }\n",
       "\n",
       "    .dataframe thead th {\n",
       "        text-align: left;\n",
       "    }\n",
       "\n",
       "    .dataframe tbody tr th {\n",
       "        vertical-align: top;\n",
       "    }\n",
       "</style>\n",
       "<table border=\"1\" class=\"dataframe\">\n",
       "  <thead>\n",
       "    <tr style=\"text-align: right;\">\n",
       "      <th></th>\n",
       "      <th>about.avatar</th>\n",
       "      <th>about.avatar_cdn</th>\n",
       "      <th>about.avatar_large</th>\n",
       "      <th>about.avatar_large_cdn</th>\n",
       "      <th>about.chosen_role</th>\n",
       "      <th>about.company</th>\n",
       "      <th>about.corporate</th>\n",
       "      <th>about.cover_image</th>\n",
       "      <th>about.display_name</th>\n",
       "      <th>about.hourly_rate</th>\n",
       "      <th>about.id</th>\n",
       "      <th>about.location</th>\n",
       "      <th>about.preferred_freelancer</th>\n",
       "      <th>about.primary_currency</th>\n",
       "      <th>about.primary_language</th>\n",
       "      <th>about.profile_description</th>\n",
       "      <th>about.public_name</th>\n",
       "      <th>about.recommendations</th>\n",
       "      <th>about.registration_date</th>\n",
       "      <th>about.registration_date_human</th>\n",
       "      <th>about.reputation</th>\n",
       "      <th>about.role</th>\n",
       "      <th>about.status</th>\n",
       "      <th>about.tagline</th>\n",
       "      <th>about.timezone</th>\n",
       "      <th>about.username</th>\n",
       "      <th>about.username_sentence</th>\n",
       "      <th>hourlyRate</th>\n",
       "      <th>resume.certifications</th>\n",
       "      <th>resume.education</th>\n",
       "      <th>resume.exams</th>\n",
       "      <th>resume.experience</th>\n",
       "      <th>resume.publications</th>\n",
       "      <th>resume.show</th>\n",
       "      <th>skills</th>\n",
       "      <th>timeOffset</th>\n",
       "      <th>userId</th>\n",
       "      <th>username</th>\n",
       "    </tr>\n",
       "  </thead>\n",
       "  <tbody>\n",
       "    <tr>\n",
       "      <th>0</th>\n",
       "      <td>/ppic/1869150/logo/1018449/profile_logo_101844...</td>\n",
       "      <td>//cdn2.f-cdn.com/ppic/1869150/logo/1018449/pro...</td>\n",
       "      <td>/ppic/1869149/logo/1018449/profile-image-250.png</td>\n",
       "      <td>//cdn3.f-cdn.com/ppic/1869149/logo/1018449/pro...</td>\n",
       "      <td>2.0</td>\n",
       "      <td>itsol</td>\n",
       "      <td>None</td>\n",
       "      <td>{u'current_image': {u'url': u'//cdn2.f-cdn.com...</td>\n",
       "      <td>techit99</td>\n",
       "      <td>60</td>\n",
       "      <td>1018449.0</td>\n",
       "      <td>{u'administrative_area': None, u'city': u'Bris...</td>\n",
       "      <td>False</td>\n",
       "      <td>{u'code': u'USD', u'name': u'US Dollar', u'cou...</td>\n",
       "      <td>en</td>\n",
       "      <td>NaN</td>\n",
       "      <td>techit99</td>\n",
       "      <td>0.0</td>\n",
       "      <td>1.237934e+09</td>\n",
       "      <td>March, 2009</td>\n",
       "      <td>{u'user_id': 1018449, u'last3months': {u'compl...</td>\n",
       "      <td>1.0</td>\n",
       "      <td>{u'payment_verified': False, u'identity_verifi...</td>\n",
       "      <td>NaN</td>\n",
       "      <td>{u'country': u'UK', u'offset': 1, u'id': 262, ...</td>\n",
       "      <td>techit99</td>\n",
       "      <td>Techit99</td>\n",
       "      <td>60.0</td>\n",
       "      <td>[{u'award_date': u'2011', u'descr': u'Hootsuit...</td>\n",
       "      <td>[]</td>\n",
       "      <td>[]</td>\n",
       "      <td>[{u'year_interval': u'-2011', u'month_interval...</td>\n",
       "      <td>[]</td>\n",
       "      <td>True</td>\n",
       "      <td>[{u'usages': 0, u'seo_url': u'php', u'islocal'...</td>\n",
       "      <td>0.0</td>\n",
       "      <td>1018449.0</td>\n",
       "      <td>techit99</td>\n",
       "    </tr>\n",
       "    <tr>\n",
       "      <th>1</th>\n",
       "      <td>/img/unknown.png</td>\n",
       "      <td>//cdn6.f-cdn.com/img/unknown.png</td>\n",
       "      <td>/img/unknown.png</td>\n",
       "      <td>//cdn6.f-cdn.com/img/unknown.png</td>\n",
       "      <td>1.0</td>\n",
       "      <td>Handmade Cards for Animal Charities</td>\n",
       "      <td>None</td>\n",
       "      <td>{u'current_image': {u'url': u'//cdn2.f-cdn.com...</td>\n",
       "      <td>jung14</td>\n",
       "      <td>25</td>\n",
       "      <td>1344962.0</td>\n",
       "      <td>{u'administrative_area': None, u'city': u'Penr...</td>\n",
       "      <td>False</td>\n",
       "      <td>{u'code': u'USD', u'name': u'US Dollar', u'cou...</td>\n",
       "      <td>en</td>\n",
       "      <td>NaN</td>\n",
       "      <td>jung14</td>\n",
       "      <td>0.0</td>\n",
       "      <td>1.262802e+09</td>\n",
       "      <td>January, 2010</td>\n",
       "      <td>{u'user_id': 1344962, u'last3months': {u'compl...</td>\n",
       "      <td>0.0</td>\n",
       "      <td>{u'payment_verified': False, u'identity_verifi...</td>\n",
       "      <td>NaN</td>\n",
       "      <td>{u'country': u'UK', u'offset': 1, u'id': 262, ...</td>\n",
       "      <td>jung14</td>\n",
       "      <td>Jung14</td>\n",
       "      <td>25.0</td>\n",
       "      <td>[]</td>\n",
       "      <td>[]</td>\n",
       "      <td>[]</td>\n",
       "      <td>[]</td>\n",
       "      <td>[]</td>\n",
       "      <td>False</td>\n",
       "      <td>[{u'usages': 0, u'seo_url': u'copywriting', u'...</td>\n",
       "      <td>0.0</td>\n",
       "      <td>1344962.0</td>\n",
       "      <td>jung14</td>\n",
       "    </tr>\n",
       "    <tr>\n",
       "      <th>2</th>\n",
       "      <td>NaN</td>\n",
       "      <td>NaN</td>\n",
       "      <td>NaN</td>\n",
       "      <td>NaN</td>\n",
       "      <td>NaN</td>\n",
       "      <td>NaN</td>\n",
       "      <td>NaN</td>\n",
       "      <td>NaN</td>\n",
       "      <td>NaN</td>\n",
       "      <td>NaN</td>\n",
       "      <td>NaN</td>\n",
       "      <td>NaN</td>\n",
       "      <td>NaN</td>\n",
       "      <td>NaN</td>\n",
       "      <td>NaN</td>\n",
       "      <td>NaN</td>\n",
       "      <td>NaN</td>\n",
       "      <td>NaN</td>\n",
       "      <td>NaN</td>\n",
       "      <td>NaN</td>\n",
       "      <td>NaN</td>\n",
       "      <td>NaN</td>\n",
       "      <td>NaN</td>\n",
       "      <td>NaN</td>\n",
       "      <td>NaN</td>\n",
       "      <td>NaN</td>\n",
       "      <td>NaN</td>\n",
       "      <td>NaN</td>\n",
       "      <td>NaN</td>\n",
       "      <td>NaN</td>\n",
       "      <td>NaN</td>\n",
       "      <td>NaN</td>\n",
       "      <td>NaN</td>\n",
       "      <td>NaN</td>\n",
       "      <td>NaN</td>\n",
       "      <td>NaN</td>\n",
       "      <td>NaN</td>\n",
       "      <td>NaN</td>\n",
       "    </tr>\n",
       "  </tbody>\n",
       "</table>\n",
       "</div>"
      ],
      "text/plain": [
       "                                        about.avatar  \\\n",
       "0  /ppic/1869150/logo/1018449/profile_logo_101844...   \n",
       "1                                   /img/unknown.png   \n",
       "2                                                NaN   \n",
       "\n",
       "                                    about.avatar_cdn  \\\n",
       "0  //cdn2.f-cdn.com/ppic/1869150/logo/1018449/pro...   \n",
       "1                   //cdn6.f-cdn.com/img/unknown.png   \n",
       "2                                                NaN   \n",
       "\n",
       "                                 about.avatar_large  \\\n",
       "0  /ppic/1869149/logo/1018449/profile-image-250.png   \n",
       "1                                  /img/unknown.png   \n",
       "2                                               NaN   \n",
       "\n",
       "                              about.avatar_large_cdn  about.chosen_role  \\\n",
       "0  //cdn3.f-cdn.com/ppic/1869149/logo/1018449/pro...                2.0   \n",
       "1                   //cdn6.f-cdn.com/img/unknown.png                1.0   \n",
       "2                                                NaN                NaN   \n",
       "\n",
       "                         about.company about.corporate  \\\n",
       "0                                itsol            None   \n",
       "1  Handmade Cards for Animal Charities            None   \n",
       "2                                  NaN             NaN   \n",
       "\n",
       "                                   about.cover_image about.display_name  \\\n",
       "0  {u'current_image': {u'url': u'//cdn2.f-cdn.com...           techit99   \n",
       "1  {u'current_image': {u'url': u'//cdn2.f-cdn.com...             jung14   \n",
       "2                                                NaN                NaN   \n",
       "\n",
       "  about.hourly_rate   about.id  \\\n",
       "0                60  1018449.0   \n",
       "1                25  1344962.0   \n",
       "2               NaN        NaN   \n",
       "\n",
       "                                      about.location  \\\n",
       "0  {u'administrative_area': None, u'city': u'Bris...   \n",
       "1  {u'administrative_area': None, u'city': u'Penr...   \n",
       "2                                                NaN   \n",
       "\n",
       "  about.preferred_freelancer  \\\n",
       "0                      False   \n",
       "1                      False   \n",
       "2                        NaN   \n",
       "\n",
       "                              about.primary_currency about.primary_language  \\\n",
       "0  {u'code': u'USD', u'name': u'US Dollar', u'cou...                     en   \n",
       "1  {u'code': u'USD', u'name': u'US Dollar', u'cou...                     en   \n",
       "2                                                NaN                    NaN   \n",
       "\n",
       "  about.profile_description about.public_name  about.recommendations  \\\n",
       "0                       NaN          techit99                    0.0   \n",
       "1                       NaN            jung14                    0.0   \n",
       "2                       NaN               NaN                    NaN   \n",
       "\n",
       "   about.registration_date about.registration_date_human  \\\n",
       "0             1.237934e+09                   March, 2009   \n",
       "1             1.262802e+09                 January, 2010   \n",
       "2                      NaN                           NaN   \n",
       "\n",
       "                                    about.reputation  about.role  \\\n",
       "0  {u'user_id': 1018449, u'last3months': {u'compl...         1.0   \n",
       "1  {u'user_id': 1344962, u'last3months': {u'compl...         0.0   \n",
       "2                                                NaN         NaN   \n",
       "\n",
       "                                        about.status about.tagline  \\\n",
       "0  {u'payment_verified': False, u'identity_verifi...           NaN   \n",
       "1  {u'payment_verified': False, u'identity_verifi...           NaN   \n",
       "2                                                NaN           NaN   \n",
       "\n",
       "                                      about.timezone about.username  \\\n",
       "0  {u'country': u'UK', u'offset': 1, u'id': 262, ...       techit99   \n",
       "1  {u'country': u'UK', u'offset': 1, u'id': 262, ...         jung14   \n",
       "2                                                NaN            NaN   \n",
       "\n",
       "  about.username_sentence  hourlyRate  \\\n",
       "0                Techit99        60.0   \n",
       "1                  Jung14        25.0   \n",
       "2                     NaN         NaN   \n",
       "\n",
       "                               resume.certifications resume.education  \\\n",
       "0  [{u'award_date': u'2011', u'descr': u'Hootsuit...               []   \n",
       "1                                                 []               []   \n",
       "2                                                NaN              NaN   \n",
       "\n",
       "  resume.exams                                  resume.experience  \\\n",
       "0           []  [{u'year_interval': u'-2011', u'month_interval...   \n",
       "1           []                                                 []   \n",
       "2          NaN                                                NaN   \n",
       "\n",
       "  resume.publications resume.show  \\\n",
       "0                  []        True   \n",
       "1                  []       False   \n",
       "2                 NaN         NaN   \n",
       "\n",
       "                                              skills  timeOffset     userId  \\\n",
       "0  [{u'usages': 0, u'seo_url': u'php', u'islocal'...         0.0  1018449.0   \n",
       "1  [{u'usages': 0, u'seo_url': u'copywriting', u'...         0.0  1344962.0   \n",
       "2                                                NaN         NaN        NaN   \n",
       "\n",
       "   username  \n",
       "0  techit99  \n",
       "1    jung14  \n",
       "2       NaN  "
      ]
     },
     "execution_count": 56,
     "metadata": {},
     "output_type": "execute_result"
    }
   ],
   "source": [
    "pd.options.display.max_columns=100\n",
    "df.head(3)"
   ]
  },
  {
   "cell_type": "code",
   "execution_count": 57,
   "metadata": {},
   "outputs": [
    {
     "data": {
      "text/plain": [
       "Index([u'about.avatar', u'about.avatar_cdn', u'about.avatar_large',\n",
       "       u'about.avatar_large_cdn', u'about.chosen_role', u'about.company',\n",
       "       u'about.corporate', u'about.cover_image', u'about.display_name',\n",
       "       u'about.hourly_rate', u'about.id', u'about.location',\n",
       "       u'about.preferred_freelancer', u'about.primary_currency',\n",
       "       u'about.primary_language', u'about.profile_description',\n",
       "       u'about.public_name', u'about.recommendations',\n",
       "       u'about.registration_date', u'about.registration_date_human',\n",
       "       u'about.reputation', u'about.role', u'about.status', u'about.tagline',\n",
       "       u'about.timezone', u'about.username', u'about.username_sentence',\n",
       "       u'hourlyRate', u'resume.certifications', u'resume.education',\n",
       "       u'resume.exams', u'resume.experience', u'resume.publications',\n",
       "       u'resume.show', u'skills', u'timeOffset', u'userId', u'username'],\n",
       "      dtype='object')"
      ]
     },
     "execution_count": 57,
     "metadata": {},
     "output_type": "execute_result"
    }
   ],
   "source": [
    "df.columns[-40:]"
   ]
  },
  {
   "cell_type": "markdown",
   "metadata": {},
   "source": [
    "#### memove fields with no value, e.g., profile pic link, profile duplicate ID, fields has 95% more all null values"
   ]
  },
  {
   "cell_type": "code",
   "execution_count": 17,
   "metadata": {
    "collapsed": true
   },
   "outputs": [],
   "source": [
    "df1 = df.drop(['about.avatar', u'about.avatar_cdn', u'about.avatar_large',\n",
    "       u'about.avatar_large_cdn', u'about.cover_image', u'about.id',\n",
    "                'about.corporate', 'about.preferred_freelancer', \n",
    "                ], axis=1)"
   ]
  },
  {
   "cell_type": "markdown",
   "metadata": {},
   "source": [
    "* extract month and year as new fields from registration date \n",
    "* convert profile_description field to length of characters"
   ]
  },
  {
   "cell_type": "code",
   "execution_count": 18,
   "metadata": {
    "collapsed": true
   },
   "outputs": [],
   "source": [
    "df1['register_Month'] = df1['about.registration_date_human'].fillna('NoMn, NoYr').apply(lambda x: x.split(',')[0] )\n",
    "df1['register_Year'] = df1['about.registration_date_human'].fillna('NoMn, NoYr').apply(lambda x: x.split(',')[1] )\n",
    "df1['desc_len'] = df1['about.profile_description'].apply(lambda x: len(str(x).strip()))\n",
    "# df1['about.location'] = df1['about.location'].fillna(\"\")"
   ]
  },
  {
   "cell_type": "code",
   "execution_count": 19,
   "metadata": {},
   "outputs": [
    {
     "data": {
      "text/plain": [
       "(105880, 31)"
      ]
     },
     "execution_count": 19,
     "metadata": {},
     "output_type": "execute_result"
    }
   ],
   "source": [
    "df2 = df1.drop(['about.registration_date_human','about.profile_description'], axis=1)\n",
    "df2.shape"
   ]
  },
  {
   "cell_type": "markdown",
   "metadata": {},
   "source": [
    "* helper function that unpack dictionary"
   ]
  },
  {
   "cell_type": "code",
   "execution_count": 22,
   "metadata": {
    "collapsed": true
   },
   "outputs": [],
   "source": [
    "def flatten_dict(data, layers=2, drop_deeper=True):\n",
    "\n",
    "        for _ in range(layers):\n",
    "            data = [(k, v) if not isinstance(v, dict) else [(k + '_' + k2, v2) for k2, v2 in v.items()] for k, v in\n",
    "                    data.items()]\n",
    "            data = [item for sublist in data for item in sublist if isinstance(sublist, list)] + [y for y in data if\n",
    "                                                                                                  not isinstance(y,\n",
    "                                                                                                                 list)]\n",
    "            data = dict(data)\n",
    "\n",
    "        if drop_deeper:\n",
    "            data = {k: v for k, v in data.items() if not isinstance(v, dict) or isinstance(v, list)}\n",
    "\n",
    "        return data\n",
    "    \n",
    "def mapping(x):\n",
    "    if type(x)==str:\n",
    "        \n",
    "        try:\n",
    "            tmp = flatten_dict(literal_eval(x))\n",
    "        except:\n",
    "            tmp=None\n",
    "    else:\n",
    "        tmp=x\n",
    "    return tmp\n",
    "\n",
    "def retrieve(field, df=df):\n",
    "    one = df[field].apply(mapping)\n",
    "    two = pd.DataFrame.from_dict(one.to_dict())\n",
    "    three = two.transpose()\n",
    "    return three"
   ]
  },
  {
   "cell_type": "code",
   "execution_count": 23,
   "metadata": {},
   "outputs": [
    {
     "data": {
      "text/plain": [
       "(105880, 31)"
      ]
     },
     "execution_count": 23,
     "metadata": {},
     "output_type": "execute_result"
    }
   ],
   "source": [
    "df2.shape"
   ]
  },
  {
   "cell_type": "markdown",
   "metadata": {},
   "source": [
    "## unpack dictionary fields"
   ]
  },
  {
   "cell_type": "markdown",
   "metadata": {},
   "source": [
    "### location"
   ]
  },
  {
   "cell_type": "code",
   "execution_count": 24,
   "metadata": {},
   "outputs": [
    {
     "name": "stdout",
     "output_type": "stream",
     "text": [
      "(105880, 22)\n",
      "CPU times: user 22.6 s, sys: 340 ms, total: 22.9 s\n",
      "Wall time: 22.9 s\n"
     ]
    }
   ],
   "source": [
    "%%time\n",
    "location = retrieve('about.location')\n",
    "print location.shape"
   ]
  },
  {
   "cell_type": "markdown",
   "metadata": {},
   "source": [
    "#### the step below is to add a '_n' to the end of each field in case the unpacked field has the same name of the main table"
   ]
  },
  {
   "cell_type": "code",
   "execution_count": 25,
   "metadata": {
    "collapsed": true
   },
   "outputs": [],
   "source": [
    "location.columns=map(lambda x: str(x)+'_3',location.columns)"
   ]
  },
  {
   "cell_type": "markdown",
   "metadata": {},
   "source": [
    "#### ps, since fields like country_flag_url, each country has the same url, no need to remove the field\n",
    "#### ps, but I'll drop those fields later due to duplicate infomation"
   ]
  },
  {
   "cell_type": "code",
   "execution_count": 46,
   "metadata": {},
   "outputs": [
    {
     "data": {
      "text/plain": [
       "/img/flags/png/us.png    29508\n",
       "/img/flags/png/in.png    20694\n",
       "/img/flags/png/gb.png     7360\n",
       "/img/flags/png/pk.png     4278\n",
       "/img/flags/png/ca.png     3901\n",
       "Name: country_flag_url_3, dtype: int64"
      ]
     },
     "execution_count": 46,
     "metadata": {},
     "output_type": "execute_result"
    }
   ],
   "source": [
    "location['country_flag_url_3'].value_counts().head()"
   ]
  },
  {
   "cell_type": "code",
   "execution_count": 26,
   "metadata": {},
   "outputs": [
    {
     "data": {
      "text/html": [
       "<div>\n",
       "<style>\n",
       "    .dataframe thead tr:only-child th {\n",
       "        text-align: right;\n",
       "    }\n",
       "\n",
       "    .dataframe thead th {\n",
       "        text-align: left;\n",
       "    }\n",
       "\n",
       "    .dataframe tbody tr th {\n",
       "        vertical-align: top;\n",
       "    }\n",
       "</style>\n",
       "<table border=\"1\" class=\"dataframe\">\n",
       "  <thead>\n",
       "    <tr style=\"text-align: right;\">\n",
       "      <th></th>\n",
       "      <th>administrative_area_3</th>\n",
       "      <th>city_3</th>\n",
       "      <th>country_code_3</th>\n",
       "      <th>country_demonym_3</th>\n",
       "      <th>country_flag_class_3</th>\n",
       "      <th>country_flag_url_3</th>\n",
       "      <th>country_flag_url_cdn_3</th>\n",
       "      <th>country_highres_flag_url_3</th>\n",
       "      <th>country_highres_flag_url_cdn_3</th>\n",
       "      <th>country_iso3_3</th>\n",
       "      <th>...</th>\n",
       "      <th>country_name_3</th>\n",
       "      <th>country_person_3</th>\n",
       "      <th>country_phone_code_3</th>\n",
       "      <th>country_region_id_3</th>\n",
       "      <th>country_sanction_3</th>\n",
       "      <th>country_seo_url_3</th>\n",
       "      <th>full_address_3</th>\n",
       "      <th>latitude_3</th>\n",
       "      <th>longitude_3</th>\n",
       "      <th>vicinity_3</th>\n",
       "    </tr>\n",
       "  </thead>\n",
       "  <tbody>\n",
       "    <tr>\n",
       "      <th>0</th>\n",
       "      <td>None</td>\n",
       "      <td>Bristol</td>\n",
       "      <td>gb</td>\n",
       "      <td>None</td>\n",
       "      <td>united-kingdom</td>\n",
       "      <td>/img/flags/png/gb.png</td>\n",
       "      <td>//cdn6.f-cdn.com/img/flags/png/gb.png</td>\n",
       "      <td>/img/flags/highres_png/united-kingdom.png</td>\n",
       "      <td>//cdn5.f-cdn.com/img/flags/highres_png/united-...</td>\n",
       "      <td>None</td>\n",
       "      <td>...</td>\n",
       "      <td>United Kingdom</td>\n",
       "      <td>None</td>\n",
       "      <td>None</td>\n",
       "      <td>None</td>\n",
       "      <td>None</td>\n",
       "      <td>None</td>\n",
       "      <td>None</td>\n",
       "      <td>None</td>\n",
       "      <td>None</td>\n",
       "      <td>None</td>\n",
       "    </tr>\n",
       "    <tr>\n",
       "      <th>1</th>\n",
       "      <td>None</td>\n",
       "      <td>Penrith</td>\n",
       "      <td>gb</td>\n",
       "      <td>None</td>\n",
       "      <td>united-kingdom</td>\n",
       "      <td>/img/flags/png/gb.png</td>\n",
       "      <td>//cdn6.f-cdn.com/img/flags/png/gb.png</td>\n",
       "      <td>/img/flags/highres_png/united-kingdom.png</td>\n",
       "      <td>//cdn5.f-cdn.com/img/flags/highres_png/united-...</td>\n",
       "      <td>None</td>\n",
       "      <td>...</td>\n",
       "      <td>United Kingdom</td>\n",
       "      <td>None</td>\n",
       "      <td>None</td>\n",
       "      <td>None</td>\n",
       "      <td>None</td>\n",
       "      <td>None</td>\n",
       "      <td>None</td>\n",
       "      <td>None</td>\n",
       "      <td>None</td>\n",
       "      <td>None</td>\n",
       "    </tr>\n",
       "    <tr>\n",
       "      <th>4</th>\n",
       "      <td>None</td>\n",
       "      <td>Nashik</td>\n",
       "      <td>in</td>\n",
       "      <td>None</td>\n",
       "      <td>india</td>\n",
       "      <td>/img/flags/png/in.png</td>\n",
       "      <td>//cdn2.f-cdn.com/img/flags/png/in.png</td>\n",
       "      <td>/img/flags/highres_png/india.png</td>\n",
       "      <td>//cdn3.f-cdn.com/img/flags/highres_png/india.png</td>\n",
       "      <td>None</td>\n",
       "      <td>...</td>\n",
       "      <td>India</td>\n",
       "      <td>None</td>\n",
       "      <td>None</td>\n",
       "      <td>None</td>\n",
       "      <td>None</td>\n",
       "      <td>None</td>\n",
       "      <td>None</td>\n",
       "      <td>None</td>\n",
       "      <td>None</td>\n",
       "      <td>None</td>\n",
       "    </tr>\n",
       "    <tr>\n",
       "      <th>5</th>\n",
       "      <td>None</td>\n",
       "      <td>London</td>\n",
       "      <td>gb</td>\n",
       "      <td>None</td>\n",
       "      <td>united-kingdom</td>\n",
       "      <td>/img/flags/png/gb.png</td>\n",
       "      <td>//cdn6.f-cdn.com/img/flags/png/gb.png</td>\n",
       "      <td>/img/flags/highres_png/united-kingdom.png</td>\n",
       "      <td>//cdn5.f-cdn.com/img/flags/highres_png/united-...</td>\n",
       "      <td>None</td>\n",
       "      <td>...</td>\n",
       "      <td>United Kingdom</td>\n",
       "      <td>None</td>\n",
       "      <td>None</td>\n",
       "      <td>None</td>\n",
       "      <td>None</td>\n",
       "      <td>None</td>\n",
       "      <td>None</td>\n",
       "      <td>None</td>\n",
       "      <td>None</td>\n",
       "      <td>None</td>\n",
       "    </tr>\n",
       "    <tr>\n",
       "      <th>6</th>\n",
       "      <td>None</td>\n",
       "      <td>Torronto</td>\n",
       "      <td>ca</td>\n",
       "      <td>None</td>\n",
       "      <td>canada</td>\n",
       "      <td>/img/flags/png/ca.png</td>\n",
       "      <td>//cdn6.f-cdn.com/img/flags/png/ca.png</td>\n",
       "      <td>/img/flags/highres_png/canada.png</td>\n",
       "      <td>//cdn6.f-cdn.com/img/flags/highres_png/canada.png</td>\n",
       "      <td>None</td>\n",
       "      <td>...</td>\n",
       "      <td>Canada</td>\n",
       "      <td>None</td>\n",
       "      <td>None</td>\n",
       "      <td>None</td>\n",
       "      <td>None</td>\n",
       "      <td>None</td>\n",
       "      <td>None</td>\n",
       "      <td>None</td>\n",
       "      <td>None</td>\n",
       "      <td>None</td>\n",
       "    </tr>\n",
       "  </tbody>\n",
       "</table>\n",
       "<p>5 rows × 22 columns</p>\n",
       "</div>"
      ],
      "text/plain": [
       "  administrative_area_3    city_3 country_code_3 country_demonym_3  \\\n",
       "0                  None   Bristol             gb              None   \n",
       "1                  None   Penrith             gb              None   \n",
       "4                  None    Nashik             in              None   \n",
       "5                  None    London             gb              None   \n",
       "6                  None  Torronto             ca              None   \n",
       "\n",
       "  country_flag_class_3     country_flag_url_3  \\\n",
       "0       united-kingdom  /img/flags/png/gb.png   \n",
       "1       united-kingdom  /img/flags/png/gb.png   \n",
       "4                india  /img/flags/png/in.png   \n",
       "5       united-kingdom  /img/flags/png/gb.png   \n",
       "6               canada  /img/flags/png/ca.png   \n",
       "\n",
       "                  country_flag_url_cdn_3  \\\n",
       "0  //cdn6.f-cdn.com/img/flags/png/gb.png   \n",
       "1  //cdn6.f-cdn.com/img/flags/png/gb.png   \n",
       "4  //cdn2.f-cdn.com/img/flags/png/in.png   \n",
       "5  //cdn6.f-cdn.com/img/flags/png/gb.png   \n",
       "6  //cdn6.f-cdn.com/img/flags/png/ca.png   \n",
       "\n",
       "                  country_highres_flag_url_3  \\\n",
       "0  /img/flags/highres_png/united-kingdom.png   \n",
       "1  /img/flags/highres_png/united-kingdom.png   \n",
       "4           /img/flags/highres_png/india.png   \n",
       "5  /img/flags/highres_png/united-kingdom.png   \n",
       "6          /img/flags/highres_png/canada.png   \n",
       "\n",
       "                      country_highres_flag_url_cdn_3 country_iso3_3  \\\n",
       "0  //cdn5.f-cdn.com/img/flags/highres_png/united-...           None   \n",
       "1  //cdn5.f-cdn.com/img/flags/highres_png/united-...           None   \n",
       "4   //cdn3.f-cdn.com/img/flags/highres_png/india.png           None   \n",
       "5  //cdn5.f-cdn.com/img/flags/highres_png/united-...           None   \n",
       "6  //cdn6.f-cdn.com/img/flags/highres_png/canada.png           None   \n",
       "\n",
       "     ...      country_name_3 country_person_3 country_phone_code_3  \\\n",
       "0    ...      United Kingdom             None                 None   \n",
       "1    ...      United Kingdom             None                 None   \n",
       "4    ...               India             None                 None   \n",
       "5    ...      United Kingdom             None                 None   \n",
       "6    ...              Canada             None                 None   \n",
       "\n",
       "  country_region_id_3 country_sanction_3 country_seo_url_3 full_address_3  \\\n",
       "0                None               None              None           None   \n",
       "1                None               None              None           None   \n",
       "4                None               None              None           None   \n",
       "5                None               None              None           None   \n",
       "6                None               None              None           None   \n",
       "\n",
       "  latitude_3 longitude_3 vicinity_3  \n",
       "0       None        None       None  \n",
       "1       None        None       None  \n",
       "4       None        None       None  \n",
       "5       None        None       None  \n",
       "6       None        None       None  \n",
       "\n",
       "[5 rows x 22 columns]"
      ]
     },
     "execution_count": 26,
     "metadata": {},
     "output_type": "execute_result"
    }
   ],
   "source": [
    "location.head()"
   ]
  },
  {
   "cell_type": "markdown",
   "metadata": {},
   "source": [
    "### primary_currency"
   ]
  },
  {
   "cell_type": "code",
   "execution_count": 27,
   "metadata": {},
   "outputs": [
    {
     "name": "stdout",
     "output_type": "stream",
     "text": [
      "(105880, 6)\n",
      "CPU times: user 9.94 s, sys: 13 ms, total: 9.96 s\n",
      "Wall time: 9.93 s\n"
     ]
    }
   ],
   "source": [
    "%%time\n",
    "curr = retrieve('about.primary_currency')\n",
    "print curr.shape"
   ]
  },
  {
   "cell_type": "code",
   "execution_count": 28,
   "metadata": {
    "collapsed": true
   },
   "outputs": [],
   "source": [
    "curr.columns=map(lambda x: str(x)+'_2',curr.columns)"
   ]
  },
  {
   "cell_type": "code",
   "execution_count": 29,
   "metadata": {},
   "outputs": [
    {
     "data": {
      "text/html": [
       "<div>\n",
       "<style>\n",
       "    .dataframe thead tr:only-child th {\n",
       "        text-align: right;\n",
       "    }\n",
       "\n",
       "    .dataframe thead th {\n",
       "        text-align: left;\n",
       "    }\n",
       "\n",
       "    .dataframe tbody tr th {\n",
       "        vertical-align: top;\n",
       "    }\n",
       "</style>\n",
       "<table border=\"1\" class=\"dataframe\">\n",
       "  <thead>\n",
       "    <tr style=\"text-align: right;\">\n",
       "      <th></th>\n",
       "      <th>code_2</th>\n",
       "      <th>country_2</th>\n",
       "      <th>exchange_rate_2</th>\n",
       "      <th>id_2</th>\n",
       "      <th>name_2</th>\n",
       "      <th>sign_2</th>\n",
       "    </tr>\n",
       "  </thead>\n",
       "  <tbody>\n",
       "    <tr>\n",
       "      <th>0</th>\n",
       "      <td>USD</td>\n",
       "      <td>US</td>\n",
       "      <td>1</td>\n",
       "      <td>1</td>\n",
       "      <td>US Dollar</td>\n",
       "      <td>$</td>\n",
       "    </tr>\n",
       "    <tr>\n",
       "      <th>1</th>\n",
       "      <td>USD</td>\n",
       "      <td>US</td>\n",
       "      <td>1</td>\n",
       "      <td>1</td>\n",
       "      <td>US Dollar</td>\n",
       "      <td>$</td>\n",
       "    </tr>\n",
       "    <tr>\n",
       "      <th>4</th>\n",
       "      <td>USD</td>\n",
       "      <td>US</td>\n",
       "      <td>1</td>\n",
       "      <td>1</td>\n",
       "      <td>US Dollar</td>\n",
       "      <td>$</td>\n",
       "    </tr>\n",
       "    <tr>\n",
       "      <th>5</th>\n",
       "      <td>USD</td>\n",
       "      <td>US</td>\n",
       "      <td>1</td>\n",
       "      <td>1</td>\n",
       "      <td>US Dollar</td>\n",
       "      <td>$</td>\n",
       "    </tr>\n",
       "    <tr>\n",
       "      <th>6</th>\n",
       "      <td>USD</td>\n",
       "      <td>US</td>\n",
       "      <td>1</td>\n",
       "      <td>1</td>\n",
       "      <td>US Dollar</td>\n",
       "      <td>$</td>\n",
       "    </tr>\n",
       "  </tbody>\n",
       "</table>\n",
       "</div>"
      ],
      "text/plain": [
       "  code_2 country_2 exchange_rate_2 id_2     name_2 sign_2\n",
       "0    USD        US               1    1  US Dollar      $\n",
       "1    USD        US               1    1  US Dollar      $\n",
       "4    USD        US               1    1  US Dollar      $\n",
       "5    USD        US               1    1  US Dollar      $\n",
       "6    USD        US               1    1  US Dollar      $"
      ]
     },
     "execution_count": 29,
     "metadata": {},
     "output_type": "execute_result"
    }
   ],
   "source": [
    "curr.head()"
   ]
  },
  {
   "cell_type": "markdown",
   "metadata": {},
   "source": [
    "### reputation"
   ]
  },
  {
   "cell_type": "code",
   "execution_count": 30,
   "metadata": {},
   "outputs": [
    {
     "name": "stdout",
     "output_type": "stream",
     "text": [
      "(105880, 65)\n",
      "CPU times: user 1min 5s, sys: 592 ms, total: 1min 6s\n",
      "Wall time: 1min 5s\n"
     ]
    }
   ],
   "source": [
    "%%time\n",
    "repu = retrieve('about.reputation')\n",
    "print repu.shape"
   ]
  },
  {
   "cell_type": "code",
   "execution_count": 31,
   "metadata": {
    "collapsed": true
   },
   "outputs": [],
   "source": [
    "repu.columns=map(lambda x: str(x)+'_4',repu.columns)"
   ]
  },
  {
   "cell_type": "code",
   "execution_count": 32,
   "metadata": {},
   "outputs": [
    {
     "data": {
      "text/html": [
       "<div>\n",
       "<style>\n",
       "    .dataframe thead tr:only-child th {\n",
       "        text-align: right;\n",
       "    }\n",
       "\n",
       "    .dataframe thead th {\n",
       "        text-align: left;\n",
       "    }\n",
       "\n",
       "    .dataframe tbody tr th {\n",
       "        vertical-align: top;\n",
       "    }\n",
       "</style>\n",
       "<table border=\"1\" class=\"dataframe\">\n",
       "  <thead>\n",
       "    <tr style=\"text-align: right;\">\n",
       "      <th></th>\n",
       "      <th>earnings_score_4</th>\n",
       "      <th>entire_history_all_4</th>\n",
       "      <th>entire_history_category_ratings_communication_4</th>\n",
       "      <th>entire_history_category_ratings_expertise_4</th>\n",
       "      <th>entire_history_category_ratings_hire_again_4</th>\n",
       "      <th>entire_history_category_ratings_professionalism_4</th>\n",
       "      <th>entire_history_category_ratings_quality_4</th>\n",
       "      <th>entire_history_complete_4</th>\n",
       "      <th>entire_history_completion_rate_4</th>\n",
       "      <th>entire_history_earnings_4</th>\n",
       "      <th>...</th>\n",
       "      <th>role_4</th>\n",
       "      <th>summary_completion_rate_4</th>\n",
       "      <th>summary_earnings_score_4</th>\n",
       "      <th>summary_earnings_score_pc_4</th>\n",
       "      <th>summary_on_budget_4</th>\n",
       "      <th>summary_on_time_4</th>\n",
       "      <th>summary_rating_score_4</th>\n",
       "      <th>summary_rehire_rate_4</th>\n",
       "      <th>summary_reviews_4</th>\n",
       "      <th>user_id_4</th>\n",
       "    </tr>\n",
       "  </thead>\n",
       "  <tbody>\n",
       "    <tr>\n",
       "      <th>0</th>\n",
       "      <td>0</td>\n",
       "      <td>0</td>\n",
       "      <td>0</td>\n",
       "      <td>0</td>\n",
       "      <td>0</td>\n",
       "      <td>0</td>\n",
       "      <td>0</td>\n",
       "      <td>0</td>\n",
       "      <td>0</td>\n",
       "      <td>None</td>\n",
       "      <td>...</td>\n",
       "      <td>0</td>\n",
       "      <td>N/A</td>\n",
       "      <td>0.0</td>\n",
       "      <td>0</td>\n",
       "      <td>N/A</td>\n",
       "      <td>N/A</td>\n",
       "      <td>0.0</td>\n",
       "      <td>N/A</td>\n",
       "      <td>0</td>\n",
       "      <td>1018449</td>\n",
       "    </tr>\n",
       "    <tr>\n",
       "      <th>1</th>\n",
       "      <td>0</td>\n",
       "      <td>0</td>\n",
       "      <td>0</td>\n",
       "      <td>0</td>\n",
       "      <td>0</td>\n",
       "      <td>0</td>\n",
       "      <td>0</td>\n",
       "      <td>0</td>\n",
       "      <td>0</td>\n",
       "      <td>None</td>\n",
       "      <td>...</td>\n",
       "      <td>0</td>\n",
       "      <td>N/A</td>\n",
       "      <td>0.0</td>\n",
       "      <td>0</td>\n",
       "      <td>N/A</td>\n",
       "      <td>N/A</td>\n",
       "      <td>0.0</td>\n",
       "      <td>N/A</td>\n",
       "      <td>0</td>\n",
       "      <td>1344962</td>\n",
       "    </tr>\n",
       "    <tr>\n",
       "      <th>4</th>\n",
       "      <td>0</td>\n",
       "      <td>0</td>\n",
       "      <td>0</td>\n",
       "      <td>0</td>\n",
       "      <td>0</td>\n",
       "      <td>0</td>\n",
       "      <td>0</td>\n",
       "      <td>0</td>\n",
       "      <td>0</td>\n",
       "      <td>None</td>\n",
       "      <td>...</td>\n",
       "      <td>0</td>\n",
       "      <td>N/A</td>\n",
       "      <td>0.0</td>\n",
       "      <td>0</td>\n",
       "      <td>N/A</td>\n",
       "      <td>N/A</td>\n",
       "      <td>0.0</td>\n",
       "      <td>N/A</td>\n",
       "      <td>0</td>\n",
       "      <td>1557698</td>\n",
       "    </tr>\n",
       "    <tr>\n",
       "      <th>5</th>\n",
       "      <td>0</td>\n",
       "      <td>0</td>\n",
       "      <td>0</td>\n",
       "      <td>0</td>\n",
       "      <td>0</td>\n",
       "      <td>0</td>\n",
       "      <td>0</td>\n",
       "      <td>0</td>\n",
       "      <td>0</td>\n",
       "      <td>None</td>\n",
       "      <td>...</td>\n",
       "      <td>0</td>\n",
       "      <td>N/A</td>\n",
       "      <td>0.0</td>\n",
       "      <td>0</td>\n",
       "      <td>N/A</td>\n",
       "      <td>N/A</td>\n",
       "      <td>0.0</td>\n",
       "      <td>N/A</td>\n",
       "      <td>0</td>\n",
       "      <td>1240449</td>\n",
       "    </tr>\n",
       "    <tr>\n",
       "      <th>6</th>\n",
       "      <td>0</td>\n",
       "      <td>0</td>\n",
       "      <td>0</td>\n",
       "      <td>0</td>\n",
       "      <td>0</td>\n",
       "      <td>0</td>\n",
       "      <td>0</td>\n",
       "      <td>0</td>\n",
       "      <td>0</td>\n",
       "      <td>None</td>\n",
       "      <td>...</td>\n",
       "      <td>0</td>\n",
       "      <td>N/A</td>\n",
       "      <td>0.0</td>\n",
       "      <td>0</td>\n",
       "      <td>N/A</td>\n",
       "      <td>N/A</td>\n",
       "      <td>0.0</td>\n",
       "      <td>N/A</td>\n",
       "      <td>0</td>\n",
       "      <td>295694</td>\n",
       "    </tr>\n",
       "  </tbody>\n",
       "</table>\n",
       "<p>5 rows × 65 columns</p>\n",
       "</div>"
      ],
      "text/plain": [
       "  earnings_score_4 entire_history_all_4  \\\n",
       "0                0                    0   \n",
       "1                0                    0   \n",
       "4                0                    0   \n",
       "5                0                    0   \n",
       "6                0                    0   \n",
       "\n",
       "  entire_history_category_ratings_communication_4  \\\n",
       "0                                               0   \n",
       "1                                               0   \n",
       "4                                               0   \n",
       "5                                               0   \n",
       "6                                               0   \n",
       "\n",
       "  entire_history_category_ratings_expertise_4  \\\n",
       "0                                           0   \n",
       "1                                           0   \n",
       "4                                           0   \n",
       "5                                           0   \n",
       "6                                           0   \n",
       "\n",
       "  entire_history_category_ratings_hire_again_4  \\\n",
       "0                                            0   \n",
       "1                                            0   \n",
       "4                                            0   \n",
       "5                                            0   \n",
       "6                                            0   \n",
       "\n",
       "  entire_history_category_ratings_professionalism_4  \\\n",
       "0                                                 0   \n",
       "1                                                 0   \n",
       "4                                                 0   \n",
       "5                                                 0   \n",
       "6                                                 0   \n",
       "\n",
       "  entire_history_category_ratings_quality_4 entire_history_complete_4  \\\n",
       "0                                         0                         0   \n",
       "1                                         0                         0   \n",
       "4                                         0                         0   \n",
       "5                                         0                         0   \n",
       "6                                         0                         0   \n",
       "\n",
       "  entire_history_completion_rate_4 entire_history_earnings_4    ...    role_4  \\\n",
       "0                                0                      None    ...         0   \n",
       "1                                0                      None    ...         0   \n",
       "4                                0                      None    ...         0   \n",
       "5                                0                      None    ...         0   \n",
       "6                                0                      None    ...         0   \n",
       "\n",
       "  summary_completion_rate_4 summary_earnings_score_4  \\\n",
       "0                       N/A                      0.0   \n",
       "1                       N/A                      0.0   \n",
       "4                       N/A                      0.0   \n",
       "5                       N/A                      0.0   \n",
       "6                       N/A                      0.0   \n",
       "\n",
       "  summary_earnings_score_pc_4 summary_on_budget_4 summary_on_time_4  \\\n",
       "0                           0                 N/A               N/A   \n",
       "1                           0                 N/A               N/A   \n",
       "4                           0                 N/A               N/A   \n",
       "5                           0                 N/A               N/A   \n",
       "6                           0                 N/A               N/A   \n",
       "\n",
       "  summary_rating_score_4 summary_rehire_rate_4 summary_reviews_4 user_id_4  \n",
       "0                    0.0                   N/A                 0   1018449  \n",
       "1                    0.0                   N/A                 0   1344962  \n",
       "4                    0.0                   N/A                 0   1557698  \n",
       "5                    0.0                   N/A                 0   1240449  \n",
       "6                    0.0                   N/A                 0    295694  \n",
       "\n",
       "[5 rows x 65 columns]"
      ]
     },
     "execution_count": 32,
     "metadata": {},
     "output_type": "execute_result"
    }
   ],
   "source": [
    "repu.head()"
   ]
  },
  {
   "cell_type": "markdown",
   "metadata": {},
   "source": [
    "### status"
   ]
  },
  {
   "cell_type": "code",
   "execution_count": 33,
   "metadata": {},
   "outputs": [
    {
     "name": "stdout",
     "output_type": "stream",
     "text": [
      "(105880, 7)\n",
      "CPU times: user 10.2 s, sys: 16 ms, total: 10.2 s\n",
      "Wall time: 10.2 s\n"
     ]
    }
   ],
   "source": [
    "%%time\n",
    "stat = retrieve('about.status')\n",
    "print stat.shape"
   ]
  },
  {
   "cell_type": "code",
   "execution_count": 34,
   "metadata": {},
   "outputs": [
    {
     "data": {
      "text/html": [
       "<div>\n",
       "<style>\n",
       "    .dataframe thead tr:only-child th {\n",
       "        text-align: right;\n",
       "    }\n",
       "\n",
       "    .dataframe thead th {\n",
       "        text-align: left;\n",
       "    }\n",
       "\n",
       "    .dataframe tbody tr th {\n",
       "        vertical-align: top;\n",
       "    }\n",
       "</style>\n",
       "<table border=\"1\" class=\"dataframe\">\n",
       "  <thead>\n",
       "    <tr style=\"text-align: right;\">\n",
       "      <th></th>\n",
       "      <th>deposit_made</th>\n",
       "      <th>email_verified</th>\n",
       "      <th>facebook_connected</th>\n",
       "      <th>identity_verified</th>\n",
       "      <th>payment_verified</th>\n",
       "      <th>phone_verified</th>\n",
       "      <th>profile_complete</th>\n",
       "    </tr>\n",
       "  </thead>\n",
       "  <tbody>\n",
       "    <tr>\n",
       "      <th>0</th>\n",
       "      <td>True</td>\n",
       "      <td>True</td>\n",
       "      <td>False</td>\n",
       "      <td>False</td>\n",
       "      <td>False</td>\n",
       "      <td>False</td>\n",
       "      <td>True</td>\n",
       "    </tr>\n",
       "    <tr>\n",
       "      <th>1</th>\n",
       "      <td>False</td>\n",
       "      <td>True</td>\n",
       "      <td>False</td>\n",
       "      <td>False</td>\n",
       "      <td>False</td>\n",
       "      <td>False</td>\n",
       "      <td>True</td>\n",
       "    </tr>\n",
       "    <tr>\n",
       "      <th>4</th>\n",
       "      <td>False</td>\n",
       "      <td>True</td>\n",
       "      <td>False</td>\n",
       "      <td>False</td>\n",
       "      <td>False</td>\n",
       "      <td>False</td>\n",
       "      <td>True</td>\n",
       "    </tr>\n",
       "    <tr>\n",
       "      <th>5</th>\n",
       "      <td>True</td>\n",
       "      <td>True</td>\n",
       "      <td>False</td>\n",
       "      <td>False</td>\n",
       "      <td>True</td>\n",
       "      <td>False</td>\n",
       "      <td>True</td>\n",
       "    </tr>\n",
       "    <tr>\n",
       "      <th>6</th>\n",
       "      <td>False</td>\n",
       "      <td>True</td>\n",
       "      <td>False</td>\n",
       "      <td>False</td>\n",
       "      <td>False</td>\n",
       "      <td>False</td>\n",
       "      <td>True</td>\n",
       "    </tr>\n",
       "  </tbody>\n",
       "</table>\n",
       "</div>"
      ],
      "text/plain": [
       "   deposit_made  email_verified  facebook_connected  identity_verified  \\\n",
       "0          True            True               False              False   \n",
       "1         False            True               False              False   \n",
       "4         False            True               False              False   \n",
       "5          True            True               False              False   \n",
       "6         False            True               False              False   \n",
       "\n",
       "   payment_verified  phone_verified  profile_complete  \n",
       "0             False           False              True  \n",
       "1             False           False              True  \n",
       "4             False           False              True  \n",
       "5              True           False              True  \n",
       "6             False           False              True  "
      ]
     },
     "execution_count": 34,
     "metadata": {},
     "output_type": "execute_result"
    }
   ],
   "source": [
    "stat.head()"
   ]
  },
  {
   "cell_type": "markdown",
   "metadata": {},
   "source": [
    "### timezone"
   ]
  },
  {
   "cell_type": "code",
   "execution_count": 35,
   "metadata": {},
   "outputs": [
    {
     "name": "stdout",
     "output_type": "stream",
     "text": [
      "(105880, 4)\n",
      "CPU times: user 9.01 s, sys: 27 ms, total: 9.04 s\n",
      "Wall time: 9 s\n"
     ]
    }
   ],
   "source": [
    "%%time\n",
    "timezone = retrieve('about.timezone')\n",
    "print timezone.shape"
   ]
  },
  {
   "cell_type": "code",
   "execution_count": 36,
   "metadata": {
    "collapsed": true
   },
   "outputs": [],
   "source": [
    "timezone.columns=map(lambda x: str(x)+'_5',timezone.columns)"
   ]
  },
  {
   "cell_type": "code",
   "execution_count": 37,
   "metadata": {},
   "outputs": [
    {
     "data": {
      "text/html": [
       "<div>\n",
       "<style>\n",
       "    .dataframe thead tr:only-child th {\n",
       "        text-align: right;\n",
       "    }\n",
       "\n",
       "    .dataframe thead th {\n",
       "        text-align: left;\n",
       "    }\n",
       "\n",
       "    .dataframe tbody tr th {\n",
       "        vertical-align: top;\n",
       "    }\n",
       "</style>\n",
       "<table border=\"1\" class=\"dataframe\">\n",
       "  <thead>\n",
       "    <tr style=\"text-align: right;\">\n",
       "      <th></th>\n",
       "      <th>country_5</th>\n",
       "      <th>id_5</th>\n",
       "      <th>offset_5</th>\n",
       "      <th>timezone_5</th>\n",
       "    </tr>\n",
       "  </thead>\n",
       "  <tbody>\n",
       "    <tr>\n",
       "      <th>0</th>\n",
       "      <td>UK</td>\n",
       "      <td>262</td>\n",
       "      <td>1</td>\n",
       "      <td>Europe/London</td>\n",
       "    </tr>\n",
       "    <tr>\n",
       "      <th>1</th>\n",
       "      <td>UK</td>\n",
       "      <td>262</td>\n",
       "      <td>1</td>\n",
       "      <td>Europe/London</td>\n",
       "    </tr>\n",
       "    <tr>\n",
       "      <th>4</th>\n",
       "      <td>IN</td>\n",
       "      <td>403</td>\n",
       "      <td>5.5</td>\n",
       "      <td>Asia/Kolkata</td>\n",
       "    </tr>\n",
       "    <tr>\n",
       "      <th>5</th>\n",
       "      <td>UK</td>\n",
       "      <td>262</td>\n",
       "      <td>1</td>\n",
       "      <td>Europe/London</td>\n",
       "    </tr>\n",
       "    <tr>\n",
       "      <th>6</th>\n",
       "      <td>PK</td>\n",
       "      <td>183</td>\n",
       "      <td>5</td>\n",
       "      <td>Asia/Karachi</td>\n",
       "    </tr>\n",
       "  </tbody>\n",
       "</table>\n",
       "</div>"
      ],
      "text/plain": [
       "  country_5 id_5 offset_5     timezone_5\n",
       "0        UK  262        1  Europe/London\n",
       "1        UK  262        1  Europe/London\n",
       "4        IN  403      5.5   Asia/Kolkata\n",
       "5        UK  262        1  Europe/London\n",
       "6        PK  183        5   Asia/Karachi"
      ]
     },
     "execution_count": 37,
     "metadata": {},
     "output_type": "execute_result"
    }
   ],
   "source": [
    "timezone.head()"
   ]
  },
  {
   "cell_type": "markdown",
   "metadata": {},
   "source": [
    "### convert list fields to the length of the fields as input since len of the list is not fixed and cannot be unpacked"
   ]
  },
  {
   "cell_type": "code",
   "execution_count": 38,
   "metadata": {},
   "outputs": [
    {
     "data": {
      "text/html": [
       "<div>\n",
       "<style>\n",
       "    .dataframe thead tr:only-child th {\n",
       "        text-align: right;\n",
       "    }\n",
       "\n",
       "    .dataframe thead th {\n",
       "        text-align: left;\n",
       "    }\n",
       "\n",
       "    .dataframe tbody tr th {\n",
       "        vertical-align: top;\n",
       "    }\n",
       "</style>\n",
       "<table border=\"1\" class=\"dataframe\">\n",
       "  <thead>\n",
       "    <tr style=\"text-align: right;\">\n",
       "      <th></th>\n",
       "      <th>about.username_sentence</th>\n",
       "      <th>hourlyRate</th>\n",
       "      <th>resume.certifications</th>\n",
       "      <th>resume.education</th>\n",
       "      <th>resume.exams</th>\n",
       "      <th>resume.experience</th>\n",
       "      <th>resume.publications</th>\n",
       "      <th>resume.show</th>\n",
       "      <th>skills</th>\n",
       "      <th>timeOffset</th>\n",
       "      <th>userId</th>\n",
       "      <th>username</th>\n",
       "      <th>register_Month</th>\n",
       "      <th>register_Year</th>\n",
       "      <th>desc_len</th>\n",
       "    </tr>\n",
       "  </thead>\n",
       "  <tbody>\n",
       "    <tr>\n",
       "      <th>0</th>\n",
       "      <td>Techit99</td>\n",
       "      <td>60.0</td>\n",
       "      <td>[{u'award_date': u'2011', u'descr': u'Hootsuit...</td>\n",
       "      <td>[]</td>\n",
       "      <td>[]</td>\n",
       "      <td>[{u'year_interval': u'-2011', u'month_interval...</td>\n",
       "      <td>[]</td>\n",
       "      <td>True</td>\n",
       "      <td>[{u'usages': 0, u'seo_url': u'php', u'islocal'...</td>\n",
       "      <td>0.0</td>\n",
       "      <td>1018449.0</td>\n",
       "      <td>techit99</td>\n",
       "      <td>March</td>\n",
       "      <td>2009</td>\n",
       "      <td>3</td>\n",
       "    </tr>\n",
       "  </tbody>\n",
       "</table>\n",
       "</div>"
      ],
      "text/plain": [
       "  about.username_sentence  hourlyRate  \\\n",
       "0                Techit99        60.0   \n",
       "\n",
       "                               resume.certifications resume.education  \\\n",
       "0  [{u'award_date': u'2011', u'descr': u'Hootsuit...               []   \n",
       "\n",
       "  resume.exams                                  resume.experience  \\\n",
       "0           []  [{u'year_interval': u'-2011', u'month_interval...   \n",
       "\n",
       "  resume.publications resume.show  \\\n",
       "0                  []        True   \n",
       "\n",
       "                                              skills  timeOffset     userId  \\\n",
       "0  [{u'usages': 0, u'seo_url': u'php', u'islocal'...         0.0  1018449.0   \n",
       "\n",
       "   username register_Month register_Year  desc_len  \n",
       "0  techit99          March          2009         3  "
      ]
     },
     "execution_count": 38,
     "metadata": {},
     "output_type": "execute_result"
    }
   ],
   "source": [
    "df2.head(1).iloc[:,-15:]"
   ]
  },
  {
   "cell_type": "code",
   "execution_count": 39,
   "metadata": {
    "collapsed": true
   },
   "outputs": [],
   "source": [
    "lists=[\n",
    "'resume.certifications',\n",
    "'resume.education',\n",
    "'resume.exams',\n",
    "'resume.experience',\n",
    "'resume.publications',\n",
    "'skills']"
   ]
  },
  {
   "cell_type": "code",
   "execution_count": 40,
   "metadata": {
    "collapsed": true
   },
   "outputs": [],
   "source": [
    "def helperLen(x):\n",
    "    try:\n",
    "        return len(literal_eval(x))\n",
    "    except:\n",
    "        return 0"
   ]
  },
  {
   "cell_type": "code",
   "execution_count": 41,
   "metadata": {},
   "outputs": [
    {
     "name": "stdout",
     "output_type": "stream",
     "text": [
      "CPU times: user 34.4 s, sys: 58 ms, total: 34.4 s\n",
      "Wall time: 34.4 s\n"
     ]
    }
   ],
   "source": [
    "%%time\n",
    "for i in lists:\n",
    "    df2[i+'_len']=df[i].apply(helperLen)"
   ]
  },
  {
   "cell_type": "code",
   "execution_count": 42,
   "metadata": {},
   "outputs": [
    {
     "data": {
      "text/plain": [
       "(105880, 26)"
      ]
     },
     "execution_count": 42,
     "metadata": {},
     "output_type": "execute_result"
    }
   ],
   "source": [
    "df3 = df2.drop(lists+['about.location','about.primary_currency','about.reputation','about.status','about.timezone'], axis=1)\n",
    "df3.shape"
   ]
  },
  {
   "cell_type": "code",
   "execution_count": 43,
   "metadata": {},
   "outputs": [
    {
     "data": {
      "text/html": [
       "<div>\n",
       "<style>\n",
       "    .dataframe thead tr:only-child th {\n",
       "        text-align: right;\n",
       "    }\n",
       "\n",
       "    .dataframe thead th {\n",
       "        text-align: left;\n",
       "    }\n",
       "\n",
       "    .dataframe tbody tr th {\n",
       "        vertical-align: top;\n",
       "    }\n",
       "</style>\n",
       "<table border=\"1\" class=\"dataframe\">\n",
       "  <thead>\n",
       "    <tr style=\"text-align: right;\">\n",
       "      <th></th>\n",
       "      <th>about.chosen_role</th>\n",
       "      <th>about.company</th>\n",
       "      <th>about.display_name</th>\n",
       "      <th>about.hourly_rate</th>\n",
       "      <th>about.primary_language</th>\n",
       "      <th>about.public_name</th>\n",
       "      <th>about.recommendations</th>\n",
       "      <th>about.registration_date</th>\n",
       "      <th>about.role</th>\n",
       "      <th>about.tagline</th>\n",
       "      <th>...</th>\n",
       "      <th>username</th>\n",
       "      <th>register_Month</th>\n",
       "      <th>register_Year</th>\n",
       "      <th>desc_len</th>\n",
       "      <th>resume.certifications_len</th>\n",
       "      <th>resume.education_len</th>\n",
       "      <th>resume.exams_len</th>\n",
       "      <th>resume.experience_len</th>\n",
       "      <th>resume.publications_len</th>\n",
       "      <th>skills_len</th>\n",
       "    </tr>\n",
       "  </thead>\n",
       "  <tbody>\n",
       "    <tr>\n",
       "      <th>0</th>\n",
       "      <td>2.0</td>\n",
       "      <td>itsol</td>\n",
       "      <td>techit99</td>\n",
       "      <td>60</td>\n",
       "      <td>en</td>\n",
       "      <td>techit99</td>\n",
       "      <td>0.0</td>\n",
       "      <td>1.237934e+09</td>\n",
       "      <td>1.0</td>\n",
       "      <td>NaN</td>\n",
       "      <td>...</td>\n",
       "      <td>techit99</td>\n",
       "      <td>March</td>\n",
       "      <td>2009</td>\n",
       "      <td>3</td>\n",
       "      <td>1</td>\n",
       "      <td>0</td>\n",
       "      <td>0</td>\n",
       "      <td>1</td>\n",
       "      <td>0</td>\n",
       "      <td>15</td>\n",
       "    </tr>\n",
       "    <tr>\n",
       "      <th>1</th>\n",
       "      <td>1.0</td>\n",
       "      <td>Handmade Cards for Animal Charities</td>\n",
       "      <td>jung14</td>\n",
       "      <td>25</td>\n",
       "      <td>en</td>\n",
       "      <td>jung14</td>\n",
       "      <td>0.0</td>\n",
       "      <td>1.262802e+09</td>\n",
       "      <td>0.0</td>\n",
       "      <td>NaN</td>\n",
       "      <td>...</td>\n",
       "      <td>jung14</td>\n",
       "      <td>January</td>\n",
       "      <td>2010</td>\n",
       "      <td>3</td>\n",
       "      <td>0</td>\n",
       "      <td>0</td>\n",
       "      <td>0</td>\n",
       "      <td>0</td>\n",
       "      <td>0</td>\n",
       "      <td>25</td>\n",
       "    </tr>\n",
       "    <tr>\n",
       "      <th>4</th>\n",
       "      <td>1.0</td>\n",
       "      <td>Amtech Software</td>\n",
       "      <td>PatilAmit813</td>\n",
       "      <td>10</td>\n",
       "      <td>en</td>\n",
       "      <td>PatilAmit813</td>\n",
       "      <td>0.0</td>\n",
       "      <td>1.273486e+09</td>\n",
       "      <td>0.0</td>\n",
       "      <td>NaN</td>\n",
       "      <td>...</td>\n",
       "      <td>patilamit813</td>\n",
       "      <td>May</td>\n",
       "      <td>2010</td>\n",
       "      <td>3</td>\n",
       "      <td>0</td>\n",
       "      <td>0</td>\n",
       "      <td>0</td>\n",
       "      <td>0</td>\n",
       "      <td>0</td>\n",
       "      <td>9</td>\n",
       "    </tr>\n",
       "    <tr>\n",
       "      <th>5</th>\n",
       "      <td>2.0</td>\n",
       "      <td>n/a</td>\n",
       "      <td>tiabil</td>\n",
       "      <td>None</td>\n",
       "      <td>en</td>\n",
       "      <td>tiabil</td>\n",
       "      <td>0.0</td>\n",
       "      <td>1.255351e+09</td>\n",
       "      <td>1.0</td>\n",
       "      <td>NaN</td>\n",
       "      <td>...</td>\n",
       "      <td>tiabil</td>\n",
       "      <td>October</td>\n",
       "      <td>2009</td>\n",
       "      <td>3</td>\n",
       "      <td>0</td>\n",
       "      <td>0</td>\n",
       "      <td>0</td>\n",
       "      <td>0</td>\n",
       "      <td>0</td>\n",
       "      <td>3</td>\n",
       "    </tr>\n",
       "    <tr>\n",
       "      <th>6</th>\n",
       "      <td>1.0</td>\n",
       "      <td>John Smith</td>\n",
       "      <td>Smily</td>\n",
       "      <td>3</td>\n",
       "      <td>en</td>\n",
       "      <td>Smily</td>\n",
       "      <td>0.0</td>\n",
       "      <td>1.162855e+09</td>\n",
       "      <td>0.0</td>\n",
       "      <td>NaN</td>\n",
       "      <td>...</td>\n",
       "      <td>smily</td>\n",
       "      <td>November</td>\n",
       "      <td>2006</td>\n",
       "      <td>1934</td>\n",
       "      <td>0</td>\n",
       "      <td>0</td>\n",
       "      <td>0</td>\n",
       "      <td>0</td>\n",
       "      <td>0</td>\n",
       "      <td>25</td>\n",
       "    </tr>\n",
       "  </tbody>\n",
       "</table>\n",
       "<p>5 rows × 26 columns</p>\n",
       "</div>"
      ],
      "text/plain": [
       "   about.chosen_role                        about.company about.display_name  \\\n",
       "0                2.0                                itsol           techit99   \n",
       "1                1.0  Handmade Cards for Animal Charities             jung14   \n",
       "4                1.0                      Amtech Software       PatilAmit813   \n",
       "5                2.0                                  n/a             tiabil   \n",
       "6                1.0                           John Smith              Smily   \n",
       "\n",
       "  about.hourly_rate about.primary_language about.public_name  \\\n",
       "0                60                     en          techit99   \n",
       "1                25                     en            jung14   \n",
       "4                10                     en      PatilAmit813   \n",
       "5              None                     en            tiabil   \n",
       "6                 3                     en             Smily   \n",
       "\n",
       "   about.recommendations  about.registration_date  about.role about.tagline  \\\n",
       "0                    0.0             1.237934e+09         1.0           NaN   \n",
       "1                    0.0             1.262802e+09         0.0           NaN   \n",
       "4                    0.0             1.273486e+09         0.0           NaN   \n",
       "5                    0.0             1.255351e+09         1.0           NaN   \n",
       "6                    0.0             1.162855e+09         0.0           NaN   \n",
       "\n",
       "      ...          username register_Month  register_Year desc_len  \\\n",
       "0     ...          techit99          March           2009        3   \n",
       "1     ...            jung14        January           2010        3   \n",
       "4     ...      patilamit813            May           2010        3   \n",
       "5     ...            tiabil        October           2009        3   \n",
       "6     ...             smily       November           2006     1934   \n",
       "\n",
       "   resume.certifications_len  resume.education_len resume.exams_len  \\\n",
       "0                          1                     0                0   \n",
       "1                          0                     0                0   \n",
       "4                          0                     0                0   \n",
       "5                          0                     0                0   \n",
       "6                          0                     0                0   \n",
       "\n",
       "  resume.experience_len resume.publications_len  skills_len  \n",
       "0                     1                       0          15  \n",
       "1                     0                       0          25  \n",
       "4                     0                       0           9  \n",
       "5                     0                       0           3  \n",
       "6                     0                       0          25  \n",
       "\n",
       "[5 rows x 26 columns]"
      ]
     },
     "execution_count": 43,
     "metadata": {},
     "output_type": "execute_result"
    }
   ],
   "source": [
    "df3.head()"
   ]
  },
  {
   "cell_type": "markdown",
   "metadata": {},
   "source": [
    "### concate unpack dictionary fields to the main table"
   ]
  },
  {
   "cell_type": "code",
   "execution_count": 47,
   "metadata": {},
   "outputs": [
    {
     "data": {
      "text/plain": [
       "(105880, 130)"
      ]
     },
     "execution_count": 47,
     "metadata": {},
     "output_type": "execute_result"
    }
   ],
   "source": [
    "df7 = pd.concat([df3, location, curr, repu, stat, timezone], axis=1)z\n",
    "df7.shape"
   ]
  },
  {
   "cell_type": "code",
   "execution_count": 48,
   "metadata": {},
   "outputs": [
    {
     "data": {
      "text/plain": [
       "105518"
      ]
     },
     "execution_count": 48,
     "metadata": {},
     "output_type": "execute_result"
    }
   ],
   "source": [
    "len(df7['userId'].unique())"
   ]
  },
  {
   "cell_type": "code",
   "execution_count": 49,
   "metadata": {},
   "outputs": [
    {
     "data": {
      "text/plain": [
       "105789"
      ]
     },
     "execution_count": 49,
     "metadata": {},
     "output_type": "execute_result"
    }
   ],
   "source": [
    "len(df7['user_id_4'].unique())"
   ]
  },
  {
   "cell_type": "code",
   "execution_count": 50,
   "metadata": {},
   "outputs": [
    {
     "data": {
      "text/plain": [
       "105880"
      ]
     },
     "execution_count": 50,
     "metadata": {},
     "output_type": "execute_result"
    }
   ],
   "source": [
    "len(df7['username'].unique())"
   ]
  },
  {
   "cell_type": "markdown",
   "metadata": {},
   "source": [
    "* drop userID and duplicated user ID"
   ]
  },
  {
   "cell_type": "code",
   "execution_count": 95,
   "metadata": {
    "collapsed": true
   },
   "outputs": [],
   "source": [
    "df7= df7.drop('user_id_4', axis=1)"
   ]
  },
  {
   "cell_type": "code",
   "execution_count": 53,
   "metadata": {
    "collapsed": true
   },
   "outputs": [],
   "source": [
    "df7= df7.drop('userId', axis=1)"
   ]
  },
  {
   "cell_type": "code",
   "execution_count": 54,
   "metadata": {},
   "outputs": [
    {
     "data": {
      "text/plain": [
       "(105880, 129)"
      ]
     },
     "execution_count": 54,
     "metadata": {},
     "output_type": "execute_result"
    }
   ],
   "source": [
    "df7.shape"
   ]
  },
  {
   "cell_type": "markdown",
   "metadata": {},
   "source": [
    "### check and remove fields have most null values"
   ]
  },
  {
   "cell_type": "code",
   "execution_count": 58,
   "metadata": {},
   "outputs": [
    {
     "data": {
      "text/plain": [
       "about.tagline                 87250\n",
       "administrative_area_3        105880\n",
       "country_demonym_3            105880\n",
       "country_iso3_3               105880\n",
       "country_language_code_3      105880\n",
       "country_language_id_3        105880\n",
       "country_person_3             105880\n",
       "country_phone_code_3         105880\n",
       "country_region_id_3          105880\n",
       "country_sanction_3           105880\n",
       "country_seo_url_3            105880\n",
       "full_address_3               105880\n",
       "latitude_3                   105880\n",
       "longitude_3                  105880\n",
       "vicinity_3                   105880\n",
       "entire_history_earnings_4    105880\n",
       "last12months_earnings_4      105880\n",
       "last3months_earnings_4       105880\n",
       "project_stats_4              105880\n",
       "dtype: int64"
      ]
     },
     "execution_count": 58,
     "metadata": {},
     "output_type": "execute_result"
    }
   ],
   "source": [
    "df7.isnull().sum()[df7.isnull().sum()>50000]"
   ]
  },
  {
   "cell_type": "markdown",
   "metadata": {},
   "source": [
    "### drop fields have all null values"
   ]
  },
  {
   "cell_type": "code",
   "execution_count": 75,
   "metadata": {},
   "outputs": [
    {
     "data": {
      "text/plain": [
       "Index([u'administrative_area_3', u'country_demonym_3', u'country_iso3_3',\n",
       "       u'country_language_code_3', u'country_language_id_3',\n",
       "       u'country_person_3', u'country_phone_code_3', u'country_region_id_3',\n",
       "       u'country_sanction_3', u'country_seo_url_3', u'full_address_3',\n",
       "       u'latitude_3', u'longitude_3', u'vicinity_3',\n",
       "       u'entire_history_earnings_4', u'last12months_earnings_4',\n",
       "       u'last3months_earnings_4', u'project_stats_4'],\n",
       "      dtype='object')"
      ]
     },
     "execution_count": 75,
     "metadata": {},
     "output_type": "execute_result"
    }
   ],
   "source": [
    "all_null_fields = df7.isnull().sum()[df7.isnull().sum()==df7.shape[0]].index\n",
    "all_null_fields"
   ]
  },
  {
   "cell_type": "code",
   "execution_count": 78,
   "metadata": {},
   "outputs": [
    {
     "data": {
      "text/plain": [
       "(105880, 111)"
      ]
     },
     "execution_count": 78,
     "metadata": {},
     "output_type": "execute_result"
    }
   ],
   "source": [
    "df7 = df7.drop(all_null_fields, axis=1)\n",
    "df7.shape"
   ]
  },
  {
   "cell_type": "markdown",
   "metadata": {},
   "source": [
    "### about.tagline should convert to a field that only shows character length"
   ]
  },
  {
   "cell_type": "code",
   "execution_count": 64,
   "metadata": {},
   "outputs": [
    {
     "data": {
      "text/plain": [
       "7        Internet c'est la vie, la vie c'est le travail\n",
       "15    Professional writer. UK based. Exceptional ski...\n",
       "18    PMP-VCP-ITIL-CISSP-C|EH-VCP-MCSA-CCNA-RHCE-Linux+\n",
       "20    Thirteen years of data entry and secretarial e...\n",
       "23                    \"All men of action are dreamers.\"\n",
       "25                                  Daty Entry Operator\n",
       "26                                        Wed developer\n",
       "36                 Computer Engineer and Web Marketing \n",
       "40    We Believe in Accuracy and Customer Satisfaction.\n",
       "42    Photographer/Videographer/Web Developer/Commun...\n",
       "Name: about.tagline, dtype: object"
      ]
     },
     "execution_count": 64,
     "metadata": {},
     "output_type": "execute_result"
    }
   ],
   "source": [
    "df7['about.tagline'][~df7['about.tagline'].isnull()].head(10)"
   ]
  },
  {
   "cell_type": "code",
   "execution_count": 67,
   "metadata": {
    "collapsed": true
   },
   "outputs": [],
   "source": [
    "df7['about.tagline'] = df7['about.tagline'].apply(lambda x: len(str(x)))"
   ]
  },
  {
   "cell_type": "code",
   "execution_count": 82,
   "metadata": {
    "collapsed": true
   },
   "outputs": [],
   "source": [
    "df7 = df7.reset_index(drop=True)"
   ]
  },
  {
   "cell_type": "markdown",
   "metadata": {},
   "source": [
    "### save file \n",
    "### this file parses the json csv, yet did not join with training csv nor do any encoding"
   ]
  },
  {
   "cell_type": "code",
   "execution_count": 83,
   "metadata": {
    "collapsed": true
   },
   "outputs": [],
   "source": [
    "df7.to_csv('./goden_full_prepared_7.csv',index=False, encoding='utf-8')"
   ]
  },
  {
   "cell_type": "code",
   "execution_count": null,
   "metadata": {
    "collapsed": true
   },
   "outputs": [],
   "source": []
  }
 ],
 "metadata": {
  "kernelspec": {
   "display_name": "Python 2",
   "language": "python",
   "name": "python2"
  },
  "language_info": {
   "codemirror_mode": {
    "name": "ipython",
    "version": 2
   },
   "file_extension": ".py",
   "mimetype": "text/x-python",
   "name": "python",
   "nbconvert_exporter": "python",
   "pygments_lexer": "ipython2",
   "version": "2.7.13"
  }
 },
 "nbformat": 4,
 "nbformat_minor": 2
}
