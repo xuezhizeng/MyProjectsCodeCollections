{
 "cells": [
  {
   "cell_type": "code",
   "execution_count": 49,
   "metadata": {
    "collapsed": true
   },
   "outputs": [],
   "source": [
    "import pandas as pd"
   ]
  },
  {
   "cell_type": "code",
   "execution_count": 96,
   "metadata": {},
   "outputs": [],
   "source": [
    "fl = pd.read_csv('./bidder.pm.csv', chunksize=1111)\n"
   ]
  },
  {
   "cell_type": "code",
   "execution_count": 97,
   "metadata": {},
   "outputs": [],
   "source": [
    "# %%time\n",
    "# df=pd.DataFrame()\n",
    "# while 1:\n",
    "#     try:\n",
    "#         df = df.append(fl.next())\n",
    "#     except Exception as e:\n",
    "#         print e\n",
    "#         print 'done'\n",
    "#         print df.shape\n",
    "#         break"
   ]
  },
  {
   "cell_type": "code",
   "execution_count": 98,
   "metadata": {
    "collapsed": true
   },
   "outputs": [],
   "source": [
    "# tp = pd.read_csv('Check1_900.csv', sep='\\t', iterator=True, chunksize=1000)\n",
    "# print tp\n",
    "# #<pandas.io.parsers.TextFileReader object at 0x00000000150E0048>\n",
    "# df = pd.concat(tp, ignore_index=True)"
   ]
  },
  {
   "cell_type": "code",
   "execution_count": 99,
   "metadata": {
    "collapsed": true
   },
   "outputs": [],
   "source": [
    "# df2 = pd.concat([chunk for chunk in df])"
   ]
  },
  {
   "cell_type": "code",
   "execution_count": 126,
   "metadata": {},
   "outputs": [
    {
     "data": {
      "text/plain": [
       "(2222, 4)"
      ]
     },
     "execution_count": 126,
     "metadata": {},
     "output_type": "execute_result"
    }
   ],
   "source": [
    "df = pd.DataFrame().append(fl.next()).append(fl.next())\n",
    "df.shape"
   ]
  },
  {
   "cell_type": "code",
   "execution_count": null,
   "metadata": {
    "collapsed": true
   },
   "outputs": [],
   "source": []
  },
  {
   "cell_type": "code",
   "execution_count": 127,
   "metadata": {},
   "outputs": [],
   "source": [
    "df.to_csv('text.csv', index=False, chunksize=100, mode='w')"
   ]
  },
  {
   "cell_type": "code",
   "execution_count": 128,
   "metadata": {},
   "outputs": [
    {
     "name": "stdout",
     "output_type": "stream",
     "text": [
      "total 1.7G\r\n",
      "-rw-rw-r-- 1 iri     iri     462M Oct 17 23:03 Text.zip\r\n",
      "-rwxr--r-- 1 soyoung soyoung 457M Oct 16 07:37 bidder.pm.csv\r\n",
      "-rwxr--r-- 1 soyoung soyoung 136M Oct 16 07:38 employer.pm.csv\r\n",
      "-rw-r--r-- 1 soyoung soyoung  53K Nov  4 18:11 explore_chuck.ipynb\r\n",
      "-rwxr--r-- 1 soyoung soyoung 652M Oct 14 08:59 project_pm.csv\r\n",
      "-rw-r--r-- 1 soyoung soyoung 5.9M Nov  4 18:11 test.csv\r\n",
      "-rw-r--r-- 1 soyoung soyoung 2.6M Nov  4 18:11 text.csv\r\n"
     ]
    }
   ],
   "source": [
    "!ls -hl"
   ]
  },
  {
   "cell_type": "code",
   "execution_count": 143,
   "metadata": {},
   "outputs": [
    {
     "data": {
      "text/plain": [
       "(2222, 4)"
      ]
     },
     "execution_count": 143,
     "metadata": {},
     "output_type": "execute_result"
    }
   ],
   "source": [
    "t = pd.read_csv('text.csv')\n",
    "t.shape"
   ]
  },
  {
   "cell_type": "code",
   "execution_count": 135,
   "metadata": {
    "collapsed": true
   },
   "outputs": [],
   "source": [
    "!rm test.csv"
   ]
  },
  {
   "cell_type": "code",
   "execution_count": 111,
   "metadata": {},
   "outputs": [
    {
     "data": {
      "text/plain": [
       "3"
      ]
     },
     "execution_count": 111,
     "metadata": {},
     "output_type": "execute_result"
    }
   ],
   "source": [
    "aaa=[]\n",
    "\n",
    "while t.shape[0]!=0:\n",
    "    tmp=t.iloc[:1000,:]\n",
    "    t=t.iloc[1000:,:]\n",
    "    aaa.append(tmp)\n",
    "len(aaa)    "
   ]
  },
  {
   "cell_type": "code",
   "execution_count": 136,
   "metadata": {
    "collapsed": true
   },
   "outputs": [],
   "source": [
    "flag=True\n",
    "while t.shape[0]!=0:\n",
    "    tmp=t.iloc[:1000,:]\n",
    "    t=t.iloc[1000:,:]\n",
    "    if flag:\n",
    "        tmp.to_csv('test.csv', index=False, mode='a')\n",
    "        flag=False\n",
    "    else:\n",
    "        tmp.to_csv('test.csv', index=False,header=None, mode='a')"
   ]
  },
  {
   "cell_type": "code",
   "execution_count": null,
   "metadata": {
    "collapsed": true
   },
   "outputs": [],
   "source": []
  },
  {
   "cell_type": "code",
   "execution_count": 137,
   "metadata": {},
   "outputs": [
    {
     "data": {
      "text/plain": [
       "(2222, 4)"
      ]
     },
     "execution_count": 137,
     "metadata": {},
     "output_type": "execute_result"
    }
   ],
   "source": [
    "ttt = pd.read_csv('test.csv')\n",
    "ttt.shape"
   ]
  },
  {
   "cell_type": "code",
   "execution_count": 144,
   "metadata": {},
   "outputs": [
    {
     "data": {
      "text/plain": [
       "True"
      ]
     },
     "execution_count": 144,
     "metadata": {},
     "output_type": "execute_result"
    }
   ],
   "source": [
    "t.equals(ttt)"
   ]
  },
  {
   "cell_type": "code",
   "execution_count": null,
   "metadata": {
    "collapsed": true
   },
   "outputs": [],
   "source": []
  }
 ],
 "metadata": {
  "kernelspec": {
   "display_name": "Python 2",
   "language": "python",
   "name": "python2"
  },
  "language_info": {
   "codemirror_mode": {
    "name": "ipython",
    "version": 2
   },
   "file_extension": ".py",
   "mimetype": "text/x-python",
   "name": "python",
   "nbconvert_exporter": "python",
   "pygments_lexer": "ipython2",
   "version": "2.7.13"
  }
 },
 "nbformat": 4,
 "nbformat_minor": 2
}
