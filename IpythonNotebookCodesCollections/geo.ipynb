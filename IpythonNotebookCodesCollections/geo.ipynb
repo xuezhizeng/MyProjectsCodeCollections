{
 "cells": [
  {
   "cell_type": "code",
   "execution_count": 3,
   "metadata": {
    "collapsed": true
   },
   "outputs": [],
   "source": [
    "# !pip install pygeocoder "
   ]
  },
  {
   "cell_type": "code",
   "execution_count": 10,
   "metadata": {
    "collapsed": true
   },
   "outputs": [],
   "source": [
    "from pygeocoder import Geocoder\n",
    "import pandas as pd\n",
    "pd.options.display.max_columns=100"
   ]
  },
  {
   "cell_type": "code",
   "execution_count": 11,
   "metadata": {},
   "outputs": [
    {
     "data": {
      "text/plain": [
       "(1163605, 36)"
      ]
     },
     "execution_count": 11,
     "metadata": {},
     "output_type": "execute_result"
    }
   ],
   "source": [
    "df=pd.read_csv('mod_traffic.csv',low_memory=False)\n",
    "df.shape"
   ]
  },
  {
   "cell_type": "code",
   "execution_count": 14,
   "metadata": {},
   "outputs": [
    {
     "data": {
      "text/html": [
       "<div>\n",
       "<style>\n",
       "    .dataframe thead tr:only-child th {\n",
       "        text-align: right;\n",
       "    }\n",
       "\n",
       "    .dataframe thead th {\n",
       "        text-align: left;\n",
       "    }\n",
       "\n",
       "    .dataframe tbody tr th {\n",
       "        vertical-align: top;\n",
       "    }\n",
       "</style>\n",
       "<table border=\"1\" class=\"dataframe\">\n",
       "  <thead>\n",
       "    <tr style=\"text-align: right;\">\n",
       "      <th></th>\n",
       "      <th>Agency</th>\n",
       "      <th>SubAgency</th>\n",
       "      <th>Description</th>\n",
       "      <th>Location</th>\n",
       "      <th>Latitude</th>\n",
       "      <th>Longitude</th>\n",
       "      <th>Accident</th>\n",
       "      <th>Belts</th>\n",
       "      <th>Personal Injury</th>\n",
       "      <th>Property Damage</th>\n",
       "      <th>Fatal</th>\n",
       "      <th>Commercial License</th>\n",
       "      <th>HAZMAT</th>\n",
       "      <th>Commercial Vehicle</th>\n",
       "      <th>Alcohol</th>\n",
       "      <th>Work Zone</th>\n",
       "      <th>State</th>\n",
       "      <th>VehicleType</th>\n",
       "      <th>Year</th>\n",
       "      <th>Make</th>\n",
       "      <th>Model</th>\n",
       "      <th>Color</th>\n",
       "      <th>Violation Type</th>\n",
       "      <th>Charge</th>\n",
       "      <th>Article</th>\n",
       "      <th>Contributed To Accident</th>\n",
       "      <th>Race</th>\n",
       "      <th>Gender</th>\n",
       "      <th>Driver City</th>\n",
       "      <th>Driver State</th>\n",
       "      <th>DL State</th>\n",
       "      <th>Arrest Type</th>\n",
       "      <th>Geolocation</th>\n",
       "      <th>stop time</th>\n",
       "      <th>Mod_SubAgency</th>\n",
       "      <th>Mod_Location</th>\n",
       "    </tr>\n",
       "  </thead>\n",
       "  <tbody>\n",
       "    <tr>\n",
       "      <th>0</th>\n",
       "      <td>MCP</td>\n",
       "      <td>3rd district, Silver Spring</td>\n",
       "      <td>DRIVING VEHICLE ON HIGHWAY WITH SUSPENDED REGI...</td>\n",
       "      <td>8804 FLOWER AVE</td>\n",
       "      <td>NaN</td>\n",
       "      <td>NaN</td>\n",
       "      <td>No</td>\n",
       "      <td>No</td>\n",
       "      <td>No</td>\n",
       "      <td>No</td>\n",
       "      <td>No</td>\n",
       "      <td>No</td>\n",
       "      <td>No</td>\n",
       "      <td>No</td>\n",
       "      <td>No</td>\n",
       "      <td>No</td>\n",
       "      <td>MD</td>\n",
       "      <td>02 - Automobile</td>\n",
       "      <td>2008.0</td>\n",
       "      <td>FORD</td>\n",
       "      <td>4S</td>\n",
       "      <td>BLACK</td>\n",
       "      <td>Citation</td>\n",
       "      <td>13-401(h)</td>\n",
       "      <td>Transportation Article</td>\n",
       "      <td>No</td>\n",
       "      <td>BLACK</td>\n",
       "      <td>M</td>\n",
       "      <td>TAKOMA PARK</td>\n",
       "      <td>MD</td>\n",
       "      <td>MD</td>\n",
       "      <td>A - Marked Patrol</td>\n",
       "      <td>NaN</td>\n",
       "      <td>09/24/2013 17:11:00</td>\n",
       "      <td>Silver Spring</td>\n",
       "      <td>8804 FLOWER AVE</td>\n",
       "    </tr>\n",
       "    <tr>\n",
       "      <th>1</th>\n",
       "      <td>MCP</td>\n",
       "      <td>2nd district, Bethesda</td>\n",
       "      <td>DRIVER FAILURE TO OBEY PROPERLY PLACED TRAFFIC...</td>\n",
       "      <td>WISCONSIN AVE@ ELM ST</td>\n",
       "      <td>38.981725</td>\n",
       "      <td>-77.092757</td>\n",
       "      <td>No</td>\n",
       "      <td>No</td>\n",
       "      <td>No</td>\n",
       "      <td>No</td>\n",
       "      <td>No</td>\n",
       "      <td>No</td>\n",
       "      <td>No</td>\n",
       "      <td>No</td>\n",
       "      <td>No</td>\n",
       "      <td>No</td>\n",
       "      <td>VA</td>\n",
       "      <td>02 - Automobile</td>\n",
       "      <td>2001.0</td>\n",
       "      <td>TOYOTA</td>\n",
       "      <td>COROLLA</td>\n",
       "      <td>GREEN</td>\n",
       "      <td>Citation</td>\n",
       "      <td>21-201(a1)</td>\n",
       "      <td>Transportation Article</td>\n",
       "      <td>No</td>\n",
       "      <td>WHITE</td>\n",
       "      <td>F</td>\n",
       "      <td>FAIRFAX STATION</td>\n",
       "      <td>VA</td>\n",
       "      <td>VA</td>\n",
       "      <td>A - Marked Patrol</td>\n",
       "      <td>(38.981725, -77.0927566666667)</td>\n",
       "      <td>08/29/2017 10:19:00</td>\n",
       "      <td>Bethesda</td>\n",
       "      <td>WISCONSIN AVE@ ELM ST</td>\n",
       "    </tr>\n",
       "  </tbody>\n",
       "</table>\n",
       "</div>"
      ],
      "text/plain": [
       "  Agency                    SubAgency  \\\n",
       "0    MCP  3rd district, Silver Spring   \n",
       "1    MCP       2nd district, Bethesda   \n",
       "\n",
       "                                         Description               Location  \\\n",
       "0  DRIVING VEHICLE ON HIGHWAY WITH SUSPENDED REGI...        8804 FLOWER AVE   \n",
       "1  DRIVER FAILURE TO OBEY PROPERLY PLACED TRAFFIC...  WISCONSIN AVE@ ELM ST   \n",
       "\n",
       "    Latitude  Longitude Accident Belts Personal Injury Property Damage Fatal  \\\n",
       "0        NaN        NaN       No    No              No              No    No   \n",
       "1  38.981725 -77.092757       No    No              No              No    No   \n",
       "\n",
       "  Commercial License HAZMAT Commercial Vehicle Alcohol Work Zone State  \\\n",
       "0                 No     No                 No      No        No    MD   \n",
       "1                 No     No                 No      No        No    VA   \n",
       "\n",
       "       VehicleType    Year    Make    Model  Color Violation Type      Charge  \\\n",
       "0  02 - Automobile  2008.0    FORD       4S  BLACK       Citation   13-401(h)   \n",
       "1  02 - Automobile  2001.0  TOYOTA  COROLLA  GREEN       Citation  21-201(a1)   \n",
       "\n",
       "                  Article Contributed To Accident   Race Gender  \\\n",
       "0  Transportation Article                      No  BLACK      M   \n",
       "1  Transportation Article                      No  WHITE      F   \n",
       "\n",
       "       Driver City Driver State DL State        Arrest Type  \\\n",
       "0      TAKOMA PARK           MD       MD  A - Marked Patrol   \n",
       "1  FAIRFAX STATION           VA       VA  A - Marked Patrol   \n",
       "\n",
       "                      Geolocation            stop time   Mod_SubAgency  \\\n",
       "0                             NaN  09/24/2013 17:11:00   Silver Spring   \n",
       "1  (38.981725, -77.0927566666667)  08/29/2017 10:19:00        Bethesda   \n",
       "\n",
       "            Mod_Location  \n",
       "0        8804 FLOWER AVE  \n",
       "1  WISCONSIN AVE@ ELM ST  "
      ]
     },
     "execution_count": 14,
     "metadata": {},
     "output_type": "execute_result"
    }
   ],
   "source": [
    "df.head(2)"
   ]
  },
  {
   "cell_type": "code",
   "execution_count": 16,
   "metadata": {},
   "outputs": [
    {
     "name": "stdout",
     "output_type": "stream",
     "text": [
      "['__abstractmethods__', '__class__', '__delattr__', '__dict__', '__doc__', '__format__', '__getattr__', '__getattribute__', '__getitem__', '__hash__', '__init__', '__iter__', '__len__', '__metaclass__', '__module__', '__new__', '__reduce__', '__reduce_ex__', '__repr__', '__setattr__', '__sizeof__', '__str__', '__subclasshook__', '__unicode__', '__weakref__', '_abc_cache', '_abc_negative_cache', '_abc_negative_cache_version', '_abc_registry', 'attribute_mapping', 'coordinates', 'count', 'current_data', 'current_index', 'data', 'formatted_address', 'latitude', 'len', 'location_type', 'longitude', 'next', 'raw', 'return_next', 'valid_address']\n"
     ]
    }
   ],
   "source": [
    "r = Geocoder.reverse_geocode(df['Latitude'][1], df['Longitude'][1])\n",
    "print dir(r)"
   ]
  },
  {
   "cell_type": "code",
   "execution_count": 46,
   "metadata": {},
   "outputs": [
    {
     "data": {
      "text/plain": [
       "20814"
      ]
     },
     "execution_count": 46,
     "metadata": {},
     "output_type": "execute_result"
    }
   ],
   "source": [
    "int(r.current_data['address_components'][-1]['long_name'])"
   ]
  },
  {
   "cell_type": "code",
   "execution_count": 51,
   "metadata": {},
   "outputs": [
    {
     "ename": "GeocoderError",
     "evalue": "Error OVER_QUERY_LIMIT\nQuery: https://maps.google.com/maps/api/geocode/json?region=&latlng=38.981725%2C-77.092757&sensor=false&bounds=&language=",
     "output_type": "error",
     "traceback": [
      "\u001b[0;31m\u001b[0m",
      "\u001b[0;31mGeocoderError\u001b[0mTraceback (most recent call last)",
      "\u001b[0;32m<ipython-input-51-a095ebdc826f>\u001b[0m in \u001b[0;36m<module>\u001b[0;34m()\u001b[0m\n\u001b[0;32m----> 1\u001b[0;31m \u001b[0mk\u001b[0m\u001b[0;34m=\u001b[0m\u001b[0mGeocoder\u001b[0m\u001b[0;34m.\u001b[0m\u001b[0mreverse_geocode\u001b[0m\u001b[0;34m(\u001b[0m\u001b[0mdf\u001b[0m\u001b[0;34m[\u001b[0m\u001b[0;34m'Latitude'\u001b[0m\u001b[0;34m]\u001b[0m\u001b[0;34m[\u001b[0m\u001b[0;36m1\u001b[0m\u001b[0;34m]\u001b[0m\u001b[0;34m,\u001b[0m \u001b[0mdf\u001b[0m\u001b[0;34m[\u001b[0m\u001b[0;34m'Longitude'\u001b[0m\u001b[0;34m]\u001b[0m\u001b[0;34m[\u001b[0m\u001b[0;36m1\u001b[0m\u001b[0;34m]\u001b[0m\u001b[0;34m)\u001b[0m\u001b[0;34m\u001b[0m\u001b[0m\n\u001b[0m",
      "\u001b[0;32m/home/saya/anaconda2/lib/python2.7/site-packages/pygeocoder.pyc\u001b[0m in \u001b[0;36mreverse_geocode\u001b[0;34m(self, lat, lng, sensor, bounds, region, language)\u001b[0m\n\u001b[1;32m    163\u001b[0m             \u001b[0;32mreturn\u001b[0m \u001b[0mGeocoderResult\u001b[0m\u001b[0;34m(\u001b[0m\u001b[0mself\u001b[0m\u001b[0;34m.\u001b[0m\u001b[0mget_data\u001b[0m\u001b[0;34m(\u001b[0m\u001b[0mparams\u001b[0m\u001b[0;34m=\u001b[0m\u001b[0mparams\u001b[0m\u001b[0;34m)\u001b[0m\u001b[0;34m)\u001b[0m\u001b[0;34m\u001b[0m\u001b[0m\n\u001b[1;32m    164\u001b[0m         \u001b[0;32melse\u001b[0m\u001b[0;34m:\u001b[0m\u001b[0;34m\u001b[0m\u001b[0m\n\u001b[0;32m--> 165\u001b[0;31m             \u001b[0;32mreturn\u001b[0m \u001b[0mGeocoderResult\u001b[0m\u001b[0;34m(\u001b[0m\u001b[0mGeocoder\u001b[0m\u001b[0;34m.\u001b[0m\u001b[0mget_data\u001b[0m\u001b[0;34m(\u001b[0m\u001b[0mparams\u001b[0m\u001b[0;34m=\u001b[0m\u001b[0mparams\u001b[0m\u001b[0;34m)\u001b[0m\u001b[0;34m)\u001b[0m\u001b[0;34m\u001b[0m\u001b[0m\n\u001b[0m\u001b[1;32m    166\u001b[0m \u001b[0;34m\u001b[0m\u001b[0m\n\u001b[1;32m    167\u001b[0m     \u001b[0;32mdef\u001b[0m \u001b[0mset_proxy\u001b[0m\u001b[0;34m(\u001b[0m\u001b[0mself\u001b[0m\u001b[0;34m,\u001b[0m \u001b[0mproxy\u001b[0m\u001b[0;34m)\u001b[0m\u001b[0;34m:\u001b[0m\u001b[0;34m\u001b[0m\u001b[0m\n",
      "\u001b[0;32m/home/saya/anaconda2/lib/python2.7/site-packages/pygeocoder.pyc\u001b[0m in \u001b[0;36mget_data\u001b[0;34m(self, params)\u001b[0m\n\u001b[1;32m    210\u001b[0m \u001b[0;34m\u001b[0m\u001b[0m\n\u001b[1;32m    211\u001b[0m         \u001b[0;32mif\u001b[0m \u001b[0mresponse_json\u001b[0m\u001b[0;34m[\u001b[0m\u001b[0;34m'status'\u001b[0m\u001b[0;34m]\u001b[0m \u001b[0;34m!=\u001b[0m \u001b[0mGeocoderError\u001b[0m\u001b[0;34m.\u001b[0m\u001b[0mG_GEO_OK\u001b[0m\u001b[0;34m:\u001b[0m\u001b[0;34m\u001b[0m\u001b[0m\n\u001b[0;32m--> 212\u001b[0;31m             \u001b[0;32mraise\u001b[0m \u001b[0mGeocoderError\u001b[0m\u001b[0;34m(\u001b[0m\u001b[0mresponse_json\u001b[0m\u001b[0;34m[\u001b[0m\u001b[0;34m'status'\u001b[0m\u001b[0;34m]\u001b[0m\u001b[0;34m,\u001b[0m \u001b[0mresponse\u001b[0m\u001b[0;34m.\u001b[0m\u001b[0murl\u001b[0m\u001b[0;34m)\u001b[0m\u001b[0;34m\u001b[0m\u001b[0m\n\u001b[0m\u001b[1;32m    213\u001b[0m         \u001b[0;32mreturn\u001b[0m \u001b[0mresponse_json\u001b[0m\u001b[0;34m[\u001b[0m\u001b[0;34m'results'\u001b[0m\u001b[0;34m]\u001b[0m\u001b[0;34m\u001b[0m\u001b[0m\n\u001b[1;32m    214\u001b[0m \u001b[0;34m\u001b[0m\u001b[0m\n",
      "\u001b[0;31mGeocoderError\u001b[0m: Error OVER_QUERY_LIMIT\nQuery: https://maps.google.com/maps/api/geocode/json?region=&latlng=38.981725%2C-77.092757&sensor=false&bounds=&language="
     ]
    }
   ],
   "source": [
    "k=Geocoder.reverse_geocode(df['Latitude'][1], df['Longitude'][1])"
   ]
  },
  {
   "cell_type": "code",
   "execution_count": null,
   "metadata": {
    "collapsed": true
   },
   "outputs": [],
   "source": []
  }
 ],
 "metadata": {
  "kernelspec": {
   "display_name": "Python 2",
   "language": "python",
   "name": "python2"
  },
  "language_info": {
   "codemirror_mode": {
    "name": "ipython",
    "version": 2
   },
   "file_extension": ".py",
   "mimetype": "text/x-python",
   "name": "python",
   "nbconvert_exporter": "python",
   "pygments_lexer": "ipython2",
   "version": "2.7.13"
  }
 },
 "nbformat": 4,
 "nbformat_minor": 2
}
