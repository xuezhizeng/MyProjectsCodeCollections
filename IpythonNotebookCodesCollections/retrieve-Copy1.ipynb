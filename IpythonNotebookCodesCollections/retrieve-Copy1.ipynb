{
 "cells": [
  {
   "cell_type": "code",
   "execution_count": 36,
   "metadata": {},
   "outputs": [
    {
     "name": "stdout",
     "output_type": "stream",
     "text": [
      "11.2.0.2.0\n",
      "ORA-00955: name is already used by an existing object\n"
     ]
    }
   ],
   "source": [
    "import concurrent.futures\n",
    "\n",
    "import requests\n",
    "from lxml import etree\n",
    "from time import time, ctime\n",
    "\n",
    "import pandas as pd\n",
    "import cx_Oracle\n",
    "\n",
    "\n",
    "\n",
    "db=cx_Oracle.connect(\"soyoung\", \"soyoung\", \"my.uconn.science:1521/xe\")\n",
    "print db.version\n",
    "conn=db.cursor()\n",
    "\n",
    "try:\n",
    "    conn.execute(\"create table new \\\n",
    "             (ID int not null, urls varchar2(4000), get_time varchar2(50), ellipse number,\\\n",
    "             constraint new_pk primary key (ID))\")\n",
    "    db.commit()\n",
    "except Exception as e:\n",
    "    print e\n",
    "def single((ID, url)):\n",
    "    start=time()\n",
    "    content=etree.HTML(requests.get(url, timeout=60).text).xpath('//div[@class=\"c\"]//*[@title]/@src')\n",
    "    save.append([ID, content, ctime()[4:]])\n"
   ]
  },
  {
   "cell_type": "code",
   "execution_count": 24,
   "metadata": {},
   "outputs": [
    {
     "name": "stdout",
     "output_type": "stream",
     "text": [
      "(210467, 10)\n"
     ]
    },
    {
     "data": {
      "text/plain": [
       "210467"
      ]
     },
     "execution_count": 24,
     "metadata": {},
     "output_type": "execute_result"
    }
   ],
   "source": [
    "df=pd.read_csv('post_url.csv')\n",
    "print df.shape\n",
    "\n",
    "urls = zip(df['id'], df['post_url'])\n",
    "len(urls)"
   ]
  },
  {
   "cell_type": "code",
   "execution_count": 9,
   "metadata": {},
   "outputs": [
    {
     "data": {
      "text/plain": [
       "[(607943, 'http://www.soyoung.com/p4451361'),\n",
       " (607944, 'http://www.soyoung.com/p4384234'),\n",
       " (607945, 'http://www.soyoung.com/p4077800')]"
      ]
     },
     "execution_count": 9,
     "metadata": {},
     "output_type": "execute_result"
    }
   ],
   "source": [
    "sub=urls[100:120]\n",
    "sub[:3]"
   ]
  },
  {
   "cell_type": "code",
   "execution_count": 35,
   "metadata": {
    "collapsed": true
   },
   "outputs": [],
   "source": [
    "db.commit()"
   ]
  },
  {
   "cell_type": "code",
   "execution_count": 26,
   "metadata": {
    "collapsed": true
   },
   "outputs": [],
   "source": [
    "\n",
    "# save=[]\n",
    "# with concurrent.futures.ThreadPoolExecutor(max_workers=8) as executor:\n",
    "#     executor.map(single, sub)\n",
    "    \n",
    "for i in save:\n",
    "    \n",
    "    conn.execute(\"insert into new (ID, urls, get_time) \\\n",
    "    values ({},'{}','{}')\".format(i[0], ','.join(i[1]), i[2]))\n",
    "\n",
    "db.commit()"
   ]
  },
  {
   "cell_type": "code",
   "execution_count": null,
   "metadata": {
    "collapsed": true
   },
   "outputs": [],
   "source": []
  },
  {
   "cell_type": "code",
   "execution_count": 28,
   "metadata": {},
   "outputs": [
    {
     "data": {
      "text/plain": [
       "20"
      ]
     },
     "execution_count": 28,
     "metadata": {},
     "output_type": "execute_result"
    }
   ],
   "source": [
    "conn.execute('select urls from new')\n",
    "a=conn.fetchall()\n",
    "len(a)"
   ]
  },
  {
   "cell_type": "code",
   "execution_count": 32,
   "metadata": {},
   "outputs": [
    {
     "data": {
      "text/plain": [
       "[('http://img2.soyoung.com/tieba/android/20170607/3/20170607220219155_570.jpg,http://img2.soyoung.com/tieba/android/20170607/9/20170607220222165_570.jpg,http://img2.soyoung.com/tieba/android/20170607/3/20170607220226304_570.jpg,http://img2.soyoung.com/tieba/android/20170607/1/20170607220231478_570.jpg,http://img2.soyoung.com/tieba/android/20170607/4/20170607220233723_570.jpg,http://img2.soyoung.com/tieba/android/20170607/0/20170607220242406_570.jpg,http://img2.soyoung.com/tieba/android/20170607/5/20170607220246761_570.jpg,http://img2.soyoung.com/tieba/android/20170607/8/20170607220249953_570.jpg',),\n",
       " ('http://img2.soyoung.com/tieba/ios/20151010/2/20151010074658433_570.jpg',),\n",
       " ('http://img2.soyoung.com/tieba/web/20150829/7/20150829204923824_570.png,http://img2.soyoung.com/tieba/web/20150829/6/20150829210354692_570.jpg,http://img2.soyoung.com/tieba/web/20150829/3/20150829210420717_570.jpg,http://img2.soyoung.com/tieba/web/20150829/1/20150829210451355_570.jpg,http://img2.soyoung.com/tieba/web/20150829/5/20150829210643662_570.jpg,http://img2.soyoung.com/tieba/web/20150829/0/20150829210702623_570.jpg,http://img2.soyoung.com/tieba/web/20150829/7/20150829210718398_570.jpg,http://img2.soyoung.com/tieba/web/20150829/7/20150829212535108_570.jpg,http://img2.soyoung.com/tieba/web/20150829/2/20150829212602777_570.jpg,http://img2.soyoung.com/tieba/web/20150829/1/20150829213049482_570.jpg,http://img2.soyoung.com/tieba/web/20150829/7/20150829213200494_570.jpg,http://img2.soyoung.com/tieba/web/20150829/4/20150829213854313_570.jpg',),\n",
       " ('http://img2.soyoung.com/tieba/ios/20151105/4/20151105173451400_570.jpg,http://img2.soyoung.com/tieba/ios/20151105/8/20151105173451136_570.jpg,http://img2.soyoung.com/tieba/ios/20151105/7/20151105173452924_570.jpg',),\n",
       " ('http://img2.soyoung.com/tieba/android/20170620/2/20170620183820912_570.jpg,http://img2.soyoung.com/tieba/android/20170620/8/20170620183832210_570.jpg,http://img2.soyoung.com/tieba/android/20170620/8/20170620183829517_570.jpg,http://img2.soyoung.com/tieba/android/20170620/1/20170620183837709_570.jpg,http://img2.soyoung.com/tieba/android/20170620/1/20170620183837856_570.jpg,http://img2.soyoung.com/tieba/android/20170620/9/20170620183840814_570.jpg,http://img2.soyoung.com/tieba/android/20170620/0/20170620183844305_570.jpg,http://img2.soyoung.com/tieba/android/20170620/8/20170620183842278_570.jpg',),\n",
       " ('http://img2.soyoung.com/tieba/ios/20150922/5/20150922114226695_570.jpg,http://img2.soyoung.com/tieba/ios/20150922/3/20150922114226438_570.jpg,http://img2.soyoung.com/tieba/ios/20150922/1/20150922114227788_570.jpg',),\n",
       " ('http://img2.soyoung.com/tieba/ios/20151031/4/20151031235950271_570.jpg,http://img2.soyoung.com/tieba/ios/20151031/1/20151031235950958_570.jpg,http://img2.soyoung.com/tieba/ios/20151031/2/20151031235951622_570.jpg',),\n",
       " ('http://img2.soyoung.com/tieba/android/20170503/8/20170503183942723_570.jpg,http://img2.soyoung.com/tieba/android/20170503/0/20170503183943586_570.jpg',),\n",
       " ('http://img2.soyoung.com/tieba/ios/20150907/7/20150907195600764_570.jpg,http://img2.soyoung.com/tieba/ios/20150907/9/20150907195600735_570.jpg,http://img2.soyoung.com/tieba/ios/20150907/5/20150907195601266_570.jpg',),\n",
       " ('http://img2.soyoung.com/tieba/android/20170430/4/20170430082153383_570.jpg,http://img2.soyoung.com/tieba/android/20170430/0/20170430082153563_570.jpg,http://img2.soyoung.com/tieba/android/20170430/9/20170430082154302_570.jpg,http://img2.soyoung.com/tieba/android/20170430/4/20170430082155838_570.jpg',),\n",
       " ('http://img2.soyoung.com/tieba/ios/20170415/8/20170415173239726_570.jpg',),\n",
       " ('http://img2.soyoung.com/tieba/android/20170606/5/20170606134344886_570.jpg,http://img2.soyoung.com/tieba/android/20170606/9/20170606134341862_570.jpg,http://img2.soyoung.com/tieba/android/20170606/2/20170606134344947_570.jpg,http://img2.soyoung.com/tieba/android/20170606/4/20170606134345588_570.jpg,http://img2.soyoung.com/tieba/android/20170606/5/20170606134347592_570.jpg,http://img2.soyoung.com/tieba/android/20170606/8/20170606134348235_570.jpg',),\n",
       " ('http://img2.soyoung.com/tieba/ios/20170411/9/20170411131653177_570.jpg',),\n",
       " ('http://img2.soyoung.com/tieba/android/20161122/8/20161122105303536_570.jpg',),\n",
       " ('http://img2.soyoung.com/tieba/ios/20170526/1/20170526120723761_570.jpg,http://img2.soyoung.com/tieba/ios/20170526/6/20170526120723681_570.jpg,http://img2.soyoung.com/tieba/ios/20170526/5/20170526120723492_570.jpg,http://img2.soyoung.com/tieba/ios/20170526/8/20170526120724858_570.jpg',),\n",
       " ('http://img2.soyoung.com/tieba/ios/20170531/1/20170531111922408_570.jpg',),\n",
       " ('http://img2.soyoung.com/tieba/ios/20170524/3/20170524172336371_570.jpg',),\n",
       " ('http://img2.soyoung.com/tieba/android/20161123/4/20161123065939699_570.jpg,http://img2.soyoung.com/tieba/android/20161123/3/20161123065940896_570.jpg',),\n",
       " ('http://img2.soyoung.com/tieba/ios/20170524/1/20170524184407399_570.jpg,http://img2.soyoung.com/tieba/ios/20170524/1/20170524184408440_570.jpg,http://img2.soyoung.com/tieba/ios/20170524/0/20170524184407848_570.jpg,http://img2.soyoung.com/tieba/ios/20170524/4/20170524184407721_570.jpg',),\n",
       " ('http://img2.soyoung.com/tieba/ios/20170523/7/20170523164954746_570.jpg,http://img2.soyoung.com/tieba/ios/20170523/6/20170523164954785_570.jpg,http://img2.soyoung.com/tieba/ios/20170523/7/20170523164955821_570.jpg,http://img2.soyoung.com/tieba/ios/20170523/3/20170523164957357_570.jpg',)]"
      ]
     },
     "execution_count": 32,
     "metadata": {},
     "output_type": "execute_result"
    }
   ],
   "source": [
    "a"
   ]
  },
  {
   "cell_type": "code",
   "execution_count": null,
   "metadata": {
    "collapsed": true
   },
   "outputs": [],
   "source": []
  }
 ],
 "metadata": {
  "kernelspec": {
   "display_name": "Python 2",
   "language": "python",
   "name": "python2"
  },
  "language_info": {
   "codemirror_mode": {
    "name": "ipython",
    "version": 2
   },
   "file_extension": ".py",
   "mimetype": "text/x-python",
   "name": "python",
   "nbconvert_exporter": "python",
   "pygments_lexer": "ipython2",
   "version": "2.7.13"
  }
 },
 "nbformat": 4,
 "nbformat_minor": 2
}
