{
 "cells": [
  {
   "cell_type": "code",
   "execution_count": 11,
   "metadata": {
    "collapsed": true
   },
   "outputs": [],
   "source": [
    "import pandas as pd\n",
    "import os\n",
    "import shutil\n"
   ]
  },
  {
   "cell_type": "code",
   "execution_count": 13,
   "metadata": {},
   "outputs": [
    {
     "data": {
      "text/plain": [
       "((115174, 129), (90542, 129), (3805, 129))"
      ]
     },
     "execution_count": 13,
     "metadata": {},
     "output_type": "execute_result"
    }
   ],
   "source": [
    "batch1 = pd.read_csv('new_batch_1.csv') \n",
    "batch2 = pd.read_csv('new_batch_2.csv')\n",
    "taobao = pd.read_csv('new_taobao.csv')\n",
    "batch1.shape, batch2.shape, taobao.shape"
   ]
  },
  {
   "cell_type": "code",
   "execution_count": 14,
   "metadata": {},
   "outputs": [
    {
     "data": {
      "text/plain": [
       "(209521, 129)"
      ]
     },
     "execution_count": 14,
     "metadata": {},
     "output_type": "execute_result"
    }
   ],
   "source": [
    "df = batch1.append(batch2).append(taobao)\n",
    "df.shape"
   ]
  },
  {
   "cell_type": "code",
   "execution_count": 17,
   "metadata": {},
   "outputs": [
    {
     "data": {
      "text/plain": [
       "(209521, 129)"
      ]
     },
     "execution_count": 17,
     "metadata": {},
     "output_type": "execute_result"
    }
   ],
   "source": [
    "df = df.reset_index(drop=True)\n",
    "df.shape"
   ]
  },
  {
   "cell_type": "code",
   "execution_count": 18,
   "metadata": {},
   "outputs": [
    {
     "data": {
      "text/html": [
       "<div>\n",
       "<style>\n",
       "    .dataframe thead tr:only-child th {\n",
       "        text-align: right;\n",
       "    }\n",
       "\n",
       "    .dataframe thead th {\n",
       "        text-align: left;\n",
       "    }\n",
       "\n",
       "    .dataframe tbody tr th {\n",
       "        vertical-align: top;\n",
       "    }\n",
       "</style>\n",
       "<table border=\"1\" class=\"dataframe\">\n",
       "  <thead>\n",
       "    <tr style=\"text-align: right;\">\n",
       "      <th></th>\n",
       "      <th>0</th>\n",
       "      <th>1</th>\n",
       "      <th>2</th>\n",
       "      <th>3</th>\n",
       "      <th>4</th>\n",
       "      <th>5</th>\n",
       "      <th>6</th>\n",
       "      <th>7</th>\n",
       "      <th>8</th>\n",
       "      <th>9</th>\n",
       "      <th>...</th>\n",
       "      <th>119</th>\n",
       "      <th>120</th>\n",
       "      <th>121</th>\n",
       "      <th>122</th>\n",
       "      <th>123</th>\n",
       "      <th>124</th>\n",
       "      <th>125</th>\n",
       "      <th>126</th>\n",
       "      <th>127</th>\n",
       "      <th>name</th>\n",
       "    </tr>\n",
       "  </thead>\n",
       "  <tbody>\n",
       "    <tr>\n",
       "      <th>209516</th>\n",
       "      <td>0.048079</td>\n",
       "      <td>-0.005735</td>\n",
       "      <td>0.032212</td>\n",
       "      <td>0.108099</td>\n",
       "      <td>-0.034226</td>\n",
       "      <td>0.037377</td>\n",
       "      <td>0.059349</td>\n",
       "      <td>0.087101</td>\n",
       "      <td>0.150105</td>\n",
       "      <td>-0.095889</td>\n",
       "      <td>...</td>\n",
       "      <td>0.155191</td>\n",
       "      <td>-0.071256</td>\n",
       "      <td>0.009989</td>\n",
       "      <td>-0.143778</td>\n",
       "      <td>0.178605</td>\n",
       "      <td>-0.003081</td>\n",
       "      <td>0.003301</td>\n",
       "      <td>0.086064</td>\n",
       "      <td>0.028129</td>\n",
       "      <td>east1/(455).jpg</td>\n",
       "    </tr>\n",
       "    <tr>\n",
       "      <th>209517</th>\n",
       "      <td>0.036722</td>\n",
       "      <td>0.102138</td>\n",
       "      <td>-0.004209</td>\n",
       "      <td>0.140337</td>\n",
       "      <td>-0.059118</td>\n",
       "      <td>0.030608</td>\n",
       "      <td>-0.010955</td>\n",
       "      <td>0.045253</td>\n",
       "      <td>0.105136</td>\n",
       "      <td>0.031112</td>\n",
       "      <td>...</td>\n",
       "      <td>0.066564</td>\n",
       "      <td>-0.015882</td>\n",
       "      <td>0.052320</td>\n",
       "      <td>-0.101862</td>\n",
       "      <td>0.182439</td>\n",
       "      <td>0.160878</td>\n",
       "      <td>-0.070499</td>\n",
       "      <td>0.112281</td>\n",
       "      <td>0.075241</td>\n",
       "      <td>east1/(162).jpg</td>\n",
       "    </tr>\n",
       "    <tr>\n",
       "      <th>209518</th>\n",
       "      <td>-0.040984</td>\n",
       "      <td>0.214801</td>\n",
       "      <td>-0.011364</td>\n",
       "      <td>0.080878</td>\n",
       "      <td>-0.045407</td>\n",
       "      <td>0.056833</td>\n",
       "      <td>-0.051260</td>\n",
       "      <td>0.029586</td>\n",
       "      <td>0.126758</td>\n",
       "      <td>0.122906</td>\n",
       "      <td>...</td>\n",
       "      <td>0.065558</td>\n",
       "      <td>0.033576</td>\n",
       "      <td>0.080878</td>\n",
       "      <td>-0.057504</td>\n",
       "      <td>0.135926</td>\n",
       "      <td>0.162637</td>\n",
       "      <td>-0.080175</td>\n",
       "      <td>0.087601</td>\n",
       "      <td>0.090195</td>\n",
       "      <td>east1/(675).jpg</td>\n",
       "    </tr>\n",
       "    <tr>\n",
       "      <th>209519</th>\n",
       "      <td>0.031182</td>\n",
       "      <td>0.099060</td>\n",
       "      <td>0.016765</td>\n",
       "      <td>0.127419</td>\n",
       "      <td>-0.007815</td>\n",
       "      <td>0.043578</td>\n",
       "      <td>0.002895</td>\n",
       "      <td>0.058311</td>\n",
       "      <td>0.084792</td>\n",
       "      <td>-0.024607</td>\n",
       "      <td>...</td>\n",
       "      <td>0.076707</td>\n",
       "      <td>-0.023888</td>\n",
       "      <td>0.095798</td>\n",
       "      <td>-0.118035</td>\n",
       "      <td>0.209204</td>\n",
       "      <td>0.173771</td>\n",
       "      <td>-0.102763</td>\n",
       "      <td>0.085837</td>\n",
       "      <td>0.057860</td>\n",
       "      <td>east1/(349).jpg</td>\n",
       "    </tr>\n",
       "    <tr>\n",
       "      <th>209520</th>\n",
       "      <td>0.023592</td>\n",
       "      <td>0.028497</td>\n",
       "      <td>-0.009194</td>\n",
       "      <td>0.040042</td>\n",
       "      <td>-0.030671</td>\n",
       "      <td>0.070353</td>\n",
       "      <td>0.064105</td>\n",
       "      <td>0.141149</td>\n",
       "      <td>0.151046</td>\n",
       "      <td>-0.056462</td>\n",
       "      <td>...</td>\n",
       "      <td>0.188724</td>\n",
       "      <td>0.004253</td>\n",
       "      <td>-0.005828</td>\n",
       "      <td>-0.185796</td>\n",
       "      <td>0.209589</td>\n",
       "      <td>-0.003248</td>\n",
       "      <td>-0.015919</td>\n",
       "      <td>-0.046378</td>\n",
       "      <td>0.039214</td>\n",
       "      <td>east1/(582).jpg</td>\n",
       "    </tr>\n",
       "  </tbody>\n",
       "</table>\n",
       "<p>5 rows × 129 columns</p>\n",
       "</div>"
      ],
      "text/plain": [
       "               0         1         2         3         4         5         6  \\\n",
       "209516  0.048079 -0.005735  0.032212  0.108099 -0.034226  0.037377  0.059349   \n",
       "209517  0.036722  0.102138 -0.004209  0.140337 -0.059118  0.030608 -0.010955   \n",
       "209518 -0.040984  0.214801 -0.011364  0.080878 -0.045407  0.056833 -0.051260   \n",
       "209519  0.031182  0.099060  0.016765  0.127419 -0.007815  0.043578  0.002895   \n",
       "209520  0.023592  0.028497 -0.009194  0.040042 -0.030671  0.070353  0.064105   \n",
       "\n",
       "               7         8         9       ...              119       120  \\\n",
       "209516  0.087101  0.150105 -0.095889       ...         0.155191 -0.071256   \n",
       "209517  0.045253  0.105136  0.031112       ...         0.066564 -0.015882   \n",
       "209518  0.029586  0.126758  0.122906       ...         0.065558  0.033576   \n",
       "209519  0.058311  0.084792 -0.024607       ...         0.076707 -0.023888   \n",
       "209520  0.141149  0.151046 -0.056462       ...         0.188724  0.004253   \n",
       "\n",
       "             121       122       123       124       125       126       127  \\\n",
       "209516  0.009989 -0.143778  0.178605 -0.003081  0.003301  0.086064  0.028129   \n",
       "209517  0.052320 -0.101862  0.182439  0.160878 -0.070499  0.112281  0.075241   \n",
       "209518  0.080878 -0.057504  0.135926  0.162637 -0.080175  0.087601  0.090195   \n",
       "209519  0.095798 -0.118035  0.209204  0.173771 -0.102763  0.085837  0.057860   \n",
       "209520 -0.005828 -0.185796  0.209589 -0.003248 -0.015919 -0.046378  0.039214   \n",
       "\n",
       "                   name  \n",
       "209516  east1/(455).jpg  \n",
       "209517  east1/(162).jpg  \n",
       "209518  east1/(675).jpg  \n",
       "209519  east1/(349).jpg  \n",
       "209520  east1/(582).jpg  \n",
       "\n",
       "[5 rows x 129 columns]"
      ]
     },
     "execution_count": 18,
     "metadata": {},
     "output_type": "execute_result"
    }
   ],
   "source": [
    "df.tail()"
   ]
  },
  {
   "cell_type": "code",
   "execution_count": 19,
   "metadata": {},
   "outputs": [],
   "source": [
    "df.to_csv('20WpicsPara.csv', index=False)"
   ]
  },
  {
   "cell_type": "code",
   "execution_count": null,
   "metadata": {
    "collapsed": true
   },
   "outputs": [],
   "source": []
  },
  {
   "cell_type": "code",
   "execution_count": null,
   "metadata": {
    "collapsed": true
   },
   "outputs": [],
   "source": []
  }
 ],
 "metadata": {
  "kernelspec": {
   "display_name": "Python 2",
   "language": "python",
   "name": "python2"
  },
  "language_info": {
   "codemirror_mode": {
    "name": "ipython",
    "version": 2
   },
   "file_extension": ".py",
   "mimetype": "text/x-python",
   "name": "python",
   "nbconvert_exporter": "python",
   "pygments_lexer": "ipython2",
   "version": "2.7.13"
  }
 },
 "nbformat": 4,
 "nbformat_minor": 2
}
