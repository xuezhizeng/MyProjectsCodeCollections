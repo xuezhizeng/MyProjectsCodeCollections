{
 "cells": [
  {
   "cell_type": "code",
   "execution_count": 1,
   "metadata": {},
   "outputs": [],
   "source": [
    "# -*- coding: utf-8 -*-\n",
    "import pandas as pd\n",
    "from time import time\n",
    "import seaborn as sns\n",
    "\n",
    "\n",
    "# import sys\n",
    "# reload(sys)\n",
    "# sys.setdefaultencoding('utf8')"
   ]
  },
  {
   "cell_type": "code",
   "execution_count": 2,
   "metadata": {
    "collapsed": true
   },
   "outputs": [],
   "source": [
    "holdout = pd.read_excel('sentiment_test.xlsx')"
   ]
  },
  {
   "cell_type": "code",
   "execution_count": 3,
   "metadata": {},
   "outputs": [],
   "source": [
    "df = pd.read_excel('sentiment_train.xlsx')"
   ]
  },
  {
   "cell_type": "code",
   "execution_count": 4,
   "metadata": {
    "collapsed": true
   },
   "outputs": [],
   "source": [
    "holdout['content'] = holdout['content'].apply(str)\n",
    "df['content'] = df['content'].apply(str)"
   ]
  },
  {
   "cell_type": "code",
   "execution_count": 5,
   "metadata": {},
   "outputs": [
    {
     "data": {
      "text/plain": [
       "(25191, 2)"
      ]
     },
     "execution_count": 5,
     "metadata": {},
     "output_type": "execute_result"
    }
   ],
   "source": [
    "df.shape"
   ]
  },
  {
   "cell_type": "code",
   "execution_count": 6,
   "metadata": {
    "collapsed": true
   },
   "outputs": [],
   "source": [
    "from nltk.corpus import stopwords \n",
    "from nltk.stem.wordnet import WordNetLemmatizer\n",
    "import string\n",
    "\n",
    "stopwords = set(stopwords.words('english'))\n",
    "punctuation = set(string.punctuation) \n",
    "lemmatize = WordNetLemmatizer()\n"
   ]
  },
  {
   "cell_type": "code",
   "execution_count": 7,
   "metadata": {},
   "outputs": [],
   "source": [
    "stop = pd.read_fwf('stop.txt',names=['words'])"
   ]
  },
  {
   "cell_type": "code",
   "execution_count": 8,
   "metadata": {},
   "outputs": [],
   "source": [
    "stopwords.update(set(stop['words'].values))"
   ]
  },
  {
   "cell_type": "code",
   "execution_count": 9,
   "metadata": {},
   "outputs": [
    {
     "name": "stdout",
     "output_type": "stream",
     "text": [
      "['toward', 'great', 'grouped', \"she'll\", 'goods', 'also', 'and', 'either', 'with', 'am']\n"
     ]
    }
   ],
   "source": [
    "print (list(stopwords)[:10])"
   ]
  },
  {
   "cell_type": "code",
   "execution_count": 10,
   "metadata": {
    "collapsed": true
   },
   "outputs": [],
   "source": [
    "stopwords.update(set(['dont','lot','phone','wa','im','ha','doe','wa', 'able','unlocked','buy']))"
   ]
  },
  {
   "cell_type": "code",
   "execution_count": 11,
   "metadata": {},
   "outputs": [
    {
     "data": {
      "text/plain": [
       "502"
      ]
     },
     "execution_count": 11,
     "metadata": {},
     "output_type": "execute_result"
    }
   ],
   "source": [
    "len(stopwords)"
   ]
  },
  {
   "cell_type": "code",
   "execution_count": 12,
   "metadata": {},
   "outputs": [
    {
     "data": {
      "text/plain": [
       "502"
      ]
     },
     "execution_count": 12,
     "metadata": {},
     "output_type": "execute_result"
    }
   ],
   "source": [
    "len(stopwords)"
   ]
  },
  {
   "cell_type": "code",
   "execution_count": 13,
   "metadata": {},
   "outputs": [
    {
     "data": {
      "text/html": [
       "<div>\n",
       "<table border=\"1\" class=\"dataframe\">\n",
       "  <thead>\n",
       "    <tr style=\"text-align: right;\">\n",
       "      <th></th>\n",
       "      <th>sentiment</th>\n",
       "      <th>content</th>\n",
       "    </tr>\n",
       "  </thead>\n",
       "  <tbody>\n",
       "    <tr>\n",
       "      <th>0</th>\n",
       "      <td>sadness</td>\n",
       "      <td>Funeral ceremony...gloomy friday...</td>\n",
       "    </tr>\n",
       "  </tbody>\n",
       "</table>\n",
       "</div>"
      ],
      "text/plain": [
       "  sentiment                              content\n",
       "0   sadness  Funeral ceremony...gloomy friday..."
      ]
     },
     "execution_count": 13,
     "metadata": {},
     "output_type": "execute_result"
    }
   ],
   "source": [
    "df.head(1)"
   ]
  },
  {
   "cell_type": "code",
   "execution_count": 14,
   "metadata": {},
   "outputs": [
    {
     "data": {
      "text/plain": [
       "25191"
      ]
     },
     "execution_count": 14,
     "metadata": {},
     "output_type": "execute_result"
    }
   ],
   "source": [
    "df['content'].count()"
   ]
  },
  {
   "cell_type": "code",
   "execution_count": 15,
   "metadata": {},
   "outputs": [
    {
     "data": {
      "text/plain": [
       "<matplotlib.axes._subplots.AxesSubplot at 0xbe0f908>"
      ]
     },
     "execution_count": 15,
     "metadata": {},
     "output_type": "execute_result"
    }
   ],
   "source": [
    "sns.countplot(df['sentiment'])\n"
   ]
  },
  {
   "cell_type": "code",
   "execution_count": 16,
   "metadata": {
    "collapsed": true
   },
   "outputs": [],
   "source": [
    "\n",
    "def cleaning(article):\n",
    "    article = str(article)\n",
    "    zero = \"\".join(i for i in article if i not in punctuation)\n",
    "    \n",
    "    one = \" \".join([i for i in zero.lower().split() if i not in stopwords])\n",
    "#     one = zero\n",
    "    \n",
    "    three = \" \".join(lemmatize.lemmatize(i) for i in one.split())\n",
    "    return three"
   ]
  },
  {
   "cell_type": "code",
   "execution_count": 17,
   "metadata": {
    "collapsed": true
   },
   "outputs": [],
   "source": [
    "from collections import defaultdict"
   ]
  },
  {
   "cell_type": "code",
   "execution_count": 18,
   "metadata": {},
   "outputs": [],
   "source": [
    "freq = defaultdict(int)"
   ]
  },
  {
   "cell_type": "code",
   "execution_count": 19,
   "metadata": {},
   "outputs": [],
   "source": [
    "for i in stopwords:\n",
    "    freq[i]+=1"
   ]
  },
  {
   "cell_type": "code",
   "execution_count": 20,
   "metadata": {},
   "outputs": [
    {
     "data": {
      "text/plain": [
       "collections.defaultdict"
      ]
     },
     "execution_count": 20,
     "metadata": {},
     "output_type": "execute_result"
    }
   ],
   "source": [
    "type(freq)"
   ]
  },
  {
   "cell_type": "code",
   "execution_count": 21,
   "metadata": {},
   "outputs": [
    {
     "data": {
      "text/plain": [
       "1"
      ]
     },
     "execution_count": 21,
     "metadata": {},
     "output_type": "execute_result"
    }
   ],
   "source": [
    "freq['it']"
   ]
  },
  {
   "cell_type": "markdown",
   "metadata": {},
   "source": [
    "### all"
   ]
  },
  {
   "cell_type": "code",
   "execution_count": 22,
   "metadata": {},
   "outputs": [],
   "source": [
    "all_content = df['content'].append(holdout['content'])"
   ]
  },
  {
   "cell_type": "code",
   "execution_count": null,
   "metadata": {
    "collapsed": true
   },
   "outputs": [],
   "source": []
  },
  {
   "cell_type": "code",
   "execution_count": 23,
   "metadata": {
    "collapsed": true
   },
   "outputs": [],
   "source": [
    "apple = all_content"
   ]
  },
  {
   "cell_type": "markdown",
   "metadata": {},
   "source": [
    "### choices"
   ]
  },
  {
   "cell_type": "code",
   "execution_count": 24,
   "metadata": {},
   "outputs": [
    {
     "name": "stdout",
     "output_type": "stream",
     "text": [
      "33500\n",
      "used: 2.42s\n"
     ]
    }
   ],
   "source": [
    "start = time()\n",
    "\n",
    "ap_text = apple.apply(cleaning)\n",
    "ap_text_list = [i.split() for i in ap_text]\n",
    "print (len(ap_text_list))\n",
    "\n",
    "print ('used: {:.2f}s'.format(time()-start))\n"
   ]
  },
  {
   "cell_type": "code",
   "execution_count": 25,
   "metadata": {},
   "outputs": [
    {
     "data": {
      "text/plain": [
       "0                        funeral ceremonygloomy friday\n",
       "1                   dannycastillo trade houston ticket\n",
       "2    repinging ghostridah14 didnt prom bc bf didnt ...\n",
       "3    sleep thinking friend he married damn amp 2 sc...\n",
       "4                                hmmm httpwwwdjherocom\n",
       "5                         charviray charlene love miss\n",
       "6                                kelcouch sorry friday\n",
       "7                                     cant fall asleep\n",
       "8    brodyjenner watch hill london realise tourture...\n",
       "9                                                 news\n",
       "Name: content, dtype: object"
      ]
     },
     "execution_count": 25,
     "metadata": {},
     "output_type": "execute_result"
    }
   ],
   "source": [
    "ap_text[:10]"
   ]
  },
  {
   "cell_type": "code",
   "execution_count": null,
   "metadata": {
    "collapsed": true
   },
   "outputs": [],
   "source": []
  },
  {
   "cell_type": "code",
   "execution_count": null,
   "metadata": {
    "collapsed": true
   },
   "outputs": [],
   "source": []
  },
  {
   "cell_type": "code",
   "execution_count": 26,
   "metadata": {},
   "outputs": [
    {
     "name": "stderr",
     "output_type": "stream",
     "text": [
      "C:\\Program Files\\Anaconda2\\envs\\py3k\\lib\\site-packages\\gensim\\utils.py:855: UserWarning: detected Windows; aliasing chunkize to chunkize_serial\n",
      "  warnings.warn(\"detected Windows; aliasing chunkize to chunkize_serial\")\n"
     ]
    }
   ],
   "source": [
    "from gensim.models.phrases import Phraser, Phrases"
   ]
  },
  {
   "cell_type": "code",
   "execution_count": 27,
   "metadata": {},
   "outputs": [
    {
     "name": "stdout",
     "output_type": "stream",
     "text": [
      "used: 0.24s\n"
     ]
    }
   ],
   "source": [
    "start = time()\n",
    "phs = Phrases(ap_text_list)\n",
    "print ('used: {:.2f}s'.format(time()-start))\n"
   ]
  },
  {
   "cell_type": "code",
   "execution_count": 28,
   "metadata": {},
   "outputs": [],
   "source": [
    "bi_gram = Phraser(phs)"
   ]
  },
  {
   "cell_type": "code",
   "execution_count": 29,
   "metadata": {},
   "outputs": [
    {
     "name": "stdout",
     "output_type": "stream",
     "text": [
      "used: 0.44s\n"
     ]
    }
   ],
   "source": [
    "start = time()\n",
    "\n",
    "new_bi_list = [bi_gram[i] for i in ap_text_list]\n",
    "\n",
    "print ('used: {:.2f}s'.format(time()-start))\n"
   ]
  },
  {
   "cell_type": "code",
   "execution_count": 30,
   "metadata": {},
   "outputs": [
    {
     "data": {
      "text/plain": [
       "['funeral', 'ceremonygloomy', 'friday']"
      ]
     },
     "execution_count": 30,
     "metadata": {},
     "output_type": "execute_result"
    }
   ],
   "source": [
    "bi_gram[ap_text_list[0]]"
   ]
  },
  {
   "cell_type": "code",
   "execution_count": 31,
   "metadata": {},
   "outputs": [
    {
     "data": {
      "text/plain": [
       "['funeral', 'ceremonygloomy', 'friday']"
      ]
     },
     "execution_count": 31,
     "metadata": {},
     "output_type": "execute_result"
    }
   ],
   "source": [
    "new_bi_list[0]"
   ]
  },
  {
   "cell_type": "code",
   "execution_count": 32,
   "metadata": {},
   "outputs": [],
   "source": [
    "# start = time()\n",
    "\n",
    "# phs3=Phrases(new_bi_list)\n",
    "# tri_gram=Phraser(phs3)\n",
    "\n",
    "# print ('used: {:.2f}s'.format(time()-start))\n"
   ]
  },
  {
   "cell_type": "code",
   "execution_count": 33,
   "metadata": {},
   "outputs": [],
   "source": [
    "# start = time()\n",
    "\n",
    "# new_tri_list = [tri_gram[i] for i in new_bi_list]\n",
    "\n",
    "# print ('used: {:.2f}s'.format(time()-start))\n"
   ]
  },
  {
   "cell_type": "code",
   "execution_count": 34,
   "metadata": {
    "collapsed": true
   },
   "outputs": [],
   "source": [
    "new_tri_list = new_bi_list"
   ]
  },
  {
   "cell_type": "code",
   "execution_count": null,
   "metadata": {
    "collapsed": true
   },
   "outputs": [],
   "source": []
  },
  {
   "cell_type": "code",
   "execution_count": null,
   "metadata": {
    "collapsed": true
   },
   "outputs": [],
   "source": []
  },
  {
   "cell_type": "code",
   "execution_count": null,
   "metadata": {
    "collapsed": true
   },
   "outputs": [],
   "source": []
  },
  {
   "cell_type": "code",
   "execution_count": 35,
   "metadata": {
    "collapsed": true
   },
   "outputs": [],
   "source": [
    "make_dic = dict()"
   ]
  },
  {
   "cell_type": "code",
   "execution_count": 36,
   "metadata": {
    "collapsed": true
   },
   "outputs": [],
   "source": [
    "for i,j in zip(range(len(new_tri_list)), new_tri_list):\n",
    "    make_dic[i]=j"
   ]
  },
  {
   "cell_type": "code",
   "execution_count": 37,
   "metadata": {},
   "outputs": [],
   "source": [
    "without_stop = pd.Series(make_dic)"
   ]
  },
  {
   "cell_type": "code",
   "execution_count": 38,
   "metadata": {},
   "outputs": [
    {
     "data": {
      "text/plain": [
       "0                    [funeral, ceremonygloomy, friday]\n",
       "1              [dannycastillo, trade, houston, ticket]\n",
       "2    [repinging, ghostridah14, didnt, prom, bc, bf,...\n",
       "3    [sleep, thinking, friend, he, married, damn, a...\n",
       "4                             [hmmm, httpwwwdjherocom]\n",
       "5                    [charviray, charlene, love, miss]\n",
       "6                            [kelcouch, sorry, friday]\n",
       "7                                  [cant_fall, asleep]\n",
       "8    [brodyjenner, watch, hill, london, realise, to...\n",
       "9                                               [news]\n",
       "dtype: object"
      ]
     },
     "execution_count": 38,
     "metadata": {},
     "output_type": "execute_result"
    }
   ],
   "source": [
    "without_stop.head(10)"
   ]
  },
  {
   "cell_type": "code",
   "execution_count": 39,
   "metadata": {},
   "outputs": [
    {
     "data": {
      "text/plain": [
       "3"
      ]
     },
     "execution_count": 39,
     "metadata": {},
     "output_type": "execute_result"
    }
   ],
   "source": [
    "len(without_stop[0])"
   ]
  },
  {
   "cell_type": "code",
   "execution_count": 40,
   "metadata": {},
   "outputs": [],
   "source": [
    "def helper_len(x):\n",
    "    leng=[0]\n",
    "    for i in x:\n",
    "        leng.append(len(i))\n",
    "    return max(leng)"
   ]
  },
  {
   "cell_type": "code",
   "execution_count": 41,
   "metadata": {},
   "outputs": [],
   "source": [
    "with_stop = without_stop.apply(helper_len)"
   ]
  },
  {
   "cell_type": "code",
   "execution_count": 42,
   "metadata": {
    "collapsed": true
   },
   "outputs": [],
   "source": [
    "import matplotlib.pyplot as plt\n",
    "%matplotlib inline"
   ]
  },
  {
   "cell_type": "code",
   "execution_count": 43,
   "metadata": {},
   "outputs": [
    {
     "data": {
      "text/plain": [
       "8     4384\n",
       "9     4322\n",
       "10    3913\n",
       "7     3691\n",
       "12    3413\n",
       "11    3131\n",
       "13    2129\n",
       "6     1872\n",
       "14    1849\n",
       "15    1391\n",
       "dtype: int64"
      ]
     },
     "execution_count": 43,
     "metadata": {},
     "output_type": "execute_result"
    }
   ],
   "source": [
    "with_stop.value_counts().head(10)"
   ]
  },
  {
   "cell_type": "code",
   "execution_count": 44,
   "metadata": {
    "collapsed": true
   },
   "outputs": [],
   "source": [
    "graph = with_stop.value_counts()"
   ]
  },
  {
   "cell_type": "code",
   "execution_count": 45,
   "metadata": {},
   "outputs": [
    {
     "data": {
      "text/plain": [
       "<Container object of 58 artists>"
      ]
     },
     "execution_count": 45,
     "metadata": {},
     "output_type": "execute_result"
    },
    {
     "data": {
      "image/png": "[encoded data removed]",
      "text/plain": [
       "<matplotlib.figure.Figure at 0x174567f0>"
      ]
     },
     "metadata": {},
     "output_type": "display_data"
    }
   ],
   "source": [
    "plt.figure(figsize=(12,6))\n",
    "plt.bar(graph.index, graph.values, .7, color='g', alpha=.7)"
   ]
  },
  {
   "cell_type": "code",
   "execution_count": 46,
   "metadata": {},
   "outputs": [
    {
     "data": {
      "text/plain": [
       "0                        [funeral, ceremonygloomy, friday]\n",
       "1                  [dannycastillo, trade, houston, ticket]\n",
       "2        [repinging, ghostridah14, didnt, prom, bc, bf,...\n",
       "3        [sleep, thinking, friend, he, married, damn, a...\n",
       "4                                 [hmmm, httpwwwdjherocom]\n",
       "5                        [charviray, charlene, love, miss]\n",
       "6                                [kelcouch, sorry, friday]\n",
       "7                                      [cant_fall, asleep]\n",
       "8        [brodyjenner, watch, hill, london, realise, to...\n",
       "9                                                   [news]\n",
       "10                              [storm, electricity, gone]\n",
       "11                                    [sleepy, late, fail]\n",
       "12       [perezhilton, lady_gaga, tweeted, impressed, v...\n",
       "13              [convinced, signal, offdamn, lost, friend]\n",
       "14       [raaaaaaek, oh, bad, hope, ive, sleep, issue, ...\n",
       "15       [topic, map, talk, balisage, markup, conferenc...\n",
       "16                                    [ate, telling, food]\n",
       "17       [tired, definitely, ear, infection, bed, quote...\n",
       "18       [home, 2, deal, underage, girl, drinking, gin,...\n",
       "19                   [damm, server, hit, 80, koxpers, pas]\n",
       "20       [fudge, bsd, paper, tired, ugh, hate, school, ...\n",
       "21                        [hate, cancer, hate, hate, hate]\n",
       "22         [feel, strong, contraction, httpplurkcompwxidk]\n",
       "23                        [socal, stoked, maybe, tomorrow]\n",
       "24                           [screw, davidbrussee, 3_week]\n",
       "25       [etherradio, yeah, feel, funny, cause, havent,...\n",
       "26                                             [afternoon]\n",
       "27                      [gabbyisactive, aw, unfollow, cry]\n",
       "28                                    [mmm, day, day, uds]\n",
       "29           [picked, blackberry, middle, street, crushed]\n",
       "                               ...                        \n",
       "33470    [kateblogs, late, buck, idea, stop, bunch, stu...\n",
       "33471              [cook, wanna, measure, dick, daddysize]\n",
       "33472    [akashathekitty, ive, read, theyre, cool, defi...\n",
       "33473       [capricornone, garageband, probably, overkill]\n",
       "33474                                  [happy_mother, day]\n",
       "33475                                               [food]\n",
       "33476    [take, nearly, 2, day, figure, cause, mic, eur...\n",
       "33477    [bored, ate, bowl, ful, rasberries, grape, wai...\n",
       "33478      [rasga, yep, httpbitly15yyid, christmas, treat]\n",
       "33479    [debbiefletcher, haha, ill_try, time, he, nort...\n",
       "33480    [jaredmaine, kennedymaine, johnmaine, patmaine...\n",
       "33481    [happy_mother, day, mother, grandmother, furba...\n",
       "33482                                       [string, trio]\n",
       "33483         [mancunianlee, oh, ayehe, rock, shes, horny]\n",
       "33484                                 [daibach, daps, lol]\n",
       "33485                 [debbiefletcher, haha, remember, xx]\n",
       "33486    [sharlynnx, please, online, hope, youve, amazi...\n",
       "33487                                             [shower]\n",
       "33488                            [sleep, jesse, mccartney]\n",
       "33489                            [sunset, view, beautiful]\n",
       "33490                        [mcmedia, thank, importantly]\n",
       "33491                                [coursework, promise]\n",
       "33492                                      [buddinggenius]\n",
       "33493    [givemestrength, bloody, fed, lost, statement,...\n",
       "33494        [bike, thorough, wash, degrease, grease, job]\n",
       "33495            [amazing, time, night, mcfly, incredible]\n",
       "33496            [lovelylisaj, link, kimba, diary, please]\n",
       "33497    [jasimmo, ooo, french, skill, lol, lovely, wea...\n",
       "33498                            [happy_mother, day, love]\n",
       "33499    [niariley, wassup, beautiful, follow, peep, hi...\n",
       "dtype: object"
      ]
     },
     "execution_count": 46,
     "metadata": {},
     "output_type": "execute_result"
    }
   ],
   "source": [
    "without_stop"
   ]
  },
  {
   "cell_type": "code",
   "execution_count": null,
   "metadata": {
    "collapsed": true
   },
   "outputs": [],
   "source": []
  },
  {
   "cell_type": "code",
   "execution_count": null,
   "metadata": {
    "collapsed": true
   },
   "outputs": [],
   "source": []
  },
  {
   "cell_type": "code",
   "execution_count": null,
   "metadata": {
    "collapsed": true
   },
   "outputs": [],
   "source": []
  },
  {
   "cell_type": "code",
   "execution_count": 47,
   "metadata": {},
   "outputs": [],
   "source": [
    "ap_text_list = list(without_stop.values)"
   ]
  },
  {
   "cell_type": "code",
   "execution_count": null,
   "metadata": {
    "collapsed": true
   },
   "outputs": [],
   "source": []
  },
  {
   "cell_type": "code",
   "execution_count": null,
   "metadata": {
    "collapsed": true
   },
   "outputs": [],
   "source": []
  },
  {
   "cell_type": "code",
   "execution_count": null,
   "metadata": {
    "collapsed": true
   },
   "outputs": [],
   "source": []
  },
  {
   "cell_type": "code",
   "execution_count": 48,
   "metadata": {},
   "outputs": [
    {
     "data": {
      "text/plain": [
       "33500"
      ]
     },
     "execution_count": 48,
     "metadata": {},
     "output_type": "execute_result"
    }
   ],
   "source": [
    "len(ap_text_list)"
   ]
  },
  {
   "cell_type": "code",
   "execution_count": 49,
   "metadata": {},
   "outputs": [
    {
     "data": {
      "text/plain": [
       "['funeral', 'ceremonygloomy', 'friday']"
      ]
     },
     "execution_count": 49,
     "metadata": {},
     "output_type": "execute_result"
    }
   ],
   "source": [
    "ap_text_list[0]"
   ]
  },
  {
   "cell_type": "markdown",
   "metadata": {},
   "source": [
    "## topic models"
   ]
  },
  {
   "cell_type": "code",
   "execution_count": 50,
   "metadata": {},
   "outputs": [],
   "source": [
    "# ! pip install gensim pyLDAvis WordCloud"
   ]
  },
  {
   "cell_type": "markdown",
   "metadata": {},
   "source": [
    "### change name"
   ]
  },
  {
   "cell_type": "code",
   "execution_count": 51,
   "metadata": {},
   "outputs": [],
   "source": [
    "# Importing Gensim\n",
    "import gensim\n",
    "from gensim import corpora\n",
    "\n",
    "from time import time\n",
    "import logging\n",
    "\n",
    "logging.basicConfig(format='%(asctime)s : %(levelname)s : %(message)s', level=logging.INFO,\n",
    "                   filename='hw_running120.log',filemode='w')"
   ]
  },
  {
   "cell_type": "code",
   "execution_count": null,
   "metadata": {
    "collapsed": true
   },
   "outputs": [],
   "source": []
  },
  {
   "cell_type": "code",
   "execution_count": 52,
   "metadata": {},
   "outputs": [
    {
     "name": "stdout",
     "output_type": "stream",
     "text": [
      "Dictionary(44583 unique tokens: ['thehebrican', 'laracasey', 'jonesy', 'retweeting', 'aweee']...)\n"
     ]
    }
   ],
   "source": [
    "\n",
    "\n",
    "# Creating the term dictionary of our courpus, where every unique term is assigned an index. dictionary = corpora.Dictionary(doc_clean)\n",
    "dictionary = corpora.Dictionary(ap_text_list)\n",
    "dictionary.save('hw120.dict')\n",
    "print (dictionary)"
   ]
  },
  {
   "cell_type": "code",
   "execution_count": 53,
   "metadata": {},
   "outputs": [],
   "source": [
    "# gensim.models.ldamodel.LdaModel?"
   ]
  },
  {
   "cell_type": "code",
   "execution_count": 54,
   "metadata": {},
   "outputs": [
    {
     "name": "stdout",
     "output_type": "stream",
     "text": [
      "33500\n",
      "[(465, 1), (466, 1), (467, 1)]\n"
     ]
    }
   ],
   "source": [
    "# Converting list of documents (corpus) into Document Term Matrix using dictionary prepared above.\n",
    "doc_term_matrix = [dictionary.doc2bow(doc) for doc in ap_text_list]\n",
    "corpora.MmCorpus.serialize('hw120.mm', doc_term_matrix)\n",
    "\n",
    "print (len(doc_term_matrix))\n",
    "print (doc_term_matrix[100])"
   ]
  },
  {
   "cell_type": "code",
   "execution_count": 55,
   "metadata": {
    "collapsed": true
   },
   "outputs": [],
   "source": [
    "# Lda?"
   ]
  },
  {
   "cell_type": "code",
   "execution_count": 74,
   "metadata": {},
   "outputs": [
    {
     "data": {
      "text/plain": [
       "'used: 24.12s'"
      ]
     },
     "execution_count": 74,
     "metadata": {},
     "output_type": "execute_result"
    }
   ],
   "source": [
    "start = time()\n",
    "# Creating the object for LDA model using gensim library\n",
    "Lda = gensim.models.ldamodel.LdaModel\n",
    "\n",
    "# Running and Trainign LDA model on the document term matrix.\n",
    "ldamodel = Lda(doc_term_matrix, num_topics=36, id2word = dictionary, \n",
    "#                passes=5\n",
    "              )\n",
    "'used: {:.2f}s'.format(time()-start)"
   ]
  },
  {
   "cell_type": "code",
   "execution_count": 75,
   "metadata": {},
   "outputs": [
    {
     "data": {
      "text/plain": [
       "[(32,\n",
       "  '0.081*\"feel\" + 0.034*\"doesnt\" + 0.027*\"funny\" + 0.027*\"wasnt\" + 0.020*\"woke\" + 0.019*\"evening\" + 0.015*\"perfect\" + 0.015*\"babe\" + 0.015*\"meeting\" + 0.012*\"line\"'),\n",
       " (24,\n",
       "  '0.099*\"haha\" + 0.024*\"coffee\" + 0.020*\"true\" + 0.018*\"dog\" + 0.016*\"happy_birthday\" + 0.011*\"agree\" + 0.011*\"absolutely\" + 0.010*\"season\" + 0.009*\"ticket\" + 0.009*\"drinking\"'),\n",
       " (33,\n",
       "  '0.023*\"hahaha\" + 0.022*\"playing\" + 0.021*\"cry\" + 0.018*\"trip\" + 0.018*\"tv\" + 0.013*\"mad\" + 0.013*\"lil\" + 0.012*\"wedding\" + 0.012*\"short\" + 0.011*\"prom\"'),\n",
       " (3,\n",
       "  '0.043*\"family\" + 0.038*\"omg\" + 0.033*\"sound\" + 0.032*\"finally\" + 0.025*\"rain\" + 0.020*\"photo\" + 0.016*\"seen\" + 0.013*\"la\" + 0.011*\"boo\" + 0.011*\"ahhh\"'),\n",
       " (12,\n",
       "  '0.058*\"sad\" + 0.036*\"watch\" + 0.029*\"car\" + 0.027*\"mommy\" + 0.024*\"follower\" + 0.016*\"headache\" + 0.014*\"xd\" + 0.012*\"minute\" + 0.012*\"hand\" + 0.011*\"add\"'),\n",
       " (17,\n",
       "  '0.170*\"thanks\" + 0.028*\"listening\" + 0.026*\"loved\" + 0.024*\"hate\" + 0.018*\"month\" + 0.016*\"link\" + 0.009*\"retrorewind\" + 0.007*\"star\" + 0.007*\"driving\" + 0.007*\"download\"'),\n",
       " (7,\n",
       "  '0.109*\"amp\" + 0.085*\"happy\" + 0.073*\"friend\" + 0.017*\"dream\" + 0.016*\"day\" + 0.012*\"yum\" + 0.009*\"fantastic\" + 0.009*\"mind\" + 0.009*\"worth\" + 0.009*\"tweeting\"'),\n",
       " (19,\n",
       "  '0.166*\"lol\" + 0.044*\"cool\" + 0.035*\"maybe\" + 0.027*\"isnt\" + 0.021*\"goodnight\" + 0.016*\"super\" + 0.015*\"mama\" + 0.012*\"time\" + 0.011*\"sexy\" + 0.010*\"anymore\"'),\n",
       " (6,\n",
       "  '0.212*\"love\" + 0.053*\"thank\" + 0.030*\"ur\" + 0.024*\"check\" + 0.024*\"1\" + 0.022*\"3\" + 0.022*\"wanna\" + 0.021*\"music\" + 0.018*\"day\" + 0.017*\"lost\"'),\n",
       " (30,\n",
       "  '0.056*\"school\" + 0.031*\"talk\" + 0.029*\"video\" + 0.026*\"mine\" + 0.023*\"rock\" + 0.017*\"run\" + 0.016*\"loving\" + 0.014*\"day\" + 0.011*\"luv\" + 0.011*\"happen\"'),\n",
       " (31,\n",
       "  '0.032*\"bit\" + 0.029*\"waiting\" + 0.024*\"game\" + 0.021*\"stop\" + 0.018*\"leave\" + 0.018*\"update\" + 0.017*\"following\" + 0.013*\"left\" + 0.012*\"running\" + 0.010*\"youll\"'),\n",
       " (23,\n",
       "  '0.050*\"ok\" + 0.036*\"dinner\" + 0.028*\"hot\" + 0.023*\"shes\" + 0.022*\"eat\" + 0.020*\"free\" + 0.015*\"poor\" + 0.013*\"special\" + 0.013*\"bday\" + 0.013*\"cake\"'),\n",
       " (20,\n",
       "  '0.053*\"people\" + 0.037*\"world\" + 0.030*\"follow\" + 0.025*\"food\" + 0.023*\"hard\" + 0.016*\"hit\" + 0.015*\"exam\" + 0.015*\"lady\" + 0.012*\"film\" + 0.012*\"watched\"'),\n",
       " (5,\n",
       "  '0.079*\"morning\" + 0.071*\"hope\" + 0.043*\"bed\" + 0.035*\"sleep\" + 0.028*\"day\" + 0.028*\"feeling\" + 0.025*\"tired\" + 0.022*\"time\" + 0.022*\"hi\" + 0.017*\"picture\"'),\n",
       " (29,\n",
       "  '0.067*\"yeah\" + 0.029*\"day_mom\" + 0.029*\"soon\" + 0.025*\"excited\" + 0.025*\"ya\" + 0.022*\"try\" + 0.022*\"happy_mother\" + 0.020*\"id\" + 0.015*\"head\" + 0.014*\"hehe\"'),\n",
       " (18,\n",
       "  '0.064*\"mother_day\" + 0.047*\"yay\" + 0.042*\"lt3\" + 0.042*\"house\" + 0.039*\"4\" + 0.025*\"ready\" + 0.016*\"yesterday\" + 0.014*\"news\" + 0.012*\"10\" + 0.010*\"list\"'),\n",
       " (15,\n",
       "  '0.070*\"awesome\" + 0.042*\"tweet\" + 0.029*\"read\" + 0.022*\"friday\" + 0.021*\"btw\" + 0.019*\"there\" + 0.017*\"sick\" + 0.012*\"7\" + 0.012*\"stupid\" + 0.011*\"tour\"'),\n",
       " (16,\n",
       "  '0.089*\"2\" + 0.056*\"hey\" + 0.043*\"ive\" + 0.024*\"nothing\" + 0.020*\"plan\" + 0.016*\"lucky\" + 0.014*\"beach\" + 0.014*\"cat\" + 0.012*\"person\" + 0.012*\"lot\"'),\n",
       " (28,\n",
       "  '0.052*\"mother\" + 0.030*\"aww\" + 0.028*\"day\" + 0.025*\"help\" + 0.020*\"happy_mother\" + 0.017*\"favorite\" + 0.016*\"fine\" + 0.013*\"eye\" + 0.012*\"computer\" + 0.011*\"wishing\"'),\n",
       " (35,\n",
       "  '0.141*\"day\" + 0.102*\"happy_mother\" + 0.069*\"mom\" + 0.038*\"bad\" + 0.030*\"tell\" + 0.014*\"sooo\" + 0.014*\"one\" + 0.013*\"awww\" + 0.012*\"change\" + 0.010*\"told\"')]"
      ]
     },
     "execution_count": 75,
     "metadata": {},
     "output_type": "execute_result"
    }
   ],
   "source": [
    "ldamodel.print_topics()"
   ]
  },
  {
   "cell_type": "code",
   "execution_count": null,
   "metadata": {
    "collapsed": true
   },
   "outputs": [],
   "source": []
  },
  {
   "cell_type": "code",
   "execution_count": 76,
   "metadata": {
    "collapsed": true
   },
   "outputs": [],
   "source": [
    "ldamodel.save('hw120.model')\n"
   ]
  },
  {
   "cell_type": "markdown",
   "metadata": {},
   "source": [
    "## load saved model"
   ]
  },
  {
   "cell_type": "code",
   "execution_count": 77,
   "metadata": {},
   "outputs": [],
   "source": [
    "from gensim.models import LdaModel\n",
    "loading = LdaModel.load('hw120.model')"
   ]
  },
  {
   "cell_type": "code",
   "execution_count": null,
   "metadata": {
    "collapsed": true
   },
   "outputs": [],
   "source": []
  },
  {
   "cell_type": "markdown",
   "metadata": {},
   "source": [
    "## plotting\n",
    "\n"
   ]
  },
  {
   "cell_type": "code",
   "execution_count": 78,
   "metadata": {},
   "outputs": [],
   "source": [
    "import pyLDAvis.gensim\n",
    "import gensim\n",
    "from time import time\n",
    "pyLDAvis.enable_notebook()"
   ]
  },
  {
   "cell_type": "code",
   "execution_count": 79,
   "metadata": {
    "collapsed": true
   },
   "outputs": [],
   "source": [
    "d = gensim.corpora.Dictionary.load('hw120.dict')\n",
    "c = gensim.corpora.MmCorpus('hw120.mm')\n",
    "lda = gensim.models.LdaModel.load('hw120.model')"
   ]
  },
  {
   "cell_type": "code",
   "execution_count": 80,
   "metadata": {},
   "outputs": [
    {
     "name": "stdout",
     "output_type": "stream",
     "text": [
      "used: 22.59s\n"
     ]
    }
   ],
   "source": [
    "start = time()\n",
    "\n",
    "data = pyLDAvis.gensim.prepare(lda, c, d)\n",
    "\n",
    "print ('used: {:.2f}s'.format(time()-start))"
   ]
  },
  {
   "cell_type": "code",
   "execution_count": 81,
   "metadata": {},
   "outputs": [],
   "source": [
    "pyLDAvis.save_html(data,'hw120.html')\n",
    "\n"
   ]
  },
  {
   "cell_type": "code",
   "execution_count": 82,
   "metadata": {},
   "outputs": [
    {
     "data": {
      "text/html": [
       "\n",
       "<link rel=\"stylesheet\" type=\"text/css\" href=\"https://cdn.rawgit.com/bmabey/pyLDAvis/files/ldavis.v1.0.0.css\">\n",
       "\n",
       "\n",
       "<div id=\"ldavis_el114484735335607633295851\"></div>\n",
       "<script type=\"text/javascript\">\n",
       "\n",
       "var ldavis_el114484735335607633295851_data = {\"mdsDat\": {\"Freq\": [3.8586151358905987, 3.5436407715574387, 3.339527884582388, 3.272805201614679, 3.026531550958284, 3.0237440808890677, 2.943274571242108, 2.9386066638702877, 2.9334534603946394, 2.8787210180369955, 2.821044499930148, 2.809996627463046, 2.7822770122994305, 2.779219359415812, 2.7363113758950237, 2.7236651933060623, 2.7024051198820422, 2.7000559768082315, 2.699609588985191, 2.693738440218227, 2.6776043467914237, 2.61266268274369, 2.610856386400426, 2.606478577038858, 2.6039959015757272, 2.600017088165373, 2.581152798548622, 2.5632720384109526, 2.5610598799830333, 2.5110456519869278, 2.500732159360805, 2.500674620491359, 2.4993978225386937, 2.4750931948811177, 2.463820598090975, 2.424892719752342], \"x\": [0.15833488280975536, 0.04510725878895084, 0.11195628997645897, 0.2537018139640051, -0.004230157826325427, -0.04187736082654564, -0.0421916338289544, 0.04296630414628761, 0.0765563861188074, -0.014664058905338305, -0.02729219428163755, -0.036857115594338005, -0.06892790986139283, -0.052895223691699064, -0.02185449783101518, 0.1307808748642647, 0.0196704135661197, -0.08456137530710214, -0.09202493506353923, -0.02357920521770485, -0.037821462407398816, -0.0596064488242693, -0.012878945919860942, -0.02326723542876829, -0.04244208474589114, -0.023664869113498205, 0.0293354509349768, -0.0029041450719214145, 0.11658039249760628, 0.0047863762637045375, -0.06628998675265617, -0.015898711823852756, -0.06825152526417762, -0.01466939655277267, -0.05274110433818425, -0.05838485945209124], \"cluster\": [1, 1, 1, 1, 1, 1, 1, 1, 1, 1, 1, 1, 1, 1, 1, 1, 1, 1, 1, 1, 1, 1, 1, 1, 1, 1, 1, 1, 1, 1, 1, 1, 1, 1, 1, 1], \"topics\": [1, 2, 3, 4, 5, 6, 7, 8, 9, 10, 11, 12, 13, 14, 15, 16, 17, 18, 19, 20, 21, 22, 23, 24, 25, 26, 27, 28, 29, 30, 31, 32, 33, 34, 35, 36], \"y\": [-0.2013446360337014, 0.13929808715431835, 0.04253621530934933, 0.040609086896626775, -0.11551402441583628, -0.14316626533142784, 0.04125853456152436, -0.10764433337310264, 0.013300095884710952, -0.03094874210344052, 0.03840757217398636, 0.08756809347625816, 0.04497865801815536, -0.023719940961384967, -0.054778956182240685, 0.03206517950286314, 0.05413131815101857, -0.049666318586766546, -0.010106898872079995, -0.04491511695150649, -0.005868873068256785, -0.024590592304033123, -0.05334495581666936, -0.014157222277908695, -0.02025473528237882, 0.03632364448685228, 0.0771419228535972, 0.0703652055220406, 0.05544007931243008, -0.006925247010455967, 0.045794855011205504, -0.02433704430985492, -0.002469368032584272, -0.0005000107384503257, 0.07346836121051249, 0.04156637212662812]}, \"R\": 30, \"plot.opts\": {\"ylab\": \"PC2\", \"xlab\": \"PC1\"}, \"token.table\": {\"Topic\": [3, 6, 14, 18, 24, 32, 17, 20, 25, 9, 30, 28, 12, 30, 33, 5, 35, 36, 3, 7, 8, 9, 16, 19, 20, 21, 22, 24, 30, 35, 36, 30, 25, 2, 23, 8, 23, 3, 1, 3, 18, 20, 10, 1, 7, 17, 35, 1, 20, 20, 11, 33, 26, 17, 19, 33, 32, 22, 2, 1, 4, 8, 20, 24, 26, 7, 11, 14, 15, 33, 6, 18, 19, 15, 17, 29, 28, 9, 24, 3, 25, 18, 31, 24, 22, 28, 33, 21, 18, 27, 1, 2, 4, 5, 6, 7, 8, 9, 15, 17, 22, 30, 31, 34, 27, 14, 9, 12, 14, 24, 31, 29, 24, 25, 19, 7, 11, 10, 29, 6, 27, 6, 19, 34, 16, 23, 12, 20, 12, 30, 24, 32, 10, 35, 2, 1, 10, 11, 20, 35, 9, 25, 29, 4, 12, 21, 35, 28, 31, 2, 13, 14, 27, 1, 4, 6, 7, 15, 16, 26, 29, 31, 35, 36, 22, 24, 32, 12, 13, 17, 34, 24, 22, 21, 29, 36, 23, 7, 7, 5, 23, 1, 6, 21, 24, 35, 25, 10, 33, 29, 9, 30, 7, 26, 5, 22, 3, 24, 4, 7, 30, 31, 24, 15, 27, 5, 3, 11, 19, 28, 18, 32, 3, 9, 32, 27, 35, 6, 23, 19, 25, 33, 31, 27, 21, 7, 13, 14, 16, 34, 17, 33, 20, 23, 29, 3, 5, 8, 9, 32, 11, 21, 33, 15, 23, 16, 31, 7, 30, 27, 36, 5, 22, 35, 23, 13, 15, 10, 34, 14, 5, 19, 1, 2, 3, 4, 5, 6, 8, 12, 13, 14, 15, 16, 17, 18, 19, 20, 21, 22, 23, 24, 25, 26, 28, 29, 30, 32, 33, 34, 35, 36, 21, 14, 14, 14, 15, 26, 26, 22, 34, 2, 24, 2, 7, 16, 12, 18, 20, 1, 4, 5, 10, 11, 22, 33, 14, 32, 6, 13, 4, 27, 21, 32, 3, 6, 8, 20, 30, 3, 10, 23, 7, 13, 6, 33, 36, 21, 18, 31, 13, 29, 33, 3, 17, 15, 20, 8, 26, 15, 34, 11, 9, 24, 19, 24, 31, 11, 19, 16, 19, 8, 16, 20, 2, 8, 15, 36, 11, 12, 22, 29, 1, 29, 18, 19, 4, 18, 28, 28, 9, 14, 23, 1, 2, 21, 12, 6, 32, 15, 25, 31, 36, 5, 12, 15, 33, 36, 34, 4, 5, 12, 12, 25, 2, 29, 34, 4, 6, 14, 31, 25, 3, 4, 5, 13, 14, 18, 22, 24, 29, 36, 6, 33, 15, 28, 24, 30, 26, 31, 8, 31, 23, 25, 33, 30, 1, 2, 3, 4, 5, 6, 7, 8, 9, 10, 11, 12, 13, 14, 15, 16, 17, 20, 21, 22, 23, 24, 25, 26, 27, 28, 29, 30, 31, 32, 33, 34, 35, 36, 17, 8, 3, 32, 14, 18, 35, 34, 1, 23, 24, 4, 4, 34, 26, 12, 12, 24, 18, 28, 9, 2, 19, 2, 4, 5, 8, 9, 10, 12, 16, 18, 22, 24, 25, 33, 22, 13, 16, 29, 6, 22, 23, 25, 26, 31, 22, 13, 18, 28, 31, 35, 19, 22, 5, 35, 15, 9, 8, 34, 19, 5, 9, 35, 21, 34, 2, 21, 1, 26, 32, 5, 31, 1, 35, 8, 29, 23, 33, 2, 13, 7, 6, 25, 27, 13, 32, 28, 18, 24, 6, 5, 19, 32, 34, 36, 29, 9, 10, 19, 27, 11, 32, 22, 31, 26, 27, 7, 22, 6, 13, 18, 15, 36, 8, 19, 35, 20, 32, 4, 17, 6, 29, 34, 26, 5, 6, 6, 15, 25, 35, 22, 14, 14, 10, 12, 28, 4, 12, 33, 13, 9, 20, 10, 13, 4, 24, 29, 8, 10, 32, 1, 3, 13, 20, 31, 28, 33, 1, 29, 4, 14, 18, 17, 36, 25, 22, 9, 7, 13, 34, 16, 19, 28, 33, 24, 29, 16, 21, 18, 13, 8, 24, 5, 4, 36, 28, 3, 6, 13, 12, 26, 32, 15, 12, 22, 10, 13, 2, 1, 36, 33, 24, 35, 5, 29, 23, 26, 23, 20, 33, 1, 11, 17, 27, 28, 30, 30, 4, 9, 10, 14, 16, 31, 36, 16, 29, 16, 8, 2, 3, 4, 8, 9, 14, 16, 17, 18, 20, 23, 27, 34, 36, 31, 16, 22, 6, 35, 25, 27, 1, 1, 5, 6, 14, 15, 16, 17, 21, 23, 24, 26, 28, 32, 34, 35, 36, 18, 33, 19, 25, 2, 22, 2, 23, 25, 36, 25, 10, 15, 2, 16, 18, 21, 5, 8, 17, 24, 34, 1, 3, 4, 9, 10, 14, 15, 16, 20, 23, 24, 26, 31, 32, 34, 15, 15, 25, 14, 27, 29, 7, 8, 9, 11, 14, 18, 20, 36, 35, 20, 10, 32, 26, 1, 15, 4, 15, 24, 5, 35, 24, 3, 5, 12, 20, 21, 22, 24, 33, 36, 18, 34, 36, 2, 4, 18, 19, 23, 24, 25, 27, 30, 33, 34, 23, 36, 7, 1, 36, 10, 32, 34, 26, 12, 31, 28, 30, 12, 2, 27, 3, 9, 24, 19, 4, 1, 2, 3, 4, 5, 7, 8, 9, 10, 11, 13, 14, 16, 17, 21, 23, 24, 25, 26, 27, 28, 29, 30, 31, 32, 33, 34, 36, 1, 8, 3, 5, 9, 10, 13, 16, 18, 20, 28, 29, 30, 24, 4, 11, 13, 33, 35, 9, 10, 18, 14, 2, 8, 12, 15, 30, 8, 13, 16, 22, 29, 32, 26, 35, 2, 18, 12, 16, 17, 5, 8, 2, 8, 13, 21, 13, 10, 4, 8, 13, 25, 26, 28, 29, 30, 29, 7, 7, 35, 1, 29, 18, 10, 13, 7, 5, 13, 17, 1, 2, 3, 4, 5, 7, 9, 10, 11, 16, 17, 20, 21, 22, 23, 24, 25, 28, 29, 30, 32, 15, 9, 1, 4, 10, 13, 15, 18, 23, 25, 31, 1, 7, 6, 27, 11, 16, 23, 16, 32, 3, 23, 16, 5, 25, 35, 8, 17, 31, 16, 21, 17, 22, 2, 4, 18, 17, 23, 9, 33, 2, 13, 20, 25, 34, 32, 28, 21, 31, 6, 8, 17, 34, 26, 34, 3, 2, 5, 6, 8, 10, 11, 15, 16, 20, 21, 22, 23, 24, 31, 2, 10, 11, 3, 28, 29, 8, 25, 35, 25, 31, 18, 24, 30, 8, 9, 10, 23, 22, 12, 14, 17, 22, 16, 20, 35, 9, 29, 2, 4, 7, 8, 9, 10, 11, 13, 15, 16, 22, 23, 25, 30, 31, 32, 36, 24, 36, 17, 25, 13, 11, 14, 7, 8, 10, 27, 30, 32, 2, 20, 11, 21, 35, 9, 20, 2, 13, 8, 31, 9, 18, 14, 19, 3, 3, 21, 6, 29, 8, 8, 20, 21, 10, 21, 30, 2, 18, 28, 13, 4, 22, 32, 29, 24, 30, 8, 29, 11, 26, 4, 18, 18, 7, 2, 22, 31, 1, 3, 26, 2, 3, 5, 7, 11, 13, 17, 22, 26, 29, 30, 32, 34, 25, 6, 3, 4, 6, 19, 22, 28, 33, 3, 30, 15, 36, 31, 16, 35, 5, 17, 1, 10, 14, 35, 2, 4, 12, 17, 20, 21, 7, 7, 12, 14, 24, 23, 5, 9, 22, 2, 7, 8, 9, 14, 15, 18, 20, 23, 26, 27, 29, 36, 32, 1, 5, 12, 14, 15, 16, 17, 21, 25, 26, 30, 36, 16, 13, 32, 16, 15, 35, 3, 7, 20, 5, 1, 2, 3, 5, 7, 8, 10, 12, 13, 14, 16, 17, 18, 23, 24, 25, 27, 28, 30, 33, 36, 17, 35, 1, 16, 26, 17, 11, 30, 15, 2, 17, 15, 7, 1, 12, 30, 16, 17, 6, 36, 1, 7, 32, 5, 14, 2, 20, 13, 17, 34, 7, 8, 14, 12, 12, 18, 21, 22, 28, 24, 31, 19, 15, 31, 8, 36, 32, 28, 18, 1, 8, 30, 34, 33, 28, 34, 19, 11, 1, 4, 9, 34, 11, 30, 26, 30, 2, 4, 5, 6, 7, 10, 11, 12, 13, 14, 15, 21, 22, 24, 27, 28, 29, 30, 33, 35, 36, 5, 12, 35, 1, 2, 3, 14, 31, 12, 10, 32, 4, 23, 28, 4, 18, 16, 26, 21, 23, 25, 26, 2, 7, 35, 5, 10, 31, 1, 9, 11, 18, 19, 22, 26, 27, 33, 29, 5, 6, 9, 11, 17, 18, 20, 22, 6, 33, 20, 26, 23, 23, 27, 34, 27, 28, 3, 32, 12, 20, 32, 23, 35, 34, 22, 12, 17, 26, 1, 16, 27, 2, 1, 4, 6, 9, 16, 20, 23, 24, 31, 32, 32, 24, 25, 14, 22, 4, 22, 7, 30, 31, 32, 17, 18, 12, 5, 11, 19, 25, 11, 3, 5, 6, 7, 8, 10, 11, 15, 16, 17, 18, 19, 20, 21, 22, 23, 24, 25, 27, 30, 31, 33, 31, 13, 3, 23, 1, 12, 18, 23, 24, 33, 15, 5, 17, 26, 28, 35, 4, 27, 31, 17, 15, 34, 33, 34, 8, 34, 24, 36, 36, 35, 19, 5, 16, 27, 2, 35, 23, 18, 29, 36, 14, 10, 9, 1, 24, 14, 30, 13, 14, 8, 13, 15, 16, 21, 22, 25, 26, 28, 29, 30, 31, 32, 35, 31, 3, 7, 8, 18, 28, 2, 6, 34, 26, 16, 1, 3, 17, 4, 7, 4, 26, 16, 1, 3, 8, 21, 34, 36, 14, 36, 12, 36, 3, 6, 15, 22, 6, 21, 6, 21, 36, 23, 18, 33, 36, 11, 26, 14, 3, 17, 3, 1, 2, 7, 16, 24, 7, 9, 2, 22, 26, 9, 32, 36, 14, 1, 3, 33, 11, 9, 28, 22, 15, 22, 24, 4, 19, 35, 3, 28, 11, 19, 36, 11, 18, 5, 17, 5, 25, 17, 21, 17, 5, 31, 19, 32, 34, 1, 8, 19, 30, 9, 20, 7, 35, 35, 20, 30, 16, 11, 28, 20, 18, 30, 6, 7, 32, 28, 30, 22, 22, 3, 10, 12, 22, 25, 26, 29, 33, 34, 35, 25, 25, 11, 12, 29, 6, 27, 18, 22, 26, 15, 33, 33, 2, 30, 36, 19, 16, 4, 28, 10, 6, 9, 24, 6, 25, 33, 26, 4, 22, 25, 3, 5, 29, 1, 21, 14, 11, 13, 32, 26, 23, 2, 4, 13, 17, 19, 8, 10, 36, 18, 25, 27, 35, 20, 25, 1, 2, 3, 11, 12, 13, 16, 17, 21, 23, 31, 18, 16, 16, 11, 30, 17, 6, 20, 9, 15, 16, 16, 18, 32, 4, 16, 1, 14, 20, 23, 31, 5, 1, 2, 4, 19, 36, 24, 21, 6, 28, 12, 15, 16, 24, 25, 3, 20, 1, 2, 8, 22, 36, 4, 29, 34, 5, 16, 2, 3, 9, 10, 11, 12, 13, 14, 17, 18, 20, 21, 22, 23, 24, 25, 26, 31, 32, 35, 9, 16, 5, 28, 13, 6, 23, 9, 19, 9, 18, 8, 32, 35, 1, 8, 1, 16, 32, 8, 5, 10, 28, 34, 31, 1, 27, 18, 23, 14, 17, 19, 22, 9, 14, 23, 10, 28, 1, 15, 34, 4, 16, 23, 19, 6, 10, 12, 17, 23, 35, 11, 24, 26, 20, 29, 10, 14, 18, 28, 33, 6, 30, 11, 14, 32, 5, 16, 1, 3, 27, 15, 28, 24, 34, 14, 15, 19, 11, 21, 18, 12, 2, 20, 29, 36, 21, 25, 30, 33, 4, 18, 27, 4, 2, 27, 26, 3, 32, 27, 4, 1, 22, 33, 12, 3, 6, 10, 35, 26, 27, 23, 2, 4, 5, 10, 16, 20, 22, 24, 25, 32, 33, 17, 11, 11, 23, 27, 34, 1, 2, 14, 22, 16, 9, 14, 27, 29, 30, 27, 31, 12, 17, 18, 19, 29, 5, 24, 29, 1, 2, 3, 4, 5, 6, 7, 8, 9, 10, 11, 13, 14, 16, 17, 18, 19, 20, 21, 22, 23, 24, 25, 26, 27, 28, 29, 30, 31, 32, 33, 34, 36, 16, 1, 36, 4, 11, 25, 1, 5, 6, 8, 11, 14, 15, 16, 23, 24, 30, 32, 35, 36, 32, 3, 4, 5, 6, 7, 9, 10, 12, 14, 16, 17, 18, 20, 24, 26, 28, 29, 30, 31, 32, 33, 34, 35, 36, 6, 5, 27, 11, 12, 19, 13, 34, 30, 1, 18, 10, 25, 5, 36, 19, 22, 1, 8, 17, 8, 17, 18, 27, 2, 8, 21, 3, 36, 26, 8, 11, 12, 25, 36, 1, 9, 11, 27, 33, 1, 5, 6, 9, 11, 22, 24, 26, 30, 31, 27, 9, 3, 6, 11, 25, 31, 36, 33, 36, 31, 32, 11, 20, 22, 2, 21, 3, 4, 12, 15, 24, 33, 35, 28, 6, 18, 19, 8, 15, 3, 25, 16, 2, 9, 30, 21, 14, 25, 23, 22, 15, 33, 35, 11, 18, 22, 4, 20, 4, 9, 3, 22, 36, 1, 8, 16, 36, 7, 4, 31, 9, 1, 10, 22, 24, 26, 27, 10, 13, 24, 3, 6, 27, 28, 31, 21, 23, 2, 26, 32, 16, 29, 36, 13, 5, 6, 13, 17, 20, 22, 23, 24, 26, 30, 32, 3, 5, 8, 9, 10, 15, 17, 19, 20, 21, 25, 32, 35, 36, 5, 10, 28, 19, 25, 34, 5, 6, 7, 9, 20, 5, 6, 1, 2, 3, 5, 6, 7, 8, 9, 11, 12, 13, 14, 15, 19, 21, 23, 24, 25, 27, 28, 29, 30, 31, 32, 33, 34, 36, 34, 29, 17, 7, 32, 25, 31, 22, 2, 13, 10, 11, 20, 14, 18, 20, 24, 30, 27, 20, 12, 24, 13, 9, 15, 21, 4, 9, 15, 10, 11, 8, 24, 32, 15, 9, 26, 33, 29, 28, 33, 2, 8, 8, 25, 17, 28, 1, 10, 1, 8, 19, 31, 33, 3, 15, 17, 20, 33, 4, 7, 9, 11, 15, 16, 17, 35, 21, 7, 22, 4, 6, 21, 24, 32, 10, 3, 11, 20, 9, 24, 34, 10, 34], \"Freq\": [0.9630061226884927, 0.006173116171080082, 0.006173116171080082, 0.006173116171080082, 0.006173116171080082, 0.006173116171080082, 0.9640763120304991, 0.014607216848946957, 0.9607025655732659, 0.9858090366884431, 0.9752324515233676, 0.9426492390446016, 0.9817866793477206, 0.9802465137388418, 0.9719730712453232, 0.9408891802798335, 0.02001891872935816, 0.02001891872935816, 0.016031594812538703, 0.919144769252219, 0.0017812883125043004, 0.0017812883125043004, 0.0017812883125043004, 0.008906441562521503, 0.024938036375060205, 0.008906441562521503, 0.0017812883125043004, 0.0017812883125043004, 0.0017812883125043004, 0.003562576625008601, 0.0017812883125043004, 0.9783394786020191, 0.9451675416784406, 0.9693747965848116, 0.9895820321903526, 0.9691655233683745, 0.9576012964620624, 0.9712082402218434, 0.00662615319085601, 0.9607922126741215, 0.00662615319085601, 0.019878459572568032, 0.9771162283717482, 0.9764818552714833, 0.004728474891542822, 0.9787943025493642, 0.009456949783085644, 0.9794684730166592, 0.9865196090831845, 0.9728030147728249, 0.982323659472825, 0.9681780797642118, 0.9601570337532225, 0.9539889105571897, 0.9927743041604786, 0.9585799271378778, 0.96342895208927, 0.987890583504371, 0.9513248792958128, 0.010526411751604844, 0.005263205875802422, 0.005263205875802422, 0.9736930870234481, 0.005263205875802422, 0.9789295136129824, 0.9451799094599106, 0.9748969882750981, 0.924035527978607, 0.9906507898105009, 0.9586550601558399, 0.21839736243336827, 0.7643907685167889, 0.9796695127903186, 0.9846846722383311, 0.9337041994393492, 0.980440816810993, 0.9816289219083488, 0.039715780939900615, 0.9531787425576147, 0.9166013088756186, 0.04583006544378093, 0.9648789050910656, 0.9527098415910326, 0.9785337948280315, 0.9466119144146228, 0.9694073172261136, 0.9800778154584407, 0.9802922495857639, 0.9976602863304009, 0.9567028379718883, 0.04999142291701524, 0.0027022390765954188, 0.0027022390765954188, 0.01621343445957251, 0.010808956306381675, 0.027022390765954186, 0.024320151689358766, 0.8485030700509615, 0.0027022390765954188, 0.0013511195382977094, 0.004053358614893128, 0.0013511195382977094, 0.004053358614893128, 0.9774906729553702, 0.9523319435761826, 0.9492576426465712, 0.9848938449410337, 0.015501503277630857, 0.8525826802696972, 0.09300901966578515, 0.015501503277630857, 0.9803140417271181, 0.014942554541712208, 0.9862085997530057, 0.9735527353139702, 0.9523621197507646, 0.9897992293920634, 0.9674810436712444, 0.971951310291587, 0.02062091495306943, 0.9691830027942632, 0.9809748538432854, 0.9821252349489848, 0.969377517483296, 0.9630124346811254, 0.9816286139091475, 0.9713395260855774, 0.9834252782779144, 0.9690957945831362, 0.9582302681778399, 0.9377707257069018, 0.9829405687361222, 0.9440036315774212, 0.9355324478171698, 0.9749208591991239, 0.9867306864955478, 0.01259353808379057, 0.9822959705356644, 0.002518707616758114, 0.9727145220344369, 0.006491932984735494, 0.006491932984735494, 0.9737899477103242, 0.9629988188113756, 0.02265879573673825, 0.011329397868369125, 0.932845950796955, 0.9764235356779171, 0.9924610629647513, 0.9827878389405575, 0.004770814752138628, 0.004770814752138628, 0.9881844446219911, 0.007418519727114085, 0.9161871862985895, 0.0037092598635570426, 0.0037092598635570426, 0.007418519727114085, 0.03338333877201338, 0.007418519727114085, 0.0037092598635570426, 0.0037092598635570426, 0.0037092598635570426, 0.0037092598635570426, 0.9634014433224907, 0.3576938286789455, 0.613189420592478, 0.9703532852785367, 0.9680773437462182, 0.9935532056888056, 0.9839997620092001, 0.9694471352004727, 0.9607828152386145, 0.9431829428028208, 0.9908180522185318, 0.9768912159914955, 0.9915733883316479, 0.9865585759606011, 0.9744602178840905, 0.9880933934434665, 0.9827725443371371, 0.9869777375548495, 0.0030556586302007724, 0.0030556586302007724, 0.9632590451657128, 0.94576624730511, 0.9803240901365156, 0.9773641682147538, 0.9781712143751075, 0.9807026702420037, 0.9710403831764227, 0.9668231747470589, 0.9707656599867187, 0.9648791643697672, 0.9921217022094787, 0.9815139400034023, 0.9899129930314846, 0.991774512471906, 0.9811072011232546, 0.9638141401662943, 0.9834177275938824, 0.9798086295126396, 0.9816180553790005, 0.9921402740317952, 0.9250773878425487, 0.9771566595412801, 0.9514534611623346, 0.028831923065525292, 0.017036615895460884, 0.9710871060412704, 0.9265746319319689, 0.06863515792088659, 0.9672645358126525, 0.010181731955922658, 0.010181731955922658, 0.9868429980493492, 0.9825770577781447, 0.9371610122296993, 0.04074613096650866, 0.9858753331927539, 0.9894525651336097, 0.9913061228602891, 0.9661929543768681, 0.9910132294390779, 0.9635475498548057, 0.9898727023456906, 0.986374294278016, 0.9663806525140614, 0.019327613050281228, 0.9867631105563345, 0.9655676209149346, 0.9889521912863857, 0.9639486257057865, 0.9728083274416469, 0.023162103034324928, 0.9276331363877793, 0.03865138068282414, 0.9898903217381927, 0.023793579619847807, 0.9517431847939123, 0.9920250233410458, 0.9446654209943, 0.9621876024413639, 0.9444781928276417, 0.9620400132380076, 0.9634254093364875, 0.9846834730911272, 0.05387062365411192, 0.9158006021199026, 0.9830979659402294, 0.011046044561126171, 0.9461898114290803, 0.9459369755997266, 0.954974509965421, 0.9842843120962175, 0.004768908560099727, 0.9871640719406435, 0.01299517830514234, 0.9746383728856755, 0.9742016825792723, 0.9724640840561054, 0.9554246380769126, 0.0387276773876563, 0.004556197339724271, 0.011390493349310676, 0.02505908536848349, 0.052396269406829114, 0.07973345344517474, 0.07289915743558834, 0.0387276773876563, 0.06378676275613979, 0.0455619733972427, 0.03189338137806989, 0.004556197339724271, 0.015946690689034947, 0.02961528270820776, 0.018224789358897084, 0.02278098669862135, 0.02505908536848349, 0.07289915743558834, 0.02278098669862135, 0.0022780986698621355, 0.06834296009586406, 0.011390493349310676, 0.0022780986698621355, 0.02505908536848349, 0.04328387472738057, 0.02505908536848349, 0.04784007206710484, 0.07973345344517474, 0.006834296009586406, 0.009112394679448542, 0.984555392671657, 0.9529457901746491, 0.9425755566515289, 0.025337441896488854, 0.9121479082735987, 0.05574237217227548, 0.9878983886643845, 0.01160176146567602, 0.9745479631167857, 0.9801171014642415, 0.01306822801952322, 0.023722746116919855, 0.9370484716183343, 0.023722746116919855, 0.15525834562198818, 0.8206512554305089, 0.9692241261825655, 0.008810789532711147, 0.008810789532711147, 0.9251329009346705, 0.017621579065422294, 0.008810789532711147, 0.008810789532711147, 0.008810789532711147, 0.9747330071770167, 0.9210414565034726, 0.9813963835667843, 0.9913836784351074, 0.9660782817075012, 0.025762087512200032, 0.9462608682861753, 0.03379503101022055, 0.9668926084558008, 0.9467844710994928, 0.04234046144337343, 0.9314901517542155, 0.9774805602520411, 0.9899479114792159, 0.006226087493579975, 0.9499579794949663, 0.9910306933545451, 0.9792804730618488, 0.9588326008923458, 0.9740401559612497, 0.9731927322239616, 0.9812802782316571, 0.9912759884762613, 0.97060609561593, 0.9566745887272653, 0.9836850920534363, 0.017257633193919937, 0.9553367411363825, 0.9714755062321092, 0.9661418497427469, 0.9947744508417241, 0.9749510263420694, 0.014551507855851782, 0.9735208977299008, 0.010036297914741246, 0.9870349483426902, 0.9842866765579041, 0.9881253008480994, 0.055723022074638424, 0.919429864231534, 0.9588981516533758, 0.9918488410040942, 0.9542644456660776, 0.9834406109272736, 0.9929004258347752, 0.012706618117021702, 0.9529963587766277, 0.012706618117021702, 0.9621734868824087, 0.881713023891791, 0.01632801896095909, 0.08164009480479545, 0.9518809344847755, 0.9891686677272546, 0.9934426101699515, 0.9647787803296685, 0.957005324236544, 0.9762053081896651, 0.9804854788283145, 0.9569981017969399, 0.9730231009316423, 0.01737541251663647, 0.9816038804901521, 0.9741634086345675, 0.9672560595522003, 0.9954867221328594, 0.9822721365476508, 0.8115633583035677, 0.16231267166071356, 0.01159376226147954, 0.9817922199159017, 0.9792783722424135, 0.9875023991217657, 0.9836289027700297, 0.9587142703994175, 0.958149016052133, 0.025214447790845605, 0.9653114759809348, 0.9910934209611812, 0.9701220429415112, 0.009708361938221553, 0.9805445557603769, 0.9503763268197953, 0.9443346431642246, 0.9832147334221698, 0.9833545886735957, 0.0800464504872305, 0.9090989733906892, 0.9638594970653235, 0.014385962642766021, 0.9812614012234002, 0.05394475874700265, 0.9440332780725464, 0.9851523375102255, 0.9746521794998787, 0.9659824919068776, 0.05343629117417282, 0.022901267646074065, 0.007633755882024688, 0.030535023528098754, 0.15267511764049377, 0.007633755882024688, 0.015267511764049377, 0.6641367617361479, 0.007633755882024688, 0.03816877941012344, 0.9880564476627126, 0.949472236972003, 0.9549292951260488, 0.9608875277443717, 0.9740138484344996, 0.9502504450350436, 0.9774529326962359, 0.9816864925326338, 0.9873733544476799, 0.957232985322797, 0.027497506168835992, 0.9074177035715877, 0.027497506168835992, 0.9714276692023365, 0.08832156570055016, 0.0249328821834089, 0.048597990696474976, 0.38286764844353327, 0.01732624016135195, 0.004648503457923693, 0.0033807297875808676, 0.0025355473406856507, 0.03930098378062759, 0.018171422608247164, 0.008451824468952169, 0.014790692820666296, 0.0012677736703428253, 0.0016903648937904338, 0.012255145479980646, 0.07015014309230301, 0.018171422608247164, 0.013100327926875863, 0.008451824468952169, 0.0021129561172380422, 0.013100327926875863, 0.014368101597218689, 0.008874415692399778, 0.010142189362742603, 0.026623247077199333, 0.01394551037377108, 0.05874018005921758, 0.029158794417884985, 0.0021129561172380422, 0.01732624016135195, 0.0008451824468952169, 0.017748831384799556, 0.00549368590481891, 0.0008451824468952169, 0.9509418254260213, 0.9923721550466013, 0.9520762328383091, 0.024412211098418183, 0.9209440126668335, 0.02192723839682937, 0.04385447679365874, 0.9826449939426405, 0.01660244712608297, 0.01660244712608297, 0.9463394861867293, 0.9491543577424764, 0.97673842591656, 0.9740263344729697, 0.9824553619686565, 0.9615326061529603, 0.9854706803149373, 0.9524278509981262, 0.9573063861416443, 0.9386196678395784, 0.9715507640645848, 0.9693807302077507, 0.9789393752103799, 0.014828449022539696, 0.0024714081704232827, 0.0024714081704232827, 0.007414224511269848, 0.007414224511269848, 0.00988563268169313, 0.017299857192962977, 0.0024714081704232827, 0.909478206715768, 0.0024714081704232827, 0.00988563268169313, 0.0024714081704232827, 0.0024714081704232827, 0.9752054927694294, 0.9562245132497164, 0.02451857726281324, 0.9825305391813312, 0.020968882713606203, 0.005242220678401551, 0.9698108255042869, 0.9568430859097874, 0.9653583473020146, 0.9252095738953718, 0.9814593185565913, 0.9493673021889641, 0.011539800740919275, 0.0057699003704596375, 0.9635733618667593, 0.0057699003704596375, 0.9834393591744917, 0.010351993254468334, 0.9802674347129052, 0.9890430602643037, 0.953409454726651, 0.991778014228253, 0.9859291705651217, 0.9886696959469917, 0.9834388082335167, 0.9609302455722974, 0.013926525298149238, 0.9878357095856668, 0.9781617106050029, 0.9754884879285853, 0.9007902678152462, 0.09138451992328585, 0.017587041844245574, 0.949700259589261, 0.017587041844245574, 0.9636724870876083, 0.9576877849862088, 0.9706475093245631, 0.9329323741499991, 0.9492415287930784, 0.9637129476961892, 0.969151312975765, 0.026193278729074728, 0.9888831013440649, 0.9655157974290483, 0.9701188984436798, 0.9755073188569725, 0.011476556692434971, 0.011476556692434971, 0.9813973460110185, 0.9883928760538234, 0.9534460427682659, 0.9913401661699741, 0.9963580594593728, 0.9771877302701235, 0.8921001693974682, 0.04460500846987341, 0.02973667231324894, 0.01486833615662447, 0.9644473066044906, 0.9757369860510483, 0.04382474806400871, 0.04382474806400871, 0.029216498709339143, 0.8764949612801742, 0.9932509313795941, 0.9706036926857134, 0.9486363155091401, 0.9866324808641204, 0.9740828334480309, 0.9466461418287011, 0.9645578838397838, 0.9894185130137507, 0.010080416386722886, 0.8265941437112767, 0.1411258294141204, 0.9713687754534629, 0.9780759437091027, 0.9709016755602013, 0.019814319909391864, 0.9652796204813368, 0.9747835926558205, 0.9822505663675828, 0.9775375696239039, 0.9698608875186024, 0.013216184765425285, 0.8722681945180688, 0.09251329335797699, 0.9899182871027017, 0.9706960770245027, 0.9933442657413385, 0.919691516523079, 0.040875178512136845, 0.020437589256068422, 0.020437589256068422, 0.967816787909478, 0.962728694140034, 0.9538245968294605, 0.933683112052607, 0.981272647530016, 0.9967949045993277, 0.009639644712922647, 0.009639644712922647, 0.9736041160051873, 0.9806018557089883, 0.9800444261758625, 0.972649792022889, 0.9420941049884652, 0.960317632005915, 0.9584706455989862, 0.9528923486173311, 0.9922574323264759, 0.9901432860806817, 0.8886045849925536, 0.08078223499932305, 0.0024878970227877172, 0.0024878970227877172, 0.0024878970227877172, 0.0024878970227877172, 0.9901830150695115, 0.9488421302383216, 0.9797313983995487, 0.9853189232316063, 0.004714444608763666, 0.969575202999883, 0.8823402557649652, 0.08403240531094906, 0.9656407092731807, 0.9799885966764025, 0.978504835707487, 0.9806346219469957, 0.9812429723429639, 0.9691127216533325, 0.9902077599006177, 0.9820285433974969, 0.005977451743145227, 0.005977451743145227, 0.9803020858758172, 0.005977451743145227, 0.9749352468582976, 0.9952263572783481, 0.9514979312010083, 0.9783260286002571, 0.9935385865212641, 0.9677738684768924, 0.9751668058991512, 0.9628902478714768, 0.9602228246551873, 0.9748446813918762, 0.9727040192192614, 0.9796706477795399, 0.005838803455825686, 0.011677606911651373, 0.969241373667064, 0.9475160216669724, 0.9683874300470144, 0.02361920561090279, 0.9735672395832216, 0.011347870903863171, 0.9759168977322328, 0.00732635156274047, 0.9890574609699634, 0.9829644275377948, 0.02831158497846339, 0.9342823042892919, 0.9847737971536094, 0.9769860721006683, 0.9743319593989817, 0.9900684769290791, 0.00733384056984503, 0.9455769522132694, 0.9919797696404706, 0.9911804183642666, 0.03347059381283161, 0.937176626759285, 0.015475822466360475, 0.9362872592148087, 0.007737911233180237, 0.007737911233180237, 0.02321373369954071, 0.007737911233180237, 0.9799270397917712, 0.004560945923933406, 0.9646400629119154, 0.0068414188859001095, 0.004560945923933406, 0.0068414188859001095, 0.002280472961966703, 0.0068414188859001095, 0.954851865572486, 0.9881943675368642, 0.9509075067622734, 0.9828392815854238, 0.6978850124118227, 0.01971426588733962, 0.023657119064807546, 0.0413999583634132, 0.00985713294366981, 0.015771412709871698, 0.031542825419743396, 0.01774283929860566, 0.005914279766201886, 0.031542825419743396, 0.0039428531774679245, 0.00985713294366981, 0.0019714265887339623, 0.08674276990429433, 0.9905621689929592, 0.008133385984471836, 0.9841397041210922, 0.9723075414228647, 0.9641137764369552, 0.9877243328181807, 0.9810936088564424, 0.955955658325337, 0.15420951191578341, 0.07304661090747636, 0.04869774060498423, 0.04058145050415353, 0.028407015352907468, 0.28001200847865937, 0.07304661090747636, 0.04058145050415353, 0.09333733615955311, 0.03246516040332282, 0.004058145050415352, 0.08522104605872241, 0.01623258020166141, 0.008116290100830705, 0.012174435151246058, 0.012174435151246058, 0.9823361282125477, 0.9503214727297185, 0.024604857857620975, 0.959589456447218, 0.34876247315926623, 0.6277724516866792, 0.9364183951618122, 0.013620631202353631, 0.0408618936070609, 0.006810315601176816, 0.9910897299832022, 0.01665318740593698, 0.9658848695443447, 0.009512181610840668, 0.9797547059165888, 0.009512181610840668, 0.9798548392300612, 0.9910101431668877, 0.010047813764484957, 0.010047813764484957, 0.010047813764484957, 0.9645901213905559, 0.13720020081942091, 0.07513344330587336, 0.049000071721221755, 0.009800014344244351, 0.07513344330587336, 0.013066685792325802, 0.3822005594255297, 0.013066685792325802, 0.04246672882505886, 0.026133371584651604, 0.032666714480814506, 0.019600028688488702, 0.026133371584651604, 0.058800086065466106, 0.03593338592889595, 0.960783933215603, 0.9509670681199174, 0.982450840796109, 0.9892585009789518, 0.9813960904396025, 0.9704384092422979, 0.9478438157851737, 0.6435208160660288, 0.018927082825471436, 0.009463541412735718, 0.12302603836556433, 0.018927082825471436, 0.1608802040165072, 0.009463541412735718, 0.9668029338660494, 0.9463019801850286, 0.9449353036705046, 0.9372026671772924, 0.961935787054721, 0.9797884263241464, 0.956391656824882, 0.9811165185477715, 0.0063985347581016925, 0.9853743527476607, 0.9668821663493486, 0.9534254543162723, 0.9641485884396379, 0.00343497828961596, 0.00343497828961596, 0.9514889862236209, 0.00686995657923192, 0.00343497828961596, 0.00686995657923192, 0.00343497828961596, 0.00343497828961596, 0.01030493486884788, 0.97345131279688, 0.9496919533445448, 0.9583426638362061, 0.005160542447941945, 0.015481627343825837, 0.006880723263922594, 0.9013747475738598, 0.005160542447941945, 0.003440361631961297, 0.003440361631961297, 0.01032108489588389, 0.0017201808159806485, 0.02408253142372908, 0.02236235060774843, 0.9606244659183201, 0.9865524600153687, 0.951281713722406, 0.9833700259692214, 0.008127025008010094, 0.969868621489842, 0.02158395837243034, 0.949694168386935, 0.9857370117735343, 0.9902055435555791, 0.9795238685146374, 0.018531430084205786, 0.9636343643787008, 0.9839805928376578, 0.9786804683500416, 0.9370287487828987, 0.002026003314459881, 0.9947676273998015, 0.002026003314459881, 0.9933240665660091, 0.9644755409215519, 0.013548926885778882, 0.0038711219673653948, 0.04645346360838474, 0.6348640026479248, 0.0019355609836826974, 0.0019355609836826974, 0.12194034197200994, 0.005806682951048092, 0.0019355609836826974, 0.0009677804918413487, 0.0019355609836826974, 0.0009677804918413487, 0.016452268361302928, 0.0038711219673653948, 0.0038711219673653948, 0.002903341475524046, 0.0019355609836826974, 0.0019355609836826974, 0.005806682951048092, 0.01451670737762023, 0.005806682951048092, 0.09484248820045217, 0.002903341475524046, 0.0009677804918413487, 0.0009677804918413487, 0.0009677804918413487, 0.0038711219673653948, 0.0009677804918413487, 0.8896526722172684, 0.08554352617473736, 0.006016928642175382, 0.1684740019809107, 0.018050785926526144, 0.006016928642175382, 0.7460991516297473, 0.006016928642175382, 0.006016928642175382, 0.006016928642175382, 0.006016928642175382, 0.018050785926526144, 0.012033857284350764, 0.9650921631338056, 0.00841693813829161, 0.00841693813829161, 0.00841693813829161, 0.00841693813829161, 0.9595309477652434, 0.00881382576122304, 0.9695208337345345, 0.00881382576122304, 0.9589861965481375, 0.006114326348359804, 0.006114326348359804, 0.9782922157375687, 0.006114326348359804, 0.006114326348359804, 0.6794846936632234, 0.007549829929591371, 0.18874574823978427, 0.09814778908468783, 0.022649489788774114, 0.9498735178395886, 0.990765630777374, 0.981879922070314, 0.9776106180093262, 0.9921565299730676, 0.04983613625832976, 0.913662498069379, 0.016612045419443253, 0.9930045863879783, 0.9719740701637702, 0.9482431535907514, 0.9888363973683729, 0.8208230455369199, 0.14657554384587856, 0.946350666516269, 0.989538936616139, 0.0057755036990729145, 0.09240805918516663, 0.14438759247682287, 0.0057755036990729145, 0.011551007398145829, 0.0057755036990729145, 0.7219379623841143, 0.0057755036990729145, 0.9699265008526697, 0.9406868451821615, 0.9836399797018147, 0.009164347636973429, 0.9883498965672088, 0.005953915039561499, 0.9795599560266062, 0.9633576380274083, 0.9828952480889307, 0.9614941996040166, 0.982116975593587, 0.9867247846338577, 0.9786230703750738, 0.03989096999178927, 0.5235689811422342, 0.03158035124349984, 0.0016621237496578863, 0.0016621237496578863, 0.03158035124349984, 0.04487734124076293, 0.0033242474993157725, 0.05817433123802602, 0.06316070248699968, 0.04321521749110504, 0.0016621237496578863, 0.011634866247605204, 0.014959113746920976, 0.018283361246236748, 0.02326973249521041, 0.009972742497947317, 0.06316070248699968, 0.004986371248973658, 0.004986371248973658, 0.0016621237496578863, 0.9888932949670589, 0.9667905736607261, 0.9356445473919324, 0.0017456054988655456, 0.012219238492058818, 0.0017456054988655456, 0.024438476984117635, 0.012219238492058818, 0.003491210997731091, 0.003491210997731091, 0.0017456054988655456, 0.93401637381451, 0.9789906363550465, 0.013981892297777701, 0.9787324608444391, 0.9720755902128384, 0.018001399818756265, 0.9805880804811399, 0.9638407847228667, 0.9848651780697074, 0.006734118505849689, 0.9831813018540546, 0.9474949407225667, 0.007221821007787148, 0.9677240150434779, 0.007221821007787148, 0.013038050102735035, 0.9778537577051276, 0.004346016700911678, 0.9809722858030326, 0.9600242414859237, 0.9754801925706477, 0.988313519756157, 0.9425116781867174, 0.01024469215420345, 0.0409787686168138, 0.953546233338517, 0.9838374598081716, 0.9626955771157181, 0.9832743074828836, 0.7750310824071256, 0.1937577706017814, 0.9789889206463464, 0.9788534393890557, 0.00795815804381346, 0.9778545563396612, 0.9721641910175896, 0.9757494482716145, 0.9835894739553984, 0.016517771095639674, 0.9662896090949209, 0.009306391049501551, 0.9864774512471645, 0.9673162710433441, 0.981915298204313, 0.941257367896871, 0.007733868552688445, 0.7366509796435744, 0.013534269967204778, 0.06573788269785179, 0.0019334671381721113, 0.0019334671381721113, 0.056070547006991225, 0.0019334671381721113, 0.021268138519893225, 0.017401204243549, 0.05413707986881911, 0.0019334671381721113, 0.005800401414516334, 0.009667335690860555, 0.9694831601129262, 0.9880210885901838, 0.9773956492751175, 0.9800879371920922, 0.9637145688164872, 0.9595811777759963, 0.9653936423368645, 0.9908876732747176, 0.9196571170326902, 0.031154737089197818, 0.9657968497651324, 0.977811561562414, 0.9731909575586456, 0.9725942502108307, 0.979306187223568, 0.017070931638273633, 0.9559721717433234, 0.017070931638273633, 0.9735848719417566, 0.97013821733089, 0.9764963890395038, 0.006642832578500025, 0.006642832578500025, 0.030256263736721627, 0.968200439575092, 0.9589594576380702, 0.9819094414194472, 0.9756617896163874, 0.009277298843531743, 0.003092432947843914, 0.7792931028566663, 0.027831896530595226, 0.03710919537412697, 0.012369731791375656, 0.034016762426283056, 0.006184865895687828, 0.012369731791375656, 0.003092432947843914, 0.003092432947843914, 0.012369731791375656, 0.003092432947843914, 0.009277298843531743, 0.006184865895687828, 0.009277298843531743, 0.027831896530595226, 0.9566458566344468, 0.9913729126947524, 0.947051921987305, 0.9402208357919611, 0.9713209004465213, 0.9688301908383757, 0.9546533513619393, 0.08663022110960002, 0.005775348073973335, 0.8143240784302402, 0.005775348073973335, 0.005775348073973335, 0.08085487303562669, 0.9897437101801949, 0.9704515623385339, 0.9823716595143749, 0.9550103629606118, 0.9847979659661367, 0.9684573534591645, 0.9647646843860765, 0.9520470926053796, 0.027201345503010847, 0.03848226096104379, 0.8850920021040073, 0.9615806002945673, 0.9721326776156752, 0.935698259095277, 0.9592099746278389, 0.9766929596016143, 0.968559639850643, 0.9847494080153343, 0.9737190059395663, 0.9511052092991935, 0.9559988139605844, 0.006752946200875742, 0.006752946200875742, 0.9859301453278584, 0.9759973927485992, 0.9795297087852035, 0.9807551487156057, 0.9748343711393167, 0.9623551463404132, 0.9775242417161836, 0.9892182471861953, 0.9401438724768342, 0.9542275281465862, 0.9893225995847525, 0.9821374271937119, 0.9868130853093668, 0.9612366387881806, 0.9764604075478078, 0.9659187644592867, 0.9850553080411856, 0.9771482852140938, 0.9777756281054899, 0.9740094937120207, 0.9648641088732339, 0.9731474437934957, 0.01046395051266195, 0.9626834471648994, 0.01046395051266195, 0.7700694900853651, 0.03581718558536582, 0.1790859279268291, 0.1688601176286276, 0.0180921554602101, 0.024122873946946802, 0.0844300588143138, 0.0422150294071569, 0.0060307184867367004, 0.0844300588143138, 0.3980274201246222, 0.0361843109204202, 0.0060307184867367004, 0.0542764663806303, 0.0361843109204202, 0.0301535924336835, 0.9651746972852083, 0.9501089723851961, 0.0034412733404273793, 0.0034412733404273793, 0.0034412733404273793, 0.0034412733404273793, 0.006882546680854759, 0.0034412733404273793, 0.9738803553409483, 0.9552820416580993, 0.9789629337955272, 0.9866317313243895, 0.9811794769026306, 0.9869875779355182, 0.012857548294046615, 0.9771736703475427, 0.12465997686565808, 0.8570373409513993, 0.9847028307431454, 0.9460725151727112, 0.01437039091451989, 0.9771865821873525, 0.9538489933196919, 0.008015537758989007, 0.008015537758989007, 0.008015537758989007, 0.016031075517978013, 0.004007768879494503, 0.9650095104261213, 0.016818232204888067, 0.005606077401629356, 0.005606077401629356, 0.9642453130802492, 0.9850896888947858, 0.9829789211220334, 0.958269257790874, 0.023372420921728636, 0.0021033623423498504, 0.005258405855874626, 0.0021033623423498504, 0.003155043513524776, 0.9517714599133074, 0.0010516811711749252, 0.013671855225274029, 0.0021033623423498504, 0.0010516811711749252, 0.003155043513524776, 0.003155043513524776, 0.0010516811711749252, 0.006310087027049552, 0.9679686259316777, 0.002648035017490601, 0.002648035017490601, 0.9612367113490881, 0.002648035017490601, 0.007944105052471803, 0.002648035017490601, 0.005296070034981202, 0.005296070034981202, 0.002648035017490601, 0.002648035017490601, 0.002648035017490601, 0.005296070034981202, 0.9368701589836838, 0.9807851995894125, 0.9841668957827091, 0.9865551443459474, 0.964588035347494, 0.9463788182823827, 0.9760723238163574, 0.9718867510986615, 0.014292452222039141, 0.933879857304568, 0.0006570922442098087, 0.00525673795367847, 0.9146724039400538, 0.0019712767326294264, 0.002628368976839235, 0.0019712767326294264, 0.004599645709468661, 0.014456029372615793, 0.0019712767326294264, 0.024969505279972732, 0.0013141844884196174, 0.0006570922442098087, 0.0006570922442098087, 0.002628368976839235, 0.002628368976839235, 0.0013141844884196174, 0.003942553465258853, 0.0032854612210490436, 0.0006570922442098087, 0.004599645709468661, 0.006570922442098087, 0.9785512099565923, 0.9962562667076619, 0.276155875629409, 0.7083998548754405, 0.006003388600639327, 0.9754801925706477, 0.9793790667169041, 0.986417083903313, 0.9853278059933827, 0.004411848466666491, 0.9926659049999605, 0.9851415441620623, 0.985946199111563, 0.007818021421239161, 0.9850706990761343, 0.9910484032156399, 0.9673340682332593, 0.9798773017047815, 0.9738969120080498, 0.992162764633773, 0.9476090446938479, 0.1746273530225736, 0.7683603532993237, 0.986985802159558, 0.9895693314745283, 0.9575413538274308, 0.9588659077913484, 0.9708760656073413, 0.9656338655293982, 0.9791922885406558, 0.9858965709201459, 0.03504466540683508, 0.9512123467569522, 0.9601257821425357, 0.9690824106970345, 0.011581471139259399, 0.9786343112674193, 0.005790735569629699, 0.9900939407462771, 0.9860198835403914, 0.9852527535993223, 0.9717488374976225, 0.9883697378990582, 0.9790955295387409, 0.9780857438473586, 0.9803797889069452, 0.9543066177222533, 0.9412819547054239, 0.9707823061498365, 0.9820034395560518, 0.9570799984878501, 0.07822222589444787, 0.8995555977861505, 0.9758070840181888, 0.9475619000755763, 0.03056651290566375, 0.9822615567885805, 0.975317082893711, 0.17012708524231512, 0.014177257103526261, 0.7513946264868918, 0.04253177131057878, 0.007701542436767675, 0.9857974319062623, 0.7431345774809877, 0.2477115258269959, 0.7594607570338356, 0.048183310869216164, 0.011472216873622895, 0.0022944433747245792, 0.006883330124173737, 0.0022944433747245792, 0.0022944433747245792, 0.0022944433747245792, 0.0022944433747245792, 0.0022944433747245792, 0.011472216873622895, 0.0022944433747245792, 0.0022944433747245792, 0.009177773498898317, 0.048183310869216164, 0.02523887712197037, 0.0022944433747245792, 0.0045888867494491585, 0.041299980745042424, 0.009177773498898317, 0.0022944433747245792, 0.0059056017653272815, 0.9744242912790015, 0.0059056017653272815, 0.9209934665042693, 0.05232917423319712, 0.010465834846639424, 0.010465834846639424, 0.9375722872294804, 0.9931591933161478, 0.03637275204598535, 0.945691553195619, 0.9822428774198505, 0.9797420140255544, 0.9697157357724799, 0.9967049403681612, 0.9862397202488432, 0.9858565885269958, 0.9942084777686203, 0.9928995599923148, 0.004575574009181174, 0.9805125465984548, 0.010321184701036367, 0.06251843695343914, 0.010419739492239857, 0.9065173358248675, 0.017688553491853675, 0.9728704420519521, 0.9832620873423057, 0.9556593126008007, 0.008003846839202687, 0.016007693678405373, 0.0016007693678405373, 0.006403077471362149, 0.0016007693678405373, 0.0016007693678405373, 0.0016007693678405373, 0.0016007693678405373, 0.9955942589423034, 0.005618434440340795, 0.0028092172201703977, 0.01123686888068159, 0.0028092172201703977, 0.9523246376377649, 0.0028092172201703977, 0.016855303321022388, 0.0028092172201703977, 0.9794762204950669, 0.9871188465877552, 0.9919792403383316, 0.006420577607367842, 0.9695852896553002, 0.9861251765028411, 0.9435389082644393, 0.9688359771713838, 0.9968945704461774, 0.9741871691988185, 0.9918285474661881, 0.9717151516253749, 0.9662677640765069, 0.9462210768364128, 0.9960773954231341, 0.9886008734039019, 0.9594313718483616, 0.9831688087753956, 0.96949206467888, 0.9812543628117766, 0.9693893828240462, 0.013463741428111752, 0.0024544328652229257, 0.9940453104152849, 0.9519047756183153, 0.9705142804647676, 0.08361199615169165, 0.0013271745420903437, 0.8984971649951627, 0.0026543490841806875, 0.0013271745420903437, 0.0013271745420903437, 0.0026543490841806875, 0.0013271745420903437, 0.0026543490841806875, 0.0013271745420903437, 0.9891115614545927, 0.9550597881197188, 0.9764332014719888, 0.9709720316391125, 0.9854164138854757, 0.03266308687995904, 0.9145664326388531, 0.9450718280576073, 0.027196311598780068, 0.006799077899695017, 0.006799077899695017, 0.9811779781973164, 0.9806730214977939, 0.9592169275627327, 0.9756101769560186, 0.9448338606957899, 0.016576032643785786, 0.016576032643785786, 0.9704054030998385, 0.05033815432808372, 0.04314698942407176, 0.04314698942407176, 0.01258453858202093, 0.07550723149212558, 0.08809177007414651, 0.03236024206805382, 0.22112832079836778, 0.00179779122600299, 0.00539337367800897, 0.0539337367800897, 0.03955140697206578, 0.03415803329405681, 0.02337128593803887, 0.00539337367800897, 0.07910281394413156, 0.0539337367800897, 0.04134919819806877, 0.02157349471203588, 0.01977570348603289, 0.00179779122600299, 0.05213594555408671, 0.9362361468433431, 0.9871978322700175, 0.931773505905702, 0.04235334117753191, 0.0038156074905166537, 0.0038156074905166537, 0.0038156074905166537, 0.98061112506278, 0.0038156074905166537, 0.0038156074905166537, 0.9929479338309947, 0.0050710114380973755, 0.0050710114380973755, 0.010142022876194751, 0.9634921732385014, 0.0050710114380973755, 0.9912418424904639, 0.9557334781431318, 0.028529357556511398, 0.9597408491426178, 0.9608059289448795, 0.9620260337792887, 0.9702925103344534, 0.9849621956951036, 0.9613115797295183, 0.9445733824243967, 0.9814102694973399, 0.9481735985014403, 0.9498261709845917, 0.9847468359786716, 0.9734268809958787, 0.05204925001927061, 0.9368865003468709, 0.9610157547427289, 0.9334465913180279, 0.021214695257227904, 0.9825926502782859, 0.94187376340401, 0.9684703048550924, 0.9655144646100399, 0.9810373034659556, 0.9893931499678965, 0.9670618522221012, 0.9703677778368429, 0.9908807497016803, 0.9596806475001655, 0.9658829804133107, 0.9773701162166466, 0.9702660037848081, 0.017365535525895138, 0.8422284730059142, 0.005788511841965046, 0.002894255920982523, 0.002894255920982523, 0.005788511841965046, 0.005788511841965046, 0.04630809473572037, 0.002894255920982523, 0.002894255920982523, 0.020259791446877663, 0.002894255920982523, 0.0376253269727728, 0.002894255920982523, 0.9876612078668195, 0.013772685987910021, 0.9778607051416114, 0.009446042227299296, 0.03778416890919718, 0.9540502649572288, 0.9895407084291498, 0.005208108991732367, 0.005208108991732367, 0.9759739327346045, 0.9626847285533158, 0.9882698729173808, 0.9697647168532937, 0.02620985721225118, 0.9885530987788328, 0.995416679252235, 0.0384741763421774, 0.9233802322122576, 0.9610652259378101, 0.020872998768577372, 0.013915332512384915, 0.013915332512384915, 0.9044966133050195, 0.020872998768577372, 0.02783066502476983, 0.9582921290532177, 0.0222858634663539, 0.009371041502802378, 0.9745883162914473, 0.013994852162731374, 0.004664950720910458, 0.9516499470657334, 0.018659802883641833, 0.9383956481371235, 0.9518139598940117, 0.9257725497427145, 0.9816024854551776, 0.9792889026545245, 0.9791036051294703, 0.008959004160452724, 0.9765314534893468, 0.9729556594933942, 0.9813843376107877, 0.9781258867591626, 0.9531183282202828, 0.973790968645079, 0.9665354769433633, 0.9586848793627749, 0.010392135099850102, 0.015588202649775154, 0.005196067549925051, 0.9664685642860595, 0.005196067549925051, 0.9513291465557479, 0.981764404701593, 0.9931176786254797, 0.9722768955602031, 0.9637892734488567, 0.9394427225436797, 0.021847505175434413, 0.9788573988658572, 0.9810046742782447, 0.9837409951966323, 0.9776982495547064, 0.9812207375939331, 0.9774522411544947, 0.965860511915905, 0.9450303505897756, 0.9707657584254016, 0.949418973732131, 0.028646809964263144, 0.9453447288206838, 0.9687688160718527, 0.979352374239982, 0.9721837513718687, 0.9713411931156557, 0.9879153954231905, 0.976458351576823, 0.9682252908500975, 0.9869940770769788, 0.9955411665784264, 0.9950972229208738, 0.014796762654602955, 0.976586335203795, 0.9558164080825297, 0.03496889297862913, 0.96341280460608, 0.976341737575414, 0.9754801925706477, 0.17496509712550323, 0.8092135742054524, 0.9748569102874918, 0.9573558119660935, 0.9879217476368972, 0.9671695330109038, 0.9727338980773993, 0.9677701829522994, 0.9727426786100929, 0.08979082840714989, 0.8979082840714989, 0.9554507165050296, 0.9846154858745318, 0.9604049166374263, 0.9597693088743181, 0.9686570086147325, 0.9556094172929164, 0.957770095880278, 0.9437073760661295, 0.9548278148161702, 0.9773360307104686, 0.9924005818092202, 0.958113973681877, 0.9698006702506534, 0.9797999502834676, 0.011928120736862696, 0.9781059004227411, 0.9897382821176878, 0.9466688734848465, 0.0031281402675364706, 0.0312814026753647, 0.006256280535072941, 0.0031281402675364706, 0.0031281402675364706, 0.9259295191907952, 0.0031281402675364706, 0.0031281402675364706, 0.0031281402675364706, 0.006256280535072941, 0.9745676948348848, 0.9630916785586457, 0.9564232406333251, 0.9521461948625964, 0.9697523613396698, 0.9824801790128935, 0.975522455349827, 0.9588077437019668, 0.02458481394107607, 0.9722680833112655, 0.12693117524348418, 0.8567854328935183, 0.963823213529792, 0.0036026514356008164, 0.9871264933546237, 0.9881216461136251, 0.9769149468449044, 0.9799805619315711, 0.9747160436790505, 0.9941387648559185, 0.9672327524896469, 0.9613525110285347, 0.025636066960760925, 0.012818033480380462, 0.9783182434637832, 0.02051327992898362, 0.9641241566622302, 0.9836647378755005, 0.04251187339172985, 0.9352612146180567, 0.9728873597483233, 0.9743516946776108, 0.9431233264786819, 0.03368297594566721, 0.9879205666635169, 0.978375889841184, 0.9868849123472808, 0.04632451568963085, 0.926490313792617, 0.9850649428236448, 0.9655589865134211, 0.9878276449283807, 0.9533092017811541, 0.01661907951764592, 0.9639066120234635, 0.9755094348191061, 0.9704747687759213, 0.9746766017772284, 0.012183457522215354, 0.9872636921140221, 0.9728085715476883, 0.9596851559121466, 0.9499507241798314, 0.967518718809511, 0.992731609630039, 0.976902187174883, 0.12219034283115666, 0.047518466656560926, 0.006788352379508703, 0.6245284189148007, 0.006788352379508703, 0.006788352379508703, 0.013576704759017406, 0.006788352379508703, 0.06109517141557833, 0.006788352379508703, 0.08824858093361314, 0.9639399306544914, 0.982903354615514, 0.9646888536438608, 0.9493267484058473, 0.9517895659754229, 0.982296862441098, 0.9736482905187624, 0.9883937921601962, 0.9735135146921318, 0.041322214938814356, 0.9504109435927302, 0.014736415844854602, 0.9726034457604038, 0.9808877020083469, 0.9439850584041075, 0.9640546278034517, 0.8978304666280431, 0.003388039496709597, 0.05082059245064395, 0.037268434463805566, 0.003388039496709597, 0.9846805444400157, 0.9592633856993263, 0.03307804778273539, 0.9610579857275503, 0.9898034273804166, 0.9639350022503247, 0.9867808350202811, 0.9791532143559151, 0.9654787006952374, 0.9767669245030426, 0.9770291750717317, 0.0050352420212388385, 0.9869074361628123, 0.0050352420212388385, 0.0050352420212388385, 0.12174200017561018, 0.8643682012468323, 0.2953954067806022, 0.011975489464078469, 0.6746192398097537, 0.00798365964271898, 0.00798365964271898, 0.9920166774966953, 0.9508930112794743, 0.021611204801806234, 0.9837820641372002, 0.9879600894308102, 0.4746474222289692, 0.003390338730206923, 0.09492948444579384, 0.010171016190620769, 0.003390338730206923, 0.05763575841351769, 0.05763575841351769, 0.027122709841655383, 0.030513048571862305, 0.07119711333434538, 0.020342032381241538, 0.006780677460413846, 0.010171016190620769, 0.003390338730206923, 0.010171016190620769, 0.006780677460413846, 0.003390338730206923, 0.07797779079475922, 0.006780677460413846, 0.020342032381241538, 0.9692757748429918, 0.9785979687142398, 0.9741933672810358, 0.9944528476413347, 0.9513553977771587, 0.9417776314245832, 0.9844180609941438, 0.958723064225843, 0.9592397673802927, 0.9445141591645649, 0.026986118833273284, 0.9681721236825065, 0.9515003898162904, 0.9726950492040632, 0.9932870004339817, 0.938007757951492, 0.0915686460251643, 0.03373581695663948, 0.8674924360278723, 0.9896200856331915, 0.011671698322458283, 0.9337358657966627, 0.011671698322458283, 0.046686793289833134, 0.9511535872276281, 0.9820545046833795, 0.9778256524111771, 0.9673592557692587, 0.9688571499356777, 0.9313027509809145, 0.9592873090316577, 0.026525046319035465, 0.9637433495916219, 0.9597172584608286, 0.9750114466095335, 0.9864029425179042, 0.9613157479536811, 0.9562512987645934, 0.9755838699817515, 0.9685028055158205, 0.9654602786534718, 0.9745248152795503, 0.9467843994108153, 0.029587012481587977, 0.9789547536617804, 0.006220958276130986, 0.22395449794071548, 0.7402940348595873, 0.012441916552261971, 0.006220958276130986, 0.006220958276130986, 0.9413555982726831, 0.02896478763915948, 0.01448239381957974, 0.9661130413493939, 0.9739500093430271, 0.9549179436003895, 0.006919695243481083, 0.006919695243481083, 0.006919695243481083, 0.006919695243481083, 0.9724661059634423, 0.9580277200541729, 0.010028746094780414, 0.010028746094780414, 0.9727883711937002, 0.9801884954808717, 0.007779273773657712, 0.012334583454021041, 0.012334583454021041, 0.9682648011406517, 0.9394881800667322, 0.03355314928809758, 0.9502267248959327, 0.9882512533825667, 0.9813961260969005, 0.011545836777610594, 0.9488266741521071, 0.9926476142776011, 0.9790491619974677, 0.9503400065691103, 0.9487071264282042, 0.9973954649695629, 0.956655622452149, 0.9669806760604763, 0.9471091995743576, 0.9546735384803509, 0.9839272319565949, 0.9841367502255489, 0.9683147171366351, 0.01074664556378197, 0.9671981007403773, 0.01074664556378197, 0.9603539090251774, 0.9825439076725409, 0.9383390450050186, 0.9531175323724431, 0.9855179837562256, 0.9789069134015836, 0.9578874142214787, 0.9972898698684145, 0.9738366599188301, 0.013414475468508928, 0.9658422337326429, 0.9816340636361941, 0.9965614786370053, 0.9662226314964135, 0.9857298919515252, 0.9992254210046808, 0.9795639724172377, 0.9715870926449693, 0.9652097175942057, 0.0018883006775274281, 0.0018883006775274281, 0.0018883006775274281, 0.9686982475715706, 0.005664902032582284, 0.0018883006775274281, 0.0037766013550548563, 0.0037766013550548563, 0.0018883006775274281, 0.0018883006775274281, 0.0018883006775274281, 0.9656409807637197, 0.988874066601939, 0.21383833837053642, 0.7127944612351214, 0.023759815374504046, 0.023759815374504046, 0.9539393401817196, 0.007755604391721297, 0.02326681317516389, 0.007755604391721297, 0.9616164514981331, 0.009073612263928712, 0.09073612263928711, 0.880140389601085, 0.009073612263928712, 0.973769086874962, 0.9728568149592577, 0.9782573890585987, 0.9743554263491605, 0.10311766324280368, 0.017186277207133945, 0.8593138603566973, 0.017186277207133945, 0.971656134208057, 0.9759094374427411, 0.007999257683956894, 0.16005879554431207, 0.004763654629295002, 0.02286554222061601, 0.011432771110308005, 0.025723734998193012, 0.04287289166365502, 0.02381827314647501, 0.05811658647739903, 0.025723734998193012, 0.04192016073779602, 0.0038109237034360016, 0.0028581927775770013, 0.06002204832911703, 0.0038109237034360016, 0.010480040184449004, 0.08098212869801504, 0.02096008036889801, 0.031440120553347016, 0.030487389627488013, 0.024771004072334013, 0.049542008144668026, 0.051447469996386025, 0.049542008144668026, 0.0019054618517180008, 0.0009527309258590004, 0.006669116481013003, 0.004763654629295002, 0.04096742981193702, 0.0009527309258590004, 0.034298313330924014, 0.034298313330924014, 0.027629196849911015, 0.010480040184449004, 0.9840945178826893, 0.9844067363073303, 0.005181088085828054, 0.976884589053986, 0.9687637090519193, 0.974137947977899, 0.22452137208848502, 0.6987440832286497, 0.006294991740798646, 0.014688314061863507, 0.00419666116053243, 0.002098330580266215, 0.002098330580266215, 0.006294991740798646, 0.002098330580266215, 0.002098330580266215, 0.002098330580266215, 0.02308163638292837, 0.00419666116053243, 0.00419666116053243, 0.9754054622862514, 0.043938302400455445, 0.002312542231602918, 0.06937626694808754, 0.06012609802167588, 0.02312542231602918, 0.03468813347404377, 0.02312542231602918, 0.027750506779235018, 0.06937626694808754, 0.020812880084426263, 0.08556406256930797, 0.03468813347404377, 0.08787660480091089, 0.0069376266948087545, 0.002312542231602918, 0.055501013558470036, 0.018500337852823345, 0.05318847132686712, 0.02312542231602918, 0.05318847132686712, 0.02312542231602918, 0.0508759290952642, 0.04625084463205836, 0.08325152033770505, 0.9484533212127609, 0.9900020629012669, 0.9874752614027509, 0.9733600077976474, 0.016497627250807584, 0.9803186669495139, 0.9829734721202463, 0.9549222102399091, 0.9608999350156379, 0.9559515389712409, 0.9555199537845166, 0.9756837128594027, 0.9857419451785986, 0.01123144454371678, 0.9771356753033599, 0.9892262184279751, 0.98294741513067, 0.007454203920953488, 0.9690465097239536, 0.014908407841906977, 0.005740681815223525, 0.005740681815223525, 0.005740681815223525, 0.9759159085879993, 0.9401147612566674, 0.9800389896613821, 0.9491007748664774, 0.011640694960267628, 0.9778183766624806, 0.9579039710855212, 0.02724167286100637, 0.9184335421710719, 0.0077833351031446766, 0.03502500796415105, 0.0038916675515723383, 0.9535000906553046, 0.9848549925489639, 0.9804942436370958, 0.9421406847593193, 0.9761506461995345, 0.001826095796249622, 0.003652191592499244, 0.9751351551972981, 0.001826095796249622, 0.001826095796249622, 0.005478287388748866, 0.001826095796249622, 0.001826095796249622, 0.003652191592499244, 0.001826095796249622, 0.9457311948029038, 0.9745332231944337, 0.9540313098754178, 0.9393480438649016, 0.00948836407944345, 0.00948836407944345, 0.00948836407944345, 0.0189767281588869, 0.9577579308015922, 0.9720242206767195, 0.9799503736841019, 0.9758256901274633, 0.9209489960803233, 0.954642929820765, 0.9955532906032974, 0.9726937145321289, 0.9608444796785628, 0.7370119803572384, 0.1177699556240948, 0.007598061653167406, 0.003799030826583703, 0.007598061653167406, 0.1177699556240948, 0.007598061653167406, 0.9669786848142097, 0.9736795322406655, 0.01678757814208044, 0.9422814841357142, 0.01918362909119313, 0.9783650836508496, 0.9743422919299118, 0.9905768294263539, 0.9845163149413994, 0.9632492857217493, 0.006796000800707206, 0.9922161169032522, 0.9685231486229328, 0.08928541089237313, 0.8928541089237313, 0.9820803569893928, 0.9765974464919592, 0.9651162675686197, 0.010723514084095774, 0.010723514084095774, 0.006633079045878931, 0.006633079045878931, 0.9750626197442029, 0.9824905771063135, 0.9800566436456357, 0.9780895429229574, 0.973028499534159, 0.9827955842881322, 0.006777900581297463, 0.9500657936771688, 0.9209200597087605, 0.05638286079849554, 0.018170180005762, 0.9630195403053861, 0.9538001588976786, 0.00739723558643589, 0.9764350974095374, 0.974367411802788, 0.01551841491218284, 0.005172804970727613, 0.005172804970727613, 0.005172804970727613, 0.9621417245553361, 0.005172804970727613, 0.9596753012195819, 0.9712842116182511, 0.015417209708226208, 0.9814342066620089, 0.002639594828763694, 0.9819292763000941, 0.002639594828763694, 0.007918784486291082, 0.11222899202446876, 0.879127104191672, 0.9824837815862248, 0.9514972771981827, 0.9926290052346401, 0.9468708786109926, 0.9741038438342444, 0.9905329302418036, 0.9781172726438842, 0.9441826712530491, 0.9222587301644442, 0.0023407581983869137, 0.01170379099193457, 0.02340758198386914, 0.0046815163967738275, 0.0023407581983869137, 0.0046815163967738275, 0.0046815163967738275, 0.009363032793547655, 0.014044549190321484, 0.02250120739978403, 0.008437952774919011, 0.002812650924973004, 0.025313858324757035, 0.8606711830417392, 0.002812650924973004, 0.008437952774919011, 0.005625301849946008, 0.033751811099676045, 0.014063254624865018, 0.002812650924973004, 0.002812650924973004, 0.002812650924973004, 0.002812650924973004, 0.9715780370447034, 0.9953778574983545, 0.949496457965144, 0.986480792805124, 0.990750232022353, 0.9915741970779426, 0.9767557736406911, 0.9368436419348166, 0.9786549260270841, 0.012440410013803187, 0.9703519810766486, 0.9753230103124425, 0.9879581591837477, 0.01048444334498052, 0.10222332261356007, 0.00262111083624513, 0.02096888668996104, 0.00524222167249026, 0.0786333250873539, 0.00262111083624513, 0.00786333250873539, 0.02883221919869643, 0.04980110588865747, 0.00262111083624513, 0.00524222167249026, 0.01310555418122565, 0.02096888668996104, 0.2804588594782289, 0.03669555170743182, 0.04455888421616721, 0.00786333250873539, 0.00262111083624513, 0.04717999505241234, 0.01310555418122565, 0.01834777585371591, 0.04455888421616721, 0.06814888174237338, 0.04980110588865747, 0.02096888668996104, 0.01310555418122565, 0.9350877111368029, 0.9831121856460231, 0.9387062904436528, 0.9398096997049923, 0.9699965950296822, 0.00991021291870182, 0.98111107895148, 0.9756992831135239, 0.9856026239236366, 0.9741613789985394, 0.9902058100177754, 0.9483616715902656, 0.9582503212559721, 0.004242557925734608, 0.004242557925734608, 0.9715457649932252, 0.008485115851469216, 0.004242557925734608, 0.9861914796834472, 0.9675840372014478, 0.9257829239162446, 0.059345059225400294, 0.9968899683406983, 0.9801943822784651, 0.9796043184780452, 0.9526921586206857, 0.9523852027008675, 0.9876822802102505, 0.9837733292511808, 0.9848516100766772, 0.004851485763924518, 0.9733099351082418, 0.014153694557095451, 0.9766049244395861, 0.9837813361850944, 0.9883061560051548, 0.9832439474479313, 0.9789127643715587, 0.9861509676796305, 0.9750311194210561, 0.9913061303961131, 0.99116436348568, 0.9949226239718003, 0.011046588289034409, 0.9831463577240623, 0.9918634278944252, 0.0039674537115777005, 0.9608142772341245, 0.9678390244503888, 0.002515099912632395, 0.9758587661013692, 0.015090599475794369, 0.002515099912632395, 0.9860531900585512, 0.9253558076114949, 0.008037815857708137, 0.0053585439051387585, 0.9832928065929621, 0.0026792719525693793, 0.0246350023865477, 0.08006375775628002, 0.14165126372264927, 0.018476251789910775, 0.0492700047730954, 0.15396876491592312, 0.5173350501175017, 0.018476251789910775, 0.989657126865069, 0.97315625566215, 0.9878931324942791, 0.003351164485132651, 0.003351164485132651, 0.9919446875992646, 0.9852722027520373, 0.9879061438055518, 0.987247917121397, 0.15945928244789742, 0.7972964122394871, 0.019932410305987178, 0.9906915753299349, 0.9739729035717379, 0.01708724392231119, 0.9863829940417638, 0.9545780406032358], \"Term\": [\"1\", \"1\", \"1\", \"1\", \"1\", \"1\", \"10\", \"10\", \"100\", \"11\", \"12\", \"13\", \"14\", \"15\", \"16\", \"1st\", \"1st\", \"1st\", \"2\", \"2\", \"2\", \"2\", \"2\", \"2\", \"2\", \"2\", \"2\", \"2\", \"2\", \"2\", \"2\", \"20\", \"21\", \"25\", \"2_hour\", \"2_week\", \"2day\", \"2nd\", \"3\", \"3\", \"3\", \"3\", \"30\", \"3rd\", \"4\", \"4\", \"4\", \"4th\", \"5\", \"6\", \"7\", \"8\", \"80\", \"9\", \"absolutely\", \"abt\", \"ac\", \"account\", \"act\", \"actually\", \"actually\", \"actually\", \"actually\", \"actually\", \"add\", \"adding\", \"adorable\", \"adventure\", \"afternoon\", \"age\", \"ago\", \"ago\", \"agree\", \"ah\", \"ahead\", \"ahh\", \"ahhh\", \"aint\", \"aint\", \"air\", \"air\", \"airport\", \"alarm\", \"album\", \"alive\", \"allowed\", \"alot\", \"alright\", \"amazing\", \"american\", \"amp\", \"amp\", \"amp\", \"amp\", \"amp\", \"amp\", \"amp\", \"amp\", \"amp\", \"amp\", \"amp\", \"amp\", \"amp\", \"andy\", \"ang\", \"anniversary\", \"answer\", \"anymore\", \"anymore\", \"anymore\", \"anymore\", \"anytime\", \"anyway\", \"anyway\", \"anyways\", \"apartment\", \"app\", \"apparently\", \"apple\", \"appreciate\", \"appreciate\", \"arent\", \"arm\", \"arrived\", \"art\", \"article\", \"as\", \"assignment\", \"ate\", \"atm\", \"attempt\", \"australia\", \"available\", \"avoid\", \"aw\", \"awake\", \"awesome\", \"awesome\", \"awesome\", \"awsome\", \"aww\", \"aww\", \"aww\", \"awww\", \"awww\", \"awww\", \"awwww\", \"b4\", \"babe\", \"baby\", \"baby\", \"baby\", \"background\", \"bad\", \"bad\", \"bad\", \"bad\", \"bad\", \"bad\", \"bad\", \"bad\", \"bad\", \"bad\", \"bad\", \"bag\", \"ball\", \"ball\", \"band\", \"bank\", \"bank_holiday\", \"bar\", \"based\", \"bath\", \"bb\", \"bbq\", \"bc\", \"bday\", \"beach\", \"beat\", \"beautiful\", \"beauty\", \"bed\", \"bed\", \"bed\", \"bedtime\", \"bee\", \"beer\", \"believe\", \"ben\", \"besides\", \"bet\", \"bgt\", \"bike\", \"bill\", \"birthday\", \"bit\", \"bitch\", \"black\", \"blast\", \"bless\", \"blessed\", \"block\", \"block_party\", \"blog\", \"blood\", \"blue\", \"body\", \"body\", \"boo\", \"boo\", \"book\", \"book\", \"bored\", \"bored\", \"bored\", \"boring\", \"born\", \"bottle\", \"bottle\", \"bottom\", \"bought\", \"bout\", \"box\", \"boy\", \"boyfriend\", \"brain\", \"bread\", \"break\", \"break\", \"breakfast\", \"brian\", \"bring\", \"bro\", \"broke\", \"broke\", \"broken\", \"broken\", \"brother\", \"brought\", \"brought\", \"btw\", \"buddy\", \"bug\", \"bummed\", \"bummer\", \"burnt\", \"bus\", \"business\", \"business\", \"busy\", \"busy\", \"button\", \"buying\", \"bye\", \"cake\", \"call\", \"call\", \"called\", \"called\", \"calling\", \"camera\", \"cannot\", \"cant\", \"cant\", \"cant\", \"cant\", \"cant\", \"cant\", \"cant\", \"cant\", \"cant\", \"cant\", \"cant\", \"cant\", \"cant\", \"cant\", \"cant\", \"cant\", \"cant\", \"cant\", \"cant\", \"cant\", \"cant\", \"cant\", \"cant\", \"cant\", \"cant\", \"cant\", \"cant\", \"cant\", \"cant\", \"cant\", \"cant_believe\", \"cant_sleep\", \"cant_stop\", \"cant_wait\", \"cant_wait\", \"cant_wait\", \"car\", \"card\", \"card\", \"care\", \"care\", \"cat\", \"cat\", \"cat\", \"catch\", \"catch\", \"caught\", \"cause\", \"cause\", \"cause\", \"cause\", \"cause\", \"cause\", \"cause\", \"cd\", \"celebrating\", \"cell\", \"chance\", \"change\", \"change\", \"changed\", \"changed\", \"character\", \"charge\", \"chat\", \"chat\", \"chatting\", \"check\", \"check\", \"checked\", \"cheer\", \"cheese\", \"chicago\", \"chicken\", \"child\", \"chill\", \"chillin\", \"chilling\", \"chinese\", \"chocolate\", \"chocolate\", \"choose\", \"chris\", \"christmas\", \"church\", \"city\", \"city\", \"class\", \"class\", \"clean\", \"cleaning\", \"close\", \"clothes\", \"clothes\", \"cloudy\", \"club\", \"co\", \"code\", \"coffee\", \"cold\", \"cold\", \"cold\", \"college\", \"come\", \"come\", \"come\", \"comic\", \"coming\", \"comment\", \"company\", \"completely\", \"computer\", \"concert\", \"confused\", \"congrats\", \"congrats\", \"congratulation\", \"contact\", \"cook\", \"cool\", \"copy\", \"couldnt\", \"couldnt\", \"couldnt\", \"count\", \"couple\", \"course\", \"cousin\", \"coz\", \"crap\", \"crap\", \"craving\", \"crazy\", \"crush\", \"cry\", \"cry\", \"cup\", \"currently\", \"customer\", \"cut\", \"cute\", \"cute\", \"cuz\", \"cuz\", \"da\", \"dad\", \"dad\", \"daddy\", \"daily\", \"dammit\", \"damn\", \"damn\", \"damn\", \"damn\", \"damn\", \"damn\", \"damn\", \"damn\", \"damn\", \"damn\", \"dance\", \"dancing\", \"dang\", \"danny\", \"dark\", \"darn\", \"dat\", \"date\", \"daughter\", \"dave\", \"david\", \"david\", \"david\", \"davidarchie\", \"day\", \"day\", \"day\", \"day\", \"day\", \"day\", \"day\", \"day\", \"day\", \"day\", \"day\", \"day\", \"day\", \"day\", \"day\", \"day\", \"day\", \"day\", \"day\", \"day\", \"day\", \"day\", \"day\", \"day\", \"day\", \"day\", \"day\", \"day\", \"day\", \"day\", \"day\", \"day\", \"day\", \"day\", \"day_card\", \"day_mom\", \"day_mommy\", \"day_mommy\", \"ddlovato\", \"ddlovato\", \"ddlovato\", \"de\", \"dead\", \"dead\", \"dead\", \"deal\", \"dear\", \"death\", \"decided\", \"def\", \"definitely\", \"delicious\", \"demi\", \"depressed\", \"deserve\", \"design\", \"detail\", \"didnt\", \"didnt\", \"didnt\", \"didnt\", \"didnt\", \"didnt\", \"didnt\", \"didnt\", \"didnt\", \"didnt\", \"didnt\", \"didnt\", \"didnt\", \"die\", \"died\", \"died\", \"digital\", \"dinner\", \"dinner\", \"dinner\", \"disappointed\", \"disney\", \"distraction\", \"dm\", \"doctor\", \"doesnt\", \"doesnt\", \"doesnt\", \"doesnt\", \"dog\", \"dog\", \"door\", \"download\", \"drama\", \"dream\", \"dress\", \"drink\", \"drinking\", \"drive\", \"drive\", \"driving\", \"drunk\", \"dry\", \"dude\", \"dude\", \"due\", \"due\", \"due\", \"dunno\", \"dvd\", \"earlier\", \"earth\", \"easier\", \"easy\", \"eat\", \"eat\", \"eating\", \"egg\", \"eh\", \"else\", \"else\", \"else\", \"em\", \"email\", \"emo\", \"english\", \"enjoy\", \"enjoyed\", \"enjoying\", \"enjoying\", \"enjoying\", \"enjoying\", \"entire\", \"epic\", \"episode\", \"episode\", \"episode\", \"episode\", \"especially\", \"essay\", \"etc\", \"evening\", \"event\", \"everyday\", \"everyones\", \"exactly\", \"exam\", \"exam\", \"exam\", \"excellent\", \"except\", \"excited\", \"excited\", \"exciting\", \"exhausted\", \"expect\", \"experience\", \"extra\", \"eye\", \"eye\", \"eye\", \"fab\", \"fabulous\", \"facebook\", \"fail\", \"fail\", \"fail\", \"fail\", \"fair\", \"fall\", \"fall_asleep\", \"falling\", \"fam\", \"family\", \"fan\", \"fan\", \"fan\", \"fancy\", \"fantastic\", \"fast\", \"fat\", \"father\", \"fav\", \"fave\", \"favorite\", \"favourite\", \"fb\", \"fb\", \"feel\", \"feel\", \"feel\", \"feel\", \"feel\", \"feel_bad\", \"feelin\", \"feeling\", \"feeling\", \"fell\", \"fellow\", \"fellow\", \"ff\", \"fight\", \"fighting\", \"figure\", \"figured\", \"file\", \"film\", \"final\", \"finally\", \"finally\", \"finally\", \"finally\", \"finding\", \"fine\", \"finger\", \"finish\", \"finished\", \"fit\", \"fix\", \"fixed\", \"flight\", \"flower\", \"fly\", \"folk\", \"follow\", \"follow\", \"follow\", \"followed\", \"follower\", \"follower\", \"followfriday\", \"following\", \"following\", \"food\", \"food\", \"foot\", \"forever\", \"forever\", \"forget\", \"forgot\", \"form\", \"found\", \"found\", \"freakin\", \"freaking\", \"free\", \"french\", \"french\", \"friday\", \"friday\", \"friday\", \"friday\", \"friday\", \"friday\", \"friday_night\", \"friend\", \"friend\", \"friend\", \"friend\", \"friend\", \"friend\", \"friend\", \"friendly\", \"front\", \"fuck\", \"fucking\", \"fun\", \"fun\", \"fun\", \"fun\", \"fun\", \"fun\", \"fun\", \"fun\", \"fun\", \"fun\", \"fun\", \"fun\", \"fun\", \"fun\", \"funny\", \"game\", \"game\", \"garden\", \"gay\", \"gear\", \"germany\", \"gettin\", \"getting\", \"getting\", \"getting\", \"getting\", \"getting\", \"getting\", \"getting\", \"getting\", \"getting\", \"getting\", \"getting\", \"getting\", \"getting\", \"getting\", \"getting\", \"getting\", \"getting_ready\", \"gfalcone601\", \"gift\", \"gift\", \"gig\", \"gig\", \"girl\", \"girl\", \"girl\", \"girl\", \"glad\", \"go\", \"go\", \"god\", \"god\", \"god\", \"god_bless\", \"goin\", \"gone\", \"gone\", \"gone\", \"gone\", \"gonna\", \"gonna\", \"gonna\", \"gonna\", \"gonna\", \"gonna\", \"gonna\", \"gonna\", \"gonna\", \"gonna\", \"gonna\", \"gonna\", \"gonna\", \"gonna\", \"gonna\", \"gonna_miss\", \"goodbye\", \"goodmorning\", \"goodnight\", \"google\", \"gorgeous\", \"gosh\", \"gotta\", \"gotta\", \"gotta\", \"gotta\", \"gotta\", \"gotta\", \"gotta\", \"gr8\", \"grand\", \"grandma\", \"grateful\", \"green\", \"grey\", \"grown\", \"gt\", \"guess\", \"guess\", \"guest\", \"guitar\", \"gunna\", \"guy\", \"guy\", \"guy\", \"guy\", \"guy\", \"guy\", \"guy\", \"guy\", \"guy\", \"gym\", \"hadnt\", \"hah\", \"haha\", \"haha\", \"haha\", \"haha\", \"haha\", \"haha\", \"haha\", \"haha\", \"haha\", \"haha\", \"haha\", \"hahah\", \"hahaha\", \"hahahaha\", \"hair\", \"hair\", \"haircut\", \"half\", \"half\", \"hand\", \"hang\", \"hanging\", \"happen\", \"happen\", \"happened\", \"happens\", \"happiness\", \"happy\", \"happy\", \"happy\", \"happy_birthday\", \"happy_mommy\", \"happy_mother\", \"happy_mother\", \"happy_mother\", \"happy_mother\", \"happy_mother\", \"happy_mother\", \"happy_mother\", \"happy_mother\", \"happy_mother\", \"happy_mother\", \"happy_mother\", \"happy_mother\", \"happy_mother\", \"happy_mother\", \"happy_mother\", \"happy_mother\", \"happy_mother\", \"happy_mother\", \"happy_mother\", \"happy_mother\", \"happy_mother\", \"happy_mother\", \"happy_mother\", \"happy_mother\", \"happy_mother\", \"happy_mother\", \"happy_mother\", \"happy_mother\", \"happy_star\", \"happy_star\", \"hard\", \"hard\", \"hard\", \"hard\", \"hard\", \"hard\", \"hard\", \"hard\", \"hard\", \"hard\", \"hard\", \"hat\", \"hate\", \"hate\", \"hate\", \"hate\", \"hate\", \"havent\", \"havent\", \"havent\", \"havin\", \"he\", \"he\", \"he\", \"he\", \"he\", \"head\", \"head\", \"head\", \"head\", \"head\", \"head_hurt\", \"headache\", \"headed\", \"heading\", \"hear\", \"heard\", \"heard\", \"heard\", \"heart\", \"heat\", \"heaven\", \"hehe\", \"hell\", \"hell\", \"hella\", \"hello\", \"help\", \"help\", \"help\", \"help\", \"help\", \"help\", \"help\", \"help\", \"here\", \"hero\", \"hey\", \"hey\", \"hi\", \"hi\", \"hilarious\", \"hill\", \"hit\", \"hmm\", \"hmmm\", \"hold\", \"holiday\", \"home\", \"home\", \"home\", \"home\", \"home\", \"home\", \"home\", \"home\", \"home\", \"home\", \"home\", \"home\", \"home\", \"home\", \"home\", \"home\", \"home\", \"home\", \"home\", \"home\", \"home\", \"homework\", \"honey\", \"hope\", \"hope\", \"hope\", \"hope\", \"hope\", \"hope\", \"hope\", \"hope\", \"hope\", \"hope_wonderful\", \"hope_youre\", \"hopefully\", \"hopefully\", \"hoping\", \"hoping\", \"horrible\", \"hospital\", \"host\", \"hot\", \"hot\", \"hotel\", \"hour\", \"hour\", \"hour\", \"house\", \"house\", \"house\", \"hows\", \"hr\", \"httptrimkwk9\", \"hubby\", \"hug\", \"hug\", \"hug\", \"huge\", \"hugh\", \"huh\", \"hun\", \"hungry\", \"hungry\", \"hurry\", \"hurt\", \"hurt\", \"husband\", \"iamjonathancook\", \"ice\", \"ice_cream\", \"id\", \"id\", \"idea\", \"idea\", \"idiot\", \"idk\", \"ii\", \"ill\", \"ill\", \"ill\", \"ill\", \"ill\", \"ill\", \"ill\", \"ill\", \"ill\", \"ill\", \"ill\", \"ill\", \"ill\", \"ill\", \"ill_try\", \"ily\", \"ima\", \"imagine\", \"imma\", \"including\", \"incredible\", \"indeed\", \"info\", \"inside\", \"inside\", \"instead\", \"internet\", \"interview\", \"invite\", \"iphone\", \"iphone\", \"iphone\", \"ipod\", \"island\", \"isnt\", \"isnt\", \"isnt\", \"issue\", \"issue\", \"item\", \"itll\", \"itunes\", \"ive\", \"ive\", \"ive\", \"ive\", \"ive\", \"ive\", \"ive\", \"ive\", \"ive\", \"ive\", \"ive\", \"ive\", \"ive\", \"ive\", \"ive\", \"ive\", \"ive\", \"ive_seen\", \"i\\u00e3\\u00af\\u00e2\\u00bf\\u00e2\\u00bdm\", \"jack\", \"jam\", \"james\", \"jealous\", \"jk\", \"job\", \"job\", \"job\", \"job\", \"job\", \"job\", \"joe\", \"john\", \"join\", \"joined\", \"joke\", \"jon\", \"jonas\", \"jonasbrothers\", \"jonasbrothers\", \"jonathanrknight\", \"jonathanrknight\", \"journey\", \"joy\", \"jtimberlake\", \"jump\", \"june\", \"justin\", \"justin_timberlake\", \"keen\", \"keeping\", \"key\", \"kid\", \"kid\", \"kid\", \"kill\", \"kinda\", \"kiss\", \"kitty\", \"kno\", \"la\", \"lady\", \"lady_gaga\", \"lakers\", \"lame\", \"laptop\", \"late\", \"lately\", \"laugh\", \"laughing\", \"laundry\", \"law\", \"lay\", \"lazy\", \"learn\", \"learning\", \"leave\", \"leave\", \"leave\", \"leaving\", \"leaving\", \"leaving\", \"left\", \"left\", \"left\", \"left\", \"left\", \"left\", \"left\", \"left\", \"left\", \"left\", \"left\", \"left\", \"left\", \"leg\", \"letting\", \"life\", \"life\", \"life\", \"life\", \"life\", \"life\", \"life\", \"light\", \"like\", \"liked\", \"lil\", \"line\", \"link\", \"link\", \"list\", \"list\", \"listen\", \"listened\", \"listening\", \"listening\", \"little\", \"little\", \"little\", \"little\", \"little\", \"little\", \"little_bit\", \"live\", \"live\", \"live\", \"live\", \"living\", \"lmao\", \"load\", \"load\", \"lol\", \"lol\", \"lol\", \"lol\", \"lol\", \"lol\", \"lol\", \"lol\", \"lol\", \"lol\", \"lol\", \"lol\", \"lol\", \"london\", \"look\", \"look\", \"look\", \"look\", \"look\", \"look\", \"look\", \"look\", \"look\", \"look\", \"look\", \"look\", \"look_forward\", \"looked\", \"looking\", \"looking_forward\", \"lose\", \"loss\", \"lost\", \"lot\", \"lot\", \"loud\", \"love\", \"love\", \"love\", \"love\", \"love\", \"love\", \"love\", \"love\", \"love\", \"love\", \"love\", \"love\", \"love\", \"love\", \"love\", \"love\", \"love\", \"love\", \"love\", \"love\", \"love\", \"love_ya\", \"loved\", \"lovely\", \"lovely\", \"lovely\", \"lovely_daughter\", \"lovin\", \"loving\", \"low\", \"lt3\", \"lt3\", \"luck\", \"lucky\", \"lunch\", \"lunch\", \"luv\", \"luv_ya\", \"mac\", \"machine\", \"mad\", \"magic\", \"mail\", \"mail\", \"make\", \"mama\", \"mark\", \"mary\", \"match\", \"mate\", \"math\", \"matter\", \"maybe\", \"maybe\", \"mcfly\", \"meal\", \"mean\", \"mean\", \"mean\", \"meant\", \"meet\", \"meeting\", \"memory\", \"mention\", \"mess\", \"message\", \"met\", \"mi\", \"mic\", \"michael\", \"middle\", \"mike\", \"mile\", \"mile\", \"miley\", \"mileycyrus\", \"mileycyrus\", \"milk\", \"min\", \"mind\", \"mind\", \"mind\", \"mind\", \"mine\", \"mine\", \"minute\", \"minute\", \"miss\", \"miss\", \"miss\", \"miss\", \"miss\", \"miss\", \"miss\", \"miss\", \"miss\", \"miss\", \"miss\", \"miss\", \"miss\", \"miss\", \"miss\", \"miss\", \"miss\", \"miss\", \"miss\", \"miss\", \"miss\", \"missed\", \"missed\", \"missed\", \"missing\", \"missing\", \"missing\", \"missing\", \"mission\", \"mitchelmusso\", \"mix\", \"mix\", \"mmm\", \"mmmm\", \"mo\", \"mom\", \"moment\", \"momma\", \"mommy\", \"monday\", \"monday\", \"money\", \"money\", \"month\", \"month\", \"month\", \"mood\", \"mood\", \"moon\", \"morning\", \"morning\", \"morning\", \"morning\", \"morning\", \"morning\", \"morning\", \"morning\", \"morning\", \"mother\", \"mother_day\", \"mother_day\", \"mother_day\", \"mother_day\", \"mother_day\", \"mother_day\", \"mother_day\", \"mother_day\", \"mountain\", \"move\", \"movie\", \"movie\", \"moving\", \"mrskutcher\", \"msg\", \"msn\", \"mum\", \"mummy\", \"music\", \"myspace\", \"na\", \"nail\", \"name\", \"nap\", \"national\", \"nd\", \"nearly\", \"neither\", \"news\", \"news\", \"nice\", \"nice\", \"nice_meet\", \"nick\", \"night\", \"night\", \"night\", \"night\", \"night\", \"night\", \"night\", \"night\", \"night\", \"night\", \"nite\", \"nobody\", \"non\", \"none\", \"nope\", \"note\", \"note\", \"nothing\", \"nothing\", \"nothing\", \"nothing\", \"noticed\", \"ny\", \"ocean\", \"offer\", \"office\", \"office\", \"office\", \"officially\", \"oh\", \"oh\", \"oh\", \"oh\", \"oh\", \"oh\", \"oh\", \"oh\", \"oh\", \"oh\", \"oh\", \"oh\", \"oh\", \"oh\", \"oh\", \"oh\", \"oh\", \"oh\", \"oh\", \"oh\", \"oh\", \"oh\", \"oh_dear\", \"oh_god\", \"ohhh\", \"ohhh\", \"ok\", \"ok\", \"ok\", \"ok\", \"ok\", \"ok\", \"okay\", \"omg\", \"omg\", \"omg\", \"omg\", \"omg\", \"one\", \"online\", \"online\", \"oo\", \"ooh\", \"oooh\", \"oops\", \"original\", \"ouch\", \"outfit\", \"outside\", \"outta\", \"oven\", \"p\", \"pack\", \"page\", \"page\", \"paid\", \"pain\", \"pain\", \"paint\", \"palm\", \"paper\", \"parent\", \"park\", \"party\", \"pas\", \"past\", \"pay\", \"paying\", \"pc\", \"peace\", \"peep\", \"people\", \"people\", \"people\", \"people\", \"people\", \"people\", \"people\", \"people\", \"people\", \"people\", \"people\", \"people\", \"people\", \"people\", \"perfect\", \"person\", \"person\", \"photo\", \"photo\", \"photo\", \"pic\", \"pic\", \"pic\", \"pick\", \"picked\", \"picture\", \"pink\", \"pink\", \"pizza\", \"plan\", \"planning\", \"planning\", \"plant\", \"play\", \"play\", \"play\", \"play\", \"play\", \"play\", \"played\", \"played\", \"playing\", \"playing\", \"please\", \"please\", \"please\", \"please\", \"pleasure\", \"plenty\", \"pls\", \"plus\", \"pool\", \"poor\", \"post\", \"post\", \"posted\", \"power\", \"ppl\", \"practice\", \"pray\", \"prayer\", \"prefer\", \"pretty\", \"pretty\", \"pretty\", \"pretty\", \"pretty\", \"pretty_cool\", \"prob\", \"probably\", \"productive\", \"profile\", \"project\", \"project\", \"prom\", \"promise\", \"proud\", \"pull\", \"puppy\", \"putting\", \"question\", \"quick\", \"quiet\", \"quot\", \"quote\", \"quote\", \"quoti\", \"quotthe\", \"race\", \"radio\", \"rain\", \"raining\", \"ran\", \"random\", \"read\", \"reading\", \"ready\", \"ready\", \"real\", \"real\", \"realized\", \"reason\", \"received_mother\", \"red\", \"red\", \"relaxing\", \"release\", \"remember\", \"reminds\", \"reply\", \"report\", \"response\", \"rest\", \"rest\", \"result\", \"retrorewind\", \"return\", \"review\", \"revision\", \"rice\", \"ride\", \"ring\", \"rip\", \"road\", \"rock\", \"roll\", \"rose\", \"round\", \"run\", \"run\", \"running\", \"ryan\", \"sad\", \"sad\", \"sad\", \"sad\", \"sad\", \"sad\", \"sad\", \"sad\", \"sad\", \"sad\", \"sadly\", \"safe\", \"sam\", \"sarah\", \"sat\", \"saturday\", \"saturday_night\", \"save\", \"save\", \"saying\", \"scared\", \"scared\", \"scary\", \"school\", \"school\", \"screen\", \"season\", \"seat\", \"seeing\", \"seen\", \"semester\", \"send\", \"send\", \"send\", \"sending\", \"sent\", \"sent\", \"series\", \"seriously\", \"seriously\", \"service\", \"session\", \"set\", \"set\", \"setting\", \"sex\", \"sexy\", \"shame\", \"shame\", \"share\", \"shell\", \"shes\", \"shirt\", \"shit\", \"shit\", \"shoe\", \"shop\", \"shopping\", \"shopping\", \"short\", \"shot\", \"shouldnt\", \"shout\", \"shoutout\", \"shower\", \"si\", \"sick\", \"sick\", \"sick\", \"sick\", \"sick\", \"sick\", \"sick\", \"sick\", \"sick\", \"sick\", \"sick\", \"sigh\", \"sign\", \"sing\", \"singapore\", \"singing\", \"single\", \"sir\", \"sister\", \"sit\", \"site\", \"site\", \"sitting\", \"sitting\", \"six\", \"skin\", \"sky\", \"sleep\", \"sleep\", \"sleep\", \"sleep\", \"sleep\", \"sleeping\", \"sleepy\", \"sleepy\", \"slept\", \"slowly\", \"smell\", \"smile\", \"snl\", \"social\", \"sometimes\", \"son\", \"song\", \"song\", \"song\", \"song\", \"soo\", \"soo\", \"soon\", \"soon\", \"soon\", \"soon\", \"soon\", \"sooo\", \"soooo\", \"soooo\", \"sooooo\", \"sore\", \"sorry\", \"sorry\", \"sorry\", \"sorry\", \"sorry\", \"sorry\", \"sorry\", \"sorry\", \"sorry\", \"sorry\", \"sorry\", \"sorry\", \"sorry\", \"sorry\", \"sorry\", \"sorry\", \"sorry\", \"sorry\", \"sorry\", \"sorry\", \"sorry_hear\", \"sort\", \"soul\", \"sound\", \"soup\", \"south\", \"special\", \"spend\", \"spending\", \"spent\", \"spent\", \"spot\", \"spring\", \"star\", \"star_trek\", \"starbucks\", \"start\", \"start\", \"start\", \"started\", \"starting\", \"starting\", \"starting\", \"starting\", \"station\", \"stay\", \"staying\", \"step\", \"stick\", \"stoked\", \"stomach\", \"stop\", \"stop\", \"stopped\", \"store\", \"story\", \"strange\", \"strawberry\", \"street\", \"stuck\", \"student\", \"studio\", \"study\", \"study\", \"studying\", \"stuff\", \"stuff\", \"stuff\", \"stuff\", \"stuff\", \"stuff\", \"stupid\", \"stupid\", \"stupid\", \"style\", \"success\", \"suck\", \"suck\", \"suck\", \"suck\", \"suck\", \"sugar\", \"suggestion\", \"summer\", \"summer\", \"summer\", \"sun\", \"sun\", \"sunday\", \"sunday\", \"sunday\", \"sunny\", \"sunny\", \"sunny_day\", \"sunshine\", \"super\", \"super\", \"supernatural\", \"support\", \"supposed\", \"surprise\", \"sushi\", \"sweet\", \"sweet_dream\", \"sweetie\", \"swim\", \"take\", \"taking\", \"talk\", \"talkin\", \"talking\", \"talking\", \"talking\", \"taste\", \"taylor\", \"taylorswift13\", \"te\", \"tea\", \"team\", \"tear\", \"tell\", \"telling\", \"test\", \"test\", \"text\", \"thank\", \"thank_god\", \"thankful\", \"thanks\", \"thanks_follow\", \"thanks_following\", \"thanx\", \"thats\", \"thats\", \"thats\", \"thats\", \"thats\", \"thats\", \"thats\", \"thats\", \"thats\", \"thats\", \"thats\", \"thats_cool\", \"there\", \"theyre\", \"theyre\", \"theyre\", \"theyre\", \"thinking\", \"thinking\", \"thinking\", \"thinking\", \"third\", \"tho\", \"tho\", \"tho\", \"tho\", \"thru\", \"thursday\", \"thx\", \"ti\", \"ticket\", \"ticket\", \"ticket\", \"ticket\", \"til\", \"till\", \"till\", \"time\", \"time\", \"time\", \"time\", \"time\", \"time\", \"time\", \"time\", \"time\", \"time\", \"time\", \"time\", \"time\", \"time\", \"time\", \"time\", \"time\", \"time\", \"time\", \"time\", \"time\", \"time\", \"time\", \"time\", \"time\", \"time\", \"time\", \"time\", \"time\", \"time\", \"time\", \"time\", \"time\", \"tip\", \"tired\", \"tired\", \"told\", \"tom\", \"tommcfly\", \"tomorrow\", \"tomorrow\", \"tomorrow\", \"tomorrow\", \"tomorrow\", \"tomorrow\", \"tomorrow\", \"tomorrow\", \"tomorrow\", \"tomorrow\", \"tomorrow\", \"tomorrow\", \"tomorrow\", \"tomorrow\", \"ton\", \"tonight\", \"tonight\", \"tonight\", \"tonight\", \"tonight\", \"tonight\", \"tonight\", \"tonight\", \"tonight\", \"tonight\", \"tonight\", \"tonight\", \"tonight\", \"tonight\", \"tonight\", \"tonight\", \"tonight\", \"tonight\", \"tonight\", \"tonight\", \"tonight\", \"tonight\", \"tonight\", \"tonight\", \"tony\", \"top\", \"totally\", \"tour\", \"tour\", \"town\", \"track\", \"train\", \"training\", \"travel\", \"treat\", \"tree\", \"tried\", \"trip\", \"trip\", \"true\", \"truly\", \"try\", \"try\", \"try\", \"trying\", \"trying\", \"trying\", \"trying\", \"tshirt\", \"tuesday\", \"turtle\", \"tv\", \"tv\", \"tweeps\", \"tweet\", \"tweet\", \"tweet\", \"tweet\", \"tweet\", \"tweeter\", \"tweeting\", \"twilight\", \"twin\", \"twit\", \"twitter\", \"twitter\", \"twitter\", \"twitter\", \"twitter\", \"twitter\", \"twitter\", \"twitter\", \"twitter\", \"twitter\", \"twittering\", \"twitterverse\", \"type\", \"ugh\", \"ugh\", \"ugh\", \"ugh\", \"ugh\", \"uh\", \"uk\", \"uncle\", \"understand\", \"unfortunately\", \"uni\", \"update\", \"upload\", \"upset\", \"ur\", \"ur\", \"ur\", \"ur\", \"ur\", \"ur\", \"ur\", \"user\", \"using\", \"using\", \"usual\", \"usually\", \"usually\", \"vega\", \"version\", \"via\", \"vid\", \"video\", \"video\", \"view\", \"visit\", \"visit\", \"voice\", \"vote\", \"wait\", \"wait\", \"wait\", \"waiting\", \"waiting\", \"waiting\", \"wake\", \"waking\", \"walk\", \"walking\", \"wanna\", \"wanna\", \"war\", \"war_day\", \"war_day\", \"warm\", \"warm\", \"wash\", \"wasnt\", \"wasnt\", \"wat\", \"watch\", \"watch\", \"watch\", \"watch\", \"watch\", \"watch\", \"watch_movie\", \"watched\", \"watched\", \"watchin\", \"watching\", \"watching\", \"watching\", \"watching\", \"water\", \"water\", \"wear\", \"wearing\", \"weather\", \"web\", \"website\", \"wedding\", \"wednesday\", \"wee\", \"week\", \"week\", \"week\", \"week\", \"week\", \"week\", \"week\", \"week\", \"week\", \"week\", \"weekend\", \"weekend\", \"weekend\", \"weekend\", \"weekend\", \"weekend\", \"weekend\", \"weekend\", \"weekend\", \"weekend\", \"weekend\", \"weekend\", \"weekend\", \"weekend\", \"weird\", \"welcome\", \"werent\", \"whatever\", \"whats\", \"white\", \"wife\", \"wii\", \"wild\", \"win\", \"win\", \"window\", \"wine\", \"wish\", \"wish\", \"wish\", \"wish\", \"wish\", \"wish\", \"wish\", \"wish\", \"wish\", \"wish\", \"wish\", \"wish\", \"wish\", \"wish\", \"wish\", \"wish\", \"wish\", \"wish\", \"wish\", \"wish\", \"wish\", \"wish\", \"wish\", \"wish\", \"wish\", \"wish\", \"wish\", \"wish_luck\", \"wishing\", \"wishing_happy\", \"wit\", \"wo\", \"woke\", \"woke\", \"wolverine\", \"woman\", \"wonder\", \"wonderful\", \"wonderful_day\", \"wondering\", \"wont\", \"wont\", \"wont\", \"wont\", \"wont\", \"woo\", \"woohoo\", \"word\", \"word\", \"world\", \"worried\", \"worry\", \"worse\", \"worst\", \"worth\", \"wouldnt\", \"wow\", \"wow\", \"write\", \"writing\", \"writing\", \"wrong\", \"wtf\", \"xd\", \"xmen\", \"xo\", \"xoxo\", \"xx\", \"xxx\", \"ya\", \"yall\", \"yall\", \"yay\", \"yay\", \"yayy\", \"yea\", \"yeah\", \"yeah\", \"yeah\", \"yeah\", \"yep\", \"yer\", \"yes\", \"yes\", \"yes\", \"yes\", \"yesterday\", \"yesterday\", \"yesterday\", \"yesterday\", \"yesterday\", \"yesterday\", \"yesterday\", \"yesterday\", \"yo\", \"york\", \"youll\", \"youre\", \"youre\", \"youre\", \"youre_welcome\", \"youtube\", \"youve\", \"yr\", \"yr\", \"yr\", \"yum\", \"yummy\", \"yummy\", \"yup\", \"\\u00e3\\u00af\\u00e2\\u00bf\\u00e2\\u00bd\"]}, \"lambda.step\": 0.01, \"topic.order\": [6, 15, 7, 36, 14, 10, 17, 30, 8, 3, 16, 5, 21, 20, 27, 12, 19, 1, 25, 28, 9, 32, 24, 23, 22, 13, 11, 4, 29, 31, 33, 35, 26, 2, 18, 34], \"tinfo\": {\"loglift\": [30.0, 29.0, 28.0, 27.0, 26.0, 25.0, 24.0, 23.0, 22.0, 21.0, 20.0, 19.0, 18.0, 17.0, 16.0, 15.0, 14.0, 13.0, 12.0, 11.0, 10.0, 9.0, 8.0, 7.0, 6.0, 5.0, 4.0, 3.0, 2.0, 1.0, 3.2475, 3.2457, 3.244, 3.2426, 3.241, 3.2401, 3.24, 3.239, 3.2382, 3.2364, 3.2342, 3.233, 3.2314, 3.2298, 3.2257, 3.2245, 3.2218, 3.2212, 3.2209, 3.2208, 3.2199, 3.218, 3.216, 3.2132, 3.2115, 3.21, 3.2098, 3.2096, 3.2087, 3.2067, 3.1883, 3.146, 3.1707, 3.1997, 3.1755, 3.1367, 3.0492, 2.9877, 1.4255, 1.7593, 2.0375, 0.8291, 1.9789, 0.7758, 1.2725, 1.3794, 0.2606, 3.3339, 3.3322, 3.3303, 3.3291, 3.328, 3.3277, 3.3264, 3.3251, 3.325, 3.3215, 3.3205, 3.3201, 3.3188, 3.3155, 3.3155, 3.3143, 3.3127, 3.3121, 3.3095, 3.3093, 3.308, 3.3078, 3.3067, 3.3051, 3.3027, 3.3027, 3.3024, 3.301, 3.2993, 3.2975, 3.2917, 3.2753, 3.282, 3.28, 3.2297, 3.0659, 2.9809, 2.6943, 2.5956, 3.0968, -0.3514, 1.0612, 3.3962, 3.3928, 3.3888, 3.3864, 3.3813, 3.3796, 3.3784, 3.3765, 3.3753, 3.3723, 3.372, 3.3686, 3.3682, 3.3681, 3.3664, 3.3656, 3.3625, 3.3623, 3.3622, 3.3619, 3.361, 3.357, 3.3562, 3.3555, 3.3547, 3.3533, 3.3485, 3.3468, 3.3431, 3.3416, 3.3099, 3.3346, 3.3342, 3.3207, 3.0964, 0.3774, 0.3323, 0.4244, -0.3967, 0.7927, 3.4166, 3.4146, 3.4098, 3.4085, 3.4038, 3.4014, 3.4005, 3.3993, 3.3987, 3.3985, 3.3983, 3.3973, 3.3967, 3.3962, 3.3925, 3.3917, 3.3893, 3.3848, 3.3837, 3.3828, 3.3809, 3.3799, 3.3798, 3.3797, 3.3795, 3.3792, 3.3777, 3.3777, 3.3771, 3.3767, 3.3306, 3.3673, 2.9645, 2.4589, 1.2777, 0.3668, 3.49, 3.4874, 3.4865, 3.4863, 3.4861, 3.4849, 3.4848, 3.4826, 3.4816, 3.4789, 3.4779, 3.4767, 3.474, 3.4737, 3.4735, 3.4732, 3.4731, 3.4703, 3.4675, 3.466, 3.4636, 3.4634, 3.4631, 3.4604, 3.4601, 3.4592, 3.4568, 3.4559, 3.4546, 3.4533, 3.4523, 3.447, 3.4451, 3.4208, 3.4499, 3.3803, 3.1917, 3.1402, -0.5497, 0.8318, 1.7132, 3.4852, 3.4845, 3.4843, 3.4824, 3.4814, 3.4809, 3.4801, 3.48, 3.4755, 3.475, 3.4741, 3.4728, 3.4698, 3.4693, 3.4663, 3.4661, 3.4634, 3.4605, 3.4604, 3.4593, 3.4592, 3.4585, 3.4565, 3.4563, 3.4561, 3.4516, 3.4483, 3.447, 3.4468, 3.4461, 3.4397, 3.4365, 3.4174, 3.3924, 3.4415, 3.4081, 0.3477, 0.9817, 0.6681, 0.3653, 3.518, 3.5154, 3.5126, 3.5106, 3.5094, 3.508, 3.5039, 3.5017, 3.5007, 3.5002, 3.4977, 3.4969, 3.4957, 3.4957, 3.4957, 3.4946, 3.4946, 3.4914, 3.4896, 3.4893, 3.4891, 3.4877, 3.4847, 3.4832, 3.4808, 3.4801, 3.4801, 3.48, 3.4789, 3.4786, 3.4716, 3.4421, 3.4636, 3.2756, 3.4734, 0.9918, -0.2138, -0.0924, 3.5223, 3.5209, 3.517, 3.5157, 3.5136, 3.5092, 3.5091, 3.5084, 3.5084, 3.5082, 3.5079, 3.5049, 3.5038, 3.5031, 3.5024, 3.5019, 3.5006, 3.4984, 3.4966, 3.4958, 3.4956, 3.4939, 3.4937, 3.4923, 3.4914, 3.4893, 3.4876, 3.4866, 3.4858, 3.4839, 3.4816, 3.4081, 3.1332, 3.1356, 3.0814, 1.4242, 0.6805, 0.9528, 0.8115, 0.8972, 3.5241, 3.5197, 3.5154, 3.5141, 3.5137, 3.5076, 3.5068, 3.5068, 3.5066, 3.5058, 3.5056, 3.5051, 3.5032, 3.5032, 3.502, 3.501, 3.501, 3.5007, 3.4993, 3.4992, 3.4941, 3.494, 3.4938, 3.4933, 3.4914, 3.491, 3.4908, 3.4874, 3.487, 3.4845, 3.4817, 3.476, 3.48, 3.3651, 3.484, 3.2518, 0.2898, 1.1792, 0.4364, -0.1226, 3.5402, 3.5399, 3.5395, 3.5368, 3.5338, 3.5327, 3.5288, 3.5265, 3.5258, 3.5227, 3.5206, 3.5205, 3.5204, 3.5204, 3.5191, 3.5187, 3.5158, 3.5128, 3.5123, 3.5107, 3.5096, 3.5094, 3.5071, 3.5056, 3.5048, 3.5045, 3.5039, 3.5031, 3.5018, 3.5012, 3.4732, 3.3986, 3.4396, 3.3455, 2.0442, 1.1143, 0.371, -0.4684, 0.9658, 3.5613, 3.5601, 3.5544, 3.5541, 3.5534, 3.5528, 3.5523, 3.551, 3.5499, 3.5497, 3.5497, 3.5494, 3.5486, 3.5469, 3.5458, 3.5454, 3.5437, 3.5431, 3.5404, 3.5391, 3.5385, 3.5374, 3.5351, 3.5305, 3.5301, 3.53, 3.5271, 3.5252, 3.5252, 3.5244, 3.5152, 3.5028, 3.4819, 3.5031, 3.5005, 3.3505, 3.0988, 0.7203, 3.5622, 3.5609, 3.5598, 3.5583, 3.558, 3.5576, 3.5566, 3.5558, 3.5543, 3.5525, 3.5515, 3.5506, 3.55, 3.5499, 3.5493, 3.5485, 3.5482, 3.5443, 3.5429, 3.5422, 3.5415, 3.5393, 3.5379, 3.537, 3.5362, 3.5344, 3.5343, 3.5336, 3.5335, 3.5285, 3.5217, 3.501, 3.2718, -0.6341, 3.5778, 3.5701, 3.57, 3.5692, 3.5668, 3.5662, 3.5647, 3.564, 3.5631, 3.5628, 3.5619, 3.56, 3.5587, 3.5571, 3.5567, 3.5558, 3.5548, 3.5532, 3.552, 3.5505, 3.5493, 3.5491, 3.5489, 3.5487, 3.5469, 3.5458, 3.5453, 3.541, 3.5403, 3.5388, 3.5299, 3.4088, 3.4979, 3.3954, 3.2905, 3.3901, 0.8473, 1.6483, 3.5785, 3.5746, 3.5736, 3.5694, 3.5662, 3.5649, 3.5639, 3.5613, 3.5576, 3.5576, 3.556, 3.5534, 3.5524, 3.5519, 3.5512, 3.5466, 3.5462, 3.5461, 3.5459, 3.5434, 3.5403, 3.5355, 3.5352, 3.5347, 3.534, 3.5337, 3.5335, 3.5327, 3.531, 3.5307, 3.4963, 3.4232, 3.4709, 0.7777, 0.9153, -0.1114, 1.6993, 0.4924, 3.5893, 3.5888, 3.5871, 3.5844, 3.5829, 3.5828, 3.5822, 3.5822, 3.5817, 3.5806, 3.5793, 3.578, 3.5776, 3.5728, 3.5722, 3.571, 3.5709, 3.5701, 3.5691, 3.5671, 3.5665, 3.5613, 3.5608, 3.5594, 3.5591, 3.5587, 3.5578, 3.5573, 3.5546, 3.5528, 3.5512, 3.5066, 3.5485, 3.5289, 2.6377, 3.5436, 2.0922, 0.731, -0.8022, 3.5969, 3.5938, 3.59, 3.5884, 3.5883, 3.5877, 3.586, 3.582, 3.581, 3.5803, 3.5772, 3.5749, 3.5746, 3.5732, 3.5725, 3.5697, 3.5673, 3.5669, 3.5662, 3.5659, 3.5653, 3.564, 3.5614, 3.5613, 3.5598, 3.5597, 3.5597, 3.5589, 3.5558, 3.555, 3.5537, 3.539, 3.5467, 3.5123, 3.2621, 3.5462, 2.3296, 0.9486, 0.8347, 1.9265, 1.7264, 3.6022, 3.6017, 3.5961, 3.5931, 3.5926, 3.5904, 3.5894, 3.5887, 3.5868, 3.5867, 3.586, 3.5849, 3.5826, 3.5826, 3.5813, 3.5809, 3.5802, 3.5797, 3.5781, 3.5781, 3.5781, 3.5776, 3.5775, 3.5767, 3.5754, 3.5739, 3.5736, 3.5722, 3.5692, 3.5643, 3.5628, 3.5615, 3.5585, 3.4569, 3.5543, 2.9506, 1.1465, -0.3973, 0.4536, 3.6086, 3.6051, 3.6031, 3.5989, 3.5986, 3.5978, 3.5964, 3.5955, 3.5941, 3.5932, 3.5931, 3.5916, 3.5907, 3.5903, 3.5891, 3.5884, 3.5868, 3.5863, 3.5837, 3.5821, 3.5815, 3.5805, 3.5799, 3.5789, 3.5762, 3.574, 3.5737, 3.5724, 3.572, 3.571, 3.518, 3.5361, 3.3517, 3.4141, 1.0966, 0.6824, 3.6058, 3.6033, 3.6026, 3.5984, 3.598, 3.5951, 3.5942, 3.5942, 3.594, 3.5939, 3.5908, 3.5881, 3.5867, 3.5863, 3.5848, 3.5845, 3.5803, 3.5798, 3.5793, 3.5793, 3.5786, 3.5783, 3.5771, 3.5757, 3.5756, 3.5753, 3.575, 3.5744, 3.5732, 3.5729, 3.5082, 3.562, 3.4542, 0.395, -0.2511, 3.6055, 3.6054, 3.6037, 3.6021, 3.602, 3.597, 3.594, 3.593, 3.5923, 3.5914, 3.5876, 3.5872, 3.5854, 3.5852, 3.5852, 3.5849, 3.5842, 3.5835, 3.5832, 3.5826, 3.5823, 3.579, 3.5769, 3.5759, 3.5758, 3.5756, 3.5749, 3.5723, 3.572, 3.5708, 3.5109, 3.4753, 3.5341, 1.1868, 0.1588, -0.7326, 3.6112, 3.6108, 3.6062, 3.6046, 3.6039, 3.6038, 3.6037, 3.6024, 3.6004, 3.5999, 3.5982, 3.598, 3.5973, 3.5966, 3.5958, 3.5951, 3.5949, 3.5929, 3.5907, 3.589, 3.5884, 3.5879, 3.5863, 3.5858, 3.5833, 3.5799, 3.5796, 3.5794, 3.5763, 3.5725, 3.5183, 3.5532, 2.3471, 0.1354, 3.6356, 3.6322, 3.631, 3.6301, 3.6295, 3.6276, 3.6267, 3.6254, 3.625, 3.6243, 3.622, 3.6211, 3.6203, 3.6201, 3.6199, 3.6198, 3.6187, 3.6187, 3.6186, 3.6159, 3.6149, 3.6148, 3.613, 3.6102, 3.61, 3.61, 3.6097, 3.609, 3.6077, 3.6077, 3.6058, 3.6062, 3.5681, 3.5698, 2.7212, 3.1906, 1.0142, 0.731, 3.6344, 3.634, 3.6338, 3.6334, 3.6332, 3.6325, 3.6312, 3.6252, 3.6242, 3.624, 3.624, 3.6229, 3.6198, 3.6191, 3.6181, 3.6181, 3.6173, 3.6165, 3.6162, 3.6155, 3.6146, 3.6143, 3.6139, 3.6137, 3.612, 3.612, 3.61, 3.609, 3.6085, 3.6084, 3.608, 3.5072, 3.599, 3.3121, 0.6411, 1.1075, -0.6738, 3.6426, 3.6371, 3.6355, 3.6348, 3.6345, 3.6341, 3.6337, 3.6335, 3.6319, 3.6313, 3.6279, 3.627, 3.6264, 3.6262, 3.6243, 3.6218, 3.6196, 3.6176, 3.6169, 3.616, 3.6132, 3.6117, 3.61, 3.6099, 3.6097, 3.609, 3.6075, 3.6065, 3.6054, 3.6054, 3.5983, 3.596, 3.587, 3.554, 3.2413, 0.6803, 0.743, -0.5986, 3.6419, 3.6396, 3.6394, 3.6333, 3.6321, 3.6313, 3.6311, 3.6308, 3.6287, 3.6272, 3.627, 3.6267, 3.6241, 3.6235, 3.6231, 3.6228, 3.6217, 3.6205, 3.6187, 3.6179, 3.6155, 3.6151, 3.6117, 3.6112, 3.6102, 3.6096, 3.609, 3.6046, 3.6036, 3.6031, 3.5962, 3.5555, 3.5559, 3.5227, 0.6406, 0.9576, 3.6439, 3.6403, 3.6377, 3.6364, 3.6321, 3.6296, 3.6296, 3.6294, 3.6291, 3.6278, 3.6277, 3.6268, 3.6264, 3.6233, 3.6228, 3.6222, 3.6219, 3.6208, 3.6197, 3.6165, 3.6164, 3.6162, 3.616, 3.6116, 3.6109, 3.609, 3.6079, 3.6066, 3.6055, 3.6, 3.5726, 3.5893, 3.3541, -0.9341, 3.652, 3.6498, 3.6469, 3.6402, 3.6394, 3.6385, 3.6379, 3.6349, 3.6335, 3.6327, 3.6324, 3.6312, 3.63, 3.6289, 3.6286, 3.6252, 3.6224, 3.622, 3.6197, 3.6189, 3.6185, 3.6182, 3.6175, 3.6168, 3.6136, 3.6135, 3.6126, 3.6114, 3.6084, 3.6084, 3.6074, 3.5316, 3.5201, 3.5948, 0.0272, 0.6006, 3.6586, 3.6585, 3.6536, 3.6506, 3.6493, 3.6468, 3.6453, 3.6426, 3.6424, 3.6413, 3.6397, 3.6396, 3.6328, 3.6292, 3.6287, 3.6273, 3.6251, 3.6236, 3.621, 3.6209, 3.6203, 3.6201, 3.6197, 3.619, 3.6187, 3.6168, 3.6161, 3.6149, 3.6146, 3.6141, 3.6137, 3.6134, 3.6088, 3.611, 0.8928, -0.6204, 0.7632, 1.1849, 0.6045, 3.6617, 3.6546, 3.6539, 3.6477, 3.6469, 3.6457, 3.6455, 3.6452, 3.6448, 3.6443, 3.6437, 3.6412, 3.6411, 3.6409, 3.6401, 3.6392, 3.6372, 3.6346, 3.6333, 3.6331, 3.6326, 3.632, 3.631, 3.6309, 3.6308, 3.6279, 3.6279, 3.6276, 3.6274, 3.6264, 3.6233, 3.5349, 3.3388, 0.8302, 1.3119, 3.6773, 3.6745, 3.6743, 3.6719, 3.6708, 3.6705, 3.669, 3.6675, 3.6671, 3.6657, 3.6637, 3.6592, 3.6588, 3.6584, 3.6583, 3.6581, 3.6579, 3.6577, 3.6544, 3.6538, 3.6533, 3.651, 3.6508, 3.6506, 3.6491, 3.6463, 3.645, 3.6446, 3.6432, 3.6431, 3.5962, 0.149, 0.4869, 0.7323, 3.6825, 3.6796, 3.6781, 3.6775, 3.6774, 3.6753, 3.6753, 3.6745, 3.6731, 3.6721, 3.6678, 3.6676, 3.6653, 3.6647, 3.6638, 3.6604, 3.6572, 3.6569, 3.6541, 3.6514, 3.6489, 3.6478, 3.6478, 3.6466, 3.6457, 3.6444, 3.6436, 3.6402, 3.6394, 3.6383, 3.6377, 3.6342, 3.5859, 3.4812, 1.1341, 3.6817, 3.679, 3.6781, 3.6772, 3.6761, 3.6714, 3.6701, 3.6686, 3.6685, 3.6675, 3.667, 3.6662, 3.6645, 3.664, 3.6638, 3.6623, 3.6608, 3.6585, 3.6584, 3.657, 3.6546, 3.6545, 3.6541, 3.6525, 3.6506, 3.6498, 3.6488, 3.6483, 3.6457, 3.6426, 3.6408, 3.6361, 3.5472, 3.625, 3.4406, 3.2169, -0.3754, 0.309, 1.0121, 0.7711, 3.6814, 3.6775, 3.6772, 3.6772, 3.6764, 3.6737, 3.6694, 3.6693, 3.6684, 3.6678, 3.6653, 3.6646, 3.6637, 3.6635, 3.6602, 3.6601, 3.66, 3.6594, 3.6592, 3.6576, 3.657, 3.657, 3.6559, 3.6557, 3.6551, 3.6539, 3.6532, 3.6529, 3.6504, 3.6494, 3.6416, 3.6456, 3.539, 1.5478, 0.3047, 0.7367, 3.691, 3.6877, 3.6874, 3.6851, 3.6842, 3.684, 3.6838, 3.6835, 3.6828, 3.682, 3.6777, 3.6767, 3.675, 3.6734, 3.6695, 3.6668, 3.6662, 3.6634, 3.6628, 3.6626, 3.6616, 3.6613, 3.6588, 3.6571, 3.6569, 3.6566, 3.6564, 3.6554, 3.6534, 3.6533, 3.6494, 3.5923, 1.1706, -0.3257, 0.1176, 0.7143, 3.7021, 3.6964, 3.6852, 3.6823, 3.6813, 3.6797, 3.6788, 3.6781, 3.6772, 3.6771, 3.6743, 3.6725, 3.6719, 3.6713, 3.6665, 3.6654, 3.6612, 3.6611, 3.6609, 3.6595, 3.6594, 3.659, 3.6589, 3.6578, 3.6538, 3.6533, 3.6532, 3.6521, 3.6511, 3.6508, 3.6507, 3.6094, 0.6526, 3.7058, 3.7057, 3.7056, 3.705, 3.7047, 3.7045, 3.7016, 3.7009, 3.7008, 3.7, 3.6996, 3.6984, 3.6981, 3.6979, 3.6975, 3.6974, 3.6925, 3.6924, 3.6906, 3.6902, 3.6901, 3.69, 3.6874, 3.6864, 3.6858, 3.6844, 3.684, 3.6836, 3.6808, 3.6766, 3.6756, 3.6637, 1.2827, 1.2389], \"Freq\": [1521.0, 950.0, 822.0, 753.0, 2366.0, 740.0, 1033.0, 624.0, 547.0, 581.0, 529.0, 493.0, 561.0, 572.0, 444.0, 401.0, 407.0, 438.0, 397.0, 397.0, 378.0, 373.0, 427.0, 404.0, 377.0, 517.0, 355.0, 476.0, 352.0, 314.0, 108.93543363837017, 127.33131775867793, 166.1352407471779, 323.2705338821688, 190.34863909703327, 121.23826567037622, 208.97826374257608, 50.24283496474359, 47.98485146631183, 57.82423259678612, 76.80169234889162, 47.591410802051094, 35.23329964894324, 31.59010168747279, 36.595711412887766, 32.982349925224966, 23.698364723372137, 23.263077556308534, 24.771014147511675, 23.22749042735022, 23.116227617512088, 21.227400087468084, 20.30057718196836, 22.59294157313587, 18.683426744529175, 123.27961698485349, 17.79023324071178, 597.0838937480605, 21.468596814699236, 23.924189598469738, 535.9804968860795, 264.72140590510526, 87.83732240708719, 28.607639038381556, 49.14641914499754, 51.937459441156, 70.2186531892348, 42.74853025647212, 168.48680664869926, 106.81009545717586, 74.15133616362823, 209.20864242893217, 46.49908636909326, 63.15821519068259, 42.16605510493854, 37.77209246494951, 37.06149373689605, 140.51137196091966, 117.39755341851549, 118.66478056966574, 189.92302877321504, 70.17288611647976, 66.77277388480415, 58.20980844590495, 206.4948778470877, 62.475288979908264, 75.11403285701608, 40.459785785988345, 63.34697699916486, 41.85321090347827, 32.452156964418435, 37.116069332742015, 30.52586101671711, 28.71984171730266, 28.089041148711143, 67.42011188027416, 26.011353817575344, 24.43259601905805, 24.268812949356523, 23.460003389895547, 35.52229065892957, 33.349202647153696, 35.415440178917684, 20.746742327240014, 19.96767848675537, 19.785606091787766, 18.348871158118985, 237.73917571355742, 275.25925031860993, 92.10910941563569, 44.3924211478362, 68.60045995701577, 331.34260110027594, 354.20693313600844, 315.430104550605, 140.1103653489112, 36.420551433119755, 59.01010211171386, 39.069556609491734, 351.09898274199514, 137.23434214419436, 158.92664979098967, 61.09831492150709, 144.89887822961606, 41.157394427958856, 111.36943802598314, 34.55857317785566, 33.065320644342705, 43.08583120217982, 28.791112119860536, 26.678537818776874, 25.88202012539325, 25.948453946862404, 23.833693454019226, 94.95318412662856, 145.4567080002516, 156.10973495407825, 36.76433566612309, 21.100196307046666, 20.86543761756367, 19.065115646711416, 39.23172971574233, 18.05858766282743, 17.606702623812797, 33.12256097512993, 15.726854259478227, 14.897395612170977, 14.060575810412805, 16.32063286992935, 1391.590190920208, 24.249969766853333, 20.444010777613272, 21.82518003162372, 194.42396477348, 115.25658988864207, 48.10689501078721, 28.39619432403305, 23.57365456668653, 22.586616908345913, 443.18621429283604, 194.56844082836096, 92.84063231914071, 91.79668879557003, 53.77436628597085, 47.97866120889798, 61.26577450513943, 39.13013450403848, 37.93271096356049, 49.05554412765306, 40.1700418593744, 49.165807709653365, 34.82831876171584, 34.257178427125574, 56.01913009757336, 28.84563854183358, 28.34470938881155, 74.98227273015408, 23.37894537256611, 24.651931088059733, 20.594468251856394, 19.842359031784863, 26.999043686298528, 24.216932869679408, 20.3560171426041, 19.411000353555472, 18.974071480066527, 18.698009168562265, 84.59672747743286, 18.262367173561387, 246.64880657717356, 28.53857131021539, 655.5368597336944, 905.5204272802258, 30.91290517272732, 20.58390888933313, 114.01952987236531, 163.25719782084568, 134.8343492743377, 69.3987303059532, 91.57663329157727, 108.03078067486281, 62.81557473886274, 61.02035418161745, 126.48940062285102, 42.17840940318368, 40.56041522441659, 53.411789842814166, 36.042661088525726, 34.791047472552265, 33.733506553879245, 46.19470387459208, 40.1300268371208, 51.794107762850274, 26.132241865048822, 25.695321747081607, 69.3915009362024, 22.778929060453745, 22.88824926301463, 20.92323526326213, 20.760234628351753, 20.38033367872013, 29.9904924050805, 18.907806884253045, 18.220285874681736, 17.51123202002605, 81.97503204396108, 47.4804400805725, 56.3326146749909, 105.09563905223654, 24.499317337970204, 59.80391588614123, 380.8403360897246, 333.3210173608763, 41.33108788001259, 30.066714237344808, 27.898681002414317, 62.461521327602476, 60.541995983096356, 70.23168245242454, 49.78731240762799, 46.26920276172252, 44.745713096456754, 55.03657031300414, 46.436080237043015, 33.95803002106969, 58.1740618418595, 85.02150789324155, 533.6304659581496, 27.35828131305057, 26.716332054449254, 30.059941608836127, 24.847132694968163, 22.668003567055887, 20.440948299714556, 20.75940203216686, 20.067988632317267, 19.770782204894036, 74.94589843475394, 18.70787689448146, 18.386187353611973, 18.412087497193262, 17.09902023222558, 15.407196634456351, 14.99217543673985, 15.041973907292975, 14.740847171880722, 99.36017853966783, 104.52391922131403, 393.86372485940996, 677.4914108625665, 23.178306672140838, 44.69248206446592, 44.933262662313645, 35.42425681317659, 25.504753028996976, 24.23675546213257, 115.64435620516336, 82.26970897266519, 93.10071325081844, 322.4812604315145, 48.64838735188271, 46.83793832729311, 71.0442036381767, 68.31061408635206, 31.532302766575498, 33.13940336425868, 29.0696742901501, 46.48697912106753, 26.18106905219356, 26.765771468597094, 26.1476533257016, 25.4099975577499, 25.364747313423912, 24.04396977082418, 21.88144585256317, 21.799872974719435, 21.360462564105212, 24.69926339666881, 20.158395578443614, 18.3398681947263, 17.684438185029475, 17.07553996228795, 17.57314620375349, 19.314117179938403, 18.17444606276139, 16.734962306951704, 139.34584939539488, 516.4010877742221, 79.23170277465476, 251.82450173759003, 18.954583699280793, 30.27513913042323, 24.946959174544613, 19.861735656052975, 170.46591617264286, 146.81094250587728, 81.08408728703897, 69.9228831480923, 72.74806431513375, 55.22752714119347, 51.457765683309425, 42.05785611906041, 49.92487608210991, 42.20304317475259, 43.3581711630169, 67.20508943261612, 33.687654153291305, 32.62442612804267, 80.064883866163, 387.6361843152971, 29.501063357978822, 147.09939059375174, 117.42664126220473, 25.342395241833476, 25.018654291929035, 129.75514687324184, 24.03958775486715, 22.916645222008977, 21.836766948963458, 20.64617129132845, 19.711730000102648, 20.23100059046399, 20.456072227482466, 18.009623560329807, 21.864292913738, 54.363702833692045, 168.92133667282894, 89.53183971261588, 67.6584323041531, 126.15286933638306, 60.91192714841199, 42.38188503982173, 34.2169514566626, 31.637773073938487, 491.1723553797988, 97.90138080309913, 70.69943711515401, 54.283362826942714, 51.85141611281131, 42.194313553094744, 36.408600241752566, 35.85695258006914, 35.17307596621017, 51.591648666124236, 35.708684075382514, 41.30057772720991, 34.30607776181384, 30.69198757813953, 29.184626166849274, 28.114866250807165, 33.46954706150599, 30.03288003656341, 27.109388789296492, 27.500889114820072, 23.071117522470328, 22.5277979714271, 423.3431440897209, 23.62555759456495, 21.593629434887646, 21.025391524750308, 26.076024155568145, 18.759270126509257, 18.69391470211111, 17.537244084157727, 40.80899148728594, 43.407738131736245, 35.282760808022175, 628.2179565257958, 23.5693599513653, 53.460905075674965, 92.74734187776541, 28.134711446452975, 27.304925158204206, 27.236915246444937, 104.69117441168451, 114.21732198812504, 96.20693787260109, 150.93823786264107, 203.26172821365958, 53.41363608644136, 43.727026319025526, 38.43319277393118, 35.700575379661274, 31.24556726209794, 29.54845435504663, 38.8822364227358, 28.8767504165811, 110.38917882177675, 29.57306337964593, 29.23986625730221, 512.8873670545297, 54.58875621885361, 22.74994470513981, 21.04865559038759, 20.43289750750233, 21.361290923507944, 19.30514276632735, 18.482085213997006, 56.11414314860883, 138.382566612753, 17.76169888130434, 17.79670404264443, 16.917920603295222, 20.221235901201617, 79.51378909258233, 306.2491664590962, 44.43612080697853, 141.44061621421955, 35.73724999586295, 48.79477286478036, 43.78808458701692, 42.64285255037704, 23.148326253266404, 159.62973509849976, 115.00282611013785, 105.74208272231985, 66.2539978844356, 54.9132832847914, 54.613096451305246, 50.5411837851827, 46.5488139275414, 53.247968300054474, 43.97609017685975, 389.7873878579121, 54.27786931151635, 40.42355190929562, 37.15639377179384, 49.464562044442, 59.259195780834524, 32.537557186952824, 32.000178450788, 28.743229433620332, 27.741251581206082, 34.074789303323456, 53.871583868728, 23.757295314106962, 21.14698210630615, 42.21936871927658, 20.522265910213967, 19.21174505443294, 18.58642728219607, 18.18376667332329, 18.10282160774611, 57.22048788014632, 121.07362502996492, 235.74319498798744, 64.70425243846402, 26.3886272510407, 40.36043336147603, 92.13870105826597, 34.87785024271176, 89.43611239358708, 141.97412778147216, 126.35856170143923, 88.57858857815035, 61.280488822191934, 55.48824737248826, 55.078073030983944, 48.688265289462606, 44.51354644494889, 42.44768338706314, 66.71090792629825, 36.90972589166839, 159.99347857873582, 50.46611858680813, 49.312284770550086, 33.82599796887943, 165.34788978092465, 28.366435451862802, 28.14542266121313, 26.30903304636613, 25.685920980198517, 23.94233275657928, 22.937381412593158, 22.39304350836613, 22.29426943271222, 21.59393524771456, 20.75629985114517, 363.4335114381601, 20.311412289300932, 22.90331255530317, 276.8496325482104, 78.48160100855948, 119.05617964244094, 35.269427032277264, 203.80388312429113, 66.86773001262331, 79.91877379307883, 134.76556266736367, 90.19821605505312, 59.182334076975316, 47.10403291021797, 45.57646245982237, 43.177650373769644, 52.09780265783447, 49.30455373463939, 35.82873417430895, 34.21666220053756, 41.888371455741556, 63.25111904141548, 30.591725107177073, 29.23364631637724, 27.32085935265252, 166.2289694974815, 25.46721142885036, 24.004343590757212, 23.990707304197194, 23.679926923335714, 23.52805352456744, 22.44676787941923, 58.039456722258784, 21.50336287347529, 23.078193219879015, 19.75058711398489, 23.20515581336168, 38.72059153153078, 290.59058937628356, 39.694077224013405, 82.32594003209631, 124.18782518460179, 56.31662860732752, 28.498016429186894, 25.04133171299245, 240.0027209958888, 113.27156135638023, 84.08840122666334, 58.975023827336386, 47.11146348675648, 85.05713789235233, 41.2657901134967, 147.31006108772272, 31.023915994536495, 32.4050864481803, 29.09170044993708, 31.994782679716106, 29.841000120212673, 25.58306396382366, 24.68706800505432, 43.26651864024735, 21.235930749340973, 21.200503152046178, 30.33507670286328, 49.73192135079553, 19.45635664949698, 16.383224509007164, 190.4185860136217, 18.1967970619561, 905.3746880893449, 15.869531753874332, 15.963736688540592, 15.436131702025833, 16.000782058875675, 14.844507786849455, 41.8189663615919, 54.98021111008504, 21.27588104786669, 63.49000823337596, 30.015951203880967, 37.83873185322126, 19.914330791953926, 19.96234494706287, 87.88375133174218, 124.65914811342562, 90.31566403612305, 206.74250598053638, 67.04797545047208, 65.3167380066535, 57.59733894749781, 63.938212421718276, 49.831031295929535, 43.93655835322305, 65.80895609673425, 38.32429632175371, 41.614578489433804, 97.10463924214747, 50.77328394044846, 29.512406687496927, 31.0814857228085, 33.38231681702338, 26.606289407331126, 90.36196630548345, 48.997434302268616, 20.94017991818107, 21.263766254004366, 57.742991372126156, 21.263405490296392, 31.193284678399667, 27.979616604187783, 18.901769411793367, 17.692948818268345, 16.97938584641218, 204.44344194867352, 179.99342886949307, 22.156411598424032, 27.797294781024664, 117.112013562487, 21.840944510230955, 123.33005009909401, 29.397562134688368, 29.029409049928113, 404.8898079194902, 102.41912874304035, 60.06082929068657, 60.145435661569664, 53.23071108458612, 195.55234980839367, 45.92613237608196, 45.58296856670769, 102.81645583515376, 34.447205737972816, 30.3212497007608, 27.774676463003107, 29.264106170872047, 26.189721111787797, 26.499491940181063, 24.079381958630456, 22.5622583605798, 185.60226333393754, 36.485132939168906, 21.170563189787543, 21.52411973713622, 28.435012243917296, 19.084368015657013, 18.836278315759767, 21.882790222192796, 17.93189903877263, 17.921162925016986, 17.596342896469103, 19.1249148692859, 74.99587470685118, 92.12879887313251, 54.053812371613986, 31.94323157832495, 54.96884530640225, 118.4338832644508, 20.165797847217306, 68.95500193715556, 166.41526141712714, 37.75678651962282, 24.76748417585318, 24.855840826623183, 249.82998277599881, 224.56660283482833, 54.534124821401605, 44.10598116720497, 48.30780950613536, 39.04288747710788, 206.96502946010844, 132.17482145921494, 33.354970197047976, 224.56468532955753, 33.1286885074325, 30.860517752097646, 30.26574202798249, 72.18847312691376, 27.02228128604484, 27.474467703150008, 32.57541309657362, 25.091946403373314, 23.805667328243732, 23.805667328243732, 23.805667328243732, 23.48829121532045, 25.18999838505915, 66.1510562702727, 21.98519442356998, 21.605340272477893, 20.92948654014584, 20.167004232784745, 19.86443808500146, 19.42082451420115, 339.20008290564783, 31.428075565568726, 23.947583161106582, 55.01019107135611, 23.63880272832667, 83.88151473406273, 36.77838431112221, 42.983274156026376, 25.590421704500862, 313.69661711195744, 127.13158757286693, 109.74682666618673, 61.502304770677135, 61.276455136898825, 68.98672739212427, 64.44618305903064, 50.6090924496435, 44.37837153818233, 82.0863367769105, 44.359704431525124, 39.01358280367957, 40.2821842102234, 36.529903088089725, 40.19119792099926, 33.49514883875746, 41.480052124094115, 34.34792081420066, 27.85358088298786, 65.86719763749399, 90.26422451205971, 24.956700382426927, 24.458393272338675, 25.005713708070413, 26.255930339933396, 20.61813918323262, 20.438541959648642, 19.92467556919719, 39.08413153008225, 19.051629192974886, 368.3732636292972, 135.06632716823466, 56.47535964345093, 36.9940972102541, 84.84755644163138, 29.71511625702775, 126.10421152942318, 106.22040660478648, 83.7678161639882, 59.405034885177784, 58.60025476961254, 54.34360282098852, 94.88737417328858, 44.08663331946381, 45.33582728842017, 46.92900110558637, 37.70918830730568, 35.29300822206055, 32.865710635509316, 30.47803564402999, 29.04066195274501, 28.502015674817013, 26.36173666328165, 27.60026447957079, 24.479424159047223, 24.54072181884048, 23.633561542361075, 23.976701545754, 32.836412373773726, 21.489603005455695, 21.668821825874513, 21.65223070751124, 21.096285582363738, 20.77374907464802, 20.101951916108057, 20.744657116648774, 523.9964077738182, 25.91577832746327, 49.69027642645288, 22.288975027357814, 22.042975489279545, 308.7782212641828, 89.8619097598662, 75.08365218462062, 104.15362157451656, 64.5444100925535, 366.86321198745384, 43.32227581228507, 37.16010793379105, 49.27878019177209, 34.44471949683276, 78.26801805879458, 29.085960999693036, 184.60139999782805, 228.962108354632, 28.430772940266426, 31.05818783816251, 26.11492979270099, 25.638258712769463, 28.28093778825905, 28.142574171157285, 24.70621288620996, 22.243768599750894, 21.097953617375687, 24.102787721201857, 20.337867568294445, 22.369298964241917, 20.141987026659333, 19.82112582917112, 18.605350184849527, 31.64524895523004, 70.30299012549703, 71.48685847244263, 21.798495005503153, 38.167939744921334, 33.139950560186044, 30.63764468188476, 216.58366890321665, 295.58543622404926, 63.49435284640135, 74.3736185971234, 52.297882943656035, 145.66494231489136, 47.705360758927654, 44.14050196179913, 66.27369828159237, 39.9804478522951, 68.55161251268377, 36.08133034927362, 47.78831333237457, 33.27620924028131, 168.5270291060317, 31.84753964918029, 41.8254529964089, 32.315644027815765, 27.4579148777414, 27.655846437301758, 24.59088374521174, 24.411505481715672, 23.279790078402247, 22.712061470695012, 26.101306362104012, 26.47671587531964, 29.226207397999506, 19.307828751750137, 26.89141430662524, 17.07714999960635, 129.80038762296633, 27.672413720322236, 106.80484218096117, 32.17820337642199, 91.56468641127164, 62.857849957107625, 121.2659236603272, 53.866441831811926, 52.53997928538477, 50.874558390228465, 165.08498966966565, 86.429028060277, 44.58851745439708, 51.56911485152194, 147.3543260290385, 43.38811579474094, 35.080163514578786, 37.7738699164311, 31.583048275986403, 31.825176560002575, 30.108097457043165, 30.06006655776082, 29.951837347123657, 27.300866567767034, 26.19237014875132, 53.661690085820645, 24.638369374802593, 92.31943335361304, 26.74002978385633, 22.444041313166355, 22.439768954241767, 22.3757224596847, 21.392693167145755, 21.20653942646091, 108.77626824298903, 22.82555366210992, 43.571009650401336, 28.403740023530265, 65.84182765745537, 27.30927890339961, 31.61946013846364, 28.067600167573584, 118.13817465922234, 69.29001987323994, 67.78167819252856, 103.66870816545469, 65.22990846939888, 62.90323348867247, 56.039551787660756, 145.51933354391886, 48.62817712435818, 256.504576686102, 41.538229722639734, 40.33302103055624, 30.639970364446853, 29.74523341413327, 28.717555312953145, 78.50503783487245, 28.337608879039553, 27.69545753454088, 185.2473308503592, 26.140950129595375, 30.65146592321279, 28.210903483776253, 110.9759622440631, 28.323443792706723, 23.643230688015002, 23.589730761980658, 41.66808557861793, 21.650279238606537, 21.88345339914389, 21.40045238221348, 24.5028319687166, 46.555241511717234, 23.112838202122674, 60.312233397309015, 52.030457788168256, 43.95805323431297, 31.494187011852848, 182.8390890208812, 87.35165563907564, 136.21646800280803, 64.05796886873718, 154.32150094405313, 85.90001020651674, 68.36199553919559, 59.47584213775626, 51.63493693436103, 49.663822972381844, 58.458958473853734, 56.69526144055847, 68.1725082348757, 122.41271378704711, 34.43346012459424, 57.05445520607012, 28.47259351363718, 26.489012848162286, 25.897329795215047, 25.157222675443897, 23.058908330881717, 22.613153797751842, 21.01300332473629, 171.84653898374827, 20.86549514768376, 22.17189486713505, 22.201165982582527, 19.198892137199394, 18.69213793854174, 19.431194922767066, 57.361823675247784, 47.84673801949932, 32.87039839771418, 32.69874255685527, 87.29274399671924, 54.01828414179495, 30.480064593399828, 33.897279940095785, 175.47012379206703, 96.20201613888568, 121.07052041236295, 89.1895999327307, 91.01957781368696, 51.620053735635516, 46.425995143800314, 46.616374005628266, 62.68231582778256, 65.53857192908795, 37.95115431370969, 122.99394300263715, 94.58729858669001, 34.37035026484552, 31.39276227118305, 31.06867188770382, 31.426316952148394, 28.55960789545466, 26.83705185088722, 134.34379467798047, 24.22959627745791, 24.19530846374936, 21.42304010809405, 37.57894809333742, 20.579872328503853, 78.21546073622642, 19.909066026011345, 18.62994819120823, 17.59454915998984, 17.285615643320316, 25.79751510420821, 159.43393685330074, 33.16154623014836, 39.520714698956425, 51.86464760864753, 29.782398648565838, 139.01434092604285, 146.40618754648332, 69.34207117031704, 82.66747553573222, 45.20565153426542, 57.07344875699023, 60.6560557255296, 39.59767600612876, 38.51430055947944, 36.04440276827704, 39.2407973908607, 34.442202886017036, 40.04180394494056, 29.83050102385246, 29.23904559309822, 34.661464382831944, 29.955472213617174, 123.40771233796906, 39.34700780478818, 24.587538949665703, 24.047449191607974, 23.37705848036357, 23.21538742015901, 23.059540984912996, 20.666876846887583, 185.61100660740036, 18.90691152045905, 18.09002374291946, 54.40186784154355, 15.739325002744947, 295.97582157779254, 24.47040688295581, 63.08072107442654, 24.174897737375428, 186.6587661389849, 135.252203967741, 119.30216393576704, 47.094506808660505, 88.95532041534771, 43.391471383317615, 371.6953295353839, 69.96265289225535, 33.610080024946406, 32.66003399684149, 32.00648305113718, 34.56539493220394, 169.55807257941655, 28.022374389073377, 47.13903642495928, 24.68531601543207, 156.6395260221046, 31.252569381785065, 23.646020271104277, 24.040992463192215, 20.35120587730988, 21.115573670370317, 20.406951874490723, 19.452092334453585, 21.241953593229006, 18.142698120688532, 67.06315299497693, 17.334608307251916, 16.153947341097012, 16.004412297142636, 16.459953337040076, 97.22376338700936, 59.70026847831063, 18.757967892416087, 62.76484825898132, 20.510879533413796, 167.04363385017436, 217.517832388482, 79.64449536121411, 127.85579307900055, 55.21597236134722, 46.66670332206252, 42.316940306396226, 163.7683683188064, 37.139374657624934, 34.860005977984294, 50.964992446284725, 66.89923696531402, 56.90114599082361, 22.75267016500908, 190.37577739726945, 21.47635493896926, 20.119079487712344, 19.337434857326276, 18.16149190513459, 18.31760885245723, 17.881804681671053, 17.76621599030829, 17.765869662074298, 17.79766985803573, 18.206365251396026, 16.554136511355814, 17.858339393013512, 15.978613281463812, 16.226631061492025, 15.626967435159418, 100.67848253214386, 21.042154728072674, 30.96338970338531, 16.585378879078256, 37.660833248660516, 32.617541680042464, 23.77624531336014, 20.65771338201634, 17.898582552608172, 263.3605495170242, 86.79772976588723, 78.52508412496319, 60.42248096138917, 46.08982495732571, 56.885523423283715, 40.948255799882325, 40.356895345050205, 44.47436868252534, 39.555128182611035, 41.2127700474971, 56.59585809951587, 37.453539604282035, 34.5823192638751, 31.99829354279929, 150.15062032560616, 32.077555094200484, 27.09354859081062, 31.171053359039607, 24.971682186786587, 24.638429024306884, 24.797559664010496, 23.528269649376114, 23.171360729047766, 28.59560121496241, 21.622043168483096, 21.770223247945093, 22.287590413158544, 20.943529191627373, 30.80348170587539, 44.39170657277688, 66.45226749774332, 124.98306243610536, 139.00752108127028, 98.26239486943058, 114.05370184042916, 145.67898048919005, 78.27753253212067, 274.1175043501563, 128.08109507984813, 56.71832600437812, 153.08514411658822, 48.23618503882792, 82.39527837344036, 42.02762054856459, 37.96923514590565, 31.993850684846244, 30.911653095981574, 30.174191109054902, 30.085857883924852, 30.22252318590277, 31.687445142982487, 31.246161476159106, 26.763765864614463, 25.730450564176493, 26.21823350114075, 23.40762172555738, 23.85950548798475, 23.139371312348324, 26.36803258755515, 51.942295431737364, 19.763898291573582, 19.73611990247289, 19.030830287009866, 20.025250665983936, 33.98879058274083, 68.97067107107235, 42.88849884193916, 22.58411251326445, 133.45135910555862, 95.42599778899086, 76.14811135492128, 397.5330885628822, 74.72922300190129, 59.9880430034543, 59.305472450872685, 57.14165030084787, 73.95163364922945, 48.20257798260245, 37.85168657862566, 132.37261847117503, 33.95467986219717, 98.52806957751405, 39.62826747226678, 30.45376846092088, 25.43066109877112, 24.7163146400052, 167.44434293020245, 21.137725727523122, 19.61696794755211, 19.48268693738204, 19.872201019825738, 18.769714833954914, 21.457655171192112, 17.58913303564632, 17.65492192463198, 16.026497338549365, 15.88504601711238, 15.417361678377864, 30.503927415787437, 37.5591883981728, 23.449522474858238, 37.15915089876145, 22.928505455306695, 124.62415043264524, 91.18733128167605, 116.64208888939105, 104.47221999116071, 62.97602075904547, 47.70106796464089, 59.64747467538691, 39.33999912240858, 39.17093474656958, 69.17475947150325, 38.577065696563395, 35.08729439052271, 41.34743962939923, 31.864508682617913, 31.689948389683043, 30.718274484727782, 96.97856361522199, 26.00899835223763, 26.76102238365133, 24.770954822573056, 23.403686915345183, 23.071945467613528, 22.891752362471166, 21.602324266334367, 20.527496052819213, 20.095654925665198, 19.59447445651111, 19.47276041694931, 18.122271486675594, 17.013109003883535, 26.210231477570638, 39.87852378964555, 180.13516842887296, 25.470107204311912, 22.342699610812076, 24.421378476896535, 40.65442353047145, 35.75216436964644, 26.248549821183857, 23.379540913372566, 108.1045175177837, 68.16634857801867, 70.24300465012776, 67.94440155222561, 67.01313618092675, 70.52780414932496, 40.26356135887341, 40.01210360672433, 109.33395193767943, 36.83392889689915, 33.27794139852213, 32.39780916120085, 283.2951184506377, 30.89069516036644, 72.42241714899596, 27.259693059912415, 32.977137023281216, 30.38128599859467, 26.745215687047853, 100.51957408222913, 24.73135587483175, 24.456113870147, 28.590371860674313, 23.428535209376957, 24.19657638134939, 22.174865076532498, 21.749991435062835, 41.836075676102105, 46.89955313590516, 23.6300300015114, 28.489052976028585, 24.666932867398803, 27.121072044204073, 30.9276404332586, 35.579745413444314, 29.0415164354516, 106.45323391702605, 119.25481383535157, 84.99352931704027, 105.97903705263869, 53.663248464272336, 53.06619049069899, 63.7930630827476, 66.23411850220319, 71.14254817847053, 47.02915680408657, 84.38781457506596, 35.95691084484059, 75.13584718510499, 31.190429241584724, 27.87227697458083, 32.451008373808044, 33.512757859686275, 21.991447502062254, 95.99588285159682, 21.540271477763927, 22.03061106227687, 20.76438086729955, 19.542316700130655, 18.641914466911537, 20.194291366771324, 18.78880414319386, 18.448712882917896, 18.054579402643146, 17.092039790194686, 17.19532818232072, 44.09171721732375, 22.982673215447683, 35.027283464595726, 42.28930753417347, 29.221552719978412, 21.863895213008607, 821.5319036334697, 124.58316634730744, 45.875396710093895, 136.2657220526888, 76.07130523345208, 33.1285701423559, 32.55434444953668, 32.569334591454925, 30.27286261262047, 30.661436894541186, 27.30479553296745, 25.67232227725469, 24.91751588879547, 24.374605375910978, 21.528911461276344, 114.36705056202625, 18.49621559201825, 19.070189074952737, 19.25244881231531, 17.963658829662986, 17.707128082632877, 17.85897032717913, 17.521386528070185, 17.40976924583688, 15.735274865607417, 15.618020843717769, 15.738364225071356, 15.230326157249644, 14.836473120187058, 15.036621690438263, 15.472360904025381, 87.35391257293055, 20.461014913588492, 62.63790596796481, 57.75905314996094, 110.97036376812737, 61.283784473635336, 54.8980815946861, 53.3434119902282, 44.43944136489971, 101.11885126505705, 84.32610799907606, 40.697582104927356, 42.00278139908331, 37.53539728874884, 42.29822805797562, 40.2373462048143, 104.39729266182215, 36.18661251905486, 30.79404277025306, 37.81663357971849, 86.51003851905176, 31.235734043589034, 26.775741355148508, 27.18592777214433, 24.46612352539597, 31.69319431018766, 39.05721617404667, 22.50177021867622, 22.356107135301162, 22.14913865555876, 52.952643627769156, 18.209915401112145, 23.217089685294958, 33.40861594077051, 44.35969548341993, 36.19580000130901], \"logprob\": [30.0, 29.0, 28.0, 27.0, 26.0, 25.0, 24.0, 23.0, 22.0, 21.0, 20.0, 19.0, 18.0, 17.0, 16.0, 15.0, 14.0, 13.0, 12.0, 11.0, 10.0, 9.0, 8.0, 7.0, 6.0, 5.0, 4.0, 3.0, 2.0, 1.0, -4.2438, -4.0877, -3.8217, -3.156, -3.6857, -4.1368, -3.5923, -5.0177, -5.0636, -4.8771, -4.5933, -5.0719, -5.3725, -5.4817, -5.3346, -5.4385, -5.7691, -5.7877, -5.7248, -5.7892, -5.794, -5.8792, -5.9239, -5.8169, -6.0069, -4.1201, -6.0559, -2.5425, -5.8679, -5.7596, -2.6504, -3.3558, -4.459, -5.5808, -5.0397, -4.9845, -4.6829, -5.1792, -3.8077, -4.2635, -4.6284, -3.5912, -5.0951, -4.7889, -5.1929, -5.303, -5.3219, -3.9041, -4.0838, -4.0731, -3.6027, -4.5984, -4.6481, -4.7853, -3.5191, -4.7146, -4.5304, -5.1491, -4.7007, -5.1152, -5.3696, -5.2353, -5.4308, -5.4918, -5.514, -4.6384, -5.5908, -5.6535, -5.6602, -5.6941, -5.2792, -5.3423, -5.2822, -5.817, -5.8553, -5.8644, -5.9398, -3.3782, -3.2317, -4.3264, -5.0563, -4.6211, -3.0462, -2.9795, -3.0954, -3.9069, -5.2542, -4.7717, -5.184, -2.929, -3.8684, -3.7216, -4.6776, -3.814, -5.0726, -4.0772, -5.2474, -5.2916, -5.0268, -5.43, -5.5062, -5.5365, -5.5339, -5.6189, -4.2367, -3.8102, -3.7395, -5.1855, -5.7408, -5.7519, -5.8422, -5.1206, -5.8964, -5.9218, -5.2898, -6.0347, -6.0889, -6.1467, -5.9976, -1.5518, -5.6016, -5.7724, -5.707, -3.52, -4.0429, -4.9166, -5.4438, -5.6299, -5.6727, -2.6759, -3.4991, -4.239, -4.2503, -4.7851, -4.8991, -4.6546, -5.103, -5.134, -4.8769, -5.0767, -4.8747, -5.2194, -5.236, -4.7442, -5.4079, -5.4254, -4.4526, -5.618, -5.565, -5.7448, -5.782, -5.4741, -5.5828, -5.7565, -5.804, -5.8268, -5.8414, -4.332, -5.865, -3.2619, -5.4186, -2.2844, -1.9614, -5.3387, -5.7454, -3.9553, -3.5963, -3.7876, -4.4518, -4.1745, -4.0092, -4.5514, -4.5804, -3.8515, -4.9497, -4.9888, -4.7136, -5.1069, -5.1423, -5.1731, -4.8588, -4.9995, -4.7444, -5.4285, -5.4453, -4.4519, -5.5658, -5.561, -5.6508, -5.6586, -5.6771, -5.2908, -5.7521, -5.7891, -5.8288, -4.2852, -4.8313, -4.6604, -4.0368, -5.493, -4.6006, -2.7493, -2.8825, -4.97, -5.2882, -5.3631, -4.5562, -4.5874, -4.4389, -4.7829, -4.8562, -4.8897, -4.6827, -4.8526, -5.1656, -4.6273, -4.2478, -2.411, -5.3817, -5.4054, -5.2875, -5.478, -5.5698, -5.6732, -5.6577, -5.6916, -5.7065, -4.3739, -5.7618, -5.7791, -5.7777, -5.8517, -5.9559, -5.9832, -5.9799, -6.0001, -4.092, -4.0413, -2.7147, -2.1723, -5.5475, -4.8909, -4.8855, -5.1233, -5.4518, -5.5028, -3.9132, -4.2537, -4.1301, -2.8877, -4.7791, -4.817, -4.4004, -4.4397, -5.2127, -5.163, -5.294, -4.8246, -5.3987, -5.3766, -5.4, -5.4286, -5.4304, -5.4839, -5.5781, -5.5818, -5.6022, -5.457, -5.6601, -5.7547, -5.7911, -5.8261, -5.7974, -5.7029, -5.7637, -5.8462, -3.7268, -2.4169, -4.2914, -3.135, -5.7217, -5.2534, -5.447, -5.6749, -3.5236, -3.673, -4.2667, -4.4148, -4.3751, -4.6507, -4.7214, -4.9231, -4.7516, -4.9197, -4.8927, -4.4544, -5.145, -5.1771, -4.2793, -2.7021, -5.2777, -3.671, -3.8963, -5.4297, -5.4425, -3.7965, -5.4824, -5.5303, -5.5786, -5.6346, -5.6809, -5.6549, -5.6439, -5.7712, -5.5773, -4.6665, -3.5327, -4.1676, -4.4477, -3.8247, -4.5527, -4.9154, -5.1294, -5.2078, -2.4636, -4.0764, -4.402, -4.6662, -4.712, -4.9181, -5.0656, -5.0809, -5.1001, -4.717, -5.085, -4.9395, -5.1251, -5.2364, -5.2868, -5.3241, -5.1498, -5.2581, -5.3605, -5.3462, -5.5218, -5.5456, -2.6122, -5.4981, -5.588, -5.6147, -5.3994, -5.7287, -5.7322, -5.7961, -4.9515, -4.8898, -5.097, -2.2175, -5.5004, -4.6814, -4.1305, -5.3234, -5.3533, -5.3558, -3.9905, -3.9035, -4.0751, -3.6247, -3.3271, -4.6635, -4.8636, -4.9926, -5.0664, -5.1997, -5.2555, -4.981, -5.2785, -3.9375, -5.2547, -5.266, -2.4015, -4.6417, -5.517, -5.5947, -5.6244, -5.58, -5.6812, -5.7248, -4.6142, -3.7115, -5.7645, -5.7625, -5.8132, -5.6348, -4.2656, -2.9172, -4.8475, -3.6897, -5.0654, -4.7539, -4.8622, -4.8887, -5.4996, -3.5485, -3.8764, -3.9603, -4.4278, -4.6156, -4.621, -4.6985, -4.7808, -4.6464, -4.8377, -2.6557, -4.6272, -4.9219, -5.0062, -4.7201, -4.5394, -5.1389, -5.1556, -5.2629, -5.2984, -5.0928, -4.6347, -5.4534, -5.5698, -4.8784, -5.5998, -5.6658, -5.6989, -5.7208, -5.7253, -4.5744, -3.8249, -3.1586, -4.4515, -5.3484, -4.9235, -4.098, -5.0695, -4.1239, -3.6618, -3.7783, -4.1335, -4.5019, -4.6012, -4.6086, -4.732, -4.8216, -4.8691, -4.417, -5.0089, -3.5423, -4.6961, -4.7192, -5.0962, -3.5093, -5.2722, -5.28, -5.3475, -5.3715, -5.4417, -5.4846, -5.5086, -5.5131, -5.545, -5.5845, -2.7218, -5.6062, -5.4861, -2.9939, -4.2545, -3.8378, -5.0544, -3.2903, -4.4048, -4.2265, -3.7039, -4.1055, -4.5269, -4.7551, -4.7881, -4.8422, -4.6544, -4.7095, -5.0287, -5.0748, -4.8725, -4.4604, -5.1868, -5.2322, -5.2998, -3.4941, -5.3701, -5.4292, -5.4298, -5.4429, -5.4493, -5.4963, -4.5464, -5.5393, -5.4686, -5.6243, -5.4631, -4.9511, -2.9356, -4.9263, -4.1968, -3.7857, -4.5765, -5.2576, -5.387, -3.1257, -3.8766, -4.1745, -4.5293, -4.7539, -4.1631, -4.8864, -3.6138, -5.1716, -5.1281, -5.2359, -5.1408, -5.2105, -5.3645, -5.4001, -4.839, -5.5507, -5.5524, -5.1941, -4.6997, -5.6382, -5.8101, -3.3572, -5.7051, -1.798, -5.842, -5.8361, -5.8697, -5.8337, -5.9088, -4.873, -4.5994, -5.5488, -4.4555, -5.2047, -4.9731, -5.6149, -5.6125, -4.1148, -3.7652, -4.0875, -3.2594, -4.3854, -4.4116, -4.5373, -4.4329, -4.6822, -4.8081, -4.4041, -4.9447, -4.8624, -4.015, -4.6635, -5.206, -5.1542, -5.0828, -5.3097, -4.087, -4.6991, -5.5492, -5.5338, -4.5348, -5.5338, -5.1506, -5.2593, -5.6516, -5.7177, -5.7588, -3.2705, -3.3979, -5.4927, -5.2659, -3.8277, -5.507, -3.776, -5.2099, -5.2225, -2.5826, -3.9571, -4.4908, -4.4894, -4.6116, -3.3104, -4.7592, -4.7667, -3.9532, -5.0468, -5.1743, -5.2621, -5.2098, -5.3208, -5.3091, -5.4048, -5.4699, -3.3626, -4.9893, -5.5336, -5.517, -5.2386, -5.6373, -5.6504, -5.5005, -5.6996, -5.7002, -5.7185, -5.6352, -4.2688, -4.063, -4.5962, -5.1222, -4.5794, -3.8118, -5.5822, -4.3527, -3.4717, -4.955, -5.3767, -5.3731, -3.0576, -3.1642, -4.5795, -4.7918, -4.7008, -4.9137, -3.2458, -3.6942, -5.0711, -3.1642, -5.078, -5.1489, -5.1683, -4.2991, -5.2817, -5.2651, -5.0948, -5.3558, -5.4084, -5.4084, -5.4084, -5.4219, -5.3519, -4.3864, -5.488, -5.5054, -5.5372, -5.5743, -5.5894, -5.612, -2.7518, -5.1307, -5.4025, -4.5708, -5.4155, -4.149, -4.9734, -4.8175, -5.3361, -2.8291, -3.7323, -3.8793, -4.4584, -4.4621, -4.3436, -4.4117, -4.6534, -4.7847, -4.1697, -4.7852, -4.9136, -4.8816, -4.9794, -4.8838, -5.0661, -4.8523, -5.0409, -5.2505, -4.3898, -4.0747, -5.3603, -5.3805, -5.3584, -5.3096, -5.5513, -5.5601, -5.5855, -4.9118, -5.6303, -2.6684, -3.6717, -4.5437, -4.9667, -4.1366, -5.1858, -3.7402, -3.9118, -4.1493, -4.4929, -4.5066, -4.582, -4.0246, -4.7912, -4.7632, -4.7287, -4.9474, -5.0136, -5.0849, -5.1603, -5.2086, -5.2273, -5.3054, -5.2595, -5.3795, -5.377, -5.4147, -5.4002, -5.0858, -5.5098, -5.5014, -5.5022, -5.5282, -5.5436, -5.5765, -5.545, -2.3158, -5.3225, -4.6715, -5.4732, -5.4843, -2.8425, -4.0769, -4.2565, -3.9293, -4.4078, -2.6702, -4.8065, -4.9599, -4.6777, -5.0358, -4.215, -5.2049, -3.3569, -3.1416, -5.2277, -5.1393, -5.3126, -5.3311, -5.233, -5.2379, -5.3681, -5.4731, -5.526, -5.3928, -5.5627, -5.4675, -5.5723, -5.5884, -5.6517, -5.1206, -4.3223, -4.3056, -5.4933, -4.9331, -5.0744, -5.1529, -3.1912, -2.8802, -4.4182, -4.26, -4.6122, -3.5878, -4.7041, -4.7818, -4.3753, -4.8807, -4.3415, -4.9834, -4.7024, -5.0643, -3.442, -5.1082, -4.8356, -5.0936, -5.2565, -5.2493, -5.3668, -5.3741, -5.4216, -5.4462, -5.3072, -5.2929, -5.1941, -5.6086, -5.2773, -5.7314, -3.7031, -5.2487, -3.8981, -5.0978, -4.0275, -4.4037, -3.7466, -4.5581, -4.583, -4.6152, -3.4381, -4.0853, -4.7471, -4.6017, -3.5517, -4.7744, -4.9869, -4.913, -5.092, -5.0843, -5.1398, -5.1414, -5.145, -5.2377, -5.2791, -4.5619, -5.3403, -4.0193, -5.2584, -5.4336, -5.4337, -5.4366, -5.4815, -5.4903, -3.8553, -5.4167, -4.7702, -5.1981, -4.3573, -5.2374, -5.0908, -5.21, -3.772, -4.3056, -4.3276, -3.9027, -4.366, -4.4023, -4.5178, -3.5636, -4.6597, -2.9967, -4.8173, -4.8467, -5.1216, -5.1512, -5.1864, -4.1807, -5.1997, -5.2226, -3.3222, -5.2804, -5.1212, -5.2042, -3.8346, -5.2002, -5.3808, -5.3831, -4.8142, -5.4689, -5.4582, -5.4805, -5.3451, -4.7033, -5.4035, -4.4444, -4.5921, -4.7607, -5.0941, -3.3336, -4.0723, -3.628, -4.3824, -3.5032, -4.089, -4.3174, -4.4566, -4.598, -4.6369, -4.4739, -4.5045, -4.3202, -3.7348, -5.0032, -4.4982, -5.1933, -5.2655, -5.2881, -5.3171, -5.4042, -5.4237, -5.4971, -3.3956, -5.5041, -5.4434, -5.4421, -5.5874, -5.6141, -5.5753, -4.4928, -4.6742, -5.0496, -5.0549, -4.0729, -4.5529, -5.1251, -5.0189, -3.3738, -3.9748, -3.7449, -4.0505, -4.0302, -4.5974, -4.7034, -4.6993, -4.4032, -4.3586, -4.905, -3.7291, -3.9917, -5.0041, -5.0947, -5.1051, -5.0936, -5.1893, -5.2515, -3.6409, -5.3537, -5.3551, -5.4768, -4.9148, -5.5169, -4.1818, -5.5501, -5.6165, -5.6737, -5.6914, -5.291, -3.4696, -5.0399, -4.8644, -4.5926, -5.1473, -3.6052, -3.5533, -4.3007, -4.1249, -4.7285, -4.4954, -4.4345, -4.861, -4.8887, -4.955, -4.87, -5.0004, -4.8498, -5.1442, -5.1642, -4.9941, -5.14, -3.7242, -4.8673, -5.3375, -5.3597, -5.388, -5.3949, -5.4017, -5.5112, -3.3161, -5.6002, -5.6444, -4.5433, -5.7836, -2.8495, -5.3423, -4.3953, -5.3544, -3.3032, -3.6253, -3.7508, -4.6803, -4.0443, -4.7622, -2.6144, -4.2845, -5.0176, -5.0463, -5.0665, -4.9896, -3.3993, -5.1994, -4.6793, -5.3262, -3.4785, -5.0903, -5.3693, -5.3527, -5.5193, -5.4824, -5.5166, -5.5645, -5.4765, -5.6342, -4.3268, -5.6797, -5.7503, -5.7596, -5.7315, -3.9554, -4.4431, -5.6008, -4.3931, -5.5115, -3.4072, -3.1432, -4.1479, -3.6746, -4.5142, -4.6825, -4.7803, -3.427, -4.9108, -4.9742, -4.5944, -4.3223, -4.4842, -5.4008, -3.2765, -5.4585, -5.5238, -5.5635, -5.6262, -5.6176, -5.6417, -5.6482, -5.6482, -5.6464, -5.6237, -5.7189, -5.643, -5.7542, -5.7388, -5.7765, -3.9136, -5.479, -5.0927, -5.717, -4.8969, -5.0406, -5.3568, -5.4974, -5.6408, -2.9511, -4.0611, -4.1612, -4.4233, -4.694, -4.4836, -4.8123, -4.8269, -4.7297, -4.8469, -4.8059, -4.4887, -4.9015, -4.9813, -5.059, -3.513, -5.0565, -5.2253, -5.0851, -5.3069, -5.3203, -5.3139, -5.3664, -5.3817, -5.1714, -5.4509, -5.4441, -5.4206, -5.4828, -5.097, -4.7316, -4.3282, -3.6965, -3.5901, -3.937, -3.7682, -3.5235, -4.1447, -2.8914, -3.6522, -4.4668, -3.4739, -4.6288, -4.0934, -4.7666, -4.8681, -5.0394, -5.0738, -5.0979, -5.1009, -5.0963, -5.049, -5.063, -5.2179, -5.2572, -5.2385, -5.3519, -5.3327, -5.3634, -5.2328, -4.5548, -5.5211, -5.5225, -5.5589, -5.5079, -4.9789, -4.2712, -4.7463, -5.3877, -3.6071, -3.9424, -4.1681, -2.5155, -4.1869, -4.4067, -4.4181, -4.4553, -4.1974, -4.6254, -4.8671, -3.6152, -4.9758, -3.9105, -4.8213, -5.0846, -5.2648, -5.2933, -3.3801, -5.4497, -5.5244, -5.5313, -5.5115, -5.5686, -5.4347, -5.6335, -5.6298, -5.7266, -5.7354, -5.7653, -5.0829, -4.8749, -5.3459, -4.8856, -5.3684, -3.6755, -3.9879, -3.7417, -3.8519, -4.358, -4.6358, -4.4123, -4.8285, -4.8328, -4.2641, -4.8481, -4.9429, -4.7788, -5.0393, -5.0448, -5.0759, -3.9263, -5.2423, -5.2138, -5.2911, -5.3479, -5.3622, -5.37, -5.428, -5.479, -5.5003, -5.5255, -5.5318, -5.6036, -5.6668, -5.2346, -4.8149, -3.3071, -5.2633, -5.3943, -5.3053, -4.7957, -4.9242, -5.2332, -5.3489, -3.8172, -4.2783, -4.2483, -4.2816, -4.2954, -4.2443, -4.8048, -4.8111, -3.8059, -4.8938, -4.9954, -5.0222, -2.8538, -5.0698, -4.2177, -5.1949, -5.0044, -5.0864, -5.2139, -3.8899, -5.2922, -5.3034, -5.1472, -5.3463, -5.3141, -5.4013, -5.4207, -4.7665, -4.6523, -5.3377, -5.1507, -5.2948, -5.2, -5.0686, -4.9285, -5.1315, -3.8228, -3.7092, -4.0479, -3.8273, -4.5078, -4.519, -4.3348, -4.2973, -4.2258, -4.6397, -4.0551, -4.9082, -4.1712, -5.0504, -5.1629, -5.0108, -4.9786, -5.3998, -3.9262, -5.4206, -5.3981, -5.4573, -5.5179, -5.5651, -5.4851, -5.5572, -5.5755, -5.5971, -5.6519, -5.6459, -4.7042, -5.3558, -4.9344, -4.746, -5.1156, -5.4057, -1.7748, -3.661, -4.66, -3.5713, -4.1543, -4.9855, -5.003, -5.0026, -5.0757, -5.0629, -5.1789, -5.2405, -5.2704, -5.2924, -5.4165, -3.7465, -5.5684, -5.5378, -5.5283, -5.5976, -5.612, -5.6034, -5.6225, -5.6289, -5.73, -5.7375, -5.7298, -5.7626, -5.7888, -5.7754, -5.7469, -4.016, -5.4674, -4.3326, -4.4137, -3.7607, -4.3545, -4.4645, -4.4933, -4.6759, -3.8537, -4.0353, -4.7638, -4.7323, -4.8447, -4.7253, -4.7752, -3.8218, -4.8813, -5.0427, -4.8373, -4.0097, -5.0284, -5.1825, -5.1673, -5.2727, -5.0139, -4.805, -5.3564, -5.3629, -5.3722, -4.5006, -5.568, -5.3251, -4.9612, -4.6777, -4.8811], \"Category\": [\"Default\", \"Default\", \"Default\", \"Default\", \"Default\", \"Default\", \"Default\", \"Default\", \"Default\", \"Default\", \"Default\", \"Default\", \"Default\", \"Default\", \"Default\", \"Default\", \"Default\", \"Default\", \"Default\", \"Default\", \"Default\", \"Default\", \"Default\", \"Default\", \"Default\", \"Default\", \"Default\", \"Default\", \"Default\", \"Default\", \"Topic1\", \"Topic1\", \"Topic1\", \"Topic1\", \"Topic1\", \"Topic1\", \"Topic1\", \"Topic1\", \"Topic1\", \"Topic1\", \"Topic1\", \"Topic1\", \"Topic1\", \"Topic1\", \"Topic1\", \"Topic1\", \"Topic1\", \"Topic1\", \"Topic1\", \"Topic1\", \"Topic1\", \"Topic1\", \"Topic1\", \"Topic1\", \"Topic1\", \"Topic1\", \"Topic1\", \"Topic1\", \"Topic1\", \"Topic1\", \"Topic1\", \"Topic1\", \"Topic1\", \"Topic1\", \"Topic1\", \"Topic1\", \"Topic1\", \"Topic1\", \"Topic1\", \"Topic1\", \"Topic1\", \"Topic1\", \"Topic1\", \"Topic1\", \"Topic1\", \"Topic1\", \"Topic1\", \"Topic2\", \"Topic2\", \"Topic2\", \"Topic2\", \"Topic2\", \"Topic2\", \"Topic2\", \"Topic2\", \"Topic2\", \"Topic2\", \"Topic2\", \"Topic2\", \"Topic2\", \"Topic2\", \"Topic2\", \"Topic2\", \"Topic2\", \"Topic2\", \"Topic2\", \"Topic2\", \"Topic2\", \"Topic2\", \"Topic2\", \"Topic2\", \"Topic2\", \"Topic2\", \"Topic2\", \"Topic2\", \"Topic2\", \"Topic2\", \"Topic2\", \"Topic2\", \"Topic2\", \"Topic2\", \"Topic2\", \"Topic2\", \"Topic2\", \"Topic2\", \"Topic2\", \"Topic2\", \"Topic2\", \"Topic2\", \"Topic3\", \"Topic3\", \"Topic3\", \"Topic3\", \"Topic3\", \"Topic3\", \"Topic3\", \"Topic3\", \"Topic3\", \"Topic3\", \"Topic3\", \"Topic3\", \"Topic3\", \"Topic3\", \"Topic3\", \"Topic3\", \"Topic3\", \"Topic3\", \"Topic3\", \"Topic3\", \"Topic3\", \"Topic3\", \"Topic3\", \"Topic3\", \"Topic3\", \"Topic3\", \"Topic3\", \"Topic3\", \"Topic3\", \"Topic3\", \"Topic3\", \"Topic3\", \"Topic3\", \"Topic3\", \"Topic3\", \"Topic3\", \"Topic3\", \"Topic3\", \"Topic3\", \"Topic3\", \"Topic4\", \"Topic4\", \"Topic4\", \"Topic4\", \"Topic4\", \"Topic4\", \"Topic4\", \"Topic4\", \"Topic4\", \"Topic4\", \"Topic4\", \"Topic4\", \"Topic4\", \"Topic4\", \"Topic4\", \"Topic4\", \"Topic4\", \"Topic4\", \"Topic4\", \"Topic4\", \"Topic4\", \"Topic4\", \"Topic4\", \"Topic4\", \"Topic4\", \"Topic4\", \"Topic4\", \"Topic4\", \"Topic4\", \"Topic4\", \"Topic4\", \"Topic4\", \"Topic4\", \"Topic4\", \"Topic4\", \"Topic4\", \"Topic5\", \"Topic5\", \"Topic5\", \"Topic5\", \"Topic5\", \"Topic5\", \"Topic5\", \"Topic5\", \"Topic5\", \"Topic5\", \"Topic5\", \"Topic5\", \"Topic5\", \"Topic5\", \"Topic5\", \"Topic5\", \"Topic5\", \"Topic5\", \"Topic5\", \"Topic5\", \"Topic5\", \"Topic5\", \"Topic5\", \"Topic5\", \"Topic5\", \"Topic5\", \"Topic5\", \"Topic5\", \"Topic5\", \"Topic5\", \"Topic5\", \"Topic5\", \"Topic5\", \"Topic5\", \"Topic5\", \"Topic5\", \"Topic5\", \"Topic5\", \"Topic5\", \"Topic5\", \"Topic5\", \"Topic6\", \"Topic6\", \"Topic6\", \"Topic6\", \"Topic6\", \"Topic6\", \"Topic6\", \"Topic6\", \"Topic6\", \"Topic6\", \"Topic6\", \"Topic6\", \"Topic6\", \"Topic6\", \"Topic6\", \"Topic6\", \"Topic6\", \"Topic6\", \"Topic6\", \"Topic6\", \"Topic6\", \"Topic6\", \"Topic6\", \"Topic6\", \"Topic6\", \"Topic6\", \"Topic6\", \"Topic6\", \"Topic6\", \"Topic6\", \"Topic6\", \"Topic6\", \"Topic6\", \"Topic6\", \"Topic6\", \"Topic6\", \"Topic6\", \"Topic6\", \"Topic6\", \"Topic6\", \"Topic7\", \"Topic7\", \"Topic7\", \"Topic7\", \"Topic7\", \"Topic7\", \"Topic7\", \"Topic7\", \"Topic7\", \"Topic7\", \"Topic7\", \"Topic7\", \"Topic7\", \"Topic7\", \"Topic7\", \"Topic7\", \"Topic7\", \"Topic7\", \"Topic7\", \"Topic7\", \"Topic7\", \"Topic7\", \"Topic7\", \"Topic7\", \"Topic7\", \"Topic7\", \"Topic7\", \"Topic7\", \"Topic7\", \"Topic7\", \"Topic7\", \"Topic7\", \"Topic7\", \"Topic7\", \"Topic7\", \"Topic7\", \"Topic7\", \"Topic7\", \"Topic8\", \"Topic8\", \"Topic8\", \"Topic8\", \"Topic8\", \"Topic8\", \"Topic8\", \"Topic8\", \"Topic8\", \"Topic8\", \"Topic8\", \"Topic8\", \"Topic8\", \"Topic8\", \"Topic8\", \"Topic8\", \"Topic8\", \"Topic8\", \"Topic8\", \"Topic8\", \"Topic8\", \"Topic8\", \"Topic8\", \"Topic8\", \"Topic8\", \"Topic8\", \"Topic8\", \"Topic8\", \"Topic8\", \"Topic8\", \"Topic8\", \"Topic8\", \"Topic8\", \"Topic8\", \"Topic8\", \"Topic8\", \"Topic8\", \"Topic8\", \"Topic8\", \"Topic8\", \"Topic9\", \"Topic9\", \"Topic9\", \"Topic9\", \"Topic9\", \"Topic9\", \"Topic9\", \"Topic9\", \"Topic9\", \"Topic9\", \"Topic9\", \"Topic9\", \"Topic9\", \"Topic9\", \"Topic9\", \"Topic9\", \"Topic9\", \"Topic9\", \"Topic9\", \"Topic9\", \"Topic9\", \"Topic9\", \"Topic9\", \"Topic9\", \"Topic9\", \"Topic9\", \"Topic9\", \"Topic9\", \"Topic9\", \"Topic9\", \"Topic9\", \"Topic9\", \"Topic9\", \"Topic9\", \"Topic9\", \"Topic9\", \"Topic9\", \"Topic9\", \"Topic9\", \"Topic9\", \"Topic10\", \"Topic10\", \"Topic10\", \"Topic10\", \"Topic10\", \"Topic10\", \"Topic10\", \"Topic10\", \"Topic10\", \"Topic10\", \"Topic10\", \"Topic10\", \"Topic10\", \"Topic10\", \"Topic10\", \"Topic10\", \"Topic10\", \"Topic10\", \"Topic10\", \"Topic10\", \"Topic10\", \"Topic10\", \"Topic10\", \"Topic10\", \"Topic10\", \"Topic10\", \"Topic10\", \"Topic10\", \"Topic10\", \"Topic10\", \"Topic10\", \"Topic10\", \"Topic10\", \"Topic10\", \"Topic10\", \"Topic10\", \"Topic10\", \"Topic10\", \"Topic10\", \"Topic11\", \"Topic11\", \"Topic11\", \"Topic11\", \"Topic11\", \"Topic11\", \"Topic11\", \"Topic11\", \"Topic11\", \"Topic11\", \"Topic11\", \"Topic11\", \"Topic11\", \"Topic11\", \"Topic11\", \"Topic11\", \"Topic11\", \"Topic11\", \"Topic11\", \"Topic11\", \"Topic11\", \"Topic11\", \"Topic11\", \"Topic11\", \"Topic11\", \"Topic11\", \"Topic11\", \"Topic11\", \"Topic11\", \"Topic11\", \"Topic11\", \"Topic11\", \"Topic11\", \"Topic11\", \"Topic11\", \"Topic11\", \"Topic11\", \"Topic11\", \"Topic12\", \"Topic12\", \"Topic12\", \"Topic12\", \"Topic12\", \"Topic12\", \"Topic12\", \"Topic12\", \"Topic12\", \"Topic12\", \"Topic12\", \"Topic12\", \"Topic12\", \"Topic12\", \"Topic12\", \"Topic12\", \"Topic12\", \"Topic12\", \"Topic12\", \"Topic12\", \"Topic12\", \"Topic12\", \"Topic12\", \"Topic12\", \"Topic12\", \"Topic12\", \"Topic12\", \"Topic12\", \"Topic12\", \"Topic12\", \"Topic12\", \"Topic12\", \"Topic12\", \"Topic12\", \"Topic13\", \"Topic13\", \"Topic13\", \"Topic13\", \"Topic13\", \"Topic13\", \"Topic13\", \"Topic13\", \"Topic13\", \"Topic13\", \"Topic13\", \"Topic13\", \"Topic13\", \"Topic13\", \"Topic13\", \"Topic13\", \"Topic13\", \"Topic13\", \"Topic13\", \"Topic13\", \"Topic13\", \"Topic13\", \"Topic13\", \"Topic13\", \"Topic13\", \"Topic13\", \"Topic13\", \"Topic13\", \"Topic13\", \"Topic13\", \"Topic13\", \"Topic13\", \"Topic13\", \"Topic13\", \"Topic13\", \"Topic13\", \"Topic13\", \"Topic13\", \"Topic14\", \"Topic14\", \"Topic14\", \"Topic14\", \"Topic14\", \"Topic14\", \"Topic14\", \"Topic14\", \"Topic14\", \"Topic14\", \"Topic14\", \"Topic14\", \"Topic14\", \"Topic14\", \"Topic14\", \"Topic14\", \"Topic14\", \"Topic14\", \"Topic14\", \"Topic14\", \"Topic14\", \"Topic14\", \"Topic14\", \"Topic14\", \"Topic14\", \"Topic14\", \"Topic14\", \"Topic14\", \"Topic14\", \"Topic14\", \"Topic14\", \"Topic14\", \"Topic14\", \"Topic14\", \"Topic14\", \"Topic14\", \"Topic14\", \"Topic14\", \"Topic15\", \"Topic15\", \"Topic15\", \"Topic15\", \"Topic15\", \"Topic15\", \"Topic15\", \"Topic15\", \"Topic15\", \"Topic15\", \"Topic15\", \"Topic15\", \"Topic15\", \"Topic15\", \"Topic15\", \"Topic15\", \"Topic15\", \"Topic15\", \"Topic15\", \"Topic15\", \"Topic15\", \"Topic15\", \"Topic15\", \"Topic15\", \"Topic15\", \"Topic15\", \"Topic15\", \"Topic15\", \"Topic15\", \"Topic15\", \"Topic15\", \"Topic15\", \"Topic15\", \"Topic15\", \"Topic15\", \"Topic15\", \"Topic15\", \"Topic15\", \"Topic15\", \"Topic16\", \"Topic16\", \"Topic16\", \"Topic16\", \"Topic16\", \"Topic16\", \"Topic16\", \"Topic16\", \"Topic16\", \"Topic16\", \"Topic16\", \"Topic16\", \"Topic16\", \"Topic16\", \"Topic16\", \"Topic16\", \"Topic16\", \"Topic16\", \"Topic16\", \"Topic16\", \"Topic16\", \"Topic16\", \"Topic16\", \"Topic16\", \"Topic16\", \"Topic16\", \"Topic16\", \"Topic16\", \"Topic16\", \"Topic16\", \"Topic16\", \"Topic16\", \"Topic16\", \"Topic16\", \"Topic16\", \"Topic16\", \"Topic16\", \"Topic16\", \"Topic16\", \"Topic16\", \"Topic16\", \"Topic17\", \"Topic17\", \"Topic17\", \"Topic17\", \"Topic17\", \"Topic17\", \"Topic17\", \"Topic17\", \"Topic17\", \"Topic17\", \"Topic17\", \"Topic17\", \"Topic17\", \"Topic17\", \"Topic17\", \"Topic17\", \"Topic17\", \"Topic17\", \"Topic17\", \"Topic17\", \"Topic17\", \"Topic17\", \"Topic17\", \"Topic17\", \"Topic17\", \"Topic17\", \"Topic17\", \"Topic17\", \"Topic17\", \"Topic17\", \"Topic17\", \"Topic17\", \"Topic17\", \"Topic17\", \"Topic17\", \"Topic17\", \"Topic17\", \"Topic17\", \"Topic17\", \"Topic18\", \"Topic18\", \"Topic18\", \"Topic18\", \"Topic18\", \"Topic18\", \"Topic18\", \"Topic18\", \"Topic18\", \"Topic18\", \"Topic18\", \"Topic18\", \"Topic18\", \"Topic18\", \"Topic18\", \"Topic18\", \"Topic18\", \"Topic18\", \"Topic18\", \"Topic18\", \"Topic18\", \"Topic18\", \"Topic18\", \"Topic18\", \"Topic18\", \"Topic18\", \"Topic18\", \"Topic18\", \"Topic18\", \"Topic18\", \"Topic18\", \"Topic18\", \"Topic18\", \"Topic18\", \"Topic18\", \"Topic18\", \"Topic19\", \"Topic19\", \"Topic19\", \"Topic19\", \"Topic19\", \"Topic19\", \"Topic19\", \"Topic19\", \"Topic19\", \"Topic19\", \"Topic19\", \"Topic19\", \"Topic19\", \"Topic19\", \"Topic19\", \"Topic19\", \"Topic19\", \"Topic19\", \"Topic19\", \"Topic19\", \"Topic19\", \"Topic19\", \"Topic19\", \"Topic19\", \"Topic19\", \"Topic19\", \"Topic19\", \"Topic19\", \"Topic19\", \"Topic19\", \"Topic19\", \"Topic19\", \"Topic19\", \"Topic19\", \"Topic19\", \"Topic20\", \"Topic20\", \"Topic20\", \"Topic20\", \"Topic20\", \"Topic20\", \"Topic20\", \"Topic20\", \"Topic20\", \"Topic20\", \"Topic20\", \"Topic20\", \"Topic20\", \"Topic20\", \"Topic20\", \"Topic20\", \"Topic20\", \"Topic20\", \"Topic20\", \"Topic20\", \"Topic20\", \"Topic20\", \"Topic20\", \"Topic20\", \"Topic20\", \"Topic20\", \"Topic20\", \"Topic20\", \"Topic20\", \"Topic20\", \"Topic20\", \"Topic20\", \"Topic20\", \"Topic20\", \"Topic20\", \"Topic20\", \"Topic21\", \"Topic21\", \"Topic21\", \"Topic21\", \"Topic21\", \"Topic21\", \"Topic21\", \"Topic21\", \"Topic21\", \"Topic21\", \"Topic21\", \"Topic21\", \"Topic21\", \"Topic21\", \"Topic21\", \"Topic21\", \"Topic21\", \"Topic21\", \"Topic21\", \"Topic21\", \"Topic21\", \"Topic21\", \"Topic21\", \"Topic21\", \"Topic21\", \"Topic21\", \"Topic21\", \"Topic21\", \"Topic21\", \"Topic21\", \"Topic21\", \"Topic21\", \"Topic21\", \"Topic21\", \"Topic22\", \"Topic22\", \"Topic22\", \"Topic22\", \"Topic22\", \"Topic22\", \"Topic22\", \"Topic22\", \"Topic22\", \"Topic22\", \"Topic22\", \"Topic22\", \"Topic22\", \"Topic22\", \"Topic22\", \"Topic22\", \"Topic22\", \"Topic22\", \"Topic22\", \"Topic22\", \"Topic22\", \"Topic22\", \"Topic22\", \"Topic22\", \"Topic22\", \"Topic22\", \"Topic22\", \"Topic22\", \"Topic22\", \"Topic22\", \"Topic22\", \"Topic22\", \"Topic22\", \"Topic22\", \"Topic22\", \"Topic22\", \"Topic22\", \"Topic22\", \"Topic23\", \"Topic23\", \"Topic23\", \"Topic23\", \"Topic23\", \"Topic23\", \"Topic23\", \"Topic23\", \"Topic23\", \"Topic23\", \"Topic23\", \"Topic23\", \"Topic23\", \"Topic23\", \"Topic23\", \"Topic23\", \"Topic23\", \"Topic23\", \"Topic23\", \"Topic23\", \"Topic23\", \"Topic23\", \"Topic23\", \"Topic23\", \"Topic23\", \"Topic23\", \"Topic23\", \"Topic23\", \"Topic23\", \"Topic23\", \"Topic23\", \"Topic23\", \"Topic23\", \"Topic23\", \"Topic23\", \"Topic23\", \"Topic23\", \"Topic24\", \"Topic24\", \"Topic24\", \"Topic24\", \"Topic24\", \"Topic24\", \"Topic24\", \"Topic24\", \"Topic24\", \"Topic24\", \"Topic24\", \"Topic24\", \"Topic24\", \"Topic24\", \"Topic24\", \"Topic24\", \"Topic24\", \"Topic24\", \"Topic24\", \"Topic24\", \"Topic24\", \"Topic24\", \"Topic24\", \"Topic24\", \"Topic24\", \"Topic24\", \"Topic24\", \"Topic24\", \"Topic24\", \"Topic24\", \"Topic24\", \"Topic24\", \"Topic24\", \"Topic24\", \"Topic24\", \"Topic24\", \"Topic24\", \"Topic24\", \"Topic25\", \"Topic25\", \"Topic25\", \"Topic25\", \"Topic25\", \"Topic25\", \"Topic25\", \"Topic25\", \"Topic25\", \"Topic25\", \"Topic25\", \"Topic25\", \"Topic25\", \"Topic25\", \"Topic25\", \"Topic25\", \"Topic25\", \"Topic25\", \"Topic25\", \"Topic25\", \"Topic25\", \"Topic25\", \"Topic25\", \"Topic25\", \"Topic25\", \"Topic25\", \"Topic25\", \"Topic25\", \"Topic25\", \"Topic25\", \"Topic25\", \"Topic25\", \"Topic25\", \"Topic25\", \"Topic25\", \"Topic25\", \"Topic26\", \"Topic26\", \"Topic26\", \"Topic26\", \"Topic26\", \"Topic26\", \"Topic26\", \"Topic26\", \"Topic26\", \"Topic26\", \"Topic26\", \"Topic26\", \"Topic26\", \"Topic26\", \"Topic26\", \"Topic26\", \"Topic26\", \"Topic26\", \"Topic26\", \"Topic26\", \"Topic26\", \"Topic26\", \"Topic26\", \"Topic26\", \"Topic26\", \"Topic26\", \"Topic26\", \"Topic26\", \"Topic26\", \"Topic26\", \"Topic26\", \"Topic26\", \"Topic26\", \"Topic26\", \"Topic27\", \"Topic27\", \"Topic27\", \"Topic27\", \"Topic27\", \"Topic27\", \"Topic27\", \"Topic27\", \"Topic27\", \"Topic27\", \"Topic27\", \"Topic27\", \"Topic27\", \"Topic27\", \"Topic27\", \"Topic27\", \"Topic27\", \"Topic27\", \"Topic27\", \"Topic27\", \"Topic27\", \"Topic27\", \"Topic27\", \"Topic27\", \"Topic27\", \"Topic27\", \"Topic27\", \"Topic27\", \"Topic27\", \"Topic27\", \"Topic27\", \"Topic27\", \"Topic27\", \"Topic27\", \"Topic27\", \"Topic27\", \"Topic28\", \"Topic28\", \"Topic28\", \"Topic28\", \"Topic28\", \"Topic28\", \"Topic28\", \"Topic28\", \"Topic28\", \"Topic28\", \"Topic28\", \"Topic28\", \"Topic28\", \"Topic28\", \"Topic28\", \"Topic28\", \"Topic28\", \"Topic28\", \"Topic28\", \"Topic28\", \"Topic28\", \"Topic28\", \"Topic28\", \"Topic28\", \"Topic28\", \"Topic28\", \"Topic28\", \"Topic28\", \"Topic28\", \"Topic28\", \"Topic28\", \"Topic28\", \"Topic28\", \"Topic28\", \"Topic28\", \"Topic28\", \"Topic28\", \"Topic28\", \"Topic28\", \"Topic29\", \"Topic29\", \"Topic29\", \"Topic29\", \"Topic29\", \"Topic29\", \"Topic29\", \"Topic29\", \"Topic29\", \"Topic29\", \"Topic29\", \"Topic29\", \"Topic29\", \"Topic29\", \"Topic29\", \"Topic29\", \"Topic29\", \"Topic29\", \"Topic29\", \"Topic29\", \"Topic29\", \"Topic29\", \"Topic29\", \"Topic29\", \"Topic29\", \"Topic29\", \"Topic29\", \"Topic29\", \"Topic29\", \"Topic29\", \"Topic29\", \"Topic29\", \"Topic29\", \"Topic29\", \"Topic29\", \"Topic30\", \"Topic30\", \"Topic30\", \"Topic30\", \"Topic30\", \"Topic30\", \"Topic30\", \"Topic30\", \"Topic30\", \"Topic30\", \"Topic30\", \"Topic30\", \"Topic30\", \"Topic30\", \"Topic30\", \"Topic30\", \"Topic30\", \"Topic30\", \"Topic30\", \"Topic30\", \"Topic30\", \"Topic30\", \"Topic30\", \"Topic30\", \"Topic30\", \"Topic30\", \"Topic30\", \"Topic30\", \"Topic30\", \"Topic30\", \"Topic30\", \"Topic30\", \"Topic30\", \"Topic30\", \"Topic31\", \"Topic31\", \"Topic31\", \"Topic31\", \"Topic31\", \"Topic31\", \"Topic31\", \"Topic31\", \"Topic31\", \"Topic31\", \"Topic31\", \"Topic31\", \"Topic31\", \"Topic31\", \"Topic31\", \"Topic31\", \"Topic31\", \"Topic31\", \"Topic31\", \"Topic31\", \"Topic31\", \"Topic31\", \"Topic31\", \"Topic31\", \"Topic31\", \"Topic31\", \"Topic31\", \"Topic31\", \"Topic31\", \"Topic31\", \"Topic31\", \"Topic31\", \"Topic31\", \"Topic31\", \"Topic31\", \"Topic32\", \"Topic32\", \"Topic32\", \"Topic32\", \"Topic32\", \"Topic32\", \"Topic32\", \"Topic32\", \"Topic32\", \"Topic32\", \"Topic32\", \"Topic32\", \"Topic32\", \"Topic32\", \"Topic32\", \"Topic32\", \"Topic32\", \"Topic32\", \"Topic32\", \"Topic32\", \"Topic32\", \"Topic32\", \"Topic32\", \"Topic32\", \"Topic32\", \"Topic32\", \"Topic32\", \"Topic32\", \"Topic32\", \"Topic32\", \"Topic32\", \"Topic32\", \"Topic32\", \"Topic32\", \"Topic32\", \"Topic32\", \"Topic32\", \"Topic32\", \"Topic32\", \"Topic32\", \"Topic33\", \"Topic33\", \"Topic33\", \"Topic33\", \"Topic33\", \"Topic33\", \"Topic33\", \"Topic33\", \"Topic33\", \"Topic33\", \"Topic33\", \"Topic33\", \"Topic33\", \"Topic33\", \"Topic33\", \"Topic33\", \"Topic33\", \"Topic33\", \"Topic33\", \"Topic33\", \"Topic33\", \"Topic33\", \"Topic33\", \"Topic33\", \"Topic33\", \"Topic33\", \"Topic33\", \"Topic33\", \"Topic33\", \"Topic33\", \"Topic33\", \"Topic33\", \"Topic33\", \"Topic33\", \"Topic33\", \"Topic33\", \"Topic34\", \"Topic34\", \"Topic34\", \"Topic34\", \"Topic34\", \"Topic34\", \"Topic34\", \"Topic34\", \"Topic34\", \"Topic34\", \"Topic34\", \"Topic34\", \"Topic34\", \"Topic34\", \"Topic34\", \"Topic34\", \"Topic34\", \"Topic34\", \"Topic34\", \"Topic34\", \"Topic34\", \"Topic34\", \"Topic34\", \"Topic34\", \"Topic34\", \"Topic34\", \"Topic34\", \"Topic34\", \"Topic34\", \"Topic34\", \"Topic34\", \"Topic34\", \"Topic34\", \"Topic34\", \"Topic34\", \"Topic34\", \"Topic35\", \"Topic35\", \"Topic35\", \"Topic35\", \"Topic35\", \"Topic35\", \"Topic35\", \"Topic35\", \"Topic35\", \"Topic35\", \"Topic35\", \"Topic35\", \"Topic35\", \"Topic35\", \"Topic35\", \"Topic35\", \"Topic35\", \"Topic35\", \"Topic35\", \"Topic35\", \"Topic35\", \"Topic35\", \"Topic35\", \"Topic35\", \"Topic35\", \"Topic35\", \"Topic35\", \"Topic35\", \"Topic35\", \"Topic35\", \"Topic35\", \"Topic35\", \"Topic35\", \"Topic36\", \"Topic36\", \"Topic36\", \"Topic36\", \"Topic36\", \"Topic36\", \"Topic36\", \"Topic36\", \"Topic36\", \"Topic36\", \"Topic36\", \"Topic36\", \"Topic36\", \"Topic36\", \"Topic36\", \"Topic36\", \"Topic36\", \"Topic36\", \"Topic36\", \"Topic36\", \"Topic36\", \"Topic36\", \"Topic36\", \"Topic36\", \"Topic36\", \"Topic36\", \"Topic36\", \"Topic36\", \"Topic36\", \"Topic36\", \"Topic36\", \"Topic36\", \"Topic36\", \"Topic36\"], \"Total\": [1521.0, 950.0, 822.0, 753.0, 2366.0, 740.0, 1033.0, 624.0, 547.0, 581.0, 529.0, 493.0, 561.0, 572.0, 444.0, 401.0, 407.0, 438.0, 397.0, 397.0, 378.0, 373.0, 427.0, 404.0, 377.0, 517.0, 355.0, 476.0, 352.0, 314.0, 109.73666216549326, 128.50740822959114, 167.95671307960907, 327.2616875839612, 193.00965037350403, 123.04625604257251, 212.11406284021305, 51.04809534706645, 48.793331003152566, 58.90101885482342, 78.40705340975477, 48.64549228774449, 36.068798654900185, 32.39126816447695, 37.67807576796993, 33.997923739549336, 24.495084198984003, 24.0597970319204, 25.625679933051405, 24.033304118081443, 23.938028966648588, 22.02411956307995, 21.105750427341658, 23.553945089543415, 19.510458767883787, 128.9390161606809, 18.611008086621634, 624.6996101312305, 22.483545887141453, 25.105766978819602, 572.8671229839111, 295.1559451922512, 95.5489948631379, 30.231530184859807, 53.207658453542834, 58.44977666441574, 86.25327805129453, 55.8391165389935, 1049.6142959759397, 476.5693305928611, 250.51168129693264, 2366.352977806168, 166.57259200137497, 753.480396350104, 306.1220009093079, 246.41800319524054, 740.1269626075508, 141.36819842498767, 118.31529919054796, 119.8246719006165, 192.00827048501748, 71.02253819225173, 67.59726486168002, 59.005187141189715, 209.60780326918515, 63.419933108182065, 76.5214685958995, 41.25909726512502, 64.62062987528354, 42.748797269905864, 33.258035516739255, 38.038695477534986, 31.32123971200188, 29.515220412587432, 28.88441984399591, 69.51220608812368, 26.821411173057285, 25.22797471434282, 25.06419164464129, 24.25538208518032, 36.784222393538144, 34.61626085045975, 36.762887331779694, 21.542121022524782, 20.76305718204014, 20.607630822724463, 19.146598630085432, 249.5153862580342, 293.67214636196917, 97.61152262537189, 47.13713715304476, 76.59940661587169, 435.83555428559583, 507.24688695722307, 601.6399201358078, 294.95577863364906, 46.44974997414248, 2366.352977806168, 381.5176322083919, 352.21108534122936, 138.1287122154249, 160.61451128516092, 61.89638444496286, 147.53831042599543, 41.978392080069455, 113.72108120635949, 35.356642701311436, 33.86900093871099, 44.268687773936584, 29.58918164331631, 27.510759067416927, 26.699775246607686, 26.77077780359553, 24.631762977475, 98.21511746027703, 150.91712660371098, 161.99273953158647, 38.1535844282499, 21.90500805015139, 21.681679822254736, 19.88941398607408, 40.96310637199087, 18.86730531134301, 18.410588346862763, 34.68377734386067, 16.547856359718363, 15.701269881191163, 14.873721553204259, 17.29064633127315, 1521.856343324456, 25.872296987423763, 21.819737552561108, 23.610888118798325, 263.2250291317733, 2366.352977806168, 1033.2921653518235, 556.2381134895676, 1049.6142959759397, 306.1220009093079, 444.4645371541606, 195.5299115047954, 93.74842390218768, 92.81286973202513, 54.62529030226764, 48.85543039137566, 62.443404966673015, 39.928806899762186, 38.731383359284195, 50.09766268798526, 41.03217749815108, 50.27105105918875, 35.63273484042743, 35.066903417912705, 57.552590422962794, 29.65915611559021, 29.21320556718948, 77.63346037283932, 24.23209651031317, 25.5744646311839, 21.4043888129222, 20.644760306277878, 28.09403844614035, 25.19988753703695, 21.186776021446587, 20.209672749282504, 19.784373053977834, 19.49668156428597, 88.26594419390364, 19.06103956928509, 269.59556266867673, 30.06815493972054, 1033.2921653518235, 2366.352977806168, 263.2250291317733, 435.83555428559583, 114.9052578389519, 164.96416338940537, 136.35420493210023, 70.19479107572225, 92.64811186285351, 109.42406644927655, 63.63623103508927, 61.94902534069106, 128.5467035992761, 42.98184901049196, 41.37192770699576, 54.5504303094507, 36.910848631026845, 35.637302754945416, 34.56049997193107, 47.341851073159795, 41.132624490522815, 53.23746365601591, 26.934311511814563, 26.52337421329795, 71.80542013110009, 23.574989830222794, 23.69433702720056, 21.719296033031178, 21.556295398120803, 21.182341732090343, 31.24274827644604, 19.716242037189854, 19.02366711475539, 18.3072927897951, 85.7905339420787, 49.95274787411366, 59.37717626928593, 113.4972066109826, 25.699237233010408, 67.25702119362279, 517.2055838225388, 476.5693305928611, 2366.352977806168, 432.42453535945106, 166.19774962769984, 63.31192616664093, 61.40872012229854, 71.2482567030814, 50.60439625517046, 47.073861628700804, 45.54848763755244, 56.06667671910218, 47.310133923968216, 34.75351730089521, 59.56785377477163, 87.13414892632146, 547.616396715752, 28.159242786355218, 27.511819334274776, 31.048744897993373, 25.670068044936322, 23.48193812033014, 21.23643557954008, 21.56836324214275, 20.874343292524202, 20.56626948471956, 78.01508722306116, 19.51281620683414, 19.181674633437495, 19.213451630867127, 17.923918467872063, 16.202683914281877, 15.787662716565373, 15.843098886677584, 15.536334451706246, 105.39224587371189, 111.22489263766296, 427.2120036529744, 753.480396350104, 24.542207475403035, 48.929449920473154, 1049.6142959759397, 438.96254944063395, 432.42453535945106, 556.2381134895676, 116.53411321893876, 83.11721371451007, 94.32563367433475, 327.3555433336622, 49.44347367702572, 47.67234351584618, 72.6074783726154, 69.96699967679356, 32.32738909171851, 33.99378589519893, 29.89324303085267, 47.84220229195841, 26.976155377336568, 27.579426194029523, 26.942739650844608, 26.21094132432614, 26.16566147069125, 24.881865984505787, 22.685074031052082, 22.60705727617207, 22.15554888924822, 25.65522895771378, 21.000415267707254, 19.134954519869307, 18.496515739656353, 17.87062628743096, 18.392591220147654, 20.21685880233427, 19.043993444893957, 17.541819047631055, 147.07876784951333, 561.3914339302587, 84.30727160096922, 323.36998630712867, 19.97205706225737, 381.5176322083919, 1049.6142959759397, 740.1269626075508, 171.3067009543581, 147.75018323853746, 81.91446048665716, 70.73421509549465, 73.7455437202538, 56.23228878038261, 52.39851989626335, 42.85543783774523, 50.873017528709994, 43.012496641287186, 44.20530638953691, 68.72140055216734, 34.48523587197612, 33.42200784672749, 82.07850671097239, 397.59851884109196, 30.298645076663636, 151.40565074746868, 121.0817118374982, 26.150660058277797, 25.821854800891035, 134.15248772428097, 24.860325309274657, 23.731756284584453, 22.634348667648272, 21.443753010013264, 20.509311718787462, 21.069453235394345, 21.321785273586485, 18.80720527901462, 22.88539997218184, 61.244416875742104, 250.51168129693264, 132.4533147535582, 105.66868748037953, 1033.2921653518235, 1049.6142959759397, 556.2381134895676, 517.2055838225388, 438.96254944063395, 493.5826081146335, 98.81243442995478, 71.66710787497564, 55.09954299797227, 52.64850958845857, 43.10488989188485, 37.22616078514493, 36.663258831647894, 35.970169441857436, 52.79965110946495, 36.552162636527946, 42.29962314558144, 35.201770421856, 31.494889383658457, 29.981719642496532, 28.911959726454423, 34.420784511580614, 30.894698634330094, 27.92745475141037, 28.33130182369719, 23.891249265846945, 23.331090651453383, 438.5055278785633, 24.48493934867482, 22.42054274026491, 21.839042919092723, 27.09131233265324, 19.556363602156516, 19.49651335407497, 18.334337559804986, 42.78546939355906, 45.77181659736653, 37.05608821254512, 740.1269626075508, 24.652970542057513, 70.53550575387911, 2366.352977806168, 294.95577863364906, 601.6399201358078, 1049.6142959759397, 105.48757862053766, 115.1275814044694, 97.01487879626532, 152.6188047743201, 206.12242283301453, 54.227484210731205, 44.568339154661935, 39.26272762309748, 36.49697958851443, 32.04197147095109, 30.363724364231203, 39.95912313881125, 29.6791713799751, 113.45810855480721, 30.434300760228236, 30.1030467349395, 529.576678068779, 56.53373524638644, 23.57321301653657, 21.845059799240737, 21.229301716355476, 22.197029998452418, 20.10719667917628, 19.278489422850154, 58.57911104031163, 144.51503495650064, 18.559214723690825, 18.609791649081558, 17.71432481214837, 21.18635917383092, 85.67733438379179, 355.53647668154844, 49.515837238639406, 173.1497369840807, 160.74693891403692, 556.2381134895676, 1049.6142959759397, 2366.352977806168, 306.1220009093079, 160.71660858576416, 115.92449514296621, 107.19261792782882, 67.18763145277356, 55.72244436972505, 55.45199805276878, 51.3465413308625, 47.348121653628546, 54.225737590818305, 44.789565714620615, 397.0290133505543, 55.30189783598931, 41.219885907709305, 37.95272777020753, 50.57645856143059, 60.614777191735165, 33.34009465764957, 32.809842625803086, 29.55009458435158, 28.557026399395635, 35.09627753631905, 55.551235463259154, 24.553629312520645, 21.956806472095142, 43.851859836361015, 21.31859990862765, 20.014183769609005, 19.400047076452445, 18.980100671736974, 18.909928067571663, 60.32806652168916, 129.23384229480308, 256.95925634654304, 69.0493583076046, 28.231748023679188, 50.16954721725882, 147.31115064365198, 601.6399201358078, 90.31217445409672, 143.55489072077435, 127.90960092323454, 89.7998090973968, 62.14128284632079, 56.293098919960094, 55.93099440781286, 49.484675498839685, 45.309956654325966, 43.283204825698135, 68.09077382998143, 37.706136101045466, 163.55031495305357, 51.594486612655125, 50.44580055077773, 34.63054535399799, 169.33075404290847, 29.162845661239885, 28.97747502397588, 27.105443255743214, 26.4823311895756, 24.738742965956362, 23.73379162197024, 23.189453717743213, 23.1056954475093, 22.42028248104719, 21.55271006052225, 377.6385105917692, 21.10782249867801, 23.920145664141074, 291.12265513381243, 84.2530122180744, 160.74693891403692, 2366.352977806168, 204.63642576276854, 67.66256811270037, 80.87194128045843, 136.4935863964933, 91.56621743262, 60.118361069357924, 47.92078838432276, 46.39979555908233, 43.99561566957967, 53.100211257572795, 50.29967421863218, 36.62357227438601, 35.01991778809683, 42.93963635513007, 64.86258012475675, 31.402013848345756, 30.035759204790317, 28.115697452729574, 171.26796741244073, 26.278297320236458, 24.799181690834267, 24.79140758229707, 24.47476502341277, 24.322891624644495, 23.247196603122795, 60.17180427701865, 22.30390646595577, 24.041612760508873, 20.59051750127676, 24.226661216337142, 40.78540077105848, 345.5119475614743, 43.17368396034142, 99.20225133925217, 166.19774962769984, 68.22420533206285, 438.96254944063395, 173.14507133992836, 241.08809757481546, 114.22696887434103, 84.88541159095347, 59.78407336238426, 47.908473851046594, 86.61130581190751, 42.062800477786816, 150.5381910777892, 31.82092635882661, 33.23885555170274, 29.888710814227196, 32.956665029764366, 30.76886953924574, 26.391857391020128, 25.484078369344438, 44.871494501873386, 22.03294111363109, 21.997513516336294, 31.48132906332669, 51.739446428199756, 20.305691300923254, 17.18023487329728, 199.74509440271973, 19.096612333067977, 950.8585181598453, 16.672212825878873, 16.77457265537547, 16.233142066315956, 16.855276461500285, 15.641518151139577, 45.60537820141536, 64.50987250010975, 23.800342172752355, 1049.6142959759397, 432.42453535945106, 1521.856343324456, 130.9971153720954, 438.96254944063395, 88.69713517665332, 125.88776887598188, 91.35743034423732, 209.6915861140118, 68.10511934796853, 66.3533212072674, 58.54737168391566, 64.99542625612189, 50.67747003523117, 44.73231711277511, 67.0880789992771, 39.120055081305765, 42.49421890362394, 99.63833362610798, 52.127780163299896, 30.336943482865188, 31.954742421896494, 34.346166073558, 27.402048166883183, 93.25301315947512, 50.59355504283006, 21.735938677733127, 22.082783625217914, 60.04856461553378, 22.118791156500457, 32.46313644185359, 29.142868684625174, 19.697528171345425, 18.488707577820403, 17.775144605964236, 214.36453669650558, 197.336417007941, 23.29328529453384, 29.80346170827945, 306.1220009093079, 23.075080586763796, 556.2381134895676, 517.2055838225388, 2366.352977806168, 407.42609592997536, 103.39006449317391, 60.86077904053792, 61.04364149155887, 54.02802991178668, 198.60018560815206, 46.72345120328252, 46.56058528285471, 105.12835445239381, 35.24452456517338, 31.118568527961365, 28.571995290203674, 30.11383753274436, 26.987039938988364, 27.325335292302785, 24.90037813340792, 23.387279053194266, 192.4532332175751, 37.85857167389045, 21.975505494168875, 22.355576217753658, 29.571085807469817, 19.898374486191592, 19.641611542433974, 22.852756824200092, 18.729217865973197, 18.718481752217553, 18.39366172366967, 20.05287752302979, 78.69914644404136, 96.80023217348791, 57.63771810139985, 33.79861351741075, 60.197283040748786, 166.57259200137497, 21.347675350974985, 246.41800319524054, 2366.352977806168, 601.6399201358078, 132.4533147535582, 162.37059518956076, 252.0508297505352, 226.66236330541537, 55.35687438285691, 44.90358121720873, 49.20505972236024, 39.854838053626246, 211.48468014254735, 135.16470100152907, 34.17444352151849, 230.095756371628, 33.968947017502565, 31.67716042921278, 31.139299640372116, 74.27355949602835, 27.839044080929725, 28.31535488894829, 33.59473216476734, 25.889546453377076, 24.603267378247494, 24.603267378247494, 24.603267378247494, 24.285891265324214, 26.048698481817972, 68.45931092424979, 22.78279447357374, 22.4220278979557, 21.727086590149604, 20.964604282788507, 20.71320492401016, 20.349057026206708, 355.97104873910155, 33.02417413794972, 25.238136927301536, 64.1745666985109, 25.018573449310555, 162.37059518956076, 432.42453535945106, 2366.352977806168, 601.6399201358078, 314.7363930411186, 128.0039955020479, 110.7153778346441, 62.305469829383696, 62.09687117076229, 69.96270641238243, 65.45228397354643, 51.44550956412634, 45.17409766953381, 83.63203919959166, 45.200000679624154, 39.813795735583035, 41.14664687345658, 37.325629219441204, 41.11805875267121, 34.29087497010894, 42.533770721752354, 35.238122847895255, 28.649307014339342, 67.85910566911438, 93.05229190494295, 25.75242651377841, 25.254119403690158, 25.84355279685583, 27.210316118488272, 21.413865314584104, 21.234268091000157, 20.727989693289434, 40.67551629216155, 19.84735532432637, 404.62761755324624, 145.6979236723934, 73.26095801583458, 45.08614317611689, 1049.6142959759397, 556.2381134895676, 126.90094265400907, 107.15445873285636, 84.56454728857409, 60.22439121531379, 59.4294189049265, 55.27605056550851, 96.59975382696082, 44.88336444404969, 46.16062062557386, 47.79148393017239, 38.5207702746492, 36.14861162041136, 33.709423113339504, 31.274766768615873, 29.84310233360166, 29.2987467994029, 27.213030692125585, 28.505645778853022, 25.2943984963818, 25.358175783785548, 24.43680209606532, 24.799276132671405, 34.00397523124021, 22.286334130041578, 22.473301776498744, 22.463824644396162, 21.893016706949624, 21.570480199233902, 20.89868304069394, 21.5732690456582, 581.3342357442322, 27.246116229188413, 58.18595778176466, 556.2381134895676, 1049.6142959759397, 311.4984542364115, 90.6589445998806, 75.88068702463502, 105.42111787990886, 65.34144493256791, 373.2357213835706, 44.20912886905557, 37.95714277380546, 50.36990968972561, 35.241754336847166, 80.38320271522045, 29.882995839707444, 189.99826789932308, 235.70685833991246, 29.268630573903867, 31.984346202872754, 26.9119646327154, 26.438205905718483, 29.173677196284054, 29.047191160731085, 25.508729686280645, 23.040803439765302, 21.900872509245215, 25.0456477473896, 21.134902408308854, 23.25038042225249, 20.950241577502716, 20.670039222480543, 19.407778371440457, 33.05100751043207, 77.95896445301759, 82.14092084551936, 23.618070420356904, 432.42453535945106, 1049.6142959759397, 2366.352977806168, 218.55181404419156, 298.4037353094641, 64.39571079401561, 75.54645799541248, 53.16094408136, 148.08351351448897, 48.50164637529496, 44.936787578176016, 67.59928154244463, 40.80415816497841, 70.08239507252495, 36.89471724915479, 48.899631685164266, 34.07249485664862, 172.68963294484314, 32.65789861806937, 42.898765077650545, 33.21060803363777, 28.281919328128225, 28.53415137462883, 25.387169361579048, 25.215011558217213, 24.08350829691322, 23.50834708706232, 27.082649454515074, 27.5662321911132, 30.440053208778796, 20.112941129994685, 28.100281128775883, 17.911691203067047, 143.72635351831954, 29.59014890968949, 381.5176322083919, 1049.6142959759397, 92.41092452644973, 63.65319108926697, 122.95002375507423, 54.66178296397127, 53.349835669856276, 51.75477014728027, 168.10764806807333, 88.12225733547679, 45.481259353972284, 52.63740830035953, 150.75954818016083, 44.4298967916042, 35.949613648160536, 38.71785542358056, 32.37838940814575, 32.63192965435564, 30.903438589202512, 30.855407689920167, 30.747178479283004, 28.102084645731757, 26.987711280910666, 55.29402129195984, 25.43371050696194, 95.56620119618738, 27.686472441130608, 23.239382445325703, 23.24078079410676, 23.191184693569777, 22.200210523207367, 22.007329887860905, 113.10065075539855, 23.723763028032803, 47.045680193173396, 30.615599917886698, 165.81772175227383, 43.00921444937135, 438.96254944063395, 517.2055838225388, 119.45403695252446, 70.09217194808302, 68.57787915669263, 104.92539811433117, 66.03782992494348, 63.72642559284972, 56.84761563470306, 148.4975352202869, 49.675439810552476, 262.0814647432707, 42.44216106777596, 41.25475131148133, 31.43617132861092, 30.54143437829734, 29.513756277117214, 80.68604750929659, 29.147706511131876, 28.51090524387957, 190.7588522780232, 26.937151093759443, 31.613682255641326, 29.104818525955462, 114.53319880378237, 29.23972649520038, 24.449165050746238, 24.39427342467679, 43.17397252391359, 22.454890864184353, 22.707165861820368, 22.208663135079853, 25.43823608428343, 53.462121433754376, 24.21159724583573, 84.17573825704642, 1049.6142959759397, 556.2381134895676, 2366.352977806168, 183.6689112539486, 88.23351481272246, 137.81738611356565, 64.85736014389114, 156.28578069906092, 87.03349658812192, 69.2880461041317, 60.29428959105977, 52.431272780336755, 50.46015881835757, 59.597758846320616, 57.852033012591896, 69.60181106143067, 125.01159976450994, 35.22979597056997, 58.52318867493182, 29.26892935961291, 27.285348694138015, 26.693665641190776, 25.953558521424693, 23.855244176857447, 23.43070186409698, 21.809339170712015, 178.37784396436606, 21.66183099365949, 23.035207087205155, 23.098862530053506, 19.99522798317512, 19.48847378451747, 20.26081586805516, 60.2320846081159, 50.357816280296085, 34.90790078362996, 35.891807829824664, 130.9971153720954, 1049.6142959759397, 556.2381134895676, 2366.352977806168, 176.573315922632, 97.02334743761743, 122.1296711210561, 90.52568755483244, 92.4865142913479, 52.49466619375032, 47.2212381167227, 47.43221786650437, 63.91125010774046, 66.92296134563173, 38.76269121848091, 125.65721797613499, 96.88810238030024, 35.226783395413676, 32.18800524410544, 31.863914860626213, 32.2680516435405, 29.360418728631533, 27.638386272920194, 138.46923081058358, 25.033527445044886, 25.00820175465656, 22.21828308101644, 38.991647477539374, 21.375115301426256, 81.2847613903419, 20.704308998933737, 19.458576348445746, 18.39541241202501, 18.080858616242708, 27.172689423029723, 174.89844852312802, 36.366934290693585, 44.80015223116014, 1049.6142959759397, 438.96254944063395, 139.80971104970715, 147.78847872946588, 70.175870575246, 83.77359631952169, 46.00634806742422, 58.22686843879836, 61.8826312408104, 40.407375559322396, 39.31531790626639, 36.8419006047914, 40.11239355628873, 35.23757300968135, 40.98470118758505, 30.625871147516776, 30.034415716762535, 35.625028225065165, 30.798202134213625, 127.01527940529799, 40.54324677888445, 25.41516335534656, 24.861234242263762, 24.172428604027886, 24.010757543823328, 23.954414946161204, 21.484410448360887, 193.31871308872076, 19.713852938007648, 18.885393866583776, 56.8600455298966, 16.540608773945728, 319.6787594143079, 25.991459598934878, 84.77603103000787, 2366.352977806168, 187.5825243147878, 136.22421577198438, 120.50934808326784, 47.8909590713236, 90.53014357005704, 44.19972121159556, 378.8460217844758, 71.52107731218479, 34.4065322876095, 33.462061556841384, 32.80293531380028, 35.466634580356775, 174.19533640553513, 28.818826651736476, 48.49445343603193, 25.481768278095167, 162.14572688695097, 32.3628847605177, 24.54425279273402, 24.97357601221114, 21.14765813997298, 21.9503895739641, 21.228252132121042, 20.248544597116684, 22.183579557439344, 18.94835125847274, 70.10322598531596, 18.142452963242807, 16.95743531067591, 16.800864559805735, 17.295850282661167, 110.20969057443699, 68.45447224518706, 19.959979702442862, 2366.352977806168, 435.83555428559583, 167.93154184845898, 218.70095743279046, 80.4716633412786, 129.56575086591195, 56.029318994673176, 47.4702430403463, 43.11286509197327, 167.29536982825027, 37.94750676467586, 35.65593076356134, 52.21307020192936, 68.54049970399907, 58.69710311813938, 23.555351913994397, 197.19931855945413, 22.277639582337137, 20.91500427328939, 20.133359642903322, 18.957416690711636, 19.122856769981464, 18.6777294672481, 18.562140775885336, 18.568046351770533, 18.614681256865996, 19.047007314385766, 17.352770585227937, 18.732681484849707, 16.78123279377728, 17.046308050232117, 16.424349198689715, 105.86444311142029, 22.132238157179433, 32.71554079741649, 17.486758056996173, 601.6399201358078, 2366.352977806168, 432.42453535945106, 246.41800319524054, 381.5176322083919, 264.1638374646768, 87.67885950324126, 79.37892663538555, 61.462480788255164, 46.917671328312075, 57.97914096908903, 41.74568534380206, 41.15432488896994, 45.37240820864407, 40.37068148933738, 42.08996839455717, 57.945373433496755, 38.350760562288656, 35.41813346623263, 32.79572308671902, 154.03732637895425, 32.974787163448184, 27.92196438712637, 32.167254859558824, 25.77514891903903, 25.444501725952072, 25.623633379994875, 24.33704451608554, 23.968790272967503, 29.582357046429504, 22.4328949716953, 22.588428347405618, 23.130984653328042, 21.74095873554711, 32.00924163042705, 46.27229296889646, 75.66480173734321, 173.14507133992836, 2366.352977806168, 1033.2921653518235, 114.87296772052422, 147.14536229835903, 79.07405627176408, 277.5733422662438, 129.84411995523567, 57.51484974402154, 155.46619914857845, 49.06272418709787, 83.83550284745168, 42.82414428820801, 38.76575888554907, 32.81268988743577, 31.714185693889117, 30.97071484869833, 30.88238162356828, 31.029458936840882, 32.53958018256805, 32.094985240069974, 27.5802066328687, 26.53258757460642, 27.048490403755196, 24.204145465200806, 24.676271728727045, 23.93589505199175, 27.31696262435322, 53.96237610675786, 20.56042203121701, 20.538750171444008, 19.83241152868272, 20.87180990226053, 37.125985636279914, 2366.352977806168, 1049.6142959759397, 432.42453535945106, 134.26719105900494, 96.28711991804317, 76.9494634340728, 401.94589681187387, 75.56971532561145, 60.79103865268699, 60.10065377164052, 57.951006501503805, 75.1076307370504, 49.00340006291814, 38.6468678993935, 135.18563635227096, 34.7556792110909, 100.90600557258202, 40.62219087970639, 31.325449139389427, 26.240938120519267, 25.511495960773043, 173.31321787109798, 21.938232720760666, 20.41214926831995, 20.29402524572596, 20.699799050903557, 19.575397358227928, 22.39827295029683, 18.384314356414162, 18.468126762140216, 16.821678659317207, 16.685817959302636, 16.212542999145715, 32.09784750026752, 39.65980172538466, 25.985999133790916, 45.72340501866818, 294.95577863364906, 125.49225649970698, 92.06865225831974, 117.86881038434218, 105.67313373946466, 63.77124020842228, 48.528398484606676, 60.759346056638385, 40.13521857178539, 39.96615419594639, 70.6529306511483, 39.420912871463194, 35.88251383989952, 42.35674473492069, 32.659728131994726, 32.485167839059855, 31.538020696266717, 99.7133630215708, 26.804217801614442, 27.581784979103123, 25.56617427194987, 24.21375011307996, 23.873062928120152, 23.69659230984146, 22.39754371571118, 21.322715502196026, 20.89087437504201, 20.389693905887924, 20.273096380770045, 18.917490936052403, 17.813981045814955, 27.49310799292063, 42.02814439765228, 207.49460459182222, 27.1431864694852, 28.632398724807242, 39.13961851594021, 2366.352977806168, 1049.6142959759397, 381.5176322083919, 432.42453535945106, 108.94717251152738, 68.96179707705444, 71.08231372760733, 68.75964338735989, 67.87429926153646, 71.62267876964023, 41.066068739769, 40.81308582756729, 111.61954856704378, 37.62937739593494, 34.07982902251345, 33.201109447039556, 290.5901104257553, 31.69179336339801, 74.54633633253451, 28.061055797739183, 33.95155789421135, 31.29629481140276, 27.5585737520571, 103.73826316019999, 25.538537150498257, 25.25461192733236, 29.55502150424517, 24.22398370841274, 25.03507361250306, 22.97031357556828, 22.545439934098617, 43.38044919404558, 48.74890819322756, 24.586369013266186, 29.876972174202372, 25.76542613050024, 31.513140820819224, 263.2250291317733, 1049.6142959759397, 556.2381134895676, 107.29594753182765, 120.5963201572342, 85.97411283915527, 107.4530389579492, 54.45885961850552, 53.86180164493217, 64.76085892220432, 67.26036499317476, 72.29932416665127, 47.8300915281959, 86.19380797980673, 36.76499541642917, 76.95161824784572, 31.997160231918397, 28.703567849844124, 33.51058301593017, 34.62620458422211, 22.787058656295436, 99.52413763226822, 22.33588263199711, 22.868404001057744, 21.559992021532732, 20.34238659880939, 19.43752562114472, 21.05946031191029, 19.600206996060646, 19.249531124857878, 18.856499138221412, 17.887650944427868, 17.997542929239458, 46.330704625400024, 25.56818061785631, 438.96254944063395, 2366.352977806168, 1049.6142959759397, 432.42453535945106, 822.637197493947, 125.46972518736445, 46.71874519538251, 139.17505876469883, 77.7753252121189, 33.926357522846686, 33.36558470081308, 33.40636472216758, 31.079077361066112, 31.48017223045073, 28.11314220936364, 26.479816335564195, 25.715303269286263, 25.17239275640177, 22.339607473109357, 118.8080491468327, 19.29400297250904, 19.895819000119676, 20.089530636284678, 18.770345145074472, 18.50491546312367, 18.6699956373635, 18.319173908560977, 18.223802103098, 16.537147746027376, 16.421507932337175, 16.549391235315387, 16.033650179636993, 15.634260500677849, 15.849889822369487, 16.31042670381119, 95.97168919095857, 432.42453535945106, 63.4976459968789, 58.55433800251482, 112.51302338070377, 62.17007330051754, 55.709533774334204, 54.14476108716948, 45.234726217453584, 103.00398835183798, 85.90552397543534, 41.49286695748123, 42.8405404469089, 38.33068214130272, 43.208799849410916, 41.11184267207767, 106.71172459336067, 36.991644931145345, 31.633021144465793, 38.85178880475756, 89.03574211737805, 32.159844727735695, 27.57102620770238, 27.99530862402253, 25.261408377949845, 32.7569738330809, 40.39297331060871, 23.303078036815975, 23.16213289553262, 22.956298232549628, 55.03522803202208, 19.00520025366602, 24.257161385162807, 35.321229834384035, 507.24688695722307, 432.42453535945106], \"Term\": [\"love\", \"lol\", \"thanks\", \"night\", \"day\", \"amp\", \"happy_mother\", \"morning\", \"twitter\", \"haha\", \"thats\", \"happy\", \"2\", \"hope\", \"mom\", \"feel\", \"nice\", \"friend\", \"awesome\", \"yeah\", \"watching\", \"yes\", \"week\", \"didnt\", \"look\", \"ill\", \"mother_day\", \"tomorrow\", \"thank\", \"amazing\", \"star_trek\", \"picture\", \"hi\", \"bed\", \"tired\", \"hair\", \"feeling\", \"4th\", \"proud\", \"listen\", \"stay\", \"awake\", \"past\", \"setting\", \"middle\", \"earlier\", \"grey\", \"travel\", \"street\", \"completely\", \"yayy\", \"tweeter\", \"magic\", \"3rd\", \"telling\", \"thinking\", \"reminds\", \"morning\", \"hope_wonderful\", \"gettin\", \"hope\", \"sleep\", \"missing\", \"sleepy\", \"war_day\", \"happy_star\", \"couldnt\", \"leaving\", \"time\", \"tomorrow\", \"soon\", \"day\", \"lovely\", \"night\", \"gonna\", \"getting\", \"amp\", \"sweet\", \"eating\", \"probably\", \"pic\", \"woman\", \"xxx\", \"foot\", \"baby\", \"heading\", \"care\", \"ill_try\", \"aw\", \"wear\", \"college\", \"upload\", \"joe\", \"taylor\", \"design\", \"cuz\", \"25\", \"act\", \"mark\", \"heaven\", \"happens\", \"shirt\", \"jonasbrothers\", \"kitty\", \"vid\", \"nick\", \"tshirt\", \"little\", \"girl\", \"hug\", \"pain\", \"dude\", \"miss\", \"fun\", \"home\", \"sorry\", \"hungry\", \"day\", \"wish\", \"thank\", \"music\", \"check\", \"tea\", \"wanna\", \"june\", \"lost\", \"bitch\", \"vega\", \"radio\", \"imagine\", \"watchin\", \"pray\", \"2nd\", \"session\", \"bored\", \"3\", \"1\", \"pink\", \"prefer\", \"justin\", \"light\", \"day_mommy\", \"type\", \"pull\", \"body\", \"character\", \"choose\", \"ii\", \"yer\", \"love\", \"broken\", \"air\", \"ohhh\", \"ur\", \"day\", \"happy_mother\", \"oh\", \"time\", \"gonna\", \"mom\", \"tell\", \"sooo\", \"one\", \"pizza\", \"wake\", \"told\", \"dear\", \"gt\", \"walk\", \"flower\", \"seeing\", \"mmm\", \"fell\", \"congrats\", \"lay\", \"fav\", \"change\", \"deal\", \"experience\", \"blast\", \"quoti\", \"slept\", \"worst\", \"skin\", \"lady_gaga\", \"taste\", \"studio\", \"awww\", \"currently\", \"bad\", \"happy_mommy\", \"happy_mother\", \"day\", \"ur\", \"miss\", \"birthday\", \"beautiful\", \"found\", \"lmao\", \"heart\", \"make\", \"top\", \"sleeping\", \"sun\", \"blue\", \"goin\", \"weird\", \"window\", \"hmmm\", \"sooooo\", \"til\", \"camera\", \"wife\", \"craving\", \"door\", \"drive\", \"offer\", \"fabulous\", \"guest\", \"soul\", \"wee\", \"flight\", \"dunno\", \"button\", \"customer\", \"real\", \"1st\", \"set\", \"cause\", \"loud\", \"enjoying\", \"ill\", \"tomorrow\", \"day\", \"tonight\", \"hard\", \"couple\", \"facebook\", \"saturday\", \"dance\", \"enjoyed\", \"wine\", \"arent\", \"garden\", \"sending\", \"using\", \"else\", \"twitter\", \"chicago\", \"cell\", \"thank_god\", \"machine\", \"mountain\", \"south\", \"sir\", \"roll\", \"sugar\", \"send\", \"keen\", \"pleasure\", \"wii\", \"tony\", \"pls\", \"letting\", \"charge\", \"social\", \"ugh\", \"dad\", \"week\", \"night\", \"bottle\", \"fail\", \"time\", \"cant\", \"tonight\", \"oh\", \"plan\", \"beach\", \"lucky\", \"hey\", \"cheer\", \"matter\", \"person\", \"lot\", \"brain\", \"bike\", \"eh\", \"hmm\", \"bless\", \"hope_youre\", \"little_bit\", \"wash\", \"result\", \"everyones\", \"rose\", \"learning\", \"gosh\", \"beat\", \"apartment\", \"hero\", \"york\", \"hahahaha\", \"wild\", \"wit\", \"adding\", \"file\", \"nothing\", \"2\", \"cat\", \"ive\", \"pretty_cool\", \"wish\", \"time\", \"amp\", \"day_mom\", \"ya\", \"hehe\", \"started\", \"brother\", \"message\", \"write\", \"tuesday\", \"fucking\", \"laugh\", \"reply\", \"city\", \"dress\", \"daughter\", \"shopping\", \"yeah\", \"favourite\", \"excited\", \"id\", \"key\", \"spot\", \"try\", \"incredible\", \"2_week\", \"heat\", \"invite\", \"fix\", \"easier\", \"starbucks\", \"mike\", \"ouch\", \"come\", \"soon\", \"head\", \"gotta\", \"happy_mother\", \"time\", \"oh\", \"ill\", \"cant\", \"happy\", \"dream\", \"yum\", \"fantastic\", \"worth\", \"wat\", \"pas\", \"itll\", \"walking\", \"tweeting\", \"answer\", \"sorry_hear\", \"question\", \"cleaning\", \"cook\", \"jon\", \"spend\", \"bet\", \"honey\", \"wtf\", \"huh\", \"11\", \"friend\", \"worried\", \"figured\", \"journey\", \"stopped\", \"deserve\", \"twitterverse\", \"prob\", \"load\", \"project\", \"spent\", \"amp\", \"sit\", \"mind\", \"day\", \"sorry\", \"home\", \"time\", \"welcome\", \"wonderful\", \"hello\", \"party\", \"wow\", \"believe\", \"youve\", \"yea\", \"yup\", \"apparently\", \"ily\", \"kill\", \"30\", \"havent\", \"thankful\", \"hill\", \"thats\", \"mood\", \"tree\", \"strange\", \"fat\", \"listened\", \"grandma\", \"falling\", \"iphone\", \"suck\", \"haircut\", \"semester\", \"watch_movie\", \"available\", \"starting\", \"weekend\", \"fb\", \"job\", \"stuff\", \"oh\", \"time\", \"day\", \"gonna\", \"read\", \"btw\", \"there\", \"7\", \"clean\", \"club\", \"especially\", \"support\", \"ima\", \"join\", \"awesome\", \"raining\", \"officially\", \"adorable\", \"jealous\", \"tour\", \"app\", \"min\", \"power\", \"twilight\", \"tom\", \"hoping\", \"putting\", \"sam\", \"ride\", \"laundry\", \"singapore\", \"lovin\", \"wonderful_day\", \"comic\", \"office\", \"friday\", \"tweet\", \"stupid\", \"unfortunately\", \"yr\", \"sick\", \"home\", \"definitely\", \"coming\", \"lunch\", \"crazy\", \"text\", \"son\", \"cut\", \"hang\", \"mitchelmusso\", \"band\", \"happened\", \"fam\", \"he\", \"ate\", \"as\", \"count\", \"missed\", \"mcfly\", \"na\", \"ocean\", \"14\", \"island\", \"meal\", \"sushi\", \"sarah\", \"neither\", \"ti\", \"look\", \"followed\", \"def\", \"guy\", \"word\", \"stuff\", \"day\", \"world\", \"film\", \"lady\", \"food\", \"hit\", \"em\", \"looked\", \"chance\", \"peace\", \"cheese\", \"wonder\", \"track\", \"match\", \"wednesday\", \"watched\", \"oh_god\", \"egg\", \"father\", \"follow\", \"soup\", \"fit\", \"bank\", \"fancy\", \"hold\", \"hella\", \"shit\", \"bread\", \"chinese\", \"james\", \"doctor\", \"died\", \"people\", \"shame\", \"exam\", \"hard\", \"hell\", \"cant\", \"help\", \"cool\", \"goodnight\", \"mama\", \"sexy\", \"park\", \"super\", \"cd\", \"isnt\", \"calling\", \"fall\", \"peep\", \"none\", \"store\", \"daddy\", \"promise\", \"played\", \"practice\", \"jk\", \"cant_sleep\", \"break\", \"jtimberlake\", \"stoked\", \"maybe\", \"cant_stop\", \"lol\", \"paying\", \"fall_asleep\", \"adventure\", \"anniversary\", \"havin\", \"ddlovato\", \"anymore\", \"fellow\", \"time\", \"tonight\", \"love\", \"damn\", \"cant\", \"blog\", \"okay\", \"luck\", \"call\", \"wouldnt\", \"worry\", \"afternoon\", \"ah\", \"liked\", \"cousin\", \"wrong\", \"excellent\", \"mention\", \"class\", \"usually\", \"homework\", \"crush\", \"ooh\", \"low\", \"wait\", \"stuck\", \"christmas\", \"goodbye\", \"go\", \"quot\", \"dang\", \"gonna_miss\", \"lose\", \"followfriday\", \"grown\", \"please\", \"cant_wait\", \"bummed\", \"sunny\", \"gonna\", \"drama\", \"oh\", \"ill\", \"day\", \"nice\", \"looking_forward\", \"momma\", \"sign\", \"hows\", \"song\", \"via\", \"sore\", \"god\", \"sing\", \"sky\", \"seat\", \"art\", \"burnt\", \"finger\", \"hospital\", \"code\", \"pretty\", \"fuck\", \"rice\", \"tip\", \"web\", \"friendly\", \"luv_ya\", \"picked\", \"plant\", \"third\", \"sort\", \"hotel\", \"cold\", \"site\", \"page\", \"study\", \"heard\", \"lovely\", \"look_forward\", \"getting\", \"day\", \"home\", \"head\", \"yesterday\", \"yay\", \"lt3\", \"bank_holiday\", \"mac\", \"shoe\", \"love_ya\", \"4\", \"ready\", \"mate\", \"house\", \"chris\", \"holiday\", \"realized\", \"news\", \"extra\", \"huge\", \"single\", \"ff\", \"lovely_daughter\", \"httptrimkwk9\", \"received_mother\", \"jack\", \"oo\", \"10\", \"thats_cool\", \"noticed\", \"prayer\", \"9\", \"brian\", \"ahead\", \"mother_day\", \"wishing_happy\", \"day_card\", \"list\", \"stomach\", \"yesterday\", \"tonight\", \"day\", \"home\", \"amazing\", \"hear\", \"finished\", \"reading\", \"getting_ready\", \"moment\", \"instead\", \"english\", \"lazy\", \"concert\", \"gym\", \"hilarious\", \"joy\", \"chillin\", \"shot\", \"kno\", \"sigh\", \"learn\", \"road\", \"sitting\", \"talking\", \"michael\", \"surprise\", \"step\", \"treat\", \"ny\", \"palm\", \"airport\", \"save\", \"demi\", \"didnt\", \"book\", \"ago\", \"catch\", \"time\", \"oh\", \"coffee\", \"true\", \"happy_birthday\", \"agree\", \"absolutely\", \"season\", \"dog\", \"town\", \"relaxing\", \"drinking\", \"whatever\", \"ran\", \"studying\", \"spending\", \"memory\", \"slowly\", \"cannot\", \"milk\", \"supernatural\", \"bottom\", \"arm\", \"report\", \"shop\", \"usual\", \"detail\", \"quotthe\", \"jump\", \"anyways\", \"confused\", \"pack\", \"haha\", \"co\", \"ticket\", \"oh\", \"time\", \"movie\", \"shower\", \"sister\", \"5\", \"church\", \"yes\", \"fast\", \"exhausted\", \"6\", \"jonas\", \"win\", \"john\", \"actually\", \"wont\", \"sweet_dream\", \"caught\", \"style\", \"assignment\", \"review\", \"bro\", \"waking\", \"rip\", \"mary\", \"wondering\", \"grand\", \"nail\", \"uni\", \"woohoo\", \"hurry\", \"issue\", \"rest\", \"soo\", \"chat\", \"tonight\", \"time\", \"day\", \"monday\", \"youre\", \"finish\", \"kinda\", \"drunk\", \"kid\", \"yo\", \"snl\", \"reason\", \"alright\", \"cant_believe\", \"ice\", \"plus\", \"view\", \"mean\", \"god_bless\", \"supposed\", \"boyfriend\", \"take\", \"chill\", \"justin_timberlake\", \"plenty\", \"joined\", \"sex\", \"hr\", \"bb\", \"worse\", \"buddy\", \"upset\", \"turtle\", \"play\", \"changed\", \"wish\", \"time\", \"update\", \"running\", \"game\", \"youll\", \"comment\", \"nope\", \"bit\", \"following\", \"exactly\", \"account\", \"waiting\", \"fair\", \"ipod\", \"dm\", \"hubby\", \"figure\", \"quiet\", \"productive\", \"wolverine\", \"bath\", \"bag\", \"vote\", \"truly\", \"leave\", \"die\", \"ryan\", \"alive\", \"etc\", \"buying\", \"lakers\", \"stop\", \"nearly\", \"seriously\", \"note\", \"left\", \"gig\", \"cant\", \"ill\", \"shes\", \"special\", \"bday\", \"free\", \"cake\", \"nap\", \"living\", \"hot\", \"story\", \"ok\", \"2_hour\", \"moving\", \"mrskutcher\", \"copy\", \"paint\", \"poor\", \"hahah\", \"voice\", \"dinner\", \"thanx\", \"horrible\", \"bummer\", \"eat\", \"2day\", \"article\", \"hugh\", \"broke\", \"mmmm\", \"stick\", \"freakin\", \"beauty\", \"water\", \"checked\", \"theyre\", \"time\", \"oh\", \"day\", \"enjoy\", \"meet\", \"late\", \"smile\", \"guess\", \"close\", \"outside\", \"album\", \"black\", \"pay\", \"internet\", \"youre_welcome\", \"forgot\", \"till\", \"hat\", \"yummy\", \"ive_seen\", \"fave\", \"dark\", \"bedtime\", \"gunna\", \"block_party\", \"fixed\", \"live\", \"based\", \"nobody\", \"delicious\", \"sunny_day\", \"finding\", \"attempt\", \"dead\", \"aint\", \"quote\", \"clothes\", \"damn\", \"time\", \"oh\", \"day\", \"glad\", \"bought\", \"whats\", \"yall\", \"taking\", \"version\", \"tommcfly\", \"indeed\", \"tried\", \"anyway\", \"beer\", \"hurt\", \"money\", \"leg\", \"safe\", \"service\", \"100\", \"gear\", \"si\", \"hour\", \"coz\", \"shouldnt\", \"21\", \"sadly\", \"goodmorning\", \"gift\", \"dammit\", \"non\", \"fighting\", \"jam\", \"disappointed\", \"cute\", \"david\", \"visit\", \"time\", \"cant\", \"mommy\", \"car\", \"xd\", \"headache\", \"ppl\", \"add\", \"hand\", \"fab\", \"freaking\", \"law\", \"saying\", \"bill\", \"pick\", \"thanks_follow\", \"shell\", \"decided\", \"event\", \"follower\", \"green\", \"series\", \"disney\", \"wearing\", \"tweeps\", \"80\", \"dat\", \"watch\", \"profile\", \"te\", \"due\", \"idiot\", \"sad\", \"planning\", \"minute\", \"day\", \"mum\", \"boy\", \"totally\", \"google\", \"busy\", \"thursday\", \"watching\", \"hopefully\", \"background\", \"woo\", \"saturday_night\", \"boring\", \"trying\", \"thanks_following\", \"appreciate\", \"germany\", \"sunday\", \"tear\", \"staying\", \"paid\", \"twittering\", \"american\", \"twin\", \"taylorswift13\", \"everyday\", \"shout\", \"online\", \"happiness\", \"msg\", \"ang\", \"blood\", \"tho\", \"episode\", \"nice_meet\", \"day\", \"miss\", \"sound\", \"family\", \"seen\", \"rain\", \"ahhh\", \"meant\", \"mummy\", \"finally\", \"xoxo\", \"congratulation\", \"sometimes\", \"la\", \"boo\", \"b4\", \"omg\", \"13\", \"strawberry\", \"ring\", \"werent\", \"mic\", \"imma\", \"mo\", \"allowed\", \"user\", \"quick\", \"folk\", \"danny\", \"emo\", \"depressed\", \"contact\", \"photo\", \"feel_bad\", \"mileycyrus\", \"iamjonathancook\", \"home\", \"day\", \"tonight\", \"getting\", \"wish\", \"mother\", \"favorite\", \"fine\", \"computer\", \"ahh\", \"wishing\", \"laptop\", \"apple\", \"sat\", \"bbq\", \"website\", \"chocolate\", \"company\", \"front\", \"epic\", \"aww\", \"gorgeous\", \"sweetie\", \"easy\", \"here\", \"digital\", \"itunes\", \"xo\", \"including\", \"anytime\", \"besides\", \"success\", \"keeping\", \"laughing\", \"paper\", \"soooo\", \"eye\", \"help\", \"day\", \"happy_mother\", \"rock\", \"video\", \"loving\", \"school\", \"mine\", \"luv\", \"talk\", \"20\", \"run\", \"kiss\", \"15\", \"12\", \"chatting\", \"revision\", \"davidarchie\", \"bgt\", \"blessed\", \"pc\", \"like\", \"friday_night\", \"lately\", \"darn\", \"interview\", \"training\", \"singing\", \"happen\", \"response\", \"thru\", \"suggestion\", \"atm\", \"business\", \"day\", \"time\", \"tonight\", \"funny\", \"evening\", \"perfect\", \"feel\", \"babe\", \"line\", \"date\", \"ice_cream\", \"meeting\", \"hanging\", \"moon\", \"wasnt\", \"thx\", \"woke\", \"bus\", \"dvd\", \"alarm\", \"uncle\", \"doesnt\", \"dave\", \"block\", \"oh_dear\", \"box\", \"chilling\", \"mission\", \"mess\", \"daily\", \"station\", \"cloudy\", \"distraction\", \"inside\", \"crap\", \"jonathanrknight\", \"red\", \"sorry\", \"name\", \"email\", \"weather\", \"looking\", \"youtube\", \"nite\", \"course\", \"myspace\", \"understand\", \"writing\", \"lame\", \"ton\", \"london\", \"round\", \"share\", \"australia\", \"summer\", \"wo\", \"team\", \"husband\", \"head_hurt\", \"ac\", \"essay\", \"expect\", \"host\", \"release\", \"six\", \"grateful\", \"spring\", \"mi\", \"mix\", \"brought\", \"start\", \"celebrating\", \"mail\", \"ball\", \"day\", \"time\", \"wish\", \"tonight\", \"xx\", \"yep\", \"forget\", \"bring\", \"move\", \"bout\", \"chicken\", \"alot\", \"post\", \"hun\", \"talkin\", \"scary\", \"life\", \"ben\", \"test\", \"bug\", \"16\", \"abt\", \"feelin\", \"fan\", \"xmen\", \"gfalcone601\", \"puppy\", \"dancing\", \"age\", \"uh\", \"miley\", \"8\", \"sent\", \"twit\", \"french\", \"oops\", \"scared\", \"ur\", \"time\", \"oh\", \"remember\", \"breakfast\", \"drink\", \"idea\", \"white\", \"bar\", \"sunshine\", \"da\", \"final\", \"de\", \"card\", \"math\", \"called\", \"msn\", \"dry\", \"train\", \"idk\", \"student\", \"gone\", \"original\", \"oooh\", \"death\", \"nd\", \"andy\", \"hadnt\", \"arrived\", \"wish_luck\", \"\\u00e3\\u00af\\u00e2\\u00bf\\u00e2\\u00bd\", \"cup\", \"outfit\", \"half\", \"mile\", \"cant\", \"day\", \"time\", \"tonight\", \"thanks\", \"loved\", \"retrorewind\", \"listening\", \"link\", \"star\", \"download\", \"driving\", \"exciting\", \"p\", \"return\", \"headed\", \"race\", \"guitar\", \"joke\", \"hate\", \"earth\", \"bye\", \"bee\", \"item\", \"awsome\", \"gay\", \"born\", \"awwww\", \"shoutout\", \"form\", \"gr8\", \"avoid\", \"national\", \"loss\", \"info\", \"month\", \"tonight\", \"mad\", \"wedding\", \"hahaha\", \"lil\", \"short\", \"prom\", \"fly\", \"cry\", \"tv\", \"screen\", \"met\", \"i\\u00e3\\u00af\\u00e2\\u00bf\\u00e2\\u00bdm\", \"uk\", \"posted\", \"playing\", \"child\", \"fight\", \"except\", \"trip\", \"smell\", \"pool\", \"entire\", \"war\", \"bc\", \"parent\", \"random\", \"oven\", \"hah\", \"warm\", \"swim\", \"outta\", \"forever\", \"fun\", \"tonight\"]}};\n",
       "\n",
       "function LDAvis_load_lib(url, callback){\n",
       "  var s = document.createElement('script');\n",
       "  s.src = url;\n",
       "  s.async = true;\n",
       "  s.onreadystatechange = s.onload = callback;\n",
       "  s.onerror = function(){console.warn(\"failed to load library \" + url);};\n",
       "  document.getElementsByTagName(\"head\")[0].appendChild(s);\n",
       "}\n",
       "\n",
       "if(typeof(LDAvis) !== \"undefined\"){\n",
       "   // already loaded: just create the visualization\n",
       "   !function(LDAvis){\n",
       "       new LDAvis(\"#\" + \"ldavis_el114484735335607633295851\", ldavis_el114484735335607633295851_data);\n",
       "   }(LDAvis);\n",
       "}else if(typeof define === \"function\" && define.amd){\n",
       "   // require.js is available: use it to load d3/LDAvis\n",
       "   require.config({paths: {d3: \"https://cdnjs.cloudflare.com/ajax/libs/d3/3.5.5/d3.min\"}});\n",
       "   require([\"d3\"], function(d3){\n",
       "      window.d3 = d3;\n",
       "      LDAvis_load_lib(\"https://cdn.rawgit.com/bmabey/pyLDAvis/files/ldavis.v1.0.0.js\", function(){\n",
       "        new LDAvis(\"#\" + \"ldavis_el114484735335607633295851\", ldavis_el114484735335607633295851_data);\n",
       "      });\n",
       "    });\n",
       "}else{\n",
       "    // require.js not available: dynamically load d3 & LDAvis\n",
       "    LDAvis_load_lib(\"https://cdnjs.cloudflare.com/ajax/libs/d3/3.5.5/d3.min.js\", function(){\n",
       "         LDAvis_load_lib(\"https://cdn.rawgit.com/bmabey/pyLDAvis/files/ldavis.v1.0.0.js\", function(){\n",
       "                 new LDAvis(\"#\" + \"ldavis_el114484735335607633295851\", ldavis_el114484735335607633295851_data);\n",
       "            })\n",
       "         });\n",
       "}\n",
       "</script>"
      ],
      "text/plain": [
       "PreparedData(topic_coordinates=           Freq  cluster  topics         x         y\n",
       "topic                                               \n",
       "5      3.858615        1       1  0.158335 -0.201345\n",
       "14     3.543641        1       2  0.045107  0.139298\n",
       "6      3.339528        1       3  0.111956  0.042536\n",
       "35     3.272805        1       4  0.253702  0.040609\n",
       "13     3.026532        1       5 -0.004230 -0.115514\n",
       "9      3.023744        1       6 -0.041877 -0.143166\n",
       "16     2.943275        1       7 -0.042192  0.041259\n",
       "29     2.938607        1       8  0.042966 -0.107644\n",
       "7      2.933453        1       9  0.076556  0.013300\n",
       "2      2.878721        1      10 -0.014664 -0.030949\n",
       "15     2.821044        1      11 -0.027292  0.038408\n",
       "4      2.809997        1      12 -0.036857  0.087568\n",
       "20     2.782277        1      13 -0.068928  0.044979\n",
       "19     2.779219        1      14 -0.052895 -0.023720\n",
       "26     2.736311        1      15 -0.021854 -0.054779\n",
       "11     2.723665        1      16  0.130781  0.032065\n",
       "18     2.702405        1      17  0.019670  0.054131\n",
       "0      2.700056        1      18 -0.084561 -0.049666\n",
       "24     2.699610        1      19 -0.092025 -0.010107\n",
       "27     2.693738        1      20 -0.023579 -0.044915\n",
       "8      2.677604        1      21 -0.037821 -0.005869\n",
       "31     2.612663        1      22 -0.059606 -0.024591\n",
       "23     2.610856        1      23 -0.012879 -0.053345\n",
       "22     2.606479        1      24 -0.023267 -0.014157\n",
       "21     2.603996        1      25 -0.042442 -0.020255\n",
       "12     2.600017        1      26 -0.023665  0.036324\n",
       "10     2.581153        1      27  0.029335  0.077142\n",
       "3      2.563272        1      28 -0.002904  0.070365\n",
       "28     2.561060        1      29  0.116580  0.055440\n",
       "30     2.511046        1      30  0.004786 -0.006925\n",
       "32     2.500732        1      31 -0.066290  0.045795\n",
       "34     2.500675        1      32 -0.015899 -0.024337\n",
       "25     2.499398        1      33 -0.068252 -0.002469\n",
       "1      2.475093        1      34 -0.014669 -0.000500\n",
       "17     2.463821        1      35 -0.052741  0.073468\n",
       "33     2.424893        1      36 -0.058385  0.041566, topic_info=      Category         Freq          Term        Total  loglift  logprob\n",
       "term                                                                    \n",
       "1564   Default  1521.000000          love  1521.000000  30.0000  30.0000\n",
       "5365   Default   950.000000           lol   950.000000  29.0000  29.0000\n",
       "4631   Default   822.000000        thanks   822.000000  28.0000  28.0000\n",
       "27087  Default   753.000000         night   753.000000  27.0000  27.0000\n",
       "22652  Default  2366.000000           day  2366.000000  26.0000  26.0000\n",
       "14949  Default   740.000000           amp   740.000000  25.0000  25.0000\n",
       "8622   Default  1033.000000  happy_mother  1033.000000  24.0000  24.0000\n",
       "22151  Default   624.000000       morning   624.000000  23.0000  23.0000\n",
       "33166  Default   547.000000       twitter   547.000000  22.0000  22.0000\n",
       "37199  Default   581.000000          haha   581.000000  21.0000  21.0000\n",
       "39964  Default   529.000000         thats   529.000000  20.0000  20.0000\n",
       "29746  Default   493.000000         happy   493.000000  19.0000  19.0000\n",
       "27248  Default   561.000000             2   561.000000  18.0000  18.0000\n",
       "37565  Default   572.000000          hope   572.000000  17.0000  17.0000\n",
       "41038  Default   444.000000           mom   444.000000  16.0000  16.0000\n",
       "21005  Default   401.000000          feel   401.000000  15.0000  15.0000\n",
       "27011  Default   407.000000          nice   407.000000  14.0000  14.0000\n",
       "29409  Default   438.000000        friend   438.000000  13.0000  13.0000\n",
       "14874  Default   397.000000       awesome   397.000000  12.0000  12.0000\n",
       "25015  Default   397.000000          yeah   397.000000  11.0000  11.0000\n",
       "41671  Default   378.000000      watching   378.000000  10.0000  10.0000\n",
       "21323  Default   373.000000           yes   373.000000   9.0000   9.0000\n",
       "33489  Default   427.000000          week   427.000000   8.0000   8.0000\n",
       "11842  Default   404.000000         didnt   404.000000   7.0000   7.0000\n",
       "16727  Default   377.000000          look   377.000000   6.0000   6.0000\n",
       "9494   Default   517.000000           ill   517.000000   5.0000   5.0000\n",
       "27397  Default   355.000000    mother_day   355.000000   4.0000   4.0000\n",
       "33092  Default   476.000000      tomorrow   476.000000   3.0000   3.0000\n",
       "39936  Default   352.000000         thank   352.000000   2.0000   2.0000\n",
       "6389   Default   314.000000       amazing   314.000000   1.0000   1.0000\n",
       "...        ...          ...           ...          ...      ...      ...\n",
       "6511   Topic36    54.898082         short    55.709534   3.7047  -4.4645\n",
       "40019  Topic36    53.343412          prom    54.144761   3.7045  -4.4933\n",
       "16892  Topic36    44.439441           fly    45.234726   3.7016  -4.6759\n",
       "2303   Topic36   101.118851           cry   103.003988   3.7009  -3.8537\n",
       "29020  Topic36    84.326108            tv    85.905524   3.7008  -4.0353\n",
       "38086  Topic36    40.697582        screen    41.492867   3.7000  -4.7638\n",
       "1944   Topic36    42.002781           met    42.840540   3.6996  -4.7323\n",
       "8267   Topic36    37.535397      iã¯â¿â½m    38.330682   3.6984  -4.8447\n",
       "35015  Topic36    42.298228            uk    43.208800   3.6981  -4.7253\n",
       "40969  Topic36    40.237346        posted    41.111843   3.6979  -4.7752\n",
       "107    Topic36   104.397293       playing   106.711725   3.6975  -3.8218\n",
       "35624  Topic36    36.186613         child    36.991645   3.6974  -4.8813\n",
       "39890  Topic36    30.794043         fight    31.633021   3.6925  -5.0427\n",
       "21308  Topic36    37.816634        except    38.851789   3.6924  -4.8373\n",
       "16684  Topic36    86.510039          trip    89.035742   3.6906  -4.0097\n",
       "39137  Topic36    31.235734         smell    32.159845   3.6902  -5.0284\n",
       "7102   Topic36    26.775741          pool    27.571026   3.6901  -5.1825\n",
       "44486  Topic36    27.185928        entire    27.995309   3.6900  -5.1673\n",
       "21825  Topic36    24.466124           war    25.261408   3.6874  -5.2727\n",
       "43767  Topic36    31.693194            bc    32.756974   3.6864  -5.0139\n",
       "22101  Topic36    39.057216        parent    40.392973   3.6858  -4.8050\n",
       "1139   Topic36    22.501770        random    23.303078   3.6844  -5.3564\n",
       "8908   Topic36    22.356107          oven    23.162133   3.6840  -5.3629\n",
       "10439  Topic36    22.149139           hah    22.956298   3.6836  -5.3722\n",
       "44254  Topic36    52.952644          warm    55.035228   3.6808  -4.5006\n",
       "26983  Topic36    18.209915          swim    19.005200   3.6766  -5.5680\n",
       "36749  Topic36    23.217090         outta    24.257161   3.6756  -5.3251\n",
       "24108  Topic36    33.408616       forever    35.321230   3.6637  -4.9612\n",
       "24404  Topic36    44.359695           fun   507.246887   1.2827  -4.6777\n",
       "18107  Topic36    36.195800       tonight   432.424535   1.2389  -4.8811\n",
       "\n",
       "[1382 rows x 6 columns], token_table=       Topic      Freq           Term\n",
       "term                                 \n",
       "33881      3  0.963006              1\n",
       "33881      6  0.006173              1\n",
       "33881     14  0.006173              1\n",
       "33881     18  0.006173              1\n",
       "33881     24  0.006173              1\n",
       "33881     32  0.006173              1\n",
       "28375     17  0.964076             10\n",
       "28375     20  0.014607             10\n",
       "6930      25  0.960703            100\n",
       "29240      9  0.985809             11\n",
       "6849      30  0.975232             12\n",
       "30697     28  0.942649             13\n",
       "43340     12  0.981787             14\n",
       "8731      30  0.980247             15\n",
       "2536      33  0.971973             16\n",
       "27381      5  0.940889            1st\n",
       "27381     35  0.020019            1st\n",
       "27381     36  0.020019            1st\n",
       "27248      3  0.016032              2\n",
       "27248      7  0.919145              2\n",
       "27248      8  0.001781              2\n",
       "27248      9  0.001781              2\n",
       "27248     16  0.001781              2\n",
       "27248     19  0.008906              2\n",
       "27248     20  0.024938              2\n",
       "27248     21  0.008906              2\n",
       "27248     22  0.001781              2\n",
       "27248     24  0.001781              2\n",
       "27248     30  0.001781              2\n",
       "27248     35  0.003563              2\n",
       "...      ...       ...            ...\n",
       "22083      3  0.925356            yer\n",
       "21323     15  0.008038            yes\n",
       "21323     17  0.005359            yes\n",
       "21323     20  0.983293            yes\n",
       "21323     33  0.002679            yes\n",
       "42032      4  0.024635      yesterday\n",
       "42032      7  0.080064      yesterday\n",
       "42032      9  0.141651      yesterday\n",
       "42032     11  0.018476      yesterday\n",
       "42032     15  0.049270      yesterday\n",
       "42032     16  0.153969      yesterday\n",
       "42032     17  0.517335      yesterday\n",
       "42032     35  0.018476      yesterday\n",
       "1104      21  0.989657             yo\n",
       "14901      7  0.973156           york\n",
       "7159      22  0.987893          youll\n",
       "9851       4  0.003351          youre\n",
       "9851       6  0.003351          youre\n",
       "9851      21  0.991945          youre\n",
       "15979     24  0.985272  youre_welcome\n",
       "9210      32  0.987906        youtube\n",
       "20677     10  0.987248          youve\n",
       "14783      3  0.159459             yr\n",
       "14783     11  0.797296             yr\n",
       "14783     20  0.019932             yr\n",
       "8368       9  0.990692            yum\n",
       "43949     24  0.973973          yummy\n",
       "43949     34  0.017087          yummy\n",
       "42269     10  0.986383            yup\n",
       "38348     34  0.954578         ã¯â¿â½\n",
       "\n",
       "[2297 rows x 3 columns], R=30, lambda_step=0.01, plot_opts={'ylab': 'PC2', 'xlab': 'PC1'}, topic_order=[6, 15, 7, 36, 14, 10, 17, 30, 8, 3, 16, 5, 21, 20, 27, 12, 19, 1, 25, 28, 9, 32, 24, 23, 22, 13, 11, 4, 29, 31, 33, 35, 26, 2, 18, 34])"
      ]
     },
     "execution_count": 82,
     "metadata": {},
     "output_type": "execute_result"
    }
   ],
   "source": [
    "data"
   ]
  },
  {
   "cell_type": "markdown",
   "metadata": {
    "collapsed": true
   },
   "source": [
    "## wordcloud"
   ]
  },
  {
   "cell_type": "code",
   "execution_count": null,
   "metadata": {},
   "outputs": [],
   "source": []
  },
  {
   "cell_type": "code",
   "execution_count": null,
   "metadata": {
    "collapsed": true
   },
   "outputs": [],
   "source": []
  },
  {
   "cell_type": "code",
   "execution_count": null,
   "metadata": {
    "collapsed": true
   },
   "outputs": [],
   "source": []
  },
  {
   "cell_type": "code",
   "execution_count": null,
   "metadata": {
    "collapsed": true
   },
   "outputs": [],
   "source": []
  }
 ],
 "metadata": {
  "anaconda-cloud": {},
  "kernelspec": {
   "display_name": "Python 2",
   "language": "python",
   "name": "python2"
  },
  "language_info": {
   "codemirror_mode": {
    "name": "ipython",
    "version": 2
   },
   "file_extension": ".py",
   "mimetype": "text/x-python",
   "name": "python",
   "nbconvert_exporter": "python",
   "pygments_lexer": "ipython2",
   "version": "2.7.13"
  }
 },
 "nbformat": 4,
 "nbformat_minor": 1
}
