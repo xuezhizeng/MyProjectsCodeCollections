{
 "cells": [
  {
   "cell_type": "code",
   "execution_count": 1,
   "metadata": {
    "collapsed": true
   },
   "outputs": [],
   "source": [
    "from time import time, ctime\n",
    "import natsort\n",
    "import os"
   ]
  },
  {
   "cell_type": "code",
   "execution_count": 2,
   "metadata": {},
   "outputs": [
    {
     "data": {
      "text/plain": [
       "(367, 'batch_1.txt', 'batch_367.txt')"
      ]
     },
     "execution_count": 2,
     "metadata": {},
     "output_type": "execute_result"
    }
   ],
   "source": [
    "path = 'AllText/'\n",
    "want = os.listdir(path)\n",
    "want = natsort.natsorted(want)\n",
    "len(want), want[0], want[-1]"
   ]
  },
  {
   "cell_type": "code",
   "execution_count": 3,
   "metadata": {},
   "outputs": [
    {
     "data": {
      "text/plain": [
       "['batch_101.txt']"
      ]
     },
     "execution_count": 3,
     "metadata": {},
     "output_type": "execute_result"
    }
   ],
   "source": [
    "start_point = 100\n",
    "want[start_point: start_point+1]"
   ]
  },
  {
   "cell_type": "code",
   "execution_count": null,
   "metadata": {},
   "outputs": [
    {
     "name": "stdout",
     "output_type": "stream",
     "text": [
      "101\n",
      "batch_101.txt\n",
      "used 2299.92 s, 38.33 m, 0.64 h Fri Dec 29 10:14:34 2017\n",
      "102\n",
      "batch_102.txt\n"
     ]
    }
   ],
   "source": [
    "n=start_point\n",
    "for i in want[start_point: start_point+20]:\n",
    "    n+=1\n",
    "    start=time()\n",
    "    print (n)\n",
    "    print (i)\n",
    "    !/home/shj16110/anaconda2/envs/3.6.1/bin/python \\\n",
    "    Tensorflow/rude-carnie/guess.py --class_type gender --model_type inception --model_dir Tensorflow/21936 \\\n",
    "    --filename `pwd`/{path}{i} \\\n",
    "    --target `pwd`/predict/predict_{n}.csv \\\n",
    "    > /dev/null 2>&1\n",
    "    print ('used {:.2f} s, {:.2f} m, {:.2f} h'.format(time()-start, (time()-start)/60.0,(time()-start)/3600.0), ctime())\n",
    "    print"
   ]
  },
  {
   "cell_type": "code",
   "execution_count": null,
   "metadata": {
    "collapsed": true
   },
   "outputs": [],
   "source": []
  }
 ],
 "metadata": {
  "kernelspec": {
   "display_name": "GPU3",
   "language": "python",
   "name": "gpu3"
  },
  "language_info": {
   "codemirror_mode": {
    "name": "ipython",
    "version": 3
   },
   "file_extension": ".py",
   "mimetype": "text/x-python",
   "name": "python",
   "nbconvert_exporter": "python",
   "pygments_lexer": "ipython3",
   "version": "3.6.1"
  }
 },
 "nbformat": 4,
 "nbformat_minor": 2
}
