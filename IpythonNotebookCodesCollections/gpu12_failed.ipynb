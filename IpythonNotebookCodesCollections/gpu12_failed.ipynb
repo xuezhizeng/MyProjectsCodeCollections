{
 "cells": [
  {
   "cell_type": "code",
   "execution_count": 1,
   "metadata": {
    "collapsed": true
   },
   "outputs": [],
   "source": [
    "from time import time, ctime\n",
    "import natsort\n",
    "import os"
   ]
  },
  {
   "cell_type": "code",
   "execution_count": 8,
   "metadata": {},
   "outputs": [
    {
     "name": "stdout",
     "output_type": "stream",
     "text": [
      "/home/shj16110/notebook/DeepGenderPred\r\n"
     ]
    }
   ],
   "source": [
    "!pwd"
   ]
  },
  {
   "cell_type": "code",
   "execution_count": 2,
   "metadata": {},
   "outputs": [
    {
     "data": {
      "text/plain": [
       "(367, 'batch_1.txt', 'batch_367.txt')"
      ]
     },
     "execution_count": 2,
     "metadata": {},
     "output_type": "execute_result"
    }
   ],
   "source": [
    "path = 'AllText/'\n",
    "want = os.listdir(path)\n",
    "want = natsort.natsorted(want)\n",
    "len(want), want[0], want[-1]"
   ]
  },
  {
   "cell_type": "code",
   "execution_count": 14,
   "metadata": {},
   "outputs": [
    {
     "data": {
      "text/plain": [
       "['batch_361.txt']"
      ]
     },
     "execution_count": 14,
     "metadata": {},
     "output_type": "execute_result"
    }
   ],
   "source": [
    "start_point = 360\n",
    "batch = 7\n",
    "want[start_point: start_point+1]"
   ]
  },
  {
   "cell_type": "code",
   "execution_count": 15,
   "metadata": {},
   "outputs": [
    {
     "name": "stdout",
     "output_type": "stream",
     "text": [
      "361\n",
      "batch_361.txt\n",
      "('used 0.00 s, 0.00 m, 0.00 h', 'Fri Dec 29 11:56:51 2017')\n",
      "0.00 sceond per pic\n",
      "\n",
      "362\n",
      "batch_362.txt\n",
      "('used 0.00 s, 0.00 m, 0.00 h', 'Fri Dec 29 11:56:51 2017')\n",
      "0.00 sceond per pic\n",
      "\n",
      "363\n",
      "batch_363.txt\n",
      "('used 0.00 s, 0.00 m, 0.00 h', 'Fri Dec 29 11:56:51 2017')\n",
      "0.00 sceond per pic\n",
      "\n",
      "364\n",
      "batch_364.txt\n",
      "('used 0.00 s, 0.00 m, 0.00 h', 'Fri Dec 29 11:56:51 2017')\n",
      "0.00 sceond per pic\n",
      "\n",
      "365\n",
      "batch_365.txt\n",
      "('used 0.00 s, 0.00 m, 0.00 h', 'Fri Dec 29 11:56:51 2017')\n",
      "0.00 sceond per pic\n",
      "\n",
      "366\n",
      "batch_366.txt\n",
      "('used 0.00 s, 0.00 m, 0.00 h', 'Fri Dec 29 11:56:51 2017')\n",
      "0.00 sceond per pic\n",
      "\n",
      "367\n",
      "batch_367.txt\n",
      "('used 0.00 s, 0.00 m, 0.00 h', 'Fri Dec 29 11:56:51 2017')\n",
      "0.00 sceond per pic\n",
      "\n"
     ]
    }
   ],
   "source": [
    "n=start_point\n",
    "for i in want[start_point: start_point+7]:\n",
    "    n+=1\n",
    "    start=time()\n",
    "    print (n)\n",
    "    print (i)\n",
    "#     !/home/shj16110/anaconda2/envs/3.6.1/bin/python \\\n",
    "#     Tensorflow/rude-carnie/guess.py --class_type gender --model_type inception --model_dir Tensorflow/21936 \\\n",
    "#     --filename `pwd`/{path}{i} \\\n",
    "#     --target `pwd`/predict/predict_{n}.csv \\\n",
    "# #     > /dev/null 2>&1\n",
    "    print ('used {:.2f} s, {:.2f} m, {:.2f} h'.format(time()-start, (time()-start)/60.0,(time()-start)/3600.0), ctime())\n",
    "    print ('{:.2f} sceond per pic'.format((time()-start)/(300)))\n",
    "    print"
   ]
  },
  {
   "cell_type": "code",
   "execution_count": null,
   "metadata": {
    "collapsed": true
   },
   "outputs": [],
   "source": [
    "def run(start_point, batch):\n",
    "    n=start_point\n",
    "    for i in want[start_point: start_point+20]:\n",
    "        n+=1\n",
    "        start=time()\n",
    "        print (n)\n",
    "        print (i)\n",
    "        !/home/shj16110/anaconda2/envs/3.6.1/bin/python \\\n",
    "        `pwd`/Tensorflow/rude-carnie/guess.py --class_type gender --model_type inception --model_dir `pwd`/Tensorflow/21936 \\\n",
    "        --filename `pwd`/{path}{i} \\\n",
    "        --target `pwd`/predict/predict_{n}.csv \\\n",
    "    #     > /dev/null 2>&1\n",
    "        print ('used {:.2f} s, {:.2f} m, {:.2f} h'.format(time()-start, (time()-start)/60.0,(time()-start)/3600.0), ctime())\n",
    "        print ('{:.2f} sceond per pic'.format((time()-start)/(300)))\n",
    "        print"
   ]
  },
  {
   "cell_type": "code",
   "execution_count": 10,
   "metadata": {
    "collapsed": true
   },
   "outputs": [],
   "source": [
    "path = '/home/shj16110/notebook/DeepGenderPred/AllText/'\n",
    "p0 = '/home/shj16110/notebook/DeepGenderPred/'"
   ]
  },
  {
   "cell_type": "code",
   "execution_count": 11,
   "metadata": {},
   "outputs": [],
   "source": [
    "command = [\"/home/shj16110/anaconda2/envs/3.6.1/bin/python\", p0+\"Tensorflow/rude-carnie/guess.py\", \"--class_type gender\",\"--model_type\", \"inception\", \"--model_dir\", p0+\"Tensorflow/21936\", \"--filename\", path+i, \"--target\", p0+\"predict/predict_\"+str(n)+\".csv\"]"
   ]
  },
  {
   "cell_type": "code",
   "execution_count": 12,
   "metadata": {},
   "outputs": [
    {
     "name": "stdout",
     "output_type": "stream",
     "text": [
      "['/home/shj16110/anaconda2/envs/3.6.1/bin/python', '/home/shj16110/notebook/DeepGenderPred/Tensorflow/rude-carnie/guess.py', '--class_type gender', '--model_type', 'inception', '--model_dir', '/home/shj16110/notebook/DeepGenderPred/Tensorflow/21936', '--filename', '/home/shj16110/notebook/DeepGenderPred/AllText/batch_280.txt', '--target', '/home/shj16110/notebook/DeepGenderPred/predict/predict_280.csv']\n"
     ]
    }
   ],
   "source": [
    "print command"
   ]
  },
  {
   "cell_type": "code",
   "execution_count": 13,
   "metadata": {},
   "outputs": [
    {
     "name": "stdout",
     "output_type": "stream",
     "text": [
      "0\n",
      "1\n",
      "2\n",
      "3\n",
      "4\n",
      "5\n",
      "6\n"
     ]
    }
   ],
   "source": [
    "for i in range(0,7):print i"
   ]
  },
  {
   "cell_type": "code",
   "execution_count": null,
   "metadata": {
    "collapsed": true
   },
   "outputs": [],
   "source": []
  }
 ],
 "metadata": {
  "kernelspec": {
   "display_name": "Python 2",
   "language": "python",
   "name": "python2"
  },
  "language_info": {
   "codemirror_mode": {
    "name": "ipython",
    "version": 2
   },
   "file_extension": ".py",
   "mimetype": "text/x-python",
   "name": "python",
   "nbconvert_exporter": "python",
   "pygments_lexer": "ipython2",
   "version": "2.7.13"
  }
 },
 "nbformat": 4,
 "nbformat_minor": 2
}
