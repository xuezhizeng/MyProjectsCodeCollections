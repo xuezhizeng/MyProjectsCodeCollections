{
 "cells": [
  {
   "cell_type": "code",
   "execution_count": 66,
   "metadata": {
    "collapsed": true
   },
   "outputs": [],
   "source": [
    "# import sys\n",
    "# reload(sys)\n",
    "# sys.setdefaultencoding('utf8')\n",
    "\n",
    "import os\n",
    "import pandas as pd\n",
    "from time import ctime\n",
    "from lxml import etree\n",
    "import requests\n",
    "os.chdir('/home/shj16110/weekly/')"
   ]
  },
  {
   "cell_type": "code",
   "execution_count": 67,
   "metadata": {},
   "outputs": [
    {
     "data": {
      "text/plain": [
       "((181145, 2), 181145)"
      ]
     },
     "execution_count": 67,
     "metadata": {},
     "output_type": "execute_result"
    }
   ],
   "source": [
    "df = pd.read_csv('./IDAll.csv')\n",
    "df.shape,len(df['ID'].unique())"
   ]
  },
  {
   "cell_type": "code",
   "execution_count": 126,
   "metadata": {},
   "outputs": [
    {
     "data": {
      "text/plain": [
       "(181145, 181145)"
      ]
     },
     "execution_count": 126,
     "metadata": {},
     "output_type": "execute_result"
    }
   ],
   "source": [
    "data = os.listdir('./all_htmls/')\n",
    "len(data),len(set(data))"
   ]
  },
  {
   "cell_type": "code",
   "execution_count": 87,
   "metadata": {},
   "outputs": [
    {
     "data": {
      "text/plain": [
       "0"
      ]
     },
     "execution_count": 87,
     "metadata": {},
     "output_type": "execute_result"
    }
   ],
   "source": [
    "data0 = [i for i in data if i.endswith('html.html')]\n",
    "len(data0)"
   ]
  },
  {
   "cell_type": "code",
   "execution_count": 91,
   "metadata": {
    "collapsed": true
   },
   "outputs": [],
   "source": [
    "# ! rm ./all_htmls/nan.html"
   ]
  },
  {
   "cell_type": "code",
   "execution_count": 89,
   "metadata": {},
   "outputs": [
    {
     "name": "stdout",
     "output_type": "stream",
     "text": [
      "Sat Dec 16 22:04:03 2017 : processed 1\n",
      "Sat Dec 16 22:06:02 2017 : processed 5000\n",
      "Sat Dec 16 22:08:02 2017 : processed 10000\n",
      "Sat Dec 16 22:10:01 2017 : processed 15000\n",
      "Sat Dec 16 22:12:41 2017 : processed 20000\n",
      "Sat Dec 16 22:14:40 2017 : processed 25000\n",
      "Sat Dec 16 22:16:37 2017 : processed 30000\n",
      "Sat Dec 16 22:18:35 2017 : processed 35000\n",
      "Sat Dec 16 22:20:34 2017 : processed 40000\n",
      "Sat Dec 16 22:22:32 2017 : processed 45000\n",
      "Sat Dec 16 22:24:28 2017 : processed 50000\n",
      "Sat Dec 16 22:26:47 2017 : processed 55000\n",
      "Sat Dec 16 22:29:05 2017 : processed 60000\n",
      "Sat Dec 16 22:31:03 2017 : processed 65000\n",
      "Sat Dec 16 22:33:02 2017 : processed 70000\n",
      "Sat Dec 16 22:34:59 2017 : processed 75000\n",
      "Sat Dec 16 22:36:56 2017 : processed 80000\n",
      "Sat Dec 16 22:38:52 2017 : processed 85000\n",
      "Sat Dec 16 22:40:49 2017 : processed 90000\n",
      "Sat Dec 16 22:43:24 2017 : processed 95000\n",
      "Sat Dec 16 22:45:34 2017 : processed 100000\n",
      "Sat Dec 16 22:47:31 2017 : processed 105000\n",
      "Sat Dec 16 22:49:28 2017 : processed 110000\n",
      "Sat Dec 16 22:51:25 2017 : processed 115000\n",
      "Sat Dec 16 22:53:23 2017 : processed 120000\n",
      "Sat Dec 16 22:55:20 2017 : processed 125000\n",
      "Sat Dec 16 22:57:19 2017 : processed 130000\n",
      "Sat Dec 16 22:59:58 2017 : processed 135000\n",
      "Sat Dec 16 23:01:55 2017 : processed 140000\n",
      "Sat Dec 16 23:03:54 2017 : processed 145000\n",
      "Sat Dec 16 23:05:52 2017 : processed 150000\n",
      "Sat Dec 16 23:07:49 2017 : processed 155000\n",
      "Sat Dec 16 23:09:45 2017 : processed 160000\n",
      "Sat Dec 16 23:11:41 2017 : processed 165000\n",
      "Sat Dec 16 23:14:13 2017 : processed 170000\n",
      "Sat Dec 16 23:16:15 2017 : processed 175000\n",
      "Sat Dec 16 23:18:13 2017 : processed 180000\n"
     ]
    }
   ],
   "source": [
    "folder = \"all_htmls/\"\n",
    "n=0\n",
    "collect=[]\n",
    "failed=[]\n",
    "for i in data:\n",
    "    n+=1\n",
    "    if n%5000==0 or n==1:\n",
    "        print ctime(), ': processed', n\n",
    "    \n",
    "    with open(folder+i,'r') as fl:\n",
    "        text=fl.read()\n",
    "        tree=etree.HTML(text)\n",
    "    try:\n",
    "        collect.append([i, tree.xpath('//div[@class=\"profile-user-name\"]/text()')[0].strip()[1:]])\n",
    "    except Exception as e:\n",
    "        failed.append(i)"
   ]
  },
  {
   "cell_type": "code",
   "execution_count": 92,
   "metadata": {
    "collapsed": true
   },
   "outputs": [],
   "source": [
    "# !ls all_htmls/ -lSr|head -n 10"
   ]
  },
  {
   "cell_type": "code",
   "execution_count": 93,
   "metadata": {
    "collapsed": true
   },
   "outputs": [],
   "source": [
    "# %%time\n",
    "stat=[]\n",
    "for i in data:\n",
    "    if os.path.getsize(folder+i)==0:\n",
    "        stat.append(i)\n",
    "len(stat)"
   ]
  },
  {
   "cell_type": "code",
   "execution_count": 94,
   "metadata": {
    "collapsed": true
   },
   "outputs": [],
   "source": [
    "# pre='https://www.freelancer.com/users/'\n",
    "# folder = \"all_htmls/\"\n",
    "# fail, n=[],0\n",
    "# def getsingle(name):\n",
    "#     global fail, n\n",
    "#     n+=1\n",
    "#     if n%5000==0 or n==1:\n",
    "#         print ctime(), 'of ', n, 'failed', len(fail)\n",
    "#     try:\n",
    "#         one=requests.get(pre+str(name)+'.html')\n",
    "#     except:\n",
    "# #         print 'X',\n",
    "#         fail.append(name)\n",
    "#     with open(folder + name, 'w+') as fl:\n",
    "#         fl.write(one.text)\n",
    "# #         print len(one.text),\n",
    "# #     print 'fail:', len(fail)\n",
    "# #     print 'O',\n",
    "# len(fail)"
   ]
  },
  {
   "cell_type": "code",
   "execution_count": 95,
   "metadata": {
    "collapsed": true
   },
   "outputs": [],
   "source": [
    "# for i in stat:\n",
    "#     getsingle(i)"
   ]
  },
  {
   "cell_type": "code",
   "execution_count": 96,
   "metadata": {
    "collapsed": true
   },
   "outputs": [],
   "source": [
    "# stat"
   ]
  },
  {
   "cell_type": "code",
   "execution_count": 97,
   "metadata": {
    "collapsed": true
   },
   "outputs": [],
   "source": [
    "toSave = pd.DataFrame(collect, columns= ['path','username'])\n",
    "toSave.to_csv('id_username_golden.csv', index=False)"
   ]
  },
  {
   "cell_type": "code",
   "execution_count": 98,
   "metadata": {},
   "outputs": [
    {
     "data": {
      "text/plain": [
       "162646"
      ]
     },
     "execution_count": 98,
     "metadata": {},
     "output_type": "execute_result"
    }
   ],
   "source": [
    "len(collect)"
   ]
  },
  {
   "cell_type": "code",
   "execution_count": 100,
   "metadata": {},
   "outputs": [
    {
     "data": {
      "text/plain": [
       "18499"
      ]
     },
     "execution_count": 100,
     "metadata": {},
     "output_type": "execute_result"
    }
   ],
   "source": [
    "len(failed)"
   ]
  },
  {
   "cell_type": "code",
   "execution_count": 101,
   "metadata": {},
   "outputs": [
    {
     "data": {
      "text/plain": [
       "['1550624.html',\n",
       " '1451176.html',\n",
       " '1427335.html',\n",
       " '9729413.html',\n",
       " '13302763.html']"
      ]
     },
     "execution_count": 101,
     "metadata": {},
     "output_type": "execute_result"
    }
   ],
   "source": [
    "failed[:5]"
   ]
  },
  {
   "cell_type": "code",
   "execution_count": null,
   "metadata": {
    "collapsed": true
   },
   "outputs": [],
   "source": [
    "h1 class=\"margin-h1\""
   ]
  },
  {
   "cell_type": "code",
   "execution_count": 105,
   "metadata": {},
   "outputs": [
    {
     "name": "stdout",
     "output_type": "stream",
     "text": [
      "Sat Dec 16 23:23:23 2017 : processed 1\n",
      "Sat Dec 16 23:24:06 2017 : processed 2000\n",
      "Sat Dec 16 23:24:49 2017 : processed 4000\n",
      "Sat Dec 16 23:25:32 2017 : processed 6000\n",
      "Sat Dec 16 23:26:15 2017 : processed 8000\n",
      "Sat Dec 16 23:26:59 2017 : processed 10000\n",
      "Sat Dec 16 23:27:43 2017 : processed 12000\n",
      "Sat Dec 16 23:28:32 2017 : processed 14000\n",
      "Sat Dec 16 23:29:19 2017 : processed 16000\n",
      "Sat Dec 16 23:30:02 2017 : processed 18000\n"
     ]
    }
   ],
   "source": [
    "n=0\n",
    "failed2=[]\n",
    "collect_fail=[]\n",
    "\n",
    "for i in failed:\n",
    "    n+=1\n",
    "    if n%2000==0 or n==1:\n",
    "        print ctime(), ': processed', n\n",
    "    \n",
    "    with open(folder+i,'r') as fl:\n",
    "        text=fl.read()\n",
    "        tree=etree.HTML(text)\n",
    "    try:\n",
    "        collect_fail.append([i, tree.xpath('//h1[@class=\"margin-h1\"]/text()')[0].strip()[1:]])\n",
    "    except Exception as e:\n",
    "        failed2.append(i)"
   ]
  },
  {
   "cell_type": "code",
   "execution_count": 106,
   "metadata": {},
   "outputs": [
    {
     "data": {
      "text/plain": [
       "(18383, 2)"
      ]
     },
     "execution_count": 106,
     "metadata": {},
     "output_type": "execute_result"
    }
   ],
   "source": [
    "failed_check = pd.DataFrame(collect_fail, columns= ['path','check'])\n",
    "failed_check.shape"
   ]
  },
  {
   "cell_type": "code",
   "execution_count": 109,
   "metadata": {},
   "outputs": [
    {
     "data": {
      "text/plain": [
       "ccount Closed         18362\n",
       "ccount Unavailable       21\n",
       "Name: check, dtype: int64"
      ]
     },
     "execution_count": 109,
     "metadata": {},
     "output_type": "execute_result"
    }
   ],
   "source": [
    "failed_check['check'].value_counts()"
   ]
  },
  {
   "cell_type": "code",
   "execution_count": 110,
   "metadata": {},
   "outputs": [
    {
     "data": {
      "text/plain": [
       "116"
      ]
     },
     "execution_count": 110,
     "metadata": {},
     "output_type": "execute_result"
    }
   ],
   "source": [
    "len(failed2)"
   ]
  },
  {
   "cell_type": "code",
   "execution_count": 111,
   "metadata": {},
   "outputs": [
    {
     "name": "stdout",
     "output_type": "stream",
     "text": [
      "['7870220.html', '1172704.html', '8369470.html', '1213591.html', '1202151.html', '1279560.html', '1280580.html', '1446703.html', '10013606.html', '1196088.html', '1175219.html', '1062567.html', '1170496.html', '1176086.html', '1283370.html', '1280062.html', '1173456.html', '1198490.html', '1208444.html', '1180654.html', '1215153.html', '1275724.html', '1174238.html', '9244328.html', '1164980.html', '1181183.html', '1279351.html', '1203916.html', '1204265.html', '1195933.html', '1277927.html', '1203392.html', '1213253.html', '1165763.html', '1173084.html', '1214433.html', '1188623.html', '1179210.html', '1189213.html', '1192230.html', '1202286.html', '9666838.html', '1346976.html', '1274200.html', '1189863.html', '1173170.html', '1469160.html', '1178879.html', '1885138.html', '1202153.html', '11590894.html', '1211940.html', '1173042.html', '1196316.html', '1207446.html', '1209676.html', '1179622.html', '1185428.html', '1208236.html', '1188239.html', '1194231.html', '1184293.html', '12362528.html', '1175577.html', '1215434.html', '1190685.html', '1189099.html', '1200900.html', '1185110.html', '1194866.html', '1197958.html', '1208881.html', '1164326.html', '1203718.html', '1211652.html', '1208992.html', '1163747.html', '1191263.html', '1280187.html', '1210484.html', '1278165.html', '1183066.html', '898710.html', '1191059.html', '1277111.html', '1202855.html', '1189804.html', '1201285.html', '1201083.html', '1171213.html', '1183544.html', '1214911.html', '824513.html', '1273333.html', '1276841.html', '1207246.html', '6483662.html', '1279881.html', '1174131.html', '1174201.html', '1178662.html', '1186319.html', '1212268.html', '1204410.html', '1170581.html', '12965241.html', '1194552.html', '1173190.html', '1211854.html', '1185692.html', '1199607.html', '1278945.html', '1170099.html', '1212557.html', '1278445.html', '570227.html']\n"
     ]
    }
   ],
   "source": [
    "print failed2"
   ]
  },
  {
   "cell_type": "code",
   "execution_count": 123,
   "metadata": {},
   "outputs": [
    {
     "name": "stdout",
     "output_type": "stream",
     "text": [
      "Sat Dec 16 23:38:50 2017 : processed 1\n",
      "Sat Dec 16 23:38:50 2017 : processed 100\n"
     ]
    }
   ],
   "source": [
    "n=0\n",
    "collect3=[]\n",
    "failed3=[]\n",
    "\n",
    "for i in failed2:\n",
    "    n+=1\n",
    "    if n%100==0 or n==1:\n",
    "        print ctime(), ': processed', n\n",
    "    \n",
    "    with open(folder+i,'r') as fl:\n",
    "        text=fl.read()\n",
    "        tree=etree.HTML(text)\n",
    "    try:\n",
    "        collect3.append([i, tree.xpath('//div[@class=\"profile-user-name\"]/text()')[0].strip()[1:]])\n",
    "    except Exception as e:\n",
    "        failed3.append(i)"
   ]
  },
  {
   "cell_type": "code",
   "execution_count": 122,
   "metadata": {
    "collapsed": true
   },
   "outputs": [],
   "source": [
    "for i in failed3:\n",
    "    getsingle(i)"
   ]
  },
  {
   "cell_type": "code",
   "execution_count": 125,
   "metadata": {},
   "outputs": [
    {
     "data": {
      "text/plain": [
       "116"
      ]
     },
     "execution_count": 125,
     "metadata": {},
     "output_type": "execute_result"
    }
   ],
   "source": [
    "len(failed3)"
   ]
  },
  {
   "cell_type": "code",
   "execution_count": 127,
   "metadata": {},
   "outputs": [
    {
     "data": {
      "text/plain": [
       "(162646, 2)"
      ]
     },
     "execution_count": 127,
     "metadata": {},
     "output_type": "execute_result"
    }
   ],
   "source": [
    "toSave.shape"
   ]
  },
  {
   "cell_type": "code",
   "execution_count": 130,
   "metadata": {
    "collapsed": true
   },
   "outputs": [],
   "source": [
    "toSave.to_csv('id_username_4sets.csv', index=False)"
   ]
  },
  {
   "cell_type": "code",
   "execution_count": null,
   "metadata": {
    "collapsed": true
   },
   "outputs": [],
   "source": []
  }
 ],
 "metadata": {
  "kernelspec": {
   "display_name": "Python 2",
   "language": "python",
   "name": "python2"
  },
  "language_info": {
   "codemirror_mode": {
    "name": "ipython",
    "version": 2
   },
   "file_extension": ".py",
   "mimetype": "text/x-python",
   "name": "python",
   "nbconvert_exporter": "python",
   "pygments_lexer": "ipython2",
   "version": "2.7.13"
  }
 },
 "nbformat": 4,
 "nbformat_minor": 2
}
