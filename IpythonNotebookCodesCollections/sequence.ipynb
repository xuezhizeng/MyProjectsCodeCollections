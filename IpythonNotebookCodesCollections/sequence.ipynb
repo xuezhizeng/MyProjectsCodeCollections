{
 "cells": [
  {
   "cell_type": "code",
   "execution_count": 99,
   "metadata": {
    "collapsed": true
   },
   "outputs": [],
   "source": [
    "#! /usr/bin/python\n",
    "\n",
    "import sys\n",
    "\n",
    "def seq(gp=0, word=\"IN-PROGRESS\"):\n",
    "        from time import strftime, localtime\n",
    "        \n",
    "        with open('save_seq.seq','a+') as fl:\n",
    "                data = fl.readlines()\n",
    "                fl.seek(0)\n",
    "                fl.truncate()\n",
    "                \n",
    "                if len(data)==0:\n",
    "                    seq=1\n",
    "                    tm = strftime(\"%Y-%m-%d %H:%M:%S\", localtime())\n",
    "                    strings = str(seq)+','+str(gp)+','+tm+','+word\n",
    "                      \n",
    "                    fl.write(strings)\n",
    "                    fl.write('\\n')\n",
    "                    \n",
    "                else:\n",
    "                    seq = int(data[-1].split(',')[0])\n",
    "                    seq+=1\n",
    "                    \n",
    "                    tm = strftime(\"%Y-%m-%d %H:%M:%S\", localtime())\n",
    "                    strings = str(seq)+','+str(gp)+','+tm+','+word\n",
    "                    \n",
    "                    fl.write(strings)\n",
    "                    fl.write('\\n')\n",
    "\n",
    "        print (strings)\n",
    "        return strings\n",
    "\n",
    "if __name__=='__main__':\n",
    "    passing = len(sys.argv)\n",
    "    if passing==1:\n",
    "        print 'you need to pass a group NO.'\n",
    "        exit(0)\n",
    "    if passing==2:\n",
    "        groupNo=sys.argv[1]\n",
    "        seq(groupNo)\n",
    "        exit(0)\n",
    "    if passing==3:\n",
    "        groupNo, Stat = sys.argv[1], sys.argv[2]\n",
    "        seq(groupNo, Stat)\n",
    "        exit(0)\n",
    "    else:\n",
    "        print 'too many inputs'\n",
    "        exit(0)\n",
    "\n",
    "\n",
    "    "
   ]
  },
  {
   "cell_type": "markdown",
   "metadata": {},
   "source": [
    "5 ,1,timestamp, IN-PROGRESS"
   ]
  },
  {
   "cell_type": "code",
   "execution_count": 105,
   "metadata": {},
   "outputs": [
    {
     "name": "stdout",
     "output_type": "stream",
     "text": [
      "6,9,2017-12-13 11:48:08,IN-PROGRESS\n"
     ]
    },
    {
     "data": {
      "text/plain": [
       "'6,9,2017-12-13 11:48:08,IN-PROGRESS'"
      ]
     },
     "execution_count": 105,
     "metadata": {},
     "output_type": "execute_result"
    }
   ],
   "source": [
    "seq(9)"
   ]
  },
  {
   "cell_type": "code",
   "execution_count": 106,
   "metadata": {},
   "outputs": [
    {
     "name": "stdout",
     "output_type": "stream",
     "text": [
      "6,9,2017-12-13 11:48:08,IN-PROGRESS\r\n"
     ]
    }
   ],
   "source": [
    "!cat save_seq.seq"
   ]
  },
  {
   "cell_type": "code",
   "execution_count": 85,
   "metadata": {
    "collapsed": true
   },
   "outputs": [],
   "source": []
  },
  {
   "cell_type": "code",
   "execution_count": null,
   "metadata": {
    "collapsed": true
   },
   "outputs": [],
   "source": [
    "def seq(gp=0, word=\"IN-PROGRESS\"):\n",
    "        from time import strftime, localtime\n",
    "        \n",
    "        with open('save_seq.seq','a+') as fl:\n",
    "                data = fl.readlines()\n",
    "                fl.seek(0)\n",
    "                fl.truncate()\n",
    "                \n",
    "                if len(data)==0:\n",
    "                    seq=1\n",
    "                    tm = strftime(\"%Y-%m-%d %H:%M:%S\", localtime())\n",
    "                    strings = str(seq)+','+str(gp)+','+tm+','+word\n",
    "                      \n",
    "                    fl.write(strings)\n",
    "                    fl.write('\\n')\n",
    "                    \n",
    "                else:\n",
    "                    seq = int(data[-1].split(',')[0])\n",
    "                    seq+=1\n",
    "                    \n",
    "                    tm = strftime(\"%Y-%m-%d %H:%M:%S\", localtime())\n",
    "                    strings = str(seq)+','+str(gp)+','+tm+','+word\n",
    "                    \n",
    "                    fl.write(strings)\n",
    "                    fl.write('\\n')\n",
    "\n",
    "        print (strings)\n",
    "        return strings\n",
    "\n",
    "if __name__=='__main__':\n",
    "    seq()\n"
   ]
  }
 ],
 "metadata": {
  "kernelspec": {
   "display_name": "Python 2",
   "language": "python",
   "name": "python2"
  },
  "language_info": {
   "codemirror_mode": {
    "name": "ipython",
    "version": 2
   },
   "file_extension": ".py",
   "mimetype": "text/x-python",
   "name": "python",
   "nbconvert_exporter": "python",
   "pygments_lexer": "ipython2",
   "version": "2.7.13"
  }
 },
 "nbformat": 4,
 "nbformat_minor": 2
}
