{
 "cells": [
  {
   "cell_type": "code",
   "execution_count": 2,
   "metadata": {},
   "outputs": [],
   "source": [
    "# %%time\n",
    "# Based on Bojan's -> https://www.kaggle.com/tunguz/more-effective-ridge-lgbm-script-lb-0-44944\n",
    "# Changes:\n",
    "# 1. Split category_name into sub-categories\n",
    "# 2. Parallelize LGBM to 4 cores\n",
    "# 3. Increase the number of rounds in 1st LGBM\n",
    "# 4. Another LGBM with different seed for model and training split, slightly different hyper-parametes.\n",
    "# 5. Weights on ensemble\n",
    "# 6. SGDRegressor doesn't improve the result, going with only 1 Ridge and 2 LGBM\n",
    "#remove zero price items\n",
    "import pyximport; pyximport.install()\n",
    "import gc\n",
    "import time\n",
    "import numpy as np\n",
    "import pandas as pd\n",
    "from sklearn.decomposition import TruncatedSVD\n",
    "#svd = TruncatedSVD(n_components=1000, random_state=42)\n",
    "\n",
    "from joblib import Parallel, delayed\n",
    "\n",
    "from scipy.sparse import csr_matrix, hstack\n",
    "\n",
    "from sklearn.linear_model import Ridge\n",
    "from sklearn.feature_extraction.text import CountVectorizer, TfidfVectorizer\n",
    "from sklearn.preprocessing import LabelBinarizer\n",
    "from sklearn.model_selection import train_test_split, cross_val_score\n",
    "from sklearn.linear_model import SGDRegressor\n",
    "import lightgbm as lgb\n"
   ]
  },
  {
   "cell_type": "code",
   "execution_count": null,
   "metadata": {},
   "outputs": [],
   "source": []
  },
  {
   "cell_type": "code",
   "execution_count": null,
   "metadata": {
    "collapsed": true
   },
   "outputs": [],
   "source": []
  }
 ],
 "metadata": {
  "kernelspec": {
   "display_name": "new2",
   "language": "python",
   "name": "new2"
  }
 },
 "nbformat": 4,
 "nbformat_minor": 2
}
