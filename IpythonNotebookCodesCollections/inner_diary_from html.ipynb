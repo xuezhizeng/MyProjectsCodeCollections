{
 "cells": [
  {
   "cell_type": "code",
   "execution_count": 1,
   "metadata": {
    "collapsed": true
   },
   "outputs": [],
   "source": [
    "import requests\n",
    "import json\n",
    "from json2df import flatten_dict\n",
    "import pandas as pd\n",
    "from lxml import etree"
   ]
  },
  {
   "cell_type": "code",
   "execution_count": 2,
   "metadata": {
    "collapsed": true
   },
   "outputs": [],
   "source": [
    "# ID = 5204375"
   ]
  },
  {
   "cell_type": "code",
   "execution_count": 3,
   "metadata": {
    "collapsed": true
   },
   "outputs": [],
   "source": [
    "# link = \"http://www.soyoung.com/dpg{}\".format(ID)\n",
    "# link"
   ]
  },
  {
   "cell_type": "code",
   "execution_count": 5,
   "metadata": {},
   "outputs": [],
   "source": [
    "with open ('../download_soyoung/15W_htmls_diary/7085323.html') as fh:\n",
    "    text=fh.read()"
   ]
  },
  {
   "cell_type": "code",
   "execution_count": 6,
   "metadata": {},
   "outputs": [
    {
     "data": {
      "text/plain": [
       "<Element html at 0x2b92ededee18>"
      ]
     },
     "execution_count": 6,
     "metadata": {},
     "output_type": "execute_result"
    }
   ],
   "source": [
    "# a = requests.get(link)\n",
    "c = etree.HTML(text)\n",
    "c"
   ]
  },
  {
   "cell_type": "code",
   "execution_count": 17,
   "metadata": {},
   "outputs": [
    {
     "data": {
      "text/html": [
       "<div>\n",
       "<style scoped>\n",
       "    .dataframe tbody tr th:only-of-type {\n",
       "        vertical-align: middle;\n",
       "    }\n",
       "\n",
       "    .dataframe tbody tr th {\n",
       "        vertical-align: top;\n",
       "    }\n",
       "\n",
       "    .dataframe thead th {\n",
       "        text-align: right;\n",
       "    }\n",
       "</style>\n",
       "<table border=\"1\" class=\"dataframe\">\n",
       "  <thead>\n",
       "    <tr style=\"text-align: right;\">\n",
       "      <th></th>\n",
       "      <th>1</th>\n",
       "      <th>3</th>\n",
       "      <th>5</th>\n",
       "      <th>7</th>\n",
       "    </tr>\n",
       "  </thead>\n",
       "  <tbody>\n",
       "    <tr>\n",
       "      <th>0</th>\n",
       "      <td>2.0</td>\n",
       "      <td>4.0</td>\n",
       "      <td>NaN</td>\n",
       "      <td>NaN</td>\n",
       "    </tr>\n",
       "    <tr>\n",
       "      <th>1</th>\n",
       "      <td>NaN</td>\n",
       "      <td>NaN</td>\n",
       "      <td>6.0</td>\n",
       "      <td>8.0</td>\n",
       "    </tr>\n",
       "  </tbody>\n",
       "</table>\n",
       "</div>"
      ],
      "text/plain": [
       "     1    3    5    7\n",
       "0  2.0  4.0  NaN  NaN\n",
       "1  NaN  NaN  6.0  8.0"
      ]
     },
     "execution_count": 17,
     "metadata": {},
     "output_type": "execute_result"
    }
   ],
   "source": [
    "pd.DataFrame([{1:2,3:4}, {5:6, 7:8}])"
   ]
  },
  {
   "cell_type": "markdown",
   "metadata": {},
   "source": [
    "### map product"
   ]
  },
  {
   "cell_type": "code",
   "execution_count": 7,
   "metadata": {
    "collapsed": true
   },
   "outputs": [],
   "source": [
    "i = c.xpath('//div[@class=\"value product-name\"]/a')"
   ]
  },
  {
   "cell_type": "code",
   "execution_count": 8,
   "metadata": {},
   "outputs": [
    {
     "data": {
      "text/plain": [
       "[('href', 'http://y.soyoung.com/cp55737')]"
      ]
     },
     "execution_count": 8,
     "metadata": {},
     "output_type": "execute_result"
    }
   ],
   "source": [
    "i[0].items()"
   ]
  },
  {
   "cell_type": "code",
   "execution_count": 7,
   "metadata": {},
   "outputs": [
    {
     "name": "stdout",
     "output_type": "stream",
     "text": [
      "【伊婉玻尿酸1ml】韩国进口玻尿酸 丰下巴头丰眉弓丰苹果肌隆鼻泪沟法令纹 大分子玻尿酸\n"
     ]
    }
   ],
   "source": [
    "print i[0].text"
   ]
  },
  {
   "cell_type": "markdown",
   "metadata": {},
   "source": [
    "### find posts"
   ]
  },
  {
   "cell_type": "code",
   "execution_count": 8,
   "metadata": {
    "collapsed": true
   },
   "outputs": [],
   "source": [
    "# //*[@id=\"mengceng-box\"]/div[2]/ul/li[2]"
   ]
  },
  {
   "cell_type": "code",
   "execution_count": 9,
   "metadata": {
    "collapsed": true
   },
   "outputs": [],
   "source": [
    "j = c.xpath('//li[@class=\"diary-item\"]')"
   ]
  },
  {
   "cell_type": "code",
   "execution_count": 10,
   "metadata": {},
   "outputs": [
    {
     "data": {
      "text/plain": [
       "2"
      ]
     },
     "execution_count": 10,
     "metadata": {},
     "output_type": "execute_result"
    }
   ],
   "source": [
    "len(j)"
   ]
  },
  {
   "cell_type": "code",
   "execution_count": 10,
   "metadata": {
    "collapsed": true
   },
   "outputs": [],
   "source": [
    "t, d = j[0], j[1]"
   ]
  },
  {
   "cell_type": "code",
   "execution_count": 11,
   "metadata": {},
   "outputs": [
    {
     "data": {
      "text/plain": [
       "'li'"
      ]
     },
     "execution_count": 11,
     "metadata": {},
     "output_type": "execute_result"
    }
   ],
   "source": [
    "t.tag"
   ]
  },
  {
   "cell_type": "code",
   "execution_count": 12,
   "metadata": {},
   "outputs": [
    {
     "name": "stdout",
     "output_type": "stream",
     "text": [
      "['__class__', '__contains__', '__copy__', '__deepcopy__', '__delattr__', '__delitem__', '__doc__', '__format__', '__getattribute__', '__getitem__', '__hash__', '__init__', '__iter__', '__len__', '__new__', '__nonzero__', '__reduce__', '__reduce_ex__', '__repr__', '__reversed__', '__setattr__', '__setitem__', '__sizeof__', '__str__', '__subclasshook__', '_init', 'addnext', 'addprevious', 'append', 'attrib', 'base', 'clear', 'cssselect', 'extend', 'find', 'findall', 'findtext', 'get', 'getchildren', 'getiterator', 'getnext', 'getparent', 'getprevious', 'getroottree', 'index', 'insert', 'items', 'iter', 'iterancestors', 'iterchildren', 'iterdescendants', 'iterfind', 'itersiblings', 'itertext', 'keys', 'makeelement', 'nsmap', 'prefix', 'remove', 'replace', 'set', 'sourceline', 'tag', 'tail', 'text', 'values', 'xpath']\n"
     ]
    }
   ],
   "source": [
    "print dir(t)"
   ]
  },
  {
   "cell_type": "markdown",
   "metadata": {},
   "source": [
    "https://www.w3schools.com/xml/xpath_syntax.asp"
   ]
  },
  {
   "cell_type": "code",
   "execution_count": 13,
   "metadata": {},
   "outputs": [
    {
     "name": "stdout",
     "output_type": "stream",
     "text": [
      "li\n",
      "span 术后第40天\n",
      "p a /p16211010?group_id=7085323 /p16211010?group_id=7085323 【玻尿酸丰苹果肌第40天】圣诞节快乐，男神女神们，昨天晚上你们是怎么度过的？为什么我袜子都准备好了，今早还是没见到圣诞老爷爷送我的礼物噢月到年底越努力越幸运，工作的时候开开心心的工作，玩的时候开开心心的玩。昨天是平安夜，特意与\n",
      "ul\n",
      "a /p16211010?group_id=7085323 img http://img2.soyoung.com/tieba/web/20171225/5/20171225175922590_152_152.jpg\n",
      "a /p16211010?group_id=7085323 img http://img2.soyoung.com/tieba/web/20171225/9/20171225175923870_152_152.jpg\n",
      "a /p16211010?group_id=7085323 img http://img2.soyoung.com/tieba/web/20171225/8/20171225175923197_152_152.jpg\n",
      "a /p16211010?group_id=7085323 img http://img2.soyoung.com/tieba/web/20171225/8/20171225175924432_152_152.jpg\n",
      "a /p16211010?group_id=7085323 img http://img2.soyoung.com/tieba/web/20171225/0/20171225175924134_152_152.jpg\n",
      "a /p16211010?group_id=7085323 img http://img2.soyoung.com/tieba/web/20171225/7/20171225175925273_152_152.jpg\n",
      "a /p16211010?group_id=7085323 img http://img2.soyoung.com/tieba/web/20171225/0/20171225175927736_152_152.jpg\n",
      "a /p16211010?group_id=7085323 img http://img2.soyoung.com/tieba/web/20171225/2/20171225175929990_152_152.jpg\n",
      "a /p16211010?group_id=7085323 img http://img2.soyoung.com/tieba/web/20171225/7/20171225175930648_152_152.jpg\n",
      "div 7\n",
      "2017-12-25 18:01:47\n",
      "icon views\n",
      "15\n",
      "icon comments\n",
      "1\n",
      "icon favor\n",
      "0\n"
     ]
    }
   ],
   "source": [
    "try:\n",
    "    print t.tag\n",
    "    print t[0].tag, t[0].text\n",
    "    print t[1].tag, t[1][0].tag, t[1][0].xpath('./@href')[0], t[1][0].items()[-1][-1],t[1][0].text\n",
    "    \n",
    "    print t[2].tag\n",
    "    for g in t[2]:\n",
    "        print g[0].tag, g[0].items()[-1][-1], g[0][0].tag, g[0][0].items()[2][-1]\n",
    "    print t[3].tag, len(t[3])\n",
    "    \n",
    "    for x in t[3]: \n",
    "        if x.tag=='div':print x.text\n",
    "        else: \n",
    "            if len(x)==0:print x.xpath('./@class')[0]\n",
    "            else:print x[0].text\n",
    "except:\n",
    "    print 'X'"
   ]
  },
  {
   "cell_type": "code",
   "execution_count": 14,
   "metadata": {},
   "outputs": [
    {
     "name": "stdout",
     "output_type": "stream",
     "text": [
      "<Element span at 0x2b0125d02998>\n",
      "<Element p at 0x2b0125d027a0>\n",
      "<Element ul at 0x2b0125591b90>\n",
      "<Element div at 0x2b0125d02998>\n"
     ]
    }
   ],
   "source": [
    "for i in t:print i"
   ]
  },
  {
   "cell_type": "code",
   "execution_count": 18,
   "metadata": {},
   "outputs": [
    {
     "name": "stdout",
     "output_type": "stream",
     "text": [
      "0 1\n",
      "1 2\n",
      "2 3\n"
     ]
    }
   ],
   "source": [
    "for i,j in enumerate([1,2,3]):print i,j"
   ]
  },
  {
   "cell_type": "code",
   "execution_count": 15,
   "metadata": {
    "collapsed": true
   },
   "outputs": [],
   "source": [
    "# for l in t:\n",
    "#     a = l.xpath('./span[@class=\"day\"]')\n",
    "#     b = l.xpath('./p[@class=\"describe\"]')\n",
    "#     print a\n",
    "#     print b\n",
    "#     print "
   ]
  },
  {
   "cell_type": "code",
   "execution_count": 16,
   "metadata": {
    "collapsed": true
   },
   "outputs": [],
   "source": [
    "a = [1,2,3,4]"
   ]
  },
  {
   "cell_type": "code",
   "execution_count": 17,
   "metadata": {},
   "outputs": [
    {
     "ename": "ValueError",
     "evalue": "list.remove(x): x not in list",
     "output_type": "error",
     "traceback": [
      "\u001b[0;31m\u001b[0m",
      "\u001b[0;31mValueError\u001b[0mTraceback (most recent call last)",
      "\u001b[0;32m<ipython-input-17-ae1fd24e9d23>\u001b[0m in \u001b[0;36m<module>\u001b[0;34m()\u001b[0m\n\u001b[0;32m----> 1\u001b[0;31m \u001b[0ma\u001b[0m\u001b[0;34m.\u001b[0m\u001b[0mremove\u001b[0m\u001b[0;34m(\u001b[0m\u001b[0;36m0\u001b[0m\u001b[0;34m)\u001b[0m\u001b[0;34m\u001b[0m\u001b[0m\n\u001b[0m",
      "\u001b[0;31mValueError\u001b[0m: list.remove(x): x not in list"
     ]
    }
   ],
   "source": [
    "a.remove(0)"
   ]
  },
  {
   "cell_type": "code",
   "execution_count": 18,
   "metadata": {},
   "outputs": [
    {
     "name": "stdout",
     "output_type": "stream",
     "text": [
      "http://y.soyoung.com/cp55737\n",
      "【伊婉玻尿酸1ml】韩国进口玻尿酸 丰下巴头丰眉弓丰苹果肌隆鼻泪沟法令纹 大分子玻尿酸\n"
     ]
    }
   ],
   "source": [
    "ID = 7085323\n",
    "\n",
    "link = \"http://www.soyoung.com/dpg{}\".format(ID)\n",
    "\n",
    "a = requests.get(link)\n",
    "c = etree.HTML(a.text)\n",
    "\n",
    "i = c.xpath('//div[@class=\"value product-name\"]/a')\n",
    "print i[0].items()[-1][-1]\n",
    "print i[0].text\n",
    "\n",
    "j = c.xpath('//li[@class=\"diary-item\"]')\n",
    "_, t = j[0], j[1]"
   ]
  },
  {
   "cell_type": "code",
   "execution_count": null,
   "metadata": {
    "collapsed": true
   },
   "outputs": [],
   "source": []
  },
  {
   "cell_type": "code",
   "execution_count": 19,
   "metadata": {
    "collapsed": true
   },
   "outputs": [],
   "source": [
    "# //*[@id=\"mengceng-box\"]/div[2]/ul/li[2]/p/a/text()"
   ]
  },
  {
   "cell_type": "markdown",
   "metadata": {},
   "source": [
    "### video"
   ]
  },
  {
   "cell_type": "code",
   "execution_count": 19,
   "metadata": {},
   "outputs": [
    {
     "name": "stdout",
     "output_type": "stream",
     "text": [
      "name 't' is not defined\n",
      "X\n"
     ]
    }
   ],
   "source": [
    "try:\n",
    "    print t.tag\n",
    "    print t[0].tag, t[0].text\n",
    "    print t[1].tag, t[1][0].tag, t[1][0].xpath('./@href')[0], t[1][0].items()[-1][-1]\n",
    "    print t[1][0].xpath('./text()')[0]\n",
    "    \n",
    "    print t[2].tag\n",
    "    if t[2].tag=='ul':\n",
    "        for g in t[2]:\n",
    "            print g[0].tag, g[0].items()[-1][-1], g[0][0].tag, g[0][0].items()[2][-1]\n",
    "        print t[3].tag, len(t[3])\n",
    "    else:\n",
    "        print len(t[2])\n",
    "        print t[2].xpath('./@class')[0]\n",
    "        print t[2][0].xpath('./@href')[0]\n",
    "        print t[2][0].xpath('./img')[0].xpath('./@data-img')[0]\n",
    "        \n",
    "    print t[3].tag, len(t[3])\n",
    "    \n",
    "    print t[3]\n",
    "\n",
    "    for x in t[3]: \n",
    "        if x.tag=='div':print x.text\n",
    "        else: \n",
    "            if len(x)==0:print x.xpath('./@class')[0]\n",
    "            else:print x[0].text\n",
    "except Exception as e:\n",
    "    print e\n",
    "    print 'X'"
   ]
  },
  {
   "cell_type": "code",
   "execution_count": 20,
   "metadata": {},
   "outputs": [
    {
     "ename": "NameError",
     "evalue": "name 't' is not defined",
     "output_type": "error",
     "traceback": [
      "\u001b[0;31m\u001b[0m",
      "\u001b[0;31mNameError\u001b[0mTraceback (most recent call last)",
      "\u001b[0;32m<ipython-input-20-34fc7a11cb38>\u001b[0m in \u001b[0;36m<module>\u001b[0;34m()\u001b[0m\n\u001b[0;32m----> 1\u001b[0;31m \u001b[0mt\u001b[0m\u001b[0;34m\u001b[0m\u001b[0m\n\u001b[0m",
      "\u001b[0;31mNameError\u001b[0m: name 't' is not defined"
     ]
    }
   ],
   "source": [
    "t"
   ]
  },
  {
   "cell_type": "code",
   "execution_count": 22,
   "metadata": {},
   "outputs": [
    {
     "name": "stdout",
     "output_type": "stream",
     "text": [
      "li\n",
      "span 术后第40天\n",
      "p a /p16211010?group_id=7085323 /p16211010?group_id=7085323\n",
      "【玻尿酸丰苹果肌第40天】圣诞节快乐，男神女神们，昨天晚上你们是怎么度过的？为什么我袜子都准备好了，今早还是没见到圣诞老爷爷送我的礼物噢月到年底越努力越幸运，工作的时候开开心心的工作，玩的时候开开心心的玩。昨天是平安夜，特意与\n",
      "ul\n",
      "a /p16211010?group_id=7085323 img http://img2.soyoung.com/tieba/web/20171225/5/20171225175922590_152_152.jpg\n",
      "a /p16211010?group_id=7085323 img http://img2.soyoung.com/tieba/web/20171225/9/20171225175923870_152_152.jpg\n",
      "a /p16211010?group_id=7085323 img http://img2.soyoung.com/tieba/web/20171225/8/20171225175923197_152_152.jpg\n",
      "a /p16211010?group_id=7085323 img http://img2.soyoung.com/tieba/web/20171225/8/20171225175924432_152_152.jpg\n",
      "a /p16211010?group_id=7085323 img http://img2.soyoung.com/tieba/web/20171225/0/20171225175924134_152_152.jpg\n",
      "a /p16211010?group_id=7085323 img http://img2.soyoung.com/tieba/web/20171225/7/20171225175925273_152_152.jpg\n",
      "a /p16211010?group_id=7085323 img http://img2.soyoung.com/tieba/web/20171225/0/20171225175927736_152_152.jpg\n",
      "a /p16211010?group_id=7085323 img http://img2.soyoung.com/tieba/web/20171225/2/20171225175929990_152_152.jpg\n",
      "a /p16211010?group_id=7085323 img http://img2.soyoung.com/tieba/web/20171225/7/20171225175930648_152_152.jpg\n",
      "div 7\n",
      "2017-12-25 18:01:47\n",
      "icon views\n",
      "15\n",
      "icon comments\n",
      "1\n",
      "icon favor\n",
      "0\n"
     ]
    }
   ],
   "source": [
    "try:\n",
    "    print t.tag\n",
    "    print t[0].tag, t[0].text\n",
    "    print t[1].tag, t[1][0].tag, t[1][0].xpath('./@href')[0], t[1][0].items()[-1][-1]\n",
    "    print t[1][0].xpath('./text()')[0]\n",
    "    \n",
    "    print t[2].tag\n",
    "    if t[2].tag=='ul':\n",
    "        for g in t[2]:\n",
    "            print g[0].tag, g[0].items()[-1][-1], g[0][0].tag, g[0][0].items()[2][-1]\n",
    "        print t[3].tag, len(t[3])\n",
    "    \n",
    "    for x in t[3]: \n",
    "        if x.tag=='div':print x.text\n",
    "        else: \n",
    "            if len(x)==0:print x.xpath('./@class')[0]\n",
    "            else:print x[0].text\n",
    "except:\n",
    "    print 'X'"
   ]
  },
  {
   "cell_type": "code",
   "execution_count": null,
   "metadata": {
    "collapsed": true
   },
   "outputs": [],
   "source": []
  }
 ],
 "metadata": {
  "kernelspec": {
   "display_name": "new2",
   "language": "python",
   "name": "new2"
  },
  "language_info": {
   "codemirror_mode": {
    "name": "ipython",
    "version": 2
   },
   "file_extension": ".py",
   "mimetype": "text/x-python",
   "name": "python",
   "nbconvert_exporter": "python",
   "pygments_lexer": "ipython2",
   "version": "2.7.14"
  }
 },
 "nbformat": 4,
 "nbformat_minor": 2
}
