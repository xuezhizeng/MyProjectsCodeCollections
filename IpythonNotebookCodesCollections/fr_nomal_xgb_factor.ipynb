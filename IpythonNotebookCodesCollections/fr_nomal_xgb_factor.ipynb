{
 "cells": [
  {
   "cell_type": "code",
   "execution_count": 1,
   "metadata": {},
   "outputs": [
    {
     "name": "stdout",
     "output_type": "stream",
     "text": [
      "CPU times: user 564 ms, sys: 2.18 s, total: 2.75 s\n",
      "Wall time: 412 ms\n"
     ]
    },
    {
     "name": "stderr",
     "output_type": "stream",
     "text": [
      "/home/shj16110/anaconda2/lib/python2.7/site-packages/sklearn/cross_validation.py:41: DeprecationWarning: This module was deprecated in version 0.18 in favor of the model_selection module into which all the refactored classes and functions are moved. Also note that the interface of the new CV iterators are different from that of this module. This module will be removed in 0.20.\n",
      "  \"This module will be removed in 0.20.\", DeprecationWarning)\n"
     ]
    }
   ],
   "source": [
    "%%time\n",
    "import pandas as pd\n",
    "\n",
    "from sklearn.metrics import roc_auc_score, make_scorer, accuracy_score\n",
    "from sklearn.preprocessing import OneHotEncoder, LabelEncoder\n",
    "from sklearn.preprocessing import StandardScaler, Normalizer, MinMaxScaler\n",
    "\n",
    "\n",
    "from sklearn.model_selection import train_test_split\n",
    "from sklearn.model_selection import cross_val_score\n",
    "\n",
    "from xgboost import XGBClassifier\n",
    "from sklearn.feature_selection import RFE\n",
    "\n",
    "\n",
    "from time import strftime, strptime, mktime, time, ctime\n",
    "\n",
    "from sklearn import model_selection\n",
    "\n",
    "from sklearn.linear_model import LogisticRegression\n",
    "from sklearn.neighbors import KNeighborsClassifier\n",
    "from sklearn.naive_bayes import GaussianNB \n",
    "from sklearn.svm import LinearSVC\n",
    "\n",
    "from xgboost import XGBClassifier\n",
    "import xgboost as xgb\n",
    "\n",
    "from sklearn.tree import DecisionTreeClassifier, ExtraTreeClassifier\n",
    "from sklearn.ensemble import AdaBoostClassifier, BaggingClassifier,\\\n",
    "ExtraTreesClassifier, GradientBoostingClassifier, VotingClassifier, RandomForestClassifier\n",
    "\n",
    "from mlxtend.classifier import StackingClassifier, StackingCVClassifier\n",
    "from mlxtend.feature_selection import ColumnSelector\n",
    "\n",
    "from sklearn.pipeline import make_pipeline\n",
    "import numpy as np\n",
    "\n",
    "import gc\n"
   ]
  },
  {
   "cell_type": "code",
   "execution_count": 2,
   "metadata": {},
   "outputs": [
    {
     "name": "stdout",
     "output_type": "stream",
     "text": [
      "(69713, 22)\n",
      "(30037, 21)\n",
      "CPU times: user 2.04 s, sys: 163 ms, total: 2.21 s\n",
      "Wall time: 2.2 s\n"
     ]
    }
   ],
   "source": [
    "%%time\n",
    "df = pd.read_csv('./train.csv')\n",
    "print df.shape\n",
    "test = pd.read_csv('./test.csv')\n",
    "print test.shape\n",
    "\n",
    "y = df.pop('Approved')\n",
    "train_id = df.pop('ID')\n",
    "test_id = test.pop('ID')\n",
    "\n",
    "def helper(x):\n",
    "    try:\n",
    "        tmp = strptime(x, '%d/%m/%y')\n",
    "        tmp = mktime(tmp)\n",
    "    except:\n",
    "        tmp = 563000400\n",
    "    return tmp\n",
    "\n",
    "df['Lead_Creation_Date'] = df['Lead_Creation_Date'].apply(helper)\n",
    "test['Lead_Creation_Date'] = test['Lead_Creation_Date'].apply(helper)\n",
    "\n",
    "df['DOB'] = df['DOB'].apply(helper)\n",
    "test['DOB'] = test['DOB'].apply(helper)\n",
    "\n"
   ]
  },
  {
   "cell_type": "markdown",
   "metadata": {},
   "source": [
    "### from here"
   ]
  },
  {
   "cell_type": "code",
   "execution_count": 30,
   "metadata": {},
   "outputs": [
    {
     "data": {
      "text/plain": [
       "Gender                                  object\n",
       "DOB                                    float64\n",
       "Lead_Creation_Date                     float64\n",
       "City_Code                               object\n",
       "City_Category                           object\n",
       "Employer_Code                           object\n",
       "Employer_Category1                      object\n",
       "Employer_Category2                     float64\n",
       "Monthly_Income                         float64\n",
       "Customer_Existing_Primary_Bank_Code     object\n",
       "Primary_Bank_Type                       object\n",
       "Contacted                               object\n",
       "Source                                  object\n",
       "Source_Category                         object\n",
       "Existing_EMI                           float64\n",
       "Loan_Amount                            float64\n",
       "Loan_Period                            float64\n",
       "Interest_Rate                          float64\n",
       "EMI                                    float64\n",
       "Var1                                     int64\n",
       "Cat                                     object\n",
       "dtype: object"
      ]
     },
     "execution_count": 30,
     "metadata": {},
     "output_type": "execute_result"
    }
   ],
   "source": [
    "df.dtypes"
   ]
  },
  {
   "cell_type": "code",
   "execution_count": 31,
   "metadata": {},
   "outputs": [
    {
     "data": {
      "text/plain": [
       "(99750, 21)"
      ]
     },
     "execution_count": 31,
     "metadata": {},
     "output_type": "execute_result"
    }
   ],
   "source": [
    "df['Cat']=0\n",
    "test['Cat']=1\n",
    "comb = pd.concat([df, test])\n",
    "comb.shape"
   ]
  },
  {
   "cell_type": "code",
   "execution_count": 32,
   "metadata": {},
   "outputs": [],
   "source": [
    "for i in comb.select_dtypes('object'):\n",
    "    comb[i] = pd.factorize(comb[i])[0]\n",
    "\n",
    "train, test = comb[comb['Cat']==0], comb[comb['Cat']==1]\n",
    "_, _ = train.pop('Cat'), test.pop('Cat')\n",
    "print train.shape, test.shape"
   ]
  },
  {
   "cell_type": "code",
   "execution_count": 36,
   "metadata": {},
   "outputs": [
    {
     "name": "stdout",
     "output_type": "stream",
     "text": [
      "(69713, 20) (30037, 20)\n"
     ]
    }
   ],
   "source": [
    "train = train.fillna(axis=1, value=-1)\n",
    "test = test.fillna(axis=1, value=-1)\n",
    "\n",
    "\n",
    "s = StandardScaler()\n",
    "train = s.fit_transform(train)\n",
    "test = s.transform(test)\n",
    "\n",
    "print train.shape, test.shape"
   ]
  },
  {
   "cell_type": "code",
   "execution_count": 67,
   "metadata": {},
   "outputs": [
    {
     "name": "stdout",
     "output_type": "stream",
     "text": [
      "[(55770, 20), (55770,), (13943, 20), (13943,)]\n",
      "CPU times: user 14 ms, sys: 0 ns, total: 14 ms\n",
      "Wall time: 13.1 ms\n"
     ]
    }
   ],
   "source": [
    "%%time\n",
    "m = lambda *x: [i.shape for i in x]\n",
    "X_train, X_test, y_train, y_test = train_test_split(train, y, test_size=0.2)\n",
    "print m(X_train, y_train, X_test, y_test)"
   ]
  },
  {
   "cell_type": "code",
   "execution_count": 68,
   "metadata": {},
   "outputs": [
    {
     "name": "stdout",
     "output_type": "stream",
     "text": [
      "CPU times: user 33 ms, sys: 2 ms, total: 35 ms\n",
      "Wall time: 34.1 ms\n"
     ]
    }
   ],
   "source": [
    "%%time\n",
    "d_train = xgb.DMatrix(X_train, label=y_train)\n",
    "d_test = xgb.DMatrix(X_test, label=y_test)"
   ]
  },
  {
   "cell_type": "code",
   "execution_count": null,
   "metadata": {
    "collapsed": true
   },
   "outputs": [],
   "source": []
  },
  {
   "cell_type": "code",
   "execution_count": 69,
   "metadata": {
    "collapsed": true
   },
   "outputs": [],
   "source": [
    "RANDOM_STATE = 2018\n",
    "params = {\n",
    "    'min_child_weight': 0.9,\n",
    "#     'eta': 0.1,\n",
    "    'colsample_bytree': 0.9,\n",
    "    'max_depth': 15,\n",
    "    'subsample': 0.7,\n",
    "    'alpha': 0.3,\n",
    "    'lambda':0.9,\n",
    "    'gamma': 0.3,\n",
    "    'silent': 0,\n",
    "    'learning_rate':0.002,\n",
    "    'verbose_eval': True,\n",
    "    'seed': RANDOM_STATE,\n",
    "    'objective':\"binary:logistic\",\n",
    "#     'eval_metric':'error'\n",
    "#     'num_class':1\n",
    "    'n_jobs':24,\n",
    "    'eval_metric':'auc'\n",
    "    \n",
    "}\n",
    "watchlist = [(d_train, 'train'), (d_test, 'test')]\n",
    "\n"
   ]
  },
  {
   "cell_type": "code",
   "execution_count": 70,
   "metadata": {},
   "outputs": [
    {
     "name": "stdout",
     "output_type": "stream",
     "text": [
      "[0]\ttrain-auc:0.698455\ttest-auc:0.672698\n",
      "Multiple eval metrics have been passed: 'test-auc' will be used for early stopping.\n",
      "\n",
      "Will train until test-auc hasn't improved in 200 rounds.\n",
      "[50]\ttrain-auc:0.821372\ttest-auc:0.805049\n",
      "[100]\ttrain-auc:0.838395\ttest-auc:0.811237\n",
      "[150]\ttrain-auc:0.843732\ttest-auc:0.816717\n",
      "[200]\ttrain-auc:0.848736\ttest-auc:0.817877\n",
      "[250]\ttrain-auc:0.852033\ttest-auc:0.819156\n",
      "[300]\ttrain-auc:0.856563\ttest-auc:0.8192\n",
      "[350]\ttrain-auc:0.861357\ttest-auc:0.819367\n",
      "[400]\ttrain-auc:0.866165\ttest-auc:0.820122\n",
      "[450]\ttrain-auc:0.870318\ttest-auc:0.821467\n",
      "[500]\ttrain-auc:0.874819\ttest-auc:0.821982\n",
      "[550]\ttrain-auc:0.879728\ttest-auc:0.822597\n",
      "[600]\ttrain-auc:0.884195\ttest-auc:0.823586\n",
      "[650]\ttrain-auc:0.888818\ttest-auc:0.824565\n",
      "[700]\ttrain-auc:0.893833\ttest-auc:0.825024\n",
      "[750]\ttrain-auc:0.899233\ttest-auc:0.825877\n",
      "[800]\ttrain-auc:0.902819\ttest-auc:0.826205\n",
      "[850]\ttrain-auc:0.907542\ttest-auc:0.827287\n",
      "[900]\ttrain-auc:0.914019\ttest-auc:0.829012\n",
      "[950]\ttrain-auc:0.919797\ttest-auc:0.829756\n",
      "[1000]\ttrain-auc:0.924684\ttest-auc:0.829967\n",
      "[1050]\ttrain-auc:0.93008\ttest-auc:0.830692\n",
      "[1100]\ttrain-auc:0.935295\ttest-auc:0.832509\n",
      "[1150]\ttrain-auc:0.93966\ttest-auc:0.832761\n",
      "[1200]\ttrain-auc:0.943935\ttest-auc:0.833675\n",
      "[1250]\ttrain-auc:0.947716\ttest-auc:0.834501\n",
      "[1300]\ttrain-auc:0.951425\ttest-auc:0.834726\n",
      "[1350]\ttrain-auc:0.955269\ttest-auc:0.834994\n",
      "[1400]\ttrain-auc:0.95902\ttest-auc:0.835446\n",
      "[1450]\ttrain-auc:0.961909\ttest-auc:0.835817\n",
      "[1500]\ttrain-auc:0.964289\ttest-auc:0.836037\n",
      "[1550]\ttrain-auc:0.966847\ttest-auc:0.836418\n",
      "[1600]\ttrain-auc:0.969002\ttest-auc:0.83644\n",
      "[1650]\ttrain-auc:0.971118\ttest-auc:0.836842\n",
      "[1700]\ttrain-auc:0.972899\ttest-auc:0.837337\n",
      "[1750]\ttrain-auc:0.974815\ttest-auc:0.837862\n",
      "[1800]\ttrain-auc:0.976477\ttest-auc:0.838314\n",
      "[1850]\ttrain-auc:0.978202\ttest-auc:0.839021\n",
      "[1900]\ttrain-auc:0.979628\ttest-auc:0.839877\n",
      "[1950]\ttrain-auc:0.980965\ttest-auc:0.840207\n",
      "[2000]\ttrain-auc:0.982174\ttest-auc:0.840514\n",
      "[2050]\ttrain-auc:0.983317\ttest-auc:0.840635\n",
      "[2100]\ttrain-auc:0.984313\ttest-auc:0.841454\n",
      "[2150]\ttrain-auc:0.985096\ttest-auc:0.841944\n",
      "[2200]\ttrain-auc:0.985945\ttest-auc:0.842354\n",
      "[2250]\ttrain-auc:0.986672\ttest-auc:0.842851\n",
      "[2300]\ttrain-auc:0.987424\ttest-auc:0.843157\n",
      "[2350]\ttrain-auc:0.988164\ttest-auc:0.843063\n",
      "[2400]\ttrain-auc:0.988786\ttest-auc:0.84326\n",
      "[2450]\ttrain-auc:0.989395\ttest-auc:0.843593\n",
      "[2500]\ttrain-auc:0.989995\ttest-auc:0.843769\n",
      "[2550]\ttrain-auc:0.990547\ttest-auc:0.843994\n",
      "[2600]\ttrain-auc:0.991029\ttest-auc:0.844538\n",
      "[2650]\ttrain-auc:0.991578\ttest-auc:0.844987\n",
      "[2700]\ttrain-auc:0.992055\ttest-auc:0.845245\n",
      "[2750]\ttrain-auc:0.992522\ttest-auc:0.845593\n",
      "[2800]\ttrain-auc:0.992972\ttest-auc:0.845605\n",
      "[2850]\ttrain-auc:0.993397\ttest-auc:0.845542\n",
      "[2900]\ttrain-auc:0.993768\ttest-auc:0.845789\n",
      "[2950]\ttrain-auc:0.99413\ttest-auc:0.84585\n",
      "[3000]\ttrain-auc:0.994466\ttest-auc:0.84601\n",
      "[3050]\ttrain-auc:0.994804\ttest-auc:0.846087\n",
      "[3100]\ttrain-auc:0.995102\ttest-auc:0.846385\n",
      "[3150]\ttrain-auc:0.995376\ttest-auc:0.846036\n",
      "[3200]\ttrain-auc:0.995649\ttest-auc:0.845953\n",
      "[3250]\ttrain-auc:0.995902\ttest-auc:0.845945\n",
      "Stopping. Best iteration:\n",
      "[3099]\ttrain-auc:0.995094\ttest-auc:0.846397\n",
      "\n"
     ]
    },
    {
     "data": {
      "text/plain": [
       "'!!! used 109.02 s'"
      ]
     },
     "execution_count": 70,
     "metadata": {},
     "output_type": "execute_result"
    }
   ],
   "source": [
    "start=time()\n",
    "\n",
    "clf = xgb.train(params, d_train, 10000, watchlist, early_stopping_rounds=200, \n",
    "                verbose_eval=50,  maximize=True,\n",
    "               )\n",
    "                \n",
    "\n",
    "\n",
    "'!!! used %.2f s'%(time()-start)"
   ]
  },
  {
   "cell_type": "code",
   "execution_count": null,
   "metadata": {
    "collapsed": true
   },
   "outputs": [],
   "source": []
  },
  {
   "cell_type": "code",
   "execution_count": null,
   "metadata": {
    "collapsed": true
   },
   "outputs": [],
   "source": []
  },
  {
   "cell_type": "code",
   "execution_count": 63,
   "metadata": {},
   "outputs": [
    {
     "name": "stdout",
     "output_type": "stream",
     "text": [
      "CPU times: user 7 ms, sys: 5 ms, total: 12 ms\n",
      "Wall time: 11.9 ms\n"
     ]
    }
   ],
   "source": [
    "%%time\n",
    "dtest = xgb.DMatrix(test)"
   ]
  },
  {
   "cell_type": "code",
   "execution_count": 64,
   "metadata": {},
   "outputs": [
    {
     "name": "stdout",
     "output_type": "stream",
     "text": [
      "CPU times: user 3.91 s, sys: 2 ms, total: 3.91 s\n",
      "Wall time: 181 ms\n"
     ]
    }
   ],
   "source": [
    "%%time\n",
    "predb = clf.predict(dtest)\n"
   ]
  },
  {
   "cell_type": "markdown",
   "metadata": {},
   "source": [
    "___"
   ]
  },
  {
   "cell_type": "code",
   "execution_count": 65,
   "metadata": {},
   "outputs": [
    {
     "data": {
      "text/plain": [
       "(30037, 2)"
      ]
     },
     "execution_count": 65,
     "metadata": {},
     "output_type": "execute_result"
    }
   ],
   "source": [
    "submit = pd.concat([pd.DataFrame(test_id.values, columns=['ID']), pd.DataFrame(predb, columns=['Approved'])], axis=1)\n",
    "submit.shape"
   ]
  },
  {
   "cell_type": "code",
   "execution_count": 66,
   "metadata": {
    "collapsed": true
   },
   "outputs": [],
   "source": [
    "submit.to_csv('xgb_factor3.csv',index=False)"
   ]
  },
  {
   "cell_type": "code",
   "execution_count": null,
   "metadata": {
    "collapsed": true
   },
   "outputs": [],
   "source": []
  },
  {
   "cell_type": "code",
   "execution_count": null,
   "metadata": {
    "collapsed": true
   },
   "outputs": [],
   "source": []
  },
  {
   "cell_type": "code",
   "execution_count": null,
   "metadata": {
    "collapsed": true
   },
   "outputs": [],
   "source": []
  },
  {
   "cell_type": "code",
   "execution_count": null,
   "metadata": {
    "collapsed": true
   },
   "outputs": [],
   "source": []
  },
  {
   "cell_type": "code",
   "execution_count": 441,
   "metadata": {
    "collapsed": true
   },
   "outputs": [],
   "source": [
    "roc_auc_score?"
   ]
  },
  {
   "cell_type": "code",
   "execution_count": null,
   "metadata": {
    "collapsed": true
   },
   "outputs": [],
   "source": []
  },
  {
   "cell_type": "code",
   "execution_count": 442,
   "metadata": {},
   "outputs": [
    {
     "data": {
      "text/plain": [
       "(30037, 2)"
      ]
     },
     "execution_count": 442,
     "metadata": {},
     "output_type": "execute_result"
    }
   ],
   "source": [
    "submit2 = pd.concat([pd.DataFrame(test_id.values, columns=['ID']), pd.DataFrame(pred, columns=['Approved'])], axis=1)\n",
    "submit2.shape"
   ]
  },
  {
   "cell_type": "code",
   "execution_count": 449,
   "metadata": {},
   "outputs": [
    {
     "data": {
      "text/plain": [
       "0.9834325467976762"
      ]
     },
     "execution_count": 449,
     "metadata": {},
     "output_type": "execute_result"
    }
   ],
   "source": [
    "accuracy_score(y_test, [0]*y_test.shape[0])"
   ]
  },
  {
   "cell_type": "code",
   "execution_count": null,
   "metadata": {
    "collapsed": true
   },
   "outputs": [],
   "source": []
  },
  {
   "cell_type": "code",
   "execution_count": null,
   "metadata": {
    "collapsed": true
   },
   "outputs": [],
   "source": []
  },
  {
   "cell_type": "code",
   "execution_count": null,
   "metadata": {
    "collapsed": true
   },
   "outputs": [],
   "source": []
  },
  {
   "cell_type": "code",
   "execution_count": null,
   "metadata": {
    "collapsed": true
   },
   "outputs": [],
   "source": []
  },
  {
   "cell_type": "code",
   "execution_count": null,
   "metadata": {
    "collapsed": true
   },
   "outputs": [],
   "source": []
  },
  {
   "cell_type": "code",
   "execution_count": null,
   "metadata": {
    "collapsed": true
   },
   "outputs": [],
   "source": []
  },
  {
   "cell_type": "markdown",
   "metadata": {},
   "source": [
    "___"
   ]
  },
  {
   "cell_type": "code",
   "execution_count": 276,
   "metadata": {},
   "outputs": [
    {
     "data": {
      "text/plain": [
       "array([0.87807502, 1.        , 0.99992828, 1.        , 0.98759145])"
      ]
     },
     "execution_count": 276,
     "metadata": {},
     "output_type": "execute_result"
    }
   ],
   "source": [
    "cross_val_score(RandomForestClassifier(n_estimators=50, n_jobs=24), df.iloc[:,:-1], df.iloc[:,-1], cv=5)"
   ]
  },
  {
   "cell_type": "code",
   "execution_count": null,
   "metadata": {
    "collapsed": true
   },
   "outputs": [],
   "source": []
  },
  {
   "cell_type": "code",
   "execution_count": 76,
   "metadata": {},
   "outputs": [
    {
     "data": {
      "text/plain": [
       "RandomForestClassifier(bootstrap=True, class_weight=None, criterion='gini',\n",
       "            max_depth=None, max_features='auto', max_leaf_nodes=None,\n",
       "            min_impurity_decrease=0.0, min_impurity_split=None,\n",
       "            min_samples_leaf=1, min_samples_split=2,\n",
       "            min_weight_fraction_leaf=0.0, n_estimators=50, n_jobs=1,\n",
       "            oob_score=False, random_state=None, verbose=0,\n",
       "            warm_start=False)"
      ]
     },
     "execution_count": 76,
     "metadata": {},
     "output_type": "execute_result"
    }
   ],
   "source": [
    "fr = RandomForestClassifier(n_estimators=50)\n",
    "fr"
   ]
  },
  {
   "cell_type": "code",
   "execution_count": 77,
   "metadata": {},
   "outputs": [
    {
     "data": {
      "text/plain": [
       "RandomForestClassifier(bootstrap=True, class_weight=None, criterion='gini',\n",
       "            max_depth=None, max_features='auto', max_leaf_nodes=None,\n",
       "            min_impurity_decrease=0.0, min_impurity_split=None,\n",
       "            min_samples_leaf=1, min_samples_split=2,\n",
       "            min_weight_fraction_leaf=0.0, n_estimators=50, n_jobs=1,\n",
       "            oob_score=False, random_state=None, verbose=0,\n",
       "            warm_start=False)"
      ]
     },
     "execution_count": 77,
     "metadata": {},
     "output_type": "execute_result"
    }
   ],
   "source": [
    "fr.fit(df.iloc[:,:-1], df.iloc[:,-1])"
   ]
  },
  {
   "cell_type": "code",
   "execution_count": null,
   "metadata": {
    "collapsed": true
   },
   "outputs": [],
   "source": [
    "fr.predict_log_proba"
   ]
  }
 ],
 "metadata": {
  "kernelspec": {
   "display_name": "Python 2",
   "language": "python",
   "name": "python2"
  },
  "language_info": {
   "codemirror_mode": {
    "name": "ipython",
    "version": 2
   },
   "file_extension": ".py",
   "mimetype": "text/x-python",
   "name": "python",
   "nbconvert_exporter": "python",
   "pygments_lexer": "ipython2",
   "version": "2.7.13"
  }
 },
 "nbformat": 4,
 "nbformat_minor": 2
}
