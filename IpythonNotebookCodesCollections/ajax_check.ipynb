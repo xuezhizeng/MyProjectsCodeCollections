{
 "cells": [
  {
   "cell_type": "code",
   "execution_count": 1,
   "metadata": {
    "collapsed": true
   },
   "outputs": [],
   "source": [
    "import requests\n",
    "import json"
   ]
  },
  {
   "cell_type": "code",
   "execution_count": 5,
   "metadata": {},
   "outputs": [
    {
     "name": "stdout",
     "output_type": "stream",
     "text": [
      "<type 'dict'>\n",
      "<type 'list'> 8\n",
      "2004\n"
     ]
    }
   ],
   "source": [
    "p=166\n",
    "l = requests.put('http://y.soyoung.com/yuehui/shop?district_id=1&menu1_id=0&sort=13&index=166&indexCase=1&range=10'.format(p))\n",
    "ll = json.loads(l.text)\n",
    "print type(ll)\n",
    "lll = ll['responseData']['product_info']\n",
    "print type(lll), len(lll)\n",
    "print (p+1)*12"
   ]
  },
  {
   "cell_type": "code",
   "execution_count": 7,
   "metadata": {},
   "outputs": [
    {
     "data": {
      "text/plain": [
       "8"
      ]
     },
     "execution_count": 7,
     "metadata": {},
     "output_type": "execute_result"
    }
   ],
   "source": [
    "len(lll)"
   ]
  },
  {
   "cell_type": "code",
   "execution_count": 30,
   "metadata": {},
   "outputs": [],
   "source": [
    "a = lll[1]"
   ]
  },
  {
   "cell_type": "code",
   "execution_count": 14,
   "metadata": {},
   "outputs": [],
   "source": [
    "from json2df import flatten_dict\n",
    "import pandas as pd"
   ]
  },
  {
   "cell_type": "code",
   "execution_count": 38,
   "metadata": {},
   "outputs": [
    {
     "data": {
      "text/plain": [
       "[{u'doctor_id': u'48613',\n",
       "  u'name_cn': u'\\u90d1\\u884c\\u8dc3',\n",
       "  u'paystages': u'0'}]"
      ]
     },
     "execution_count": 38,
     "metadata": {},
     "output_type": "execute_result"
    }
   ],
   "source": [
    "a['doctor']"
   ]
  },
  {
   "cell_type": "code",
   "execution_count": 36,
   "metadata": {},
   "outputs": [
    {
     "ename": "SyntaxError",
     "evalue": "invalid syntax (<ipython-input-36-c4eaf7331576>, line 1)",
     "output_type": "error",
     "traceback": [
      "\u001b[0;36m  File \u001b[0;32m\"<ipython-input-36-c4eaf7331576>\"\u001b[0;36m, line \u001b[0;32m1\u001b[0m\n\u001b[0;31m    [0cc=[]\u001b[0m\n\u001b[0m       ^\u001b[0m\n\u001b[0;31mSyntaxError\u001b[0m\u001b[0;31m:\u001b[0m invalid syntax\n"
     ]
    }
   ],
   "source": [
    "cc=[]\n",
    "for i in lll:\n",
    "    cc.append(flatten_dict(i, layers=3))"
   ]
  },
  {
   "cell_type": "code",
   "execution_count": 41,
   "metadata": {},
   "outputs": [],
   "source": [
    "import json"
   ]
  },
  {
   "cell_type": "code",
   "execution_count": 52,
   "metadata": {},
   "outputs": [
    {
     "data": {
      "text/plain": [
       "[{u'doctor_id': u'48613',\n",
       "  u'name_cn': u'\\u90d1\\u884c\\u8dc3',\n",
       "  u'paystages': u'0'}]"
      ]
     },
     "execution_count": 52,
     "metadata": {},
     "output_type": "execute_result"
    }
   ],
   "source": [
    "lll[1]['doctor']"
   ]
  },
  {
   "cell_type": "code",
   "execution_count": 64,
   "metadata": {},
   "outputs": [
    {
     "data": {
      "text/plain": [
       "'\"a\"'"
      ]
     },
     "execution_count": 64,
     "metadata": {},
     "output_type": "execute_result"
    }
   ],
   "source": [
    "json.encoder.HAS_UTF8."
   ]
  },
  {
   "cell_type": "code",
   "execution_count": 73,
   "metadata": {},
   "outputs": [],
   "source": [
    "# l.text"
   ]
  },
  {
   "cell_type": "code",
   "execution_count": 74,
   "metadata": {},
   "outputs": [],
   "source": [
    "# json.dumps(l.text)"
   ]
  },
  {
   "cell_type": "code",
   "execution_count": 78,
   "metadata": {},
   "outputs": [],
   "source": [
    "# json.loads(l.text, )"
   ]
  },
  {
   "cell_type": "code",
   "execution_count": 79,
   "metadata": {
    "collapsed": true
   },
   "outputs": [],
   "source": [
    "# json.loads?"
   ]
  },
  {
   "cell_type": "code",
   "execution_count": 100,
   "metadata": {},
   "outputs": [
    {
     "data": {
      "text/plain": [
       "u'doctor_id::48613--name_cn::\\u90d1\\u884c\\u8dc3--paystages::0--'"
      ]
     },
     "execution_count": 100,
     "metadata": {},
     "output_type": "execute_result"
    }
   ],
   "source": [
    "a=''\n",
    "for i in lll[1]['doctor']:\n",
    "    for j in i.items():\n",
    "        a=a+'::'.join(j)+'--'\n",
    "a"
   ]
  },
  {
   "cell_type": "code",
   "execution_count": 84,
   "metadata": {},
   "outputs": [],
   "source": [
    "for i in []:\n",
    "    print i"
   ]
  },
  {
   "cell_type": "code",
   "execution_count": 88,
   "metadata": {},
   "outputs": [
    {
     "data": {
      "text/plain": [
       "'1 2 3'"
      ]
     },
     "execution_count": 88,
     "metadata": {},
     "output_type": "execute_result"
    }
   ],
   "source": [
    "' '.join(['1','2','3'])"
   ]
  },
  {
   "cell_type": "code",
   "execution_count": null,
   "metadata": {},
   "outputs": [],
   "source": []
  },
  {
   "cell_type": "code",
   "execution_count": 22,
   "metadata": {},
   "outputs": [
    {
     "data": {
      "text/html": [
       "<div>\n",
       "<style scoped>\n",
       "    .dataframe tbody tr th:only-of-type {\n",
       "        vertical-align: middle;\n",
       "    }\n",
       "\n",
       "    .dataframe tbody tr th {\n",
       "        vertical-align: top;\n",
       "    }\n",
       "\n",
       "    .dataframe thead th {\n",
       "        text-align: right;\n",
       "    }\n",
       "</style>\n",
       "<table border=\"1\" class=\"dataframe\">\n",
       "  <thead>\n",
       "    <tr style=\"text-align: right;\">\n",
       "      <th></th>\n",
       "      <th>avg_score</th>\n",
       "      <th>bao_xian_yn</th>\n",
       "      <th>calendar_cnt</th>\n",
       "      <th>doctor</th>\n",
       "      <th>doctor_name</th>\n",
       "      <th>each_cnt</th>\n",
       "      <th>gong_yn</th>\n",
       "      <th>hospital_id</th>\n",
       "      <th>hospital_name</th>\n",
       "      <th>img_cover.h</th>\n",
       "      <th>...</th>\n",
       "      <th>security</th>\n",
       "      <th>show_calendar_cnt</th>\n",
       "      <th>sold_cnt</th>\n",
       "      <th>sole</th>\n",
       "      <th>title</th>\n",
       "      <th>tj_order</th>\n",
       "      <th>total_cnt</th>\n",
       "      <th>wei_kuan</th>\n",
       "      <th>wei_kuan_list</th>\n",
       "      <th>wei_kuan_yn</th>\n",
       "    </tr>\n",
       "  </thead>\n",
       "  <tbody>\n",
       "    <tr>\n",
       "      <th>0</th>\n",
       "      <td>0.0</td>\n",
       "      <td>0</td>\n",
       "      <td>0</td>\n",
       "      <td>[]</td>\n",
       "      <td></td>\n",
       "      <td>0</td>\n",
       "      <td>0</td>\n",
       "      <td>23303</td>\n",
       "      <td>北京雅靓医疗美容</td>\n",
       "      <td>100</td>\n",
       "      <td>...</td>\n",
       "      <td>0</td>\n",
       "      <td>2</td>\n",
       "      <td>3</td>\n",
       "      <td>0</td>\n",
       "      <td>【皮肤】【皮秒激光祛斑单部位】 极速祛斑 美白嫩肤 不限购</td>\n",
       "      <td>0</td>\n",
       "      <td>0</td>\n",
       "      <td>[]</td>\n",
       "      <td>[]</td>\n",
       "      <td>0</td>\n",
       "    </tr>\n",
       "    <tr>\n",
       "      <th>1</th>\n",
       "      <td>0.0</td>\n",
       "      <td>1</td>\n",
       "      <td>0</td>\n",
       "      <td>[{u'doctor_id': u'48613', u'name_cn': u'郑行跃', ...</td>\n",
       "      <td>郑行跃</td>\n",
       "      <td>0</td>\n",
       "      <td>0</td>\n",
       "      <td>21497</td>\n",
       "      <td>北京宝岛妇产医院</td>\n",
       "      <td>100</td>\n",
       "      <td>...</td>\n",
       "      <td>0</td>\n",
       "      <td>2</td>\n",
       "      <td>0</td>\n",
       "      <td>0</td>\n",
       "      <td>【埋线双眼皮】【北京宝岛 埋线双眼皮】双眼皮就是这么简单  恢复期短  女神美眼 即刻拥有</td>\n",
       "      <td>0</td>\n",
       "      <td>0</td>\n",
       "      <td>[]</td>\n",
       "      <td>[]</td>\n",
       "      <td>0</td>\n",
       "    </tr>\n",
       "    <tr>\n",
       "      <th>2</th>\n",
       "      <td>0.0</td>\n",
       "      <td>0</td>\n",
       "      <td>0</td>\n",
       "      <td>[{u'doctor_id': u'70665', u'name_cn': u'王光辉', ...</td>\n",
       "      <td>王光辉</td>\n",
       "      <td>0</td>\n",
       "      <td>0</td>\n",
       "      <td>22024</td>\n",
       "      <td>北京昕颜医疗美容诊所</td>\n",
       "      <td>100</td>\n",
       "      <td>...</td>\n",
       "      <td>0</td>\n",
       "      <td>17</td>\n",
       "      <td>0</td>\n",
       "      <td>0</td>\n",
       "      <td>【韩式半永久妆】韩式根状眉 让眉毛也会笑起来</td>\n",
       "      <td>0</td>\n",
       "      <td>0</td>\n",
       "      <td>[]</td>\n",
       "      <td>[]</td>\n",
       "      <td>0</td>\n",
       "    </tr>\n",
       "    <tr>\n",
       "      <th>3</th>\n",
       "      <td>5.0</td>\n",
       "      <td>0</td>\n",
       "      <td>2</td>\n",
       "      <td>[]</td>\n",
       "      <td></td>\n",
       "      <td>0</td>\n",
       "      <td>0</td>\n",
       "      <td>22024</td>\n",
       "      <td>北京昕颜医疗美容诊所</td>\n",
       "      <td>100</td>\n",
       "      <td>...</td>\n",
       "      <td>0</td>\n",
       "      <td>3</td>\n",
       "      <td>31</td>\n",
       "      <td>0</td>\n",
       "      <td>【皮肤】韩国超微小气泡洁净皮肤</td>\n",
       "      <td>0</td>\n",
       "      <td>0</td>\n",
       "      <td>[]</td>\n",
       "      <td>[]</td>\n",
       "      <td>0</td>\n",
       "    </tr>\n",
       "    <tr>\n",
       "      <th>4</th>\n",
       "      <td>0.0</td>\n",
       "      <td>1</td>\n",
       "      <td>0</td>\n",
       "      <td>[]</td>\n",
       "      <td></td>\n",
       "      <td>0</td>\n",
       "      <td>0</td>\n",
       "      <td>4889</td>\n",
       "      <td>北京韩啸医疗美容门诊部</td>\n",
       "      <td>100</td>\n",
       "      <td>...</td>\n",
       "      <td>0</td>\n",
       "      <td>0</td>\n",
       "      <td>0</td>\n",
       "      <td>0</td>\n",
       "      <td>【鼻部】【进口膨体隆鼻+耳软骨塑鼻尖+鼻头缩小】大综合、小翘鼻，“鼻”需美丽，专属东方美</td>\n",
       "      <td>0</td>\n",
       "      <td>0</td>\n",
       "      <td>[]</td>\n",
       "      <td>[]</td>\n",
       "      <td>0</td>\n",
       "    </tr>\n",
       "    <tr>\n",
       "      <th>5</th>\n",
       "      <td>5.0</td>\n",
       "      <td>0</td>\n",
       "      <td>12</td>\n",
       "      <td>[{u'doctor_id': u'71527', u'name_cn': u'段卿然', ...</td>\n",
       "      <td>段卿然</td>\n",
       "      <td>0</td>\n",
       "      <td>0</td>\n",
       "      <td>6070</td>\n",
       "      <td>北京艺星医疗美容医院</td>\n",
       "      <td>100</td>\n",
       "      <td>...</td>\n",
       "      <td>0</td>\n",
       "      <td>13</td>\n",
       "      <td>0</td>\n",
       "      <td>0</td>\n",
       "      <td>【毛发种植】（贺12周年庆，活动免费送）微创无痕自然植发，“植发金手指”毛发移植中心主任主刀</td>\n",
       "      <td>0</td>\n",
       "      <td>0</td>\n",
       "      <td>[]</td>\n",
       "      <td>[]</td>\n",
       "      <td>0</td>\n",
       "    </tr>\n",
       "    <tr>\n",
       "      <th>6</th>\n",
       "      <td>0.0</td>\n",
       "      <td>0</td>\n",
       "      <td>0</td>\n",
       "      <td>[{u'doctor_id': u'59707', u'name_cn': u'王丹丹', ...</td>\n",
       "      <td>王丹丹</td>\n",
       "      <td>0</td>\n",
       "      <td>0</td>\n",
       "      <td>6070</td>\n",
       "      <td>北京艺星医疗美容医院</td>\n",
       "      <td>100</td>\n",
       "      <td>...</td>\n",
       "      <td>0</td>\n",
       "      <td>6</td>\n",
       "      <td>18</td>\n",
       "      <td>0</td>\n",
       "      <td>【皮肤】【VISA皮肤检测+补水嫩肤】高精密皮肤检测+深层补水，让干涸的皮肤喝饱水</td>\n",
       "      <td>0</td>\n",
       "      <td>0</td>\n",
       "      <td>[]</td>\n",
       "      <td>[]</td>\n",
       "      <td>0</td>\n",
       "    </tr>\n",
       "    <tr>\n",
       "      <th>7</th>\n",
       "      <td>0.0</td>\n",
       "      <td>1</td>\n",
       "      <td>0</td>\n",
       "      <td>[{u'doctor_id': u'55373', u'name_cn': u'桂行军', ...</td>\n",
       "      <td>桂行军</td>\n",
       "      <td>0</td>\n",
       "      <td>0</td>\n",
       "      <td>24242</td>\n",
       "      <td>北京彤美医美美容门诊部</td>\n",
       "      <td>100</td>\n",
       "      <td>...</td>\n",
       "      <td>0</td>\n",
       "      <td>30</td>\n",
       "      <td>4</td>\n",
       "      <td>0</td>\n",
       "      <td>【保妥适肉毒素50单位】除皱 保妥适BOTOX  面部除皱  只需一针 抚平皱纹单部位</td>\n",
       "      <td>0</td>\n",
       "      <td>0</td>\n",
       "      <td>[]</td>\n",
       "      <td>[]</td>\n",
       "      <td>0</td>\n",
       "    </tr>\n",
       "  </tbody>\n",
       "</table>\n",
       "<p>8 rows × 39 columns</p>\n",
       "</div>"
      ],
      "text/plain": [
       "  avg_score bao_xian_yn calendar_cnt  \\\n",
       "0       0.0           0            0   \n",
       "1       0.0           1            0   \n",
       "2       0.0           0            0   \n",
       "3       5.0           0            2   \n",
       "4       0.0           1            0   \n",
       "5       5.0           0           12   \n",
       "6       0.0           0            0   \n",
       "7       0.0           1            0   \n",
       "\n",
       "                                              doctor doctor_name each_cnt  \\\n",
       "0                                                 []                    0   \n",
       "1  [{u'doctor_id': u'48613', u'name_cn': u'郑行跃', ...         郑行跃        0   \n",
       "2  [{u'doctor_id': u'70665', u'name_cn': u'王光辉', ...         王光辉        0   \n",
       "3                                                 []                    0   \n",
       "4                                                 []                    0   \n",
       "5  [{u'doctor_id': u'71527', u'name_cn': u'段卿然', ...         段卿然        0   \n",
       "6  [{u'doctor_id': u'59707', u'name_cn': u'王丹丹', ...         王丹丹        0   \n",
       "7  [{u'doctor_id': u'55373', u'name_cn': u'桂行军', ...         桂行军        0   \n",
       "\n",
       "  gong_yn hospital_id hospital_name img_cover.h     ...     security  \\\n",
       "0       0       23303      北京雅靓医疗美容         100     ...            0   \n",
       "1       0       21497      北京宝岛妇产医院         100     ...            0   \n",
       "2       0       22024    北京昕颜医疗美容诊所         100     ...            0   \n",
       "3       0       22024    北京昕颜医疗美容诊所         100     ...            0   \n",
       "4       0        4889   北京韩啸医疗美容门诊部         100     ...            0   \n",
       "5       0        6070    北京艺星医疗美容医院         100     ...            0   \n",
       "6       0        6070    北京艺星医疗美容医院         100     ...            0   \n",
       "7       0       24242   北京彤美医美美容门诊部         100     ...            0   \n",
       "\n",
       "  show_calendar_cnt sold_cnt  sole  \\\n",
       "0                 2        3     0   \n",
       "1                 2        0     0   \n",
       "2                17        0     0   \n",
       "3                 3       31     0   \n",
       "4                 0        0     0   \n",
       "5                13        0     0   \n",
       "6                 6       18     0   \n",
       "7                30        4     0   \n",
       "\n",
       "                                            title tj_order total_cnt  \\\n",
       "0                   【皮肤】【皮秒激光祛斑单部位】 极速祛斑 美白嫩肤 不限购        0         0   \n",
       "1   【埋线双眼皮】【北京宝岛 埋线双眼皮】双眼皮就是这么简单  恢复期短  女神美眼 即刻拥有        0         0   \n",
       "2                          【韩式半永久妆】韩式根状眉 让眉毛也会笑起来        0         0   \n",
       "3                                 【皮肤】韩国超微小气泡洁净皮肤        0         0   \n",
       "4    【鼻部】【进口膨体隆鼻+耳软骨塑鼻尖+鼻头缩小】大综合、小翘鼻，“鼻”需美丽，专属东方美        0         0   \n",
       "5  【毛发种植】（贺12周年庆，活动免费送）微创无痕自然植发，“植发金手指”毛发移植中心主任主刀        0         0   \n",
       "6       【皮肤】【VISA皮肤检测+补水嫩肤】高精密皮肤检测+深层补水，让干涸的皮肤喝饱水        0         0   \n",
       "7     【保妥适肉毒素50单位】除皱 保妥适BOTOX  面部除皱  只需一针 抚平皱纹单部位        0         0   \n",
       "\n",
       "   wei_kuan  wei_kuan_list wei_kuan_yn  \n",
       "0        []             []           0  \n",
       "1        []             []           0  \n",
       "2        []             []           0  \n",
       "3        []             []           0  \n",
       "4        []             []           0  \n",
       "5        []             []           0  \n",
       "6        []             []           0  \n",
       "7        []             []           0  \n",
       "\n",
       "[8 rows x 39 columns]"
      ]
     },
     "execution_count": 22,
     "metadata": {},
     "output_type": "execute_result"
    }
   ],
   "source": [
    "pd.DataFrame(cc)"
   ]
  },
  {
   "cell_type": "code",
   "execution_count": null,
   "metadata": {
    "collapsed": true
   },
   "outputs": [],
   "source": []
  },
  {
   "cell_type": "code",
   "execution_count": null,
   "metadata": {
    "collapsed": true
   },
   "outputs": [],
   "source": []
  },
  {
   "cell_type": "code",
   "execution_count": null,
   "metadata": {
    "collapsed": true
   },
   "outputs": [],
   "source": []
  },
  {
   "cell_type": "code",
   "execution_count": null,
   "metadata": {
    "collapsed": true
   },
   "outputs": [],
   "source": []
  },
  {
   "cell_type": "code",
   "execution_count": null,
   "metadata": {
    "collapsed": true
   },
   "outputs": [],
   "source": []
  },
  {
   "cell_type": "code",
   "execution_count": null,
   "metadata": {
    "collapsed": true
   },
   "outputs": [],
   "source": []
  },
  {
   "cell_type": "code",
   "execution_count": null,
   "metadata": {
    "collapsed": true
   },
   "outputs": [],
   "source": []
  },
  {
   "cell_type": "code",
   "execution_count": 96,
   "metadata": {},
   "outputs": [
    {
     "data": {
      "text/plain": [
       "2000"
      ]
     },
     "execution_count": 96,
     "metadata": {},
     "output_type": "execute_result"
    }
   ],
   "source": [
    "p+12\n"
   ]
  },
  {
   "cell_type": "code",
   "execution_count": 110,
   "metadata": {
    "collapsed": true
   },
   "outputs": [],
   "source": [
    "def collect_json(link, start, end):\n",
    "    fail = []\n",
    "    collect = []\n",
    "    for index in range(start, end+1):\n",
    "        try:\n",
    "            print index,\n",
    "        \n",
    "            for product in json.loads(requests.put(link.format(index)).text)['responseData']['product_info']:\n",
    "                collect.append(product)\n",
    "        except Exception as e:\n",
    "            print e\n",
    "            fail.append(index)\n",
    "    print(len(collect), len(fail))\n",
    "    return collect, fail"
   ]
  },
  {
   "cell_type": "code",
   "execution_count": 111,
   "metadata": {},
   "outputs": [
    {
     "name": "stdout",
     "output_type": "stream",
     "text": [
      "0 1 2 3 4 5 6 7 8 9 10 11 12 13 14 15 16 17 18 19 20 21 22 23 24 25 26 27 28 29 30 31 32 33 34 35 36 37 38 39 40 41 42 43 44 45 46 47 48 49 50 51 52 53 54 55 56 57 58 59 60 61 62 63 64 65 66 67 68 69 70 71 72 73 74 75 76 77 78 79 80 81 82 83 84 85 86 87 88 89 90 91 92 93 94 95 96 97 98 99 100 101 102 103 104 105 106 107 108 109 110 111 112 113 114 115 116 117 118 119 120 121 122 123 124 125 126 127 128 129 130 131 132 133 134 135 136 137 138 139 140 141 142 143 144 145 146 147 148 149 150 151 152 153 154 155 156 157 158 159 160 161 162 163 164 165 166 167 168 169 170 (2000, 0)\n",
      "CPU times: user 1.09 s, sys: 70 ms, total: 1.16 s\n",
      "Wall time: 2min 41s\n"
     ]
    }
   ],
   "source": [
    "%%time\n",
    "link = 'http://y.soyoung.com/yuehui/shop?district_id=1&menu1_id=0&sort=0&index={}&indexCase=1&range=10&district_id=1'\n",
    "coll, fail = collect_json(link, 0, 170)"
   ]
  },
  {
   "cell_type": "code",
   "execution_count": 116,
   "metadata": {
    "collapsed": true
   },
   "outputs": [],
   "source": [
    "import json2df\n",
    "import pandas as pd"
   ]
  },
  {
   "cell_type": "code",
   "execution_count": 121,
   "metadata": {},
   "outputs": [
    {
     "data": {
      "text/plain": [
       "(2000, 47)"
      ]
     },
     "execution_count": 121,
     "metadata": {},
     "output_type": "execute_result"
    }
   ],
   "source": [
    "df = pd.DataFrame(coll)\n",
    "df.shape"
   ]
  },
  {
   "cell_type": "code",
   "execution_count": 141,
   "metadata": {
    "collapsed": true
   },
   "outputs": [],
   "source": [
    "df.to_csv('products.csv', index=False, encoding='utf-8')"
   ]
  },
  {
   "cell_type": "code",
   "execution_count": 132,
   "metadata": {},
   "outputs": [
    {
     "data": {
      "text/plain": [
       "1    1509\n",
       "2     331\n",
       "0     160\n",
       "Name: doctor, dtype: int64"
      ]
     },
     "execution_count": 132,
     "metadata": {},
     "output_type": "execute_result"
    }
   ],
   "source": [
    "df['doctor'].apply(lambda x: len(x)).value_counts()"
   ]
  },
  {
   "cell_type": "code",
   "execution_count": 143,
   "metadata": {},
   "outputs": [
    {
     "data": {
      "text/plain": [
       "[{u'doctor_id': u'59081', u'name_cn': u'\\u738b\\u519b', u'paystages': u'0'}]"
      ]
     },
     "execution_count": 143,
     "metadata": {},
     "output_type": "execute_result"
    }
   ],
   "source": [
    "df['doctor'][0]"
   ]
  },
  {
   "cell_type": "code",
   "execution_count": 146,
   "metadata": {},
   "outputs": [
    {
     "data": {
      "text/html": [
       "<div>\n",
       "<style scoped>\n",
       "    .dataframe tbody tr th:only-of-type {\n",
       "        vertical-align: middle;\n",
       "    }\n",
       "\n",
       "    .dataframe tbody tr th {\n",
       "        vertical-align: top;\n",
       "    }\n",
       "\n",
       "    .dataframe thead th {\n",
       "        text-align: right;\n",
       "    }\n",
       "</style>\n",
       "<table border=\"1\" class=\"dataframe\">\n",
       "  <thead>\n",
       "    <tr style=\"text-align: right;\">\n",
       "      <th></th>\n",
       "      <th>0</th>\n",
       "    </tr>\n",
       "  </thead>\n",
       "  <tbody>\n",
       "    <tr>\n",
       "      <th>avg_score</th>\n",
       "      <td>5.0</td>\n",
       "    </tr>\n",
       "    <tr>\n",
       "      <th>bao_xian_yn</th>\n",
       "      <td>1</td>\n",
       "    </tr>\n",
       "    <tr>\n",
       "      <th>calendar_cnt</th>\n",
       "      <td>15</td>\n",
       "    </tr>\n",
       "    <tr>\n",
       "      <th>doctor</th>\n",
       "      <td>[{u'doctor_id': u'59081', u'name_cn': u'王军', u...</td>\n",
       "    </tr>\n",
       "    <tr>\n",
       "      <th>doctor_name</th>\n",
       "      <td>王军</td>\n",
       "    </tr>\n",
       "    <tr>\n",
       "      <th>each_cnt</th>\n",
       "      <td>0</td>\n",
       "    </tr>\n",
       "    <tr>\n",
       "      <th>fan_ju_money</th>\n",
       "      <td>NaN</td>\n",
       "    </tr>\n",
       "    <tr>\n",
       "      <th>fan_ju_money_yn</th>\n",
       "      <td>NaN</td>\n",
       "    </tr>\n",
       "    <tr>\n",
       "      <th>gong_yn</th>\n",
       "      <td>0</td>\n",
       "    </tr>\n",
       "    <tr>\n",
       "      <th>hospital_id</th>\n",
       "      <td>25547</td>\n",
       "    </tr>\n",
       "    <tr>\n",
       "      <th>hospital_name</th>\n",
       "      <td>北京东方瑞丽医疗美容门诊部</td>\n",
       "    </tr>\n",
       "    <tr>\n",
       "      <th>img_cover</th>\n",
       "      <td>{u'h': u'100', u'ident': u'lnimage', u'u': u'h...</td>\n",
       "    </tr>\n",
       "    <tr>\n",
       "      <th>is_pin_tuan_yn</th>\n",
       "      <td>0</td>\n",
       "    </tr>\n",
       "    <tr>\n",
       "      <th>last_cnt_type</th>\n",
       "      <td>NaN</td>\n",
       "    </tr>\n",
       "    <tr>\n",
       "      <th>level</th>\n",
       "      <td>5.0</td>\n",
       "    </tr>\n",
       "    <tr>\n",
       "      <th>marketing_language</th>\n",
       "      <td>报销机票，送Dior口红</td>\n",
       "    </tr>\n",
       "    <tr>\n",
       "      <th>on_sale_end_date</th>\n",
       "      <td>NaN</td>\n",
       "    </tr>\n",
       "    <tr>\n",
       "      <th>on_sale_flag</th>\n",
       "      <td>0</td>\n",
       "    </tr>\n",
       "    <tr>\n",
       "      <th>on_sale_start_date</th>\n",
       "      <td>NaN</td>\n",
       "    </tr>\n",
       "    <tr>\n",
       "      <th>order_cnt</th>\n",
       "      <td>437</td>\n",
       "    </tr>\n",
       "    <tr>\n",
       "      <th>pay_stages_yn</th>\n",
       "      <td>0</td>\n",
       "    </tr>\n",
       "    <tr>\n",
       "      <th>paystages_notice</th>\n",
       "      <td></td>\n",
       "    </tr>\n",
       "    <tr>\n",
       "      <th>paystages_notice_android</th>\n",
       "      <td></td>\n",
       "    </tr>\n",
       "    <tr>\n",
       "      <th>paystages_notice_android_new</th>\n",
       "      <td>NaN</td>\n",
       "    </tr>\n",
       "    <tr>\n",
       "      <th>paystages_notice_new</th>\n",
       "      <td>NaN</td>\n",
       "    </tr>\n",
       "    <tr>\n",
       "      <th>pid</th>\n",
       "      <td>91559</td>\n",
       "    </tr>\n",
       "    <tr>\n",
       "      <th>pin_tuan</th>\n",
       "      <td>[]</td>\n",
       "    </tr>\n",
       "    <tr>\n",
       "      <th>price_deposit</th>\n",
       "      <td>8000</td>\n",
       "    </tr>\n",
       "    <tr>\n",
       "      <th>price_online</th>\n",
       "      <td>45800</td>\n",
       "    </tr>\n",
       "    <tr>\n",
       "      <th>price_origin</th>\n",
       "      <td>68000</td>\n",
       "    </tr>\n",
       "    <tr>\n",
       "      <th>product_icon</th>\n",
       "      <td></td>\n",
       "    </tr>\n",
       "    <tr>\n",
       "      <th>product_icon_yn</th>\n",
       "      <td>0</td>\n",
       "    </tr>\n",
       "    <tr>\n",
       "      <th>product_type</th>\n",
       "      <td>2</td>\n",
       "    </tr>\n",
       "    <tr>\n",
       "      <th>purchlimit_endtime</th>\n",
       "      <td>NaN</td>\n",
       "    </tr>\n",
       "    <tr>\n",
       "      <th>purchlimit_text</th>\n",
       "      <td>NaN</td>\n",
       "    </tr>\n",
       "    <tr>\n",
       "      <th>purchlimit_yn</th>\n",
       "      <td>NaN</td>\n",
       "    </tr>\n",
       "    <tr>\n",
       "      <th>security</th>\n",
       "      <td>0</td>\n",
       "    </tr>\n",
       "    <tr>\n",
       "      <th>show_calendar_cnt</th>\n",
       "      <td>30</td>\n",
       "    </tr>\n",
       "    <tr>\n",
       "      <th>sold_cnt</th>\n",
       "      <td>72</td>\n",
       "    </tr>\n",
       "    <tr>\n",
       "      <th>sole</th>\n",
       "      <td>0</td>\n",
       "    </tr>\n",
       "    <tr>\n",
       "      <th>title</th>\n",
       "      <td>【自体软骨隆鼻】院长亲诊鼻综合~安全无排异，不惧揉捏，鼻梁软骨，鼻尖软骨，真正的全耳软骨隆鼻~</td>\n",
       "    </tr>\n",
       "    <tr>\n",
       "      <th>tj_order</th>\n",
       "      <td>0</td>\n",
       "    </tr>\n",
       "    <tr>\n",
       "      <th>total_cnt</th>\n",
       "      <td>0</td>\n",
       "    </tr>\n",
       "    <tr>\n",
       "      <th>tuan</th>\n",
       "      <td>{}</td>\n",
       "    </tr>\n",
       "    <tr>\n",
       "      <th>wei_kuan</th>\n",
       "      <td>[]</td>\n",
       "    </tr>\n",
       "    <tr>\n",
       "      <th>wei_kuan_list</th>\n",
       "      <td>[]</td>\n",
       "    </tr>\n",
       "    <tr>\n",
       "      <th>wei_kuan_yn</th>\n",
       "      <td>0</td>\n",
       "    </tr>\n",
       "  </tbody>\n",
       "</table>\n",
       "</div>"
      ],
      "text/plain": [
       "                                                                              0\n",
       "avg_score                                                                   5.0\n",
       "bao_xian_yn                                                                   1\n",
       "calendar_cnt                                                                 15\n",
       "doctor                        [{u'doctor_id': u'59081', u'name_cn': u'王军', u...\n",
       "doctor_name                                                                  王军\n",
       "each_cnt                                                                      0\n",
       "fan_ju_money                                                                NaN\n",
       "fan_ju_money_yn                                                             NaN\n",
       "gong_yn                                                                       0\n",
       "hospital_id                                                               25547\n",
       "hospital_name                                                     北京东方瑞丽医疗美容门诊部\n",
       "img_cover                     {u'h': u'100', u'ident': u'lnimage', u'u': u'h...\n",
       "is_pin_tuan_yn                                                                0\n",
       "last_cnt_type                                                               NaN\n",
       "level                                                                       5.0\n",
       "marketing_language                                                 报销机票，送Dior口红\n",
       "on_sale_end_date                                                            NaN\n",
       "on_sale_flag                                                                  0\n",
       "on_sale_start_date                                                          NaN\n",
       "order_cnt                                                                   437\n",
       "pay_stages_yn                                                                 0\n",
       "paystages_notice                                                               \n",
       "paystages_notice_android                                                       \n",
       "paystages_notice_android_new                                                NaN\n",
       "paystages_notice_new                                                        NaN\n",
       "pid                                                                       91559\n",
       "pin_tuan                                                                     []\n",
       "price_deposit                                                              8000\n",
       "price_online                                                              45800\n",
       "price_origin                                                              68000\n",
       "product_icon                                                                   \n",
       "product_icon_yn                                                               0\n",
       "product_type                                                                  2\n",
       "purchlimit_endtime                                                          NaN\n",
       "purchlimit_text                                                             NaN\n",
       "purchlimit_yn                                                               NaN\n",
       "security                                                                      0\n",
       "show_calendar_cnt                                                            30\n",
       "sold_cnt                                                                     72\n",
       "sole                                                                          0\n",
       "title                           【自体软骨隆鼻】院长亲诊鼻综合~安全无排异，不惧揉捏，鼻梁软骨，鼻尖软骨，真正的全耳软骨隆鼻~\n",
       "tj_order                                                                      0\n",
       "total_cnt                                                                     0\n",
       "tuan                                                                         {}\n",
       "wei_kuan                                                                     []\n",
       "wei_kuan_list                                                                []\n",
       "wei_kuan_yn                                                                   0"
      ]
     },
     "execution_count": 146,
     "metadata": {},
     "output_type": "execute_result"
    }
   ],
   "source": [
    "df.head(1).transpose()"
   ]
  },
  {
   "cell_type": "code",
   "execution_count": 149,
   "metadata": {},
   "outputs": [
    {
     "name": "stdout",
     "output_type": "stream",
     "text": [
      "0    2000\n",
      "Name: pin_tuan, dtype: int64\n",
      "0    1732\n",
      "1     136\n",
      "2      84\n",
      "3      29\n",
      "5      11\n",
      "4       8\n",
      "Name: wei_kuan, dtype: int64\n",
      "0    1732\n",
      "1     136\n",
      "2      84\n",
      "3      29\n",
      "5      11\n",
      "4       8\n",
      "Name: wei_kuan_list, dtype: int64\n",
      "0     1879\n",
      "17     121\n",
      "Name: tuan, dtype: int64\n",
      "4    2000\n",
      "Name: img_cover, dtype: int64\n"
     ]
    }
   ],
   "source": [
    "test = ['pin_tuan', 'wei_kuan', 'wei_kuan_list', 'tuan','img_cover']\n",
    "for i in test:\n",
    "    print df[i].apply(lambda x:len(x)).value_counts()"
   ]
  },
  {
   "cell_type": "code",
   "execution_count": 150,
   "metadata": {
    "collapsed": true
   },
   "outputs": [],
   "source": [
    "df.to_excel('all_products.xlsx', index=False, encoding='utf-8')"
   ]
  },
  {
   "cell_type": "code",
   "execution_count": 104,
   "metadata": {},
   "outputs": [
    {
     "ename": "NameError",
     "evalue": "name 'df' is not defined",
     "output_type": "error",
     "traceback": [
      "\u001b[0;31m\u001b[0m",
      "\u001b[0;31mNameError\u001b[0mTraceback (most recent call last)",
      "\u001b[0;32m<ipython-input-104-1c8d3142e710>\u001b[0m in \u001b[0;36m<module>\u001b[0;34m()\u001b[0m\n\u001b[0;32m----> 1\u001b[0;31m \u001b[0mdf\u001b[0m\u001b[0;34m[\u001b[0m\u001b[0;34m'pin_tuan'\u001b[0m\u001b[0;34m]\u001b[0m\u001b[0;34m\u001b[0m\u001b[0m\n\u001b[0m",
      "\u001b[0;31mNameError\u001b[0m: name 'df' is not defined"
     ]
    }
   ],
   "source": [
    "df['pin_tuan']"
   ]
  },
  {
   "cell_type": "code",
   "execution_count": null,
   "metadata": {
    "collapsed": true
   },
   "outputs": [],
   "source": []
  },
  {
   "cell_type": "code",
   "execution_count": null,
   "metadata": {
    "collapsed": true
   },
   "outputs": [],
   "source": []
  },
  {
   "cell_type": "code",
   "execution_count": 101,
   "metadata": {},
   "outputs": [
    {
     "data": {
      "text/plain": [
       "{1: 2, 3: 4, 7: '8', '5': 6}"
      ]
     },
     "execution_count": 101,
     "metadata": {},
     "output_type": "execute_result"
    }
   ],
   "source": [
    "a={1:2,3:4, '5':6, 7:'8'}\n",
    "a"
   ]
  },
  {
   "cell_type": "code",
   "execution_count": 103,
   "metadata": {},
   "outputs": [
    {
     "data": {
      "text/plain": [
       "{1: 2, 3: 12, 7: '8', '5': 6}"
      ]
     },
     "execution_count": 103,
     "metadata": {},
     "output_type": "execute_result"
    }
   ],
   "source": [
    "a[3]=a[3]+8\n",
    "a"
   ]
  },
  {
   "cell_type": "code",
   "execution_count": null,
   "metadata": {
    "collapsed": true
   },
   "outputs": [],
   "source": []
  }
 ],
 "metadata": {
  "kernelspec": {
   "display_name": "Python 2",
   "language": "python",
   "name": "python2"
  },
  "language_info": {
   "codemirror_mode": {
    "name": "ipython",
    "version": 2
   },
   "file_extension": ".py",
   "mimetype": "text/x-python",
   "name": "python",
   "nbconvert_exporter": "python",
   "pygments_lexer": "ipython2",
   "version": "2.7.13"
  }
 },
 "nbformat": 4,
 "nbformat_minor": 2
}
