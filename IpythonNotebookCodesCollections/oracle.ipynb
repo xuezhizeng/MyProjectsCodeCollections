{
 "cells": [
  {
   "cell_type": "markdown",
   "metadata": {},
   "source": [
    "https://gist.github.com/kimus/10012910"
   ]
  },
  {
   "cell_type": "code",
   "execution_count": 1,
   "metadata": {},
   "outputs": [
    {
     "data": {
      "text/plain": [
       "(210467, 10)"
      ]
     },
     "execution_count": 1,
     "metadata": {},
     "output_type": "execute_result"
    }
   ],
   "source": [
    "import cx_Oracle\n",
    "import pandas as pd\n",
    "\n",
    "df=pd.read_csv('post_url.csv')\n",
    "df.shape"
   ]
  },
  {
   "cell_type": "code",
   "execution_count": 2,
   "metadata": {},
   "outputs": [
    {
     "data": {
      "text/html": [
       "<div>\n",
       "<style>\n",
       "    .dataframe thead tr:only-child th {\n",
       "        text-align: right;\n",
       "    }\n",
       "\n",
       "    .dataframe thead th {\n",
       "        text-align: left;\n",
       "    }\n",
       "\n",
       "    .dataframe tbody tr th {\n",
       "        vertical-align: top;\n",
       "    }\n",
       "</style>\n",
       "<table border=\"1\" class=\"dataframe\">\n",
       "  <thead>\n",
       "    <tr style=\"text-align: right;\">\n",
       "      <th></th>\n",
       "      <th>id</th>\n",
       "      <th>post_url</th>\n",
       "      <th>note</th>\n",
       "      <th>program_id</th>\n",
       "      <th>user_id</th>\n",
       "      <th>user_name</th>\n",
       "      <th>date</th>\n",
       "      <th>pic_num</th>\n",
       "      <th>rating</th>\n",
       "      <th>program_url</th>\n",
       "    </tr>\n",
       "  </thead>\n",
       "  <tbody>\n",
       "    <tr>\n",
       "      <th>0</th>\n",
       "      <td>607843</td>\n",
       "      <td>http://www.soyoung.com/p12360175</td>\n",
       "      <td>1</td>\n",
       "      <td>cp10000</td>\n",
       "      <td>u10040950</td>\n",
       "      <td>会说话的猫咪</td>\n",
       "      <td>2017-05-02 23:44:56</td>\n",
       "      <td>3</td>\n",
       "      <td>100%</td>\n",
       "      <td>http://y.soyoung.com/cp10000</td>\n",
       "    </tr>\n",
       "    <tr>\n",
       "      <th>1</th>\n",
       "      <td>607844</td>\n",
       "      <td>http://www.soyoung.com/p10127503</td>\n",
       "      <td>1</td>\n",
       "      <td>cp10000</td>\n",
       "      <td>u3884867</td>\n",
       "      <td>需要氧气缺氧ing</td>\n",
       "      <td>2016-12-04 10:03:22</td>\n",
       "      <td>1</td>\n",
       "      <td>100%</td>\n",
       "      <td>http://y.soyoung.com/cp10000</td>\n",
       "    </tr>\n",
       "    <tr>\n",
       "      <th>2</th>\n",
       "      <td>607845</td>\n",
       "      <td>http://www.soyoung.com/p7615001</td>\n",
       "      <td>1</td>\n",
       "      <td>cp10000</td>\n",
       "      <td>u3884867</td>\n",
       "      <td>需要氧气缺氧ing</td>\n",
       "      <td>2016-06-15 12:54:58</td>\n",
       "      <td>2</td>\n",
       "      <td>100%</td>\n",
       "      <td>http://y.soyoung.com/cp10000</td>\n",
       "    </tr>\n",
       "  </tbody>\n",
       "</table>\n",
       "</div>"
      ],
      "text/plain": [
       "       id                          post_url  note program_id    user_id  \\\n",
       "0  607843  http://www.soyoung.com/p12360175     1    cp10000  u10040950   \n",
       "1  607844  http://www.soyoung.com/p10127503     1    cp10000   u3884867   \n",
       "2  607845   http://www.soyoung.com/p7615001     1    cp10000   u3884867   \n",
       "\n",
       "   user_name                 date  pic_num rating  \\\n",
       "0     会说话的猫咪  2017-05-02 23:44:56        3   100%   \n",
       "1  需要氧气缺氧ing  2016-12-04 10:03:22        1   100%   \n",
       "2  需要氧气缺氧ing  2016-06-15 12:54:58        2   100%   \n",
       "\n",
       "                    program_url  \n",
       "0  http://y.soyoung.com/cp10000  \n",
       "1  http://y.soyoung.com/cp10000  \n",
       "2  http://y.soyoung.com/cp10000  "
      ]
     },
     "execution_count": 2,
     "metadata": {},
     "output_type": "execute_result"
    }
   ],
   "source": [
    "df.head(3)"
   ]
  },
  {
   "cell_type": "code",
   "execution_count": 3,
   "metadata": {
    "scrolled": true
   },
   "outputs": [
    {
     "name": "stdout",
     "output_type": "stream",
     "text": [
      "11.2.0.2.0\n"
     ]
    }
   ],
   "source": [
    "db=cx_Oracle.connect(\"soyoung\", \"soyoung\", \"my.uconn.science:1521/xe\")\n",
    "print db.version"
   ]
  },
  {
   "cell_type": "code",
   "execution_count": 4,
   "metadata": {
    "collapsed": true
   },
   "outputs": [],
   "source": [
    "query=\"create table whole (ID int, url varchar2(4000))\""
   ]
  },
  {
   "cell_type": "code",
   "execution_count": 5,
   "metadata": {},
   "outputs": [
    {
     "data": {
      "text/plain": [
       "<cx_Oracle.Cursor on <cx_Oracle.Connection to soyoung@my.uconn.science:1521/xe>>"
      ]
     },
     "execution_count": 5,
     "metadata": {},
     "output_type": "execute_result"
    }
   ],
   "source": [
    "conn=db.cursor()\n",
    "conn"
   ]
  },
  {
   "cell_type": "code",
   "execution_count": 6,
   "metadata": {},
   "outputs": [],
   "source": [
    "conn.execute(query)"
   ]
  },
  {
   "cell_type": "code",
   "execution_count": 7,
   "metadata": {
    "collapsed": true
   },
   "outputs": [],
   "source": [
    "db.commit()"
   ]
  },
  {
   "cell_type": "code",
   "execution_count": 8,
   "metadata": {},
   "outputs": [],
   "source": [
    "# df.to_sql('new',con=db)"
   ]
  },
  {
   "cell_type": "code",
   "execution_count": 9,
   "metadata": {},
   "outputs": [
    {
     "data": {
      "text/plain": [
       "210467"
      ]
     },
     "execution_count": 9,
     "metadata": {},
     "output_type": "execute_result"
    }
   ],
   "source": [
    "urls = zip(df['id'], df['post_url'])\n",
    "len(urls)"
   ]
  },
  {
   "cell_type": "code",
   "execution_count": 10,
   "metadata": {},
   "outputs": [
    {
     "data": {
      "text/plain": [
       "[(607843, 'http://www.soyoung.com/p12360175'),\n",
       " (607844, 'http://www.soyoung.com/p10127503'),\n",
       " (607845, 'http://www.soyoung.com/p7615001')]"
      ]
     },
     "execution_count": 10,
     "metadata": {},
     "output_type": "execute_result"
    }
   ],
   "source": [
    "urls[:3]"
   ]
  },
  {
   "cell_type": "code",
   "execution_count": 11,
   "metadata": {},
   "outputs": [],
   "source": [
    "# for i in urls:\n",
    "#     print( \"insert into whole values({},'{}')\".format(i[0],i[1]))\n",
    "# db.commit()"
   ]
  },
  {
   "cell_type": "code",
   "execution_count": 12,
   "metadata": {},
   "outputs": [
    {
     "name": "stdout",
     "output_type": "stream",
     "text": [
      "10000\n",
      "20000\n",
      "30000\n",
      "40000\n",
      "50000\n",
      "60000\n",
      "70000\n",
      "80000\n",
      "90000\n",
      "100000\n",
      "110000\n",
      "120000\n",
      "130000\n",
      "140000\n",
      "150000\n",
      "160000\n",
      "170000\n",
      "180000\n",
      "190000\n",
      "200000\n",
      "210000\n",
      "CPU times: user 6.92 s, sys: 4.47 s, total: 11.4 s\n",
      "Wall time: 1min 8s\n"
     ]
    }
   ],
   "source": [
    "%%time\n",
    "\n",
    "n=0\n",
    "for i in urls:\n",
    "    conn.execute( \"insert into whole values({},'{}')\".format(int(i[0]),i[1]))\n",
    "    n+=1\n",
    "    if n%10000==0:\n",
    "        print n\n",
    "        db.commit()\n"
   ]
  },
  {
   "cell_type": "code",
   "execution_count": null,
   "metadata": {
    "collapsed": true
   },
   "outputs": [],
   "source": []
  }
 ],
 "metadata": {
  "kernelspec": {
   "display_name": "Python 2",
   "language": "python",
   "name": "python2"
  },
  "language_info": {
   "codemirror_mode": {
    "name": "ipython",
    "version": 2
   },
   "file_extension": ".py",
   "mimetype": "text/x-python",
   "name": "python",
   "nbconvert_exporter": "python",
   "pygments_lexer": "ipython2",
   "version": "2.7.13"
  }
 },
 "nbformat": 4,
 "nbformat_minor": 2
}
