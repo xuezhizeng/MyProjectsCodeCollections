{
 "cells": [
  {
   "cell_type": "code",
   "execution_count": 30,
   "metadata": {
    "collapsed": true
   },
   "outputs": [],
   "source": [
    "import pandas as pd\n",
    "import re\n",
    "from time import time\n",
    "\n",
    "import sys\n",
    "reload(sys)\n",
    "sys.setdefaultencoding('utf8')\n",
    "pd.options.display.max_columns=100"
   ]
  },
  {
   "cell_type": "code",
   "execution_count": 31,
   "metadata": {},
   "outputs": [],
   "source": [
    "!pwd"
   ]
  },
  {
   "cell_type": "code",
   "execution_count": 32,
   "metadata": {
    "collapsed": true
   },
   "outputs": [],
   "source": [
    "# !ls /home/saya/notebook/twitter/"
   ]
  },
  {
   "cell_type": "code",
   "execution_count": 33,
   "metadata": {},
   "outputs": [
    {
     "data": {
      "text/plain": [
       "(479066, 7)"
      ]
     },
     "execution_count": 33,
     "metadata": {},
     "output_type": "execute_result"
    }
   ],
   "source": [
    "df=pd.read_csv('/home/saya/notebook/twitter/twitter_basement.csv')\n",
    "df.shape"
   ]
  },
  {
   "cell_type": "code",
   "execution_count": 34,
   "metadata": {},
   "outputs": [
    {
     "data": {
      "text/html": [
       "<div>\n",
       "<style>\n",
       "    .dataframe thead tr:only-child th {\n",
       "        text-align: right;\n",
       "    }\n",
       "\n",
       "    .dataframe thead th {\n",
       "        text-align: left;\n",
       "    }\n",
       "\n",
       "    .dataframe tbody tr th {\n",
       "        vertical-align: top;\n",
       "    }\n",
       "</style>\n",
       "<table border=\"1\" class=\"dataframe\">\n",
       "  <thead>\n",
       "    <tr style=\"text-align: right;\">\n",
       "      <th></th>\n",
       "      <th>created_at</th>\n",
       "      <th>text</th>\n",
       "      <th>user.name</th>\n",
       "      <th>user.created_at</th>\n",
       "      <th>user.followers_count</th>\n",
       "      <th>user.friends_count</th>\n",
       "      <th>user.id_str</th>\n",
       "    </tr>\n",
       "  </thead>\n",
       "  <tbody>\n",
       "    <tr>\n",
       "      <th>0</th>\n",
       "      <td>Tue Sep 12 17:17:51 +0000 2017</td>\n",
       "      <td>RT @WiseBasementSys: It's #VideoGamesDay - Hav...</td>\n",
       "      <td>Ben Gab.io 🐸👌</td>\n",
       "      <td>Mon Jun 30 05:50:45 +0000 2014</td>\n",
       "      <td>1297.0</td>\n",
       "      <td>2489.0</td>\n",
       "      <td>2.595851e+09</td>\n",
       "    </tr>\n",
       "    <tr>\n",
       "      <th>1</th>\n",
       "      <td>Tue Sep 12 17:17:54 +0000 2017</td>\n",
       "      <td>RT @the8asement: 2-PLAYER CHALLENGE on Eventid...</td>\n",
       "      <td>MellyLumpi</td>\n",
       "      <td>Sat Apr 02 20:56:23 +0000 2016</td>\n",
       "      <td>5.0</td>\n",
       "      <td>25.0</td>\n",
       "      <td>7.163687e+17</td>\n",
       "    </tr>\n",
       "    <tr>\n",
       "      <th>2</th>\n",
       "      <td>Tue Sep 12 17:17:56 +0000 2017</td>\n",
       "      <td>RT @aparnapkin: How can I be a misogynist if I...</td>\n",
       "      <td>Mike Leatham</td>\n",
       "      <td>Sun Aug 16 19:08:53 +0000 2015</td>\n",
       "      <td>34.0</td>\n",
       "      <td>282.0</td>\n",
       "      <td>3.426488e+09</td>\n",
       "    </tr>\n",
       "    <tr>\n",
       "      <th>3</th>\n",
       "      <td>Tue Sep 12 17:17:58 +0000 2017</td>\n",
       "      <td>RT @DothTheDoth: My kink is being lost in an a...</td>\n",
       "      <td>Persephone</td>\n",
       "      <td>Wed May 03 10:56:26 +0000 2017</td>\n",
       "      <td>40.0</td>\n",
       "      <td>93.0</td>\n",
       "      <td>8.597233e+17</td>\n",
       "    </tr>\n",
       "    <tr>\n",
       "      <th>4</th>\n",
       "      <td>Tue Sep 12 17:17:58 +0000 2017</td>\n",
       "      <td>2k, Spades, Dominoes, we in a whole different ...</td>\n",
       "      <td>ICB ♏️</td>\n",
       "      <td>Sat Apr 10 15:26:03 +0000 2010</td>\n",
       "      <td>1869.0</td>\n",
       "      <td>925.0</td>\n",
       "      <td>1.315358e+08</td>\n",
       "    </tr>\n",
       "  </tbody>\n",
       "</table>\n",
       "</div>"
      ],
      "text/plain": [
       "                       created_at  \\\n",
       "0  Tue Sep 12 17:17:51 +0000 2017   \n",
       "1  Tue Sep 12 17:17:54 +0000 2017   \n",
       "2  Tue Sep 12 17:17:56 +0000 2017   \n",
       "3  Tue Sep 12 17:17:58 +0000 2017   \n",
       "4  Tue Sep 12 17:17:58 +0000 2017   \n",
       "\n",
       "                                                text      user.name  \\\n",
       "0  RT @WiseBasementSys: It's #VideoGamesDay - Hav...  Ben Gab.io ��������   \n",
       "1  RT @the8asement: 2-PLAYER CHALLENGE on Eventid...     MellyLumpi   \n",
       "2  RT @aparnapkin: How can I be a misogynist if I...   Mike Leatham   \n",
       "3  RT @DothTheDoth: My kink is being lost in an a...     Persephone   \n",
       "4  2k, Spades, Dominoes, we in a whole different ...         ICB ������   \n",
       "\n",
       "                  user.created_at  user.followers_count  user.friends_count  \\\n",
       "0  Mon Jun 30 05:50:45 +0000 2014                1297.0              2489.0   \n",
       "1  Sat Apr 02 20:56:23 +0000 2016                   5.0                25.0   \n",
       "2  Sun Aug 16 19:08:53 +0000 2015                  34.0               282.0   \n",
       "3  Wed May 03 10:56:26 +0000 2017                  40.0                93.0   \n",
       "4  Sat Apr 10 15:26:03 +0000 2010                1869.0               925.0   \n",
       "\n",
       "    user.id_str  \n",
       "0  2.595851e+09  \n",
       "1  7.163687e+17  \n",
       "2  3.426488e+09  \n",
       "3  8.597233e+17  \n",
       "4  1.315358e+08  "
      ]
     },
     "execution_count": 34,
     "metadata": {},
     "output_type": "execute_result"
    }
   ],
   "source": [
    "df.head()"
   ]
  },
  {
   "cell_type": "code",
   "execution_count": 35,
   "metadata": {
    "collapsed": true
   },
   "outputs": [],
   "source": [
    "test=df['text'][0]"
   ]
  },
  {
   "cell_type": "code",
   "execution_count": 36,
   "metadata": {},
   "outputs": [],
   "source": [
    "print test"
   ]
  },
  {
   "cell_type": "code",
   "execution_count": 37,
   "metadata": {
    "collapsed": true
   },
   "outputs": [],
   "source": [
    "def clean(test):\n",
    "    return re.sub(r'@\\S+|#|RT|\\n|http\\S+','',str(test)).strip()"
   ]
  },
  {
   "cell_type": "code",
   "execution_count": 38,
   "metadata": {},
   "outputs": [
    {
     "data": {
      "text/plain": [
       "'Sundays Open House. #Realtor #Pool #Basement #Acre #RuralArea https://t.co/ELNiaVcvQs'"
      ]
     },
     "execution_count": 38,
     "metadata": {},
     "output_type": "execute_result"
    }
   ],
   "source": [
    "a = df['text'][29]\n",
    "a"
   ]
  },
  {
   "cell_type": "code",
   "execution_count": 39,
   "metadata": {
    "collapsed": true
   },
   "outputs": [],
   "source": [
    "content = df['text'].apply(clean)"
   ]
  },
  {
   "cell_type": "code",
   "execution_count": 40,
   "metadata": {},
   "outputs": [
    {
     "data": {
      "text/plain": [
       "479066"
      ]
     },
     "execution_count": 40,
     "metadata": {},
     "output_type": "execute_result"
    }
   ],
   "source": [
    "len(content)"
   ]
  },
  {
   "cell_type": "markdown",
   "metadata": {},
   "source": [
    "### topic modeling"
   ]
  },
  {
   "cell_type": "code",
   "execution_count": 41,
   "metadata": {
    "collapsed": true
   },
   "outputs": [],
   "source": [
    "import nltk\n",
    "import string\n",
    "from nltk.stem.wordnet import WordNetLemmatizer\n",
    "\n",
    "# nltk.download('stopwords')\n",
    "from nltk.corpus import stopwords \n",
    "stopwords = set(stopwords.words('english'))\n",
    "punctuation = set(string.punctuation) \n",
    "lemmatize = WordNetLemmatizer()\n"
   ]
  },
  {
   "cell_type": "code",
   "execution_count": 42,
   "metadata": {
    "collapsed": true
   },
   "outputs": [],
   "source": [
    "stop = pd.read_fwf('stop.txt',names=['words'])\n",
    "stopwords.update(set(stop['words'].values))\n",
    "# print (list(stopwords)[:10])\n",
    "stopwords.update(set(['dont','lot','wa','im','ha','doe','wa', 'able',]))"
   ]
  },
  {
   "cell_type": "code",
   "execution_count": 43,
   "metadata": {
    "collapsed": true
   },
   "outputs": [],
   "source": [
    "def cleaning(article):\n",
    "    article = str(article)\n",
    "    zero = \"\".join(i for i in article if i not in punctuation)\n",
    "    \n",
    "    one = \" \".join([i for i in zero.lower().split() if i not in stopwords])\n",
    "    \n",
    "    three = \" \".join(lemmatize.lemmatize(i) for i in one.split())\n",
    "    return three"
   ]
  },
  {
   "cell_type": "code",
   "execution_count": 44,
   "metadata": {
    "collapsed": true
   },
   "outputs": [],
   "source": [
    "all_content=content.copy()\n",
    "apple = all_content"
   ]
  },
  {
   "cell_type": "code",
   "execution_count": 45,
   "metadata": {},
   "outputs": [
    {
     "data": {
      "text/plain": [
       "'used: 51.37s'"
      ]
     },
     "execution_count": 45,
     "metadata": {},
     "output_type": "execute_result"
    }
   ],
   "source": [
    "# nltk.download('wordnet')\n",
    "start = time()\n",
    "\n",
    "ap_text = apple.apply(cleaning)\n",
    "ap_text_list = [i.split() for i in ap_text]\n",
    "print (len(ap_text_list))\n",
    "\n",
    "('used: {:.2f}s'.format(time()-start))"
   ]
  },
  {
   "cell_type": "code",
   "execution_count": 46,
   "metadata": {},
   "outputs": [
    {
     "data": {
      "text/plain": [
       "0    videogamesday dreamed converting basement arca...\n",
       "1           2player challenge eventide island basement\n",
       "2                         misogynist live mom basement\n",
       "3    kink lost abandoned house amp hearing tune pia...\n",
       "4    2k spade domino mode join godsc jewel inc toni...\n",
       "5                         misogynist live mom basement\n",
       "6        yo basement story pinegroves dope found base���\n",
       "7    mini child programming basement sweatshop produce\n",
       "8    videogamesday dreamed converting basement arca...\n",
       "9                            mind laundry basement def\n",
       "Name: text, dtype: object"
      ]
     },
     "execution_count": 46,
     "metadata": {},
     "output_type": "execute_result"
    }
   ],
   "source": [
    "ap_text[:10]"
   ]
  },
  {
   "cell_type": "code",
   "execution_count": 47,
   "metadata": {},
   "outputs": [
    {
     "data": {
      "text/plain": [
       "'used: 6.06s'"
      ]
     },
     "execution_count": 47,
     "metadata": {},
     "output_type": "execute_result"
    }
   ],
   "source": [
    "from gensim.models.phrases import Phraser, Phrases\n",
    "\n",
    "start = time()\n",
    "phs = Phrases(ap_text_list)\n",
    "('used: {:.2f}s'.format(time()-start))"
   ]
  },
  {
   "cell_type": "code",
   "execution_count": 48,
   "metadata": {},
   "outputs": [
    {
     "data": {
      "text/plain": [
       "'used: 11.54s'"
      ]
     },
     "execution_count": 48,
     "metadata": {},
     "output_type": "execute_result"
    }
   ],
   "source": [
    "bi_gram = Phraser(phs)\n",
    "start = time()\n",
    "\n",
    "new_bi_list = [bi_gram[i] for i in ap_text_list]\n",
    "\n",
    "('used: {:.2f}s'.format(time()-start))"
   ]
  },
  {
   "cell_type": "code",
   "execution_count": 49,
   "metadata": {},
   "outputs": [
    {
     "data": {
      "text/plain": [
       "'used: 7.95s'"
      ]
     },
     "execution_count": 49,
     "metadata": {},
     "output_type": "execute_result"
    }
   ],
   "source": [
    "start = time()\n",
    "\n",
    "phs3=Phrases(new_bi_list)\n",
    "tri_gram=Phraser(phs3)\n",
    "\n",
    "('used: {:.2f}s'.format(time()-start))"
   ]
  },
  {
   "cell_type": "code",
   "execution_count": 50,
   "metadata": {},
   "outputs": [
    {
     "data": {
      "text/plain": [
       "'used: 7.86s'"
      ]
     },
     "execution_count": 50,
     "metadata": {},
     "output_type": "execute_result"
    }
   ],
   "source": [
    "start = time()\n",
    "\n",
    "new_tri_list = [tri_gram[i] for i in new_bi_list]\n",
    "\n",
    "('used: {:.2f}s'.format(time()-start))"
   ]
  },
  {
   "cell_type": "code",
   "execution_count": 51,
   "metadata": {},
   "outputs": [
    {
     "data": {
      "text/plain": [
       "479066"
      ]
     },
     "execution_count": 51,
     "metadata": {},
     "output_type": "execute_result"
    }
   ],
   "source": [
    "len(new_tri_list)"
   ]
  },
  {
   "cell_type": "code",
   "execution_count": 52,
   "metadata": {},
   "outputs": [
    {
     "data": {
      "text/plain": [
       "[u'videogamesday_dreamed_converting',\n",
       " u'basement',\n",
       " u'arcade_youre_retrogames\\u2026']"
      ]
     },
     "execution_count": 52,
     "metadata": {},
     "output_type": "execute_result"
    }
   ],
   "source": [
    "new_tri_list[0]"
   ]
  },
  {
   "cell_type": "code",
   "execution_count": 53,
   "metadata": {},
   "outputs": [],
   "source": [
    "make_dic = dict()\n",
    "for i,j in zip(range(len(new_tri_list)), new_tri_list):\n",
    "    make_dic[i]=j"
   ]
  },
  {
   "cell_type": "code",
   "execution_count": 54,
   "metadata": {},
   "outputs": [
    {
     "data": {
      "text/plain": [
       "0    [videogamesday_dreamed_converting, basement, a...\n",
       "1     [2player, challenge, eventide, island, basement]\n",
       "2                      [misogynist_live_mom, basement]\n",
       "3    [kink_lost_abandoned_house, amp_hearing_tune_p...\n",
       "4    [2k_spade_domino_mode, join_godsc_jewel_inc, t...\n",
       "dtype: object"
      ]
     },
     "execution_count": 54,
     "metadata": {},
     "output_type": "execute_result"
    }
   ],
   "source": [
    "without_stop = pd.Series(make_dic)\n",
    "without_stop.head()"
   ]
  },
  {
   "cell_type": "code",
   "execution_count": 55,
   "metadata": {
    "collapsed": true
   },
   "outputs": [],
   "source": [
    "ap_text_list = list(without_stop.values)"
   ]
  },
  {
   "cell_type": "code",
   "execution_count": 56,
   "metadata": {},
   "outputs": [
    {
     "data": {
      "text/plain": [
       "479066"
      ]
     },
     "execution_count": 56,
     "metadata": {},
     "output_type": "execute_result"
    }
   ],
   "source": [
    "len(ap_text_list)"
   ]
  },
  {
   "cell_type": "code",
   "execution_count": 57,
   "metadata": {},
   "outputs": [
    {
     "data": {
      "text/plain": [
       "[[u'broadcaster',\n",
       "  u'criticism',\n",
       "  u'stagebut',\n",
       "  u'guy',\n",
       "  u'eating',\n",
       "  u'soup',\n",
       "  u'mom',\n",
       "  u'basement',\n",
       "  u'look',\n",
       "  u'mirror\\u2026'],\n",
       " [u'nice', u'basement'],\n",
       " [u'buddy', u'basement', u'fuck']]"
      ]
     },
     "execution_count": 57,
     "metadata": {},
     "output_type": "execute_result"
    }
   ],
   "source": [
    "ap_text_list[100:103]"
   ]
  },
  {
   "cell_type": "code",
   "execution_count": null,
   "metadata": {
    "collapsed": true
   },
   "outputs": [],
   "source": []
  },
  {
   "cell_type": "markdown",
   "metadata": {},
   "source": [
    "### start building"
   ]
  },
  {
   "cell_type": "code",
   "execution_count": 58,
   "metadata": {
    "collapsed": true
   },
   "outputs": [],
   "source": [
    "# Importing Gensim\n",
    "import gensim\n",
    "from gensim import corpora\n",
    "\n",
    "from time import time\n",
    "import logging\n",
    "\n",
    "logging.basicConfig(format='%(asctime)s : %(levelname)s : %(message)s', level=logging.INFO,\n",
    "                   filename='twitter_10_8.log',filemode='w')"
   ]
  },
  {
   "cell_type": "code",
   "execution_count": 59,
   "metadata": {},
   "outputs": [
    {
     "data": {
      "text/plain": [
       "<gensim.corpora.dictionary.Dictionary at 0x7ff8bacdc910>"
      ]
     },
     "execution_count": 59,
     "metadata": {},
     "output_type": "execute_result"
    }
   ],
   "source": [
    "# Creating the term dictionary of our courpus, where every unique term is assigned an index. dictionary = corpora.Dictionary(doc_clean)\n",
    "dictionary = corpora.Dictionary(ap_text_list)\n",
    "dictionary.save('twitter_10_8.dict')\n",
    "(dictionary)"
   ]
  },
  {
   "cell_type": "code",
   "execution_count": 60,
   "metadata": {},
   "outputs": [
    {
     "data": {
      "text/plain": [
       "[(2, 1),\n",
       " (32, 1),\n",
       " (66, 1),\n",
       " (332, 1),\n",
       " (333, 1),\n",
       " (334, 1),\n",
       " (335, 1),\n",
       " (336, 1),\n",
       " (337, 1),\n",
       " (338, 1)]"
      ]
     },
     "execution_count": 60,
     "metadata": {},
     "output_type": "execute_result"
    }
   ],
   "source": [
    "# Converting list of documents (corpus) into Document Term Matrix using dictionary prepared above.\n",
    "doc_term_matrix = [dictionary.doc2bow(doc) for doc in ap_text_list]\n",
    "corpora.MmCorpus.serialize('twitter_10_8.mm', doc_term_matrix)\n",
    "\n",
    "(len(doc_term_matrix))\n",
    "(doc_term_matrix[100])"
   ]
  },
  {
   "cell_type": "code",
   "execution_count": 70,
   "metadata": {},
   "outputs": [
    {
     "data": {
      "text/plain": [
       "'used: 384.46s'"
      ]
     },
     "execution_count": 70,
     "metadata": {},
     "output_type": "execute_result"
    }
   ],
   "source": [
    "start = time()\n",
    "# Creating the object for LDA model using gensim library\n",
    "Lda = gensim.models.ldamodel.LdaModel\n",
    "\n",
    "# Running and Trainign LDA model on the document term matrix.\n",
    "ldamodel = Lda(doc_term_matrix, num_topics=10, id2word = dictionary, \n",
    "#                passes=5\n",
    "              )\n",
    "'used: {:.2f}s'.format(time()-start)"
   ]
  },
  {
   "cell_type": "code",
   "execution_count": 71,
   "metadata": {},
   "outputs": [
    {
     "data": {
      "text/plain": [
       "[(0,\n",
       "  u'0.141*\"basement\" + 0.016*\"dweller\" + 0.014*\"mommy\" + 0.013*\"maga\" + 0.012*\"fought_lift_flag_thst\" + 0.012*\"dweller_cound_burn_trump\" + 0.011*\"thats\" + 0.009*\"check\" + 0.008*\"as\" + 0.007*\"2\"'),\n",
       " (1,\n",
       "  u'0.115*\"basement\" + 0.053*\"gonna\" + 0.032*\"lord_watchingbecause_that\\u2019s_exactly\" + 0.030*\"blessing\" + 0.025*\"god_sent_reason_deny\" + 0.015*\"i\\u2019m\" + 0.012*\"huge\" + 0.011*\"friend\" + 0.008*\"don\\u2019t\" + 0.008*\"survivalist_spends_45_filling\"'),\n",
       " (2,\n",
       "  u'0.127*\"basement\" + 0.038*\"ima_steal_money_church\" + 0.014*\"love\" + 0.013*\"day\" + 0.012*\"party\" + 0.011*\"shit\" + 0.010*\"fuck\" + 0.010*\"lord_watchingbecause_that\\u2019s_exactly\" + 0.008*\"story\" + 0.008*\"cant\"'),\n",
       " (3,\n",
       "  u'0.152*\"basement\" + 0.016*\"amp\" + 0.015*\"parent\" + 0.014*\"life\" + 0.014*\"house\" + 0.014*\"live\" + 0.013*\"wrong_people\" + 0.012*\"29_don\\u2026\" + 0.012*\"people_unattractive_mom\" + 0.012*\"\\U0001f644_easy_call\"'),\n",
       " (4,\n",
       "  u'0.382*\"basement\" + 0.042*\"fuck_girl_boyfriend_easily\" + 0.042*\"wtf_create\" + 0.042*\"ricans\" + 0.040*\"food_\\u2014_decided_puerto\" + 0.037*\"survivalist_filled_massive\" + 0.011*\"hope_bury_prince_costume\" + 0.011*\"pls_they\\u2019re_beautiful\" + 0.009*\"survivalist_spent_45_filling\" + 0.008*\"he\\u2019s_27\"'),\n",
       " (5,\n",
       "  u'0.031*\"house_music\" + 0.023*\"2011\" + 0.019*\"housemusic\" + 0.015*\"logic_talking_updating_fan\" + 0.010*\"someone\" + 0.009*\"clean\" + 0.008*\"friend_guy_called\" + 0.008*\"erased_germany_practiced_genocidal\" + 0.008*\"violence_home\\u2026\" + 0.008*\"policy_southern_africa_bringing\"'),\n",
       " (6,\n",
       "  u'0.169*\"basement\" + 0.023*\"mom\" + 0.020*\"living\" + 0.011*\"liberal_wacko_wonder_son\" + 0.011*\"cant_job_winner_losersa\\u2026\" + 0.009*\"locked\" + 0.009*\"kid\" + 0.009*\"time\" + 0.008*\"tonight\" + 0.008*\"amp\"'),\n",
       " (7,\n",
       "  u'0.073*\"period\" + 0.019*\"t\\u2026\" + 0.017*\"lol\" + 0.013*\"anytime_mother_night_forget\" + 0.013*\"tiki_boy_coming_charlottesville\" + 0.011*\"travis_scott\" + 0.010*\"call\" + 0.009*\"bargain\" + 0.008*\"listen\" + 0.008*\"help\"'),\n",
       " (8,\n",
       "  u'0.237*\"embracing_blessing_god\" + 0.011*\"feel\" + 0.009*\"update\" + 0.009*\"left\" + 0.009*\"america_trump_supporter_\\U0001f1fa\\U0001f1f8\" + 0.009*\"church_boycott_nfl_right\\u2026\" + 0.008*\"2017\" + 0.008*\"food\" + 0.007*\"jaxx\" + 0.007*\"cool\"'),\n",
       " (9,\n",
       "  u'0.033*\"pup_spent_life\" + 0.032*\"wild_cat_spent_someone\\u2019s\" + 0.032*\"\\u2014_can\\u2019t_believe_they\\u2019re\" + 0.030*\"actually_feeling_grass_a\\u2026\" + 0.030*\"\\u2014_ton_friend\" + 0.021*\"spread_love\" + 0.021*\"hello_creative_project_called\" + 0.011*\"vol_1_10_song\" + 0.009*\"vol_1_20_song\" + 0.009*\"dope_interview_soon\"')]"
      ]
     },
     "execution_count": 71,
     "metadata": {},
     "output_type": "execute_result"
    }
   ],
   "source": [
    "ldamodel.print_topics()"
   ]
  },
  {
   "cell_type": "code",
   "execution_count": 72,
   "metadata": {
    "collapsed": true
   },
   "outputs": [],
   "source": [
    "ldamodel.save('twitter_10_8.model')"
   ]
  },
  {
   "cell_type": "markdown",
   "metadata": {},
   "source": [
    "### load saved model , plotting"
   ]
  },
  {
   "cell_type": "code",
   "execution_count": 73,
   "metadata": {
    "collapsed": true
   },
   "outputs": [],
   "source": [
    "from gensim.models import LdaModel\n",
    "loading = LdaModel.load('twitter_10_8.model')"
   ]
  },
  {
   "cell_type": "code",
   "execution_count": 74,
   "metadata": {
    "collapsed": true
   },
   "outputs": [],
   "source": [
    "import pyLDAvis.gensim\n",
    "import gensim\n",
    "from time import time\n",
    "pyLDAvis.enable_notebook()"
   ]
  },
  {
   "cell_type": "code",
   "execution_count": 75,
   "metadata": {
    "collapsed": true
   },
   "outputs": [],
   "source": [
    "d = gensim.corpora.Dictionary.load('twitter_10_8.dict')\n",
    "c = gensim.corpora.MmCorpus('twitter_10_8.mm')\n",
    "lda = gensim.models.LdaModel.load('twitter_10_8.model')"
   ]
  },
  {
   "cell_type": "code",
   "execution_count": 76,
   "metadata": {},
   "outputs": [
    {
     "data": {
      "text/plain": [
       "'used: 193.55s'"
      ]
     },
     "execution_count": 76,
     "metadata": {},
     "output_type": "execute_result"
    }
   ],
   "source": [
    "start = time()\n",
    "\n",
    "data = pyLDAvis.gensim.prepare(lda, c, d)\n",
    "\n",
    "('used: {:.2f}s'.format(time()-start))"
   ]
  },
  {
   "cell_type": "code",
   "execution_count": 77,
   "metadata": {
    "collapsed": true
   },
   "outputs": [],
   "source": [
    "pyLDAvis.save_html(data,'twitter_10_8.html')\n"
   ]
  },
  {
   "cell_type": "code",
   "execution_count": 78,
   "metadata": {},
   "outputs": [
    {
     "data": {
      "text/html": [
       "\n",
       "<link rel=\"stylesheet\" type=\"text/css\" href=\"https://cdn.rawgit.com/bmabey/pyLDAvis/files/ldavis.v1.0.0.css\">\n",
       "\n",
       "\n",
       "<div id=\"ldavis_el101081407060968105761142312299\"></div>\n",
       "<script type=\"text/javascript\">\n",
       "\n",
       "var ldavis_el101081407060968105761142312299_data = {\"plot.opts\": {\"xlab\": \"PC1\", \"ylab\": \"PC2\"}, \"topic.order\": [4, 5, 7, 1, 9, 6, 3, 8, 2, 10], \"token.table\": {\"Topic\": [4, 1, 2, 3, 4, 4, 6, 5, 1, 2, 5, 6, 10, 1, 4, 10, 3, 5, 2, 3, 2, 10, 5, 6, 5, 6, 7, 10, 9, 1, 3, 4, 7, 10, 1, 2, 3, 4, 5, 6, 7, 8, 9, 10, 5, 8, 4, 10, 6, 9, 8, 1, 8, 1, 2, 3, 4, 6, 7, 8, 9, 1, 9, 7, 4, 4, 1, 9, 9, 8, 6, 6, 3, 10, 2, 10, 4, 5, 6, 6, 4, 8, 7, 3, 6, 4, 2, 4, 3, 5, 6, 10, 6, 5, 1, 10, 2, 6, 2, 5, 5, 6, 10, 8, 8, 3, 2, 3, 6, 8, 9, 10, 9, 4, 7, 1, 2, 5, 6, 3, 10, 5, 6, 10, 9, 1, 2, 6, 10, 5, 6, 10, 3, 4, 4, 5, 6, 10, 5, 6, 10, 7, 1, 8, 5, 6, 1, 4, 6, 3, 3, 5, 2, 1, 2, 3, 5, 6, 7, 10, 2, 3, 5, 6, 7, 9, 4, 1, 3, 4, 2, 8, 9, 1, 2, 3, 4, 5, 6, 7, 8, 9, 10, 7, 2, 1, 7, 1, 3, 4, 5, 7, 1, 2, 6, 8, 3, 2, 5, 6, 10, 9, 9, 10, 6, 7, 1, 3, 6, 10, 2, 6, 4, 3, 9, 9, 10, 4, 10, 8, 1, 2, 9, 9, 3, 1, 4, 9, 2, 6, 1, 4, 2, 6, 6, 9, 1, 2, 6, 7, 10, 6, 3, 7, 2, 7, 1, 4, 9, 5, 1, 3, 10, 1, 5, 6, 10, 1, 5, 6, 3, 1, 4, 9, 6, 2, 8, 8, 3, 1, 7, 5, 8, 1, 3, 10, 3, 2, 6, 8, 1, 3, 7, 9, 4, 10, 7, 4, 9, 2, 1, 3, 2, 1, 2, 6, 5, 1, 3, 5, 4, 9, 7, 8, 1, 3, 9, 1, 9, 10, 6, 1, 2, 5, 6, 5, 3, 7, 1, 7, 5, 4, 2, 2, 6, 6, 9, 1, 3, 4, 7, 7, 1, 7, 1, 2, 5, 6, 10, 8, 8, 10, 3, 4, 5, 1, 2, 3, 3, 2, 5, 6, 2, 6, 10, 8, 3, 1, 2, 5, 6, 8, 1, 3, 2, 10, 5, 7, 8, 7, 4, 2, 5, 6, 1, 2, 5, 6, 7, 10, 9, 9, 5, 7, 6, 5, 9, 1, 5, 6, 10, 5, 1, 2, 3, 6, 7, 8, 10, 4, 7, 5, 6, 10, 5, 2, 10, 2, 5, 5, 1, 3, 7, 2, 8, 6, 6, 2, 6, 5, 1, 7, 10, 9, 4, 10, 1, 7, 7, 10, 1, 5, 6, 10, 4, 1, 8, 1, 2, 3, 5, 6, 7, 10, 2, 3, 5, 6, 7, 9, 1, 2, 3, 5, 7, 10, 7, 7, 9, 9, 2, 7, 1, 4, 3, 3, 4, 5, 8, 6, 10, 8, 1, 3, 4, 7, 8, 3, 10, 6, 8, 4, 6, 7, 3, 10, 8, 5, 10, 8, 2, 5, 9, 3, 1, 5, 5, 6, 10, 6, 10, 2, 10, 2, 10, 9, 2, 7, 4, 7, 8, 4, 2, 10, 2, 5, 6, 1, 8, 8, 7, 1, 2, 4, 1, 3, 4, 7, 9, 10, 10, 2, 3, 7, 10, 2, 3, 3, 5, 1, 2, 5, 6, 10], \"Freq\": [0.9986903032498274, 0.9991430255951346, 0.9984959759293989, 0.3384830908680585, 0.6611361609802519, 0.9991074864416619, 0.9997230014986969, 0.999700997714359, 0.9408854804896667, 0.03810145352719199, 0.0015744402283963633, 0.018263506649397816, 0.0012595521827170907, 0.9995434778898893, 0.9990916157419782, 0.9978548454367102, 0.9990632815905813, 0.9984667932219311, 0.9972239956774206, 0.9994786256643005, 0.05419888263944093, 0.9455916732576573, 0.9987402710045528, 0.9986044040032508, 0.9940404274402644, 0.0053538981729278155, 0.0005948775747697572, 0.0005948775747697572, 0.9980510464862361, 0.7053917698462717, 0.29081468688085405, 0.003233270144444332, 0.0003592522382715924, 0.9984380280908829, 0.009509111912915761, 0.07237490733719218, 0.02113135980647947, 0.010565679903239734, 0.030640471719395226, 0.6629964139282932, 0.00158485198548596, 0.06075265944362847, 0.02113135980647947, 0.10988307099369322, 0.9995749618846703, 0.9996928985455406, 0.9995577180367442, 0.9953958531872683, 0.999594179530423, 0.998954811667785, 0.9990950579733494, 0.9989374745492036, 0.9995868406939822, 0.1653322542173815, 0.3878915452975615, 0.15840702299012693, 0.11942749009876404, 0.0006418719989952219, 0.09251689737898477, 0.002366630091533403, 0.07341356407555555, 0.9995688518267537, 0.9988757444981295, 0.9986988354095023, 0.9984389085157558, 0.9991508871031619, 0.9983927160462509, 0.9997492577254042, 0.9983326155648137, 0.9987356408457142, 0.9993945348873867, 0.9994237279295846, 0.9990730521370718, 0.996960904220873, 0.9980486628043366, 0.9992830714675819, 0.9990448394493096, 0.998344224807577, 0.0008929733674486378, 0.997665699233235, 0.9985209159516837, 0.9993242407261597, 0.9991566669508022, 0.9996295986113315, 0.9995108031640859, 0.998943766705091, 0.9996691593350323, 0.9992839272800466, 0.9991248187912148, 0.9940318675673712, 0.005366698745114782, 0.0005962998605683091, 0.9996996999035074, 0.9988715852638814, 0.9995311204571904, 0.9971883999112136, 0.041087994926351484, 0.9580973362371961, 0.9984327499869384, 0.9992263703990718, 0.4505651300424865, 0.06107660651687039, 0.4876115962904243, 0.9995723444804359, 0.9990592421611217, 0.9993760671557823, 0.08372030149231047, 0.0015648654484544014, 0.7534827134307942, 0.013301356311862411, 0.006259461793817605, 0.1400554576366689, 0.9986463174677681, 0.344353496291975, 0.6554027310812589, 0.9120561271362972, 0.051258968385567094, 0.0029459177233084536, 0.03417264559037806, 0.9992971856596328, 0.9986334311792973, 0.9991382960490713, 0.999347841713493, 0.9991296890263486, 0.9990976303978626, 0.999405311139772, 0.11984495090300584, 0.30717540813974314, 0.5724632606240667, 0.024411147695286285, 0.26258477791145785, 0.712541608402951, 0.9995071343685944, 0.9997232911943734, 0.9994837196175773, 0.9832083512733117, 0.012121171098462911, 0.0046449743260533055, 0.9994052888610938, 0.883165721640179, 0.1163963758230169, 0.9979492194040094, 0.9993973285930781, 0.9991629525395538, 0.9996379509844434, 0.9989354163353076, 0.9986016695585046, 0.9995546490735917, 0.9993074180734881, 0.9991196865683755, 0.9997129221619762, 0.9997820153351255, 0.9983076283277557, 0.0005234855759630553, 0.9663543732278003, 0.0004187884607704443, 0.02345215380314488, 0.008061677869831052, 0.0007328798063482775, 0.0004187884607704443, 0.2548832936072495, 0.0007585812309739568, 0.0045514873858437405, 0.005310068616817698, 0.0007585812309739568, 0.7335480503518162, 0.9997317570064876, 0.6613702268875711, 0.33825361075852006, 0.9992988307983285, 0.7216917497821858, 0.27796608030479947, 0.9993903565954473, 0.008245620041367691, 0.07372554389928758, 0.016491240082735382, 0.010185765933454206, 0.01261094829856235, 0.6955423023130157, 0.0014551094190648865, 0.0504437931942494, 0.01212591182554072, 0.12028904530936395, 0.9992991083438079, 0.9998527051811501, 0.9990006639923644, 0.9992930042046335, 0.9994127110416015, 0.0009008800981419991, 0.002702640294425997, 0.996373388545051, 0.9988946081119994, 0.9995841974781557, 0.041087994926351484, 0.9580973362371961, 0.9996157566063756, 0.9988353220876878, 0.9989212393611309, 0.04076782170646985, 0.10094889184459202, 0.8580655806790322, 0.9996413639191642, 0.9998877435489766, 0.9983912312359281, 0.999726609118062, 0.9992322513837015, 0.43139772220964256, 0.5681561702462263, 0.9984131862654496, 0.9989333636714431, 0.9977094309129874, 0.9996113170652096, 0.999215347693396, 0.9992031199568, 0.9994154004008344, 0.9989844208658532, 0.9957653717393321, 0.9992593477620644, 0.999553498091802, 0.9995883737708884, 0.9989686745950154, 0.9997977863084034, 0.9995017984486742, 0.9993629953354517, 0.9984817584935902, 0.9991648468974211, 0.0008503530611892945, 0.9996032512227683, 0.9995916097462949, 0.9977288564783366, 0.968467246617199, 0.03141125111014451, 0.9993149456890897, 0.9998284088185362, 0.9996529080847413, 0.9994641796910751, 0.003408052591574913, 0.11700980564407203, 0.29990862805859236, 0.004544070122099884, 0.5736888529151104, 0.9996458819487241, 0.9987015288628899, 0.9998002226274089, 0.9979652126244877, 0.9993488807356868, 0.9989004616439465, 0.999102392471734, 0.9996621016163572, 0.9993882509621491, 0.9986655767993693, 0.9997024475682554, 0.9984380280908829, 0.01570190484453915, 0.024861349337186985, 0.039254762111347874, 0.9198699254759185, 0.9994137520678416, 0.9995003407690215, 0.9987088171968892, 0.9997888246764203, 0.9990637876780891, 0.0008526860207778854, 0.9993798020389846, 0.9983192069693673, 0.9984135520411849, 0.9992675143935794, 0.9990191587060339, 0.9990780507012765, 0.9997816980738455, 0.9984848710034588, 0.9992703727556398, 0.9976779680850407, 0.14691111502731857, 0.8530191713481098, 0.9966461685585762, 0.9996178951499399, 0.07980947819446745, 0.9200942926648515, 0.9997120202121368, 0.6488678465755819, 0.3507393765273416, 0.256201497249147, 0.7436673342346597, 0.9994822795813979, 0.9994314108450495, 0.9997541119033699, 0.9995806609930963, 0.9992948465573335, 0.9996320652660465, 0.999343657525758, 0.9993713904809661, 0.9997977863084034, 0.9995365162677688, 0.041087994926351484, 0.9580973362371961, 0.9987910827304513, 0.3630613859453076, 0.6368023151457494, 0.9995950474867631, 0.9996562642802383, 0.998486265256576, 0.9989629229743789, 0.9983219328404206, 0.9994811642818957, 0.9990412022390628, 0.0008590208101797617, 0.9975851932247997, 0.0011847805145187645, 0.9994363103297759, 0.9990158752641719, 0.9120561271362972, 0.051258968385567094, 0.0029459177233084536, 0.03417264559037806, 0.9989721662216915, 0.9994977430486068, 0.9983475221872199, 0.6115383065921007, 0.3881884106659734, 0.9993390791988145, 0.9995107748829436, 0.9984327499869384, 0.9978173955465279, 0.9990677360288784, 0.9990130857023131, 0.9991630269178201, 0.7843968548703942, 0.1769837457830783, 0.00040779664926976565, 0.03833288503135797, 0.9995326314986305, 0.9995016509774254, 0.00035556800105920503, 0.9408854804896667, 0.03810145352719199, 0.0015744402283963633, 0.018263506649397816, 0.0012595521827170907, 0.999951714870806, 0.9991595170728571, 0.9953919069708543, 0.0009008800981419991, 0.002702640294425997, 0.996373388545051, 0.9992289721031345, 0.9991038025021372, 0.999517611849678, 0.9990001955588544, 0.9280757530980075, 0.062466637227750504, 0.008923805318250072, 0.9995916097462949, 0.883165721640179, 0.1163963758230169, 0.9994454592180031, 0.998855565556816, 0.9120561271362972, 0.051258968385567094, 0.0029459177233084536, 0.03417264559037806, 0.9978816675295916, 0.3434197322936832, 0.6560197450225487, 0.0393180740036884, 0.9605945138940343, 0.9989474797023604, 0.9993593601630458, 0.9988712265119354, 0.9995491798032862, 0.9989295972898384, 0.9280757530980075, 0.062466637227750504, 0.008923805318250072, 0.9989155869034412, 0.9685039224447729, 0.022572124004590972, 0.007690502426342942, 0.0006991365842129948, 0.0003995066195502827, 0.9987785594111663, 0.9995619275143398, 0.9984467409750614, 0.9987881302089071, 0.998213957488261, 0.9982014273821895, 0.99924925306475, 0.01570190484453915, 0.024861349337186985, 0.039254762111347874, 0.9198699254759185, 0.9995000102172809, 0.025739498530420197, 0.11046534785972001, 0.0042899164217367, 0.28313448383462214, 0.0042899164217367, 0.021449582108683498, 0.5501817810877317, 0.0005694945645246007, 0.9988934661761496, 0.4505651300424865, 0.06107660651687039, 0.4876115962904243, 0.9981125436547363, 0.9993937277110801, 0.9983031961047627, 0.9984135520411849, 0.9996241995363685, 0.9991822221517337, 0.9990836656067577, 0.998855565555708, 0.998558851392973, 0.9972239956774206, 0.9989453787109711, 0.9998421584710179, 0.9994337839173841, 0.9993937277110801, 0.9993609539204159, 0.999470502283653, 0.9993417824580075, 0.9989158587413757, 0.999553498091802, 0.9994535590041638, 0.9988317190976126, 0.999252630139122, 0.9989862962644399, 0.9992585427404617, 0.9995499940904583, 0.9984380280908829, 0.01570190484453915, 0.024861349337186985, 0.039254762111347874, 0.9198699254759185, 0.9989928159694375, 0.9989194099392552, 0.9982057273097946, 0.0005580115111197478, 0.9567665369659197, 0.0005580115111197478, 0.03169505383160168, 0.008704979573468066, 0.0012276253244634452, 0.0004464092088957983, 0.1684255619521478, 0.0007197673587698625, 0.0043186041526191744, 0.010076743022778075, 0.0007197673587698625, 0.8147766501274843, 0.0018743460516119068, 0.9788772254543184, 0.0018743460516119068, 0.01593194143870121, 0.0009371730258059534, 0.9985217668071377, 0.9992910290594579, 0.9986987897836684, 0.997648629387247, 0.9996438464766267, 0.9993986729368487, 0.9988574633947743, 0.00045550391189698686, 0.9993755827019891, 0.9992549504003293, 0.0009008800981419991, 0.002702640294425997, 0.996373388545051, 0.9994299670167672, 0.9992911487540811, 0.9989958812861819, 0.9996928985455406, 0.3030367457052913, 0.467942786514364, 0.22621405294598132, 0.0002502367842322802, 0.002252131058090522, 0.9998232168870876, 0.9983001388033264, 0.999024244545982, 0.9994143659804732, 0.9996883328185483, 0.9996105710082299, 0.9994516131132694, 0.9984691930860301, 0.9984380280908829, 0.9992700847833694, 0.9996581251146311, 0.9992294669954321, 0.9997977800779528, 0.9978173955465279, 0.9998502786554719, 0.9985371428541165, 0.9995980068741113, 0.9993271151977207, 0.9987277574797451, 0.4505651300424865, 0.06107660651687039, 0.4876115962904243, 0.883165721640179, 0.1163963758230169, 0.0007870380587160891, 0.998751296510717, 0.021636368821710678, 0.9772426584472655, 0.9981317600172201, 0.9989212393611309, 0.9991845788620094, 0.9987807558326509, 0.9985516816583838, 0.9989003139995468, 0.9995185531620556, 0.9985267381890154, 0.999588881654109, 0.9280757530980075, 0.062466637227750504, 0.008923805318250072, 0.9981817068664454, 0.9990199098022109, 0.9977953605437595, 0.9987064602860173, 0.9997282223240732, 0.9998567622868273, 0.9992107740645876, 0.3383824727665774, 0.6561632729141851, 0.005150418154742426, 0.9989158587413757, 0.998584898603614, 0.998311847724874, 0.999588881654109, 0.1014717213447824, 0.0005217055081993953, 0.0013042637704984883, 0.8962900630865612, 0.9993986729368487, 0.9989708735165772, 0.9990492489466953, 0.9983916782248397, 0.9408854804896667, 0.03810145352719199, 0.0015744402283963633, 0.018263506649397816, 0.0012595521827170907], \"Term\": [\"10\", \"1000_african_skull_racist\", \"12\", \"2\", \"2\", \"20\", \"2011\", \"2017\", \"29_don\\u2026\", \"29_don\\u2026\", \"29_don\\u2026\", \"29_don\\u2026\", \"29_don\\u2026\", \"3\", \"4\", \"50\", \"70_\\ud83d\\ude02\\ud83d\\ude02\", \"8\", \"actual_schedule\", \"actually\", \"actually_feeling_grass_a\\u2026\", \"actually_feeling_grass_a\\u2026\", \"added_video_playlist\", \"amazing\", \"america_trump_supporter_\\ud83c\\uddfa\\ud83c\\uddf8\", \"america_trump_supporter_\\ud83c\\uddfa\\ud83c\\uddf8\", \"america_trump_supporter_\\ud83c\\uddfa\\ud83c\\uddf8\", \"america_trump_supporter_\\ud83c\\uddfa\\ud83c\\uddf8\", \"american\", \"amp\", \"amp\", \"amp\", \"amp\", \"amp_tyler\\u2026\", \"angry_i_build_bomb\", \"angry_i_build_bomb\", \"angry_i_build_bomb\", \"angry_i_build_bomb\", \"angry_i_build_bomb\", \"angry_i_build_bomb\", \"angry_i_build_bomb\", \"angry_i_build_bomb\", \"angry_i_build_bomb\", \"angry_i_build_bomb\", \"antifa\", \"anytime_mother_night_forget\", \"as\", \"attention\", \"awesome\", \"a\\u2026\", \"bad\", \"bar\", \"bargain\", \"basement\", \"basement\", \"basement\", \"basement\", \"basement\", \"basement\", \"basement\", \"basement\", \"basement\\u2026\", \"bathroom\", \"bc\", \"bedroom\", \"bitch\", \"black\", \"blessing\", \"body\", \"book\", \"bought\", \"box\", \"boy\", \"brooklyn\", \"bruhhhhh_skate_party\", \"build\", \"building\", \"buildi\\u2026\", \"buildi\\u2026\", \"busy\", \"b\\u2026\", \"call\", \"cant\", \"cant_job_winner_losersa\\u2026\", \"car\", \"cat\", \"cause\", \"check\", \"child\", \"church_boycott_nfl_right\\u2026\", \"church_boycott_nfl_right\\u2026\", \"church_boycott_nfl_right\\u2026\", \"clean\", \"come\", \"coming\", \"company\", \"company_power_up\\u2026\", \"company_power_up\\u2026\", \"cook_make_pie\", \"cool\", \"crazed_lunatic_left_condoning\", \"crazed_lunatic_left_condoning\", \"crazed_lunatic_left_condoning\", \"crazy\", \"da\", \"dad\", \"damage_inc\", \"damage_inc\", \"damage_inc\", \"damage_inc\", \"damage_inc\", \"damage_inc\", \"dark\", \"day\", \"day\", \"day_whereas_superman_job\", \"day_whereas_superman_job\", \"day_whereas_superman_job\", \"day_whereas_superman_job\", \"dead\", \"deep\", \"deg\", \"directly\", \"dog\", \"don\\u2019t\", \"door\", \"door_vents\\u2026\", \"door_vents\\u2026\", \"door_vents\\u2026\", \"dope_interview_soon\", \"dope_interview_soon\", \"dope_interview_soon\", \"dude\", \"dweller\", \"dweller_cound_burn_trump\", \"embracing_blessing_god\", \"embracing_blessing_god\", \"embracing_blessing_god\", \"episode\", \"erased_germany_practiced_genocidal\", \"erased_germany_practiced_genocidal\", \"ever\\u2026\", \"family\", \"fan\", \"feel\", \"fine\", \"finished\", \"fire\", \"flood\", \"flooded\", \"floor\", \"food\", \"food_decided_puerto_ricans\", \"food_\\u2014_decided_puerto\", \"food_\\u2014_decided_puerto\", \"food_\\u2014_decided_puerto\", \"food_\\u2014_decided_puerto\", \"food_\\u2014_decided_puerto\", \"food_\\u2014_decided_puerto\", \"food_\\u2014_decided_puerto\", \"food_\\u2014_decides_puerto\", \"food_\\u2014_decides_puerto\", \"food_\\u2014_decides_puerto\", \"food_\\u2014_decides_puerto\", \"food_\\u2014_decides_puerto\", \"food_\\u2014_decides_puerto\", \"fought_lift_flag_thst\", \"found\", \"found\", \"free\", \"freestyle_live_rodeo_tour\", \"freestyle_live_rodeo_tour\", \"friend\", \"friend_guy_called\", \"friend_guy_called\", \"friend_guy_called\", \"friend_guy_called\", \"friend_guy_called\", \"friend_guy_called\", \"friend_guy_called\", \"friend_guy_called\", \"friend_guy_called\", \"friend_guy_called\", \"fuck\", \"fuck_girl_boyfriend_easily\", \"fucking\", \"fun\", \"game\", \"gamers_future_olympics_la\", \"gamers_future_olympics_la\", \"gamers_future_olympics_la\", \"getting\", \"girl\", \"glass_bead_surpassed_1\", \"glass_bead_surpassed_1\", \"go\", \"god\", \"god_didnt_lead\", \"god_send_reason\", \"god_send_reason\", \"god_send_reason\", \"god_sent_reason_deny\", \"gonna\", \"ground\", \"guess\", \"gun\", \"guy\", \"guy\", \"hair\", \"hall\", \"hang_formans\", \"happens\", \"hate\", \"he\", \"head\", \"heard\", \"heat\", \"hell\", \"hello_creative_project_called\", \"help\", \"hey\", \"he\\u2019s_27\", \"hide\", \"hide_computer\", \"hiding\", \"home\", \"home\", \"hope\", \"hope_bury_prince_costume\", \"hotel\", \"house\", \"house\", \"house_block_fat_as\", \"house_music\", \"housemusic\", \"huge\", \"hurricaneprep_tip_generator_garage\", \"hurricaneprep_tip_generator_garage\", \"hurricaneprep_tip_generator_garage\", \"hurricaneprep_tip_generator_garage\", \"hurricaneprep_tip_generator_garage\", \"h\\u2026\", \"ill\", \"ima_steal_money_church\", \"instead\", \"in\\u2026\", \"it\\u2019s\", \"ive\", \"i\\u2019m\", \"jaxx\", \"job\", \"kid\", \"knocked_loose_turnstile_movement\", \"lamelo_ball_schedule610am_hoop103pm\", \"lamelo_ball_schedule610am_hoop103pm\", \"lamelo_ball_schedule610am_hoop103pm\", \"lamelo_ball_schedule610am_hoop103pm\", \"leave\", \"left\", \"liberal\", \"liberal_wacko_wonder_son\", \"life\", \"life\", \"light\", \"lil\", \"lil_bro_body\", \"listen\", \"literally\", \"little\", \"live\", \"live_mom\", \"live_parent\", \"lived\", \"living\", \"living\", \"living_mommy\", \"locked\", \"logic_talking_updating_fan\", \"logic_talking_updating_fan\", \"lol\", \"look\", \"look\", \"lord_watchingbecause_that\\u2019s_exactly\", \"lord_watchingbecause_that\\u2019s_exactly\", \"loser\", \"lost\", \"love\", \"maga\", \"make\", \"mama\", \"massive\", \"maybe\", \"mcm_tweeted_mom\", \"mean\", \"million_downloads_debut_yr\", \"million_downloads_debut_yr\", \"mind\", \"mom\", \"mom\", \"moment\", \"mommy\", \"mom\\u2019s\", \"money\", \"morning\", \"mother\", \"move\", \"move\", \"music\", \"music\", \"m\\u2026\", \"nerd\", \"nerd_batman_he\", \"nerd_batman_he\", \"nerd_batman_he\", \"nerd_batman_he\", \"news\", \"nice\", \"nigga\", \"night\", \"night\", \"nowplaying\", \"oh\", \"ok_calm_nowdissects\", \"ok_kellyyou_leaving_door\", \"okay\", \"original\", \"outside\", \"parent\", \"parent\", \"parent\", \"parent\", \"party\", \"people\", \"people\", \"people_unattractive_mom\", \"people_unattractive_mom\", \"people_unattractive_mom\", \"people_unattractive_mom\", \"people_unattractive_mom\", \"period\", \"person\", \"pick\", \"planning_ahead_2028_begun\", \"planning_ahead_2028_begun\", \"planning_ahead_2028_begun\", \"play\", \"played\", \"playing\", \"please\", \"pledge_listen_goodbye_kiss\", \"pledge_listen_goodbye_kiss\", \"pledge_listen_goodbye_kiss\", \"pls_they\\u2019re_beautiful\", \"policy_southern_africa_bringing\", \"policy_southern_africa_bringing\", \"post\", \"post_malone_look\", \"posting_giant_gaming_pc\", \"posting_giant_gaming_pc\", \"posting_giant_gaming_pc\", \"posting_giant_gaming_pc\", \"ppl\", \"probably\", \"probably\", \"pup_spent_life\", \"pup_spent_life\", \"read\", \"real\", \"reason\", \"remember\", \"rent\", \"repeat_dark\", \"repeat_dark\", \"repeat_dark\", \"research_germany_discovered_museum\", \"ricans\", \"ricans\", \"ricans\", \"ricans\", \"ricans\", \"run\", \"sad\", \"saying\", \"scared\", \"seeing\", \"session\", \"set\", \"sew_bbb_merch_basement36pm\", \"sew_bbb_merch_basement36pm\", \"sew_bbb_merch_basement36pm\", \"sew_bbb_merch_basement36pm\", \"sex\", \"shed_indoors_outside_window\", \"shed_indoors_outside_window\", \"shed_indoors_outside_window\", \"shed_indoors_outside_window\", \"shed_indoors_outside_window\", \"shed_indoors_outside_window\", \"shed_indoors_outside_window\", \"shit\", \"shit\", \"shooting_look_loser_live\\u2026\", \"shooting_look_loser_live\\u2026\", \"shooting_look_loser_live\\u2026\", \"shop\", \"showwe_liked_echoesheres_snippet\", \"sign\", \"sing_bet_award\", \"single\", \"sister\", \"sitting\", \"sitting_smoke_circle\", \"sleep\", \"snsd_fx_waiting_sm\", \"society\", \"someone\", \"son\", \"song_dahilan_\\ud83d\\udc95\", \"soon\", \"soul\", \"sound\", \"special_tie\", \"spread_love\", \"stair\", \"start\", \"starting\", \"stay\", \"stop\", \"story\", \"story_neck_deep\", \"street_smart_professor_lavar610pm\", \"street_smart_professor_lavar610pm\", \"street_smart_professor_lavar610pm\", \"street_smart_professor_lavar610pm\", \"stuck\", \"stuff\", \"stupid\", \"survivalist_filled_massive\", \"survivalist_filled_massive\", \"survivalist_filled_massive\", \"survivalist_filled_massive\", \"survivalist_filled_massive\", \"survivalist_filled_massive\", \"survivalist_filled_massive\", \"survivalist_spends_45_filling\", \"survivalist_spends_45_filling\", \"survivalist_spends_45_filling\", \"survivalist_spends_45_filling\", \"survivalist_spends_45_filling\", \"survivalist_spends_45_filling\", \"survivalist_spent_45_filling\", \"survivalist_spent_45_filling\", \"survivalist_spent_45_filling\", \"survivalist_spent_45_filling\", \"survivalist_spent_45_filling\", \"sweet\", \"taking\", \"talking\", \"team\", \"tell\", \"tell_nigga_wouldn\\u2019t_time\\u201d\", \"thanks\", \"thats\", \"thats\", \"there\", \"there\\u2019s_talk_including_video\", \"there\\u2019s_talk_including_video\", \"there\\u2019s_talk_including_video\", \"the\\u2026\", \"thinking\", \"tied\", \"tiki_boy_coming_charlottesville\", \"time\", \"time\", \"time\", \"time\", \"time\", \"tonight\", \"tour\", \"trapped\", \"travis_scott\", \"troll\", \"true\", \"trump\", \"trying\", \"turnover_citizen_title_fight\", \"tweet\", \"twitter\", \"type\", \"t\\u2026\", \"unlockedkellyanneconway\", \"update\", \"upstairs\", \"ur\", \"via\", \"video_game\", \"violence_amp_appears_mass\", \"violence_amp_appears_mass\", \"violence_amp_appears_mass\", \"violence_home\\u2026\", \"violence_home\\u2026\", \"vol_1_10_song\", \"vol_1_10_song\", \"vol_1_20_song\", \"vol_1_20_song\", \"wait\", \"walk_nothin\", \"wall\", \"watch\", \"watching\", \"waterproofing\", \"week\", \"white_house\", \"wild_cat_spent_someone\\u2019s\", \"wo_cry\", \"wo_cry\", \"wo_cry\", \"woman\", \"wonder\", \"word\", \"wow\", \"wrong_people\", \"wtf_create\", \"yes\", \"youre\", \"youre\", \"youre\", \"youre_lucky_make_feel\", \"\\u2013\", \"\\u2014\", \"\\u2014_can\\u2019t_believe_they\\u2019re\", \"\\u2014_ton_friend\", \"\\u2014_ton_friend\", \"\\u2014_ton_friend\", \"\\u2014_ton_friend\", \"\\u201cbabe_weed_amp_gun\", \"\\u2026\", \"\\ud83d\\ude02\", \"\\ud83d\\ude2d\", \"\\ud83d\\ude44_easy_call\", \"\\ud83d\\ude44_easy_call\", \"\\ud83d\\ude44_easy_call\", \"\\ud83d\\ude44_easy_call\", \"\\ud83d\\ude44_easy_call\"]}, \"mdsDat\": {\"y\": [0.016928423935342225, 0.06455250424747054, 0.016824028898577394, -0.005281604461000501, 0.0672772454503106, 0.12073300163884489, -0.006377131462547032, -0.4012861669790616, -0.002212541870292155, 0.1288422406023561], \"cluster\": [1, 1, 1, 1, 1, 1, 1, 1, 1, 1], \"Freq\": [13.567952324686273, 12.673744760337707, 11.672439127278365, 10.574852919111583, 10.225155460168681, 9.213789251412026, 9.065799844569677, 8.827993766459267, 7.953969070674482, 6.2243034753019275], \"topics\": [1, 2, 3, 4, 5, 6, 7, 8, 9, 10], \"x\": [-0.1767831881963578, -0.17844123762552497, -0.17831125721822658, -0.1361053357073739, 0.24250316383361212, 0.24355764038593078, -0.12372903352399316, 0.1574209279980315, -0.10790919684234809, 0.25779751689625063]}, \"R\": 30, \"lambda.step\": 0.01, \"tinfo\": {\"Category\": [\"Default\", \"Default\", \"Default\", \"Default\", \"Default\", \"Default\", \"Default\", \"Default\", \"Default\", \"Default\", \"Default\", \"Default\", \"Default\", \"Default\", \"Default\", \"Default\", \"Default\", \"Default\", \"Default\", \"Default\", \"Default\", \"Default\", \"Default\", \"Default\", \"Default\", \"Default\", \"Default\", \"Default\", \"Default\", \"Default\", \"Topic1\", \"Topic1\", \"Topic1\", \"Topic1\", \"Topic1\", \"Topic1\", \"Topic1\", \"Topic1\", \"Topic1\", \"Topic1\", \"Topic1\", \"Topic1\", \"Topic1\", \"Topic1\", \"Topic1\", \"Topic1\", \"Topic1\", \"Topic1\", \"Topic1\", \"Topic1\", \"Topic1\", \"Topic1\", \"Topic1\", \"Topic1\", \"Topic1\", \"Topic1\", \"Topic1\", \"Topic1\", \"Topic1\", \"Topic1\", \"Topic1\", \"Topic1\", \"Topic1\", \"Topic1\", \"Topic1\", \"Topic1\", \"Topic1\", \"Topic1\", \"Topic1\", \"Topic1\", \"Topic1\", \"Topic1\", \"Topic1\", \"Topic1\", \"Topic1\", \"Topic1\", \"Topic1\", \"Topic1\", \"Topic2\", \"Topic2\", \"Topic2\", \"Topic2\", \"Topic2\", \"Topic2\", \"Topic2\", \"Topic2\", \"Topic2\", \"Topic2\", \"Topic2\", \"Topic2\", \"Topic2\", \"Topic2\", \"Topic2\", \"Topic2\", \"Topic2\", \"Topic2\", \"Topic2\", \"Topic2\", \"Topic2\", \"Topic2\", \"Topic2\", \"Topic2\", \"Topic2\", \"Topic2\", \"Topic2\", \"Topic2\", \"Topic2\", \"Topic2\", \"Topic2\", \"Topic2\", \"Topic2\", \"Topic2\", \"Topic2\", \"Topic2\", \"Topic2\", \"Topic2\", \"Topic2\", \"Topic3\", \"Topic3\", \"Topic3\", \"Topic3\", \"Topic3\", \"Topic3\", \"Topic3\", \"Topic3\", \"Topic3\", \"Topic3\", \"Topic3\", \"Topic3\", \"Topic3\", \"Topic3\", \"Topic3\", \"Topic3\", \"Topic3\", \"Topic3\", \"Topic3\", \"Topic3\", \"Topic3\", \"Topic3\", \"Topic3\", \"Topic3\", \"Topic3\", \"Topic3\", \"Topic3\", \"Topic3\", \"Topic3\", \"Topic3\", \"Topic3\", \"Topic3\", \"Topic3\", \"Topic3\", \"Topic3\", \"Topic3\", \"Topic3\", \"Topic3\", \"Topic3\", \"Topic3\", \"Topic4\", \"Topic4\", \"Topic4\", \"Topic4\", \"Topic4\", \"Topic4\", \"Topic4\", \"Topic4\", \"Topic4\", \"Topic4\", \"Topic4\", \"Topic4\", \"Topic4\", \"Topic4\", \"Topic4\", \"Topic4\", \"Topic4\", \"Topic4\", \"Topic4\", \"Topic4\", \"Topic4\", \"Topic4\", \"Topic4\", \"Topic4\", \"Topic4\", \"Topic4\", \"Topic4\", \"Topic4\", \"Topic4\", \"Topic4\", \"Topic4\", \"Topic4\", \"Topic4\", \"Topic4\", \"Topic5\", \"Topic5\", \"Topic5\", \"Topic5\", \"Topic5\", \"Topic5\", \"Topic5\", \"Topic5\", \"Topic5\", \"Topic5\", \"Topic5\", \"Topic5\", \"Topic5\", \"Topic5\", \"Topic5\", \"Topic5\", \"Topic5\", \"Topic5\", \"Topic5\", \"Topic5\", \"Topic5\", \"Topic5\", \"Topic5\", \"Topic5\", \"Topic5\", \"Topic5\", \"Topic5\", \"Topic5\", \"Topic5\", \"Topic5\", \"Topic5\", \"Topic5\", \"Topic5\", \"Topic5\", \"Topic5\", \"Topic5\", \"Topic6\", \"Topic6\", \"Topic6\", \"Topic6\", \"Topic6\", \"Topic6\", \"Topic6\", \"Topic6\", \"Topic6\", \"Topic6\", \"Topic6\", \"Topic6\", \"Topic6\", \"Topic6\", \"Topic6\", \"Topic6\", \"Topic6\", \"Topic6\", \"Topic6\", \"Topic6\", \"Topic6\", \"Topic6\", \"Topic6\", \"Topic6\", \"Topic6\", \"Topic6\", \"Topic6\", \"Topic6\", \"Topic6\", \"Topic6\", \"Topic6\", \"Topic6\", \"Topic6\", \"Topic6\", \"Topic6\", \"Topic6\", \"Topic6\", \"Topic6\", \"Topic6\", \"Topic6\", \"Topic7\", \"Topic7\", \"Topic7\", \"Topic7\", \"Topic7\", \"Topic7\", \"Topic7\", \"Topic7\", \"Topic7\", \"Topic7\", \"Topic7\", \"Topic7\", \"Topic7\", \"Topic7\", \"Topic7\", \"Topic7\", \"Topic7\", \"Topic7\", \"Topic7\", \"Topic7\", \"Topic7\", \"Topic7\", \"Topic7\", \"Topic7\", \"Topic7\", \"Topic7\", \"Topic7\", \"Topic7\", \"Topic7\", \"Topic7\", \"Topic7\", \"Topic7\", \"Topic7\", \"Topic7\", \"Topic8\", \"Topic8\", \"Topic8\", \"Topic8\", \"Topic8\", \"Topic8\", \"Topic8\", \"Topic8\", \"Topic8\", \"Topic8\", \"Topic8\", \"Topic8\", \"Topic8\", \"Topic8\", \"Topic8\", \"Topic8\", \"Topic8\", \"Topic8\", \"Topic8\", \"Topic8\", \"Topic8\", \"Topic8\", \"Topic8\", \"Topic8\", \"Topic8\", \"Topic8\", \"Topic8\", \"Topic8\", \"Topic8\", \"Topic8\", \"Topic8\", \"Topic9\", \"Topic9\", \"Topic9\", \"Topic9\", \"Topic9\", \"Topic9\", \"Topic9\", \"Topic9\", \"Topic9\", \"Topic9\", \"Topic9\", \"Topic9\", \"Topic9\", \"Topic9\", \"Topic9\", \"Topic9\", \"Topic9\", \"Topic9\", \"Topic9\", \"Topic9\", \"Topic9\", \"Topic9\", \"Topic9\", \"Topic9\", \"Topic9\", \"Topic9\", \"Topic9\", \"Topic9\", \"Topic9\", \"Topic9\", \"Topic9\", \"Topic9\", \"Topic9\", \"Topic9\", \"Topic10\", \"Topic10\", \"Topic10\", \"Topic10\", \"Topic10\", \"Topic10\", \"Topic10\", \"Topic10\", \"Topic10\", \"Topic10\", \"Topic10\", \"Topic10\", \"Topic10\", \"Topic10\", \"Topic10\", \"Topic10\", \"Topic10\", \"Topic10\", \"Topic10\", \"Topic10\", \"Topic10\", \"Topic10\", \"Topic10\", \"Topic10\", \"Topic10\", \"Topic10\", \"Topic10\", \"Topic10\", \"Topic10\", \"Topic10\", \"Topic10\", \"Topic10\", \"Topic10\", \"Topic10\", \"Topic10\", \"Topic10\", \"Topic10\", \"Topic10\", \"Topic10\", \"Topic10\", \"Topic10\", \"Topic10\", \"Topic10\", \"Topic10\", \"Topic10\"], \"Term\": [\"basement\", \"embracing_blessing_god\", \"period\", \"fuck_girl_boyfriend_easily\", \"wtf_create\", \"gonna\", \"ricans\", \"food_\\u2014_decided_puerto\", \"survivalist_filled_massive\", \"ima_steal_money_church\", \"house_music\", \"lord_watchingbecause_that\\u2019s_exactly\", \"mom\", \"blessing\", \"pup_spent_life\", \"wild_cat_spent_someone\\u2019s\", \"\\u2014_can\\u2019t_believe_they\\u2019re\", \"\\u2014_ton_friend\", \"actually_feeling_grass_a\\u2026\", \"2011\", \"god_sent_reason_deny\", \"living\", \"amp\", \"housemusic\", \"t\\u2026\", \"life\", \"dweller\", \"live\", \"spread_love\", \"hello_creative_project_called\", \"live\", \"wrong_people\", \"basement\\u2026\", \"people\", \"mother\", \"via\", \"door\", \"stay\", \"girl\", \"1000_african_skull_racist\", \"bar\", \"it\\u2019s\", \"hey\", \"research_germany_discovered_museum\", \"leave\", \"fucking\", \"massive\", \"sound\", \"play\", \"coming\", \"sitting\", \"game\", \"3\", \"family\", \"mean\", \"finished\", \"home\", \"black\", \"life\", \"stuff\", \"job\", \"woman\", \"music\", \"house\", \"29_don\\u2026\", \"people_unattractive_mom\", \"\\ud83d\\ude44_easy_call\", \"parent\", \"nerd_batman_he\", \"day_whereas_superman_job\", \"posting_giant_gaming_pc\", \"amp\", \"basement\", \"look\", \"mom\", \"found\", \"guy\", \"time\", \"fuck_girl_boyfriend_easily\", \"wtf_create\", \"pls_they\\u2019re_beautiful\", \"hope_bury_prince_costume\", \"mcm_tweeted_mom\", \"he\\u2019s_27\", \"tell_nigga_wouldn\\u2019t_time\\u201d\", \"\\u201cbabe_weed_amp_gun\", \"house_block_fat_as\", \"cause\", \"played\", \"god_didnt_lead\", \"walk_nothin\", \"mama\", \"food_decided_puerto_ricans\", \"sing_bet_award\", \"lil_bro_body\", \"white_house\", \"song_dahilan_\\ud83d\\udc95\", \"showwe_liked_echoesheres_snippet\", \"hang_formans\", \"bruhhhhh_skate_party\", \"instead\", \"cook_make_pie\", \"ok_calm_nowdissects\", \"12\", \"unlockedkellyanneconway\", \"ok_kellyyou_leaving_door\", \"actual_schedule\", \"snsd_fx_waiting_sm\", \"ricans\", \"food_\\u2014_decided_puerto\", \"survivalist_filled_massive\", \"survivalist_spent_45_filling\", \"repeat_dark\", \"wo_cry\", \"pledge_listen_goodbye_kiss\", \"basement\", \"freestyle_live_rodeo_tour\", \"liberal_wacko_wonder_son\", \"cant_job_winner_losersa\\u2026\", \"locked\", \"kid\", \"tonight\", \"he\", \"dad\", \"boy\", \"little\", \"ur\", \"floor\", \"\\ud83d\\ude02\", \"\\u2026\", \"god\", \"dude\", \"playing\", \"maybe\", \"there\", \"actually\", \"nice\", \"ill\", \"post_malone_look\", \"sitting_smoke_circle\", \"70_\\ud83d\\ude02\\ud83d\\ude02\", \"trying\", \"please\", \"child\", \"hiding\", \"flooded\", \"dead\", \"move\", \"living\", \"mom\", \"basement\", \"guy\", \"time\", \"youre\", \"amp\", \"probably\", \"parent\", \"dweller\", \"mommy\", \"maga\", \"fought_lift_flag_thst\", \"dweller_cound_burn_trump\", \"check\", \"as\", \"oh\", \"troll\", \"4\", \"thats\", \"fire\", \"yes\", \"hell\", \"hate\", \"ive\", \"bitch\", \"watch\", \"loser\", \"week\", \"free\", \"building\", \"rent\", \"start\", \"cat\", \"stuck\", \"bedroom\", \"20\", \"b\\u2026\", \"10\", \"basement\", \"2\", \"day\", \"time\", \"feel\", \"update\", \"left\", \"2017\", \"food\", \"jaxx\", \"cool\", \"twitter\", \"deg\", \"nowplaying\", \"live_parent\", \"read\", \"news\", \"episode\", \"come\", \"sister\", \"8\", \"saying\", \"added_video_playlist\", \"mind\", \"antifa\", \"single\", \"\\ud83d\\ude2d\", \"session\", \"sex\", \"video_game\", \"shop\", \"moment\", \"soul\", \"buildi\\u2026\", \"embracing_blessing_god\", \"church_boycott_nfl_right\\u2026\", \"america_trump_supporter_\\ud83c\\uddfa\\ud83c\\uddf8\", \"there\\u2019s_talk_including_video\", \"gamers_future_olympics_la\", \"planning_ahead_2028_begun\", \"house_music\", \"2011\", \"housemusic\", \"someone\", \"clean\", \"happens\", \"guess\", \"directly\", \"son\", \"flood\", \"box\", \"soon\", \"car\", \"thinking\", \"h\\u2026\", \"true\", \"amazing\", \"awesome\", \"liberal\", \"fine\", \"lil\", \"nerd\", \"okay\", \"seeing\", \"trapped\", \"busy\", \"original\", \"hotel\", \"bought\", \"hair\", \"logic_talking_updating_fan\", \"million_downloads_debut_yr\", \"company_power_up\\u2026\", \"glass_bead_surpassed_1\", \"violence_home\\u2026\", \"erased_germany_practiced_genocidal\", \"policy_southern_africa_bringing\", \"friend_guy_called\", \"angry_i_build_bomb\", \"damage_inc\", \"ima_steal_money_church\", \"love\", \"party\", \"fuck\", \"story\", \"cant\", \"real\", \"remember\", \"trump\", \"getting\", \"stop\", \"watching\", \"scared\", \"wall\", \"money\", \"shit\", \"bc\", \"thanks\", \"fun\", \"taking\", \"wow\", \"nigga\", \"gun\", \"sleep\", \"in\\u2026\", \"live_mom\", \"ever\\u2026\", \"talking\", \"special_tie\", \"youre_lucky_make_feel\", \"day\", \"basement\", \"lord_watchingbecause_that\\u2019s_exactly\", \"night\", \"period\", \"t\\u2026\", \"lol\", \"tiki_boy_coming_charlottesville\", \"anytime_mother_night_forget\", \"travis_scott\", \"call\", \"bargain\", \"listen\", \"help\", \"bad\", \"reason\", \"tweet\", \"waterproofing\", \"society\", \"literally\", \"the\\u2026\", \"fan\", \"go\", \"person\", \"post\", \"morning\", \"wonder\", \"da\", \"stupid\", \"crazy\", \"book\", \"lived\", \"ppl\", \"word\", \"basement\", \"gonna\", \"blessing\", \"god_sent_reason_deny\", \"i\\u2019m\", \"huge\", \"friend\", \"don\\u2019t\", \"tell\", \"set\", \"hope\", \"a\\u2026\", \"mom\\u2019s\", \"head\", \"sad\", \"bathroom\", \"run\", \"dark\", \"hide\", \"light\", \"upstairs\", \"stair\", \"hide_computer\", \"outside\", \"body\", \"\\u2013\", \"heard\", \"make\", \"wait\", \"team\", \"american\", \"lord_watchingbecause_that\\u2019s_exactly\", \"survivalist_spends_45_filling\", \"food_\\u2014_decides_puerto\", \"basement\", \"\\u2014_can\\u2019t_believe_they\\u2019re\", \"wild_cat_spent_someone\\u2019s\", \"spread_love\", \"hello_creative_project_called\", \"dog\", \"lost\", \"\\u2014\", \"m\\u2026\", \"vol_1_10_song\", \"build\", \"deep\", \"sign\", \"type\", \"50\", \"company\", \"sweet\", \"starting\", \"hall\", \"knocked_loose_turnstile_movement\", \"story_neck_deep\", \"turnover_citizen_title_fight\", \"amp_tyler\\u2026\", \"living_mommy\", \"tour\", \"pick\", \"ground\", \"brooklyn\", \"tied\", \"attention\", \"heat\", \"pup_spent_life\", \"vol_1_20_song\", \"actually_feeling_grass_a\\u2026\", \"\\u2014_ton_friend\", \"lamelo_ball_schedule610am_hoop103pm\", \"street_smart_professor_lavar610pm\", \"sew_bbb_merch_basement36pm\", \"dope_interview_soon\", \"god_send_reason\", \"hurricaneprep_tip_generator_garage\", \"shed_indoors_outside_window\", \"door_vents\\u2026\", \"violence_amp_appears_mass\", \"shooting_look_loser_live\\u2026\", \"crazed_lunatic_left_condoning\"], \"loglift\": [30.0, 29.0, 28.0, 27.0, 26.0, 25.0, 24.0, 23.0, 22.0, 21.0, 20.0, 19.0, 18.0, 17.0, 16.0, 15.0, 14.0, 13.0, 12.0, 11.0, 10.0, 9.0, 8.0, 7.0, 6.0, 5.0, 4.0, 3.0, 2.0, 1.0, 1.9972, 1.9972, 1.9971, 1.997, 1.997, 1.997, 1.9968, 1.9968, 1.9968, 1.9968, 1.9968, 1.9968, 1.9967, 1.9967, 1.9967, 1.9967, 1.9967, 1.9966, 1.9966, 1.9966, 1.9966, 1.9966, 1.9966, 1.9965, 1.9964, 1.9964, 1.9964, 1.9964, 1.9964, 1.9964, 1.9963, 1.9961, 1.9948, 1.9655, 1.9365, 1.9365, 1.9365, 1.7545, 1.9051, 1.9051, 1.9051, 1.6485, 0.1977, 1.5652, 0.9844, 1.584, 1.1569, 0.8039, 2.0655, 2.0655, 2.0653, 2.0653, 2.0652, 2.0652, 2.0651, 2.0651, 2.065, 2.0648, 2.0648, 2.0647, 2.0647, 2.0647, 2.0646, 2.0645, 2.0645, 2.0644, 2.0643, 2.0643, 2.0642, 2.0641, 2.064, 2.064, 2.064, 2.0639, 2.0638, 2.0638, 2.0637, 2.0637, 2.0336, 2.0314, 2.0214, 2.0444, 1.991, 1.991, 1.991, 1.1186, 1.7393, 2.1476, 2.1476, 2.1475, 2.1475, 2.1475, 2.1474, 2.1474, 2.1474, 2.1473, 2.1473, 2.1473, 2.1473, 2.1473, 2.1472, 2.1472, 2.1472, 2.1471, 2.1471, 2.1471, 2.147, 2.147, 2.147, 2.147, 2.147, 2.147, 2.147, 2.1469, 2.1469, 2.1469, 2.1468, 2.1468, 1.9889, 1.6967, 0.3054, 1.5828, 1.3884, 1.7266, 0.9131, 1.7262, 0.4159, 2.2464, 2.2464, 2.2464, 2.2464, 2.2464, 2.2462, 2.2462, 2.2462, 2.2461, 2.2461, 2.2461, 2.2461, 2.246, 2.246, 2.246, 2.2459, 2.2459, 2.2459, 2.2459, 2.2459, 2.2458, 2.2458, 2.2457, 2.2457, 2.2457, 2.2457, 2.2457, 2.2457, 2.2457, 2.2457, 0.1216, 1.8327, 1.181, 0.7601, 2.28, 2.2799, 2.2799, 2.2799, 2.2798, 2.2798, 2.2798, 2.2798, 2.2797, 2.2797, 2.2797, 2.2796, 2.2796, 2.2796, 2.2794, 2.2794, 2.2794, 2.2793, 2.2793, 2.2793, 2.2793, 2.2792, 2.2791, 2.2791, 2.2791, 2.279, 2.279, 2.279, 2.2789, 2.2789, 2.2634, 2.2744, 2.2741, 2.2765, 2.2765, 2.2765, 2.3843, 2.3843, 2.3842, 2.3841, 2.384, 2.3839, 2.3839, 2.3839, 2.3839, 2.3838, 2.3838, 2.3837, 2.3837, 2.3837, 2.3837, 2.3836, 2.3836, 2.3836, 2.3835, 2.3834, 2.3834, 2.3834, 2.3833, 2.3831, 2.3829, 2.3829, 2.3829, 2.3829, 2.3828, 2.3828, 2.301, 2.342, 2.342, 2.342, 2.2603, 2.2603, 2.2603, 2.0213, 1.9731, 2.1019, 2.4005, 2.4003, 2.4003, 2.4002, 2.4001, 2.4001, 2.3999, 2.3999, 2.3998, 2.3998, 2.3998, 2.3998, 2.3998, 2.3998, 2.3997, 2.3997, 2.3997, 2.3997, 2.3996, 2.3995, 2.3995, 2.3994, 2.3994, 2.3994, 2.3994, 2.3994, 2.3993, 2.3993, 2.3993, 2.3993, 1.978, 0.0203, 1.039, 1.4539, 2.4272, 2.427, 2.427, 2.4268, 2.4268, 2.4268, 2.4268, 2.4267, 2.4267, 2.4266, 2.4266, 2.4265, 2.4265, 2.4265, 2.4264, 2.4263, 2.4263, 2.4263, 2.4262, 2.4262, 2.4262, 2.4261, 2.426, 2.426, 2.426, 2.426, 2.426, 2.4258, 2.4258, 2.4258, -3.619, 2.5314, 2.5313, 2.5313, 2.5311, 2.5311, 2.531, 2.5309, 2.5308, 2.5307, 2.5307, 2.5306, 2.5306, 2.5305, 2.5305, 2.5305, 2.5305, 2.5304, 2.5304, 2.5304, 2.5304, 2.5303, 2.5303, 2.5303, 2.5303, 2.5303, 2.5302, 2.5301, 2.5301, 2.53, 2.5299, 2.2352, 2.327, 2.2218, -0.0801, 2.7764, 2.7764, 2.7762, 2.7762, 2.7759, 2.7757, 2.7756, 2.7756, 2.7756, 2.7756, 2.7752, 2.7752, 2.7749, 2.7749, 2.7748, 2.7748, 2.7747, 2.7746, 2.7744, 2.7744, 2.7744, 2.7744, 2.7742, 2.774, 2.7739, 2.7738, 2.7738, 2.7737, 2.7737, 2.7734, 2.7365, 2.7541, 2.7208, 2.6672, 2.6937, 2.6937, 2.6937, 2.4374, 2.6227, 2.2215, 2.1797, 2.2185, 2.0588, 2.0588, 2.0588], \"Freq\": [229017.0, 45210.0, 11886.0, 9735.0, 9734.0, 7679.0, 10012.0, 9551.0, 8960.0, 6384.0, 5267.0, 6295.0, 7613.0, 4354.0, 3891.0, 3698.0, 3698.0, 3833.0, 3634.0, 3949.0, 3633.0, 4921.0, 5567.0, 3177.0, 3047.0, 3518.0, 3047.0, 3426.0, 2397.0, 2397.0, 3425.9679191345313, 3114.0328578403637, 2013.0874511234226, 2811.0778319739215, 1599.0499134629051, 1568.2756232624831, 1265.9731568703585, 1187.4243316214115, 1149.6980245831946, 1155.2059838839018, 1108.3983930033576, 1104.4350775772855, 1097.3523698876513, 1077.3845175849613, 1063.8439912417882, 1055.2749127155898, 975.8604282891496, 943.8416031534811, 928.9366826540453, 928.6556426595325, 900.0453091816466, 893.7451761147705, 884.624066880886, 831.7215631178753, 770.5773524780304, 818.3126911484094, 2349.566556310124, 737.4062628209113, 3514.553841129595, 706.9846457866357, 894.1724118999259, 837.3787970006398, 841.8321996519702, 3484.174184568324, 2987.774819120578, 2987.774819120578, 2987.774819120578, 3846.59214818572, 1547.530403987839, 1547.530403987839, 1547.530403987839, 3927.2667255021966, 37864.22318408153, 1591.4381512717644, 2764.28559216329, 1136.0348197644944, 1205.2030590814618, 1211.4463431095485, 9734.39188746012, 9733.352240874954, 2554.144707830093, 2554.144707830093, 1851.5002919742858, 1851.5002919742858, 1600.112756257775, 1600.112756257775, 1235.0868226748958, 900.5382295150326, 893.0411739003325, 838.1385061745013, 838.1385061745013, 773.5249836743393, 701.4252246361267, 702.3274272600864, 702.3274272600864, 621.156384024127, 574.5603074560207, 574.5603074560207, 522.4386225837769, 504.22095227945925, 458.1739009271665, 470.95623222283393, 470.95623222283393, 435.8968157086824, 434.1689686443309, 434.1689686443309, 392.33008954740257, 392.33008954740257, 9696.842606242559, 9230.191104739813, 8572.674703371711, 2089.2163908506936, 1040.0276174445876, 1040.0276174445876, 1040.0276174445876, 88834.08973901266, 1131.772859607825, 2440.7301164362193, 2418.1104913627632, 1956.971418594382, 1870.780246715122, 1786.5381097722905, 1529.4427683736676, 1372.079780077605, 1339.4656693900104, 1262.3873858856055, 1202.707175990143, 1207.5647172399101, 1190.3558217267573, 1134.3916214305918, 1052.4500240087898, 1010.7218879142613, 1004.7083931656177, 927.8070581824545, 880.8802386470574, 873.6792752631299, 860.6560029515721, 848.3259041613429, 851.1942893723169, 851.1942892610894, 851.0171527072183, 830.4958331289585, 816.0400226497134, 777.904842669567, 764.385048228885, 758.8921128511784, 699.7156570641343, 1162.8008096387193, 4197.606623684278, 4848.031957442442, 36278.360201614145, 1587.3202873063117, 1869.7624682371886, 1274.0566619895421, 1619.314384433813, 893.8364253620349, 867.7395652438513, 3047.084318482314, 2674.1610426037614, 2522.299654095483, 2311.861991385512, 2311.4353874626913, 1652.4253690943483, 1457.8866975006556, 1401.9278089184904, 1286.642809129437, 1270.3962554327834, 2194.0443019922745, 1212.7820287571233, 1090.1025169649809, 1086.0465146334234, 1055.0700062752521, 1008.1471749651731, 1005.0956587491057, 978.4354399133824, 970.744495483195, 916.6832789056627, 859.8449991665371, 836.0408638011526, 798.0966927521957, 783.1574138877454, 956.0810319800327, 762.0098272115526, 754.4204784277381, 752.9142356226193, 754.3562680706789, 744.2172349395491, 27350.625239983292, 1419.7542617883828, 1096.400259560369, 903.7155509154134, 2066.039186817153, 1732.5504906521949, 1724.1527807167552, 1563.7587553751837, 1434.603789537347, 1385.1387645276825, 1362.3454136725925, 1255.72048189859, 1191.3181793128197, 1079.0045481882398, 1077.0773346609408, 1019.3645795298268, 1007.3270371904352, 984.8770768604401, 806.2014693326763, 796.9432260550402, 776.4824856160707, 725.4188001375641, 706.1814475805086, 684.1188406353643, 683.5817820967136, 649.5352910937895, 605.2654884622517, 596.3648171010781, 594.5885917512666, 550.9928583428549, 547.3253403811163, 533.5072445874711, 509.5610797509861, 1118.2490135440275, 44451.490751025936, 1667.137613533781, 1670.5864787272776, 1105.8426890660612, 1105.8426890660612, 1105.8426890660612, 5267.192120370315, 3948.3819763803813, 3176.390880317255, 1728.5611192691756, 1455.7254880061516, 1312.798664998291, 1230.6247819716298, 1213.0796611417209, 1206.9719559312064, 1116.0616058619926, 1000.8653311986053, 987.9199089444093, 958.7575010893526, 929.9478329329377, 926.6165243858753, 868.6266869990671, 827.4439071410533, 795.6113124649305, 740.2448445002763, 666.9989514428745, 665.4076911534369, 638.9175616650269, 615.8629249927551, 531.2382121887608, 467.7452386989422, 467.38081783806297, 458.7415767236121, 457.3284214218207, 431.54984944995863, 419.95565030741636, 2616.6274752838895, 1026.3066811243064, 1026.3066811243064, 1026.3066811243064, 1343.137696986314, 1343.137696986314, 1343.137696986314, 1433.7871050653762, 1254.5266316718544, 963.4637385052291, 6383.074549628531, 2256.7852640402984, 2008.1690630665987, 1643.3825281317547, 1335.8315830654144, 1307.3332964236904, 1046.9013164035684, 981.673058988298, 927.7393029103204, 921.2493476198626, 875.8801445932278, 870.4920166015808, 855.2675932691809, 850.9246345862823, 794.0544352703112, 1754.219246267832, 782.248952351271, 765.1051827577409, 745.7579442141855, 655.6955619987705, 647.0681475761344, 630.2729310251028, 614.7026802816398, 613.1148369321583, 590.615234426347, 589.1239255697799, 565.3912959922012, 563.9649912468001, 553.8314958933822, 553.8314958933822, 2085.68397308838, 21187.59042474387, 1613.1889700053343, 616.7225849338871, 11885.824486484853, 3046.866688077838, 2724.0351140199646, 2159.812230006119, 2159.812230006119, 1787.2968677161027, 1677.3844298854303, 1457.8530440799977, 1266.1784230983485, 1222.7540414483763, 1211.3472709770379, 1057.444879001267, 1027.000580243613, 986.3359177436753, 900.2006616410946, 815.0505988577463, 811.7135500710942, 784.9080230588085, 712.5244694064155, 711.849331702678, 701.6398802284036, 633.3143811407041, 622.8615849813934, 612.8275898599426, 590.3109283803841, 586.5015643014498, 581.9872023804803, 533.490948580289, 521.3564075806312, 518.3949261429933, 542.0512827062408, 7679.091191836881, 4353.320820432159, 3632.482704146596, 2167.961879014233, 1789.1881427084986, 1539.1531748849752, 1222.332756149804, 1101.6216636916517, 1003.9833579834193, 923.5957838964258, 864.1330346885109, 827.4828300646835, 805.7005324096646, 800.5800713412849, 799.1283532327528, 756.1535966065618, 734.224025434017, 727.5919096722629, 707.6684525270355, 699.2530808780458, 646.5827867887654, 668.6269678509882, 629.7567509853255, 619.2629100900878, 619.106217447347, 612.8522079034395, 557.6228066125864, 540.2398113209563, 516.4452292222364, 492.1897816423683, 4681.556449062832, 1132.440299496682, 967.1256671013068, 16813.05537037874, 3697.359650615894, 3697.359650615894, 2395.9117089983197, 2395.9117089983197, 944.0787009863811, 736.6756997181317, 685.4147463501838, 664.6314494910363, 1269.1430655815182, 641.7170138937972, 501.9433651741085, 485.08073935325586, 420.58105790649967, 412.14210979059175, 397.3757610374288, 390.83524714182846, 365.5301518015672, 352.63335058336645, 321.7601489787125, 321.7601489787125, 321.7601489787125, 321.7601489787125, 293.2424021305519, 272.7212837539419, 261.4647075446664, 257.6721327123356, 252.0246055931121, 248.50669716543462, 244.38496078164752, 223.20473744769225, 3737.945633815079, 1084.441768802018, 3437.134543830909, 3436.098988213837, 703.3320123884721, 703.3320123884721, 703.3320123884721, 1079.616692522954, 441.59140886016036, 505.2309323074402, 513.2639196763799, 491.7809905851954, 487.1725335866435, 487.1725335866435, 487.1725335866435], \"Total\": [229017.0, 45210.0, 11886.0, 9735.0, 9734.0, 7679.0, 10012.0, 9551.0, 8960.0, 6384.0, 5267.0, 6295.0, 7613.0, 4354.0, 3891.0, 3698.0, 3698.0, 3833.0, 3634.0, 3949.0, 3633.0, 4921.0, 5567.0, 3177.0, 3047.0, 3518.0, 3047.0, 3426.0, 2397.0, 2397.0, 3426.7480657031892, 3114.8465457550737, 2013.8682756281958, 2812.401557567301, 1599.8300489723033, 1569.0557937975748, 1266.7533240904934, 1188.204487327413, 1150.4783718083252, 1155.990654403087, 1109.1785304180462, 1105.2152265332677, 1098.1325319782693, 1078.1691807799439, 1064.6241336969058, 1056.05535414145, 976.6410109775912, 944.6217666173354, 929.716837617989, 929.4357934298943, 900.8254573488771, 894.5253448580428, 885.4042065966964, 832.5017249858622, 771.3575116583879, 819.1454359991696, 2351.9642502407432, 738.1864752765866, 3518.293870073266, 707.7648036121283, 895.1945684011531, 838.5246836746417, 844.0381891376575, 3597.437096782998, 3175.7318631858893, 3175.7318631858893, 3175.7318631858893, 4904.405182292118, 1697.2639664846718, 1697.2639664846718, 1697.2639664846718, 5567.1191072385545, 229017.62380990587, 2451.963074448128, 7613.037648725263, 1717.6461138053514, 2793.2460881525394, 3996.2150371615962, 9735.43397898436, 9734.394332383292, 2555.0434548447515, 2555.0434548447515, 1852.3745755011316, 1852.3745755011316, 1600.9627021999286, 1600.9627021999286, 1235.8466220560633, 901.2981860912206, 893.8010222397185, 838.9049776696614, 838.9049776696614, 774.2848863036463, 702.1883636952975, 703.1154560801097, 703.1154560801097, 621.9162454540584, 575.3488180448434, 575.3488180448434, 523.1984221321096, 504.98539678801933, 458.9338327691141, 471.73933347655276, 471.73933347655276, 436.6567422509357, 434.94932232794764, 434.94932232794764, 393.0912229340329, 393.0912229340329, 10012.349744048614, 9551.361545734111, 8960.388630633486, 2134.0776408711004, 1120.598180189902, 1120.598180189902, 1120.598180189902, 229017.62380990587, 1568.5367060682759, 2441.515587844288, 2418.8959624235263, 1957.748065030844, 1871.5568863026676, 1787.3159672804538, 1530.2194013026156, 1372.8565703046131, 1340.2423347680192, 1263.1645736928886, 1203.4837922115876, 1208.3468896126528, 1191.1324704509066, 1135.1682316903727, 1053.2266698390197, 1011.4985328630654, 1005.4850340657595, 928.5837165634516, 881.6568781040784, 874.4559188738014, 861.4326605419143, 849.1025351343189, 851.975029568571, 851.9750295695161, 851.7978947691344, 831.2725177175151, 816.8166569211915, 778.6814874054061, 765.1617002524383, 759.6687466012185, 700.4923160450335, 1164.11615195997, 4921.343084664192, 7613.037648725263, 229017.62380990587, 2793.2460881525394, 3996.2150371615962, 1941.589925235906, 5567.1191072385545, 1362.7638600561809, 4904.405182292118, 3047.843365097293, 2674.9194653677328, 2523.0580166430595, 2312.620344203987, 2312.193740268461, 1653.1837998201202, 1458.645132432866, 1402.6862293347397, 1287.4012407160915, 1271.154696916189, 2195.370827520252, 1213.540451364249, 1090.8609357424161, 1086.804944514354, 1055.8284582351323, 1008.9056012630034, 1005.8540836747856, 979.1938764225321, 971.5029669227084, 917.4416994051769, 860.6034286190005, 836.799277658866, 798.8550966604918, 783.9158338978219, 957.0108266987476, 762.7682479984041, 755.1789033551086, 753.672663070339, 755.1168813337952, 744.9756922430884, 229017.62380990587, 2147.817777649006, 3182.775873635124, 3996.2150371615962, 2066.7482641744477, 1733.259505943646, 1724.8618431420884, 1564.4677794418646, 1435.3128761963078, 1385.8477910527843, 1363.0544993083433, 1256.4295417055446, 1192.0271745259033, 1079.713605180987, 1077.7863823081325, 1020.0736482198387, 1008.0360935467014, 985.5861390552477, 806.9105297324794, 797.6523023835078, 777.1915954219592, 726.127864659041, 706.8904904474225, 684.8279002753117, 684.2908496930909, 650.2443621327633, 605.9746021478285, 597.0738807326957, 595.2976427390463, 551.701898613922, 548.0343909886943, 534.2163322463554, 510.2701868986828, 1119.8542268479448, 45210.15300819341, 1677.0086094719875, 1681.0181496369942, 1110.0256316711054, 1110.0256316711054, 1110.0256316711054, 5267.903925858476, 3949.0938930898915, 3177.102746677318, 1729.272951086627, 1456.4373682822306, 1313.5105391312277, 1231.3366362089357, 1213.7915842397545, 1207.6838099959346, 1116.7734571124042, 1001.5771809557502, 988.631781263969, 959.469369379657, 930.6596992873664, 927.3283837201359, 869.3385456333328, 828.1557708785228, 796.3231642404471, 740.9567105625279, 667.7108340466642, 666.1196091967056, 639.6294751882975, 616.5748104813129, 531.9500854667668, 468.4570995698787, 468.09266907634196, 459.45344117021233, 458.04027520368976, 432.26171939060924, 420.66752100000207, 2844.2737020142063, 1070.8724063772925, 1070.8724063772925, 1070.8724063772925, 1520.6659034567551, 1520.6659034567551, 1520.6659034567551, 2061.7006258731553, 1892.9212490970353, 1278.065153764738, 6384.275433772057, 2257.555105928034, 2008.938914769939, 1644.1523726795197, 1336.601478564056, 1308.1031666321812, 1047.6711798938688, 982.442905103739, 928.5091822597602, 922.0191925360102, 876.6499985054661, 871.2618645387622, 856.037405872222, 851.6944896900034, 794.8242940147281, 1755.9430103336879, 783.018836383595, 765.8750402685355, 746.5277920100754, 656.4654149026369, 647.8380041866427, 631.0427841998052, 615.4725281818813, 613.8846990789528, 591.3850622066298, 589.8937651484553, 566.1610721409519, 564.734838741689, 554.6012661146802, 554.6012661146802, 3182.775873635124, 229017.62380990587, 6295.825814130251, 1589.4343649813732, 11886.573944758597, 3047.6162887283363, 2724.784682914959, 2160.663542916627, 2160.663542916627, 1788.0471412344245, 1678.1340146231285, 1458.6026352525366, 1266.9280065291537, 1223.5036261839505, 1212.0968774047356, 1058.1944618537573, 1027.750170488334, 987.0854840881022, 900.950161220377, 815.8001704948459, 812.4631307822065, 785.6576327262537, 713.2740708495676, 712.598927232239, 702.3895036246064, 634.0640019787921, 623.6111952196663, 613.5772275866093, 591.060523756034, 587.2511411919011, 582.7367885931969, 534.2405235459382, 522.1059940802551, 519.1445265066278, 229017.62380990587, 7679.862114065274, 4354.091754870415, 3633.303033560445, 2168.7328113114954, 1789.9590964360152, 1539.93881354109, 1223.1036915915543, 1102.3926210161155, 1004.754316223584, 924.366741374354, 864.9039875562801, 828.2537564875666, 806.4714628939463, 801.3510498462925, 799.8992911790504, 756.9245383538296, 734.9949498248566, 728.3628715125157, 708.4393726544233, 700.0240351621271, 647.3537406226842, 669.4264277570531, 630.5277347415465, 620.0338347653767, 619.8771890758491, 613.6231829007828, 558.3937532774871, 541.0107378916424, 517.2161668952783, 492.96075760067356, 6295.825814130251, 1389.3378017434363, 1318.25038528317, 229017.62380990587, 3698.5205296423906, 3698.5205296423906, 2397.0702964614547, 2397.0702964614547, 944.8222892064468, 737.419288610155, 686.1583397623665, 665.375065050994, 1270.5865859032535, 642.4605983339, 502.68695632108233, 485.8243486471857, 421.3246445442592, 412.8857036513047, 398.1193524065739, 391.57884484607416, 366.2737419555686, 353.3769246655219, 322.50374178525374, 322.50374178525374, 322.50374178525374, 322.50374178525374, 293.9859794211203, 273.46485229106366, 262.208280147934, 258.4157311564293, 252.76818672938685, 249.25027686742692, 245.12860809969155, 223.94833796085865, 3891.3401502232073, 1109.2434316389345, 3634.7612793154085, 3833.5803792886195, 764.2384869102931, 764.2384869102931, 764.2384869102931, 1515.7009601455397, 515.1121428856549, 880.268106019354, 932.4190978948416, 859.443799875733, 998.7457306284816, 998.7457306284816, 998.7457306284816], \"logprob\": [30.0, 29.0, 28.0, 27.0, 26.0, 25.0, 24.0, 23.0, 22.0, 21.0, 20.0, 19.0, 18.0, 17.0, 16.0, 15.0, 14.0, 13.0, 12.0, 11.0, 10.0, 9.0, 8.0, 7.0, 6.0, 5.0, 4.0, 3.0, 2.0, 1.0, -4.2861, -4.3815, -4.8178, -4.4839, -5.0481, -5.0675, -5.2816, -5.3457, -5.378, -5.3732, -5.4145, -5.4181, -5.4246, -5.4429, -5.4556, -5.4637, -5.5419, -5.5753, -5.5912, -5.5915, -5.6228, -5.6298, -5.6401, -5.7017, -5.7781, -5.718, -4.6632, -5.8221, -4.2606, -5.8642, -5.6293, -5.6949, -5.6896, -4.2692, -4.4229, -4.4229, -4.4229, -4.1703, -5.0808, -5.0808, -5.0808, -4.1495, -1.8835, -5.0528, -4.5007, -5.3899, -5.3308, -5.3256, -3.1736, -3.1737, -4.5116, -4.5116, -4.8333, -4.8333, -4.9792, -4.9792, -5.2381, -5.554, -5.5624, -5.6259, -5.6259, -5.7061, -5.8039, -5.8026, -5.8026, -5.9255, -6.0034, -6.0034, -6.0985, -6.134, -6.2298, -6.2023, -6.2023, -6.2796, -6.2836, -6.2836, -6.3849, -6.3849, -3.1775, -3.2268, -3.3007, -4.7125, -5.41, -5.41, -5.41, -0.9625, -5.3255, -4.4747, -4.484, -4.6956, -4.7406, -4.7867, -4.9421, -5.0507, -5.0747, -5.134, -5.1824, -5.1784, -5.1927, -5.2409, -5.3159, -5.3563, -5.3623, -5.4419, -5.4938, -5.502, -5.517, -5.5315, -5.5281, -5.5281, -5.5283, -5.5527, -5.5703, -5.6181, -5.6357, -5.6429, -5.7241, -5.2162, -3.9325, -3.7884, -1.7758, -4.9049, -4.7412, -5.1248, -4.885, -5.4792, -5.5088, -4.154, -4.2846, -4.3431, -4.4302, -4.4304, -4.766, -4.8912, -4.9304, -5.0162, -5.0289, -4.4825, -5.0753, -5.182, -5.1857, -5.2146, -5.2601, -5.2632, -5.29, -5.2979, -5.3552, -5.4192, -5.4473, -5.4938, -5.5127, -5.3131, -5.54, -5.55, -5.552, -5.5501, -5.5637, -1.9595, -4.9177, -5.1762, -5.3695, -4.509, -4.685, -4.6899, -4.7875, -4.8737, -4.9088, -4.9254, -5.0069, -5.0595, -5.1586, -5.1604, -5.2154, -5.2273, -5.2498, -5.45, -5.4616, -5.4876, -5.5556, -5.5825, -5.6142, -5.615, -5.6661, -5.7367, -5.7515, -5.7545, -5.8306, -5.8373, -5.8629, -5.9088, -5.1228, -1.4402, -4.7235, -4.7214, -5.134, -5.134, -5.134, -3.469, -3.7571, -3.9747, -4.5832, -4.755, -4.8583, -4.9229, -4.9373, -4.9423, -5.0206, -5.1296, -5.1426, -5.1726, -5.2031, -5.2067, -5.2713, -5.3199, -5.3591, -5.4312, -5.5354, -5.5378, -5.5784, -5.6152, -5.763, -5.8903, -5.8911, -5.9097, -5.9128, -5.9708, -5.9981, -4.1686, -5.1045, -5.1045, -5.1045, -4.8354, -4.8354, -4.8354, -4.7701, -4.9037, -5.1677, -3.2606, -4.3003, -4.417, -4.6175, -4.8247, -4.8463, -5.0684, -5.1328, -5.1893, -5.1963, -5.2468, -5.253, -5.2706, -5.2757, -5.3449, -4.5522, -5.3598, -5.382, -5.4076, -5.5363, -5.5496, -5.5759, -5.6009, -5.6035, -5.6409, -5.6434, -5.6845, -5.687, -5.7052, -5.7052, -4.3792, -2.0608, -4.6361, -5.5976, -2.6123, -3.9736, -4.0856, -4.3177, -4.3177, -4.507, -4.5704, -4.7107, -4.8517, -4.8866, -4.8959, -5.0318, -5.061, -5.1014, -5.1928, -5.2922, -5.2963, -5.3299, -5.4266, -5.4276, -5.442, -5.5445, -5.5611, -5.5774, -5.6148, -5.6213, -5.629, -5.716, -5.739, -5.7447, -5.7001, -2.9449, -3.5125, -3.6935, -4.2096, -4.4017, -4.5522, -4.7827, -4.8866, -4.9794, -5.0629, -5.1295, -5.1728, -5.1995, -5.2058, -5.2077, -5.2629, -5.2924, -5.3014, -5.3292, -5.3412, -5.4195, -5.386, -5.4458, -5.4627, -5.4629, -5.4731, -5.5675, -5.5992, -5.6442, -5.6923, -3.4398, -4.8591, -5.0169, -2.1613, -3.4306, -3.4306, -3.8645, -3.8645, -4.7958, -5.0438, -5.1159, -5.1467, -4.4999, -5.1818, -5.4275, -5.4617, -5.6043, -5.6246, -5.6611, -5.6777, -5.7446, -5.7805, -5.8722, -5.8722, -5.8722, -5.8722, -5.965, -6.0375, -6.0797, -6.0943, -6.1164, -6.1305, -6.1472, -6.2379, -3.4197, -4.6572, -3.5036, -3.5039, -5.0901, -5.0901, -5.0901, -4.6616, -5.5556, -5.421, -5.4052, -5.4479, -5.4574, -5.4574, -5.4574]}};\n",
       "\n",
       "function LDAvis_load_lib(url, callback){\n",
       "  var s = document.createElement('script');\n",
       "  s.src = url;\n",
       "  s.async = true;\n",
       "  s.onreadystatechange = s.onload = callback;\n",
       "  s.onerror = function(){console.warn(\"failed to load library \" + url);};\n",
       "  document.getElementsByTagName(\"head\")[0].appendChild(s);\n",
       "}\n",
       "\n",
       "if(typeof(LDAvis) !== \"undefined\"){\n",
       "   // already loaded: just create the visualization\n",
       "   !function(LDAvis){\n",
       "       new LDAvis(\"#\" + \"ldavis_el101081407060968105761142312299\", ldavis_el101081407060968105761142312299_data);\n",
       "   }(LDAvis);\n",
       "}else if(typeof define === \"function\" && define.amd){\n",
       "   // require.js is available: use it to load d3/LDAvis\n",
       "   require.config({paths: {d3: \"https://cdnjs.cloudflare.com/ajax/libs/d3/3.5.5/d3.min\"}});\n",
       "   require([\"d3\"], function(d3){\n",
       "      window.d3 = d3;\n",
       "      LDAvis_load_lib(\"https://cdn.rawgit.com/bmabey/pyLDAvis/files/ldavis.v1.0.0.js\", function(){\n",
       "        new LDAvis(\"#\" + \"ldavis_el101081407060968105761142312299\", ldavis_el101081407060968105761142312299_data);\n",
       "      });\n",
       "    });\n",
       "}else{\n",
       "    // require.js not available: dynamically load d3 & LDAvis\n",
       "    LDAvis_load_lib(\"https://cdnjs.cloudflare.com/ajax/libs/d3/3.5.5/d3.min.js\", function(){\n",
       "         LDAvis_load_lib(\"https://cdn.rawgit.com/bmabey/pyLDAvis/files/ldavis.v1.0.0.js\", function(){\n",
       "                 new LDAvis(\"#\" + \"ldavis_el101081407060968105761142312299\", ldavis_el101081407060968105761142312299_data);\n",
       "            })\n",
       "         });\n",
       "}\n",
       "</script>"
      ],
      "text/plain": [
       "PreparedData(topic_coordinates=            Freq  cluster  topics         x         y\n",
       "topic                                                \n",
       "3      13.567952        1       1 -0.176783  0.016928\n",
       "4      12.673745        1       2 -0.178441  0.064553\n",
       "6      11.672439        1       3 -0.178311  0.016824\n",
       "0      10.574853        1       4 -0.136105 -0.005282\n",
       "8      10.225155        1       5  0.242503  0.067277\n",
       "5       9.213789        1       6  0.243558  0.120733\n",
       "2       9.065800        1       7 -0.123729 -0.006377\n",
       "7       8.827994        1       8  0.157421 -0.401286\n",
       "1       7.953969        1       9 -0.107909 -0.002213\n",
       "9       6.224303        1      10  0.257798  0.128842, topic_info=      Category           Freq                                 Term  \\\n",
       "term                                                                 \n",
       "92011  Default  229017.000000                             basement   \n",
       "67058  Default   45210.000000               embracing_blessing_god   \n",
       "10324  Default   11886.000000                               period   \n",
       "24436  Default    9735.000000           fuck_girl_boyfriend_easily   \n",
       "42646  Default    9734.000000                           wtf_create   \n",
       "2189   Default    7679.000000                                gonna   \n",
       "29759  Default   10012.000000                               ricans   \n",
       "73184  Default    9551.000000                food_���_decided_puerto   \n",
       "12962  Default    8960.000000           survivalist_filled_massive   \n",
       "50946  Default    6384.000000               ima_steal_money_church   \n",
       "39709  Default    5267.000000                          house_music   \n",
       "18337  Default    6295.000000  lord_watchingbecause_that���s_exactly   \n",
       "70165  Default    7613.000000                                  mom   \n",
       "13574  Default    4354.000000                             blessing   \n",
       "34796  Default    3891.000000                       pup_spent_life   \n",
       "14008  Default    3698.000000             wild_cat_spent_someone���s   \n",
       "8256   Default    3698.000000              ���_can���t_believe_they���re   \n",
       "44651  Default    3833.000000                         ���_ton_friend   \n",
       "42685  Default    3634.000000            actually_feeling_grass_a���   \n",
       "26798  Default    3949.000000                                 2011   \n",
       "25980  Default    3633.000000                 god_sent_reason_deny   \n",
       "67977  Default    4921.000000                               living   \n",
       "38933  Default    5567.000000                                  amp   \n",
       "56062  Default    3177.000000                           housemusic   \n",
       "78936  Default    3047.000000                                   t���   \n",
       "12556  Default    3518.000000                                 life   \n",
       "31241  Default    3047.000000                              dweller   \n",
       "15910  Default    3426.000000                                 live   \n",
       "26218  Default    2397.000000                          spread_love   \n",
       "13850  Default    2397.000000        hello_creative_project_called   \n",
       "...        ...            ...                                  ...   \n",
       "60751  Topic10     390.835247                                sweet   \n",
       "21198  Topic10     365.530152                             starting   \n",
       "16031  Topic10     352.633351                                 hall   \n",
       "73685  Topic10     321.760149     knocked_loose_turnstile_movement   \n",
       "79795  Topic10     321.760149                      story_neck_deep   \n",
       "14399  Topic10     321.760149         turnover_citizen_title_fight   \n",
       "6578   Topic10     321.760149                           amp_tyler���   \n",
       "99630  Topic10     293.242402                         living_mommy   \n",
       "7274   Topic10     272.721284                                 tour   \n",
       "84109  Topic10     261.464708                                 pick   \n",
       "66047  Topic10     257.672133                               ground   \n",
       "88741  Topic10     252.024606                             brooklyn   \n",
       "89345  Topic10     248.506697                                 tied   \n",
       "75916  Topic10     244.384961                            attention   \n",
       "34763  Topic10     223.204737                                 heat   \n",
       "34796  Topic10    3737.945634                       pup_spent_life   \n",
       "37923  Topic10    1084.441769                        vol_1_20_song   \n",
       "42685  Topic10    3437.134544            actually_feeling_grass_a���   \n",
       "44651  Topic10    3436.098988                         ���_ton_friend   \n",
       "75712  Topic10     703.332012  lamelo_ball_schedule610am_hoop103pm   \n",
       "97281  Topic10     703.332012    street_smart_professor_lavar610pm   \n",
       "58780  Topic10     703.332012           sew_bbb_merch_basement36pm   \n",
       "88300  Topic10    1079.616693                  dope_interview_soon   \n",
       "43836  Topic10     441.591409                      god_send_reason   \n",
       "91405  Topic10     505.230932   hurricaneprep_tip_generator_garage   \n",
       "33683  Topic10     513.263920          shed_indoors_outside_window   \n",
       "81034  Topic10     491.780991                          door_vents���   \n",
       "80677  Topic10     487.172534            violence_amp_appears_mass   \n",
       "28501  Topic10     487.172534            shooting_look_loser_live���   \n",
       "33175  Topic10     487.172534        crazed_lunatic_left_condoning   \n",
       "\n",
       "               Total  loglift  logprob  \n",
       "term                                    \n",
       "92011  229017.000000  30.0000  30.0000  \n",
       "67058   45210.000000  29.0000  29.0000  \n",
       "10324   11886.000000  28.0000  28.0000  \n",
       "24436    9735.000000  27.0000  27.0000  \n",
       "42646    9734.000000  26.0000  26.0000  \n",
       "2189     7679.000000  25.0000  25.0000  \n",
       "29759   10012.000000  24.0000  24.0000  \n",
       "73184    9551.000000  23.0000  23.0000  \n",
       "12962    8960.000000  22.0000  22.0000  \n",
       "50946    6384.000000  21.0000  21.0000  \n",
       "39709    5267.000000  20.0000  20.0000  \n",
       "18337    6295.000000  19.0000  19.0000  \n",
       "70165    7613.000000  18.0000  18.0000  \n",
       "13574    4354.000000  17.0000  17.0000  \n",
       "34796    3891.000000  16.0000  16.0000  \n",
       "14008    3698.000000  15.0000  15.0000  \n",
       "8256     3698.000000  14.0000  14.0000  \n",
       "44651    3833.000000  13.0000  13.0000  \n",
       "42685    3634.000000  12.0000  12.0000  \n",
       "26798    3949.000000  11.0000  11.0000  \n",
       "25980    3633.000000  10.0000  10.0000  \n",
       "67977    4921.000000   9.0000   9.0000  \n",
       "38933    5567.000000   8.0000   8.0000  \n",
       "56062    3177.000000   7.0000   7.0000  \n",
       "78936    3047.000000   6.0000   6.0000  \n",
       "12556    3518.000000   5.0000   5.0000  \n",
       "31241    3047.000000   4.0000   4.0000  \n",
       "15910    3426.000000   3.0000   3.0000  \n",
       "26218    2397.000000   2.0000   2.0000  \n",
       "13850    2397.000000   1.0000   1.0000  \n",
       "...              ...      ...      ...  \n",
       "60751     391.578845   2.7748  -5.6777  \n",
       "21198     366.273742   2.7747  -5.7446  \n",
       "16031     353.376925   2.7746  -5.7805  \n",
       "73685     322.503742   2.7744  -5.8722  \n",
       "79795     322.503742   2.7744  -5.8722  \n",
       "14399     322.503742   2.7744  -5.8722  \n",
       "6578      322.503742   2.7744  -5.8722  \n",
       "99630     293.985979   2.7742  -5.9650  \n",
       "7274      273.464852   2.7740  -6.0375  \n",
       "84109     262.208280   2.7739  -6.0797  \n",
       "66047     258.415731   2.7738  -6.0943  \n",
       "88741     252.768187   2.7738  -6.1164  \n",
       "89345     249.250277   2.7737  -6.1305  \n",
       "75916     245.128608   2.7737  -6.1472  \n",
       "34763     223.948338   2.7734  -6.2379  \n",
       "34796    3891.340150   2.7365  -3.4197  \n",
       "37923    1109.243432   2.7541  -4.6572  \n",
       "42685    3634.761279   2.7208  -3.5036  \n",
       "44651    3833.580379   2.6672  -3.5039  \n",
       "75712     764.238487   2.6937  -5.0901  \n",
       "97281     764.238487   2.6937  -5.0901  \n",
       "58780     764.238487   2.6937  -5.0901  \n",
       "88300    1515.700960   2.4374  -4.6616  \n",
       "43836     515.112143   2.6227  -5.5556  \n",
       "91405     880.268106   2.2215  -5.4210  \n",
       "33683     932.419098   2.1797  -5.4052  \n",
       "81034     859.443800   2.2185  -5.4479  \n",
       "80677     998.745731   2.0588  -5.4574  \n",
       "28501     998.745731   2.0588  -5.4574  \n",
       "33175     998.745731   2.0588  -5.4574  \n",
       "\n",
       "[411 rows x 6 columns], token_table=       Topic      Freq                        Term\n",
       "term                                              \n",
       "81545      4  0.998690                          10\n",
       "64643      1  0.999143   1000_african_skull_racist\n",
       "81547      2  0.998496                          12\n",
       "13136      3  0.338483                           2\n",
       "13136      4  0.661136                           2\n",
       "32191      4  0.999107                          20\n",
       "26798      6  0.999723                        2011\n",
       "26796      5  0.999701                        2017\n",
       "69981      1  0.940885                     29_don���\n",
       "69981      2  0.038101                     29_don���\n",
       "69981      5  0.001574                     29_don���\n",
       "69981      6  0.018264                     29_don���\n",
       "69981     10  0.001260                     29_don���\n",
       "41185      1  0.999543                           3\n",
       "29037      4  0.999092                           4\n",
       "84187     10  0.997855                          50\n",
       "74079      3  0.999063                       70_��������\n",
       "82383      5  0.998467                           8\n",
       "22848      2  0.997224             actual_schedule\n",
       "53790      3  0.999479                    actually\n",
       "42685      2  0.054199   actually_feeling_grass_a���\n",
       "42685     10  0.945592   actually_feeling_grass_a���\n",
       "60916      5  0.998740        added_video_playlist\n",
       "55810      6  0.998604                     amazing\n",
       "27230      5  0.994040  america_trump_supporter_��������\n",
       "27230      6  0.005354  america_trump_supporter_��������\n",
       "27230      7  0.000595  america_trump_supporter_��������\n",
       "27230     10  0.000595  america_trump_supporter_��������\n",
       "4776       9  0.998051                    american\n",
       "38933      1  0.705392                         amp\n",
       "...      ...       ...                         ...\n",
       "5604       2  0.928076                      wo_cry\n",
       "5604       5  0.062467                      wo_cry\n",
       "5604       6  0.008924                      wo_cry\n",
       "57099      1  0.998182                       woman\n",
       "7236       8  0.999020                      wonder\n",
       "43922      8  0.997795                        word\n",
       "66897      7  0.998706                         wow\n",
       "24297      1  0.999728                wrong_people\n",
       "42646      2  0.999857                  wtf_create\n",
       "56231      4  0.999211                         yes\n",
       "40296      1  0.338382                       youre\n",
       "40296      3  0.656163                       youre\n",
       "40296      4  0.005150                       youre\n",
       "7608       7  0.998916       youre_lucky_make_feel\n",
       "33225      9  0.998585                           ���\n",
       "67816     10  0.998312                           ���\n",
       "8256      10  0.999589     ���_can���t_believe_they���re\n",
       "44651      2  0.101472                ���_ton_friend\n",
       "44651      3  0.000522                ���_ton_friend\n",
       "44651      7  0.001304                ���_ton_friend\n",
       "44651     10  0.896290                ���_ton_friend\n",
       "40916      2  0.999399          ���babe_weed_amp_gun\n",
       "70459      3  0.998971                           ���\n",
       "66938      3  0.999049                           ����\n",
       "12218      5  0.998392                           ����\n",
       "36463      1  0.940885                 ����_easy_call\n",
       "36463      2  0.038101                 ����_easy_call\n",
       "36463      5  0.001574                 ����_easy_call\n",
       "36463      6  0.018264                 ����_easy_call\n",
       "36463     10  0.001260                 ����_easy_call\n",
       "\n",
       "[544 rows x 3 columns], R=30, lambda_step=0.01, plot_opts={'xlab': 'PC1', 'ylab': 'PC2'}, topic_order=[4, 5, 7, 1, 9, 6, 3, 8, 2, 10])"
      ]
     },
     "execution_count": 78,
     "metadata": {},
     "output_type": "execute_result"
    }
   ],
   "source": [
    "data"
   ]
  },
  {
   "cell_type": "code",
   "execution_count": null,
   "metadata": {
    "collapsed": true
   },
   "outputs": [],
   "source": []
  },
  {
   "cell_type": "code",
   "execution_count": null,
   "metadata": {
    "collapsed": true
   },
   "outputs": [],
   "source": []
  }
 ],
 "metadata": {
  "kernelspec": {
   "display_name": "Python 2",
   "language": "python",
   "name": "python2"
  },
  "language_info": {
   "codemirror_mode": {
    "name": "ipython",
    "version": 2
   },
   "file_extension": ".py",
   "mimetype": "text/x-python",
   "name": "python",
   "nbconvert_exporter": "python",
   "pygments_lexer": "ipython2",
   "version": "2.7.13"
  }
 },
 "nbformat": 4,
 "nbformat_minor": 2
}
