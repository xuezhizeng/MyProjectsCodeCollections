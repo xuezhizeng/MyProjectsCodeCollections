{
 "cells": [
  {
   "cell_type": "code",
   "execution_count": 1,
   "metadata": {
    "collapsed": true
   },
   "outputs": [],
   "source": [
    "import os\n",
    "import sys\n",
    "import shutil\n",
    "from subprocess import call\n",
    "import requests\n"
   ]
  },
  {
   "cell_type": "code",
   "execution_count": 2,
   "metadata": {
    "collapsed": true
   },
   "outputs": [],
   "source": [
    "SS = \"https://storage.scrapinghub.com/items/276632/\";\n",
    "key = \"apikey=40ca9487a91348299af8280754d48cce\"\n",
    "cell = \"format=csv&fields=post_ID,comments,favor,views&include_headers=1s\"\n",
    "\n",
    "def api(ID, start, end):\n",
    "    ID, start, end = int(ID), int(start), int(end)\n",
    "    for i in range(start, end+1):\n",
    "        string = SS+str(i)+'?'+key+'&'+cell\n",
    "        call(['curl',string,'>','diary_'+str(ID)+'_'+str(i)+'.csv'])\n",
    "        \n",
    "    CSVs = [i for i in os.listdir('.') if i.startswith('diary_'+str(ID))]\n",
    "    for j in CSVs:\n",
    "        st = os.stat(j)\n",
    "        if st.st_size<1000:\n",
    "            shutil.move(j, 'archive/'+j)\n",
    "    \n",
    "        "
   ]
  },
  {
   "cell_type": "code",
   "execution_count": 3,
   "metadata": {
    "collapsed": true
   },
   "outputs": [],
   "source": [
    "from time import ctime"
   ]
  },
  {
   "cell_type": "code",
   "execution_count": 4,
   "metadata": {},
   "outputs": [
    {
     "data": {
      "text/plain": [
       "'Sun Feb 25 13:12:28 2018'"
      ]
     },
     "execution_count": 4,
     "metadata": {},
     "output_type": "execute_result"
    }
   ],
   "source": [
    "ctime()"
   ]
  },
  {
   "cell_type": "code",
   "execution_count": 5,
   "metadata": {},
   "outputs": [
    {
     "data": {
      "text/plain": [
       "'https://storage.scrapinghub.com/items/276632/9/13?apikey=40ca9487a91348299af8280754d48cce&format=csv&fields=post_ID,comments,favor,views&include_headers=1s'"
      ]
     },
     "execution_count": 5,
     "metadata": {},
     "output_type": "execute_result"
    }
   ],
   "source": [
    "rs = SS+'9/13?'+key+'&'+cell\n",
    "rs"
   ]
  },
  {
   "cell_type": "code",
   "execution_count": 6,
   "metadata": {},
   "outputs": [],
   "source": [
    "fh = requests.get(rs)"
   ]
  },
  {
   "cell_type": "code",
   "execution_count": 8,
   "metadata": {},
   "outputs": [
    {
     "data": {
      "text/plain": [
       "u'\"\",\"6\",\"0\",\"1946\"\\n\"\",\"6\",\"0\",\"1749\"\\n\"\",\"3\",\"0\",\"2362\"\\n\"\",\"1\",\"0\",\"2252\"\\n\"\",\"3\",\"0\",\"1232\"\\n\"\",\"4\",\"0\"'"
      ]
     },
     "execution_count": 8,
     "metadata": {},
     "output_type": "execute_result"
    }
   ],
   "source": [
    "fh.text[:100]"
   ]
  },
  {
   "cell_type": "code",
   "execution_count": null,
   "metadata": {
    "collapsed": true
   },
   "outputs": [],
   "source": []
  }
 ],
 "metadata": {
  "kernelspec": {
   "display_name": "Python 2",
   "language": "python",
   "name": "python2"
  },
  "language_info": {
   "codemirror_mode": {
    "name": "ipython",
    "version": 2
   },
   "file_extension": ".py",
   "mimetype": "text/x-python",
   "name": "python",
   "nbconvert_exporter": "python",
   "pygments_lexer": "ipython2",
   "version": "2.7.13"
  }
 },
 "nbformat": 4,
 "nbformat_minor": 2
}
