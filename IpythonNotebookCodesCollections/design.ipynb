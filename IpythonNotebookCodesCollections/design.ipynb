{
 "cells": [
  {
   "cell_type": "code",
   "execution_count": 47,
   "metadata": {
    "collapsed": true
   },
   "outputs": [],
   "source": [
    "import pandas as pd\n",
    "import json\n",
    "import requests\n",
    "import os"
   ]
  },
  {
   "cell_type": "code",
   "execution_count": 24,
   "metadata": {
    "collapsed": true
   },
   "outputs": [],
   "source": [
    "link = \"http://y.soyoung.com/yuehui/shop?district_id={}&menu1_id={}&sort=13&index={}\""
   ]
  },
  {
   "cell_type": "code",
   "execution_count": 17,
   "metadata": {},
   "outputs": [
    {
     "data": {
      "text/plain": [
       "'http://y.soyoung.com/yuehui/shop?district_id=1&menu1_id=9&sort=13&index={}'"
      ]
     },
     "execution_count": 17,
     "metadata": {},
     "output_type": "execute_result"
    }
   ],
   "source": [
    "link.format(1,'{}','{}').format(9,'{}')"
   ]
  },
  {
   "cell_type": "markdown",
   "metadata": {},
   "source": [
    "the totals are incremented by sum of all categories, if retrieved by \"all\", the actual number will be less (if total < 2000) else will be more (if total >2000)"
   ]
  },
  {
   "cell_type": "code",
   "execution_count": 6,
   "metadata": {},
   "outputs": [
    {
     "data": {
      "text/html": [
       "<div>\n",
       "<style scoped>\n",
       "    .dataframe tbody tr th:only-of-type {\n",
       "        vertical-align: middle;\n",
       "    }\n",
       "\n",
       "    .dataframe tbody tr th {\n",
       "        vertical-align: top;\n",
       "    }\n",
       "\n",
       "    .dataframe thead th {\n",
       "        text-align: right;\n",
       "    }\n",
       "</style>\n",
       "<table border=\"1\" class=\"dataframe\">\n",
       "  <thead>\n",
       "    <tr style=\"text-align: right;\">\n",
       "      <th></th>\n",
       "      <th>place_id</th>\n",
       "      <th>Place</th>\n",
       "      <th>total_products</th>\n",
       "    </tr>\n",
       "  </thead>\n",
       "  <tbody>\n",
       "    <tr>\n",
       "      <th>0</th>\n",
       "      <td>19</td>\n",
       "      <td>广东省</td>\n",
       "      <td>8579</td>\n",
       "    </tr>\n",
       "    <tr>\n",
       "      <th>1</th>\n",
       "      <td>1</td>\n",
       "      <td>北京</td>\n",
       "      <td>6781</td>\n",
       "    </tr>\n",
       "    <tr>\n",
       "      <th>2</th>\n",
       "      <td>17</td>\n",
       "      <td>湖北省</td>\n",
       "      <td>4406</td>\n",
       "    </tr>\n",
       "    <tr>\n",
       "      <th>3</th>\n",
       "      <td>9</td>\n",
       "      <td>上海</td>\n",
       "      <td>3995</td>\n",
       "    </tr>\n",
       "    <tr>\n",
       "      <th>4</th>\n",
       "      <td>10</td>\n",
       "      <td>江苏省</td>\n",
       "      <td>3942</td>\n",
       "    </tr>\n",
       "  </tbody>\n",
       "</table>\n",
       "</div>"
      ],
      "text/plain": [
       "   place_id Place  total_products\n",
       "0        19   广东省            8579\n",
       "1         1    北京            6781\n",
       "2        17   湖北省            4406\n",
       "3         9    上海            3995\n",
       "4        10   江苏省            3942"
      ]
     },
     "execution_count": 6,
     "metadata": {},
     "output_type": "execute_result"
    }
   ],
   "source": [
    "df = pd.read_excel('./province_stat.xlsx')\n",
    "df.head()"
   ]
  },
  {
   "cell_type": "code",
   "execution_count": 23,
   "metadata": {},
   "outputs": [
    {
     "data": {
      "text/html": [
       "<div>\n",
       "<style scoped>\n",
       "    .dataframe tbody tr th:only-of-type {\n",
       "        vertical-align: middle;\n",
       "    }\n",
       "\n",
       "    .dataframe tbody tr th {\n",
       "        vertical-align: top;\n",
       "    }\n",
       "\n",
       "    .dataframe thead th {\n",
       "        text-align: right;\n",
       "    }\n",
       "</style>\n",
       "<table border=\"1\" class=\"dataframe\">\n",
       "  <thead>\n",
       "    <tr style=\"text-align: right;\">\n",
       "      <th></th>\n",
       "      <th>place_id</th>\n",
       "      <th>Place</th>\n",
       "      <th>total_products</th>\n",
       "    </tr>\n",
       "  </thead>\n",
       "  <tbody>\n",
       "    <tr>\n",
       "      <th>31</th>\n",
       "      <td>33</td>\n",
       "      <td>香港特别行政区</td>\n",
       "      <td>150</td>\n",
       "    </tr>\n",
       "    <tr>\n",
       "      <th>32</th>\n",
       "      <td>29</td>\n",
       "      <td>青海省</td>\n",
       "      <td>99</td>\n",
       "    </tr>\n",
       "    <tr>\n",
       "      <th>33</th>\n",
       "      <td>561</td>\n",
       "      <td>日本</td>\n",
       "      <td>30</td>\n",
       "    </tr>\n",
       "    <tr>\n",
       "      <th>34</th>\n",
       "      <td>560</td>\n",
       "      <td>泰国</td>\n",
       "      <td>22</td>\n",
       "    </tr>\n",
       "    <tr>\n",
       "      <th>35</th>\n",
       "      <td>34</td>\n",
       "      <td>澳门特别行政区</td>\n",
       "      <td>21</td>\n",
       "    </tr>\n",
       "  </tbody>\n",
       "</table>\n",
       "</div>"
      ],
      "text/plain": [
       "    place_id    Place  total_products\n",
       "31        33  香港特别行政区             150\n",
       "32        29      青海省              99\n",
       "33       561       日本              30\n",
       "34       560       泰国              22\n",
       "35        34  澳门特别行政区              21"
      ]
     },
     "execution_count": 23,
     "metadata": {},
     "output_type": "execute_result"
    }
   ],
   "source": [
    "df.tail()"
   ]
  },
  {
   "cell_type": "code",
   "execution_count": 5,
   "metadata": {},
   "outputs": [],
   "source": [
    "df1 = df[df['total_products']>1500]\n",
    "df2 = df[df['total_products']<1500]"
   ]
  },
  {
   "cell_type": "code",
   "execution_count": 55,
   "metadata": {},
   "outputs": [
    {
     "name": "stdout",
     "output_type": "stream",
     "text": [
      "\n"
     ]
    }
   ],
   "source": [
    "def collect_json(link, place_id, small):\n",
    "    def one(index):\n",
    "        global collect\n",
    "        try:\n",
    "            products = json.loads(requests.get(link.format(index), timeout=3).text)['responseData']['product_info']\n",
    "            if len(products)==0:\n",
    "                try: \n",
    "                    if 0==len(json.loads(requests.get(link.format(index), timeout=3).text)['responseData']['product_info']):\n",
    "                        return\n",
    "                except:\n",
    "                    print '?',\n",
    "                    one(index)\n",
    "            \n",
    "\n",
    "            for product in products:\n",
    "                collect.append(product)\n",
    "                \n",
    "        except Exception as e:\n",
    "            print e\n",
    "            print 'X',\n",
    "            one(index)\n",
    "            \n",
    "    collect=[]    \n",
    "    link = link.format(place_id,'{}','{}')\n",
    "    if small:\n",
    "        index = 0\n",
    "        link = link.format(0,'{}')\n",
    "        \n",
    "        for i in range(180):\n",
    "            one(i)\n",
    "            \n",
    "    print(len(collect))\n",
    "    return pd.DataFrame(collect)"
   ]
  },
  {
   "cell_type": "code",
   "execution_count": 56,
   "metadata": {},
   "outputs": [
    {
     "data": {
      "text/plain": [
       "'http://y.soyoung.com/yuehui/shop?district_id={}&menu1_id={}&sort=13&index={}'"
      ]
     },
     "execution_count": 56,
     "metadata": {},
     "output_type": "execute_result"
    }
   ],
   "source": [
    "link"
   ]
  },
  {
   "cell_type": "code",
   "execution_count": 59,
   "metadata": {},
   "outputs": [],
   "source": [
    "# test = collect_json(link, 34, 1)"
   ]
  },
  {
   "cell_type": "code",
   "execution_count": 60,
   "metadata": {},
   "outputs": [
    {
     "name": "stdout",
     "output_type": "stream",
     "text": [
      "\n"
     ]
    }
   ],
   "source": [
    "class Collect(object):\n",
    "    def __init__(self, link, place_id, small):\n",
    "        self.link = link\n",
    "        self.place_id = place_id\n",
    "        self.small = small\n",
    "        self.collect = []\n",
    "        \n",
    "    def scrape(self, index):\n",
    "        \n",
    "        try:\n",
    "            products = json.loads(requests.get(link.format(index), timeout=3).text)['responseData']['product_info']\n",
    "            if len(products)==0:\n",
    "                try: \n",
    "                    if 0==len(json.loads(requests.get(link.format(index), timeout=3).text)['responseData']['product_info']):\n",
    "                        return\n",
    "                except:\n",
    "                    print '?',\n",
    "                    scrape(index)\n",
    "            \n",
    "\n",
    "            for product in products:\n",
    "                self.collect.append(product)\n",
    "                \n",
    "        except Exception as e:\n",
    "            print e\n",
    "            print 'X',\n",
    "            scrape(index)  \n",
    "            \n",
    "    def main():\n",
    "        link = self.link.format(place_id,'{}','{}')\n",
    "        if self.small:\n",
    "            index = 0\n",
    "            link = link.format(0,'{}')\n",
    "\n",
    "            for i in range(180):\n",
    "                scrape(i)\n",
    "\n",
    "        print(len(self.collect))\n",
    "        self.df = pd.DataFrame(collect)        \n",
    "        return self.df        \n",
    "        "
   ]
  },
  {
   "cell_type": "code",
   "execution_count": null,
   "metadata": {
    "collapsed": true
   },
   "outputs": [],
   "source": []
  },
  {
   "cell_type": "code",
   "execution_count": null,
   "metadata": {
    "collapsed": true
   },
   "outputs": [],
   "source": []
  },
  {
   "cell_type": "code",
   "execution_count": null,
   "metadata": {
    "collapsed": true
   },
   "outputs": [],
   "source": []
  },
  {
   "cell_type": "code",
   "execution_count": null,
   "metadata": {
    "collapsed": true
   },
   "outputs": [],
   "source": [
    "def collect_json(link, place_id, small):\n",
    "    def one(index):\n",
    "        global collect\n",
    "        try:\n",
    "            products = json.loads(requests.get(link.format(index), timeout=3).text)['responseData']['product_info']\n",
    "            if len(products)==0:\n",
    "                try: \n",
    "                    if 0==len(json.loads(requests.get(link.format(index), timeout=3).text)['responseData']['product_info']):\n",
    "                        return\n",
    "                except:\n",
    "                    print '?',\n",
    "                    one(index)\n",
    "            \n",
    "\n",
    "            for product in products:\n",
    "                collect.append(product)\n",
    "                \n",
    "        except Exception as e:\n",
    "            print e\n",
    "            print 'X',\n",
    "            one(index)\n",
    "            \n",
    "    collect=[]    \n",
    "    link = link.format(place_id,'{}','{}')\n",
    "    if small:\n",
    "        index = 0\n",
    "        link = link.format(0,'{}')\n",
    "        \n",
    "        for i in range(180):\n",
    "            one(i)\n",
    "            \n",
    "    print(len(collect))\n",
    "    return pd.DataFrame(collect)"
   ]
  }
 ],
 "metadata": {
  "kernelspec": {
   "display_name": "Python 2",
   "language": "python",
   "name": "python2"
  },
  "language_info": {
   "codemirror_mode": {
    "name": "ipython",
    "version": 2
   },
   "file_extension": ".py",
   "mimetype": "text/x-python",
   "name": "python",
   "nbconvert_exporter": "python",
   "pygments_lexer": "ipython2",
   "version": "2.7.13"
  }
 },
 "nbformat": 4,
 "nbformat_minor": 2
}
