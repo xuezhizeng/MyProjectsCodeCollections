{
 "cells": [
  {
   "cell_type": "code",
   "execution_count": 1,
   "metadata": {
    "collapsed": true
   },
   "outputs": [],
   "source": [
    "import pandas as pd\n",
    "from time import time"
   ]
  },
  {
   "cell_type": "code",
   "execution_count": 3,
   "metadata": {},
   "outputs": [
    {
     "name": "stdout",
     "output_type": "stream",
     "text": [
      "(210467, 10)\n",
      "CPU times: user 400 ms, sys: 20 ms, total: 420 ms\n",
      "Wall time: 420 ms\n"
     ]
    }
   ],
   "source": [
    "%%time\n",
    "df = pd.read_csv('post_url.csv')\n",
    "print df.shape"
   ]
  },
  {
   "cell_type": "code",
   "execution_count": 4,
   "metadata": {},
   "outputs": [
    {
     "data": {
      "text/html": [
       "<div>\n",
       "<style>\n",
       "    .dataframe thead tr:only-child th {\n",
       "        text-align: right;\n",
       "    }\n",
       "\n",
       "    .dataframe thead th {\n",
       "        text-align: left;\n",
       "    }\n",
       "\n",
       "    .dataframe tbody tr th {\n",
       "        vertical-align: top;\n",
       "    }\n",
       "</style>\n",
       "<table border=\"1\" class=\"dataframe\">\n",
       "  <thead>\n",
       "    <tr style=\"text-align: right;\">\n",
       "      <th></th>\n",
       "      <th>id</th>\n",
       "      <th>post_url</th>\n",
       "      <th>note</th>\n",
       "      <th>program_id</th>\n",
       "      <th>user_id</th>\n",
       "      <th>user_name</th>\n",
       "      <th>date</th>\n",
       "      <th>pic_num</th>\n",
       "      <th>rating</th>\n",
       "      <th>program_url</th>\n",
       "    </tr>\n",
       "  </thead>\n",
       "  <tbody>\n",
       "    <tr>\n",
       "      <th>0</th>\n",
       "      <td>607843</td>\n",
       "      <td>http://www.soyoung.com/p12360175</td>\n",
       "      <td>1</td>\n",
       "      <td>cp10000</td>\n",
       "      <td>u10040950</td>\n",
       "      <td>会说话的猫咪</td>\n",
       "      <td>2017-05-02 23:44:56</td>\n",
       "      <td>3</td>\n",
       "      <td>100%</td>\n",
       "      <td>http://y.soyoung.com/cp10000</td>\n",
       "    </tr>\n",
       "    <tr>\n",
       "      <th>1</th>\n",
       "      <td>607844</td>\n",
       "      <td>http://www.soyoung.com/p10127503</td>\n",
       "      <td>1</td>\n",
       "      <td>cp10000</td>\n",
       "      <td>u3884867</td>\n",
       "      <td>需要氧气缺氧ing</td>\n",
       "      <td>2016-12-04 10:03:22</td>\n",
       "      <td>1</td>\n",
       "      <td>100%</td>\n",
       "      <td>http://y.soyoung.com/cp10000</td>\n",
       "    </tr>\n",
       "    <tr>\n",
       "      <th>2</th>\n",
       "      <td>607845</td>\n",
       "      <td>http://www.soyoung.com/p7615001</td>\n",
       "      <td>1</td>\n",
       "      <td>cp10000</td>\n",
       "      <td>u3884867</td>\n",
       "      <td>需要氧气缺氧ing</td>\n",
       "      <td>2016-06-15 12:54:58</td>\n",
       "      <td>2</td>\n",
       "      <td>100%</td>\n",
       "      <td>http://y.soyoung.com/cp10000</td>\n",
       "    </tr>\n",
       "    <tr>\n",
       "      <th>3</th>\n",
       "      <td>607846</td>\n",
       "      <td>http://www.soyoung.com/p6941462</td>\n",
       "      <td>1</td>\n",
       "      <td>cp10000</td>\n",
       "      <td>u3345716</td>\n",
       "      <td>路心</td>\n",
       "      <td>2016-04-29 15:55:07</td>\n",
       "      <td>1</td>\n",
       "      <td>100%</td>\n",
       "      <td>http://y.soyoung.com/cp10000</td>\n",
       "    </tr>\n",
       "    <tr>\n",
       "      <th>4</th>\n",
       "      <td>607847</td>\n",
       "      <td>http://www.soyoung.com/p6316803</td>\n",
       "      <td>1</td>\n",
       "      <td>cp10000</td>\n",
       "      <td>u1783000</td>\n",
       "      <td>蛮大大</td>\n",
       "      <td>2016-03-16 23:29:25</td>\n",
       "      <td>2</td>\n",
       "      <td>100%</td>\n",
       "      <td>http://y.soyoung.com/cp10000</td>\n",
       "    </tr>\n",
       "  </tbody>\n",
       "</table>\n",
       "</div>"
      ],
      "text/plain": [
       "       id                          post_url  note program_id    user_id  \\\n",
       "0  607843  http://www.soyoung.com/p12360175     1    cp10000  u10040950   \n",
       "1  607844  http://www.soyoung.com/p10127503     1    cp10000   u3884867   \n",
       "2  607845   http://www.soyoung.com/p7615001     1    cp10000   u3884867   \n",
       "3  607846   http://www.soyoung.com/p6941462     1    cp10000   u3345716   \n",
       "4  607847   http://www.soyoung.com/p6316803     1    cp10000   u1783000   \n",
       "\n",
       "   user_name                 date  pic_num rating  \\\n",
       "0     会说话的猫咪  2017-05-02 23:44:56        3   100%   \n",
       "1  需要氧气缺氧ing  2016-12-04 10:03:22        1   100%   \n",
       "2  需要氧气缺氧ing  2016-06-15 12:54:58        2   100%   \n",
       "3         路心  2016-04-29 15:55:07        1   100%   \n",
       "4        蛮大大  2016-03-16 23:29:25        2   100%   \n",
       "\n",
       "                    program_url  \n",
       "0  http://y.soyoung.com/cp10000  \n",
       "1  http://y.soyoung.com/cp10000  \n",
       "2  http://y.soyoung.com/cp10000  \n",
       "3  http://y.soyoung.com/cp10000  \n",
       "4  http://y.soyoung.com/cp10000  "
      ]
     },
     "execution_count": 4,
     "metadata": {},
     "output_type": "execute_result"
    }
   ],
   "source": [
    "df.head()"
   ]
  },
  {
   "cell_type": "code",
   "execution_count": 17,
   "metadata": {},
   "outputs": [
    {
     "data": {
      "text/html": [
       "<div>\n",
       "<style>\n",
       "    .dataframe thead tr:only-child th {\n",
       "        text-align: right;\n",
       "    }\n",
       "\n",
       "    .dataframe thead th {\n",
       "        text-align: left;\n",
       "    }\n",
       "\n",
       "    .dataframe tbody tr th {\n",
       "        vertical-align: top;\n",
       "    }\n",
       "</style>\n",
       "<table border=\"1\" class=\"dataframe\">\n",
       "  <thead>\n",
       "    <tr style=\"text-align: right;\">\n",
       "      <th></th>\n",
       "      <th>id</th>\n",
       "      <th>post_url</th>\n",
       "      <th>note</th>\n",
       "      <th>program_id</th>\n",
       "      <th>user_id</th>\n",
       "      <th>user_name</th>\n",
       "      <th>date</th>\n",
       "      <th>pic_num</th>\n",
       "      <th>rating</th>\n",
       "      <th>program_url</th>\n",
       "    </tr>\n",
       "  </thead>\n",
       "  <tbody>\n",
       "    <tr>\n",
       "      <th>10000</th>\n",
       "      <td>617881</td>\n",
       "      <td>http://www.soyoung.com/p11930350</td>\n",
       "      <td>0</td>\n",
       "      <td>cp11832</td>\n",
       "      <td>u4295954</td>\n",
       "      <td>萱萱5761026583</td>\n",
       "      <td>2017-04-04 21:33:18</td>\n",
       "      <td>9</td>\n",
       "      <td>100%</td>\n",
       "      <td>http://y.soyoung.com/cp11832</td>\n",
       "    </tr>\n",
       "    <tr>\n",
       "      <th>10001</th>\n",
       "      <td>617882</td>\n",
       "      <td>http://www.soyoung.com/p11930054</td>\n",
       "      <td>0</td>\n",
       "      <td>cp11832</td>\n",
       "      <td>u4295954</td>\n",
       "      <td>萱萱5761026583</td>\n",
       "      <td>2017-04-04 21:08:22</td>\n",
       "      <td>9</td>\n",
       "      <td>100%</td>\n",
       "      <td>http://y.soyoung.com/cp11832</td>\n",
       "    </tr>\n",
       "    <tr>\n",
       "      <th>10002</th>\n",
       "      <td>617883</td>\n",
       "      <td>http://www.soyoung.com/p11907079</td>\n",
       "      <td>0</td>\n",
       "      <td>cp11832</td>\n",
       "      <td>u8770484</td>\n",
       "      <td>雪儿mermaid</td>\n",
       "      <td>2017-04-03 09:16:21</td>\n",
       "      <td>3</td>\n",
       "      <td>80%</td>\n",
       "      <td>http://y.soyoung.com/cp11832</td>\n",
       "    </tr>\n",
       "    <tr>\n",
       "      <th>10003</th>\n",
       "      <td>617884</td>\n",
       "      <td>http://www.soyoung.com/p11891498</td>\n",
       "      <td>0</td>\n",
       "      <td>cp11832</td>\n",
       "      <td>u9141669</td>\n",
       "      <td>氧气3845321476077662</td>\n",
       "      <td>2017-04-02 08:43:09</td>\n",
       "      <td>1</td>\n",
       "      <td>100%</td>\n",
       "      <td>http://y.soyoung.com/cp11832</td>\n",
       "    </tr>\n",
       "    <tr>\n",
       "      <th>10004</th>\n",
       "      <td>617885</td>\n",
       "      <td>http://www.soyoung.com/p11870445</td>\n",
       "      <td>0</td>\n",
       "      <td>cp11832</td>\n",
       "      <td>u2423762</td>\n",
       "      <td>旻曦</td>\n",
       "      <td>2017-03-31 22:54:30</td>\n",
       "      <td>9</td>\n",
       "      <td>100%</td>\n",
       "      <td>http://y.soyoung.com/cp11832</td>\n",
       "    </tr>\n",
       "  </tbody>\n",
       "</table>\n",
       "</div>"
      ],
      "text/plain": [
       "           id                          post_url  note program_id   user_id  \\\n",
       "10000  617881  http://www.soyoung.com/p11930350     0    cp11832  u4295954   \n",
       "10001  617882  http://www.soyoung.com/p11930054     0    cp11832  u4295954   \n",
       "10002  617883  http://www.soyoung.com/p11907079     0    cp11832  u8770484   \n",
       "10003  617884  http://www.soyoung.com/p11891498     0    cp11832  u9141669   \n",
       "10004  617885  http://www.soyoung.com/p11870445     0    cp11832  u2423762   \n",
       "\n",
       "                user_name                 date  pic_num rating  \\\n",
       "10000        萱萱5761026583  2017-04-04 21:33:18        9   100%   \n",
       "10001        萱萱5761026583  2017-04-04 21:08:22        9   100%   \n",
       "10002           雪儿mermaid  2017-04-03 09:16:21        3    80%   \n",
       "10003  氧气3845321476077662  2017-04-02 08:43:09        1   100%   \n",
       "10004                  旻曦  2017-03-31 22:54:30        9   100%   \n",
       "\n",
       "                        program_url  \n",
       "10000  http://y.soyoung.com/cp11832  \n",
       "10001  http://y.soyoung.com/cp11832  \n",
       "10002  http://y.soyoung.com/cp11832  \n",
       "10003  http://y.soyoung.com/cp11832  \n",
       "10004  http://y.soyoung.com/cp11832  "
      ]
     },
     "execution_count": 17,
     "metadata": {},
     "output_type": "execute_result"
    }
   ],
   "source": [
    "df.iloc[10000:10005,:]"
   ]
  },
  {
   "cell_type": "code",
   "execution_count": 5,
   "metadata": {},
   "outputs": [
    {
     "data": {
      "text/html": [
       "<div>\n",
       "<style>\n",
       "    .dataframe thead tr:only-child th {\n",
       "        text-align: right;\n",
       "    }\n",
       "\n",
       "    .dataframe thead th {\n",
       "        text-align: left;\n",
       "    }\n",
       "\n",
       "    .dataframe tbody tr th {\n",
       "        vertical-align: top;\n",
       "    }\n",
       "</style>\n",
       "<table border=\"1\" class=\"dataframe\">\n",
       "  <thead>\n",
       "    <tr style=\"text-align: right;\">\n",
       "      <th></th>\n",
       "      <th>id</th>\n",
       "      <th>post_url</th>\n",
       "      <th>note</th>\n",
       "      <th>program_id</th>\n",
       "      <th>user_id</th>\n",
       "      <th>user_name</th>\n",
       "      <th>date</th>\n",
       "      <th>pic_num</th>\n",
       "      <th>rating</th>\n",
       "      <th>program_url</th>\n",
       "    </tr>\n",
       "  </thead>\n",
       "  <tbody>\n",
       "    <tr>\n",
       "      <th>210462</th>\n",
       "      <td>856658</td>\n",
       "      <td>http://www.soyoung.com/p7588822</td>\n",
       "      <td>0</td>\n",
       "      <td>cp9971</td>\n",
       "      <td>u4429575</td>\n",
       "      <td>松叔_</td>\n",
       "      <td>2016-06-13 17:10:47</td>\n",
       "      <td>1</td>\n",
       "      <td>100%</td>\n",
       "      <td>NaN</td>\n",
       "    </tr>\n",
       "    <tr>\n",
       "      <th>210463</th>\n",
       "      <td>856659</td>\n",
       "      <td>http://www.soyoung.com/p7541014</td>\n",
       "      <td>0</td>\n",
       "      <td>cp9971</td>\n",
       "      <td>u7035823</td>\n",
       "      <td>A美丽不打折</td>\n",
       "      <td>2016-06-10 10:02:14</td>\n",
       "      <td>1</td>\n",
       "      <td>100%</td>\n",
       "      <td>NaN</td>\n",
       "    </tr>\n",
       "    <tr>\n",
       "      <th>210464</th>\n",
       "      <td>856660</td>\n",
       "      <td>http://www.soyoung.com/p7299775</td>\n",
       "      <td>0</td>\n",
       "      <td>cp9971</td>\n",
       "      <td>u6739646</td>\n",
       "      <td>小鱼儿1995</td>\n",
       "      <td>2016-05-24 15:32:40</td>\n",
       "      <td>2</td>\n",
       "      <td>100%</td>\n",
       "      <td>NaN</td>\n",
       "    </tr>\n",
       "    <tr>\n",
       "      <th>210465</th>\n",
       "      <td>856661</td>\n",
       "      <td>http://www.soyoung.com/p5680009</td>\n",
       "      <td>0</td>\n",
       "      <td>cp9971</td>\n",
       "      <td>u4400852</td>\n",
       "      <td>兔女郎呀sexy</td>\n",
       "      <td>2016-02-01 06:15:19</td>\n",
       "      <td>1</td>\n",
       "      <td>100%</td>\n",
       "      <td>NaN</td>\n",
       "    </tr>\n",
       "    <tr>\n",
       "      <th>210466</th>\n",
       "      <td>856662</td>\n",
       "      <td>http://www.soyoung.com/p3447210</td>\n",
       "      <td>0</td>\n",
       "      <td>cp9971</td>\n",
       "      <td>u2251018</td>\n",
       "      <td>王楠ico</td>\n",
       "      <td>2015-08-26 14:51:54</td>\n",
       "      <td>2</td>\n",
       "      <td>60%</td>\n",
       "      <td>NaN</td>\n",
       "    </tr>\n",
       "  </tbody>\n",
       "</table>\n",
       "</div>"
      ],
      "text/plain": [
       "            id                         post_url  note program_id   user_id  \\\n",
       "210462  856658  http://www.soyoung.com/p7588822     0     cp9971  u4429575   \n",
       "210463  856659  http://www.soyoung.com/p7541014     0     cp9971  u7035823   \n",
       "210464  856660  http://www.soyoung.com/p7299775     0     cp9971  u6739646   \n",
       "210465  856661  http://www.soyoung.com/p5680009     0     cp9971  u4400852   \n",
       "210466  856662  http://www.soyoung.com/p3447210     0     cp9971  u2251018   \n",
       "\n",
       "       user_name                 date  pic_num rating program_url  \n",
       "210462       松叔_  2016-06-13 17:10:47        1   100%         NaN  \n",
       "210463    A美丽不打折  2016-06-10 10:02:14        1   100%         NaN  \n",
       "210464   小鱼儿1995  2016-05-24 15:32:40        2   100%         NaN  \n",
       "210465  兔女郎呀sexy  2016-02-01 06:15:19        1   100%         NaN  \n",
       "210466     王楠ico  2015-08-26 14:51:54        2    60%         NaN  "
      ]
     },
     "execution_count": 5,
     "metadata": {},
     "output_type": "execute_result"
    }
   ],
   "source": [
    "df.tail()"
   ]
  },
  {
   "cell_type": "code",
   "execution_count": 18,
   "metadata": {},
   "outputs": [
    {
     "data": {
      "text/html": [
       "<div>\n",
       "<style>\n",
       "    .dataframe thead tr:only-child th {\n",
       "        text-align: right;\n",
       "    }\n",
       "\n",
       "    .dataframe thead th {\n",
       "        text-align: left;\n",
       "    }\n",
       "\n",
       "    .dataframe tbody tr th {\n",
       "        vertical-align: top;\n",
       "    }\n",
       "</style>\n",
       "<table border=\"1\" class=\"dataframe\">\n",
       "  <thead>\n",
       "    <tr style=\"text-align: right;\">\n",
       "      <th></th>\n",
       "      <th>id</th>\n",
       "      <th>post_url</th>\n",
       "      <th>note</th>\n",
       "      <th>program_id</th>\n",
       "      <th>user_id</th>\n",
       "      <th>user_name</th>\n",
       "      <th>date</th>\n",
       "      <th>pic_num</th>\n",
       "      <th>rating</th>\n",
       "      <th>program_url</th>\n",
       "    </tr>\n",
       "  </thead>\n",
       "  <tbody>\n",
       "    <tr>\n",
       "      <th>190827</th>\n",
       "      <td>799511</td>\n",
       "      <td>http://www.soyoung.com/p6757898</td>\n",
       "      <td>0</td>\n",
       "      <td>cp9200</td>\n",
       "      <td>u1876816</td>\n",
       "      <td>雅琴Helen</td>\n",
       "      <td>2016-04-16 20:26:04</td>\n",
       "      <td>91</td>\n",
       "      <td>100%</td>\n",
       "      <td>http://y.soyoung.com/cp9200</td>\n",
       "    </tr>\n",
       "  </tbody>\n",
       "</table>\n",
       "</div>"
      ],
      "text/plain": [
       "            id                         post_url  note program_id   user_id  \\\n",
       "190827  799511  http://www.soyoung.com/p6757898     0     cp9200  u1876816   \n",
       "\n",
       "       user_name                 date  pic_num rating  \\\n",
       "190827   雅琴Helen  2016-04-16 20:26:04       91   100%   \n",
       "\n",
       "                        program_url  \n",
       "190827  http://y.soyoung.com/cp9200  "
      ]
     },
     "execution_count": 18,
     "metadata": {},
     "output_type": "execute_result"
    }
   ],
   "source": [
    "df[df['pic_num']==df['pic_num'].max()]"
   ]
  },
  {
   "cell_type": "code",
   "execution_count": 10,
   "metadata": {},
   "outputs": [
    {
     "data": {
      "text/plain": [
       "4.166406134928516"
      ]
     },
     "execution_count": 10,
     "metadata": {},
     "output_type": "execute_result"
    }
   ],
   "source": [
    "df['pic_num'].mean()"
   ]
  },
  {
   "cell_type": "code",
   "execution_count": 21,
   "metadata": {},
   "outputs": [
    {
     "data": {
      "text/plain": [
       "421.50564193725586"
      ]
     },
     "execution_count": 21,
     "metadata": {},
     "output_type": "execute_result"
    }
   ],
   "source": [
    "df.shape[0]*4.2*500/1024/1024"
   ]
  },
  {
   "cell_type": "code",
   "execution_count": 19,
   "metadata": {},
   "outputs": [
    {
     "data": {
      "text/html": [
       "<div>\n",
       "<style>\n",
       "    .dataframe thead tr:only-child th {\n",
       "        text-align: right;\n",
       "    }\n",
       "\n",
       "    .dataframe thead th {\n",
       "        text-align: left;\n",
       "    }\n",
       "\n",
       "    .dataframe tbody tr th {\n",
       "        vertical-align: top;\n",
       "    }\n",
       "</style>\n",
       "<table border=\"1\" class=\"dataframe\">\n",
       "  <thead>\n",
       "    <tr style=\"text-align: right;\">\n",
       "      <th></th>\n",
       "      <th>id</th>\n",
       "      <th>post_url</th>\n",
       "      <th>note</th>\n",
       "      <th>program_id</th>\n",
       "      <th>user_id</th>\n",
       "      <th>user_name</th>\n",
       "      <th>date</th>\n",
       "      <th>pic_num</th>\n",
       "      <th>rating</th>\n",
       "      <th>program_url</th>\n",
       "    </tr>\n",
       "  </thead>\n",
       "  <tbody>\n",
       "    <tr>\n",
       "      <th>30173</th>\n",
       "      <td>638168</td>\n",
       "      <td>http://www.soyoung.com/p3623278</td>\n",
       "      <td>0</td>\n",
       "      <td>cp1728</td>\n",
       "      <td>u152065</td>\n",
       "      <td>Losecontrol</td>\n",
       "      <td>2015-09-08 01:59:59</td>\n",
       "      <td>70</td>\n",
       "      <td>100%</td>\n",
       "      <td>http://y.soyoung.com/cp1728</td>\n",
       "    </tr>\n",
       "    <tr>\n",
       "      <th>76341</th>\n",
       "      <td>684558</td>\n",
       "      <td>http://www.soyoung.com/p12220513</td>\n",
       "      <td>0</td>\n",
       "      <td>cp31432</td>\n",
       "      <td>u1584417</td>\n",
       "      <td>我要混血童颜</td>\n",
       "      <td>2017-04-23 21:06:05</td>\n",
       "      <td>68</td>\n",
       "      <td>100%</td>\n",
       "      <td>http://y.soyoung.com/cp31432</td>\n",
       "    </tr>\n",
       "    <tr>\n",
       "      <th>147363</th>\n",
       "      <td>755857</td>\n",
       "      <td>http://www.soyoung.com/p3187061</td>\n",
       "      <td>0</td>\n",
       "      <td>cp59625</td>\n",
       "      <td>u1680640</td>\n",
       "      <td>轰叔l</td>\n",
       "      <td>2015-08-14 11:58:30</td>\n",
       "      <td>76</td>\n",
       "      <td>100%</td>\n",
       "      <td>http://y.soyoung.com/cp59625</td>\n",
       "    </tr>\n",
       "    <tr>\n",
       "      <th>171818</th>\n",
       "      <td>780434</td>\n",
       "      <td>http://www.soyoung.com/p3020002</td>\n",
       "      <td>0</td>\n",
       "      <td>cp7362</td>\n",
       "      <td>u136927</td>\n",
       "      <td>兔子君の</td>\n",
       "      <td>2015-08-02 17:07:33</td>\n",
       "      <td>84</td>\n",
       "      <td>100%</td>\n",
       "      <td>http://y.soyoung.com/cp7362</td>\n",
       "    </tr>\n",
       "    <tr>\n",
       "      <th>187890</th>\n",
       "      <td>796562</td>\n",
       "      <td>http://www.soyoung.com/p3018388</td>\n",
       "      <td>0</td>\n",
       "      <td>cp8867</td>\n",
       "      <td>u167565</td>\n",
       "      <td>凌波仙子</td>\n",
       "      <td>2015-08-02 14:17:10</td>\n",
       "      <td>86</td>\n",
       "      <td>100%</td>\n",
       "      <td>http://y.soyoung.com/cp8867</td>\n",
       "    </tr>\n",
       "    <tr>\n",
       "      <th>190827</th>\n",
       "      <td>799511</td>\n",
       "      <td>http://www.soyoung.com/p6757898</td>\n",
       "      <td>0</td>\n",
       "      <td>cp9200</td>\n",
       "      <td>u1876816</td>\n",
       "      <td>雅琴Helen</td>\n",
       "      <td>2016-04-16 20:26:04</td>\n",
       "      <td>91</td>\n",
       "      <td>100%</td>\n",
       "      <td>http://y.soyoung.com/cp9200</td>\n",
       "    </tr>\n",
       "  </tbody>\n",
       "</table>\n",
       "</div>"
      ],
      "text/plain": [
       "            id                          post_url  note program_id   user_id  \\\n",
       "30173   638168   http://www.soyoung.com/p3623278     0     cp1728   u152065   \n",
       "76341   684558  http://www.soyoung.com/p12220513     0    cp31432  u1584417   \n",
       "147363  755857   http://www.soyoung.com/p3187061     0    cp59625  u1680640   \n",
       "171818  780434   http://www.soyoung.com/p3020002     0     cp7362   u136927   \n",
       "187890  796562   http://www.soyoung.com/p3018388     0     cp8867   u167565   \n",
       "190827  799511   http://www.soyoung.com/p6757898     0     cp9200  u1876816   \n",
       "\n",
       "          user_name                 date  pic_num rating  \\\n",
       "30173   Losecontrol  2015-09-08 01:59:59       70   100%   \n",
       "76341        我要混血童颜  2017-04-23 21:06:05       68   100%   \n",
       "147363          轰叔l  2015-08-14 11:58:30       76   100%   \n",
       "171818         兔子君の  2015-08-02 17:07:33       84   100%   \n",
       "187890         凌波仙子  2015-08-02 14:17:10       86   100%   \n",
       "190827      雅琴Helen  2016-04-16 20:26:04       91   100%   \n",
       "\n",
       "                         program_url  \n",
       "30173    http://y.soyoung.com/cp1728  \n",
       "76341   http://y.soyoung.com/cp31432  \n",
       "147363  http://y.soyoung.com/cp59625  \n",
       "171818   http://y.soyoung.com/cp7362  \n",
       "187890   http://y.soyoung.com/cp8867  \n",
       "190827   http://y.soyoung.com/cp9200  "
      ]
     },
     "execution_count": 19,
     "metadata": {},
     "output_type": "execute_result"
    }
   ],
   "source": [
    "df[df['pic_num']>50]"
   ]
  },
  {
   "cell_type": "code",
   "execution_count": 39,
   "metadata": {},
   "outputs": [
    {
     "data": {
      "text/plain": [
       "<matplotlib.axes._subplots.AxesSubplot at 0x7f12f89d7450>"
      ]
     },
     "execution_count": 39,
     "metadata": {},
     "output_type": "execute_result"
    }
   ],
   "source": [
    "df['pic_num'].hist(bins=50)"
   ]
  },
  {
   "cell_type": "code",
   "execution_count": 24,
   "metadata": {
    "collapsed": true
   },
   "outputs": [],
   "source": [
    "import matplotlib.pyplot as plt"
   ]
  },
  {
   "cell_type": "code",
   "execution_count": 40,
   "metadata": {},
   "outputs": [
    {
     "data": {
      "image/png": "[encoded data removed]",
      "text/plain": [
       "<matplotlib.figure.Figure at 0x7f12f88c45d0>"
      ]
     },
     "metadata": {},
     "output_type": "display_data"
    }
   ],
   "source": [
    "plt.show()"
   ]
  },
  {
   "cell_type": "code",
   "execution_count": 41,
   "metadata": {},
   "outputs": [
    {
     "data": {
      "text/plain": [
       "1     41447\n",
       "5     33936\n",
       "3     30039\n",
       "6     28566\n",
       "2     25547\n",
       "4     17778\n",
       "9     17546\n",
       "7      8050\n",
       "8      5724\n",
       "10      718\n",
       "11      247\n",
       "12      211\n",
       "0       130\n",
       "13      103\n",
       "14       90\n",
       "15       65\n",
       "16       46\n",
       "18       38\n",
       "17       34\n",
       "19       24\n",
       "21       21\n",
       "20       19\n",
       "22       18\n",
       "24       11\n",
       "25        9\n",
       "26        6\n",
       "27        6\n",
       "23        6\n",
       "29        4\n",
       "32        4\n",
       "35        2\n",
       "36        2\n",
       "28        2\n",
       "30        2\n",
       "42        2\n",
       "50        1\n",
       "68        1\n",
       "84        1\n",
       "70        1\n",
       "76        1\n",
       "47        1\n",
       "86        1\n",
       "39        1\n",
       "38        1\n",
       "37        1\n",
       "34        1\n",
       "33        1\n",
       "31        1\n",
       "91        1\n",
       "Name: pic_num, dtype: int64"
      ]
     },
     "execution_count": 41,
     "metadata": {},
     "output_type": "execute_result"
    }
   ],
   "source": [
    "df['pic_num'].value_counts()"
   ]
  },
  {
   "cell_type": "code",
   "execution_count": 43,
   "metadata": {},
   "outputs": [
    {
     "data": {
      "text/plain": [
       "210467"
      ]
     },
     "execution_count": 43,
     "metadata": {},
     "output_type": "execute_result"
    }
   ],
   "source": [
    "df.id.count()"
   ]
  },
  {
   "cell_type": "code",
   "execution_count": 47,
   "metadata": {},
   "outputs": [
    {
     "data": {
      "text/plain": [
       "210467"
      ]
     },
     "execution_count": 47,
     "metadata": {},
     "output_type": "execute_result"
    }
   ],
   "source": [
    "len(df.id.unique())"
   ]
  },
  {
   "cell_type": "code",
   "execution_count": 48,
   "metadata": {},
   "outputs": [
    {
     "data": {
      "text/plain": [
       "876891L"
      ]
     },
     "execution_count": 48,
     "metadata": {},
     "output_type": "execute_result"
    }
   ],
   "source": [
    "df['pic_num'].sum()"
   ]
  },
  {
   "cell_type": "code",
   "execution_count": 50,
   "metadata": {},
   "outputs": [
    {
     "data": {
      "text/plain": [
       "8768.91"
      ]
     },
     "execution_count": 50,
     "metadata": {},
     "output_type": "execute_result"
    }
   ],
   "source": [
    "876891/100.0"
   ]
  },
  {
   "cell_type": "code",
   "execution_count": null,
   "metadata": {
    "collapsed": true
   },
   "outputs": [],
   "source": []
  }
 ],
 "metadata": {
  "kernelspec": {
   "display_name": "Python 2",
   "language": "python",
   "name": "python2"
  },
  "language_info": {
   "codemirror_mode": {
    "name": "ipython",
    "version": 2
   },
   "file_extension": ".py",
   "mimetype": "text/x-python",
   "name": "python",
   "nbconvert_exporter": "python",
   "pygments_lexer": "ipython2",
   "version": "2.7.13"
  }
 },
 "nbformat": 4,
 "nbformat_minor": 2
}
