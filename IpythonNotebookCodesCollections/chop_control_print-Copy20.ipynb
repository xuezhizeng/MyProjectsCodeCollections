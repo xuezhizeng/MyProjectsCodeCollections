{
 "cells": [
  {
   "cell_type": "code",
   "execution_count": 1,
   "metadata": {
    "collapsed": true
   },
   "outputs": [],
   "source": [
    "# !ls"
   ]
  },
  {
   "cell_type": "code",
   "execution_count": 1,
   "metadata": {
    "scrolled": true
   },
   "outputs": [
    {
     "name": "stdout",
     "output_type": "stream",
     "text": [
      "1 used 0.00 s | 100 used 38.98 s | 200 used 82.47 s | 300 used 126.63 s | 400 used 168.32 s | 500 used 210.02 s | 600 used 253.07 s | 700 used 294.65 s | 800 used 337.31 s | 900 used 380.50 s | 1000 used 421.98 s | 1100 used 465.74 s | 1200 used 508.46 s | 1300 used 549.22 s | 1400 used 594.39 s | 1500 used 637.68 s | 1600 used 689.45 s | 1700 used 748.06 s | 1800 used 805.76 s | 1900 used 866.89 s | 2000 used 926.28 s | 2100 used 982.62 s | 2200 used 1038.39 s | 2300 used 1095.54 s | 2400 used 1156.56 s | 2500 used 1217.75 s | 2600 used 1277.10 s | 2700 used 1336.02 s | 2800 used 1393.56 s | 2900 used 1452.77 s | 3000 used 1510.24 s | 3100 used 1567.77 s | 3200 used 1627.37 s | 3300 used 1686.50 s | 3400 used 1746.27 s | 3500 used 1804.31 s | 3600 used 1864.10 s | 3700 used 1920.37 s | 3800 used 1980.02 s | 3900 used 2042.74 s | 4000 used 2102.73 s | 4100 used 2159.22 s | 4200 used 2216.27 s | 4300 used 2272.82 s | 4400 used 2331.74 s | 4500 used 2390.66 s | 4600 used 2451.68 s | 4700 used 2509.17 s | 4800 used 2568.21 s | 4900 used 2629.47 s | 5000 used 2690.31 s | 5100 used 2745.43 s | 5200 used 2800.97 s | 5300 used 2859.82 s | 5400 used 2921.13 s | 5500 used 2981.93 s | 5600 used 3046.23 s | 5700 used 3101.64 s | 5800 used 3156.25 s | 5900 used 3215.12 s | 6000 used 3270.52 s | 6100 used 3329.83 s | 6200 used 3386.66 s | 6300 used 3443.94 s | 6400 used 3503.93 s | 6500 used 3566.00 s | 6600 used 3623.76 s | 6700 used 3680.48 s | 6800 used 3736.71 s | 6900 used 3795.82 s | 7000 used 3853.80 s | 7100 used 3907.91 s | 7200 used 3962.66 s | 7300 used 4015.65 s | 7400 used 4074.77 s | 7500 used 4133.51 s | 7600 used 4192.76 s | 7700 used 4249.87 s | 7800 used 4308.73 s | 7900 used 4366.80 s | 8000 used 4425.24 s | 8100 used 4483.02 s | 8200 used 4539.75 s | 8300 used 4598.24 s | 8400 used 4658.51 s | 8500 used 4716.98 s | 8600 used 4774.71 s | 8700 used 4831.49 s | 8800 used 4888.76 s | 8900 used 4948.55 s | 9000 used 5004.42 s | 9100 used 5062.96 s | 9200 used 5125.49 s | 9300 used 5188.43 s | 9400 used 5244.05 s | 9500 used 5304.68 s | 9600 used 5367.66 s | 9700 used 5427.25 s | 9800 used 5487.55 s | 9900 used 5546.57 s |\n"
     ]
    },
    {
     "data": {
      "text/plain": [
       "5595.995318174362"
      ]
     },
     "execution_count": 1,
     "metadata": {},
     "output_type": "execute_result"
    }
   ],
   "source": [
    "from time import time\n",
    "start=time()\n",
    "start\n",
    "\n",
    "\n",
    "!python -u /root/openface/util/align-dlib_mod.py \\\n",
    "../real_soyoung_pics/img_24 align \\\n",
    "outerEyesAndNose \\\n",
    "../chopHead256_real_soyoung_pics \\\n",
    "--size 256\n",
    "\n",
    "end=time()-start\n",
    "end"
   ]
  },
  {
   "cell_type": "code",
   "execution_count": null,
   "metadata": {
    "collapsed": true
   },
   "outputs": [],
   "source": []
  }
 ],
 "metadata": {
  "kernelspec": {
   "display_name": "Python 2",
   "language": "python",
   "name": "python2"
  },
  "language_info": {
   "codemirror_mode": {
    "name": "ipython",
    "version": 2
   },
   "file_extension": ".py",
   "mimetype": "text/x-python",
   "name": "python",
   "nbconvert_exporter": "python",
   "pygments_lexer": "ipython2",
   "version": "2.7.6"
  }
 },
 "nbformat": 4,
 "nbformat_minor": 2
}
