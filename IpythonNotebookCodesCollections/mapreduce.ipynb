{
 "cells": [
  {
   "cell_type": "code",
   "execution_count": 1,
   "metadata": {
    "collapsed": true
   },
   "outputs": [],
   "source": [
    "import pandas as pd\n",
    "import numpy as np\n",
    "from __future__ import division"
   ]
  },
  {
   "cell_type": "markdown",
   "metadata": {},
   "source": [
    "https://people.duke.edu/~ccc14/sta-663/DistributedComputing.html#the-hadoop-mapreduce-workflow"
   ]
  },
  {
   "cell_type": "code",
   "execution_count": 2,
   "metadata": {},
   "outputs": [
    {
     "data": {
      "text/plain": [
       "[['a', 1],\n",
       " ['a', 1],\n",
       " ['b', 1],\n",
       " ['a', 1],\n",
       " ['a', 1],\n",
       " ['b', 1],\n",
       " ['c', 1],\n",
       " ['d', 1],\n",
       " ['e', 1],\n",
       " ['d', 1],\n",
       " ['a', 1]]"
      ]
     },
     "execution_count": 2,
     "metadata": {},
     "output_type": "execute_result"
    }
   ],
   "source": [
    "s = 'aabaabcdeda'\n",
    "xs = map(lambda x: [x, 1], s)\n",
    "xs"
   ]
  },
  {
   "cell_type": "code",
   "execution_count": 3,
   "metadata": {},
   "outputs": [
    {
     "data": {
      "text/plain": [
       "[['a', 1],\n",
       " ['a', 1],\n",
       " ['a', 1],\n",
       " ['a', 1],\n",
       " ['a', 1],\n",
       " ['b', 1],\n",
       " ['b', 1],\n",
       " ['c', 1],\n",
       " ['d', 1],\n",
       " ['d', 1],\n",
       " ['e', 1]]"
      ]
     },
     "execution_count": 3,
     "metadata": {},
     "output_type": "execute_result"
    }
   ],
   "source": [
    "xs = sorted(xs)\n",
    "xs"
   ]
  },
  {
   "cell_type": "code",
   "execution_count": 4,
   "metadata": {},
   "outputs": [
    {
     "data": {
      "text/plain": [
       "[['a', [1, 1, 1, 1, 1]], ['b', [1, 1]], ['c', [1]], ['d', [1, 1]], ['e', [1]]]"
      ]
     },
     "execution_count": 4,
     "metadata": {},
     "output_type": "execute_result"
    }
   ],
   "source": [
    "ys = []\n",
    "seen = []\n",
    "for x in xs:\n",
    "    if x[0] not in seen:\n",
    "        seen.append(x[0])\n",
    "        ys.append([x[0], [x[1]]])\n",
    "    else:\n",
    "        ys[-1][1].append(x[1])\n",
    "ys"
   ]
  },
  {
   "cell_type": "code",
   "execution_count": 5,
   "metadata": {},
   "outputs": [],
   "source": [
    "from operator import add, itemgetter\n"
   ]
  },
  {
   "cell_type": "code",
   "execution_count": 6,
   "metadata": {},
   "outputs": [
    {
     "name": "stdout",
     "output_type": "stream",
     "text": [
      "a 5\n",
      "b 2\n",
      "c 1\n",
      "d 2\n",
      "e 1\n"
     ]
    }
   ],
   "source": [
    "for y in ys:\n",
    "    print y[0], reduce(add, y[1])"
   ]
  },
  {
   "cell_type": "code",
   "execution_count": 7,
   "metadata": {},
   "outputs": [
    {
     "name": "stdout",
     "output_type": "stream",
     "text": [
      "a 5\n",
      "b 2\n",
      "c 1\n",
      "d 2\n",
      "e 1\n"
     ]
    }
   ],
   "source": [
    "for y in ys:\n",
    "    print y[0], reduce(lambda x,y:x+y, y[1])"
   ]
  },
  {
   "cell_type": "markdown",
   "metadata": {},
   "source": [
    "___"
   ]
  },
  {
   "cell_type": "code",
   "execution_count": 8,
   "metadata": {},
   "outputs": [
    {
     "name": "stdout",
     "output_type": "stream",
     "text": [
      "(12, 3)\n"
     ]
    },
    {
     "data": {
      "text/plain": [
       "array([[15,  2, 19],\n",
       "       [14,  1,  9],\n",
       "       [ 6, 13, 16],\n",
       "       [ 7,  3,  6],\n",
       "       [ 7,  9,  9],\n",
       "       [ 8, 18,  8],\n",
       "       [12,  1,  2],\n",
       "       [ 5,  6, 12],\n",
       "       [17,  7, 19],\n",
       "       [ 1, 19, 12],\n",
       "       [ 7,  1, 18],\n",
       "       [16,  1, 16]])"
      ]
     },
     "execution_count": 8,
     "metadata": {},
     "output_type": "execute_result"
    }
   ],
   "source": [
    "l = np.random.randint(1,20,[12,3])\n",
    "print l.shape\n",
    "l"
   ]
  },
  {
   "cell_type": "code",
   "execution_count": 9,
   "metadata": {},
   "outputs": [
    {
     "data": {
      "text/plain": [
       "array([[15],\n",
       "       [14],\n",
       "       [ 6],\n",
       "       [ 7],\n",
       "       [ 7],\n",
       "       [ 8],\n",
       "       [12],\n",
       "       [ 5],\n",
       "       [17],\n",
       "       [ 1],\n",
       "       [ 7],\n",
       "       [16]])"
      ]
     },
     "execution_count": 9,
     "metadata": {},
     "output_type": "execute_result"
    }
   ],
   "source": [
    "l[:,[0]]"
   ]
  },
  {
   "cell_type": "code",
   "execution_count": 10,
   "metadata": {},
   "outputs": [
    {
     "data": {
      "text/plain": [
       "array([[ 2, 19],\n",
       "       [ 1,  9],\n",
       "       [13, 16],\n",
       "       [ 3,  6],\n",
       "       [ 9,  9],\n",
       "       [18,  8],\n",
       "       [ 1,  2],\n",
       "       [ 6, 12],\n",
       "       [ 7, 19],\n",
       "       [19, 12],\n",
       "       [ 1, 18],\n",
       "       [ 1, 16]])"
      ]
     },
     "execution_count": 10,
     "metadata": {},
     "output_type": "execute_result"
    }
   ],
   "source": [
    "l[:,1:]"
   ]
  },
  {
   "cell_type": "markdown",
   "metadata": {},
   "source": [
    "### name, cat, quant, price"
   ]
  },
  {
   "cell_type": "markdown",
   "metadata": {},
   "source": [
    "walk through一个mapreduce问题，一组数据，四个columns: name, category, # of transactions in 2014, dollar values of transaction in 2014，需要知道每个category的average dollar values per transaction，怎么用mapreduce做，其实就specify一下mapper和reducer的input和output，然后在reducer里求一下平均值什么的"
   ]
  },
  {
   "cell_type": "code",
   "execution_count": 11,
   "metadata": {},
   "outputs": [
    {
     "data": {
      "text/plain": [
       "array([[15,  0,  2, 19],\n",
       "       [14,  0,  1,  9],\n",
       "       [ 6,  1, 13, 16],\n",
       "       [ 7,  1,  3,  6],\n",
       "       [ 7,  0,  9,  9],\n",
       "       [ 8,  1, 18,  8],\n",
       "       [12,  0,  1,  2],\n",
       "       [ 5,  1,  6, 12],\n",
       "       [17,  0,  7, 19],\n",
       "       [ 1,  0, 19, 12],\n",
       "       [ 7,  0,  1, 18],\n",
       "       [16,  0,  1, 16]])"
      ]
     },
     "execution_count": 11,
     "metadata": {},
     "output_type": "execute_result"
    }
   ],
   "source": [
    "data = np.hstack([l[:,[0]],np.random.randint(0,2,[12,1]), l[:,1:]])\n",
    "data"
   ]
  },
  {
   "cell_type": "code",
   "execution_count": 74,
   "metadata": {},
   "outputs": [],
   "source": [
    "mapper = lambda x: {str(x[1]): x[3]/x[2]}"
   ]
  },
  {
   "cell_type": "code",
   "execution_count": 75,
   "metadata": {},
   "outputs": [
    {
     "data": {
      "text/plain": [
       "[{'0': 9.5},\n",
       " {'0': 9.0},\n",
       " {'1': 1.2307692307692308},\n",
       " {'1': 2.0},\n",
       " {'0': 1.0},\n",
       " {'1': 0.4444444444444444},\n",
       " {'0': 2.0},\n",
       " {'1': 2.0},\n",
       " {'0': 2.7142857142857144},\n",
       " {'0': 0.631578947368421},\n",
       " {'0': 18.0},\n",
       " {'0': 16.0}]"
      ]
     },
     "execution_count": 75,
     "metadata": {},
     "output_type": "execute_result"
    }
   ],
   "source": [
    "m = map(mapper, data)\n",
    "m"
   ]
  },
  {
   "cell_type": "code",
   "execution_count": 76,
   "metadata": {},
   "outputs": [],
   "source": [
    "# np.array(map(mapper, data)).sum(0)"
   ]
  },
  {
   "cell_type": "code",
   "execution_count": 77,
   "metadata": {},
   "outputs": [
    {
     "data": {
      "text/plain": [
       "[{'0': 0.631578947368421},\n",
       " {'0': 1.0},\n",
       " {'0': 2.0},\n",
       " {'0': 2.7142857142857144},\n",
       " {'0': 9.0},\n",
       " {'0': 9.5},\n",
       " {'0': 16.0},\n",
       " {'0': 18.0},\n",
       " {'1': 0.4444444444444444},\n",
       " {'1': 1.2307692307692308},\n",
       " {'1': 2.0},\n",
       " {'1': 2.0}]"
      ]
     },
     "execution_count": 77,
     "metadata": {},
     "output_type": "execute_result"
    }
   ],
   "source": [
    "sorted(m)"
   ]
  },
  {
   "cell_type": "markdown",
   "metadata": {},
   "source": [
    "http://www.pythoner.com/46.html"
   ]
  },
  {
   "cell_type": "markdown",
   "metadata": {},
   "source": [
    "https://www.youtube.com/watch?v=ZrZ6vJGiE8I"
   ]
  },
  {
   "cell_type": "code",
   "execution_count": 81,
   "metadata": {},
   "outputs": [
    {
     "data": {
      "text/plain": [
       "9.5"
      ]
     },
     "execution_count": 81,
     "metadata": {},
     "output_type": "execute_result"
    }
   ],
   "source": [
    "m[0]['0']"
   ]
  },
  {
   "cell_type": "code",
   "execution_count": 85,
   "metadata": {
    "collapsed": true
   },
   "outputs": [],
   "source": [
    "def reducer(acc, val):\n",
    "    try:\n",
    "        return acc+val['1']\n",
    "    except:\n",
    "        return acc"
   ]
  },
  {
   "cell_type": "code",
   "execution_count": 89,
   "metadata": {},
   "outputs": [
    {
     "data": {
      "text/plain": [
       "5.6752136752136755"
      ]
     },
     "execution_count": 89,
     "metadata": {},
     "output_type": "execute_result"
    }
   ],
   "source": [
    "reduce(reducer, m, 0)"
   ]
  },
  {
   "cell_type": "code",
   "execution_count": 90,
   "metadata": {},
   "outputs": [
    {
     "data": {
      "text/plain": [
       "[{'0': 9.5},\n",
       " {'0': 9.0},\n",
       " {'1': 1.2307692307692308},\n",
       " {'1': 2.0},\n",
       " {'0': 1.0},\n",
       " {'1': 0.4444444444444444},\n",
       " {'0': 2.0},\n",
       " {'1': 2.0},\n",
       " {'0': 2.7142857142857144},\n",
       " {'0': 0.631578947368421},\n",
       " {'0': 18.0},\n",
       " {'0': 16.0}]"
      ]
     },
     "execution_count": 90,
     "metadata": {},
     "output_type": "execute_result"
    }
   ],
   "source": [
    "m"
   ]
  },
  {
   "cell_type": "code",
   "execution_count": 106,
   "metadata": {},
   "outputs": [
    {
     "data": {
      "text/plain": [
       "{'0': 0, '1': 0}"
      ]
     },
     "execution_count": 106,
     "metadata": {},
     "output_type": "execute_result"
    }
   ],
   "source": [
    "p = {'0':0,'1':0}\n",
    "p"
   ]
  },
  {
   "cell_type": "code",
   "execution_count": 118,
   "metadata": {},
   "outputs": [
    {
     "data": {
      "text/plain": [
       "('1', 0)"
      ]
     },
     "execution_count": 118,
     "metadata": {},
     "output_type": "execute_result"
    }
   ],
   "source": [
    "p.items()[0]"
   ]
  },
  {
   "cell_type": "markdown",
   "metadata": {},
   "source": [
    "### acc: accumulator  \n",
    "### val: value"
   ]
  },
  {
   "cell_type": "code",
   "execution_count": 122,
   "metadata": {
    "collapsed": true
   },
   "outputs": [],
   "source": [
    "from collections import defaultdict"
   ]
  },
  {
   "cell_type": "code",
   "execution_count": 119,
   "metadata": {
    "collapsed": true
   },
   "outputs": [],
   "source": [
    "def reducer2(acc, val):\n",
    "    key, value = val.items()[0]\n",
    "    acc[key]+=value\n",
    "    return acc"
   ]
  },
  {
   "cell_type": "code",
   "execution_count": 123,
   "metadata": {},
   "outputs": [
    {
     "data": {
      "text/plain": [
       "defaultdict(int, {'0': 67.84586466165413, '1': 5.6752136752136755})"
      ]
     },
     "execution_count": 123,
     "metadata": {},
     "output_type": "execute_result"
    }
   ],
   "source": [
    "reduce(reducer2, m, defaultdict(int))"
   ]
  },
  {
   "cell_type": "code",
   "execution_count": null,
   "metadata": {
    "collapsed": true
   },
   "outputs": [],
   "source": []
  },
  {
   "cell_type": "code",
   "execution_count": 142,
   "metadata": {},
   "outputs": [],
   "source": [
    "def fun(choose, x, y):\n",
    "    return {'add': lambda:x+y,'fuck': lambda: x**y}.get(choose, lambda: -(x**-y))()"
   ]
  },
  {
   "cell_type": "code",
   "execution_count": 146,
   "metadata": {},
   "outputs": [
    {
     "data": {
      "text/plain": [
       "(-3.186635545324935e-11, 20, 31381059609, 20)"
      ]
     },
     "execution_count": 146,
     "metadata": {},
     "output_type": "execute_result"
    }
   ],
   "source": [
    "fun('a',9,11), fun('add',9,11), fun('fuck',9,11), fun('add',9,11)"
   ]
  },
  {
   "cell_type": "markdown",
   "metadata": {},
   "source": [
    "___"
   ]
  },
  {
   "cell_type": "code",
   "execution_count": 42,
   "metadata": {},
   "outputs": [
    {
     "name": "stdout",
     "output_type": "stream",
     "text": [
      "{'male': [{'gender': 'male', 'age': 105, 'name': 'Alan Turing'}, {'gender': 'male', 'age': 76, 'name': 'Dennis Ritchie'}], 'female': [{'gender': 'female', 'age': 202, 'name': 'Ada Lovelace'}, {'gender': 'female', 'age': 84, 'name': 'Frances E. Allen'}]}\n"
     ]
    }
   ],
   "source": [
    "import  itertools\n",
    "scientists =({'name':'Alan Turing', 'age':105, 'gender':'male'},\n",
    "             {'name':'Dennis Ritchie', 'age':76, 'gender':'male'},\n",
    "             {'name':'Ada Lovelace', 'age':202, 'gender':'female'},\n",
    "             {'name':'Frances E. Allen', 'age':84, 'gender':'female'})\n",
    "grouped = {item[0]:list(item[1])\n",
    "           for item in itertools.groupby(scientists, lambda x: x['gender'])}\n",
    "print(grouped)"
   ]
  },
  {
   "cell_type": "code",
   "execution_count": 43,
   "metadata": {},
   "outputs": [
    {
     "data": {
      "text/plain": [
       "{'female': [{'age': 202, 'gender': 'female', 'name': 'Ada Lovelace'},\n",
       "  {'age': 84, 'gender': 'female', 'name': 'Frances E. Allen'}],\n",
       " 'male': [{'age': 105, 'gender': 'male', 'name': 'Alan Turing'},\n",
       "  {'age': 76, 'gender': 'male', 'name': 'Dennis Ritchie'}]}"
      ]
     },
     "execution_count": 43,
     "metadata": {},
     "output_type": "execute_result"
    }
   ],
   "source": [
    "grouped"
   ]
  },
  {
   "cell_type": "code",
   "execution_count": 3,
   "metadata": {},
   "outputs": [
    {
     "data": {
      "text/plain": [
       "({'age': 105, 'gender': 'male', 'name': 'Alan Turing'},\n",
       " {'age': 76, 'gender': 'male', 'name': 'Dennis Ritchie'},\n",
       " {'age': 202, 'gender': 'female', 'name': 'Ada Lovelace'},\n",
       " {'age': 84, 'gender': 'female', 'name': 'Frances E. Allen'})"
      ]
     },
     "execution_count": 3,
     "metadata": {},
     "output_type": "execute_result"
    }
   ],
   "source": [
    "scientists =({'name':'Alan Turing', 'age':105, 'gender':'male'},\n",
    "             {'name':'Dennis Ritchie', 'age':76, 'gender':'male'},\n",
    "             {'name':'Ada Lovelace', 'age':202, 'gender':'female'},\n",
    "             {'name':'Frances E. Allen', 'age':84, 'gender':'female'})\n",
    "scientists"
   ]
  },
  {
   "cell_type": "markdown",
   "metadata": {},
   "source": [
    "### need python3"
   ]
  },
  {
   "cell_type": "code",
   "execution_count": 4,
   "metadata": {},
   "outputs": [
    {
     "name": "stdout",
     "output_type": "stream",
     "text": [
      "{'male': ['Alan Turing', 'Dennis Ritchie'], 'female': ['Ada Lovelace', 'Frances E. Allen']}\n"
     ]
    }
   ],
   "source": [
    "from functools import reduce\n",
    "\n",
    "grouped = reduce(lambda acc, val: {**acc, **{val['gender']: acc[val['gender']]+ [val['name']]}}, \n",
    "                 scientists, {'male':[], 'female':[]})\n",
    "print(grouped)"
   ]
  },
  {
   "cell_type": "code",
   "execution_count": 5,
   "metadata": {
    "collapsed": true
   },
   "outputs": [],
   "source": [
    "reduce?"
   ]
  },
  {
   "cell_type": "markdown",
   "metadata": {},
   "source": [
    "http://www.cnblogs.com/fengfenggirl/p/map-reduce-demo.html"
   ]
  },
  {
   "cell_type": "markdown",
   "metadata": {},
   "source": [
    "http://www.cnblogs.com/fengfenggirl/p/map-reduce-demo.html"
   ]
  },
  {
   "cell_type": "code",
   "execution_count": null,
   "metadata": {
    "collapsed": true
   },
   "outputs": [],
   "source": []
  }
 ],
 "metadata": {
  "kernelspec": {
   "display_name": "Python 2",
   "language": "python",
   "name": "python2"
  },
  "language_info": {
   "codemirror_mode": {
    "name": "ipython",
    "version": 2
   },
   "file_extension": ".py",
   "mimetype": "text/x-python",
   "name": "python",
   "nbconvert_exporter": "python",
   "pygments_lexer": "ipython2",
   "version": "2.7.13"
  }
 },
 "nbformat": 4,
 "nbformat_minor": 2
}
