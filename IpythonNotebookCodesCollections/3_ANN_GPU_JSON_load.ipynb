{
 "cells": [
  {
   "cell_type": "code",
   "execution_count": 13,
   "metadata": {
    "collapsed": true
   },
   "outputs": [],
   "source": [
    "# !ls -hl|grep csv\n",
    "import pandas as pd\n",
    "import numpy as np\n",
    "import os\n",
    "from time import time, ctime\n",
    "\n",
    "from sklearn.metrics import accuracy_score, classification_report, classification, confusion_matrix\n",
    "from sklearn.model_selection import train_test_split, KFold, cross_val_score, StratifiedKFold, StratifiedShuffleSplit\n",
    "\n",
    "from helper import plot_confusion_matrix, plot_confusion_matrix2\n",
    "dim=lambda *x: [i.shape for i in x]"
   ]
  },
  {
   "cell_type": "code",
   "execution_count": 14,
   "metadata": {},
   "outputs": [
    {
     "name": "stdout",
     "output_type": "stream",
     "text": [
      "[name: \"/cpu:0\"\n",
      "device_type: \"CPU\"\n",
      "memory_limit: 268435456\n",
      "locality {\n",
      "}\n",
      "incarnation: 10585739437251976968\n",
      "]\n"
     ]
    }
   ],
   "source": [
    "import os\n",
    "import tensorflow as tf\n",
    "from tensorflow.python.client import device_lib\n",
    "\n",
    "from keras import backend as K\n",
    "\n",
    "config = tf.ConfigProto()\n",
    "config.gpu_options.allow_growth=True\n",
    "sess = tf.Session(config=config)\n",
    "\n",
    "K.set_session(sess)\n",
    "\n",
    "# sess = tf.Session(config=tf.ConfigProto(log_device_placement=True))\n",
    "\n",
    "os.environ[\"CUDA_DEVICE_ORDER\"] = \"PCI_BUS_ID\"   # see issue #152\n",
    "os.environ[\"CUDA_VISIBLE_DEVICES\"] = \"0\"\n",
    "\n",
    "print(device_lib.list_local_devices())"
   ]
  },
  {
   "cell_type": "code",
   "execution_count": 15,
   "metadata": {
    "collapsed": true,
    "scrolled": true
   },
   "outputs": [],
   "source": [
    "from keras.models import Sequential\n",
    "from keras.layers import Conv2D, MaxPooling2D, Flatten, Dense, Dropout\n",
    "from keras.optimizers import Adam\n",
    "from keras.preprocessing.image import ImageDataGenerator\n",
    "\n",
    "import os\n",
    "# from tensorflow.python.client import device_lib\n",
    "# print(device_lib.list_local_devices())"
   ]
  },
  {
   "cell_type": "code",
   "execution_count": 16,
   "metadata": {},
   "outputs": [
    {
     "name": "stdout",
     "output_type": "stream",
     "text": [
      "(34219, 853)\n",
      "CPU times: user 2.26 s, sys: 153 ms, total: 2.42 s\n",
      "Wall time: 2.41 s\n"
     ]
    }
   ],
   "source": [
    "%%time\n",
    "df = pd.read_csv('./prepared_for_GPU.csv')\n",
    "print(df.shape)"
   ]
  },
  {
   "cell_type": "code",
   "execution_count": 17,
   "metadata": {},
   "outputs": [
    {
     "data": {
      "text/plain": [
       "30"
      ]
     },
     "execution_count": 17,
     "metadata": {},
     "output_type": "execute_result"
    }
   ],
   "source": [
    "cat_index= [0, 1, 2, 3, 4, 747, 748, 749, 757, 766, 767, 768, 769, 770, 771, 774, \n",
    "            775, 836, 837, 838, 839, 840, 841, 842, 843, 846, 847, 848, 849, 850]\n",
    "len(cat_index)"
   ]
  },
  {
   "cell_type": "code",
   "execution_count": 18,
   "metadata": {
    "collapsed": true
   },
   "outputs": [],
   "source": [
    "X=df.iloc[:, 2:]\n",
    "y=df.iloc[:, 1].values"
   ]
  },
  {
   "cell_type": "code",
   "execution_count": 19,
   "metadata": {},
   "outputs": [
    {
     "data": {
      "text/html": [
       "<div>\n",
       "<style scoped>\n",
       "    .dataframe tbody tr th:only-of-type {\n",
       "        vertical-align: middle;\n",
       "    }\n",
       "\n",
       "    .dataframe tbody tr th {\n",
       "        vertical-align: top;\n",
       "    }\n",
       "\n",
       "    .dataframe thead th {\n",
       "        text-align: right;\n",
       "    }\n",
       "</style>\n",
       "<table border=\"1\" class=\"dataframe\">\n",
       "  <thead>\n",
       "    <tr style=\"text-align: right;\">\n",
       "      <th></th>\n",
       "      <th>username_split_predict</th>\n",
       "      <th>last</th>\n",
       "      <th>last_two</th>\n",
       "      <th>first</th>\n",
       "      <th>first2</th>\n",
       "      <th>about.company</th>\n",
       "      <th>about.hourly_rate</th>\n",
       "      <th>about.primary_language</th>\n",
       "      <th>Month</th>\n",
       "      <th>city_3</th>\n",
       "      <th>...</th>\n",
       "      <th>identity_verified</th>\n",
       "      <th>payment_verified</th>\n",
       "      <th>phone_verified</th>\n",
       "      <th>profile_complete</th>\n",
       "      <th>country_5</th>\n",
       "      <th>timezone_5</th>\n",
       "      <th>pred_about.username_sentence</th>\n",
       "      <th>pred_about.username</th>\n",
       "      <th>pred_about.display_name</th>\n",
       "      <th>pred_about.public_name</th>\n",
       "    </tr>\n",
       "  </thead>\n",
       "  <tbody>\n",
       "    <tr>\n",
       "      <th>0</th>\n",
       "      <td>1</td>\n",
       "      <td>22</td>\n",
       "      <td>659</td>\n",
       "      <td>0</td>\n",
       "      <td>0</td>\n",
       "      <td>26</td>\n",
       "      <td>124</td>\n",
       "      <td>5</td>\n",
       "      <td>2</td>\n",
       "      <td>559</td>\n",
       "      <td>...</td>\n",
       "      <td>1</td>\n",
       "      <td>2</td>\n",
       "      <td>1</td>\n",
       "      <td>2</td>\n",
       "      <td>169</td>\n",
       "      <td>220</td>\n",
       "      <td>1</td>\n",
       "      <td>1</td>\n",
       "      <td>1</td>\n",
       "      <td>1</td>\n",
       "    </tr>\n",
       "    <tr>\n",
       "      <th>1</th>\n",
       "      <td>2</td>\n",
       "      <td>14</td>\n",
       "      <td>284</td>\n",
       "      <td>0</td>\n",
       "      <td>0</td>\n",
       "      <td>19537</td>\n",
       "      <td>124</td>\n",
       "      <td>5</td>\n",
       "      <td>5</td>\n",
       "      <td>8503</td>\n",
       "      <td>...</td>\n",
       "      <td>1</td>\n",
       "      <td>1</td>\n",
       "      <td>1</td>\n",
       "      <td>2</td>\n",
       "      <td>14</td>\n",
       "      <td>194</td>\n",
       "      <td>2</td>\n",
       "      <td>2</td>\n",
       "      <td>2</td>\n",
       "      <td>2</td>\n",
       "    </tr>\n",
       "    <tr>\n",
       "      <th>2</th>\n",
       "      <td>0</td>\n",
       "      <td>22</td>\n",
       "      <td>694</td>\n",
       "      <td>0</td>\n",
       "      <td>0</td>\n",
       "      <td>337</td>\n",
       "      <td>124</td>\n",
       "      <td>5</td>\n",
       "      <td>1</td>\n",
       "      <td>4700</td>\n",
       "      <td>...</td>\n",
       "      <td>1</td>\n",
       "      <td>1</td>\n",
       "      <td>1</td>\n",
       "      <td>1</td>\n",
       "      <td>170</td>\n",
       "      <td>57</td>\n",
       "      <td>0</td>\n",
       "      <td>0</td>\n",
       "      <td>0</td>\n",
       "      <td>0</td>\n",
       "    </tr>\n",
       "    <tr>\n",
       "      <th>3</th>\n",
       "      <td>2</td>\n",
       "      <td>23</td>\n",
       "      <td>362</td>\n",
       "      <td>0</td>\n",
       "      <td>1</td>\n",
       "      <td>19538</td>\n",
       "      <td>124</td>\n",
       "      <td>5</td>\n",
       "      <td>7</td>\n",
       "      <td>5797</td>\n",
       "      <td>...</td>\n",
       "      <td>1</td>\n",
       "      <td>1</td>\n",
       "      <td>1</td>\n",
       "      <td>2</td>\n",
       "      <td>170</td>\n",
       "      <td>95</td>\n",
       "      <td>2</td>\n",
       "      <td>2</td>\n",
       "      <td>2</td>\n",
       "      <td>2</td>\n",
       "    </tr>\n",
       "    <tr>\n",
       "      <th>4</th>\n",
       "      <td>2</td>\n",
       "      <td>28</td>\n",
       "      <td>559</td>\n",
       "      <td>0</td>\n",
       "      <td>1</td>\n",
       "      <td>26</td>\n",
       "      <td>124</td>\n",
       "      <td>5</td>\n",
       "      <td>8</td>\n",
       "      <td>307</td>\n",
       "      <td>...</td>\n",
       "      <td>1</td>\n",
       "      <td>1</td>\n",
       "      <td>1</td>\n",
       "      <td>2</td>\n",
       "      <td>170</td>\n",
       "      <td>95</td>\n",
       "      <td>2</td>\n",
       "      <td>2</td>\n",
       "      <td>2</td>\n",
       "      <td>2</td>\n",
       "    </tr>\n",
       "  </tbody>\n",
       "</table>\n",
       "<p>5 rows × 30 columns</p>\n",
       "</div>"
      ],
      "text/plain": [
       "   username_split_predict  last  last_two  first  first2  about.company  \\\n",
       "0                       1    22       659      0       0             26   \n",
       "1                       2    14       284      0       0          19537   \n",
       "2                       0    22       694      0       0            337   \n",
       "3                       2    23       362      0       1          19538   \n",
       "4                       2    28       559      0       1             26   \n",
       "\n",
       "   about.hourly_rate  about.primary_language  Month  city_3  \\\n",
       "0                124                       5      2     559   \n",
       "1                124                       5      5    8503   \n",
       "2                124                       5      1    4700   \n",
       "3                124                       5      7    5797   \n",
       "4                124                       5      8     307   \n",
       "\n",
       "            ...            identity_verified  payment_verified  \\\n",
       "0           ...                            1                 2   \n",
       "1           ...                            1                 1   \n",
       "2           ...                            1                 1   \n",
       "3           ...                            1                 1   \n",
       "4           ...                            1                 1   \n",
       "\n",
       "   phone_verified  profile_complete  country_5  timezone_5  \\\n",
       "0               1                 2        169         220   \n",
       "1               1                 2         14         194   \n",
       "2               1                 1        170          57   \n",
       "3               1                 2        170          95   \n",
       "4               1                 2        170          95   \n",
       "\n",
       "   pred_about.username_sentence  pred_about.username  pred_about.display_name  \\\n",
       "0                             1                    1                        1   \n",
       "1                             2                    2                        2   \n",
       "2                             0                    0                        0   \n",
       "3                             2                    2                        2   \n",
       "4                             2                    2                        2   \n",
       "\n",
       "   pred_about.public_name  \n",
       "0                       1  \n",
       "1                       2  \n",
       "2                       0  \n",
       "3                       2  \n",
       "4                       2  \n",
       "\n",
       "[5 rows x 30 columns]"
      ]
     },
     "execution_count": 19,
     "metadata": {},
     "output_type": "execute_result"
    }
   ],
   "source": [
    "X.iloc[:,cat_index].head()"
   ]
  },
  {
   "cell_type": "code",
   "execution_count": 20,
   "metadata": {
    "collapsed": true
   },
   "outputs": [],
   "source": [
    "# for i in X.iloc[:,cat_index]:\n",
    "#     print (i, len(X[i].unique()))"
   ]
  },
  {
   "cell_type": "code",
   "execution_count": 21,
   "metadata": {},
   "outputs": [
    {
     "name": "stdout",
     "output_type": "stream",
     "text": [
      "(34219, 851)\n",
      "(34219, 37603)\n",
      "CPU times: user 2.06 s, sys: 1.96 s, total: 4.02 s\n",
      "Wall time: 4.02 s\n"
     ]
    }
   ],
   "source": [
    "%%time\n",
    "from sklearn.preprocessing import OneHotEncoder\n",
    "print (X.shape)\n",
    "onehotencoder = OneHotEncoder(categorical_features = cat_index)\n",
    "X = onehotencoder.fit_transform(X).toarray()\n",
    "print (X.shape)"
   ]
  },
  {
   "cell_type": "code",
   "execution_count": 22,
   "metadata": {},
   "outputs": [
    {
     "name": "stdout",
     "output_type": "stream",
     "text": [
      "(34219, 37603)\n",
      "CPU times: user 16.6 s, sys: 8.76 s, total: 25.4 s\n",
      "Wall time: 25.4 s\n"
     ]
    }
   ],
   "source": [
    "%%time\n",
    "from sklearn.preprocessing import StandardScaler\n",
    "sc = StandardScaler()\n",
    "X=sc.fit_transform(X)\n",
    "print (X.shape)"
   ]
  },
  {
   "cell_type": "code",
   "execution_count": 23,
   "metadata": {},
   "outputs": [
    {
     "data": {
      "text/plain": [
       "[(23953, 37603), (10266, 37603), (23953,), (10266,)]"
      ]
     },
     "execution_count": 23,
     "metadata": {},
     "output_type": "execute_result"
    }
   ],
   "source": [
    "from sklearn.model_selection import train_test_split\n",
    "X_train, X_test, y_train, y_test = train_test_split(X, y, test_size=0.3,\n",
    "                                                   random_state=7)\n",
    "dim(X_train, X_test, y_train, y_test)"
   ]
  },
  {
   "cell_type": "code",
   "execution_count": 24,
   "metadata": {
    "collapsed": true
   },
   "outputs": [],
   "source": [
    "# from sklearn.preprocessing import StandardScaler\n",
    "# sc = StandardScaler()\n",
    "# # fit on training set\n",
    "# X_train = sc.fit_transform(X_train)\n",
    "# # only transform on test set\n",
    "# X_test = sc.transform(X_test)\n",
    "# print dim(X_train,X_test, y_train, y_test)"
   ]
  },
  {
   "cell_type": "code",
   "execution_count": 25,
   "metadata": {},
   "outputs": [
    {
     "name": "stdout",
     "output_type": "stream",
     "text": [
      "_________________________________________________________________\n",
      "Layer (type)                 Output Shape              Param #   \n",
      "=================================================================\n",
      "dense_1 (Dense)              (None, 128)               4813312   \n",
      "_________________________________________________________________\n",
      "dropout_1 (Dropout)          (None, 128)               0         \n",
      "_________________________________________________________________\n",
      "dense_2 (Dense)              (None, 128)               16512     \n",
      "_________________________________________________________________\n",
      "dropout_2 (Dropout)          (None, 128)               0         \n",
      "_________________________________________________________________\n",
      "dense_3 (Dense)              (None, 128)               16512     \n",
      "_________________________________________________________________\n",
      "dropout_3 (Dropout)          (None, 128)               0         \n",
      "_________________________________________________________________\n",
      "dense_4 (Dense)              (None, 128)               16512     \n",
      "_________________________________________________________________\n",
      "dropout_4 (Dropout)          (None, 128)               0         \n",
      "_________________________________________________________________\n",
      "dense_5 (Dense)              (None, 128)               16512     \n",
      "_________________________________________________________________\n",
      "dropout_5 (Dropout)          (None, 128)               0         \n",
      "_________________________________________________________________\n",
      "dense_6 (Dense)              (None, 1)                 129       \n",
      "=================================================================\n",
      "Total params: 4,879,489\n",
      "Trainable params: 4,879,489\n",
      "Non-trainable params: 0\n",
      "_________________________________________________________________\n"
     ]
    }
   ],
   "source": [
    "classifier = Sequential()\n",
    "# first hidden layer\n",
    "classifier.add(Dense(units = 128, \n",
    "                     input_dim=37603,\n",
    "                     kernel_initializer='uniform', activation='relu'))\n",
    "classifier.add(Dropout(rate= 0.5))\n",
    "# second hidden layer\n",
    "classifier.add(Dense(units = 128,  kernel_initializer='uniform', activation='relu'))\n",
    "classifier.add(Dropout(rate= 0.4))\n",
    "# second hidden layer\n",
    "classifier.add(Dense(units = 128,  kernel_initializer='uniform', activation='relu'))\n",
    "classifier.add(Dropout(rate= 0.3))\n",
    "# thrid hidden layer\n",
    "classifier.add(Dense(units = 128,  kernel_initializer='uniform', activation='relu'))\n",
    "classifier.add(Dropout(rate= 0.2))\n",
    "# thrid hidden layer\n",
    "classifier.add(Dense(units = 128,  kernel_initializer='uniform', activation='relu'))\n",
    "classifier.add(Dropout(rate= 0.1))\n",
    "# # ouput layer\n",
    "classifier.add(Dense(units = 1,  kernel_initializer='uniform', activation='sigmoid'))\n",
    "# compiling the ANN\n",
    "classifier.compile(optimizer='adam', loss='binary_crossentropy', metrics= ['accuracy'])\n",
    "classifier.summary()"
   ]
  },
  {
   "cell_type": "code",
   "execution_count": 26,
   "metadata": {
    "collapsed": true
   },
   "outputs": [],
   "source": [
    "from keras.callbacks import Callback, EarlyStopping\n",
    "class TestCallback(Callback):\n",
    "    def __init__(self, test_data):\n",
    "        self.test_data = test_data\n",
    "        \n",
    "\n",
    "    def on_epoch_end(self, epoch, logs={}):\n",
    "        x, y = self.test_data\n",
    "        loss, acc = self.model.evaluate(x, y, verbose=1)\n",
    "        print('\\nTesting loss: {}, acc: {}\\n'.format(loss, acc))"
   ]
  },
  {
   "cell_type": "code",
   "execution_count": 27,
   "metadata": {
    "collapsed": true
   },
   "outputs": [],
   "source": [
    "stopping = EarlyStopping(monitor='acc', min_delta=0,\n",
    "                              patience=16, verbose=1, mode='auto')"
   ]
  },
  {
   "cell_type": "code",
   "execution_count": 28,
   "metadata": {},
   "outputs": [
    {
     "name": "stdout",
     "output_type": "stream",
     "text": [
      "Train on 23953 samples, validate on 10266 samples\n",
      "Epoch 1/300\n",
      "23953/23953 [==============================] - 10s - loss: 0.4590 - acc: 0.8299 - val_loss: 0.4381 - val_acc: 0.8323\n",
      "Epoch 2/300\n",
      "23953/23953 [==============================] - 9s - loss: 0.3466 - acc: 0.8455 - val_loss: 0.4601 - val_acc: 0.8336\n",
      "Epoch 3/300\n",
      "23953/23953 [==============================] - 9s - loss: 0.1831 - acc: 0.9287 - val_loss: 0.5145 - val_acc: 0.8201\n",
      "Epoch 4/300\n",
      "23953/23953 [==============================] - 9s - loss: 0.0825 - acc: 0.9686 - val_loss: 0.7834 - val_acc: 0.8179\n",
      "Epoch 5/300\n",
      "23953/23953 [==============================] - 9s - loss: 0.0525 - acc: 0.9798 - val_loss: 0.9328 - val_acc: 0.8179\n",
      "Epoch 6/300\n",
      "23953/23953 [==============================] - 9s - loss: 0.0375 - acc: 0.9866 - val_loss: 1.1134 - val_acc: 0.8035\n",
      "Epoch 7/300\n",
      "23953/23953 [==============================] - 9s - loss: 0.0248 - acc: 0.9908 - val_loss: 1.2419 - val_acc: 0.8060\n",
      "Epoch 8/300\n",
      "23953/23953 [==============================] - 9s - loss: 0.0232 - acc: 0.9917 - val_loss: 1.1423 - val_acc: 0.8071\n",
      "Epoch 9/300\n",
      "23953/23953 [==============================] - 9s - loss: 0.0202 - acc: 0.9929 - val_loss: 1.0843 - val_acc: 0.7855\n",
      "Epoch 10/300\n",
      "23953/23953 [==============================] - 9s - loss: 0.0195 - acc: 0.9940 - val_loss: 1.6067 - val_acc: 0.8269\n",
      "Epoch 11/300\n",
      "23953/23953 [==============================] - 9s - loss: 0.0156 - acc: 0.9948 - val_loss: 1.5259 - val_acc: 0.7996\n",
      "Epoch 12/300\n",
      "23953/23953 [==============================] - 9s - loss: 0.0141 - acc: 0.9960 - val_loss: 1.1727 - val_acc: 0.8118\n",
      "Epoch 13/300\n",
      "23953/23953 [==============================] - 9s - loss: 0.0104 - acc: 0.9969 - val_loss: 1.3757 - val_acc: 0.8008\n",
      "Epoch 14/300\n",
      "23953/23953 [==============================] - 9s - loss: 0.0108 - acc: 0.9972 - val_loss: 1.5467 - val_acc: 0.8134\n",
      "Epoch 15/300\n",
      "23953/23953 [==============================] - 9s - loss: 0.0099 - acc: 0.9972 - val_loss: 1.3539 - val_acc: 0.8223\n",
      "Epoch 16/300\n",
      "23953/23953 [==============================] - 9s - loss: 0.0085 - acc: 0.9972 - val_loss: 1.7943 - val_acc: 0.8118\n",
      "Epoch 17/300\n",
      "23953/23953 [==============================] - 9s - loss: 0.0093 - acc: 0.9975 - val_loss: 1.6425 - val_acc: 0.8222\n",
      "Epoch 18/300\n",
      "23953/23953 [==============================] - 9s - loss: 0.0093 - acc: 0.9978 - val_loss: 1.8206 - val_acc: 0.8220\n",
      "Epoch 19/300\n",
      "23953/23953 [==============================] - 9s - loss: 0.0097 - acc: 0.9971 - val_loss: 1.6685 - val_acc: 0.8177\n",
      "Epoch 20/300\n",
      "23953/23953 [==============================] - 9s - loss: 0.0067 - acc: 0.9980 - val_loss: 1.8791 - val_acc: 0.8170\n",
      "Epoch 21/300\n",
      "23953/23953 [==============================] - 9s - loss: 0.0066 - acc: 0.9983 - val_loss: 2.0056 - val_acc: 0.7982\n",
      "Epoch 22/300\n",
      "23953/23953 [==============================] - 9s - loss: 0.0064 - acc: 0.9985 - val_loss: 1.7289 - val_acc: 0.8087\n",
      "Epoch 23/300\n",
      "23953/23953 [==============================] - 9s - loss: 0.0112 - acc: 0.9975 - val_loss: 1.4328 - val_acc: 0.8184\n",
      "Epoch 24/300\n",
      "23953/23953 [==============================] - 9s - loss: 0.0087 - acc: 0.9970 - val_loss: 1.7115 - val_acc: 0.8111\n",
      "Epoch 25/300\n",
      "23953/23953 [==============================] - 9s - loss: 0.0085 - acc: 0.9978 - val_loss: 1.8327 - val_acc: 0.8135\n",
      "Epoch 26/300\n",
      "23953/23953 [==============================] - 9s - loss: 0.0077 - acc: 0.9977 - val_loss: 1.7791 - val_acc: 0.8027\n",
      "Epoch 27/300\n",
      "23953/23953 [==============================] - 9s - loss: 0.0056 - acc: 0.9982 - val_loss: 1.9398 - val_acc: 0.8163\n",
      "Epoch 28/300\n",
      "23953/23953 [==============================] - 9s - loss: 0.0049 - acc: 0.9984 - val_loss: 2.0957 - val_acc: 0.8088\n",
      "Epoch 29/300\n",
      "23953/23953 [==============================] - 9s - loss: 0.0074 - acc: 0.9977 - val_loss: 1.8193 - val_acc: 0.8174\n",
      "Epoch 30/300\n",
      "23953/23953 [==============================] - 9s - loss: 0.0057 - acc: 0.9981 - val_loss: 1.9256 - val_acc: 0.8193\n",
      "Epoch 31/300\n",
      "23953/23953 [==============================] - 9s - loss: 0.0052 - acc: 0.9983 - val_loss: 1.8008 - val_acc: 0.8130\n",
      "Epoch 32/300\n",
      "23953/23953 [==============================] - 9s - loss: 0.0059 - acc: 0.9980 - val_loss: 1.9415 - val_acc: 0.8209\n",
      "Epoch 33/300\n",
      "23953/23953 [==============================] - 9s - loss: 0.0039 - acc: 0.9990 - val_loss: 2.3155 - val_acc: 0.8132\n",
      "Epoch 34/300\n",
      "23953/23953 [==============================] - 9s - loss: 0.0076 - acc: 0.9977 - val_loss: 1.8138 - val_acc: 0.7968\n",
      "Epoch 35/300\n",
      "23953/23953 [==============================] - 9s - loss: 0.0070 - acc: 0.9979 - val_loss: 1.8114 - val_acc: 0.8227\n",
      "Epoch 36/300\n",
      "23953/23953 [==============================] - 9s - loss: 0.0052 - acc: 0.9979 - val_loss: 1.8415 - val_acc: 0.7946\n",
      "Epoch 37/300\n",
      "23953/23953 [==============================] - 9s - loss: 0.0089 - acc: 0.9977 - val_loss: 1.9354 - val_acc: 0.8135\n",
      "Epoch 38/300\n",
      "23953/23953 [==============================] - 9s - loss: 0.0057 - acc: 0.9982 - val_loss: 1.9824 - val_acc: 0.7983\n",
      "Epoch 39/300\n",
      "23953/23953 [==============================] - 9s - loss: 0.0063 - acc: 0.9983 - val_loss: 1.8089 - val_acc: 0.8026\n",
      "Epoch 40/300\n",
      "23953/23953 [==============================] - 9s - loss: 0.0071 - acc: 0.9980 - val_loss: 2.0820 - val_acc: 0.8119\n",
      "Epoch 41/300\n",
      "23953/23953 [==============================] - 9s - loss: 0.0055 - acc: 0.9982 - val_loss: 2.1363 - val_acc: 0.8255\n",
      "Epoch 42/300\n",
      "23953/23953 [==============================] - 9s - loss: 0.0050 - acc: 0.9986 - val_loss: 2.2995 - val_acc: 0.8237\n",
      "Epoch 43/300\n",
      "23953/23953 [==============================] - 9s - loss: 0.0077 - acc: 0.9979 - val_loss: 2.0641 - val_acc: 0.8203\n",
      "Epoch 44/300\n",
      "23953/23953 [==============================] - 9s - loss: 0.0107 - acc: 0.9971 - val_loss: 1.8643 - val_acc: 0.8200\n",
      "Epoch 45/300\n",
      "23953/23953 [==============================] - 9s - loss: 0.0051 - acc: 0.9988 - val_loss: 2.0376 - val_acc: 0.8143\n",
      "Epoch 46/300\n",
      "23953/23953 [==============================] - 9s - loss: 0.0075 - acc: 0.9980 - val_loss: 1.8828 - val_acc: 0.8052\n",
      "Epoch 47/300\n",
      "23953/23953 [==============================] - 9s - loss: 0.0067 - acc: 0.9980 - val_loss: 2.0814 - val_acc: 0.8136071 - acc: - ETA: 1s - loss: 0.00\n",
      "Epoch 48/300\n",
      "23953/23953 [==============================] - 9s - loss: 0.0050 - acc: 0.9981 - val_loss: 2.0854 - val_acc: 0.8170\n",
      "Epoch 49/300\n",
      "23953/23953 [==============================] - 9s - loss: 0.0051 - acc: 0.9984 - val_loss: 2.2262 - val_acc: 0.8247\n",
      "Epoch 50/300\n",
      "23953/23953 [==============================] - 9s - loss: 0.0030 - acc: 0.9990 - val_loss: 2.2111 - val_acc: 0.8196\n",
      "Epoch 51/300\n",
      "23953/23953 [==============================] - 9s - loss: 0.0032 - acc: 0.9990 - val_loss: 2.1686 - val_acc: 0.8094\n",
      "Epoch 52/300\n",
      "23953/23953 [==============================] - 9s - loss: 0.0052 - acc: 0.9983 - val_loss: 2.2188 - val_acc: 0.8211\n",
      "Epoch 53/300\n",
      "23953/23953 [==============================] - 9s - loss: 0.0036 - acc: 0.9987 - val_loss: 2.2084 - val_acc: 0.8245\n",
      "Epoch 54/300\n",
      "23953/23953 [==============================] - 9s - loss: 0.0060 - acc: 0.9986 - val_loss: 2.2945 - val_acc: 0.8253\n",
      "Epoch 55/300\n",
      "23953/23953 [==============================] - 9s - loss: 0.0049 - acc: 0.9986 - val_loss: 2.2721 - val_acc: 0.8255\n",
      "Epoch 56/300\n",
      "23953/23953 [==============================] - 9s - loss: 0.0060 - acc: 0.9982 - val_loss: 2.0891 - val_acc: 0.8157\n",
      "Epoch 57/300\n",
      "23953/23953 [==============================] - 9s - loss: 0.0056 - acc: 0.9984 - val_loss: 2.2009 - val_acc: 0.8165\n",
      "Epoch 58/300\n",
      "23953/23953 [==============================] - 9s - loss: 0.0056 - acc: 0.9987 - val_loss: 2.1866 - val_acc: 0.8283\n",
      "Epoch 59/300\n",
      "23953/23953 [==============================] - 9s - loss: 0.0062 - acc: 0.9985 - val_loss: 2.1122 - val_acc: 0.8182\n",
      "Epoch 60/300\n",
      "23953/23953 [==============================] - 9s - loss: 0.0082 - acc: 0.9981 - val_loss: 1.8028 - val_acc: 0.8075\n",
      "Epoch 61/300\n",
      "23953/23953 [==============================] - 9s - loss: 0.0052 - acc: 0.9984 - val_loss: 2.0765 - val_acc: 0.8075\n",
      "Epoch 62/300\n",
      "23953/23953 [==============================] - 9s - loss: 0.0058 - acc: 0.9982 - val_loss: 2.2199 - val_acc: 0.8063\n",
      "Epoch 63/300\n"
     ]
    },
    {
     "name": "stdout",
     "output_type": "stream",
     "text": [
      "23953/23953 [==============================] - 9s - loss: 0.0048 - acc: 0.9984 - val_loss: 1.9916 - val_acc: 0.8111\n",
      "Epoch 64/300\n",
      "23953/23953 [==============================] - 9s - loss: 0.0052 - acc: 0.9989 - val_loss: 2.2280 - val_acc: 0.8206\n",
      "Epoch 65/300\n",
      "23953/23953 [==============================] - 9s - loss: 0.0039 - acc: 0.9988 - val_loss: 2.1605 - val_acc: 0.8160\n",
      "Epoch 66/300\n",
      "23953/23953 [==============================] - 9s - loss: 0.0063 - acc: 0.9983 - val_loss: 2.0667 - val_acc: 0.8156\n",
      "Epoch 67/300\n",
      "23953/23953 [==============================] - 9s - loss: 0.0051 - acc: 0.9982 - val_loss: 2.0611 - val_acc: 0.8139\n",
      "Epoch 00066: early stopping\n"
     ]
    },
    {
     "data": {
      "text/plain": [
       "<keras.callbacks.History at 0x2abe0cd16510>"
      ]
     },
     "execution_count": 28,
     "metadata": {},
     "output_type": "execute_result"
    }
   ],
   "source": [
    "# fitting ANN with training set\n",
    "classifier.fit(X_train, y_train, \n",
    "               batch_size=96, epochs=300,\n",
    "               validation_data=(X_test, y_test),\n",
    "#           callbacks=[TestCallback((X_test, y_test))])\n",
    "          callbacks=[stopping])\n",
    "    \n"
   ]
  },
  {
   "cell_type": "code",
   "execution_count": 61,
   "metadata": {},
   "outputs": [
    {
     "name": "stdout",
     "output_type": "stream",
     "text": [
      "0.808007013442\n",
      "Confusion matrix, without normalization\n",
      "[[ 372 1350]\n",
      " [ 621 7923]]\n"
     ]
    },
    {
     "data": {
      "image/png": "[encoded data removed]",
      "text/plain": [
       "<matplotlib.figure.Figure at 0x2b63419f7630>"
      ]
     },
     "metadata": {},
     "output_type": "display_data"
    }
   ],
   "source": [
    "y_pred = classifier.predict(X_test)\n",
    "y_pred = (y_pred> 0.5)\n",
    "\n",
    "print (accuracy_score(y_test, y_pred))\n",
    "cm = confusion_matrix(y_test, y_pred)\n",
    "plot_confusion_matrix(cm, ['female','male'])"
   ]
  },
  {
   "cell_type": "code",
   "execution_count": null,
   "metadata": {
    "collapsed": true
   },
   "outputs": [],
   "source": []
  }
 ],
 "metadata": {
  "kernelspec": {
   "display_name": "tensorflow",
   "language": "python",
   "name": "tensorflow"
  },
  "language_info": {
   "codemirror_mode": {
    "name": "ipython",
    "version": 2
   },
   "file_extension": ".py",
   "mimetype": "text/x-python",
   "name": "python",
   "nbconvert_exporter": "python",
   "pygments_lexer": "ipython2",
   "version": "2.7.14"
  }
 },
 "nbformat": 4,
 "nbformat_minor": 2
}
