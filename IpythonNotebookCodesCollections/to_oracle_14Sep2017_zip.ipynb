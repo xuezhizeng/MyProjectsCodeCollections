{
 "cells": [
  {
   "cell_type": "markdown",
   "metadata": {},
   "source": [
    "#### learn tablespace, etc\n",
    "\n",
    "http://nonfunctionaltestingtools.blogspot.com/2012/12/using-sql-developer-to-create-and-view.html\n",
    "\n",
    "http://www.rebellionrider.com/tablespace-in-oracle/how-to-create-tablespace-using-sql-developer-rebellionrider.htm#.WbqexsiGPIU"
   ]
  },
  {
   "cell_type": "markdown",
   "metadata": {},
   "source": [
    "https://hub.docker.com/r/wnameless/oracle-xe-11g/"
   ]
  },
  {
   "cell_type": "code",
   "execution_count": 3,
   "metadata": {},
   "outputs": [
    {
     "name": "stdout",
     "output_type": "stream",
     "text": [
      "11.2.0.2.0\n"
     ]
    }
   ],
   "source": [
    "import pandas as pd\n",
    "import cx_Oracle\n",
    "\n",
    "db=cx_Oracle.connect(\"soyoung\", \"soyoung\", \"my.uconn.science:1521/xe\")\n",
    "print db.version"
   ]
  },
  {
   "cell_type": "code",
   "execution_count": 9,
   "metadata": {},
   "outputs": [
    {
     "name": "stdout",
     "output_type": "stream",
     "text": [
      "drop done\n"
     ]
    }
   ],
   "source": [
    "db.commit()\n",
    "try:\n",
    "    db.cursor().execute('drop table basementzip')\n",
    "    print 'drop done'\n",
    "except:\n",
    "    print 'not exists'\n",
    "db.commit()"
   ]
  },
  {
   "cell_type": "code",
   "execution_count": 23,
   "metadata": {
    "collapsed": true
   },
   "outputs": [],
   "source": [
    "# df=pd.read_csv('zip_code.csv')\n",
    "# df.shape\n",
    "\n",
    "# df.columns=(map(lambda x:x.replace('zipcode.',''),df.columns))\n",
    "# df.columns=map(lambda x: x.replace('.','_'),df.columns)\n",
    "# df.to_csv('new_zip_code.csv', index=False)"
   ]
  },
  {
   "cell_type": "code",
   "execution_count": 5,
   "metadata": {},
   "outputs": [
    {
     "name": "stderr",
     "output_type": "stream",
     "text": [
      "/home/saya/anaconda2/lib/python2.7/site-packages/IPython/core/interactiveshell.py:2717: DtypeWarning: Columns (1,2,23,24,25,27,29,39,40,41,42,43,44,45,46,47,48,49,50,51,52,54,57,58,59,61) have mixed types. Specify dtype option on import or set low_memory=False.\n",
      "  interactivity=interactivity, compiler=compiler, result=result)\n"
     ]
    },
    {
     "data": {
      "text/plain": [
       "(941296, 62)"
      ]
     },
     "execution_count": 5,
     "metadata": {},
     "output_type": "execute_result"
    }
   ],
   "source": [
    "df=pd.read_csv('new_zip_code.csv')\n",
    "df.shape"
   ]
  },
  {
   "cell_type": "code",
   "execution_count": null,
   "metadata": {
    "collapsed": true
   },
   "outputs": [],
   "source": []
  },
  {
   "cell_type": "code",
   "execution_count": 6,
   "metadata": {},
   "outputs": [
    {
     "data": {
      "text/plain": [
       "941296"
      ]
     },
     "execution_count": 6,
     "metadata": {},
     "output_type": "execute_result"
    }
   ],
   "source": [
    "len(df['id'].unique())"
   ]
  },
  {
   "cell_type": "code",
   "execution_count": 7,
   "metadata": {},
   "outputs": [
    {
     "data": {
      "text/plain": [
       "<cx_Oracle.Cursor on <cx_Oracle.Connection to soyoung@my.uconn.science:1521/xe>>"
      ]
     },
     "execution_count": 7,
     "metadata": {},
     "output_type": "execute_result"
    }
   ],
   "source": [
    "cur=db.cursor()\n",
    "cur"
   ]
  },
  {
   "cell_type": "code",
   "execution_count": 10,
   "metadata": {},
   "outputs": [
    {
     "name": "stdout",
     "output_type": "stream",
     "text": [
      "create success\n"
     ]
    }
   ],
   "source": [
    "try:\n",
    "    cur.execute(\"\"\"CREATE TABLE basementzip \n",
    "    ( id NUMBER,\n",
    "    zip VARCHAR2(128),\n",
    "    fsa VARCHAR2(128),\n",
    "    primary_record VARCHAR2(128),\n",
    "    population NUMBER,\n",
    "    households_per_zipcode NUMBER,\n",
    "    white_population NUMBER,\n",
    "    black_population NUMBER,\n",
    "    hispanic_population NUMBER,\n",
    "    asian_population NUMBER,\n",
    "    hawaiian_population NUMBER,\n",
    "    indian_population NUMBER,\n",
    "    other_population NUMBER,\n",
    "    male_population NUMBER,\n",
    "    female_population NUMBER,\n",
    "    persons_per_household NUMBER,\n",
    "    avarage_house_value NUMBER,\n",
    "    income_per_household NUMBER,\n",
    "    latitude NUMBER,\n",
    "    longitude NUMBER,\n",
    "    elevation NUMBER,\n",
    "    state VARCHAR2(128),\n",
    "    state_full_name VARCHAR2(128),\n",
    "    city_type VARCHAR2(128),\n",
    "    city_alias_abbreviation VARCHAR2(128),\n",
    "    area_code VARCHAR2(128),\n",
    "    city VARCHAR2(128),\n",
    "    city_alias_name VARCHAR2(128),\n",
    "    country VARCHAR2(128),\n",
    "    county VARCHAR2(128),\n",
    "    county_fips NUMBER,\n",
    "    state_fips NUMBER,\n",
    "    time_zone NUMBER,\n",
    "    day_light_saving VARCHAR2(128),\n",
    "    msa NUMBER,\n",
    "    pmsa NUMBER,\n",
    "    csa NUMBER,\n",
    "    cbsa NUMBER,\n",
    "    cbsa_div NUMBER,\n",
    "    cbsa_type VARCHAR2(128),\n",
    "    cbsa_name VARCHAR2(128),\n",
    "    msa_name VARCHAR2(128),\n",
    "    pmsa_name VARCHAR2(128),\n",
    "    region VARCHAR2(128),\n",
    "    division VARCHAR2(128),\n",
    "    mailing_name VARCHAR2(128),\n",
    "    preferred_last_line_key VARCHAR2(128),\n",
    "    classification_code VARCHAR2(128),\n",
    "    multi_county VARCHAR2(128),\n",
    "    csa_name VARCHAR2(128),\n",
    "    cbsa_div_name VARCHAR2(128),\n",
    "    city_state_key VARCHAR2(128),\n",
    "    city_alias_code VARCHAR2(128),\n",
    "    city_mixed_case VARCHAR2(128),\n",
    "    city_alias_mixed_case VARCHAR2(128),\n",
    "    state_ansi NUMBER,\n",
    "    county_ansi NUMBER,\n",
    "    facility_code VARCHAR2(128),\n",
    "    city_delivery_indicator VARCHAR2(128),\n",
    "    carrier_route_rate_sortation VARCHAR2(128),\n",
    "    finance_NUMBER NUMBER,\n",
    "    unique_zip_name VARCHAR2(128),\n",
    "    CONSTRAINT basezip_PK PRIMARY KEY (id))\n",
    "    TABLESPACE basement PARALLEL\"\"\")\n",
    "    db.commit()\n",
    "    print 'create success'\n",
    "except Exception as e:\n",
    "    print e"
   ]
  },
  {
   "cell_type": "code",
   "execution_count": 31,
   "metadata": {
    "collapsed": true
   },
   "outputs": [],
   "source": [
    "# df.head()"
   ]
  },
  {
   "cell_type": "code",
   "execution_count": 30,
   "metadata": {
    "collapsed": true
   },
   "outputs": [],
   "source": [
    "# df.iloc[20,:]"
   ]
  },
  {
   "cell_type": "code",
   "execution_count": 11,
   "metadata": {
    "collapsed": true
   },
   "outputs": [],
   "source": [
    "def helper(x):\n",
    "    try:\n",
    "        a=x.replace(\"'\",\"''\")\n",
    "        return a\n",
    "    except:\n",
    "        return x\n",
    "    "
   ]
  },
  {
   "cell_type": "code",
   "execution_count": 12,
   "metadata": {},
   "outputs": [
    {
     "name": "stdout",
     "output_type": "stream",
     "text": [
      "1W: 12.67s  2W: 13.43s  3W: 13.78s  4W: 13.41s  5W: 13.18s  6W: 13.37s  7W: 12.28s  8W: 13.92s  9W: 13.62s  10W: 13.73s  11W: 12.88s  12W: 13.14s  13W: 13.14s  14W: 13.03s  15W: 13.21s  16W: 14.39s  17W: 14.08s  18W: 13.52s  19W: 14.41s  20W: 14.45s  21W: 12.88s  22W: 13.23s  23W: 13.03s  24W: 14.03s  25W: 13.14s  26W: 13.92s  27W: 13.06s  28W: 12.66s  29W: 12.95s  30W: 12.50s  31W: 13.66s  32W: 13.92s  33W: 12.34s  34W: 12.84s  35W: 12.02s  36W: 14.15s  37W: 14.40s  38W: 12.09s  39W: 12.91s  40W: 12.35s  41W: 11.62s  42W: 13.21s  43W: 13.39s  44W: 13.52s  45W: 12.47s  46W: 12.84s  47W: 13.35s  48W: 13.43s  49W: 13.45s  50W: 12.71s  51W: 13.48s  52W: 13.75s  53W: 12.95s  54W: 13.62s  55W: 12.67s  56W: 13.89s  57W: 11.68s  58W: 13.82s  59W: 13.33s  60W: 15.32s  61W: 12.93s  62W: 13.89s  63W: 12.65s  64W: 11.59s  65W: 13.27s  66W: 13.17s  67W: 12.82s  68W: 12.44s  69W: 14.09s  70W: 13.87s  71W: 12.88s  72W: 12.64s  73W: 13.29s  74W: 11.93s  75W: 12.57s  76W: 12.12s  77W: 12.77s  78W: 14.05s  79W: 14.08s  80W: 12.94s  81W: 13.19s  82W: 12.90s  83W: 14.07s  84W: 13.19s  85W: 14.12s  86W: 13.07s  87W: 13.31s  88W: 12.75s  89W: 13.43s  90W: 13.70s  91W: 13.07s  92W: 13.81s  93W: 13.43s  94W: 13.29s \n"
     ]
    }
   ],
   "source": [
    "from time import time\n",
    "start=time()\n",
    "n=0\n",
    "for i in range(df.shape[0]):\n",
    "    string = str(\"insert into basementzip values \"\\\n",
    "                 +str(tuple(df.iloc[i,:].map(helper)\\\n",
    "                            .tolist())).replace('nan','null')\\\n",
    "                             .replace(', \"',\",'\").replace('\",',\"',\"))\n",
    "    n+=1\n",
    "    try:\n",
    "        cur.execute(string)\n",
    "    except Exception as e:\n",
    "        print e\n",
    "        print i,string\n",
    "#     if n==100:\n",
    "#         db.commit()\n",
    "#         break\n",
    "    if n%10000==0:\n",
    "        db.commit()\n",
    "        print str(i//10000+1)+'W:',\n",
    "        print '{:.2f}s '.format(time()-start),\n",
    "        start=time()\n",
    "db.commit()"
   ]
  },
  {
   "cell_type": "code",
   "execution_count": null,
   "metadata": {
    "collapsed": true
   },
   "outputs": [],
   "source": []
  }
 ],
 "metadata": {
  "kernelspec": {
   "display_name": "Python 2",
   "language": "python",
   "name": "python2"
  },
  "language_info": {
   "codemirror_mode": {
    "name": "ipython",
    "version": 2
   },
   "file_extension": ".py",
   "mimetype": "text/x-python",
   "name": "python",
   "nbconvert_exporter": "python",
   "pygments_lexer": "ipython2",
   "version": "2.7.13"
  }
 },
 "nbformat": 4,
 "nbformat_minor": 2
}
