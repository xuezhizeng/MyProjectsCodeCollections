{
 "cells": [
  {
   "cell_type": "code",
   "execution_count": 1,
   "metadata": {
    "collapsed": true
   },
   "outputs": [],
   "source": [
    "# !ls"
   ]
  },
  {
   "cell_type": "code",
   "execution_count": 1,
   "metadata": {},
   "outputs": [
    {
     "name": "stdout",
     "output_type": "stream",
     "text": [
      "1 used 0.00 s | 100 used 75.23 s | 200 used 144.82 s | 300 used 217.53 s | 400 used 290.05 s | 500 used 363.46 s | 600 used 446.77 s | 700 used 516.04 s | 800 used 586.71 s | 900 used 661.70 s | 1000 used 734.17 s | 1100 used 807.45 s | 1200 used 881.66 s | 1300 used 949.39 s | 1400 used 1023.49 s | 1500 used 1097.09 s | 1600 used 1169.60 s | 1700 used 1240.86 s | 1800 used 1313.20 s | 1900 used 1387.73 s | 2000 used 1458.14 s | 2100 used 1530.01 s | 2200 used 1600.36 s | 2300 used 1674.21 s | 2400 used 1743.99 s | 2500 used 1814.96 s | 2600 used 1885.36 s | 2700 used 1960.95 s | 2800 used 2030.75 s | 2900 used 2101.04 s | 3000 used 2174.18 s | 3100 used 2245.97 s | 3200 used 2319.79 s | 3300 used 2387.57 s | 3400 used 2456.28 s | 3500 used 2527.05 s | 3600 used 2597.92 s | 3700 used 2668.84 s | 3800 used 2743.68 s | 3900 used 2814.38 s | 4000 used 2885.43 s | 4100 used 2956.30 s | 4200 used 3027.50 s | 4300 used 3103.52 s | 4400 used 3176.56 s | 4500 used 3245.29 s | 4600 used 3318.20 s | 4700 used 3389.12 s | 4800 used 3460.33 s | 4900 used 3527.01 s | 5000 used 3599.66 s | 5100 used 3672.46 s | 5200 used 3746.67 s | 5300 used 3818.07 s | 5400 used 3889.29 s | 5500 used 3961.02 s | 5600 used 4032.59 s | 5700 used 4106.49 s | 5800 used 4177.45 s | 5900 used 4247.16 s | 6000 used 4319.29 s | 6100 used 4391.99 s | 6200 used 4465.81 s | 6300 used 4537.19 s | 6400 used 4609.12 s | 6500 used 4681.38 s | 6600 used 4754.68 s | 6700 used 4828.75 s | 6800 used 4898.46 s | 6900 used 4970.59 s | 7000 used 5038.95 s | 7100 used 5114.41 s | 7200 used 5190.83 s | 7300 used 5261.77 s | 7400 used 5335.42 s | 7500 used 5408.04 s | 7600 used 5475.97 s | 7700 used 5546.72 s | 7800 used 5619.35 s | 7900 used 5692.32 s | 8000 used 5761.97 s | 8100 used 5836.54 s | 8200 used 5911.03 s | 8300 used 5981.39 s | 8400 used 6053.01 s | 8500 used 6124.04 s | 8600 used 6194.96 s | 8700 used 6267.09 s | 8800 used 6339.94 s | 8900 used 6412.03 s | 9000 used 6482.91 s | 9100 used 6557.95 s | 9200 used 6631.15 s | 9300 used 6701.63 s | 9400 used 6769.90 s | 9500 used 6845.93 s | 9600 used 6916.74 s | 9700 used 6991.13 s | 9800 used 7056.13 s | 9900 used 7112.32 s |\n"
     ]
    },
    {
     "data": {
      "text/plain": [
       "7160.102404117584"
      ]
     },
     "execution_count": 1,
     "metadata": {},
     "output_type": "execute_result"
    }
   ],
   "source": [
    "from time import time\n",
    "start=time()\n",
    "start\n",
    "\n",
    "\n",
    "!python -u /root/openface/util/align-dlib_mod.py \\\n",
    "../real_soyoung_pics/img_14 align \\\n",
    "outerEyesAndNose \\\n",
    "../chopHead256_real_soyoung_pics \\\n",
    "--size 256\n",
    "\n",
    "end=time()-start\n",
    "end"
   ]
  },
  {
   "cell_type": "code",
   "execution_count": null,
   "metadata": {
    "collapsed": true
   },
   "outputs": [],
   "source": []
  }
 ],
 "metadata": {
  "kernelspec": {
   "display_name": "Python 2",
   "language": "python",
   "name": "python2"
  },
  "language_info": {
   "codemirror_mode": {
    "name": "ipython",
    "version": 2
   },
   "file_extension": ".py",
   "mimetype": "text/x-python",
   "name": "python",
   "nbconvert_exporter": "python",
   "pygments_lexer": "ipython2",
   "version": "2.7.6"
  }
 },
 "nbformat": 4,
 "nbformat_minor": 2
}
