{
 "cells": [
  {
   "cell_type": "code",
   "execution_count": 1,
   "metadata": {
    "collapsed": true
   },
   "outputs": [],
   "source": [
    "import pandas as pd\n",
    "import pymysql\n",
    "import time\n",
    "import os"
   ]
  },
  {
   "cell_type": "code",
   "execution_count": 2,
   "metadata": {},
   "outputs": [
    {
     "data": {
      "text/plain": [
       "'2018-02-26'"
      ]
     },
     "execution_count": 2,
     "metadata": {},
     "output_type": "execute_result"
    }
   ],
   "source": [
    "tm = time.strftime('%Y-%m-%d', time.localtime())\n",
    "tm"
   ]
  },
  {
   "cell_type": "code",
   "execution_count": 3,
   "metadata": {
    "collapsed": true
   },
   "outputs": [],
   "source": [
    "path='data/'"
   ]
  },
  {
   "cell_type": "markdown",
   "metadata": {},
   "source": [
    "## diary1"
   ]
  },
  {
   "cell_type": "code",
   "execution_count": 4,
   "metadata": {},
   "outputs": [
    {
     "data": {
      "text/plain": [
       "26"
      ]
     },
     "execution_count": 4,
     "metadata": {},
     "output_type": "execute_result"
    }
   ],
   "source": [
    "d1 = [i for i in os.listdir(path) if i.startswith('diary_2')]\n",
    "len(d1)"
   ]
  },
  {
   "cell_type": "code",
   "execution_count": 5,
   "metadata": {},
   "outputs": [
    {
     "name": "stdout",
     "output_type": "stream",
     "text": [
      "    diary_2_5.csv 4.8056640625\n",
      "   diary_2_10.csv 2.4619140625\n",
      "    diary_2_8.csv 2.4521484375\n",
      "   diary_2_23.csv 2.6376953125\n",
      "   diary_2_36.csv 3.921875\n",
      "    diary_2_9.csv 2.45703125\n",
      "   diary_2_18.csv 2.455078125\n",
      "   diary_2_31.csv 3.8662109375\n",
      "   diary_2_12.csv 2.451171875\n",
      "   diary_2_37.csv 3.9169921875\n",
      "   diary_2_26.csv 2.630859375\n",
      "    diary_2_1.csv 4.49609375\n",
      "   diary_2_38.csv 0.84375\n",
      "   diary_2_14.csv 2.443359375\n",
      "   diary_2_34.csv 3.919921875\n",
      "   diary_2_16.csv 2.451171875\n",
      "   diary_2_15.csv 2.4453125\n",
      "   diary_2_11.csv 2.466796875\n",
      "   diary_2_13.csv 2.439453125\n",
      "   diary_2_30.csv 3.857421875\n",
      "   diary_2_27.csv 2.6337890625\n",
      "   diary_2_19.csv 2.4521484375\n",
      "   diary_2_24.csv 2.638671875\n",
      "   diary_2_28.csv 0.9267578125\n",
      "    diary_2_6.csv 5.1142578125\n",
      "   diary_2_17.csv 2.453125\n"
     ]
    },
    {
     "data": {
      "text/plain": [
       "24"
      ]
     },
     "execution_count": 5,
     "metadata": {},
     "output_type": "execute_result"
    }
   ],
   "source": [
    "kp=[]\n",
    "for i in d1:\n",
    "    sz=os.stat(path+i).st_size/1024/1024.0\n",
    "    print i.rjust(17),sz\n",
    "    if sz>1.5:\n",
    "        kp.append(i)\n",
    "len(kp)"
   ]
  },
  {
   "cell_type": "code",
   "execution_count": 6,
   "metadata": {},
   "outputs": [
    {
     "data": {
      "text/plain": [
       "['diary_2_5.csv',\n",
       " 'diary_2_10.csv',\n",
       " 'diary_2_8.csv',\n",
       " 'diary_2_23.csv',\n",
       " 'diary_2_36.csv',\n",
       " 'diary_2_9.csv',\n",
       " 'diary_2_18.csv',\n",
       " 'diary_2_31.csv',\n",
       " 'diary_2_12.csv',\n",
       " 'diary_2_37.csv',\n",
       " 'diary_2_26.csv',\n",
       " 'diary_2_1.csv',\n",
       " 'diary_2_14.csv',\n",
       " 'diary_2_34.csv',\n",
       " 'diary_2_16.csv',\n",
       " 'diary_2_15.csv',\n",
       " 'diary_2_11.csv',\n",
       " 'diary_2_13.csv',\n",
       " 'diary_2_30.csv',\n",
       " 'diary_2_27.csv',\n",
       " 'diary_2_19.csv',\n",
       " 'diary_2_24.csv',\n",
       " 'diary_2_6.csv',\n",
       " 'diary_2_17.csv']"
      ]
     },
     "execution_count": 6,
     "metadata": {},
     "output_type": "execute_result"
    }
   ],
   "source": [
    "kp"
   ]
  },
  {
   "cell_type": "code",
   "execution_count": 7,
   "metadata": {},
   "outputs": [
    {
     "name": "stdout",
     "output_type": "stream",
     "text": [
      "24\n",
      "CPU times: user 976 ms, sys: 144 ms, total: 1.12 s\n",
      "Wall time: 1.12 s\n"
     ]
    }
   ],
   "source": [
    "%%time\n",
    "coll=[]\n",
    "for i in kp:\n",
    "    df0 = pd.read_csv(path+i)\n",
    "    df0['serial']=int(i.split('_')[-1].split('.csv')[0])\n",
    "    coll.append(df0)\n",
    "    del df0\n",
    "print len(coll)"
   ]
  },
  {
   "cell_type": "code",
   "execution_count": 8,
   "metadata": {},
   "outputs": [
    {
     "data": {
      "text/plain": [
       "(4114131, 5)"
      ]
     },
     "execution_count": 8,
     "metadata": {},
     "output_type": "execute_result"
    }
   ],
   "source": [
    "df = pd.concat(coll,axis=0)\n",
    "df.shape"
   ]
  },
  {
   "cell_type": "markdown",
   "metadata": {},
   "source": [
    "### post_ID is not null"
   ]
  },
  {
   "cell_type": "code",
   "execution_count": 9,
   "metadata": {},
   "outputs": [
    {
     "data": {
      "text/plain": [
       "(807698, 5)"
      ]
     },
     "execution_count": 9,
     "metadata": {},
     "output_type": "execute_result"
    }
   ],
   "source": [
    "df = df[(~df['post_ID'].isnull())]\n",
    "df.shape"
   ]
  },
  {
   "cell_type": "code",
   "execution_count": 10,
   "metadata": {},
   "outputs": [
    {
     "data": {
      "text/plain": [
       "36    162130\n",
       "34    162002\n",
       "37    161947\n",
       "31    161001\n",
       "30    160618\n",
       "Name: serial, dtype: int64"
      ]
     },
     "execution_count": 10,
     "metadata": {},
     "output_type": "execute_result"
    }
   ],
   "source": [
    "df['serial'].value_counts()"
   ]
  },
  {
   "cell_type": "code",
   "execution_count": 11,
   "metadata": {
    "collapsed": true
   },
   "outputs": [],
   "source": [
    "times = {30:'2019-02-21',31:'2018-02-22',34:'2018-02-23',36:'2018-02-24',37:'2018-02-25'}"
   ]
  },
  {
   "cell_type": "code",
   "execution_count": 12,
   "metadata": {},
   "outputs": [],
   "source": [
    "df['date']=df['serial'].map(times)"
   ]
  },
  {
   "cell_type": "code",
   "execution_count": 13,
   "metadata": {},
   "outputs": [],
   "source": [
    "df['post_ID'] = df['post_ID'].astype('int')"
   ]
  },
  {
   "cell_type": "code",
   "execution_count": 14,
   "metadata": {},
   "outputs": [
    {
     "data": {
      "text/plain": [
       "post_ID      int64\n",
       "comments     int64\n",
       "favor        int64\n",
       "views        int64\n",
       "serial       int64\n",
       "date        object\n",
       "dtype: object"
      ]
     },
     "execution_count": 14,
     "metadata": {},
     "output_type": "execute_result"
    }
   ],
   "source": [
    "df.dtypes"
   ]
  },
  {
   "cell_type": "code",
   "execution_count": 15,
   "metadata": {},
   "outputs": [
    {
     "data": {
      "text/plain": [
       "(807698, 6)"
      ]
     },
     "execution_count": 15,
     "metadata": {},
     "output_type": "execute_result"
    }
   ],
   "source": [
    "df.shape"
   ]
  },
  {
   "cell_type": "code",
   "execution_count": 16,
   "metadata": {},
   "outputs": [
    {
     "data": {
      "text/plain": [
       "(807698, 5)"
      ]
     },
     "execution_count": 16,
     "metadata": {},
     "output_type": "execute_result"
    }
   ],
   "source": [
    "df2 = df[['post_ID','date','comments','favor','views']]\n",
    "df2.shape"
   ]
  },
  {
   "cell_type": "code",
   "execution_count": 17,
   "metadata": {},
   "outputs": [
    {
     "data": {
      "text/html": [
       "<div>\n",
       "<style scoped>\n",
       "    .dataframe tbody tr th:only-of-type {\n",
       "        vertical-align: middle;\n",
       "    }\n",
       "\n",
       "    .dataframe tbody tr th {\n",
       "        vertical-align: top;\n",
       "    }\n",
       "\n",
       "    .dataframe thead th {\n",
       "        text-align: right;\n",
       "    }\n",
       "</style>\n",
       "<table border=\"1\" class=\"dataframe\">\n",
       "  <thead>\n",
       "    <tr style=\"text-align: right;\">\n",
       "      <th></th>\n",
       "      <th>post_ID</th>\n",
       "      <th>date</th>\n",
       "      <th>comments</th>\n",
       "      <th>favor</th>\n",
       "      <th>views</th>\n",
       "    </tr>\n",
       "  </thead>\n",
       "  <tbody>\n",
       "    <tr>\n",
       "      <th>0</th>\n",
       "      <td>7947</td>\n",
       "      <td>2018-02-24</td>\n",
       "      <td>490</td>\n",
       "      <td>280</td>\n",
       "      <td>217975</td>\n",
       "    </tr>\n",
       "    <tr>\n",
       "      <th>1</th>\n",
       "      <td>10232</td>\n",
       "      <td>2018-02-24</td>\n",
       "      <td>52</td>\n",
       "      <td>9</td>\n",
       "      <td>6621</td>\n",
       "    </tr>\n",
       "    <tr>\n",
       "      <th>2</th>\n",
       "      <td>4364993</td>\n",
       "      <td>2018-02-24</td>\n",
       "      <td>22</td>\n",
       "      <td>0</td>\n",
       "      <td>4270</td>\n",
       "    </tr>\n",
       "    <tr>\n",
       "      <th>3</th>\n",
       "      <td>3828003</td>\n",
       "      <td>2018-02-24</td>\n",
       "      <td>5</td>\n",
       "      <td>1</td>\n",
       "      <td>3041</td>\n",
       "    </tr>\n",
       "    <tr>\n",
       "      <th>4</th>\n",
       "      <td>9024</td>\n",
       "      <td>2018-02-24</td>\n",
       "      <td>297</td>\n",
       "      <td>54</td>\n",
       "      <td>71467</td>\n",
       "    </tr>\n",
       "  </tbody>\n",
       "</table>\n",
       "</div>"
      ],
      "text/plain": [
       "   post_ID        date  comments  favor   views\n",
       "0     7947  2018-02-24       490    280  217975\n",
       "1    10232  2018-02-24        52      9    6621\n",
       "2  4364993  2018-02-24        22      0    4270\n",
       "3  3828003  2018-02-24         5      1    3041\n",
       "4     9024  2018-02-24       297     54   71467"
      ]
     },
     "execution_count": 17,
     "metadata": {},
     "output_type": "execute_result"
    }
   ],
   "source": [
    "df2.head()"
   ]
  },
  {
   "cell_type": "code",
   "execution_count": 18,
   "metadata": {
    "collapsed": true
   },
   "outputs": [],
   "source": [
    "from secret import dburl, dbusername, dbpasswd"
   ]
  },
  {
   "cell_type": "code",
   "execution_count": 19,
   "metadata": {
    "collapsed": true
   },
   "outputs": [],
   "source": [
    "db = pymysql.connect(host=dburl,    # your host, usually localhost\n",
    "                     user=dbusername,         # your username\n",
    "                     passwd=dbpasswd,  # your password\n",
    "                     port=3306,\n",
    "                     db=\"research\",\n",
    "                     charset='utf8')"
   ]
  },
  {
   "cell_type": "code",
   "execution_count": 20,
   "metadata": {
    "collapsed": true
   },
   "outputs": [],
   "source": [
    "cur=db.cursor()"
   ]
  },
  {
   "cell_type": "code",
   "execution_count": 21,
   "metadata": {
    "collapsed": true
   },
   "outputs": [],
   "source": [
    "t10=df2.head(10)"
   ]
  },
  {
   "cell_type": "code",
   "execution_count": 22,
   "metadata": {
    "collapsed": true
   },
   "outputs": [],
   "source": [
    "def split1W(df):\n",
    "    return [df.iloc[n*10000:(n+1)*10000,:] for n in range(0 ,int(df.shape[0]/10000.0)+1)]\n"
   ]
  },
  {
   "cell_type": "code",
   "execution_count": 23,
   "metadata": {},
   "outputs": [
    {
     "data": {
      "text/plain": [
       "(807698, 6)"
      ]
     },
     "execution_count": 23,
     "metadata": {},
     "output_type": "execute_result"
    }
   ],
   "source": [
    "df.shape"
   ]
  },
  {
   "cell_type": "code",
   "execution_count": 24,
   "metadata": {},
   "outputs": [],
   "source": [
    "results = split1W(df)"
   ]
  },
  {
   "cell_type": "code",
   "execution_count": 25,
   "metadata": {},
   "outputs": [
    {
     "data": {
      "text/plain": [
       "81"
      ]
     },
     "execution_count": 25,
     "metadata": {},
     "output_type": "execute_result"
    }
   ],
   "source": [
    "len(results)"
   ]
  },
  {
   "cell_type": "code",
   "execution_count": 26,
   "metadata": {},
   "outputs": [
    {
     "data": {
      "text/plain": [
       "(7698, 6)"
      ]
     },
     "execution_count": 26,
     "metadata": {},
     "output_type": "execute_result"
    }
   ],
   "source": [
    "results[-1].shape"
   ]
  },
  {
   "cell_type": "code",
   "execution_count": 27,
   "metadata": {},
   "outputs": [
    {
     "data": {
      "text/plain": [
       "\"(7947, '2018-02-24', 490, 280, 217975), (10232, '2018-02-24', 52, 9, 6621), (4364993, '2018-02-24', 22, 0, 4270), (3828003, '2018-02-24', 5, 1, 3041), (9024, '2018-02-24', 297, 54, 71467), (15250, '2018-02-24', 227, 28, 37794), (17599, '2018-02-24', 18, 1, 4306), (1419999, '2018-02-24', 40, 4, 9527), (1412421, '2018-02-24', 17, 0, 3241), (1405882, '2018-02-24', 52, 1, 6064)\""
      ]
     },
     "execution_count": 27,
     "metadata": {},
     "output_type": "execute_result"
    }
   ],
   "source": [
    "values = str(map(lambda x: tuple(x),t10.values))[1:-1]\n",
    "values"
   ]
  },
  {
   "cell_type": "code",
   "execution_count": 28,
   "metadata": {},
   "outputs": [
    {
     "data": {
      "text/plain": [
       "\"insert into monitorpost values (7947, '2018-02-24', 490, 280, 217975), (10232, '2018-02-24', 52, 9, 6621), (4364993, '2018-02-24', 22, 0, 4270), (3828003, '2018-02-24', 5, 1, 3041), (9024, '2018-02-24', 297, 54, 71467), (15250, '2018-02-24', 227, 28, 37794), (17599, '2018-02-24', 18, 1, 4306), (1419999, '2018-02-24', 40, 4, 9527), (1412421, '2018-02-24', 17, 0, 3241), (1405882, '2018-02-24', 52, 1, 6064)\""
      ]
     },
     "execution_count": 28,
     "metadata": {},
     "output_type": "execute_result"
    }
   ],
   "source": [
    "sql = \"\"\"insert into monitorpost values {}\"\"\".format(values)\n",
    "sql"
   ]
  },
  {
   "cell_type": "code",
   "execution_count": 29,
   "metadata": {},
   "outputs": [
    {
     "name": "stdout",
     "output_type": "stream",
     "text": [
      "CPU times: user 0 ns, sys: 4 ms, total: 4 ms\n",
      "Wall time: 31.7 ms\n"
     ]
    },
    {
     "data": {
      "text/plain": [
       "10"
      ]
     },
     "execution_count": 29,
     "metadata": {},
     "output_type": "execute_result"
    }
   ],
   "source": [
    "%%time\n",
    "cur.execute(sql)"
   ]
  },
  {
   "cell_type": "code",
   "execution_count": 30,
   "metadata": {},
   "outputs": [
    {
     "name": "stdout",
     "output_type": "stream",
     "text": [
      "CPU times: user 0 ns, sys: 0 ns, total: 0 ns\n",
      "Wall time: 35 ms\n"
     ]
    }
   ],
   "source": [
    "%%time\n",
    "db.commit()"
   ]
  },
  {
   "cell_type": "code",
   "execution_count": 32,
   "metadata": {},
   "outputs": [
    {
     "data": {
      "text/plain": [
       "1"
      ]
     },
     "execution_count": 32,
     "metadata": {},
     "output_type": "execute_result"
    }
   ],
   "source": [
    "cur.execute(\"insert into monitorpost (date, views, comments, postID, favors) values ('2000-07-07',7,77,777,77777)\")"
   ]
  },
  {
   "cell_type": "code",
   "execution_count": 33,
   "metadata": {
    "collapsed": true
   },
   "outputs": [],
   "source": [
    "db.commit()"
   ]
  },
  {
   "cell_type": "code",
   "execution_count": null,
   "metadata": {
    "collapsed": true
   },
   "outputs": [],
   "source": []
  },
  {
   "cell_type": "code",
   "execution_count": 31,
   "metadata": {
    "collapsed": true
   },
   "outputs": [],
   "source": [
    "from time import time"
   ]
  },
  {
   "cell_type": "code",
   "execution_count": 34,
   "metadata": {},
   "outputs": [
    {
     "data": {
      "text/html": [
       "<div>\n",
       "<style scoped>\n",
       "    .dataframe tbody tr th:only-of-type {\n",
       "        vertical-align: middle;\n",
       "    }\n",
       "\n",
       "    .dataframe tbody tr th {\n",
       "        vertical-align: top;\n",
       "    }\n",
       "\n",
       "    .dataframe thead th {\n",
       "        text-align: right;\n",
       "    }\n",
       "</style>\n",
       "<table border=\"1\" class=\"dataframe\">\n",
       "  <thead>\n",
       "    <tr style=\"text-align: right;\">\n",
       "      <th></th>\n",
       "      <th>post_ID</th>\n",
       "      <th>comments</th>\n",
       "      <th>favor</th>\n",
       "      <th>views</th>\n",
       "      <th>serial</th>\n",
       "      <th>date</th>\n",
       "    </tr>\n",
       "  </thead>\n",
       "  <tbody>\n",
       "    <tr>\n",
       "      <th>152942</th>\n",
       "      <td>12553041</td>\n",
       "      <td>39</td>\n",
       "      <td>8</td>\n",
       "      <td>1112</td>\n",
       "      <td>30</td>\n",
       "      <td>2019-02-21</td>\n",
       "    </tr>\n",
       "    <tr>\n",
       "      <th>152943</th>\n",
       "      <td>15022964</td>\n",
       "      <td>0</td>\n",
       "      <td>0</td>\n",
       "      <td>29</td>\n",
       "      <td>30</td>\n",
       "      <td>2019-02-21</td>\n",
       "    </tr>\n",
       "    <tr>\n",
       "      <th>152944</th>\n",
       "      <td>14563420</td>\n",
       "      <td>2</td>\n",
       "      <td>0</td>\n",
       "      <td>42</td>\n",
       "      <td>30</td>\n",
       "      <td>2019-02-21</td>\n",
       "    </tr>\n",
       "    <tr>\n",
       "      <th>152945</th>\n",
       "      <td>14379582</td>\n",
       "      <td>3</td>\n",
       "      <td>0</td>\n",
       "      <td>60</td>\n",
       "      <td>30</td>\n",
       "      <td>2019-02-21</td>\n",
       "    </tr>\n",
       "    <tr>\n",
       "      <th>152946</th>\n",
       "      <td>14217926</td>\n",
       "      <td>1</td>\n",
       "      <td>0</td>\n",
       "      <td>21</td>\n",
       "      <td>30</td>\n",
       "      <td>2019-02-21</td>\n",
       "    </tr>\n",
       "  </tbody>\n",
       "</table>\n",
       "</div>"
      ],
      "text/plain": [
       "         post_ID  comments  favor  views  serial        date\n",
       "152942  12553041        39      8   1112      30  2019-02-21\n",
       "152943  15022964         0      0     29      30  2019-02-21\n",
       "152944  14563420         2      0     42      30  2019-02-21\n",
       "152945  14379582         3      0     60      30  2019-02-21\n",
       "152946  14217926         1      0     21      30  2019-02-21"
      ]
     },
     "execution_count": 34,
     "metadata": {},
     "output_type": "execute_result"
    }
   ],
   "source": [
    "results[-1].head()"
   ]
  },
  {
   "cell_type": "code",
   "execution_count": 35,
   "metadata": {
    "collapsed": true
   },
   "outputs": [],
   "source": [
    "def BatchInsert(df):\n",
    "    df=df[['post_ID','date','comments','favor','views']]\n",
    "    batch = [df.iloc[n*10000:(n+1)*10000,:] for n in range(0 ,int(df.shape[0]/10000.0)+1)]\n",
    "    \n",
    "    start=time()\n",
    "    n=0\n",
    "    for d in batch:\n",
    "        sql = \"\"\"insert into monitorpost values {}\"\"\".format(str(map(lambda x: tuple(x),d.values))[1:-1])\n",
    "        n+=1\n",
    "        cur.execute(sql)\n",
    "        db.commit()\n",
    "        print n,'{:.2f}s |'.format(time()-start),\n",
    "        start=time()\n",
    "\n",
    "    "
   ]
  },
  {
   "cell_type": "code",
   "execution_count": 36,
   "metadata": {},
   "outputs": [
    {
     "data": {
      "text/plain": [
       "(807698, 6)"
      ]
     },
     "execution_count": 36,
     "metadata": {},
     "output_type": "execute_result"
    }
   ],
   "source": [
    "df.shape"
   ]
  },
  {
   "cell_type": "code",
   "execution_count": 57,
   "metadata": {},
   "outputs": [
    {
     "data": {
      "text/plain": [
       "(807595, 6)"
      ]
     },
     "execution_count": 57,
     "metadata": {},
     "output_type": "execute_result"
    }
   ],
   "source": [
    "df = df.drop_duplicates()\n",
    "df.shape"
   ]
  },
  {
   "cell_type": "code",
   "execution_count": 63,
   "metadata": {},
   "outputs": [],
   "source": [
    "# df[df['date']=='2018-02-24']['post_ID'].value_counts()"
   ]
  },
  {
   "cell_type": "code",
   "execution_count": 64,
   "metadata": {},
   "outputs": [
    {
     "name": "stdout",
     "output_type": "stream",
     "text": [
      "1 1.96s |\n",
      "2 1.75s |\n",
      "3 1.76s |\n",
      "4 1.80s |\n",
      "5 1.73s |\n",
      "6 1.72s |\n",
      "7 1.76s |\n",
      "8 1.79s |\n",
      "9 1.79s |\n",
      "10 1.79s |\n",
      "11 1.79s |\n",
      "12 1.88s |\n",
      "13 1.82s |\n",
      "14 1.88s |\n",
      "15 1.77s |\n",
      "16 1.77s |\n",
      "17 1.81s |\n",
      "18 1.79s |\n",
      "19 1.79s |\n",
      "20 1.78s |\n",
      "21 1.76s |\n",
      "22 1.76s |\n",
      "23 1.81s |\n",
      "24 1.77s |\n",
      "25 1.77s |\n",
      "26 1.71s |\n",
      "27 1.76s |\n",
      "28 1.75s |\n",
      "29 1.80s |\n",
      "30 1.82s |\n",
      "31 1.85s |\n",
      "32 1.79s |\n",
      "33 1.78s |\n",
      "34 1.75s |\n",
      "35 1.84s |\n",
      "36 1.77s |\n",
      "37 1.81s |\n",
      "38 1.74s |\n",
      "39 1.74s |\n",
      "40 1.78s |\n",
      "41 1.79s |\n",
      "42 1.75s |\n",
      "43 1.80s |\n",
      "44 1.77s |\n",
      "45 1.76s |\n",
      "46 1.81s |\n",
      "47 1.78s |\n",
      "48 1.78s |\n",
      "49 1.75s |\n",
      "50 1.78s |\n",
      "51 1.80s |\n",
      "52 1.68s |\n",
      "53 1.72s |\n",
      "54 1.71s |\n",
      "55 1.74s |\n",
      "56 1.79s |\n",
      "57 1.77s |\n",
      "58 1.78s |\n",
      "59 1.77s |\n",
      "60 1.75s |\n",
      "61 1.75s |\n",
      "62 1.78s |\n",
      "63 1.75s |\n",
      "64 1.77s |\n",
      "65 1.78s |\n",
      "66 1.76s |\n",
      "67 1.76s |\n",
      "68 1.77s |\n",
      "69 1.88s |\n",
      "70 1.75s |\n",
      "71 1.83s |\n",
      "72 1.77s |\n",
      "73 1.70s |\n",
      "74 1.73s |\n",
      "75 1.72s |\n",
      "76 1.74s |\n",
      "77 1.79s |\n",
      "78 1.82s |\n",
      "79 1.78s |\n",
      "80 1.83s |\n",
      "81 1.37s |\n",
      "CPU times: user 2.38 s, sys: 64 ms, total: 2.44 s\n",
      "Wall time: 2min 23s\n"
     ]
    }
   ],
   "source": [
    "%%time\n",
    "BatchInsert(df)"
   ]
  },
  {
   "cell_type": "code",
   "execution_count": null,
   "metadata": {
    "collapsed": true
   },
   "outputs": [],
   "source": []
  }
 ],
 "metadata": {
  "kernelspec": {
   "display_name": "Python 2",
   "language": "python",
   "name": "python2"
  },
  "language_info": {
   "codemirror_mode": {
    "name": "ipython",
    "version": 2
   },
   "file_extension": ".py",
   "mimetype": "text/x-python",
   "name": "python",
   "nbconvert_exporter": "python",
   "pygments_lexer": "ipython2",
   "version": "2.7.13"
  }
 },
 "nbformat": 4,
 "nbformat_minor": 2
}
