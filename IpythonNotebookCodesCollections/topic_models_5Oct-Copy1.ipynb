{
 "cells": [
  {
   "cell_type": "code",
   "execution_count": 90,
   "metadata": {
    "collapsed": true
   },
   "outputs": [],
   "source": [
    "# -*- coding: utf-8 -*-\n",
    "import pandas as pd\n",
    "from time import time\n",
    "import seaborn as sns\n",
    "\n",
    "\n",
    "import sys\n",
    "reload(sys)\n",
    "sys.setdefaultencoding('utf8')"
   ]
  },
  {
   "cell_type": "code",
   "execution_count": 92,
   "metadata": {
    "collapsed": true
   },
   "outputs": [],
   "source": [
    "gg = pd.read_excel('Google & Yelp Reviews.xlsx',sheetname=0)\n",
    "df = gg[~gg['Review'].isnull()]"
   ]
  },
  {
   "cell_type": "code",
   "execution_count": 93,
   "metadata": {
    "collapsed": true
   },
   "outputs": [],
   "source": [
    "import nltk\n",
    "# nltk.download('stopwords')\n",
    "from nltk.corpus import stopwords \n",
    "stopwords = set(stopwords.words('english'))\n",
    "punctuation = set(string.punctuation) \n",
    "lemmatize = WordNetLemmatizer()\n",
    "from nltk.stem.wordnet import WordNetLemmatizer\n",
    "import string\n"
   ]
  },
  {
   "cell_type": "code",
   "execution_count": 94,
   "metadata": {
    "collapsed": true
   },
   "outputs": [],
   "source": [
    "stop = pd.read_fwf('stop.txt',names=['words'])\n",
    "stopwords.update(set(stop['words'].values))\n",
    "# print (list(stopwords)[:10])\n",
    "stopwords.update(set(['dont','lot','wa','im','ha','doe','wa', 'able',]))"
   ]
  },
  {
   "cell_type": "code",
   "execution_count": 95,
   "metadata": {
    "collapsed": true
   },
   "outputs": [],
   "source": [
    "def cleaning(article):\n",
    "    article = str(article)\n",
    "    zero = \"\".join(i for i in article if i not in punctuation)\n",
    "    \n",
    "    one = \" \".join([i for i in zero.lower().split() if i not in stopwords])\n",
    "    \n",
    "    three = \" \".join(lemmatize.lemmatize(i) for i in one.split())\n",
    "    return three"
   ]
  },
  {
   "cell_type": "code",
   "execution_count": 96,
   "metadata": {
    "collapsed": true
   },
   "outputs": [],
   "source": [
    "from collections import defaultdict\n",
    "freq = defaultdict(int)\n",
    "\n",
    "for i in stopwords:\n",
    "    freq[i]+=1"
   ]
  },
  {
   "cell_type": "code",
   "execution_count": 97,
   "metadata": {},
   "outputs": [
    {
     "data": {
      "text/plain": [
       "1"
      ]
     },
     "execution_count": 97,
     "metadata": {},
     "output_type": "execute_result"
    }
   ],
   "source": [
    "print type(freq)\n",
    "freq['it']"
   ]
  },
  {
   "cell_type": "markdown",
   "metadata": {},
   "source": [
    "### all"
   ]
  },
  {
   "cell_type": "code",
   "execution_count": 98,
   "metadata": {
    "collapsed": true
   },
   "outputs": [],
   "source": [
    "# all_content = df['content'].append(holdout['content'])"
   ]
  },
  {
   "cell_type": "code",
   "execution_count": 99,
   "metadata": {
    "collapsed": true
   },
   "outputs": [],
   "source": [
    "all_content=df['Review']\n",
    "apple = all_content"
   ]
  },
  {
   "cell_type": "markdown",
   "metadata": {},
   "source": [
    "### choices"
   ]
  },
  {
   "cell_type": "code",
   "execution_count": 100,
   "metadata": {
    "collapsed": true
   },
   "outputs": [],
   "source": [
    "# nltk.download('wordnet')\n",
    "start = time()\n",
    "\n",
    "ap_text = apple.apply(cleaning)\n",
    "ap_text_list = [i.split() for i in ap_text]\n",
    "print (len(ap_text_list))\n",
    "\n",
    "print ('used: {:.2f}s'.format(time()-start))"
   ]
  },
  {
   "cell_type": "code",
   "execution_count": 101,
   "metadata": {},
   "outputs": [
    {
     "data": {
      "text/plain": [
       "2     edward schiller service tech complete highly r...\n",
       "3     product service impressed job foundation compa...\n",
       "4     tried charge 500 replace sump pump battery rep...\n",
       "6                                  awesome company deal\n",
       "7            prompt efficient glad chose company thanks\n",
       "8                                              time job\n",
       "9     ive heard masterdry little positive neighbor a...\n",
       "11    jeremy kevin extremely nice informative extrem...\n",
       "13                 service tech professional inspection\n",
       "14                       solve quickly price affordable\n",
       "Name: Review, dtype: object"
      ]
     },
     "execution_count": 101,
     "metadata": {},
     "output_type": "execute_result"
    }
   ],
   "source": [
    "ap_text[:10]"
   ]
  },
  {
   "cell_type": "code",
   "execution_count": 50,
   "metadata": {
    "collapsed": true
   },
   "outputs": [],
   "source": []
  },
  {
   "cell_type": "code",
   "execution_count": 103,
   "metadata": {},
   "outputs": [
    {
     "data": {
      "text/plain": [
       "'used: 0.09s'"
      ]
     },
     "execution_count": 103,
     "metadata": {},
     "output_type": "execute_result"
    }
   ],
   "source": [
    "from gensim.models.phrases import Phraser, Phrases\n",
    "\n",
    "start = time()\n",
    "phs = Phrases(ap_text_list)\n",
    "('used: {:.2f}s'.format(time()-start))"
   ]
  },
  {
   "cell_type": "code",
   "execution_count": 104,
   "metadata": {},
   "outputs": [
    {
     "data": {
      "text/plain": [
       "'used: 0.16s'"
      ]
     },
     "execution_count": 104,
     "metadata": {},
     "output_type": "execute_result"
    }
   ],
   "source": [
    "bi_gram = Phraser(phs)\n",
    "start = time()\n",
    "\n",
    "new_bi_list = [bi_gram[i] for i in ap_text_list]\n",
    "\n",
    "('used: {:.2f}s'.format(time()-start))"
   ]
  },
  {
   "cell_type": "code",
   "execution_count": 105,
   "metadata": {},
   "outputs": [
    {
     "data": {
      "text/plain": [
       "[u'edward', u'schiller', u'service_tech', u'complete', u'highly_recommend']"
      ]
     },
     "execution_count": 105,
     "metadata": {},
     "output_type": "execute_result"
    }
   ],
   "source": [
    "bi_gram[ap_text_list[0]]"
   ]
  },
  {
   "cell_type": "code",
   "execution_count": 106,
   "metadata": {},
   "outputs": [
    {
     "data": {
      "text/plain": [
       "[u'edward', u'schiller', u'service_tech', u'complete', u'highly_recommend']"
      ]
     },
     "execution_count": 106,
     "metadata": {},
     "output_type": "execute_result"
    }
   ],
   "source": [
    "new_bi_list[0]"
   ]
  },
  {
   "cell_type": "code",
   "execution_count": 107,
   "metadata": {},
   "outputs": [
    {
     "data": {
      "text/plain": [
       "'used: 0.42s'"
      ]
     },
     "execution_count": 107,
     "metadata": {},
     "output_type": "execute_result"
    }
   ],
   "source": [
    "start = time()\n",
    "\n",
    "phs3=Phrases(new_bi_list)\n",
    "tri_gram=Phraser(phs3)\n",
    "\n",
    "('used: {:.2f}s'.format(time()-start))\n"
   ]
  },
  {
   "cell_type": "code",
   "execution_count": 108,
   "metadata": {},
   "outputs": [
    {
     "data": {
      "text/plain": [
       "'used: 0.16s'"
      ]
     },
     "execution_count": 108,
     "metadata": {},
     "output_type": "execute_result"
    }
   ],
   "source": [
    "start = time()\n",
    "\n",
    "new_tri_list = [tri_gram[i] for i in new_bi_list]\n",
    "\n",
    "('used: {:.2f}s'.format(time()-start))\n"
   ]
  },
  {
   "cell_type": "code",
   "execution_count": 109,
   "metadata": {
    "collapsed": true
   },
   "outputs": [],
   "source": [
    "new_tri_list = new_bi_list"
   ]
  },
  {
   "cell_type": "code",
   "execution_count": 59,
   "metadata": {
    "collapsed": true
   },
   "outputs": [],
   "source": []
  },
  {
   "cell_type": "code",
   "execution_count": 110,
   "metadata": {
    "collapsed": true
   },
   "outputs": [],
   "source": [
    "make_dic = dict()\n",
    "for i,j in zip(range(len(new_tri_list)), new_tri_list):\n",
    "    make_dic[i]=j"
   ]
  },
  {
   "cell_type": "code",
   "execution_count": 111,
   "metadata": {
    "collapsed": true
   },
   "outputs": [],
   "source": [
    "without_stop = pd.Series(make_dic)"
   ]
  },
  {
   "cell_type": "code",
   "execution_count": 112,
   "metadata": {},
   "outputs": [
    {
     "data": {
      "text/plain": [
       "0    [edward, schiller, service_tech, complete, hig...\n",
       "1    [product, service, impressed, job, foundation,...\n",
       "2    [tried, charge, 500, replace, sump_pump, batte...\n",
       "3                             [awesome, company, deal]\n",
       "4    [prompt, efficient, glad, chose, company, thanks]\n",
       "5                                          [time, job]\n",
       "6    [ive, heard, masterdry, little, positive, neig...\n",
       "7    [jeremy_kevin, extremely, nice, informative, e...\n",
       "8             [service_tech, professional, inspection]\n",
       "9                  [solve, quickly, price, affordable]\n",
       "dtype: object"
      ]
     },
     "execution_count": 112,
     "metadata": {},
     "output_type": "execute_result"
    }
   ],
   "source": [
    "without_stop.head(10)"
   ]
  },
  {
   "cell_type": "code",
   "execution_count": 113,
   "metadata": {},
   "outputs": [
    {
     "data": {
      "text/plain": [
       "5"
      ]
     },
     "execution_count": 113,
     "metadata": {},
     "output_type": "execute_result"
    }
   ],
   "source": [
    "len(without_stop[0])"
   ]
  },
  {
   "cell_type": "code",
   "execution_count": 114,
   "metadata": {
    "collapsed": true
   },
   "outputs": [],
   "source": [
    "def helper_len(x):\n",
    "    leng=[0]\n",
    "    for i in x:\n",
    "        leng.append(len(i))\n",
    "    return max(leng)"
   ]
  },
  {
   "cell_type": "code",
   "execution_count": 115,
   "metadata": {
    "collapsed": true
   },
   "outputs": [],
   "source": [
    "with_stop = without_stop.apply(helper_len)\n",
    "\n",
    "import matplotlib.pyplot as plt\n",
    "%matplotlib inline"
   ]
  },
  {
   "cell_type": "code",
   "execution_count": 116,
   "metadata": {},
   "outputs": [
    {
     "data": {
      "text/plain": [
       "16    250\n",
       "12    203\n",
       "13    172\n",
       "15    136\n",
       "17    131\n",
       "18     97\n",
       "11     89\n",
       "14     81\n",
       "10     78\n",
       "20     70\n",
       "dtype: int64"
      ]
     },
     "execution_count": 116,
     "metadata": {},
     "output_type": "execute_result"
    }
   ],
   "source": [
    "with_stop.value_counts().head(10)"
   ]
  },
  {
   "cell_type": "code",
   "execution_count": 119,
   "metadata": {},
   "outputs": [
    {
     "data": {
      "text/plain": [
       "<Container object of 24 artists>"
      ]
     },
     "execution_count": 119,
     "metadata": {},
     "output_type": "execute_result"
    },
    {
     "data": {
      "image/png": "[encoded data removed]",
      "text/plain": [
       "<matplotlib.figure.Figure at 0x7f1bf37c2210>"
      ]
     },
     "metadata": {},
     "output_type": "display_data"
    }
   ],
   "source": [
    "graph = with_stop.value_counts()\n",
    "\n",
    "plt.figure(figsize=(12,6))\n",
    "plt.bar(graph.index, graph.values, .7, color='g', alpha=.7)"
   ]
  },
  {
   "cell_type": "code",
   "execution_count": 121,
   "metadata": {},
   "outputs": [
    {
     "data": {
      "text/plain": [
       "0    [edward, schiller, service_tech, complete, hig...\n",
       "1    [product, service, impressed, job, foundation,...\n",
       "2    [tried, charge, 500, replace, sump_pump, batte...\n",
       "3                             [awesome, company, deal]\n",
       "4    [prompt, efficient, glad, chose, company, thanks]\n",
       "5                                          [time, job]\n",
       "6    [ive, heard, masterdry, little, positive, neig...\n",
       "7    [jeremy_kevin, extremely, nice, informative, e...\n",
       "8             [service_tech, professional, inspection]\n",
       "9                  [solve, quickly, price, affordable]\n",
       "dtype: object"
      ]
     },
     "execution_count": 121,
     "metadata": {},
     "output_type": "execute_result"
    }
   ],
   "source": [
    "without_stop[:10]"
   ]
  },
  {
   "cell_type": "code",
   "execution_count": null,
   "metadata": {
    "collapsed": true
   },
   "outputs": [],
   "source": []
  },
  {
   "cell_type": "code",
   "execution_count": 122,
   "metadata": {
    "collapsed": true
   },
   "outputs": [],
   "source": [
    "ap_text_list = list(without_stop.values)"
   ]
  },
  {
   "cell_type": "code",
   "execution_count": 123,
   "metadata": {},
   "outputs": [
    {
     "data": {
      "text/plain": [
       "1551"
      ]
     },
     "execution_count": 123,
     "metadata": {},
     "output_type": "execute_result"
    }
   ],
   "source": [
    "len(ap_text_list)"
   ]
  },
  {
   "cell_type": "code",
   "execution_count": 124,
   "metadata": {},
   "outputs": [
    {
     "data": {
      "text/plain": [
       "[u'edward', u'schiller', u'service_tech', u'complete', u'highly_recommend']"
      ]
     },
     "execution_count": 124,
     "metadata": {},
     "output_type": "execute_result"
    }
   ],
   "source": [
    "ap_text_list[0]"
   ]
  },
  {
   "cell_type": "markdown",
   "metadata": {},
   "source": [
    "## topic models"
   ]
  },
  {
   "cell_type": "code",
   "execution_count": 125,
   "metadata": {
    "collapsed": true
   },
   "outputs": [],
   "source": [
    "# ! pip install gensim pyLDAvis WordCloud"
   ]
  },
  {
   "cell_type": "markdown",
   "metadata": {},
   "source": [
    "### change name"
   ]
  },
  {
   "cell_type": "code",
   "execution_count": 126,
   "metadata": {
    "collapsed": true
   },
   "outputs": [],
   "source": [
    "# Importing Gensim\n",
    "import gensim\n",
    "from gensim import corpora\n",
    "\n",
    "from time import time\n",
    "import logging\n",
    "\n",
    "logging.basicConfig(format='%(asctime)s : %(levelname)s : %(message)s', level=logging.INFO,\n",
    "                   filename='hw_running120.log',filemode='w')"
   ]
  },
  {
   "cell_type": "code",
   "execution_count": 127,
   "metadata": {},
   "outputs": [
    {
     "data": {
      "text/plain": [
       "<gensim.corpora.dictionary.Dictionary at 0x7f1c2342d1d0>"
      ]
     },
     "execution_count": 127,
     "metadata": {},
     "output_type": "execute_result"
    }
   ],
   "source": [
    "\n",
    "# Creating the term dictionary of our courpus, where every unique term is assigned an index. dictionary = corpora.Dictionary(doc_clean)\n",
    "dictionary = corpora.Dictionary(ap_text_list)\n",
    "dictionary.save('hw120.dict')\n",
    "(dictionary)"
   ]
  },
  {
   "cell_type": "code",
   "execution_count": 77,
   "metadata": {
    "collapsed": true
   },
   "outputs": [],
   "source": [
    "# gensim.models.ldamodel.LdaModel?"
   ]
  },
  {
   "cell_type": "code",
   "execution_count": 128,
   "metadata": {},
   "outputs": [
    {
     "data": {
      "text/plain": [
       "[(3, 1),\n",
       " (21, 1),\n",
       " (24, 1),\n",
       " (43, 1),\n",
       " (62, 1),\n",
       " (103, 1),\n",
       " (212, 2),\n",
       " (222, 1),\n",
       " (223, 1),\n",
       " (359, 1),\n",
       " (376, 1),\n",
       " (383, 1),\n",
       " (393, 1),\n",
       " (398, 1),\n",
       " (485, 1),\n",
       " (568, 1),\n",
       " (583, 1),\n",
       " (929, 1),\n",
       " (984, 1),\n",
       " (1071, 1),\n",
       " (1072, 1),\n",
       " (1073, 1),\n",
       " (1074, 1),\n",
       " (1075, 1),\n",
       " (1076, 1)]"
      ]
     },
     "execution_count": 128,
     "metadata": {},
     "output_type": "execute_result"
    }
   ],
   "source": [
    "# Converting list of documents (corpus) into Document Term Matrix using dictionary prepared above.\n",
    "doc_term_matrix = [dictionary.doc2bow(doc) for doc in ap_text_list]\n",
    "corpora.MmCorpus.serialize('hw120.mm', doc_term_matrix)\n",
    "\n",
    "(len(doc_term_matrix))\n",
    "(doc_term_matrix[100])"
   ]
  },
  {
   "cell_type": "code",
   "execution_count": 79,
   "metadata": {
    "collapsed": true
   },
   "outputs": [],
   "source": [
    "# Lda?"
   ]
  },
  {
   "cell_type": "code",
   "execution_count": 129,
   "metadata": {},
   "outputs": [
    {
     "data": {
      "text/plain": [
       "'used: 6.61s'"
      ]
     },
     "execution_count": 129,
     "metadata": {},
     "output_type": "execute_result"
    }
   ],
   "source": [
    "start = time()\n",
    "# Creating the object for LDA model using gensim library\n",
    "Lda = gensim.models.ldamodel.LdaModel\n",
    "\n",
    "# Running and Trainign LDA model on the document term matrix.\n",
    "ldamodel = Lda(doc_term_matrix, num_topics=3, id2word = dictionary, \n",
    "#                passes=5\n",
    "              )\n",
    "'used: {:.2f}s'.format(time()-start)"
   ]
  },
  {
   "cell_type": "code",
   "execution_count": 130,
   "metadata": {},
   "outputs": [
    {
     "data": {
      "text/plain": [
       "[(0,\n",
       "  u'0.022*\"job\" + 0.015*\"basement\" + 0.014*\"crew\" + 0.011*\"company\" + 0.010*\"time\" + 0.010*\"professional\" + 0.008*\"day\" + 0.007*\"system\" + 0.007*\"home\" + 0.006*\"house\"'),\n",
       " (1,\n",
       "  u'0.015*\"company\" + 0.012*\"basement\" + 0.011*\"professional\" + 0.010*\"job\" + 0.010*\"system\" + 0.007*\"time\" + 0.007*\"crew\" + 0.006*\"service\" + 0.005*\"thank\" + 0.005*\"house\"'),\n",
       " (2,\n",
       "  u'0.013*\"crew\" + 0.012*\"system\" + 0.010*\"service\" + 0.010*\"job\" + 0.009*\"home\" + 0.008*\"time\" + 0.008*\"basement\" + 0.008*\"professional\" + 0.005*\"day\" + 0.005*\"house\"')]"
      ]
     },
     "execution_count": 130,
     "metadata": {},
     "output_type": "execute_result"
    }
   ],
   "source": [
    "ldamodel.print_topics()"
   ]
  },
  {
   "cell_type": "code",
   "execution_count": 131,
   "metadata": {
    "collapsed": true
   },
   "outputs": [],
   "source": [
    "# !pip install pyLDAvis"
   ]
  },
  {
   "cell_type": "code",
   "execution_count": 132,
   "metadata": {
    "collapsed": true
   },
   "outputs": [],
   "source": [
    "ldamodel.save('hw120.model')"
   ]
  },
  {
   "cell_type": "markdown",
   "metadata": {},
   "source": [
    "## load saved model"
   ]
  },
  {
   "cell_type": "code",
   "execution_count": 133,
   "metadata": {
    "collapsed": true
   },
   "outputs": [],
   "source": [
    "from gensim.models import LdaModel\n",
    "loading = LdaModel.load('hw120.model')"
   ]
  },
  {
   "cell_type": "markdown",
   "metadata": {},
   "source": [
    "## plotting\n",
    "\n"
   ]
  },
  {
   "cell_type": "code",
   "execution_count": 134,
   "metadata": {
    "collapsed": true
   },
   "outputs": [],
   "source": [
    "import pyLDAvis.gensim\n",
    "import gensim\n",
    "from time import time\n",
    "pyLDAvis.enable_notebook()"
   ]
  },
  {
   "cell_type": "code",
   "execution_count": 135,
   "metadata": {
    "collapsed": true
   },
   "outputs": [],
   "source": [
    "d = gensim.corpora.Dictionary.load('hw120.dict')\n",
    "c = gensim.corpora.MmCorpus('hw120.mm')\n",
    "lda = gensim.models.LdaModel.load('hw120.model')"
   ]
  },
  {
   "cell_type": "code",
   "execution_count": 136,
   "metadata": {
    "collapsed": true
   },
   "outputs": [],
   "source": [
    "start = time()\n",
    "\n",
    "data = pyLDAvis.gensim.prepare(lda, c, d)\n",
    "\n",
    "print ('used: {:.2f}s'.format(time()-start))"
   ]
  },
  {
   "cell_type": "code",
   "execution_count": 137,
   "metadata": {
    "collapsed": true
   },
   "outputs": [],
   "source": [
    "pyLDAvis.save_html(data,'hw120.html')\n"
   ]
  },
  {
   "cell_type": "code",
   "execution_count": 138,
   "metadata": {},
   "outputs": [
    {
     "data": {
      "text/html": [
       "\n",
       "<link rel=\"stylesheet\" type=\"text/css\" href=\"https://cdn.rawgit.com/bmabey/pyLDAvis/files/ldavis.v1.0.0.css\">\n",
       "\n",
       "\n",
       "<div id=\"ldavis_el180121397585073575209359990763\"></div>\n",
       "<script type=\"text/javascript\">\n",
       "\n",
       "var ldavis_el180121397585073575209359990763_data = {\"plot.opts\": {\"xlab\": \"PC1\", \"ylab\": \"PC2\"}, \"topic.order\": [1, 3, 2], \"token.table\": {\"Topic\": [1, 1, 2, 3, 1, 2, 3, 3, 1, 2, 3, 1, 2, 3, 1, 2, 2, 1, 2, 3, 2, 3, 1, 3, 2, 3, 1, 2, 3, 2, 3, 2, 1, 3, 3, 1, 2, 3, 1, 2, 3, 1, 2, 3, 1, 2, 3, 3, 1, 1, 1, 2, 1, 2, 3, 1, 2, 3, 1, 2, 3, 2, 1, 2, 3, 1, 2, 2, 1, 2, 3, 1, 2, 3, 1, 2, 3, 1, 2, 3, 1, 2, 3, 1, 2, 3, 1, 1, 2, 3, 1, 2, 3, 3, 3, 1, 2, 3, 1, 1, 2, 3, 1, 2, 3, 1, 2, 3, 1, 2, 3, 1, 2, 3, 1, 2, 3, 3, 1, 2, 3, 1, 2, 3, 1, 2, 3, 2, 1, 3, 1, 2, 3, 1, 3, 3, 2, 3, 3, 1, 2, 1, 2, 3, 1, 2, 1, 1, 2, 3, 1, 1, 2, 3, 2, 1, 2, 3, 3, 1, 2, 3, 1, 2, 3, 1, 2, 3, 1, 2, 3, 1, 2, 3, 1, 2, 3, 3, 3, 1, 2, 3, 1, 2, 3, 1, 2, 3, 1, 2, 3, 1, 2, 3, 1, 2, 3, 1, 2, 1, 2, 3, 1, 2, 3, 1, 2, 3, 1, 3, 1, 3, 1, 2, 3, 1, 2, 3, 1, 2, 3, 1, 2, 3, 1, 2, 3, 1, 2, 3, 1, 2, 3, 1, 2, 3, 1, 2, 3, 2, 3, 3, 2, 1, 2, 3, 1, 2, 3, 1, 2, 3, 1, 2, 3, 1, 2, 3, 1, 3, 1, 2, 3, 1, 2, 3, 1, 2, 3, 1, 2, 1, 2, 3, 1, 1, 2, 1, 2, 3, 1, 1, 2, 3, 1, 2, 3, 1, 2, 3, 1, 2, 3, 1, 2, 3, 1, 3, 1, 2, 1, 1, 2, 3, 1, 2, 3, 1, 2, 3, 1, 2, 3, 1, 2, 3, 1, 2, 3, 2, 1, 2, 3, 3, 1, 2, 3, 1, 2, 3, 1, 2, 3, 1, 2, 1, 1, 1, 2, 3, 1, 2, 3, 1, 2, 3, 3, 2, 1, 2, 3, 1, 3, 1, 2, 3, 1, 2, 3, 2, 2, 3, 1, 2, 3, 1, 2, 3, 1, 3, 1, 2, 3, 2, 3, 1, 2, 1, 2, 3, 1, 2, 3, 2, 3, 1, 2, 3, 1, 2, 3, 1, 2, 3, 1, 2, 3, 1, 3, 1, 2, 3, 1, 2, 3, 1, 2, 3, 2, 1, 2, 3, 1, 2, 3, 1, 2, 3, 1, 2, 3, 1, 2, 3, 1, 1, 2, 3, 1, 2, 1, 2, 3, 3, 1, 3, 1, 2, 3, 1, 2, 3, 1, 2, 1, 2, 3, 1, 2, 3, 1, 2, 3, 1, 1, 2, 1, 2, 3, 1, 2, 1, 2], \"Freq\": [0.7178442403760382, 0.8428584140401635, 0.1204083448628805, 0.1204083448628805, 0.319564602433454, 0.319564602433454, 0.639129204866908, 0.6566833557585531, 0.12723665152114486, 0.2544733030422897, 0.5089466060845794, 0.761878671713173, 0.16039550983435222, 0.08019775491717611, 0.7972628648699163, 0.7291480901533679, 0.8129841801748001, 0.23061417774230505, 0.23061417774230505, 0.5765354443557626, 0.8072452759596577, 0.6399146879257477, 0.32365203153914474, 0.6473040630782895, 0.43018558005141716, 0.43018558005141716, 0.33325191142059296, 0.5831908449860377, 0.08331297785514824, 0.8037033800828493, 0.6400758828246108, 0.8072081221077021, 0.423155224696091, 0.423155224696091, 0.6400120894370098, 0.6179947521631308, 0.19159715720559073, 0.18971875370357513, 0.6743421480251803, 0.22478071600839344, 0.11239035800419672, 0.5732931983748735, 0.1941799542882636, 0.23116661224793286, 0.19949461998603318, 0.5984838599580996, 0.09974730999301659, 0.6557174091384463, 0.8021334874881255, 0.7179625867670805, 0.30097423118017363, 0.6019484623603473, 0.5172469299301081, 0.3145420519845252, 0.16775576105841344, 0.4881260899874948, 0.36046234337538074, 0.1501926430730753, 0.4685262550371074, 0.09370525100742148, 0.4685262550371074, 0.8038161149057294, 0.8512528670411412, 0.10640660838014265, 0.05320330419007133, 0.29723006458205375, 0.5944601291641075, 0.8086232445525053, 0.5340690866578605, 0.3247717418865368, 0.14434299639401635, 0.42019509420365364, 0.3388670114545594, 0.24398424824728274, 0.13531430418959373, 0.6765715209479687, 0.13531430418959373, 0.5835872687441092, 0.11484247457213394, 0.29999666827006416, 0.7478667279179958, 0.11505641967969167, 0.11505641967969167, 0.4921571533108866, 0.29880970022446685, 0.21092449427609425, 0.717313773362995, 0.4668986407067167, 0.1922523814674716, 0.32957551108709415, 0.3976658210581798, 0.3591820319235173, 0.23090273480797538, 0.640114532539076, 0.6610809321731191, 0.40735813485033695, 0.5032071077562986, 0.07188672967947123, 0.7969110077284807, 0.17272174188982053, 0.6908869675592821, 0.17272174188982053, 0.8130264496957202, 0.12508099226088004, 0.06254049613044002, 0.2784272150264551, 0.13921360751322756, 0.5568544300529102, 0.311171033755441, 0.4620418380005033, 0.22630620636759344, 0.7049590884121768, 0.22911170373395745, 0.07049590884121767, 0.4908928691879505, 0.37538866467313864, 0.13475490526728054, 0.6399368465614667, 0.5995847947653608, 0.29512273387204674, 0.10646832804244724, 0.42074493119551853, 0.19534586091220502, 0.39069172182441003, 0.627285535288805, 0.2352320757333019, 0.1381521714624154, 0.9051482846020225, 0.7198574254014342, 0.17996435635035854, 0.2636840186064308, 0.2636840186064308, 0.45202974618245284, 0.40965706099961086, 0.5462094146661478, 0.432618043582252, 0.9118914110320564, 0.6400263132373964, 0.6401179655839521, 0.29869506316113076, 0.5973901263222615, 0.1739883510020761, 0.6959534040083044, 0.1739883510020761, 0.856270111848438, 0.2140675279621095, 0.8066300865536795, 0.4448004990168331, 0.4034237084106161, 0.14481876712175962, 0.71781336921866, 0.6445050125148479, 0.18414428928995655, 0.16879893184912684, 0.810879961814001, 0.4650069411094066, 0.44387026196806995, 0.08454671656534665, 0.6403456058495265, 0.4196405885230806, 0.3122906705288042, 0.26349525325867856, 0.42172485886716254, 0.42172485886716254, 0.15996460163926854, 0.5731783570140515, 0.2715055375329718, 0.15686986613016146, 0.31937288992108276, 0.6387457798421655, 0.10645762997369425, 0.45294041804307483, 0.32144158699831116, 0.22647020902153742, 0.34550040294158335, 0.46066720392211113, 0.17275020147079168, 0.6401811668312315, 0.6398879608151264, 0.2915418403352449, 0.5182966050404354, 0.19436122689016327, 0.15271138524048367, 0.6108455409619347, 0.15271138524048367, 0.17257081813936234, 0.6902832725574494, 0.08628540906968117, 0.511192743014644, 0.255596371507322, 0.23733948782822756, 0.7837407606780895, 0.12057550164278301, 0.12057550164278301, 0.7758519787385484, 0.12930866312309142, 0.10344693049847313, 0.8862534690130175, 0.1772506938026035, 0.698151040824301, 0.1329811506332002, 0.18284908212065026, 0.6646574158217231, 0.19428447539404212, 0.1431569818692942, 0.7825164426229899, 0.08694627140255443, 0.13041940710383165, 0.41292029530162694, 0.6193804429524404, 0.32209631197441674, 0.6441926239488335, 0.33907022804985754, 0.5385233033733032, 0.13961715272641192, 0.5179062084027837, 0.29797343497146456, 0.1844597454585257, 0.45903149906909885, 0.40282356040757655, 0.13115185687688538, 0.512331213557145, 0.34552570216644657, 0.14297615262059857, 0.35812421312649156, 0.21487452787589495, 0.4297490557517899, 0.33376205789706254, 0.2748628712093456, 0.39266124458477947, 0.6252512549309824, 0.15937777086476024, 0.2206769135050526, 0.49622471436025967, 0.37470029451693077, 0.1282757765012916, 0.5744382182703124, 0.2502909379606361, 0.17643459561159594, 0.4302020138249185, 0.4302020138249185, 0.8704690243152821, 0.812246493041376, 0.4391862629950737, 0.2732714525302681, 0.28303114726349193, 0.7140642482109107, 0.16415270073814042, 0.11490689051669829, 0.6809248596910262, 0.2084463856197019, 0.11117140566384102, 0.3052816308045157, 0.3358097938849673, 0.3663379569654189, 0.609441028688415, 0.2631677169336337, 0.12465839223172123, 0.7663840940733736, 0.1532768188146747, 0.25466121485222626, 0.25466121485222626, 0.5093224297044525, 0.7037036799930553, 0.16911819600647765, 0.12755524953030942, 0.7474208492535404, 0.16986837483035008, 0.06794734993214004, 0.16904977891244188, 0.6761991156497675, 0.6089046236485831, 0.30874037255421116, 0.07718509313855279, 0.8026534690174214, 0.8537256106197759, 0.21343140265494398, 0.4194333772690195, 0.43940639523421093, 0.11983810779114844, 0.8075205461194562, 0.660849760731417, 0.2281505126334654, 0.1101416267885695, 0.8170463346794592, 0.1256994361045322, 0.0628497180522661, 0.5433120435321109, 0.2037420163245416, 0.25225202021133725, 0.22617967058890395, 0.3392695058833559, 0.4146627294129906, 0.3081156956201669, 0.5281983353488575, 0.1760661117829525, 0.325281449403691, 0.650562898807382, 0.20103798083039137, 0.8041519233215655, 0.717160520232814, 0.2094343844403549, 0.2094343844403549, 0.6283031533210647, 0.49072148519751685, 0.23367689771310327, 0.26872843237006877, 0.7387243438822062, 0.15552091450151712, 0.07776045725075856, 0.37971498048776026, 0.2847862353658202, 0.34807206544711355, 0.5759209594887655, 0.20770919850414496, 0.20770919850414496, 0.6531988463720254, 0.21103347344326975, 0.13063976927440507, 0.8074563758245804, 0.774366432614274, 0.07743664326142741, 0.07743664326142741, 0.6398917427642111, 0.3137697311698607, 0.470654596754791, 0.21722519850221123, 0.5425693621564317, 0.24379768696015872, 0.21511560614131653, 0.5647135822290821, 0.14117839555727052, 0.29176868415169244, 0.9139373013745875, 0.15232288356243123, 0.8507746352043687, 0.7982152702307094, 0.39303664531479793, 0.29477748398609843, 0.3088145070330555, 0.6213412276351283, 0.23148006519740078, 0.14619793591414784, 0.8045759964808805, 0.13409599941348008, 0.13409599941348008, 0.8636964331629768, 0.9062814080975466, 0.8081343787809234, 0.17958541750687187, 0.08979270875343594, 0.2561690770646553, 0.7685072311939659, 0.27380841181467264, 0.4654743000849435, 0.2464275706332054, 0.6796012829778438, 0.1059928606479206, 0.2119857212958412, 0.8160143000158526, 0.8093377976607513, 0.8610893861907367, 0.325097181927125, 0.4393205161177365, 0.2372330787035777, 0.7612006288341192, 0.1268667714723532, 0.0634333857361766, 0.3144425482618492, 0.6288850965236984, 0.21603630639505006, 0.21603630639505006, 0.6481089191851501, 0.3229473614102961, 0.6458947228205922, 0.8873735161686397, 0.17747470323372794, 0.21198432072820203, 0.21198432072820203, 0.6359529621846061, 0.12344511034922796, 0.7406706620953678, 0.24689022069845593, 0.6117363662312434, 0.8667196357504828, 0.4237551937182968, 0.41728564877603275, 0.16173862355660182, 0.30633873134884826, 0.5616210074728885, 0.10211291044961608, 0.4910405602867337, 0.38688044143803263, 0.11904013582708696, 0.8530008975003037, 0.21325022437507593, 0.6401190635367606, 0.420186035984902, 0.420186035984902, 0.8709696932008226, 0.0622121209429159, 0.0622121209429159, 0.592999806477027, 0.2501717933574958, 0.15751557359546028, 0.2981642134718554, 0.5963284269437108, 0.6399681732165797, 0.8050164907832555, 0.39261815297242336, 0.3848691104795466, 0.22213921812913426, 0.6435790987348736, 0.26017027395665104, 0.09585220619455564, 0.40712993656742713, 0.18094663847441206, 0.40712993656742713, 0.47465148613393093, 0.22700723249883653, 0.2957973029530294, 0.4201438493133075, 0.3954295052360541, 0.18947663792560926, 0.804684874575156, 0.6928685527883964, 0.16376893065907552, 0.1511713206083774, 0.23763838386131672, 0.7129151515839501, 0.5845886078675807, 0.26665445271152804, 0.1487111370891214, 0.640002379585376, 0.4263883446724052, 0.4263883446724052, 0.7558800272303364, 0.1511760054460673, 0.11338200408455046, 0.490123727935088, 0.3034099268169593, 0.21005302625789488, 0.7618504120474313, 0.15237008240948627, 0.6202408019930338, 0.2235751728114424, 0.15866625167263654, 0.6099366077691353, 0.22590244732190196, 0.16942683549142648, 0.2359575301532249, 0.7078725904596748, 0.6398656537586025, 0.717100610683684, 0.8521670635018257, 0.21304176587545642, 0.4323096418456758, 0.0720516069742793, 0.504361248819955, 0.8572129677903616, 0.2143032419475904, 0.300942329365666, 0.601884658731332], \"Term\": [\"29aug\", \"2nd\", \"2nd\", \"2nd\", \"8am\", \"8am\", \"8am\", \"90\", \"ac_unit\", \"ac_unit\", \"ac_unit\", \"additional\", \"additional\", \"additional\", \"adjusted\", \"advisor\", \"aggressive\", \"air_conditioning\", \"air_conditioning\", \"air_conditioning\", \"alberto\", \"alifereid\", \"allen\", \"allen\", \"ambulance\", \"ambulance\", \"anthony\", \"anthony\", \"anthony\", \"armor\", \"asian\", \"awesone\", \"bag\", \"bag\", \"barnes\", \"basement\", \"basement\", \"basement\", \"basement_doctor\", \"basement_doctor\", \"basement_doctor\", \"basement_system\", \"basement_system\", \"basement_system\", \"bert_tim\", \"bert_tim\", \"bert_tim\", \"brent\", \"buckleys\", \"bury\", \"caesar\", \"caesar\", \"call\", \"call\", \"call\", \"called\", \"called\", \"called\", \"cantey_foundation\", \"cantey_foundation\", \"cantey_foundation\", \"carbon\", \"carpet\", \"carpet\", \"carpet\", \"cheapest\", \"cheapest\", \"cheerfully\", \"clean\", \"clean\", \"clean\", \"cleaned\", \"cleaned\", \"cleaned\", \"clinton\", \"clinton\", \"clinton\", \"company\", \"company\", \"company\", \"competent\", \"competent\", \"competent\", \"completed\", \"completed\", \"completed\", \"complication\", \"concern\", \"concern\", \"concern\", \"concrete\", \"concrete\", \"concrete\", \"condensing\", \"conditioning\", \"contract\", \"contract\", \"contract\", \"cooky\", \"cory_schneider\", \"cory_schneider\", \"cory_schneider\", \"couldnt_happier\", \"couldnt_happier\", \"couldnt_happier\", \"couldnt_pleased\", \"couldnt_pleased\", \"couldnt_pleased\", \"courteous\", \"courteous\", \"courteous\", \"crack\", \"crack\", \"crack\", \"crawl_space\", \"crawl_space\", \"crawl_space\", \"creak\", \"crew\", \"crew\", \"crew\", \"customer_service\", \"customer_service\", \"customer_service\", \"day\", \"day\", \"day\", \"dean\", \"dedication\", \"dedication\", \"dehumidifier\", \"dehumidifier\", \"dehumidifier\", \"delivered\", \"delivered\", \"demo\", \"detector\", \"dewayne\", \"di\", \"diagnosing\", \"diagnosing\", \"dixon\", \"dixon\", \"dixon\", \"driver\", \"driver\", \"effect\", \"efficient\", \"efficient\", \"efficient\", \"elkton\", \"employee\", \"employee\", \"employee\", \"entry\", \"et\", \"et\", \"et\", \"eugene\", \"excellent\", \"excellent\", \"excellent\", \"excellent_job\", \"excellent_job\", \"excellent_job\", \"experience\", \"experience\", \"experience\", \"experienced\", \"experienced\", \"experienced\", \"explained\", \"explained\", \"explained\", \"explaining\", \"explaining\", \"explaining\", \"extend\", \"facebook\", \"family\", \"family\", \"family\", \"filled\", \"filled\", \"filled\", \"filter\", \"filter\", \"filter\", \"finished\", \"finished\", \"finished\", \"finishing\", \"finishing\", \"finishing\", \"floor\", \"floor\", \"floor\", \"footing\", \"footing\", \"foreman\", \"foreman\", \"foreman\", \"foundation\", \"foundation\", \"foundation\", \"foundation_repair\", \"foundation_repair\", \"foundation_repair\", \"fred\", \"fred\", \"freezer\", \"freezer\", \"gsm\", \"gsm\", \"gsm\", \"guy\", \"guy\", \"guy\", \"happy\", \"happy\", \"happy\", \"hard\", \"hard\", \"hard\", \"heard\", \"heard\", \"heard\", \"help\", \"help\", \"help\", \"highly_recommend\", \"highly_recommend\", \"highly_recommend\", \"home\", \"home\", \"home\", \"house\", \"house\", \"house\", \"humor\", \"humor\", \"incident\", \"informed_step\", \"install\", \"install\", \"install\", \"installation\", \"installation\", \"installation\", \"installed\", \"installed\", \"installed\", \"installing\", \"installing\", \"installing\", \"issue\", \"issue\", \"issue\", \"jeremy_abernathy\", \"jeremy_abernathy\", \"jimmy\", \"jimmy\", \"jimmy\", \"job\", \"job\", \"job\", \"josh\", \"josh\", \"josh\", \"juan_carlos\", \"juan_carlos\", \"knowledgeable\", \"knowledgeable\", \"knowledgeable\", \"kryz\", \"lane\", \"lane\", \"le\", \"le\", \"le\", \"leadership\", \"left\", \"left\", \"left\", \"lifting\", \"lifting\", \"lifting\", \"look\", \"look\", \"look\", \"maintenance\", \"maintenance\", \"maintenance\", \"mark\", \"mark\", \"mark\", \"masterdry\", \"masterdry\", \"mel\", \"mel\", \"orville\", \"pacific\", \"pacific\", \"pacific\", \"people\", \"people\", \"people\", \"pipework\", \"pipework\", \"pipework\", \"pleasant\", \"pleasant\", \"pleasant\", \"pleased\", \"pleased\", \"pleased\", \"polite\", \"polite\", \"polite\", \"politeness\", \"potential\", \"potential\", \"potential\", \"prenotification\", \"process\", \"process\", \"process\", \"professional\", \"professional\", \"professional\", \"project\", \"project\", \"project\", \"proof\", \"proof\", \"proofing\", \"pudding\", \"pump\", \"pump\", \"pump\", \"quality\", \"quality\", \"quality\", \"quickly_efficiently\", \"quickly_efficiently\", \"quickly_efficiently\", \"raby\", \"rail\", \"raise\", \"raise\", \"raise\", \"rashad\", \"rashad\", \"recently\", \"recently\", \"recently\", \"recommend\", \"recommend\", \"recommend\", \"reinforces\", \"reminder\", \"renaldo\", \"repair\", \"repair\", \"repair\", \"required\", \"required\", \"required\", \"rich\", \"rich\", \"rid\", \"rid\", \"rid\", \"salt\", \"salt\", \"salvador\", \"salvador\", \"schiller\", \"schiller\", \"schiller\", \"scott_ramsey\", \"scott_ramsey\", \"scott_ramsey\", \"semiannual\", \"senior\", \"service\", \"service\", \"service\", \"service_technician\", \"service_technician\", \"service_technician\", \"solution\", \"solution\", \"solution\", \"stabilizing\", \"stabilizing\", \"standpoint\", \"stephanie\", \"stephanie\", \"stephen\", \"stephen\", \"stephen\", \"sump_pump\", \"sump_pump\", \"sump_pump\", \"sunk\", \"sunk\", \"swear\", \"sykes\", \"system\", \"system\", \"system\", \"team\", \"team\", \"team\", \"technician\", \"technician\", \"technician\", \"thank\", \"thank\", \"thank\", \"thanks\", \"thanks\", \"thanks\", \"thomas\", \"thrasher\", \"thrasher\", \"thrasher\", \"tied\", \"tied\", \"time\", \"time\", \"time\", \"tolerant\", \"unplug\", \"unplug\", \"usa\", \"usa\", \"usa\", \"wall\", \"wall\", \"wall\", \"warm\", \"warm\", \"water\", \"water\", \"water\", \"week\", \"week\", \"week\", \"welcome\", \"welcome\", \"wellrun\", \"western\", \"wilk\", \"wilk\", \"worry\", \"worry\", \"worry\", \"zuniga\", \"zuniga\", \"\\u00e2\\u20ac\\u201d\", \"\\u00e2\\u20ac\\u201d\"]}, \"mdsDat\": {\"y\": [-0.024783487849079744, 0.006114579350271638, 0.018668908498808104], \"cluster\": [1, 1, 1], \"Freq\": [51.625776406031996, 28.570789663143632, 19.803433930824365], \"topics\": [1, 2, 3], \"x\": [0.007567365636812322, -0.026191775527765852, 0.01862440989095353]}, \"R\": 30, \"lambda.step\": 0.01, \"tinfo\": {\"Category\": [\"Default\", \"Default\", \"Default\", \"Default\", \"Default\", \"Default\", \"Default\", \"Default\", \"Default\", \"Default\", \"Default\", \"Default\", \"Default\", \"Default\", \"Default\", \"Default\", \"Default\", \"Default\", \"Default\", \"Default\", \"Default\", \"Default\", \"Default\", \"Default\", \"Default\", \"Default\", \"Default\", \"Default\", \"Default\", \"Default\", \"Topic1\", \"Topic1\", \"Topic1\", \"Topic1\", \"Topic1\", \"Topic1\", \"Topic1\", \"Topic1\", \"Topic1\", \"Topic1\", \"Topic1\", \"Topic1\", \"Topic1\", \"Topic1\", \"Topic1\", \"Topic1\", \"Topic1\", \"Topic1\", \"Topic1\", \"Topic1\", \"Topic1\", \"Topic1\", \"Topic1\", \"Topic1\", \"Topic1\", \"Topic1\", \"Topic1\", \"Topic1\", \"Topic1\", \"Topic1\", \"Topic1\", \"Topic1\", \"Topic1\", \"Topic1\", \"Topic1\", \"Topic1\", \"Topic1\", \"Topic1\", \"Topic1\", \"Topic1\", \"Topic1\", \"Topic1\", \"Topic1\", \"Topic1\", \"Topic1\", \"Topic1\", \"Topic1\", \"Topic1\", \"Topic1\", \"Topic1\", \"Topic1\", \"Topic1\", \"Topic1\", \"Topic1\", \"Topic1\", \"Topic1\", \"Topic1\", \"Topic1\", \"Topic1\", \"Topic1\", \"Topic1\", \"Topic1\", \"Topic1\", \"Topic1\", \"Topic1\", \"Topic1\", \"Topic1\", \"Topic1\", \"Topic1\", \"Topic1\", \"Topic1\", \"Topic1\", \"Topic1\", \"Topic1\", \"Topic1\", \"Topic1\", \"Topic1\", \"Topic1\", \"Topic1\", \"Topic1\", \"Topic1\", \"Topic1\", \"Topic2\", \"Topic2\", \"Topic2\", \"Topic2\", \"Topic2\", \"Topic2\", \"Topic2\", \"Topic2\", \"Topic2\", \"Topic2\", \"Topic2\", \"Topic2\", \"Topic2\", \"Topic2\", \"Topic2\", \"Topic2\", \"Topic2\", \"Topic2\", \"Topic2\", \"Topic2\", \"Topic2\", \"Topic2\", \"Topic2\", \"Topic2\", \"Topic2\", \"Topic2\", \"Topic2\", \"Topic2\", \"Topic2\", \"Topic2\", \"Topic2\", \"Topic2\", \"Topic2\", \"Topic2\", \"Topic2\", \"Topic2\", \"Topic2\", \"Topic2\", \"Topic2\", \"Topic2\", \"Topic2\", \"Topic2\", \"Topic2\", \"Topic2\", \"Topic2\", \"Topic2\", \"Topic2\", \"Topic2\", \"Topic2\", \"Topic2\", \"Topic2\", \"Topic2\", \"Topic2\", \"Topic2\", \"Topic2\", \"Topic2\", \"Topic2\", \"Topic2\", \"Topic2\", \"Topic2\", \"Topic2\", \"Topic2\", \"Topic2\", \"Topic2\", \"Topic2\", \"Topic2\", \"Topic2\", \"Topic2\", \"Topic2\", \"Topic2\", \"Topic2\", \"Topic2\", \"Topic2\", \"Topic2\", \"Topic2\", \"Topic2\", \"Topic2\", \"Topic2\", \"Topic2\", \"Topic3\", \"Topic3\", \"Topic3\", \"Topic3\", \"Topic3\", \"Topic3\", \"Topic3\", \"Topic3\", \"Topic3\", \"Topic3\", \"Topic3\", \"Topic3\", \"Topic3\", \"Topic3\", \"Topic3\", \"Topic3\", \"Topic3\", \"Topic3\", \"Topic3\", \"Topic3\", \"Topic3\", \"Topic3\", \"Topic3\", \"Topic3\", \"Topic3\", \"Topic3\", \"Topic3\", \"Topic3\", \"Topic3\", \"Topic3\", \"Topic3\", \"Topic3\", \"Topic3\", \"Topic3\", \"Topic3\", \"Topic3\", \"Topic3\", \"Topic3\", \"Topic3\", \"Topic3\", \"Topic3\", \"Topic3\", \"Topic3\", \"Topic3\", \"Topic3\", \"Topic3\", \"Topic3\", \"Topic3\", \"Topic3\", \"Topic3\", \"Topic3\", \"Topic3\", \"Topic3\", \"Topic3\", \"Topic3\", \"Topic3\", \"Topic3\", \"Topic3\", \"Topic3\", \"Topic3\", \"Topic3\", \"Topic3\", \"Topic3\", \"Topic3\", \"Topic3\", \"Topic3\", \"Topic3\", \"Topic3\", \"Topic3\", \"Topic3\", \"Topic3\", \"Topic3\", \"Topic3\", \"Topic3\", \"Topic3\", \"Topic3\", \"Topic3\", \"Topic3\", \"Topic3\", \"Topic3\", \"Topic3\", \"Topic3\", \"Topic3\", \"Topic3\", \"Topic3\"], \"Term\": [\"company\", \"system\", \"service\", \"professional\", \"basement\", \"thank\", \"repair\", \"courteous\", \"technician\", \"home\", \"customer_service\", \"project\", \"recommend\", \"process\", \"install\", \"help\", \"excellent\", \"explained\", \"thanks\", \"pump\", \"highly_recommend\", \"people\", \"concrete\", \"look\", \"dehumidifier\", \"wall\", \"finished\", \"gsm\", \"cleaned\", \"maintenance\", \"stephen\", \"cooky\", \"adjusted\", \"proofing\", \"pudding\", \"carpet\", \"footing\", \"proof\", \"buckleys\", \"kryz\", \"wilk\", \"jeremy_abernathy\", \"stabilizing\", \"salvador\", \"warm\", \"lifting\", \"couldnt_happier\", \"lane\", \"zuniga\", \"effect\", \"orville\", \"western\", \"thomas\", \"leadership\", \"quickly_efficiently\", \"complication\", \"driver\", \"bury\", \"elkton\", \"29aug\", \"2nd\", \"dedication\", \"floor\", \"potential\", \"finishing\", \"required\", \"additional\", \"job\", \"foundation_repair\", \"raise\", \"installation\", \"pipework\", \"recommend\", \"installed\", \"competent\", \"basement\", \"thrasher\", \"josh\", \"crack\", \"crew\", \"day\", \"left\", \"team\", \"foreman\", \"company\", \"time\", \"foundation\", \"usa\", \"highly_recommend\", \"polite\", \"water\", \"professional\", \"house\", \"issue\", \"knowledgeable\", \"experience\", \"basement_doctor\", \"quality\", \"home\", \"sump_pump\", \"employee\", \"week\", \"pleased\", \"service\", \"system\", \"clean\", \"basement_system\", \"call\", \"guy\", \"thank\", \"called\", \"wall\", \"advisor\", \"detector\", \"rail\", \"mel\", \"awesone\", \"alberto\", \"dean\", \"semiannual\", \"politeness\", \"sykes\", \"cory_schneider\", \"carbon\", \"armor\", \"reminder\", \"entry\", \"\\u00e2\\u20ac\\u201d\", \"informed_step\", \"filter\", \"scott_ramsey\", \"cheapest\", \"cheerfully\", \"caesar\", \"diagnosing\", \"aggressive\", \"sunk\", \"dixon\", \"tied\", \"reinforces\", \"juan_carlos\", \"clinton\", \"welcome\", \"bert_tim\", \"filled\", \"gsm\", \"service_technician\", \"service\", \"courteous\", \"system\", \"process\", \"contract\", \"repair\", \"mark\", \"home\", \"family\", \"anthony\", \"experienced\", \"happy\", \"thanks\", \"efficient\", \"crew\", \"le\", \"recently\", \"excellent_job\", \"et\", \"called\", \"explaining\", \"crawl_space\", \"time\", \"clean\", \"professional\", \"explained\", \"solution\", \"call\", \"concrete\", \"guy\", \"house\", \"basement\", \"job\", \"day\", \"wall\", \"knowledgeable\", \"experience\", \"hard\", \"issue\", \"completed\", \"team\", \"company\", \"excellent\", \"thank\", \"conditioning\", \"brent\", \"90\", \"incident\", \"masterdry\", \"allen\", \"senior\", \"raby\", \"renaldo\", \"rashad\", \"freezer\", \"demo\", \"salt\", \"unplug\", \"eugene\", \"ambulance\", \"extend\", \"di\", \"standpoint\", \"condensing\", \"asian\", \"barnes\", \"dewayne\", \"swear\", \"tolerant\", \"creak\", \"wellrun\", \"prenotification\", \"facebook\", \"alifereid\", \"rid\", \"8am\", \"rich\", \"jimmy\", \"air_conditioning\", \"schiller\", \"bag\", \"humor\", \"couldnt_pleased\", \"ac_unit\", \"pacific\", \"stephanie\", \"worry\", \"delivered\", \"fred\", \"dehumidifier\", \"technician\", \"cantey_foundation\", \"company\", \"customer_service\", \"help\", \"maintenance\", \"thank\", \"system\", \"project\", \"professional\", \"install\", \"pump\", \"basement\", \"installing\", \"excellent\", \"people\", \"heard\", \"look\", \"highly_recommend\", \"recommend\", \"explained\", \"repair\", \"pleasant\", \"finished\", \"concern\", \"basement_system\", \"job\", \"service\", \"house\", \"time\", \"courteous\", \"wall\", \"completed\", \"crew\", \"day\", \"home\", \"guy\", \"experience\", \"call\"], \"loglift\": [30.0, 29.0, 28.0, 27.0, 26.0, 25.0, 24.0, 23.0, 22.0, 21.0, 20.0, 19.0, 18.0, 17.0, 16.0, 15.0, 14.0, 13.0, 12.0, 11.0, 10.0, 9.0, 8.0, 7.0, 6.0, 5.0, 4.0, 3.0, 2.0, 1.0, 0.5232, 0.5109, 0.5087, 0.506, 0.5034, 0.4979, 0.4962, 0.4941, 0.4874, 0.4837, 0.4832, 0.4802, 0.4798, 0.4779, 0.4759, 0.4756, 0.4752, 0.4709, 0.459, 0.4588, 0.4537, 0.4537, 0.4533, 0.4531, 0.4522, 0.4519, 0.4507, 0.4496, 0.449, 0.4488, 0.4439, 0.4477, 0.4031, 0.4269, 0.421, 0.4217, 0.3959, 0.3097, 0.4116, 0.4239, 0.3256, 0.3784, 0.2765, 0.2788, 0.3965, 0.1797, 0.296, 0.3629, 0.315, 0.1485, 0.1955, 0.2453, 0.2253, 0.2932, 0.1243, 0.1227, 0.2471, 0.3574, 0.1905, 0.23, 0.1819, 0.0491, 0.1092, 0.1655, 0.1623, 0.1027, 0.2692, 0.194, -0.0391, 0.1407, 0.2326, 0.1636, 0.1112, -0.2008, -0.2751, 0.0279, 0.1037, 0.0029, 0.0022, -0.0818, -0.0494, -0.0552, 1.0876, 1.0387, 1.0287, 0.9994, 0.9863, 0.9825, 0.9785, 0.9685, 0.9641, 0.9629, 0.9581, 0.9541, 0.9528, 0.9454, 0.9425, 0.9232, 0.9229, 0.9208, 0.9136, 0.8979, 0.8835, 0.8834, 0.8826, 0.8792, 0.8728, 0.8718, 0.8698, 0.8695, 0.8687, 0.8661, 0.8655, 0.8181, 0.8098, 0.6191, 0.6987, 0.3756, 0.4755, 0.2993, 0.498, 0.5824, 0.4275, 0.6427, 0.2745, 0.5835, 0.7138, 0.7515, 0.3516, 0.3256, 0.3542, 0.0313, 0.4453, 0.5028, 0.3789, 0.4506, 0.2283, 0.4985, 0.2667, -0.0661, 0.129, -0.1622, 0.1272, 0.3119, 0.1041, 0.245, 0.0476, -0.1375, -0.3988, -0.5239, -0.1959, 0.0589, 0.0882, -0.0526, 0.2015, -0.0757, 0.0419, -0.0933, -0.9132, 0.098, -0.2308, 1.3491, 1.2908, 1.286, 1.2824, 1.2809, 1.258, 1.2437, 1.2283, 1.217, 1.2063, 1.1941, 1.1791, 1.1449, 1.1414, 1.1329, 1.1324, 1.1304, 1.1304, 1.1303, 1.1297, 1.1294, 1.1292, 1.1288, 1.1287, 1.1287, 1.1283, 1.1276, 1.1275, 1.1274, 1.1272, 1.117, 1.1118, 1.1006, 1.0817, 1.0276, 1.0559, 1.1031, 1.1025, 1.0229, 0.9991, 1.0334, 1.0937, 0.9321, 0.9886, 1.0254, 0.8552, 0.7167, 0.9262, 0.418, 0.6761, 0.6687, 0.7706, 0.4069, 0.1165, 0.3866, 0.0815, 0.3684, 0.4349, -0.0394, 0.6013, 0.2797, 0.308, 0.7903, 0.2303, 0.0967, 0.0764, 0.1217, 0.167, 0.5596, 0.1679, 0.5097, 0.1603, -0.4429, -0.2028, -0.1226, -0.2851, 0.1473, 0.0513, 0.0763, -0.6224, -0.3658, -0.4397, -0.0792, -0.2332, -0.1815], \"Freq\": [426.0, 387.0, 309.0, 418.0, 532.0, 145.0, 113.0, 106.0, 66.0, 296.0, 66.0, 106.0, 160.0, 82.0, 102.0, 50.0, 102.0, 136.0, 121.0, 71.0, 163.0, 85.0, 77.0, 103.0, 26.0, 128.0, 109.0, 50.0, 73.0, 26.0, 14.002827457139174, 3.2394852508103558, 3.230665916436117, 4.025919381991679, 3.2098860172565473, 15.964032664284549, 4.7838559555283595, 5.555185988849873, 3.143627550068566, 3.1299244817222416, 3.9286082534014044, 5.4443430442824, 3.9114154576541256, 4.691305444699558, 5.4531168821883345, 13.216632589268196, 13.276717506497562, 3.8737933476576862, 3.812143351000479, 3.0379542423895742, 2.266369026696651, 2.266422627713695, 3.0283523016548757, 3.01724004986196, 6.051326792171744, 2.261860294433533, 3.7848212653841835, 2.254433217290315, 2.253538070705144, 2.25318272834715, 6.6833796066554045, 4.488578833394331, 59.746752389211096, 10.217060812911301, 13.045514795890359, 12.408275650247583, 38.257150304995875, 490.9519963364653, 17.922492930169124, 8.784679968542694, 87.1116415085863, 19.38451727266302, 109.17875211879887, 98.19279729546295, 13.34034204067471, 328.92711427445647, 55.09540773407377, 21.84461161645249, 40.13966331210755, 320.65059109669284, 168.12656371230392, 83.8636862039833, 94.46055318941394, 41.64071674717384, 249.41775444761538, 227.6323483359883, 64.64151481923679, 19.528935559640974, 101.88877057178455, 64.6606526727899, 85.86193830444745, 226.85957581728448, 140.33574329522398, 87.96444839816121, 70.80478346168991, 94.82053587943234, 36.07440492263739, 51.44803793691215, 147.06715990011597, 64.13820538821768, 42.451318714042856, 53.83250620211102, 61.113039048493675, 130.56163611644274, 151.80210152435546, 73.55331172418464, 61.92984537885407, 74.07625151815121, 72.92732615764706, 69.15087916086449, 65.43243127081219, 62.79395512136203, 3.487926682482581, 2.655898627502523, 2.6457067220415174, 3.8608665138458345, 1.897982129206775, 1.890737810898387, 2.5192539107979237, 2.4602574050348367, 1.8557734395443644, 1.8592583272324479, 4.312038304295838, 1.8456077601786416, 1.8434893383169535, 1.817295372661729, 1.8085776075984743, 2.3900063886849643, 1.7704152735827299, 8.315282170891969, 5.770642795605492, 2.3593485402549486, 1.7095643038090245, 2.2963483949386427, 2.3119806052679768, 1.693217929059996, 2.2935511723059094, 3.9264765359687233, 2.869051264589752, 1.6705870733332635, 4.028809274240153, 5.020400590654967, 2.8772509630995, 6.491287627429218, 4.204666472446872, 26.605393506521146, 11.254200665006657, 128.59415384508966, 48.74513511264055, 149.1995238752623, 38.95573131359962, 21.347561688160688, 49.85985408252757, 12.342744835746245, 111.37674209140857, 15.808706302504588, 7.001806109295396, 5.690030725843605, 43.35030148642527, 48.026985649926154, 39.358206840526975, 157.82123055517513, 22.32842371261408, 17.25123998982522, 28.697865905419615, 21.211002657560872, 47.8026615369962, 16.336181744645287, 38.75415860679584, 104.30846805438907, 45.03611801274798, 101.63526875106209, 44.41157959389003, 26.228375094974645, 45.358466231553244, 28.45482365866555, 42.235952267846294, 60.68552947040676, 102.0823263959262, 118.05528515133369, 62.90650941773236, 38.9512822163424, 36.385349068103075, 44.925853377828886, 29.33125790462812, 38.24709812348626, 33.89981785414797, 38.013372886994134, 48.91081719717639, 32.29112690074082, 32.97411907075194, 2.309019150877371, 2.1959835550955753, 2.182400911334808, 1.6405015268248473, 2.1916997670929916, 2.1528752777336253, 1.5850178480492112, 1.5661567045350229, 1.5532807677084965, 2.5829641804108503, 2.0292741502314446, 1.48835758198456, 1.9268508874682049, 1.4542886441776257, 0.9601232235842648, 1.428516078623365, 0.9580442763806414, 0.9580572278861528, 0.9579621129952076, 0.9574489219381881, 0.9572323900297923, 0.9570797420402591, 0.9566568608574093, 0.9566620147018131, 0.9566043436123661, 0.9563346167968071, 0.9557651149367465, 0.955685897104936, 0.9555936782627852, 0.955362987963276, 2.8010230995907794, 1.8838171135390906, 1.8931156799682665, 2.293800087860461, 4.799388942062245, 2.685522458039318, 1.4102414021245966, 1.3864305545999875, 3.9565114443906024, 4.226993915008118, 2.6576918818254396, 1.4070357721576856, 6.9809757583489285, 3.897433017831446, 2.674409490015147, 12.364264359658689, 26.892933558422715, 5.33603134216309, 128.34283353485287, 25.911705080035954, 19.68614314809531, 11.353261148393145, 43.24481944663369, 86.14298024136528, 30.97169746389138, 89.88484258868856, 29.329344255584505, 21.793996675910176, 101.35753954817193, 11.834788252525664, 26.840666314652566, 23.06269757127265, 6.0940344145049945, 25.698159582476634, 35.58784556933097, 34.28315844953427, 30.61617731620741, 26.635787459272457, 10.951717192479887, 25.659525128871422, 12.00400053549013, 25.139389996238158, 88.72958412706544, 49.984963808404736, 42.69510185434702, 58.077047337213266, 24.334130464746114, 26.79373437342178, 24.31963840151673, 56.8986593917997, 36.78754531073814, 37.792854755899114, 25.7888839846293, 25.99608660121063, 23.630413656680293], \"Total\": [426.0, 387.0, 309.0, 418.0, 532.0, 145.0, 113.0, 106.0, 66.0, 296.0, 66.0, 106.0, 160.0, 82.0, 102.0, 50.0, 102.0, 136.0, 121.0, 71.0, 163.0, 85.0, 77.0, 103.0, 26.0, 128.0, 109.0, 50.0, 73.0, 26.0, 16.074038062736552, 3.7645357774028194, 3.762874369533678, 4.7015976199609435, 3.7583846261584366, 18.795825094386103, 5.6417268589857095, 6.565001768694451, 3.7400258769827395, 3.737602982856959, 4.693915279432095, 6.524143753329646, 4.689326836257608, 5.634605843983495, 6.562968164003185, 15.91097034307132, 15.98963970343809, 4.685346146633853, 4.666284984361357, 3.7191769188990653, 2.7887759345017122, 2.7890089203706006, 3.728167503563292, 3.7150757518387785, 7.4573440249812135, 2.7881801162458717, 4.671423122973619, 2.7856604743233433, 2.7862395516218936, 2.7861197283582193, 8.305072220191942, 5.556655886086566, 77.33433908044357, 12.913782905387354, 16.58711738911276, 15.764569215319236, 49.87670794688683, 697.7368656148644, 23.00271153365688, 11.136761702399749, 121.83777610765229, 25.72001336811185, 160.38816101463067, 143.92190064035566, 17.38277625505685, 532.3669802185545, 79.38013607149107, 29.434554872227217, 56.740881361065206, 535.3704810436677, 267.8206184407744, 127.1090722754144, 146.0581926678198, 60.15890193390094, 426.6714051796447, 390.0178637275906, 97.79474124973059, 26.459225379036873, 163.13441867663127, 99.5102798497284, 138.65582484037532, 418.37968715703516, 243.71637461997776, 144.39461056533364, 116.60282619396925, 165.74247585847186, 53.385362468335195, 82.08050219701315, 296.2367567474236, 107.92583623293203, 65.16628914353466, 88.53379074508564, 105.91731208072125, 309.14075376993713, 387.14460564098306, 138.55885286879834, 108.14710548765052, 143.06513140638475, 140.95216241012267, 145.36981767825012, 133.1623146832107, 128.5389717111262, 4.114390533984646, 3.289865398123087, 3.310230104242741, 4.9741844594214495, 2.4776757631945, 2.477561726976214, 3.314374065591967, 3.269382221497646, 2.476913997932811, 2.4844211552164146, 5.789659072787151, 2.4881312565306777, 2.488480264688984, 2.4711560559517283, 2.46645631188844, 3.3228957923859554, 2.462306722324155, 11.589444968528039, 8.100766382491667, 3.364397209973147, 2.473339733273196, 3.3225435814847724, 3.347895975972495, 2.460072469761932, 3.35385654889933, 5.747511222679888, 4.208074401749801, 2.4509374406320408, 5.915417378439417, 7.39020169367212, 4.238050802407641, 10.025333014694942, 6.54830023593356, 50.13710610269294, 19.58616193773879, 309.14075376993713, 106.05100224700134, 387.14460564098306, 82.86331477246536, 41.732319906280466, 113.81212159597882, 22.718738770871735, 296.2367567474236, 30.870354627832736, 12.002931905022598, 9.393408440964736, 106.74648711334719, 121.38699658070811, 96.67255341449763, 535.3704810436677, 50.067546213735994, 36.521887453072495, 68.7652135989797, 47.311121738339494, 133.1623146832107, 34.732231562777486, 103.89232193241207, 390.0178637275906, 138.55885286879834, 418.37968715703516, 136.88334608748423, 67.20422439386735, 143.06513140638475, 77.95490172504566, 140.95216241012267, 243.71637461997776, 532.3669802185545, 697.7368656148644, 267.8206184407744, 128.5389717111262, 116.60282619396925, 165.74247585847186, 83.93008050680446, 144.39461056533364, 113.78479338006458, 146.0581926678198, 426.6714051796447, 102.468639059291, 145.36981767825012, 3.0253481875896164, 3.0500944036666953, 3.0456078754877907, 2.2976119128112757, 3.0742607727345326, 3.0897380598677104, 2.3075512743728512, 2.315628412028658, 2.3226392428869023, 3.9036717915316803, 3.1046614407662867, 2.3115078412347216, 3.0964798586154925, 2.3452798663347645, 1.561656691113436, 2.324578150389134, 1.562057823334291, 1.5622120511611373, 1.5622093716047751, 1.5622204295743818, 1.562314761160925, 1.5624704853304499, 1.5624357613388988, 1.562577705972227, 1.5624941904869911, 1.5626541984154194, 1.5628280626190054, 1.5627643446064634, 1.562773581059631, 1.5627083091989205, 4.628851588359282, 3.1292577224920883, 3.1802311917637147, 3.9267856339265315, 8.672493684385952, 4.71733002028089, 2.3631989909097717, 2.324489351198098, 7.183205850800064, 7.859370614086106, 4.7747651498209045, 2.3798982221197176, 13.878940970143471, 7.323198561937762, 4.843549766763232, 26.54692550953591, 66.31789405525176, 10.671760539020378, 426.6714051796447, 66.54863296971844, 50.934489399759954, 26.527583068707287, 145.36981767825012, 387.14460564098306, 106.24855128003696, 418.37968715703516, 102.46222113851671, 71.24017654275912, 532.3669802185545, 32.756638431361786, 102.468639059291, 85.5882639479192, 13.961636261198487, 103.07152338449916, 163.13441867663127, 160.38816101463067, 136.88334608748423, 113.81212159597882, 31.602650979388496, 109.54772102153215, 36.410472247826874, 108.14710548765052, 697.7368656148644, 309.14075376993713, 243.71637461997776, 390.0178637275906, 106.05100224700134, 128.5389717111262, 113.78479338006458, 535.3704810436677, 267.8206184407744, 296.2367567474236, 140.95216241012267, 165.74247585847186, 143.06513140638475], \"logprob\": [30.0, 29.0, 28.0, 27.0, 26.0, 25.0, 24.0, 23.0, 22.0, 21.0, 20.0, 19.0, 18.0, 17.0, 16.0, 15.0, 14.0, 13.0, 12.0, 11.0, 10.0, 9.0, 8.0, 7.0, 6.0, 5.0, 4.0, 3.0, 2.0, 1.0, -7.3705, -8.8344, -8.8371, -8.6171, -8.8436, -7.2395, -8.4446, -8.2951, -8.8644, -8.8688, -8.6415, -8.3152, -8.6459, -8.4641, -8.3136, -7.4283, -7.4238, -8.6556, -8.6716, -8.8986, -9.1916, -9.1916, -8.9018, -8.9055, -8.2095, -9.1936, -8.6788, -9.1969, -9.1973, -9.1975, -8.1102, -8.5083, -5.9197, -7.6857, -7.4414, -7.4914, -6.3655, -3.8135, -7.1237, -7.8368, -5.5426, -7.0453, -5.3168, -5.4229, -7.419, -4.214, -6.0007, -6.9259, -6.3174, -4.2395, -4.8851, -5.5806, -5.4616, -6.2807, -4.4907, -4.5821, -5.8409, -7.0379, -5.3859, -5.8407, -5.5571, -4.5855, -5.0658, -5.5329, -5.7499, -5.4578, -6.4242, -6.0692, -5.0189, -5.8488, -6.2614, -6.0239, -5.8971, -5.138, -4.9872, -5.7118, -5.8838, -5.7047, -5.7203, -5.7735, -5.8288, -5.8699, -8.1689, -8.4414, -8.4452, -8.0673, -8.7774, -8.7812, -8.4942, -8.5179, -8.7999, -8.798, -7.9568, -8.8054, -8.8065, -8.8208, -8.8256, -8.5469, -8.847, -7.3001, -7.6654, -8.5598, -8.8819, -8.5868, -8.5801, -8.8915, -8.5881, -8.0504, -8.3642, -8.905, -8.0247, -7.8047, -8.3613, -7.5477, -7.982, -6.1371, -6.9974, -4.5615, -5.5316, -4.4129, -5.7557, -6.3572, -5.509, -6.9051, -4.7052, -6.6576, -7.472, -7.6795, -5.6489, -5.5464, -5.7455, -4.3567, -6.3123, -6.5703, -6.0613, -6.3636, -5.5511, -6.6248, -5.7609, -4.7708, -5.6107, -4.7968, -5.6247, -6.1513, -5.6036, -6.0699, -5.6749, -5.3125, -4.7924, -4.647, -5.2765, -5.7559, -5.824, -5.6132, -6.0395, -5.7741, -5.8948, -5.7802, -5.5282, -5.9434, -5.9224, -8.2148, -8.265, -8.2712, -8.5566, -8.267, -8.2848, -8.591, -8.603, -8.6113, -8.1027, -8.344, -8.654, -8.3958, -8.6771, -9.0923, -8.695, -9.0945, -9.0945, -9.0946, -9.0951, -9.0953, -9.0955, -9.0959, -9.0959, -9.096, -9.0963, -9.0969, -9.097, -9.0971, -9.0973, -8.0217, -8.4183, -8.4134, -8.2214, -7.4831, -8.0638, -8.7079, -8.7249, -7.6763, -7.6101, -8.0742, -8.7102, -7.1084, -7.6913, -8.0679, -6.5368, -5.7598, -7.3772, -4.1969, -5.7969, -6.0717, -6.6221, -5.2848, -4.5956, -5.6186, -4.5531, -5.6731, -5.97, -4.433, -6.5806, -5.7617, -5.9134, -7.2443, -5.8052, -5.4796, -5.517, -5.6301, -5.7694, -6.6581, -5.8067, -6.5664, -5.8272, -4.566, -5.1399, -5.2976, -4.9899, -5.8598, -5.7635, -5.8604, -5.0104, -5.4465, -5.4195, -5.8017, -5.7937, -5.8891]}};\n",
       "\n",
       "function LDAvis_load_lib(url, callback){\n",
       "  var s = document.createElement('script');\n",
       "  s.src = url;\n",
       "  s.async = true;\n",
       "  s.onreadystatechange = s.onload = callback;\n",
       "  s.onerror = function(){console.warn(\"failed to load library \" + url);};\n",
       "  document.getElementsByTagName(\"head\")[0].appendChild(s);\n",
       "}\n",
       "\n",
       "if(typeof(LDAvis) !== \"undefined\"){\n",
       "   // already loaded: just create the visualization\n",
       "   !function(LDAvis){\n",
       "       new LDAvis(\"#\" + \"ldavis_el180121397585073575209359990763\", ldavis_el180121397585073575209359990763_data);\n",
       "   }(LDAvis);\n",
       "}else if(typeof define === \"function\" && define.amd){\n",
       "   // require.js is available: use it to load d3/LDAvis\n",
       "   require.config({paths: {d3: \"https://cdnjs.cloudflare.com/ajax/libs/d3/3.5.5/d3.min\"}});\n",
       "   require([\"d3\"], function(d3){\n",
       "      window.d3 = d3;\n",
       "      LDAvis_load_lib(\"https://cdn.rawgit.com/bmabey/pyLDAvis/files/ldavis.v1.0.0.js\", function(){\n",
       "        new LDAvis(\"#\" + \"ldavis_el180121397585073575209359990763\", ldavis_el180121397585073575209359990763_data);\n",
       "      });\n",
       "    });\n",
       "}else{\n",
       "    // require.js not available: dynamically load d3 & LDAvis\n",
       "    LDAvis_load_lib(\"https://cdnjs.cloudflare.com/ajax/libs/d3/3.5.5/d3.min.js\", function(){\n",
       "         LDAvis_load_lib(\"https://cdn.rawgit.com/bmabey/pyLDAvis/files/ldavis.v1.0.0.js\", function(){\n",
       "                 new LDAvis(\"#\" + \"ldavis_el180121397585073575209359990763\", ldavis_el180121397585073575209359990763_data);\n",
       "            })\n",
       "         });\n",
       "}\n",
       "</script>"
      ],
      "text/plain": [
       "PreparedData(topic_coordinates=            Freq  cluster  topics         x         y\n",
       "topic                                                \n",
       "0      51.625776        1       1  0.007567 -0.024783\n",
       "2      28.570790        1       2 -0.026192  0.006115\n",
       "1      19.803434        1       3  0.018624  0.018669, topic_info=     Category        Freq              Term       Total  loglift  logprob\n",
       "term                                                                     \n",
       "903   Default  426.000000           company  426.000000  30.0000  30.0000\n",
       "1409  Default  387.000000            system  387.000000  29.0000  29.0000\n",
       "167   Default  309.000000           service  309.000000  28.0000  28.0000\n",
       "2253  Default  418.000000      professional  418.000000  27.0000  27.0000\n",
       "2680  Default  532.000000          basement  532.000000  26.0000  26.0000\n",
       "3099  Default  145.000000             thank  145.000000  25.0000  25.0000\n",
       "1180  Default  113.000000            repair  113.000000  24.0000  24.0000\n",
       "2686  Default  106.000000         courteous  106.000000  23.0000  23.0000\n",
       "3233  Default   66.000000        technician   66.000000  22.0000  22.0000\n",
       "3195  Default  296.000000              home  296.000000  21.0000  21.0000\n",
       "124   Default   66.000000  customer_service   66.000000  20.0000  20.0000\n",
       "181   Default  106.000000           project  106.000000  19.0000  19.0000\n",
       "3345  Default  160.000000         recommend  160.000000  18.0000  18.0000\n",
       "1333  Default   82.000000           process   82.000000  17.0000  17.0000\n",
       "5011  Default  102.000000           install  102.000000  16.0000  16.0000\n",
       "2545  Default   50.000000              help   50.000000  15.0000  15.0000\n",
       "5001  Default  102.000000         excellent  102.000000  14.0000  14.0000\n",
       "51    Default  136.000000         explained  136.000000  13.0000  13.0000\n",
       "1940  Default  121.000000            thanks  121.000000  12.0000  12.0000\n",
       "3897  Default   71.000000              pump   71.000000  11.0000  11.0000\n",
       "3433  Default  163.000000  highly_recommend  163.000000  10.0000  10.0000\n",
       "343   Default   85.000000            people   85.000000   9.0000   9.0000\n",
       "1137  Default   77.000000          concrete   77.000000   8.0000   8.0000\n",
       "2728  Default  103.000000              look  103.000000   7.0000   7.0000\n",
       "4674  Default   26.000000      dehumidifier   26.000000   6.0000   6.0000\n",
       "6397  Default  128.000000              wall  128.000000   5.0000   5.0000\n",
       "4788  Default  109.000000          finished  109.000000   4.0000   4.0000\n",
       "2755  Default   50.000000               gsm   50.000000   3.0000   3.0000\n",
       "5948  Default   73.000000           cleaned   73.000000   2.0000   2.0000\n",
       "2717  Default   26.000000       maintenance   26.000000   1.0000   1.0000\n",
       "...       ...         ...               ...         ...      ...      ...\n",
       "2253   Topic3   89.884843      professional  418.379687   0.0815  -4.5531\n",
       "5011   Topic3   29.329344           install  102.462221   0.3684  -5.6731\n",
       "3897   Topic3   21.793997              pump   71.240177   0.4349  -5.9700\n",
       "2680   Topic3  101.357540          basement  532.366980  -0.0394  -4.4330\n",
       "911    Topic3   11.834788        installing   32.756638   0.6013  -6.5806\n",
       "5001   Topic3   26.840666         excellent  102.468639   0.2797  -5.7617\n",
       "343    Topic3   23.062698            people   85.588264   0.3080  -5.9134\n",
       "2111   Topic3    6.094034             heard   13.961636   0.7903  -7.2443\n",
       "2728   Topic3   25.698160              look  103.071523   0.2303  -5.8052\n",
       "3433   Topic3   35.587846  highly_recommend  163.134419   0.0967  -5.4796\n",
       "3345   Topic3   34.283158         recommend  160.388161   0.0764  -5.5170\n",
       "51     Topic3   30.616177         explained  136.883346   0.1217  -5.6301\n",
       "1180   Topic3   26.635787            repair  113.812122   0.1670  -5.7694\n",
       "4253   Topic3   10.951717          pleasant   31.602651   0.5596  -6.6581\n",
       "4788   Topic3   25.659525          finished  109.547721   0.1679  -5.8067\n",
       "2281   Topic3   12.004001           concern   36.410472   0.5097  -6.5664\n",
       "2782   Topic3   25.139390   basement_system  108.147105   0.1603  -5.8272\n",
       "6385   Topic3   88.729584               job  697.736866  -0.4429  -4.5660\n",
       "167    Topic3   49.984964           service  309.140754  -0.2028  -5.1399\n",
       "4234   Topic3   42.695102             house  243.716375  -0.1226  -5.2976\n",
       "413    Topic3   58.077047              time  390.017864  -0.2851  -4.9899\n",
       "2686   Topic3   24.334130         courteous  106.051002   0.1473  -5.8598\n",
       "6397   Topic3   26.793734              wall  128.538972   0.0513  -5.7635\n",
       "6422   Topic3   24.319638         completed  113.784793   0.0763  -5.8604\n",
       "3406   Topic3   56.898659              crew  535.370481  -0.6224  -5.0104\n",
       "4630   Topic3   36.787545               day  267.820618  -0.3658  -5.4465\n",
       "3195   Topic3   37.792855              home  296.236757  -0.4397  -5.4195\n",
       "2048   Topic3   25.788884               guy  140.952162  -0.0792  -5.8017\n",
       "881    Topic3   25.996087        experience  165.742476  -0.2332  -5.7937\n",
       "377    Topic3   23.630414              call  143.065131  -0.1815  -5.8891\n",
       "\n",
       "[276 rows x 6 columns], token_table=      Topic      Freq              Term\n",
       "term                                   \n",
       "5486      1  0.717844             29aug\n",
       "270       1  0.842858               2nd\n",
       "270       2  0.120408               2nd\n",
       "270       3  0.120408               2nd\n",
       "6021      1  0.319565               8am\n",
       "6021      2  0.319565               8am\n",
       "6021      3  0.639129               8am\n",
       "65        3  0.656683                90\n",
       "1124      1  0.127237           ac_unit\n",
       "1124      2  0.254473           ac_unit\n",
       "1124      3  0.508947           ac_unit\n",
       "3220      1  0.761879        additional\n",
       "3220      2  0.160396        additional\n",
       "3220      3  0.080198        additional\n",
       "1497      1  0.797263          adjusted\n",
       "2971      2  0.729148           advisor\n",
       "640       2  0.812984        aggressive\n",
       "6388      1  0.230614  air_conditioning\n",
       "6388      2  0.230614  air_conditioning\n",
       "6388      3  0.576535  air_conditioning\n",
       "4107      2  0.807245           alberto\n",
       "4395      3  0.639915         alifereid\n",
       "613       1  0.323652             allen\n",
       "613       3  0.647304             allen\n",
       "1750      2  0.430186         ambulance\n",
       "1750      3  0.430186         ambulance\n",
       "2724      1  0.333252           anthony\n",
       "2724      2  0.583191           anthony\n",
       "2724      3  0.083313           anthony\n",
       "2962      2  0.803703             armor\n",
       "...     ...       ...               ...\n",
       "5077      3  0.640002          tolerant\n",
       "1322      1  0.426388            unplug\n",
       "1322      3  0.426388            unplug\n",
       "6208      1  0.755880               usa\n",
       "6208      2  0.151176               usa\n",
       "6208      3  0.113382               usa\n",
       "6397      1  0.490124              wall\n",
       "6397      2  0.303410              wall\n",
       "6397      3  0.210053              wall\n",
       "3355      1  0.761850              warm\n",
       "3355      2  0.152370              warm\n",
       "5398      1  0.620241             water\n",
       "5398      2  0.223575             water\n",
       "5398      3  0.158666             water\n",
       "970       1  0.609937              week\n",
       "970       2  0.225902              week\n",
       "970       3  0.169427              week\n",
       "2014      1  0.235958           welcome\n",
       "2014      2  0.707873           welcome\n",
       "2740      3  0.639866           wellrun\n",
       "4307      1  0.717101           western\n",
       "6417      1  0.852167              wilk\n",
       "6417      2  0.213042              wilk\n",
       "2324      1  0.432310             worry\n",
       "2324      2  0.072052             worry\n",
       "2324      3  0.504361             worry\n",
       "3063      1  0.857213            zuniga\n",
       "3063      2  0.214303            zuniga\n",
       "4933      1  0.300942               ��������\n",
       "4933      2  0.601885               ��������\n",
       "\n",
       "[463 rows x 3 columns], R=30, lambda_step=0.01, plot_opts={'xlab': 'PC1', 'ylab': 'PC2'}, topic_order=[1, 3, 2])"
      ]
     },
     "execution_count": 138,
     "metadata": {},
     "output_type": "execute_result"
    }
   ],
   "source": [
    "data"
   ]
  },
  {
   "cell_type": "markdown",
   "metadata": {
    "collapsed": true
   },
   "source": [
    "## wordcloud"
   ]
  },
  {
   "cell_type": "code",
   "execution_count": null,
   "metadata": {
    "collapsed": true
   },
   "outputs": [],
   "source": []
  },
  {
   "cell_type": "code",
   "execution_count": null,
   "metadata": {
    "collapsed": true
   },
   "outputs": [],
   "source": []
  },
  {
   "cell_type": "code",
   "execution_count": null,
   "metadata": {
    "collapsed": true
   },
   "outputs": [],
   "source": []
  },
  {
   "cell_type": "code",
   "execution_count": null,
   "metadata": {
    "collapsed": true
   },
   "outputs": [],
   "source": []
  }
 ],
 "metadata": {
  "anaconda-cloud": {},
  "kernelspec": {
   "display_name": "Python 2",
   "language": "python",
   "name": "python2"
  },
  "language_info": {
   "codemirror_mode": {
    "name": "ipython",
    "version": 2
   },
   "file_extension": ".py",
   "mimetype": "text/x-python",
   "name": "python",
   "nbconvert_exporter": "python",
   "pygments_lexer": "ipython2",
   "version": "2.7.13"
  }
 },
 "nbformat": 4,
 "nbformat_minor": 1
}
