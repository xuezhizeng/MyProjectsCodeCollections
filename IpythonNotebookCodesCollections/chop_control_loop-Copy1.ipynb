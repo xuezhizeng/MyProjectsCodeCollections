{
 "cells": [
  {
   "cell_type": "code",
   "execution_count": 1,
   "metadata": {
    "collapsed": true
   },
   "outputs": [],
   "source": [
    "# !ls"
   ]
  },
  {
   "cell_type": "code",
   "execution_count": 1,
   "metadata": {
    "collapsed": true,
    "scrolled": true
   },
   "outputs": [],
   "source": [
    "def wrapin(number):\n",
    "    from time import time\n",
    "    start=time()\n",
    "\n",
    "\n",
    "    !python -u /root/openface/util/align-dlib_mod.py \\\n",
    "    ..{'/real_soyoung_pics/img_'+str(number)} align \\\n",
    "    outerEyesAndNose \\\n",
    "    ../chopHead256_real_soyoung_pics \\\n",
    "    --size 256\n",
    "\n",
    "    end=time()-start\n",
    "    print end, end/60/60"
   ]
  },
  {
   "cell_type": "code",
   "execution_count": null,
   "metadata": {},
   "outputs": [
    {
     "name": "stdout",
     "output_type": "stream",
     "text": [
      "1 used 0.00 s | 100 used 33.07 s | 200 used 65.64 s | 300 used 98.04 s | 400 used 128.77 s | 500 used 164.63 s | 600 used 195.22 s | 700 used 228.43 s | 800 used 260.31 s | 900 used 292.79 s | 1000 used 325.45 s | 1100 used 357.74 s | 1200 used 390.92 s | 1300 used 421.55 s | 1400 used 454.46 s | 1500 used 488.52 s | 1600 used 519.93 s | 1700 used 553.13 s | 1800 used 584.93 s | 1900 used 616.12 s | 2000 used 649.38 s | 2100 used 680.41 s | 2200 used 713.80 s | 2300 used 746.29 s | 2400 used 776.70 s | 2500 used 810.62 s | 2600 used 844.37 s | 2700 used 877.31 s | 2800 used 909.53 s | 2900 used 941.33 s | 3000 used 976.77 s | 3100 used 1009.28 s | 3200 used 1042.30 s | 3300 used 1075.37 s | 3400 used 1109.20 s | 3500 used 1141.53 s | 3600 used 1173.07 s | 3700 used 1205.86 s | 3800 used 1237.62 s | 3900 used 1270.96 s | 4000 used 1304.24 s | 4100 used 1335.86 s | 4200 used 1367.92 s | 4300 used 1399.50 s | 4400 used 1432.96 s | 4500 used 1467.21 s | 4600 used 1499.12 s | 4700 used 1531.55 s | 4800 used 1563.36 s | 4900 used 1594.94 s | 5000 used 1626.79 s | 5100 used 1659.18 s | 5200 used 1692.34 s | 5300 used 1724.17 s | 5400 used 1757.47 s | 5500 used 1789.97 s | 5600 used 1821.98 s | 5700 used 1854.74 s | 5800 used 1887.93 s | 5900 used 1919.67 s | 6000 used 1952.25 s | 6100 used 1986.29 s | 6200 used 2019.11 s | 6300 used 2052.66 s | 6400 used 2085.10 s | 6500 used 2115.36 s | 6600 used 2146.59 s | 6700 used 2179.71 s | 6800 used 2210.02 s | 6900 used 2242.78 s | 7000 used 2275.70 s | 7100 used 2306.65 s | 7200 used 2339.92 s | 7300 used 2372.21 s | 7400 used 2404.95 s | 7500 used 2437.11 s | 7600 used 2468.65 s | 7700 used 2500.16 s | 7800 used 2531.53 s | 7900 used 2562.21 s | 8000 used 2594.29 s | 8100 used 2626.52 s | 8200 used 2658.04 s | 8300 used 2689.79 s | 8400 used 2723.74 s | 8500 used 2756.67 s | 8600 used 2788.37 s | 8700 used 2820.73 s | 8800 used 2853.28 s | 8900 used 2884.67 s | 9000 used 2915.75 s | 9100 used 2947.90 s | 9200 used 2979.74 s | 9300 used 3012.52 s | 9400 used 3046.41 s | 9500 used 3076.88 s | 9600 used 3109.05 s | 9700 used 3142.78 s | 9800 used 3174.25 s | 9900 used 3207.01 s |\n",
      "3239.428056 0.899841126667\n",
      "1 used 0.01 s | 100 used 32.19 s | 200 used 65.16 s | 300 used 98.63 s | 400 used 132.51 s | 500 used 166.92 s | 600 used 200.71 s | 700 used 235.41 s | 800 used 268.61 s | 900 used 300.63 s | 1000 used 334.31 s | 1100 used 367.19 s | 1200 used 400.64 s | 1300 used 433.86 s | 1400 used 467.63 s | 1500 used 503.24 s | 1600 used 537.61 s | 1700 used 570.32 s | 1800 used 603.42 s | 1900 used 638.15 s | 2000 used 671.39 s | 2100 used 704.62 s | 2200 used 738.68 s | 2300 used 770.41 s | 2400 used 804.83 s | 2500 used 838.68 s | 2600 used 873.55 s | 2700 used 905.94 s | 2800 used 939.96 s | 2900 used 972.93 s | 3000 used 1005.37 s | 3100 used 1039.68 s | 3200 used 1072.80 s | 3300 used 1104.89 s | 3400 used 1137.77 s | 3500 used 1170.83 s | 3600 used 1205.60 s | 3700 used 1239.73 s | 3800 used 1271.86 s | 3900 used 1305.72 s | 4000 used 1338.79 s | 4100 used 1370.79 s | 4200 used 1404.75 s | 4300 used 1438.18 s | 4400 used 1470.54 s | 4500 used 1504.49 s | 4600 used 1538.22 s | 4700 used 1570.48 s | 4800 used 1603.88 s | 4900 used 1637.33 s | 5000 used 1670.26 s | 5100 used 1704.53 s | 5200 used 1737.61 s | 5300 used 1772.14 s | 5400 used 1805.46 s | 5500 used 1839.69 s | 5600 used 1871.90 s | 5700 used 1905.77 s | 5800 used 1939.05 s | 5900 used 1972.66 s | 6000 used 2005.53 s | 6100 used 2039.54 s | 6200 used 2072.95 s | 6300 used 2106.00 s | 6400 used 2139.96 s | 6500 used 2174.30 s | 6600 used 2208.65 s | 6700 used 2241.94 s | 6800 used 2275.95 s | 6900 used 2309.27 s | 7000 used 2345.10 s | 7100 used 2378.94 s | 7200 used 2411.17 s | 7300 used 2444.08 s | 7400 used 2478.91 s |"
     ]
    }
   ],
   "source": [
    "for i in range(50,81):\n",
    "    wrapin(i)"
   ]
  },
  {
   "cell_type": "code",
   "execution_count": null,
   "metadata": {
    "collapsed": true
   },
   "outputs": [],
   "source": []
  }
 ],
 "metadata": {
  "kernelspec": {
   "display_name": "Python 2",
   "language": "python",
   "name": "python2"
  },
  "language_info": {
   "codemirror_mode": {
    "name": "ipython",
    "version": 2
   },
   "file_extension": ".py",
   "mimetype": "text/x-python",
   "name": "python",
   "nbconvert_exporter": "python",
   "pygments_lexer": "ipython2",
   "version": "2.7.6"
  }
 },
 "nbformat": 4,
 "nbformat_minor": 2
}
