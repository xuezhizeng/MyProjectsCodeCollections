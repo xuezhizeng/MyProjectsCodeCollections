{
 "cells": [
  {
   "cell_type": "code",
   "execution_count": 2,
   "metadata": {
    "collapsed": true
   },
   "outputs": [],
   "source": [
    "import requests\n",
    "from scrapy.selector import Selector"
   ]
  },
  {
   "attachments": {},
   "cell_type": "markdown",
   "metadata": {},
   "source": [
    "http://freelancer.com/u/ck95\n",
    "\n"
   ]
  },
  {
   "cell_type": "code",
   "execution_count": 48,
   "metadata": {
    "collapsed": true
   },
   "outputs": [],
   "source": [
    "\n",
    "C=[{u'domain': u'www.freelancer.com',\n",
    "  u'expiry': 1544207018,\n",
    "  u'httpOnly': False,\n",
    "  u'name': u'uniform_id_linked',\n",
    "  u'path': u'/',\n",
    "  u'secure': True,\n",
    "  u'value': u'linked'},\n",
    " {u'domain': u'www.freelancer.com',\n",
    "  u'expiry': 1544207018,\n",
    "  u'httpOnly': False,\n",
    "  u'name': u'_tracking_session',\n",
    "  u'path': u'/',\n",
    "  u'secure': False,\n",
    "  u'value': u'003d1f83-0499-2267-9889-de6faf69e341'},\n",
    " {u'domain': u'.freelancer.com',\n",
    "  u'expiry': 1575743036,\n",
    "  u'httpOnly': False,\n",
    "  u'name': u'_ga',\n",
    "  u'path': u'/',\n",
    "  u'secure': False,\n",
    "  u'value': u'GA1.2.39179155.1512671019'},\n",
    " {u'domain': u'www.freelancer.com',\n",
    "  u'expiry': 1513275834,\n",
    "  u'httpOnly': False,\n",
    "  u'name': u'XSRF-TOKEN',\n",
    "  u'path': u'/',\n",
    "  u'secure': True,\n",
    "  u'value': u'cP901C5DlKNE7eozLmVqEwnpQpKVhNGx96Zd20HXv9QKsHwbFyDAbgeC6hwwCjlz'},\n",
    " {u'domain': u'.freelancer.com',\n",
    "  u'expiry': 1515263034.616373,\n",
    "  u'httpOnly': False,\n",
    "  u'name': u'GETAFREE_USER_ID',\n",
    "  u'path': u'/',\n",
    "  u'secure': True,\n",
    "  u'value': u'26600248'},\n",
    " {u'domain': u'.freelancer.com',\n",
    "  u'expiry': 1515263034.616431,\n",
    "  u'httpOnly': False,\n",
    "  u'name': u'GETAFREE_AUTH_HASH_V2',\n",
    "  u'path': u'/',\n",
    "  u'secure': True,\n",
    "  u'value': u'sgwgk7UMRsCwu24FzTqmTBeKhzB%2BPYZ52wskJU%2FmESw%3D'},\n",
    " {u'domain': u'www.freelancer.com',\n",
    "  u'expiry': 1528223034.616457,\n",
    "  u'httpOnly': True,\n",
    "  u'name': u'qfence',\n",
    "  u'path': u'/',\n",
    "  u'secure': True,\n",
    "  u'value': u'eyJhbGciOiJIUzI1NiIsInR5cCI6IkZyZWVsYW5jZXJcXEdBRlxcQ29yZVxcSldUXFxKV1QifQ.eyIyNjYwMDI0OCI6MTUxMjY3MTAzNCwic3ViIjoicXVpY2tsb2dpbmZlbmNlIiwiaWF0IjoxNTEyNjcxMDM0fQ.5x_lMucGsOmnQI4EyBpuwJz2Mm7ZfPooIRViV0uRAqE'},\n",
    " {u'domain': u'.freelancer.com',\n",
    "  u'expiry': 1828031034.616486,\n",
    "  u'httpOnly': False,\n",
    "  u'name': u'GETAFREE_NOTNEW',\n",
    "  u'path': u'/',\n",
    "  u'secure': True,\n",
    "  u'value': u'true'},\n",
    " {u'domain': u'.freelancer.com',\n",
    "  u'expiry': 1544207034.616527,\n",
    "  u'httpOnly': False,\n",
    "  u'name': u'GETAFREE_LANGUAGE',\n",
    "  u'path': u'/',\n",
    "  u'secure': True,\n",
    "  u'value': u'en'},\n",
    " {u'domain': u'.freelancer.com',\n",
    "  u'expiry': 1512757436,\n",
    "  u'httpOnly': False,\n",
    "  u'name': u'_gid',\n",
    "  u'path': u'/',\n",
    "  u'secure': False,\n",
    "  u'value': u'GA1.2.889223541.1512671019'},\n",
    " {u'domain': u'.freelancer.com',\n",
    "  u'expiry': 1512672837,\n",
    "  u'httpOnly': False,\n",
    "  u'name': u'_uetsid',\n",
    "  u'path': u'/',\n",
    "  u'secure': False,\n",
    "  u'value': u'_uete2aebc29'},\n",
    " {u'domain': u'.freelancer.com',\n",
    "  u'expiry': 1512672837,\n",
    "  u'httpOnly': False,\n",
    "  u'name': u'__asc',\n",
    "  u'path': u'/',\n",
    "  u'secure': False,\n",
    "  u'value': u'a21410551603238028438af533c'},\n",
    " {u'domain': u'.freelancer.com',\n",
    "  u'expiry': 1544293437,\n",
    "  u'httpOnly': False,\n",
    "  u'name': u'__auc',\n",
    "  u'path': u'/',\n",
    "  u'secure': False,\n",
    "  u'value': u'a21410551603238028438af533c'},\n",
    " {u'domain': u'www.freelancer.com',\n",
    "  u'expiry': 1544207038,\n",
    "  u'httpOnly': False,\n",
    "  u'name': u'session2',\n",
    "  u'path': u'/',\n",
    "  u'secure': False,\n",
    "  u'value': u'e731100c67f1da9aba000daca698570f98d4f8a0f464e6287712304aeb9ef5fcf4e4e1be65941cdf'}]\n",
    "# In[ ]:\n",
    "\n",
    "s = requests.Session()\n",
    "for cookie in C:\n",
    "    s.cookies.set(cookie['name'], cookie['value'])\n"
   ]
  },
  {
   "cell_type": "code",
   "execution_count": 49,
   "metadata": {
    "collapsed": true
   },
   "outputs": [],
   "source": [
    "dic = {}"
   ]
  },
  {
   "cell_type": "code",
   "execution_count": 51,
   "metadata": {},
   "outputs": [
    {
     "data": {
      "text/plain": [
       "{u'GETAFREE_AUTH_HASH_V2': u'sgwgk7UMRsCwu24FzTqmTBeKhzB%2BPYZ52wskJU%2FmESw%3D',\n",
       " u'GETAFREE_LANGUAGE': u'en',\n",
       " u'GETAFREE_NOTNEW': u'true',\n",
       " u'GETAFREE_USER_ID': u'26600248',\n",
       " u'XSRF-TOKEN': u'cP901C5DlKNE7eozLmVqEwnpQpKVhNGx96Zd20HXv9QKsHwbFyDAbgeC6hwwCjlz',\n",
       " u'__asc': u'a21410551603238028438af533c',\n",
       " u'__auc': u'a21410551603238028438af533c',\n",
       " u'_ga': u'GA1.2.39179155.1512671019',\n",
       " u'_gid': u'GA1.2.889223541.1512671019',\n",
       " u'_tracking_session': u'003d1f83-0499-2267-9889-de6faf69e341',\n",
       " u'_uetsid': u'_uete2aebc29',\n",
       " u'qfence': u'eyJhbGciOiJIUzI1NiIsInR5cCI6IkZyZWVsYW5jZXJcXEdBRlxcQ29yZVxcSldUXFxKV1QifQ.eyIyNjYwMDI0OCI6MTUxMjY3MTAzNCwic3ViIjoicXVpY2tsb2dpbmZlbmNlIiwiaWF0IjoxNTEyNjcxMDM0fQ.5x_lMucGsOmnQI4EyBpuwJz2Mm7ZfPooIRViV0uRAqE',\n",
       " u'session2': u'e731100c67f1da9aba000daca698570f98d4f8a0f464e6287712304aeb9ef5fcf4e4e1be65941cdf',\n",
       " u'uniform_id_linked': u'linked'}"
      ]
     },
     "execution_count": 51,
     "metadata": {},
     "output_type": "execute_result"
    }
   ],
   "source": [
    "for cookie in C:\n",
    "    dic[cookie['name']]=cookie['value']\n",
    "dic"
   ]
  },
  {
   "cell_type": "code",
   "execution_count": null,
   "metadata": {
    "collapsed": true
   },
   "outputs": [],
   "source": []
  },
  {
   "cell_type": "code",
   "execution_count": 33,
   "metadata": {},
   "outputs": [
    {
     "data": {
      "text/plain": [
       "<200 https://www.freelancer.com/u/ck95>"
      ]
     },
     "execution_count": 33,
     "metadata": {},
     "output_type": "execute_result"
    }
   ],
   "source": [
    "c = s.get('http://freelancer.com/u/ck95')\n",
    "from scrapy.http import TextResponse\n",
    "response = TextResponse(c.url, body=c.text, encoding='utf-8')\n",
    "response"
   ]
  },
  {
   "cell_type": "code",
   "execution_count": 4,
   "metadata": {
    "collapsed": true
   },
   "outputs": [],
   "source": [
    "def parse(response):\n",
    "    pass\n"
   ]
  },
  {
   "cell_type": "code",
   "execution_count": 20,
   "metadata": {},
   "outputs": [],
   "source": [
    "# print response.text"
   ]
  },
  {
   "cell_type": "code",
   "execution_count": 37,
   "metadata": {},
   "outputs": [],
   "source": [
    "import re\n",
    "import json"
   ]
  },
  {
   "cell_type": "code",
   "execution_count": 38,
   "metadata": {},
   "outputs": [],
   "source": [
    "data = re.search(r\"window.profileData=(.*?)\\n\", response.body_as_unicode())        \n",
    "jsondata=data.group(1)[:-1]\n",
    "\n",
    "json_dict = json.loads(jsondata)"
   ]
  },
  {
   "cell_type": "code",
   "execution_count": 39,
   "metadata": {},
   "outputs": [
    {
     "data": {
      "text/plain": [
       "{u'abTests': {u'CLT567': {u'name': u'CLT-567-invite-to-bid-phase2-restart-2',\n",
       "   u'onExperiment': False,\n",
       "   u'onTest': False,\n",
       "   u'variant': u'outside_test'}},\n",
       " u'about': {u'account_balances': None,\n",
       "  u'address': None,\n",
       "  u'avatar': u'/ppic/77966776/logo/13262722/profile_logo_13262722.jpg',\n",
       "  u'avatar_cdn': u'//cdn6.f-cdn.com/ppic/77966776/logo/13262722/profile_logo_13262722.jpg',\n",
       "  u'avatar_large': u'/ppic/77966626/logo/13262722/VrqyQ/profile_logo_.jpg',\n",
       "  u'avatar_large_cdn': u'//cdn6.f-cdn.com/ppic/77966626/logo/13262722/VrqyQ/profile_logo_.jpg',\n",
       "  u'badges': None,\n",
       "  u'bid_quality_details': None,\n",
       "  u'chosen_role': 2,\n",
       "  u'closed': False,\n",
       "  u'company': u'',\n",
       "  u'corporate': None,\n",
       "  u'corporate_users': None,\n",
       "  u'cover_image': {u'current_image': {u'description': u'',\n",
       "    u'height': 550,\n",
       "    u'id': None,\n",
       "    u'url': u'//cdn2.f-cdn.com/static/img/profiles/cover-product.jpg',\n",
       "    u'width': 1920},\n",
       "   u'past_images': None},\n",
       "  u'display_name': u'ck95',\n",
       "  u'email': None,\n",
       "  u'employer_reputation': None,\n",
       "  u'endorsements': {u'review_count': None},\n",
       "  u'first_name': None,\n",
       "  u'force_verify': None,\n",
       "  u'hourly_rate': None,\n",
       "  u'id': 13262722,\n",
       "  u'is_active': None,\n",
       "  u'is_local': None,\n",
       "  u'jobs': None,\n",
       "  u'last_name': None,\n",
       "  u'limited_account': False,\n",
       "  u'location': {u'administrative_area': None,\n",
       "   u'city': u'Iowa City',\n",
       "   u'country': {u'code': u'us',\n",
       "    u'demonym': None,\n",
       "    u'flag_class': u'united-states',\n",
       "    u'flag_url': u'/img/flags/png/us.png',\n",
       "    u'flag_url_cdn': u'//cdn3.f-cdn.com/img/flags/png/us.png',\n",
       "    u'highres_flag_url': u'/img/flags/highres_png/united-states.png',\n",
       "    u'highres_flag_url_cdn': u'//cdn6.f-cdn.com/img/flags/highres_png/united-states.png',\n",
       "    u'iso3': None,\n",
       "    u'language_code': None,\n",
       "    u'language_id': None,\n",
       "    u'name': u'United States',\n",
       "    u'person': None,\n",
       "    u'phone_code': None,\n",
       "    u'region_id': None,\n",
       "    u'sanction': None,\n",
       "    u'seo_url': None},\n",
       "   u'full_address': None,\n",
       "   u'latitude': None,\n",
       "   u'longitude': None,\n",
       "   u'vicinity': None},\n",
       "  u'membership_package': None,\n",
       "  u'mobile_tracking': None,\n",
       "  u'portfolio_count': None,\n",
       "  u'preferred_freelancer': False,\n",
       "  u'primary_currency': {u'code': u'USD',\n",
       "   u'country': u'US',\n",
       "   u'exchange_rate': 1,\n",
       "   u'id': 1,\n",
       "   u'is_external': None,\n",
       "   u'name': u'US Dollar',\n",
       "   u'sign': u'$'},\n",
       "  u'primary_language': u'en',\n",
       "  u'profile_description': u'Hello',\n",
       "  u'public_name': u'Ck W.',\n",
       "  u'qualifications': None,\n",
       "  u'recommendations': 0,\n",
       "  u'registration_date': 1411430826,\n",
       "  u'registration_date_human': u'September, 2014',\n",
       "  u'registration_date_localized': u'September 22, 2014',\n",
       "  u'reputation': {u'earnings_score': 0,\n",
       "   u'entire_history': {u'all': 0,\n",
       "    u'category_ratings': {u'communication': 0,\n",
       "     u'expertise': 0,\n",
       "     u'hire_again': 0,\n",
       "     u'professionalism': 0,\n",
       "     u'quality': 0},\n",
       "    u'complete': 0,\n",
       "    u'completion_rate': 0,\n",
       "    u'earnings': None,\n",
       "    u'incomplete': 0,\n",
       "    u'incomplete_reviews': 0,\n",
       "    u'on_budget': 0,\n",
       "    u'on_time': 0,\n",
       "    u'overall': 0,\n",
       "    u'positive': 0,\n",
       "    u'rehire_rate': 0,\n",
       "    u'reviews': 0},\n",
       "   u'job_history': {u'count_other': 0, u'job_counts': []},\n",
       "   u'last12months': {u'all': 0,\n",
       "    u'category_ratings': {u'communication': 0,\n",
       "     u'expertise': 0,\n",
       "     u'hire_again': 0,\n",
       "     u'professionalism': 0,\n",
       "     u'quality': 0},\n",
       "    u'complete': 0,\n",
       "    u'completion_rate': 0,\n",
       "    u'earnings': None,\n",
       "    u'incomplete': 0,\n",
       "    u'incomplete_reviews': 0,\n",
       "    u'on_budget': 0,\n",
       "    u'on_time': 0,\n",
       "    u'overall': 0,\n",
       "    u'positive': 0,\n",
       "    u'rehire_rate': 0,\n",
       "    u'reviews': 0},\n",
       "   u'last3months': {u'all': 0,\n",
       "    u'category_ratings': {u'communication': 0,\n",
       "     u'expertise': 0,\n",
       "     u'hire_again': 0,\n",
       "     u'professionalism': 0,\n",
       "     u'quality': 0},\n",
       "    u'complete': 0,\n",
       "    u'completion_rate': 0,\n",
       "    u'earnings': None,\n",
       "    u'incomplete': 0,\n",
       "    u'incomplete_reviews': 0,\n",
       "    u'on_budget': 0,\n",
       "    u'on_time': 0,\n",
       "    u'overall': 0,\n",
       "    u'positive': 0,\n",
       "    u'rehire_rate': 0,\n",
       "    u'reviews': 0},\n",
       "   u'project_stats': None,\n",
       "   u'role': 0,\n",
       "   u'summary': {u'completion_rate': u'N/A',\n",
       "    u'earnings_score': u'0.0',\n",
       "    u'earnings_score_pc': 0,\n",
       "    u'on_budget': u'N/A',\n",
       "    u'on_time': u'N/A',\n",
       "    u'rating_score': u'0.0',\n",
       "    u'rehire_rate': u'N/A',\n",
       "    u'reviews': 0},\n",
       "   u'user_id': 13262722},\n",
       "  u'responsiveness': None,\n",
       "  u'role': 0,\n",
       "  u'search_languages': None,\n",
       "  u'spam_profile': None,\n",
       "  u'status': {u'deposit_made': True,\n",
       "   u'email_verified': True,\n",
       "   u'facebook_connected': True,\n",
       "   u'identity_verified': False,\n",
       "   u'payment_verified': True,\n",
       "   u'phone_verified': True,\n",
       "   u'profile_complete': True},\n",
       "  u'support_status': None,\n",
       "  u'suspended': None,\n",
       "  u'tagline': u'Computer Programmer',\n",
       "  u'test_user': False,\n",
       "  u'timezone': {u'country': u'US',\n",
       "   u'id': 105,\n",
       "   u'offset': -7,\n",
       "   u'timezone': u'America/Los_Angeles'},\n",
       "  u'true_location': None,\n",
       "  u'user_id': 0,\n",
       "  u'username': u'ck95',\n",
       "  u'username_sentence': u'Ck95'},\n",
       " u'canViewEmployer': False,\n",
       " u'hireMeCurrencyId': 1,\n",
       " u'isLoggedIn': True,\n",
       " u'isOwner': False,\n",
       " u'isSupportAgent': False,\n",
       " u'jobsLimit': 0,\n",
       " u'resume': {u'certifications': [],\n",
       "  u'education': [],\n",
       "  u'exams': [],\n",
       "  u'experience': [],\n",
       "  u'publications': [],\n",
       "  u'show': False},\n",
       " u'skills': [{u'certified': False,\n",
       "   u'id': 39,\n",
       "   u'islocal': u'0',\n",
       "   u'name': u'Data Entry',\n",
       "   u'seo_url': u'data_entry',\n",
       "   u'usages': 0},\n",
       "  {u'certified': False,\n",
       "   u'id': 100,\n",
       "   u'islocal': u'0',\n",
       "   u'name': u'Advertising',\n",
       "   u'seo_url': u'advertising',\n",
       "   u'usages': 0},\n",
       "  {u'certified': False,\n",
       "   u'id': 160,\n",
       "   u'islocal': u'0',\n",
       "   u'name': u'eBooks',\n",
       "   u'seo_url': u'ebooks',\n",
       "   u'usages': 0},\n",
       "  {u'certified': False,\n",
       "   u'id': 251,\n",
       "   u'islocal': u'0',\n",
       "   u'name': u'eBay',\n",
       "   u'seo_url': u'ebay',\n",
       "   u'usages': 0},\n",
       "  {u'certified': False,\n",
       "   u'id': 349,\n",
       "   u'islocal': u'0',\n",
       "   u'name': u'Classifieds Posting',\n",
       "   u'seo_url': u'classifieds_posting',\n",
       "   u'usages': 0}],\n",
       " u'timeOffset': -480,\n",
       " u'userId': 13262722,\n",
       " u'username': u'ck95',\n",
       " u'viewer': 0}"
      ]
     },
     "execution_count": 39,
     "metadata": {},
     "output_type": "execute_result"
    }
   ],
   "source": [
    "json_dict"
   ]
  },
  {
   "cell_type": "code",
   "execution_count": 117,
   "metadata": {},
   "outputs": [
    {
     "data": {
      "text/plain": [
       "<generator object parse at 0x7f39c631ebe0>"
      ]
     },
     "execution_count": 117,
     "metadata": {},
     "output_type": "execute_result"
    }
   ],
   "source": [
    "parse(response)"
   ]
  },
  {
   "cell_type": "code",
   "execution_count": 41,
   "metadata": {},
   "outputs": [],
   "source": [
    "import scrapy"
   ]
  },
  {
   "cell_type": "code",
   "execution_count": 43,
   "metadata": {
    "collapsed": true
   },
   "outputs": [],
   "source": [
    "scrapy.Spider??"
   ]
  },
  {
   "cell_type": "code",
   "execution_count": null,
   "metadata": {
    "collapsed": true
   },
   "outputs": [],
   "source": []
  }
 ],
 "metadata": {
  "kernelspec": {
   "display_name": "Python 2",
   "language": "python",
   "name": "python2"
  },
  "language_info": {
   "codemirror_mode": {
    "name": "ipython",
    "version": 2
   },
   "file_extension": ".py",
   "mimetype": "text/x-python",
   "name": "python",
   "nbconvert_exporter": "python",
   "pygments_lexer": "ipython2",
   "version": "2.7.13"
  }
 },
 "nbformat": 4,
 "nbformat_minor": 2
}
