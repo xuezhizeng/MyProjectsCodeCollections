{
 "cells": [
  {
   "cell_type": "code",
   "execution_count": 1,
   "metadata": {
    "collapsed": true
   },
   "outputs": [],
   "source": [
    "# !ls"
   ]
  },
  {
   "cell_type": "code",
   "execution_count": null,
   "metadata": {},
   "outputs": [
    {
     "name": "stdout",
     "output_type": "stream",
     "text": [
      "1 used 0.00 s | 100 used 134.59 s | 200 used 281.72 s | 300 used 434.57 s | 400 used 584.40 s | 500 used 732.03 s | 600 used 886.43 s | 700 used 1042.13 s | 800 used 1199.48 s | 900 used 1353.43 s | 1000 used 1504.17 s | 1100 used 1652.03 s |"
     ]
    }
   ],
   "source": [
    "from time import time\n",
    "start=time()\n",
    "start\n",
    "\n",
    "\n",
    "!python -u /root/openface/util/align-dlib_mod.py \\\n",
    "real_soyoung_pics/img_7 align \\\n",
    "outerEyesAndNose \\\n",
    "chopHead256_real_soyoung_pics \\\n",
    "--size 256\n",
    "\n",
    "end=time()-start\n",
    "end"
   ]
  },
  {
   "cell_type": "code",
   "execution_count": null,
   "metadata": {
    "collapsed": true
   },
   "outputs": [],
   "source": []
  }
 ],
 "metadata": {
  "kernelspec": {
   "display_name": "Python 2",
   "language": "python",
   "name": "python2"
  },
  "language_info": {
   "codemirror_mode": {
    "name": "ipython",
    "version": 2
   },
   "file_extension": ".py",
   "mimetype": "text/x-python",
   "name": "python",
   "nbconvert_exporter": "python",
   "pygments_lexer": "ipython2",
   "version": "2.7.6"
  }
 },
 "nbformat": 4,
 "nbformat_minor": 2
}
