{
 "cells": [
  {
   "cell_type": "code",
   "execution_count": 1,
   "metadata": {
    "collapsed": true
   },
   "outputs": [],
   "source": [
    "import concurrent.futures\n",
    "import requests\n",
    "import os\n",
    "\n",
    "from time import time, ctime\n",
    "import pandas as pd\n",
    "\n",
    "from picDown import download_image, batch"
   ]
  },
  {
   "cell_type": "code",
   "execution_count": 2,
   "metadata": {},
   "outputs": [],
   "source": [
    "# !ls"
   ]
  },
  {
   "cell_type": "code",
   "execution_count": 3,
   "metadata": {
    "collapsed": true
   },
   "outputs": [],
   "source": [
    "csv = 'addbidder_urls.csv'\n",
    "direct = 'addbidderPics'"
   ]
  },
  {
   "cell_type": "code",
   "execution_count": 4,
   "metadata": {},
   "outputs": [
    {
     "data": {
      "text/plain": [
       "(82195, 2)"
      ]
     },
     "execution_count": 4,
     "metadata": {},
     "output_type": "execute_result"
    }
   ],
   "source": [
    "df=pd.read_csv(csv)\n",
    "df.shape"
   ]
  },
  {
   "cell_type": "code",
   "execution_count": 5,
   "metadata": {
    "scrolled": true
   },
   "outputs": [
    {
     "data": {
      "text/plain": [
       "None                                                                   9322\n",
       "//cdn6.f-cdn.com/img/unknown.png                                        409\n",
       "//cdn3.f-cdn.com/ppic/6665488/logo/6148945/pic.jpg                        1\n",
       "//cdn3.f-cdn.com/ppic/57869492/logo/9710700/i3nBK/profile_logo_.jpg       1\n",
       "//cdn5.f-cdn.com/ppic/6633040/logo/7712649/ganialrasel..j.jpg             1\n",
       "Name: URL, dtype: int64"
      ]
     },
     "execution_count": 5,
     "metadata": {},
     "output_type": "execute_result"
    }
   ],
   "source": [
    "df['URL'].value_counts().head()"
   ]
  },
  {
   "cell_type": "markdown",
   "metadata": {},
   "source": [
    "#### most pics like this, this addtional bidder is an exception, that 88% of users have profile pic"
   ]
  },
  {
   "cell_type": "markdown",
   "metadata": {},
   "source": [
    "//cdn6.f-cdn.com/img/unknown.png\n",
    "\n",
    "![title](//cdn6.f-cdn.com/img/unknown.png)"
   ]
  },
  {
   "cell_type": "code",
   "execution_count": 6,
   "metadata": {},
   "outputs": [
    {
     "data": {
      "text/plain": [
       "72464"
      ]
     },
     "execution_count": 6,
     "metadata": {},
     "output_type": "execute_result"
    }
   ],
   "source": [
    "has_pics = df.shape[0]-df['URL'].value_counts()[0]-df['URL'].value_counts()[1]\n",
    "has_pics"
   ]
  },
  {
   "cell_type": "markdown",
   "metadata": {},
   "source": [
    "### : about ?% pics meaningful"
   ]
  },
  {
   "cell_type": "code",
   "execution_count": 7,
   "metadata": {},
   "outputs": [
    {
     "data": {
      "text/plain": [
       "88.16108035768599"
      ]
     },
     "execution_count": 7,
     "metadata": {},
     "output_type": "execute_result"
    }
   ],
   "source": [
    "float(has_pics)/df.shape[0]*100"
   ]
  },
  {
   "cell_type": "code",
   "execution_count": 8,
   "metadata": {},
   "outputs": [
    {
     "data": {
      "text/plain": [
       "(72464, 2)"
      ]
     },
     "execution_count": 8,
     "metadata": {},
     "output_type": "execute_result"
    }
   ],
   "source": [
    "gdf=df[-(df['URL'].str.contains('None') | df['URL'].str.contains('//cdn6.f-cdn.com/img/unknown.png')\\\n",
    "            |df['URL'].isnull())]\n",
    "gdf.shape"
   ]
  },
  {
   "cell_type": "code",
   "execution_count": 9,
   "metadata": {},
   "outputs": [
    {
     "name": "stdout",
     "output_type": "stream",
     "text": [
      "exists\n"
     ]
    }
   ],
   "source": [
    "try:\n",
    "    os.mkdir(direct)\n",
    "except:\n",
    "    print 'exists'"
   ]
  },
  {
   "cell_type": "code",
   "execution_count": 10,
   "metadata": {
    "collapsed": true
   },
   "outputs": [],
   "source": [
    "gdf = gdf[['ID','URL']]"
   ]
  },
  {
   "cell_type": "markdown",
   "metadata": {},
   "source": [
    "### apply diff"
   ]
  },
  {
   "cell_type": "code",
   "execution_count": 11,
   "metadata": {},
   "outputs": [
    {
     "name": "stdout",
     "output_type": "stream",
     "text": [
      "72464  pics\n",
      "(72437, 1)\n",
      "(72464, 3)\n",
      "(27, 2)\n",
      "getiing  27 diff new pics!\n"
     ]
    }
   ],
   "source": [
    "# direct='img_'+str(choose)\n",
    "df=gdf\n",
    "nn=df.shape[0]\n",
    "print nn,' pics'\n",
    "\n",
    "#apply diff\n",
    "folder = pd.DataFrame(os.listdir(direct), columns=['name'])\n",
    "folder = folder[folder['name'].str.contains('.jpg')]\n",
    "print folder.shape\n",
    "\n",
    "df['parse']=df['ID']\n",
    "folder['parse']=folder['name'].apply(lambda x: int(x.split('_')[0]))\n",
    "\n",
    "joind=df.set_index('parse').join(folder.set_index('parse'),)\n",
    "print joind.shape\n",
    "\n",
    "new_df = joind[joind['name'].isnull()][['ID','URL']]\n",
    "print new_df.shape\n",
    "\n",
    "nnn=new_df.shape[0]\n",
    "print 'getiing ',nnn,'diff new pics!'\n",
    "\n",
    "gdf=new_df\n"
   ]
  },
  {
   "cell_type": "code",
   "execution_count": 12,
   "metadata": {},
   "outputs": [
    {
     "data": {
      "text/plain": [
       "27"
      ]
     },
     "execution_count": 12,
     "metadata": {},
     "output_type": "execute_result"
    }
   ],
   "source": [
    "want=[]\n",
    "for i in range(gdf.shape[0]):\n",
    "    tmp = gdf.iloc[i,:].tolist()\n",
    "    try:\n",
    "        want.append([tmp[0], \"http:\"+tmp[1], direct])\n",
    "    except Exception as e:\n",
    "        print e\n",
    "        print tmp\n",
    "#     break\n",
    "len(want)"
   ]
  },
  {
   "cell_type": "code",
   "execution_count": null,
   "metadata": {
    "collapsed": true
   },
   "outputs": [],
   "source": []
  },
  {
   "cell_type": "code",
   "execution_count": 13,
   "metadata": {},
   "outputs": [
    {
     "name": "stdout",
     "output_type": "stream",
     "text": [
      "imges  27   used  4.62 s Sep 20 20:03:14 2017\n"
     ]
    }
   ],
   "source": [
    "batch(download_image, want)"
   ]
  },
  {
   "cell_type": "code",
   "execution_count": null,
   "metadata": {
    "collapsed": true
   },
   "outputs": [],
   "source": []
  }
 ],
 "metadata": {
  "kernelspec": {
   "display_name": "Python 2",
   "language": "python",
   "name": "python2"
  },
  "language_info": {
   "codemirror_mode": {
    "name": "ipython",
    "version": 2
   },
   "file_extension": ".py",
   "mimetype": "text/x-python",
   "name": "python",
   "nbconvert_exporter": "python",
   "pygments_lexer": "ipython2",
   "version": "2.7.13"
  }
 },
 "nbformat": 4,
 "nbformat_minor": 2
}
