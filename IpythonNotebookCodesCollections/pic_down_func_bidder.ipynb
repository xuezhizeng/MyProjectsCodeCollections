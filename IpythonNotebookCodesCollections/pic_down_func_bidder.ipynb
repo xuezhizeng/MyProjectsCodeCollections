{
 "cells": [
  {
   "cell_type": "code",
   "execution_count": 1,
   "metadata": {
    "collapsed": true
   },
   "outputs": [],
   "source": [
    "import concurrent.futures\n",
    "import requests\n",
    "import os\n",
    "\n",
    "from time import time, ctime\n",
    "import pandas as pd\n",
    "\n",
    "from picDown import download_image, batch"
   ]
  },
  {
   "cell_type": "code",
   "execution_count": 2,
   "metadata": {
    "collapsed": true
   },
   "outputs": [],
   "source": [
    "csv = 'bidder_urls.csv'\n",
    "direct = 'bidderPics'"
   ]
  },
  {
   "cell_type": "code",
   "execution_count": 3,
   "metadata": {},
   "outputs": [
    {
     "data": {
      "text/plain": [
       "(68227, 3)"
      ]
     },
     "execution_count": 3,
     "metadata": {},
     "output_type": "execute_result"
    }
   ],
   "source": [
    "df=pd.read_csv(csv)\n",
    "df.shape"
   ]
  },
  {
   "cell_type": "code",
   "execution_count": 4,
   "metadata": {
    "collapsed": true,
    "scrolled": true
   },
   "outputs": [],
   "source": [
    "# df['URL'].value_counts().head()"
   ]
  },
  {
   "cell_type": "markdown",
   "metadata": {},
   "source": [
    "#### most pics like this"
   ]
  },
  {
   "cell_type": "markdown",
   "metadata": {},
   "source": [
    "//cdn6.f-cdn.com/img/unknown.png\n",
    "\n",
    "![title](//cdn6.f-cdn.com/img/unknown.png)"
   ]
  },
  {
   "cell_type": "code",
   "execution_count": 5,
   "metadata": {},
   "outputs": [
    {
     "data": {
      "text/plain": [
       "26349"
      ]
     },
     "execution_count": 5,
     "metadata": {},
     "output_type": "execute_result"
    }
   ],
   "source": [
    "has_pics = df.shape[0]-df['URL'].value_counts()[0]-df['URL'].value_counts()[1]\n",
    "has_pics"
   ]
  },
  {
   "cell_type": "markdown",
   "metadata": {},
   "source": [
    "### : about ?% pics meaningful"
   ]
  },
  {
   "cell_type": "code",
   "execution_count": 6,
   "metadata": {},
   "outputs": [
    {
     "data": {
      "text/plain": [
       "38.61960807305026"
      ]
     },
     "execution_count": 6,
     "metadata": {},
     "output_type": "execute_result"
    }
   ],
   "source": [
    "float(has_pics)/df.shape[0]*100"
   ]
  },
  {
   "cell_type": "code",
   "execution_count": null,
   "metadata": {
    "collapsed": true
   },
   "outputs": [],
   "source": []
  },
  {
   "cell_type": "code",
   "execution_count": 7,
   "metadata": {},
   "outputs": [
    {
     "data": {
      "text/plain": [
       "(26349, 3)"
      ]
     },
     "execution_count": 7,
     "metadata": {},
     "output_type": "execute_result"
    }
   ],
   "source": [
    "gdf=df[-(df['URL'].str.contains('None') | df['URL'].str.contains('//cdn6.f-cdn.com/img/unknown.png')\\\n",
    "            |df['URL'].isnull())]\n",
    "gdf.shape"
   ]
  },
  {
   "cell_type": "code",
   "execution_count": 8,
   "metadata": {},
   "outputs": [
    {
     "name": "stdout",
     "output_type": "stream",
     "text": [
      "exists\n"
     ]
    }
   ],
   "source": [
    "try:\n",
    "    os.mkdir(direct)\n",
    "except:\n",
    "    print 'exists'"
   ]
  },
  {
   "cell_type": "code",
   "execution_count": 9,
   "metadata": {
    "collapsed": true
   },
   "outputs": [],
   "source": [
    "gdf = gdf[['ID','URL']]"
   ]
  },
  {
   "cell_type": "markdown",
   "metadata": {},
   "source": [
    "### apply diff"
   ]
  },
  {
   "cell_type": "code",
   "execution_count": 10,
   "metadata": {},
   "outputs": [
    {
     "name": "stdout",
     "output_type": "stream",
     "text": [
      "26349  pics\n",
      "(25731, 1)\n",
      "(26349, 3)\n",
      "(618, 2)\n",
      "getiing  618 diff new pics!\n"
     ]
    }
   ],
   "source": [
    "# direct='img_'+str(choose)\n",
    "df=gdf\n",
    "nn=df.shape[0]\n",
    "print nn,' pics'\n",
    "\n",
    "#apply diff\n",
    "folder = pd.DataFrame(os.listdir(direct), columns=['name'])\n",
    "folder = folder[folder['name'].str.contains('.jpg')]\n",
    "print folder.shape\n",
    "\n",
    "df['parse']=df['ID']\n",
    "folder['parse']=folder['name'].apply(lambda x: int(x.split('_')[0]))\n",
    "\n",
    "joind=df.set_index('parse').join(folder.set_index('parse'),)\n",
    "print joind.shape\n",
    "\n",
    "new_df = joind[joind['name'].isnull()][['ID','URL']]\n",
    "print new_df.shape\n",
    "\n",
    "nnn=new_df.shape[0]\n",
    "print 'getiing ',nnn,'diff new pics!'\n",
    "\n",
    "gdf=new_df\n"
   ]
  },
  {
   "cell_type": "code",
   "execution_count": 11,
   "metadata": {},
   "outputs": [
    {
     "data": {
      "text/plain": [
       "618"
      ]
     },
     "execution_count": 11,
     "metadata": {},
     "output_type": "execute_result"
    }
   ],
   "source": [
    "want=[]\n",
    "for i in range(gdf.shape[0]):\n",
    "    tmp = gdf.iloc[i,:].tolist()\n",
    "    try:\n",
    "        want.append([tmp[0], \"http:\"+tmp[1], direct])\n",
    "    except Exception as e:\n",
    "        print e\n",
    "        print tmp\n",
    "#     break\n",
    "len(want)"
   ]
  },
  {
   "cell_type": "code",
   "execution_count": null,
   "metadata": {
    "collapsed": true
   },
   "outputs": [],
   "source": []
  },
  {
   "cell_type": "code",
   "execution_count": 12,
   "metadata": {},
   "outputs": [
    {
     "name": "stdout",
     "output_type": "stream",
     "text": [
      "X3 X4 [259301] X3 X4 [949441] X3 X4 [1344634] X3 X4 [1289584] X3 X4 [1450197] X3 X4 [1058228] X3 X4 [300673] X3 X4 [1395231] X3 X4 [891957] X3 X4 [1083232] X3 X4 [1448378] X3 X4 [1515448] X3 X4 [1359799] X3 X4 [1536977] X3 X4 [351739] X3 X4 [947590] X3 X4 [1583201] X3 X4 [1338296] X3 X4 [1580249] X3 X4 [1186611] X3 X4 [1421995] X3 X4 [1349247] X3 X4 [1592241] X3 X4 [1439534] X3 X4 [527574] X3 X4 [1379175] X3 X4 [830370] X3 X4 [427267] X3 X4 [809980] X3 X4 [1552393] X3 X4 [1585656] X3 X4 [1444471] X3 X4 [26597] X3 X4 [1371240] X3 X4 [1437139] X3 X4 [136483] X3 X4 [472112] X3 X4 [271452] X3 X4 [647948] X3 X4 [1294092] X3 X4 [1236987] X3 X4 [1572357] X3 X4 [1196359] X3 X4 [1532224] X3 X4 [1210237] X3 X4 [1347915] X3 X4 [1051411] X3 X4 [1515471] X3 X4 [999304] X3 X4 [1438622] X3 X4 [1519794] X3 X4 [1435764] X3 X4 [929254] X3 X4 [824384] X3 X4 [1345917] X3 X4 [1422076] X3 X4 [357896] X3 X4 [1347792] X3 X4 [1576973] X3 X4 [1201993] X3 X4 [1365175] X3 X4 [1416730] X3 X4 [530050] X3 X4 [1394315] X3 X4 [1197090] X3 X4 [1125930] X3 X4 [348901] X3 X4 [1249579] X3 X4 [748646] X3 X4 [1358357] X3 X4 [1578924] X3 X4 [1359614] X3 X4 [1367747] X3 X4 [1487477] X3 X4 [1316392] X3 X4 [397017] X3 X4X3  X4[1021561] [1362316] X3 X4 [967051] X3 X4 [1334872] X3 X4 [1379961] X3 X4 [1072455] X3 X4 [1480289] X3 X4 [1380798] X3 X4 [1348468] X3 X4 [1488809] X3 X4 [1562595] X3 X4 [307898] X3 X4 [1328919] X3 X4 [1417776] X3 X4 [1591549] X3 X4 [1540307] X3 X4 [1325405] X3 X4 [1540892] X3 X4 [48346] X3 X4 [1414360] X3 X4 [1416200] X3 X4 [396965] X3 X4 [670322] X3 X4 [1420128] X3 X4 [1311760] X3 X4 [1557622] X3 X4 [1569408] X3 X4 [1328521] X3 X4 [1075492] X3 X4 [1286620] X3 X4 [1458987] X3 X4 [1043324] X3 X4 [1414057] X3 X4 [1315285] X3 X4 [1577152] X3 X4 [1359352] X3 X4 [1565100] X3 X4 [1581013] X3 X4 [1366513] X3 X4 [1526188] X3 X4 [861198] X3 X4 [1481803] X3 X4 [1293949] X3 X4 [1329956] X3 X4 [1343906] X3 X4 [1228954] X3 X4 [1283986] X3 X4 [561998] X3 X4 [1285358] X3 X4 [1423692] X3 X4 [786235] X3 X4 [534526] X3 X4 [358344] X3 X4 [931013] X3 X4 [643210] X3 X4 [271144] X3 X4 [791609] X3 X4 [1238208] X3 X4 [121187] X3 X4 [1346681] X3 X4 [1582684] X3 X4 [927803] X3 X4 [276936] X3 X4 [787136] X3 X4 [1028899] X3 X4 [1041581] X3 X4 [1582820] X3 X4 [1193770] X3 X4 [1518585] X3 X4 [1163971] X3 X4 [1077622] X3 X4 [1236946] X3 X4 [667527] X3 X4 [1341958] X3 X4 [1340445] X3 X4 [1489967] X3 X4 [813431] X3 X4 [1040698] X3 X4 [1285363] X3 X4 [1380809] X3 X4 [1342448] X3 X4 [1447742] X3 X4 [1191356] X3 X4 [1425983] X3 X4 [1564655] X3 X4 [1379602] X3 X4 [1147310] X3 X4 [141028] X3 X4 [1191263] X3 X4 [1091055] X3 X4 [1522284] imges  618   used  83.08 s Sep 20 15:10:13 2017\n"
     ]
    }
   ],
   "source": [
    "batch(download_image, want)"
   ]
  },
  {
   "cell_type": "code",
   "execution_count": null,
   "metadata": {
    "collapsed": true
   },
   "outputs": [],
   "source": []
  }
 ],
 "metadata": {
  "kernelspec": {
   "display_name": "Python 2",
   "language": "python",
   "name": "python2"
  },
  "language_info": {
   "codemirror_mode": {
    "name": "ipython",
    "version": 2
   },
   "file_extension": ".py",
   "mimetype": "text/x-python",
   "name": "python",
   "nbconvert_exporter": "python",
   "pygments_lexer": "ipython2",
   "version": "2.7.13"
  }
 },
 "nbformat": 4,
 "nbformat_minor": 2
}
