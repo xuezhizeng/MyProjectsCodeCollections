{
 "cells": [
  {
   "cell_type": "code",
   "execution_count": 4,
   "metadata": {
    "collapsed": true
   },
   "outputs": [],
   "source": [
    "import pandas as pd\n",
    "import os\n",
    "import shutil"
   ]
  },
  {
   "cell_type": "code",
   "execution_count": 1,
   "metadata": {},
   "outputs": [
    {
     "name": "stdout",
     "output_type": "stream",
     "text": [
      "18_Nov_71W_V7.csv  existsIS.ipynb  existsIS.py\tpara.zip\r\n"
     ]
    }
   ],
   "source": [
    "!ls"
   ]
  },
  {
   "cell_type": "code",
   "execution_count": 6,
   "metadata": {},
   "outputs": [
    {
     "name": "stdout",
     "output_type": "stream",
     "text": [
      "para_csv name: 18_Nov_71W_V7.csv\n"
     ]
    }
   ],
   "source": [
    "csvN = raw_input('para_csv name: ')"
   ]
  },
  {
   "cell_type": "code",
   "execution_count": 23,
   "metadata": {},
   "outputs": [
    {
     "name": "stdout",
     "output_type": "stream",
     "text": [
      "CPU times: user 19.3 s, sys: 1.75 s, total: 21.1 s\n",
      "Wall time: 23.9 s\n"
     ]
    }
   ],
   "source": [
    "%%time\n",
    "df = pd.read_csv('./'+csvN)\n",
    "df.shape"
   ]
  },
  {
   "cell_type": "code",
   "execution_count": 24,
   "metadata": {
    "collapsed": true
   },
   "outputs": [],
   "source": [
    "df0=df.copy()"
   ]
  },
  {
   "cell_type": "code",
   "execution_count": 25,
   "metadata": {
    "collapsed": true
   },
   "outputs": [],
   "source": [
    "path = '/home/soyoung/face/newFlask/static/phos/'"
   ]
  },
  {
   "cell_type": "code",
   "execution_count": 26,
   "metadata": {},
   "outputs": [],
   "source": [
    "df['exists']=df['name'].apply(lambda x: os.path.exists(path+x))"
   ]
  },
  {
   "cell_type": "code",
   "execution_count": 27,
   "metadata": {},
   "outputs": [
    {
     "name": "stdout",
     "output_type": "stream",
     "text": [
      "exists file:  710874\n"
     ]
    }
   ],
   "source": [
    "print 'exists file: ', df['exists'].sum()"
   ]
  },
  {
   "cell_type": "code",
   "execution_count": 28,
   "metadata": {},
   "outputs": [
    {
     "data": {
      "text/plain": [
       "Int64Index([629760, 698949], dtype='int64')"
      ]
     },
     "execution_count": 28,
     "metadata": {},
     "output_type": "execute_result"
    }
   ],
   "source": [
    "df[~df['exists']].index"
   ]
  },
  {
   "cell_type": "code",
   "execution_count": 29,
   "metadata": {},
   "outputs": [],
   "source": [
    "# 538009-537967"
   ]
  },
  {
   "cell_type": "code",
   "execution_count": 30,
   "metadata": {},
   "outputs": [],
   "source": [
    "# df0 = pd.read_csv('./2_Nov_54W_V6.csv')\n",
    "# df0.shape"
   ]
  },
  {
   "cell_type": "markdown",
   "metadata": {},
   "source": [
    "### from list.txt found by fsint"
   ]
  },
  {
   "cell_type": "code",
   "execution_count": 31,
   "metadata": {},
   "outputs": [
    {
     "data": {
      "text/plain": [
       "(290, 1)"
      ]
     },
     "execution_count": 31,
     "metadata": {},
     "output_type": "execute_result"
    }
   ],
   "source": [
    "l = pd.read_csv('/home/soyoung/face/list.txt', names=['path'])\n",
    "l.shape"
   ]
  },
  {
   "cell_type": "code",
   "execution_count": 37,
   "metadata": {
    "collapsed": true
   },
   "outputs": [],
   "source": [
    "l['name']=l['path'].apply(lambda x: x.split('/home/soyoung/face/newFlask/static/phos/')[-1])"
   ]
  },
  {
   "cell_type": "code",
   "execution_count": 38,
   "metadata": {},
   "outputs": [
    {
     "data": {
      "text/html": [
       "<div>\n",
       "<style>\n",
       "    .dataframe thead tr:only-child th {\n",
       "        text-align: right;\n",
       "    }\n",
       "\n",
       "    .dataframe thead th {\n",
       "        text-align: left;\n",
       "    }\n",
       "\n",
       "    .dataframe tbody tr th {\n",
       "        vertical-align: top;\n",
       "    }\n",
       "</style>\n",
       "<table border=\"1\" class=\"dataframe\">\n",
       "  <thead>\n",
       "    <tr style=\"text-align: right;\">\n",
       "      <th></th>\n",
       "      <th>path</th>\n",
       "      <th>name</th>\n",
       "    </tr>\n",
       "  </thead>\n",
       "  <tbody>\n",
       "    <tr>\n",
       "      <th>0</th>\n",
       "      <td>/home/soyoung/face/newFlask/static/phos/godnes...</td>\n",
       "      <td>godness_sub_5/3(89).jpg</td>\n",
       "    </tr>\n",
       "    <tr>\n",
       "      <th>1</th>\n",
       "      <td>/home/soyoung/face/newFlask/static/phos/godnes...</td>\n",
       "      <td>godness_sub_26/19879367.jpg</td>\n",
       "    </tr>\n",
       "    <tr>\n",
       "      <th>2</th>\n",
       "      <td>/home/soyoung/face/newFlask/static/phos/godnes...</td>\n",
       "      <td>godness_sub_15/d1(1).jpg</td>\n",
       "    </tr>\n",
       "    <tr>\n",
       "      <th>3</th>\n",
       "      <td>/home/soyoung/face/newFlask/static/phos/godnes...</td>\n",
       "      <td>godness_sub_34/108(1).jpg</td>\n",
       "    </tr>\n",
       "    <tr>\n",
       "      <th>4</th>\n",
       "      <td>/home/soyoung/face/newFlask/static/phos/godnes...</td>\n",
       "      <td>godness_sub_68/3bf33a87e950352a141d93185943fbf...</td>\n",
       "    </tr>\n",
       "  </tbody>\n",
       "</table>\n",
       "</div>"
      ],
      "text/plain": [
       "                                                path  \\\n",
       "0  /home/soyoung/face/newFlask/static/phos/godnes...   \n",
       "1  /home/soyoung/face/newFlask/static/phos/godnes...   \n",
       "2  /home/soyoung/face/newFlask/static/phos/godnes...   \n",
       "3  /home/soyoung/face/newFlask/static/phos/godnes...   \n",
       "4  /home/soyoung/face/newFlask/static/phos/godnes...   \n",
       "\n",
       "                                                name  \n",
       "0                            godness_sub_5/3(89).jpg  \n",
       "1                        godness_sub_26/19879367.jpg  \n",
       "2                           godness_sub_15/d1(1).jpg  \n",
       "3                          godness_sub_34/108(1).jpg  \n",
       "4  godness_sub_68/3bf33a87e950352a141d93185943fbf...  "
      ]
     },
     "execution_count": 38,
     "metadata": {},
     "output_type": "execute_result"
    }
   ],
   "source": [
    "l.head()"
   ]
  },
  {
   "cell_type": "code",
   "execution_count": 41,
   "metadata": {},
   "outputs": [],
   "source": [
    "dupli = l['name'].tolist()"
   ]
  },
  {
   "cell_type": "code",
   "execution_count": null,
   "metadata": {
    "collapsed": true
   },
   "outputs": [],
   "source": []
  },
  {
   "cell_type": "code",
   "execution_count": 32,
   "metadata": {},
   "outputs": [
    {
     "data": {
      "text/plain": [
       "(710874, 129)"
      ]
     },
     "execution_count": 32,
     "metadata": {},
     "output_type": "execute_result"
    }
   ],
   "source": [
    "df1 = df0.iloc[df[df['exists']].index,:]\n",
    "df1.shape"
   ]
  },
  {
   "cell_type": "code",
   "execution_count": 35,
   "metadata": {},
   "outputs": [
    {
     "data": {
      "text/html": [
       "<div>\n",
       "<style>\n",
       "    .dataframe thead tr:only-child th {\n",
       "        text-align: right;\n",
       "    }\n",
       "\n",
       "    .dataframe thead th {\n",
       "        text-align: left;\n",
       "    }\n",
       "\n",
       "    .dataframe tbody tr th {\n",
       "        vertical-align: top;\n",
       "    }\n",
       "</style>\n",
       "<table border=\"1\" class=\"dataframe\">\n",
       "  <thead>\n",
       "    <tr style=\"text-align: right;\">\n",
       "      <th></th>\n",
       "      <th>0</th>\n",
       "      <th>1</th>\n",
       "      <th>2</th>\n",
       "      <th>3</th>\n",
       "      <th>4</th>\n",
       "      <th>5</th>\n",
       "      <th>6</th>\n",
       "      <th>7</th>\n",
       "      <th>8</th>\n",
       "      <th>9</th>\n",
       "      <th>...</th>\n",
       "      <th>119</th>\n",
       "      <th>120</th>\n",
       "      <th>121</th>\n",
       "      <th>122</th>\n",
       "      <th>123</th>\n",
       "      <th>124</th>\n",
       "      <th>125</th>\n",
       "      <th>126</th>\n",
       "      <th>127</th>\n",
       "      <th>name</th>\n",
       "    </tr>\n",
       "  </thead>\n",
       "  <tbody>\n",
       "    <tr>\n",
       "      <th>0</th>\n",
       "      <td>0.011476</td>\n",
       "      <td>0.165126</td>\n",
       "      <td>-0.129640</td>\n",
       "      <td>0.016787</td>\n",
       "      <td>0.022167</td>\n",
       "      <td>0.051669</td>\n",
       "      <td>0.014077</td>\n",
       "      <td>0.017761</td>\n",
       "      <td>0.011484</td>\n",
       "      <td>0.137340</td>\n",
       "      <td>...</td>\n",
       "      <td>0.157795</td>\n",
       "      <td>-0.054396</td>\n",
       "      <td>-0.000642</td>\n",
       "      <td>-0.096280</td>\n",
       "      <td>0.126662</td>\n",
       "      <td>-0.005746</td>\n",
       "      <td>-0.006710</td>\n",
       "      <td>-0.089524</td>\n",
       "      <td>0.049204</td>\n",
       "      <td>sub_28/1aa1269cc4cd42aeb12fb6f83beb89f4.jpg</td>\n",
       "    </tr>\n",
       "    <tr>\n",
       "      <th>1</th>\n",
       "      <td>-0.003138</td>\n",
       "      <td>-0.094253</td>\n",
       "      <td>-0.074803</td>\n",
       "      <td>0.001642</td>\n",
       "      <td>0.080649</td>\n",
       "      <td>-0.065988</td>\n",
       "      <td>-0.029929</td>\n",
       "      <td>0.026139</td>\n",
       "      <td>0.026266</td>\n",
       "      <td>-0.024320</td>\n",
       "      <td>...</td>\n",
       "      <td>0.135359</td>\n",
       "      <td>-0.071909</td>\n",
       "      <td>0.113172</td>\n",
       "      <td>0.045211</td>\n",
       "      <td>0.141725</td>\n",
       "      <td>-0.033956</td>\n",
       "      <td>0.012183</td>\n",
       "      <td>-0.019442</td>\n",
       "      <td>0.013153</td>\n",
       "      <td>sub_28/1985782_13_102812_1.jpg</td>\n",
       "    </tr>\n",
       "    <tr>\n",
       "      <th>2</th>\n",
       "      <td>0.052159</td>\n",
       "      <td>0.078025</td>\n",
       "      <td>-0.058801</td>\n",
       "      <td>0.111056</td>\n",
       "      <td>0.011825</td>\n",
       "      <td>0.077016</td>\n",
       "      <td>0.018737</td>\n",
       "      <td>0.034417</td>\n",
       "      <td>0.029392</td>\n",
       "      <td>-0.014144</td>\n",
       "      <td>...</td>\n",
       "      <td>0.076519</td>\n",
       "      <td>-0.007938</td>\n",
       "      <td>0.055379</td>\n",
       "      <td>-0.049870</td>\n",
       "      <td>0.153607</td>\n",
       "      <td>0.078589</td>\n",
       "      <td>-0.073745</td>\n",
       "      <td>0.036184</td>\n",
       "      <td>0.064255</td>\n",
       "      <td>sub_28/1993968735118832174.jpg</td>\n",
       "    </tr>\n",
       "    <tr>\n",
       "      <th>3</th>\n",
       "      <td>-0.022384</td>\n",
       "      <td>0.050678</td>\n",
       "      <td>-0.026818</td>\n",
       "      <td>0.041654</td>\n",
       "      <td>0.046246</td>\n",
       "      <td>0.022148</td>\n",
       "      <td>0.001582</td>\n",
       "      <td>0.021008</td>\n",
       "      <td>0.024489</td>\n",
       "      <td>0.015352</td>\n",
       "      <td>...</td>\n",
       "      <td>0.152728</td>\n",
       "      <td>-0.050696</td>\n",
       "      <td>-0.020838</td>\n",
       "      <td>-0.068645</td>\n",
       "      <td>0.067528</td>\n",
       "      <td>-0.124348</td>\n",
       "      <td>0.097163</td>\n",
       "      <td>0.079192</td>\n",
       "      <td>0.057003</td>\n",
       "      <td>sub_28/195943d29ir441i444lhtr.jpg</td>\n",
       "    </tr>\n",
       "    <tr>\n",
       "      <th>4</th>\n",
       "      <td>0.059199</td>\n",
       "      <td>0.078390</td>\n",
       "      <td>-0.108855</td>\n",
       "      <td>0.071035</td>\n",
       "      <td>-0.007066</td>\n",
       "      <td>-0.000059</td>\n",
       "      <td>0.007308</td>\n",
       "      <td>-0.022881</td>\n",
       "      <td>-0.106324</td>\n",
       "      <td>0.033876</td>\n",
       "      <td>...</td>\n",
       "      <td>0.116259</td>\n",
       "      <td>-0.019002</td>\n",
       "      <td>0.083863</td>\n",
       "      <td>0.170860</td>\n",
       "      <td>0.019041</td>\n",
       "      <td>0.054721</td>\n",
       "      <td>0.044380</td>\n",
       "      <td>0.145403</td>\n",
       "      <td>-0.038084</td>\n",
       "      <td>sub_28/1dd0675b-b9d6-4cca-a03e-2134403a74a9_si...</td>\n",
       "    </tr>\n",
       "  </tbody>\n",
       "</table>\n",
       "<p>5 rows × 129 columns</p>\n",
       "</div>"
      ],
      "text/plain": [
       "          0         1         2         3         4         5         6  \\\n",
       "0  0.011476  0.165126 -0.129640  0.016787  0.022167  0.051669  0.014077   \n",
       "1 -0.003138 -0.094253 -0.074803  0.001642  0.080649 -0.065988 -0.029929   \n",
       "2  0.052159  0.078025 -0.058801  0.111056  0.011825  0.077016  0.018737   \n",
       "3 -0.022384  0.050678 -0.026818  0.041654  0.046246  0.022148  0.001582   \n",
       "4  0.059199  0.078390 -0.108855  0.071035 -0.007066 -0.000059  0.007308   \n",
       "\n",
       "          7         8         9  \\\n",
       "0  0.017761  0.011484  0.137340   \n",
       "1  0.026139  0.026266 -0.024320   \n",
       "2  0.034417  0.029392 -0.014144   \n",
       "3  0.021008  0.024489  0.015352   \n",
       "4 -0.022881 -0.106324  0.033876   \n",
       "\n",
       "                         ...                               119       120  \\\n",
       "0                        ...                          0.157795 -0.054396   \n",
       "1                        ...                          0.135359 -0.071909   \n",
       "2                        ...                          0.076519 -0.007938   \n",
       "3                        ...                          0.152728 -0.050696   \n",
       "4                        ...                          0.116259 -0.019002   \n",
       "\n",
       "        121       122       123       124       125       126       127  \\\n",
       "0 -0.000642 -0.096280  0.126662 -0.005746 -0.006710 -0.089524  0.049204   \n",
       "1  0.113172  0.045211  0.141725 -0.033956  0.012183 -0.019442  0.013153   \n",
       "2  0.055379 -0.049870  0.153607  0.078589 -0.073745  0.036184  0.064255   \n",
       "3 -0.020838 -0.068645  0.067528 -0.124348  0.097163  0.079192  0.057003   \n",
       "4  0.083863  0.170860  0.019041  0.054721  0.044380  0.145403 -0.038084   \n",
       "\n",
       "                                                name  \n",
       "0        sub_28/1aa1269cc4cd42aeb12fb6f83beb89f4.jpg  \n",
       "1                     sub_28/1985782_13_102812_1.jpg  \n",
       "2                     sub_28/1993968735118832174.jpg  \n",
       "3                  sub_28/195943d29ir441i444lhtr.jpg  \n",
       "4  sub_28/1dd0675b-b9d6-4cca-a03e-2134403a74a9_si...  \n",
       "\n",
       "[5 rows x 129 columns]"
      ]
     },
     "execution_count": 35,
     "metadata": {},
     "output_type": "execute_result"
    }
   ],
   "source": [
    "df1.head()"
   ]
  },
  {
   "cell_type": "code",
   "execution_count": 46,
   "metadata": {
    "collapsed": true
   },
   "outputs": [],
   "source": [
    "pd.DataFrame.reset_index?"
   ]
  },
  {
   "cell_type": "code",
   "execution_count": 48,
   "metadata": {},
   "outputs": [
    {
     "data": {
      "text/plain": [
       "(290, 2)"
      ]
     },
     "execution_count": 48,
     "metadata": {},
     "output_type": "execute_result"
    }
   ],
   "source": [
    "l.shape"
   ]
  },
  {
   "cell_type": "code",
   "execution_count": 49,
   "metadata": {},
   "outputs": [
    {
     "data": {
      "text/plain": [
       "(710874, 129)"
      ]
     },
     "execution_count": 49,
     "metadata": {},
     "output_type": "execute_result"
    }
   ],
   "source": [
    "df1.shape"
   ]
  },
  {
   "cell_type": "code",
   "execution_count": 50,
   "metadata": {},
   "outputs": [
    {
     "data": {
      "text/plain": [
       "(710584, 129)"
      ]
     },
     "execution_count": 50,
     "metadata": {},
     "output_type": "execute_result"
    }
   ],
   "source": [
    "df1.set_index('name').loc[set(df1.set_index('name').index)-set(dupli),:].reset_index().shape"
   ]
  },
  {
   "cell_type": "code",
   "execution_count": 51,
   "metadata": {
    "collapsed": true
   },
   "outputs": [],
   "source": [
    "df2 = df1.set_index('name').loc[set(df1.set_index('name').index)-set(dupli),:].reset_index()"
   ]
  },
  {
   "cell_type": "code",
   "execution_count": 52,
   "metadata": {},
   "outputs": [
    {
     "data": {
      "text/html": [
       "<div>\n",
       "<style>\n",
       "    .dataframe thead tr:only-child th {\n",
       "        text-align: right;\n",
       "    }\n",
       "\n",
       "    .dataframe thead th {\n",
       "        text-align: left;\n",
       "    }\n",
       "\n",
       "    .dataframe tbody tr th {\n",
       "        vertical-align: top;\n",
       "    }\n",
       "</style>\n",
       "<table border=\"1\" class=\"dataframe\">\n",
       "  <thead>\n",
       "    <tr style=\"text-align: right;\">\n",
       "      <th></th>\n",
       "      <th>name</th>\n",
       "      <th>0</th>\n",
       "      <th>1</th>\n",
       "      <th>2</th>\n",
       "      <th>3</th>\n",
       "      <th>4</th>\n",
       "      <th>5</th>\n",
       "      <th>6</th>\n",
       "      <th>7</th>\n",
       "      <th>8</th>\n",
       "      <th>...</th>\n",
       "      <th>118</th>\n",
       "      <th>119</th>\n",
       "      <th>120</th>\n",
       "      <th>121</th>\n",
       "      <th>122</th>\n",
       "      <th>123</th>\n",
       "      <th>124</th>\n",
       "      <th>125</th>\n",
       "      <th>126</th>\n",
       "      <th>127</th>\n",
       "    </tr>\n",
       "  </thead>\n",
       "  <tbody>\n",
       "    <tr>\n",
       "      <th>0</th>\n",
       "      <td>face1_sub_19/20091106111126e210a.jpg</td>\n",
       "      <td>0.090681</td>\n",
       "      <td>0.063622</td>\n",
       "      <td>0.048685</td>\n",
       "      <td>0.141818</td>\n",
       "      <td>-0.054082</td>\n",
       "      <td>0.033980</td>\n",
       "      <td>0.023867</td>\n",
       "      <td>0.095308</td>\n",
       "      <td>0.044889</td>\n",
       "      <td>...</td>\n",
       "      <td>0.059198</td>\n",
       "      <td>0.068368</td>\n",
       "      <td>-0.057335</td>\n",
       "      <td>0.035933</td>\n",
       "      <td>-0.099189</td>\n",
       "      <td>0.215631</td>\n",
       "      <td>0.197686</td>\n",
       "      <td>-0.100575</td>\n",
       "      <td>0.128824</td>\n",
       "      <td>0.035667</td>\n",
       "    </tr>\n",
       "    <tr>\n",
       "      <th>1</th>\n",
       "      <td>sub_61/4a582a0a4d87066982df335df73f0f119487e42...</td>\n",
       "      <td>0.047382</td>\n",
       "      <td>-0.039619</td>\n",
       "      <td>-0.004906</td>\n",
       "      <td>0.111956</td>\n",
       "      <td>-0.053275</td>\n",
       "      <td>0.067316</td>\n",
       "      <td>0.030301</td>\n",
       "      <td>0.007103</td>\n",
       "      <td>0.095319</td>\n",
       "      <td>...</td>\n",
       "      <td>0.124956</td>\n",
       "      <td>0.006192</td>\n",
       "      <td>0.012020</td>\n",
       "      <td>-0.035398</td>\n",
       "      <td>-0.056802</td>\n",
       "      <td>-0.024810</td>\n",
       "      <td>0.017372</td>\n",
       "      <td>0.033407</td>\n",
       "      <td>0.155801</td>\n",
       "      <td>0.174614</td>\n",
       "    </tr>\n",
       "    <tr>\n",
       "      <th>2</th>\n",
       "      <td>godness_sub_11/20120715_7aecd0a3ee16495bc997i9...</td>\n",
       "      <td>0.139176</td>\n",
       "      <td>-0.021813</td>\n",
       "      <td>0.014121</td>\n",
       "      <td>0.087543</td>\n",
       "      <td>0.006650</td>\n",
       "      <td>0.097882</td>\n",
       "      <td>0.007743</td>\n",
       "      <td>0.105824</td>\n",
       "      <td>0.078287</td>\n",
       "      <td>...</td>\n",
       "      <td>0.023803</td>\n",
       "      <td>0.047007</td>\n",
       "      <td>-0.015273</td>\n",
       "      <td>0.046310</td>\n",
       "      <td>-0.075145</td>\n",
       "      <td>0.188006</td>\n",
       "      <td>0.156971</td>\n",
       "      <td>-0.137331</td>\n",
       "      <td>0.089560</td>\n",
       "      <td>0.078865</td>\n",
       "    </tr>\n",
       "    <tr>\n",
       "      <th>3</th>\n",
       "      <td>sub_108/W020170911419388610618.jpg</td>\n",
       "      <td>-0.021418</td>\n",
       "      <td>0.278278</td>\n",
       "      <td>0.022405</td>\n",
       "      <td>0.109666</td>\n",
       "      <td>-0.049149</td>\n",
       "      <td>0.070201</td>\n",
       "      <td>0.038286</td>\n",
       "      <td>0.004114</td>\n",
       "      <td>0.013662</td>\n",
       "      <td>...</td>\n",
       "      <td>0.108368</td>\n",
       "      <td>0.097187</td>\n",
       "      <td>0.013767</td>\n",
       "      <td>0.037257</td>\n",
       "      <td>-0.008347</td>\n",
       "      <td>0.183085</td>\n",
       "      <td>0.115377</td>\n",
       "      <td>-0.052388</td>\n",
       "      <td>0.138179</td>\n",
       "      <td>0.025962</td>\n",
       "    </tr>\n",
       "    <tr>\n",
       "      <th>4</th>\n",
       "      <td>man_sub_32/6597250086564895856.jpg</td>\n",
       "      <td>0.027673</td>\n",
       "      <td>0.158157</td>\n",
       "      <td>0.023877</td>\n",
       "      <td>0.103745</td>\n",
       "      <td>-0.017594</td>\n",
       "      <td>0.149621</td>\n",
       "      <td>0.012605</td>\n",
       "      <td>-0.042089</td>\n",
       "      <td>0.050092</td>\n",
       "      <td>...</td>\n",
       "      <td>-0.041274</td>\n",
       "      <td>0.133882</td>\n",
       "      <td>0.066165</td>\n",
       "      <td>-0.000621</td>\n",
       "      <td>-0.008317</td>\n",
       "      <td>0.079430</td>\n",
       "      <td>0.086190</td>\n",
       "      <td>-0.009660</td>\n",
       "      <td>0.032257</td>\n",
       "      <td>0.070513</td>\n",
       "    </tr>\n",
       "  </tbody>\n",
       "</table>\n",
       "<p>5 rows × 129 columns</p>\n",
       "</div>"
      ],
      "text/plain": [
       "                                                name         0         1  \\\n",
       "0               face1_sub_19/20091106111126e210a.jpg  0.090681  0.063622   \n",
       "1  sub_61/4a582a0a4d87066982df335df73f0f119487e42...  0.047382 -0.039619   \n",
       "2  godness_sub_11/20120715_7aecd0a3ee16495bc997i9...  0.139176 -0.021813   \n",
       "3                 sub_108/W020170911419388610618.jpg -0.021418  0.278278   \n",
       "4                 man_sub_32/6597250086564895856.jpg  0.027673  0.158157   \n",
       "\n",
       "          2         3         4         5         6         7         8  \\\n",
       "0  0.048685  0.141818 -0.054082  0.033980  0.023867  0.095308  0.044889   \n",
       "1 -0.004906  0.111956 -0.053275  0.067316  0.030301  0.007103  0.095319   \n",
       "2  0.014121  0.087543  0.006650  0.097882  0.007743  0.105824  0.078287   \n",
       "3  0.022405  0.109666 -0.049149  0.070201  0.038286  0.004114  0.013662   \n",
       "4  0.023877  0.103745 -0.017594  0.149621  0.012605 -0.042089  0.050092   \n",
       "\n",
       "     ...          118       119       120       121       122       123  \\\n",
       "0    ...     0.059198  0.068368 -0.057335  0.035933 -0.099189  0.215631   \n",
       "1    ...     0.124956  0.006192  0.012020 -0.035398 -0.056802 -0.024810   \n",
       "2    ...     0.023803  0.047007 -0.015273  0.046310 -0.075145  0.188006   \n",
       "3    ...     0.108368  0.097187  0.013767  0.037257 -0.008347  0.183085   \n",
       "4    ...    -0.041274  0.133882  0.066165 -0.000621 -0.008317  0.079430   \n",
       "\n",
       "        124       125       126       127  \n",
       "0  0.197686 -0.100575  0.128824  0.035667  \n",
       "1  0.017372  0.033407  0.155801  0.174614  \n",
       "2  0.156971 -0.137331  0.089560  0.078865  \n",
       "3  0.115377 -0.052388  0.138179  0.025962  \n",
       "4  0.086190 -0.009660  0.032257  0.070513  \n",
       "\n",
       "[5 rows x 129 columns]"
      ]
     },
     "execution_count": 52,
     "metadata": {},
     "output_type": "execute_result"
    }
   ],
   "source": [
    "df2.head()"
   ]
  },
  {
   "cell_type": "code",
   "execution_count": 53,
   "metadata": {},
   "outputs": [
    {
     "data": {
      "text/plain": [
       "(710584, 129)"
      ]
     },
     "execution_count": 53,
     "metadata": {},
     "output_type": "execute_result"
    }
   ],
   "source": [
    "df2.shape"
   ]
  },
  {
   "cell_type": "code",
   "execution_count": 57,
   "metadata": {},
   "outputs": [
    {
     "data": {
      "text/plain": [
       "(290, 1)"
      ]
     },
     "execution_count": 57,
     "metadata": {},
     "output_type": "execute_result"
    }
   ],
   "source": [
    "duplicate_csv = df1.set_index('name').loc[dupli,:].reset_index()[['name']]\n",
    "duplicate_csv.shape"
   ]
  },
  {
   "cell_type": "code",
   "execution_count": 58,
   "metadata": {
    "collapsed": true
   },
   "outputs": [],
   "source": [
    "duplicate_csv.to_csv('/home/soyoung/face/baidu_face_project/to_be_delete_duplicate.csv', index=False)"
   ]
  },
  {
   "cell_type": "code",
   "execution_count": 54,
   "metadata": {},
   "outputs": [],
   "source": [
    "# df1 = df1.reset_index(drop=True)\n",
    "# df1.shape"
   ]
  },
  {
   "cell_type": "code",
   "execution_count": 1,
   "metadata": {
    "collapsed": true
   },
   "outputs": [],
   "source": [
    "# df1.tail()"
   ]
  },
  {
   "cell_type": "code",
   "execution_count": null,
   "metadata": {
    "collapsed": true
   },
   "outputs": [],
   "source": [
    "print 'missing and to be removed', df0.shape[0]-df['exists'].sum()\n",
    "yes = raw_input('r u sure y/n ?: ')\n",
    "if yes=='y':\n",
    "    pass\n",
    "else:\n",
    "    exit()"
   ]
  },
  {
   "cell_type": "code",
   "execution_count": 60,
   "metadata": {},
   "outputs": [
    {
     "name": "stdout",
     "output_type": "stream",
     "text": [
      "CPU times: user 48.7 s, sys: 736 ms, total: 49.4 s\n",
      "Wall time: 50.3 s\n"
     ]
    }
   ],
   "source": [
    "%%time\n",
    "df1.to_csv('./'+csvN, index=False)"
   ]
  },
  {
   "cell_type": "code",
   "execution_count": null,
   "metadata": {
    "collapsed": true
   },
   "outputs": [],
   "source": []
  }
 ],
 "metadata": {
  "kernelspec": {
   "display_name": "Python 2",
   "language": "python",
   "name": "python2"
  },
  "language_info": {
   "codemirror_mode": {
    "name": "ipython",
    "version": 2
   },
   "file_extension": ".py",
   "mimetype": "text/x-python",
   "name": "python",
   "nbconvert_exporter": "python",
   "pygments_lexer": "ipython2",
   "version": "2.7.13"
  }
 },
 "nbformat": 4,
 "nbformat_minor": 2
}
