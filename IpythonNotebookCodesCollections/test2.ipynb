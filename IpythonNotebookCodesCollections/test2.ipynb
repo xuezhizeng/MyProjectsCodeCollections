{
 "cells": [
  {
   "cell_type": "code",
   "execution_count": 2,
   "metadata": {
    "collapsed": true
   },
   "outputs": [],
   "source": [
    "import os\n",
    "import pandas as pd\n",
    "import numpy as np\n",
    "import findspark\n",
    "findspark.init('/home/soyoung/standaloneSpark/spark-2.2.1-bin-hadoop2.7')\n",
    "\n",
    "from pyspark.sql import SparkSession"
   ]
  },
  {
   "cell_type": "code",
   "execution_count": 3,
   "metadata": {},
   "outputs": [
    {
     "name": "stdout",
     "output_type": "stream",
     "text": [
      "CPU times: user 12 ms, sys: 12 ms, total: 24 ms\n",
      "Wall time: 3.71 s\n"
     ]
    }
   ],
   "source": [
    "%%time\n",
    "spark = SparkSession.builder.appName('ops').getOrCreate()"
   ]
  },
  {
   "cell_type": "code",
   "execution_count": 4,
   "metadata": {
    "collapsed": true
   },
   "outputs": [],
   "source": [
    "path='./Python-and-Spark-for-Big-Data-master/Spark_DataFrames/'"
   ]
  },
  {
   "cell_type": "code",
   "execution_count": 5,
   "metadata": {},
   "outputs": [
    {
     "name": "stdout",
     "output_type": "stream",
     "text": [
      "CPU times: user 4 ms, sys: 0 ns, total: 4 ms\n",
      "Wall time: 4.37 s\n"
     ]
    }
   ],
   "source": [
    "%%time\n",
    "df = spark.read.csv(path+'appl_stock.csv', inferSchema=True, header=True)"
   ]
  },
  {
   "cell_type": "code",
   "execution_count": 8,
   "metadata": {},
   "outputs": [
    {
     "name": "stdout",
     "output_type": "stream",
     "text": [
      "root\n",
      " |-- Date: timestamp (nullable = true)\n",
      " |-- Open: double (nullable = true)\n",
      " |-- High: double (nullable = true)\n",
      " |-- Low: double (nullable = true)\n",
      " |-- Close: double (nullable = true)\n",
      " |-- Volume: integer (nullable = true)\n",
      " |-- Adj Close: double (nullable = true)\n",
      "\n"
     ]
    }
   ],
   "source": [
    "df.printSchema()"
   ]
  },
  {
   "cell_type": "code",
   "execution_count": 9,
   "metadata": {},
   "outputs": [
    {
     "data": {
      "text/plain": [
       "[Row(Date=datetime.datetime(2010, 1, 4, 0, 0), Open=213.429998, High=214.499996, Low=212.38000099999996, Close=214.009998, Volume=123432400, Adj Close=27.727039),\n",
       " Row(Date=datetime.datetime(2010, 1, 5, 0, 0), Open=214.599998, High=215.589994, Low=213.249994, Close=214.379993, Volume=150476200, Adj Close=27.774976000000002),\n",
       " Row(Date=datetime.datetime(2010, 1, 6, 0, 0), Open=214.379993, High=215.23, Low=210.750004, Close=210.969995, Volume=138040000, Adj Close=27.333178000000004)]"
      ]
     },
     "execution_count": 9,
     "metadata": {},
     "output_type": "execute_result"
    }
   ],
   "source": [
    "df.head(3)"
   ]
  },
  {
   "cell_type": "code",
   "execution_count": 18,
   "metadata": {},
   "outputs": [
    {
     "name": "stdout",
     "output_type": "stream",
     "text": [
      "+-------------------+---------+-----------------+\n",
      "|               Date|   Volume|              Low|\n",
      "+-------------------+---------+-----------------+\n",
      "|2012-08-20 00:00:00|153346200|       649.900002|\n",
      "|2012-08-21 00:00:00|203179900|       650.330025|\n",
      "|2012-08-22 00:00:00|141330700|       648.110001|\n",
      "|2012-08-23 00:00:00|105032200|       661.149979|\n",
      "|2012-08-24 00:00:00|109335100|       655.550011|\n",
      "|2012-08-27 00:00:00|106752100|673.5400089999999|\n",
      "|2012-08-28 00:00:00| 66854200|       670.669983|\n",
      "|2012-08-29 00:00:00| 50701700|       672.600014|\n",
      "|2012-08-30 00:00:00| 75674900|       662.849991|\n",
      "|2012-08-31 00:00:00| 84580300|       657.250023|\n",
      "|2012-09-04 00:00:00| 91973000|664.5000150000001|\n",
      "|2012-09-05 00:00:00| 84093800|       669.599998|\n",
      "|2012-09-06 00:00:00| 97799100|       670.800026|\n",
      "|2012-09-07 00:00:00| 82416600|        675.77002|\n",
      "|2012-09-10 00:00:00|121999500|       662.100014|\n",
      "|2012-09-11 00:00:00|125995800|       656.499992|\n",
      "|2012-09-12 00:00:00|178058300|       656.000008|\n",
      "|2012-09-13 00:00:00|149590000|       674.769997|\n",
      "|2012-09-14 00:00:00|150118500|687.8899769999999|\n",
      "|2012-09-17 00:00:00| 99507800|694.6100230000001|\n",
      "+-------------------+---------+-----------------+\n",
      "only showing top 20 rows\n",
      "\n"
     ]
    }
   ],
   "source": [
    "df.filter('Open>650').select(['Date','Volume','Low']).show()"
   ]
  },
  {
   "cell_type": "code",
   "execution_count": 19,
   "metadata": {},
   "outputs": [
    {
     "name": "stdout",
     "output_type": "stream",
     "text": [
      "+---------+------------------+------------------+\n",
      "|   Volume|              Open|             Close|\n",
      "+---------+------------------+------------------+\n",
      "|123432400|        213.429998|        214.009998|\n",
      "|150476200|        214.599998|        214.379993|\n",
      "|138040000|        214.379993|        210.969995|\n",
      "|119282800|            211.75|            210.58|\n",
      "|111902700|        210.299994|211.98000499999998|\n",
      "|115557400|212.79999700000002|210.11000299999998|\n",
      "|148614900|209.18999499999998|        207.720001|\n",
      "|151473000|        207.870005|        210.650002|\n",
      "|108223500|210.11000299999998|            209.43|\n",
      "|148516900|210.92999500000002|            205.93|\n",
      "|182501900|        208.330002|        215.039995|\n",
      "|153038200|        214.910006|            211.73|\n",
      "|152038600|        212.079994|        208.069996|\n",
      "|220441900|206.78000600000001|            197.75|\n",
      "|266424900|202.51000200000001|        203.070002|\n",
      "|466777500|205.95000100000001|        205.940001|\n",
      "|430642100|        206.849995|        207.880005|\n",
      "|293375600|        204.930004|        199.289995|\n",
      "|311488100|        201.079996|        192.060003|\n",
      "|187469100|192.36999699999998|        194.729998|\n",
      "+---------+------------------+------------------+\n",
      "only showing top 20 rows\n",
      "\n"
     ]
    }
   ],
   "source": [
    "df.filter(df['close']<500).select(['Volume', 'Open','Close']).show()"
   ]
  },
  {
   "cell_type": "code",
   "execution_count": 32,
   "metadata": {},
   "outputs": [
    {
     "name": "stdout",
     "output_type": "stream",
     "text": [
      "+---------+----------+------------------+\n",
      "|   Volume|      Open|             Close|\n",
      "+---------+----------+------------------+\n",
      "|376530000|514.259995|        497.669975|\n",
      "| 59091900|500.250008|495.26997400000005|\n",
      "|185798900|506.199997|494.63999900000005|\n",
      "|169625400|502.539993|        499.779984|\n",
      "+---------+----------+------------------+\n",
      "\n"
     ]
    }
   ],
   "source": [
    "df.filter((df['Close']<500) & ~(df['Open']<500)).select(['Volume', 'Open','Close']).show()"
   ]
  },
  {
   "cell_type": "code",
   "execution_count": 36,
   "metadata": {},
   "outputs": [
    {
     "data": {
      "text/plain": [
       "[Row(Date=datetime.datetime(2012, 2, 15, 0, 0), Open=514.259995, High=526.290016, Low=496.88998399999997, Close=497.669975, Volume=376530000, Adj Close=64.477899),\n",
       " Row(Date=datetime.datetime(2013, 9, 5, 0, 0), Open=500.250008, High=500.67997699999995, Low=493.63997699999993, Close=495.26997400000005, Volume=59091900, Adj Close=65.977837),\n",
       " Row(Date=datetime.datetime(2013, 9, 10, 0, 0), Open=506.199997, High=507.450012, Low=489.500015, Close=494.63999900000005, Volume=185798900, Adj Close=65.893915),\n",
       " Row(Date=datetime.datetime(2014, 1, 30, 0, 0), Open=502.539993, High=506.49997699999994, Low=496.70002, Close=499.779984, Volume=169625400, Adj Close=66.967353)]"
      ]
     },
     "execution_count": 36,
     "metadata": {},
     "output_type": "execute_result"
    }
   ],
   "source": [
    "r = df.filter((df['Close']<500) & (df['Open']>500)).collect()\n",
    "r"
   ]
  },
  {
   "cell_type": "code",
   "execution_count": 37,
   "metadata": {},
   "outputs": [
    {
     "data": {
      "text/plain": [
       "Row(Date=datetime.datetime(2012, 2, 15, 0, 0), Open=514.259995, High=526.290016, Low=496.88998399999997, Close=497.669975, Volume=376530000, Adj Close=64.477899)"
      ]
     },
     "execution_count": 37,
     "metadata": {},
     "output_type": "execute_result"
    }
   ],
   "source": [
    "r[0]"
   ]
  },
  {
   "cell_type": "code",
   "execution_count": 38,
   "metadata": {},
   "outputs": [
    {
     "data": {
      "text/plain": [
       "{'Adj Close': 64.477899,\n",
       " 'Close': 497.669975,\n",
       " 'Date': datetime.datetime(2012, 2, 15, 0, 0),\n",
       " 'High': 526.290016,\n",
       " 'Low': 496.88998399999997,\n",
       " 'Open': 514.259995,\n",
       " 'Volume': 376530000}"
      ]
     },
     "execution_count": 38,
     "metadata": {},
     "output_type": "execute_result"
    }
   ],
   "source": [
    "r[0].asDict()"
   ]
  },
  {
   "cell_type": "code",
   "execution_count": 39,
   "metadata": {},
   "outputs": [
    {
     "data": {
      "text/plain": [
       "pyspark.sql.types.Row"
      ]
     },
     "execution_count": 39,
     "metadata": {},
     "output_type": "execute_result"
    }
   ],
   "source": [
    "type(r[0])"
   ]
  },
  {
   "cell_type": "code",
   "execution_count": 40,
   "metadata": {},
   "outputs": [
    {
     "name": "stdout",
     "output_type": "stream",
     "text": [
      "['__add__', '__call__', '__class__', '__contains__', '__delattr__', '__dict__', '__doc__', '__eq__', '__fields__', '__format__', '__ge__', '__getattr__', '__getattribute__', '__getitem__', '__getnewargs__', '__getslice__', '__gt__', '__hash__', '__init__', '__iter__', '__le__', '__len__', '__lt__', '__module__', '__mul__', '__ne__', '__new__', '__reduce__', '__reduce_ex__', '__repr__', '__rmul__', '__setattr__', '__sizeof__', '__str__', '__subclasshook__', 'asDict', 'count', 'index']\n"
     ]
    }
   ],
   "source": [
    "print dir(r[0])"
   ]
  },
  {
   "cell_type": "code",
   "execution_count": null,
   "metadata": {
    "collapsed": true
   },
   "outputs": [],
   "source": []
  }
 ],
 "metadata": {
  "kernelspec": {
   "display_name": "Python 2",
   "language": "python",
   "name": "python2"
  },
  "language_info": {
   "codemirror_mode": {
    "name": "ipython",
    "version": 2
   },
   "file_extension": ".py",
   "mimetype": "text/x-python",
   "name": "python",
   "nbconvert_exporter": "python",
   "pygments_lexer": "ipython2",
   "version": "2.7.13"
  }
 },
 "nbformat": 4,
 "nbformat_minor": 2
}
