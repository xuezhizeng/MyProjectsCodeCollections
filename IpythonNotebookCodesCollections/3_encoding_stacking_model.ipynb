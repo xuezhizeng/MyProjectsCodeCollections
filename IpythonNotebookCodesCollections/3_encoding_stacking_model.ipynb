{
 "cells": [
  {
   "cell_type": "code",
   "execution_count": 3,
   "metadata": {
    "collapsed": true
   },
   "outputs": [],
   "source": [
    "import pandas as pd\n",
    "from ast import literal_eval\n",
    "import matplotlib.pyplot as plt\n",
    "import warnings\n",
    "warnings.filterwarnings(\"ignore\")\n",
    "%matplotlib inline"
   ]
  },
  {
   "cell_type": "code",
   "execution_count": 4,
   "metadata": {},
   "outputs": [],
   "source": [
    "import numpy as np\n",
    "import itertools\n",
    "import os\n",
    "import matplotlib.pyplot as plt\n",
    "from time import time, ctime\n",
    "from sklearn.ensemble import RandomForestClassifier\n",
    "from sklearn.svm import SVC, LinearSVC \n",
    "from sklearn.metrics import accuracy_score, classification_report, classification, confusion_matrix\n",
    "from sklearn.model_selection import train_test_split, KFold,\\\n",
    "cross_val_score, StratifiedKFold, StratifiedShuffleSplit\n",
    "from sklearn.preprocessing import LabelEncoder\n",
    "from xgboost import XGBClassifier\n",
    "\n",
    "from helper import plot_confusion_matrix, plot_confusion_matrix2\n",
    "dim=lambda *x: [i.shape for i in x]"
   ]
  },
  {
   "cell_type": "code",
   "execution_count": 5,
   "metadata": {},
   "outputs": [
    {
     "name": "stdout",
     "output_type": "stream",
     "text": [
      "(44812, 851)\n",
      "CPU times: user 2.97 s, sys: 205 ms, total: 3.17 s\n",
      "Wall time: 3.2 s\n"
     ]
    }
   ],
   "source": [
    "%%time\n",
    "df=pd.read_csv('./goden_before_encode3.csv')\n",
    "print df.shape"
   ]
  },
  {
   "cell_type": "code",
   "execution_count": 6,
   "metadata": {},
   "outputs": [
    {
     "data": {
      "text/html": [
       "<div>\n",
       "<style>\n",
       "    .dataframe thead tr:only-child th {\n",
       "        text-align: right;\n",
       "    }\n",
       "\n",
       "    .dataframe thead th {\n",
       "        text-align: left;\n",
       "    }\n",
       "\n",
       "    .dataframe tbody tr th {\n",
       "        vertical-align: top;\n",
       "    }\n",
       "</style>\n",
       "<table border=\"1\" class=\"dataframe\">\n",
       "  <thead>\n",
       "    <tr style=\"text-align: right;\">\n",
       "      <th></th>\n",
       "      <th>username</th>\n",
       "      <th>about.chosen_role</th>\n",
       "      <th>about.company</th>\n",
       "      <th>about.hourly_rate</th>\n",
       "      <th>about.primary_language</th>\n",
       "      <th>about.recommendations</th>\n",
       "      <th>about.registration_date</th>\n",
       "      <th>about.role</th>\n",
       "      <th>about.tagline</th>\n",
       "      <th>hourlyRate</th>\n",
       "      <th>...</th>\n",
       "      <th>feature_721</th>\n",
       "      <th>feature_722</th>\n",
       "      <th>feature_723</th>\n",
       "      <th>feature_724</th>\n",
       "      <th>feature_725</th>\n",
       "      <th>feature_726</th>\n",
       "      <th>feature_727</th>\n",
       "      <th>feature_728</th>\n",
       "      <th>feature_729</th>\n",
       "      <th>feature_730</th>\n",
       "    </tr>\n",
       "  </thead>\n",
       "  <tbody>\n",
       "    <tr>\n",
       "      <th>0</th>\n",
       "      <td>billion</td>\n",
       "      <td>3.0</td>\n",
       "      <td>Innovate it</td>\n",
       "      <td>500</td>\n",
       "      <td>id</td>\n",
       "      <td>0.0</td>\n",
       "      <td>1.076001e+09</td>\n",
       "      <td>1.0</td>\n",
       "      <td>97</td>\n",
       "      <td>500.0</td>\n",
       "      <td>...</td>\n",
       "      <td>0.0</td>\n",
       "      <td>0.0</td>\n",
       "      <td>0.0</td>\n",
       "      <td>0.0</td>\n",
       "      <td>0.0</td>\n",
       "      <td>0.0</td>\n",
       "      <td>0.0</td>\n",
       "      <td>13.0</td>\n",
       "      <td>14.0</td>\n",
       "      <td>7.0</td>\n",
       "    </tr>\n",
       "    <tr>\n",
       "      <th>1</th>\n",
       "      <td>ArmenSoft</td>\n",
       "      <td>0.0</td>\n",
       "      <td>0</td>\n",
       "      <td>0</td>\n",
       "      <td>0</td>\n",
       "      <td>0.0</td>\n",
       "      <td>0.000000e+00</td>\n",
       "      <td>0.0</td>\n",
       "      <td>0</td>\n",
       "      <td>0.0</td>\n",
       "      <td>...</td>\n",
       "      <td>0.0</td>\n",
       "      <td>0.0</td>\n",
       "      <td>0.0</td>\n",
       "      <td>0.0</td>\n",
       "      <td>0.0</td>\n",
       "      <td>0.0</td>\n",
       "      <td>0.0</td>\n",
       "      <td>19.0</td>\n",
       "      <td>5.0</td>\n",
       "      <td>9.0</td>\n",
       "    </tr>\n",
       "  </tbody>\n",
       "</table>\n",
       "<p>2 rows × 851 columns</p>\n",
       "</div>"
      ],
      "text/plain": [
       "    username  about.chosen_role about.company  about.hourly_rate  \\\n",
       "0    billion                3.0   Innovate it                500   \n",
       "1  ArmenSoft                0.0             0                  0   \n",
       "\n",
       "  about.primary_language  about.recommendations  about.registration_date  \\\n",
       "0                     id                    0.0             1.076001e+09   \n",
       "1                      0                    0.0             0.000000e+00   \n",
       "\n",
       "   about.role  about.tagline  hourlyRate     ...      feature_721  \\\n",
       "0         1.0             97       500.0     ...              0.0   \n",
       "1         0.0              0         0.0     ...              0.0   \n",
       "\n",
       "   feature_722 feature_723  feature_724  feature_725  feature_726  \\\n",
       "0          0.0         0.0          0.0          0.0          0.0   \n",
       "1          0.0         0.0          0.0          0.0          0.0   \n",
       "\n",
       "   feature_727  feature_728  feature_729  feature_730  \n",
       "0          0.0         13.0         14.0          7.0  \n",
       "1          0.0         19.0          5.0          9.0  \n",
       "\n",
       "[2 rows x 851 columns]"
      ]
     },
     "execution_count": 6,
     "metadata": {},
     "output_type": "execute_result"
    }
   ],
   "source": [
    "df.head(2)"
   ]
  },
  {
   "cell_type": "code",
   "execution_count": 7,
   "metadata": {},
   "outputs": [
    {
     "data": {
      "text/plain": [
       "44812"
      ]
     },
     "execution_count": 7,
     "metadata": {},
     "output_type": "execute_result"
    }
   ],
   "source": [
    "y=df.pop('fname.gender').map({'male':1, 'female':0}).values\n",
    "len(y)"
   ]
  },
  {
   "cell_type": "code",
   "execution_count": 8,
   "metadata": {},
   "outputs": [
    {
     "data": {
      "text/html": [
       "<div>\n",
       "<style>\n",
       "    .dataframe thead tr:only-child th {\n",
       "        text-align: right;\n",
       "    }\n",
       "\n",
       "    .dataframe thead th {\n",
       "        text-align: left;\n",
       "    }\n",
       "\n",
       "    .dataframe tbody tr th {\n",
       "        vertical-align: top;\n",
       "    }\n",
       "</style>\n",
       "<table border=\"1\" class=\"dataframe\">\n",
       "  <thead>\n",
       "    <tr style=\"text-align: right;\">\n",
       "      <th></th>\n",
       "      <th>username</th>\n",
       "      <th>about.chosen_role</th>\n",
       "      <th>about.company</th>\n",
       "      <th>about.hourly_rate</th>\n",
       "      <th>about.primary_language</th>\n",
       "      <th>about.recommendations</th>\n",
       "      <th>about.registration_date</th>\n",
       "      <th>about.role</th>\n",
       "      <th>about.tagline</th>\n",
       "      <th>hourlyRate</th>\n",
       "      <th>...</th>\n",
       "      <th>feature_721</th>\n",
       "      <th>feature_722</th>\n",
       "      <th>feature_723</th>\n",
       "      <th>feature_724</th>\n",
       "      <th>feature_725</th>\n",
       "      <th>feature_726</th>\n",
       "      <th>feature_727</th>\n",
       "      <th>feature_728</th>\n",
       "      <th>feature_729</th>\n",
       "      <th>feature_730</th>\n",
       "    </tr>\n",
       "  </thead>\n",
       "  <tbody>\n",
       "    <tr>\n",
       "      <th>0</th>\n",
       "      <td>billion</td>\n",
       "      <td>3.0</td>\n",
       "      <td>Innovate it</td>\n",
       "      <td>500</td>\n",
       "      <td>id</td>\n",
       "      <td>0.0</td>\n",
       "      <td>1.076001e+09</td>\n",
       "      <td>1.0</td>\n",
       "      <td>97</td>\n",
       "      <td>500.0</td>\n",
       "      <td>...</td>\n",
       "      <td>0.0</td>\n",
       "      <td>0.0</td>\n",
       "      <td>0.0</td>\n",
       "      <td>0.0</td>\n",
       "      <td>0.0</td>\n",
       "      <td>0.0</td>\n",
       "      <td>0.0</td>\n",
       "      <td>13.0</td>\n",
       "      <td>14.0</td>\n",
       "      <td>7.0</td>\n",
       "    </tr>\n",
       "  </tbody>\n",
       "</table>\n",
       "<p>1 rows × 850 columns</p>\n",
       "</div>"
      ],
      "text/plain": [
       "  username  about.chosen_role about.company  about.hourly_rate  \\\n",
       "0  billion                3.0   Innovate it                500   \n",
       "\n",
       "  about.primary_language  about.recommendations  about.registration_date  \\\n",
       "0                     id                    0.0             1.076001e+09   \n",
       "\n",
       "   about.role  about.tagline  hourlyRate     ...      feature_721  \\\n",
       "0         1.0             97       500.0     ...              0.0   \n",
       "\n",
       "   feature_722 feature_723  feature_724  feature_725  feature_726  \\\n",
       "0          0.0         0.0          0.0          0.0          0.0   \n",
       "\n",
       "   feature_727  feature_728  feature_729  feature_730  \n",
       "0          0.0         13.0         14.0          7.0  \n",
       "\n",
       "[1 rows x 850 columns]"
      ]
     },
     "execution_count": 8,
     "metadata": {},
     "output_type": "execute_result"
    }
   ],
   "source": [
    "df.head(1)"
   ]
  },
  {
   "cell_type": "code",
   "execution_count": 9,
   "metadata": {
    "collapsed": true
   },
   "outputs": [],
   "source": [
    "X=df.iloc[:, 1:]"
   ]
  },
  {
   "cell_type": "markdown",
   "metadata": {},
   "source": [
    "### labelencoding"
   ]
  },
  {
   "cell_type": "code",
   "execution_count": 10,
   "metadata": {
    "collapsed": true
   },
   "outputs": [],
   "source": [
    "feature_df = df.iloc[0:1, 1:]"
   ]
  },
  {
   "cell_type": "code",
   "execution_count": 11,
   "metadata": {},
   "outputs": [
    {
     "data": {
      "text/html": [
       "<div>\n",
       "<style>\n",
       "    .dataframe thead tr:only-child th {\n",
       "        text-align: right;\n",
       "    }\n",
       "\n",
       "    .dataframe thead th {\n",
       "        text-align: left;\n",
       "    }\n",
       "\n",
       "    .dataframe tbody tr th {\n",
       "        vertical-align: top;\n",
       "    }\n",
       "</style>\n",
       "<table border=\"1\" class=\"dataframe\">\n",
       "  <thead>\n",
       "    <tr style=\"text-align: right;\">\n",
       "      <th></th>\n",
       "      <th>about.chosen_role</th>\n",
       "      <th>about.company</th>\n",
       "      <th>about.hourly_rate</th>\n",
       "      <th>about.primary_language</th>\n",
       "      <th>about.recommendations</th>\n",
       "      <th>about.registration_date</th>\n",
       "      <th>about.role</th>\n",
       "      <th>about.tagline</th>\n",
       "      <th>hourlyRate</th>\n",
       "      <th>resume.show</th>\n",
       "      <th>...</th>\n",
       "      <th>feature_721</th>\n",
       "      <th>feature_722</th>\n",
       "      <th>feature_723</th>\n",
       "      <th>feature_724</th>\n",
       "      <th>feature_725</th>\n",
       "      <th>feature_726</th>\n",
       "      <th>feature_727</th>\n",
       "      <th>feature_728</th>\n",
       "      <th>feature_729</th>\n",
       "      <th>feature_730</th>\n",
       "    </tr>\n",
       "  </thead>\n",
       "  <tbody>\n",
       "    <tr>\n",
       "      <th>0</th>\n",
       "      <td>3.0</td>\n",
       "      <td>Innovate it</td>\n",
       "      <td>500</td>\n",
       "      <td>id</td>\n",
       "      <td>0.0</td>\n",
       "      <td>1.076001e+09</td>\n",
       "      <td>1.0</td>\n",
       "      <td>97</td>\n",
       "      <td>500.0</td>\n",
       "      <td>False</td>\n",
       "      <td>...</td>\n",
       "      <td>0.0</td>\n",
       "      <td>0.0</td>\n",
       "      <td>0.0</td>\n",
       "      <td>0.0</td>\n",
       "      <td>0.0</td>\n",
       "      <td>0.0</td>\n",
       "      <td>0.0</td>\n",
       "      <td>13.0</td>\n",
       "      <td>14.0</td>\n",
       "      <td>7.0</td>\n",
       "    </tr>\n",
       "  </tbody>\n",
       "</table>\n",
       "<p>1 rows × 849 columns</p>\n",
       "</div>"
      ],
      "text/plain": [
       "   about.chosen_role about.company  about.hourly_rate about.primary_language  \\\n",
       "0                3.0   Innovate it                500                     id   \n",
       "\n",
       "   about.recommendations  about.registration_date  about.role  about.tagline  \\\n",
       "0                    0.0             1.076001e+09         1.0             97   \n",
       "\n",
       "   hourlyRate resume.show     ...       feature_721 feature_722  feature_723  \\\n",
       "0       500.0       False     ...               0.0         0.0          0.0   \n",
       "\n",
       "   feature_724  feature_725  feature_726  feature_727  feature_728  \\\n",
       "0          0.0          0.0          0.0          0.0         13.0   \n",
       "\n",
       "   feature_729  feature_730  \n",
       "0         14.0          7.0  \n",
       "\n",
       "[1 rows x 849 columns]"
      ]
     },
     "execution_count": 11,
     "metadata": {},
     "output_type": "execute_result"
    }
   ],
   "source": [
    "feature_df"
   ]
  },
  {
   "cell_type": "code",
   "execution_count": 12,
   "metadata": {},
   "outputs": [
    {
     "data": {
      "text/plain": [
       "(1, 31)"
      ]
     },
     "execution_count": 12,
     "metadata": {},
     "output_type": "execute_result"
    }
   ],
   "source": [
    "feature_df.select_dtypes(include=['O']).shape"
   ]
  },
  {
   "cell_type": "markdown",
   "metadata": {},
   "source": [
    "### batch label encoding string variables and collect the encoders into a dictionary"
   ]
  },
  {
   "cell_type": "code",
   "execution_count": 13,
   "metadata": {},
   "outputs": [
    {
     "name": "stdout",
     "output_type": "stream",
     "text": [
      "31\n",
      "CPU times: user 841 ms, sys: 0 ns, total: 841 ms\n",
      "Wall time: 838 ms\n"
     ]
    }
   ],
   "source": [
    "%%time\n",
    "from sklearn.preprocessing import LabelEncoder, OneHotEncoder\n",
    "\n",
    "Labels={}\n",
    "\n",
    "for i in X.select_dtypes(include=['O']).columns:\n",
    "    exec(\"labelencoder_{} = LabelEncoder()\".format(i.replace('.','_')))\n",
    "    exec(\"X['{}'] = labelencoder_{}.fit_transform(X['{}'])\".format(i,i.replace('.','_'),i))\n",
    "    exec(\"Labels['labelencoder_{}']=labelencoder_{}\".format(i.replace('.','_'), i.replace('.','_')))\n",
    "\n",
    "print len(Labels)"
   ]
  },
  {
   "cell_type": "code",
   "execution_count": 14,
   "metadata": {},
   "outputs": [
    {
     "data": {
      "text/plain": [
       "{'labelencoder_about_company': LabelEncoder(),\n",
       " 'labelencoder_about_primary_language': LabelEncoder(),\n",
       " 'labelencoder_city_3': LabelEncoder(),\n",
       " 'labelencoder_code_2': LabelEncoder(),\n",
       " 'labelencoder_country_2': LabelEncoder(),\n",
       " 'labelencoder_country_5': LabelEncoder(),\n",
       " 'labelencoder_country_code_3': LabelEncoder(),\n",
       " 'labelencoder_country_flag_class_3': LabelEncoder(),\n",
       " 'labelencoder_country_name_3': LabelEncoder(),\n",
       " 'labelencoder_deposit_made': LabelEncoder(),\n",
       " 'labelencoder_email_verified': LabelEncoder(),\n",
       " 'labelencoder_facebook_connected': LabelEncoder(),\n",
       " 'labelencoder_first': LabelEncoder(),\n",
       " 'labelencoder_first2': LabelEncoder(),\n",
       " 'labelencoder_first3': LabelEncoder(),\n",
       " 'labelencoder_identity_verified': LabelEncoder(),\n",
       " 'labelencoder_last': LabelEncoder(),\n",
       " 'labelencoder_last2': LabelEncoder(),\n",
       " 'labelencoder_last3': LabelEncoder(),\n",
       " 'labelencoder_name_2': LabelEncoder(),\n",
       " 'labelencoder_payment_verified': LabelEncoder(),\n",
       " 'labelencoder_phone_verified': LabelEncoder(),\n",
       " 'labelencoder_profile_complete': LabelEncoder(),\n",
       " 'labelencoder_register_Month': LabelEncoder(),\n",
       " 'labelencoder_resume_show': LabelEncoder(),\n",
       " 'labelencoder_sign_2': LabelEncoder(),\n",
       " 'labelencoder_summary_completion_rate_4': LabelEncoder(),\n",
       " 'labelencoder_summary_on_budget_4': LabelEncoder(),\n",
       " 'labelencoder_summary_on_time_4': LabelEncoder(),\n",
       " 'labelencoder_timezone_5': LabelEncoder(),\n",
       " 'labelencoder_username_split_predict': LabelEncoder()}"
      ]
     },
     "execution_count": 14,
     "metadata": {},
     "output_type": "execute_result"
    }
   ],
   "source": [
    "Labels"
   ]
  },
  {
   "cell_type": "code",
   "execution_count": 15,
   "metadata": {},
   "outputs": [
    {
     "data": {
      "text/plain": [
       "((44812, 849), (44812,))"
      ]
     },
     "execution_count": 15,
     "metadata": {},
     "output_type": "execute_result"
    }
   ],
   "source": [
    "X.shape, y.shape"
   ]
  },
  {
   "cell_type": "code",
   "execution_count": 24,
   "metadata": {
    "collapsed": true
   },
   "outputs": [],
   "source": [
    "# helper functions\n",
    "def impliment(model):\n",
    "    model.fit(X_train, y_train)\n",
    "    pred = model.predict(X_test)\n",
    "    print accuracy_score(y_test, pred)\n",
    "    plot_confusion_matrix(confusion_matrix(y_test,pred), ['female','male'])\n",
    "    return model\n",
    "\n",
    "def plotting(model, df, num):\n",
    "    forest = model\n",
    "    importances = forest.feature_importances_\n",
    "    std = np.std([tree.feature_importances_ for tree in forest.estimators_],\n",
    "                 axis=0)\n",
    "    indices = np.argsort(importances)[::-1]\n",
    "\n",
    "\n",
    "\n",
    "    # Plot the feature importances of the forest\n",
    "    plt.figure(figsize=(16,8))\n",
    "    plt.title(\"Feature importances\")\n",
    "    plt.barh(range(num), importances[indices][:num],\n",
    "           color=\"g\", xerr=std[indices][:num], \n",
    "            align=\"center\", alpha=.7)\n",
    "\n",
    "    plt.yticks(range(num), list(df.columns[indices][:num],))\n",
    "    plt.ylim([-1, num])\n",
    "\n",
    "    plt.gca().invert_yaxis()\n",
    "\n",
    "    plt.show()\n",
    "\n",
    "    # Print the feature ranking\n",
    "    print(\"Feature ranking:\")\n",
    "    for f in range(num):\n",
    "        print(\"{}. feature {} ({:.2f} %)\" .format (f + 1, df.columns[indices[f]], 100*importances[indices[f]]))\n",
    "        \n",
    "def plotting2(model, df, num):\n",
    "    importances = model.feature_importances_\n",
    "\n",
    "    indices = np.argsort(importances)[::-1]\n",
    "\n",
    "\n",
    "\n",
    "    # Plot the feature importances of the forest\n",
    "    plt.figure(figsize=(16,8))\n",
    "    plt.title(\"Feature importances\")\n",
    "    plt.barh(range(num), importances[indices][:num],\n",
    "           color=\"r\", \n",
    "            align=\"center\", alpha=.6)\n",
    "\n",
    "    plt.yticks(range(num), list(df.columns[indices][:num],))\n",
    "    plt.ylim([-1, num])\n",
    "\n",
    "    plt.gca().invert_yaxis()\n",
    "\n",
    "    plt.show()\n",
    "\n",
    "    # Print the feature ranking\n",
    "    print(\"Feature ranking:\")\n",
    "    for f in range(num):\n",
    "        print(\"{}. feature {} ({:.2f} %)\" .format (f + 1, df.columns[indices[f]], 100*importances[indices[f]]))"
   ]
  },
  {
   "cell_type": "code",
   "execution_count": null,
   "metadata": {
    "collapsed": true
   },
   "outputs": [],
   "source": []
  },
  {
   "cell_type": "code",
   "execution_count": 16,
   "metadata": {},
   "outputs": [
    {
     "name": "stdout",
     "output_type": "stream",
     "text": [
      "(44812, 849) <type 'numpy.ndarray'>\n",
      "CPU times: user 3.08 s, sys: 644 ms, total: 3.72 s\n",
      "Wall time: 3.72 s\n"
     ]
    }
   ],
   "source": [
    "%%time\n",
    "from sklearn.preprocessing import StandardScaler\n",
    "sc = StandardScaler(with_mean=False)\n",
    "X=sc.fit_transform(X)\n",
    "print X.shape, type(X)"
   ]
  },
  {
   "cell_type": "markdown",
   "metadata": {},
   "source": [
    "### initial RandomForest model, before onehot encoding and nomalizing"
   ]
  },
  {
   "cell_type": "code",
   "execution_count": 15,
   "metadata": {},
   "outputs": [
    {
     "name": "stdout",
     "output_type": "stream",
     "text": [
      "[ 0.82195448  0.82329317  0.82552432  0.82307006  0.82526222  0.82503905\n",
      "  0.82704753  0.82615488  0.82611607  0.40848214]\n",
      "CPU times: user 10min 50s, sys: 3.95 s, total: 10min 54s\n",
      "Wall time: 50.1 s\n"
     ]
    }
   ],
   "source": [
    "%%time\n",
    "print cross_val_score(RandomForestClassifier(n_estimators=160, min_samples_split=3, n_jobs=24), X, y, cv=10)"
   ]
  },
  {
   "cell_type": "markdown",
   "metadata": {},
   "source": [
    "### train test split on 7:3"
   ]
  },
  {
   "cell_type": "code",
   "execution_count": 16,
   "metadata": {},
   "outputs": [
    {
     "data": {
      "text/plain": [
       "[(31368, 849), (13444, 849), (31368,), (13444,)]"
      ]
     },
     "execution_count": 16,
     "metadata": {},
     "output_type": "execute_result"
    }
   ],
   "source": [
    "from sklearn.model_selection import train_test_split\n",
    "X_train, X_test, y_train, y_test = train_test_split(X, y, test_size=0.3,\n",
    "                                                   random_state=7)\n",
    "dim(X_train, X_test, y_train, y_test)"
   ]
  },
  {
   "cell_type": "code",
   "execution_count": null,
   "metadata": {
    "collapsed": true
   },
   "outputs": [],
   "source": []
  },
  {
   "cell_type": "code",
   "execution_count": 18,
   "metadata": {},
   "outputs": [
    {
     "name": "stdout",
     "output_type": "stream",
     "text": [
      "0.82282058911\n",
      "Confusion matrix, without normalization\n",
      "[[  103  2347]\n",
      " [   35 10959]]\n"
     ]
    },
    {
     "data": {
      "image/png": "[encoded data removed]",
      "text/plain": [
       "<matplotlib.figure.Figure at 0x2b7cf2f92e90>"
      ]
     },
     "metadata": {},
     "output_type": "display_data"
    },
    {
     "name": "stdout",
     "output_type": "stream",
     "text": [
      "CPU times: user 26.8 s, sys: 1.66 s, total: 28.5 s\n",
      "Wall time: 3.42 s\n"
     ]
    }
   ],
   "source": [
    "%%time\n",
    "model1 = impliment(RandomForestClassifier(n_estimators=80, min_samples_split=2, n_jobs=24))"
   ]
  },
  {
   "cell_type": "code",
   "execution_count": 19,
   "metadata": {},
   "outputs": [
    {
     "data": {
      "image/png": "[encoded data removed]",
      "text/plain": [
       "<matplotlib.figure.Figure at 0x2b7cf2d32cd0>"
      ]
     },
     "metadata": {},
     "output_type": "display_data"
    },
    {
     "name": "stdout",
     "output_type": "stream",
     "text": [
      "Feature ranking:\n",
      "1. feature username_split_predict (2.69 %)\n",
      "2. feature first3 (1.99 %)\n",
      "3. feature last3 (1.98 %)\n",
      "4. feature first2 (1.88 %)\n",
      "5. feature last2 (1.86 %)\n",
      "6. feature vowels.pct (1.63 %)\n",
      "7. feature last (1.51 %)\n",
      "8. feature feature_728 (1.46 %)\n",
      "9. feature first (1.38 %)\n",
      "10. feature feature_729 (1.37 %)\n",
      "11. feature nchar (1.33 %)\n",
      "12. feature feature_730 (1.26 %)\n",
      "13. feature user_id_4 (1.26 %)\n",
      "14. feature about.registration_date (1.25 %)\n",
      "15. feature city_3 (1.16 %)\n",
      "16. feature feature_26 (1.14 %)\n",
      "17. feature feature_30 (1.10 %)\n",
      "18. feature about.company (1.07 %)\n",
      "19. feature feature_34 (0.96 %)\n",
      "20. feature feature_39 (0.95 %)\n",
      "21. feature feature_43 (0.94 %)\n",
      "22. feature hourlyRate (0.93 %)\n",
      "23. feature feature_44 (0.92 %)\n",
      "24. feature feature_45 (0.87 %)\n",
      "25. feature feature_37 (0.86 %)\n",
      "26. feature feature_40 (0.85 %)\n",
      "27. feature register_Month (0.79 %)\n",
      "28. feature timezone_5 (0.77 %)\n",
      "29. feature digits.pct (0.76 %)\n",
      "30. feature id_5 (0.72 %)\n"
     ]
    }
   ],
   "source": [
    "plotting(model1, X, 30)"
   ]
  },
  {
   "cell_type": "code",
   "execution_count": 20,
   "metadata": {},
   "outputs": [
    {
     "name": "stdout",
     "output_type": "stream",
     "text": [
      "0.828994346921\n",
      "Confusion matrix, without normalization\n",
      "[[  316  2134]\n",
      " [  165 10829]]\n"
     ]
    },
    {
     "data": {
      "image/png": "[encoded data removed]",
      "text/plain": [
       "<matplotlib.figure.Figure at 0x2b7cf2dc0650>"
      ]
     },
     "metadata": {},
     "output_type": "display_data"
    },
    {
     "name": "stdout",
     "output_type": "stream",
     "text": [
      "CPU times: user 24min 31s, sys: 1.71 s, total: 24min 33s\n",
      "Wall time: 1min 6s\n"
     ]
    }
   ],
   "source": [
    "%%time\n",
    "model2 = impliment(XGBClassifier(nthread=-1, max_depth=128,\n",
    "                        min_child_weight=0.9, colsample_bytree=0.9,\n",
    "                       scale_pos_weight= 0.9, reg_alpha=0.6))"
   ]
  },
  {
   "cell_type": "code",
   "execution_count": 25,
   "metadata": {},
   "outputs": [
    {
     "data": {
      "image/png": "[encoded data removed]",
      "text/plain": [
       "<matplotlib.figure.Figure at 0x2b7dc6853810>"
      ]
     },
     "metadata": {},
     "output_type": "display_data"
    },
    {
     "name": "stdout",
     "output_type": "stream",
     "text": [
      "Feature ranking:\n",
      "1. feature last3 (5.07 %)\n",
      "2. feature last2 (4.39 %)\n",
      "3. feature vowels.pct (3.58 %)\n",
      "4. feature first2 (3.48 %)\n",
      "5. feature about.registration_date (3.04 %)\n",
      "6. feature city_3 (2.99 %)\n",
      "7. feature about.company (2.84 %)\n",
      "8. feature last (2.59 %)\n",
      "9. feature first (2.22 %)\n",
      "10. feature first3 (2.14 %)\n",
      "11. feature feature_729 (2.00 %)\n",
      "12. feature feature_728 (1.98 %)\n",
      "13. feature nchar (1.84 %)\n",
      "14. feature hourlyRate (1.79 %)\n",
      "15. feature feature_30 (1.77 %)\n",
      "16. feature feature_26 (1.65 %)\n",
      "17. feature register_Month (1.59 %)\n",
      "18. feature feature_34 (1.53 %)\n",
      "19. feature feature_43 (1.40 %)\n",
      "20. feature feature_39 (1.36 %)\n"
     ]
    }
   ],
   "source": [
    "plotting2(model2, X, 20)"
   ]
  },
  {
   "cell_type": "markdown",
   "metadata": {
    "collapsed": true
   },
   "source": [
    "## Onehot encoding, nomalizing, feature selection"
   ]
  },
  {
   "cell_type": "markdown",
   "metadata": {},
   "source": [
    "#### string fields"
   ]
  },
  {
   "cell_type": "code",
   "execution_count": 26,
   "metadata": {},
   "outputs": [
    {
     "data": {
      "text/plain": [
       "array([  1,   3,   9,  11,  20,  21,  22,  23,  24,  25,  28,  29,  82,\n",
       "        85,  86,  90,  91,  92,  93,  94,  95,  96,  97, 100, 101, 102,\n",
       "       103, 104, 105, 106, 107])"
      ]
     },
     "execution_count": 26,
     "metadata": {},
     "output_type": "execute_result"
    }
   ],
   "source": [
    "string_col_index = feature_df.columns.get_indexer(feature_df.select_dtypes(include=['O']).columns)\n",
    "string_col_index"
   ]
  },
  {
   "cell_type": "code",
   "execution_count": 27,
   "metadata": {},
   "outputs": [
    {
     "data": {
      "text/plain": [
       "(44812, 849)"
      ]
     },
     "execution_count": 27,
     "metadata": {},
     "output_type": "execute_result"
    }
   ],
   "source": [
    "X.shape"
   ]
  },
  {
   "cell_type": "code",
   "execution_count": 28,
   "metadata": {},
   "outputs": [
    {
     "data": {
      "text/plain": [
       "OneHotEncoder(categorical_features=array([  1,   3,   9,  11,  20,  21,  22,  23,  24,  25,  28,  29,  82,\n",
       "        85,  86,  90,  91,  92,  93,  94,  95,  96,  97, 100, 101, 102,\n",
       "       103, 104, 105, 106, 107]),\n",
       "       dtype=<type 'numpy.float64'>, handle_unknown='error',\n",
       "       n_values='auto', sparse=True)"
      ]
     },
     "execution_count": 28,
     "metadata": {},
     "output_type": "execute_result"
    }
   ],
   "source": [
    "onehot = OneHotEncoder(categorical_features = string_col_index)\n",
    "onehot"
   ]
  },
  {
   "cell_type": "code",
   "execution_count": 29,
   "metadata": {
    "collapsed": true
   },
   "outputs": [],
   "source": [
    "XX=X.copy()"
   ]
  },
  {
   "cell_type": "code",
   "execution_count": 30,
   "metadata": {},
   "outputs": [
    {
     "data": {
      "text/html": [
       "<div>\n",
       "<style>\n",
       "    .dataframe thead tr:only-child th {\n",
       "        text-align: right;\n",
       "    }\n",
       "\n",
       "    .dataframe thead th {\n",
       "        text-align: left;\n",
       "    }\n",
       "\n",
       "    .dataframe tbody tr th {\n",
       "        vertical-align: top;\n",
       "    }\n",
       "</style>\n",
       "<table border=\"1\" class=\"dataframe\">\n",
       "  <thead>\n",
       "    <tr style=\"text-align: right;\">\n",
       "      <th></th>\n",
       "      <th>about.company</th>\n",
       "      <th>about.primary_language</th>\n",
       "      <th>resume.show</th>\n",
       "      <th>register_Month</th>\n",
       "      <th>city_3</th>\n",
       "      <th>country_code_3</th>\n",
       "      <th>country_flag_class_3</th>\n",
       "      <th>country_name_3</th>\n",
       "      <th>code_2</th>\n",
       "      <th>country_2</th>\n",
       "      <th>...</th>\n",
       "      <th>profile_complete</th>\n",
       "      <th>country_5</th>\n",
       "      <th>timezone_5</th>\n",
       "      <th>username_split_predict</th>\n",
       "      <th>last</th>\n",
       "      <th>last2</th>\n",
       "      <th>last3</th>\n",
       "      <th>first</th>\n",
       "      <th>first2</th>\n",
       "      <th>first3</th>\n",
       "    </tr>\n",
       "  </thead>\n",
       "  <tbody>\n",
       "    <tr>\n",
       "      <th>0</th>\n",
       "      <td>7694</td>\n",
       "      <td>10</td>\n",
       "      <td>1</td>\n",
       "      <td>4</td>\n",
       "      <td>4403</td>\n",
       "      <td>144</td>\n",
       "      <td>149</td>\n",
       "      <td>151</td>\n",
       "      <td>21</td>\n",
       "      <td>21</td>\n",
       "      <td>...</td>\n",
       "      <td>2</td>\n",
       "      <td>144</td>\n",
       "      <td>234</td>\n",
       "      <td>2</td>\n",
       "      <td>49</td>\n",
       "      <td>1379</td>\n",
       "      <td>5364</td>\n",
       "      <td>1</td>\n",
       "      <td>974</td>\n",
       "      <td>4167</td>\n",
       "    </tr>\n",
       "    <tr>\n",
       "      <th>1</th>\n",
       "      <td>25</td>\n",
       "      <td>0</td>\n",
       "      <td>0</td>\n",
       "      <td>0</td>\n",
       "      <td>9</td>\n",
       "      <td>0</td>\n",
       "      <td>0</td>\n",
       "      <td>0</td>\n",
       "      <td>0</td>\n",
       "      <td>0</td>\n",
       "      <td>...</td>\n",
       "      <td>0</td>\n",
       "      <td>0</td>\n",
       "      <td>0</td>\n",
       "      <td>1</td>\n",
       "      <td>55</td>\n",
       "      <td>1004</td>\n",
       "      <td>7441</td>\n",
       "      <td>0</td>\n",
       "      <td>43</td>\n",
       "      <td>220</td>\n",
       "    </tr>\n",
       "    <tr>\n",
       "      <th>2</th>\n",
       "      <td>16437</td>\n",
       "      <td>6</td>\n",
       "      <td>2</td>\n",
       "      <td>4</td>\n",
       "      <td>4308</td>\n",
       "      <td>162</td>\n",
       "      <td>162</td>\n",
       "      <td>164</td>\n",
       "      <td>21</td>\n",
       "      <td>21</td>\n",
       "      <td>...</td>\n",
       "      <td>2</td>\n",
       "      <td>166</td>\n",
       "      <td>60</td>\n",
       "      <td>1</td>\n",
       "      <td>49</td>\n",
       "      <td>788</td>\n",
       "      <td>6442</td>\n",
       "      <td>14</td>\n",
       "      <td>1405</td>\n",
       "      <td>8289</td>\n",
       "    </tr>\n",
       "  </tbody>\n",
       "</table>\n",
       "<p>3 rows × 31 columns</p>\n",
       "</div>"
      ],
      "text/plain": [
       "   about.company  about.primary_language  resume.show  register_Month  city_3  \\\n",
       "0           7694                      10            1               4    4403   \n",
       "1             25                       0            0               0       9   \n",
       "2          16437                       6            2               4    4308   \n",
       "\n",
       "   country_code_3  country_flag_class_3  country_name_3  code_2  country_2  \\\n",
       "0             144                   149             151      21         21   \n",
       "1               0                     0               0       0          0   \n",
       "2             162                   162             164      21         21   \n",
       "\n",
       "    ...    profile_complete  country_5  timezone_5  username_split_predict  \\\n",
       "0   ...                   2        144         234                       2   \n",
       "1   ...                   0          0           0                       1   \n",
       "2   ...                   2        166          60                       1   \n",
       "\n",
       "   last  last2  last3  first  first2  first3  \n",
       "0    49   1379   5364      1     974    4167  \n",
       "1    55   1004   7441      0      43     220  \n",
       "2    49    788   6442     14    1405    8289  \n",
       "\n",
       "[3 rows x 31 columns]"
      ]
     },
     "execution_count": 30,
     "metadata": {},
     "output_type": "execute_result"
    }
   ],
   "source": [
    "XX.iloc[:3, string_col_index]"
   ]
  },
  {
   "cell_type": "markdown",
   "metadata": {},
   "source": [
    "#### unique nums of each string fields"
   ]
  },
  {
   "cell_type": "code",
   "execution_count": 31,
   "metadata": {},
   "outputs": [
    {
     "data": {
      "text/plain": [
       "about.company                22447\n",
       "about.primary_language          24\n",
       "resume.show                      3\n",
       "register_Month                  13\n",
       "city_3                        8932\n",
       "country_code_3                 175\n",
       "country_flag_class_3           174\n",
       "country_name_3                 175\n",
       "code_2                          24\n",
       "country_2                       24\n",
       "name_2                          24\n",
       "sign_2                          15\n",
       "summary_completion_rate_4       91\n",
       "summary_on_budget_4             26\n",
       "summary_on_time_4               47\n",
       "deposit_made                     3\n",
       "email_verified                   3\n",
       "facebook_connected               3\n",
       "identity_verified                3\n",
       "payment_verified                 3\n",
       "phone_verified                   3\n",
       "profile_complete                 3\n",
       "country_5                      181\n",
       "timezone_5                     267\n",
       "username_split_predict           3\n",
       "last                            62\n",
       "last2                         1801\n",
       "last3                        10608\n",
       "first                           26\n",
       "first2                        1739\n",
       "first3                       10786\n",
       "dtype: int64"
      ]
     },
     "execution_count": 31,
     "metadata": {},
     "output_type": "execute_result"
    }
   ],
   "source": [
    "XX.iloc[:, string_col_index].apply(pd.Series.nunique)"
   ]
  },
  {
   "cell_type": "markdown",
   "metadata": {},
   "source": [
    "#### sum of additional columns could be added after onehot encoding"
   ]
  },
  {
   "cell_type": "code",
   "execution_count": 32,
   "metadata": {},
   "outputs": [
    {
     "data": {
      "text/plain": [
       "57688L"
      ]
     },
     "execution_count": 32,
     "metadata": {},
     "output_type": "execute_result"
    }
   ],
   "source": [
    "XX.iloc[:, string_col_index].apply(pd.Series.nunique).sum()"
   ]
  },
  {
   "cell_type": "markdown",
   "metadata": {},
   "source": [
    "### one hot encoding"
   ]
  },
  {
   "cell_type": "code",
   "execution_count": 33,
   "metadata": {},
   "outputs": [
    {
     "name": "stdout",
     "output_type": "stream",
     "text": [
      "CPU times: user 2.27 s, sys: 384 ms, total: 2.65 s\n",
      "Wall time: 2.65 s\n"
     ]
    }
   ],
   "source": [
    "%%time\n",
    "XX = onehot.fit_transform(XX)"
   ]
  },
  {
   "cell_type": "code",
   "execution_count": 34,
   "metadata": {},
   "outputs": [
    {
     "data": {
      "text/plain": [
       "<44812x58506 sparse matrix of type '<type 'numpy.float64'>'\n",
       "\twith 3120301 stored elements in COOrdinate format>"
      ]
     },
     "execution_count": 34,
     "metadata": {},
     "output_type": "execute_result"
    }
   ],
   "source": [
    "XX"
   ]
  },
  {
   "cell_type": "code",
   "execution_count": 35,
   "metadata": {
    "collapsed": true
   },
   "outputs": [],
   "source": [
    "# %%time\n",
    "# X=X.toarray()"
   ]
  },
  {
   "cell_type": "code",
   "execution_count": 36,
   "metadata": {},
   "outputs": [
    {
     "data": {
      "text/plain": [
       "(<44812x58506 sparse matrix of type '<type 'numpy.float64'>'\n",
       " \twith 3120301 stored elements in COOrdinate format>,\n",
       " pandas.core.frame.DataFrame)"
      ]
     },
     "execution_count": 36,
     "metadata": {},
     "output_type": "execute_result"
    }
   ],
   "source": [
    "XX, type(X)"
   ]
  },
  {
   "cell_type": "markdown",
   "metadata": {},
   "source": [
    "### nomalizing"
   ]
  },
  {
   "cell_type": "code",
   "execution_count": 37,
   "metadata": {},
   "outputs": [
    {
     "name": "stdout",
     "output_type": "stream",
     "text": [
      "(44812, 58506) <class 'scipy.sparse.csr.csr_matrix'>\n",
      "CPU times: user 905 ms, sys: 13 ms, total: 918 ms\n",
      "Wall time: 916 ms\n"
     ]
    }
   ],
   "source": [
    "%%time\n",
    "from sklearn.preprocessing import StandardScaler\n",
    "sc = StandardScaler(with_mean=False)\n",
    "XX=sc.fit_transform(XX)\n",
    "print XX.shape, type(XX)"
   ]
  },
  {
   "cell_type": "code",
   "execution_count": 38,
   "metadata": {},
   "outputs": [
    {
     "name": "stdout",
     "output_type": "stream",
     "text": [
      "(44812, 849) <type 'numpy.ndarray'>\n",
      "CPU times: user 3.13 s, sys: 472 ms, total: 3.61 s\n",
      "Wall time: 3.6 s\n"
     ]
    }
   ],
   "source": [
    "%%time\n",
    "from sklearn.preprocessing import StandardScaler\n",
    "sc = StandardScaler(with_mean=False)\n",
    "X=sc.fit_transform(X)\n",
    "print X.shape, type(X)"
   ]
  },
  {
   "cell_type": "code",
   "execution_count": 39,
   "metadata": {},
   "outputs": [
    {
     "name": "stdout",
     "output_type": "stream",
     "text": [
      "[ 0.82195448  0.82284694  0.82418563  0.8221776   0.82325374  0.82280741\n",
      "  0.82370007  0.82146842  0.821875    0.64040179]\n",
      "CPU times: user 38min 50s, sys: 2.22 s, total: 38min 52s\n",
      "Wall time: 1min 49s\n"
     ]
    }
   ],
   "source": [
    "%%time\n",
    "print cross_val_score(RandomForestClassifier(n_estimators=160, min_samples_split=3, n_jobs=24), XX, y, cv=10)"
   ]
  },
  {
   "cell_type": "code",
   "execution_count": 40,
   "metadata": {},
   "outputs": [
    {
     "data": {
      "text/plain": [
       "[(31368, 58506), (13444, 58506), (31368,), (13444,)]"
      ]
     },
     "execution_count": 40,
     "metadata": {},
     "output_type": "execute_result"
    }
   ],
   "source": [
    "from sklearn.model_selection import train_test_split\n",
    "X_train, X_test, y_train, y_test = train_test_split(XX, y, test_size=0.3,\n",
    "                                                   random_state=7)\n",
    "dim(X_train, X_test, y_train, y_test)"
   ]
  },
  {
   "cell_type": "code",
   "execution_count": 41,
   "metadata": {},
   "outputs": [
    {
     "name": "stdout",
     "output_type": "stream",
     "text": [
      "0.821630467123\n",
      "Confusion matrix, without normalization\n",
      "[[   76  2374]\n",
      " [   24 10970]]\n"
     ]
    },
    {
     "data": {
      "image/png": "[encoded data removed]",
      "text/plain": [
       "<matplotlib.figure.Figure at 0x2b7c982a4b10>"
      ]
     },
     "metadata": {},
     "output_type": "display_data"
    },
    {
     "name": "stdout",
     "output_type": "stream",
     "text": [
      "CPU times: user 36 s, sys: 152 ms, total: 36.1 s\n",
      "Wall time: 2.93 s\n"
     ]
    }
   ],
   "source": [
    "%%time\n",
    "model_b1 = impliment(RandomForestClassifier(n_estimators=30, min_samples_split=2, n_jobs=24))"
   ]
  },
  {
   "cell_type": "code",
   "execution_count": 42,
   "metadata": {},
   "outputs": [
    {
     "name": "stdout",
     "output_type": "stream",
     "text": [
      "0.827878607557\n",
      "Confusion matrix, without normalization\n",
      "[[  323  2127]\n",
      " [  187 10807]]\n"
     ]
    },
    {
     "data": {
      "image/png": "[encoded data removed]",
      "text/plain": [
       "<matplotlib.figure.Figure at 0x2b7cf3818210>"
      ]
     },
     "metadata": {},
     "output_type": "display_data"
    },
    {
     "name": "stdout",
     "output_type": "stream",
     "text": [
      "CPU times: user 6min 24s, sys: 612 ms, total: 6min 24s\n",
      "Wall time: 19.4 s\n"
     ]
    }
   ],
   "source": [
    "%%time\n",
    "model_b2 = impliment(XGBClassifier(nthread=-1, max_depth=64,\n",
    "                        min_child_weight=0.9, colsample_bytree=0.9,\n",
    "                       scale_pos_weight= 0.9, reg_alpha=0.6))"
   ]
  },
  {
   "cell_type": "markdown",
   "metadata": {},
   "source": [
    "### feature selection"
   ]
  },
  {
   "cell_type": "markdown",
   "metadata": {},
   "source": [
    "#### stacking using only label encoded data "
   ]
  },
  {
   "cell_type": "code",
   "execution_count": 43,
   "metadata": {},
   "outputs": [
    {
     "data": {
      "text/plain": [
       "[(31368, 849), (13444, 849), (31368,), (13444,)]"
      ]
     },
     "execution_count": 43,
     "metadata": {},
     "output_type": "execute_result"
    }
   ],
   "source": [
    "X_train, X_test, y_train, y_test = train_test_split(X, y, test_size=0.3,\n",
    "                                                   random_state=7)\n",
    "dim(X_train, X_test, y_train, y_test)"
   ]
  },
  {
   "cell_type": "code",
   "execution_count": 44,
   "metadata": {
    "collapsed": true
   },
   "outputs": [],
   "source": [
    "from mlxtend.classifier import StackingClassifier, StackingCVClassifier\n",
    "from mlxtend.feature_selection import ColumnSelector\n",
    "from sklearn.pipeline import make_pipeline\n",
    "from sklearn.ensemble import AdaBoostClassifier, BaggingClassifier,\\\n",
    "ExtraTreesClassifier, GradientBoostingClassifier\n",
    "from sklearn.linear_model import LogisticRegression\n",
    "from sklearn import model_selection"
   ]
  },
  {
   "cell_type": "code",
   "execution_count": 45,
   "metadata": {},
   "outputs": [
    {
     "name": "stdout",
     "output_type": "stream",
     "text": [
      "CPU times: user 28min 28s, sys: 1.15 s, total: 28min 30s\n",
      "Wall time: 1min 41s\n"
     ]
    }
   ],
   "source": [
    "%%time\n",
    "m1 = AdaBoostClassifier().fit(X_train, y_train)\n",
    "index1= pd.Series(m1.feature_importances_).sort_values(ascending=False)[:X_train.shape[1]/10*9].index\n",
    "\n",
    "m2 = RandomForestClassifier(random_state=1, n_estimators=80, min_samples_split=2, n_jobs=-1).fit(X_train, y_train)\n",
    "index2= pd.Series(m2.feature_importances_).sort_values(ascending=False)[:X_train.shape[1]/10*9].index\n",
    "\n",
    "m3 = XGBClassifier(nthread=-1, max_depth=128, min_child_weight=0.9, colsample_bytree=0.9,\n",
    "                       scale_pos_weight= 0.9, reg_alpha=0.6).fit(X_train, y_train)\n",
    "index3= pd.Series(m3.feature_importances_).sort_values(ascending=False)[:X_train.shape[1]/10*9].index"
   ]
  },
  {
   "cell_type": "markdown",
   "metadata": {},
   "source": [
    "### stacking"
   ]
  },
  {
   "cell_type": "code",
   "execution_count": null,
   "metadata": {
    "collapsed": true
   },
   "outputs": [],
   "source": [
    "%%time\n",
    "\n",
    "RANDOM_SEED = 7\n",
    "np.random.seed(RANDOM_SEED)\n",
    "\n",
    "clf1 = AdaBoostClassifier()\n",
    "clf2 = RandomForestClassifier(random_state=1, n_estimators=80, min_samples_split=2, n_jobs=-1)\n",
    "clf3 = XGBClassifier(nthread=-1, max_depth=128,\n",
    "                        min_child_weight=0.9, colsample_bytree=0.9,\n",
    "                       scale_pos_weight= 0.9, reg_alpha=0.6)\n",
    "clf4 = BaggingClassifier(n_jobs=-1, n_estimators=50)\n",
    "clf5 = ExtraTreesClassifier(n_jobs=-1, bootstrap=True, n_estimators=100)\n",
    "lr = LogisticRegression(solver='lbfgs', n_jobs=-1)\n",
    "\n",
    "pipe1 = make_pipeline(ColumnSelector(cols=index1), clf1)\n",
    "pipe2 = make_pipeline(ColumnSelector(cols=index2), clf2)\n",
    "pipe3 = make_pipeline(ColumnSelector(cols=index3), clf3)\n",
    "\n",
    "sclf = StackingCVClassifier(classifiers=[ pipe1, pipe2, pipe3, clf4, clf5], \n",
    "                          meta_classifier=lr,\n",
    "                          use_probas=True )\n",
    "\n",
    "\n",
    "\n",
    "print('5-fold cross validation:\\n')\n",
    "\n",
    "if __name__ == '__main__':\n",
    "    \n",
    "    stack3 = []\n",
    "    for clf, label in zip([ pipe1, pipe2, pipe3, clf4, clf5,  sclf], \n",
    "                          [ 'AdaBoost', \n",
    "                           'Random Forest',\n",
    "                           'Xgboost',\n",
    "                           'Bagging',\n",
    "                           'ExtraTrees',\n",
    "                           'Stacking']):\n",
    "\n",
    "        scores = model_selection.cross_val_score(clf, X.values, y, \n",
    "#                                                  n_jobs=-1,\n",
    "                                                  cv=5, scoring='accuracy')\n",
    "        stack3.append([label, scores, scores.mean(), scores.std()])\n",
    "        print(\"Accuracy: %0.4f (+/- %0.4f) [%s]\" \n",
    "              % (scores.mean(), scores.std(), label))"
   ]
  },
  {
   "cell_type": "code",
   "execution_count": 47,
   "metadata": {
    "collapsed": true
   },
   "outputs": [],
   "source": [
    "# stack3"
   ]
  },
  {
   "cell_type": "code",
   "execution_count": 49,
   "metadata": {},
   "outputs": [
    {
     "name": "stdout",
     "output_type": "stream",
     "text": [
      "CPU times: user 30min 55s, sys: 6.22 s, total: 31min 1s\n",
      "Wall time: 2min 54s\n"
     ]
    }
   ],
   "source": [
    "%%time\n",
    "\n",
    "RANDOM_SEED = 7\n",
    "np.random.seed(RANDOM_SEED)\n",
    "\n",
    "clf1 = AdaBoostClassifier()\n",
    "clf2 = RandomForestClassifier(random_state=1, n_estimators=120, min_samples_split=2, n_jobs=-1)\n",
    "clf3 = XGBClassifier(nthread=-1, max_depth=96,\n",
    "                        min_child_weight=0.9, colsample_bytree=0.9,\n",
    "                       scale_pos_weight= 0.9, reg_alpha=0.6)\n",
    "clf4 = BaggingClassifier(n_jobs=-1, n_estimators=50)\n",
    "clf5 = ExtraTreesClassifier(n_jobs=-1, bootstrap=True, n_estimators=100)\n",
    "lr = LogisticRegression(solver='lbfgs', n_jobs=-1)\n",
    "\n",
    "pipe1 = make_pipeline(ColumnSelector(cols=index1),\n",
    "                      clf1)\n",
    "pipe2 = make_pipeline(ColumnSelector(cols=index2),\n",
    "                      clf2)\n",
    "pipe3 = make_pipeline(ColumnSelector(cols=index3),\n",
    "                      clf3)\n",
    "\n",
    "\n",
    "sclf = StackingCVClassifier(classifiers=[pipe1, pipe2, pipe3, clf4, clf5], \n",
    "                          meta_classifier=lr,\n",
    "                          use_probas=True )\n",
    "\n",
    "if __name__ == '__main__':\n",
    "    sclf.fit(X_train, y_train)"
   ]
  },
  {
   "cell_type": "code",
   "execution_count": 50,
   "metadata": {},
   "outputs": [
    {
     "name": "stdout",
     "output_type": "stream",
     "text": [
      "[1 1 1 ..., 1 1 1]\n",
      "CPU times: user 6.36 s, sys: 901 ms, total: 7.26 s\n",
      "Wall time: 6.15 s\n"
     ]
    }
   ],
   "source": [
    "%%time\n",
    "pred = sclf.predict(X_test)\n",
    "print pred"
   ]
  },
  {
   "cell_type": "code",
   "execution_count": 51,
   "metadata": {},
   "outputs": [
    {
     "data": {
      "text/plain": [
       "0.83085391252603391"
      ]
     },
     "execution_count": 51,
     "metadata": {},
     "output_type": "execute_result"
    }
   ],
   "source": [
    "accuracy_score(y_test, pred)"
   ]
  },
  {
   "cell_type": "code",
   "execution_count": 52,
   "metadata": {},
   "outputs": [
    {
     "name": "stdout",
     "output_type": "stream",
     "text": [
      "Confusion matrix, without normalization\n",
      "[[  290  2160]\n",
      " [  114 10880]]\n"
     ]
    },
    {
     "data": {
      "image/png": "[encoded data removed]",
      "text/plain": [
       "<matplotlib.figure.Figure at 0x2b7cf382ed10>"
      ]
     },
     "metadata": {},
     "output_type": "display_data"
    }
   ],
   "source": [
    "plot_confusion_matrix(confusion_matrix(y_test, pred), classes=['female','male'])"
   ]
  },
  {
   "cell_type": "code",
   "execution_count": 53,
   "metadata": {},
   "outputs": [
    {
     "name": "stdout",
     "output_type": "stream",
     "text": [
      "[[ 0.19262317  0.80737683]\n",
      " [ 0.40222425  0.59777575]\n",
      " [ 0.15507998  0.84492002]\n",
      " ..., \n",
      " [ 0.10709083  0.89290917]\n",
      " [ 0.17743159  0.82256841]\n",
      " [ 0.14111988  0.85888012]]\n",
      "CPU times: user 6.81 s, sys: 1.38 s, total: 8.19 s\n",
      "Wall time: 6.53 s\n"
     ]
    }
   ],
   "source": [
    "%%time\n",
    "pred_prob = sclf.predict_proba(X_test)\n",
    "print pred_prob"
   ]
  },
  {
   "cell_type": "code",
   "execution_count": null,
   "metadata": {
    "collapsed": true
   },
   "outputs": [],
   "source": []
  },
  {
   "cell_type": "markdown",
   "metadata": {
    "collapsed": true
   },
   "source": [
    "### maybe balancing trainning data can be of help, yet not guaranteed"
   ]
  },
  {
   "cell_type": "markdown",
   "metadata": {},
   "source": [
    "http://contrib.scikit-learn.org/imbalanced-learn/stable/over_sampling.html"
   ]
  },
  {
   "cell_type": "code",
   "execution_count": 56,
   "metadata": {},
   "outputs": [
    {
     "data": {
      "text/plain": [
       "(sklearn.base.BaseEstimator,\n",
       " sklearn.base.ClassifierMixin,\n",
       " sklearn.base.TransformerMixin)"
      ]
     },
     "execution_count": 56,
     "metadata": {},
     "output_type": "execute_result"
    }
   ],
   "source": [
    "StackingClassifier.__bases__"
   ]
  },
  {
   "cell_type": "code",
   "execution_count": 68,
   "metadata": {},
   "outputs": [
    {
     "data": {
      "text/plain": [
       "<unbound method StackingClassifier.fit>"
      ]
     },
     "execution_count": 68,
     "metadata": {},
     "output_type": "execute_result"
    }
   ],
   "source": [
    "getattr(StackingClassifier, 'fit', 'Fuck')"
   ]
  },
  {
   "cell_type": "code",
   "execution_count": 69,
   "metadata": {},
   "outputs": [
    {
     "data": {
      "text/plain": [
       "'Fuck'"
      ]
     },
     "execution_count": 69,
     "metadata": {},
     "output_type": "execute_result"
    }
   ],
   "source": [
    "getattr(StackingClassifier, 'what', 'Fuck')"
   ]
  },
  {
   "cell_type": "code",
   "execution_count": 70,
   "metadata": {
    "collapsed": true
   },
   "outputs": [],
   "source": [
    "setattr?"
   ]
  },
  {
   "cell_type": "markdown",
   "metadata": {},
   "source": [
    "https://www.python-course.eu/sys_module.php"
   ]
  },
  {
   "cell_type": "markdown",
   "metadata": {},
   "source": [
    "### oversample"
   ]
  },
  {
   "cell_type": "code",
   "execution_count": 18,
   "metadata": {},
   "outputs": [
    {
     "data": {
      "text/plain": [
       "[(31368, 849), (13444, 849), (31368,), (13444,)]"
      ]
     },
     "execution_count": 18,
     "metadata": {},
     "output_type": "execute_result"
    }
   ],
   "source": [
    "X_train, X_test, y_train, y_test = train_test_split(X, y, test_size=0.3,\n",
    "                                                   random_state=7)\n",
    "dim(X_train, X_test, y_train, y_test)"
   ]
  },
  {
   "cell_type": "code",
   "execution_count": 19,
   "metadata": {
    "collapsed": true
   },
   "outputs": [],
   "source": [
    "from imblearn.over_sampling import RandomOverSampler"
   ]
  },
  {
   "cell_type": "code",
   "execution_count": 20,
   "metadata": {
    "collapsed": true
   },
   "outputs": [],
   "source": [
    "ros = RandomOverSampler(random_state=0)"
   ]
  },
  {
   "cell_type": "code",
   "execution_count": 21,
   "metadata": {},
   "outputs": [
    {
     "name": "stdout",
     "output_type": "stream",
     "text": [
      "CPU times: user 100 ms, sys: 62 ms, total: 162 ms\n",
      "Wall time: 161 ms\n"
     ]
    }
   ],
   "source": [
    "%%time\n",
    "X_train, y_train = ros.fit_sample(X_train, y_train)"
   ]
  },
  {
   "cell_type": "code",
   "execution_count": 22,
   "metadata": {},
   "outputs": [
    {
     "data": {
      "text/plain": [
       "1    25800\n",
       "0    25800\n",
       "dtype: int64"
      ]
     },
     "execution_count": 22,
     "metadata": {},
     "output_type": "execute_result"
    }
   ],
   "source": [
    "pd.Series(y_train).value_counts()"
   ]
  },
  {
   "cell_type": "code",
   "execution_count": 26,
   "metadata": {},
   "outputs": [
    {
     "data": {
      "text/plain": [
       "(13444, 849)"
      ]
     },
     "execution_count": 26,
     "metadata": {},
     "output_type": "execute_result"
    }
   ],
   "source": [
    "X_test.shape"
   ]
  },
  {
   "cell_type": "code",
   "execution_count": 27,
   "metadata": {},
   "outputs": [
    {
     "name": "stdout",
     "output_type": "stream",
     "text": [
      "0.822448675989\n",
      "Confusion matrix, without normalization\n",
      "[[  442  2008]\n",
      " [  379 10615]]\n"
     ]
    },
    {
     "data": {
      "image/png": "[encoded data removed]",
      "text/plain": [
       "<matplotlib.figure.Figure at 0x2b75f28642d0>"
      ]
     },
     "metadata": {},
     "output_type": "display_data"
    },
    {
     "name": "stdout",
     "output_type": "stream",
     "text": [
      "CPU times: user 48min 19s, sys: 3.54 s, total: 48min 23s\n",
      "Wall time: 2min 7s\n"
     ]
    }
   ],
   "source": [
    "%%time\n",
    "model2 = impliment(XGBClassifier(nthread=-1, max_depth=512,\n",
    "                        min_child_weight=0.9, colsample_bytree=0.9,\n",
    "                       scale_pos_weight= 0.9, reg_alpha=0.6))"
   ]
  },
  {
   "cell_type": "code",
   "execution_count": 29,
   "metadata": {},
   "outputs": [
    {
     "name": "stdout",
     "output_type": "stream",
     "text": [
      "0.823266884856\n",
      "Confusion matrix, without normalization\n",
      "[[  257  2193]\n",
      " [  183 10811]]\n"
     ]
    },
    {
     "data": {
      "image/png": "[encoded data removed]",
      "text/plain": [
       "<matplotlib.figure.Figure at 0x2b75f40b02d0>"
      ]
     },
     "metadata": {},
     "output_type": "display_data"
    },
    {
     "name": "stdout",
     "output_type": "stream",
     "text": [
      "CPU times: user 23.1 s, sys: 241 ms, total: 23.3 s\n",
      "Wall time: 1.57 s\n"
     ]
    }
   ],
   "source": [
    "%%time                                                                                                                                                                              \n",
    "model2 = impliment(RandomForestClassifier(n_estimators=64, min_samples_split=2, n_jobs=24))"
   ]
  },
  {
   "cell_type": "code",
   "execution_count": null,
   "metadata": {
    "collapsed": true
   },
   "outputs": [],
   "source": []
  }
 ],
 "metadata": {
  "kernelspec": {
   "display_name": "Python 2",
   "language": "python",
   "name": "python2"
  },
  "language_info": {
   "codemirror_mode": {
    "name": "ipython",
    "version": 2
   },
   "file_extension": ".py",
   "mimetype": "text/x-python",
   "name": "python",
   "nbconvert_exporter": "python",
   "pygments_lexer": "ipython2",
   "version": "2.7.13"
  }
 },
 "nbformat": 4,
 "nbformat_minor": 2
}
