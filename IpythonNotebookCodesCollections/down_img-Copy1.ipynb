{
 "cells": [
  {
   "cell_type": "code",
   "execution_count": 1,
   "metadata": {
    "collapsed": true
   },
   "outputs": [],
   "source": [
    "import concurrent.futures\n",
    "import requests\n",
    "\n",
    "from time import time, ctime\n",
    "import pandas as pd"
   ]
  },
  {
   "cell_type": "code",
   "execution_count": 2,
   "metadata": {},
   "outputs": [
    {
     "data": {
      "text/plain": [
       "(10000, 2)"
      ]
     },
     "execution_count": 2,
     "metadata": {},
     "output_type": "execute_result"
    }
   ],
   "source": [
    "df=pd.read_csv('img_urls.csv')\n",
    "df.shape"
   ]
  },
  {
   "cell_type": "code",
   "execution_count": 4,
   "metadata": {
    "collapsed": true
   },
   "outputs": [],
   "source": [
    "requests.request?"
   ]
  },
  {
   "cell_type": "code",
   "execution_count": 3,
   "metadata": {},
   "outputs": [
    {
     "data": {
      "text/html": [
       "<div>\n",
       "<style>\n",
       "    .dataframe thead tr:only-child th {\n",
       "        text-align: right;\n",
       "    }\n",
       "\n",
       "    .dataframe thead th {\n",
       "        text-align: left;\n",
       "    }\n",
       "\n",
       "    .dataframe tbody tr th {\n",
       "        vertical-align: top;\n",
       "    }\n",
       "</style>\n",
       "<table border=\"1\" class=\"dataframe\">\n",
       "  <thead>\n",
       "    <tr style=\"text-align: right;\">\n",
       "      <th></th>\n",
       "      <th>ID</th>\n",
       "      <th>URL</th>\n",
       "    </tr>\n",
       "  </thead>\n",
       "  <tbody>\n",
       "    <tr>\n",
       "      <th>0</th>\n",
       "      <td>607847</td>\n",
       "      <td>http://img2.soyoung.com/tieba/ios/20160316/4/2...</td>\n",
       "    </tr>\n",
       "    <tr>\n",
       "      <th>1</th>\n",
       "      <td>607847</td>\n",
       "      <td>http://img2.soyoung.com/tieba/ios/20160316/8/2...</td>\n",
       "    </tr>\n",
       "    <tr>\n",
       "      <th>2</th>\n",
       "      <td>607849</td>\n",
       "      <td>http://img2.soyoung.com/tieba/ios/20160310/0/2...</td>\n",
       "    </tr>\n",
       "    <tr>\n",
       "      <th>3</th>\n",
       "      <td>607849</td>\n",
       "      <td>http://img2.soyoung.com/tieba/ios/20160310/2/2...</td>\n",
       "    </tr>\n",
       "    <tr>\n",
       "      <th>4</th>\n",
       "      <td>607850</td>\n",
       "      <td>http://img2.soyoung.com/tieba/ios/20160309/1/2...</td>\n",
       "    </tr>\n",
       "  </tbody>\n",
       "</table>\n",
       "</div>"
      ],
      "text/plain": [
       "       ID                                                URL\n",
       "0  607847  http://img2.soyoung.com/tieba/ios/20160316/4/2...\n",
       "1  607847  http://img2.soyoung.com/tieba/ios/20160316/8/2...\n",
       "2  607849  http://img2.soyoung.com/tieba/ios/20160310/0/2...\n",
       "3  607849  http://img2.soyoung.com/tieba/ios/20160310/2/2...\n",
       "4  607850  http://img2.soyoung.com/tieba/ios/20160309/1/2..."
      ]
     },
     "execution_count": 3,
     "metadata": {},
     "output_type": "execute_result"
    }
   ],
   "source": [
    "df.head()"
   ]
  },
  {
   "cell_type": "code",
   "execution_count": 5,
   "metadata": {
    "collapsed": true
   },
   "outputs": [],
   "source": [
    "a=df.iloc[:10,:]"
   ]
  },
  {
   "cell_type": "code",
   "execution_count": 14,
   "metadata": {},
   "outputs": [],
   "source": [
    "urls=[]\n",
    "for i in a.itertuples():\n",
    "    urls.append(str(i[1])+'__'+str(i[2]))\n",
    "    "
   ]
  },
  {
   "cell_type": "code",
   "execution_count": 15,
   "metadata": {},
   "outputs": [
    {
     "data": {
      "text/plain": [
       "['607847__http://img2.soyoung.com/tieba/ios/20160316/4/20160316232922652_570.jpg',\n",
       " '607847__http://img2.soyoung.com/tieba/ios/20160316/8/20160316232924219_570.jpg',\n",
       " '607849__http://img2.soyoung.com/tieba/ios/20160310/0/20160310153903246_570.jpg',\n",
       " '607849__http://img2.soyoung.com/tieba/ios/20160310/2/20160310153903414_570.jpg',\n",
       " '607850__http://img2.soyoung.com/tieba/ios/20160309/1/20160309095310887_570.jpg',\n",
       " '607850__http://img2.soyoung.com/tieba/ios/20160309/7/20160309095310467_570.jpg',\n",
       " '607848__http://img2.soyoung.com/tieba/ios/20160314/6/20160314102854469_570.jpg',\n",
       " '607846__http://img2.soyoung.com/tieba/ios/20160429/3/20160429155505802_570.jpg',\n",
       " '607843__http://img2.soyoung.com/tieba/ios/20170502/9/20170502234455472_570.jpg',\n",
       " '607843__http://img2.soyoung.com/tieba/ios/20170502/7/20170502234455783_570.jpg']"
      ]
     },
     "execution_count": 15,
     "metadata": {},
     "output_type": "execute_result"
    }
   ],
   "source": [
    "urls"
   ]
  },
  {
   "cell_type": "code",
   "execution_count": null,
   "metadata": {
    "collapsed": true
   },
   "outputs": [],
   "source": [
    "fail=[]"
   ]
  },
  {
   "cell_type": "code",
   "execution_count": null,
   "metadata": {
    "collapsed": true
   },
   "outputs": [],
   "source": []
  },
  {
   "cell_type": "code",
   "execution_count": null,
   "metadata": {
    "collapsed": true
   },
   "outputs": [],
   "source": [
    "def download_image(self, img_url):\n",
    "\n",
    "        try:\n",
    "            img_request = requests.request(\n",
    "                'get', img_url, stream=True)\n",
    "            if img_request.status_code != 200:\n",
    "                fail.append(img_url)\n",
    "                print 'X'\n",
    "        except:\n",
    "            fail.append(img_url)\n",
    "            print 'X'\n",
    "\n",
    "        try:\n",
    "            img_content = img_request.content\n",
    "            with open(os.path.join(self.download_path,  img_url.split('/')[-1]), 'wb') as f:\n",
    "                byte_image = bytes(img_content)\n",
    "                f.write(byte_image)\n",
    "        except:\n",
    "            fail.append(img_url)\n",
    "            print 'X'\n",
    "\n"
   ]
  }
 ],
 "metadata": {
  "kernelspec": {
   "display_name": "Python 2",
   "language": "python",
   "name": "python2"
  },
  "language_info": {
   "codemirror_mode": {
    "name": "ipython",
    "version": 2
   },
   "file_extension": ".py",
   "mimetype": "text/x-python",
   "name": "python",
   "nbconvert_exporter": "python",
   "pygments_lexer": "ipython2",
   "version": "2.7.13"
  }
 },
 "nbformat": 4,
 "nbformat_minor": 2
}
