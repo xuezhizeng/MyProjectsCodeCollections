{
 "cells": [
  {
   "cell_type": "markdown",
   "metadata": {},
   "source": [
    "## Artificial neural network \n",
    "### where can I get the data?\n",
    "https://www.superdatascience.com/deep-learning/"
   ]
  },
  {
   "cell_type": "code",
   "execution_count": 1,
   "metadata": {},
   "outputs": [
    {
     "name": "stderr",
     "output_type": "stream",
     "text": [
      "/home/shj16110/anaconda2/envs/3.6.1/lib/python3.6/site-packages/h5py/__init__.py:36: FutureWarning: Conversion of the second argument of issubdtype from `float` to `np.floating` is deprecated. In future, it will be treated as `np.float64 == np.dtype(float).type`.\n",
      "  from ._conv import register_converters as _register_converters\n",
      "Using TensorFlow backend.\n"
     ]
    }
   ],
   "source": [
    "import os\n",
    "os.environ[\"CUDA_DEVICE_ORDER\"] = \"PCI_BUS_ID\"   # see issue #152\n",
    "os.environ[\"CUDA_VISIBLE_DEVICES\"] = \"0\"\n",
    "\n",
    "\n",
    "import pandas as pd\n",
    "import tensorflow as tf\n",
    "# import theano\n",
    "import keras \n",
    "\n",
    "import numpy as np\n",
    "import matplotlib.pyplot as plt\n",
    "from time import time"
   ]
  },
  {
   "cell_type": "code",
   "execution_count": 2,
   "metadata": {
    "collapsed": true
   },
   "outputs": [],
   "source": [
    "# import tensorflow as tf\n",
    "# sess = tf.Session(config=tf.ConfigProto(log_device_placement=True))"
   ]
  },
  {
   "cell_type": "code",
   "execution_count": 3,
   "metadata": {},
   "outputs": [
    {
     "name": "stdout",
     "output_type": "stream",
     "text": [
      "[name: \"/cpu:0\"\n",
      "device_type: \"CPU\"\n",
      "memory_limit: 268435456\n",
      "locality {\n",
      "}\n",
      "incarnation: 378819940559892056\n",
      ", name: \"/gpu:0\"\n",
      "device_type: \"GPU\"\n",
      "memory_limit: 11323952333\n",
      "locality {\n",
      "  bus_id: 1\n",
      "}\n",
      "incarnation: 4289320405906153976\n",
      "physical_device_desc: \"device: 0, name: Tesla K40m, pci bus id: 0000:03:00.0\"\n",
      "]\n"
     ]
    }
   ],
   "source": [
    "from tensorflow.python.client import device_lib\n",
    "print(device_lib.list_local_devices())"
   ]
  },
  {
   "cell_type": "code",
   "execution_count": 4,
   "metadata": {
    "collapsed": true
   },
   "outputs": [],
   "source": [
    "# import tensorflow as tf\n",
    "# with tf.device('/gpu:0'):\n",
    "#     a = tf.constant([1.0, 2.0, 3.0, 4.0, 5.0, 6.0], shape=[2, 3], name='a')\n",
    "#     b = tf.constant([1.0, 2.0, 3.0, 4.0, 5.0, 6.0], shape=[3, 2], name='b')\n",
    "#     c = tf.matmul(a, b)\n",
    "\n",
    "# with tf.Session() as sess:\n",
    "#     print (sess.run(c))"
   ]
  },
  {
   "cell_type": "code",
   "execution_count": 5,
   "metadata": {},
   "outputs": [
    {
     "name": "stdout",
     "output_type": "stream",
     "text": [
      "Tue Feb 20 17:07:39 2018       \r\n",
      "+-----------------------------------------------------------------------------+\r\n",
      "| NVIDIA-SMI 375.26                 Driver Version: 375.26                    |\r\n",
      "|-------------------------------+----------------------+----------------------+\r\n",
      "| GPU  Name        Persistence-M| Bus-Id        Disp.A | Volatile Uncorr. ECC |\r\n",
      "| Fan  Temp  Perf  Pwr:Usage/Cap|         Memory-Usage | GPU-Util  Compute M. |\r\n",
      "|===============================+======================+======================|\r\n",
      "|   0  Tesla K40m          Off  | 0000:03:00.0     Off |                    0 |\r\n",
      "| N/A   29C    P0    62W / 235W |  10873MiB / 11439MiB |      0%      Default |\r\n",
      "+-------------------------------+----------------------+----------------------+\r\n",
      "|   1  Tesla K40m          Off  | 0000:82:00.0     Off |                    0 |\r\n",
      "| N/A   27C    P0    64W / 235W |      0MiB / 11439MiB |     99%      Default |\r\n",
      "+-------------------------------+----------------------+----------------------+\r\n",
      "                                                                               \r\n",
      "+-----------------------------------------------------------------------------+\r\n",
      "| Processes:                                                       GPU Memory |\r\n",
      "|  GPU       PID  Type  Process name                               Usage      |\r\n",
      "|=============================================================================|\r\n",
      "|    0      8979    C   .../shj16110/anaconda2/envs/3.6.1/bin/python 10869MiB |\r\n",
      "+-----------------------------------------------------------------------------+\r\n"
     ]
    }
   ],
   "source": [
    "!nvidia-smi"
   ]
  },
  {
   "cell_type": "code",
   "execution_count": 6,
   "metadata": {
    "collapsed": true
   },
   "outputs": [],
   "source": [
    "def show(id, w=6):\n",
    "    from IPython.display import Image\n",
    "    return Image('./pics/class1/{}.jpg'.format(id), width=w*100)"
   ]
  },
  {
   "cell_type": "code",
   "execution_count": 7,
   "metadata": {},
   "outputs": [
    {
     "name": "stdout",
     "output_type": "stream",
     "text": [
      "ann_homework_solution.py  classification_template.py\r\n",
      "ann.py\t\t\t  evaluating_improving_tuning.py\r\n",
      "categorical_data.py\t  Installations_Instructions.pdf\r\n"
     ]
    }
   ],
   "source": [
    "!ls Artificial_Neural_Networks/"
   ]
  },
  {
   "cell_type": "code",
   "execution_count": 8,
   "metadata": {},
   "outputs": [
    {
     "data": {
      "text/plain": [
       "(10000, 14)"
      ]
     },
     "execution_count": 8,
     "metadata": {},
     "output_type": "execute_result"
    }
   ],
   "source": [
    "df = pd.read_csv('Churn_Modelling.csv')\n",
    "df.shape"
   ]
  },
  {
   "cell_type": "code",
   "execution_count": 9,
   "metadata": {},
   "outputs": [
    {
     "data": {
      "text/html": [
       "<div>\n",
       "<table border=\"1\" class=\"dataframe\">\n",
       "  <thead>\n",
       "    <tr style=\"text-align: right;\">\n",
       "      <th></th>\n",
       "      <th>RowNumber</th>\n",
       "      <th>CustomerId</th>\n",
       "      <th>Surname</th>\n",
       "      <th>CreditScore</th>\n",
       "      <th>Geography</th>\n",
       "      <th>Gender</th>\n",
       "      <th>Age</th>\n",
       "      <th>Tenure</th>\n",
       "      <th>Balance</th>\n",
       "      <th>NumOfProducts</th>\n",
       "      <th>HasCrCard</th>\n",
       "      <th>IsActiveMember</th>\n",
       "      <th>EstimatedSalary</th>\n",
       "      <th>Exited</th>\n",
       "    </tr>\n",
       "  </thead>\n",
       "  <tbody>\n",
       "    <tr>\n",
       "      <th>0</th>\n",
       "      <td>1</td>\n",
       "      <td>15634602</td>\n",
       "      <td>Hargrave</td>\n",
       "      <td>619</td>\n",
       "      <td>France</td>\n",
       "      <td>Female</td>\n",
       "      <td>42</td>\n",
       "      <td>2</td>\n",
       "      <td>0.00</td>\n",
       "      <td>1</td>\n",
       "      <td>1</td>\n",
       "      <td>1</td>\n",
       "      <td>101348.88</td>\n",
       "      <td>1</td>\n",
       "    </tr>\n",
       "    <tr>\n",
       "      <th>1</th>\n",
       "      <td>2</td>\n",
       "      <td>15647311</td>\n",
       "      <td>Hill</td>\n",
       "      <td>608</td>\n",
       "      <td>Spain</td>\n",
       "      <td>Female</td>\n",
       "      <td>41</td>\n",
       "      <td>1</td>\n",
       "      <td>83807.86</td>\n",
       "      <td>1</td>\n",
       "      <td>0</td>\n",
       "      <td>1</td>\n",
       "      <td>112542.58</td>\n",
       "      <td>0</td>\n",
       "    </tr>\n",
       "    <tr>\n",
       "      <th>2</th>\n",
       "      <td>3</td>\n",
       "      <td>15619304</td>\n",
       "      <td>Onio</td>\n",
       "      <td>502</td>\n",
       "      <td>France</td>\n",
       "      <td>Female</td>\n",
       "      <td>42</td>\n",
       "      <td>8</td>\n",
       "      <td>159660.80</td>\n",
       "      <td>3</td>\n",
       "      <td>1</td>\n",
       "      <td>0</td>\n",
       "      <td>113931.57</td>\n",
       "      <td>1</td>\n",
       "    </tr>\n",
       "  </tbody>\n",
       "</table>\n",
       "</div>"
      ],
      "text/plain": [
       "   RowNumber  CustomerId   Surname  CreditScore Geography  Gender  Age  \\\n",
       "0          1    15634602  Hargrave          619    France  Female   42   \n",
       "1          2    15647311      Hill          608     Spain  Female   41   \n",
       "2          3    15619304      Onio          502    France  Female   42   \n",
       "\n",
       "   Tenure    Balance  NumOfProducts  HasCrCard  IsActiveMember  \\\n",
       "0       2       0.00              1          1               1   \n",
       "1       1   83807.86              1          0               1   \n",
       "2       8  159660.80              3          1               0   \n",
       "\n",
       "   EstimatedSalary  Exited  \n",
       "0        101348.88       1  \n",
       "1        112542.58       0  \n",
       "2        113931.57       1  "
      ]
     },
     "execution_count": 9,
     "metadata": {},
     "output_type": "execute_result"
    }
   ],
   "source": [
    "df.head(3)"
   ]
  },
  {
   "cell_type": "code",
   "execution_count": 10,
   "metadata": {},
   "outputs": [
    {
     "data": {
      "text/html": [
       "<div>\n",
       "<table border=\"1\" class=\"dataframe\">\n",
       "  <thead>\n",
       "    <tr style=\"text-align: right;\">\n",
       "      <th></th>\n",
       "      <th>CreditScore</th>\n",
       "      <th>Geography</th>\n",
       "      <th>Gender</th>\n",
       "      <th>Age</th>\n",
       "      <th>Tenure</th>\n",
       "      <th>Balance</th>\n",
       "      <th>NumOfProducts</th>\n",
       "      <th>HasCrCard</th>\n",
       "      <th>IsActiveMember</th>\n",
       "      <th>EstimatedSalary</th>\n",
       "    </tr>\n",
       "  </thead>\n",
       "  <tbody>\n",
       "    <tr>\n",
       "      <th>0</th>\n",
       "      <td>619</td>\n",
       "      <td>France</td>\n",
       "      <td>Female</td>\n",
       "      <td>42</td>\n",
       "      <td>2</td>\n",
       "      <td>0.00</td>\n",
       "      <td>1</td>\n",
       "      <td>1</td>\n",
       "      <td>1</td>\n",
       "      <td>101348.88</td>\n",
       "    </tr>\n",
       "    <tr>\n",
       "      <th>1</th>\n",
       "      <td>608</td>\n",
       "      <td>Spain</td>\n",
       "      <td>Female</td>\n",
       "      <td>41</td>\n",
       "      <td>1</td>\n",
       "      <td>83807.86</td>\n",
       "      <td>1</td>\n",
       "      <td>0</td>\n",
       "      <td>1</td>\n",
       "      <td>112542.58</td>\n",
       "    </tr>\n",
       "  </tbody>\n",
       "</table>\n",
       "</div>"
      ],
      "text/plain": [
       "   CreditScore Geography  Gender  Age  Tenure   Balance  NumOfProducts  \\\n",
       "0          619    France  Female   42       2      0.00              1   \n",
       "1          608     Spain  Female   41       1  83807.86              1   \n",
       "\n",
       "   HasCrCard  IsActiveMember  EstimatedSalary  \n",
       "0          1               1        101348.88  \n",
       "1          0               1        112542.58  "
      ]
     },
     "execution_count": 10,
     "metadata": {},
     "output_type": "execute_result"
    }
   ],
   "source": [
    "df.iloc[:,3:-1].head(2)"
   ]
  },
  {
   "cell_type": "code",
   "execution_count": 11,
   "metadata": {},
   "outputs": [
    {
     "data": {
      "text/html": [
       "<div>\n",
       "<table border=\"1\" class=\"dataframe\">\n",
       "  <thead>\n",
       "    <tr style=\"text-align: right;\">\n",
       "      <th></th>\n",
       "      <th>CreditScore</th>\n",
       "      <th>Geography</th>\n",
       "      <th>Gender</th>\n",
       "      <th>Age</th>\n",
       "      <th>Tenure</th>\n",
       "      <th>Balance</th>\n",
       "      <th>NumOfProducts</th>\n",
       "      <th>HasCrCard</th>\n",
       "      <th>IsActiveMember</th>\n",
       "      <th>EstimatedSalary</th>\n",
       "    </tr>\n",
       "  </thead>\n",
       "  <tbody>\n",
       "    <tr>\n",
       "      <th>0</th>\n",
       "      <td>619</td>\n",
       "      <td>France</td>\n",
       "      <td>Female</td>\n",
       "      <td>42</td>\n",
       "      <td>2</td>\n",
       "      <td>0.00</td>\n",
       "      <td>1</td>\n",
       "      <td>1</td>\n",
       "      <td>1</td>\n",
       "      <td>101348.88</td>\n",
       "    </tr>\n",
       "    <tr>\n",
       "      <th>1</th>\n",
       "      <td>608</td>\n",
       "      <td>Spain</td>\n",
       "      <td>Female</td>\n",
       "      <td>41</td>\n",
       "      <td>1</td>\n",
       "      <td>83807.86</td>\n",
       "      <td>1</td>\n",
       "      <td>0</td>\n",
       "      <td>1</td>\n",
       "      <td>112542.58</td>\n",
       "    </tr>\n",
       "  </tbody>\n",
       "</table>\n",
       "</div>"
      ],
      "text/plain": [
       "   CreditScore Geography  Gender  Age  Tenure   Balance  NumOfProducts  \\\n",
       "0          619    France  Female   42       2      0.00              1   \n",
       "1          608     Spain  Female   41       1  83807.86              1   \n",
       "\n",
       "   HasCrCard  IsActiveMember  EstimatedSalary  \n",
       "0          1               1        101348.88  \n",
       "1          0               1        112542.58  "
      ]
     },
     "execution_count": 11,
     "metadata": {},
     "output_type": "execute_result"
    }
   ],
   "source": [
    "df.iloc[:,3:13].head(2)"
   ]
  },
  {
   "cell_type": "code",
   "execution_count": 12,
   "metadata": {},
   "outputs": [
    {
     "data": {
      "text/plain": [
       "France     5014\n",
       "Germany    2509\n",
       "Spain      2477\n",
       "Name: Geography, dtype: int64"
      ]
     },
     "execution_count": 12,
     "metadata": {},
     "output_type": "execute_result"
    }
   ],
   "source": [
    "df['Geography'].value_counts()"
   ]
  },
  {
   "cell_type": "code",
   "execution_count": 13,
   "metadata": {},
   "outputs": [
    {
     "data": {
      "text/plain": [
       "Male      5457\n",
       "Female    4543\n",
       "Name: Gender, dtype: int64"
      ]
     },
     "execution_count": 13,
     "metadata": {},
     "output_type": "execute_result"
    }
   ],
   "source": [
    "df['Gender'].value_counts()"
   ]
  },
  {
   "cell_type": "markdown",
   "metadata": {
    "collapsed": true
   },
   "source": [
    "### data preprocessing"
   ]
  },
  {
   "cell_type": "code",
   "execution_count": 14,
   "metadata": {},
   "outputs": [
    {
     "name": "stdout",
     "output_type": "stream",
     "text": [
      "(10000, 10)\n",
      "<class 'numpy.ndarray'>\n"
     ]
    },
    {
     "data": {
      "text/plain": [
       "array([[619, 'France', 'Female', 42, 2, 0.0, 1, 1, 1, 101348.88],\n",
       "       [608, 'Spain', 'Female', 41, 1, 83807.86, 1, 0, 1, 112542.58],\n",
       "       [502, 'France', 'Female', 42, 8, 159660.8, 3, 1, 0, 113931.57]],\n",
       "      dtype=object)"
      ]
     },
     "execution_count": 14,
     "metadata": {},
     "output_type": "execute_result"
    }
   ],
   "source": [
    "X = df.iloc[:,3:-1].values\n",
    "print (X.shape)\n",
    "print (type(X))\n",
    "X[:3]"
   ]
  },
  {
   "cell_type": "code",
   "execution_count": 15,
   "metadata": {},
   "outputs": [
    {
     "name": "stdout",
     "output_type": "stream",
     "text": [
      "(10000,)\n",
      "<class 'numpy.ndarray'>\n"
     ]
    },
    {
     "data": {
      "text/plain": [
       "array([1, 0, 1, ..., 1, 1, 0])"
      ]
     },
     "execution_count": 15,
     "metadata": {},
     "output_type": "execute_result"
    }
   ],
   "source": [
    "y = df.iloc[:,-1].values\n",
    "print (y.shape)\n",
    "print (type(y))\n",
    "y"
   ]
  },
  {
   "cell_type": "markdown",
   "metadata": {},
   "source": [
    "### Encoding categorical data"
   ]
  },
  {
   "cell_type": "code",
   "execution_count": 16,
   "metadata": {},
   "outputs": [
    {
     "data": {
      "text/plain": [
       "array([['France', 'Female'],\n",
       "       ['Spain', 'Female'],\n",
       "       ['France', 'Female'],\n",
       "       ...,\n",
       "       ['France', 'Female'],\n",
       "       ['Germany', 'Male'],\n",
       "       ['France', 'Female']], dtype=object)"
      ]
     },
     "execution_count": 16,
     "metadata": {},
     "output_type": "execute_result"
    }
   ],
   "source": [
    "X[:,1:3]"
   ]
  },
  {
   "cell_type": "code",
   "execution_count": 17,
   "metadata": {},
   "outputs": [
    {
     "name": "stdout",
     "output_type": "stream",
     "text": [
      "[[619 0 'Female' 42 2 0.0 1 1 1 101348.88]\n",
      " [608 2 'Female' 41 1 83807.86 1 0 1 112542.58]\n",
      " [502 0 'Female' 42 8 159660.8 3 1 0 113931.57]]\n",
      "CPU times: user 195 ms, sys: 47 ms, total: 242 ms\n",
      "Wall time: 3.4 s\n"
     ]
    }
   ],
   "source": [
    "%%time\n",
    "\n",
    "# Encoding the Independent Variable\n",
    "from sklearn.preprocessing import LabelEncoder, OneHotEncoder\n",
    "\n",
    "labelencoder_X_1 = LabelEncoder()\n",
    "X[:, 1] = labelencoder_X_1.fit_transform(X[:, 1])\n",
    "print (X[:3])\n",
    "labelencoder_X_2 = LabelEncoder()\n",
    "X[:, 2] = labelencoder_X_2.fit_transform(X[:, 2])\n",
    "(X[:3])"
   ]
  },
  {
   "cell_type": "code",
   "execution_count": 18,
   "metadata": {},
   "outputs": [
    {
     "data": {
      "text/plain": [
       "array([[619, 0, 0, ..., 1, 1, 101348.88],\n",
       "       [608, 2, 0, ..., 0, 1, 112542.58],\n",
       "       [502, 0, 0, ..., 1, 0, 113931.57],\n",
       "       ...,\n",
       "       [709, 0, 0, ..., 0, 1, 42085.58],\n",
       "       [772, 1, 1, ..., 1, 0, 92888.52],\n",
       "       [792, 0, 0, ..., 1, 0, 38190.78]], dtype=object)"
      ]
     },
     "execution_count": 18,
     "metadata": {},
     "output_type": "execute_result"
    }
   ],
   "source": [
    "X"
   ]
  },
  {
   "cell_type": "code",
   "execution_count": 19,
   "metadata": {},
   "outputs": [
    {
     "name": "stdout",
     "output_type": "stream",
     "text": [
      "(10000, 12)\n",
      "CPU times: user 9 ms, sys: 2 ms, total: 11 ms\n",
      "Wall time: 9.67 ms\n"
     ]
    }
   ],
   "source": [
    "%%time\n",
    "onehotencoder = OneHotEncoder(categorical_features = [1])\n",
    "X = onehotencoder.fit_transform(X).toarray()\n",
    "print (X.shape)"
   ]
  },
  {
   "cell_type": "code",
   "execution_count": 20,
   "metadata": {},
   "outputs": [
    {
     "data": {
      "text/plain": [
       "<10000x13 sparse matrix of type '<class 'numpy.float64'>'\n",
       "\twith 91124 stored elements in COOrdinate format>"
      ]
     },
     "execution_count": 20,
     "metadata": {},
     "output_type": "execute_result"
    }
   ],
   "source": [
    "onehotencoder.fit_transform(X)"
   ]
  },
  {
   "cell_type": "code",
   "execution_count": 21,
   "metadata": {
    "collapsed": true
   },
   "outputs": [],
   "source": [
    "# %precision % .2f"
   ]
  },
  {
   "cell_type": "code",
   "execution_count": 22,
   "metadata": {},
   "outputs": [
    {
     "data": {
      "text/plain": [
       "array([1.0000000e+00, 0.0000000e+00, 1.0000000e+00, 0.0000000e+00,\n",
       "       6.1900000e+02, 0.0000000e+00, 4.2000000e+01, 2.0000000e+00,\n",
       "       0.0000000e+00, 1.0000000e+00, 1.0000000e+00, 1.0000000e+00,\n",
       "       1.0134888e+05])"
      ]
     },
     "execution_count": 22,
     "metadata": {},
     "output_type": "execute_result"
    }
   ],
   "source": [
    "onehotencoder.fit_transform(X).toarray()[0]"
   ]
  },
  {
   "cell_type": "markdown",
   "metadata": {},
   "source": [
    "### How to pretty-printing a numpy.array without scientific notation and with given precision?\n",
    "\n",
    "https://stackoverflow.com/questions/2891790/how-to-pretty-printing-a-numpy-array-without-scientific-notation-and-with-given"
   ]
  },
  {
   "cell_type": "code",
   "execution_count": 23,
   "metadata": {
    "collapsed": true
   },
   "outputs": [],
   "source": [
    "np.set_printoptions(precision=1, suppress=True)"
   ]
  },
  {
   "cell_type": "code",
   "execution_count": 24,
   "metadata": {},
   "outputs": [
    {
     "data": {
      "text/plain": [
       "array([     1. ,      0. ,      1. ,      0. ,    619. ,      0. ,\n",
       "           42. ,      2. ,      0. ,      1. ,      1. ,      1. ,\n",
       "       101348.9])"
      ]
     },
     "execution_count": 24,
     "metadata": {},
     "output_type": "execute_result"
    }
   ],
   "source": [
    "onehotencoder.fit_transform(X).toarray()[0]"
   ]
  },
  {
   "cell_type": "markdown",
   "metadata": {},
   "source": [
    "### remove one dummy variable to avoid dummy variable trap"
   ]
  },
  {
   "cell_type": "code",
   "execution_count": 25,
   "metadata": {},
   "outputs": [
    {
     "data": {
      "text/plain": [
       "array([     1. ,      0. ,      0. ,    619. ,      0. ,     42. ,\n",
       "            2. ,      0. ,      1. ,      1. ,      1. , 101348.9])"
      ]
     },
     "execution_count": 25,
     "metadata": {},
     "output_type": "execute_result"
    }
   ],
   "source": [
    "X[0]"
   ]
  },
  {
   "cell_type": "code",
   "execution_count": 26,
   "metadata": {},
   "outputs": [
    {
     "name": "stdout",
     "output_type": "stream",
     "text": [
      "(10000, 12)\n",
      "(10000, 11)\n"
     ]
    },
    {
     "data": {
      "text/plain": [
       "array([     0. ,      0. ,    619. ,      0. ,     42. ,      2. ,\n",
       "            0. ,      1. ,      1. ,      1. , 101348.9])"
      ]
     },
     "execution_count": 26,
     "metadata": {},
     "output_type": "execute_result"
    }
   ],
   "source": [
    "print (X.shape)\n",
    "X = X[:, 1:]\n",
    "print (X.shape)\n",
    "X[0]"
   ]
  },
  {
   "cell_type": "markdown",
   "metadata": {},
   "source": [
    "### train test split & feature scaling "
   ]
  },
  {
   "cell_type": "code",
   "execution_count": 27,
   "metadata": {
    "collapsed": true
   },
   "outputs": [],
   "source": [
    "S = lambda *x: [i.shape for i in x]"
   ]
  },
  {
   "cell_type": "code",
   "execution_count": 28,
   "metadata": {},
   "outputs": [
    {
     "name": "stdout",
     "output_type": "stream",
     "text": [
      "[(8000, 11), (2000, 11), (8000,), (2000,)]\n"
     ]
    }
   ],
   "source": [
    "from sklearn.model_selection import train_test_split\n",
    "X_train, X_test, y_train, y_test = train_test_split(X, y, test_size=0.2, random_state=0)\n",
    "print (S(X_train,X_test, y_train, y_test))"
   ]
  },
  {
   "cell_type": "code",
   "execution_count": 29,
   "metadata": {},
   "outputs": [
    {
     "data": {
      "text/plain": [
       "array([     0. ,      1. ,    667. ,      0. ,     34. ,      5. ,\n",
       "            0. ,      2. ,      1. ,      0. , 163830.6])"
      ]
     },
     "execution_count": 29,
     "metadata": {},
     "output_type": "execute_result"
    }
   ],
   "source": [
    "X_train[0]"
   ]
  },
  {
   "cell_type": "markdown",
   "metadata": {},
   "source": [
    "### nomalization"
   ]
  },
  {
   "cell_type": "code",
   "execution_count": 30,
   "metadata": {},
   "outputs": [
    {
     "name": "stdout",
     "output_type": "stream",
     "text": [
      "[(8000, 11), (2000, 11), (8000,), (2000,)]\n"
     ]
    },
    {
     "data": {
      "text/plain": [
       "array([-0.6,  1.7,  0.2, -1.1, -0.5,  0. , -1.2,  0.8,  0.6, -1. ,  1.1])"
      ]
     },
     "execution_count": 30,
     "metadata": {},
     "output_type": "execute_result"
    }
   ],
   "source": [
    "from sklearn.preprocessing import StandardScaler\n",
    "sc = StandardScaler()\n",
    "# fit on training set\n",
    "X_train = sc.fit_transform(X_train)\n",
    "# only transform on test set\n",
    "X_test = sc.transform(X_test)\n",
    "print (S(X_train,X_test, y_train, y_test))\n",
    "X_train[0]"
   ]
  },
  {
   "cell_type": "markdown",
   "metadata": {},
   "source": [
    "## build ANN"
   ]
  },
  {
   "cell_type": "code",
   "execution_count": 31,
   "metadata": {
    "collapsed": true
   },
   "outputs": [],
   "source": [
    "# show(13, w=8)"
   ]
  },
  {
   "cell_type": "code",
   "execution_count": 32,
   "metadata": {
    "collapsed": true
   },
   "outputs": [],
   "source": [
    "from keras.models import Sequential\n",
    "from keras.layers import Dense"
   ]
  },
  {
   "cell_type": "code",
   "execution_count": 33,
   "metadata": {
    "collapsed": true
   },
   "outputs": [],
   "source": [
    "classifier = Sequential()\n",
    "# classifier?"
   ]
  },
  {
   "cell_type": "code",
   "execution_count": 34,
   "metadata": {
    "collapsed": true
   },
   "outputs": [],
   "source": [
    "# first hidden layer\n",
    "# classifier.add(Dense(units = 6, input_shape=(11,),  kernel_initializer='uniform', activation='relu'))\n",
    "classifier.add(Dense(units = 6, input_dim=11,  kernel_initializer='uniform', activation='relu'))"
   ]
  },
  {
   "cell_type": "code",
   "execution_count": 35,
   "metadata": {
    "collapsed": true
   },
   "outputs": [],
   "source": [
    "# second hidden layer\n",
    "classifier.add(Dense(units = 6,  kernel_initializer='uniform', activation='relu'))"
   ]
  },
  {
   "cell_type": "code",
   "execution_count": 36,
   "metadata": {
    "collapsed": true
   },
   "outputs": [],
   "source": [
    "# ouput layer\n",
    "classifier.add(Dense(units = 1,  kernel_initializer='uniform', activation='sigmoid'))"
   ]
  },
  {
   "cell_type": "code",
   "execution_count": 37,
   "metadata": {
    "collapsed": true
   },
   "outputs": [],
   "source": [
    "# show(19, w=8)"
   ]
  },
  {
   "cell_type": "code",
   "execution_count": 38,
   "metadata": {
    "collapsed": true
   },
   "outputs": [],
   "source": [
    "from keras.optimizers import adam, Adam"
   ]
  },
  {
   "cell_type": "code",
   "execution_count": 39,
   "metadata": {},
   "outputs": [],
   "source": [
    "# compiling the ANN\n",
    "classifier.compile(optimizer=adam(0.01), loss='binary_crossentropy', metrics= ['accuracy'])"
   ]
  },
  {
   "cell_type": "code",
   "execution_count": 40,
   "metadata": {},
   "outputs": [
    {
     "name": "stdout",
     "output_type": "stream",
     "text": [
      "_________________________________________________________________\n",
      "Layer (type)                 Output Shape              Param #   \n",
      "=================================================================\n",
      "dense_1 (Dense)              (None, 6)                 72        \n",
      "_________________________________________________________________\n",
      "dense_2 (Dense)              (None, 6)                 42        \n",
      "_________________________________________________________________\n",
      "dense_3 (Dense)              (None, 1)                 7         \n",
      "=================================================================\n",
      "Total params: 121\n",
      "Trainable params: 121\n",
      "Non-trainable params: 0\n",
      "_________________________________________________________________\n"
     ]
    }
   ],
   "source": [
    "classifier.summary()"
   ]
  },
  {
   "cell_type": "markdown",
   "metadata": {},
   "source": [
    "### find process in Linux sort by memery usage"
   ]
  },
  {
   "cell_type": "code",
   "execution_count": 41,
   "metadata": {},
   "outputs": [
    {
     "name": "stdout",
     "output_type": "stream",
     "text": [
      "USER        PID %CPU %MEM    VSZ   RSS TTY      STAT START   TIME COMMAND\r\n",
      "root          1  0.0  0.0  23596   564 ?        Ss   Jan25   0:02 /sbin/init\r\n",
      "root          2  0.0  0.0      0     0 ?        S    Jan25   0:00 [kthreadd]\r\n",
      "root          3  0.0  0.0      0     0 ?        S    Jan25   2:04 [migration/0]\r\n",
      "root          4  0.0  0.0      0     0 ?        S    Jan25   0:21 [ksoftirqd/0]\r\n",
      "root          5  0.0  0.0      0     0 ?        S    Jan25   0:00 [stopper/0]\r\n"
     ]
    }
   ],
   "source": [
    "!ps aux --sort=-%mem | awk 'NR<=6{print $0}'"
   ]
  },
  {
   "cell_type": "code",
   "execution_count": 42,
   "metadata": {
    "collapsed": true
   },
   "outputs": [],
   "source": [
    "from keras.callbacks import EarlyStopping"
   ]
  },
  {
   "cell_type": "code",
   "execution_count": 43,
   "metadata": {
    "collapsed": true
   },
   "outputs": [],
   "source": [
    "# tf.all_variables()"
   ]
  },
  {
   "cell_type": "code",
   "execution_count": 44,
   "metadata": {
    "collapsed": true
   },
   "outputs": [],
   "source": [
    "# if 'session' in locals() and session is not None:\n",
    "#     print('Close interactive session')\n",
    "#     session.close()"
   ]
  },
  {
   "cell_type": "code",
   "execution_count": 45,
   "metadata": {},
   "outputs": [
    {
     "name": "stdout",
     "output_type": "stream",
     "text": [
      "Epoch 1/100\n",
      "8000/8000 [==============================] - 3s 355us/step - loss: 0.4377 - acc: 0.8039\n",
      "Epoch 2/100\n",
      " 650/8000 [=>............................] - ETA: 1s - loss: 0.4053 - acc: 0.8277"
     ]
    },
    {
     "name": "stderr",
     "output_type": "stream",
     "text": [
      "/home/shj16110/anaconda2/envs/3.6.1/lib/python3.6/site-packages/keras/callbacks.py:497: RuntimeWarning: Early stopping conditioned on metric `val_loss` which is not available. Available metrics are: loss,acc\n",
      "  (self.monitor, ','.join(list(logs.keys()))), RuntimeWarning\n"
     ]
    },
    {
     "name": "stdout",
     "output_type": "stream",
     "text": [
      "8000/8000 [==============================] - 2s 238us/step - loss: 0.4194 - acc: 0.8269\n",
      "Epoch 3/100\n",
      "8000/8000 [==============================] - 2s 237us/step - loss: 0.4148 - acc: 0.8323\n",
      "Epoch 4/100\n",
      "8000/8000 [==============================] - 2s 236us/step - loss: 0.4151 - acc: 0.8323\n",
      "Epoch 5/100\n",
      "8000/8000 [==============================] - 2s 236us/step - loss: 0.4137 - acc: 0.8323\n",
      "Epoch 6/100\n",
      "8000/8000 [==============================] - 2s 235us/step - loss: 0.4130 - acc: 0.8305\n",
      "Epoch 7/100\n",
      "8000/8000 [==============================] - 2s 236us/step - loss: 0.4117 - acc: 0.8335\n",
      "Epoch 8/100\n",
      "8000/8000 [==============================] - 2s 234us/step - loss: 0.4123 - acc: 0.8324\n",
      "Epoch 9/100\n",
      "8000/8000 [==============================] - 2s 235us/step - loss: 0.4095 - acc: 0.8315\n",
      "Epoch 10/100\n",
      "8000/8000 [==============================] - 2s 235us/step - loss: 0.3846 - acc: 0.8434\n",
      "Epoch 11/100\n",
      "8000/8000 [==============================] - 2s 234us/step - loss: 0.3747 - acc: 0.8476\n",
      "Epoch 12/100\n",
      "8000/8000 [==============================] - 2s 237us/step - loss: 0.3701 - acc: 0.8495\n",
      "Epoch 13/100\n",
      "8000/8000 [==============================] - 2s 235us/step - loss: 0.3663 - acc: 0.8489\n",
      "Epoch 14/100\n",
      "8000/8000 [==============================] - 2s 236us/step - loss: 0.3647 - acc: 0.8517\n",
      "Epoch 15/100\n",
      "8000/8000 [==============================] - 2s 236us/step - loss: 0.3597 - acc: 0.8533\n",
      "Epoch 16/100\n",
      "8000/8000 [==============================] - 2s 235us/step - loss: 0.3587 - acc: 0.8539\n",
      "Epoch 17/100\n",
      "8000/8000 [==============================] - 2s 236us/step - loss: 0.3566 - acc: 0.8549\n",
      "Epoch 18/100\n",
      "8000/8000 [==============================] - 2s 236us/step - loss: 0.3542 - acc: 0.8561\n",
      "Epoch 19/100\n",
      "8000/8000 [==============================] - 2s 234us/step - loss: 0.3555 - acc: 0.8550\n",
      "Epoch 20/100\n",
      "8000/8000 [==============================] - 2s 236us/step - loss: 0.3541 - acc: 0.8558\n",
      "Epoch 21/100\n",
      "8000/8000 [==============================] - 2s 237us/step - loss: 0.3537 - acc: 0.8579\n",
      "Epoch 22/100\n",
      "8000/8000 [==============================] - 2s 234us/step - loss: 0.3512 - acc: 0.8571\n",
      "Epoch 23/100\n",
      "8000/8000 [==============================] - 2s 236us/step - loss: 0.3522 - acc: 0.8564\n",
      "Epoch 24/100\n",
      "8000/8000 [==============================] - 2s 235us/step - loss: 0.3510 - acc: 0.8588\n",
      "Epoch 25/100\n",
      "8000/8000 [==============================] - 2s 235us/step - loss: 0.3511 - acc: 0.8554\n",
      "Epoch 26/100\n",
      "8000/8000 [==============================] - 2s 235us/step - loss: 0.3522 - acc: 0.8561\n",
      "Epoch 27/100\n",
      "8000/8000 [==============================] - 2s 235us/step - loss: 0.3506 - acc: 0.8571\n",
      "Epoch 28/100\n",
      "8000/8000 [==============================] - 2s 235us/step - loss: 0.3506 - acc: 0.8559\n",
      "Epoch 29/100\n",
      "8000/8000 [==============================] - 2s 236us/step - loss: 0.3509 - acc: 0.8568\n",
      "Epoch 30/100\n",
      "8000/8000 [==============================] - 2s 236us/step - loss: 0.3507 - acc: 0.8563\n",
      "Epoch 31/100\n",
      "8000/8000 [==============================] - 2s 236us/step - loss: 0.3501 - acc: 0.8574\n",
      "Epoch 32/100\n",
      "8000/8000 [==============================] - 2s 235us/step - loss: 0.3502 - acc: 0.8581\n",
      "Epoch 33/100\n",
      "8000/8000 [==============================] - 2s 235us/step - loss: 0.3504 - acc: 0.8564\n",
      "Epoch 34/100\n",
      "8000/8000 [==============================] - 2s 236us/step - loss: 0.3496 - acc: 0.8574\n",
      "Epoch 35/100\n",
      "8000/8000 [==============================] - 2s 236us/step - loss: 0.3494 - acc: 0.8587\n",
      "Epoch 36/100\n",
      "8000/8000 [==============================] - 2s 234us/step - loss: 0.3498 - acc: 0.8566\n",
      "Epoch 37/100\n",
      "8000/8000 [==============================] - 2s 234us/step - loss: 0.3510 - acc: 0.8574\n",
      "Epoch 38/100\n",
      "8000/8000 [==============================] - 2s 235us/step - loss: 0.3474 - acc: 0.8576\n",
      "Epoch 39/100\n",
      "8000/8000 [==============================] - 2s 237us/step - loss: 0.3475 - acc: 0.8579\n",
      "Epoch 40/100\n",
      "8000/8000 [==============================] - 2s 234us/step - loss: 0.3501 - acc: 0.8584\n",
      "Epoch 41/100\n",
      "8000/8000 [==============================] - 2s 236us/step - loss: 0.3492 - acc: 0.8580\n",
      "Epoch 42/100\n",
      "8000/8000 [==============================] - 2s 235us/step - loss: 0.3490 - acc: 0.8581\n",
      "Epoch 43/100\n",
      "8000/8000 [==============================] - 2s 236us/step - loss: 0.3490 - acc: 0.8590\n",
      "Epoch 44/100\n",
      "8000/8000 [==============================] - 2s 236us/step - loss: 0.3482 - acc: 0.8585\n",
      "Epoch 45/100\n",
      "8000/8000 [==============================] - 2s 235us/step - loss: 0.3483 - acc: 0.8570\n",
      "Epoch 46/100\n",
      "8000/8000 [==============================] - 2s 235us/step - loss: 0.3489 - acc: 0.8589\n",
      "Epoch 47/100\n",
      "8000/8000 [==============================] - 2s 237us/step - loss: 0.3492 - acc: 0.8556\n",
      "Epoch 48/100\n",
      "8000/8000 [==============================] - 2s 236us/step - loss: 0.3496 - acc: 0.8560\n",
      "Epoch 49/100\n",
      "8000/8000 [==============================] - 2s 236us/step - loss: 0.3493 - acc: 0.8563\n",
      "Epoch 50/100\n",
      "8000/8000 [==============================] - 2s 235us/step - loss: 0.3495 - acc: 0.8576\n",
      "Epoch 51/100\n",
      "8000/8000 [==============================] - 2s 235us/step - loss: 0.3487 - acc: 0.8590\n",
      "Epoch 52/100\n",
      "8000/8000 [==============================] - 2s 235us/step - loss: 0.3473 - acc: 0.8585\n",
      "Epoch 53/100\n",
      "8000/8000 [==============================] - 2s 235us/step - loss: 0.3479 - acc: 0.8552\n",
      "Epoch 54/100\n",
      "8000/8000 [==============================] - 2s 235us/step - loss: 0.3485 - acc: 0.8564\n",
      "Epoch 55/100\n",
      "8000/8000 [==============================] - 2s 234us/step - loss: 0.3478 - acc: 0.8554\n",
      "Epoch 56/100\n",
      "8000/8000 [==============================] - 2s 236us/step - loss: 0.3478 - acc: 0.8559\n",
      "Epoch 57/100\n",
      "8000/8000 [==============================] - 2s 237us/step - loss: 0.3474 - acc: 0.8596\n",
      "Epoch 58/100\n",
      "8000/8000 [==============================] - 2s 234us/step - loss: 0.3485 - acc: 0.8584\n",
      "Epoch 59/100\n",
      "8000/8000 [==============================] - 2s 234us/step - loss: 0.3485 - acc: 0.8560\n",
      "Epoch 60/100\n",
      "8000/8000 [==============================] - 2s 234us/step - loss: 0.3484 - acc: 0.8568\n",
      "Epoch 61/100\n",
      "8000/8000 [==============================] - 2s 235us/step - loss: 0.3476 - acc: 0.8576\n",
      "Epoch 62/100\n",
      "8000/8000 [==============================] - 2s 235us/step - loss: 0.3474 - acc: 0.8586\n",
      "Epoch 63/100\n",
      "8000/8000 [==============================] - 2s 235us/step - loss: 0.3483 - acc: 0.8579\n",
      "Epoch 64/100\n",
      "8000/8000 [==============================] - 2s 234us/step - loss: 0.3472 - acc: 0.8567\n",
      "Epoch 65/100\n",
      "8000/8000 [==============================] - 2s 235us/step - loss: 0.3488 - acc: 0.8559\n",
      "Epoch 66/100\n",
      "8000/8000 [==============================] - 2s 237us/step - loss: 0.3466 - acc: 0.8571\n",
      "Epoch 67/100\n",
      "8000/8000 [==============================] - 2s 235us/step - loss: 0.3467 - acc: 0.8577\n",
      "Epoch 68/100\n",
      "8000/8000 [==============================] - 2s 235us/step - loss: 0.3488 - acc: 0.8588\n",
      "Epoch 69/100\n",
      "8000/8000 [==============================] - 2s 235us/step - loss: 0.3460 - acc: 0.8583\n",
      "Epoch 70/100\n",
      "8000/8000 [==============================] - 2s 235us/step - loss: 0.3472 - acc: 0.8564\n",
      "Epoch 71/100\n",
      "8000/8000 [==============================] - 2s 235us/step - loss: 0.3466 - acc: 0.8593\n",
      "Epoch 72/100\n",
      "8000/8000 [==============================] - 2s 236us/step - loss: 0.3463 - acc: 0.8574\n",
      "Epoch 73/100\n",
      "8000/8000 [==============================] - 2s 236us/step - loss: 0.3488 - acc: 0.8564\n",
      "Epoch 74/100\n",
      "8000/8000 [==============================] - 2s 235us/step - loss: 0.3479 - acc: 0.8585\n",
      "Epoch 75/100\n",
      "8000/8000 [==============================] - 2s 235us/step - loss: 0.3470 - acc: 0.8558\n",
      "Epoch 76/100\n",
      "8000/8000 [==============================] - 2s 235us/step - loss: 0.3460 - acc: 0.8591\n",
      "Epoch 77/100\n",
      "8000/8000 [==============================] - 2s 236us/step - loss: 0.3477 - acc: 0.8589\n",
      "Epoch 78/100\n",
      "8000/8000 [==============================] - 2s 235us/step - loss: 0.3465 - acc: 0.8570\n",
      "Epoch 79/100\n",
      "8000/8000 [==============================] - 2s 236us/step - loss: 0.3453 - acc: 0.8594\n",
      "Epoch 80/100\n",
      "8000/8000 [==============================] - 2s 236us/step - loss: 0.3482 - acc: 0.8574\n",
      "Epoch 81/100\n",
      "8000/8000 [==============================] - 2s 234us/step - loss: 0.3493 - acc: 0.8592\n",
      "Epoch 82/100\n",
      "8000/8000 [==============================] - 2s 234us/step - loss: 0.3479 - acc: 0.8584\n",
      "Epoch 83/100\n"
     ]
    },
    {
     "name": "stdout",
     "output_type": "stream",
     "text": [
      "8000/8000 [==============================] - 2s 235us/step - loss: 0.3463 - acc: 0.8592\n",
      "Epoch 84/100\n",
      "8000/8000 [==============================] - 2s 236us/step - loss: 0.3468 - acc: 0.8571\n",
      "Epoch 85/100\n",
      "8000/8000 [==============================] - 2s 234us/step - loss: 0.3459 - acc: 0.8566\n",
      "Epoch 86/100\n",
      "8000/8000 [==============================] - 2s 235us/step - loss: 0.3456 - acc: 0.8591\n",
      "Epoch 87/100\n",
      "8000/8000 [==============================] - 2s 234us/step - loss: 0.3477 - acc: 0.8559\n",
      "Epoch 88/100\n",
      "8000/8000 [==============================] - 2s 235us/step - loss: 0.3482 - acc: 0.8598\n",
      "Epoch 89/100\n",
      "8000/8000 [==============================] - 2s 235us/step - loss: 0.3492 - acc: 0.8564\n",
      "Epoch 90/100\n",
      "8000/8000 [==============================] - 2s 235us/step - loss: 0.3485 - acc: 0.8568\n",
      "Epoch 91/100\n",
      "8000/8000 [==============================] - 2s 235us/step - loss: 0.3474 - acc: 0.8590\n",
      "Epoch 92/100\n",
      "8000/8000 [==============================] - 2s 235us/step - loss: 0.3470 - acc: 0.8538\n",
      "Epoch 93/100\n",
      "8000/8000 [==============================] - 2s 235us/step - loss: 0.3485 - acc: 0.8571\n",
      "Epoch 94/100\n",
      "8000/8000 [==============================] - 2s 235us/step - loss: 0.3484 - acc: 0.8585\n",
      "Epoch 95/100\n",
      "8000/8000 [==============================] - 2s 234us/step - loss: 0.3486 - acc: 0.8561\n",
      "Epoch 96/100\n",
      "8000/8000 [==============================] - 2s 235us/step - loss: 0.3466 - acc: 0.8589\n",
      "Epoch 97/100\n",
      "8000/8000 [==============================] - 2s 236us/step - loss: 0.3459 - acc: 0.8582\n",
      "Epoch 98/100\n",
      "8000/8000 [==============================] - 2s 235us/step - loss: 0.3477 - acc: 0.8564\n",
      "Epoch 99/100\n",
      "8000/8000 [==============================] - 2s 236us/step - loss: 0.3461 - acc: 0.8568\n",
      "Epoch 100/100\n",
      "8000/8000 [==============================] - 2s 235us/step - loss: 0.3476 - acc: 0.8565\n"
     ]
    },
    {
     "data": {
      "text/plain": [
       "<keras.callbacks.History at 0x2b8073c72588>"
      ]
     },
     "execution_count": 45,
     "metadata": {},
     "output_type": "execute_result"
    }
   ],
   "source": [
    "# fitting ANN with training set\n",
    "classifier.fit(X_train, y_train, batch_size=10, epochs=100, callbacks=[EarlyStopping(patience=10)])"
   ]
  },
  {
   "cell_type": "code",
   "execution_count": 47,
   "metadata": {},
   "outputs": [
    {
     "name": "stdout",
     "output_type": "stream",
     "text": [
      "<class 'numpy.ndarray'>\n"
     ]
    },
    {
     "data": {
      "text/plain": [
       "(2000, 1)"
      ]
     },
     "execution_count": 47,
     "metadata": {},
     "output_type": "execute_result"
    }
   ],
   "source": [
    "y_pred = classifier.predict(X_test)\n",
    "print (type(y_pred))\n",
    "y_pred.shape"
   ]
  },
  {
   "cell_type": "code",
   "execution_count": 48,
   "metadata": {},
   "outputs": [
    {
     "data": {
      "text/plain": [
       "array([[0.4],\n",
       "       [0.3],\n",
       "       [0.2],\n",
       "       ...,\n",
       "       [0.2],\n",
       "       [0.2],\n",
       "       [0.2]], dtype=float32)"
      ]
     },
     "execution_count": 48,
     "metadata": {},
     "output_type": "execute_result"
    }
   ],
   "source": [
    "y_pred"
   ]
  },
  {
   "cell_type": "code",
   "execution_count": 49,
   "metadata": {},
   "outputs": [
    {
     "data": {
      "text/plain": [
       "0.38290864"
      ]
     },
     "execution_count": 49,
     "metadata": {},
     "output_type": "execute_result"
    }
   ],
   "source": [
    "y_pred[0][0]"
   ]
  },
  {
   "cell_type": "code",
   "execution_count": 50,
   "metadata": {},
   "outputs": [
    {
     "data": {
      "text/plain": [
       "array([[False],\n",
       "       [False],\n",
       "       [False],\n",
       "       ...,\n",
       "       [False],\n",
       "       [False],\n",
       "       [False]])"
      ]
     },
     "execution_count": 50,
     "metadata": {},
     "output_type": "execute_result"
    }
   ],
   "source": [
    "y_pred = (y_pred> 0.5)\n",
    "y_pred"
   ]
  },
  {
   "cell_type": "code",
   "execution_count": 51,
   "metadata": {},
   "outputs": [
    {
     "data": {
      "text/plain": [
       "numpy.ndarray"
      ]
     },
     "execution_count": 51,
     "metadata": {},
     "output_type": "execute_result"
    }
   ],
   "source": [
    "from sklearn.metrics import confusion_matrix, accuracy_score\n",
    "cm = confusion_matrix(y_test, y_pred)\n",
    "type(cm)"
   ]
  },
  {
   "cell_type": "code",
   "execution_count": 52,
   "metadata": {},
   "outputs": [
    {
     "data": {
      "text/plain": [
       "array([[1483,  112],\n",
       "       [ 182,  223]])"
      ]
     },
     "execution_count": 52,
     "metadata": {},
     "output_type": "execute_result"
    }
   ],
   "source": [
    "cm"
   ]
  },
  {
   "cell_type": "code",
   "execution_count": 53,
   "metadata": {},
   "outputs": [
    {
     "data": {
      "text/plain": [
       "0.853"
      ]
     },
     "execution_count": 53,
     "metadata": {},
     "output_type": "execute_result"
    }
   ],
   "source": [
    "accuracy_score(y_test, y_pred)"
   ]
  },
  {
   "cell_type": "code",
   "execution_count": 54,
   "metadata": {},
   "outputs": [
    {
     "data": {
      "text/plain": [
       "0.8615"
      ]
     },
     "execution_count": 54,
     "metadata": {},
     "output_type": "execute_result"
    }
   ],
   "source": [
    "(1512+211)/2000.0"
   ]
  },
  {
   "cell_type": "markdown",
   "metadata": {},
   "source": [
    "### Predicting a single new observation"
   ]
  },
  {
   "cell_type": "code",
   "execution_count": 58,
   "metadata": {},
   "outputs": [
    {
     "name": "stdout",
     "output_type": "stream",
     "text": [
      "[[0.]]\n"
     ]
    },
    {
     "data": {
      "text/plain": [
       "array([[False]])"
      ]
     },
     "execution_count": 58,
     "metadata": {},
     "output_type": "execute_result"
    }
   ],
   "source": [
    "# Predicting a single new observation\n",
    "\"\"\"Predict if the customer with the following informations will leave the bank:\n",
    "Geography: France\n",
    "Credit Score: 600\n",
    "Gender: Male\n",
    "Age: 40\n",
    "Tenure: 3\n",
    "Balance: 60000\n",
    "Number of Products: 2\n",
    "Has Credit Card: Yes\n",
    "Is Active Member: Yes\n",
    "Estimated Salary: 50000\"\"\"\n",
    "new_prediction = classifier.predict(sc.transform(np.array([[0.0, 0, 600, 1, 40, 3, 60000, 2, 1, 1, 50000]])))\n",
    "print  (new_prediction)\n",
    "new_prediction = (new_prediction > 0.5)\n",
    "new_prediction"
   ]
  },
  {
   "cell_type": "markdown",
   "metadata": {
    "collapsed": true
   },
   "source": [
    "## cross validation"
   ]
  },
  {
   "cell_type": "code",
   "execution_count": null,
   "metadata": {
    "collapsed": true
   },
   "outputs": [],
   "source": []
  }
 ],
 "metadata": {
  "kernelspec": {
   "display_name": "GPU3",
   "language": "python",
   "name": "gpu3"
  },
  "language_info": {
   "codemirror_mode": {
    "name": "ipython",
    "version": 3
   },
   "file_extension": ".py",
   "mimetype": "text/x-python",
   "name": "python",
   "nbconvert_exporter": "python",
   "pygments_lexer": "ipython3",
   "version": "3.6.1"
  }
 },
 "nbformat": 4,
 "nbformat_minor": 2
}
