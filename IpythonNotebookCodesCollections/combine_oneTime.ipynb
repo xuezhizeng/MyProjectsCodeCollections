{
 "cells": [
  {
   "cell_type": "code",
   "execution_count": 1,
   "metadata": {
    "collapsed": true
   },
   "outputs": [],
   "source": [
    "import pandas as pd"
   ]
  },
  {
   "cell_type": "code",
   "execution_count": 3,
   "metadata": {},
   "outputs": [
    {
     "name": "stdout",
     "output_type": "stream",
     "text": [
      "(186855, 42)\n",
      "CPU times: user 1min 42s, sys: 888 ms, total: 1min 42s\n",
      "Wall time: 1min 42s\n"
     ]
    }
   ],
   "source": [
    "%%time\n",
    "df = pd.read_excel('./clean_Json_all_cookie_Dec_16_2017.xlsx')\n",
    "print df.shape"
   ]
  },
  {
   "cell_type": "code",
   "execution_count": 2,
   "metadata": {},
   "outputs": [
    {
     "name": "stdout",
     "output_type": "stream",
     "text": [
      "Archive:  csv.zip\n",
      "  inflating: clean_Json_all_cookie_Dec_16_2017.csv  \n"
     ]
    }
   ],
   "source": [
    "!unzip csv.zip"
   ]
  },
  {
   "cell_type": "code",
   "execution_count": 3,
   "metadata": {},
   "outputs": [
    {
     "name": "stdout",
     "output_type": "stream",
     "text": [
      "(186855, 42)\n",
      "CPU times: user 8.44 s, sys: 300 ms, total: 8.74 s\n",
      "Wall time: 8.75 s\n"
     ]
    }
   ],
   "source": [
    "%%time\n",
    "df = pd.read_csv('./clean_Json_all_cookie_Dec_16_2017.csv')\n",
    "print df.shape"
   ]
  },
  {
   "cell_type": "code",
   "execution_count": 21,
   "metadata": {
    "collapsed": true
   },
   "outputs": [],
   "source": [
    "# df[df['username']=='kimo37']"
   ]
  },
  {
   "cell_type": "code",
   "execution_count": 4,
   "metadata": {},
   "outputs": [
    {
     "data": {
      "text/plain": [
       "kimo37              6\n",
       "mvantuyl            6\n",
       "noce2k              6\n",
       "hammansamuel        5\n",
       "guny                5\n",
       "eddie7878           5\n",
       "kwestarz            5\n",
       "walter50            5\n",
       "debolina80          5\n",
       "mackemforever       4\n",
       "bartlj              4\n",
       "alia07              4\n",
       "jumper2020          4\n",
       "vijaydahe           4\n",
       "magarra             4\n",
       "matheo2005          4\n",
       "sbwriter            4\n",
       "farhan8             4\n",
       "coababan            4\n",
       "tecimag             4\n",
       "sankumarnt          4\n",
       "b06dqn              4\n",
       "lscommunications    4\n",
       "manilazoo           4\n",
       "alexboisselle       4\n",
       "kirangoti           4\n",
       "bitstechs           4\n",
       "staticpro           4\n",
       "ashishagrawal52     4\n",
       "apputhumu111        4\n",
       "                   ..\n",
       "multiaccess         1\n",
       "brianwider          1\n",
       "eboughey            1\n",
       "joaike              1\n",
       "liwaywayk           1\n",
       "viabsoft            1\n",
       "tonyrafqpr          1\n",
       "mhshohels           1\n",
       "varunvarde2007      1\n",
       "dhavalcomputers     1\n",
       "bart999             1\n",
       "gfaraway            1\n",
       "danieldipo          1\n",
       "mujtba              1\n",
       "shambi              1\n",
       "projectscope        1\n",
       "firex1979           1\n",
       "ninjadog            1\n",
       "mohanraj0821        1\n",
       "khulan              1\n",
       "alankelly           1\n",
       "anrovere21          1\n",
       "ibbuzz              1\n",
       "jeffnaslund         1\n",
       "holdenbutler        1\n",
       "visualtechnics      1\n",
       "ashmaulhusna        1\n",
       "armaanammy          1\n",
       "andrespanasiuk      1\n",
       "iti89dgwebtech      1\n",
       "Name: username, Length: 169518, dtype: int64"
      ]
     },
     "execution_count": 4,
     "metadata": {},
     "output_type": "execute_result"
    }
   ],
   "source": [
    "df['username'].value_counts()"
   ]
  },
  {
   "cell_type": "code",
   "execution_count": 3,
   "metadata": {},
   "outputs": [
    {
     "data": {
      "text/plain": [
       "Index([u'about.avatar', u'about.avatar_cdn', u'about.avatar_large',\n",
       "       u'about.avatar_large_cdn', u'about.chosen_role', u'about.company',\n",
       "       u'about.corporate', u'about.cover_image', u'about.display_name',\n",
       "       u'about.hourly_rate', u'about.id', u'about.location',\n",
       "       u'about.preferred_freelancer', u'about.primary_currency',\n",
       "       u'about.primary_language', u'about.profile_description',\n",
       "       u'about.public_name', u'about.recommendations',\n",
       "       u'about.registration_date', u'about.registration_date_human',\n",
       "       u'about.registration_date_localized', u'about.reputation',\n",
       "       u'about.responsiveness', u'about.responsivenessText', u'about.role',\n",
       "       u'about.status', u'about.tagline', u'about.timezone', u'about.username',\n",
       "       u'about.username_sentence', u'hourlyRate', u'resume.certifications',\n",
       "       u'resume.education', u'resume.exams', u'resume.experience',\n",
       "       u'resume.publications', u'resume.show', u'skills', u'timeOffset',\n",
       "       u'userId', u'username', u'public_firstname'],\n",
       "      dtype='object')"
      ]
     },
     "execution_count": 3,
     "metadata": {},
     "output_type": "execute_result"
    }
   ],
   "source": [
    "gd.columns"
   ]
  },
  {
   "cell_type": "code",
   "execution_count": 6,
   "metadata": {},
   "outputs": [
    {
     "data": {
      "text/plain": [
       "(172824, 42)"
      ]
     },
     "execution_count": 6,
     "metadata": {},
     "output_type": "execute_result"
    }
   ],
   "source": [
    "df1 = df[(df['username'].str.lower()==df['about.username'].str.lower()) & (df['about.id']==df['userId'])]\n",
    "df1.shape"
   ]
  },
  {
   "cell_type": "code",
   "execution_count": 7,
   "metadata": {},
   "outputs": [
    {
     "data": {
      "text/plain": [
       "4467"
      ]
     },
     "execution_count": 7,
     "metadata": {},
     "output_type": "execute_result"
    }
   ],
   "source": [
    "(df1['username'].value_counts()>1).sum()"
   ]
  },
  {
   "cell_type": "code",
   "execution_count": 8,
   "metadata": {},
   "outputs": [
    {
     "data": {
      "text/plain": [
       "(169495, 42)"
      ]
     },
     "execution_count": 8,
     "metadata": {},
     "output_type": "execute_result"
    }
   ],
   "source": [
    "df2=df1.drop_duplicates()\n",
    "df2.shape"
   ]
  },
  {
   "cell_type": "code",
   "execution_count": 9,
   "metadata": {},
   "outputs": [
    {
     "data": {
      "text/plain": [
       "168241"
      ]
     },
     "execution_count": 9,
     "metadata": {},
     "output_type": "execute_result"
    }
   ],
   "source": [
    "len(df2['username'].unique())"
   ]
  },
  {
   "cell_type": "code",
   "execution_count": 10,
   "metadata": {},
   "outputs": [
    {
     "data": {
      "text/plain": [
       "1242"
      ]
     },
     "execution_count": 10,
     "metadata": {},
     "output_type": "execute_result"
    }
   ],
   "source": [
    "(df2['username'].value_counts()>1).sum()"
   ]
  },
  {
   "cell_type": "code",
   "execution_count": 11,
   "metadata": {},
   "outputs": [
    {
     "data": {
      "text/plain": [
       "12"
      ]
     },
     "execution_count": 11,
     "metadata": {},
     "output_type": "execute_result"
    }
   ],
   "source": [
    "(df2['username'].value_counts()>2).sum()"
   ]
  },
  {
   "cell_type": "code",
   "execution_count": 136,
   "metadata": {
    "collapsed": true
   },
   "outputs": [],
   "source": [
    "# df2[df2['username']==\"tanaaz1\"]"
   ]
  },
  {
   "cell_type": "code",
   "execution_count": 137,
   "metadata": {
    "collapsed": true
   },
   "outputs": [],
   "source": [
    "pd.options.display.max_columns=100"
   ]
  },
  {
   "cell_type": "code",
   "execution_count": 138,
   "metadata": {
    "collapsed": true
   },
   "outputs": [],
   "source": [
    "# df2[df2['username']==\"janetmilongo\"]"
   ]
  },
  {
   "cell_type": "code",
   "execution_count": 139,
   "metadata": {
    "collapsed": true
   },
   "outputs": [],
   "source": [
    "# df2['username'].value_counts()"
   ]
  },
  {
   "cell_type": "code",
   "execution_count": 140,
   "metadata": {
    "collapsed": true,
    "scrolled": false
   },
   "outputs": [],
   "source": [
    "# df2['username'].value_counts()[df2['username'].value_counts()==2]"
   ]
  },
  {
   "cell_type": "code",
   "execution_count": 12,
   "metadata": {},
   "outputs": [
    {
     "data": {
      "text/plain": [
       "168241"
      ]
     },
     "execution_count": 12,
     "metadata": {},
     "output_type": "execute_result"
    }
   ],
   "source": [
    "keep_index = df2['username'].drop_duplicates().index\n",
    "len(keep_index)"
   ]
  },
  {
   "cell_type": "code",
   "execution_count": 13,
   "metadata": {},
   "outputs": [
    {
     "data": {
      "text/plain": [
       "Int64Index([     0,      1,      2,      3,      4,      7,      9,     11,\n",
       "                12,     13,\n",
       "            ...\n",
       "            186845, 186846, 186847, 186848, 186849, 186850, 186851, 186852,\n",
       "            186853, 186854],\n",
       "           dtype='int64', length=168241)"
      ]
     },
     "execution_count": 13,
     "metadata": {},
     "output_type": "execute_result"
    }
   ],
   "source": [
    "keep_index"
   ]
  },
  {
   "cell_type": "code",
   "execution_count": 14,
   "metadata": {},
   "outputs": [
    {
     "data": {
      "text/plain": [
       "(168241, 42)"
      ]
     },
     "execution_count": 14,
     "metadata": {},
     "output_type": "execute_result"
    }
   ],
   "source": [
    "df3=df2.loc[keep_index, :]\n",
    "df3.shape"
   ]
  },
  {
   "cell_type": "code",
   "execution_count": 148,
   "metadata": {
    "collapsed": true
   },
   "outputs": [],
   "source": [
    "# df3['username'].to_csv('CombineAll_username.csv', index=False)"
   ]
  },
  {
   "cell_type": "code",
   "execution_count": 14,
   "metadata": {
    "collapsed": true
   },
   "outputs": [],
   "source": [
    "import sys\n",
    "reload(sys)\n",
    "sys.setdefaultencoding('utf8')"
   ]
  },
  {
   "cell_type": "code",
   "execution_count": 15,
   "metadata": {
    "collapsed": true
   },
   "outputs": [],
   "source": [
    "# %%time\n",
    "# df3.to_csv('combine_login_data.csv', index=False)"
   ]
  },
  {
   "cell_type": "markdown",
   "metadata": {},
   "source": [
    "### excel"
   ]
  },
  {
   "cell_type": "code",
   "execution_count": 16,
   "metadata": {
    "collapsed": true
   },
   "outputs": [],
   "source": [
    "# import sys\n",
    "# reload(sys)\n",
    "# sys.setdefaultencoding('utf8')\n",
    "\n",
    "# from unidecode import unidecode\n",
    "# def FormatString(s):\n",
    "#     if isinstance(s, unicode):\n",
    "#         try:\n",
    "#             s.encode('ascii')\n",
    "#             return s\n",
    "#         except:\n",
    "#             return unidecode(s)\n",
    "#     else:\n",
    "#         return s\n",
    "\n",
    "# df3 = df.applymap(FormatString)\n",
    "# print 'convert to xlsx'\n",
    "# df3.to_excel('combine_login_data.xlsx', index=False)\n",
    "# print 'done saving to xlsx'\n"
   ]
  },
  {
   "cell_type": "code",
   "execution_count": 19,
   "metadata": {
    "collapsed": true
   },
   "outputs": [],
   "source": [
    "# df3"
   ]
  },
  {
   "cell_type": "code",
   "execution_count": 17,
   "metadata": {},
   "outputs": [
    {
     "data": {
      "text/plain": [
       "(168241, 42)"
      ]
     },
     "execution_count": 17,
     "metadata": {},
     "output_type": "execute_result"
    }
   ],
   "source": [
    "df3.shape"
   ]
  },
  {
   "cell_type": "code",
   "execution_count": 18,
   "metadata": {
    "collapsed": true
   },
   "outputs": [],
   "source": [
    "# df3.to_excel('combine_login_data.xlsx', index=False)"
   ]
  },
  {
   "cell_type": "code",
   "execution_count": null,
   "metadata": {
    "collapsed": true
   },
   "outputs": [],
   "source": []
  }
 ],
 "metadata": {
  "kernelspec": {
   "display_name": "Python 2",
   "language": "python",
   "name": "python2"
  },
  "language_info": {
   "codemirror_mode": {
    "name": "ipython",
    "version": 2
   },
   "file_extension": ".py",
   "mimetype": "text/x-python",
   "name": "python",
   "nbconvert_exporter": "python",
   "pygments_lexer": "ipython2",
   "version": "2.7.13"
  }
 },
 "nbformat": 4,
 "nbformat_minor": 2
}
