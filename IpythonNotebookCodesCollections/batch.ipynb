{
 "cells": [
  {
   "cell_type": "code",
   "execution_count": 1,
   "metadata": {
    "collapsed": true
   },
   "outputs": [],
   "source": [
    "import requests\n",
    "import json\n",
    "from json2df import flatten_dict\n",
    "import pandas as pd\n",
    "from lxml import etree"
   ]
  },
  {
   "cell_type": "code",
   "execution_count": 4,
   "metadata": {
    "collapsed": true
   },
   "outputs": [],
   "source": [
    "fd = '../download_soyoung/15W_htmls_diary/7085323.html'"
   ]
  },
  {
   "cell_type": "code",
   "execution_count": 229,
   "metadata": {},
   "outputs": [],
   "source": [
    "class Hparser(object):\n",
    "    collection = []\n",
    "    df=None\n",
    "    N=0\n",
    "    def __init__(self, html):\n",
    "        self.coll = []\n",
    "        self.diaryID = html.split('/')[-1].split('.html')[0]\n",
    "        try:\n",
    "            with open(html) as fh:self.tree = etree.HTML(fh.read())\n",
    "        except Exception as e:\n",
    "            print e, 'X0'\n",
    "            print diaryID        \n",
    "        print self.diaryID, self.tree\n",
    "        \n",
    "        \n",
    "        self.main()\n",
    "        \n",
    "        \n",
    "    @classmethod\n",
    "    def _update(cls, new):\n",
    "        cls.N += 1\n",
    "        cls.collection+=new\n",
    "        \n",
    "    def _product(self):\n",
    "        try: self.pid = self.tree.xpath('//div[@class=\"value product-name\"]/a/@href')[0].split('/')[-1]\n",
    "        except: print 'X pid'\n",
    "    def _content(self):\n",
    "        try:self.content = self.tree.xpath('//li[@class=\"diary-item\"]'); self.dn = len(self.content)\n",
    "        except: print 'X content'\n",
    "            \n",
    "    def _image(self, node):\n",
    "        dic={}\n",
    "        dic['diary_id']=self.diaryID\n",
    "        dic['product_id']=self.pid\n",
    "        \n",
    "        dic['type']='image_post'\n",
    "        dic['title']=node[0].xpath('text()')[0]\n",
    "        dic['text']=node[1][0].xpath('text()')[0]\n",
    "        dic['post_id']=node[1][0].xpath('./@href')[0].split('?')[0].split('/')[-1]\n",
    "        for n, i in enumerate(node[2]):\n",
    "            dic['image_'+str(n+1)] = i[0][0].xpath('./@data-img')[0]\n",
    "        n=0\n",
    "        for i in node[3]:\n",
    "            if i.tag=='div': dic['time']=i.xpath('text()')[0]\n",
    "            else:\n",
    "                if len(i)!=0:\n",
    "                    n+=1\n",
    "                    if n==1:\n",
    "                        dic['views']=i[0].xpath('text()')[0]\n",
    "                    elif n==2:\n",
    "                        dic['comments']=i[0].xpath('text()')[0]\n",
    "                    else:\n",
    "                        dic['favor']=i[0].xpath('text()')[0]\n",
    "        return dic        \n",
    "    def _video(self, node):\n",
    "        dic={}\n",
    "        dic['diary_id']=self.diaryID\n",
    "        dic['product_id']=self.pid\n",
    "        dic['type']='video_post'\n",
    "        dic['text']=node[1][0].xpath('text()')[0]\n",
    "        dic['title']=node[0].xpath('text()')[0]\n",
    "        dic['post_id']=node[1][0].xpath('./@href')[0].split('?')[0].split('/')[-1]\n",
    "        \n",
    "        dic['video_link']=node[2][0].xpath('./@href')[0]\n",
    "        dic['video_image']=node[2][0].xpath('./img')[0].xpath('./@data-img')[0]   \n",
    "        \n",
    "        n=0\n",
    "        for i in node[3]:\n",
    "            if i.tag=='div': dic['time']=i.xpath('text()')[0]\n",
    "            else:\n",
    "                if len(i)!=0:\n",
    "                    n+=1\n",
    "                    if n==1:\n",
    "                        dic['views']=i[0].xpath('text()')[0]\n",
    "                    elif n==2:\n",
    "                        dic['comments']=i[0].xpath('text()')[0]\n",
    "                    else:\n",
    "                        dic['favor']=i[0].xpath('text()')[0]        \n",
    "        return dic\n",
    "    \n",
    "    def loop(self):\n",
    "        for p in self.content:\n",
    "            \n",
    "            if p[2].tag == 'ul':\n",
    "                self.coll.append(self._image(p))\n",
    "            else:\n",
    "                self.coll.append(self._video(p))\n",
    "                \n",
    "    def main(self):\n",
    "        self._product()\n",
    "        self._content()\n",
    "        self.loop()\n",
    "        self._update(self.coll)\n",
    "        \n",
    "    def __repr__(self):\n",
    "        return \"diary: {} of product: {} has {} posts, all {} posts finished parsing\"\\\n",
    "    .format(self.diaryID, self.pid, self.dn, self.N)"
   ]
  },
  {
   "cell_type": "code",
   "execution_count": 230,
   "metadata": {},
   "outputs": [
    {
     "data": {
      "text/plain": [
       "'../download_soyoung/15W_htmls_diary/7085323.html'"
      ]
     },
     "execution_count": 230,
     "metadata": {},
     "output_type": "execute_result"
    }
   ],
   "source": [
    "fd"
   ]
  },
  {
   "cell_type": "code",
   "execution_count": 231,
   "metadata": {},
   "outputs": [
    {
     "name": "stdout",
     "output_type": "stream",
     "text": [
      "7085323 <Element html at 0x2aff92593440>\n"
     ]
    },
    {
     "data": {
      "text/plain": [
       "diary: 7085323 of product: cp55737 has 2 posts, all 1 posts finished parsing"
      ]
     },
     "execution_count": 231,
     "metadata": {},
     "output_type": "execute_result"
    }
   ],
   "source": [
    "x = Hparser(fd)\n",
    "x"
   ]
  },
  {
   "cell_type": "code",
   "execution_count": 232,
   "metadata": {},
   "outputs": [
    {
     "data": {
      "text/plain": [
       "1"
      ]
     },
     "execution_count": 232,
     "metadata": {},
     "output_type": "execute_result"
    }
   ],
   "source": [
    "x.N"
   ]
  },
  {
   "cell_type": "code",
   "execution_count": 234,
   "metadata": {},
   "outputs": [],
   "source": [
    "# x.coll"
   ]
  },
  {
   "cell_type": "code",
   "execution_count": 239,
   "metadata": {},
   "outputs": [
    {
     "data": {
      "text/html": [
       "<div>\n",
       "<style scoped>\n",
       "    .dataframe tbody tr th:only-of-type {\n",
       "        vertical-align: middle;\n",
       "    }\n",
       "\n",
       "    .dataframe tbody tr th {\n",
       "        vertical-align: top;\n",
       "    }\n",
       "\n",
       "    .dataframe thead th {\n",
       "        text-align: right;\n",
       "    }\n",
       "</style>\n",
       "<table border=\"1\" class=\"dataframe\">\n",
       "  <thead>\n",
       "    <tr style=\"text-align: right;\">\n",
       "      <th></th>\n",
       "      <th>comments</th>\n",
       "      <th>diary_id</th>\n",
       "      <th>favor</th>\n",
       "      <th>image_1</th>\n",
       "      <th>image_2</th>\n",
       "      <th>image_3</th>\n",
       "      <th>image_4</th>\n",
       "      <th>image_5</th>\n",
       "      <th>image_6</th>\n",
       "      <th>image_7</th>\n",
       "      <th>...</th>\n",
       "      <th>image_9</th>\n",
       "      <th>post_id</th>\n",
       "      <th>product_id</th>\n",
       "      <th>text</th>\n",
       "      <th>time</th>\n",
       "      <th>title</th>\n",
       "      <th>type</th>\n",
       "      <th>video_image</th>\n",
       "      <th>video_link</th>\n",
       "      <th>views</th>\n",
       "    </tr>\n",
       "  </thead>\n",
       "  <tbody>\n",
       "    <tr>\n",
       "      <th>0</th>\n",
       "      <td>1</td>\n",
       "      <td>7085323</td>\n",
       "      <td>0</td>\n",
       "      <td>http://img2.soyoung.com/tieba/web/20171225/5/2...</td>\n",
       "      <td>http://img2.soyoung.com/tieba/web/20171225/9/2...</td>\n",
       "      <td>http://img2.soyoung.com/tieba/web/20171225/8/2...</td>\n",
       "      <td>http://img2.soyoung.com/tieba/web/20171225/8/2...</td>\n",
       "      <td>http://img2.soyoung.com/tieba/web/20171225/0/2...</td>\n",
       "      <td>http://img2.soyoung.com/tieba/web/20171225/7/2...</td>\n",
       "      <td>http://img2.soyoung.com/tieba/web/20171225/0/2...</td>\n",
       "      <td>...</td>\n",
       "      <td>http://img2.soyoung.com/tieba/web/20171225/7/2...</td>\n",
       "      <td>p16211010</td>\n",
       "      <td>cp55737</td>\n",
       "      <td>【玻尿酸丰苹果肌第40天】圣诞节快乐，男神女神们，昨天晚上你们是怎么度过的？为什么我袜子都准...</td>\n",
       "      <td>2017-12-25 18:01:47</td>\n",
       "      <td>术后第40天</td>\n",
       "      <td>image_post</td>\n",
       "      <td>NaN</td>\n",
       "      <td>NaN</td>\n",
       "      <td>15</td>\n",
       "    </tr>\n",
       "    <tr>\n",
       "      <th>1</th>\n",
       "      <td>2</td>\n",
       "      <td>7085323</td>\n",
       "      <td>1</td>\n",
       "      <td>NaN</td>\n",
       "      <td>NaN</td>\n",
       "      <td>NaN</td>\n",
       "      <td>NaN</td>\n",
       "      <td>NaN</td>\n",
       "      <td>NaN</td>\n",
       "      <td>NaN</td>\n",
       "      <td>...</td>\n",
       "      <td>NaN</td>\n",
       "      <td>p16125464</td>\n",
       "      <td>cp55737</td>\n",
       "      <td>【玻尿酸丰苹果肌第35天】特意撸了一个小视频，哈哈哈，让大家欣赏一下！美无止境，适可而止。变...</td>\n",
       "      <td>2017-12-20 16:23:02</td>\n",
       "      <td>术后第35天</td>\n",
       "      <td>video_post</td>\n",
       "      <td>http://img2.soyoung.com/message/ios/20171220/9...</td>\n",
       "      <td>/p16125464?group_id=7085323#VideoAnchor</td>\n",
       "      <td>23</td>\n",
       "    </tr>\n",
       "  </tbody>\n",
       "</table>\n",
       "<p>2 rows × 21 columns</p>\n",
       "</div>"
      ],
      "text/plain": [
       "  comments diary_id favor                                            image_1  \\\n",
       "0        1  7085323     0  http://img2.soyoung.com/tieba/web/20171225/5/2...   \n",
       "1        2  7085323     1                                                NaN   \n",
       "\n",
       "                                             image_2  \\\n",
       "0  http://img2.soyoung.com/tieba/web/20171225/9/2...   \n",
       "1                                                NaN   \n",
       "\n",
       "                                             image_3  \\\n",
       "0  http://img2.soyoung.com/tieba/web/20171225/8/2...   \n",
       "1                                                NaN   \n",
       "\n",
       "                                             image_4  \\\n",
       "0  http://img2.soyoung.com/tieba/web/20171225/8/2...   \n",
       "1                                                NaN   \n",
       "\n",
       "                                             image_5  \\\n",
       "0  http://img2.soyoung.com/tieba/web/20171225/0/2...   \n",
       "1                                                NaN   \n",
       "\n",
       "                                             image_6  \\\n",
       "0  http://img2.soyoung.com/tieba/web/20171225/7/2...   \n",
       "1                                                NaN   \n",
       "\n",
       "                                             image_7  ...   \\\n",
       "0  http://img2.soyoung.com/tieba/web/20171225/0/2...  ...    \n",
       "1                                                NaN  ...    \n",
       "\n",
       "                                             image_9    post_id product_id  \\\n",
       "0  http://img2.soyoung.com/tieba/web/20171225/7/2...  p16211010    cp55737   \n",
       "1                                                NaN  p16125464    cp55737   \n",
       "\n",
       "                                                text                 time  \\\n",
       "0  【玻尿酸丰苹果肌第40天】圣诞节快乐，男神女神们，昨天晚上你们是怎么度过的？为什么我袜子都准...  2017-12-25 18:01:47   \n",
       "1  【玻尿酸丰苹果肌第35天】特意撸了一个小视频，哈哈哈，让大家欣赏一下！美无止境，适可而止。变...  2017-12-20 16:23:02   \n",
       "\n",
       "    title        type                                        video_image  \\\n",
       "0  术后第40天  image_post                                                NaN   \n",
       "1  术后第35天  video_post  http://img2.soyoung.com/message/ios/20171220/9...   \n",
       "\n",
       "                                video_link views  \n",
       "0                                      NaN    15  \n",
       "1  /p16125464?group_id=7085323#VideoAnchor    23  \n",
       "\n",
       "[2 rows x 21 columns]"
      ]
     },
     "execution_count": 239,
     "metadata": {},
     "output_type": "execute_result"
    }
   ],
   "source": [
    "pd.DataFrame(Hparser.collection)"
   ]
  },
  {
   "cell_type": "code",
   "execution_count": 238,
   "metadata": {},
   "outputs": [],
   "source": [
    "# Hparser.collection"
   ]
  },
  {
   "cell_type": "code",
   "execution_count": 197,
   "metadata": {},
   "outputs": [
    {
     "data": {
      "text/plain": [
       "<Element li at 0x2aff9259d128>"
      ]
     },
     "execution_count": 197,
     "metadata": {},
     "output_type": "execute_result"
    }
   ],
   "source": [
    "t"
   ]
  },
  {
   "cell_type": "code",
   "execution_count": 117,
   "metadata": {},
   "outputs": [
    {
     "data": {
      "text/plain": [
       "['a', 'b']"
      ]
     },
     "execution_count": 117,
     "metadata": {},
     "output_type": "execute_result"
    }
   ],
   "source": [
    "'a b'.split(' ')"
   ]
  },
  {
   "cell_type": "code",
   "execution_count": 118,
   "metadata": {},
   "outputs": [
    {
     "data": {
      "text/plain": [
       "['2017-12-25 18:01:47']"
      ]
     },
     "execution_count": 118,
     "metadata": {},
     "output_type": "execute_result"
    }
   ],
   "source": [
    "t[3].xpath('div/text()')"
   ]
  },
  {
   "cell_type": "code",
   "execution_count": 145,
   "metadata": {},
   "outputs": [
    {
     "name": "stdout",
     "output_type": "stream",
     "text": [
      "div ['2017-12-25 18:01:47']\n",
      "span []\n",
      "span []\n",
      "['15'] <Element a at 0x2aff923907a0>\n",
      "span []\n",
      "span []\n",
      "['1'] <Element a at 0x2aff92390dd0>\n",
      "span []\n",
      "span []\n",
      "['0'] <Element a at 0x2aff92390f38>\n"
     ]
    }
   ],
   "source": [
    "for i in t[3]:\n",
    "    print i.tag,i.xpath('text()')\n",
    "    if len(i)!=0:print i[0].xpath('text()'), i[0]"
   ]
  },
  {
   "cell_type": "code",
   "execution_count": 120,
   "metadata": {},
   "outputs": [
    {
     "data": {
      "text/plain": [
       "<Element html at 0x2aff9258c170>"
      ]
     },
     "execution_count": 120,
     "metadata": {},
     "output_type": "execute_result"
    }
   ],
   "source": [
    "# a = requests.get(link)\n",
    "c = etree.HTML(text)\n",
    "c"
   ]
  },
  {
   "cell_type": "code",
   "execution_count": 207,
   "metadata": {},
   "outputs": [
    {
     "name": "stdout",
     "output_type": "stream",
     "text": [
      "<!-- <img src=\"//static.soyoung.com/pc/static/img/dp/before.jpg\" alt=\"\"> -->\n",
      "<Element img at 0x2aff92b2cc20>\n",
      "<Element span at 0x2aff92b2ca28>\n"
     ]
    }
   ],
   "source": [
    "for i in d[2][0]:\n",
    "    print i"
   ]
  },
  {
   "cell_type": "markdown",
   "metadata": {},
   "source": [
    "### map product"
   ]
  },
  {
   "cell_type": "code",
   "execution_count": 67,
   "metadata": {},
   "outputs": [
    {
     "data": {
      "text/plain": [
       "'http://y.soyoung.com/cp55737'"
      ]
     },
     "execution_count": 67,
     "metadata": {},
     "output_type": "execute_result"
    }
   ],
   "source": [
    "i = c.xpath('//div[@class=\"value product-name\"]/a/@href')[0]\n",
    "i"
   ]
  },
  {
   "cell_type": "code",
   "execution_count": 57,
   "metadata": {},
   "outputs": [
    {
     "data": {
      "text/plain": [
       "[('href', 'http://y.soyoung.com/cp55737')]"
      ]
     },
     "execution_count": 57,
     "metadata": {},
     "output_type": "execute_result"
    }
   ],
   "source": [
    "i[0].items()"
   ]
  },
  {
   "cell_type": "code",
   "execution_count": 7,
   "metadata": {},
   "outputs": [
    {
     "name": "stdout",
     "output_type": "stream",
     "text": [
      "【伊婉玻尿酸1ml】韩国进口玻尿酸 丰下巴头丰眉弓丰苹果肌隆鼻泪沟法令纹 大分子玻尿酸\n"
     ]
    }
   ],
   "source": [
    "print i[0].text"
   ]
  },
  {
   "cell_type": "markdown",
   "metadata": {},
   "source": [
    "### find posts"
   ]
  },
  {
   "cell_type": "code",
   "execution_count": 8,
   "metadata": {
    "collapsed": true
   },
   "outputs": [],
   "source": [
    "# //*[@id=\"mengceng-box\"]/div[2]/ul/li[2]"
   ]
  },
  {
   "cell_type": "code",
   "execution_count": 75,
   "metadata": {
    "collapsed": true
   },
   "outputs": [],
   "source": [
    "j = c.xpath('//li[@class=\"diary-item\"]')"
   ]
  },
  {
   "cell_type": "code",
   "execution_count": 76,
   "metadata": {},
   "outputs": [
    {
     "data": {
      "text/plain": [
       "2"
      ]
     },
     "execution_count": 76,
     "metadata": {},
     "output_type": "execute_result"
    }
   ],
   "source": [
    "len(j)"
   ]
  },
  {
   "cell_type": "code",
   "execution_count": 198,
   "metadata": {},
   "outputs": [],
   "source": [
    "t, d = j[0], j[1]"
   ]
  },
  {
   "cell_type": "code",
   "execution_count": 199,
   "metadata": {},
   "outputs": [
    {
     "data": {
      "text/plain": [
       "'li'"
      ]
     },
     "execution_count": 199,
     "metadata": {},
     "output_type": "execute_result"
    }
   ],
   "source": [
    "t.tag"
   ]
  },
  {
   "cell_type": "code",
   "execution_count": 96,
   "metadata": {},
   "outputs": [
    {
     "data": {
      "text/plain": [
       "['http://img2.soyoung.com/tieba/web/20171225/5/20171225175922590_152_152.jpg']"
      ]
     },
     "execution_count": 96,
     "metadata": {},
     "output_type": "execute_result"
    }
   ],
   "source": [
    "t[2][0][0][0].xpath('./@data-img')"
   ]
  },
  {
   "cell_type": "code",
   "execution_count": 12,
   "metadata": {},
   "outputs": [
    {
     "name": "stdout",
     "output_type": "stream",
     "text": [
      "['__class__', '__contains__', '__copy__', '__deepcopy__', '__delattr__', '__delitem__', '__doc__', '__format__', '__getattribute__', '__getitem__', '__hash__', '__init__', '__iter__', '__len__', '__new__', '__nonzero__', '__reduce__', '__reduce_ex__', '__repr__', '__reversed__', '__setattr__', '__setitem__', '__sizeof__', '__str__', '__subclasshook__', '_init', 'addnext', 'addprevious', 'append', 'attrib', 'base', 'clear', 'cssselect', 'extend', 'find', 'findall', 'findtext', 'get', 'getchildren', 'getiterator', 'getnext', 'getparent', 'getprevious', 'getroottree', 'index', 'insert', 'items', 'iter', 'iterancestors', 'iterchildren', 'iterdescendants', 'iterfind', 'itersiblings', 'itertext', 'keys', 'makeelement', 'nsmap', 'prefix', 'remove', 'replace', 'set', 'sourceline', 'tag', 'tail', 'text', 'values', 'xpath']\n"
     ]
    }
   ],
   "source": [
    "print dir(t)"
   ]
  },
  {
   "cell_type": "markdown",
   "metadata": {},
   "source": [
    "https://www.w3schools.com/xml/xpath_syntax.asp"
   ]
  },
  {
   "cell_type": "code",
   "execution_count": 13,
   "metadata": {},
   "outputs": [
    {
     "name": "stdout",
     "output_type": "stream",
     "text": [
      "li\n",
      "span 术后第40天\n",
      "p a /p16211010?group_id=7085323 /p16211010?group_id=7085323 【玻尿酸丰苹果肌第40天】圣诞节快乐，男神女神们，昨天晚上你们是怎么度过的？为什么我袜子都准备好了，今早还是没见到圣诞老爷爷送我的礼物噢月到年底越努力越幸运，工作的时候开开心心的工作，玩的时候开开心心的玩。昨天是平安夜，特意与\n",
      "ul\n",
      "a /p16211010?group_id=7085323 img http://img2.soyoung.com/tieba/web/20171225/5/20171225175922590_152_152.jpg\n",
      "a /p16211010?group_id=7085323 img http://img2.soyoung.com/tieba/web/20171225/9/20171225175923870_152_152.jpg\n",
      "a /p16211010?group_id=7085323 img http://img2.soyoung.com/tieba/web/20171225/8/20171225175923197_152_152.jpg\n",
      "a /p16211010?group_id=7085323 img http://img2.soyoung.com/tieba/web/20171225/8/20171225175924432_152_152.jpg\n",
      "a /p16211010?group_id=7085323 img http://img2.soyoung.com/tieba/web/20171225/0/20171225175924134_152_152.jpg\n",
      "a /p16211010?group_id=7085323 img http://img2.soyoung.com/tieba/web/20171225/7/20171225175925273_152_152.jpg\n",
      "a /p16211010?group_id=7085323 img http://img2.soyoung.com/tieba/web/20171225/0/20171225175927736_152_152.jpg\n",
      "a /p16211010?group_id=7085323 img http://img2.soyoung.com/tieba/web/20171225/2/20171225175929990_152_152.jpg\n",
      "a /p16211010?group_id=7085323 img http://img2.soyoung.com/tieba/web/20171225/7/20171225175930648_152_152.jpg\n",
      "div 7\n",
      "2017-12-25 18:01:47\n",
      "icon views\n",
      "15\n",
      "icon comments\n",
      "1\n",
      "icon favor\n",
      "0\n"
     ]
    }
   ],
   "source": [
    "try:\n",
    "    print t.tag\n",
    "    print t[0].tag, t[0].text\n",
    "    print t[1].tag, t[1][0].tag, t[1][0].xpath('./@href')[0], t[1][0].items()[-1][-1],t[1][0].text\n",
    "    \n",
    "    print t[2].tag\n",
    "    for g in t[2]:\n",
    "        print g[0].tag, g[0].items()[-1][-1], g[0][0].tag, g[0][0].items()[2][-1]\n",
    "    print t[3].tag, len(t[3])\n",
    "    \n",
    "    for x in t[3]: \n",
    "        if x.tag=='div':print x.text\n",
    "        else: \n",
    "            if len(x)==0:print x.xpath('./@class')[0]\n",
    "            else:print x[0].text\n",
    "except:\n",
    "    print 'X'"
   ]
  },
  {
   "cell_type": "code",
   "execution_count": 14,
   "metadata": {},
   "outputs": [
    {
     "name": "stdout",
     "output_type": "stream",
     "text": [
      "<Element span at 0x2b0125d02998>\n",
      "<Element p at 0x2b0125d027a0>\n",
      "<Element ul at 0x2b0125591b90>\n",
      "<Element div at 0x2b0125d02998>\n"
     ]
    }
   ],
   "source": [
    "for i in t:print i"
   ]
  },
  {
   "cell_type": "code",
   "execution_count": null,
   "metadata": {
    "collapsed": true
   },
   "outputs": [],
   "source": []
  },
  {
   "cell_type": "code",
   "execution_count": 15,
   "metadata": {
    "collapsed": true
   },
   "outputs": [],
   "source": [
    "# for l in t:\n",
    "#     a = l.xpath('./span[@class=\"day\"]')\n",
    "#     b = l.xpath('./p[@class=\"describe\"]')\n",
    "#     print a\n",
    "#     print b\n",
    "#     print "
   ]
  },
  {
   "cell_type": "code",
   "execution_count": 16,
   "metadata": {
    "collapsed": true
   },
   "outputs": [],
   "source": [
    "a = [1,2,3,4]"
   ]
  },
  {
   "cell_type": "code",
   "execution_count": 17,
   "metadata": {},
   "outputs": [
    {
     "ename": "ValueError",
     "evalue": "list.remove(x): x not in list",
     "output_type": "error",
     "traceback": [
      "\u001b[0;31m\u001b[0m",
      "\u001b[0;31mValueError\u001b[0mTraceback (most recent call last)",
      "\u001b[0;32m<ipython-input-17-ae1fd24e9d23>\u001b[0m in \u001b[0;36m<module>\u001b[0;34m()\u001b[0m\n\u001b[0;32m----> 1\u001b[0;31m \u001b[0ma\u001b[0m\u001b[0;34m.\u001b[0m\u001b[0mremove\u001b[0m\u001b[0;34m(\u001b[0m\u001b[0;36m0\u001b[0m\u001b[0;34m)\u001b[0m\u001b[0;34m\u001b[0m\u001b[0m\n\u001b[0m",
      "\u001b[0;31mValueError\u001b[0m: list.remove(x): x not in list"
     ]
    }
   ],
   "source": [
    "a.remove(0)"
   ]
  },
  {
   "cell_type": "code",
   "execution_count": 18,
   "metadata": {},
   "outputs": [
    {
     "name": "stdout",
     "output_type": "stream",
     "text": [
      "http://y.soyoung.com/cp55737\n",
      "【伊婉玻尿酸1ml】韩国进口玻尿酸 丰下巴头丰眉弓丰苹果肌隆鼻泪沟法令纹 大分子玻尿酸\n"
     ]
    }
   ],
   "source": [
    "ID = 7085323\n",
    "\n",
    "link = \"http://www.soyoung.com/dpg{}\".format(ID)\n",
    "\n",
    "a = requests.get(link)\n",
    "c = etree.HTML(a.text)\n",
    "\n",
    "i = c.xpath('//div[@class=\"value product-name\"]/a')\n",
    "print i[0].items()[-1][-1]\n",
    "print i[0].text\n",
    "\n",
    "j = c.xpath('//li[@class=\"diary-item\"]')\n",
    "_, t = j[0], j[1]"
   ]
  },
  {
   "cell_type": "code",
   "execution_count": null,
   "metadata": {
    "collapsed": true
   },
   "outputs": [],
   "source": []
  },
  {
   "cell_type": "code",
   "execution_count": 19,
   "metadata": {
    "collapsed": true
   },
   "outputs": [],
   "source": [
    "# //*[@id=\"mengceng-box\"]/div[2]/ul/li[2]/p/a/text()"
   ]
  },
  {
   "cell_type": "markdown",
   "metadata": {},
   "source": [
    "### video"
   ]
  },
  {
   "cell_type": "code",
   "execution_count": 20,
   "metadata": {},
   "outputs": [
    {
     "name": "stdout",
     "output_type": "stream",
     "text": [
      "li\n",
      "span 术后第35天\n",
      "p a /p16125464?group_id=7085323 /p16125464?group_id=7085323\n",
      "【玻尿酸丰苹果肌第35天】特意撸了一个小视频，哈哈哈，让大家欣赏一下！美无止境，适可而止。变美丽了也要变忒别哦。因为喜欢Jay所以喜欢他那首《可爱女人》，祝愿大家都能够变美变漂亮变成男神喜欢的可爱女人噢！[:66]\n",
      "div\n",
      "1\n",
      "video-poster\n",
      "/p16125464?group_id=7085323#VideoAnchor\n",
      "http://img2.soyoung.com/message/ios/20171220/9/20171220162148367_600_300.jpg\n",
      "div 7\n",
      "<Element div at 0x2b01260662d8>\n",
      "2017-12-20 16:23:02\n",
      "icon views\n",
      "23\n",
      "icon comments\n",
      "2\n",
      "icon favor\n",
      "1\n"
     ]
    }
   ],
   "source": [
    "try:\n",
    "    print t.tag\n",
    "    print t[0].tag, t[0].text\n",
    "    print t[1].tag, t[1][0].tag, t[1][0].xpath('./@href')[0], t[1][0].items()[-1][-1]\n",
    "    print t[1][0].xpath('./text()')[0]\n",
    "    \n",
    "    print t[2].tag\n",
    "    if t[2].tag=='ul':\n",
    "        for g in t[2]:\n",
    "            print g[0].tag, g[0].items()[-1][-1], g[0][0].tag, g[0][0].items()[2][-1]\n",
    "        print t[3].tag, len(t[3])\n",
    "    else:\n",
    "        print len(t[2])\n",
    "        print t[2].xpath('./@class')[0]\n",
    "        print t[2][0].xpath('./@href')[0]\n",
    "        print t[2][0].xpath('./img')[0].xpath('./@data-img')[0]\n",
    "        \n",
    "    print t[3].tag, len(t[3])\n",
    "    \n",
    "    print t[3]\n",
    "\n",
    "    for x in t[3]: \n",
    "        if x.tag=='div':print x.text\n",
    "        else: \n",
    "            if len(x)==0:print x.xpath('./@class')[0]\n",
    "            else:print x[0].text\n",
    "except Exception as e:\n",
    "    print e\n",
    "    print 'X'"
   ]
  },
  {
   "cell_type": "code",
   "execution_count": 21,
   "metadata": {
    "collapsed": true
   },
   "outputs": [],
   "source": [
    "t=_"
   ]
  },
  {
   "cell_type": "code",
   "execution_count": 22,
   "metadata": {},
   "outputs": [
    {
     "name": "stdout",
     "output_type": "stream",
     "text": [
      "li\n",
      "span 术后第40天\n",
      "p a /p16211010?group_id=7085323 /p16211010?group_id=7085323\n",
      "【玻尿酸丰苹果肌第40天】圣诞节快乐，男神女神们，昨天晚上你们是怎么度过的？为什么我袜子都准备好了，今早还是没见到圣诞老爷爷送我的礼物噢月到年底越努力越幸运，工作的时候开开心心的工作，玩的时候开开心心的玩。昨天是平安夜，特意与\n",
      "ul\n",
      "a /p16211010?group_id=7085323 img http://img2.soyoung.com/tieba/web/20171225/5/20171225175922590_152_152.jpg\n",
      "a /p16211010?group_id=7085323 img http://img2.soyoung.com/tieba/web/20171225/9/20171225175923870_152_152.jpg\n",
      "a /p16211010?group_id=7085323 img http://img2.soyoung.com/tieba/web/20171225/8/20171225175923197_152_152.jpg\n",
      "a /p16211010?group_id=7085323 img http://img2.soyoung.com/tieba/web/20171225/8/20171225175924432_152_152.jpg\n",
      "a /p16211010?group_id=7085323 img http://img2.soyoung.com/tieba/web/20171225/0/20171225175924134_152_152.jpg\n",
      "a /p16211010?group_id=7085323 img http://img2.soyoung.com/tieba/web/20171225/7/20171225175925273_152_152.jpg\n",
      "a /p16211010?group_id=7085323 img http://img2.soyoung.com/tieba/web/20171225/0/20171225175927736_152_152.jpg\n",
      "a /p16211010?group_id=7085323 img http://img2.soyoung.com/tieba/web/20171225/2/20171225175929990_152_152.jpg\n",
      "a /p16211010?group_id=7085323 img http://img2.soyoung.com/tieba/web/20171225/7/20171225175930648_152_152.jpg\n",
      "div 7\n",
      "2017-12-25 18:01:47\n",
      "icon views\n",
      "15\n",
      "icon comments\n",
      "1\n",
      "icon favor\n",
      "0\n"
     ]
    }
   ],
   "source": [
    "try:\n",
    "    print t.tag\n",
    "    print t[0].tag, t[0].text\n",
    "    print t[1].tag, t[1][0].tag, t[1][0].xpath('./@href')[0], t[1][0].items()[-1][-1]\n",
    "    print t[1][0].xpath('./text()')[0]\n",
    "    \n",
    "    print t[2].tag\n",
    "    if t[2].tag=='ul':\n",
    "        for g in t[2]:\n",
    "            print g[0].tag, g[0].items()[-1][-1], g[0][0].tag, g[0][0].items()[2][-1]\n",
    "        print t[3].tag, len(t[3])\n",
    "    \n",
    "    for x in t[3]: \n",
    "        if x.tag=='div':print x.text\n",
    "        else: \n",
    "            if len(x)==0:print x.xpath('./@class')[0]\n",
    "            else:print x[0].text\n",
    "except:\n",
    "    print 'X'"
   ]
  },
  {
   "cell_type": "code",
   "execution_count": null,
   "metadata": {
    "collapsed": true
   },
   "outputs": [],
   "source": []
  }
 ],
 "metadata": {
  "kernelspec": {
   "display_name": "new2",
   "language": "python",
   "name": "new2"
  },
  "language_info": {
   "codemirror_mode": {
    "name": "ipython",
    "version": 2
   },
   "file_extension": ".py",
   "mimetype": "text/x-python",
   "name": "python",
   "nbconvert_exporter": "python",
   "pygments_lexer": "ipython2",
   "version": "2.7.14"
  }
 },
 "nbformat": 4,
 "nbformat_minor": 2
}
