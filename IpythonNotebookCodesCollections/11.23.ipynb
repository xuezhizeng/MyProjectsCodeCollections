{
 "cells": [
  {
   "cell_type": "code",
   "execution_count": 7,
   "metadata": {},
   "outputs": [
    {
     "name": "stdout",
     "output_type": "stream",
     "text": [
      "111   50.0500.0867.0\n",
      "\n",
      "\n",
      "50.0500.0 867.0 250.999 25.99\n",
      "434.499423299\n",
      "250.999\n",
      "25.99 434.499423299 127.489547769 14.8995786841\n",
      "219.243960556\n",
      "127.489547769\n",
      "14.8995786841 219.243960556 67.6627421317 10.7720309335\n",
      "113.57419861\n",
      "67.6627421317\n",
      "10.7720309335  41.2135726182113.574198619.98124920732\n",
      " \n",
      "41.213572618264.41647297089.98124920732 \n",
      " 32.726580063164.41647297089.94992368255\n",
      " \n",
      "32.726580063145.65976464339.94992368255 \n",
      " 31.626113065245.65976464339.94987437119\n",
      " \n",
      "31.626113065241.80720309349.94987437119 \n",
      " 31.606967057441.80720309349.94987437107\n",
      " \n",
      "31.606967057441.6296950398exit \n",
      " 31.606961258641.62969503981.22193810626e-10\n",
      " \n",
      "31.606961258641.6293165947 \n",
      "31.606961258641.6293165947\n",
      " exit41.629316593 \n",
      "5.3290705182e-13exit\n",
      " 1.72018843614e-09\n",
      "Type something to quit.e\n"
     ]
    }
   ],
   "source": [
    "from thread import start_new_thread\n",
    "\n",
    "def heron(a):\n",
    "    \"\"\"Calculates the square root of a\"\"\"\n",
    "    eps = 0.0000001\n",
    "    old = 1\n",
    "    new = 1\n",
    "    while True:\n",
    "        old,new = new, (new + a/new) / 2.0\n",
    "        print old, new\n",
    "        if abs(new - old) < eps:\n",
    "            print 'exit', abs(new - old)\n",
    "            break\n",
    "    return new\n",
    "\n",
    "start_new_thread(heron,(99,))\n",
    "start_new_thread(heron,(999,))\n",
    "start_new_thread(heron,(1733,))\n",
    "\n",
    "c = raw_input(\"Type something to quit.\")"
   ]
  },
  {
   "cell_type": "markdown",
   "metadata": {},
   "source": [
    "https://www.python-course.eu/threads.php"
   ]
  },
  {
   "cell_type": "code",
   "execution_count": 11,
   "metadata": {},
   "outputs": [
    {
     "name": "stderr",
     "output_type": "stream",
     "text": [
      "Unhandled exception in thread started by Unhandled exception in thread started by Unhandled exception in thread started by Unhandled exception in thread started by <function heron at 0x2b5ab0038320><function heron at 0x2b5ab0038320><function heron at 0x2b5ab0038320><function heron at 0x2b5ab0038320>\n",
      "\n",
      "\n",
      "\n"
     ]
    }
   ],
   "source": [
    "from thread import start_new_thread\n",
    "\n",
    "num_threads = 0\n",
    "def heron(a):\n",
    "    global num_threads\n",
    "    num_threads += 1\n",
    "    \n",
    "    # code has been left out, see above\n",
    "    num_threads -= 1\n",
    "    return new\n",
    "\n",
    "start_new_thread(heron,(99,))\n",
    "start_new_thread(heron,(999,))\n",
    "start_new_thread(heron,(1733,))\n",
    "start_new_thread(heron,(17334,))\n",
    "\n",
    "while num_threads > 0:\n",
    "    pass"
   ]
  },
  {
   "cell_type": "code",
   "execution_count": 3,
   "metadata": {
    "collapsed": true
   },
   "outputs": [],
   "source": [
    "# start_new_thread?"
   ]
  },
  {
   "cell_type": "code",
   "execution_count": 21,
   "metadata": {},
   "outputs": [
    {
     "name": "stdout",
     "output_type": "stream",
     "text": [
      "999173399  ! ! ! ? ?\n",
      "?\n",
      "\n"
     ]
    }
   ],
   "source": [
    "from thread import start_new_thread, allocate_lock\n",
    "num_threads = 0\n",
    "thread_started = False\n",
    "lock = allocate_lock()\n",
    "def heron(a):\n",
    "    global num_threads, thread_started\n",
    "    lock.acquire()\n",
    "    num_threads += 1\n",
    "    thread_started = True\n",
    "    lock.release()\n",
    "    \n",
    "    print a,'!', '?'\n",
    "\n",
    "    lock.acquire()\n",
    "    num_threads -= 1\n",
    "    lock.release()\n",
    "#     return new\n",
    "\n",
    "start_new_thread(heron,(99,))\n",
    "start_new_thread(heron,(999,))\n",
    "start_new_thread(heron,(1733,))\n",
    "\n",
    "while not thread_started:\n",
    "    pass\n",
    "while num_threads > 0:\n",
    "    pass"
   ]
  },
  {
   "cell_type": "code",
   "execution_count": 25,
   "metadata": {},
   "outputs": [
    {
     "name": "stdout",
     "output_type": "stream",
     "text": [
      "['__class__', '__delattr__', '__doc__', '__enter__', '__exit__', '__format__', '__getattribute__', '__hash__', '__init__', '__new__', '__reduce__', '__reduce_ex__', '__repr__', '__setattr__', '__sizeof__', '__str__', '__subclasshook__', 'acquire', 'acquire_lock', 'locked', 'locked_lock', 'release', 'release_lock']\n"
     ]
    }
   ],
   "source": [
    "a = allocate_lock()\n",
    "print dir(a)"
   ]
  },
  {
   "cell_type": "code",
   "execution_count": 33,
   "metadata": {},
   "outputs": [
    {
     "name": "stdout",
     "output_type": "stream",
     "text": [
      "thread 1 sleeps for 5 secondsthread 0 sleeps for 5 seconds\n",
      "\n",
      "thread 2 sleeps for 5 secondsthread 3 sleeps for 5 seconds\n",
      "\n",
      "thread 4 sleeps for 5 seconds thread 6 sleeps for 5 seconds thread 8 sleeps for 5 seconds\n",
      "thread 9 sleeps for 5 seconds\n",
      "\n",
      "thread 5 sleeps for 5 seconds\n",
      "thread 7 sleeps for 5 seconds\n",
      "\n",
      "\n"
     ]
    }
   ],
   "source": [
    "import time\n",
    "from threading import Thread\n",
    "\n",
    "def sleeper(i):\n",
    "    print \"thread %d sleeps for 5 seconds\" % i\n",
    "    time.sleep(5)\n",
    "    print \"thread %d woke up\" % i\n",
    "\n",
    "for i in range(10):\n",
    "    t = Thread(target=sleeper, args=(i,))\n",
    "    t.start()"
   ]
  },
  {
   "cell_type": "code",
   "execution_count": 34,
   "metadata": {},
   "outputs": [
    {
     "name": "stdout",
     "output_type": "stream",
     "text": [
      "1\n",
      "thread 0 woke up\n",
      "thread 5 woke upthread 9 woke upthread 4 woke upthread 2 woke upthread 6 woke up thread 7 woke upthread 3 woke up\n",
      "\n",
      "\n",
      "\n",
      "\n",
      "\n",
      "thread 1 woke up\n",
      "thread 8 woke up\n",
      "\n"
     ]
    }
   ],
   "source": [
    "print 1"
   ]
  },
  {
   "cell_type": "code",
   "execution_count": 32,
   "metadata": {
    "collapsed": true
   },
   "outputs": [],
   "source": [
    "# Thread?"
   ]
  },
  {
   "cell_type": "code",
   "execution_count": 48,
   "metadata": {
    "collapsed": true
   },
   "outputs": [],
   "source": [
    "import threading\n",
    "\n",
    "class PrimeNumber(threading.Thread):\n",
    "    \n",
    "    def __init__(self, number):\n",
    "        threading.Thread.__init__(self)\n",
    "        self.Number=number\n",
    "        \n",
    "    def run(self):\n",
    "        counter=2\n",
    "        while counter * counter<self.Number:\n",
    "            if self.Number % counter==0:\n",
    "                print \"%d is no prime number, cuz %d = %d * %d\"%(self.Number, self.Number, counter, self.Number/counter)\n",
    "                return\n",
    "            counter+=1\n",
    "            print \"%d is a prime number\"%self.Number\n"
   ]
  },
  {
   "cell_type": "code",
   "execution_count": 49,
   "metadata": {},
   "outputs": [
    {
     "name": "stdout",
     "output_type": "stream",
     "text": [
      "number: 931\n",
      "931 is a prime number\n",
      "931 is a prime number\n",
      "931 is a prime number\n",
      "931 is a prime number\n",
      "931 is a prime number\n",
      "931 is no prime number, cuz 931 = 7 * 133\n"
     ]
    },
    {
     "ename": "KeyboardInterrupt",
     "evalue": "",
     "output_type": "error",
     "traceback": [
      "\u001b[0;31m\u001b[0m",
      "\u001b[0;31mKeyboardInterrupt\u001b[0mTraceback (most recent call last)",
      "\u001b[0;32m<ipython-input-49-2f5bb51283f7>\u001b[0m in \u001b[0;36m<module>\u001b[0;34m()\u001b[0m\n\u001b[1;32m      2\u001b[0m \u001b[0;34m\u001b[0m\u001b[0m\n\u001b[1;32m      3\u001b[0m \u001b[0;32mwhile\u001b[0m \u001b[0mTrue\u001b[0m\u001b[0;34m:\u001b[0m\u001b[0;34m\u001b[0m\u001b[0m\n\u001b[0;32m----> 4\u001b[0;31m     \u001b[0minput\u001b[0m\u001b[0;34m=\u001b[0m\u001b[0mlong\u001b[0m\u001b[0;34m(\u001b[0m\u001b[0mraw_input\u001b[0m\u001b[0;34m(\u001b[0m\u001b[0;34m\"number: \"\u001b[0m\u001b[0;34m)\u001b[0m\u001b[0;34m)\u001b[0m\u001b[0;34m\u001b[0m\u001b[0m\n\u001b[0m\u001b[1;32m      5\u001b[0m     \u001b[0;32mif\u001b[0m \u001b[0minput\u001b[0m \u001b[0;34m<\u001b[0m\u001b[0;36m1\u001b[0m\u001b[0;34m:\u001b[0m\u001b[0;34m\u001b[0m\u001b[0m\n\u001b[1;32m      6\u001b[0m         \u001b[0;32mbreak\u001b[0m\u001b[0;34m\u001b[0m\u001b[0m\n",
      "\u001b[0;32m/home/shj16110/anaconda2/lib/python2.7/site-packages/ipykernel/kernelbase.pyc\u001b[0m in \u001b[0;36mraw_input\u001b[0;34m(self, prompt)\u001b[0m\n\u001b[1;32m    703\u001b[0m             \u001b[0mself\u001b[0m\u001b[0;34m.\u001b[0m\u001b[0m_parent_ident\u001b[0m\u001b[0;34m,\u001b[0m\u001b[0;34m\u001b[0m\u001b[0m\n\u001b[1;32m    704\u001b[0m             \u001b[0mself\u001b[0m\u001b[0;34m.\u001b[0m\u001b[0m_parent_header\u001b[0m\u001b[0;34m,\u001b[0m\u001b[0;34m\u001b[0m\u001b[0m\n\u001b[0;32m--> 705\u001b[0;31m             \u001b[0mpassword\u001b[0m\u001b[0;34m=\u001b[0m\u001b[0mFalse\u001b[0m\u001b[0;34m,\u001b[0m\u001b[0;34m\u001b[0m\u001b[0m\n\u001b[0m\u001b[1;32m    706\u001b[0m         )\n\u001b[1;32m    707\u001b[0m \u001b[0;34m\u001b[0m\u001b[0m\n",
      "\u001b[0;32m/home/shj16110/anaconda2/lib/python2.7/site-packages/ipykernel/kernelbase.pyc\u001b[0m in \u001b[0;36m_input_request\u001b[0;34m(self, prompt, ident, parent, password)\u001b[0m\n\u001b[1;32m    733\u001b[0m             \u001b[0;32mexcept\u001b[0m \u001b[0mKeyboardInterrupt\u001b[0m\u001b[0;34m:\u001b[0m\u001b[0;34m\u001b[0m\u001b[0m\n\u001b[1;32m    734\u001b[0m                 \u001b[0;31m# re-raise KeyboardInterrupt, to truncate traceback\u001b[0m\u001b[0;34m\u001b[0m\u001b[0;34m\u001b[0m\u001b[0m\n\u001b[0;32m--> 735\u001b[0;31m                 \u001b[0;32mraise\u001b[0m \u001b[0mKeyboardInterrupt\u001b[0m\u001b[0;34m\u001b[0m\u001b[0m\n\u001b[0m\u001b[1;32m    736\u001b[0m             \u001b[0;32melse\u001b[0m\u001b[0;34m:\u001b[0m\u001b[0;34m\u001b[0m\u001b[0m\n\u001b[1;32m    737\u001b[0m                 \u001b[0;32mbreak\u001b[0m\u001b[0;34m\u001b[0m\u001b[0m\n",
      "\u001b[0;31mKeyboardInterrupt\u001b[0m: "
     ]
    }
   ],
   "source": [
    "threads=[]\n",
    "\n",
    "while True:\n",
    "    input=long(raw_input(\"number: \"))\n",
    "    if input <1:\n",
    "        break\n",
    "    \n",
    "    thread=PrimeNumber(input)\n",
    "    threads+=[thread]\n",
    "    thread.start()\n",
    "    \n",
    "for i in threads:\n",
    "    i.join"
   ]
  },
  {
   "cell_type": "code",
   "execution_count": 50,
   "metadata": {},
   "outputs": [
    {
     "data": {
      "text/plain": [
       "[<PrimeNumber(Thread-52, stopped 47668504565504)>]"
      ]
     },
     "execution_count": 50,
     "metadata": {},
     "output_type": "execute_result"
    }
   ],
   "source": [
    "threads"
   ]
  },
  {
   "cell_type": "code",
   "execution_count": 52,
   "metadata": {},
   "outputs": [
    {
     "name": "stdout",
     "output_type": "stream",
     "text": [
      "number: 7141\n",
      "number: 33\n",
      "number: 0\n"
     ]
    }
   ],
   "source": [
    "class PrimeNumber(threading.Thread):\n",
    "    prime_numbers = {} \n",
    "    lock = threading.Lock()\n",
    "    \n",
    "    def __init__(self, number): \n",
    "        threading.Thread.__init__(self) \n",
    "        self.Number = number\n",
    "        PrimeNumber.lock.acquire() \n",
    "        PrimeNumber.prime_numbers[number] = \"None\" \n",
    "        PrimeNumber.lock.release() \n",
    " \n",
    "    def run(self): \n",
    "        counter = 2\n",
    "        res = True\n",
    "        while counter*counter < self.Number and res: \n",
    "            if self.Number % counter == 0: \n",
    "               res = False \n",
    "            counter += 1 \n",
    "        PrimeNumber.lock.acquire() \n",
    "        PrimeNumber.prime_numbers[self.Number] = res \n",
    "        PrimeNumber.lock.release() \n",
    "threads = [] \n",
    "while True: \n",
    "    input = long(raw_input(\"number: \")) \n",
    "    if input < 1: \n",
    "        break \n",
    " \n",
    "    thread = PrimeNumber(input) \n",
    "    threads += [thread] \n",
    "    thread.start() \n",
    " \n",
    "for x in threads: \n",
    "    x.join()"
   ]
  },
  {
   "cell_type": "code",
   "execution_count": 54,
   "metadata": {},
   "outputs": [
    {
     "data": {
      "text/plain": [
       "<PrimeNumber(Thread-53, stopped 47668504565504)>"
      ]
     },
     "execution_count": 54,
     "metadata": {},
     "output_type": "execute_result"
    }
   ],
   "source": [
    "threads[0]"
   ]
  },
  {
   "cell_type": "code",
   "execution_count": null,
   "metadata": {
    "collapsed": true
   },
   "outputs": [],
   "source": []
  }
 ],
 "metadata": {
  "kernelspec": {
   "display_name": "Python 2",
   "language": "python",
   "name": "python2"
  },
  "language_info": {
   "codemirror_mode": {
    "name": "ipython",
    "version": 2
   },
   "file_extension": ".py",
   "mimetype": "text/x-python",
   "name": "python",
   "nbconvert_exporter": "python",
   "pygments_lexer": "ipython2",
   "version": "2.7.13"
  }
 },
 "nbformat": 4,
 "nbformat_minor": 2
}
