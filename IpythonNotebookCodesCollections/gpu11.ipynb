{
 "cells": [
  {
   "cell_type": "code",
   "execution_count": 1,
   "metadata": {
    "collapsed": true
   },
   "outputs": [],
   "source": [
    "from time import time, ctime\n",
    "import natsort\n",
    "import os"
   ]
  },
  {
   "cell_type": "code",
   "execution_count": 2,
   "metadata": {},
   "outputs": [
    {
     "data": {
      "text/plain": [
       "(367, 'batch_1.txt', 'batch_367.txt')"
      ]
     },
     "execution_count": 2,
     "metadata": {},
     "output_type": "execute_result"
    }
   ],
   "source": [
    "path = 'AllText/'\n",
    "want = os.listdir(path)\n",
    "want = natsort.natsorted(want)\n",
    "len(want), want[0], want[-1]"
   ]
  },
  {
   "cell_type": "code",
   "execution_count": 3,
   "metadata": {},
   "outputs": [
    {
     "data": {
      "text/plain": [
       "['batch_241.txt']"
      ]
     },
     "execution_count": 3,
     "metadata": {},
     "output_type": "execute_result"
    }
   ],
   "source": [
    "start_point = 240\n",
    "batch = 20\n",
    "want[start_point: start_point+1]"
   ]
  },
  {
   "cell_type": "code",
   "execution_count": null,
   "metadata": {},
   "outputs": [
    {
     "name": "stdout",
     "output_type": "stream",
     "text": [
      "241\n",
      "batch_241.txt\n",
      "2017-12-29 10:49:43.730084: W tensorflow/core/platform/cpu_feature_guard.cc:45] The TensorFlow library wasn't compiled to use AVX instructions, but these are available on your machine and could speed up CPU computations.\n",
      "2017-12-29 10:49:43.730118: W tensorflow/core/platform/cpu_feature_guard.cc:45] The TensorFlow library wasn't compiled to use AVX2 instructions, but these are available on your machine and could speed up CPU computations.\n",
      "2017-12-29 10:49:43.730124: W tensorflow/core/platform/cpu_feature_guard.cc:45] The TensorFlow library wasn't compiled to use FMA instructions, but these are available on your machine and could speed up CPU computations.\n",
      "2017-12-29 10:49:43.903707: I tensorflow/core/common_runtime/gpu/gpu_device.cc:940] Found device 0 with properties: \n",
      "name: Tesla K40m\n",
      "major: 3 minor: 5 memoryClockRate (GHz) 0.745\n",
      "pciBusID 0000:82:00.0\n",
      "Total memory: 11.17GiB\n",
      "Free memory: 129.31MiB\n",
      "2017-12-29 10:49:43.903738: I tensorflow/core/common_runtime/gpu/gpu_device.cc:961] DMA: 0 \n",
      "2017-12-29 10:49:43.903743: I tensorflow/core/common_runtime/gpu/gpu_device.cc:971] 0:   Y \n",
      "2017-12-29 10:49:43.903752: I tensorflow/core/common_runtime/gpu/gpu_device.cc:1030] Creating TensorFlow device (/gpu:0) -> (device: 0, name: Tesla K40m, pci bus id: 0000:82:00.0)\n",
      "2017-12-29 10:49:43.911064: E tensorflow/stream_executor/cuda/cuda_driver.cc:924] failed to allocate 129.31M (135593984 bytes) from device: CUDA_ERROR_OUT_OF_MEMORY\n",
      "Executing on /cpu:0\n",
      "selected (fine-tuning) inception model\n",
      "Tensorflow/21936/checkpoint-14999\n",
      "2017-12-29 10:49:50.148861: I tensorflow/core/common_runtime/gpu/gpu_device.cc:1030] Creating TensorFlow device (/gpu:0) -> (device: 0, name: Tesla K40m, pci bus id: 0000:82:00.0)\n",
      "Creating output file /home/shj16110/notebook/DeepGenderPred/predict/predict_241.csv\n",
      "['/home/shj16110/notebook/DeepGenderPred/AllPics/7168631_profile.jpg', '/home/shj16110/notebook/DeepGenderPred/AllPics/2854060_profile.jpg', '/home/shj16110/notebook/DeepGenderPred/AllPics/654019_profile.jpg', '/home/shj16110/notebook/DeepGenderPred/AllPics/10760516_profile.jpg', '/home/shj16110/notebook/DeepGenderPred/AllPics/1507437_profile.jpg', '/home/shj16110/notebook/DeepGenderPred/AllPics/2701379_profile.jpg', '/home/shj16110/notebook/DeepGenderPred/AllPics/9925318_profile.jpg', '/home/shj16110/notebook/DeepGenderPred/AllPics/1354418_profile.jpg', '/home/shj16110/notebook/DeepGenderPred/AllPics/3820612_profile.jpg', '/home/shj16110/notebook/DeepGenderPred/AllPics/1769318_profile.jpg', '/home/shj16110/notebook/DeepGenderPred/AllPics/1288075_profile.jpg', '/home/shj16110/notebook/DeepGenderPred/AllPics/11283709_profile.jpg', '/home/shj16110/notebook/DeepGenderPred/AllPics/241156_profile.jpg', '/home/shj16110/notebook/DeepGenderPred/AllPics/373644_profile.jpg', '/home/shj16110/notebook/DeepGenderPred/AllPics/10935544_profile.jpg', '/home/shj16110/notebook/DeepGenderPred/AllPics/13331621_profile.jpg', '/home/shj16110/notebook/DeepGenderPred/AllPics/10874273_profile.jpg', '/home/shj16110/notebook/DeepGenderPred/AllPics/581073_profile.jpg', '/home/shj16110/notebook/DeepGenderPred/AllPics/2152194_profile.jpg', '/home/shj16110/notebook/DeepGenderPred/AllPics/1101764_profile.jpg', '/home/shj16110/notebook/DeepGenderPred/AllPics/13391295_profile.jpg', '/home/shj16110/notebook/DeepGenderPred/AllPics/3428798_profile.jpg', '/home/shj16110/notebook/DeepGenderPred/AllPics/1324572_profile.jpg', '/home/shj16110/notebook/DeepGenderPred/AllPics/7957624_profile.jpg', '/home/shj16110/notebook/DeepGenderPred/AllPics/9356273_profile.jpg', '/home/shj16110/notebook/DeepGenderPred/AllPics/1346115_profile.jpg', '/home/shj16110/notebook/DeepGenderPred/AllPics/1333928_profile.jpg', '/home/shj16110/notebook/DeepGenderPred/AllPics/14427059_profile.jpg', '/home/shj16110/notebook/DeepGenderPred/AllPics/1881785_profile.jpg', '/home/shj16110/notebook/DeepGenderPred/AllPics/52381_profile.jpg', '/home/shj16110/notebook/DeepGenderPred/AllPics/9381935_profile.jpg', '/home/shj16110/notebook/DeepGenderPred/AllPics/1443541_profile.jpg', '/home/shj16110/notebook/DeepGenderPred/AllPics/10752178_profile.jpg', '/home/shj16110/notebook/DeepGenderPred/AllPics/14193197_profile.jpg', '/home/shj16110/notebook/DeepGenderPred/AllPics/529646_profile.jpg', '/home/shj16110/notebook/DeepGenderPred/AllPics/3811498_profile.jpg', '/home/shj16110/notebook/DeepGenderPred/AllPics/1611695_profile.jpg', '/home/shj16110/notebook/DeepGenderPred/AllPics/2238770_profile.jpg', '/home/shj16110/notebook/DeepGenderPred/AllPics/9918278_profile.jpg', '/home/shj16110/notebook/DeepGenderPred/AllPics/8206937_profile.jpg', '/home/shj16110/notebook/DeepGenderPred/AllPics/869379_profile.jpg', '/home/shj16110/notebook/DeepGenderPred/AllPics/10731862_profile.jpg', '/home/shj16110/notebook/DeepGenderPred/AllPics/13201864_profile.jpg', '/home/shj16110/notebook/DeepGenderPred/AllPics/6731621_profile.jpg', '/home/shj16110/notebook/DeepGenderPred/AllPics/9924025_profile.jpg', '/home/shj16110/notebook/DeepGenderPred/AllPics/9606236_profile.jpg', '/home/shj16110/notebook/DeepGenderPred/AllPics/2094903_profile.jpg', '/home/shj16110/notebook/DeepGenderPred/AllPics/384163_profile.jpg', '/home/shj16110/notebook/DeepGenderPred/AllPics/1412973_profile.jpg', '/home/shj16110/notebook/DeepGenderPred/AllPics/3217110_profile.jpg', '/home/shj16110/notebook/DeepGenderPred/AllPics/8975689_profile.jpg', '/home/shj16110/notebook/DeepGenderPred/AllPics/11538446_profile.jpg', '/home/shj16110/notebook/DeepGenderPred/AllPics/10319425_profile.jpg', '/home/shj16110/notebook/DeepGenderPred/AllPics/10285530_profile.jpg', '/home/shj16110/notebook/DeepGenderPred/AllPics/1392616_profile.jpg', '/home/shj16110/notebook/DeepGenderPred/AllPics/1499066_profile.jpg', '/home/shj16110/notebook/DeepGenderPred/AllPics/13691529_profile.jpg', '/home/shj16110/notebook/DeepGenderPred/AllPics/11806400_profile.jpg', '/home/shj16110/notebook/DeepGenderPred/AllPics/7357364_profile.jpg', '/home/shj16110/notebook/DeepGenderPred/AllPics/1055227_profile.jpg', '/home/shj16110/notebook/DeepGenderPred/AllPics/3920689_profile.jpg', '/home/shj16110/notebook/DeepGenderPred/AllPics/945885_profile.jpg', '/home/shj16110/notebook/DeepGenderPred/AllPics/386334_profile.jpg', '/home/shj16110/notebook/DeepGenderPred/AllPics/13557515_profile.jpg', '/home/shj16110/notebook/DeepGenderPred/AllPics/6487525_profile.jpg', '/home/shj16110/notebook/DeepGenderPred/AllPics/10167220_profile.jpg', '/home/shj16110/notebook/DeepGenderPred/AllPics/14389420_profile.jpg', '/home/shj16110/notebook/DeepGenderPred/AllPics/1737829_profile.jpg', '/home/shj16110/notebook/DeepGenderPred/AllPics/7638350_profile.jpg', '/home/shj16110/notebook/DeepGenderPred/AllPics/13072004_profile.jpg', '/home/shj16110/notebook/DeepGenderPred/AllPics/14236378_profile.jpg', '/home/shj16110/notebook/DeepGenderPred/AllPics/6336701_profile.jpg', '/home/shj16110/notebook/DeepGenderPred/AllPics/6430682_profile.jpg', '/home/shj16110/notebook/DeepGenderPred/AllPics/9542432_profile.jpg', '/home/shj16110/notebook/DeepGenderPred/AllPics/3536541_profile.jpg', '/home/shj16110/notebook/DeepGenderPred/AllPics/11532152_profile.jpg', '/home/shj16110/notebook/DeepGenderPred/AllPics/1425837_profile.jpg', '/home/shj16110/notebook/DeepGenderPred/AllPics/9119326_profile.jpg', '/home/shj16110/notebook/DeepGenderPred/AllPics/1615261_profile.jpg', '/home/shj16110/notebook/DeepGenderPred/AllPics/8568460_profile.jpg', '/home/shj16110/notebook/DeepGenderPred/AllPics/1258335_profile.jpg', '/home/shj16110/notebook/DeepGenderPred/AllPics/13660940_profile.jpg', '/home/shj16110/notebook/DeepGenderPred/AllPics/1486212_profile.jpg', '/home/shj16110/notebook/DeepGenderPred/AllPics/6837640_profile.jpg', '/home/shj16110/notebook/DeepGenderPred/AllPics/8700924_profile.jpg', '/home/shj16110/notebook/DeepGenderPred/AllPics/1278930_profile.jpg', '/home/shj16110/notebook/DeepGenderPred/AllPics/9137741_profile.jpg', '/home/shj16110/notebook/DeepGenderPred/AllPics/1533642_profile.jpg', '/home/shj16110/notebook/DeepGenderPred/AllPics/95930_profile.jpg', '/home/shj16110/notebook/DeepGenderPred/AllPics/9423711_profile.jpg', '/home/shj16110/notebook/DeepGenderPred/AllPics/13759662_profile.jpg', '/home/shj16110/notebook/DeepGenderPred/AllPics/3315458_profile.jpg', '/home/shj16110/notebook/DeepGenderPred/AllPics/9397159_profile.jpg', '/home/shj16110/notebook/DeepGenderPred/AllPics/4348252_profile.jpg', '/home/shj16110/notebook/DeepGenderPred/AllPics/4137983_profile.jpg', '/home/shj16110/notebook/DeepGenderPred/AllPics/2441553_profile.jpg', '/home/shj16110/notebook/DeepGenderPred/AllPics/7940028_profile.jpg', '/home/shj16110/notebook/DeepGenderPred/AllPics/4715603_profile.jpg', '/home/shj16110/notebook/DeepGenderPred/AllPics/12965635_profile.jpg', '/home/shj16110/notebook/DeepGenderPred/AllPics/1388378_profile.jpg', '/home/shj16110/notebook/DeepGenderPred/AllPics/1034302_profile.jpg', '/home/shj16110/notebook/DeepGenderPred/AllPics/1448979_profile.jpg', '/home/shj16110/notebook/DeepGenderPred/AllPics/6957586_profile.jpg', '/home/shj16110/notebook/DeepGenderPred/AllPics/1289839_profile.jpg', '/home/shj16110/notebook/DeepGenderPred/AllPics/11093352_profile.jpg', '/home/shj16110/notebook/DeepGenderPred/AllPics/6479038_profile.jpg', '/home/shj16110/notebook/DeepGenderPred/AllPics/1564583_profile.jpg', '/home/shj16110/notebook/DeepGenderPred/AllPics/10887595_profile.jpg', '/home/shj16110/notebook/DeepGenderPred/AllPics/10503648_profile.jpg', '/home/shj16110/notebook/DeepGenderPred/AllPics/8218716_profile.jpg', '/home/shj16110/notebook/DeepGenderPred/AllPics/3574566_profile.jpg', '/home/shj16110/notebook/DeepGenderPred/AllPics/492133_profile.jpg', '/home/shj16110/notebook/DeepGenderPred/AllPics/11693408_profile.jpg', '/home/shj16110/notebook/DeepGenderPred/AllPics/7322170_profile.jpg', '/home/shj16110/notebook/DeepGenderPred/AllPics/8327706_profile.jpg', '/home/shj16110/notebook/DeepGenderPred/AllPics/1381080_profile.jpg', '/home/shj16110/notebook/DeepGenderPred/AllPics/13682213_profile.jpg', '/home/shj16110/notebook/DeepGenderPred/AllPics/871966_profile.jpg', '/home/shj16110/notebook/DeepGenderPred/AllPics/1270026_profile.jpg', '/home/shj16110/notebook/DeepGenderPred/AllPics/13383426_profile.jpg', '/home/shj16110/notebook/DeepGenderPred/AllPics/1497720_profile.jpg', '/home/shj16110/notebook/DeepGenderPred/AllPics/8321273_profile.jpg', '/home/shj16110/notebook/DeepGenderPred/AllPics/1577248_profile.jpg', '/home/shj16110/notebook/DeepGenderPred/AllPics/8198286_profile.jpg', '/home/shj16110/notebook/DeepGenderPred/AllPics/2748292_profile.jpg', '/home/shj16110/notebook/DeepGenderPred/AllPics/10181774_profile.jpg', '/home/shj16110/notebook/DeepGenderPred/AllPics/743608_profile.jpg', '/home/shj16110/notebook/DeepGenderPred/AllPics/10931100_profile.jpg', '/home/shj16110/notebook/DeepGenderPred/AllPics/1527362_profile.jpg', '/home/shj16110/notebook/DeepGenderPred/AllPics/10625297_profile.jpg', '/home/shj16110/notebook/DeepGenderPred/AllPics/1360682_profile.jpg', '/home/shj16110/notebook/DeepGenderPred/AllPics/1077928_profile.jpg', '/home/shj16110/notebook/DeepGenderPred/AllPics/663448_profile.jpg', '/home/shj16110/notebook/DeepGenderPred/AllPics/13825113_profile.jpg', '/home/shj16110/notebook/DeepGenderPred/AllPics/14039018_profile.jpg', '/home/shj16110/notebook/DeepGenderPred/AllPics/9421869_profile.jpg', '/home/shj16110/notebook/DeepGenderPred/AllPics/14453714_profile.jpg', '/home/shj16110/notebook/DeepGenderPred/AllPics/3275813_profile.jpg', '/home/shj16110/notebook/DeepGenderPred/AllPics/967985_profile.jpg', '/home/shj16110/notebook/DeepGenderPred/AllPics/7628890_profile.jpg', '/home/shj16110/notebook/DeepGenderPred/AllPics/1468919_profile.jpg', '/home/shj16110/notebook/DeepGenderPred/AllPics/880331_profile.jpg', '/home/shj16110/notebook/DeepGenderPred/AllPics/3404790_profile.jpg', '/home/shj16110/notebook/DeepGenderPred/AllPics/1206975_profile.jpg', '/home/shj16110/notebook/DeepGenderPred/AllPics/2507775_profile.jpg', '/home/shj16110/notebook/DeepGenderPred/AllPics/1636993_profile.jpg', '/home/shj16110/notebook/DeepGenderPred/AllPics/11205229_profile.jpg', '/home/shj16110/notebook/DeepGenderPred/AllPics/8407076_profile.jpg', '/home/shj16110/notebook/DeepGenderPred/AllPics/3751109_profile.jpg', '/home/shj16110/notebook/DeepGenderPred/AllPics/11137422_profile.jpg', '/home/shj16110/notebook/DeepGenderPred/AllPics/1484308_profile.jpg', '/home/shj16110/notebook/DeepGenderPred/AllPics/263755_profile.jpg', '/home/shj16110/notebook/DeepGenderPred/AllPics/6898036_profile.jpg', '/home/shj16110/notebook/DeepGenderPred/AllPics/10154334_profile.jpg', '/home/shj16110/notebook/DeepGenderPred/AllPics/10270515_profile.jpg', '/home/shj16110/notebook/DeepGenderPred/AllPics/69505_profile.jpg', '/home/shj16110/notebook/DeepGenderPred/AllPics/10965030_profile.jpg', '/home/shj16110/notebook/DeepGenderPred/AllPics/7104843_profile.jpg', '/home/shj16110/notebook/DeepGenderPred/AllPics/1263664_profile.jpg', '/home/shj16110/notebook/DeepGenderPred/AllPics/11612744_profile.jpg', '/home/shj16110/notebook/DeepGenderPred/AllPics/71714_profile.jpg', '/home/shj16110/notebook/DeepGenderPred/AllPics/64108_profile.jpg', '/home/shj16110/notebook/DeepGenderPred/AllPics/72637_profile.jpg', '/home/shj16110/notebook/DeepGenderPred/AllPics/8770752_profile.jpg', '/home/shj16110/notebook/DeepGenderPred/AllPics/1529466_profile.jpg', '/home/shj16110/notebook/DeepGenderPred/AllPics/8233811_profile.jpg', '/home/shj16110/notebook/DeepGenderPred/AllPics/1456164_profile.jpg', '/home/shj16110/notebook/DeepGenderPred/AllPics/10260073_profile.jpg', '/home/shj16110/notebook/DeepGenderPred/AllPics/2458106_profile.jpg', '/home/shj16110/notebook/DeepGenderPred/AllPics/7143589_profile.jpg', '/home/shj16110/notebook/DeepGenderPred/AllPics/1353647_profile.jpg', '/home/shj16110/notebook/DeepGenderPred/AllPics/10120764_profile.jpg', '/home/shj16110/notebook/DeepGenderPred/AllPics/13298754_profile.jpg', '/home/shj16110/notebook/DeepGenderPred/AllPics/9573324_profile.jpg', '/home/shj16110/notebook/DeepGenderPred/AllPics/14078591_profile.jpg', '/home/shj16110/notebook/DeepGenderPred/AllPics/43398_profile.jpg', '/home/shj16110/notebook/DeepGenderPred/AllPics/1451697_profile.jpg', '/home/shj16110/notebook/DeepGenderPred/AllPics/1381486_profile.jpg', '/home/shj16110/notebook/DeepGenderPred/AllPics/3517081_profile.jpg', '/home/shj16110/notebook/DeepGenderPred/AllPics/3197350_profile.jpg', '/home/shj16110/notebook/DeepGenderPred/AllPics/9124245_profile.jpg', '/home/shj16110/notebook/DeepGenderPred/AllPics/7322243_profile.jpg', '/home/shj16110/notebook/DeepGenderPred/AllPics/7832821_profile.jpg', '/home/shj16110/notebook/DeepGenderPred/AllPics/10936625_profile.jpg', '/home/shj16110/notebook/DeepGenderPred/AllPics/8233174_profile.jpg', '/home/shj16110/notebook/DeepGenderPred/AllPics/3259972_profile.jpg', '/home/shj16110/notebook/DeepGenderPred/AllPics/11248437_profile.jpg', '/home/shj16110/notebook/DeepGenderPred/AllPics/11466918_profile.jpg', '/home/shj16110/notebook/DeepGenderPred/AllPics/1364751_profile.jpg', '/home/shj16110/notebook/DeepGenderPred/AllPics/7268139_profile.jpg', '/home/shj16110/notebook/DeepGenderPred/AllPics/2699847_profile.jpg', '/home/shj16110/notebook/DeepGenderPred/AllPics/11424718_profile.jpg', '/home/shj16110/notebook/DeepGenderPred/AllPics/13653796_profile.jpg', '/home/shj16110/notebook/DeepGenderPred/AllPics/14036519_profile.jpg', '/home/shj16110/notebook/DeepGenderPred/AllPics/1797193_profile.jpg', '/home/shj16110/notebook/DeepGenderPred/AllPics/3104660_profile.jpg', '/home/shj16110/notebook/DeepGenderPred/AllPics/1450522_profile.jpg', '/home/shj16110/notebook/DeepGenderPred/AllPics/1132698_profile.jpg', '/home/shj16110/notebook/DeepGenderPred/AllPics/13971988_profile.jpg', '/home/shj16110/notebook/DeepGenderPred/AllPics/455085_profile.jpg', '/home/shj16110/notebook/DeepGenderPred/AllPics/7261128_profile.jpg', '/home/shj16110/notebook/DeepGenderPred/AllPics/14004036_profile.jpg', '/home/shj16110/notebook/DeepGenderPred/AllPics/894419_profile.jpg', '/home/shj16110/notebook/DeepGenderPred/AllPics/6031139_profile.jpg', '/home/shj16110/notebook/DeepGenderPred/AllPics/9668393_profile.jpg', '/home/shj16110/notebook/DeepGenderPred/AllPics/6484880_profile.jpg', '/home/shj16110/notebook/DeepGenderPred/AllPics/7244887_profile.jpg', '/home/shj16110/notebook/DeepGenderPred/AllPics/8858706_profile.jpg', '/home/shj16110/notebook/DeepGenderPred/AllPics/9450126_profile.jpg', '/home/shj16110/notebook/DeepGenderPred/AllPics/2558224_profile.jpg', '/home/shj16110/notebook/DeepGenderPred/AllPics/8175875_profile.jpg', '/home/shj16110/notebook/DeepGenderPred/AllPics/681644_profile.jpg', '/home/shj16110/notebook/DeepGenderPred/AllPics/6480986_profile.jpg', '/home/shj16110/notebook/DeepGenderPred/AllPics/1347347_profile.jpg', '/home/shj16110/notebook/DeepGenderPred/AllPics/1505299_profile.jpg', '/home/shj16110/notebook/DeepGenderPred/AllPics/350830_profile.jpg', '/home/shj16110/notebook/DeepGenderPred/AllPics/6995209_profile.jpg', '/home/shj16110/notebook/DeepGenderPred/AllPics/1489159_profile.jpg', '/home/shj16110/notebook/DeepGenderPred/AllPics/1035567_profile.jpg', '/home/shj16110/notebook/DeepGenderPred/AllPics/1581078_profile.jpg', '/home/shj16110/notebook/DeepGenderPred/AllPics/4312347_profile.jpg', '/home/shj16110/notebook/DeepGenderPred/AllPics/10840808_profile.jpg', '/home/shj16110/notebook/DeepGenderPred/AllPics/14232749_profile.jpg', '/home/shj16110/notebook/DeepGenderPred/AllPics/13112425_profile.jpg', '/home/shj16110/notebook/DeepGenderPred/AllPics/3110186_profile.jpg', '/home/shj16110/notebook/DeepGenderPred/AllPics/9695921_profile.jpg', '/home/shj16110/notebook/DeepGenderPred/AllPics/2897083_profile.jpg', '/home/shj16110/notebook/DeepGenderPred/AllPics/1354620_profile.jpg', '/home/shj16110/notebook/DeepGenderPred/AllPics/13749714_profile.jpg', '/home/shj16110/notebook/DeepGenderPred/AllPics/1675423_profile.jpg', '/home/shj16110/notebook/DeepGenderPred/AllPics/13154703_profile.jpg', '/home/shj16110/notebook/DeepGenderPred/AllPics/3211777_profile.jpg', '/home/shj16110/notebook/DeepGenderPred/AllPics/4285551_profile.jpg', '/home/shj16110/notebook/DeepGenderPred/AllPics/3606616_profile.jpg', '/home/shj16110/notebook/DeepGenderPred/AllPics/11892278_profile.jpg', '/home/shj16110/notebook/DeepGenderPred/AllPics/2872607_profile.jpg', '/home/shj16110/notebook/DeepGenderPred/AllPics/1170395_profile.jpg', '/home/shj16110/notebook/DeepGenderPred/AllPics/1497707_profile.jpg', '/home/shj16110/notebook/DeepGenderPred/AllPics/3413791_profile.jpg', '/home/shj16110/notebook/DeepGenderPred/AllPics/7793414_profile.jpg', '/home/shj16110/notebook/DeepGenderPred/AllPics/100991_profile.jpg', '/home/shj16110/notebook/DeepGenderPred/AllPics/12119888_profile.jpg', '/home/shj16110/notebook/DeepGenderPred/AllPics/290613_profile.jpg', '/home/shj16110/notebook/DeepGenderPred/AllPics/4152072_profile.jpg', '/home/shj16110/notebook/DeepGenderPred/AllPics/6948314_profile.jpg', '/home/shj16110/notebook/DeepGenderPred/AllPics/1323132_profile.jpg', '/home/shj16110/notebook/DeepGenderPred/AllPics/3125382_profile.jpg', '/home/shj16110/notebook/DeepGenderPred/AllPics/1431792_profile.jpg', '/home/shj16110/notebook/DeepGenderPred/AllPics/3888122_profile.jpg', '/home/shj16110/notebook/DeepGenderPred/AllPics/1933462_profile.jpg', '/home/shj16110/notebook/DeepGenderPred/AllPics/8385220_profile.jpg', '/home/shj16110/notebook/DeepGenderPred/AllPics/1608484_profile.jpg', '/home/shj16110/notebook/DeepGenderPred/AllPics/977830_profile.jpg', '/home/shj16110/notebook/DeepGenderPred/AllPics/12122949_profile.jpg', '/home/shj16110/notebook/DeepGenderPred/AllPics/9523452_profile.jpg', '/home/shj16110/notebook/DeepGenderPred/AllPics/9910157_profile.jpg', '/home/shj16110/notebook/DeepGenderPred/AllPics/7406161_profile.jpg', '/home/shj16110/notebook/DeepGenderPred/AllPics/11577916_profile.jpg', '/home/shj16110/notebook/DeepGenderPred/AllPics/13376356_profile.jpg', '/home/shj16110/notebook/DeepGenderPred/AllPics/7294695_profile.jpg', '/home/shj16110/notebook/DeepGenderPred/AllPics/543191_profile.jpg', '/home/shj16110/notebook/DeepGenderPred/AllPics/11723027_profile.jpg', '/home/shj16110/notebook/DeepGenderPred/AllPics/3181654_profile.jpg', '/home/shj16110/notebook/DeepGenderPred/AllPics/7099391_profile.jpg', '/home/shj16110/notebook/DeepGenderPred/AllPics/1511185_profile.jpg', '/home/shj16110/notebook/DeepGenderPred/AllPics/10144922_profile.jpg', '/home/shj16110/notebook/DeepGenderPred/AllPics/13669809_profile.jpg', '/home/shj16110/notebook/DeepGenderPred/AllPics/11099358_profile.jpg', '/home/shj16110/notebook/DeepGenderPred/AllPics/1322229_profile.jpg', '/home/shj16110/notebook/DeepGenderPred/AllPics/6756425_profile.jpg', '/home/shj16110/notebook/DeepGenderPred/AllPics/1538156_profile.jpg', '/home/shj16110/notebook/DeepGenderPred/AllPics/12110653_profile.jpg', '/home/shj16110/notebook/DeepGenderPred/AllPics/2165364_profile.jpg', '/home/shj16110/notebook/DeepGenderPred/AllPics/11745232_profile.jpg', '/home/shj16110/notebook/DeepGenderPred/AllPics/4024001_profile.jpg', '/home/shj16110/notebook/DeepGenderPred/AllPics/1428997_profile.jpg', '/home/shj16110/notebook/DeepGenderPred/AllPics/1068324_profile.jpg', '/home/shj16110/notebook/DeepGenderPred/AllPics/9013260_profile.jpg', '/home/shj16110/notebook/DeepGenderPred/AllPics/11980459_profile.jpg', '/home/shj16110/notebook/DeepGenderPred/AllPics/14071543_profile.jpg', '/home/shj16110/notebook/DeepGenderPred/AllPics/1126787_profile.jpg', '/home/shj16110/notebook/DeepGenderPred/AllPics/1455039_profile.jpg', '/home/shj16110/notebook/DeepGenderPred/AllPics/14297170_profile.jpg', '/home/shj16110/notebook/DeepGenderPred/AllPics/1456670_profile.jpg', '/home/shj16110/notebook/DeepGenderPred/AllPics/9239307_profile.jpg', '/home/shj16110/notebook/DeepGenderPred/AllPics/2156960_profile.jpg', '/home/shj16110/notebook/DeepGenderPred/AllPics/1640857_profile.jpg', '/home/shj16110/notebook/DeepGenderPred/AllPics/765809_profile.jpg', '/home/shj16110/notebook/DeepGenderPred/AllPics/4425734_profile.jpg', '/home/shj16110/notebook/DeepGenderPred/AllPics/7266412_profile.jpg', '/home/shj16110/notebook/DeepGenderPred/AllPics/6879888_profile.jpg', '/home/shj16110/notebook/DeepGenderPred/AllPics/9409923_profile.jpg', '/home/shj16110/notebook/DeepGenderPred/AllPics/6409065_profile.jpg', '/home/shj16110/notebook/DeepGenderPred/AllPics/11604677_profile.jpg', '/home/shj16110/notebook/DeepGenderPred/AllPics/14544568_profile.jpg', '/home/shj16110/notebook/DeepGenderPred/AllPics/7875168_profile.jpg', '/home/shj16110/notebook/DeepGenderPred/AllPics/1226615_profile.jpg', '/home/shj16110/notebook/DeepGenderPred/AllPics/9633372_profile.jpg', '/home/shj16110/notebook/DeepGenderPred/AllPics/1076256_profile.jpg', '/home/shj16110/notebook/DeepGenderPred/AllPics/1369543_profile.jpg']\n",
      "Running file /home/shj16110/notebook/DeepGenderPred/AllPics/7168631_profile.jpg\n"
     ]
    },
    {
     "name": "stdout",
     "output_type": "stream",
     "text": [
      "Running multi-cropped image\n",
      "Guess @ 1 F, prob = 0.62\n",
      "Running file /home/shj16110/notebook/DeepGenderPred/AllPics/2854060_profile.jpg\n",
      "Running multi-cropped image\n",
      "Guess @ 1 M, prob = 0.98\n",
      "Running file /home/shj16110/notebook/DeepGenderPred/AllPics/654019_profile.jpg\n",
      "Running multi-cropped image\n"
     ]
    }
   ],
   "source": [
    "n=start_point\n",
    "for i in want[start_point: start_point+20]:\n",
    "    n+=1\n",
    "    start=time()\n",
    "    print (n)\n",
    "    print (i)\n",
    "    !/home/shj16110/anaconda2/envs/3.6.1/bin/python \\\n",
    "    Tensorflow/rude-carnie/guess.py --class_type gender --model_type inception --model_dir Tensorflow/21936 \\\n",
    "    --filename `pwd`/{path}{i} \\\n",
    "    --target `pwd`/predict/predict_{n}.csv \\\n",
    "#     > /dev/null 2>&1\n",
    "    print ('used {:.2f} s, {:.2f} m, {:.2f} h'.format(time()-start, (time()-start)/60.0,(time()-start)/3600.0), ctime())\n",
    "    print ('{:.2f} sceond per pic'.format((time()-start)/(300)))\n",
    "    print"
   ]
  },
  {
   "cell_type": "code",
   "execution_count": null,
   "metadata": {
    "collapsed": true
   },
   "outputs": [],
   "source": []
  }
 ],
 "metadata": {
  "kernelspec": {
   "display_name": "GPU3",
   "language": "python",
   "name": "gpu3"
  },
  "language_info": {
   "codemirror_mode": {
    "name": "ipython",
    "version": 3
   },
   "file_extension": ".py",
   "mimetype": "text/x-python",
   "name": "python",
   "nbconvert_exporter": "python",
   "pygments_lexer": "ipython3",
   "version": "3.6.1"
  }
 },
 "nbformat": 4,
 "nbformat_minor": 2
}
