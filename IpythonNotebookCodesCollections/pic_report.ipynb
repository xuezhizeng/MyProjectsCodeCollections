{
 "cells": [
  {
   "cell_type": "code",
   "execution_count": 2,
   "metadata": {},
   "outputs": [],
   "source": [
    "import pandas as pd\n",
    "import os\n",
    "import matplotlib.pyplot as plt\n",
    "import seaborn as sns\n",
    "import plotly.plotly as py\n",
    "import plotly.graph_objs as go\n",
    "%matplotlib inline"
   ]
  },
  {
   "cell_type": "code",
   "execution_count": 9,
   "metadata": {},
   "outputs": [
    {
     "data": {
      "text/plain": [
       "['soyoung_test',\n",
       " 'cat_dog_main.ipynb',\n",
       " 'real_soyoung_pics',\n",
       " 'landmark_catDog.zip',\n",
       " 'align-dlib_mod.py',\n",
       " 'idFace.ipynb',\n",
       " 'chopHead256_real_soyoung_pics',\n",
       " 'facial_landmarks2.py',\n",
       " 'opencvTest.ipynb',\n",
       " 'openface.ipynb',\n",
       " 'landmarks.ipynb',\n",
       " 'landmarkCatDog',\n",
       " 'lab',\n",
       " 'cat_dog_report.ipynb',\n",
       " 'shape_predictor_68_face_landmarks.dat',\n",
       " 'newFlask',\n",
       " 'chop_code',\n",
       " 'pic_report.ipynb',\n",
       " '.ipynb_checkpoints',\n",
       " 'headLab',\n",
       " 'catDog_test',\n",
       " 'landmarks_cat_dog.ipynb',\n",
       " 'facial_landmarks.py']"
      ]
     },
     "execution_count": 9,
     "metadata": {},
     "output_type": "execute_result"
    }
   ],
   "source": [
    "filter(lambda x:x.find('csv'), os.listdir('.'))"
   ]
  },
  {
   "cell_type": "code",
   "execution_count": 8,
   "metadata": {},
   "outputs": [
    {
     "data": {
      "text/plain": [
       "2"
      ]
     },
     "execution_count": 8,
     "metadata": {},
     "output_type": "execute_result"
    }
   ],
   "source": [
    "'dda'.find('a')"
   ]
  },
  {
   "cell_type": "code",
   "execution_count": null,
   "metadata": {
    "collapsed": true
   },
   "outputs": [],
   "source": []
  }
 ],
 "metadata": {
  "kernelspec": {
   "display_name": "Python 2",
   "language": "python",
   "name": "python2"
  },
  "language_info": {
   "codemirror_mode": {
    "name": "ipython",
    "version": 2
   },
   "file_extension": ".py",
   "mimetype": "text/x-python",
   "name": "python",
   "nbconvert_exporter": "python",
   "pygments_lexer": "ipython2",
   "version": "2.7.6"
  }
 },
 "nbformat": 4,
 "nbformat_minor": 2
}
