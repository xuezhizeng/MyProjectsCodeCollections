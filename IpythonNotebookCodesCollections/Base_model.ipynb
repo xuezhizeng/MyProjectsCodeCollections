{
 "cells": [
  {
   "cell_type": "markdown",
   "metadata": {},
   "source": [
    "http://ataspinar.com/2017/05/26/classification-with-scikit-learn/"
   ]
  },
  {
   "cell_type": "code",
   "execution_count": 77,
   "metadata": {
    "collapsed": true
   },
   "outputs": [],
   "source": [
    "import pandas as pd\n",
    "import os\n",
    "pd.options.display.max_columns=30"
   ]
  },
  {
   "cell_type": "code",
   "execution_count": 78,
   "metadata": {},
   "outputs": [
    {
     "data": {
      "text/plain": [
       "(1243807, 24)"
      ]
     },
     "execution_count": 78,
     "metadata": {},
     "output_type": "execute_result"
    }
   ],
   "source": [
    "df = pd.read_csv('./clean_state.csv', low_memory=False)\n",
    "ori = df.copy()\n",
    "df.shape"
   ]
  },
  {
   "cell_type": "code",
   "execution_count": 98,
   "metadata": {},
   "outputs": [
    {
     "data": {
      "text/plain": [
       "id                  int64\n",
       "city               object\n",
       "state              object\n",
       "zip                object\n",
       "type               object\n",
       "source             object\n",
       "association        object\n",
       "service_type       object\n",
       "company            object\n",
       "campaign           object\n",
       "is_mobile         float64\n",
       "landing_page       object\n",
       "contact_page       object\n",
       "previous_page      object\n",
       "inbound_number    float64\n",
       "call_status        object\n",
       "duration          float64\n",
       "job_sold          float64\n",
       "dtype: object"
      ]
     },
     "execution_count": 98,
     "metadata": {},
     "output_type": "execute_result"
    }
   ],
   "source": [
    "df.dtypes"
   ]
  },
  {
   "cell_type": "code",
   "execution_count": 103,
   "metadata": {},
   "outputs": [],
   "source": [
    "df = ori.copy()"
   ]
  },
  {
   "cell_type": "code",
   "execution_count": 104,
   "metadata": {},
   "outputs": [
    {
     "data": {
      "text/html": [
       "<div>\n",
       "<style>\n",
       "    .dataframe thead tr:only-child th {\n",
       "        text-align: right;\n",
       "    }\n",
       "\n",
       "    .dataframe thead th {\n",
       "        text-align: left;\n",
       "    }\n",
       "\n",
       "    .dataframe tbody tr th {\n",
       "        vertical-align: top;\n",
       "    }\n",
       "</style>\n",
       "<table border=\"1\" class=\"dataframe\">\n",
       "  <thead>\n",
       "    <tr style=\"text-align: right;\">\n",
       "      <th></th>\n",
       "      <th>id</th>\n",
       "      <th>name</th>\n",
       "      <th>address</th>\n",
       "      <th>city</th>\n",
       "      <th>state</th>\n",
       "      <th>zip</th>\n",
       "      <th>type</th>\n",
       "      <th>source</th>\n",
       "      <th>association</th>\n",
       "      <th>service_type</th>\n",
       "      <th>received_time</th>\n",
       "      <th>sent_time</th>\n",
       "      <th>company</th>\n",
       "      <th>status</th>\n",
       "      <th>price</th>\n",
       "      <th>campaign</th>\n",
       "      <th>is_mobile</th>\n",
       "      <th>landing_page</th>\n",
       "      <th>contact_page</th>\n",
       "      <th>previous_page</th>\n",
       "      <th>inbound_number</th>\n",
       "      <th>call_status</th>\n",
       "      <th>duration</th>\n",
       "      <th>job_sold</th>\n",
       "    </tr>\n",
       "  </thead>\n",
       "  <tbody>\n",
       "    <tr>\n",
       "      <th>0</th>\n",
       "      <td>1003609</td>\n",
       "      <td>jason</td>\n",
       "      <td>340 colby lane</td>\n",
       "      <td>ambler</td>\n",
       "      <td>PA</td>\n",
       "      <td>NaN</td>\n",
       "      <td>Supercharged Phone Leads</td>\n",
       "      <td>Organic Search</td>\n",
       "      <td>Basement Systems, Inc.</td>\n",
       "      <td>Foundation Repair</td>\n",
       "      <td>2007-08-01 08:09:22</td>\n",
       "      <td>2007-08-01 08:09:22</td>\n",
       "      <td>BQ Basement Systems</td>\n",
       "      <td>Billable Lead</td>\n",
       "      <td>100.0</td>\n",
       "      <td>Phone Transfer</td>\n",
       "      <td>NaN</td>\n",
       "      <td>NaN</td>\n",
       "      <td>NaN</td>\n",
       "      <td>NaN</td>\n",
       "      <td>NaN</td>\n",
       "      <td>NaN</td>\n",
       "      <td>NaN</td>\n",
       "      <td>NaN</td>\n",
       "    </tr>\n",
       "    <tr>\n",
       "      <th>1</th>\n",
       "      <td>1003610</td>\n",
       "      <td>angelique</td>\n",
       "      <td>2820 dudley ave</td>\n",
       "      <td>bronx</td>\n",
       "      <td>NY</td>\n",
       "      <td>10461</td>\n",
       "      <td>Supercharged Phone Leads</td>\n",
       "      <td>Organic Search</td>\n",
       "      <td>Basement Systems, Inc.</td>\n",
       "      <td>Basement Waterproofing</td>\n",
       "      <td>2007-08-01 08:13:17</td>\n",
       "      <td>2007-08-01 08:13:17</td>\n",
       "      <td>Quality 1st Basement Systems</td>\n",
       "      <td>Billable Lead</td>\n",
       "      <td>100.0</td>\n",
       "      <td>Phone Transfer</td>\n",
       "      <td>NaN</td>\n",
       "      <td>NaN</td>\n",
       "      <td>NaN</td>\n",
       "      <td>NaN</td>\n",
       "      <td>NaN</td>\n",
       "      <td>NaN</td>\n",
       "      <td>NaN</td>\n",
       "      <td>NaN</td>\n",
       "    </tr>\n",
       "    <tr>\n",
       "      <th>2</th>\n",
       "      <td>1003611</td>\n",
       "      <td>Linda</td>\n",
       "      <td>164 Whiley Road</td>\n",
       "      <td>Groton</td>\n",
       "      <td>MA</td>\n",
       "      <td>01450</td>\n",
       "      <td>Supercharged Web Leads</td>\n",
       "      <td>Organic Search</td>\n",
       "      <td>Basement Systems, Inc.</td>\n",
       "      <td>Basement Waterproofing</td>\n",
       "      <td>2007-08-01 08:51:41</td>\n",
       "      <td>2007-08-01 08:51:41</td>\n",
       "      <td>Northeast Basement Systems</td>\n",
       "      <td>Billable Lead</td>\n",
       "      <td>60.0</td>\n",
       "      <td>NaN</td>\n",
       "      <td>NaN</td>\n",
       "      <td>NaN</td>\n",
       "      <td>NaN</td>\n",
       "      <td>NaN</td>\n",
       "      <td>NaN</td>\n",
       "      <td>NaN</td>\n",
       "      <td>NaN</td>\n",
       "      <td>NaN</td>\n",
       "    </tr>\n",
       "    <tr>\n",
       "      <th>3</th>\n",
       "      <td>1003613</td>\n",
       "      <td>bobby</td>\n",
       "      <td>NaN</td>\n",
       "      <td>durham</td>\n",
       "      <td>NC</td>\n",
       "      <td>NaN</td>\n",
       "      <td>Supercharged Phone Leads</td>\n",
       "      <td>Organic Search</td>\n",
       "      <td>Basement Systems, Inc.</td>\n",
       "      <td>Basement Waterproofing</td>\n",
       "      <td>2007-08-01 08:10:26</td>\n",
       "      <td>2007-08-01 08:10:26</td>\n",
       "      <td>Regional Waterproofing</td>\n",
       "      <td>Billable Lead</td>\n",
       "      <td>60.0</td>\n",
       "      <td>Phone Transfer</td>\n",
       "      <td>NaN</td>\n",
       "      <td>NaN</td>\n",
       "      <td>NaN</td>\n",
       "      <td>NaN</td>\n",
       "      <td>NaN</td>\n",
       "      <td>NaN</td>\n",
       "      <td>NaN</td>\n",
       "      <td>NaN</td>\n",
       "    </tr>\n",
       "    <tr>\n",
       "      <th>4</th>\n",
       "      <td>1003614</td>\n",
       "      <td>monica</td>\n",
       "      <td>1611 east elmer rd</td>\n",
       "      <td>east vineland</td>\n",
       "      <td>NJ</td>\n",
       "      <td>NaN</td>\n",
       "      <td>Supercharged Phone Leads</td>\n",
       "      <td>PPC Campaign (clicked on a PPC ad)</td>\n",
       "      <td>Basement Systems, Inc.</td>\n",
       "      <td>Basement Waterproofing</td>\n",
       "      <td>2007-08-01 09:31:39</td>\n",
       "      <td>2007-08-01 09:31:39</td>\n",
       "      <td>Dry Guys Basement Systems</td>\n",
       "      <td>Billable Lead</td>\n",
       "      <td>100.0</td>\n",
       "      <td>NaN</td>\n",
       "      <td>NaN</td>\n",
       "      <td>NaN</td>\n",
       "      <td>NaN</td>\n",
       "      <td>NaN</td>\n",
       "      <td>NaN</td>\n",
       "      <td>NaN</td>\n",
       "      <td>NaN</td>\n",
       "      <td>1.0</td>\n",
       "    </tr>\n",
       "  </tbody>\n",
       "</table>\n",
       "</div>"
      ],
      "text/plain": [
       "        id       name             address           city state    zip  \\\n",
       "0  1003609      jason      340 colby lane         ambler    PA    NaN   \n",
       "1  1003610  angelique     2820 dudley ave          bronx    NY  10461   \n",
       "2  1003611      Linda     164 Whiley Road         Groton    MA  01450   \n",
       "3  1003613      bobby                 NaN         durham    NC    NaN   \n",
       "4  1003614     monica  1611 east elmer rd  east vineland    NJ    NaN   \n",
       "\n",
       "                       type                              source  \\\n",
       "0  Supercharged Phone Leads                      Organic Search   \n",
       "1  Supercharged Phone Leads                      Organic Search   \n",
       "2    Supercharged Web Leads                      Organic Search   \n",
       "3  Supercharged Phone Leads                      Organic Search   \n",
       "4  Supercharged Phone Leads  PPC Campaign (clicked on a PPC ad)   \n",
       "\n",
       "              association            service_type        received_time  \\\n",
       "0  Basement Systems, Inc.       Foundation Repair  2007-08-01 08:09:22   \n",
       "1  Basement Systems, Inc.  Basement Waterproofing  2007-08-01 08:13:17   \n",
       "2  Basement Systems, Inc.  Basement Waterproofing  2007-08-01 08:51:41   \n",
       "3  Basement Systems, Inc.  Basement Waterproofing  2007-08-01 08:10:26   \n",
       "4  Basement Systems, Inc.  Basement Waterproofing  2007-08-01 09:31:39   \n",
       "\n",
       "             sent_time                       company         status  price  \\\n",
       "0  2007-08-01 08:09:22           BQ Basement Systems  Billable Lead  100.0   \n",
       "1  2007-08-01 08:13:17  Quality 1st Basement Systems  Billable Lead  100.0   \n",
       "2  2007-08-01 08:51:41    Northeast Basement Systems  Billable Lead   60.0   \n",
       "3  2007-08-01 08:10:26        Regional Waterproofing  Billable Lead   60.0   \n",
       "4  2007-08-01 09:31:39     Dry Guys Basement Systems  Billable Lead  100.0   \n",
       "\n",
       "         campaign  is_mobile landing_page contact_page previous_page  \\\n",
       "0  Phone Transfer        NaN          NaN          NaN           NaN   \n",
       "1  Phone Transfer        NaN          NaN          NaN           NaN   \n",
       "2             NaN        NaN          NaN          NaN           NaN   \n",
       "3  Phone Transfer        NaN          NaN          NaN           NaN   \n",
       "4             NaN        NaN          NaN          NaN           NaN   \n",
       "\n",
       "   inbound_number call_status  duration  job_sold  \n",
       "0             NaN         NaN       NaN       NaN  \n",
       "1             NaN         NaN       NaN       NaN  \n",
       "2             NaN         NaN       NaN       NaN  \n",
       "3             NaN         NaN       NaN       NaN  \n",
       "4             NaN         NaN       NaN       1.0  "
      ]
     },
     "execution_count": 104,
     "metadata": {},
     "output_type": "execute_result"
    }
   ],
   "source": [
    "df.head()"
   ]
  },
  {
   "cell_type": "code",
   "execution_count": 105,
   "metadata": {
    "collapsed": true
   },
   "outputs": [],
   "source": [
    "ck_null = lambda fd: (df[fd].isnull()).sum()\n",
    "ck_count = lambda fd: df[fd].value_counts().head(10)"
   ]
  },
  {
   "cell_type": "code",
   "execution_count": 106,
   "metadata": {},
   "outputs": [
    {
     "name": "stdout",
     "output_type": "stream",
     "text": [
      "0        1243807 0.0   % id\n",
      "3284     1243807 0.26  % name\n",
      "68868    1243807 5.54  % address\n",
      "3134     1243807 0.25  % city\n",
      "0        1243807 0.0   % state\n",
      "43797    1243807 3.52  % zip\n",
      "0        1243807 0.0   % type\n",
      "4        1243807 0.0   % source\n",
      "367      1243807 0.03  % association\n",
      "7111     1243807 0.57  % service_type\n",
      "0        1243807 0.0   % received_time\n",
      "0        1243807 0.0   % sent_time\n",
      "172      1243807 0.01  % company\n",
      "0        1243807 0.0   % status\n",
      "0        1243807 0.0   % price\n",
      "939164   1243807 75.51 % campaign\n",
      "978626   1243807 78.68 % is_mobile\n",
      "461169   1243807 37.08 % landing_page\n",
      "613968   1243807 49.36 % contact_page\n",
      "654039   1243807 52.58 % previous_page\n",
      "699281   1243807 56.22 % inbound_number\n",
      "699281   1243807 56.22 % call_status\n",
      "699281   1243807 56.22 % duration\n",
      "1221674  1243807 98.22 % job_sold\n"
     ]
    }
   ],
   "source": [
    "for i in df:\n",
    "    m, n = ck_null(i), df.shape[0]\n",
    "    print  str(m).ljust(8), n, str(round(m/float(n),4)*100).ljust(5)+' %', i"
   ]
  },
  {
   "cell_type": "code",
   "execution_count": 107,
   "metadata": {},
   "outputs": [],
   "source": [
    "df = df.fillna('No Data')"
   ]
  },
  {
   "cell_type": "code",
   "execution_count": 108,
   "metadata": {},
   "outputs": [
    {
     "data": {
      "text/plain": [
       "Index([u'id', u'name', u'address', u'city', u'state', u'zip', u'type',\n",
       "       u'source', u'association', u'service_type', u'received_time',\n",
       "       u'sent_time', u'company', u'status', u'price', u'campaign',\n",
       "       u'is_mobile', u'landing_page', u'contact_page', u'previous_page',\n",
       "       u'inbound_number', u'call_status', u'duration', u'job_sold'],\n",
       "      dtype='object')"
      ]
     },
     "execution_count": 108,
     "metadata": {},
     "output_type": "execute_result"
    }
   ],
   "source": [
    "df.columns"
   ]
  },
  {
   "cell_type": "code",
   "execution_count": 109,
   "metadata": {},
   "outputs": [
    {
     "data": {
      "text/plain": [
       "Billable Lead    825202\n",
       "No Charge        418605\n",
       "Name: status, dtype: int64"
      ]
     },
     "execution_count": 109,
     "metadata": {},
     "output_type": "execute_result"
    }
   ],
   "source": [
    "ck_count('status')"
   ]
  },
  {
   "cell_type": "code",
   "execution_count": 110,
   "metadata": {},
   "outputs": [
    {
     "data": {
      "text/plain": [
       "0.0      416926\n",
       "90.0        572\n",
       "100.0       289\n",
       "120.0       270\n",
       "60.0        250\n",
       "75.0        205\n",
       "50.0         69\n",
       "80.0          7\n",
       "85.0          4\n",
       "35.0          3\n",
       "130.0         3\n",
       "200.0         2\n",
       "150.0         2\n",
       "30.0          2\n",
       "125.0         1\n",
       "Name: price, dtype: int64"
      ]
     },
     "execution_count": 110,
     "metadata": {},
     "output_type": "execute_result"
    }
   ],
   "source": [
    "df[df['status']!='Billable Lead']['price'].value_counts()"
   ]
  },
  {
   "cell_type": "code",
   "execution_count": 111,
   "metadata": {},
   "outputs": [],
   "source": [
    "# (df['received_time'].isnull()).sum()\n",
    "# df['zip'].value_counts()\n",
    "# df['company'].value_counts()\n",
    "# df['contact_page'].value_counts()"
   ]
  },
  {
   "cell_type": "code",
   "execution_count": 112,
   "metadata": {},
   "outputs": [
    {
     "data": {
      "text/plain": [
       "Timestamp('2007-08-01 08:09:22')"
      ]
     },
     "execution_count": 112,
     "metadata": {},
     "output_type": "execute_result"
    }
   ],
   "source": [
    "pd.Timestamp(df['sent_time'][0])"
   ]
  },
  {
   "cell_type": "code",
   "execution_count": 113,
   "metadata": {},
   "outputs": [
    {
     "data": {
      "text/plain": [
       "'2007-08-01 08:09:22'"
      ]
     },
     "execution_count": 113,
     "metadata": {},
     "output_type": "execute_result"
    }
   ],
   "source": [
    "df['sent_time'][0]"
   ]
  },
  {
   "cell_type": "code",
   "execution_count": 114,
   "metadata": {
    "collapsed": true
   },
   "outputs": [],
   "source": [
    "def dm(x):\n",
    "    try:\n",
    "        return pd.Timestamp(x)\n",
    "    except:\n",
    "        print x\n",
    "        return x"
   ]
  },
  {
   "cell_type": "code",
   "execution_count": 115,
   "metadata": {},
   "outputs": [
    {
     "data": {
      "text/plain": [
       "(1243807, 27)"
      ]
     },
     "execution_count": 115,
     "metadata": {},
     "output_type": "execute_result"
    }
   ],
   "source": [
    "df['month']=df['sent_time'].apply(lambda x:x.split('-')[1])\n",
    "df['day']=df['sent_time'].apply(lambda x:x.split('-')[2][:2])\n",
    "df['hour']=df['sent_time'].apply(lambda x:x.split(' ')[-1][:2])\n",
    "df.shape"
   ]
  },
  {
   "cell_type": "code",
   "execution_count": 116,
   "metadata": {},
   "outputs": [],
   "source": [
    "# ck_count('day')"
   ]
  },
  {
   "cell_type": "code",
   "execution_count": 117,
   "metadata": {},
   "outputs": [],
   "source": [
    "# df['time']=df['sent_time'].apply(dm)\n",
    "# df.shape"
   ]
  },
  {
   "cell_type": "code",
   "execution_count": 118,
   "metadata": {},
   "outputs": [
    {
     "data": {
      "text/plain": [
       "Index([u'id', u'name', u'address', u'city', u'state', u'zip', u'type',\n",
       "       u'source', u'association', u'service_type', u'received_time',\n",
       "       u'sent_time', u'company', u'status', u'price', u'campaign',\n",
       "       u'is_mobile', u'landing_page', u'contact_page', u'previous_page',\n",
       "       u'inbound_number', u'call_status', u'duration', u'job_sold', u'month',\n",
       "       u'day', u'hour'],\n",
       "      dtype='object')"
      ]
     },
     "execution_count": 118,
     "metadata": {},
     "output_type": "execute_result"
    }
   ],
   "source": [
    "df.columns"
   ]
  },
  {
   "cell_type": "code",
   "execution_count": 119,
   "metadata": {
    "collapsed": true
   },
   "outputs": [],
   "source": [
    "df= df.drop(['id','price', 'name', 'address', 'sent_time', \n",
    "             'sent_time', 'received_time', 'duration', 'job_sold', 'inbound_number'], axis=1)"
   ]
  },
  {
   "cell_type": "code",
   "execution_count": 120,
   "metadata": {
    "collapsed": true
   },
   "outputs": [],
   "source": [
    "from sklearn.preprocessing import LabelEncoder"
   ]
  },
  {
   "cell_type": "code",
   "execution_count": 121,
   "metadata": {},
   "outputs": [
    {
     "data": {
      "text/plain": [
       "LabelEncoder()"
      ]
     },
     "execution_count": 121,
     "metadata": {},
     "output_type": "execute_result"
    }
   ],
   "source": [
    "lb = LabelEncoder()\n",
    "lb"
   ]
  },
  {
   "cell_type": "code",
   "execution_count": 123,
   "metadata": {},
   "outputs": [
    {
     "data": {
      "text/plain": [
       "array([ 86, 620, 551, ..., 623, 706,  12])"
      ]
     },
     "execution_count": 123,
     "metadata": {},
     "output_type": "execute_result"
    }
   ],
   "source": [
    "lb.fit_transform(df['company'])"
   ]
  },
  {
   "cell_type": "code",
   "execution_count": 127,
   "metadata": {},
   "outputs": [
    {
     "data": {
      "text/plain": [
       "'4th Dimension Concepts'"
      ]
     },
     "execution_count": 127,
     "metadata": {},
     "output_type": "execute_result"
    }
   ],
   "source": [
    "lb.inverse_transform(1)"
   ]
  },
  {
   "cell_type": "code",
   "execution_count": 128,
   "metadata": {
    "collapsed": true
   },
   "outputs": [],
   "source": [
    "%%time\n",
    "def label_encode(df, columns):\n",
    "    for col in columns:\n",
    "        le = LabelEncoder()\n",
    "        col_values_unique = list(df[col].unique())\n",
    "        le_fitted = le.fit(col_values_unique)\n",
    " \n",
    "        col_values = list(df[col].values)\n",
    "        le.classes_\n",
    "        col_values_transformed = le.transform(col_values)\n",
    "        df[col] = col_values_transformed\n",
    " \n",
    "to_be_encoded_cols = df.columns.values\n",
    "label_encode(df, to_be_encoded_cols)"
   ]
  },
  {
   "cell_type": "code",
   "execution_count": 132,
   "metadata": {},
   "outputs": [],
   "source": [
    "df = df.drop('id', axis=1)"
   ]
  },
  {
   "cell_type": "code",
   "execution_count": 133,
   "metadata": {},
   "outputs": [
    {
     "data": {
      "text/html": [
       "<div>\n",
       "<style>\n",
       "    .dataframe thead tr:only-child th {\n",
       "        text-align: right;\n",
       "    }\n",
       "\n",
       "    .dataframe thead th {\n",
       "        text-align: left;\n",
       "    }\n",
       "\n",
       "    .dataframe tbody tr th {\n",
       "        vertical-align: top;\n",
       "    }\n",
       "</style>\n",
       "<table border=\"1\" class=\"dataframe\">\n",
       "  <thead>\n",
       "    <tr style=\"text-align: right;\">\n",
       "      <th></th>\n",
       "      <th>city</th>\n",
       "      <th>state</th>\n",
       "      <th>zip</th>\n",
       "      <th>type</th>\n",
       "      <th>source</th>\n",
       "      <th>association</th>\n",
       "      <th>service_type</th>\n",
       "      <th>company</th>\n",
       "      <th>status</th>\n",
       "      <th>campaign</th>\n",
       "      <th>is_mobile</th>\n",
       "      <th>landing_page</th>\n",
       "      <th>contact_page</th>\n",
       "      <th>previous_page</th>\n",
       "      <th>inbound_number</th>\n",
       "      <th>call_status</th>\n",
       "      <th>month</th>\n",
       "      <th>day</th>\n",
       "      <th>hour</th>\n",
       "    </tr>\n",
       "  </thead>\n",
       "  <tbody>\n",
       "    <tr>\n",
       "      <th>0</th>\n",
       "      <td>43379</td>\n",
       "      <td>44</td>\n",
       "      <td>71023</td>\n",
       "      <td>0</td>\n",
       "      <td>9</td>\n",
       "      <td>0</td>\n",
       "      <td>79</td>\n",
       "      <td>86</td>\n",
       "      <td>0</td>\n",
       "      <td>30</td>\n",
       "      <td>2</td>\n",
       "      <td>0</td>\n",
       "      <td>0</td>\n",
       "      <td>0</td>\n",
       "      <td>33664</td>\n",
       "      <td>1</td>\n",
       "      <td>8</td>\n",
       "      <td>1</td>\n",
       "      <td>8</td>\n",
       "    </tr>\n",
       "    <tr>\n",
       "      <th>1</th>\n",
       "      <td>44269</td>\n",
       "      <td>39</td>\n",
       "      <td>4182</td>\n",
       "      <td>0</td>\n",
       "      <td>9</td>\n",
       "      <td>0</td>\n",
       "      <td>23</td>\n",
       "      <td>620</td>\n",
       "      <td>0</td>\n",
       "      <td>30</td>\n",
       "      <td>2</td>\n",
       "      <td>0</td>\n",
       "      <td>0</td>\n",
       "      <td>0</td>\n",
       "      <td>33664</td>\n",
       "      <td>1</td>\n",
       "      <td>8</td>\n",
       "      <td>1</td>\n",
       "      <td>8</td>\n",
       "    </tr>\n",
       "    <tr>\n",
       "      <th>2</th>\n",
       "      <td>15030</td>\n",
       "      <td>21</td>\n",
       "      <td>886</td>\n",
       "      <td>1</td>\n",
       "      <td>9</td>\n",
       "      <td>0</td>\n",
       "      <td>23</td>\n",
       "      <td>551</td>\n",
       "      <td>0</td>\n",
       "      <td>25</td>\n",
       "      <td>2</td>\n",
       "      <td>0</td>\n",
       "      <td>0</td>\n",
       "      <td>0</td>\n",
       "      <td>33664</td>\n",
       "      <td>1</td>\n",
       "      <td>8</td>\n",
       "      <td>1</td>\n",
       "      <td>8</td>\n",
       "    </tr>\n",
       "    <tr>\n",
       "      <th>3</th>\n",
       "      <td>45713</td>\n",
       "      <td>31</td>\n",
       "      <td>71023</td>\n",
       "      <td>0</td>\n",
       "      <td>9</td>\n",
       "      <td>0</td>\n",
       "      <td>23</td>\n",
       "      <td>639</td>\n",
       "      <td>0</td>\n",
       "      <td>30</td>\n",
       "      <td>2</td>\n",
       "      <td>0</td>\n",
       "      <td>0</td>\n",
       "      <td>0</td>\n",
       "      <td>33664</td>\n",
       "      <td>1</td>\n",
       "      <td>8</td>\n",
       "      <td>1</td>\n",
       "      <td>8</td>\n",
       "    </tr>\n",
       "    <tr>\n",
       "      <th>4</th>\n",
       "      <td>45853</td>\n",
       "      <td>35</td>\n",
       "      <td>71023</td>\n",
       "      <td>0</td>\n",
       "      <td>13</td>\n",
       "      <td>0</td>\n",
       "      <td>23</td>\n",
       "      <td>299</td>\n",
       "      <td>0</td>\n",
       "      <td>25</td>\n",
       "      <td>2</td>\n",
       "      <td>0</td>\n",
       "      <td>0</td>\n",
       "      <td>0</td>\n",
       "      <td>33664</td>\n",
       "      <td>1</td>\n",
       "      <td>8</td>\n",
       "      <td>1</td>\n",
       "      <td>9</td>\n",
       "    </tr>\n",
       "  </tbody>\n",
       "</table>\n",
       "</div>"
      ],
      "text/plain": [
       "    city  state    zip  type  source  association  service_type  company  \\\n",
       "0  43379     44  71023     0       9            0            79       86   \n",
       "1  44269     39   4182     0       9            0            23      620   \n",
       "2  15030     21    886     1       9            0            23      551   \n",
       "3  45713     31  71023     0       9            0            23      639   \n",
       "4  45853     35  71023     0      13            0            23      299   \n",
       "\n",
       "   status  campaign  is_mobile  landing_page  contact_page  previous_page  \\\n",
       "0       0        30          2             0             0              0   \n",
       "1       0        30          2             0             0              0   \n",
       "2       0        25          2             0             0              0   \n",
       "3       0        30          2             0             0              0   \n",
       "4       0        25          2             0             0              0   \n",
       "\n",
       "   inbound_number  call_status  month  day  hour  \n",
       "0           33664            1      8    1     8  \n",
       "1           33664            1      8    1     8  \n",
       "2           33664            1      8    1     8  \n",
       "3           33664            1      8    1     8  \n",
       "4           33664            1      8    1     9  "
      ]
     },
     "execution_count": 133,
     "metadata": {},
     "output_type": "execute_result"
    }
   ],
   "source": [
    "df.head()"
   ]
  },
  {
   "cell_type": "code",
   "execution_count": null,
   "metadata": {
    "collapsed": true
   },
   "outputs": [],
   "source": []
  },
  {
   "cell_type": "code",
   "execution_count": 134,
   "metadata": {},
   "outputs": [
    {
     "data": {
      "text/plain": [
       "(1243807,)"
      ]
     },
     "execution_count": 134,
     "metadata": {},
     "output_type": "execute_result"
    }
   ],
   "source": [
    "mark = df.pop('status')\n",
    "mark.shape"
   ]
  },
  {
   "cell_type": "code",
   "execution_count": 135,
   "metadata": {
    "collapsed": true
   },
   "outputs": [],
   "source": [
    "from sklearn.ensemble import RandomForestClassifier"
   ]
  },
  {
   "cell_type": "code",
   "execution_count": 168,
   "metadata": {},
   "outputs": [
    {
     "data": {
      "text/plain": [
       "RandomForestClassifier(bootstrap=True, class_weight=None, criterion='gini',\n",
       "            max_depth=None, max_features='auto', max_leaf_nodes=None,\n",
       "            min_impurity_split=1e-07, min_samples_leaf=1,\n",
       "            min_samples_split=2, min_weight_fraction_leaf=0.0,\n",
       "            n_estimators=10, n_jobs=1, oob_score=False, random_state=None,\n",
       "            verbose=0, warm_start=False)"
      ]
     },
     "execution_count": 168,
     "metadata": {},
     "output_type": "execute_result"
    }
   ],
   "source": [
    "rf = RandomForestClassifier()\n",
    "rf"
   ]
  },
  {
   "cell_type": "code",
   "execution_count": 167,
   "metadata": {},
   "outputs": [],
   "source": [
    "# df0 = df.iloc[:1000,:]\n",
    "# y0 = mark.iloc[:1000]\n",
    "# df1 = df.iloc[1000:1500]\n",
    "# y1 = mark.iloc[1000:1500]"
   ]
  },
  {
   "cell_type": "code",
   "execution_count": 178,
   "metadata": {},
   "outputs": [],
   "source": [
    "from sklearn.model_selection import cross_val_score\n",
    "from sklearn.model_selection import train_test_split\n",
    "from sklearn.metrics import accuracy_score"
   ]
  },
  {
   "cell_type": "code",
   "execution_count": 164,
   "metadata": {},
   "outputs": [],
   "source": [
    "dim = lambda *x: [i.shape for i in x]"
   ]
  },
  {
   "cell_type": "code",
   "execution_count": 165,
   "metadata": {},
   "outputs": [
    {
     "data": {
      "text/plain": [
       "[(833350, 18), (410457, 18), (833350,), (410457,)]"
      ]
     },
     "execution_count": 165,
     "metadata": {},
     "output_type": "execute_result"
    }
   ],
   "source": [
    "X_train, X_test, y_train, y_test = train_test_split(df, mark, test_size=0.33, random_state=0)\n",
    "dim(X_train, X_test, y_train, y_test)"
   ]
  },
  {
   "cell_type": "code",
   "execution_count": 169,
   "metadata": {},
   "outputs": [
    {
     "name": "stdout",
     "output_type": "stream",
     "text": [
      "CPU times: user 18.1 s, sys: 28 ms, total: 18.1 s\n",
      "Wall time: 18.1 s\n"
     ]
    }
   ],
   "source": [
    "%%time\n",
    "rf.fit(X_train, y_train)\n",
    "rf"
   ]
  },
  {
   "cell_type": "code",
   "execution_count": 170,
   "metadata": {},
   "outputs": [
    {
     "data": {
      "text/plain": [
       "RandomForestClassifier(bootstrap=True, class_weight=None, criterion='gini',\n",
       "            max_depth=None, max_features='auto', max_leaf_nodes=None,\n",
       "            min_impurity_split=1e-07, min_samples_leaf=1,\n",
       "            min_samples_split=2, min_weight_fraction_leaf=0.0,\n",
       "            n_estimators=10, n_jobs=1, oob_score=False, random_state=None,\n",
       "            verbose=0, warm_start=False)"
      ]
     },
     "execution_count": 170,
     "metadata": {},
     "output_type": "execute_result"
    }
   ],
   "source": [
    "rf"
   ]
  },
  {
   "cell_type": "code",
   "execution_count": 172,
   "metadata": {},
   "outputs": [
    {
     "name": "stdout",
     "output_type": "stream",
     "text": [
      "(410457,)\n"
     ]
    },
    {
     "data": {
      "text/plain": [
       "array([0, 1, 0])"
      ]
     },
     "execution_count": 172,
     "metadata": {},
     "output_type": "execute_result"
    }
   ],
   "source": [
    "pred = rf.predict(X_test)\n",
    "print pred.shape\n",
    "pred[:3]"
   ]
  },
  {
   "cell_type": "code",
   "execution_count": 181,
   "metadata": {},
   "outputs": [
    {
     "data": {
      "text/plain": [
       "0.81610010305586211"
      ]
     },
     "execution_count": 181,
     "metadata": {},
     "output_type": "execute_result"
    }
   ],
   "source": [
    "accuracy_score(y_test, pred)"
   ]
  },
  {
   "cell_type": "code",
   "execution_count": 183,
   "metadata": {},
   "outputs": [
    {
     "data": {
      "text/plain": [
       "array([ 0.07836604,  0.03096615,  0.11350563,  0.00323515,  0.24224846,\n",
       "        0.02711833,  0.03714761,  0.04618893,  0.01657631,  0.01034637,\n",
       "        0.06000942,  0.0288272 ,  0.02482893,  0.06093197,  0.00707007,\n",
       "        0.06221312,  0.08181211,  0.06860819])"
      ]
     },
     "execution_count": 183,
     "metadata": {},
     "output_type": "execute_result"
    }
   ],
   "source": [
    "rf.feature_importances_"
   ]
  },
  {
   "cell_type": "code",
   "execution_count": 184,
   "metadata": {
    "collapsed": true
   },
   "outputs": [],
   "source": [
    "forest = rf"
   ]
  },
  {
   "cell_type": "code",
   "execution_count": 188,
   "metadata": {
    "collapsed": true
   },
   "outputs": [],
   "source": [
    "import numpy as np\n",
    "import matplotlib.pyplot as plt\n",
    "X=X_train"
   ]
  },
  {
   "cell_type": "code",
   "execution_count": 197,
   "metadata": {},
   "outputs": [
    {
     "data": {
      "text/plain": [
       "'type'"
      ]
     },
     "execution_count": 197,
     "metadata": {},
     "output_type": "execute_result"
    }
   ],
   "source": [
    "X.columns[3]"
   ]
  },
  {
   "cell_type": "code",
   "execution_count": 201,
   "metadata": {
    "collapsed": true
   },
   "outputs": [],
   "source": [
    "plt.bar?"
   ]
  },
  {
   "cell_type": "code",
   "execution_count": 204,
   "metadata": {},
   "outputs": [
    {
     "data": {
      "text/plain": [
       "array([ 4,  2, 16,  0, 17, 15, 13, 10,  7,  6,  1, 11,  5, 12,  8,  9, 14,\n",
       "        3])"
      ]
     },
     "execution_count": 204,
     "metadata": {},
     "output_type": "execute_result"
    }
   ],
   "source": [
    "indices"
   ]
  },
  {
   "cell_type": "code",
   "execution_count": 206,
   "metadata": {},
   "outputs": [
    {
     "data": {
      "text/plain": [
       "['source',\n",
       " 'zip',\n",
       " 'day',\n",
       " 'city',\n",
       " 'hour',\n",
       " 'month',\n",
       " 'inbound_number',\n",
       " 'landing_page',\n",
       " 'company',\n",
       " 'service_type',\n",
       " 'state',\n",
       " 'contact_page',\n",
       " 'association',\n",
       " 'previous_page',\n",
       " 'campaign',\n",
       " 'is_mobile',\n",
       " 'call_status',\n",
       " 'type']"
      ]
     },
     "execution_count": 206,
     "metadata": {},
     "output_type": "execute_result"
    }
   ],
   "source": [
    "list(X.columns[indices])"
   ]
  },
  {
   "cell_type": "code",
   "execution_count": 209,
   "metadata": {
    "collapsed": true
   },
   "outputs": [],
   "source": [
    "plt.barh?"
   ]
  },
  {
   "cell_type": "code",
   "execution_count": 220,
   "metadata": {},
   "outputs": [
    {
     "data": {
      "image/png": "[encoded data removed]",
      "text/plain": [
       "<matplotlib.figure.Figure at 0x7f2352bea590>"
      ]
     },
     "metadata": {},
     "output_type": "display_data"
    },
    {
     "name": "stdout",
     "output_type": "stream",
     "text": [
      "Feature ranking:\n",
      "1. feature source (0.242248)\n",
      "2. feature zip (0.113506)\n",
      "3. feature day (0.081812)\n",
      "4. feature city (0.078366)\n",
      "5. feature hour (0.068608)\n",
      "6. feature month (0.062213)\n",
      "7. feature inbound_number (0.060932)\n",
      "8. feature landing_page (0.060009)\n",
      "9. feature company (0.046189)\n",
      "10. feature service_type (0.037148)\n",
      "11. feature state (0.030966)\n",
      "12. feature contact_page (0.028827)\n",
      "13. feature association (0.027118)\n",
      "14. feature previous_page (0.024829)\n",
      "15. feature campaign (0.016576)\n",
      "16. feature is_mobile (0.010346)\n",
      "17. feature call_status (0.007070)\n",
      "18. feature type (0.003235)\n"
     ]
    }
   ],
   "source": [
    "importances = forest.feature_importances_\n",
    "std = np.std([tree.feature_importances_ for tree in forest.estimators_],\n",
    "             axis=0)\n",
    "indices = np.argsort(importances)[::-1]\n",
    "\n",
    "\n",
    "\n",
    "# Plot the feature importances of the forest\n",
    "plt.figure(figsize=(16,8))\n",
    "plt.title(\"Feature importances\")\n",
    "plt.barh(range(X.shape[1]), importances[indices],\n",
    "       color=\"r\", xerr=std[indices], \n",
    "        align=\"center\", alpha=.7)\n",
    "\n",
    "plt.yticks(range(X.shape[1]), list(X.columns[indices]))\n",
    "plt.ylim([-1, X.shape[1]])\n",
    "\n",
    "plt.gca().invert_yaxis()\n",
    "\n",
    "plt.show()\n",
    "\n",
    "# Print the feature ranking\n",
    "print(\"Feature ranking:\")\n",
    "for f in range(X.shape[1]):\n",
    "    print(\"%d. feature %s (%f)\" % (f + 1, X.columns[indices[f]], importances[indices[f]]))"
   ]
  },
  {
   "cell_type": "code",
   "execution_count": 191,
   "metadata": {},
   "outputs": [],
   "source": [
    "# cross_val_score(rf, df.values, mark.values, cv=5)"
   ]
  },
  {
   "cell_type": "code",
   "execution_count": 148,
   "metadata": {},
   "outputs": [
    {
     "name": "stdout",
     "output_type": "stream",
     "text": [
      "CPU times: user 28 ms, sys: 0 ns, total: 28 ms\n",
      "Wall time: 26.9 ms\n"
     ]
    },
    {
     "data": {
      "text/plain": [
       "RandomForestClassifier(bootstrap=True, class_weight=None, criterion='gini',\n",
       "            max_depth=None, max_features='auto', max_leaf_nodes=None,\n",
       "            min_impurity_split=1e-07, min_samples_leaf=1,\n",
       "            min_samples_split=2, min_weight_fraction_leaf=0.0,\n",
       "            n_estimators=10, n_jobs=1, oob_score=False, random_state=None,\n",
       "            verbose=0, warm_start=False)"
      ]
     },
     "execution_count": 148,
     "metadata": {},
     "output_type": "execute_result"
    }
   ],
   "source": [
    "%%time\n",
    "rf.fit(df0, y0)"
   ]
  },
  {
   "cell_type": "code",
   "execution_count": null,
   "metadata": {
    "collapsed": true
   },
   "outputs": [],
   "source": []
  }
 ],
 "metadata": {
  "kernelspec": {
   "display_name": "Python 2",
   "language": "python",
   "name": "python2"
  },
  "language_info": {
   "codemirror_mode": {
    "name": "ipython",
    "version": 2
   },
   "file_extension": ".py",
   "mimetype": "text/x-python",
   "name": "python",
   "nbconvert_exporter": "python",
   "pygments_lexer": "ipython2",
   "version": "2.7.13"
  }
 },
 "nbformat": 4,
 "nbformat_minor": 2
}
