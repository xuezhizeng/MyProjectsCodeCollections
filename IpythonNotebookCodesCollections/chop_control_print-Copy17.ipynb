{
 "cells": [
  {
   "cell_type": "code",
   "execution_count": 1,
   "metadata": {
    "collapsed": true
   },
   "outputs": [],
   "source": [
    "# !ls"
   ]
  },
  {
   "cell_type": "code",
   "execution_count": 1,
   "metadata": {
    "scrolled": true
   },
   "outputs": [
    {
     "name": "stdout",
     "output_type": "stream",
     "text": [
      "1 used 0.00 s | 100 used 37.60 s | 200 used 77.64 s | 300 used 117.43 s | 400 used 156.54 s | 500 used 195.71 s | 600 used 237.74 s | 700 used 279.58 s | 800 used 318.61 s | 900 used 360.09 s | 1000 used 400.89 s | 1100 used 442.19 s | 1200 used 480.96 s | 1300 used 520.65 s | 1400 used 561.85 s | 1500 used 599.81 s | 1600 used 640.59 s | 1700 used 683.79 s | 1800 used 725.17 s | 1900 used 764.69 s | 2000 used 805.22 s | 2100 used 844.37 s | 2200 used 883.95 s | 2300 used 925.49 s | 2400 used 965.35 s | 2500 used 1004.13 s | 2600 used 1046.18 s | 2700 used 1085.98 s | 2800 used 1125.41 s | 2900 used 1166.14 s | 3000 used 1206.29 s | 3100 used 1246.69 s | 3200 used 1285.11 s | 3300 used 1326.62 s | 3400 used 1366.08 s | 3500 used 1406.60 s | 3600 used 1447.97 s | 3700 used 1488.66 s | 3800 used 1528.95 s | 3900 used 1569.82 s | 4000 used 1609.84 s | 4100 used 1649.63 s | 4200 used 1690.03 s | 4300 used 1731.65 s | 4400 used 1772.54 s | 4500 used 1814.55 s | 4600 used 1854.61 s | 4700 used 1895.05 s | 4800 used 1935.98 s | 4900 used 1976.02 s | 5000 used 2017.31 s | 5100 used 2058.43 s | 5200 used 2099.19 s | 5300 used 2140.85 s | 5400 used 2181.13 s | 5500 used 2220.37 s | 5600 used 2260.77 s | 5700 used 2300.44 s | 5800 used 2340.29 s | 5900 used 2380.78 s | 6000 used 2419.99 s | 6100 used 2459.48 s | 6200 used 2497.74 s | 6300 used 2537.43 s | 6400 used 2577.67 s | 6500 used 2618.68 s | 6600 used 2659.67 s | 6700 used 2699.48 s | 6800 used 2738.85 s | 6900 used 2778.80 s | 7000 used 2819.04 s | 7100 used 2859.66 s | 7200 used 2899.41 s | 7300 used 2939.93 s | 7400 used 2979.41 s | 7500 used 3021.31 s | 7600 used 3061.73 s | 7700 used 3100.81 s | 7800 used 3141.52 s | 7900 used 3181.58 s | 8000 used 3220.11 s | 8100 used 3263.53 s | 8200 used 3303.21 s | 8300 used 3344.06 s | 8400 used 3383.92 s | 8500 used 3425.98 s | 8600 used 3464.07 s | 8700 used 3504.20 s | 8800 used 3544.54 s | 8900 used 3587.19 s | 9000 used 3628.57 s | 9100 used 3669.15 s | 9200 used 3707.63 s | 9300 used 3750.38 s | 9400 used 3790.28 s | 9500 used 3828.75 s | 9600 used 3868.28 s | 9700 used 3908.81 s | 9800 used 3949.85 s | 9900 used 3989.55 s |\n"
     ]
    },
    {
     "data": {
      "text/plain": [
       "4027.4415678977966"
      ]
     },
     "execution_count": 1,
     "metadata": {},
     "output_type": "execute_result"
    }
   ],
   "source": [
    "from time import time\n",
    "start=time()\n",
    "start\n",
    "\n",
    "\n",
    "!python -u /root/openface/util/align-dlib_mod.py \\\n",
    "../real_soyoung_pics/img_21 align \\\n",
    "outerEyesAndNose \\\n",
    "../chopHead256_real_soyoung_pics \\\n",
    "--size 256\n",
    "\n",
    "end=time()-start\n",
    "end"
   ]
  },
  {
   "cell_type": "code",
   "execution_count": null,
   "metadata": {
    "collapsed": true
   },
   "outputs": [],
   "source": []
  }
 ],
 "metadata": {
  "kernelspec": {
   "display_name": "Python 2",
   "language": "python",
   "name": "python2"
  },
  "language_info": {
   "codemirror_mode": {
    "name": "ipython",
    "version": 2
   },
   "file_extension": ".py",
   "mimetype": "text/x-python",
   "name": "python",
   "nbconvert_exporter": "python",
   "pygments_lexer": "ipython2",
   "version": "2.7.6"
  }
 },
 "nbformat": 4,
 "nbformat_minor": 2
}
