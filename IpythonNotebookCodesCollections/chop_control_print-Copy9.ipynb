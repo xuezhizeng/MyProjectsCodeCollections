{
 "cells": [
  {
   "cell_type": "code",
   "execution_count": 1,
   "metadata": {
    "collapsed": true
   },
   "outputs": [],
   "source": [
    "# !ls"
   ]
  },
  {
   "cell_type": "code",
   "execution_count": 1,
   "metadata": {},
   "outputs": [
    {
     "name": "stdout",
     "output_type": "stream",
     "text": [
      "1 used 0.00 s | 100 used 64.84 s | 200 used 137.83 s | 300 used 211.52 s | 400 used 284.57 s | 500 used 356.35 s | 600 used 437.92 s | 700 used 508.57 s | 800 used 579.91 s | 900 used 646.64 s | 1000 used 716.74 s | 1100 used 789.44 s | 1200 used 862.24 s | 1300 used 936.41 s | 1400 used 1007.20 s | 1500 used 1074.79 s | 1600 used 1146.97 s | 1700 used 1216.86 s | 1800 used 1284.37 s | 1900 used 1351.98 s | 2000 used 1423.86 s | 2100 used 1493.35 s | 2200 used 1561.24 s | 2300 used 1630.83 s | 2400 used 1705.29 s | 2500 used 1774.65 s | 2600 used 1842.04 s | 2700 used 1910.89 s | 2800 used 1980.40 s | 2900 used 2052.31 s | 3000 used 2124.98 s | 3100 used 2196.86 s | 3200 used 2267.24 s | 3300 used 2339.22 s | 3400 used 2410.95 s | 3500 used 2484.58 s | 3600 used 2555.82 s | 3700 used 2625.30 s | 3800 used 2694.76 s | 3900 used 2765.49 s | 4000 used 2841.48 s | 4100 used 2909.94 s | 4200 used 2980.30 s | 4300 used 3045.78 s | 4400 used 3119.21 s | 4500 used 3189.84 s | 4600 used 3262.64 s | 4700 used 3333.12 s | 4800 used 3405.17 s | 4900 used 3474.62 s | 5000 used 3540.05 s | 5100 used 3614.51 s | 5200 used 3686.83 s | 5300 used 3759.03 s | 5400 used 3827.53 s | 5500 used 3891.14 s | 5600 used 3961.92 s | 5700 used 4031.38 s | 5800 used 4101.62 s | 5900 used 4175.09 s | 6000 used 4248.12 s | 6100 used 4316.61 s | 6200 used 4387.21 s | 6300 used 4454.00 s | 6400 used 4527.38 s | 6500 used 4601.68 s | 6600 used 4670.67 s | 6700 used 4743.35 s | 6800 used 4817.40 s | 6900 used 4888.46 s | 7000 used 4956.12 s | 7100 used 5022.80 s | 7200 used 5090.69 s | 7300 used 5160.65 s | 7400 used 5230.46 s | 7500 used 5306.79 s | 7600 used 5376.62 s | 7700 used 5451.08 s | 7800 used 5518.51 s | 7900 used 5588.58 s | 8000 used 5656.81 s | 8100 used 5727.71 s | 8200 used 5797.55 s | 8300 used 5866.27 s | 8400 used 5939.24 s | 8500 used 6007.41 s | 8600 used 6079.42 s | 8700 used 6150.62 s | 8800 used 6221.36 s | 8900 used 6289.33 s | 9000 used 6362.46 s | 9100 used 6433.59 s | 9200 used 6503.96 s | 9300 used 6572.72 s | 9400 used 6637.96 s | 9500 used 6705.30 s | 9600 used 6773.64 s | 9700 used 6836.99 s | 9800 used 6907.59 s | 9900 used 6977.37 s |\n"
     ]
    },
    {
     "data": {
      "text/plain": [
       "7045.570438861847"
      ]
     },
     "execution_count": 1,
     "metadata": {},
     "output_type": "execute_result"
    }
   ],
   "source": [
    "from time import time\n",
    "start=time()\n",
    "start\n",
    "\n",
    "\n",
    "!python -u /root/openface/util/align-dlib_mod.py \\\n",
    "../real_soyoung_pics/img_13 align \\\n",
    "outerEyesAndNose \\\n",
    "../chopHead256_real_soyoung_pics \\\n",
    "--size 256\n",
    "\n",
    "end=time()-start\n",
    "end"
   ]
  },
  {
   "cell_type": "code",
   "execution_count": null,
   "metadata": {
    "collapsed": true
   },
   "outputs": [],
   "source": []
  }
 ],
 "metadata": {
  "kernelspec": {
   "display_name": "Python 2",
   "language": "python",
   "name": "python2"
  },
  "language_info": {
   "codemirror_mode": {
    "name": "ipython",
    "version": 2
   },
   "file_extension": ".py",
   "mimetype": "text/x-python",
   "name": "python",
   "nbconvert_exporter": "python",
   "pygments_lexer": "ipython2",
   "version": "2.7.6"
  }
 },
 "nbformat": 4,
 "nbformat_minor": 2
}
