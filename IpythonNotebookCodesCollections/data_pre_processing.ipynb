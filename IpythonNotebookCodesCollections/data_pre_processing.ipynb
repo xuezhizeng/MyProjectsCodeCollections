{
 "cells": [
  {
   "cell_type": "code",
   "execution_count": 1,
   "metadata": {
    "collapsed": true
   },
   "outputs": [],
   "source": [
    "from time import time\n",
    "import logging\n",
    "# Display progress logs on stdout\n",
    "logging.basicConfig(level=logging.INFO, format='%(asctime)s %(levelname)s %(message)s')\n",
    "import pandas as pd\n",
    "import numpy as np\n",
    "import matplotlib.pyplot as plt\n",
    "import seaborn as sns\n",
    "%matplotlib inline"
   ]
  },
  {
   "cell_type": "code",
   "execution_count": 2,
   "metadata": {},
   "outputs": [
    {
     "name": "stderr",
     "output_type": "stream",
     "text": [
      "/home/iri/anaconda2/lib/python2.7/site-packages/sklearn/cross_validation.py:44: DeprecationWarning: This module was deprecated in version 0.18 in favor of the model_selection module into which all the refactored classes and functions are moved. Also note that the interface of the new CV iterators are different from that of this module. This module will be removed in 0.20.\n",
      "  \"This module will be removed in 0.20.\", DeprecationWarning)\n",
      "/home/iri/anaconda2/lib/python2.7/site-packages/sklearn/grid_search.py:43: DeprecationWarning: This module was deprecated in version 0.18 in favor of the model_selection module into which all the refactored classes and functions are moved. This module will be removed in 0.20.\n",
      "  DeprecationWarning)\n"
     ]
    }
   ],
   "source": [
    "from sklearn.grid_search import GridSearchCV\n",
    "from sklearn.feature_extraction.text import CountVectorizer, TfidfVectorizer\n",
    "from sklearn.linear_model import SGDClassifier\n",
    "from sklearn.svm import LinearSVC\n",
    "from sklearn.pipeline import Pipeline"
   ]
  },
  {
   "cell_type": "code",
   "execution_count": 3,
   "metadata": {
    "collapsed": true
   },
   "outputs": [],
   "source": [
    "pd.read_csv?"
   ]
  },
  {
   "cell_type": "code",
   "execution_count": 4,
   "metadata": {
    "collapsed": true
   },
   "outputs": [],
   "source": [
    "df=pd.read_fwf('./sogo/user_tag_query.10W.TRAIN'\n",
    "#                ,encoding='utf-8'\n",
    "               , names=['ID', 'age', 'Gender', 'Education', 'QueryList']\n",
    "              ,colspecs=[(0, 32),(33, 34),(35,36),(37,38),(39,-1)])"
   ]
  },
  {
   "cell_type": "code",
   "execution_count": 5,
   "metadata": {},
   "outputs": [
    {
     "data": {
      "text/html": [
       "<div>\n",
       "<style>\n",
       "    .dataframe thead tr:only-child th {\n",
       "        text-align: right;\n",
       "    }\n",
       "\n",
       "    .dataframe thead th {\n",
       "        text-align: left;\n",
       "    }\n",
       "\n",
       "    .dataframe tbody tr th {\n",
       "        vertical-align: top;\n",
       "    }\n",
       "</style>\n",
       "<table border=\"1\" class=\"dataframe\">\n",
       "  <thead>\n",
       "    <tr style=\"text-align: right;\">\n",
       "      <th></th>\n",
       "      <th>ID</th>\n",
       "      <th>age</th>\n",
       "      <th>Gender</th>\n",
       "      <th>Education</th>\n",
       "      <th>QueryList</th>\n",
       "    </tr>\n",
       "  </thead>\n",
       "  <tbody>\n",
       "    <tr>\n",
       "      <th>0</th>\n",
       "      <td>22DD920316420BE2DF8D6EE651BA174B</td>\n",
       "      <td>1</td>\n",
       "      <td>1</td>\n",
       "      <td>4</td>\n",
       "      <td>���˫��\\tŮ��\\t�в�����ҳ �ƾ�\\thttp://pan.baidu.co...</td>\n",
       "    </tr>\n",
       "    <tr>\n",
       "      <th>1</th>\n",
       "      <td>43CC3AF5A8D6430A3B572337A889AFE4</td>\n",
       "      <td>2</td>\n",
       "      <td>1</td>\n",
       "      <td>3</td>\n",
       "      <td>���ݳ�������\\t���鱡,�����,���ͻƻ軨����,�����,���\\t...</td>\n",
       "    </tr>\n",
       "    <tr>\n",
       "      <th>2</th>\n",
       "      <td>E97654BFF5570E2CCD433EA6128EAC19</td>\n",
       "      <td>4</td>\n",
       "      <td>1</td>\n",
       "      <td>0</td>\n",
       "      <td>��ʯ֮�����\\t�̽�������\\t��˳����\\t�������³���\\tba...</td>\n",
       "    </tr>\n",
       "  </tbody>\n",
       "</table>\n",
       "</div>"
      ],
      "text/plain": [
       "                                 ID  age  Gender  Education  \\\n",
       "0  22DD920316420BE2DF8D6EE651BA174B    1       1          4   \n",
       "1  43CC3AF5A8D6430A3B572337A889AFE4    2       1          3   \n",
       "2  E97654BFF5570E2CCD433EA6128EAC19    4       1          0   \n",
       "\n",
       "                                           QueryList  \n",
       "0  ���˫��\\tŮ��\\t�в�����ҳ �ƾ�\\thttp://pan.baidu.co...  \n",
       "1  ���ݳ�������\\t���鱡,�����,���ͻƻ軨����,�����,���\\t...  \n",
       "2  ��ʯ֮�����\\t�̽�������\\t��˳����\\t�������³���\\tba...  "
      ]
     },
     "execution_count": 5,
     "metadata": {},
     "output_type": "execute_result"
    }
   ],
   "source": [
    "df.head(3)"
   ]
  },
  {
   "cell_type": "code",
   "execution_count": 6,
   "metadata": {},
   "outputs": [
    {
     "name": "stdout",
     "output_type": "stream",
     "text": [
      "柔和双沟\t女生\t中财网首页 财经\thttp://pan.baidu.com/s/1plpjtn9\t周公解梦大全查询2345\t曹云金再讽郭德纲\t总裁大人行行好\t中财网第一财经传媒\t教师节全文\t男子砸毁15墓碑\t黄岩岛最新填海图\t引起的疲\t缘来未迟落跑甜心不好惹\t梁朝伟与替身同框\t笑傲江湖电视剧任贤齐\t小起名字女孩名字\t海运行李到堪培拉\t确定\t诱爱99天 司少的天价宝贝\t什么是遥控魔棒\t徽信表情动态搞笑图片\t教师节征文100字\t安微联通网上营业厅\t甜宠百分百:校草的萌萌未婚妻\t豪门重生之暖爱成婚\tnikehypershift和kd5哪个好看\t韭菜炒鸡蛋\t陈赫玩王者荣耀\t虎牙楚河\t三国演义小说txt下载\t威县欧派\t炒馍花怎么做好吃\t黄岩岛最新消息2016年\t中秋节诗句大全祝福\t教师节征文\t菜谱\t柔和双沟卖的怎么样\t七位数开奖结果\t以色列停车场坍塌\t天龙家庭农场\t7.22什么星座\t新旧约圣经和合本下载\t4π\twifi万能钥匙\t威灵仙图片\t临泉长官天龙家庭农场\t早安总统大人\t百合\t莲藕的做法\t花街\t无锡\t蚬壳胃散怎么吃\t触手忆寒\t中秋节的诗句\t孟州电信 电子发票\t鸡丝汤的做法\t我等你\t临泉长官镇桥口李小刚农场\t朋仇\t全民k歌\t炸葱花\t蒜苔炒肉\t冰川的图片\tkd5\t…\t若风\t好奇纸尿裤\t清蒸鱼\t189.8是谁的平方\t重庆餐馆发生爆炸\t捡手机被失主抢劫\thttps://yunpan.cn/ocsqfgtfya2ewj\t炒馍花的家常做法\t三国演义小说百度云\t总裁掠爱小舅别太坏\t:https://yunpan.cn/cmh8tmeyraiww\t周公解梦\t查坦克冰川\t凉拌藕片的做法\t投票\t鸡丝炒什么好吃\t被时光掩埋的秘密小说下载\t中国电信电子发票\t张续豪\t关于月亮的诗句\t用酵母蒸馒头的方法\t赵丽颖碧瑶坐\t触手兵长\t图集 下载腾讯新闻,看街头混战武警\t厦门航空\t蚬壳胃散\t炒茄子做法\t身份类别怎么填\t最好的我们里面的方特在哪里\t牢里面的生活是怎样的\t强迫症有哪些表现\t白袍法师暖暖图片\t朋仇广场舞\t小宇热游\t蒸馒头的方法\t狡滑的意思\t黄石大冶东岳派出所服务电话\t三国演义小说下载txt\thttp://zxjhjc9088.1688.com\t松柏道馆\t10.1高速免费几天\t三国演义小说txt\t柔和双沟业务待遇\t酵母蒸馒头的方法\t初中家教一对一辅导\t口子窖\t中秋节祝福诗句\t侠岚\t文王国窖42度价格表1001文王国窖42度价格表\t批注是什么意思\t殿下专属小丫头\t无锡爆炸\t炸茄子做法\thttp://pan.baidu.com/s/1cor7gy\t大件行李邮寄\t烟火陈翔\t没想到,真没想到作文\t安徽滁州石坝镇\t虎牙小宇\t驾校培训跑长途\t骨质性关节炎\t左膝盖内侧疼是怎么回事\t虎皮尖椒的做法大全\t陈翔的女朋友吻照\tq我的世界、5\t23.04的平方根\t神将世界表情包\t寻找成龙\t柔和双沟卖的\t三国演义txt百度云\t一般现在时\t澳洲邮寄行李费用\t触手若月\t1991年11月26日是什么星座\t校草成长记\t暮光女向女友求婚\t钢弩的价格图片\t乐乐课堂\t宠妻成瘾老婆你要乖\t魔手tv\t梅河口到济南的火车票\t临泉长官镇\t君子兰\t南洋十大邪术电影\t肚\t炸油条的做法和配方\t根号6等于多少\t笑笑昨日帝王骗\t吃惊的什么填词语\t50字教师节征文\t朝阳区黑庄户邮编\t千百鲁\t1991年农历11月26日是什么星座\t圣经和合本免费下载\t水煮花生米的做法\thttp://pan.baidu.com/s/1jhbv9pg\t十字弓\t徽信表情含义\t天才小熊猫微博长图\t宠冠六宫:帝王的娇蛮皇妃\t去广告软件 安卓版\t萌妻娇俏帝少我嘴挑\t总裁霸爱小小新娘要逃婚\t花生怎么煮好吃\t中国证券网\t柔和双沟销售\t中秋节的诗句图片\t男子怪病喝洗洁精\t4π等于多少\t服装批发5元\t怀孕33周肚子隐隐作痛怎么回事\t百度云\t酱炒蒜苔的家常做法\t水煮花生米\t天才小熊猫作品\t袁姗姗\t临泉长官镇桥口\t呼作白玉盘的上一句\t微信表情包搞笑图片\t滴滴快车司机端\t教师节手抄报简单好看\t大冶公安局 派出所\t柔和双沟业务待遇怎么样\t为什么哺乳期不会有月经\t临泉长官水上乐园\t忐忑不安的意思\t临泉长官李小刚家庭农场\t电信电子发票怎么报销\t岳不群\t:http://pan.baidu.com/s/1plefcb5\t临泉长官镇桥口李天龙农场\t凉拌水煮花生米的做法\t威灵仙的功效与作用\thttp://pan.baidu.com/s/1o7hnpmy\t鸽子汤的做法\t战神伪高冷 天降医妃拐回家\t白颠疯初期症状\t天才小熊猫\t首席萌妻咬一口\t弩弓枪商城\t三国演义小说\t临泉长官镇桥口植物养殖基地\t邮储银行手机银行客户端下载\t煮花米怎么做好吃\t英语在线翻译\t糖醋鲤鱼\tｗｗｗ．２０１６ｙｇ．ｃｏｍ\t搞笑微信表情图片带字\t新婚甜似火:鲜妻,二胎生一对\t三国演义\t关于教师节的手抄报\thttp://m37189.mustfollow.vx.mvote.net/wx\t文王国窖42度价格表\t鱼汤的做法\thttp://www.cswanda.com/weixin/game1/2016\t临泉长官镇桥口私人农场\t临泉长官镇桥口镇杨营\t临泉长官李天龙家庭农场\t李子树根部有脓包怎么回事\t单手高速转牌\t医学院在什么路上\t徽信早上好动态表情\t宝宝小名大全2016洋气\t寂寞男女聊天记录截图\thttps://yunpan.cn/oc6nhvmrg5j2ur\t神将世界\t美丽的秋天作文300字\thttp://pan.baidu.com/s/1nu9uizn\t钢弩\t冰川世纪电影\t全文\t触手蓝烟\t鱼的做法\t金罐加多宝20罐\t澳洲托运行李规定\t15346171303@189.cn\t炒蒜苔的家常做法\t被时光掩埋的秘密\t根号13.6等于几\t方特东方神画\t粉红花朵图片\tqq号申请\t千亿盛宠 大叔吻慢点\thttp://linjiada1989.1688.com\t东方财富网首页\thttp://pan.baidu.com/s/1hraemhe\t动力煤价格\t手机遥控魔棒\tjzg\thttp://pan.baidu.com/s/1o8cxpmm\t行李托运到澳洲\t蚬壳胃散副作用\t红烧鲤鱼\t触手tv\t中国财经信息网中财网\t立方根800\t美食菜谱\t笑傲江湖电视剧\t柔和双沟怎么样\t笑傲江湖\t花的品种名字及图片\t滴滴司机端\t奇怪君\t鸡蛋灌饼\t天龙农家乐园\t吉拉拉歌词\t陈翔的女朋友\t牢解场的生活\t微微一笑很倾城\t豪门少奶奶谢少的心尖宠妻\n"
     ]
    }
   ],
   "source": [
    "print df['QueryList'][0].decode('GB18030').encode('utf-8')"
   ]
  },
  {
   "cell_type": "code",
   "execution_count": 7,
   "metadata": {},
   "outputs": [
    {
     "data": {
      "text/plain": [
       "pandas.core.series.Series"
      ]
     },
     "execution_count": 7,
     "metadata": {},
     "output_type": "execute_result"
    }
   ],
   "source": [
    "type(df['QueryList'])"
   ]
  },
  {
   "cell_type": "code",
   "execution_count": 8,
   "metadata": {
    "collapsed": true
   },
   "outputs": [],
   "source": [
    "df['QueryList'] = df['QueryList'].apply(lambda x: x.decode('GB18030').encode('utf-8'))"
   ]
  },
  {
   "cell_type": "code",
   "execution_count": 9,
   "metadata": {},
   "outputs": [
    {
     "data": {
      "text/plain": [
       "0    [柔和双沟, 女生, 中财网首页 财经, http://pan.baidu.com/s/1p...\n",
       "1    [广州厨宝烤箱, 世情薄,人情恶,雨送黄昏花易落,晓风干,泪痕, 厦门酒店用品批发市场, 我...\n",
       "2    [钻石之泪耳机, 盘锦到沈阳, 旅顺公交, 辽宁阜新车牌, baidu, k715, k71...\n",
       "Name: QueryList, dtype: object"
      ]
     },
     "execution_count": 9,
     "metadata": {},
     "output_type": "execute_result"
    }
   ],
   "source": [
    "df.head(3)['QueryList'].str.split('\\t')"
   ]
  },
  {
   "cell_type": "code",
   "execution_count": 10,
   "metadata": {},
   "outputs": [
    {
     "data": {
      "text/html": [
       "<div>\n",
       "<style>\n",
       "    .dataframe thead tr:only-child th {\n",
       "        text-align: right;\n",
       "    }\n",
       "\n",
       "    .dataframe thead th {\n",
       "        text-align: left;\n",
       "    }\n",
       "\n",
       "    .dataframe tbody tr th {\n",
       "        vertical-align: top;\n",
       "    }\n",
       "</style>\n",
       "<table border=\"1\" class=\"dataframe\">\n",
       "  <thead>\n",
       "    <tr style=\"text-align: right;\">\n",
       "      <th></th>\n",
       "      <th>ID</th>\n",
       "      <th>age</th>\n",
       "      <th>Gender</th>\n",
       "      <th>Education</th>\n",
       "      <th>QueryList</th>\n",
       "    </tr>\n",
       "  </thead>\n",
       "  <tbody>\n",
       "    <tr>\n",
       "      <th>0</th>\n",
       "      <td>22DD920316420BE2DF8D6EE651BA174B</td>\n",
       "      <td>1</td>\n",
       "      <td>1</td>\n",
       "      <td>4</td>\n",
       "      <td>柔和双沟\\t女生\\t中财网首页 财经\\thttp://pan.baidu.com/s/1pl...</td>\n",
       "    </tr>\n",
       "    <tr>\n",
       "      <th>1</th>\n",
       "      <td>43CC3AF5A8D6430A3B572337A889AFE4</td>\n",
       "      <td>2</td>\n",
       "      <td>1</td>\n",
       "      <td>3</td>\n",
       "      <td>广州厨宝烤箱\\t世情薄,人情恶,雨送黄昏花易落,晓风干,泪痕\\t厦门酒店用品批发市场\\t我只...</td>\n",
       "    </tr>\n",
       "    <tr>\n",
       "      <th>2</th>\n",
       "      <td>E97654BFF5570E2CCD433EA6128EAC19</td>\n",
       "      <td>4</td>\n",
       "      <td>1</td>\n",
       "      <td>0</td>\n",
       "      <td>钻石之泪耳机\\t盘锦到沈阳\\t旅顺公交\\t辽宁阜新车牌\\tbaidu\\tk715\\tk716...</td>\n",
       "    </tr>\n",
       "  </tbody>\n",
       "</table>\n",
       "</div>"
      ],
      "text/plain": [
       "                                 ID  age  Gender  Education  \\\n",
       "0  22DD920316420BE2DF8D6EE651BA174B    1       1          4   \n",
       "1  43CC3AF5A8D6430A3B572337A889AFE4    2       1          3   \n",
       "2  E97654BFF5570E2CCD433EA6128EAC19    4       1          0   \n",
       "\n",
       "                                           QueryList  \n",
       "0  柔和双沟\\t女生\\t中财网首页 财经\\thttp://pan.baidu.com/s/1pl...  \n",
       "1  广州厨宝烤箱\\t世情薄,人情恶,雨送黄昏花易落,晓风干,泪痕\\t厦门酒店用品批发市场\\t我只...  \n",
       "2  钻石之泪耳机\\t盘锦到沈阳\\t旅顺公交\\t辽宁阜新车牌\\tbaidu\\tk715\\tk716...  "
      ]
     },
     "execution_count": 10,
     "metadata": {},
     "output_type": "execute_result"
    }
   ],
   "source": [
    "df.head(3)"
   ]
  },
  {
   "cell_type": "code",
   "execution_count": 11,
   "metadata": {},
   "outputs": [
    {
     "data": {
      "text/plain": [
       "ID           object\n",
       "age           int64\n",
       "Gender        int64\n",
       "Education     int64\n",
       "QueryList    object\n",
       "dtype: object"
      ]
     },
     "execution_count": 11,
     "metadata": {},
     "output_type": "execute_result"
    }
   ],
   "source": [
    "df.dtypes"
   ]
  },
  {
   "cell_type": "code",
   "execution_count": 12,
   "metadata": {},
   "outputs": [
    {
     "data": {
      "text/plain": [
       "(100000, 5)"
      ]
     },
     "execution_count": 12,
     "metadata": {},
     "output_type": "execute_result"
    }
   ],
   "source": [
    "df.shape"
   ]
  },
  {
   "cell_type": "code",
   "execution_count": 13,
   "metadata": {},
   "outputs": [
    {
     "data": {
      "text/html": [
       "<div>\n",
       "<style>\n",
       "    .dataframe thead tr:only-child th {\n",
       "        text-align: right;\n",
       "    }\n",
       "\n",
       "    .dataframe thead th {\n",
       "        text-align: left;\n",
       "    }\n",
       "\n",
       "    .dataframe tbody tr th {\n",
       "        vertical-align: top;\n",
       "    }\n",
       "</style>\n",
       "<table border=\"1\" class=\"dataframe\">\n",
       "  <thead>\n",
       "    <tr style=\"text-align: right;\">\n",
       "      <th></th>\n",
       "      <th>age</th>\n",
       "      <th>Gender</th>\n",
       "      <th>Education</th>\n",
       "    </tr>\n",
       "  </thead>\n",
       "  <tbody>\n",
       "    <tr>\n",
       "      <th>0</th>\n",
       "      <td>1</td>\n",
       "      <td>1</td>\n",
       "      <td>4</td>\n",
       "    </tr>\n",
       "    <tr>\n",
       "      <th>1</th>\n",
       "      <td>2</td>\n",
       "      <td>1</td>\n",
       "      <td>3</td>\n",
       "    </tr>\n",
       "    <tr>\n",
       "      <th>2</th>\n",
       "      <td>4</td>\n",
       "      <td>1</td>\n",
       "      <td>0</td>\n",
       "    </tr>\n",
       "    <tr>\n",
       "      <th>3</th>\n",
       "      <td>4</td>\n",
       "      <td>2</td>\n",
       "      <td>3</td>\n",
       "    </tr>\n",
       "    <tr>\n",
       "      <th>4</th>\n",
       "      <td>2</td>\n",
       "      <td>2</td>\n",
       "      <td>4</td>\n",
       "    </tr>\n",
       "  </tbody>\n",
       "</table>\n",
       "</div>"
      ],
      "text/plain": [
       "   age  Gender  Education\n",
       "0    1       1          4\n",
       "1    2       1          3\n",
       "2    4       1          0\n",
       "3    4       2          3\n",
       "4    2       2          4"
      ]
     },
     "execution_count": 13,
     "metadata": {},
     "output_type": "execute_result"
    }
   ],
   "source": [
    "df.iloc[:,1:4].head()"
   ]
  },
  {
   "cell_type": "code",
   "execution_count": 14,
   "metadata": {},
   "outputs": [
    {
     "name": "stdout",
     "output_type": "stream",
     "text": [
      "age \n",
      "1    38996\n",
      "2    26744\n",
      "3    18529\n",
      "4    10654\n",
      "5     2922\n",
      "0     1666\n",
      "6      489\n",
      "Name: age, dtype: int64 \n",
      "\n",
      "Gender \n",
      "1    56976\n",
      "2    40869\n",
      "0     2155\n",
      "Name: Gender, dtype: int64 \n",
      "\n",
      "Education \n",
      "5    37107\n",
      "4    28148\n",
      "3    18858\n",
      "0     9280\n",
      "6     5693\n",
      "2      560\n",
      "1      354\n",
      "Name: Education, dtype: int64 \n",
      "\n"
     ]
    }
   ],
   "source": [
    "for i in df.iloc[:,1:4]:\n",
    "    print i,'\\n' , df.iloc[:,1:4][i].value_counts(), '\\n'"
   ]
  },
  {
   "cell_type": "markdown",
   "metadata": {},
   "source": [
    "### distribution"
   ]
  },
  {
   "cell_type": "code",
   "execution_count": 15,
   "metadata": {
    "collapsed": true
   },
   "outputs": [],
   "source": [
    "# sns.distplot?"
   ]
  },
  {
   "cell_type": "code",
   "execution_count": 16,
   "metadata": {},
   "outputs": [
    {
     "data": {
      "text/plain": [
       "<matplotlib.axes._subplots.AxesSubplot at 0x7fdd88804590>"
      ]
     },
     "execution_count": 16,
     "metadata": {},
     "output_type": "execute_result"
    },
    {
     "data": {
      "image/png": "[encoded data removed]",
      "text/plain": [
       "<matplotlib.figure.Figure at 0x7fdd89632e50>"
      ]
     },
     "metadata": {},
     "output_type": "display_data"
    }
   ],
   "source": [
    "sns.distplot(df.iloc[:,1:4]['age'], kde=False,\n",
    "#             hist_kws={\"histtype\": \"step\", \"linewidth\": 3, \"alpha\": 1, \"color\": \"g\"}\n",
    "            )"
   ]
  },
  {
   "cell_type": "code",
   "execution_count": 17,
   "metadata": {
    "collapsed": true
   },
   "outputs": [],
   "source": [
    "# sns.countplot?"
   ]
  },
  {
   "cell_type": "code",
   "execution_count": 18,
   "metadata": {},
   "outputs": [
    {
     "data": {
      "text/plain": [
       "1    38996\n",
       "2    26744\n",
       "3    18529\n",
       "4    10654\n",
       "5     2922\n",
       "0     1666\n",
       "6      489\n",
       "Name: age, dtype: int64"
      ]
     },
     "execution_count": 18,
     "metadata": {},
     "output_type": "execute_result"
    }
   ],
   "source": [
    "df.iloc[:,1:4]['age'].value_counts()"
   ]
  },
  {
   "cell_type": "code",
   "execution_count": 19,
   "metadata": {},
   "outputs": [
    {
     "data": {
      "text/plain": [
       "<matplotlib.axes._subplots.AxesSubplot at 0x7fdd84f081d0>"
      ]
     },
     "execution_count": 19,
     "metadata": {},
     "output_type": "execute_result"
    },
    {
     "data": {
      "image/png": "[encoded data removed]",
      "text/plain": [
       "<matplotlib.figure.Figure at 0x7fdd84eaebd0>"
      ]
     },
     "metadata": {},
     "output_type": "display_data"
    }
   ],
   "source": [
    "sns.countplot(df.iloc[:,1:4]['age'], \n",
    "              order=df.iloc[:,1:4]['age'].value_counts().index,\n",
    "              palette=\"Blues\"\n",
    "              )"
   ]
  },
  {
   "cell_type": "code",
   "execution_count": 20,
   "metadata": {},
   "outputs": [
    {
     "data": {
      "text/plain": [
       "<matplotlib.axes._subplots.AxesSubplot at 0x7fdd84f4e5d0>"
      ]
     },
     "execution_count": 20,
     "metadata": {},
     "output_type": "execute_result"
    },
    {
     "data": {
      "image/png": "[encoded data removed]",
      "text/plain": [
       "<matplotlib.figure.Figure at 0x7fdd84eaef90>"
      ]
     },
     "metadata": {},
     "output_type": "display_data"
    }
   ],
   "source": [
    "sns.countplot(df.iloc[:,1:4]['age'], \n",
    "              order=df.iloc[:,1:4]['age'].value_counts().index[::-1],\n",
    "             color='red',\n",
    "             alpha=.6)"
   ]
  },
  {
   "cell_type": "code",
   "execution_count": 21,
   "metadata": {},
   "outputs": [
    {
     "data": {
      "text/plain": [
       "array([[<matplotlib.axes._subplots.AxesSubplot object at 0x7fdd84cf2b50>,\n",
       "        <matplotlib.axes._subplots.AxesSubplot object at 0x7fdd84c8c210>],\n",
       "       [<matplotlib.axes._subplots.AxesSubplot object at 0x7fdd84c063d0>,\n",
       "        <matplotlib.axes._subplots.AxesSubplot object at 0x7fdd84be0e50>]], dtype=object)"
      ]
     },
     "execution_count": 21,
     "metadata": {},
     "output_type": "execute_result"
    },
    {
     "data": {
      "image/png": "[encoded data removed]",
      "text/plain": [
       "<matplotlib.figure.Figure at 0x7fdd84db8b90>"
      ]
     },
     "metadata": {},
     "output_type": "display_data"
    }
   ],
   "source": [
    "df.iloc[:,1:4].hist()"
   ]
  },
  {
   "cell_type": "code",
   "execution_count": 22,
   "metadata": {},
   "outputs": [
    {
     "data": {
      "image/png": "[encoded data removed]",
      "text/plain": [
       "<matplotlib.figure.Figure at 0x7fdd84a780d0>"
      ]
     },
     "metadata": {},
     "output_type": "display_data"
    },
    {
     "data": {
      "image/png": "[encoded data removed]",
      "text/plain": [
       "<matplotlib.figure.Figure at 0x7fdd849b9cd0>"
      ]
     },
     "metadata": {},
     "output_type": "display_data"
    },
    {
     "data": {
      "image/png": "[encoded data removed]",
      "text/plain": [
       "<matplotlib.figure.Figure at 0x7fdd84a4b5d0>"
      ]
     },
     "metadata": {},
     "output_type": "display_data"
    }
   ],
   "source": [
    "for i in df.iloc[:,1:4]:\n",
    "    plt.figure()\n",
    "    plt.title(i)\n",
    "    \n",
    "    sns.countplot(df.iloc[:,1:4][i])"
   ]
  },
  {
   "cell_type": "code",
   "execution_count": 23,
   "metadata": {},
   "outputs": [
    {
     "data": {
      "image/png": "[encoded data removed]",
      "text/plain": [
       "<matplotlib.figure.Figure at 0x7fdd84ec5890>"
      ]
     },
     "metadata": {},
     "output_type": "display_data"
    }
   ],
   "source": [
    "plt.figure(figsize=(15,5))\n",
    "\n",
    "n=0\n",
    "for i in df.iloc[:,1:4]:\n",
    "\n",
    "    n+=1\n",
    "    plt.subplot(1,3,n)\n",
    "    \n",
    "    plt.title(i)\n",
    "    \n",
    "    sns.countplot(df.iloc[:,1:4][i], order=df.iloc[:,1:4][i].value_counts().index[::-1])"
   ]
  },
  {
   "cell_type": "code",
   "execution_count": 29,
   "metadata": {},
   "outputs": [],
   "source": [
    "df.to_csv('train.csv', index=False)"
   ]
  },
  {
   "cell_type": "code",
   "execution_count": 30,
   "metadata": {},
   "outputs": [],
   "source": [
    "csv=pd.read_csv('train.csv')"
   ]
  },
  {
   "cell_type": "code",
   "execution_count": null,
   "metadata": {},
   "outputs": [],
   "source": []
  },
  {
   "cell_type": "code",
   "execution_count": null,
   "metadata": {
    "collapsed": true
   },
   "outputs": [],
   "source": []
  }
 ],
 "metadata": {
  "kernelspec": {
   "display_name": "Python 2",
   "language": "python",
   "name": "python2"
  },
  "language_info": {
   "codemirror_mode": {
    "name": "ipython",
    "version": 2
   },
   "file_extension": ".py",
   "mimetype": "text/x-python",
   "name": "python",
   "nbconvert_exporter": "python",
   "pygments_lexer": "ipython2",
   "version": "2.7.13"
  }
 },
 "nbformat": 4,
 "nbformat_minor": 2
}
