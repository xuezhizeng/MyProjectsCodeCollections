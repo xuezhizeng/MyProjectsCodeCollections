{
 "cells": [
  {
   "cell_type": "code",
   "execution_count": 1,
   "metadata": {
    "collapsed": true
   },
   "outputs": [],
   "source": [
    "import pandas as pd\n",
    "import numpy as np\n",
    "from sklearn.metrics.pairwise import cosine_similarity"
   ]
  },
  {
   "cell_type": "code",
   "execution_count": 2,
   "metadata": {},
   "outputs": [
    {
     "data": {
      "text/plain": [
       "(100000,)"
      ]
     },
     "execution_count": 2,
     "metadata": {},
     "output_type": "execute_result"
    }
   ],
   "source": [
    "df = pd.Series(np.random.random(100000))\n",
    "df.shape"
   ]
  },
  {
   "cell_type": "code",
   "execution_count": 3,
   "metadata": {},
   "outputs": [
    {
     "name": "stdout",
     "output_type": "stream",
     "text": [
      "CPU times: user 12 ms, sys: 0 ns, total: 12 ms\n",
      "Wall time: 12.7 ms\n"
     ]
    }
   ],
   "source": [
    "%%time\n",
    "a = df.sort_values(ascending=False)"
   ]
  },
  {
   "cell_type": "code",
   "execution_count": 11,
   "metadata": {},
   "outputs": [
    {
     "data": {
      "text/plain": [
       "(10000, 128)"
      ]
     },
     "execution_count": 11,
     "metadata": {},
     "output_type": "execute_result"
    }
   ],
   "source": [
    "arr = np.random.random(1280000).reshape(10000,128)\n",
    "arr.shape"
   ]
  },
  {
   "cell_type": "code",
   "execution_count": 12,
   "metadata": {},
   "outputs": [
    {
     "data": {
      "text/plain": [
       "(128,)"
      ]
     },
     "execution_count": 12,
     "metadata": {},
     "output_type": "execute_result"
    }
   ],
   "source": [
    "arr[0].shape"
   ]
  },
  {
   "cell_type": "code",
   "execution_count": 13,
   "metadata": {},
   "outputs": [
    {
     "data": {
      "text/plain": [
       "((10000, 128), (128,))"
      ]
     },
     "execution_count": 13,
     "metadata": {},
     "output_type": "execute_result"
    }
   ],
   "source": [
    "arr.shape, arr[0].shape"
   ]
  },
  {
   "cell_type": "code",
   "execution_count": 14,
   "metadata": {},
   "outputs": [
    {
     "data": {
      "text/plain": [
       "(128, 1)"
      ]
     },
     "execution_count": 14,
     "metadata": {},
     "output_type": "execute_result"
    }
   ],
   "source": [
    "arr[0].reshape(-1,1).shape"
   ]
  },
  {
   "cell_type": "code",
   "execution_count": 15,
   "metadata": {
    "collapsed": true
   },
   "outputs": [],
   "source": [
    "# arr[0].reshape(1,-1)"
   ]
  },
  {
   "cell_type": "code",
   "execution_count": 16,
   "metadata": {},
   "outputs": [
    {
     "name": "stdout",
     "output_type": "stream",
     "text": [
      "CPU times: user 16 ms, sys: 4 ms, total: 20 ms\n",
      "Wall time: 14.6 ms\n"
     ]
    }
   ],
   "source": [
    "%%time\n",
    "result = cosine_similarity(arr[0].reshape(1,-1),arr)\n",
    "b=pd.Series(result[0])\n",
    "b=b.sort_values(ascending=False)"
   ]
  },
  {
   "cell_type": "code",
   "execution_count": 17,
   "metadata": {},
   "outputs": [
    {
     "name": "stdout",
     "output_type": "stream",
     "text": [
      "CPU times: user 16 ms, sys: 0 ns, total: 16 ms\n",
      "Wall time: 12.5 ms\n"
     ]
    },
    {
     "name": "stderr",
     "output_type": "stream",
     "text": [
      "/home/saya/anaconda2/lib/python2.7/site-packages/sklearn/utils/validation.py:395: DeprecationWarning: Passing 1d arrays as data is deprecated in 0.17 and will raise ValueError in 0.19. Reshape your data either using X.reshape(-1, 1) if your data has a single feature or X.reshape(1, -1) if it contains a single sample.\n",
      "  DeprecationWarning)\n"
     ]
    }
   ],
   "source": [
    "%%time\n",
    "result = cosine_similarity(arr[0],arr)\n",
    "b=pd.Series(result[0])\n",
    "b=b.sort_values(ascending=False)"
   ]
  },
  {
   "cell_type": "code",
   "execution_count": 18,
   "metadata": {},
   "outputs": [
    {
     "data": {
      "text/plain": [
       "Int64Index([0, 4797, 9453, 9720, 9699, 8606, 7011, 6122, 7759, 2610], dtype='int64')"
      ]
     },
     "execution_count": 18,
     "metadata": {},
     "output_type": "execute_result"
    }
   ],
   "source": [
    "b[:10].index"
   ]
  },
  {
   "cell_type": "code",
   "execution_count": null,
   "metadata": {
    "collapsed": true
   },
   "outputs": [],
   "source": []
  },
  {
   "cell_type": "code",
   "execution_count": 19,
   "metadata": {
    "collapsed": true
   },
   "outputs": [],
   "source": [
    "def one(x,y):\n",
    "    result=[]\n",
    "    for i in range(len(y)):\n",
    "        result.append(cosine_similarity(x.values.reshape(1,-1), y.iloc[i].values.reshape(1,-1))[0][0])\n",
    "        sorting = pd.Series(result).sort_values(ascending=False)\n",
    "    return sorting"
   ]
  },
  {
   "cell_type": "code",
   "execution_count": 20,
   "metadata": {
    "collapsed": true
   },
   "outputs": [],
   "source": [
    "x = pd.Series(arr[0])\n",
    "y = pd.DataFrame(arr)"
   ]
  },
  {
   "cell_type": "code",
   "execution_count": 21,
   "metadata": {},
   "outputs": [
    {
     "data": {
      "text/plain": [
       "(10000, 128)"
      ]
     },
     "execution_count": 21,
     "metadata": {},
     "output_type": "execute_result"
    }
   ],
   "source": [
    "arr.shape"
   ]
  },
  {
   "cell_type": "code",
   "execution_count": 22,
   "metadata": {},
   "outputs": [
    {
     "data": {
      "text/plain": [
       "(10000, 128)"
      ]
     },
     "execution_count": 22,
     "metadata": {},
     "output_type": "execute_result"
    }
   ],
   "source": [
    "y.shape"
   ]
  },
  {
   "cell_type": "code",
   "execution_count": 23,
   "metadata": {},
   "outputs": [
    {
     "data": {
      "text/plain": [
       "numpy.ndarray"
      ]
     },
     "execution_count": 23,
     "metadata": {},
     "output_type": "execute_result"
    }
   ],
   "source": [
    "type(arr)"
   ]
  },
  {
   "cell_type": "code",
   "execution_count": 24,
   "metadata": {},
   "outputs": [
    {
     "name": "stdout",
     "output_type": "stream",
     "text": [
      "CPU times: user 0 ns, sys: 0 ns, total: 0 ns\n",
      "Wall time: 62 µs\n"
     ]
    },
    {
     "data": {
      "text/plain": [
       "array([[ 0.22121856,  0.03844557,  0.18889388, ...,  0.41271781,\n",
       "         0.52755848,  0.07236479],\n",
       "       [ 0.47754335,  0.96126851,  0.46667608, ...,  0.74600242,\n",
       "         0.76051803,  0.46447925],\n",
       "       [ 0.24848846,  0.30854417,  0.13005951, ...,  0.63245137,\n",
       "         0.5186961 ,  0.85558051],\n",
       "       ..., \n",
       "       [ 0.34786672,  0.16247486,  0.4874992 , ...,  0.82394993,\n",
       "         0.29325444,  0.00908708],\n",
       "       [ 0.49269368,  0.84806385,  0.2464257 , ...,  0.52139186,\n",
       "         0.64043367,  0.76471376],\n",
       "       [ 0.99973545,  0.43691309,  0.40857017, ...,  0.0807745 ,\n",
       "         0.80250903,  0.14664971]])"
      ]
     },
     "execution_count": 24,
     "metadata": {},
     "output_type": "execute_result"
    }
   ],
   "source": [
    "%%time\n",
    "y.as_matrix()"
   ]
  },
  {
   "cell_type": "code",
   "execution_count": 25,
   "metadata": {},
   "outputs": [
    {
     "data": {
      "text/plain": [
       "numpy.ndarray"
      ]
     },
     "execution_count": 25,
     "metadata": {},
     "output_type": "execute_result"
    }
   ],
   "source": [
    "type(y.as_matrix())"
   ]
  },
  {
   "cell_type": "code",
   "execution_count": 26,
   "metadata": {},
   "outputs": [
    {
     "data": {
      "text/plain": [
       "array([ True,  True,  True,  True,  True,  True,  True,  True,  True,\n",
       "        True,  True,  True,  True,  True,  True,  True,  True,  True,\n",
       "        True,  True,  True,  True,  True,  True,  True,  True,  True,\n",
       "        True,  True,  True,  True,  True,  True,  True,  True,  True,\n",
       "        True,  True,  True,  True,  True,  True,  True,  True,  True,\n",
       "        True,  True,  True,  True,  True,  True,  True,  True,  True,\n",
       "        True,  True,  True,  True,  True,  True,  True,  True,  True,\n",
       "        True,  True,  True,  True,  True,  True,  True,  True,  True,\n",
       "        True,  True,  True,  True,  True,  True,  True,  True,  True,\n",
       "        True,  True,  True,  True,  True,  True,  True,  True,  True,\n",
       "        True,  True,  True,  True,  True,  True,  True,  True,  True,\n",
       "        True,  True,  True,  True,  True,  True,  True,  True,  True,\n",
       "        True,  True,  True,  True,  True,  True,  True,  True,  True,\n",
       "        True,  True,  True,  True,  True,  True,  True,  True,  True,\n",
       "        True,  True], dtype=bool)"
      ]
     },
     "execution_count": 26,
     "metadata": {},
     "output_type": "execute_result"
    }
   ],
   "source": [
    "x.as_matrix()==arr[0]"
   ]
  },
  {
   "cell_type": "code",
   "execution_count": 29,
   "metadata": {},
   "outputs": [
    {
     "name": "stdout",
     "output_type": "stream",
     "text": [
      "CPU times: user 17.1 s, sys: 0 ns, total: 17.1 s\n",
      "Wall time: 17.1 s\n"
     ]
    }
   ],
   "source": [
    "%%time \n",
    "c=one(x,y)"
   ]
  },
  {
   "cell_type": "code",
   "execution_count": null,
   "metadata": {
    "collapsed": true
   },
   "outputs": [],
   "source": [
    "abs"
   ]
  },
  {
   "cell_type": "code",
   "execution_count": 30,
   "metadata": {},
   "outputs": [],
   "source": [
    "tot=0\n",
    "for i,j in zip(b,c):\n",
    "    tot+=abs(i-j)"
   ]
  },
  {
   "cell_type": "code",
   "execution_count": 33,
   "metadata": {},
   "outputs": [
    {
     "data": {
      "text/plain": [
       "0.45030645878796349"
      ]
     },
     "execution_count": 33,
     "metadata": {},
     "output_type": "execute_result"
    }
   ],
   "source": [
    "tot*1000000000000"
   ]
  },
  {
   "cell_type": "code",
   "execution_count": 54,
   "metadata": {},
   "outputs": [
    {
     "data": {
      "text/plain": [
       "array([ 0.39838489,  0.270621  ,  0.11967334,  0.76374123,  0.65547935,\n",
       "        0.94838216,  0.56432386,  0.08389938,  0.89132022,  0.48316755,\n",
       "        0.49123879,  0.57089052,  0.41263953,  0.52658705,  0.48288937,\n",
       "        0.38598601,  0.67756899,  0.11041126,  0.15125474,  0.12710974,\n",
       "        0.68733057,  0.42773726,  0.68621121,  0.22782292,  0.15577681,\n",
       "        0.18118842,  0.85504652,  0.15607439,  0.1154611 ,  0.43268882,\n",
       "        0.04928459,  0.05559058,  0.0539609 ,  0.25934306,  0.13128847,\n",
       "        0.66495571,  0.91444053,  0.28385314,  0.17322109,  0.39471907,\n",
       "        0.62390665,  0.90450094,  0.67433513,  0.61033804,  0.20778756,\n",
       "        0.48854874,  0.88282593,  0.42936548,  0.62134302,  0.82753573,\n",
       "        0.11183069,  0.96714206,  0.15868627,  0.06739835,  0.36455131,\n",
       "        0.91123926,  0.66901966,  0.91824441,  0.12782461,  0.39565135,\n",
       "        0.80988087,  0.00788569,  0.73564613,  0.90987516,  0.297334  ,\n",
       "        0.17133374,  0.09019381,  0.13746366,  0.42750582,  0.33948549,\n",
       "        0.61273802,  0.46176516,  0.3755847 ,  0.45804874,  0.21803045,\n",
       "        0.39544164,  0.16116911,  0.0969772 ,  0.53601688,  0.96798869,\n",
       "        0.2951225 ,  0.60393677,  0.17655224,  0.1459106 ,  0.75178928,\n",
       "        0.63295334,  0.1760204 ,  0.66250733,  0.94875724,  0.76911862,\n",
       "        0.38349908,  0.68855489,  0.19083308,  0.53859948,  0.74357581,\n",
       "        0.09634268,  0.09293871,  0.94211429,  0.82121072,  0.31837159,\n",
       "        0.33944901,  0.03695595,  0.25130398,  0.68027804,  0.39796939,\n",
       "        0.07313951,  0.68211624,  0.03799063,  0.51944545,  0.16879446,\n",
       "        0.80117682,  0.49316448,  0.34064511,  0.90156115,  0.05049375,\n",
       "        0.31907469,  0.92888118,  0.13607996,  0.88361804,  0.20074525,\n",
       "        0.05863347,  0.84228201,  0.67355367,  0.99842113,  0.13036228,\n",
       "        0.54608565,  0.26629734,  0.48744343])"
      ]
     },
     "execution_count": 54,
     "metadata": {},
     "output_type": "execute_result"
    }
   ],
   "source": [
    "x.as_matrix().reshape[]"
   ]
  },
  {
   "cell_type": "code",
   "execution_count": null,
   "metadata": {
    "collapsed": true
   },
   "outputs": [],
   "source": []
  }
 ],
 "metadata": {
  "kernelspec": {
   "display_name": "Python 2",
   "language": "python",
   "name": "python2"
  },
  "language_info": {
   "codemirror_mode": {
    "name": "ipython",
    "version": 2
   },
   "file_extension": ".py",
   "mimetype": "text/x-python",
   "name": "python",
   "nbconvert_exporter": "python",
   "pygments_lexer": "ipython2",
   "version": "2.7.13"
  }
 },
 "nbformat": 4,
 "nbformat_minor": 2
}
