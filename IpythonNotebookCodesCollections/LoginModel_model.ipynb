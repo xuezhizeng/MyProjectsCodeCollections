{
 "cells": [
  {
   "cell_type": "code",
   "execution_count": 2,
   "metadata": {
    "collapsed": true
   },
   "outputs": [],
   "source": [
    "import ast\n",
    "import pandas as pd\n",
    "import os\n",
    "from parseHelper import SeriesStringDictToDataframe, CountListLength"
   ]
  },
  {
   "cell_type": "code",
   "execution_count": 3,
   "metadata": {},
   "outputs": [
    {
     "name": "stderr",
     "output_type": "stream",
     "text": [
      "/home/shj16110/anaconda2/lib/python2.7/site-packages/IPython/core/magic.py:188: DtypeWarning: Columns (5,9,13,28,45,46,50,77,78,79,80,81) have mixed types. Specify dtype option on import or set low_memory=False.\n",
      "  call = lambda f, *a, **k: f(*a, **k)\n"
     ]
    },
    {
     "name": "stdout",
     "output_type": "stream",
     "text": [
      "(195186, 93)\n",
      "CPU times: user 5.47 s, sys: 516 ms, total: 5.99 s\n",
      "Wall time: 6.04 s\n"
     ]
    }
   ],
   "source": [
    "%%time\n",
    "fl=pd.read_csv('./prepared_train_27Dec.csv', chunksize=10000)\n",
    "df = pd.concat([i for i in fl], ignore_index=True)\n",
    "print df.shape\n",
    "# %%time\n",
    "# fl=pd.read_csv('./clean_Json_updated_debug_Dec_17_2017.csv', chunksize=10000)\n",
    "# df=fl.next()\n",
    "# print df.shape"
   ]
  },
  {
   "cell_type": "code",
   "execution_count": 8,
   "metadata": {
    "collapsed": true
   },
   "outputs": [],
   "source": [
    "df['user_id'] = df['userId'].astype(int)"
   ]
  },
  {
   "cell_type": "markdown",
   "metadata": {},
   "source": [
    "### try predict with selected certain fields"
   ]
  },
  {
   "cell_type": "code",
   "execution_count": 6,
   "metadata": {},
   "outputs": [
    {
     "name": "stdout",
     "output_type": "stream",
     "text": [
      "(108011, 3)\n"
     ]
    },
    {
     "data": {
      "text/html": [
       "<div>\n",
       "<style>\n",
       "    .dataframe thead tr:only-child th {\n",
       "        text-align: right;\n",
       "    }\n",
       "\n",
       "    .dataframe thead th {\n",
       "        text-align: left;\n",
       "    }\n",
       "\n",
       "    .dataframe tbody tr th {\n",
       "        vertical-align: top;\n",
       "    }\n",
       "</style>\n",
       "<table border=\"1\" class=\"dataframe\">\n",
       "  <thead>\n",
       "    <tr style=\"text-align: right;\">\n",
       "      <th></th>\n",
       "      <th>index</th>\n",
       "      <th>label</th>\n",
       "      <th>user_id</th>\n",
       "    </tr>\n",
       "  </thead>\n",
       "  <tbody>\n",
       "    <tr>\n",
       "      <th>0</th>\n",
       "      <td>0</td>\n",
       "      <td>1</td>\n",
       "      <td>5</td>\n",
       "    </tr>\n",
       "    <tr>\n",
       "      <th>1</th>\n",
       "      <td>2</td>\n",
       "      <td>1</td>\n",
       "      <td>64</td>\n",
       "    </tr>\n",
       "    <tr>\n",
       "      <th>2</th>\n",
       "      <td>3</td>\n",
       "      <td>1</td>\n",
       "      <td>128</td>\n",
       "    </tr>\n",
       "    <tr>\n",
       "      <th>3</th>\n",
       "      <td>4</td>\n",
       "      <td>1</td>\n",
       "      <td>215</td>\n",
       "    </tr>\n",
       "    <tr>\n",
       "      <th>4</th>\n",
       "      <td>5</td>\n",
       "      <td>1</td>\n",
       "      <td>220</td>\n",
       "    </tr>\n",
       "  </tbody>\n",
       "</table>\n",
       "</div>"
      ],
      "text/plain": [
       "   index  label  user_id\n",
       "0      0      1        5\n",
       "1      2      1       64\n",
       "2      3      1      128\n",
       "3      4      1      215\n",
       "4      5      1      220"
      ]
     },
     "execution_count": 6,
     "metadata": {},
     "output_type": "execute_result"
    }
   ],
   "source": [
    "label = pd.read_csv('./Training_set.csv')\n",
    "print label.shape\n",
    "label.head()"
   ]
  },
  {
   "cell_type": "code",
   "execution_count": 13,
   "metadata": {},
   "outputs": [
    {
     "data": {
      "text/plain": [
       "(102514, 94)"
      ]
     },
     "execution_count": 13,
     "metadata": {},
     "output_type": "execute_result"
    }
   ],
   "source": [
    "df_t = df.set_index('user_id').join(label.set_index('user_id'), how='inner', lsuffix='data_')\n",
    "df_t.shape"
   ]
  },
  {
   "cell_type": "code",
   "execution_count": 14,
   "metadata": {
    "collapsed": true
   },
   "outputs": [],
   "source": [
    "pd.options.display.max_rows=500"
   ]
  },
  {
   "cell_type": "code",
   "execution_count": 15,
   "metadata": {},
   "outputs": [
    {
     "data": {
      "text/html": [
       "<div>\n",
       "<style>\n",
       "    .dataframe thead tr:only-child th {\n",
       "        text-align: right;\n",
       "    }\n",
       "\n",
       "    .dataframe thead th {\n",
       "        text-align: left;\n",
       "    }\n",
       "\n",
       "    .dataframe tbody tr th {\n",
       "        vertical-align: top;\n",
       "    }\n",
       "</style>\n",
       "<table border=\"1\" class=\"dataframe\">\n",
       "  <thead>\n",
       "    <tr style=\"text-align: right;\">\n",
       "      <th></th>\n",
       "      <th>10</th>\n",
       "      <th>Type</th>\n",
       "    </tr>\n",
       "  </thead>\n",
       "  <tbody>\n",
       "    <tr>\n",
       "      <th>index</th>\n",
       "      <td>alesilva241.html</td>\n",
       "      <td>object</td>\n",
       "    </tr>\n",
       "    <tr>\n",
       "      <th>about.avatar</th>\n",
       "      <td>/ppic/102069964/logo/9777483/profile_logo_9777...</td>\n",
       "      <td>object</td>\n",
       "    </tr>\n",
       "    <tr>\n",
       "      <th>about.avatar_cdn</th>\n",
       "      <td>//cdn2.f-cdn.com/ppic/102069964/logo/9777483/p...</td>\n",
       "      <td>object</td>\n",
       "    </tr>\n",
       "    <tr>\n",
       "      <th>about.avatar_large</th>\n",
       "      <td>/ppic/102069962/logo/9777483/vizh6/profile_log...</td>\n",
       "      <td>object</td>\n",
       "    </tr>\n",
       "    <tr>\n",
       "      <th>about.avatar_large_cdn</th>\n",
       "      <td>//cdn5.f-cdn.com/ppic/102069962/logo/9777483/v...</td>\n",
       "      <td>object</td>\n",
       "    </tr>\n",
       "    <tr>\n",
       "      <th>about.chosen_role</th>\n",
       "      <td>1</td>\n",
       "      <td>object</td>\n",
       "    </tr>\n",
       "    <tr>\n",
       "      <th>about.company</th>\n",
       "      <td>NaN</td>\n",
       "      <td>object</td>\n",
       "    </tr>\n",
       "    <tr>\n",
       "      <th>about.display_name</th>\n",
       "      <td>Alexandra</td>\n",
       "      <td>object</td>\n",
       "    </tr>\n",
       "    <tr>\n",
       "      <th>about.hourly_rate</th>\n",
       "      <td>15</td>\n",
       "      <td>object</td>\n",
       "    </tr>\n",
       "    <tr>\n",
       "      <th>about.id</th>\n",
       "      <td>9.77748e+06</td>\n",
       "      <td>object</td>\n",
       "    </tr>\n",
       "    <tr>\n",
       "      <th>about.primary_language</th>\n",
       "      <td>pt</td>\n",
       "      <td>object</td>\n",
       "    </tr>\n",
       "    <tr>\n",
       "      <th>about.profile_description</th>\n",
       "      <td>Freelancer since 2014 with BSc. of Computer Sc...</td>\n",
       "      <td>object</td>\n",
       "    </tr>\n",
       "    <tr>\n",
       "      <th>about.public_name</th>\n",
       "      <td>Alexandra P.</td>\n",
       "      <td>object</td>\n",
       "    </tr>\n",
       "    <tr>\n",
       "      <th>about.recommendations</th>\n",
       "      <td>1</td>\n",
       "      <td>object</td>\n",
       "    </tr>\n",
       "    <tr>\n",
       "      <th>about.registration_date</th>\n",
       "      <td>1.38929e+09</td>\n",
       "      <td>float64</td>\n",
       "    </tr>\n",
       "    <tr>\n",
       "      <th>about.registration_date_human</th>\n",
       "      <td>January, 2014</td>\n",
       "      <td>object</td>\n",
       "    </tr>\n",
       "    <tr>\n",
       "      <th>about.registration_date_localized</th>\n",
       "      <td>January 9, 2014</td>\n",
       "      <td>object</td>\n",
       "    </tr>\n",
       "    <tr>\n",
       "      <th>about.responsivenessText</th>\n",
       "      <td>NaN</td>\n",
       "      <td>object</td>\n",
       "    </tr>\n",
       "    <tr>\n",
       "      <th>about.role</th>\n",
       "      <td>0</td>\n",
       "      <td>float64</td>\n",
       "    </tr>\n",
       "    <tr>\n",
       "      <th>about.tagline</th>\n",
       "      <td>Software Developer/Student/Researcher</td>\n",
       "      <td>object</td>\n",
       "    </tr>\n",
       "    <tr>\n",
       "      <th>about.username</th>\n",
       "      <td>alesilva241</td>\n",
       "      <td>object</td>\n",
       "    </tr>\n",
       "    <tr>\n",
       "      <th>about.username_sentence</th>\n",
       "      <td>Alesilva241</td>\n",
       "      <td>object</td>\n",
       "    </tr>\n",
       "    <tr>\n",
       "      <th>hourlyRate</th>\n",
       "      <td>15</td>\n",
       "      <td>float64</td>\n",
       "    </tr>\n",
       "    <tr>\n",
       "      <th>resume.certifications</th>\n",
       "      <td>[{u'award_date': u'2015', u'descr': u'This cou...</td>\n",
       "      <td>object</td>\n",
       "    </tr>\n",
       "    <tr>\n",
       "      <th>resume.education</th>\n",
       "      <td>[{u'activities': None, u'start_year': u'2012',...</td>\n",
       "      <td>object</td>\n",
       "    </tr>\n",
       "    <tr>\n",
       "      <th>resume.exams</th>\n",
       "      <td>[]</td>\n",
       "      <td>object</td>\n",
       "    </tr>\n",
       "    <tr>\n",
       "      <th>resume.experience</th>\n",
       "      <td>[{u'year_interval': u'-2017', u'month_interval...</td>\n",
       "      <td>object</td>\n",
       "    </tr>\n",
       "    <tr>\n",
       "      <th>resume.publications</th>\n",
       "      <td>[{u'publisher': u'Alexandra Silva', u'title': ...</td>\n",
       "      <td>object</td>\n",
       "    </tr>\n",
       "    <tr>\n",
       "      <th>resume.show</th>\n",
       "      <td>True</td>\n",
       "      <td>object</td>\n",
       "    </tr>\n",
       "    <tr>\n",
       "      <th>skills</th>\n",
       "      <td>[{u'usages': 2, u'seo_url': u'android', u'islo...</td>\n",
       "      <td>object</td>\n",
       "    </tr>\n",
       "    <tr>\n",
       "      <th>timeOffset</th>\n",
       "      <td>-120</td>\n",
       "      <td>float64</td>\n",
       "    </tr>\n",
       "    <tr>\n",
       "      <th>userId</th>\n",
       "      <td>9.77748e+06</td>\n",
       "      <td>float64</td>\n",
       "    </tr>\n",
       "    <tr>\n",
       "      <th>username</th>\n",
       "      <td>alesilva241</td>\n",
       "      <td>object</td>\n",
       "    </tr>\n",
       "    <tr>\n",
       "      <th>public_firstname</th>\n",
       "      <td>Alexandra</td>\n",
       "      <td>object</td>\n",
       "    </tr>\n",
       "    <tr>\n",
       "      <th>current_image.url</th>\n",
       "      <td>//cdn5.f-cdn.com/static/img/profiles/cover-mob...</td>\n",
       "      <td>object</td>\n",
       "    </tr>\n",
       "    <tr>\n",
       "      <th>city</th>\n",
       "      <td>Belo Horizonte</td>\n",
       "      <td>object</td>\n",
       "    </tr>\n",
       "    <tr>\n",
       "      <th>country.code</th>\n",
       "      <td>br</td>\n",
       "      <td>object</td>\n",
       "    </tr>\n",
       "    <tr>\n",
       "      <th>country.flag_class</th>\n",
       "      <td>brazil</td>\n",
       "      <td>object</td>\n",
       "    </tr>\n",
       "    <tr>\n",
       "      <th>country.flag_url</th>\n",
       "      <td>/img/flags/png/br.png</td>\n",
       "      <td>object</td>\n",
       "    </tr>\n",
       "    <tr>\n",
       "      <th>country.flag_url_cdn</th>\n",
       "      <td>//cdn2.f-cdn.com/img/flags/png/br.png</td>\n",
       "      <td>object</td>\n",
       "    </tr>\n",
       "    <tr>\n",
       "      <th>country.highres_flag_url</th>\n",
       "      <td>/img/flags/highres_png/brazil.png</td>\n",
       "      <td>object</td>\n",
       "    </tr>\n",
       "    <tr>\n",
       "      <th>country.highres_flag_url_cdn</th>\n",
       "      <td>//cdn5.f-cdn.com/img/flags/highres_png/brazil.png</td>\n",
       "      <td>object</td>\n",
       "    </tr>\n",
       "    <tr>\n",
       "      <th>country.name</th>\n",
       "      <td>Brazil</td>\n",
       "      <td>object</td>\n",
       "    </tr>\n",
       "    <tr>\n",
       "      <th>code</th>\n",
       "      <td>BRL</td>\n",
       "      <td>object</td>\n",
       "    </tr>\n",
       "    <tr>\n",
       "      <th>country</th>\n",
       "      <td>BR</td>\n",
       "      <td>object</td>\n",
       "    </tr>\n",
       "    <tr>\n",
       "      <th>exchange_rate</th>\n",
       "      <td>0.303476</td>\n",
       "      <td>object</td>\n",
       "    </tr>\n",
       "    <tr>\n",
       "      <th>id</th>\n",
       "      <td>20</td>\n",
       "      <td>object</td>\n",
       "    </tr>\n",
       "    <tr>\n",
       "      <th>name</th>\n",
       "      <td>Brazilian Real</td>\n",
       "      <td>object</td>\n",
       "    </tr>\n",
       "    <tr>\n",
       "      <th>sign</th>\n",
       "      <td>R$</td>\n",
       "      <td>object</td>\n",
       "    </tr>\n",
       "    <tr>\n",
       "      <th>earnings_score</th>\n",
       "      <td>1.1202</td>\n",
       "      <td>float64</td>\n",
       "    </tr>\n",
       "    <tr>\n",
       "      <th>entire_history.all</th>\n",
       "      <td>3</td>\n",
       "      <td>object</td>\n",
       "    </tr>\n",
       "    <tr>\n",
       "      <th>entire_history.category_ratings.communication</th>\n",
       "      <td>5</td>\n",
       "      <td>float64</td>\n",
       "    </tr>\n",
       "    <tr>\n",
       "      <th>entire_history.category_ratings.expertise</th>\n",
       "      <td>5</td>\n",
       "      <td>float64</td>\n",
       "    </tr>\n",
       "    <tr>\n",
       "      <th>entire_history.category_ratings.hire_again</th>\n",
       "      <td>5</td>\n",
       "      <td>float64</td>\n",
       "    </tr>\n",
       "    <tr>\n",
       "      <th>entire_history.category_ratings.professionalism</th>\n",
       "      <td>5</td>\n",
       "      <td>float64</td>\n",
       "    </tr>\n",
       "    <tr>\n",
       "      <th>entire_history.category_ratings.quality</th>\n",
       "      <td>5</td>\n",
       "      <td>float64</td>\n",
       "    </tr>\n",
       "    <tr>\n",
       "      <th>entire_history.complete</th>\n",
       "      <td>3</td>\n",
       "      <td>float64</td>\n",
       "    </tr>\n",
       "    <tr>\n",
       "      <th>entire_history.completion_rate</th>\n",
       "      <td>1</td>\n",
       "      <td>float64</td>\n",
       "    </tr>\n",
       "    <tr>\n",
       "      <th>entire_history.incomplete</th>\n",
       "      <td>0</td>\n",
       "      <td>float64</td>\n",
       "    </tr>\n",
       "    <tr>\n",
       "      <th>entire_history.incomplete_reviews</th>\n",
       "      <td>0</td>\n",
       "      <td>float64</td>\n",
       "    </tr>\n",
       "    <tr>\n",
       "      <th>entire_history.on_budget</th>\n",
       "      <td>1</td>\n",
       "      <td>float64</td>\n",
       "    </tr>\n",
       "    <tr>\n",
       "      <th>entire_history.on_time</th>\n",
       "      <td>1</td>\n",
       "      <td>float64</td>\n",
       "    </tr>\n",
       "    <tr>\n",
       "      <th>entire_history.overall</th>\n",
       "      <td>5</td>\n",
       "      <td>float64</td>\n",
       "    </tr>\n",
       "    <tr>\n",
       "      <th>entire_history.positive</th>\n",
       "      <td>0</td>\n",
       "      <td>float64</td>\n",
       "    </tr>\n",
       "    <tr>\n",
       "      <th>entire_history.rehire_rate</th>\n",
       "      <td>0</td>\n",
       "      <td>float64</td>\n",
       "    </tr>\n",
       "    <tr>\n",
       "      <th>entire_history.reviews</th>\n",
       "      <td>3</td>\n",
       "      <td>float64</td>\n",
       "    </tr>\n",
       "    <tr>\n",
       "      <th>job_history.count_other</th>\n",
       "      <td>0</td>\n",
       "      <td>float64</td>\n",
       "    </tr>\n",
       "    <tr>\n",
       "      <th>job_history.job_counts</th>\n",
       "      <td>[{u'count': 1, u'job': {u'category': {u'id': 9...</td>\n",
       "      <td>object</td>\n",
       "    </tr>\n",
       "    <tr>\n",
       "      <th>summary.completion_rate</th>\n",
       "      <td>100%</td>\n",
       "      <td>object</td>\n",
       "    </tr>\n",
       "    <tr>\n",
       "      <th>summary.earnings_score</th>\n",
       "      <td>1.1</td>\n",
       "      <td>float64</td>\n",
       "    </tr>\n",
       "    <tr>\n",
       "      <th>summary.earnings_score_pc</th>\n",
       "      <td>11.202</td>\n",
       "      <td>float64</td>\n",
       "    </tr>\n",
       "    <tr>\n",
       "      <th>summary.on_budget</th>\n",
       "      <td>100%</td>\n",
       "      <td>object</td>\n",
       "    </tr>\n",
       "    <tr>\n",
       "      <th>summary.on_time</th>\n",
       "      <td>100%</td>\n",
       "      <td>object</td>\n",
       "    </tr>\n",
       "    <tr>\n",
       "      <th>summary.rating_score</th>\n",
       "      <td>5</td>\n",
       "      <td>float64</td>\n",
       "    </tr>\n",
       "    <tr>\n",
       "      <th>summary.rehire_rate</th>\n",
       "      <td>NaN</td>\n",
       "      <td>object</td>\n",
       "    </tr>\n",
       "    <tr>\n",
       "      <th>summary.reviews</th>\n",
       "      <td>3</td>\n",
       "      <td>float64</td>\n",
       "    </tr>\n",
       "    <tr>\n",
       "      <th>user_id</th>\n",
       "      <td>9777483</td>\n",
       "      <td>int64</td>\n",
       "    </tr>\n",
       "    <tr>\n",
       "      <th>deposit_made</th>\n",
       "      <td>True</td>\n",
       "      <td>object</td>\n",
       "    </tr>\n",
       "    <tr>\n",
       "      <th>facebook_connected</th>\n",
       "      <td>False</td>\n",
       "      <td>object</td>\n",
       "    </tr>\n",
       "    <tr>\n",
       "      <th>payment_verified</th>\n",
       "      <td>True</td>\n",
       "      <td>object</td>\n",
       "    </tr>\n",
       "    <tr>\n",
       "      <th>phone_verified</th>\n",
       "      <td>True</td>\n",
       "      <td>object</td>\n",
       "    </tr>\n",
       "    <tr>\n",
       "      <th>profile_complete</th>\n",
       "      <td>True</td>\n",
       "      <td>object</td>\n",
       "    </tr>\n",
       "    <tr>\n",
       "      <th>country.1</th>\n",
       "      <td>BR</td>\n",
       "      <td>object</td>\n",
       "    </tr>\n",
       "    <tr>\n",
       "      <th>id.1</th>\n",
       "      <td>134</td>\n",
       "      <td>float64</td>\n",
       "    </tr>\n",
       "    <tr>\n",
       "      <th>offset</th>\n",
       "      <td>-3</td>\n",
       "      <td>float64</td>\n",
       "    </tr>\n",
       "    <tr>\n",
       "      <th>timezone</th>\n",
       "      <td>America/Sao_Paulo</td>\n",
       "      <td>object</td>\n",
       "    </tr>\n",
       "    <tr>\n",
       "      <th>job_history.job_counts_LEN</th>\n",
       "      <td>2</td>\n",
       "      <td>float64</td>\n",
       "    </tr>\n",
       "    <tr>\n",
       "      <th>resume.certifications_LEN</th>\n",
       "      <td>1</td>\n",
       "      <td>float64</td>\n",
       "    </tr>\n",
       "    <tr>\n",
       "      <th>resume.education_LEN</th>\n",
       "      <td>2</td>\n",
       "      <td>float64</td>\n",
       "    </tr>\n",
       "    <tr>\n",
       "      <th>resume.exams_LEN</th>\n",
       "      <td>0</td>\n",
       "      <td>float64</td>\n",
       "    </tr>\n",
       "    <tr>\n",
       "      <th>resume.experience_LEN</th>\n",
       "      <td>2</td>\n",
       "      <td>float64</td>\n",
       "    </tr>\n",
       "    <tr>\n",
       "      <th>resume.publications_LEN</th>\n",
       "      <td>1</td>\n",
       "      <td>float64</td>\n",
       "    </tr>\n",
       "    <tr>\n",
       "      <th>skills_LEN</th>\n",
       "      <td>12</td>\n",
       "      <td>float64</td>\n",
       "    </tr>\n",
       "  </tbody>\n",
       "</table>\n",
       "</div>"
      ],
      "text/plain": [
       "                                                                                                10  \\\n",
       "index                                                                             alesilva241.html   \n",
       "about.avatar                                     /ppic/102069964/logo/9777483/profile_logo_9777...   \n",
       "about.avatar_cdn                                 //cdn2.f-cdn.com/ppic/102069964/logo/9777483/p...   \n",
       "about.avatar_large                               /ppic/102069962/logo/9777483/vizh6/profile_log...   \n",
       "about.avatar_large_cdn                           //cdn5.f-cdn.com/ppic/102069962/logo/9777483/v...   \n",
       "about.chosen_role                                                                                1   \n",
       "about.company                                                                                  NaN   \n",
       "about.display_name                                                                       Alexandra   \n",
       "about.hourly_rate                                                                               15   \n",
       "about.id                                                                               9.77748e+06   \n",
       "about.primary_language                                                                          pt   \n",
       "about.profile_description                        Freelancer since 2014 with BSc. of Computer Sc...   \n",
       "about.public_name                                                                     Alexandra P.   \n",
       "about.recommendations                                                                            1   \n",
       "about.registration_date                                                                1.38929e+09   \n",
       "about.registration_date_human                                                        January, 2014   \n",
       "about.registration_date_localized                                                  January 9, 2014   \n",
       "about.responsivenessText                                                                       NaN   \n",
       "about.role                                                                                       0   \n",
       "about.tagline                                                Software Developer/Student/Researcher   \n",
       "about.username                                                                         alesilva241   \n",
       "about.username_sentence                                                                Alesilva241   \n",
       "hourlyRate                                                                                      15   \n",
       "resume.certifications                            [{u'award_date': u'2015', u'descr': u'This cou...   \n",
       "resume.education                                 [{u'activities': None, u'start_year': u'2012',...   \n",
       "resume.exams                                                                                    []   \n",
       "resume.experience                                [{u'year_interval': u'-2017', u'month_interval...   \n",
       "resume.publications                              [{u'publisher': u'Alexandra Silva', u'title': ...   \n",
       "resume.show                                                                                   True   \n",
       "skills                                           [{u'usages': 2, u'seo_url': u'android', u'islo...   \n",
       "timeOffset                                                                                    -120   \n",
       "userId                                                                                 9.77748e+06   \n",
       "username                                                                               alesilva241   \n",
       "public_firstname                                                                         Alexandra   \n",
       "current_image.url                                //cdn5.f-cdn.com/static/img/profiles/cover-mob...   \n",
       "city                                                                                Belo Horizonte   \n",
       "country.code                                                                                    br   \n",
       "country.flag_class                                                                          brazil   \n",
       "country.flag_url                                                             /img/flags/png/br.png   \n",
       "country.flag_url_cdn                                         //cdn2.f-cdn.com/img/flags/png/br.png   \n",
       "country.highres_flag_url                                         /img/flags/highres_png/brazil.png   \n",
       "country.highres_flag_url_cdn                     //cdn5.f-cdn.com/img/flags/highres_png/brazil.png   \n",
       "country.name                                                                                Brazil   \n",
       "code                                                                                           BRL   \n",
       "country                                                                                         BR   \n",
       "exchange_rate                                                                             0.303476   \n",
       "id                                                                                              20   \n",
       "name                                                                                Brazilian Real   \n",
       "sign                                                                                            R$   \n",
       "earnings_score                                                                              1.1202   \n",
       "entire_history.all                                                                               3   \n",
       "entire_history.category_ratings.communication                                                    5   \n",
       "entire_history.category_ratings.expertise                                                        5   \n",
       "entire_history.category_ratings.hire_again                                                       5   \n",
       "entire_history.category_ratings.professionalism                                                  5   \n",
       "entire_history.category_ratings.quality                                                          5   \n",
       "entire_history.complete                                                                          3   \n",
       "entire_history.completion_rate                                                                   1   \n",
       "entire_history.incomplete                                                                        0   \n",
       "entire_history.incomplete_reviews                                                                0   \n",
       "entire_history.on_budget                                                                         1   \n",
       "entire_history.on_time                                                                           1   \n",
       "entire_history.overall                                                                           5   \n",
       "entire_history.positive                                                                          0   \n",
       "entire_history.rehire_rate                                                                       0   \n",
       "entire_history.reviews                                                                           3   \n",
       "job_history.count_other                                                                          0   \n",
       "job_history.job_counts                           [{u'count': 1, u'job': {u'category': {u'id': 9...   \n",
       "summary.completion_rate                                                                       100%   \n",
       "summary.earnings_score                                                                         1.1   \n",
       "summary.earnings_score_pc                                                                   11.202   \n",
       "summary.on_budget                                                                             100%   \n",
       "summary.on_time                                                                               100%   \n",
       "summary.rating_score                                                                             5   \n",
       "summary.rehire_rate                                                                            NaN   \n",
       "summary.reviews                                                                                  3   \n",
       "user_id                                                                                    9777483   \n",
       "deposit_made                                                                                  True   \n",
       "facebook_connected                                                                           False   \n",
       "payment_verified                                                                              True   \n",
       "phone_verified                                                                                True   \n",
       "profile_complete                                                                              True   \n",
       "country.1                                                                                       BR   \n",
       "id.1                                                                                           134   \n",
       "offset                                                                                          -3   \n",
       "timezone                                                                         America/Sao_Paulo   \n",
       "job_history.job_counts_LEN                                                                       2   \n",
       "resume.certifications_LEN                                                                        1   \n",
       "resume.education_LEN                                                                             2   \n",
       "resume.exams_LEN                                                                                 0   \n",
       "resume.experience_LEN                                                                            2   \n",
       "resume.publications_LEN                                                                          1   \n",
       "skills_LEN                                                                                      12   \n",
       "\n",
       "                                                    Type  \n",
       "index                                             object  \n",
       "about.avatar                                      object  \n",
       "about.avatar_cdn                                  object  \n",
       "about.avatar_large                                object  \n",
       "about.avatar_large_cdn                            object  \n",
       "about.chosen_role                                 object  \n",
       "about.company                                     object  \n",
       "about.display_name                                object  \n",
       "about.hourly_rate                                 object  \n",
       "about.id                                          object  \n",
       "about.primary_language                            object  \n",
       "about.profile_description                         object  \n",
       "about.public_name                                 object  \n",
       "about.recommendations                             object  \n",
       "about.registration_date                          float64  \n",
       "about.registration_date_human                     object  \n",
       "about.registration_date_localized                 object  \n",
       "about.responsivenessText                          object  \n",
       "about.role                                       float64  \n",
       "about.tagline                                     object  \n",
       "about.username                                    object  \n",
       "about.username_sentence                           object  \n",
       "hourlyRate                                       float64  \n",
       "resume.certifications                             object  \n",
       "resume.education                                  object  \n",
       "resume.exams                                      object  \n",
       "resume.experience                                 object  \n",
       "resume.publications                               object  \n",
       "resume.show                                       object  \n",
       "skills                                            object  \n",
       "timeOffset                                       float64  \n",
       "userId                                           float64  \n",
       "username                                          object  \n",
       "public_firstname                                  object  \n",
       "current_image.url                                 object  \n",
       "city                                              object  \n",
       "country.code                                      object  \n",
       "country.flag_class                                object  \n",
       "country.flag_url                                  object  \n",
       "country.flag_url_cdn                              object  \n",
       "country.highres_flag_url                          object  \n",
       "country.highres_flag_url_cdn                      object  \n",
       "country.name                                      object  \n",
       "code                                              object  \n",
       "country                                           object  \n",
       "exchange_rate                                     object  \n",
       "id                                                object  \n",
       "name                                              object  \n",
       "sign                                              object  \n",
       "earnings_score                                   float64  \n",
       "entire_history.all                                object  \n",
       "entire_history.category_ratings.communication    float64  \n",
       "entire_history.category_ratings.expertise        float64  \n",
       "entire_history.category_ratings.hire_again       float64  \n",
       "entire_history.category_ratings.professionalism  float64  \n",
       "entire_history.category_ratings.quality          float64  \n",
       "entire_history.complete                          float64  \n",
       "entire_history.completion_rate                   float64  \n",
       "entire_history.incomplete                        float64  \n",
       "entire_history.incomplete_reviews                float64  \n",
       "entire_history.on_budget                         float64  \n",
       "entire_history.on_time                           float64  \n",
       "entire_history.overall                           float64  \n",
       "entire_history.positive                          float64  \n",
       "entire_history.rehire_rate                       float64  \n",
       "entire_history.reviews                           float64  \n",
       "job_history.count_other                          float64  \n",
       "job_history.job_counts                            object  \n",
       "summary.completion_rate                           object  \n",
       "summary.earnings_score                           float64  \n",
       "summary.earnings_score_pc                        float64  \n",
       "summary.on_budget                                 object  \n",
       "summary.on_time                                   object  \n",
       "summary.rating_score                             float64  \n",
       "summary.rehire_rate                               object  \n",
       "summary.reviews                                  float64  \n",
       "user_id                                            int64  \n",
       "deposit_made                                      object  \n",
       "facebook_connected                                object  \n",
       "payment_verified                                  object  \n",
       "phone_verified                                    object  \n",
       "profile_complete                                  object  \n",
       "country.1                                         object  \n",
       "id.1                                             float64  \n",
       "offset                                           float64  \n",
       "timezone                                          object  \n",
       "job_history.job_counts_LEN                       float64  \n",
       "resume.certifications_LEN                        float64  \n",
       "resume.education_LEN                             float64  \n",
       "resume.exams_LEN                                 float64  \n",
       "resume.experience_LEN                            float64  \n",
       "resume.publications_LEN                          float64  \n",
       "skills_LEN                                       float64  "
      ]
     },
     "execution_count": 15,
     "metadata": {},
     "output_type": "execute_result"
    }
   ],
   "source": [
    "pd.concat([df.iloc[10:11,:].transpose(), pd.DataFrame(df.dtypes, columns=['Type'])], axis=1)"
   ]
  },
  {
   "cell_type": "code",
   "execution_count": 16,
   "metadata": {
    "collapsed": true
   },
   "outputs": [],
   "source": [
    "stat = lambda x: df_t[x].value_counts().head(5)"
   ]
  },
  {
   "cell_type": "code",
   "execution_count": 17,
   "metadata": {},
   "outputs": [
    {
     "data": {
      "text/plain": [
       "1.0    48277\n",
       "3.0    34621\n",
       "2.0    15345\n",
       "1.0     2129\n",
       "3.0     1452\n",
       "Name: about.chosen_role, dtype: int64"
      ]
     },
     "execution_count": 17,
     "metadata": {},
     "output_type": "execute_result"
    }
   ],
   "source": [
    "stat('about.chosen_role')"
   ]
  },
  {
   "cell_type": "code",
   "execution_count": 18,
   "metadata": {
    "collapsed": true
   },
   "outputs": [],
   "source": [
    "df_t['about.hourly_rate'] = df_t['about.hourly_rate'].apply(lambda x: x.replace('None','0')).fillna(0).astype('int')"
   ]
  },
  {
   "cell_type": "code",
   "execution_count": 19,
   "metadata": {},
   "outputs": [
    {
     "data": {
      "text/plain": [
       "0     40798\n",
       "10    10863\n",
       "15     6948\n",
       "20     6589\n",
       "5      5911\n",
       "Name: about.hourly_rate, dtype: int64"
      ]
     },
     "execution_count": 19,
     "metadata": {},
     "output_type": "execute_result"
    }
   ],
   "source": [
    "stat('about.hourly_rate')"
   ]
  },
  {
   "cell_type": "code",
   "execution_count": 20,
   "metadata": {},
   "outputs": [
    {
     "data": {
      "text/plain": [
       "en    95890\n",
       "es     1659\n",
       "ru      878\n",
       "fr      588\n",
       "pt      562\n",
       "Name: about.primary_language, dtype: int64"
      ]
     },
     "execution_count": 20,
     "metadata": {},
     "output_type": "execute_result"
    }
   ],
   "source": [
    "stat('about.primary_language')"
   ]
  },
  {
   "cell_type": "code",
   "execution_count": 21,
   "metadata": {},
   "outputs": [
    {
     "data": {
      "text/plain": [
       "0.0    87005\n",
       "1.0     5490\n",
       "0.0     3790\n",
       "2.0     1975\n",
       "3.0     1055\n",
       "Name: about.recommendations, dtype: int64"
      ]
     },
     "execution_count": 21,
     "metadata": {},
     "output_type": "execute_result"
    }
   ],
   "source": [
    "stat('about.recommendations')"
   ]
  },
  {
   "cell_type": "code",
   "execution_count": 22,
   "metadata": {},
   "outputs": [
    {
     "data": {
      "text/plain": [
       "[]                                                                                                                                                                                                                                      81966\n",
       "[{u'award_date': u'2012', u'descr': u'Web Application Development with Microsoft .Net framework 4', u'certificate': u'MCTS ', u'organisation': u'', u'organization': u'Microsoft', u'id': u'337184'}]                                       1\n",
       "[{u'award_date': u'1993', u'descr': u'Computer Engineering', u'certificate': u'BE', u'organisation': u'', u'organization': u'sgsits', u'id': u'99989'}]                                                                                     1\n",
       "[{u'award_date': u'2000', u'descr': u'The highest English Language diploma available in Spain.', u'certificate': u'English Master Diploma', u'organisation': u'', u'organization': u'Escuela Oficial de Idiomas', u'id': u'104313'}]        1\n",
       "[{u'award_date': u'2012', u'descr': u'None', u'certificate': u'None', u'organisation': u'', u'organization': u'None', u'id': u'143828'}]                                                                                                    1\n",
       "Name: resume.certifications, dtype: int64"
      ]
     },
     "execution_count": 22,
     "metadata": {},
     "output_type": "execute_result"
    }
   ],
   "source": [
    "stat('resume.certifications')"
   ]
  },
  {
   "cell_type": "code",
   "execution_count": 23,
   "metadata": {},
   "outputs": [
    {
     "data": {
      "text/plain": [
       "Dhaka        1758\n",
       "London       1561\n",
       "Lahore       1536\n",
       "Bangalore    1379\n",
       "New Delhi    1341\n",
       "Name: city, dtype: int64"
      ]
     },
     "execution_count": 23,
     "metadata": {},
     "output_type": "execute_result"
    }
   ],
   "source": [
    "stat('city')"
   ]
  },
  {
   "cell_type": "code",
   "execution_count": 24,
   "metadata": {},
   "outputs": [
    {
     "data": {
      "text/plain": [
       "0.0    61793\n",
       "1.0    40721\n",
       "Name: about.role, dtype: int64"
      ]
     },
     "execution_count": 24,
     "metadata": {},
     "output_type": "execute_result"
    }
   ],
   "source": [
    "stat('about.role')"
   ]
  },
  {
   "cell_type": "code",
   "execution_count": 25,
   "metadata": {},
   "outputs": [
    {
     "data": {
      "text/plain": [
       "United States     25182\n",
       "India             21028\n",
       "United Kingdom     6517\n",
       "Pakistan           5909\n",
       "Canada             3402\n",
       "Name: country.name, dtype: int64"
      ]
     },
     "execution_count": 25,
     "metadata": {},
     "output_type": "execute_result"
    }
   ],
   "source": [
    "stat('country.name')"
   ]
  },
  {
   "cell_type": "code",
   "execution_count": 26,
   "metadata": {},
   "outputs": [
    {
     "data": {
      "text/plain": [
       "Replies within a few hours      52938\n",
       "Replies within a day            17835\n",
       "Replies within an hour          15831\n",
       "Replies within a few minutes     7481\n",
       "Replies within a few days        7420\n",
       "Name: about.responsivenessText, dtype: int64"
      ]
     },
     "execution_count": 26,
     "metadata": {},
     "output_type": "execute_result"
    }
   ],
   "source": [
    "stat('about.responsivenessText')"
   ]
  },
  {
   "cell_type": "code",
   "execution_count": 27,
   "metadata": {},
   "outputs": [
    {
     "data": {
      "text/plain": [
       "100%    8383\n",
       "50%     1810\n",
       "67%     1046\n",
       "75%      691\n",
       "33%      631\n",
       "Name: summary.completion_rate, dtype: int64"
      ]
     },
     "execution_count": 27,
     "metadata": {},
     "output_type": "execute_result"
    }
   ],
   "source": [
    "stat('summary.completion_rate')"
   ]
  },
  {
   "cell_type": "code",
   "execution_count": 28,
   "metadata": {},
   "outputs": [
    {
     "data": {
      "text/plain": [
       "0.0    77579\n",
       "1.0      776\n",
       "2.4      523\n",
       "2.0      520\n",
       "3.8      486\n",
       "Name: summary.earnings_score, dtype: int64"
      ]
     },
     "execution_count": 28,
     "metadata": {},
     "output_type": "execute_result"
    }
   ],
   "source": [
    "stat('summary.earnings_score')"
   ]
  },
  {
   "cell_type": "code",
   "execution_count": 29,
   "metadata": {},
   "outputs": [
    {
     "data": {
      "text/plain": [
       "0.000     77570\n",
       "9.542       643\n",
       "13.979      318\n",
       "20.000      290\n",
       "15.563      195\n",
       "Name: summary.earnings_score_pc, dtype: int64"
      ]
     },
     "execution_count": 29,
     "metadata": {},
     "output_type": "execute_result"
    }
   ],
   "source": [
    "stat('summary.earnings_score_pc')"
   ]
  },
  {
   "cell_type": "code",
   "execution_count": 30,
   "metadata": {},
   "outputs": [
    {
     "data": {
      "text/plain": [
       "100%    22045\n",
       "99%       789\n",
       "98%       443\n",
       "97%       275\n",
       "96%       195\n",
       "Name: summary.on_budget, dtype: int64"
      ]
     },
     "execution_count": 30,
     "metadata": {},
     "output_type": "execute_result"
    }
   ],
   "source": [
    "stat('summary.on_budget')"
   ]
  },
  {
   "cell_type": "code",
   "execution_count": 31,
   "metadata": {},
   "outputs": [
    {
     "data": {
      "text/plain": [
       "0.0    77798\n",
       "5.0    15231\n",
       "4.9     3862\n",
       "4.8     2015\n",
       "4.7      973\n",
       "Name: summary.rating_score, dtype: int64"
      ]
     },
     "execution_count": 31,
     "metadata": {},
     "output_type": "execute_result"
    }
   ],
   "source": [
    "stat('summary.rating_score')"
   ]
  },
  {
   "cell_type": "code",
   "execution_count": 32,
   "metadata": {},
   "outputs": [
    {
     "data": {
      "text/plain": [
       "33%    985\n",
       "25%    947\n",
       "50%    944\n",
       "20%    897\n",
       "17%    790\n",
       "Name: summary.rehire_rate, dtype: int64"
      ]
     },
     "execution_count": 32,
     "metadata": {},
     "output_type": "execute_result"
    }
   ],
   "source": [
    "stat('summary.rehire_rate')"
   ]
  },
  {
   "cell_type": "code",
   "execution_count": 33,
   "metadata": {},
   "outputs": [
    {
     "data": {
      "text/plain": [
       "0.0    76391\n",
       "1.0     5933\n",
       "2.0     2848\n",
       "3.0     1786\n",
       "4.0     1224\n",
       "Name: summary.reviews, dtype: int64"
      ]
     },
     "execution_count": 33,
     "metadata": {},
     "output_type": "execute_result"
    }
   ],
   "source": [
    "stat('summary.reviews')"
   ]
  },
  {
   "cell_type": "code",
   "execution_count": 34,
   "metadata": {},
   "outputs": [
    {
     "data": {
      "text/plain": [
       "True     64984\n",
       "False    37530\n",
       "Name: deposit_made, dtype: int64"
      ]
     },
     "execution_count": 34,
     "metadata": {},
     "output_type": "execute_result"
    }
   ],
   "source": [
    "stat('deposit_made')"
   ]
  },
  {
   "cell_type": "code",
   "execution_count": 35,
   "metadata": {},
   "outputs": [
    {
     "data": {
      "text/plain": [
       "False    80900\n",
       "True     21614\n",
       "Name: facebook_connected, dtype: int64"
      ]
     },
     "execution_count": 35,
     "metadata": {},
     "output_type": "execute_result"
    }
   ],
   "source": [
    "stat('facebook_connected')"
   ]
  },
  {
   "cell_type": "code",
   "execution_count": 36,
   "metadata": {},
   "outputs": [
    {
     "data": {
      "text/plain": [
       "False    73148\n",
       "True     29366\n",
       "Name: payment_verified, dtype: int64"
      ]
     },
     "execution_count": 36,
     "metadata": {},
     "output_type": "execute_result"
    }
   ],
   "source": [
    "stat('payment_verified')"
   ]
  },
  {
   "cell_type": "code",
   "execution_count": 37,
   "metadata": {},
   "outputs": [
    {
     "data": {
      "text/plain": [
       "False    57921\n",
       "True     44593\n",
       "Name: phone_verified, dtype: int64"
      ]
     },
     "execution_count": 37,
     "metadata": {},
     "output_type": "execute_result"
    }
   ],
   "source": [
    "stat('phone_verified')"
   ]
  },
  {
   "cell_type": "code",
   "execution_count": 38,
   "metadata": {},
   "outputs": [
    {
     "data": {
      "text/plain": [
       "True     101690\n",
       "False       824\n",
       "Name: profile_complete, dtype: int64"
      ]
     },
     "execution_count": 38,
     "metadata": {},
     "output_type": "execute_result"
    }
   ],
   "source": [
    "stat('profile_complete')"
   ]
  },
  {
   "cell_type": "code",
   "execution_count": 39,
   "metadata": {},
   "outputs": [
    {
     "data": {
      "text/plain": [
       "Asia/Calcutta       11352\n",
       "America/Chicago     10364\n",
       "Europe/London        6739\n",
       "America/New_York     5904\n",
       "Asia/Kolkata         5716\n",
       "Name: timezone, dtype: int64"
      ]
     },
     "execution_count": 39,
     "metadata": {},
     "output_type": "execute_result"
    }
   ],
   "source": [
    "stat('timezone')"
   ]
  },
  {
   "cell_type": "markdown",
   "metadata": {},
   "source": [
    "### test 1"
   ]
  },
  {
   "cell_type": "code",
   "execution_count": 40,
   "metadata": {
    "collapsed": true
   },
   "outputs": [],
   "source": [
    "select_1 = [\n",
    "    'about.chosen_role','about.hourly_rate','about.recommendations','about.role','about.responsivenessText',\n",
    "    'resume.certifications','resume.education','resume.exams','resume.experience','resume.publications','resume.show','skills',\n",
    "    'country.name', 'about.primary_language','timezone',\n",
    "    'summary.completion_rate','summary.earnings_score','summary.earnings_score_pc','summary.on_budget','summary.rating_score',\n",
    "    'summary.rehire_rate','summary.reviews','deposit_made','facebook_connected','payment_verified','phone_verified','profile_complete',\n",
    "    'label'\n",
    "]"
   ]
  },
  {
   "cell_type": "code",
   "execution_count": 42,
   "metadata": {},
   "outputs": [
    {
     "name": "stdout",
     "output_type": "stream",
     "text": [
      "(102514, 28)\n",
      "242646\n"
     ]
    }
   ],
   "source": [
    "test1 = df_t[select_1]\n",
    "print test1.shape\n",
    "print test1.isnull().sum().sum()"
   ]
  },
  {
   "cell_type": "code",
   "execution_count": 43,
   "metadata": {},
   "outputs": [
    {
     "data": {
      "text/plain": [
       "0L"
      ]
     },
     "execution_count": 43,
     "metadata": {},
     "output_type": "execute_result"
    }
   ],
   "source": [
    "test1 = test1.fillna(\"NoData\")\n",
    "test1.isnull().sum().sum()"
   ]
  },
  {
   "cell_type": "code",
   "execution_count": 45,
   "metadata": {},
   "outputs": [
    {
     "data": {
      "text/html": [
       "<div>\n",
       "<style>\n",
       "    .dataframe thead tr:only-child th {\n",
       "        text-align: right;\n",
       "    }\n",
       "\n",
       "    .dataframe thead th {\n",
       "        text-align: left;\n",
       "    }\n",
       "\n",
       "    .dataframe tbody tr th {\n",
       "        vertical-align: top;\n",
       "    }\n",
       "</style>\n",
       "<table border=\"1\" class=\"dataframe\">\n",
       "  <thead>\n",
       "    <tr style=\"text-align: right;\">\n",
       "      <th></th>\n",
       "      <th>about.chosen_role</th>\n",
       "      <th>about.hourly_rate</th>\n",
       "      <th>about.recommendations</th>\n",
       "      <th>about.role</th>\n",
       "      <th>about.responsivenessText</th>\n",
       "      <th>resume.certifications</th>\n",
       "      <th>resume.education</th>\n",
       "      <th>resume.exams</th>\n",
       "      <th>resume.experience</th>\n",
       "      <th>resume.publications</th>\n",
       "      <th>...</th>\n",
       "      <th>summary.on_budget</th>\n",
       "      <th>summary.rating_score</th>\n",
       "      <th>summary.rehire_rate</th>\n",
       "      <th>summary.reviews</th>\n",
       "      <th>deposit_made</th>\n",
       "      <th>facebook_connected</th>\n",
       "      <th>payment_verified</th>\n",
       "      <th>phone_verified</th>\n",
       "      <th>profile_complete</th>\n",
       "      <th>label</th>\n",
       "    </tr>\n",
       "    <tr>\n",
       "      <th>user_id</th>\n",
       "      <th></th>\n",
       "      <th></th>\n",
       "      <th></th>\n",
       "      <th></th>\n",
       "      <th></th>\n",
       "      <th></th>\n",
       "      <th></th>\n",
       "      <th></th>\n",
       "      <th></th>\n",
       "      <th></th>\n",
       "      <th></th>\n",
       "      <th></th>\n",
       "      <th></th>\n",
       "      <th></th>\n",
       "      <th></th>\n",
       "      <th></th>\n",
       "      <th></th>\n",
       "      <th></th>\n",
       "      <th></th>\n",
       "      <th></th>\n",
       "      <th></th>\n",
       "    </tr>\n",
       "  </thead>\n",
       "  <tbody>\n",
       "    <tr>\n",
       "      <th>1018449</th>\n",
       "      <td>2</td>\n",
       "      <td>60</td>\n",
       "      <td>0</td>\n",
       "      <td>1.0</td>\n",
       "      <td>NoData</td>\n",
       "      <td>[{u'award_date': u'2011', u'descr': u'Hootsuit...</td>\n",
       "      <td>[]</td>\n",
       "      <td>[]</td>\n",
       "      <td>[{u'year_interval': u'-2011', u'month_interval...</td>\n",
       "      <td>[]</td>\n",
       "      <td>...</td>\n",
       "      <td>NoData</td>\n",
       "      <td>0.0</td>\n",
       "      <td>NoData</td>\n",
       "      <td>0.0</td>\n",
       "      <td>True</td>\n",
       "      <td>False</td>\n",
       "      <td>False</td>\n",
       "      <td>False</td>\n",
       "      <td>True</td>\n",
       "      <td>1</td>\n",
       "    </tr>\n",
       "    <tr>\n",
       "      <th>8288991</th>\n",
       "      <td>3</td>\n",
       "      <td>20</td>\n",
       "      <td>3</td>\n",
       "      <td>0.0</td>\n",
       "      <td>NoData</td>\n",
       "      <td>[]</td>\n",
       "      <td>[]</td>\n",
       "      <td>[{u'examEnabled': u'1', u'description': u'US E...</td>\n",
       "      <td>[]</td>\n",
       "      <td>[]</td>\n",
       "      <td>...</td>\n",
       "      <td>100%</td>\n",
       "      <td>5.0</td>\n",
       "      <td>19%</td>\n",
       "      <td>43.0</td>\n",
       "      <td>True</td>\n",
       "      <td>False</td>\n",
       "      <td>False</td>\n",
       "      <td>True</td>\n",
       "      <td>True</td>\n",
       "      <td>0</td>\n",
       "    </tr>\n",
       "    <tr>\n",
       "      <th>314218</th>\n",
       "      <td>3</td>\n",
       "      <td>0</td>\n",
       "      <td>0</td>\n",
       "      <td>1.0</td>\n",
       "      <td>NoData</td>\n",
       "      <td>[]</td>\n",
       "      <td>[]</td>\n",
       "      <td>[]</td>\n",
       "      <td>[]</td>\n",
       "      <td>[]</td>\n",
       "      <td>...</td>\n",
       "      <td>NoData</td>\n",
       "      <td>0.0</td>\n",
       "      <td>NoData</td>\n",
       "      <td>0.0</td>\n",
       "      <td>True</td>\n",
       "      <td>False</td>\n",
       "      <td>False</td>\n",
       "      <td>False</td>\n",
       "      <td>True</td>\n",
       "      <td>1</td>\n",
       "    </tr>\n",
       "    <tr>\n",
       "      <th>1240449</th>\n",
       "      <td>2</td>\n",
       "      <td>0</td>\n",
       "      <td>0</td>\n",
       "      <td>1.0</td>\n",
       "      <td>NoData</td>\n",
       "      <td>[]</td>\n",
       "      <td>[]</td>\n",
       "      <td>[]</td>\n",
       "      <td>[]</td>\n",
       "      <td>[]</td>\n",
       "      <td>...</td>\n",
       "      <td>NoData</td>\n",
       "      <td>0.0</td>\n",
       "      <td>NoData</td>\n",
       "      <td>0.0</td>\n",
       "      <td>True</td>\n",
       "      <td>False</td>\n",
       "      <td>True</td>\n",
       "      <td>False</td>\n",
       "      <td>True</td>\n",
       "      <td>0</td>\n",
       "    </tr>\n",
       "    <tr>\n",
       "      <th>2157025</th>\n",
       "      <td>1</td>\n",
       "      <td>0</td>\n",
       "      <td>0</td>\n",
       "      <td>0.0</td>\n",
       "      <td>NoData</td>\n",
       "      <td>[]</td>\n",
       "      <td>[]</td>\n",
       "      <td>[]</td>\n",
       "      <td>[]</td>\n",
       "      <td>[]</td>\n",
       "      <td>...</td>\n",
       "      <td>NoData</td>\n",
       "      <td>0.0</td>\n",
       "      <td>NoData</td>\n",
       "      <td>0.0</td>\n",
       "      <td>False</td>\n",
       "      <td>False</td>\n",
       "      <td>True</td>\n",
       "      <td>False</td>\n",
       "      <td>True</td>\n",
       "      <td>1</td>\n",
       "    </tr>\n",
       "  </tbody>\n",
       "</table>\n",
       "<p>5 rows × 28 columns</p>\n",
       "</div>"
      ],
      "text/plain": [
       "        about.chosen_role  about.hourly_rate about.recommendations  \\\n",
       "user_id                                                              \n",
       "1018449                 2                 60                     0   \n",
       "8288991                 3                 20                     3   \n",
       "314218                  3                  0                     0   \n",
       "1240449                 2                  0                     0   \n",
       "2157025                 1                  0                     0   \n",
       "\n",
       "         about.role about.responsivenessText  \\\n",
       "user_id                                        \n",
       "1018449         1.0                   NoData   \n",
       "8288991         0.0                   NoData   \n",
       "314218          1.0                   NoData   \n",
       "1240449         1.0                   NoData   \n",
       "2157025         0.0                   NoData   \n",
       "\n",
       "                                     resume.certifications resume.education  \\\n",
       "user_id                                                                       \n",
       "1018449  [{u'award_date': u'2011', u'descr': u'Hootsuit...               []   \n",
       "8288991                                                 []               []   \n",
       "314218                                                  []               []   \n",
       "1240449                                                 []               []   \n",
       "2157025                                                 []               []   \n",
       "\n",
       "                                              resume.exams  \\\n",
       "user_id                                                      \n",
       "1018449                                                 []   \n",
       "8288991  [{u'examEnabled': u'1', u'description': u'US E...   \n",
       "314218                                                  []   \n",
       "1240449                                                 []   \n",
       "2157025                                                 []   \n",
       "\n",
       "                                         resume.experience  \\\n",
       "user_id                                                      \n",
       "1018449  [{u'year_interval': u'-2011', u'month_interval...   \n",
       "8288991                                                 []   \n",
       "314218                                                  []   \n",
       "1240449                                                 []   \n",
       "2157025                                                 []   \n",
       "\n",
       "        resume.publications  ...   summary.on_budget summary.rating_score  \\\n",
       "user_id                      ...                                            \n",
       "1018449                  []  ...              NoData                  0.0   \n",
       "8288991                  []  ...                100%                  5.0   \n",
       "314218                   []  ...              NoData                  0.0   \n",
       "1240449                  []  ...              NoData                  0.0   \n",
       "2157025                  []  ...              NoData                  0.0   \n",
       "\n",
       "        summary.rehire_rate summary.reviews deposit_made facebook_connected  \\\n",
       "user_id                                                                       \n",
       "1018449              NoData             0.0         True              False   \n",
       "8288991                 19%            43.0         True              False   \n",
       "314218               NoData             0.0         True              False   \n",
       "1240449              NoData             0.0         True              False   \n",
       "2157025              NoData             0.0        False              False   \n",
       "\n",
       "         payment_verified  phone_verified profile_complete  label  \n",
       "user_id                                                            \n",
       "1018449             False           False             True      1  \n",
       "8288991             False            True             True      0  \n",
       "314218              False           False             True      1  \n",
       "1240449              True           False             True      0  \n",
       "2157025              True           False             True      1  \n",
       "\n",
       "[5 rows x 28 columns]"
      ]
     },
     "execution_count": 45,
     "metadata": {},
     "output_type": "execute_result"
    }
   ],
   "source": [
    "test1.head()"
   ]
  },
  {
   "cell_type": "code",
   "execution_count": 46,
   "metadata": {
    "scrolled": true
   },
   "outputs": [
    {
     "data": {
      "text/html": [
       "<div>\n",
       "<style>\n",
       "    .dataframe thead tr:only-child th {\n",
       "        text-align: right;\n",
       "    }\n",
       "\n",
       "    .dataframe thead th {\n",
       "        text-align: left;\n",
       "    }\n",
       "\n",
       "    .dataframe tbody tr th {\n",
       "        vertical-align: top;\n",
       "    }\n",
       "</style>\n",
       "<table border=\"1\" class=\"dataframe\">\n",
       "  <thead>\n",
       "    <tr style=\"text-align: right;\">\n",
       "      <th></th>\n",
       "      <th>about.hourly_rate</th>\n",
       "      <th>about.role</th>\n",
       "      <th>summary.earnings_score</th>\n",
       "      <th>summary.earnings_score_pc</th>\n",
       "      <th>summary.rating_score</th>\n",
       "      <th>summary.reviews</th>\n",
       "      <th>deposit_made</th>\n",
       "      <th>facebook_connected</th>\n",
       "      <th>payment_verified</th>\n",
       "      <th>phone_verified</th>\n",
       "      <th>profile_complete</th>\n",
       "      <th>label</th>\n",
       "    </tr>\n",
       "    <tr>\n",
       "      <th>user_id</th>\n",
       "      <th></th>\n",
       "      <th></th>\n",
       "      <th></th>\n",
       "      <th></th>\n",
       "      <th></th>\n",
       "      <th></th>\n",
       "      <th></th>\n",
       "      <th></th>\n",
       "      <th></th>\n",
       "      <th></th>\n",
       "      <th></th>\n",
       "      <th></th>\n",
       "    </tr>\n",
       "  </thead>\n",
       "  <tbody>\n",
       "    <tr>\n",
       "      <th>1018449</th>\n",
       "      <td>60</td>\n",
       "      <td>1.0</td>\n",
       "      <td>0.0</td>\n",
       "      <td>0.000</td>\n",
       "      <td>0.0</td>\n",
       "      <td>0.0</td>\n",
       "      <td>True</td>\n",
       "      <td>False</td>\n",
       "      <td>False</td>\n",
       "      <td>False</td>\n",
       "      <td>True</td>\n",
       "      <td>1</td>\n",
       "    </tr>\n",
       "    <tr>\n",
       "      <th>8288991</th>\n",
       "      <td>20</td>\n",
       "      <td>0.0</td>\n",
       "      <td>6.2</td>\n",
       "      <td>61.516</td>\n",
       "      <td>5.0</td>\n",
       "      <td>43.0</td>\n",
       "      <td>True</td>\n",
       "      <td>False</td>\n",
       "      <td>False</td>\n",
       "      <td>True</td>\n",
       "      <td>True</td>\n",
       "      <td>0</td>\n",
       "    </tr>\n",
       "    <tr>\n",
       "      <th>314218</th>\n",
       "      <td>0</td>\n",
       "      <td>1.0</td>\n",
       "      <td>0.0</td>\n",
       "      <td>0.000</td>\n",
       "      <td>0.0</td>\n",
       "      <td>0.0</td>\n",
       "      <td>True</td>\n",
       "      <td>False</td>\n",
       "      <td>False</td>\n",
       "      <td>False</td>\n",
       "      <td>True</td>\n",
       "      <td>1</td>\n",
       "    </tr>\n",
       "    <tr>\n",
       "      <th>1240449</th>\n",
       "      <td>0</td>\n",
       "      <td>1.0</td>\n",
       "      <td>0.0</td>\n",
       "      <td>0.000</td>\n",
       "      <td>0.0</td>\n",
       "      <td>0.0</td>\n",
       "      <td>True</td>\n",
       "      <td>False</td>\n",
       "      <td>True</td>\n",
       "      <td>False</td>\n",
       "      <td>True</td>\n",
       "      <td>0</td>\n",
       "    </tr>\n",
       "    <tr>\n",
       "      <th>2157025</th>\n",
       "      <td>0</td>\n",
       "      <td>0.0</td>\n",
       "      <td>0.0</td>\n",
       "      <td>0.000</td>\n",
       "      <td>0.0</td>\n",
       "      <td>0.0</td>\n",
       "      <td>False</td>\n",
       "      <td>False</td>\n",
       "      <td>True</td>\n",
       "      <td>False</td>\n",
       "      <td>True</td>\n",
       "      <td>1</td>\n",
       "    </tr>\n",
       "  </tbody>\n",
       "</table>\n",
       "</div>"
      ],
      "text/plain": [
       "         about.hourly_rate  about.role  summary.earnings_score  \\\n",
       "user_id                                                          \n",
       "1018449                 60         1.0                     0.0   \n",
       "8288991                 20         0.0                     6.2   \n",
       "314218                   0         1.0                     0.0   \n",
       "1240449                  0         1.0                     0.0   \n",
       "2157025                  0         0.0                     0.0   \n",
       "\n",
       "         summary.earnings_score_pc  summary.rating_score  summary.reviews  \\\n",
       "user_id                                                                     \n",
       "1018449                      0.000                   0.0              0.0   \n",
       "8288991                     61.516                   5.0             43.0   \n",
       "314218                       0.000                   0.0              0.0   \n",
       "1240449                      0.000                   0.0              0.0   \n",
       "2157025                      0.000                   0.0              0.0   \n",
       "\n",
       "         deposit_made  facebook_connected  payment_verified  phone_verified  \\\n",
       "user_id                                                                       \n",
       "1018449          True               False             False           False   \n",
       "8288991          True               False             False            True   \n",
       "314218           True               False             False           False   \n",
       "1240449          True               False              True           False   \n",
       "2157025         False               False              True           False   \n",
       "\n",
       "         profile_complete  label  \n",
       "user_id                           \n",
       "1018449              True      1  \n",
       "8288991              True      0  \n",
       "314218               True      1  \n",
       "1240449              True      0  \n",
       "2157025              True      1  "
      ]
     },
     "execution_count": 46,
     "metadata": {},
     "output_type": "execute_result"
    }
   ],
   "source": [
    "test1_v2 = test1.select_dtypes(exclude=['object'])\n",
    "test1_v2.head()"
   ]
  },
  {
   "cell_type": "code",
   "execution_count": 49,
   "metadata": {
    "collapsed": true
   },
   "outputs": [],
   "source": [
    "from parseHelper import plot_confusion_matrix\n",
    "from sklearn.ensemble import RandomForestClassifier\n",
    "from sklearn.metrics import accuracy_score, confusion_matrix\n",
    "import itertools"
   ]
  },
  {
   "cell_type": "code",
   "execution_count": 47,
   "metadata": {},
   "outputs": [
    {
     "data": {
      "text/plain": [
       "[(71759, 11), (30755, 11), (71759,), (30755,)]"
      ]
     },
     "execution_count": 47,
     "metadata": {},
     "output_type": "execute_result"
    }
   ],
   "source": [
    "y=test1_v2.pop('label')\n",
    "\n",
    "from sklearn.model_selection import train_test_split\n",
    "dim=lambda *x: [i.shape for i in x]\n",
    "X_train, X_test, y_train, y_test = train_test_split(test1_v2, y, test_size=0.3,\n",
    "                                                   random_state=7)\n",
    "dim(X_train, X_test, y_train, y_test)"
   ]
  },
  {
   "cell_type": "code",
   "execution_count": 50,
   "metadata": {},
   "outputs": [
    {
     "name": "stdout",
     "output_type": "stream",
     "text": [
      "CPU times: user 474 ms, sys: 45 ms, total: 519 ms\n",
      "Wall time: 300 ms\n"
     ]
    }
   ],
   "source": [
    "%%time\n",
    "fr=RandomForestClassifier(n_jobs=24)\n",
    "fr.fit(X_train, y_train)\n",
    "## predict labels\n",
    "fr_p = fr.predict(X_test)\n",
    "pd.Series(fr_p).value_counts()"
   ]
  },
  {
   "cell_type": "code",
   "execution_count": 51,
   "metadata": {},
   "outputs": [
    {
     "name": "stdout",
     "output_type": "stream",
     "text": [
      "0.814696797269\n",
      "Confusion matrix, without normalization\n",
      "[[  184  5068]\n",
      " [  631 24872]]\n"
     ]
    },
    {
     "data": {
      "image/png": "[encoded data removed]",
      "text/plain": [
       "<matplotlib.figure.Figure at 0x2abc242a1b10>"
      ]
     },
     "metadata": {},
     "output_type": "display_data"
    }
   ],
   "source": [
    "print accuracy_score(y_test, fr_p)\n",
    "plot_confusion_matrix(confusion_matrix(y_test,fr_p), ['female','male'])"
   ]
  },
  {
   "cell_type": "code",
   "execution_count": null,
   "metadata": {
    "collapsed": true
   },
   "outputs": [],
   "source": []
  },
  {
   "cell_type": "markdown",
   "metadata": {},
   "source": [
    "#### label encoding the entire set"
   ]
  },
  {
   "cell_type": "code",
   "execution_count": 52,
   "metadata": {
    "collapsed": true
   },
   "outputs": [],
   "source": [
    "def helper(x):\n",
    "    try:\n",
    "        return pd.factorize(x)[0]\n",
    "    except:\n",
    "        return x\n"
   ]
  },
  {
   "cell_type": "markdown",
   "metadata": {},
   "source": [
    "#### notice many value changes, e.g. \"label\" value switched, so 0 rep male and 1 female"
   ]
  },
  {
   "cell_type": "code",
   "execution_count": 53,
   "metadata": {},
   "outputs": [
    {
     "data": {
      "text/html": [
       "<div>\n",
       "<style>\n",
       "    .dataframe thead tr:only-child th {\n",
       "        text-align: right;\n",
       "    }\n",
       "\n",
       "    .dataframe thead th {\n",
       "        text-align: left;\n",
       "    }\n",
       "\n",
       "    .dataframe tbody tr th {\n",
       "        vertical-align: top;\n",
       "    }\n",
       "</style>\n",
       "<table border=\"1\" class=\"dataframe\">\n",
       "  <thead>\n",
       "    <tr style=\"text-align: right;\">\n",
       "      <th></th>\n",
       "      <th>about.chosen_role</th>\n",
       "      <th>about.hourly_rate</th>\n",
       "      <th>about.recommendations</th>\n",
       "      <th>about.role</th>\n",
       "      <th>about.responsivenessText</th>\n",
       "      <th>resume.certifications</th>\n",
       "      <th>resume.education</th>\n",
       "      <th>resume.exams</th>\n",
       "      <th>resume.experience</th>\n",
       "      <th>resume.publications</th>\n",
       "      <th>...</th>\n",
       "      <th>summary.on_budget</th>\n",
       "      <th>summary.rating_score</th>\n",
       "      <th>summary.rehire_rate</th>\n",
       "      <th>summary.reviews</th>\n",
       "      <th>deposit_made</th>\n",
       "      <th>facebook_connected</th>\n",
       "      <th>payment_verified</th>\n",
       "      <th>phone_verified</th>\n",
       "      <th>profile_complete</th>\n",
       "      <th>label</th>\n",
       "    </tr>\n",
       "    <tr>\n",
       "      <th>user_id</th>\n",
       "      <th></th>\n",
       "      <th></th>\n",
       "      <th></th>\n",
       "      <th></th>\n",
       "      <th></th>\n",
       "      <th></th>\n",
       "      <th></th>\n",
       "      <th></th>\n",
       "      <th></th>\n",
       "      <th></th>\n",
       "      <th></th>\n",
       "      <th></th>\n",
       "      <th></th>\n",
       "      <th></th>\n",
       "      <th></th>\n",
       "      <th></th>\n",
       "      <th></th>\n",
       "      <th></th>\n",
       "      <th></th>\n",
       "      <th></th>\n",
       "      <th></th>\n",
       "    </tr>\n",
       "  </thead>\n",
       "  <tbody>\n",
       "    <tr>\n",
       "      <th>1018449</th>\n",
       "      <td>0</td>\n",
       "      <td>0</td>\n",
       "      <td>0</td>\n",
       "      <td>0</td>\n",
       "      <td>0</td>\n",
       "      <td>0</td>\n",
       "      <td>0</td>\n",
       "      <td>0</td>\n",
       "      <td>0</td>\n",
       "      <td>0</td>\n",
       "      <td>...</td>\n",
       "      <td>0</td>\n",
       "      <td>0</td>\n",
       "      <td>0</td>\n",
       "      <td>0</td>\n",
       "      <td>0</td>\n",
       "      <td>0</td>\n",
       "      <td>0</td>\n",
       "      <td>0</td>\n",
       "      <td>0</td>\n",
       "      <td>0</td>\n",
       "    </tr>\n",
       "    <tr>\n",
       "      <th>8288991</th>\n",
       "      <td>1</td>\n",
       "      <td>1</td>\n",
       "      <td>1</td>\n",
       "      <td>1</td>\n",
       "      <td>0</td>\n",
       "      <td>1</td>\n",
       "      <td>0</td>\n",
       "      <td>1</td>\n",
       "      <td>1</td>\n",
       "      <td>0</td>\n",
       "      <td>...</td>\n",
       "      <td>1</td>\n",
       "      <td>1</td>\n",
       "      <td>1</td>\n",
       "      <td>1</td>\n",
       "      <td>0</td>\n",
       "      <td>0</td>\n",
       "      <td>0</td>\n",
       "      <td>1</td>\n",
       "      <td>0</td>\n",
       "      <td>1</td>\n",
       "    </tr>\n",
       "    <tr>\n",
       "      <th>314218</th>\n",
       "      <td>1</td>\n",
       "      <td>2</td>\n",
       "      <td>0</td>\n",
       "      <td>0</td>\n",
       "      <td>0</td>\n",
       "      <td>1</td>\n",
       "      <td>0</td>\n",
       "      <td>0</td>\n",
       "      <td>1</td>\n",
       "      <td>0</td>\n",
       "      <td>...</td>\n",
       "      <td>0</td>\n",
       "      <td>0</td>\n",
       "      <td>0</td>\n",
       "      <td>0</td>\n",
       "      <td>0</td>\n",
       "      <td>0</td>\n",
       "      <td>0</td>\n",
       "      <td>0</td>\n",
       "      <td>0</td>\n",
       "      <td>0</td>\n",
       "    </tr>\n",
       "    <tr>\n",
       "      <th>1240449</th>\n",
       "      <td>0</td>\n",
       "      <td>2</td>\n",
       "      <td>0</td>\n",
       "      <td>0</td>\n",
       "      <td>0</td>\n",
       "      <td>1</td>\n",
       "      <td>0</td>\n",
       "      <td>0</td>\n",
       "      <td>1</td>\n",
       "      <td>0</td>\n",
       "      <td>...</td>\n",
       "      <td>0</td>\n",
       "      <td>0</td>\n",
       "      <td>0</td>\n",
       "      <td>0</td>\n",
       "      <td>0</td>\n",
       "      <td>0</td>\n",
       "      <td>1</td>\n",
       "      <td>0</td>\n",
       "      <td>0</td>\n",
       "      <td>1</td>\n",
       "    </tr>\n",
       "    <tr>\n",
       "      <th>2157025</th>\n",
       "      <td>2</td>\n",
       "      <td>2</td>\n",
       "      <td>0</td>\n",
       "      <td>1</td>\n",
       "      <td>0</td>\n",
       "      <td>1</td>\n",
       "      <td>0</td>\n",
       "      <td>0</td>\n",
       "      <td>1</td>\n",
       "      <td>0</td>\n",
       "      <td>...</td>\n",
       "      <td>0</td>\n",
       "      <td>0</td>\n",
       "      <td>0</td>\n",
       "      <td>0</td>\n",
       "      <td>1</td>\n",
       "      <td>0</td>\n",
       "      <td>1</td>\n",
       "      <td>0</td>\n",
       "      <td>0</td>\n",
       "      <td>0</td>\n",
       "    </tr>\n",
       "  </tbody>\n",
       "</table>\n",
       "<p>5 rows × 28 columns</p>\n",
       "</div>"
      ],
      "text/plain": [
       "         about.chosen_role  about.hourly_rate  about.recommendations  \\\n",
       "user_id                                                                \n",
       "1018449                  0                  0                      0   \n",
       "8288991                  1                  1                      1   \n",
       "314218                   1                  2                      0   \n",
       "1240449                  0                  2                      0   \n",
       "2157025                  2                  2                      0   \n",
       "\n",
       "         about.role  about.responsivenessText  resume.certifications  \\\n",
       "user_id                                                                \n",
       "1018449           0                         0                      0   \n",
       "8288991           1                         0                      1   \n",
       "314218            0                         0                      1   \n",
       "1240449           0                         0                      1   \n",
       "2157025           1                         0                      1   \n",
       "\n",
       "         resume.education  resume.exams  resume.experience  \\\n",
       "user_id                                                      \n",
       "1018449                 0             0                  0   \n",
       "8288991                 0             1                  1   \n",
       "314218                  0             0                  1   \n",
       "1240449                 0             0                  1   \n",
       "2157025                 0             0                  1   \n",
       "\n",
       "         resume.publications  ...    summary.on_budget  summary.rating_score  \\\n",
       "user_id                       ...                                              \n",
       "1018449                    0  ...                    0                     0   \n",
       "8288991                    0  ...                    1                     1   \n",
       "314218                     0  ...                    0                     0   \n",
       "1240449                    0  ...                    0                     0   \n",
       "2157025                    0  ...                    0                     0   \n",
       "\n",
       "         summary.rehire_rate  summary.reviews  deposit_made  \\\n",
       "user_id                                                       \n",
       "1018449                    0                0             0   \n",
       "8288991                    1                1             0   \n",
       "314218                     0                0             0   \n",
       "1240449                    0                0             0   \n",
       "2157025                    0                0             1   \n",
       "\n",
       "         facebook_connected  payment_verified  phone_verified  \\\n",
       "user_id                                                         \n",
       "1018449                   0                 0               0   \n",
       "8288991                   0                 0               1   \n",
       "314218                    0                 0               0   \n",
       "1240449                   0                 1               0   \n",
       "2157025                   0                 1               0   \n",
       "\n",
       "         profile_complete  label  \n",
       "user_id                           \n",
       "1018449                 0      0  \n",
       "8288991                 0      1  \n",
       "314218                  0      0  \n",
       "1240449                 0      1  \n",
       "2157025                 0      0  \n",
       "\n",
       "[5 rows x 28 columns]"
      ]
     },
     "execution_count": 53,
     "metadata": {},
     "output_type": "execute_result"
    }
   ],
   "source": [
    "test1 = test1.apply(helper)\n",
    "test1.head()"
   ]
  },
  {
   "cell_type": "code",
   "execution_count": 54,
   "metadata": {},
   "outputs": [
    {
     "name": "stdout",
     "output_type": "stream",
     "text": [
      "(102514, 28)\n"
     ]
    }
   ],
   "source": [
    "print test1.shape\n",
    "y=test1.pop('label')"
   ]
  },
  {
   "cell_type": "code",
   "execution_count": 56,
   "metadata": {},
   "outputs": [
    {
     "data": {
      "text/plain": [
       "[(71759, 27), (30755, 27), (71759,), (30755,)]"
      ]
     },
     "execution_count": 56,
     "metadata": {},
     "output_type": "execute_result"
    }
   ],
   "source": [
    "from sklearn.model_selection import train_test_split\n",
    "dim=lambda *x: [i.shape for i in x]\n",
    "X_train, X_test, y_train, y_test = train_test_split(test1, y, test_size=0.3,\n",
    "                                                   random_state=7)\n",
    "dim(X_train, X_test, y_train, y_test)"
   ]
  },
  {
   "cell_type": "code",
   "execution_count": null,
   "metadata": {
    "collapsed": true
   },
   "outputs": [],
   "source": []
  },
  {
   "cell_type": "code",
   "execution_count": 57,
   "metadata": {},
   "outputs": [
    {
     "name": "stdout",
     "output_type": "stream",
     "text": [
      "CPU times: user 1.17 s, sys: 28 ms, total: 1.2 s\n",
      "Wall time: 390 ms\n"
     ]
    }
   ],
   "source": [
    "%%time\n",
    "fr=RandomForestClassifier(n_jobs=24)\n",
    "fr.fit(X_train, y_train)\n",
    "## predict labels\n",
    "fr_p = fr.predict(X_test)\n",
    "pd.Series(fr_p).value_counts()"
   ]
  },
  {
   "cell_type": "code",
   "execution_count": 58,
   "metadata": {},
   "outputs": [
    {
     "name": "stdout",
     "output_type": "stream",
     "text": [
      "0.813623801008\n",
      "Confusion matrix, without normalization\n",
      "[[24737   766]\n",
      " [ 4966   286]]\n"
     ]
    },
    {
     "data": {
      "image/png": "[encoded data removed]",
      "text/plain": [
       "<matplotlib.figure.Figure at 0x2abc6bfe62d0>"
      ]
     },
     "metadata": {},
     "output_type": "display_data"
    }
   ],
   "source": [
    "print accuracy_score(y_test, fr_p)\n",
    "plot_confusion_matrix(confusion_matrix(y_test,fr_p), ['male','female'])"
   ]
  },
  {
   "cell_type": "code",
   "execution_count": 59,
   "metadata": {},
   "outputs": [
    {
     "data": {
      "text/plain": [
       "(195186, 93)"
      ]
     },
     "execution_count": 59,
     "metadata": {},
     "output_type": "execute_result"
    }
   ],
   "source": [
    "df.shape"
   ]
  },
  {
   "cell_type": "code",
   "execution_count": null,
   "metadata": {
    "collapsed": true
   },
   "outputs": [],
   "source": []
  }
 ],
 "metadata": {
  "kernelspec": {
   "display_name": "Python 2",
   "language": "python",
   "name": "python2"
  },
  "language_info": {
   "codemirror_mode": {
    "name": "ipython",
    "version": 2
   },
   "file_extension": ".py",
   "mimetype": "text/x-python",
   "name": "python",
   "nbconvert_exporter": "python",
   "pygments_lexer": "ipython2",
   "version": "2.7.13"
  }
 },
 "nbformat": 4,
 "nbformat_minor": 2
}
