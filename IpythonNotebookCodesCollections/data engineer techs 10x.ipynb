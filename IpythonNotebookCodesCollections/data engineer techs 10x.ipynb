{
 "cells": [
  {
   "cell_type": "markdown",
   "metadata": {},
   "source": [
    "### fuzzy matching\n",
    "\n",
    "https://aster-community.teradata.com/community/learn-aster/blog/2015/06/21/data-science--fuzzy-matching-and-similarity-measures\n",
    "\n",
    "https://github.com/seatgeek/fuzzywuzzy\n",
    "\n",
    "https://github.com/dedupeio/dedupe"
   ]
  },
  {
   "cell_type": "markdown",
   "metadata": {},
   "source": [
    "### mongodb \n",
    "\n",
    "https://www.thachmai.info/2015/04/30/running-mongodb-container/\n",
    "\n",
    "https://github.com/docker/compose/issues/3277"
   ]
  },
  {
   "cell_type": "code",
   "execution_count": 1,
   "metadata": {},
   "outputs": [
    {
     "name": "stdout",
     "output_type": "stream",
     "text": [
      "3\n"
     ]
    }
   ],
   "source": [
    "print 3"
   ]
  },
  {
   "cell_type": "code",
   "execution_count": null,
   "metadata": {
    "collapsed": true
   },
   "outputs": [],
   "source": []
  }
 ],
 "metadata": {
  "kernelspec": {
   "display_name": "Python 2",
   "language": "python",
   "name": "python2"
  },
  "language_info": {
   "codemirror_mode": {
    "name": "ipython",
    "version": 2
   },
   "file_extension": ".py",
   "mimetype": "text/x-python",
   "name": "python",
   "nbconvert_exporter": "python",
   "pygments_lexer": "ipython2",
   "version": "2.7.13"
  }
 },
 "nbformat": 4,
 "nbformat_minor": 2
}
