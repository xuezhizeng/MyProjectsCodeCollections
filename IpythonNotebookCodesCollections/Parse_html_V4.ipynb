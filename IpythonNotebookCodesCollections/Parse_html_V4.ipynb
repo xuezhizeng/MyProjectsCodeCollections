{
 "cells": [
  {
   "cell_type": "markdown",
   "metadata": {},
   "source": [
    "https://hub.docker.com/r/sath89/oracle-12c/"
   ]
  },
  {
   "cell_type": "markdown",
   "metadata": {
    "collapsed": true
   },
   "source": [
    "https://hub.docker.com/_/mysql/"
   ]
  },
  {
   "cell_type": "code",
   "execution_count": 60,
   "metadata": {},
   "outputs": [],
   "source": [
    "# encoding=utf8\n",
    "# import sys\n",
    "# reload(sys)\n",
    "# sys.setdefaultencoding('utf8')\n",
    "\n",
    "import pandas as pd\n",
    "import os\n",
    "from time import time, ctime\n",
    "\n",
    "import concurrent.futures\n",
    "\n",
    "from lxml import etree\n",
    "import json\n",
    "import re\n",
    "\n",
    "# import cx_Oracle\n",
    "# db=cx_Oracle.connect(\"free\", \"free\", \"my.uconn.science:521/xe\")\n",
    "\n"
   ]
  },
  {
   "cell_type": "code",
   "execution_count": 61,
   "metadata": {},
   "outputs": [],
   "source": [
    "import MySQLdb\n",
    "db=MySQLdb.connect(user=\"root\", passwd=\"iri\", host=\"my.uconn.science\",db=\"free\",charset=\"utf8\")\n",
    "conn=db.cursor()"
   ]
  },
  {
   "cell_type": "code",
   "execution_count": 62,
   "metadata": {
    "collapsed": true
   },
   "outputs": [],
   "source": [
    "folder='emp_pages4/'\n",
    "path='omsoftware.html'"
   ]
  },
  {
   "cell_type": "code",
   "execution_count": 63,
   "metadata": {
    "collapsed": true
   },
   "outputs": [],
   "source": [
    "def flatten_dict(data, layers=1, drop_deeper=True):\n",
    "\n",
    "        for _ in range(layers):\n",
    "            data = [(k, v) if not isinstance(v, dict) else [(k + '.' + k2, v2) for k2, v2 in v.items()] for k, v in\n",
    "                    data.items()]\n",
    "            data = [item for sublist in data for item in sublist if isinstance(sublist, list)] + [y for y in data if\n",
    "                                                                                                  not isinstance(y,\n",
    "                                                                                                                 list)]\n",
    "            data = dict(data)\n",
    "\n",
    "        if drop_deeper:\n",
    "            data = {k: v for k, v in data.items() if not isinstance(v, dict) or isinstance(v, list)}\n",
    "\n",
    "        return data"
   ]
  },
  {
   "cell_type": "code",
   "execution_count": 64,
   "metadata": {
    "collapsed": true
   },
   "outputs": [],
   "source": [
    "def get_columns(folder, path):\n",
    "    get=[]\n",
    "    \n",
    "    with open(folder+\"omsoftware.html\",'r') as fl:\n",
    "        text=fl.read()\n",
    "        print len(text)\n",
    "        tree=etree.HTML(text)\n",
    "    try:\n",
    "        script = tree.xpath('//script')[-1]\n",
    "        data = re.search(r\"__export\\('profileServerData',(.*?)\\n\", script.text)        \n",
    "        jsondata=data.group(1)[:-2]\n",
    "        \n",
    "#         print type(jsondata), len(jsondata)\n",
    "        json_dict = json.loads(jsondata)\n",
    "#         print type(json_dict)\n",
    "        flat = flatten_dict(json_dict, layers=10)\n",
    "    except:\n",
    "        print 'X'\n",
    "    return flat\n",
    "    "
   ]
  },
  {
   "cell_type": "code",
   "execution_count": 65,
   "metadata": {},
   "outputs": [
    {
     "name": "stdout",
     "output_type": "stream",
     "text": [
      "181405\n"
     ]
    }
   ],
   "source": [
    "l1 = get_columns(folder, path)"
   ]
  },
  {
   "cell_type": "code",
   "execution_count": 74,
   "metadata": {},
   "outputs": [],
   "source": [
    "n=0\n",
    "create='create table bossdata1 ('\n",
    "for i in l1.keys():\n",
    "    try:\n",
    "        i=i.split('.')[-1]\n",
    "    except:\n",
    "        pass\n",
    "    n+=1\n",
    "    i=i.replace('.','_')\n",
    "    i+='_'+str(n)\n",
    "    if i.find('userId')>=0:\n",
    "        create+= i +' VARCHAR(64), \\n'\n",
    "    else:\n",
    "        create+= i +' VARCHAR(128), \\n'\n",
    "create+='PRIMARY KEY (userId_7))'\n",
    "# print create"
   ]
  },
  {
   "cell_type": "code",
   "execution_count": 75,
   "metadata": {},
   "outputs": [
    {
     "name": "stdout",
     "output_type": "stream",
     "text": [
      "create table bossdata1 (reviews_1 VARCHAR(128), \n",
      "support_status_2 VARCHAR(128), \n",
      "facebook_connected_3 VARCHAR(128), \n",
      "examId_4 VARCHAR(128), \n",
      "portfolio_count_5 VARCHAR(128), \n",
      "tagline_6 VARCHAR(128), \n",
      "userId_7 VARCHAR(64), \n",
      "payment_verified_8 VARCHAR(128), \n",
      "avg_9 VARCHAR(128), \n",
      "mobile_tracking_10 VARCHAR(128), \n",
      "isSupportAgent_11 VARCHAR(128), \n",
      "hire_again_12 VARCHAR(128), \n",
      "jobsLimit_13 VARCHAR(128), \n",
      "rehire_rate_14 VARCHAR(128), \n",
      "email_15 VARCHAR(128), \n",
      "description_16 VARCHAR(128), \n",
      "flag_url_17 VARCHAR(128), \n",
      "scorePercentage_18 VARCHAR(128), \n",
      "display_name_19 VARCHAR(128), \n",
      "all_20 VARCHAR(128), \n",
      "force_verify_21 VARCHAR(128), \n",
      "rehire_rate_22 VARCHAR(128), \n",
      "avatar_23 VARCHAR(128), \n",
      "title_24 VARCHAR(128), \n",
      "examId_25 VARCHAR(128), \n",
      "avatar_large_26 VARCHAR(128), \n",
      "id_27 VARCHAR(128), \n",
      "qualifications_28 VARCHAR(128), \n",
      "id_29 VARCHAR(128), \n",
      "spam_profile_30 VARCHAR(128), \n",
      "registration_date_human_31 VARCHAR(128), \n",
      "deposit_made_32 VARCHAR(128), \n",
      "user_id_33 VARCHAR(128), \n",
      "responsiveness_34 VARCHAR(128), \n",
      "width_35 VARCHAR(128), \n",
      "quality_36 VARCHAR(128), \n",
      "count_other_37 VARCHAR(128), \n",
      "reviews_38 VARCHAR(128), \n",
      "description_39 VARCHAR(128), \n",
      "on_budget_40 VARCHAR(128), \n",
      "avg_41 VARCHAR(128), \n",
      "company_42 VARCHAR(128), \n",
      "exchange_rate_43 VARCHAR(128), \n",
      "on_time_44 VARCHAR(128), \n",
      "completion_rate_45 VARCHAR(128), \n",
      "examEnabled_46 VARCHAR(128), \n",
      "avg_47 VARCHAR(128), \n",
      "incomplete_reviews_48 VARCHAR(128), \n",
      "complete_49 VARCHAR(128), \n",
      "skills_50 VARCHAR(128), \n",
      "professionalism_51 VARCHAR(128), \n",
      "percentile_52 VARCHAR(128), \n",
      "founder_id_53 VARCHAR(128), \n",
      "status_54 VARCHAR(128), \n",
      "expertise_55 VARCHAR(128), \n",
      "closed_56 VARCHAR(128), \n",
      "incomplete_reviews_57 VARCHAR(128), \n",
      "examId_58 VARCHAR(128), \n",
      "examEnabled_59 VARCHAR(128), \n",
      "on_time_60 VARCHAR(128), \n",
      "avg_61 VARCHAR(128), \n",
      "earnings_score_62 VARCHAR(128), \n",
      "earnings_63 VARCHAR(128), \n",
      "description_64 VARCHAR(128), \n",
      "identity_verified_65 VARCHAR(128), \n",
      "timeOffset_66 VARCHAR(128), \n",
      "publications_67 VARCHAR(128), \n",
      "isLoggedIn_68 VARCHAR(128), \n",
      "examId_69 VARCHAR(128), \n",
      "first_name_70 VARCHAR(128), \n",
      "percentile_71 VARCHAR(128), \n",
      "examId_72 VARCHAR(128), \n",
      "certifications_73 VARCHAR(128), \n",
      "user_id_74 VARCHAR(128), \n",
      "registration_date_75 VARCHAR(128), \n",
      "examEnabled_76 VARCHAR(128), \n",
      "quality_77 VARCHAR(128), \n",
      "country_78 VARCHAR(128), \n",
      "city_79 VARCHAR(128), \n",
      "scorePercentage_80 VARCHAR(128), \n",
      "offset_81 VARCHAR(128), \n",
      "hourlyRate_82 VARCHAR(128), \n",
      "hireMeCurrencyId_83 VARCHAR(128), \n",
      "communication_84 VARCHAR(128), \n",
      "positive_85 VARCHAR(128), \n",
      "scorePercentage_86 VARCHAR(128), \n",
      "avatar_cdn_87 VARCHAR(128), \n",
      "percentile_88 VARCHAR(128), \n",
      "rating_score_89 VARCHAR(128), \n",
      "jobs_90 VARCHAR(128), \n",
      "hire_again_91 VARCHAR(128), \n",
      "id_92 VARCHAR(128), \n",
      "name_93 VARCHAR(128), \n",
      "search_languages_94 VARCHAR(128), \n",
      "percentile_95 VARCHAR(128), \n",
      "past_images_96 VARCHAR(128), \n",
      "preferred_freelancer_97 VARCHAR(128), \n",
      "avatar_large_cdn_98 VARCHAR(128), \n",
      "account_balances_99 VARCHAR(128), \n",
      "on_budget_100 VARCHAR(128), \n",
      "public_name_101 VARCHAR(128), \n",
      "communication_102 VARCHAR(128), \n",
      "name_103 VARCHAR(128), \n",
      "title_104 VARCHAR(128), \n",
      "avg_105 VARCHAR(128), \n",
      "description_106 VARCHAR(128), \n",
      "examEnabled_107 VARCHAR(128), \n",
      "examId_108 VARCHAR(128), \n",
      "name_109 VARCHAR(128), \n",
      "complete_110 VARCHAR(128), \n",
      "country_111 VARCHAR(128), \n",
      "avg_112 VARCHAR(128), \n",
      "full_address_113 VARCHAR(128), \n",
      "complete_114 VARCHAR(128), \n",
      "completion_rate_115 VARCHAR(128), \n",
      "examId_116 VARCHAR(128), \n",
      "username_117 VARCHAR(128), \n",
      "true_location_118 VARCHAR(128), \n",
      "title_119 VARCHAR(128), \n",
      "id_120 VARCHAR(128), \n",
      "id_121 VARCHAR(128), \n",
      "isOwner_122 VARCHAR(128), \n",
      "expertise_123 VARCHAR(128), \n",
      "experience_124 VARCHAR(128), \n",
      "scorePercentage_125 VARCHAR(128), \n",
      "is_active_126 VARCHAR(128), \n",
      "id_127 VARCHAR(128), \n",
      "flag_class_128 VARCHAR(128), \n",
      "url_129 VARCHAR(128), \n",
      "title_130 VARCHAR(128), \n",
      "incomplete_reviews_131 VARCHAR(128), \n",
      "professionalism_132 VARCHAR(128), \n",
      "scorePercentage_133 VARCHAR(128), \n",
      "description_134 VARCHAR(128), \n",
      "earnings_score_pc_135 VARCHAR(128), \n",
      "timezone_136 VARCHAR(128), \n",
      "id_137 VARCHAR(128), \n",
      "chosen_role_138 VARCHAR(128), \n",
      "quality_139 VARCHAR(128), \n",
      "id_140 VARCHAR(128), \n",
      "overall_141 VARCHAR(128), \n",
      "email_verified_142 VARCHAR(128), \n",
      "id_143 VARCHAR(128), \n",
      "name_144 VARCHAR(128), \n",
      "vicinity_145 VARCHAR(128), \n",
      "name_146 VARCHAR(128), \n",
      "percentile_147 VARCHAR(128), \n",
      "on_budget_148 VARCHAR(128), \n",
      "rehire_rate_149 VARCHAR(128), \n",
      "membership_package_150 VARCHAR(128), \n",
      "latitude_151 VARCHAR(128), \n",
      "title_152 VARCHAR(128), \n",
      "flag_url_cdn_153 VARCHAR(128), \n",
      "test_user_154 VARCHAR(128), \n",
      "on_budget_155 VARCHAR(128), \n",
      "communication_156 VARCHAR(128), \n",
      "examEnabled_157 VARCHAR(128), \n",
      "project_stats_158 VARCHAR(128), \n",
      "primary_language_159 VARCHAR(128), \n",
      "corporate_users_160 VARCHAR(128), \n",
      "education_161 VARCHAR(128), \n",
      "highres_flag_url_162 VARCHAR(128), \n",
      "hire_again_163 VARCHAR(128), \n",
      "all_164 VARCHAR(128), \n",
      "overall_165 VARCHAR(128), \n",
      "role_166 VARCHAR(128), \n",
      "height_167 VARCHAR(128), \n",
      "earnings_168 VARCHAR(128), \n",
      "limited_account_169 VARCHAR(128), \n",
      "examEnabled_170 VARCHAR(128), \n",
      "description_171 VARCHAR(128), \n",
      "all_172 VARCHAR(128), \n",
      "name_173 VARCHAR(128), \n",
      "username_174 VARCHAR(128), \n",
      "description_175 VARCHAR(128), \n",
      "longitude_176 VARCHAR(128), \n",
      "professionalism_177 VARCHAR(128), \n",
      "viewer_178 VARCHAR(128), \n",
      "positive_179 VARCHAR(128), \n",
      "code_180 VARCHAR(128), \n",
      "scorePercentage_181 VARCHAR(128), \n",
      "rehire_rate_182 VARCHAR(128), \n",
      "title_183 VARCHAR(128), \n",
      "title_184 VARCHAR(128), \n",
      "earnings_score_185 VARCHAR(128), \n",
      "earnings_186 VARCHAR(128), \n",
      "id_187 VARCHAR(128), \n",
      "endorsements_188 VARCHAR(128), \n",
      "completion_rate_189 VARCHAR(128), \n",
      "description_190 VARCHAR(128), \n",
      "avg_191 VARCHAR(128), \n",
      "profile_description_192 VARCHAR(128), \n",
      "hourly_rate_193 VARCHAR(128), \n",
      "show_194 VARCHAR(128), \n",
      "id_195 VARCHAR(128), \n",
      "name_196 VARCHAR(128), \n",
      "address_197 VARCHAR(128), \n",
      "description_198 VARCHAR(128), \n",
      "recommendations_199 VARCHAR(128), \n",
      "suspended_200 VARCHAR(128), \n",
      "expertise_201 VARCHAR(128), \n",
      "last_name_202 VARCHAR(128), \n",
      "canViewEmployer_203 VARCHAR(128), \n",
      "percentile_204 VARCHAR(128), \n",
      "is_local_205 VARCHAR(128), \n",
      "examId_206 VARCHAR(128), \n",
      "id_207 VARCHAR(128), \n",
      "sign_208 VARCHAR(128), \n",
      "reviews_209 VARCHAR(128), \n",
      "examEnabled_210 VARCHAR(128), \n",
      "percentile_211 VARCHAR(128), \n",
      "percentile_212 VARCHAR(128), \n",
      "employer_reputation_213 VARCHAR(128), \n",
      "completion_rate_214 VARCHAR(128), \n",
      "reviews_215 VARCHAR(128), \n",
      "role_216 VARCHAR(128), \n",
      "name_217 VARCHAR(128), \n",
      "name_218 VARCHAR(128), \n",
      "profile_complete_219 VARCHAR(128), \n",
      "incomplete_220 VARCHAR(128), \n",
      "overall_221 VARCHAR(128), \n",
      "abTests_222 VARCHAR(128), \n",
      "incomplete_223 VARCHAR(128), \n",
      "username_sentence_224 VARCHAR(128), \n",
      "phone_verified_225 VARCHAR(128), \n",
      "title_226 VARCHAR(128), \n",
      "highres_flag_url_cdn_227 VARCHAR(128), \n",
      "scorePercentage_228 VARCHAR(128), \n",
      "positive_229 VARCHAR(128), \n",
      "job_counts_230 VARCHAR(128), \n",
      "avg_231 VARCHAR(128), \n",
      "incomplete_232 VARCHAR(128), \n",
      "code_233 VARCHAR(128), \n",
      "scorePercentage_234 VARCHAR(128), \n",
      "on_time_235 VARCHAR(128), \n",
      "on_time_236 VARCHAR(128), \n",
      "administrative_area_237 VARCHAR(128), \n",
      "badges_238 VARCHAR(128), \n",
      "name_239 VARCHAR(128), \n",
      "examEnabled_240 VARCHAR(128), \n",
      "PRIMARY KEY (userId_7))\n"
     ]
    }
   ],
   "source": [
    "print create"
   ]
  },
  {
   "cell_type": "code",
   "execution_count": 76,
   "metadata": {},
   "outputs": [
    {
     "name": "stdout",
     "output_type": "stream",
     "text": [
      "(1118, 'Row size too large. The maximum row size for the used table type, not counting BLOBs, is 65535. This includes storage overhead, check the manual. You have to change some columns to TEXT or BLOBs')\n"
     ]
    }
   ],
   "source": [
    "try:\n",
    "    conn.execute(create)\n",
    "    db.commit()\n",
    "    print 'create success'\n",
    "except Exception as e:\n",
    "    print e"
   ]
  },
  {
   "cell_type": "code",
   "execution_count": 72,
   "metadata": {
    "collapsed": true
   },
   "outputs": [],
   "source": [
    "def get_single(folder, path):\n",
    "    get=[]\n",
    "    \n",
    "    with open(folder+\"omsoftware.html\",'r') as fl:\n",
    "        text=fl.read()\n",
    "        print len(text)\n",
    "        tree=etree.HTML(text)\n",
    "    try:\n",
    "        script = tree.xpath('//script')[-1]\n",
    "        data = re.search(r\"__export\\('profileServerData',(.*?)\\n\", script.text)        \n",
    "        jsondata=data.group(1)[:-2]\n",
    "        \n",
    "#         print type(jsondata), len(jsondata)\n",
    "        json_dict = json.loads(jsondata)\n",
    "#         print type(json_dict)\n",
    "        flat = flatten_dict(json_dict, layers=10)\n",
    "#         print type(flat),len(flat)\n",
    "        for i in flat:\n",
    "            \n",
    "#             print type(str(i))\n",
    "#             print i\n",
    "#             print str(l1[i])\n",
    "            get.append(str(flat[i]).replace(\"u'\",'\"').replace(\"'\",'\"'))\n",
    "    \n",
    "    except Exception as e:\n",
    "        print e\n",
    "    return get\n",
    "    "
   ]
  },
  {
   "cell_type": "code",
   "execution_count": 73,
   "metadata": {},
   "outputs": [
    {
     "name": "stdout",
     "output_type": "stream",
     "text": [
      "181405\n"
     ]
    },
    {
     "data": {
      "text/plain": [
       "'\\'250\\', \\'None\\', \\'False\\', \\'32\\', \\'None\\', \\'Web & Mobile Development Company\\', \\'70891\\', \\'False\\', \\'81\\', \\'None\\', \\'False\\', \\'5\\', \\'0\\', \\'0.144694533762\\', \\'None\\', \\'HTML Level 1 (78%, 90th percentile)\\', \\'/img/flags/png/in.png\\', \\'90\\', \\'OMSOFTWARE  PVT LTD\\', \\'472\\', \\'None\\', \\'0\\', \\'/ppic/104226104/logo/70891/profile_logo_70891.jpg\\', \\'WordPress\\', \\'81\\', \\'/ppic/104226102/logo/70891/SoIM2/profile_logo_.jpg\\', \\'107\\', \\'None\\', \\'143\\', \\'None\\', \\'May, 2005\\', \\'True\\', \\'70891\\', \\'None\\', \\'1920\\', \\'5\\', \\'273\\', \\'10\\', \\'SEO Level 1 (98%, 99th percentile)\\', \\'1\\', \\'54\\', \\'OMSOFTWARE  INTERNET SOLUTIONS PVT LTD\\', \\'1\\', \\'0.763872426396\\', \\'1\\', \\'1\\', \\'44\\', \\'18\\', \\'326\\', \\'[{\"usages\": 174, \"seo_url\": \"php\", \"islocal\": \"0\", \"id\": 3, \"certified\": False, \"name\": \"PHP\"}, {\"usages\": 164, \"seo_url\": \"website_design\", \"islocal\": \"0\", \"id\": 17, \"certified\": False, \"name\": \"Website Design\"}, {\"usages\": 102, \"seo_url\": \"html\", \"islocal\": \"0\", \"id\": 335, \"certified\": False, \"name\": \"HTML\"}, {\"usages\": 91, \"seo_url\": \"graphic_design\", \"islocal\": \"0\", \"id\": 20, \"certified\": False, \"name\": \"Graphic Design\"}, {\"usages\": 52, \"seo_url\": \"mysql\", \"islocal\": \"0\", \"id\": 305, \"certified\": False, \"name\": \"MySQL\"}, {\"usages\": 51, \"seo_url\": \"seo\", \"islocal\": \"0\", \"id\": 38, \"certified\": False, \"name\": \"SEO\"}, {\"usages\": 26, \"seo_url\": \"dot_net\", \"islocal\": \"0\", \"id\": 15, \"certified\": False, \"name\": \".NET\"}, {\"usages\": 24, \"seo_url\": \"asp\", \"islocal\": \"0\", \"id\": 5, \"certified\": False, \"name\": \"ASP\"}, {\"usages\": 21, \"seo_url\": \"javascript\", \"islocal\": \"0\", \"id\": 9, \"certified\": False, \"name\": \"Javascript\"}, {\"usages\": 19, \"seo_url\": \"ecommerce\", \"islocal\": \"0\", \"id\": 137, \"certified\": False, \"name\": \"eCommerce\"}, {\"usages\": 17, \"seo_url\": \"internet_marketing\", \"islocal\": \"0\", \"id\": 25, \"certified\": False, \"name\": \"Internet Marketing\"}, {\"usages\": 17, \"seo_url\": \"css\", \"islocal\": \"0\", \"id\": 77, \"certified\": False, \"name\": \"CSS\"}, {\"usages\": 16, \"seo_url\": \"link_building\", \"islocal\": \"0\", \"id\": 40, \"certified\": False, \"name\": \"Link Building\"}, {\"usages\": 16, \"seo_url\": \"shopping_carts\", \"islocal\": \"0\", \"id\": 56, \"certified\": False, \"name\": \"Shopping Carts\"}, {\"usages\": 14, \"seo_url\": \"software_architecture\", \"islocal\": \"0\", \"id\": 116, \"certified\": False, \"name\": \"Software Architecture\"}, {\"usages\": 10, \"seo_url\": \"wordpress\", \"islocal\": \"0\", \"id\": 69, \"certified\": True, \"name\": \"WordPress\"}, {\"usages\": 10, \"seo_url\": \"html_five\", \"islocal\": \"0\", \"id\": 323, \"certified\": False, \"name\": \"HTML5\"}, {\"usages\": 9, \"seo_url\": \"xml\", \"islocal\": \"0\", \"id\": 10, \"certified\": False, \"name\": \"XML\"}, {\"usages\": 9, \"seo_url\": \"mobile_phone\", \"islocal\": \"0\", \"id\": 44, \"certified\": False, \"name\": \"Mobile App Development\"}, {\"usages\": 9, \"seo_url\": \"iphone\", \"islocal\": \"0\", \"id\": 58, \"certified\": True, \"name\": \"iPhone\"}, {\"usages\": 9, \"seo_url\": \"sql\", \"islocal\": \"0\", \"id\": 68, \"certified\": False, \"name\": \"SQL\"}, {\"usages\": 8, \"seo_url\": \"android\", \"islocal\": \"0\", \"id\": 59, \"certified\": False, \"name\": \"Android\"}, {\"usages\": 7, \"seo_url\": \"java\", \"islocal\": \"0\", \"id\": 7, \"certified\": False, \"name\": \"Java\"}, {\"usages\": 7, \"seo_url\": \"logo_design\", \"islocal\": \"0\", \"id\": 32, \"certified\": False, \"name\": \"Logo Design\"}, {\"usages\": 7, \"seo_url\": \"jquery_prototype\", \"islocal\": \"0\", \"id\": 343, \"certified\": False, \"name\": \"jQuery / Prototype\"}, {\"usages\": 6, \"seo_url\": \"c_programming\", \"islocal\": \"0\", \"id\": 6, \"certified\": False, \"name\": \"C Programming\"}, {\"usages\": 6, \"seo_url\": \"project_management\", \"islocal\": \"0\", \"id\": 37, \"certified\": False, \"name\": \"Project Management\"}, {\"usages\": 6, \"seo_url\": \"social_networking\", \"islocal\": \"0\", \"id\": 65, \"certified\": False, \"name\": \"Social Networking\"}, {\"usages\": 6, \"seo_url\": \"marketing\", \"islocal\": \"0\", \"id\": 82, \"certified\": False, \"name\": \"Marketing\"}, {\"usages\": 4, \"seo_url\": \"engineering\", \"islocal\": \"0\", \"id\": 42, \"certified\": False, \"name\": \"Engineering\"}, {\"usages\": 3, \"seo_url\": \"ipad\", \"islocal\": \"0\", \"id\": 307, \"certified\": False, \"name\": \"iPad\"}, {\"usages\": 2, \"seo_url\": \"ruby_on_rails\", \"islocal\": \"0\", \"id\": 50, \"certified\": False, \"name\": \"Ruby on Rails\"}, {\"usages\": 2, \"seo_url\": \"drupal\", \"islocal\": \"0\", \"id\": 98, \"certified\": False, \"name\": \"Drupal\"}, {\"usages\": 2, \"seo_url\": \"c_sharp_programming\", \"islocal\": \"0\", \"id\": 106, \"certified\": False, \"name\": \"C# Programming\"}, {\"usages\": 2, \"seo_url\": \"website_testing\", \"islocal\": \"0\", \"id\": 219, \"certified\": False, \"name\": \"Website Testing\"}, {\"usages\": 2, \"seo_url\": \"anything_goes\", \"islocal\": \"0\", \"id\": 331, \"certified\": False, \"name\": \"Anything Goes\"}, {\"usages\": 2, \"seo_url\": \"laravel\", \"islocal\": None, \"id\": 669, \"certified\": False, \"name\": \"Laravel\"}, {\"usages\": 1, \"seo_url\": \"wireless\", \"islocal\": \"0\", \"id\": 41, \"certified\": False, \"name\": \"Wireless\"}, {\"usages\": 1, \"seo_url\": \"joomla\", \"islocal\": \"0\", \"id\": 54, \"certified\": False, \"name\": \"Joomla\"}, {\"usages\": 1, \"seo_url\": \"testing_qa\", \"islocal\": \"0\", \"id\": 67, \"certified\": False, \"name\": \"Testing / QA\"}, {\"usages\": 1, \"seo_url\": \"magento\", \"islocal\": \"0\", \"id\": 90, \"certified\": False, \"name\": \"Magento\"}, {\"usages\": 1, \"seo_url\": \"web_scraping\", \"islocal\": \"0\", \"id\": 95, \"certified\": False, \"name\": \"Web Scraping\"}, {\"usages\": 1, \"seo_url\": \"django\", \"islocal\": \"0\", \"id\": 113, \"certified\": False, \"name\": \"Django\"}, {\"usages\": 1, \"seo_url\": \"objective_c\", \"islocal\": \"0\", \"id\": 143, \"certified\": False, \"name\": \"Objective C\"}, {\"usages\": 1, \"seo_url\": \"crm\", \"islocal\": \"0\", \"id\": 147, \"certified\": False, \"name\": \"CRM\"}, {\"usages\": 1, \"seo_url\": \"twitter_bootstrap\", \"islocal\": None, \"id\": 602, \"certified\": False, \"name\": \"Bootstrap\"}, {\"usages\": 1, \"seo_url\": \"app_developer\", \"islocal\": None, \"id\": 951, \"certified\": False, \"name\": \"App Developer\"}, {\"usages\": 0, \"seo_url\": \"telemarketing\", \"islocal\": \"0\", \"id\": 49, \"certified\": False, \"name\": \"Telemarketing\"}, {\"usages\": 0, \"seo_url\": \"sales\", \"islocal\": \"0\", \"id\": 64, \"certified\": False, \"name\": \"Sales\"}, {\"usages\": 0, \"seo_url\": \"customer_support\", \"islocal\": \"0\", \"id\": 79, \"certified\": False, \"name\": \"Customer Support\"}, {\"usages\": 0, \"seo_url\": \"freelance_developer\", \"islocal\": \"0\", \"id\": 105, \"certified\": False, \"name\": \"Freelance\"}, {\"usages\": 0, \"seo_url\": \"virtual_assistant\", \"islocal\": \"0\", \"id\": 129, \"certified\": False, \"name\": \"Virtual Assistant\"}, {\"usages\": 0, \"seo_url\": \"human_resources\", \"islocal\": \"0\", \"id\": 145, \"certified\": False, \"name\": \"Human Resources\"}, {\"usages\": 0, \"seo_url\": \"sharepoint\", \"islocal\": \"0\", \"id\": 146, \"certified\": False, \"name\": \"Sharepoint\"}, {\"usages\": 0, \"seo_url\": \"business_plans\", \"islocal\": \"0\", \"id\": 149, \"certified\": False, \"name\": \"Business Plans\"}, {\"usages\": 0, \"seo_url\": \"mlm\", \"islocal\": \"0\", \"id\": 151, \"certified\": False, \"name\": \"MLM\"}, {\"usages\": 0, \"seo_url\": \"articles\", \"islocal\": \"0\", \"id\": 174, \"certified\": False, \"name\": \"Article Writing\"}, {\"usages\": 0, \"seo_url\": \"management\", \"islocal\": \"0\", \"id\": 178, \"certified\": False, \"name\": \"Management\"}, {\"usages\": 0, \"seo_url\": \"contracts\", \"islocal\": \"0\", \"id\": 182, \"certified\": False, \"name\": \"Contracts\"}, {\"usages\": 0, \"seo_url\": \"research_writing\", \"islocal\": \"0\", \"id\": 194, \"certified\": False, \"name\": \"Research Writing\"}, {\"usages\": 0, \"seo_url\": \"medical_writing\", \"islocal\": \"0\", \"id\": 195, \"certified\": False, \"name\": \"Medical Writing\"}, {\"usages\": 0, \"seo_url\": \"supplier_sourcing\", \"islocal\": \"0\", \"id\": 211, \"certified\": False, \"name\": \"Supplier Sourcing\"}, {\"usages\": 0, \"seo_url\": \"phone_support\", \"islocal\": \"0\", \"id\": 217, \"certified\": False, \"name\": \"Phone Support\"}, {\"usages\": 0, \"seo_url\": \"bpo\", \"islocal\": \"0\", \"id\": 257, \"certified\": False, \"name\": \"BPO\"}, {\"usages\": 0, \"seo_url\": \"ERP\", \"islocal\": \"0\", \"id\": 272, \"certified\": False, \"name\": \"ERP\"}, {\"usages\": 0, \"seo_url\": \"inventory_management\", \"islocal\": \"0\", \"id\": 289, \"certified\": False, \"name\": \"Inventory Management\"}, {\"usages\": 0, \"seo_url\": \"health\", \"islocal\": \"0\", \"id\": 300, \"certified\": False, \"name\": \"Health\"}, {\"usages\": 0, \"seo_url\": \"prestashop\", \"islocal\": \"0\", \"id\": 304, \"certified\": False, \"name\": \"Prestashop\"}, {\"usages\": 0, \"seo_url\": \"salesforce_com\", \"islocal\": \"0\", \"id\": 318, \"certified\": False, \"name\": \"Salesforce.com\"}, {\"usages\": 0, \"seo_url\": \"cplusplus_programming\", \"islocal\": \"0\", \"id\": 320, \"certified\": False, \"name\": \"C++ Programming\"}, {\"usages\": 0, \"seo_url\": \"geolocation\", \"islocal\": \"0\", \"id\": 321, \"certified\": False, \"name\": \"Geolocation\"}, {\"usages\": 0, \"seo_url\": \"nutrition\", \"islocal\": \"0\", \"id\": 322, \"certified\": False, \"name\": \"Nutrition\"}, {\"usages\": 0, \"seo_url\": \"microsoft_dynamics\", \"islocal\": None, \"id\": 397, \"certified\": False, \"name\": \"Dynamics\"}, {\"usages\": 0, \"seo_url\": \"fundraising\", \"islocal\": None, \"id\": 399, \"certified\": False, \"name\": \"Fundraising\"}, {\"usages\": 0, \"seo_url\": \"smarty_php\", \"islocal\": None, \"id\": 400, \"certified\": False, \"name\": \"Smarty PHP\"}, {\"usages\": 0, \"seo_url\": \"elearning\", \"islocal\": None, \"id\": 406, \"certified\": False, \"name\": \"eLearning\"}, {\"usages\": 0, \"seo_url\": \"optical_character_recognition\", \"islocal\": None, \"id\": 420, \"certified\": False, \"name\": \"OCR\"}, {\"usages\": 0, \"seo_url\": \"viral_marketing\", \"islocal\": None, \"id\": 437, \"certified\": False, \"name\": \"Viral Marketing\"}, {\"usages\": 0, \"seo_url\": \"real_estate\", \"islocal\": None, \"id\": 443, \"certified\": False, \"name\": \"Real Estate\"}, {\"usages\": 0, \"seo_url\": \"affiliate_marketing\", \"islocal\": None, \"id\": 449, \"certified\": False, \"name\": \"Affiliate Marketing\"}, {\"usages\": 0, \"seo_url\": \"fashion_modeling\", \"islocal\": None, \"id\": 450, \"certified\": False, \"name\": \"Fashion Modeling\"}, {\"usages\": 0, \"seo_url\": \"cooking_recipes\", \"islocal\": None, \"id\": 451, \"certified\": False, \"name\": \"Cooking & Recipes\"}, {\"usages\": 0, \"seo_url\": \"website_management\", \"islocal\": None, \"id\": 454, \"certified\": False, \"name\": \"Website Management\"}, {\"usages\": 0, \"seo_url\": \"telecommunications_engineering\", \"islocal\": None, \"id\": 471, \"certified\": False, \"name\": \"Telecommunications Engineering\"}, {\"usages\": 0, \"seo_url\": \"nodejs\", \"islocal\": None, \"id\": 500, \"certified\": False, \"name\": \"node.js\"}, {\"usages\": 0, \"seo_url\": \"shopify_site\", \"islocal\": None, \"id\": 502, \"certified\": False, \"name\": \"Shopify\"}, {\"usages\": 0, \"seo_url\": \"simplified_chinese_china\", \"islocal\": None, \"id\": 547, \"certified\": False, \"name\": \"Simplified Chinese (China)\"}, {\"usages\": 0, \"seo_url\": \"open_cart\", \"islocal\": None, \"id\": 565, \"certified\": False, \"name\": \"Open Cart\"}, {\"usages\": 0, \"seo_url\": \"phonegap\", \"islocal\": None, \"id\": 577, \"certified\": False, \"name\": \"PhoneGap\"}, {\"usages\": 0, \"seo_url\": \"umbraco\", \"islocal\": None, \"id\": 581, \"certified\": False, \"name\": \"Umbraco\"}, {\"usages\": 0, \"seo_url\": \"life_coaching\", \"islocal\": None, \"id\": 593, \"certified\": False, \"name\": \"Life Coaching\"}, {\"usages\": 0, \"seo_url\": \"software_development\", \"islocal\": None, \"id\": 613, \"certified\": False, \"name\": \"Software Development\"}, {\"usages\": 0, \"seo_url\": \"social_media_marketing\", \"islocal\": \"0\", \"id\": 663, \"certified\": False, \"name\": \"Social Media Marketing\"}, {\"usages\": 0, \"seo_url\": \"risk_management\", \"islocal\": None, \"id\": 665, \"certified\": False, \"name\": \"Risk Management\"}, {\"usages\": 0, \"seo_url\": \"database_programming\", \"islocal\": None, \"id\": 673, \"certified\": False, \"name\": \"Database Programming\"}, {\"usages\": 0, \"seo_url\": \"web_services\", \"islocal\": None, \"id\": 687, \"certified\": False, \"name\": \"Web Services\"}, {\"usages\": 0, \"seo_url\": \"asp_net\", \"islocal\": None, \"id\": 690, \"certified\": False, \"name\": \"ASP.NET\"}, {\"usages\": 0, \"seo_url\": \"microsoft_sql_server\", \"islocal\": None, \"id\": 695, \"certified\": False, \"name\": \"Microsoft SQL Server\"}, {\"usages\": 0, \"seo_url\": \"angular_js\", \"islocal\": None, \"id\": 704, \"certified\": False, \"name\": \"Angular.js\"}, {\"usages\": 0, \"seo_url\": \"database_development\", \"islocal\": None, \"id\": 709, \"certified\": False, \"name\": \"Database Development\"}, {\"usages\": 0, \"seo_url\": \"user_experience_design\", \"islocal\": None, \"id\": 710, \"certified\": False, \"name\": \"User Experience Design\"}, {\"usages\": 0, \"seo_url\": \"mobile_app_testing\", \"islocal\": None, \"id\": 716, \"certified\": False, \"name\": \"Mobile App Testing\"}, {\"usages\": 0, \"seo_url\": \"swift\", \"islocal\": None, \"id\": 727, \"certified\": False, \"name\": \"Swift\"}, {\"usages\": 0, \"seo_url\": \"woocommerce\", \"islocal\": None, \"id\": 788, \"certified\": False, \"name\": \"WooCommerce\"}, {\"usages\": 0, \"seo_url\": \"ionic_framework\", \"islocal\": None, \"id\": 879, \"certified\": False, \"name\": \"Ionic Framework\"}, {\"usages\": 0, \"seo_url\": \"app_designer\", \"islocal\": None, \"id\": 950, \"certified\": False, \"name\": \"App Designer\"}, {\"usages\": 0, \"seo_url\": \"coding\", \"islocal\": None, \"id\": 954, \"certified\": False, \"name\": \"Coding\"}, {\"usages\": 0, \"seo_url\": \"design\", \"islocal\": None, \"id\": 961, \"certified\": False, \"name\": \"Design\"}, {\"usages\": 0, \"seo_url\": \"programming\", \"islocal\": None, \"id\": 962, \"certified\": False, \"name\": \"Programming\"}]\\', \\'5\\', \\'90\\', \\'24324137\\', \\'1\\', \\'5\\', \\'False\\', \\'3\\', \\'8\\', \\'1\\', \\'0.783104223874\\', \\'53\\', \\'9.284\\', \\'None\\', \\'iPhone Development 1 (80%, 91st percentile)\\', \\'True\\', \\'330\\', \\'[{\"publisher\": \"\", \"title\": \"OM Software\", \"summary\": \"\", \"users_id\": \"70891\", \"authors\": None, \"date\": None, \"id\": \"2232\"}]\\', \\'False\\', \\'529\\', \\'None\\', \\'41\\', \\'4\\', \\'[{\"award_date\": \"2011\", \"descr\": \"\\\\\\\\n\\\\\\\\n\", \"certificate\": \"North India\\\\\\\\\"s leading service organizations and professionals in the category of \"Best Web Design & Development Services\"\", \"organisation\": \"\", \"organization\": \"\", \"id\": \"56439\"}, {\"award_date\": \"2014\", \"descr\": \"ISO 9001:2008 Certified Web Development Company\", \"certificate\": \"ISO Certification\", \"organisation\": \"\", \"organization\": \"ISO 9001:2008\", \"id\": \"459024\"}, {\"award_date\": \"2014\", \"descr\": \"Certified by Crisil Rating Policy\", \"certificate\": \"CRISIL SE 3B\", \"organisation\": \"\", \"organization\": \"Crisil Rating Company\", \"id\": \"459025\"}, {\"award_date\": \"2014\", \"descr\": \"\", \"certificate\": \"Enterprenuer of the Month May 2014\", \"organisation\": \"\", \"organization\": \"Silicon India\", \"id\": \"459026\"}, {\"award_date\": \"2014\", \"descr\": \"\", \"certificate\": \"NASSCOM Feature Member\", \"organisation\": \"\", \"organization\": \"NASSCOM\", \"id\": \"459027\"}]\\', \\'0\\', \\'1117451649\\', \\'1\\', \\'5\\', \\'IN\\', \\'Bhopal\\', \\'90\\', \\'5.5\\', \\'20\\', \\'1\\', \\'5\\', \\'0\\', \\'85\\', \\'//cdn5.f-cdn.com/ppic/104226104/logo/70891/profile_logo_70891.jpg\\', \\'99\\', \\'4.8\\', \\'None\\', \\'5\\', \\'1\\', \\'iPhone_Development_1\\', \\'None\\', \\'98\\', \\'None\\', \\'False\\', \\'//cdn6.f-cdn.com/ppic/104226102/logo/70891/SoIM2/profile_logo_.jpg\\', \\'None\\', \\'0.959786818926\\', \\'OMSOFTWARE  PVT LTD\\', \\'5\\', \\'numeracy_1\\', \\'Android 1\\', \\'62\\', \\'PHP Level 1 (85%, 96th percentile)\\', \\'1\\', \\'38\\', \\'us_eng_2\\', \\'1\\', \\'US\\', \\'39\\', \\'None\\', \\'7\\', \\'0.7\\', \\'15\\', \\'omsoftware\\', \\'None\\', \\'HTML Level 1\\', \\'690\\', \\'76082\\', \\'False\\', \\'5\\', \\'[{\"year_interval\": \"-2004\", \"month_interval\": \"-24048\", \"description\": \"\", \"end_date\": \"0000-00-00\", \"title\": \"RajKamal\", \"company\": \"OM SOFTWARE\", \"start_date\": \"2004-01-01\", \"users_id\": \"70891\", \"start_date_formatted\": \"Jan 2004\", \"id\": \"16829\", \"end_date_formatted\": None}]\\', \\'78\\', \\'None\\', \\'258\\', \\'india\\', \\'//cdn2.f-cdn.com/files/download/49379989/bc76c3.jpg\\', \\'Numeracy 1\\', \\'0\\', \\'4.81861395326\\', \\'98\\', \\'US English Level 2 (80%, 41st percentile)\\', \\'92.84\\', \\'Asia/Calcutta\\', \\'119\\', \\'1\\', \\'4.74718687935\\', \\'164\\', \\'5\\', \\'True\\', \\'101\\', \\'php_1\\', \\'None\\', \\'WordPress\\', \\'69\\', \\'1\\', \\'14%\\', \\'None\\', \\'None\\', \\'PHP Level 1\\', \\'//cdn2.f-cdn.com/img/flags/png/in.png\\', \\'False\\', \\'96%\\', \\'4.7191017772\\', \\'1\\', \\'None\\', \\'en\\', \\'None\\', \\'[{\"activities\": None, \"start_year\": \"1999\", \"school_name\": \"Barkatullah Vishwavidyalaya\", \"user_id\": \"70891\", \"end_date\": \"2003-01-01 00:00:00\", \"degree\": \"B.Tech\", \"total_duration\": 4, \"end_year\": \"2003\", \"other_school\": None, \"school_id\": \"4327\", \"state_name\": None, \"visible\": True, \"popup\": False, \"other_school_name\": None, \"start_date\": \"1999-01-01 00:00:00\", \"country_code\": \"IN\", \"country_name\": \"India\", \"state_code\": None, \"id\": \"159909\", \"study_field\": None, \"additional\": None}]\\', \\'/img/flags/highres_png/india.png\\', \\'4.76546074422\\', \\'1\\', \\'4.76998289247\\', \\'0\\', \\'550\\', \\'None\\', \\'False\\', \\'1\\', \\'Numeracy 1 (90%, 69th percentile)\\', \\'10\\', \\'SEO_1\\', \\'omsoftware\\', \\'None\\', \\'None\\', \\'5\\', \\'0\\', \\'0.32386695584\\', \\'in\\', \\'95\\', \\'0.0526315789474\\', \\'SEO Level 1\\', \\'US English Level 2\\', \\'9.3\\', \\'None\\', \\'70891\\', \\'None\\', \\'69%\\', \\'WordPress (95%, 98th percentile)\\', \\'78\\', \\'Mobile & Web Application Development Company\\\\n\\\\nDelivering top-grade quality mobile app development solutions is something we at OM Software have been excelling in since the early launch of our business. We are well aware of the existing mobile app market trends and also keep a tab on the evolving trend of the industry, which is why when it comes to developing high-grade quality mobile apps, we consistently lead at the top position. As a result of our continued success in the business, we are being looked upon as one of the forerunners in the industry that offer comprehensive services and solutions for mobile apps.\\\\n\\\\nBasically, we are armed with seasoned web application development technicians who excel in developing A-one websites and web apps that perform best on all platforms.\\\\n\\\\nBeing a NASSCOM & ISO certified Company, we invariably strive our best to cater to your software needs from website development to mobile app development.\\', \\'20\\', \\'True\\', \\'182\\', \\'html_1\\', \\'None\\', \\'Android 1 (90%, 98th percentile)\\', \\'14\\', \\'None\\', \\'4.7995511083\\', \\'None\\', \\'False\\', \\'91\\', \\'None\\', \\'106\\', \\'217\\', \\'$\\', \\'1\\', \\'1\\', \\'96\\', \\'98\\', \\'None\\', \\'0.690677966102\\', \\'250\\', \\'0\\', \\'US Dollar\\', \\'android_1\\', \\'True\\', \\'146\\', \\'5\\', \\'[]\\', \\'0\\', \\'Omsoftware\\', \\'True\\', \\'iPhone Development 1\\', \\'//cdn3.f-cdn.com/img/flags/highres_png/india.png\\', \\'80\\', \\'0\\', \\'[{\"count\": 126, \"job\": {\"category\": {\"id\": 1, \"name\": \"Websites, IT & Software\"}, \"name\": \"PHP\", \"seo_url\": None, \"active_project_count\": None, \"local\": False, \"id\": 3, \"seo_info\": None}}, {\"count\": 112, \"job\": {\"category\": {\"id\": 3, \"name\": \"Design, Media & Architecture\"}, \"name\": \"Website Design\", \"seo_url\": None, \"active_project_count\": None, \"local\": False, \"id\": 17, \"seo_info\": None}}, {\"count\": 71, \"job\": {\"category\": {\"id\": 1, \"name\": \"Websites, IT & Software\"}, \"name\": \"HTML\", \"seo_url\": None, \"active_project_count\": None, \"local\": False, \"id\": 335, \"seo_info\": None}}, {\"count\": 66, \"job\": {\"category\": {\"id\": 3, \"name\": \"Design, Media & Architecture\"}, \"name\": \"Graphic Design\", \"seo_url\": None, \"active_project_count\": None, \"local\": False, \"id\": 20, \"seo_info\": None}}, {\"count\": 40, \"job\": {\"category\": {\"id\": 1, \"name\": \"Websites, IT & Software\"}, \"name\": \"MySQL\", \"seo_url\": None, \"active_project_count\": None, \"local\": False, \"id\": 305, \"seo_info\": None}}]\\', \\'52\\', \\'3\\', \\'USD\\', \\'80\\', \\'1\\', \\'78%\\', \\'None\\', \\'None\\', \\'India\\', \\'1\\''"
      ]
     },
     "execution_count": 73,
     "metadata": {},
     "output_type": "execute_result"
    }
   ],
   "source": [
    "one = str(get_single('emp_pages4/','omsoftware.html'))[1:-1]\n",
    "one"
   ]
  },
  {
   "cell_type": "code",
   "execution_count": 202,
   "metadata": {},
   "outputs": [
    {
     "data": {
      "text/plain": [
       "18632"
      ]
     },
     "execution_count": 202,
     "metadata": {},
     "output_type": "execute_result"
    }
   ],
   "source": [
    "len(one)"
   ]
  },
  {
   "cell_type": "code",
   "execution_count": 201,
   "metadata": {},
   "outputs": [
    {
     "name": "stdout",
     "output_type": "stream",
     "text": [
      "ORA-01704: string literal too long\n"
     ]
    }
   ],
   "source": [
    "try:\n",
    "    pre='insert into bossdata1 values ('\n",
    "    conn.execute(pre+one+')')\n",
    "    db.commit()\n",
    "    print 'create success'\n",
    "except Exception as e:\n",
    "    print e"
   ]
  },
  {
   "cell_type": "code",
   "execution_count": 197,
   "metadata": {},
   "outputs": [
    {
     "data": {
      "text/plain": [
       "['250',\n",
       " 'None',\n",
       " 'False',\n",
       " '32',\n",
       " 'None',\n",
       " 'Web & Mobile Development Company',\n",
       " '70891',\n",
       " 'False',\n",
       " '81',\n",
       " 'None',\n",
       " 'False',\n",
       " '5',\n",
       " '0',\n",
       " '0.144694533762',\n",
       " 'None',\n",
       " 'HTML Level 1 (78%, 90th percentile)',\n",
       " '/img/flags/png/in.png',\n",
       " '90',\n",
       " 'OMSOFTWARE  PVT LTD',\n",
       " '472',\n",
       " 'None',\n",
       " '0',\n",
       " '/ppic/104226104/logo/70891/profile_logo_70891.jpg',\n",
       " 'WordPress',\n",
       " '81',\n",
       " '/ppic/104226102/logo/70891/SoIM2/profile_logo_.jpg',\n",
       " '107',\n",
       " 'None',\n",
       " '143',\n",
       " 'None',\n",
       " 'May, 2005',\n",
       " 'True',\n",
       " '70891',\n",
       " 'None',\n",
       " '1920',\n",
       " '5',\n",
       " '273',\n",
       " '10',\n",
       " 'SEO Level 1 (98%, 99th percentile)',\n",
       " '1',\n",
       " '54',\n",
       " 'OMSOFTWARE  INTERNET SOLUTIONS PVT LTD',\n",
       " '1',\n",
       " '0.763872426396',\n",
       " '1',\n",
       " '1',\n",
       " '44',\n",
       " '18',\n",
       " '326',\n",
       " '[{\"usages\": 174, \"seo_url\": \"php\", \"islocal\": \"0\", \"id\": 3, \"certified\": False, \"name\": \"PHP\"}, {\"usages\": 164, \"seo_url\": \"website_design\", \"islocal\": \"0\", \"id\": 17, \"certified\": False, \"name\": \"Website Design\"}, {\"usages\": 102, \"seo_url\": \"html\", \"islocal\": \"0\", \"id\": 335, \"certified\": False, \"name\": \"HTML\"}, {\"usages\": 91, \"seo_url\": \"graphic_design\", \"islocal\": \"0\", \"id\": 20, \"certified\": False, \"name\": \"Graphic Design\"}, {\"usages\": 52, \"seo_url\": \"mysql\", \"islocal\": \"0\", \"id\": 305, \"certified\": False, \"name\": \"MySQL\"}, {\"usages\": 51, \"seo_url\": \"seo\", \"islocal\": \"0\", \"id\": 38, \"certified\": False, \"name\": \"SEO\"}, {\"usages\": 26, \"seo_url\": \"dot_net\", \"islocal\": \"0\", \"id\": 15, \"certified\": False, \"name\": \".NET\"}, {\"usages\": 24, \"seo_url\": \"asp\", \"islocal\": \"0\", \"id\": 5, \"certified\": False, \"name\": \"ASP\"}, {\"usages\": 21, \"seo_url\": \"javascript\", \"islocal\": \"0\", \"id\": 9, \"certified\": False, \"name\": \"Javascript\"}, {\"usages\": 19, \"seo_url\": \"ecommerce\", \"islocal\": \"0\", \"id\": 137, \"certified\": False, \"name\": \"eCommerce\"}, {\"usages\": 17, \"seo_url\": \"internet_marketing\", \"islocal\": \"0\", \"id\": 25, \"certified\": False, \"name\": \"Internet Marketing\"}, {\"usages\": 17, \"seo_url\": \"css\", \"islocal\": \"0\", \"id\": 77, \"certified\": False, \"name\": \"CSS\"}, {\"usages\": 16, \"seo_url\": \"link_building\", \"islocal\": \"0\", \"id\": 40, \"certified\": False, \"name\": \"Link Building\"}, {\"usages\": 16, \"seo_url\": \"shopping_carts\", \"islocal\": \"0\", \"id\": 56, \"certified\": False, \"name\": \"Shopping Carts\"}, {\"usages\": 14, \"seo_url\": \"software_architecture\", \"islocal\": \"0\", \"id\": 116, \"certified\": False, \"name\": \"Software Architecture\"}, {\"usages\": 10, \"seo_url\": \"wordpress\", \"islocal\": \"0\", \"id\": 69, \"certified\": True, \"name\": \"WordPress\"}, {\"usages\": 10, \"seo_url\": \"html_five\", \"islocal\": \"0\", \"id\": 323, \"certified\": False, \"name\": \"HTML5\"}, {\"usages\": 9, \"seo_url\": \"xml\", \"islocal\": \"0\", \"id\": 10, \"certified\": False, \"name\": \"XML\"}, {\"usages\": 9, \"seo_url\": \"mobile_phone\", \"islocal\": \"0\", \"id\": 44, \"certified\": False, \"name\": \"Mobile App Development\"}, {\"usages\": 9, \"seo_url\": \"iphone\", \"islocal\": \"0\", \"id\": 58, \"certified\": True, \"name\": \"iPhone\"}, {\"usages\": 9, \"seo_url\": \"sql\", \"islocal\": \"0\", \"id\": 68, \"certified\": False, \"name\": \"SQL\"}, {\"usages\": 8, \"seo_url\": \"android\", \"islocal\": \"0\", \"id\": 59, \"certified\": False, \"name\": \"Android\"}, {\"usages\": 7, \"seo_url\": \"java\", \"islocal\": \"0\", \"id\": 7, \"certified\": False, \"name\": \"Java\"}, {\"usages\": 7, \"seo_url\": \"logo_design\", \"islocal\": \"0\", \"id\": 32, \"certified\": False, \"name\": \"Logo Design\"}, {\"usages\": 7, \"seo_url\": \"jquery_prototype\", \"islocal\": \"0\", \"id\": 343, \"certified\": False, \"name\": \"jQuery / Prototype\"}, {\"usages\": 6, \"seo_url\": \"c_programming\", \"islocal\": \"0\", \"id\": 6, \"certified\": False, \"name\": \"C Programming\"}, {\"usages\": 6, \"seo_url\": \"project_management\", \"islocal\": \"0\", \"id\": 37, \"certified\": False, \"name\": \"Project Management\"}, {\"usages\": 6, \"seo_url\": \"social_networking\", \"islocal\": \"0\", \"id\": 65, \"certified\": False, \"name\": \"Social Networking\"}, {\"usages\": 6, \"seo_url\": \"marketing\", \"islocal\": \"0\", \"id\": 82, \"certified\": False, \"name\": \"Marketing\"}, {\"usages\": 4, \"seo_url\": \"engineering\", \"islocal\": \"0\", \"id\": 42, \"certified\": False, \"name\": \"Engineering\"}, {\"usages\": 3, \"seo_url\": \"ipad\", \"islocal\": \"0\", \"id\": 307, \"certified\": False, \"name\": \"iPad\"}, {\"usages\": 2, \"seo_url\": \"ruby_on_rails\", \"islocal\": \"0\", \"id\": 50, \"certified\": False, \"name\": \"Ruby on Rails\"}, {\"usages\": 2, \"seo_url\": \"drupal\", \"islocal\": \"0\", \"id\": 98, \"certified\": False, \"name\": \"Drupal\"}, {\"usages\": 2, \"seo_url\": \"c_sharp_programming\", \"islocal\": \"0\", \"id\": 106, \"certified\": False, \"name\": \"C# Programming\"}, {\"usages\": 2, \"seo_url\": \"website_testing\", \"islocal\": \"0\", \"id\": 219, \"certified\": False, \"name\": \"Website Testing\"}, {\"usages\": 2, \"seo_url\": \"anything_goes\", \"islocal\": \"0\", \"id\": 331, \"certified\": False, \"name\": \"Anything Goes\"}, {\"usages\": 2, \"seo_url\": \"laravel\", \"islocal\": None, \"id\": 669, \"certified\": False, \"name\": \"Laravel\"}, {\"usages\": 1, \"seo_url\": \"wireless\", \"islocal\": \"0\", \"id\": 41, \"certified\": False, \"name\": \"Wireless\"}, {\"usages\": 1, \"seo_url\": \"joomla\", \"islocal\": \"0\", \"id\": 54, \"certified\": False, \"name\": \"Joomla\"}, {\"usages\": 1, \"seo_url\": \"testing_qa\", \"islocal\": \"0\", \"id\": 67, \"certified\": False, \"name\": \"Testing / QA\"}, {\"usages\": 1, \"seo_url\": \"magento\", \"islocal\": \"0\", \"id\": 90, \"certified\": False, \"name\": \"Magento\"}, {\"usages\": 1, \"seo_url\": \"web_scraping\", \"islocal\": \"0\", \"id\": 95, \"certified\": False, \"name\": \"Web Scraping\"}, {\"usages\": 1, \"seo_url\": \"django\", \"islocal\": \"0\", \"id\": 113, \"certified\": False, \"name\": \"Django\"}, {\"usages\": 1, \"seo_url\": \"objective_c\", \"islocal\": \"0\", \"id\": 143, \"certified\": False, \"name\": \"Objective C\"}, {\"usages\": 1, \"seo_url\": \"crm\", \"islocal\": \"0\", \"id\": 147, \"certified\": False, \"name\": \"CRM\"}, {\"usages\": 1, \"seo_url\": \"twitter_bootstrap\", \"islocal\": None, \"id\": 602, \"certified\": False, \"name\": \"Bootstrap\"}, {\"usages\": 1, \"seo_url\": \"app_developer\", \"islocal\": None, \"id\": 951, \"certified\": False, \"name\": \"App Developer\"}, {\"usages\": 0, \"seo_url\": \"telemarketing\", \"islocal\": \"0\", \"id\": 49, \"certified\": False, \"name\": \"Telemarketing\"}, {\"usages\": 0, \"seo_url\": \"sales\", \"islocal\": \"0\", \"id\": 64, \"certified\": False, \"name\": \"Sales\"}, {\"usages\": 0, \"seo_url\": \"customer_support\", \"islocal\": \"0\", \"id\": 79, \"certified\": False, \"name\": \"Customer Support\"}, {\"usages\": 0, \"seo_url\": \"freelance_developer\", \"islocal\": \"0\", \"id\": 105, \"certified\": False, \"name\": \"Freelance\"}, {\"usages\": 0, \"seo_url\": \"virtual_assistant\", \"islocal\": \"0\", \"id\": 129, \"certified\": False, \"name\": \"Virtual Assistant\"}, {\"usages\": 0, \"seo_url\": \"human_resources\", \"islocal\": \"0\", \"id\": 145, \"certified\": False, \"name\": \"Human Resources\"}, {\"usages\": 0, \"seo_url\": \"sharepoint\", \"islocal\": \"0\", \"id\": 146, \"certified\": False, \"name\": \"Sharepoint\"}, {\"usages\": 0, \"seo_url\": \"business_plans\", \"islocal\": \"0\", \"id\": 149, \"certified\": False, \"name\": \"Business Plans\"}, {\"usages\": 0, \"seo_url\": \"mlm\", \"islocal\": \"0\", \"id\": 151, \"certified\": False, \"name\": \"MLM\"}, {\"usages\": 0, \"seo_url\": \"articles\", \"islocal\": \"0\", \"id\": 174, \"certified\": False, \"name\": \"Article Writing\"}, {\"usages\": 0, \"seo_url\": \"management\", \"islocal\": \"0\", \"id\": 178, \"certified\": False, \"name\": \"Management\"}, {\"usages\": 0, \"seo_url\": \"contracts\", \"islocal\": \"0\", \"id\": 182, \"certified\": False, \"name\": \"Contracts\"}, {\"usages\": 0, \"seo_url\": \"research_writing\", \"islocal\": \"0\", \"id\": 194, \"certified\": False, \"name\": \"Research Writing\"}, {\"usages\": 0, \"seo_url\": \"medical_writing\", \"islocal\": \"0\", \"id\": 195, \"certified\": False, \"name\": \"Medical Writing\"}, {\"usages\": 0, \"seo_url\": \"supplier_sourcing\", \"islocal\": \"0\", \"id\": 211, \"certified\": False, \"name\": \"Supplier Sourcing\"}, {\"usages\": 0, \"seo_url\": \"phone_support\", \"islocal\": \"0\", \"id\": 217, \"certified\": False, \"name\": \"Phone Support\"}, {\"usages\": 0, \"seo_url\": \"bpo\", \"islocal\": \"0\", \"id\": 257, \"certified\": False, \"name\": \"BPO\"}, {\"usages\": 0, \"seo_url\": \"ERP\", \"islocal\": \"0\", \"id\": 272, \"certified\": False, \"name\": \"ERP\"}, {\"usages\": 0, \"seo_url\": \"inventory_management\", \"islocal\": \"0\", \"id\": 289, \"certified\": False, \"name\": \"Inventory Management\"}, {\"usages\": 0, \"seo_url\": \"health\", \"islocal\": \"0\", \"id\": 300, \"certified\": False, \"name\": \"Health\"}, {\"usages\": 0, \"seo_url\": \"prestashop\", \"islocal\": \"0\", \"id\": 304, \"certified\": False, \"name\": \"Prestashop\"}, {\"usages\": 0, \"seo_url\": \"salesforce_com\", \"islocal\": \"0\", \"id\": 318, \"certified\": False, \"name\": \"Salesforce.com\"}, {\"usages\": 0, \"seo_url\": \"cplusplus_programming\", \"islocal\": \"0\", \"id\": 320, \"certified\": False, \"name\": \"C++ Programming\"}, {\"usages\": 0, \"seo_url\": \"geolocation\", \"islocal\": \"0\", \"id\": 321, \"certified\": False, \"name\": \"Geolocation\"}, {\"usages\": 0, \"seo_url\": \"nutrition\", \"islocal\": \"0\", \"id\": 322, \"certified\": False, \"name\": \"Nutrition\"}, {\"usages\": 0, \"seo_url\": \"microsoft_dynamics\", \"islocal\": None, \"id\": 397, \"certified\": False, \"name\": \"Dynamics\"}, {\"usages\": 0, \"seo_url\": \"fundraising\", \"islocal\": None, \"id\": 399, \"certified\": False, \"name\": \"Fundraising\"}, {\"usages\": 0, \"seo_url\": \"smarty_php\", \"islocal\": None, \"id\": 400, \"certified\": False, \"name\": \"Smarty PHP\"}, {\"usages\": 0, \"seo_url\": \"elearning\", \"islocal\": None, \"id\": 406, \"certified\": False, \"name\": \"eLearning\"}, {\"usages\": 0, \"seo_url\": \"optical_character_recognition\", \"islocal\": None, \"id\": 420, \"certified\": False, \"name\": \"OCR\"}, {\"usages\": 0, \"seo_url\": \"viral_marketing\", \"islocal\": None, \"id\": 437, \"certified\": False, \"name\": \"Viral Marketing\"}, {\"usages\": 0, \"seo_url\": \"real_estate\", \"islocal\": None, \"id\": 443, \"certified\": False, \"name\": \"Real Estate\"}, {\"usages\": 0, \"seo_url\": \"affiliate_marketing\", \"islocal\": None, \"id\": 449, \"certified\": False, \"name\": \"Affiliate Marketing\"}, {\"usages\": 0, \"seo_url\": \"fashion_modeling\", \"islocal\": None, \"id\": 450, \"certified\": False, \"name\": \"Fashion Modeling\"}, {\"usages\": 0, \"seo_url\": \"cooking_recipes\", \"islocal\": None, \"id\": 451, \"certified\": False, \"name\": \"Cooking & Recipes\"}, {\"usages\": 0, \"seo_url\": \"website_management\", \"islocal\": None, \"id\": 454, \"certified\": False, \"name\": \"Website Management\"}, {\"usages\": 0, \"seo_url\": \"telecommunications_engineering\", \"islocal\": None, \"id\": 471, \"certified\": False, \"name\": \"Telecommunications Engineering\"}, {\"usages\": 0, \"seo_url\": \"nodejs\", \"islocal\": None, \"id\": 500, \"certified\": False, \"name\": \"node.js\"}, {\"usages\": 0, \"seo_url\": \"shopify_site\", \"islocal\": None, \"id\": 502, \"certified\": False, \"name\": \"Shopify\"}, {\"usages\": 0, \"seo_url\": \"simplified_chinese_china\", \"islocal\": None, \"id\": 547, \"certified\": False, \"name\": \"Simplified Chinese (China)\"}, {\"usages\": 0, \"seo_url\": \"open_cart\", \"islocal\": None, \"id\": 565, \"certified\": False, \"name\": \"Open Cart\"}, {\"usages\": 0, \"seo_url\": \"phonegap\", \"islocal\": None, \"id\": 577, \"certified\": False, \"name\": \"PhoneGap\"}, {\"usages\": 0, \"seo_url\": \"umbraco\", \"islocal\": None, \"id\": 581, \"certified\": False, \"name\": \"Umbraco\"}, {\"usages\": 0, \"seo_url\": \"life_coaching\", \"islocal\": None, \"id\": 593, \"certified\": False, \"name\": \"Life Coaching\"}, {\"usages\": 0, \"seo_url\": \"software_development\", \"islocal\": None, \"id\": 613, \"certified\": False, \"name\": \"Software Development\"}, {\"usages\": 0, \"seo_url\": \"social_media_marketing\", \"islocal\": \"0\", \"id\": 663, \"certified\": False, \"name\": \"Social Media Marketing\"}, {\"usages\": 0, \"seo_url\": \"risk_management\", \"islocal\": None, \"id\": 665, \"certified\": False, \"name\": \"Risk Management\"}, {\"usages\": 0, \"seo_url\": \"database_programming\", \"islocal\": None, \"id\": 673, \"certified\": False, \"name\": \"Database Programming\"}, {\"usages\": 0, \"seo_url\": \"web_services\", \"islocal\": None, \"id\": 687, \"certified\": False, \"name\": \"Web Services\"}, {\"usages\": 0, \"seo_url\": \"asp_net\", \"islocal\": None, \"id\": 690, \"certified\": False, \"name\": \"ASP.NET\"}, {\"usages\": 0, \"seo_url\": \"microsoft_sql_server\", \"islocal\": None, \"id\": 695, \"certified\": False, \"name\": \"Microsoft SQL Server\"}, {\"usages\": 0, \"seo_url\": \"angular_js\", \"islocal\": None, \"id\": 704, \"certified\": False, \"name\": \"Angular.js\"}, {\"usages\": 0, \"seo_url\": \"database_development\", \"islocal\": None, \"id\": 709, \"certified\": False, \"name\": \"Database Development\"}, {\"usages\": 0, \"seo_url\": \"user_experience_design\", \"islocal\": None, \"id\": 710, \"certified\": False, \"name\": \"User Experience Design\"}, {\"usages\": 0, \"seo_url\": \"mobile_app_testing\", \"islocal\": None, \"id\": 716, \"certified\": False, \"name\": \"Mobile App Testing\"}, {\"usages\": 0, \"seo_url\": \"swift\", \"islocal\": None, \"id\": 727, \"certified\": False, \"name\": \"Swift\"}, {\"usages\": 0, \"seo_url\": \"woocommerce\", \"islocal\": None, \"id\": 788, \"certified\": False, \"name\": \"WooCommerce\"}, {\"usages\": 0, \"seo_url\": \"ionic_framework\", \"islocal\": None, \"id\": 879, \"certified\": False, \"name\": \"Ionic Framework\"}, {\"usages\": 0, \"seo_url\": \"app_designer\", \"islocal\": None, \"id\": 950, \"certified\": False, \"name\": \"App Designer\"}, {\"usages\": 0, \"seo_url\": \"coding\", \"islocal\": None, \"id\": 954, \"certified\": False, \"name\": \"Coding\"}, {\"usages\": 0, \"seo_url\": \"design\", \"islocal\": None, \"id\": 961, \"certified\": False, \"name\": \"Design\"}, {\"usages\": 0, \"seo_url\": \"programming\", \"islocal\": None, \"id\": 962, \"certified\": False, \"name\": \"Programming\"}]',\n",
       " '5',\n",
       " '90',\n",
       " '24324137',\n",
       " '1',\n",
       " '5',\n",
       " 'False',\n",
       " '3',\n",
       " '8',\n",
       " '1',\n",
       " '0.783104223874',\n",
       " '53',\n",
       " '9.284',\n",
       " 'None',\n",
       " 'iPhone Development 1 (80%, 91st percentile)',\n",
       " 'True',\n",
       " '330',\n",
       " '[{\"publisher\": \"\", \"title\": \"OM Software\", \"summary\": \"\", \"users_id\": \"70891\", \"authors\": None, \"date\": None, \"id\": \"2232\"}]',\n",
       " 'False',\n",
       " '529',\n",
       " 'None',\n",
       " '41',\n",
       " '4',\n",
       " '[{\"award_date\": \"2011\", \"descr\": \"\\\\n\\\\n\", \"certificate\": \"North India\\\\\"s leading service organizations and professionals in the category of \"Best Web Design & Development Services\"\", \"organisation\": \"\", \"organization\": \"\", \"id\": \"56439\"}, {\"award_date\": \"2014\", \"descr\": \"ISO 9001:2008 Certified Web Development Company\", \"certificate\": \"ISO Certification\", \"organisation\": \"\", \"organization\": \"ISO 9001:2008\", \"id\": \"459024\"}, {\"award_date\": \"2014\", \"descr\": \"Certified by Crisil Rating Policy\", \"certificate\": \"CRISIL SE 3B\", \"organisation\": \"\", \"organization\": \"Crisil Rating Company\", \"id\": \"459025\"}, {\"award_date\": \"2014\", \"descr\": \"\", \"certificate\": \"Enterprenuer of the Month May 2014\", \"organisation\": \"\", \"organization\": \"Silicon India\", \"id\": \"459026\"}, {\"award_date\": \"2014\", \"descr\": \"\", \"certificate\": \"NASSCOM Feature Member\", \"organisation\": \"\", \"organization\": \"NASSCOM\", \"id\": \"459027\"}]',\n",
       " '0',\n",
       " '1117451649',\n",
       " '1',\n",
       " '5',\n",
       " 'IN',\n",
       " 'Bhopal',\n",
       " '90',\n",
       " '5.5',\n",
       " '20',\n",
       " '1',\n",
       " '5',\n",
       " '0',\n",
       " '85',\n",
       " '//cdn5.f-cdn.com/ppic/104226104/logo/70891/profile_logo_70891.jpg',\n",
       " '99',\n",
       " '4.8',\n",
       " 'None',\n",
       " '5',\n",
       " '1',\n",
       " 'iPhone_Development_1',\n",
       " 'None',\n",
       " '98',\n",
       " 'None',\n",
       " 'False',\n",
       " '//cdn6.f-cdn.com/ppic/104226102/logo/70891/SoIM2/profile_logo_.jpg',\n",
       " 'None',\n",
       " '0.959786818926',\n",
       " 'OMSOFTWARE  PVT LTD',\n",
       " '5',\n",
       " 'numeracy_1',\n",
       " 'Android 1',\n",
       " '62',\n",
       " 'PHP Level 1 (85%, 96th percentile)',\n",
       " '1',\n",
       " '38',\n",
       " 'us_eng_2',\n",
       " '1',\n",
       " 'US',\n",
       " '39',\n",
       " 'None',\n",
       " '7',\n",
       " '0.7',\n",
       " '15',\n",
       " 'omsoftware',\n",
       " 'None',\n",
       " 'HTML Level 1',\n",
       " '690',\n",
       " '76082',\n",
       " 'False',\n",
       " '5',\n",
       " '[{\"year_interval\": \"-2004\", \"month_interval\": \"-24048\", \"description\": \"\", \"end_date\": \"0000-00-00\", \"title\": \"RajKamal\", \"company\": \"OM SOFTWARE\", \"start_date\": \"2004-01-01\", \"users_id\": \"70891\", \"start_date_formatted\": \"Jan 2004\", \"id\": \"16829\", \"end_date_formatted\": None}]',\n",
       " '78',\n",
       " 'None',\n",
       " '258',\n",
       " 'india',\n",
       " '//cdn2.f-cdn.com/files/download/49379989/bc76c3.jpg',\n",
       " 'Numeracy 1',\n",
       " '0',\n",
       " '4.81861395326',\n",
       " '98',\n",
       " 'US English Level 2 (80%, 41st percentile)',\n",
       " '92.84',\n",
       " 'Asia/Calcutta',\n",
       " '119',\n",
       " '1',\n",
       " '4.74718687935',\n",
       " '164',\n",
       " '5',\n",
       " 'True',\n",
       " '101',\n",
       " 'php_1',\n",
       " 'None',\n",
       " 'WordPress',\n",
       " '69',\n",
       " '1',\n",
       " '14%',\n",
       " 'None',\n",
       " 'None',\n",
       " 'PHP Level 1',\n",
       " '//cdn2.f-cdn.com/img/flags/png/in.png',\n",
       " 'False',\n",
       " '96%',\n",
       " '4.7191017772',\n",
       " '1',\n",
       " 'None',\n",
       " 'en',\n",
       " 'None',\n",
       " '[{\"activities\": None, \"start_year\": \"1999\", \"school_name\": \"Barkatullah Vishwavidyalaya\", \"user_id\": \"70891\", \"end_date\": \"2003-01-01 00:00:00\", \"degree\": \"B.Tech\", \"total_duration\": 4, \"end_year\": \"2003\", \"other_school\": None, \"school_id\": \"4327\", \"state_name\": None, \"visible\": True, \"popup\": False, \"other_school_name\": None, \"start_date\": \"1999-01-01 00:00:00\", \"country_code\": \"IN\", \"country_name\": \"India\", \"state_code\": None, \"id\": \"159909\", \"study_field\": None, \"additional\": None}]',\n",
       " '/img/flags/highres_png/india.png',\n",
       " '4.76546074422',\n",
       " '1',\n",
       " '4.76998289247',\n",
       " '0',\n",
       " '550',\n",
       " 'None',\n",
       " 'False',\n",
       " '1',\n",
       " 'Numeracy 1 (90%, 69th percentile)',\n",
       " '10',\n",
       " 'SEO_1',\n",
       " 'omsoftware',\n",
       " 'None',\n",
       " 'None',\n",
       " '5',\n",
       " '0',\n",
       " '0.32386695584',\n",
       " 'in',\n",
       " '95',\n",
       " '0.0526315789474',\n",
       " 'SEO Level 1',\n",
       " 'US English Level 2',\n",
       " '9.3',\n",
       " 'None',\n",
       " '70891',\n",
       " 'None',\n",
       " '69%',\n",
       " 'WordPress (95%, 98th percentile)',\n",
       " '78',\n",
       " 'Mobile & Web Application Development Company\\n\\nDelivering top-grade quality mobile app development solutions is something we at OM Software have been excelling in since the early launch of our business. We are well aware of the existing mobile app market trends and also keep a tab on the evolving trend of the industry, which is why when it comes to developing high-grade quality mobile apps, we consistently lead at the top position. As a result of our continued success in the business, we are being looked upon as one of the forerunners in the industry that offer comprehensive services and solutions for mobile apps.\\n\\nBasically, we are armed with seasoned web application development technicians who excel in developing A-one websites and web apps that perform best on all platforms.\\n\\nBeing a NASSCOM & ISO certified Company, we invariably strive our best to cater to your software needs from website development to mobile app development.',\n",
       " '20',\n",
       " 'True',\n",
       " '182',\n",
       " 'html_1',\n",
       " 'None',\n",
       " 'Android 1 (90%, 98th percentile)',\n",
       " '14',\n",
       " 'None',\n",
       " '4.7995511083',\n",
       " 'None',\n",
       " 'False',\n",
       " '91',\n",
       " 'None',\n",
       " '106',\n",
       " '217',\n",
       " '$',\n",
       " '1',\n",
       " '1',\n",
       " '96',\n",
       " '98',\n",
       " 'None',\n",
       " '0.690677966102',\n",
       " '250',\n",
       " '0',\n",
       " 'US Dollar',\n",
       " 'android_1',\n",
       " 'True',\n",
       " '146',\n",
       " '5',\n",
       " '[]',\n",
       " '0',\n",
       " 'Omsoftware',\n",
       " 'True',\n",
       " 'iPhone Development 1',\n",
       " '//cdn3.f-cdn.com/img/flags/highres_png/india.png',\n",
       " '80',\n",
       " '0',\n",
       " '[{\"count\": 126, \"job\": {\"category\": {\"id\": 1, \"name\": \"Websites, IT & Software\"}, \"name\": \"PHP\", \"seo_url\": None, \"active_project_count\": None, \"local\": False, \"id\": 3, \"seo_info\": None}}, {\"count\": 112, \"job\": {\"category\": {\"id\": 3, \"name\": \"Design, Media & Architecture\"}, \"name\": \"Website Design\", \"seo_url\": None, \"active_project_count\": None, \"local\": False, \"id\": 17, \"seo_info\": None}}, {\"count\": 71, \"job\": {\"category\": {\"id\": 1, \"name\": \"Websites, IT & Software\"}, \"name\": \"HTML\", \"seo_url\": None, \"active_project_count\": None, \"local\": False, \"id\": 335, \"seo_info\": None}}, {\"count\": 66, \"job\": {\"category\": {\"id\": 3, \"name\": \"Design, Media & Architecture\"}, \"name\": \"Graphic Design\", \"seo_url\": None, \"active_project_count\": None, \"local\": False, \"id\": 20, \"seo_info\": None}}, {\"count\": 40, \"job\": {\"category\": {\"id\": 1, \"name\": \"Websites, IT & Software\"}, \"name\": \"MySQL\", \"seo_url\": None, \"active_project_count\": None, \"local\": False, \"id\": 305, \"seo_info\": None}}]',\n",
       " '52',\n",
       " '3',\n",
       " 'USD',\n",
       " '80',\n",
       " '1',\n",
       " '78%',\n",
       " 'None',\n",
       " 'None',\n",
       " 'India',\n",
       " '1']"
      ]
     },
     "execution_count": 197,
     "metadata": {},
     "output_type": "execute_result"
    }
   ],
   "source": []
  },
  {
   "cell_type": "code",
   "execution_count": 104,
   "metadata": {},
   "outputs": [
    {
     "data": {
      "text/plain": [
       "14362"
      ]
     },
     "execution_count": 104,
     "metadata": {},
     "output_type": "execute_result"
    }
   ],
   "source": [
    "folder='emp_pages4/'\n",
    "cont = os.listdir(folder)\n",
    "len(cont)"
   ]
  },
  {
   "cell_type": "code",
   "execution_count": 108,
   "metadata": {
    "collapsed": true
   },
   "outputs": [],
   "source": [
    "# for i in cont[:100]:\n",
    "#     get_single(folder,i)"
   ]
  },
  {
   "cell_type": "code",
   "execution_count": null,
   "metadata": {
    "collapsed": true
   },
   "outputs": [],
   "source": [
    "df=pd.read_csv('data/escrow_ID_name.csv')\n",
    "df.head()"
   ]
  },
  {
   "cell_type": "code",
   "execution_count": 4,
   "metadata": {},
   "outputs": [
    {
     "data": {
      "text/plain": [
       "14362"
      ]
     },
     "execution_count": 4,
     "metadata": {},
     "output_type": "execute_result"
    }
   ],
   "source": []
  },
  {
   "cell_type": "code",
   "execution_count": 5,
   "metadata": {},
   "outputs": [
    {
     "name": "stdout",
     "output_type": "stream",
     "text": [
      "181405\n"
     ]
    },
    {
     "data": {
      "text/plain": [
       "<Element html at 0x7fa0feab1ab8>"
      ]
     },
     "execution_count": 5,
     "metadata": {},
     "output_type": "execute_result"
    }
   ],
   "source": [
    "with open(folder+\"omsoftware.html\",'r') as fl:\n",
    "        text=fl.read()\n",
    "print len(text)\n",
    "test=etree.HTML(text)\n",
    "test"
   ]
  },
  {
   "cell_type": "code",
   "execution_count": 6,
   "metadata": {},
   "outputs": [
    {
     "ename": "NameError",
     "evalue": "name 'BeautifulSoup' is not defined",
     "output_type": "error",
     "traceback": [
      "\u001b[0;31m\u001b[0m",
      "\u001b[0;31mNameError\u001b[0mTraceback (most recent call last)",
      "\u001b[0;32m<ipython-input-6-1f0863f072ba>\u001b[0m in \u001b[0;36m<module>\u001b[0;34m()\u001b[0m\n\u001b[0;32m----> 1\u001b[0;31m \u001b[0msoup\u001b[0m \u001b[0;34m=\u001b[0m \u001b[0mBeautifulSoup\u001b[0m\u001b[0;34m(\u001b[0m\u001b[0mtext\u001b[0m\u001b[0;34m,\u001b[0m \u001b[0;34m\"lxml\"\u001b[0m\u001b[0;34m)\u001b[0m\u001b[0;34m\u001b[0m\u001b[0m\n\u001b[0m\u001b[1;32m      2\u001b[0m \u001b[0mtype\u001b[0m\u001b[0;34m(\u001b[0m\u001b[0msoup\u001b[0m\u001b[0;34m)\u001b[0m\u001b[0;34m\u001b[0m\u001b[0m\n",
      "\u001b[0;31mNameError\u001b[0m: name 'BeautifulSoup' is not defined"
     ]
    }
   ],
   "source": [
    "soup = BeautifulSoup(text, \"lxml\")\n",
    "type(soup)"
   ]
  },
  {
   "cell_type": "markdown",
   "metadata": {},
   "source": [
    "### use etree instead of beautifulsoup\n",
    "### performance comparison\n",
    "\n",
    "https://en.wikipedia.org/wiki/Orders_of_magnitude_(time)"
   ]
  },
  {
   "cell_type": "code",
   "execution_count": 7,
   "metadata": {},
   "outputs": [
    {
     "name": "stdout",
     "output_type": "stream",
     "text": [
      "@omsoftware\n",
      "CPU times: user 0 ns, sys: 0 ns, total: 0 ns\n",
      "Wall time: 831 µs\n"
     ]
    }
   ],
   "source": [
    "%%time\n",
    "username = test.xpath('//div[@class=\"profile-user-name\"]/text()')[0].split()[0]\n",
    "print username"
   ]
  },
  {
   "cell_type": "code",
   "execution_count": 8,
   "metadata": {},
   "outputs": [
    {
     "ename": "NameError",
     "evalue": "name 'soup' is not defined",
     "output_type": "error",
     "traceback": [
      "\u001b[0;31m\u001b[0m",
      "\u001b[0;31mNameError\u001b[0mTraceback (most recent call last)",
      "\u001b[0;32m<ipython-input-8-e007ff2c2aad>\u001b[0m in \u001b[0;36m<module>\u001b[0;34m()\u001b[0m\n\u001b[0;32m----> 1\u001b[0;31m \u001b[0mget_ipython\u001b[0m\u001b[0;34m(\u001b[0m\u001b[0;34m)\u001b[0m\u001b[0;34m.\u001b[0m\u001b[0mrun_cell_magic\u001b[0m\u001b[0;34m(\u001b[0m\u001b[0;34mu'time'\u001b[0m\u001b[0;34m,\u001b[0m \u001b[0;34mu''\u001b[0m\u001b[0;34m,\u001b[0m \u001b[0;34mu'username = soup.findAll(\\'div\\', {\\'class\\': \\'profile-user-name\\'})[0].text\\nusername=os.linesep.join([s for s in username.strip().splitlines(True) if s.strip(\"\\\\r\\\\n\").strip()])\\nprint username'\u001b[0m\u001b[0;34m)\u001b[0m\u001b[0;34m\u001b[0m\u001b[0m\n\u001b[0m",
      "\u001b[0;32m/home/saya/anaconda2/lib/python2.7/site-packages/IPython/core/interactiveshell.pyc\u001b[0m in \u001b[0;36mrun_cell_magic\u001b[0;34m(self, magic_name, line, cell)\u001b[0m\n\u001b[1;32m   2113\u001b[0m             \u001b[0mmagic_arg_s\u001b[0m \u001b[0;34m=\u001b[0m \u001b[0mself\u001b[0m\u001b[0;34m.\u001b[0m\u001b[0mvar_expand\u001b[0m\u001b[0;34m(\u001b[0m\u001b[0mline\u001b[0m\u001b[0;34m,\u001b[0m \u001b[0mstack_depth\u001b[0m\u001b[0;34m)\u001b[0m\u001b[0;34m\u001b[0m\u001b[0m\n\u001b[1;32m   2114\u001b[0m             \u001b[0;32mwith\u001b[0m \u001b[0mself\u001b[0m\u001b[0;34m.\u001b[0m\u001b[0mbuiltin_trap\u001b[0m\u001b[0;34m:\u001b[0m\u001b[0;34m\u001b[0m\u001b[0m\n\u001b[0;32m-> 2115\u001b[0;31m                 \u001b[0mresult\u001b[0m \u001b[0;34m=\u001b[0m \u001b[0mfn\u001b[0m\u001b[0;34m(\u001b[0m\u001b[0mmagic_arg_s\u001b[0m\u001b[0;34m,\u001b[0m \u001b[0mcell\u001b[0m\u001b[0;34m)\u001b[0m\u001b[0;34m\u001b[0m\u001b[0m\n\u001b[0m\u001b[1;32m   2116\u001b[0m             \u001b[0;32mreturn\u001b[0m \u001b[0mresult\u001b[0m\u001b[0;34m\u001b[0m\u001b[0m\n\u001b[1;32m   2117\u001b[0m \u001b[0;34m\u001b[0m\u001b[0m\n",
      "\u001b[0;32m<decorator-gen-59>\u001b[0m in \u001b[0;36mtime\u001b[0;34m(self, line, cell, local_ns)\u001b[0m\n",
      "\u001b[0;32m/home/saya/anaconda2/lib/python2.7/site-packages/IPython/core/magic.pyc\u001b[0m in \u001b[0;36m<lambda>\u001b[0;34m(f, *a, **k)\u001b[0m\n\u001b[1;32m    186\u001b[0m     \u001b[0;31m# but it's overkill for just that one bit of state.\u001b[0m\u001b[0;34m\u001b[0m\u001b[0;34m\u001b[0m\u001b[0m\n\u001b[1;32m    187\u001b[0m     \u001b[0;32mdef\u001b[0m \u001b[0mmagic_deco\u001b[0m\u001b[0;34m(\u001b[0m\u001b[0marg\u001b[0m\u001b[0;34m)\u001b[0m\u001b[0;34m:\u001b[0m\u001b[0;34m\u001b[0m\u001b[0m\n\u001b[0;32m--> 188\u001b[0;31m         \u001b[0mcall\u001b[0m \u001b[0;34m=\u001b[0m \u001b[0;32mlambda\u001b[0m \u001b[0mf\u001b[0m\u001b[0;34m,\u001b[0m \u001b[0;34m*\u001b[0m\u001b[0ma\u001b[0m\u001b[0;34m,\u001b[0m \u001b[0;34m**\u001b[0m\u001b[0mk\u001b[0m\u001b[0;34m:\u001b[0m \u001b[0mf\u001b[0m\u001b[0;34m(\u001b[0m\u001b[0;34m*\u001b[0m\u001b[0ma\u001b[0m\u001b[0;34m,\u001b[0m \u001b[0;34m**\u001b[0m\u001b[0mk\u001b[0m\u001b[0;34m)\u001b[0m\u001b[0;34m\u001b[0m\u001b[0m\n\u001b[0m\u001b[1;32m    189\u001b[0m \u001b[0;34m\u001b[0m\u001b[0m\n\u001b[1;32m    190\u001b[0m         \u001b[0;32mif\u001b[0m \u001b[0mcallable\u001b[0m\u001b[0;34m(\u001b[0m\u001b[0marg\u001b[0m\u001b[0;34m)\u001b[0m\u001b[0;34m:\u001b[0m\u001b[0;34m\u001b[0m\u001b[0m\n",
      "\u001b[0;32m/home/saya/anaconda2/lib/python2.7/site-packages/IPython/core/magics/execution.pyc\u001b[0m in \u001b[0;36mtime\u001b[0;34m(self, line, cell, local_ns)\u001b[0m\n\u001b[1;32m   1183\u001b[0m         \u001b[0;32melse\u001b[0m\u001b[0;34m:\u001b[0m\u001b[0;34m\u001b[0m\u001b[0m\n\u001b[1;32m   1184\u001b[0m             \u001b[0mst\u001b[0m \u001b[0;34m=\u001b[0m \u001b[0mclock2\u001b[0m\u001b[0;34m(\u001b[0m\u001b[0;34m)\u001b[0m\u001b[0;34m\u001b[0m\u001b[0m\n\u001b[0;32m-> 1185\u001b[0;31m             \u001b[0;32mexec\u001b[0m\u001b[0;34m(\u001b[0m\u001b[0mcode\u001b[0m\u001b[0;34m,\u001b[0m \u001b[0mglob\u001b[0m\u001b[0;34m,\u001b[0m \u001b[0mlocal_ns\u001b[0m\u001b[0;34m)\u001b[0m\u001b[0;34m\u001b[0m\u001b[0m\n\u001b[0m\u001b[1;32m   1186\u001b[0m             \u001b[0mend\u001b[0m \u001b[0;34m=\u001b[0m \u001b[0mclock2\u001b[0m\u001b[0;34m(\u001b[0m\u001b[0;34m)\u001b[0m\u001b[0;34m\u001b[0m\u001b[0m\n\u001b[1;32m   1187\u001b[0m             \u001b[0mout\u001b[0m \u001b[0;34m=\u001b[0m \u001b[0mNone\u001b[0m\u001b[0;34m\u001b[0m\u001b[0m\n",
      "\u001b[0;32m<timed exec>\u001b[0m in \u001b[0;36m<module>\u001b[0;34m()\u001b[0m\n",
      "\u001b[0;31mNameError\u001b[0m: name 'soup' is not defined"
     ]
    }
   ],
   "source": [
    "%%time\n",
    "username = soup.findAll('div', {'class': 'profile-user-name'})[0].text\n",
    "username=os.linesep.join([s for s in username.strip().splitlines(True) if s.strip(\"\\r\\n\").strip()])\n",
    "print username"
   ]
  },
  {
   "cell_type": "code",
   "execution_count": null,
   "metadata": {
    "collapsed": true
   },
   "outputs": [],
   "source": []
  }
 ],
 "metadata": {
  "kernelspec": {
   "display_name": "Python 2",
   "language": "python",
   "name": "python2"
  },
  "language_info": {
   "codemirror_mode": {
    "name": "ipython",
    "version": 2
   },
   "file_extension": ".py",
   "mimetype": "text/x-python",
   "name": "python",
   "nbconvert_exporter": "python",
   "pygments_lexer": "ipython2",
   "version": "2.7.13"
  }
 },
 "nbformat": 4,
 "nbformat_minor": 2
}
