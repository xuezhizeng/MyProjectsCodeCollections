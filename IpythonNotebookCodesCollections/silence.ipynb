{
 "cells": [
  {
   "cell_type": "code",
   "execution_count": 5,
   "metadata": {
    "collapsed": true
   },
   "outputs": [],
   "source": [
    "import os\n",
    "from natsort import natsorted"
   ]
  },
  {
   "cell_type": "code",
   "execution_count": 2,
   "metadata": {},
   "outputs": [
    {
     "name": "stdout",
     "output_type": "stream",
     "text": [
      "data\t\t       make_dataset_rmTest.py  silence.ipynb\r\n",
      "data_loader_tester.py  model.py\t\t       train.py\r\n",
      "gcommand_loader.py     __pycache__\t       validation_list.txt\r\n",
      "gcommands\t       run.py\r\n"
     ]
    }
   ],
   "source": [
    "!ls"
   ]
  },
  {
   "cell_type": "code",
   "execution_count": 3,
   "metadata": {},
   "outputs": [
    {
     "data": {
      "text/plain": [
       "832"
      ]
     },
     "execution_count": 3,
     "metadata": {},
     "output_type": "execute_result"
    }
   ],
   "source": [
    "s = os.listdir('gcommands/train/silence/')\n",
    "len(s)"
   ]
  },
  {
   "cell_type": "code",
   "execution_count": 7,
   "metadata": {},
   "outputs": [],
   "source": [
    "s = natsorted(s)\n",
    "# s"
   ]
  },
  {
   "cell_type": "code",
   "execution_count": 16,
   "metadata": {},
   "outputs": [
    {
     "data": {
      "text/plain": [
       "['blue_noise_6.wav',\n",
       " 'blue_noise_16.wav',\n",
       " 'blue_noise_26.wav',\n",
       " 'blue_noise_36.wav',\n",
       " 'blue_noise_46.wav',\n",
       " 'blue_noise_56.wav',\n",
       " 'blue_noise_66.wav',\n",
       " 'blue_noise_76.wav',\n",
       " 'blue_noise_86.wav',\n",
       " 'blue_noise_96.wav',\n",
       " 'blue_noise_106.wav',\n",
       " 'brown_noise_6.wav',\n",
       " 'brown_noise_16.wav',\n",
       " 'brown_noise_26.wav',\n",
       " 'brown_noise_36.wav',\n",
       " 'brown_noise_46.wav',\n",
       " 'brown_noise_56.wav',\n",
       " 'brown_noise_66.wav',\n",
       " 'brown_noise_76.wav',\n",
       " 'brown_noise_86.wav',\n",
       " 'brown_noise_96.wav',\n",
       " 'brown_noise_106.wav',\n",
       " 'doing_the_dishes_6.wav',\n",
       " 'doing_the_dishes_16.wav',\n",
       " 'doing_the_dishes_26.wav',\n",
       " 'doing_the_dishes_36.wav',\n",
       " 'doing_the_dishes_46.wav',\n",
       " 'doing_the_dishes_56.wav',\n",
       " 'doing_the_dishes_66.wav',\n",
       " 'doing_the_dishes_76.wav',\n",
       " 'doing_the_dishes_86.wav',\n",
       " 'doing_the_dishes_96.wav',\n",
       " 'doing_the_dishes_106.wav',\n",
       " 'doing_the_dishes_116.wav',\n",
       " 'dude_miaowing_6.wav',\n",
       " 'dude_miaowing_16.wav',\n",
       " 'dude_miaowing_26.wav',\n",
       " 'dude_miaowing_36.wav',\n",
       " 'dude_miaowing_46.wav',\n",
       " 'dude_miaowing_56.wav',\n",
       " 'dude_miaowing_66.wav',\n",
       " 'dude_miaowing_76.wav',\n",
       " 'exercise_bike_6.wav',\n",
       " 'exercise_bike_16.wav',\n",
       " 'exercise_bike_26.wav',\n",
       " 'exercise_bike_36.wav',\n",
       " 'exercise_bike_46.wav',\n",
       " 'exercise_bike_56.wav',\n",
       " 'exercise_bike_66.wav',\n",
       " 'exercise_bike_76.wav',\n",
       " 'pink_noise_6.wav',\n",
       " 'pink_noise_16.wav',\n",
       " 'pink_noise_26.wav',\n",
       " 'pink_noise_36.wav',\n",
       " 'pink_noise_46.wav',\n",
       " 'pink_noise_56.wav',\n",
       " 'pink_noise_66.wav',\n",
       " 'running_tap_6.wav',\n",
       " 'running_tap_16.wav',\n",
       " 'running_tap_26.wav',\n",
       " 'running_tap_36.wav',\n",
       " 'running_tap_46.wav',\n",
       " 'running_tap_56.wav',\n",
       " 'running_tap_66.wav',\n",
       " 'running_tap_76.wav',\n",
       " 'violet_noise_6.wav',\n",
       " 'violet_noise_16.wav',\n",
       " 'violet_noise_26.wav',\n",
       " 'violet_noise_36.wav',\n",
       " 'violet_noise_46.wav',\n",
       " 'violet_noise_56.wav',\n",
       " 'violet_noise_66.wav',\n",
       " 'violet_noise_76.wav',\n",
       " 'violet_noise_86.wav',\n",
       " 'violet_noise_96.wav',\n",
       " 'violet_noise_106.wav',\n",
       " 'white_noise_6.wav',\n",
       " 'white_noise_16.wav',\n",
       " 'white_noise_26.wav',\n",
       " 'white_noise_36.wav',\n",
       " 'white_noise_46.wav',\n",
       " 'white_noise_56.wav',\n",
       " 'white_noise_66.wav']"
      ]
     },
     "execution_count": 16,
     "metadata": {},
     "output_type": "execute_result"
    }
   ],
   "source": [
    "six = [i for i in s if i.split('.wav')[0][-1] in ['6']]\n",
    "six"
   ]
  },
  {
   "cell_type": "code",
   "execution_count": 17,
   "metadata": {},
   "outputs": [],
   "source": [
    "import shutil"
   ]
  },
  {
   "cell_type": "code",
   "execution_count": 18,
   "metadata": {},
   "outputs": [
    {
     "name": "stdout",
     "output_type": "stream",
     "text": [
      "data\t\t       make_dataset_rmTest.py  silence.ipynb\r\n",
      "data_loader_tester.py  model.py\t\t       train.py\r\n",
      "gcommand_loader.py     __pycache__\t       validation_list.txt\r\n",
      "gcommands\t       run.py\r\n"
     ]
    }
   ],
   "source": [
    "!ls"
   ]
  },
  {
   "cell_type": "code",
   "execution_count": 19,
   "metadata": {
    "collapsed": true
   },
   "outputs": [],
   "source": [
    "!mkdir gcommands/valid/silence"
   ]
  },
  {
   "cell_type": "code",
   "execution_count": 20,
   "metadata": {},
   "outputs": [
    {
     "name": "stdout",
     "output_type": "stream",
     "text": [
      "O O O O O O O O O O O O O O O O O O O O O O O O O O O O O O O O O O O O O O O O O O O O O O O O O O O O O O O O O O O O O O O O O O O O O O O O O O O O O O O O O O O\n"
     ]
    }
   ],
   "source": [
    "for i in six:\n",
    "    shutil.move('gcommands/train/silence/'+i, 'gcommands/valid/silence/')\n",
    "    print 'O',"
   ]
  },
  {
   "cell_type": "code",
   "execution_count": null,
   "metadata": {
    "collapsed": true
   },
   "outputs": [],
   "source": []
  },
  {
   "cell_type": "code",
   "execution_count": null,
   "metadata": {
    "collapsed": true
   },
   "outputs": [],
   "source": []
  },
  {
   "cell_type": "code",
   "execution_count": 21,
   "metadata": {},
   "outputs": [
    {
     "name": "stdout",
     "output_type": "stream",
     "text": [
      "data\t\t       make_dataset_rmTest.py  silence.ipynb\r\n",
      "data_loader_tester.py  model.py\t\t       train.py\r\n",
      "gcommand_loader.py     __pycache__\t       validation_list.txt\r\n",
      "gcommands\t       run.py\r\n"
     ]
    }
   ],
   "source": [
    "!ls"
   ]
  },
  {
   "cell_type": "code",
   "execution_count": 24,
   "metadata": {},
   "outputs": [
    {
     "name": "stdout",
     "output_type": "stream",
     "text": [
      "bed   dog    five  happy  marvin  off  right   silence\tthree  up   zero\r\n",
      "bird  down   four  house  nine\t  on   seven   six\ttree   wow\r\n",
      "cat   eight  go    left   no\t  one  sheila  stop\ttwo    yes\r\n"
     ]
    }
   ],
   "source": [
    "!ls gcommands/train/"
   ]
  },
  {
   "cell_type": "code",
   "execution_count": 27,
   "metadata": {},
   "outputs": [],
   "source": [
    "# [d for d in os.listdir('gcommands/train/') if os.path.isdir(os.path.join('gcommands/train/', d))]"
   ]
  },
  {
   "cell_type": "code",
   "execution_count": 30,
   "metadata": {},
   "outputs": [],
   "source": [
    " os.path.expanduser??"
   ]
  },
  {
   "cell_type": "code",
   "execution_count": null,
   "metadata": {
    "collapsed": true
   },
   "outputs": [],
   "source": []
  }
 ],
 "metadata": {
  "kernelspec": {
   "display_name": "Python 2",
   "language": "python",
   "name": "python2"
  },
  "language_info": {
   "codemirror_mode": {
    "name": "ipython",
    "version": 2
   },
   "file_extension": ".py",
   "mimetype": "text/x-python",
   "name": "python",
   "nbconvert_exporter": "python",
   "pygments_lexer": "ipython2",
   "version": "2.7.13"
  }
 },
 "nbformat": 4,
 "nbformat_minor": 2
}
