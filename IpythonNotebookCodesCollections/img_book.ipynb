{
 "cells": [
  {
   "cell_type": "code",
   "execution_count": 48,
   "metadata": {
    "collapsed": true
   },
   "outputs": [],
   "source": [
    "from scrapy.selector import Selector\n",
    "import requests"
   ]
  },
  {
   "cell_type": "code",
   "execution_count": 2,
   "metadata": {
    "collapsed": true
   },
   "outputs": [],
   "source": [
    "with open('./book.html','r') as fh:\n",
    "    text=fh.read()"
   ]
  },
  {
   "cell_type": "code",
   "execution_count": 3,
   "metadata": {},
   "outputs": [
    {
     "data": {
      "text/plain": [
       "<Selector xpath=None data=u'<html><body><div id=\"pdf\" style=\"overflo'>"
      ]
     },
     "execution_count": 3,
     "metadata": {},
     "output_type": "execute_result"
    }
   ],
   "source": [
    "r = Selector(text=text)\n",
    "r"
   ]
  },
  {
   "cell_type": "code",
   "execution_count": 37,
   "metadata": {},
   "outputs": [
    {
     "data": {
      "text/plain": [
       "[<Selector xpath=u\"descendant-or-self::div[@data-name = 'page']\" data=u'<div data-name=\"page\" id=\"p1\" style=\"tex'>,\n",
       " <Selector xpath=u\"descendant-or-self::div[@data-name = 'page']\" data=u'<div data-name=\"page\" id=\"p2\" style=\"tex'>,\n",
       " <Selector xpath=u\"descendant-or-self::div[@data-name = 'page']\" data=u'<div data-name=\"page\" id=\"p3\" style=\"tex'>,\n",
       " <Selector xpath=u\"descendant-or-self::div[@data-name = 'page']\" data=u'<div data-name=\"page\" id=\"p4\" style=\"tex'>,\n",
       " <Selector xpath=u\"descendant-or-self::div[@data-name = 'page']\" data=u'<div data-name=\"page\" id=\"p5\" style=\"tex'>]"
      ]
     },
     "execution_count": 37,
     "metadata": {},
     "output_type": "execute_result"
    }
   ],
   "source": [
    "r.css('div[data-name=page]')[:5]"
   ]
  },
  {
   "cell_type": "code",
   "execution_count": 38,
   "metadata": {},
   "outputs": [],
   "source": [
    "root = r.css('div[data-name=page]')\n"
   ]
  },
  {
   "cell_type": "code",
   "execution_count": 47,
   "metadata": {},
   "outputs": [
    {
     "name": "stdout",
     "output_type": "stream",
     "text": [
      "p1\n",
      "https://view46.book118.com/img/?img=Hs92T42xAvs5cgKW38bU3pfDKnXav01yluPBM@kY3OuEQYJcPHs1GqTIdXSFJfXSgCkSwqaFGiE=\n"
     ]
    }
   ],
   "source": [
    "source = 'https://view46.book118.com/'\n",
    "for i in root:\n",
    "    print i.css('::attr(id)').extract()[0]\n",
    "    print source+i.css('img::attr(src)').extract()[0][3:]\n",
    "    break"
   ]
  },
  {
   "cell_type": "markdown",
   "metadata": {},
   "source": [
    "### download book\n",
    "\n",
    "https://max.book118.com/html/2015/1005/26662124.shtm"
   ]
  },
  {
   "cell_type": "code",
   "execution_count": 54,
   "metadata": {},
   "outputs": [
    {
     "name": "stdout",
     "output_type": "stream",
     "text": [
      "1 26.86s \n",
      "2 13.44s \n",
      "3 17.14s \n",
      "4 16.73s \n",
      "5 7.00s \n",
      "6 32.96s \n",
      "7 23.25s \n",
      "8 21.62s \n",
      "9 18.82s \n",
      "10 7.99s \n",
      "11 8.85s \n",
      "12 14.06s \n",
      "13 12.98s \n",
      "14 17.99s \n",
      "15 10.78s \n",
      "16 8.34s \n",
      "17 23.21s \n",
      "18 15.85s \n",
      "19 4.50s \n",
      "20 2.24s \n",
      "21 22.16s \n",
      "22 17.20s \n",
      "23 10.41s \n",
      "24 18.38s \n",
      "25 9.06s \n",
      "26 73.42s \n",
      "27 24.00s \n",
      "28 13.37s \n",
      "29 19.99s \n",
      "30 6.60s \n",
      "31 39.69s \n",
      "32 19.57s \n",
      "33 4.57s \n",
      "34 8.39s \n",
      "35 9.47s \n",
      "36 17.76s \n",
      "37 15.61s \n",
      "38 16.68s \n",
      "39 16.00s \n",
      "40 12.04s \n",
      "41 9.26s \n"
     ]
    }
   ],
   "source": [
    "from time import time\n",
    "source = 'https://view46.book118.com/'\n",
    "n=0\n",
    "start=time()\n",
    "for i in root[51:]:\n",
    "    response = requests.get(source+i.css('img::attr(src)').extract()[0][3:])\n",
    "    if response.status_code == 200:\n",
    "        with open(\"book/\"+str(i.css('::attr(id)').extract()[0]+'.jpg'), 'wb') as f:\n",
    "            f.write(response.content)\n",
    "            n+=1\n",
    "            print n, '{:.2f}s '.format(time()-start)\n",
    "            start=time()\n"
   ]
  },
  {
   "cell_type": "code",
   "execution_count": null,
   "metadata": {
    "collapsed": true
   },
   "outputs": [],
   "source": []
  }
 ],
 "metadata": {
  "kernelspec": {
   "display_name": "Python 2",
   "language": "python",
   "name": "python2"
  },
  "language_info": {
   "codemirror_mode": {
    "name": "ipython",
    "version": 2
   },
   "file_extension": ".py",
   "mimetype": "text/x-python",
   "name": "python",
   "nbconvert_exporter": "python",
   "pygments_lexer": "ipython2",
   "version": "2.7.13"
  }
 },
 "nbformat": 4,
 "nbformat_minor": 2
}
