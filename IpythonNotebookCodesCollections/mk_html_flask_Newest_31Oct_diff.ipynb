{
 "cells": [
  {
   "cell_type": "code",
   "execution_count": 1,
   "metadata": {
    "collapsed": true
   },
   "outputs": [],
   "source": [
    "import pandas as pd\n",
    "import os"
   ]
  },
  {
   "cell_type": "code",
   "execution_count": 2,
   "metadata": {},
   "outputs": [
    {
     "name": "stdout",
     "output_type": "stream",
     "text": [
      "code\t\t\t\t\t     mk_html_flask_Newest_add100.ipynb\r\n",
      "code.zip\t\t\t\t     mk_html_flask_Newest-Copy1.ipynb\r\n",
      "map_addbidder1.csv\t\t\t     mk_index_31Oct_diff.ipynb\r\n",
      "map_addbidder.csv\t\t\t     mk_index-addbidder.ipynb\r\n",
      "map_addboss1.csv\t\t\t     mk_index-addboss.ipynb\r\n",
      "map_addboss.csv\t\t\t\t     mk_index-bidder.ipynb\r\n",
      "map_bidder1.csv\t\t\t\t     mk_index-_boss1.ipynb\r\n",
      "map_bidder.csv\t\t\t\t     mk_index.ipynb\r\n",
      "map_boss1.csv\t\t\t\t     run.py\r\n",
      "map_diff.csv\t\t\t\t     run.pyc\r\n",
      "mk_html_flask_Newest_31Oct_diff.ipynb\t     static\r\n",
      "mk_html_flask_Newest_add100_addbidder.ipynb  templates\r\n",
      "mk_html_flask_Newest_add100_addboss.ipynb    tmp_flask.zip\r\n",
      "mk_html_flask_Newest_add100_bidder.ipynb\r\n"
     ]
    }
   ],
   "source": [
    "!ls"
   ]
  },
  {
   "cell_type": "code",
   "execution_count": 3,
   "metadata": {
    "collapsed": true
   },
   "outputs": [],
   "source": [
    "path='static/diff_Pics/'\n",
    "path2='diff_Pics/'"
   ]
  },
  {
   "cell_type": "code",
   "execution_count": 4,
   "metadata": {},
   "outputs": [
    {
     "data": {
      "text/plain": [
       "986"
      ]
     },
     "execution_count": 4,
     "metadata": {},
     "output_type": "execute_result"
    }
   ],
   "source": [
    "pc=os.listdir(path)\n",
    "len(pc)"
   ]
  },
  {
   "cell_type": "code",
   "execution_count": 5,
   "metadata": {
    "collapsed": true
   },
   "outputs": [],
   "source": [
    "pd.DataFrame(pc, columns=['name']).to_csv('map_diff.csv', index_label='id')"
   ]
  },
  {
   "cell_type": "code",
   "execution_count": 6,
   "metadata": {},
   "outputs": [
    {
     "data": {
      "text/plain": [
       "(986, 2)"
      ]
     },
     "execution_count": 6,
     "metadata": {},
     "output_type": "execute_result"
    }
   ],
   "source": [
    "df=pd.read_csv('map_diff.csv')\n",
    "df.shape"
   ]
  },
  {
   "cell_type": "code",
   "execution_count": 7,
   "metadata": {
    "collapsed": true
   },
   "outputs": [],
   "source": [
    "df['id'] = df['id']+1\n",
    "df.to_csv('map_diff.csv', index=False)"
   ]
  },
  {
   "cell_type": "code",
   "execution_count": null,
   "metadata": {
    "collapsed": true
   },
   "outputs": [],
   "source": []
  },
  {
   "cell_type": "code",
   "execution_count": null,
   "metadata": {
    "collapsed": true
   },
   "outputs": [],
   "source": []
  },
  {
   "cell_type": "code",
   "execution_count": null,
   "metadata": {
    "collapsed": true
   },
   "outputs": [],
   "source": []
  },
  {
   "cell_type": "code",
   "execution_count": 8,
   "metadata": {},
   "outputs": [
    {
     "data": {
      "text/plain": [
       "(986, 2)"
      ]
     },
     "execution_count": 8,
     "metadata": {},
     "output_type": "execute_result"
    }
   ],
   "source": [
    "df=pd.read_csv('map_diff.csv')\n",
    "df.shape"
   ]
  },
  {
   "cell_type": "code",
   "execution_count": 9,
   "metadata": {},
   "outputs": [
    {
     "data": {
      "text/html": [
       "<div>\n",
       "<style>\n",
       "    .dataframe thead tr:only-child th {\n",
       "        text-align: right;\n",
       "    }\n",
       "\n",
       "    .dataframe thead th {\n",
       "        text-align: left;\n",
       "    }\n",
       "\n",
       "    .dataframe tbody tr th {\n",
       "        vertical-align: top;\n",
       "    }\n",
       "</style>\n",
       "<table border=\"1\" class=\"dataframe\">\n",
       "  <thead>\n",
       "    <tr style=\"text-align: right;\">\n",
       "      <th></th>\n",
       "      <th>id</th>\n",
       "      <th>name</th>\n",
       "    </tr>\n",
       "  </thead>\n",
       "  <tbody>\n",
       "    <tr>\n",
       "      <th>0</th>\n",
       "      <td>1</td>\n",
       "      <td>1574296_profile.jpg</td>\n",
       "    </tr>\n",
       "    <tr>\n",
       "      <th>1</th>\n",
       "      <td>2</td>\n",
       "      <td>1478207_profile.jpg</td>\n",
       "    </tr>\n",
       "    <tr>\n",
       "      <th>2</th>\n",
       "      <td>3</td>\n",
       "      <td>656115_profile.jpg</td>\n",
       "    </tr>\n",
       "    <tr>\n",
       "      <th>3</th>\n",
       "      <td>4</td>\n",
       "      <td>1353234_profile.jpg</td>\n",
       "    </tr>\n",
       "    <tr>\n",
       "      <th>4</th>\n",
       "      <td>5</td>\n",
       "      <td>1385692_profile.jpg</td>\n",
       "    </tr>\n",
       "  </tbody>\n",
       "</table>\n",
       "</div>"
      ],
      "text/plain": [
       "   id                 name\n",
       "0   1  1574296_profile.jpg\n",
       "1   2  1478207_profile.jpg\n",
       "2   3   656115_profile.jpg\n",
       "3   4  1353234_profile.jpg\n",
       "4   5  1385692_profile.jpg"
      ]
     },
     "execution_count": 9,
     "metadata": {},
     "output_type": "execute_result"
    }
   ],
   "source": [
    "df.head()"
   ]
  },
  {
   "cell_type": "code",
   "execution_count": 10,
   "metadata": {
    "collapsed": true
   },
   "outputs": [],
   "source": [
    "df['set_id']=df['id'].apply(lambda x: x%100).apply(lambda x: 100 if x==0 else x)\n",
    "df['set']=(df['id']-1)//100+1"
   ]
  },
  {
   "cell_type": "code",
   "execution_count": 11,
   "metadata": {
    "collapsed": true
   },
   "outputs": [],
   "source": [
    "df.to_csv('map_diff.csv', index=False)"
   ]
  },
  {
   "cell_type": "code",
   "execution_count": null,
   "metadata": {
    "collapsed": true
   },
   "outputs": [],
   "source": []
  },
  {
   "cell_type": "code",
   "execution_count": null,
   "metadata": {
    "collapsed": true
   },
   "outputs": [],
   "source": []
  },
  {
   "cell_type": "code",
   "execution_count": 12,
   "metadata": {
    "collapsed": true
   },
   "outputs": [],
   "source": [
    "df['new']=df['id'].apply(lambda x: x%100).apply(lambda x: 100 if x==0 else x)\n"
   ]
  },
  {
   "cell_type": "code",
   "execution_count": 13,
   "metadata": {
    "collapsed": true
   },
   "outputs": [],
   "source": [
    "df['new']=df['new'].apply(lambda x: str(x)+\"&ensp;\" if len(str(x))==1 else str(x))"
   ]
  },
  {
   "cell_type": "code",
   "execution_count": 14,
   "metadata": {},
   "outputs": [
    {
     "data": {
      "text/plain": [
       "'5&ensp;'"
      ]
     },
     "execution_count": 14,
     "metadata": {},
     "output_type": "execute_result"
    }
   ],
   "source": [
    "df['new'][4]"
   ]
  },
  {
   "cell_type": "code",
   "execution_count": 15,
   "metadata": {
    "collapsed": true
   },
   "outputs": [],
   "source": [
    "pre=\"\"\"\n",
    "<!DOCTYPE html>\n",
    "<html>\n",
    "<head>\n",
    "  <link rel=\"stylesheet\" href=\"{{ url_for('static', filename='css/styles.css')%s }}\">\n",
    "</head>\"\"\"\n",
    "\n",
    "pre2=\"\"\"\n",
    "<body>\n",
    "<h1>Set {}</h1>\n",
    "<div class=\"parent\"><ul>\"\"\""
   ]
  },
  {
   "cell_type": "code",
   "execution_count": 16,
   "metadata": {},
   "outputs": [
    {
     "data": {
      "text/plain": [
       "'\\n<!DOCTYPE html>\\n<html>\\n<head>\\n  <link rel=\"stylesheet\" href=\"{ url_for(\\'static\\', filename=\\'css/styles.css\\')2 }\">\\n</head>'"
      ]
     },
     "execution_count": 16,
     "metadata": {},
     "output_type": "execute_result"
    }
   ],
   "source": [
    "pre.format('1')%'2'"
   ]
  },
  {
   "cell_type": "code",
   "execution_count": 17,
   "metadata": {
    "collapsed": true
   },
   "outputs": [],
   "source": [
    "post=\"\"\"</ul>\n",
    "</div>\n",
    "\n",
    "\n",
    "</body>\n",
    "</html>\"\"\""
   ]
  },
  {
   "cell_type": "code",
   "execution_count": 18,
   "metadata": {
    "collapsed": true
   },
   "outputs": [],
   "source": [
    "# pre.format(str(4))"
   ]
  },
  {
   "cell_type": "code",
   "execution_count": 19,
   "metadata": {},
   "outputs": [
    {
     "name": "stdout",
     "output_type": "stream",
     "text": [
      "/home/iri/pics/Flask\r\n"
     ]
    }
   ],
   "source": [
    "!pwd"
   ]
  },
  {
   "cell_type": "code",
   "execution_count": 20,
   "metadata": {
    "collapsed": true
   },
   "outputs": [],
   "source": [
    "# !ls"
   ]
  },
  {
   "cell_type": "code",
   "execution_count": 21,
   "metadata": {},
   "outputs": [
    {
     "name": "stdout",
     "output_type": "stream",
     "text": [
      "[Errno 17] File exists: 'templates/html/diff_Pics'\n"
     ]
    }
   ],
   "source": [
    "try:\n",
    "    os.mkdir('templates/html/diff_Pics')\n",
    "except Exception as e:\n",
    "    print e"
   ]
  },
  {
   "cell_type": "code",
   "execution_count": 22,
   "metadata": {
    "collapsed": true
   },
   "outputs": [],
   "source": [
    "target = 'templates/html/diff_Pics/'"
   ]
  },
  {
   "cell_type": "code",
   "execution_count": 23,
   "metadata": {},
   "outputs": [
    {
     "data": {
      "text/plain": [
       "\"{{ url_for('static', filename='diff_Pics/') }}\""
      ]
     },
     "execution_count": 23,
     "metadata": {},
     "output_type": "execute_result"
    }
   ],
   "source": [
    "static=\"\"\"{{ url_for('static', filename='%s') }}\"\"\"%path2\n",
    "static"
   ]
  },
  {
   "cell_type": "code",
   "execution_count": 24,
   "metadata": {},
   "outputs": [
    {
     "name": "stdout",
     "output_type": "stream",
     "text": [
      "CPU times: user 456 ms, sys: 4 ms, total: 460 ms\n",
      "Wall time: 474 ms\n"
     ]
    }
   ],
   "source": [
    "%%time\n",
    "content=''\n",
    "n=0\n",
    "for i in range(len(df)):\n",
    "    if i==0 or i%100==0:\n",
    "        \n",
    "        if i!=0:\n",
    "            content+=post\n",
    "        \n",
    "            with open(target+'{}.html'.format(n),'w') as fh:\n",
    "                fh.write(content)\n",
    "        n+=1\n",
    "        content=''\n",
    "        content+=pre%''+pre2.format(str(n))\n",
    "    if i==0:\n",
    "        content+=\"<ul>\"\n",
    "        content+=\"\"\"<li>{}\"\"\".format(df.iloc[i,:]['new'])+\"\"\"<img src=\"{{ url_for('static', filename='%s') }}\"></li>&emsp;\"\"\"%(path2+df.iloc[i,:]['name'])\n",
    "    else:\n",
    "        content+=\"\"\"<li>{}\"\"\".format(df.iloc[i,:]['new'])+\"\"\"<img src=\"{{ url_for('static', filename='%s') }}\"></li>&emsp;\"\"\"%(path2+df.iloc[i,:]['name'])\n",
    "        if i%4==3:\n",
    "            content+=\"</ul><ul>\"\n",
    "#     print n \n",
    "\n",
    "with open(target+'{}.html'.format(n),'w') as fh:\n",
    "                fh.write(content+post)"
   ]
  },
  {
   "cell_type": "markdown",
   "metadata": {},
   "source": [
    "### last"
   ]
  },
  {
   "cell_type": "code",
   "execution_count": 25,
   "metadata": {
    "collapsed": true
   },
   "outputs": [],
   "source": [
    "# print content+post"
   ]
  },
  {
   "cell_type": "code",
   "execution_count": 26,
   "metadata": {},
   "outputs": [
    {
     "data": {
      "text/plain": [
       "id                          1\n",
       "name      1574296_profile.jpg\n",
       "set_id                      1\n",
       "set                         1\n",
       "new                   1&ensp;\n",
       "Name: 0, dtype: object"
      ]
     },
     "execution_count": 26,
     "metadata": {},
     "output_type": "execute_result"
    }
   ],
   "source": [
    "df.iloc[0,:]"
   ]
  },
  {
   "cell_type": "code",
   "execution_count": 27,
   "metadata": {},
   "outputs": [
    {
     "data": {
      "text/plain": [
       "'\\n<!DOCTYPE html>\\n<html>\\n<head>\\n  <link rel=\"stylesheet\" href=\"{{ url_for(\\'static\\', filename=\\'css/styles.css\\') }}\">\\n</head>\\n<body>\\n<h1>Set 10</h1>\\n<div class=\"parent\"><ul><li>1&ensp;<img src=\"{{ url_for(\\'static\\', filename=\\'diff_Pics/1554204_profile.jpg\\') }}\"></li>&emsp;<li>2&ensp;<img src=\"{{ url_for(\\'static\\', filename=\\'diff_Pics/1329917_profile.jpg\\') }}\"></li>&emsp;<li>3&ensp;<img src=\"{{ url_for(\\'static\\', filename=\\'diff_Pics/1447241_profile.jpg\\') }}\"></li>&emsp;<li>4&ensp;<img src=\"{{ url_for(\\'static\\', filename=\\'diff_Pics/1592314_profile.jpg\\') }}\"></li>&emsp;</ul><ul><li>5&ensp;<img src=\"{{ url_for(\\'static\\', filename=\\'diff_Pics/1482889_profile.jpg\\') }}\"></li>&emsp;<li>6&ensp;<img src=\"{{ url_for(\\'static\\', filename=\\'diff_Pics/129881_profile.jpg\\') }}\"></li>&emsp;<li>7&ensp;<img src=\"{{ url_for(\\'static\\', filename=\\'diff_Pics/1366141_profile.jpg\\') }}\"></li>&emsp;<li>8&ensp;<img src=\"{{ url_for(\\'static\\', filename=\\'diff_Pics/1538896_profile.jpg\\') }}\"></li>&emsp;</ul><ul><li>9&ensp;<img src=\"{{ url_for(\\'static\\', filename=\\'diff_Pics/1501723_profile.jpg\\') }}\"></li>&emsp;<li>10<img src=\"{{ url_for(\\'static\\', filename=\\'diff_Pics/1544082_profile.jpg\\') }}\"></li>&emsp;<li>11<img src=\"{{ url_for(\\'static\\', filename=\\'diff_Pics/1598949_profile.jpg\\') }}\"></li>&emsp;<li>12<img src=\"{{ url_for(\\'static\\', filename=\\'diff_Pics/397598_profile.jpg\\') }}\"></li>&emsp;</ul><ul><li>13<img src=\"{{ url_for(\\'static\\', filename=\\'diff_Pics/1475142_profile.jpg\\') }}\"></li>&emsp;<li>14<img src=\"{{ url_for(\\'static\\', filename=\\'diff_Pics/56526_profile.jpg\\') }}\"></li>&emsp;<li>15<img src=\"{{ url_for(\\'static\\', filename=\\'diff_Pics/1427846_profile.jpg\\') }}\"></li>&emsp;<li>16<img src=\"{{ url_for(\\'static\\', filename=\\'diff_Pics/1558375_profile.jpg\\') }}\"></li>&emsp;</ul><ul><li>17<img src=\"{{ url_for(\\'static\\', filename=\\'diff_Pics/1025443_profile.jpg\\') }}\"></li>&emsp;<li>18<img src=\"{{ url_for(\\'static\\', filename=\\'diff_Pics/1164357_profile.jpg\\') }}\"></li>&emsp;<li>19<img src=\"{{ url_for(\\'static\\', filename=\\'diff_Pics/1300155_profile.jpg\\') }}\"></li>&emsp;<li>20<img src=\"{{ url_for(\\'static\\', filename=\\'diff_Pics/1338039_profile.jpg\\') }}\"></li>&emsp;</ul><ul><li>21<img src=\"{{ url_for(\\'static\\', filename=\\'diff_Pics/1518614_profile.jpg\\') }}\"></li>&emsp;<li>22<img src=\"{{ url_for(\\'static\\', filename=\\'diff_Pics/727408_profile.jpg\\') }}\"></li>&emsp;<li>23<img src=\"{{ url_for(\\'static\\', filename=\\'diff_Pics/1471354_profile.jpg\\') }}\"></li>&emsp;<li>24<img src=\"{{ url_for(\\'static\\', filename=\\'diff_Pics/690221_profile.jpg\\') }}\"></li>&emsp;</ul><ul><li>25<img src=\"{{ url_for(\\'static\\', filename=\\'diff_Pics/1449635_profile.jpg\\') }}\"></li>&emsp;<li>26<img src=\"{{ url_for(\\'static\\', filename=\\'diff_Pics/1027447_profile.jpg\\') }}\"></li>&emsp;<li>27<img src=\"{{ url_for(\\'static\\', filename=\\'diff_Pics/1375215_profile.jpg\\') }}\"></li>&emsp;<li>28<img src=\"{{ url_for(\\'static\\', filename=\\'diff_Pics/1291327_profile.jpg\\') }}\"></li>&emsp;</ul><ul><li>29<img src=\"{{ url_for(\\'static\\', filename=\\'diff_Pics/758140_profile.jpg\\') }}\"></li>&emsp;<li>30<img src=\"{{ url_for(\\'static\\', filename=\\'diff_Pics/660813_profile.jpg\\') }}\"></li>&emsp;<li>31<img src=\"{{ url_for(\\'static\\', filename=\\'diff_Pics/1339452_profile.jpg\\') }}\"></li>&emsp;<li>32<img src=\"{{ url_for(\\'static\\', filename=\\'diff_Pics/1352757_profile.jpg\\') }}\"></li>&emsp;</ul><ul><li>33<img src=\"{{ url_for(\\'static\\', filename=\\'diff_Pics/607045_profile.jpg\\') }}\"></li>&emsp;<li>34<img src=\"{{ url_for(\\'static\\', filename=\\'diff_Pics/1531031_profile.jpg\\') }}\"></li>&emsp;<li>35<img src=\"{{ url_for(\\'static\\', filename=\\'diff_Pics/1345341_profile.jpg\\') }}\"></li>&emsp;<li>36<img src=\"{{ url_for(\\'static\\', filename=\\'diff_Pics/972143_profile.jpg\\') }}\"></li>&emsp;</ul><ul><li>37<img src=\"{{ url_for(\\'static\\', filename=\\'diff_Pics/1500723_profile.jpg\\') }}\"></li>&emsp;<li>38<img src=\"{{ url_for(\\'static\\', filename=\\'diff_Pics/1377426_profile.jpg\\') }}\"></li>&emsp;<li>39<img src=\"{{ url_for(\\'static\\', filename=\\'diff_Pics/1215860_profile.jpg\\') }}\"></li>&emsp;<li>40<img src=\"{{ url_for(\\'static\\', filename=\\'diff_Pics/118792_profile.jpg\\') }}\"></li>&emsp;</ul><ul><li>41<img src=\"{{ url_for(\\'static\\', filename=\\'diff_Pics/819428_profile.jpg\\') }}\"></li>&emsp;<li>42<img src=\"{{ url_for(\\'static\\', filename=\\'diff_Pics/1257500_profile.jpg\\') }}\"></li>&emsp;<li>43<img src=\"{{ url_for(\\'static\\', filename=\\'diff_Pics/1593098_profile.jpg\\') }}\"></li>&emsp;<li>44<img src=\"{{ url_for(\\'static\\', filename=\\'diff_Pics/277279_profile.jpg\\') }}\"></li>&emsp;</ul><ul><li>45<img src=\"{{ url_for(\\'static\\', filename=\\'diff_Pics/1548253_profile.jpg\\') }}\"></li>&emsp;<li>46<img src=\"{{ url_for(\\'static\\', filename=\\'diff_Pics/1092405_profile.jpg\\') }}\"></li>&emsp;<li>47<img src=\"{{ url_for(\\'static\\', filename=\\'diff_Pics/1385956_profile.jpg\\') }}\"></li>&emsp;<li>48<img src=\"{{ url_for(\\'static\\', filename=\\'diff_Pics/1414649_profile.jpg\\') }}\"></li>&emsp;</ul><ul><li>49<img src=\"{{ url_for(\\'static\\', filename=\\'diff_Pics/1062175_profile.jpg\\') }}\"></li>&emsp;<li>50<img src=\"{{ url_for(\\'static\\', filename=\\'diff_Pics/883970_profile.jpg\\') }}\"></li>&emsp;<li>51<img src=\"{{ url_for(\\'static\\', filename=\\'diff_Pics/1313399_profile.jpg\\') }}\"></li>&emsp;<li>52<img src=\"{{ url_for(\\'static\\', filename=\\'diff_Pics/770645_profile.jpg\\') }}\"></li>&emsp;</ul><ul><li>53<img src=\"{{ url_for(\\'static\\', filename=\\'diff_Pics/1366892_profile.jpg\\') }}\"></li>&emsp;<li>54<img src=\"{{ url_for(\\'static\\', filename=\\'diff_Pics/994599_profile.jpg\\') }}\"></li>&emsp;<li>55<img src=\"{{ url_for(\\'static\\', filename=\\'diff_Pics/857412_profile.jpg\\') }}\"></li>&emsp;<li>56<img src=\"{{ url_for(\\'static\\', filename=\\'diff_Pics/524309_profile.jpg\\') }}\"></li>&emsp;</ul><ul><li>57<img src=\"{{ url_for(\\'static\\', filename=\\'diff_Pics/1438238_profile.jpg\\') }}\"></li>&emsp;<li>58<img src=\"{{ url_for(\\'static\\', filename=\\'diff_Pics/1015169_profile.jpg\\') }}\"></li>&emsp;<li>59<img src=\"{{ url_for(\\'static\\', filename=\\'diff_Pics/1441450_profile.jpg\\') }}\"></li>&emsp;<li>60<img src=\"{{ url_for(\\'static\\', filename=\\'diff_Pics/1576555_profile.jpg\\') }}\"></li>&emsp;</ul><ul><li>61<img src=\"{{ url_for(\\'static\\', filename=\\'diff_Pics/1499666_profile.jpg\\') }}\"></li>&emsp;<li>62<img src=\"{{ url_for(\\'static\\', filename=\\'diff_Pics/1141077_profile.jpg\\') }}\"></li>&emsp;<li>63<img src=\"{{ url_for(\\'static\\', filename=\\'diff_Pics/1340614_profile.jpg\\') }}\"></li>&emsp;<li>64<img src=\"{{ url_for(\\'static\\', filename=\\'diff_Pics/1381861_profile.jpg\\') }}\"></li>&emsp;</ul><ul><li>65<img src=\"{{ url_for(\\'static\\', filename=\\'diff_Pics/926939_profile.jpg\\') }}\"></li>&emsp;<li>66<img src=\"{{ url_for(\\'static\\', filename=\\'diff_Pics/1230004_profile.jpg\\') }}\"></li>&emsp;<li>67<img src=\"{{ url_for(\\'static\\', filename=\\'diff_Pics/1352846_profile.jpg\\') }}\"></li>&emsp;<li>68<img src=\"{{ url_for(\\'static\\', filename=\\'diff_Pics/1392169_profile.jpg\\') }}\"></li>&emsp;</ul><ul><li>69<img src=\"{{ url_for(\\'static\\', filename=\\'diff_Pics/689311_profile.jpg\\') }}\"></li>&emsp;<li>70<img src=\"{{ url_for(\\'static\\', filename=\\'diff_Pics/1315368_profile.jpg\\') }}\"></li>&emsp;<li>71<img src=\"{{ url_for(\\'static\\', filename=\\'diff_Pics/1112842_profile.jpg\\') }}\"></li>&emsp;<li>72<img src=\"{{ url_for(\\'static\\', filename=\\'diff_Pics/1562212_profile.jpg\\') }}\"></li>&emsp;</ul><ul><li>73<img src=\"{{ url_for(\\'static\\', filename=\\'diff_Pics/1360682_profile.jpg\\') }}\"></li>&emsp;<li>74<img src=\"{{ url_for(\\'static\\', filename=\\'diff_Pics/1527988_profile.jpg\\') }}\"></li>&emsp;<li>75<img src=\"{{ url_for(\\'static\\', filename=\\'diff_Pics/1562583_profile.jpg\\') }}\"></li>&emsp;<li>76<img src=\"{{ url_for(\\'static\\', filename=\\'diff_Pics/288950_profile.jpg\\') }}\"></li>&emsp;</ul><ul><li>77<img src=\"{{ url_for(\\'static\\', filename=\\'diff_Pics/282065_profile.jpg\\') }}\"></li>&emsp;<li>78<img src=\"{{ url_for(\\'static\\', filename=\\'diff_Pics/1355000_profile.jpg\\') }}\"></li>&emsp;<li>79<img src=\"{{ url_for(\\'static\\', filename=\\'diff_Pics/1423458_profile.jpg\\') }}\"></li>&emsp;<li>80<img src=\"{{ url_for(\\'static\\', filename=\\'diff_Pics/1385907_profile.jpg\\') }}\"></li>&emsp;</ul><ul><li>81<img src=\"{{ url_for(\\'static\\', filename=\\'diff_Pics/1470988_profile.jpg\\') }}\"></li>&emsp;<li>82<img src=\"{{ url_for(\\'static\\', filename=\\'diff_Pics/1514014_profile.jpg\\') }}\"></li>&emsp;<li>83<img src=\"{{ url_for(\\'static\\', filename=\\'diff_Pics/1487409_profile.jpg\\') }}\"></li>&emsp;<li>84<img src=\"{{ url_for(\\'static\\', filename=\\'diff_Pics/1508478_profile.jpg\\') }}\"></li>&emsp;</ul><ul><li>85<img src=\"{{ url_for(\\'static\\', filename=\\'diff_Pics/690274_profile.jpg\\') }}\"></li>&emsp;<li>86<img src=\"{{ url_for(\\'static\\', filename=\\'diff_Pics/66642_profile.jpg\\') }}\"></li>&emsp;'"
      ]
     },
     "execution_count": 27,
     "metadata": {},
     "output_type": "execute_result"
    }
   ],
   "source": [
    "content"
   ]
  },
  {
   "cell_type": "code",
   "execution_count": null,
   "metadata": {
    "collapsed": true
   },
   "outputs": [],
   "source": []
  },
  {
   "cell_type": "code",
   "execution_count": null,
   "metadata": {
    "collapsed": true
   },
   "outputs": [],
   "source": []
  }
 ],
 "metadata": {
  "kernelspec": {
   "display_name": "Python 2",
   "language": "python",
   "name": "python2"
  },
  "language_info": {
   "codemirror_mode": {
    "name": "ipython",
    "version": 2
   },
   "file_extension": ".py",
   "mimetype": "text/x-python",
   "name": "python",
   "nbconvert_exporter": "python",
   "pygments_lexer": "ipython2",
   "version": "2.7.13"
  }
 },
 "nbformat": 4,
 "nbformat_minor": 2
}
