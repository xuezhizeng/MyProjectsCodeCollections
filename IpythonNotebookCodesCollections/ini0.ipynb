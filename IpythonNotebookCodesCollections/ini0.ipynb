{
 "cells": [
  {
   "cell_type": "markdown",
   "metadata": {},
   "source": [
    "https://stephenholiday.com/articles/2011/gender-prediction-with-python/"
   ]
  },
  {
   "cell_type": "code",
   "execution_count": 207,
   "metadata": {
    "collapsed": true
   },
   "outputs": [],
   "source": [
    "import pandas as pd\n",
    "import numpy as np\n",
    "import itertools\n",
    "import os\n",
    "from time import time, ctime\n",
    "import matplotlib.pyplot as plt\n",
    "from sklearn.ensemble import RandomForestClassifier\n",
    "from sklearn.svm import SVC\n",
    "from sklearn.metrics import accuracy_score, classification_report, classification, confusion_matrix\n",
    "from sklearn.model_selection import train_test_split, KFold, cross_val_score, StratifiedKFold, StratifiedShuffleSplit\n",
    "from sklearn.preprocessing import LabelEncoder"
   ]
  },
  {
   "cell_type": "code",
   "execution_count": 72,
   "metadata": {
    "collapsed": true
   },
   "outputs": [],
   "source": [
    "def plot_confusion_matrix(cm, classes,\n",
    "                          normalize=False,\n",
    "                          title='Confusion matrix',\n",
    "                          cmap=plt.cm.Blues):\n",
    "    \"\"\"\n",
    "    This function prints and plots the confusion matrix.\n",
    "    Normalization can be applied by setting `normalize=True`.\n",
    "    \"\"\"\n",
    "    if normalize:\n",
    "        cm = cm.astype('float') / cm.sum(axis=1)[:, np.newaxis]\n",
    "        print(\"Normalized confusion matrix\")\n",
    "    else:\n",
    "        print('Confusion matrix, without normalization')\n",
    "\n",
    "    print(cm)\n",
    "\n",
    "    plt.imshow(cm, interpolation='nearest', cmap=cmap)\n",
    "    plt.title(title)\n",
    "    plt.colorbar()\n",
    "    tick_marks = np.arange(len(classes))\n",
    "    plt.xticks(tick_marks, classes, rotation=45)\n",
    "    plt.yticks(tick_marks, classes)\n",
    "\n",
    "    fmt = '.2f' if normalize else 'd'\n",
    "    thresh = cm.max() / 2.\n",
    "    for i, j in itertools.product(range(cm.shape[0]), range(cm.shape[1])):\n",
    "        plt.text(j, i, format(cm[i, j], fmt),\n",
    "                 horizontalalignment=\"center\",\n",
    "                 color=\"white\" if cm[i, j] > thresh else \"black\")\n",
    "\n",
    "    plt.tight_layout()\n",
    "    plt.ylabel('True label')\n",
    "    plt.xlabel('Predicted label')\n",
    "    plt.show()\n"
   ]
  },
  {
   "cell_type": "code",
   "execution_count": 73,
   "metadata": {},
   "outputs": [
    {
     "name": "stdout",
     "output_type": "stream",
     "text": [
      "(121335, 9)\n"
     ]
    },
    {
     "data": {
      "text/html": [
       "<div>\n",
       "<style>\n",
       "    .dataframe thead tr:only-child th {\n",
       "        text-align: right;\n",
       "    }\n",
       "\n",
       "    .dataframe thead th {\n",
       "        text-align: left;\n",
       "    }\n",
       "\n",
       "    .dataframe tbody tr th {\n",
       "        vertical-align: top;\n",
       "    }\n",
       "</style>\n",
       "<table border=\"1\" class=\"dataframe\">\n",
       "  <thead>\n",
       "    <tr style=\"text-align: right;\">\n",
       "      <th></th>\n",
       "      <th>user_id</th>\n",
       "      <th>username</th>\n",
       "      <th>freq</th>\n",
       "      <th>male.prob</th>\n",
       "      <th>fname.gender</th>\n",
       "      <th>male.prob2</th>\n",
       "      <th>fname.gender2</th>\n",
       "      <th>Name</th>\n",
       "      <th>pic.gender</th>\n",
       "    </tr>\n",
       "  </thead>\n",
       "  <tbody>\n",
       "    <tr>\n",
       "      <th>0</th>\n",
       "      <td>5.0</td>\n",
       "      <td>billion</td>\n",
       "      <td>2.0</td>\n",
       "      <td>1.0000</td>\n",
       "      <td>male</td>\n",
       "      <td>0.920000</td>\n",
       "      <td>male</td>\n",
       "      <td>NaN</td>\n",
       "      <td>NaN</td>\n",
       "    </tr>\n",
       "    <tr>\n",
       "      <th>1</th>\n",
       "      <td>63.0</td>\n",
       "      <td>paddyshyam</td>\n",
       "      <td>NaN</td>\n",
       "      <td>NaN</td>\n",
       "      <td>NaN</td>\n",
       "      <td>NaN</td>\n",
       "      <td>NaN</td>\n",
       "      <td>NaN</td>\n",
       "      <td>NaN</td>\n",
       "    </tr>\n",
       "    <tr>\n",
       "      <th>2</th>\n",
       "      <td>64.0</td>\n",
       "      <td>ArmenSoft</td>\n",
       "      <td>1.0</td>\n",
       "      <td>1.0000</td>\n",
       "      <td>male</td>\n",
       "      <td>NaN</td>\n",
       "      <td>NaN</td>\n",
       "      <td>NaN</td>\n",
       "      <td>NaN</td>\n",
       "    </tr>\n",
       "    <tr>\n",
       "      <th>3</th>\n",
       "      <td>128.0</td>\n",
       "      <td>okbookman</td>\n",
       "      <td>1.0</td>\n",
       "      <td>0.9945</td>\n",
       "      <td>male</td>\n",
       "      <td>0.998834</td>\n",
       "      <td>male</td>\n",
       "      <td>NaN</td>\n",
       "      <td>NaN</td>\n",
       "    </tr>\n",
       "    <tr>\n",
       "      <th>4</th>\n",
       "      <td>215.0</td>\n",
       "      <td>revitupmedia</td>\n",
       "      <td>1.0</td>\n",
       "      <td>1.0000</td>\n",
       "      <td>male</td>\n",
       "      <td>NaN</td>\n",
       "      <td>NaN</td>\n",
       "      <td>215_profile.jpg</td>\n",
       "      <td>NaN</td>\n",
       "    </tr>\n",
       "  </tbody>\n",
       "</table>\n",
       "</div>"
      ],
      "text/plain": [
       "   user_id      username  freq  male.prob fname.gender  male.prob2  \\\n",
       "0      5.0       billion   2.0     1.0000         male    0.920000   \n",
       "1     63.0    paddyshyam   NaN        NaN          NaN         NaN   \n",
       "2     64.0     ArmenSoft   1.0     1.0000         male         NaN   \n",
       "3    128.0     okbookman   1.0     0.9945         male    0.998834   \n",
       "4    215.0  revitupmedia   1.0     1.0000         male         NaN   \n",
       "\n",
       "  fname.gender2             Name pic.gender  \n",
       "0          male              NaN        NaN  \n",
       "1           NaN              NaN        NaN  \n",
       "2           NaN              NaN        NaN  \n",
       "3          male              NaN        NaN  \n",
       "4           NaN  215_profile.jpg        NaN  "
      ]
     },
     "execution_count": 73,
     "metadata": {},
     "output_type": "execute_result"
    }
   ],
   "source": [
    "df = pd.read_csv('./users.gender.golden.csv')\n",
    "print df.shape\n",
    "df.head()"
   ]
  },
  {
   "cell_type": "code",
   "execution_count": 74,
   "metadata": {},
   "outputs": [],
   "source": [
    "# df['male.prob'].describe()"
   ]
  },
  {
   "cell_type": "code",
   "execution_count": null,
   "metadata": {},
   "outputs": [],
   "source": []
  },
  {
   "cell_type": "code",
   "execution_count": 75,
   "metadata": {},
   "outputs": [
    {
     "data": {
      "text/plain": [
       "NaN       71935\n",
       "male      40389\n",
       "female     9011\n",
       "Name: fname.gender, dtype: int64"
      ]
     },
     "execution_count": 75,
     "metadata": {},
     "output_type": "execute_result"
    }
   ],
   "source": [
    "df['fname.gender'].value_counts(dropna=False)"
   ]
  },
  {
   "cell_type": "code",
   "execution_count": 76,
   "metadata": {},
   "outputs": [
    {
     "data": {
      "text/plain": [
       "(49400, 2)"
      ]
     },
     "execution_count": 76,
     "metadata": {},
     "output_type": "execute_result"
    }
   ],
   "source": [
    "pre9=df[(~df['fname.gender'].isnull())][['username','fname.gender']]\n",
    "pre9.shape"
   ]
  },
  {
   "cell_type": "code",
   "execution_count": 77,
   "metadata": {},
   "outputs": [
    {
     "data": {
      "text/plain": [
       "(49260, 2)"
      ]
     },
     "execution_count": 77,
     "metadata": {},
     "output_type": "execute_result"
    }
   ],
   "source": [
    "pre1=df[(~df['fname.gender'].isnull())& abs(df['male.prob']-0.5)>0.4][['username','fname.gender']]\n",
    "pre1.shape"
   ]
  },
  {
   "cell_type": "code",
   "execution_count": 78,
   "metadata": {
    "collapsed": true
   },
   "outputs": [],
   "source": [
    "def extract_features2(name, N=2):\n",
    "    name = name.lower()\n",
    "    features = {'nchar': len(name)}\n",
    "    for i in range(len(name)-N):\n",
    "        features[\"count({})\".format(name[i:i+N])] = name.lower().count(name[i:i+N])\n",
    "    for letter in 'abcdefghijklmnopqrstuvwxyz':\n",
    "        features[\"count({})\".format(letter)] = name.lower().count(letter)\n",
    "    return features\n",
    "\n",
    "# features extracted from username\n",
    "def extract_features(name):\n",
    "#     name=str(name)\n",
    "    name = name.lower()\n",
    "    features = {\n",
    "        'last': name[-1],\n",
    "        'last_two': name[-2:],\n",
    "        'last_three': name[-3:],\n",
    "        'first': name[0],\n",
    "        'first2': name[:1],\n",
    "        'first3': name[:2],\n",
    "        'nchar': len(name),\n",
    "        'vowels.pct': sum(c in 'aoeiu' for c in name)/float(len(name)),\n",
    "        'digits.pct': sum(c.isdigit() for c in name)/float(len(name)),\n",
    "        'endwd': name[-1].isdigit(),\n",
    "    }\n",
    "    # commented because these features are not useful\n",
    "    #for letter in 'abcdefghijklmnopqrstuvwxyz':\n",
    "        #features[\"count({})\".format(letter)] = name.lower().count(letter)\n",
    "    return features"
   ]
  },
  {
   "cell_type": "code",
   "execution_count": 79,
   "metadata": {},
   "outputs": [
    {
     "ename": "SyntaxError",
     "evalue": "invalid syntax (<ipython-input-79-cf6a40f20ad7>, line 1)",
     "output_type": "error",
     "traceback": [
      "\u001b[0;36m  File \u001b[0;32m\"<ipython-input-79-cf6a40f20ad7>\"\u001b[0;36m, line \u001b[0;32m1\u001b[0m\n\u001b[0;31m    'last_is_vowel' : (name[-1] in 'aeiouy')\u001b[0m\n\u001b[0m                    ^\u001b[0m\n\u001b[0;31mSyntaxError\u001b[0m\u001b[0;31m:\u001b[0m invalid syntax\n"
     ]
    }
   ],
   "source": [
    " 'last_is_vowel' : (name[-1] in 'aeiouy')\n"
   ]
  },
  {
   "cell_type": "code",
   "execution_count": 80,
   "metadata": {},
   "outputs": [],
   "source": [
    "def add_features(df):\n",
    "    \n",
    "    df['last']= df['username'].str[-1]\n",
    "    df['last_two']= df['username'].str[-2:]\n",
    "    df['last_three']= df['username'].str[-3:]\n",
    "    df['first']= df['username'].str[0]\n",
    "    df['first2']= df['username'].str[:1]\n",
    "    df['first3']= df['username'].str[:2]\n",
    "    df['nchar']= df['username'].apply(lambda x: len(str(x)))\n",
    "    df['vowels.pct']=df['username'].apply(lambda x: len([i for i in str(x) if i in 'aeiou'])/float(len(str(x))))\n",
    "    df['digits.pct']=df['username'].apply(lambda x: sum([i.isdigit() for i in str(x)])/float(len(str(x))))\n",
    "    df['endwd']= df['username'].apply(lambda x: str(x)[-1].isdigit())"
   ]
  },
  {
   "cell_type": "code",
   "execution_count": 81,
   "metadata": {
    "collapsed": true
   },
   "outputs": [],
   "source": [
    "pre0=pre1.copy()"
   ]
  },
  {
   "cell_type": "code",
   "execution_count": 82,
   "metadata": {},
   "outputs": [
    {
     "name": "stdout",
     "output_type": "stream",
     "text": [
      "CPU times: user 284 ms, sys: 4 ms, total: 288 ms\n",
      "Wall time: 284 ms\n"
     ]
    }
   ],
   "source": [
    "%%time\n",
    "add_features(pre0)"
   ]
  },
  {
   "cell_type": "code",
   "execution_count": 83,
   "metadata": {
    "collapsed": true
   },
   "outputs": [],
   "source": [
    "dim=lambda *x: [i.shape for i in x]"
   ]
  },
  {
   "cell_type": "code",
   "execution_count": 84,
   "metadata": {},
   "outputs": [
    {
     "data": {
      "text/plain": [
       "male      40389\n",
       "female     8871\n",
       "Name: fname.gender, dtype: int64"
      ]
     },
     "execution_count": 84,
     "metadata": {},
     "output_type": "execute_result"
    }
   ],
   "source": [
    "pre0.iloc[:,1].value_counts()"
   ]
  },
  {
   "cell_type": "code",
   "execution_count": 85,
   "metadata": {},
   "outputs": [
    {
     "data": {
      "text/plain": [
       "0.18008526187576127"
      ]
     },
     "execution_count": 85,
     "metadata": {},
     "output_type": "execute_result"
    }
   ],
   "source": [
    "8871.0/(40389+8871)"
   ]
  },
  {
   "cell_type": "code",
   "execution_count": 86,
   "metadata": {},
   "outputs": [
    {
     "data": {
      "text/plain": [
       "array(['username', 'fname.gender', 'last', 'last_two', 'last_three',\n",
       "       'first', 'first2', 'first3', 'nchar', 'vowels.pct', 'digits.pct',\n",
       "       'endwd'], dtype=object)"
      ]
     },
     "execution_count": 86,
     "metadata": {},
     "output_type": "execute_result"
    }
   ],
   "source": [
    "pre0.columns.values"
   ]
  },
  {
   "cell_type": "code",
   "execution_count": 87,
   "metadata": {},
   "outputs": [
    {
     "data": {
      "text/plain": [
       "array(['last', 'last_two', 'last_three', 'first', 'first2', 'first3'], dtype=object)"
      ]
     },
     "execution_count": 87,
     "metadata": {},
     "output_type": "execute_result"
    }
   ],
   "source": [
    "pre0.columns.values[2:8]"
   ]
  },
  {
   "cell_type": "code",
   "execution_count": 88,
   "metadata": {},
   "outputs": [
    {
     "name": "stdout",
     "output_type": "stream",
     "text": [
      "CPU times: user 0 ns, sys: 0 ns, total: 0 ns\n",
      "Wall time: 21 µs\n"
     ]
    }
   ],
   "source": [
    "%%time\n",
    "def label_encode(df, columns):\n",
    "    for col in columns:\n",
    "        le = LabelEncoder()\n",
    "        col_values_unique = list(df[col].unique())\n",
    "        le_fitted = le.fit(col_values_unique)\n",
    " \n",
    "        col_values = list(df[col].values)\n",
    "        le.classes_\n",
    "        col_values_transformed = le.transform(col_values)\n",
    "        df[col] = col_values_transformed\n",
    " \n",
    "to_be_encoded_cols = pre0.columns.values[2:8]\n",
    "# label_encode(pre0, to_be_encoded_cols)"
   ]
  },
  {
   "cell_type": "code",
   "execution_count": 89,
   "metadata": {},
   "outputs": [],
   "source": [
    "# pre0.dtypes"
   ]
  },
  {
   "cell_type": "code",
   "execution_count": null,
   "metadata": {
    "collapsed": true
   },
   "outputs": [],
   "source": []
  },
  {
   "cell_type": "code",
   "execution_count": null,
   "metadata": {
    "collapsed": true
   },
   "outputs": [],
   "source": []
  },
  {
   "cell_type": "code",
   "execution_count": 90,
   "metadata": {},
   "outputs": [
    {
     "data": {
      "text/plain": [
       "[(34482, 10), (34482,), (14778, 10), (14778,)]"
      ]
     },
     "execution_count": 90,
     "metadata": {},
     "output_type": "execute_result"
    }
   ],
   "source": [
    "X_train, X_test, y_train, y_test =train_test_split(pre0.iloc[:,2:], pre0.iloc[:,1], test_size=.3, stratify =pre0.iloc[:,1])\n",
    "dim(X_train, y_train, X_test, y_test )"
   ]
  },
  {
   "cell_type": "code",
   "execution_count": 91,
   "metadata": {},
   "outputs": [
    {
     "data": {
      "text/html": [
       "<div>\n",
       "<style>\n",
       "    .dataframe thead tr:only-child th {\n",
       "        text-align: right;\n",
       "    }\n",
       "\n",
       "    .dataframe thead th {\n",
       "        text-align: left;\n",
       "    }\n",
       "\n",
       "    .dataframe tbody tr th {\n",
       "        vertical-align: top;\n",
       "    }\n",
       "</style>\n",
       "<table border=\"1\" class=\"dataframe\">\n",
       "  <thead>\n",
       "    <tr style=\"text-align: right;\">\n",
       "      <th></th>\n",
       "      <th>last</th>\n",
       "      <th>last_two</th>\n",
       "      <th>last_three</th>\n",
       "      <th>first</th>\n",
       "      <th>first2</th>\n",
       "      <th>first3</th>\n",
       "      <th>nchar</th>\n",
       "      <th>vowels.pct</th>\n",
       "      <th>digits.pct</th>\n",
       "      <th>endwd</th>\n",
       "    </tr>\n",
       "  </thead>\n",
       "  <tbody>\n",
       "    <tr>\n",
       "      <th>12645</th>\n",
       "      <td>t</td>\n",
       "      <td>at</td>\n",
       "      <td>cat</td>\n",
       "      <td>t</td>\n",
       "      <td>t</td>\n",
       "      <td>th</td>\n",
       "      <td>10</td>\n",
       "      <td>0.400000</td>\n",
       "      <td>0.0</td>\n",
       "      <td>False</td>\n",
       "    </tr>\n",
       "    <tr>\n",
       "      <th>6780</th>\n",
       "      <td>i</td>\n",
       "      <td>ji</td>\n",
       "      <td>rji</td>\n",
       "      <td>J</td>\n",
       "      <td>J</td>\n",
       "      <td>Jo</td>\n",
       "      <td>5</td>\n",
       "      <td>0.400000</td>\n",
       "      <td>0.0</td>\n",
       "      <td>False</td>\n",
       "    </tr>\n",
       "    <tr>\n",
       "      <th>10047</th>\n",
       "      <td>z</td>\n",
       "      <td>ez</td>\n",
       "      <td>rez</td>\n",
       "      <td>F</td>\n",
       "      <td>F</td>\n",
       "      <td>Fr</td>\n",
       "      <td>11</td>\n",
       "      <td>0.363636</td>\n",
       "      <td>0.0</td>\n",
       "      <td>False</td>\n",
       "    </tr>\n",
       "    <tr>\n",
       "      <th>9663</th>\n",
       "      <td>l</td>\n",
       "      <td>al</td>\n",
       "      <td>kal</td>\n",
       "      <td>e</td>\n",
       "      <td>e</td>\n",
       "      <td>ek</td>\n",
       "      <td>4</td>\n",
       "      <td>0.500000</td>\n",
       "      <td>0.0</td>\n",
       "      <td>False</td>\n",
       "    </tr>\n",
       "    <tr>\n",
       "      <th>43836</th>\n",
       "      <td>y</td>\n",
       "      <td>ey</td>\n",
       "      <td>ley</td>\n",
       "      <td>s</td>\n",
       "      <td>s</td>\n",
       "      <td>su</td>\n",
       "      <td>12</td>\n",
       "      <td>0.333333</td>\n",
       "      <td>0.0</td>\n",
       "      <td>False</td>\n",
       "    </tr>\n",
       "  </tbody>\n",
       "</table>\n",
       "</div>"
      ],
      "text/plain": [
       "      last last_two last_three first first2 first3  nchar  vowels.pct  \\\n",
       "12645    t       at        cat     t      t     th     10    0.400000   \n",
       "6780     i       ji        rji     J      J     Jo      5    0.400000   \n",
       "10047    z       ez        rez     F      F     Fr     11    0.363636   \n",
       "9663     l       al        kal     e      e     ek      4    0.500000   \n",
       "43836    y       ey        ley     s      s     su     12    0.333333   \n",
       "\n",
       "       digits.pct  endwd  \n",
       "12645         0.0  False  \n",
       "6780          0.0  False  \n",
       "10047         0.0  False  \n",
       "9663          0.0  False  \n",
       "43836         0.0  False  "
      ]
     },
     "execution_count": 91,
     "metadata": {},
     "output_type": "execute_result"
    }
   ],
   "source": [
    "X_train.head()"
   ]
  },
  {
   "cell_type": "code",
   "execution_count": 92,
   "metadata": {},
   "outputs": [
    {
     "data": {
      "text/plain": [
       "12645    female\n",
       "6780       male\n",
       "10047      male\n",
       "9663       male\n",
       "43836      male\n",
       "Name: fname.gender, dtype: object"
      ]
     },
     "execution_count": 92,
     "metadata": {},
     "output_type": "execute_result"
    }
   ],
   "source": [
    "y_train.head()"
   ]
  },
  {
   "cell_type": "code",
   "execution_count": 93,
   "metadata": {},
   "outputs": [
    {
     "data": {
      "text/plain": [
       "male      28272\n",
       "female     6210\n",
       "Name: fname.gender, dtype: int64"
      ]
     },
     "execution_count": 93,
     "metadata": {},
     "output_type": "execute_result"
    }
   ],
   "source": [
    "y_train.value_counts()"
   ]
  },
  {
   "cell_type": "code",
   "execution_count": 94,
   "metadata": {},
   "outputs": [
    {
     "data": {
      "text/html": [
       "<div>\n",
       "<style>\n",
       "    .dataframe thead tr:only-child th {\n",
       "        text-align: right;\n",
       "    }\n",
       "\n",
       "    .dataframe thead th {\n",
       "        text-align: left;\n",
       "    }\n",
       "\n",
       "    .dataframe tbody tr th {\n",
       "        vertical-align: top;\n",
       "    }\n",
       "</style>\n",
       "<table border=\"1\" class=\"dataframe\">\n",
       "  <thead>\n",
       "    <tr style=\"text-align: right;\">\n",
       "      <th></th>\n",
       "      <th>last</th>\n",
       "      <th>last_two</th>\n",
       "      <th>last_three</th>\n",
       "      <th>first</th>\n",
       "      <th>first2</th>\n",
       "      <th>first3</th>\n",
       "      <th>nchar</th>\n",
       "      <th>vowels.pct</th>\n",
       "      <th>digits.pct</th>\n",
       "      <th>endwd</th>\n",
       "    </tr>\n",
       "  </thead>\n",
       "  <tbody>\n",
       "    <tr>\n",
       "      <th>0</th>\n",
       "      <td>n</td>\n",
       "      <td>on</td>\n",
       "      <td>ion</td>\n",
       "      <td>b</td>\n",
       "      <td>b</td>\n",
       "      <td>bi</td>\n",
       "      <td>7</td>\n",
       "      <td>0.428571</td>\n",
       "      <td>0.0</td>\n",
       "      <td>False</td>\n",
       "    </tr>\n",
       "    <tr>\n",
       "      <th>2</th>\n",
       "      <td>t</td>\n",
       "      <td>ft</td>\n",
       "      <td>oft</td>\n",
       "      <td>A</td>\n",
       "      <td>A</td>\n",
       "      <td>Ar</td>\n",
       "      <td>9</td>\n",
       "      <td>0.222222</td>\n",
       "      <td>0.0</td>\n",
       "      <td>False</td>\n",
       "    </tr>\n",
       "    <tr>\n",
       "      <th>3</th>\n",
       "      <td>n</td>\n",
       "      <td>an</td>\n",
       "      <td>man</td>\n",
       "      <td>o</td>\n",
       "      <td>o</td>\n",
       "      <td>ok</td>\n",
       "      <td>9</td>\n",
       "      <td>0.444444</td>\n",
       "      <td>0.0</td>\n",
       "      <td>False</td>\n",
       "    </tr>\n",
       "    <tr>\n",
       "      <th>4</th>\n",
       "      <td>a</td>\n",
       "      <td>ia</td>\n",
       "      <td>dia</td>\n",
       "      <td>r</td>\n",
       "      <td>r</td>\n",
       "      <td>re</td>\n",
       "      <td>12</td>\n",
       "      <td>0.500000</td>\n",
       "      <td>0.0</td>\n",
       "      <td>False</td>\n",
       "    </tr>\n",
       "    <tr>\n",
       "      <th>7</th>\n",
       "      <td>s</td>\n",
       "      <td>ys</td>\n",
       "      <td>sys</td>\n",
       "      <td>s</td>\n",
       "      <td>s</td>\n",
       "      <td>sa</td>\n",
       "      <td>13</td>\n",
       "      <td>0.307692</td>\n",
       "      <td>0.0</td>\n",
       "      <td>False</td>\n",
       "    </tr>\n",
       "  </tbody>\n",
       "</table>\n",
       "</div>"
      ],
      "text/plain": [
       "  last last_two last_three first first2 first3  nchar  vowels.pct  digits.pct  \\\n",
       "0    n       on        ion     b      b     bi      7    0.428571         0.0   \n",
       "2    t       ft        oft     A      A     Ar      9    0.222222         0.0   \n",
       "3    n       an        man     o      o     ok      9    0.444444         0.0   \n",
       "4    a       ia        dia     r      r     re     12    0.500000         0.0   \n",
       "7    s       ys        sys     s      s     sa     13    0.307692         0.0   \n",
       "\n",
       "   endwd  \n",
       "0  False  \n",
       "2  False  \n",
       "3  False  \n",
       "4  False  \n",
       "7  False  "
      ]
     },
     "execution_count": 94,
     "metadata": {},
     "output_type": "execute_result"
    }
   ],
   "source": [
    "pre0.iloc[:,2:].head()"
   ]
  },
  {
   "cell_type": "code",
   "execution_count": 95,
   "metadata": {},
   "outputs": [
    {
     "data": {
      "text/html": [
       "<div>\n",
       "<style>\n",
       "    .dataframe thead tr:only-child th {\n",
       "        text-align: right;\n",
       "    }\n",
       "\n",
       "    .dataframe thead th {\n",
       "        text-align: left;\n",
       "    }\n",
       "\n",
       "    .dataframe tbody tr th {\n",
       "        vertical-align: top;\n",
       "    }\n",
       "</style>\n",
       "<table border=\"1\" class=\"dataframe\">\n",
       "  <thead>\n",
       "    <tr style=\"text-align: right;\">\n",
       "      <th></th>\n",
       "      <th>username</th>\n",
       "      <th>fname.gender</th>\n",
       "      <th>last</th>\n",
       "      <th>last_two</th>\n",
       "      <th>last_three</th>\n",
       "      <th>first</th>\n",
       "      <th>first2</th>\n",
       "      <th>first3</th>\n",
       "      <th>nchar</th>\n",
       "      <th>vowels.pct</th>\n",
       "      <th>digits.pct</th>\n",
       "      <th>endwd</th>\n",
       "    </tr>\n",
       "  </thead>\n",
       "  <tbody>\n",
       "  </tbody>\n",
       "</table>\n",
       "</div>"
      ],
      "text/plain": [
       "Empty DataFrame\n",
       "Columns: [username, fname.gender, last, last_two, last_three, first, first2, first3, nchar, vowels.pct, digits.pct, endwd]\n",
       "Index: []"
      ]
     },
     "execution_count": 95,
     "metadata": {},
     "output_type": "execute_result"
    }
   ],
   "source": [
    "pre0[pre0.nchar.isnull()]"
   ]
  },
  {
   "cell_type": "code",
   "execution_count": 145,
   "metadata": {},
   "outputs": [
    {
     "data": {
      "text/html": [
       "<div>\n",
       "<style>\n",
       "    .dataframe thead tr:only-child th {\n",
       "        text-align: right;\n",
       "    }\n",
       "\n",
       "    .dataframe thead th {\n",
       "        text-align: left;\n",
       "    }\n",
       "\n",
       "    .dataframe tbody tr th {\n",
       "        vertical-align: top;\n",
       "    }\n",
       "</style>\n",
       "<table border=\"1\" class=\"dataframe\">\n",
       "  <thead>\n",
       "    <tr style=\"text-align: right;\">\n",
       "      <th></th>\n",
       "      <th>username</th>\n",
       "      <th>fname.gender</th>\n",
       "      <th>last</th>\n",
       "      <th>last_two</th>\n",
       "      <th>last_three</th>\n",
       "      <th>first</th>\n",
       "      <th>first2</th>\n",
       "      <th>first3</th>\n",
       "      <th>nchar</th>\n",
       "      <th>vowels.pct</th>\n",
       "      <th>digits.pct</th>\n",
       "      <th>endwd</th>\n",
       "    </tr>\n",
       "  </thead>\n",
       "  <tbody>\n",
       "    <tr>\n",
       "      <th>0</th>\n",
       "      <td>billion</td>\n",
       "      <td>male</td>\n",
       "      <td>n</td>\n",
       "      <td>on</td>\n",
       "      <td>ion</td>\n",
       "      <td>b</td>\n",
       "      <td>b</td>\n",
       "      <td>bi</td>\n",
       "      <td>7</td>\n",
       "      <td>0.428571</td>\n",
       "      <td>0.0</td>\n",
       "      <td>False</td>\n",
       "    </tr>\n",
       "    <tr>\n",
       "      <th>2</th>\n",
       "      <td>ArmenSoft</td>\n",
       "      <td>male</td>\n",
       "      <td>t</td>\n",
       "      <td>ft</td>\n",
       "      <td>oft</td>\n",
       "      <td>A</td>\n",
       "      <td>A</td>\n",
       "      <td>Ar</td>\n",
       "      <td>9</td>\n",
       "      <td>0.222222</td>\n",
       "      <td>0.0</td>\n",
       "      <td>False</td>\n",
       "    </tr>\n",
       "    <tr>\n",
       "      <th>3</th>\n",
       "      <td>okbookman</td>\n",
       "      <td>male</td>\n",
       "      <td>n</td>\n",
       "      <td>an</td>\n",
       "      <td>man</td>\n",
       "      <td>o</td>\n",
       "      <td>o</td>\n",
       "      <td>ok</td>\n",
       "      <td>9</td>\n",
       "      <td>0.444444</td>\n",
       "      <td>0.0</td>\n",
       "      <td>False</td>\n",
       "    </tr>\n",
       "    <tr>\n",
       "      <th>4</th>\n",
       "      <td>revitupmedia</td>\n",
       "      <td>male</td>\n",
       "      <td>a</td>\n",
       "      <td>ia</td>\n",
       "      <td>dia</td>\n",
       "      <td>r</td>\n",
       "      <td>r</td>\n",
       "      <td>re</td>\n",
       "      <td>12</td>\n",
       "      <td>0.500000</td>\n",
       "      <td>0.0</td>\n",
       "      <td>False</td>\n",
       "    </tr>\n",
       "    <tr>\n",
       "      <th>7</th>\n",
       "      <td>sakshiinfosys</td>\n",
       "      <td>male</td>\n",
       "      <td>s</td>\n",
       "      <td>ys</td>\n",
       "      <td>sys</td>\n",
       "      <td>s</td>\n",
       "      <td>s</td>\n",
       "      <td>sa</td>\n",
       "      <td>13</td>\n",
       "      <td>0.307692</td>\n",
       "      <td>0.0</td>\n",
       "      <td>False</td>\n",
       "    </tr>\n",
       "  </tbody>\n",
       "</table>\n",
       "</div>"
      ],
      "text/plain": [
       "        username fname.gender last last_two last_three first first2 first3  \\\n",
       "0        billion         male    n       on        ion     b      b     bi   \n",
       "2      ArmenSoft         male    t       ft        oft     A      A     Ar   \n",
       "3      okbookman         male    n       an        man     o      o     ok   \n",
       "4   revitupmedia         male    a       ia        dia     r      r     re   \n",
       "7  sakshiinfosys         male    s       ys        sys     s      s     sa   \n",
       "\n",
       "   nchar  vowels.pct  digits.pct  endwd  \n",
       "0      7    0.428571         0.0  False  \n",
       "2      9    0.222222         0.0  False  \n",
       "3      9    0.444444         0.0  False  \n",
       "4     12    0.500000         0.0  False  \n",
       "7     13    0.307692         0.0  False  "
      ]
     },
     "execution_count": 145,
     "metadata": {},
     "output_type": "execute_result"
    }
   ],
   "source": [
    "pre0.head()"
   ]
  },
  {
   "cell_type": "code",
   "execution_count": 142,
   "metadata": {},
   "outputs": [
    {
     "data": {
      "text/plain": [
       "(49260, 12)"
      ]
     },
     "execution_count": 142,
     "metadata": {},
     "output_type": "execute_result"
    }
   ],
   "source": [
    "pre0.shape"
   ]
  },
  {
   "cell_type": "code",
   "execution_count": 143,
   "metadata": {},
   "outputs": [
    {
     "data": {
      "text/plain": [
       "49260"
      ]
     },
     "execution_count": 143,
     "metadata": {},
     "output_type": "execute_result"
    }
   ],
   "source": [
    "len(pre0)"
   ]
  },
  {
   "cell_type": "code",
   "execution_count": 146,
   "metadata": {},
   "outputs": [
    {
     "name": "stdout",
     "output_type": "stream",
     "text": [
      "49260\n",
      "CPU times: user 14.9 s, sys: 256 ms, total: 15.2 s\n",
      "Wall time: 14.9 s\n"
     ]
    }
   ],
   "source": [
    "%%time\n",
    "Xy=[(pre0.iloc[i,2:].to_dict(),pre0.iloc[i,1]) for i in range(len(pre0))]\n",
    "print len(Xy)"
   ]
  },
  {
   "cell_type": "code",
   "execution_count": null,
   "metadata": {
    "collapsed": true
   },
   "outputs": [],
   "source": []
  },
  {
   "cell_type": "code",
   "execution_count": 167,
   "metadata": {},
   "outputs": [
    {
     "data": {
      "text/plain": [
       "(34482, 14778, 34482, 14778)"
      ]
     },
     "execution_count": 167,
     "metadata": {},
     "output_type": "execute_result"
    }
   ],
   "source": [
    "X_train, X_test, y_train, y_test =train_test_split(Xy,Xy,test_size=.3, stratify =pre0.iloc[:,1])\n",
    "len(X_train),len(X_test),len(y_train),len(y_test)"
   ]
  },
  {
   "cell_type": "code",
   "execution_count": 169,
   "metadata": {},
   "outputs": [
    {
     "data": {
      "text/plain": [
       "True"
      ]
     },
     "execution_count": 169,
     "metadata": {},
     "output_type": "execute_result"
    }
   ],
   "source": [
    "X_train==y_train"
   ]
  },
  {
   "cell_type": "code",
   "execution_count": 170,
   "metadata": {
    "collapsed": true
   },
   "outputs": [],
   "source": [
    "from nltk.classify import SklearnClassifier\n"
   ]
  },
  {
   "cell_type": "code",
   "execution_count": null,
   "metadata": {
    "collapsed": true
   },
   "outputs": [],
   "source": []
  },
  {
   "cell_type": "code",
   "execution_count": 148,
   "metadata": {},
   "outputs": [],
   "source": [
    "# cross_val_score(RandomForestClassifier(), pre0.iloc[:,2:], pre0.iloc[:,1], cv=10)"
   ]
  },
  {
   "cell_type": "code",
   "execution_count": 149,
   "metadata": {},
   "outputs": [
    {
     "name": "stdout",
     "output_type": "stream",
     "text": [
      "CPU times: user 0 ns, sys: 0 ns, total: 0 ns\n",
      "Wall time: 59.1 µs\n"
     ]
    }
   ],
   "source": [
    "%%time\n",
    "fr=RandomForestClassifier()\n",
    "# fr.fit(X_train, y_train)"
   ]
  },
  {
   "cell_type": "code",
   "execution_count": 151,
   "metadata": {},
   "outputs": [],
   "source": [
    "# fr_p = fr.predict(X_test)\n",
    "# pd.Series(fr_p).value_counts()"
   ]
  },
  {
   "cell_type": "code",
   "execution_count": 152,
   "metadata": {},
   "outputs": [],
   "source": [
    "# accuracy_score(y_test, fr_p)"
   ]
  },
  {
   "cell_type": "code",
   "execution_count": 153,
   "metadata": {},
   "outputs": [],
   "source": [
    "# plot_confusion_matrix(confusion_matrix(y_test,fr_p), ['female','male'])\n"
   ]
  },
  {
   "cell_type": "code",
   "execution_count": null,
   "metadata": {
    "collapsed": true
   },
   "outputs": [],
   "source": []
  },
  {
   "cell_type": "code",
   "execution_count": 110,
   "metadata": {
    "collapsed": true
   },
   "outputs": [],
   "source": [
    "# cross_val_score(SVC(), pre0.iloc[:,2:], pre0.iloc[:,1], cv=10)"
   ]
  },
  {
   "cell_type": "code",
   "execution_count": 154,
   "metadata": {},
   "outputs": [
    {
     "data": {
      "text/plain": [
       "SVC(C=1.0, cache_size=200, class_weight=None, coef0=0.0,\n",
       "  decision_function_shape=None, degree=3, gamma='auto', kernel='rbf',\n",
       "  max_iter=-1, probability=False, random_state=None, shrinking=True,\n",
       "  tol=0.001, verbose=False)"
      ]
     },
     "execution_count": 154,
     "metadata": {},
     "output_type": "execute_result"
    }
   ],
   "source": [
    "svm = SVC()\n",
    "svm"
   ]
  },
  {
   "cell_type": "code",
   "execution_count": 155,
   "metadata": {},
   "outputs": [
    {
     "name": "stdout",
     "output_type": "stream",
     "text": [
      "CPU times: user 0 ns, sys: 0 ns, total: 0 ns\n",
      "Wall time: 9.78 µs\n"
     ]
    }
   ],
   "source": [
    "%%time\n",
    "# svm.fit(X_train, y_train)"
   ]
  },
  {
   "cell_type": "code",
   "execution_count": 156,
   "metadata": {},
   "outputs": [],
   "source": [
    "# %%time\n",
    "# pred = svm.predict(X_test)\n",
    "# pred.shape"
   ]
  },
  {
   "cell_type": "code",
   "execution_count": 157,
   "metadata": {},
   "outputs": [],
   "source": [
    "# pd.Series(pred).value_counts()"
   ]
  },
  {
   "cell_type": "code",
   "execution_count": 158,
   "metadata": {},
   "outputs": [],
   "source": [
    "# accuracy_score(y_test, pred)"
   ]
  },
  {
   "cell_type": "code",
   "execution_count": 159,
   "metadata": {},
   "outputs": [],
   "source": [
    "# confusion_matrix(y_test,pred)"
   ]
  },
  {
   "cell_type": "code",
   "execution_count": 161,
   "metadata": {},
   "outputs": [],
   "source": [
    "# plot_confusion_matrix(confusion_matrix(y_test,pred), ['female','male'])\n"
   ]
  },
  {
   "cell_type": "code",
   "execution_count": 119,
   "metadata": {},
   "outputs": [],
   "source": [
    "from sklearn.naive_bayes import BernoulliNB"
   ]
  },
  {
   "cell_type": "code",
   "execution_count": 120,
   "metadata": {},
   "outputs": [
    {
     "data": {
      "text/plain": [
       "BernoulliNB(alpha=1.0, binarize=0.0, class_prior=None, fit_prior=True)"
      ]
     },
     "execution_count": 120,
     "metadata": {},
     "output_type": "execute_result"
    }
   ],
   "source": [
    "nb = BernoulliNB()\n",
    "nb"
   ]
  },
  {
   "cell_type": "code",
   "execution_count": 162,
   "metadata": {},
   "outputs": [],
   "source": [
    "# %%time\n",
    "# nb.fit(X_train, y_train)\n",
    "# nb_pd=nb.predict(X_test)\n",
    "# print pd.Series(nb_pd).value_counts()"
   ]
  },
  {
   "cell_type": "markdown",
   "metadata": {},
   "source": [
    "http://www.nltk.org/howto/classify.html"
   ]
  },
  {
   "cell_type": "code",
   "execution_count": 163,
   "metadata": {
    "collapsed": true
   },
   "outputs": [],
   "source": [
    "import nltk"
   ]
  },
  {
   "cell_type": "code",
   "execution_count": 138,
   "metadata": {},
   "outputs": [
    {
     "data": {
      "text/plain": [
       "(34482, 10)"
      ]
     },
     "execution_count": 138,
     "metadata": {},
     "output_type": "execute_result"
    }
   ],
   "source": [
    "X_train.values.shape"
   ]
  },
  {
   "cell_type": "code",
   "execution_count": 171,
   "metadata": {},
   "outputs": [
    {
     "name": "stdout",
     "output_type": "stream",
     "text": [
      "  ==> Training (50 iterations)\n",
      "\n",
      "      Iteration    Log Likelihood    Accuracy\n",
      "      ---------------------------------------\n",
      "             1          -0.69315        0.820\n",
      "             2          -0.34299        0.820\n",
      "             3          -0.33470        0.820\n",
      "             4          -0.32713        0.820\n",
      "             5          -0.32032        0.822\n",
      "             6          -0.31425        0.824\n",
      "             7          -0.30881        0.828\n",
      "             8          -0.30393        0.831\n",
      "             9          -0.29951        0.835\n",
      "            10          -0.29551        0.838\n",
      "            11          -0.29185        0.840\n",
      "            12          -0.28850        0.842\n",
      "            13          -0.28542        0.845\n",
      "            14          -0.28257        0.848\n",
      "            15          -0.27993        0.850\n",
      "            16          -0.27748        0.853\n",
      "            17          -0.27520        0.855\n",
      "            18          -0.27306        0.857\n",
      "            19          -0.27107        0.859\n",
      "            20          -0.26919        0.861\n",
      "            21          -0.26743        0.862\n",
      "            22          -0.26577        0.863\n",
      "            23          -0.26420        0.864\n",
      "            24          -0.26272        0.865\n",
      "            25          -0.26131        0.865\n",
      "            26          -0.25998        0.866\n",
      "            27          -0.25872        0.867\n",
      "            28          -0.25752        0.867\n",
      "            29          -0.25637        0.867\n",
      "            30          -0.25528        0.867\n",
      "            31          -0.25424        0.868\n",
      "            32          -0.25324        0.868\n",
      "            33          -0.25229        0.868\n",
      "            34          -0.25138        0.868\n",
      "            35          -0.25051        0.869\n",
      "            36          -0.24967        0.869\n",
      "            37          -0.24886        0.869\n",
      "            38          -0.24809        0.869\n",
      "            39          -0.24734        0.869\n",
      "            40          -0.24663        0.869\n",
      "            41          -0.24594        0.869\n",
      "            42          -0.24527        0.869\n",
      "            43          -0.24463        0.869\n",
      "            44          -0.24401        0.870\n",
      "            45          -0.24341        0.869\n",
      "            46          -0.24283        0.869\n",
      "            47          -0.24227        0.869\n",
      "            48          -0.24173        0.869\n",
      "            49          -0.24120        0.869\n",
      "         Final          -0.24070        0.870\n"
     ]
    },
    {
     "data": {
      "text/plain": [
       "<ConditionalExponentialClassifier: 2 labels, 16558 features>"
      ]
     },
     "execution_count": 171,
     "metadata": {},
     "output_type": "execute_result"
    }
   ],
   "source": [
    "cls = nltk.classify.MaxentClassifier.train(X_train, trace=3, max_iter=50)\n",
    "cls"
   ]
  },
  {
   "cell_type": "code",
   "execution_count": 174,
   "metadata": {},
   "outputs": [
    {
     "data": {
      "text/plain": [
       "({'digits.pct': 0.0,\n",
       "  'endwd': False,\n",
       "  'first': 'p',\n",
       "  'first2': 'p',\n",
       "  'first3': 'pf',\n",
       "  'last': 't',\n",
       "  'last_three': 'eet',\n",
       "  'last_two': 'et',\n",
       "  'nchar': 6,\n",
       "  'vowels.pct': 0.33333333333333331},\n",
       " 'male')"
      ]
     },
     "execution_count": 174,
     "metadata": {},
     "output_type": "execute_result"
    }
   ],
   "source": [
    "X_test[0]"
   ]
  },
  {
   "cell_type": "code",
   "execution_count": 186,
   "metadata": {},
   "outputs": [
    {
     "data": {
      "text/plain": [
       "{'digits.pct': 0.0,\n",
       " 'endwd': False,\n",
       " 'first': 'p',\n",
       " 'first2': 'p',\n",
       " 'first3': 'pf',\n",
       " 'last': 't',\n",
       " 'last_three': 'eet',\n",
       " 'last_two': 'et',\n",
       " 'nchar': 6,\n",
       " 'vowels.pct': 0.33333333333333331}"
      ]
     },
     "execution_count": 186,
     "metadata": {},
     "output_type": "execute_result"
    }
   ],
   "source": [
    "X_test[0][0]"
   ]
  },
  {
   "cell_type": "code",
   "execution_count": 201,
   "metadata": {},
   "outputs": [],
   "source": [
    "X_test_value, X_test_label = [], []\n",
    "for i,j in X_test:\n",
    "    X_test_value.append(i)\n",
    "    X_test_label.append(j)\n",
    "    "
   ]
  },
  {
   "cell_type": "code",
   "execution_count": 204,
   "metadata": {},
   "outputs": [
    {
     "data": {
      "text/plain": [
       "male      13979\n",
       "female      799\n",
       "dtype: int64"
      ]
     },
     "execution_count": 204,
     "metadata": {},
     "output_type": "execute_result"
    }
   ],
   "source": [
    "pd.Series(cls.classify_many(X_test_value)).value_counts()"
   ]
  },
  {
   "cell_type": "code",
   "execution_count": 205,
   "metadata": {},
   "outputs": [
    {
     "data": {
      "text/plain": [
       "array([[  230,  2431],\n",
       "       [  569, 11548]])"
      ]
     },
     "execution_count": 205,
     "metadata": {},
     "output_type": "execute_result"
    }
   ],
   "source": [
    "confusion_matrix(X_test_label, cls.classify_many(X_test_value))"
   ]
  },
  {
   "cell_type": "code",
   "execution_count": 208,
   "metadata": {},
   "outputs": [
    {
     "data": {
      "text/plain": [
       "0.79699553390174582"
      ]
     },
     "execution_count": 208,
     "metadata": {},
     "output_type": "execute_result"
    }
   ],
   "source": [
    "accuracy_score(X_test_label, cls.classify_many(X_test_value))"
   ]
  },
  {
   "cell_type": "code",
   "execution_count": 210,
   "metadata": {},
   "outputs": [
    {
     "name": "stdout",
     "output_type": "stream",
     "text": [
      "Confusion matrix, without normalization\n",
      "[[  230  2431]\n",
      " [  569 11548]]\n"
     ]
    },
    {
     "data": {
      "image/png": "[encoded data removed]",
      "text/plain": [
       "<matplotlib.figure.Figure at 0x7f4bf2798390>"
      ]
     },
     "metadata": {},
     "output_type": "display_data"
    }
   ],
   "source": [
    "plot_confusion_matrix(confusion_matrix(X_test_label, cls.classify_many(X_test_value)), ['female','male'])"
   ]
  },
  {
   "cell_type": "code",
   "execution_count": null,
   "metadata": {
    "collapsed": true
   },
   "outputs": [],
   "source": []
  }
 ],
 "metadata": {
  "kernelspec": {
   "display_name": "Python 2",
   "language": "python",
   "name": "python2"
  },
  "language_info": {
   "codemirror_mode": {
    "name": "ipython",
    "version": 2
   },
   "file_extension": ".py",
   "mimetype": "text/x-python",
   "name": "python",
   "nbconvert_exporter": "python",
   "pygments_lexer": "ipython2",
   "version": "2.7.13"
  }
 },
 "nbformat": 4,
 "nbformat_minor": 2
}
