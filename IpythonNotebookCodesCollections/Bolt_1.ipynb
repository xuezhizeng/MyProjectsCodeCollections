{
 "cells": [
  {
   "cell_type": "markdown",
   "metadata": {},
   "source": [
    "http://pytorch.org/"
   ]
  },
  {
   "cell_type": "code",
   "execution_count": 5,
   "metadata": {},
   "outputs": [
    {
     "name": "stdout",
     "output_type": "stream",
     "text": [
      "CUDA Version 8.0.61\r\n"
     ]
    }
   ],
   "source": [
    "!cat /usr/local/cuda/version.txt"
   ]
  },
  {
   "cell_type": "code",
   "execution_count": null,
   "metadata": {},
   "outputs": [],
   "source": [
    "# !conda install pytorch torchvision cuda80 -c soumith"
   ]
  },
  {
   "cell_type": "code",
   "execution_count": 6,
   "metadata": {},
   "outputs": [
    {
     "name": "stdout",
     "output_type": "stream",
     "text": [
      "total 452K\r\n",
      "-rw-r--r-- 1 soyoung soyoung 439K Apr 10  2017 AItRBM-proof.pdf\r\n",
      "drwxr-x--- 2 soyoung soyoung 4.0K Jan 29  2016 ml-100k\r\n",
      "drwxr-x--- 2 soyoung soyoung 4.0K Mar  4  2017 ml-1m\r\n",
      "-rw-r--r-- 1 soyoung soyoung 3.8K Apr 17  2017 rbm.py\r\n"
     ]
    }
   ],
   "source": [
    "!ls Boltzmann_Machines/ -hl"
   ]
  },
  {
   "cell_type": "code",
   "execution_count": 8,
   "metadata": {},
   "outputs": [
    {
     "name": "stdout",
     "output_type": "stream",
     "text": [
      "total 65M\r\n",
      "-rw-r----- 1 soyoung soyoung 5.5K Jan 29  2016 README\r\n",
      "-rw-r--r-- 1 soyoung soyoung  431 Mar  4  2017 Train_Test_Set_Creation.R\r\n",
      "-rw-r----- 1 soyoung soyoung 168K Mar 26  2003 movies.dat\r\n",
      "-rw-r----- 1 soyoung soyoung  21M Mar  3  2017 ratings.csv\r\n",
      "-rw-r----- 1 soyoung soyoung  24M Feb 28  2003 ratings.dat\r\n",
      "-rw-r--r-- 1 soyoung soyoung 5.2M Mar  3  2017 test_set.csv\r\n",
      "-rw-r--r-- 1 soyoung soyoung  16M Mar  3  2017 training_set.csv\r\n",
      "-rw-r----- 1 soyoung soyoung 132K Feb 28  2003 users.dat\r\n"
     ]
    }
   ],
   "source": [
    "!ls Boltzmann_Machines/ml-1m/ -hl"
   ]
  },
  {
   "cell_type": "code",
   "execution_count": 7,
   "metadata": {},
   "outputs": [
    {
     "name": "stdout",
     "output_type": "stream",
     "text": [
      "total 16M\r\n",
      "-rw-r----- 1 soyoung soyoung 6.6K Jan 29  2016 README\r\n",
      "-rwxr-x--- 1 soyoung soyoung  716 Jul 19  2000 allbut.pl\r\n",
      "-rwxr-x--- 1 soyoung soyoung  643 Jul 19  2000 mku.sh\r\n",
      "-rw-r----- 1 soyoung soyoung 1.9M Jul 19  2000 u.data\r\n",
      "-rw-r----- 1 soyoung soyoung  202 Jul 19  2000 u.genre\r\n",
      "-rw-r----- 1 soyoung soyoung   36 Jul 19  2000 u.info\r\n",
      "-rw-r----- 1 soyoung soyoung 231K Jul 19  2000 u.item\r\n",
      "-rw-r----- 1 soyoung soyoung  193 Jul 19  2000 u.occupation\r\n",
      "-rw-r----- 1 soyoung soyoung  23K Jul 19  2000 u.user\r\n",
      "-rw-r----- 1 soyoung soyoung 1.6M Mar  8  2001 u1.base\r\n",
      "-rw-r----- 1 soyoung soyoung 384K Mar  8  2001 u1.test\r\n",
      "-rw-r----- 1 soyoung soyoung 1.6M Mar  8  2001 u2.base\r\n",
      "-rw-r----- 1 soyoung soyoung 386K Mar  8  2001 u2.test\r\n",
      "-rw-r----- 1 soyoung soyoung 1.6M Mar  8  2001 u3.base\r\n",
      "-rw-r----- 1 soyoung soyoung 388K Mar  8  2001 u3.test\r\n",
      "-rw-r----- 1 soyoung soyoung 1.6M Mar  8  2001 u4.base\r\n",
      "-rw-r----- 1 soyoung soyoung 388K Mar  8  2001 u4.test\r\n",
      "-rw-r----- 1 soyoung soyoung 1.6M Mar  8  2001 u5.base\r\n",
      "-rw-r----- 1 soyoung soyoung 389K Mar  8  2001 u5.test\r\n",
      "-rw-r----- 1 soyoung soyoung 1.8M Mar  8  2001 ua.base\r\n",
      "-rw-r----- 1 soyoung soyoung 183K Mar  8  2001 ua.test\r\n",
      "-rw-r----- 1 soyoung soyoung 1.8M Mar  8  2001 ub.base\r\n",
      "-rw-r----- 1 soyoung soyoung 183K Mar  8  2001 ub.test\r\n"
     ]
    }
   ],
   "source": [
    "!ls Boltzmann_Machines/ml-100k/ -hl"
   ]
  },
  {
   "cell_type": "markdown",
   "metadata": {},
   "source": [
    "### data source\n",
    "https://grouplens.org/datasets/movielens/"
   ]
  },
  {
   "cell_type": "code",
   "execution_count": 9,
   "metadata": {},
   "outputs": [
    {
     "name": "stdout",
     "output_type": "stream",
     "text": [
      "--2017-11-05 19:13:20--  http://files.grouplens.org/datasets/movielens/ml-20m-README.html\n",
      "Resolving files.grouplens.org (files.grouplens.org)... 128.101.34.235\n",
      "Connecting to files.grouplens.org (files.grouplens.org)|128.101.34.235|:80... connected.\n",
      "HTTP request sent, awaiting response... 200 OK\n",
      "Length: 11962 (12K) [text/html]\n",
      "Saving to: 'ml-20m-README.html'\n",
      "\n",
      "100%[======================================>] 11,962      --.-K/s   in 0.003s  \n",
      "\n",
      "2017-11-05 19:13:20 (4.05 MB/s) - 'ml-20m-README.html' saved [11962/11962]\n",
      "\n"
     ]
    }
   ],
   "source": [
    "!wget http://files.grouplens.org/datasets/movielens/ml-20m-README.html"
   ]
  },
  {
   "cell_type": "code",
   "execution_count": 10,
   "metadata": {},
   "outputs": [
    {
     "name": "stdout",
     "output_type": "stream",
     "text": [
      "--2017-11-05 19:13:36--  http://files.grouplens.org/datasets/movielens/ml-20m.zip\n",
      "Resolving files.grouplens.org (files.grouplens.org)... 128.101.34.235\n",
      "Connecting to files.grouplens.org (files.grouplens.org)|128.101.34.235|:80... connected.\n",
      "HTTP request sent, awaiting response... 200 OK\n",
      "Length: 198702078 (189M) [application/zip]\n",
      "Saving to: 'ml-20m.zip'\n",
      "\n",
      "100%[======================================>] 198,702,078 1.96MB/s   in 86s    \n",
      "\n",
      "2017-11-05 19:15:02 (2.20 MB/s) - 'ml-20m.zip' saved [198702078/198702078]\n",
      "\n"
     ]
    }
   ],
   "source": [
    "!wget http://files.grouplens.org/datasets/movielens/ml-20m.zip"
   ]
  },
  {
   "cell_type": "code",
   "execution_count": 11,
   "metadata": {},
   "outputs": [
    {
     "name": "stdout",
     "output_type": "stream",
     "text": [
      "Archive:  ./ml-20m.zip\n",
      "   creating: ml-20m/\n",
      "  inflating: ml-20m/genome-scores.csv  \n",
      "  inflating: ml-20m/genome-tags.csv  \n",
      "  inflating: ml-20m/links.csv        \n",
      "  inflating: ml-20m/movies.csv       \n",
      "  inflating: ml-20m/ratings.csv      \n",
      "  inflating: ml-20m/README.txt       \n",
      "  inflating: ml-20m/tags.csv         \n"
     ]
    }
   ],
   "source": [
    "!unzip ./ml-20m.zip"
   ]
  },
  {
   "cell_type": "code",
   "execution_count": null,
   "metadata": {
    "collapsed": true
   },
   "outputs": [],
   "source": []
  }
 ],
 "metadata": {
  "kernelspec": {
   "display_name": "Python 2",
   "language": "python",
   "name": "python2"
  },
  "language_info": {
   "codemirror_mode": {
    "name": "ipython",
    "version": 2
   },
   "file_extension": ".py",
   "mimetype": "text/x-python",
   "name": "python",
   "nbconvert_exporter": "python",
   "pygments_lexer": "ipython2",
   "version": "2.7.13"
  }
 },
 "nbformat": 4,
 "nbformat_minor": 2
}
