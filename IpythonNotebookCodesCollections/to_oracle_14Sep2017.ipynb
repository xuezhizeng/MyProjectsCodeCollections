{
 "cells": [
  {
   "cell_type": "markdown",
   "metadata": {},
   "source": [
    "#### learn tablespace, etc\n",
    "\n",
    "http://nonfunctionaltestingtools.blogspot.com/2012/12/using-sql-developer-to-create-and-view.html\n",
    "\n",
    "http://www.rebellionrider.com/tablespace-in-oracle/how-to-create-tablespace-using-sql-developer-rebellionrider.htm#.WbqexsiGPIU"
   ]
  },
  {
   "cell_type": "markdown",
   "metadata": {},
   "source": [
    "https://hub.docker.com/r/wnameless/oracle-xe-11g/"
   ]
  },
  {
   "cell_type": "code",
   "execution_count": 50,
   "metadata": {},
   "outputs": [
    {
     "name": "stdout",
     "output_type": "stream",
     "text": [
      "11.2.0.2.0\n"
     ]
    }
   ],
   "source": [
    "import pandas as pd\n",
    "import cx_Oracle\n",
    "\n",
    "db=cx_Oracle.connect(\"soyoung\", \"soyoung\", \"my.uconn.science:1521/xe\")\n",
    "print db.version"
   ]
  },
  {
   "cell_type": "code",
   "execution_count": 51,
   "metadata": {},
   "outputs": [],
   "source": [
    "# db.commit()\n",
    "# try:\n",
    "#     db.cursor().execute('drop table basementinfo')\n",
    "# except:\n",
    "#     print 'not exists'\n",
    "# db.commit()"
   ]
  },
  {
   "cell_type": "code",
   "execution_count": 52,
   "metadata": {
    "collapsed": true
   },
   "outputs": [],
   "source": [
    "# zp=pd.read_csv('zip_code.csv')\n",
    "# zp.shape"
   ]
  },
  {
   "cell_type": "code",
   "execution_count": 53,
   "metadata": {
    "collapsed": true
   },
   "outputs": [],
   "source": [
    "# zp.columns"
   ]
  },
  {
   "cell_type": "code",
   "execution_count": 5,
   "metadata": {
    "collapsed": true
   },
   "outputs": [],
   "source": [
    "# zp.head(2)"
   ]
  },
  {
   "cell_type": "code",
   "execution_count": 54,
   "metadata": {},
   "outputs": [
    {
     "data": {
      "text/plain": [
       "(1558719, 24)"
      ]
     },
     "execution_count": 54,
     "metadata": {},
     "output_type": "execute_result"
    }
   ],
   "source": [
    "df=pd.read_csv('UCONN Updated 10 Years.csv')\n",
    "df.shape"
   ]
  },
  {
   "cell_type": "code",
   "execution_count": 55,
   "metadata": {},
   "outputs": [
    {
     "data": {
      "text/plain": [
       "Index([u'id', u'name', u'address', u'city', u'state', u'zip', u'type',\n",
       "       u'source', u'association', u'service_type', u'received_time',\n",
       "       u'sent_time', u'company', u'status', u'price', u'campaign',\n",
       "       u'is_mobile', u'landing_page', u'contact_page', u'previous_page',\n",
       "       u'inbound_number', u'call_status', u'duration', u'job_sold'],\n",
       "      dtype='object')"
      ]
     },
     "execution_count": 55,
     "metadata": {},
     "output_type": "execute_result"
    }
   ],
   "source": [
    "df.columns"
   ]
  },
  {
   "cell_type": "code",
   "execution_count": 56,
   "metadata": {},
   "outputs": [
    {
     "data": {
      "text/plain": [
       "1558719"
      ]
     },
     "execution_count": 56,
     "metadata": {},
     "output_type": "execute_result"
    }
   ],
   "source": [
    "len(df['id'].unique())"
   ]
  },
  {
   "cell_type": "code",
   "execution_count": 57,
   "metadata": {},
   "outputs": [
    {
     "data": {
      "text/plain": [
       "<cx_Oracle.Cursor on <cx_Oracle.Connection to soyoung@my.uconn.science:1521/xe>>"
      ]
     },
     "execution_count": 57,
     "metadata": {},
     "output_type": "execute_result"
    }
   ],
   "source": [
    "cur=db.cursor()\n",
    "cur"
   ]
  },
  {
   "cell_type": "code",
   "execution_count": 58,
   "metadata": {},
   "outputs": [
    {
     "name": "stdout",
     "output_type": "stream",
     "text": [
      "create success\n"
     ]
    }
   ],
   "source": [
    "try:\n",
    "    cur.execute(\"\"\"CREATE TABLE basementinfo ( \n",
    "    id NUMBER,\n",
    "    name VARCHAR2(250),\n",
    "    address VARCHAR2(368),\n",
    "    city VARCHAR2(250),\n",
    "    state VARCHAR2(128),\n",
    "    zip VARCHAR2(128),\n",
    "    type VARCHAR2(128),\n",
    "    source VARCHAR2(250),\n",
    "    association VARCHAR2(250),\n",
    "    service_type VARCHAR2(128),\n",
    "    received_time VARCHAR2(128),\n",
    "    sent_time VARCHAR2(128),\n",
    "    company VARCHAR2(250),\n",
    "    status VARCHAR2(128),\n",
    "    price NUMBER,\n",
    "    campaign VARCHAR2(250),\n",
    "    is_mobile VARCHAR2(64),\n",
    "    landing_page VARCHAR2(2500),\n",
    "    contact_page VARCHAR2(2500),\n",
    "    previous_page VARCHAR2(2500),\n",
    "    inbound_number VARCHAR2(128),\n",
    "    call_status VARCHAR2(64),\n",
    "    duration VARCHAR2(128),\n",
    "    job_sold NUMBER,\n",
    "    CONSTRAINT baseinfo_PK PRIMARY KEY (id))\n",
    "    TABLESPACE basement PARALLEL\"\"\")\n",
    "    db.commit()\n",
    "    print 'create success'\n",
    "except Exception as e:\n",
    "    print e"
   ]
  },
  {
   "cell_type": "code",
   "execution_count": 59,
   "metadata": {
    "collapsed": true
   },
   "outputs": [],
   "source": [
    "# df.iloc[20,:]"
   ]
  },
  {
   "cell_type": "code",
   "execution_count": 60,
   "metadata": {
    "collapsed": true
   },
   "outputs": [],
   "source": [
    "def helper(x):\n",
    "    try:\n",
    "        a=x.replace(\"'\",\"''\")\n",
    "        return a\n",
    "    except:\n",
    "        return x\n",
    "    "
   ]
  },
  {
   "cell_type": "code",
   "execution_count": 61,
   "metadata": {
    "collapsed": true
   },
   "outputs": [],
   "source": [
    "# string2 = str(\"insert into basementinfo values \"\\\n",
    "#                  +str(tuple(df.iloc[20,:].map(helper)\\\n",
    "#                             .tolist())).replace('nan','null').replace(', \"',\",'\").replace('\",',\"',\"))\n",
    "# print string2"
   ]
  },
  {
   "cell_type": "code",
   "execution_count": 62,
   "metadata": {
    "collapsed": true
   },
   "outputs": [],
   "source": [
    "# string = str(\"insert into basementinfo values \"\\\n",
    "#                  +str(tuple(df.iloc[12168,:].map(helper)\\\n",
    "#                             .tolist())).replace('nan','null'))\n",
    "# print string"
   ]
  },
  {
   "cell_type": "code",
   "execution_count": 63,
   "metadata": {},
   "outputs": [],
   "source": [
    "df.loc[928964,'address']=df.iloc[928964,:]['address'].replace('\"','').replace(\"\\'\",'')"
   ]
  },
  {
   "cell_type": "code",
   "execution_count": 64,
   "metadata": {},
   "outputs": [],
   "source": [
    "df.loc[917339,'name']=df.loc[917339,'name'].replace(',',' ')"
   ]
  },
  {
   "cell_type": "code",
   "execution_count": 65,
   "metadata": {
    "collapsed": true
   },
   "outputs": [],
   "source": [
    "# df.iloc[20,:].map(helper).tolist()"
   ]
  },
  {
   "cell_type": "code",
   "execution_count": 66,
   "metadata": {},
   "outputs": [
    {
     "name": "stdout",
     "output_type": "stream",
     "text": [
      "1W: 10.43s  2W: 10.64s  3W: 10.30s  4W: 10.49s  5W: 10.39s  6W: 9.86s  7W: 9.55s  8W: 11.73s  9W: 9.74s  10W: 10.41s  11W: 9.70s  12W: 9.49s  13W: 9.57s  14W: 9.19s  15W: 9.92s  16W: 9.70s  17W: 9.87s  18W: 10.69s  19W: 9.99s  20W: 10.35s  21W: 10.49s  22W: 10.08s  23W: 10.54s  24W: 10.89s  25W: 10.58s  26W: 11.27s  27W: 11.46s  28W: 10.47s  29W: 10.09s  30W: 11.38s  31W: 10.82s  32W: 10.07s  33W: 10.60s  34W: 11.11s  35W: 10.61s  36W: 10.13s  37W: 10.91s  38W: 10.38s  39W: 10.11s  40W: 9.61s  41W: 9.83s  42W: 9.58s  43W: 10.80s  44W: 10.44s  45W: 9.57s  46W: 9.21s  47W: 9.98s  48W: 9.65s  49W: 10.30s  50W: 10.22s  51W: 10.60s  52W: 9.03s  53W: 10.46s  54W: 10.52s  55W: 9.59s  56W: 10.26s  57W: 10.49s  58W: 10.46s  59W: 9.82s  60W: 10.57s  61W: 9.37s  62W: 9.94s  63W: 9.62s  64W: 9.84s  65W: 10.02s  66W: 9.51s  67W: 10.82s  68W: 10.75s  69W: 11.11s  70W: 10.16s  71W: 9.55s  72W: 9.87s  73W: 10.50s  74W: 11.33s  75W: 9.87s  76W: 10.47s  77W: 10.73s  78W: 11.13s  79W: 10.45s  80W: 11.27s  81W: 9.72s  82W: 10.42s  83W: 9.76s  84W: 11.01s  85W: 11.01s  86W: 10.63s  87W: 9.92s  88W: 9.62s  89W: 9.75s  90W: 10.15s  91W: 10.23s  92W: 10.53s  93W: 10.99s  94W: 10.24s  95W: 10.08s  96W: 9.13s  97W: 10.74s  98W: 10.52s  99W: 10.18s  100W: 10.69s  101W: 9.37s  102W: 10.32s  103W: 11.57s  104W: 10.57s  105W: 9.73s  106W: 10.50s  107W: 10.21s  108W: 9.52s  109W: 9.50s  110W: 10.43s  111W: 10.66s  112W: 10.69s  113W: 10.26s  114W: 9.58s  115W: 9.70s  116W: 10.33s  117W: 10.59s  118W: 10.43s  119W: 9.59s  120W: 9.52s  121W: 10.55s  122W: 10.40s  123W: 10.50s  124W: 10.01s  125W: 10.47s  126W: 11.04s  127W: 10.24s  128W: 9.30s  129W: 10.17s  130W: 11.35s  131W: 10.28s  132W: 10.70s  133W: 11.44s  134W: 10.14s  135W: 9.99s  136W: 10.59s  137W: 10.46s  138W: 9.46s  139W: 9.46s  140W: 9.96s  141W: 10.39s  142W: 10.04s  143W: 9.79s  144W: 11.40s  145W: 9.70s  146W: 11.46s  147W: 9.61s  148W: 10.64s  149W: 10.64s  150W: 10.63s  151W: 10.40s  152W: 10.21s  153W: 10.61s  154W: 10.98s  155W: 10.38s \n"
     ]
    }
   ],
   "source": [
    "from time import time\n",
    "start=time()\n",
    "n=0\n",
    "for i in range(df.shape[0]):\n",
    "    string = str(\"insert into basementinfo values \"\\\n",
    "                 +str(tuple(df.iloc[i,:].map(helper)\\\n",
    "                            .tolist())).replace('nan','null')\\\n",
    "                             .replace(', \"',\",'\").replace('\",',\"',\"))\n",
    "    n+=1\n",
    "    try:\n",
    "        cur.execute(string)\n",
    "    except Exception as e:\n",
    "        print e\n",
    "        print i,string\n",
    "#     if n==100:\n",
    "#         db.commit()\n",
    "#         break\n",
    "    if n%10000==0:\n",
    "        db.commit()\n",
    "        print str(i//10000+1)+'W:',\n",
    "        print '{:.2f}s '.format(time()-start),\n",
    "        start=time()\n",
    "db.commit()"
   ]
  },
  {
   "cell_type": "code",
   "execution_count": 67,
   "metadata": {
    "collapsed": true
   },
   "outputs": [],
   "source": [
    "# db.commit()"
   ]
  },
  {
   "cell_type": "code",
   "execution_count": null,
   "metadata": {
    "collapsed": true
   },
   "outputs": [],
   "source": [
    "# a =df.iloc[7,:]\n",
    "# a"
   ]
  },
  {
   "cell_type": "code",
   "execution_count": null,
   "metadata": {
    "collapsed": true
   },
   "outputs": [],
   "source": [
    "# str(tuple(a.tolist()))"
   ]
  },
  {
   "cell_type": "code",
   "execution_count": null,
   "metadata": {
    "collapsed": true
   },
   "outputs": [],
   "source": [
    "# one = \"insert into basementinfo values \"+str(tuple(a.tolist())).replace('nan','null')\n",
    "# one"
   ]
  },
  {
   "cell_type": "code",
   "execution_count": null,
   "metadata": {
    "collapsed": true
   },
   "outputs": [],
   "source": [
    "# cur.execute(one)"
   ]
  },
  {
   "cell_type": "code",
   "execution_count": null,
   "metadata": {
    "collapsed": true
   },
   "outputs": [],
   "source": [
    "# print \"insert into basementinfo values \"+str(tuple(a.tolist())).replace('nan','null')"
   ]
  },
  {
   "cell_type": "code",
   "execution_count": null,
   "metadata": {
    "collapsed": true
   },
   "outputs": [],
   "source": []
  }
 ],
 "metadata": {
  "kernelspec": {
   "display_name": "Python 2",
   "language": "python",
   "name": "python2"
  },
  "language_info": {
   "codemirror_mode": {
    "name": "ipython",
    "version": 2
   },
   "file_extension": ".py",
   "mimetype": "text/x-python",
   "name": "python",
   "nbconvert_exporter": "python",
   "pygments_lexer": "ipython2",
   "version": "2.7.13"
  }
 },
 "nbformat": 4,
 "nbformat_minor": 2
}
