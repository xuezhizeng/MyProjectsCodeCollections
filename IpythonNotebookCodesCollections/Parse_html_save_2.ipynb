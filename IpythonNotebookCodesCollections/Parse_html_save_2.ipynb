{
 "cells": [
  {
   "cell_type": "markdown",
   "metadata": {},
   "source": [
    "https://hub.docker.com/r/sath89/oracle-12c/"
   ]
  },
  {
   "cell_type": "markdown",
   "metadata": {
    "collapsed": true
   },
   "source": [
    "https://hub.docker.com/_/mysql/"
   ]
  },
  {
   "cell_type": "markdown",
   "metadata": {},
   "source": [
    "https://stackoverflow.com/questions/8858008/how-to-move-a-file-in-python"
   ]
  },
  {
   "cell_type": "markdown",
   "metadata": {},
   "source": [
    "https://stackoverflow.com/questions/1894269/convert-string-representation-of-list-to-list-in-python"
   ]
  },
  {
   "cell_type": "code",
   "execution_count": 1,
   "metadata": {},
   "outputs": [
    {
     "name": "stdout",
     "output_type": "stream",
     "text": [
      "add_bidder\t      old\r\n",
      "addbidder.csv\t      Parse_html_save_2.ipynb\r\n",
      "addbidderPics\t      Parse_html_save.ipynb\r\n",
      "addbidder_urls.csv    Parse_html_save_parse_NoJson.ipynb\r\n",
      "addboss.csv\t      Parse_html_Stat-add1.ipynb\r\n",
      "addbossPics\t      Parse_html_Stat-add2-Copy1.ipynb\r\n",
      "addboss_urls.csv      Parse_html_Stat-add2.ipynb\r\n",
      "add_owner\t      Parse_html_Stat-Copy1.ipynb\r\n",
      "addtional\t      Parse_html_Stat.ipynb\r\n",
      "bidder1.csv\t      Parse_html_V5.ipynb\r\n",
      "bidderPics\t      parse.ipynb\r\n",
      "bidder_urls.csv       pic_down_func-add1.ipynb\r\n",
      "bid_pages2\t      pic_down_func-add2.ipynb\r\n",
      "boss1.csv\t      pic_down_func_bidder.ipynb\r\n",
      "boss1Data.csv\t      pic_down_func.ipynb\r\n",
      "boss1Data_Nojson.csv  picDown.py\r\n",
      "bossPics\t      picDown.pyc\r\n",
      "boss_urls.csv\t      pic_down_report.ipynb\r\n",
      "data\t\t      pic_report.ipynb\r\n",
      "emp_pages4\t      PicsWithFace.zip\r\n",
      "freelancer.py\t      recIpython\r\n",
      "headPics\t      Tensorflow\r\n"
     ]
    }
   ],
   "source": [
    "!ls"
   ]
  },
  {
   "cell_type": "code",
   "execution_count": 2,
   "metadata": {
    "collapsed": true
   },
   "outputs": [],
   "source": [
    "# encoding=utf8\n",
    "import sys\n",
    "reload(sys)\n",
    "sys.setdefaultencoding('utf8')\n",
    "\n",
    "import pandas as pd\n",
    "import os\n",
    "from time import time, ctime\n",
    "\n",
    "import concurrent.futures\n",
    "\n",
    "from lxml import etree\n",
    "import json\n",
    "import re\n",
    "\n",
    "import ast"
   ]
  },
  {
   "cell_type": "code",
   "execution_count": 3,
   "metadata": {},
   "outputs": [
    {
     "data": {
      "text/plain": [
       "55150"
      ]
     },
     "execution_count": 3,
     "metadata": {},
     "output_type": "execute_result"
    }
   ],
   "source": [
    "# path='technosystem.html'\n",
    "\n",
    "folder='bid_pages2/'\n",
    "cont = os.listdir(folder)\n",
    "cont = [i for i in cont if i[-4:]=='html']\n",
    "len(cont)"
   ]
  },
  {
   "cell_type": "code",
   "execution_count": 6,
   "metadata": {
    "collapsed": true
   },
   "outputs": [],
   "source": [
    "def flatten_dict(data, layers=1, drop_deeper=False):\n",
    "\n",
    "        for _ in range(layers):\n",
    "            data = [(k, v) if not isinstance(v, dict) else [(k + '.' + k2, v2) for k2, v2 in v.items()] for k, v in\n",
    "                    data.items()]\n",
    "            data = [item for sublist in data for item in sublist if isinstance(sublist, list)] + [y for y in data if\n",
    "                                                                                                  not isinstance(y,\n",
    "                                                                                                                 list)]\n",
    "            data = dict(data)\n",
    "\n",
    "        if drop_deeper:\n",
    "            data = {k: v for k, v in data.items() if not isinstance(v, dict) or isinstance(v, list)}\n",
    "\n",
    "        return data"
   ]
  },
  {
   "cell_type": "code",
   "execution_count": 7,
   "metadata": {
    "collapsed": true
   },
   "outputs": [],
   "source": [
    "df = pd.read_csv('boss1.csv').set_index('name')\n"
   ]
  },
  {
   "cell_type": "code",
   "execution_count": 8,
   "metadata": {
    "collapsed": true
   },
   "outputs": [],
   "source": [
    "from collections import defaultdict\n",
    "iniDict = defaultdict(lambda: None)"
   ]
  },
  {
   "cell_type": "code",
   "execution_count": 9,
   "metadata": {},
   "outputs": [
    {
     "data": {
      "text/plain": [
       "73"
      ]
     },
     "execution_count": 9,
     "metadata": {},
     "output_type": "execute_result"
    }
   ],
   "source": [
    "for i in list(df.index):\n",
    "    iniDict[i]\n",
    "len(iniDict)"
   ]
  },
  {
   "cell_type": "code",
   "execution_count": 10,
   "metadata": {},
   "outputs": [
    {
     "data": {
      "text/plain": [
       "(0, 73)"
      ]
     },
     "execution_count": 10,
     "metadata": {},
     "output_type": "execute_result"
    }
   ],
   "source": [
    "initial = pd.DataFrame(columns=list(df.index))\n",
    "initial.shape"
   ]
  },
  {
   "cell_type": "code",
   "execution_count": 11,
   "metadata": {
    "collapsed": true
   },
   "outputs": [],
   "source": [
    "failed_names=[]\n",
    "def get_columns(path):\n",
    "    global failed_names\n",
    "    get=[]\n",
    "    \n",
    "    with open(folder+path,'r') as fl:\n",
    "        text=fl.read()\n",
    "        tree=etree.HTML(text)\n",
    "    try:\n",
    "        script = tree.xpath('//script')[-1]\n",
    "        data = re.search(r\"__export\\('profileServerData',(.*?)\\n\", script.text)        \n",
    "        jsondata=data.group(1)[:-2]\n",
    "        \n",
    "        json_dict = json.loads(jsondata)\n",
    "        flat = flatten_dict(json_dict, layers=1)\n",
    "        for i in flat:\n",
    "            iniDict[i]=str(flat[i])\n",
    "        return pd.DataFrame(iniDict, index=[0])\n",
    "            \n",
    "#         return pd.DataFrame(iniDict, index=[0])\n",
    "#         names = flat.keys()\n",
    "        return flat\n",
    "    except Exception as e:\n",
    "        print e\n",
    "        failed_names.append(path)\n",
    "        return initial\n",
    "        \n",
    "\n",
    "    "
   ]
  },
  {
   "cell_type": "code",
   "execution_count": 12,
   "metadata": {},
   "outputs": [
    {
     "data": {
      "text/plain": [
       "<function ast.literal_eval>"
      ]
     },
     "execution_count": 12,
     "metadata": {},
     "output_type": "execute_result"
    }
   ],
   "source": [
    "ast.literal_eval"
   ]
  },
  {
   "cell_type": "code",
   "execution_count": 16,
   "metadata": {},
   "outputs": [
    {
     "data": {
      "text/plain": [
       "'used 0.00 s'"
      ]
     },
     "execution_count": 16,
     "metadata": {},
     "output_type": "execute_result"
    }
   ],
   "source": [
    "sss=time()\n",
    "'used {:.2f} s'.format(time()-sss)"
   ]
  },
  {
   "cell_type": "code",
   "execution_count": null,
   "metadata": {
    "collapsed": true
   },
   "outputs": [],
   "source": [
    "sss=time()\n",
    "start = initial.copy()\n",
    "for i in cont:\n",
    "    tmp = get_columns(i)\n",
    "    start = start.append(tmp)\n",
    "start = start.reset_index().drop('index',1)\n",
    "'used {:.2f} s'.format(time()-sss)    "
   ]
  },
  {
   "cell_type": "code",
   "execution_count": 18,
   "metadata": {},
   "outputs": [
    {
     "data": {
      "text/plain": [
       "[]"
      ]
     },
     "execution_count": 18,
     "metadata": {},
     "output_type": "execute_result"
    }
   ],
   "source": [
    "failed_names"
   ]
  },
  {
   "cell_type": "code",
   "execution_count": 27,
   "metadata": {
    "collapsed": true
   },
   "outputs": [],
   "source": [
    "start = start.reset_index().drop('index',1)"
   ]
  },
  {
   "cell_type": "code",
   "execution_count": 21,
   "metadata": {
    "collapsed": true
   },
   "outputs": [],
   "source": [
    "start.to_csv('bidder1Data.csv',index=False)"
   ]
  },
  {
   "cell_type": "code",
   "execution_count": 22,
   "metadata": {},
   "outputs": [
    {
     "data": {
      "text/plain": [
       "(55150, 73)"
      ]
     },
     "execution_count": 22,
     "metadata": {},
     "output_type": "execute_result"
    }
   ],
   "source": [
    "df = pd.read_csv('bidder1Data.csv')\n",
    "df.shape"
   ]
  },
  {
   "cell_type": "code",
   "execution_count": 34,
   "metadata": {
    "collapsed": true
   },
   "outputs": [],
   "source": [
    "!ll -h"
   ]
  },
  {
   "cell_type": "code",
   "execution_count": 19,
   "metadata": {},
   "outputs": [
    {
     "data": {
      "text/plain": [
       "(55150, 73)"
      ]
     },
     "execution_count": 19,
     "metadata": {},
     "output_type": "execute_result"
    }
   ],
   "source": [
    "start.shape"
   ]
  },
  {
   "cell_type": "code",
   "execution_count": 20,
   "metadata": {},
   "outputs": [
    {
     "data": {
      "text/html": [
       "<div>\n",
       "<style>\n",
       "    .dataframe thead tr:only-child th {\n",
       "        text-align: right;\n",
       "    }\n",
       "\n",
       "    .dataframe thead th {\n",
       "        text-align: left;\n",
       "    }\n",
       "\n",
       "    .dataframe tbody tr th {\n",
       "        vertical-align: top;\n",
       "    }\n",
       "</style>\n",
       "<table border=\"1\" class=\"dataframe\">\n",
       "  <thead>\n",
       "    <tr style=\"text-align: right;\">\n",
       "      <th></th>\n",
       "      <th>abTests</th>\n",
       "      <th>about.account_balances</th>\n",
       "      <th>about.address</th>\n",
       "      <th>about.avatar</th>\n",
       "      <th>about.avatar_cdn</th>\n",
       "      <th>about.avatar_large</th>\n",
       "      <th>about.avatar_large_cdn</th>\n",
       "      <th>about.badges</th>\n",
       "      <th>about.chosen_role</th>\n",
       "      <th>about.closed</th>\n",
       "      <th>...</th>\n",
       "      <th>resume.education</th>\n",
       "      <th>resume.exams</th>\n",
       "      <th>resume.experience</th>\n",
       "      <th>resume.publications</th>\n",
       "      <th>resume.show</th>\n",
       "      <th>skills</th>\n",
       "      <th>timeOffset</th>\n",
       "      <th>userId</th>\n",
       "      <th>username</th>\n",
       "      <th>viewer</th>\n",
       "    </tr>\n",
       "  </thead>\n",
       "  <tbody>\n",
       "    <tr>\n",
       "      <th>0</th>\n",
       "      <td>[]</td>\n",
       "      <td>None</td>\n",
       "      <td>None</td>\n",
       "      <td>/img/unknown.png</td>\n",
       "      <td>//cdn6.f-cdn.com/img/unknown.png</td>\n",
       "      <td>/img/unknown.png</td>\n",
       "      <td>//cdn6.f-cdn.com/img/unknown.png</td>\n",
       "      <td>None</td>\n",
       "      <td>1</td>\n",
       "      <td>False</td>\n",
       "      <td>...</td>\n",
       "      <td>[]</td>\n",
       "      <td>[]</td>\n",
       "      <td>[]</td>\n",
       "      <td>[]</td>\n",
       "      <td>False</td>\n",
       "      <td>[{u'usages': 0, u'seo_url': u'script_install',...</td>\n",
       "      <td>180</td>\n",
       "      <td>1426487</td>\n",
       "      <td>hostsupportcanad</td>\n",
       "      <td>0</td>\n",
       "    </tr>\n",
       "    <tr>\n",
       "      <th>1</th>\n",
       "      <td>[]</td>\n",
       "      <td>None</td>\n",
       "      <td>None</td>\n",
       "      <td>/img/unknown.png</td>\n",
       "      <td>//cdn6.f-cdn.com/img/unknown.png</td>\n",
       "      <td>/ppic/202512/logo/1575719/My%20logo%20Kab%20Cr...</td>\n",
       "      <td>//cdn2.f-cdn.com/ppic/202512/logo/1575719/My%2...</td>\n",
       "      <td>None</td>\n",
       "      <td>3</td>\n",
       "      <td>False</td>\n",
       "      <td>...</td>\n",
       "      <td>[]</td>\n",
       "      <td>[]</td>\n",
       "      <td>[]</td>\n",
       "      <td>[]</td>\n",
       "      <td>False</td>\n",
       "      <td>[{u'usages': 0, u'seo_url': u'graphic_design',...</td>\n",
       "      <td>300</td>\n",
       "      <td>1575719</td>\n",
       "      <td>kabir1989100</td>\n",
       "      <td>0</td>\n",
       "    </tr>\n",
       "    <tr>\n",
       "      <th>2</th>\n",
       "      <td>[]</td>\n",
       "      <td>None</td>\n",
       "      <td>None</td>\n",
       "      <td>/img/unknown.png</td>\n",
       "      <td>//cdn6.f-cdn.com/img/unknown.png</td>\n",
       "      <td>/img/unknown.png</td>\n",
       "      <td>//cdn6.f-cdn.com/img/unknown.png</td>\n",
       "      <td>None</td>\n",
       "      <td>1</td>\n",
       "      <td>False</td>\n",
       "      <td>...</td>\n",
       "      <td>[]</td>\n",
       "      <td>[]</td>\n",
       "      <td>[]</td>\n",
       "      <td>[]</td>\n",
       "      <td>False</td>\n",
       "      <td>[{u'usages': 0, u'seo_url': u'windows', u'islo...</td>\n",
       "      <td>300</td>\n",
       "      <td>1240653</td>\n",
       "      <td>nnasir82</td>\n",
       "      <td>0</td>\n",
       "    </tr>\n",
       "    <tr>\n",
       "      <th>3</th>\n",
       "      <td>[]</td>\n",
       "      <td>None</td>\n",
       "      <td>None</td>\n",
       "      <td>/ppic/56686930/logo/350528/profile_logo_350528...</td>\n",
       "      <td>//cdn5.f-cdn.com/ppic/56686930/logo/350528/pro...</td>\n",
       "      <td>/ppic/56686875/logo/350528/k31SJ/profile_logo_...</td>\n",
       "      <td>//cdn3.f-cdn.com/ppic/56686875/logo/350528/k31...</td>\n",
       "      <td>None</td>\n",
       "      <td>3</td>\n",
       "      <td>False</td>\n",
       "      <td>...</td>\n",
       "      <td>[]</td>\n",
       "      <td>[]</td>\n",
       "      <td>[]</td>\n",
       "      <td>[]</td>\n",
       "      <td>False</td>\n",
       "      <td>[{u'usages': 27, u'seo_url': u'php', u'islocal...</td>\n",
       "      <td>330</td>\n",
       "      <td>350528</td>\n",
       "      <td>eurekasoftwares</td>\n",
       "      <td>0</td>\n",
       "    </tr>\n",
       "    <tr>\n",
       "      <th>4</th>\n",
       "      <td>[]</td>\n",
       "      <td>None</td>\n",
       "      <td>None</td>\n",
       "      <td>/ppic/1935391/logo/1435119/profile_logo_143511...</td>\n",
       "      <td>//cdn3.f-cdn.com/ppic/1935391/logo/1435119/pro...</td>\n",
       "      <td>/ppic/1935390/logo/1435119/IMG1663A.jpg</td>\n",
       "      <td>//cdn6.f-cdn.com/ppic/1935390/logo/1435119/IMG...</td>\n",
       "      <td>None</td>\n",
       "      <td>1</td>\n",
       "      <td>False</td>\n",
       "      <td>...</td>\n",
       "      <td>[{u'activities': None, u'start_year': u'1982',...</td>\n",
       "      <td>[]</td>\n",
       "      <td>[]</td>\n",
       "      <td>[]</td>\n",
       "      <td>True</td>\n",
       "      <td>[{u'usages': 0, u'seo_url': u'javascript', u'i...</td>\n",
       "      <td>180</td>\n",
       "      <td>1435119</td>\n",
       "      <td>amitasinha</td>\n",
       "      <td>0</td>\n",
       "    </tr>\n",
       "  </tbody>\n",
       "</table>\n",
       "<p>5 rows × 73 columns</p>\n",
       "</div>"
      ],
      "text/plain": [
       "  abTests about.account_balances about.address  \\\n",
       "0      []                   None          None   \n",
       "1      []                   None          None   \n",
       "2      []                   None          None   \n",
       "3      []                   None          None   \n",
       "4      []                   None          None   \n",
       "\n",
       "                                        about.avatar  \\\n",
       "0                                   /img/unknown.png   \n",
       "1                                   /img/unknown.png   \n",
       "2                                   /img/unknown.png   \n",
       "3  /ppic/56686930/logo/350528/profile_logo_350528...   \n",
       "4  /ppic/1935391/logo/1435119/profile_logo_143511...   \n",
       "\n",
       "                                    about.avatar_cdn  \\\n",
       "0                   //cdn6.f-cdn.com/img/unknown.png   \n",
       "1                   //cdn6.f-cdn.com/img/unknown.png   \n",
       "2                   //cdn6.f-cdn.com/img/unknown.png   \n",
       "3  //cdn5.f-cdn.com/ppic/56686930/logo/350528/pro...   \n",
       "4  //cdn3.f-cdn.com/ppic/1935391/logo/1435119/pro...   \n",
       "\n",
       "                                  about.avatar_large  \\\n",
       "0                                   /img/unknown.png   \n",
       "1  /ppic/202512/logo/1575719/My%20logo%20Kab%20Cr...   \n",
       "2                                   /img/unknown.png   \n",
       "3  /ppic/56686875/logo/350528/k31SJ/profile_logo_...   \n",
       "4            /ppic/1935390/logo/1435119/IMG1663A.jpg   \n",
       "\n",
       "                              about.avatar_large_cdn about.badges  \\\n",
       "0                   //cdn6.f-cdn.com/img/unknown.png         None   \n",
       "1  //cdn2.f-cdn.com/ppic/202512/logo/1575719/My%2...         None   \n",
       "2                   //cdn6.f-cdn.com/img/unknown.png         None   \n",
       "3  //cdn3.f-cdn.com/ppic/56686875/logo/350528/k31...         None   \n",
       "4  //cdn6.f-cdn.com/ppic/1935390/logo/1435119/IMG...         None   \n",
       "\n",
       "  about.chosen_role about.closed  ...    \\\n",
       "0                 1        False  ...     \n",
       "1                 3        False  ...     \n",
       "2                 1        False  ...     \n",
       "3                 3        False  ...     \n",
       "4                 1        False  ...     \n",
       "\n",
       "                                    resume.education resume.exams  \\\n",
       "0                                                 []           []   \n",
       "1                                                 []           []   \n",
       "2                                                 []           []   \n",
       "3                                                 []           []   \n",
       "4  [{u'activities': None, u'start_year': u'1982',...           []   \n",
       "\n",
       "  resume.experience resume.publications resume.show  \\\n",
       "0                []                  []       False   \n",
       "1                []                  []       False   \n",
       "2                []                  []       False   \n",
       "3                []                  []       False   \n",
       "4                []                  []        True   \n",
       "\n",
       "                                              skills timeOffset   userId  \\\n",
       "0  [{u'usages': 0, u'seo_url': u'script_install',...        180  1426487   \n",
       "1  [{u'usages': 0, u'seo_url': u'graphic_design',...        300  1575719   \n",
       "2  [{u'usages': 0, u'seo_url': u'windows', u'islo...        300  1240653   \n",
       "3  [{u'usages': 27, u'seo_url': u'php', u'islocal...        330   350528   \n",
       "4  [{u'usages': 0, u'seo_url': u'javascript', u'i...        180  1435119   \n",
       "\n",
       "           username viewer  \n",
       "0  hostsupportcanad      0  \n",
       "1      kabir1989100      0  \n",
       "2          nnasir82      0  \n",
       "3   eurekasoftwares      0  \n",
       "4        amitasinha      0  \n",
       "\n",
       "[5 rows x 73 columns]"
      ]
     },
     "execution_count": 20,
     "metadata": {},
     "output_type": "execute_result"
    }
   ],
   "source": [
    "start.head()"
   ]
  },
  {
   "cell_type": "code",
   "execution_count": null,
   "metadata": {
    "collapsed": true
   },
   "outputs": [],
   "source": []
  },
  {
   "cell_type": "code",
   "execution_count": null,
   "metadata": {
    "collapsed": true
   },
   "outputs": [],
   "source": []
  }
 ],
 "metadata": {
  "kernelspec": {
   "display_name": "Python 2",
   "language": "python",
   "name": "python2"
  },
  "language_info": {
   "codemirror_mode": {
    "name": "ipython",
    "version": 2
   },
   "file_extension": ".py",
   "mimetype": "text/x-python",
   "name": "python",
   "nbconvert_exporter": "python",
   "pygments_lexer": "ipython2",
   "version": "2.7.13"
  }
 },
 "nbformat": 4,
 "nbformat_minor": 2
}
