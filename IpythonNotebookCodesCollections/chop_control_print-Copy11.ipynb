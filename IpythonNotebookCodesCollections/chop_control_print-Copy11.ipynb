{
 "cells": [
  {
   "cell_type": "code",
   "execution_count": 1,
   "metadata": {
    "collapsed": true
   },
   "outputs": [],
   "source": [
    "# !ls"
   ]
  },
  {
   "cell_type": "code",
   "execution_count": 1,
   "metadata": {
    "scrolled": true
   },
   "outputs": [
    {
     "name": "stdout",
     "output_type": "stream",
     "text": [
      "1 used 0.00 s | 100 used 35.28 s | 200 used 76.43 s | 300 used 118.21 s | 400 used 159.85 s | 500 used 201.26 s | 600 used 242.64 s | 700 used 283.15 s | 800 used 323.83 s | 900 used 364.12 s | 1000 used 406.45 s | 1100 used 448.11 s | 1200 used 488.59 s | 1300 used 528.37 s | 1400 used 568.47 s | 1500 used 608.21 s | 1600 used 650.11 s | 1700 used 692.94 s | 1800 used 734.48 s | 1900 used 774.94 s | 2000 used 814.86 s | 2100 used 855.92 s | 2200 used 898.47 s | 2300 used 940.99 s | 2400 used 981.10 s | 2500 used 1020.36 s | 2600 used 1061.91 s | 2700 used 1103.77 s | 2800 used 1146.47 s | 2900 used 1188.64 s | 3000 used 1229.41 s | 3100 used 1269.55 s | 3200 used 1310.67 s | 3300 used 1351.81 s | 3400 used 1392.19 s | 3500 used 1432.83 s | 3600 used 1473.42 s | 3700 used 1514.47 s | 3800 used 1557.81 s | 3900 used 1600.98 s | 4000 used 1644.62 s | 4100 used 1684.59 s | 4200 used 1726.49 s | 4300 used 1766.51 s | 4400 used 1808.25 s | 4500 used 1850.65 s | 4600 used 1894.23 s | 4700 used 1934.87 s | 4800 used 1976.32 s | 4900 used 2017.85 s | 5000 used 2059.13 s | 5100 used 2101.22 s | 5200 used 2141.82 s | 5300 used 2184.46 s | 5400 used 2223.84 s | 5500 used 2264.74 s | 5600 used 2304.73 s | 5700 used 2347.69 s | 5800 used 2388.39 s | 5900 used 2429.05 s | 6000 used 2471.39 s | 6100 used 2511.97 s | 6200 used 2552.74 s | 6300 used 2594.19 s | 6400 used 2634.67 s | 6500 used 2673.52 s | 6600 used 2714.08 s | 6700 used 2754.93 s | 6800 used 2796.65 s | 6900 used 2837.46 s | 7000 used 2879.47 s | 7100 used 2920.21 s | 7200 used 2961.64 s | 7300 used 3002.74 s | 7400 used 3044.51 s | 7500 used 3085.50 s | 7600 used 3125.90 s | 7700 used 3164.21 s | 7800 used 3204.12 s | 7900 used 3246.36 s | 8000 used 3286.69 s | 8100 used 3329.67 s | 8200 used 3371.66 s | 8300 used 3415.23 s | 8400 used 3455.38 s | 8500 used 3495.71 s | 8600 used 3536.87 s | 8700 used 3577.72 s | 8800 used 3617.97 s | 8900 used 3658.42 s | 9000 used 3699.00 s | 9100 used 3739.17 s | 9200 used 3780.43 s | 9300 used 3822.98 s | 9400 used 3862.85 s | 9500 used 3905.67 s | 9600 used 3946.06 s | 9700 used 3988.11 s | 9800 used 4028.95 s | 9900 used 4070.31 s |\n"
     ]
    },
    {
     "data": {
      "text/plain": [
       "4111.089648008347"
      ]
     },
     "execution_count": 1,
     "metadata": {},
     "output_type": "execute_result"
    }
   ],
   "source": [
    "from time import time\n",
    "start=time()\n",
    "start\n",
    "\n",
    "\n",
    "!python -u /root/openface/util/align-dlib_mod.py \\\n",
    "../real_soyoung_pics/img_15 align \\\n",
    "outerEyesAndNose \\\n",
    "../chopHead256_real_soyoung_pics \\\n",
    "--size 256\n",
    "\n",
    "end=time()-start\n",
    "end"
   ]
  },
  {
   "cell_type": "code",
   "execution_count": 2,
   "metadata": {},
   "outputs": [
    {
     "data": {
      "text/plain": [
       "2.0741666666666667"
      ]
     },
     "execution_count": 2,
     "metadata": {},
     "output_type": "execute_result"
    }
   ],
   "source": [
    "7467.0/60/60"
   ]
  },
  {
   "cell_type": "code",
   "execution_count": null,
   "metadata": {
    "collapsed": true
   },
   "outputs": [],
   "source": []
  }
 ],
 "metadata": {
  "kernelspec": {
   "display_name": "Python 2",
   "language": "python",
   "name": "python2"
  },
  "language_info": {
   "codemirror_mode": {
    "name": "ipython",
    "version": 2
   },
   "file_extension": ".py",
   "mimetype": "text/x-python",
   "name": "python",
   "nbconvert_exporter": "python",
   "pygments_lexer": "ipython2",
   "version": "2.7.6"
  }
 },
 "nbformat": 4,
 "nbformat_minor": 2
}
