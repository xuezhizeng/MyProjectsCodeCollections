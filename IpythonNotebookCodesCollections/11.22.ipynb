{
 "cells": [
  {
   "cell_type": "markdown",
   "metadata": {},
   "source": [
    "https://www.python-course.eu/forking.php"
   ]
  },
  {
   "cell_type": "markdown",
   "metadata": {},
   "source": [
    "* os.execl(path, arg0, arg1, ...)\n",
    "* os.execle(path, arg0, arg1, ..., env)\n",
    "* os.execlp(file, arg0, arg1, ...)\n",
    "* os.execlpe(file, arg0, arg1, ..., env)\n",
    "* os.execv(path, args)\n",
    "* os.execve(path, args, env)\n",
    "* os.execvp(file, args)\n",
    "* os.execvpe(file, args, env)"
   ]
  },
  {
   "cell_type": "code",
   "execution_count": 20,
   "metadata": {
    "collapsed": true
   },
   "outputs": [],
   "source": [
    "import os\n",
    "import subprocess"
   ]
  },
  {
   "cell_type": "code",
   "execution_count": 1,
   "metadata": {},
   "outputs": [
    {
     "name": "stdout",
     "output_type": "stream",
     "text": [
      "/home/shj16110/notebook/Programming\r\n"
     ]
    }
   ],
   "source": [
    "!pwd"
   ]
  },
  {
   "cell_type": "code",
   "execution_count": 16,
   "metadata": {
    "collapsed": true
   },
   "outputs": [],
   "source": [
    "ct = '''#!/bin/bash\n",
    "script_name=$0\n",
    "arg1=$1\n",
    "current=`pwd`\n",
    "echo $script_name, $arg1\n",
    "echo \"XYZ: \"$XYZ\n",
    "echo \"PATH: \"$PATH\n",
    "echo \"current directory: $current'''"
   ]
  },
  {
   "cell_type": "code",
   "execution_count": 26,
   "metadata": {},
   "outputs": [
    {
     "data": {
      "text/plain": [
       "0"
      ]
     },
     "execution_count": 26,
     "metadata": {},
     "output_type": "execute_result"
    }
   ],
   "source": [
    "subprocess.call(['echo',ct, '>','test.sh'])"
   ]
  },
  {
   "cell_type": "code",
   "execution_count": 35,
   "metadata": {
    "collapsed": true
   },
   "outputs": [],
   "source": [
    "a = subprocess.Popen(['echo',ct, '>','test.sh'],stdout=subprocess.PIPE )"
   ]
  },
  {
   "cell_type": "code",
   "execution_count": 36,
   "metadata": {},
   "outputs": [
    {
     "data": {
      "text/plain": [
       "'#!/bin/bash\\nscript_name=$0\\narg1=$1\\ncurrent=`pwd`\\necho $script_name, $arg1\\necho \"XYZ: \"$XYZ\\necho \"PATH: \"$PATH\\necho \"current directory: $current > test.sh\\n'"
      ]
     },
     "execution_count": 36,
     "metadata": {},
     "output_type": "execute_result"
    }
   ],
   "source": [
    "a.stdout.read()"
   ]
  },
  {
   "cell_type": "code",
   "execution_count": 37,
   "metadata": {
    "collapsed": true
   },
   "outputs": [],
   "source": [
    "with open('test.sh','w') as fl:\n",
    "    fl.write(ct)"
   ]
  },
  {
   "cell_type": "code",
   "execution_count": 39,
   "metadata": {},
   "outputs": [
    {
     "name": "stdout",
     "output_type": "stream",
     "text": [
      "#!/bin/bash\r\n",
      "script_name=$0\r\n",
      "arg1=$1\r\n",
      "current=`pwd`\r\n",
      "echo $script_name, $arg1\r\n",
      "echo \"XYZ: \"$XYZ\r\n",
      "echo \"PATH: \"$PATH\r\n",
      "echo \"current directory: $current"
     ]
    }
   ],
   "source": [
    "!cat test.sh"
   ]
  },
  {
   "cell_type": "code",
   "execution_count": 40,
   "metadata": {
    "collapsed": true
   },
   "outputs": [],
   "source": [
    "os.execvp?"
   ]
  },
  {
   "cell_type": "code",
   "execution_count": 41,
   "metadata": {
    "collapsed": true
   },
   "outputs": [],
   "source": [
    "os.execvpe?"
   ]
  },
  {
   "cell_type": "code",
   "execution_count": 48,
   "metadata": {},
   "outputs": [
    {
     "name": "stdout",
     "output_type": "stream",
     "text": [
      "/home/shj16110/notebook/Programming\r\n"
     ]
    }
   ],
   "source": [
    "!pwd"
   ]
  },
  {
   "cell_type": "code",
   "execution_count": 46,
   "metadata": {},
   "outputs": [
    {
     "name": "stdout",
     "output_type": "stream",
     "text": [
      "11.19.ipynb  11.21.ipynb  11.22.ipynb  test.sh\r\n"
     ]
    }
   ],
   "source": [
    "!ls"
   ]
  },
  {
   "cell_type": "code",
   "execution_count": 1,
   "metadata": {
    "collapsed": true
   },
   "outputs": [],
   "source": [
    "# env =  {\"PATH\":\"/home/shj16110/notebook/Programming/\", \"XYZ\":\"BlaBla\"}\n",
    "# args = (\"test\",\"abc\")\n",
    "# os.execvpe(\"test.sh\", args, env)"
   ]
  },
  {
   "cell_type": "markdown",
   "metadata": {},
   "source": [
    "## Threads in Python\n",
    "\n"
   ]
  },
  {
   "cell_type": "markdown",
   "metadata": {
    "collapsed": true
   },
   "source": [
    "thread.start_new_thread(function, args[, kwargs]) \n"
   ]
  },
  {
   "cell_type": "markdown",
   "metadata": {},
   "source": [
    "This method starts a new thread and return its identifier. The thread executes the function \"function\" (function is a reference to a function) with the argument list args (which must be a list or a tuple). The optional kwargs argument specifies a dictionary of keyword arguments. When the function returns, the thread silently exits. When the function terminates with an unhandled exception, a stack trace is printed and then the thread exits (but other threads continue to run). "
   ]
  },
  {
   "cell_type": "code",
   "execution_count": 1,
   "metadata": {},
   "outputs": [
    {
     "name": "stdout",
     "output_type": "stream",
     "text": [
      "11  1 867.0 500.0\n",
      "50.0\n",
      "867.0\n",
      "50.0500.0   434.49942329925.99250.999\n",
      "\n",
      "\n",
      "434.49942329925.99250.999   219.24396055614.8995786841127.489547769\n",
      "\n",
      "\n",
      "219.24396055614.8995786841127.489547769   113.5741986110.772030933567.6627421317\n",
      "\n",
      "\n",
      "113.5741986110.772030933567.6627421317   64.41647297089.9812492073241.2135726182\n",
      "\n",
      "\n",
      "64.41647297089.9812492073241.2135726182   45.65976464339.9499236825532.7265800631\n",
      "\n",
      "\n",
      "45.65976464339.9499236825532.7265800631   41.80720309349.9498743711931.6261130652\n",
      "\n",
      "41.80720309349.94987437119\n",
      "  31.626113065241.62969503989.94987437107 \n",
      "\n",
      "31.606967057441.6296950398 \n",
      "41.629316594731.6069670574\n",
      " 41.629316594731.6069612586 \n",
      "41.62931659331.6069612586\n",
      " 31.6069612586\n",
      "Type something to quit.6\n"
     ]
    }
   ],
   "source": [
    "from thread import start_new_thread\n",
    "\n",
    "def heron(a):\n",
    "    \"\"\"Calculates the square root of a\"\"\"\n",
    "    eps = 0.0000001\n",
    "    old = 1\n",
    "    new = 1\n",
    "    while True:\n",
    "        old,new = new, (new + a/new) / 2.0\n",
    "        print old, new\n",
    "        if abs(new - old) < eps:\n",
    "            break\n",
    "    return new\n",
    "\n",
    "start_new_thread(heron,(99,))\n",
    "start_new_thread(heron,(999,))\n",
    "start_new_thread(heron,(1733,))\n",
    "\n",
    "c = raw_input(\"Type something to quit.\")"
   ]
  },
  {
   "cell_type": "code",
   "execution_count": null,
   "metadata": {
    "collapsed": true
   },
   "outputs": [],
   "source": []
  }
 ],
 "metadata": {
  "kernelspec": {
   "display_name": "Python 2",
   "language": "python",
   "name": "python2"
  },
  "language_info": {
   "codemirror_mode": {
    "name": "ipython",
    "version": 2
   },
   "file_extension": ".py",
   "mimetype": "text/x-python",
   "name": "python",
   "nbconvert_exporter": "python",
   "pygments_lexer": "ipython2",
   "version": "2.7.13"
  }
 },
 "nbformat": 4,
 "nbformat_minor": 2
}
