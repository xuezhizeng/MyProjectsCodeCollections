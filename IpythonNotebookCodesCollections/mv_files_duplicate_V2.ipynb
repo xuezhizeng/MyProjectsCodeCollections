{
 "cells": [
  {
   "cell_type": "code",
   "execution_count": 4,
   "metadata": {
    "collapsed": true
   },
   "outputs": [],
   "source": [
    "import pandas as pd\n",
    "import shutil\n",
    "import os"
   ]
  },
  {
   "cell_type": "code",
   "execution_count": 2,
   "metadata": {},
   "outputs": [
    {
     "name": "stdout",
     "output_type": "stream",
     "text": [
      "29_Oct_47W_V4.csv\t     para_final_combine_rm_dup_rm_utf-8_V3.ipynb\r\n",
      "31_Oct_50W_V5.csv\t     para_final_combine_rm_dup_rm_utf-8_V4.ipynb\r\n",
      "boy_para.csv\t\t     para_final_combine_rm_dup_rm_utf-8_single_V5.ipynb\r\n",
      "keep\t\t\t     to_be_delete_loli.csv\r\n",
      "loli1_para.csv\t\t     to_be_deleted\r\n",
      "mv_files_duplicate_V2.ipynb  trash0\r\n",
      "old\r\n"
     ]
    }
   ],
   "source": [
    "!ls"
   ]
  },
  {
   "cell_type": "code",
   "execution_count": 3,
   "metadata": {
    "collapsed": true
   },
   "outputs": [],
   "source": [
    "# path = '/home/soyoung/face/newFlask/static/phos/'\n",
    "# path = '/home/soyoung/face/Handsome_Pics/handsome/ori/keep/'\n",
    "# path = 'keep/'\n",
    "path = '/home/soyoung/face/boy_pics/boy/ori/keep/'"
   ]
  },
  {
   "cell_type": "code",
   "execution_count": 5,
   "metadata": {},
   "outputs": [
    {
     "name": "stdout",
     "output_type": "stream",
     "text": [
      "(37054, 132)\n"
     ]
    },
    {
     "data": {
      "text/html": [
       "<div>\n",
       "<style>\n",
       "    .dataframe thead tr:only-child th {\n",
       "        text-align: right;\n",
       "    }\n",
       "\n",
       "    .dataframe thead th {\n",
       "        text-align: left;\n",
       "    }\n",
       "\n",
       "    .dataframe tbody tr th {\n",
       "        vertical-align: top;\n",
       "    }\n",
       "</style>\n",
       "<table border=\"1\" class=\"dataframe\">\n",
       "  <thead>\n",
       "    <tr style=\"text-align: right;\">\n",
       "      <th></th>\n",
       "      <th>Unnamed: 0</th>\n",
       "      <th>0</th>\n",
       "      <th>1</th>\n",
       "      <th>2</th>\n",
       "      <th>3</th>\n",
       "      <th>4</th>\n",
       "      <th>5</th>\n",
       "      <th>6</th>\n",
       "      <th>7</th>\n",
       "      <th>8</th>\n",
       "      <th>...</th>\n",
       "      <th>121</th>\n",
       "      <th>122</th>\n",
       "      <th>123</th>\n",
       "      <th>124</th>\n",
       "      <th>125</th>\n",
       "      <th>126</th>\n",
       "      <th>127</th>\n",
       "      <th>name</th>\n",
       "      <th>taobao</th>\n",
       "      <th>real_name</th>\n",
       "    </tr>\n",
       "  </thead>\n",
       "  <tbody>\n",
       "    <tr>\n",
       "      <th>0</th>\n",
       "      <td>494271</td>\n",
       "      <td>0.004056</td>\n",
       "      <td>0.144111</td>\n",
       "      <td>-0.059167</td>\n",
       "      <td>-0.044614</td>\n",
       "      <td>-0.028650</td>\n",
       "      <td>0.170312</td>\n",
       "      <td>-0.085778</td>\n",
       "      <td>-0.050478</td>\n",
       "      <td>0.002041</td>\n",
       "      <td>...</td>\n",
       "      <td>-0.101106</td>\n",
       "      <td>0.078300</td>\n",
       "      <td>0.088833</td>\n",
       "      <td>0.003940</td>\n",
       "      <td>0.037355</td>\n",
       "      <td>0.072553</td>\n",
       "      <td>0.090524</td>\n",
       "      <td>boy_sub_40/20141203105000355.jpg</td>\n",
       "      <td>0</td>\n",
       "      <td>20141203105000355.jpg</td>\n",
       "    </tr>\n",
       "    <tr>\n",
       "      <th>1</th>\n",
       "      <td>494277</td>\n",
       "      <td>0.018687</td>\n",
       "      <td>-0.006966</td>\n",
       "      <td>-0.107025</td>\n",
       "      <td>0.045025</td>\n",
       "      <td>0.019093</td>\n",
       "      <td>0.056595</td>\n",
       "      <td>0.083725</td>\n",
       "      <td>0.099257</td>\n",
       "      <td>-0.019208</td>\n",
       "      <td>...</td>\n",
       "      <td>-0.049199</td>\n",
       "      <td>-0.171333</td>\n",
       "      <td>0.050248</td>\n",
       "      <td>-0.029392</td>\n",
       "      <td>0.018277</td>\n",
       "      <td>-0.125665</td>\n",
       "      <td>0.055703</td>\n",
       "      <td>boy_sub_40/154_140927125624_3_lit.jpg</td>\n",
       "      <td>0</td>\n",
       "      <td>154_140927125624_3_lit.jpg</td>\n",
       "    </tr>\n",
       "    <tr>\n",
       "      <th>2</th>\n",
       "      <td>494280</td>\n",
       "      <td>0.020087</td>\n",
       "      <td>0.012289</td>\n",
       "      <td>0.003983</td>\n",
       "      <td>0.120611</td>\n",
       "      <td>-0.000045</td>\n",
       "      <td>0.022412</td>\n",
       "      <td>0.013041</td>\n",
       "      <td>0.061941</td>\n",
       "      <td>0.087252</td>\n",
       "      <td>...</td>\n",
       "      <td>0.053541</td>\n",
       "      <td>-0.108245</td>\n",
       "      <td>0.201443</td>\n",
       "      <td>0.103465</td>\n",
       "      <td>-0.028815</td>\n",
       "      <td>0.039895</td>\n",
       "      <td>0.093720</td>\n",
       "      <td>boy_sub_6/17-102316_9779.jpg</td>\n",
       "      <td>0</td>\n",
       "      <td>17-102316_9779.jpg</td>\n",
       "    </tr>\n",
       "  </tbody>\n",
       "</table>\n",
       "<p>3 rows × 132 columns</p>\n",
       "</div>"
      ],
      "text/plain": [
       "   Unnamed: 0         0         1         2         3         4         5  \\\n",
       "0      494271  0.004056  0.144111 -0.059167 -0.044614 -0.028650  0.170312   \n",
       "1      494277  0.018687 -0.006966 -0.107025  0.045025  0.019093  0.056595   \n",
       "2      494280  0.020087  0.012289  0.003983  0.120611 -0.000045  0.022412   \n",
       "\n",
       "          6         7         8             ...                   121  \\\n",
       "0 -0.085778 -0.050478  0.002041             ...             -0.101106   \n",
       "1  0.083725  0.099257 -0.019208             ...             -0.049199   \n",
       "2  0.013041  0.061941  0.087252             ...              0.053541   \n",
       "\n",
       "        122       123       124       125       126       127  \\\n",
       "0  0.078300  0.088833  0.003940  0.037355  0.072553  0.090524   \n",
       "1 -0.171333  0.050248 -0.029392  0.018277 -0.125665  0.055703   \n",
       "2 -0.108245  0.201443  0.103465 -0.028815  0.039895  0.093720   \n",
       "\n",
       "                                    name  taobao                   real_name  \n",
       "0       boy_sub_40/20141203105000355.jpg       0       20141203105000355.jpg  \n",
       "1  boy_sub_40/154_140927125624_3_lit.jpg       0  154_140927125624_3_lit.jpg  \n",
       "2           boy_sub_6/17-102316_9779.jpg       0          17-102316_9779.jpg  \n",
       "\n",
       "[3 rows x 132 columns]"
      ]
     },
     "execution_count": 5,
     "metadata": {},
     "output_type": "execute_result"
    }
   ],
   "source": [
    "df = pd.read_csv('to_be_delete_boy.csv')\n",
    "print df.shape\n",
    "df.head(3)"
   ]
  },
  {
   "cell_type": "code",
   "execution_count": 6,
   "metadata": {},
   "outputs": [
    {
     "name": "stdout",
     "output_type": "stream",
     "text": [
      "boy_sub_40/20141203105000355.jpg\n"
     ]
    }
   ],
   "source": [
    "for i in df['name']:\n",
    "    print i\n",
    "    break"
   ]
  },
  {
   "cell_type": "code",
   "execution_count": 7,
   "metadata": {},
   "outputs": [
    {
     "name": "stdout",
     "output_type": "stream",
     "text": [
      "[Errno 17] File exists: 'trash0/'\n"
     ]
    }
   ],
   "source": [
    "trash = 'trash0/'\n",
    "try:\n",
    "    os.mkdir(trash)\n",
    "except Exception as e:\n",
    "    print e"
   ]
  },
  {
   "cell_type": "code",
   "execution_count": 8,
   "metadata": {
    "collapsed": true
   },
   "outputs": [],
   "source": [
    "# !ls"
   ]
  },
  {
   "cell_type": "code",
   "execution_count": 9,
   "metadata": {},
   "outputs": [
    {
     "data": {
      "text/plain": [
       "'20141203105000355.jpg'"
      ]
     },
     "execution_count": 9,
     "metadata": {},
     "output_type": "execute_result"
    }
   ],
   "source": [
    "''.join(i.split('/')[-1:])"
   ]
  },
  {
   "cell_type": "code",
   "execution_count": 11,
   "metadata": {},
   "outputs": [
    {
     "name": "stdout",
     "output_type": "stream",
     "text": [
      "0\n",
      "CPU times: user 208 ms, sys: 712 ms, total: 920 ms\n",
      "Wall time: 1.76 s\n"
     ]
    }
   ],
   "source": [
    "%%time\n",
    "failed=[]\n",
    "for i in df['name']:\n",
    "    try:\n",
    "        shutil.move(path+i, trash+''.join(i.split('/')[-1:]))\n",
    "    except Exception as e:\n",
    "#         print e\n",
    "#         break\n",
    "        failed.append(i)\n",
    "#         print 'X',\n",
    "print len(failed)"
   ]
  },
  {
   "cell_type": "code",
   "execution_count": 13,
   "metadata": {},
   "outputs": [
    {
     "data": {
      "text/plain": [
       "[]"
      ]
     },
     "execution_count": 13,
     "metadata": {},
     "output_type": "execute_result"
    }
   ],
   "source": [
    "failed"
   ]
  },
  {
   "cell_type": "code",
   "execution_count": null,
   "metadata": {
    "collapsed": true
   },
   "outputs": [],
   "source": []
  }
 ],
 "metadata": {
  "kernelspec": {
   "display_name": "Python 2",
   "language": "python",
   "name": "python2"
  },
  "language_info": {
   "codemirror_mode": {
    "name": "ipython",
    "version": 2
   },
   "file_extension": ".py",
   "mimetype": "text/x-python",
   "name": "python",
   "nbconvert_exporter": "python",
   "pygments_lexer": "ipython2",
   "version": "2.7.13"
  }
 },
 "nbformat": 4,
 "nbformat_minor": 2
}
