{
 "cells": [
  {
   "cell_type": "code",
   "execution_count": 1,
   "metadata": {},
   "outputs": [
    {
     "name": "stdout",
     "output_type": "stream",
     "text": [
      "CPU times: user 540 ms, sys: 2.2 s, total: 2.74 s\n",
      "Wall time: 460 ms\n"
     ]
    },
    {
     "name": "stderr",
     "output_type": "stream",
     "text": [
      "/home/shj16110/anaconda2/lib/python2.7/site-packages/sklearn/cross_validation.py:41: DeprecationWarning: This module was deprecated in version 0.18 in favor of the model_selection module into which all the refactored classes and functions are moved. Also note that the interface of the new CV iterators are different from that of this module. This module will be removed in 0.20.\n",
      "  \"This module will be removed in 0.20.\", DeprecationWarning)\n"
     ]
    }
   ],
   "source": [
    "%%time\n",
    "import pandas as pd\n",
    "\n",
    "from sklearn.metrics import roc_auc_score, make_scorer, accuracy_score\n",
    "from sklearn.preprocessing import OneHotEncoder, LabelEncoder\n",
    "from sklearn.preprocessing import StandardScaler, Normalizer, MinMaxScaler\n",
    "\n",
    "\n",
    "from sklearn.model_selection import train_test_split\n",
    "from sklearn.model_selection import cross_val_score\n",
    "\n",
    "from xgboost import XGBClassifier\n",
    "from sklearn.feature_selection import RFE\n",
    "\n",
    "\n",
    "from time import strftime, strptime, mktime, time, ctime\n",
    "\n",
    "from sklearn import model_selection\n",
    "\n",
    "from sklearn.linear_model import LogisticRegression\n",
    "from sklearn.neighbors import KNeighborsClassifier\n",
    "from sklearn.naive_bayes import GaussianNB \n",
    "from sklearn.svm import LinearSVC\n",
    "\n",
    "from xgboost import XGBClassifier\n",
    "import xgboost as xgb\n",
    "\n",
    "from sklearn.tree import DecisionTreeClassifier, ExtraTreeClassifier\n",
    "from sklearn.ensemble import AdaBoostClassifier, BaggingClassifier,\\\n",
    "ExtraTreesClassifier, GradientBoostingClassifier, VotingClassifier, RandomForestClassifier\n",
    "\n",
    "from mlxtend.classifier import StackingClassifier, StackingCVClassifier\n",
    "from mlxtend.feature_selection import ColumnSelector\n",
    "\n",
    "from sklearn.pipeline import make_pipeline\n",
    "import numpy as np\n",
    "\n",
    "import gc\n"
   ]
  },
  {
   "cell_type": "code",
   "execution_count": 24,
   "metadata": {},
   "outputs": [
    {
     "name": "stdout",
     "output_type": "stream",
     "text": [
      "(69713, 22)\n",
      "(30037, 21)\n",
      "CPU times: user 4.09 s, sys: 147 ms, total: 4.24 s\n",
      "Wall time: 4.23 s\n"
     ]
    }
   ],
   "source": [
    "%%time\n",
    "df = pd.read_csv('./train.csv')\n",
    "print df.shape\n",
    "test = pd.read_csv('./test.csv')\n",
    "print test.shape\n",
    "\n",
    "y = df.pop('Approved')\n",
    "train_id = df.pop('ID')\n",
    "test_id = test.pop('ID')\n",
    "\n",
    "def helper(x):\n",
    "    try:\n",
    "        tmp = strptime(x, '%d/%m/%y')\n",
    "        tmp = mktime(tmp)\n",
    "    except:\n",
    "        tmp = 563000400\n",
    "    return tmp\n",
    "\n",
    "df['DOB'] = df['DOB'].fillna('11/01/82')\n",
    "\n",
    "df['Lead_Creation_Date_ori'] = df['Lead_Creation_Date'].apply(helper)\n",
    "test['Lead_Creation_Date_ori'] = test['Lead_Creation_Date'].apply(helper)\n",
    "\n",
    "df['DOB_ori'] = df['DOB'].apply(helper)\n",
    "test['DOB_ori'] = test['DOB'].apply(helper)\n",
    "\n",
    "def extract_date(d):\n",
    "    tmp = strptime(d, '%d/%m/%y')\n",
    "    y = tmp.tm_year\n",
    "    m = tmp.tm_mon\n",
    "    dy = tmp.tm_mday\n",
    "    w = tmp.tm_wday\n",
    "    yd = tmp.tm_yday\n",
    "    dst = tmp.tm_isdst\n",
    "    return '/'.join(map(str,[y,m,dy,w,yd,dst]))\n",
    "\n",
    "df['DOB_e'] = df['DOB'].apply(extract_date)\n",
    "df['Lead_Creation_Date_e'] = df['Lead_Creation_Date'].apply(extract_date)\n",
    "\n",
    "for i in range(6):\n",
    "    df['DOB_e_'+str(i)] = df['DOB_e'].apply(lambda x: int(x.split('/')[i]))\n",
    "    df['Lead_Creation_Date_e'+str(i)] = df['Lead_Creation_Date_e'].apply(lambda x: int(x.split('/')[i]))\n",
    "\n",
    "_ = df.pop('DOB_e')\n",
    "_ = df.pop('Lead_Creation_Date_e')\n",
    "_ = df.pop('DOB')\n",
    "_ = df.pop('Lead_Creation_Date')"
   ]
  },
  {
   "cell_type": "markdown",
   "metadata": {},
   "source": [
    "### fill null"
   ]
  },
  {
   "cell_type": "code",
   "execution_count": 27,
   "metadata": {},
   "outputs": [
    {
     "name": "stdout",
     "output_type": "stream",
     "text": [
      "CPU times: user 54.2 s, sys: 36.9 s, total: 1min 31s\n",
      "Wall time: 1min 31s\n"
     ]
    }
   ],
   "source": [
    "%%time\n",
    "df = df.fillna(axis=1, value=-1)\n",
    "test = test.fillna(axis=1, value=-1)\n",
    "\n",
    "df = pd.get_dummies(df)\n",
    "test = pd.get_dummies(test)\n",
    "test = test.reindex(columns = df.columns, fill_value=0)\n",
    "\n",
    "s = StandardScaler()\n",
    "df = s.fit_transform(df)\n",
    "test = s.transform(test)"
   ]
  },
  {
   "cell_type": "code",
   "execution_count": 28,
   "metadata": {},
   "outputs": [
    {
     "name": "stdout",
     "output_type": "stream",
     "text": [
      "             total       used       free     shared    buffers     cached\r\n",
      "Mem:          125G        77G        48G       1.4M        66M        81M\r\n",
      "-/+ buffers/cache:        77G        48G \r\n",
      "Swap:         4.0G       192M       3.8G \r\n"
     ]
    }
   ],
   "source": [
    "!free -h"
   ]
  },
  {
   "cell_type": "markdown",
   "metadata": {},
   "source": [
    "### train test split"
   ]
  },
  {
   "cell_type": "code",
   "execution_count": 29,
   "metadata": {},
   "outputs": [
    {
     "name": "stdout",
     "output_type": "stream",
     "text": [
      "[(55770, 37428), (55770,), (13943, 37428), (13943,)]\n",
      "CPU times: user 27.4 s, sys: 12.2 s, total: 39.5 s\n",
      "Wall time: 39.5 s\n"
     ]
    }
   ],
   "source": [
    "%%time\n",
    "m = lambda *x: [i.shape for i in x]\n",
    "x_train, x_test, y_train, y_test = train_test_split(df, y, test_size=0.2, random_state = 7)\n",
    "print m(x_train, y_train, x_test, y_test)\n"
   ]
  },
  {
   "cell_type": "code",
   "execution_count": 35,
   "metadata": {},
   "outputs": [
    {
     "name": "stdout",
     "output_type": "stream",
     "text": [
      "             total       used       free     shared    buffers     cached\r\n",
      "Mem:          125G        77G        48G       1.4M        66M        81M\r\n",
      "-/+ buffers/cache:        77G        48G \r\n",
      "Swap:         4.0G       192M       3.8G \r\n"
     ]
    }
   ],
   "source": [
    "!free -h"
   ]
  },
  {
   "cell_type": "code",
   "execution_count": 33,
   "metadata": {},
   "outputs": [
    {
     "data": {
      "text/plain": [
       "90"
      ]
     },
     "execution_count": 33,
     "metadata": {},
     "output_type": "execute_result"
    }
   ],
   "source": [
    "import gc\n",
    "del df\n",
    "gc.collect()"
   ]
  },
  {
   "cell_type": "code",
   "execution_count": 34,
   "metadata": {},
   "outputs": [
    {
     "name": "stdout",
     "output_type": "stream",
     "text": [
      "             total       used       free     shared    buffers     cached\r\n",
      "Mem:          125G        77G        48G       1.4M        66M        81M\r\n",
      "-/+ buffers/cache:        77G        48G \r\n",
      "Swap:         4.0G       192M       3.8G \r\n"
     ]
    }
   ],
   "source": [
    "!free -h"
   ]
  },
  {
   "cell_type": "markdown",
   "metadata": {},
   "source": [
    "### create xgb matrix"
   ]
  },
  {
   "cell_type": "code",
   "execution_count": 36,
   "metadata": {},
   "outputs": [
    {
     "name": "stdout",
     "output_type": "stream",
     "text": [
      "CPU times: user 19.9 s, sys: 8.98 s, total: 28.9 s\n",
      "Wall time: 28.9 s\n"
     ]
    }
   ],
   "source": [
    "%%time\n",
    "d_train = xgb.DMatrix(x_train, label=y_train)\n",
    "d_test = xgb.DMatrix(x_test, label=y_test)\n"
   ]
  },
  {
   "cell_type": "code",
   "execution_count": 40,
   "metadata": {},
   "outputs": [
    {
     "name": "stdout",
     "output_type": "stream",
     "text": [
      "             total       used       free     shared    buffers     cached\r\n",
      "Mem:          125G        77G        48G       1.4M        66M        81M\r\n",
      "-/+ buffers/cache:        77G        48G \r\n",
      "Swap:         4.0G       192M       3.8G \r\n"
     ]
    }
   ],
   "source": [
    "!free -h"
   ]
  },
  {
   "cell_type": "code",
   "execution_count": 39,
   "metadata": {},
   "outputs": [
    {
     "data": {
      "text/plain": [
       "0"
      ]
     },
     "execution_count": 39,
     "metadata": {},
     "output_type": "execute_result"
    }
   ],
   "source": [
    "del x_train, x_test\n",
    "gc.collect()"
   ]
  },
  {
   "cell_type": "code",
   "execution_count": 41,
   "metadata": {},
   "outputs": [
    {
     "name": "stdout",
     "output_type": "stream",
     "text": [
      "             total       used       free     shared    buffers     cached\r\n",
      "Mem:          125G        77G        48G       1.4M        66M        81M\r\n",
      "-/+ buffers/cache:        77G        48G \r\n",
      "Swap:         4.0G       192M       3.8G \r\n"
     ]
    }
   ],
   "source": [
    "!free -h"
   ]
  },
  {
   "cell_type": "code",
   "execution_count": 42,
   "metadata": {
    "collapsed": true
   },
   "outputs": [],
   "source": [
    "RANDOM_STATE = 2018\n",
    "params = {\n",
    "    'min_child_weight': 0.8,\n",
    "#     'eta': 0.1,\n",
    "    'colsample_bytree': 0.8,\n",
    "    'max_depth': 12,\n",
    "    'subsample': 0.8,\n",
    "    'alpha': 0.3,\n",
    "    'lambda':0.9,\n",
    "    'gamma': 0.3,\n",
    "    'silent': 0,\n",
    "    'learning_rate':0.05,\n",
    "    'verbose_eval': True,\n",
    "    'seed': RANDOM_STATE,\n",
    "    'objective':\"binary:logistic\",\n",
    "#     'eval_metric':'error'\n",
    "#     'num_class':1\n",
    "    'n_jobs':24,\n",
    "    'eval_metric':'auc'\n",
    "    \n",
    "}\n",
    "watchlist = [(d_train, 'train'), (d_test, 'test')]\n",
    "\n"
   ]
  },
  {
   "cell_type": "code",
   "execution_count": 44,
   "metadata": {},
   "outputs": [
    {
     "name": "stdout",
     "output_type": "stream",
     "text": [
      "[0]\ttrain-auc:0.746783\ttest-auc:0.739669\n",
      "Multiple eval metrics have been passed: 'test-auc' will be used for early stopping.\n",
      "\n",
      "Will train until test-auc hasn't improved in 20 rounds.\n",
      "[1]\ttrain-auc:0.775006\ttest-auc:0.764923\n",
      "[2]\ttrain-auc:0.787902\ttest-auc:0.773816\n",
      "[3]\ttrain-auc:0.793864\ttest-auc:0.774534\n",
      "[4]\ttrain-auc:0.824076\ttest-auc:0.796327\n",
      "[5]\ttrain-auc:0.82686\ttest-auc:0.795537\n",
      "[6]\ttrain-auc:0.828731\ttest-auc:0.794946\n",
      "[7]\ttrain-auc:0.841846\ttest-auc:0.795495\n",
      "[8]\ttrain-auc:0.847009\ttest-auc:0.794016\n",
      "[9]\ttrain-auc:0.851285\ttest-auc:0.794811\n",
      "[10]\ttrain-auc:0.855302\ttest-auc:0.796215\n",
      "[11]\ttrain-auc:0.868296\ttest-auc:0.804614\n",
      "[12]\ttrain-auc:0.870605\ttest-auc:0.806003\n",
      "[13]\ttrain-auc:0.872105\ttest-auc:0.806224\n",
      "[14]\ttrain-auc:0.874093\ttest-auc:0.806339\n",
      "[15]\ttrain-auc:0.876361\ttest-auc:0.80768\n",
      "[16]\ttrain-auc:0.877557\ttest-auc:0.806639\n",
      "[17]\ttrain-auc:0.880151\ttest-auc:0.807109\n",
      "[18]\ttrain-auc:0.882914\ttest-auc:0.807296\n",
      "[19]\ttrain-auc:0.884704\ttest-auc:0.807072\n",
      "[20]\ttrain-auc:0.886671\ttest-auc:0.807309\n",
      "[21]\ttrain-auc:0.888731\ttest-auc:0.811073\n",
      "[22]\ttrain-auc:0.891064\ttest-auc:0.813705\n",
      "[23]\ttrain-auc:0.892957\ttest-auc:0.812947\n",
      "[24]\ttrain-auc:0.896171\ttest-auc:0.815742\n",
      "[25]\ttrain-auc:0.898266\ttest-auc:0.8164\n",
      "[26]\ttrain-auc:0.899852\ttest-auc:0.816908\n",
      "[27]\ttrain-auc:0.904217\ttest-auc:0.819852\n",
      "[28]\ttrain-auc:0.906511\ttest-auc:0.82153\n",
      "[29]\ttrain-auc:0.908364\ttest-auc:0.823196\n",
      "[30]\ttrain-auc:0.912162\ttest-auc:0.8229\n",
      "[31]\ttrain-auc:0.915208\ttest-auc:0.823046\n",
      "[32]\ttrain-auc:0.916859\ttest-auc:0.822791\n",
      "[33]\ttrain-auc:0.917758\ttest-auc:0.824577\n",
      "[34]\ttrain-auc:0.919796\ttest-auc:0.824732\n",
      "[35]\ttrain-auc:0.920255\ttest-auc:0.825617\n",
      "[36]\ttrain-auc:0.922988\ttest-auc:0.826602\n",
      "[37]\ttrain-auc:0.926694\ttest-auc:0.827724\n",
      "[38]\ttrain-auc:0.929571\ttest-auc:0.827222\n",
      "[39]\ttrain-auc:0.931247\ttest-auc:0.826401\n",
      "[40]\ttrain-auc:0.932541\ttest-auc:0.826336\n",
      "[41]\ttrain-auc:0.934602\ttest-auc:0.827062\n",
      "[42]\ttrain-auc:0.937343\ttest-auc:0.827015\n",
      "[43]\ttrain-auc:0.938796\ttest-auc:0.827505\n",
      "[44]\ttrain-auc:0.939263\ttest-auc:0.826637\n",
      "[45]\ttrain-auc:0.942223\ttest-auc:0.82657\n",
      "[46]\ttrain-auc:0.944069\ttest-auc:0.826372\n",
      "[47]\ttrain-auc:0.948665\ttest-auc:0.827265\n",
      "[48]\ttrain-auc:0.950499\ttest-auc:0.828082\n",
      "[49]\ttrain-auc:0.953425\ttest-auc:0.82829\n",
      "[50]\ttrain-auc:0.955495\ttest-auc:0.828203\n",
      "[51]\ttrain-auc:0.956945\ttest-auc:0.828899\n",
      "[52]\ttrain-auc:0.959427\ttest-auc:0.829682\n",
      "[53]\ttrain-auc:0.960399\ttest-auc:0.829718\n",
      "[54]\ttrain-auc:0.962208\ttest-auc:0.829725\n",
      "[55]\ttrain-auc:0.963346\ttest-auc:0.831533\n",
      "[56]\ttrain-auc:0.964337\ttest-auc:0.831531\n",
      "[57]\ttrain-auc:0.965215\ttest-auc:0.832414\n",
      "[58]\ttrain-auc:0.966777\ttest-auc:0.8325\n",
      "[59]\ttrain-auc:0.967766\ttest-auc:0.83224\n",
      "[60]\ttrain-auc:0.969471\ttest-auc:0.833065\n",
      "[61]\ttrain-auc:0.96998\ttest-auc:0.834291\n",
      "[62]\ttrain-auc:0.971477\ttest-auc:0.833844\n",
      "[63]\ttrain-auc:0.972133\ttest-auc:0.834274\n",
      "[64]\ttrain-auc:0.972854\ttest-auc:0.834056\n",
      "[65]\ttrain-auc:0.974273\ttest-auc:0.83526\n",
      "[66]\ttrain-auc:0.974902\ttest-auc:0.835182\n",
      "[67]\ttrain-auc:0.975807\ttest-auc:0.835582\n",
      "[68]\ttrain-auc:0.976454\ttest-auc:0.835524\n",
      "[69]\ttrain-auc:0.977505\ttest-auc:0.83408\n",
      "[70]\ttrain-auc:0.97835\ttest-auc:0.833418\n",
      "[71]\ttrain-auc:0.978782\ttest-auc:0.833926\n",
      "[72]\ttrain-auc:0.979449\ttest-auc:0.834252\n",
      "[73]\ttrain-auc:0.980399\ttest-auc:0.834694\n",
      "[74]\ttrain-auc:0.980623\ttest-auc:0.834378\n",
      "[75]\ttrain-auc:0.981351\ttest-auc:0.83488\n",
      "[76]\ttrain-auc:0.982044\ttest-auc:0.835805\n",
      "[77]\ttrain-auc:0.983359\ttest-auc:0.835925\n",
      "[78]\ttrain-auc:0.983929\ttest-auc:0.836476\n",
      "[79]\ttrain-auc:0.984435\ttest-auc:0.836543\n",
      "[80]\ttrain-auc:0.984786\ttest-auc:0.837931\n",
      "[81]\ttrain-auc:0.985516\ttest-auc:0.838684\n",
      "[82]\ttrain-auc:0.985734\ttest-auc:0.839023\n",
      "[83]\ttrain-auc:0.986026\ttest-auc:0.83963\n",
      "[84]\ttrain-auc:0.986682\ttest-auc:0.840333\n",
      "[85]\ttrain-auc:0.986976\ttest-auc:0.841105\n",
      "[86]\ttrain-auc:0.987447\ttest-auc:0.840917\n",
      "[87]\ttrain-auc:0.987737\ttest-auc:0.841934\n",
      "[88]\ttrain-auc:0.988301\ttest-auc:0.841601\n",
      "[89]\ttrain-auc:0.988584\ttest-auc:0.842001\n",
      "[90]\ttrain-auc:0.988912\ttest-auc:0.841974\n",
      "[91]\ttrain-auc:0.989288\ttest-auc:0.842419\n",
      "[92]\ttrain-auc:0.989667\ttest-auc:0.842892\n",
      "[93]\ttrain-auc:0.989912\ttest-auc:0.843178\n",
      "[94]\ttrain-auc:0.990364\ttest-auc:0.843094\n",
      "[95]\ttrain-auc:0.990588\ttest-auc:0.843085\n",
      "[96]\ttrain-auc:0.990854\ttest-auc:0.844022\n",
      "[97]\ttrain-auc:0.991299\ttest-auc:0.844194\n",
      "[98]\ttrain-auc:0.991526\ttest-auc:0.844563\n",
      "[99]\ttrain-auc:0.991822\ttest-auc:0.844896\n",
      "[100]\ttrain-auc:0.992089\ttest-auc:0.84452\n",
      "[101]\ttrain-auc:0.992239\ttest-auc:0.844986\n",
      "[102]\ttrain-auc:0.992546\ttest-auc:0.844915\n",
      "[103]\ttrain-auc:0.99275\ttest-auc:0.845172\n",
      "[104]\ttrain-auc:0.992971\ttest-auc:0.845495\n",
      "[105]\ttrain-auc:0.993236\ttest-auc:0.845491\n",
      "[106]\ttrain-auc:0.99347\ttest-auc:0.844919\n",
      "[107]\ttrain-auc:0.99384\ttest-auc:0.844549\n",
      "[108]\ttrain-auc:0.993997\ttest-auc:0.844459\n",
      "[109]\ttrain-auc:0.994118\ttest-auc:0.844663\n",
      "[110]\ttrain-auc:0.994304\ttest-auc:0.844778\n",
      "[111]\ttrain-auc:0.994395\ttest-auc:0.844882\n",
      "[112]\ttrain-auc:0.994524\ttest-auc:0.844651\n",
      "[113]\ttrain-auc:0.994724\ttest-auc:0.845165\n",
      "[114]\ttrain-auc:0.994826\ttest-auc:0.845587\n",
      "[115]\ttrain-auc:0.994891\ttest-auc:0.84589\n",
      "[116]\ttrain-auc:0.995128\ttest-auc:0.845913\n",
      "[117]\ttrain-auc:0.99522\ttest-auc:0.845704\n",
      "[118]\ttrain-auc:0.995504\ttest-auc:0.845575\n",
      "[119]\ttrain-auc:0.995564\ttest-auc:0.845913\n",
      "[120]\ttrain-auc:0.995752\ttest-auc:0.846295\n",
      "[121]\ttrain-auc:0.99585\ttest-auc:0.846526\n",
      "[122]\ttrain-auc:0.995943\ttest-auc:0.846971\n",
      "[123]\ttrain-auc:0.996203\ttest-auc:0.846565\n",
      "[124]\ttrain-auc:0.996376\ttest-auc:0.846606\n",
      "[125]\ttrain-auc:0.996582\ttest-auc:0.846878\n",
      "[126]\ttrain-auc:0.996666\ttest-auc:0.846768\n",
      "[127]\ttrain-auc:0.996833\ttest-auc:0.846634\n",
      "[128]\ttrain-auc:0.996909\ttest-auc:0.846904\n",
      "[129]\ttrain-auc:0.996968\ttest-auc:0.847019\n",
      "[130]\ttrain-auc:0.99701\ttest-auc:0.8468\n",
      "[131]\ttrain-auc:0.997074\ttest-auc:0.84723\n",
      "[132]\ttrain-auc:0.997169\ttest-auc:0.848006\n",
      "[133]\ttrain-auc:0.997194\ttest-auc:0.847958\n",
      "[134]\ttrain-auc:0.997294\ttest-auc:0.847507\n",
      "[135]\ttrain-auc:0.997311\ttest-auc:0.847423\n",
      "[136]\ttrain-auc:0.997391\ttest-auc:0.847805\n",
      "[137]\ttrain-auc:0.997431\ttest-auc:0.847678\n",
      "[138]\ttrain-auc:0.997482\ttest-auc:0.847833\n",
      "[139]\ttrain-auc:0.997587\ttest-auc:0.847796\n",
      "[140]\ttrain-auc:0.997663\ttest-auc:0.847579\n",
      "[141]\ttrain-auc:0.997755\ttest-auc:0.847704\n",
      "[142]\ttrain-auc:0.997867\ttest-auc:0.847553\n",
      "[143]\ttrain-auc:0.997917\ttest-auc:0.847807\n",
      "[144]\ttrain-auc:0.998012\ttest-auc:0.847784\n",
      "[145]\ttrain-auc:0.998092\ttest-auc:0.84769\n",
      "[146]\ttrain-auc:0.99813\ttest-auc:0.847923\n",
      "[147]\ttrain-auc:0.998213\ttest-auc:0.847337\n",
      "[148]\ttrain-auc:0.998257\ttest-auc:0.847597\n",
      "[149]\ttrain-auc:0.998267\ttest-auc:0.847305\n",
      "[150]\ttrain-auc:0.998329\ttest-auc:0.847285\n",
      "[151]\ttrain-auc:0.998389\ttest-auc:0.847054\n",
      "[152]\ttrain-auc:0.998404\ttest-auc:0.84697\n",
      "Stopping. Best iteration:\n",
      "[132]\ttrain-auc:0.997169\ttest-auc:0.848006\n",
      "\n"
     ]
    },
    {
     "data": {
      "text/plain": [
       "'!!! used 858.95 s'"
      ]
     },
     "execution_count": 44,
     "metadata": {},
     "output_type": "execute_result"
    }
   ],
   "source": [
    "start=time()\n",
    "\n",
    "clf = xgb.train(params, d_train, 10000, watchlist, early_stopping_rounds=20, \n",
    "                verbose_eval=1,  maximize=True,\n",
    "               )\n",
    "                \n",
    "\n",
    "'!!! used %.2f s'%(time()-start)"
   ]
  },
  {
   "cell_type": "code",
   "execution_count": null,
   "metadata": {
    "collapsed": true
   },
   "outputs": [],
   "source": []
  },
  {
   "cell_type": "code",
   "execution_count": 66,
   "metadata": {},
   "outputs": [],
   "source": [
    "clf.save_rabit_checkpoint?"
   ]
  },
  {
   "cell_type": "code",
   "execution_count": 45,
   "metadata": {},
   "outputs": [
    {
     "name": "stdout",
     "output_type": "stream",
     "text": [
      "CPU times: user 13.9 s, sys: 6.85 s, total: 20.7 s\n",
      "Wall time: 20.7 s\n"
     ]
    }
   ],
   "source": [
    "%%time\n",
    "dtest = xgb.DMatrix(test)"
   ]
  },
  {
   "cell_type": "code",
   "execution_count": 46,
   "metadata": {},
   "outputs": [
    {
     "name": "stdout",
     "output_type": "stream",
     "text": [
      "CPU times: user 4.31 s, sys: 3 ms, total: 4.31 s\n",
      "Wall time: 268 ms\n"
     ]
    }
   ],
   "source": [
    "%%time\n",
    "predb = clf.predict(dtest)\n"
   ]
  },
  {
   "cell_type": "markdown",
   "metadata": {},
   "source": [
    "___"
   ]
  },
  {
   "cell_type": "code",
   "execution_count": 47,
   "metadata": {},
   "outputs": [
    {
     "data": {
      "text/plain": [
       "(30037, 2)"
      ]
     },
     "execution_count": 47,
     "metadata": {},
     "output_type": "execute_result"
    }
   ],
   "source": [
    "submit = pd.concat([pd.DataFrame(test_id.values, columns=['ID']), pd.DataFrame(predb, columns=['Approved'])], axis=1)\n",
    "submit.shape"
   ]
  },
  {
   "cell_type": "code",
   "execution_count": 48,
   "metadata": {
    "collapsed": true
   },
   "outputs": [],
   "source": [
    "submit.to_csv('xgb-ext-date.csv',index=False)"
   ]
  },
  {
   "cell_type": "code",
   "execution_count": null,
   "metadata": {
    "collapsed": true
   },
   "outputs": [],
   "source": []
  },
  {
   "cell_type": "code",
   "execution_count": 22,
   "metadata": {
    "collapsed": true
   },
   "outputs": [],
   "source": [
    "clf.save_model('xgb_0.852586.model')"
   ]
  },
  {
   "cell_type": "code",
   "execution_count": null,
   "metadata": {
    "collapsed": true
   },
   "outputs": [],
   "source": []
  },
  {
   "cell_type": "code",
   "execution_count": null,
   "metadata": {
    "collapsed": true
   },
   "outputs": [],
   "source": []
  },
  {
   "cell_type": "code",
   "execution_count": 441,
   "metadata": {
    "collapsed": true
   },
   "outputs": [],
   "source": [
    "roc_auc_score?"
   ]
  },
  {
   "cell_type": "code",
   "execution_count": null,
   "metadata": {
    "collapsed": true
   },
   "outputs": [],
   "source": []
  },
  {
   "cell_type": "code",
   "execution_count": 442,
   "metadata": {},
   "outputs": [
    {
     "data": {
      "text/plain": [
       "(30037, 2)"
      ]
     },
     "execution_count": 442,
     "metadata": {},
     "output_type": "execute_result"
    }
   ],
   "source": [
    "submit2 = pd.concat([pd.DataFrame(test_id.values, columns=['ID']), pd.DataFrame(pred, columns=['Approved'])], axis=1)\n",
    "submit2.shape"
   ]
  },
  {
   "cell_type": "code",
   "execution_count": 449,
   "metadata": {},
   "outputs": [
    {
     "data": {
      "text/plain": [
       "0.9834325467976762"
      ]
     },
     "execution_count": 449,
     "metadata": {},
     "output_type": "execute_result"
    }
   ],
   "source": [
    "accuracy_score(y_test, [0]*y_test.shape[0])"
   ]
  },
  {
   "cell_type": "code",
   "execution_count": null,
   "metadata": {
    "collapsed": true
   },
   "outputs": [],
   "source": []
  },
  {
   "cell_type": "code",
   "execution_count": null,
   "metadata": {
    "collapsed": true
   },
   "outputs": [],
   "source": []
  },
  {
   "cell_type": "code",
   "execution_count": null,
   "metadata": {
    "collapsed": true
   },
   "outputs": [],
   "source": []
  },
  {
   "cell_type": "code",
   "execution_count": null,
   "metadata": {
    "collapsed": true
   },
   "outputs": [],
   "source": []
  },
  {
   "cell_type": "code",
   "execution_count": null,
   "metadata": {
    "collapsed": true
   },
   "outputs": [],
   "source": []
  },
  {
   "cell_type": "code",
   "execution_count": null,
   "metadata": {
    "collapsed": true
   },
   "outputs": [],
   "source": []
  },
  {
   "cell_type": "markdown",
   "metadata": {},
   "source": [
    "___"
   ]
  },
  {
   "cell_type": "code",
   "execution_count": 276,
   "metadata": {},
   "outputs": [
    {
     "data": {
      "text/plain": [
       "array([0.87807502, 1.        , 0.99992828, 1.        , 0.98759145])"
      ]
     },
     "execution_count": 276,
     "metadata": {},
     "output_type": "execute_result"
    }
   ],
   "source": [
    "cross_val_score(RandomForestClassifier(n_estimators=50, n_jobs=24), df.iloc[:,:-1], df.iloc[:,-1], cv=5)"
   ]
  },
  {
   "cell_type": "code",
   "execution_count": null,
   "metadata": {
    "collapsed": true
   },
   "outputs": [],
   "source": []
  },
  {
   "cell_type": "code",
   "execution_count": 76,
   "metadata": {},
   "outputs": [
    {
     "data": {
      "text/plain": [
       "RandomForestClassifier(bootstrap=True, class_weight=None, criterion='gini',\n",
       "            max_depth=None, max_features='auto', max_leaf_nodes=None,\n",
       "            min_impurity_decrease=0.0, min_impurity_split=None,\n",
       "            min_samples_leaf=1, min_samples_split=2,\n",
       "            min_weight_fraction_leaf=0.0, n_estimators=50, n_jobs=1,\n",
       "            oob_score=False, random_state=None, verbose=0,\n",
       "            warm_start=False)"
      ]
     },
     "execution_count": 76,
     "metadata": {},
     "output_type": "execute_result"
    }
   ],
   "source": [
    "fr = RandomForestClassifier(n_estimators=50)\n",
    "fr"
   ]
  },
  {
   "cell_type": "code",
   "execution_count": 77,
   "metadata": {},
   "outputs": [
    {
     "data": {
      "text/plain": [
       "RandomForestClassifier(bootstrap=True, class_weight=None, criterion='gini',\n",
       "            max_depth=None, max_features='auto', max_leaf_nodes=None,\n",
       "            min_impurity_decrease=0.0, min_impurity_split=None,\n",
       "            min_samples_leaf=1, min_samples_split=2,\n",
       "            min_weight_fraction_leaf=0.0, n_estimators=50, n_jobs=1,\n",
       "            oob_score=False, random_state=None, verbose=0,\n",
       "            warm_start=False)"
      ]
     },
     "execution_count": 77,
     "metadata": {},
     "output_type": "execute_result"
    }
   ],
   "source": [
    "fr.fit(df.iloc[:,:-1], df.iloc[:,-1])"
   ]
  },
  {
   "cell_type": "code",
   "execution_count": null,
   "metadata": {
    "collapsed": true
   },
   "outputs": [],
   "source": [
    "fr.predict_log_proba"
   ]
  }
 ],
 "metadata": {
  "kernelspec": {
   "display_name": "Python 2",
   "language": "python",
   "name": "python2"
  },
  "language_info": {
   "codemirror_mode": {
    "name": "ipython",
    "version": 2
   },
   "file_extension": ".py",
   "mimetype": "text/x-python",
   "name": "python",
   "nbconvert_exporter": "python",
   "pygments_lexer": "ipython2",
   "version": "2.7.13"
  }
 },
 "nbformat": 4,
 "nbformat_minor": 2
}
