{
 "cells": [
  {
   "cell_type": "code",
   "execution_count": 5,
   "metadata": {},
   "outputs": [],
   "source": [
    "from sklearn.model_selection import train_test_split\n",
    "import os\n",
    "import shutil\n",
    "from dsutils import showpic\n"
   ]
  },
  {
   "cell_type": "code",
   "execution_count": 22,
   "metadata": {},
   "outputs": [
    {
     "data": {
      "text/plain": [
       "(['cat.0.jpg', 'cat.1.jpg', 'cat.10.jpg'], 25000)"
      ]
     },
     "execution_count": 22,
     "metadata": {},
     "output_type": "execute_result"
    }
   ],
   "source": [
    "TP = 'train/'\n",
    "tr = os.listdir(TP)\n",
    "tr[:3], len(tr)"
   ]
  },
  {
   "cell_type": "code",
   "execution_count": 31,
   "metadata": {},
   "outputs": [
    {
     "data": {
      "text/plain": [
       "(12500, 12500)"
      ]
     },
     "execution_count": 31,
     "metadata": {},
     "output_type": "execute_result"
    }
   ],
   "source": [
    "cat=[i for i in tr if i.startswith('cat')]\n",
    "dog=[i for i in tr if i.startswith('dog')]\n",
    "len(cat), len(dog)"
   ]
  },
  {
   "cell_type": "code",
   "execution_count": 33,
   "metadata": {},
   "outputs": [],
   "source": [
    "os.mkdir(TP+'cats')\n",
    "os.mkdir(TP+'dogs')\n"
   ]
  },
  {
   "cell_type": "code",
   "execution_count": 34,
   "metadata": {},
   "outputs": [
    {
     "name": "stdout",
     "output_type": "stream",
     "text": [
      "Wall time: 7.5 s\n"
     ]
    }
   ],
   "source": [
    "%%time\n",
    "for i in cat:\n",
    "    shutil.move(TP+i, TP+'cats/'+i)\n",
    "    \n",
    "for i in dog:\n",
    "    shutil.move(TP+i, TP+'dogs/'+i)    "
   ]
  },
  {
   "cell_type": "markdown",
   "metadata": {},
   "source": [
    "## cat "
   ]
  },
  {
   "cell_type": "code",
   "execution_count": 36,
   "metadata": {},
   "outputs": [
    {
     "data": {
      "text/plain": [
       "12500"
      ]
     },
     "execution_count": 36,
     "metadata": {},
     "output_type": "execute_result"
    }
   ],
   "source": [
    "TP = 'train/cats/'\n",
    "tr = os.listdir(TP)\n",
    "len(tr)"
   ]
  },
  {
   "cell_type": "code",
   "execution_count": 37,
   "metadata": {},
   "outputs": [],
   "source": [
    "os.mkdir(TP+'train')\n",
    "os.mkdir(TP+'validation')\n",
    "os.mkdir(TP+'test')"
   ]
  },
  {
   "cell_type": "code",
   "execution_count": 38,
   "metadata": {},
   "outputs": [
    {
     "name": "stdout",
     "output_type": "stream",
     "text": [
      "11250 1250\n",
      "10000 1250 1250\n"
     ]
    }
   ],
   "source": [
    "train, validation = train_test_split(tr,  test_size=0.1, random_state=7)\n",
    "print (len(train), len(validation))\n",
    "train, test = train_test_split(train, test_size=len(validation), random_state=7)\n",
    "print (len(train), len(validation), len(test))"
   ]
  },
  {
   "cell_type": "code",
   "execution_count": 39,
   "metadata": {},
   "outputs": [
    {
     "name": "stdout",
     "output_type": "stream",
     "text": [
      "Wall time: 3.74 s\n"
     ]
    }
   ],
   "source": [
    "%%time\n",
    "for i in train:\n",
    "    shutil.move(TP+i, TP+'train/'+i)\n",
    "    \n",
    "for i in validation:\n",
    "    shutil.move(TP+i, TP+'validation/'+i)    \n",
    "    \n",
    "for i in test:\n",
    "    shutil.move(TP+i, TP+'test/'+i)    "
   ]
  },
  {
   "cell_type": "markdown",
   "metadata": {},
   "source": [
    "## dog"
   ]
  },
  {
   "cell_type": "code",
   "execution_count": 32,
   "metadata": {},
   "outputs": [],
   "source": [
    "# %%time\n",
    "# for i in train:\n",
    "#     shutil.move(TP+'train/'+i, TP+i)\n",
    "    \n",
    "# for i in validation:\n",
    "#     shutil.move(TP+'validation/'+i, TP+i)    \n",
    "    \n",
    "# for i in test:\n",
    "#     shutil.move(TP+'test/'+i, TP+i)    "
   ]
  },
  {
   "cell_type": "code",
   "execution_count": 41,
   "metadata": {},
   "outputs": [
    {
     "name": "stdout",
     "output_type": "stream",
     "text": [
      "12500\n",
      "11250 1250\n",
      "10000 1250 1250\n"
     ]
    }
   ],
   "source": [
    "TP = 'train/dogs/'\n",
    "tr = os.listdir(TP)\n",
    "print (len(tr))\n",
    "\n",
    "os.mkdir(TP+'train')\n",
    "os.mkdir(TP+'validation')\n",
    "os.mkdir(TP+'test')\n",
    "\n",
    "train, validation = train_test_split(tr,  test_size=0.1, random_state=7)\n",
    "print (len(train), len(validation))\n",
    "train, test = train_test_split(train, test_size=len(validation), random_state=7)\n",
    "print (len(train), len(validation), len(test))"
   ]
  },
  {
   "cell_type": "code",
   "execution_count": 42,
   "metadata": {},
   "outputs": [
    {
     "name": "stdout",
     "output_type": "stream",
     "text": [
      "Wall time: 3.52 s\n"
     ]
    }
   ],
   "source": [
    "%%time\n",
    "for i in train:\n",
    "    shutil.move(TP+i, TP+'train/'+i)\n",
    "    \n",
    "for i in validation:\n",
    "    shutil.move(TP+i, TP+'validation/'+i)    \n",
    "    \n",
    "for i in test:\n",
    "    shutil.move(TP+i, TP+'test/'+i)    "
   ]
  },
  {
   "cell_type": "markdown",
   "metadata": {},
   "source": [
    "## switch train/test -- cat/dog"
   ]
  },
  {
   "cell_type": "code",
   "execution_count": 11,
   "metadata": {},
   "outputs": [],
   "source": [
    "picpath='qq/'"
   ]
  },
  {
   "cell_type": "code",
   "execution_count": 14,
   "metadata": {},
   "outputs": [
    {
     "data": {
      "image/jpeg": "[encoded data removed]",
      "text/plain": [
       "<IPython.core.display.Image object>"
      ]
     },
     "execution_count": 14,
     "metadata": {
      "image/jpeg": {
       "width": 400
      }
     },
     "output_type": "execute_result"
    }
   ],
   "source": [
    "showpic(1, 4, picpath=picpath)"
   ]
  },
  {
   "cell_type": "code",
   "execution_count": 45,
   "metadata": {},
   "outputs": [],
   "source": [
    "TP='train/'"
   ]
  },
  {
   "cell_type": "code",
   "execution_count": 46,
   "metadata": {},
   "outputs": [],
   "source": [
    "os.mkdir(TP+'train')\n",
    "os.mkdir(TP+'validation')\n",
    "os.mkdir(TP+'test')"
   ]
  },
  {
   "cell_type": "code",
   "execution_count": 48,
   "metadata": {},
   "outputs": [
    {
     "data": {
      "text/plain": [
       "'train/train/cat'"
      ]
     },
     "execution_count": 48,
     "metadata": {},
     "output_type": "execute_result"
    }
   ],
   "source": [
    "shutil.move(TP+'cats/train', TP+'train/cat')"
   ]
  },
  {
   "cell_type": "code",
   "execution_count": 49,
   "metadata": {},
   "outputs": [
    {
     "data": {
      "text/plain": [
       "'train/train/dog'"
      ]
     },
     "execution_count": 49,
     "metadata": {},
     "output_type": "execute_result"
    }
   ],
   "source": [
    "shutil.move(TP+'dogs/train', TP+'train/dog')"
   ]
  },
  {
   "cell_type": "code",
   "execution_count": 50,
   "metadata": {},
   "outputs": [
    {
     "data": {
      "text/plain": [
       "'train/validation/dog'"
      ]
     },
     "execution_count": 50,
     "metadata": {},
     "output_type": "execute_result"
    }
   ],
   "source": [
    "shutil.move(TP+'cats/validation', TP+'validation/cat')\n",
    "shutil.move(TP+'dogs/validation', TP+'validation/dog')"
   ]
  },
  {
   "cell_type": "code",
   "execution_count": 51,
   "metadata": {},
   "outputs": [
    {
     "data": {
      "text/plain": [
       "'train/test/dog'"
      ]
     },
     "execution_count": 51,
     "metadata": {},
     "output_type": "execute_result"
    }
   ],
   "source": [
    "shutil.move(TP+'cats/test', TP+'test/cat')\n",
    "shutil.move(TP+'dogs/test', TP+'test/dog')"
   ]
  },
  {
   "cell_type": "code",
   "execution_count": null,
   "metadata": {},
   "outputs": [],
   "source": []
  }
 ],
 "metadata": {
  "kernelspec": {
   "display_name": "Python 3",
   "language": "python",
   "name": "python3"
  },
  "language_info": {
   "codemirror_mode": {
    "name": "ipython",
    "version": 3
   },
   "file_extension": ".py",
   "mimetype": "text/x-python",
   "name": "python",
   "nbconvert_exporter": "python",
   "pygments_lexer": "ipython3",
   "version": "3.6.4"
  }
 },
 "nbformat": 4,
 "nbformat_minor": 2
}
