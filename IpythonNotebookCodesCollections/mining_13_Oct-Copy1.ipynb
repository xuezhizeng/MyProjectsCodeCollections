{
 "cells": [
  {
   "cell_type": "code",
   "execution_count": 1,
   "metadata": {
    "collapsed": true
   },
   "outputs": [],
   "source": [
    "import pandas as pd\n",
    "import os\n",
    "from time import ctime, time\n",
    "%matplotlib inline\n",
    "import seaborn as sns"
   ]
  },
  {
   "cell_type": "code",
   "execution_count": 2,
   "metadata": {},
   "outputs": [
    {
     "name": "stdout",
     "output_type": "stream",
     "text": [
      "-rw-r--r-- 1 soyoung soyoung 353M Oct 13 11:30 bidStat.csv\r\n",
      "-rw-rw-r-- 1 soyoung soyoung 457M Oct 16 07:37 bidder.pm.csv\r\n",
      "-rw-r--r-- 1 soyoung soyoung 140M Oct 13 11:34 empStat.csv\r\n",
      "-rw-rw-r-- 1 soyoung soyoung 136M Oct 16 07:38 employer.pm.csv\r\n",
      "-rw-rw-r-- 1 soyoung soyoung 652M Oct 14 08:59 project_pm.csv\r\n"
     ]
    }
   ],
   "source": [
    "!ls -lh|grep csv"
   ]
  },
  {
   "cell_type": "code",
   "execution_count": 5,
   "metadata": {},
   "outputs": [
    {
     "name": "stdout",
     "output_type": "stream",
     "text": [
      "  9778518  73290631 478337366 bidder.pm.csv\r\n"
     ]
    }
   ],
   "source": [
    "# %%time\n",
    "!wc bidder.pm.csv"
   ]
  },
  {
   "cell_type": "markdown",
   "metadata": {},
   "source": [
    " 115839309  \n",
    " \n",
    " 812671165 5548521598 bidders_pm.csv\n",
    "CPU times: user 1.02 s, sys: 120 ms, total: 1.14 s\n",
    "Wall time: 43.8 s"
   ]
  },
  {
   "cell_type": "code",
   "execution_count": 4,
   "metadata": {
    "collapsed": true
   },
   "outputs": [],
   "source": [
    "# %%time\n",
    "# !wc employers_pm.csv"
   ]
  },
  {
   "cell_type": "markdown",
   "metadata": {},
   "source": [
    "  31812578  \n",
    "  \n",
    "  262127634 1697945273 \n",
    "  \n",
    "  employers_pm.csv CPU times: user 300 ms, sys: 28 ms, total: 328 ms\n",
    "Wall time: 12.8 s"
   ]
  },
  {
   "cell_type": "code",
   "execution_count": 5,
   "metadata": {
    "collapsed": true
   },
   "outputs": [],
   "source": [
    "# conn = pd.read_csv('bidders_pm.csv', chunksize=10000, iterator=True)\n",
    "# bid = conn.get_chunk()\n",
    "# conn.close()"
   ]
  },
  {
   "cell_type": "code",
   "execution_count": 6,
   "metadata": {
    "collapsed": true
   },
   "outputs": [],
   "source": [
    "# conn = pd.read_csv('employers_pm.csv', chunksize=10000, iterator=True)\n",
    "# emp = conn.get_chunk()\n",
    "# conn.close()"
   ]
  },
  {
   "cell_type": "code",
   "execution_count": 6,
   "metadata": {},
   "outputs": [
    {
     "name": "stdout",
     "output_type": "stream",
     "text": [
      "(390590, 4)\n",
      "CPU times: user 6.05 s, sys: 224 ms, total: 6.27 s\n",
      "Wall time: 6.6 s\n"
     ]
    }
   ],
   "source": [
    "%%time\n",
    "bid = pd.read_csv('bidder.pm.csv')\n",
    "print bid.shape"
   ]
  },
  {
   "cell_type": "code",
   "execution_count": 2,
   "metadata": {},
   "outputs": [
    {
     "name": "stdout",
     "output_type": "stream",
     "text": [
      "(3529065, 5)\n",
      "CPU times: user 20.6 s, sys: 968 ms, total: 21.6 s\n",
      "Wall time: 23.2 s\n"
     ]
    }
   ],
   "source": [
    "%%time\n",
    "emp = pd.read_csv('employers_pm.csv')\n",
    "print emp.shape"
   ]
  },
  {
   "cell_type": "code",
   "execution_count": null,
   "metadata": {
    "collapsed": true
   },
   "outputs": [],
   "source": [
    "# emp"
   ]
  },
  {
   "cell_type": "code",
   "execution_count": 7,
   "metadata": {},
   "outputs": [
    {
     "data": {
      "text/html": [
       "<div>\n",
       "<style>\n",
       "    .dataframe thead tr:only-child th {\n",
       "        text-align: right;\n",
       "    }\n",
       "\n",
       "    .dataframe thead th {\n",
       "        text-align: left;\n",
       "    }\n",
       "\n",
       "    .dataframe tbody tr th {\n",
       "        vertical-align: top;\n",
       "    }\n",
       "</style>\n",
       "<table border=\"1\" class=\"dataframe\">\n",
       "  <thead>\n",
       "    <tr style=\"text-align: right;\">\n",
       "      <th></th>\n",
       "      <th>pid</th>\n",
       "      <th>eid</th>\n",
       "      <th>bid</th>\n",
       "      <th>text</th>\n",
       "    </tr>\n",
       "  </thead>\n",
       "  <tbody>\n",
       "    <tr>\n",
       "      <th>0</th>\n",
       "      <td>183235</td>\n",
       "      <td>342969</td>\n",
       "      <td>267948</td>\n",
       "      <td>Hi, My name is Rakesh Nanda from India. To kno...</td>\n",
       "    </tr>\n",
       "    <tr>\n",
       "      <th>1</th>\n",
       "      <td>183235</td>\n",
       "      <td>342969</td>\n",
       "      <td>1274314</td>\n",
       "      <td>hello\\r\\\\r\\n\\r\\\\r\\ninterested to be a part of ...</td>\n",
       "    </tr>\n",
       "    <tr>\n",
       "      <th>2</th>\n",
       "      <td>183235</td>\n",
       "      <td>342969</td>\n",
       "      <td>1297670</td>\n",
       "      <td>Hi,\\r\\\\r\\n\\r\\\\r\\nCan you pay via GAF, as I do ...</td>\n",
       "    </tr>\n",
       "    <tr>\n",
       "      <th>3</th>\n",
       "      <td>183235</td>\n",
       "      <td>342969</td>\n",
       "      <td>1394125</td>\n",
       "      <td>From the name of &amp;quot;ALLAH&amp;quot; the most me...</td>\n",
       "    </tr>\n",
       "    <tr>\n",
       "      <th>4</th>\n",
       "      <td>183235</td>\n",
       "      <td>342969</td>\n",
       "      <td>1413909</td>\n",
       "      <td>Sir,\\r\\\\r\\nAs an Retd Sr Executive &amp;amp; also ...</td>\n",
       "    </tr>\n",
       "  </tbody>\n",
       "</table>\n",
       "</div>"
      ],
      "text/plain": [
       "      pid     eid      bid                                               text\n",
       "0  183235  342969   267948  Hi, My name is Rakesh Nanda from India. To kno...\n",
       "1  183235  342969  1274314  hello\\r\\\\r\\n\\r\\\\r\\ninterested to be a part of ...\n",
       "2  183235  342969  1297670  Hi,\\r\\\\r\\n\\r\\\\r\\nCan you pay via GAF, as I do ...\n",
       "3  183235  342969  1394125  From the name of &quot;ALLAH&quot; the most me...\n",
       "4  183235  342969  1413909  Sir,\\r\\\\r\\nAs an Retd Sr Executive &amp; also ..."
      ]
     },
     "execution_count": 7,
     "metadata": {},
     "output_type": "execute_result"
    }
   ],
   "source": [
    "bid.head()"
   ]
  },
  {
   "cell_type": "code",
   "execution_count": 8,
   "metadata": {
    "collapsed": true
   },
   "outputs": [],
   "source": [
    "# bid.any(1).isnull().sum()"
   ]
  },
  {
   "cell_type": "code",
   "execution_count": 10,
   "metadata": {},
   "outputs": [
    {
     "data": {
      "text/plain": [
       "0"
      ]
     },
     "execution_count": 10,
     "metadata": {},
     "output_type": "execute_result"
    }
   ],
   "source": [
    "bid['text'].isnull().sum()"
   ]
  },
  {
   "cell_type": "code",
   "execution_count": 11,
   "metadata": {},
   "outputs": [],
   "source": [
    "# bid['pmb_submit_time'].max()"
   ]
  },
  {
   "cell_type": "code",
   "execution_count": 12,
   "metadata": {},
   "outputs": [],
   "source": [
    "# bid['pmb_submit_time'].min()"
   ]
  },
  {
   "cell_type": "code",
   "execution_count": 13,
   "metadata": {
    "collapsed": true
   },
   "outputs": [],
   "source": [
    "# bid['bidder_id'].value_counts()"
   ]
  },
  {
   "cell_type": "code",
   "execution_count": 13,
   "metadata": {
    "collapsed": true
   },
   "outputs": [],
   "source": [
    "def time_helper(x):\n",
    "    try:\n",
    "        return str(x).split()[0]\n",
    "    except:\n",
    "        pass"
   ]
  },
  {
   "cell_type": "code",
   "execution_count": 26,
   "metadata": {},
   "outputs": [
    {
     "data": {
      "text/plain": [
       "(8535147, 6)"
      ]
     },
     "execution_count": 26,
     "metadata": {},
     "output_type": "execute_result"
    }
   ],
   "source": [
    "bid['date'] = bid['pmb_submit_time'].apply(time_helper)\n",
    "bid.shape"
   ]
  },
  {
   "cell_type": "code",
   "execution_count": 30,
   "metadata": {},
   "outputs": [
    {
     "data": {
      "text/plain": [
       "'2004-02-10'"
      ]
     },
     "execution_count": 30,
     "metadata": {},
     "output_type": "execute_result"
    }
   ],
   "source": [
    "bid['date'].min()"
   ]
  },
  {
   "cell_type": "code",
   "execution_count": 31,
   "metadata": {},
   "outputs": [
    {
     "data": {
      "text/plain": [
       "'nan'"
      ]
     },
     "execution_count": 31,
     "metadata": {},
     "output_type": "execute_result"
    }
   ],
   "source": [
    "bid['date'].max()"
   ]
  },
  {
   "cell_type": "code",
   "execution_count": 113,
   "metadata": {
    "collapsed": true
   },
   "outputs": [],
   "source": [
    "# bid['date'].value_counts()"
   ]
  },
  {
   "cell_type": "code",
   "execution_count": 52,
   "metadata": {
    "collapsed": true
   },
   "outputs": [],
   "source": [
    "date_stat = bid['date'].value_counts()"
   ]
  },
  {
   "cell_type": "code",
   "execution_count": 59,
   "metadata": {},
   "outputs": [
    {
     "data": {
      "text/plain": [
       "2010-05-11    18406\n",
       "2010-03-10    17951\n",
       "2010-05-04    17896\n",
       "2010-05-10    17807\n",
       "2010-04-13    17316\n",
       "Name: date, dtype: int64"
      ]
     },
     "execution_count": 59,
     "metadata": {},
     "output_type": "execute_result"
    }
   ],
   "source": [
    "date_stat.head()"
   ]
  },
  {
   "cell_type": "code",
   "execution_count": 62,
   "metadata": {},
   "outputs": [
    {
     "data": {
      "text/html": [
       "<div>\n",
       "<style>\n",
       "    .dataframe thead tr:only-child th {\n",
       "        text-align: right;\n",
       "    }\n",
       "\n",
       "    .dataframe thead th {\n",
       "        text-align: left;\n",
       "    }\n",
       "\n",
       "    .dataframe tbody tr th {\n",
       "        vertical-align: top;\n",
       "    }\n",
       "</style>\n",
       "<table border=\"1\" class=\"dataframe\">\n",
       "  <thead>\n",
       "    <tr style=\"text-align: right;\">\n",
       "      <th></th>\n",
       "      <th>count</th>\n",
       "    </tr>\n",
       "  </thead>\n",
       "  <tbody>\n",
       "    <tr>\n",
       "      <th>2010-05-11</th>\n",
       "      <td>18406</td>\n",
       "    </tr>\n",
       "    <tr>\n",
       "      <th>2010-03-10</th>\n",
       "      <td>17951</td>\n",
       "    </tr>\n",
       "    <tr>\n",
       "      <th>2010-05-04</th>\n",
       "      <td>17896</td>\n",
       "    </tr>\n",
       "    <tr>\n",
       "      <th>2010-05-10</th>\n",
       "      <td>17807</td>\n",
       "    </tr>\n",
       "    <tr>\n",
       "      <th>2010-04-13</th>\n",
       "      <td>17316</td>\n",
       "    </tr>\n",
       "  </tbody>\n",
       "</table>\n",
       "</div>"
      ],
      "text/plain": [
       "            count\n",
       "2010-05-11  18406\n",
       "2010-03-10  17951\n",
       "2010-05-04  17896\n",
       "2010-05-10  17807\n",
       "2010-04-13  17316"
      ]
     },
     "execution_count": 62,
     "metadata": {},
     "output_type": "execute_result"
    }
   ],
   "source": [
    "date_stat = bid['date'].value_counts()\n",
    "dating = pd.DataFrame(date_stat)\n",
    "dating.columns=['count']\n",
    "dating.head()"
   ]
  },
  {
   "cell_type": "code",
   "execution_count": 106,
   "metadata": {
    "collapsed": true
   },
   "outputs": [],
   "source": [
    "sns.distplot?"
   ]
  },
  {
   "cell_type": "code",
   "execution_count": 109,
   "metadata": {
    "collapsed": true
   },
   "outputs": [],
   "source": [
    "# sns.distplot(dating['count'])"
   ]
  },
  {
   "cell_type": "code",
   "execution_count": 11,
   "metadata": {
    "collapsed": true
   },
   "outputs": [],
   "source": [
    "import plotly \n",
    "plotly.tools.set_credentials_file(username='sayasong23333', api_key='IwV1cnQHZ0Y7eLOIMWXh')\n",
    "\n",
    "import plotly.plotly as py\n",
    "import plotly.graph_objs as go"
   ]
  },
  {
   "cell_type": "code",
   "execution_count": 111,
   "metadata": {
    "collapsed": true
   },
   "outputs": [],
   "source": [
    "data = [go.Bar(x=dating.index,y=dating['count'], opacity=.6)]"
   ]
  },
  {
   "cell_type": "code",
   "execution_count": 112,
   "metadata": {},
   "outputs": [
    {
     "data": {
      "text/html": [
       "<iframe id=\"igraph\" scrolling=\"no\" style=\"border:none;\" seamless=\"seamless\" src=\"https://plot.ly/~sayasong23333/18.embed\" height=\"525px\" width=\"100%\"></iframe>"
      ],
      "text/plain": [
       "<plotly.tools.PlotlyDisplay object>"
      ]
     },
     "execution_count": 112,
     "metadata": {},
     "output_type": "execute_result"
    }
   ],
   "source": [
    "py.iplot(data)"
   ]
  },
  {
   "cell_type": "code",
   "execution_count": 115,
   "metadata": {},
   "outputs": [
    {
     "data": {
      "text/html": [
       "<div>\n",
       "<style>\n",
       "    .dataframe thead tr:only-child th {\n",
       "        text-align: right;\n",
       "    }\n",
       "\n",
       "    .dataframe thead th {\n",
       "        text-align: left;\n",
       "    }\n",
       "\n",
       "    .dataframe tbody tr th {\n",
       "        vertical-align: top;\n",
       "    }\n",
       "</style>\n",
       "<table border=\"1\" class=\"dataframe\">\n",
       "  <thead>\n",
       "    <tr style=\"text-align: right;\">\n",
       "      <th></th>\n",
       "      <th>bidder_id</th>\n",
       "      <th>employer_id</th>\n",
       "      <th>project_id</th>\n",
       "      <th>pmb_submit_time</th>\n",
       "      <th>bidder_chat_text</th>\n",
       "      <th>date</th>\n",
       "    </tr>\n",
       "  </thead>\n",
       "  <tbody>\n",
       "    <tr>\n",
       "      <th>0</th>\n",
       "      <td>63</td>\n",
       "      <td>879721</td>\n",
       "      <td>381063.0</td>\n",
       "      <td>2009-02-05 22:20:34</td>\n",
       "      <td>This is OK with me. You can send these article...</td>\n",
       "      <td>2009-02-05</td>\n",
       "    </tr>\n",
       "    <tr>\n",
       "      <th>1</th>\n",
       "      <td>63</td>\n",
       "      <td>879721</td>\n",
       "      <td>381063.0</td>\n",
       "      <td>2009-02-06 01:34:01</td>\n",
       "      <td>I went through your post again. I will select ...</td>\n",
       "      <td>2009-02-06</td>\n",
       "    </tr>\n",
       "    <tr>\n",
       "      <th>2</th>\n",
       "      <td>63</td>\n",
       "      <td>879721</td>\n",
       "      <td>381063.0</td>\n",
       "      <td>2009-02-06 03:37:00</td>\n",
       "      <td>Sent one article by email to sendmyarticle at ...</td>\n",
       "      <td>2009-02-06</td>\n",
       "    </tr>\n",
       "    <tr>\n",
       "      <th>3</th>\n",
       "      <td>63</td>\n",
       "      <td>879721</td>\n",
       "      <td>381063.0</td>\n",
       "      <td>2009-02-12 00:36:23</td>\n",
       "      <td>So far I have sent 10 test articles to Aaron. ...</td>\n",
       "      <td>2009-02-12</td>\n",
       "    </tr>\n",
       "    <tr>\n",
       "      <th>4</th>\n",
       "      <td>63</td>\n",
       "      <td>\\N</td>\n",
       "      <td>384787.0</td>\n",
       "      <td>2009-02-13 08:44:56</td>\n",
       "      <td>I have attached a sample rewritten article.</td>\n",
       "      <td>2009-02-13</td>\n",
       "    </tr>\n",
       "  </tbody>\n",
       "</table>\n",
       "</div>"
      ],
      "text/plain": [
       "  bidder_id employer_id  project_id      pmb_submit_time  \\\n",
       "0        63      879721    381063.0  2009-02-05 22:20:34   \n",
       "1        63      879721    381063.0  2009-02-06 01:34:01   \n",
       "2        63      879721    381063.0  2009-02-06 03:37:00   \n",
       "3        63      879721    381063.0  2009-02-12 00:36:23   \n",
       "4        63          \\N    384787.0  2009-02-13 08:44:56   \n",
       "\n",
       "                                    bidder_chat_text        date  \n",
       "0  This is OK with me. You can send these article...  2009-02-05  \n",
       "1  I went through your post again. I will select ...  2009-02-06  \n",
       "2  Sent one article by email to sendmyarticle at ...  2009-02-06  \n",
       "3  So far I have sent 10 test articles to Aaron. ...  2009-02-12  \n",
       "4        I have attached a sample rewritten article.  2009-02-13  "
      ]
     },
     "execution_count": 115,
     "metadata": {},
     "output_type": "execute_result"
    }
   ],
   "source": [
    "bid.head()"
   ]
  },
  {
   "cell_type": "code",
   "execution_count": 128,
   "metadata": {},
   "outputs": [
    {
     "data": {
      "text/plain": [
       "531532    52063\n",
       "42146     52057\n",
       "517951    42275\n",
       "173299    38864\n",
       "137062    36807\n",
       "34205     34331\n",
       "162666    30297\n",
       "404230    29769\n",
       "206385    26877\n",
       "81353     24003\n",
       "Name: bidder_id, dtype: int64"
      ]
     },
     "execution_count": 128,
     "metadata": {},
     "output_type": "execute_result"
    }
   ],
   "source": [
    "bid['bidder_id'].value_counts().head(10)"
   ]
  },
  {
   "cell_type": "code",
   "execution_count": 129,
   "metadata": {},
   "outputs": [
    {
     "data": {
      "text/plain": [
       "\\N        286389\n",
       "531532     19040\n",
       "415396     12060\n",
       "137062     10497\n",
       "459878      9065\n",
       "495614      8312\n",
       "156327      6850\n",
       "104997      6794\n",
       "96587       5855\n",
       "998573      5394\n",
       "Name: employer_id, dtype: int64"
      ]
     },
     "execution_count": 129,
     "metadata": {},
     "output_type": "execute_result"
    }
   ],
   "source": [
    "bid['employer_id'].value_counts().head(10)"
   ]
  },
  {
   "cell_type": "code",
   "execution_count": 130,
   "metadata": {},
   "outputs": [
    {
     "data": {
      "text/plain": [
       "608694.0    3476\n",
       "717814.0    1737\n",
       "630255.0    1596\n",
       "643382.0    1378\n",
       "628784.0    1240\n",
       "642087.0    1196\n",
       "642729.0    1177\n",
       "674020.0    1168\n",
       "669536.0    1163\n",
       "681109.0    1133\n",
       "Name: project_id, dtype: int64"
      ]
     },
     "execution_count": 130,
     "metadata": {},
     "output_type": "execute_result"
    }
   ],
   "source": [
    "bid['project_id'].value_counts().head(10)"
   ]
  },
  {
   "cell_type": "code",
   "execution_count": 133,
   "metadata": {
    "collapsed": true
   },
   "outputs": [],
   "source": [
    "bid[[\"bidder_id\",\"employer_id\",\"project_id\",\"pmb_submit_time\"]].to_csv('bidStat.csv', index=False)"
   ]
  },
  {
   "cell_type": "code",
   "execution_count": 134,
   "metadata": {
    "collapsed": true
   },
   "outputs": [],
   "source": [
    "del bid"
   ]
  },
  {
   "cell_type": "code",
   "execution_count": 5,
   "metadata": {},
   "outputs": [
    {
     "data": {
      "text/html": [
       "<div>\n",
       "<style>\n",
       "    .dataframe thead tr:only-child th {\n",
       "        text-align: right;\n",
       "    }\n",
       "\n",
       "    .dataframe thead th {\n",
       "        text-align: left;\n",
       "    }\n",
       "\n",
       "    .dataframe tbody tr th {\n",
       "        vertical-align: top;\n",
       "    }\n",
       "</style>\n",
       "<table border=\"1\" class=\"dataframe\">\n",
       "  <thead>\n",
       "    <tr style=\"text-align: right;\">\n",
       "      <th></th>\n",
       "      <th>employer_id</th>\n",
       "      <th>bidder_id</th>\n",
       "      <th>project_id</th>\n",
       "      <th>pmb_submit_time</th>\n",
       "      <th>employer_chat_text</th>\n",
       "    </tr>\n",
       "  </thead>\n",
       "  <tbody>\n",
       "    <tr>\n",
       "      <th>0</th>\n",
       "      <td>399</td>\n",
       "      <td>123488</td>\n",
       "      <td>596461</td>\n",
       "      <td>2010-01-29 12:48:26</td>\n",
       "      <td>Hi Thank you for your interest in our project....</td>\n",
       "    </tr>\n",
       "    <tr>\n",
       "      <th>1</th>\n",
       "      <td>399</td>\n",
       "      <td>179466</td>\n",
       "      <td>596461</td>\n",
       "      <td>2010-01-29 12:48:51</td>\n",
       "      <td>Hi Thank you for your interest in our project....</td>\n",
       "    </tr>\n",
       "    <tr>\n",
       "      <th>2</th>\n",
       "      <td>399</td>\n",
       "      <td>817773</td>\n",
       "      <td>596461</td>\n",
       "      <td>2010-01-29 12:49:04</td>\n",
       "      <td>Hi Thank you for your interest in our project....</td>\n",
       "    </tr>\n",
       "    <tr>\n",
       "      <th>3</th>\n",
       "      <td>399</td>\n",
       "      <td>1216117</td>\n",
       "      <td>596461</td>\n",
       "      <td>2010-01-29 12:49:14</td>\n",
       "      <td>Hi Thank you for your interest in our project....</td>\n",
       "    </tr>\n",
       "    <tr>\n",
       "      <th>4</th>\n",
       "      <td>399</td>\n",
       "      <td>1172063</td>\n",
       "      <td>596461</td>\n",
       "      <td>2010-01-29 12:49:22</td>\n",
       "      <td>Hi Thank you for your interest in our project....</td>\n",
       "    </tr>\n",
       "  </tbody>\n",
       "</table>\n",
       "</div>"
      ],
      "text/plain": [
       "   employer_id bidder_id  project_id      pmb_submit_time  \\\n",
       "0          399    123488      596461  2010-01-29 12:48:26   \n",
       "1          399    179466      596461  2010-01-29 12:48:51   \n",
       "2          399    817773      596461  2010-01-29 12:49:04   \n",
       "3          399   1216117      596461  2010-01-29 12:49:14   \n",
       "4          399   1172063      596461  2010-01-29 12:49:22   \n",
       "\n",
       "                                  employer_chat_text  \n",
       "0  Hi Thank you for your interest in our project....  \n",
       "1  Hi Thank you for your interest in our project....  \n",
       "2  Hi Thank you for your interest in our project....  \n",
       "3  Hi Thank you for your interest in our project....  \n",
       "4  Hi Thank you for your interest in our project....  "
      ]
     },
     "execution_count": 5,
     "metadata": {},
     "output_type": "execute_result"
    }
   ],
   "source": [
    "emp.head()"
   ]
  },
  {
   "cell_type": "code",
   "execution_count": 4,
   "metadata": {
    "collapsed": true
   },
   "outputs": [],
   "source": [
    "emp[[\"employer_id\",\"bidder_id\",\"project_id\",\"pmb_submit_time\"]].to_csv('empStat.csv', index=False)"
   ]
  },
  {
   "cell_type": "code",
   "execution_count": 6,
   "metadata": {},
   "outputs": [
    {
     "data": {
      "text/plain": [
       "531532     52063\n",
       "517951     42275\n",
       "34205      34331\n",
       "162666     30297\n",
       "404230     29769\n",
       "1173169    23414\n",
       "180840     22337\n",
       "384779     19953\n",
       "227927     17949\n",
       "76295      15564\n",
       "Name: employer_id, dtype: int64"
      ]
     },
     "execution_count": 6,
     "metadata": {},
     "output_type": "execute_result"
    }
   ],
   "source": [
    "emp['employer_id'].value_counts().head(10)"
   ]
  },
  {
   "cell_type": "code",
   "execution_count": 7,
   "metadata": {},
   "outputs": [
    {
     "data": {
      "text/plain": [
       "\\N        41002\n",
       "173299     8434\n",
       "404230     7456\n",
       "34205      5923\n",
       "206385     5622\n",
       "517951     5286\n",
       "531532     5217\n",
       "399645     5080\n",
       "162666     5051\n",
       "42146      5012\n",
       "Name: bidder_id, dtype: int64"
      ]
     },
     "execution_count": 7,
     "metadata": {},
     "output_type": "execute_result"
    }
   ],
   "source": [
    "emp['bidder_id'].value_counts().head(10)"
   ]
  },
  {
   "cell_type": "code",
   "execution_count": 8,
   "metadata": {},
   "outputs": [
    {
     "data": {
      "text/plain": [
       "608694    2947\n",
       "717814    1584\n",
       "630255    1240\n",
       "271683    1216\n",
       "643382    1214\n",
       "642729    1005\n",
       "674020     998\n",
       "642087     996\n",
       "618377     874\n",
       "106812     870\n",
       "Name: project_id, dtype: int64"
      ]
     },
     "execution_count": 8,
     "metadata": {},
     "output_type": "execute_result"
    }
   ],
   "source": [
    "emp['project_id'].value_counts().head(10)"
   ]
  },
  {
   "cell_type": "code",
   "execution_count": 14,
   "metadata": {},
   "outputs": [
    {
     "data": {
      "text/html": [
       "<div>\n",
       "<style>\n",
       "    .dataframe thead tr:only-child th {\n",
       "        text-align: right;\n",
       "    }\n",
       "\n",
       "    .dataframe thead th {\n",
       "        text-align: left;\n",
       "    }\n",
       "\n",
       "    .dataframe tbody tr th {\n",
       "        vertical-align: top;\n",
       "    }\n",
       "</style>\n",
       "<table border=\"1\" class=\"dataframe\">\n",
       "  <thead>\n",
       "    <tr style=\"text-align: right;\">\n",
       "      <th></th>\n",
       "      <th>count</th>\n",
       "    </tr>\n",
       "  </thead>\n",
       "  <tbody>\n",
       "    <tr>\n",
       "      <th>2010-05-18</th>\n",
       "      <td>8333</td>\n",
       "    </tr>\n",
       "    <tr>\n",
       "      <th>2010-03-17</th>\n",
       "      <td>8179</td>\n",
       "    </tr>\n",
       "    <tr>\n",
       "      <th>2010-04-26</th>\n",
       "      <td>8179</td>\n",
       "    </tr>\n",
       "    <tr>\n",
       "      <th>2010-03-10</th>\n",
       "      <td>8134</td>\n",
       "    </tr>\n",
       "    <tr>\n",
       "      <th>2010-05-04</th>\n",
       "      <td>8112</td>\n",
       "    </tr>\n",
       "  </tbody>\n",
       "</table>\n",
       "</div>"
      ],
      "text/plain": [
       "            count\n",
       "2010-05-18   8333\n",
       "2010-03-17   8179\n",
       "2010-04-26   8179\n",
       "2010-03-10   8134\n",
       "2010-05-04   8112"
      ]
     },
     "execution_count": 14,
     "metadata": {},
     "output_type": "execute_result"
    }
   ],
   "source": [
    "emp['date'] = emp['pmb_submit_time'].apply(time_helper)\n",
    "date_stat = emp['date'].value_counts()\n",
    "dating = pd.DataFrame(date_stat)\n",
    "dating.columns=['count']\n",
    "dating.head()"
   ]
  },
  {
   "cell_type": "code",
   "execution_count": 15,
   "metadata": {},
   "outputs": [
    {
     "data": {
      "text/html": [
       "<iframe id=\"igraph\" scrolling=\"no\" style=\"border:none;\" seamless=\"seamless\" src=\"https://plot.ly/~sayasong23333/22.embed\" height=\"525px\" width=\"100%\"></iframe>"
      ],
      "text/plain": [
       "<plotly.tools.PlotlyDisplay object>"
      ]
     },
     "execution_count": 15,
     "metadata": {},
     "output_type": "execute_result"
    }
   ],
   "source": [
    "data = [go.Bar(x=dating.index,y=dating['count'], opacity=.6)]\n",
    "py.iplot(data)"
   ]
  },
  {
   "cell_type": "code",
   "execution_count": null,
   "metadata": {
    "collapsed": true
   },
   "outputs": [],
   "source": []
  }
 ],
 "metadata": {
  "kernelspec": {
   "display_name": "Python 2",
   "language": "python",
   "name": "python2"
  },
  "language_info": {
   "codemirror_mode": {
    "name": "ipython",
    "version": 2
   },
   "file_extension": ".py",
   "mimetype": "text/x-python",
   "name": "python",
   "nbconvert_exporter": "python",
   "pygments_lexer": "ipython2",
   "version": "2.7.13"
  }
 },
 "nbformat": 4,
 "nbformat_minor": 2
}
