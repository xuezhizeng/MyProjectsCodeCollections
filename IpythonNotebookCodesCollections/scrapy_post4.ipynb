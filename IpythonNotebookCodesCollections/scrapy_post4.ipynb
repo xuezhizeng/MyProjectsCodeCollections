{
 "cells": [
  {
   "cell_type": "code",
   "execution_count": 1,
   "metadata": {
    "collapsed": true
   },
   "outputs": [],
   "source": [
    "import requests\n",
    "from scrapy.selector import Selector\n",
    "import re"
   ]
  },
  {
   "cell_type": "code",
   "execution_count": 37,
   "metadata": {},
   "outputs": [
    {
     "data": {
      "text/plain": [
       "<200 http://www.soyoung.com/p14237672>"
      ]
     },
     "execution_count": 37,
     "metadata": {},
     "output_type": "execute_result"
    }
   ],
   "source": [
    "c = requests.get('http://www.soyoung.com/p14237672')\n",
    "from scrapy.http import TextResponse\n",
    "response = TextResponse(c.url, body=c.text, encoding='utf-8')\n",
    "response"
   ]
  },
  {
   "cell_type": "code",
   "execution_count": 38,
   "metadata": {},
   "outputs": [
    {
     "name": "stdout",
     "output_type": "stream",
     "text": [
      "http://www.soyoung.com/u15092256\n",
      "小洺\n"
     ]
    }
   ],
   "source": [
    "user = response.css('li.first_f div.head_pic')\n",
    "print user.css('a.name::attr(href)').extract()[0].strip()\n",
    "print user.css('a.name::text').extract()[0].strip()"
   ]
  },
  {
   "cell_type": "code",
   "execution_count": 39,
   "metadata": {},
   "outputs": [
    {
     "data": {
      "text/plain": [
       "31"
      ]
     },
     "execution_count": 39,
     "metadata": {},
     "output_type": "execute_result"
    }
   ],
   "source": [
    "int(response.css('div.date_box span.day::text').extract()[0])"
   ]
  },
  {
   "cell_type": "code",
   "execution_count": 40,
   "metadata": {},
   "outputs": [
    {
     "name": "stdout",
     "output_type": "stream",
     "text": [
      "还是夜晚精神足啊，但是宝宝们还是注意不要熬夜，要不然眼袋没几年就又要恢复起来啦。\n",
      "囧，我好想做了个坏的代表。\n",
      "昨天就有些小兴奋的睡不着，我们附近居然有个射箭场，虽然地方不大，但是感觉挺好玩的，哈哈，我就上手了，第一次，箭就上靶，大赞啊。\n",
      "至于之后，我会告诉你比第一次惨吗？\n",
      "玩的很嗨哦，都快到11点多了，人家要关门，只能离开了。\n",
      "晚上折腾折腾，到1点多才睡，第二天要工作，天啊，感觉明天状态会很差！！！\n",
      "辛亏前台工作量不是很大，没客人的时候我就不客气地睡会，哈哈\n"
     ]
    }
   ],
   "source": [
    "text = response.css('li.first_f div.content div.c ::text').extract()\n",
    "\n",
    "string=''\n",
    "for t in text:\n",
    "    try:\n",
    "        string = string +'\\n' + t.strip()\n",
    "    except Exception as e:\n",
    "        print e\n",
    "        pass\n",
    "string = re.sub(r'\\n\\n+', '\\n', string.strip())    \n",
    "print string"
   ]
  },
  {
   "cell_type": "code",
   "execution_count": 65,
   "metadata": {},
   "outputs": [
    {
     "name": "stdout",
     "output_type": "stream",
     "text": [
      "http://static.soyoung.com/pc/static/img/site/logo-new.png?v=2017\n",
      "//static.soyoung.com/pc/static/img/site/download_qrcode-new.jpg\n",
      "http://img2.soyoung.com/user/20170730/9/20170730092414905_100_100.jpg\n",
      "C:UsersAdministratorDesktop\n"
     ]
    }
   ],
   "source": [
    "for i in response.css('img::attr(src)'):\n",
    "    pic = i.extract().strip()\n",
    "    if pic.startswith(''):\n",
    "        print pic"
   ]
  },
  {
   "cell_type": "code",
   "execution_count": null,
   "metadata": {
    "collapsed": true
   },
   "outputs": [],
   "source": []
  },
  {
   "cell_type": "code",
   "execution_count": 43,
   "metadata": {
    "collapsed": true
   },
   "outputs": [],
   "source": [
    "for v in response.css('li.first_f div.content div.c video ::attr(src)').extract():\n",
    "    print v\n"
   ]
  },
  {
   "cell_type": "code",
   "execution_count": 68,
   "metadata": {},
   "outputs": [
    {
     "data": {
      "text/plain": [
       "[u'<a href=\"http://www.soyoung.com/u15092256\" class=\"name\" target=\"_blank\">\\r\\n                                        \\r\\n                                                                                \\u5c0f\\u6d3a                            </a>']"
      ]
     },
     "execution_count": 68,
     "metadata": {},
     "output_type": "execute_result"
    }
   ],
   "source": [
    "response.css('a.name').extract()"
   ]
  },
  {
   "cell_type": "code",
   "execution_count": 66,
   "metadata": {},
   "outputs": [
    {
     "ename": "IndexError",
     "evalue": "list index out of range",
     "output_type": "error",
     "traceback": [
      "\u001b[0;31m---------------------------------------------------------------------------\u001b[0m",
      "\u001b[0;31mIndexError\u001b[0m                                Traceback (most recent call last)",
      "\u001b[0;32m<ipython-input-66-a69354df4fc8>\u001b[0m in \u001b[0;36m<module>\u001b[0;34m()\u001b[0m\n\u001b[1;32m      1\u001b[0m \u001b[0mproduct\u001b[0m\u001b[0;34m=\u001b[0m \u001b[0mresponse\u001b[0m\u001b[0;34m.\u001b[0m\u001b[0mcss\u001b[0m\u001b[0;34m(\u001b[0m\u001b[0;34m'li.first_f div.con_t a.name'\u001b[0m\u001b[0;34m)\u001b[0m\u001b[0;34m\u001b[0m\u001b[0m\n\u001b[0;32m----> 2\u001b[0;31m \u001b[0;32mprint\u001b[0m \u001b[0mproduct\u001b[0m\u001b[0;34m.\u001b[0m\u001b[0mcss\u001b[0m\u001b[0;34m(\u001b[0m\u001b[0;34m'::text'\u001b[0m\u001b[0;34m)\u001b[0m\u001b[0;34m.\u001b[0m\u001b[0mextract\u001b[0m\u001b[0;34m(\u001b[0m\u001b[0;34m)\u001b[0m\u001b[0;34m[\u001b[0m\u001b[0;36m0\u001b[0m\u001b[0;34m]\u001b[0m\u001b[0;34m.\u001b[0m\u001b[0mstrip\u001b[0m\u001b[0;34m(\u001b[0m\u001b[0;34m)\u001b[0m\u001b[0;34m\u001b[0m\u001b[0m\n\u001b[0m\u001b[1;32m      3\u001b[0m \u001b[0;32mprint\u001b[0m \u001b[0mproduct\u001b[0m\u001b[0;34m.\u001b[0m\u001b[0mcss\u001b[0m\u001b[0;34m(\u001b[0m\u001b[0;34m'::attr(href)'\u001b[0m\u001b[0;34m)\u001b[0m\u001b[0;34m.\u001b[0m\u001b[0mextract\u001b[0m\u001b[0;34m(\u001b[0m\u001b[0;34m)\u001b[0m\u001b[0;34m[\u001b[0m\u001b[0;36m0\u001b[0m\u001b[0;34m]\u001b[0m\u001b[0;34m.\u001b[0m\u001b[0mstrip\u001b[0m\u001b[0;34m(\u001b[0m\u001b[0;34m)\u001b[0m\u001b[0;34m\u001b[0m\u001b[0m\n",
      "\u001b[0;31mIndexError\u001b[0m: list index out of range"
     ]
    }
   ],
   "source": [
    "product= response.css('li.first_f div.con_t a.name')\n",
    "print product.css('::text').extract()[0].strip()\n",
    "print product.css('::attr(href)').extract()[0].strip()"
   ]
  },
  {
   "cell_type": "code",
   "execution_count": 26,
   "metadata": {},
   "outputs": [
    {
     "name": "stdout",
     "output_type": "stream",
     "text": [
      "[]\n",
      " 100%\n",
      " 100%\n",
      " 100%\n",
      " 100%\n"
     ]
    }
   ],
   "source": [
    "rate = response.css('div.level_box ul.level_list')\n",
    "s = rate.css('span.sym a::text').extract()\n",
    "r = rate.css('span.level span')\n",
    "print s\n",
    "for w in r.css('::attr(style)').extract():\n",
    "    print w.split('width:')[-1].replace(';','')"
   ]
  },
  {
   "cell_type": "code",
   "execution_count": 130,
   "metadata": {},
   "outputs": [
    {
     "data": {
      "text/plain": [
       "[u'100%', u'40%', u'20%', u'0%']"
      ]
     },
     "execution_count": 130,
     "metadata": {},
     "output_type": "execute_result"
    }
   ],
   "source": [
    "[i.split('width:')[-1].replace(';','').strip() for i in r.css('::attr(style)').extract()]"
   ]
  },
  {
   "cell_type": "code",
   "execution_count": 159,
   "metadata": {
    "collapsed": true
   },
   "outputs": [],
   "source": [
    "a = 'aaabbcccccccs'"
   ]
  },
  {
   "cell_type": "code",
   "execution_count": 160,
   "metadata": {
    "collapsed": true
   },
   "outputs": [],
   "source": [
    "import re"
   ]
  },
  {
   "cell_type": "code",
   "execution_count": 171,
   "metadata": {},
   "outputs": [
    {
     "data": {
      "text/plain": [
       "'aaabbcs'"
      ]
     },
     "execution_count": 171,
     "metadata": {},
     "output_type": "execute_result"
    }
   ],
   "source": [
    "re.sub(r'cc+', 'c', a)"
   ]
  },
  {
   "cell_type": "code",
   "execution_count": 46,
   "metadata": {},
   "outputs": [
    {
     "name": "stdout",
     "output_type": "stream",
     "text": [
      "#皮肤\n",
      "/post64\n",
      "#术后当自强\n",
      "/post351\n",
      "#重庆同城\n",
      "/post448\n",
      "#宣城同城\n",
      "/post559\n",
      "#皮秒激光\n",
      "/post1129\n"
     ]
    }
   ],
   "source": [
    "for k in response.css('div.beauty_tool span a'): \n",
    "    \n",
    "    print k.css('::text').extract()[0]+'\\n'+k.css('::attr(href)').extract()[0]\n",
    "    "
   ]
  },
  {
   "cell_type": "code",
   "execution_count": null,
   "metadata": {
    "collapsed": true
   },
   "outputs": [],
   "source": []
  }
 ],
 "metadata": {
  "kernelspec": {
   "display_name": "Python 2",
   "language": "python",
   "name": "python2"
  },
  "language_info": {
   "codemirror_mode": {
    "name": "ipython",
    "version": 2
   },
   "file_extension": ".py",
   "mimetype": "text/x-python",
   "name": "python",
   "nbconvert_exporter": "python",
   "pygments_lexer": "ipython2",
   "version": "2.7.13"
  }
 },
 "nbformat": 4,
 "nbformat_minor": 2
}
