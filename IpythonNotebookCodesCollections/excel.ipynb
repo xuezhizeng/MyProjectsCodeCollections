{
 "cells": [
  {
   "cell_type": "code",
   "execution_count": null,
   "metadata": {
    "collapsed": true
   },
   "outputs": [],
   "source": [
    "import sys\n",
    "reload(sys)\n",
    "sys.setdefaultencoding('utf8')\n",
    "\n",
    "from unidecode import unidecode\n",
    "def FormatString(s):\n",
    "    if isinstance(s, unicode):\n",
    "        try:\n",
    "            s.encode('ascii')\n",
    "            return s\n",
    "        except:\n",
    "            return unidecode(s)\n",
    "    else:\n",
    "        return s\n",
    "\n",
    "df = df.applymap(FormatString)\n",
    "print 'convert to xlsx'\n",
    "df.to_excel('clean_'+i[:-3]+'xlsx', index=False)\n",
    "print 'done saving to xlsx'\n"
   ]
  }
 ],
 "metadata": {
  "kernelspec": {
   "display_name": "Python 2",
   "language": "python",
   "name": "python2"
  },
  "language_info": {
   "codemirror_mode": {
    "name": "ipython",
    "version": 2
   },
   "file_extension": ".py",
   "mimetype": "text/x-python",
   "name": "python",
   "nbconvert_exporter": "python",
   "pygments_lexer": "ipython2",
   "version": "2.7.13"
  }
 },
 "nbformat": 4,
 "nbformat_minor": 2
}
