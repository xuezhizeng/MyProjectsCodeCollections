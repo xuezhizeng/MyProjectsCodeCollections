{
 "cells": [
  {
   "cell_type": "markdown",
   "metadata": {},
   "source": [
    "### scrapy\n",
    "\n",
    "https://www.tutorialspoint.com/scrapy/scrapy_overview.htm\n",
    "\n",
    "https://blog.scrapinghub.com/2017/07/07/scraping-the-steam-game-store-with-scrapy/\n",
    "\n",
    "https://www.w3schools.com/cssref/css_selectors.asp\n",
    "\n",
    "http://www.w3school.com.cn/cssref/css_selectors.asp\n",
    "\n",
    "http://scrapy-chs.readthedocs.io/zh_CN/0.24/intro/tutorial.html\n",
    "\n",
    "http://python.jobbole.com/86584/\n",
    "\n",
    "http://www.ituring.com.cn/article/114408\n",
    "\n",
    "https://www.zhihu.com/question/37686665?sort=created\n",
    "\n",
    "https://doc.scrapy.org/en/latest/faq.html"
   ]
  },
  {
   "cell_type": "markdown",
   "metadata": {},
   "source": [
    "### "
   ]
  },
  {
   "cell_type": "code",
   "execution_count": null,
   "metadata": {
    "collapsed": true
   },
   "outputs": [],
   "source": []
  }
 ],
 "metadata": {
  "kernelspec": {
   "display_name": "Python 2",
   "language": "python",
   "name": "python2"
  },
  "language_info": {
   "codemirror_mode": {
    "name": "ipython",
    "version": 2
   },
   "file_extension": ".py",
   "mimetype": "text/x-python",
   "name": "python",
   "nbconvert_exporter": "python",
   "pygments_lexer": "ipython2",
   "version": "2.7.13"
  }
 },
 "nbformat": 4,
 "nbformat_minor": 2
}
