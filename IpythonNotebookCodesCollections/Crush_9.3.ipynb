{
 "cells": [
  {
   "cell_type": "markdown",
   "metadata": {},
   "source": [
    "puiin283683@163.com 密码：uq5866 "
   ]
  },
  {
   "cell_type": "markdown",
   "metadata": {},
   "source": [
    "intui2262206@163.com 密码：joy450 \n"
   ]
  },
  {
   "cell_type": "markdown",
   "metadata": {},
   "source": [
    "vdua3316312@163.com 密码：utz714 "
   ]
  },
  {
   "cell_type": "code",
   "execution_count": null,
   "metadata": {
    "collapsed": true
   },
   "outputs": [],
   "source": []
  },
  {
   "cell_type": "markdown",
   "metadata": {},
   "source": [
    "uvvc18417@163.com 密码：rzk573 "
   ]
  },
  {
   "cell_type": "markdown",
   "metadata": {},
   "source": [
    "trzwbm@163.com 密码：wsx123 月光"
   ]
  },
  {
   "cell_type": "markdown",
   "metadata": {},
   "source": [
    "lnlgcg@163.com \n",
    "密码：wsx123 "
   ]
  },
  {
   "cell_type": "code",
   "execution_count": null,
   "metadata": {
    "collapsed": true
   },
   "outputs": [],
   "source": []
  },
  {
   "cell_type": "code",
   "execution_count": null,
   "metadata": {
    "collapsed": true
   },
   "outputs": [],
   "source": []
  },
  {
   "cell_type": "markdown",
   "metadata": {},
   "source": [
    "CSDN"
   ]
  },
  {
   "cell_type": "markdown",
   "metadata": {},
   "source": [
    "dvzu21@sina.com 密码：k123456 "
   ]
  },
  {
   "cell_type": "markdown",
   "metadata": {
    "collapsed": true
   },
   "source": [
    "https://www.safaribooksonline.com/blog/2014/02/12/using-shell-commands-effectively-ipython/"
   ]
  },
  {
   "cell_type": "markdown",
   "metadata": {},
   "source": [
    "for N in {1..3}; do /root/openface/util/align-dlib.py ./train/ align outerEyesAndNose ./result --size 96 & done."
   ]
  },
  {
   "cell_type": "code",
   "execution_count": null,
   "metadata": {
    "collapsed": true
   },
   "outputs": [],
   "source": []
  },
  {
   "cell_type": "markdown",
   "metadata": {},
   "source": [
    "https://blog.bigml.com/list-of-public-data-sources-fit-for-machine-learning/#national_governments"
   ]
  },
  {
   "cell_type": "markdown",
   "metadata": {},
   "source": [
    "https://public.tableau.com/pt-br/s/blog/2016/08/webscraping-everybody-using-import-functions-google-sheets"
   ]
  },
  {
   "cell_type": "code",
   "execution_count": null,
   "metadata": {
    "collapsed": true
   },
   "outputs": [],
   "source": []
  },
  {
   "cell_type": "markdown",
   "metadata": {},
   "source": [
    "https://aws.amazon.com/datasets/"
   ]
  },
  {
   "cell_type": "markdown",
   "metadata": {
    "collapsed": true
   },
   "source": [
    "https://stackoverflow.com/questions/15610109/how-to-make-sure-that-all-y-axes-on-subplots-have-the-same-value"
   ]
  },
  {
   "cell_type": "code",
   "execution_count": null,
   "metadata": {
    "collapsed": true
   },
   "outputs": [],
   "source": []
  }
 ],
 "metadata": {
  "kernelspec": {
   "display_name": "Python 2",
   "language": "python",
   "name": "python2"
  },
  "language_info": {
   "codemirror_mode": {
    "name": "ipython",
    "version": 2
   },
   "file_extension": ".py",
   "mimetype": "text/x-python",
   "name": "python",
   "nbconvert_exporter": "python",
   "pygments_lexer": "ipython2",
   "version": "2.7.13"
  }
 },
 "nbformat": 4,
 "nbformat_minor": 2
}
