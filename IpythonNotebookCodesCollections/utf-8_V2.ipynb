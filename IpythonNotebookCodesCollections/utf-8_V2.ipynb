{
 "cells": [
  {
   "cell_type": "code",
   "execution_count": 31,
   "metadata": {},
   "outputs": [
    {
     "data": {
      "text/plain": [
       "'ascii'"
      ]
     },
     "execution_count": 31,
     "metadata": {},
     "output_type": "execute_result"
    }
   ],
   "source": [
    "import pandas as pd\n",
    "import os\n",
    "import chardet\n",
    "import shutil\n",
    "\n",
    "the_encoding = chardet.detect('your string')['encoding']\n",
    "the_encoding"
   ]
  },
  {
   "cell_type": "code",
   "execution_count": 32,
   "metadata": {},
   "outputs": [
    {
     "name": "stdout",
     "output_type": "stream",
     "text": [
      "loli_1\t    mv_out.py\t\t  rm_failed.py\tutf-8_V2.ipynb\r\n",
      "mv_keep.py  para_combine_new2.py  utf-8.ipynb\tutf_8\r\n"
     ]
    }
   ],
   "source": [
    "!ls"
   ]
  },
  {
   "cell_type": "code",
   "execution_count": 33,
   "metadata": {},
   "outputs": [
    {
     "data": {
      "text/plain": [
       "'loli_1/chopped_loli/'"
      ]
     },
     "execution_count": 33,
     "metadata": {},
     "output_type": "execute_result"
    }
   ],
   "source": [
    "path = 'loli_1/chopped_loli/'\n",
    "path"
   ]
  },
  {
   "cell_type": "code",
   "execution_count": 34,
   "metadata": {},
   "outputs": [
    {
     "name": "stdout",
     "output_type": "stream",
     "text": [
      "loli1_set_10_V96  loli1_set_15_V96  loli1_set_3_V96  loli1_set_8_V96\r\n",
      "loli1_set_11_V96  loli1_set_16_V96  loli1_set_4_V96  loli1_set_9_V96\r\n",
      "loli1_set_12_V96  loli1_set_17_V96  loli1_set_5_V96\r\n",
      "loli1_set_13_V96  loli1_set_1_V96   loli1_set_6_V96\r\n",
      "loli1_set_14_V96  loli1_set_2_V96   loli1_set_7_V96\r\n"
     ]
    }
   ],
   "source": [
    "!ls {path}"
   ]
  },
  {
   "cell_type": "code",
   "execution_count": 35,
   "metadata": {},
   "outputs": [
    {
     "data": {
      "text/plain": [
       "['loli1_set_6_V96',\n",
       " 'loli1_set_3_V96',\n",
       " 'loli1_set_11_V96',\n",
       " 'loli1_set_14_V96',\n",
       " 'loli1_set_2_V96',\n",
       " 'loli1_set_12_V96',\n",
       " 'loli1_set_9_V96',\n",
       " 'loli1_set_15_V96',\n",
       " 'loli1_set_5_V96',\n",
       " 'loli1_set_16_V96',\n",
       " 'loli1_set_17_V96',\n",
       " 'loli1_set_8_V96',\n",
       " 'loli1_set_7_V96',\n",
       " 'loli1_set_1_V96',\n",
       " 'loli1_set_10_V96',\n",
       " 'loli1_set_13_V96',\n",
       " 'loli1_set_4_V96']"
      ]
     },
     "execution_count": 35,
     "metadata": {},
     "output_type": "execute_result"
    }
   ],
   "source": [
    "[i for i in os.listdir(path) if i.find('.')<0]"
   ]
  },
  {
   "cell_type": "code",
   "execution_count": 36,
   "metadata": {},
   "outputs": [
    {
     "name": "stdout",
     "output_type": "stream",
     "text": [
      "96303\n",
      "CPU times: user 28 ms, sys: 40 ms, total: 68 ms\n",
      "Wall time: 66.2 ms\n"
     ]
    }
   ],
   "source": [
    "%%time\n",
    "content =[]\n",
    "for i in [i for i in os.listdir(path) if i.find('.')<0] :\n",
    "    for j in os.listdir(path+i):\n",
    "        for k in os.listdir(path+i+'/'+j):\n",
    "            content.append(path+i+'/'+j+'/'+k)\n",
    "print len(content)"
   ]
  },
  {
   "cell_type": "code",
   "execution_count": 37,
   "metadata": {},
   "outputs": [
    {
     "data": {
      "text/plain": [
       "(96303, 1)"
      ]
     },
     "execution_count": 37,
     "metadata": {},
     "output_type": "execute_result"
    }
   ],
   "source": [
    "df = pd.DataFrame(content, columns=['name'])\n",
    "df.shape"
   ]
  },
  {
   "cell_type": "code",
   "execution_count": 38,
   "metadata": {},
   "outputs": [
    {
     "name": "stdout",
     "output_type": "stream",
     "text": [
      "CPU times: user 624 ms, sys: 32 ms, total: 656 ms\n",
      "Wall time: 638 ms\n"
     ]
    }
   ],
   "source": [
    "%%time\n",
    "df['chk'] = df['name'].apply(lambda x: chardet.detect(x)['encoding'])"
   ]
  },
  {
   "cell_type": "code",
   "execution_count": 39,
   "metadata": {},
   "outputs": [
    {
     "data": {
      "text/plain": [
       "ascii    96303\n",
       "Name: chk, dtype: int64"
      ]
     },
     "execution_count": 39,
     "metadata": {},
     "output_type": "execute_result"
    }
   ],
   "source": [
    "df['chk'].value_counts()"
   ]
  },
  {
   "cell_type": "code",
   "execution_count": 40,
   "metadata": {},
   "outputs": [
    {
     "name": "stdout",
     "output_type": "stream",
     "text": [
      "[Errno 17] File exists: 'utf_8'\n"
     ]
    }
   ],
   "source": [
    "try:\n",
    "    os.mkdir('utf_8')\n",
    "except Exception as e:\n",
    "    print e"
   ]
  },
  {
   "cell_type": "code",
   "execution_count": 41,
   "metadata": {
    "scrolled": true
   },
   "outputs": [
    {
     "data": {
      "text/html": [
       "<div>\n",
       "<style>\n",
       "    .dataframe thead tr:only-child th {\n",
       "        text-align: right;\n",
       "    }\n",
       "\n",
       "    .dataframe thead th {\n",
       "        text-align: left;\n",
       "    }\n",
       "\n",
       "    .dataframe tbody tr th {\n",
       "        vertical-align: top;\n",
       "    }\n",
       "</style>\n",
       "<table border=\"1\" class=\"dataframe\">\n",
       "  <thead>\n",
       "    <tr style=\"text-align: right;\">\n",
       "      <th></th>\n",
       "      <th>name</th>\n",
       "      <th>chk</th>\n",
       "    </tr>\n",
       "  </thead>\n",
       "  <tbody>\n",
       "  </tbody>\n",
       "</table>\n",
       "</div>"
      ],
      "text/plain": [
       "Empty DataFrame\n",
       "Columns: [name, chk]\n",
       "Index: []"
      ]
     },
     "execution_count": 41,
     "metadata": {},
     "output_type": "execute_result"
    }
   ],
   "source": [
    "df[df['chk']!='ascii']"
   ]
  },
  {
   "cell_type": "code",
   "execution_count": 42,
   "metadata": {},
   "outputs": [
    {
     "data": {
      "text/plain": [
       "0"
      ]
     },
     "execution_count": 42,
     "metadata": {},
     "output_type": "execute_result"
    }
   ],
   "source": [
    "fail=[]\n",
    "for i in df[df['chk']!='ascii']['name']:\n",
    "    try:\n",
    "        shutil.move(i,'utf_8')\n",
    "    except Exception as e:\n",
    "        print e\n",
    "        fail.append(i)\n",
    "len(fail)"
   ]
  },
  {
   "cell_type": "code",
   "execution_count": null,
   "metadata": {
    "collapsed": true
   },
   "outputs": [],
   "source": []
  }
 ],
 "metadata": {
  "kernelspec": {
   "display_name": "Python 2",
   "language": "python",
   "name": "python2"
  },
  "language_info": {
   "codemirror_mode": {
    "name": "ipython",
    "version": 2
   },
   "file_extension": ".py",
   "mimetype": "text/x-python",
   "name": "python",
   "nbconvert_exporter": "python",
   "pygments_lexer": "ipython2",
   "version": "2.7.6"
  }
 },
 "nbformat": 4,
 "nbformat_minor": 2
}
