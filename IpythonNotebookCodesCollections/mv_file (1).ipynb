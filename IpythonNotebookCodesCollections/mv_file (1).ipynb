{
 "cells": [
  {
   "cell_type": "code",
   "execution_count": 5,
   "metadata": {
    "collapsed": true
   },
   "outputs": [],
   "source": [
    "import os\n",
    "import shutil"
   ]
  },
  {
   "cell_type": "code",
   "execution_count": 6,
   "metadata": {},
   "outputs": [
    {
     "name": "stdout",
     "output_type": "stream",
     "text": [
      "Data_Collection.zip  extract  mv_file.ipynb\r\n"
     ]
    }
   ],
   "source": [
    "!ls"
   ]
  },
  {
   "cell_type": "code",
   "execution_count": 21,
   "metadata": {
    "collapsed": true
   },
   "outputs": [],
   "source": [
    "folder='extract/Data_Collection/sub_1/'"
   ]
  },
  {
   "cell_type": "code",
   "execution_count": 22,
   "metadata": {},
   "outputs": [
    {
     "data": {
      "text/plain": [
       "501"
      ]
     },
     "execution_count": 22,
     "metadata": {},
     "output_type": "execute_result"
    }
   ],
   "source": [
    "all_files = os.listdir(folder)\n",
    "len(all_files)"
   ]
  },
  {
   "cell_type": "code",
   "execution_count": 23,
   "metadata": {},
   "outputs": [
    {
     "name": "stdout",
     "output_type": "stream",
     "text": [
      "[Errno 2] No such file or directory: 'extract/Data_Collection/sub_1/sub_1/SCUT-FBP-231.jpg'\n",
      "[Errno 2] No such file or directory: 'extract/Data_Collection/sub_1/sub_1/SCUT-FBP-212.jpg'\n",
      "[Errno 2] No such file or directory: 'extract/Data_Collection/sub_1/sub_1/SCUT-FBP-290.jpg'\n",
      "[Errno 2] No such file or directory: 'extract/Data_Collection/sub_1/sub_1/SCUT-FBP-415.jpg'\n",
      "[Errno 2] No such file or directory: 'extract/Data_Collection/sub_1/sub_1/SCUT-FBP-304.jpg'\n",
      "[Errno 2] No such file or directory: 'extract/Data_Collection/sub_1/sub_1/SCUT-FBP-447.jpg'\n",
      "[Errno 2] No such file or directory: 'extract/Data_Collection/sub_1/sub_1/SCUT-FBP-173.jpg'\n",
      "[Errno 2] No such file or directory: 'extract/Data_Collection/sub_1/sub_1/SCUT-FBP-369.jpg'\n",
      "[Errno 2] No such file or directory: 'extract/Data_Collection/sub_1/sub_1/SCUT-FBP-261.jpg'\n",
      "sub_1/\n",
      "sub_2/\n",
      "sub_3/\n",
      "sub_4/\n",
      "sub_5/\n",
      "sub_6/\n",
      "sub_7/\n",
      "sub_8/\n",
      "sub_9/\n",
      "sub_10/\n",
      "sub_11/\n",
      "sub_12/\n",
      "sub_13/\n",
      "sub_14/\n",
      "sub_15/\n",
      "sub_16/\n",
      "sub_17/\n",
      "sub_18/\n",
      "sub_19/\n",
      "sub_20/\n",
      "sub_21/\n",
      "sub_22/\n",
      "sub_23/\n",
      "sub_24/\n",
      "sub_25/\n",
      "sub_26/\n",
      "sub_27/\n",
      "sub_28/\n",
      "sub_29/\n",
      "sub_30/\n",
      "sub_31/\n",
      "sub_32/\n",
      "sub_33/\n",
      "sub_34/\n",
      "sub_35/\n",
      "sub_36/\n",
      "sub_37/\n",
      "sub_38/\n",
      "sub_39/\n",
      "sub_40/\n",
      "sub_41/\n",
      "sub_42/\n",
      "sub_43/\n",
      "sub_44/\n",
      "sub_45/\n",
      "sub_46/\n",
      "sub_47/\n",
      "sub_48/\n",
      "sub_49/\n",
      "sub_50/\n"
     ]
    }
   ],
   "source": [
    "n=0\n",
    "m=0\n",
    "for i in all_files:\n",
    "    n+=1\n",
    "    if n==0 or n%10==0:\n",
    "        m+=1\n",
    "        sub = 'sub_'+str(m)+'/'\n",
    "        print sub\n",
    "        try:\n",
    "            os.mkdir(folder+sub)\n",
    "        except Exception as e:\n",
    "            print e\n",
    "    try:\n",
    "        shutil.move(folder+i, folder+sub+i)\n",
    "    except Exception as e:\n",
    "        print e"
   ]
  },
  {
   "cell_type": "code",
   "execution_count": null,
   "metadata": {
    "collapsed": true
   },
   "outputs": [],
   "source": []
  }
 ],
 "metadata": {
  "kernelspec": {
   "display_name": "Python 2",
   "language": "python",
   "name": "python2"
  },
  "language_info": {
   "codemirror_mode": {
    "name": "ipython",
    "version": 2
   },
   "file_extension": ".py",
   "mimetype": "text/x-python",
   "name": "python",
   "nbconvert_exporter": "python",
   "pygments_lexer": "ipython2",
   "version": "2.7.6"
  }
 },
 "nbformat": 4,
 "nbformat_minor": 2
}
