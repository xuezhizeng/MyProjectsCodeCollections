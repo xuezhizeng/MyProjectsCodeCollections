{
 "cells": [
  {
   "cell_type": "code",
   "execution_count": 1,
   "metadata": {},
   "outputs": [
    {
     "name": "stdout",
     "output_type": "stream",
     "text": [
      "sample_submission.csv.7z  test.tsv.7z  train.tsv.7z  unzip.ipynb\r\n"
     ]
    }
   ],
   "source": [
    "!ls"
   ]
  },
  {
   "cell_type": "code",
   "execution_count": 5,
   "metadata": {},
   "outputs": [
    {
     "name": "stdout",
     "output_type": "stream",
     "text": [
      "\n",
      "7-Zip [64] 15.09 beta : Copyright (c) 1999-2015 Igor Pavlov : 2015-10-16\n",
      "p7zip Version 15.09 beta (locale=en_US.UTF-8,Utf16=on,HugeFiles=on,64 bits,24 CPUs x64)\n",
      "\n",
      "Scanning the drive for archives:\n",
      "  0M Sca        1 file, 77912192 bytes (75 MiB)\n",
      "\n",
      "Extracting archive: train.tsv.7z\n",
      "--\n",
      "Path = train.tsv.7z\n",
      "Type = 7z\n",
      "Physical Size = 77912192\n",
      "Headers Size = 122\n",
      "Method = LZMA2:24\n",
      "Solid = -\n",
      "Blocks = 1\n",
      "\n",
      "      4% - train.t                9% - train.t               14% - train.t               19% - train.t               24% - train.t               29% - train.t               34% - train.t               39% - train.t               44% - train.t               49% - train.t               54% - train.t               59% - train.t               64% - train.t               69% - train.t               74% - train.t               79% - train.t               84% - train.t               89% - train.t               94% - train.t               99% - train.t              Everything is Ok\n",
      "\n",
      "Size:       337809843\n",
      "Compressed: 77912192\n"
     ]
    }
   ],
   "source": [
    "!7z x train.tsv.7z -o./train"
   ]
  },
  {
   "cell_type": "code",
   "execution_count": 6,
   "metadata": {},
   "outputs": [
    {
     "name": "stdout",
     "output_type": "stream",
     "text": [
      "\n",
      "7-Zip [64] 15.09 beta : Copyright (c) 1999-2015 Igor Pavlov : 2015-10-16\n",
      "p7zip Version 15.09 beta (locale=en_US.UTF-8,Utf16=on,HugeFiles=on,64 bits,24 CPUs x64)\n",
      "\n",
      "Scanning the drive for archives:\n",
      "  0M Sca        1 file, 35617013 bytes (34 MiB)\n",
      "\n",
      "Extracting archive: test.tsv.7z\n",
      "--\n",
      "Path = test.tsv.7z\n",
      "Type = 7z\n",
      "Physical Size = 35617013\n",
      "Headers Size = 122\n",
      "Method = LZMA2:24\n",
      "Solid = -\n",
      "Blocks = 1\n",
      "\n",
      "     10% - test.ts               21% - test.ts               32% - test.ts               43% - test.ts               54% - test.ts               65% - test.ts               76% - test.ts               87% - test.ts               97% - test.ts              Everything is Ok\n",
      "\n",
      "Size:       154222160\n",
      "Compressed: 35617013\n"
     ]
    }
   ],
   "source": [
    "!7z x test.tsv.7z -o./test"
   ]
  },
  {
   "cell_type": "code",
   "execution_count": 7,
   "metadata": {},
   "outputs": [
    {
     "name": "stdout",
     "output_type": "stream",
     "text": [
      "\n",
      "7-Zip [64] 15.09 beta : Copyright (c) 1999-2015 Igor Pavlov : 2015-10-16\n",
      "p7zip Version 15.09 beta (locale=en_US.UTF-8,Utf16=on,HugeFiles=on,64 bits,24 CPUs x64)\n",
      "\n",
      "Scanning the drive for archives:\n",
      "  0M Sca        1 file, 174228 bytes (171 KiB)\n",
      "\n",
      "Extracting archive: sample_submission.csv.7z\n",
      "--\n",
      "Path = sample_submission.csv.7z\n",
      "Type = 7z\n",
      "Physical Size = 174228\n",
      "Headers Size = 143\n",
      "Method = LZMA:12m\n",
      "Solid = -\n",
      "Blocks = 1\n",
      "\n",
      "    Everything is Ok\n",
      "\n",
      "Size:       9595930\n",
      "Compressed: 174228\n"
     ]
    }
   ],
   "source": [
    "!7z x sample_submission.csv.7z -o./submit"
   ]
  },
  {
   "cell_type": "code",
   "execution_count": null,
   "metadata": {
    "collapsed": true
   },
   "outputs": [],
   "source": []
  }
 ],
 "metadata": {
  "kernelspec": {
   "display_name": "GPU3",
   "language": "python",
   "name": "gpu3"
  },
  "language_info": {
   "codemirror_mode": {
    "name": "ipython",
    "version": 3
   },
   "file_extension": ".py",
   "mimetype": "text/x-python",
   "name": "python",
   "nbconvert_exporter": "python",
   "pygments_lexer": "ipython3",
   "version": "3.6.1"
  }
 },
 "nbformat": 4,
 "nbformat_minor": 2
}
