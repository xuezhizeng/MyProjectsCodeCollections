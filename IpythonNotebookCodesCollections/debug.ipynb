{
 "cells": [
  {
   "cell_type": "code",
   "execution_count": 9,
   "metadata": {},
   "outputs": [
    {
     "data": {
      "text/plain": [
       "(209521, 128)"
      ]
     },
     "execution_count": 9,
     "metadata": {},
     "output_type": "execute_result"
    }
   ],
   "source": [
    "import matplotlib.pyplot as plt\n",
    "import pandas as pd\n",
    "def show(path, url):\n",
    "    plt.figure(figsize=((10,7)))\n",
    "    plt.title(url)\n",
    "    plt.imshow(plt.imread(path+url))\n",
    "    plt.show()\n",
    "\n",
    "df = pd.read_csv('parameter/20WpicsPara.csv')\n",
    "name = df.pop('name').to_frame()\n",
    "df.shape"
   ]
  },
  {
   "cell_type": "code",
   "execution_count": 10,
   "metadata": {},
   "outputs": [],
   "source": [
    "# import os\n",
    "# name_list = os.listdir('/home/soyoung/face/newFlask/static/uploads/192.168.1.83/land/')\n",
    "# name_list\n",
    "\n",
    "# full_list = [os.path.join('static/uploads/192.168.1.83/pics/',i) for i in name_list]\n",
    "# full_list\n",
    "\n",
    "# time_sorted_list = sorted(full_list, key=os.path.getmtime)\n",
    "# time_sorted_list\n",
    "\n",
    "# [os.path.basename(i) for i in full_list]"
   ]
  },
  {
   "cell_type": "code",
   "execution_count": 11,
   "metadata": {},
   "outputs": [
    {
     "data": {
      "text/plain": [
       "(209521, 128)"
      ]
     },
     "execution_count": 11,
     "metadata": {},
     "output_type": "execute_result"
    }
   ],
   "source": [
    "from time import time\n",
    "from sklearn.metrics.pairwise import cosine_similarity\n",
    "\n",
    "df1=df.as_matrix()\n",
    "df1.shape"
   ]
  },
  {
   "cell_type": "code",
   "execution_count": 12,
   "metadata": {},
   "outputs": [
    {
     "data": {
      "text/plain": [
       "(209521,)"
      ]
     },
     "execution_count": 12,
     "metadata": {},
     "output_type": "execute_result"
    }
   ],
   "source": [
    "start=time()\n",
    "dating1=df.as_matrix()[1].reshape(1,-1)\n",
    "#precious\n",
    "precious=cosine_similarity(dating1, df1)\n",
    "precious=pd.Series(precious[0])\n",
    "precious=precious.sort_values(ascending=False)\n",
    "precious.shape"
   ]
  },
  {
   "cell_type": "code",
   "execution_count": 13,
   "metadata": {},
   "outputs": [
    {
     "data": {
      "text/plain": [
       "(100,)"
      ]
     },
     "execution_count": 13,
     "metadata": {},
     "output_type": "execute_result"
    }
   ],
   "source": [
    "pre = precious.head(100)\n",
    "pre.shape"
   ]
  },
  {
   "cell_type": "code",
   "execution_count": 14,
   "metadata": {},
   "outputs": [
    {
     "data": {
      "text/plain": [
       "1         1.000000\n",
       "136266    0.936733\n",
       "15964     0.918650\n",
       "155543    0.908027\n",
       "45827     0.903723\n",
       "dtype: float64"
      ]
     },
     "execution_count": 14,
     "metadata": {},
     "output_type": "execute_result"
    }
   ],
   "source": [
    "pre.head()"
   ]
  },
  {
   "cell_type": "code",
   "execution_count": 22,
   "metadata": {},
   "outputs": [
    {
     "data": {
      "text/plain": [
       "1         1.000000\n",
       "131043    0.894055\n",
       "163108    0.890335\n",
       "111637    0.885931\n",
       "57537     0.885052\n",
       "209408    0.884936\n",
       "41603     0.884705\n",
       "17222     0.883401\n",
       "160068    0.877925\n",
       "73647     0.876461\n",
       "208011    0.874643\n",
       "131517    0.872006\n",
       "96533     0.871360\n",
       "94954     0.870914\n",
       "20153     0.870873\n",
       "120762    0.869954\n",
       "94784     0.868929\n",
       "90527     0.868281\n",
       "157431    0.868261\n",
       "48768     0.866893\n",
       "13293     0.866807\n",
       "34298     0.865538\n",
       "67302     0.865442\n",
       "88982     0.865221\n",
       "132625    0.864565\n",
       "87254     0.864542\n",
       "29432     0.863750\n",
       "115568    0.860495\n",
       "140843    0.859470\n",
       "43908     0.857238\n",
       "            ...   \n",
       "100028   -0.549030\n",
       "55987    -0.550311\n",
       "127019   -0.551988\n",
       "33370    -0.552362\n",
       "184825   -0.552914\n",
       "186926   -0.554550\n",
       "93465    -0.554842\n",
       "92845    -0.555825\n",
       "134522   -0.557181\n",
       "90958    -0.560354\n",
       "202541   -0.561326\n",
       "32822    -0.564861\n",
       "133097   -0.565469\n",
       "105909   -0.566641\n",
       "115072   -0.568938\n",
       "73758    -0.569588\n",
       "108613   -0.570106\n",
       "103315   -0.573067\n",
       "115160   -0.574465\n",
       "183046   -0.574555\n",
       "24017    -0.574869\n",
       "163573   -0.579175\n",
       "67999    -0.589345\n",
       "139126   -0.590642\n",
       "84187    -0.592089\n",
       "191596   -0.598275\n",
       "204958   -0.600271\n",
       "28711    -0.617954\n",
       "53729    -0.621518\n",
       "109598   -0.625194\n",
       "Length: 209517, dtype: float64"
      ]
     },
     "execution_count": 22,
     "metadata": {},
     "output_type": "execute_result"
    }
   ],
   "source": [
    "precious[precious>.90].head(1).append(precious[precious<=.90])"
   ]
  },
  {
   "cell_type": "code",
   "execution_count": 20,
   "metadata": {},
   "outputs": [
    {
     "data": {
      "text/plain": [
       "131043    0.894055\n",
       "163108    0.890335\n",
       "111637    0.885931\n",
       "57537     0.885052\n",
       "209408    0.884936\n",
       "41603     0.884705\n",
       "17222     0.883401\n",
       "160068    0.877925\n",
       "73647     0.876461\n",
       "208011    0.874643\n",
       "131517    0.872006\n",
       "96533     0.871360\n",
       "94954     0.870914\n",
       "20153     0.870873\n",
       "120762    0.869954\n",
       "94784     0.868929\n",
       "90527     0.868281\n",
       "157431    0.868261\n",
       "48768     0.866893\n",
       "13293     0.866807\n",
       "34298     0.865538\n",
       "67302     0.865442\n",
       "88982     0.865221\n",
       "132625    0.864565\n",
       "87254     0.864542\n",
       "29432     0.863750\n",
       "115568    0.860495\n",
       "140843    0.859470\n",
       "43908     0.857238\n",
       "203980    0.857037\n",
       "            ...   \n",
       "100028   -0.549030\n",
       "55987    -0.550311\n",
       "127019   -0.551988\n",
       "33370    -0.552362\n",
       "184825   -0.552914\n",
       "186926   -0.554550\n",
       "93465    -0.554842\n",
       "92845    -0.555825\n",
       "134522   -0.557181\n",
       "90958    -0.560354\n",
       "202541   -0.561326\n",
       "32822    -0.564861\n",
       "133097   -0.565469\n",
       "105909   -0.566641\n",
       "115072   -0.568938\n",
       "73758    -0.569588\n",
       "108613   -0.570106\n",
       "103315   -0.573067\n",
       "115160   -0.574465\n",
       "183046   -0.574555\n",
       "24017    -0.574869\n",
       "163573   -0.579175\n",
       "67999    -0.589345\n",
       "139126   -0.590642\n",
       "84187    -0.592089\n",
       "191596   -0.598275\n",
       "204958   -0.600271\n",
       "28711    -0.617954\n",
       "53729    -0.621518\n",
       "109598   -0.625194\n",
       "Length: 209516, dtype: float64"
      ]
     },
     "execution_count": 20,
     "metadata": {},
     "output_type": "execute_result"
    }
   ],
   "source": [
    "precious[precious<=.90]"
   ]
  },
  {
   "cell_type": "markdown",
   "metadata": {},
   "source": [
    "### solution"
   ]
  },
  {
   "cell_type": "code",
   "execution_count": 75,
   "metadata": {},
   "outputs": [
    {
     "name": "stdout",
     "output_type": "stream",
     "text": [
      "(90,)\n"
     ]
    },
    {
     "data": {
      "text/plain": [
       "1         1.0000\n",
       "136266    0.9367\n",
       "15964     0.9186\n",
       "155543    0.9080\n",
       "45827     0.9037\n",
       "dtype: float64"
      ]
     },
     "execution_count": 75,
     "metadata": {},
     "output_type": "execute_result"
    }
   ],
   "source": [
    "print pre.apply(lambda x: round(x,4)).drop_duplicates().shape\n",
    "pre.apply(lambda x: round(x,4)).drop_duplicates().head()"
   ]
  },
  {
   "cell_type": "code",
   "execution_count": 76,
   "metadata": {},
   "outputs": [],
   "source": [
    "# aaa = pre.groupby(lambda x: round(x, 2))\n",
    "# aaa"
   ]
  },
  {
   "cell_type": "code",
   "execution_count": 77,
   "metadata": {},
   "outputs": [],
   "source": [
    "# aaa.first()"
   ]
  },
  {
   "cell_type": "code",
   "execution_count": 32,
   "metadata": {},
   "outputs": [
    {
     "data": {
      "text/plain": [
       "1         1.000000\n",
       "136266    0.936733\n",
       "15964     0.918650\n",
       "155543    0.908027\n",
       "45827     0.903723\n",
       "131043    0.894055\n",
       "163108    0.890335\n",
       "111637    0.885931\n",
       "57537     0.885052\n",
       "209408    0.884936\n",
       "dtype: float64"
      ]
     },
     "execution_count": 32,
     "metadata": {},
     "output_type": "execute_result"
    }
   ],
   "source": [
    "precious.head(10)"
   ]
  },
  {
   "cell_type": "code",
   "execution_count": 33,
   "metadata": {},
   "outputs": [
    {
     "data": {
      "text/plain": [
       "Int64Index([1, 136266, 15964, 155543, 45827], dtype='int64')"
      ]
     },
     "execution_count": 33,
     "metadata": {},
     "output_type": "execute_result"
    }
   ],
   "source": [
    "precious.head().index"
   ]
  },
  {
   "cell_type": "code",
   "execution_count": 34,
   "metadata": {},
   "outputs": [],
   "source": [
    "# !ls\n",
    "path = 'static/phos/'"
   ]
  },
  {
   "cell_type": "code",
   "execution_count": null,
   "metadata": {
    "collapsed": true
   },
   "outputs": [],
   "source": [
    "precious"
   ]
  },
  {
   "cell_type": "code",
   "execution_count": null,
   "metadata": {
    "collapsed": true
   },
   "outputs": [],
   "source": []
  },
  {
   "cell_type": "code",
   "execution_count": null,
   "metadata": {
    "collapsed": true
   },
   "outputs": [],
   "source": []
  },
  {
   "cell_type": "code",
   "execution_count": null,
   "metadata": {
    "collapsed": true
   },
   "outputs": [],
   "source": []
  },
  {
   "cell_type": "code",
   "execution_count": 79,
   "metadata": {},
   "outputs": [],
   "source": [
    "# for i in name.iloc[precious.head(5).index]['name'].values:show(path, i)"
   ]
  },
  {
   "cell_type": "code",
   "execution_count": null,
   "metadata": {},
   "outputs": [],
   "source": [
    "# for i in range(1000,1100):\n",
    "#     dating1 = df.as_matrix()[i].reshape(1,-1)\n",
    "#     precious=cosine_similarity(dating1, df1)\n",
    "#     precious=pd.Series(precious[0])\n",
    "#     precious=precious.sort_values(ascending=False)\n",
    "#     hun=precious.head(100)\n",
    "#     if hun.apply(lambda x: round(x,4)).drop_duplicates().shape[0]<90: \n",
    "#         print df.iloc[i,:].index\n",
    "    \n",
    "    "
   ]
  },
  {
   "cell_type": "code",
   "execution_count": null,
   "metadata": {
    "collapsed": true
   },
   "outputs": [],
   "source": []
  },
  {
   "cell_type": "code",
   "execution_count": null,
   "metadata": {
    "collapsed": true
   },
   "outputs": [],
   "source": []
  },
  {
   "cell_type": "code",
   "execution_count": null,
   "metadata": {
    "collapsed": true
   },
   "outputs": [],
   "source": []
  },
  {
   "cell_type": "code",
   "execution_count": 3,
   "metadata": {
    "collapsed": true
   },
   "outputs": [],
   "source": [
    "\n",
    "print 'used {:.2f} s'.format(time()-start)  \n",
    "print precious.shape\n",
    "beginning = precious[:20]\n",
    "ending = precious[-4:]    \n",
    "\n",
    "print beginning                 \n",
    "print ending   \n",
    "\n",
    "print type(beginning), type(ending)\n",
    "good=[]\n",
    "bad=[]\n",
    "for i,j in zip(beginning.index, beginning):\n",
    "    good.append([round(j,3)*100, name.iloc[i][0]])\n",
    "\n",
    "for i,j in zip(ending.index, ending):\n",
    "    bad.append([round(j,3)*100, name.iloc[i][0]])\n",
    "print good, bad"
   ]
  },
  {
   "cell_type": "code",
   "execution_count": 2,
   "metadata": {
    "collapsed": true
   },
   "outputs": [],
   "source": [
    "df = pd.read_csv('parameter/20WpicsPara.csv')\n",
    "name = df.pop('name').to_frame()"
   ]
  },
  {
   "cell_type": "code",
   "execution_count": null,
   "metadata": {
    "collapsed": true
   },
   "outputs": [],
   "source": []
  }
 ],
 "metadata": {
  "kernelspec": {
   "display_name": "Python 2",
   "language": "python",
   "name": "python2"
  },
  "language_info": {
   "codemirror_mode": {
    "name": "ipython",
    "version": 2
   },
   "file_extension": ".py",
   "mimetype": "text/x-python",
   "name": "python",
   "nbconvert_exporter": "python",
   "pygments_lexer": "ipython2",
   "version": "2.7.13"
  }
 },
 "nbformat": 4,
 "nbformat_minor": 2
}
