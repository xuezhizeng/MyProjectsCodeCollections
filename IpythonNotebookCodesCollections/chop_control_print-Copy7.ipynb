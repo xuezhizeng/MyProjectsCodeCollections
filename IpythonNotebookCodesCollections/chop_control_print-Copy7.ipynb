{
 "cells": [
  {
   "cell_type": "code",
   "execution_count": 1,
   "metadata": {
    "collapsed": true
   },
   "outputs": [],
   "source": [
    "# !ls"
   ]
  },
  {
   "cell_type": "code",
   "execution_count": 2,
   "metadata": {},
   "outputs": [
    {
     "name": "stdout",
     "output_type": "stream",
     "text": [
      "1 used 0.00 s | 100 used 32.92 s | 200 used 101.31 s | 300 used 172.51 s | 400 used 248.36 s | 500 used 321.89 s | 600 used 396.87 s | 700 used 479.65 s | 800 used 548.00 s | 900 used 621.10 s | 1000 used 692.06 s | 1100 used 765.50 s | 1200 used 839.33 s | 1300 used 916.14 s | 1400 used 987.66 s | 1500 used 1062.16 s | 1600 used 1138.05 s | 1700 used 1210.18 s | 1800 used 1283.09 s | 1900 used 1353.91 s | 2000 used 1427.88 s | 2100 used 1498.94 s | 2200 used 1570.83 s | 2300 used 1644.50 s | 2400 used 1713.99 s | 2500 used 1789.18 s | 2600 used 1865.85 s | 2700 used 1937.54 s | 2800 used 2009.89 s | 2900 used 2083.63 s | 3000 used 2156.56 s | 3100 used 2226.67 s | 3200 used 2298.70 s | 3300 used 2375.18 s | 3400 used 2447.53 s | 3500 used 2522.72 s | 3600 used 2595.76 s | 3700 used 2670.64 s | 3800 used 2740.64 s | 3900 used 2813.74 s | 4000 used 2891.15 s | 4100 used 2965.26 s | 4200 used 3037.30 s | 4300 used 3109.37 s | 4400 used 3180.89 s | 4500 used 3254.01 s | 4600 used 3327.56 s | 4700 used 3406.40 s | 4800 used 3483.13 s | 4900 used 3555.86 s | 5000 used 3632.15 s | 5100 used 3707.43 s | 5200 used 3780.51 s | 5300 used 3857.13 s | 5400 used 3931.68 s | 5500 used 4001.74 s | 5600 used 4071.00 s | 5700 used 4144.96 s | 5800 used 4218.30 s | 5900 used 4299.09 s | 6000 used 4376.51 s | 6100 used 4450.25 s | 6200 used 4522.56 s | 6300 used 4598.94 s | 6400 used 4674.96 s | 6500 used 4748.85 s | 6600 used 4820.20 s | 6700 used 4894.88 s | 6800 used 4970.39 s | 6900 used 5047.33 s | 7000 used 5120.15 s | 7100 used 5192.17 s | 7200 used 5268.24 s | 7300 used 5343.39 s | 7400 used 5416.90 s | 7500 used 5490.38 s | 7600 used 5562.41 s | 7700 used 5634.49 s | 7800 used 5708.20 s | 7900 used 5779.21 s | 8000 used 5854.33 s | 8100 used 5930.21 s | 8200 used 6003.48 s | 8300 used 6079.36 s | 8400 used 6155.06 s | 8500 used 6228.49 s | 8600 used 6297.79 s | 8700 used 6368.53 s | 8800 used 6440.97 s | 8900 used 6512.14 s | 9000 used 6585.37 s | 9100 used 6657.79 s | 9200 used 6730.18 s | 9300 used 6801.88 s | 9400 used 6875.79 s | 9500 used 6952.79 s | 9600 used 7027.74 s | 9700 used 7097.67 s | 9800 used 7153.03 s | 9900 used 7207.39 s |\n"
     ]
    },
    {
     "data": {
      "text/plain": [
       "7251.22393321991"
      ]
     },
     "execution_count": 2,
     "metadata": {},
     "output_type": "execute_result"
    }
   ],
   "source": [
    "from time import time\n",
    "start=time()\n",
    "start\n",
    "\n",
    "\n",
    "!python -u /root/openface/util/align-dlib_mod.py \\\n",
    "../real_soyoung_pics/img_11 align \\\n",
    "outerEyesAndNose \\\n",
    "../chopHead256_real_soyoung_pics \\\n",
    "--size 256\n",
    "\n",
    "end=time()-start\n",
    "end"
   ]
  },
  {
   "cell_type": "code",
   "execution_count": null,
   "metadata": {
    "collapsed": true
   },
   "outputs": [],
   "source": []
  }
 ],
 "metadata": {
  "kernelspec": {
   "display_name": "Python 2",
   "language": "python",
   "name": "python2"
  },
  "language_info": {
   "codemirror_mode": {
    "name": "ipython",
    "version": 2
   },
   "file_extension": ".py",
   "mimetype": "text/x-python",
   "name": "python",
   "nbconvert_exporter": "python",
   "pygments_lexer": "ipython2",
   "version": "2.7.6"
  }
 },
 "nbformat": 4,
 "nbformat_minor": 2
}
