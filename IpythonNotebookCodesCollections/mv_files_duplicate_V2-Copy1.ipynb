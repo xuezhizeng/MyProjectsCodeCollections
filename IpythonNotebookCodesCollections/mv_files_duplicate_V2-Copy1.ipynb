{
 "cells": [
  {
   "cell_type": "code",
   "execution_count": 1,
   "metadata": {
    "collapsed": true
   },
   "outputs": [],
   "source": [
    "import pandas as pd\n",
    "import shutil\n",
    "import os"
   ]
  },
  {
   "cell_type": "code",
   "execution_count": 2,
   "metadata": {},
   "outputs": [
    {
     "name": "stdout",
     "output_type": "stream",
     "text": [
      "29_Oct_47W_V4.csv\r\n",
      "2_Nov_54W_V6.csv\r\n",
      "31_Oct_50W_V5.csv\r\n",
      "boy_para.csv\r\n",
      "delete_fslint.txt\r\n",
      "keep\r\n",
      "loli1_para.csv\r\n",
      "mv_files_duplicate_V2-Copy1.ipynb\r\n",
      "mv_files_duplicate_V2.ipynb\r\n",
      "old\r\n",
      "para_final_combine_rm_dup_rm_utf-8_V3.ipynb\r\n",
      "para_final_combine_rm_dup_rm_utf-8_V4.ipynb\r\n",
      "para_final_combine_rm_dup_rm_utf-8_single_V5-Copy1.ipynb\r\n",
      "para_final_combine_rm_dup_rm_utf-8_single_V5.ipynb\r\n",
      "to_be_delete_boy.csv\r\n",
      "to_be_delete_loli.csv\r\n",
      "to_be_deleted\r\n",
      "trash0\r\n"
     ]
    }
   ],
   "source": [
    "!ls"
   ]
  },
  {
   "cell_type": "code",
   "execution_count": 10,
   "metadata": {
    "collapsed": true
   },
   "outputs": [],
   "source": [
    "# # path = '/home/soyoung/face/newFlask/static/phos/'\n",
    "# # path = '/home/soyoung/face/Handsome_Pics/handsome/ori/keep/'\n",
    "# # path = 'keep/'\n",
    "# path = '/home/soyoung/face/boy_pics/boy/ori/keep/'\n",
    "path=''"
   ]
  },
  {
   "cell_type": "code",
   "execution_count": 5,
   "metadata": {},
   "outputs": [
    {
     "name": "stdout",
     "output_type": "stream",
     "text": [
      "(42, 1)\n"
     ]
    },
    {
     "data": {
      "text/html": [
       "<div>\n",
       "<style>\n",
       "    .dataframe thead tr:only-child th {\n",
       "        text-align: right;\n",
       "    }\n",
       "\n",
       "    .dataframe thead th {\n",
       "        text-align: left;\n",
       "    }\n",
       "\n",
       "    .dataframe tbody tr th {\n",
       "        vertical-align: top;\n",
       "    }\n",
       "</style>\n",
       "<table border=\"1\" class=\"dataframe\">\n",
       "  <thead>\n",
       "    <tr style=\"text-align: right;\">\n",
       "      <th></th>\n",
       "      <th>name</th>\n",
       "    </tr>\n",
       "  </thead>\n",
       "  <tbody>\n",
       "    <tr>\n",
       "      <th>0</th>\n",
       "      <td>/home/soyoung/face/newFlask/static/phos/boy_su...</td>\n",
       "    </tr>\n",
       "    <tr>\n",
       "      <th>1</th>\n",
       "      <td>/home/soyoung/face/newFlask/static/phos/boy_su...</td>\n",
       "    </tr>\n",
       "    <tr>\n",
       "      <th>2</th>\n",
       "      <td>/home/soyoung/face/newFlask/static/phos/boy_su...</td>\n",
       "    </tr>\n",
       "  </tbody>\n",
       "</table>\n",
       "</div>"
      ],
      "text/plain": [
       "                                                name\n",
       "0  /home/soyoung/face/newFlask/static/phos/boy_su...\n",
       "1  /home/soyoung/face/newFlask/static/phos/boy_su...\n",
       "2  /home/soyoung/face/newFlask/static/phos/boy_su..."
      ]
     },
     "execution_count": 5,
     "metadata": {},
     "output_type": "execute_result"
    }
   ],
   "source": [
    "df = pd.read_csv('./delete_fslint.txt', names=['name'])\n",
    "print df.shape\n",
    "df.head(3)"
   ]
  },
  {
   "cell_type": "code",
   "execution_count": 6,
   "metadata": {},
   "outputs": [
    {
     "name": "stdout",
     "output_type": "stream",
     "text": [
      "/home/soyoung/face/newFlask/static/phos/boy_sub_28/12(53).jpg\n"
     ]
    }
   ],
   "source": [
    "for i in df['name']:\n",
    "    print i\n",
    "    break"
   ]
  },
  {
   "cell_type": "code",
   "execution_count": 7,
   "metadata": {},
   "outputs": [
    {
     "name": "stdout",
     "output_type": "stream",
     "text": [
      "[Errno 17] File exists: 'trash0/'\n"
     ]
    }
   ],
   "source": [
    "trash = 'trash0/'\n",
    "try:\n",
    "    os.mkdir(trash)\n",
    "except Exception as e:\n",
    "    print e"
   ]
  },
  {
   "cell_type": "code",
   "execution_count": 8,
   "metadata": {
    "collapsed": true
   },
   "outputs": [],
   "source": [
    "# !ls"
   ]
  },
  {
   "cell_type": "code",
   "execution_count": 9,
   "metadata": {},
   "outputs": [
    {
     "data": {
      "text/plain": [
       "'12(53).jpg'"
      ]
     },
     "execution_count": 9,
     "metadata": {},
     "output_type": "execute_result"
    }
   ],
   "source": [
    "''.join(i.split('/')[-1:])"
   ]
  },
  {
   "cell_type": "code",
   "execution_count": 11,
   "metadata": {},
   "outputs": [
    {
     "name": "stdout",
     "output_type": "stream",
     "text": [
      "0\n",
      "CPU times: user 4 ms, sys: 0 ns, total: 4 ms\n",
      "Wall time: 20 ms\n"
     ]
    }
   ],
   "source": [
    "%%time\n",
    "failed=[]\n",
    "for i in df['name']:\n",
    "    try:\n",
    "        shutil.move(path+i, trash+''.join(i.split('/')[-1:]))\n",
    "    except Exception as e:\n",
    "#         print e\n",
    "#         break\n",
    "        failed.append(i)\n",
    "#         print 'X',\n",
    "print len(failed)"
   ]
  },
  {
   "cell_type": "code",
   "execution_count": 13,
   "metadata": {},
   "outputs": [
    {
     "data": {
      "text/plain": [
       "[]"
      ]
     },
     "execution_count": 13,
     "metadata": {},
     "output_type": "execute_result"
    }
   ],
   "source": [
    "failed"
   ]
  },
  {
   "cell_type": "code",
   "execution_count": null,
   "metadata": {
    "collapsed": true
   },
   "outputs": [],
   "source": []
  }
 ],
 "metadata": {
  "kernelspec": {
   "display_name": "Python 2",
   "language": "python",
   "name": "python2"
  },
  "language_info": {
   "codemirror_mode": {
    "name": "ipython",
    "version": 2
   },
   "file_extension": ".py",
   "mimetype": "text/x-python",
   "name": "python",
   "nbconvert_exporter": "python",
   "pygments_lexer": "ipython2",
   "version": "2.7.13"
  }
 },
 "nbformat": 4,
 "nbformat_minor": 2
}
