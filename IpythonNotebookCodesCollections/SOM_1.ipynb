{
 "cells": [
  {
   "cell_type": "code",
   "execution_count": 1,
   "metadata": {
    "collapsed": true
   },
   "outputs": [],
   "source": [
    "import pandas as pd\n",
    "import matplotlib.pyplot as plt\n",
    "import numpy as np"
   ]
  },
  {
   "cell_type": "code",
   "execution_count": 110,
   "metadata": {},
   "outputs": [
    {
     "data": {
      "text/plain": [
       "(690, 16)"
      ]
     },
     "execution_count": 110,
     "metadata": {},
     "output_type": "execute_result"
    }
   ],
   "source": [
    "df = pd.read_csv('./Self_Organizing_Maps/Credit_Card_Applications.csv')\n",
    "df.shape"
   ]
  },
  {
   "cell_type": "code",
   "execution_count": 111,
   "metadata": {},
   "outputs": [
    {
     "data": {
      "text/html": [
       "<div>\n",
       "<style>\n",
       "    .dataframe thead tr:only-child th {\n",
       "        text-align: right;\n",
       "    }\n",
       "\n",
       "    .dataframe thead th {\n",
       "        text-align: left;\n",
       "    }\n",
       "\n",
       "    .dataframe tbody tr th {\n",
       "        vertical-align: top;\n",
       "    }\n",
       "</style>\n",
       "<table border=\"1\" class=\"dataframe\">\n",
       "  <thead>\n",
       "    <tr style=\"text-align: right;\">\n",
       "      <th></th>\n",
       "      <th>CustomerID</th>\n",
       "      <th>A1</th>\n",
       "      <th>A2</th>\n",
       "      <th>A3</th>\n",
       "      <th>A4</th>\n",
       "      <th>A5</th>\n",
       "      <th>A6</th>\n",
       "      <th>A7</th>\n",
       "      <th>A8</th>\n",
       "      <th>A9</th>\n",
       "      <th>A10</th>\n",
       "      <th>A11</th>\n",
       "      <th>A12</th>\n",
       "      <th>A13</th>\n",
       "      <th>A14</th>\n",
       "      <th>Class</th>\n",
       "    </tr>\n",
       "  </thead>\n",
       "  <tbody>\n",
       "    <tr>\n",
       "      <th>685</th>\n",
       "      <td>15808223</td>\n",
       "      <td>1</td>\n",
       "      <td>31.57</td>\n",
       "      <td>10.500</td>\n",
       "      <td>2</td>\n",
       "      <td>14</td>\n",
       "      <td>4</td>\n",
       "      <td>6.500</td>\n",
       "      <td>1</td>\n",
       "      <td>0</td>\n",
       "      <td>0</td>\n",
       "      <td>0</td>\n",
       "      <td>2</td>\n",
       "      <td>0</td>\n",
       "      <td>1</td>\n",
       "      <td>1</td>\n",
       "    </tr>\n",
       "    <tr>\n",
       "      <th>686</th>\n",
       "      <td>15769980</td>\n",
       "      <td>1</td>\n",
       "      <td>20.67</td>\n",
       "      <td>0.415</td>\n",
       "      <td>2</td>\n",
       "      <td>8</td>\n",
       "      <td>4</td>\n",
       "      <td>0.125</td>\n",
       "      <td>0</td>\n",
       "      <td>0</td>\n",
       "      <td>0</td>\n",
       "      <td>0</td>\n",
       "      <td>2</td>\n",
       "      <td>0</td>\n",
       "      <td>45</td>\n",
       "      <td>0</td>\n",
       "    </tr>\n",
       "    <tr>\n",
       "      <th>687</th>\n",
       "      <td>15675450</td>\n",
       "      <td>0</td>\n",
       "      <td>18.83</td>\n",
       "      <td>9.540</td>\n",
       "      <td>2</td>\n",
       "      <td>6</td>\n",
       "      <td>4</td>\n",
       "      <td>0.085</td>\n",
       "      <td>1</td>\n",
       "      <td>0</td>\n",
       "      <td>0</td>\n",
       "      <td>0</td>\n",
       "      <td>2</td>\n",
       "      <td>100</td>\n",
       "      <td>1</td>\n",
       "      <td>1</td>\n",
       "    </tr>\n",
       "    <tr>\n",
       "      <th>688</th>\n",
       "      <td>15776494</td>\n",
       "      <td>0</td>\n",
       "      <td>27.42</td>\n",
       "      <td>14.500</td>\n",
       "      <td>2</td>\n",
       "      <td>14</td>\n",
       "      <td>8</td>\n",
       "      <td>3.085</td>\n",
       "      <td>1</td>\n",
       "      <td>1</td>\n",
       "      <td>1</td>\n",
       "      <td>0</td>\n",
       "      <td>2</td>\n",
       "      <td>120</td>\n",
       "      <td>12</td>\n",
       "      <td>1</td>\n",
       "    </tr>\n",
       "    <tr>\n",
       "      <th>689</th>\n",
       "      <td>15592412</td>\n",
       "      <td>1</td>\n",
       "      <td>41.00</td>\n",
       "      <td>0.040</td>\n",
       "      <td>2</td>\n",
       "      <td>10</td>\n",
       "      <td>4</td>\n",
       "      <td>0.040</td>\n",
       "      <td>0</td>\n",
       "      <td>1</td>\n",
       "      <td>1</td>\n",
       "      <td>0</td>\n",
       "      <td>1</td>\n",
       "      <td>560</td>\n",
       "      <td>1</td>\n",
       "      <td>1</td>\n",
       "    </tr>\n",
       "  </tbody>\n",
       "</table>\n",
       "</div>"
      ],
      "text/plain": [
       "     CustomerID  A1     A2      A3  A4  A5  A6     A7  A8  A9  A10  A11  A12  \\\n",
       "685    15808223   1  31.57  10.500   2  14   4  6.500   1   0    0    0    2   \n",
       "686    15769980   1  20.67   0.415   2   8   4  0.125   0   0    0    0    2   \n",
       "687    15675450   0  18.83   9.540   2   6   4  0.085   1   0    0    0    2   \n",
       "688    15776494   0  27.42  14.500   2  14   8  3.085   1   1    1    0    2   \n",
       "689    15592412   1  41.00   0.040   2  10   4  0.040   0   1    1    0    1   \n",
       "\n",
       "     A13  A14  Class  \n",
       "685    0    1      1  \n",
       "686    0   45      0  \n",
       "687  100    1      1  \n",
       "688  120   12      1  \n",
       "689  560    1      1  "
      ]
     },
     "execution_count": 111,
     "metadata": {},
     "output_type": "execute_result"
    }
   ],
   "source": [
    "df.tail()"
   ]
  },
  {
   "cell_type": "code",
   "execution_count": 112,
   "metadata": {},
   "outputs": [
    {
     "data": {
      "text/plain": [
       "(690,)"
      ]
     },
     "execution_count": 112,
     "metadata": {},
     "output_type": "execute_result"
    }
   ],
   "source": [
    "(df['CustomerID'].unique()).shape"
   ]
  },
  {
   "cell_type": "code",
   "execution_count": 113,
   "metadata": {
    "collapsed": true
   },
   "outputs": [],
   "source": [
    "sp = lambda *x: [i.shape for i in x]"
   ]
  },
  {
   "cell_type": "code",
   "execution_count": 114,
   "metadata": {},
   "outputs": [
    {
     "data": {
      "text/plain": [
       "[(690, 15), (690,)]"
      ]
     },
     "execution_count": 114,
     "metadata": {},
     "output_type": "execute_result"
    }
   ],
   "source": [
    "X = df.iloc[:,:-1].values\n",
    "y = df.iloc[:,-1].values\n",
    "sp(X, y)"
   ]
  },
  {
   "cell_type": "code",
   "execution_count": 115,
   "metadata": {},
   "outputs": [
    {
     "data": {
      "text/plain": [
       "array([[  1.57761560e+07,   1.00000000e+00,   2.20800000e+01, ...,\n",
       "          2.00000000e+00,   1.00000000e+02,   1.21300000e+03],\n",
       "       [  1.57395480e+07,   0.00000000e+00,   2.26700000e+01, ...,\n",
       "          2.00000000e+00,   1.60000000e+02,   1.00000000e+00],\n",
       "       [  1.56628540e+07,   0.00000000e+00,   2.95800000e+01, ...,\n",
       "          2.00000000e+00,   2.80000000e+02,   1.00000000e+00],\n",
       "       ..., \n",
       "       [  1.56754500e+07,   0.00000000e+00,   1.88300000e+01, ...,\n",
       "          2.00000000e+00,   1.00000000e+02,   1.00000000e+00],\n",
       "       [  1.57764940e+07,   0.00000000e+00,   2.74200000e+01, ...,\n",
       "          2.00000000e+00,   1.20000000e+02,   1.20000000e+01],\n",
       "       [  1.55924120e+07,   1.00000000e+00,   4.10000000e+01, ...,\n",
       "          1.00000000e+00,   5.60000000e+02,   1.00000000e+00]])"
      ]
     },
     "execution_count": 115,
     "metadata": {},
     "output_type": "execute_result"
    }
   ],
   "source": [
    "X"
   ]
  },
  {
   "cell_type": "markdown",
   "metadata": {},
   "source": [
    "### feature scaling"
   ]
  },
  {
   "cell_type": "code",
   "execution_count": 116,
   "metadata": {},
   "outputs": [
    {
     "data": {
      "text/plain": [
       "MinMaxScaler(copy=True, feature_range=(0, 1))"
      ]
     },
     "execution_count": 116,
     "metadata": {},
     "output_type": "execute_result"
    }
   ],
   "source": [
    "from sklearn.preprocessing import MinMaxScaler\n",
    "sc = MinMaxScaler()\n",
    "sc"
   ]
  },
  {
   "cell_type": "code",
   "execution_count": 117,
   "metadata": {},
   "outputs": [
    {
     "data": {
      "text/plain": [
       "(690, 15)"
      ]
     },
     "execution_count": 117,
     "metadata": {},
     "output_type": "execute_result"
    }
   ],
   "source": [
    "X = sc.fit_transform(X)\n",
    "X.shape"
   ]
  },
  {
   "cell_type": "markdown",
   "metadata": {},
   "source": [
    "https://stackoverflow.com/questions/4383571/importing-files-from-different-folder"
   ]
  },
  {
   "cell_type": "code",
   "execution_count": 26,
   "metadata": {
    "collapsed": true
   },
   "outputs": [],
   "source": [
    "import sys\n",
    "sys.path.insert(0,'./Self_Organizing_Maps/')"
   ]
  },
  {
   "cell_type": "code",
   "execution_count": 32,
   "metadata": {
    "collapsed": true
   },
   "outputs": [],
   "source": [
    "from minisom import MiniSom\n",
    "som = MiniSom(10, 10, 15)"
   ]
  },
  {
   "cell_type": "code",
   "execution_count": 56,
   "metadata": {},
   "outputs": [],
   "source": [
    "som.random_weights_init(X)\n",
    "som.train_random(data=X, num_iteration=10000)"
   ]
  },
  {
   "cell_type": "code",
   "execution_count": 57,
   "metadata": {
    "collapsed": true
   },
   "outputs": [],
   "source": [
    "from pylab import bone, pcolor, colorbar, plot, show\n",
    "%matplotlib inline"
   ]
  },
  {
   "cell_type": "code",
   "execution_count": 60,
   "metadata": {},
   "outputs": [
    {
     "data": {
      "text/plain": [
       "array([[ 0.365299  ,  0.63653754,  0.53230688,  0.34691926,  0.44783853,\n",
       "         0.45676866,  0.30243179,  0.27060895,  0.28723862,  0.17882776],\n",
       "       [ 0.6204405 ,  1.        ,  0.73974587,  0.58799305,  0.7742572 ,\n",
       "         0.85813995,  0.69006399,  0.51068493,  0.46345782,  0.22975148],\n",
       "       [ 0.62552371,  0.81509572,  0.48376398,  0.48186797,  0.74134156,\n",
       "         0.89113285,  0.82851332,  0.72665474,  0.54582821,  0.27693205],\n",
       "       [ 0.52337233,  0.64115533,  0.38714595,  0.3845986 ,  0.56822952,\n",
       "         0.78209499,  0.83496388,  0.79424096,  0.70305011,  0.40850516],\n",
       "       [ 0.38495264,  0.56821097,  0.52404653,  0.53973967,  0.61509992,\n",
       "         0.69563235,  0.72517206,  0.72408054,  0.6631663 ,  0.36527557],\n",
       "       [ 0.33259887,  0.60798998,  0.69173694,  0.67313923,  0.56737326,\n",
       "         0.56893698,  0.66456858,  0.71547917,  0.59811776,  0.28446112],\n",
       "       [ 0.39462573,  0.62897538,  0.71004943,  0.6735571 ,  0.4532087 ,\n",
       "         0.43333217,  0.55227338,  0.69701951,  0.6077978 ,  0.28369007],\n",
       "       [ 0.47059573,  0.7234121 ,  0.67155108,  0.56811185,  0.42419896,\n",
       "         0.43468847,  0.52043819,  0.62317597,  0.65062035,  0.37367662],\n",
       "       [ 0.58460503,  0.86965488,  0.64653159,  0.58685875,  0.53383288,\n",
       "         0.51297108,  0.46173628,  0.50183107,  0.692611  ,  0.49793616],\n",
       "       [ 0.37471121,  0.55784421,  0.43500603,  0.42323484,  0.37152375,\n",
       "         0.34890307,  0.2593626 ,  0.26053913,  0.4485843 ,  0.34677392]])"
      ]
     },
     "execution_count": 60,
     "metadata": {},
     "output_type": "execute_result"
    }
   ],
   "source": [
    "som.distance_map()"
   ]
  },
  {
   "cell_type": "code",
   "execution_count": 79,
   "metadata": {},
   "outputs": [
    {
     "data": {
      "text/plain": [
       "<matplotlib.colorbar.Colorbar at 0x7fd283792990>"
      ]
     },
     "execution_count": 79,
     "metadata": {},
     "output_type": "execute_result"
    },
    {
     "data": {
      "image/png": "[encoded data removed]",
      "text/plain": [
       "<matplotlib.figure.Figure at 0x7fd28387f0d0>"
      ]
     },
     "metadata": {},
     "output_type": "display_data"
    }
   ],
   "source": [
    "plt.figure(figsize=((6,6)))\n",
    "plt.imshow(som.distance_map())\n",
    "plt.colorbar()"
   ]
  },
  {
   "cell_type": "code",
   "execution_count": 72,
   "metadata": {},
   "outputs": [
    {
     "data": {
      "text/plain": [
       "<matplotlib.axes._subplots.AxesSubplot at 0x7fd284088e90>"
      ]
     },
     "execution_count": 72,
     "metadata": {},
     "output_type": "execute_result"
    },
    {
     "data": {
      "image/png": "[encoded data removed]",
      "text/plain": [
       "<matplotlib.figure.Figure at 0x7fd284088750>"
      ]
     },
     "metadata": {},
     "output_type": "display_data"
    }
   ],
   "source": [
    "import seaborn as sns\n",
    "sns.heatmap(som.distance_map())"
   ]
  },
  {
   "cell_type": "code",
   "execution_count": 89,
   "metadata": {},
   "outputs": [
    {
     "data": {
      "image/png": "[encoded data removed]",
      "text/plain": [
       "<matplotlib.figure.Figure at 0x7fd282bd1290>"
      ]
     },
     "metadata": {},
     "output_type": "display_data"
    }
   ],
   "source": [
    "plt.figure(figsize=((12,8)))\n",
    "bone()\n",
    "pcolor(som.distance_map().T)\n",
    "colorbar()\n",
    "markers = ['o','s']\n",
    "colors=['r','g']\n",
    "for i, x in enumerate(X):\n",
    "    w = som.winner(x)\n",
    "    plot(w[0]+.5,\n",
    "         w[1]+.5,\n",
    "         markers[y[i]],\n",
    "        markeredgecolor=colors[y[i]],\n",
    "        markerfacecolor='None',\n",
    "        markersize=10,\n",
    "        markeredgewidth=2)\n",
    "show()"
   ]
  },
  {
   "cell_type": "code",
   "execution_count": 92,
   "metadata": {},
   "outputs": [
    {
     "data": {
      "text/plain": [
       "(73, collections.defaultdict)"
      ]
     },
     "execution_count": 92,
     "metadata": {},
     "output_type": "execute_result"
    }
   ],
   "source": [
    "mappings=som.win_map(X)\n",
    "len(mappings), type(mappings)"
   ]
  },
  {
   "cell_type": "code",
   "execution_count": 94,
   "metadata": {},
   "outputs": [],
   "source": [
    "# mappings"
   ]
  },
  {
   "cell_type": "code",
   "execution_count": 101,
   "metadata": {},
   "outputs": [
    {
     "data": {
      "text/plain": [
       "array([[  3.15297783e-01,   0.00000000e+00,   6.64661654e-02,\n",
       "          3.57142857e-01,   0.00000000e+00,   7.69230769e-01,\n",
       "          8.75000000e-01,   5.78947368e-03,   0.00000000e+00,\n",
       "          0.00000000e+00,   0.00000000e+00,   0.00000000e+00,\n",
       "          5.00000000e-01,   1.70000000e-01,   0.00000000e+00],\n",
       "       [  1.13102603e-01,   0.00000000e+00,   1.20300752e-01,\n",
       "          6.25000000e-02,   0.00000000e+00,   3.07692308e-01,\n",
       "          2.50000000e-01,   0.00000000e+00,   0.00000000e+00,\n",
       "          0.00000000e+00,   0.00000000e+00,   0.00000000e+00,\n",
       "          5.00000000e-01,   8.00000000e-02,   0.00000000e+00],\n",
       "       [  2.56421961e-01,   0.00000000e+00,   1.59097744e-01,\n",
       "          8.92857143e-02,   0.00000000e+00,   1.53846154e-01,\n",
       "          5.00000000e-01,   1.57894737e-01,   0.00000000e+00,\n",
       "          0.00000000e+00,   0.00000000e+00,   0.00000000e+00,\n",
       "          5.00000000e-01,   1.00000000e-01,   4.56000000e-03],\n",
       "       [  1.09258436e-01,   0.00000000e+00,   2.70676692e-01,\n",
       "          1.07142857e-01,   0.00000000e+00,   3.07692308e-01,\n",
       "          2.50000000e-01,   0.00000000e+00,   0.00000000e+00,\n",
       "          0.00000000e+00,   0.00000000e+00,   0.00000000e+00,\n",
       "          5.00000000e-01,   8.00000000e-02,   2.00000000e-04],\n",
       "       [  4.82803359e-02,   0.00000000e+00,   2.36842105e-01,\n",
       "          3.87500000e-02,   0.00000000e+00,   1.00000000e+00,\n",
       "          3.75000000e-01,   3.50877193e-02,   0.00000000e+00,\n",
       "          0.00000000e+00,   0.00000000e+00,   0.00000000e+00,\n",
       "          5.00000000e-01,   1.40000000e-01,   1.30000000e-04],\n",
       "       [  4.07389610e-01,   1.00000000e+00,   3.93533835e-01,\n",
       "          1.78571429e-01,   5.00000000e-01,   1.53846154e-01,\n",
       "          5.00000000e-01,   7.36842105e-03,   0.00000000e+00,\n",
       "          0.00000000e+00,   0.00000000e+00,   0.00000000e+00,\n",
       "          5.00000000e-01,   2.75000000e-01,   0.00000000e+00],\n",
       "       [  7.90432829e-01,   1.00000000e+00,   2.24360902e-01,\n",
       "          5.17857143e-01,   5.00000000e-01,   7.69230769e-02,\n",
       "          3.75000000e-01,   4.38596491e-03,   0.00000000e+00,\n",
       "          0.00000000e+00,   0.00000000e+00,   0.00000000e+00,\n",
       "          5.00000000e-01,   0.00000000e+00,   2.86000000e-03],\n",
       "       [  6.59006363e-01,   1.00000000e+00,   3.37142857e-01,\n",
       "          1.96428571e-01,   5.00000000e-01,   1.53846154e-01,\n",
       "          5.00000000e-01,   1.75438596e-01,   0.00000000e+00,\n",
       "          0.00000000e+00,   0.00000000e+00,   0.00000000e+00,\n",
       "          5.00000000e-01,   1.05000000e-01,   6.87000000e-03],\n",
       "       [  6.53476368e-01,   1.00000000e+00,   2.33082707e-01,\n",
       "          4.64285714e-01,   5.00000000e-01,   7.69230769e-02,\n",
       "          8.75000000e-01,   1.75438596e-02,   0.00000000e+00,\n",
       "          0.00000000e+00,   0.00000000e+00,   0.00000000e+00,\n",
       "          5.00000000e-01,   1.14000000e-01,   0.00000000e+00],\n",
       "       [  5.70706646e-01,   1.00000000e+00,   7.26315789e-02,\n",
       "          2.03928571e-01,   5.00000000e-01,   7.69230769e-02,\n",
       "          3.75000000e-01,   1.89473684e-02,   0.00000000e+00,\n",
       "          0.00000000e+00,   0.00000000e+00,   0.00000000e+00,\n",
       "          5.00000000e-01,   6.00000000e-02,   0.00000000e+00],\n",
       "       [  2.66532922e-01,   1.00000000e+00,   1.35338346e-01,\n",
       "          4.10714286e-01,   5.00000000e-01,   1.53846154e-01,\n",
       "          3.75000000e-01,   1.45614035e-02,   0.00000000e+00,\n",
       "          0.00000000e+00,   0.00000000e+00,   0.00000000e+00,\n",
       "          5.00000000e-01,   0.00000000e+00,   0.00000000e+00],\n",
       "       [  3.63205715e-01,   1.00000000e+00,   4.03458647e-01,\n",
       "          5.35714286e-02,   5.00000000e-01,   1.53846154e-01,\n",
       "          5.00000000e-01,   0.00000000e+00,   0.00000000e+00,\n",
       "          0.00000000e+00,   0.00000000e+00,   0.00000000e+00,\n",
       "          0.00000000e+00,   1.50000000e-01,   0.00000000e+00]])"
      ]
     },
     "execution_count": 101,
     "metadata": {},
     "output_type": "execute_result"
    }
   ],
   "source": [
    "frauds = np.concatenate([mappings[(1,1)], mappings[(1,8)]])\n",
    "frauds"
   ]
  },
  {
   "cell_type": "code",
   "execution_count": 107,
   "metadata": {
    "collapsed": true
   },
   "outputs": [],
   "source": [
    "sc.inverse_transform?"
   ]
  },
  {
   "cell_type": "code",
   "execution_count": 108,
   "metadata": {},
   "outputs": [
    {
     "data": {
      "text/plain": [
       "array([[  8.42681467e-01,   1.00000000e+00,   1.25263158e-01, ...,\n",
       "          5.00000000e-01,   5.00000000e-02,   1.21200000e-02],\n",
       "       [  6.96090562e-01,   0.00000000e+00,   1.34135338e-01, ...,\n",
       "          5.00000000e-01,   8.00000000e-02,   0.00000000e+00],\n",
       "       [  3.88981656e-01,   0.00000000e+00,   2.38045113e-01, ...,\n",
       "          5.00000000e-01,   1.40000000e-01,   0.00000000e+00],\n",
       "       ..., \n",
       "       [  4.39420332e-01,   0.00000000e+00,   7.63909774e-02, ...,\n",
       "          5.00000000e-01,   5.00000000e-02,   0.00000000e+00],\n",
       "       [  8.44034934e-01,   0.00000000e+00,   2.05563910e-01, ...,\n",
       "          5.00000000e-01,   6.00000000e-02,   1.10000000e-04],\n",
       "       [  1.06907888e-01,   1.00000000e+00,   4.09774436e-01, ...,\n",
       "          0.00000000e+00,   2.80000000e-01,   0.00000000e+00]])"
      ]
     },
     "execution_count": 108,
     "metadata": {},
     "output_type": "execute_result"
    }
   ],
   "source": [
    "X"
   ]
  },
  {
   "cell_type": "code",
   "execution_count": 119,
   "metadata": {},
   "outputs": [
    {
     "data": {
      "text/plain": [
       "array([[  1.56444530e+07,   0.00000000e+00,   1.81700000e+01,\n",
       "          1.00000000e+01,   1.00000000e+00,   1.10000000e+01,\n",
       "          8.00000000e+00,   1.65000000e-01,   0.00000000e+00,\n",
       "          0.00000000e+00,   0.00000000e+00,   0.00000000e+00,\n",
       "          2.00000000e+00,   3.40000000e+02,   1.00000000e+00],\n",
       "       [  1.55939590e+07,   0.00000000e+00,   2.17500000e+01,\n",
       "          1.75000000e+00,   1.00000000e+00,   5.00000000e+00,\n",
       "          3.00000000e+00,   0.00000000e+00,   0.00000000e+00,\n",
       "          0.00000000e+00,   0.00000000e+00,   0.00000000e+00,\n",
       "          2.00000000e+00,   1.60000000e+02,   1.00000000e+00],\n",
       "       [  1.56297500e+07,   0.00000000e+00,   2.43300000e+01,\n",
       "          2.50000000e+00,   1.00000000e+00,   3.00000000e+00,\n",
       "          5.00000000e+00,   4.50000000e+00,   0.00000000e+00,\n",
       "          0.00000000e+00,   0.00000000e+00,   0.00000000e+00,\n",
       "          2.00000000e+00,   2.00000000e+02,   4.57000000e+02],\n",
       "       [  1.55929990e+07,   0.00000000e+00,   3.17500000e+01,\n",
       "          3.00000000e+00,   1.00000000e+00,   5.00000000e+00,\n",
       "          3.00000000e+00,   0.00000000e+00,   0.00000000e+00,\n",
       "          0.00000000e+00,   0.00000000e+00,   0.00000000e+00,\n",
       "          2.00000000e+00,   1.60000000e+02,   2.10000000e+01],\n",
       "       [  1.55777710e+07,   0.00000000e+00,   2.95000000e+01,\n",
       "          1.08500000e+00,   1.00000000e+00,   1.40000000e+01,\n",
       "          4.00000000e+00,   1.00000000e+00,   0.00000000e+00,\n",
       "          0.00000000e+00,   0.00000000e+00,   0.00000000e+00,\n",
       "          2.00000000e+00,   2.80000000e+02,   1.40000000e+01],\n",
       "       [  1.56674510e+07,   1.00000000e+00,   3.99200000e+01,\n",
       "          5.00000000e+00,   2.00000000e+00,   3.00000000e+00,\n",
       "          5.00000000e+00,   2.10000000e-01,   0.00000000e+00,\n",
       "          0.00000000e+00,   0.00000000e+00,   0.00000000e+00,\n",
       "          2.00000000e+00,   5.50000000e+02,   1.00000000e+00],\n",
       "       [  1.57631080e+07,   1.00000000e+00,   2.86700000e+01,\n",
       "          1.45000000e+01,   2.00000000e+00,   2.00000000e+00,\n",
       "          4.00000000e+00,   1.25000000e-01,   0.00000000e+00,\n",
       "          0.00000000e+00,   0.00000000e+00,   0.00000000e+00,\n",
       "          2.00000000e+00,   0.00000000e+00,   2.87000000e+02],\n",
       "       [  1.57302870e+07,   1.00000000e+00,   3.61700000e+01,\n",
       "          5.50000000e+00,   2.00000000e+00,   3.00000000e+00,\n",
       "          5.00000000e+00,   5.00000000e+00,   0.00000000e+00,\n",
       "          0.00000000e+00,   0.00000000e+00,   0.00000000e+00,\n",
       "          2.00000000e+00,   2.10000000e+02,   6.88000000e+02],\n",
       "       [  1.57289060e+07,   1.00000000e+00,   2.92500000e+01,\n",
       "          1.30000000e+01,   2.00000000e+00,   2.00000000e+00,\n",
       "          8.00000000e+00,   5.00000000e-01,   0.00000000e+00,\n",
       "          0.00000000e+00,   0.00000000e+00,   0.00000000e+00,\n",
       "          2.00000000e+00,   2.28000000e+02,   1.00000000e+00],\n",
       "       [  1.57082360e+07,   1.00000000e+00,   1.85800000e+01,\n",
       "          5.71000000e+00,   2.00000000e+00,   2.00000000e+00,\n",
       "          4.00000000e+00,   5.40000000e-01,   0.00000000e+00,\n",
       "          0.00000000e+00,   0.00000000e+00,   0.00000000e+00,\n",
       "          2.00000000e+00,   1.20000000e+02,   1.00000000e+00],\n",
       "       [  1.56322750e+07,   1.00000000e+00,   2.27500000e+01,\n",
       "          1.15000000e+01,   2.00000000e+00,   3.00000000e+00,\n",
       "          4.00000000e+00,   4.15000000e-01,   0.00000000e+00,\n",
       "          0.00000000e+00,   0.00000000e+00,   0.00000000e+00,\n",
       "          2.00000000e+00,   0.00000000e+00,   1.00000000e+00],\n",
       "       [  1.56564170e+07,   1.00000000e+00,   4.05800000e+01,\n",
       "          1.50000000e+00,   2.00000000e+00,   3.00000000e+00,\n",
       "          5.00000000e+00,   0.00000000e+00,   0.00000000e+00,\n",
       "          0.00000000e+00,   0.00000000e+00,   0.00000000e+00,\n",
       "          1.00000000e+00,   3.00000000e+02,   1.00000000e+00]])"
      ]
     },
     "execution_count": 119,
     "metadata": {},
     "output_type": "execute_result"
    }
   ],
   "source": [
    "sc.inverse_transform(frauds)"
   ]
  },
  {
   "cell_type": "code",
   "execution_count": null,
   "metadata": {
    "collapsed": true
   },
   "outputs": [],
   "source": []
  }
 ],
 "metadata": {
  "kernelspec": {
   "display_name": "Python 2",
   "language": "python",
   "name": "python2"
  },
  "language_info": {
   "codemirror_mode": {
    "name": "ipython",
    "version": 2
   },
   "file_extension": ".py",
   "mimetype": "text/x-python",
   "name": "python",
   "nbconvert_exporter": "python",
   "pygments_lexer": "ipython2",
   "version": "2.7.13"
  }
 },
 "nbformat": 4,
 "nbformat_minor": 2
}
