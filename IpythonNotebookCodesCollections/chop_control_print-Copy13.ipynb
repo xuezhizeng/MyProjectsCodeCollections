{
 "cells": [
  {
   "cell_type": "code",
   "execution_count": 1,
   "metadata": {
    "collapsed": true
   },
   "outputs": [],
   "source": [
    "# !ls"
   ]
  },
  {
   "cell_type": "code",
   "execution_count": 1,
   "metadata": {
    "scrolled": true
   },
   "outputs": [
    {
     "name": "stdout",
     "output_type": "stream",
     "text": [
      "1 used 0.00 s | 100 used 36.22 s | 200 used 76.97 s | 300 used 116.34 s | 400 used 158.10 s | 500 used 197.24 s | 600 used 236.17 s | 700 used 278.32 s | 800 used 319.95 s | 900 used 359.57 s | 1000 used 401.78 s | 1100 used 441.85 s | 1200 used 480.55 s | 1300 used 520.49 s | 1400 used 559.07 s | 1500 used 600.86 s | 1600 used 639.54 s | 1700 used 681.89 s | 1800 used 720.84 s | 1900 used 762.19 s | 2000 used 801.89 s | 2100 used 844.27 s | 2200 used 884.95 s | 2300 used 924.37 s | 2400 used 966.34 s | 2500 used 1006.59 s | 2600 used 1045.81 s | 2700 used 1087.66 s | 2800 used 1126.40 s | 2900 used 1166.97 s | 3000 used 1207.89 s | 3100 used 1248.49 s | 3200 used 1286.78 s | 3300 used 1329.29 s | 3400 used 1369.19 s | 3500 used 1411.93 s | 3600 used 1453.87 s | 3700 used 1492.80 s | 3800 used 1531.60 s | 3900 used 1572.89 s | 4000 used 1613.21 s | 4100 used 1652.90 s | 4200 used 1692.31 s | 4300 used 1734.77 s | 4400 used 1773.53 s | 4500 used 1813.33 s | 4600 used 1853.80 s | 4700 used 1891.34 s | 4800 used 1931.92 s | 4900 used 1973.07 s | 5000 used 2015.34 s | 5100 used 2057.42 s | 5200 used 2097.63 s | 5300 used 2138.02 s | 5400 used 2176.44 s | 5500 used 2218.10 s | 5600 used 2259.78 s | 5700 used 2299.29 s | 5800 used 2338.38 s | 5900 used 2378.71 s | 6000 used 2418.48 s | 6100 used 2459.91 s | 6200 used 2502.00 s | 6300 used 2542.38 s | 6400 used 2582.69 s | 6500 used 2622.39 s | 6600 used 2662.02 s | 6700 used 2702.04 s | 6800 used 2740.93 s | 6900 used 2779.16 s | 7000 used 2819.84 s | 7100 used 2860.16 s | 7200 used 2898.03 s | 7300 used 2939.01 s | 7400 used 2980.36 s | 7500 used 3022.00 s | 7600 used 3063.95 s | 7700 used 3103.48 s | 7800 used 3143.34 s | 7900 used 3183.09 s | 8000 used 3224.59 s | 8100 used 3266.79 s | 8200 used 3307.45 s | 8300 used 3347.50 s | 8400 used 3386.78 s | 8500 used 3425.69 s | 8600 used 3466.89 s | 8700 used 3507.96 s | 8800 used 3548.82 s | 8900 used 3589.24 s | 9000 used 3627.91 s | 9100 used 3669.02 s | 9200 used 3708.88 s | 9300 used 3747.98 s | 9400 used 3788.80 s | 9500 used 3829.07 s | 9600 used 3870.62 s | 9700 used 3911.10 s | 9800 used 3952.94 s | 9900 used 3992.82 s |\n"
     ]
    },
    {
     "data": {
      "text/plain": [
       "4030.4866740703583"
      ]
     },
     "execution_count": 1,
     "metadata": {},
     "output_type": "execute_result"
    }
   ],
   "source": [
    "from time import time\n",
    "start=time()\n",
    "start\n",
    "\n",
    "\n",
    "!python -u /root/openface/util/align-dlib_mod.py \\\n",
    "../real_soyoung_pics/img_17 align \\\n",
    "outerEyesAndNose \\\n",
    "../chopHead256_real_soyoung_pics \\\n",
    "--size 256\n",
    "\n",
    "end=time()-start\n",
    "end"
   ]
  },
  {
   "cell_type": "code",
   "execution_count": null,
   "metadata": {
    "collapsed": true
   },
   "outputs": [],
   "source": []
  }
 ],
 "metadata": {
  "kernelspec": {
   "display_name": "Python 2",
   "language": "python",
   "name": "python2"
  },
  "language_info": {
   "codemirror_mode": {
    "name": "ipython",
    "version": 2
   },
   "file_extension": ".py",
   "mimetype": "text/x-python",
   "name": "python",
   "nbconvert_exporter": "python",
   "pygments_lexer": "ipython2",
   "version": "2.7.6"
  }
 },
 "nbformat": 4,
 "nbformat_minor": 2
}
