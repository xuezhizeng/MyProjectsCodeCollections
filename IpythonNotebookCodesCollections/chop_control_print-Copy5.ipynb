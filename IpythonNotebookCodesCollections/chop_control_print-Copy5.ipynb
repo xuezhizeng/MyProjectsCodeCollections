{
 "cells": [
  {
   "cell_type": "code",
   "execution_count": 1,
   "metadata": {
    "collapsed": true
   },
   "outputs": [],
   "source": [
    "# !ls"
   ]
  },
  {
   "cell_type": "code",
   "execution_count": 3,
   "metadata": {},
   "outputs": [
    {
     "name": "stdout",
     "output_type": "stream",
     "text": [
      "1 used 0.00 s | 100 used 14.73 s | 200 used 30.88 s | 300 used 46.30 s | 400 used 61.24 s | 500 used 77.06 s | 600 used 92.29 s | 700 used 111.37 s | 800 used 126.67 s | 900 used 138.84 s | 1000 used 153.53 s | 1100 used 166.39 s | 1200 used 183.39 s | 1300 used 201.57 s | 1400 used 216.86 s | 1500 used 233.14 s | 1600 used 252.29 s | 1700 used 268.91 s | 1800 used 281.48 s | 1900 used 298.62 s | 2000 used 312.46 s | 2100 used 331.87 s | 2200 used 347.14 s | 2300 used 366.40 s | 2400 used 382.27 s | 2500 used 398.65 s | 2600 used 412.74 s | 2700 used 430.23 s | 2800 used 444.57 s | 2900 used 461.79 s | 3000 used 480.53 s | 3100 used 497.20 s | 3200 used 513.58 s | 3300 used 528.41 s | 3400 used 545.81 s | 3500 used 560.65 s | 3600 used 576.15 s | 3700 used 588.59 s | 3800 used 605.18 s | 3900 used 623.85 s | 4000 used 638.73 s | 4100 used 653.83 s | 4200 used 667.85 s | 4300 used 683.44 s | 4400 used 700.23 s | 4500 used 718.04 s | 4600 used 734.71 s | 4700 used 750.62 s | 4800 used 770.30 s | 4900 used 791.77 s | 5000 used 810.97 s | 5100 used 826.46 s | 5200 used 843.64 s | 5300 used 858.49 s | 5400 used 875.30 s | 5500 used 891.28 s | 5600 used 905.67 s | 5700 used 928.64 s | 5800 used 944.77 s | 5900 used 965.20 s | 6000 used 982.31 s | 6100 used 1000.73 s | 6200 used 1016.79 s | 6300 used 1033.94 s | 6400 used 1048.32 s | 6500 used 1065.48 s | 6600 used 1080.54 s | 6700 used 1096.65 s | 6800 used 1115.23 s | 6900 used 1132.64 s | 7000 used 1151.06 s | 7100 used 1168.64 s | 7200 used 1185.03 s | 7300 used 1202.40 s | 7400 used 1218.90 s | 7500 used 1234.64 s | 7600 used 1253.23 s | 7700 used 1272.54 s | 7800 used 1290.23 s | 7900 used 1306.59 s | 8000 used 1323.20 s | 8100 used 1343.03 s | 8200 used 1362.67 s | 8300 used 1380.32 s | 8400 used 1395.15 s | 8500 used 1413.24 s | 8600 used 1430.55 s | 8700 used 1445.64 s | 8800 used 1460.92 s | 8900 used 1476.97 s | 9000 used 1492.66 s | 9100 used 1509.71 s | 9200 used 1526.30 s | 9300 used 1541.35 s | 9400 used 1558.18 s | 9500 used 1575.03 s | 9600 used 1591.99 s | 9700 used 1606.71 s | 9800 used 1623.47 s | 9900 used 1639.65 s |\n"
     ]
    },
    {
     "data": {
      "text/plain": [
       "1657.240907907486"
      ]
     },
     "execution_count": 3,
     "metadata": {},
     "output_type": "execute_result"
    }
   ],
   "source": [
    "from time import time\n",
    "start=time()\n",
    "start\n",
    "\n",
    "\n",
    "!python -u /root/openface/util/align-dlib_mod.py \\\n",
    "real_soyoung_pics/img_3 align \\\n",
    "outerEyesAndNose \\\n",
    "chopHead256_real_soyoung_pics \\\n",
    "--size 256\n",
    "\n",
    "end=time()-start\n",
    "end"
   ]
  },
  {
   "cell_type": "code",
   "execution_count": null,
   "metadata": {
    "collapsed": true
   },
   "outputs": [],
   "source": []
  }
 ],
 "metadata": {
  "kernelspec": {
   "display_name": "Python 2",
   "language": "python",
   "name": "python2"
  },
  "language_info": {
   "codemirror_mode": {
    "name": "ipython",
    "version": 2
   },
   "file_extension": ".py",
   "mimetype": "text/x-python",
   "name": "python",
   "nbconvert_exporter": "python",
   "pygments_lexer": "ipython2",
   "version": "2.7.6"
  }
 },
 "nbformat": 4,
 "nbformat_minor": 2
}
