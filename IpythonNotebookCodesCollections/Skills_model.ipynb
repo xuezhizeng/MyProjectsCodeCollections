{
 "cells": [
  {
   "cell_type": "code",
   "execution_count": 1,
   "metadata": {
    "collapsed": true
   },
   "outputs": [],
   "source": [
    "import ast\n",
    "import pandas as pd\n",
    "import numpy as np\n",
    "import os\n",
    "from time import ctime\n",
    "import matplotlib.pyplot as plt\n",
    "import seaborn as sns\n",
    "pd.options.display.max_rows=300\n",
    "%matplotlib inline"
   ]
  },
  {
   "cell_type": "markdown",
   "metadata": {},
   "source": [
    "### start from here"
   ]
  },
  {
   "cell_type": "code",
   "execution_count": 2,
   "metadata": {
    "collapsed": true
   },
   "outputs": [],
   "source": [
    "import ast\n",
    "import pandas as pd\n",
    "import numpy as np\n",
    "import os\n",
    "from time import ctime\n",
    "import matplotlib.pyplot as plt\n",
    "import seaborn as sns\n",
    "pd.options.display.max_rows=300\n",
    "%matplotlib inline"
   ]
  },
  {
   "cell_type": "code",
   "execution_count": 3,
   "metadata": {},
   "outputs": [
    {
     "name": "stdout",
     "output_type": "stream",
     "text": [
      "(102514, 1040)\n",
      "CPU times: user 5.56 s, sys: 979 ms, total: 6.54 s\n",
      "Wall time: 6.57 s\n"
     ]
    }
   ],
   "source": [
    "%%time\n",
    "df_skills = pd.read_csv('./skills.golden.train.csv')\n",
    "df_skills = df_skills.set_index('user_id')\n",
    "print df_skills.shape"
   ]
  },
  {
   "cell_type": "code",
   "execution_count": 4,
   "metadata": {
    "collapsed": true
   },
   "outputs": [],
   "source": [
    "df_skills = df_skills.fillna(0)\n",
    "df_skills = df_skills.astype(int)"
   ]
  },
  {
   "cell_type": "code",
   "execution_count": 5,
   "metadata": {},
   "outputs": [
    {
     "data": {
      "image/png": "[encoded data removed]",
      "text/plain": [
       "<matplotlib.figure.Figure at 0x2ace300b90d0>"
      ]
     },
     "metadata": {},
     "output_type": "display_data"
    }
   ],
   "source": [
    "plt.figure(figsize=(20,6))\n",
    "ax = sns.distplot(df_skills.sum(), bins=1000, kde=False)\n",
    "plt.ylim(0, None)\n",
    "plt.xlim(0, 5000)\n",
    "# ax.xaxis.set_ticks(np.arange(0, 501, 10))\n",
    "ax.xaxis.set_tick_params(labelsize=9, rotation=-45)"
   ]
  },
  {
   "cell_type": "code",
   "execution_count": 6,
   "metadata": {},
   "outputs": [
    {
     "data": {
      "text/plain": [
       "33"
      ]
     },
     "execution_count": 6,
     "metadata": {},
     "output_type": "execute_result"
    }
   ],
   "source": [
    "(df_skills.sum()==1).sum()"
   ]
  },
  {
   "cell_type": "code",
   "execution_count": 7,
   "metadata": {},
   "outputs": [
    {
     "data": {
      "text/plain": [
       "<matplotlib.axes._subplots.AxesSubplot at 0x2ace7e191610>"
      ]
     },
     "execution_count": 7,
     "metadata": {},
     "output_type": "execute_result"
    },
    {
     "data": {
      "image/png": "[encoded data removed]",
      "text/plain": [
       "<matplotlib.figure.Figure at 0x2ace30098d90>"
      ]
     },
     "metadata": {},
     "output_type": "display_data"
    }
   ],
   "source": [
    "df_skills.sum().hist(bins=50, range=[0, 500], lw=1)"
   ]
  },
  {
   "cell_type": "code",
   "execution_count": 12,
   "metadata": {},
   "outputs": [
    {
     "data": {
      "text/plain": [
       "159"
      ]
     },
     "execution_count": 12,
     "metadata": {},
     "output_type": "execute_result"
    }
   ],
   "source": [
    "(df_skills.sum()<=10).sum()"
   ]
  },
  {
   "cell_type": "code",
   "execution_count": 14,
   "metadata": {},
   "outputs": [
    {
     "data": {
      "text/plain": [
       "count     1040.000000\n",
       "mean      1129.413462\n",
       "std       2926.021813\n",
       "min          1.000000\n",
       "25%         25.000000\n",
       "50%        149.500000\n",
       "75%        816.750000\n",
       "max      30731.000000\n",
       "dtype: float64"
      ]
     },
     "execution_count": 14,
     "metadata": {},
     "output_type": "execute_result"
    }
   ],
   "source": [
    "df_skills.sum().describe()"
   ]
  },
  {
   "cell_type": "code",
   "execution_count": 15,
   "metadata": {},
   "outputs": [
    {
     "data": {
      "text/plain": [
       "465"
      ]
     },
     "execution_count": 15,
     "metadata": {},
     "output_type": "execute_result"
    }
   ],
   "source": [
    "(df_skills.sum()<100).sum()"
   ]
  },
  {
   "cell_type": "code",
   "execution_count": 16,
   "metadata": {},
   "outputs": [
    {
     "data": {
      "text/plain": [
       "153"
      ]
     },
     "execution_count": 16,
     "metadata": {},
     "output_type": "execute_result"
    }
   ],
   "source": [
    "(df_skills.sum()<10).sum()"
   ]
  },
  {
   "cell_type": "code",
   "execution_count": 17,
   "metadata": {},
   "outputs": [
    {
     "data": {
      "text/plain": [
       "Index([u'Antenna Services', u'Roofing', u'Flask', u'Decking', u'Lighting',\n",
       "       u'Oculus Rift', u'Pet Sitting', u'Commercial Cleaning', u'Yiddish',\n",
       "       u'Google Cardboard',\n",
       "       ...\n",
       "       u'Flooring', u'Apple Compressor', u'Apache Maven', u'Agronomy',\n",
       "       u'Microsoft Hololens', u'Equipment Hire', u'Netbeans', u'Paytrace',\n",
       "       u'Autodesk Sketchbook Pro', u'Virtualization'],\n",
       "      dtype='object', length=153)"
      ]
     },
     "execution_count": 17,
     "metadata": {},
     "output_type": "execute_result"
    }
   ],
   "source": [
    "df_skills.sum()[(df_skills.sum()<10)].index"
   ]
  },
  {
   "cell_type": "code",
   "execution_count": 18,
   "metadata": {},
   "outputs": [
    {
     "data": {
      "text/plain": [
       "153"
      ]
     },
     "execution_count": 18,
     "metadata": {},
     "output_type": "execute_result"
    }
   ],
   "source": [
    "delete_10 = df_skills.sum()[(df_skills.sum()<10)].index\n",
    "len(delete_10)"
   ]
  },
  {
   "cell_type": "code",
   "execution_count": 19,
   "metadata": {},
   "outputs": [
    {
     "data": {
      "text/plain": [
       "(102514, 887)"
      ]
     },
     "execution_count": 19,
     "metadata": {},
     "output_type": "execute_result"
    }
   ],
   "source": [
    "df_skills_V1 = df_skills.drop(delete_10, axis=1)\n",
    "df_skills_V1.shape"
   ]
  },
  {
   "cell_type": "code",
   "execution_count": null,
   "metadata": {
    "collapsed": true
   },
   "outputs": [],
   "source": []
  },
  {
   "cell_type": "code",
   "execution_count": 30,
   "metadata": {},
   "outputs": [
    {
     "data": {
      "text/plain": [
       "(108011, 2)"
      ]
     },
     "execution_count": 30,
     "metadata": {},
     "output_type": "execute_result"
    }
   ],
   "source": [
    "df = pd.read_csv('./Training_set.csv')\n",
    "df = df.set_index('user_id')\n",
    "df.shape"
   ]
  },
  {
   "cell_type": "code",
   "execution_count": 32,
   "metadata": {},
   "outputs": [
    {
     "data": {
      "text/plain": [
       "(102514, 888)"
      ]
     },
     "execution_count": 32,
     "metadata": {},
     "output_type": "execute_result"
    }
   ],
   "source": [
    "df_skills_V1_pre = df[['label']].join(df_skills_V1, how='inner')\n",
    "df_skills_V1_pre.shape"
   ]
  },
  {
   "cell_type": "markdown",
   "metadata": {},
   "source": [
    "### model"
   ]
  },
  {
   "cell_type": "code",
   "execution_count": 33,
   "metadata": {
    "collapsed": true
   },
   "outputs": [],
   "source": [
    "from parseHelper import plot_confusion_matrix\n",
    "from sklearn.ensemble import RandomForestClassifier\n",
    "from sklearn.metrics import accuracy_score, confusion_matrix\n",
    "import itertools"
   ]
  },
  {
   "cell_type": "code",
   "execution_count": 34,
   "metadata": {},
   "outputs": [
    {
     "data": {
      "text/plain": [
       "[(71759, 887), (30755, 887), (71759,), (30755,)]"
      ]
     },
     "execution_count": 34,
     "metadata": {},
     "output_type": "execute_result"
    }
   ],
   "source": [
    "y=df_skills_V1_pre.pop('label')\n",
    "\n",
    "from sklearn.model_selection import train_test_split\n",
    "dim=lambda *x: [i.shape for i in x]\n",
    "X_train, X_test, y_train, y_test = train_test_split(df_skills_V1_pre, y, test_size=0.3,\n",
    "                                                   random_state=7)\n",
    "dim(X_train, X_test, y_train, y_test)"
   ]
  },
  {
   "cell_type": "code",
   "execution_count": 35,
   "metadata": {},
   "outputs": [
    {
     "name": "stdout",
     "output_type": "stream",
     "text": [
      "The history saving thread hit an unexpected error (OperationalError('database or disk is full',)).History will not be written to the database.\n",
      "CPU times: user 4min 26s, sys: 741 ms, total: 4min 27s\n",
      "Wall time: 12.4 s\n"
     ]
    }
   ],
   "source": [
    "%%time\n",
    "fr=RandomForestClassifier(n_jobs=48, n_estimators=200, min_samples_split=3)\n",
    "fr.fit(X_train, y_train)\n",
    "## predict labels\n",
    "fr_p = fr.predict(X_test)\n",
    "pd.Series(fr_p).value_counts()"
   ]
  },
  {
   "cell_type": "code",
   "execution_count": 37,
   "metadata": {},
   "outputs": [
    {
     "name": "stdout",
     "output_type": "stream",
     "text": [
      "0.838205169891\n",
      "Confusion matrix, without normalization\n",
      "[[  488  4717]\n",
      " [  259 25291]]\n"
     ]
    },
    {
     "data": {
      "image/png": "[encoded data removed]",
      "text/plain": [
       "<matplotlib.figure.Figure at 0x2acee57d0610>"
      ]
     },
     "metadata": {},
     "output_type": "display_data"
    }
   ],
   "source": [
    "print accuracy_score(y_test, fr_p)\n",
    "plot_confusion_matrix(confusion_matrix(y_test,fr_p), ['female','male'])"
   ]
  },
  {
   "cell_type": "markdown",
   "metadata": {},
   "source": [
    "___"
   ]
  },
  {
   "cell_type": "code",
   "execution_count": 41,
   "metadata": {},
   "outputs": [
    {
     "name": "stdout",
     "output_type": "stream",
     "text": [
      "Filesystem            Size  Used Avail Use% Mounted on\r\n",
      "/dev/mapper/vg_cn184-lv_root\r\n",
      "                      179G  4.3G  166G   3% /\r\n",
      "tmpfs                  63G  452K   63G   1% /dev/shm\r\n",
      "/dev/sda1             477M   77M  376M  17% /boot\r\n",
      "scratchfs1            930T  930T  9.6G 100% /gpfs/scratchfs1\r\n",
      "gpfs1                  55T   47T  7.6T  87% /gpfs/gpfs1\r\n"
     ]
    }
   ],
   "source": [
    "!df -h"
   ]
  },
  {
   "cell_type": "code",
   "execution_count": 47,
   "metadata": {},
   "outputs": [],
   "source": [
    "import xgboost as xgb\n",
    "from time import time"
   ]
  },
  {
   "cell_type": "code",
   "execution_count": 48,
   "metadata": {
    "collapsed": true
   },
   "outputs": [],
   "source": [
    "d_train = xgb.DMatrix(X_train, label=y_train)\n",
    "d_test = xgb.DMatrix(X_test, label=y_test)"
   ]
  },
  {
   "cell_type": "code",
   "execution_count": 49,
   "metadata": {
    "collapsed": true
   },
   "outputs": [],
   "source": [
    "RANDOM_STATE = 2017\n",
    "params = {\n",
    "    'min_child_weight': 0.9,\n",
    "#     'eta': 0.1,\n",
    "    'colsample_bytree': 0.9,\n",
    "    'max_depth': 18,\n",
    "    'subsample': 0.9,\n",
    "#     'alpha': 0.2,\n",
    "#     'lambda':0.8,\n",
    "#     'gamma': 0.2,\n",
    "    'silent': 0,\n",
    "    'learning_rate':0.01,\n",
    "    'verbose_eval': True,\n",
    "    'seed': RANDOM_STATE,\n",
    "    'objective':\"binary:logistic\",\n",
    "#     'eval_metric':'error'\n",
    "#     'num_class':1\n",
    "    'n_jobs':48\n",
    "    \n",
    "}\n",
    "watchlist = [(d_train, 'train'), (d_test, 'test')]\n",
    "\n",
    "def xg_eval(pred, dtrain):\n",
    "    y = dtrain.get_label()\n",
    "    tmp = map(lambda x: 0 if x<0.5 else 1, pred)\n",
    "    return 'acc', accuracy_score(y, tmp)"
   ]
  },
  {
   "cell_type": "code",
   "execution_count": 50,
   "metadata": {},
   "outputs": [
    {
     "name": "stdout",
     "output_type": "stream",
     "text": [
      "[0]\ttrain-acc:0.851099\ttest-acc:0.824776\n",
      "Multiple eval metrics have been passed: 'test-acc' will be used for early stopping.\n",
      "\n",
      "Will train until test-acc hasn't improved in 300 rounds.\n",
      "[20]\ttrain-acc:0.860031\ttest-acc:0.835441\n",
      "[40]\ttrain-acc:0.861439\ttest-acc:0.836677\n",
      "[60]\ttrain-acc:0.86261\ttest-acc:0.836872\n",
      "[80]\ttrain-acc:0.863627\ttest-acc:0.837067\n",
      "[100]\ttrain-acc:0.864797\ttest-acc:0.837067\n",
      "[120]\ttrain-acc:0.865327\ttest-acc:0.837392\n",
      "[140]\ttrain-acc:0.866191\ttest-acc:0.83762\n",
      "[160]\ttrain-acc:0.866595\ttest-acc:0.837815\n",
      "[180]\ttrain-acc:0.867194\ttest-acc:0.837945\n",
      "[200]\ttrain-acc:0.867752\ttest-acc:0.83814\n",
      "[220]\ttrain-acc:0.868267\ttest-acc:0.838303\n",
      "[240]\ttrain-acc:0.86895\ttest-acc:0.838303\n",
      "[260]\ttrain-acc:0.869731\ttest-acc:0.838498\n",
      "[280]\ttrain-acc:0.870037\ttest-acc:0.83879\n",
      "[300]\ttrain-acc:0.870636\ttest-acc:0.838758\n",
      "[320]\ttrain-acc:0.870971\ttest-acc:0.838986\n",
      "[340]\ttrain-acc:0.871473\ttest-acc:0.839116\n",
      "[360]\ttrain-acc:0.871919\ttest-acc:0.839181\n",
      "[380]\ttrain-acc:0.872476\ttest-acc:0.839506\n",
      "[400]\ttrain-acc:0.872741\ttest-acc:0.839831\n",
      "[420]\ttrain-acc:0.872964\ttest-acc:0.839831\n",
      "[440]\ttrain-acc:0.873465\ttest-acc:0.840124\n",
      "[460]\ttrain-acc:0.873856\ttest-acc:0.839993\n",
      "[480]\ttrain-acc:0.874371\ttest-acc:0.840026\n",
      "[500]\ttrain-acc:0.87472\ttest-acc:0.839993\n",
      "[520]\ttrain-acc:0.875235\ttest-acc:0.840091\n",
      "[540]\ttrain-acc:0.875528\ttest-acc:0.839831\n",
      "[560]\ttrain-acc:0.875974\ttest-acc:0.839928\n",
      "[580]\ttrain-acc:0.876559\ttest-acc:0.840189\n",
      "[600]\ttrain-acc:0.876796\ttest-acc:0.840416\n",
      "[620]\ttrain-acc:0.877214\ttest-acc:0.840416\n",
      "[640]\ttrain-acc:0.877688\ttest-acc:0.840254\n",
      "[660]\ttrain-acc:0.87805\ttest-acc:0.840384\n",
      "[680]\ttrain-acc:0.878454\ttest-acc:0.840319\n",
      "[700]\ttrain-acc:0.8789\ttest-acc:0.840319\n",
      "[720]\ttrain-acc:0.879207\ttest-acc:0.840351\n",
      "[740]\ttrain-acc:0.879639\ttest-acc:0.840221\n",
      "[760]\ttrain-acc:0.880099\ttest-acc:0.840319\n",
      "[780]\ttrain-acc:0.880489\ttest-acc:0.840416\n",
      "[800]\ttrain-acc:0.880921\ttest-acc:0.840351\n",
      "[820]\ttrain-acc:0.881367\ttest-acc:0.840351\n",
      "[840]\ttrain-acc:0.881715\ttest-acc:0.840351\n",
      "[860]\ttrain-acc:0.882078\ttest-acc:0.840351\n",
      "[880]\ttrain-acc:0.88251\ttest-acc:0.840416\n",
      "Stopping. Best iteration:\n",
      "[594]\ttrain-acc:0.87674\ttest-acc:0.840514\n",
      "\n"
     ]
    },
    {
     "data": {
      "text/plain": [
       "'!!! used 376.48 s'"
      ]
     },
     "execution_count": 50,
     "metadata": {},
     "output_type": "execute_result"
    }
   ],
   "source": [
    "start=time()\n",
    "\n",
    "clf = xgb.train(params, d_train, 10000, watchlist, early_stopping_rounds=300, \n",
    "                verbose_eval=20, feval=xg_eval, maximize=True)\n",
    "                \n",
    "\n",
    "\n",
    "'!!! used %.2f s'%(time()-start)"
   ]
  },
  {
   "cell_type": "code",
   "execution_count": 51,
   "metadata": {},
   "outputs": [
    {
     "name": "stdout",
     "output_type": "stream",
     "text": [
      "accuracy 0.840383677451\n",
      "statistic\n",
      "male      29789\n",
      "female      966\n",
      "dtype: int64\n",
      "Confusion matrix, without normalization\n",
      "[[  631  4574]\n",
      " [  335 25215]]\n"
     ]
    },
    {
     "data": {
      "image/png": "[encoded data removed]",
      "text/plain": [
       "<matplotlib.figure.Figure at 0x2acee57d0d10>"
      ]
     },
     "metadata": {},
     "output_type": "display_data"
    }
   ],
   "source": [
    "# pd.Series(clf.predict(d_test)).describe()\n",
    "print 'accuracy',accuracy_score(d_test.get_label(), clf.predict(d_test)>.5)\n",
    "print 'statistic'\n",
    "print pd.Series(clf.predict(d_test)>.5).map({1:'male',0:'female'}).value_counts()\n",
    "plot_confusion_matrix(confusion_matrix(d_test.get_label(),clf.predict(d_test)>.5), ['female','male'])"
   ]
  },
  {
   "cell_type": "code",
   "execution_count": null,
   "metadata": {
    "collapsed": true
   },
   "outputs": [],
   "source": []
  },
  {
   "cell_type": "code",
   "execution_count": 52,
   "metadata": {},
   "outputs": [
    {
     "name": "stdout",
     "output_type": "stream",
     "text": [
      "(903, 2)\n"
     ]
    },
    {
     "data": {
      "text/html": [
       "<div>\n",
       "<style>\n",
       "    .dataframe thead tr:only-child th {\n",
       "        text-align: right;\n",
       "    }\n",
       "\n",
       "    .dataframe thead th {\n",
       "        text-align: left;\n",
       "    }\n",
       "\n",
       "    .dataframe tbody tr th {\n",
       "        vertical-align: top;\n",
       "    }\n",
       "</style>\n",
       "<table border=\"1\" class=\"dataframe\">\n",
       "  <thead>\n",
       "    <tr style=\"text-align: right;\">\n",
       "      <th></th>\n",
       "      <th>user_id</th>\n",
       "      <th>desc_stat</th>\n",
       "    </tr>\n",
       "  </thead>\n",
       "  <tbody>\n",
       "    <tr>\n",
       "      <th>0</th>\n",
       "      <td>13767750</td>\n",
       "      <td>M</td>\n",
       "    </tr>\n",
       "    <tr>\n",
       "      <th>1</th>\n",
       "      <td>699835</td>\n",
       "      <td>M</td>\n",
       "    </tr>\n",
       "    <tr>\n",
       "      <th>2</th>\n",
       "      <td>1036584</td>\n",
       "      <td>M</td>\n",
       "    </tr>\n",
       "    <tr>\n",
       "      <th>3</th>\n",
       "      <td>554028</td>\n",
       "      <td>M</td>\n",
       "    </tr>\n",
       "    <tr>\n",
       "      <th>4</th>\n",
       "      <td>789240</td>\n",
       "      <td>M</td>\n",
       "    </tr>\n",
       "  </tbody>\n",
       "</table>\n",
       "</div>"
      ],
      "text/plain": [
       "    user_id desc_stat\n",
       "0  13767750         M\n",
       "1    699835         M\n",
       "2   1036584         M\n",
       "3    554028         M\n",
       "4    789240         M"
      ]
     },
     "execution_count": 52,
     "metadata": {},
     "output_type": "execute_result"
    }
   ],
   "source": [
    "stat = pd.read_csv('desc_stat.csv')\n",
    "print stat.shape\n",
    "stat.head()"
   ]
  },
  {
   "cell_type": "code",
   "execution_count": 53,
   "metadata": {},
   "outputs": [
    {
     "data": {
      "text/plain": [
       "(30755, 887)"
      ]
     },
     "execution_count": 53,
     "metadata": {},
     "output_type": "execute_result"
    }
   ],
   "source": [
    "X_test.shape"
   ]
  },
  {
   "cell_type": "code",
   "execution_count": 54,
   "metadata": {},
   "outputs": [
    {
     "name": "stdout",
     "output_type": "stream",
     "text": [
      "(30755,)\n"
     ]
    },
    {
     "data": {
      "text/plain": [
       "array([nan, nan, 'M', ..., nan, nan, nan], dtype=object)"
      ]
     },
     "execution_count": 54,
     "metadata": {},
     "output_type": "execute_result"
    }
   ],
   "source": [
    "desc = X_test[[]].join(stat.set_index('user_id'))['desc_stat'].values\n",
    "print desc.shape\n",
    "desc"
   ]
  },
  {
   "cell_type": "code",
   "execution_count": 55,
   "metadata": {
    "collapsed": true
   },
   "outputs": [],
   "source": [
    "prediction = clf.predict(d_test)>.5"
   ]
  },
  {
   "cell_type": "code",
   "execution_count": 56,
   "metadata": {},
   "outputs": [
    {
     "data": {
      "text/plain": [
       "M    29762\n",
       "F      993\n",
       "dtype: int64"
      ]
     },
     "execution_count": 56,
     "metadata": {},
     "output_type": "execute_result"
    }
   ],
   "source": [
    "final = (pd.Series(desc).fillna('')+pd.Series(prediction).map({1:'M',0:'F'}))\\\n",
    ".str.replace('MM','M').str.replace('FM','F').str.replace('FF','F').str.replace('MF','M')\n",
    "final.value_counts()"
   ]
  },
  {
   "cell_type": "code",
   "execution_count": 57,
   "metadata": {},
   "outputs": [
    {
     "data": {
      "text/plain": [
       "array([ True,  True,  True, ...,  True,  True,  True], dtype=bool)"
      ]
     },
     "execution_count": 57,
     "metadata": {},
     "output_type": "execute_result"
    }
   ],
   "source": [
    "prediction"
   ]
  },
  {
   "cell_type": "code",
   "execution_count": 58,
   "metadata": {},
   "outputs": [
    {
     "name": "stdout",
     "output_type": "stream",
     "text": [
      "accuracy 0.840676312795\n",
      "statistic\n",
      "M    29762\n",
      "F      993\n",
      "dtype: int64\n",
      "Confusion matrix, without normalization\n",
      "[[  649  4556]\n",
      " [  344 25206]]\n"
     ]
    },
    {
     "data": {
      "image/png": "[encoded data removed]",
      "text/plain": [
       "<matplotlib.figure.Figure at 0x2ace250d7f10>"
      ]
     },
     "metadata": {},
     "output_type": "display_data"
    }
   ],
   "source": [
    "# pd.Series(clf.predict(d_test)).describe()\n",
    "print 'accuracy',accuracy_score(d_test.get_label(), final.map({'M':1,'F':0}))\n",
    "print 'statistic'\n",
    "print final.value_counts()\n",
    "plot_confusion_matrix(confusion_matrix(d_test.get_label(),final.map({'M':1,'F':0})), ['female','male'])"
   ]
  },
  {
   "cell_type": "markdown",
   "metadata": {},
   "source": [
    "#### compare"
   ]
  },
  {
   "cell_type": "code",
   "execution_count": 59,
   "metadata": {},
   "outputs": [
    {
     "name": "stdout",
     "output_type": "stream",
     "text": [
      "accuracy 0.840383677451\n",
      "statistic\n",
      "male      29789\n",
      "female      966\n",
      "dtype: int64\n",
      "Confusion matrix, without normalization\n",
      "[[  631  4574]\n",
      " [  335 25215]]\n"
     ]
    },
    {
     "data": {
      "image/png": "[encoded data removed]",
      "text/plain": [
       "<matplotlib.figure.Figure at 0x2ad0880b8fd0>"
      ]
     },
     "metadata": {},
     "output_type": "display_data"
    }
   ],
   "source": [
    "# pd.Series(clf.predict(d_test)).describe()\n",
    "print 'accuracy',accuracy_score(d_test.get_label(), clf.predict(d_test)>.5)\n",
    "print 'statistic'\n",
    "print pd.Series(clf.predict(d_test)>.5).map({1:'male',0:'female'}).value_counts()\n",
    "plot_confusion_matrix(confusion_matrix(d_test.get_label(),clf.predict(d_test)>.5), ['female','male'])"
   ]
  },
  {
   "cell_type": "code",
   "execution_count": null,
   "metadata": {
    "collapsed": true
   },
   "outputs": [],
   "source": []
  },
  {
   "cell_type": "code",
   "execution_count": null,
   "metadata": {
    "collapsed": true
   },
   "outputs": [],
   "source": []
  },
  {
   "cell_type": "code",
   "execution_count": null,
   "metadata": {
    "collapsed": true
   },
   "outputs": [],
   "source": []
  },
  {
   "cell_type": "code",
   "execution_count": null,
   "metadata": {
    "collapsed": true
   },
   "outputs": [],
   "source": []
  },
  {
   "cell_type": "code",
   "execution_count": null,
   "metadata": {
    "collapsed": true
   },
   "outputs": [],
   "source": []
  },
  {
   "cell_type": "code",
   "execution_count": null,
   "metadata": {
    "collapsed": true
   },
   "outputs": [],
   "source": []
  },
  {
   "cell_type": "code",
   "execution_count": null,
   "metadata": {
    "collapsed": true
   },
   "outputs": [],
   "source": []
  },
  {
   "cell_type": "code",
   "execution_count": null,
   "metadata": {
    "collapsed": true
   },
   "outputs": [],
   "source": []
  }
 ],
 "metadata": {
  "kernelspec": {
   "display_name": "Python 2",
   "language": "python",
   "name": "python2"
  },
  "language_info": {
   "codemirror_mode": {
    "name": "ipython",
    "version": 2
   },
   "file_extension": ".py",
   "mimetype": "text/x-python",
   "name": "python",
   "nbconvert_exporter": "python",
   "pygments_lexer": "ipython2",
   "version": "2.7.13"
  }
 },
 "nbformat": 4,
 "nbformat_minor": 2
}
