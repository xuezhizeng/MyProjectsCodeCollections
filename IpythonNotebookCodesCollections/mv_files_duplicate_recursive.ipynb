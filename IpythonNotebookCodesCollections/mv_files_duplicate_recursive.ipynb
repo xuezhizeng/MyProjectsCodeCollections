{
 "cells": [
  {
   "cell_type": "code",
   "execution_count": 3,
   "metadata": {
    "collapsed": true
   },
   "outputs": [],
   "source": [
    "import pandas as pd\n",
    "import shutil\n",
    "import os"
   ]
  },
  {
   "cell_type": "code",
   "execution_count": 4,
   "metadata": {
    "collapsed": true
   },
   "outputs": [],
   "source": [
    "path = '/home/soyoung/face/newFlask/static/phos/'\n",
    "# path = '/home/soyoung/face/Handsome_Pics/handsome/ori/keep/'"
   ]
  },
  {
   "cell_type": "code",
   "execution_count": 1,
   "metadata": {},
   "outputs": [
    {
     "ename": "KeyboardInterrupt",
     "evalue": "",
     "output_type": "error",
     "traceback": [
      "\u001b[0;31m\u001b[0m",
      "\u001b[0;31mKeyboardInterrupt\u001b[0mTraceback (most recent call last)",
      "\u001b[0;32m<ipython-input-1-9ee2ebfee2df>\u001b[0m in \u001b[0;36m<module>\u001b[0;34m()\u001b[0m\n\u001b[0;32m----> 1\u001b[0;31m \u001b[0mpath\u001b[0m \u001b[0;34m=\u001b[0m \u001b[0mraw_input\u001b[0m\u001b[0;34m(\u001b[0m\u001b[0;34m'target_phos_folder: '\u001b[0m\u001b[0;34m)\u001b[0m\u001b[0;34m\u001b[0m\u001b[0m\n\u001b[0m",
      "\u001b[0;32m/home/shj16110/anaconda2/lib/python2.7/site-packages/ipykernel/kernelbase.pyc\u001b[0m in \u001b[0;36mraw_input\u001b[0;34m(self, prompt)\u001b[0m\n\u001b[1;32m    703\u001b[0m             \u001b[0mself\u001b[0m\u001b[0;34m.\u001b[0m\u001b[0m_parent_ident\u001b[0m\u001b[0;34m,\u001b[0m\u001b[0;34m\u001b[0m\u001b[0m\n\u001b[1;32m    704\u001b[0m             \u001b[0mself\u001b[0m\u001b[0;34m.\u001b[0m\u001b[0m_parent_header\u001b[0m\u001b[0;34m,\u001b[0m\u001b[0;34m\u001b[0m\u001b[0m\n\u001b[0;32m--> 705\u001b[0;31m             \u001b[0mpassword\u001b[0m\u001b[0;34m=\u001b[0m\u001b[0mFalse\u001b[0m\u001b[0;34m,\u001b[0m\u001b[0;34m\u001b[0m\u001b[0m\n\u001b[0m\u001b[1;32m    706\u001b[0m         )\n\u001b[1;32m    707\u001b[0m \u001b[0;34m\u001b[0m\u001b[0m\n",
      "\u001b[0;32m/home/shj16110/anaconda2/lib/python2.7/site-packages/ipykernel/kernelbase.pyc\u001b[0m in \u001b[0;36m_input_request\u001b[0;34m(self, prompt, ident, parent, password)\u001b[0m\n\u001b[1;32m    733\u001b[0m             \u001b[0;32mexcept\u001b[0m \u001b[0mKeyboardInterrupt\u001b[0m\u001b[0;34m:\u001b[0m\u001b[0;34m\u001b[0m\u001b[0m\n\u001b[1;32m    734\u001b[0m                 \u001b[0;31m# re-raise KeyboardInterrupt, to truncate traceback\u001b[0m\u001b[0;34m\u001b[0m\u001b[0;34m\u001b[0m\u001b[0m\n\u001b[0;32m--> 735\u001b[0;31m                 \u001b[0;32mraise\u001b[0m \u001b[0mKeyboardInterrupt\u001b[0m\u001b[0;34m\u001b[0m\u001b[0m\n\u001b[0m\u001b[1;32m    736\u001b[0m             \u001b[0;32melse\u001b[0m\u001b[0;34m:\u001b[0m\u001b[0;34m\u001b[0m\u001b[0m\n\u001b[1;32m    737\u001b[0m                 \u001b[0;32mbreak\u001b[0m\u001b[0;34m\u001b[0m\u001b[0m\n",
      "\u001b[0;31mKeyboardInterrupt\u001b[0m: "
     ]
    }
   ],
   "source": [
    "path = raw_input('target_phos_folder: ')"
   ]
  },
  {
   "cell_type": "code",
   "execution_count": null,
   "metadata": {
    "collapsed": true
   },
   "outputs": [],
   "source": [
    "CSV = raw_input('csv: to_be_deleted: ')"
   ]
  },
  {
   "cell_type": "code",
   "execution_count": 16,
   "metadata": {},
   "outputs": [
    {
     "name": "stdout",
     "output_type": "stream",
     "text": [
      "(40574, 132)\n"
     ]
    },
    {
     "data": {
      "text/html": [
       "<div>\n",
       "<style>\n",
       "    .dataframe thead tr:only-child th {\n",
       "        text-align: right;\n",
       "    }\n",
       "\n",
       "    .dataframe thead th {\n",
       "        text-align: left;\n",
       "    }\n",
       "\n",
       "    .dataframe tbody tr th {\n",
       "        vertical-align: top;\n",
       "    }\n",
       "</style>\n",
       "<table border=\"1\" class=\"dataframe\">\n",
       "  <thead>\n",
       "    <tr style=\"text-align: right;\">\n",
       "      <th></th>\n",
       "      <th>Unnamed: 0</th>\n",
       "      <th>0</th>\n",
       "      <th>1</th>\n",
       "      <th>2</th>\n",
       "      <th>3</th>\n",
       "      <th>4</th>\n",
       "      <th>5</th>\n",
       "      <th>6</th>\n",
       "      <th>7</th>\n",
       "      <th>8</th>\n",
       "      <th>...</th>\n",
       "      <th>121</th>\n",
       "      <th>122</th>\n",
       "      <th>123</th>\n",
       "      <th>124</th>\n",
       "      <th>125</th>\n",
       "      <th>126</th>\n",
       "      <th>127</th>\n",
       "      <th>name</th>\n",
       "      <th>taobao</th>\n",
       "      <th>real_name</th>\n",
       "    </tr>\n",
       "  </thead>\n",
       "  <tbody>\n",
       "    <tr>\n",
       "      <th>0</th>\n",
       "      <td>312789</td>\n",
       "      <td>0.067790</td>\n",
       "      <td>0.003714</td>\n",
       "      <td>-0.148447</td>\n",
       "      <td>-0.079092</td>\n",
       "      <td>0.171935</td>\n",
       "      <td>0.102855</td>\n",
       "      <td>0.058068</td>\n",
       "      <td>-0.022740</td>\n",
       "      <td>-0.107328</td>\n",
       "      <td>...</td>\n",
       "      <td>-0.024282</td>\n",
       "      <td>0.006300</td>\n",
       "      <td>0.102938</td>\n",
       "      <td>-0.115286</td>\n",
       "      <td>0.094369</td>\n",
       "      <td>-0.069355</td>\n",
       "      <td>-0.048881</td>\n",
       "      <td>face1_sub_31/3382201534726308180.jpg</td>\n",
       "      <td>0</td>\n",
       "      <td>3382201534726308180.jpg</td>\n",
       "    </tr>\n",
       "    <tr>\n",
       "      <th>1</th>\n",
       "      <td>312790</td>\n",
       "      <td>-0.013780</td>\n",
       "      <td>0.264078</td>\n",
       "      <td>0.025233</td>\n",
       "      <td>0.118899</td>\n",
       "      <td>-0.069803</td>\n",
       "      <td>0.118398</td>\n",
       "      <td>-0.060159</td>\n",
       "      <td>-0.071140</td>\n",
       "      <td>0.057584</td>\n",
       "      <td>...</td>\n",
       "      <td>0.004092</td>\n",
       "      <td>0.004034</td>\n",
       "      <td>0.048110</td>\n",
       "      <td>0.170079</td>\n",
       "      <td>-0.063998</td>\n",
       "      <td>0.163109</td>\n",
       "      <td>0.039150</td>\n",
       "      <td>face1_sub_34/4610b912c8fcc3ce313f2b1d9345d688d...</td>\n",
       "      <td>0</td>\n",
       "      <td>4610b912c8fcc3ce313f2b1d9345d688d43f2025.jpg</td>\n",
       "    </tr>\n",
       "    <tr>\n",
       "      <th>2</th>\n",
       "      <td>312792</td>\n",
       "      <td>0.021116</td>\n",
       "      <td>-0.135408</td>\n",
       "      <td>-0.030204</td>\n",
       "      <td>-0.011183</td>\n",
       "      <td>0.143003</td>\n",
       "      <td>-0.061067</td>\n",
       "      <td>0.040350</td>\n",
       "      <td>0.171237</td>\n",
       "      <td>0.118935</td>\n",
       "      <td>...</td>\n",
       "      <td>0.142948</td>\n",
       "      <td>-0.159105</td>\n",
       "      <td>0.157930</td>\n",
       "      <td>-0.039150</td>\n",
       "      <td>-0.053387</td>\n",
       "      <td>-0.077039</td>\n",
       "      <td>0.027453</td>\n",
       "      <td>face1_sub_32/345-1512241630580.jpg</td>\n",
       "      <td>0</td>\n",
       "      <td>345-1512241630580.jpg</td>\n",
       "    </tr>\n",
       "  </tbody>\n",
       "</table>\n",
       "<p>3 rows × 132 columns</p>\n",
       "</div>"
      ],
      "text/plain": [
       "   Unnamed: 0         0         1         2         3         4         5  \\\n",
       "0      312789  0.067790  0.003714 -0.148447 -0.079092  0.171935  0.102855   \n",
       "1      312790 -0.013780  0.264078  0.025233  0.118899 -0.069803  0.118398   \n",
       "2      312792  0.021116 -0.135408 -0.030204 -0.011183  0.143003 -0.061067   \n",
       "\n",
       "          6         7         8                      ...                       \\\n",
       "0  0.058068 -0.022740 -0.107328                      ...                        \n",
       "1 -0.060159 -0.071140  0.057584                      ...                        \n",
       "2  0.040350  0.171237  0.118935                      ...                        \n",
       "\n",
       "        121       122       123       124       125       126       127  \\\n",
       "0 -0.024282  0.006300  0.102938 -0.115286  0.094369 -0.069355 -0.048881   \n",
       "1  0.004092  0.004034  0.048110  0.170079 -0.063998  0.163109  0.039150   \n",
       "2  0.142948 -0.159105  0.157930 -0.039150 -0.053387 -0.077039  0.027453   \n",
       "\n",
       "                                                name  taobao  \\\n",
       "0               face1_sub_31/3382201534726308180.jpg       0   \n",
       "1  face1_sub_34/4610b912c8fcc3ce313f2b1d9345d688d...       0   \n",
       "2                 face1_sub_32/345-1512241630580.jpg       0   \n",
       "\n",
       "                                      real_name  \n",
       "0                       3382201534726308180.jpg  \n",
       "1  4610b912c8fcc3ce313f2b1d9345d688d43f2025.jpg  \n",
       "2                         345-1512241630580.jpg  \n",
       "\n",
       "[3 rows x 132 columns]"
      ]
     },
     "execution_count": 16,
     "metadata": {},
     "output_type": "execute_result"
    }
   ],
   "source": [
    "df = pd.read_csv(CSV)\n",
    "print df.shape\n",
    "df.head(3)"
   ]
  },
  {
   "cell_type": "code",
   "execution_count": 18,
   "metadata": {},
   "outputs": [
    {
     "name": "stdout",
     "output_type": "stream",
     "text": [
      "[Errno 17] File exists: 'trash0/'\n"
     ]
    }
   ],
   "source": [
    "trash = 'trash0/'\n",
    "try:\n",
    "    os.mkdir(trash)\n",
    "except Exception as e:\n",
    "    print e"
   ]
  },
  {
   "cell_type": "code",
   "execution_count": 21,
   "metadata": {},
   "outputs": [
    {
     "name": "stdout",
     "output_type": "stream",
     "text": [
      "0\n",
      "CPU times: user 188 ms, sys: 400 ms, total: 588 ms\n",
      "Wall time: 679 ms\n"
     ]
    }
   ],
   "source": [
    "failed=[]\n",
    "for i in df['name']:\n",
    "    try:\n",
    "        shutil.move(path+i, trash+''.join(i.split('/')[-1:]))\n",
    "    except Exception as e:\n",
    "#         print e\n",
    "        failed.append(i)\n",
    "#         print 'X',\n",
    "print 'failed num',len(failed)"
   ]
  },
  {
   "cell_type": "code",
   "execution_count": null,
   "metadata": {
    "collapsed": true
   },
   "outputs": [],
   "source": []
  }
 ],
 "metadata": {
  "kernelspec": {
   "display_name": "Python 2",
   "language": "python",
   "name": "python2"
  },
  "language_info": {
   "codemirror_mode": {
    "name": "ipython",
    "version": 2
   },
   "file_extension": ".py",
   "mimetype": "text/x-python",
   "name": "python",
   "nbconvert_exporter": "python",
   "pygments_lexer": "ipython2",
   "version": "2.7.13"
  }
 },
 "nbformat": 4,
 "nbformat_minor": 2
}
