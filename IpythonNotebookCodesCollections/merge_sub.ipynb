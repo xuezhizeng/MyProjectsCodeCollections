{
 "cells": [
  {
   "cell_type": "code",
   "execution_count": 105,
   "metadata": {
    "collapsed": true
   },
   "outputs": [],
   "source": [
    "import pandas as pd\n",
    "import os"
   ]
  },
  {
   "cell_type": "code",
   "execution_count": 113,
   "metadata": {},
   "outputs": [],
   "source": [
    "files = os.listdir('submit/')"
   ]
  },
  {
   "cell_type": "code",
   "execution_count": 114,
   "metadata": {},
   "outputs": [],
   "source": [
    "# files"
   ]
  },
  {
   "cell_type": "code",
   "execution_count": 115,
   "metadata": {},
   "outputs": [],
   "source": [
    "files.remove('fr200.csv')"
   ]
  },
  {
   "cell_type": "code",
   "execution_count": 116,
   "metadata": {},
   "outputs": [
    {
     "name": "stdout",
     "output_type": "stream",
     "text": [
      "29\n",
      "CPU times: user 580 ms, sys: 38 ms, total: 618 ms\n",
      "Wall time: 617 ms\n"
     ]
    }
   ],
   "source": [
    "%%time\n",
    "cont = [pd.read_csv('submit/'+i, names=[i+'_ID', i+'_Approved']) for i in files]\n",
    "print len(cont)"
   ]
  },
  {
   "cell_type": "code",
   "execution_count": 118,
   "metadata": {},
   "outputs": [
    {
     "name": "stdout",
     "output_type": "stream",
     "text": [
      "(30037,)\n"
     ]
    },
    {
     "data": {
      "text/plain": [
       "(30037, 57)"
      ]
     },
     "execution_count": 118,
     "metadata": {},
     "output_type": "execute_result"
    }
   ],
   "source": [
    "df = pd.concat(cont, axis=1)\n",
    "df.shape\n",
    "df = df.iloc[1:,:]\n",
    "ID = df.pop('xgb_110.csv_ID')\n",
    "print ID.shape\n",
    "df.shape"
   ]
  },
  {
   "cell_type": "code",
   "execution_count": 120,
   "metadata": {},
   "outputs": [],
   "source": [
    "for i in df:\n",
    "    if i.endswith('ID'):\n",
    "        df.pop(i)"
   ]
  },
  {
   "cell_type": "code",
   "execution_count": 121,
   "metadata": {},
   "outputs": [
    {
     "data": {
      "text/html": [
       "<div>\n",
       "<style scoped>\n",
       "    .dataframe tbody tr th:only-of-type {\n",
       "        vertical-align: middle;\n",
       "    }\n",
       "\n",
       "    .dataframe tbody tr th {\n",
       "        vertical-align: top;\n",
       "    }\n",
       "\n",
       "    .dataframe thead th {\n",
       "        text-align: right;\n",
       "    }\n",
       "</style>\n",
       "<table border=\"1\" class=\"dataframe\">\n",
       "  <thead>\n",
       "    <tr style=\"text-align: right;\">\n",
       "      <th></th>\n",
       "      <th>xgb_110.csv_Approved</th>\n",
       "      <th>xgb_121.csv_Approved</th>\n",
       "      <th>xgb_128.csv_Approved</th>\n",
       "      <th>xgb2_full.csv_Approved</th>\n",
       "      <th>fr600.t5_f.csv_Approved</th>\n",
       "      <th>xgb_rm.csv_Approved</th>\n",
       "      <th>xgb_rm2.csv_Approved</th>\n",
       "      <th>xgb_115.csv_Approved</th>\n",
       "      <th>xgb_156.csv_Approved</th>\n",
       "      <th>xgb_121_full.csv_Approved</th>\n",
       "      <th>...</th>\n",
       "      <th>xgb_88.csv_Approved</th>\n",
       "      <th>xgb-ext-date.csv_Approved</th>\n",
       "      <th>xgb1.csv_Approved</th>\n",
       "      <th>xgb_185.csv_Approved</th>\n",
       "      <th>xgb_rm996_23333.csv_Approved</th>\n",
       "      <th>xgb_factor2.csv_Approved</th>\n",
       "      <th>xgb_85.csv_Approved</th>\n",
       "      <th>xgb_106.csv_Approved</th>\n",
       "      <th>xgb_121_tune1.csv_Approved</th>\n",
       "      <th>xgb_rm_rd.csv_Approved</th>\n",
       "    </tr>\n",
       "  </thead>\n",
       "  <tbody>\n",
       "    <tr>\n",
       "      <th>1</th>\n",
       "      <td>0.010564</td>\n",
       "      <td>0.013017</td>\n",
       "      <td>0.014291</td>\n",
       "      <td>0.014090</td>\n",
       "      <td>0.000556</td>\n",
       "      <td>0.058538</td>\n",
       "      <td>0.012459</td>\n",
       "      <td>0.014536</td>\n",
       "      <td>0.012841</td>\n",
       "      <td>0.011588</td>\n",
       "      <td>...</td>\n",
       "      <td>0.014744</td>\n",
       "      <td>0.036651</td>\n",
       "      <td>0.015473</td>\n",
       "      <td>0.010602</td>\n",
       "      <td>0.023680</td>\n",
       "      <td>0.014747</td>\n",
       "      <td>0.014395</td>\n",
       "      <td>0.014347</td>\n",
       "      <td>0.016210</td>\n",
       "      <td>0.013017</td>\n",
       "    </tr>\n",
       "    <tr>\n",
       "      <th>2</th>\n",
       "      <td>0.015405</td>\n",
       "      <td>0.012285</td>\n",
       "      <td>0.024970</td>\n",
       "      <td>0.008727</td>\n",
       "      <td>0.032749</td>\n",
       "      <td>0.068569</td>\n",
       "      <td>0.004747</td>\n",
       "      <td>0.013840</td>\n",
       "      <td>0.013678</td>\n",
       "      <td>0.006912</td>\n",
       "      <td>...</td>\n",
       "      <td>0.014216</td>\n",
       "      <td>0.021775</td>\n",
       "      <td>0.012685</td>\n",
       "      <td>0.011178</td>\n",
       "      <td>0.004059</td>\n",
       "      <td>0.017964</td>\n",
       "      <td>0.015670</td>\n",
       "      <td>0.015747</td>\n",
       "      <td>0.014895</td>\n",
       "      <td>0.012285</td>\n",
       "    </tr>\n",
       "    <tr>\n",
       "      <th>3</th>\n",
       "      <td>0.001158</td>\n",
       "      <td>0.000658</td>\n",
       "      <td>0.004558</td>\n",
       "      <td>0.000661</td>\n",
       "      <td>0.003083</td>\n",
       "      <td>0.046141</td>\n",
       "      <td>0.000116</td>\n",
       "      <td>0.001359</td>\n",
       "      <td>0.001808</td>\n",
       "      <td>0.000199</td>\n",
       "      <td>...</td>\n",
       "      <td>0.001584</td>\n",
       "      <td>0.000618</td>\n",
       "      <td>0.000708</td>\n",
       "      <td>0.001116</td>\n",
       "      <td>0.000142</td>\n",
       "      <td>0.000495</td>\n",
       "      <td>0.001601</td>\n",
       "      <td>0.001744</td>\n",
       "      <td>0.000817</td>\n",
       "      <td>0.000658</td>\n",
       "    </tr>\n",
       "    <tr>\n",
       "      <th>4</th>\n",
       "      <td>0.001261</td>\n",
       "      <td>0.000643</td>\n",
       "      <td>0.004479</td>\n",
       "      <td>0.000735</td>\n",
       "      <td>0.005123</td>\n",
       "      <td>0.046141</td>\n",
       "      <td>0.000125</td>\n",
       "      <td>0.001300</td>\n",
       "      <td>0.001848</td>\n",
       "      <td>0.000177</td>\n",
       "      <td>...</td>\n",
       "      <td>0.001543</td>\n",
       "      <td>0.000536</td>\n",
       "      <td>0.000512</td>\n",
       "      <td>0.001059</td>\n",
       "      <td>0.000125</td>\n",
       "      <td>0.000411</td>\n",
       "      <td>0.001673</td>\n",
       "      <td>0.001678</td>\n",
       "      <td>0.000780</td>\n",
       "      <td>0.000643</td>\n",
       "    </tr>\n",
       "    <tr>\n",
       "      <th>5</th>\n",
       "      <td>0.003408</td>\n",
       "      <td>0.003275</td>\n",
       "      <td>0.007844</td>\n",
       "      <td>0.004112</td>\n",
       "      <td>0.001958</td>\n",
       "      <td>0.049115</td>\n",
       "      <td>0.001552</td>\n",
       "      <td>0.004672</td>\n",
       "      <td>0.005258</td>\n",
       "      <td>0.002280</td>\n",
       "      <td>...</td>\n",
       "      <td>0.004310</td>\n",
       "      <td>0.005866</td>\n",
       "      <td>0.003146</td>\n",
       "      <td>0.004054</td>\n",
       "      <td>0.001975</td>\n",
       "      <td>0.005350</td>\n",
       "      <td>0.004790</td>\n",
       "      <td>0.004770</td>\n",
       "      <td>0.004183</td>\n",
       "      <td>0.003275</td>\n",
       "    </tr>\n",
       "  </tbody>\n",
       "</table>\n",
       "<p>5 rows × 29 columns</p>\n",
       "</div>"
      ],
      "text/plain": [
       "   xgb_110.csv_Approved  xgb_121.csv_Approved  xgb_128.csv_Approved  \\\n",
       "1              0.010564              0.013017              0.014291   \n",
       "2              0.015405              0.012285              0.024970   \n",
       "3              0.001158              0.000658              0.004558   \n",
       "4              0.001261              0.000643              0.004479   \n",
       "5              0.003408              0.003275              0.007844   \n",
       "\n",
       "   xgb2_full.csv_Approved  fr600.t5_f.csv_Approved  xgb_rm.csv_Approved  \\\n",
       "1                0.014090                 0.000556             0.058538   \n",
       "2                0.008727                 0.032749             0.068569   \n",
       "3                0.000661                 0.003083             0.046141   \n",
       "4                0.000735                 0.005123             0.046141   \n",
       "5                0.004112                 0.001958             0.049115   \n",
       "\n",
       "   xgb_rm2.csv_Approved  xgb_115.csv_Approved  xgb_156.csv_Approved  \\\n",
       "1              0.012459              0.014536              0.012841   \n",
       "2              0.004747              0.013840              0.013678   \n",
       "3              0.000116              0.001359              0.001808   \n",
       "4              0.000125              0.001300              0.001848   \n",
       "5              0.001552              0.004672              0.005258   \n",
       "\n",
       "   xgb_121_full.csv_Approved           ...            xgb_88.csv_Approved  \\\n",
       "1                   0.011588           ...                       0.014744   \n",
       "2                   0.006912           ...                       0.014216   \n",
       "3                   0.000199           ...                       0.001584   \n",
       "4                   0.000177           ...                       0.001543   \n",
       "5                   0.002280           ...                       0.004310   \n",
       "\n",
       "   xgb-ext-date.csv_Approved  xgb1.csv_Approved  xgb_185.csv_Approved  \\\n",
       "1                   0.036651           0.015473              0.010602   \n",
       "2                   0.021775           0.012685              0.011178   \n",
       "3                   0.000618           0.000708              0.001116   \n",
       "4                   0.000536           0.000512              0.001059   \n",
       "5                   0.005866           0.003146              0.004054   \n",
       "\n",
       "   xgb_rm996_23333.csv_Approved  xgb_factor2.csv_Approved  \\\n",
       "1                      0.023680                  0.014747   \n",
       "2                      0.004059                  0.017964   \n",
       "3                      0.000142                  0.000495   \n",
       "4                      0.000125                  0.000411   \n",
       "5                      0.001975                  0.005350   \n",
       "\n",
       "   xgb_85.csv_Approved  xgb_106.csv_Approved  xgb_121_tune1.csv_Approved  \\\n",
       "1             0.014395              0.014347                    0.016210   \n",
       "2             0.015670              0.015747                    0.014895   \n",
       "3             0.001601              0.001744                    0.000817   \n",
       "4             0.001673              0.001678                    0.000780   \n",
       "5             0.004790              0.004770                    0.004183   \n",
       "\n",
       "   xgb_rm_rd.csv_Approved  \n",
       "1                0.013017  \n",
       "2                0.012285  \n",
       "3                0.000658  \n",
       "4                0.000643  \n",
       "5                0.003275  \n",
       "\n",
       "[5 rows x 29 columns]"
      ]
     },
     "execution_count": 121,
     "metadata": {},
     "output_type": "execute_result"
    }
   ],
   "source": [
    "for i in df:\n",
    "    df[i]=df[i].astype('float')\n",
    "df.head()"
   ]
  },
  {
   "cell_type": "code",
   "execution_count": 122,
   "metadata": {},
   "outputs": [
    {
     "data": {
      "text/plain": [
       "(30037, 2)"
      ]
     },
     "execution_count": 122,
     "metadata": {},
     "output_type": "execute_result"
    }
   ],
   "source": [
    "pd.read_csv('./submit/fr200.csv').shape"
   ]
  },
  {
   "cell_type": "code",
   "execution_count": 126,
   "metadata": {},
   "outputs": [
    {
     "data": {
      "text/plain": [
       "(30037, 2)"
      ]
     },
     "execution_count": 126,
     "metadata": {},
     "output_type": "execute_result"
    }
   ],
   "source": [
    "cb = pd.DataFrame(zip(ID,df.mean(1)), columns=['ID','Approved'])\n",
    "cb.shape"
   ]
  },
  {
   "cell_type": "code",
   "execution_count": 127,
   "metadata": {
    "collapsed": true
   },
   "outputs": [],
   "source": [
    "cb.to_csv('comb1.csv', index=False)"
   ]
  },
  {
   "cell_type": "code",
   "execution_count": null,
   "metadata": {
    "collapsed": true
   },
   "outputs": [],
   "source": []
  }
 ],
 "metadata": {
  "kernelspec": {
   "display_name": "Python 2",
   "language": "python",
   "name": "python2"
  },
  "language_info": {
   "codemirror_mode": {
    "name": "ipython",
    "version": 2
   },
   "file_extension": ".py",
   "mimetype": "text/x-python",
   "name": "python",
   "nbconvert_exporter": "python",
   "pygments_lexer": "ipython2",
   "version": "2.7.13"
  }
 },
 "nbformat": 4,
 "nbformat_minor": 2
}
