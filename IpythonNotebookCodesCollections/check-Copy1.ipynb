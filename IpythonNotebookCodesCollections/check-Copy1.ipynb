{
 "cells": [
  {
   "cell_type": "code",
   "execution_count": 1,
   "metadata": {
    "collapsed": true
   },
   "outputs": [],
   "source": [
    "import pandas as pd\n",
    "import os\n",
    "from time import ctime\n",
    "pd.options.display.max_rows=300"
   ]
  },
  {
   "cell_type": "code",
   "execution_count": 4,
   "metadata": {},
   "outputs": [
    {
     "name": "stdout",
     "output_type": "stream",
     "text": [
      "-rw-r--r--  1 shj16110 Domain_Users 5.5M Dec 26 13:40 users.golden.csv\r\n",
      "-rw-r--r--  1 shj16110 Domain_Users 5.5M Dec 26 13:46 users.golden_label.csv\r\n"
     ]
    }
   ],
   "source": [
    "!ls -ahl|grep golden"
   ]
  },
  {
   "cell_type": "markdown",
   "metadata": {},
   "source": [
    "### the counts are diff"
   ]
  },
  {
   "cell_type": "code",
   "execution_count": 5,
   "metadata": {},
   "outputs": [
    {
     "name": "stdout",
     "output_type": "stream",
     "text": [
      "(195185, 40)\n",
      "(168457, 8)\n",
      "CPU times: user 6.67 s, sys: 487 ms, total: 7.16 s\n",
      "Wall time: 7.39 s\n"
     ]
    },
    {
     "name": "stderr",
     "output_type": "stream",
     "text": [
      "<string>:2: DtypeWarning: Columns (1,7) have mixed types. Specify dtype option on import or set low_memory=False.\n"
     ]
    }
   ],
   "source": [
    "%%time\n",
    "data = pd.read_csv('./clean_Json_updated_debug_Dec_17_2017.csv')\n",
    "print data.shape\n",
    "\n",
    "gd = pd.read_csv('./users.new.golden.csv')\n",
    "print gd.shape"
   ]
  },
  {
   "cell_type": "code",
   "execution_count": 6,
   "metadata": {
    "collapsed": true
   },
   "outputs": [],
   "source": [
    "data['username_lower'] = data['username'].str.lower()\n",
    "gd['username_lower'] = gd['username'].str.lower()"
   ]
  },
  {
   "cell_type": "code",
   "execution_count": 9,
   "metadata": {},
   "outputs": [
    {
     "data": {
      "text/plain": [
       "0"
      ]
     },
     "execution_count": 9,
     "metadata": {},
     "output_type": "execute_result"
    }
   ],
   "source": [
    "data['username_lower'].duplicated().sum()"
   ]
  },
  {
   "cell_type": "markdown",
   "metadata": {},
   "source": [
    "### there's 11253 duplicates"
   ]
  },
  {
   "cell_type": "code",
   "execution_count": 13,
   "metadata": {},
   "outputs": [
    {
     "data": {
      "text/plain": [
       "11253"
      ]
     },
     "execution_count": 13,
     "metadata": {},
     "output_type": "execute_result"
    }
   ],
   "source": [
    "gd['username_lower'].duplicated().sum()"
   ]
  },
  {
   "cell_type": "code",
   "execution_count": 15,
   "metadata": {
    "collapsed": true
   },
   "outputs": [],
   "source": [
    "pd.DataFrame.join?"
   ]
  },
  {
   "cell_type": "markdown",
   "metadata": {},
   "source": [
    "### there's only 108657 mutual data between the data file and the golden pred file you provided"
   ]
  },
  {
   "cell_type": "code",
   "execution_count": 16,
   "metadata": {},
   "outputs": [
    {
     "data": {
      "text/plain": [
       "(108657, 48)"
      ]
     },
     "execution_count": 16,
     "metadata": {},
     "output_type": "execute_result"
    }
   ],
   "source": [
    "mutual = data.set_index('username_lower').join(gd.set_index('username_lower'), how='inner', lsuffix='data_')\n",
    "mutual.shape"
   ]
  },
  {
   "cell_type": "code",
   "execution_count": 17,
   "metadata": {},
   "outputs": [
    {
     "data": {
      "text/html": [
       "<div>\n",
       "<style>\n",
       "    .dataframe thead tr:only-child th {\n",
       "        text-align: right;\n",
       "    }\n",
       "\n",
       "    .dataframe thead th {\n",
       "        text-align: left;\n",
       "    }\n",
       "\n",
       "    .dataframe tbody tr th {\n",
       "        vertical-align: top;\n",
       "    }\n",
       "</style>\n",
       "<table border=\"1\" class=\"dataframe\">\n",
       "  <thead>\n",
       "    <tr style=\"text-align: right;\">\n",
       "      <th></th>\n",
       "      <th>index</th>\n",
       "      <th>about.avatar</th>\n",
       "      <th>about.avatar_cdn</th>\n",
       "      <th>about.avatar_large</th>\n",
       "      <th>about.avatar_large_cdn</th>\n",
       "      <th>about.chosen_role</th>\n",
       "      <th>about.company</th>\n",
       "      <th>about.cover_image</th>\n",
       "      <th>about.display_name</th>\n",
       "      <th>about.hourly_rate</th>\n",
       "      <th>...</th>\n",
       "      <th>usernamedata_</th>\n",
       "      <th>public_firstname</th>\n",
       "      <th>user_id</th>\n",
       "      <th>username</th>\n",
       "      <th>freq</th>\n",
       "      <th>male.prob</th>\n",
       "      <th>fname.gender</th>\n",
       "      <th>male.prob2</th>\n",
       "      <th>fname.gender2</th>\n",
       "      <th>pic.gender</th>\n",
       "    </tr>\n",
       "    <tr>\n",
       "      <th>username_lower</th>\n",
       "      <th></th>\n",
       "      <th></th>\n",
       "      <th></th>\n",
       "      <th></th>\n",
       "      <th></th>\n",
       "      <th></th>\n",
       "      <th></th>\n",
       "      <th></th>\n",
       "      <th></th>\n",
       "      <th></th>\n",
       "      <th></th>\n",
       "      <th></th>\n",
       "      <th></th>\n",
       "      <th></th>\n",
       "      <th></th>\n",
       "      <th></th>\n",
       "      <th></th>\n",
       "      <th></th>\n",
       "      <th></th>\n",
       "      <th></th>\n",
       "      <th></th>\n",
       "    </tr>\n",
       "  </thead>\n",
       "  <tbody>\n",
       "    <tr>\n",
       "      <th>a0109763626</th>\n",
       "      <td>a0109763626.html</td>\n",
       "      <td>/ppic/523106/logo/1472590/profile_logo_1472590...</td>\n",
       "      <td>//cdn3.f-cdn.com/ppic/523106/logo/1472590/prof...</td>\n",
       "      <td>/ppic/523105/logo/1472590/04032011394.jpg</td>\n",
       "      <td>//cdn3.f-cdn.com/ppic/523105/logo/1472590/0403...</td>\n",
       "      <td>1.0</td>\n",
       "      <td>Rezk</td>\n",
       "      <td>{u'current_image': {u'url': u'//cdn2.f-cdn.com...</td>\n",
       "      <td>a0109763626</td>\n",
       "      <td>None</td>\n",
       "      <td>...</td>\n",
       "      <td>a0109763626</td>\n",
       "      <td>Ahmed</td>\n",
       "      <td>1472590</td>\n",
       "      <td>a0109763626</td>\n",
       "      <td>NaN</td>\n",
       "      <td>NaN</td>\n",
       "      <td>NaN</td>\n",
       "      <td>NaN</td>\n",
       "      <td>NaN</td>\n",
       "      <td>NaN</td>\n",
       "    </tr>\n",
       "    <tr>\n",
       "      <th>a10110a</th>\n",
       "      <td>a10110a.html</td>\n",
       "      <td>/img/unknown.png</td>\n",
       "      <td>//cdn6.f-cdn.com/img/unknown.png</td>\n",
       "      <td>/img/unknown.png</td>\n",
       "      <td>//cdn6.f-cdn.com/img/unknown.png</td>\n",
       "      <td>2.0</td>\n",
       "      <td>Aaron A Herrick</td>\n",
       "      <td>{u'current_image': {u'url': u'//cdn2.f-cdn.com...</td>\n",
       "      <td>a10110a</td>\n",
       "      <td>None</td>\n",
       "      <td>...</td>\n",
       "      <td>a10110a</td>\n",
       "      <td>a10110a</td>\n",
       "      <td>1167771</td>\n",
       "      <td>a10110a</td>\n",
       "      <td>2.0</td>\n",
       "      <td>0.9930</td>\n",
       "      <td>male</td>\n",
       "      <td>0.999026</td>\n",
       "      <td>male</td>\n",
       "      <td>NaN</td>\n",
       "    </tr>\n",
       "    <tr>\n",
       "      <th>a1234567890endy</th>\n",
       "      <td>a1234567890endy.html</td>\n",
       "      <td>/ppic/383424/logo/1329304/profile_logo_1329304...</td>\n",
       "      <td>//cdn5.f-cdn.com/ppic/383424/logo/1329304/prof...</td>\n",
       "      <td>/ppic/383423/logo/1329304/tatsuke1.png</td>\n",
       "      <td>//cdn6.f-cdn.com/ppic/383423/logo/1329304/tats...</td>\n",
       "      <td>1.0</td>\n",
       "      <td>Tatsuke Editing</td>\n",
       "      <td>{u'current_image': {u'url': u'//cdn2.f-cdn.com...</td>\n",
       "      <td>A1234567890Endy</td>\n",
       "      <td>None</td>\n",
       "      <td>...</td>\n",
       "      <td>a1234567890endy</td>\n",
       "      <td>A1234567890Endy</td>\n",
       "      <td>1329304</td>\n",
       "      <td>A1234567890Endy</td>\n",
       "      <td>0.0</td>\n",
       "      <td>NaN</td>\n",
       "      <td>NaN</td>\n",
       "      <td>NaN</td>\n",
       "      <td>NaN</td>\n",
       "      <td>NaN</td>\n",
       "    </tr>\n",
       "    <tr>\n",
       "      <th>a15386</th>\n",
       "      <td>a15386.html</td>\n",
       "      <td>/img/unknown.png</td>\n",
       "      <td>//cdn6.f-cdn.com/img/unknown.png</td>\n",
       "      <td>/img/unknown.png</td>\n",
       "      <td>//cdn6.f-cdn.com/img/unknown.png</td>\n",
       "      <td>2.0</td>\n",
       "      <td>Dokoff Services Inc.</td>\n",
       "      <td>{u'current_image': {u'url': u'//cdn2.f-cdn.com...</td>\n",
       "      <td>A15386</td>\n",
       "      <td>None</td>\n",
       "      <td>...</td>\n",
       "      <td>a15386</td>\n",
       "      <td>A15386</td>\n",
       "      <td>1668020</td>\n",
       "      <td>A15386</td>\n",
       "      <td>2.0</td>\n",
       "      <td>0.9938</td>\n",
       "      <td>male</td>\n",
       "      <td>0.980822</td>\n",
       "      <td>male</td>\n",
       "      <td>NaN</td>\n",
       "    </tr>\n",
       "    <tr>\n",
       "      <th>a1anm</th>\n",
       "      <td>a1anm.html</td>\n",
       "      <td>/img/unknown.png</td>\n",
       "      <td>//cdn6.f-cdn.com/img/unknown.png</td>\n",
       "      <td>/img/unknown.png</td>\n",
       "      <td>//cdn6.f-cdn.com/img/unknown.png</td>\n",
       "      <td>3.0</td>\n",
       "      <td>NaN</td>\n",
       "      <td>{u'current_image': {u'url': u'//cdn2.f-cdn.com...</td>\n",
       "      <td>a1anm</td>\n",
       "      <td>None</td>\n",
       "      <td>...</td>\n",
       "      <td>a1anm</td>\n",
       "      <td>a1anm</td>\n",
       "      <td>897638</td>\n",
       "      <td>a1anm</td>\n",
       "      <td>1.0</td>\n",
       "      <td>0.9967</td>\n",
       "      <td>male</td>\n",
       "      <td>NaN</td>\n",
       "      <td>NaN</td>\n",
       "      <td>NaN</td>\n",
       "    </tr>\n",
       "  </tbody>\n",
       "</table>\n",
       "<p>5 rows × 48 columns</p>\n",
       "</div>"
      ],
      "text/plain": [
       "                                index  \\\n",
       "username_lower                          \n",
       "a0109763626          a0109763626.html   \n",
       "a10110a                  a10110a.html   \n",
       "a1234567890endy  a1234567890endy.html   \n",
       "a15386                    a15386.html   \n",
       "a1anm                      a1anm.html   \n",
       "\n",
       "                                                      about.avatar  \\\n",
       "username_lower                                                       \n",
       "a0109763626      /ppic/523106/logo/1472590/profile_logo_1472590...   \n",
       "a10110a                                           /img/unknown.png   \n",
       "a1234567890endy  /ppic/383424/logo/1329304/profile_logo_1329304...   \n",
       "a15386                                            /img/unknown.png   \n",
       "a1anm                                             /img/unknown.png   \n",
       "\n",
       "                                                  about.avatar_cdn  \\\n",
       "username_lower                                                       \n",
       "a0109763626      //cdn3.f-cdn.com/ppic/523106/logo/1472590/prof...   \n",
       "a10110a                           //cdn6.f-cdn.com/img/unknown.png   \n",
       "a1234567890endy  //cdn5.f-cdn.com/ppic/383424/logo/1329304/prof...   \n",
       "a15386                            //cdn6.f-cdn.com/img/unknown.png   \n",
       "a1anm                             //cdn6.f-cdn.com/img/unknown.png   \n",
       "\n",
       "                                        about.avatar_large  \\\n",
       "username_lower                                               \n",
       "a0109763626      /ppic/523105/logo/1472590/04032011394.jpg   \n",
       "a10110a                                   /img/unknown.png   \n",
       "a1234567890endy     /ppic/383423/logo/1329304/tatsuke1.png   \n",
       "a15386                                    /img/unknown.png   \n",
       "a1anm                                     /img/unknown.png   \n",
       "\n",
       "                                            about.avatar_large_cdn  \\\n",
       "username_lower                                                       \n",
       "a0109763626      //cdn3.f-cdn.com/ppic/523105/logo/1472590/0403...   \n",
       "a10110a                           //cdn6.f-cdn.com/img/unknown.png   \n",
       "a1234567890endy  //cdn6.f-cdn.com/ppic/383423/logo/1329304/tats...   \n",
       "a15386                            //cdn6.f-cdn.com/img/unknown.png   \n",
       "a1anm                             //cdn6.f-cdn.com/img/unknown.png   \n",
       "\n",
       "                 about.chosen_role         about.company  \\\n",
       "username_lower                                             \n",
       "a0109763626                    1.0                  Rezk   \n",
       "a10110a                        2.0       Aaron A Herrick   \n",
       "a1234567890endy                1.0       Tatsuke Editing   \n",
       "a15386                         2.0  Dokoff Services Inc.   \n",
       "a1anm                          3.0                   NaN   \n",
       "\n",
       "                                                 about.cover_image  \\\n",
       "username_lower                                                       \n",
       "a0109763626      {u'current_image': {u'url': u'//cdn2.f-cdn.com...   \n",
       "a10110a          {u'current_image': {u'url': u'//cdn2.f-cdn.com...   \n",
       "a1234567890endy  {u'current_image': {u'url': u'//cdn2.f-cdn.com...   \n",
       "a15386           {u'current_image': {u'url': u'//cdn2.f-cdn.com...   \n",
       "a1anm            {u'current_image': {u'url': u'//cdn2.f-cdn.com...   \n",
       "\n",
       "                about.display_name about.hourly_rate    ...      \\\n",
       "username_lower                                          ...       \n",
       "a0109763626            a0109763626              None    ...       \n",
       "a10110a                    a10110a              None    ...       \n",
       "a1234567890endy    A1234567890Endy              None    ...       \n",
       "a15386                      A15386              None    ...       \n",
       "a1anm                        a1anm              None    ...       \n",
       "\n",
       "                   usernamedata_ public_firstname  user_id         username  \\\n",
       "username_lower                                                                \n",
       "a0109763626          a0109763626            Ahmed  1472590      a0109763626   \n",
       "a10110a                  a10110a          a10110a  1167771          a10110a   \n",
       "a1234567890endy  a1234567890endy  A1234567890Endy  1329304  A1234567890Endy   \n",
       "a15386                    a15386           A15386  1668020           A15386   \n",
       "a1anm                      a1anm            a1anm   897638            a1anm   \n",
       "\n",
       "                freq male.prob  fname.gender  male.prob2 fname.gender2  \\\n",
       "username_lower                                                           \n",
       "a0109763626      NaN       NaN           NaN         NaN           NaN   \n",
       "a10110a          2.0    0.9930          male    0.999026          male   \n",
       "a1234567890endy  0.0       NaN           NaN         NaN           NaN   \n",
       "a15386           2.0    0.9938          male    0.980822          male   \n",
       "a1anm            1.0    0.9967          male         NaN           NaN   \n",
       "\n",
       "                pic.gender  \n",
       "username_lower              \n",
       "a0109763626            NaN  \n",
       "a10110a                NaN  \n",
       "a1234567890endy        NaN  \n",
       "a15386                 NaN  \n",
       "a1anm                  NaN  \n",
       "\n",
       "[5 rows x 48 columns]"
      ]
     },
     "execution_count": 17,
     "metadata": {},
     "output_type": "execute_result"
    }
   ],
   "source": [
    "mutual.head()"
   ]
  },
  {
   "cell_type": "code",
   "execution_count": null,
   "metadata": {
    "collapsed": true
   },
   "outputs": [],
   "source": []
  }
 ],
 "metadata": {
  "kernelspec": {
   "display_name": "Python 2",
   "language": "python",
   "name": "python2"
  },
  "language_info": {
   "codemirror_mode": {
    "name": "ipython",
    "version": 2
   },
   "file_extension": ".py",
   "mimetype": "text/x-python",
   "name": "python",
   "nbconvert_exporter": "python",
   "pygments_lexer": "ipython2",
   "version": "2.7.13"
  }
 },
 "nbformat": 4,
 "nbformat_minor": 2
}
