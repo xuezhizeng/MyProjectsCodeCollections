{
 "cells": [
  {
   "cell_type": "code",
   "execution_count": 16,
   "metadata": {},
   "outputs": [
    {
     "ename": "NameError",
     "evalue": "name '__file__' is not defined",
     "output_type": "error",
     "traceback": [
      "\u001b[0;31m\u001b[0m",
      "\u001b[0;31mNameError\u001b[0mTraceback (most recent call last)",
      "\u001b[0;32m<ipython-input-16-24dbecb97cec>\u001b[0m in \u001b[0;36m<module>\u001b[0;34m()\u001b[0m\n\u001b[1;32m      1\u001b[0m \u001b[0;32mimport\u001b[0m \u001b[0mos\u001b[0m\u001b[0;34m\u001b[0m\u001b[0m\n\u001b[0;32m----> 2\u001b[0;31m \u001b[0m_HERE\u001b[0m \u001b[0;34m=\u001b[0m \u001b[0mos\u001b[0m\u001b[0;34m.\u001b[0m\u001b[0mpath\u001b[0m\u001b[0;34m.\u001b[0m\u001b[0mabspath\u001b[0m\u001b[0;34m(\u001b[0m\u001b[0mos\u001b[0m\u001b[0;34m.\u001b[0m\u001b[0mpath\u001b[0m\u001b[0;34m.\u001b[0m\u001b[0mdirname\u001b[0m\u001b[0;34m(\u001b[0m\u001b[0mos\u001b[0m\u001b[0;34m.\u001b[0m\u001b[0mpath\u001b[0m\u001b[0;34m.\u001b[0m\u001b[0mrealpath\u001b[0m\u001b[0;34m(\u001b[0m\u001b[0m__file__\u001b[0m\u001b[0;34m)\u001b[0m\u001b[0;34m)\u001b[0m\u001b[0;34m)\u001b[0m\u001b[0;34m\u001b[0m\u001b[0m\n\u001b[0m",
      "\u001b[0;31mNameError\u001b[0m: name '__file__' is not defined"
     ]
    }
   ],
   "source": [
    "import os\n"
   ]
  },
  {
   "cell_type": "code",
   "execution_count": 1,
   "metadata": {
    "collapsed": true
   },
   "outputs": [],
   "source": [
    "with open('readme_example.rst') as fh:\n",
    "    a=fh.readlines()"
   ]
  },
  {
   "cell_type": "code",
   "execution_count": 10,
   "metadata": {},
   "outputs": [
    {
     "data": {
      "text/plain": [
       "'\\nJson2df\\n-------\\n\\n|PyPI version|\\n\\njson2df is a library batch processing a lists of json data (multiple\\ninstances of same structured json data) into Pandas DataFrame\\n\\n.. |PyPI version| image:: https://badge.fury.io/py/json2df.svg\\n   :target: https://badge.fury.io/py/json2df\\n\\ninstallation\\n~~~~~~~~~~~~\\n\\n``$ pip install json2df``\\n\\nusage example\\n~~~~~~~~~~~~~\\n\\nhttps://github.com/shichaoji/json2df\\n'"
      ]
     },
     "execution_count": 10,
     "metadata": {},
     "output_type": "execute_result"
    }
   ],
   "source": [
    "''.join(a[:21])"
   ]
  },
  {
   "cell_type": "code",
   "execution_count": 32,
   "metadata": {},
   "outputs": [
    {
     "name": "stdout",
     "output_type": "stream",
     "text": [
      "\r\n",
      "Json2df\r\n",
      "-------\r\n",
      "\r\n",
      "|PyPI version|\r\n",
      "\r\n",
      "json2df is a library batch processing a lists of json data (multiple\r\n",
      "instances of same structured json data) into Pandas DataFrame\r\n",
      "\r\n",
      ".. |PyPI version| image:: https://badge.fury.io/py/json2df.svg\r\n",
      "   :target: https://badge.fury.io/py/json2df\r\n",
      "\r\n",
      "installation\r\n",
      "~~~~~~~~~~~~\r\n",
      "\r\n",
      "``$ pip install json2df``\r\n",
      "\r\n",
      "usage example\r\n",
      "~~~~~~~~~~~~~\r\n",
      "\r\n",
      "https://github.com/shichaoji/json2df\r\n",
      "\r\n",
      "e.g. when you scrape some users info data from a website, usually some\r\n",
      "fields contains json data format\r\n",
      "\r\n",
      ".. code:: ipython2\r\n",
      "\r\n",
      "    import pandas as pd\r\n",
      "    df = pd.read_csv('https://raw.githubusercontent.com/shichaoji/json2df/master/sample.csv')\r\n",
      "    df.shape\r\n",
      "\r\n",
      "\r\n",
      "\r\n",
      "\r\n",
      ".. parsed-literal::\r\n",
      "\r\n",
      "    (100, 5)\r\n",
      "\r\n",
      "\r\n",
      "\r\n",
      ".. code:: ipython2\r\n",
      "\r\n",
      "    df.head(3)\r\n",
      "\r\n",
      "\r\n",
      "\r\n",
      "\r\n",
      ".. raw:: html\r\n",
      "\r\n",
      "    <div>\r\n",
      "    <style scoped>\r\n",
      "        .dataframe tbody tr th:only-of-type {\r\n",
      "            vertical-align: middle;\r\n",
      "        }\r\n",
      "    \r\n",
      "        .dataframe tbody tr th {\r\n",
      "            vertical-align: top;\r\n",
      "        }\r\n",
      "    \r\n",
      "        .dataframe thead th {\r\n",
      "            text-align: right;\r\n",
      "        }\r\n",
      "    </style>\r\n",
      "    <table border=\"1\" class=\"dataframe\">\r\n",
      "      <thead>\r\n",
      "        <tr style=\"text-align: right;\">\r\n",
      "          <th></th>\r\n",
      "          <th>mock_id</th>\r\n",
      "          <th>location</th>\r\n",
      "          <th>primary_currency</th>\r\n",
      "          <th>status</th>\r\n",
      "          <th>timezone</th>\r\n",
      "        </tr>\r\n",
      "      </thead>\r\n",
      "      <tbody>\r\n",
      "        <tr>\r\n",
      "          <th>0</th>\r\n",
      "          <td>0</td>\r\n",
      "          <td>{u'administrative_area': None, u'city': u'Sing...</td>\r\n",
      "          <td>{u'code': u'USD', u'name': u'US Dollar', u'cou...</td>\r\n",
      "          <td>{u'payment_verified': False, u'identity_verifi...</td>\r\n",
      "          <td>{u'country': u'SG', u'offset': 8, u'id': 210, ...</td>\r\n",
      "        </tr>\r\n",
      "        <tr>\r\n",
      "          <th>1</th>\r\n",
      "          <td>1</td>\r\n",
      "          <td>{u'administrative_area': None, u'city': u'Bris...</td>\r\n",
      "          <td>{u'code': u'USD', u'name': u'US Dollar', u'cou...</td>\r\n",
      "          <td>{u'payment_verified': False, u'identity_verifi...</td>\r\n",
      "          <td>{u'country': u'UK', u'offset': 1, u'id': 262, ...</td>\r\n",
      "        </tr>\r\n",
      "        <tr>\r\n",
      "          <th>2</th>\r\n",
      "          <td>2</td>\r\n",
      "          <td>{u'administrative_area': None, u'city': u'Ambo...</td>\r\n",
      "          <td>{u'code': u'USD', u'name': u'US Dollar', u'cou...</td>\r\n",
      "          <td>{u'payment_verified': False, u'identity_verifi...</td>\r\n",
      "          <td>{u'country': u'MG', u'offset': 3, u'id': 295, ...</td>\r\n",
      "        </tr>\r\n",
      "      </tbody>\r\n",
      "    </table>\r\n",
      "    </div>\r\n",
      "\r\n",
      "\r\n",
      "\r\n",
      "e.g. we want to extract the location field and convert into a dataframe\r\n",
      "^^^^^^^^^^^^^^^^^^^^^^^^^^^^^^^^^^^^^^^^^^^^^^^^^^^^^^^^^^^^^^^^^^^^^^^\r\n",
      "\r\n",
      "select location\r\n",
      "\r\n",
      ".. code:: ipython2\r\n",
      "\r\n",
      "    df['location'].head()\r\n",
      "\r\n",
      "\r\n",
      "\r\n",
      "\r\n",
      ".. parsed-literal::\r\n",
      "\r\n",
      "    0    {u'administrative_area': None, u'city': u'Sing...\r\n",
      "    1    {u'administrative_area': None, u'city': u'Bris...\r\n",
      "    2    {u'administrative_area': None, u'city': u'Ambo...\r\n",
      "    3    {u'administrative_area': None, u'city': u'Drob...\r\n",
      "    4    {u'administrative_area': None, u'city': u'Torr...\r\n",
      "    Name: location, dtype: object\r\n",
      "\r\n",
      "\r\n",
      "\r\n",
      "view first row\r\n",
      "\r\n",
      ".. code:: ipython2\r\n",
      "\r\n",
      "    first_row = df['location'].head()[0]\r\n",
      "    print type(first_row)\r\n",
      "\r\n",
      "\r\n",
      ".. parsed-literal::\r\n",
      "\r\n",
      "    <type 'str'>\r\n",
      "\r\n",
      "\r\n",
      ".. code:: ipython2\r\n",
      "\r\n",
      "    first_row\r\n",
      "\r\n",
      "\r\n",
      "\r\n",
      "\r\n",
      ".. parsed-literal::\r\n",
      "\r\n",
      "    \"{u'administrative_area': None, u'city': u'Singapore', u'country': {u'highres_flag_url': u'/img/flags/highres_png/singapore.png', u'code': u'sg', u'name': u'Singapore', u'seo_url': None, u'flag_url_cdn': u'//cdn2.f-cdn.com/img/flags/png/sg.png', u'highres_flag_url_cdn': u'//cdn6.f-cdn.com/img/flags/highres_png/singapore.png', u'phone_code': None, u'language_code': None, u'demonym': None, u'language_id': None, u'person': None, u'iso3': None, u'sanction': None, u'flag_url': u'/img/flags/png/sg.png', u'flag_class': u'singapore', u'region_id': None}, u'vicinity': None, u'longitude': None, u'full_address': None, u'latitude': None}\"\r\n",
      "\r\n",
      "\r\n",
      "\r\n",
      "convert the string representation into a python dictionary\r\n",
      "\r\n",
      "as you can see the json data has inner loop\r\n",
      "\r\n",
      ".. code:: ipython2\r\n",
      "\r\n",
      "    import ast\r\n",
      "    ast.literal_eval(first_row)\r\n",
      "\r\n",
      "\r\n",
      "\r\n",
      "\r\n",
      ".. parsed-literal::\r\n",
      "\r\n",
      "    {u'administrative_area': None,\r\n",
      "     u'city': u'Singapore',\r\n",
      "     u'country': {u'code': u'sg',\r\n",
      "      u'demonym': None,\r\n",
      "      u'flag_class': u'singapore',\r\n",
      "      u'flag_url': u'/img/flags/png/sg.png',\r\n",
      "      u'flag_url_cdn': u'//cdn2.f-cdn.com/img/flags/png/sg.png',\r\n",
      "      u'highres_flag_url': u'/img/flags/highres_png/singapore.png',\r\n",
      "      u'highres_flag_url_cdn': u'//cdn6.f-cdn.com/img/flags/highres_png/singapore.png',\r\n",
      "      u'iso3': None,\r\n",
      "      u'language_code': None,\r\n",
      "      u'language_id': None,\r\n",
      "      u'name': u'Singapore',\r\n",
      "      u'person': None,\r\n",
      "      u'phone_code': None,\r\n",
      "      u'region_id': None,\r\n",
      "      u'sanction': None,\r\n",
      "      u'seo_url': None},\r\n",
      "     u'full_address': None,\r\n",
      "     u'latitude': None,\r\n",
      "     u'longitude': None,\r\n",
      "     u'vicinity': None}\r\n",
      "\r\n",
      "\r\n",
      "\r\n",
      "user json2df to convert the entire location field (Series) into a DataFrame\r\n",
      "~~~~~~~~~~~~~~~~~~~~~~~~~~~~~~~~~~~~~~~~~~~~~~~~~~~~~~~~~~~~~~~~~~~~~~~~~~~\r\n",
      "\r\n",
      ".. code:: ipython2\r\n",
      "\r\n",
      "    from json2df import series2df\r\n",
      "    \r\n",
      "    extract_df = series2df(df['location'])\r\n",
      "    \r\n",
      "    \r\n",
      "    print (extract_df.shape)\r\n",
      "    extract_df.head(5)\r\n",
      "\r\n",
      "\r\n",
      ".. parsed-literal::\r\n",
      "\r\n",
      "    (100, 22)\r\n",
      "\r\n",
      "\r\n",
      "\r\n",
      "\r\n",
      ".. raw:: html\r\n",
      "\r\n",
      "    <div>\r\n",
      "    <style scoped>\r\n",
      "        .dataframe tbody tr th:only-of-type {\r\n",
      "            vertical-align: middle;\r\n",
      "        }\r\n",
      "    \r\n",
      "        .dataframe tbody tr th {\r\n",
      "            vertical-align: top;\r\n",
      "        }\r\n",
      "    \r\n",
      "        .dataframe thead th {\r\n",
      "            text-align: right;\r\n",
      "        }\r\n",
      "    </style>\r\n",
      "    <table border=\"1\" class=\"dataframe\">\r\n",
      "      <thead>\r\n",
      "        <tr style=\"text-align: right;\">\r\n",
      "          <th></th>\r\n",
      "          <th>administrative_area</th>\r\n",
      "          <th>city</th>\r\n",
      "          <th>country_code</th>\r\n",
      "          <th>country_demonym</th>\r\n",
      "          <th>country_flag_class</th>\r\n",
      "          <th>country_flag_url</th>\r\n",
      "          <th>country_flag_url_cdn</th>\r\n",
      "          <th>country_highres_flag_url</th>\r\n",
      "          <th>country_highres_flag_url_cdn</th>\r\n",
      "          <th>country_iso3</th>\r\n",
      "          <th>...</th>\r\n",
      "          <th>country_name</th>\r\n",
      "          <th>country_person</th>\r\n",
      "          <th>country_phone_code</th>\r\n",
      "          <th>country_region_id</th>\r\n",
      "          <th>country_sanction</th>\r\n",
      "          <th>country_seo_url</th>\r\n",
      "          <th>full_address</th>\r\n",
      "          <th>latitude</th>\r\n",
      "          <th>longitude</th>\r\n",
      "          <th>vicinity</th>\r\n",
      "        </tr>\r\n",
      "      </thead>\r\n",
      "      <tbody>\r\n",
      "        <tr>\r\n",
      "          <th>0</th>\r\n",
      "          <td>None</td>\r\n",
      "          <td>Singapore</td>\r\n",
      "          <td>sg</td>\r\n",
      "          <td>None</td>\r\n",
      "          <td>singapore</td>\r\n",
      "          <td>/img/flags/png/sg.png</td>\r\n",
      "          <td>//cdn2.f-cdn.com/img/flags/png/sg.png</td>\r\n",
      "          <td>/img/flags/highres_png/singapore.png</td>\r\n",
      "          <td>//cdn6.f-cdn.com/img/flags/highres_png/singapo...</td>\r\n",
      "          <td>None</td>\r\n",
      "          <td>...</td>\r\n",
      "          <td>Singapore</td>\r\n",
      "          <td>None</td>\r\n",
      "          <td>None</td>\r\n",
      "          <td>None</td>\r\n",
      "          <td>None</td>\r\n",
      "          <td>None</td>\r\n",
      "          <td>None</td>\r\n",
      "          <td>None</td>\r\n",
      "          <td>None</td>\r\n",
      "          <td>None</td>\r\n",
      "        </tr>\r\n",
      "        <tr>\r\n",
      "          <th>1</th>\r\n",
      "          <td>None</td>\r\n",
      "          <td>Bristol</td>\r\n",
      "          <td>gb</td>\r\n",
      "          <td>None</td>\r\n",
      "          <td>united-kingdom</td>\r\n",
      "          <td>/img/flags/png/gb.png</td>\r\n",
      "          <td>//cdn6.f-cdn.com/img/flags/png/gb.png</td>\r\n",
      "          <td>/img/flags/highres_png/united-kingdom.png</td>\r\n",
      "          <td>//cdn5.f-cdn.com/img/flags/highres_png/united-...</td>\r\n",
      "          <td>None</td>\r\n",
      "          <td>...</td>\r\n",
      "          <td>United Kingdom</td>\r\n",
      "          <td>None</td>\r\n",
      "          <td>None</td>\r\n",
      "          <td>None</td>\r\n",
      "          <td>None</td>\r\n",
      "          <td>None</td>\r\n",
      "          <td>None</td>\r\n",
      "          <td>None</td>\r\n",
      "          <td>None</td>\r\n",
      "          <td>None</td>\r\n",
      "        </tr>\r\n",
      "        <tr>\r\n",
      "          <th>2</th>\r\n",
      "          <td>None</td>\r\n",
      "          <td>Ambohidratrimo</td>\r\n",
      "          <td>mg</td>\r\n",
      "          <td>None</td>\r\n",
      "          <td>madagascar</td>\r\n",
      "          <td>/img/flags/png/mg.png</td>\r\n",
      "          <td>//cdn3.f-cdn.com/img/flags/png/mg.png</td>\r\n",
      "          <td>/img/flags/highres_png/madagascar.png</td>\r\n",
      "          <td>//cdn3.f-cdn.com/img/flags/highres_png/madagas...</td>\r\n",
      "          <td>None</td>\r\n",
      "          <td>...</td>\r\n",
      "          <td>Madagascar</td>\r\n",
      "          <td>None</td>\r\n",
      "          <td>None</td>\r\n",
      "          <td>None</td>\r\n",
      "          <td>None</td>\r\n",
      "          <td>None</td>\r\n",
      "          <td>None</td>\r\n",
      "          <td>None</td>\r\n",
      "          <td>None</td>\r\n",
      "          <td>None</td>\r\n",
      "        </tr>\r\n",
      "        <tr>\r\n",
      "          <th>3</th>\r\n",
      "          <td>None</td>\r\n",
      "          <td>Drobak</td>\r\n",
      "          <td>no</td>\r\n",
      "          <td>None</td>\r\n",
      "          <td>norway</td>\r\n",
      "          <td>/img/flags/png/no.png</td>\r\n",
      "          <td>//cdn2.f-cdn.com/img/flags/png/no.png</td>\r\n",
      "          <td>/img/flags/highres_png/norway.png</td>\r\n",
      "          <td>//cdn3.f-cdn.com/img/flags/highres_png/norway.png</td>\r\n",
      "          <td>None</td>\r\n",
      "          <td>...</td>\r\n",
      "          <td>Norway</td>\r\n",
      "          <td>None</td>\r\n",
      "          <td>None</td>\r\n",
      "          <td>None</td>\r\n",
      "          <td>None</td>\r\n",
      "          <td>None</td>\r\n",
      "          <td>None</td>\r\n",
      "          <td>None</td>\r\n",
      "          <td>None</td>\r\n",
      "          <td>None</td>\r\n",
      "        </tr>\r\n",
      "        <tr>\r\n",
      "          <th>4</th>\r\n",
      "          <td>None</td>\r\n",
      "          <td>Torronto</td>\r\n",
      "          <td>ca</td>\r\n",
      "          <td>None</td>\r\n",
      "          <td>canada</td>\r\n",
      "          <td>/img/flags/png/ca.png</td>\r\n",
      "          <td>//cdn6.f-cdn.com/img/flags/png/ca.png</td>\r\n",
      "          <td>/img/flags/highres_png/canada.png</td>\r\n",
      "          <td>//cdn6.f-cdn.com/img/flags/highres_png/canada.png</td>\r\n",
      "          <td>None</td>\r\n",
      "          <td>...</td>\r\n",
      "          <td>Canada</td>\r\n",
      "          <td>None</td>\r\n",
      "          <td>None</td>\r\n",
      "          <td>None</td>\r\n",
      "          <td>None</td>\r\n",
      "          <td>None</td>\r\n",
      "          <td>None</td>\r\n",
      "          <td>None</td>\r\n",
      "          <td>None</td>\r\n",
      "          <td>None</td>\r\n",
      "        </tr>\r\n",
      "      </tbody>\r\n",
      "    </table>\r\n",
      "    <p>5 rows × 22 columns</p>\r\n",
      "    </div>\r\n",
      "\r\n",
      "\r\n"
     ]
    }
   ],
   "source": [
    "!cat readme_example.rst"
   ]
  },
  {
   "cell_type": "code",
   "execution_count": null,
   "metadata": {
    "collapsed": true
   },
   "outputs": [],
   "source": []
  },
  {
   "cell_type": "code",
   "execution_count": 65,
   "metadata": {},
   "outputs": [],
   "source": [
    "with open('readme_example.rst', 'r+') as fh:\n",
    "    long_description=fh.read().replace(\"\"\"<style scoped>\\n        .dataframe tbody tr th:only-of-type {\\n            vertical-align: middle;\\n        }\\n    \\n        .dataframe tbody tr th {\\n            vertical-align: top;\\n        }\\n    \\n        .dataframe thead th {\\n            text-align: right;\\n        }\\n    </style>\\n \"\"\", \"\").replace(\"ipython2\",\"python\")\n",
    "    fh.seek(0)\n",
    "    fh.write(long_description)\n",
    "    fh.seek(0)\n",
    "    text_pypi = ''.join(fh.readlines()[:21])"
   ]
  },
  {
   "cell_type": "code",
   "execution_count": 68,
   "metadata": {},
   "outputs": [
    {
     "data": {
      "text/plain": [
       "'\\nJson2df\\n-------\\n\\n|PyPI version|\\n\\njson2df is a library batch processing a lists of json data (multiple\\ninstances of same structured json data) into Pandas DataFrame\\n\\n.. |PyPI version| image:: https://badge.fury.io/py/json2df.svg\\n   :target: https://badge.fury.io/py/json2df\\n\\ninstallation\\n~~~~~~~~~~~~\\n\\n``$ pip install json2df``\\n\\nusage example\\n~~~~~~~~~~~~~\\n\\nhttps://github.com/shichaoji/json2df\\n'"
      ]
     },
     "execution_count": 68,
     "metadata": {},
     "output_type": "execute_result"
    }
   ],
   "source": [
    "text_pypi"
   ]
  },
  {
   "cell_type": "code",
   "execution_count": null,
   "metadata": {
    "collapsed": true
   },
   "outputs": [],
   "source": []
  },
  {
   "cell_type": "code",
   "execution_count": null,
   "metadata": {
    "collapsed": true
   },
   "outputs": [],
   "source": []
  },
  {
   "cell_type": "code",
   "execution_count": null,
   "metadata": {
    "collapsed": true
   },
   "outputs": [],
   "source": []
  },
  {
   "cell_type": "code",
   "execution_count": null,
   "metadata": {
    "collapsed": true
   },
   "outputs": [],
   "source": []
  },
  {
   "cell_type": "code",
   "execution_count": 46,
   "metadata": {},
   "outputs": [],
   "source": [
    "a = a.replace(\"\"\"<style scoped>\\n        .dataframe tbody tr th:only-of-type {\\n            vertical-align: middle;\\n        }\\n    \\n        .dataframe tbody tr th {\\n            vertical-align: top;\\n        }\\n    \\n        .dataframe thead th {\\n            text-align: right;\\n        }\\n    </style>\\n \"\"\", \"\").replace(\"ipython2\",\"python\")"
   ]
  },
  {
   "cell_type": "code",
   "execution_count": 47,
   "metadata": {},
   "outputs": [],
   "source": [
    "with open('readme_example.rst','w+') as t:\n",
    "    t.write(a)"
   ]
  },
  {
   "cell_type": "code",
   "execution_count": 48,
   "metadata": {},
   "outputs": [],
   "source": [
    "with open('readme_example.rst') as bbb:\n",
    "    text_pypi = ''.join(bbb.readlines()[:21])\n",
    "    "
   ]
  },
  {
   "cell_type": "code",
   "execution_count": 49,
   "metadata": {},
   "outputs": [
    {
     "data": {
      "text/plain": [
       "'\\nJson2df\\n-------\\n\\n|PyPI version|\\n\\njson2df is a library batch processing a lists of json data (multiple\\ninstances of same structured json data) into Pandas DataFrame\\n\\n.. |PyPI version| image:: https://badge.fury.io/py/json2df.svg\\n   :target: https://badge.fury.io/py/json2df\\n\\ninstallation\\n~~~~~~~~~~~~\\n\\n``$ pip install json2df``\\n\\nusage example\\n~~~~~~~~~~~~~\\n\\nhttps://github.com/shichaoji/json2df\\n'"
      ]
     },
     "execution_count": 49,
     "metadata": {},
     "output_type": "execute_result"
    }
   ],
   "source": [
    "text_pypi"
   ]
  },
  {
   "cell_type": "code",
   "execution_count": 62,
   "metadata": {},
   "outputs": [
    {
     "name": "stdout",
     "output_type": "stream",
     "text": [
      "1.1.18.ipynb  12.30.ipynb\t\t\t      readme_example.rst\r\n",
      "11.19.ipynb   distribution_setuptools_git_pypi.ipynb  sample.csv\r\n",
      "11.21.ipynb   json2df_readme.ipynb\t\t      testdata\r\n",
      "11.22.ipynb   market-research-library.json\t      test.rst\r\n",
      "11.23.ipynb   parse_readme.ipynb\t\t      test.sh\r\n"
     ]
    }
   ],
   "source": [
    "!ls"
   ]
  },
  {
   "cell_type": "code",
   "execution_count": 63,
   "metadata": {
    "collapsed": true
   },
   "outputs": [],
   "source": [
    "c = open('readme_example.rst','r+')"
   ]
  },
  {
   "cell_type": "code",
   "execution_count": 64,
   "metadata": {},
   "outputs": [
    {
     "data": {
      "text/plain": [
       "\"open('readme_example.rst','w+')\""
      ]
     },
     "execution_count": 64,
     "metadata": {},
     "output_type": "execute_result"
    }
   ],
   "source": [
    "c.read()"
   ]
  },
  {
   "cell_type": "code",
   "execution_count": null,
   "metadata": {
    "collapsed": true
   },
   "outputs": [],
   "source": []
  },
  {
   "cell_type": "code",
   "execution_count": null,
   "metadata": {
    "collapsed": true
   },
   "outputs": [],
   "source": []
  },
  {
   "cell_type": "code",
   "execution_count": null,
   "metadata": {
    "collapsed": true
   },
   "outputs": [],
   "source": []
  },
  {
   "cell_type": "code",
   "execution_count": 23,
   "metadata": {},
   "outputs": [],
   "source": [
    "with open('readme_example.rst', 'w+') as fh:\n",
    "    long_description = fh.read()\n",
    "\n",
    "\n",
    "\n",
    "    long_description = long_description.replace(\"\"\"<style scoped>\n",
    "            .dataframe tbody tr th:only-of-type {\n",
    "                vertical-align: middle;\n",
    "            }\n",
    "\n",
    "            .dataframe tbody tr th {\n",
    "                vertical-align: top;\n",
    "            }\n",
    "\n",
    "            .dataframe thead th {\n",
    "                text-align: right;\n",
    "            }\n",
    "        </style>\"\"\", \"\").replace(\"ipython2\",\"python\")\n",
    "    print long_description\n",
    "    fh.seek(0)\n",
    "#     fh.write(long_description)\n",
    "    fh.seek(0)\n",
    "    text_pypi = ''.join(fh.readlines()[:21])\n"
   ]
  },
  {
   "cell_type": "code",
   "execution_count": 24,
   "metadata": {},
   "outputs": [
    {
     "data": {
      "text/plain": [
       "''"
      ]
     },
     "execution_count": 24,
     "metadata": {},
     "output_type": "execute_result"
    }
   ],
   "source": [
    "long_description"
   ]
  },
  {
   "cell_type": "code",
   "execution_count": null,
   "metadata": {
    "collapsed": true
   },
   "outputs": [],
   "source": []
  }
 ],
 "metadata": {
  "kernelspec": {
   "display_name": "Python 2",
   "language": "python",
   "name": "python2"
  },
  "language_info": {
   "codemirror_mode": {
    "name": "ipython",
    "version": 2
   },
   "file_extension": ".py",
   "mimetype": "text/x-python",
   "name": "python",
   "nbconvert_exporter": "python",
   "pygments_lexer": "ipython2",
   "version": "2.7.13"
  }
 },
 "nbformat": 4,
 "nbformat_minor": 2
}
