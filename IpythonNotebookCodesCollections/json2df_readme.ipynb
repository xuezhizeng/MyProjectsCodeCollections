{
 "cells": [
  {
   "cell_type": "markdown",
   "metadata": {},
   "source": [
    "## Json2df\n",
    "\n",
    "[![PyPI version](https://badge.fury.io/py/json2df.svg)](https://badge.fury.io/py/json2df)\n",
    "\n",
    "\n",
    "json2df is a library batch processing a lists of json data (multiple instances of same structured json data) into Pandas DataFrame\n",
    "\n"
   ]
  },
  {
   "cell_type": "markdown",
   "metadata": {},
   "source": [
    "### installation\n",
    "\n",
    "` $ pip install json2df`"
   ]
  },
  {
   "cell_type": "markdown",
   "metadata": {
    "collapsed": true
   },
   "source": [
    "### usage example\n",
    "\n",
    "https://github.com/shichaoji/json2df"
   ]
  },
  {
   "cell_type": "markdown",
   "metadata": {},
   "source": [
    "e.g. when you scrape some users info data from a website, usually some fields contains json data format"
   ]
  },
  {
   "cell_type": "code",
   "execution_count": 1,
   "metadata": {},
   "outputs": [
    {
     "data": {
      "text/plain": [
       "(100, 5)"
      ]
     },
     "execution_count": 1,
     "metadata": {},
     "output_type": "execute_result"
    }
   ],
   "source": [
    "import pandas as pd\n",
    "df = pd.read_csv('https://raw.githubusercontent.com/shichaoji/json2df/master/sample.csv')\n",
    "df.shape"
   ]
  },
  {
   "cell_type": "code",
   "execution_count": 2,
   "metadata": {},
   "outputs": [
    {
     "data": {
      "text/html": [
       "<div>\n",
       "<style scoped>\n",
       "    .dataframe tbody tr th:only-of-type {\n",
       "        vertical-align: middle;\n",
       "    }\n",
       "\n",
       "    .dataframe tbody tr th {\n",
       "        vertical-align: top;\n",
       "    }\n",
       "\n",
       "    .dataframe thead th {\n",
       "        text-align: right;\n",
       "    }\n",
       "</style>\n",
       "<table border=\"1\" class=\"dataframe\">\n",
       "  <thead>\n",
       "    <tr style=\"text-align: right;\">\n",
       "      <th></th>\n",
       "      <th>mock_id</th>\n",
       "      <th>location</th>\n",
       "      <th>primary_currency</th>\n",
       "      <th>status</th>\n",
       "      <th>timezone</th>\n",
       "    </tr>\n",
       "  </thead>\n",
       "  <tbody>\n",
       "    <tr>\n",
       "      <th>0</th>\n",
       "      <td>0</td>\n",
       "      <td>{u'administrative_area': None, u'city': u'Sing...</td>\n",
       "      <td>{u'code': u'USD', u'name': u'US Dollar', u'cou...</td>\n",
       "      <td>{u'payment_verified': False, u'identity_verifi...</td>\n",
       "      <td>{u'country': u'SG', u'offset': 8, u'id': 210, ...</td>\n",
       "    </tr>\n",
       "    <tr>\n",
       "      <th>1</th>\n",
       "      <td>1</td>\n",
       "      <td>{u'administrative_area': None, u'city': u'Bris...</td>\n",
       "      <td>{u'code': u'USD', u'name': u'US Dollar', u'cou...</td>\n",
       "      <td>{u'payment_verified': False, u'identity_verifi...</td>\n",
       "      <td>{u'country': u'UK', u'offset': 1, u'id': 262, ...</td>\n",
       "    </tr>\n",
       "    <tr>\n",
       "      <th>2</th>\n",
       "      <td>2</td>\n",
       "      <td>{u'administrative_area': None, u'city': u'Ambo...</td>\n",
       "      <td>{u'code': u'USD', u'name': u'US Dollar', u'cou...</td>\n",
       "      <td>{u'payment_verified': False, u'identity_verifi...</td>\n",
       "      <td>{u'country': u'MG', u'offset': 3, u'id': 295, ...</td>\n",
       "    </tr>\n",
       "  </tbody>\n",
       "</table>\n",
       "</div>"
      ],
      "text/plain": [
       "   mock_id                                           location  \\\n",
       "0        0  {u'administrative_area': None, u'city': u'Sing...   \n",
       "1        1  {u'administrative_area': None, u'city': u'Bris...   \n",
       "2        2  {u'administrative_area': None, u'city': u'Ambo...   \n",
       "\n",
       "                                    primary_currency  \\\n",
       "0  {u'code': u'USD', u'name': u'US Dollar', u'cou...   \n",
       "1  {u'code': u'USD', u'name': u'US Dollar', u'cou...   \n",
       "2  {u'code': u'USD', u'name': u'US Dollar', u'cou...   \n",
       "\n",
       "                                              status  \\\n",
       "0  {u'payment_verified': False, u'identity_verifi...   \n",
       "1  {u'payment_verified': False, u'identity_verifi...   \n",
       "2  {u'payment_verified': False, u'identity_verifi...   \n",
       "\n",
       "                                            timezone  \n",
       "0  {u'country': u'SG', u'offset': 8, u'id': 210, ...  \n",
       "1  {u'country': u'UK', u'offset': 1, u'id': 262, ...  \n",
       "2  {u'country': u'MG', u'offset': 3, u'id': 295, ...  "
      ]
     },
     "execution_count": 2,
     "metadata": {},
     "output_type": "execute_result"
    }
   ],
   "source": [
    "df.head(3)"
   ]
  },
  {
   "cell_type": "markdown",
   "metadata": {},
   "source": [
    "#### e.g. we want to extract the location field and convert into a dataframe \n",
    "\n",
    "select location"
   ]
  },
  {
   "cell_type": "code",
   "execution_count": 3,
   "metadata": {},
   "outputs": [
    {
     "data": {
      "text/plain": [
       "0    {u'administrative_area': None, u'city': u'Sing...\n",
       "1    {u'administrative_area': None, u'city': u'Bris...\n",
       "2    {u'administrative_area': None, u'city': u'Ambo...\n",
       "3    {u'administrative_area': None, u'city': u'Drob...\n",
       "4    {u'administrative_area': None, u'city': u'Torr...\n",
       "Name: location, dtype: object"
      ]
     },
     "execution_count": 3,
     "metadata": {},
     "output_type": "execute_result"
    }
   ],
   "source": [
    "df['location'].head()"
   ]
  },
  {
   "cell_type": "markdown",
   "metadata": {},
   "source": [
    "view first row"
   ]
  },
  {
   "cell_type": "code",
   "execution_count": 4,
   "metadata": {},
   "outputs": [
    {
     "name": "stdout",
     "output_type": "stream",
     "text": [
      "<type 'str'>\n"
     ]
    }
   ],
   "source": [
    "first_row = df['location'].head()[0]\n",
    "print type(first_row)"
   ]
  },
  {
   "cell_type": "code",
   "execution_count": 5,
   "metadata": {},
   "outputs": [
    {
     "data": {
      "text/plain": [
       "\"{u'administrative_area': None, u'city': u'Singapore', u'country': {u'highres_flag_url': u'/img/flags/highres_png/singapore.png', u'code': u'sg', u'name': u'Singapore', u'seo_url': None, u'flag_url_cdn': u'//cdn2.f-cdn.com/img/flags/png/sg.png', u'highres_flag_url_cdn': u'//cdn6.f-cdn.com/img/flags/highres_png/singapore.png', u'phone_code': None, u'language_code': None, u'demonym': None, u'language_id': None, u'person': None, u'iso3': None, u'sanction': None, u'flag_url': u'/img/flags/png/sg.png', u'flag_class': u'singapore', u'region_id': None}, u'vicinity': None, u'longitude': None, u'full_address': None, u'latitude': None}\""
      ]
     },
     "execution_count": 5,
     "metadata": {},
     "output_type": "execute_result"
    }
   ],
   "source": [
    "first_row"
   ]
  },
  {
   "cell_type": "markdown",
   "metadata": {},
   "source": [
    "convert the string representation into a python dictionary\n",
    "\n",
    "as you can see the json data has inner loop"
   ]
  },
  {
   "cell_type": "code",
   "execution_count": 6,
   "metadata": {},
   "outputs": [
    {
     "data": {
      "text/plain": [
       "{u'administrative_area': None,\n",
       " u'city': u'Singapore',\n",
       " u'country': {u'code': u'sg',\n",
       "  u'demonym': None,\n",
       "  u'flag_class': u'singapore',\n",
       "  u'flag_url': u'/img/flags/png/sg.png',\n",
       "  u'flag_url_cdn': u'//cdn2.f-cdn.com/img/flags/png/sg.png',\n",
       "  u'highres_flag_url': u'/img/flags/highres_png/singapore.png',\n",
       "  u'highres_flag_url_cdn': u'//cdn6.f-cdn.com/img/flags/highres_png/singapore.png',\n",
       "  u'iso3': None,\n",
       "  u'language_code': None,\n",
       "  u'language_id': None,\n",
       "  u'name': u'Singapore',\n",
       "  u'person': None,\n",
       "  u'phone_code': None,\n",
       "  u'region_id': None,\n",
       "  u'sanction': None,\n",
       "  u'seo_url': None},\n",
       " u'full_address': None,\n",
       " u'latitude': None,\n",
       " u'longitude': None,\n",
       " u'vicinity': None}"
      ]
     },
     "execution_count": 6,
     "metadata": {},
     "output_type": "execute_result"
    }
   ],
   "source": [
    "import ast\n",
    "ast.literal_eval(first_row)"
   ]
  },
  {
   "cell_type": "markdown",
   "metadata": {},
   "source": [
    "### user json2df to convert the entire location field (Series) into a DataFrame"
   ]
  },
  {
   "cell_type": "code",
   "execution_count": 7,
   "metadata": {},
   "outputs": [
    {
     "name": "stdout",
     "output_type": "stream",
     "text": [
      "(100, 22)\n"
     ]
    },
    {
     "data": {
      "text/html": [
       "<div>\n",
       "<style scoped>\n",
       "    .dataframe tbody tr th:only-of-type {\n",
       "        vertical-align: middle;\n",
       "    }\n",
       "\n",
       "    .dataframe tbody tr th {\n",
       "        vertical-align: top;\n",
       "    }\n",
       "\n",
       "    .dataframe thead th {\n",
       "        text-align: right;\n",
       "    }\n",
       "</style>\n",
       "<table border=\"1\" class=\"dataframe\">\n",
       "  <thead>\n",
       "    <tr style=\"text-align: right;\">\n",
       "      <th></th>\n",
       "      <th>administrative_area</th>\n",
       "      <th>city</th>\n",
       "      <th>country_code</th>\n",
       "      <th>country_demonym</th>\n",
       "      <th>country_flag_class</th>\n",
       "      <th>country_flag_url</th>\n",
       "      <th>country_flag_url_cdn</th>\n",
       "      <th>country_highres_flag_url</th>\n",
       "      <th>country_highres_flag_url_cdn</th>\n",
       "      <th>country_iso3</th>\n",
       "      <th>...</th>\n",
       "      <th>country_name</th>\n",
       "      <th>country_person</th>\n",
       "      <th>country_phone_code</th>\n",
       "      <th>country_region_id</th>\n",
       "      <th>country_sanction</th>\n",
       "      <th>country_seo_url</th>\n",
       "      <th>full_address</th>\n",
       "      <th>latitude</th>\n",
       "      <th>longitude</th>\n",
       "      <th>vicinity</th>\n",
       "    </tr>\n",
       "  </thead>\n",
       "  <tbody>\n",
       "    <tr>\n",
       "      <th>0</th>\n",
       "      <td>None</td>\n",
       "      <td>Singapore</td>\n",
       "      <td>sg</td>\n",
       "      <td>None</td>\n",
       "      <td>singapore</td>\n",
       "      <td>/img/flags/png/sg.png</td>\n",
       "      <td>//cdn2.f-cdn.com/img/flags/png/sg.png</td>\n",
       "      <td>/img/flags/highres_png/singapore.png</td>\n",
       "      <td>//cdn6.f-cdn.com/img/flags/highres_png/singapo...</td>\n",
       "      <td>None</td>\n",
       "      <td>...</td>\n",
       "      <td>Singapore</td>\n",
       "      <td>None</td>\n",
       "      <td>None</td>\n",
       "      <td>None</td>\n",
       "      <td>None</td>\n",
       "      <td>None</td>\n",
       "      <td>None</td>\n",
       "      <td>None</td>\n",
       "      <td>None</td>\n",
       "      <td>None</td>\n",
       "    </tr>\n",
       "    <tr>\n",
       "      <th>1</th>\n",
       "      <td>None</td>\n",
       "      <td>Bristol</td>\n",
       "      <td>gb</td>\n",
       "      <td>None</td>\n",
       "      <td>united-kingdom</td>\n",
       "      <td>/img/flags/png/gb.png</td>\n",
       "      <td>//cdn6.f-cdn.com/img/flags/png/gb.png</td>\n",
       "      <td>/img/flags/highres_png/united-kingdom.png</td>\n",
       "      <td>//cdn5.f-cdn.com/img/flags/highres_png/united-...</td>\n",
       "      <td>None</td>\n",
       "      <td>...</td>\n",
       "      <td>United Kingdom</td>\n",
       "      <td>None</td>\n",
       "      <td>None</td>\n",
       "      <td>None</td>\n",
       "      <td>None</td>\n",
       "      <td>None</td>\n",
       "      <td>None</td>\n",
       "      <td>None</td>\n",
       "      <td>None</td>\n",
       "      <td>None</td>\n",
       "    </tr>\n",
       "    <tr>\n",
       "      <th>2</th>\n",
       "      <td>None</td>\n",
       "      <td>Ambohidratrimo</td>\n",
       "      <td>mg</td>\n",
       "      <td>None</td>\n",
       "      <td>madagascar</td>\n",
       "      <td>/img/flags/png/mg.png</td>\n",
       "      <td>//cdn3.f-cdn.com/img/flags/png/mg.png</td>\n",
       "      <td>/img/flags/highres_png/madagascar.png</td>\n",
       "      <td>//cdn3.f-cdn.com/img/flags/highres_png/madagas...</td>\n",
       "      <td>None</td>\n",
       "      <td>...</td>\n",
       "      <td>Madagascar</td>\n",
       "      <td>None</td>\n",
       "      <td>None</td>\n",
       "      <td>None</td>\n",
       "      <td>None</td>\n",
       "      <td>None</td>\n",
       "      <td>None</td>\n",
       "      <td>None</td>\n",
       "      <td>None</td>\n",
       "      <td>None</td>\n",
       "    </tr>\n",
       "    <tr>\n",
       "      <th>3</th>\n",
       "      <td>None</td>\n",
       "      <td>Drobak</td>\n",
       "      <td>no</td>\n",
       "      <td>None</td>\n",
       "      <td>norway</td>\n",
       "      <td>/img/flags/png/no.png</td>\n",
       "      <td>//cdn2.f-cdn.com/img/flags/png/no.png</td>\n",
       "      <td>/img/flags/highres_png/norway.png</td>\n",
       "      <td>//cdn3.f-cdn.com/img/flags/highres_png/norway.png</td>\n",
       "      <td>None</td>\n",
       "      <td>...</td>\n",
       "      <td>Norway</td>\n",
       "      <td>None</td>\n",
       "      <td>None</td>\n",
       "      <td>None</td>\n",
       "      <td>None</td>\n",
       "      <td>None</td>\n",
       "      <td>None</td>\n",
       "      <td>None</td>\n",
       "      <td>None</td>\n",
       "      <td>None</td>\n",
       "    </tr>\n",
       "    <tr>\n",
       "      <th>4</th>\n",
       "      <td>None</td>\n",
       "      <td>Torronto</td>\n",
       "      <td>ca</td>\n",
       "      <td>None</td>\n",
       "      <td>canada</td>\n",
       "      <td>/img/flags/png/ca.png</td>\n",
       "      <td>//cdn6.f-cdn.com/img/flags/png/ca.png</td>\n",
       "      <td>/img/flags/highres_png/canada.png</td>\n",
       "      <td>//cdn6.f-cdn.com/img/flags/highres_png/canada.png</td>\n",
       "      <td>None</td>\n",
       "      <td>...</td>\n",
       "      <td>Canada</td>\n",
       "      <td>None</td>\n",
       "      <td>None</td>\n",
       "      <td>None</td>\n",
       "      <td>None</td>\n",
       "      <td>None</td>\n",
       "      <td>None</td>\n",
       "      <td>None</td>\n",
       "      <td>None</td>\n",
       "      <td>None</td>\n",
       "    </tr>\n",
       "  </tbody>\n",
       "</table>\n",
       "<p>5 rows × 22 columns</p>\n",
       "</div>"
      ],
      "text/plain": [
       "  administrative_area            city country_code country_demonym  \\\n",
       "0                None       Singapore           sg            None   \n",
       "1                None         Bristol           gb            None   \n",
       "2                None  Ambohidratrimo           mg            None   \n",
       "3                None          Drobak           no            None   \n",
       "4                None        Torronto           ca            None   \n",
       "\n",
       "  country_flag_class       country_flag_url  \\\n",
       "0          singapore  /img/flags/png/sg.png   \n",
       "1     united-kingdom  /img/flags/png/gb.png   \n",
       "2         madagascar  /img/flags/png/mg.png   \n",
       "3             norway  /img/flags/png/no.png   \n",
       "4             canada  /img/flags/png/ca.png   \n",
       "\n",
       "                    country_flag_url_cdn  \\\n",
       "0  //cdn2.f-cdn.com/img/flags/png/sg.png   \n",
       "1  //cdn6.f-cdn.com/img/flags/png/gb.png   \n",
       "2  //cdn3.f-cdn.com/img/flags/png/mg.png   \n",
       "3  //cdn2.f-cdn.com/img/flags/png/no.png   \n",
       "4  //cdn6.f-cdn.com/img/flags/png/ca.png   \n",
       "\n",
       "                    country_highres_flag_url  \\\n",
       "0       /img/flags/highres_png/singapore.png   \n",
       "1  /img/flags/highres_png/united-kingdom.png   \n",
       "2      /img/flags/highres_png/madagascar.png   \n",
       "3          /img/flags/highres_png/norway.png   \n",
       "4          /img/flags/highres_png/canada.png   \n",
       "\n",
       "                        country_highres_flag_url_cdn country_iso3   ...     \\\n",
       "0  //cdn6.f-cdn.com/img/flags/highres_png/singapo...         None   ...      \n",
       "1  //cdn5.f-cdn.com/img/flags/highres_png/united-...         None   ...      \n",
       "2  //cdn3.f-cdn.com/img/flags/highres_png/madagas...         None   ...      \n",
       "3  //cdn3.f-cdn.com/img/flags/highres_png/norway.png         None   ...      \n",
       "4  //cdn6.f-cdn.com/img/flags/highres_png/canada.png         None   ...      \n",
       "\n",
       "     country_name country_person country_phone_code country_region_id  \\\n",
       "0       Singapore           None               None              None   \n",
       "1  United Kingdom           None               None              None   \n",
       "2      Madagascar           None               None              None   \n",
       "3          Norway           None               None              None   \n",
       "4          Canada           None               None              None   \n",
       "\n",
       "  country_sanction country_seo_url full_address latitude longitude vicinity  \n",
       "0             None            None         None     None      None     None  \n",
       "1             None            None         None     None      None     None  \n",
       "2             None            None         None     None      None     None  \n",
       "3             None            None         None     None      None     None  \n",
       "4             None            None         None     None      None     None  \n",
       "\n",
       "[5 rows x 22 columns]"
      ]
     },
     "execution_count": 7,
     "metadata": {},
     "output_type": "execute_result"
    }
   ],
   "source": [
    "from json2df import series2df\n",
    "\n",
    "extract_df = series2df(df['location'])\n",
    "\n",
    "\n",
    "print (extract_df.shape)\n",
    "extract_df.head(5)"
   ]
  },
  {
   "cell_type": "code",
   "execution_count": null,
   "metadata": {
    "collapsed": true
   },
   "outputs": [],
   "source": []
  }
 ],
 "metadata": {
  "kernelspec": {
   "display_name": "Python 2",
   "language": "python",
   "name": "python2"
  },
  "language_info": {
   "codemirror_mode": {
    "name": "ipython",
    "version": 2
   },
   "file_extension": ".py",
   "mimetype": "text/x-python",
   "name": "python",
   "nbconvert_exporter": "python",
   "pygments_lexer": "ipython2",
   "version": "2.7.13"
  }
 },
 "nbformat": 4,
 "nbformat_minor": 2
}
