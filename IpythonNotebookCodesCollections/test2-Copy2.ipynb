{
 "cells": [
  {
   "cell_type": "code",
   "execution_count": 6,
   "metadata": {
    "collapsed": true
   },
   "outputs": [],
   "source": [
    "import requests\n",
    "from scrapy.http import TextResponse, HtmlResponse\n",
    "\n",
    "r = requests.get('http://www.soyoung.com/p3020002')\n",
    "a = HtmlResponse(r.url, body=r.text, encoding='utf-8')"
   ]
  },
  {
   "cell_type": "code",
   "execution_count": 7,
   "metadata": {
    "collapsed": true
   },
   "outputs": [],
   "source": [
    "b = a.xpath('//*[@id=\"bd\"]/div[3]/ul/li[1]/div[2]/div[2]//*[@title]/@src')"
   ]
  },
  {
   "cell_type": "code",
   "execution_count": 8,
   "metadata": {},
   "outputs": [
    {
     "name": "stdout",
     "output_type": "stream",
     "text": [
      "['__add__', '__class__', '__contains__', '__delattr__', '__delitem__', '__delslice__', '__dict__', '__doc__', '__eq__', '__format__', '__ge__', '__getattribute__', '__getitem__', '__getslice__', '__gt__', '__hash__', '__iadd__', '__imul__', '__init__', '__iter__', '__le__', '__len__', '__lt__', '__module__', '__mul__', '__ne__', '__new__', '__reduce__', '__reduce_ex__', '__repr__', '__reversed__', '__rmul__', '__setattr__', '__setitem__', '__setslice__', '__sizeof__', '__slots__', '__str__', '__subclasshook__', '__weakref__', 'append', 'count', 'css', 'extend', 'extract', 'extract_first', 'extract_unquoted', 'get', 'getall', 'index', 'insert', 'pop', 're', 're_first', 'remove', 'reverse', 'select', 'sort', 'x', 'xpath']\n"
     ]
    }
   ],
   "source": [
    "print dir(b)"
   ]
  },
  {
   "cell_type": "code",
   "execution_count": 9,
   "metadata": {},
   "outputs": [
    {
     "name": "stdout",
     "output_type": "stream",
     "text": [
      "47\n"
     ]
    }
   ],
   "source": [
    "print len(b.extract())"
   ]
  },
  {
   "cell_type": "code",
   "execution_count": 10,
   "metadata": {},
   "outputs": [
    {
     "data": {
      "text/plain": [
       "[u'http://img2.soyoung.com/tieba/web/20150802/6/20150802154251936_570.jpg',\n",
       " u'http://img2.soyoung.com/tieba/web/20150802/2/20150802154306545_570.jpg',\n",
       " u'http://img2.soyoung.com/tieba/web/20150802/5/20150802155006889_570.jpg',\n",
       " u'http://img2.soyoung.com/tieba/web/20150802/6/20150802154914356_570.jpg',\n",
       " u'http://img2.soyoung.com/tieba/web/20150802/1/20150802155030842_570.jpg',\n",
       " u'http://img2.soyoung.com/tieba/web/20150802/5/20150802155044373_570.jpg',\n",
       " u'http://img2.soyoung.com/tieba/web/20150802/8/20150802155240923_570.jpg',\n",
       " u'http://img2.soyoung.com/tieba/web/20150802/6/20150802155736734_570.jpg',\n",
       " u'http://img2.soyoung.com/tieba/web/20150802/8/20150802155749894_570.jpg',\n",
       " u'http://img2.soyoung.com/tieba/web/20150802/4/20150802155805714_570.jpg',\n",
       " u'http://img2.soyoung.com/tieba/web/20150802/8/20150802155819333_570.jpg',\n",
       " u'http://img2.soyoung.com/tieba/web/20150802/0/20150802155839312_570.jpg',\n",
       " u'http://img2.soyoung.com/tieba/web/20150802/3/20150802155857833_570.jpg',\n",
       " u'http://img2.soyoung.com/tieba/web/20150802/2/20150802160033121_570.jpg',\n",
       " u'http://img2.soyoung.com/tieba/web/20150802/9/20150802161546338_570.jpg',\n",
       " u'http://img2.soyoung.com/tieba/web/20150802/8/20150802161615597_570.jpg',\n",
       " u'http://img2.soyoung.com/tieba/web/20150802/8/20150802161626592_570.jpg',\n",
       " u'http://img2.soyoung.com/tieba/web/20150802/7/20150802161738332_570.jpg',\n",
       " u'http://img2.soyoung.com/tieba/web/20150802/1/20150802161808165_570.jpg',\n",
       " u'http://img2.soyoung.com/tieba/web/20150802/1/20150802161826603_570.jpg',\n",
       " u'http://img2.soyoung.com/tieba/web/20150802/1/20150802163734607_570.jpg',\n",
       " u'http://img2.soyoung.com/tieba/web/20150802/9/20150802163813696_570.jpg',\n",
       " u'http://img2.soyoung.com/tieba/web/20150802/7/20150802163844315_570.jpg',\n",
       " u'http://img2.soyoung.com/tieba/web/20150802/0/20150802163855750_570.jpg',\n",
       " u'http://img2.soyoung.com/tieba/web/20150802/3/20150802164051630_570.jpg',\n",
       " u'http://img2.soyoung.com/tieba/web/20150802/3/20150802164102937_570.jpg',\n",
       " u'http://img2.soyoung.com/tieba/web/20150802/8/20150802164130903_570.jpg',\n",
       " u'http://img2.soyoung.com/tieba/web/20150802/2/20150802164218631_570.jpg',\n",
       " u'http://img2.soyoung.com/tieba/web/20150802/2/20150802164231968_570.jpg',\n",
       " u'http://img2.soyoung.com/tieba/web/20150802/0/20150802164250540_570.jpg',\n",
       " u'http://img2.soyoung.com/tieba/web/20150802/7/20150802164304776_570.jpg',\n",
       " u'http://img2.soyoung.com/tieba/web/20150802/9/20150802164318532_570.jpg',\n",
       " u'http://img2.soyoung.com/tieba/web/20150802/5/20150802164350575_570.jpg',\n",
       " u'http://img2.soyoung.com/tieba/web/20150802/8/20150802164419926_570.jpg',\n",
       " u'http://img2.soyoung.com/tieba/web/20150802/3/20150802164606241_570.jpg',\n",
       " u'http://img2.soyoung.com/tieba/web/20150802/6/20150802164637255_570.jpg',\n",
       " u'http://img2.soyoung.com/tieba/web/20150802/9/20150802164755698_570.jpg',\n",
       " u'http://img2.soyoung.com/tieba/web/20150802/0/20150802164926231_570.jpg',\n",
       " u'http://img2.soyoung.com/tieba/web/20150802/8/20150802165039256_570.jpg',\n",
       " u'http://img2.soyoung.com/tieba/web/20150802/4/20150802165420409_570.jpg',\n",
       " u'http://img2.soyoung.com/tieba/web/20150802/5/20150802165726231_570.jpg',\n",
       " u'http://img2.soyoung.com/tieba/web/20150802/1/20150802165739440_570.jpg',\n",
       " u'http://img2.soyoung.com/tieba/web/20150802/7/20150802170016451_570.jpg',\n",
       " u'http://img2.soyoung.com/tieba/web/20150802/3/20150802170307812_570.jpg',\n",
       " u'http://img2.soyoung.com/tieba/web/20150802/1/20150802170503592_570.jpg',\n",
       " u'http://img2.soyoung.com/tieba/web/20150802/2/20150802170516146_570.jpg',\n",
       " u'http://img2.soyoung.com/tieba/web/20150802/8/20150802170539102_570.jpg']"
      ]
     },
     "execution_count": 10,
     "metadata": {},
     "output_type": "execute_result"
    }
   ],
   "source": [
    "b.extract()"
   ]
  },
  {
   "cell_type": "code",
   "execution_count": null,
   "metadata": {
    "collapsed": true
   },
   "outputs": [],
   "source": []
  }
 ],
 "metadata": {
  "kernelspec": {
   "display_name": "Python 2",
   "language": "python",
   "name": "python2"
  },
  "language_info": {
   "codemirror_mode": {
    "name": "ipython",
    "version": 2
   },
   "file_extension": ".py",
   "mimetype": "text/x-python",
   "name": "python",
   "nbconvert_exporter": "python",
   "pygments_lexer": "ipython2",
   "version": "2.7.13"
  }
 },
 "nbformat": 4,
 "nbformat_minor": 2
}
