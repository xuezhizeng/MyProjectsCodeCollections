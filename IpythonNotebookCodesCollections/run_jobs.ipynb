{
 "cells": [
  {
   "cell_type": "code",
   "execution_count": 1,
   "metadata": {
    "collapsed": true
   },
   "outputs": [],
   "source": [
    "import os\n",
    "from time import ctime\n",
    "os.chdir('/home/shj16110/weekly/')"
   ]
  },
  {
   "cell_type": "code",
   "execution_count": 2,
   "metadata": {},
   "outputs": [
    {
     "data": {
      "text/plain": [
       "'Sun Dec 17 12:12:16 2017'"
      ]
     },
     "execution_count": 2,
     "metadata": {},
     "output_type": "execute_result"
    }
   ],
   "source": [
    "ctime()"
   ]
  },
  {
   "cell_type": "code",
   "execution_count": null,
   "metadata": {},
   "outputs": [
    {
     "name": "stdout",
     "output_type": "stream",
     "text": [
      "3\n",
      "fail not exists\n",
      "196214 (196214, 2)\n",
      "196214\n",
      "Sun Dec 17 12:12:39 2017 of  2 failed 0\n",
      "Sun Dec 17 12:13:35 2017 of  5000 failed 0\n",
      "Sun Dec 17 12:14:26 2017 of  10000 failed 0\n",
      "Sun Dec 17 12:15:18 2017 of  15000 failed 0\n",
      "Sun Dec 17 12:16:10 2017 of  20000 failed 0\n",
      "Sun Dec 17 12:17:01 2017 of  25000 failed 0\n",
      "Sun Dec 17 12:17:57 2017 of  30000 failed 0\n",
      "Sun Dec 17 12:18:49 2017 of  35000 failed 0\n",
      "Sun Dec 17 12:19:44 2017 of  40000 failed 0\n"
     ]
    }
   ],
   "source": [
    "!python Cookie_Dn_Final.py && python Parse_single_final.py && python clean.py"
   ]
  },
  {
   "cell_type": "code",
   "execution_count": null,
   "metadata": {
    "collapsed": true
   },
   "outputs": [],
   "source": []
  }
 ],
 "metadata": {
  "kernelspec": {
   "display_name": "Python 2",
   "language": "python",
   "name": "python2"
  },
  "language_info": {
   "codemirror_mode": {
    "name": "ipython",
    "version": 2
   },
   "file_extension": ".py",
   "mimetype": "text/x-python",
   "name": "python",
   "nbconvert_exporter": "python",
   "pygments_lexer": "ipython2",
   "version": "2.7.13"
  }
 },
 "nbformat": 4,
 "nbformat_minor": 2
}
