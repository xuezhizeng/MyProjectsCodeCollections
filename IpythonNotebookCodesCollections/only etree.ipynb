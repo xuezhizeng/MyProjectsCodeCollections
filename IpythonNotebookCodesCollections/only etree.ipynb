{
 "cells": [
  {
   "cell_type": "code",
   "execution_count": 1,
   "metadata": {
    "collapsed": true
   },
   "outputs": [],
   "source": [
    "import requests\n",
    "from lxml import etree\n",
    "# from scrapy.http import TextResponse, HtmlResponse\n",
    "\n"
   ]
  },
  {
   "cell_type": "code",
   "execution_count": 2,
   "metadata": {},
   "outputs": [
    {
     "name": "stdout",
     "output_type": "stream",
     "text": [
      "CPU times: user 16 ms, sys: 0 ns, total: 16 ms\n",
      "Wall time: 3.38 s\n"
     ]
    }
   ],
   "source": [
    "%%time\n",
    "r = requests.get('http://www.soyoung.com/p3020002')\n",
    "# a = HtmlResponse(r.url, body=r.text, encoding='utf-8')"
   ]
  },
  {
   "cell_type": "code",
   "execution_count": 3,
   "metadata": {},
   "outputs": [
    {
     "name": "stdout",
     "output_type": "stream",
     "text": [
      "CPU times: user 12 ms, sys: 0 ns, total: 12 ms\n",
      "Wall time: 12.5 ms\n"
     ]
    }
   ],
   "source": [
    "%%time\n",
    "b = etree.HTML(r.text)"
   ]
  },
  {
   "cell_type": "code",
   "execution_count": 54,
   "metadata": {},
   "outputs": [
    {
     "name": "stdout",
     "output_type": "stream",
     "text": [
      "The slowest run took 5.30 times longer than the fastest. This could mean that an intermediate result is being cached.\n",
      "1000 loops, best of 3: 1.49 ms per loop\n"
     ]
    }
   ],
   "source": [
    "%%timeit\n",
    "c = b.xpath('//*[@id=\"bd\"]/div[3]/ul/li[1]/div[2]/div[2]//*[@title]/@src')"
   ]
  },
  {
   "cell_type": "code",
   "execution_count": 55,
   "metadata": {},
   "outputs": [
    {
     "name": "stdout",
     "output_type": "stream",
     "text": [
      "1000 loops, best of 3: 684 µs per loop\n"
     ]
    }
   ],
   "source": [
    "%%timeit\n",
    "d = b.xpath('//div[@class=\"c\"]//*[@title]/@src')"
   ]
  },
  {
   "cell_type": "code",
   "execution_count": 56,
   "metadata": {},
   "outputs": [
    {
     "data": {
      "text/plain": [
       "47"
      ]
     },
     "execution_count": 56,
     "metadata": {},
     "output_type": "execute_result"
    }
   ],
   "source": [
    "len(d)"
   ]
  },
  {
   "cell_type": "code",
   "execution_count": 45,
   "metadata": {},
   "outputs": [
    {
     "data": {
      "text/plain": [
       "['http://img2.soyoung.com/tieba/web/20150802/6/20150802154251936_570.jpg',\n",
       " 'http://img2.soyoung.com/tieba/web/20150802/2/20150802154306545_570.jpg',\n",
       " 'http://img2.soyoung.com/tieba/web/20150802/5/20150802155006889_570.jpg',\n",
       " 'http://img2.soyoung.com/tieba/web/20150802/6/20150802154914356_570.jpg',\n",
       " 'http://img2.soyoung.com/tieba/web/20150802/1/20150802155030842_570.jpg',\n",
       " 'http://img2.soyoung.com/tieba/web/20150802/5/20150802155044373_570.jpg',\n",
       " 'http://img2.soyoung.com/tieba/web/20150802/8/20150802155240923_570.jpg',\n",
       " 'http://img2.soyoung.com/tieba/web/20150802/6/20150802155736734_570.jpg',\n",
       " 'http://img2.soyoung.com/tieba/web/20150802/8/20150802155749894_570.jpg',\n",
       " 'http://img2.soyoung.com/tieba/web/20150802/4/20150802155805714_570.jpg',\n",
       " 'http://img2.soyoung.com/tieba/web/20150802/8/20150802155819333_570.jpg',\n",
       " 'http://img2.soyoung.com/tieba/web/20150802/0/20150802155839312_570.jpg',\n",
       " 'http://img2.soyoung.com/tieba/web/20150802/3/20150802155857833_570.jpg',\n",
       " 'http://img2.soyoung.com/tieba/web/20150802/2/20150802160033121_570.jpg',\n",
       " 'http://img2.soyoung.com/tieba/web/20150802/9/20150802161546338_570.jpg',\n",
       " 'http://img2.soyoung.com/tieba/web/20150802/8/20150802161615597_570.jpg',\n",
       " 'http://img2.soyoung.com/tieba/web/20150802/8/20150802161626592_570.jpg',\n",
       " 'http://img2.soyoung.com/tieba/web/20150802/7/20150802161738332_570.jpg',\n",
       " 'http://img2.soyoung.com/tieba/web/20150802/1/20150802161808165_570.jpg',\n",
       " 'http://img2.soyoung.com/tieba/web/20150802/1/20150802161826603_570.jpg',\n",
       " 'http://img2.soyoung.com/tieba/web/20150802/1/20150802163734607_570.jpg',\n",
       " 'http://img2.soyoung.com/tieba/web/20150802/9/20150802163813696_570.jpg',\n",
       " 'http://img2.soyoung.com/tieba/web/20150802/7/20150802163844315_570.jpg',\n",
       " 'http://img2.soyoung.com/tieba/web/20150802/0/20150802163855750_570.jpg',\n",
       " 'http://img2.soyoung.com/tieba/web/20150802/3/20150802164051630_570.jpg',\n",
       " 'http://img2.soyoung.com/tieba/web/20150802/3/20150802164102937_570.jpg',\n",
       " 'http://img2.soyoung.com/tieba/web/20150802/8/20150802164130903_570.jpg',\n",
       " 'http://img2.soyoung.com/tieba/web/20150802/2/20150802164218631_570.jpg',\n",
       " 'http://img2.soyoung.com/tieba/web/20150802/2/20150802164231968_570.jpg',\n",
       " 'http://img2.soyoung.com/tieba/web/20150802/0/20150802164250540_570.jpg',\n",
       " 'http://img2.soyoung.com/tieba/web/20150802/7/20150802164304776_570.jpg',\n",
       " 'http://img2.soyoung.com/tieba/web/20150802/9/20150802164318532_570.jpg',\n",
       " 'http://img2.soyoung.com/tieba/web/20150802/5/20150802164350575_570.jpg',\n",
       " 'http://img2.soyoung.com/tieba/web/20150802/8/20150802164419926_570.jpg',\n",
       " 'http://img2.soyoung.com/tieba/web/20150802/3/20150802164606241_570.jpg',\n",
       " 'http://img2.soyoung.com/tieba/web/20150802/6/20150802164637255_570.jpg',\n",
       " 'http://img2.soyoung.com/tieba/web/20150802/9/20150802164755698_570.jpg',\n",
       " 'http://img2.soyoung.com/tieba/web/20150802/0/20150802164926231_570.jpg',\n",
       " 'http://img2.soyoung.com/tieba/web/20150802/8/20150802165039256_570.jpg',\n",
       " 'http://img2.soyoung.com/tieba/web/20150802/4/20150802165420409_570.jpg',\n",
       " 'http://img2.soyoung.com/tieba/web/20150802/5/20150802165726231_570.jpg',\n",
       " 'http://img2.soyoung.com/tieba/web/20150802/1/20150802165739440_570.jpg',\n",
       " 'http://img2.soyoung.com/tieba/web/20150802/7/20150802170016451_570.jpg',\n",
       " 'http://img2.soyoung.com/tieba/web/20150802/3/20150802170307812_570.jpg',\n",
       " 'http://img2.soyoung.com/tieba/web/20150802/1/20150802170503592_570.jpg',\n",
       " 'http://img2.soyoung.com/tieba/web/20150802/2/20150802170516146_570.jpg',\n",
       " 'http://img2.soyoung.com/tieba/web/20150802/8/20150802170539102_570.jpg']"
      ]
     },
     "execution_count": 45,
     "metadata": {},
     "output_type": "execute_result"
    }
   ],
   "source": [
    "d"
   ]
  },
  {
   "cell_type": "code",
   "execution_count": 32,
   "metadata": {},
   "outputs": [
    {
     "data": {
      "text/plain": [
       "<Element div at 0x7fc37bfebea8>"
      ]
     },
     "execution_count": 32,
     "metadata": {},
     "output_type": "execute_result"
    }
   ],
   "source": [
    "d[0]"
   ]
  },
  {
   "cell_type": "code",
   "execution_count": 5,
   "metadata": {},
   "outputs": [
    {
     "name": "stdout",
     "output_type": "stream",
     "text": [
      "47\n"
     ]
    }
   ],
   "source": [
    "print len(c)"
   ]
  },
  {
   "cell_type": "code",
   "execution_count": 6,
   "metadata": {},
   "outputs": [
    {
     "data": {
      "text/plain": [
       "['http://img2.soyoung.com/tieba/web/20150802/6/20150802154251936_570.jpg',\n",
       " 'http://img2.soyoung.com/tieba/web/20150802/2/20150802154306545_570.jpg',\n",
       " 'http://img2.soyoung.com/tieba/web/20150802/5/20150802155006889_570.jpg',\n",
       " 'http://img2.soyoung.com/tieba/web/20150802/6/20150802154914356_570.jpg',\n",
       " 'http://img2.soyoung.com/tieba/web/20150802/1/20150802155030842_570.jpg',\n",
       " 'http://img2.soyoung.com/tieba/web/20150802/5/20150802155044373_570.jpg',\n",
       " 'http://img2.soyoung.com/tieba/web/20150802/8/20150802155240923_570.jpg',\n",
       " 'http://img2.soyoung.com/tieba/web/20150802/6/20150802155736734_570.jpg',\n",
       " 'http://img2.soyoung.com/tieba/web/20150802/8/20150802155749894_570.jpg',\n",
       " 'http://img2.soyoung.com/tieba/web/20150802/4/20150802155805714_570.jpg',\n",
       " 'http://img2.soyoung.com/tieba/web/20150802/8/20150802155819333_570.jpg',\n",
       " 'http://img2.soyoung.com/tieba/web/20150802/0/20150802155839312_570.jpg',\n",
       " 'http://img2.soyoung.com/tieba/web/20150802/3/20150802155857833_570.jpg',\n",
       " 'http://img2.soyoung.com/tieba/web/20150802/2/20150802160033121_570.jpg',\n",
       " 'http://img2.soyoung.com/tieba/web/20150802/9/20150802161546338_570.jpg',\n",
       " 'http://img2.soyoung.com/tieba/web/20150802/8/20150802161615597_570.jpg',\n",
       " 'http://img2.soyoung.com/tieba/web/20150802/8/20150802161626592_570.jpg',\n",
       " 'http://img2.soyoung.com/tieba/web/20150802/7/20150802161738332_570.jpg',\n",
       " 'http://img2.soyoung.com/tieba/web/20150802/1/20150802161808165_570.jpg',\n",
       " 'http://img2.soyoung.com/tieba/web/20150802/1/20150802161826603_570.jpg',\n",
       " 'http://img2.soyoung.com/tieba/web/20150802/1/20150802163734607_570.jpg',\n",
       " 'http://img2.soyoung.com/tieba/web/20150802/9/20150802163813696_570.jpg',\n",
       " 'http://img2.soyoung.com/tieba/web/20150802/7/20150802163844315_570.jpg',\n",
       " 'http://img2.soyoung.com/tieba/web/20150802/0/20150802163855750_570.jpg',\n",
       " 'http://img2.soyoung.com/tieba/web/20150802/3/20150802164051630_570.jpg',\n",
       " 'http://img2.soyoung.com/tieba/web/20150802/3/20150802164102937_570.jpg',\n",
       " 'http://img2.soyoung.com/tieba/web/20150802/8/20150802164130903_570.jpg',\n",
       " 'http://img2.soyoung.com/tieba/web/20150802/2/20150802164218631_570.jpg',\n",
       " 'http://img2.soyoung.com/tieba/web/20150802/2/20150802164231968_570.jpg',\n",
       " 'http://img2.soyoung.com/tieba/web/20150802/0/20150802164250540_570.jpg',\n",
       " 'http://img2.soyoung.com/tieba/web/20150802/7/20150802164304776_570.jpg',\n",
       " 'http://img2.soyoung.com/tieba/web/20150802/9/20150802164318532_570.jpg',\n",
       " 'http://img2.soyoung.com/tieba/web/20150802/5/20150802164350575_570.jpg',\n",
       " 'http://img2.soyoung.com/tieba/web/20150802/8/20150802164419926_570.jpg',\n",
       " 'http://img2.soyoung.com/tieba/web/20150802/3/20150802164606241_570.jpg',\n",
       " 'http://img2.soyoung.com/tieba/web/20150802/6/20150802164637255_570.jpg',\n",
       " 'http://img2.soyoung.com/tieba/web/20150802/9/20150802164755698_570.jpg',\n",
       " 'http://img2.soyoung.com/tieba/web/20150802/0/20150802164926231_570.jpg',\n",
       " 'http://img2.soyoung.com/tieba/web/20150802/8/20150802165039256_570.jpg',\n",
       " 'http://img2.soyoung.com/tieba/web/20150802/4/20150802165420409_570.jpg',\n",
       " 'http://img2.soyoung.com/tieba/web/20150802/5/20150802165726231_570.jpg',\n",
       " 'http://img2.soyoung.com/tieba/web/20150802/1/20150802165739440_570.jpg',\n",
       " 'http://img2.soyoung.com/tieba/web/20150802/7/20150802170016451_570.jpg',\n",
       " 'http://img2.soyoung.com/tieba/web/20150802/3/20150802170307812_570.jpg',\n",
       " 'http://img2.soyoung.com/tieba/web/20150802/1/20150802170503592_570.jpg',\n",
       " 'http://img2.soyoung.com/tieba/web/20150802/2/20150802170516146_570.jpg',\n",
       " 'http://img2.soyoung.com/tieba/web/20150802/8/20150802170539102_570.jpg']"
      ]
     },
     "execution_count": 6,
     "metadata": {},
     "output_type": "execute_result"
    }
   ],
   "source": [
    "c"
   ]
  },
  {
   "cell_type": "code",
   "execution_count": null,
   "metadata": {
    "collapsed": true
   },
   "outputs": [],
   "source": []
  },
  {
   "cell_type": "code",
   "execution_count": null,
   "metadata": {
    "collapsed": true
   },
   "outputs": [],
   "source": []
  }
 ],
 "metadata": {
  "kernelspec": {
   "display_name": "Python 2",
   "language": "python",
   "name": "python2"
  },
  "language_info": {
   "codemirror_mode": {
    "name": "ipython",
    "version": 2
   },
   "file_extension": ".py",
   "mimetype": "text/x-python",
   "name": "python",
   "nbconvert_exporter": "python",
   "pygments_lexer": "ipython2",
   "version": "2.7.13"
  }
 },
 "nbformat": 4,
 "nbformat_minor": 2
}
