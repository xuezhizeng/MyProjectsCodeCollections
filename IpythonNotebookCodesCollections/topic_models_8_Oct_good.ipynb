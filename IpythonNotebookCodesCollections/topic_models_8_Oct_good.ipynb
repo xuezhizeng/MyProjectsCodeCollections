{
 "cells": [
  {
   "cell_type": "code",
   "execution_count": 15,
   "metadata": {
    "collapsed": true
   },
   "outputs": [],
   "source": [
    "# -*- coding: utf-8 -*-\n",
    "import pandas as pd\n",
    "from time import time\n",
    "import seaborn as sns\n",
    "\n",
    "\n",
    "import sys\n",
    "reload(sys)\n",
    "sys.setdefaultencoding('utf8')"
   ]
  },
  {
   "cell_type": "code",
   "execution_count": 16,
   "metadata": {},
   "outputs": [
    {
     "data": {
      "text/plain": [
       "(1551, 4)"
      ]
     },
     "execution_count": 16,
     "metadata": {},
     "output_type": "execute_result"
    }
   ],
   "source": [
    "gg = pd.read_excel('Google & Yelp Reviews.xlsx',sheetname=0)\n",
    "df = gg[~gg['Review'].isnull()]\n",
    "df.shape"
   ]
  },
  {
   "cell_type": "code",
   "execution_count": 17,
   "metadata": {},
   "outputs": [
    {
     "data": {
      "text/plain": [
       "(372, 4)"
      ]
     },
     "execution_count": 17,
     "metadata": {},
     "output_type": "execute_result"
    }
   ],
   "source": [
    "yy = pd.read_excel('Google & Yelp Reviews.xlsx',sheetname=1)\n",
    "df2 = yy[~yy['Review'].isnull()]\n",
    "df2.shape"
   ]
  },
  {
   "cell_type": "code",
   "execution_count": 18,
   "metadata": {},
   "outputs": [
    {
     "data": {
      "text/plain": [
       "(1923, 4)"
      ]
     },
     "execution_count": 18,
     "metadata": {},
     "output_type": "execute_result"
    }
   ],
   "source": [
    "df = df.append(df2)\n",
    "df.shape"
   ]
  },
  {
   "cell_type": "code",
   "execution_count": 19,
   "metadata": {},
   "outputs": [
    {
     "data": {
      "text/plain": [
       "(1645, 4)"
      ]
     },
     "execution_count": 19,
     "metadata": {},
     "output_type": "execute_result"
    }
   ],
   "source": [
    "df = df[(df['Rating']>3)]\n",
    "df.shape"
   ]
  },
  {
   "cell_type": "code",
   "execution_count": 20,
   "metadata": {
    "collapsed": true
   },
   "outputs": [],
   "source": [
    "import nltk\n",
    "# nltk.download('stopwords')\n",
    "from nltk.stem.wordnet import WordNetLemmatizer\n",
    "import string\n",
    "\n",
    "from nltk.corpus import stopwords \n",
    "stopwords = set(stopwords.words('english'))\n",
    "punctuation = set(string.punctuation) \n",
    "lemmatize = WordNetLemmatizer()\n",
    "\n"
   ]
  },
  {
   "cell_type": "code",
   "execution_count": 21,
   "metadata": {
    "collapsed": true
   },
   "outputs": [],
   "source": [
    "stop = pd.read_fwf('stop.txt',names=['words'])\n",
    "stopwords.update(set(stop['words'].values))\n",
    "# print (list(stopwords)[:10])\n",
    "stopwords.update(set(['dont','lot','wa','im','ha','doe','wa', 'able',]))"
   ]
  },
  {
   "cell_type": "code",
   "execution_count": 22,
   "metadata": {
    "collapsed": true
   },
   "outputs": [],
   "source": [
    "def cleaning(article):\n",
    "    article = str(article)\n",
    "    zero = \"\".join(i for i in article if i not in punctuation)\n",
    "    \n",
    "    one = \" \".join([i for i in zero.lower().split() if i not in stopwords])\n",
    "    \n",
    "    three = \" \".join(lemmatize.lemmatize(i) for i in one.split())\n",
    "    return three"
   ]
  },
  {
   "cell_type": "code",
   "execution_count": 23,
   "metadata": {
    "collapsed": true
   },
   "outputs": [],
   "source": [
    "from collections import defaultdict\n",
    "freq = defaultdict(int)\n",
    "\n",
    "for i in stopwords:\n",
    "    freq[i]+=1"
   ]
  },
  {
   "cell_type": "code",
   "execution_count": 24,
   "metadata": {},
   "outputs": [
    {
     "data": {
      "text/plain": [
       "1"
      ]
     },
     "execution_count": 24,
     "metadata": {},
     "output_type": "execute_result"
    }
   ],
   "source": [
    "print type(freq)\n",
    "freq['it']"
   ]
  },
  {
   "cell_type": "markdown",
   "metadata": {},
   "source": [
    "### all"
   ]
  },
  {
   "cell_type": "code",
   "execution_count": 25,
   "metadata": {
    "collapsed": true
   },
   "outputs": [],
   "source": [
    "# all_content = df['content'].append(holdout['content'])"
   ]
  },
  {
   "cell_type": "code",
   "execution_count": 26,
   "metadata": {
    "collapsed": true
   },
   "outputs": [],
   "source": [
    "all_content=df['Review']\n",
    "apple = all_content"
   ]
  },
  {
   "cell_type": "markdown",
   "metadata": {},
   "source": [
    "### choices"
   ]
  },
  {
   "cell_type": "code",
   "execution_count": 27,
   "metadata": {
    "collapsed": true
   },
   "outputs": [],
   "source": [
    "# nltk.download('wordnet')\n",
    "start = time()\n",
    "\n",
    "ap_text = apple.apply(cleaning)\n",
    "ap_text_list = [i.split() for i in ap_text]\n",
    "print (len(ap_text_list))\n",
    "\n",
    "print ('used: {:.2f}s'.format(time()-start))"
   ]
  },
  {
   "cell_type": "code",
   "execution_count": 31,
   "metadata": {},
   "outputs": [
    {
     "data": {
      "text/plain": [
       "2     edward schiller service tech complete highly r...\n",
       "3     product service impressed job foundation compa...\n",
       "6                                  awesome company deal\n",
       "7            prompt efficient glad chose company thanks\n",
       "8                                              time job\n",
       "11    jeremy kevin extremely nice informative extrem...\n",
       "13                 service tech professional inspection\n",
       "14                       solve quickly price affordable\n",
       "16                            time service thorough job\n",
       "17    experience standard heating air conditioning a...\n",
       "Name: Review, dtype: object"
      ]
     },
     "execution_count": 31,
     "metadata": {},
     "output_type": "execute_result"
    }
   ],
   "source": [
    "ap_text[:10]"
   ]
  },
  {
   "cell_type": "code",
   "execution_count": null,
   "metadata": {
    "collapsed": true
   },
   "outputs": [],
   "source": []
  },
  {
   "cell_type": "code",
   "execution_count": 32,
   "metadata": {},
   "outputs": [
    {
     "data": {
      "text/plain": [
       "'used: 0.06s'"
      ]
     },
     "execution_count": 32,
     "metadata": {},
     "output_type": "execute_result"
    }
   ],
   "source": [
    "from gensim.models.phrases import Phraser, Phrases\n",
    "\n",
    "start = time()\n",
    "phs = Phrases(ap_text_list)\n",
    "('used: {:.2f}s'.format(time()-start))"
   ]
  },
  {
   "cell_type": "code",
   "execution_count": 33,
   "metadata": {},
   "outputs": [
    {
     "data": {
      "text/plain": [
       "'used: 0.17s'"
      ]
     },
     "execution_count": 33,
     "metadata": {},
     "output_type": "execute_result"
    }
   ],
   "source": [
    "bi_gram = Phraser(phs)\n",
    "start = time()\n",
    "\n",
    "new_bi_list = [bi_gram[i] for i in ap_text_list]\n",
    "\n",
    "('used: {:.2f}s'.format(time()-start))"
   ]
  },
  {
   "cell_type": "code",
   "execution_count": 34,
   "metadata": {},
   "outputs": [
    {
     "data": {
      "text/plain": [
       "[u'edward', u'schiller', u'service_tech', u'complete', u'highly_recommend']"
      ]
     },
     "execution_count": 34,
     "metadata": {},
     "output_type": "execute_result"
    }
   ],
   "source": [
    "bi_gram[ap_text_list[0]]"
   ]
  },
  {
   "cell_type": "code",
   "execution_count": 35,
   "metadata": {},
   "outputs": [
    {
     "data": {
      "text/plain": [
       "[u'edward', u'schiller', u'service_tech', u'complete', u'highly_recommend']"
      ]
     },
     "execution_count": 35,
     "metadata": {},
     "output_type": "execute_result"
    }
   ],
   "source": [
    "new_bi_list[0]"
   ]
  },
  {
   "cell_type": "code",
   "execution_count": 36,
   "metadata": {},
   "outputs": [
    {
     "data": {
      "text/plain": [
       "'used: 0.40s'"
      ]
     },
     "execution_count": 36,
     "metadata": {},
     "output_type": "execute_result"
    }
   ],
   "source": [
    "start = time()\n",
    "\n",
    "phs3=Phrases(new_bi_list)\n",
    "tri_gram=Phraser(phs3)\n",
    "\n",
    "('used: {:.2f}s'.format(time()-start))\n"
   ]
  },
  {
   "cell_type": "code",
   "execution_count": 37,
   "metadata": {},
   "outputs": [
    {
     "data": {
      "text/plain": [
       "'used: 0.15s'"
      ]
     },
     "execution_count": 37,
     "metadata": {},
     "output_type": "execute_result"
    }
   ],
   "source": [
    "start = time()\n",
    "\n",
    "new_tri_list = [tri_gram[i] for i in new_bi_list]\n",
    "\n",
    "('used: {:.2f}s'.format(time()-start))\n"
   ]
  },
  {
   "cell_type": "code",
   "execution_count": 38,
   "metadata": {
    "collapsed": true
   },
   "outputs": [],
   "source": [
    "# new_tri_list = new_bi_list"
   ]
  },
  {
   "cell_type": "code",
   "execution_count": 39,
   "metadata": {
    "collapsed": true
   },
   "outputs": [],
   "source": [
    "print new_tri_list"
   ]
  },
  {
   "cell_type": "code",
   "execution_count": 40,
   "metadata": {
    "collapsed": true
   },
   "outputs": [],
   "source": [
    "make_dic = dict()\n",
    "for i,j in zip(range(len(new_tri_list)), new_tri_list):\n",
    "    make_dic[i]=j"
   ]
  },
  {
   "cell_type": "code",
   "execution_count": 41,
   "metadata": {
    "collapsed": true
   },
   "outputs": [],
   "source": [
    "without_stop = pd.Series(make_dic)"
   ]
  },
  {
   "cell_type": "code",
   "execution_count": 64,
   "metadata": {
    "collapsed": true
   },
   "outputs": [],
   "source": [
    "pd.options.display.max_colwidth=135"
   ]
  },
  {
   "cell_type": "code",
   "execution_count": 66,
   "metadata": {},
   "outputs": [
    {
     "data": {
      "text/html": [
       "<div>\n",
       "<style>\n",
       "    .dataframe thead tr:only-child th {\n",
       "        text-align: right;\n",
       "    }\n",
       "\n",
       "    .dataframe thead th {\n",
       "        text-align: left;\n",
       "    }\n",
       "\n",
       "    .dataframe tbody tr th {\n",
       "        vertical-align: top;\n",
       "    }\n",
       "</style>\n",
       "<table border=\"1\" class=\"dataframe\">\n",
       "  <thead>\n",
       "    <tr style=\"text-align: right;\">\n",
       "      <th></th>\n",
       "      <th>pre-processed reviews</th>\n",
       "    </tr>\n",
       "  </thead>\n",
       "  <tbody>\n",
       "    <tr>\n",
       "      <th>0</th>\n",
       "      <td>[edward, schiller, service_tech, complete, highly_recommend]</td>\n",
       "    </tr>\n",
       "    <tr>\n",
       "      <th>1</th>\n",
       "      <td>[product, service, impressed, job, foundation, company, tell, prevent, sinking, pier, called, strive, jeremy, raise, concrete_drive...</td>\n",
       "    </tr>\n",
       "    <tr>\n",
       "      <th>2</th>\n",
       "      <td>[awesome, company, deal]</td>\n",
       "    </tr>\n",
       "    <tr>\n",
       "      <th>3</th>\n",
       "      <td>[prompt, efficient, glad, chose, company, thanks]</td>\n",
       "    </tr>\n",
       "    <tr>\n",
       "      <th>4</th>\n",
       "      <td>[time, job]</td>\n",
       "    </tr>\n",
       "    <tr>\n",
       "      <th>5</th>\n",
       "      <td>[jeremy_kevin, extremely, nice, informative, extremely, excellent_job, excellent_job, final, concrete, patching, look, nice, recomm...</td>\n",
       "    </tr>\n",
       "    <tr>\n",
       "      <th>6</th>\n",
       "      <td>[service_tech, professional, inspection]</td>\n",
       "    </tr>\n",
       "    <tr>\n",
       "      <th>7</th>\n",
       "      <td>[solve, quickly, price, affordable]</td>\n",
       "    </tr>\n",
       "    <tr>\n",
       "      <th>8</th>\n",
       "      <td>[time, service, thorough, job]</td>\n",
       "    </tr>\n",
       "    <tr>\n",
       "      <th>9</th>\n",
       "      <td>[experience, standard_heating, air_conditioning, ac, friday, standard, called, monday, called, 9, ac, job, standard, larger, scope,...</td>\n",
       "    </tr>\n",
       "    <tr>\n",
       "      <th>10</th>\n",
       "      <td>[michael, ran, crew, ran, obstacle, kept_informed, talk, option, care, overall_experience]</td>\n",
       "    </tr>\n",
       "    <tr>\n",
       "      <th>11</th>\n",
       "      <td>[hour, calling, job]</td>\n",
       "    </tr>\n",
       "    <tr>\n",
       "      <th>12</th>\n",
       "      <td>[competent, efficient, technician, impressed, recommend, standard]</td>\n",
       "    </tr>\n",
       "    <tr>\n",
       "      <th>13</th>\n",
       "      <td>[past, month, trying, morris, jenkins, service, air_conditioning, excuse, called, gsm_service, immediately, hour, nishan, fixed, ac...</td>\n",
       "    </tr>\n",
       "    <tr>\n",
       "      <th>14</th>\n",
       "      <td>[jeremy_kevin, malik, professional, hard, job, time]</td>\n",
       "    </tr>\n",
       "    <tr>\n",
       "      <th>15</th>\n",
       "      <td>[uneven, temperature, house, furnace, ac, running, mark, assessed, situation, attic, insulation, terribly, insufficient, original, ...</td>\n",
       "    </tr>\n",
       "    <tr>\n",
       "      <th>16</th>\n",
       "      <td>[quick, professional, knowledgeable, happy, wrong, didnt, blow, smoke, try, sell, didnt, 15, hvac, replace, compressor, breaking, b...</td>\n",
       "    </tr>\n",
       "    <tr>\n",
       "      <th>17</th>\n",
       "      <td>[scott_wilson, afs, developed, proposal, alleviate, moisture, water, crawlspace, realized, afs, appeared, solution, industry, syste...</td>\n",
       "    </tr>\n",
       "    <tr>\n",
       "      <th>18</th>\n",
       "      <td>[steven, grant, install, hvac, equipment, duct, design, hvac, system, additional, insulation, happier, result, process, highly_reco...</td>\n",
       "    </tr>\n",
       "    <tr>\n",
       "      <th>19</th>\n",
       "      <td>[service, day, called]</td>\n",
       "    </tr>\n",
       "    <tr>\n",
       "      <th>20</th>\n",
       "      <td>[excellent_service, guy, ontime, fast, courteous, professional, highly_recommended]</td>\n",
       "    </tr>\n",
       "    <tr>\n",
       "      <th>21</th>\n",
       "      <td>[scott, straightened, unit, decided, service]</td>\n",
       "    </tr>\n",
       "    <tr>\n",
       "      <th>22</th>\n",
       "      <td>[jeremy_kevin, house, install, wall_anchor, super, friendly, time, finished, ahead, schedule, look, question, basement, happy, answ...</td>\n",
       "    </tr>\n",
       "    <tr>\n",
       "      <th>23</th>\n",
       "      <td>[gsm, replaced, aging, hvac, system, efficient, system, wonderfully, pleased]</td>\n",
       "    </tr>\n",
       "    <tr>\n",
       "      <th>24</th>\n",
       "      <td>[jeremy_kevin]</td>\n",
       "    </tr>\n",
       "    <tr>\n",
       "      <th>25</th>\n",
       "      <td>[pipework, schedule, quickly, clean, tricky, roof, drain, glad, plumbing, contractor, clean, roof, drain, pleased, completed, techn...</td>\n",
       "    </tr>\n",
       "    <tr>\n",
       "      <th>26</th>\n",
       "      <td>[job, exceeded_expectation, guy, gary, cox, foreman, jonathan, bush, co, foreman, james, brown, installer, professional, knowledgea...</td>\n",
       "    </tr>\n",
       "    <tr>\n",
       "      <th>27</th>\n",
       "      <td>[courteous, thorough, wonderful, accurate, complete, service, adk]</td>\n",
       "    </tr>\n",
       "    <tr>\n",
       "      <th>28</th>\n",
       "      <td>[excellent, efficient, product, market, flooding, yesterday, 29aug, received, water, proof, pudding]</td>\n",
       "    </tr>\n",
       "    <tr>\n",
       "      <th>29</th>\n",
       "      <td>[excellent, efficient, product, market, flooding, yesterday, 29aug, received, water, proof, pudding]</td>\n",
       "    </tr>\n",
       "    <tr>\n",
       "      <th>...</th>\n",
       "      <td>...</td>\n",
       "    </tr>\n",
       "    <tr>\n",
       "      <th>1615</th>\n",
       "      <td>[meaning, house, leveled, sunk, inch, rich, explanation]</td>\n",
       "    </tr>\n",
       "    <tr>\n",
       "      <th>1616</th>\n",
       "      <td>[folk, bq, nicest, extremely, professional, answer_question, honestly, competently]</td>\n",
       "    </tr>\n",
       "    <tr>\n",
       "      <th>1617</th>\n",
       "      <td>[investment, property, astounding, ave, increase, property, 50k, mold, moisture, unpleasant, smell]</td>\n",
       "    </tr>\n",
       "    <tr>\n",
       "      <th>1618</th>\n",
       "      <td>[consider, matvey, premier, foundation_repair, business, seattle, house, sinking, cracking, one, time, efficiently]</td>\n",
       "    </tr>\n",
       "    <tr>\n",
       "      <th>1619</th>\n",
       "      <td>[steve, helm, ass, foundation, home, level, repair, impressed, information, packet, th]</td>\n",
       "    </tr>\n",
       "    <tr>\n",
       "      <th>1620</th>\n",
       "      <td>[professional, company, concern, crack, basement, sidewall, outside, house, footing, cracked, front, corner, house, ou]</td>\n",
       "    </tr>\n",
       "    <tr>\n",
       "      <th>1621</th>\n",
       "      <td>[marina, del, rey, calif, conn, basement, experience, product, top_notch]</td>\n",
       "    </tr>\n",
       "    <tr>\n",
       "      <th>1622</th>\n",
       "      <td>[matvey, awesome, initial, bid, lift, stabilize, corner, house, job, taking, 3, time, kept, word, th]</td>\n",
       "    </tr>\n",
       "    <tr>\n",
       "      <th>1623</th>\n",
       "      <td>[purchased, multiple, product, service, meachum, including, commercial, dehumifier, hot, water_heater, propane, company, hi]</td>\n",
       "    </tr>\n",
       "    <tr>\n",
       "      <th>1624</th>\n",
       "      <td>[rave, company, care, family, added, crazy, schedule, power, outage, abington]</td>\n",
       "    </tr>\n",
       "    <tr>\n",
       "      <th>1625</th>\n",
       "      <td>[foundation_repair_ca, amazing, job, correcting, foundation, home, concern, issue, heart, happy, sa]</td>\n",
       "    </tr>\n",
       "    <tr>\n",
       "      <th>1626</th>\n",
       "      <td>[service, company, started, poorly, due, lack, communication, blame, calamity, flooding, experienced, owne]</td>\n",
       "    </tr>\n",
       "    <tr>\n",
       "      <th>1627</th>\n",
       "      <td>[arrangement, july, tech, owner, house, call, day, ac, check, apology, acce]</td>\n",
       "    </tr>\n",
       "    <tr>\n",
       "      <th>1628</th>\n",
       "      <td>[update, review, live, contacted, marketing, manager, spend, time, phone, getting, detail, situation, assured]</td>\n",
       "    </tr>\n",
       "    <tr>\n",
       "      <th>1629</th>\n",
       "      <td>[system_installed, 2006, basement, vertical, crack, wall, 10, foot, crack, covered, foam, cover, special, caulking]</td>\n",
       "    </tr>\n",
       "    <tr>\n",
       "      <th>1630</th>\n",
       "      <td>[recovering, s, sandy, contacted, ct_basement_system, pleased, response, timing, service, kryz, wilk, tremendous, foreman, su]</td>\n",
       "    </tr>\n",
       "    <tr>\n",
       "      <th>1631</th>\n",
       "      <td>[ac_unit, joe, worker, efficient, friendly, knowledgeable]</td>\n",
       "    </tr>\n",
       "    <tr>\n",
       "      <th>1632</th>\n",
       "      <td>[clockwork, team, arrived, expected, kept, noise, dust, minimum, cleaned, day]</td>\n",
       "    </tr>\n",
       "    <tr>\n",
       "      <th>1633</th>\n",
       "      <td>[heard, cbs, home, flooring, system, floating, floor, lock, look, tile, quote]</td>\n",
       "    </tr>\n",
       "    <tr>\n",
       "      <th>1634</th>\n",
       "      <td>[guy, awesome, call, saturday, morning, called, 15, minute, confirm, theyd, received, call, technician, eugene, called, shortly]</td>\n",
       "    </tr>\n",
       "    <tr>\n",
       "      <th>1635</th>\n",
       "      <td>[crawlspace, lining, look, salesperson, informed, product, help, advice, product, choicethere, issue, company, financing]</td>\n",
       "    </tr>\n",
       "    <tr>\n",
       "      <th>1636</th>\n",
       "      <td>[company, couple, time, basement, hesitate, call]</td>\n",
       "    </tr>\n",
       "    <tr>\n",
       "      <th>1637</th>\n",
       "      <td>[guy, professional, honest, compitant, excellent]</td>\n",
       "    </tr>\n",
       "    <tr>\n",
       "      <th>1638</th>\n",
       "      <td>[people, impressed, knowledge, salesman, explained, type, foundation, approach, changed, dependi]</td>\n",
       "    </tr>\n",
       "    <tr>\n",
       "      <th>1639</th>\n",
       "      <td>[basement_system, install, sump_pump, system, basement, september, 2010, whenever, rain, ground, water, basement, pool]</td>\n",
       "    </tr>\n",
       "    <tr>\n",
       "      <th>1640</th>\n",
       "      <td>[connecticut_basement_system, twice, install, curtain, drain, perimeter, basement, inside, feeding, drain, separate, sump_pump, wo]</td>\n",
       "    </tr>\n",
       "    <tr>\n",
       "      <th>1641</th>\n",
       "      <td>[experience, connecticut_basement_system, company, positive, professional, nice, patient, kudos, crew, led, dave, grea]</td>\n",
       "    </tr>\n",
       "    <tr>\n",
       "      <th>1642</th>\n",
       "      <td>[people, free_estimate, truth, solve, try, upsell]</td>\n",
       "    </tr>\n",
       "    <tr>\n",
       "      <th>1643</th>\n",
       "      <td>[water, basement, professional, salesperson, house, presentation, laptop, option, left, reading, mate]</td>\n",
       "    </tr>\n",
       "    <tr>\n",
       "      <th>1644</th>\n",
       "      <td>[basement, flooring, woodlike, product, contractor, helpful, informative, left, home, complete, project, inst]</td>\n",
       "    </tr>\n",
       "  </tbody>\n",
       "</table>\n",
       "<p>1645 rows × 1 columns</p>\n",
       "</div>"
      ],
      "text/plain": [
       "                                                                                                                       pre-processed reviews\n",
       "0                                                                               [edward, schiller, service_tech, complete, highly_recommend]\n",
       "1     [product, service, impressed, job, foundation, company, tell, prevent, sinking, pier, called, strive, jeremy, raise, concrete_drive...\n",
       "2                                                                                                                   [awesome, company, deal]\n",
       "3                                                                                          [prompt, efficient, glad, chose, company, thanks]\n",
       "4                                                                                                                                [time, job]\n",
       "5     [jeremy_kevin, extremely, nice, informative, extremely, excellent_job, excellent_job, final, concrete, patching, look, nice, recomm...\n",
       "6                                                                                                   [service_tech, professional, inspection]\n",
       "7                                                                                                        [solve, quickly, price, affordable]\n",
       "8                                                                                                             [time, service, thorough, job]\n",
       "9     [experience, standard_heating, air_conditioning, ac, friday, standard, called, monday, called, 9, ac, job, standard, larger, scope,...\n",
       "10                                                [michael, ran, crew, ran, obstacle, kept_informed, talk, option, care, overall_experience]\n",
       "11                                                                                                                      [hour, calling, job]\n",
       "12                                                                        [competent, efficient, technician, impressed, recommend, standard]\n",
       "13    [past, month, trying, morris, jenkins, service, air_conditioning, excuse, called, gsm_service, immediately, hour, nishan, fixed, ac...\n",
       "14                                                                                      [jeremy_kevin, malik, professional, hard, job, time]\n",
       "15    [uneven, temperature, house, furnace, ac, running, mark, assessed, situation, attic, insulation, terribly, insufficient, original, ...\n",
       "16    [quick, professional, knowledgeable, happy, wrong, didnt, blow, smoke, try, sell, didnt, 15, hvac, replace, compressor, breaking, b...\n",
       "17    [scott_wilson, afs, developed, proposal, alleviate, moisture, water, crawlspace, realized, afs, appeared, solution, industry, syste...\n",
       "18    [steven, grant, install, hvac, equipment, duct, design, hvac, system, additional, insulation, happier, result, process, highly_reco...\n",
       "19                                                                                                                    [service, day, called]\n",
       "20                                                       [excellent_service, guy, ontime, fast, courteous, professional, highly_recommended]\n",
       "21                                                                                             [scott, straightened, unit, decided, service]\n",
       "22    [jeremy_kevin, house, install, wall_anchor, super, friendly, time, finished, ahead, schedule, look, question, basement, happy, answ...\n",
       "23                                                             [gsm, replaced, aging, hvac, system, efficient, system, wonderfully, pleased]\n",
       "24                                                                                                                            [jeremy_kevin]\n",
       "25    [pipework, schedule, quickly, clean, tricky, roof, drain, glad, plumbing, contractor, clean, roof, drain, pleased, completed, techn...\n",
       "26    [job, exceeded_expectation, guy, gary, cox, foreman, jonathan, bush, co, foreman, james, brown, installer, professional, knowledgea...\n",
       "27                                                                        [courteous, thorough, wonderful, accurate, complete, service, adk]\n",
       "28                                      [excellent, efficient, product, market, flooding, yesterday, 29aug, received, water, proof, pudding]\n",
       "29                                      [excellent, efficient, product, market, flooding, yesterday, 29aug, received, water, proof, pudding]\n",
       "...                                                                                                                                      ...\n",
       "1615                                                                                [meaning, house, leveled, sunk, inch, rich, explanation]\n",
       "1616                                                     [folk, bq, nicest, extremely, professional, answer_question, honestly, competently]\n",
       "1617                                     [investment, property, astounding, ave, increase, property, 50k, mold, moisture, unpleasant, smell]\n",
       "1618                     [consider, matvey, premier, foundation_repair, business, seattle, house, sinking, cracking, one, time, efficiently]\n",
       "1619                                                 [steve, helm, ass, foundation, home, level, repair, impressed, information, packet, th]\n",
       "1620                 [professional, company, concern, crack, basement, sidewall, outside, house, footing, cracked, front, corner, house, ou]\n",
       "1621                                                               [marina, del, rey, calif, conn, basement, experience, product, top_notch]\n",
       "1622                                   [matvey, awesome, initial, bid, lift, stabilize, corner, house, job, taking, 3, time, kept, word, th]\n",
       "1623            [purchased, multiple, product, service, meachum, including, commercial, dehumifier, hot, water_heater, propane, company, hi]\n",
       "1624                                                          [rave, company, care, family, added, crazy, schedule, power, outage, abington]\n",
       "1625                                    [foundation_repair_ca, amazing, job, correcting, foundation, home, concern, issue, heart, happy, sa]\n",
       "1626                             [service, company, started, poorly, due, lack, communication, blame, calamity, flooding, experienced, owne]\n",
       "1627                                                            [arrangement, july, tech, owner, house, call, day, ac, check, apology, acce]\n",
       "1628                          [update, review, live, contacted, marketing, manager, spend, time, phone, getting, detail, situation, assured]\n",
       "1629                     [system_installed, 2006, basement, vertical, crack, wall, 10, foot, crack, covered, foam, cover, special, caulking]\n",
       "1630          [recovering, s, sandy, contacted, ct_basement_system, pleased, response, timing, service, kryz, wilk, tremendous, foreman, su]\n",
       "1631                                                                              [ac_unit, joe, worker, efficient, friendly, knowledgeable]\n",
       "1632                                                          [clockwork, team, arrived, expected, kept, noise, dust, minimum, cleaned, day]\n",
       "1633                                                          [heard, cbs, home, flooring, system, floating, floor, lock, look, tile, quote]\n",
       "1634        [guy, awesome, call, saturday, morning, called, 15, minute, confirm, theyd, received, call, technician, eugene, called, shortly]\n",
       "1635               [crawlspace, lining, look, salesperson, informed, product, help, advice, product, choicethere, issue, company, financing]\n",
       "1636                                                                                       [company, couple, time, basement, hesitate, call]\n",
       "1637                                                                                       [guy, professional, honest, compitant, excellent]\n",
       "1638                                       [people, impressed, knowledge, salesman, explained, type, foundation, approach, changed, dependi]\n",
       "1639                 [basement_system, install, sump_pump, system, basement, september, 2010, whenever, rain, ground, water, basement, pool]\n",
       "1640     [connecticut_basement_system, twice, install, curtain, drain, perimeter, basement, inside, feeding, drain, separate, sump_pump, wo]\n",
       "1641                 [experience, connecticut_basement_system, company, positive, professional, nice, patient, kudos, crew, led, dave, grea]\n",
       "1642                                                                                      [people, free_estimate, truth, solve, try, upsell]\n",
       "1643                                  [water, basement, professional, salesperson, house, presentation, laptop, option, left, reading, mate]\n",
       "1644                          [basement, flooring, woodlike, product, contractor, helpful, informative, left, home, complete, project, inst]\n",
       "\n",
       "[1645 rows x 1 columns]"
      ]
     },
     "execution_count": 66,
     "metadata": {},
     "output_type": "execute_result"
    }
   ],
   "source": [
    "pd.DataFrame(without_stop, columns=['pre-processed reviews'])"
   ]
  },
  {
   "cell_type": "code",
   "execution_count": 67,
   "metadata": {},
   "outputs": [
    {
     "data": {
      "text/plain": [
       "0                                                                              [edward, schiller, service_tech, complete, highly_recommend]\n",
       "1    [product, service, impressed, job, foundation, company, tell, prevent, sinking, pier, called, strive, jeremy, raise, concrete_drive...\n",
       "2                                                                                                                  [awesome, company, deal]\n",
       "3                                                                                         [prompt, efficient, glad, chose, company, thanks]\n",
       "4                                                                                                                               [time, job]\n",
       "5    [jeremy_kevin, extremely, nice, informative, extremely, excellent_job, excellent_job, final, concrete, patching, look, nice, recomm...\n",
       "6                                                                                                  [service_tech, professional, inspection]\n",
       "7                                                                                                       [solve, quickly, price, affordable]\n",
       "8                                                                                                            [time, service, thorough, job]\n",
       "9    [experience, standard_heating, air_conditioning, ac, friday, standard, called, monday, called, 9, ac, job, standard, larger, scope,...\n",
       "dtype: object"
      ]
     },
     "execution_count": 67,
     "metadata": {},
     "output_type": "execute_result"
    }
   ],
   "source": [
    "without_stop.head(10)"
   ]
  },
  {
   "cell_type": "code",
   "execution_count": 43,
   "metadata": {},
   "outputs": [
    {
     "data": {
      "text/plain": [
       "5"
      ]
     },
     "execution_count": 43,
     "metadata": {},
     "output_type": "execute_result"
    }
   ],
   "source": [
    "len(without_stop[0])"
   ]
  },
  {
   "cell_type": "code",
   "execution_count": 44,
   "metadata": {
    "collapsed": true
   },
   "outputs": [],
   "source": [
    "def helper_len(x):\n",
    "    leng=[0]\n",
    "    for i in x:\n",
    "        leng.append(len(i))\n",
    "    return max(leng)"
   ]
  },
  {
   "cell_type": "code",
   "execution_count": 45,
   "metadata": {
    "collapsed": true
   },
   "outputs": [],
   "source": [
    "with_stop = without_stop.apply(helper_len)\n",
    "\n",
    "import matplotlib.pyplot as plt\n",
    "%matplotlib inline"
   ]
  },
  {
   "cell_type": "code",
   "execution_count": 46,
   "metadata": {},
   "outputs": [
    {
     "data": {
      "text/plain": [
       "16    214\n",
       "12    203\n",
       "13    167\n",
       "17    140\n",
       "20    125\n",
       "15    118\n",
       "10     99\n",
       "11     93\n",
       "18     86\n",
       "9      61\n",
       "dtype: int64"
      ]
     },
     "execution_count": 46,
     "metadata": {},
     "output_type": "execute_result"
    }
   ],
   "source": [
    "with_stop.value_counts().head(10)"
   ]
  },
  {
   "cell_type": "code",
   "execution_count": 47,
   "metadata": {},
   "outputs": [
    {
     "data": {
      "text/plain": [
       "<Container object of 27 artists>"
      ]
     },
     "execution_count": 47,
     "metadata": {},
     "output_type": "execute_result"
    },
    {
     "data": {
      "image/png": "[encoded data removed]",
      "text/plain": [
       "<matplotlib.figure.Figure at 0x7f6a3c9f7410>"
      ]
     },
     "metadata": {},
     "output_type": "display_data"
    }
   ],
   "source": [
    "graph = with_stop.value_counts()\n",
    "\n",
    "plt.figure(figsize=(12,6))\n",
    "plt.bar(graph.index, graph.values, .7, color='g', alpha=.7)"
   ]
  },
  {
   "cell_type": "code",
   "execution_count": 30,
   "metadata": {},
   "outputs": [
    {
     "ename": "NameError",
     "evalue": "name 'without_stop' is not defined",
     "output_type": "error",
     "traceback": [
      "\u001b[0;31m\u001b[0m",
      "\u001b[0;31mNameError\u001b[0mTraceback (most recent call last)",
      "\u001b[0;32m<ipython-input-30-5a5cca3b438d>\u001b[0m in \u001b[0;36m<module>\u001b[0;34m()\u001b[0m\n\u001b[0;32m----> 1\u001b[0;31m \u001b[0mwithout_stop\u001b[0m\u001b[0;34m[\u001b[0m\u001b[0;34m:\u001b[0m\u001b[0;36m10\u001b[0m\u001b[0;34m]\u001b[0m\u001b[0;34m\u001b[0m\u001b[0m\n\u001b[0m",
      "\u001b[0;31mNameError\u001b[0m: name 'without_stop' is not defined"
     ]
    }
   ],
   "source": [
    "without_stop[:10]"
   ]
  },
  {
   "cell_type": "code",
   "execution_count": 29,
   "metadata": {},
   "outputs": [
    {
     "ename": "NameError",
     "evalue": "name 'without_stop' is not defined",
     "output_type": "error",
     "traceback": [
      "\u001b[0;31m\u001b[0m",
      "\u001b[0;31mNameError\u001b[0mTraceback (most recent call last)",
      "\u001b[0;32m<ipython-input-29-fa65184fd711>\u001b[0m in \u001b[0;36m<module>\u001b[0;34m()\u001b[0m\n\u001b[0;32m----> 1\u001b[0;31m \u001b[0mwithout_stop\u001b[0m\u001b[0;34m\u001b[0m\u001b[0m\n\u001b[0m",
      "\u001b[0;31mNameError\u001b[0m: name 'without_stop' is not defined"
     ]
    }
   ],
   "source": [
    "without_stop"
   ]
  },
  {
   "cell_type": "code",
   "execution_count": 31,
   "metadata": {
    "collapsed": true
   },
   "outputs": [],
   "source": [
    "ap_text_list = list(without_stop.values)"
   ]
  },
  {
   "cell_type": "code",
   "execution_count": 32,
   "metadata": {},
   "outputs": [
    {
     "data": {
      "text/plain": [
       "1645"
      ]
     },
     "execution_count": 32,
     "metadata": {},
     "output_type": "execute_result"
    }
   ],
   "source": [
    "len(ap_text_list)"
   ]
  },
  {
   "cell_type": "code",
   "execution_count": 33,
   "metadata": {},
   "outputs": [
    {
     "data": {
      "text/plain": [
       "[u'edward', u'schiller', u'service_tech', u'complete', u'highly_recommend']"
      ]
     },
     "execution_count": 33,
     "metadata": {},
     "output_type": "execute_result"
    }
   ],
   "source": [
    "ap_text_list[0]"
   ]
  },
  {
   "cell_type": "markdown",
   "metadata": {},
   "source": [
    "## topic models"
   ]
  },
  {
   "cell_type": "code",
   "execution_count": 34,
   "metadata": {
    "collapsed": true
   },
   "outputs": [],
   "source": [
    "# ! pip install gensim pyLDAvis WordCloud"
   ]
  },
  {
   "cell_type": "markdown",
   "metadata": {},
   "source": [
    "### change name"
   ]
  },
  {
   "cell_type": "code",
   "execution_count": 35,
   "metadata": {
    "collapsed": true
   },
   "outputs": [],
   "source": [
    "# Importing Gensim\n",
    "import gensim\n",
    "from gensim import corpora\n",
    "\n",
    "from time import time\n",
    "import logging\n",
    "\n",
    "logging.basicConfig(format='%(asctime)s : %(levelname)s : %(message)s', level=logging.INFO,\n",
    "                   filename='re_g.log',filemode='w')"
   ]
  },
  {
   "cell_type": "code",
   "execution_count": 36,
   "metadata": {},
   "outputs": [
    {
     "data": {
      "text/plain": [
       "<gensim.corpora.dictionary.Dictionary at 0x7f86a2ac3450>"
      ]
     },
     "execution_count": 36,
     "metadata": {},
     "output_type": "execute_result"
    }
   ],
   "source": [
    "\n",
    "# Creating the term dictionary of our courpus, where every unique term is assigned an index. dictionary = corpora.Dictionary(doc_clean)\n",
    "dictionary = corpora.Dictionary(ap_text_list)\n",
    "dictionary.save('re_g.dict')\n",
    "(dictionary)"
   ]
  },
  {
   "cell_type": "code",
   "execution_count": 37,
   "metadata": {
    "collapsed": true
   },
   "outputs": [],
   "source": [
    "# gensim.models.ldamodel.LdaModel?"
   ]
  },
  {
   "cell_type": "code",
   "execution_count": 38,
   "metadata": {},
   "outputs": [
    {
     "data": {
      "text/plain": [
       "[(22, 1),\n",
       " (29, 1),\n",
       " (59, 1),\n",
       " (64, 1),\n",
       " (69, 2),\n",
       " (74, 1),\n",
       " (115, 1),\n",
       " (164, 1),\n",
       " (194, 1),\n",
       " (366, 1),\n",
       " (421, 1),\n",
       " (810, 1),\n",
       " (885, 1),\n",
       " (886, 1),\n",
       " (887, 1),\n",
       " (888, 1),\n",
       " (889, 1),\n",
       " (890, 1),\n",
       " (891, 1),\n",
       " (892, 1)]"
      ]
     },
     "execution_count": 38,
     "metadata": {},
     "output_type": "execute_result"
    }
   ],
   "source": [
    "# Converting list of documents (corpus) into Document Term Matrix using dictionary prepared above.\n",
    "doc_term_matrix = [dictionary.doc2bow(doc) for doc in ap_text_list]\n",
    "corpora.MmCorpus.serialize('re_g.mm', doc_term_matrix)\n",
    "\n",
    "(len(doc_term_matrix))\n",
    "(doc_term_matrix[100])"
   ]
  },
  {
   "cell_type": "code",
   "execution_count": 39,
   "metadata": {
    "collapsed": true
   },
   "outputs": [],
   "source": [
    "# Lda?"
   ]
  },
  {
   "cell_type": "code",
   "execution_count": 40,
   "metadata": {},
   "outputs": [
    {
     "data": {
      "text/plain": [
       "'used: 6.93s'"
      ]
     },
     "execution_count": 40,
     "metadata": {},
     "output_type": "execute_result"
    }
   ],
   "source": [
    "start = time()\n",
    "# Creating the object for LDA model using gensim library\n",
    "Lda = gensim.models.ldamodel.LdaModel\n",
    "\n",
    "# Running and Trainign LDA model on the document term matrix.\n",
    "ldamodel = Lda(doc_term_matrix, num_topics=5, id2word = dictionary, \n",
    "#                passes=5\n",
    "              )\n",
    "'used: {:.2f}s'.format(time()-start)"
   ]
  },
  {
   "cell_type": "code",
   "execution_count": 41,
   "metadata": {},
   "outputs": [
    {
     "data": {
      "text/plain": [
       "[(0,\n",
       "  u'0.025*\"job\" + 0.013*\"basement\" + 0.008*\"time\" + 0.007*\"guy\" + 0.007*\"professional\" + 0.007*\"crew\" + 0.007*\"project\" + 0.007*\"company\" + 0.005*\"service\" + 0.005*\"day\"'),\n",
       " (1,\n",
       "  u'0.018*\"crew\" + 0.017*\"job\" + 0.014*\"basement\" + 0.013*\"company\" + 0.012*\"professional\" + 0.009*\"home\" + 0.007*\"house\" + 0.007*\"thank\" + 0.007*\"system\" + 0.006*\"time\"'),\n",
       " (2,\n",
       "  u'0.019*\"professional\" + 0.016*\"job\" + 0.014*\"crew\" + 0.014*\"basement\" + 0.013*\"company\" + 0.011*\"time\" + 0.010*\"service\" + 0.008*\"home\" + 0.007*\"system\" + 0.007*\"house\"'),\n",
       " (3,\n",
       "  u'0.015*\"basement\" + 0.011*\"professional\" + 0.011*\"home\" + 0.011*\"job\" + 0.010*\"crew\" + 0.009*\"time\" + 0.008*\"service\" + 0.008*\"system\" + 0.007*\"water\" + 0.006*\"team\"'),\n",
       " (4,\n",
       "  u'0.017*\"job\" + 0.015*\"crew\" + 0.011*\"system\" + 0.011*\"time\" + 0.009*\"basement\" + 0.008*\"thanks\" + 0.007*\"professional\" + 0.007*\"day\" + 0.007*\"company\" + 0.006*\"service\"')]"
      ]
     },
     "execution_count": 41,
     "metadata": {},
     "output_type": "execute_result"
    }
   ],
   "source": [
    "ldamodel.print_topics()"
   ]
  },
  {
   "cell_type": "code",
   "execution_count": 42,
   "metadata": {
    "collapsed": true
   },
   "outputs": [],
   "source": [
    "# !pip install pyLDAvis"
   ]
  },
  {
   "cell_type": "code",
   "execution_count": 43,
   "metadata": {
    "collapsed": true
   },
   "outputs": [],
   "source": [
    "ldamodel.save('re_g.model')"
   ]
  },
  {
   "cell_type": "markdown",
   "metadata": {},
   "source": [
    "## load saved model"
   ]
  },
  {
   "cell_type": "code",
   "execution_count": 44,
   "metadata": {
    "collapsed": true
   },
   "outputs": [],
   "source": [
    "from gensim.models import LdaModel\n",
    "loading = LdaModel.load('re_g.model')"
   ]
  },
  {
   "cell_type": "markdown",
   "metadata": {},
   "source": [
    "## plotting\n",
    "\n"
   ]
  },
  {
   "cell_type": "code",
   "execution_count": 45,
   "metadata": {
    "collapsed": true
   },
   "outputs": [],
   "source": [
    "import pyLDAvis.gensim\n",
    "import gensim\n",
    "from time import time\n",
    "pyLDAvis.enable_notebook()"
   ]
  },
  {
   "cell_type": "code",
   "execution_count": 46,
   "metadata": {
    "collapsed": true
   },
   "outputs": [],
   "source": [
    "d = gensim.corpora.Dictionary.load('re_g.dict')\n",
    "c = gensim.corpora.MmCorpus('re_g.mm')\n",
    "lda = gensim.models.LdaModel.load('re_g.model')"
   ]
  },
  {
   "cell_type": "code",
   "execution_count": 47,
   "metadata": {
    "collapsed": true
   },
   "outputs": [],
   "source": [
    "start = time()\n",
    "\n",
    "data = pyLDAvis.gensim.prepare(lda, c, d)\n",
    "\n",
    "print ('used: {:.2f}s'.format(time()-start))"
   ]
  },
  {
   "cell_type": "code",
   "execution_count": 48,
   "metadata": {
    "collapsed": true
   },
   "outputs": [],
   "source": [
    "pyLDAvis.save_html(data,'re_g.html')\n"
   ]
  },
  {
   "cell_type": "code",
   "execution_count": 49,
   "metadata": {},
   "outputs": [
    {
     "data": {
      "text/html": [
       "\n",
       "<link rel=\"stylesheet\" type=\"text/css\" href=\"https://cdn.rawgit.com/bmabey/pyLDAvis/files/ldavis.v1.0.0.css\">\n",
       "\n",
       "\n",
       "<div id=\"ldavis_el19918140214967298896169305648\"></div>\n",
       "<script type=\"text/javascript\">\n",
       "\n",
       "var ldavis_el19918140214967298896169305648_data = {\"plot.opts\": {\"xlab\": \"PC1\", \"ylab\": \"PC2\"}, \"topic.order\": [3, 2, 5, 4, 1], \"token.table\": {\"Topic\": [1, 2, 4, 5, 1, 2, 3, 4, 5, 4, 3, 1, 1, 2, 3, 4, 5, 1, 2, 3, 4, 5, 1, 2, 3, 4, 5, 5, 1, 2, 3, 4, 5, 1, 2, 1, 2, 3, 4, 5, 1, 2, 3, 4, 5, 2, 3, 5, 3, 1, 5, 1, 2, 3, 4, 5, 1, 2, 3, 4, 5, 1, 2, 3, 4, 5, 4, 1, 2, 3, 4, 5, 5, 3, 2, 5, 1, 2, 5, 4, 1, 2, 3, 4, 5, 1, 2, 3, 4, 5, 2, 1, 5, 1, 2, 3, 4, 5, 4, 3, 1, 2, 3, 4, 5, 5, 1, 1, 2, 3, 4, 5, 1, 2, 3, 5, 2, 2, 5, 1, 2, 3, 4, 5, 1, 2, 3, 4, 5, 2, 3, 4, 5, 4, 2, 2, 4, 5, 1, 2, 3, 4, 5, 1, 2, 3, 4, 5, 1, 2, 3, 4, 5, 4, 2, 1, 2, 1, 2, 3, 4, 5, 5, 2, 2, 3, 5, 1, 2, 3, 5, 1, 2, 3, 5, 2, 1, 2, 3, 4, 5, 1, 2, 3, 4, 5, 1, 2, 3, 4, 5, 5, 1, 2, 3, 4, 5, 1, 2, 1, 3, 3, 4, 1, 2, 3, 4, 5, 1, 2, 3, 4, 5, 1, 2, 3, 4, 5, 4, 1, 3, 2, 3, 1, 4, 4, 5, 1, 2, 3, 4, 5, 1, 2, 3, 4, 5, 2, 4, 5, 5, 1, 2, 3, 4, 5, 4, 1, 2, 3, 4, 5, 5, 1, 2, 3, 4, 5, 1, 2, 3, 4, 5, 2, 3, 4, 5, 2, 5, 1, 2, 3, 4, 5, 1, 2, 3, 4, 5, 3, 5, 1, 2, 3, 4, 5, 1, 2, 3, 4, 5, 1, 2, 3, 4, 5, 4, 5, 1, 2, 3, 4, 5, 1, 2, 3, 4, 5, 1, 2, 3, 4, 5, 3, 1, 2, 3, 4, 5, 2, 4, 5, 1, 2, 3, 5, 1, 2, 3, 4, 5, 1, 2, 3, 4, 5, 1, 2, 3, 4, 5, 1, 2, 3, 5, 1, 2, 4, 4, 1, 2, 3, 4, 5, 1, 2, 3, 4, 5, 1, 2, 3, 4, 5, 2, 3, 1, 1, 3, 1, 4, 1, 3, 4, 5, 1, 2, 3, 4, 5, 3, 1, 2, 3, 4, 5, 1, 3, 4, 1, 2, 3, 4, 5, 1, 2, 3, 4, 5, 3, 1, 2, 3, 4, 5, 1, 2, 3, 4, 5, 1, 2, 3, 4, 5, 1, 2, 3, 4, 5, 1, 2, 3, 4, 5, 1, 1, 3, 2, 1, 4, 1, 2, 3, 4, 5, 1, 2, 3, 4, 5, 1, 2, 3, 4, 5, 1, 5, 1, 2, 3, 4, 5, 1, 2, 3, 4, 5, 3, 5, 2, 3, 4, 5, 4, 5, 2, 1, 3, 1, 2, 3, 4, 5, 4, 5, 1, 2, 3, 4, 5, 4, 3, 1, 4, 1, 2, 3, 4, 5, 3, 1, 2, 3, 4, 5, 1, 2, 3, 4, 5, 1, 2, 4, 5, 1, 2, 3, 4, 5, 1, 2, 3, 4, 5, 2, 4, 5, 1, 2, 3, 4, 5, 2, 1, 1, 2, 1, 2, 3, 4, 1, 2, 3, 4, 5, 4, 3, 4, 4, 1, 2, 3, 4, 5, 1, 2, 4, 1, 2, 3, 4, 5, 1, 2, 3, 4, 5, 5, 1, 2, 3, 4, 5, 1, 4, 1, 2, 3, 4, 5, 3, 1, 4, 3, 1, 2, 3, 4, 5, 4, 4, 4, 1, 2, 3, 4, 5, 1, 3, 4, 5, 1, 2, 3, 4, 5, 1, 3, 1, 2, 3, 4, 5, 3, 4, 1, 2, 3, 4, 5, 1, 2, 3, 4, 5, 1, 2, 4, 1, 2, 3, 4, 5, 1, 1, 2, 3, 4, 5, 1, 2, 1, 2, 3, 4, 5, 1, 2, 3, 4, 5, 1, 2, 3, 4, 5, 5, 2, 4, 1, 2, 3, 4, 5, 1, 4, 1, 2, 3, 4, 5, 1, 2, 3, 4, 5, 1, 2, 3, 4, 5, 1, 2, 4, 5, 1, 2, 3, 4, 5, 1, 2, 4, 1, 5, 1, 2, 3, 4, 4, 4, 3, 1, 2, 3, 4, 5, 2, 2, 1, 2, 3, 4, 5, 1, 2, 3, 4, 5, 1, 4, 1, 2, 3, 4, 5, 3, 2, 3, 1, 2, 3, 1, 2, 4, 5, 3, 1, 2, 3, 4, 5, 1, 3, 4, 5, 2, 3, 1, 2, 3, 4, 5, 3, 4, 5, 1, 2, 3, 4, 5, 1, 2, 3, 4, 5, 1, 1, 2, 4, 5, 3, 2, 3, 4, 1, 4, 1, 2, 3, 5, 1, 2, 3, 4, 5, 1, 3, 4, 1, 2, 3, 4, 5, 1, 1, 2, 3, 4, 5, 5, 3, 1, 2, 3, 4, 5, 5, 2, 3, 4, 5, 1, 2, 3, 4, 5, 4, 3, 1, 2, 3, 4, 5, 1, 1, 2, 3, 4, 5, 1, 2, 1, 2, 3, 4, 5, 1, 2, 3, 4, 5, 4, 3, 2, 1, 2, 3, 4, 5, 1, 1, 4, 1, 1, 2, 3, 4, 5, 5, 3, 3, 5, 2, 3, 4, 5, 5, 4, 1, 2, 3, 4, 5, 2, 4, 1, 2, 3, 4, 5, 1, 2, 3, 4, 5, 1, 2, 3, 2, 4, 3, 1, 2, 3, 4, 5, 1, 2, 3, 4, 5, 4, 3, 2, 4, 5, 5, 1, 2, 3, 4, 5, 5, 3], \"Freq\": [0.20237586034988544, 0.20237586034988544, 0.4047517206997709, 0.8651226995400111, 0.32336208022143004, 0.20577586923181912, 0.32336208022143004, 0.029396552747402733, 0.11758621098961093, 0.6289413016001664, 0.6061319545518602, 0.7037185520379174, 0.6339539705500641, 0.04226359803667094, 0.12679079411001282, 0.08452719607334187, 0.08452719607334187, 0.8560271564582665, 0.04389882853632136, 0.06584824280448204, 0.02194941426816068, 0.02194941426816068, 0.2347550215173341, 0.4225590387312014, 0.09390200860693364, 0.14085301291040045, 0.09390200860693364, 0.6544326180185543, 0.40223486652100826, 0.13407828884033607, 0.3351957221008402, 0.06703914442016803, 0.06703914442016803, 0.7588341387667102, 0.18970853469167756, 0.5359372039688028, 0.16375859010157864, 0.16375859010157864, 0.044661433664066906, 0.08932286732813381, 0.6864714576144182, 0.09806735108777404, 0.04903367554388702, 0.09806735108777404, 0.04903367554388702, 0.754509317375067, 0.32469411369810264, 0.6493882273962053, 0.8029423696647182, 0.8255371836011502, 0.4320737164422751, 0.35586549481327356, 0.22683823938389955, 0.11654074683943462, 0.1623246116692125, 0.13735159448933365, 0.2521749485055052, 0.37826242275825783, 0.1440999705745744, 0.1260874742527526, 0.10807497793093081, 0.24459974578379454, 0.44843286727028997, 0.12229987289189727, 0.12229987289189727, 0.08153324859459818, 0.4178406218686943, 0.36077966917987603, 0.12733400088701508, 0.06366700044350754, 0.16977866784935342, 0.2971126687363685, 0.8651884471982562, 0.6057095881875137, 0.756333919169382, 0.8611932536464184, 0.7035566449335099, 0.5859089281191625, 0.19530297603972083, 0.6384439221958234, 0.5318579022030223, 0.11080372962562965, 0.14404484851331856, 0.04432149185025186, 0.1662055944384445, 0.4062890189201011, 0.1837974133209981, 0.08706193262573594, 0.24183870173815541, 0.08706193262573594, 0.7649895808567514, 0.7556060833841641, 0.15112121667683284, 0.2066513035483822, 0.13776753569892147, 0.06888376784946074, 0.13776753569892147, 0.4821863749462251, 0.4243427293241983, 0.6061426198435962, 0.3088327419750735, 0.24020324375839047, 0.06862949821668299, 0.27451799286673195, 0.06862949821668299, 0.6531515700375431, 0.7034992881435103, 0.2080658811067199, 0.2080658811067199, 0.06935529370223996, 0.4161317622134398, 0.06935529370223996, 0.7047327644278912, 0.6579688332269317, 0.13159376664538633, 0.26318753329077266, 0.7562991957400488, 0.21176485811984705, 0.6352945743595412, 0.27215082702777565, 0.1921064661372534, 0.24013308267156674, 0.20011090222630562, 0.0960532330686267, 0.22863588116608002, 0.18828837272500706, 0.3362292370089412, 0.09414418636250353, 0.14794086428393413, 0.6399465835428626, 0.255978633417145, 0.6384789388454687, 0.31923946942273435, 0.6289399149285553, 0.7563232532062532, 0.16149217386183545, 0.16149217386183545, 0.6459686954473418, 0.4524286078763664, 0.2848624568110455, 0.1117107673768806, 0.0558553836884403, 0.09216138308592649, 0.36681796832072366, 0.1925794333683799, 0.16506808574432563, 0.11921583970423519, 0.16506808574432563, 0.415652890579639, 0.1438798467391058, 0.1438798467391058, 0.22381309492749793, 0.07993324818839212, 0.4108062607382762, 0.7620314984312996, 0.22006573203370686, 0.6601971961011206, 0.20073451010869828, 0.10036725505434914, 0.5018362752717457, 0.20073451010869828, 0.10036725505434914, 0.865186643290709, 0.8526717559753704, 0.7156295737288849, 0.143125914745777, 0.143125914745777, 0.2375297766417757, 0.5344419974439952, 0.17814733248133177, 0.05938244416044392, 0.2354403901398854, 0.1177201950699427, 0.4708807802797708, 0.1177201950699427, 0.75633919769626, 0.3032342445026344, 0.2675596275023245, 0.17837308500154966, 0.1070238510009298, 0.1516171222513172, 0.32371836908034746, 0.15663792052274875, 0.250620672836398, 0.08354022427879934, 0.1775229765924486, 0.3554584101443484, 0.2835679451713341, 0.18372007715325872, 0.10583874009915992, 0.07189046497301428, 0.8651385196725084, 0.33759402969136837, 0.05330432047758448, 0.2309853887361994, 0.12437674778103044, 0.2487534955620609, 0.22342184400510162, 0.6702655320153048, 0.7073771498917055, 0.17684428747292638, 0.7452947945340692, 0.24843159817802307, 0.6556204249810162, 0.16390510624525406, 0.08195255312262703, 0.08195255312262703, 0.08195255312262703, 0.3507435081619282, 0.1873835180591123, 0.1969929292416309, 0.1393364621465194, 0.12972705096400083, 0.051105691842839245, 0.1277642296070981, 0.025552845921419622, 0.2299756132927766, 0.5621626102712317, 0.4203472932516992, 0.7061749801346712, 0.8044378220411726, 0.6566982486421717, 0.16417456216054294, 0.31458904995465276, 0.6291780999093055, 0.6468847671938204, 0.3234423835969102, 0.22206887816294155, 0.22206887816294155, 0.33310331724441233, 0.13324132689776494, 0.08882755126517662, 0.2978110268985177, 0.3127015782434436, 0.07445275672462942, 0.11912441075940707, 0.1935771674840365, 0.09288054259272707, 0.18576108518545414, 0.5572832555563624, 0.4300408455828146, 0.27984837975806903, 0.4197725696371035, 0.04664139662634484, 0.1166034915658621, 0.1166034915658621, 0.6289471040406802, 0.29677439444611864, 0.3264518338907305, 0.1384947174081887, 0.09892479814870622, 0.12860223759331807, 0.8557452870549368, 0.29808928379928945, 0.1987261891995263, 0.23847142703943155, 0.01987261891995263, 0.23847142703943155, 0.10722203812884948, 0.10722203812884948, 0.10722203812884948, 0.10722203812884948, 0.5361101906442474, 0.14463196623899885, 0.14463196623899885, 0.14463196623899885, 0.5785278649559954, 0.5866589672846199, 0.29332948364230993, 0.5341710946450807, 0.05169397690113685, 0.2240072332382597, 0.15508193070341056, 0.034462651267424566, 0.03279701943115414, 0.06559403886230827, 0.06559403886230827, 0.2951731748803872, 0.5247523108984662, 0.6061303991155697, 0.8650941802886496, 0.45566804551000745, 0.24953250111262312, 0.08679391343047761, 0.08679391343047761, 0.11934163096690671, 0.30160571068372743, 0.26226583537715425, 0.22292596007058113, 0.11801962591971943, 0.09179304238200399, 0.17144925922961335, 0.17144925922961335, 0.3428985184592267, 0.04286231480740334, 0.2143115740370167, 0.1890796387696938, 0.5672389163090814, 0.3644225378080209, 0.2358028185816606, 0.1643474190114604, 0.14291079914040036, 0.09289201944126024, 0.4371594956143024, 0.15300582346500585, 0.1967217730264361, 0.08743189912286048, 0.12386185709071902, 0.29542761640739046, 0.21485644829628398, 0.322284672444426, 0.0805711681111065, 0.0805711681111065, 0.8066442510398012, 0.35616612529054803, 0.17299497514112333, 0.09158557507471235, 0.23405202519093155, 0.15264262512452056, 0.14361051495975144, 0.14361051495975144, 0.5744420598390058, 0.1413644066150243, 0.1413644066150243, 0.1413644066150243, 0.5654576264600972, 0.3201428272181106, 0.27306299968603553, 0.17890334462188534, 0.08474368955773516, 0.1412394825962253, 0.22756347663368504, 0.22756347663368504, 0.30341796884491334, 0.15170898442245667, 0.09481811526403543, 0.5334114244909904, 0.14816984013638623, 0.14816984013638623, 0.08890190408183174, 0.08890190408183174, 0.20064758190874468, 0.5350602184233192, 0.1337650546058298, 0.1337650546058298, 0.17107402488484785, 0.17107402488484785, 0.5132220746545436, 0.6289449716644946, 0.5563853879139606, 0.17486397905867335, 0.09538035221382182, 0.12717380295176242, 0.04769017610691091, 0.5290737732795702, 0.1889549190284179, 0.11337295141705074, 0.08502971356278806, 0.08502971356278806, 0.3401563704646958, 0.18627610763542865, 0.24296883604621128, 0.11338545682156527, 0.12958337922464602, 0.30117390141033035, 0.6023478028206607, 0.8255318650028342, 0.7035829435161578, 0.6061346434903022, 0.7053655246149213, 0.6289578528135719, 0.3093759658574707, 0.3093759658574707, 0.6187519317149414, 0.8651005902203514, 0.3112023948115701, 0.18672143688694204, 0.29045556849079873, 0.12448095792462803, 0.1037341316038567, 0.8082934914366507, 0.3565731288327172, 0.15503179514465965, 0.16278338490189262, 0.04650953854339789, 0.28680882101762034, 0.15023292261335033, 0.45069876784005103, 0.15023292261335033, 0.30573319564044327, 0.25940998417977007, 0.17602820355055823, 0.12970499208988504, 0.12970499208988504, 0.25190698151166174, 0.20392469931896426, 0.16793798767444115, 0.20392469931896426, 0.15594241712626677, 0.6061350919505292, 0.28674322355528503, 0.15440019729899965, 0.3529147366834277, 0.1323430262562854, 0.0661715131281427, 0.4359438888018769, 0.22419971424096527, 0.11832762696050945, 0.11209985712048263, 0.10587208728045583, 0.36206043330551124, 0.24369452241717102, 0.1114032102478496, 0.1949556179337368, 0.0870337580061325, 0.29860015764138126, 0.3483668505816115, 0.14930007882069063, 0.09953338588046043, 0.09953338588046043, 0.38695818587886127, 0.25797212391924085, 0.14677724291956806, 0.09785149527971204, 0.11119488099967278, 0.7044249803471848, 0.7035701336592072, 0.4124168980041856, 0.7563309021342947, 0.40940857198104025, 0.40940857198104025, 0.3849223854720516, 0.15396895418882064, 0.29694012593558267, 0.07698447709441032, 0.08798225953646893, 0.38160674150316676, 0.28166211872852787, 0.10903049757233337, 0.12720224716772224, 0.10903049757233337, 0.35012739128858766, 0.2979807585434789, 0.1042932654902176, 0.17133893616250034, 0.08194470859945668, 0.7642255960366587, 0.15284511920733174, 0.311904341433959, 0.2729162987547141, 0.14035695364528156, 0.21833303900377132, 0.05458325975094283, 0.22653856311600246, 0.22653856311600246, 0.19822124272650216, 0.25485588350550276, 0.08495196116850093, 0.26099464863065147, 0.7829839458919544, 0.1296605251788307, 0.1296605251788307, 0.1296605251788307, 0.6483026258941534, 0.1460497893835537, 0.5841991575342148, 0.7563225384545648, 0.32989460484879707, 0.49484190727319555, 0.3351449008493877, 0.21371558894743561, 0.15866763421855068, 0.09066721955345754, 0.2007631290112274, 0.4273582170143615, 0.7704821678029027, 0.5454392825459947, 0.07523300448910272, 0.0940412556113784, 0.20689076234503248, 0.0940412556113784, 0.6289475534977871, 0.8040624646488361, 0.411179480480638, 0.411179480480638, 0.2520784083790721, 0.4481393926739059, 0.08402613612635736, 0.08402613612635736, 0.14004356021059558, 0.6061371492590831, 0.2576208457164238, 0.24903348419254298, 0.2576208457164238, 0.13739778438209269, 0.09446097676268872, 0.20059906597335378, 0.10029953298667689, 0.6017971979200614, 0.10029953298667689, 0.10029953298667689, 0.09989794464663469, 0.09989794464663469, 0.19979588929326939, 0.5993876678798081, 0.1837302985231495, 0.1837302985231495, 0.45932574630787376, 0.09186514926157476, 0.09186514926157476, 0.033663863996057024, 0.06732772799211405, 0.10099159198817106, 0.1683193199802851, 0.6396134159250834, 0.7657724403524596, 0.12762874005874328, 0.12762874005874328, 0.36617169201065386, 0.21082612570310375, 0.22192223758221447, 0.07767278315377506, 0.11096111879110723, 0.7620245901552055, 0.7836602936921695, 0.2786421732015846, 0.5572843464031692, 0.7849991993878861, 0.08722213326532068, 0.08722213326532068, 0.08722213326532068, 0.3330813548138004, 0.31087593115954704, 0.13323254192552014, 0.07771898278988676, 0.15543796557977352, 0.6289360506720193, 0.8199876786908844, 0.6289355275008234, 0.6289419612107376, 0.17110772565692556, 0.15209575613948936, 0.3041915122789787, 0.19011969517436172, 0.19011969517436172, 0.24656189144140178, 0.24656189144140178, 0.49312378288280356, 0.18788125945791553, 0.09394062972895777, 0.46970314864478885, 0.09394062972895777, 0.18788125945791553, 0.29504254831393917, 0.11801701932557568, 0.3343815547557977, 0.11801701932557568, 0.13768652254650496, 0.865254152170688, 0.07129202487416313, 0.14258404974832625, 0.07129202487416313, 0.2851680994966525, 0.42775214924497873, 0.40793970447893163, 0.40793970447893163, 0.08691433285460165, 0.08691433285460165, 0.08691433285460165, 0.08691433285460165, 0.6084003299822115, 0.8211656079802814, 0.7804982476150772, 0.6289504297120323, 0.8131001811796206, 0.21675915009737087, 0.10837957504868544, 0.379328512670399, 0.10837957504868544, 0.16256936257302815, 0.6289536397535838, 0.6289508845961121, 0.41931663155576915, 0.3011267493308013, 0.42157744906312183, 0.0903380247992404, 0.0903380247992404, 0.10539436226578046, 0.7838130186635562, 0.0712557289694142, 0.0712557289694142, 0.0712557289694142, 0.27897879105894136, 0.5579575821178827, 0.13948939552947068, 0.06974469776473534, 0.06974469776473534, 0.23819640771850892, 0.47639281543701784, 0.15349067009601317, 0.434890231938704, 0.10232711339734211, 0.20465422679468423, 0.10232711339734211, 0.31745480692013267, 0.6349096138402653, 0.38155279299373024, 0.25126647343489555, 0.06514315977941736, 0.16751098228993036, 0.1302863195588347, 0.3842752503341679, 0.23887380426178004, 0.15578726364898698, 0.07270072303619392, 0.1661730812255861, 0.30878200974171643, 0.30878200974171643, 0.6175640194834329, 0.08617993893773312, 0.08617993893773312, 0.08617993893773312, 0.17235987787546625, 0.6032595725641319, 0.7913269486159461, 0.6144390527509386, 0.21944251883962093, 0.06583275565188629, 0.043888503767924185, 0.043888503767924185, 0.8156363419299114, 0.11651947741855877, 0.4512755892746861, 0.20734283831539632, 0.1219663754796449, 0.14635965057557387, 0.06098318773982245, 0.6493760615333651, 0.14985601420000733, 0.12488001183333944, 0.049952004733335775, 0.03746400355000183, 0.5048279165630631, 0.20022710614737527, 0.09372332628175012, 0.12354438464412516, 0.0766827215032501, 0.648369063040721, 0.3084321900839037, 0.6168643801678074, 0.18416910033228617, 0.1647828792446771, 0.2229415425075043, 0.08723799489424082, 0.3392588690331587, 0.24454612743178225, 0.4890922548635645, 0.5826739951670781, 0.13984175884009875, 0.09322783922673249, 0.11653479903341561, 0.06992087942004938, 0.2905519531226868, 0.0726379882806717, 0.0726379882806717, 0.1452759765613434, 0.43582792968403017, 0.5075262083132334, 0.228386793740955, 0.1141933968704775, 0.10150524166264667, 0.06344077603915417, 0.08721451574317433, 0.08721451574317433, 0.17442903148634867, 0.6105016102022204, 0.2552663102259962, 0.2339941177071632, 0.3190828877824953, 0.08508877007533207, 0.1276331551129981, 0.24638798921634486, 0.08212932973878162, 0.657034637910253, 0.254168158212263, 0.762504474636789, 0.6342969935993079, 0.14637622929214797, 0.04879207643071599, 0.09758415286143197, 0.6398811589930158, 0.628939242484122, 0.8051006824210338, 0.43362428402252223, 0.15532810173941095, 0.18121611869597945, 0.07119204663056336, 0.16180010597855307, 0.7562874732538654, 0.7571640931233085, 0.4718031734803995, 0.1286735927673817, 0.0943606346960799, 0.15440831132085803, 0.15440831132085803, 0.22283720076900643, 0.22283720076900643, 0.11141860038450321, 0.44567440153801285, 0.11141860038450321, 0.7043692538458711, 0.6289553043038051, 0.5977623278555892, 0.11955246557111784, 0.1537103128771515, 0.06831569461206734, 0.05123677095905051, 0.6061372235877331, 0.6885983311676969, 0.22953277705589895, 0.18947088818136149, 0.7578835527254459, 0.18947088818136149, 0.2410929600599016, 0.2410929600599016, 0.40182160009983603, 0.1607286400399344, 0.795702759634033, 0.11951009836893955, 0.26889772133011397, 0.14938762296117444, 0.3884078196990535, 0.08963257377670467, 0.667384846751098, 0.1334769693502196, 0.1334769693502196, 0.6517887684341305, 0.7563435485205937, 0.6061362626982006, 0.24326728808474202, 0.10425740917917516, 0.2085148183583503, 0.34752469726391716, 0.13900987890556687, 0.4219814967562154, 0.4219814967562154, 0.6528419865050694, 0.46538361789772803, 0.15390639332050848, 0.131919765703293, 0.1502419553843059, 0.09893982427746974, 0.13008328325467755, 0.5203331330187102, 0.06504164162733878, 0.19512492488201633, 0.13008328325467755, 0.7036102249880518, 0.22786013726191234, 0.5696503431547808, 0.11393006863095617, 0.11393006863095617, 0.3990069009700316, 0.6932156476930037, 0.11553594128216728, 0.11553594128216728, 0.7037786106810616, 0.6289545273063779, 0.12683292886359462, 0.634164644317973, 0.12683292886359462, 0.12683292886359462, 0.2566529033038789, 0.4277548388397982, 0.11406795702394619, 0.057033978511973095, 0.14258494627993273, 0.7036082580479517, 0.8130363564488348, 0.628940700554887, 0.37500808046499223, 0.2035758151095672, 0.09643064926242657, 0.1500032321859969, 0.18214678194013909, 0.7069179180708007, 0.6091320753421615, 0.16920335426171154, 0.06768134170468461, 0.10152201255702692, 0.033840670852342304, 0.8645322304561621, 0.4109048464638118, 0.33474052668102106, 0.19495876828674852, 0.24277884352689438, 0.1434602257204376, 0.08092628117563146, 0.5151822495314653, 0.3299443833174332, 0.5499073055290553, 0.10998146110581106, 0.10998146110581106, 0.33804838541983917, 0.27595786564884833, 0.08278735969465449, 0.20696839923663624, 0.09658525297709691, 0.6289344281696349, 0.7963113176052031, 0.259813272321688, 0.3828827171056455, 0.1367438275377305, 0.1367438275377305, 0.08204629652263831, 0.7967076941926334, 0.254214797262304, 0.1640095466208413, 0.39362291189001913, 0.12300715996563098, 0.05740334131729446, 0.3733222671250198, 0.7466445342500396, 0.2514651052208286, 0.2249950941449519, 0.21176008860701356, 0.23823009968289025, 0.06617502768969173, 0.18755827202288514, 0.3029787471138914, 0.10099291570463045, 0.25969606895476405, 0.1442755938637578, 0.6289325992175339, 0.8130763522944372, 0.7563260758215008, 0.4049182933978701, 0.1450453588290878, 0.19641559008105638, 0.13295824559333047, 0.11784935404863384, 0.9074393040878413, 0.7037150918076243, 0.6289420465748344, 0.7036369376900842, 0.08086277874480377, 0.08086277874480377, 0.08086277874480377, 0.24258833623441128, 0.5660394512136263, 0.8651680036875988, 0.6061266638231916, 0.4866706980645536, 0.2433353490322768, 0.1084714532594291, 0.1084714532594291, 0.2169429065188582, 0.5423572662971454, 0.8651909826329814, 0.8544916299565343, 0.5674539051589254, 0.19774908816144368, 0.09457565085982089, 0.09457565085982089, 0.051586718650811395, 0.6981788491269328, 0.23272628304231094, 0.364315532030205, 0.09774319152029891, 0.035542978734654146, 0.31988680861188734, 0.17771489367327076, 0.28231048166267925, 0.13029714538277504, 0.15201333627990424, 0.28231048166267925, 0.13029714538277504, 0.1473299620625258, 0.1473299620625258, 0.5893198482501032, 0.690905903581471, 0.23030196786049031, 0.8130902286883583, 0.38384387675009846, 0.26101383619006696, 0.10747628549002756, 0.19959881591005119, 0.04606126521001182, 0.5928095255041091, 0.15960256455879862, 0.045600732731085315, 0.09120146546217063, 0.1140018318277133, 0.62895081097078, 0.8140991478931879, 0.16031873406336627, 0.4809562021900988, 0.32063746812673255, 0.4321631923862108, 0.08203485513897842, 0.08203485513897842, 0.08203485513897842, 0.08203485513897842, 0.7383136962508058, 0.8651856305901231, 0.8130864434853483], \"Term\": [\"11\", \"11\", \"11\", \"1202016\", \"2\", \"2\", \"2\", \"2\", \"2\", \"2002\", \"21month\", \"29aug\", \"absolutely\", \"absolutely\", \"absolutely\", \"absolutely\", \"absolutely\", \"afs\", \"afs\", \"afs\", \"afs\", \"afs\", \"ago\", \"ago\", \"ago\", \"ago\", \"ago\", \"ainsi\", \"air\", \"air\", \"air\", \"air\", \"air\", \"air_conditioning\", \"air_conditioning\", \"answered_question\", \"answered_question\", \"answered_question\", \"answered_question\", \"answered_question\", \"anthony\", \"anthony\", \"anthony\", \"anthony\", \"anthony\", \"approval\", \"ariel\", \"ariel\", \"arise\", \"aubrey\", \"autant\", \"basement\", \"basement\", \"basement\", \"basement\", \"basement\", \"basement_system\", \"basement_system\", \"basement_system\", \"basement_system\", \"basement_system\", \"basement_system_usa\", \"basement_system_usa\", \"basement_system_usa\", \"basement_system_usa\", \"basement_system_usa\", \"bb\", \"beyond\", \"beyond\", \"beyond\", \"beyond\", \"beyond\", \"billed\", \"blair\", \"bowed\", \"bringing\", \"brock\", \"broke\", \"broke\", \"buried\", \"call\", \"call\", \"call\", \"call\", \"call\", \"called\", \"called\", \"called\", \"called\", \"called\", \"canterbury\", \"cantey\", \"cantey\", \"carpet\", \"carpet\", \"carpet\", \"carpet\", \"carpet\", \"catering\", \"cavity\", \"cbs\", \"cbs\", \"cbs\", \"cbs\", \"cbs\", \"cette\", \"cf\", \"check\", \"check\", \"check\", \"check\", \"check\", \"chief\", \"chris_wilk_crew\", \"chris_wilk_crew\", \"chris_wilk_crew\", \"cinder\", \"city\", \"city\", \"clean\", \"clean\", \"clean\", \"clean\", \"clean\", \"cleaned\", \"cleaned\", \"cleaned\", \"cleaned\", \"cleaned\", \"clinton\", \"clinton\", \"cody\", \"cody\", \"cole\", \"colorado\", \"compagnie\", \"compagnie\", \"compagnie\", \"company\", \"company\", \"company\", \"company\", \"company\", \"completed\", \"completed\", \"completed\", \"completed\", \"completed\", \"concrete\", \"concrete\", \"concrete\", \"concrete\", \"concrete\", \"conover\", \"conscious\", \"consultation\", \"consultation\", \"continue\", \"continue\", \"continue\", \"continue\", \"continue\", \"convergent\", \"cooky\", \"corey\", \"corey\", \"corey\", \"corner\", \"corner\", \"corner\", \"corner\", \"couldnt_pleased\", \"couldnt_pleased\", \"couldnt_pleased\", \"couldnt_pleased\", \"couldve\", \"courteous\", \"courteous\", \"courteous\", \"courteous\", \"courteous\", \"crawl_space\", \"crawl_space\", \"crawl_space\", \"crawl_space\", \"crawl_space\", \"crew\", \"crew\", \"crew\", \"crew\", \"crew\", \"cruz\", \"customer_service\", \"customer_service\", \"customer_service\", \"customer_service\", \"customer_service\", \"daily\", \"daily\", \"darius\", \"darius\", \"daughter\", \"daughter\", \"david\", \"david\", \"david\", \"david\", \"david\", \"day\", \"day\", \"day\", \"day\", \"day\", \"de\", \"de\", \"de\", \"de\", \"de\", \"decorative\", \"definately\", \"disposal\", \"dixon\", \"dixon\", \"donald\", \"donald\", \"downspout\", \"downspout\", \"driveway\", \"driveway\", \"driveway\", \"driveway\", \"driveway\", \"dry\", \"dry\", \"dry\", \"dry\", \"dry\", \"du\", \"du\", \"du\", \"d\\u00c3\\u00a9sormais\", \"easy\", \"easy\", \"easy\", \"easy\", \"easy\", \"edge\", \"efficient\", \"efficient\", \"efficient\", \"efficient\", \"efficient\", \"elected\", \"employee\", \"employee\", \"employee\", \"employee\", \"employee\", \"en\", \"en\", \"en\", \"en\", \"en\", \"est\", \"est\", \"est\", \"est\", \"estaben\", \"estaben\", \"estimate\", \"estimate\", \"estimate\", \"estimate\", \"estimate\", \"et\", \"et\", \"et\", \"et\", \"et\", \"eternally\", \"excellant\", \"excellent\", \"excellent\", \"excellent\", \"excellent\", \"excellent\", \"excellent_job\", \"excellent_job\", \"excellent_job\", \"excellent_job\", \"excellent_job\", \"excellent_service\", \"excellent_service\", \"excellent_service\", \"excellent_service\", \"excellent_service\", \"excellent_travail\", \"excellent_travail\", \"experience\", \"experience\", \"experience\", \"experience\", \"experience\", \"explained\", \"explained\", \"explained\", \"explained\", \"explained\", \"explaining\", \"explaining\", \"explaining\", \"explaining\", \"explaining\", \"extreme\", \"extremely\", \"extremely\", \"extremely\", \"extremely\", \"extremely\", \"fait\", \"fait\", \"fait\", \"filter\", \"filter\", \"filter\", \"filter\", \"finished\", \"finished\", \"finished\", \"finished\", \"finished\", \"fixed\", \"fixed\", \"fixed\", \"fixed\", \"fixed\", \"floor\", \"floor\", \"floor\", \"floor\", \"floor\", \"follow\", \"follow\", \"follow\", \"follow\", \"food\", \"food\", \"food\", \"fortunate\", \"found\", \"found\", \"found\", \"found\", \"found\", \"foundation\", \"foundation\", \"foundation\", \"foundation\", \"foundation\", \"friendly\", \"friendly\", \"friendly\", \"friendly\", \"friendly\", \"gannon\", \"gannon\", \"garth\", \"gatlin\", \"ghost\", \"gilland\", \"gio\", \"grant\", \"grant\", \"grant\", \"grill\", \"gsm\", \"gsm\", \"gsm\", \"gsm\", \"gsm\", \"guest\", \"guy\", \"guy\", \"guy\", \"guy\", \"guy\", \"hammer\", \"hammer\", \"hammer\", \"happy\", \"happy\", \"happy\", \"happy\", \"happy\", \"hard\", \"hard\", \"hard\", \"hard\", \"hard\", \"heffeman\", \"helpful\", \"helpful\", \"helpful\", \"helpful\", \"helpful\", \"highly_recommend\", \"highly_recommend\", \"highly_recommend\", \"highly_recommend\", \"highly_recommend\", \"home\", \"home\", \"home\", \"home\", \"home\", \"hour\", \"hour\", \"hour\", \"hour\", \"hour\", \"house\", \"house\", \"house\", \"house\", \"house\", \"incident\", \"includes\", \"inconvenience\", \"increase\", \"informing\", \"informing\", \"install\", \"install\", \"install\", \"install\", \"install\", \"installation\", \"installation\", \"installation\", \"installation\", \"installation\", \"installed\", \"installed\", \"installed\", \"installed\", \"installed\", \"integrity\", \"integrity\", \"issue\", \"issue\", \"issue\", \"issue\", \"issue\", \"jacob\", \"jacob\", \"jacob\", \"jacob\", \"jacob\", \"jai\", \"jai\", \"je\", \"je\", \"je\", \"je\", \"je_recommande\", \"je_recommande\", \"jeramie\", \"jim\", \"jim\", \"job\", \"job\", \"job\", \"job\", \"job\", \"joshua\", \"jours\", \"juan\", \"juan\", \"juan\", \"juan\", \"juan\", \"julie\", \"kai\", \"kaleb\", \"kaleb\", \"kept\", \"kept\", \"kept\", \"kept\", \"kept\", \"kern\", \"knowledgeable\", \"knowledgeable\", \"knowledgeable\", \"knowledgeable\", \"knowledgeable\", \"kyle\", \"kyle\", \"kyle\", \"kyle\", \"kyle\", \"la\", \"la\", \"la\", \"la\", \"larry\", \"larry\", \"larry\", \"larry\", \"larry\", \"le\", \"le\", \"le\", \"le\", \"le\", \"lead\", \"lead\", \"lead\", \"left\", \"left\", \"left\", \"left\", \"left\", \"lemon\", \"lewis\", \"livable\", \"livable\", \"local\", \"local\", \"local\", \"local\", \"look\", \"look\", \"look\", \"look\", \"look\", \"lupoli\", \"malotky\", \"man\", \"mcdonald\", \"mike\", \"mike\", \"mike\", \"mike\", \"mike\", \"mo\", \"mo\", \"mo\", \"ne\", \"ne\", \"ne\", \"ne\", \"ne\", \"nice\", \"nice\", \"nice\", \"nice\", \"nice\", \"nj\", \"nous\", \"nous\", \"nous\", \"nous\", \"nous\", \"online\", \"online\", \"ont\", \"ont\", \"ont\", \"ont\", \"ont\", \"orville\", \"oscar\", \"outassessed\", \"pablo\", \"patient\", \"patient\", \"patient\", \"patient\", \"patient\", \"pattern\", \"paver\", \"penny\", \"people\", \"people\", \"people\", \"people\", \"people\", \"perfect\", \"perfect\", \"perfect\", \"perfect\", \"person\", \"person\", \"person\", \"person\", \"person\", \"pete\", \"pete\", \"pipe\", \"pipe\", \"pipe\", \"pipe\", \"pipe\", \"piping\", \"piping\", \"pleased\", \"pleased\", \"pleased\", \"pleased\", \"pleased\", \"polite\", \"polite\", \"polite\", \"polite\", \"polite\", \"pound\", \"pound\", \"pound\", \"pour\", \"pour\", \"pour\", \"pour\", \"pour\", \"preparing\", \"price\", \"price\", \"price\", \"price\", \"price\", \"pricing\", \"pricing\", \"process\", \"process\", \"process\", \"process\", \"process\", \"product\", \"product\", \"product\", \"product\", \"product\", \"professional\", \"professional\", \"professional\", \"professional\", \"professional\", \"professionnalisme\", \"program\", \"program\", \"project\", \"project\", \"project\", \"project\", \"project\", \"proofing\", \"proofing\", \"provided\", \"provided\", \"provided\", \"provided\", \"provided\", \"putting\", \"putting\", \"putting\", \"putting\", \"putting\", \"quality\", \"quality\", \"quality\", \"quality\", \"quality\", \"que\", \"que\", \"que\", \"que\", \"quickly\", \"quickly\", \"quickly\", \"quickly\", \"quickly\", \"quinton\", \"quinton\", \"quinton\", \"rashad\", \"rashad\", \"reasonable\", \"reasonable\", \"reasonable\", \"reasonable\", \"rebecca\", \"recaulked\", \"receiving\", \"recommend\", \"recommend\", \"recommend\", \"recommend\", \"recommend\", \"reggie\", \"rene\", \"repair\", \"repair\", \"repair\", \"repair\", \"repair\", \"replacement\", \"replacement\", \"replacement\", \"replacement\", \"replacement\", \"represents\", \"reset\", \"result\", \"result\", \"result\", \"result\", \"result\", \"retains\", \"ricky\", \"ricky\", \"riley\", \"riley\", \"riley\", \"rock\", \"rock\", \"rock\", \"rock\", \"rusted\", \"ryan\", \"ryan\", \"ryan\", \"ryan\", \"ryan\", \"salesperson\", \"salesperson\", \"salesperson\", \"satisfait\", \"scary\", \"schiessl\", \"sean\", \"sean\", \"sean\", \"sean\", \"sean\", \"search\", \"search\", \"sec\", \"service\", \"service\", \"service\", \"service\", \"service\", \"service_tech\", \"service_tech\", \"service_tech\", \"service_tech\", \"service_tech\", \"settlement\", \"sid\", \"sid\", \"sid\", \"sid\", \"signing\", \"smoothly\", \"smoothly\", \"smoothly\", \"specification\", \"stamped\", \"stand\", \"stand\", \"stand\", \"stand\", \"standard\", \"standard\", \"standard\", \"standard\", \"standard\", \"stood\", \"substantially\", \"summit\", \"sump_pump\", \"sump_pump\", \"sump_pump\", \"sump_pump\", \"sump_pump\", \"supplier\", \"support\", \"support\", \"support\", \"support\", \"support\", \"suspected\", \"sykes\", \"system\", \"system\", \"system\", \"system\", \"system\", \"syst\\u00c3\\u00a8me\", \"taking\", \"taking\", \"taking\", \"taking\", \"team\", \"team\", \"team\", \"team\", \"team\", \"technicianquinton\", \"teddy\", \"thank\", \"thank\", \"thank\", \"thank\", \"thank\", \"thankfully\", \"thanks\", \"thanks\", \"thanks\", \"thanks\", \"thanks\", \"theyre\", \"theyre\", \"thorough\", \"thorough\", \"thorough\", \"thorough\", \"thorough\", \"thrasher\", \"thrasher\", \"thrasher\", \"thrasher\", \"thrasher\", \"thrasher\\u00e2\\u20ac\\u2122s\", \"tied\", \"tilted\", \"time\", \"time\", \"time\", \"time\", \"time\", \"todd\", \"townsend\", \"trenchless\", \"trey\", \"tr\\u00c3\\u00a8s\", \"tr\\u00c3\\u00a8s\", \"tr\\u00c3\\u00a8s\", \"tr\\u00c3\\u00a8s\", \"tr\\u00c3\\u00a8s\", \"tw\", \"typing\", \"tyson\", \"tyson\", \"un\", \"un\", \"un\", \"un\", \"unconditionally\", \"underground\", \"wall\", \"wall\", \"wall\", \"wall\", \"wall\", \"warren\", \"warren\", \"water\", \"water\", \"water\", \"water\", \"water\", \"waterproofing\", \"waterproofing\", \"waterproofing\", \"waterproofing\", \"waterproofing\", \"weekend\", \"weekend\", \"weekend\", \"win\", \"win\", \"withdan\", \"wood\", \"wood\", \"wood\", \"wood\", \"wood\", \"wood_basement_system\", \"wood_basement_system\", \"wood_basement_system\", \"wood_basement_system\", \"wood_basement_system\", \"wouldn\\u00e2\\u20ac\\u2122t\", \"yancey\", \"\\u00c3\\u00a9quipe\", \"\\u00c3\\u00a9quipe\", \"\\u00c3\\u00a9quipe\", \"\\u00c3\\u00a9quipes\", \"\\u00c3\\u00a9t\\u00c3\\u00a9\", \"\\u00c3\\u00a9t\\u00c3\\u00a9\", \"\\u00c3\\u00a9t\\u00c3\\u00a9\", \"\\u00c3\\u00a9t\\u00c3\\u00a9\", \"\\u00c3\\u00a9t\\u00c3\\u00a9\", \"\\u00c3\\u2014\", \"\\u00e2\\u20ac\\u201d\"]}, \"mdsDat\": {\"y\": [-0.0009298394679465071, -0.007896473374599778, 0.04162172349544949, -0.04428121179866196, 0.011485801145758768], \"cluster\": [1, 1, 1, 1, 1], \"Freq\": [34.57206646224865, 21.695910481831095, 16.220529593134643, 13.841894336272203, 13.669599126513418], \"topics\": [1, 2, 3, 4, 5], \"x\": [-0.033504975487395734, -0.018803789581715427, -0.016079400467726143, 0.0053056164670014574, 0.06308254906983592]}, \"R\": 30, \"lambda.step\": 0.01, \"tinfo\": {\"Category\": [\"Default\", \"Default\", \"Default\", \"Default\", \"Default\", \"Default\", \"Default\", \"Default\", \"Default\", \"Default\", \"Default\", \"Default\", \"Default\", \"Default\", \"Default\", \"Default\", \"Default\", \"Default\", \"Default\", \"Default\", \"Default\", \"Default\", \"Default\", \"Default\", \"Default\", \"Default\", \"Default\", \"Default\", \"Default\", \"Default\", \"Topic1\", \"Topic1\", \"Topic1\", \"Topic1\", \"Topic1\", \"Topic1\", \"Topic1\", \"Topic1\", \"Topic1\", \"Topic1\", \"Topic1\", \"Topic1\", \"Topic1\", \"Topic1\", \"Topic1\", \"Topic1\", \"Topic1\", \"Topic1\", \"Topic1\", \"Topic1\", \"Topic1\", \"Topic1\", \"Topic1\", \"Topic1\", \"Topic1\", \"Topic1\", \"Topic1\", \"Topic1\", \"Topic1\", \"Topic1\", \"Topic1\", \"Topic1\", \"Topic1\", \"Topic1\", \"Topic1\", \"Topic1\", \"Topic1\", \"Topic1\", \"Topic1\", \"Topic1\", \"Topic1\", \"Topic1\", \"Topic1\", \"Topic1\", \"Topic1\", \"Topic1\", \"Topic1\", \"Topic1\", \"Topic1\", \"Topic1\", \"Topic1\", \"Topic1\", \"Topic1\", \"Topic1\", \"Topic1\", \"Topic1\", \"Topic1\", \"Topic1\", \"Topic1\", \"Topic1\", \"Topic1\", \"Topic1\", \"Topic1\", \"Topic1\", \"Topic1\", \"Topic1\", \"Topic1\", \"Topic1\", \"Topic1\", \"Topic1\", \"Topic1\", \"Topic1\", \"Topic1\", \"Topic1\", \"Topic1\", \"Topic1\", \"Topic1\", \"Topic1\", \"Topic2\", \"Topic2\", \"Topic2\", \"Topic2\", \"Topic2\", \"Topic2\", \"Topic2\", \"Topic2\", \"Topic2\", \"Topic2\", \"Topic2\", \"Topic2\", \"Topic2\", \"Topic2\", \"Topic2\", \"Topic2\", \"Topic2\", \"Topic2\", \"Topic2\", \"Topic2\", \"Topic2\", \"Topic2\", \"Topic2\", \"Topic2\", \"Topic2\", \"Topic2\", \"Topic2\", \"Topic2\", \"Topic2\", \"Topic2\", \"Topic2\", \"Topic2\", \"Topic2\", \"Topic2\", \"Topic2\", \"Topic2\", \"Topic2\", \"Topic2\", \"Topic2\", \"Topic2\", \"Topic2\", \"Topic2\", \"Topic2\", \"Topic2\", \"Topic2\", \"Topic2\", \"Topic2\", \"Topic2\", \"Topic2\", \"Topic2\", \"Topic2\", \"Topic2\", \"Topic2\", \"Topic2\", \"Topic2\", \"Topic2\", \"Topic2\", \"Topic2\", \"Topic2\", \"Topic2\", \"Topic2\", \"Topic2\", \"Topic2\", \"Topic2\", \"Topic2\", \"Topic2\", \"Topic2\", \"Topic2\", \"Topic2\", \"Topic2\", \"Topic2\", \"Topic2\", \"Topic2\", \"Topic2\", \"Topic2\", \"Topic2\", \"Topic2\", \"Topic3\", \"Topic3\", \"Topic3\", \"Topic3\", \"Topic3\", \"Topic3\", \"Topic3\", \"Topic3\", \"Topic3\", \"Topic3\", \"Topic3\", \"Topic3\", \"Topic3\", \"Topic3\", \"Topic3\", \"Topic3\", \"Topic3\", \"Topic3\", \"Topic3\", \"Topic3\", \"Topic3\", \"Topic3\", \"Topic3\", \"Topic3\", \"Topic3\", \"Topic3\", \"Topic3\", \"Topic3\", \"Topic3\", \"Topic3\", \"Topic3\", \"Topic3\", \"Topic3\", \"Topic3\", \"Topic3\", \"Topic3\", \"Topic3\", \"Topic3\", \"Topic3\", \"Topic3\", \"Topic3\", \"Topic3\", \"Topic3\", \"Topic3\", \"Topic3\", \"Topic3\", \"Topic3\", \"Topic3\", \"Topic3\", \"Topic3\", \"Topic3\", \"Topic3\", \"Topic3\", \"Topic3\", \"Topic3\", \"Topic3\", \"Topic3\", \"Topic3\", \"Topic3\", \"Topic3\", \"Topic3\", \"Topic3\", \"Topic3\", \"Topic3\", \"Topic3\", \"Topic3\", \"Topic3\", \"Topic3\", \"Topic3\", \"Topic3\", \"Topic3\", \"Topic3\", \"Topic3\", \"Topic3\", \"Topic3\", \"Topic3\", \"Topic3\", \"Topic3\", \"Topic3\", \"Topic3\", \"Topic3\", \"Topic3\", \"Topic3\", \"Topic3\", \"Topic3\", \"Topic4\", \"Topic4\", \"Topic4\", \"Topic4\", \"Topic4\", \"Topic4\", \"Topic4\", \"Topic4\", \"Topic4\", \"Topic4\", \"Topic4\", \"Topic4\", \"Topic4\", \"Topic4\", \"Topic4\", \"Topic4\", \"Topic4\", \"Topic4\", \"Topic4\", \"Topic4\", \"Topic4\", \"Topic4\", \"Topic4\", \"Topic4\", \"Topic4\", \"Topic4\", \"Topic4\", \"Topic4\", \"Topic4\", \"Topic4\", \"Topic4\", \"Topic4\", \"Topic4\", \"Topic4\", \"Topic4\", \"Topic4\", \"Topic4\", \"Topic4\", \"Topic4\", \"Topic4\", \"Topic4\", \"Topic4\", \"Topic4\", \"Topic4\", \"Topic4\", \"Topic4\", \"Topic4\", \"Topic4\", \"Topic4\", \"Topic4\", \"Topic4\", \"Topic4\", \"Topic4\", \"Topic4\", \"Topic4\", \"Topic4\", \"Topic4\", \"Topic4\", \"Topic4\", \"Topic4\", \"Topic4\", \"Topic4\", \"Topic4\", \"Topic4\", \"Topic4\", \"Topic4\", \"Topic4\", \"Topic4\", \"Topic4\", \"Topic4\", \"Topic4\", \"Topic4\", \"Topic4\", \"Topic4\", \"Topic4\", \"Topic4\", \"Topic4\", \"Topic4\", \"Topic4\", \"Topic4\", \"Topic4\", \"Topic4\", \"Topic4\", \"Topic4\", \"Topic4\", \"Topic4\", \"Topic5\", \"Topic5\", \"Topic5\", \"Topic5\", \"Topic5\", \"Topic5\", \"Topic5\", \"Topic5\", \"Topic5\", \"Topic5\", \"Topic5\", \"Topic5\", \"Topic5\", \"Topic5\", \"Topic5\", \"Topic5\", \"Topic5\", \"Topic5\", \"Topic5\", \"Topic5\", \"Topic5\", \"Topic5\", \"Topic5\", \"Topic5\", \"Topic5\", \"Topic5\", \"Topic5\", \"Topic5\", \"Topic5\", \"Topic5\", \"Topic5\", \"Topic5\", \"Topic5\", \"Topic5\", \"Topic5\", \"Topic5\", \"Topic5\", \"Topic5\", \"Topic5\", \"Topic5\", \"Topic5\", \"Topic5\", \"Topic5\", \"Topic5\", \"Topic5\", \"Topic5\", \"Topic5\", \"Topic5\", \"Topic5\", \"Topic5\", \"Topic5\", \"Topic5\", \"Topic5\", \"Topic5\", \"Topic5\", \"Topic5\", \"Topic5\", \"Topic5\", \"Topic5\", \"Topic5\", \"Topic5\", \"Topic5\", \"Topic5\", \"Topic5\", \"Topic5\", \"Topic5\", \"Topic5\", \"Topic5\", \"Topic5\", \"Topic5\", \"Topic5\", \"Topic5\", \"Topic5\", \"Topic5\", \"Topic5\", \"Topic5\", \"Topic5\", \"Topic5\", \"Topic5\"], \"Term\": [\"job\", \"water\", \"project\", \"basement\", \"thanks\", \"de\", \"guy\", \"le\", \"system\", \"crew\", \"home\", \"et\", \"time\", \"clean\", \"issue\", \"team\", \"thrasher\", \"thank\", \"cleaned\", \"knowledgeable\", \"extremely\", \"day\", \"customer_service\", \"ryan\", \"called\", \"afs\", \"crawl_space\", \"mike\", \"thorough\", \"\\u00c3\\u00a9t\\u00c3\\u00a9\", \"garth\", \"aubrey\", \"todd\", \"afs\", \"oscar\", \"lewis\", \"local\", \"cantey\", \"preparing\", \"cf\", \"brock\", \"includes\", \"gatlin\", \"settlement\", \"stood\", \"trey\", \"townsend\", \"29aug\", \"specification\", \"pricing\", \"incident\", \"represents\", \"thankfully\", \"gilland\", \"definately\", \"supplier\", \"chief\", \"perfect\", \"integrity\", \"darius\", \"air_conditioning\", \"salesperson\", \"product\", \"anthony\", \"david\", \"professional\", \"wall\", \"result\", \"reasonable\", \"price\", \"wood_basement_system\", \"absolutely\", \"provided\", \"found\", \"support\", \"foundation\", \"company\", \"service\", \"call\", \"answered_question\", \"juan\", \"floor\", \"time\", \"estimate\", \"quality\", \"crew\", \"repair\", \"basement\", \"job\", \"highly_recommend\", \"recommend\", \"explained\", \"house\", \"home\", \"excellent\", \"system\", \"day\", \"experience\", \"process\", \"installed\", \"guy\", \"team\", \"called\", \"installation\", \"pleased\", \"friendly\", \"water\", \"issue\", \"cooky\", \"lead\", \"cinder\", \"reggie\", \"colorado\", \"bowed\", \"jeramie\", \"tilted\", \"increase\", \"couldve\", \"scary\", \"conscious\", \"approval\", \"win\", \"smoothly\", \"lemon\", \"corey\", \"riley\", \"warren\", \"ricky\", \"stand\", \"rene\", \"canterbury\", \"clinton\", \"broke\", \"livable\", \"estaben\", \"consultation\", \"theyre\", \"dixon\", \"daily\", \"chris_wilk_crew\", \"sid\", \"follow\", \"person\", \"corner\", \"thank\", \"people\", \"crew\", \"ago\", \"company\", \"pipe\", \"kept\", \"standard\", \"easy\", \"efficient\", \"basement_system\", \"job\", \"basement\", \"installed\", \"service_tech\", \"basement_system_usa\", \"home\", \"house\", \"team\", \"professional\", \"hour\", \"look\", \"issue\", \"installation\", \"finished\", \"dry\", \"system\", \"courteous\", \"highly_recommend\", \"experience\", \"knowledgeable\", \"happy\", \"day\", \"time\", \"pleased\", \"service\", \"excellent\", \"clean\", \"polite\", \"recommend\", \"friendly\", \"blair\", \"pablo\", \"\\u00e2\\u20ac\\u201d\", \"withdan\", \"tied\", \"substantially\", \"yancey\", \"guest\", \"arise\", \"daughter\", \"disposal\", \"extreme\", \"receiving\", \"orville\", \"teddy\", \"malotky\", \"kai\", \"gannon\", \"sykes\", \"kyle\", \"rusted\", \"retains\", \"21month\", \"ghost\", \"eternally\", \"kern\", \"typing\", \"cavity\", \"schiessl\", \"heffeman\", \"signing\", \"tyson\", \"taking\", \"jim\", \"pete\", \"inconvenience\", \"weekend\", \"hammer\", \"thanks\", \"ne\", \"couldnt_pleased\", \"cleaned\", \"continue\", \"larry\", \"system\", \"helpful\", \"install\", \"nice\", \"driveway\", \"knowledgeable\", \"crew\", \"time\", \"quickly\", \"patient\", \"job\", \"friendly\", \"2\", \"clean\", \"mike\", \"fixed\", \"crawl_space\", \"day\", \"explaining\", \"project\", \"excellent_service\", \"explained\", \"air\", \"left\", \"gsm\", \"recommend\", \"basement\", \"house\", \"service\", \"company\", \"professional\", \"experience\", \"home\", \"excellent_job\", \"courteous\", \"guy\", \"finished\", \"happy\", \"thank\", \"highly_recommend\", \"issue\", \"rebecca\", \"buried\", \"donald\", \"underground\", \"quinton\", \"downspout\", \"decorative\", \"penny\", \"catering\", \"bb\", \"gio\", \"reset\", \"pattern\", \"stamped\", \"paver\", \"wouldn\\u00e2\\u20ac\\u2122t\", \"outassessed\", \"edge\", \"trenchless\", \"julie\", \"recaulked\", \"2002\", \"mcdonald\", \"fortunate\", \"summit\", \"thrasher\\u00e2\\u20ac\\u2122s\", \"cole\", \"man\", \"lupoli\", \"technicianquinton\", \"cody\", \"proofing\", \"informing\", \"check\", \"joshua\", \"mo\", \"ryan\", \"piping\", \"\\u00c3\\u00a9quipe\", \"search\", \"water\", \"replacement\", \"online\", \"grant\", \"program\", \"food\", \"pound\", \"11\", \"conover\", \"kaleb\", \"sean\", \"waterproofing\", \"home\", \"thrasher\", \"called\", \"rock\", \"basement\", \"issue\", \"et\", \"extremely\", \"team\", \"thorough\", \"clean\", \"service\", \"concrete\", \"cbs\", \"professional\", \"system\", \"hard\", \"time\", \"jacob\", \"crew\", \"installed\", \"day\", \"job\", \"pleased\", \"wood\", \"thank\", \"experience\", \"repair\", \"house\", \"highly_recommend\", \"knowledgeable\", \"company\", \"thanks\", \"happy\", \"\\u00c3\\u00a9t\\u00c3\\u00a9\", \"cette\", \"satisfait\", \"nj\", \"unconditionally\", \"billed\", \"convergent\", \"\\u00c3\\u2014\", \"tw\", \"cruz\", \"1202016\", \"grill\", \"excellant\", \"sec\", \"professionnalisme\", \"ainsi\", \"rashad\", \"jai\", \"suspected\", \"ariel\", \"bringing\", \"elected\", \"le\", \"\\u00c3\\u00a9quipes\", \"jours\", \"d\\u00c3\\u00a9sormais\", \"autant\", \"excellent_travail\", \"ont\", \"que\", \"je_recommande\", \"syst\\u00c3\\u00a8me\", \"de\", \"pour\", \"je\", \"du\", \"et\", \"la\", \"en\", \"compagnie\", \"tr\\u00c3\\u00a8s\", \"un\", \"project\", \"fait\", \"city\", \"carpet\", \"est\", \"filter\", \"job\", \"guy\", \"putting\", \"nous\", \"basement\", \"beyond\", \"customer_service\", \"recommend\", \"time\", \"water\", \"employee\", \"crawl_space\", \"day\", \"sump_pump\", \"company\", \"completed\", \"house\", \"professional\", \"service\", \"crew\", \"repair\", \"courteous\", \"home\", \"polite\", \"explained\", \"system\", \"call\", \"extremely\", \"highly_recommend\", \"friendly\", \"finished\"], \"loglift\": [30.0, 29.0, 28.0, 27.0, 26.0, 25.0, 24.0, 23.0, 22.0, 21.0, 20.0, 19.0, 18.0, 17.0, 16.0, 15.0, 14.0, 13.0, 12.0, 11.0, 10.0, 9.0, 8.0, 7.0, 6.0, 5.0, 4.0, 3.0, 2.0, 1.0, 0.9196, 0.9196, 0.904, 0.9005, 0.8789, 0.8465, 0.8422, 0.8363, 0.8268, 0.807, 0.8065, 0.8064, 0.8063, 0.8062, 0.8061, 0.8059, 0.8053, 0.8052, 0.8027, 0.8015, 0.8001, 0.7998, 0.7925, 0.7916, 0.7911, 0.7867, 0.7859, 0.7807, 0.7757, 0.7647, 0.748, 0.7519, 0.6209, 0.67, 0.6968, 0.3788, 0.4938, 0.551, 0.6354, 0.56, 0.5465, 0.606, 0.5371, 0.4887, 0.5705, 0.4216, 0.2683, 0.2984, 0.4301, 0.4383, 0.4597, 0.4232, 0.1586, 0.4368, 0.3788, 0.0274, 0.3042, 0.0307, -0.0307, 0.2383, 0.2311, 0.2366, 0.117, 0.045, 0.2878, -0.0272, 0.0095, 0.0622, 0.2789, 0.0221, 0.039, -0.025, 0.1497, 0.0945, 0.1067, -0.0189, 0.0467, -0.0987, 1.2548, 1.2444, 1.2408, 1.2407, 1.2404, 1.2403, 1.2402, 1.2402, 1.2401, 1.24, 1.2397, 1.1923, 1.1728, 1.1631, 1.1538, 1.1455, 1.1453, 1.1362, 1.13, 1.1163, 1.1132, 1.1092, 1.0922, 1.0866, 1.0815, 1.0699, 1.0629, 1.0606, 1.0568, 1.0567, 1.0443, 1.0168, 0.9906, 0.9207, 0.9001, 0.8781, 0.5724, 0.6746, 0.2678, 0.6844, 0.277, 0.6885, 0.6938, 0.6923, 0.6435, 0.4215, 0.5535, -0.0151, 0.0417, 0.32, 0.8299, 0.7154, 0.1128, 0.1654, 0.2511, -0.0808, 0.4695, 0.3464, 0.2385, 0.2513, 0.2448, 0.3773, -0.1122, 0.193, 0.0344, 0.0768, 0.1454, 0.168, -0.141, -0.3937, 0.1517, -0.3423, 0.138, -0.1104, 0.0745, -0.34, -0.1676, 1.5221, 1.4955, 1.4949, 1.4948, 1.4945, 1.4936, 1.4701, 1.415, 1.4064, 1.4061, 1.4049, 1.3966, 1.3766, 1.345, 1.3438, 1.3423, 1.3376, 1.3361, 1.3322, 1.3271, 1.3212, 1.2892, 1.2891, 1.2891, 1.2891, 1.2891, 1.289, 1.289, 1.289, 1.289, 1.284, 1.262, 1.2376, 1.2483, 1.2412, 1.2673, 1.1794, 1.1671, 0.8913, 1.0918, 1.1045, 0.7177, 1.076, 1.0587, 0.4095, 0.7613, 0.6166, 0.7312, 0.7157, 0.473, 0.1227, 0.1969, 0.6671, 0.9014, -0.0201, 0.3877, 0.7335, 0.3765, 0.6145, 0.6122, 0.4447, 0.1932, 0.6946, 0.3295, 0.7958, 0.1986, 0.7136, 0.3344, 0.5474, 0.1057, -0.3232, -0.1139, -0.2202, -0.3606, -0.5459, 0.0281, -0.3752, 0.3071, 0.0891, -0.0125, 0.0948, 0.0655, -0.1914, -0.3398, -0.1503, 1.6568, 1.6209, 1.5778, 1.5369, 1.521, 1.5204, 1.5089, 1.4863, 1.4738, 1.4566, 1.408, 1.408, 1.4079, 1.4079, 1.4079, 1.4079, 1.4078, 1.4078, 1.4078, 1.4077, 1.4077, 1.4077, 1.4077, 1.4077, 1.4077, 1.4076, 1.4076, 1.4076, 1.4076, 1.4075, 1.3947, 1.356, 1.3715, 1.1407, 1.3667, 1.3052, 1.0604, 1.3298, 1.2461, 1.359, 0.8455, 1.1717, 1.3443, 1.3023, 1.3013, 1.2106, 1.3006, 1.2316, 1.3355, 1.3356, 0.8852, 0.7483, 0.3469, 0.6454, 0.5475, 1.0029, 0.1618, 0.4613, 0.7851, 0.5036, 0.3951, 0.5286, 0.3598, 0.0906, 0.5097, 0.7357, -0.1091, 0.0365, 0.4063, -0.0369, 0.6528, -0.264, 0.1918, -0.0023, -0.4235, 0.1927, 0.3624, 0.0006, 0.0124, 0.0861, -0.3392, -0.1921, 0.0095, -0.905, -0.1227, -0.0392, 1.6956, 1.6927, 1.6592, 1.6334, 1.6327, 1.6327, 1.6326, 1.6326, 1.6324, 1.6321, 1.6318, 1.6318, 1.6317, 1.6206, 1.6143, 1.5986, 1.594, 1.5807, 1.5741, 1.5733, 1.5701, 1.5608, 1.5528, 1.5518, 1.5511, 1.5384, 1.5346, 1.5317, 1.5313, 1.5246, 1.5199, 1.5193, 1.4263, 1.4582, 1.4683, 1.434, 1.3393, 1.4395, 1.4359, 1.4785, 1.3502, 1.397, 0.9085, 1.4153, 1.4923, 1.2655, 1.4112, 1.4041, 0.3876, 0.7379, 1.2065, 1.1855, 0.0035, 0.762, 0.6292, 0.1651, -0.1505, 0.2719, 0.5766, 0.2889, -0.0683, 0.2668, -0.3898, 0.1706, -0.1988, -0.5758, -0.3299, -0.6492, 0.097, 0.1105, -0.438, 0.1792, -0.0786, -0.5138, 0.165, 0.1071, -0.245, -0.0696, 0.0277], \"Freq\": [617.0, 112.0, 103.0, 480.0, 121.0, 39.0, 129.0, 29.0, 271.0, 500.0, 287.0, 30.0, 330.0, 124.0, 128.0, 144.0, 69.0, 146.0, 74.0, 116.0, 98.0, 208.0, 56.0, 33.0, 103.0, 45.0, 95.0, 52.0, 75.0, 12.0, 4.201916968532425, 4.20167763721857, 6.5856369893782825, 38.76032622336484, 3.2002831592779852, 3.085563853224941, 9.201855335307103, 5.279766510917295, 2.9961610133127805, 2.2026636781463433, 2.20151951368799, 2.2012588378138687, 2.2008611518532066, 2.200552921469087, 2.200415041411139, 2.19987218303121, 2.198272105864308, 2.198084047440265, 2.1924836869012037, 6.613489122580428, 2.1846668235391493, 2.184268861915266, 2.8755667507154676, 2.163374552339178, 2.1598240122777796, 2.1480152124744625, 2.152916384007975, 10.591562281158597, 4.91307142408819, 4.199752457682727, 7.700151433993318, 5.493464135142253, 51.50775835587721, 13.778289320271508, 8.468233454198307, 237.0521580836846, 65.88458289170994, 35.119269898641, 13.375468845454199, 27.580238714014374, 26.19025666422332, 14.994589237690075, 25.380607164744223, 35.453183329313454, 18.07404403373181, 55.78057222648127, 161.88946014133134, 127.15447195548424, 47.96883402650146, 35.99733146536341, 29.10830206614848, 35.6249519044504, 134.0740304151393, 31.05319405588909, 39.796139689542535, 177.9291740042384, 54.630716017589, 171.2985999475922, 207.06830999134556, 70.45171455712428, 67.30867966941705, 60.11323721130901, 87.37577040530549, 103.87845384233515, 42.49149047043202, 91.46417517940777, 72.64119877393976, 51.488743447914445, 37.46408964057742, 47.444631459208715, 46.37343252452875, 48.87579453654496, 41.5092798143105, 41.820286388988876, 41.33334141962838, 41.88750513933251, 40.76859196420162, 40.16819453046707, 2.677104586285783, 5.900007986099414, 1.9842289308696155, 1.983967428950523, 1.9833480063940208, 1.9830629139981018, 1.983034868075771, 1.982955030925545, 1.9828156476218601, 1.9825820521673836, 1.981934081084544, 1.8759644747136892, 1.858215046444634, 3.0145725281534648, 5.953256416622189, 1.7902798095319952, 4.765082107364644, 3.5667008714673547, 2.8858027305291194, 2.8862679501664457, 5.207385515884931, 1.7374969389717154, 1.6907490636920124, 5.024756148399086, 3.275983492413413, 2.269674292927103, 2.140980249664938, 2.8472012466694996, 1.672149834074214, 3.801670226526747, 2.75911978093208, 4.55755285158959, 5.128073198645741, 8.145855677511788, 7.652340284932699, 8.792079625320396, 56.248258353125195, 28.29095344274226, 142.01199325398176, 18.323567858508998, 102.48407328182812, 16.884171544251586, 15.501749256769791, 15.202640490701908, 17.70506760318688, 33.430198334245006, 20.95040705271688, 132.00018259042164, 108.69171390746656, 40.10660752739699, 7.649338774733686, 10.883821980380434, 69.763945868295, 57.55076053915236, 40.42500071000082, 93.94783718208845, 20.915191813402785, 27.631128488897936, 35.31692933619943, 30.70226107125638, 29.432273231071566, 21.248486645387704, 52.719332003867, 29.504914813915498, 36.05587184042885, 32.78572537789038, 29.21989754017047, 27.702327467974172, 39.21773991012994, 48.43271470668573, 27.131991372292358, 42.045531408937705, 22.956139958667283, 24.272338903339282, 22.505679744293897, 23.860424119256837, 22.655937445466577, 2.4540137725195232, 1.7800061567722751, 1.7789868980580534, 1.778793292567492, 1.7782697888205445, 1.7768801277195692, 1.7333821468549844, 1.6520894296068733, 1.6489022764847345, 2.6640159531468375, 1.6434670933813413, 1.6254018093663365, 1.5961647827841134, 1.516343189476098, 1.5617032342920558, 1.5144293739296235, 1.5372140087490547, 2.048921622454088, 1.4959033577847671, 6.097177596682243, 1.527989147980233, 0.9713603372846401, 0.9713134903228993, 0.9712851423195656, 0.9712617747833021, 0.9712452924225662, 0.9712434792756741, 0.9712168713007672, 0.9712107839011558, 0.9712086614925087, 1.4679798333445697, 2.3548023603503596, 5.084164498165788, 3.4263980688868165, 2.356090776488321, 1.3966706558519235, 3.580808941047839, 3.4687229642332675, 48.231510032978726, 5.145089683313258, 4.158118070258276, 24.721144476413418, 4.740177614957904, 5.089624889308665, 66.4100943240575, 15.745684628677814, 27.323924980195397, 17.132866273383787, 14.94165453226732, 30.3114715688025, 91.82561708271805, 65.35814894256914, 14.858569941846536, 7.37276276717467, 98.19181425473586, 29.51217066793281, 11.49059411762622, 29.529399464889494, 15.773296342268885, 15.777405904032491, 24.23111528435503, 40.955739289835996, 12.096950102392896, 23.264050210710398, 8.387263331656069, 27.154036404763666, 9.878063173403207, 20.423069562371758, 13.516119653490854, 27.85544493067338, 56.415863912114816, 32.54298435468091, 35.5153870511098, 40.498465140956704, 44.11579906379215, 23.34791028085437, 32.01474343809787, 16.816237962743735, 19.88137662812397, 20.666153249849906, 18.939680717571623, 18.693387872258196, 19.59162212208788, 18.541671684662575, 17.89880371922382, 2.2681283793813596, 2.193140321316329, 2.1315208630117124, 1.5065886761801008, 7.714002641931331, 1.9574768389694615, 1.489057915467338, 1.459305572160959, 1.4241700297427393, 1.4215485239221668, 0.8996131035267195, 0.8995845689135528, 0.899559800532777, 0.899542097352991, 0.8995224620089411, 0.8995054801794805, 0.8994601472170708, 0.8994396312816139, 0.8994316990906221, 0.8994039645878483, 0.8993873245942107, 0.8993835705332996, 0.8993718298298385, 0.899349465261387, 0.8993361959079023, 0.8993164186409724, 0.899284736182087, 0.8992808432874579, 0.8992544555938895, 0.8992295423338134, 1.7490187900923393, 2.19658990152922, 1.3324875137188197, 12.489114757466796, 1.2703812774136696, 2.070631947523583, 13.377005362890042, 1.6483544218912183, 3.0018424309753717, 1.276723130669949, 36.28198855483449, 4.009697181927275, 1.3013806486394168, 1.6455188038606323, 1.6488041723860993, 2.7148680460789567, 1.6457601143342666, 2.343830811200238, 1.2809736071563687, 1.2799389418559537, 9.652202028338818, 13.470618834372125, 56.2489851294999, 18.292736834373944, 24.738236792246006, 4.69532888285631, 78.19737470634982, 28.157268813032772, 9.254101344952781, 22.50724232428192, 29.784657625574287, 17.74275894804459, 24.78238643900206, 41.35543694264151, 14.414111257564837, 8.418489329144473, 58.26770649506852, 39.028232904428656, 17.322361456699138, 44.14936854149567, 9.389558850354803, 53.23122658847646, 22.5093671759459, 28.741416765405177, 55.97617296999907, 18.0355158773184, 12.953325017022472, 20.25810351286789, 19.613352434615656, 17.587794211253104, 22.167705314796216, 18.34219624343627, 16.272277321543342, 20.05002782596729, 14.930782654156937, 14.365857216513357, 9.081070009596996, 3.411712244536504, 2.2043416505525713, 1.6180775077648506, 1.6171339049609839, 1.617059727947763, 1.6170484688568931, 1.6170006688064955, 1.6167335842946995, 1.6162477655186198, 1.6158165511348748, 1.6158307545718482, 1.6157281213070538, 2.117423354415293, 3.1780065555816557, 2.0662672586017092, 2.6479064725006336, 2.544572959460537, 1.5262249440042306, 2.0302819833996786, 1.526105149114728, 1.5215723642310894, 19.184380161069292, 1.493006884821335, 2.510348141609073, 1.480397708262798, 1.4677306748740335, 3.344468775957785, 7.272804581455729, 7.199262458151665, 4.2791792531662205, 2.424668528880218, 22.27201166840377, 6.817515557428604, 4.577228802712605, 6.174796906133579, 15.907012300539755, 5.772288668771908, 5.358690702486911, 3.7127621668325674, 6.522010098883159, 5.095290796238384, 34.98322529781624, 3.9194036415651063, 2.8708410038253787, 7.034249087890978, 3.8760130533594284, 3.937329964762103, 124.40681261830105, 36.88174748891793, 6.288632507387751, 6.274165849833355, 65.91507743670574, 13.800011250301715, 14.434247327055395, 24.912640845324066, 38.91669849132211, 20.191024350926572, 12.243459442213954, 17.475749792371985, 26.57320288491772, 16.658813203645497, 33.145516598420876, 17.679375851740684, 25.193273157388607, 36.08340507377247, 26.822319533622366, 35.763807950368815, 17.559059892982827, 17.117767505598295, 25.338735929962084, 15.745653446202443, 17.343398510668347, 22.230519117918448, 14.549845050304523, 14.95139238739625, 17.17966915628046, 15.744013399452003, 14.92543591236744], \"Total\": [617.0, 112.0, 103.0, 480.0, 121.0, 39.0, 129.0, 29.0, 271.0, 500.0, 287.0, 30.0, 330.0, 124.0, 128.0, 144.0, 69.0, 146.0, 74.0, 116.0, 98.0, 208.0, 56.0, 33.0, 103.0, 45.0, 95.0, 52.0, 75.0, 12.0, 4.845361117570268, 4.845329900891004, 7.7140145555370285, 45.55930230222941, 3.8436985722478227, 3.82818936233923, 11.464979845862102, 6.617204532825217, 3.791100511927576, 2.8429310927632527, 2.8426993254949804, 2.8426448257520165, 2.842593070839657, 2.8424828533922493, 2.842490799566053, 2.8423749420626594, 2.8420592698426073, 2.8420452952507027, 2.8418027624689493, 8.582256135665812, 2.839195167403454, 2.8394197916504127, 3.765496457317556, 2.8354093448100626, 2.8321592470163552, 2.829182779038983, 2.8379551809594363, 14.0339592965113, 6.542570709395813, 5.654692126558473, 10.542488261007792, 7.491929168515803, 80.0768662109486, 20.3941472652802, 12.202182383551646, 469.46690589840614, 116.30900659942688, 58.55169917709417, 20.49513103669578, 45.570020125901294, 43.85894436815992, 23.661023823204264, 42.905638843263304, 62.90603736238378, 29.550241612033062, 105.84535244087557, 358.06754298850433, 272.89314689179565, 90.24966969782335, 67.17204876505565, 53.168154417910934, 67.49011803478547, 330.93096109721193, 58.03384030091955, 78.81366389519127, 500.7618188797835, 116.57403572399859, 480.5186299102292, 617.6432924248031, 160.57112348193243, 154.5116416877613, 137.2496779823739, 224.8304937713236, 287.24486420819, 92.17236190655285, 271.85235352967936, 208.1292976242286, 139.94743658491006, 81.98981039384016, 134.23685541146622, 129.00579511020993, 144.94966434803246, 103.37468660027832, 110.06094869959593, 107.45564114026475, 123.47262508305457, 112.5398079283667, 128.24444769220818, 3.5183527294958927, 7.8352258240560335, 2.6444560714400516, 2.6444970606152745, 2.644371955405938, 2.6443346639754464, 2.644374454431451, 2.6443620865876594, 2.64434521233522, 2.6443162090393, 2.6443009977568996, 2.6245634256814236, 2.650729360053481, 4.342125294412458, 8.655315297581323, 2.6245872191508277, 6.986854908674081, 5.277855662146895, 4.296893272764531, 4.356676256988196, 7.884387823886595, 2.6414353482479376, 2.6144146927597323, 7.813152110788804, 5.120249677079265, 3.5888321875689178, 3.4091356504053785, 4.544096851239123, 2.6786508281465986, 6.09107761178081, 4.475838092076467, 7.599144134955575, 8.777314119235841, 14.951588110164277, 14.338007505218913, 16.839993943296193, 146.2588868552884, 66.41721482547237, 500.7618188797835, 42.59759785058148, 358.06754298850433, 39.090323836926466, 35.70317687211799, 35.06681547001217, 42.88036261054678, 101.08688809218242, 55.51701341854093, 617.6432924248031, 480.5186299102292, 134.23685541146622, 15.374765688258286, 24.529870138554813, 287.24486420819, 224.8304937713236, 144.94966434803246, 469.46690589840614, 60.281280968438054, 90.06808566865186, 128.24444769220818, 110.06094869959593, 106.20259805738544, 67.15668055775254, 271.85235352967936, 112.12453941594521, 160.57112348193243, 139.94743658491006, 116.45020385121516, 107.93724878606105, 208.1292976242286, 330.93096109721193, 107.45564114026475, 272.89314689179565, 92.17236190655285, 124.93072452258235, 96.28514968847095, 154.5116416877613, 123.47262508305457, 3.301912399941812, 2.4597215033188924, 2.459763062125189, 2.4597516111173943, 2.459793590547995, 2.4599145956222217, 2.4567032224217553, 2.474348762162151, 2.49083878938302, 4.025252855650883, 2.4862083124401333, 2.4794077406761517, 2.4841613523239867, 2.435562303831928, 2.511580528598696, 2.4390610395427075, 2.487368939518243, 3.3203408240794525, 2.433653456769509, 9.970136153403956, 2.5135013995928057, 1.6497914351489396, 1.6498057765975127, 1.649798457718412, 1.6498100102867996, 1.6497916374575596, 1.649820177341187, 1.6497767476869245, 1.6497940505135342, 1.649797237084595, 2.50622231738069, 4.10955499879862, 9.092441489188065, 6.062542310798548, 4.198216125835787, 2.4247309090372218, 6.7874856275032975, 6.65633060054132, 121.94412101044443, 10.645021253160111, 8.494719189055509, 74.35403364203924, 9.963408877312599, 10.885520875306288, 271.85235352967936, 45.336729631532364, 90.92742152960932, 50.84012487595278, 45.03107361429802, 116.45020385121516, 500.7618188797835, 330.93096109721193, 47.00972873927617, 18.453661578776032, 617.6432924248031, 123.47262508305457, 34.017594123799185, 124.93072452258235, 52.59844326401242, 52.73253941060462, 95.7622518860082, 208.1292976242286, 37.23416291871359, 103.16605752929968, 23.33051783351832, 137.2496779823739, 29.833316300473555, 90.12165800910644, 48.20014321895675, 154.5116416877613, 480.5186299102292, 224.8304937713236, 272.89314689179565, 358.06754298850433, 469.46690589840614, 139.94743658491006, 287.24486420819, 76.25850302323511, 112.12453941594521, 129.00579511020993, 106.20259805738544, 107.93724878606105, 146.2588868552884, 160.57112348193243, 128.24444769220818, 3.125580386125777, 3.1326165548280693, 3.178750182640329, 2.340572955760532, 12.17591819123051, 3.0917407572850726, 2.3789852249654224, 2.3848326652099416, 2.3565856815611865, 2.3932570163421025, 1.589931655239875, 1.5899380975996487, 1.5899423054325397, 1.5899400617763222, 1.5899492702711773, 1.5899494563915244, 1.5899504201910704, 1.5899588273409397, 1.589971612560992, 1.5899576911280862, 1.5899787013611981, 1.589973495866431, 1.5899718283622883, 1.5899642179402644, 1.5899750153197965, 1.5899954959309115, 1.589977001401788, 1.5899880930143366, 1.5899867704061459, 1.589990872196747, 3.132444750043761, 4.089208079072757, 2.442547783406719, 28.837020121153436, 2.3399573476936206, 4.055776803763129, 33.46997496104139, 3.1500546792841178, 6.237574203927709, 2.3697721527769118, 112.5398079283667, 8.975162105330899, 2.4513426592719556, 3.2323131411594503, 3.242203739265889, 5.845422767559908, 3.2385306412004353, 4.941300796800126, 2.434237487527236, 2.432027976763517, 28.774933346408474, 46.0485913361628, 287.24486420819, 69.31179232880643, 103.37468660027832, 12.443333058147465, 480.5186299102292, 128.24444769220818, 30.4905755871856, 98.2687502115711, 144.94966434803246, 75.55720298971426, 124.93072452258235, 272.89314689179565, 62.552193402871104, 29.141987803632585, 469.46690589840614, 271.85235352967936, 83.36410477384022, 330.93096109721193, 35.31407584634268, 500.7618188797835, 134.23685541146622, 208.1292976242286, 617.6432924248031, 107.45564114026475, 65.13064689651478, 146.2588868552884, 139.94743658491006, 116.57403572399859, 224.8304937713236, 160.57112348193243, 116.45020385121516, 358.06754298850433, 121.94412101044443, 107.93724878606105, 12.189940462573638, 4.593114581088062, 3.0684787723557085, 2.3114595809595855, 2.3116283458173887, 2.3116351200442047, 2.3116399397857847, 2.311642645562486, 2.311689742888567, 2.3117685255270852, 2.3118107998592654, 2.311869882657896, 2.311887012501546, 3.0635284515121635, 4.626994363257558, 3.0560823909655683, 3.9344031409507707, 3.831496182954914, 2.3133897494425617, 3.0798217701285155, 2.3223591122337606, 2.3371440430399995, 29.705443205127253, 2.3139407002212513, 3.893665713970724, 2.3253605099877106, 2.31441988240819, 5.288776763626242, 11.505582188301355, 11.465981224326903, 6.846980089603658, 3.8821213304979136, 39.13458418976933, 11.603628551216794, 7.712447551949814, 10.76651763744438, 30.4905755871856, 10.010215961271907, 9.32644088334054, 6.192250535035521, 12.366629189876312, 9.219015417893583, 103.16605752929968, 6.963278422058872, 4.722218827422518, 14.51720820767833, 6.914100845089376, 7.073916440107062, 617.6432924248031, 129.00579511020993, 13.766901089496319, 14.026814384429262, 480.5186299102292, 47.12017181745408, 56.28061615120972, 154.5116416877613, 330.93096109721193, 112.5398079283667, 50.32049394335106, 95.7622518860082, 208.1292976242286, 93.33132223871459, 358.06754298850433, 109.04591229027908, 224.8304937713236, 469.46690589840614, 272.89314689179565, 500.7618188797835, 116.57403572399859, 112.12453941594521, 287.24486420819, 96.28514968847095, 137.2496779823739, 271.85235352967936, 90.24966969782335, 98.2687502115711, 160.57112348193243, 123.47262508305457, 106.20259805738544], \"logprob\": [30.0, 29.0, 28.0, 27.0, 26.0, 25.0, 24.0, 23.0, 22.0, 21.0, 20.0, 19.0, 18.0, 17.0, 16.0, 15.0, 14.0, 13.0, 12.0, 11.0, 10.0, 9.0, 8.0, 7.0, 6.0, 5.0, 4.0, 3.0, 2.0, 1.0, -8.012, -8.0121, -7.5627, -5.7902, -8.2844, -8.3209, -7.2282, -7.7837, -8.3503, -8.6579, -8.6584, -8.6586, -8.6587, -8.6589, -8.6589, -8.6592, -8.6599, -8.66, -8.6626, -7.5585, -8.6661, -8.6663, -8.3913, -8.6759, -8.6776, -8.683, -8.6808, -7.0875, -7.8557, -8.0126, -7.4064, -7.744, -5.5059, -6.8245, -7.3113, -3.9793, -5.2597, -5.8888, -6.8542, -6.1305, -6.1822, -6.7399, -6.2136, -5.8794, -6.5531, -5.4262, -4.3607, -4.6022, -5.577, -5.8641, -6.0766, -5.8745, -4.5492, -6.0119, -5.7638, -4.2662, -5.447, -4.3042, -4.1145, -5.1927, -5.2383, -5.3514, -4.9774, -4.8044, -5.6983, -4.9316, -5.1621, -5.5062, -5.8242, -5.588, -5.6109, -5.5583, -5.7217, -5.7142, -5.7259, -5.7126, -5.7397, -5.7545, -7.9969, -7.2067, -8.2964, -8.2966, -8.2969, -8.297, -8.297, -8.2971, -8.2971, -8.2973, -8.2976, -8.3525, -8.3621, -7.8782, -7.1977, -8.3993, -7.4204, -7.71, -7.9219, -7.9217, -7.3316, -8.4292, -8.4565, -7.3673, -7.795, -8.162, -8.2204, -7.9353, -8.4676, -7.6462, -7.9668, -7.4649, -7.3469, -6.8842, -6.9467, -6.8078, -4.9519, -5.6391, -4.0258, -6.0735, -4.352, -6.1553, -6.2407, -6.2602, -6.1078, -5.4722, -5.9395, -4.0989, -4.2932, -5.2901, -6.947, -6.5944, -4.7366, -4.929, -5.2822, -4.4389, -5.9412, -5.6627, -5.4173, -5.5573, -5.5996, -5.9254, -5.0167, -5.5971, -5.3966, -5.4917, -5.6068, -5.6602, -5.3125, -5.1015, -5.681, -5.2429, -5.8481, -5.7923, -5.8679, -5.8094, -5.8612, -7.7931, -8.1142, -8.1148, -8.1149, -8.1152, -8.116, -8.1407, -8.1888, -8.1907, -7.711, -8.194, -8.2051, -8.2232, -8.2745, -8.245, -8.2758, -8.2609, -7.9735, -8.2881, -6.883, -8.2669, -8.7199, -8.7199, -8.72, -8.72, -8.72, -8.72, -8.72, -8.72, -8.72, -8.3069, -7.8344, -7.0647, -7.4593, -7.8338, -8.3567, -7.4152, -7.447, -4.8148, -7.0528, -7.2658, -5.4832, -7.1347, -7.0636, -4.495, -5.9343, -5.3831, -5.8498, -5.9867, -5.2793, -4.1709, -4.5109, -5.9922, -6.693, -4.1039, -5.306, -6.2493, -5.3054, -5.9325, -5.9322, -5.5032, -4.9783, -6.1979, -5.5439, -6.5641, -5.3893, -6.4005, -5.6742, -6.0869, -5.3638, -4.6581, -5.2083, -5.1209, -4.9896, -4.904, -5.5403, -5.2246, -5.8685, -5.701, -5.6623, -5.7496, -5.7627, -5.7157, -5.7708, -5.8061, -7.7133, -7.7469, -7.7754, -8.1224, -6.4892, -7.8606, -8.1341, -8.1543, -8.1787, -8.1805, -8.638, -8.6381, -8.6381, -8.6381, -8.6381, -8.6382, -8.6382, -8.6382, -8.6382, -8.6383, -8.6383, -8.6383, -8.6383, -8.6383, -8.6383, -8.6384, -8.6384, -8.6384, -8.6384, -8.6385, -7.9732, -7.7453, -8.2452, -6.0074, -8.2929, -7.8044, -5.9387, -8.0325, -7.433, -8.2879, -4.9409, -7.1435, -8.2688, -8.0342, -8.0322, -7.5335, -8.034, -7.6805, -8.2846, -8.2854, -6.2651, -5.9317, -4.5025, -5.6257, -5.3239, -6.9857, -4.173, -5.1944, -6.3072, -5.4184, -5.1383, -5.6563, -5.3221, -4.81, -5.864, -6.4018, -4.4672, -4.868, -5.6802, -4.7447, -6.2926, -4.5576, -5.4183, -5.1739, -4.5073, -5.6399, -5.9709, -5.5237, -5.556, -5.665, -5.4336, -5.623, -5.7428, -5.534, -5.8288, -5.8674, -6.3135, -7.2925, -7.7293, -8.0385, -8.0391, -8.0391, -8.0391, -8.0391, -8.0393, -8.0396, -8.0399, -8.0399, -8.0399, -7.7695, -7.3635, -7.794, -7.5459, -7.5858, -8.0969, -7.8115, -8.097, -8.1, -5.5656, -8.1189, -7.5993, -8.1274, -8.136, -7.3124, -6.5356, -6.5457, -7.066, -7.634, -5.4164, -6.6002, -6.9986, -6.6992, -5.753, -6.7666, -6.841, -7.2079, -6.6445, -6.8914, -4.9648, -7.1538, -7.4651, -6.5689, -7.1649, -7.1492, -3.6962, -4.912, -6.681, -6.6833, -4.3314, -5.895, -5.8501, -5.3043, -4.8583, -5.5145, -6.0147, -5.6589, -5.2398, -5.7068, -5.0188, -5.6473, -5.2931, -4.9339, -5.2305, -4.9428, -5.6541, -5.6796, -5.2874, -5.7632, -5.6665, -5.4183, -5.8421, -5.8149, -5.676, -5.7633, -5.8167]}};\n",
       "\n",
       "function LDAvis_load_lib(url, callback){\n",
       "  var s = document.createElement('script');\n",
       "  s.src = url;\n",
       "  s.async = true;\n",
       "  s.onreadystatechange = s.onload = callback;\n",
       "  s.onerror = function(){console.warn(\"failed to load library \" + url);};\n",
       "  document.getElementsByTagName(\"head\")[0].appendChild(s);\n",
       "}\n",
       "\n",
       "if(typeof(LDAvis) !== \"undefined\"){\n",
       "   // already loaded: just create the visualization\n",
       "   !function(LDAvis){\n",
       "       new LDAvis(\"#\" + \"ldavis_el19918140214967298896169305648\", ldavis_el19918140214967298896169305648_data);\n",
       "   }(LDAvis);\n",
       "}else if(typeof define === \"function\" && define.amd){\n",
       "   // require.js is available: use it to load d3/LDAvis\n",
       "   require.config({paths: {d3: \"https://cdnjs.cloudflare.com/ajax/libs/d3/3.5.5/d3.min\"}});\n",
       "   require([\"d3\"], function(d3){\n",
       "      window.d3 = d3;\n",
       "      LDAvis_load_lib(\"https://cdn.rawgit.com/bmabey/pyLDAvis/files/ldavis.v1.0.0.js\", function(){\n",
       "        new LDAvis(\"#\" + \"ldavis_el19918140214967298896169305648\", ldavis_el19918140214967298896169305648_data);\n",
       "      });\n",
       "    });\n",
       "}else{\n",
       "    // require.js not available: dynamically load d3 & LDAvis\n",
       "    LDAvis_load_lib(\"https://cdnjs.cloudflare.com/ajax/libs/d3/3.5.5/d3.min.js\", function(){\n",
       "         LDAvis_load_lib(\"https://cdn.rawgit.com/bmabey/pyLDAvis/files/ldavis.v1.0.0.js\", function(){\n",
       "                 new LDAvis(\"#\" + \"ldavis_el19918140214967298896169305648\", ldavis_el19918140214967298896169305648_data);\n",
       "            })\n",
       "         });\n",
       "}\n",
       "</script>"
      ],
      "text/plain": [
       "PreparedData(topic_coordinates=            Freq  cluster  topics         x         y\n",
       "topic                                                \n",
       "2      34.572066        1       1 -0.033505 -0.000930\n",
       "1      21.695910        1       2 -0.018804 -0.007896\n",
       "4      16.220530        1       3 -0.016079  0.041622\n",
       "3      13.841894        1       4  0.005306 -0.044281\n",
       "0      13.669599        1       5  0.063083  0.011486, topic_info=     Category        Freq              Term       Total  loglift  logprob\n",
       "term                                                                     \n",
       "5599  Default  617.000000               job  617.000000  30.0000  30.0000\n",
       "4735  Default  112.000000             water  112.000000  29.0000  29.0000\n",
       "146   Default  103.000000           project  103.000000  28.0000  28.0000\n",
       "2329  Default  480.000000          basement  480.000000  27.0000  27.0000\n",
       "1688  Default  121.000000            thanks  121.000000  26.0000  26.0000\n",
       "1598  Default   39.000000                de   39.000000  25.0000  25.0000\n",
       "1778  Default  129.000000               guy  129.000000  24.0000  24.0000\n",
       "4031  Default   29.000000                le   29.000000  23.0000  23.0000\n",
       "1206  Default  271.000000            system  271.000000  22.0000  22.0000\n",
       "2971  Default  500.000000              crew  500.000000  21.0000  21.0000\n",
       "2786  Default  287.000000              home  287.000000  20.0000  20.0000\n",
       "1889  Default   30.000000                et   30.000000  19.0000  19.0000\n",
       "338   Default  330.000000              time  330.000000  18.0000  18.0000\n",
       "2313  Default  124.000000             clean  124.000000  17.0000  17.0000\n",
       "2243  Default  128.000000             issue  128.000000  16.0000  16.0000\n",
       "364   Default  144.000000              team  144.000000  15.0000  15.0000\n",
       "3255  Default   69.000000          thrasher   69.000000  14.0000  14.0000\n",
       "2702  Default  146.000000             thank  146.000000  13.0000  13.0000\n",
       "5225  Default   74.000000           cleaned   74.000000  12.0000  12.0000\n",
       "2035  Default  116.000000     knowledgeable  116.000000  11.0000  11.0000\n",
       "3761  Default   98.000000         extremely   98.000000  10.0000  10.0000\n",
       "4047  Default  208.000000               day  208.000000   9.0000   9.0000\n",
       "99    Default   56.000000  customer_service   56.000000   8.0000   8.0000\n",
       "2494  Default   33.000000              ryan   33.000000   7.0000   7.0000\n",
       "5392  Default  103.000000            called  103.000000   6.0000   6.0000\n",
       "4012  Default   45.000000               afs   45.000000   5.0000   5.0000\n",
       "4787  Default   95.000000       crawl_space   95.000000   4.0000   4.0000\n",
       "5620  Default   52.000000              mike   52.000000   3.0000   3.0000\n",
       "4495  Default   75.000000          thorough   75.000000   2.0000   2.0000\n",
       "3     Default   12.000000             ����t����   12.000000   1.0000   1.0000\n",
       "...       ...         ...               ...         ...      ...      ...\n",
       "1778   Topic5   36.881747               guy  129.005795   0.7379  -4.9120\n",
       "3950   Topic5    6.288633           putting   13.766901   1.2065  -6.6810\n",
       "3307   Topic5    6.274166              nous   14.026814   1.1855  -6.6833\n",
       "2329   Topic5   65.915077          basement  480.518630   0.0035  -4.3314\n",
       "2237   Topic5   13.800011            beyond   47.120172   0.7620  -5.8950\n",
       "99     Topic5   14.434247  customer_service   56.280616   0.6292  -5.8501\n",
       "2919   Topic5   24.912641         recommend  154.511642   0.1651  -5.3043\n",
       "338    Topic5   38.916698              time  330.930961  -0.1505  -4.8583\n",
       "4735   Topic5   20.191024             water  112.539808   0.2719  -5.5145\n",
       "2656   Topic5   12.243459          employee   50.320494   0.5766  -6.0147\n",
       "4787   Topic5   17.475750       crawl_space   95.762252   0.2889  -5.6589\n",
       "4047   Topic5   26.573203               day  208.129298  -0.0683  -5.2398\n",
       "1500   Topic5   16.658813         sump_pump   93.331322   0.2668  -5.7068\n",
       "756    Topic5   33.145517           company  358.067543  -0.3898  -5.0188\n",
       "5631   Topic5   17.679376         completed  109.045912   0.1706  -5.6473\n",
       "3695   Topic5   25.193273             house  224.830494  -0.1988  -5.2931\n",
       "1953   Topic5   36.083405      professional  469.466906  -0.5758  -4.9339\n",
       "132    Topic5   26.822320           service  272.893147  -0.3299  -5.2305\n",
       "2971   Topic5   35.763808              crew  500.761819  -0.6492  -4.9428\n",
       "1002   Topic5   17.559060            repair  116.574036   0.0970  -5.6541\n",
       "2335   Topic5   17.117768         courteous  112.124539   0.1105  -5.6796\n",
       "2786   Topic5   25.338736              home  287.244864  -0.4380  -5.2874\n",
       "5005   Topic5   15.745653            polite   96.285150   0.1792  -5.7632\n",
       "35     Topic5   17.343399         explained  137.249678  -0.0786  -5.6665\n",
       "1206   Topic5   22.230519            system  271.852354  -0.5138  -5.4183\n",
       "307    Topic5   14.549845              call   90.249670   0.1650  -5.8421\n",
       "3761   Topic5   14.951392         extremely   98.268750   0.1071  -5.8149\n",
       "3348   Topic5   17.179669  highly_recommend  160.571123  -0.2450  -5.6760\n",
       "2487   Topic5   15.744013          friendly  123.472625  -0.0696  -5.7633\n",
       "4185   Topic5   14.925436          finished  106.202598   0.0277  -5.8167\n",
       "\n",
       "[435 rows x 6 columns], token_table=      Topic      Freq                  Term\n",
       "term                                       \n",
       "3359      1  0.202376                    11\n",
       "3359      2  0.202376                    11\n",
       "3359      4  0.404752                    11\n",
       "1790      5  0.865123               1202016\n",
       "487       1  0.323362                     2\n",
       "487       2  0.205776                     2\n",
       "487       3  0.323362                     2\n",
       "487       4  0.029397                     2\n",
       "487       5  0.117586                     2\n",
       "3934      4  0.628941                  2002\n",
       "4906      3  0.606132               21month\n",
       "4814      1  0.703719                 29aug\n",
       "3878      1  0.633954            absolutely\n",
       "3878      2  0.042264            absolutely\n",
       "3878      3  0.126791            absolutely\n",
       "3878      4  0.084527            absolutely\n",
       "3878      5  0.084527            absolutely\n",
       "4012      1  0.856027                   afs\n",
       "4012      2  0.043899                   afs\n",
       "4012      3  0.065848                   afs\n",
       "4012      4  0.021949                   afs\n",
       "4012      5  0.021949                   afs\n",
       "1049      1  0.234755                   ago\n",
       "1049      2  0.422559                   ago\n",
       "1049      3  0.093902                   ago\n",
       "1049      4  0.140853                   ago\n",
       "1049      5  0.093902                   ago\n",
       "850       5  0.654433                 ainsi\n",
       "1647      1  0.402235                   air\n",
       "1647      2  0.134078                   air\n",
       "...     ...       ...                   ...\n",
       "5215      5  0.130297         waterproofing\n",
       "3207      1  0.147330               weekend\n",
       "3207      2  0.147330               weekend\n",
       "3207      3  0.589320               weekend\n",
       "2515      2  0.690906                   win\n",
       "2515      4  0.230302                   win\n",
       "3042      3  0.813090               withdan\n",
       "4888      1  0.383844                  wood\n",
       "4888      2  0.261014                  wood\n",
       "4888      3  0.107476                  wood\n",
       "4888      4  0.199599                  wood\n",
       "4888      5  0.046061                  wood\n",
       "3917      1  0.592810  wood_basement_system\n",
       "3917      2  0.159603  wood_basement_system\n",
       "3917      3  0.045601  wood_basement_system\n",
       "3917      4  0.091201  wood_basement_system\n",
       "3917      5  0.114002  wood_basement_system\n",
       "2663      4  0.628951            wouldn��������t\n",
       "1572      3  0.814099                yancey\n",
       "3664      2  0.160319               ����quipe\n",
       "3664      4  0.480956               ����quipe\n",
       "3664      5  0.320637               ����quipe\n",
       "2613      5  0.432163              ����quipes\n",
       "3         1  0.082035                 ����t����\n",
       "3         2  0.082035                 ����t����\n",
       "3         3  0.082035                 ����t����\n",
       "3         4  0.082035                 ����t����\n",
       "3         5  0.738314                 ����t����\n",
       "3033      5  0.865186                    �����\n",
       "4316      3  0.813086                   ��������\n",
       "\n",
       "[906 rows x 3 columns], R=30, lambda_step=0.01, plot_opts={'xlab': 'PC1', 'ylab': 'PC2'}, topic_order=[3, 2, 5, 4, 1])"
      ]
     },
     "execution_count": 49,
     "metadata": {},
     "output_type": "execute_result"
    }
   ],
   "source": [
    "data"
   ]
  },
  {
   "cell_type": "markdown",
   "metadata": {
    "collapsed": true
   },
   "source": [
    "## wordcloud"
   ]
  },
  {
   "cell_type": "code",
   "execution_count": 50,
   "metadata": {
    "collapsed": true
   },
   "outputs": [],
   "source": [
    "# ap_text_list"
   ]
  },
  {
   "cell_type": "code",
   "execution_count": null,
   "metadata": {
    "collapsed": true
   },
   "outputs": [],
   "source": []
  },
  {
   "cell_type": "code",
   "execution_count": null,
   "metadata": {
    "collapsed": true
   },
   "outputs": [],
   "source": []
  },
  {
   "cell_type": "code",
   "execution_count": null,
   "metadata": {
    "collapsed": true
   },
   "outputs": [],
   "source": []
  }
 ],
 "metadata": {
  "anaconda-cloud": {},
  "kernelspec": {
   "display_name": "Python 2",
   "language": "python",
   "name": "python2"
  },
  "language_info": {
   "codemirror_mode": {
    "name": "ipython",
    "version": 2
   },
   "file_extension": ".py",
   "mimetype": "text/x-python",
   "name": "python",
   "nbconvert_exporter": "python",
   "pygments_lexer": "ipython2",
   "version": "2.7.13"
  }
 },
 "nbformat": 4,
 "nbformat_minor": 1
}
