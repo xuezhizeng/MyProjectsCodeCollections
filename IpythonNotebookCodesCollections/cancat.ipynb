{
 "cells": [
  {
   "cell_type": "code",
   "execution_count": 1,
   "metadata": {
    "collapsed": true
   },
   "outputs": [],
   "source": [
    "import pandas as pd\n",
    "import os"
   ]
  },
  {
   "cell_type": "code",
   "execution_count": 2,
   "metadata": {},
   "outputs": [
    {
     "name": "stdout",
     "output_type": "stream",
     "text": [
      "2018-01-08-22-48 Products.xlsx\tdiary_products.csv    run.ipynb\r\n",
      "2018-01-08-23-27 Products.xlsx\tinfo.py\t\t      Single_start.py\r\n",
      "5Jan2018_data\t\t\tinfo.pyc\t      start.py\r\n",
      "8Jan2018_data\t\t\tinfo.txt\t      test.csv\r\n",
      "9Jan2018_diary\t\t\tiri@iridescent.date   Untitled.ipynb\r\n",
      "archive\t\t\t\tproduct_need_convert  V1_start.py\r\n",
      "auto.ipynb\t\t\tproducts_parse.xlsx   view_data.ipynb\r\n",
      "cancat.ipynb\t\t\tproducts.xlsx\t      view_data_V2.ipynb\r\n",
      "data\t\t\t\tprovince_stat.xlsx\r\n"
     ]
    }
   ],
   "source": [
    "!ls"
   ]
  },
  {
   "cell_type": "code",
   "execution_count": 4,
   "metadata": {},
   "outputs": [
    {
     "name": "stdout",
     "output_type": "stream",
     "text": [
      "17472\n",
      "3391.xlsx 99511.xlsx 66252.xlsx 134207.xlsx 3837.xlsx 2606.xlsx 2119.xlsx 35456.xlsx 133940.xlsx 109846.xlsx 73199.xlsx 32778.xlsx 71175.xlsx 137033.xlsx 104681.xlsx 99762.xlsx 103631.xlsx 138556.xlsx 164703.xlsx 65865.xlsx 104968.xlsx 100680.xlsx 133028.xlsx 169080.xlsx 70932.xlsx 137376.xlsx 132196.xlsx 73533.xlsx 104188.xlsx 66167.xlsx 137524.xlsx 98549.xlsx 166031.xlsx 131479.xlsx 138641.xlsx 6643.xlsx 105222.xlsx 37840.xlsx 1538.xlsx 169974.xlsx 38172.xlsx 38822.xlsx 36950.xlsx 38245.xlsx 134531.xlsx 102741.xlsx 2455.xlsx 73292.xlsx 135349.xlsx 71254.xlsx 66822.xlsx 64844.xlsx 135897.xlsx 7839.xlsx 165880.xlsx 99252.xlsx 135175.xlsx 7917.xlsx 1794.xlsx 98515.xlsx 3219.xlsx 105594.xlsx 39960.xlsx 131239.xlsx 17408\n",
      "(150637, 77)\n",
      "CPU times: user 6min 9s, sys: 14.1 s, total: 6min 23s\n",
      "Wall time: 11min 31s\n"
     ]
    }
   ],
   "source": [
    "%%time\n",
    "path = '9Jan2018_diary/'\n",
    "files = os.listdir(path)\n",
    "print len(files)\n",
    "\n",
    "tmp = []\n",
    "for i in files:\n",
    "    try:\n",
    "        tmp.append(pd.read_excel(path+i))\n",
    "    except:\n",
    "        print i,\n",
    "print len(tmp)\n",
    "df = pd.concat(tmp)\n",
    "print df.shape"
   ]
  },
  {
   "cell_type": "code",
   "execution_count": 6,
   "metadata": {},
   "outputs": [
    {
     "data": {
      "text/html": [
       "<div>\n",
       "<style scoped>\n",
       "    .dataframe tbody tr th:only-of-type {\n",
       "        vertical-align: middle;\n",
       "    }\n",
       "\n",
       "    .dataframe tbody tr th {\n",
       "        vertical-align: top;\n",
       "    }\n",
       "\n",
       "    .dataframe thead th {\n",
       "        text-align: right;\n",
       "    }\n",
       "</style>\n",
       "<table border=\"1\" class=\"dataframe\">\n",
       "  <thead>\n",
       "    <tr style=\"text-align: right;\">\n",
       "      <th></th>\n",
       "      <th>avatar.h</th>\n",
       "      <th>avatar.ident</th>\n",
       "      <th>avatar.u</th>\n",
       "      <th>avatar.w</th>\n",
       "      <th>avatar.zoom</th>\n",
       "      <th>certified_id</th>\n",
       "      <th>certified_type</th>\n",
       "      <th>create_date</th>\n",
       "      <th>create_date_str</th>\n",
       "      <th>daren_level</th>\n",
       "      <th>...</th>\n",
       "      <th>top.post_video_img</th>\n",
       "      <th>top.post_video_url</th>\n",
       "      <th>top.post_video_yn</th>\n",
       "      <th>top.record_post_img</th>\n",
       "      <th>top.str_day_num</th>\n",
       "      <th>top.summary</th>\n",
       "      <th>top.videoDuration</th>\n",
       "      <th>uid</th>\n",
       "      <th>user_level</th>\n",
       "      <th>user_name</th>\n",
       "    </tr>\n",
       "  </thead>\n",
       "  <tbody>\n",
       "    <tr>\n",
       "      <th>0</th>\n",
       "      <td>57.0</td>\n",
       "      <td>lnimage</td>\n",
       "      <td>http://img2.soyoung.com/user/20170601/2/201706...</td>\n",
       "      <td>57.0</td>\n",
       "      <td>89%</td>\n",
       "      <td>0.0</td>\n",
       "      <td>0.0</td>\n",
       "      <td>2017-06-10 17:13:06</td>\n",
       "      <td>2017年6月10日</td>\n",
       "      <td>0.0</td>\n",
       "      <td>...</td>\n",
       "      <td>NaN</td>\n",
       "      <td>NaN</td>\n",
       "      <td>0</td>\n",
       "      <td>http://img2.soyoung.com/tieba/web/20170610/0/2...</td>\n",
       "      <td>第99天</td>\n",
       "      <td>手术做完医生帮我拍了照片，当时已经很美了，术后看到照片的时候，我差点哭出来，太赞了</td>\n",
       "      <td>NaN</td>\n",
       "      <td>13743032.0</td>\n",
       "      <td>3.0</td>\n",
       "      <td>邸备瑾凉</td>\n",
       "    </tr>\n",
       "  </tbody>\n",
       "</table>\n",
       "<p>1 rows × 77 columns</p>\n",
       "</div>"
      ],
      "text/plain": [
       "   avatar.h avatar.ident                                           avatar.u  \\\n",
       "0      57.0      lnimage  http://img2.soyoung.com/user/20170601/2/201706...   \n",
       "\n",
       "   avatar.w avatar.zoom  certified_id  certified_type          create_date  \\\n",
       "0      57.0         89%           0.0             0.0  2017-06-10 17:13:06   \n",
       "\n",
       "  create_date_str  daren_level    ...     top.post_video_img  \\\n",
       "0      2017年6月10日          0.0    ...                    NaN   \n",
       "\n",
       "   top.post_video_url top.post_video_yn  \\\n",
       "0                 NaN                 0   \n",
       "\n",
       "                                 top.record_post_img  top.str_day_num  \\\n",
       "0  http://img2.soyoung.com/tieba/web/20170610/0/2...             第99天   \n",
       "\n",
       "                                 top.summary top.videoDuration         uid  \\\n",
       "0  手术做完医生帮我拍了照片，当时已经很美了，术后看到照片的时候，我差点哭出来，太赞了               NaN  13743032.0   \n",
       "\n",
       "  user_level  user_name  \n",
       "0        3.0       邸备瑾凉  \n",
       "\n",
       "[1 rows x 77 columns]"
      ]
     },
     "execution_count": 6,
     "metadata": {},
     "output_type": "execute_result"
    }
   ],
   "source": [
    "df.head(1)"
   ]
  },
  {
   "cell_type": "code",
   "execution_count": 10,
   "metadata": {
    "collapsed": true
   },
   "outputs": [],
   "source": [
    "from recur7down.diary import One"
   ]
  },
  {
   "cell_type": "code",
   "execution_count": 11,
   "metadata": {
    "collapsed": true
   },
   "outputs": [],
   "source": [
    "One??"
   ]
  },
  {
   "cell_type": "code",
   "execution_count": 15,
   "metadata": {
    "collapsed": true
   },
   "outputs": [],
   "source": [
    "col = list(df.columns)\n",
    "col = [col.pop(col.index('group_id')), col.pop(col.index('uid')), col.pop(col.index('user_name')), col.pop(col.index('top.summary'))]+col\n",
    "df = df[col]"
   ]
  },
  {
   "cell_type": "code",
   "execution_count": 19,
   "metadata": {},
   "outputs": [
    {
     "data": {
      "text/plain": [
       "147226"
      ]
     },
     "execution_count": 19,
     "metadata": {},
     "output_type": "execute_result"
    }
   ],
   "source": [
    "len(df['group_id'].unique())"
   ]
  },
  {
   "cell_type": "code",
   "execution_count": 21,
   "metadata": {},
   "outputs": [
    {
     "data": {
      "text/plain": [
       "RangeIndex(start=0, stop=150637, step=1)"
      ]
     },
     "execution_count": 21,
     "metadata": {},
     "output_type": "execute_result"
    }
   ],
   "source": [
    "df = df.reset_index(drop=True)\n",
    "df.index"
   ]
  },
  {
   "cell_type": "code",
   "execution_count": 25,
   "metadata": {},
   "outputs": [
    {
     "data": {
      "text/plain": [
       "(147226, 77)"
      ]
     },
     "execution_count": 25,
     "metadata": {},
     "output_type": "execute_result"
    }
   ],
   "source": [
    "df2 = df.loc[df['group_id'].drop_duplicates().index,:]\n",
    "df2.shape"
   ]
  },
  {
   "cell_type": "code",
   "execution_count": 29,
   "metadata": {
    "collapsed": true
   },
   "outputs": [],
   "source": [
    "%%time\n",
    "df2.to_excel('diary_all.xlsx', index=False, encoding='utf-8')"
   ]
  },
  {
   "cell_type": "code",
   "execution_count": 37,
   "metadata": {
    "collapsed": true
   },
   "outputs": [],
   "source": [
    "%%time\n",
    "df2.to_csv('diary_all.csv', index=False, encoding='utf-8')"
   ]
  },
  {
   "cell_type": "code",
   "execution_count": 30,
   "metadata": {
    "collapsed": true
   },
   "outputs": [],
   "source": [
    "!ls -ah"
   ]
  },
  {
   "cell_type": "code",
   "execution_count": 31,
   "metadata": {},
   "outputs": [
    {
     "data": {
      "text/plain": [
       "Index([u'group_id', u'uid', u'user_name', u'top.summary', u'avatar.h',\n",
       "       u'avatar.ident', u'avatar.u', u'avatar.w', u'avatar.zoom',\n",
       "       u'certified_id', u'certified_type', u'create_date', u'create_date_str',\n",
       "       u'daren_level', u'daren_level_text', u'district_1', u'district_name',\n",
       "       u'end.comment_cnt', u'end.doctor_id', u'end.doctor_name',\n",
       "       u'end.favor_cnt', u'end.hospital_id', u'end.hospital_name',\n",
       "       u'end.item_id', u'end.item_name', u'end.last_calendar_id', u'end.level',\n",
       "       u'end.price', u'end.view_cnt', u'follow', u'from_product',\n",
       "       u'group_video_yn', u'info_type', u'isDoctor', u'isHospital',\n",
       "       u'is_daren', u'is_favor', u'is_follow', u'item', u'item_id',\n",
       "       u'middle.img.h', u'middle.img.u', u'middle.img.u_n', u'middle.img.u_z',\n",
       "       u'middle.img.w', u'middle.str_before', u'other.day_num', u'other.img.h',\n",
       "       u'other.img.u', u'other.img.w', u'other.last_post_uid', u'other.manyi',\n",
       "       u'other.post_video_img', u'other.post_video_url',\n",
       "       u'other.post_video_yn', u'other.str_day_num', u'other.videoDuration',\n",
       "       u'post_id', u'post_video_yn', u'tag_info', u'top.color', u'top.day_num',\n",
       "       u'top.display_color', u'top.img.h', u'top.img.u', u'top.img.u_n',\n",
       "       u'top.img.u_z', u'top.img.w', u'top.post_cnt', u'top.post_id',\n",
       "       u'top.post_video_img', u'top.post_video_url', u'top.post_video_yn',\n",
       "       u'top.record_post_img', u'top.str_day_num', u'top.videoDuration',\n",
       "       u'user_level'],\n",
       "      dtype='object')"
      ]
     },
     "execution_count": 31,
     "metadata": {},
     "output_type": "execute_result"
    }
   ],
   "source": [
    "df.columns"
   ]
  },
  {
   "cell_type": "code",
   "execution_count": 35,
   "metadata": {},
   "outputs": [
    {
     "data": {
      "text/plain": [
       "0    [{u'item_id': u'', u'item_name': u'\\u672f\\u540...\n",
       "1    [{u'item_id': u'', u'item_name': u'\\u672f\\u540...\n",
       "2    [{u'item_id': u'', u'item_name': u'\\u672f\\u540...\n",
       "3    [{u'item_id': u'', u'item_name': u'\\u672f\\u540...\n",
       "4    [{u'item_id': u'', u'item_name': u'\\u672f\\u540...\n",
       "Name: item, dtype: object"
      ]
     },
     "execution_count": 35,
     "metadata": {},
     "output_type": "execute_result"
    }
   ],
   "source": [
    "df['item'].head()"
   ]
  },
  {
   "cell_type": "code",
   "execution_count": 36,
   "metadata": {},
   "outputs": [
    {
     "data": {
      "text/plain": [
       "0    [{u'related_id': u'', u'log': u'', u'team_yn':...\n",
       "1    [{u'related_id': u'', u'log': u'', u'team_yn':...\n",
       "2    [{u'related_id': u'', u'log': u'', u'team_yn':...\n",
       "3    [{u'related_id': u'', u'log': u'', u'team_yn':...\n",
       "4    [{u'related_id': u'', u'log': u'', u'team_yn':...\n",
       "Name: tag_info, dtype: object"
      ]
     },
     "execution_count": 36,
     "metadata": {},
     "output_type": "execute_result"
    }
   ],
   "source": [
    "df['tag_info'].head()"
   ]
  },
  {
   "cell_type": "code",
   "execution_count": 38,
   "metadata": {},
   "outputs": [
    {
     "data": {
      "text/plain": [
       "(150637, 77)"
      ]
     },
     "execution_count": 38,
     "metadata": {},
     "output_type": "execute_result"
    }
   ],
   "source": [
    "df.shape"
   ]
  },
  {
   "cell_type": "code",
   "execution_count": 39,
   "metadata": {
    "collapsed": true
   },
   "outputs": [],
   "source": [
    "pics = ['avatar.u',\n",
    "'middle.img.u',\n",
    "'middle.img.u_n',\n",
    "'middle.img.u_z',\n",
    "'other.img.u',\n",
    "'top.color',\n",
    "'top.img.u',\n",
    "'top.img.u_z',\n",
    "'top.record_post_img',]"
   ]
  },
  {
   "cell_type": "code",
   "execution_count": 40,
   "metadata": {},
   "outputs": [
    {
     "data": {
      "text/plain": [
       "['avatar.u',\n",
       " 'middle.img.u',\n",
       " 'middle.img.u_n',\n",
       " 'middle.img.u_z',\n",
       " 'other.img.u',\n",
       " 'top.color',\n",
       " 'top.img.u',\n",
       " 'top.img.u_z',\n",
       " 'top.record_post_img']"
      ]
     },
     "execution_count": 40,
     "metadata": {},
     "output_type": "execute_result"
    }
   ],
   "source": [
    "pics"
   ]
  },
  {
   "cell_type": "code",
   "execution_count": null,
   "metadata": {
    "collapsed": true
   },
   "outputs": [],
   "source": []
  }
 ],
 "metadata": {
  "kernelspec": {
   "display_name": "Python 2",
   "language": "python",
   "name": "python2"
  },
  "language_info": {
   "codemirror_mode": {
    "name": "ipython",
    "version": 2
   },
   "file_extension": ".py",
   "mimetype": "text/x-python",
   "name": "python",
   "nbconvert_exporter": "python",
   "pygments_lexer": "ipython2",
   "version": "2.7.13"
  }
 },
 "nbformat": 4,
 "nbformat_minor": 2
}
