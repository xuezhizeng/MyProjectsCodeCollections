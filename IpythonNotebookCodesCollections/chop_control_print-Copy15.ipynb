{
 "cells": [
  {
   "cell_type": "code",
   "execution_count": 1,
   "metadata": {
    "collapsed": true
   },
   "outputs": [],
   "source": [
    "# !ls"
   ]
  },
  {
   "cell_type": "code",
   "execution_count": 1,
   "metadata": {
    "scrolled": true
   },
   "outputs": [
    {
     "name": "stdout",
     "output_type": "stream",
     "text": [
      "1 used 0.00 s | 100 used 36.68 s | 200 used 79.15 s | 300 used 120.19 s | 400 used 163.48 s | 500 used 207.29 s | 600 used 249.47 s | 700 used 291.48 s | 800 used 334.33 s | 900 used 378.70 s | 1000 used 421.99 s | 1100 used 463.69 s | 1200 used 506.13 s | 1300 used 547.37 s | 1400 used 590.29 s | 1500 used 633.13 s | 1600 used 674.89 s | 1700 used 716.70 s | 1800 used 760.61 s | 1900 used 803.00 s | 2000 used 846.20 s | 2100 used 890.43 s | 2200 used 932.53 s | 2300 used 975.80 s | 2400 used 1018.31 s | 2500 used 1061.22 s | 2600 used 1102.30 s | 2700 used 1144.13 s | 2800 used 1186.45 s | 2900 used 1228.86 s | 3000 used 1272.92 s | 3100 used 1313.81 s | 3200 used 1356.97 s | 3300 used 1399.19 s | 3400 used 1441.55 s | 3500 used 1483.70 s | 3600 used 1526.07 s | 3700 used 1569.02 s | 3800 used 1612.45 s | 3900 used 1653.31 s | 4000 used 1695.90 s | 4100 used 1738.15 s | 4200 used 1779.81 s | 4300 used 1824.15 s | 4400 used 1866.04 s | 4500 used 1907.92 s | 4600 used 1951.67 s | 4700 used 1993.86 s | 4800 used 2036.06 s | 4900 used 2079.72 s | 5000 used 2121.65 s | 5100 used 2164.11 s | 5200 used 2206.98 s | 5300 used 2251.47 s | 5400 used 2293.12 s | 5500 used 2335.15 s | 5600 used 2377.82 s | 5700 used 2420.73 s | 5800 used 2462.06 s | 5900 used 2502.05 s | 6000 used 2546.63 s | 6100 used 2590.34 s | 6200 used 2631.45 s | 6300 used 2674.53 s | 6400 used 2717.15 s | 6500 used 2757.94 s | 6600 used 2800.82 s | 6700 used 2842.54 s | 6800 used 2887.04 s | 6900 used 2928.77 s | 7000 used 2972.57 s | 7100 used 3016.43 s | 7200 used 3056.96 s | 7300 used 3099.74 s | 7400 used 3144.21 s | 7500 used 3188.34 s | 7600 used 3229.89 s | 7700 used 3272.74 s | 7800 used 3316.35 s | 7900 used 3360.34 s | 8000 used 3403.18 s | 8100 used 3445.33 s | 8200 used 3486.37 s | 8300 used 3529.89 s | 8400 used 3572.24 s | 8500 used 3615.00 s | 8600 used 3657.92 s | 8700 used 3699.87 s | 8800 used 3742.21 s | 8900 used 3781.47 s | 9000 used 3823.19 s | 9100 used 3866.14 s | 9200 used 3907.98 s | 9300 used 3949.73 s | 9400 used 3990.00 s | 9500 used 4032.09 s | 9600 used 4074.19 s | 9700 used 4115.57 s | 9800 used 4157.00 s | 9900 used 4192.62 s |\n"
     ]
    },
    {
     "data": {
      "text/plain": [
       "4227.6982979774475"
      ]
     },
     "execution_count": 1,
     "metadata": {},
     "output_type": "execute_result"
    }
   ],
   "source": [
    "from time import time\n",
    "start=time()\n",
    "start\n",
    "\n",
    "\n",
    "!python -u /root/openface/util/align-dlib_mod.py \\\n",
    "../real_soyoung_pics/img_19 align \\\n",
    "outerEyesAndNose \\\n",
    "../chopHead256_real_soyoung_pics \\\n",
    "--size 256\n",
    "\n",
    "end=time()-start\n",
    "end"
   ]
  },
  {
   "cell_type": "code",
   "execution_count": null,
   "metadata": {
    "collapsed": true
   },
   "outputs": [],
   "source": []
  }
 ],
 "metadata": {
  "kernelspec": {
   "display_name": "Python 2",
   "language": "python",
   "name": "python2"
  },
  "language_info": {
   "codemirror_mode": {
    "name": "ipython",
    "version": 2
   },
   "file_extension": ".py",
   "mimetype": "text/x-python",
   "name": "python",
   "nbconvert_exporter": "python",
   "pygments_lexer": "ipython2",
   "version": "2.7.6"
  }
 },
 "nbformat": 4,
 "nbformat_minor": 2
}
