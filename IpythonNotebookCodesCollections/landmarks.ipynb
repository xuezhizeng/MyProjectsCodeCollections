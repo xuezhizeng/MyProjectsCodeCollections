{
 "cells": [
  {
   "cell_type": "markdown",
   "metadata": {},
   "source": [
    "http://www.pyimagesearch.com/2017/04/03/facial-landmarks-dlib-opencv-python/"
   ]
  },
  {
   "cell_type": "code",
   "execution_count": 1,
   "metadata": {
    "collapsed": true
   },
   "outputs": [],
   "source": [
    "# !pip install imutils"
   ]
  },
  {
   "cell_type": "code",
   "execution_count": 2,
   "metadata": {
    "collapsed": true
   },
   "outputs": [],
   "source": [
    "import matplotlib.pyplot as plt\n",
    "import os\n",
    "from time import time"
   ]
  },
  {
   "cell_type": "code",
   "execution_count": 3,
   "metadata": {},
   "outputs": [
    {
     "data": {
      "text/plain": [
       "1000"
      ]
     },
     "execution_count": 3,
     "metadata": {},
     "output_type": "execute_result"
    }
   ],
   "source": [
    "test=os.listdir('testSoyoung')\n",
    "len(test)"
   ]
  },
  {
   "cell_type": "code",
   "execution_count": 4,
   "metadata": {},
   "outputs": [
    {
     "data": {
      "text/plain": [
       "'607990_ios20170603201816545.jpg'"
      ]
     },
     "execution_count": 4,
     "metadata": {},
     "output_type": "execute_result"
    }
   ],
   "source": [
    "test[0]"
   ]
  },
  {
   "cell_type": "code",
   "execution_count": 5,
   "metadata": {},
   "outputs": [
    {
     "name": "stdout",
     "output_type": "stream",
     "text": [
      "testSoyoung/607990_ios20170603201816545.jpg\r\n"
     ]
    }
   ],
   "source": [
    "! echo testSoyoung/{test[0]}"
   ]
  },
  {
   "cell_type": "code",
   "execution_count": 6,
   "metadata": {},
   "outputs": [
    {
     "name": "stdout",
     "output_type": "stream",
     "text": [
      "CPU times: user 32 ms, sys: 12 ms, total: 44 ms\n",
      "Wall time: 1.88 s\n"
     ]
    }
   ],
   "source": [
    "%%time\n",
    "! python facial_landmarks.py --shape-predictor shape_predictor_68_face_landmarks.dat \\\n",
    "--image testSoyoung/{test[0]} --output landmark_result"
   ]
  },
  {
   "cell_type": "code",
   "execution_count": 8,
   "metadata": {},
   "outputs": [
    {
     "data": {
      "text/plain": [
       "0"
      ]
     },
     "execution_count": 8,
     "metadata": {},
     "output_type": "execute_result"
    }
   ],
   "source": [
    "0%10"
   ]
  },
  {
   "cell_type": "code",
   "execution_count": 9,
   "metadata": {},
   "outputs": [
    {
     "name": "stdout",
     "output_type": "stream",
     "text": [
      "1/1000 used 1.94 s\n",
      "10/1000 used 20.25 s\n",
      "20/1000 used 20.08 s\n",
      "30/1000 used 20.22 s\n",
      "40/1000 used 20.31 s\n",
      "50/1000 used 20.57 s\n",
      "60/1000 used 20.31 s\n",
      "70/1000 used 20.49 s\n",
      "80/1000 used 20.10 s\n",
      "90/1000 used 20.45 s\n",
      "100/1000 used 20.54 s\n",
      "110/1000 used 19.94 s\n",
      "120/1000 used 19.86 s\n",
      "130/1000 used 20.39 s\n",
      "140/1000 used 20.09 s\n",
      "150/1000 used 20.34 s\n",
      "160/1000 used 20.32 s\n",
      "170/1000 used 19.91 s\n",
      "180/1000 used 20.39 s\n",
      "190/1000 used 20.25 s\n",
      "200/1000 used 20.50 s\n",
      "210/1000 used 20.18 s\n",
      "220/1000 used 19.81 s\n",
      "230/1000 used 20.11 s\n",
      "240/1000 used 20.36 s\n",
      "250/1000 used 20.34 s\n",
      "260/1000 used 19.94 s\n",
      "Traceback (most recent call last):\n",
      "  File \"facial_landmarks.py\", line 31, in <module>\n",
      "    image = imutils.resize(image, width=500)\n",
      "  File \"/usr/local/lib/python2.7/dist-packages/imutils/convenience.py\", line 69, in resize\n",
      "    (h, w) = image.shape[:2]\n",
      "AttributeError: 'NoneType' object has no attribute 'shape'\n",
      "270/1000 used 20.01 s\n",
      "280/1000 used 20.28 s\n",
      "290/1000 used 20.13 s\n",
      "300/1000 used 20.05 s\n",
      "310/1000 used 20.48 s\n",
      "320/1000 used 20.41 s\n",
      "330/1000 used 20.13 s\n",
      "340/1000 used 20.12 s\n",
      "350/1000 used 20.41 s\n",
      "360/1000 used 20.19 s\n",
      "370/1000 used 20.17 s\n",
      "Traceback (most recent call last):\n",
      "  File \"facial_landmarks.py\", line 31, in <module>\n",
      "    image = imutils.resize(image, width=500)\n",
      "  File \"/usr/local/lib/python2.7/dist-packages/imutils/convenience.py\", line 69, in resize\n",
      "    (h, w) = image.shape[:2]\n",
      "AttributeError: 'NoneType' object has no attribute 'shape'\n",
      "380/1000 used 20.08 s\n",
      "390/1000 used 20.43 s\n",
      "400/1000 used 20.37 s\n",
      "410/1000 used 20.00 s\n",
      "420/1000 used 20.05 s\n",
      "430/1000 used 20.10 s\n",
      "440/1000 used 20.28 s\n",
      "450/1000 used 20.30 s\n",
      "460/1000 used 20.31 s\n",
      "470/1000 used 20.16 s\n",
      "480/1000 used 20.06 s\n",
      "490/1000 used 20.56 s\n",
      "500/1000 used 20.45 s\n",
      "510/1000 used 20.44 s\n",
      "520/1000 used 20.11 s\n",
      "530/1000 used 20.36 s\n",
      "540/1000 used 20.18 s\n",
      "550/1000 used 20.07 s\n",
      "560/1000 used 20.25 s\n",
      "570/1000 used 20.28 s\n",
      "580/1000 used 20.27 s\n",
      "590/1000 used 20.24 s\n",
      "600/1000 used 20.32 s\n",
      "610/1000 used 20.42 s\n",
      "620/1000 used 20.31 s\n",
      "630/1000 used 20.55 s\n",
      "640/1000 used 20.37 s\n",
      "650/1000 used 20.14 s\n",
      "660/1000 used 20.30 s\n",
      "670/1000 used 20.15 s\n",
      "680/1000 used 20.29 s\n",
      "690/1000 used 20.10 s\n",
      "700/1000 used 20.37 s\n",
      "710/1000 used 20.14 s\n",
      "720/1000 used 19.99 s\n",
      "730/1000 used 20.21 s\n",
      "740/1000 used 20.70 s\n",
      "750/1000 used 20.14 s\n",
      "760/1000 used 20.25 s\n",
      "770/1000 used 20.14 s\n",
      "780/1000 used 19.90 s\n",
      "790/1000 used 20.03 s\n",
      "800/1000 used 20.11 s\n",
      "810/1000 used 20.22 s\n",
      "820/1000 used 20.51 s\n",
      "830/1000 used 20.49 s\n",
      "840/1000 used 20.51 s\n",
      "850/1000 used 20.00 s\n",
      "860/1000 used 20.56 s\n",
      "870/1000 used 20.21 s\n",
      "880/1000 used 20.58 s\n",
      "890/1000 used 19.82 s\n",
      "900/1000 used 20.30 s\n",
      "910/1000 used 20.27 s\n",
      "920/1000 used 20.32 s\n",
      "930/1000 used 20.11 s\n",
      "940/1000 used 20.23 s\n",
      "950/1000 used 20.53 s\n",
      "960/1000 used 20.26 s\n",
      "970/1000 used 19.88 s\n",
      "980/1000 used 20.10 s\n",
      "990/1000 used 19.98 s\n",
      "1000/1000 used 20.26 s\n"
     ]
    }
   ],
   "source": [
    "n=0\n",
    "for i in test:\n",
    "    if n%10==0:\n",
    "        start=time()\n",
    "    n+=1\n",
    "    ! python facial_landmarks.py --shape-predictor shape_predictor_68_face_landmarks.dat \\\n",
    "    --image testSoyoung/{i} --output landmark_result\n",
    "    if n%10==0 or n==1:\n",
    "        print str(n)+'/'+str(len(test)),'used {:.2f} s'.format(time()-start)"
   ]
  },
  {
   "cell_type": "code",
   "execution_count": null,
   "metadata": {
    "collapsed": true
   },
   "outputs": [],
   "source": []
  }
 ],
 "metadata": {
  "kernelspec": {
   "display_name": "Python 2",
   "language": "python",
   "name": "python2"
  },
  "language_info": {
   "codemirror_mode": {
    "name": "ipython",
    "version": 2
   },
   "file_extension": ".py",
   "mimetype": "text/x-python",
   "name": "python",
   "nbconvert_exporter": "python",
   "pygments_lexer": "ipython2",
   "version": "2.7.6"
  }
 },
 "nbformat": 4,
 "nbformat_minor": 2
}
