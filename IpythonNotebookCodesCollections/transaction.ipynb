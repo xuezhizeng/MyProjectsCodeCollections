{
 "cells": [
  {
   "cell_type": "code",
   "execution_count": 90,
   "metadata": {
    "collapsed": true
   },
   "outputs": [],
   "source": [
    "import requests\n",
    "import json\n",
    "from json2df import flatten_dict\n",
    "import pandas as pd"
   ]
  },
  {
   "cell_type": "code",
   "execution_count": 91,
   "metadata": {
    "collapsed": true
   },
   "outputs": [],
   "source": [
    "link = \"http://y.soyoung.com/cp{}?action=orderlist&page={}\""
   ]
  },
  {
   "cell_type": "code",
   "execution_count": 92,
   "metadata": {
    "collapsed": true
   },
   "outputs": [],
   "source": [
    "pid, ID = 137373, 1\n",
    "link = link.format(pid, ID)"
   ]
  },
  {
   "cell_type": "code",
   "execution_count": 93,
   "metadata": {
    "collapsed": true
   },
   "outputs": [],
   "source": [
    "a = requests.get(link)\n",
    "b = json.loads(a.text)\n"
   ]
  },
  {
   "cell_type": "code",
   "execution_count": 94,
   "metadata": {},
   "outputs": [
    {
     "data": {
      "text/plain": [
       "10"
      ]
     },
     "execution_count": 94,
     "metadata": {},
     "output_type": "execute_result"
    }
   ],
   "source": [
    "c = b['list']\n",
    "len(c)"
   ]
  },
  {
   "cell_type": "code",
   "execution_count": 95,
   "metadata": {},
   "outputs": [
    {
     "data": {
      "text/plain": [
       "(28, 275)"
      ]
     },
     "execution_count": 95,
     "metadata": {},
     "output_type": "execute_result"
    }
   ],
   "source": [
    "tmp = b['pages']\n",
    "p, n = tmp['all'], int(tmp['all_num'])\n",
    "p, n"
   ]
  },
  {
   "cell_type": "code",
   "execution_count": 96,
   "metadata": {},
   "outputs": [
    {
     "data": {
      "text/plain": [
       "'http://y.soyoung.com/cp137373?action=orderlist&page=1'"
      ]
     },
     "execution_count": 96,
     "metadata": {},
     "output_type": "execute_result"
    }
   ],
   "source": [
    "link.format(12321,'{}')"
   ]
  },
  {
   "cell_type": "code",
   "execution_count": 126,
   "metadata": {
    "collapsed": true
   },
   "outputs": [],
   "source": [
    "class Transaction(object):\n",
    "    def __init__(self,  PID):\n",
    "        self.link = link.format(PID, '{}')\n",
    "        self.index=1\n",
    "        self.content = []\n",
    "        self.pid=PID\n",
    "        \n",
    "    def initial(self):\n",
    "        if self.index==1:\n",
    "            try:\n",
    "                r = requests.get(self.link.format(self.index))\n",
    "                d = json.loads(r.text)\n",
    "                c = d['list']\n",
    "                self.page, self.all = int(d['pages']['all']), int(d['pages']['all_num'])\n",
    "                \n",
    "                if len(c)>0:\n",
    "                    self.content = self.content+c\n",
    "                    self.index+= 1   \n",
    "                    \n",
    "                print 'page:',self.page,'all:', self.all\n",
    "                print '{}/{}'.format(self.index-1,self.page),\n",
    "            except Exception as e:\n",
    "                print e\n",
    "                self.initial()\n",
    "        \n",
    "    def process(self):\n",
    "        if self.page >= self.index:\n",
    "        \n",
    "            try:\n",
    "                r = requests.get(self.link.format(self.index))\n",
    "                d = json.loads(r.text)\n",
    "                c = d['list']\n",
    "\n",
    "                if len(c)>0:\n",
    "                    self.content = self.content+c\n",
    "                    print '{}/{}'.format(self.index,self.page),\n",
    "                    self.index+= 1\n",
    "                    self.process()\n",
    "                else:\n",
    "                    print '<'\n",
    "                    self.process()\n",
    "            except Exception as e:\n",
    "                print e\n",
    "                print 'X',\n",
    "                self.process()\n",
    "        else:\n",
    "            print 'R',\n",
    "            if len(self.content)==self.all:\n",
    "                try:\n",
    "                    self.df = pd.DataFrame(self.content)\n",
    "                    print self.df.shape\n",
    "                    self.df.to_excel(str(self.pid)+'.xlsx', index=False)\n",
    "                    print str(self.pid)+'.xlsx Done'\n",
    "                except Exception as e:\n",
    "                    print e\n",
    "                    print 'S'\n",
    "            else:\n",
    "                print 'gather', len(self.content), 'exists', self.all\n",
    "    def __repr__(self):\n",
    "        return str(self.pid)+' instance'"
   ]
  },
  {
   "cell_type": "code",
   "execution_count": 127,
   "metadata": {
    "collapsed": true
   },
   "outputs": [],
   "source": [
    "link = \"http://y.soyoung.com/cp{}?action=orderlist&page={}\""
   ]
  },
  {
   "cell_type": "code",
   "execution_count": 128,
   "metadata": {},
   "outputs": [
    {
     "data": {
      "text/plain": [
       "137373 instance"
      ]
     },
     "execution_count": 128,
     "metadata": {},
     "output_type": "execute_result"
    }
   ],
   "source": [
    "t = Transaction(137373)\n",
    "t"
   ]
  },
  {
   "cell_type": "code",
   "execution_count": 129,
   "metadata": {},
   "outputs": [
    {
     "data": {
      "text/plain": [
       "'http://y.soyoung.com/cp137373?action=orderlist&page={}'"
      ]
     },
     "execution_count": 129,
     "metadata": {},
     "output_type": "execute_result"
    }
   ],
   "source": [
    "t.link"
   ]
  },
  {
   "cell_type": "code",
   "execution_count": 130,
   "metadata": {},
   "outputs": [
    {
     "data": {
      "text/plain": [
       "1"
      ]
     },
     "execution_count": 130,
     "metadata": {},
     "output_type": "execute_result"
    }
   ],
   "source": [
    "t.index"
   ]
  },
  {
   "cell_type": "code",
   "execution_count": 131,
   "metadata": {},
   "outputs": [
    {
     "name": "stdout",
     "output_type": "stream",
     "text": [
      "page: 28 all: 275\n",
      "1/28\n"
     ]
    }
   ],
   "source": [
    "t.initial()"
   ]
  },
  {
   "cell_type": "code",
   "execution_count": 132,
   "metadata": {},
   "outputs": [
    {
     "name": "stdout",
     "output_type": "stream",
     "text": [
      "2/28 3/28 4/28 5/28 6/28 7/28 8/28 9/28 10/28 11/28 12/28 13/28 14/28 15/28 16/28 17/28 18/28 19/28 20/28 21/28 22/28 23/28 24/28 25/28 26/28 27/28 28/28 R (275, 8)\n",
      "Done\n"
     ]
    }
   ],
   "source": [
    "t.process()"
   ]
  },
  {
   "cell_type": "code",
   "execution_count": 133,
   "metadata": {},
   "outputs": [
    {
     "data": {
      "text/plain": [
       "275"
      ]
     },
     "execution_count": 133,
     "metadata": {},
     "output_type": "execute_result"
    }
   ],
   "source": [
    "len(t.content)"
   ]
  },
  {
   "cell_type": "code",
   "execution_count": 134,
   "metadata": {},
   "outputs": [
    {
     "data": {
      "text/plain": [
       "275"
      ]
     },
     "execution_count": 134,
     "metadata": {},
     "output_type": "execute_result"
    }
   ],
   "source": [
    "t.all"
   ]
  },
  {
   "cell_type": "code",
   "execution_count": null,
   "metadata": {
    "collapsed": true
   },
   "outputs": [],
   "source": []
  }
 ],
 "metadata": {
  "kernelspec": {
   "display_name": "Python 2",
   "language": "python",
   "name": "python2"
  },
  "language_info": {
   "codemirror_mode": {
    "name": "ipython",
    "version": 2
   },
   "file_extension": ".py",
   "mimetype": "text/x-python",
   "name": "python",
   "nbconvert_exporter": "python",
   "pygments_lexer": "ipython2",
   "version": "2.7.13"
  }
 },
 "nbformat": 4,
 "nbformat_minor": 2
}
