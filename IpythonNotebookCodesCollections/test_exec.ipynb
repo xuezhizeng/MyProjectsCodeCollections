{
 "cells": [
  {
   "cell_type": "code",
   "execution_count": 1,
   "metadata": {
    "collapsed": true
   },
   "outputs": [],
   "source": [
    "import pandas as pd"
   ]
  },
  {
   "cell_type": "code",
   "execution_count": 10,
   "metadata": {},
   "outputs": [
    {
     "name": "stdout",
     "output_type": "stream",
     "text": [
      "(209521, 129)\n"
     ]
    },
    {
     "data": {
      "text/html": [
       "<div>\n",
       "<style>\n",
       "    .dataframe thead tr:only-child th {\n",
       "        text-align: right;\n",
       "    }\n",
       "\n",
       "    .dataframe thead th {\n",
       "        text-align: left;\n",
       "    }\n",
       "\n",
       "    .dataframe tbody tr th {\n",
       "        vertical-align: top;\n",
       "    }\n",
       "</style>\n",
       "<table border=\"1\" class=\"dataframe\">\n",
       "  <thead>\n",
       "    <tr style=\"text-align: right;\">\n",
       "      <th></th>\n",
       "      <th>0</th>\n",
       "      <th>1</th>\n",
       "      <th>2</th>\n",
       "      <th>3</th>\n",
       "      <th>4</th>\n",
       "      <th>5</th>\n",
       "      <th>6</th>\n",
       "      <th>7</th>\n",
       "      <th>8</th>\n",
       "      <th>9</th>\n",
       "      <th>...</th>\n",
       "      <th>119</th>\n",
       "      <th>120</th>\n",
       "      <th>121</th>\n",
       "      <th>122</th>\n",
       "      <th>123</th>\n",
       "      <th>124</th>\n",
       "      <th>125</th>\n",
       "      <th>126</th>\n",
       "      <th>127</th>\n",
       "      <th>name</th>\n",
       "    </tr>\n",
       "  </thead>\n",
       "  <tbody>\n",
       "    <tr>\n",
       "      <th>0</th>\n",
       "      <td>0.011476</td>\n",
       "      <td>0.165126</td>\n",
       "      <td>-0.129640</td>\n",
       "      <td>0.016787</td>\n",
       "      <td>0.022167</td>\n",
       "      <td>0.051669</td>\n",
       "      <td>0.014077</td>\n",
       "      <td>0.017761</td>\n",
       "      <td>0.011484</td>\n",
       "      <td>0.137340</td>\n",
       "      <td>...</td>\n",
       "      <td>0.157795</td>\n",
       "      <td>-0.054396</td>\n",
       "      <td>-0.000642</td>\n",
       "      <td>-0.096280</td>\n",
       "      <td>0.126662</td>\n",
       "      <td>-0.005746</td>\n",
       "      <td>-0.006710</td>\n",
       "      <td>-0.089524</td>\n",
       "      <td>0.049204</td>\n",
       "      <td>sub_28/1aa1269cc4cd42aeb12fb6f83beb89f4.jpg</td>\n",
       "    </tr>\n",
       "    <tr>\n",
       "      <th>1</th>\n",
       "      <td>-0.003138</td>\n",
       "      <td>-0.094253</td>\n",
       "      <td>-0.074803</td>\n",
       "      <td>0.001642</td>\n",
       "      <td>0.080649</td>\n",
       "      <td>-0.065988</td>\n",
       "      <td>-0.029929</td>\n",
       "      <td>0.026139</td>\n",
       "      <td>0.026266</td>\n",
       "      <td>-0.024320</td>\n",
       "      <td>...</td>\n",
       "      <td>0.135359</td>\n",
       "      <td>-0.071909</td>\n",
       "      <td>0.113172</td>\n",
       "      <td>0.045211</td>\n",
       "      <td>0.141725</td>\n",
       "      <td>-0.033956</td>\n",
       "      <td>0.012183</td>\n",
       "      <td>-0.019442</td>\n",
       "      <td>0.013153</td>\n",
       "      <td>sub_28/1985782_13_102812_1.jpg</td>\n",
       "    </tr>\n",
       "    <tr>\n",
       "      <th>2</th>\n",
       "      <td>0.052159</td>\n",
       "      <td>0.078025</td>\n",
       "      <td>-0.058801</td>\n",
       "      <td>0.111056</td>\n",
       "      <td>0.011825</td>\n",
       "      <td>0.077016</td>\n",
       "      <td>0.018737</td>\n",
       "      <td>0.034417</td>\n",
       "      <td>0.029392</td>\n",
       "      <td>-0.014144</td>\n",
       "      <td>...</td>\n",
       "      <td>0.076519</td>\n",
       "      <td>-0.007938</td>\n",
       "      <td>0.055379</td>\n",
       "      <td>-0.049870</td>\n",
       "      <td>0.153607</td>\n",
       "      <td>0.078589</td>\n",
       "      <td>-0.073745</td>\n",
       "      <td>0.036184</td>\n",
       "      <td>0.064255</td>\n",
       "      <td>sub_28/1993968735118832174.jpg</td>\n",
       "    </tr>\n",
       "    <tr>\n",
       "      <th>3</th>\n",
       "      <td>-0.022384</td>\n",
       "      <td>0.050678</td>\n",
       "      <td>-0.026818</td>\n",
       "      <td>0.041654</td>\n",
       "      <td>0.046246</td>\n",
       "      <td>0.022148</td>\n",
       "      <td>0.001582</td>\n",
       "      <td>0.021008</td>\n",
       "      <td>0.024489</td>\n",
       "      <td>0.015352</td>\n",
       "      <td>...</td>\n",
       "      <td>0.152728</td>\n",
       "      <td>-0.050696</td>\n",
       "      <td>-0.020838</td>\n",
       "      <td>-0.068645</td>\n",
       "      <td>0.067528</td>\n",
       "      <td>-0.124348</td>\n",
       "      <td>0.097163</td>\n",
       "      <td>0.079192</td>\n",
       "      <td>0.057003</td>\n",
       "      <td>sub_28/195943d29ir441i444lhtr.jpg</td>\n",
       "    </tr>\n",
       "    <tr>\n",
       "      <th>4</th>\n",
       "      <td>0.059199</td>\n",
       "      <td>0.078390</td>\n",
       "      <td>-0.108855</td>\n",
       "      <td>0.071035</td>\n",
       "      <td>-0.007066</td>\n",
       "      <td>-0.000059</td>\n",
       "      <td>0.007308</td>\n",
       "      <td>-0.022881</td>\n",
       "      <td>-0.106324</td>\n",
       "      <td>0.033876</td>\n",
       "      <td>...</td>\n",
       "      <td>0.116259</td>\n",
       "      <td>-0.019002</td>\n",
       "      <td>0.083863</td>\n",
       "      <td>0.170860</td>\n",
       "      <td>0.019041</td>\n",
       "      <td>0.054721</td>\n",
       "      <td>0.044380</td>\n",
       "      <td>0.145403</td>\n",
       "      <td>-0.038084</td>\n",
       "      <td>sub_28/1dd0675b-b9d6-4cca-a03e-2134403a74a9_si...</td>\n",
       "    </tr>\n",
       "  </tbody>\n",
       "</table>\n",
       "<p>5 rows × 129 columns</p>\n",
       "</div>"
      ],
      "text/plain": [
       "          0         1         2         3         4         5         6  \\\n",
       "0  0.011476  0.165126 -0.129640  0.016787  0.022167  0.051669  0.014077   \n",
       "1 -0.003138 -0.094253 -0.074803  0.001642  0.080649 -0.065988 -0.029929   \n",
       "2  0.052159  0.078025 -0.058801  0.111056  0.011825  0.077016  0.018737   \n",
       "3 -0.022384  0.050678 -0.026818  0.041654  0.046246  0.022148  0.001582   \n",
       "4  0.059199  0.078390 -0.108855  0.071035 -0.007066 -0.000059  0.007308   \n",
       "\n",
       "          7         8         9  \\\n",
       "0  0.017761  0.011484  0.137340   \n",
       "1  0.026139  0.026266 -0.024320   \n",
       "2  0.034417  0.029392 -0.014144   \n",
       "3  0.021008  0.024489  0.015352   \n",
       "4 -0.022881 -0.106324  0.033876   \n",
       "\n",
       "                         ...                               119       120  \\\n",
       "0                        ...                          0.157795 -0.054396   \n",
       "1                        ...                          0.135359 -0.071909   \n",
       "2                        ...                          0.076519 -0.007938   \n",
       "3                        ...                          0.152728 -0.050696   \n",
       "4                        ...                          0.116259 -0.019002   \n",
       "\n",
       "        121       122       123       124       125       126       127  \\\n",
       "0 -0.000642 -0.096280  0.126662 -0.005746 -0.006710 -0.089524  0.049204   \n",
       "1  0.113172  0.045211  0.141725 -0.033956  0.012183 -0.019442  0.013153   \n",
       "2  0.055379 -0.049870  0.153607  0.078589 -0.073745  0.036184  0.064255   \n",
       "3 -0.020838 -0.068645  0.067528 -0.124348  0.097163  0.079192  0.057003   \n",
       "4  0.083863  0.170860  0.019041  0.054721  0.044380  0.145403 -0.038084   \n",
       "\n",
       "                                                name  \n",
       "0        sub_28/1aa1269cc4cd42aeb12fb6f83beb89f4.jpg  \n",
       "1                     sub_28/1985782_13_102812_1.jpg  \n",
       "2                     sub_28/1993968735118832174.jpg  \n",
       "3                  sub_28/195943d29ir441i444lhtr.jpg  \n",
       "4  sub_28/1dd0675b-b9d6-4cca-a03e-2134403a74a9_si...  \n",
       "\n",
       "[5 rows x 129 columns]"
      ]
     },
     "execution_count": 10,
     "metadata": {},
     "output_type": "execute_result"
    }
   ],
   "source": [
    "df = pd.read_csv('parameter/20WpicsPara.csv')\n",
    "print df.shape\n",
    "df.head()"
   ]
  },
  {
   "cell_type": "code",
   "execution_count": 11,
   "metadata": {},
   "outputs": [
    {
     "data": {
      "text/html": [
       "<div>\n",
       "<style>\n",
       "    .dataframe thead tr:only-child th {\n",
       "        text-align: right;\n",
       "    }\n",
       "\n",
       "    .dataframe thead th {\n",
       "        text-align: left;\n",
       "    }\n",
       "\n",
       "    .dataframe tbody tr th {\n",
       "        vertical-align: top;\n",
       "    }\n",
       "</style>\n",
       "<table border=\"1\" class=\"dataframe\">\n",
       "  <thead>\n",
       "    <tr style=\"text-align: right;\">\n",
       "      <th></th>\n",
       "      <th>name</th>\n",
       "    </tr>\n",
       "  </thead>\n",
       "  <tbody>\n",
       "    <tr>\n",
       "      <th>0</th>\n",
       "      <td>sub_28/1aa1269cc4cd42aeb12fb6f83beb89f4.jpg</td>\n",
       "    </tr>\n",
       "    <tr>\n",
       "      <th>1</th>\n",
       "      <td>sub_28/1985782_13_102812_1.jpg</td>\n",
       "    </tr>\n",
       "    <tr>\n",
       "      <th>2</th>\n",
       "      <td>sub_28/1993968735118832174.jpg</td>\n",
       "    </tr>\n",
       "    <tr>\n",
       "      <th>3</th>\n",
       "      <td>sub_28/195943d29ir441i444lhtr.jpg</td>\n",
       "    </tr>\n",
       "    <tr>\n",
       "      <th>4</th>\n",
       "      <td>sub_28/1dd0675b-b9d6-4cca-a03e-2134403a74a9_si...</td>\n",
       "    </tr>\n",
       "  </tbody>\n",
       "</table>\n",
       "</div>"
      ],
      "text/plain": [
       "                                                name\n",
       "0        sub_28/1aa1269cc4cd42aeb12fb6f83beb89f4.jpg\n",
       "1                     sub_28/1985782_13_102812_1.jpg\n",
       "2                     sub_28/1993968735118832174.jpg\n",
       "3                  sub_28/195943d29ir441i444lhtr.jpg\n",
       "4  sub_28/1dd0675b-b9d6-4cca-a03e-2134403a74a9_si..."
      ]
     },
     "execution_count": 11,
     "metadata": {},
     "output_type": "execute_result"
    }
   ],
   "source": [
    "name = df.pop('name').to_frame()\n",
    "name.head()"
   ]
  },
  {
   "cell_type": "code",
   "execution_count": 14,
   "metadata": {},
   "outputs": [
    {
     "data": {
      "text/plain": [
       "(209521, 128)"
      ]
     },
     "execution_count": 14,
     "metadata": {},
     "output_type": "execute_result"
    }
   ],
   "source": [
    "df.as_matrix().shape"
   ]
  },
  {
   "cell_type": "code",
   "execution_count": 19,
   "metadata": {},
   "outputs": [
    {
     "data": {
      "text/plain": [
       "'sub_28/195943d29ir441i444lhtr.jpg'"
      ]
     },
     "execution_count": 19,
     "metadata": {},
     "output_type": "execute_result"
    }
   ],
   "source": [
    "name.iloc[3][0]"
   ]
  },
  {
   "cell_type": "code",
   "execution_count": null,
   "metadata": {
    "collapsed": true
   },
   "outputs": [],
   "source": []
  }
 ],
 "metadata": {
  "kernelspec": {
   "display_name": "Python 2",
   "language": "python",
   "name": "python2"
  },
  "language_info": {
   "codemirror_mode": {
    "name": "ipython",
    "version": 2
   },
   "file_extension": ".py",
   "mimetype": "text/x-python",
   "name": "python",
   "nbconvert_exporter": "python",
   "pygments_lexer": "ipython2",
   "version": "2.7.13"
  }
 },
 "nbformat": 4,
 "nbformat_minor": 2
}
