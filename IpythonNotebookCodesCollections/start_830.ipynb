{
 "cells": [
  {
   "cell_type": "code",
   "execution_count": 4,
   "metadata": {
    "collapsed": true
   },
   "outputs": [],
   "source": [
    "import pandas as pd\n",
    "from time import ctime, time"
   ]
  },
  {
   "cell_type": "code",
   "execution_count": 11,
   "metadata": {},
   "outputs": [
    {
     "name": "stdout",
     "output_type": "stream",
     "text": [
      "The slowest run took 7.04 times longer than the fastest. This could mean that an intermediate result is being cached.\n",
      "1000000 loops, best of 3: 1.12 µs per loop\n"
     ]
    }
   ],
   "source": [
    "%%timeit\n",
    "ctime()"
   ]
  },
  {
   "cell_type": "code",
   "execution_count": 13,
   "metadata": {},
   "outputs": [
    {
     "data": {
      "text/plain": [
       "(210467, 10)"
      ]
     },
     "execution_count": 13,
     "metadata": {},
     "output_type": "execute_result"
    }
   ],
   "source": [
    "df=pd.read_csv('post_url.csv')\n",
    "df.shape"
   ]
  },
  {
   "cell_type": "code",
   "execution_count": 14,
   "metadata": {},
   "outputs": [
    {
     "data": {
      "text/html": [
       "<div>\n",
       "<style>\n",
       "    .dataframe thead tr:only-child th {\n",
       "        text-align: right;\n",
       "    }\n",
       "\n",
       "    .dataframe thead th {\n",
       "        text-align: left;\n",
       "    }\n",
       "\n",
       "    .dataframe tbody tr th {\n",
       "        vertical-align: top;\n",
       "    }\n",
       "</style>\n",
       "<table border=\"1\" class=\"dataframe\">\n",
       "  <thead>\n",
       "    <tr style=\"text-align: right;\">\n",
       "      <th></th>\n",
       "      <th>id</th>\n",
       "      <th>post_url</th>\n",
       "      <th>note</th>\n",
       "      <th>program_id</th>\n",
       "      <th>user_id</th>\n",
       "      <th>user_name</th>\n",
       "      <th>date</th>\n",
       "      <th>pic_num</th>\n",
       "      <th>rating</th>\n",
       "      <th>program_url</th>\n",
       "    </tr>\n",
       "  </thead>\n",
       "  <tbody>\n",
       "    <tr>\n",
       "      <th>0</th>\n",
       "      <td>607843</td>\n",
       "      <td>http://www.soyoung.com/p12360175</td>\n",
       "      <td>1</td>\n",
       "      <td>cp10000</td>\n",
       "      <td>u10040950</td>\n",
       "      <td>会说话的猫咪</td>\n",
       "      <td>2017-05-02 23:44:56</td>\n",
       "      <td>3</td>\n",
       "      <td>100%</td>\n",
       "      <td>http://y.soyoung.com/cp10000</td>\n",
       "    </tr>\n",
       "    <tr>\n",
       "      <th>1</th>\n",
       "      <td>607844</td>\n",
       "      <td>http://www.soyoung.com/p10127503</td>\n",
       "      <td>1</td>\n",
       "      <td>cp10000</td>\n",
       "      <td>u3884867</td>\n",
       "      <td>需要氧气缺氧ing</td>\n",
       "      <td>2016-12-04 10:03:22</td>\n",
       "      <td>1</td>\n",
       "      <td>100%</td>\n",
       "      <td>http://y.soyoung.com/cp10000</td>\n",
       "    </tr>\n",
       "    <tr>\n",
       "      <th>2</th>\n",
       "      <td>607845</td>\n",
       "      <td>http://www.soyoung.com/p7615001</td>\n",
       "      <td>1</td>\n",
       "      <td>cp10000</td>\n",
       "      <td>u3884867</td>\n",
       "      <td>需要氧气缺氧ing</td>\n",
       "      <td>2016-06-15 12:54:58</td>\n",
       "      <td>2</td>\n",
       "      <td>100%</td>\n",
       "      <td>http://y.soyoung.com/cp10000</td>\n",
       "    </tr>\n",
       "    <tr>\n",
       "      <th>3</th>\n",
       "      <td>607846</td>\n",
       "      <td>http://www.soyoung.com/p6941462</td>\n",
       "      <td>1</td>\n",
       "      <td>cp10000</td>\n",
       "      <td>u3345716</td>\n",
       "      <td>路心</td>\n",
       "      <td>2016-04-29 15:55:07</td>\n",
       "      <td>1</td>\n",
       "      <td>100%</td>\n",
       "      <td>http://y.soyoung.com/cp10000</td>\n",
       "    </tr>\n",
       "    <tr>\n",
       "      <th>4</th>\n",
       "      <td>607847</td>\n",
       "      <td>http://www.soyoung.com/p6316803</td>\n",
       "      <td>1</td>\n",
       "      <td>cp10000</td>\n",
       "      <td>u1783000</td>\n",
       "      <td>蛮大大</td>\n",
       "      <td>2016-03-16 23:29:25</td>\n",
       "      <td>2</td>\n",
       "      <td>100%</td>\n",
       "      <td>http://y.soyoung.com/cp10000</td>\n",
       "    </tr>\n",
       "  </tbody>\n",
       "</table>\n",
       "</div>"
      ],
      "text/plain": [
       "       id                          post_url  note program_id    user_id  \\\n",
       "0  607843  http://www.soyoung.com/p12360175     1    cp10000  u10040950   \n",
       "1  607844  http://www.soyoung.com/p10127503     1    cp10000   u3884867   \n",
       "2  607845   http://www.soyoung.com/p7615001     1    cp10000   u3884867   \n",
       "3  607846   http://www.soyoung.com/p6941462     1    cp10000   u3345716   \n",
       "4  607847   http://www.soyoung.com/p6316803     1    cp10000   u1783000   \n",
       "\n",
       "   user_name                 date  pic_num rating  \\\n",
       "0     会说话的猫咪  2017-05-02 23:44:56        3   100%   \n",
       "1  需要氧气缺氧ing  2016-12-04 10:03:22        1   100%   \n",
       "2  需要氧气缺氧ing  2016-06-15 12:54:58        2   100%   \n",
       "3         路心  2016-04-29 15:55:07        1   100%   \n",
       "4        蛮大大  2016-03-16 23:29:25        2   100%   \n",
       "\n",
       "                    program_url  \n",
       "0  http://y.soyoung.com/cp10000  \n",
       "1  http://y.soyoung.com/cp10000  \n",
       "2  http://y.soyoung.com/cp10000  \n",
       "3  http://y.soyoung.com/cp10000  \n",
       "4  http://y.soyoung.com/cp10000  "
      ]
     },
     "execution_count": 14,
     "metadata": {},
     "output_type": "execute_result"
    }
   ],
   "source": [
    "df.head()"
   ]
  },
  {
   "cell_type": "code",
   "execution_count": 15,
   "metadata": {},
   "outputs": [
    {
     "data": {
      "text/plain": [
       "id              int64\n",
       "post_url       object\n",
       "note            int64\n",
       "program_id     object\n",
       "user_id        object\n",
       "user_name      object\n",
       "date           object\n",
       "pic_num         int64\n",
       "rating         object\n",
       "program_url    object\n",
       "dtype: object"
      ]
     },
     "execution_count": 15,
     "metadata": {},
     "output_type": "execute_result"
    }
   ],
   "source": [
    "df.dtypes"
   ]
  },
  {
   "cell_type": "code",
   "execution_count": 18,
   "metadata": {},
   "outputs": [
    {
     "data": {
      "text/plain": [
       "(2153, 2)"
      ]
     },
     "execution_count": 18,
     "metadata": {},
     "output_type": "execute_result"
    }
   ],
   "source": [
    "one=df[df.id<610000][['id','post_url']]\n",
    "one.shape"
   ]
  },
  {
   "cell_type": "code",
   "execution_count": 19,
   "metadata": {},
   "outputs": [
    {
     "data": {
      "text/html": [
       "<div>\n",
       "<style>\n",
       "    .dataframe thead tr:only-child th {\n",
       "        text-align: right;\n",
       "    }\n",
       "\n",
       "    .dataframe thead th {\n",
       "        text-align: left;\n",
       "    }\n",
       "\n",
       "    .dataframe tbody tr th {\n",
       "        vertical-align: top;\n",
       "    }\n",
       "</style>\n",
       "<table border=\"1\" class=\"dataframe\">\n",
       "  <thead>\n",
       "    <tr style=\"text-align: right;\">\n",
       "      <th></th>\n",
       "      <th>id</th>\n",
       "      <th>post_url</th>\n",
       "    </tr>\n",
       "  </thead>\n",
       "  <tbody>\n",
       "    <tr>\n",
       "      <th>0</th>\n",
       "      <td>607843</td>\n",
       "      <td>http://www.soyoung.com/p12360175</td>\n",
       "    </tr>\n",
       "    <tr>\n",
       "      <th>1</th>\n",
       "      <td>607844</td>\n",
       "      <td>http://www.soyoung.com/p10127503</td>\n",
       "    </tr>\n",
       "    <tr>\n",
       "      <th>2</th>\n",
       "      <td>607845</td>\n",
       "      <td>http://www.soyoung.com/p7615001</td>\n",
       "    </tr>\n",
       "    <tr>\n",
       "      <th>3</th>\n",
       "      <td>607846</td>\n",
       "      <td>http://www.soyoung.com/p6941462</td>\n",
       "    </tr>\n",
       "    <tr>\n",
       "      <th>4</th>\n",
       "      <td>607847</td>\n",
       "      <td>http://www.soyoung.com/p6316803</td>\n",
       "    </tr>\n",
       "  </tbody>\n",
       "</table>\n",
       "</div>"
      ],
      "text/plain": [
       "       id                          post_url\n",
       "0  607843  http://www.soyoung.com/p12360175\n",
       "1  607844  http://www.soyoung.com/p10127503\n",
       "2  607845   http://www.soyoung.com/p7615001\n",
       "3  607846   http://www.soyoung.com/p6941462\n",
       "4  607847   http://www.soyoung.com/p6316803"
      ]
     },
     "execution_count": 19,
     "metadata": {},
     "output_type": "execute_result"
    }
   ],
   "source": [
    "one.head()"
   ]
  },
  {
   "cell_type": "code",
   "execution_count": 20,
   "metadata": {
    "collapsed": true
   },
   "outputs": [],
   "source": [
    "one.to_csv('one.csv', index=False)"
   ]
  },
  {
   "cell_type": "code",
   "execution_count": null,
   "metadata": {
    "collapsed": true
   },
   "outputs": [],
   "source": []
  }
 ],
 "metadata": {
  "kernelspec": {
   "display_name": "Python 2",
   "language": "python",
   "name": "python2"
  },
  "language_info": {
   "codemirror_mode": {
    "name": "ipython",
    "version": 2
   },
   "file_extension": ".py",
   "mimetype": "text/x-python",
   "name": "python",
   "nbconvert_exporter": "python",
   "pygments_lexer": "ipython2",
   "version": "2.7.13"
  }
 },
 "nbformat": 4,
 "nbformat_minor": 2
}
