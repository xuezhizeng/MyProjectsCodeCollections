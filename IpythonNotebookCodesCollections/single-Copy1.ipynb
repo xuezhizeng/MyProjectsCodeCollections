{
 "cells": [
  {
   "cell_type": "code",
   "execution_count": 16,
   "metadata": {
    "collapsed": true
   },
   "outputs": [],
   "source": [
    "import requests\n",
    "from lxml import etree\n",
    "from time import time, ctime"
   ]
  },
  {
   "cell_type": "code",
   "execution_count": 25,
   "metadata": {},
   "outputs": [],
   "source": [
    "def single(url):\n",
    "    start=time()\n",
    "    content=etree.HTML(requests.get(url, timeout=60).text).xpath('//div[@class=\"c\"]//*[@title]/@src')\n",
    "    return content, ctime()[4:], '{:.2f}s'.format(time()-start)"
   ]
  },
  {
   "cell_type": "code",
   "execution_count": 26,
   "metadata": {},
   "outputs": [
    {
     "name": "stdout",
     "output_type": "stream",
     "text": [
      "CPU times: user 16 ms, sys: 4 ms, total: 20 ms\n",
      "Wall time: 4.23 s\n"
     ]
    },
    {
     "data": {
      "text/plain": [
       "(['http://img2.soyoung.com/tieba/web/20150802/6/20150802154251936_570.jpg',\n",
       "  'http://img2.soyoung.com/tieba/web/20150802/2/20150802154306545_570.jpg',\n",
       "  'http://img2.soyoung.com/tieba/web/20150802/5/20150802155006889_570.jpg',\n",
       "  'http://img2.soyoung.com/tieba/web/20150802/6/20150802154914356_570.jpg',\n",
       "  'http://img2.soyoung.com/tieba/web/20150802/1/20150802155030842_570.jpg',\n",
       "  'http://img2.soyoung.com/tieba/web/20150802/5/20150802155044373_570.jpg',\n",
       "  'http://img2.soyoung.com/tieba/web/20150802/8/20150802155240923_570.jpg',\n",
       "  'http://img2.soyoung.com/tieba/web/20150802/6/20150802155736734_570.jpg',\n",
       "  'http://img2.soyoung.com/tieba/web/20150802/8/20150802155749894_570.jpg',\n",
       "  'http://img2.soyoung.com/tieba/web/20150802/4/20150802155805714_570.jpg',\n",
       "  'http://img2.soyoung.com/tieba/web/20150802/8/20150802155819333_570.jpg',\n",
       "  'http://img2.soyoung.com/tieba/web/20150802/0/20150802155839312_570.jpg',\n",
       "  'http://img2.soyoung.com/tieba/web/20150802/3/20150802155857833_570.jpg',\n",
       "  'http://img2.soyoung.com/tieba/web/20150802/2/20150802160033121_570.jpg',\n",
       "  'http://img2.soyoung.com/tieba/web/20150802/9/20150802161546338_570.jpg',\n",
       "  'http://img2.soyoung.com/tieba/web/20150802/8/20150802161615597_570.jpg',\n",
       "  'http://img2.soyoung.com/tieba/web/20150802/8/20150802161626592_570.jpg',\n",
       "  'http://img2.soyoung.com/tieba/web/20150802/7/20150802161738332_570.jpg',\n",
       "  'http://img2.soyoung.com/tieba/web/20150802/1/20150802161808165_570.jpg',\n",
       "  'http://img2.soyoung.com/tieba/web/20150802/1/20150802161826603_570.jpg',\n",
       "  'http://img2.soyoung.com/tieba/web/20150802/1/20150802163734607_570.jpg',\n",
       "  'http://img2.soyoung.com/tieba/web/20150802/9/20150802163813696_570.jpg',\n",
       "  'http://img2.soyoung.com/tieba/web/20150802/7/20150802163844315_570.jpg',\n",
       "  'http://img2.soyoung.com/tieba/web/20150802/0/20150802163855750_570.jpg',\n",
       "  'http://img2.soyoung.com/tieba/web/20150802/3/20150802164051630_570.jpg',\n",
       "  'http://img2.soyoung.com/tieba/web/20150802/3/20150802164102937_570.jpg',\n",
       "  'http://img2.soyoung.com/tieba/web/20150802/8/20150802164130903_570.jpg',\n",
       "  'http://img2.soyoung.com/tieba/web/20150802/2/20150802164218631_570.jpg',\n",
       "  'http://img2.soyoung.com/tieba/web/20150802/2/20150802164231968_570.jpg',\n",
       "  'http://img2.soyoung.com/tieba/web/20150802/0/20150802164250540_570.jpg',\n",
       "  'http://img2.soyoung.com/tieba/web/20150802/7/20150802164304776_570.jpg',\n",
       "  'http://img2.soyoung.com/tieba/web/20150802/9/20150802164318532_570.jpg',\n",
       "  'http://img2.soyoung.com/tieba/web/20150802/5/20150802164350575_570.jpg',\n",
       "  'http://img2.soyoung.com/tieba/web/20150802/8/20150802164419926_570.jpg',\n",
       "  'http://img2.soyoung.com/tieba/web/20150802/3/20150802164606241_570.jpg',\n",
       "  'http://img2.soyoung.com/tieba/web/20150802/6/20150802164637255_570.jpg',\n",
       "  'http://img2.soyoung.com/tieba/web/20150802/9/20150802164755698_570.jpg',\n",
       "  'http://img2.soyoung.com/tieba/web/20150802/0/20150802164926231_570.jpg',\n",
       "  'http://img2.soyoung.com/tieba/web/20150802/8/20150802165039256_570.jpg',\n",
       "  'http://img2.soyoung.com/tieba/web/20150802/4/20150802165420409_570.jpg',\n",
       "  'http://img2.soyoung.com/tieba/web/20150802/5/20150802165726231_570.jpg',\n",
       "  'http://img2.soyoung.com/tieba/web/20150802/1/20150802165739440_570.jpg',\n",
       "  'http://img2.soyoung.com/tieba/web/20150802/7/20150802170016451_570.jpg',\n",
       "  'http://img2.soyoung.com/tieba/web/20150802/3/20150802170307812_570.jpg',\n",
       "  'http://img2.soyoung.com/tieba/web/20150802/1/20150802170503592_570.jpg',\n",
       "  'http://img2.soyoung.com/tieba/web/20150802/2/20150802170516146_570.jpg',\n",
       "  'http://img2.soyoung.com/tieba/web/20150802/8/20150802170539102_570.jpg'],\n",
       " 'Aug 30 08:50:17 2017',\n",
       " '4.23s')"
      ]
     },
     "execution_count": 26,
     "metadata": {},
     "output_type": "execute_result"
    }
   ],
   "source": [
    "%%time\n",
    "single('http://www.soyoung.com/p3020002')"
   ]
  },
  {
   "cell_type": "code",
   "execution_count": null,
   "metadata": {
    "collapsed": true
   },
   "outputs": [],
   "source": []
  }
 ],
 "metadata": {
  "kernelspec": {
   "display_name": "Python 2",
   "language": "python",
   "name": "python2"
  },
  "language_info": {
   "codemirror_mode": {
    "name": "ipython",
    "version": 2
   },
   "file_extension": ".py",
   "mimetype": "text/x-python",
   "name": "python",
   "nbconvert_exporter": "python",
   "pygments_lexer": "ipython2",
   "version": "2.7.13"
  }
 },
 "nbformat": 4,
 "nbformat_minor": 2
}
