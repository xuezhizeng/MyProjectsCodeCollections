{
 "cells": [
  {
   "cell_type": "code",
   "execution_count": 1,
   "metadata": {},
   "outputs": [],
   "source": [
    "# !ls"
   ]
  },
  {
   "cell_type": "code",
   "execution_count": null,
   "metadata": {},
   "outputs": [
    {
     "name": "stdout",
     "output_type": "stream",
     "text": [
      "1 used 0.00 s\n",
      "100 used 39.24 s\n",
      "200 used 74.81 s\n",
      "300 used 113.32 s\n",
      "400 used 161.66 s\n",
      "500 used 232.63 s\n",
      "600 used 307.16 s\n",
      "700 used 361.72 s\n",
      "800 used 430.30 s\n",
      "900 used 558.17 s\n",
      "1000 used 703.53 s\n",
      "1100 used 844.14 s\n",
      "1200 used 982.35 s\n",
      "1300 used 1120.91 s\n",
      "1400 used 1261.81 s\n",
      "1500 used 1405.44 s\n",
      "1600 used 1541.30 s\n",
      "1700 used 1682.65 s\n",
      "1800 used 1829.97 s\n",
      "1900 used 1977.57 s\n"
     ]
    }
   ],
   "source": [
    "from time import time\n",
    "start=time()\n",
    "start\n",
    "\n",
    "\n",
    "!/root/openface/util/align-dlib_mod.py \\\n",
    "real_soyoung_pics/img_3 align \\\n",
    "outerEyesAndNose \\\n",
    "chopHead256_real_soyoung_pics \\\n",
    "--size 256\n",
    "\n",
    "end=time()-start\n",
    "end"
   ]
  },
  {
   "cell_type": "code",
   "execution_count": null,
   "metadata": {
    "collapsed": true
   },
   "outputs": [],
   "source": []
  }
 ],
 "metadata": {
  "kernelspec": {
   "display_name": "Python 2",
   "language": "python",
   "name": "python2"
  },
  "language_info": {
   "codemirror_mode": {
    "name": "ipython",
    "version": 2
   },
   "file_extension": ".py",
   "mimetype": "text/x-python",
   "name": "python",
   "nbconvert_exporter": "python",
   "pygments_lexer": "ipython2",
   "version": "2.7.6"
  }
 },
 "nbformat": 4,
 "nbformat_minor": 2
}
