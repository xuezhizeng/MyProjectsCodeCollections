{
 "cells": [
  {
   "cell_type": "code",
   "execution_count": 1,
   "metadata": {},
   "outputs": [
    {
     "name": "stdout",
     "output_type": "stream",
     "text": [
      "\r\n",
      "                      rx      /      tx      /     total    /   estimated\r\n",
      " eth0:\r\n",
      "       Aug '17      6.40 GiB  /    1.87 GiB  /    8.27 GiB  /    8.40 GiB\r\n",
      "     yesterday      3.16 GiB  /    1.57 GiB  /    4.73 GiB\r\n",
      "         today      3.24 GiB  /  308.67 MiB  /    3.54 GiB  /    7.12 GiB\r\n",
      "\r\n",
      " docker0:\r\n",
      "       Aug '17    199.55 MiB  /  301.11 MiB  /  500.66 MiB  /  507.00 MiB\r\n",
      "     yesterday    199.10 MiB  /  300.22 MiB  /  499.32 MiB\r\n",
      "         today       469 KiB  /     911 KiB  /    1.35 MiB  /      --    \r\n",
      "\r\n",
      " vetha4c2715 [disabled]:\r\n",
      "       Aug '17    189.93 MiB  /  299.64 MiB  /  489.57 MiB  /  495.00 MiB\r\n",
      "      08/30/17    189.93 MiB  /  299.64 MiB  /  489.57 MiB  /     981 MiB\r\n",
      "\r\n"
     ]
    }
   ],
   "source": [
    "!vnstat"
   ]
  },
  {
   "cell_type": "markdown",
   "metadata": {},
   "source": [
    "#### !vnstat -l"
   ]
  },
  {
   "cell_type": "markdown",
   "metadata": {
    "collapsed": true
   },
   "source": [
    "https://askubuntu.com/questions/8653/how-to-keep-processes-running-after-ending-ssh-session"
   ]
  },
  {
   "cell_type": "code",
   "execution_count": 1,
   "metadata": {
    "collapsed": true
   },
   "outputs": [],
   "source": [
    "import os"
   ]
  },
  {
   "cell_type": "code",
   "execution_count": 3,
   "metadata": {
    "collapsed": true
   },
   "outputs": [],
   "source": [
    "os.mkdir('1')"
   ]
  },
  {
   "cell_type": "code",
   "execution_count": 4,
   "metadata": {
    "collapsed": true
   },
   "outputs": [],
   "source": [
    "os.mkdir('2'+str(2))"
   ]
  },
  {
   "cell_type": "code",
   "execution_count": null,
   "metadata": {
    "collapsed": true
   },
   "outputs": [],
   "source": []
  }
 ],
 "metadata": {
  "kernelspec": {
   "display_name": "Python 2",
   "language": "python",
   "name": "python2"
  },
  "language_info": {
   "codemirror_mode": {
    "name": "ipython",
    "version": 2
   },
   "file_extension": ".py",
   "mimetype": "text/x-python",
   "name": "python",
   "nbconvert_exporter": "python",
   "pygments_lexer": "ipython2",
   "version": "2.7.13"
  }
 },
 "nbformat": 4,
 "nbformat_minor": 2
}
