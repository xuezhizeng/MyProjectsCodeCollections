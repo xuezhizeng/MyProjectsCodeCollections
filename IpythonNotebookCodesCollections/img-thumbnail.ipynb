{
 "cells": [
  {
   "cell_type": "code",
   "execution_count": 7,
   "metadata": {},
   "outputs": [
    {
     "name": "stdout",
     "output_type": "stream",
     "text": [
      "8.png  9.png  add.jpg\r\n"
     ]
    }
   ],
   "source": [
    "!ls pics"
   ]
  },
  {
   "cell_type": "code",
   "execution_count": 12,
   "metadata": {
    "collapsed": true
   },
   "outputs": [],
   "source": [
    "from PIL import Image\n",
    "import os"
   ]
  },
  {
   "cell_type": "code",
   "execution_count": 24,
   "metadata": {},
   "outputs": [],
   "source": [
    "# os.mkdir('small')"
   ]
  },
  {
   "cell_type": "code",
   "execution_count": 31,
   "metadata": {},
   "outputs": [
    {
     "name": "stdout",
     "output_type": "stream",
     "text": [
      "9.png small/9.jpg\n",
      "%\n"
     ]
    }
   ],
   "source": [
    "process('pics/9.png')"
   ]
  },
  {
   "cell_type": "code",
   "execution_count": 28,
   "metadata": {
    "collapsed": true
   },
   "outputs": [],
   "source": [
    "Format = ['bmp', 'gif', 'jpg', 'png']\n",
    "\n",
    "rate = 50\n",
    "\n",
    "# make small thumbnail images of downloaded HD pics for index viewing\n",
    "def process(file):\n",
    "    extension = os.path.splitext(file)[1].lower()[1:]\n",
    "    if extension in Format:\n",
    "\n",
    "        try:\n",
    "\n",
    "            img = Image.open(file)\n",
    "            size=os.path.getsize(file)/1000\n",
    "            \n",
    "            if size>2000:\n",
    "                rate=40\n",
    "            elif size>1500:\n",
    "                rate=50\n",
    "            elif size>1000:\n",
    "                rate=60\n",
    "            elif size>500:\n",
    "                rate=75\n",
    "            elif size>300:\n",
    "                rate=90\n",
    "            else:\n",
    "                rate=100\n",
    "                \n",
    "\n",
    "\n",
    "            \n",
    "            img.thumbnail((img.size[0] * rate / 100, img.size[1] * rate / 100))\n",
    "\n",
    "            name = os.path.basename(file)\n",
    "            path = 'small/'  + name[:-3]+'jpg'\n",
    "            print name,path\n",
    "            img.save(path)\n",
    "\n",
    "            print '%',\n",
    "        except Exception as e:\n",
    "            print e\n",
    "            print 'cannot do the processing, wtf'\n",
    "            pass\n"
   ]
  },
  {
   "cell_type": "code",
   "execution_count": null,
   "metadata": {
    "collapsed": true
   },
   "outputs": [],
   "source": []
  }
 ],
 "metadata": {
  "kernelspec": {
   "display_name": "Python 2",
   "language": "python",
   "name": "python2"
  },
  "language_info": {
   "codemirror_mode": {
    "name": "ipython",
    "version": 2
   },
   "file_extension": ".py",
   "mimetype": "text/x-python",
   "name": "python",
   "nbconvert_exporter": "python",
   "pygments_lexer": "ipython2",
   "version": "2.7.13"
  }
 },
 "nbformat": 4,
 "nbformat_minor": 2
}
