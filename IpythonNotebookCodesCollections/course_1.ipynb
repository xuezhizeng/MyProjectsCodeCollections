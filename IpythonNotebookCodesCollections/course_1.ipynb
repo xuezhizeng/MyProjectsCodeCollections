{
 "cells": [
  {
   "cell_type": "code",
   "execution_count": 1,
   "metadata": {},
   "outputs": [
    {
     "name": "stdout",
     "output_type": "stream",
     "text": [
      "--2017-10-21 15:23:49--  http://www.superdatascience.com/wp-content/uploads/2017/03/Deep_Learning_A_Z.zip\n",
      "Resolving www.superdatascience.com (www.superdatascience.com)... 104.27.172.21, 104.27.173.21, 2400:cb00:2048:1::681b:ad15, ...\n",
      "Connecting to www.superdatascience.com (www.superdatascience.com)|104.27.172.21|:80... connected.\n",
      "HTTP request sent, awaiting response... 301 Moved Permanently\n",
      "Location: https://www.superdatascience.com/wp-content/uploads/2017/03/Deep_Learning_A_Z.zip [following]\n",
      "--2017-10-21 15:23:50--  https://www.superdatascience.com/wp-content/uploads/2017/03/Deep_Learning_A_Z.zip\n",
      "Connecting to www.superdatascience.com (www.superdatascience.com)|104.27.172.21|:443... connected.\n",
      "HTTP request sent, awaiting response... 200 OK\n",
      "Length: 34100 (33K) [application/zip]\n",
      "Saving to: 'Deep_Learning_A_Z.zip'\n",
      "\n",
      "100%[======================================>] 34,100      --.-K/s   in 0.09s   \n",
      "\n",
      "2017-10-21 15:23:50 (385 KB/s) - 'Deep_Learning_A_Z.zip' saved [34100/34100]\n",
      "\n"
     ]
    }
   ],
   "source": [
    "!wget http://www.superdatascience.com/wp-content/uploads/2017/03/Deep_Learning_A_Z.zip"
   ]
  },
  {
   "cell_type": "code",
   "execution_count": 4,
   "metadata": {},
   "outputs": [],
   "source": [
    "# !unzip Deep_Learning_A_Z.zip"
   ]
  },
  {
   "cell_type": "code",
   "execution_count": 3,
   "metadata": {},
   "outputs": [
    {
     "name": "stdout",
     "output_type": "stream",
     "text": [
      "--2017-10-21 15:24:24--  http://www.superdatascience.com/wp-content/uploads/2017/03/Artificial_Neural_Networks.zip\n",
      "Resolving www.superdatascience.com (www.superdatascience.com)... 104.27.173.21, 104.27.172.21, 2400:cb00:2048:1::681b:ad15, ...\n",
      "Connecting to www.superdatascience.com (www.superdatascience.com)|104.27.173.21|:80... connected.\n",
      "HTTP request sent, awaiting response... 301 Moved Permanently\n",
      "Location: https://www.superdatascience.com/wp-content/uploads/2017/03/Artificial_Neural_Networks.zip [following]\n",
      "--2017-10-21 15:24:24--  https://www.superdatascience.com/wp-content/uploads/2017/03/Artificial_Neural_Networks.zip\n",
      "Connecting to www.superdatascience.com (www.superdatascience.com)|104.27.173.21|:443... connected.\n",
      "HTTP request sent, awaiting response... 200 OK\n",
      "Length: 318018 (311K) [application/zip]\n",
      "Saving to: 'Artificial_Neural_Networks.zip'\n",
      "\n",
      "100%[======================================>] 318,018      829KB/s   in 0.4s   \n",
      "\n",
      "2017-10-21 15:24:25 (829 KB/s) - 'Artificial_Neural_Networks.zip' saved [318018/318018]\n",
      "\n"
     ]
    }
   ],
   "source": [
    "!wget http://www.superdatascience.com/wp-content/uploads/2017/03/Artificial_Neural_Networks.zip"
   ]
  },
  {
   "cell_type": "code",
   "execution_count": 5,
   "metadata": {},
   "outputs": [
    {
     "name": "stdout",
     "output_type": "stream",
     "text": [
      "Archive:  Artificial_Neural_Networks.zip\r\n",
      "   creating: Artificial_Neural_Networks/\r\n",
      "  inflating: Artificial_Neural_Networks/ann.py  \r\n",
      "   creating: __MACOSX/\r\n",
      "   creating: __MACOSX/Artificial_Neural_Networks/\r\n",
      "  inflating: __MACOSX/Artificial_Neural_Networks/._ann.py  \r\n",
      "  inflating: Artificial_Neural_Networks/ann_homework_solution.py  \r\n",
      "  inflating: __MACOSX/Artificial_Neural_Networks/._ann_homework_solution.py  \r\n",
      "  inflating: Artificial_Neural_Networks/categorical_data.py  \r\n",
      "  inflating: __MACOSX/Artificial_Neural_Networks/._categorical_data.py  \r\n",
      "  inflating: Artificial_Neural_Networks/Churn_Modelling.csv  \r\n",
      "  inflating: __MACOSX/Artificial_Neural_Networks/._Churn_Modelling.csv  \r\n",
      "  inflating: Artificial_Neural_Networks/classification_template.py  \r\n",
      "  inflating: Artificial_Neural_Networks/evaluating_improving_tuning.py  \r\n",
      "  inflating: __MACOSX/Artificial_Neural_Networks/._evaluating_improving_tuning.py  \r\n",
      "  inflating: Artificial_Neural_Networks/Installations_Instructions.pdf  \r\n",
      "  inflating: __MACOSX/Artificial_Neural_Networks/._Installations_Instructions.pdf  \r\n"
     ]
    }
   ],
   "source": [
    "!unzip Artificial_Neural_Networks.zip"
   ]
  },
  {
   "cell_type": "code",
   "execution_count": 6,
   "metadata": {},
   "outputs": [
    {
     "name": "stdout",
     "output_type": "stream",
     "text": [
      "/home/soyoung/DeepLearningA_Z\r\n"
     ]
    }
   ],
   "source": [
    "!pwd"
   ]
  },
  {
   "cell_type": "code",
   "execution_count": null,
   "metadata": {
    "collapsed": true
   },
   "outputs": [],
   "source": []
  }
 ],
 "metadata": {
  "kernelspec": {
   "display_name": "Python 2",
   "language": "python",
   "name": "python2"
  },
  "language_info": {
   "codemirror_mode": {
    "name": "ipython",
    "version": 2
   },
   "file_extension": ".py",
   "mimetype": "text/x-python",
   "name": "python",
   "nbconvert_exporter": "python",
   "pygments_lexer": "ipython2",
   "version": "2.7.13"
  }
 },
 "nbformat": 4,
 "nbformat_minor": 2
}
