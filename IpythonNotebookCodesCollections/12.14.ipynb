{
 "cells": [
  {
   "cell_type": "code",
   "execution_count": 18,
   "metadata": {
    "collapsed": true
   },
   "outputs": [],
   "source": [
    "class Tree(object):\n",
    "    def __init__(self, initial):\n",
    "        self.root=initial\n",
    "        self.left=None\n",
    "        self.right=None\n",
    "    def getLeft(self):\n",
    "        return self.left\n",
    "    def getRight(self):\n",
    "        return self.right\n",
    "    def insertLeft(self, new):\n",
    "        if self.left==None:\n",
    "            self.left=new\n",
    "        else:\n",
    "            n=Tree(new)\n",
    "            n.left=self.left\n",
    "            self.left=n\n",
    "    def insertRight(self,new):\n",
    "        if self.right==None:\n",
    "            self.right=new\n",
    "        else:\n",
    "            n=Tree(new)\n",
    "            n.right=self.right\n",
    "            self.right=n\n",
    "    def replaceRoot(self,new):\n",
    "        self.root=new\n",
    "    def getRoot(self):\n",
    "        return self.root"
   ]
  },
  {
   "cell_type": "code",
   "execution_count": null,
   "metadata": {
    "collapsed": true
   },
   "outputs": [],
   "source": [
    "isinstance(x, X)"
   ]
  },
  {
   "cell_type": "code",
   "execution_count": 28,
   "metadata": {
    "collapsed": true
   },
   "outputs": [],
   "source": [
    "def preorder(tree):\n",
    "    if isinstance(tree, Tree):\n",
    "        print tree.getRoot()\n",
    "        preorder(tree.getLeft())\n",
    "        preorder(tree.getRight())"
   ]
  },
  {
   "cell_type": "code",
   "execution_count": 29,
   "metadata": {
    "collapsed": true
   },
   "outputs": [],
   "source": [
    "def postorder(tree):\n",
    "    if isinstance(tree, Tree):\n",
    "        preorder(tree.getLeft())\n",
    "        preorder(tree.getRight())\n",
    "        print tree.getRoot()"
   ]
  },
  {
   "cell_type": "code",
   "execution_count": 32,
   "metadata": {
    "collapsed": true
   },
   "outputs": [],
   "source": [
    "def inorder(tree):\n",
    "    if isinstance(tree, Tree):\n",
    "        preorder(tree.getLeft())\n",
    "        print tree.getRoot()\n",
    "        preorder(tree.getRight())"
   ]
  },
  {
   "cell_type": "code",
   "execution_count": 33,
   "metadata": {},
   "outputs": [
    {
     "name": "stdout",
     "output_type": "stream",
     "text": [
      "777\n",
      "66666\n"
     ]
    }
   ],
   "source": [
    "preorder(a)"
   ]
  },
  {
   "cell_type": "code",
   "execution_count": 31,
   "metadata": {},
   "outputs": [
    {
     "name": "stdout",
     "output_type": "stream",
     "text": [
      "66666\n",
      "777\n"
     ]
    }
   ],
   "source": [
    "postorder(a)"
   ]
  },
  {
   "cell_type": "code",
   "execution_count": 20,
   "metadata": {
    "collapsed": true
   },
   "outputs": [],
   "source": [
    "a=Tree(777)"
   ]
  },
  {
   "cell_type": "code",
   "execution_count": 21,
   "metadata": {
    "collapsed": true
   },
   "outputs": [],
   "source": [
    "a.insertLeft('7')"
   ]
  },
  {
   "cell_type": "code",
   "execution_count": 22,
   "metadata": {
    "collapsed": true
   },
   "outputs": [],
   "source": [
    "a.insertLeft(66666)"
   ]
  },
  {
   "cell_type": "code",
   "execution_count": null,
   "metadata": {
    "collapsed": true
   },
   "outputs": [],
   "source": []
  }
 ],
 "metadata": {
  "kernelspec": {
   "display_name": "Python 2",
   "language": "python",
   "name": "python2"
  },
  "language_info": {
   "codemirror_mode": {
    "name": "ipython",
    "version": 2
   },
   "file_extension": ".py",
   "mimetype": "text/x-python",
   "name": "python",
   "nbconvert_exporter": "python",
   "pygments_lexer": "ipython2",
   "version": "2.7.13"
  }
 },
 "nbformat": 4,
 "nbformat_minor": 2
}
