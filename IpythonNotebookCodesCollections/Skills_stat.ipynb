{
 "cells": [
  {
   "cell_type": "code",
   "execution_count": 3,
   "metadata": {
    "collapsed": true
   },
   "outputs": [],
   "source": [
    "import pandas as pd\n",
    "import os\n",
    "from time import ctime\n",
    "%matplotlib inline"
   ]
  },
  {
   "cell_type": "code",
   "execution_count": 4,
   "metadata": {},
   "outputs": [
    {
     "name": "stderr",
     "output_type": "stream",
     "text": [
      "/home/shj16110/anaconda2/lib/python2.7/site-packages/IPython/core/magic.py:188: DtypeWarning: Columns (5,9,13,28,45,46,50,77,78,79,80,81) have mixed types. Specify dtype option on import or set low_memory=False.\n",
      "  call = lambda f, *a, **k: f(*a, **k)\n"
     ]
    },
    {
     "name": "stdout",
     "output_type": "stream",
     "text": [
      "(195186, 86)\n",
      "CPU times: user 3.08 s, sys: 243 ms, total: 3.33 s\n",
      "Wall time: 3.42 s\n"
     ]
    }
   ],
   "source": [
    "%%time\n",
    "fl=pd.read_csv('./further_clean_train.csv', chunksize=10000)\n",
    "df = pd.concat([i for i in fl], ignore_index=True)\n",
    "print df.shape"
   ]
  },
  {
   "cell_type": "code",
   "execution_count": 5,
   "metadata": {},
   "outputs": [
    {
     "data": {
      "text/plain": [
       "0.0    157546\n",
       "5.0     20685\n",
       "1.0      4885\n",
       "2.0      4643\n",
       "3.0      4017\n",
       "4.0      3408\n",
       "Name: job_history.job_counts, dtype: int64"
      ]
     },
     "execution_count": 5,
     "metadata": {},
     "output_type": "execute_result"
    }
   ],
   "source": [
    "df['job_history.job_counts'].value_counts()"
   ]
  },
  {
   "cell_type": "code",
   "execution_count": 9,
   "metadata": {},
   "outputs": [
    {
     "data": {
      "text/plain": [
       "<matplotlib.axes._subplots.AxesSubplot at 0x2af8d06dda90>"
      ]
     },
     "execution_count": 9,
     "metadata": {},
     "output_type": "execute_result"
    },
    {
     "data": {
      "image/png": "[encoded data removed]",
      "text/plain": [
       "<matplotlib.figure.Figure at 0x2af8d090bd10>"
      ]
     },
     "metadata": {},
     "output_type": "display_data"
    }
   ],
   "source": [
    "df['skills'].hist(bins=50)"
   ]
  },
  {
   "cell_type": "code",
   "execution_count": 12,
   "metadata": {},
   "outputs": [
    {
     "data": {
      "text/plain": [
       "420.0"
      ]
     },
     "execution_count": 12,
     "metadata": {},
     "output_type": "execute_result"
    }
   ],
   "source": [
    "df['skills'].max()"
   ]
  },
  {
   "cell_type": "code",
   "execution_count": 5,
   "metadata": {},
   "outputs": [
    {
     "data": {
      "text/plain": [
       "0.0      42201\n",
       "20.0     29031\n",
       "25.0      9983\n",
       "10.0      8306\n",
       "9.0       5770\n",
       "5.0       5770\n",
       "6.0       5768\n",
       "7.0       5615\n",
       "8.0       5598\n",
       "19.0      5319\n",
       "11.0      5302\n",
       "1.0       5124\n",
       "12.0      5062\n",
       "15.0      4796\n",
       "4.0       4750\n",
       "13.0      4721\n",
       "14.0      4667\n",
       "16.0      4596\n",
       "18.0      4553\n",
       "3.0       4465\n",
       "17.0      4371\n",
       "2.0       4042\n",
       "24.0      2348\n",
       "21.0      2095\n",
       "22.0      1986\n",
       "23.0      1804\n",
       "26.0       539\n",
       "27.0       453\n",
       "28.0       441\n",
       "29.0       374\n",
       "         ...  \n",
       "105.0        2\n",
       "151.0        2\n",
       "111.0        2\n",
       "127.0        2\n",
       "117.0        2\n",
       "134.0        2\n",
       "121.0        2\n",
       "122.0        2\n",
       "267.0        1\n",
       "259.0        1\n",
       "146.0        1\n",
       "244.0        1\n",
       "239.0        1\n",
       "141.0        1\n",
       "199.0        1\n",
       "176.0        1\n",
       "138.0        1\n",
       "139.0        1\n",
       "123.0        1\n",
       "154.0        1\n",
       "156.0        1\n",
       "419.0        1\n",
       "147.0        1\n",
       "144.0        1\n",
       "320.0        1\n",
       "149.0        1\n",
       "162.0        1\n",
       "148.0        1\n",
       "235.0        1\n",
       "170.0        1\n",
       "Name: skills, Length: 151, dtype: int64"
      ]
     },
     "execution_count": 5,
     "metadata": {},
     "output_type": "execute_result"
    }
   ],
   "source": [
    "df['skills'].value_counts()"
   ]
  },
  {
   "cell_type": "markdown",
   "metadata": {
    "collapsed": true
   },
   "source": [
    "___\n",
    "### skills data"
   ]
  },
  {
   "cell_type": "code",
   "execution_count": 10,
   "metadata": {},
   "outputs": [
    {
     "name": "stdout",
     "output_type": "stream",
     "text": [
      "(195185, 40)\n",
      "CPU times: user 6.4 s, sys: 547 ms, total: 6.95 s\n",
      "Wall time: 7.06 s\n"
     ]
    }
   ],
   "source": [
    "%%time\n",
    "data = pd.read_csv('./clean_Json_updated_debug_Dec_17_2017.csv')\n",
    "print data.shape"
   ]
  },
  {
   "cell_type": "code",
   "execution_count": 11,
   "metadata": {},
   "outputs": [
    {
     "data": {
      "text/plain": [
       "0                                                        []\n",
       "1         [{u'usages': 0, u'seo_url': u'php', u'islocal'...\n",
       "2         [{u'usages': 0, u'seo_url': u'php', u'islocal'...\n",
       "3         [{u'usages': 37, u'seo_url': u'rendering', u'i...\n",
       "4         [{u'usages': 0, u'seo_url': u'php', u'islocal'...\n",
       "5                                                        []\n",
       "6         [{u'usages': 0, u'seo_url': u'php', u'islocal'...\n",
       "7         [{u'usages': 0, u'seo_url': u'php', u'islocal'...\n",
       "8         [{u'usages': 0, u'seo_url': u'windows', u'islo...\n",
       "9                                                        []\n",
       "10        [{u'usages': 2, u'seo_url': u'android', u'islo...\n",
       "11        [{u'usages': 0, u'seo_url': u'javascript', u'i...\n",
       "12                                                       []\n",
       "13        [{u'usages': 0, u'seo_url': u'copywriting', u'...\n",
       "14                                                       []\n",
       "15        [{u'usages': 0, u'seo_url': u'asp', u'islocal'...\n",
       "16                                                       []\n",
       "17        [{u'usages': 0, u'seo_url': u'internet_marketi...\n",
       "18        [{u'usages': 0, u'seo_url': u'data_entry', u'i...\n",
       "19        [{u'usages': 0, u'seo_url': u'audio_services',...\n",
       "20        [{u'usages': 0, u'seo_url': u'php', u'islocal'...\n",
       "21        [{u'usages': 0, u'seo_url': u'php', u'islocal'...\n",
       "22        [{u'usages': 0, u'seo_url': u'translation', u'...\n",
       "23        [{u'usages': 0, u'seo_url': u'data_entry', u'i...\n",
       "24        [{u'usages': 0, u'seo_url': u'java', u'islocal...\n",
       "25                                                       []\n",
       "26        [{u'usages': 71, u'seo_url': u'linux', u'isloc...\n",
       "27        [{u'usages': 0, u'seo_url': u'windows', u'islo...\n",
       "28        [{u'usages': 0, u'seo_url': u'xml', u'islocal'...\n",
       "29        [{u'usages': 0, u'seo_url': u'data_entry', u'i...\n",
       "                                ...                        \n",
       "195155    [{u'usages': 0, u'seo_url': u'data_processing'...\n",
       "195156    [{u'usages': 1, u'seo_url': u'php', u'islocal'...\n",
       "195157    [{u'usages': 0, u'seo_url': u'graphic_design',...\n",
       "195158                                                   []\n",
       "195159    [{u'usages': 0, u'seo_url': u'copywriting', u'...\n",
       "195160    [{u'usages': 0, u'seo_url': u'data_processing'...\n",
       "195161                                                   []\n",
       "195162    [{u'usages': 0, u'seo_url': u'php', u'islocal'...\n",
       "195163    [{u'usages': 93, u'seo_url': u'php', u'islocal...\n",
       "195164    [{u'usages': 0, u'seo_url': u'xxx', u'islocal'...\n",
       "195165    [{u'usages': 0, u'seo_url': u'php', u'islocal'...\n",
       "195166    [{u'usages': 0, u'seo_url': u'excel', u'isloca...\n",
       "195167    [{u'usages': 0, u'seo_url': u'php', u'islocal'...\n",
       "195168    [{u'usages': 205, u'seo_url': u'magento', u'is...\n",
       "195169                                                   []\n",
       "195170    [{u'usages': 0, u'seo_url': u'php', u'islocal'...\n",
       "195171    [{u'usages': 0, u'seo_url': u'xml', u'islocal'...\n",
       "195172    [{u'usages': 0, u'seo_url': u'website_design',...\n",
       "195173    [{u'usages': 1, u'seo_url': u'articles', u'isl...\n",
       "195174                                                   []\n",
       "195175    [{u'usages': 0, u'seo_url': u'java', u'islocal...\n",
       "195176    [{u'usages': 0, u'seo_url': u'java', u'islocal...\n",
       "195177                                                   []\n",
       "195178    [{u'usages': 0, u'seo_url': u'css', u'islocal'...\n",
       "195179    [{u'usages': 0, u'seo_url': u'php', u'islocal'...\n",
       "195180                                                   []\n",
       "195181    [{u'usages': 0, u'seo_url': u'php', u'islocal'...\n",
       "195182    [{u'usages': 0, u'seo_url': u'copywriting', u'...\n",
       "195183    [{u'usages': 0, u'seo_url': u'php', u'islocal'...\n",
       "195184                                                   []\n",
       "Name: skills, Length: 195185, dtype: object"
      ]
     },
     "execution_count": 11,
     "metadata": {},
     "output_type": "execute_result"
    }
   ],
   "source": [
    "data['skills']"
   ]
  },
  {
   "cell_type": "code",
   "execution_count": null,
   "metadata": {
    "collapsed": true
   },
   "outputs": [],
   "source": []
  }
 ],
 "metadata": {
  "kernelspec": {
   "display_name": "Python 2",
   "language": "python",
   "name": "python2"
  },
  "language_info": {
   "codemirror_mode": {
    "name": "ipython",
    "version": 2
   },
   "file_extension": ".py",
   "mimetype": "text/x-python",
   "name": "python",
   "nbconvert_exporter": "python",
   "pygments_lexer": "ipython2",
   "version": "2.7.13"
  }
 },
 "nbformat": 4,
 "nbformat_minor": 2
}
