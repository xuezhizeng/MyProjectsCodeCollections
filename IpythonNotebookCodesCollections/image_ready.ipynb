{
 "cells": [
  {
   "cell_type": "code",
   "execution_count": 1,
   "metadata": {
    "collapsed": true
   },
   "outputs": [],
   "source": [
    "import concurrent.futures\n",
    "import requests\n",
    "import os\n",
    "\n",
    "from time import time, ctime\n",
    "import pandas as pd\n",
    "\n",
    "fail=[]"
   ]
  },
  {
   "cell_type": "markdown",
   "metadata": {
    "collapsed": true
   },
   "source": [
    " \n",
    "https://unix.stackexchange.com/questions/101237/how-to-recover-files-i-deleted-now-by-running-rm"
   ]
  },
  {
   "cell_type": "code",
   "execution_count": 2,
   "metadata": {
    "collapsed": true
   },
   "outputs": [],
   "source": [
    "def download_image(img_url):\n",
    "    global direct\n",
    "    \n",
    "    try:\n",
    "        ID, url = img_url.split('__')\n",
    "        cont = url.split('/')\n",
    "        name= str(ID)+'_'+str(cont[-4])+str(cont[-1]).replace('_570','')\n",
    "        \n",
    "    except Exception as e:\n",
    "        fail.append(img_url)\n",
    "        print 'X1',\n",
    "\n",
    "        \n",
    "        \n",
    "    try:\n",
    "        img_request = requests.request(\n",
    "            'get', url, stream=True, timeout=300)\n",
    "        if img_request.status_code != 200:\n",
    "            fail.append(img_url)\n",
    "            print 'X2',\n",
    "    except Exception as e:\n",
    "        fail.append(img_url)\n",
    "        print 'X3',\n",
    "\n",
    "    try:\n",
    "        img_content = img_request.content\n",
    "        with open(os.path.join(direct,  name), 'wb') as f:\n",
    "            byte_image = bytes(img_content)\n",
    "            f.write(byte_image)\n",
    "            \n",
    "    except Exception as e:\n",
    "        fail.append(img_url)\n",
    "        print 'X4',\n",
    "\n"
   ]
  },
  {
   "cell_type": "code",
   "execution_count": 3,
   "metadata": {
    "collapsed": true
   },
   "outputs": [],
   "source": [
    "def batch(subber):\n",
    "    start=time()\n",
    "    with concurrent.futures.ThreadPoolExecutor(max_workers=8) as executor:\n",
    "        executor.map(download_image, subber)\n",
    "    past='{:.2f}'.format(time()-start)\n",
    "    now=ctime()[4:]\n",
    "\n",
    "    print 'imges ',len(subber),'  used ',past,'s', now\n"
   ]
  },
  {
   "cell_type": "code",
   "execution_count": 4,
   "metadata": {
    "collapsed": true
   },
   "outputs": [],
   "source": [
    "def spl(lists, n):\n",
    "    return  [lists[i:i + n] for i in range(0, len(lists), n)]"
   ]
  },
  {
   "cell_type": "code",
   "execution_count": null,
   "metadata": {},
   "outputs": [
    {
     "name": "stdout",
     "output_type": "stream",
     "text": [
      "which set (1-24)?: 20\n",
      "10000  pics\n",
      "True\n",
      "how many IDs a batch?: 100\n",
      "imges  100   used  79.13 s Aug 31 11:47:51 2017\n",
      "1.0 % 10000 100\n",
      "X2\n",
      "imges  100   used  63.47 s Aug 31 11:48:55 2017\n",
      "2.0 % 10000 200\n",
      "imges  100   used  45.52 s Aug 31 11:49:40 2017\n",
      "3.0 % 10000 300\n",
      "imges  100   used  63.34 s Aug 31 11:50:44 2017\n",
      "4.0 % 10000 400\n",
      "X2\n",
      "imges  100   used  72.97 s Aug 31 11:51:57 2017\n",
      "5.0 % 10000 500\n",
      "X2\n",
      "imges  100   used  81.44 s Aug 31 11:53:18 2017\n",
      "6.0 % 10000 600\n",
      "X2\n",
      "imges  100   used  108.37 s Aug 31 11:55:06 2017\n",
      "7.0 % 10000 700\n",
      "imges  100   used  59.67 s Aug 31 11:56:06 2017\n",
      "8.0 % 10000 800\n",
      "imges  100   used  49.13 s Aug 31 11:56:55 2017\n",
      "9.0 % 10000 900\n",
      "imges  100   used  64.37 s Aug 31 11:58:00 2017\n",
      "10.0 % 10000 1000\n",
      "imges  100   used  59.56 s Aug 31 11:58:59 2017\n",
      "11.0 % 10000 1100\n",
      "imges  100   used  75.22 s Aug 31 12:00:14 2017\n",
      "12.0 % 10000 1200\n",
      "imges  100   used  55.92 s Aug 31 12:01:10 2017\n",
      "13.0 % 10000 1300\n",
      "imges  100   used  52.30 s Aug 31 12:02:03 2017\n",
      "14.0 % 10000 1400\n",
      "imges  100   used  47.39 s Aug 31 12:02:50 2017\n",
      "15.0 % 10000 1500\n",
      "X2\n",
      "imges  100   used  94.04 s Aug 31 12:04:24 2017\n",
      "16.0 % 10000 1600\n",
      "imges  100   used  71.45 s Aug 31 12:05:35 2017\n",
      "17.0 % 10000 1700\n",
      "imges  100   used  52.50 s Aug 31 12:06:28 2017\n",
      "18.0 % 10000 1800\n",
      "imges  100   used  52.62 s Aug 31 12:07:21 2017\n",
      "19.0 % 10000 1900\n",
      "imges  100   used  60.91 s Aug 31 12:08:21 2017\n",
      "20.0 % 10000 2000\n"
     ]
    }
   ],
   "source": [
    "if __name__=='__main__':\n",
    "    \n",
    "    choose=raw_input('which set (1-24)?: ')\n",
    "    try:\n",
    "        os.mkdir('img_'+str(choose))\n",
    "    except:\n",
    "        print 'dir img_'+str(choose)+' exists'\n",
    "    \n",
    "    direct='img_'+str(choose)\n",
    "    df=pd.read_csv('img_'+str(choose)+'.csv')\n",
    "    nn=df.shape[0]\n",
    "    print nn,' pics'\n",
    "    \n",
    "    \n",
    "    urls=[]\n",
    "    for i in df.itertuples():\n",
    "        urls.append(str(i[1])+'__'+str(i[2]))\n",
    "    print len(urls)==nn\n",
    "    \n",
    "    many=int(raw_input('how many IDs a batch?: '))\n",
    "      \n",
    "    \n",
    "    p=0\n",
    "    q=0\n",
    "    for i in spl(urls, many):\n",
    "        q+=1\n",
    "        batch(i)\n",
    "        p+=many/float(nn)\n",
    "        print p*100,'%', nn, many*q \n",
    "\n",
    "    fl = pd.DataFrame(fail, columns=['fail_url'])\n",
    "    fl.to_csv('failed_img_'+str(choose)+'.csv', index=False)"
   ]
  },
  {
   "cell_type": "code",
   "execution_count": null,
   "metadata": {
    "collapsed": true
   },
   "outputs": [],
   "source": []
  }
 ],
 "metadata": {
  "kernelspec": {
   "display_name": "Python 2",
   "language": "python",
   "name": "python2"
  },
  "language_info": {
   "codemirror_mode": {
    "name": "ipython",
    "version": 2
   },
   "file_extension": ".py",
   "mimetype": "text/x-python",
   "name": "python",
   "nbconvert_exporter": "python",
   "pygments_lexer": "ipython2",
   "version": "2.7.13"
  }
 },
 "nbformat": 4,
 "nbformat_minor": 2
}
