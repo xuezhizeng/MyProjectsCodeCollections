{
 "cells": [
  {
   "cell_type": "code",
   "execution_count": 13,
   "metadata": {
    "collapsed": true
   },
   "outputs": [],
   "source": [
    "import requests\n",
    "import json"
   ]
  },
  {
   "cell_type": "code",
   "execution_count": 14,
   "metadata": {
    "collapsed": true
   },
   "outputs": [],
   "source": [
    "link = \"http://y.soyoung.com/yuehui/shop?sort=13&index={}\""
   ]
  },
  {
   "cell_type": "code",
   "execution_count": 18,
   "metadata": {},
   "outputs": [
    {
     "data": {
      "text/plain": [
       "u'2000'"
      ]
     },
     "execution_count": 18,
     "metadata": {},
     "output_type": "execute_result"
    }
   ],
   "source": [
    "ll['responseData']['total']"
   ]
  },
  {
   "cell_type": "code",
   "execution_count": 21,
   "metadata": {},
   "outputs": [
    {
     "data": {
      "text/plain": [
       "(19, list)"
      ]
     },
     "execution_count": 21,
     "metadata": {},
     "output_type": "execute_result"
    }
   ],
   "source": [
    "cat = ll['responseData']['menu1_info']\n",
    "len(cat), type(cat)"
   ]
  },
  {
   "cell_type": "code",
   "execution_count": 26,
   "metadata": {
    "collapsed": true
   },
   "outputs": [],
   "source": [
    "info = []\n",
    "for i in cat:\n",
    "#     print i['name']\n",
    "#     print i['menu1_id']\n",
    "    info.append([i['name'],i['menu1_id']])"
   ]
  },
  {
   "cell_type": "code",
   "execution_count": 28,
   "metadata": {
    "collapsed": true
   },
   "outputs": [],
   "source": [
    "import pandas as pd"
   ]
  },
  {
   "cell_type": "code",
   "execution_count": 31,
   "metadata": {},
   "outputs": [
    {
     "data": {
      "text/html": [
       "<div>\n",
       "<style scoped>\n",
       "    .dataframe tbody tr th:only-of-type {\n",
       "        vertical-align: middle;\n",
       "    }\n",
       "\n",
       "    .dataframe tbody tr th {\n",
       "        vertical-align: top;\n",
       "    }\n",
       "\n",
       "    .dataframe thead th {\n",
       "        text-align: right;\n",
       "    }\n",
       "</style>\n",
       "<table border=\"1\" class=\"dataframe\">\n",
       "  <thead>\n",
       "    <tr style=\"text-align: right;\">\n",
       "      <th></th>\n",
       "      <th>ID</th>\n",
       "      <th>Name</th>\n",
       "    </tr>\n",
       "  </thead>\n",
       "  <tbody>\n",
       "    <tr>\n",
       "      <th>0</th>\n",
       "      <td>0</td>\n",
       "      <td>全部项目</td>\n",
       "    </tr>\n",
       "    <tr>\n",
       "      <th>1</th>\n",
       "      <td>10020</td>\n",
       "      <td>玻尿酸</td>\n",
       "    </tr>\n",
       "    <tr>\n",
       "      <th>2</th>\n",
       "      <td>10021</td>\n",
       "      <td>肉毒素</td>\n",
       "    </tr>\n",
       "    <tr>\n",
       "      <th>3</th>\n",
       "      <td>10010</td>\n",
       "      <td>皮肤美容</td>\n",
       "    </tr>\n",
       "    <tr>\n",
       "      <th>4</th>\n",
       "      <td>10001</td>\n",
       "      <td>眼部整形</td>\n",
       "    </tr>\n",
       "    <tr>\n",
       "      <th>5</th>\n",
       "      <td>10003</td>\n",
       "      <td>鼻部整形</td>\n",
       "    </tr>\n",
       "    <tr>\n",
       "      <th>6</th>\n",
       "      <td>10006</td>\n",
       "      <td>面部轮廓</td>\n",
       "    </tr>\n",
       "    <tr>\n",
       "      <th>7</th>\n",
       "      <td>10019</td>\n",
       "      <td>自体脂肪</td>\n",
       "    </tr>\n",
       "    <tr>\n",
       "      <th>8</th>\n",
       "      <td>10008</td>\n",
       "      <td>胸部整形</td>\n",
       "    </tr>\n",
       "    <tr>\n",
       "      <th>9</th>\n",
       "      <td>10009</td>\n",
       "      <td>美体塑形</td>\n",
       "    </tr>\n",
       "    <tr>\n",
       "      <th>10</th>\n",
       "      <td>10011</td>\n",
       "      <td>抗衰抗初老</td>\n",
       "    </tr>\n",
       "    <tr>\n",
       "      <th>11</th>\n",
       "      <td>10013</td>\n",
       "      <td>牙齿美容</td>\n",
       "    </tr>\n",
       "    <tr>\n",
       "      <th>12</th>\n",
       "      <td>10023</td>\n",
       "      <td>半永久妆</td>\n",
       "    </tr>\n",
       "    <tr>\n",
       "      <th>13</th>\n",
       "      <td>10022</td>\n",
       "      <td>激光脱毛</td>\n",
       "    </tr>\n",
       "    <tr>\n",
       "      <th>14</th>\n",
       "      <td>10015</td>\n",
       "      <td>毛发种植</td>\n",
       "    </tr>\n",
       "    <tr>\n",
       "      <th>15</th>\n",
       "      <td>10012</td>\n",
       "      <td>私密整形</td>\n",
       "    </tr>\n",
       "    <tr>\n",
       "      <th>16</th>\n",
       "      <td>10007</td>\n",
       "      <td>唇部整形</td>\n",
       "    </tr>\n",
       "    <tr>\n",
       "      <th>17</th>\n",
       "      <td>10017</td>\n",
       "      <td>耳部整形</td>\n",
       "    </tr>\n",
       "    <tr>\n",
       "      <th>18</th>\n",
       "      <td>10018</td>\n",
       "      <td>其他</td>\n",
       "    </tr>\n",
       "  </tbody>\n",
       "</table>\n",
       "</div>"
      ],
      "text/plain": [
       "       ID   Name\n",
       "0       0   全部项目\n",
       "1   10020    玻尿酸\n",
       "2   10021    肉毒素\n",
       "3   10010   皮肤美容\n",
       "4   10001   眼部整形\n",
       "5   10003   鼻部整形\n",
       "6   10006   面部轮廓\n",
       "7   10019   自体脂肪\n",
       "8   10008   胸部整形\n",
       "9   10009   美体塑形\n",
       "10  10011  抗衰抗初老\n",
       "11  10013   牙齿美容\n",
       "12  10023   半永久妆\n",
       "13  10022   激光脱毛\n",
       "14  10015   毛发种植\n",
       "15  10012   私密整形\n",
       "16  10007   唇部整形\n",
       "17  10017   耳部整形\n",
       "18  10018     其他"
      ]
     },
     "execution_count": 31,
     "metadata": {},
     "output_type": "execute_result"
    }
   ],
   "source": [
    "df = pd.DataFrame(info, columns=['Name','ID'])\n",
    "df = df[['ID','Name']]\n",
    "df"
   ]
  },
  {
   "cell_type": "code",
   "execution_count": 32,
   "metadata": {
    "collapsed": true
   },
   "outputs": [],
   "source": [
    "df.to_excel('category.xlsx', encoding='utf-8', index=False)"
   ]
  },
  {
   "cell_type": "code",
   "execution_count": null,
   "metadata": {
    "collapsed": true
   },
   "outputs": [],
   "source": []
  },
  {
   "cell_type": "code",
   "execution_count": null,
   "metadata": {
    "collapsed": true
   },
   "outputs": [],
   "source": []
  },
  {
   "cell_type": "code",
   "execution_count": 15,
   "metadata": {},
   "outputs": [
    {
     "name": "stdout",
     "output_type": "stream",
     "text": [
      "<type 'dict'>\n",
      "<type 'list'> 12\n",
      "24\n"
     ]
    }
   ],
   "source": [
    "p=1\n",
    "l = requests.put(link.format(p))\n",
    "ll = json.loads(l.text)\n",
    "print type(ll)\n",
    "lll = ll['responseData']['product_info']\n",
    "print type(lll), len(lll)\n",
    "print (p+1)*12"
   ]
  },
  {
   "cell_type": "code",
   "execution_count": null,
   "metadata": {
    "collapsed": true
   },
   "outputs": [],
   "source": []
  },
  {
   "cell_type": "code",
   "execution_count": null,
   "metadata": {
    "collapsed": true
   },
   "outputs": [],
   "source": []
  },
  {
   "cell_type": "code",
   "execution_count": 96,
   "metadata": {},
   "outputs": [
    {
     "data": {
      "text/plain": [
       "2000"
      ]
     },
     "execution_count": 96,
     "metadata": {},
     "output_type": "execute_result"
    }
   ],
   "source": [
    "(165+1)*12+8"
   ]
  },
  {
   "cell_type": "code",
   "execution_count": 110,
   "metadata": {
    "collapsed": true
   },
   "outputs": [],
   "source": [
    "def collect_json(link, start, end):\n",
    "    fail = []\n",
    "    collect = []\n",
    "    for index in range(start, end+1):\n",
    "        try:\n",
    "            print index,\n",
    "        \n",
    "            for product in json.loads(requests.put(link.format(index)).text)['responseData']['product_info']:\n",
    "                collect.append(product)\n",
    "        except Exception as e:\n",
    "            print e\n",
    "            fail.append(index)\n",
    "    print(len(collect), len(fail))\n",
    "    return collect, fail"
   ]
  },
  {
   "cell_type": "code",
   "execution_count": 111,
   "metadata": {},
   "outputs": [
    {
     "name": "stdout",
     "output_type": "stream",
     "text": [
      "0 1 2 3 4 5 6 7 8 9 10 11 12 13 14 15 16 17 18 19 20 21 22 23 24 25 26 27 28 29 30 31 32 33 34 35 36 37 38 39 40 41 42 43 44 45 46 47 48 49 50 51 52 53 54 55 56 57 58 59 60 61 62 63 64 65 66 67 68 69 70 71 72 73 74 75 76 77 78 79 80 81 82 83 84 85 86 87 88 89 90 91 92 93 94 95 96 97 98 99 100 101 102 103 104 105 106 107 108 109 110 111 112 113 114 115 116 117 118 119 120 121 122 123 124 125 126 127 128 129 130 131 132 133 134 135 136 137 138 139 140 141 142 143 144 145 146 147 148 149 150 151 152 153 154 155 156 157 158 159 160 161 162 163 164 165 166 167 168 169 170 (2000, 0)\n",
      "CPU times: user 1.09 s, sys: 70 ms, total: 1.16 s\n",
      "Wall time: 2min 41s\n"
     ]
    }
   ],
   "source": [
    "%%time\n",
    "link = 'http://y.soyoung.com/yuehui/shop?district_id=1&menu1_id=0&sort=0&index={}&indexCase=1&range=10&district_id=1'\n",
    "coll, fail = collect_json(link, 0, 170)"
   ]
  },
  {
   "cell_type": "code",
   "execution_count": 116,
   "metadata": {
    "collapsed": true
   },
   "outputs": [],
   "source": [
    "import json2df\n",
    "import pandas as pd"
   ]
  },
  {
   "cell_type": "code",
   "execution_count": 121,
   "metadata": {},
   "outputs": [
    {
     "data": {
      "text/plain": [
       "(2000, 47)"
      ]
     },
     "execution_count": 121,
     "metadata": {},
     "output_type": "execute_result"
    }
   ],
   "source": [
    "df = pd.DataFrame(coll)\n",
    "df.shape"
   ]
  },
  {
   "cell_type": "code",
   "execution_count": 141,
   "metadata": {
    "collapsed": true
   },
   "outputs": [],
   "source": [
    "df.to_csv('products.csv', index=False, encoding='utf-8')"
   ]
  },
  {
   "cell_type": "code",
   "execution_count": 132,
   "metadata": {},
   "outputs": [
    {
     "data": {
      "text/plain": [
       "1    1509\n",
       "2     331\n",
       "0     160\n",
       "Name: doctor, dtype: int64"
      ]
     },
     "execution_count": 132,
     "metadata": {},
     "output_type": "execute_result"
    }
   ],
   "source": [
    "df['doctor'].apply(lambda x: len(x)).value_counts()"
   ]
  },
  {
   "cell_type": "code",
   "execution_count": 143,
   "metadata": {},
   "outputs": [
    {
     "data": {
      "text/plain": [
       "[{u'doctor_id': u'59081', u'name_cn': u'\\u738b\\u519b', u'paystages': u'0'}]"
      ]
     },
     "execution_count": 143,
     "metadata": {},
     "output_type": "execute_result"
    }
   ],
   "source": [
    "df['doctor'][0]"
   ]
  },
  {
   "cell_type": "code",
   "execution_count": 146,
   "metadata": {},
   "outputs": [
    {
     "data": {
      "text/html": [
       "<div>\n",
       "<style scoped>\n",
       "    .dataframe tbody tr th:only-of-type {\n",
       "        vertical-align: middle;\n",
       "    }\n",
       "\n",
       "    .dataframe tbody tr th {\n",
       "        vertical-align: top;\n",
       "    }\n",
       "\n",
       "    .dataframe thead th {\n",
       "        text-align: right;\n",
       "    }\n",
       "</style>\n",
       "<table border=\"1\" class=\"dataframe\">\n",
       "  <thead>\n",
       "    <tr style=\"text-align: right;\">\n",
       "      <th></th>\n",
       "      <th>0</th>\n",
       "    </tr>\n",
       "  </thead>\n",
       "  <tbody>\n",
       "    <tr>\n",
       "      <th>avg_score</th>\n",
       "      <td>5.0</td>\n",
       "    </tr>\n",
       "    <tr>\n",
       "      <th>bao_xian_yn</th>\n",
       "      <td>1</td>\n",
       "    </tr>\n",
       "    <tr>\n",
       "      <th>calendar_cnt</th>\n",
       "      <td>15</td>\n",
       "    </tr>\n",
       "    <tr>\n",
       "      <th>doctor</th>\n",
       "      <td>[{u'doctor_id': u'59081', u'name_cn': u'王军', u...</td>\n",
       "    </tr>\n",
       "    <tr>\n",
       "      <th>doctor_name</th>\n",
       "      <td>王军</td>\n",
       "    </tr>\n",
       "    <tr>\n",
       "      <th>each_cnt</th>\n",
       "      <td>0</td>\n",
       "    </tr>\n",
       "    <tr>\n",
       "      <th>fan_ju_money</th>\n",
       "      <td>NaN</td>\n",
       "    </tr>\n",
       "    <tr>\n",
       "      <th>fan_ju_money_yn</th>\n",
       "      <td>NaN</td>\n",
       "    </tr>\n",
       "    <tr>\n",
       "      <th>gong_yn</th>\n",
       "      <td>0</td>\n",
       "    </tr>\n",
       "    <tr>\n",
       "      <th>hospital_id</th>\n",
       "      <td>25547</td>\n",
       "    </tr>\n",
       "    <tr>\n",
       "      <th>hospital_name</th>\n",
       "      <td>北京东方瑞丽医疗美容门诊部</td>\n",
       "    </tr>\n",
       "    <tr>\n",
       "      <th>img_cover</th>\n",
       "      <td>{u'h': u'100', u'ident': u'lnimage', u'u': u'h...</td>\n",
       "    </tr>\n",
       "    <tr>\n",
       "      <th>is_pin_tuan_yn</th>\n",
       "      <td>0</td>\n",
       "    </tr>\n",
       "    <tr>\n",
       "      <th>last_cnt_type</th>\n",
       "      <td>NaN</td>\n",
       "    </tr>\n",
       "    <tr>\n",
       "      <th>level</th>\n",
       "      <td>5.0</td>\n",
       "    </tr>\n",
       "    <tr>\n",
       "      <th>marketing_language</th>\n",
       "      <td>报销机票，送Dior口红</td>\n",
       "    </tr>\n",
       "    <tr>\n",
       "      <th>on_sale_end_date</th>\n",
       "      <td>NaN</td>\n",
       "    </tr>\n",
       "    <tr>\n",
       "      <th>on_sale_flag</th>\n",
       "      <td>0</td>\n",
       "    </tr>\n",
       "    <tr>\n",
       "      <th>on_sale_start_date</th>\n",
       "      <td>NaN</td>\n",
       "    </tr>\n",
       "    <tr>\n",
       "      <th>order_cnt</th>\n",
       "      <td>437</td>\n",
       "    </tr>\n",
       "    <tr>\n",
       "      <th>pay_stages_yn</th>\n",
       "      <td>0</td>\n",
       "    </tr>\n",
       "    <tr>\n",
       "      <th>paystages_notice</th>\n",
       "      <td></td>\n",
       "    </tr>\n",
       "    <tr>\n",
       "      <th>paystages_notice_android</th>\n",
       "      <td></td>\n",
       "    </tr>\n",
       "    <tr>\n",
       "      <th>paystages_notice_android_new</th>\n",
       "      <td>NaN</td>\n",
       "    </tr>\n",
       "    <tr>\n",
       "      <th>paystages_notice_new</th>\n",
       "      <td>NaN</td>\n",
       "    </tr>\n",
       "    <tr>\n",
       "      <th>pid</th>\n",
       "      <td>91559</td>\n",
       "    </tr>\n",
       "    <tr>\n",
       "      <th>pin_tuan</th>\n",
       "      <td>[]</td>\n",
       "    </tr>\n",
       "    <tr>\n",
       "      <th>price_deposit</th>\n",
       "      <td>8000</td>\n",
       "    </tr>\n",
       "    <tr>\n",
       "      <th>price_online</th>\n",
       "      <td>45800</td>\n",
       "    </tr>\n",
       "    <tr>\n",
       "      <th>price_origin</th>\n",
       "      <td>68000</td>\n",
       "    </tr>\n",
       "    <tr>\n",
       "      <th>product_icon</th>\n",
       "      <td></td>\n",
       "    </tr>\n",
       "    <tr>\n",
       "      <th>product_icon_yn</th>\n",
       "      <td>0</td>\n",
       "    </tr>\n",
       "    <tr>\n",
       "      <th>product_type</th>\n",
       "      <td>2</td>\n",
       "    </tr>\n",
       "    <tr>\n",
       "      <th>purchlimit_endtime</th>\n",
       "      <td>NaN</td>\n",
       "    </tr>\n",
       "    <tr>\n",
       "      <th>purchlimit_text</th>\n",
       "      <td>NaN</td>\n",
       "    </tr>\n",
       "    <tr>\n",
       "      <th>purchlimit_yn</th>\n",
       "      <td>NaN</td>\n",
       "    </tr>\n",
       "    <tr>\n",
       "      <th>security</th>\n",
       "      <td>0</td>\n",
       "    </tr>\n",
       "    <tr>\n",
       "      <th>show_calendar_cnt</th>\n",
       "      <td>30</td>\n",
       "    </tr>\n",
       "    <tr>\n",
       "      <th>sold_cnt</th>\n",
       "      <td>72</td>\n",
       "    </tr>\n",
       "    <tr>\n",
       "      <th>sole</th>\n",
       "      <td>0</td>\n",
       "    </tr>\n",
       "    <tr>\n",
       "      <th>title</th>\n",
       "      <td>【自体软骨隆鼻】院长亲诊鼻综合~安全无排异，不惧揉捏，鼻梁软骨，鼻尖软骨，真正的全耳软骨隆鼻~</td>\n",
       "    </tr>\n",
       "    <tr>\n",
       "      <th>tj_order</th>\n",
       "      <td>0</td>\n",
       "    </tr>\n",
       "    <tr>\n",
       "      <th>total_cnt</th>\n",
       "      <td>0</td>\n",
       "    </tr>\n",
       "    <tr>\n",
       "      <th>tuan</th>\n",
       "      <td>{}</td>\n",
       "    </tr>\n",
       "    <tr>\n",
       "      <th>wei_kuan</th>\n",
       "      <td>[]</td>\n",
       "    </tr>\n",
       "    <tr>\n",
       "      <th>wei_kuan_list</th>\n",
       "      <td>[]</td>\n",
       "    </tr>\n",
       "    <tr>\n",
       "      <th>wei_kuan_yn</th>\n",
       "      <td>0</td>\n",
       "    </tr>\n",
       "  </tbody>\n",
       "</table>\n",
       "</div>"
      ],
      "text/plain": [
       "                                                                              0\n",
       "avg_score                                                                   5.0\n",
       "bao_xian_yn                                                                   1\n",
       "calendar_cnt                                                                 15\n",
       "doctor                        [{u'doctor_id': u'59081', u'name_cn': u'王军', u...\n",
       "doctor_name                                                                  王军\n",
       "each_cnt                                                                      0\n",
       "fan_ju_money                                                                NaN\n",
       "fan_ju_money_yn                                                             NaN\n",
       "gong_yn                                                                       0\n",
       "hospital_id                                                               25547\n",
       "hospital_name                                                     北京东方瑞丽医疗美容门诊部\n",
       "img_cover                     {u'h': u'100', u'ident': u'lnimage', u'u': u'h...\n",
       "is_pin_tuan_yn                                                                0\n",
       "last_cnt_type                                                               NaN\n",
       "level                                                                       5.0\n",
       "marketing_language                                                 报销机票，送Dior口红\n",
       "on_sale_end_date                                                            NaN\n",
       "on_sale_flag                                                                  0\n",
       "on_sale_start_date                                                          NaN\n",
       "order_cnt                                                                   437\n",
       "pay_stages_yn                                                                 0\n",
       "paystages_notice                                                               \n",
       "paystages_notice_android                                                       \n",
       "paystages_notice_android_new                                                NaN\n",
       "paystages_notice_new                                                        NaN\n",
       "pid                                                                       91559\n",
       "pin_tuan                                                                     []\n",
       "price_deposit                                                              8000\n",
       "price_online                                                              45800\n",
       "price_origin                                                              68000\n",
       "product_icon                                                                   \n",
       "product_icon_yn                                                               0\n",
       "product_type                                                                  2\n",
       "purchlimit_endtime                                                          NaN\n",
       "purchlimit_text                                                             NaN\n",
       "purchlimit_yn                                                               NaN\n",
       "security                                                                      0\n",
       "show_calendar_cnt                                                            30\n",
       "sold_cnt                                                                     72\n",
       "sole                                                                          0\n",
       "title                           【自体软骨隆鼻】院长亲诊鼻综合~安全无排异，不惧揉捏，鼻梁软骨，鼻尖软骨，真正的全耳软骨隆鼻~\n",
       "tj_order                                                                      0\n",
       "total_cnt                                                                     0\n",
       "tuan                                                                         {}\n",
       "wei_kuan                                                                     []\n",
       "wei_kuan_list                                                                []\n",
       "wei_kuan_yn                                                                   0"
      ]
     },
     "execution_count": 146,
     "metadata": {},
     "output_type": "execute_result"
    }
   ],
   "source": [
    "df.head(1).transpose()"
   ]
  },
  {
   "cell_type": "code",
   "execution_count": 149,
   "metadata": {},
   "outputs": [
    {
     "name": "stdout",
     "output_type": "stream",
     "text": [
      "0    2000\n",
      "Name: pin_tuan, dtype: int64\n",
      "0    1732\n",
      "1     136\n",
      "2      84\n",
      "3      29\n",
      "5      11\n",
      "4       8\n",
      "Name: wei_kuan, dtype: int64\n",
      "0    1732\n",
      "1     136\n",
      "2      84\n",
      "3      29\n",
      "5      11\n",
      "4       8\n",
      "Name: wei_kuan_list, dtype: int64\n",
      "0     1879\n",
      "17     121\n",
      "Name: tuan, dtype: int64\n",
      "4    2000\n",
      "Name: img_cover, dtype: int64\n"
     ]
    }
   ],
   "source": [
    "test = ['pin_tuan', 'wei_kuan', 'wei_kuan_list', 'tuan','img_cover']\n",
    "for i in test:\n",
    "    print df[i].apply(lambda x:len(x)).value_counts()"
   ]
  },
  {
   "cell_type": "code",
   "execution_count": 150,
   "metadata": {
    "collapsed": true
   },
   "outputs": [],
   "source": [
    "df.to_excel('all_products.xlsx', index=False, encoding='utf-8')"
   ]
  },
  {
   "cell_type": "code",
   "execution_count": null,
   "metadata": {
    "collapsed": true
   },
   "outputs": [],
   "source": [
    "df"
   ]
  }
 ],
 "metadata": {
  "kernelspec": {
   "display_name": "Python 2",
   "language": "python",
   "name": "python2"
  },
  "language_info": {
   "codemirror_mode": {
    "name": "ipython",
    "version": 2
   },
   "file_extension": ".py",
   "mimetype": "text/x-python",
   "name": "python",
   "nbconvert_exporter": "python",
   "pygments_lexer": "ipython2",
   "version": "2.7.13"
  }
 },
 "nbformat": 4,
 "nbformat_minor": 2
}
