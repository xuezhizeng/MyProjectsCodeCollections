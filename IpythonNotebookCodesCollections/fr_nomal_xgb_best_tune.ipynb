{
 "cells": [
  {
   "cell_type": "code",
   "execution_count": 1,
   "metadata": {},
   "outputs": [
    {
     "name": "stderr",
     "output_type": "stream",
     "text": [
      "/home/shj16110/anaconda2/lib/python2.7/site-packages/sklearn/cross_validation.py:41: DeprecationWarning: This module was deprecated in version 0.18 in favor of the model_selection module into which all the refactored classes and functions are moved. Also note that the interface of the new CV iterators are different from that of this module. This module will be removed in 0.20.\n",
      "  \"This module will be removed in 0.20.\", DeprecationWarning)\n"
     ]
    },
    {
     "name": "stdout",
     "output_type": "stream",
     "text": [
      "CPU times: user 626 ms, sys: 2.2 s, total: 2.82 s\n",
      "Wall time: 7.23 s\n"
     ]
    }
   ],
   "source": [
    "%%time\n",
    "import pandas as pd\n",
    "\n",
    "from sklearn.metrics import roc_auc_score, make_scorer, accuracy_score\n",
    "from sklearn.preprocessing import OneHotEncoder, LabelEncoder\n",
    "from sklearn.preprocessing import StandardScaler, Normalizer, MinMaxScaler\n",
    "\n",
    "\n",
    "from sklearn.model_selection import train_test_split\n",
    "from sklearn.model_selection import cross_val_score\n",
    "\n",
    "from xgboost import XGBClassifier\n",
    "from sklearn.feature_selection import RFE\n",
    "\n",
    "\n",
    "from time import strftime, strptime, mktime, time, ctime\n",
    "\n",
    "from sklearn import model_selection\n",
    "\n",
    "from sklearn.linear_model import LogisticRegression\n",
    "from sklearn.neighbors import KNeighborsClassifier\n",
    "from sklearn.naive_bayes import GaussianNB \n",
    "from sklearn.svm import LinearSVC\n",
    "\n",
    "from xgboost import XGBClassifier\n",
    "import xgboost as xgb\n",
    "\n",
    "from sklearn.tree import DecisionTreeClassifier, ExtraTreeClassifier\n",
    "from sklearn.ensemble import AdaBoostClassifier, BaggingClassifier,\\\n",
    "ExtraTreesClassifier, GradientBoostingClassifier, VotingClassifier, RandomForestClassifier\n",
    "\n",
    "from mlxtend.classifier import StackingClassifier, StackingCVClassifier\n",
    "from mlxtend.feature_selection import ColumnSelector\n",
    "\n",
    "from sklearn.pipeline import make_pipeline\n",
    "import numpy as np\n",
    "\n",
    "import gc\n",
    "from sklearn.feature_selection import RFE"
   ]
  },
  {
   "cell_type": "code",
   "execution_count": 6,
   "metadata": {},
   "outputs": [
    {
     "name": "stdout",
     "output_type": "stream",
     "text": [
      "(69713, 22)\n",
      "(30037, 21)\n",
      "CPU times: user 57.1 s, sys: 37.8 s, total: 1min 34s\n",
      "Wall time: 1min 34s\n"
     ]
    }
   ],
   "source": [
    "%%time\n",
    "df = pd.read_csv('./train.csv')\n",
    "print df.shape\n",
    "test = pd.read_csv('./test.csv')\n",
    "print test.shape\n",
    "\n",
    "y = df.pop('Approved')\n",
    "train_id = df.pop('ID')\n",
    "test_id = test.pop('ID')\n",
    "\n",
    "def helper(x):\n",
    "    try:\n",
    "        tmp = strptime(x, '%d/%m/%y')\n",
    "        tmp = mktime(tmp)\n",
    "    except:\n",
    "        tmp = 563000400\n",
    "    return tmp\n",
    "\n",
    "df['Lead_Creation_Date'] = df['Lead_Creation_Date'].apply(helper)\n",
    "test['Lead_Creation_Date'] = test['Lead_Creation_Date'].apply(helper)\n",
    "\n",
    "df['DOB'] = df['DOB'].apply(helper)\n",
    "test['DOB'] = test['DOB'].apply(helper)\n",
    "\n",
    "df = df.fillna(axis=1, value=-1)\n",
    "test = test.fillna(axis=1, value=-1)\n",
    "\n",
    "df = pd.get_dummies(df)\n",
    "test = pd.get_dummies(test)\n",
    "test = test.reindex(columns = df.columns, fill_value=0)\n",
    "\n",
    "s = StandardScaler()\n",
    "df = s.fit_transform(df)\n",
    "test = s.transform(test)\n",
    "\n",
    "print df.shape, test.shape"
   ]
  },
  {
   "cell_type": "code",
   "execution_count": 10,
   "metadata": {},
   "outputs": [
    {
     "name": "stdout",
     "output_type": "stream",
     "text": [
      "CPU times: user 54 ms, sys: 7.06 s, total: 7.11 s\n",
      "Wall time: 11.5 s\n"
     ]
    }
   ],
   "source": [
    "%%time\n",
    "np.save('yesterday_train.npy', df)\n",
    "np.save('yesterday_test.npy', test)"
   ]
  },
  {
   "cell_type": "code",
   "execution_count": 13,
   "metadata": {},
   "outputs": [
    {
     "name": "stdout",
     "output_type": "stream",
     "text": [
      "8.4G yesterday_test.npy\r\n",
      " 20G yesterday_train.npy\r\n"
     ]
    }
   ],
   "source": [
    "!ls -sh|grep yes"
   ]
  },
  {
   "cell_type": "code",
   "execution_count": 7,
   "metadata": {},
   "outputs": [
    {
     "data": {
      "text/plain": [
       "numpy.ndarray"
      ]
     },
     "execution_count": 7,
     "metadata": {},
     "output_type": "execute_result"
    }
   ],
   "source": [
    "type(test)"
   ]
  },
  {
   "cell_type": "code",
   "execution_count": 10,
   "metadata": {},
   "outputs": [
    {
     "name": "stdout",
     "output_type": "stream",
     "text": [
      "             total       used       free     shared    buffers     cached\r\n",
      "Mem:          125G        61G        64G       2.6M       9.3M        75M\r\n",
      "-/+ buffers/cache:        61G        64G\r\n",
      "Swap:         4.0G       154M       3.8G\r\n"
     ]
    }
   ],
   "source": [
    "!free -h"
   ]
  },
  {
   "cell_type": "markdown",
   "metadata": {},
   "source": [
    "### from here"
   ]
  },
  {
   "cell_type": "code",
   "execution_count": 2,
   "metadata": {},
   "outputs": [
    {
     "name": "stdout",
     "output_type": "stream",
     "text": [
      "CPU times: user 6 ms, sys: 9.97 s, total: 9.97 s\n",
      "Wall time: 18.7 s\n"
     ]
    }
   ],
   "source": [
    "%%time\n",
    "train = np.load('yesterday_train.npy')\n",
    "test = np.load('yesterday_test.npy')\n",
    "y = np.load('y.npy')\n",
    "test_id = np.load('test_id.npy')"
   ]
  },
  {
   "cell_type": "code",
   "execution_count": 3,
   "metadata": {},
   "outputs": [
    {
     "name": "stdout",
     "output_type": "stream",
     "text": [
      "Fitting estimator with 37416 features.\n",
      "Fitting estimator with 33675 features.\n",
      "Fitting estimator with 29934 features.\n",
      "[ True  True  True ...  True  True  True]\n",
      "CPU times: user 6h 11min 30s, sys: 26.7 s, total: 6h 11min 57s\n",
      "Wall time: 16min 35s\n"
     ]
    }
   ],
   "source": [
    "%%time\n",
    "model=RandomForestClassifier(random_state=7, n_estimators=600, min_samples_split=5, n_jobs=-1)\n",
    "rfe = RFE(model, train.shape[1]*4/5, step=0.1, verbose=1)\n",
    "rfe = rfe.fit(train, y)\n",
    "# summarize the selection of the attributes\n",
    "print(rfe.support_)\n",
    "# print(rfe.ranking_)\n",
    "index2=rfe.support_"
   ]
  },
  {
   "cell_type": "code",
   "execution_count": 4,
   "metadata": {},
   "outputs": [
    {
     "name": "stdout",
     "output_type": "stream",
     "text": [
      "(69713, 37416) (30037, 37416)\n",
      "(69713, 29932) (30037, 29932)\n",
      "CPU times: user 2.95 s, sys: 4.2 s, total: 7.15 s\n",
      "Wall time: 7.15 s\n"
     ]
    }
   ],
   "source": [
    "%%time\n",
    "print train.shape, test.shape\n",
    "train, test = train[:,index2], test[:, index2]\n",
    "print train.shape, test.shape"
   ]
  },
  {
   "cell_type": "code",
   "execution_count": 5,
   "metadata": {},
   "outputs": [
    {
     "name": "stdout",
     "output_type": "stream",
     "text": [
      "[(55770, 29932), (55770,), (13943, 29932), (13943,)]\n",
      "CPU times: user 24.7 s, sys: 8.8 s, total: 33.5 s\n",
      "Wall time: 33.5 s\n"
     ]
    }
   ],
   "source": [
    "%%time\n",
    "m = lambda *x: [i.shape for i in x]\n",
    "X_train, X_test, y_train, y_test = train_test_split(train, y, test_size=0.2, random_state  = 7)\n",
    "print m(X_train, y_train, X_test, y_test)"
   ]
  },
  {
   "cell_type": "code",
   "execution_count": 6,
   "metadata": {},
   "outputs": [
    {
     "name": "stdout",
     "output_type": "stream",
     "text": [
      "CPU times: user 16.2 s, sys: 8.21 s, total: 24.4 s\n",
      "Wall time: 24.4 s\n"
     ]
    }
   ],
   "source": [
    "%%time\n",
    "d_train = xgb.DMatrix(X_train, label=y_train)\n",
    "d_test = xgb.DMatrix(X_test, label=y_test)"
   ]
  },
  {
   "cell_type": "code",
   "execution_count": null,
   "metadata": {},
   "outputs": [],
   "source": []
  },
  {
   "cell_type": "code",
   "execution_count": 7,
   "metadata": {
    "collapsed": true
   },
   "outputs": [],
   "source": [
    "RANDOM_STATE = 2018\n",
    "params = {\n",
    "    'min_child_weight': 0.8,\n",
    "#     'eta': 0.1,\n",
    "    'colsample_bytree': 0.8,\n",
    "    'max_depth': 12,\n",
    "    'subsample': 0.8,\n",
    "    'alpha': 0.3,\n",
    "    'lambda':0.9,\n",
    "    'gamma': 0.3,\n",
    "    'silent': 0,\n",
    "    'learning_rate':0.05,\n",
    "    'verbose_eval': True,\n",
    "    'seed': RANDOM_STATE,\n",
    "    'objective':\"binary:logistic\",\n",
    "#     'eval_metric':'error'\n",
    "#     'num_class':1\n",
    "    'n_jobs':24,\n",
    "    'eval_metric':'auc'\n",
    "    \n",
    "}\n",
    "watchlist = [(d_train, 'train'), (d_test, 'test')]\n",
    "\n"
   ]
  },
  {
   "cell_type": "code",
   "execution_count": 8,
   "metadata": {},
   "outputs": [
    {
     "name": "stdout",
     "output_type": "stream",
     "text": [
      "[0]\ttrain-auc:0.755173\ttest-auc:0.74267\n",
      "Multiple eval metrics have been passed: 'test-auc' will be used for early stopping.\n",
      "\n",
      "Will train until test-auc hasn't improved in 20 rounds.\n",
      "[1]\ttrain-auc:0.802796\ttest-auc:0.779792\n",
      "[2]\ttrain-auc:0.809161\ttest-auc:0.784481\n",
      "[3]\ttrain-auc:0.811009\ttest-auc:0.787497\n",
      "[4]\ttrain-auc:0.820971\ttest-auc:0.790974\n",
      "[5]\ttrain-auc:0.827992\ttest-auc:0.793848\n",
      "[6]\ttrain-auc:0.837947\ttest-auc:0.801864\n",
      "[7]\ttrain-auc:0.844503\ttest-auc:0.803624\n",
      "[8]\ttrain-auc:0.848659\ttest-auc:0.805626\n",
      "[9]\ttrain-auc:0.851399\ttest-auc:0.803775\n",
      "[10]\ttrain-auc:0.864605\ttest-auc:0.812723\n",
      "[11]\ttrain-auc:0.866927\ttest-auc:0.812498\n",
      "[12]\ttrain-auc:0.86926\ttest-auc:0.813868\n",
      "[13]\ttrain-auc:0.871811\ttest-auc:0.813559\n",
      "[14]\ttrain-auc:0.87279\ttest-auc:0.813315\n",
      "[15]\ttrain-auc:0.87431\ttest-auc:0.813846\n",
      "[16]\ttrain-auc:0.875769\ttest-auc:0.814021\n",
      "[17]\ttrain-auc:0.877613\ttest-auc:0.812348\n",
      "[18]\ttrain-auc:0.879122\ttest-auc:0.813032\n",
      "[19]\ttrain-auc:0.882652\ttest-auc:0.813288\n",
      "[20]\ttrain-auc:0.885482\ttest-auc:0.811978\n",
      "[21]\ttrain-auc:0.887136\ttest-auc:0.81163\n",
      "[22]\ttrain-auc:0.889662\ttest-auc:0.810346\n",
      "[23]\ttrain-auc:0.891711\ttest-auc:0.810963\n",
      "[24]\ttrain-auc:0.894\ttest-auc:0.813009\n",
      "[25]\ttrain-auc:0.896653\ttest-auc:0.812319\n",
      "[26]\ttrain-auc:0.897864\ttest-auc:0.812107\n",
      "[27]\ttrain-auc:0.900046\ttest-auc:0.817538\n",
      "[28]\ttrain-auc:0.901712\ttest-auc:0.817206\n",
      "[29]\ttrain-auc:0.902667\ttest-auc:0.817894\n",
      "[30]\ttrain-auc:0.903942\ttest-auc:0.817031\n",
      "[31]\ttrain-auc:0.907009\ttest-auc:0.818503\n",
      "[32]\ttrain-auc:0.906443\ttest-auc:0.81977\n",
      "[33]\ttrain-auc:0.908827\ttest-auc:0.821283\n",
      "[34]\ttrain-auc:0.912524\ttest-auc:0.821004\n",
      "[35]\ttrain-auc:0.913246\ttest-auc:0.821195\n",
      "[36]\ttrain-auc:0.914513\ttest-auc:0.821268\n",
      "[37]\ttrain-auc:0.917135\ttest-auc:0.821842\n",
      "[38]\ttrain-auc:0.918204\ttest-auc:0.822515\n",
      "[39]\ttrain-auc:0.918259\ttest-auc:0.822912\n",
      "[40]\ttrain-auc:0.919389\ttest-auc:0.82351\n",
      "[41]\ttrain-auc:0.921848\ttest-auc:0.823468\n",
      "[42]\ttrain-auc:0.924282\ttest-auc:0.823519\n",
      "[43]\ttrain-auc:0.925489\ttest-auc:0.82438\n",
      "[44]\ttrain-auc:0.92701\ttest-auc:0.824539\n",
      "[45]\ttrain-auc:0.929262\ttest-auc:0.825802\n",
      "[46]\ttrain-auc:0.931998\ttest-auc:0.827347\n",
      "[47]\ttrain-auc:0.934087\ttest-auc:0.827941\n",
      "[48]\ttrain-auc:0.93477\ttest-auc:0.828443\n",
      "[49]\ttrain-auc:0.935942\ttest-auc:0.828992\n",
      "[50]\ttrain-auc:0.938965\ttest-auc:0.829996\n",
      "[51]\ttrain-auc:0.941127\ttest-auc:0.829745\n",
      "[52]\ttrain-auc:0.942654\ttest-auc:0.830763\n",
      "[53]\ttrain-auc:0.944929\ttest-auc:0.830716\n",
      "[54]\ttrain-auc:0.947817\ttest-auc:0.831048\n",
      "[55]\ttrain-auc:0.949428\ttest-auc:0.830243\n",
      "[56]\ttrain-auc:0.95142\ttest-auc:0.828992\n",
      "[57]\ttrain-auc:0.953105\ttest-auc:0.828641\n",
      "[58]\ttrain-auc:0.954825\ttest-auc:0.827628\n",
      "[59]\ttrain-auc:0.956194\ttest-auc:0.827744\n",
      "[60]\ttrain-auc:0.957218\ttest-auc:0.828114\n",
      "[61]\ttrain-auc:0.958771\ttest-auc:0.828122\n",
      "[62]\ttrain-auc:0.959536\ttest-auc:0.828867\n",
      "[63]\ttrain-auc:0.960381\ttest-auc:0.827984\n",
      "[64]\ttrain-auc:0.961557\ttest-auc:0.827984\n",
      "[65]\ttrain-auc:0.963802\ttest-auc:0.829466\n",
      "[66]\ttrain-auc:0.964282\ttest-auc:0.830815\n",
      "[67]\ttrain-auc:0.965115\ttest-auc:0.830672\n",
      "[68]\ttrain-auc:0.966685\ttest-auc:0.830566\n",
      "[69]\ttrain-auc:0.967481\ttest-auc:0.829897\n",
      "[70]\ttrain-auc:0.96855\ttest-auc:0.830814\n",
      "[71]\ttrain-auc:0.969296\ttest-auc:0.830694\n",
      "[72]\ttrain-auc:0.970001\ttest-auc:0.831344\n",
      "[73]\ttrain-auc:0.970961\ttest-auc:0.831487\n",
      "[74]\ttrain-auc:0.972309\ttest-auc:0.831326\n",
      "[75]\ttrain-auc:0.973168\ttest-auc:0.831145\n",
      "[76]\ttrain-auc:0.974166\ttest-auc:0.831777\n",
      "[77]\ttrain-auc:0.974615\ttest-auc:0.832043\n",
      "[78]\ttrain-auc:0.974986\ttest-auc:0.832355\n",
      "[79]\ttrain-auc:0.975733\ttest-auc:0.832502\n",
      "[80]\ttrain-auc:0.976619\ttest-auc:0.833162\n",
      "[81]\ttrain-auc:0.977633\ttest-auc:0.833187\n",
      "[82]\ttrain-auc:0.978105\ttest-auc:0.833852\n",
      "[83]\ttrain-auc:0.978696\ttest-auc:0.833694\n",
      "[84]\ttrain-auc:0.979085\ttest-auc:0.83426\n",
      "[85]\ttrain-auc:0.979515\ttest-auc:0.834281\n",
      "[86]\ttrain-auc:0.980349\ttest-auc:0.834326\n",
      "[87]\ttrain-auc:0.981187\ttest-auc:0.833809\n",
      "[88]\ttrain-auc:0.981693\ttest-auc:0.83467\n",
      "[89]\ttrain-auc:0.982137\ttest-auc:0.834249\n",
      "[90]\ttrain-auc:0.982527\ttest-auc:0.835289\n",
      "[91]\ttrain-auc:0.982724\ttest-auc:0.835855\n",
      "[92]\ttrain-auc:0.983343\ttest-auc:0.836251\n",
      "[93]\ttrain-auc:0.98366\ttest-auc:0.836109\n",
      "[94]\ttrain-auc:0.984165\ttest-auc:0.836801\n",
      "[95]\ttrain-auc:0.984713\ttest-auc:0.837192\n",
      "[96]\ttrain-auc:0.985127\ttest-auc:0.837373\n",
      "[97]\ttrain-auc:0.985475\ttest-auc:0.837519\n",
      "[98]\ttrain-auc:0.985978\ttest-auc:0.837428\n",
      "[99]\ttrain-auc:0.986094\ttest-auc:0.837551\n",
      "[100]\ttrain-auc:0.986306\ttest-auc:0.837524\n",
      "[101]\ttrain-auc:0.986616\ttest-auc:0.837432\n",
      "[102]\ttrain-auc:0.987146\ttest-auc:0.837207\n",
      "[103]\ttrain-auc:0.987527\ttest-auc:0.837631\n",
      "[104]\ttrain-auc:0.987909\ttest-auc:0.83728\n",
      "[105]\ttrain-auc:0.988231\ttest-auc:0.837667\n",
      "[106]\ttrain-auc:0.988561\ttest-auc:0.837512\n",
      "[107]\ttrain-auc:0.988706\ttest-auc:0.837314\n",
      "[108]\ttrain-auc:0.988987\ttest-auc:0.837842\n",
      "[109]\ttrain-auc:0.989121\ttest-auc:0.838087\n",
      "[110]\ttrain-auc:0.989239\ttest-auc:0.838342\n",
      "[111]\ttrain-auc:0.989454\ttest-auc:0.838234\n",
      "[112]\ttrain-auc:0.989752\ttest-auc:0.838337\n",
      "[113]\ttrain-auc:0.990165\ttest-auc:0.838035\n",
      "[114]\ttrain-auc:0.990484\ttest-auc:0.838672\n",
      "[115]\ttrain-auc:0.990799\ttest-auc:0.838561\n",
      "[116]\ttrain-auc:0.990964\ttest-auc:0.838324\n",
      "[117]\ttrain-auc:0.991174\ttest-auc:0.838537\n",
      "[118]\ttrain-auc:0.991394\ttest-auc:0.838264\n",
      "[119]\ttrain-auc:0.991521\ttest-auc:0.83782\n",
      "[120]\ttrain-auc:0.991763\ttest-auc:0.837897\n",
      "[121]\ttrain-auc:0.991907\ttest-auc:0.838027\n",
      "[122]\ttrain-auc:0.992109\ttest-auc:0.83839\n",
      "[123]\ttrain-auc:0.992341\ttest-auc:0.838941\n",
      "[124]\ttrain-auc:0.992739\ttest-auc:0.839408\n",
      "[125]\ttrain-auc:0.992791\ttest-auc:0.839226\n",
      "[126]\ttrain-auc:0.992912\ttest-auc:0.839224\n",
      "[127]\ttrain-auc:0.99303\ttest-auc:0.839211\n",
      "[128]\ttrain-auc:0.993183\ttest-auc:0.838955\n",
      "[129]\ttrain-auc:0.993247\ttest-auc:0.839083\n",
      "[130]\ttrain-auc:0.993402\ttest-auc:0.839167\n",
      "[131]\ttrain-auc:0.993439\ttest-auc:0.839241\n",
      "[132]\ttrain-auc:0.993552\ttest-auc:0.839278\n",
      "[133]\ttrain-auc:0.993703\ttest-auc:0.839177\n",
      "[134]\ttrain-auc:0.993754\ttest-auc:0.839378\n",
      "[135]\ttrain-auc:0.993949\ttest-auc:0.839099\n",
      "[136]\ttrain-auc:0.994128\ttest-auc:0.838663\n",
      "[137]\ttrain-auc:0.994241\ttest-auc:0.838533\n",
      "[138]\ttrain-auc:0.994369\ttest-auc:0.838628\n",
      "[139]\ttrain-auc:0.994495\ttest-auc:0.838602\n",
      "[140]\ttrain-auc:0.994635\ttest-auc:0.83873\n",
      "[141]\ttrain-auc:0.994789\ttest-auc:0.838592\n",
      "[142]\ttrain-auc:0.994925\ttest-auc:0.838417\n",
      "[143]\ttrain-auc:0.994963\ttest-auc:0.838505\n",
      "[144]\ttrain-auc:0.99508\ttest-auc:0.838506\n",
      "Stopping. Best iteration:\n",
      "[124]\ttrain-auc:0.992739\ttest-auc:0.839408\n",
      "\n"
     ]
    },
    {
     "data": {
      "text/plain": [
       "'!!! used 656.90 s'"
      ]
     },
     "execution_count": 8,
     "metadata": {},
     "output_type": "execute_result"
    }
   ],
   "source": [
    "start=time()\n",
    "\n",
    "clf = xgb.train(params, d_train, 10000, watchlist, early_stopping_rounds=20, \n",
    "                verbose_eval=1,  maximize=True,\n",
    "               )\n",
    "                \n",
    "\n",
    "\n",
    "'!!! used %.2f s'%(time()-start)"
   ]
  },
  {
   "cell_type": "code",
   "execution_count": 9,
   "metadata": {},
   "outputs": [],
   "source": [
    "# clf.get_fscore()"
   ]
  },
  {
   "cell_type": "code",
   "execution_count": null,
   "metadata": {
    "collapsed": true
   },
   "outputs": [],
   "source": []
  },
  {
   "cell_type": "code",
   "execution_count": 13,
   "metadata": {},
   "outputs": [
    {
     "name": "stdout",
     "output_type": "stream",
     "text": [
      "CPU times: user 14.9 s, sys: 7.02 s, total: 21.9 s\n",
      "Wall time: 21.9 s\n"
     ]
    }
   ],
   "source": [
    "%%time\n",
    "dtest = xgb.DMatrix(test)"
   ]
  },
  {
   "cell_type": "code",
   "execution_count": 14,
   "metadata": {},
   "outputs": [
    {
     "name": "stdout",
     "output_type": "stream",
     "text": [
      "CPU times: user 4.3 s, sys: 1 ms, total: 4.3 s\n",
      "Wall time: 268 ms\n"
     ]
    }
   ],
   "source": [
    "%%time\n",
    "predb = clf.predict(dtest)\n"
   ]
  },
  {
   "cell_type": "markdown",
   "metadata": {},
   "source": [
    "___"
   ]
  },
  {
   "cell_type": "code",
   "execution_count": 19,
   "metadata": {},
   "outputs": [
    {
     "data": {
      "text/plain": [
       "(30037, 2)"
      ]
     },
     "execution_count": 19,
     "metadata": {},
     "output_type": "execute_result"
    }
   ],
   "source": [
    "submit = pd.concat([pd.DataFrame(test_id.values, columns=['ID']), pd.DataFrame(predb, columns=['Approved'])], axis=1)\n",
    "submit.shape"
   ]
  },
  {
   "cell_type": "code",
   "execution_count": 21,
   "metadata": {
    "collapsed": true
   },
   "outputs": [],
   "source": [
    "submit.to_csv('xgb1.csv',index=False)"
   ]
  },
  {
   "cell_type": "code",
   "execution_count": null,
   "metadata": {
    "collapsed": true
   },
   "outputs": [],
   "source": []
  },
  {
   "cell_type": "code",
   "execution_count": 22,
   "metadata": {
    "collapsed": true
   },
   "outputs": [],
   "source": [
    "clf.save_model('xgb_0.852586.model')"
   ]
  },
  {
   "cell_type": "code",
   "execution_count": null,
   "metadata": {
    "collapsed": true
   },
   "outputs": [],
   "source": []
  },
  {
   "cell_type": "code",
   "execution_count": null,
   "metadata": {
    "collapsed": true
   },
   "outputs": [],
   "source": []
  },
  {
   "cell_type": "code",
   "execution_count": 441,
   "metadata": {
    "collapsed": true
   },
   "outputs": [],
   "source": [
    "roc_auc_score?"
   ]
  },
  {
   "cell_type": "code",
   "execution_count": null,
   "metadata": {
    "collapsed": true
   },
   "outputs": [],
   "source": []
  },
  {
   "cell_type": "code",
   "execution_count": 442,
   "metadata": {},
   "outputs": [
    {
     "data": {
      "text/plain": [
       "(30037, 2)"
      ]
     },
     "execution_count": 442,
     "metadata": {},
     "output_type": "execute_result"
    }
   ],
   "source": [
    "submit2 = pd.concat([pd.DataFrame(test_id.values, columns=['ID']), pd.DataFrame(pred, columns=['Approved'])], axis=1)\n",
    "submit2.shape"
   ]
  },
  {
   "cell_type": "code",
   "execution_count": 449,
   "metadata": {},
   "outputs": [
    {
     "data": {
      "text/plain": [
       "0.9834325467976762"
      ]
     },
     "execution_count": 449,
     "metadata": {},
     "output_type": "execute_result"
    }
   ],
   "source": [
    "accuracy_score(y_test, [0]*y_test.shape[0])"
   ]
  },
  {
   "cell_type": "code",
   "execution_count": null,
   "metadata": {
    "collapsed": true
   },
   "outputs": [],
   "source": []
  },
  {
   "cell_type": "code",
   "execution_count": null,
   "metadata": {
    "collapsed": true
   },
   "outputs": [],
   "source": []
  },
  {
   "cell_type": "code",
   "execution_count": null,
   "metadata": {
    "collapsed": true
   },
   "outputs": [],
   "source": []
  },
  {
   "cell_type": "code",
   "execution_count": null,
   "metadata": {
    "collapsed": true
   },
   "outputs": [],
   "source": []
  },
  {
   "cell_type": "code",
   "execution_count": null,
   "metadata": {
    "collapsed": true
   },
   "outputs": [],
   "source": []
  },
  {
   "cell_type": "code",
   "execution_count": null,
   "metadata": {
    "collapsed": true
   },
   "outputs": [],
   "source": []
  },
  {
   "cell_type": "markdown",
   "metadata": {},
   "source": [
    "___"
   ]
  },
  {
   "cell_type": "code",
   "execution_count": 276,
   "metadata": {},
   "outputs": [
    {
     "data": {
      "text/plain": [
       "array([0.87807502, 1.        , 0.99992828, 1.        , 0.98759145])"
      ]
     },
     "execution_count": 276,
     "metadata": {},
     "output_type": "execute_result"
    }
   ],
   "source": [
    "cross_val_score(RandomForestClassifier(n_estimators=50, n_jobs=24), df.iloc[:,:-1], df.iloc[:,-1], cv=5)"
   ]
  },
  {
   "cell_type": "code",
   "execution_count": null,
   "metadata": {
    "collapsed": true
   },
   "outputs": [],
   "source": []
  },
  {
   "cell_type": "code",
   "execution_count": 76,
   "metadata": {},
   "outputs": [
    {
     "data": {
      "text/plain": [
       "RandomForestClassifier(bootstrap=True, class_weight=None, criterion='gini',\n",
       "            max_depth=None, max_features='auto', max_leaf_nodes=None,\n",
       "            min_impurity_decrease=0.0, min_impurity_split=None,\n",
       "            min_samples_leaf=1, min_samples_split=2,\n",
       "            min_weight_fraction_leaf=0.0, n_estimators=50, n_jobs=1,\n",
       "            oob_score=False, random_state=None, verbose=0,\n",
       "            warm_start=False)"
      ]
     },
     "execution_count": 76,
     "metadata": {},
     "output_type": "execute_result"
    }
   ],
   "source": [
    "fr = RandomForestClassifier(n_estimators=50)\n",
    "fr"
   ]
  },
  {
   "cell_type": "code",
   "execution_count": 77,
   "metadata": {},
   "outputs": [
    {
     "data": {
      "text/plain": [
       "RandomForestClassifier(bootstrap=True, class_weight=None, criterion='gini',\n",
       "            max_depth=None, max_features='auto', max_leaf_nodes=None,\n",
       "            min_impurity_decrease=0.0, min_impurity_split=None,\n",
       "            min_samples_leaf=1, min_samples_split=2,\n",
       "            min_weight_fraction_leaf=0.0, n_estimators=50, n_jobs=1,\n",
       "            oob_score=False, random_state=None, verbose=0,\n",
       "            warm_start=False)"
      ]
     },
     "execution_count": 77,
     "metadata": {},
     "output_type": "execute_result"
    }
   ],
   "source": [
    "fr.fit(df.iloc[:,:-1], df.iloc[:,-1])"
   ]
  },
  {
   "cell_type": "code",
   "execution_count": null,
   "metadata": {
    "collapsed": true
   },
   "outputs": [],
   "source": [
    "fr.predict_log_proba"
   ]
  }
 ],
 "metadata": {
  "kernelspec": {
   "display_name": "Python 2",
   "language": "python",
   "name": "python2"
  },
  "language_info": {
   "codemirror_mode": {
    "name": "ipython",
    "version": 2
   },
   "file_extension": ".py",
   "mimetype": "text/x-python",
   "name": "python",
   "nbconvert_exporter": "python",
   "pygments_lexer": "ipython2",
   "version": "2.7.13"
  }
 },
 "nbformat": 4,
 "nbformat_minor": 2
}
