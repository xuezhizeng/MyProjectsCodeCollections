{
 "cells": [
  {
   "cell_type": "code",
   "execution_count": 17,
   "metadata": {
    "collapsed": true
   },
   "outputs": [],
   "source": [
    "import os\n",
    "import sys\n",
    "import shutil\n",
    "from time import time, ctime\n",
    "import requests\n"
   ]
  },
  {
   "cell_type": "code",
   "execution_count": 18,
   "metadata": {},
   "outputs": [
    {
     "data": {
      "text/plain": [
       "['diary_8_3.csv', 'diary_9_9.csv', 'diary_3_23.csv']"
      ]
     },
     "execution_count": 18,
     "metadata": {},
     "output_type": "execute_result"
    }
   ],
   "source": [
    "os.listdir('data')[:3]"
   ]
  },
  {
   "cell_type": "code",
   "execution_count": 19,
   "metadata": {},
   "outputs": [
    {
     "data": {
      "text/plain": [
       "[9, 8, 21, 11, 22, 6, 4, 26, 17, 23, 5, 13, 15, 14, 28, 18, 20, 7]"
      ]
     },
     "execution_count": 19,
     "metadata": {},
     "output_type": "execute_result"
    }
   ],
   "source": [
    "[int(i.split('.csv')[0].split('_')[-1]) \n",
    " for i in os.listdir('data') \n",
    " if i.endswith('.csv') and int(i.split('diary_')[-1].split('_')[0])==9]"
   ]
  },
  {
   "cell_type": "code",
   "execution_count": 2,
   "metadata": {
    "collapsed": true
   },
   "outputs": [],
   "source": [
    "#! /home/shj16110/anaconda2/bin/python\n",
    "\n",
    "import os\n",
    "import sys\n",
    "import shutil\n",
    "from time import time, ctime\n",
    "import requests\n",
    "\n",
    "SS = \"https://storage.scrapinghub.com/items/276632/\";\n",
    "key = \"apikey=40ca9487a91348299af8280754d48cce\"\n",
    "cell = \"format=csv&fields=post_ID,comments,favor,views&include_headers=1\"\n",
    "\n",
    "\n",
    "\n",
    "def api(ID, start, end):\n",
    "    \n",
    "    ID, start, end = int(ID), int(start), int(end)\n",
    "    \n",
    "    have = [int(i.split('.csv')[0].split('_')[-1]) \n",
    " for i in os.listdir('data') \n",
    " if i.endswith('.csv') and int(i.split('diary_')[-1].split('_')[0])==ID]\n",
    "    print have\n",
    "    \n",
    "    point=time()\n",
    "    for i in range(start, end+1):\n",
    "        if i in have:\n",
    "            print ID, i, 'have downloaded already'\n",
    "            continue\n",
    "        \n",
    "        string = SS+str(ID)+'/'+str(i)+'?'+key+'&'+cell\n",
    "        #print string\n",
    "        \n",
    "        print ID, i, ctime()\n",
    "        response = requests.get(string, timeout=5)\n",
    "        name = 'diary_'+str(ID)+'_'+str(i)+'.csv'\n",
    "        with open(name,'w') as fh:\n",
    "            fh.write(response.text)\n",
    "        print name,'used: {:.2f} s'.format(time()-point)\n",
    "        point=time()\n",
    "        \n",
    "    CSVs = [i for i in os.listdir('.') if i.startswith('diary_'+str(ID))]\n",
    "    for j in CSVs:\n",
    "        st = os.stat(j)\n",
    "        if st.st_size<1024*800:\n",
    "            shutil.move(j, 'archive/trash/'+j)\n",
    "        else:\n",
    "            shutil.move(j, 'data/'+j)\n",
    "    \n",
    "        \n",
    "if __name__=='__main__':\n",
    "    ID, start, end = sys.argv[1:]\n",
    "    print ID, start, end\n",
    "    api(ID, start, end)"
   ]
  },
  {
   "cell_type": "code",
   "execution_count": 20,
   "metadata": {
    "collapsed": true
   },
   "outputs": [],
   "source": [
    "def api(ID, start, end):\n",
    "    \n",
    "    ID, start, end = int(ID), int(start), int(end)\n",
    "    \n",
    "    have = [int(i.split('.csv')[0].split('_')[-1]) \n",
    " for i in os.listdir('data') \n",
    " if i.endswith('.csv') and int(i.split('diary_')[-1].split('_')[0])==ID]\n",
    "    \n",
    "    point=time()\n",
    "    for i in range(start, end+1):\n",
    "        if i in have:\n",
    "            print ID, i, 'have downloaded already'\n",
    "            continue\n",
    "        \n",
    "        string = SS+str(i)+'?'+key+'&'+cell\n",
    "        print string\n",
    "        \n",
    "        print ID, i, ctime()\n",
    "        response = requests.get(string, timeout=5)\n",
    "        name = 'diary_'+str(ID)+'_'+str(i)+'.csv'\n",
    "        with open(name,'w') as fh:\n",
    "            fh.write(response.text)\n",
    "        print name,'used: {:.2f} s'.format(time()-point)\n",
    "        point=time()\n",
    "        \n",
    "    CSVs = [i for i in os.listdir('.') if i.startswith('diary_'+str(ID))]\n",
    "    for j in CSVs:\n",
    "        st = os.stat(j)\n",
    "        if st.st_size<1024*800:\n",
    "            shutil.move(j, 'archive/trash'+j)\n",
    "        else:\n",
    "            shutil.move(j, 'data/'+j)\n",
    "    \n",
    "        \n"
   ]
  },
  {
   "cell_type": "code",
   "execution_count": null,
   "metadata": {
    "collapsed": true
   },
   "outputs": [],
   "source": []
  },
  {
   "cell_type": "code",
   "execution_count": 27,
   "metadata": {
    "collapsed": true
   },
   "outputs": [],
   "source": [
    "test = requests.get('https://storage.scrapinghub.com/items/276632/9?\\\n",
    "             apikey=40ca9487a91348299af8280754d48cce&format=csv&\\\n",
    "             fields=post_ID,comments,favor,views&include_headers=1')"
   ]
  },
  {
   "cell_type": "code",
   "execution_count": 28,
   "metadata": {},
   "outputs": [
    {
     "data": {
      "text/plain": [
       "u'Unauthorized\\n'"
      ]
     },
     "execution_count": 28,
     "metadata": {},
     "output_type": "execute_result"
    }
   ],
   "source": [
    "test.text"
   ]
  },
  {
   "cell_type": "code",
   "execution_count": null,
   "metadata": {
    "collapsed": true
   },
   "outputs": [],
   "source": [
    "if __name__=='__main__':\n",
    "    ID, start, end = sys.argv[1:]\n",
    "    print ID, start, end\n",
    "    api(ID, start, end)"
   ]
  }
 ],
 "metadata": {
  "kernelspec": {
   "display_name": "Python 2",
   "language": "python",
   "name": "python2"
  },
  "language_info": {
   "codemirror_mode": {
    "name": "ipython",
    "version": 2
   },
   "file_extension": ".py",
   "mimetype": "text/x-python",
   "name": "python",
   "nbconvert_exporter": "python",
   "pygments_lexer": "ipython2",
   "version": "2.7.13"
  }
 },
 "nbformat": 4,
 "nbformat_minor": 2
}
