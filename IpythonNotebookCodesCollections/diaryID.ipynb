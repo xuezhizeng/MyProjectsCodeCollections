{
 "cells": [
  {
   "cell_type": "code",
   "execution_count": 1,
   "metadata": {
    "collapsed": true
   },
   "outputs": [],
   "source": [
    "import pandas as pd"
   ]
  },
  {
   "cell_type": "code",
   "execution_count": 2,
   "metadata": {},
   "outputs": [
    {
     "data": {
      "text/plain": [
       "(147320, 31)"
      ]
     },
     "execution_count": 2,
     "metadata": {},
     "output_type": "execute_result"
    }
   ],
   "source": [
    "df = pd.read_csv('./items_diarylink_2.csv')\n",
    "df.shape"
   ]
  },
  {
   "cell_type": "code",
   "execution_count": 3,
   "metadata": {},
   "outputs": [
    {
     "data": {
      "text/html": [
       "<div>\n",
       "<style scoped>\n",
       "    .dataframe tbody tr th:only-of-type {\n",
       "        vertical-align: middle;\n",
       "    }\n",
       "\n",
       "    .dataframe tbody tr th {\n",
       "        vertical-align: top;\n",
       "    }\n",
       "\n",
       "    .dataframe thead th {\n",
       "        text-align: right;\n",
       "    }\n",
       "</style>\n",
       "<table border=\"1\" class=\"dataframe\">\n",
       "  <thead>\n",
       "    <tr style=\"text-align: right;\">\n",
       "      <th></th>\n",
       "      <th>_type</th>\n",
       "      <th>avatar</th>\n",
       "      <th>certified_id</th>\n",
       "      <th>certified_type</th>\n",
       "      <th>create_date</th>\n",
       "      <th>create_date_str</th>\n",
       "      <th>daren_level</th>\n",
       "      <th>daren_level_text</th>\n",
       "      <th>district_1</th>\n",
       "      <th>district_name</th>\n",
       "      <th>...</th>\n",
       "      <th>item_id</th>\n",
       "      <th>middle</th>\n",
       "      <th>other</th>\n",
       "      <th>post_id</th>\n",
       "      <th>post_video_yn</th>\n",
       "      <th>tag_info</th>\n",
       "      <th>top</th>\n",
       "      <th>uid</th>\n",
       "      <th>user_level</th>\n",
       "      <th>user_name</th>\n",
       "    </tr>\n",
       "  </thead>\n",
       "  <tbody>\n",
       "    <tr>\n",
       "      <th>0</th>\n",
       "      <td>dict</td>\n",
       "      <td>{\"h\":57,\"ident\":\"lnimage\",\"u\":\"http://img2.soy...</td>\n",
       "      <td>0.0</td>\n",
       "      <td>0.0</td>\n",
       "      <td>2018-01-28 09:04:56</td>\n",
       "      <td>昨天</td>\n",
       "      <td>false</td>\n",
       "      <td>false</td>\n",
       "      <td>0</td>\n",
       "      <td>全国</td>\n",
       "      <td>...</td>\n",
       "      <td>415</td>\n",
       "      <td>{\"str_before\":\"术前\",\"img\":{\"h\":460,\"u\":\"http://...</td>\n",
       "      <td>{\"last_post_uid\":\"5118950\",\"str_day_num\":\"第679...</td>\n",
       "      <td>16790301</td>\n",
       "      <td>1</td>\n",
       "      <td>{\"related_id\":\"\",\"log\":\"\",\"team_yn\":\"\",\"team_r...</td>\n",
       "      <td>{\"post_cnt\":\"3\",\"display_color\":\"color_yellow\"...</td>\n",
       "      <td>5118950.0</td>\n",
       "      <td>6.0</td>\n",
       "      <td>Dalin图图</td>\n",
       "    </tr>\n",
       "    <tr>\n",
       "      <th>1</th>\n",
       "      <td>dict</td>\n",
       "      <td>{\"h\":57,\"ident\":\"lnimage\",\"u\":\"http://img2.soy...</td>\n",
       "      <td>0.0</td>\n",
       "      <td>0.0</td>\n",
       "      <td>2018-01-25 17:04:54</td>\n",
       "      <td>1月25日</td>\n",
       "      <td>false</td>\n",
       "      <td>false</td>\n",
       "      <td>0</td>\n",
       "      <td>全国</td>\n",
       "      <td>...</td>\n",
       "      <td>415</td>\n",
       "      <td>{\"str_before\":\"术前\",\"img\":{\"h\":800,\"u\":\"http://...</td>\n",
       "      <td>{\"last_post_uid\":\"13864151\",\"str_day_num\":\"第23...</td>\n",
       "      <td>16745397</td>\n",
       "      <td>0</td>\n",
       "      <td>{\"related_id\":\"\",\"log\":\"\",\"team_yn\":\"\",\"team_r...</td>\n",
       "      <td>{\"post_cnt\":\"2\",\"display_color\":\"color_yellow\"...</td>\n",
       "      <td>13864151.0</td>\n",
       "      <td>4.0</td>\n",
       "      <td>杨洋扬</td>\n",
       "    </tr>\n",
       "    <tr>\n",
       "      <th>2</th>\n",
       "      <td>dict</td>\n",
       "      <td>{\"h\":57,\"ident\":\"lnimage\",\"u\":\"http://img2.soy...</td>\n",
       "      <td>0.0</td>\n",
       "      <td>0.0</td>\n",
       "      <td>2018-01-26 17:15:59</td>\n",
       "      <td>1月26日</td>\n",
       "      <td>false</td>\n",
       "      <td>false</td>\n",
       "      <td>556</td>\n",
       "      <td>韩国</td>\n",
       "      <td>...</td>\n",
       "      <td>564</td>\n",
       "      <td>{\"str_before\":\"术前\",\"img\":{\"h\":1104,\"u\":\"http:/...</td>\n",
       "      <td>{\"last_post_uid\":\"9396974\",\"str_day_num\":\"第0天\"...</td>\n",
       "      <td>16763437</td>\n",
       "      <td>0</td>\n",
       "      <td>{\"related_id\":\"\",\"log\":\"\",\"team_yn\":\"\",\"team_r...</td>\n",
       "      <td>{\"post_cnt\":\"1\",\"display_color\":\"color_yellow\"...</td>\n",
       "      <td>9396974.0</td>\n",
       "      <td>7.0</td>\n",
       "      <td>哈哈镜123</td>\n",
       "    </tr>\n",
       "    <tr>\n",
       "      <th>3</th>\n",
       "      <td>dict</td>\n",
       "      <td>{\"h\":57,\"ident\":\"lnimage\",\"u\":\"http://img2.soy...</td>\n",
       "      <td>0.0</td>\n",
       "      <td>0.0</td>\n",
       "      <td>2018-01-08 17:45:14</td>\n",
       "      <td>1月8日</td>\n",
       "      <td>false</td>\n",
       "      <td>false</td>\n",
       "      <td>0</td>\n",
       "      <td>全国</td>\n",
       "      <td>...</td>\n",
       "      <td>291</td>\n",
       "      <td>{\"str_before\":\"术前\",\"img\":{\"h\":3264,\"u\":\"http:/...</td>\n",
       "      <td>{\"last_post_uid\":\"18412834\",\"str_day_num\":\"第0天...</td>\n",
       "      <td>16447917</td>\n",
       "      <td>0</td>\n",
       "      <td>{\"related_id\":\"\",\"log\":\"\",\"team_yn\":\"\",\"team_r...</td>\n",
       "      <td>{\"post_cnt\":\"1\",\"display_color\":\"color_yellow\"...</td>\n",
       "      <td>18412834.0</td>\n",
       "      <td>2.0</td>\n",
       "      <td>ღ凯文ヾ</td>\n",
       "    </tr>\n",
       "    <tr>\n",
       "      <th>4</th>\n",
       "      <td>dict</td>\n",
       "      <td>{\"h\":57,\"ident\":\"lnimage\",\"u\":\"http://img1.soy...</td>\n",
       "      <td>26959.0</td>\n",
       "      <td>2.0</td>\n",
       "      <td>2017-08-31 15:29:05</td>\n",
       "      <td>2017年8月31日</td>\n",
       "      <td>false</td>\n",
       "      <td>false</td>\n",
       "      <td>0</td>\n",
       "      <td>全国</td>\n",
       "      <td>...</td>\n",
       "      <td>56</td>\n",
       "      <td>{\"str_before\":\"术前\",\"img\":{\"h\":327,\"u\":\"http://...</td>\n",
       "      <td>{\"last_post_uid\":\"14242523\",\"str_day_num\":\"第16...</td>\n",
       "      <td>14271133</td>\n",
       "      <td>0</td>\n",
       "      <td>{\"related_id\":\"\",\"log\":\"\",\"team_yn\":\"\",\"team_r...</td>\n",
       "      <td>{\"post_cnt\":\"3\",\"display_color\":\"color_yellow\"...</td>\n",
       "      <td>14242523.0</td>\n",
       "      <td>5.0</td>\n",
       "      <td>氧气0599151497840293</td>\n",
       "    </tr>\n",
       "  </tbody>\n",
       "</table>\n",
       "<p>5 rows × 31 columns</p>\n",
       "</div>"
      ],
      "text/plain": [
       "  _type                                             avatar  certified_id  \\\n",
       "0  dict  {\"h\":57,\"ident\":\"lnimage\",\"u\":\"http://img2.soy...           0.0   \n",
       "1  dict  {\"h\":57,\"ident\":\"lnimage\",\"u\":\"http://img2.soy...           0.0   \n",
       "2  dict  {\"h\":57,\"ident\":\"lnimage\",\"u\":\"http://img2.soy...           0.0   \n",
       "3  dict  {\"h\":57,\"ident\":\"lnimage\",\"u\":\"http://img2.soy...           0.0   \n",
       "4  dict  {\"h\":57,\"ident\":\"lnimage\",\"u\":\"http://img1.soy...       26959.0   \n",
       "\n",
       "   certified_type          create_date create_date_str daren_level  \\\n",
       "0             0.0  2018-01-28 09:04:56              昨天       false   \n",
       "1             0.0  2018-01-25 17:04:54           1月25日       false   \n",
       "2             0.0  2018-01-26 17:15:59           1月26日       false   \n",
       "3             0.0  2018-01-08 17:45:14            1月8日       false   \n",
       "4             2.0  2017-08-31 15:29:05      2017年8月31日       false   \n",
       "\n",
       "  daren_level_text  district_1 district_name         ...         item_id  \\\n",
       "0            false           0            全国         ...             415   \n",
       "1            false           0            全国         ...             415   \n",
       "2            false         556            韩国         ...             564   \n",
       "3            false           0            全国         ...             291   \n",
       "4            false           0            全国         ...              56   \n",
       "\n",
       "                                              middle  \\\n",
       "0  {\"str_before\":\"术前\",\"img\":{\"h\":460,\"u\":\"http://...   \n",
       "1  {\"str_before\":\"术前\",\"img\":{\"h\":800,\"u\":\"http://...   \n",
       "2  {\"str_before\":\"术前\",\"img\":{\"h\":1104,\"u\":\"http:/...   \n",
       "3  {\"str_before\":\"术前\",\"img\":{\"h\":3264,\"u\":\"http:/...   \n",
       "4  {\"str_before\":\"术前\",\"img\":{\"h\":327,\"u\":\"http://...   \n",
       "\n",
       "                                               other   post_id  post_video_yn  \\\n",
       "0  {\"last_post_uid\":\"5118950\",\"str_day_num\":\"第679...  16790301              1   \n",
       "1  {\"last_post_uid\":\"13864151\",\"str_day_num\":\"第23...  16745397              0   \n",
       "2  {\"last_post_uid\":\"9396974\",\"str_day_num\":\"第0天\"...  16763437              0   \n",
       "3  {\"last_post_uid\":\"18412834\",\"str_day_num\":\"第0天...  16447917              0   \n",
       "4  {\"last_post_uid\":\"14242523\",\"str_day_num\":\"第16...  14271133              0   \n",
       "\n",
       "                                            tag_info  \\\n",
       "0  {\"related_id\":\"\",\"log\":\"\",\"team_yn\":\"\",\"team_r...   \n",
       "1  {\"related_id\":\"\",\"log\":\"\",\"team_yn\":\"\",\"team_r...   \n",
       "2  {\"related_id\":\"\",\"log\":\"\",\"team_yn\":\"\",\"team_r...   \n",
       "3  {\"related_id\":\"\",\"log\":\"\",\"team_yn\":\"\",\"team_r...   \n",
       "4  {\"related_id\":\"\",\"log\":\"\",\"team_yn\":\"\",\"team_r...   \n",
       "\n",
       "                                                 top         uid  user_level  \\\n",
       "0  {\"post_cnt\":\"3\",\"display_color\":\"color_yellow\"...   5118950.0         6.0   \n",
       "1  {\"post_cnt\":\"2\",\"display_color\":\"color_yellow\"...  13864151.0         4.0   \n",
       "2  {\"post_cnt\":\"1\",\"display_color\":\"color_yellow\"...   9396974.0         7.0   \n",
       "3  {\"post_cnt\":\"1\",\"display_color\":\"color_yellow\"...  18412834.0         2.0   \n",
       "4  {\"post_cnt\":\"3\",\"display_color\":\"color_yellow\"...  14242523.0         5.0   \n",
       "\n",
       "            user_name  \n",
       "0             Dalin图图  \n",
       "1                 杨洋扬  \n",
       "2              哈哈镜123  \n",
       "3                ღ凯文ヾ  \n",
       "4  氧气0599151497840293  \n",
       "\n",
       "[5 rows x 31 columns]"
      ]
     },
     "execution_count": 3,
     "metadata": {},
     "output_type": "execute_result"
    }
   ],
   "source": [
    "df.head()"
   ]
  },
  {
   "cell_type": "code",
   "execution_count": 8,
   "metadata": {},
   "outputs": [],
   "source": [
    "df[['group_id']].to_csv('diaryID.csv', index=False)"
   ]
  },
  {
   "cell_type": "code",
   "execution_count": 9,
   "metadata": {},
   "outputs": [
    {
     "data": {
      "text/plain": [
       "(50150, 53)"
      ]
     },
     "execution_count": 9,
     "metadata": {},
     "output_type": "execute_result"
    }
   ],
   "source": [
    "pdf = pd.read_csv('./items_product_2.csv')\n",
    "pdf.shape"
   ]
  },
  {
   "cell_type": "code",
   "execution_count": 14,
   "metadata": {},
   "outputs": [],
   "source": [
    "pdf[['pid']].to_csv('fullPid.csv', index=False)"
   ]
  },
  {
   "cell_type": "code",
   "execution_count": null,
   "metadata": {
    "collapsed": true
   },
   "outputs": [],
   "source": []
  }
 ],
 "metadata": {
  "kernelspec": {
   "display_name": "Python 2",
   "language": "python",
   "name": "python2"
  },
  "language_info": {
   "codemirror_mode": {
    "name": "ipython",
    "version": 2
   },
   "file_extension": ".py",
   "mimetype": "text/x-python",
   "name": "python",
   "nbconvert_exporter": "python",
   "pygments_lexer": "ipython2",
   "version": "2.7.13"
  }
 },
 "nbformat": 4,
 "nbformat_minor": 2
}
