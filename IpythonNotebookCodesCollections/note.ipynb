{
 "cells": [
  {
   "cell_type": "markdown",
   "metadata": {},
   "source": [
    "### deep learning\n",
    "\n",
    "http://course.fast.ai/\n",
    "\n",
    "### machine learning\n",
    "\n",
    "http://forums.fast.ai/t/another-treat-early-access-to-intro-to-machine-learning-videos/6826?source_topic_id=9285&source_topic_id=9594\n",
    "\n",
    "\n",
    "http://www.fast.ai/"
   ]
  },
  {
   "cell_type": "markdown",
   "metadata": {},
   "source": [
    "### ssh\n",
    "\n",
    "http://blog.csdn.net/a753255157/article/details/49156029\n",
    "\n",
    "https://www.ssh.com/ssh/copy-id"
   ]
  },
  {
   "cell_type": "markdown",
   "metadata": {},
   "source": [
    "https://askubuntu.com/questions/110814/server-keeps-asking-for-password-after-ive-copied-my-ssh-public-key-to-authoriz"
   ]
  },
  {
   "cell_type": "markdown",
   "metadata": {},
   "source": [
    "https://www.daveperrett.com/articles/2010/09/14/ssh-authentication-refused/"
   ]
  },
  {
   "cell_type": "markdown",
   "metadata": {
    "collapsed": true
   },
   "source": [
    "### build API\n",
    "\n",
    "https://www.codementor.io/sagaragarwal94/building-a-basic-restful-api-in-python-58k02xsiq"
   ]
  },
  {
   "cell_type": "markdown",
   "metadata": {},
   "source": [
    "### sklearn pipeline & FeatureUnion\n",
    "\n",
    "http://scikit-learn.org/stable/modules/generated/sklearn.pipeline.Pipeline.html\n",
    "\n",
    "http://scikit-learn.org/stable/auto_examples/hetero_feature_union.html#sphx-glr-auto-examples-hetero-feature-union-py\n",
    "\n",
    "https://machinelearningmastery.com/automate-machine-learning-workflows-pipelines-python-scikit-learn/\n",
    "\n",
    "https://www.civisanalytics.com/blog/workflows-in-python-using-pipeline-and-gridsearchcv-for-more-compact-and-comprehensive-code/\n",
    "\n",
    "#### good to read\n",
    "http://zacstewart.com/2014/08/05/pipelines-of-featureunions-of-pipelines.html\n",
    "\n",
    "http://michelleful.github.io/code-blog/2015/06/20/pipelines/\n",
    "\n",
    "http://queirozf.com/entries/scikit-learn-pipeline-examples"
   ]
  },
  {
   "cell_type": "markdown",
   "metadata": {},
   "source": [
    "https://www.class-central.com/report/best-machine-learning-courses/"
   ]
  },
  {
   "cell_type": "markdown",
   "metadata": {},
   "source": [
    "### stacking and blending\n",
    "https://rasbt.github.io/mlxtend/user_guide/classifier/StackingClassifier/\n",
    "\n",
    "https://mlwave.com/kaggle-ensembling-guide/\n",
    "\n",
    "https://www.quora.com/What-are-examples-of-blending-and-stacking-in-Machine-Learning\n",
    "\n",
    "https://www.linkedin.com/pulse/do-you-want-learn-stacking-blending-ensembling-machine-soledad-galli/\n"
   ]
  },
  {
   "cell_type": "markdown",
   "metadata": {
    "collapsed": true
   },
   "source": [
    "## DevOps"
   ]
  },
  {
   "cell_type": "markdown",
   "metadata": {},
   "source": [
    "https://www.edureka.co/blog/devops-tutorial\n",
    "\n",
    "#### SRS -- software requirements specification\n",
    "#### SLA -- Service-level agreement\n",
    "#### ACID (Atomicity, Consistency, Isolation, Durability) https://en.wikipedia.org/wiki/ACID\n",
    "#### MVC Model–view–controller https://en.wikipedia.org/wiki/Model%E2%80%93view%E2%80%93controller\n",
    "\n",
    "http://datawarehouse4u.info/index_en.html\n"
   ]
  },
  {
   "cell_type": "markdown",
   "metadata": {},
   "source": [
    "____\n"
   ]
  },
  {
   "cell_type": "markdown",
   "metadata": {},
   "source": [
    "#### Linux wildcard\n",
    "* http://www.gnu.org/software/bash/manual/bashref.html#Brace-Expansion\n",
    "* https://alvinalexander.com/unix/edu/examples/rm.shtml\n",
    "* http://www.linfo.org/wildcard.html"
   ]
  },
  {
   "cell_type": "markdown",
   "metadata": {
    "collapsed": true
   },
   "source": [
    "### bash "
   ]
  },
  {
   "cell_type": "markdown",
   "metadata": {},
   "source": [
    "https://www.thegeekstuff.com/2010/06/bash-array-tutorial/\n",
    "\n",
    "https://www.tutorialspoint.com/unix/unix-loop-control.htm\n",
    "\n",
    "https://stackoverflow.com/questions/10909685/run-parallel-multiple-commands-at-once-in-the-same-terminal\n",
    "\n",
    "https://unix.stackexchange.com/questions/204480/run-multiple-commands-and-kill-them-as-one-in-bash\n",
    "\n",
    "http://www.linuxjournal.com/content/bash-arrays\n",
    "\n",
    "https://stackoverflow.com/questions/20014201/how-to-move-all-files-with-fewer-than-5-bytes-in-bash"
   ]
  },
  {
   "cell_type": "markdown",
   "metadata": {},
   "source": [
    "## pyspark\n",
    "\n",
    "https://lab.getbase.com/pandarize-spark-dataframes/"
   ]
  },
  {
   "cell_type": "markdown",
   "metadata": {},
   "source": [
    "https://www.kaggle.com/c/mercari-price-suggestion-challenge/discussion/50499?lipi=urn%3Ali%3Apage%3Ad_flagship3_feed%3Bne7l7GtsRTiQUsIMHciN0g%3D%3D"
   ]
  },
  {
   "cell_type": "markdown",
   "metadata": {},
   "source": [
    "### spark vs pig"
   ]
  },
  {
   "cell_type": "markdown",
   "metadata": {
    "collapsed": true
   },
   "source": [
    "https://mapr.com/blog/easy-journey-from-pig-to-spark-for-developers/\n",
    "\n",
    "\n",
    "### recommender\n",
    "https://www.codementor.io/jadianes/building-a-web-service-with-apache-spark-flask-example-app-part2-du1083854\n",
    "\n",
    "https://www.datacamp.com/community/tutorials/recommender-systems-python"
   ]
  },
  {
   "cell_type": "markdown",
   "metadata": {},
   "source": [
    "### mysql\n",
    "https://stackoverflow.com/questions/11448068/mysql-error-code-1175-during-update-in-mysql-workbench\n",
    "\n",
    "### learning resources\n",
    "http://cvpr2018.thecvf.com/program/workshops?lipi=urn%3Ali%3Apage%3Ad_flagship3_feed%3BLKfkyyfBQPGaFNNXl8vyrA%3D%3D&licu=urn%3Ali%3Acontrol%3Ad_flagship3_feed-object"
   ]
  },
  {
   "cell_type": "markdown",
   "metadata": {},
   "source": [
    "https://aster-community.teradata.com/community/learn-aster/blog/2015/06/21/data-science--fuzzy-matching-and-similarity-measures"
   ]
  },
  {
   "cell_type": "markdown",
   "metadata": {},
   "source": [
    "### spark streaming\n",
    "\n",
    "http://thefreemanlab.com/work/\n",
    "\n",
    "https://www.dataquest.io/blog/streaming-data-python/"
   ]
  },
  {
   "cell_type": "code",
   "execution_count": null,
   "metadata": {
    "collapsed": true
   },
   "outputs": [],
   "source": [
    "s"
   ]
  }
 ],
 "metadata": {
  "kernelspec": {
   "display_name": "Python 2",
   "language": "python",
   "name": "python2"
  },
  "language_info": {
   "codemirror_mode": {
    "name": "ipython",
    "version": 2
   },
   "file_extension": ".py",
   "mimetype": "text/x-python",
   "name": "python",
   "nbconvert_exporter": "python",
   "pygments_lexer": "ipython2",
   "version": "2.7.13"
  }
 },
 "nbformat": 4,
 "nbformat_minor": 2
}
