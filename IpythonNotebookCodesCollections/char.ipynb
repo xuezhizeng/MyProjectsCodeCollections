{
 "cells": [
  {
   "cell_type": "markdown",
   "metadata": {},
   "source": [
    "http://in355hz.iteye.com/blog/1860787"
   ]
  },
  {
   "cell_type": "code",
   "execution_count": 1,
   "metadata": {},
   "outputs": [
    {
     "name": "stdout",
     "output_type": "stream",
     "text": [
      "1.1.18.ipynb  distribution_setuptools_git_pypi.ipynb  test.rst\r\n",
      "11.19.ipynb   json2df_readme.ipynb\t\t      test.sh\r\n",
      "11.21.ipynb   market-research-library.json\t      text.txt\r\n",
      "11.22.ipynb   parse_readme.ipynb\t\t      Untitled.ipynb\r\n",
      "11.23.ipynb   readme_example.rst\t\t      中文怎么成字符.jpg\r\n",
      "12.30.ipynb   sample.csv\t\t\t      唉唉我去.txt\r\n",
      "char.ipynb    testdata\r\n"
     ]
    }
   ],
   "source": [
    "!ls"
   ]
  },
  {
   "cell_type": "code",
   "execution_count": 2,
   "metadata": {},
   "outputs": [],
   "source": [
    "import os\n",
    "import codecs\n",
    "import natsort"
   ]
  },
  {
   "cell_type": "code",
   "execution_count": 3,
   "metadata": {},
   "outputs": [
    {
     "data": {
      "text/plain": [
       "['Untitled.ipynb',\n",
       " 'test.rst',\n",
       " 'sample.csv',\n",
       " '11.22.ipynb',\n",
       " '\\xe4\\xb8\\xad\\xe6\\x96\\x87\\xe6\\x80\\x8e\\xe4\\xb9\\x88\\xe6\\x88\\x90\\xe5\\xad\\x97\\xe7\\xac\\xa6.jpg',\n",
       " 'test.sh',\n",
       " '12.30.ipynb',\n",
       " '.ipynb_checkpoints',\n",
       " 'json2df_readme.ipynb',\n",
       " 'parse_readme.ipynb',\n",
       " 'readme_example.rst',\n",
       " '\\xe5\\x94\\x89\\xe5\\x94\\x89\\xe6\\x88\\x91\\xe5\\x8e\\xbb.txt',\n",
       " '1.1.18.ipynb',\n",
       " 'text.txt',\n",
       " 'distribution_setuptools_git_pypi.ipynb',\n",
       " '11.21.ipynb',\n",
       " '11.19.ipynb',\n",
       " 'char.ipynb',\n",
       " 'market-research-library.json',\n",
       " 'testdata',\n",
       " '11.23.ipynb']"
      ]
     },
     "execution_count": 3,
     "metadata": {},
     "output_type": "execute_result"
    }
   ],
   "source": [
    "a = os.listdir('.')\n",
    "a"
   ]
  },
  {
   "cell_type": "code",
   "execution_count": 4,
   "metadata": {},
   "outputs": [
    {
     "name": "stdout",
     "output_type": "stream",
     "text": [
      "中文怎么成字符.jpg\n"
     ]
    }
   ],
   "source": [
    "print ('中文怎么成字符.jpg')"
   ]
  },
  {
   "cell_type": "code",
   "execution_count": 5,
   "metadata": {
    "collapsed": true
   },
   "outputs": [],
   "source": [
    "b=\"中文怎么成字符.jpg\""
   ]
  },
  {
   "cell_type": "code",
   "execution_count": 6,
   "metadata": {},
   "outputs": [
    {
     "data": {
      "text/plain": [
       "'\\xe4\\xb8\\xad\\xe6\\x96\\x87\\xe6\\x80\\x8e\\xe4\\xb9\\x88\\xe6\\x88\\x90\\xe5\\xad\\x97\\xe7\\xac\\xa6.jpg'"
      ]
     },
     "execution_count": 6,
     "metadata": {},
     "output_type": "execute_result"
    }
   ],
   "source": [
    "b"
   ]
  },
  {
   "cell_type": "code",
   "execution_count": 7,
   "metadata": {},
   "outputs": [
    {
     "data": {
      "text/plain": [
       "['.ipynb_checkpoints',\n",
       " '1.1.18.ipynb',\n",
       " '11.19.ipynb',\n",
       " '11.21.ipynb',\n",
       " '11.22.ipynb',\n",
       " '11.23.ipynb',\n",
       " '12.30.ipynb',\n",
       " 'Untitled.ipynb',\n",
       " 'char.ipynb',\n",
       " 'distribution_setuptools_git_pypi.ipynb',\n",
       " 'json2df_readme.ipynb',\n",
       " 'market-research-library.json',\n",
       " 'parse_readme.ipynb',\n",
       " 'readme_example.rst',\n",
       " 'sample.csv',\n",
       " 'test.rst',\n",
       " 'test.sh',\n",
       " 'testdata',\n",
       " 'text.txt',\n",
       " '\\xe4\\xb8\\xad\\xe6\\x96\\x87\\xe6\\x80\\x8e\\xe4\\xb9\\x88\\xe6\\x88\\x90\\xe5\\xad\\x97\\xe7\\xac\\xa6.jpg',\n",
       " '\\xe5\\x94\\x89\\xe5\\x94\\x89\\xe6\\x88\\x91\\xe5\\x8e\\xbb.txt']"
      ]
     },
     "execution_count": 7,
     "metadata": {},
     "output_type": "execute_result"
    }
   ],
   "source": [
    "a.sort()\n",
    "a"
   ]
  },
  {
   "cell_type": "code",
   "execution_count": 8,
   "metadata": {},
   "outputs": [
    {
     "data": {
      "text/plain": [
       "['.ipynb_checkpoints',\n",
       " '1.1.18.ipynb',\n",
       " '11.19.ipynb',\n",
       " '11.21.ipynb',\n",
       " '11.22.ipynb',\n",
       " '11.23.ipynb',\n",
       " '12.30.ipynb',\n",
       " 'Untitled.ipynb',\n",
       " 'char.ipynb',\n",
       " 'distribution_setuptools_git_pypi.ipynb',\n",
       " 'json2df_readme.ipynb',\n",
       " 'market-research-library.json',\n",
       " 'parse_readme.ipynb',\n",
       " 'readme_example.rst',\n",
       " 'sample.csv',\n",
       " 'test.rst',\n",
       " 'test.sh',\n",
       " 'testdata',\n",
       " 'text.txt',\n",
       " '\\xe4\\xb8\\xad\\xe6\\x96\\x87\\xe6\\x80\\x8e\\xe4\\xb9\\x88\\xe6\\x88\\x90\\xe5\\xad\\x97\\xe7\\xac\\xa6.jpg',\n",
       " '\\xe5\\x94\\x89\\xe5\\x94\\x89\\xe6\\x88\\x91\\xe5\\x8e\\xbb.txt']"
      ]
     },
     "execution_count": 8,
     "metadata": {},
     "output_type": "execute_result"
    }
   ],
   "source": [
    "sorted(a)"
   ]
  },
  {
   "cell_type": "code",
   "execution_count": 9,
   "metadata": {},
   "outputs": [
    {
     "data": {
      "text/plain": [
       "'\\xe5\\x94\\x89\\xe5\\x94\\x89\\xe6\\x88\\x91\\xe5\\x8e\\xbb.txt'"
      ]
     },
     "execution_count": 9,
     "metadata": {},
     "output_type": "execute_result"
    }
   ],
   "source": [
    "a[-1]"
   ]
  },
  {
   "cell_type": "code",
   "execution_count": 10,
   "metadata": {},
   "outputs": [
    {
     "name": "stdout",
     "output_type": "stream",
     "text": [
      "中文怎么成字符.jpg\n"
     ]
    }
   ],
   "source": [
    "print b"
   ]
  },
  {
   "cell_type": "code",
   "execution_count": 11,
   "metadata": {},
   "outputs": [
    {
     "data": {
      "text/plain": [
       "u'\\u4e2d\\u6587\\u600e\\u4e48\\u6210\\u5b57\\u7b26.jpg'"
      ]
     },
     "execution_count": 11,
     "metadata": {},
     "output_type": "execute_result"
    }
   ],
   "source": [
    "p = b.decode('utf-8')\n",
    "p"
   ]
  },
  {
   "cell_type": "code",
   "execution_count": 12,
   "metadata": {},
   "outputs": [
    {
     "data": {
      "text/plain": [
       "unicode"
      ]
     },
     "execution_count": 12,
     "metadata": {},
     "output_type": "execute_result"
    }
   ],
   "source": [
    "p.__class__"
   ]
  },
  {
   "cell_type": "code",
   "execution_count": 13,
   "metadata": {},
   "outputs": [
    {
     "data": {
      "text/plain": [
       "'\\xe4\\xb8\\xad\\xe6\\x96\\x87\\xe6\\x80\\x8e\\xe4\\xb9\\x88\\xe6\\x88\\x90\\xe5\\xad\\x97\\xe7\\xac\\xa6.jpg'"
      ]
     },
     "execution_count": 13,
     "metadata": {},
     "output_type": "execute_result"
    }
   ],
   "source": [
    "b"
   ]
  },
  {
   "cell_type": "code",
   "execution_count": 14,
   "metadata": {},
   "outputs": [
    {
     "data": {
      "text/plain": [
       "'\\xe5\\x94\\x89\\xe5\\x94\\x89\\xe6\\x88\\x91\\xe5\\x8e\\xbb.txt'"
      ]
     },
     "execution_count": 14,
     "metadata": {},
     "output_type": "execute_result"
    }
   ],
   "source": [
    "c=a[-1]\n",
    "c"
   ]
  },
  {
   "cell_type": "code",
   "execution_count": 15,
   "metadata": {},
   "outputs": [
    {
     "data": {
      "text/plain": [
       "str"
      ]
     },
     "execution_count": 15,
     "metadata": {},
     "output_type": "execute_result"
    }
   ],
   "source": [
    "b.__class__"
   ]
  },
  {
   "cell_type": "code",
   "execution_count": 16,
   "metadata": {},
   "outputs": [
    {
     "data": {
      "text/plain": [
       "'\\xe4\\xb8\\xad\\xe6\\x96\\x87\\xe6\\x80\\x8e\\xe4\\xb9\\x88\\xe6\\x88\\x90\\xe5\\xad\\x97\\xe7\\xac\\xa6.jpg'"
      ]
     },
     "execution_count": 16,
     "metadata": {},
     "output_type": "execute_result"
    }
   ],
   "source": [
    "b.decode('utf-8').encode('utf-8')"
   ]
  },
  {
   "cell_type": "code",
   "execution_count": 17,
   "metadata": {},
   "outputs": [
    {
     "data": {
      "text/plain": [
       "'ascii'"
      ]
     },
     "execution_count": 17,
     "metadata": {},
     "output_type": "execute_result"
    }
   ],
   "source": [
    "import sys\n",
    "sys.getdefaultencoding() "
   ]
  },
  {
   "cell_type": "code",
   "execution_count": 18,
   "metadata": {},
   "outputs": [
    {
     "data": {
      "text/plain": [
       "'UTF-8'"
      ]
     },
     "execution_count": 18,
     "metadata": {},
     "output_type": "execute_result"
    }
   ],
   "source": [
    "sys.stdout.encoding"
   ]
  },
  {
   "cell_type": "code",
   "execution_count": 19,
   "metadata": {},
   "outputs": [
    {
     "name": "stdout",
     "output_type": "stream",
     "text": [
      "['.ipynb_checkpoints', '1.1.18.ipynb', '11.19.ipynb', '11.21.ipynb', '11.22.ipynb', '11.23.ipynb', '12.30.ipynb', 'Untitled.ipynb', 'char.ipynb', 'distribution_setuptools_git_pypi.ipynb', 'json2df_readme.ipynb', 'market-research-library.json', 'parse_readme.ipynb', 'readme_example.rst', 'sample.csv', 'test.rst', 'test.sh', 'testdata', 'text.txt', '\\xe4\\xb8\\xad\\xe6\\x96\\x87\\xe6\\x80\\x8e\\xe4\\xb9\\x88\\xe6\\x88\\x90\\xe5\\xad\\x97\\xe7\\xac\\xa6.jpg', '\\xe5\\x94\\x89\\xe5\\x94\\x89\\xe6\\x88\\x91\\xe5\\x8e\\xbb.txt']\n"
     ]
    }
   ],
   "source": [
    "print str(repr(a))"
   ]
  },
  {
   "cell_type": "code",
   "execution_count": 20,
   "metadata": {},
   "outputs": [
    {
     "data": {
      "text/plain": [
       "u'\\u4e2d\\u6587\\u600e\\u4e48\\u6210\\u5b57\\u7b26.jpg'"
      ]
     },
     "execution_count": 20,
     "metadata": {},
     "output_type": "execute_result"
    }
   ],
   "source": [
    "c=b.decode('utf-8')\n",
    "c"
   ]
  },
  {
   "cell_type": "code",
   "execution_count": 21,
   "metadata": {},
   "outputs": [
    {
     "name": "stdout",
     "output_type": "stream",
     "text": [
      "中文怎么成字符.jpg\n"
     ]
    }
   ],
   "source": [
    "print c"
   ]
  },
  {
   "cell_type": "code",
   "execution_count": 73,
   "metadata": {
    "collapsed": true
   },
   "outputs": [],
   "source": [
    "orig_stdout = sys.stdout\n",
    "fl = open('text.txt','w')\n",
    "sys.stdout = fl"
   ]
  },
  {
   "cell_type": "code",
   "execution_count": null,
   "metadata": {
    "collapsed": true
   },
   "outputs": [],
   "source": []
  },
  {
   "cell_type": "code",
   "execution_count": null,
   "metadata": {
    "collapsed": true
   },
   "outputs": [],
   "source": []
  },
  {
   "cell_type": "code",
   "execution_count": null,
   "metadata": {
    "collapsed": true
   },
   "outputs": [],
   "source": []
  },
  {
   "cell_type": "code",
   "execution_count": 76,
   "metadata": {},
   "outputs": [],
   "source": [
    "print a\n",
    "print b\n",
    "print b\n",
    "# print c\n",
    "sys.stdout = orig_stdout\n",
    "fl.close()"
   ]
  },
  {
   "cell_type": "code",
   "execution_count": 77,
   "metadata": {},
   "outputs": [
    {
     "name": "stdout",
     "output_type": "stream",
     "text": [
      "G:\\profiles_phos\\b/����1d.jpg\r\n",
      "['.ipynb_checkpoints', '1.1.18.ipynb', '11.19.ipynb', '11.21.ipynb', '11.22.ipynb', '11.23.ipynb', '12.30.ipynb', 'Untitled.ipynb', 'char.ipynb', 'distribution_setuptools_git_pypi.ipynb', 'json2df_readme.ipynb', 'market-research-library.json', 'parse_readme.ipynb', 'readme_example.rst', 'sample.csv', 'test.rst', 'test.sh', 'testdata', 'text.txt', '\\xe4\\xb8\\xad\\xe6\\x96\\x87\\xe6\\x80\\x8e\\xe4\\xb9\\x88\\xe6\\x88\\x90\\xe5\\xad\\x97\\xe7\\xac\\xa6.jpg', '\\xe5\\x94\\x89\\xe5\\x94\\x89\\xe6\\x88\\x91\\xe5\\x8e\\xbb.txt']\r\n",
      "中文怎么成字符.jpg\r\n",
      "中文怎么成字符.jpg\r\n"
     ]
    }
   ],
   "source": [
    "!cat text.txt"
   ]
  },
  {
   "cell_type": "code",
   "execution_count": 32,
   "metadata": {},
   "outputs": [
    {
     "ename": "UnicodeEncodeError",
     "evalue": "'ascii' codec can't encode characters in position 0-6: ordinal not in range(128)",
     "output_type": "error",
     "traceback": [
      "\u001b[0;31m\u001b[0m",
      "\u001b[0;31mUnicodeEncodeError\u001b[0mTraceback (most recent call last)",
      "\u001b[0;32m<ipython-input-32-8e698a6f794d>\u001b[0m in \u001b[0;36m<module>\u001b[0;34m()\u001b[0m\n\u001b[0;32m----> 1\u001b[0;31m \u001b[0;32mprint\u001b[0m \u001b[0mc\u001b[0m\u001b[0;34m\u001b[0m\u001b[0m\n\u001b[0m",
      "\u001b[0;31mUnicodeEncodeError\u001b[0m: 'ascii' codec can't encode characters in position 0-6: ordinal not in range(128)"
     ]
    }
   ],
   "source": [
    "print c"
   ]
  },
  {
   "cell_type": "code",
   "execution_count": 40,
   "metadata": {},
   "outputs": [
    {
     "name": "stdout",
     "output_type": "stream",
     "text": [
      "中文怎么成字符.jpg\n"
     ]
    }
   ],
   "source": [
    "print b"
   ]
  },
  {
   "cell_type": "code",
   "execution_count": 41,
   "metadata": {},
   "outputs": [
    {
     "name": "stdout",
     "output_type": "stream",
     "text": [
      "'\\xe4\\xb8\\xad\\xe6\\x96\\x87\\xe6\\x80\\x8e\\xe4\\xb9\\x88\\xe6\\x88\\x90\\xe5\\xad\\x97\\xe7\\xac\\xa6.jpg'\n"
     ]
    }
   ],
   "source": [
    "print repr(b)"
   ]
  },
  {
   "cell_type": "markdown",
   "metadata": {},
   "source": [
    "http://www.jb51.net/article/26543.htm"
   ]
  },
  {
   "cell_type": "code",
   "execution_count": 45,
   "metadata": {},
   "outputs": [
    {
     "name": "stdout",
     "output_type": "stream",
     "text": [
      "['.ipynb_checkpoints', '1.1.18.ipynb', '11.19.ipynb', '11.21.ipynb', '11.22.ipynb', '11.23.ipynb', '12.30.ipynb', 'Untitled.ipynb', 'char.ipynb', 'distribution_setuptools_git_pypi.ipynb', 'json2df_readme.ipynb', 'market-research-library.json', 'parse_readme.ipynb', 'readme_example.rst', 'sample.csv', 'test.rst', 'test.sh', 'testdata', 'text.txt', '\\xe4\\xb8\\xad\\xe6\\x96\\x87\\xe6\\x80\\x8e\\xe4\\xb9\\x88\\xe6\\x88\\x90\\xe5\\xad\\x97\\xe7\\xac\\xa6.jpg', '\\xe5\\x94\\x89\\xe5\\x94\\x89\\xe6\\x88\\x91\\xe5\\x8e\\xbb.txt']\n"
     ]
    }
   ],
   "source": [
    "print repr(a)"
   ]
  },
  {
   "cell_type": "code",
   "execution_count": 57,
   "metadata": {},
   "outputs": [
    {
     "name": "stdout",
     "output_type": "stream",
     "text": [
      "中文怎么成字符.jpg\n"
     ]
    }
   ],
   "source": [
    "print b.decode('utf-8')"
   ]
  },
  {
   "cell_type": "code",
   "execution_count": 63,
   "metadata": {},
   "outputs": [
    {
     "name": "stdout",
     "output_type": "stream",
     "text": [
      "中文怎么成字符.jpg\n"
     ]
    }
   ],
   "source": [
    "print b.decode('utf-8').encode('gbk').decode('gbk')"
   ]
  },
  {
   "cell_type": "code",
   "execution_count": 54,
   "metadata": {},
   "outputs": [
    {
     "name": "stdout",
     "output_type": "stream",
     "text": [
      "中文怎么成字符.jpg\n"
     ]
    }
   ],
   "source": [
    "print b"
   ]
  },
  {
   "cell_type": "code",
   "execution_count": 60,
   "metadata": {},
   "outputs": [
    {
     "data": {
      "text/plain": [
       "\"'\\\\xe4\\\\xb8\\\\xad\\\\xe6\\\\x96\\\\x87\\\\xe6\\\\x80\\\\x8e\\\\xe4\\\\xb9\\\\x88\\\\xe6\\\\x88\\\\x90\\\\xe5\\\\xad\\\\x97\\\\xe7\\\\xac\\\\xa6.jpg'\""
      ]
     },
     "execution_count": 60,
     "metadata": {},
     "output_type": "execute_result"
    }
   ],
   "source": [
    "repr(b).encode('utf-8')"
   ]
  },
  {
   "cell_type": "code",
   "execution_count": 26,
   "metadata": {},
   "outputs": [],
   "source": [
    "# with open('text.txt','w') as fh:\n",
    "#     sys.stdout = fh\n",
    "    \n",
    "\n",
    "    \n",
    "#     sys.stdout = orig_stdout\n",
    "    \n",
    "\n"
   ]
  },
  {
   "cell_type": "code",
   "execution_count": null,
   "metadata": {},
   "outputs": [],
   "source": []
  },
  {
   "cell_type": "code",
   "execution_count": null,
   "metadata": {
    "collapsed": true
   },
   "outputs": [],
   "source": []
  },
  {
   "cell_type": "code",
   "execution_count": 27,
   "metadata": {},
   "outputs": [],
   "source": [
    "with open('text.txt','w') as fh:\n",
    "    fh.write(str(a))\n",
    "    fh.write(b)\n",
    "#     fh.write(c)"
   ]
  },
  {
   "cell_type": "code",
   "execution_count": 74,
   "metadata": {},
   "outputs": [],
   "source": [
    "print 'G:\\\\profiles_phos\\\\b/\\xb6\\xab\\xb7\\xbd1d.jpg'"
   ]
  },
  {
   "cell_type": "code",
   "execution_count": 75,
   "metadata": {},
   "outputs": [
    {
     "ename": "UnicodeEncodeError",
     "evalue": "'ascii' codec can't encode characters in position 19-20: ordinal not in range(128)",
     "output_type": "error",
     "traceback": [
      "\u001b[0;31m\u001b[0m",
      "\u001b[0;31mUnicodeEncodeError\u001b[0mTraceback (most recent call last)",
      "\u001b[0;32m<ipython-input-75-eeaf1dfb4555>\u001b[0m in \u001b[0;36m<module>\u001b[0;34m()\u001b[0m\n\u001b[0;32m----> 1\u001b[0;31m \u001b[0;32mprint\u001b[0m \u001b[0;34m'G:\\\\profiles_phos\\\\b/\\xb6\\xab\\xb7\\xbd1d.jpg'\u001b[0m\u001b[0;34m.\u001b[0m\u001b[0mdecode\u001b[0m\u001b[0;34m(\u001b[0m\u001b[0;34m'gbk'\u001b[0m\u001b[0;34m)\u001b[0m\u001b[0;34m\u001b[0m\u001b[0m\n\u001b[0m",
      "\u001b[0;31mUnicodeEncodeError\u001b[0m: 'ascii' codec can't encode characters in position 19-20: ordinal not in range(128)"
     ]
    }
   ],
   "source": [
    "print 'G:\\\\profiles_phos\\\\b/\\xb6\\xab\\xb7\\xbd1d.jpg'.decode('gbk')"
   ]
  },
  {
   "cell_type": "code",
   "execution_count": 72,
   "metadata": {},
   "outputs": [
    {
     "data": {
      "text/plain": [
       "'G:\\\\profiles_phos\\\\b/\\xe4\\xb8\\x9c\\xe6\\x96\\xb91d.jpg'"
      ]
     },
     "execution_count": 72,
     "metadata": {},
     "output_type": "execute_result"
    }
   ],
   "source": [
    "'G:\\\\profiles_phos\\\\b/\\xb6\\xab\\xb7\\xbd1d.jpg'.decode('gbk').encode('utf-8')"
   ]
  },
  {
   "cell_type": "code",
   "execution_count": null,
   "metadata": {
    "collapsed": true
   },
   "outputs": [],
   "source": []
  },
  {
   "cell_type": "code",
   "execution_count": null,
   "metadata": {
    "collapsed": true
   },
   "outputs": [],
   "source": []
  },
  {
   "cell_type": "code",
   "execution_count": null,
   "metadata": {
    "collapsed": true
   },
   "outputs": [],
   "source": []
  },
  {
   "cell_type": "code",
   "execution_count": 68,
   "metadata": {},
   "outputs": [
    {
     "name": "stdout",
     "output_type": "stream",
     "text": [
      "G:\\profiles_phos\\b/(5).jpg\n"
     ]
    }
   ],
   "source": [
    "print 'G:\\\\profiles_phos\\\\b/(5).jpg'.decode('gbk')"
   ]
  },
  {
   "cell_type": "markdown",
   "metadata": {},
   "source": [
    "https://myphotopack.com/"
   ]
  },
  {
   "cell_type": "code",
   "execution_count": null,
   "metadata": {
    "collapsed": true
   },
   "outputs": [],
   "source": []
  }
 ],
 "metadata": {
  "kernelspec": {
   "display_name": "Python 2",
   "language": "python",
   "name": "python2"
  },
  "language_info": {
   "codemirror_mode": {
    "name": "ipython",
    "version": 2
   },
   "file_extension": ".py",
   "mimetype": "text/x-python",
   "name": "python",
   "nbconvert_exporter": "python",
   "pygments_lexer": "ipython2",
   "version": "2.7.13"
  }
 },
 "nbformat": 4,
 "nbformat_minor": 2
}
