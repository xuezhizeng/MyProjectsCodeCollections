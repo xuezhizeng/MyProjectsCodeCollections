{
 "cells": [
  {
   "cell_type": "code",
   "execution_count": 1,
   "metadata": {
    "collapsed": true
   },
   "outputs": [],
   "source": [
    "import pandas as pd\n",
    "import os"
   ]
  },
  {
   "cell_type": "code",
   "execution_count": 2,
   "metadata": {},
   "outputs": [
    {
     "data": {
      "text/plain": [
       "147226"
      ]
     },
     "execution_count": 2,
     "metadata": {},
     "output_type": "execute_result"
    }
   ],
   "source": [
    "files = os.listdir('./15W_htmls_diary/')\n",
    "len(files)"
   ]
  },
  {
   "cell_type": "code",
   "execution_count": 3,
   "metadata": {},
   "outputs": [
    {
     "data": {
      "text/plain": [
       "(232613, 21)"
      ]
     },
     "execution_count": 3,
     "metadata": {},
     "output_type": "execute_result"
    }
   ],
   "source": [
    "df = pd.read_csv('./diary_post.csv')\n",
    "df.shape"
   ]
  },
  {
   "cell_type": "code",
   "execution_count": 4,
   "metadata": {},
   "outputs": [
    {
     "data": {
      "text/html": [
       "<div>\n",
       "<style scoped>\n",
       "    .dataframe tbody tr th:only-of-type {\n",
       "        vertical-align: middle;\n",
       "    }\n",
       "\n",
       "    .dataframe tbody tr th {\n",
       "        vertical-align: top;\n",
       "    }\n",
       "\n",
       "    .dataframe thead th {\n",
       "        text-align: right;\n",
       "    }\n",
       "</style>\n",
       "<table border=\"1\" class=\"dataframe\">\n",
       "  <thead>\n",
       "    <tr style=\"text-align: right;\">\n",
       "      <th></th>\n",
       "      <th>type</th>\n",
       "      <th>diary_id</th>\n",
       "      <th>product_id</th>\n",
       "      <th>post_id</th>\n",
       "      <th>time</th>\n",
       "      <th>title</th>\n",
       "      <th>comments</th>\n",
       "      <th>favor</th>\n",
       "      <th>views</th>\n",
       "      <th>text</th>\n",
       "      <th>...</th>\n",
       "      <th>image_2</th>\n",
       "      <th>image_3</th>\n",
       "      <th>image_4</th>\n",
       "      <th>image_5</th>\n",
       "      <th>image_6</th>\n",
       "      <th>image_7</th>\n",
       "      <th>image_8</th>\n",
       "      <th>image_9</th>\n",
       "      <th>video_image</th>\n",
       "      <th>video_link</th>\n",
       "    </tr>\n",
       "  </thead>\n",
       "  <tbody>\n",
       "    <tr>\n",
       "      <th>0</th>\n",
       "      <td>image_post</td>\n",
       "      <td>7158089</td>\n",
       "      <td>cp130361</td>\n",
       "      <td>p15679403</td>\n",
       "      <td>2017-11-24 12:56:55</td>\n",
       "      <td>术后第0天</td>\n",
       "      <td>1</td>\n",
       "      <td>4</td>\n",
       "      <td>222</td>\n",
       "      <td>【杏仁酸焕肤第0天】医院里环境很好，工作人员姐姐接待也炒鸡喜欢热情先是在医生那面诊仪器分析面...</td>\n",
       "      <td>...</td>\n",
       "      <td>http://img2.soyoung.com/tieba/ios/20171124/0/2...</td>\n",
       "      <td>http://img2.soyoung.com/tieba/ios/20171124/3/2...</td>\n",
       "      <td>NaN</td>\n",
       "      <td>NaN</td>\n",
       "      <td>NaN</td>\n",
       "      <td>NaN</td>\n",
       "      <td>NaN</td>\n",
       "      <td>NaN</td>\n",
       "      <td>NaN</td>\n",
       "      <td>NaN</td>\n",
       "    </tr>\n",
       "  </tbody>\n",
       "</table>\n",
       "<p>1 rows × 21 columns</p>\n",
       "</div>"
      ],
      "text/plain": [
       "         type  diary_id product_id    post_id                 time  title  \\\n",
       "0  image_post   7158089   cp130361  p15679403  2017-11-24 12:56:55  术后第0天   \n",
       "\n",
       "   comments  favor  views                                               text  \\\n",
       "0         1      4    222  【杏仁酸焕肤第0天】医院里环境很好，工作人员姐姐接待也炒鸡喜欢热情先是在医生那面诊仪器分析面...   \n",
       "\n",
       "     ...                                                image_2  \\\n",
       "0    ...      http://img2.soyoung.com/tieba/ios/20171124/0/2...   \n",
       "\n",
       "                                             image_3 image_4 image_5 image_6  \\\n",
       "0  http://img2.soyoung.com/tieba/ios/20171124/3/2...     NaN     NaN     NaN   \n",
       "\n",
       "  image_7 image_8 image_9 video_image video_link  \n",
       "0     NaN     NaN     NaN         NaN        NaN  \n",
       "\n",
       "[1 rows x 21 columns]"
      ]
     },
     "execution_count": 4,
     "metadata": {},
     "output_type": "execute_result"
    }
   ],
   "source": [
    "df.head(1)"
   ]
  },
  {
   "cell_type": "code",
   "execution_count": 5,
   "metadata": {},
   "outputs": [
    {
     "data": {
      "text/plain": [
       "145771"
      ]
     },
     "execution_count": 5,
     "metadata": {},
     "output_type": "execute_result"
    }
   ],
   "source": [
    "len(df['diary_id'].unique())"
   ]
  },
  {
   "cell_type": "code",
   "execution_count": 6,
   "metadata": {},
   "outputs": [
    {
     "name": "stderr",
     "output_type": "stream",
     "text": [
      "/home/shj16110/anaconda2/envs/new2/lib/python2.7/site-packages/IPython/core/interactiveshell.py:2718: DtypeWarning: Columns (20) have mixed types. Specify dtype option on import or set low_memory=False.\n",
      "  interactivity=interactivity, compiler=compiler, result=result)\n"
     ]
    },
    {
     "data": {
      "text/html": [
       "<div>\n",
       "<style scoped>\n",
       "    .dataframe tbody tr th:only-of-type {\n",
       "        vertical-align: middle;\n",
       "    }\n",
       "\n",
       "    .dataframe tbody tr th {\n",
       "        vertical-align: top;\n",
       "    }\n",
       "\n",
       "    .dataframe thead th {\n",
       "        text-align: right;\n",
       "    }\n",
       "</style>\n",
       "<table border=\"1\" class=\"dataframe\">\n",
       "  <thead>\n",
       "    <tr style=\"text-align: right;\">\n",
       "      <th></th>\n",
       "      <th>group_id</th>\n",
       "      <th>uid</th>\n",
       "      <th>user_name</th>\n",
       "      <th>top.summary</th>\n",
       "      <th>avatar.h</th>\n",
       "      <th>avatar.ident</th>\n",
       "      <th>avatar.u</th>\n",
       "      <th>avatar.w</th>\n",
       "      <th>avatar.zoom</th>\n",
       "      <th>certified_id</th>\n",
       "      <th>...</th>\n",
       "      <th>top.img.w</th>\n",
       "      <th>top.post_cnt</th>\n",
       "      <th>top.post_id</th>\n",
       "      <th>top.post_video_img</th>\n",
       "      <th>top.post_video_url</th>\n",
       "      <th>top.post_video_yn</th>\n",
       "      <th>top.record_post_img</th>\n",
       "      <th>top.str_day_num</th>\n",
       "      <th>top.videoDuration</th>\n",
       "      <th>user_level</th>\n",
       "    </tr>\n",
       "  </thead>\n",
       "  <tbody>\n",
       "    <tr>\n",
       "      <th>0</th>\n",
       "      <td>5819831</td>\n",
       "      <td>13743032.0</td>\n",
       "      <td>邸备瑾凉</td>\n",
       "      <td>手术做完医生帮我拍了照片，当时已经很美了，术后看到照片的时候，我差点哭出来，太赞了</td>\n",
       "      <td>57.0</td>\n",
       "      <td>lnimage</td>\n",
       "      <td>http://img2.soyoung.com/user/20170601/2/201706...</td>\n",
       "      <td>57.0</td>\n",
       "      <td>89%</td>\n",
       "      <td>0.0</td>\n",
       "      <td>...</td>\n",
       "      <td>906</td>\n",
       "      <td>1</td>\n",
       "      <td>12963605</td>\n",
       "      <td>NaN</td>\n",
       "      <td>NaN</td>\n",
       "      <td>0</td>\n",
       "      <td>http://img2.soyoung.com/tieba/web/20170610/0/2...</td>\n",
       "      <td>第99天</td>\n",
       "      <td>NaN</td>\n",
       "      <td>3.0</td>\n",
       "    </tr>\n",
       "  </tbody>\n",
       "</table>\n",
       "<p>1 rows × 77 columns</p>\n",
       "</div>"
      ],
      "text/plain": [
       "   group_id         uid user_name                                top.summary  \\\n",
       "0   5819831  13743032.0      邸备瑾凉  手术做完医生帮我拍了照片，当时已经很美了，术后看到照片的时候，我差点哭出来，太赞了   \n",
       "\n",
       "   avatar.h avatar.ident                                           avatar.u  \\\n",
       "0      57.0      lnimage  http://img2.soyoung.com/user/20170601/2/201706...   \n",
       "\n",
       "   avatar.w avatar.zoom  certified_id    ...      top.img.w top.post_cnt  \\\n",
       "0      57.0         89%           0.0    ...            906            1   \n",
       "\n",
       "  top.post_id  top.post_video_img top.post_video_url  top.post_video_yn  \\\n",
       "0    12963605                 NaN                NaN                  0   \n",
       "\n",
       "                                 top.record_post_img top.str_day_num  \\\n",
       "0  http://img2.soyoung.com/tieba/web/20170610/0/2...            第99天   \n",
       "\n",
       "   top.videoDuration user_level  \n",
       "0                NaN        3.0  \n",
       "\n",
       "[1 rows x 77 columns]"
      ]
     },
     "execution_count": 6,
     "metadata": {},
     "output_type": "execute_result"
    }
   ],
   "source": [
    "pd.read_csv('diary_all.csv').head(1)"
   ]
  },
  {
   "cell_type": "code",
   "execution_count": 7,
   "metadata": {},
   "outputs": [
    {
     "data": {
      "text/html": [
       "<div>\n",
       "<style scoped>\n",
       "    .dataframe tbody tr th:only-of-type {\n",
       "        vertical-align: middle;\n",
       "    }\n",
       "\n",
       "    .dataframe tbody tr th {\n",
       "        vertical-align: top;\n",
       "    }\n",
       "\n",
       "    .dataframe thead th {\n",
       "        text-align: right;\n",
       "    }\n",
       "</style>\n",
       "<table border=\"1\" class=\"dataframe\">\n",
       "  <thead>\n",
       "    <tr style=\"text-align: right;\">\n",
       "      <th></th>\n",
       "      <th>diary_id</th>\n",
       "      <th>time</th>\n",
       "    </tr>\n",
       "  </thead>\n",
       "  <tbody>\n",
       "    <tr>\n",
       "      <th>0</th>\n",
       "      <td>7158089</td>\n",
       "      <td>2017-11-24 12:56:55</td>\n",
       "    </tr>\n",
       "    <tr>\n",
       "      <th>1</th>\n",
       "      <td>6173083</td>\n",
       "      <td>2017-12-17 23:00:21</td>\n",
       "    </tr>\n",
       "    <tr>\n",
       "      <th>2</th>\n",
       "      <td>6173083</td>\n",
       "      <td>2017-12-03 00:08:17</td>\n",
       "    </tr>\n",
       "    <tr>\n",
       "      <th>3</th>\n",
       "      <td>4728665</td>\n",
       "      <td>2017-01-19 15:32:40</td>\n",
       "    </tr>\n",
       "    <tr>\n",
       "      <th>4</th>\n",
       "      <td>4728665</td>\n",
       "      <td>2017-01-18 21:46:28</td>\n",
       "    </tr>\n",
       "  </tbody>\n",
       "</table>\n",
       "</div>"
      ],
      "text/plain": [
       "   diary_id                 time\n",
       "0   7158089  2017-11-24 12:56:55\n",
       "1   6173083  2017-12-17 23:00:21\n",
       "2   6173083  2017-12-03 00:08:17\n",
       "3   4728665  2017-01-19 15:32:40\n",
       "4   4728665  2017-01-18 21:46:28"
      ]
     },
     "execution_count": 7,
     "metadata": {},
     "output_type": "execute_result"
    }
   ],
   "source": [
    "df1 = df[['diary_id','time']]\n",
    "df1.head()"
   ]
  },
  {
   "cell_type": "code",
   "execution_count": 8,
   "metadata": {
    "collapsed": true
   },
   "outputs": [],
   "source": [
    "from time import strftime, strptime, mktime, time, ctime\n"
   ]
  },
  {
   "cell_type": "code",
   "execution_count": 9,
   "metadata": {},
   "outputs": [
    {
     "data": {
      "text/plain": [
       "'2017-11-24 12:56:55'"
      ]
     },
     "execution_count": 9,
     "metadata": {},
     "output_type": "execute_result"
    }
   ],
   "source": [
    "a = df1.head()['time'][0]\n",
    "a"
   ]
  },
  {
   "cell_type": "code",
   "execution_count": 16,
   "metadata": {},
   "outputs": [],
   "source": [
    "from dsutils import strtimeconv"
   ]
  },
  {
   "cell_type": "code",
   "execution_count": 17,
   "metadata": {},
   "outputs": [
    {
     "data": {
      "text/plain": [
       "'2017_11'"
      ]
     },
     "execution_count": 17,
     "metadata": {},
     "output_type": "execute_result"
    }
   ],
   "source": [
    "strtimeconv(a, \"%Y-%m-%d %H:%M:%S\", '%Y_%m' )"
   ]
  },
  {
   "cell_type": "code",
   "execution_count": 22,
   "metadata": {},
   "outputs": [
    {
     "name": "stdout",
     "output_type": "stream",
     "text": [
      "CPU times: user 2.66 s, sys: 0 ns, total: 2.66 s\n",
      "Wall time: 2.66 s\n"
     ]
    },
    {
     "name": "stderr",
     "output_type": "stream",
     "text": [
      "/home/shj16110/anaconda2/envs/new2/lib/python2.7/site-packages/ipykernel_launcher.py:1: SettingWithCopyWarning: \n",
      "A value is trying to be set on a copy of a slice from a DataFrame.\n",
      "Try using .loc[row_indexer,col_indexer] = value instead\n",
      "\n",
      "See the caveats in the documentation: http://pandas.pydata.org/pandas-docs/stable/indexing.html#indexing-view-versus-copy\n",
      "  \"\"\"Entry point for launching an IPython kernel.\n"
     ]
    }
   ],
   "source": [
    "%%time\n",
    "df1['month'] = df1['time'].apply(strtimeconv, args=(\"%Y-%m-%d %H:%M:%S\", \"%Y_%m\"))"
   ]
  },
  {
   "cell_type": "code",
   "execution_count": 42,
   "metadata": {},
   "outputs": [
    {
     "data": {
      "text/plain": [
       "10142"
      ]
     },
     "execution_count": 42,
     "metadata": {},
     "output_type": "execute_result"
    }
   ],
   "source": [
    "len(df1[df1['month']=='2017_07']['diary_id'].unique())"
   ]
  },
  {
   "cell_type": "code",
   "execution_count": 50,
   "metadata": {},
   "outputs": [
    {
     "data": {
      "text/plain": [
       "(10142, 1)"
      ]
     },
     "execution_count": 50,
     "metadata": {},
     "output_type": "execute_result"
    }
   ],
   "source": [
    "d17_7=pd.DataFrame(df1[df1['month']=='2017_07']['diary_id'].unique(), columns=['group_id'])\n",
    "d17_7.shape"
   ]
  },
  {
   "cell_type": "code",
   "execution_count": 53,
   "metadata": {},
   "outputs": [
    {
     "data": {
      "text/html": [
       "<div>\n",
       "<style scoped>\n",
       "    .dataframe tbody tr th:only-of-type {\n",
       "        vertical-align: middle;\n",
       "    }\n",
       "\n",
       "    .dataframe tbody tr th {\n",
       "        vertical-align: top;\n",
       "    }\n",
       "\n",
       "    .dataframe thead th {\n",
       "        text-align: right;\n",
       "    }\n",
       "</style>\n",
       "<table border=\"1\" class=\"dataframe\">\n",
       "  <thead>\n",
       "    <tr style=\"text-align: right;\">\n",
       "      <th></th>\n",
       "      <th>group_id</th>\n",
       "    </tr>\n",
       "  </thead>\n",
       "  <tbody>\n",
       "    <tr>\n",
       "      <th>10137</th>\n",
       "      <td>6074783</td>\n",
       "    </tr>\n",
       "    <tr>\n",
       "      <th>10138</th>\n",
       "      <td>6030685</td>\n",
       "    </tr>\n",
       "    <tr>\n",
       "      <th>10139</th>\n",
       "      <td>6085159</td>\n",
       "    </tr>\n",
       "    <tr>\n",
       "      <th>10140</th>\n",
       "      <td>5693063</td>\n",
       "    </tr>\n",
       "    <tr>\n",
       "      <th>10141</th>\n",
       "      <td>5334263</td>\n",
       "    </tr>\n",
       "  </tbody>\n",
       "</table>\n",
       "</div>"
      ],
      "text/plain": [
       "       group_id\n",
       "10137   6074783\n",
       "10138   6030685\n",
       "10139   6085159\n",
       "10140   5693063\n",
       "10141   5334263"
      ]
     },
     "execution_count": 53,
     "metadata": {},
     "output_type": "execute_result"
    }
   ],
   "source": [
    "d17_7.tail()"
   ]
  },
  {
   "cell_type": "code",
   "execution_count": 54,
   "metadata": {
    "collapsed": true
   },
   "outputs": [],
   "source": [
    "d17_7.to_csv('did17_7.csv', index=False)"
   ]
  },
  {
   "cell_type": "code",
   "execution_count": null,
   "metadata": {
    "collapsed": true
   },
   "outputs": [],
   "source": []
  }
 ],
 "metadata": {
  "kernelspec": {
   "display_name": "new2",
   "language": "python",
   "name": "new2"
  },
  "language_info": {
   "codemirror_mode": {
    "name": "ipython",
    "version": 2
   },
   "file_extension": ".py",
   "mimetype": "text/x-python",
   "name": "python",
   "nbconvert_exporter": "python",
   "pygments_lexer": "ipython2",
   "version": "2.7.14"
  }
 },
 "nbformat": 4,
 "nbformat_minor": 2
}
