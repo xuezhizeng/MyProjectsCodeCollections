{
 "cells": [
  {
   "cell_type": "markdown",
   "metadata": {},
   "source": [
    "https://help.rc.ufl.edu/doc/Remote_Jupyter_Notebook"
   ]
  },
  {
   "cell_type": "code",
   "execution_count": 1,
   "metadata": {
    "collapsed": true
   },
   "outputs": [],
   "source": [
    "from time import ctime"
   ]
  },
  {
   "cell_type": "markdown",
   "metadata": {},
   "source": [
    "http://www.albertauyeung.com/post/setup-jupyter-nginx-supervisor/"
   ]
  },
  {
   "cell_type": "code",
   "execution_count": 2,
   "metadata": {},
   "outputs": [
    {
     "data": {
      "text/plain": [
       "'Sat Nov 11 12:11:36 2017'"
      ]
     },
     "execution_count": 2,
     "metadata": {},
     "output_type": "execute_result"
    }
   ],
   "source": [
    "ctime()"
   ]
  },
  {
   "cell_type": "code",
   "execution_count": 3,
   "metadata": {},
   "outputs": [
    {
     "name": "stdout",
     "output_type": "stream",
     "text": [
      "connecting success!\n"
     ]
    }
   ],
   "source": [
    "print 'connecting success!'"
   ]
  },
  {
   "cell_type": "code",
   "execution_count": 4,
   "metadata": {},
   "outputs": [
    {
     "name": "stdout",
     "output_type": "stream",
     "text": [
      "/home/shj16110/notebook\r\n"
     ]
    }
   ],
   "source": [
    "!pwd"
   ]
  },
  {
   "cell_type": "code",
   "execution_count": 5,
   "metadata": {},
   "outputs": [
    {
     "name": "stdout",
     "output_type": "stream",
     "text": [
      "             total       used       free     shared    buffers     cached\r\n",
      "Mem:          125G        14G       111G       1.2M       165M       1.2G\r\n",
      "-/+ buffers/cache:        13G       112G \r\n",
      "Swap:         4.0G        57M       3.9G \r\n"
     ]
    }
   ],
   "source": [
    "!free -h"
   ]
  },
  {
   "cell_type": "code",
   "execution_count": 6,
   "metadata": {},
   "outputs": [
    {
     "name": "stdout",
     "output_type": "stream",
     "text": [
      "Linux cn156 2.6.32-573.7.1.el6.x86_64 #1 SMP Thu Sep 10 13:42:16 EDT 2015 x86_64 x86_64 x86_64 GNU/Linux\r\n"
     ]
    }
   ],
   "source": [
    "!uname -a"
   ]
  },
  {
   "cell_type": "code",
   "execution_count": 7,
   "metadata": {},
   "outputs": [
    {
     "name": "stdout",
     "output_type": "stream",
     "text": [
      "vendor_id\t: GenuineIntel\r\n"
     ]
    }
   ],
   "source": [
    "!cat /proc/cpuinfo | grep vendor | uniq"
   ]
  },
  {
   "cell_type": "code",
   "execution_count": 8,
   "metadata": {},
   "outputs": [
    {
     "name": "stdout",
     "output_type": "stream",
     "text": [
      "model name\t: Intel(R) Xeon(R) CPU E5-2690 v3 @ 2.60GHz\r\n"
     ]
    }
   ],
   "source": [
    "!cat /proc/cpuinfo | grep 'model name' | uniq"
   ]
  },
  {
   "cell_type": "code",
   "execution_count": 9,
   "metadata": {},
   "outputs": [
    {
     "name": "stdout",
     "output_type": "stream",
     "text": [
      "Architecture:          x86_64\r\n",
      "CPU op-mode(s):        32-bit, 64-bit\r\n",
      "Byte Order:            Little Endian\r\n",
      "CPU(s):                24\r\n",
      "On-line CPU(s) list:   0-23\r\n",
      "Thread(s) per core:    1\r\n",
      "Core(s) per socket:    12\r\n",
      "Socket(s):             2\r\n",
      "NUMA node(s):          2\r\n",
      "Vendor ID:             GenuineIntel\r\n",
      "CPU family:            6\r\n",
      "Model:                 63\r\n",
      "Stepping:              2\r\n",
      "CPU MHz:               2594.126\r\n",
      "BogoMIPS:              5187.60\r\n",
      "Virtualization:        VT-x\r\n",
      "L1d cache:             32K\r\n",
      "L1i cache:             32K\r\n",
      "L2 cache:              256K\r\n",
      "L3 cache:              30720K\r\n",
      "NUMA node0 CPU(s):     0,2,4,6,8,10,12,14,16,18,20,22\r\n",
      "NUMA node1 CPU(s):     1,3,5,7,9,11,13,15,17,19,21,23\r\n"
     ]
    }
   ],
   "source": [
    "!lscpu"
   ]
  },
  {
   "cell_type": "code",
   "execution_count": 10,
   "metadata": {},
   "outputs": [
    {
     "name": "stdout",
     "output_type": "stream",
     "text": [
      "NAME                        MAJ:MIN RM   SIZE RO TYPE MOUNTPOINT\r\n",
      "sda                           8:0    0 186.3G  0 disk \r\n",
      "├─sda1                        8:1    0   500M  0 part /boot\r\n",
      "└─sda2                        8:2    0 185.8G  0 part \r\n",
      "  ├─vg_cn156-lv_root (dm-0) 253:0    0 181.8G  0 lvm  /\r\n",
      "  └─vg_cn156-lv_swap (dm-1) 253:1    0     4G  0 lvm  [SWAP]\r\n"
     ]
    }
   ],
   "source": [
    "!lsblk"
   ]
  },
  {
   "cell_type": "code",
   "execution_count": 11,
   "metadata": {},
   "outputs": [
    {
     "name": "stdout",
     "output_type": "stream",
     "text": [
      "df: `/gpfs/gpfs2': Stale file handle\r\n",
      "Filesystem            Size  Used Avail Use% Mounted on\r\n",
      "/dev/mapper/vg_cn156-lv_root\r\n",
      "                      179G  4.1G  166G   3% /\r\n",
      "tmpfs                  63G  256K   63G   1% /dev/shm\r\n",
      "/dev/sda1             477M   70M  382M  16% /boot\r\n",
      "scratchfs1            930T  795T  136T  86% /gpfs/scratchfs1\r\n",
      "gpfs1                  55T   51T  3.9T  93% /gpfs/gpfs1\r\n"
     ]
    }
   ],
   "source": [
    "!df -h"
   ]
  },
  {
   "cell_type": "code",
   "execution_count": 12,
   "metadata": {},
   "outputs": [
    {
     "name": "stdout",
     "output_type": "stream",
     "text": [
      "Bus 001 Device 001: ID 1d6b:0002 Linux Foundation 2.0 root hub\r\n",
      "Bus 002 Device 001: ID 1d6b:0002 Linux Foundation 2.0 root hub\r\n",
      "Bus 001 Device 002: ID 8087:800a Intel Corp. \r\n",
      "Bus 002 Device 002: ID 8087:8002 Intel Corp. \r\n",
      "Bus 001 Device 003: ID 413c:a001 Dell Computer Corp. Hub\r\n",
      "Bus 002 Device 003: ID 0624:de11 Avocent Corp. \r\n"
     ]
    }
   ],
   "source": [
    "!lsusb"
   ]
  },
  {
   "cell_type": "code",
   "execution_count": 14,
   "metadata": {
    "collapsed": true
   },
   "outputs": [],
   "source": [
    "# !lspci"
   ]
  },
  {
   "cell_type": "code",
   "execution_count": 15,
   "metadata": {},
   "outputs": [
    {
     "name": "stdout",
     "output_type": "stream",
     "text": [
      "em1       Link encap:Ethernet  HWaddr D0:43:1E:DA:D8:48  \r\n",
      "          inet addr:192.168.100.156  Bcast:192.168.255.255  Mask:255.255.0.0\r\n",
      "          inet6 addr: fe80::d243:1eff:feda:d848/64 Scope:Link\r\n",
      "          UP BROADCAST RUNNING MULTICAST  MTU:1500  Metric:1\r\n",
      "          RX packets:2308513340 errors:0 dropped:0 overruns:0 frame:0\r\n",
      "          TX packets:3017472576 errors:0 dropped:0 overruns:0 carrier:0\r\n",
      "          collisions:0 txqueuelen:1000 \r\n",
      "          RX bytes:641218605558 (597.1 GiB)  TX bytes:767530527232 (714.8 GiB)\r\n",
      "\r\n",
      "Ifconfig uses the ioctl access method to get the full address information, which limits hardware addresses to 8 bytes.\r\n",
      "Because Infiniband address has 20 bytes, only the first 8 bytes are displayed correctly.\r\n",
      "Ifconfig is obsolete! For replacement check ip.\r\n",
      "ib0       Link encap:InfiniBand  HWaddr A0:00:02:20:FE:80:00:00:00:00:00:00:00:00:00:00:00:00:00:00  \r\n",
      "          inet addr:172.16.100.156  Bcast:172.16.100.255  Mask:255.255.254.0\r\n",
      "          inet6 addr: fe80::e61d:2d03:2a:3061/64 Scope:Link\r\n",
      "          UP BROADCAST RUNNING MULTICAST  MTU:65520  Metric:1\r\n",
      "          RX packets:2999287686 errors:0 dropped:0 overruns:0 frame:0\r\n",
      "          TX packets:1792747443 errors:0 dropped:0 overruns:0 carrier:0\r\n",
      "          collisions:0 txqueuelen:1024 \r\n",
      "          RX bytes:310273109889 (288.9 GiB)  TX bytes:1019561994943 (949.5 GiB)\r\n",
      "\r\n",
      "lo        Link encap:Local Loopback  \r\n",
      "          inet addr:127.0.0.1  Mask:255.0.0.0\r\n",
      "          inet6 addr: ::1/128 Scope:Host\r\n",
      "          UP LOOPBACK RUNNING  MTU:65536  Metric:1\r\n",
      "          RX packets:372523357 errors:0 dropped:0 overruns:0 frame:0\r\n",
      "          TX packets:372523357 errors:0 dropped:0 overruns:0 carrier:0\r\n",
      "          collisions:0 txqueuelen:0 \r\n",
      "          RX bytes:429965525850 (400.4 GiB)  TX bytes:429965525850 (400.4 GiB)\r\n",
      "\r\n"
     ]
    }
   ],
   "source": [
    "!ifconfig"
   ]
  },
  {
   "cell_type": "code",
   "execution_count": null,
   "metadata": {
    "collapsed": true
   },
   "outputs": [],
   "source": []
  },
  {
   "cell_type": "code",
   "execution_count": 16,
   "metadata": {},
   "outputs": [
    {
     "name": "stdout",
     "output_type": "stream",
     "text": [
      "/home/shj16110/anaconda2/bin/python\r\n"
     ]
    }
   ],
   "source": [
    "!which python"
   ]
  },
  {
   "cell_type": "code",
   "execution_count": null,
   "metadata": {
    "collapsed": true
   },
   "outputs": [],
   "source": [
    "# !conda install numpy pyyaml mkl setuptools cmake cffi"
   ]
  },
  {
   "cell_type": "code",
   "execution_count": 1,
   "metadata": {},
   "outputs": [
    {
     "name": "stdout",
     "output_type": "stream",
     "text": [
      "/bin/sh: nvcc: command not found\r\n"
     ]
    }
   ],
   "source": [
    "!nvcc --version\n"
   ]
  },
  {
   "cell_type": "code",
   "execution_count": 2,
   "metadata": {},
   "outputs": [
    {
     "name": "stdout",
     "output_type": "stream",
     "text": [
      "cat: /usr/local/cuda/version.txt: No such file or directory\r\n"
     ]
    }
   ],
   "source": [
    "! cat /usr/local/cuda/version.txt"
   ]
  },
  {
   "cell_type": "code",
   "execution_count": 3,
   "metadata": {},
   "outputs": [
    {
     "name": "stdout",
     "output_type": "stream",
     "text": [
      "09:00.0 VGA compatible controller [0300]: Matrox Electronics Systems Ltd. G200eR2 [102b:0534] (rev 01) (prog-if 00 [VGA controller])\r\n",
      "\tSubsystem: Dell Device [1028:060e]\r\n",
      "\tFlags: bus master, medium devsel, latency 0, IRQ 15\r\n",
      "\tMemory at 93000000 (32-bit, prefetchable) [size=16M]\r\n",
      "\tMemory at 95000000 (32-bit, non-prefetchable) [size=16K]\r\n",
      "\tMemory at 94800000 (32-bit, non-prefetchable) [size=8M]\r\n",
      "\tExpansion ROM at <unassigned> [disabled]\r\n",
      "\tCapabilities: <access denied>\r\n",
      "\r\n",
      "7f:08.0 System peripheral [0880]: Intel Corporation Xeon E7 v3/Xeon E5 v3/Core i7 QPI Link 0 [8086:2f80] (rev 02)\r\n",
      "\tSubsystem: Intel Corporation Xeon E7 v3/Xeon E5 v3/Core i7 QPI Link 0 [8086:2f80]\r\n",
      "\tFlags: fast devsel\r\n",
      "\r\n"
     ]
    }
   ],
   "source": [
    "!lspci -vnn | grep VGA -A 12\n"
   ]
  },
  {
   "cell_type": "code",
   "execution_count": null,
   "metadata": {
    "collapsed": true
   },
   "outputs": [],
   "source": []
  }
 ],
 "metadata": {
  "kernelspec": {
   "display_name": "Python 2",
   "language": "python",
   "name": "python2"
  },
  "language_info": {
   "codemirror_mode": {
    "name": "ipython",
    "version": 2
   },
   "file_extension": ".py",
   "mimetype": "text/x-python",
   "name": "python",
   "nbconvert_exporter": "python",
   "pygments_lexer": "ipython2",
   "version": "2.7.13"
  }
 },
 "nbformat": 4,
 "nbformat_minor": 2
}
