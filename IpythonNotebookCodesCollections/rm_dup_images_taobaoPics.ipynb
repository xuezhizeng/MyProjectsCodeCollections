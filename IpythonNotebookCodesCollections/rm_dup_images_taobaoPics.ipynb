{
 "cells": [
  {
   "cell_type": "code",
   "execution_count": 1,
   "metadata": {
    "collapsed": true
   },
   "outputs": [],
   "source": [
    "import pandas as pd\n",
    "import os\n",
    "import shutil\n",
    "\n",
    "# import sys\n",
    "# reload(sys)\n",
    "# sys.setdefaultencoding('utf8')"
   ]
  },
  {
   "cell_type": "code",
   "execution_count": 2,
   "metadata": {},
   "outputs": [
    {
     "data": {
      "text/plain": [
       "'/home/soyoung/face/baidu_face_project/96_data/batch1Data'"
      ]
     },
     "execution_count": 2,
     "metadata": {},
     "output_type": "execute_result"
    }
   ],
   "source": [
    "os.getcwd()"
   ]
  },
  {
   "cell_type": "code",
   "execution_count": 7,
   "metadata": {
    "collapsed": true
   },
   "outputs": [],
   "source": [
    "path = '/home/soyoung/face/baidu_full_pics/taobao/'"
   ]
  },
  {
   "cell_type": "code",
   "execution_count": 8,
   "metadata": {},
   "outputs": [
    {
     "data": {
      "text/plain": [
       "(3805, 2)"
      ]
     },
     "execution_count": 8,
     "metadata": {},
     "output_type": "execute_result"
    }
   ],
   "source": [
    "df = pd.read_csv(path+'labels.csv', names=['id','url'])\n",
    "df.shape"
   ]
  },
  {
   "cell_type": "code",
   "execution_count": 10,
   "metadata": {},
   "outputs": [
    {
     "data": {
      "text/html": [
       "<div>\n",
       "<style>\n",
       "    .dataframe thead tr:only-child th {\n",
       "        text-align: right;\n",
       "    }\n",
       "\n",
       "    .dataframe thead th {\n",
       "        text-align: left;\n",
       "    }\n",
       "\n",
       "    .dataframe tbody tr th {\n",
       "        vertical-align: top;\n",
       "    }\n",
       "</style>\n",
       "<table border=\"1\" class=\"dataframe\">\n",
       "  <thead>\n",
       "    <tr style=\"text-align: right;\">\n",
       "      <th></th>\n",
       "      <th>id</th>\n",
       "      <th>url</th>\n",
       "    </tr>\n",
       "  </thead>\n",
       "  <tbody>\n",
       "    <tr>\n",
       "      <th>0</th>\n",
       "      <td>1</td>\n",
       "      <td>phos_128/euroB1/(232).png</td>\n",
       "    </tr>\n",
       "    <tr>\n",
       "      <th>1</th>\n",
       "      <td>1</td>\n",
       "      <td>phos_128/euroB1/(165).png</td>\n",
       "    </tr>\n",
       "    <tr>\n",
       "      <th>2</th>\n",
       "      <td>1</td>\n",
       "      <td>phos_128/euroB1/(309).png</td>\n",
       "    </tr>\n",
       "    <tr>\n",
       "      <th>3</th>\n",
       "      <td>1</td>\n",
       "      <td>phos_128/euroB1/(47).png</td>\n",
       "    </tr>\n",
       "    <tr>\n",
       "      <th>4</th>\n",
       "      <td>1</td>\n",
       "      <td>phos_128/euroB1/(245).png</td>\n",
       "    </tr>\n",
       "  </tbody>\n",
       "</table>\n",
       "</div>"
      ],
      "text/plain": [
       "   id                        url\n",
       "0   1  phos_128/euroB1/(232).png\n",
       "1   1  phos_128/euroB1/(165).png\n",
       "2   1  phos_128/euroB1/(309).png\n",
       "3   1   phos_128/euroB1/(47).png\n",
       "4   1  phos_128/euroB1/(245).png"
      ]
     },
     "execution_count": 10,
     "metadata": {},
     "output_type": "execute_result"
    }
   ],
   "source": [
    "df.head()"
   ]
  },
  {
   "cell_type": "code",
   "execution_count": 11,
   "metadata": {},
   "outputs": [
    {
     "data": {
      "text/plain": [
       "(3805, 128)"
      ]
     },
     "execution_count": 11,
     "metadata": {},
     "output_type": "execute_result"
    }
   ],
   "source": [
    "data = pd.read_csv(path+'reps.csv', header=None)\n",
    "data.shape"
   ]
  },
  {
   "cell_type": "code",
   "execution_count": 12,
   "metadata": {},
   "outputs": [
    {
     "data": {
      "text/html": [
       "<div>\n",
       "<style>\n",
       "    .dataframe thead tr:only-child th {\n",
       "        text-align: right;\n",
       "    }\n",
       "\n",
       "    .dataframe thead th {\n",
       "        text-align: left;\n",
       "    }\n",
       "\n",
       "    .dataframe tbody tr th {\n",
       "        vertical-align: top;\n",
       "    }\n",
       "</style>\n",
       "<table border=\"1\" class=\"dataframe\">\n",
       "  <thead>\n",
       "    <tr style=\"text-align: right;\">\n",
       "      <th></th>\n",
       "      <th>0</th>\n",
       "      <th>1</th>\n",
       "      <th>2</th>\n",
       "      <th>3</th>\n",
       "      <th>4</th>\n",
       "      <th>5</th>\n",
       "      <th>6</th>\n",
       "      <th>7</th>\n",
       "      <th>8</th>\n",
       "      <th>9</th>\n",
       "      <th>...</th>\n",
       "      <th>118</th>\n",
       "      <th>119</th>\n",
       "      <th>120</th>\n",
       "      <th>121</th>\n",
       "      <th>122</th>\n",
       "      <th>123</th>\n",
       "      <th>124</th>\n",
       "      <th>125</th>\n",
       "      <th>126</th>\n",
       "      <th>127</th>\n",
       "    </tr>\n",
       "  </thead>\n",
       "  <tbody>\n",
       "    <tr>\n",
       "      <th>0</th>\n",
       "      <td>-0.009009</td>\n",
       "      <td>-0.069898</td>\n",
       "      <td>-0.033349</td>\n",
       "      <td>-0.039599</td>\n",
       "      <td>-0.002459</td>\n",
       "      <td>0.120187</td>\n",
       "      <td>-0.077429</td>\n",
       "      <td>-0.032427</td>\n",
       "      <td>-0.092308</td>\n",
       "      <td>-0.075887</td>\n",
       "      <td>...</td>\n",
       "      <td>0.081682</td>\n",
       "      <td>0.067576</td>\n",
       "      <td>-0.024599</td>\n",
       "      <td>-0.085593</td>\n",
       "      <td>0.022879</td>\n",
       "      <td>-0.045567</td>\n",
       "      <td>-0.146018</td>\n",
       "      <td>0.137369</td>\n",
       "      <td>-0.006227</td>\n",
       "      <td>0.152161</td>\n",
       "    </tr>\n",
       "    <tr>\n",
       "      <th>1</th>\n",
       "      <td>-0.010190</td>\n",
       "      <td>0.014992</td>\n",
       "      <td>0.105786</td>\n",
       "      <td>0.045863</td>\n",
       "      <td>-0.157205</td>\n",
       "      <td>0.069604</td>\n",
       "      <td>0.055465</td>\n",
       "      <td>0.096935</td>\n",
       "      <td>0.120242</td>\n",
       "      <td>-0.069009</td>\n",
       "      <td>...</td>\n",
       "      <td>0.140509</td>\n",
       "      <td>-0.004848</td>\n",
       "      <td>-0.011827</td>\n",
       "      <td>-0.109739</td>\n",
       "      <td>-0.017729</td>\n",
       "      <td>0.023205</td>\n",
       "      <td>0.010710</td>\n",
       "      <td>0.094274</td>\n",
       "      <td>0.123548</td>\n",
       "      <td>0.066754</td>\n",
       "    </tr>\n",
       "    <tr>\n",
       "      <th>2</th>\n",
       "      <td>-0.091601</td>\n",
       "      <td>0.100453</td>\n",
       "      <td>-0.065682</td>\n",
       "      <td>0.099207</td>\n",
       "      <td>-0.044374</td>\n",
       "      <td>0.067193</td>\n",
       "      <td>0.015413</td>\n",
       "      <td>-0.045535</td>\n",
       "      <td>0.007935</td>\n",
       "      <td>0.101267</td>\n",
       "      <td>...</td>\n",
       "      <td>0.147082</td>\n",
       "      <td>0.056352</td>\n",
       "      <td>0.052493</td>\n",
       "      <td>-0.072530</td>\n",
       "      <td>0.055757</td>\n",
       "      <td>-0.046096</td>\n",
       "      <td>0.013768</td>\n",
       "      <td>0.092233</td>\n",
       "      <td>0.128870</td>\n",
       "      <td>0.183456</td>\n",
       "    </tr>\n",
       "    <tr>\n",
       "      <th>3</th>\n",
       "      <td>0.006042</td>\n",
       "      <td>0.067140</td>\n",
       "      <td>0.324193</td>\n",
       "      <td>0.179972</td>\n",
       "      <td>0.046648</td>\n",
       "      <td>-0.029058</td>\n",
       "      <td>-0.005584</td>\n",
       "      <td>-0.126199</td>\n",
       "      <td>0.109598</td>\n",
       "      <td>-0.167778</td>\n",
       "      <td>...</td>\n",
       "      <td>-0.087296</td>\n",
       "      <td>0.059735</td>\n",
       "      <td>-0.009884</td>\n",
       "      <td>0.159149</td>\n",
       "      <td>-0.117678</td>\n",
       "      <td>-0.037892</td>\n",
       "      <td>0.140269</td>\n",
       "      <td>0.113840</td>\n",
       "      <td>0.116706</td>\n",
       "      <td>-0.103922</td>\n",
       "    </tr>\n",
       "    <tr>\n",
       "      <th>4</th>\n",
       "      <td>-0.044639</td>\n",
       "      <td>-0.078704</td>\n",
       "      <td>0.046995</td>\n",
       "      <td>-0.027442</td>\n",
       "      <td>0.029847</td>\n",
       "      <td>0.112890</td>\n",
       "      <td>0.003039</td>\n",
       "      <td>0.070407</td>\n",
       "      <td>0.090547</td>\n",
       "      <td>-0.056013</td>\n",
       "      <td>...</td>\n",
       "      <td>0.080330</td>\n",
       "      <td>0.159327</td>\n",
       "      <td>0.052245</td>\n",
       "      <td>-0.047192</td>\n",
       "      <td>-0.075919</td>\n",
       "      <td>0.023843</td>\n",
       "      <td>-0.036660</td>\n",
       "      <td>0.098312</td>\n",
       "      <td>0.059402</td>\n",
       "      <td>0.112280</td>\n",
       "    </tr>\n",
       "  </tbody>\n",
       "</table>\n",
       "<p>5 rows × 128 columns</p>\n",
       "</div>"
      ],
      "text/plain": [
       "        0         1         2         3         4         5         6    \\\n",
       "0 -0.009009 -0.069898 -0.033349 -0.039599 -0.002459  0.120187 -0.077429   \n",
       "1 -0.010190  0.014992  0.105786  0.045863 -0.157205  0.069604  0.055465   \n",
       "2 -0.091601  0.100453 -0.065682  0.099207 -0.044374  0.067193  0.015413   \n",
       "3  0.006042  0.067140  0.324193  0.179972  0.046648 -0.029058 -0.005584   \n",
       "4 -0.044639 -0.078704  0.046995 -0.027442  0.029847  0.112890  0.003039   \n",
       "\n",
       "        7         8         9      ...          118       119       120  \\\n",
       "0 -0.032427 -0.092308 -0.075887    ...     0.081682  0.067576 -0.024599   \n",
       "1  0.096935  0.120242 -0.069009    ...     0.140509 -0.004848 -0.011827   \n",
       "2 -0.045535  0.007935  0.101267    ...     0.147082  0.056352  0.052493   \n",
       "3 -0.126199  0.109598 -0.167778    ...    -0.087296  0.059735 -0.009884   \n",
       "4  0.070407  0.090547 -0.056013    ...     0.080330  0.159327  0.052245   \n",
       "\n",
       "        121       122       123       124       125       126       127  \n",
       "0 -0.085593  0.022879 -0.045567 -0.146018  0.137369 -0.006227  0.152161  \n",
       "1 -0.109739 -0.017729  0.023205  0.010710  0.094274  0.123548  0.066754  \n",
       "2 -0.072530  0.055757 -0.046096  0.013768  0.092233  0.128870  0.183456  \n",
       "3  0.159149 -0.117678 -0.037892  0.140269  0.113840  0.116706 -0.103922  \n",
       "4 -0.047192 -0.075919  0.023843 -0.036660  0.098312  0.059402  0.112280  \n",
       "\n",
       "[5 rows x 128 columns]"
      ]
     },
     "execution_count": 12,
     "metadata": {},
     "output_type": "execute_result"
    }
   ],
   "source": [
    "data.head()"
   ]
  },
  {
   "cell_type": "code",
   "execution_count": 13,
   "metadata": {},
   "outputs": [
    {
     "data": {
      "text/plain": [
       "(3805, 129)"
      ]
     },
     "execution_count": 13,
     "metadata": {},
     "output_type": "execute_result"
    }
   ],
   "source": [
    "data['url']=df['url']\n",
    "data.shape"
   ]
  },
  {
   "cell_type": "code",
   "execution_count": 16,
   "metadata": {},
   "outputs": [],
   "source": [
    "del df\n",
    "df = data"
   ]
  },
  {
   "cell_type": "code",
   "execution_count": 17,
   "metadata": {},
   "outputs": [
    {
     "data": {
      "text/html": [
       "<div>\n",
       "<style>\n",
       "    .dataframe thead tr:only-child th {\n",
       "        text-align: right;\n",
       "    }\n",
       "\n",
       "    .dataframe thead th {\n",
       "        text-align: left;\n",
       "    }\n",
       "\n",
       "    .dataframe tbody tr th {\n",
       "        vertical-align: top;\n",
       "    }\n",
       "</style>\n",
       "<table border=\"1\" class=\"dataframe\">\n",
       "  <thead>\n",
       "    <tr style=\"text-align: right;\">\n",
       "      <th></th>\n",
       "      <th>0</th>\n",
       "      <th>1</th>\n",
       "      <th>2</th>\n",
       "      <th>3</th>\n",
       "      <th>4</th>\n",
       "      <th>5</th>\n",
       "      <th>6</th>\n",
       "      <th>7</th>\n",
       "      <th>8</th>\n",
       "      <th>9</th>\n",
       "      <th>...</th>\n",
       "      <th>119</th>\n",
       "      <th>120</th>\n",
       "      <th>121</th>\n",
       "      <th>122</th>\n",
       "      <th>123</th>\n",
       "      <th>124</th>\n",
       "      <th>125</th>\n",
       "      <th>126</th>\n",
       "      <th>127</th>\n",
       "      <th>url</th>\n",
       "    </tr>\n",
       "  </thead>\n",
       "  <tbody>\n",
       "    <tr>\n",
       "      <th>0</th>\n",
       "      <td>-0.009009</td>\n",
       "      <td>-0.069898</td>\n",
       "      <td>-0.033349</td>\n",
       "      <td>-0.039599</td>\n",
       "      <td>-0.002459</td>\n",
       "      <td>0.120187</td>\n",
       "      <td>-0.077429</td>\n",
       "      <td>-0.032427</td>\n",
       "      <td>-0.092308</td>\n",
       "      <td>-0.075887</td>\n",
       "      <td>...</td>\n",
       "      <td>0.067576</td>\n",
       "      <td>-0.024599</td>\n",
       "      <td>-0.085593</td>\n",
       "      <td>0.022879</td>\n",
       "      <td>-0.045567</td>\n",
       "      <td>-0.146018</td>\n",
       "      <td>0.137369</td>\n",
       "      <td>-0.006227</td>\n",
       "      <td>0.152161</td>\n",
       "      <td>phos_128/euroB1/(232).png</td>\n",
       "    </tr>\n",
       "    <tr>\n",
       "      <th>1</th>\n",
       "      <td>-0.010190</td>\n",
       "      <td>0.014992</td>\n",
       "      <td>0.105786</td>\n",
       "      <td>0.045863</td>\n",
       "      <td>-0.157205</td>\n",
       "      <td>0.069604</td>\n",
       "      <td>0.055465</td>\n",
       "      <td>0.096935</td>\n",
       "      <td>0.120242</td>\n",
       "      <td>-0.069009</td>\n",
       "      <td>...</td>\n",
       "      <td>-0.004848</td>\n",
       "      <td>-0.011827</td>\n",
       "      <td>-0.109739</td>\n",
       "      <td>-0.017729</td>\n",
       "      <td>0.023205</td>\n",
       "      <td>0.010710</td>\n",
       "      <td>0.094274</td>\n",
       "      <td>0.123548</td>\n",
       "      <td>0.066754</td>\n",
       "      <td>phos_128/euroB1/(165).png</td>\n",
       "    </tr>\n",
       "    <tr>\n",
       "      <th>2</th>\n",
       "      <td>-0.091601</td>\n",
       "      <td>0.100453</td>\n",
       "      <td>-0.065682</td>\n",
       "      <td>0.099207</td>\n",
       "      <td>-0.044374</td>\n",
       "      <td>0.067193</td>\n",
       "      <td>0.015413</td>\n",
       "      <td>-0.045535</td>\n",
       "      <td>0.007935</td>\n",
       "      <td>0.101267</td>\n",
       "      <td>...</td>\n",
       "      <td>0.056352</td>\n",
       "      <td>0.052493</td>\n",
       "      <td>-0.072530</td>\n",
       "      <td>0.055757</td>\n",
       "      <td>-0.046096</td>\n",
       "      <td>0.013768</td>\n",
       "      <td>0.092233</td>\n",
       "      <td>0.128870</td>\n",
       "      <td>0.183456</td>\n",
       "      <td>phos_128/euroB1/(309).png</td>\n",
       "    </tr>\n",
       "    <tr>\n",
       "      <th>3</th>\n",
       "      <td>0.006042</td>\n",
       "      <td>0.067140</td>\n",
       "      <td>0.324193</td>\n",
       "      <td>0.179972</td>\n",
       "      <td>0.046648</td>\n",
       "      <td>-0.029058</td>\n",
       "      <td>-0.005584</td>\n",
       "      <td>-0.126199</td>\n",
       "      <td>0.109598</td>\n",
       "      <td>-0.167778</td>\n",
       "      <td>...</td>\n",
       "      <td>0.059735</td>\n",
       "      <td>-0.009884</td>\n",
       "      <td>0.159149</td>\n",
       "      <td>-0.117678</td>\n",
       "      <td>-0.037892</td>\n",
       "      <td>0.140269</td>\n",
       "      <td>0.113840</td>\n",
       "      <td>0.116706</td>\n",
       "      <td>-0.103922</td>\n",
       "      <td>phos_128/euroB1/(47).png</td>\n",
       "    </tr>\n",
       "    <tr>\n",
       "      <th>4</th>\n",
       "      <td>-0.044639</td>\n",
       "      <td>-0.078704</td>\n",
       "      <td>0.046995</td>\n",
       "      <td>-0.027442</td>\n",
       "      <td>0.029847</td>\n",
       "      <td>0.112890</td>\n",
       "      <td>0.003039</td>\n",
       "      <td>0.070407</td>\n",
       "      <td>0.090547</td>\n",
       "      <td>-0.056013</td>\n",
       "      <td>...</td>\n",
       "      <td>0.159327</td>\n",
       "      <td>0.052245</td>\n",
       "      <td>-0.047192</td>\n",
       "      <td>-0.075919</td>\n",
       "      <td>0.023843</td>\n",
       "      <td>-0.036660</td>\n",
       "      <td>0.098312</td>\n",
       "      <td>0.059402</td>\n",
       "      <td>0.112280</td>\n",
       "      <td>phos_128/euroB1/(245).png</td>\n",
       "    </tr>\n",
       "  </tbody>\n",
       "</table>\n",
       "<p>5 rows × 129 columns</p>\n",
       "</div>"
      ],
      "text/plain": [
       "          0         1         2         3         4         5         6  \\\n",
       "0 -0.009009 -0.069898 -0.033349 -0.039599 -0.002459  0.120187 -0.077429   \n",
       "1 -0.010190  0.014992  0.105786  0.045863 -0.157205  0.069604  0.055465   \n",
       "2 -0.091601  0.100453 -0.065682  0.099207 -0.044374  0.067193  0.015413   \n",
       "3  0.006042  0.067140  0.324193  0.179972  0.046648 -0.029058 -0.005584   \n",
       "4 -0.044639 -0.078704  0.046995 -0.027442  0.029847  0.112890  0.003039   \n",
       "\n",
       "          7         8         9            ...                   119  \\\n",
       "0 -0.032427 -0.092308 -0.075887            ...              0.067576   \n",
       "1  0.096935  0.120242 -0.069009            ...             -0.004848   \n",
       "2 -0.045535  0.007935  0.101267            ...              0.056352   \n",
       "3 -0.126199  0.109598 -0.167778            ...              0.059735   \n",
       "4  0.070407  0.090547 -0.056013            ...              0.159327   \n",
       "\n",
       "        120       121       122       123       124       125       126  \\\n",
       "0 -0.024599 -0.085593  0.022879 -0.045567 -0.146018  0.137369 -0.006227   \n",
       "1 -0.011827 -0.109739 -0.017729  0.023205  0.010710  0.094274  0.123548   \n",
       "2  0.052493 -0.072530  0.055757 -0.046096  0.013768  0.092233  0.128870   \n",
       "3 -0.009884  0.159149 -0.117678 -0.037892  0.140269  0.113840  0.116706   \n",
       "4  0.052245 -0.047192 -0.075919  0.023843 -0.036660  0.098312  0.059402   \n",
       "\n",
       "        127                        url  \n",
       "0  0.152161  phos_128/euroB1/(232).png  \n",
       "1  0.066754  phos_128/euroB1/(165).png  \n",
       "2  0.183456  phos_128/euroB1/(309).png  \n",
       "3 -0.103922   phos_128/euroB1/(47).png  \n",
       "4  0.112280  phos_128/euroB1/(245).png  \n",
       "\n",
       "[5 rows x 129 columns]"
      ]
     },
     "execution_count": 17,
     "metadata": {},
     "output_type": "execute_result"
    }
   ],
   "source": [
    "df.head()"
   ]
  },
  {
   "cell_type": "code",
   "execution_count": 21,
   "metadata": {},
   "outputs": [
    {
     "data": {
      "text/plain": [
       "(3805, 130)"
      ]
     },
     "execution_count": 21,
     "metadata": {},
     "output_type": "execute_result"
    }
   ],
   "source": [
    "df['full_url']=df['url'].apply(lambda x: '/home/soyoung/face/baidu_full_pics/taobao/'+x.split('phos_128/')[-1][:-3]+'jpg')\n",
    "df.shape"
   ]
  },
  {
   "cell_type": "code",
   "execution_count": 22,
   "metadata": {},
   "outputs": [
    {
     "data": {
      "text/html": [
       "<div>\n",
       "<style>\n",
       "    .dataframe thead tr:only-child th {\n",
       "        text-align: right;\n",
       "    }\n",
       "\n",
       "    .dataframe thead th {\n",
       "        text-align: left;\n",
       "    }\n",
       "\n",
       "    .dataframe tbody tr th {\n",
       "        vertical-align: top;\n",
       "    }\n",
       "</style>\n",
       "<table border=\"1\" class=\"dataframe\">\n",
       "  <thead>\n",
       "    <tr style=\"text-align: right;\">\n",
       "      <th></th>\n",
       "      <th>0</th>\n",
       "      <th>1</th>\n",
       "      <th>2</th>\n",
       "      <th>3</th>\n",
       "      <th>4</th>\n",
       "      <th>5</th>\n",
       "      <th>6</th>\n",
       "      <th>7</th>\n",
       "      <th>8</th>\n",
       "      <th>9</th>\n",
       "      <th>...</th>\n",
       "      <th>120</th>\n",
       "      <th>121</th>\n",
       "      <th>122</th>\n",
       "      <th>123</th>\n",
       "      <th>124</th>\n",
       "      <th>125</th>\n",
       "      <th>126</th>\n",
       "      <th>127</th>\n",
       "      <th>url</th>\n",
       "      <th>full_url</th>\n",
       "    </tr>\n",
       "  </thead>\n",
       "  <tbody>\n",
       "    <tr>\n",
       "      <th>0</th>\n",
       "      <td>-0.009009</td>\n",
       "      <td>-0.069898</td>\n",
       "      <td>-0.033349</td>\n",
       "      <td>-0.039599</td>\n",
       "      <td>-0.002459</td>\n",
       "      <td>0.120187</td>\n",
       "      <td>-0.077429</td>\n",
       "      <td>-0.032427</td>\n",
       "      <td>-0.092308</td>\n",
       "      <td>-0.075887</td>\n",
       "      <td>...</td>\n",
       "      <td>-0.024599</td>\n",
       "      <td>-0.085593</td>\n",
       "      <td>0.022879</td>\n",
       "      <td>-0.045567</td>\n",
       "      <td>-0.146018</td>\n",
       "      <td>0.137369</td>\n",
       "      <td>-0.006227</td>\n",
       "      <td>0.152161</td>\n",
       "      <td>phos_128/euroB1/(232).png</td>\n",
       "      <td>/home/soyoung/face/baidu_full_pics/taobao/euro...</td>\n",
       "    </tr>\n",
       "    <tr>\n",
       "      <th>1</th>\n",
       "      <td>-0.010190</td>\n",
       "      <td>0.014992</td>\n",
       "      <td>0.105786</td>\n",
       "      <td>0.045863</td>\n",
       "      <td>-0.157205</td>\n",
       "      <td>0.069604</td>\n",
       "      <td>0.055465</td>\n",
       "      <td>0.096935</td>\n",
       "      <td>0.120242</td>\n",
       "      <td>-0.069009</td>\n",
       "      <td>...</td>\n",
       "      <td>-0.011827</td>\n",
       "      <td>-0.109739</td>\n",
       "      <td>-0.017729</td>\n",
       "      <td>0.023205</td>\n",
       "      <td>0.010710</td>\n",
       "      <td>0.094274</td>\n",
       "      <td>0.123548</td>\n",
       "      <td>0.066754</td>\n",
       "      <td>phos_128/euroB1/(165).png</td>\n",
       "      <td>/home/soyoung/face/baidu_full_pics/taobao/euro...</td>\n",
       "    </tr>\n",
       "    <tr>\n",
       "      <th>2</th>\n",
       "      <td>-0.091601</td>\n",
       "      <td>0.100453</td>\n",
       "      <td>-0.065682</td>\n",
       "      <td>0.099207</td>\n",
       "      <td>-0.044374</td>\n",
       "      <td>0.067193</td>\n",
       "      <td>0.015413</td>\n",
       "      <td>-0.045535</td>\n",
       "      <td>0.007935</td>\n",
       "      <td>0.101267</td>\n",
       "      <td>...</td>\n",
       "      <td>0.052493</td>\n",
       "      <td>-0.072530</td>\n",
       "      <td>0.055757</td>\n",
       "      <td>-0.046096</td>\n",
       "      <td>0.013768</td>\n",
       "      <td>0.092233</td>\n",
       "      <td>0.128870</td>\n",
       "      <td>0.183456</td>\n",
       "      <td>phos_128/euroB1/(309).png</td>\n",
       "      <td>/home/soyoung/face/baidu_full_pics/taobao/euro...</td>\n",
       "    </tr>\n",
       "    <tr>\n",
       "      <th>3</th>\n",
       "      <td>0.006042</td>\n",
       "      <td>0.067140</td>\n",
       "      <td>0.324193</td>\n",
       "      <td>0.179972</td>\n",
       "      <td>0.046648</td>\n",
       "      <td>-0.029058</td>\n",
       "      <td>-0.005584</td>\n",
       "      <td>-0.126199</td>\n",
       "      <td>0.109598</td>\n",
       "      <td>-0.167778</td>\n",
       "      <td>...</td>\n",
       "      <td>-0.009884</td>\n",
       "      <td>0.159149</td>\n",
       "      <td>-0.117678</td>\n",
       "      <td>-0.037892</td>\n",
       "      <td>0.140269</td>\n",
       "      <td>0.113840</td>\n",
       "      <td>0.116706</td>\n",
       "      <td>-0.103922</td>\n",
       "      <td>phos_128/euroB1/(47).png</td>\n",
       "      <td>/home/soyoung/face/baidu_full_pics/taobao/euro...</td>\n",
       "    </tr>\n",
       "    <tr>\n",
       "      <th>4</th>\n",
       "      <td>-0.044639</td>\n",
       "      <td>-0.078704</td>\n",
       "      <td>0.046995</td>\n",
       "      <td>-0.027442</td>\n",
       "      <td>0.029847</td>\n",
       "      <td>0.112890</td>\n",
       "      <td>0.003039</td>\n",
       "      <td>0.070407</td>\n",
       "      <td>0.090547</td>\n",
       "      <td>-0.056013</td>\n",
       "      <td>...</td>\n",
       "      <td>0.052245</td>\n",
       "      <td>-0.047192</td>\n",
       "      <td>-0.075919</td>\n",
       "      <td>0.023843</td>\n",
       "      <td>-0.036660</td>\n",
       "      <td>0.098312</td>\n",
       "      <td>0.059402</td>\n",
       "      <td>0.112280</td>\n",
       "      <td>phos_128/euroB1/(245).png</td>\n",
       "      <td>/home/soyoung/face/baidu_full_pics/taobao/euro...</td>\n",
       "    </tr>\n",
       "  </tbody>\n",
       "</table>\n",
       "<p>5 rows × 130 columns</p>\n",
       "</div>"
      ],
      "text/plain": [
       "          0         1         2         3         4         5         6  \\\n",
       "0 -0.009009 -0.069898 -0.033349 -0.039599 -0.002459  0.120187 -0.077429   \n",
       "1 -0.010190  0.014992  0.105786  0.045863 -0.157205  0.069604  0.055465   \n",
       "2 -0.091601  0.100453 -0.065682  0.099207 -0.044374  0.067193  0.015413   \n",
       "3  0.006042  0.067140  0.324193  0.179972  0.046648 -0.029058 -0.005584   \n",
       "4 -0.044639 -0.078704  0.046995 -0.027442  0.029847  0.112890  0.003039   \n",
       "\n",
       "          7         8         9  \\\n",
       "0 -0.032427 -0.092308 -0.075887   \n",
       "1  0.096935  0.120242 -0.069009   \n",
       "2 -0.045535  0.007935  0.101267   \n",
       "3 -0.126199  0.109598 -0.167778   \n",
       "4  0.070407  0.090547 -0.056013   \n",
       "\n",
       "                         ...                               120       121  \\\n",
       "0                        ...                         -0.024599 -0.085593   \n",
       "1                        ...                         -0.011827 -0.109739   \n",
       "2                        ...                          0.052493 -0.072530   \n",
       "3                        ...                         -0.009884  0.159149   \n",
       "4                        ...                          0.052245 -0.047192   \n",
       "\n",
       "        122       123       124       125       126       127  \\\n",
       "0  0.022879 -0.045567 -0.146018  0.137369 -0.006227  0.152161   \n",
       "1 -0.017729  0.023205  0.010710  0.094274  0.123548  0.066754   \n",
       "2  0.055757 -0.046096  0.013768  0.092233  0.128870  0.183456   \n",
       "3 -0.117678 -0.037892  0.140269  0.113840  0.116706 -0.103922   \n",
       "4 -0.075919  0.023843 -0.036660  0.098312  0.059402  0.112280   \n",
       "\n",
       "                         url  \\\n",
       "0  phos_128/euroB1/(232).png   \n",
       "1  phos_128/euroB1/(165).png   \n",
       "2  phos_128/euroB1/(309).png   \n",
       "3   phos_128/euroB1/(47).png   \n",
       "4  phos_128/euroB1/(245).png   \n",
       "\n",
       "                                            full_url  \n",
       "0  /home/soyoung/face/baidu_full_pics/taobao/euro...  \n",
       "1  /home/soyoung/face/baidu_full_pics/taobao/euro...  \n",
       "2  /home/soyoung/face/baidu_full_pics/taobao/euro...  \n",
       "3  /home/soyoung/face/baidu_full_pics/taobao/euro...  \n",
       "4  /home/soyoung/face/baidu_full_pics/taobao/euro...  \n",
       "\n",
       "[5 rows x 130 columns]"
      ]
     },
     "execution_count": 22,
     "metadata": {},
     "output_type": "execute_result"
    }
   ],
   "source": [
    "df.head()"
   ]
  },
  {
   "cell_type": "code",
   "execution_count": 23,
   "metadata": {},
   "outputs": [
    {
     "data": {
      "text/plain": [
       "(3805, 131)"
      ]
     },
     "execution_count": 23,
     "metadata": {},
     "output_type": "execute_result"
    }
   ],
   "source": [
    "df['name']=df['full_url'].apply(lambda x:x.split('/home/soyoung/face/baidu_full_pics/taobao/')[-1])\n",
    "df.shape"
   ]
  },
  {
   "cell_type": "code",
   "execution_count": 24,
   "metadata": {},
   "outputs": [
    {
     "data": {
      "text/html": [
       "<div>\n",
       "<style>\n",
       "    .dataframe thead tr:only-child th {\n",
       "        text-align: right;\n",
       "    }\n",
       "\n",
       "    .dataframe thead th {\n",
       "        text-align: left;\n",
       "    }\n",
       "\n",
       "    .dataframe tbody tr th {\n",
       "        vertical-align: top;\n",
       "    }\n",
       "</style>\n",
       "<table border=\"1\" class=\"dataframe\">\n",
       "  <thead>\n",
       "    <tr style=\"text-align: right;\">\n",
       "      <th></th>\n",
       "      <th>0</th>\n",
       "      <th>1</th>\n",
       "      <th>2</th>\n",
       "      <th>3</th>\n",
       "      <th>4</th>\n",
       "      <th>5</th>\n",
       "      <th>6</th>\n",
       "      <th>7</th>\n",
       "      <th>8</th>\n",
       "      <th>9</th>\n",
       "      <th>...</th>\n",
       "      <th>121</th>\n",
       "      <th>122</th>\n",
       "      <th>123</th>\n",
       "      <th>124</th>\n",
       "      <th>125</th>\n",
       "      <th>126</th>\n",
       "      <th>127</th>\n",
       "      <th>url</th>\n",
       "      <th>full_url</th>\n",
       "      <th>name</th>\n",
       "    </tr>\n",
       "  </thead>\n",
       "  <tbody>\n",
       "    <tr>\n",
       "      <th>0</th>\n",
       "      <td>-0.009009</td>\n",
       "      <td>-0.069898</td>\n",
       "      <td>-0.033349</td>\n",
       "      <td>-0.039599</td>\n",
       "      <td>-0.002459</td>\n",
       "      <td>0.120187</td>\n",
       "      <td>-0.077429</td>\n",
       "      <td>-0.032427</td>\n",
       "      <td>-0.092308</td>\n",
       "      <td>-0.075887</td>\n",
       "      <td>...</td>\n",
       "      <td>-0.085593</td>\n",
       "      <td>0.022879</td>\n",
       "      <td>-0.045567</td>\n",
       "      <td>-0.146018</td>\n",
       "      <td>0.137369</td>\n",
       "      <td>-0.006227</td>\n",
       "      <td>0.152161</td>\n",
       "      <td>phos_128/euroB1/(232).png</td>\n",
       "      <td>/home/soyoung/face/baidu_full_pics/taobao/euro...</td>\n",
       "      <td>euroB1/(232).jpg</td>\n",
       "    </tr>\n",
       "    <tr>\n",
       "      <th>1</th>\n",
       "      <td>-0.010190</td>\n",
       "      <td>0.014992</td>\n",
       "      <td>0.105786</td>\n",
       "      <td>0.045863</td>\n",
       "      <td>-0.157205</td>\n",
       "      <td>0.069604</td>\n",
       "      <td>0.055465</td>\n",
       "      <td>0.096935</td>\n",
       "      <td>0.120242</td>\n",
       "      <td>-0.069009</td>\n",
       "      <td>...</td>\n",
       "      <td>-0.109739</td>\n",
       "      <td>-0.017729</td>\n",
       "      <td>0.023205</td>\n",
       "      <td>0.010710</td>\n",
       "      <td>0.094274</td>\n",
       "      <td>0.123548</td>\n",
       "      <td>0.066754</td>\n",
       "      <td>phos_128/euroB1/(165).png</td>\n",
       "      <td>/home/soyoung/face/baidu_full_pics/taobao/euro...</td>\n",
       "      <td>euroB1/(165).jpg</td>\n",
       "    </tr>\n",
       "    <tr>\n",
       "      <th>2</th>\n",
       "      <td>-0.091601</td>\n",
       "      <td>0.100453</td>\n",
       "      <td>-0.065682</td>\n",
       "      <td>0.099207</td>\n",
       "      <td>-0.044374</td>\n",
       "      <td>0.067193</td>\n",
       "      <td>0.015413</td>\n",
       "      <td>-0.045535</td>\n",
       "      <td>0.007935</td>\n",
       "      <td>0.101267</td>\n",
       "      <td>...</td>\n",
       "      <td>-0.072530</td>\n",
       "      <td>0.055757</td>\n",
       "      <td>-0.046096</td>\n",
       "      <td>0.013768</td>\n",
       "      <td>0.092233</td>\n",
       "      <td>0.128870</td>\n",
       "      <td>0.183456</td>\n",
       "      <td>phos_128/euroB1/(309).png</td>\n",
       "      <td>/home/soyoung/face/baidu_full_pics/taobao/euro...</td>\n",
       "      <td>euroB1/(309).jpg</td>\n",
       "    </tr>\n",
       "    <tr>\n",
       "      <th>3</th>\n",
       "      <td>0.006042</td>\n",
       "      <td>0.067140</td>\n",
       "      <td>0.324193</td>\n",
       "      <td>0.179972</td>\n",
       "      <td>0.046648</td>\n",
       "      <td>-0.029058</td>\n",
       "      <td>-0.005584</td>\n",
       "      <td>-0.126199</td>\n",
       "      <td>0.109598</td>\n",
       "      <td>-0.167778</td>\n",
       "      <td>...</td>\n",
       "      <td>0.159149</td>\n",
       "      <td>-0.117678</td>\n",
       "      <td>-0.037892</td>\n",
       "      <td>0.140269</td>\n",
       "      <td>0.113840</td>\n",
       "      <td>0.116706</td>\n",
       "      <td>-0.103922</td>\n",
       "      <td>phos_128/euroB1/(47).png</td>\n",
       "      <td>/home/soyoung/face/baidu_full_pics/taobao/euro...</td>\n",
       "      <td>euroB1/(47).jpg</td>\n",
       "    </tr>\n",
       "    <tr>\n",
       "      <th>4</th>\n",
       "      <td>-0.044639</td>\n",
       "      <td>-0.078704</td>\n",
       "      <td>0.046995</td>\n",
       "      <td>-0.027442</td>\n",
       "      <td>0.029847</td>\n",
       "      <td>0.112890</td>\n",
       "      <td>0.003039</td>\n",
       "      <td>0.070407</td>\n",
       "      <td>0.090547</td>\n",
       "      <td>-0.056013</td>\n",
       "      <td>...</td>\n",
       "      <td>-0.047192</td>\n",
       "      <td>-0.075919</td>\n",
       "      <td>0.023843</td>\n",
       "      <td>-0.036660</td>\n",
       "      <td>0.098312</td>\n",
       "      <td>0.059402</td>\n",
       "      <td>0.112280</td>\n",
       "      <td>phos_128/euroB1/(245).png</td>\n",
       "      <td>/home/soyoung/face/baidu_full_pics/taobao/euro...</td>\n",
       "      <td>euroB1/(245).jpg</td>\n",
       "    </tr>\n",
       "  </tbody>\n",
       "</table>\n",
       "<p>5 rows × 131 columns</p>\n",
       "</div>"
      ],
      "text/plain": [
       "          0         1         2         3         4         5         6  \\\n",
       "0 -0.009009 -0.069898 -0.033349 -0.039599 -0.002459  0.120187 -0.077429   \n",
       "1 -0.010190  0.014992  0.105786  0.045863 -0.157205  0.069604  0.055465   \n",
       "2 -0.091601  0.100453 -0.065682  0.099207 -0.044374  0.067193  0.015413   \n",
       "3  0.006042  0.067140  0.324193  0.179972  0.046648 -0.029058 -0.005584   \n",
       "4 -0.044639 -0.078704  0.046995 -0.027442  0.029847  0.112890  0.003039   \n",
       "\n",
       "          7         8         9        ...              121       122  \\\n",
       "0 -0.032427 -0.092308 -0.075887        ...        -0.085593  0.022879   \n",
       "1  0.096935  0.120242 -0.069009        ...        -0.109739 -0.017729   \n",
       "2 -0.045535  0.007935  0.101267        ...        -0.072530  0.055757   \n",
       "3 -0.126199  0.109598 -0.167778        ...         0.159149 -0.117678   \n",
       "4  0.070407  0.090547 -0.056013        ...        -0.047192 -0.075919   \n",
       "\n",
       "        123       124       125       126       127  \\\n",
       "0 -0.045567 -0.146018  0.137369 -0.006227  0.152161   \n",
       "1  0.023205  0.010710  0.094274  0.123548  0.066754   \n",
       "2 -0.046096  0.013768  0.092233  0.128870  0.183456   \n",
       "3 -0.037892  0.140269  0.113840  0.116706 -0.103922   \n",
       "4  0.023843 -0.036660  0.098312  0.059402  0.112280   \n",
       "\n",
       "                         url  \\\n",
       "0  phos_128/euroB1/(232).png   \n",
       "1  phos_128/euroB1/(165).png   \n",
       "2  phos_128/euroB1/(309).png   \n",
       "3   phos_128/euroB1/(47).png   \n",
       "4  phos_128/euroB1/(245).png   \n",
       "\n",
       "                                            full_url              name  \n",
       "0  /home/soyoung/face/baidu_full_pics/taobao/euro...  euroB1/(232).jpg  \n",
       "1  /home/soyoung/face/baidu_full_pics/taobao/euro...  euroB1/(165).jpg  \n",
       "2  /home/soyoung/face/baidu_full_pics/taobao/euro...  euroB1/(309).jpg  \n",
       "3  /home/soyoung/face/baidu_full_pics/taobao/euro...   euroB1/(47).jpg  \n",
       "4  /home/soyoung/face/baidu_full_pics/taobao/euro...  euroB1/(245).jpg  \n",
       "\n",
       "[5 rows x 131 columns]"
      ]
     },
     "execution_count": 24,
     "metadata": {},
     "output_type": "execute_result"
    }
   ],
   "source": [
    "df.head()"
   ]
  },
  {
   "cell_type": "code",
   "execution_count": 25,
   "metadata": {},
   "outputs": [
    {
     "name": "stdout",
     "output_type": "stream",
     "text": [
      "/home/soyoung/face/baidu_full_pics/taobao/euroB1/(232).jpg\n"
     ]
    }
   ],
   "source": [
    "for i in df['full_url']:\n",
    "    print i\n",
    "    break"
   ]
  },
  {
   "cell_type": "code",
   "execution_count": 26,
   "metadata": {},
   "outputs": [
    {
     "data": {
      "text/plain": [
       "'/home/soyoung/face/baidu_full_pics/taobao/'"
      ]
     },
     "execution_count": 26,
     "metadata": {},
     "output_type": "execute_result"
    }
   ],
   "source": [
    "path"
   ]
  },
  {
   "cell_type": "code",
   "execution_count": 31,
   "metadata": {
    "collapsed": true
   },
   "outputs": [],
   "source": [
    "dest = path+'hasFace/'"
   ]
  },
  {
   "cell_type": "code",
   "execution_count": 32,
   "metadata": {},
   "outputs": [
    {
     "data": {
      "text/plain": [
       "'/home/soyoung/face/baidu_full_pics/taobao/hasFace/'"
      ]
     },
     "execution_count": 32,
     "metadata": {},
     "output_type": "execute_result"
    }
   ],
   "source": [
    "dest"
   ]
  },
  {
   "cell_type": "code",
   "execution_count": 33,
   "metadata": {
    "collapsed": true
   },
   "outputs": [],
   "source": [
    "source = path"
   ]
  },
  {
   "cell_type": "code",
   "execution_count": 34,
   "metadata": {},
   "outputs": [],
   "source": [
    "# for i in range(112):\n",
    "#     try:\n",
    "#         os.mkdir(dest+'sub_'+str(i))\n",
    "#     except:\n",
    "#         pass"
   ]
  },
  {
   "cell_type": "code",
   "execution_count": 35,
   "metadata": {},
   "outputs": [
    {
     "data": {
      "text/plain": [
       "0"
      ]
     },
     "execution_count": 35,
     "metadata": {},
     "output_type": "execute_result"
    }
   ],
   "source": [
    "n=0\n",
    "no=[]\n",
    "for i in df['name']:\n",
    "    try:\n",
    "        shutil.move(source+i, dest+i)\n",
    "    except Exception as e:\n",
    "        n+=1\n",
    "        no.append(i)\n",
    "#         print '!',\n",
    "n"
   ]
  },
  {
   "cell_type": "code",
   "execution_count": 36,
   "metadata": {},
   "outputs": [
    {
     "data": {
      "text/plain": [
       "3805"
      ]
     },
     "execution_count": 36,
     "metadata": {},
     "output_type": "execute_result"
    }
   ],
   "source": [
    "n=0\n",
    "no=[]\n",
    "for i in df['name']:\n",
    "    try:\n",
    "        shutil.move(source+i[:-3]+'JPG', dest+i)\n",
    "    except Exception as e:\n",
    "        n+=1\n",
    "        no.append(i)\n",
    "#         print '!',\n",
    "n"
   ]
  },
  {
   "cell_type": "code",
   "execution_count": 37,
   "metadata": {
    "collapsed": true
   },
   "outputs": [],
   "source": [
    "# nodf=pd.DataFrame(no, columns=['name'])\n",
    "# nodf"
   ]
  },
  {
   "cell_type": "code",
   "execution_count": 38,
   "metadata": {},
   "outputs": [
    {
     "data": {
      "text/plain": [
       "0"
      ]
     },
     "execution_count": 38,
     "metadata": {},
     "output_type": "execute_result"
    }
   ],
   "source": [
    "n=0\n",
    "no=[]\n",
    "for i in df['name']:\n",
    "    try:\n",
    "        shutil.move(dest+i, dest+i)\n",
    "    except Exception as e:\n",
    "        n+=1\n",
    "        no.append(i)\n",
    "#         print '!',\n",
    "n"
   ]
  },
  {
   "cell_type": "code",
   "execution_count": 39,
   "metadata": {},
   "outputs": [
    {
     "data": {
      "text/plain": [
       "[]"
      ]
     },
     "execution_count": 39,
     "metadata": {},
     "output_type": "execute_result"
    }
   ],
   "source": [
    "no"
   ]
  },
  {
   "cell_type": "code",
   "execution_count": null,
   "metadata": {
    "collapsed": true
   },
   "outputs": [],
   "source": []
  },
  {
   "cell_type": "code",
   "execution_count": 48,
   "metadata": {},
   "outputs": [
    {
     "data": {
      "text/html": [
       "<div>\n",
       "<style>\n",
       "    .dataframe thead tr:only-child th {\n",
       "        text-align: right;\n",
       "    }\n",
       "\n",
       "    .dataframe thead th {\n",
       "        text-align: left;\n",
       "    }\n",
       "\n",
       "    .dataframe tbody tr th {\n",
       "        vertical-align: top;\n",
       "    }\n",
       "</style>\n",
       "<table border=\"1\" class=\"dataframe\">\n",
       "  <thead>\n",
       "    <tr style=\"text-align: right;\">\n",
       "      <th></th>\n",
       "      <th>0</th>\n",
       "      <th>1</th>\n",
       "      <th>2</th>\n",
       "      <th>3</th>\n",
       "      <th>4</th>\n",
       "      <th>5</th>\n",
       "      <th>6</th>\n",
       "      <th>7</th>\n",
       "      <th>8</th>\n",
       "      <th>9</th>\n",
       "      <th>...</th>\n",
       "      <th>121</th>\n",
       "      <th>122</th>\n",
       "      <th>123</th>\n",
       "      <th>124</th>\n",
       "      <th>125</th>\n",
       "      <th>126</th>\n",
       "      <th>127</th>\n",
       "      <th>url</th>\n",
       "      <th>full_url</th>\n",
       "      <th>name</th>\n",
       "    </tr>\n",
       "  </thead>\n",
       "  <tbody>\n",
       "    <tr>\n",
       "      <th>3800</th>\n",
       "      <td>0.048079</td>\n",
       "      <td>-0.005735</td>\n",
       "      <td>0.032212</td>\n",
       "      <td>0.108099</td>\n",
       "      <td>-0.034226</td>\n",
       "      <td>0.037377</td>\n",
       "      <td>0.059349</td>\n",
       "      <td>0.087101</td>\n",
       "      <td>0.150105</td>\n",
       "      <td>-0.095889</td>\n",
       "      <td>...</td>\n",
       "      <td>0.009989</td>\n",
       "      <td>-0.143778</td>\n",
       "      <td>0.178605</td>\n",
       "      <td>-0.003081</td>\n",
       "      <td>0.003301</td>\n",
       "      <td>0.086064</td>\n",
       "      <td>0.028129</td>\n",
       "      <td>phos_128/east1/(455).png</td>\n",
       "      <td>/home/soyoung/face/baidu_full_pics/taobao/east...</td>\n",
       "      <td>east1/(455).jpg</td>\n",
       "    </tr>\n",
       "    <tr>\n",
       "      <th>3801</th>\n",
       "      <td>0.036722</td>\n",
       "      <td>0.102138</td>\n",
       "      <td>-0.004209</td>\n",
       "      <td>0.140337</td>\n",
       "      <td>-0.059118</td>\n",
       "      <td>0.030608</td>\n",
       "      <td>-0.010955</td>\n",
       "      <td>0.045253</td>\n",
       "      <td>0.105136</td>\n",
       "      <td>0.031112</td>\n",
       "      <td>...</td>\n",
       "      <td>0.052320</td>\n",
       "      <td>-0.101862</td>\n",
       "      <td>0.182439</td>\n",
       "      <td>0.160878</td>\n",
       "      <td>-0.070499</td>\n",
       "      <td>0.112281</td>\n",
       "      <td>0.075241</td>\n",
       "      <td>phos_128/east1/(162).png</td>\n",
       "      <td>/home/soyoung/face/baidu_full_pics/taobao/east...</td>\n",
       "      <td>east1/(162).jpg</td>\n",
       "    </tr>\n",
       "    <tr>\n",
       "      <th>3802</th>\n",
       "      <td>-0.040984</td>\n",
       "      <td>0.214801</td>\n",
       "      <td>-0.011364</td>\n",
       "      <td>0.080878</td>\n",
       "      <td>-0.045407</td>\n",
       "      <td>0.056833</td>\n",
       "      <td>-0.051260</td>\n",
       "      <td>0.029586</td>\n",
       "      <td>0.126758</td>\n",
       "      <td>0.122906</td>\n",
       "      <td>...</td>\n",
       "      <td>0.080878</td>\n",
       "      <td>-0.057504</td>\n",
       "      <td>0.135926</td>\n",
       "      <td>0.162637</td>\n",
       "      <td>-0.080175</td>\n",
       "      <td>0.087601</td>\n",
       "      <td>0.090195</td>\n",
       "      <td>phos_128/east1/(675).png</td>\n",
       "      <td>/home/soyoung/face/baidu_full_pics/taobao/east...</td>\n",
       "      <td>east1/(675).jpg</td>\n",
       "    </tr>\n",
       "    <tr>\n",
       "      <th>3803</th>\n",
       "      <td>0.031182</td>\n",
       "      <td>0.099060</td>\n",
       "      <td>0.016765</td>\n",
       "      <td>0.127419</td>\n",
       "      <td>-0.007815</td>\n",
       "      <td>0.043578</td>\n",
       "      <td>0.002895</td>\n",
       "      <td>0.058311</td>\n",
       "      <td>0.084792</td>\n",
       "      <td>-0.024607</td>\n",
       "      <td>...</td>\n",
       "      <td>0.095798</td>\n",
       "      <td>-0.118035</td>\n",
       "      <td>0.209204</td>\n",
       "      <td>0.173771</td>\n",
       "      <td>-0.102763</td>\n",
       "      <td>0.085837</td>\n",
       "      <td>0.057860</td>\n",
       "      <td>phos_128/east1/(349).png</td>\n",
       "      <td>/home/soyoung/face/baidu_full_pics/taobao/east...</td>\n",
       "      <td>east1/(349).jpg</td>\n",
       "    </tr>\n",
       "    <tr>\n",
       "      <th>3804</th>\n",
       "      <td>0.023592</td>\n",
       "      <td>0.028497</td>\n",
       "      <td>-0.009194</td>\n",
       "      <td>0.040042</td>\n",
       "      <td>-0.030671</td>\n",
       "      <td>0.070353</td>\n",
       "      <td>0.064105</td>\n",
       "      <td>0.141149</td>\n",
       "      <td>0.151046</td>\n",
       "      <td>-0.056462</td>\n",
       "      <td>...</td>\n",
       "      <td>-0.005828</td>\n",
       "      <td>-0.185796</td>\n",
       "      <td>0.209589</td>\n",
       "      <td>-0.003248</td>\n",
       "      <td>-0.015919</td>\n",
       "      <td>-0.046378</td>\n",
       "      <td>0.039214</td>\n",
       "      <td>phos_128/east1/(582).png</td>\n",
       "      <td>/home/soyoung/face/baidu_full_pics/taobao/east...</td>\n",
       "      <td>east1/(582).jpg</td>\n",
       "    </tr>\n",
       "  </tbody>\n",
       "</table>\n",
       "<p>5 rows × 131 columns</p>\n",
       "</div>"
      ],
      "text/plain": [
       "             0         1         2         3         4         5         6  \\\n",
       "3800  0.048079 -0.005735  0.032212  0.108099 -0.034226  0.037377  0.059349   \n",
       "3801  0.036722  0.102138 -0.004209  0.140337 -0.059118  0.030608 -0.010955   \n",
       "3802 -0.040984  0.214801 -0.011364  0.080878 -0.045407  0.056833 -0.051260   \n",
       "3803  0.031182  0.099060  0.016765  0.127419 -0.007815  0.043578  0.002895   \n",
       "3804  0.023592  0.028497 -0.009194  0.040042 -0.030671  0.070353  0.064105   \n",
       "\n",
       "             7         8         9       ...              121       122  \\\n",
       "3800  0.087101  0.150105 -0.095889       ...         0.009989 -0.143778   \n",
       "3801  0.045253  0.105136  0.031112       ...         0.052320 -0.101862   \n",
       "3802  0.029586  0.126758  0.122906       ...         0.080878 -0.057504   \n",
       "3803  0.058311  0.084792 -0.024607       ...         0.095798 -0.118035   \n",
       "3804  0.141149  0.151046 -0.056462       ...        -0.005828 -0.185796   \n",
       "\n",
       "           123       124       125       126       127  \\\n",
       "3800  0.178605 -0.003081  0.003301  0.086064  0.028129   \n",
       "3801  0.182439  0.160878 -0.070499  0.112281  0.075241   \n",
       "3802  0.135926  0.162637 -0.080175  0.087601  0.090195   \n",
       "3803  0.209204  0.173771 -0.102763  0.085837  0.057860   \n",
       "3804  0.209589 -0.003248 -0.015919 -0.046378  0.039214   \n",
       "\n",
       "                           url  \\\n",
       "3800  phos_128/east1/(455).png   \n",
       "3801  phos_128/east1/(162).png   \n",
       "3802  phos_128/east1/(675).png   \n",
       "3803  phos_128/east1/(349).png   \n",
       "3804  phos_128/east1/(582).png   \n",
       "\n",
       "                                               full_url             name  \n",
       "3800  /home/soyoung/face/baidu_full_pics/taobao/east...  east1/(455).jpg  \n",
       "3801  /home/soyoung/face/baidu_full_pics/taobao/east...  east1/(162).jpg  \n",
       "3802  /home/soyoung/face/baidu_full_pics/taobao/east...  east1/(675).jpg  \n",
       "3803  /home/soyoung/face/baidu_full_pics/taobao/east...  east1/(349).jpg  \n",
       "3804  /home/soyoung/face/baidu_full_pics/taobao/east...  east1/(582).jpg  \n",
       "\n",
       "[5 rows x 131 columns]"
      ]
     },
     "execution_count": 48,
     "metadata": {},
     "output_type": "execute_result"
    }
   ],
   "source": [
    "df.tail()"
   ]
  },
  {
   "cell_type": "code",
   "execution_count": 49,
   "metadata": {},
   "outputs": [
    {
     "name": "stdout",
     "output_type": "stream",
     "text": [
      "/home/soyoung/face/baidu_face_project/96_data/batch1Data\r\n"
     ]
    }
   ],
   "source": [
    "!pwd"
   ]
  },
  {
   "cell_type": "code",
   "execution_count": 51,
   "metadata": {},
   "outputs": [
    {
     "data": {
      "text/plain": [
       "(3805, 131)"
      ]
     },
     "execution_count": 51,
     "metadata": {},
     "output_type": "execute_result"
    }
   ],
   "source": [
    "df.shape"
   ]
  },
  {
   "cell_type": "code",
   "execution_count": 52,
   "metadata": {},
   "outputs": [
    {
     "data": {
      "text/plain": [
       "(3805, 129)"
      ]
     },
     "execution_count": 52,
     "metadata": {},
     "output_type": "execute_result"
    }
   ],
   "source": [
    "df_V4 = df.drop(['url'], axis=1)\n",
    "df_V4 = df_V4.drop(['full_url'], axis=1)\n",
    "df_V4.shape"
   ]
  },
  {
   "cell_type": "code",
   "execution_count": null,
   "metadata": {
    "collapsed": true
   },
   "outputs": [],
   "source": []
  },
  {
   "cell_type": "code",
   "execution_count": 54,
   "metadata": {
    "collapsed": true
   },
   "outputs": [],
   "source": [
    "df_V4.to_csv('new_taobao.csv', index=False)"
   ]
  },
  {
   "cell_type": "code",
   "execution_count": null,
   "metadata": {
    "collapsed": true
   },
   "outputs": [],
   "source": []
  },
  {
   "cell_type": "code",
   "execution_count": null,
   "metadata": {
    "collapsed": true
   },
   "outputs": [],
   "source": []
  },
  {
   "cell_type": "code",
   "execution_count": 40,
   "metadata": {},
   "outputs": [],
   "source": [
    "# df[df['name'].apply(lambda x: x in no)]"
   ]
  },
  {
   "cell_type": "code",
   "execution_count": 41,
   "metadata": {},
   "outputs": [],
   "source": [
    "# to_be_drop = df[df['name'].apply(lambda x: x in no)].index\n",
    "# to_be_drop"
   ]
  },
  {
   "cell_type": "code",
   "execution_count": 42,
   "metadata": {},
   "outputs": [],
   "source": [
    "# df.shape"
   ]
  },
  {
   "cell_type": "code",
   "execution_count": 43,
   "metadata": {},
   "outputs": [],
   "source": [
    "# df.drop(to_be_drop).shape"
   ]
  },
  {
   "cell_type": "code",
   "execution_count": 44,
   "metadata": {},
   "outputs": [],
   "source": [
    "# df_V2= df.drop(to_be_drop)\n",
    "# df_V2.shape"
   ]
  },
  {
   "cell_type": "code",
   "execution_count": 45,
   "metadata": {},
   "outputs": [],
   "source": [
    "# df_V3 = df_V2.reset_index(drop=True)\n",
    "# df_V3.shape"
   ]
  },
  {
   "cell_type": "code",
   "execution_count": 46,
   "metadata": {},
   "outputs": [],
   "source": [
    "# df_V3"
   ]
  },
  {
   "cell_type": "code",
   "execution_count": null,
   "metadata": {
    "collapsed": true
   },
   "outputs": [],
   "source": []
  }
 ],
 "metadata": {
  "kernelspec": {
   "display_name": "Python 2",
   "language": "python",
   "name": "python2"
  },
  "language_info": {
   "codemirror_mode": {
    "name": "ipython",
    "version": 2
   },
   "file_extension": ".py",
   "mimetype": "text/x-python",
   "name": "python",
   "nbconvert_exporter": "python",
   "pygments_lexer": "ipython2",
   "version": "2.7.13"
  }
 },
 "nbformat": 4,
 "nbformat_minor": 2
}
