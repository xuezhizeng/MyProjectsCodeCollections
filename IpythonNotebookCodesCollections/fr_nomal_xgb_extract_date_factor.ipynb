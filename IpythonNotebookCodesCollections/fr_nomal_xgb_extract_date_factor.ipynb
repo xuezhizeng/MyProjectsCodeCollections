{
 "cells": [
  {
   "cell_type": "code",
   "execution_count": 1,
   "metadata": {},
   "outputs": [
    {
     "name": "stderr",
     "output_type": "stream",
     "text": [
      "/home/shj16110/anaconda2/lib/python2.7/site-packages/sklearn/cross_validation.py:41: DeprecationWarning: This module was deprecated in version 0.18 in favor of the model_selection module into which all the refactored classes and functions are moved. Also note that the interface of the new CV iterators are different from that of this module. This module will be removed in 0.20.\n",
      "  \"This module will be removed in 0.20.\", DeprecationWarning)\n"
     ]
    },
    {
     "name": "stdout",
     "output_type": "stream",
     "text": [
      "CPU times: user 442 ms, sys: 894 ms, total: 1.34 s\n",
      "Wall time: 1.82 s\n"
     ]
    }
   ],
   "source": [
    "%%time\n",
    "import pandas as pd\n",
    "\n",
    "from sklearn.metrics import roc_auc_score, make_scorer, accuracy_score\n",
    "from sklearn.preprocessing import OneHotEncoder, LabelEncoder\n",
    "from sklearn.preprocessing import StandardScaler, Normalizer, MinMaxScaler\n",
    "\n",
    "\n",
    "from sklearn.model_selection import train_test_split\n",
    "from sklearn.model_selection import cross_val_score\n",
    "\n",
    "from xgboost import XGBClassifier\n",
    "from sklearn.feature_selection import RFE\n",
    "\n",
    "\n",
    "from time import strftime, strptime, mktime, time, ctime\n",
    "\n",
    "from sklearn import model_selection\n",
    "\n",
    "from sklearn.linear_model import LogisticRegression\n",
    "from sklearn.neighbors import KNeighborsClassifier\n",
    "from sklearn.naive_bayes import GaussianNB \n",
    "from sklearn.svm import LinearSVC\n",
    "\n",
    "from xgboost import XGBClassifier\n",
    "import xgboost as xgb\n",
    "\n",
    "from sklearn.tree import DecisionTreeClassifier, ExtraTreeClassifier\n",
    "from sklearn.ensemble import AdaBoostClassifier, BaggingClassifier,\\\n",
    "ExtraTreesClassifier, GradientBoostingClassifier, VotingClassifier, RandomForestClassifier\n",
    "\n",
    "from mlxtend.classifier import StackingClassifier, StackingCVClassifier\n",
    "from mlxtend.feature_selection import ColumnSelector\n",
    "\n",
    "from sklearn.pipeline import make_pipeline\n",
    "import numpy as np\n",
    "\n",
    "import gc\n"
   ]
  },
  {
   "cell_type": "code",
   "execution_count": 8,
   "metadata": {},
   "outputs": [
    {
     "name": "stdout",
     "output_type": "stream",
     "text": [
      "(69713, 22)\n",
      "(30037, 21)\n",
      "CPU times: user 6.96 s, sys: 244 ms, total: 7.2 s\n",
      "Wall time: 7.19 s\n"
     ]
    }
   ],
   "source": [
    "%%time\n",
    "df = pd.read_csv('./train.csv')\n",
    "print df.shape\n",
    "test = pd.read_csv('./test.csv')\n",
    "print test.shape\n",
    "\n",
    "y = df.pop('Approved')\n",
    "train_id = df.pop('ID')\n",
    "test_id = test.pop('ID')\n",
    "\n",
    "def helper(x):\n",
    "    try:\n",
    "        tmp = strptime(x, '%d/%m/%y')\n",
    "        tmp = mktime(tmp)\n",
    "    except:\n",
    "        tmp = 563000400\n",
    "    return tmp\n",
    "\n",
    "df['DOB'] = df['DOB'].fillna('11/01/82')\n",
    "\n",
    "df['Lead_Creation_Date_ori'] = df['Lead_Creation_Date'].apply(helper)\n",
    "test['Lead_Creation_Date_ori'] = test['Lead_Creation_Date'].apply(helper)\n",
    "\n",
    "df['DOB_ori'] = df['DOB'].apply(helper)\n",
    "test['DOB_ori'] = test['DOB'].apply(helper)\n",
    "\n",
    "def extract_date(d):\n",
    "    tmp = strptime(d, '%d/%m/%y')\n",
    "    y = tmp.tm_year\n",
    "    m = tmp.tm_mon\n",
    "    dy = tmp.tm_mday\n",
    "    w = tmp.tm_wday\n",
    "    yd = tmp.tm_yday\n",
    "    dst = tmp.tm_isdst\n",
    "    return '/'.join(map(str,[y,m,dy,w,yd,dst]))\n",
    "\n",
    "df['DOB_e'] = df['DOB'].apply(extract_date)\n",
    "df['Lead_Creation_Date_e'] = df['Lead_Creation_Date'].apply(extract_date)\n",
    "\n",
    "for i in range(6):\n",
    "    df['DOB_e_'+str(i)] = df['DOB_e'].apply(lambda x: int(x.split('/')[i]))\n",
    "    df['Lead_Creation_Date_e'+str(i)] = df['Lead_Creation_Date_e'].apply(lambda x: int(x.split('/')[i]))\n",
    "\n",
    "_ = df.pop('DOB_e')\n",
    "_ = df.pop('Lead_Creation_Date_e')\n",
    "_ = df.pop('DOB')\n",
    "_ = df.pop('Lead_Creation_Date')"
   ]
  },
  {
   "cell_type": "code",
   "execution_count": 3,
   "metadata": {},
   "outputs": [
    {
     "name": "stdout",
     "output_type": "stream",
     "text": [
      "(69713, 34) (30037, 34)\n"
     ]
    }
   ],
   "source": [
    "df['Cat']=0\n",
    "test['Cat']=1\n",
    "comb = pd.concat([df, test])\n",
    "comb.shape\n",
    "\n",
    "for i in comb.select_dtypes('object'):\n",
    "    comb[i] = pd.factorize(comb[i])[0]\n",
    "\n",
    "train, test = comb[comb['Cat']==0], comb[comb['Cat']==1]\n",
    "_, _ = train.pop('Cat'), test.pop('Cat')\n",
    "print train.shape, test.shape"
   ]
  },
  {
   "cell_type": "code",
   "execution_count": 10,
   "metadata": {},
   "outputs": [
    {
     "data": {
      "text/html": [
       "<div>\n",
       "<style scoped>\n",
       "    .dataframe tbody tr th:only-of-type {\n",
       "        vertical-align: middle;\n",
       "    }\n",
       "\n",
       "    .dataframe tbody tr th {\n",
       "        vertical-align: top;\n",
       "    }\n",
       "\n",
       "    .dataframe thead th {\n",
       "        text-align: right;\n",
       "    }\n",
       "</style>\n",
       "<table border=\"1\" class=\"dataframe\">\n",
       "  <thead>\n",
       "    <tr style=\"text-align: right;\">\n",
       "      <th></th>\n",
       "      <th>Gender</th>\n",
       "      <th>City_Code</th>\n",
       "      <th>City_Category</th>\n",
       "      <th>Employer_Code</th>\n",
       "      <th>Employer_Category1</th>\n",
       "      <th>Employer_Category2</th>\n",
       "      <th>Monthly_Income</th>\n",
       "      <th>Customer_Existing_Primary_Bank_Code</th>\n",
       "      <th>Primary_Bank_Type</th>\n",
       "      <th>Contacted</th>\n",
       "      <th>...</th>\n",
       "      <th>DOB_e_1</th>\n",
       "      <th>Lead_Creation_Date_e1</th>\n",
       "      <th>DOB_e_2</th>\n",
       "      <th>Lead_Creation_Date_e2</th>\n",
       "      <th>DOB_e_3</th>\n",
       "      <th>Lead_Creation_Date_e3</th>\n",
       "      <th>DOB_e_4</th>\n",
       "      <th>Lead_Creation_Date_e4</th>\n",
       "      <th>DOB_e_5</th>\n",
       "      <th>Lead_Creation_Date_e5</th>\n",
       "    </tr>\n",
       "  </thead>\n",
       "  <tbody>\n",
       "    <tr>\n",
       "      <th>0</th>\n",
       "      <td>Female</td>\n",
       "      <td>C10001</td>\n",
       "      <td>A</td>\n",
       "      <td>COM0044082</td>\n",
       "      <td>A</td>\n",
       "      <td>4.0</td>\n",
       "      <td>2000.0</td>\n",
       "      <td>B001</td>\n",
       "      <td>P</td>\n",
       "      <td>N</td>\n",
       "      <td>...</td>\n",
       "      <td>7</td>\n",
       "      <td>7</td>\n",
       "      <td>23</td>\n",
       "      <td>15</td>\n",
       "      <td>0</td>\n",
       "      <td>4</td>\n",
       "      <td>204</td>\n",
       "      <td>197</td>\n",
       "      <td>-1</td>\n",
       "      <td>-1</td>\n",
       "    </tr>\n",
       "    <tr>\n",
       "      <th>1</th>\n",
       "      <td>Male</td>\n",
       "      <td>C10003</td>\n",
       "      <td>A</td>\n",
       "      <td>COM0000002</td>\n",
       "      <td>C</td>\n",
       "      <td>1.0</td>\n",
       "      <td>3500.0</td>\n",
       "      <td>B002</td>\n",
       "      <td>P</td>\n",
       "      <td>Y</td>\n",
       "      <td>...</td>\n",
       "      <td>12</td>\n",
       "      <td>7</td>\n",
       "      <td>7</td>\n",
       "      <td>4</td>\n",
       "      <td>6</td>\n",
       "      <td>0</td>\n",
       "      <td>341</td>\n",
       "      <td>186</td>\n",
       "      <td>-1</td>\n",
       "      <td>-1</td>\n",
       "    </tr>\n",
       "    <tr>\n",
       "      <th>2</th>\n",
       "      <td>Male</td>\n",
       "      <td>C10125</td>\n",
       "      <td>C</td>\n",
       "      <td>COM0005267</td>\n",
       "      <td>C</td>\n",
       "      <td>4.0</td>\n",
       "      <td>2250.0</td>\n",
       "      <td>B003</td>\n",
       "      <td>G</td>\n",
       "      <td>Y</td>\n",
       "      <td>...</td>\n",
       "      <td>12</td>\n",
       "      <td>7</td>\n",
       "      <td>10</td>\n",
       "      <td>19</td>\n",
       "      <td>4</td>\n",
       "      <td>1</td>\n",
       "      <td>344</td>\n",
       "      <td>201</td>\n",
       "      <td>-1</td>\n",
       "      <td>-1</td>\n",
       "    </tr>\n",
       "    <tr>\n",
       "      <th>3</th>\n",
       "      <td>Male</td>\n",
       "      <td>C10477</td>\n",
       "      <td>C</td>\n",
       "      <td>COM0004143</td>\n",
       "      <td>A</td>\n",
       "      <td>4.0</td>\n",
       "      <td>3500.0</td>\n",
       "      <td>B003</td>\n",
       "      <td>G</td>\n",
       "      <td>Y</td>\n",
       "      <td>...</td>\n",
       "      <td>1</td>\n",
       "      <td>7</td>\n",
       "      <td>30</td>\n",
       "      <td>9</td>\n",
       "      <td>0</td>\n",
       "      <td>5</td>\n",
       "      <td>30</td>\n",
       "      <td>191</td>\n",
       "      <td>-1</td>\n",
       "      <td>-1</td>\n",
       "    </tr>\n",
       "    <tr>\n",
       "      <th>4</th>\n",
       "      <td>Male</td>\n",
       "      <td>C10002</td>\n",
       "      <td>A</td>\n",
       "      <td>COM0001781</td>\n",
       "      <td>A</td>\n",
       "      <td>4.0</td>\n",
       "      <td>10000.0</td>\n",
       "      <td>B001</td>\n",
       "      <td>P</td>\n",
       "      <td>Y</td>\n",
       "      <td>...</td>\n",
       "      <td>4</td>\n",
       "      <td>7</td>\n",
       "      <td>19</td>\n",
       "      <td>20</td>\n",
       "      <td>4</td>\n",
       "      <td>2</td>\n",
       "      <td>109</td>\n",
       "      <td>202</td>\n",
       "      <td>-1</td>\n",
       "      <td>-1</td>\n",
       "    </tr>\n",
       "  </tbody>\n",
       "</table>\n",
       "<p>5 rows × 32 columns</p>\n",
       "</div>"
      ],
      "text/plain": [
       "   Gender City_Code City_Category Employer_Code Employer_Category1  \\\n",
       "0  Female    C10001             A    COM0044082                  A   \n",
       "1    Male    C10003             A    COM0000002                  C   \n",
       "2    Male    C10125             C    COM0005267                  C   \n",
       "3    Male    C10477             C    COM0004143                  A   \n",
       "4    Male    C10002             A    COM0001781                  A   \n",
       "\n",
       "   Employer_Category2  Monthly_Income Customer_Existing_Primary_Bank_Code  \\\n",
       "0                 4.0          2000.0                                B001   \n",
       "1                 1.0          3500.0                                B002   \n",
       "2                 4.0          2250.0                                B003   \n",
       "3                 4.0          3500.0                                B003   \n",
       "4                 4.0         10000.0                                B001   \n",
       "\n",
       "  Primary_Bank_Type Contacted          ...           DOB_e_1  \\\n",
       "0                 P         N          ...                 7   \n",
       "1                 P         Y          ...                12   \n",
       "2                 G         Y          ...                12   \n",
       "3                 G         Y          ...                 1   \n",
       "4                 P         Y          ...                 4   \n",
       "\n",
       "  Lead_Creation_Date_e1  DOB_e_2  Lead_Creation_Date_e2  DOB_e_3  \\\n",
       "0                     7       23                     15        0   \n",
       "1                     7        7                      4        6   \n",
       "2                     7       10                     19        4   \n",
       "3                     7       30                      9        0   \n",
       "4                     7       19                     20        4   \n",
       "\n",
       "   Lead_Creation_Date_e3  DOB_e_4  Lead_Creation_Date_e4  DOB_e_5  \\\n",
       "0                      4      204                    197       -1   \n",
       "1                      0      341                    186       -1   \n",
       "2                      1      344                    201       -1   \n",
       "3                      5       30                    191       -1   \n",
       "4                      2      109                    202       -1   \n",
       "\n",
       "   Lead_Creation_Date_e5  \n",
       "0                     -1  \n",
       "1                     -1  \n",
       "2                     -1  \n",
       "3                     -1  \n",
       "4                     -1  \n",
       "\n",
       "[5 rows x 32 columns]"
      ]
     },
     "execution_count": 10,
     "metadata": {},
     "output_type": "execute_result"
    }
   ],
   "source": [
    "df.head()"
   ]
  },
  {
   "cell_type": "code",
   "execution_count": 11,
   "metadata": {},
   "outputs": [
    {
     "data": {
      "text/plain": [
       "(array([0, 1, 2, ..., 6, 4, 1]),\n",
       " Index([u'C10001', u'C10003', u'C10125', u'C10477', u'C10002', u'C10402',\n",
       "        u'C10022', u'C10014', u'C10030', u'C10032',\n",
       "        ...\n",
       "        u'C10692', u'C10563', u'C10612', u'C10717', u'C10626', u'C10693',\n",
       "        u'C10673', u'C10685', u'C10676', u'C10686'],\n",
       "       dtype='object', length=678))"
      ]
     },
     "execution_count": 11,
     "metadata": {},
     "output_type": "execute_result"
    }
   ],
   "source": [
    "pd.factorize(df['City_Code'])"
   ]
  },
  {
   "cell_type": "code",
   "execution_count": null,
   "metadata": {
    "collapsed": true
   },
   "outputs": [],
   "source": []
  },
  {
   "cell_type": "code",
   "execution_count": null,
   "metadata": {
    "collapsed": true
   },
   "outputs": [],
   "source": []
  },
  {
   "cell_type": "code",
   "execution_count": 4,
   "metadata": {},
   "outputs": [
    {
     "name": "stdout",
     "output_type": "stream",
     "text": [
      "(69713, 34) (30037, 34)\n"
     ]
    }
   ],
   "source": [
    "train = train.fillna(axis=1, value=-1)\n",
    "test = test.fillna(axis=1, value=-1)\n",
    "\n",
    "\n",
    "s = StandardScaler()\n",
    "train = s.fit_transform(train)\n",
    "test = s.transform(test)\n",
    "\n",
    "print train.shape, test.shape"
   ]
  },
  {
   "cell_type": "markdown",
   "metadata": {},
   "source": [
    "### train test split"
   ]
  },
  {
   "cell_type": "code",
   "execution_count": 9,
   "metadata": {},
   "outputs": [
    {
     "name": "stdout",
     "output_type": "stream",
     "text": [
      "[(55770, 34), (55770,), (13943, 34), (13943,)]\n",
      "CPU times: user 29 ms, sys: 2 ms, total: 31 ms\n",
      "Wall time: 30.2 ms\n"
     ]
    }
   ],
   "source": [
    "%%time\n",
    "m = lambda *x: [i.shape for i in x]\n",
    "x_train, x_test, y_train, y_test = train_test_split(train, y, test_size=0.2)\n",
    "print m(x_train, y_train, x_test, y_test)\n"
   ]
  },
  {
   "cell_type": "markdown",
   "metadata": {},
   "source": [
    "### create xgb matrix"
   ]
  },
  {
   "cell_type": "code",
   "execution_count": 10,
   "metadata": {},
   "outputs": [
    {
     "name": "stdout",
     "output_type": "stream",
     "text": [
      "CPU times: user 39 ms, sys: 2 ms, total: 41 ms\n",
      "Wall time: 39.3 ms\n"
     ]
    }
   ],
   "source": [
    "%%time\n",
    "d_train = xgb.DMatrix(x_train, label=y_train)\n",
    "d_test = xgb.DMatrix(x_test, label=y_test)\n"
   ]
  },
  {
   "cell_type": "code",
   "execution_count": 18,
   "metadata": {
    "collapsed": true
   },
   "outputs": [],
   "source": [
    "RANDOM_STATE = 2018\n",
    "params = {\n",
    "    'min_child_weight': 0.8,\n",
    "#     'eta': 0.1,\n",
    "    'colsample_bytree': 0.8,\n",
    "    'max_depth': 9,\n",
    "    'subsample': 0.6,\n",
    "    'alpha': 0.3,\n",
    "    'lambda':0.9,\n",
    "    'gamma': 0.3,\n",
    "    'silent': 0,\n",
    "    'learning_rate':0.0005,\n",
    "    'verbose_eval': True,\n",
    "    'seed': RANDOM_STATE,\n",
    "    'objective':\"binary:logistic\",\n",
    "#     'eval_metric':'error'\n",
    "#     'num_class':1\n",
    "    'n_jobs':24,\n",
    "    'eval_metric':'auc'\n",
    "    \n",
    "}\n",
    "watchlist = [(d_train, 'train'), (d_test, 'test')]\n",
    "\n"
   ]
  },
  {
   "cell_type": "code",
   "execution_count": 19,
   "metadata": {},
   "outputs": [
    {
     "name": "stdout",
     "output_type": "stream",
     "text": [
      "[0]\ttrain-auc:0.741896\ttest-auc:0.744976\n",
      "Multiple eval metrics have been passed: 'test-auc' will be used for early stopping.\n",
      "\n",
      "Will train until test-auc hasn't improved in 200 rounds.\n",
      "[50]\ttrain-auc:0.807287\ttest-auc:0.813703\n",
      "[100]\ttrain-auc:0.811757\ttest-auc:0.818746\n",
      "[150]\ttrain-auc:0.814606\ttest-auc:0.818851\n",
      "[200]\ttrain-auc:0.816373\ttest-auc:0.819496\n",
      "[250]\ttrain-auc:0.817684\ttest-auc:0.819149\n",
      "[300]\ttrain-auc:0.818406\ttest-auc:0.818774\n",
      "[350]\ttrain-auc:0.819913\ttest-auc:0.81948\n",
      "[400]\ttrain-auc:0.821143\ttest-auc:0.819694\n",
      "[450]\ttrain-auc:0.835136\ttest-auc:0.829827\n",
      "[500]\ttrain-auc:0.835259\ttest-auc:0.829089\n",
      "[550]\ttrain-auc:0.836313\ttest-auc:0.829164\n",
      "[600]\ttrain-auc:0.837219\ttest-auc:0.829839\n",
      "[650]\ttrain-auc:0.838108\ttest-auc:0.830103\n",
      "[700]\ttrain-auc:0.839221\ttest-auc:0.830351\n",
      "[750]\ttrain-auc:0.840935\ttest-auc:0.830776\n",
      "[800]\ttrain-auc:0.841942\ttest-auc:0.831188\n",
      "[850]\ttrain-auc:0.844533\ttest-auc:0.832784\n",
      "[900]\ttrain-auc:0.845358\ttest-auc:0.833111\n",
      "[950]\ttrain-auc:0.84628\ttest-auc:0.83329\n",
      "[1000]\ttrain-auc:0.847269\ttest-auc:0.833089\n",
      "[1050]\ttrain-auc:0.848689\ttest-auc:0.833037\n",
      "[1100]\ttrain-auc:0.849501\ttest-auc:0.832836\n",
      "Stopping. Best iteration:\n",
      "[925]\ttrain-auc:0.845884\ttest-auc:0.833349\n",
      "\n"
     ]
    },
    {
     "data": {
      "text/plain": [
       "'!!! used 17.88 s'"
      ]
     },
     "execution_count": 19,
     "metadata": {},
     "output_type": "execute_result"
    }
   ],
   "source": [
    "start=time()\n",
    "\n",
    "clf = xgb.train(params, d_train, 10000, watchlist, early_stopping_rounds=200, \n",
    "                verbose_eval=50,  maximize=True,\n",
    "               )\n",
    "                \n",
    "\n",
    "'!!! used %.2f s'%(time()-start)"
   ]
  },
  {
   "cell_type": "code",
   "execution_count": null,
   "metadata": {
    "collapsed": true
   },
   "outputs": [],
   "source": []
  },
  {
   "cell_type": "code",
   "execution_count": 21,
   "metadata": {},
   "outputs": [
    {
     "data": {
      "text/plain": [
       "{'f0': 67,\n",
       " 'f1': 703,\n",
       " 'f11': 1836,\n",
       " 'f12': 1795,\n",
       " 'f13': 319,\n",
       " 'f14': 411,\n",
       " 'f15': 2242,\n",
       " 'f16': 3488,\n",
       " 'f17': 88,\n",
       " 'f18': 1084,\n",
       " 'f2': 15,\n",
       " 'f21': 110,\n",
       " 'f22': 831,\n",
       " 'f23': 398,\n",
       " 'f24': 777,\n",
       " 'f26': 184,\n",
       " 'f27': 854,\n",
       " 'f28': 202,\n",
       " 'f29': 2092,\n",
       " 'f3': 1076,\n",
       " 'f30': 164,\n",
       " 'f31': 540,\n",
       " 'f32': 30,\n",
       " 'f33': 583,\n",
       " 'f5': 604,\n",
       " 'f6': 422,\n",
       " 'f7': 812,\n",
       " 'f8': 503,\n",
       " 'f9': 1373}"
      ]
     },
     "execution_count": 21,
     "metadata": {},
     "output_type": "execute_result"
    }
   ],
   "source": [
    "clf.get_fscore()"
   ]
  },
  {
   "cell_type": "code",
   "execution_count": 66,
   "metadata": {
    "collapsed": true
   },
   "outputs": [],
   "source": [
    "clf.save_rabit_checkpoint?"
   ]
  },
  {
   "cell_type": "code",
   "execution_count": 45,
   "metadata": {},
   "outputs": [
    {
     "name": "stdout",
     "output_type": "stream",
     "text": [
      "CPU times: user 13.9 s, sys: 6.85 s, total: 20.7 s\n",
      "Wall time: 20.7 s\n"
     ]
    }
   ],
   "source": [
    "%%time\n",
    "dtest = xgb.DMatrix(test)"
   ]
  },
  {
   "cell_type": "code",
   "execution_count": 46,
   "metadata": {},
   "outputs": [
    {
     "name": "stdout",
     "output_type": "stream",
     "text": [
      "CPU times: user 4.31 s, sys: 3 ms, total: 4.31 s\n",
      "Wall time: 268 ms\n"
     ]
    }
   ],
   "source": [
    "%%time\n",
    "predb = clf.predict(dtest)\n"
   ]
  },
  {
   "cell_type": "markdown",
   "metadata": {},
   "source": [
    "___"
   ]
  },
  {
   "cell_type": "code",
   "execution_count": 47,
   "metadata": {},
   "outputs": [
    {
     "data": {
      "text/plain": [
       "(30037, 2)"
      ]
     },
     "execution_count": 47,
     "metadata": {},
     "output_type": "execute_result"
    }
   ],
   "source": [
    "submit = pd.concat([pd.DataFrame(test_id.values, columns=['ID']), pd.DataFrame(predb, columns=['Approved'])], axis=1)\n",
    "submit.shape"
   ]
  },
  {
   "cell_type": "code",
   "execution_count": 48,
   "metadata": {
    "collapsed": true
   },
   "outputs": [],
   "source": [
    "submit.to_csv('xgb-ext-date.csv',index=False)"
   ]
  },
  {
   "cell_type": "code",
   "execution_count": null,
   "metadata": {
    "collapsed": true
   },
   "outputs": [],
   "source": []
  },
  {
   "cell_type": "code",
   "execution_count": 22,
   "metadata": {
    "collapsed": true
   },
   "outputs": [],
   "source": [
    "clf.save_model('xgb_0.852586.model')"
   ]
  },
  {
   "cell_type": "code",
   "execution_count": null,
   "metadata": {
    "collapsed": true
   },
   "outputs": [],
   "source": []
  },
  {
   "cell_type": "code",
   "execution_count": null,
   "metadata": {
    "collapsed": true
   },
   "outputs": [],
   "source": []
  },
  {
   "cell_type": "code",
   "execution_count": 441,
   "metadata": {
    "collapsed": true
   },
   "outputs": [],
   "source": [
    "roc_auc_score?"
   ]
  },
  {
   "cell_type": "code",
   "execution_count": null,
   "metadata": {
    "collapsed": true
   },
   "outputs": [],
   "source": []
  },
  {
   "cell_type": "code",
   "execution_count": 442,
   "metadata": {},
   "outputs": [
    {
     "data": {
      "text/plain": [
       "(30037, 2)"
      ]
     },
     "execution_count": 442,
     "metadata": {},
     "output_type": "execute_result"
    }
   ],
   "source": [
    "submit2 = pd.concat([pd.DataFrame(test_id.values, columns=['ID']), pd.DataFrame(pred, columns=['Approved'])], axis=1)\n",
    "submit2.shape"
   ]
  },
  {
   "cell_type": "code",
   "execution_count": 449,
   "metadata": {},
   "outputs": [
    {
     "data": {
      "text/plain": [
       "0.9834325467976762"
      ]
     },
     "execution_count": 449,
     "metadata": {},
     "output_type": "execute_result"
    }
   ],
   "source": [
    "accuracy_score(y_test, [0]*y_test.shape[0])"
   ]
  },
  {
   "cell_type": "code",
   "execution_count": null,
   "metadata": {
    "collapsed": true
   },
   "outputs": [],
   "source": []
  },
  {
   "cell_type": "code",
   "execution_count": null,
   "metadata": {
    "collapsed": true
   },
   "outputs": [],
   "source": []
  },
  {
   "cell_type": "code",
   "execution_count": null,
   "metadata": {
    "collapsed": true
   },
   "outputs": [],
   "source": []
  },
  {
   "cell_type": "code",
   "execution_count": null,
   "metadata": {
    "collapsed": true
   },
   "outputs": [],
   "source": []
  },
  {
   "cell_type": "code",
   "execution_count": null,
   "metadata": {
    "collapsed": true
   },
   "outputs": [],
   "source": []
  },
  {
   "cell_type": "code",
   "execution_count": null,
   "metadata": {
    "collapsed": true
   },
   "outputs": [],
   "source": []
  },
  {
   "cell_type": "markdown",
   "metadata": {},
   "source": [
    "___"
   ]
  },
  {
   "cell_type": "code",
   "execution_count": 276,
   "metadata": {},
   "outputs": [
    {
     "data": {
      "text/plain": [
       "array([0.87807502, 1.        , 0.99992828, 1.        , 0.98759145])"
      ]
     },
     "execution_count": 276,
     "metadata": {},
     "output_type": "execute_result"
    }
   ],
   "source": [
    "cross_val_score(RandomForestClassifier(n_estimators=50, n_jobs=24), df.iloc[:,:-1], df.iloc[:,-1], cv=5)"
   ]
  },
  {
   "cell_type": "code",
   "execution_count": null,
   "metadata": {
    "collapsed": true
   },
   "outputs": [],
   "source": []
  },
  {
   "cell_type": "code",
   "execution_count": 76,
   "metadata": {},
   "outputs": [
    {
     "data": {
      "text/plain": [
       "RandomForestClassifier(bootstrap=True, class_weight=None, criterion='gini',\n",
       "            max_depth=None, max_features='auto', max_leaf_nodes=None,\n",
       "            min_impurity_decrease=0.0, min_impurity_split=None,\n",
       "            min_samples_leaf=1, min_samples_split=2,\n",
       "            min_weight_fraction_leaf=0.0, n_estimators=50, n_jobs=1,\n",
       "            oob_score=False, random_state=None, verbose=0,\n",
       "            warm_start=False)"
      ]
     },
     "execution_count": 76,
     "metadata": {},
     "output_type": "execute_result"
    }
   ],
   "source": [
    "fr = RandomForestClassifier(n_estimators=50)\n",
    "fr"
   ]
  },
  {
   "cell_type": "code",
   "execution_count": 77,
   "metadata": {},
   "outputs": [
    {
     "data": {
      "text/plain": [
       "RandomForestClassifier(bootstrap=True, class_weight=None, criterion='gini',\n",
       "            max_depth=None, max_features='auto', max_leaf_nodes=None,\n",
       "            min_impurity_decrease=0.0, min_impurity_split=None,\n",
       "            min_samples_leaf=1, min_samples_split=2,\n",
       "            min_weight_fraction_leaf=0.0, n_estimators=50, n_jobs=1,\n",
       "            oob_score=False, random_state=None, verbose=0,\n",
       "            warm_start=False)"
      ]
     },
     "execution_count": 77,
     "metadata": {},
     "output_type": "execute_result"
    }
   ],
   "source": [
    "fr.fit(df.iloc[:,:-1], df.iloc[:,-1])"
   ]
  },
  {
   "cell_type": "code",
   "execution_count": null,
   "metadata": {
    "collapsed": true
   },
   "outputs": [],
   "source": [
    "fr.predict_log_proba"
   ]
  }
 ],
 "metadata": {
  "kernelspec": {
   "display_name": "Python 2",
   "language": "python",
   "name": "python2"
  },
  "language_info": {
   "codemirror_mode": {
    "name": "ipython",
    "version": 2
   },
   "file_extension": ".py",
   "mimetype": "text/x-python",
   "name": "python",
   "nbconvert_exporter": "python",
   "pygments_lexer": "ipython2",
   "version": "2.7.13"
  }
 },
 "nbformat": 4,
 "nbformat_minor": 2
}
