{
 "cells": [
  {
   "cell_type": "code",
   "execution_count": 1,
   "metadata": {
    "collapsed": true
   },
   "outputs": [],
   "source": [
    "import os\n",
    "import pandas as pd\n",
    "from time import ctime\n",
    "from lxml import etree\n",
    "import requests\n",
    "os.chdir('/home/shj16110/weekly/')"
   ]
  },
  {
   "cell_type": "code",
   "execution_count": 28,
   "metadata": {},
   "outputs": [
    {
     "name": "stdout",
     "output_type": "stream",
     "text": [
      "208031\n"
     ]
    }
   ],
   "source": [
    "folder='./Combined_final_htmls/'\n",
    "names = os.listdir(folder)\n",
    "print len(names)"
   ]
  },
  {
   "cell_type": "code",
   "execution_count": 29,
   "metadata": {},
   "outputs": [
    {
     "name": "stdout",
     "output_type": "stream",
     "text": [
      "Sun Dec 17 09:42:40 2017 : processed 1\n",
      "Sun Dec 17 09:44:47 2017 : processed 5000\n",
      "Sun Dec 17 09:47:07 2017 : processed 10000\n",
      "Sun Dec 17 09:49:59 2017 : processed 15000\n",
      "Sun Dec 17 09:52:21 2017 : processed 20000\n",
      "Sun Dec 17 09:54:43 2017 : processed 25000\n",
      "Sun Dec 17 09:57:04 2017 : processed 30000\n",
      "Sun Dec 17 09:59:56 2017 : processed 35000\n",
      "Sun Dec 17 10:02:18 2017 : processed 40000\n",
      "Sun Dec 17 10:04:42 2017 : processed 45000\n",
      "Sun Dec 17 10:07:01 2017 : processed 50000\n",
      "Sun Dec 17 10:09:56 2017 : processed 55000\n",
      "Sun Dec 17 10:12:20 2017 : processed 60000\n",
      "Sun Dec 17 10:14:41 2017 : processed 65000\n",
      "Sun Dec 17 10:17:18 2017 : processed 70000\n",
      "Sun Dec 17 10:20:07 2017 : processed 75000\n",
      "Sun Dec 17 10:22:28 2017 : processed 80000\n",
      "Sun Dec 17 10:24:48 2017 : processed 85000\n",
      "Sun Dec 17 10:27:32 2017 : processed 90000\n",
      "Sun Dec 17 10:30:22 2017 : processed 95000\n",
      "Sun Dec 17 10:32:42 2017 : processed 100000\n",
      "Sun Dec 17 10:35:02 2017 : processed 105000\n",
      "Sun Dec 17 10:37:58 2017 : processed 110000\n",
      "Sun Dec 17 10:40:19 2017 : processed 115000\n",
      "Sun Dec 17 10:42:42 2017 : processed 120000\n",
      "Sun Dec 17 10:45:02 2017 : processed 125000\n",
      "Sun Dec 17 10:47:57 2017 : processed 130000\n",
      "Sun Dec 17 10:50:19 2017 : processed 135000\n",
      "Sun Dec 17 10:52:41 2017 : processed 140000\n",
      "Sun Dec 17 10:55:02 2017 : processed 145000\n",
      "Sun Dec 17 10:57:55 2017 : processed 150000\n",
      "Sun Dec 17 11:00:26 2017 : processed 155000\n",
      "Sun Dec 17 11:02:48 2017 : processed 160000\n",
      "Sun Dec 17 11:05:10 2017 : processed 165000\n",
      "Sun Dec 17 11:08:07 2017 : processed 170000\n",
      "Sun Dec 17 11:10:30 2017 : processed 175000\n",
      "Sun Dec 17 11:12:52 2017 : processed 180000\n",
      "Sun Dec 17 11:15:37 2017 : processed 185000\n",
      "Sun Dec 17 11:18:10 2017 : processed 190000\n",
      "Sun Dec 17 11:20:31 2017 : processed 195000\n",
      "Sun Dec 17 11:22:52 2017 : processed 200000\n",
      "Sun Dec 17 11:25:43 2017 : processed 205000\n",
      "11816 196215\n"
     ]
    }
   ],
   "source": [
    "n=0\n",
    "failed2=[]\n",
    "collect_fail=[]\n",
    "\n",
    "for i in names:\n",
    "    n+=1\n",
    "    if n%5000==0 or n==1:\n",
    "        print ctime(), ': processed', n\n",
    "    \n",
    "    with open(folder+i,'r') as fl:\n",
    "        text=fl.read()\n",
    "        tree=etree.HTML(text)\n",
    "    try:\n",
    "        collect_fail.append([i, tree.xpath('//h1[@class=\"margin-h1\"]/text()')[0].strip()[1:]])\n",
    "    except Exception as e:\n",
    "        failed2.append(i)\n",
    "        \n",
    "print len(collect_fail), len(failed2)"
   ]
  },
  {
   "cell_type": "code",
   "execution_count": 30,
   "metadata": {},
   "outputs": [
    {
     "data": {
      "text/plain": [
       "(11816, 2)"
      ]
     },
     "execution_count": 30,
     "metadata": {},
     "output_type": "execute_result"
    }
   ],
   "source": [
    "df = pd.DataFrame(collect_fail, columns=['path','reason'])\n",
    "df.shape"
   ]
  },
  {
   "cell_type": "code",
   "execution_count": 36,
   "metadata": {},
   "outputs": [
    {
     "data": {
      "text/plain": [
       "ccount Closed         11799\n",
       "ccount Unavailable       17\n",
       "Name: reason, dtype: int64"
      ]
     },
     "execution_count": 36,
     "metadata": {},
     "output_type": "execute_result"
    }
   ],
   "source": [
    "df['reason'].value_counts()"
   ]
  },
  {
   "cell_type": "code",
   "execution_count": 53,
   "metadata": {
    "collapsed": true
   },
   "outputs": [],
   "source": [
    "df.to_csv('closedAccount.csv', index=False)"
   ]
  },
  {
   "cell_type": "code",
   "execution_count": 32,
   "metadata": {},
   "outputs": [
    {
     "data": {
      "text/plain": [
       "196215"
      ]
     },
     "execution_count": 32,
     "metadata": {},
     "output_type": "execute_result"
    }
   ],
   "source": [
    "len(failed2)"
   ]
  },
  {
   "cell_type": "code",
   "execution_count": 42,
   "metadata": {},
   "outputs": [
    {
     "name": "stdout",
     "output_type": "stream",
     "text": [
      "['rrpteltd.html', 'techit99.html', 'tsoutsoune.html', 'triangle2000.html', 'smily.html', 'webcase.html', 'tiabil.html', 'patilamit813.html', 'radumihai.html', 'ratman2050.html']\n"
     ]
    }
   ],
   "source": [
    "print failed2[:10]"
   ]
  },
  {
   "cell_type": "code",
   "execution_count": 38,
   "metadata": {},
   "outputs": [
    {
     "data": {
      "text/plain": [
       "(208031, 2)"
      ]
     },
     "execution_count": 38,
     "metadata": {},
     "output_type": "execute_result"
    }
   ],
   "source": [
    "df9 = pd.read_csv('./Final_combine_username.csv')\n",
    "df9.shape"
   ]
  },
  {
   "cell_type": "code",
   "execution_count": 50,
   "metadata": {},
   "outputs": [
    {
     "data": {
      "text/plain": [
       "196215"
      ]
     },
     "execution_count": 50,
     "metadata": {},
     "output_type": "execute_result"
    }
   ],
   "source": [
    "len(set(df9['username'])-set(df['path'].str[:-5]))"
   ]
  },
  {
   "cell_type": "code",
   "execution_count": 52,
   "metadata": {},
   "outputs": [],
   "source": [
    "df['username']=df['path'].str[:-5]"
   ]
  },
  {
   "cell_type": "code",
   "execution_count": 59,
   "metadata": {},
   "outputs": [
    {
     "data": {
      "text/plain": [
       "1"
      ]
     },
     "execution_count": 59,
     "metadata": {},
     "output_type": "execute_result"
    }
   ],
   "source": [
    "df9['username'].isnull().sum()"
   ]
  },
  {
   "cell_type": "code",
   "execution_count": 60,
   "metadata": {},
   "outputs": [
    {
     "data": {
      "text/plain": [
       "0"
      ]
     },
     "execution_count": 60,
     "metadata": {},
     "output_type": "execute_result"
    }
   ],
   "source": [
    "df['username'].isnull().sum()"
   ]
  },
  {
   "cell_type": "code",
   "execution_count": 62,
   "metadata": {},
   "outputs": [
    {
     "data": {
      "text/plain": [
       "(208031, 2)"
      ]
     },
     "execution_count": 62,
     "metadata": {},
     "output_type": "execute_result"
    }
   ],
   "source": [
    "df9.shape"
   ]
  },
  {
   "cell_type": "code",
   "execution_count": 64,
   "metadata": {},
   "outputs": [
    {
     "data": {
      "text/plain": [
       "(208030, 2)"
      ]
     },
     "execution_count": 64,
     "metadata": {},
     "output_type": "execute_result"
    }
   ],
   "source": [
    "df9 = df9.dropna()\n",
    "df9.shape"
   ]
  },
  {
   "cell_type": "code",
   "execution_count": 78,
   "metadata": {},
   "outputs": [],
   "source": [
    "# %%time\n",
    "# df99 = df9[df9['username'].apply(lambda x: x in df['username'].tolist())]\n",
    "# print df99.shape"
   ]
  },
  {
   "cell_type": "code",
   "execution_count": 85,
   "metadata": {},
   "outputs": [
    {
     "data": {
      "text/plain": [
       "(196214, 2)"
      ]
     },
     "execution_count": 85,
     "metadata": {},
     "output_type": "execute_result"
    }
   ],
   "source": [
    "df10 = df9.set_index('username')[df9.set_index('username').join(df.set_index('username'))['path'].isnull()].reset_index()\n",
    "df10.shape"
   ]
  },
  {
   "cell_type": "code",
   "execution_count": 87,
   "metadata": {},
   "outputs": [],
   "source": [
    "df10.to_csv('Updated_combine_username.csv', index=False)"
   ]
  },
  {
   "cell_type": "code",
   "execution_count": 39,
   "metadata": {},
   "outputs": [
    {
     "data": {
      "text/html": [
       "<div>\n",
       "<style>\n",
       "    .dataframe thead tr:only-child th {\n",
       "        text-align: right;\n",
       "    }\n",
       "\n",
       "    .dataframe thead th {\n",
       "        text-align: left;\n",
       "    }\n",
       "\n",
       "    .dataframe tbody tr th {\n",
       "        vertical-align: top;\n",
       "    }\n",
       "</style>\n",
       "<table border=\"1\" class=\"dataframe\">\n",
       "  <thead>\n",
       "    <tr style=\"text-align: right;\">\n",
       "      <th></th>\n",
       "      <th>ori_username</th>\n",
       "      <th>username</th>\n",
       "    </tr>\n",
       "  </thead>\n",
       "  <tbody>\n",
       "    <tr>\n",
       "      <th>0</th>\n",
       "      <td>shamsher295</td>\n",
       "      <td>shamsher295</td>\n",
       "    </tr>\n",
       "    <tr>\n",
       "      <th>1</th>\n",
       "      <td>hegemon88</td>\n",
       "      <td>hegemon88</td>\n",
       "    </tr>\n",
       "    <tr>\n",
       "      <th>2</th>\n",
       "      <td>druvel</td>\n",
       "      <td>druvel</td>\n",
       "    </tr>\n",
       "    <tr>\n",
       "      <th>3</th>\n",
       "      <td>ritvick</td>\n",
       "      <td>ritvick</td>\n",
       "    </tr>\n",
       "    <tr>\n",
       "      <th>4</th>\n",
       "      <td>woodx</td>\n",
       "      <td>woodx</td>\n",
       "    </tr>\n",
       "    <tr>\n",
       "      <th>5</th>\n",
       "      <td>scutter</td>\n",
       "      <td>scutter</td>\n",
       "    </tr>\n",
       "    <tr>\n",
       "      <th>6</th>\n",
       "      <td>HealthyCoder</td>\n",
       "      <td>healthycoder</td>\n",
       "    </tr>\n",
       "    <tr>\n",
       "      <th>7</th>\n",
       "      <td>canen</td>\n",
       "      <td>canen</td>\n",
       "    </tr>\n",
       "    <tr>\n",
       "      <th>8</th>\n",
       "      <td>harishkumar1991</td>\n",
       "      <td>harishkumar1991</td>\n",
       "    </tr>\n",
       "    <tr>\n",
       "      <th>9</th>\n",
       "      <td>vishalsinghal90</td>\n",
       "      <td>vishalsinghal90</td>\n",
       "    </tr>\n",
       "    <tr>\n",
       "      <th>10</th>\n",
       "      <td>jamiecam43</td>\n",
       "      <td>jamiecam43</td>\n",
       "    </tr>\n",
       "    <tr>\n",
       "      <th>11</th>\n",
       "      <td>ALIOK1</td>\n",
       "      <td>aliok1</td>\n",
       "    </tr>\n",
       "    <tr>\n",
       "      <th>12</th>\n",
       "      <td>rcphipps</td>\n",
       "      <td>rcphipps</td>\n",
       "    </tr>\n",
       "    <tr>\n",
       "      <th>13</th>\n",
       "      <td>kaushan</td>\n",
       "      <td>kaushan</td>\n",
       "    </tr>\n",
       "    <tr>\n",
       "      <th>14</th>\n",
       "      <td>kennethtanck</td>\n",
       "      <td>kennethtanck</td>\n",
       "    </tr>\n",
       "    <tr>\n",
       "      <th>15</th>\n",
       "      <td>CFWIZ</td>\n",
       "      <td>cfwiz</td>\n",
       "    </tr>\n",
       "    <tr>\n",
       "      <th>16</th>\n",
       "      <td>mantassiurkus</td>\n",
       "      <td>mantassiurkus</td>\n",
       "    </tr>\n",
       "    <tr>\n",
       "      <th>17</th>\n",
       "      <td>rakesh540</td>\n",
       "      <td>rakesh540</td>\n",
       "    </tr>\n",
       "    <tr>\n",
       "      <th>18</th>\n",
       "      <td>syafmz</td>\n",
       "      <td>syafmz</td>\n",
       "    </tr>\n",
       "    <tr>\n",
       "      <th>19</th>\n",
       "      <td>serendipitybelle</td>\n",
       "      <td>serendipitybelle</td>\n",
       "    </tr>\n",
       "    <tr>\n",
       "      <th>20</th>\n",
       "      <td>softwareeng001</td>\n",
       "      <td>softwareeng001</td>\n",
       "    </tr>\n",
       "    <tr>\n",
       "      <th>21</th>\n",
       "      <td>kwesitenkorang</td>\n",
       "      <td>kwesitenkorang</td>\n",
       "    </tr>\n",
       "    <tr>\n",
       "      <th>22</th>\n",
       "      <td>arjenb</td>\n",
       "      <td>arjenb</td>\n",
       "    </tr>\n",
       "    <tr>\n",
       "      <th>23</th>\n",
       "      <td>snuggles</td>\n",
       "      <td>snuggles</td>\n",
       "    </tr>\n",
       "    <tr>\n",
       "      <th>24</th>\n",
       "      <td>livecoders</td>\n",
       "      <td>livecoders</td>\n",
       "    </tr>\n",
       "    <tr>\n",
       "      <th>25</th>\n",
       "      <td>sixtyfourthbit</td>\n",
       "      <td>sixtyfourthbit</td>\n",
       "    </tr>\n",
       "    <tr>\n",
       "      <th>26</th>\n",
       "      <td>rikardo2041</td>\n",
       "      <td>rikardo2041</td>\n",
       "    </tr>\n",
       "    <tr>\n",
       "      <th>27</th>\n",
       "      <td>kannan02</td>\n",
       "      <td>kannan02</td>\n",
       "    </tr>\n",
       "    <tr>\n",
       "      <th>28</th>\n",
       "      <td>travelhead</td>\n",
       "      <td>travelhead</td>\n",
       "    </tr>\n",
       "    <tr>\n",
       "      <th>29</th>\n",
       "      <td>Aumbss</td>\n",
       "      <td>aumbss</td>\n",
       "    </tr>\n",
       "    <tr>\n",
       "      <th>...</th>\n",
       "      <td>...</td>\n",
       "      <td>...</td>\n",
       "    </tr>\n",
       "    <tr>\n",
       "      <th>208001</th>\n",
       "      <td>michaelrosenits</td>\n",
       "      <td>michaelrosenits</td>\n",
       "    </tr>\n",
       "    <tr>\n",
       "      <th>208002</th>\n",
       "      <td>antoinettecheek</td>\n",
       "      <td>antoinettecheek</td>\n",
       "    </tr>\n",
       "    <tr>\n",
       "      <th>208003</th>\n",
       "      <td>lmsanch</td>\n",
       "      <td>lmsanch</td>\n",
       "    </tr>\n",
       "    <tr>\n",
       "      <th>208004</th>\n",
       "      <td>ravenspoint</td>\n",
       "      <td>ravenspoint</td>\n",
       "    </tr>\n",
       "    <tr>\n",
       "      <th>208005</th>\n",
       "      <td>twenty1stcentury</td>\n",
       "      <td>twenty1stcentury</td>\n",
       "    </tr>\n",
       "    <tr>\n",
       "      <th>208006</th>\n",
       "      <td>killerz1983</td>\n",
       "      <td>killerz1983</td>\n",
       "    </tr>\n",
       "    <tr>\n",
       "      <th>208007</th>\n",
       "      <td>YourWebGurus</td>\n",
       "      <td>yourwebgurus</td>\n",
       "    </tr>\n",
       "    <tr>\n",
       "      <th>208008</th>\n",
       "      <td>IntraMedia</td>\n",
       "      <td>intramedia</td>\n",
       "    </tr>\n",
       "    <tr>\n",
       "      <th>208009</th>\n",
       "      <td>kubarski</td>\n",
       "      <td>kubarski</td>\n",
       "    </tr>\n",
       "    <tr>\n",
       "      <th>208010</th>\n",
       "      <td>webcredo</td>\n",
       "      <td>webcredo</td>\n",
       "    </tr>\n",
       "    <tr>\n",
       "      <th>208011</th>\n",
       "      <td>avishnev</td>\n",
       "      <td>avishnev</td>\n",
       "    </tr>\n",
       "    <tr>\n",
       "      <th>208012</th>\n",
       "      <td>tuanphuong</td>\n",
       "      <td>tuanphuong</td>\n",
       "    </tr>\n",
       "    <tr>\n",
       "      <th>208013</th>\n",
       "      <td>devratna</td>\n",
       "      <td>devratna</td>\n",
       "    </tr>\n",
       "    <tr>\n",
       "      <th>208014</th>\n",
       "      <td>HcubeIndia</td>\n",
       "      <td>hcubeindia</td>\n",
       "    </tr>\n",
       "    <tr>\n",
       "      <th>208015</th>\n",
       "      <td>vorsilva</td>\n",
       "      <td>vorsilva</td>\n",
       "    </tr>\n",
       "    <tr>\n",
       "      <th>208016</th>\n",
       "      <td>hstudiovn</td>\n",
       "      <td>hstudiovn</td>\n",
       "    </tr>\n",
       "    <tr>\n",
       "      <th>208017</th>\n",
       "      <td>zubairahmed2012</td>\n",
       "      <td>zubairahmed2012</td>\n",
       "    </tr>\n",
       "    <tr>\n",
       "      <th>208018</th>\n",
       "      <td>hayleyrichardson</td>\n",
       "      <td>hayleyrichardson</td>\n",
       "    </tr>\n",
       "    <tr>\n",
       "      <th>208019</th>\n",
       "      <td>lougr464</td>\n",
       "      <td>lougr464</td>\n",
       "    </tr>\n",
       "    <tr>\n",
       "      <th>208020</th>\n",
       "      <td>sevtech</td>\n",
       "      <td>sevtech</td>\n",
       "    </tr>\n",
       "    <tr>\n",
       "      <th>208021</th>\n",
       "      <td>benimur4</td>\n",
       "      <td>benimur4</td>\n",
       "    </tr>\n",
       "    <tr>\n",
       "      <th>208022</th>\n",
       "      <td>jamespass1</td>\n",
       "      <td>jamespass1</td>\n",
       "    </tr>\n",
       "    <tr>\n",
       "      <th>208023</th>\n",
       "      <td>wilej2</td>\n",
       "      <td>wilej2</td>\n",
       "    </tr>\n",
       "    <tr>\n",
       "      <th>208024</th>\n",
       "      <td>ShivankDwivedi</td>\n",
       "      <td>shivankdwivedi</td>\n",
       "    </tr>\n",
       "    <tr>\n",
       "      <th>208025</th>\n",
       "      <td>Screengates</td>\n",
       "      <td>screengates</td>\n",
       "    </tr>\n",
       "    <tr>\n",
       "      <th>208026</th>\n",
       "      <td>touchninspire</td>\n",
       "      <td>touchninspire</td>\n",
       "    </tr>\n",
       "    <tr>\n",
       "      <th>208027</th>\n",
       "      <td>shas13</td>\n",
       "      <td>shas13</td>\n",
       "    </tr>\n",
       "    <tr>\n",
       "      <th>208028</th>\n",
       "      <td>lnewlin</td>\n",
       "      <td>lnewlin</td>\n",
       "    </tr>\n",
       "    <tr>\n",
       "      <th>208029</th>\n",
       "      <td>vsnaidu9959</td>\n",
       "      <td>vsnaidu9959</td>\n",
       "    </tr>\n",
       "    <tr>\n",
       "      <th>208030</th>\n",
       "      <td>narseesoft</td>\n",
       "      <td>narseesoft</td>\n",
       "    </tr>\n",
       "  </tbody>\n",
       "</table>\n",
       "<p>208031 rows × 2 columns</p>\n",
       "</div>"
      ],
      "text/plain": [
       "            ori_username          username\n",
       "0            shamsher295       shamsher295\n",
       "1              hegemon88         hegemon88\n",
       "2                 druvel            druvel\n",
       "3                ritvick           ritvick\n",
       "4                  woodx             woodx\n",
       "5                scutter           scutter\n",
       "6           HealthyCoder      healthycoder\n",
       "7                  canen             canen\n",
       "8        harishkumar1991   harishkumar1991\n",
       "9        vishalsinghal90   vishalsinghal90\n",
       "10            jamiecam43        jamiecam43\n",
       "11                ALIOK1            aliok1\n",
       "12              rcphipps          rcphipps\n",
       "13               kaushan           kaushan\n",
       "14          kennethtanck      kennethtanck\n",
       "15                 CFWIZ             cfwiz\n",
       "16         mantassiurkus     mantassiurkus\n",
       "17             rakesh540         rakesh540\n",
       "18                syafmz            syafmz\n",
       "19      serendipitybelle  serendipitybelle\n",
       "20        softwareeng001    softwareeng001\n",
       "21        kwesitenkorang    kwesitenkorang\n",
       "22                arjenb            arjenb\n",
       "23              snuggles          snuggles\n",
       "24            livecoders        livecoders\n",
       "25        sixtyfourthbit    sixtyfourthbit\n",
       "26           rikardo2041       rikardo2041\n",
       "27              kannan02          kannan02\n",
       "28            travelhead        travelhead\n",
       "29                Aumbss            aumbss\n",
       "...                  ...               ...\n",
       "208001   michaelrosenits   michaelrosenits\n",
       "208002   antoinettecheek   antoinettecheek\n",
       "208003           lmsanch           lmsanch\n",
       "208004       ravenspoint       ravenspoint\n",
       "208005  twenty1stcentury  twenty1stcentury\n",
       "208006       killerz1983       killerz1983\n",
       "208007      YourWebGurus      yourwebgurus\n",
       "208008        IntraMedia        intramedia\n",
       "208009          kubarski          kubarski\n",
       "208010          webcredo          webcredo\n",
       "208011          avishnev          avishnev\n",
       "208012        tuanphuong        tuanphuong\n",
       "208013          devratna          devratna\n",
       "208014        HcubeIndia        hcubeindia\n",
       "208015          vorsilva          vorsilva\n",
       "208016         hstudiovn         hstudiovn\n",
       "208017   zubairahmed2012   zubairahmed2012\n",
       "208018  hayleyrichardson  hayleyrichardson\n",
       "208019          lougr464          lougr464\n",
       "208020           sevtech           sevtech\n",
       "208021          benimur4          benimur4\n",
       "208022        jamespass1        jamespass1\n",
       "208023            wilej2            wilej2\n",
       "208024    ShivankDwivedi    shivankdwivedi\n",
       "208025       Screengates       screengates\n",
       "208026     touchninspire     touchninspire\n",
       "208027            shas13            shas13\n",
       "208028           lnewlin           lnewlin\n",
       "208029       vsnaidu9959       vsnaidu9959\n",
       "208030        narseesoft        narseesoft\n",
       "\n",
       "[208031 rows x 2 columns]"
      ]
     },
     "execution_count": 39,
     "metadata": {},
     "output_type": "execute_result"
    }
   ],
   "source": [
    "df9"
   ]
  },
  {
   "cell_type": "code",
   "execution_count": 89,
   "metadata": {},
   "outputs": [],
   "source": [
    "!cp Updated_combine_username.csv ../notebook/5Dec2017/"
   ]
  },
  {
   "cell_type": "code",
   "execution_count": null,
   "metadata": {
    "collapsed": true
   },
   "outputs": [],
   "source": []
  }
 ],
 "metadata": {
  "kernelspec": {
   "display_name": "Python 2",
   "language": "python",
   "name": "python2"
  },
  "language_info": {
   "codemirror_mode": {
    "name": "ipython",
    "version": 2
   },
   "file_extension": ".py",
   "mimetype": "text/x-python",
   "name": "python",
   "nbconvert_exporter": "python",
   "pygments_lexer": "ipython2",
   "version": "2.7.13"
  }
 },
 "nbformat": 4,
 "nbformat_minor": 2
}
