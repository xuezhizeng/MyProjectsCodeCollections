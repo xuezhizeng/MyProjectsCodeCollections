{
 "cells": [
  {
   "cell_type": "code",
   "execution_count": 1,
   "metadata": {
    "collapsed": true
   },
   "outputs": [],
   "source": [
    "import pandas as pd\n",
    "import pymysql\n",
    "import time\n",
    "import os"
   ]
  },
  {
   "cell_type": "code",
   "execution_count": 2,
   "metadata": {
    "collapsed": true
   },
   "outputs": [],
   "source": [
    "path='data/'"
   ]
  },
  {
   "cell_type": "code",
   "execution_count": 4,
   "metadata": {
    "collapsed": true
   },
   "outputs": [],
   "source": [
    "diary_id = 4\n"
   ]
  },
  {
   "cell_type": "code",
   "execution_count": 5,
   "metadata": {
    "collapsed": true
   },
   "outputs": [],
   "source": [
    "def getDF(diary_id):\n",
    "    diary_map={1:'diary_2',2:'diary_3',3:'diary_8',4:'diary_9'}\n",
    "    fl = [i for i in os.listdir(path) if i.startswith(diary_map[diary_id])]\n",
    "#     print len(fl)\n",
    "    fl = [i for i in fl if os.stat(path+i).st_size/1024/1024.0>1.5]\n",
    "#     print len(fl)\n",
    "    \n",
    "    coll=[]\n",
    "    for i in fl:\n",
    "        df0 = pd.read_csv(path+i)\n",
    "        df0['serial']=int(i.split('_')[-1].split('.csv')[0])\n",
    "        coll.append(df0)\n",
    "        del df0\n",
    "    print len(coll)\n",
    "\n",
    "    df = pd.concat(coll,axis=0)\n",
    "    print df.shape\n",
    "    print 'remove null post_id'\n",
    "    df = df[(~df['post_ID'].isnull())]\n",
    "    print df.shape    \n",
    "    \n",
    "    seq = sorted(df['serial'].unique())\n",
    "    date = ['2018-02-21','2018-02-22','2018-02-23','2018-02-24','2018-02-25']\n",
    "    times = {i:j for i,j in zip(seq,date)}\n",
    "    df['date']=df['serial'].map(times)\n",
    "    \n",
    "    df['post_ID'] = df['post_ID'].astype('int')\n",
    "    print 'drop duplicates'\n",
    "    print df.shape\n",
    "    df = df.drop_duplicates()\n",
    "    print df.shape\n",
    "    df = df[['post_ID','date','comments','favor','views']]\n",
    "    \n",
    "    return df\n",
    "\n",
    "\n",
    "    "
   ]
  },
  {
   "cell_type": "markdown",
   "metadata": {},
   "source": [
    "### post_ID is not null"
   ]
  },
  {
   "cell_type": "code",
   "execution_count": 6,
   "metadata": {
    "collapsed": true
   },
   "outputs": [],
   "source": [
    "from secret import dburl, dbusername, dbpasswd\n",
    "from time import time\n",
    "\n",
    "db = pymysql.connect(host=dburl,    # your host, usually localhost\n",
    "                     user=dbusername,         # your username\n",
    "                     passwd=dbpasswd,  # your password\n",
    "                     port=3306,\n",
    "                     db=\"research\",\n",
    "                     charset='utf8')\n",
    "\n",
    "cur=db.cursor()"
   ]
  },
  {
   "cell_type": "code",
   "execution_count": 7,
   "metadata": {
    "collapsed": true
   },
   "outputs": [],
   "source": [
    "def BatchInsert(df):\n",
    "    \n",
    "    df=df[['post_ID','date','comments','favor','views']]\n",
    "    batch = [df.iloc[n*10000:(n+1)*10000,:] for n in range(0 ,int(df.shape[0]/10000.0)+1)]\n",
    "    \n",
    "    start=time()\n",
    "    n=0\n",
    "    for d in batch:\n",
    "        \n",
    "        sql = \"\"\"insert ignore into monitorpost values {}\"\"\".format(str(map(lambda x: tuple(x),d.values))[1:-1])\n",
    "        n+=1\n",
    "        cur.execute(sql)\n",
    "        db.commit()\n",
    "        print n,'{:.2f}s |'.format(time()-start),\n",
    "        start=time()\n",
    "\n",
    "    "
   ]
  },
  {
   "cell_type": "code",
   "execution_count": 8,
   "metadata": {},
   "outputs": [
    {
     "name": "stdout",
     "output_type": "stream",
     "text": [
      "18\n",
      "(2542492, 5)\n",
      "remove null post_id\n",
      "(560461, 5)\n",
      "drop duplicates\n",
      "(560461, 6)\n",
      "(560461, 6)\n",
      "(560461, 5)\n",
      "CPU times: user 916 ms, sys: 204 ms, total: 1.12 s\n",
      "Wall time: 1.2 s\n"
     ]
    }
   ],
   "source": [
    "%%time\n",
    "df = getDF(4)\n",
    "print df.shape"
   ]
  },
  {
   "cell_type": "code",
   "execution_count": 9,
   "metadata": {},
   "outputs": [
    {
     "name": "stdout",
     "output_type": "stream",
     "text": [
      "1 1.82s | 2 1.86s | 3 1.88s | 4 1.76s | 5 1.88s | 6 1.85s | 7 1.81s | 8 1.77s | 9 1.73s | 10 1.81s | 11 1.86s | 12 1.76s | 13 1.78s | 14 1.74s | 15 1.76s | 16 1.75s | 17 1.76s | 18 1.73s | 19 1.77s | 20 1.81s | 21 1.98s | 22 1.83s | 23 1.88s | 24 1.88s | 25 1.87s | 26 1.72s | 27 1.80s | 28 1.75s | 29 1.80s | 30 1.79s | 31 1.73s | 32 1.72s | 33 1.82s | 34 1.81s | 35 1.83s | 36 1.79s | 37 1.81s | 38 1.83s | 39 1.86s | 40 1.81s | 41 1.74s | 42 1.73s | 43 1.84s | 44 1.93s | 45 2.39s | 46 2.43s | 47 1.79s | 48 1.79s | 49 1.80s | 50 1.72s | 51 1.73s | 52 1.70s | 53 1.84s | 54 1.78s | 55 1.72s | 56 1.76s | 57 0.13s |CPU times: user 1.79 s, sys: 60 ms, total: 1.85 s\n",
      "Wall time: 1min 42s\n",
      "\n"
     ]
    }
   ],
   "source": [
    "%%time\n",
    "BatchInsert(df)"
   ]
  },
  {
   "cell_type": "code",
   "execution_count": null,
   "metadata": {
    "collapsed": true
   },
   "outputs": [],
   "source": []
  }
 ],
 "metadata": {
  "kernelspec": {
   "display_name": "Python 2",
   "language": "python",
   "name": "python2"
  },
  "language_info": {
   "codemirror_mode": {
    "name": "ipython",
    "version": 2
   },
   "file_extension": ".py",
   "mimetype": "text/x-python",
   "name": "python",
   "nbconvert_exporter": "python",
   "pygments_lexer": "ipython2",
   "version": "2.7.13"
  }
 },
 "nbformat": 4,
 "nbformat_minor": 2
}
