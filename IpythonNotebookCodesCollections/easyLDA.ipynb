{
 "cells": [
  {
   "cell_type": "code",
   "execution_count": 4,
   "metadata": {},
   "outputs": [],
   "source": [
    "from easyLDA import PipelineLDA"
   ]
  },
  {
   "cell_type": "code",
   "execution_count": 3,
   "metadata": {
    "collapsed": true
   },
   "outputs": [],
   "source": [
    "def main():\n",
    "    path = raw_input('the PATH of the csv file with just one column and each row should be one document: ')\n",
    "    print '1/7: load file'\n",
    "    lda = PipelineLDA(path)\n",
    "    print '2/7: preprocessing docs'\n",
    "    lda.split()\n",
    "    print '3/7: create doc dictionary'\n",
    "    lda.create_dictionary()\n",
    "    print '4/7: create doc corpus'\n",
    "    lda.create_corpus()\n",
    "    print '5/7: train LDA model'\n",
    "    lda.train()\n",
    "    print '6/7: save trained LDA model'\n",
    "    lda.save()\n",
    "    print '7/7: visualize LDA model result'\n",
    "    lda.visualize()\n",
    "    print 'done'\n"
   ]
  },
  {
   "cell_type": "code",
   "execution_count": 5,
   "metadata": {
    "collapsed": true
   },
   "outputs": [],
   "source": [
    "lda = PipelineLDA('./dream_text.csv')"
   ]
  },
  {
   "cell_type": "code",
   "execution_count": 9,
   "metadata": {},
   "outputs": [
    {
     "data": {
      "text/plain": [
       "''"
      ]
     },
     "execution_count": 9,
     "metadata": {},
     "output_type": "execute_result"
    }
   ],
   "source": [
    "lda.name"
   ]
  },
  {
   "cell_type": "code",
   "execution_count": 17,
   "metadata": {},
   "outputs": [
    {
     "data": {
      "text/plain": [
       "'dream_text'"
      ]
     },
     "execution_count": 17,
     "metadata": {},
     "output_type": "execute_result"
    }
   ],
   "source": [
    "lda.path.split('.')[-2].split('/')[-1]"
   ]
  },
  {
   "cell_type": "code",
   "execution_count": 18,
   "metadata": {},
   "outputs": [
    {
     "data": {
      "text/plain": [
       "'dream_text'"
      ]
     },
     "execution_count": 18,
     "metadata": {},
     "output_type": "execute_result"
    }
   ],
   "source": [
    "'dream_text.csv'.split('.')[-2].split('/')[-1]"
   ]
  },
  {
   "cell_type": "code",
   "execution_count": 22,
   "metadata": {},
   "outputs": [
    {
     "data": {
      "text/plain": [
       "'Many years into my future, I am driving a car to the apartment I had once lived in at Purdue University. It was married student housing. I knew the dream was me in my future. However, in real life at that time, I was living in that apartment, and dreaming of visiting the apartment when I was much older.  Back to the dream...When I arrived, I parked my car in the parking lot of the married student housing. There were several people standing outside looking up into the southern sky. Clouds started to gather in the sky. As we watched, the clouds got thicker and darker, and more people gathered to watch. As I stood and watched, the sky became black. The moon turned red like blood. The sun was greyed out. Darkness overtook the daylight. As we were standing there still looking up at the sky, I heard a very deep bell toll three times. On the final toll, I felt every molecule in my body separate apart, and I woke up from the dream quoting \"dividing asunder soul and spirit\". I was so stunned by my experience and glad to be alive that I walked outside into the sunlight, fell to my knees, and kissed the ground. I didn\\'t care who was watching.This dream happened many years ago, but has never left my memory. I can still feel every molecule in my body separating when I recall the dream. The scripture I was speaking when I woke up from the dream is part of Hebrews 4:12. The location of the dream is West Lafayette, Indiana.'"
      ]
     },
     "execution_count": 22,
     "metadata": {},
     "output_type": "execute_result"
    }
   ],
   "source": [
    "lda.series[0]"
   ]
  },
  {
   "cell_type": "code",
   "execution_count": 24,
   "metadata": {},
   "outputs": [],
   "source": [
    "import pandas as pd\n",
    "from time import time, ctime\n",
    "\n",
    "from nltk.corpus import stopwords\n",
    "from nltk.stem.wordnet import WordNetLemmatizer\n",
    "import string\n",
    "from gensim.models.phrases import Phraser, Phrases\n",
    "\n",
    "stopwords = set(stopwords.words('english'))\n",
    "punctuation = set(string.punctuation)\n",
    "lemmatize = WordNetLemmatizer()\n",
    "\n",
    "from collections import defaultdict\n",
    "# from stop import stop\n",
    "\n",
    "\n",
    "import gensim\n",
    "from gensim import corpora\n",
    "\n",
    "import pyLDAvis.gensim\n",
    "\n",
    "from time import time\n",
    "import logging"
   ]
  },
  {
   "cell_type": "code",
   "execution_count": 32,
   "metadata": {},
   "outputs": [
    {
     "data": {
      "text/plain": [
       "<function decode>"
      ]
     },
     "execution_count": 32,
     "metadata": {},
     "output_type": "execute_result"
    }
   ],
   "source": [
    "''.decode"
   ]
  },
  {
   "cell_type": "code",
   "execution_count": 83,
   "metadata": {
    "collapsed": true
   },
   "outputs": [],
   "source": [
    "def clean(article):\n",
    "    try:\n",
    "        article = str(article).decode('unicode_escape').encode('utf-8')\n",
    "    except:\n",
    "        article = str(article)\n",
    "    \n",
    "    zero = \"\".join(i for i in article if i not in punctuation)\n",
    "\n",
    "    one = \" \".join([i for i in zero.lower().split() if i not in stopwords])\n",
    "    \n",
    "    try:\n",
    "        three = \" \".join(lemmatize.lemmatize(i) for i in one.split())\n",
    "    except:\n",
    "        three = \" \".join(lemmatize.lemmatize(i.decode('unicode_escape').encode('utf-8')) for i in one.split())\n",
    "    return three\n"
   ]
  },
  {
   "cell_type": "code",
   "execution_count": 84,
   "metadata": {},
   "outputs": [
    {
     "data": {
      "text/plain": [
       "u'I was standing on a muddy path by a frozen river. I saw a red Citro\\xebn 2CV car stuck in the ice in the river. I walked along the path by the river. I carried behind me a small blue boat. I believe it was Jahushua Himself who carried the boat in front of Him, behind me. Seasons past. At Spring time I slipped and fell. A blade of Samphas grass pierced the skin between my right thumb and forefinger. Some bugs which were on the blade of grass entered into the skin and it closed over. I then saw the Landlady of the Cambridge Arms pub in Bordeaux.(I was born in Cambridge) I frolicked restlessly as I was so disturbed because of the bugs under my skin. The landlady held a pin in her hand. She waited and waited as I frolicked. Then suddenly she brought down the pin between my right thumb and forefinger and the bugs all exited rapidly. The last bug to leave was bigger than all the other bugs. Dream ended.'"
      ]
     },
     "execution_count": 84,
     "metadata": {},
     "output_type": "execute_result"
    }
   ],
   "source": [
    "lda.series.head(7)[6].decode('unicode_escape')"
   ]
  },
  {
   "cell_type": "code",
   "execution_count": 85,
   "metadata": {},
   "outputs": [
    {
     "data": {
      "text/plain": [
       "u'standing muddy path frozen river saw red citro\\xebn 2cv car stuck ice river walked along path river carried behind small blue boat believe jahushua carried boat front behind season past spring time slipped fell blade samphas grass pierced skin right thumb forefinger bug blade grass entered skin closed saw landlady cambridge arm pub bordeauxi born cambridge frolicked restlessly disturbed bug skin landlady held pin hand waited waited frolicked suddenly brought pin right thumb forefinger bug exited rapidly last bug leave bigger bug dream ended'"
      ]
     },
     "execution_count": 85,
     "metadata": {},
     "output_type": "execute_result"
    }
   ],
   "source": [
    "clean(lda.series[6])"
   ]
  },
  {
   "cell_type": "code",
   "execution_count": 86,
   "metadata": {},
   "outputs": [
    {
     "data": {
      "text/plain": [
       "0        many year future driving car apartment lived p...\n",
       "1        living boyfriend mother home petaluma ca later...\n",
       "2        first dream remember knocking paper boy knocke...\n",
       "3        im sitting church school building someone behi...\n",
       "4        room standing next derek prince sitting chair ...\n",
       "5        dreamt apartment top huge mountain god reclini...\n",
       "6        standing muddy path frozen river saw red citro...\n",
       "7        dreamed gave birth six son day within hour did...\n",
       "8        told would gather many nation like noah gather...\n",
       "9        dreamed new house physically moved neighborhoo...\n",
       "10       heard sound rushing water coming sink opened c...\n",
       "11       outer space space ship hitting alien ship look...\n",
       "12       group people like refugee prisoner war like je...\n",
       "13       bed asleep woke dream television fox news rick...\n",
       "14       trying figure needed wash hair day three knew ...\n",
       "15       woke nap dream dreamt dream two part first beg...\n",
       "16       woke nap dream dreamt dream two part first beg...\n",
       "17       dream last night interesting remember driving ...\n",
       "18       pool boy went water apparently drowning pool e...\n",
       "19       standing front porch beach house looking ocean...\n",
       "20       sitting bed bedroom looked noticed stomach res...\n",
       "21       saw dean friend brother christ nude huggedembr...\n",
       "22       dream opened dean friend man god walking room ...\n",
       "23       orb float room full monitor different dream pe...\n",
       "24       first watching climbing like mountain climbing...\n",
       "25       living room wide awake talking dean friend min...\n",
       "26       dream walking john paul jackson trying tell dr...\n",
       "27       john paul jackson wooded path vehicle went fal...\n",
       "28       side could see man wheelchair open door lookin...\n",
       "29       room tom hank wheelchair military feelsuddenly...\n",
       "                               ...                        \n",
       "45712    612 terry beach resort seem different area go ...\n",
       "45713    im large buffet beth charge cooking chicken 1s...\n",
       "45714    honored public setting people said exceeded mo...\n",
       "45715    working school teaching art craft supply hall ...\n",
       "45716    547 looked clock amy call want read something ...\n",
       "45717    747 752 wrote remember bit piece im living roo...\n",
       "45718    backseat car john thomas right michael anzivin...\n",
       "45719    standing next two young peruvian preparing giv...\n",
       "45720    552 terry leaving hotel plane see 2 lg dresser...\n",
       "45721    remember 1000 payment dont know pay payment al...\n",
       "45722    adrian came tired told could lay across bed ca...\n",
       "45723    swimmer dog tile shower go check thinking migh...\n",
       "45724    1st dream im medical table lying right side wk...\n",
       "45725    430 remember sting singer also dream saw alyce...\n",
       "45726    652 im driving turning right street ehrenclou ...\n",
       "45727    dont remember much except first part wfreemaso...\n",
       "45728    7ish im kitchen eating mention want eat time s...\n",
       "45729    woke 302 thought shelby black lab hit car many...\n",
       "45730    little 658 see 2 statute side entryway house m...\n",
       "45731    732 lady tried black skirt ruffle back red top...\n",
       "45732    404 woke wthe phrase knew write forgot dont re...\n",
       "45733    sitting desk looking laptop started talking ma...\n",
       "45734    dreamed childrens gathering costume child wear...\n",
       "45735    daughter abby 18 yr old came house living room...\n",
       "45736    dreamed held captive lowincome apartment compl...\n",
       "45737    first scene information go herecarmen thought ...\n",
       "45738    driving interstate think way grand canyon live...\n",
       "45739    5ish see bobby rampp whis family floating lazy...\n",
       "45740    745 cant remember know zoom conference 630 im ...\n",
       "45741    548 im exercise class amy crowder next talkati...\n",
       "Name: text, Length: 45742, dtype: object"
      ]
     },
     "execution_count": 86,
     "metadata": {},
     "output_type": "execute_result"
    }
   ],
   "source": [
    "lda.series.apply(clean)"
   ]
  },
  {
   "cell_type": "code",
   "execution_count": 65,
   "metadata": {},
   "outputs": [
    {
     "data": {
      "text/plain": [
       "u'liberator verb action word action stagnant wasting away busy making move making wave making change consistent repeat action think christ liberator constantly moving word god action stagnant wasting away ever living making move making wave making change u consistent repeat action grace continual repeat mercy continual repeat love overflow end love ponder definition liberator describes message cross resurrection made u free bondage wether self imposed others even enemy freehe released u power world social prejudice injusticeshe stolen heart soul away given u spirit spirit lord isthere libertyblessings alllove ya liberator vb 1 give liberty make free 2 release something esp gas chemical combination chemical reaction 3 release occupation subjugation foreign power 4 free social prejudice injustice 5 euphemistic facetious steal'"
      ]
     },
     "execution_count": 65,
     "metadata": {},
     "output_type": "execute_result"
    }
   ],
   "source": [
    "clean(lda.series[788])"
   ]
  },
  {
   "cell_type": "code",
   "execution_count": 88,
   "metadata": {},
   "outputs": [],
   "source": [
    "import nltk"
   ]
  },
  {
   "cell_type": "code",
   "execution_count": 89,
   "metadata": {
    "collapsed": true
   },
   "outputs": [],
   "source": [
    "from nltk.corpus import stopwords\n",
    "from nltk.stem import wordnet"
   ]
  },
  {
   "cell_type": "code",
   "execution_count": null,
   "metadata": {
    "collapsed": true
   },
   "outputs": [],
   "source": []
  }
 ],
 "metadata": {
  "kernelspec": {
   "display_name": "new2",
   "language": "python",
   "name": "new2"
  },
  "language_info": {
   "codemirror_mode": {
    "name": "ipython",
    "version": 2
   },
   "file_extension": ".py",
   "mimetype": "text/x-python",
   "name": "python",
   "nbconvert_exporter": "python",
   "pygments_lexer": "ipython2",
   "version": "2.7.14"
  }
 },
 "nbformat": 4,
 "nbformat_minor": 2
}
