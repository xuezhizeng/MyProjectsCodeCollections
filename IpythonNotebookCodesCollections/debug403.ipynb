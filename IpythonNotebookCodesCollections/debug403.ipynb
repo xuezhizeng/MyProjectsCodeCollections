{
 "cells": [
  {
   "cell_type": "code",
   "execution_count": 20,
   "metadata": {
    "collapsed": true
   },
   "outputs": [],
   "source": [
    "# coding: utf-8\n",
    "\n",
    "# import sys\n",
    "# reload(sys)\n",
    "# sys.setdefaultencoding(\"utf-8\")\n",
    "\n",
    "headers = {'User-Agent': 'Mozilla/5.0 (Macintosh; Intel Mac OS X 10_11_5)\\\n",
    "AppleWebKit/537.36 (KHTML, like Gecko) Chrome/50.0.2661.102 Safari/537.36'}\n",
    "\n",
    "\n",
    "import pandas as pd\n",
    "import os\n",
    "from time import time, ctime\n",
    "import requests\n",
    "\n",
    "def getsingle(ID):\n",
    "    global fail, n\n",
    "    n+=1\n",
    "    if n%5000==0 or n==1:\n",
    "        print ctime(), 'of ', n, 'failed', len(fail)\n",
    "    try:\n",
    "        one=requests.get(diary_link.format(ID), timeout=10, headers=headers)\n",
    "        if one.status_code==200:\n",
    "        \n",
    "            with open(folder+'{}.html'.format(ID), 'w+') as fl:\n",
    "\n",
    "                fl.write(one.text)\n",
    "    #     print 'O',        \n",
    "        else:\n",
    "            print 'X:',one.status_code,\n",
    "            \n",
    "    except:\n",
    "#         print 'X',\n",
    "        try:\n",
    "            getsingle(ID)\n",
    "        \n",
    "        except:\n",
    "            try:\n",
    "                getsingle(ID)\n",
    "            except:\n",
    "                fail.append(ID)"
   ]
  },
  {
   "cell_type": "code",
   "execution_count": 2,
   "metadata": {},
   "outputs": [
    {
     "name": "stdout",
     "output_type": "stream",
     "text": [
      "did17_7.csv\r\n"
     ]
    }
   ],
   "source": [
    "!ls|grep 7"
   ]
  },
  {
   "cell_type": "code",
   "execution_count": 3,
   "metadata": {},
   "outputs": [
    {
     "name": "stdout",
     "output_type": "stream",
     "text": [
      "start scraping Tue Jan 23 16:46:29 2018\n",
      "10142 (10142, 1)\n"
     ]
    }
   ],
   "source": [
    "diary_index_path = 'did17_7.csv'\n",
    "df=pd.read_csv(diary_index_path, usecols=['group_id'])\n",
    "\n",
    "print 'start scraping', ctime()\n",
    "print len(df['group_id'].unique()), df.shape\n",
    "\n",
    "all_ids=df['group_id'].tolist()"
   ]
  },
  {
   "cell_type": "code",
   "execution_count": 4,
   "metadata": {},
   "outputs": [
    {
     "data": {
      "text/plain": [
       "5388262"
      ]
     },
     "execution_count": 4,
     "metadata": {},
     "output_type": "execute_result"
    }
   ],
   "source": [
    "all_ids[0]"
   ]
  },
  {
   "cell_type": "code",
   "execution_count": 5,
   "metadata": {
    "collapsed": true
   },
   "outputs": [],
   "source": [
    "diary_link = \"http://www.soyoung.com/dpg{}\"\n"
   ]
  },
  {
   "cell_type": "code",
   "execution_count": 6,
   "metadata": {
    "collapsed": true
   },
   "outputs": [],
   "source": [
    "n=0\n",
    "fail=[]"
   ]
  },
  {
   "cell_type": "code",
   "execution_count": 7,
   "metadata": {
    "collapsed": true
   },
   "outputs": [],
   "source": [
    "# getsingle(all_ids[0])"
   ]
  },
  {
   "cell_type": "code",
   "execution_count": 8,
   "metadata": {},
   "outputs": [
    {
     "data": {
      "text/plain": [
       "'http://www.soyoung.com/dpg6179153'"
      ]
     },
     "execution_count": 8,
     "metadata": {},
     "output_type": "execute_result"
    }
   ],
   "source": [
    "diary_link.format(all_ids[100])"
   ]
  },
  {
   "cell_type": "code",
   "execution_count": 18,
   "metadata": {
    "collapsed": true
   },
   "outputs": [],
   "source": [
    "headers = {'User-Agent':'Opera/9.80 (X11; Linux i686; U; en) Presto/2.5.27 Version/10.60'}"
   ]
  },
  {
   "cell_type": "code",
   "execution_count": null,
   "metadata": {
    "collapsed": true
   },
   "outputs": [],
   "source": []
  },
  {
   "cell_type": "code",
   "execution_count": 21,
   "metadata": {},
   "outputs": [
    {
     "data": {
      "text/plain": [
       "<Response [200]>"
      ]
     },
     "execution_count": 21,
     "metadata": {},
     "output_type": "execute_result"
    }
   ],
   "source": [
    "one=requests.get('http://www.soyoung.com/dpg6179153', timeout=10, headers = headers)\n",
    "one"
   ]
  },
  {
   "cell_type": "code",
   "execution_count": 22,
   "metadata": {},
   "outputs": [
    {
     "data": {
      "text/plain": [
       "<Response [200]>"
      ]
     },
     "execution_count": 22,
     "metadata": {},
     "output_type": "execute_result"
    }
   ],
   "source": [
    "one=requests.get('!', timeout=10)\n",
    "one"
   ]
  },
  {
   "cell_type": "code",
   "execution_count": 23,
   "metadata": {},
   "outputs": [
    {
     "name": "stdout",
     "output_type": "stream",
     "text": [
      "docker0   Link encap:Ethernet  HWaddr 02:42:a4:bb:da:9a  \r\n",
      "          inet addr:172.17.0.1  Bcast:0.0.0.0  Mask:255.255.0.0\r\n",
      "          inet6 addr: fe80::42:a4ff:febb:da9a/64 Scope:Link\r\n",
      "          UP BROADCAST RUNNING MULTICAST  MTU:1500  Metric:1\r\n",
      "          RX packets:311 errors:0 dropped:0 overruns:0 frame:0\r\n",
      "          TX packets:840 errors:0 dropped:0 overruns:0 carrier:0\r\n",
      "          collisions:0 txqueuelen:0 \r\n",
      "          RX bytes:129885 (129.8 KB)  TX bytes:72558 (72.5 KB)\r\n",
      "\r\n",
      "eth0      Link encap:Ethernet  HWaddr 14:dd:a9:8e:2f:1d  \r\n",
      "          inet addr:32.210.102.232  Bcast:32.210.103.255  Mask:255.255.252.0\r\n",
      "          inet6 addr: fe80::16dd:a9ff:fe8e:2f1d/64 Scope:Link\r\n",
      "          UP BROADCAST RUNNING MULTICAST  MTU:1500  Metric:1\r\n",
      "          RX packets:38209427 errors:0 dropped:0 overruns:0 frame:0\r\n",
      "          TX packets:36375645 errors:0 dropped:0 overruns:0 carrier:0\r\n",
      "          collisions:0 txqueuelen:1000 \r\n",
      "          RX bytes:39421160083 (39.4 GB)  TX bytes:23354022997 (23.3 GB)\r\n",
      "          Interrupt:20 Memory:f7800000-f7820000 \r\n",
      "\r\n",
      "lo        Link encap:Local Loopback  \r\n",
      "          inet addr:127.0.0.1  Mask:255.0.0.0\r\n",
      "          inet6 addr: ::1/128 Scope:Host\r\n",
      "          UP LOOPBACK RUNNING  MTU:65536  Metric:1\r\n",
      "          RX packets:85935041 errors:0 dropped:0 overruns:0 frame:0\r\n",
      "          TX packets:85935041 errors:0 dropped:0 overruns:0 carrier:0\r\n",
      "          collisions:0 txqueuelen:1 \r\n",
      "          RX bytes:87734019349 (87.7 GB)  TX bytes:87734019349 (87.7 GB)\r\n",
      "\r\n",
      "veth3b18af7 Link encap:Ethernet  HWaddr 02:8a:05:6e:1c:d7  \r\n",
      "          inet6 addr: fe80::8a:5ff:fe6e:1cd7/64 Scope:Link\r\n",
      "          UP BROADCAST RUNNING MULTICAST  MTU:1500  Metric:1\r\n",
      "          RX packets:0 errors:0 dropped:0 overruns:0 frame:0\r\n",
      "          TX packets:694 errors:0 dropped:0 overruns:0 carrier:0\r\n",
      "          collisions:0 txqueuelen:0 \r\n",
      "          RX bytes:0 (0.0 B)  TX bytes:69125 (69.1 KB)\r\n",
      "\r\n"
     ]
    }
   ],
   "source": [
    "!ifconfig"
   ]
  },
  {
   "cell_type": "code",
   "execution_count": null,
   "metadata": {
    "collapsed": true
   },
   "outputs": [],
   "source": []
  }
 ],
 "metadata": {
  "kernelspec": {
   "display_name": "Python 2",
   "language": "python",
   "name": "python2"
  },
  "language_info": {
   "codemirror_mode": {
    "name": "ipython",
    "version": 2
   },
   "file_extension": ".py",
   "mimetype": "text/x-python",
   "name": "python",
   "nbconvert_exporter": "python",
   "pygments_lexer": "ipython2",
   "version": "2.7.13"
  }
 },
 "nbformat": 4,
 "nbformat_minor": 2
}
