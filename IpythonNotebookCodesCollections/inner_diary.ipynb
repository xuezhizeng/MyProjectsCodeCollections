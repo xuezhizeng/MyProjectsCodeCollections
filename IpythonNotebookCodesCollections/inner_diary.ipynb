{
 "cells": [
  {
   "cell_type": "code",
   "execution_count": 2,
   "metadata": {
    "collapsed": true
   },
   "outputs": [],
   "source": [
    "import requests\n",
    "import json\n",
    "from json2df import flatten_dict\n",
    "import pandas as pd\n",
    "from lxml import etree"
   ]
  },
  {
   "cell_type": "code",
   "execution_count": 3,
   "metadata": {
    "collapsed": true
   },
   "outputs": [],
   "source": [
    "ID = 5204375"
   ]
  },
  {
   "cell_type": "code",
   "execution_count": 4,
   "metadata": {},
   "outputs": [
    {
     "data": {
      "text/plain": [
       "'http://www.soyoung.com/dpg5204375'"
      ]
     },
     "execution_count": 4,
     "metadata": {},
     "output_type": "execute_result"
    }
   ],
   "source": [
    "link = \"http://www.soyoung.com/dpg{}\".format(ID)\n",
    "link"
   ]
  },
  {
   "cell_type": "code",
   "execution_count": 8,
   "metadata": {},
   "outputs": [
    {
     "data": {
      "text/plain": [
       "<Element html at 0x2b14399a8638>"
      ]
     },
     "execution_count": 8,
     "metadata": {},
     "output_type": "execute_result"
    }
   ],
   "source": [
    "a = requests.get(link)\n",
    "c = etree.HTML(a.text)\n",
    "c"
   ]
  },
  {
   "cell_type": "markdown",
   "metadata": {},
   "source": [
    "### map product"
   ]
  },
  {
   "cell_type": "code",
   "execution_count": 31,
   "metadata": {
    "collapsed": true
   },
   "outputs": [],
   "source": [
    "i = c.xpath('//div[@class=\"value product-name\"]/a')"
   ]
  },
  {
   "cell_type": "code",
   "execution_count": 33,
   "metadata": {},
   "outputs": [
    {
     "data": {
      "text/plain": [
       "[('href', 'http://y.soyoung.com/cp114162')]"
      ]
     },
     "execution_count": 33,
     "metadata": {},
     "output_type": "execute_result"
    }
   ],
   "source": [
    "i[0].items()"
   ]
  },
  {
   "cell_type": "code",
   "execution_count": 35,
   "metadata": {},
   "outputs": [
    {
     "name": "stdout",
     "output_type": "stream",
     "text": [
      "【瑞蓝玻尿酸0.5ml】【消费送新年礼包】有口皆碑的玻尿酸 美丽无痕 安心变美 每人限拍1单\n"
     ]
    }
   ],
   "source": [
    "print i[0].text"
   ]
  },
  {
   "cell_type": "markdown",
   "metadata": {},
   "source": [
    "### find posts"
   ]
  },
  {
   "cell_type": "code",
   "execution_count": 245,
   "metadata": {
    "collapsed": true
   },
   "outputs": [],
   "source": [
    "# //*[@id=\"mengceng-box\"]/div[2]/ul/li[2]"
   ]
  },
  {
   "cell_type": "code",
   "execution_count": 249,
   "metadata": {
    "collapsed": true
   },
   "outputs": [],
   "source": [
    "j = c.xpath('//li[@class=\"diary-item\"]')"
   ]
  },
  {
   "cell_type": "code",
   "execution_count": 250,
   "metadata": {
    "collapsed": true
   },
   "outputs": [],
   "source": [
    "t, d = j[0], j[1]"
   ]
  },
  {
   "cell_type": "code",
   "execution_count": 251,
   "metadata": {},
   "outputs": [
    {
     "data": {
      "text/plain": [
       "'li'"
      ]
     },
     "execution_count": 251,
     "metadata": {},
     "output_type": "execute_result"
    }
   ],
   "source": [
    "t.tag"
   ]
  },
  {
   "cell_type": "code",
   "execution_count": 252,
   "metadata": {},
   "outputs": [
    {
     "name": "stdout",
     "output_type": "stream",
     "text": [
      "['__class__', '__contains__', '__copy__', '__deepcopy__', '__delattr__', '__delitem__', '__doc__', '__format__', '__getattribute__', '__getitem__', '__hash__', '__init__', '__iter__', '__len__', '__new__', '__nonzero__', '__reduce__', '__reduce_ex__', '__repr__', '__reversed__', '__setattr__', '__setitem__', '__sizeof__', '__str__', '__subclasshook__', '_init', 'addnext', 'addprevious', 'append', 'attrib', 'base', 'clear', 'cssselect', 'extend', 'find', 'findall', 'findtext', 'get', 'getchildren', 'getiterator', 'getnext', 'getparent', 'getprevious', 'getroottree', 'index', 'insert', 'items', 'iter', 'iterancestors', 'iterchildren', 'iterdescendants', 'iterfind', 'itersiblings', 'itertext', 'keys', 'makeelement', 'nsmap', 'prefix', 'remove', 'replace', 'set', 'sourceline', 'tag', 'tail', 'text', 'values', 'xpath']\n"
     ]
    }
   ],
   "source": [
    "print dir(t)"
   ]
  },
  {
   "cell_type": "markdown",
   "metadata": {},
   "source": [
    "https://www.w3schools.com/xml/xpath_syntax.asp"
   ]
  },
  {
   "cell_type": "code",
   "execution_count": 266,
   "metadata": {},
   "outputs": [
    {
     "name": "stdout",
     "output_type": "stream",
     "text": [
      "li\n",
      "span 术后第186天\n",
      "p a /p15138923?group_id=5204375 /p15138923?group_id=5204375 【玻尿酸丰面颊第186天】哈哈不知不觉已经半年啦，当初打的玻尿酸面颊的部分已经随着时间慢慢自己消耗掉了。现在可能还残留一小部分？哈哈总之呢没有什么特别的感觉~玻尿酸的便捷度真的是高于手术类项目一百倍!记得当时打完之后就正常的该干\n",
      "ul\n",
      "a /p15138923?group_id=5204375 img http://img2.soyoung.com/tieba/web/20171023/7/20171023154110234_152_152.jpg\n",
      "a /p15138923?group_id=5204375 img http://img2.soyoung.com/tieba/web/20171023/8/20171023153509881_152_152.jpg\n",
      "a /p15138923?group_id=5204375 img http://img2.soyoung.com/tieba/web/20171023/2/20171023153528693_152_152.jpg\n",
      "a /p15138923?group_id=5204375 img http://img2.soyoung.com/tieba/web/20171023/3/20171023153555103_152_152.jpg\n",
      "a /p15138923?group_id=5204375 img http://img2.soyoung.com/tieba/web/20171023/5/20171023153627164_152_152.jpg\n",
      "div 7\n",
      "2017-10-23 15:54:34\n",
      "icon views\n",
      "2160\n",
      "icon comments\n",
      "8\n",
      "icon favor\n",
      "0\n"
     ]
    }
   ],
   "source": [
    "try:\n",
    "    print t.tag\n",
    "    print t[0].tag, t[0].text\n",
    "    print t[1].tag, t[1][0].tag, t[1][0].xpath('./@href')[0], t[1][0].items()[-1][-1],t[1][0].text\n",
    "    \n",
    "    print t[2].tag\n",
    "    for g in t[2]:\n",
    "        print g[0].tag, g[0].items()[-1][-1], g[0][0].tag, g[0][0].items()[2][-1]\n",
    "    print t[3].tag, len(t[3])\n",
    "    \n",
    "    for x in t[3]: \n",
    "        if x.tag=='div':print x.text\n",
    "        else: \n",
    "            if len(x)==0:print x.xpath('./@class')[0]\n",
    "            else:print x[0].text\n",
    "except:\n",
    "    print 'X'"
   ]
  },
  {
   "cell_type": "code",
   "execution_count": 187,
   "metadata": {},
   "outputs": [
    {
     "name": "stdout",
     "output_type": "stream",
     "text": [
      "<Element span at 0x2b143ab0f2d8>\n",
      "<Element p at 0x2b143a100cb0>\n",
      "<Element ul at 0x2b143a084440>\n",
      "<Element div at 0x2b143a0869e0>\n"
     ]
    }
   ],
   "source": [
    "for i in t:print i"
   ]
  },
  {
   "cell_type": "code",
   "execution_count": null,
   "metadata": {
    "collapsed": true
   },
   "outputs": [],
   "source": []
  },
  {
   "cell_type": "code",
   "execution_count": 189,
   "metadata": {
    "collapsed": true
   },
   "outputs": [],
   "source": [
    "# for l in t:\n",
    "#     a = l.xpath('./span[@class=\"day\"]')\n",
    "#     b = l.xpath('./p[@class=\"describe\"]')\n",
    "#     print a\n",
    "#     print b\n",
    "#     print "
   ]
  },
  {
   "cell_type": "code",
   "execution_count": 268,
   "metadata": {
    "collapsed": true
   },
   "outputs": [],
   "source": [
    "a = [1,2,3,4]"
   ]
  },
  {
   "cell_type": "code",
   "execution_count": 269,
   "metadata": {},
   "outputs": [
    {
     "ename": "ValueError",
     "evalue": "list.remove(x): x not in list",
     "output_type": "error",
     "traceback": [
      "\u001b[0;31m\u001b[0m",
      "\u001b[0;31mValueError\u001b[0mTraceback (most recent call last)",
      "\u001b[0;32m<ipython-input-269-ae1fd24e9d23>\u001b[0m in \u001b[0;36m<module>\u001b[0;34m()\u001b[0m\n\u001b[0;32m----> 1\u001b[0;31m \u001b[0ma\u001b[0m\u001b[0;34m.\u001b[0m\u001b[0mremove\u001b[0m\u001b[0;34m(\u001b[0m\u001b[0;36m0\u001b[0m\u001b[0;34m)\u001b[0m\u001b[0;34m\u001b[0m\u001b[0m\n\u001b[0m",
      "\u001b[0;31mValueError\u001b[0m: list.remove(x): x not in list"
     ]
    }
   ],
   "source": [
    "a.remove(0)"
   ]
  },
  {
   "cell_type": "code",
   "execution_count": 44,
   "metadata": {},
   "outputs": [
    {
     "name": "stdout",
     "output_type": "stream",
     "text": [
      "http://y.soyoung.com/cp55737\n",
      "【伊婉玻尿酸1ml】韩国进口玻尿酸 丰下巴头丰眉弓丰苹果肌隆鼻泪沟法令纹 大分子玻尿酸\n"
     ]
    }
   ],
   "source": [
    "ID = 7085323\n",
    "\n",
    "link = \"http://www.soyoung.com/dpg{}\".format(ID)\n",
    "\n",
    "a = requests.get(link)\n",
    "c = etree.HTML(a.text)\n",
    "\n",
    "i = c.xpath('//div[@class=\"value product-name\"]/a')\n",
    "print i[0].items()[-1][-1]\n",
    "print i[0].text\n",
    "\n",
    "j = c.xpath('//li[@class=\"diary-item\"]')\n",
    "_, t = j[0], j[1]"
   ]
  },
  {
   "cell_type": "code",
   "execution_count": null,
   "metadata": {
    "collapsed": true
   },
   "outputs": [],
   "source": []
  },
  {
   "cell_type": "code",
   "execution_count": 45,
   "metadata": {
    "collapsed": true
   },
   "outputs": [],
   "source": [
    "# //*[@id=\"mengceng-box\"]/div[2]/ul/li[2]/p/a/text()"
   ]
  },
  {
   "cell_type": "markdown",
   "metadata": {},
   "source": [
    "### video"
   ]
  },
  {
   "cell_type": "code",
   "execution_count": 68,
   "metadata": {},
   "outputs": [
    {
     "name": "stdout",
     "output_type": "stream",
     "text": [
      "li\n",
      "span 术后第35天\n",
      "p a /p16125464?group_id=7085323 /p16125464?group_id=7085323\n",
      "【玻尿酸丰苹果肌第35天】特意撸了一个小视频，哈哈哈，让大家欣赏一下！美无止境，适可而止。变美丽了也要变忒别哦。因为喜欢Jay所以喜欢他那首《可爱女人》，祝愿大家都能够变美变漂亮变成男神喜欢的可爱女人噢！[:66]\n",
      "div\n",
      "1\n",
      "video-poster\n",
      "/p16125464?group_id=7085323#VideoAnchor\n",
      "http://img2.soyoung.com/message/ios/20171220/9/20171220162148367_600_300.jpg\n",
      "div 7\n",
      "<Element div at 0x2b9ab6d4bdd0>\n",
      "2017-12-20 16:23:02\n",
      "icon views\n",
      "22\n",
      "icon comments\n",
      "2\n",
      "icon favor\n",
      "1\n"
     ]
    }
   ],
   "source": [
    "try:\n",
    "    print t.tag\n",
    "    print t[0].tag, t[0].text\n",
    "    print t[1].tag, t[1][0].tag, t[1][0].xpath('./@href')[0], t[1][0].items()[-1][-1]\n",
    "    print t[1][0].xpath('./text()')[0]\n",
    "    \n",
    "    print t[2].tag\n",
    "    if t[2].tag=='ul':\n",
    "        for g in t[2]:\n",
    "            print g[0].tag, g[0].items()[-1][-1], g[0][0].tag, g[0][0].items()[2][-1]\n",
    "        print t[3].tag, len(t[3])\n",
    "    else:\n",
    "        print len(t[2])\n",
    "        print t[2].xpath('./@class')[0]\n",
    "        print t[2][0].xpath('./@href')[0]\n",
    "        print t[2][0].xpath('./img')[0].xpath('./@data-img')[0]\n",
    "        \n",
    "    print t[3].tag, len(t[3])\n",
    "    \n",
    "    print t[3]\n",
    "\n",
    "    for x in t[3]: \n",
    "        if x.tag=='div':print x.text\n",
    "        else: \n",
    "            if len(x)==0:print x.xpath('./@class')[0]\n",
    "            else:print x[0].text\n",
    "except Exception as e:\n",
    "    print e\n",
    "    print 'X'"
   ]
  },
  {
   "cell_type": "code",
   "execution_count": 40,
   "metadata": {
    "collapsed": true
   },
   "outputs": [],
   "source": [
    "t=_"
   ]
  },
  {
   "cell_type": "code",
   "execution_count": 42,
   "metadata": {},
   "outputs": [
    {
     "name": "stdout",
     "output_type": "stream",
     "text": [
      "li\n",
      "span 术后第40天\n",
      "p a /p16211010?group_id=7085323 /p16211010?group_id=7085323\n",
      "【玻尿酸丰苹果肌第40天】圣诞节快乐，男神女神们，昨天晚上你们是怎么度过的？为什么我袜子都准备好了，今早还是没见到圣诞老爷爷送我的礼物噢月到年底越努力越幸运，工作的时候开开心心的工作，玩的时候开开心心的玩。昨天是平安夜，特意与\n",
      "ul\n",
      "a /p16211010?group_id=7085323 img http://img2.soyoung.com/tieba/web/20171225/5/20171225175922590_152_152.jpg\n",
      "a /p16211010?group_id=7085323 img http://img2.soyoung.com/tieba/web/20171225/9/20171225175923870_152_152.jpg\n",
      "a /p16211010?group_id=7085323 img http://img2.soyoung.com/tieba/web/20171225/8/20171225175923197_152_152.jpg\n",
      "a /p16211010?group_id=7085323 img http://img2.soyoung.com/tieba/web/20171225/8/20171225175924432_152_152.jpg\n",
      "a /p16211010?group_id=7085323 img http://img2.soyoung.com/tieba/web/20171225/0/20171225175924134_152_152.jpg\n",
      "a /p16211010?group_id=7085323 img http://img2.soyoung.com/tieba/web/20171225/7/20171225175925273_152_152.jpg\n",
      "a /p16211010?group_id=7085323 img http://img2.soyoung.com/tieba/web/20171225/0/20171225175927736_152_152.jpg\n",
      "a /p16211010?group_id=7085323 img http://img2.soyoung.com/tieba/web/20171225/2/20171225175929990_152_152.jpg\n",
      "a /p16211010?group_id=7085323 img http://img2.soyoung.com/tieba/web/20171225/7/20171225175930648_152_152.jpg\n",
      "div 7\n",
      "2017-12-25 18:01:47\n",
      "icon views\n",
      "15\n",
      "icon comments\n",
      "1\n",
      "icon favor\n",
      "0\n"
     ]
    }
   ],
   "source": [
    "try:\n",
    "    print t.tag\n",
    "    print t[0].tag, t[0].text\n",
    "    print t[1].tag, t[1][0].tag, t[1][0].xpath('./@href')[0], t[1][0].items()[-1][-1]\n",
    "    print t[1][0].xpath('./text()')[0]\n",
    "    \n",
    "    print t[2].tag\n",
    "    if t[2].tag=='ul':\n",
    "        for g in t[2]:\n",
    "            print g[0].tag, g[0].items()[-1][-1], g[0][0].tag, g[0][0].items()[2][-1]\n",
    "        print t[3].tag, len(t[3])\n",
    "    \n",
    "    for x in t[3]: \n",
    "        if x.tag=='div':print x.text\n",
    "        else: \n",
    "            if len(x)==0:print x.xpath('./@class')[0]\n",
    "            else:print x[0].text\n",
    "except:\n",
    "    print 'X'"
   ]
  },
  {
   "cell_type": "code",
   "execution_count": null,
   "metadata": {
    "collapsed": true
   },
   "outputs": [],
   "source": []
  }
 ],
 "metadata": {
  "kernelspec": {
   "display_name": "new2",
   "language": "python",
   "name": "new2"
  },
  "language_info": {
   "codemirror_mode": {
    "name": "ipython",
    "version": 2
   },
   "file_extension": ".py",
   "mimetype": "text/x-python",
   "name": "python",
   "nbconvert_exporter": "python",
   "pygments_lexer": "ipython2",
   "version": "2.7.14"
  }
 },
 "nbformat": 4,
 "nbformat_minor": 2
}
