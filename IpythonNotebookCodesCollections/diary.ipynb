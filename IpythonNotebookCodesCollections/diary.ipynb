{
 "cells": [
  {
   "cell_type": "code",
   "execution_count": 1,
   "metadata": {
    "collapsed": true
   },
   "outputs": [],
   "source": [
    "import requests\n",
    "import json\n",
    "from json2df import flatten_dict\n",
    "import pandas as pd"
   ]
  },
  {
   "cell_type": "code",
   "execution_count": 2,
   "metadata": {
    "collapsed": true
   },
   "outputs": [],
   "source": [
    "link = \"http://y.soyoung.com/cp114162?action=calendarlist\""
   ]
  },
  {
   "cell_type": "code",
   "execution_count": 4,
   "metadata": {},
   "outputs": [
    {
     "data": {
      "text/plain": [
       "100"
      ]
     },
     "execution_count": 4,
     "metadata": {},
     "output_type": "execute_result"
    }
   ],
   "source": [
    "a = requests.get(link)\n",
    "b = json.loads(a.text)\n",
    "c = b['group_list']['list']\n",
    "len(c)"
   ]
  },
  {
   "cell_type": "code",
   "execution_count": 7,
   "metadata": {},
   "outputs": [
    {
     "data": {
      "text/plain": [
       "77"
      ]
     },
     "execution_count": 7,
     "metadata": {},
     "output_type": "execute_result"
    }
   ],
   "source": [
    "d = flatten_dict(c[0], layers=3)\n",
    "len(d)"
   ]
  },
  {
   "cell_type": "code",
   "execution_count": 17,
   "metadata": {},
   "outputs": [
    {
     "name": "stdout",
     "output_type": "stream",
     "text": [
      "(100, 77)\n",
      "CPU times: user 34 ms, sys: 12 ms, total: 46 ms\n",
      "Wall time: 35.1 ms\n"
     ]
    }
   ],
   "source": [
    "%%time\n",
    "df = pd.DataFrame(map(lambda p: flatten_dict(p, layers=3), c))\n",
    "print df.shape"
   ]
  },
  {
   "cell_type": "code",
   "execution_count": 19,
   "metadata": {
    "collapsed": true
   },
   "outputs": [],
   "source": [
    "pd.options.display.max_rows=100"
   ]
  },
  {
   "cell_type": "code",
   "execution_count": 28,
   "metadata": {},
   "outputs": [
    {
     "data": {
      "text/html": [
       "<div>\n",
       "<style scoped>\n",
       "    .dataframe tbody tr th:only-of-type {\n",
       "        vertical-align: middle;\n",
       "    }\n",
       "\n",
       "    .dataframe tbody tr th {\n",
       "        vertical-align: top;\n",
       "    }\n",
       "\n",
       "    .dataframe thead th {\n",
       "        text-align: right;\n",
       "    }\n",
       "</style>\n",
       "<table border=\"1\" class=\"dataframe\">\n",
       "  <thead>\n",
       "    <tr style=\"text-align: right;\">\n",
       "      <th></th>\n",
       "      <th>0</th>\n",
       "    </tr>\n",
       "  </thead>\n",
       "  <tbody>\n",
       "    <tr>\n",
       "      <th>avatar.h</th>\n",
       "      <td>57</td>\n",
       "    </tr>\n",
       "    <tr>\n",
       "      <th>avatar.ident</th>\n",
       "      <td>lnimage</td>\n",
       "    </tr>\n",
       "    <tr>\n",
       "      <th>avatar.u</th>\n",
       "      <td>http://img2.soyoung.com/user/20170107/3/201701...</td>\n",
       "    </tr>\n",
       "    <tr>\n",
       "      <th>avatar.w</th>\n",
       "      <td>57</td>\n",
       "    </tr>\n",
       "    <tr>\n",
       "      <th>avatar.zoom</th>\n",
       "      <td>89%</td>\n",
       "    </tr>\n",
       "    <tr>\n",
       "      <th>certified_id</th>\n",
       "      <td>0</td>\n",
       "    </tr>\n",
       "    <tr>\n",
       "      <th>certified_type</th>\n",
       "      <td>0</td>\n",
       "    </tr>\n",
       "    <tr>\n",
       "      <th>create_date</th>\n",
       "      <td>2017-10-23 15:54:34</td>\n",
       "    </tr>\n",
       "    <tr>\n",
       "      <th>create_date_str</th>\n",
       "      <td>2017年10月23日</td>\n",
       "    </tr>\n",
       "    <tr>\n",
       "      <th>daren_level</th>\n",
       "      <td>False</td>\n",
       "    </tr>\n",
       "    <tr>\n",
       "      <th>daren_level_text</th>\n",
       "      <td>False</td>\n",
       "    </tr>\n",
       "    <tr>\n",
       "      <th>district_1</th>\n",
       "      <td>0</td>\n",
       "    </tr>\n",
       "    <tr>\n",
       "      <th>district_name</th>\n",
       "      <td>全国</td>\n",
       "    </tr>\n",
       "    <tr>\n",
       "      <th>end.comment_cnt</th>\n",
       "      <td>67</td>\n",
       "    </tr>\n",
       "    <tr>\n",
       "      <th>end.doctor_id</th>\n",
       "      <td>53970</td>\n",
       "    </tr>\n",
       "    <tr>\n",
       "      <th>end.doctor_name</th>\n",
       "      <td>张贝</td>\n",
       "    </tr>\n",
       "    <tr>\n",
       "      <th>end.favor_cnt</th>\n",
       "      <td>31</td>\n",
       "    </tr>\n",
       "    <tr>\n",
       "      <th>end.hospital_id</th>\n",
       "      <td>20736</td>\n",
       "    </tr>\n",
       "    <tr>\n",
       "      <th>end.hospital_name</th>\n",
       "      <td>新氧云诊所北京丽扬店</td>\n",
       "    </tr>\n",
       "    <tr>\n",
       "      <th>end.item_id</th>\n",
       "      <td>470</td>\n",
       "    </tr>\n",
       "    <tr>\n",
       "      <th>end.item_name</th>\n",
       "      <td>玻尿酸丰面颊</td>\n",
       "    </tr>\n",
       "    <tr>\n",
       "      <th>end.last_calendar_id</th>\n",
       "      <td>1472473</td>\n",
       "    </tr>\n",
       "    <tr>\n",
       "      <th>end.level</th>\n",
       "      <td>5</td>\n",
       "    </tr>\n",
       "    <tr>\n",
       "      <th>end.price</th>\n",
       "      <td>0</td>\n",
       "    </tr>\n",
       "    <tr>\n",
       "      <th>end.view_cnt</th>\n",
       "      <td>1万+</td>\n",
       "    </tr>\n",
       "    <tr>\n",
       "      <th>follow</th>\n",
       "      <td>0</td>\n",
       "    </tr>\n",
       "    <tr>\n",
       "      <th>group_id</th>\n",
       "      <td>5204375</td>\n",
       "    </tr>\n",
       "    <tr>\n",
       "      <th>group_video_yn</th>\n",
       "      <td>0</td>\n",
       "    </tr>\n",
       "    <tr>\n",
       "      <th>info_type</th>\n",
       "      <td>0</td>\n",
       "    </tr>\n",
       "    <tr>\n",
       "      <th>isDoctor</th>\n",
       "      <td>0</td>\n",
       "    </tr>\n",
       "    <tr>\n",
       "      <th>isHospital</th>\n",
       "      <td>0</td>\n",
       "    </tr>\n",
       "    <tr>\n",
       "      <th>is_daren</th>\n",
       "      <td>0</td>\n",
       "    </tr>\n",
       "    <tr>\n",
       "      <th>is_favor</th>\n",
       "      <td>0</td>\n",
       "    </tr>\n",
       "    <tr>\n",
       "      <th>is_follow</th>\n",
       "      <td>0</td>\n",
       "    </tr>\n",
       "    <tr>\n",
       "      <th>item</th>\n",
       "      <td>[{u'item_id': u'', u'item_name': u'术后当自强', u't...</td>\n",
       "    </tr>\n",
       "    <tr>\n",
       "      <th>item_id</th>\n",
       "      <td>470</td>\n",
       "    </tr>\n",
       "    <tr>\n",
       "      <th>middle.img.h</th>\n",
       "      <td>998</td>\n",
       "    </tr>\n",
       "    <tr>\n",
       "      <th>middle.img.u</th>\n",
       "      <td>http://img2.soyoung.com/face/tieba/ios/2017080...</td>\n",
       "    </tr>\n",
       "    <tr>\n",
       "      <th>middle.img.u_n</th>\n",
       "      <td>http://img2.soyoung.com/face/tieba/ios/2017080...</td>\n",
       "    </tr>\n",
       "    <tr>\n",
       "      <th>middle.img.u_z</th>\n",
       "      <td>http://img2.soyoung.com/face/tieba/ios/2017080...</td>\n",
       "    </tr>\n",
       "    <tr>\n",
       "      <th>middle.img.w</th>\n",
       "      <td>750</td>\n",
       "    </tr>\n",
       "    <tr>\n",
       "      <th>middle.str_before</th>\n",
       "      <td>术前</td>\n",
       "    </tr>\n",
       "    <tr>\n",
       "      <th>other.day_num</th>\n",
       "      <td>186</td>\n",
       "    </tr>\n",
       "    <tr>\n",
       "      <th>other.img.h</th>\n",
       "      <td>1066</td>\n",
       "    </tr>\n",
       "    <tr>\n",
       "      <th>other.img.u</th>\n",
       "      <td>http://img2.soyoung.com/face/tieba/web/2017102...</td>\n",
       "    </tr>\n",
       "    <tr>\n",
       "      <th>other.img.w</th>\n",
       "      <td>800</td>\n",
       "    </tr>\n",
       "    <tr>\n",
       "      <th>other.last_post_uid</th>\n",
       "      <td>1731958</td>\n",
       "    </tr>\n",
       "    <tr>\n",
       "      <th>other.manyi</th>\n",
       "      <td>5</td>\n",
       "    </tr>\n",
       "    <tr>\n",
       "      <th>other.post_video_img</th>\n",
       "      <td></td>\n",
       "    </tr>\n",
       "    <tr>\n",
       "      <th>other.post_video_url</th>\n",
       "      <td></td>\n",
       "    </tr>\n",
       "    <tr>\n",
       "      <th>other.post_video_yn</th>\n",
       "      <td>0</td>\n",
       "    </tr>\n",
       "    <tr>\n",
       "      <th>other.str_day_num</th>\n",
       "      <td>第186天</td>\n",
       "    </tr>\n",
       "    <tr>\n",
       "      <th>other.summary</th>\n",
       "      <td>哈哈不知不觉已经半年啦，当初打的玻尿酸面颊的部分已经随着时间慢慢自己消耗掉了。现在可能还残留...</td>\n",
       "    </tr>\n",
       "    <tr>\n",
       "      <th>other.videoDuration</th>\n",
       "      <td></td>\n",
       "    </tr>\n",
       "    <tr>\n",
       "      <th>post_id</th>\n",
       "      <td>15138923</td>\n",
       "    </tr>\n",
       "    <tr>\n",
       "      <th>post_video_yn</th>\n",
       "      <td>0</td>\n",
       "    </tr>\n",
       "    <tr>\n",
       "      <th>tag_info</th>\n",
       "      <td>[{u'related_id': u'', u'log': u'', u'team_yn':...</td>\n",
       "    </tr>\n",
       "    <tr>\n",
       "      <th>top.color</th>\n",
       "      <td>http://img1.soyoung.com/event2/app_tool/orange...</td>\n",
       "    </tr>\n",
       "    <tr>\n",
       "      <th>top.day_num</th>\n",
       "      <td>186</td>\n",
       "    </tr>\n",
       "    <tr>\n",
       "      <th>top.display_color</th>\n",
       "      <td>color_orange</td>\n",
       "    </tr>\n",
       "    <tr>\n",
       "      <th>top.img.h</th>\n",
       "      <td>1066</td>\n",
       "    </tr>\n",
       "    <tr>\n",
       "      <th>top.img.u</th>\n",
       "      <td>http://img2.soyoung.com/face/tieba/web/2017102...</td>\n",
       "    </tr>\n",
       "    <tr>\n",
       "      <th>top.img.u_n</th>\n",
       "      <td>http://img2.soyoung.com/face/tieba/web/2017102...</td>\n",
       "    </tr>\n",
       "    <tr>\n",
       "      <th>top.img.u_z</th>\n",
       "      <td>http://img2.soyoung.com/face/tieba/web/2017102...</td>\n",
       "    </tr>\n",
       "    <tr>\n",
       "      <th>top.img.w</th>\n",
       "      <td>800</td>\n",
       "    </tr>\n",
       "    <tr>\n",
       "      <th>top.post_cnt</th>\n",
       "      <td>7</td>\n",
       "    </tr>\n",
       "    <tr>\n",
       "      <th>top.post_id</th>\n",
       "      <td>15138923</td>\n",
       "    </tr>\n",
       "    <tr>\n",
       "      <th>top.post_video_img</th>\n",
       "      <td></td>\n",
       "    </tr>\n",
       "    <tr>\n",
       "      <th>top.post_video_url</th>\n",
       "      <td></td>\n",
       "    </tr>\n",
       "    <tr>\n",
       "      <th>top.post_video_yn</th>\n",
       "      <td>0</td>\n",
       "    </tr>\n",
       "    <tr>\n",
       "      <th>top.record_post_img</th>\n",
       "      <td>http://img2.soyoung.com/face/tieba/web/2017102...</td>\n",
       "    </tr>\n",
       "    <tr>\n",
       "      <th>top.str_day_num</th>\n",
       "      <td>第186天</td>\n",
       "    </tr>\n",
       "    <tr>\n",
       "      <th>top.summary</th>\n",
       "      <td>哈哈不知不觉已经半年啦，当初打的玻尿酸面颊的部分已经随着时间慢慢自己消耗掉了。现在可能还残留...</td>\n",
       "    </tr>\n",
       "    <tr>\n",
       "      <th>top.videoDuration</th>\n",
       "      <td></td>\n",
       "    </tr>\n",
       "    <tr>\n",
       "      <th>uid</th>\n",
       "      <td>1731958</td>\n",
       "    </tr>\n",
       "    <tr>\n",
       "      <th>user_level</th>\n",
       "      <td>8</td>\n",
       "    </tr>\n",
       "    <tr>\n",
       "      <th>user_name</th>\n",
       "      <td>Lily刘</td>\n",
       "    </tr>\n",
       "  </tbody>\n",
       "</table>\n",
       "</div>"
      ],
      "text/plain": [
       "                                                                      0\n",
       "avatar.h                                                             57\n",
       "avatar.ident                                                    lnimage\n",
       "avatar.u              http://img2.soyoung.com/user/20170107/3/201701...\n",
       "avatar.w                                                             57\n",
       "avatar.zoom                                                         89%\n",
       "certified_id                                                          0\n",
       "certified_type                                                        0\n",
       "create_date                                         2017-10-23 15:54:34\n",
       "create_date_str                                             2017年10月23日\n",
       "daren_level                                                       False\n",
       "daren_level_text                                                  False\n",
       "district_1                                                            0\n",
       "district_name                                                        全国\n",
       "end.comment_cnt                                                      67\n",
       "end.doctor_id                                                     53970\n",
       "end.doctor_name                                                      张贝\n",
       "end.favor_cnt                                                        31\n",
       "end.hospital_id                                                   20736\n",
       "end.hospital_name                                            新氧云诊所北京丽扬店\n",
       "end.item_id                                                         470\n",
       "end.item_name                                                    玻尿酸丰面颊\n",
       "end.last_calendar_id                                            1472473\n",
       "end.level                                                             5\n",
       "end.price                                                             0\n",
       "end.view_cnt                                                        1万+\n",
       "follow                                                                0\n",
       "group_id                                                        5204375\n",
       "group_video_yn                                                        0\n",
       "info_type                                                             0\n",
       "isDoctor                                                              0\n",
       "isHospital                                                            0\n",
       "is_daren                                                              0\n",
       "is_favor                                                              0\n",
       "is_follow                                                             0\n",
       "item                  [{u'item_id': u'', u'item_name': u'术后当自强', u't...\n",
       "item_id                                                             470\n",
       "middle.img.h                                                        998\n",
       "middle.img.u          http://img2.soyoung.com/face/tieba/ios/2017080...\n",
       "middle.img.u_n        http://img2.soyoung.com/face/tieba/ios/2017080...\n",
       "middle.img.u_z        http://img2.soyoung.com/face/tieba/ios/2017080...\n",
       "middle.img.w                                                        750\n",
       "middle.str_before                                                    术前\n",
       "other.day_num                                                       186\n",
       "other.img.h                                                        1066\n",
       "other.img.u           http://img2.soyoung.com/face/tieba/web/2017102...\n",
       "other.img.w                                                         800\n",
       "other.last_post_uid                                             1731958\n",
       "other.manyi                                                           5\n",
       "other.post_video_img                                                   \n",
       "other.post_video_url                                                   \n",
       "other.post_video_yn                                                   0\n",
       "other.str_day_num                                                 第186天\n",
       "other.summary         哈哈不知不觉已经半年啦，当初打的玻尿酸面颊的部分已经随着时间慢慢自己消耗掉了。现在可能还残留...\n",
       "other.videoDuration                                                    \n",
       "post_id                                                        15138923\n",
       "post_video_yn                                                         0\n",
       "tag_info              [{u'related_id': u'', u'log': u'', u'team_yn':...\n",
       "top.color             http://img1.soyoung.com/event2/app_tool/orange...\n",
       "top.day_num                                                         186\n",
       "top.display_color                                          color_orange\n",
       "top.img.h                                                          1066\n",
       "top.img.u             http://img2.soyoung.com/face/tieba/web/2017102...\n",
       "top.img.u_n           http://img2.soyoung.com/face/tieba/web/2017102...\n",
       "top.img.u_z           http://img2.soyoung.com/face/tieba/web/2017102...\n",
       "top.img.w                                                           800\n",
       "top.post_cnt                                                          7\n",
       "top.post_id                                                    15138923\n",
       "top.post_video_img                                                     \n",
       "top.post_video_url                                                     \n",
       "top.post_video_yn                                                     0\n",
       "top.record_post_img   http://img2.soyoung.com/face/tieba/web/2017102...\n",
       "top.str_day_num                                                   第186天\n",
       "top.summary           哈哈不知不觉已经半年啦，当初打的玻尿酸面颊的部分已经随着时间慢慢自己消耗掉了。现在可能还残留...\n",
       "top.videoDuration                                                      \n",
       "uid                                                             1731958\n",
       "user_level                                                            8\n",
       "user_name                                                         Lily刘"
      ]
     },
     "execution_count": 28,
     "metadata": {},
     "output_type": "execute_result"
    }
   ],
   "source": [
    "df.head(1).transpose()"
   ]
  },
  {
   "cell_type": "code",
   "execution_count": 22,
   "metadata": {
    "collapsed": true
   },
   "outputs": [],
   "source": [
    "df.to_excel('diary_test.xlsx', encoding='utf-8')"
   ]
  },
  {
   "cell_type": "markdown",
   "metadata": {},
   "source": [
    "### duplicates fields"
   ]
  },
  {
   "cell_type": "code",
   "execution_count": 26,
   "metadata": {},
   "outputs": [
    {
     "data": {
      "text/plain": [
       "0"
      ]
     },
     "execution_count": 26,
     "metadata": {},
     "output_type": "execute_result"
    }
   ],
   "source": [
    "(df['other.summary']!=df['top.summary']).sum()"
   ]
  },
  {
   "cell_type": "code",
   "execution_count": 29,
   "metadata": {},
   "outputs": [
    {
     "data": {
      "text/plain": [
       "0     哈哈不知不觉已经半年啦，当初打的玻尿酸面颊的部分已经随着时间慢慢自己消耗掉了。现在可能还残留...\n",
       "1     各位仙女宝宝们，好久不见！[:6]出来冒个泡也不知道有没有人想我呢？圣诞节快要来了，想要变美...\n",
       "2     不知不觉三个多月啦！鼻子也没有扩散很宽这是非常赞哒！云诊所的医生我非常信任，术后关怀也有，护...\n",
       "3     哈哈哈哈太阳穴依旧很饱满哦！该自然消吸收的已经完全消耗掉了，这期间也很注意尽量不做剧烈运动和...\n",
       "4     最近比较忙是真的忙，还是抽空来写日记简单分享一下啦！~看到自己的施打的部位真的很喜欢，还是想...\n",
       "5     哈喽宝宝们，我最近有点忙忽略了更新哈哈！现在已经28天咯~感觉已经吸收了一些和之前比是越来越...\n",
       "6     苹果肌位置圆润饱满，会让整个人显得特别年轻可爱，目前很多追求极致完美的女性，都会选择玻尿酸丰...\n",
       "7     时间过得也太快，不知不觉填充嘴唇法令纹都这么久了，这是半年左右时候的状态。玻尿酸吸收了一些，...\n",
       "8     术后第2天.今天我已经消肿很多了.我已经化妆出门了.哈哈哈哈哈哈哈给你们看看我的嘴巴.上妆以...\n",
       "9     记录了一个半月了。昨天和一个朋友见面。我提起我注射苹果肌的事情。她说其实她发现我的改变了只是...\n",
       "10    距离打完玻尿酸已经有1个月了，效果嘛[:13][:13]身边的朋友看见我都说不知道哪儿变美了...\n",
       "11    不知不觉48天了，现在有点担心一觉醒来会不会玻尿酸被全部吸收没了呢？~~相信很多宝宝都是有我...\n",
       "12    最近好忙滴说[:12][:12]然后不知不觉已经过了20天了～好开心好漂亮，自然衔接滴感觉，...\n",
       "13    前几天光顾着学车都忘记更新日记啦，天气真是太热太热，感觉热到化掉了。家里又养了一直小狗，每天...\n",
       "14    填的泪沟完全恢复自然了，还嫌不够呢，过两个月再去补点儿，泪沟没了超级饱满啊，云诊所的水光针也...\n",
       "15    这么多天一直都蛮好的，玻尿酸虽然被吸收了一点点，但是90%还在。感觉自己离网绿又近了一步，噢...\n",
       "16    感觉一个地方多打几次玻尿酸就稳定了。这次消的就没有第一次快了。也许是心理原因。[:21]感觉...\n",
       "17    今天第25天了，注射玻尿酸已经快一个月了，效果不错，鼻子挺着一直，我会考虑年后再去填充一针，...\n",
       "18    过年咯～～回老家还是有点冷啊，把我百年难得一见的羽绒服都掏出来了[:4][:4]回家之后，被...\n",
       "19    玻尿酸已近注射两个月了，效果依然很明显(⊙o⊙)哦，给大家看看侧面，还是比较自然的。上周忍不...\n",
       "20    从我的侧脸去看，可以看的到轻微的弧度了脸的两边凸起了，看的到不这张自拍是对镜子拍的。有看到苹...\n",
       "21    hello大家好～好久不见了最近有点小忙[:6]玻尿酸丰法令纹效果保持的还不错哦～比之前更自...\n",
       "22    快两个月啦下巴依然很坚挺哈哈哈哈哈，比我预期的坚挺很多呀～来来来看下效果吧再次表白新氧云诊所...\n",
       "23    哈喽，好久没有更新日记了，今天一看下巴都打了3个月了，有吸收，就是下巴没有以前感觉尖了，不过...\n",
       "24     又来更新啦～～法令纹没了，逆龄2岁不是问题！医院还会联系回访，挺好的～～余医生，真是太爱你啦！！\n",
       "25    补打太阳穴已经好多天了，最近一直忙忘记了更新，而且花样式作死的剪了个刘海，现在真的是哭的心都...\n",
       "26    周六去做了半永久纹眉，卤煮每天的早上照镜子都会被自己小新状眉毛惊呆。鼻子做了一个月了，可以随...\n",
       "27    好久没有更新日记啦，下巴现在基本定型了，和一个月前没有什么差别了，艾莉薇果然比较稳定，而且很...\n",
       "28    术后快一个月了，恢复的已经很自然了，效果超出了我的想象，开启了我的整容之旅[:20]，接来下...\n",
       "29    不知不觉过去半个多月了，脸上打的玻尿酸完全没感觉啦，看起来很自然，不过还是少打了点。水光针是...\n",
       "30    嘻嘻，今天大年初四，刚从亲戚家回来[:21]亲戚一只，夸我女大十八变，越来越美丽了，嘿嘿，看...\n",
       "31    现在已经完全恢复好，笑的时候也不会说不自然，之前因为身体原因一下瘦了好几斤下来。瞬间觉得苹果...\n",
       "32    距离上次打针33天啦现在完完全全已经是我鼻子里的一部分啦！特别特别满意！正好出去玩照相特别好...\n",
       "33    今晚有朋友过生日。我并不用各种化妆。第一，没钱买彩妆。第二，压根！不！用！画！吼吼就是这么凑...\n",
       "34             术后一个多月啦，已经完全适应了跟自己的一样，希望大家可以变美变漂亮，一起美美哒！\n",
       "35    时间过得真快[:0]转眼已经2017年了，最开心的事莫过于年龄在涨，容颜不变，用尽各种方法让...\n",
       "36    做完山根的某一天!想说来点不一样的!就跑去预约染头发了,来个彻底大改变,连我御用的设计师都吓...\n",
       "37       化了口红，现在左边下嘴唇有些青紫，两个“花瓣”摸着有些硬，再恢复恢复看看吧！不过还是挺满意的\n",
       "38    ???圣诞节也要过来和大家分享我得完美蜕变！今天第十八天，感觉每天都会有一点点得变化，一点点...\n",
       "39                     16天了[:0]到家就照，留个脚印，等吸收了，我会继续的[:6]\n",
       "40    过完年更篇日记咯，已经打法令纹快一个月了，没有刚开始效果那么好啦，肯定是吸收了一部分，毕竟过...\n",
       "41    好久没更新了，没了法令纹看着真的小了不是一两岁哦，看着照片里的自己都不太敢认了，我最近有很努...\n",
       "42    玻尿酸丰下巴已经打完20天了下巴淤青的地方终于也消了感觉这次注射的有点不均匀下巴不协调凹凸不...\n",
       "43    十一假期结束鸟感觉胖了好多！回北京赶紧减肥！每逢佳节胖五斤！但是有了下巴感觉胖了好多也看不出...\n",
       "44    宝宝们我又来啦！今天是做完嘴巴的第16天，最近有点忙所以米有及时更新！嘴巴现在完全自然了！先...\n",
       "45    不知不觉已经第37天啦，丰法令纹这个项目的效果比较微妙。因为我的法令纹并不是很深，只是鼻翼两...\n",
       "46                                    现在很自然但上唇还是有些薄想补一下\n",
       "47    好久没有来跟各位宝宝分享了，现在了脸型依旧很完美哦，各种照片都hold住，看来暂时不用补打，...\n",
       "48                            [:66][:66][:66][:66][:66]\n",
       "49                  下巴已经基本恢复很好了。只是最近很累休息不好，总是长痘，话不多说，上图\n",
       "50    啦啦啦，开心的呢……感觉自己美美哒……现在尝试着用手摸它了呢。能感觉到它的存在哦。没有太多其...\n",
       "51    打玻尿酸下巴整整一个月了都说女生和女神的差别就是两支玻尿酸的距离为了变得更有女神范那两支玻尿...\n",
       "52    已经没有疼痛感了，一切都很正常。宝宝用尽全身的力气来自拍为了告诉你们我是个有高鼻子和美下巴的...\n",
       "53    注射微整真是安全快捷又立竿见影！现在玻尿酸已经完全自然啦，大家最近总说我精神了，却看不出哪里...\n",
       "54    已经过了半个月了，恢复的很好，个别部位摸着有点硬，不过医生说这是正常情况。对表情没有影响，做...\n",
       "55    整整一周了～本来约的今天复诊，不过一切正常且效果满意，就不必跑去诊所啦！鼻子真心挺自然的，变...\n",
       "56                                             越来越自然，喜欢\n",
       "57                     已经灰常灰常自然了[:21][:21][:21]脸部线条比较流畅\n",
       "58    已经有11天慢慢在吸收感觉打完下巴脸一下就瘦下来了视觉效果不错现在这个长度刚好之前下巴有点不...\n",
       "59    这是刚做完的照片，人傻真的没得救，我发的那个满脸白白的是敷的麻药，因为要做水光所以敷了全脸，...\n",
       "60          嗯，第四天，基本完全消肿，下巴没有任何同感了，尖尖的，有点朝前翘，都想以后去做个假体啦\n",
       "61    好久没来发帖子啦～～最近忙着工作，谈恋爱，每天感觉睡觉的时间都那么可贵。王医生打鼻子真心不错...\n",
       "62    完全没有任何不适…已经正常的投入工作…前几天，大概在术后第5天的时候，不小心吃了很辣的东西还...\n",
       "63    打了法令纹有几天了，[:100]今天去游泳水太冷了就蒸了一会桑拿，蒸完才想起来刚刚打了玻尿酸...\n",
       "64                                            第七天～～有变化哦\n",
       "65    已经第11天啦～～完全没有什么不适应的感觉。Po两张素颜照，很明显的自己的眉骨附近显得更深邃...\n",
       "66    这个店真的是好忙好忙啊大概因为搞活动？连续约两个都时间排满了不得不往后推了半个月到店后也是各...\n",
       "67    可能天气太热，容易出汗，玻尿酸流失一点快，现在眉心已经摸到软软的了没刚开始硬立体了，后续再补...\n",
       "68       今天基本已经恢复了，整个脸看起来更立体了，脸部显得也比原来瘦了。总的来说是非常满意的一次注射\n",
       "69             有了下巴越来越自信了！每一次拍照感觉都美美哒！继续保持！喜欢现在的自己[:13]\n",
       "70    好开心噢，今天出去约会我的朋友们夸我说我变漂亮了，就是不知道哪里变样了[:20]我想说鼻子真...\n",
       "71    我已经一个月了，效果和安全性都可以认可的，有明显改变，不会有白打的感觉、而且自然。咱家的卫生...\n",
       "72    今天是术后一星期感觉吸收的很，而且皮肤很有光泽也很饱满，之前凹陷的脸颊已经完全看不出来了，看...\n",
       "73    面部轮廓填充已经三天了，现在看着只有一丢丢肿，摸起来稍微有一点疼，其他感觉特别好，看着轮廓比...\n",
       "74                                             和之前的一起说了\n",
       "75    效果真真的满意的现在已经半个月了与最初的效果相比较那叫一个完美啊哈哈已经有找医生复诊看过啦医...\n",
       "76    今天术后第五天了呢对比之前发过的玻尿酸来讲这次发现这款玻尿酸塑形效果确实很好不过术后的第二三...\n",
       "77    注射的法思丽玻尿酸一支，肉毒放松40u，本身下巴基础也不是太差，只是在原有的基础上修饰了线条...\n",
       "78    第二天起来的时候其实是有点肿的。因为肿了，其实玻尿酸填起来的愣就根本看不出来了。实在是太自然...\n",
       "79    特别开心的是，在注射后的第27天效果依然那么好。那天看到高中同学的妈妈，她问我：你是逆生长吗...\n",
       "80    效果不错，整个脸型都变了一些，一个星期了，还是有硬块，不知道都吸收了是什么效果，应该不会是硬...\n",
       "81    已经注射完一个多月快两个月了，自己也对比一下之前图片，然后觉得稍微比之前吸收了一点点吧，但是...\n",
       "82    现在呢，宝宝差不多和大家一样，有一个看得见的鼻子啦，虽然不是特别挺翘的那种，但这个高度很适合...\n",
       "83    已经3天了，第二天就不肿不疼了，鼻梁看起来也更挺了一些，但是弧度很柔和自然，是我喜欢的款。晚...\n",
       "84    好了，时间过的可真是快，又到了和宝宝们分享变美过程中的小变化了。转眼已经一个多月了，眼睛肯定...\n",
       "85    今天约的11点半，出了地铁还蛮好找，a口出。走两分钟左右。一进大门感觉装修什么的还蛮上档次，...\n",
       "86    好久不见啦！最近一直去武汉出差实在太忙了~分享一下近期生活~~除了吃也就是出差路上想想也有些...\n",
       "87    已经快两个月过去了！额头真的没有皱纹，而且到现在保持得很好哟！感谢新氧马光点让我变帅气[:2...\n",
       "88    我必须要发帖来感谢一下新氧云诊所，玻尿酸价廉物美不说，按活动链接拍得瑞兰二号，按要求发帖，医...\n",
       "89    [:63]玻尿酸注射填充法令纹，我只打了一只的量，在鼻基底，我觉得还是有点效果的，会稍微蓬蓬...\n",
       "90    自从有了这个神奇的魔术之后，我竟然就有下巴了哦！感谢瑞蓝玻尿酸拯救了我美中不足的地方，微整形...\n",
       "91    这是第二天还有点儿肿不过蛮好看的，就想要那样。可惜过几天会消一点的然后吃东西还是有明显的疼痛...\n",
       "92    第3天了已经完全不肿了，脸是有感觉变瘦了，变长了，朋友都没看出来，还是有些失落的[:50]感...\n",
       "93    这几天感觉自然些了，刚打完那周没注意保养，喝酒了还担心吸收不好呢，结果恢复的还不错，现在打过...\n",
       "94          脸颊凹陷填充之后很减龄两道沟真的很丑，只需一支，完美弧度[:13][:13][:13]\n",
       "95                                  越来越自然了想过些天再去补一针[:6]\n",
       "96    今天天气不错心情也是美美哒，自从填了泪沟总是不自觉的想要自拍呢，这不又跑来晒图啦～个人觉得填...\n",
       "97                                             体验成功感觉不错\n",
       "98                                 下巴还是很赞的。[:2][:2][:2]\n",
       "99    下巴恢复的很好了，上周去填充了法令纹，人家医生还说你这下巴做得不错，还问我在哪打的，谁给打的...\n",
       "Name: other.summary, dtype: object"
      ]
     },
     "execution_count": 29,
     "metadata": {},
     "output_type": "execute_result"
    }
   ],
   "source": [
    "df.pop('other.summary')"
   ]
  },
  {
   "cell_type": "code",
   "execution_count": 32,
   "metadata": {},
   "outputs": [
    {
     "data": {
      "text/plain": [
       "(100, 76)"
      ]
     },
     "execution_count": 32,
     "metadata": {},
     "output_type": "execute_result"
    }
   ],
   "source": [
    "df.shape"
   ]
  },
  {
   "cell_type": "code",
   "execution_count": 33,
   "metadata": {},
   "outputs": [
    {
     "name": "stdout",
     "output_type": "stream",
     "text": [
      "CPU times: user 248 ms, sys: 35 ms, total: 283 ms\n",
      "Wall time: 259 ms\n"
     ]
    }
   ],
   "source": [
    "%%time\n",
    "df.to_excel('test.speed.xlsx', index=False, encoding='utf-8')"
   ]
  },
  {
   "cell_type": "code",
   "execution_count": 34,
   "metadata": {},
   "outputs": [
    {
     "name": "stdout",
     "output_type": "stream",
     "text": [
      "CPU times: user 219 ms, sys: 1 ms, total: 220 ms\n",
      "Wall time: 216 ms\n"
     ]
    }
   ],
   "source": [
    "%%time\n",
    "df.to_csv('test.speed.csv', index=False, encoding='utf-8')"
   ]
  },
  {
   "cell_type": "code",
   "execution_count": 38,
   "metadata": {
    "collapsed": true
   },
   "outputs": [],
   "source": [
    "df['from_product']=10"
   ]
  },
  {
   "cell_type": "code",
   "execution_count": 41,
   "metadata": {
    "collapsed": true
   },
   "outputs": [],
   "source": [
    "df.set_index('from_product').to_excel('test_index.xlsx', encoding='utf-8')"
   ]
  },
  {
   "cell_type": "markdown",
   "metadata": {},
   "source": [
    "load id"
   ]
  },
  {
   "cell_type": "code",
   "execution_count": 45,
   "metadata": {},
   "outputs": [
    {
     "data": {
      "text/plain": [
       "(17529, 1)"
      ]
     },
     "execution_count": 45,
     "metadata": {},
     "output_type": "execute_result"
    }
   ],
   "source": [
    "ddd = pd.read_csv('./diary_products.csv', names=['product_id'])\n",
    "ddd.shape"
   ]
  },
  {
   "cell_type": "code",
   "execution_count": 48,
   "metadata": {},
   "outputs": [
    {
     "data": {
      "text/plain": [
       "17529"
      ]
     },
     "execution_count": 48,
     "metadata": {},
     "output_type": "execute_result"
    }
   ],
   "source": [
    "len(ddd['product_id'].tolist())"
   ]
  },
  {
   "cell_type": "code",
   "execution_count": null,
   "metadata": {
    "collapsed": true
   },
   "outputs": [],
   "source": []
  }
 ],
 "metadata": {
  "kernelspec": {
   "display_name": "Python 2",
   "language": "python",
   "name": "python2"
  },
  "language_info": {
   "codemirror_mode": {
    "name": "ipython",
    "version": 2
   },
   "file_extension": ".py",
   "mimetype": "text/x-python",
   "name": "python",
   "nbconvert_exporter": "python",
   "pygments_lexer": "ipython2",
   "version": "2.7.13"
  }
 },
 "nbformat": 4,
 "nbformat_minor": 2
}
