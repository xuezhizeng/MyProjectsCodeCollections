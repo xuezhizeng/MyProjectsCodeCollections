{
 "cells": [
  {
   "cell_type": "code",
   "execution_count": 1,
   "metadata": {},
   "outputs": [
    {
     "name": "stdout",
     "output_type": "stream",
     "text": [
      "/home/soyoung/face/Freelancer/Tensorflow\r\n"
     ]
    }
   ],
   "source": [
    "!pwd"
   ]
  },
  {
   "cell_type": "code",
   "execution_count": 2,
   "metadata": {
    "collapsed": true
   },
   "outputs": [],
   "source": [
    "import os"
   ]
  },
  {
   "cell_type": "code",
   "execution_count": 3,
   "metadata": {},
   "outputs": [
    {
     "name": "stdout",
     "output_type": "stream",
     "text": [
      "Parse_html_Stat-Copy1.ipynb\t\t  bid_pages2\r\n",
      "Parse_html_Stat-add1.ipynb\t\t  bidder1.csv\r\n",
      "Parse_html_Stat-add2-Copy1.ipynb\t  bidder1Data.csv\r\n",
      "Parse_html_Stat-add2.ipynb\t\t  bidder1Data_Nojson.csv\r\n",
      "Parse_html_Stat.ipynb\t\t\t  bidderPics\r\n",
      "Parse_html_V5.ipynb\t\t\t  bidder_urls.csv\r\n",
      "Parse_html_save.ipynb\t\t\t  boss1.csv\r\n",
      "Parse_html_save_2-Copy1.ipynb\t\t  boss1Data.csv\r\n",
      "Parse_html_save_2-Copy2.ipynb\t\t  boss1Data_Nojson.csv\r\n",
      "Parse_html_save_2.ipynb\t\t\t  bossPics\r\n",
      "Parse_html_save_parse_NoJson-Copy1.ipynb  boss_urls.csv\r\n",
      "Parse_html_save_parse_NoJson-Copy2.ipynb  data\r\n",
      "Parse_html_save_parse_NoJson.ipynb\t  emp_pages4\r\n",
      "PicsWithFace.zip\t\t\t  freelancer.py\r\n",
      "Tensorflow\t\t\t\t  headPics\r\n",
      "add_bidder\t\t\t\t  old\r\n",
      "add_owner\t\t\t\t  parse.ipynb\r\n",
      "addbidder.csv\t\t\t\t  picDown.py\r\n",
      "addbidderData.csv\t\t\t  picDown.pyc\r\n",
      "addbidderData_Nojson.csv\t\t  pic_down_func-add1.ipynb\r\n",
      "addbidderPics\t\t\t\t  pic_down_func-add2.ipynb\r\n",
      "addbidder_urls.csv\t\t\t  pic_down_func.ipynb\r\n",
      "addboss.csv\t\t\t\t  pic_down_func_bidder.ipynb\r\n",
      "addbossData.csv\t\t\t\t  pic_down_report.ipynb\r\n",
      "addbossData_Nojson.csv\t\t\t  pic_report.ipynb\r\n",
      "addbossPics\t\t\t\t  re_boss1Pics\r\n",
      "addboss_urls.csv\t\t\t  recIpython\r\n",
      "addtional\r\n"
     ]
    }
   ],
   "source": [
    "# !ls /home/soyoung/face/Freelancer/"
   ]
  },
  {
   "cell_type": "code",
   "execution_count": 5,
   "metadata": {},
   "outputs": [
    {
     "name": "stdout",
     "output_type": "stream",
     "text": [
      "1254856_profile.png\n"
     ]
    },
    {
     "data": {
      "text/plain": [
       "1368"
      ]
     },
     "execution_count": 5,
     "metadata": {},
     "output_type": "execute_result"
    }
   ],
   "source": [
    "head=os.listdir('/home/soyoung/face/Freelancer/headPics/bossPics/')\n",
    "print head[0]\n",
    "len(head)"
   ]
  },
  {
   "cell_type": "code",
   "execution_count": 7,
   "metadata": {},
   "outputs": [
    {
     "name": "stdout",
     "output_type": "stream",
     "text": [
      "1375042_profile.jpg\n"
     ]
    },
    {
     "data": {
      "text/plain": [
       "4204"
      ]
     },
     "execution_count": 7,
     "metadata": {},
     "output_type": "execute_result"
    }
   ],
   "source": [
    "ck=os.listdir('/home/soyoung/face/Freelancer/re_boss1Pics/')\n",
    "print ck[0]\n",
    "len(ck)"
   ]
  },
  {
   "cell_type": "code",
   "execution_count": 11,
   "metadata": {},
   "outputs": [
    {
     "data": {
      "text/plain": [
       "1368"
      ]
     },
     "execution_count": 11,
     "metadata": {},
     "output_type": "execute_result"
    }
   ],
   "source": [
    "keep=set(map(lambda x:x.split('.')[0], ck)) & set(map(lambda x:x.split('.')[0], head))\n",
    "len(keep)"
   ]
  },
  {
   "cell_type": "code",
   "execution_count": 17,
   "metadata": {},
   "outputs": [
    {
     "name": "stdout",
     "output_type": "stream",
     "text": [
      "463875_profile.jpg\n"
     ]
    },
    {
     "data": {
      "text/plain": [
       "1368"
      ]
     },
     "execution_count": 17,
     "metadata": {},
     "output_type": "execute_result"
    }
   ],
   "source": [
    "to_be = map(lambda x: x+'.jpg',list(keep))\n",
    "print to_be[0]\n",
    "len(to_be)"
   ]
  },
  {
   "cell_type": "code",
   "execution_count": 14,
   "metadata": {},
   "outputs": [],
   "source": [
    "os.mkdir('/home/soyoung/face/Freelancer/re_boss1Pics/head')"
   ]
  },
  {
   "cell_type": "code",
   "execution_count": 15,
   "metadata": {
    "collapsed": true
   },
   "outputs": [],
   "source": [
    "import shutil"
   ]
  },
  {
   "cell_type": "code",
   "execution_count": 18,
   "metadata": {},
   "outputs": [
    {
     "name": "stdout",
     "output_type": "stream",
     "text": [
      "CPU times: user 4 ms, sys: 32 ms, total: 36 ms\n",
      "Wall time: 49.9 ms\n"
     ]
    }
   ],
   "source": [
    "%%time\n",
    "for i in to_be:\n",
    "    shutil.move(\"/home/soyoung/face/Freelancer/re_boss1Pics/\"+i,\\\n",
    "    \"/home/soyoung/face/Freelancer/re_boss1Pics/head/\"+i)\n"
   ]
  },
  {
   "cell_type": "code",
   "execution_count": 19,
   "metadata": {},
   "outputs": [
    {
     "name": "stdout",
     "output_type": "stream",
     "text": [
      "   2837    2837   55198\r\n"
     ]
    }
   ],
   "source": [
    "!ls /home/soyoung/face/Freelancer/re_boss1Pics/|wc"
   ]
  },
  {
   "cell_type": "code",
   "execution_count": null,
   "metadata": {
    "collapsed": true
   },
   "outputs": [],
   "source": []
  }
 ],
 "metadata": {
  "kernelspec": {
   "display_name": "Python 2",
   "language": "python",
   "name": "python2"
  },
  "language_info": {
   "codemirror_mode": {
    "name": "ipython",
    "version": 2
   },
   "file_extension": ".py",
   "mimetype": "text/x-python",
   "name": "python",
   "nbconvert_exporter": "python",
   "pygments_lexer": "ipython2",
   "version": "2.7.13"
  }
 },
 "nbformat": 4,
 "nbformat_minor": 2
}
