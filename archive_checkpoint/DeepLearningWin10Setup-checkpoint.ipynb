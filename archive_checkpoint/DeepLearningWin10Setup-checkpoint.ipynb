{
 "cells": [
  {
   "cell_type": "markdown",
   "metadata": {},
   "source": [
    "http://huboqiang.cn/2017/02/04/CatVsDog\n",
    "\n",
    "https://towardsdatascience.com/transfer-learning-using-keras-d804b2e04ef8"
   ]
  },
  {
   "cell_type": "markdown",
   "metadata": {},
   "source": [
    "http://bennycheung.github.io/deep-learning-on-windows-10"
   ]
  },
  {
   "cell_type": "markdown",
   "metadata": {},
   "source": [
    "https://gogul09.github.io/helpers/deep-learning-windows"
   ]
  },
  {
   "cell_type": "markdown",
   "metadata": {},
   "source": [
    "* Nvidia driver install http://www.nvidia.com/Download/index.aspx?lang=en-us\n",
    "* visual studio install https://www.visualstudio.com/\n",
    "* Anaconda3 download and install https://www.anaconda.com/download\n",
    "* Cuda9.0 download and install  https://developer.nvidia.com/cuda-toolkit-archive\n",
    "* install cuDNN 7 https://developer.nvidia.com/cudnn"
   ]
  },
  {
   "cell_type": "markdown",
   "metadata": {},
   "source": [
    "* conda install -c anaconda tensorflow-gpu \n",
    "\n",
    "* pip install keras\n",
    "\n"
   ]
  },
  {
   "cell_type": "markdown",
   "metadata": {},
   "source": [
    "4.3. Installing cuDNN on Windows\n",
    "The following steps describe how to build a cuDNN dependent program. In the\n",
    "following sections:\n",
    "‣ your CUDA directory path is referred to as C:\\Program Files\\NVIDIA GPU\n",
    "Computing Toolkit\\CUDA\\v9.0\n",
    "‣ your cuDNN directory path is referred to as <installpath>\n",
    " 1. Navigate to your <installpath> directory containing cuDNN.\n",
    " 2. Unzip the cuDNN package.\n",
    "cudnn-9.0-windows7-x64-v7.zip\n",
    "or\n",
    "cudnn-9.0-windows10-x64-v7.zip\n",
    " 3. Copy the following files into the CUDA Toolkit directory.\n",
    "a) Copy <installpath>\\cuda\\bin\\cudnn64_7.dll to C:\\Program Files\n",
    "\\NVIDIA GPU Computing Toolkit\\CUDA\\v9.0\\bin.\n",
    "b) Copy <installpath>\\cuda\\ include\\cudnn.h to C:\\Program Files\n",
    "\\NVIDIA GPU Computing Toolkit\\CUDA\\v9.0\\include.\n",
    "c) Copy <installpath>\\cuda\\lib\\x64\\cudnn.lib to C:\\Program Files\n",
    "\\NVIDIA GPU Computing Toolkit\\CUDA\\v9.0\\lib\\x64.\n",
    " 4. Set the following environment variables to point to where cuDNN is located. To\n",
    "access the value of the $(CUDA_PATH) environment variable, perform the following\n",
    "steps:\n",
    "a) Open a command prompt from the Start menu.\n",
    "Installing cuDNN on Windows\n",
    "www.nvidia.com\n",
    "cuDNN DU-08670-001_v07 | 10\n",
    "b) Type Run and hit Enter.\n",
    "c) Issue the control sysdm.cpl command.\n",
    "d) Select the Advanced tab at the top of the window.\n",
    "e) Click Environment Variables at the bottom of the window.\n",
    "f) Ensure the following values are set:\n",
    "Variable Name: CUDA_PATH\n",
    "Variable Value: C:\\Program Files\\NVIDIA GPU Computing Toolkit\\CUDA\\v9.0\n",
    " 5. Include cudnn.lib in your Visual Studio project.\n",
    "a) Open the Visual Studio project and right-click on the project name.\n",
    "b) Click Linker > Input > Additional Dependencies.\n",
    "c) Add cudnn.lib and click OK.\n"
   ]
  },
  {
   "cell_type": "markdown",
   "metadata": {
    "collapsed": true
   },
   "source": [
    "additional libraries\n",
    "\n",
    "https://pypi.python.org/pypi/tqdm\n",
    "\n",
    "* conda install -c conda-forge opencv \n",
    "* pip install tqdm\n"
   ]
  },
  {
   "cell_type": "code",
   "execution_count": null,
   "metadata": {
    "collapsed": true
   },
   "outputs": [],
   "source": []
  }
 ],
 "metadata": {
  "kernelspec": {
   "display_name": "GPU",
   "language": "python",
   "name": "gpu"
  },
  "language_info": {
   "codemirror_mode": {
    "name": "ipython",
    "version": 3
   },
   "file_extension": ".py",
   "mimetype": "text/x-python",
   "name": "python",
   "nbconvert_exporter": "python",
   "pygments_lexer": "ipython3",
   "version": "3.6.4"
  }
 },
 "nbformat": 4,
 "nbformat_minor": 2
}
