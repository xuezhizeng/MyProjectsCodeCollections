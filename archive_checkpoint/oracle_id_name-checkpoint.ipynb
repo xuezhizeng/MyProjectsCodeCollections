{
 "cells": [
  {
   "cell_type": "code",
   "execution_count": 1,
   "metadata": {},
   "outputs": [
    {
     "name": "stdout",
     "output_type": "stream",
     "text": [
      "11.2.0.2.0\n"
     ]
    }
   ],
   "source": [
    "import pandas as pd\n",
    "import cx_Oracle\n",
    "import os\n",
    "import concurrent.futures\n",
    "\n",
    "import requests\n",
    "from lxml import etree\n",
    "from time import time, ctime\n",
    "\n",
    "db=cx_Oracle.connect(\"soyoung\", \"soyoung\", \"my.uconn.science:1521/xe\")\n",
    "print db.version\n",
    "conn=db.cursor()"
   ]
  },
  {
   "cell_type": "code",
   "execution_count": 4,
   "metadata": {
    "collapsed": true
   },
   "outputs": [],
   "source": [
    "query=\"create table bidder1 (name varchar2(250), url varchar2(1000), constraint bidder1_pk primary key(name))\""
   ]
  },
  {
   "cell_type": "code",
   "execution_count": 5,
   "metadata": {},
   "outputs": [
    {
     "name": "stdout",
     "output_type": "stream",
     "text": [
      "create success\n"
     ]
    }
   ],
   "source": [
    "try:\n",
    "    conn.execute(query)\n",
    "    db.commit()\n",
    "    print 'create success'\n",
    "except Exception as e:\n",
    "    print e"
   ]
  },
  {
   "cell_type": "code",
   "execution_count": 7,
   "metadata": {
    "collapsed": true
   },
   "outputs": [],
   "source": [
    "folder='bid_pages2/'"
   ]
  },
  {
   "cell_type": "code",
   "execution_count": 8,
   "metadata": {},
   "outputs": [
    {
     "data": {
      "text/plain": [
       "68227"
      ]
     },
     "execution_count": 8,
     "metadata": {},
     "output_type": "execute_result"
    }
   ],
   "source": [
    "cont = os.listdir(folder)\n",
    "len(cont)"
   ]
  },
  {
   "cell_type": "code",
   "execution_count": 11,
   "metadata": {
    "collapsed": true
   },
   "outputs": [],
   "source": [
    "fail=[]\n",
    "def one(ID):\n",
    "    with open(folder+str(ID),'r') as fl:\n",
    "        tex=fl.read()\n",
    "        test=etree.HTML(tex).xpath('//img[@class=\"profile-image-ImageThumbnail-image ImageThumbnail-image\"]/@src')\n",
    "        test3=etree.HTML(tex).xpath('//img[@itemprop=\"logo\"]/@src')\n",
    "        if test==test3:\n",
    "            if test==[]:\n",
    "                return ID, \"None\"\n",
    "            else:\n",
    "                return ID, test[0]\n",
    "        else:\n",
    "            print 'X'\n",
    "            print ID, test, test3\n",
    "            fail.append(ID)\n",
    "            return ID, 'fail'"
   ]
  },
  {
   "cell_type": "code",
   "execution_count": null,
   "metadata": {},
   "outputs": [
    {
     "name": "stdout",
     "output_type": "stream",
     "text": [
      "68227\n",
      "1000 : 10.38s | 2000 : 10.30s | 3000 : 10.20s | 4000 : 10.04s | 5000 : 10.12s | 6000 : 10.02s | 7000 : 10.22s | 8000 : 10.30s | 9000 : 10.38s | 10000 : 10.11s | 11000 : 10.25s | 12000 : 10.32s | 13000 : 10.22s | 14000 : 10.11s | 15000 : 10.33s | 16000 : 10.19s | 17000 : 10.18s | 18000 : 10.15s | 19000 : 10.25s | 20000 : 10.15s | 21000 : 10.05s | 22000 : 10.08s | 23000 : 10.14s | 24000 : 10.14s | 25000 : 12.24s | 26000 : 10.16s | 27000 : 10.19s | 28000 : 10.10s | 29000 : 10.16s | 30000 : 10.16s | 31000 : 10.15s | 32000 : 10.26s | 33000 : 10.42s | 34000 : 10.15s | 35000 : 10.15s | 36000 : 10.18s | 37000 : 10.19s | 38000 : 10.20s | 39000 : 10.16s | 40000 : 10.13s | 41000 : 10.19s | 42000 : 10.02s | 43000 : 10.03s | 44000 : 10.09s | 45000 : 10.15s | 46000 : 10.12s | 47000 : 10.22s | 48000 : 10.16s | 49000 : 10.10s | 50000 : 10.11s | 51000 : 10.11s | 52000 : 9.97s | 53000 : 10.14s | 54000 : 9.97s | 55000 : 10.16s | 56000 : 10.11s | 57000 : 10.17s | 58000 : 10.28s | 59000 : 10.09s | 60000 : 10.18s |"
     ]
    }
   ],
   "source": [
    "print len(cont)\n",
    "n=0\n",
    "start=time()\n",
    "for i in cont:\n",
    "    tmp=one(i)\n",
    "    conn.execute(\"\"\"insert into bidder1 values('{}','{}')\"\"\".format(tmp[0],tmp[-1]))\n",
    "    n+=1\n",
    "    if n%1000==0:\n",
    "        print n,':',\n",
    "        \n",
    "        print '{:.2f}s |'.format(time()-start),\n",
    "        start=time()\n",
    "        \n",
    "        db.commit()\n",
    "db.commit()"
   ]
  },
  {
   "cell_type": "code",
   "execution_count": 115,
   "metadata": {},
   "outputs": [
    {
     "data": {
      "text/plain": [
       "[]"
      ]
     },
     "execution_count": 115,
     "metadata": {},
     "output_type": "execute_result"
    }
   ],
   "source": [
    "fail"
   ]
  },
  {
   "cell_type": "code",
   "execution_count": 117,
   "metadata": {
    "collapsed": true
   },
   "outputs": [],
   "source": [
    "db.commit()"
   ]
  },
  {
   "cell_type": "code",
   "execution_count": 119,
   "metadata": {},
   "outputs": [
    {
     "data": {
      "text/plain": [
       "[('timpears.html', '//cdn6.f-cdn.com/img/unknown.png'),\n",
       " ('emmat1707.html', '//cdn6.f-cdn.com/img/unknown.png'),\n",
       " ('pulsar77.html', '//cdn6.f-cdn.com/img/unknown.png'),\n",
       " ('seanfirth.html',\n",
       "  '//cdn3.f-cdn.com/ppic/56839106/logo/1537889/WCz7H/profile_logo_.jpg'),\n",
       " ('andtox.html', '//cdn6.f-cdn.com/img/unknown.png'),\n",
       " ('CoolProject.html', '//cdn6.f-cdn.com/img/unknown.png'),\n",
       " ('proga171078.html', '//cdn6.f-cdn.com/img/unknown.png'),\n",
       " ('goggy.html', '//cdn6.f-cdn.com/img/unknown.png'),\n",
       " ('mmc111.html', '//cdn6.f-cdn.com/img/unknown.png')]"
      ]
     },
     "execution_count": 119,
     "metadata": {},
     "output_type": "execute_result"
    }
   ],
   "source": [
    "conn.execute('select * from boss1 where rownum<10').fetchall()"
   ]
  },
  {
   "cell_type": "code",
   "execution_count": 121,
   "metadata": {
    "collapsed": true
   },
   "outputs": [],
   "source": [
    "db.commit()"
   ]
  },
  {
   "cell_type": "code",
   "execution_count": 130,
   "metadata": {},
   "outputs": [
    {
     "ename": "InterfaceError",
     "evalue": "not open",
     "output_type": "error",
     "traceback": [
      "\u001b[0;31m\u001b[0m",
      "\u001b[0;31mInterfaceError\u001b[0mTraceback (most recent call last)",
      "\u001b[0;32m<ipython-input-130-0d8b9bd62fd3>\u001b[0m in \u001b[0;36m<module>\u001b[0;34m()\u001b[0m\n\u001b[0;32m----> 1\u001b[0;31m \u001b[0mconn\u001b[0m\u001b[0;34m.\u001b[0m\u001b[0mexecute\u001b[0m\u001b[0;34m(\u001b[0m\u001b[0;34m'select count(*) from boss1'\u001b[0m\u001b[0;34m)\u001b[0m\u001b[0;34m.\u001b[0m\u001b[0mfetchall\u001b[0m\u001b[0;34m(\u001b[0m\u001b[0;34m)\u001b[0m\u001b[0;34m\u001b[0m\u001b[0m\n\u001b[0m",
      "\u001b[0;31mInterfaceError\u001b[0m: not open"
     ]
    }
   ],
   "source": [
    "conn.execute('select count(*) from boss1').fetchall()"
   ]
  },
  {
   "cell_type": "code",
   "execution_count": 128,
   "metadata": {
    "collapsed": true
   },
   "outputs": [],
   "source": [
    "conn.close()"
   ]
  },
  {
   "cell_type": "code",
   "execution_count": null,
   "metadata": {
    "collapsed": true
   },
   "outputs": [],
   "source": []
  }
 ],
 "metadata": {
  "kernelspec": {
   "display_name": "Python 2",
   "language": "python",
   "name": "python2"
  },
  "language_info": {
   "codemirror_mode": {
    "name": "ipython",
    "version": 2
   },
   "file_extension": ".py",
   "mimetype": "text/x-python",
   "name": "python",
   "nbconvert_exporter": "python",
   "pygments_lexer": "ipython2",
   "version": "2.7.13"
  }
 },
 "nbformat": 4,
 "nbformat_minor": 2
}
