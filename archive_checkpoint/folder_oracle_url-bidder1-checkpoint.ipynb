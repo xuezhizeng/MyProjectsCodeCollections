{
 "cells": [
  {
   "cell_type": "code",
   "execution_count": 131,
   "metadata": {},
   "outputs": [
    {
     "name": "stdout",
     "output_type": "stream",
     "text": [
      "11.2.0.2.0\n"
     ]
    }
   ],
   "source": [
    "import pandas as pd\n",
    "import cx_Oracle\n",
    "import os\n",
    "import concurrent.futures\n",
    "\n",
    "import requests\n",
    "from lxml import etree\n",
    "from time import time, ctime\n",
    "\n",
    "db=cx_Oracle.connect(\"soyoung\", \"soyoung\", \"my.uconn.science:1521/xe\")\n",
    "print db.version\n",
    "conn=db.cursor()"
   ]
  },
  {
   "cell_type": "code",
   "execution_count": 132,
   "metadata": {
    "collapsed": true
   },
   "outputs": [],
   "source": [
    "query=\"create table boss1 (name varchar2(250), url varchar2(1000), constraint boss1_pk primary key(name))\""
   ]
  },
  {
   "cell_type": "code",
   "execution_count": 133,
   "metadata": {},
   "outputs": [
    {
     "name": "stdout",
     "output_type": "stream",
     "text": [
      "ORA-00955: name is already used by an existing object\n"
     ]
    }
   ],
   "source": [
    "try:\n",
    "    conn.execute(query)\n",
    "    db.commit()\n",
    "    print 'create success'\n",
    "except Exception as e:\n",
    "    print e"
   ]
  },
  {
   "cell_type": "code",
   "execution_count": 134,
   "metadata": {},
   "outputs": [],
   "source": [
    "# !ls"
   ]
  },
  {
   "cell_type": "code",
   "execution_count": 135,
   "metadata": {
    "collapsed": true
   },
   "outputs": [],
   "source": [
    "folder='emp_pages4/'"
   ]
  },
  {
   "cell_type": "code",
   "execution_count": 136,
   "metadata": {},
   "outputs": [
    {
     "data": {
      "text/plain": [
       "14362"
      ]
     },
     "execution_count": 136,
     "metadata": {},
     "output_type": "execute_result"
    }
   ],
   "source": [
    "cont = os.listdir(folder)\n",
    "len(cont)"
   ]
  },
  {
   "cell_type": "code",
   "execution_count": 137,
   "metadata": {},
   "outputs": [
    {
     "data": {
      "text/plain": [
       "'timpears.html'"
      ]
     },
     "execution_count": 137,
     "metadata": {},
     "output_type": "execute_result"
    }
   ],
   "source": [
    "cont[0]"
   ]
  },
  {
   "cell_type": "code",
   "execution_count": 138,
   "metadata": {
    "collapsed": true
   },
   "outputs": [],
   "source": [
    "fail=[]\n",
    "def one(ID):\n",
    "    with open(folder+str(ID),'r') as fl:\n",
    "        tex=fl.read()\n",
    "        test=etree.HTML(tex).xpath('//img[@class=\"profile-image-ImageThumbnail-image ImageThumbnail-image\"]/@src')\n",
    "        test3=etree.HTML(tex).xpath('//img[@itemprop=\"logo\"]/@src')\n",
    "        if test==test3:\n",
    "            if test==[]:\n",
    "                return ID, \"None\"\n",
    "            else:\n",
    "                return ID, test[0]\n",
    "        else:\n",
    "            print 'X'\n",
    "            print ID, test, test3\n",
    "            fail.append(ID)\n",
    "            return ID, 'fail'"
   ]
  },
  {
   "cell_type": "code",
   "execution_count": 139,
   "metadata": {},
   "outputs": [],
   "source": [
    "# k=0\n",
    "# for i in cont:\n",
    "#     print one(i)\n",
    "#     k+=1\n",
    "#     if k==100:\n",
    "#         break"
   ]
  },
  {
   "cell_type": "code",
   "execution_count": 140,
   "metadata": {},
   "outputs": [],
   "source": [
    "# str(one(cont[10]))[1:-1]"
   ]
  },
  {
   "cell_type": "code",
   "execution_count": 141,
   "metadata": {},
   "outputs": [],
   "source": [
    "# tp=one(cont[10])\n",
    "# print \"1{},2{}\".format(tp[0],tp[-1])"
   ]
  },
  {
   "cell_type": "code",
   "execution_count": 142,
   "metadata": {},
   "outputs": [],
   "source": [
    "# print \"1{},2{}\".format('1','2')"
   ]
  },
  {
   "cell_type": "code",
   "execution_count": 143,
   "metadata": {
    "collapsed": true
   },
   "outputs": [],
   "source": [
    "# db.commit()"
   ]
  },
  {
   "cell_type": "code",
   "execution_count": 144,
   "metadata": {},
   "outputs": [
    {
     "name": "stdout",
     "output_type": "stream",
     "text": [
      "14362\n",
      "O 9.23\n",
      "O 9.00\n",
      "O 9.15\n",
      "O 9.25\n",
      "O 9.35\n",
      "O 9.28\n",
      "O 9.26\n",
      "O 9.14\n",
      "O 9.24\n",
      "O 9.10\n",
      "O 9.23\n",
      "O 9.32\n",
      "O 9.25\n",
      "O 9.21\n"
     ]
    }
   ],
   "source": [
    "print len(cont)\n",
    "n=0\n",
    "start=time()\n",
    "for i in cont:\n",
    "    tmp=one(i)\n",
    "    conn.execute(\"\"\"insert into boss1 values('{}','{}')\"\"\".format(tmp[0],tmp[-1]))\n",
    "    n+=1\n",
    "    if n%1000==0:\n",
    "        print n,':',\n",
    "        \n",
    "        print '{:.2f}s |'.format(time()-start)\n",
    "        start=time()\n",
    "        \n",
    "        db.commit()\n",
    "db.commit()"
   ]
  },
  {
   "cell_type": "code",
   "execution_count": 115,
   "metadata": {},
   "outputs": [
    {
     "data": {
      "text/plain": [
       "[]"
      ]
     },
     "execution_count": 115,
     "metadata": {},
     "output_type": "execute_result"
    }
   ],
   "source": [
    "fail"
   ]
  },
  {
   "cell_type": "code",
   "execution_count": 117,
   "metadata": {},
   "outputs": [],
   "source": [
    "db.commit()"
   ]
  },
  {
   "cell_type": "code",
   "execution_count": 119,
   "metadata": {},
   "outputs": [
    {
     "data": {
      "text/plain": [
       "[('timpears.html', '//cdn6.f-cdn.com/img/unknown.png'),\n",
       " ('emmat1707.html', '//cdn6.f-cdn.com/img/unknown.png'),\n",
       " ('pulsar77.html', '//cdn6.f-cdn.com/img/unknown.png'),\n",
       " ('seanfirth.html',\n",
       "  '//cdn3.f-cdn.com/ppic/56839106/logo/1537889/WCz7H/profile_logo_.jpg'),\n",
       " ('andtox.html', '//cdn6.f-cdn.com/img/unknown.png'),\n",
       " ('CoolProject.html', '//cdn6.f-cdn.com/img/unknown.png'),\n",
       " ('proga171078.html', '//cdn6.f-cdn.com/img/unknown.png'),\n",
       " ('goggy.html', '//cdn6.f-cdn.com/img/unknown.png'),\n",
       " ('mmc111.html', '//cdn6.f-cdn.com/img/unknown.png')]"
      ]
     },
     "execution_count": 119,
     "metadata": {},
     "output_type": "execute_result"
    }
   ],
   "source": [
    "conn.execute('select * from boss1 where rownum<10').fetchall()"
   ]
  },
  {
   "cell_type": "code",
   "execution_count": 121,
   "metadata": {},
   "outputs": [],
   "source": [
    "db.commit()"
   ]
  },
  {
   "cell_type": "code",
   "execution_count": 130,
   "metadata": {},
   "outputs": [
    {
     "ename": "InterfaceError",
     "evalue": "not open",
     "output_type": "error",
     "traceback": [
      "\u001b[0;31m\u001b[0m",
      "\u001b[0;31mInterfaceError\u001b[0mTraceback (most recent call last)",
      "\u001b[0;32m<ipython-input-130-0d8b9bd62fd3>\u001b[0m in \u001b[0;36m<module>\u001b[0;34m()\u001b[0m\n\u001b[0;32m----> 1\u001b[0;31m \u001b[0mconn\u001b[0m\u001b[0;34m.\u001b[0m\u001b[0mexecute\u001b[0m\u001b[0;34m(\u001b[0m\u001b[0;34m'select count(*) from boss1'\u001b[0m\u001b[0;34m)\u001b[0m\u001b[0;34m.\u001b[0m\u001b[0mfetchall\u001b[0m\u001b[0;34m(\u001b[0m\u001b[0;34m)\u001b[0m\u001b[0;34m\u001b[0m\u001b[0m\n\u001b[0m",
      "\u001b[0;31mInterfaceError\u001b[0m: not open"
     ]
    }
   ],
   "source": [
    "conn.execute('select count(*) from boss1').fetchall()"
   ]
  },
  {
   "cell_type": "code",
   "execution_count": 128,
   "metadata": {},
   "outputs": [],
   "source": [
    "conn.close()"
   ]
  },
  {
   "cell_type": "code",
   "execution_count": null,
   "metadata": {
    "collapsed": true
   },
   "outputs": [],
   "source": []
  }
 ],
 "metadata": {
  "kernelspec": {
   "display_name": "Python 2",
   "language": "python",
   "name": "python2"
  },
  "language_info": {
   "codemirror_mode": {
    "name": "ipython",
    "version": 2
   },
   "file_extension": ".py",
   "mimetype": "text/x-python",
   "name": "python",
   "nbconvert_exporter": "python",
   "pygments_lexer": "ipython2",
   "version": "2.7.13"
  }
 },
 "nbformat": 4,
 "nbformat_minor": 2
}
