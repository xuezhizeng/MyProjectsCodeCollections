{
 "cells": [
  {
   "cell_type": "code",
   "execution_count": 1,
   "metadata": {
    "collapsed": true
   },
   "outputs": [],
   "source": [
    "import concurrent.futures\n",
    "import requests\n",
    "import os\n",
    "\n",
    "from time import time, ctime\n",
    "import pandas as pd\n",
    "\n",
    "fail=[]"
   ]
  },
  {
   "cell_type": "code",
   "execution_count": null,
   "metadata": {
    "collapsed": true
   },
   "outputs": [],
   "source": []
  },
  {
   "cell_type": "code",
   "execution_count": null,
   "metadata": {
    "collapsed": true
   },
   "outputs": [],
   "source": [
    " \n"
   ]
  },
  {
   "cell_type": "code",
   "execution_count": 2,
   "metadata": {
    "collapsed": true
   },
   "outputs": [],
   "source": [
    "def download_image(img_url):\n",
    "    global direct\n",
    "    \n",
    "    try:\n",
    "        ID, url = img_url.split('__')\n",
    "        cont = url.split('/')\n",
    "        name= str(ID)+'_'+str(cont[-4])+str(cont[-1]).replace('_570','')\n",
    "        \n",
    "    except Exception as e:\n",
    "        fail.append(img_url)\n",
    "        print e\n",
    "\n",
    "        \n",
    "        \n",
    "    try:\n",
    "        img_request = requests.request(\n",
    "            'get', url, stream=True, timeout=300)\n",
    "        if img_request.status_code != 200:\n",
    "            fail.append(img_url)\n",
    "            print 'X2'\n",
    "    except Exception as e:\n",
    "        fail.append(img_url)\n",
    "        print e\n",
    "\n",
    "    try:\n",
    "        img_content = img_request.content\n",
    "        with open(os.path.join(direct,  name), 'wb') as f:\n",
    "            byte_image = bytes(img_content)\n",
    "            f.write(byte_image)\n",
    "            \n",
    "    except Exception as e:\n",
    "        fail.append(img_url)\n",
    "        print e\n",
    "\n"
   ]
  },
  {
   "cell_type": "code",
   "execution_count": 3,
   "metadata": {
    "collapsed": true
   },
   "outputs": [],
   "source": [
    "def batch(subber):\n",
    "    start=time()\n",
    "    with concurrent.futures.ThreadPoolExecutor(max_workers=8) as executor:\n",
    "        executor.map(download_image, subber)\n",
    "    past='{:.2f}'.format(time()-start)\n",
    "    now=ctime()[4:]\n",
    "\n",
    "    print 'imges ',len(subber),'  used ',past,'s', now\n"
   ]
  },
  {
   "cell_type": "code",
   "execution_count": 4,
   "metadata": {
    "collapsed": true
   },
   "outputs": [],
   "source": [
    "def spl(lists, n):\n",
    "    return  [lists[i:i + n] for i in range(0, len(lists), n)]"
   ]
  },
  {
   "cell_type": "code",
   "execution_count": null,
   "metadata": {},
   "outputs": [
    {
     "name": "stdout",
     "output_type": "stream",
     "text": [
      "which set (1-24)?: 7\n",
      "10000  pics\n",
      "True\n",
      "how many IDs a batch?: 100\n",
      "HTTPConnectionPool(host='img2.soyoung.com', port=80): Max retries exceeded with url: /tieba/web/20161114/2/20161114133356859_570.jpg (Caused by NewConnectionError('<requests.packages.urllib3.connection.HTTPConnection object at 0x7efc75cc97d0>: Failed to establish a new connection: [Errno -2] Name or service not known',))\n",
      "local variable 'img_request' referenced before assignment\n",
      "HTTPConnectionPool(host='img2.soyoung.com', port=80): Max retries exceeded with url: /tieba/web/20161114/2/20161114133451142_570.jpg (Caused by NewConnectionError('<requests.packages.urllib3.connection.HTTPConnection object at 0x7efc75cc9b50>: Failed to establish a new connection: [Errno -2] Name or service not known',))\n",
      "local variable 'img_request' referenced before assignment\n",
      "HTTPConnectionPool(host='img2.soyoung.com', port=80): Max retries exceeded with url: /tieba/web/20161114/9/20161114133457380_570.jpg (Caused by NewConnectionError('<requests.packages.urllib3.connection.HTTPConnection object at 0x7efc75ce8210>: Failed to establish a new connection: [Errno -2] Name or service not known',))\n",
      "local variable 'img_request' referenced before assignment\n",
      "HTTPConnectionPool(host='img2.soyoung.com', port=80): Max retries exceeded with url: /tieba/web/20161114/4/20161114133705597_570.jpg (Caused by NewConnectionError('<requests.packages.urllib3.connection.HTTPConnection object at 0x7efc75cf9990>: Failed to establish a new connection: [Errno -2] Name or service not known',))\n",
      "local variable 'img_request' referenced before assignment\n",
      "HTTPConnectionPool(host='img2.soyoung.com', port=80): Max retries exceeded with url: /tieba/web/20161114/1/20161114133718171_570.jpg (Caused by NewConnectionError('<requests.packages.urllib3.connection.HTTPConnection object at 0x7efc74667250>: Failed to establish a new connection: [Errno -2] Name or service not known',))\n",
      "local variable 'img_request' referenced before assignment\n",
      "HTTPConnectionPool(host='img2.soyoung.com', port=80): Max retries exceeded with url: /tieba/web/20161114/3/20161114133727217_570.jpg (Caused by NewConnectionError('<requests.packages.urllib3.connection.HTTPConnection object at 0x7efc74667390>: Failed to establish a new connection: [Errno -2] Name or service not known',))\n",
      "local variable 'img_request' referenced before assignment\n",
      "HTTPConnectionPool(host='img2.soyoung.com', port=80): Max retries exceeded with url: /tieba/web/20161114/1/20161114133733743_570.jpg (Caused by NewConnectionError('<requests.packages.urllib3.connection.HTTPConnection object at 0x7efc75cc9810>: Failed to establish a new connection: [Errno -2] Name or service not known',))\n",
      "local variable 'img_request' referenced before assignment\n",
      "HTTPConnectionPool(host='img2.soyoung.com', port=80): Max retries exceeded with url: /tieba/web/20161112/2/20161112112154865_570.jpg (Caused by NewConnectionError('<requests.packages.urllib3.connection.HTTPConnection object at 0x7efc77d31a10>: Failed to establish a new connection: [Errno -2] Name or service not known',))\n",
      "local variable 'img_request' referenced before assignment\n",
      "HTTPConnectionPool(host='img2.soyoung.com', port=80): Max retries exceeded with url: /tieba/web/20161112/6/20161112112159193_570.jpg (Caused by NewConnectionError('<requests.packages.urllib3.connection.HTTPConnection object at 0x7efc75cda350>: Failed to establish a new connection: [Errno -2] Name or service not known',))\n",
      "local variable 'img_request' referenced before assignment\n",
      "HTTPConnectionPool(host='img2.soyoung.com', port=80): Max retries exceeded with url: /tieba/web/20161112/3/20161112112231330_570.jpg (Caused by NewConnectionError('<requests.packages.urllib3.connection.HTTPConnection object at 0x7efc75cf9b10>: Failed to establish a new connection: [Errno -2] Name or service not known',))\n",
      "local variable 'img_request' referenced before assignment\n",
      "HTTPConnectionPool(host='img2.soyoung.com', port=80): Max retries exceeded with url: /tieba/web/20161112/8/20161112112237354_570.jpg (Caused by NewConnectionError('<requests.packages.urllib3.connection.HTTPConnection object at 0x7efc75cf93d0>: Failed to establish a new connection: [Errno -2] Name or service not known',))\n",
      "local variable 'img_request' referenced before assignment\n",
      "HTTPConnectionPool(host='img2.soyoung.com', port=80): Max retries exceeded with url: /tieba/web/20161112/6/20161112112205316_570.jpg (Caused by NewConnectionError('<requests.packages.urllib3.connection.HTTPConnection object at 0x7efc75cc9dd0>: Failed to establish a new connection: [Errno -2] Name or service not known',))\n",
      "local variable 'img_request' referenced before assignment\n",
      "HTTPConnectionPool(host='img2.soyoung.com', port=80): Max retries exceeded with url: /tieba/web/20161112/1/20161112112300271_570.jpg (Caused by NewConnectionError('<requests.packages.urllib3.connection.HTTPConnection object at 0x7efc75cf9a90>: Failed to establish a new connection: [Errno -2] Name or service not known',))\n",
      "local variable 'img_request' referenced before assignment\n",
      "HTTPConnectionPool(host='img2.soyoung.com', port=80): Max retries exceeded with url: /tieba/web/20161116/5/20161116151107819_570.jpg (Caused by NewConnectionError('<requests.packages.urllib3.connection.HTTPConnection object at 0x7efc75cf9390>: Failed to establish a new connection: [Errno -2] Name or service not known',))\n",
      "local variable 'img_request' referenced before assignment\n",
      "HTTPConnectionPool(host='img2.soyoung.com', port=80): Max retries exceeded with url: /tieba/web/20161112/5/20161112112242926_570.jpg (Caused by NewConnectionError('<requests.packages.urllib3.connection.HTTPConnection object at 0x7efc77d22350>: Failed to establish a new connection: [Errno -2] Name or service not known',))\n",
      "local variable 'img_request' referenced before assignment\n",
      "HTTPConnectionPool(host='img2.soyoung.com', port=80): Max retries exceeded with url: /tieba/web/20161112/4/20161112112254829_570.jpg (Caused by NewConnectionError('<requests.packages.urllib3.connection.HTTPConnection object at 0x7efc77d31190>: Failed to establish a new connection: [Errno -2] Name or service not known',))\n",
      "local variable 'img_request' referenced before assignment\n",
      "HTTPConnectionPool(host='img2.soyoung.com', port=80): Max retries exceeded with url: /tieba/web/20161116/0/20161116151118147_570.jpg (Caused by NewConnectionError('<requests.packages.urllib3.connection.HTTPConnection object at 0x7efc77d31050>: Failed to establish a new connection: [Errno -2] Name or service not known',))\n",
      "local variable 'img_request' referenced before assignment\n",
      "HTTPConnectionPool(host='img2.soyoung.com', port=80): Max retries exceeded with url: /tieba/web/20161112/0/20161112112248522_570.jpg (Caused by NewConnectionError('<requests.packages.urllib3.connection.HTTPConnection object at 0x7efc77d31a10>: Failed to establish a new connection: [Errno -2] Name or service not known',))\n",
      "local variable 'img_request' referenced before assignment\n",
      "HTTPConnectionPool(host='img2.soyoung.com', port=80): Max retries exceeded with url: /tieba/web/20161116/1/20161116151144166_570.jpg (Caused by NewConnectionError('<requests.packages.urllib3.connection.HTTPConnection object at 0x7efc75cf9190>: Failed to establish a new connection: [Errno -2] Name or service not known',))\n",
      "local variable 'img_request' referenced before assignment\n",
      "HTTPConnectionPool(host='img2.soyoung.com', port=80): Max retries exceeded with url: /tieba/web/20161116/7/20161116151125742_570.jpg (Caused by NewConnectionError('<requests.packages.urllib3.connection.HTTPConnection object at 0x7efc75cf9a90>: Failed to establish a new connection: [Errno -2] Name or service not known',))\n",
      "local variable 'img_request' referenced before assignment\n",
      "HTTPConnectionPool(host='img2.soyoung.com', port=80): Max retries exceeded with url: /tieba/web/20161116/2/20161116151158524_570.jpg (Caused by NewConnectionError('<requests.packages.urllib3.connection.HTTPConnection object at 0x7efc77d317d0>: Failed to establish a new connection: [Errno -2] Name or service not known',))\n",
      "local variable 'img_request' referenced before assignment\n",
      "HTTPConnectionPool(host='img2.soyoung.com', port=80): Max retries exceeded with url: /tieba/web/20161116/9/20161116151203907_570.jpg (Caused by NewConnectionError('<requests.packages.urllib3.connection.HTTPConnection object at 0x7efc77d31850>: Failed to establish a new connection: [Errno -2] Name or service not known',))\n",
      "local variable 'img_request' referenced before assignment\n"
     ]
    },
    {
     "name": "stdout",
     "output_type": "stream",
     "text": [
      "HTTPConnectionPool(host='img2.soyoung.com', port=80): Max retries exceeded with url: /tieba/web/20161116/7/20161116151214844_570.jpg (Caused by NewConnectionError('<requests.packages.urllib3.connection.HTTPConnection object at 0x7efc75cf91d0>: Failed to establish a new connection: [Errno -2] Name or service not known',))\n",
      "local variable 'img_request' referenced before assignment\n",
      "HTTPConnectionPool(host='img2.soyoung.com', port=80): Max retries exceeded with url: /tieba/web/20161110/9/20161110143808663_570.jpg (Caused by NewConnectionError('<requests.packages.urllib3.connection.HTTPConnection object at 0x7efc75ce8650>: Failed to establish a new connection: [Errno -2] Name or service not known',))\n",
      "local variable 'img_request' referenced before assignment\n",
      "HTTPConnectionPool(host='img2.soyoung.com', port=80): Max retries exceeded with url: /tieba/web/20161116/7/20161116151208523_570.jpg (Caused by NewConnectionError('<requests.packages.urllib3.connection.HTTPConnection object at 0x7efc77d22e50>: Failed to establish a new connection: [Errno -2] Name or service not known',))\n",
      "local variable 'img_request' referenced before assignment\n",
      "HTTPConnectionPool(host='img2.soyoung.com', port=80): Max retries exceeded with url: /tieba/web/20161110/1/20161110145441865_570.jpg (Caused by NewConnectionError('<requests.packages.urllib3.connection.HTTPConnection object at 0x7efc75ce8750>: Failed to establish a new connection: [Errno -2] Name or service not known',))\n",
      "local variable 'img_request' referenced before assignment\n",
      "HTTPConnectionPool(host='img2.soyoung.com', port=80): Max retries exceeded with url: /tieba/web/20161110/0/20161110145336687_570.jpg (Caused by NewConnectionError('<requests.packages.urllib3.connection.HTTPConnection object at 0x7efc75cf9cd0>: Failed to establish a new connection: [Errno -2] Name or service not known',))\n",
      "local variable 'img_request' referenced before assignment\n",
      "HTTPConnectionPool(host='img2.soyoung.com', port=80): Max retries exceeded with url: /tieba/web/20161110/9/20161110145737268_570.jpg (Caused by NewConnectionError('<requests.packages.urllib3.connection.HTTPConnection object at 0x7efc75ce84d0>: Failed to establish a new connection: [Errno -2] Name or service not known',))\n",
      "local variable 'img_request' referenced before assignment\n",
      "HTTPConnectionPool(host='img2.soyoung.com', port=80): Max retries exceeded with url: /tieba/web/20161110/5/20161110150355545_570.jpg (Caused by NewConnectionError('<requests.packages.urllib3.connection.HTTPConnection object at 0x7efc75cf91d0>: Failed to establish a new connection: [Errno -2] Name or service not known',))\n",
      "local variable 'img_request' referenced before assignment\n",
      "HTTPConnectionPool(host='img2.soyoung.com', port=80): Max retries exceeded with url: /tieba/web/20161110/7/20161110150208532_570.jpg (Caused by NewConnectionError('<requests.packages.urllib3.connection.HTTPConnection object at 0x7efc75ce8410>: Failed to establish a new connection: [Errno -2] Name or service not known',))\n",
      "local variable 'img_request' referenced before assignment\n",
      "HTTPConnectionPool(host='img2.soyoung.com', port=80): Max retries exceeded with url: /tieba/web/20161110/1/20161110150417201_570.jpg (Caused by NewConnectionError('<requests.packages.urllib3.connection.HTTPConnection object at 0x7efc75ce81d0>: Failed to establish a new connection: [Errno -2] Name or service not known',))\n",
      "local variable 'img_request' referenced before assignment\n",
      "HTTPConnectionPool(host='img2.soyoung.com', port=80): Max retries exceeded with url: /tieba/web/20161107/5/20161107130455287_570.jpg (Caused by NewConnectionError('<requests.packages.urllib3.connection.HTTPConnection object at 0x7efc75cf9cd0>: Failed to establish a new connection: [Errno -2] Name or service not known',))\n",
      "local variable 'img_request' referenced before assignment\n",
      "HTTPConnectionPool(host='img2.soyoung.com', port=80): Max retries exceeded with url: /tieba/web/20161107/4/20161107130459562_570.jpg (Caused by NewConnectionError('<requests.packages.urllib3.connection.HTTPConnection object at 0x7efc75ce8350>: Failed to establish a new connection: [Errno -2] Name or service not known',))\n",
      "local variable 'img_request' referenced before assignment\n",
      "HTTPConnectionPool(host='img2.soyoung.com', port=80): Max retries exceeded with url: /tieba/web/20161107/9/20161107130503771_570.jpg (Caused by NewConnectionError('<requests.packages.urllib3.connection.HTTPConnection object at 0x7efc75ce8190>: Failed to establish a new connection: [Errno -2] Name or service not known',))\n",
      "local variable 'img_request' referenced before assignment\n",
      "HTTPConnectionPool(host='img2.soyoung.com', port=80): Max retries exceeded with url: /tieba/web/20161107/5/20161107130508207_570.jpg (Caused by NewConnectionError('<requests.packages.urllib3.connection.HTTPConnection object at 0x7efc75cf91d0>: Failed to establish a new connection: [Errno -2] Name or service not known',))\n",
      "local variable 'img_request' referenced before assignment\n",
      "HTTPConnectionPool(host='img2.soyoung.com', port=80): Max retries exceeded with url: /tieba/web/20161107/5/20161107130512747_570.jpg (Caused by NewConnectionError('<requests.packages.urllib3.connection.HTTPConnection object at 0x7efc75ce8b90>: Failed to establish a new connection: [Errno -2] Name or service not known',))\n",
      "local variable 'img_request' referenced before assignment\n",
      "HTTPConnectionPool(host='img2.soyoung.com', port=80): Max retries exceeded with url: /tieba/web/20161110/5/20161110172506380_570.jpg (Caused by NewConnectionError('<requests.packages.urllib3.connection.HTTPConnection object at 0x7efc75cf91d0>: Failed to establish a new connection: [Errno -2] Name or service not known',))\n",
      "local variable 'img_request' referenced before assignment\n",
      "HTTPConnectionPool(host='img2.soyoung.com', port=80): Max retries exceeded with url: /tieba/web/20161110/9/20161110172456985_570.jpg (Caused by NewConnectionError('<requests.packages.urllib3.connection.HTTPConnection object at 0x7efc75ce86d0>: Failed to establish a new connection: [Errno -2] Name or service not known',))\n",
      "local variable 'img_request' referenced before assignment\n",
      "HTTPConnectionPool(host='img2.soyoung.com', port=80): Max retries exceeded with url: /tieba/web/20161110/0/20161110172512214_570.jpg (Caused by NewConnectionError('<requests.packages.urllib3.connection.HTTPConnection object at 0x7efc75ce8490>: Failed to establish a new connection: [Errno -2] Name or service not known',))\n",
      "local variable 'img_request' referenced before assignment\n",
      "HTTPConnectionPool(host='img2.soyoung.com', port=80): Max retries exceeded with url: /tieba/web/20161110/0/20161110172603988_570.jpg (Caused by NewConnectionError('<requests.packages.urllib3.connection.HTTPConnection object at 0x7efc75ce8f90>: Failed to establish a new connection: [Errno -2] Name or service not known',))\n",
      "local variable 'img_request' referenced before assignment\n",
      "HTTPConnectionPool(host='img2.soyoung.com', port=80): Max retries exceeded with url: /tieba/web/20161110/0/20161110172609290_570.jpg (Caused by NewConnectionError('<requests.packages.urllib3.connection.HTTPConnection object at 0x7efc75ce84d0>: Failed to establish a new connection: [Errno -2] Name or service not known',))\n",
      "local variable 'img_request' referenced before assignment\n",
      "HTTPConnectionPool(host='img2.soyoung.com', port=80): Max retries exceeded with url: /tieba/web/20161110/1/20161110172535492_570.jpg (Caused by NewConnectionError('<requests.packages.urllib3.connection.HTTPConnection object at 0x7efc75ce8890>: Failed to establish a new connection: [Errno -2] Name or service not known',))\n",
      "local variable 'img_request' referenced before assignment\n",
      "HTTPConnectionPool(host='img2.soyoung.com', port=80): Max retries exceeded with url: /tieba/web/20161110/2/20161110172625482_570.jpg (Caused by NewConnectionError('<requests.packages.urllib3.connection.HTTPConnection object at 0x7efc75ce8e90>: Failed to establish a new connection: [Errno -2] Name or service not known',))\n",
      "local variable 'img_request' referenced before assignment\n",
      "HTTPConnectionPool(host='img2.soyoung.com', port=80): Max retries exceeded with url: /tieba/web/20161110/8/20161110172630478_570.jpg (Caused by NewConnectionError('<requests.packages.urllib3.connection.HTTPConnection object at 0x7efc77d22ed0>: Failed to establish a new connection: [Errno -2] Name or service not known',))\n",
      "local variable 'img_request' referenced before assignment\n",
      "HTTPConnectionPool(host='img2.soyoung.com', port=80): Max retries exceeded with url: /tieba/web/20161110/3/20161110172635991_570.jpg (Caused by NewConnectionError('<requests.packages.urllib3.connection.HTTPConnection object at 0x7efc75ce8b90>: Failed to establish a new connection: [Errno -2] Name or service not known',))\n",
      "local variable 'img_request' referenced before assignment\n",
      "HTTPConnectionPool(host='img2.soyoung.com', port=80): Max retries exceeded with url: /tieba/web/20161112/0/20161112000822273_570.jpg (Caused by NewConnectionError('<requests.packages.urllib3.connection.HTTPConnection object at 0x7efc75ce8990>: Failed to establish a new connection: [Errno -2] Name or service not known',))\n",
      "local variable 'img_request' referenced before assignment\n",
      "HTTPConnectionPool(host='img2.soyoung.com', port=80): Max retries exceeded with url: /tieba/web/20161112/0/20161112000904600_570.jpg (Caused by NewConnectionError('<requests.packages.urllib3.connection.HTTPConnection object at 0x7efc77d22e90>: Failed to establish a new connection: [Errno -2] Name or service not known',))\n",
      "local variable 'img_request' referenced before assignment\n"
     ]
    },
    {
     "name": "stdout",
     "output_type": "stream",
     "text": [
      "HTTPConnectionPool(host='img2.soyoung.com', port=80): Max retries exceeded with url: /tieba/web/20161112/2/20161112000949461_570.jpg (Caused by NewConnectionError('<requests.packages.urllib3.connection.HTTPConnection object at 0x7efc75d04e10>: Failed to establish a new connection: [Errno -2] Name or service not known',))\n",
      "local variable 'img_request' referenced before assignment\n",
      "HTTPConnectionPool(host='img2.soyoung.com', port=80): Max retries exceeded with url: /tieba/web/20161112/4/20161112001059268_570.jpg (Caused by NewConnectionError('<requests.packages.urllib3.connection.HTTPConnection object at 0x7efc7466f410>: Failed to establish a new connection: [Errno -2] Name or service not known',))\n",
      "local variable 'img_request' referenced before assignment\n",
      "HTTPConnectionPool(host='img2.soyoung.com', port=80): Max retries exceeded with url: /tieba/web/20161112/7/20161112001144204_570.jpg (Caused by NewConnectionError('<requests.packages.urllib3.connection.HTTPConnection object at 0x7efc77faa9d0>: Failed to establish a new connection: [Errno -2] Name or service not known',))\n",
      "local variable 'img_request' referenced before assignment\n",
      "HTTPConnectionPool(host='img2.soyoung.com', port=80): Max retries exceeded with url: /tieba/web/20161112/6/20161112001159832_570.jpg (Caused by NewConnectionError('<requests.packages.urllib3.connection.HTTPConnection object at 0x7efc75d04e50>: Failed to establish a new connection: [Errno -2] Name or service not known',))\n",
      "local variable 'img_request' referenced before assignment\n",
      "HTTPConnectionPool(host='img2.soyoung.com', port=80): Max retries exceeded with url: /tieba/web/20161112/1/20161112001249829_570.jpg (Caused by NewConnectionError('<requests.packages.urllib3.connection.HTTPConnection object at 0x7efc75d04d50>: Failed to establish a new connection: [Errno -2] Name or service not known',))\n",
      "local variable 'img_request' referenced before assignment\n",
      "HTTPConnectionPool(host='img2.soyoung.com', port=80): Max retries exceeded with url: /tieba/web/20161112/9/20161112001306285_570.jpg (Caused by NewConnectionError('<requests.packages.urllib3.connection.HTTPConnection object at 0x7efc77faaa90>: Failed to establish a new connection: [Errno -2] Name or service not known',))\n",
      "local variable 'img_request' referenced before assignment\n",
      "HTTPConnectionPool(host='img2.soyoung.com', port=80): Max retries exceeded with url: /tieba/web/20161031/4/20161031152112204_570.jpg (Caused by NewConnectionError('<requests.packages.urllib3.connection.HTTPConnection object at 0x7efc75d047d0>: Failed to establish a new connection: [Errno -2] Name or service not known',))\n",
      "local variable 'img_request' referenced before assignment\n",
      "HTTPConnectionPool(host='img2.soyoung.com', port=80): Max retries exceeded with url: /tieba/web/20161031/4/20161031152139694_570.jpg (Caused by NewConnectionError('<requests.packages.urllib3.connection.HTTPConnection object at 0x7efc77faab50>: Failed to establish a new connection: [Errno -2] Name or service not known',))\n",
      "local variable 'img_request' referenced before assignment\n",
      "HTTPConnectionPool(host='img2.soyoung.com', port=80): Max retries exceeded with url: /tieba/web/20161031/0/20161031152055592_570.jpg (Caused by NewConnectionError('<requests.packages.urllib3.connection.HTTPConnection object at 0x7efc75d04090>: Failed to establish a new connection: [Errno -2] Name or service not known',))\n",
      "local variable 'img_request' referenced before assignment\n",
      "HTTPConnectionPool(host='img2.soyoung.com', port=80): Max retries exceeded with url: /tieba/web/20161031/8/20161031152223118_570.png (Caused by NewConnectionError('<requests.packages.urllib3.connection.HTTPConnection object at 0x7efc77faa910>: Failed to establish a new connection: [Errno -2] Name or service not known',))\n",
      "local variable 'img_request' referenced before assignment\n",
      "HTTPConnectionPool(host='img2.soyoung.com', port=80): Max retries exceeded with url: /tieba/web/20161112/7/20161112001500923_570.jpg (Caused by NewConnectionError('<requests.packages.urllib3.connection.HTTPConnection object at 0x7efc7466f950>: Failed to establish a new connection: [Errno -2] Name or service not known',))\n",
      "local variable 'img_request' referenced before assignment\n",
      "HTTPConnectionPool(host='img2.soyoung.com', port=80): Max retries exceeded with url: /tieba/web/20161112/8/20161112001516255_570.jpg (Caused by NewConnectionError('<requests.packages.urllib3.connection.HTTPConnection object at 0x7efc7466fbd0>: Failed to establish a new connection: [Errno -2] Name or service not known',))\n",
      "local variable 'img_request' referenced before assignment\n",
      "HTTPConnectionPool(host='img2.soyoung.com', port=80): Max retries exceeded with url: /tieba/web/20161112/9/20161112001531974_570.jpg (Caused by NewConnectionError('<requests.packages.urllib3.connection.HTTPConnection object at 0x7efc7466f210>: Failed to establish a new connection: [Errno -2] Name or service not known',))\n",
      "local variable 'img_request' referenced before assignment\n",
      "HTTPConnectionPool(host='img2.soyoung.com', port=80): Max retries exceeded with url: /tieba/web/20161112/0/20161112001708985_570.jpg (Caused by NewConnectionError('<requests.packages.urllib3.connection.HTTPConnection object at 0x7efc7466fc90>: Failed to establish a new connection: [Errno -2] Name or service not known',))\n",
      "local variable 'img_request' referenced before assignment\n",
      "HTTPConnectionPool(host='img2.soyoung.com', port=80): Max retries exceeded with url: /tieba/web/20161112/2/20161112001545601_570.jpg (Caused by NewConnectionError('<requests.packages.urllib3.connection.HTTPConnection object at 0x7efc7466f390>: Failed to establish a new connection: [Errno -2] Name or service not known',))\n",
      "local variable 'img_request' referenced before assignment\n",
      "HTTPConnectionPool(host='img2.soyoung.com', port=80): Max retries exceeded with url: /tieba/web/20161112/0/20161112002007744_570.jpg (Caused by NewConnectionError('<requests.packages.urllib3.connection.HTTPConnection object at 0x7efc7466f250>: Failed to establish a new connection: [Errno -2] Name or service not known',))\n",
      "local variable 'img_request' referenced before assignment\n",
      "HTTPConnectionPool(host='img2.soyoung.com', port=80): Max retries exceeded with url: /tieba/web/20161112/5/20161112001937163_570.jpg (Caused by NewConnectionError('<requests.packages.urllib3.connection.HTTPConnection object at 0x7efc7466f610>: Failed to establish a new connection: [Errno -2] Name or service not known',))\n",
      "local variable 'img_request' referenced before assignment\n",
      "HTTPConnectionPool(host='img2.soyoung.com', port=80): Max retries exceeded with url: /tieba/web/20161112/5/20161112002028960_570.jpg (Caused by NewConnectionError('<requests.packages.urllib3.connection.HTTPConnection object at 0x7efc7466f310>: Failed to establish a new connection: [Errno -2] Name or service not known',))\n",
      "local variable 'img_request' referenced before assignment\n",
      "HTTPConnectionPool(host='img2.soyoung.com', port=80): Max retries exceeded with url: /tieba/web/20161112/1/20161112002124206_570.jpg (Caused by NewConnectionError('<requests.packages.urllib3.connection.HTTPConnection object at 0x7efc74678890>: Failed to establish a new connection: [Errno -2] Name or service not known',))\n",
      "local variable 'img_request' referenced before assignment\n",
      "HTTPConnectionPool(host='img2.soyoung.com', port=80): Max retries exceeded with url: /tieba/web/20161112/6/20161112002659632_570.jpg (Caused by NewConnectionError('<requests.packages.urllib3.connection.HTTPConnection object at 0x7efc746786d0>: Failed to establish a new connection: [Errno -2] Name or service not known',))\n",
      "local variable 'img_request' referenced before assignment\n",
      "HTTPConnectionPool(host='img2.soyoung.com', port=80): Max retries exceeded with url: /tieba/web/20161112/6/20161112002754809_570.jpg (Caused by NewConnectionError('<requests.packages.urllib3.connection.HTTPConnection object at 0x7efc74678150>: Failed to establish a new connection: [Errno -2] Name or service not known',))\n",
      "local variable 'img_request' referenced before assignment\n",
      "HTTPConnectionPool(host='img2.soyoung.com', port=80): Max retries exceeded with url: /tieba/web/20161112/9/20161112002828419_570.jpg (Caused by NewConnectionError('<requests.packages.urllib3.connection.HTTPConnection object at 0x7efc74678d10>: Failed to establish a new connection: [Errno -2] Name or service not known',))\n",
      "local variable 'img_request' referenced before assignment\n",
      "HTTPConnectionPool(host='img2.soyoung.com', port=80): Max retries exceeded with url: /tieba/web/20161112/7/20161112002843130_570.jpg (Caused by NewConnectionError('<requests.packages.urllib3.connection.HTTPConnection object at 0x7efc74678e50>: Failed to establish a new connection: [Errno -2] Name or service not known',))\n",
      "local variable 'img_request' referenced before assignment\n",
      "HTTPConnectionPool(host='img2.soyoung.com', port=80): Max retries exceeded with url: /tieba/web/20161112/7/20161112002857203_570.jpg (Caused by NewConnectionError('<requests.packages.urllib3.connection.HTTPConnection object at 0x7efc74678a90>: Failed to establish a new connection: [Errno -2] Name or service not known',))\n",
      "local variable 'img_request' referenced before assignment\n",
      "HTTPConnectionPool(host='img2.soyoung.com', port=80): Max retries exceeded with url: /tieba/ios/20161008/0/20161008223128971_570.jpg (Caused by NewConnectionError('<requests.packages.urllib3.connection.HTTPConnection object at 0x7efc74678550>: Failed to establish a new connection: [Errno -2] Name or service not known',))\n",
      "local variable 'img_request' referenced before assignment\n",
      "HTTPConnectionPool(host='img2.soyoung.com', port=80): Max retries exceeded with url: /tieba/ios/20161008/9/20161008223135734_570.jpg (Caused by NewConnectionError('<requests.packages.urllib3.connection.HTTPConnection object at 0x7efc7467e990>: Failed to establish a new connection: [Errno -2] Name or service not known',))\n",
      "local variable 'img_request' referenced before assignment\n"
     ]
    },
    {
     "name": "stdout",
     "output_type": "stream",
     "text": [
      "HTTPConnectionPool(host='img2.soyoung.com', port=80): Max retries exceeded with url: /tieba/ios/20161008/6/20161008223125916_570.jpg (Caused by NewConnectionError('<requests.packages.urllib3.connection.HTTPConnection object at 0x7efc74678b50>: Failed to establish a new connection: [Errno -2] Name or service not known',))\n",
      "local variable 'img_request' referenced before assignment\n",
      "HTTPConnectionPool(host='img2.soyoung.com', port=80): Max retries exceeded with url: /tieba/web/20160919/3/20160919102552565_570.png (Caused by NewConnectionError('<requests.packages.urllib3.connection.HTTPConnection object at 0x7efc7467ead0>: Failed to establish a new connection: [Errno -2] Name or service not known',))\n",
      "local variable 'img_request' referenced before assignment\n",
      "HTTPConnectionPool(host='img2.soyoung.com', port=80): Max retries exceeded with url: /tieba/web/20160919/0/20160919102558302_570.png (Caused by NewConnectionError('<requests.packages.urllib3.connection.HTTPConnection object at 0x7efc7467ecd0>: Failed to establish a new connection: [Errno -2] Name or service not known',))\n",
      "local variable 'img_request' referenced before assignment\n",
      "HTTPConnectionPool(host='img2.soyoung.com', port=80): Max retries exceeded with url: /tieba/web/20160919/0/20160919102604982_570.png (Caused by NewConnectionError('<requests.packages.urllib3.connection.HTTPConnection object at 0x7efc7467e350>: Failed to establish a new connection: [Errno -2] Name or service not known',))\n",
      "local variable 'img_request' referenced before assignment\n",
      "HTTPConnectionPool(host='img2.soyoung.com', port=80): Max retries exceeded with url: /tieba/web/20160919/2/20160919102613800_570.png (Caused by NewConnectionError('<requests.packages.urllib3.connection.HTTPConnection object at 0x7efc7467e390>: Failed to establish a new connection: [Errno -2] Name or service not known',))\n",
      "local variable 'img_request' referenced before assignment\n",
      "HTTPConnectionPool(host='img2.soyoung.com', port=80): Max retries exceeded with url: /tieba/web/20160919/8/20160919102623951_570.jpg (Caused by NewConnectionError('<requests.packages.urllib3.connection.HTTPConnection object at 0x7efc7467e250>: Failed to establish a new connection: [Errno -2] Name or service not known',))\n",
      "local variable 'img_request' referenced before assignment\n",
      "HTTPConnectionPool(host='img2.soyoung.com', port=80): Max retries exceeded with url: /tieba/web/20160919/4/20160919102618833_570.jpg (Caused by NewConnectionError('<requests.packages.urllib3.connection.HTTPConnection object at 0x7efc7467e4d0>: Failed to establish a new connection: [Errno -2] Name or service not known',))\n",
      "local variable 'img_request' referenced before assignment\n",
      "HTTPConnectionPool(host='img2.soyoung.com', port=80): Max retries exceeded with url: /tieba/web/20160920/1/20160920095449670_570.png (Caused by NewConnectionError('<requests.packages.urllib3.connection.HTTPConnection object at 0x7efc7467eb90>: Failed to establish a new connection: [Errno -2] Name or service not known',))\n",
      "local variable 'img_request' referenced before assignment\n",
      "HTTPConnectionPool(host='img2.soyoung.com', port=80): Max retries exceeded with url: /tieba/web/20160920/6/20160920095501734_570.png (Caused by NewConnectionError('<requests.packages.urllib3.connection.HTTPConnection object at 0x7efc7467ead0>: Failed to establish a new connection: [Errno -2] Name or service not known',))\n",
      "local variable 'img_request' referenced before assignment\n",
      "HTTPConnectionPool(host='img2.soyoung.com', port=80): Max retries exceeded with url: /tieba/web/20160920/0/20160920095509572_570.png (Caused by NewConnectionError('<requests.packages.urllib3.connection.HTTPConnection object at 0x7efc7467ead0>: Failed to establish a new connection: [Errno -2] Name or service not known',))\n",
      "local variable 'img_request' referenced before assignment\n",
      "HTTPConnectionPool(host='img2.soyoung.com', port=80): Max retries exceeded with url: /tieba/web/20160920/4/20160920095516940_570.png (Caused by NewConnectionError('<requests.packages.urllib3.connection.HTTPConnection object at 0x7efc74686990>: Failed to establish a new connection: [Errno -2] Name or service not known',))\n",
      "local variable 'img_request' referenced before assignment\n",
      "HTTPConnectionPool(host='img2.soyoung.com', port=80): Max retries exceeded with url: /tieba/web/20160920/8/20160920095524150_570.png (Caused by NewConnectionError('<requests.packages.urllib3.connection.HTTPConnection object at 0x7efc74686d50>: Failed to establish a new connection: [Errno -2] Name or service not known',))\n",
      "local variable 'img_request' referenced before assignment\n",
      "HTTPConnectionPool(host='img2.soyoung.com', port=80): Max retries exceeded with url: /tieba/web/20160919/2/20160919101714303_570.jpg (Caused by NewConnectionError('<requests.packages.urllib3.connection.HTTPConnection object at 0x7efc746869d0>: Failed to establish a new connection: [Errno -2] Name or service not known',))\n",
      "local variable 'img_request' referenced before assignment\n"
     ]
    }
   ],
   "source": [
    "if __name__=='__main__':\n",
    "    \n",
    "    choose=raw_input('which set (1-24)?: ')\n",
    "    try:\n",
    "        os.mkdir('img_'+str(choose))\n",
    "    except:\n",
    "        print 'dir img_'+str(choose)+' exists'\n",
    "    \n",
    "    direct='img_'+str(choose)\n",
    "    df=pd.read_csv('img_'+str(choose)+'.csv')\n",
    "    nn=df.shape[0]\n",
    "    print nn,' pics'\n",
    "    \n",
    "    \n",
    "    urls=[]\n",
    "    for i in df.itertuples():\n",
    "        urls.append(str(i[1])+'__'+str(i[2]))\n",
    "    print len(urls)==nn\n",
    "    \n",
    "    many=int(raw_input('how many IDs a batch?: '))\n",
    "      \n",
    "    \n",
    "    p=0\n",
    "    q=0\n",
    "    for i in spl(urls, many):\n",
    "        q+=1\n",
    "        batch(i)\n",
    "        p+=many/float(nn)\n",
    "        print p*100,'%', nn, many*q \n",
    "\n",
    "    fl = pd.DataFrame(fail, columns=['fail_url'])\n",
    "    fl.save('failed_img_'+str(choose)+'.csv')"
   ]
  },
  {
   "cell_type": "code",
   "execution_count": null,
   "metadata": {
    "collapsed": true
   },
   "outputs": [],
   "source": []
  },
  {
   "cell_type": "code",
   "execution_count": null,
   "metadata": {
    "collapsed": true
   },
   "outputs": [],
   "source": []
  },
  {
   "cell_type": "code",
   "execution_count": null,
   "metadata": {
    "collapsed": true
   },
   "outputs": [],
   "source": []
  },
  {
   "cell_type": "code",
   "execution_count": null,
   "metadata": {
    "collapsed": true
   },
   "outputs": [],
   "source": []
  },
  {
   "cell_type": "code",
   "execution_count": null,
   "metadata": {
    "collapsed": true
   },
   "outputs": [],
   "source": []
  }
 ],
 "metadata": {
  "kernelspec": {
   "display_name": "Python 2",
   "language": "python",
   "name": "python2"
  },
  "language_info": {
   "codemirror_mode": {
    "name": "ipython",
    "version": 2
   },
   "file_extension": ".py",
   "mimetype": "text/x-python",
   "name": "python",
   "nbconvert_exporter": "python",
   "pygments_lexer": "ipython2",
   "version": "2.7.13"
  }
 },
 "nbformat": 4,
 "nbformat_minor": 2
}
