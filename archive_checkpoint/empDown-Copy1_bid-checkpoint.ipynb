{
 "cells": [
  {
   "cell_type": "code",
   "execution_count": 1,
   "metadata": {
    "collapsed": true
   },
   "outputs": [],
   "source": [
    "# encoding=utf8\n",
    "# import sys\n",
    "# reload(sys)\n",
    "# sys.setdefaultencoding('utf8')\n",
    "\n",
    "import pandas as pd\n",
    "import os\n",
    "from time import time, ctime\n",
    "\n",
    "import concurrent.futures\n",
    "import requests\n",
    "from lxml import etree\n",
    "from bs4 import BeautifulSoup"
   ]
  },
  {
   "cell_type": "code",
   "execution_count": 2,
   "metadata": {},
   "outputs": [
    {
     "name": "stdout",
     "output_type": "stream",
     "text": [
      "bidderDown.ipynb  data\t\t\t emp_pages2\t emppages.zip\r\n",
      "bid_pages\t  empDown__bidder.ipynb  emp_pages2.zip  Instructions.docx\r\n",
      "bid_pages2\t  empDown.ipynb\t\t emp_pages3\t old\r\n",
      "code\t\t  emp_pages\t\t emp_pages4\t test.ipynb\r\n"
     ]
    }
   ],
   "source": [
    "!ls"
   ]
  },
  {
   "cell_type": "code",
   "execution_count": 6,
   "metadata": {},
   "outputs": [],
   "source": [
    "# os.mkdir('emp_pages4')"
   ]
  },
  {
   "cell_type": "code",
   "execution_count": 7,
   "metadata": {},
   "outputs": [
    {
     "data": {
      "text/plain": [
       "(14362, 2)"
      ]
     },
     "execution_count": 7,
     "metadata": {},
     "output_type": "execute_result"
    }
   ],
   "source": [
    "empname=pd.read_csv('data/employerIDs_username.csv')\n",
    "empname.shape"
   ]
  },
  {
   "cell_type": "code",
   "execution_count": 8,
   "metadata": {
    "collapsed": true
   },
   "outputs": [],
   "source": [
    "pre='https://www.freelancer.com/u/'"
   ]
  },
  {
   "cell_type": "code",
   "execution_count": 9,
   "metadata": {
    "scrolled": true
   },
   "outputs": [
    {
     "data": {
      "text/html": [
       "<div>\n",
       "<style>\n",
       "    .dataframe thead tr:only-child th {\n",
       "        text-align: right;\n",
       "    }\n",
       "\n",
       "    .dataframe thead th {\n",
       "        text-align: left;\n",
       "    }\n",
       "\n",
       "    .dataframe tbody tr th {\n",
       "        vertical-align: top;\n",
       "    }\n",
       "</style>\n",
       "<table border=\"1\" class=\"dataframe\">\n",
       "  <thead>\n",
       "    <tr style=\"text-align: right;\">\n",
       "      <th></th>\n",
       "      <th>user_id</th>\n",
       "      <th>username</th>\n",
       "    </tr>\n",
       "  </thead>\n",
       "  <tbody>\n",
       "    <tr>\n",
       "      <th>0</th>\n",
       "      <td>399</td>\n",
       "      <td>dreamdash</td>\n",
       "    </tr>\n",
       "    <tr>\n",
       "      <th>1</th>\n",
       "      <td>532</td>\n",
       "      <td>sunsetsurf</td>\n",
       "    </tr>\n",
       "    <tr>\n",
       "      <th>2</th>\n",
       "      <td>978</td>\n",
       "      <td>lobster</td>\n",
       "    </tr>\n",
       "    <tr>\n",
       "      <th>3</th>\n",
       "      <td>2263</td>\n",
       "      <td>Bushsong</td>\n",
       "    </tr>\n",
       "    <tr>\n",
       "      <th>4</th>\n",
       "      <td>2873</td>\n",
       "      <td>empiredetroit</td>\n",
       "    </tr>\n",
       "  </tbody>\n",
       "</table>\n",
       "</div>"
      ],
      "text/plain": [
       "   user_id       username\n",
       "0      399      dreamdash\n",
       "1      532     sunsetsurf\n",
       "2      978        lobster\n",
       "3     2263       Bushsong\n",
       "4     2873  empiredetroit"
      ]
     },
     "execution_count": 9,
     "metadata": {},
     "output_type": "execute_result"
    }
   ],
   "source": [
    "empname.head()"
   ]
  },
  {
   "cell_type": "code",
   "execution_count": 10,
   "metadata": {},
   "outputs": [
    {
     "data": {
      "text/plain": [
       "(14362, (14362, 2))"
      ]
     },
     "execution_count": 10,
     "metadata": {},
     "output_type": "execute_result"
    }
   ],
   "source": [
    "len(empname['username'].unique()), empname.shape"
   ]
  },
  {
   "cell_type": "code",
   "execution_count": 11,
   "metadata": {
    "collapsed": true
   },
   "outputs": [],
   "source": [
    "# one=empname['username'][7]\n",
    "# one"
   ]
  },
  {
   "cell_type": "code",
   "execution_count": 12,
   "metadata": {
    "collapsed": true
   },
   "outputs": [],
   "source": [
    "# test = pre+one"
   ]
  },
  {
   "cell_type": "code",
   "execution_count": 13,
   "metadata": {
    "collapsed": true
   },
   "outputs": [],
   "source": [
    "# fl = requests.get(test)\n",
    "# fl"
   ]
  },
  {
   "cell_type": "code",
   "execution_count": 14,
   "metadata": {
    "collapsed": true
   },
   "outputs": [],
   "source": [
    "fail=[]"
   ]
  },
  {
   "cell_type": "code",
   "execution_count": 15,
   "metadata": {},
   "outputs": [
    {
     "name": "stdout",
     "output_type": "stream",
     "text": [
      "14362\n"
     ]
    },
    {
     "data": {
      "text/plain": [
       "['dreamdash', 'sunsetsurf', 'lobster']"
      ]
     },
     "execution_count": 15,
     "metadata": {},
     "output_type": "execute_result"
    }
   ],
   "source": [
    "allemp=empname['username'].tolist()\n",
    "print len(allemp)\n",
    "allemp[:3]"
   ]
  },
  {
   "cell_type": "code",
   "execution_count": 16,
   "metadata": {},
   "outputs": [
    {
     "data": {
      "text/plain": [
       "14362"
      ]
     },
     "execution_count": 16,
     "metadata": {},
     "output_type": "execute_result"
    }
   ],
   "source": [
    "len(allemp)"
   ]
  },
  {
   "cell_type": "code",
   "execution_count": 17,
   "metadata": {},
   "outputs": [],
   "source": [
    "fail=[]\n",
    "def getsingle(name):\n",
    "    global fail\n",
    "    try:\n",
    "        one=requests.get(pre+name)\n",
    "        with open('emp_pages4/{}.html'.format(name), 'w+') as fl:\n",
    "            fl.write(one.text.encode('utf-8').strip())\n",
    "    except Exception as e:\n",
    "        print e\n",
    "#         print 'X',\n",
    "        fail.append(name)\n",
    "#         print 'O',\n",
    "#     return fail"
   ]
  },
  {
   "cell_type": "code",
   "execution_count": 18,
   "metadata": {
    "collapsed": true
   },
   "outputs": [],
   "source": [
    "def batch(allnames):\n",
    "    start=time()\n",
    "    with concurrent.futures.ThreadPoolExecutor(max_workers=8) as executor:\n",
    "        executor.map(getsingle, allnames)\n",
    "    past='{:.2f}'.format(time()-start)\n",
    "    now=ctime()[4:]\n",
    "\n",
    "    print 'profiles ',len(allnames),'  used ',past,'s', now\n"
   ]
  },
  {
   "cell_type": "code",
   "execution_count": null,
   "metadata": {},
   "outputs": [
    {
     "name": "stdout",
     "output_type": "stream",
     "text": [
      "HTTPSConnectionPool(host='www.freelancer.com', port=443): Max retries exceeded with url: /u/Rayzak (Caused by NewConnectionError('<requests.packages.urllib3.connection.VerifiedHTTPSConnection object at 0x7fd8f0102310>: Failed to establish a new connection: [Errno -2] Name or service not known',))\n",
      "HTTPSConnectionPool(host='www.freelancer.com', port=443): Max retries exceeded with url: /u/bsherie (Caused by NewConnectionError('<requests.packages.urllib3.connection.VerifiedHTTPSConnection object at 0x7fd8f00f4fd0>: Failed to establish a new connection: [Errno -2] Name or service not known',))\n",
      "HTTPSConnectionPool(host='www.freelancer.com', port=443): Max retries exceeded with url: /u/blackiegray (Caused by NewConnectionError('<requests.packages.urllib3.connection.VerifiedHTTPSConnection object at 0x7fd8f0102d90>: Failed to establish a new connection: [Errno -2] Name or service not known',))\n",
      "HTTPSConnectionPool(host='www.freelancer.com', port=443): Max retries exceeded with url: /u/babloo786 (Caused by NewConnectionError('<requests.packages.urllib3.connection.VerifiedHTTPSConnection object at 0x7fd8f0102e10>: Failed to establish a new connection: [Errno -2] Name or service not known',))\n",
      "HTTPSConnectionPool(host='www.freelancer.com', port=443): Max retries exceeded with url: /u/mayanknweb (Caused by NewConnectionError('<requests.packages.urllib3.connection.VerifiedHTTPSConnection object at 0x7fd8f0102650>: Failed to establish a new connection: [Errno -2] Name or service not known',))\n",
      "HTTPSConnectionPool(host='www.freelancer.com', port=443): Max retries exceeded with url: /u/SuperiorInternet (Caused by NewConnectionError('<requests.packages.urllib3.connection.VerifiedHTTPSConnection object at 0x7fd8f00ec110>: Failed to establish a new connection: [Errno -2] Name or service not known',))\n",
      "HTTPSConnectionPool(host='www.freelancer.com', port=443): Max retries exceeded with url: /u/woody2010 (Caused by NewConnectionError('<requests.packages.urllib3.connection.VerifiedHTTPSConnection object at 0x7fd8f0102390>: Failed to establish a new connection: [Errno -2] Name or service not known',))\n",
      "HTTPSConnectionPool(host='www.freelancer.com', port=443): Max retries exceeded with url: /u/themich (Caused by NewConnectionError('<requests.packages.urllib3.connection.VerifiedHTTPSConnection object at 0x7fd8f0102690>: Failed to establish a new connection: [Errno -5] No address associated with hostname',))\n",
      "HTTPSConnectionPool(host='www.freelancer.com', port=443): Max retries exceeded with url: /u/ste (Caused by NewConnectionError('<requests.packages.urllib3.connection.VerifiedHTTPSConnection object at 0x7fd8f0102350>: Failed to establish a new connection: [Errno -2] Name or service not known',))\n",
      "HTTPSConnectionPool(host='www.freelancer.com', port=443): Max retries exceeded with url: /u/fiach (Caused by NewConnectionError('<requests.packages.urllib3.connection.VerifiedHTTPSConnection object at 0x7fd8f0102450>: Failed to establish a new connection: [Errno -5] No address associated with hostname',))\n",
      "HTTPSConnectionPool(host='www.freelancer.com', port=443): Max retries exceeded with url: /u/rgnegley (Caused by NewConnectionError('<requests.packages.urllib3.connection.VerifiedHTTPSConnection object at 0x7fd8f0102e90>: Failed to establish a new connection: [Errno -5] No address associated with hostname',))\n",
      "HTTPSConnectionPool(host='www.freelancer.com', port=443): Max retries exceeded with url: /u/shabanehsan (Caused by NewConnectionError('<requests.packages.urllib3.connection.VerifiedHTTPSConnection object at 0x7fd8d95c3210>: Failed to establish a new connection: [Errno -2] Name or service not known',))\n",
      "HTTPSConnectionPool(host='www.freelancer.com', port=443): Max retries exceeded with url: /u/LeeG (Caused by NewConnectionError('<requests.packages.urllib3.connection.VerifiedHTTPSConnection object at 0x7fd8f0102e90>: Failed to establish a new connection: [Errno -2] Name or service not known',))\n",
      "HTTPSConnectionPool(host='www.freelancer.com', port=443): Max retries exceeded with url: /u/graphicleesign (Caused by NewConnectionError('<requests.packages.urllib3.connection.VerifiedHTTPSConnection object at 0x7fd8f00fae90>: Failed to establish a new connection: [Errno -2] Name or service not known',))\n",
      "HTTPSConnectionPool(host='www.freelancer.com', port=443): Max retries exceeded with url: /u/moorebw (Caused by NewConnectionError('<requests.packages.urllib3.connection.VerifiedHTTPSConnection object at 0x7fd8f0091050>: Failed to establish a new connection: [Errno -2] Name or service not known',))\n",
      "HTTPSConnectionPool(host='www.freelancer.com', port=443): Max retries exceeded with url: /u/jameslee888sg (Caused by NewConnectionError('<requests.packages.urllib3.connection.VerifiedHTTPSConnection object at 0x7fd8f00facd0>: Failed to establish a new connection: [Errno -2] Name or service not known',))\n",
      "HTTPSConnectionPool(host='www.freelancer.com', port=443): Max retries exceeded with url: /u/safari18 (Caused by NewConnectionError('<requests.packages.urllib3.connection.VerifiedHTTPSConnection object at 0x7fd8f0091110>: Failed to establish a new connection: [Errno -2] Name or service not known',))\n",
      "HTTPSConnectionPool(host='www.freelancer.com', port=443): Max retries exceeded with url: /u/kjellgrant (Caused by NewConnectionError('<requests.packages.urllib3.connection.VerifiedHTTPSConnection object at 0x7fd8f00fa210>: Failed to establish a new connection: [Errno -2] Name or service not known',))\n",
      "HTTPSConnectionPool(host='www.freelancer.com', port=443): Max retries exceeded with url: /u/johndiaone (Caused by NewConnectionError('<requests.packages.urllib3.connection.VerifiedHTTPSConnection object at 0x7fd8f0091890>: Failed to establish a new connection: [Errno -2] Name or service not known',))\n",
      "HTTPSConnectionPool(host='www.freelancer.com', port=443): Max retries exceeded with url: /u/acewebstudio (Caused by NewConnectionError('<requests.packages.urllib3.connection.VerifiedHTTPSConnection object at 0x7fd8f0091ed0>: Failed to establish a new connection: [Errno -2] Name or service not known',))\n",
      "HTTPSConnectionPool(host='www.freelancer.com', port=443): Max retries exceeded with url: /u/hawaiiseo (Caused by NewConnectionError('<requests.packages.urllib3.connection.VerifiedHTTPSConnection object at 0x7fd8f0091e50>: Failed to establish a new connection: [Errno -2] Name or service not known',))\n",
      "HTTPSConnectionPool(host='www.freelancer.com', port=443): Max retries exceeded with url: /u/tdoherty (Caused by NewConnectionError('<requests.packages.urllib3.connection.VerifiedHTTPSConnection object at 0x7fd8f0091890>: Failed to establish a new connection: [Errno -2] Name or service not known',))\n",
      "HTTPSConnectionPool(host='www.freelancer.com', port=443): Max retries exceeded with url: /u/rizzzwan (Caused by NewConnectionError('<requests.packages.urllib3.connection.VerifiedHTTPSConnection object at 0x7fd8f00fa990>: Failed to establish a new connection: [Errno -2] Name or service not known',))\n",
      "HTTPSConnectionPool(host='www.freelancer.com', port=443): Max retries exceeded with url: /u/pranesh1977 (Caused by NewConnectionError('<requests.packages.urllib3.connection.VerifiedHTTPSConnection object at 0x7fd8f00fa990>: Failed to establish a new connection: [Errno -2] Name or service not known',))\n",
      "HTTPSConnectionPool(host='www.freelancer.com', port=443): Max retries exceeded with url: /u/frankb (Caused by NewConnectionError('<requests.packages.urllib3.connection.VerifiedHTTPSConnection object at 0x7fd8f0102310>: Failed to establish a new connection: [Errno 111] Connection refused',))\n",
      "HTTPSConnectionPool(host='www.freelancer.com', port=443): Max retries exceeded with url: /u/ducttape (Caused by NewConnectionError('<requests.packages.urllib3.connection.VerifiedHTTPSConnection object at 0x7fd8f0102e10>: Failed to establish a new connection: [Errno 111] Connection refused',))\n",
      "HTTPSConnectionPool(host='www.freelancer.com', port=443): Max retries exceeded with url: /u/tcooper02 (Caused by NewConnectionError('<requests.packages.urllib3.connection.VerifiedHTTPSConnection object at 0x7fd8f00f4f50>: Failed to establish a new connection: [Errno 111] Connection refused',))\n",
      "HTTPSConnectionPool(host='www.freelancer.com', port=443): Max retries exceeded with url: /u/sherscha (Caused by NewConnectionError('<requests.packages.urllib3.connection.VerifiedHTTPSConnection object at 0x7fd8f00fa750>: Failed to establish a new connection: [Errno 111] Connection refused',))\n",
      "HTTPSConnectionPool(host='www.freelancer.com', port=443): Max retries exceeded with url: /u/waven (Caused by NewConnectionError('<requests.packages.urllib3.connection.VerifiedHTTPSConnection object at 0x7fd8f0098690>: Failed to establish a new connection: [Errno 111] Connection refused',))\n"
     ]
    },
    {
     "name": "stdout",
     "output_type": "stream",
     "text": [
      "HTTPSConnectionPool(host='www.freelancer.com', port=443): Max retries exceeded with url: /u/sanwebcouk (Caused by NewConnectionError('<requests.packages.urllib3.connection.VerifiedHTTPSConnection object at 0x7fd8f0082590>: Failed to establish a new connection: [Errno -2] Name or service not known',))\n",
      "HTTPSConnectionPool(host='www.freelancer.com', port=443): Max retries exceeded with url: /u/PrizumaGamming (Caused by NewConnectionError('<requests.packages.urllib3.connection.VerifiedHTTPSConnection object at 0x7fd8da7cea10>: Failed to establish a new connection: [Errno -2] Name or service not known',))\n",
      "HTTPSConnectionPool(host='www.freelancer.com', port=443): Max retries exceeded with url: /u/jpservicez (Caused by NewConnectionError('<requests.packages.urllib3.connection.VerifiedHTTPSConnection object at 0x7fd8f0018890>: Failed to establish a new connection: [Errno -2] Name or service not known',))\n",
      "HTTPSConnectionPool(host='www.freelancer.com', port=443): Max retries exceeded with url: /u/pacwaymanager (Caused by NewConnectionError('<requests.packages.urllib3.connection.VerifiedHTTPSConnection object at 0x7fd8f0018890>: Failed to establish a new connection: [Errno -2] Name or service not known',))\n",
      "HTTPSConnectionPool(host='www.freelancer.com', port=443): Max retries exceeded with url: /u/raiiden (Caused by NewConnectionError('<requests.packages.urllib3.connection.VerifiedHTTPSConnection object at 0x7fd8f0082890>: Failed to establish a new connection: [Errno -5] No address associated with hostname',))\n",
      "HTTPSConnectionPool(host='www.freelancer.com', port=443): Max retries exceeded with url: /u/Stockegg (Caused by NewConnectionError('<requests.packages.urllib3.connection.VerifiedHTTPSConnection object at 0x7fd8f0082850>: Failed to establish a new connection: [Errno -2] Name or service not known',))\n",
      "HTTPSConnectionPool(host='www.freelancer.com', port=443): Max retries exceeded with url: /u/jmddata (Caused by NewConnectionError('<requests.packages.urllib3.connection.VerifiedHTTPSConnection object at 0x7fd8f0082250>: Failed to establish a new connection: [Errno -2] Name or service not known',))\n",
      "HTTPSConnectionPool(host='www.freelancer.com', port=443): Max retries exceeded with url: /u/timob (Caused by NewConnectionError('<requests.packages.urllib3.connection.VerifiedHTTPSConnection object at 0x7fd8f0082890>: Failed to establish a new connection: [Errno -2] Name or service not known',))\n",
      "HTTPSConnectionPool(host='www.freelancer.com', port=443): Max retries exceeded with url: /u/courtierweb (Caused by NewConnectionError('<requests.packages.urllib3.connection.VerifiedHTTPSConnection object at 0x7fd8f0082850>: Failed to establish a new connection: [Errno -2] Name or service not known',))\n",
      "HTTPSConnectionPool(host='www.freelancer.com', port=443): Max retries exceeded with url: /u/STATBD (Caused by NewConnectionError('<requests.packages.urllib3.connection.VerifiedHTTPSConnection object at 0x7fd8f0046e10>: Failed to establish a new connection: [Errno -2] Name or service not known',))\n",
      "HTTPSConnectionPool(host='www.freelancer.com', port=443): Max retries exceeded with url: /u/dcentric (Caused by NewConnectionError('<requests.packages.urllib3.connection.VerifiedHTTPSConnection object at 0x7fd8f0046450>: Failed to establish a new connection: [Errno -2] Name or service not known',))\n",
      "HTTPSConnectionPool(host='www.freelancer.com', port=443): Max retries exceeded with url: /u/gutekunstb (Caused by NewConnectionError('<requests.packages.urllib3.connection.VerifiedHTTPSConnection object at 0x7fd8f000a810>: Failed to establish a new connection: [Errno -2] Name or service not known',))\n",
      "HTTPSConnectionPool(host='www.freelancer.com', port=443): Max retries exceeded with url: /u/samp (Caused by NewConnectionError('<requests.packages.urllib3.connection.VerifiedHTTPSConnection object at 0x7fd8f0046650>: Failed to establish a new connection: [Errno -2] Name or service not known',))\n",
      "HTTPSConnectionPool(host='www.freelancer.com', port=443): Max retries exceeded with url: /u/jidewura (Caused by NewConnectionError('<requests.packages.urllib3.connection.VerifiedHTTPSConnection object at 0x7fd8f0018290>: Failed to establish a new connection: [Errno -2] Name or service not known',))\n",
      "HTTPSConnectionPool(host='www.freelancer.com', port=443): Max retries exceeded with url: /u/meno (Caused by NewConnectionError('<requests.packages.urllib3.connection.VerifiedHTTPSConnection object at 0x7fd8f00183d0>: Failed to establish a new connection: [Errno -5] No address associated with hostname',))\n",
      "HTTPSConnectionPool(host='www.freelancer.com', port=443): Max retries exceeded with url: /u/sck9 (Caused by NewConnectionError('<requests.packages.urllib3.connection.VerifiedHTTPSConnection object at 0x7fd8f0018190>: Failed to establish a new connection: [Errno -2] Name or service not known',))\n",
      "HTTPSConnectionPool(host='www.freelancer.com', port=443): Max retries exceeded with url: /u/JCTS (Caused by NewConnectionError('<requests.packages.urllib3.connection.VerifiedHTTPSConnection object at 0x7fd8f0046450>: Failed to establish a new connection: [Errno -2] Name or service not known',))\n",
      "HTTPSConnectionPool(host='www.freelancer.com', port=443): Max retries exceeded with url: /u/akoprivec (Caused by NewConnectionError('<requests.packages.urllib3.connection.VerifiedHTTPSConnection object at 0x7fd8f00188d0>: Failed to establish a new connection: [Errno -2] Name or service not known',))\n",
      "HTTPSConnectionPool(host='www.freelancer.com', port=443): Max retries exceeded with url: /u/uchapman (Caused by NewConnectionError('<requests.packages.urllib3.connection.VerifiedHTTPSConnection object at 0x7fd8f00282d0>: Failed to establish a new connection: [Errno -2] Name or service not known',))\n",
      "HTTPSConnectionPool(host='www.freelancer.com', port=443): Max retries exceeded with url: /u/thecorsican (Caused by NewConnectionError('<requests.packages.urllib3.connection.VerifiedHTTPSConnection object at 0x7fd8f0028b10>: Failed to establish a new connection: [Errno -2] Name or service not known',))\n",
      "HTTPSConnectionPool(host='www.freelancer.com', port=443): Max retries exceeded with url: /u/kingdom (Caused by NewConnectionError('<requests.packages.urllib3.connection.VerifiedHTTPSConnection object at 0x7fd8f0028bd0>: Failed to establish a new connection: [Errno -2] Name or service not known',))\n",
      "HTTPSConnectionPool(host='www.freelancer.com', port=443): Max retries exceeded with url: /u/zondasoft (Caused by NewConnectionError('<requests.packages.urllib3.connection.VerifiedHTTPSConnection object at 0x7fd8f0028f90>: Failed to establish a new connection: [Errno -2] Name or service not known',))\n",
      "HTTPSConnectionPool(host='www.freelancer.com', port=443): Max retries exceeded with url: /u/pglennon (Caused by NewConnectionError('<requests.packages.urllib3.connection.VerifiedHTTPSConnection object at 0x7fd8f0028950>: Failed to establish a new connection: [Errno -2] Name or service not known',))\n",
      "HTTPSConnectionPool(host='www.freelancer.com', port=443): Max retries exceeded with url: /u/Loupy (Caused by NewConnectionError('<requests.packages.urllib3.connection.VerifiedHTTPSConnection object at 0x7fd8f0011c10>: Failed to establish a new connection: [Errno -2] Name or service not known',))\n",
      "HTTPSConnectionPool(host='www.freelancer.com', port=443): Max retries exceeded with url: /u/pitorian (Caused by NewConnectionError('<requests.packages.urllib3.connection.VerifiedHTTPSConnection object at 0x7fd8f00825d0>: Failed to establish a new connection: [Errno -2] Name or service not known',))\n",
      "HTTPSConnectionPool(host='www.freelancer.com', port=443): Max retries exceeded with url: /u/kylieprobids (Caused by NewConnectionError('<requests.packages.urllib3.connection.VerifiedHTTPSConnection object at 0x7fd8f0011ad0>: Failed to establish a new connection: [Errno -2] Name or service not known',))\n",
      "HTTPSConnectionPool(host='www.freelancer.com', port=443): Max retries exceeded with url: /u/livetech (Caused by NewConnectionError('<requests.packages.urllib3.connection.VerifiedHTTPSConnection object at 0x7fd8f0046550>: Failed to establish a new connection: [Errno -2] Name or service not known',))\n",
      "HTTPSConnectionPool(host='www.freelancer.com', port=443): Max retries exceeded with url: /u/barefut74 (Caused by NewConnectionError('<requests.packages.urllib3.connection.VerifiedHTTPSConnection object at 0x7fd8f00469d0>: Failed to establish a new connection: [Errno -2] Name or service not known',))\n",
      "HTTPSConnectionPool(host='www.freelancer.com', port=443): Max retries exceeded with url: /u/selfhelp (Caused by NewConnectionError('<requests.packages.urllib3.connection.VerifiedHTTPSConnection object at 0x7fd8f00119d0>: Failed to establish a new connection: [Errno -5] No address associated with hostname',))\n",
      "HTTPSConnectionPool(host='www.freelancer.com', port=443): Max retries exceeded with url: /u/tulsagraphics (Caused by NewConnectionError('<requests.packages.urllib3.connection.VerifiedHTTPSConnection object at 0x7fd8f002f890>: Failed to establish a new connection: [Errno -2] Name or service not known',))\n",
      "HTTPSConnectionPool(host='www.freelancer.com', port=443): Max retries exceeded with url: /u/kfallis (Caused by NewConnectionError('<requests.packages.urllib3.connection.VerifiedHTTPSConnection object at 0x7fd8f002f610>: Failed to establish a new connection: [Errno -2] Name or service not known',))\n",
      "HTTPSConnectionPool(host='www.freelancer.com', port=443): Max retries exceeded with url: /u/moor1980 (Caused by NewConnectionError('<requests.packages.urllib3.connection.VerifiedHTTPSConnection object at 0x7fd8f002f2d0>: Failed to establish a new connection: [Errno -2] Name or service not known',))\n",
      "HTTPSConnectionPool(host='www.freelancer.com', port=443): Max retries exceeded with url: /u/eonteam (Caused by NewConnectionError('<requests.packages.urllib3.connection.VerifiedHTTPSConnection object at 0x7fd8f002f890>: Failed to establish a new connection: [Errno -2] Name or service not known',))\n",
      "HTTPSConnectionPool(host='www.freelancer.com', port=443): Max retries exceeded with url: /u/demidi (Caused by NewConnectionError('<requests.packages.urllib3.connection.VerifiedHTTPSConnection object at 0x7fd8f002f610>: Failed to establish a new connection: [Errno -2] Name or service not known',))\n",
      "HTTPSConnectionPool(host='www.freelancer.com', port=443): Max retries exceeded with url: /u/dasimpson (Caused by NewConnectionError('<requests.packages.urllib3.connection.VerifiedHTTPSConnection object at 0x7fd8f00119d0>: Failed to establish a new connection: [Errno -5] No address associated with hostname',))\n",
      "HTTPSConnectionPool(host='www.freelancer.com', port=443): Max retries exceeded with url: /u/S7527547A (Caused by NewConnectionError('<requests.packages.urllib3.connection.VerifiedHTTPSConnection object at 0x7fd8f002f7d0>: Failed to establish a new connection: [Errno -2] Name or service not known',))\n",
      "HTTPSConnectionPool(host='www.freelancer.com', port=443): Max retries exceeded with url: /u/Glanmire (Caused by NewConnectionError('<requests.packages.urllib3.connection.VerifiedHTTPSConnection object at 0x7fd8f002f710>: Failed to establish a new connection: [Errno -2] Name or service not known',))\n",
      "HTTPSConnectionPool(host='www.freelancer.com', port=443): Max retries exceeded with url: /u/Geovank (Caused by NewConnectionError('<requests.packages.urllib3.connection.VerifiedHTTPSConnection object at 0x7fd8f002fe50>: Failed to establish a new connection: [Errno -2] Name or service not known',))\n",
      "HTTPSConnectionPool(host='www.freelancer.com', port=443): Max retries exceeded with url: /u/andringa (Caused by NewConnectionError('<requests.packages.urllib3.connection.VerifiedHTTPSConnection object at 0x7fd8f002f710>: Failed to establish a new connection: [Errno -2] Name or service not known',))\n",
      "HTTPSConnectionPool(host='www.freelancer.com', port=443): Max retries exceeded with url: /u/Ramon (Caused by NewConnectionError('<requests.packages.urllib3.connection.VerifiedHTTPSConnection object at 0x7fd8f002f2d0>: Failed to establish a new connection: [Errno -5] No address associated with hostname',))\n",
      "HTTPSConnectionPool(host='www.freelancer.com', port=443): Max retries exceeded with url: /u/penguin (Caused by NewConnectionError('<requests.packages.urllib3.connection.VerifiedHTTPSConnection object at 0x7fd8f0018bd0>: Failed to establish a new connection: [Errno -2] Name or service not known',))\n",
      "HTTPSConnectionPool(host='www.freelancer.com', port=443): Max retries exceeded with url: /u/infopack (Caused by NewConnectionError('<requests.packages.urllib3.connection.VerifiedHTTPSConnection object at 0x7fd8f002f610>: Failed to establish a new connection: [Errno -2] Name or service not known',))\n",
      "HTTPSConnectionPool(host='www.freelancer.com', port=443): Max retries exceeded with url: /u/vipmast (Caused by NewConnectionError('<requests.packages.urllib3.connection.VerifiedHTTPSConnection object at 0x7fd8f0018110>: Failed to establish a new connection: [Errno -2] Name or service not known',))\n",
      "HTTPSConnectionPool(host='www.freelancer.com', port=443): Max retries exceeded with url: /u/anuraga (Caused by NewConnectionError('<requests.packages.urllib3.connection.VerifiedHTTPSConnection object at 0x7fd8f0036090>: Failed to establish a new connection: [Errno -2] Name or service not known',))\n"
     ]
    },
    {
     "name": "stdout",
     "output_type": "stream",
     "text": [
      "HTTPSConnectionPool(host='www.freelancer.com', port=443): Max retries exceeded with url: /u/ragirbes (Caused by NewConnectionError('<requests.packages.urllib3.connection.VerifiedHTTPSConnection object at 0x7fd8f0082f50>: Failed to establish a new connection: [Errno 111] Connection refused',))\n",
      "HTTPSConnectionPool(host='www.freelancer.com', port=443): Max retries exceeded with url: /u/robbi8299 (Caused by NewConnectionError('<requests.packages.urllib3.connection.VerifiedHTTPSConnection object at 0x7fd8f000ad50>: Failed to establish a new connection: [Errno 111] Connection refused',))\n",
      "HTTPSConnectionPool(host='www.freelancer.com', port=443): Max retries exceeded with url: /u/HenryRA (Caused by NewConnectionError('<requests.packages.urllib3.connection.VerifiedHTTPSConnection object at 0x7fd8f0018350>: Failed to establish a new connection: [Errno 111] Connection refused',))\n",
      "HTTPSConnectionPool(host='www.freelancer.com', port=443): Max retries exceeded with url: /u/apexgroup (Caused by NewConnectionError('<requests.packages.urllib3.connection.VerifiedHTTPSConnection object at 0x7fd8f0011e10>: Failed to establish a new connection: [Errno 111] Connection refused',))\n",
      "HTTPSConnectionPool(host='www.freelancer.com', port=443): Max retries exceeded with url: /u/LITTLEEVILBUNNY (Caused by NewConnectionError('<requests.packages.urllib3.connection.VerifiedHTTPSConnection object at 0x7fd8f0018bd0>: Failed to establish a new connection: [Errno 111] Connection refused',))\n",
      "HTTPSConnectionPool(host='www.freelancer.com', port=443): Max retries exceeded with url: /u/FLASHDESIGNER01 (Caused by NewConnectionError('<requests.packages.urllib3.connection.VerifiedHTTPSConnection object at 0x7fd8f00367d0>: Failed to establish a new connection: [Errno -2] Name or service not known',))\n",
      "HTTPSConnectionPool(host='www.freelancer.com', port=443): Max retries exceeded with url: /u/MaFlu (Caused by NewConnectionError('<requests.packages.urllib3.connection.VerifiedHTTPSConnection object at 0x7fd8f00825d0>: Failed to establish a new connection: [Errno -2] Name or service not known',))\n",
      "HTTPSConnectionPool(host='www.freelancer.com', port=443): Max retries exceeded with url: /u/kingrus (Caused by NewConnectionError('<requests.packages.urllib3.connection.VerifiedHTTPSConnection object at 0x7fd8f0045e10>: Failed to establish a new connection: [Errno -2] Name or service not known',))\n",
      "HTTPSConnectionPool(host='www.freelancer.com', port=443): Max retries exceeded with url: /u/instastamp (Caused by NewConnectionError('<requests.packages.urllib3.connection.VerifiedHTTPSConnection object at 0x7fd8f0045e90>: Failed to establish a new connection: [Errno -2] Name or service not known',))\n",
      "HTTPSConnectionPool(host='www.freelancer.com', port=443): Max retries exceeded with url: /u/traxprod (Caused by NewConnectionError('<requests.packages.urllib3.connection.VerifiedHTTPSConnection object at 0x7fd8f0045450>: Failed to establish a new connection: [Errno -2] Name or service not known',))\n",
      "HTTPSConnectionPool(host='www.freelancer.com', port=443): Max retries exceeded with url: /u/GUTLOKIN1 (Caused by NewConnectionError('<requests.packages.urllib3.connection.VerifiedHTTPSConnection object at 0x7fd8f0045e50>: Failed to establish a new connection: [Errno -2] Name or service not known',))\n",
      "HTTPSConnectionPool(host='www.freelancer.com', port=443): Max retries exceeded with url: /u/klint (Caused by NewConnectionError('<requests.packages.urllib3.connection.VerifiedHTTPSConnection object at 0x7fd8dafd5a50>: Failed to establish a new connection: [Errno -2] Name or service not known',))\n",
      "HTTPSConnectionPool(host='www.freelancer.com', port=443): Max retries exceeded with url: /u/daik97 (Caused by NewConnectionError('<requests.packages.urllib3.connection.VerifiedHTTPSConnection object at 0x7fd8f0045f10>: Failed to establish a new connection: [Errno -2] Name or service not known',))\n",
      "HTTPSConnectionPool(host='www.freelancer.com', port=443): Max retries exceeded with url: /u/taxstar (Caused by NewConnectionError('<requests.packages.urllib3.connection.VerifiedHTTPSConnection object at 0x7fd8dafd5cd0>: Failed to establish a new connection: [Errno -2] Name or service not known',))\n",
      "HTTPSConnectionPool(host='www.freelancer.com', port=443): Max retries exceeded with url: /u/iKonic (Caused by NewConnectionError('<requests.packages.urllib3.connection.VerifiedHTTPSConnection object at 0x7fd8dafd5e10>: Failed to establish a new connection: [Errno -2] Name or service not known',))\n",
      "HTTPSConnectionPool(host='www.freelancer.com', port=443): Max retries exceeded with url: /u/billonca (Caused by NewConnectionError('<requests.packages.urllib3.connection.VerifiedHTTPSConnection object at 0x7fd8dafd5bd0>: Failed to establish a new connection: [Errno -2] Name or service not known',))\n",
      "HTTPSConnectionPool(host='www.freelancer.com', port=443): Max retries exceeded with url: /u/bigkhong (Caused by NewConnectionError('<requests.packages.urllib3.connection.VerifiedHTTPSConnection object at 0x7fd8dafd5c50>: Failed to establish a new connection: [Errno -2] Name or service not known',))\n",
      "HTTPSConnectionPool(host='www.freelancer.com', port=443): Max retries exceeded with url: /u/cfactory (Caused by NewConnectionError('<requests.packages.urllib3.connection.VerifiedHTTPSConnection object at 0x7fd8dafd51d0>: Failed to establish a new connection: [Errno -2] Name or service not known',))\n",
      "HTTPSConnectionPool(host='www.freelancer.com', port=443): Max retries exceeded with url: /u/buzzlyhan (Caused by NewConnectionError('<requests.packages.urllib3.connection.VerifiedHTTPSConnection object at 0x7fd8dafc6a90>: Failed to establish a new connection: [Errno -2] Name or service not known',))\n",
      "HTTPSConnectionPool(host='www.freelancer.com', port=443): Max retries exceeded with url: /u/BossTweed (Caused by NewConnectionError('<requests.packages.urllib3.connection.VerifiedHTTPSConnection object at 0x7fd8dafd5f50>: Failed to establish a new connection: [Errno -2] Name or service not known',))\n",
      "HTTPSConnectionPool(host='www.freelancer.com', port=443): Max retries exceeded with url: /u/g3chorus (Caused by NewConnectionError('<requests.packages.urllib3.connection.VerifiedHTTPSConnection object at 0x7fd8dafd5a50>: Failed to establish a new connection: [Errno -5] No address associated with hostname',))\n",
      "HTTPSConnectionPool(host='www.freelancer.com', port=443): Max retries exceeded with url: /u/swick003 (Caused by NewConnectionError('<requests.packages.urllib3.connection.VerifiedHTTPSConnection object at 0x7fd8dafc6110>: Failed to establish a new connection: [Errno -2] Name or service not known',))\n",
      "HTTPSConnectionPool(host='www.freelancer.com', port=443): Max retries exceeded with url: /u/jvp (Caused by NewConnectionError('<requests.packages.urllib3.connection.VerifiedHTTPSConnection object at 0x7fd8dafc67d0>: Failed to establish a new connection: [Errno -2] Name or service not known',))\n",
      "HTTPSConnectionPool(host='www.freelancer.com', port=443): Max retries exceeded with url: /u/ColinRule (Caused by NewConnectionError('<requests.packages.urllib3.connection.VerifiedHTTPSConnection object at 0x7fd8dafc6a90>: Failed to establish a new connection: [Errno -2] Name or service not known',))\n",
      "HTTPSConnectionPool(host='www.freelancer.com', port=443): Max retries exceeded with url: /u/aschenbr (Caused by NewConnectionError('<requests.packages.urllib3.connection.VerifiedHTTPSConnection object at 0x7fd8dafdb790>: Failed to establish a new connection: [Errno -2] Name or service not known',))\n",
      "HTTPSConnectionPool(host='www.freelancer.com', port=443): Max retries exceeded with url: /u/csimone (Caused by NewConnectionError('<requests.packages.urllib3.connection.VerifiedHTTPSConnection object at 0x7fd8dafdbb50>: Failed to establish a new connection: [Errno -2] Name or service not known',))\n",
      "HTTPSConnectionPool(host='www.freelancer.com', port=443): Max retries exceeded with url: /u/alorwebdesign (Caused by NewConnectionError('<requests.packages.urllib3.connection.VerifiedHTTPSConnection object at 0x7fd8dafdbe90>: Failed to establish a new connection: [Errno -2] Name or service not known',))\n",
      "HTTPSConnectionPool(host='www.freelancer.com', port=443): Max retries exceeded with url: /u/ponnarasiBabu (Caused by NewConnectionError('<requests.packages.urllib3.connection.VerifiedHTTPSConnection object at 0x7fd8dafd54d0>: Failed to establish a new connection: [Errno -2] Name or service not known',))\n",
      "HTTPSConnectionPool(host='www.freelancer.com', port=443): Max retries exceeded with url: /u/titans13 (Caused by NewConnectionError('<requests.packages.urllib3.connection.VerifiedHTTPSConnection object at 0x7fd8dafcee90>: Failed to establish a new connection: [Errno -2] Name or service not known',))\n",
      "HTTPSConnectionPool(host='www.freelancer.com', port=443): Max retries exceeded with url: /u/mrugendrabhure (Caused by NewConnectionError('<requests.packages.urllib3.connection.VerifiedHTTPSConnection object at 0x7fd8dafdb8d0>: Failed to establish a new connection: [Errno -2] Name or service not known',))\n",
      "HTTPSConnectionPool(host='www.freelancer.com', port=443): Max retries exceeded with url: /u/jigsaw (Caused by NewConnectionError('<requests.packages.urllib3.connection.VerifiedHTTPSConnection object at 0x7fd8dafe4790>: Failed to establish a new connection: [Errno -2] Name or service not known',))\n",
      "HTTPSConnectionPool(host='www.freelancer.com', port=443): Max retries exceeded with url: /u/everypcneed (Caused by NewConnectionError('<requests.packages.urllib3.connection.VerifiedHTTPSConnection object at 0x7fd8dafce590>: Failed to establish a new connection: [Errno -2] Name or service not known',))\n",
      "HTTPSConnectionPool(host='www.freelancer.com', port=443): Max retries exceeded with url: /u/benreason (Caused by NewConnectionError('<requests.packages.urllib3.connection.VerifiedHTTPSConnection object at 0x7fd8dafe45d0>: Failed to establish a new connection: [Errno -2] Name or service not known',))\n",
      "HTTPSConnectionPool(host='www.freelancer.com', port=443): Max retries exceeded with url: /u/jreeder (Caused by NewConnectionError('<requests.packages.urllib3.connection.VerifiedHTTPSConnection object at 0x7fd8dafce4d0>: Failed to establish a new connection: [Errno -2] Name or service not known',))\n",
      "HTTPSConnectionPool(host='www.freelancer.com', port=443): Max retries exceeded with url: /u/Dave12345 (Caused by NewConnectionError('<requests.packages.urllib3.connection.VerifiedHTTPSConnection object at 0x7fd8dafe4850>: Failed to establish a new connection: [Errno -2] Name or service not known',))\n",
      "HTTPSConnectionPool(host='www.freelancer.com', port=443): Max retries exceeded with url: /u/CypherBird (Caused by NewConnectionError('<requests.packages.urllib3.connection.VerifiedHTTPSConnection object at 0x7fd8dafcee10>: Failed to establish a new connection: [Errno -2] Name or service not known',))\n",
      "HTTPSConnectionPool(host='www.freelancer.com', port=443): Max retries exceeded with url: /u/fareastern (Caused by NewConnectionError('<requests.packages.urllib3.connection.VerifiedHTTPSConnection object at 0x7fd8dafce610>: Failed to establish a new connection: [Errno -2] Name or service not known',))\n",
      "HTTPSConnectionPool(host='www.freelancer.com', port=443): Max retries exceeded with url: /u/chillthemost (Caused by NewConnectionError('<requests.packages.urllib3.connection.VerifiedHTTPSConnection object at 0x7fd8dafce4d0>: Failed to establish a new connection: [Errno -2] Name or service not known',))\n",
      "HTTPSConnectionPool(host='www.freelancer.com', port=443): Max retries exceeded with url: /u/BCBC (Caused by NewConnectionError('<requests.packages.urllib3.connection.VerifiedHTTPSConnection object at 0x7fd8dafdbb10>: Failed to establish a new connection: [Errno -2] Name or service not known',))\n",
      "HTTPSConnectionPool(host='www.freelancer.com', port=443): Max retries exceeded with url: /u/spizzo14 (Caused by NewConnectionError('<requests.packages.urllib3.connection.VerifiedHTTPSConnection object at 0x7fd8dafe4350>: Failed to establish a new connection: [Errno -2] Name or service not known',))\n"
     ]
    },
    {
     "name": "stdout",
     "output_type": "stream",
     "text": [
      "HTTPSConnectionPool(host='www.freelancer.com', port=443): Max retries exceeded with url: /u/dkobia (Caused by NewConnectionError('<requests.packages.urllib3.connection.VerifiedHTTPSConnection object at 0x7fd8dafc6d10>: Failed to establish a new connection: [Errno -2] Name or service not known',))\n",
      "HTTPSConnectionPool(host='www.freelancer.com', port=443): Max retries exceeded with url: /u/BarryWebSEO (Caused by NewConnectionError('<requests.packages.urllib3.connection.VerifiedHTTPSConnection object at 0x7fd8dafc6190>: Failed to establish a new connection: [Errno -2] Name or service not known',))\n",
      "HTTPSConnectionPool(host='www.freelancer.com', port=443): Max retries exceeded with url: /u/ulysses (Caused by NewConnectionError('<requests.packages.urllib3.connection.VerifiedHTTPSConnection object at 0x7fd8dafc6610>: Failed to establish a new connection: [Errno -2] Name or service not known',))\n",
      "HTTPSConnectionPool(host='www.freelancer.com', port=443): Max retries exceeded with url: /u/captainandy14 (Caused by NewConnectionError('<requests.packages.urllib3.connection.VerifiedHTTPSConnection object at 0x7fd8d95504d0>: Failed to establish a new connection: [Errno -2] Name or service not known',))\n",
      "HTTPSConnectionPool(host='www.freelancer.com', port=443): Max retries exceeded with url: /u/sanjushah (Caused by NewConnectionError('<requests.packages.urllib3.connection.VerifiedHTTPSConnection object at 0x7fd8dafce550>: Failed to establish a new connection: [Errno -2] Name or service not known',))\n",
      "HTTPSConnectionPool(host='www.freelancer.com', port=443): Max retries exceeded with url: /u/award99 (Caused by NewConnectionError('<requests.packages.urllib3.connection.VerifiedHTTPSConnection object at 0x7fd8dafdbf10>: Failed to establish a new connection: [Errno -2] Name or service not known',))\n",
      "HTTPSConnectionPool(host='www.freelancer.com', port=443): Max retries exceeded with url: /u/jellybabys (Caused by NewConnectionError('<requests.packages.urllib3.connection.VerifiedHTTPSConnection object at 0x7fd8dafc65d0>: Failed to establish a new connection: [Errno -2] Name or service not known',))\n",
      "HTTPSConnectionPool(host='www.freelancer.com', port=443): Max retries exceeded with url: /u/rdm009 (Caused by NewConnectionError('<requests.packages.urllib3.connection.VerifiedHTTPSConnection object at 0x7fd8dafdbc90>: Failed to establish a new connection: [Errno -2] Name or service not known',))\n",
      "HTTPSConnectionPool(host='www.freelancer.com', port=443): Max retries exceeded with url: /u/ronrrico (Caused by NewConnectionError('<requests.packages.urllib3.connection.VerifiedHTTPSConnection object at 0x7fd8dafc6610>: Failed to establish a new connection: [Errno -2] Name or service not known',))\n",
      "HTTPSConnectionPool(host='www.freelancer.com', port=443): Max retries exceeded with url: /u/ctxrealty (Caused by NewConnectionError('<requests.packages.urllib3.connection.VerifiedHTTPSConnection object at 0x7fd8dafc6a90>: Failed to establish a new connection: [Errno -2] Name or service not known',))\n",
      "HTTPSConnectionPool(host='www.freelancer.com', port=443): Max retries exceeded with url: /u/cmtusa (Caused by NewConnectionError('<requests.packages.urllib3.connection.VerifiedHTTPSConnection object at 0x7fd8dafc6dd0>: Failed to establish a new connection: [Errno -2] Name or service not known',))\n",
      "HTTPSConnectionPool(host='www.freelancer.com', port=443): Max retries exceeded with url: /u/mrcityrunner (Caused by NewConnectionError('<requests.packages.urllib3.connection.VerifiedHTTPSConnection object at 0x7fd8dafc6a90>: Failed to establish a new connection: [Errno -5] No address associated with hostname',))\n",
      "HTTPSConnectionPool(host='www.freelancer.com', port=443): Max retries exceeded with url: /u/radcorpindia (Caused by NewConnectionError('<requests.packages.urllib3.connection.VerifiedHTTPSConnection object at 0x7fd8daff2750>: Failed to establish a new connection: [Errno -2] Name or service not known',))\n",
      "HTTPSConnectionPool(host='www.freelancer.com', port=443): Max retries exceeded with url: /u/kmgroup (Caused by NewConnectionError('<requests.packages.urllib3.connection.VerifiedHTTPSConnection object at 0x7fd8daff2210>: Failed to establish a new connection: [Errno -2] Name or service not known',))\n",
      "HTTPSConnectionPool(host='www.freelancer.com', port=443): Max retries exceeded with url: /u/tfountain24 (Caused by NewConnectionError('<requests.packages.urllib3.connection.VerifiedHTTPSConnection object at 0x7fd8daff2250>: Failed to establish a new connection: [Errno -2] Name or service not known',))\n",
      "HTTPSConnectionPool(host='www.freelancer.com', port=443): Max retries exceeded with url: /u/RaFaMp (Caused by NewConnectionError('<requests.packages.urllib3.connection.VerifiedHTTPSConnection object at 0x7fd8daff2710>: Failed to establish a new connection: [Errno -2] Name or service not known',))\n",
      "HTTPSConnectionPool(host='www.freelancer.com', port=443): Max retries exceeded with url: /u/kotechaparmar (Caused by NewConnectionError('<requests.packages.urllib3.connection.VerifiedHTTPSConnection object at 0x7fd8daff2750>: Failed to establish a new connection: [Errno -2] Name or service not known',))\n",
      "HTTPSConnectionPool(host='www.freelancer.com', port=443): Max retries exceeded with url: /u/ICorporation (Caused by NewConnectionError('<requests.packages.urllib3.connection.VerifiedHTTPSConnection object at 0x7fd8daff2210>: Failed to establish a new connection: [Errno -2] Name or service not known',))\n",
      "HTTPSConnectionPool(host='www.freelancer.com', port=443): Max retries exceeded with url: /u/Mickoes (Caused by NewConnectionError('<requests.packages.urllib3.connection.VerifiedHTTPSConnection object at 0x7fd8dafc6ad0>: Failed to establish a new connection: [Errno 111] Connection refused',))\n",
      "HTTPSConnectionPool(host='www.freelancer.com', port=443): Max retries exceeded with url: /u/runner007 (Caused by NewConnectionError('<requests.packages.urllib3.connection.VerifiedHTTPSConnection object at 0x7fd8dafc6390>: Failed to establish a new connection: [Errno 111] Connection refused',))\n",
      "HTTPSConnectionPool(host='www.freelancer.com', port=443): Max retries exceeded with url: /u/RahulReddy (Caused by NewConnectionError('<requests.packages.urllib3.connection.VerifiedHTTPSConnection object at 0x7fd8dafec390>: Failed to establish a new connection: [Errno 111] Connection refused',))\n",
      "HTTPSConnectionPool(host='www.freelancer.com', port=443): Max retries exceeded with url: /u/InventDesign (Caused by NewConnectionError('<requests.packages.urllib3.connection.VerifiedHTTPSConnection object at 0x7fd8daff2250>: Failed to establish a new connection: [Errno 111] Connection refused',))\n",
      "HTTPSConnectionPool(host='www.freelancer.com', port=443): Max retries exceeded with url: /u/rawandy (Caused by NewConnectionError('<requests.packages.urllib3.connection.VerifiedHTTPSConnection object at 0x7fd8daf275d0>: Failed to establish a new connection: [Errno -2] Name or service not known',))\n",
      "HTTPSConnectionPool(host='www.freelancer.com', port=443): Max retries exceeded with url: /u/ceon (Caused by NewConnectionError('<requests.packages.urllib3.connection.VerifiedHTTPSConnection object at 0x7fd8f3be1790>: Failed to establish a new connection: [Errno -2] Name or service not known',))\n",
      "HTTPSConnectionPool(host='www.freelancer.com', port=443): Max retries exceeded with url: /u/loniyaco (Caused by NewConnectionError('<requests.packages.urllib3.connection.VerifiedHTTPSConnection object at 0x7fd8daf20b10>: Failed to establish a new connection: [Errno -2] Name or service not known',))\n",
      "HTTPSConnectionPool(host='www.freelancer.com', port=443): Max retries exceeded with url: /u/zip22033 (Caused by NewConnectionError('<requests.packages.urllib3.connection.VerifiedHTTPSConnection object at 0x7fd8daf27a50>: Failed to establish a new connection: [Errno -2] Name or service not known',))\n",
      "HTTPSConnectionPool(host='www.freelancer.com', port=443): Max retries exceeded with url: /u/dgarrowhead (Caused by NewConnectionError('<requests.packages.urllib3.connection.VerifiedHTTPSConnection object at 0x7fd8daf209d0>: Failed to establish a new connection: [Errno -5] No address associated with hostname',))\n",
      "HTTPSConnectionPool(host='www.freelancer.com', port=443): Max retries exceeded with url: /u/teewoods (Caused by NewConnectionError('<requests.packages.urllib3.connection.VerifiedHTTPSConnection object at 0x7fd8daf30410>: Failed to establish a new connection: [Errno -2] Name or service not known',))\n",
      "HTTPSConnectionPool(host='www.freelancer.com', port=443): Max retries exceeded with url: /u/tmgcorp (Caused by NewConnectionError('<requests.packages.urllib3.connection.VerifiedHTTPSConnection object at 0x7fd8daf30fd0>: Failed to establish a new connection: [Errno -2] Name or service not known',))\n",
      "HTTPSConnectionPool(host='www.freelancer.com', port=443): Max retries exceeded with url: /u/richwaytech (Caused by NewConnectionError('<requests.packages.urllib3.connection.VerifiedHTTPSConnection object at 0x7fd8daf20c50>: Failed to establish a new connection: [Errno -2] Name or service not known',))\n",
      "HTTPSConnectionPool(host='www.freelancer.com', port=443): Max retries exceeded with url: /u/reukhan (Caused by NewConnectionError('<requests.packages.urllib3.connection.VerifiedHTTPSConnection object at 0x7fd8daf203d0>: Failed to establish a new connection: [Errno -2] Name or service not known',))\n",
      "HTTPSConnectionPool(host='www.freelancer.com', port=443): Max retries exceeded with url: /u/derkwilken (Caused by NewConnectionError('<requests.packages.urllib3.connection.VerifiedHTTPSConnection object at 0x7fd8daf5d910>: Failed to establish a new connection: [Errno -2] Name or service not known',))\n",
      "HTTPSConnectionPool(host='www.freelancer.com', port=443): Max retries exceeded with url: /u/markstewart1 (Caused by NewConnectionError('<requests.packages.urllib3.connection.VerifiedHTTPSConnection object at 0x7fd8daf30ed0>: Failed to establish a new connection: [Errno -2] Name or service not known',))\n"
     ]
    },
    {
     "name": "stdout",
     "output_type": "stream",
     "text": [
      "HTTPSConnectionPool(host='www.freelancer.com', port=443): Max retries exceeded with url: /u/allcam (Caused by NewConnectionError('<requests.packages.urllib3.connection.VerifiedHTTPSConnection object at 0x7fd8daf02710>: Failed to establish a new connection: [Errno -2] Name or service not known',))\n",
      "HTTPSConnectionPool(host='www.freelancer.com', port=443): Max retries exceeded with url: /u/daimler (Caused by NewConnectionError('<requests.packages.urllib3.connection.VerifiedHTTPSConnection object at 0x7fd8daf279d0>: Failed to establish a new connection: [Errno -2] Name or service not known',))\n",
      "HTTPSConnectionPool(host='www.freelancer.com', port=443): Max retries exceeded with url: /u/whatpric (Caused by NewConnectionError('<requests.packages.urllib3.connection.VerifiedHTTPSConnection object at 0x7fd8daf27750>: Failed to establish a new connection: [Errno -2] Name or service not known',))\n",
      "HTTPSConnectionPool(host='www.freelancer.com', port=443): Max retries exceeded with url: /u/zico (Caused by NewConnectionError('<requests.packages.urllib3.connection.VerifiedHTTPSConnection object at 0x7fd8daf02610>: Failed to establish a new connection: [Errno -2] Name or service not known',))\n",
      "HTTPSConnectionPool(host='www.freelancer.com', port=443): Max retries exceeded with url: /u/zeeat (Caused by NewConnectionError('<requests.packages.urllib3.connection.VerifiedHTTPSConnection object at 0x7fd8daf5d6d0>: Failed to establish a new connection: [Errno -2] Name or service not known',))\n",
      "HTTPSConnectionPool(host='www.freelancer.com', port=443): Max retries exceeded with url: /u/swimhack (Caused by NewConnectionError('<requests.packages.urllib3.connection.VerifiedHTTPSConnection object at 0x7fd8daf27a50>: Failed to establish a new connection: [Errno -2] Name or service not known',))\n",
      "HTTPSConnectionPool(host='www.freelancer.com', port=443): Max retries exceeded with url: /u/gil3000 (Caused by NewConnectionError('<requests.packages.urllib3.connection.VerifiedHTTPSConnection object at 0x7fd8daf02610>: Failed to establish a new connection: [Errno -2] Name or service not known',))\n",
      "HTTPSConnectionPool(host='www.freelancer.com', port=443): Max retries exceeded with url: /u/unl0ad (Caused by NewConnectionError('<requests.packages.urllib3.connection.VerifiedHTTPSConnection object at 0x7fd8daf30710>: Failed to establish a new connection: [Errno -2] Name or service not known',))\n",
      "HTTPSConnectionPool(host='www.freelancer.com', port=443): Max retries exceeded with url: /u/sjcollegeboy (Caused by NewConnectionError('<requests.packages.urllib3.connection.VerifiedHTTPSConnection object at 0x7fd8daf27f50>: Failed to establish a new connection: [Errno -2] Name or service not known',))\n",
      "HTTPSConnectionPool(host='www.freelancer.com', port=443): Max retries exceeded with url: /u/stoffel99 (Caused by NewConnectionError('<requests.packages.urllib3.connection.VerifiedHTTPSConnection object at 0x7fd8daf3d310>: Failed to establish a new connection: [Errno -2] Name or service not known',))\n",
      "HTTPSConnectionPool(host='www.freelancer.com', port=443): Max retries exceeded with url: /u/bitofpaper (Caused by NewConnectionError('<requests.packages.urllib3.connection.VerifiedHTTPSConnection object at 0x7fd8daf5d6d0>: Failed to establish a new connection: [Errno -2] Name or service not known',))\n",
      "HTTPSConnectionPool(host='www.freelancer.com', port=443): Max retries exceeded with url: /u/midnighttonic (Caused by NewConnectionError('<requests.packages.urllib3.connection.VerifiedHTTPSConnection object at 0x7fd8daf3d1d0>: Failed to establish a new connection: [Errno -2] Name or service not known',))\n",
      "HTTPSConnectionPool(host='www.freelancer.com', port=443): Max retries exceeded with url: /u/usamob (Caused by NewConnectionError('<requests.packages.urllib3.connection.VerifiedHTTPSConnection object at 0x7fd8daf30810>: Failed to establish a new connection: [Errno -2] Name or service not known',))\n",
      "HTTPSConnectionPool(host='www.freelancer.com', port=443): Max retries exceeded with url: /u/k2kv (Caused by NewConnectionError('<requests.packages.urllib3.connection.VerifiedHTTPSConnection object at 0x7fd8daf27750>: Failed to establish a new connection: [Errno -2] Name or service not known',))\n",
      "HTTPSConnectionPool(host='www.freelancer.com', port=443): Max retries exceeded with url: /u/dreamcopywriter (Caused by NewConnectionError('<requests.packages.urllib3.connection.VerifiedHTTPSConnection object at 0x7fd8daf3dc90>: Failed to establish a new connection: [Errno -2] Name or service not known',))\n",
      "HTTPSConnectionPool(host='www.freelancer.com', port=443): Max retries exceeded with url: /u/jmar (Caused by NewConnectionError('<requests.packages.urllib3.connection.VerifiedHTTPSConnection object at 0x7fd8daf27950>: Failed to establish a new connection: [Errno -2] Name or service not known',))\n",
      "HTTPSConnectionPool(host='www.freelancer.com', port=443): Max retries exceeded with url: /u/meieli123 (Caused by NewConnectionError('<requests.packages.urllib3.connection.VerifiedHTTPSConnection object at 0x7fd8daf3ddd0>: Failed to establish a new connection: [Errno -2] Name or service not known',))\n",
      "HTTPSConnectionPool(host='www.freelancer.com', port=443): Max retries exceeded with url: /u/sanchezrodriguez (Caused by NewConnectionError('<requests.packages.urllib3.connection.VerifiedHTTPSConnection object at 0x7fd8daf3df10>: Failed to establish a new connection: [Errno -2] Name or service not known',))\n",
      "HTTPSConnectionPool(host='www.freelancer.com', port=443): Max retries exceeded with url: /u/cigardesigns (Caused by NewConnectionError('<requests.packages.urllib3.connection.VerifiedHTTPSConnection object at 0x7fd8daf3d650>: Failed to establish a new connection: [Errno -5] No address associated with hostname',))\n",
      "HTTPSConnectionPool(host='www.freelancer.com', port=443): Max retries exceeded with url: /u/samengland1 (Caused by NewConnectionError('<requests.packages.urllib3.connection.VerifiedHTTPSConnection object at 0x7fd8daf3df90>: Failed to establish a new connection: [Errno -2] Name or service not known',))\n",
      "HTTPSConnectionPool(host='www.freelancer.com', port=443): Max retries exceeded with url: /u/lionheart8472 (Caused by NewConnectionError('<requests.packages.urllib3.connection.VerifiedHTTPSConnection object at 0x7fd8daf3d6d0>: Failed to establish a new connection: [Errno -2] Name or service not known',))\n",
      "HTTPSConnectionPool(host='www.freelancer.com', port=443): Max retries exceeded with url: /u/HostMAT (Caused by NewConnectionError('<requests.packages.urllib3.connection.VerifiedHTTPSConnection object at 0x7fd8daf3df90>: Failed to establish a new connection: [Errno -2] Name or service not known',))\n",
      "HTTPSConnectionPool(host='www.freelancer.com', port=443): Max retries exceeded with url: /u/editorskeys (Caused by NewConnectionError('<requests.packages.urllib3.connection.VerifiedHTTPSConnection object at 0x7fd8daf27b10>: Failed to establish a new connection: [Errno -2] Name or service not known',))\n",
      "HTTPSConnectionPool(host='www.freelancer.com', port=443): Max retries exceeded with url: /u/delany (Caused by NewConnectionError('<requests.packages.urllib3.connection.VerifiedHTTPSConnection object at 0x7fd8daf3d710>: Failed to establish a new connection: [Errno -2] Name or service not known',))\n",
      "HTTPSConnectionPool(host='www.freelancer.com', port=443): Max retries exceeded with url: /u/thersh (Caused by NewConnectionError('<requests.packages.urllib3.connection.VerifiedHTTPSConnection object at 0x7fd8daec51d0>: Failed to establish a new connection: [Errno -2] Name or service not known',))\n",
      "HTTPSConnectionPool(host='www.freelancer.com', port=443): Max retries exceeded with url: /u/dgordillo (Caused by NewConnectionError('<requests.packages.urllib3.connection.VerifiedHTTPSConnection object at 0x7fd8daf27050>: Failed to establish a new connection: [Errno -2] Name or service not known',))\n",
      "HTTPSConnectionPool(host='www.freelancer.com', port=443): Max retries exceeded with url: /u/beanie (Caused by NewConnectionError('<requests.packages.urllib3.connection.VerifiedHTTPSConnection object at 0x7fd8daf3d6d0>: Failed to establish a new connection: [Errno -2] Name or service not known',))\n",
      "HTTPSConnectionPool(host='www.freelancer.com', port=443): Max retries exceeded with url: /u/PlayCompany (Caused by NewConnectionError('<requests.packages.urllib3.connection.VerifiedHTTPSConnection object at 0x7fd8daec5150>: Failed to establish a new connection: [Errno -2] Name or service not known',))\n",
      "HTTPSConnectionPool(host='www.freelancer.com', port=443): Max retries exceeded with url: /u/techniglow (Caused by NewConnectionError('<requests.packages.urllib3.connection.VerifiedHTTPSConnection object at 0x7fd8daf3d310>: Failed to establish a new connection: [Errno -2] Name or service not known',))\n",
      "HTTPSConnectionPool(host='www.freelancer.com', port=443): Max retries exceeded with url: /u/georgei (Caused by NewConnectionError('<requests.packages.urllib3.connection.VerifiedHTTPSConnection object at 0x7fd8daec5a50>: Failed to establish a new connection: [Errno -2] Name or service not known',))\n",
      "HTTPSConnectionPool(host='www.freelancer.com', port=443): Max retries exceeded with url: /u/jeroeneveleens (Caused by NewConnectionError('<requests.packages.urllib3.connection.VerifiedHTTPSConnection object at 0x7fd8daec56d0>: Failed to establish a new connection: [Errno -2] Name or service not known',))\n",
      "HTTPSConnectionPool(host='www.freelancer.com', port=443): Max retries exceeded with url: /u/Audio1 (Caused by NewConnectionError('<requests.packages.urllib3.connection.VerifiedHTTPSConnection object at 0x7fd8daec5350>: Failed to establish a new connection: [Errno -2] Name or service not known',))\n"
     ]
    },
    {
     "name": "stdout",
     "output_type": "stream",
     "text": [
      "HTTPSConnectionPool(host='www.freelancer.com', port=443): Max retries exceeded with url: /u/ecorporate (Caused by NewConnectionError('<requests.packages.urllib3.connection.VerifiedHTTPSConnection object at 0x7fd8daf30fd0>: Failed to establish a new connection: [Errno 111] Connection refused',))\n",
      "HTTPSConnectionPool(host='www.freelancer.com', port=443): Max retries exceeded with url: /u/kineticred (Caused by NewConnectionError('<requests.packages.urllib3.connection.VerifiedHTTPSConnection object at 0x7fd8daf300d0>: Failed to establish a new connection: [Errno 111] Connection refused',))\n",
      "HTTPSConnectionPool(host='www.freelancer.com', port=443): Max retries exceeded with url: /u/tdoucet (Caused by NewConnectionError('<requests.packages.urllib3.connection.VerifiedHTTPSConnection object at 0x7fd8daec58d0>: Failed to establish a new connection: [Errno 111] Connection refused',))\n",
      "HTTPSConnectionPool(host='www.freelancer.com', port=443): Max retries exceeded with url: /u/Freelander (Caused by NewConnectionError('<requests.packages.urllib3.connection.VerifiedHTTPSConnection object at 0x7fd8dae72210>: Failed to establish a new connection: [Errno -2] Name or service not known',))\n",
      "HTTPSConnectionPool(host='www.freelancer.com', port=443): Max retries exceeded with url: /u/europod (Caused by NewConnectionError('<requests.packages.urllib3.connection.VerifiedHTTPSConnection object at 0x7fd8dae19bd0>: Failed to establish a new connection: [Errno -2] Name or service not known',))\n",
      "HTTPSConnectionPool(host='www.freelancer.com', port=443): Max retries exceeded with url: /u/RobynB (Caused by NewConnectionError('<requests.packages.urllib3.connection.VerifiedHTTPSConnection object at 0x7fd8dae19990>: Failed to establish a new connection: [Errno -2] Name or service not known',))\n",
      "HTTPSConnectionPool(host='www.freelancer.com', port=443): Max retries exceeded with url: /u/josefs (Caused by NewConnectionError('<requests.packages.urllib3.connection.VerifiedHTTPSConnection object at 0x7fd8dae19990>: Failed to establish a new connection: [Errno -2] Name or service not known',))\n",
      "HTTPSConnectionPool(host='www.freelancer.com', port=443): Max retries exceeded with url: /u/jdoscher (Caused by NewConnectionError('<requests.packages.urllib3.connection.VerifiedHTTPSConnection object at 0x7fd8dae11710>: Failed to establish a new connection: [Errno -2] Name or service not known',))\n",
      "HTTPSConnectionPool(host='www.freelancer.com', port=443): Max retries exceeded with url: /u/redgui (Caused by NewConnectionError('<requests.packages.urllib3.connection.VerifiedHTTPSConnection object at 0x7fd8d95eac90>: Failed to establish a new connection: [Errno -5] No address associated with hostname',))\n",
      "HTTPSConnectionPool(host='www.freelancer.com', port=443): Max retries exceeded with url: /u/vdm (Caused by NewConnectionError('<requests.packages.urllib3.connection.VerifiedHTTPSConnection object at 0x7fd8dae7ab50>: Failed to establish a new connection: [Errno -2] Name or service not known',))\n",
      "HTTPSConnectionPool(host='www.freelancer.com', port=443): Max retries exceeded with url: /u/Girina (Caused by NewConnectionError('<requests.packages.urllib3.connection.VerifiedHTTPSConnection object at 0x7fd8dae19850>: Failed to establish a new connection: [Errno -2] Name or service not known',))\n",
      "HTTPSConnectionPool(host='www.freelancer.com', port=443): Max retries exceeded with url: /u/stephaniepie (Caused by NewConnectionError('<requests.packages.urllib3.connection.VerifiedHTTPSConnection object at 0x7fd8dae7af10>: Failed to establish a new connection: [Errno -2] Name or service not known',))\n",
      "HTTPSConnectionPool(host='www.freelancer.com', port=443): Max retries exceeded with url: /u/hugo3131 (Caused by NewConnectionError('<requests.packages.urllib3.connection.VerifiedHTTPSConnection object at 0x7fd8dae19f50>: Failed to establish a new connection: [Errno -2] Name or service not known',))\n",
      "HTTPSConnectionPool(host='www.freelancer.com', port=443): Max retries exceeded with url: /u/jbisonaroll (Caused by NewConnectionError('<requests.packages.urllib3.connection.VerifiedHTTPSConnection object at 0x7fd8dae7a4d0>: Failed to establish a new connection: [Errno -2] Name or service not known',))\n",
      "HTTPSConnectionPool(host='www.freelancer.com', port=443): Max retries exceeded with url: /u/rootskinz (Caused by NewConnectionError('<requests.packages.urllib3.connection.VerifiedHTTPSConnection object at 0x7fd8dae19f50>: Failed to establish a new connection: [Errno -2] Name or service not known',))\n",
      "HTTPSConnectionPool(host='www.freelancer.com', port=443): Max retries exceeded with url: /u/Klear604 (Caused by NewConnectionError('<requests.packages.urllib3.connection.VerifiedHTTPSConnection object at 0x7fd8dae19f10>: Failed to establish a new connection: [Errno -2] Name or service not known',))\n",
      "HTTPSConnectionPool(host='www.freelancer.com', port=443): Max retries exceeded with url: /u/mattrogers1 (Caused by NewConnectionError('<requests.packages.urllib3.connection.VerifiedHTTPSConnection object at 0x7fd8dae20810>: Failed to establish a new connection: [Errno -2] Name or service not known',))\n",
      "HTTPSConnectionPool(host='www.freelancer.com', port=443): Max retries exceeded with url: /u/NicholasBoccio (Caused by NewConnectionError('<requests.packages.urllib3.connection.VerifiedHTTPSConnection object at 0x7fd8dae27650>: Failed to establish a new connection: [Errno -2] Name or service not known',))\n",
      "HTTPSConnectionPool(host='www.freelancer.com', port=443): Max retries exceeded with url: /u/powerstarim (Caused by NewConnectionError('<requests.packages.urllib3.connection.VerifiedHTTPSConnection object at 0x7fd8dae27b50>: Failed to establish a new connection: [Errno -2] Name or service not known',))\n",
      "HTTPSConnectionPool(host='www.freelancer.com', port=443): Max retries exceeded with url: /u/ecuguru (Caused by NewConnectionError('<requests.packages.urllib3.connection.VerifiedHTTPSConnection object at 0x7fd8dae27d90>: Failed to establish a new connection: [Errno -2] Name or service not known',))\n",
      "HTTPSConnectionPool(host='www.freelancer.com', port=443): Max retries exceeded with url: /u/tupercent (Caused by NewConnectionError('<requests.packages.urllib3.connection.VerifiedHTTPSConnection object at 0x7fd8dae27650>: Failed to establish a new connection: [Errno -2] Name or service not known',))\n",
      "HTTPSConnectionPool(host='www.freelancer.com', port=443): Max retries exceeded with url: /u/raisunny (Caused by NewConnectionError('<requests.packages.urllib3.connection.VerifiedHTTPSConnection object at 0x7fd8dae72a10>: Failed to establish a new connection: [Errno -2] Name or service not known',))\n",
      "HTTPSConnectionPool(host='www.freelancer.com', port=443): Max retries exceeded with url: /u/fidelis (Caused by NewConnectionError('<requests.packages.urllib3.connection.VerifiedHTTPSConnection object at 0x7fd8dae72590>: Failed to establish a new connection: [Errno -2] Name or service not known',))\n",
      "HTTPSConnectionPool(host='www.freelancer.com', port=443): Max retries exceeded with url: /u/LRicci (Caused by NewConnectionError('<requests.packages.urllib3.connection.VerifiedHTTPSConnection object at 0x7fd8dae11fd0>: Failed to establish a new connection: [Errno -2] Name or service not known',))\n",
      "HTTPSConnectionPool(host='www.freelancer.com', port=443): Max retries exceeded with url: /u/noend (Caused by NewConnectionError('<requests.packages.urllib3.connection.VerifiedHTTPSConnection object at 0x7fd8dae72590>: Failed to establish a new connection: [Errno -2] Name or service not known',))\n",
      "HTTPSConnectionPool(host='www.freelancer.com', port=443): Max retries exceeded with url: /u/turboti (Caused by NewConnectionError('<requests.packages.urllib3.connection.VerifiedHTTPSConnection object at 0x7fd8dae27790>: Failed to establish a new connection: [Errno -5] No address associated with hostname',))\n",
      "HTTPSConnectionPool(host='www.freelancer.com', port=443): Max retries exceeded with url: /u/ehudza (Caused by NewConnectionError('<requests.packages.urllib3.connection.VerifiedHTTPSConnection object at 0x7fd8dae11fd0>: Failed to establish a new connection: [Errno -2] Name or service not known',))\n",
      "HTTPSConnectionPool(host='www.freelancer.com', port=443): Max retries exceeded with url: /u/rpm2006 (Caused by NewConnectionError('<requests.packages.urllib3.connection.VerifiedHTTPSConnection object at 0x7fd8dae11cd0>: Failed to establish a new connection: [Errno -2] Name or service not known',))\n",
      "HTTPSConnectionPool(host='www.freelancer.com', port=443): Max retries exceeded with url: /u/keithwiz (Caused by NewConnectionError('<requests.packages.urllib3.connection.VerifiedHTTPSConnection object at 0x7fd8dae11390>: Failed to establish a new connection: [Errno -2] Name or service not known',))\n",
      "HTTPSConnectionPool(host='www.freelancer.com', port=443): Max retries exceeded with url: /u/djdubuque (Caused by NewConnectionError('<requests.packages.urllib3.connection.VerifiedHTTPSConnection object at 0x7fd8dae11d50>: Failed to establish a new connection: [Errno -2] Name or service not known',))\n",
      "HTTPSConnectionPool(host='www.freelancer.com', port=443): Max retries exceeded with url: /u/tubal (Caused by NewConnectionError('<requests.packages.urllib3.connection.VerifiedHTTPSConnection object at 0x7fd8dae11390>: Failed to establish a new connection: [Errno -2] Name or service not known',))\n",
      "HTTPSConnectionPool(host='www.freelancer.com', port=443): Max retries exceeded with url: /u/wikiall (Caused by NewConnectionError('<requests.packages.urllib3.connection.VerifiedHTTPSConnection object at 0x7fd8dae20610>: Failed to establish a new connection: [Errno -2] Name or service not known',))\n",
      "HTTPSConnectionPool(host='www.freelancer.com', port=443): Max retries exceeded with url: /u/stretchcomms (Caused by NewConnectionError('<requests.packages.urllib3.connection.VerifiedHTTPSConnection object at 0x7fd8dae37350>: Failed to establish a new connection: [Errno -2] Name or service not known',))\n",
      "HTTPSConnectionPool(host='www.freelancer.com', port=443): Max retries exceeded with url: /u/anotherplanet (Caused by NewConnectionError('<requests.packages.urllib3.connection.VerifiedHTTPSConnection object at 0x7fd8dae37410>: Failed to establish a new connection: [Errno -2] Name or service not known',))\n"
     ]
    },
    {
     "name": "stdout",
     "output_type": "stream",
     "text": [
      "HTTPSConnectionPool(host='www.freelancer.com', port=443): Max retries exceeded with url: /u/purgatorypro (Caused by NewConnectionError('<requests.packages.urllib3.connection.VerifiedHTTPSConnection object at 0x7fd8dae374d0>: Failed to establish a new connection: [Errno 111] Connection refused',))\n",
      "HTTPSConnectionPool(host='www.freelancer.com', port=443): Max retries exceeded with url: /u/zeeden (Caused by NewConnectionError('<requests.packages.urllib3.connection.VerifiedHTTPSConnection object at 0x7fd8dae193d0>: Failed to establish a new connection: [Errno 111] Connection refused',))\n",
      "HTTPSConnectionPool(host='www.freelancer.com', port=443): Max retries exceeded with url: /u/Training3030 (Caused by NewConnectionError('<requests.packages.urllib3.connection.VerifiedHTTPSConnection object at 0x7fd8dae2f610>: Failed to establish a new connection: [Errno 111] Connection refused',))\n",
      "HTTPSConnectionPool(host='www.freelancer.com', port=443): Max retries exceeded with url: /u/amfltd (Caused by NewConnectionError('<requests.packages.urllib3.connection.VerifiedHTTPSConnection object at 0x7fd8dae27f10>: Failed to establish a new connection: [Errno 111] Connection refused',))\n",
      "HTTPSConnectionPool(host='www.freelancer.com', port=443): Max retries exceeded with url: /u/dcalkins2 (Caused by NewConnectionError('<requests.packages.urllib3.connection.VerifiedHTTPSConnection object at 0x7fd8dae27610>: Failed to establish a new connection: [Errno 111] Connection refused',))\n",
      "HTTPSConnectionPool(host='www.freelancer.com', port=443): Max retries exceeded with url: /u/barjas (Caused by NewConnectionError('<requests.packages.urllib3.connection.VerifiedHTTPSConnection object at 0x7fd8dada0750>: Failed to establish a new connection: [Errno -2] Name or service not known',))\n",
      "HTTPSConnectionPool(host='www.freelancer.com', port=443): Max retries exceeded with url: /u/MikeHennessy (Caused by NewConnectionError('<requests.packages.urllib3.connection.VerifiedHTTPSConnection object at 0x7fd8dada0750>: Failed to establish a new connection: [Errno -2] Name or service not known',))\n",
      "HTTPSConnectionPool(host='www.freelancer.com', port=443): Max retries exceeded with url: /u/ajwassoc (Caused by NewConnectionError('<requests.packages.urllib3.connection.VerifiedHTTPSConnection object at 0x7fd8dadb0710>: Failed to establish a new connection: [Errno -2] Name or service not known',))\n",
      "HTTPSConnectionPool(host='www.freelancer.com', port=443): Max retries exceeded with url: /u/ojoonline (Caused by NewConnectionError('<requests.packages.urllib3.connection.VerifiedHTTPSConnection object at 0x7fd8dad3ed90>: Failed to establish a new connection: [Errno -2] Name or service not known',))\n",
      "HTTPSConnectionPool(host='www.freelancer.com', port=443): Max retries exceeded with url: /u/djkkak (Caused by NewConnectionError('<requests.packages.urllib3.connection.VerifiedHTTPSConnection object at 0x7fd8dadb0710>: Failed to establish a new connection: [Errno -2] Name or service not known',))\n",
      "HTTPSConnectionPool(host='www.freelancer.com', port=443): Max retries exceeded with url: /u/galwayrover (Caused by NewConnectionError('<requests.packages.urllib3.connection.VerifiedHTTPSConnection object at 0x7fd8dad813d0>: Failed to establish a new connection: [Errno -2] Name or service not known',))\n",
      "HTTPSConnectionPool(host='www.freelancer.com', port=443): Max retries exceeded with url: /u/crwd (Caused by NewConnectionError('<requests.packages.urllib3.connection.VerifiedHTTPSConnection object at 0x7fd8dadb6590>: Failed to establish a new connection: [Errno 111] Connection refused',))\n",
      "HTTPSConnectionPool(host='www.freelancer.com', port=443): Max retries exceeded with url: /u/jamesmoey (Caused by NewConnectionError('<requests.packages.urllib3.connection.VerifiedHTTPSConnection object at 0x7fd8dad817d0>: Failed to establish a new connection: [Errno 111] Connection refused',))\n",
      "HTTPSConnectionPool(host='www.freelancer.com', port=443): Max retries exceeded with url: /u/w3guru (Caused by NewConnectionError('<requests.packages.urllib3.connection.VerifiedHTTPSConnection object at 0x7fd8dadb6410>: Failed to establish a new connection: [Errno 111] Connection refused',))\n",
      "HTTPSConnectionPool(host='www.freelancer.com', port=443): Max retries exceeded with url: /u/webforceone (Caused by NewConnectionError('<requests.packages.urllib3.connection.VerifiedHTTPSConnection object at 0x7fd8dad6ce50>: Failed to establish a new connection: [Errno -2] Name or service not known',))\n",
      "HTTPSConnectionPool(host='www.freelancer.com', port=443): Max retries exceeded with url: /u/sayitfast (Caused by NewConnectionError('<requests.packages.urllib3.connection.VerifiedHTTPSConnection object at 0x7fd8dad7a8d0>: Failed to establish a new connection: [Errno -2] Name or service not known',))\n",
      "HTTPSConnectionPool(host='www.freelancer.com', port=443): Max retries exceeded with url: /u/ovais2 (Caused by NewConnectionError('<requests.packages.urllib3.connection.VerifiedHTTPSConnection object at 0x7fd8dad021d0>: Failed to establish a new connection: [Errno -2] Name or service not known',))\n",
      "HTTPSConnectionPool(host='www.freelancer.com', port=443): Max retries exceeded with url: /u/mediatron (Caused by NewConnectionError('<requests.packages.urllib3.connection.VerifiedHTTPSConnection object at 0x7fd8dad02c90>: Failed to establish a new connection: [Errno -2] Name or service not known',))\n",
      "HTTPSConnectionPool(host='www.freelancer.com', port=443): Max retries exceeded with url: /u/startkanjer (Caused by NewConnectionError('<requests.packages.urllib3.connection.VerifiedHTTPSConnection object at 0x7fd8dad74e90>: Failed to establish a new connection: [Errno -2] Name or service not known',))\n",
      "HTTPSConnectionPool(host='www.freelancer.com', port=443): Max retries exceeded with url: /u/mammut (Caused by NewConnectionError('<requests.packages.urllib3.connection.VerifiedHTTPSConnection object at 0x7fd8dad74d50>: Failed to establish a new connection: [Errno -2] Name or service not known',))\n",
      "HTTPSConnectionPool(host='www.freelancer.com', port=443): Max retries exceeded with url: /u/oneilldesign (Caused by NewConnectionError('<requests.packages.urllib3.connection.VerifiedHTTPSConnection object at 0x7fd8dad0a8d0>: Failed to establish a new connection: [Errno -2] Name or service not known',))\n",
      "HTTPSConnectionPool(host='www.freelancer.com', port=443): Max retries exceeded with url: /u/metaldragon (Caused by NewConnectionError('<requests.packages.urllib3.connection.VerifiedHTTPSConnection object at 0x7fd8dad5c050>: Failed to establish a new connection: [Errno -2] Name or service not known',))\n",
      "HTTPSConnectionPool(host='www.freelancer.com', port=443): Max retries exceeded with url: /u/filipoamigo (Caused by NewConnectionError('<requests.packages.urllib3.connection.VerifiedHTTPSConnection object at 0x7fd8dad748d0>: Failed to establish a new connection: [Errno -2] Name or service not known',))\n",
      "HTTPSConnectionPool(host='www.freelancer.com', port=443): Max retries exceeded with url: /u/tewes123 (Caused by NewConnectionError('<requests.packages.urllib3.connection.VerifiedHTTPSConnection object at 0x7fd8dad74310>: Failed to establish a new connection: [Errno -2] Name or service not known',))\n",
      "HTTPSConnectionPool(host='www.freelancer.com', port=443): Max retries exceeded with url: /u/orourkedesign (Caused by NewConnectionError('<requests.packages.urllib3.connection.VerifiedHTTPSConnection object at 0x7fd8dad7ac50>: Failed to establish a new connection: [Errno -2] Name or service not known',))\n",
      "HTTPSConnectionPool(host='www.freelancer.com', port=443): Max retries exceeded with url: /u/makingspaces (Caused by NewConnectionError('<requests.packages.urllib3.connection.VerifiedHTTPSConnection object at 0x7fd8dad7ac50>: Failed to establish a new connection: [Errno -5] No address associated with hostname',))\n",
      "HTTPSConnectionPool(host='www.freelancer.com', port=443): Max retries exceeded with url: /u/goldtresor (Caused by NewConnectionError('<requests.packages.urllib3.connection.VerifiedHTTPSConnection object at 0x7fd8dad7a510>: Failed to establish a new connection: [Errno -2] Name or service not known',))\n",
      "HTTPSConnectionPool(host='www.freelancer.com', port=443): Max retries exceeded with url: /u/bitshop (Caused by NewConnectionError('<requests.packages.urllib3.connection.VerifiedHTTPSConnection object at 0x7fd8dad74b90>: Failed to establish a new connection: [Errno -2] Name or service not known',))\n",
      "HTTPSConnectionPool(host='www.freelancer.com', port=443): Max retries exceeded with url: /u/xviper (Caused by NewConnectionError('<requests.packages.urllib3.connection.VerifiedHTTPSConnection object at 0x7fd8dad02090>: Failed to establish a new connection: [Errno -2] Name or service not known',))\n",
      "HTTPSConnectionPool(host='www.freelancer.com', port=443): Max retries exceeded with url: /u/kaloustg (Caused by NewConnectionError('<requests.packages.urllib3.connection.VerifiedHTTPSConnection object at 0x7fd8dad11350>: Failed to establish a new connection: [Errno -2] Name or service not known',))\n",
      "HTTPSConnectionPool(host='www.freelancer.com', port=443): Max retries exceeded with url: /u/matula (Caused by NewConnectionError('<requests.packages.urllib3.connection.VerifiedHTTPSConnection object at 0x7fd8dad11c90>: Failed to establish a new connection: [Errno -2] Name or service not known',))\n",
      "HTTPSConnectionPool(host='www.freelancer.com', port=443): Max retries exceeded with url: /u/Nubby (Caused by NewConnectionError('<requests.packages.urllib3.connection.VerifiedHTTPSConnection object at 0x7fd8dad020d0>: Failed to establish a new connection: [Errno -2] Name or service not known',))\n",
      "HTTPSConnectionPool(host='www.freelancer.com', port=443): Max retries exceeded with url: /u/robi3 (Caused by NewConnectionError('<requests.packages.urllib3.connection.VerifiedHTTPSConnection object at 0x7fd8dad11c50>: Failed to establish a new connection: [Errno -2] Name or service not known',))\n",
      "HTTPSConnectionPool(host='www.freelancer.com', port=443): Max retries exceeded with url: /u/xwishmasterx (Caused by NewConnectionError('<requests.packages.urllib3.connection.VerifiedHTTPSConnection object at 0x7fd8dad02610>: Failed to establish a new connection: [Errno -2] Name or service not known',))\n",
      "HTTPSConnectionPool(host='www.freelancer.com', port=443): Max retries exceeded with url: /u/bofaleh (Caused by NewConnectionError('<requests.packages.urllib3.connection.VerifiedHTTPSConnection object at 0x7fd8dad115d0>: Failed to establish a new connection: [Errno -2] Name or service not known',))\n",
      "HTTPSConnectionPool(host='www.freelancer.com', port=443): Max retries exceeded with url: /u/SouthIndian (Caused by NewConnectionError('<requests.packages.urllib3.connection.VerifiedHTTPSConnection object at 0x7fd8dad7ab50>: Failed to establish a new connection: [Errno -2] Name or service not known',))\n",
      "HTTPSConnectionPool(host='www.freelancer.com', port=443): Max retries exceeded with url: /u/xenotronic (Caused by NewConnectionError('<requests.packages.urllib3.connection.VerifiedHTTPSConnection object at 0x7fd8dad19110>: Failed to establish a new connection: [Errno -2] Name or service not known',))\n"
     ]
    },
    {
     "name": "stdout",
     "output_type": "stream",
     "text": [
      "HTTPSConnectionPool(host='www.freelancer.com', port=443): Max retries exceeded with url: /u/checkitout (Caused by NewConnectionError('<requests.packages.urllib3.connection.VerifiedHTTPSConnection object at 0x7fd8dad11e10>: Failed to establish a new connection: [Errno -2] Name or service not known',))\n",
      "HTTPSConnectionPool(host='www.freelancer.com', port=443): Max retries exceeded with url: /u/zynahamza (Caused by NewConnectionError('<requests.packages.urllib3.connection.VerifiedHTTPSConnection object at 0x7fd8dad11b50>: Failed to establish a new connection: [Errno -2] Name or service not known',))\n",
      "HTTPSConnectionPool(host='www.freelancer.com', port=443): Max retries exceeded with url: /u/egold2006 (Caused by NewConnectionError('<requests.packages.urllib3.connection.VerifiedHTTPSConnection object at 0x7fd8dad7a510>: Failed to establish a new connection: [Errno -5] No address associated with hostname',))\n",
      "HTTPSConnectionPool(host='www.freelancer.com', port=443): Max retries exceeded with url: /u/ambservices (Caused by NewConnectionError('<requests.packages.urllib3.connection.VerifiedHTTPSConnection object at 0x7fd8dad7a510>: Failed to establish a new connection: [Errno -2] Name or service not known',))\n",
      "HTTPSConnectionPool(host='www.freelancer.com', port=443): Max retries exceeded with url: /u/qwerty567 (Caused by NewConnectionError('<requests.packages.urllib3.connection.VerifiedHTTPSConnection object at 0x7fd8dad19910>: Failed to establish a new connection: [Errno -2] Name or service not known',))\n",
      "HTTPSConnectionPool(host='www.freelancer.com', port=443): Max retries exceeded with url: /u/adougra (Caused by NewConnectionError('<requests.packages.urllib3.connection.VerifiedHTTPSConnection object at 0x7fd8dad19e50>: Failed to establish a new connection: [Errno -2] Name or service not known',))\n",
      "HTTPSConnectionPool(host='www.freelancer.com', port=443): Max retries exceeded with url: /u/binayonline (Caused by NewConnectionError('<requests.packages.urllib3.connection.VerifiedHTTPSConnection object at 0x7fd8dad19d10>: Failed to establish a new connection: [Errno -2] Name or service not known',))\n",
      "HTTPSConnectionPool(host='www.freelancer.com', port=443): Max retries exceeded with url: /u/blackpepper47 (Caused by NewConnectionError('<requests.packages.urllib3.connection.VerifiedHTTPSConnection object at 0x7fd8dad19e50>: Failed to establish a new connection: [Errno -2] Name or service not known',))\n",
      "HTTPSConnectionPool(host='www.freelancer.com', port=443): Max retries exceeded with url: /u/beckham319 (Caused by NewConnectionError('<requests.packages.urllib3.connection.VerifiedHTTPSConnection object at 0x7fd8dad19f10>: Failed to establish a new connection: [Errno -2] Name or service not known',))\n",
      "HTTPSConnectionPool(host='www.freelancer.com', port=443): Max retries exceeded with url: /u/southerntulip (Caused by NewConnectionError('<requests.packages.urllib3.connection.VerifiedHTTPSConnection object at 0x7fd8dad0a750>: Failed to establish a new connection: [Errno 111] Connection refused',))\n",
      "HTTPSConnectionPool(host='www.freelancer.com', port=443): Max retries exceeded with url: /u/WebCons (Caused by NewConnectionError('<requests.packages.urllib3.connection.VerifiedHTTPSConnection object at 0x7fd8dad02f90>: Failed to establish a new connection: [Errno 111] Connection refused',))\n",
      "HTTPSConnectionPool(host='www.freelancer.com', port=443): Max retries exceeded with url: /u/psychobilly (Caused by NewConnectionError('<requests.packages.urllib3.connection.VerifiedHTTPSConnection object at 0x7fd8dad02390>: Failed to establish a new connection: [Errno 111] Connection refused',))\n",
      "HTTPSConnectionPool(host='www.freelancer.com', port=443): Max retries exceeded with url: /u/aruhat (Caused by NewConnectionError('<requests.packages.urllib3.connection.VerifiedHTTPSConnection object at 0x7fd8dad74f10>: Failed to establish a new connection: [Errno 111] Connection refused',))\n",
      "HTTPSConnectionPool(host='www.freelancer.com', port=443): Max retries exceeded with url: /u/stanjones (Caused by NewConnectionError('<requests.packages.urllib3.connection.VerifiedHTTPSConnection object at 0x7fd8dad74cd0>: Failed to establish a new connection: [Errno 111] Connection refused',))\n",
      "HTTPSConnectionPool(host='www.freelancer.com', port=443): Max retries exceeded with url: /u/rlei888 (Caused by NewConnectionError('<requests.packages.urllib3.connection.VerifiedHTTPSConnection object at 0x7fd8dad0a3d0>: Failed to establish a new connection: [Errno 111] Connection refused',))\n",
      "HTTPSConnectionPool(host='www.freelancer.com', port=443): Max retries exceeded with url: /u/htrow (Caused by NewConnectionError('<requests.packages.urllib3.connection.VerifiedHTTPSConnection object at 0x7fd8dacfb890>: Failed to establish a new connection: [Errno -2] Name or service not known',))\n",
      "HTTPSConnectionPool(host='www.freelancer.com', port=443): Max retries exceeded with url: /u/Novackboy (Caused by NewConnectionError('<requests.packages.urllib3.connection.VerifiedHTTPSConnection object at 0x7fd8dacf3e50>: Failed to establish a new connection: [Errno -5] No address associated with hostname',))\n",
      "HTTPSConnectionPool(host='www.freelancer.com', port=443): Max retries exceeded with url: /u/kathya (Caused by NewConnectionError('<requests.packages.urllib3.connection.VerifiedHTTPSConnection object at 0x7fd8dacf3650>: Failed to establish a new connection: [Errno -2] Name or service not known',))\n",
      "HTTPSConnectionPool(host='www.freelancer.com', port=443): Max retries exceeded with url: /u/Patodia (Caused by NewConnectionError('<requests.packages.urllib3.connection.VerifiedHTTPSConnection object at 0x7fd8dac92350>: Failed to establish a new connection: [Errno -2] Name or service not known',))\n",
      "HTTPSConnectionPool(host='www.freelancer.com', port=443): Max retries exceeded with url: /u/cubefeed (Caused by NewConnectionError('<requests.packages.urllib3.connection.VerifiedHTTPSConnection object at 0x7fd8dac92e10>: Failed to establish a new connection: [Errno -2] Name or service not known',))\n",
      "HTTPSConnectionPool(host='www.freelancer.com', port=443): Max retries exceeded with url: /u/Associates60004 (Caused by NewConnectionError('<requests.packages.urllib3.connection.VerifiedHTTPSConnection object at 0x7fd8dacf3590>: Failed to establish a new connection: [Errno -2] Name or service not known',))\n",
      "HTTPSConnectionPool(host='www.freelancer.com', port=443): Max retries exceeded with url: /u/identityie (Caused by NewConnectionError('<requests.packages.urllib3.connection.VerifiedHTTPSConnection object at 0x7fd8dac92090>: Failed to establish a new connection: [Errno -2] Name or service not known',))\n",
      "HTTPSConnectionPool(host='www.freelancer.com', port=443): Max retries exceeded with url: /u/zprager (Caused by NewConnectionError('<requests.packages.urllib3.connection.VerifiedHTTPSConnection object at 0x7fd8dac92090>: Failed to establish a new connection: [Errno -2] Name or service not known',))\n",
      "HTTPSConnectionPool(host='www.freelancer.com', port=443): Max retries exceeded with url: /u/jakhall (Caused by NewConnectionError('<requests.packages.urllib3.connection.VerifiedHTTPSConnection object at 0x7fd8dace4b50>: Failed to establish a new connection: [Errno -2] Name or service not known',))\n",
      "HTTPSConnectionPool(host='www.freelancer.com', port=443): Max retries exceeded with url: /u/ryanTheramed (Caused by NewConnectionError('<requests.packages.urllib3.connection.VerifiedHTTPSConnection object at 0x7fd8dac98850>: Failed to establish a new connection: [Errno -2] Name or service not known',))\n",
      "HTTPSConnectionPool(host='www.freelancer.com', port=443): Max retries exceeded with url: /u/rahulchawla (Caused by NewConnectionError('<requests.packages.urllib3.connection.VerifiedHTTPSConnection object at 0x7fd8dacf3790>: Failed to establish a new connection: [Errno -2] Name or service not known',))\n",
      "HTTPSConnectionPool(host='www.freelancer.com', port=443): Max retries exceeded with url: /u/Nate127 (Caused by NewConnectionError('<requests.packages.urllib3.connection.VerifiedHTTPSConnection object at 0x7fd8dac982d0>: Failed to establish a new connection: [Errno -2] Name or service not known',))\n",
      "HTTPSConnectionPool(host='www.freelancer.com', port=443): Max retries exceeded with url: /u/phpexp (Caused by NewConnectionError('<requests.packages.urllib3.connection.VerifiedHTTPSConnection object at 0x7fd8dacf3390>: Failed to establish a new connection: [Errno -2] Name or service not known',))\n",
      "HTTPSConnectionPool(host='www.freelancer.com', port=443): Max retries exceeded with url: /u/montaguelord (Caused by NewConnectionError('<requests.packages.urllib3.connection.VerifiedHTTPSConnection object at 0x7fd8dac98d90>: Failed to establish a new connection: [Errno -2] Name or service not known',))\n",
      "HTTPSConnectionPool(host='www.freelancer.com', port=443): Max retries exceeded with url: /u/uuow (Caused by NewConnectionError('<requests.packages.urllib3.connection.VerifiedHTTPSConnection object at 0x7fd8dace4750>: Failed to establish a new connection: [Errno -2] Name or service not known',))\n",
      "HTTPSConnectionPool(host='www.freelancer.com', port=443): Max retries exceeded with url: /u/JimmiOO (Caused by NewConnectionError('<requests.packages.urllib3.connection.VerifiedHTTPSConnection object at 0x7fd8dace46d0>: Failed to establish a new connection: [Errno -2] Name or service not known',))\n",
      "HTTPSConnectionPool(host='www.freelancer.com', port=443): Max retries exceeded with url: /u/fab26x (Caused by NewConnectionError('<requests.packages.urllib3.connection.VerifiedHTTPSConnection object at 0x7fd8dac8af10>: Failed to establish a new connection: [Errno -2] Name or service not known',))\n",
      "HTTPSConnectionPool(host='www.freelancer.com', port=443): Max retries exceeded with url: /u/suzanneriffel (Caused by NewConnectionError('<requests.packages.urllib3.connection.VerifiedHTTPSConnection object at 0x7fd8dace4290>: Failed to establish a new connection: [Errno -2] Name or service not known',))\n",
      "HTTPSConnectionPool(host='www.freelancer.com', port=443): Max retries exceeded with url: /u/pixelone (Caused by NewConnectionError('<requests.packages.urllib3.connection.VerifiedHTTPSConnection object at 0x7fd8dac8a8d0>: Failed to establish a new connection: [Errno -2] Name or service not known',))\n"
     ]
    },
    {
     "name": "stdout",
     "output_type": "stream",
     "text": [
      "HTTPSConnectionPool(host='www.freelancer.com', port=443): Max retries exceeded with url: /u/nahrizuladib (Caused by NewConnectionError('<requests.packages.urllib3.connection.VerifiedHTTPSConnection object at 0x7fd8d95ead10>: Failed to establish a new connection: [Errno -5] No address associated with hostname',))\n",
      "HTTPSConnectionPool(host='www.freelancer.com', port=443): Max retries exceeded with url: /u/mixup29 (Caused by NewConnectionError('<requests.packages.urllib3.connection.VerifiedHTTPSConnection object at 0x7fd8dace4e10>: Failed to establish a new connection: [Errno -2] Name or service not known',))\n",
      "HTTPSConnectionPool(host='www.freelancer.com', port=443): Max retries exceeded with url: /u/dkinfotech (Caused by NewConnectionError('<requests.packages.urllib3.connection.VerifiedHTTPSConnection object at 0x7fd8dace4d50>: Failed to establish a new connection: [Errno -2] Name or service not known',))\n",
      "HTTPSConnectionPool(host='www.freelancer.com', port=443): Max retries exceeded with url: /u/fjhughes (Caused by NewConnectionError('<requests.packages.urllib3.connection.VerifiedHTTPSConnection object at 0x7fd8dac8a310>: Failed to establish a new connection: [Errno -2] Name or service not known',))\n",
      "HTTPSConnectionPool(host='www.freelancer.com', port=443): Max retries exceeded with url: /u/bradley4681 (Caused by NewConnectionError('<requests.packages.urllib3.connection.VerifiedHTTPSConnection object at 0x7fd8dac8a7d0>: Failed to establish a new connection: [Errno -2] Name or service not known',))\n",
      "HTTPSConnectionPool(host='www.freelancer.com', port=443): Max retries exceeded with url: /u/ConquestVentures (Caused by NewConnectionError('<requests.packages.urllib3.connection.VerifiedHTTPSConnection object at 0x7fd8dac8a2d0>: Failed to establish a new connection: [Errno -2] Name or service not known',))\n",
      "HTTPSConnectionPool(host='www.freelancer.com', port=443): Max retries exceeded with url: /u/wujesson (Caused by NewConnectionError('<requests.packages.urllib3.connection.VerifiedHTTPSConnection object at 0x7fd8dac92190>: Failed to establish a new connection: [Errno -5] No address associated with hostname',))\n",
      "HTTPSConnectionPool(host='www.freelancer.com', port=443): Max retries exceeded with url: /u/kohym (Caused by NewConnectionError('<requests.packages.urllib3.connection.VerifiedHTTPSConnection object at 0x7fd8daca81d0>: Failed to establish a new connection: [Errno -2] Name or service not known',))\n",
      "HTTPSConnectionPool(host='www.freelancer.com', port=443): Max retries exceeded with url: /u/searchseo (Caused by NewConnectionError('<requests.packages.urllib3.connection.VerifiedHTTPSConnection object at 0x7fd8daca8450>: Failed to establish a new connection: [Errno -2] Name or service not known',))\n",
      "HTTPSConnectionPool(host='www.freelancer.com', port=443): Max retries exceeded with url: /u/Envient (Caused by NewConnectionError('<requests.packages.urllib3.connection.VerifiedHTTPSConnection object at 0x7fd8daca8550>: Failed to establish a new connection: [Errno -2] Name or service not known',))\n",
      "HTTPSConnectionPool(host='www.freelancer.com', port=443): Max retries exceeded with url: /u/padnag (Caused by NewConnectionError('<requests.packages.urllib3.connection.VerifiedHTTPSConnection object at 0x7fd8daca86d0>: Failed to establish a new connection: [Errno -2] Name or service not known',))\n",
      "HTTPSConnectionPool(host='www.freelancer.com', port=443): Max retries exceeded with url: /u/directoryexpert (Caused by NewConnectionError('<requests.packages.urllib3.connection.VerifiedHTTPSConnection object at 0x7fd8dac923d0>: Failed to establish a new connection: [Errno 111] Connection refused',))\n",
      "HTTPSConnectionPool(host='www.freelancer.com', port=443): Max retries exceeded with url: /u/marriog (Caused by NewConnectionError('<requests.packages.urllib3.connection.VerifiedHTTPSConnection object at 0x7fd8dac8aa50>: Failed to establish a new connection: [Errno 111] Connection refused',))\n",
      "HTTPSConnectionPool(host='www.freelancer.com', port=443): Max retries exceeded with url: /u/optizoo (Caused by NewConnectionError('<requests.packages.urllib3.connection.VerifiedHTTPSConnection object at 0x7fd8dace4850>: Failed to establish a new connection: [Errno 111] Connection refused',))\n",
      "HTTPSConnectionPool(host='www.freelancer.com', port=443): Max retries exceeded with url: /u/rodlo (Caused by NewConnectionError('<requests.packages.urllib3.connection.VerifiedHTTPSConnection object at 0x7fd8dac92310>: Failed to establish a new connection: [Errno 111] Connection refused',))\n",
      "HTTPSConnectionPool(host='www.freelancer.com', port=443): Max retries exceeded with url: /u/dataconsultants (Caused by NewConnectionError('<requests.packages.urllib3.connection.VerifiedHTTPSConnection object at 0x7fd8dabdd690>: Failed to establish a new connection: [Errno -2] Name or service not known',))\n",
      "HTTPSConnectionPool(host='www.freelancer.com', port=443): Max retries exceeded with url: /u/martinn12006 (Caused by NewConnectionError('<requests.packages.urllib3.connection.VerifiedHTTPSConnection object at 0x7fd8dabbf450>: Failed to establish a new connection: [Errno -2] Name or service not known',))\n",
      "HTTPSConnectionPool(host='www.freelancer.com', port=443): Max retries exceeded with url: /u/soupgfx (Caused by NewConnectionError('<requests.packages.urllib3.connection.VerifiedHTTPSConnection object at 0x7fd8dabbfed0>: Failed to establish a new connection: [Errno -2] Name or service not known',))\n",
      "HTTPSConnectionPool(host='www.freelancer.com', port=443): Max retries exceeded with url: /u/MDG (Caused by NewConnectionError('<requests.packages.urllib3.connection.VerifiedHTTPSConnection object at 0x7fd8dabec0d0>: Failed to establish a new connection: [Errno -2] Name or service not known',))\n",
      "HTTPSConnectionPool(host='www.freelancer.com', port=443): Max retries exceeded with url: /u/UPDG (Caused by NewConnectionError('<requests.packages.urllib3.connection.VerifiedHTTPSConnection object at 0x7fd8dab82310>: Failed to establish a new connection: [Errno -2] Name or service not known',))\n",
      "HTTPSConnectionPool(host='www.freelancer.com', port=443): Max retries exceeded with url: /u/pheezy9 (Caused by NewConnectionError('<requests.packages.urllib3.connection.VerifiedHTTPSConnection object at 0x7fd8dab82550>: Failed to establish a new connection: [Errno -5] No address associated with hostname',))\n",
      "HTTPSConnectionPool(host='www.freelancer.com', port=443): Max retries exceeded with url: /u/livesolutions (Caused by NewConnectionError('<requests.packages.urllib3.connection.VerifiedHTTPSConnection object at 0x7fd8dab82650>: Failed to establish a new connection: [Errno -2] Name or service not known',))\n",
      "HTTPSConnectionPool(host='www.freelancer.com', port=443): Max retries exceeded with url: /u/Perffy (Caused by NewConnectionError('<requests.packages.urllib3.connection.VerifiedHTTPSConnection object at 0x7fd8dab827d0>: Failed to establish a new connection: [Errno -2] Name or service not known',))\n",
      "HTTPSConnectionPool(host='www.freelancer.com', port=443): Max retries exceeded with url: /u/Dragonkiller (Caused by NewConnectionError('<requests.packages.urllib3.connection.VerifiedHTTPSConnection object at 0x7fd8dab828d0>: Failed to establish a new connection: [Errno -2] Name or service not known',))\n",
      "HTTPSConnectionPool(host='www.freelancer.com', port=443): Max retries exceeded with url: /u/gditech (Caused by NewConnectionError('<requests.packages.urllib3.connection.VerifiedHTTPSConnection object at 0x7fd8dab82210>: Failed to establish a new connection: [Errno -2] Name or service not known',))\n",
      "HTTPSConnectionPool(host='www.freelancer.com', port=443): Max retries exceeded with url: /u/nickmarks (Caused by NewConnectionError('<requests.packages.urllib3.connection.VerifiedHTTPSConnection object at 0x7fd8dab824d0>: Failed to establish a new connection: [Errno -2] Name or service not known',))\n",
      "HTTPSConnectionPool(host='www.freelancer.com', port=443): Max retries exceeded with url: /u/itcslive (Caused by NewConnectionError('<requests.packages.urllib3.connection.VerifiedHTTPSConnection object at 0x7fd8dab82dd0>: Failed to establish a new connection: [Errno -2] Name or service not known',))\n",
      "HTTPSConnectionPool(host='www.freelancer.com', port=443): Max retries exceeded with url: /u/maxmedia1 (Caused by NewConnectionError('<requests.packages.urllib3.connection.VerifiedHTTPSConnection object at 0x7fd8dab82fd0>: Failed to establish a new connection: [Errno -2] Name or service not known',))\n",
      "HTTPSConnectionPool(host='www.freelancer.com', port=443): Max retries exceeded with url: /u/BenyP (Caused by NewConnectionError('<requests.packages.urllib3.connection.VerifiedHTTPSConnection object at 0x7fd8dabf33d0>: Failed to establish a new connection: [Errno -2] Name or service not known',))\n"
     ]
    },
    {
     "name": "stdout",
     "output_type": "stream",
     "text": [
      "HTTPSConnectionPool(host='www.freelancer.com', port=443): Max retries exceeded with url: /u/Dendre (Caused by NewConnectionError('<requests.packages.urllib3.connection.VerifiedHTTPSConnection object at 0x7fd8dab82b90>: Failed to establish a new connection: [Errno -2] Name or service not known',))\n",
      "HTTPSConnectionPool(host='www.freelancer.com', port=443): Max retries exceeded with url: /u/PixelPosh (Caused by NewConnectionError('<requests.packages.urllib3.connection.VerifiedHTTPSConnection object at 0x7fd8d95f0450>: Failed to establish a new connection: [Errno -2] Name or service not known',))\n",
      "HTTPSConnectionPool(host='www.freelancer.com', port=443): Max retries exceeded with url: /u/consc198 (Caused by NewConnectionError('<requests.packages.urllib3.connection.VerifiedHTTPSConnection object at 0x7fd8dabf3f10>: Failed to establish a new connection: [Errno -2] Name or service not known',))\n",
      "HTTPSConnectionPool(host='www.freelancer.com', port=443): Max retries exceeded with url: /u/paychecksdirect (Caused by NewConnectionError('<requests.packages.urllib3.connection.VerifiedHTTPSConnection object at 0x7fd8dabfb990>: Failed to establish a new connection: [Errno -2] Name or service not known',))\n",
      "HTTPSConnectionPool(host='www.freelancer.com', port=443): Max retries exceeded with url: /u/drivemecrazy (Caused by NewConnectionError('<requests.packages.urllib3.connection.VerifiedHTTPSConnection object at 0x7fd8dab8a690>: Failed to establish a new connection: [Errno -2] Name or service not known',))\n",
      "HTTPSConnectionPool(host='www.freelancer.com', port=443): Max retries exceeded with url: /u/swanky (Caused by NewConnectionError('<requests.packages.urllib3.connection.VerifiedHTTPSConnection object at 0x7fd8dab8a550>: Failed to establish a new connection: [Errno -2] Name or service not known',))\n",
      "HTTPSConnectionPool(host='www.freelancer.com', port=443): Max retries exceeded with url: /u/pfavaro (Caused by NewConnectionError('<requests.packages.urllib3.connection.VerifiedHTTPSConnection object at 0x7fd8dabf3210>: Failed to establish a new connection: [Errno -2] Name or service not known',))\n",
      "HTTPSConnectionPool(host='www.freelancer.com', port=443): Max retries exceeded with url: /u/lukva2 (Caused by NewConnectionError('<requests.packages.urllib3.connection.VerifiedHTTPSConnection object at 0x7fd8dab8a690>: Failed to establish a new connection: [Errno 111] Connection refused',))\n",
      "HTTPSConnectionPool(host='www.freelancer.com', port=443): Max retries exceeded with url: /u/FoxFutons (Caused by NewConnectionError('<requests.packages.urllib3.connection.VerifiedHTTPSConnection object at 0x7fd8dabbf790>: Failed to establish a new connection: [Errno -2] Name or service not known',))\n",
      "HTTPSConnectionPool(host='www.freelancer.com', port=443): Max retries exceeded with url: /u/gkings (Caused by NewConnectionError('<requests.packages.urllib3.connection.VerifiedHTTPSConnection object at 0x7fd8daba8290>: Failed to establish a new connection: [Errno -2] Name or service not known',))\n",
      "HTTPSConnectionPool(host='www.freelancer.com', port=443): Max retries exceeded with url: /u/rotemblu (Caused by NewConnectionError('<requests.packages.urllib3.connection.VerifiedHTTPSConnection object at 0x7fd8dabbf0d0>: Failed to establish a new connection: [Errno -2] Name or service not known',))\n",
      "HTTPSConnectionPool(host='www.freelancer.com', port=443): Max retries exceeded with url: /u/finetoons (Caused by NewConnectionError('<requests.packages.urllib3.connection.VerifiedHTTPSConnection object at 0x7fd8dabbfcd0>: Failed to establish a new connection: [Errno -2] Name or service not known',))\n",
      "HTTPSConnectionPool(host='www.freelancer.com', port=443): Max retries exceeded with url: /u/prodesignee (Caused by NewConnectionError('<requests.packages.urllib3.connection.VerifiedHTTPSConnection object at 0x7fd8dabbfcd0>: Failed to establish a new connection: [Errno -2] Name or service not known',))\n",
      "HTTPSConnectionPool(host='www.freelancer.com', port=443): Max retries exceeded with url: /u/eshopsoftware (Caused by NewConnectionError('<requests.packages.urllib3.connection.VerifiedHTTPSConnection object at 0x7fd8dabb8790>: Failed to establish a new connection: [Errno -2] Name or service not known',))\n",
      "HTTPSConnectionPool(host='www.freelancer.com', port=443): Max retries exceeded with url: /u/star99 (Caused by NewConnectionError('<requests.packages.urllib3.connection.VerifiedHTTPSConnection object at 0x7fd8dabbfbd0>: Failed to establish a new connection: [Errno -2] Name or service not known',))\n",
      "HTTPSConnectionPool(host='www.freelancer.com', port=443): Max retries exceeded with url: /u/friendsmarketing (Caused by NewConnectionError('<requests.packages.urllib3.connection.VerifiedHTTPSConnection object at 0x7fd8dabbfb90>: Failed to establish a new connection: [Errno -5] No address associated with hostname',))\n",
      "HTTPSConnectionPool(host='www.freelancer.com', port=443): Max retries exceeded with url: /u/ferni (Caused by NewConnectionError('<requests.packages.urllib3.connection.VerifiedHTTPSConnection object at 0x7fd8dabbfd10>: Failed to establish a new connection: [Errno -2] Name or service not known',))\n",
      "HTTPSConnectionPool(host='www.freelancer.com', port=443): Max retries exceeded with url: /u/dd7uj (Caused by NewConnectionError('<requests.packages.urllib3.connection.VerifiedHTTPSConnection object at 0x7fd8daba8f10>: Failed to establish a new connection: [Errno -5] No address associated with hostname',))\n",
      "HTTPSConnectionPool(host='www.freelancer.com', port=443): Max retries exceeded with url: /u/farnworth (Caused by NewConnectionError('<requests.packages.urllib3.connection.VerifiedHTTPSConnection object at 0x7fd8dabbf9d0>: Failed to establish a new connection: [Errno -2] Name or service not known',))\n",
      "HTTPSConnectionPool(host='www.freelancer.com', port=443): Max retries exceeded with url: /u/kd454 (Caused by NewConnectionError('<requests.packages.urllib3.connection.VerifiedHTTPSConnection object at 0x7fd8daba0d10>: Failed to establish a new connection: [Errno -2] Name or service not known',))\n",
      "HTTPSConnectionPool(host='www.freelancer.com', port=443): Max retries exceeded with url: /u/bagman74 (Caused by NewConnectionError('<requests.packages.urllib3.connection.VerifiedHTTPSConnection object at 0x7fd8dabb0950>: Failed to establish a new connection: [Errno -2] Name or service not known',))\n",
      "HTTPSConnectionPool(host='www.freelancer.com', port=443): Max retries exceeded with url: /u/Muzeek (Caused by NewConnectionError('<requests.packages.urllib3.connection.VerifiedHTTPSConnection object at 0x7fd8daba0c90>: Failed to establish a new connection: [Errno -2] Name or service not known',))\n",
      "HTTPSConnectionPool(host='www.freelancer.com', port=443): Max retries exceeded with url: /u/Lucianodec (Caused by NewConnectionError('<requests.packages.urllib3.connection.VerifiedHTTPSConnection object at 0x7fd8dabb02d0>: Failed to establish a new connection: [Errno -2] Name or service not known',))\n",
      "HTTPSConnectionPool(host='www.freelancer.com', port=443): Max retries exceeded with url: /u/funamir (Caused by NewConnectionError('<requests.packages.urllib3.connection.VerifiedHTTPSConnection object at 0x7fd8dab8a310>: Failed to establish a new connection: [Errno -2] Name or service not known',))\n",
      "HTTPSConnectionPool(host='www.freelancer.com', port=443): Max retries exceeded with url: /u/up2u (Caused by NewConnectionError('<requests.packages.urllib3.connection.VerifiedHTTPSConnection object at 0x7fd8dab3fa10>: Failed to establish a new connection: [Errno -2] Name or service not known',))\n",
      "HTTPSConnectionPool(host='www.freelancer.com', port=443): Max retries exceeded with url: /u/michaelakko (Caused by NewConnectionError('<requests.packages.urllib3.connection.VerifiedHTTPSConnection object at 0x7fd8d9550bd0>: Failed to establish a new connection: [Errno -2] Name or service not known',))\n",
      "HTTPSConnectionPool(host='www.freelancer.com', port=443): Max retries exceeded with url: /u/bostonweb (Caused by NewConnectionError('<requests.packages.urllib3.connection.VerifiedHTTPSConnection object at 0x7fd8daba0c50>: Failed to establish a new connection: [Errno -2] Name or service not known',))\n",
      "HTTPSConnectionPool(host='www.freelancer.com', port=443): Max retries exceeded with url: /u/LeaderNCorpo (Caused by NewConnectionError('<requests.packages.urllib3.connection.VerifiedHTTPSConnection object at 0x7fd8dab3f890>: Failed to establish a new connection: [Errno -2] Name or service not known',))\n",
      "HTTPSConnectionPool(host='www.freelancer.com', port=443): Max retries exceeded with url: /u/csolution (Caused by NewConnectionError('<requests.packages.urllib3.connection.VerifiedHTTPSConnection object at 0x7fd8dab3fcd0>: Failed to establish a new connection: [Errno -2] Name or service not known',))\n",
      "HTTPSConnectionPool(host='www.freelancer.com', port=443): Max retries exceeded with url: /u/mbodea (Caused by NewConnectionError('<requests.packages.urllib3.connection.VerifiedHTTPSConnection object at 0x7fd8dab3fcd0>: Failed to establish a new connection: [Errno -2] Name or service not known',))\n",
      "HTTPSConnectionPool(host='www.freelancer.com', port=443): Max retries exceeded with url: /u/ashish06 (Caused by NewConnectionError('<requests.packages.urllib3.connection.VerifiedHTTPSConnection object at 0x7fd8dab3fe50>: Failed to establish a new connection: [Errno -5] No address associated with hostname',))\n",
      "HTTPSConnectionPool(host='www.freelancer.com', port=443): Max retries exceeded with url: /u/ameerulislam (Caused by NewConnectionError('<requests.packages.urllib3.connection.VerifiedHTTPSConnection object at 0x7fd8dabb0250>: Failed to establish a new connection: [Errno -2] Name or service not known',))\n",
      "HTTPSConnectionPool(host='www.freelancer.com', port=443): Max retries exceeded with url: /u/nrph (Caused by NewConnectionError('<requests.packages.urllib3.connection.VerifiedHTTPSConnection object at 0x7fd8dabb0950>: Failed to establish a new connection: [Errno -2] Name or service not known',))\n",
      "HTTPSConnectionPool(host='www.freelancer.com', port=443): Max retries exceeded with url: /u/jhgibbs (Caused by NewConnectionError('<requests.packages.urllib3.connection.VerifiedHTTPSConnection object at 0x7fd8dabb0510>: Failed to establish a new connection: [Errno -2] Name or service not known',))\n",
      "HTTPSConnectionPool(host='www.freelancer.com', port=443): Max retries exceeded with url: /u/toilltd (Caused by NewConnectionError('<requests.packages.urllib3.connection.VerifiedHTTPSConnection object at 0x7fd8dab455d0>: Failed to establish a new connection: [Errno -2] Name or service not known',))\n",
      "HTTPSConnectionPool(host='www.freelancer.com', port=443): Max retries exceeded with url: /u/aamirpitafi (Caused by NewConnectionError('<requests.packages.urllib3.connection.VerifiedHTTPSConnection object at 0x7fd8dab45090>: Failed to establish a new connection: [Errno -2] Name or service not known',))\n",
      "HTTPSConnectionPool(host='www.freelancer.com', port=443): Max retries exceeded with url: /u/inwebwetrust (Caused by NewConnectionError('<requests.packages.urllib3.connection.VerifiedHTTPSConnection object at 0x7fd8dab45d90>: Failed to establish a new connection: [Errno -2] Name or service not known',))\n",
      "HTTPSConnectionPool(host='www.freelancer.com', port=443): Max retries exceeded with url: /u/Taboga (Caused by NewConnectionError('<requests.packages.urllib3.connection.VerifiedHTTPSConnection object at 0x7fd8dab45dd0>: Failed to establish a new connection: [Errno -2] Name or service not known',))\n",
      "HTTPSConnectionPool(host='www.freelancer.com', port=443): Max retries exceeded with url: /u/alterivel (Caused by NewConnectionError('<requests.packages.urllib3.connection.VerifiedHTTPSConnection object at 0x7fd8dab45d10>: Failed to establish a new connection: [Errno -2] Name or service not known',))\n"
     ]
    },
    {
     "name": "stdout",
     "output_type": "stream",
     "text": [
      "HTTPSConnectionPool(host='www.freelancer.com', port=443): Max retries exceeded with url: /u/esdealer (Caused by NewConnectionError('<requests.packages.urllib3.connection.VerifiedHTTPSConnection object at 0x7fd8dab45c50>: Failed to establish a new connection: [Errno -2] Name or service not known',))\n",
      "HTTPSConnectionPool(host='www.freelancer.com', port=443): Max retries exceeded with url: /u/invest4ish (Caused by NewConnectionError('<requests.packages.urllib3.connection.VerifiedHTTPSConnection object at 0x7fd8dab4e350>: Failed to establish a new connection: [Errno -2] Name or service not known',))\n",
      "HTTPSConnectionPool(host='www.freelancer.com', port=443): Max retries exceeded with url: /u/sachin86 (Caused by NewConnectionError('<requests.packages.urllib3.connection.VerifiedHTTPSConnection object at 0x7fd8dab4e310>: Failed to establish a new connection: [Errno -2] Name or service not known',))\n",
      "HTTPSConnectionPool(host='www.freelancer.com', port=443): Max retries exceeded with url: /u/sergiug (Caused by NewConnectionError('<requests.packages.urllib3.connection.VerifiedHTTPSConnection object at 0x7fd8dab4e510>: Failed to establish a new connection: [Errno -2] Name or service not known',))\n",
      "HTTPSConnectionPool(host='www.freelancer.com', port=443): Max retries exceeded with url: /u/WeLovePainting (Caused by NewConnectionError('<requests.packages.urllib3.connection.VerifiedHTTPSConnection object at 0x7fd8dab455d0>: Failed to establish a new connection: [Errno -2] Name or service not known',))\n",
      "HTTPSConnectionPool(host='www.freelancer.com', port=443): Max retries exceeded with url: /u/csfweb (Caused by NewConnectionError('<requests.packages.urllib3.connection.VerifiedHTTPSConnection object at 0x7fd8dab3f910>: Failed to establish a new connection: [Errno 111] Connection refused',))\n",
      "HTTPSConnectionPool(host='www.freelancer.com', port=443): Max retries exceeded with url: /u/freja (Caused by NewConnectionError('<requests.packages.urllib3.connection.VerifiedHTTPSConnection object at 0x7fd8dab3f450>: Failed to establish a new connection: [Errno 111] Connection refused',))\n",
      "HTTPSConnectionPool(host='www.freelancer.com', port=443): Max retries exceeded with url: /u/USAGraphicPR0 (Caused by NewConnectionError('<requests.packages.urllib3.connection.VerifiedHTTPSConnection object at 0x7fd8daac7910>: Failed to establish a new connection: [Errno -2] Name or service not known',))\n",
      "HTTPSConnectionPool(host='www.freelancer.com', port=443): Max retries exceeded with url: /u/sksourcer (Caused by NewConnectionError('<requests.packages.urllib3.connection.VerifiedHTTPSConnection object at 0x7fd8daac7310>: Failed to establish a new connection: [Errno -2] Name or service not known',))\n",
      "HTTPSConnectionPool(host='www.freelancer.com', port=443): Max retries exceeded with url: /u/HectorXu (Caused by NewConnectionError('<requests.packages.urllib3.connection.VerifiedHTTPSConnection object at 0x7fd8dab19090>: Failed to establish a new connection: [Errno -2] Name or service not known',))\n",
      "HTTPSConnectionPool(host='www.freelancer.com', port=443): Max retries exceeded with url: /u/nick1999 (Caused by NewConnectionError('<requests.packages.urllib3.connection.VerifiedHTTPSConnection object at 0x7fd8dab197d0>: Failed to establish a new connection: [Errno -2] Name or service not known',))\n",
      "HTTPSConnectionPool(host='www.freelancer.com', port=443): Max retries exceeded with url: /u/misternetmaster (Caused by NewConnectionError('<requests.packages.urllib3.connection.VerifiedHTTPSConnection object at 0x7fd8daacfbd0>: Failed to establish a new connection: [Errno -2] Name or service not known',))\n",
      "HTTPSConnectionPool(host='www.freelancer.com', port=443): Max retries exceeded with url: /u/jpvirtualmedia (Caused by NewConnectionError('<requests.packages.urllib3.connection.VerifiedHTTPSConnection object at 0x7fd8daac7d10>: Failed to establish a new connection: [Errno -2] Name or service not known',))\n",
      "HTTPSConnectionPool(host='www.freelancer.com', port=443): Max retries exceeded with url: /u/serpicoyt (Caused by NewConnectionError('<requests.packages.urllib3.connection.VerifiedHTTPSConnection object at 0x7fd8dab19350>: Failed to establish a new connection: [Errno -2] Name or service not known',))\n",
      "HTTPSConnectionPool(host='www.freelancer.com', port=443): Max retries exceeded with url: /u/travisvan (Caused by NewConnectionError('<requests.packages.urllib3.connection.VerifiedHTTPSConnection object at 0x7fd8daacf310>: Failed to establish a new connection: [Errno -2] Name or service not known',))\n",
      "HTTPSConnectionPool(host='www.freelancer.com', port=443): Max retries exceeded with url: /u/drmercurio (Caused by NewConnectionError('<requests.packages.urllib3.connection.VerifiedHTTPSConnection object at 0x7fd8dab19310>: Failed to establish a new connection: [Errno -2] Name or service not known',))\n",
      "HTTPSConnectionPool(host='www.freelancer.com', port=443): Max retries exceeded with url: /u/baywatch101 (Caused by NewConnectionError('<requests.packages.urllib3.connection.VerifiedHTTPSConnection object at 0x7fd8dab19c90>: Failed to establish a new connection: [Errno -2] Name or service not known',))\n",
      "HTTPSConnectionPool(host='www.freelancer.com', port=443): Max retries exceeded with url: /u/Suhaila82 (Caused by NewConnectionError('<requests.packages.urllib3.connection.VerifiedHTTPSConnection object at 0x7fd8dab19410>: Failed to establish a new connection: [Errno -2] Name or service not known',))\n",
      "HTTPSConnectionPool(host='www.freelancer.com', port=443): Max retries exceeded with url: /u/Startup11 (Caused by NewConnectionError('<requests.packages.urllib3.connection.VerifiedHTTPSConnection object at 0x7fd8daadd610>: Failed to establish a new connection: [Errno -2] Name or service not known',))\n",
      "HTTPSConnectionPool(host='www.freelancer.com', port=443): Max retries exceeded with url: /u/ambrosius (Caused by NewConnectionError('<requests.packages.urllib3.connection.VerifiedHTTPSConnection object at 0x7fd8daadd550>: Failed to establish a new connection: [Errno -2] Name or service not known',))\n",
      "HTTPSConnectionPool(host='www.freelancer.com', port=443): Max retries exceeded with url: /u/ricknap74 (Caused by NewConnectionError('<requests.packages.urllib3.connection.VerifiedHTTPSConnection object at 0x7fd8daaddb50>: Failed to establish a new connection: [Errno -2] Name or service not known',))\n",
      "HTTPSConnectionPool(host='www.freelancer.com', port=443): Max retries exceeded with url: /u/mooglo (Caused by NewConnectionError('<requests.packages.urllib3.connection.VerifiedHTTPSConnection object at 0x7fd8daaddb10>: Failed to establish a new connection: [Errno -2] Name or service not known',))\n",
      "HTTPSConnectionPool(host='www.freelancer.com', port=443): Max retries exceeded with url: /u/gooodrats (Caused by NewConnectionError('<requests.packages.urllib3.connection.VerifiedHTTPSConnection object at 0x7fd8daacf050>: Failed to establish a new connection: [Errno -2] Name or service not known',))\n",
      "HTTPSConnectionPool(host='www.freelancer.com', port=443): Max retries exceeded with url: /u/ITConsultancy (Caused by NewConnectionError('<requests.packages.urllib3.connection.VerifiedHTTPSConnection object at 0x7fd8daacfdd0>: Failed to establish a new connection: [Errno -2] Name or service not known',))\n",
      "HTTPSConnectionPool(host='www.freelancer.com', port=443): Max retries exceeded with url: /u/deltaplane (Caused by NewConnectionError('<requests.packages.urllib3.connection.VerifiedHTTPSConnection object at 0x7fd8daacf290>: Failed to establish a new connection: [Errno -2] Name or service not known',))\n",
      "HTTPSConnectionPool(host='www.freelancer.com', port=443): Max retries exceeded with url: /u/chrisbly (Caused by NewConnectionError('<requests.packages.urllib3.connection.VerifiedHTTPSConnection object at 0x7fd8daadd710>: Failed to establish a new connection: [Errno 111] Connection refused',))\n",
      "HTTPSConnectionPool(host='www.freelancer.com', port=443): Max retries exceeded with url: /u/experiment (Caused by NewConnectionError('<requests.packages.urllib3.connection.VerifiedHTTPSConnection object at 0x7fd8daafb790>: Failed to establish a new connection: [Errno -5] No address associated with hostname',))\n",
      "HTTPSConnectionPool(host='www.freelancer.com', port=443): Max retries exceeded with url: /u/yk101 (Caused by NewConnectionError('<requests.packages.urllib3.connection.VerifiedHTTPSConnection object at 0x7fd8daa82b50>: Failed to establish a new connection: [Errno -2] Name or service not known',))\n",
      "HTTPSConnectionPool(host='www.freelancer.com', port=443): Max retries exceeded with url: /u/mtaylor85 (Caused by NewConnectionError('<requests.packages.urllib3.connection.VerifiedHTTPSConnection object at 0x7fd8daa82bd0>: Failed to establish a new connection: [Errno -2] Name or service not known',))\n",
      "HTTPSConnectionPool(host='www.freelancer.com', port=443): Max retries exceeded with url: /u/mdeluk (Caused by NewConnectionError('<requests.packages.urllib3.connection.VerifiedHTTPSConnection object at 0x7fd8daa8ad10>: Failed to establish a new connection: [Errno -2] Name or service not known',))\n",
      "HTTPSConnectionPool(host='www.freelancer.com', port=443): Max retries exceeded with url: /u/asgars (Caused by NewConnectionError('<requests.packages.urllib3.connection.VerifiedHTTPSConnection object at 0x7fd8daa8ac90>: Failed to establish a new connection: [Errno -2] Name or service not known',))\n",
      "HTTPSConnectionPool(host='www.freelancer.com', port=443): Max retries exceeded with url: /u/digitalpartners (Caused by NewConnectionError('<requests.packages.urllib3.connection.VerifiedHTTPSConnection object at 0x7fd8daa92890>: Failed to establish a new connection: [Errno -2] Name or service not known',))\n",
      "HTTPSConnectionPool(host='www.freelancer.com', port=443): Max retries exceeded with url: /u/sergiogonzalezg (Caused by NewConnectionError('<requests.packages.urllib3.connection.VerifiedHTTPSConnection object at 0x7fd8daa92510>: Failed to establish a new connection: [Errno -2] Name or service not known',))\n",
      "HTTPSConnectionPool(host='www.freelancer.com', port=443): Max retries exceeded with url: /u/articlewriter (Caused by NewConnectionError('<requests.packages.urllib3.connection.VerifiedHTTPSConnection object at 0x7fd8daa8ae90>: Failed to establish a new connection: [Errno -2] Name or service not known',))\n",
      "HTTPSConnectionPool(host='www.freelancer.com', port=443): Max retries exceeded with url: /u/russew (Caused by NewConnectionError('<requests.packages.urllib3.connection.VerifiedHTTPSConnection object at 0x7fd8daa82990>: Failed to establish a new connection: [Errno -2] Name or service not known',))\n"
     ]
    },
    {
     "name": "stdout",
     "output_type": "stream",
     "text": [
      "HTTPSConnectionPool(host='www.freelancer.com', port=443): Max retries exceeded with url: /u/MeetYourNeed (Caused by NewConnectionError('<requests.packages.urllib3.connection.VerifiedHTTPSConnection object at 0x7fd8daa82310>: Failed to establish a new connection: [Errno -2] Name or service not known',))\n",
      "HTTPSConnectionPool(host='www.freelancer.com', port=443): Max retries exceeded with url: /u/weirman (Caused by NewConnectionError('<requests.packages.urllib3.connection.VerifiedHTTPSConnection object at 0x7fd8daa82e50>: Failed to establish a new connection: [Errno -2] Name or service not known',))\n",
      "HTTPSConnectionPool(host='www.freelancer.com', port=443): Max retries exceeded with url: /u/getspyware (Caused by NewConnectionError('<requests.packages.urllib3.connection.VerifiedHTTPSConnection object at 0x7fd8daa82b50>: Failed to establish a new connection: [Errno -2] Name or service not known',))\n",
      "HTTPSConnectionPool(host='www.freelancer.com', port=443): Max retries exceeded with url: /u/kern (Caused by NewConnectionError('<requests.packages.urllib3.connection.VerifiedHTTPSConnection object at 0x7fd8daafb790>: Failed to establish a new connection: [Errno -2] Name or service not known',))\n",
      "HTTPSConnectionPool(host='www.freelancer.com', port=443): Max retries exceeded with url: /u/bernsoft (Caused by NewConnectionError('<requests.packages.urllib3.connection.VerifiedHTTPSConnection object at 0x7fd8daa82410>: Failed to establish a new connection: [Errno -2] Name or service not known',))\n",
      "HTTPSConnectionPool(host='www.freelancer.com', port=443): Max retries exceeded with url: /u/Shielduk (Caused by NewConnectionError('<requests.packages.urllib3.connection.VerifiedHTTPSConnection object at 0x7fd8daa82090>: Failed to establish a new connection: [Errno -2] Name or service not known',))\n",
      "HTTPSConnectionPool(host='www.freelancer.com', port=443): Max retries exceeded with url: /u/ammandj (Caused by NewConnectionError('<requests.packages.urllib3.connection.VerifiedHTTPSConnection object at 0x7fd8daa82810>: Failed to establish a new connection: [Errno -2] Name or service not known',))\n",
      "HTTPSConnectionPool(host='www.freelancer.com', port=443): Max retries exceeded with url: /u/totalmotion (Caused by NewConnectionError('<requests.packages.urllib3.connection.VerifiedHTTPSConnection object at 0x7fd8daa82490>: Failed to establish a new connection: [Errno -5] No address associated with hostname',))\n",
      "HTTPSConnectionPool(host='www.freelancer.com', port=443): Max retries exceeded with url: /u/madcore (Caused by NewConnectionError('<requests.packages.urllib3.connection.VerifiedHTTPSConnection object at 0x7fd8daafbf90>: Failed to establish a new connection: [Errno 111] Connection refused',))\n",
      "HTTPSConnectionPool(host='www.freelancer.com', port=443): Max retries exceeded with url: /u/NYBsolutions (Caused by NewConnectionError('<requests.packages.urllib3.connection.VerifiedHTTPSConnection object at 0x7fd8daa828d0>: Failed to establish a new connection: [Errno 111] Connection refused',))\n",
      "HTTPSConnectionPool(host='www.freelancer.com', port=443): Max retries exceeded with url: /u/Draypolk (Caused by NewConnectionError('<requests.packages.urllib3.connection.VerifiedHTTPSConnection object at 0x7fd8daafb590>: Failed to establish a new connection: [Errno 111] Connection refused',))\n",
      "HTTPSConnectionPool(host='www.freelancer.com', port=443): Max retries exceeded with url: /u/svendesmedt (Caused by NewConnectionError('<requests.packages.urllib3.connection.VerifiedHTTPSConnection object at 0x7fd8da9e5310>: Failed to establish a new connection: [Errno -2] Name or service not known',))\n",
      "HTTPSConnectionPool(host='www.freelancer.com', port=443): Max retries exceeded with url: /u/andgomez (Caused by NewConnectionError('<requests.packages.urllib3.connection.VerifiedHTTPSConnection object at 0x7fd8da9e5310>: Failed to establish a new connection: [Errno -2] Name or service not known',))\n",
      "HTTPSConnectionPool(host='www.freelancer.com', port=443): Max retries exceeded with url: /u/ltfc1 (Caused by NewConnectionError('<requests.packages.urllib3.connection.VerifiedHTTPSConnection object at 0x7fd8da9ec690>: Failed to establish a new connection: [Errno -2] Name or service not known',))\n",
      "HTTPSConnectionPool(host='www.freelancer.com', port=443): Max retries exceeded with url: /u/holywarde (Caused by NewConnectionError('<requests.packages.urllib3.connection.VerifiedHTTPSConnection object at 0x7fd8da9f4e10>: Failed to establish a new connection: [Errno -2] Name or service not known',))\n",
      "HTTPSConnectionPool(host='www.freelancer.com', port=443): Max retries exceeded with url: /u/unknowncitizen (Caused by NewConnectionError('<requests.packages.urllib3.connection.VerifiedHTTPSConnection object at 0x7fd8da9ec690>: Failed to establish a new connection: [Errno -2] Name or service not known',))\n",
      "HTTPSConnectionPool(host='www.freelancer.com', port=443): Max retries exceeded with url: /u/halopunker (Caused by NewConnectionError('<requests.packages.urllib3.connection.VerifiedHTTPSConnection object at 0x7fd8da9e5090>: Failed to establish a new connection: [Errno -5] No address associated with hostname',))\n",
      "HTTPSConnectionPool(host='www.freelancer.com', port=443): Max retries exceeded with url: /u/philip87 (Caused by NewConnectionError('<requests.packages.urllib3.connection.VerifiedHTTPSConnection object at 0x7fd8da9f4fd0>: Failed to establish a new connection: [Errno -2] Name or service not known',))\n",
      "HTTPSConnectionPool(host='www.freelancer.com', port=443): Max retries exceeded with url: /u/fsstudio1098 (Caused by NewConnectionError('<requests.packages.urllib3.connection.VerifiedHTTPSConnection object at 0x7fd8da16ad50>: Failed to establish a new connection: [Errno -2] Name or service not known',))\n",
      "HTTPSConnectionPool(host='www.freelancer.com', port=443): Max retries exceeded with url: /u/BellaGrits (Caused by NewConnectionError('<requests.packages.urllib3.connection.VerifiedHTTPSConnection object at 0x7fd8da9f4610>: Failed to establish a new connection: [Errno -2] Name or service not known',))\n",
      "HTTPSConnectionPool(host='www.freelancer.com', port=443): Max retries exceeded with url: /u/SAP64 (Caused by NewConnectionError('<requests.packages.urllib3.connection.VerifiedHTTPSConnection object at 0x7fd8da9f4050>: Failed to establish a new connection: [Errno -2] Name or service not known',))\n",
      "HTTPSConnectionPool(host='www.freelancer.com', port=443): Max retries exceeded with url: /u/gdemers (Caused by NewConnectionError('<requests.packages.urllib3.connection.VerifiedHTTPSConnection object at 0x7fd8da9f4250>: Failed to establish a new connection: [Errno -2] Name or service not known',))\n",
      "HTTPSConnectionPool(host='www.freelancer.com', port=443): Max retries exceeded with url: /u/bakken (Caused by NewConnectionError('<requests.packages.urllib3.connection.VerifiedHTTPSConnection object at 0x7fd8da9831d0>: Failed to establish a new connection: [Errno -2] Name or service not known',))\n",
      "HTTPSConnectionPool(host='www.freelancer.com', port=443): Max retries exceeded with url: /u/kaizenXL (Caused by NewConnectionError('<requests.packages.urllib3.connection.VerifiedHTTPSConnection object at 0x7fd8da983090>: Failed to establish a new connection: [Errno -2] Name or service not known',))\n",
      "HTTPSConnectionPool(host='www.freelancer.com', port=443): Max retries exceeded with url: /u/Nicoleleone (Caused by NewConnectionError('<requests.packages.urllib3.connection.VerifiedHTTPSConnection object at 0x7fd8da9eca50>: Failed to establish a new connection: [Errno -2] Name or service not known',))\n",
      "HTTPSConnectionPool(host='www.freelancer.com', port=443): Max retries exceeded with url: /u/GEHAD1010 (Caused by NewConnectionError('<requests.packages.urllib3.connection.VerifiedHTTPSConnection object at 0x7fd8da9f47d0>: Failed to establish a new connection: [Errno -2] Name or service not known',))\n",
      "HTTPSConnectionPool(host='www.freelancer.com', port=443): Max retries exceeded with url: /u/dangervol (Caused by NewConnectionError('<requests.packages.urllib3.connection.VerifiedHTTPSConnection object at 0x7fd8da9f4f50>: Failed to establish a new connection: [Errno -2] Name or service not known',))\n",
      "HTTPSConnectionPool(host='www.freelancer.com', port=443): Max retries exceeded with url: /u/lollipop (Caused by NewConnectionError('<requests.packages.urllib3.connection.VerifiedHTTPSConnection object at 0x7fd8da9f47d0>: Failed to establish a new connection: [Errno -2] Name or service not known',))\n",
      "HTTPSConnectionPool(host='www.freelancer.com', port=443): Max retries exceeded with url: /u/partsace (Caused by NewConnectionError('<requests.packages.urllib3.connection.VerifiedHTTPSConnection object at 0x7fd8da983510>: Failed to establish a new connection: [Errno -2] Name or service not known',))\n",
      "HTTPSConnectionPool(host='www.freelancer.com', port=443): Max retries exceeded with url: /u/onemore (Caused by NewConnectionError('<requests.packages.urllib3.connection.VerifiedHTTPSConnection object at 0x7fd8da983350>: Failed to establish a new connection: [Errno -2] Name or service not known',))\n",
      "HTTPSConnectionPool(host='www.freelancer.com', port=443): Max retries exceeded with url: /u/hyasir (Caused by NewConnectionError('<requests.packages.urllib3.connection.VerifiedHTTPSConnection object at 0x7fd8da983b10>: Failed to establish a new connection: [Errno -5] No address associated with hostname',))\n",
      "HTTPSConnectionPool(host='www.freelancer.com', port=443): Max retries exceeded with url: /u/milesf01 (Caused by NewConnectionError('<requests.packages.urllib3.connection.VerifiedHTTPSConnection object at 0x7fd8da983fd0>: Failed to establish a new connection: [Errno -2] Name or service not known',))\n",
      "HTTPSConnectionPool(host='www.freelancer.com', port=443): Max retries exceeded with url: /u/fas007 (Caused by NewConnectionError('<requests.packages.urllib3.connection.VerifiedHTTPSConnection object at 0x7fd8da983690>: Failed to establish a new connection: [Errno -2] Name or service not known',))\n",
      "HTTPSConnectionPool(host='www.freelancer.com', port=443): Max retries exceeded with url: /u/lightmar (Caused by NewConnectionError('<requests.packages.urllib3.connection.VerifiedHTTPSConnection object at 0x7fd8da983e90>: Failed to establish a new connection: [Errno -2] Name or service not known',))\n"
     ]
    },
    {
     "name": "stdout",
     "output_type": "stream",
     "text": [
      "HTTPSConnectionPool(host='www.freelancer.com', port=443): Max retries exceeded with url: /u/chthornby (Caused by NewConnectionError('<requests.packages.urllib3.connection.VerifiedHTTPSConnection object at 0x7fd8da98a450>: Failed to establish a new connection: [Errno -2] Name or service not known',))\n",
      "HTTPSConnectionPool(host='www.freelancer.com', port=443): Max retries exceeded with url: /u/chase1014 (Caused by NewConnectionError('<requests.packages.urllib3.connection.VerifiedHTTPSConnection object at 0x7fd8da98a350>: Failed to establish a new connection: [Errno -2] Name or service not known',))\n",
      "HTTPSConnectionPool(host='www.freelancer.com', port=443): Max retries exceeded with url: /u/ederoo (Caused by NewConnectionError('<requests.packages.urllib3.connection.VerifiedHTTPSConnection object at 0x7fd8da983510>: Failed to establish a new connection: [Errno -2] Name or service not known',))\n",
      "HTTPSConnectionPool(host='www.freelancer.com', port=443): Max retries exceeded with url: /u/vtsmedia (Caused by NewConnectionError('<requests.packages.urllib3.connection.VerifiedHTTPSConnection object at 0x7fd8da983690>: Failed to establish a new connection: [Errno -2] Name or service not known',))\n",
      "HTTPSConnectionPool(host='www.freelancer.com', port=443): Max retries exceeded with url: /u/DonCano (Caused by NewConnectionError('<requests.packages.urllib3.connection.VerifiedHTTPSConnection object at 0x7fd8da983510>: Failed to establish a new connection: [Errno -2] Name or service not known',))\n",
      "HTTPSConnectionPool(host='www.freelancer.com', port=443): Max retries exceeded with url: /u/oddesttmouse (Caused by NewConnectionError('<requests.packages.urllib3.connection.VerifiedHTTPSConnection object at 0x7fd8da983a90>: Failed to establish a new connection: [Errno -2] Name or service not known',))\n",
      "HTTPSConnectionPool(host='www.freelancer.com', port=443): Max retries exceeded with url: /u/dss311 (Caused by NewConnectionError('<requests.packages.urllib3.connection.VerifiedHTTPSConnection object at 0x7fd8da98ad50>: Failed to establish a new connection: [Errno -2] Name or service not known',))\n",
      "HTTPSConnectionPool(host='www.freelancer.com', port=443): Max retries exceeded with url: /u/dan1088 (Caused by NewConnectionError('<requests.packages.urllib3.connection.VerifiedHTTPSConnection object at 0x7fd8da98abd0>: Failed to establish a new connection: [Errno -2] Name or service not known',))\n",
      "HTTPSConnectionPool(host='www.freelancer.com', port=443): Max retries exceeded with url: /u/dotphp (Caused by NewConnectionError('<requests.packages.urllib3.connection.VerifiedHTTPSConnection object at 0x7fd8da98a1d0>: Failed to establish a new connection: [Errno 111] Connection refused',))\n",
      "HTTPSConnectionPool(host='www.freelancer.com', port=443): Max retries exceeded with url: /u/renderit (Caused by NewConnectionError('<requests.packages.urllib3.connection.VerifiedHTTPSConnection object at 0x7fd8da9fc610>: Failed to establish a new connection: [Errno 111] Connection refused',))\n",
      "HTTPSConnectionPool(host='www.freelancer.com', port=443): Max retries exceeded with url: /u/bokswagen (Caused by NewConnectionError('<requests.packages.urllib3.connection.VerifiedHTTPSConnection object at 0x7fd8da9ec1d0>: Failed to establish a new connection: [Errno 111] Connection refused',))\n",
      "HTTPSConnectionPool(host='www.freelancer.com', port=443): Max retries exceeded with url: /u/heba303 (Caused by NewConnectionError('<requests.packages.urllib3.connection.VerifiedHTTPSConnection object at 0x7fd8da90aad0>: Failed to establish a new connection: [Errno -2] Name or service not known',))\n",
      "HTTPSConnectionPool(host='www.freelancer.com', port=443): Max retries exceeded with url: /u/zimdombo (Caused by NewConnectionError('<requests.packages.urllib3.connection.VerifiedHTTPSConnection object at 0x7fd8da96c810>: Failed to establish a new connection: [Errno -2] Name or service not known',))\n",
      "HTTPSConnectionPool(host='www.freelancer.com', port=443): Max retries exceeded with url: /u/veralaw (Caused by NewConnectionError('<requests.packages.urllib3.connection.VerifiedHTTPSConnection object at 0x7fd8da96c410>: Failed to establish a new connection: [Errno -2] Name or service not known',))\n",
      "HTTPSConnectionPool(host='www.freelancer.com', port=443): Max retries exceeded with url: /u/kapauldo (Caused by NewConnectionError('<requests.packages.urllib3.connection.VerifiedHTTPSConnection object at 0x7fd8da96c850>: Failed to establish a new connection: [Errno -2] Name or service not known',))\n",
      "HTTPSConnectionPool(host='www.freelancer.com', port=443): Max retries exceeded with url: /u/Bootlegger (Caused by NewConnectionError('<requests.packages.urllib3.connection.VerifiedHTTPSConnection object at 0x7fd8da96ce10>: Failed to establish a new connection: [Errno -2] Name or service not known',))\n",
      "HTTPSConnectionPool(host='www.freelancer.com', port=443): Max retries exceeded with url: /u/gezzak (Caused by NewConnectionError('<requests.packages.urllib3.connection.VerifiedHTTPSConnection object at 0x7fd8da90ad90>: Failed to establish a new connection: [Errno -2] Name or service not known',))\n",
      "HTTPSConnectionPool(host='www.freelancer.com', port=443): Max retries exceeded with url: /u/csyhomme (Caused by NewConnectionError('<requests.packages.urllib3.connection.VerifiedHTTPSConnection object at 0x7fd8da90add0>: Failed to establish a new connection: [Errno -2] Name or service not known',))\n",
      "HTTPSConnectionPool(host='www.freelancer.com', port=443): Max retries exceeded with url: /u/Plastrudolf (Caused by NewConnectionError('<requests.packages.urllib3.connection.VerifiedHTTPSConnection object at 0x7fd8da96c850>: Failed to establish a new connection: [Errno 111] Connection refused',))\n",
      "HTTPSConnectionPool(host='www.freelancer.com', port=443): Max retries exceeded with url: /u/findgreatness (Caused by NewConnectionError('<requests.packages.urllib3.connection.VerifiedHTTPSConnection object at 0x7fd8da90abd0>: Failed to establish a new connection: [Errno 111] Connection refused',))\n",
      "HTTPSConnectionPool(host='www.freelancer.com', port=443): Max retries exceeded with url: /u/afbinter (Caused by NewConnectionError('<requests.packages.urllib3.connection.VerifiedHTTPSConnection object at 0x7fd8da903390>: Failed to establish a new connection: [Errno 111] Connection refused',))\n",
      "HTTPSConnectionPool(host='www.freelancer.com', port=443): Max retries exceeded with url: /u/antelle (Caused by NewConnectionError('<requests.packages.urllib3.connection.VerifiedHTTPSConnection object at 0x7fd8da8cee90>: Failed to establish a new connection: [Errno -2] Name or service not known',))\n",
      "HTTPSConnectionPool(host='www.freelancer.com', port=443): Max retries exceeded with url: /u/smallvillehero (Caused by NewConnectionError('<requests.packages.urllib3.connection.VerifiedHTTPSConnection object at 0x7fd8da8ce490>: Failed to establish a new connection: [Errno -2] Name or service not known',))\n",
      "HTTPSConnectionPool(host='www.freelancer.com', port=443): Max retries exceeded with url: /u/Jascu (Caused by NewConnectionError('<requests.packages.urllib3.connection.VerifiedHTTPSConnection object at 0x7fd8da8cee90>: Failed to establish a new connection: [Errno -2] Name or service not known',))\n",
      "HTTPSConnectionPool(host='www.freelancer.com', port=443): Max retries exceeded with url: /u/natronekemp (Caused by NewConnectionError('<requests.packages.urllib3.connection.VerifiedHTTPSConnection object at 0x7fd8da913690>: Failed to establish a new connection: [Errno -5] No address associated with hostname',))\n",
      "HTTPSConnectionPool(host='www.freelancer.com', port=443): Max retries exceeded with url: /u/mousie (Caused by NewConnectionError('<requests.packages.urllib3.connection.VerifiedHTTPSConnection object at 0x7fd8da8de210>: Failed to establish a new connection: [Errno -2] Name or service not known',))\n",
      "HTTPSConnectionPool(host='www.freelancer.com', port=443): Max retries exceeded with url: /u/bumrush (Caused by NewConnectionError('<requests.packages.urllib3.connection.VerifiedHTTPSConnection object at 0x7fd8da8ce710>: Failed to establish a new connection: [Errno -2] Name or service not known',))\n",
      "HTTPSConnectionPool(host='www.freelancer.com', port=443): Max retries exceeded with url: /u/bhogsett2 (Caused by NewConnectionError('<requests.packages.urllib3.connection.VerifiedHTTPSConnection object at 0x7fd8da913210>: Failed to establish a new connection: [Errno -2] Name or service not known',))\n",
      "HTTPSConnectionPool(host='www.freelancer.com', port=443): Max retries exceeded with url: /u/Morrismx (Caused by NewConnectionError('<requests.packages.urllib3.connection.VerifiedHTTPSConnection object at 0x7fd8da8ce1d0>: Failed to establish a new connection: [Errno -2] Name or service not known',))\n",
      "HTTPSConnectionPool(host='www.freelancer.com', port=443): Max retries exceeded with url: /u/philsuisse (Caused by NewConnectionError('<requests.packages.urllib3.connection.VerifiedHTTPSConnection object at 0x7fd8da8de350>: Failed to establish a new connection: [Errno -2] Name or service not known',))\n"
     ]
    },
    {
     "name": "stdout",
     "output_type": "stream",
     "text": [
      "HTTPSConnectionPool(host='www.freelancer.com', port=443): Max retries exceeded with url: /u/natalie06 (Caused by NewConnectionError('<requests.packages.urllib3.connection.VerifiedHTTPSConnection object at 0x7fd8da913210>: Failed to establish a new connection: [Errno -2] Name or service not known',))\n",
      "HTTPSConnectionPool(host='www.freelancer.com', port=443): Max retries exceeded with url: /u/Subor (Caused by NewConnectionError('<requests.packages.urllib3.connection.VerifiedHTTPSConnection object at 0x7fd8da913a90>: Failed to establish a new connection: [Errno -2] Name or service not known',))\n",
      "HTTPSConnectionPool(host='www.freelancer.com', port=443): Max retries exceeded with url: /u/LEEWOOD (Caused by NewConnectionError('<requests.packages.urllib3.connection.VerifiedHTTPSConnection object at 0x7fd8da9135d0>: Failed to establish a new connection: [Errno -2] Name or service not known',))\n",
      "HTTPSConnectionPool(host='www.freelancer.com', port=443): Max retries exceeded with url: /u/lvdash (Caused by NewConnectionError('<requests.packages.urllib3.connection.VerifiedHTTPSConnection object at 0x7fd8da9132d0>: Failed to establish a new connection: [Errno -2] Name or service not known',))\n",
      "HTTPSConnectionPool(host='www.freelancer.com', port=443): Max retries exceeded with url: /u/vdashuta (Caused by NewConnectionError('<requests.packages.urllib3.connection.VerifiedHTTPSConnection object at 0x7fd8da8ec410>: Failed to establish a new connection: [Errno -2] Name or service not known',))\n",
      "HTTPSConnectionPool(host='www.freelancer.com', port=443): Max retries exceeded with url: /u/adrian078 (Caused by NewConnectionError('<requests.packages.urllib3.connection.VerifiedHTTPSConnection object at 0x7fd8da8ec490>: Failed to establish a new connection: [Errno -2] Name or service not known',))\n",
      "HTTPSConnectionPool(host='www.freelancer.com', port=443): Max retries exceeded with url: /u/ocrtech (Caused by NewConnectionError('<requests.packages.urllib3.connection.VerifiedHTTPSConnection object at 0x7fd8da8ec510>: Failed to establish a new connection: [Errno -2] Name or service not known',))\n",
      "HTTPSConnectionPool(host='www.freelancer.com', port=443): Max retries exceeded with url: /u/talentohumano (Caused by NewConnectionError('<requests.packages.urllib3.connection.VerifiedHTTPSConnection object at 0x7fd8da8ec350>: Failed to establish a new connection: [Errno -2] Name or service not known',))\n",
      "HTTPSConnectionPool(host='www.freelancer.com', port=443): Max retries exceeded with url: /u/NeilColeclough (Caused by NewConnectionError('<requests.packages.urllib3.connection.VerifiedHTTPSConnection object at 0x7fd8da8ec410>: Failed to establish a new connection: [Errno -2] Name or service not known',))\n",
      "HTTPSConnectionPool(host='www.freelancer.com', port=443): Max retries exceeded with url: /u/wyman100 (Caused by NewConnectionError('<requests.packages.urllib3.connection.VerifiedHTTPSConnection object at 0x7fd8da8d6cd0>: Failed to establish a new connection: [Errno 111] Connection refused',))\n",
      "HTTPSConnectionPool(host='www.freelancer.com', port=443): Max retries exceeded with url: /u/lefty087 (Caused by NewConnectionError('<requests.packages.urllib3.connection.VerifiedHTTPSConnection object at 0x7fd8da8d68d0>: Failed to establish a new connection: [Errno 111] Connection refused',))\n",
      "HTTPSConnectionPool(host='www.freelancer.com', port=443): Max retries exceeded with url: /u/arguiba (Caused by NewConnectionError('<requests.packages.urllib3.connection.VerifiedHTTPSConnection object at 0x7fd8da8cef90>: Failed to establish a new connection: [Errno 111] Connection refused',))\n",
      "HTTPSConnectionPool(host='www.freelancer.com', port=443): Max retries exceeded with url: /u/fasttps (Caused by NewConnectionError('<requests.packages.urllib3.connection.VerifiedHTTPSConnection object at 0x7fd8da81a7d0>: Failed to establish a new connection: [Errno -2] Name or service not known',))\n",
      "HTTPSConnectionPool(host='www.freelancer.com', port=443): Max retries exceeded with url: /u/aetomic (Caused by NewConnectionError('<requests.packages.urllib3.connection.VerifiedHTTPSConnection object at 0x7fd8da8383d0>: Failed to establish a new connection: [Errno -2] Name or service not known',))\n",
      "HTTPSConnectionPool(host='www.freelancer.com', port=443): Max retries exceeded with url: /u/RichHamilton (Caused by NewConnectionError('<requests.packages.urllib3.connection.VerifiedHTTPSConnection object at 0x7fd8da838250>: Failed to establish a new connection: [Errno -2] Name or service not known',))\n",
      "HTTPSConnectionPool(host='www.freelancer.com', port=443): Max retries exceeded with url: /u/asianconnect (Caused by NewConnectionError('<requests.packages.urllib3.connection.VerifiedHTTPSConnection object at 0x7fd8da831790>: Failed to establish a new connection: [Errno -2] Name or service not known',))\n",
      "HTTPSConnectionPool(host='www.freelancer.com', port=443): Max retries exceeded with url: /u/MarisolPadilla (Caused by NewConnectionError('<requests.packages.urllib3.connection.VerifiedHTTPSConnection object at 0x7fd8da820350>: Failed to establish a new connection: [Errno -2] Name or service not known',))\n",
      "HTTPSConnectionPool(host='www.freelancer.com', port=443): Max retries exceeded with url: /u/rustic1234 (Caused by NewConnectionError('<requests.packages.urllib3.connection.VerifiedHTTPSConnection object at 0x7fd8da8207d0>: Failed to establish a new connection: [Errno -2] Name or service not known',))\n",
      "HTTPSConnectionPool(host='www.freelancer.com', port=443): Max retries exceeded with url: /u/misell (Caused by NewConnectionError('<requests.packages.urllib3.connection.VerifiedHTTPSConnection object at 0x7fd8da7c07d0>: Failed to establish a new connection: [Errno -2] Name or service not known',))\n",
      "HTTPSConnectionPool(host='www.freelancer.com', port=443): Max retries exceeded with url: /u/answersred (Caused by NewConnectionError('<requests.packages.urllib3.connection.VerifiedHTTPSConnection object at 0x7fd8da7c0d10>: Failed to establish a new connection: [Errno -2] Name or service not known',))\n",
      "HTTPSConnectionPool(host='www.freelancer.com', port=443): Max retries exceeded with url: /u/ssack (Caused by NewConnectionError('<requests.packages.urllib3.connection.VerifiedHTTPSConnection object at 0x7fd8da7c09d0>: Failed to establish a new connection: [Errno -2] Name or service not known',))\n",
      "HTTPSConnectionPool(host='www.freelancer.com', port=443): Max retries exceeded with url: /u/Skuxta (Caused by NewConnectionError('<requests.packages.urllib3.connection.VerifiedHTTPSConnection object at 0x7fd8da7c0f90>: Failed to establish a new connection: [Errno -5] No address associated with hostname',))\n",
      "HTTPSConnectionPool(host='www.freelancer.com', port=443): Max retries exceeded with url: /u/tomworld99 (Caused by NewConnectionError('<requests.packages.urllib3.connection.VerifiedHTTPSConnection object at 0x7fd8da7c09d0>: Failed to establish a new connection: [Errno -2] Name or service not known',))\n",
      "HTTPSConnectionPool(host='www.freelancer.com', port=443): Max retries exceeded with url: /u/thynks11 (Caused by NewConnectionError('<requests.packages.urllib3.connection.VerifiedHTTPSConnection object at 0x7fd8da7c07d0>: Failed to establish a new connection: [Errno -2] Name or service not known',))\n",
      "HTTPSConnectionPool(host='www.freelancer.com', port=443): Max retries exceeded with url: /u/tjempleo (Caused by NewConnectionError('<requests.packages.urllib3.connection.VerifiedHTTPSConnection object at 0x7fd8da820690>: Failed to establish a new connection: [Errno -2] Name or service not known',))\n",
      "HTTPSConnectionPool(host='www.freelancer.com', port=443): Max retries exceeded with url: /u/digitalnamo (Caused by NewConnectionError('<requests.packages.urllib3.connection.VerifiedHTTPSConnection object at 0x7fd8da820390>: Failed to establish a new connection: [Errno -2] Name or service not known',))\n",
      "HTTPSConnectionPool(host='www.freelancer.com', port=443): Max retries exceeded with url: /u/MayhemProd (Caused by NewConnectionError('<requests.packages.urllib3.connection.VerifiedHTTPSConnection object at 0x7fd8da820c10>: Failed to establish a new connection: [Errno -2] Name or service not known',))\n",
      "HTTPSConnectionPool(host='www.freelancer.com', port=443): Max retries exceeded with url: /u/MantisHockey (Caused by NewConnectionError('<requests.packages.urllib3.connection.VerifiedHTTPSConnection object at 0x7fd8da820a50>: Failed to establish a new connection: [Errno -2] Name or service not known',))\n",
      "HTTPSConnectionPool(host='www.freelancer.com', port=443): Max retries exceeded with url: /u/macmidi (Caused by NewConnectionError('<requests.packages.urllib3.connection.VerifiedHTTPSConnection object at 0x7fd8da820550>: Failed to establish a new connection: [Errno -2] Name or service not known',))\n",
      "HTTPSConnectionPool(host='www.freelancer.com', port=443): Max retries exceeded with url: /u/lbgtrade (Caused by NewConnectionError('<requests.packages.urllib3.connection.VerifiedHTTPSConnection object at 0x7fd8da820ad0>: Failed to establish a new connection: [Errno -2] Name or service not known',))\n",
      "HTTPSConnectionPool(host='www.freelancer.com', port=443): Max retries exceeded with url: /u/maxmans (Caused by NewConnectionError('<requests.packages.urllib3.connection.VerifiedHTTPSConnection object at 0x7fd8da820390>: Failed to establish a new connection: [Errno -2] Name or service not known',))\n",
      "HTTPSConnectionPool(host='www.freelancer.com', port=443): Max retries exceeded with url: /u/TopIT (Caused by NewConnectionError('<requests.packages.urllib3.connection.VerifiedHTTPSConnection object at 0x7fd8da820790>: Failed to establish a new connection: [Errno -2] Name or service not known',))\n",
      "HTTPSConnectionPool(host='www.freelancer.com', port=443): Max retries exceeded with url: /u/marketresearch (Caused by NewConnectionError('<requests.packages.urllib3.connection.VerifiedHTTPSConnection object at 0x7fd8da7c02d0>: Failed to establish a new connection: [Errno -2] Name or service not known',))\n",
      "HTTPSConnectionPool(host='www.freelancer.com', port=443): Max retries exceeded with url: /u/gmanhem (Caused by NewConnectionError('<requests.packages.urllib3.connection.VerifiedHTTPSConnection object at 0x7fd8da820c90>: Failed to establish a new connection: [Errno -2] Name or service not known',))\n",
      "HTTPSConnectionPool(host='www.freelancer.com', port=443): Max retries exceeded with url: /u/GarfieldN (Caused by NewConnectionError('<requests.packages.urllib3.connection.VerifiedHTTPSConnection object at 0x7fd8da7c0050>: Failed to establish a new connection: [Errno -2] Name or service not known',))\n"
     ]
    },
    {
     "name": "stdout",
     "output_type": "stream",
     "text": [
      "HTTPSConnectionPool(host='www.freelancer.com', port=443): Max retries exceeded with url: /u/hvg67 (Caused by NewConnectionError('<requests.packages.urllib3.connection.VerifiedHTTPSConnection object at 0x7fd8da820910>: Failed to establish a new connection: [Errno -5] No address associated with hostname',))\n",
      "HTTPSConnectionPool(host='www.freelancer.com', port=443): Max retries exceeded with url: /u/jkphugat (Caused by NewConnectionError('<requests.packages.urllib3.connection.VerifiedHTTPSConnection object at 0x7fd8da828c10>: Failed to establish a new connection: [Errno -2] Name or service not known',))\n",
      "HTTPSConnectionPool(host='www.freelancer.com', port=443): Max retries exceeded with url: /u/tatzianarose (Caused by NewConnectionError('<requests.packages.urllib3.connection.VerifiedHTTPSConnection object at 0x7fd8da828e90>: Failed to establish a new connection: [Errno -2] Name or service not known',))\n",
      "HTTPSConnectionPool(host='www.freelancer.com', port=443): Max retries exceeded with url: /u/Outsourcing2001 (Caused by NewConnectionError('<requests.packages.urllib3.connection.VerifiedHTTPSConnection object at 0x7fd8da828c90>: Failed to establish a new connection: [Errno -2] Name or service not known',))\n",
      "HTTPSConnectionPool(host='www.freelancer.com', port=443): Max retries exceeded with url: /u/Boodle (Caused by NewConnectionError('<requests.packages.urllib3.connection.VerifiedHTTPSConnection object at 0x7fd8da8280d0>: Failed to establish a new connection: [Errno -2] Name or service not known',))\n",
      "HTTPSConnectionPool(host='www.freelancer.com', port=443): Max retries exceeded with url: /u/james739 (Caused by NewConnectionError('<requests.packages.urllib3.connection.VerifiedHTTPSConnection object at 0x7fd8da820a90>: Failed to establish a new connection: [Errno -2] Name or service not known',))\n",
      "HTTPSConnectionPool(host='www.freelancer.com', port=443): Max retries exceeded with url: /u/nykotai (Caused by NewConnectionError('<requests.packages.urllib3.connection.VerifiedHTTPSConnection object at 0x7fd8da820750>: Failed to establish a new connection: [Errno -2] Name or service not known',))\n",
      "HTTPSConnectionPool(host='www.freelancer.com', port=443): Max retries exceeded with url: /u/StudioCreative (Caused by NewConnectionError('<requests.packages.urllib3.connection.VerifiedHTTPSConnection object at 0x7fd8f3897690>: Failed to establish a new connection: [Errno -5] No address associated with hostname',))\n",
      "HTTPSConnectionPool(host='www.freelancer.com', port=443): Max retries exceeded with url: /u/iqeq (Caused by NewConnectionError('<requests.packages.urllib3.connection.VerifiedHTTPSConnection object at 0x7fd8f38974d0>: Failed to establish a new connection: [Errno -5] No address associated with hostname',))\n",
      "HTTPSConnectionPool(host='www.freelancer.com', port=443): Max retries exceeded with url: /u/thejessemancan (Caused by NewConnectionError('<requests.packages.urllib3.connection.VerifiedHTTPSConnection object at 0x7fd8f3897450>: Failed to establish a new connection: [Errno -2] Name or service not known',))\n",
      "HTTPSConnectionPool(host='www.freelancer.com', port=443): Max retries exceeded with url: /u/satman3000 (Caused by NewConnectionError('<requests.packages.urllib3.connection.VerifiedHTTPSConnection object at 0x7fd8f3897750>: Failed to establish a new connection: [Errno -2] Name or service not known',))\n",
      "HTTPSConnectionPool(host='www.freelancer.com', port=443): Max retries exceeded with url: /u/Sawchchha (Caused by NewConnectionError('<requests.packages.urllib3.connection.VerifiedHTTPSConnection object at 0x7fd8da820cd0>: Failed to establish a new connection: [Errno 111] Connection refused',))\n",
      "HTTPSConnectionPool(host='www.freelancer.com', port=443): Max retries exceeded with url: /u/vjarnold (Caused by NewConnectionError('<requests.packages.urllib3.connection.VerifiedHTTPSConnection object at 0x7fd8da7c7210>: Failed to establish a new connection: [Errno 111] Connection refused',))\n",
      "HTTPSConnectionPool(host='www.freelancer.com', port=443): Max retries exceeded with url: /u/Pascal79 (Caused by NewConnectionError('<requests.packages.urllib3.connection.VerifiedHTTPSConnection object at 0x7fd8da820650>: Failed to establish a new connection: [Errno 111] Connection refused',))\n",
      "HTTPSConnectionPool(host='www.freelancer.com', port=443): Max retries exceeded with url: /u/Geeback (Caused by NewConnectionError('<requests.packages.urllib3.connection.VerifiedHTTPSConnection object at 0x7fd8f3897d50>: Failed to establish a new connection: [Errno 111] Connection refused',))\n",
      "HTTPSConnectionPool(host='www.freelancer.com', port=443): Max retries exceeded with url: /u/firstalberta (Caused by NewConnectionError('<requests.packages.urllib3.connection.VerifiedHTTPSConnection object at 0x7fd8da828990>: Failed to establish a new connection: [Errno -2] Name or service not known',))\n",
      "HTTPSConnectionPool(host='www.freelancer.com', port=443): Max retries exceeded with url: /u/cekbrooks (Caused by NewConnectionError('<requests.packages.urllib3.connection.VerifiedHTTPSConnection object at 0x7fd8da8286d0>: Failed to establish a new connection: [Errno -2] Name or service not known',))\n",
      "HTTPSConnectionPool(host='www.freelancer.com', port=443): Max retries exceeded with url: /u/ar5577685 (Caused by NewConnectionError('<requests.packages.urllib3.connection.VerifiedHTTPSConnection object at 0x7fd8da828410>: Failed to establish a new connection: [Errno -2] Name or service not known',))\n",
      "HTTPSConnectionPool(host='www.freelancer.com', port=443): Max retries exceeded with url: /u/echelon6 (Caused by NewConnectionError('<requests.packages.urllib3.connection.VerifiedHTTPSConnection object at 0x7fd8da828dd0>: Failed to establish a new connection: [Errno -5] No address associated with hostname',))\n",
      "HTTPSConnectionPool(host='www.freelancer.com', port=443): Max retries exceeded with url: /u/mrcool18t (Caused by NewConnectionError('<requests.packages.urllib3.connection.VerifiedHTTPSConnection object at 0x7fd8da8288d0>: Failed to establish a new connection: [Errno -2] Name or service not known',))\n",
      "HTTPSConnectionPool(host='www.freelancer.com', port=443): Max retries exceeded with url: /u/AdverConcepts (Caused by NewConnectionError('<requests.packages.urllib3.connection.VerifiedHTTPSConnection object at 0x7fd8da8288d0>: Failed to establish a new connection: [Errno -2] Name or service not known',))\n",
      "HTTPSConnectionPool(host='www.freelancer.com', port=443): Max retries exceeded with url: /u/mteu (Caused by NewConnectionError('<requests.packages.urllib3.connection.VerifiedHTTPSConnection object at 0x7fd8f39651d0>: Failed to establish a new connection: [Errno -2] Name or service not known',))\n",
      "HTTPSConnectionPool(host='www.freelancer.com', port=443): Max retries exceeded with url: /u/manuabraham81 (Caused by NewConnectionError('<requests.packages.urllib3.connection.VerifiedHTTPSConnection object at 0x7fd8f3965cd0>: Failed to establish a new connection: [Errno -2] Name or service not known',))\n",
      "HTTPSConnectionPool(host='www.freelancer.com', port=443): Max retries exceeded with url: /u/ppmfree (Caused by NewConnectionError('<requests.packages.urllib3.connection.VerifiedHTTPSConnection object at 0x7fd8f3950190>: Failed to establish a new connection: [Errno -2] Name or service not known',))\n",
      "HTTPSConnectionPool(host='www.freelancer.com', port=443): Max retries exceeded with url: /u/pFetch (Caused by NewConnectionError('<requests.packages.urllib3.connection.VerifiedHTTPSConnection object at 0x7fd8f39506d0>: Failed to establish a new connection: [Errno -2] Name or service not known',))\n",
      "HTTPSConnectionPool(host='www.freelancer.com', port=443): Max retries exceeded with url: /u/Xenif911 (Caused by NewConnectionError('<requests.packages.urllib3.connection.VerifiedHTTPSConnection object at 0x7fd8f3950950>: Failed to establish a new connection: [Errno -2] Name or service not known',))\n",
      "HTTPSConnectionPool(host='www.freelancer.com', port=443): Max retries exceeded with url: /u/cmartin7 (Caused by NewConnectionError('<requests.packages.urllib3.connection.VerifiedHTTPSConnection object at 0x7fd8f3950ad0>: Failed to establish a new connection: [Errno -2] Name or service not known',))\n",
      "HTTPSConnectionPool(host='www.freelancer.com', port=443): Max retries exceeded with url: /u/ths2440 (Caused by NewConnectionError('<requests.packages.urllib3.connection.VerifiedHTTPSConnection object at 0x7fd8f3897c50>: Failed to establish a new connection: [Errno -5] No address associated with hostname',))\n",
      "HTTPSConnectionPool(host='www.freelancer.com', port=443): Max retries exceeded with url: /u/centreurope (Caused by NewConnectionError('<requests.packages.urllib3.connection.VerifiedHTTPSConnection object at 0x7fd8f3950bd0>: Failed to establish a new connection: [Errno -2] Name or service not known',))\n",
      "HTTPSConnectionPool(host='www.freelancer.com', port=443): Max retries exceeded with url: /u/biglandy71 (Caused by NewConnectionError('<requests.packages.urllib3.connection.VerifiedHTTPSConnection object at 0x7fd8f3897690>: Failed to establish a new connection: [Errno -2] Name or service not known',))\n",
      "HTTPSConnectionPool(host='www.freelancer.com', port=443): Max retries exceeded with url: /u/carlsbadlocal (Caused by NewConnectionError('<requests.packages.urllib3.connection.VerifiedHTTPSConnection object at 0x7fd8f3897fd0>: Failed to establish a new connection: [Errno -2] Name or service not known',))\n",
      "HTTPSConnectionPool(host='www.freelancer.com', port=443): Max retries exceeded with url: /u/kwd03 (Caused by NewConnectionError('<requests.packages.urllib3.connection.VerifiedHTTPSConnection object at 0x7fd8f3897810>: Failed to establish a new connection: [Errno -2] Name or service not known',))\n",
      "HTTPSConnectionPool(host='www.freelancer.com', port=443): Max retries exceeded with url: /u/jack51 (Caused by NewConnectionError('<requests.packages.urllib3.connection.VerifiedHTTPSConnection object at 0x7fd8f3897510>: Failed to establish a new connection: [Errno -2] Name or service not known',))\n",
      "HTTPSConnectionPool(host='www.freelancer.com', port=443): Max retries exceeded with url: /u/mark027 (Caused by NewConnectionError('<requests.packages.urllib3.connection.VerifiedHTTPSConnection object at 0x7fd8f3897510>: Failed to establish a new connection: [Errno -2] Name or service not known',))\n",
      "HTTPSConnectionPool(host='www.freelancer.com', port=443): Max retries exceeded with url: /u/supersoupie (Caused by NewConnectionError('<requests.packages.urllib3.connection.VerifiedHTTPSConnection object at 0x7fd8f39653d0>: Failed to establish a new connection: [Errno -2] Name or service not known',))\n",
      "HTTPSConnectionPool(host='www.freelancer.com', port=443): Max retries exceeded with url: /u/sarahliz (Caused by NewConnectionError('<requests.packages.urllib3.connection.VerifiedHTTPSConnection object at 0x7fd8f3949110>: Failed to establish a new connection: [Errno -2] Name or service not known',))\n"
     ]
    },
    {
     "name": "stdout",
     "output_type": "stream",
     "text": [
      "HTTPSConnectionPool(host='www.freelancer.com', port=443): Max retries exceeded with url: /u/joe7ballistic (Caused by NewConnectionError('<requests.packages.urllib3.connection.VerifiedHTTPSConnection object at 0x7fd8f3897a90>: Failed to establish a new connection: [Errno 111] Connection refused',))\n",
      "HTTPSConnectionPool(host='www.freelancer.com', port=443): Max retries exceeded with url: /u/dataworker2009 (Caused by NewConnectionError('<requests.packages.urllib3.connection.VerifiedHTTPSConnection object at 0x7fd8f3950490>: Failed to establish a new connection: [Errno 111] Connection refused',))\n"
     ]
    }
   ],
   "source": [
    "batch(allemp)"
   ]
  },
  {
   "cell_type": "code",
   "execution_count": 81,
   "metadata": {},
   "outputs": [
    {
     "data": {
      "text/plain": [
       "6239"
      ]
     },
     "execution_count": 81,
     "metadata": {},
     "output_type": "execute_result"
    }
   ],
   "source": [
    "len(fail)"
   ]
  },
  {
   "cell_type": "code",
   "execution_count": 82,
   "metadata": {},
   "outputs": [
    {
     "data": {
      "text/plain": [
       "8123"
      ]
     },
     "execution_count": 82,
     "metadata": {},
     "output_type": "execute_result"
    }
   ],
   "source": [
    "14362-6239"
   ]
  },
  {
   "cell_type": "code",
   "execution_count": 101,
   "metadata": {},
   "outputs": [
    {
     "data": {
      "text/plain": [
       "1591"
      ]
     },
     "execution_count": 101,
     "metadata": {},
     "output_type": "execute_result"
    }
   ],
   "source": [
    "len(fail)"
   ]
  },
  {
   "cell_type": "code",
   "execution_count": 102,
   "metadata": {},
   "outputs": [
    {
     "data": {
      "text/plain": [
       "14362"
      ]
     },
     "execution_count": 102,
     "metadata": {},
     "output_type": "execute_result"
    }
   ],
   "source": [
    "12771+1591"
   ]
  },
  {
   "cell_type": "code",
   "execution_count": null,
   "metadata": {
    "collapsed": true
   },
   "outputs": [],
   "source": []
  }
 ],
 "metadata": {
  "kernelspec": {
   "display_name": "Python 2",
   "language": "python",
   "name": "python2"
  },
  "language_info": {
   "codemirror_mode": {
    "name": "ipython",
    "version": 2
   },
   "file_extension": ".py",
   "mimetype": "text/x-python",
   "name": "python",
   "nbconvert_exporter": "python",
   "pygments_lexer": "ipython2",
   "version": "2.7.13"
  }
 },
 "nbformat": 4,
 "nbformat_minor": 2
}
