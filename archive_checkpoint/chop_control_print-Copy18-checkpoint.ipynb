{
 "cells": [
  {
   "cell_type": "code",
   "execution_count": 1,
   "metadata": {
    "collapsed": true
   },
   "outputs": [],
   "source": [
    "# !ls"
   ]
  },
  {
   "cell_type": "code",
   "execution_count": 1,
   "metadata": {
    "scrolled": true
   },
   "outputs": [
    {
     "name": "stdout",
     "output_type": "stream",
     "text": [
      "1 used 0.00 s | 100 used 35.52 s | 200 used 77.75 s | 300 used 118.81 s | 400 used 162.35 s | 500 used 202.78 s | 600 used 244.99 s | 700 used 286.52 s | 800 used 329.92 s | 900 used 371.78 s | 1000 used 412.06 s | 1100 used 453.09 s | 1200 used 495.18 s | 1300 used 537.35 s | 1400 used 578.21 s | 1500 used 620.06 s | 1600 used 662.01 s | 1700 used 703.00 s | 1800 used 747.43 s | 1900 used 788.44 s | 2000 used 829.56 s | 2100 used 871.35 s | 2200 used 914.79 s | 2300 used 955.66 s | 2400 used 998.02 s | 2500 used 1037.57 s | 2600 used 1078.70 s | 2700 used 1118.64 s | 2800 used 1161.02 s | 2900 used 1201.97 s | 3000 used 1242.73 s | 3100 used 1284.21 s | 3200 used 1326.45 s | 3300 used 1368.59 s | 3400 used 1411.58 s | 3500 used 1455.18 s | 3600 used 1495.96 s | 3700 used 1540.11 s | 3800 used 1583.63 s | 3900 used 1625.29 s | 4000 used 1667.97 s | 4100 used 1708.29 s | 4200 used 1751.81 s | 4300 used 1792.70 s | 4400 used 1833.41 s | 4500 used 1875.55 s | 4600 used 1916.59 s | 4700 used 1957.86 s | 4800 used 1999.70 s | 4900 used 2042.03 s | 5000 used 2084.53 s | 5100 used 2126.51 s | 5200 used 2169.47 s | 5300 used 2210.69 s | 5400 used 2253.56 s | 5500 used 2295.35 s | 5600 used 2337.08 s | 5700 used 2378.61 s | 5800 used 2421.49 s | 5900 used 2463.14 s | 6000 used 2503.70 s | 6100 used 2545.95 s | 6200 used 2587.41 s | 6300 used 2628.14 s | 6400 used 2670.00 s | 6500 used 2710.25 s | 6600 used 2751.68 s | 6700 used 2794.67 s | 6800 used 2835.25 s | 6900 used 2876.24 s | 7000 used 2916.73 s | 7100 used 2957.92 s | 7200 used 3000.47 s | 7300 used 3042.13 s | 7400 used 3083.14 s | 7500 used 3124.68 s | 7600 used 3166.54 s | 7700 used 3205.75 s | 7800 used 3248.59 s | 7900 used 3289.76 s | 8000 used 3331.90 s | 8100 used 3375.01 s | 8200 used 3416.00 s | 8300 used 3459.23 s | 8400 used 3501.71 s | 8500 used 3543.88 s | 8600 used 3583.39 s | 8700 used 3625.97 s | 8800 used 3667.79 s | 8900 used 3709.13 s | 9000 used 3752.11 s | 9100 used 3793.33 s | 9200 used 3836.22 s | 9300 used 3876.92 s | 9400 used 3919.42 s | 9500 used 3959.34 s | 9600 used 4000.92 s | 9700 used 4042.42 s | 9800 used 4082.51 s | 9900 used 4123.91 s |\n"
     ]
    },
    {
     "data": {
      "text/plain": [
       "4164.068305969238"
      ]
     },
     "execution_count": 1,
     "metadata": {},
     "output_type": "execute_result"
    }
   ],
   "source": [
    "from time import time\n",
    "start=time()\n",
    "start\n",
    "\n",
    "\n",
    "!python -u /root/openface/util/align-dlib_mod.py \\\n",
    "../real_soyoung_pics/img_20 align \\\n",
    "outerEyesAndNose \\\n",
    "../chopHead256_real_soyoung_pics \\\n",
    "--size 256\n",
    "\n",
    "end=time()-start\n",
    "end"
   ]
  },
  {
   "cell_type": "code",
   "execution_count": null,
   "metadata": {
    "collapsed": true
   },
   "outputs": [],
   "source": []
  }
 ],
 "metadata": {
  "kernelspec": {
   "display_name": "Python 2",
   "language": "python",
   "name": "python2"
  },
  "language_info": {
   "codemirror_mode": {
    "name": "ipython",
    "version": 2
   },
   "file_extension": ".py",
   "mimetype": "text/x-python",
   "name": "python",
   "nbconvert_exporter": "python",
   "pygments_lexer": "ipython2",
   "version": "2.7.6"
  }
 },
 "nbformat": 4,
 "nbformat_minor": 2
}
