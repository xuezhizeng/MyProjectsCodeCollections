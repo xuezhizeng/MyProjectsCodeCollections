{
 "cells": [
  {
   "cell_type": "markdown",
   "metadata": {},
   "source": [
    "## picutils\n",
    "\n",
    "[![PyPI version](https://badge.fury.io/py/picutils.svg)](https://badge.fury.io/py/picutils)\n",
    "\n",
    "\n",
    "### json2df is a library does batch processing pictures\n",
    "\n",
    "#### github: https://github.com/shichaoji/picutils\n",
    "* If you would like to run a image hosting website, it is handy to process a large number of images\n",
    "\n",
    "#### I have used the library processed almost 1 million photos for my other project face similarity searching & indexing, landmark detecting\n",
    "### http://iridescent.date/"
   ]
  },
  {
   "cell_type": "markdown",
   "metadata": {},
   "source": [
    "### installation\n",
    "\n",
    "` $ pip install pictutils`"
   ]
  },
  {
   "cell_type": "markdown",
   "metadata": {},
   "source": [
    "### usage example"
   ]
  },
  {
   "cell_type": "markdown",
   "metadata": {},
   "source": [
    "#### Batch reducing pics size to about 200kb each, if you have many HD pics saved in a folder, run the library will batch coverting pics in the folder to .jpg and then resizing all pics till 100-200 kb each.R\n",
    " \n",
    "   * Run $ python -m picutils.process_pics , and then pass the images folder's name, in the directory where that folder resides\n",
    "     \n",
    "<img src=\"https://user-images.githubusercontent.com/20619704/34473164-3901bc16-ef3d-11e7-9f78-6c62fd4b3f15.jpg\" width=\"60%\" height=\"60%\">\n",
    "\n",
    "\n"
   ]
  },
  {
   "cell_type": "markdown",
   "metadata": {},
   "source": [
    "####  Making index.html webbrowser file for a folder of pics for overall viewing, or hosting in a webpage\n",
    "  * Run $ python -m picutils.html_index , and then pass the images folder's name, in the directory where that folder resides\n",
    "     * the program will make a sub-thumbnail folder, so even if image sizes in the folder are very large, the small view pics in the index html will load instantly, for the purpose of hosting picture website when visitors has slow internet\n",
    "       * Thanks to myphotopack.com for those pretty pictures  \n",
    "\n",
    "<img src=\"https://user-images.githubusercontent.com/20619704/34473402-1d233422-ef40-11e7-9bb2-ab373c5a6377.jpg\" width=\"60%\" height=\"60%\">\n",
    "\n"
   ]
  },
  {
   "cell_type": "markdown",
   "metadata": {},
   "source": [
    "#### Making a viewer.html webbrowser file for a folder of pics for single viewing, e.g. hosting a manga Website\n",
    "   * Run $ python -m picutils.html_viewer , and then pass the images folder's name, in the directory where that folder resides\n",
    "      * click right side of the photo will view next, while clicking left side turns to previous photo\n",
    "      \n",
    "<img src=\"https://user-images.githubusercontent.com/20619704/34473527-e93fd4ce-ef41-11e7-94b9-85873cd9219e.jpg\" width=\"60%\" height=\"60%\">\n"
   ]
  },
  {
   "cell_type": "code",
   "execution_count": null,
   "metadata": {
    "collapsed": true
   },
   "outputs": [],
   "source": []
  }
 ],
 "metadata": {
  "kernelspec": {
   "display_name": "Python 2",
   "language": "python",
   "name": "python2"
  },
  "language_info": {
   "codemirror_mode": {
    "name": "ipython",
    "version": 2
   },
   "file_extension": ".py",
   "mimetype": "text/x-python",
   "name": "python",
   "nbconvert_exporter": "python",
   "pygments_lexer": "ipython2",
   "version": "2.7.13"
  }
 },
 "nbformat": 4,
 "nbformat_minor": 2
}
