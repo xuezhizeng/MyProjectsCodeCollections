{
 "cells": [
  {
   "cell_type": "code",
   "execution_count": 1,
   "metadata": {
    "collapsed": true
   },
   "outputs": [],
   "source": [
    "# !ls"
   ]
  },
  {
   "cell_type": "code",
   "execution_count": 3,
   "metadata": {
    "collapsed": true,
    "scrolled": true
   },
   "outputs": [],
   "source": [
    "def wrapin(number):\n",
    "    from time import time\n",
    "    start=time()\n",
    "\n",
    "\n",
    "    !python -u /root/openface/util/align-dlib_mod.py \\\n",
    "    ..{'/real_soyoung_pics/img_'+str(number)} align \\\n",
    "    outerEyesAndNose \\\n",
    "    ../chopHead256_real_soyoung_pics \\\n",
    "    --size 256\n",
    "\n",
    "    end=time()-start\n",
    "    print end, end/60/60"
   ]
  },
  {
   "cell_type": "code",
   "execution_count": null,
   "metadata": {},
   "outputs": [
    {
     "name": "stdout",
     "output_type": "stream",
     "text": [
      "1 used 0.00 s | 100 used 64.31 s | 200 used 122.48 s | 300 used 181.62 s | 400 used 242.61 s | 500 used 300.00 s | 600 used 362.39 s | 700 used 424.32 s | 800 used 479.64 s | 900 used 536.32 s | 1000 used 598.26 s | 1100 used 657.56 s | 1200 used 721.13 s | 1300 used 781.50 s | 1400 used 840.07 s | 1500 used 901.46 s | 1600 used 961.89 s | 1700 used 1027.95 s | 1800 used 1089.00 s | 1900 used 1143.65 s | 2000 used 1202.14 s | 2100 used 1261.92 s | 2200 used 1320.15 s | 2300 used 1379.97 s | 2400 used 1440.05 s | 2500 used 1499.86 s | 2600 used 1561.60 s | 2700 used 1624.17 s | 2800 used 1682.80 s | 2900 used 1739.52 s | 3000 used 1798.86 s | 3100 used 1852.44 s | 3200 used 1910.58 s | 3300 used 1972.27 s | 3400 used 2031.60 s | 3500 used 2093.31 s | 3600 used 2156.27 s | 3700 used 2217.32 s | 3800 used 2276.82 s | 3900 used 2335.84 s | 4000 used 2394.32 s | 4100 used 2458.33 s | 4200 used 2518.06 s | 4300 used 2575.33 s | 4400 used 2636.49 s | 4500 used 2698.46 s | 4600 used 2762.62 s | 4700 used 2821.85 s | 4800 used 2876.12 s | 4900 used 2940.49 s | 5000 used 2998.01 s | 5100 used 3063.08 s | 5200 used 3120.54 s | 5300 used 3180.98 s | 5400 used 3242.85 s | 5500 used 3306.91 s | 5600 used 3375.32 s | 5700 used 3434.77 s | 5800 used 3494.93 s | 5900 used 3555.63 s | 6000 used 3617.61 s | 6100 used 3676.01 s | 6200 used 3739.48 s | 6300 used 3802.35 s | 6400 used 3860.14 s | 6500 used 3915.87 s | 6600 used 3974.34 s | 6700 used 4032.86 s | 6800 used 4094.04 s | 6900 used 4154.47 s | 7000 used 4216.75 s | 7100 used 4280.09 s | 7200 used 4340.51 s | 7300 used 4397.98 s | 7400 used 4456.73 s | 7500 used 4512.17 s | 7600 used 4575.29 s | 7700 used 4634.30 s | 7800 used 4693.99 s | 7900 used 4756.03 s | 8000 used 4812.65 s | 8100 used 4874.04 s | 8200 used 4926.81 s | 8300 used 4961.41 s | 8400 used 4994.48 s | 8500 used 5028.56 s | 8600 used 5060.33 s | 8700 used 5094.59 s | 8800 used 5127.93 s | 8900 used 5161.18 s | 9000 used 5196.38 s | 9100 used 5230.78 s | 9200 used 5264.93 s | 9300 used 5299.38 s | 9400 used 5333.51 s | 9500 used 5368.54 s | 9600 used 5401.87 s | 9700 used 5435.09 s | 9800 used 5467.75 s | 9900 used 5502.04 s |\n",
      "5537.55214381 1.53820892884\n",
      "1 used 0.00 s | 100 used 29.30 s | 200 used 62.16 s | 300 used 94.43 s | 400 used 127.40 s | 500 used 157.23 s | 600 used 190.98 s | 700 used 223.66 s | 800 used 255.13 s | 900 used 287.22 s | 1000 used 319.06 s | 1100 used 350.35 s | 1200 used 381.07 s | 1300 used 413.43 s | 1400 used 447.32 s | 1500 used 478.32 s | 1600 used 510.35 s | 1700 used 541.95 s | 1800 used 573.38 s | 1900 used 605.01 s | 2000 used 638.70 s | 2100 used 671.25 s | 2200 used 704.10 s | 2300 used 737.74 s | 2400 used 770.64 s | 2500 used 804.32 s | 2600 used 837.36 s | 2700 used 870.43 s | 2800 used 903.45 s | 2900 used 936.06 s | 3000 used 968.25 s | 3100 used 1000.15 s | 3200 used 1031.09 s | 3300 used 1063.98 s | 3400 used 1097.77 s | 3500 used 1129.54 s | 3600 used 1161.68 s | 3700 used 1193.89 s | 3800 used 1225.31 s | 3900 used 1259.06 s | 4000 used 1292.43 s | 4100 used 1324.46 s | 4200 used 1358.71 s | 4300 used 1390.03 s | 4400 used 1421.88 s | 4500 used 1454.90 s | 4600 used 1488.31 s | 4700 used 1521.90 s | 4800 used 1552.87 s | 4900 used 1586.30 s | 5000 used 1618.34 s | 5100 used 1651.18 s | 5200 used 1682.62 s | 5300 used 1713.66 s | 5400 used 1745.44 s | 5500 used 1778.99 s | 5600 used 1812.16 s | 5700 used 1844.42 s | 5800 used 1876.14 s | 5900 used 1907.98 s | 6000 used 1940.03 s | 6100 used 1973.17 s | 6200 used 2004.22 s |"
     ]
    }
   ],
   "source": [
    "for i in range(36,81):\n",
    "    wrapin(i)"
   ]
  },
  {
   "cell_type": "code",
   "execution_count": null,
   "metadata": {
    "collapsed": true
   },
   "outputs": [],
   "source": []
  }
 ],
 "metadata": {
  "kernelspec": {
   "display_name": "Python 2",
   "language": "python",
   "name": "python2"
  },
  "language_info": {
   "codemirror_mode": {
    "name": "ipython",
    "version": 2
   },
   "file_extension": ".py",
   "mimetype": "text/x-python",
   "name": "python",
   "nbconvert_exporter": "python",
   "pygments_lexer": "ipython2",
   "version": "2.7.6"
  }
 },
 "nbformat": 4,
 "nbformat_minor": 2
}
