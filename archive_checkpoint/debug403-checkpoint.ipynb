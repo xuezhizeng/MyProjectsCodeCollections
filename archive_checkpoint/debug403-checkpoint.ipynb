{
 "cells": [
  {
   "cell_type": "code",
   "execution_count": 1,
   "metadata": {
    "collapsed": true
   },
   "outputs": [],
   "source": [
    "# coding: utf-8\n",
    "\n",
    "# import sys\n",
    "# reload(sys)\n",
    "# sys.setdefaultencoding(\"utf-8\")\n",
    "\n",
    "headers = {'User-Agent': 'Mozilla/5.0 (Macintosh; Intel Mac OS X 10_11_5)\\\n",
    "AppleWebKit/537.36 (KHTML, like Gecko) Chrome/50.0.2661.102 Safari/537.36'}\n",
    "\n",
    "\n",
    "import pandas as pd\n",
    "import os\n",
    "from time import time, ctime\n",
    "import requests\n",
    "\n",
    "def getsingle(ID):\n",
    "    global fail, n\n",
    "    n+=1\n",
    "    if n%5000==0 or n==1:\n",
    "        print ctime(), 'of ', n, 'failed', len(fail)\n",
    "    try:\n",
    "        one=requests.get(diary_link.format(ID), timeout=10, headers=headers)\n",
    "        if one.status_code==200:\n",
    "        \n",
    "            with open(folder+'{}.html'.format(ID), 'w+') as fl:\n",
    "\n",
    "                fl.write(one.text)\n",
    "    #     print 'O',        \n",
    "        else:\n",
    "            print 'X:',one.status_code,\n",
    "            \n",
    "    except:\n",
    "#         print 'X',\n",
    "        try:\n",
    "            getsingle(ID)\n",
    "        \n",
    "        except:\n",
    "            try:\n",
    "                getsingle(ID)\n",
    "            except:\n",
    "                fail.append(ID)"
   ]
  },
  {
   "cell_type": "code",
   "execution_count": 2,
   "metadata": {},
   "outputs": [
    {
     "name": "stdout",
     "output_type": "stream",
     "text": [
      "did17_7.csv\r\n"
     ]
    }
   ],
   "source": [
    "!ls|grep 7"
   ]
  },
  {
   "cell_type": "code",
   "execution_count": 3,
   "metadata": {},
   "outputs": [
    {
     "name": "stdout",
     "output_type": "stream",
     "text": [
      "start scraping Tue Jan 23 16:42:35 2018\n",
      "10142 (10142, 1)\n"
     ]
    }
   ],
   "source": [
    "diary_index_path = 'did17_7.csv'\n",
    "df=pd.read_csv(diary_index_path, usecols=['group_id'])\n",
    "\n",
    "print 'start scraping', ctime()\n",
    "print len(df['group_id'].unique()), df.shape\n",
    "\n",
    "all_ids=df['group_id'].tolist()"
   ]
  },
  {
   "cell_type": "code",
   "execution_count": 4,
   "metadata": {},
   "outputs": [
    {
     "data": {
      "text/plain": [
       "5388262"
      ]
     },
     "execution_count": 4,
     "metadata": {},
     "output_type": "execute_result"
    }
   ],
   "source": [
    "all_ids[0]"
   ]
  },
  {
   "cell_type": "code",
   "execution_count": 5,
   "metadata": {
    "collapsed": true
   },
   "outputs": [],
   "source": [
    "diary_link = \"http://www.soyoung.com/dpg{}\"\n"
   ]
  },
  {
   "cell_type": "code",
   "execution_count": 8,
   "metadata": {
    "collapsed": true
   },
   "outputs": [],
   "source": [
    "n=0\n",
    "fail=[]"
   ]
  },
  {
   "cell_type": "code",
   "execution_count": 9,
   "metadata": {},
   "outputs": [
    {
     "name": "stdout",
     "output_type": "stream",
     "text": [
      "Tue Jan 23 16:43:25 2018 of  1 failed 0\n",
      "X: 403\n"
     ]
    }
   ],
   "source": [
    "getsingle(all_ids[0])"
   ]
  },
  {
   "cell_type": "code",
   "execution_count": 11,
   "metadata": {},
   "outputs": [
    {
     "data": {
      "text/plain": [
       "'http://www.soyoung.com/dpg6179153'"
      ]
     },
     "execution_count": 11,
     "metadata": {},
     "output_type": "execute_result"
    }
   ],
   "source": [
    "diary_link.format(all_ids[100])"
   ]
  },
  {
   "cell_type": "code",
   "execution_count": 18,
   "metadata": {},
   "outputs": [
    {
     "data": {
      "text/plain": [
       "<Response [403]>"
      ]
     },
     "execution_count": 18,
     "metadata": {},
     "output_type": "execute_result"
    }
   ],
   "source": [
    "one=requests.get('http://www.soyoung.com/dpg6179153', timeout=10)\n",
    "one"
   ]
  },
  {
   "cell_type": "code",
   "execution_count": null,
   "metadata": {
    "collapsed": true
   },
   "outputs": [],
   "source": []
  }
 ],
 "metadata": {
  "kernelspec": {
   "display_name": "new2",
   "language": "python",
   "name": "new2"
  },
  "language_info": {
   "codemirror_mode": {
    "name": "ipython",
    "version": 2
   },
   "file_extension": ".py",
   "mimetype": "text/x-python",
   "name": "python",
   "nbconvert_exporter": "python",
   "pygments_lexer": "ipython2",
   "version": "2.7.14"
  }
 },
 "nbformat": 4,
 "nbformat_minor": 2
}
