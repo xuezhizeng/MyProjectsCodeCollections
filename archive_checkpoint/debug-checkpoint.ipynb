{
 "cells": [
  {
   "cell_type": "code",
   "execution_count": 36,
   "metadata": {
    "collapsed": true
   },
   "outputs": [],
   "source": [
    "import matplotlib.pyplot as plt\n",
    "def show(path, url):\n",
    "    plt.figure(figsize=((10,7)))\n",
    "    plt.title(url)\n",
    "    plt.imshow(plt.imread(path+url))\n",
    "    plt.show()"
   ]
  },
  {
   "cell_type": "code",
   "execution_count": 1,
   "metadata": {
    "collapsed": true
   },
   "outputs": [],
   "source": [
    "import os"
   ]
  },
  {
   "cell_type": "code",
   "execution_count": 13,
   "metadata": {},
   "outputs": [
    {
     "data": {
      "text/plain": [
       "[]"
      ]
     },
     "execution_count": 13,
     "metadata": {},
     "output_type": "execute_result"
    }
   ],
   "source": [
    "name_list = os.listdir('/home/soyoung/face/newFlask/static/uploads/192.168.1.83/land/')\n",
    "name_list"
   ]
  },
  {
   "cell_type": "code",
   "execution_count": 5,
   "metadata": {},
   "outputs": [
    {
     "data": {
      "text/plain": [
       "['static/uploads/192.168.1.83/pics/new',\n",
       " 'static/uploads/192.168.1.83/pics/1untitled.jpg']"
      ]
     },
     "execution_count": 5,
     "metadata": {},
     "output_type": "execute_result"
    }
   ],
   "source": [
    "full_list = [os.path.join('static/uploads/192.168.1.83/pics/',i) for i in name_list]\n",
    "full_list"
   ]
  },
  {
   "cell_type": "code",
   "execution_count": 8,
   "metadata": {},
   "outputs": [
    {
     "data": {
      "text/plain": [
       "['static/uploads/192.168.1.83/pics/1untitled.jpg',\n",
       " 'static/uploads/192.168.1.83/pics/new']"
      ]
     },
     "execution_count": 8,
     "metadata": {},
     "output_type": "execute_result"
    }
   ],
   "source": [
    "time_sorted_list = sorted(full_list, key=os.path.getmtime)\n",
    "time_sorted_list"
   ]
  },
  {
   "cell_type": "code",
   "execution_count": 9,
   "metadata": {},
   "outputs": [
    {
     "data": {
      "text/plain": [
       "['new', '1untitled.jpg']"
      ]
     },
     "execution_count": 9,
     "metadata": {},
     "output_type": "execute_result"
    }
   ],
   "source": [
    "[os.path.basename(i) for i in full_list]"
   ]
  },
  {
   "cell_type": "code",
   "execution_count": 30,
   "metadata": {},
   "outputs": [
    {
     "data": {
      "text/plain": [
       "(209521, 128)"
      ]
     },
     "execution_count": 30,
     "metadata": {},
     "output_type": "execute_result"
    }
   ],
   "source": [
    "import pandas as pd\n",
    "from time import time\n",
    "from sklearn.metrics.pairwise import cosine_similarity\n",
    "\n",
    "df1=df.as_matrix()\n",
    "df1.shape"
   ]
  },
  {
   "cell_type": "code",
   "execution_count": 31,
   "metadata": {},
   "outputs": [
    {
     "data": {
      "text/plain": [
       "(209521,)"
      ]
     },
     "execution_count": 31,
     "metadata": {},
     "output_type": "execute_result"
    }
   ],
   "source": [
    "start=time()\n",
    "dating1=df.as_matrix()[1].reshape(1,-1)\n",
    "#precious\n",
    "precious=cosine_similarity(dating1, df1)\n",
    "precious=pd.Series(precious[0])\n",
    "precious=precious.sort_values(ascending=False)\n",
    "precious.shape"
   ]
  },
  {
   "cell_type": "code",
   "execution_count": 40,
   "metadata": {},
   "outputs": [
    {
     "data": {
      "text/plain": [
       "(100,)"
      ]
     },
     "execution_count": 40,
     "metadata": {},
     "output_type": "execute_result"
    }
   ],
   "source": [
    "pre = precious.head(100)\n",
    "pre.shape"
   ]
  },
  {
   "cell_type": "code",
   "execution_count": 50,
   "metadata": {},
   "outputs": [
    {
     "data": {
      "text/plain": [
       "1         1.000000\n",
       "136266    0.936733\n",
       "15964     0.918650\n",
       "155543    0.908027\n",
       "45827     0.903723\n",
       "dtype: float64"
      ]
     },
     "execution_count": 50,
     "metadata": {},
     "output_type": "execute_result"
    }
   ],
   "source": [
    "pre.head()"
   ]
  },
  {
   "cell_type": "markdown",
   "metadata": {},
   "source": [
    "### solution"
   ]
  },
  {
   "cell_type": "code",
   "execution_count": 75,
   "metadata": {},
   "outputs": [
    {
     "name": "stdout",
     "output_type": "stream",
     "text": [
      "(90,)\n"
     ]
    },
    {
     "data": {
      "text/plain": [
       "1         1.0000\n",
       "136266    0.9367\n",
       "15964     0.9186\n",
       "155543    0.9080\n",
       "45827     0.9037\n",
       "dtype: float64"
      ]
     },
     "execution_count": 75,
     "metadata": {},
     "output_type": "execute_result"
    }
   ],
   "source": [
    "print pre.apply(lambda x: round(x,4)).drop_duplicates().shape\n",
    "pre.apply(lambda x: round(x,4)).drop_duplicates().head()"
   ]
  },
  {
   "cell_type": "code",
   "execution_count": 76,
   "metadata": {},
   "outputs": [],
   "source": [
    "# aaa = pre.groupby(lambda x: round(x, 2))\n",
    "# aaa"
   ]
  },
  {
   "cell_type": "code",
   "execution_count": 77,
   "metadata": {},
   "outputs": [],
   "source": [
    "# aaa.first()"
   ]
  },
  {
   "cell_type": "code",
   "execution_count": 32,
   "metadata": {},
   "outputs": [
    {
     "data": {
      "text/plain": [
       "1         1.000000\n",
       "136266    0.936733\n",
       "15964     0.918650\n",
       "155543    0.908027\n",
       "45827     0.903723\n",
       "131043    0.894055\n",
       "163108    0.890335\n",
       "111637    0.885931\n",
       "57537     0.885052\n",
       "209408    0.884936\n",
       "dtype: float64"
      ]
     },
     "execution_count": 32,
     "metadata": {},
     "output_type": "execute_result"
    }
   ],
   "source": [
    "precious.head(10)"
   ]
  },
  {
   "cell_type": "code",
   "execution_count": 33,
   "metadata": {},
   "outputs": [
    {
     "data": {
      "text/plain": [
       "Int64Index([1, 136266, 15964, 155543, 45827], dtype='int64')"
      ]
     },
     "execution_count": 33,
     "metadata": {},
     "output_type": "execute_result"
    }
   ],
   "source": [
    "precious.head().index"
   ]
  },
  {
   "cell_type": "code",
   "execution_count": 34,
   "metadata": {},
   "outputs": [],
   "source": [
    "# !ls\n",
    "path = 'static/phos/'"
   ]
  },
  {
   "cell_type": "code",
   "execution_count": 79,
   "metadata": {},
   "outputs": [],
   "source": [
    "# for i in name.iloc[precious.head(5).index]['name'].values:show(path, i)"
   ]
  },
  {
   "cell_type": "code",
   "execution_count": null,
   "metadata": {
    "collapsed": true
   },
   "outputs": [],
   "source": [
    "for i in range(1000,1100):\n",
    "    dating1 = df.as_matrix()[i].reshape(1,-1)\n",
    "    precious=cosine_similarity(dating1, df1)\n",
    "    precious=pd.Series(precious[0])\n",
    "    precious=precious.sort_values(ascending=False)\n",
    "    hun=precious.head(100)\n",
    "    if hun.apply(lambda x: round(x,4)).drop_duplicates().shape[0]<90: \n",
    "    \n",
    "    "
   ]
  },
  {
   "cell_type": "code",
   "execution_count": null,
   "metadata": {
    "collapsed": true
   },
   "outputs": [],
   "source": []
  },
  {
   "cell_type": "code",
   "execution_count": null,
   "metadata": {
    "collapsed": true
   },
   "outputs": [],
   "source": []
  },
  {
   "cell_type": "code",
   "execution_count": null,
   "metadata": {
    "collapsed": true
   },
   "outputs": [],
   "source": []
  },
  {
   "cell_type": "code",
   "execution_count": 3,
   "metadata": {
    "collapsed": true
   },
   "outputs": [],
   "source": [
    "\n",
    "print 'used {:.2f} s'.format(time()-start)  \n",
    "print precious.shape\n",
    "beginning = precious[:20]\n",
    "ending = precious[-4:]    \n",
    "\n",
    "print beginning                 \n",
    "print ending   \n",
    "\n",
    "print type(beginning), type(ending)\n",
    "good=[]\n",
    "bad=[]\n",
    "for i,j in zip(beginning.index, beginning):\n",
    "    good.append([round(j,3)*100, name.iloc[i][0]])\n",
    "\n",
    "for i,j in zip(ending.index, ending):\n",
    "    bad.append([round(j,3)*100, name.iloc[i][0]])\n",
    "print good, bad"
   ]
  },
  {
   "cell_type": "code",
   "execution_count": 2,
   "metadata": {
    "collapsed": true
   },
   "outputs": [],
   "source": [
    "df = pd.read_csv('parameter/20WpicsPara.csv')\n",
    "name = df.pop('name').to_frame()"
   ]
  },
  {
   "cell_type": "code",
   "execution_count": null,
   "metadata": {
    "collapsed": true
   },
   "outputs": [],
   "source": []
  }
 ],
 "metadata": {
  "kernelspec": {
   "display_name": "Python 2",
   "language": "python",
   "name": "python2"
  },
  "language_info": {
   "codemirror_mode": {
    "name": "ipython",
    "version": 2
   },
   "file_extension": ".py",
   "mimetype": "text/x-python",
   "name": "python",
   "nbconvert_exporter": "python",
   "pygments_lexer": "ipython2",
   "version": "2.7.13"
  }
 },
 "nbformat": 4,
 "nbformat_minor": 2
}
