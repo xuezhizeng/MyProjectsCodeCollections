{
 "cells": [
  {
   "cell_type": "code",
   "execution_count": 1,
   "metadata": {
    "collapsed": true
   },
   "outputs": [],
   "source": [
    "import concurrent.futures\n",
    "import requests\n",
    "import os\n",
    "\n",
    "from time import time, ctime\n",
    "import pandas as pd\n",
    "\n",
    "from picDown import download_image, batch"
   ]
  },
  {
   "cell_type": "code",
   "execution_count": 4,
   "metadata": {
    "collapsed": true
   },
   "outputs": [],
   "source": [
    "csv = 'bidder_urls.csv'\n",
    "direct = 'bidderPics'"
   ]
  },
  {
   "cell_type": "code",
   "execution_count": 5,
   "metadata": {},
   "outputs": [
    {
     "data": {
      "text/plain": [
       "(68227, 3)"
      ]
     },
     "execution_count": 5,
     "metadata": {},
     "output_type": "execute_result"
    }
   ],
   "source": [
    "df=pd.read_csv(csv)\n",
    "df.shape"
   ]
  },
  {
   "cell_type": "code",
   "execution_count": 6,
   "metadata": {
    "collapsed": true,
    "scrolled": true
   },
   "outputs": [],
   "source": [
    "# df['URL'].value_counts().head()"
   ]
  },
  {
   "cell_type": "markdown",
   "metadata": {},
   "source": [
    "#### most pics like this"
   ]
  },
  {
   "cell_type": "markdown",
   "metadata": {},
   "source": [
    "//cdn6.f-cdn.com/img/unknown.png\n",
    "\n",
    "![title](//cdn6.f-cdn.com/img/unknown.png)"
   ]
  },
  {
   "cell_type": "code",
   "execution_count": 10,
   "metadata": {},
   "outputs": [
    {
     "data": {
      "text/plain": [
       "26349"
      ]
     },
     "execution_count": 10,
     "metadata": {},
     "output_type": "execute_result"
    }
   ],
   "source": [
    "has_pics = df.shape[0]-df['URL'].value_counts()[0]-df['URL'].value_counts()[1]\n",
    "has_pics"
   ]
  },
  {
   "cell_type": "markdown",
   "metadata": {},
   "source": [
    "### : about ?% pics meaningful"
   ]
  },
  {
   "cell_type": "code",
   "execution_count": 12,
   "metadata": {},
   "outputs": [
    {
     "data": {
      "text/plain": [
       "38.61960807305026"
      ]
     },
     "execution_count": 12,
     "metadata": {},
     "output_type": "execute_result"
    }
   ],
   "source": [
    "float(has_pics)/df.shape[0]*100"
   ]
  },
  {
   "cell_type": "code",
   "execution_count": null,
   "metadata": {
    "collapsed": true
   },
   "outputs": [],
   "source": []
  },
  {
   "cell_type": "code",
   "execution_count": 13,
   "metadata": {},
   "outputs": [
    {
     "data": {
      "text/plain": [
       "(26349, 3)"
      ]
     },
     "execution_count": 13,
     "metadata": {},
     "output_type": "execute_result"
    }
   ],
   "source": [
    "gdf=df[-(df['URL'].str.contains('None') | df['URL'].str.contains('//cdn6.f-cdn.com/img/unknown.png')\\\n",
    "            |df['URL'].isnull())]\n",
    "gdf.shape"
   ]
  },
  {
   "cell_type": "code",
   "execution_count": 14,
   "metadata": {},
   "outputs": [],
   "source": [
    "try:\n",
    "    os.mkdir(direct)\n",
    "except:\n",
    "    print 'exists'"
   ]
  },
  {
   "cell_type": "code",
   "execution_count": 15,
   "metadata": {
    "collapsed": true
   },
   "outputs": [],
   "source": [
    "gdf = gdf[['ID','URL']]"
   ]
  },
  {
   "cell_type": "markdown",
   "metadata": {},
   "source": [
    "### apply diff"
   ]
  },
  {
   "cell_type": "code",
   "execution_count": 16,
   "metadata": {},
   "outputs": [
    {
     "name": "stdout",
     "output_type": "stream",
     "text": [
      "26349  pics\n",
      "(0, 1)\n",
      "(26349, 3)\n",
      "(26349, 2)\n",
      "getiing  26349 diff new pics!\n"
     ]
    }
   ],
   "source": [
    "# direct='img_'+str(choose)\n",
    "df=gdf\n",
    "nn=df.shape[0]\n",
    "print nn,' pics'\n",
    "\n",
    "#apply diff\n",
    "folder = pd.DataFrame(os.listdir(direct), columns=['name'])\n",
    "folder = folder[folder['name'].str.contains('.jpg')]\n",
    "print folder.shape\n",
    "\n",
    "df['parse']=df['ID']\n",
    "folder['parse']=folder['name'].apply(lambda x: int(x.split('_')[0]))\n",
    "\n",
    "joind=df.set_index('parse').join(folder.set_index('parse'),)\n",
    "print joind.shape\n",
    "\n",
    "new_df = joind[joind['name'].isnull()][['ID','URL']]\n",
    "print new_df.shape\n",
    "\n",
    "nnn=new_df.shape[0]\n",
    "print 'getiing ',nnn,'diff new pics!'\n",
    "\n",
    "gdf=new_df\n"
   ]
  },
  {
   "cell_type": "code",
   "execution_count": 17,
   "metadata": {},
   "outputs": [
    {
     "data": {
      "text/plain": [
       "26349"
      ]
     },
     "execution_count": 17,
     "metadata": {},
     "output_type": "execute_result"
    }
   ],
   "source": [
    "want=[]\n",
    "for i in range(gdf.shape[0]):\n",
    "    tmp = gdf.iloc[i,:].tolist()\n",
    "    try:\n",
    "        want.append([tmp[0], \"http:\"+tmp[1], direct])\n",
    "    except Exception as e:\n",
    "        print e\n",
    "        print tmp\n",
    "#     break\n",
    "len(want)"
   ]
  },
  {
   "cell_type": "code",
   "execution_count": null,
   "metadata": {
    "collapsed": true
   },
   "outputs": [],
   "source": []
  },
  {
   "cell_type": "code",
   "execution_count": null,
   "metadata": {},
   "outputs": [
    {
     "name": "stdout",
     "output_type": "stream",
     "text": [
      "X3 X4 [1388098] X3 X4 [1463529] X3 X4 [801212] X3 X4 [1095231] X3 X4 [1480417] X3 X4 [817781] X3 X4 [1582984] X3 X4 [1509866] X3 X4 [1566699] X3 X4 [1432975] X3 X4 [1343770] X3 X4 [1049418] X3 X4 [640193] X3 X4 [709163] X3 X4 [79312] X3 X4 [1460371] X3 X4 [1500231] X3 X4 [1543328] X3 X4 [1445336] X3 X4 [791722] X3 X4 [1142025] X3 X4 [1266971] X3 X4 [1593727] X3 X4 [1348873] X3 X4 [1555794] X3 X4 [217096] X3 X4 [1366088] X3 X4 [1596958] X3 X4 [1474073] X3 X4 [1558753] X3 X4 [1348747] X3 X4 [1509018] X3 X4 [1024276] X3 X4 [1443335] X3 X4 [1517078] X3 X4 [1436892] X3 X4 [1240296] X3 X4 [1233042] X3 X4 [1109047] X3 X4 [1568128] X3 X4 [1555152] X3 X4 [1543069] X3 X4 [1093957] X3 X4 [1440049] X3 X4 [663138] X3 X4 [1423092] X3 X4 [14661] X3 X4 [1344356] X3 X4 [1354449] X3 X4 [1595767] X3 X4 [1369086] X3 X4 [1556907] X3 X4 [1461899] X3 X4 [941046] X3 X4 [1454574] X3 X4 [1125366] X3 X4 [214344] X3 X4 [1378732] X3 X4 [1176511] X3 X4 [1561585] X3 X4 [1431068] X3 X4 [688276] X3 X4 [1390805] X3 X4 [1564742] X3 X4 [1481836] X3 X4 [1534332] X3 X4 [1257922] X3 X4 [1482373] X3 X4 [1384590] X3 X4 [1529466] X3 X4 X3[1355919] X4 [1513268] X3 X4 [1449457] X3 X4 [1391158] X3 X4 [1180793] X3 X4 [1187042] X3 X4 [80104] X3 X4 [1385112] X3 X4 [1241900] X3 X4 [1568271] X3 X4 [1524651] X3 X4 [1513004] X3 X4 [1455325] X3 X4 [494994] X3 X4 [1359691] X3 X4 [889907] X3 X4 [1148296] X3 X4 [1211663] X3 X4 [1107019] X3 X4 [1235075] X3X3  X4X4  [1368637][1164195] X3 X4 [1546334] X3 X4 [66589] X3 X4 [1450806] X3 X4 [1552949] X3 X4 [1199296] X3 X4 [1033984] X3 X4 [1378208] X3 X4 [1443203] X3 X4 [999417] X3 X4 [1477353] X3 X4 [537559] X3 X4 [295900] X3 X4 [1329626] X3 X4 [1389262] X3 X4 [1255318] X3 X4 [1345424] X3 X4 [1341742] X3 X4 [1338637]X3 X4 [1443536] X3 X4 [1534665] X3 X4 [1491239] X3 X4 [1020388] X3 X4 [693984] X3 X4 [1584820] X3 X4 [1277229] X3 X4 [183932] X3 X4 [322070] X3 X4 [1351558] X3 X4 [1276507] X3 X4 [1342837] X3 X4 [1375838] X3 X4 [1248919] X3 X4 [1528812] X3 X4 [1591879] X3 X4 [669684] X3 X4 [1087013] X3 X4 [1463333] X3 X4 [1357117] X3 X4 [1329393] X3 X4 [1329506] X3 X4 [748715] X3 X4 [1146586] X3 X4 [1110016] X3 X4 [117832] X3 X4 [1042406] X3 X4 [1568897] X3 X4 [684219] X3 X4 [1387846] X3 X4 [646751] X3 X4 [1593603] X3 X4 [1455308] X3 X4 [1477854] X3 X4 [1413455] X3 X4 [93238] X3 X4 [1384474] X3 X4 [1149661] X3 X4 [1221985] X3 X4 [1135017] X3 X4 [169844] X3 X4 [1501297] X3 X4 [1132289] X3 X4 [1625930] X3 X4 [294456] X3 X4 [1567257] X3 X4 [1534937] X3 X4 [1446659] X3 X4 [647751] X3 X4 [1164326] X3 X4 [1564716] X3 X4 [32408] X3 X4 [1382745] X3 X4 [1369001] X3 X4 [1533468] X3 X4 [1538861] X3 X4 [1518855] X3 X4 [1339812] X3 X4 [1127666] X3 X4 [1347164] X3 X4 [828448] X3 X4 [1547637] X3 X4 [1016902] X3 X4 [851667] X3 X4 [140839] X3 X4 [1557995] X3 X4 [1361841] X3 X4 [1481978] X3 X4 [1359652] X3 X4 [1548080] X3 X4 [1288211] X3 X4 [1412964] X3 X4 [1062647] X3 X4 [1413575] X3 X4 [1573578] X3 X4 [1521811] X3 X4 [1283898] X3 X4 [1477710] X3 X4 [202806] X3 X4 [1096039] X3 X4 [1005333] X3X3  X4X4  [1274956][1443363] X3 X4 [575054] X3 X4 [1240217] X3 X4 [1372253] X3 X4 [1291690] X3 X4 [935884] X3 X4 [1458541] X3 X4 [1031439] X3 X4 [285814] X3 X4 [60714] X3 X4 [567096] X3 X4 [1418781] X3 X4 [687959] X3 X4 [1305044] X3 X4 [893323] X3 X4 [1364849] X3 X4 [1556168] X3 X4 [576863] X3 X4 [1466332] X3 X4 [1431870] X3 X4 [1434729] X3 X4 [1533601] X3 X4 [1497008] X3 X4 [364932] X3 X3X4 [1314286] X4 [455088] X3 X4 [204700] X3 X4 [222428] X3 X4 [1496945] X3 X4 [1463842] X3 X4 [1076494] X3 X4 X3 X4[297699] [1558108] X3 X4 [1453725] X3 X4 [887216] X3 X4 [514958] X3 X4 [716199] X3 X4 [535256] X3 X4 [1310635] X3 X4 [1346522] X3 X4 [1182963] X3 X4 [322296] X3 X4 [1106387] X3 X4 [1372247] X3 X4 [1414736] X3 X4 [1539341] X3 X4 [1510729] X3 X4 [1588361] X3 X4 [1165561] X3 X4 [1315522] X3 X4 [1545215] X3 X4 [1455157] X3 X4 [1042920] X3 X4 [202093]"
     ]
    }
   ],
   "source": [
    "batch(download_image, want)"
   ]
  },
  {
   "cell_type": "code",
   "execution_count": null,
   "metadata": {
    "collapsed": true
   },
   "outputs": [],
   "source": []
  }
 ],
 "metadata": {
  "kernelspec": {
   "display_name": "Python 2",
   "language": "python",
   "name": "python2"
  },
  "language_info": {
   "codemirror_mode": {
    "name": "ipython",
    "version": 2
   },
   "file_extension": ".py",
   "mimetype": "text/x-python",
   "name": "python",
   "nbconvert_exporter": "python",
   "pygments_lexer": "ipython2",
   "version": "2.7.13"
  }
 },
 "nbformat": 4,
 "nbformat_minor": 2
}
