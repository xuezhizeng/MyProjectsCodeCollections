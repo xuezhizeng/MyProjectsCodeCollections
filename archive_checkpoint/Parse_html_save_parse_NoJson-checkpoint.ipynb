{
 "cells": [
  {
   "cell_type": "markdown",
   "metadata": {},
   "source": [
    "https://hub.docker.com/r/sath89/oracle-12c/"
   ]
  },
  {
   "cell_type": "markdown",
   "metadata": {
    "collapsed": true
   },
   "source": [
    "https://hub.docker.com/_/mysql/"
   ]
  },
  {
   "cell_type": "markdown",
   "metadata": {},
   "source": [
    "https://stackoverflow.com/questions/8858008/how-to-move-a-file-in-python"
   ]
  },
  {
   "cell_type": "markdown",
   "metadata": {},
   "source": [
    "https://stackoverflow.com/questions/1894269/convert-string-representation-of-list-to-list-in-python"
   ]
  },
  {
   "cell_type": "code",
   "execution_count": 1,
   "metadata": {},
   "outputs": [
    {
     "name": "stdout",
     "output_type": "stream",
     "text": [
      "add_bidder\t    Parse_html_save_2_final.ipynb\r\n",
      "addbidder.csv\t    Parse_html_save_2.ipynb\r\n",
      "addbidderPics\t    Parse_html_save.ipynb\r\n",
      "addbidder_urls.csv  Parse_html_Stat-add1.ipynb\r\n",
      "addboss.csv\t    Parse_html_Stat-add2-Copy1.ipynb\r\n",
      "addbossPics\t    Parse_html_Stat-add2.ipynb\r\n",
      "addboss_urls.csv    Parse_html_Stat-Copy1.ipynb\r\n",
      "add_owner\t    Parse_html_Stat.ipynb\r\n",
      "addtional\t    Parse_html_V5.ipynb\r\n",
      "bidder1.csv\t    parse.ipynb\r\n",
      "bidderPics\t    pic_down_func-add1.ipynb\r\n",
      "bidder_urls.csv     pic_down_func-add2.ipynb\r\n",
      "bid_pages2\t    pic_down_func_bidder.ipynb\r\n",
      "boss1.csv\t    pic_down_func.ipynb\r\n",
      "boss1Data.csv\t    picDown.py\r\n",
      "bossPics\t    picDown.pyc\r\n",
      "boss_urls.csv\t    pic_down_report.ipynb\r\n",
      "data\t\t    pic_report.ipynb\r\n",
      "emp_pages4\t    PicsWithFace.zip\r\n",
      "freelancer.py\t    recIpython\r\n",
      "headPics\t    Tensorflow\r\n",
      "old\r\n"
     ]
    }
   ],
   "source": [
    "!ls"
   ]
  },
  {
   "cell_type": "code",
   "execution_count": 32,
   "metadata": {
    "collapsed": true
   },
   "outputs": [],
   "source": [
    "# encoding=utf8\n",
    "import sys\n",
    "reload(sys)\n",
    "sys.setdefaultencoding('utf8')"
   ]
  },
  {
   "cell_type": "code",
   "execution_count": 33,
   "metadata": {
    "collapsed": true
   },
   "outputs": [],
   "source": [
    "\n",
    "\n",
    "import pandas as pd\n",
    "import os\n",
    "from time import time, ctime\n",
    "\n",
    "import concurrent.futures\n",
    "\n",
    "from lxml import etree\n",
    "import json\n",
    "import re\n",
    "\n",
    "import ast"
   ]
  },
  {
   "cell_type": "code",
   "execution_count": 34,
   "metadata": {},
   "outputs": [
    {
     "data": {
      "text/plain": [
       "2982"
      ]
     },
     "execution_count": 34,
     "metadata": {},
     "output_type": "execute_result"
    }
   ],
   "source": [
    "# path='technosystem.html'\n",
    "\n",
    "folder='emp_pages4/NoJson/'\n",
    "cont = os.listdir(folder)\n",
    "cont = [i for i in cont if i[-4:]=='html']\n",
    "len(cont)"
   ]
  },
  {
   "cell_type": "code",
   "execution_count": 35,
   "metadata": {
    "collapsed": true
   },
   "outputs": [],
   "source": [
    "def flatten_dict(data, layers=1, drop_deeper=False):\n",
    "\n",
    "        for _ in range(layers):\n",
    "            data = [(k, v) if not isinstance(v, dict) else [(k + '.' + k2, v2) for k2, v2 in v.items()] for k, v in\n",
    "                    data.items()]\n",
    "            data = [item for sublist in data for item in sublist if isinstance(sublist, list)] + [y for y in data if\n",
    "                                                                                                  not isinstance(y,\n",
    "                                                                                                                 list)]\n",
    "            data = dict(data)\n",
    "\n",
    "        if drop_deeper:\n",
    "            data = {k: v for k, v in data.items() if not isinstance(v, dict) or isinstance(v, list)}\n",
    "\n",
    "        return data"
   ]
  },
  {
   "cell_type": "code",
   "execution_count": 36,
   "metadata": {
    "collapsed": true
   },
   "outputs": [],
   "source": [
    "df = pd.read_csv('boss1.csv').set_index('name')\n"
   ]
  },
  {
   "cell_type": "code",
   "execution_count": 37,
   "metadata": {
    "collapsed": true
   },
   "outputs": [],
   "source": [
    "from collections import defaultdict\n",
    "iniDict = defaultdict(lambda: None)"
   ]
  },
  {
   "cell_type": "code",
   "execution_count": 38,
   "metadata": {},
   "outputs": [
    {
     "data": {
      "text/plain": [
       "73"
      ]
     },
     "execution_count": 38,
     "metadata": {},
     "output_type": "execute_result"
    }
   ],
   "source": [
    "for i in list(df.index):\n",
    "    iniDict[i]\n",
    "len(iniDict)"
   ]
  },
  {
   "cell_type": "code",
   "execution_count": 39,
   "metadata": {},
   "outputs": [
    {
     "data": {
      "text/plain": [
       "(0, 73)"
      ]
     },
     "execution_count": 39,
     "metadata": {},
     "output_type": "execute_result"
    }
   ],
   "source": [
    "initial = pd.DataFrame(columns=list(df.index))\n",
    "initial.shape"
   ]
  },
  {
   "cell_type": "code",
   "execution_count": 40,
   "metadata": {
    "collapsed": true
   },
   "outputs": [],
   "source": [
    "failed_names=[]\n",
    "def get_columns(path):\n",
    "    global failed_names\n",
    "    get=[]\n",
    "    \n",
    "    with open(folder+path,'r') as fl:\n",
    "        text=fl.read()\n",
    "#         tree=etree.HTML(text)\n",
    "    try:\n",
    "#         script = tree.xpath('//script')[-2]\n",
    "        data = re.search(r\"__export\\('profileServerData',(.*?)\\n\", text)        \n",
    "        jsondata=data.group(1)[:-2]\n",
    "        \n",
    "        json_dict = json.loads(jsondata)\n",
    "        flat = flatten_dict(json_dict, layers=1)\n",
    "        for i in flat:\n",
    "            iniDict[i]=str(flat[i])\n",
    "        return pd.DataFrame(iniDict, index=[0])\n",
    "            \n",
    "#         return pd.DataFrame(iniDict, index=[0])\n",
    "#         names = flat.keys()\n",
    "#         return flat\n",
    "    except Exception as e:\n",
    "        print e\n",
    "        failed_names.append(path)\n",
    "        return initial\n",
    "        \n",
    "\n",
    "    "
   ]
  },
  {
   "cell_type": "code",
   "execution_count": 41,
   "metadata": {},
   "outputs": [
    {
     "data": {
      "text/plain": [
       "<function ast.literal_eval>"
      ]
     },
     "execution_count": 41,
     "metadata": {},
     "output_type": "execute_result"
    }
   ],
   "source": [
    "ast.literal_eval"
   ]
  },
  {
   "cell_type": "code",
   "execution_count": 44,
   "metadata": {},
   "outputs": [
    {
     "data": {
      "text/plain": [
       "1508"
      ]
     },
     "execution_count": 44,
     "metadata": {},
     "output_type": "execute_result"
    }
   ],
   "source": [
    "len(failed_names)"
   ]
  },
  {
   "cell_type": "markdown",
   "metadata": {},
   "source": [
    "1533"
   ]
  },
  {
   "cell_type": "code",
   "execution_count": 43,
   "metadata": {},
   "outputs": [],
   "source": [
    "%%time\n",
    "start = initial.copy()\n",
    "for i in cont:\n",
    "    tmp = get_columns(i)\n",
    "    start = start.append(tmp)\n",
    "start = start.reset_index().drop('index',1)\n",
    "    \n"
   ]
  },
  {
   "cell_type": "code",
   "execution_count": 46,
   "metadata": {},
   "outputs": [
    {
     "data": {
      "text/plain": [
       "(1474, 73)"
      ]
     },
     "execution_count": 46,
     "metadata": {},
     "output_type": "execute_result"
    }
   ],
   "source": [
    "start.shape"
   ]
  },
  {
   "cell_type": "code",
   "execution_count": 23,
   "metadata": {},
   "outputs": [
    {
     "data": {
      "text/plain": [
       "[]"
      ]
     },
     "execution_count": 23,
     "metadata": {},
     "output_type": "execute_result"
    }
   ],
   "source": []
  },
  {
   "cell_type": "code",
   "execution_count": 27,
   "metadata": {
    "collapsed": true
   },
   "outputs": [],
   "source": [
    "start = start.reset_index().drop('index',1)"
   ]
  },
  {
   "cell_type": "code",
   "execution_count": 50,
   "metadata": {
    "collapsed": true
   },
   "outputs": [],
   "source": [
    "start.to_csv('boss1Data_Nojson.csv',index=False)"
   ]
  },
  {
   "cell_type": "code",
   "execution_count": 33,
   "metadata": {},
   "outputs": [
    {
     "data": {
      "text/plain": [
       "(11380, 73)"
      ]
     },
     "execution_count": 33,
     "metadata": {},
     "output_type": "execute_result"
    }
   ],
   "source": [
    "df = pd.read_csv('boss1Data_Nojson.csv')\n",
    "df.shape"
   ]
  },
  {
   "cell_type": "code",
   "execution_count": 34,
   "metadata": {
    "collapsed": true
   },
   "outputs": [],
   "source": [
    "!ll -h"
   ]
  },
  {
   "cell_type": "code",
   "execution_count": 47,
   "metadata": {
    "collapsed": true
   },
   "outputs": [],
   "source": [
    "import shutil"
   ]
  },
  {
   "cell_type": "code",
   "execution_count": 51,
   "metadata": {
    "collapsed": true
   },
   "outputs": [],
   "source": [
    "try:\n",
    "    os.mkdir(folder+'Closed')\n",
    "except:\n",
    "    print 'exists'"
   ]
  },
  {
   "cell_type": "code",
   "execution_count": 52,
   "metadata": {
    "collapsed": true
   },
   "outputs": [],
   "source": [
    "%%time\n",
    "# os.rename(\"path/to/current/file.foo\", \"path/to/new/desination/for/file.foo\")\n",
    "for i in failed_names:\n",
    "    try:\n",
    "        shutil.move(folder+i, folder+'/Closed')\n",
    "    except:\n",
    "        print 'X',\n"
   ]
  },
  {
   "cell_type": "code",
   "execution_count": null,
   "metadata": {
    "collapsed": true
   },
   "outputs": [],
   "source": []
  }
 ],
 "metadata": {
  "kernelspec": {
   "display_name": "Python 2",
   "language": "python",
   "name": "python2"
  },
  "language_info": {
   "codemirror_mode": {
    "name": "ipython",
    "version": 2
   },
   "file_extension": ".py",
   "mimetype": "text/x-python",
   "name": "python",
   "nbconvert_exporter": "python",
   "pygments_lexer": "ipython2",
   "version": "2.7.13"
  }
 },
 "nbformat": 4,
 "nbformat_minor": 2
}
