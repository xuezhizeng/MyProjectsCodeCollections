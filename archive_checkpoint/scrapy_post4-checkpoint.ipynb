{
 "cells": [
  {
   "cell_type": "code",
   "execution_count": 2,
   "metadata": {
    "collapsed": true
   },
   "outputs": [],
   "source": [
    "import requests\n",
    "from scrapy.selector import Selector\n",
    "import re"
   ]
  },
  {
   "cell_type": "code",
   "execution_count": 3,
   "metadata": {},
   "outputs": [
    {
     "data": {
      "text/plain": [
       "<200 http://www.soyoung.com/p16278806>"
      ]
     },
     "execution_count": 3,
     "metadata": {},
     "output_type": "execute_result"
    }
   ],
   "source": [
    "c = requests.get('http://www.soyoung.com/p16278806')\n",
    "from scrapy.http import TextResponse\n",
    "response = TextResponse(c.url, body=c.text, encoding='utf-8')\n",
    "response"
   ]
  },
  {
   "cell_type": "code",
   "execution_count": 27,
   "metadata": {},
   "outputs": [
    {
     "name": "stdout",
     "output_type": "stream",
     "text": [
      "http://www.soyoung.com/u16279885\n",
      "嘉嘉要加油啊\n"
     ]
    }
   ],
   "source": [
    "user = response.css('li.first_f div.head_pic')\n",
    "print user.css('a.name::attr(href)').extract()[0].strip()\n",
    "print user.css('a.name::text').extract()[0].strip()"
   ]
  },
  {
   "cell_type": "code",
   "execution_count": 6,
   "metadata": {},
   "outputs": [
    {
     "data": {
      "text/plain": [
       "60"
      ]
     },
     "execution_count": 6,
     "metadata": {},
     "output_type": "execute_result"
    }
   ],
   "source": [
    "int(response.css('div.date_box span.day::text').extract()[0])"
   ]
  },
  {
   "cell_type": "code",
   "execution_count": 23,
   "metadata": {},
   "outputs": [
    {
     "name": "stdout",
     "output_type": "stream",
     "text": [
      "好久没有更新了，没想到收到了不少的私信。平时也没怎么经常登录。这里统一回复下，在时光整形医院做的，咨询医生这些都很认真负责，还会提醒我该注意什么，会提示我该去做第二次祛斑了，对于我这种马大哈，可以说很贴心了。已经看不出什么痕迹了，为了真实，我更新的日志全都没有美颜，让大家看到真实的手术效果，做个借鉴。\n"
     ]
    }
   ],
   "source": [
    "text = response.css('li.first_f div.content div.c::text').extract()\n",
    "\n",
    "string=''\n",
    "for t in text:\n",
    "    try:\n",
    "        string = string +'\\n' + t.strip()\n",
    "    except Exception as e:\n",
    "        print e\n",
    "        pass\n",
    "string = re.sub(r'\\n\\n+', '\\n', string.strip())    \n",
    "print string"
   ]
  },
  {
   "cell_type": "code",
   "execution_count": 29,
   "metadata": {},
   "outputs": [
    {
     "name": "stdout",
     "output_type": "stream",
     "text": [
      "http://img2.soyoung.com/tieba/web/20171229/9/20171229151301405_570.jpg\n",
      "http://img2.soyoung.com/tieba/web/20171229/1/20171229151329822_570.jpg\n",
      "http://img2.soyoung.com/tieba/web/20171229/3/20171229151336210_570.jpg\n",
      "http://img2.soyoung.com/tieba/web/20171229/8/20171229151353336_570.jpg\n",
      "http://img2.soyoung.com/tieba/web/20171229/2/20171229151403216_570.jpg\n",
      "http://img2.soyoung.com/tieba/web/20171229/9/20171229151424752_570.jpg\n"
     ]
    }
   ],
   "source": [
    "for i in response.css('li.first_f div.content div.c img::attr(src)'):\n",
    "    pic = i.extract().strip()\n",
    "    if pic.startswith('http://img2.soyoung.com'):\n",
    "        print pic"
   ]
  },
  {
   "cell_type": "code",
   "execution_count": 30,
   "metadata": {
    "collapsed": true
   },
   "outputs": [],
   "source": [
    "for v in response.css('li.first_f div.content div.c video ::attr(src)').extract():\n",
    "    print v\n"
   ]
  },
  {
   "cell_type": "code",
   "execution_count": 25,
   "metadata": {},
   "outputs": [
    {
     "name": "stdout",
     "output_type": "stream",
     "text": [
      "【皮肤】【皮秒祛斑】皮秒激光 超纳米级波段 爆破各种斑类\n",
      "http://y.soyoung.com/cp139909\n"
     ]
    }
   ],
   "source": [
    "product= response.css('li.first_f div.con_t a.name')\n",
    "print product.css('::text').extract()[0].strip()\n",
    "print product.css('::attr(href)').extract()[0].strip()"
   ]
  },
  {
   "cell_type": "code",
   "execution_count": 26,
   "metadata": {},
   "outputs": [
    {
     "name": "stdout",
     "output_type": "stream",
     "text": [
      "[]\n",
      " 100%\n",
      " 100%\n",
      " 100%\n",
      " 100%\n"
     ]
    }
   ],
   "source": [
    "rate = response.css('div.level_box ul.level_list')\n",
    "s = rate.css('span.sym a::text').extract()\n",
    "r = rate.css('span.level span')\n",
    "print s\n",
    "for w in r.css('::attr(style)').extract():\n",
    "    print w.split('width:')[-1].replace(';','')"
   ]
  },
  {
   "cell_type": "code",
   "execution_count": 130,
   "metadata": {},
   "outputs": [
    {
     "data": {
      "text/plain": [
       "[u'100%', u'40%', u'20%', u'0%']"
      ]
     },
     "execution_count": 130,
     "metadata": {},
     "output_type": "execute_result"
    }
   ],
   "source": [
    "[i.split('width:')[-1].replace(';','').strip() for i in r.css('::attr(style)').extract()]"
   ]
  },
  {
   "cell_type": "code",
   "execution_count": 159,
   "metadata": {
    "collapsed": true
   },
   "outputs": [],
   "source": [
    "a = 'aaabbcccccccs'"
   ]
  },
  {
   "cell_type": "code",
   "execution_count": 160,
   "metadata": {
    "collapsed": true
   },
   "outputs": [],
   "source": [
    "import re"
   ]
  },
  {
   "cell_type": "code",
   "execution_count": 171,
   "metadata": {},
   "outputs": [
    {
     "data": {
      "text/plain": [
       "'aaabbcs'"
      ]
     },
     "execution_count": 171,
     "metadata": {},
     "output_type": "execute_result"
    }
   ],
   "source": [
    "re.sub(r'cc+', 'c', a)"
   ]
  },
  {
   "cell_type": "code",
   "execution_count": 46,
   "metadata": {},
   "outputs": [
    {
     "name": "stdout",
     "output_type": "stream",
     "text": [
      "#皮肤\n",
      "/post64\n",
      "#术后当自强\n",
      "/post351\n",
      "#重庆同城\n",
      "/post448\n",
      "#宣城同城\n",
      "/post559\n",
      "#皮秒激光\n",
      "/post1129\n"
     ]
    }
   ],
   "source": [
    "for k in response.css('div.beauty_tool span a'): \n",
    "    \n",
    "    print k.css('::text').extract()[0]+'\\n'+k.css('::attr(href)').extract()[0]\n",
    "    "
   ]
  },
  {
   "cell_type": "code",
   "execution_count": null,
   "metadata": {
    "collapsed": true
   },
   "outputs": [],
   "source": []
  }
 ],
 "metadata": {
  "kernelspec": {
   "display_name": "Python 2",
   "language": "python",
   "name": "python2"
  },
  "language_info": {
   "codemirror_mode": {
    "name": "ipython",
    "version": 2
   },
   "file_extension": ".py",
   "mimetype": "text/x-python",
   "name": "python",
   "nbconvert_exporter": "python",
   "pygments_lexer": "ipython2",
   "version": "2.7.13"
  }
 },
 "nbformat": 4,
 "nbformat_minor": 2
}
