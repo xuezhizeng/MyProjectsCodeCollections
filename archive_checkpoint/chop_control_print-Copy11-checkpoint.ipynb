{
 "cells": [
  {
   "cell_type": "code",
   "execution_count": 1,
   "metadata": {
    "collapsed": true
   },
   "outputs": [],
   "source": [
    "# !ls"
   ]
  },
  {
   "cell_type": "code",
   "execution_count": 1,
   "metadata": {
    "scrolled": true
   },
   "outputs": [
    {
     "name": "stdout",
     "output_type": "stream",
     "text": [
      "1 used 0.00 s | 100 used 61.82 s | 200 used 138.79 s | 300 used 219.35 s | 400 used 301.53 s | 500 used 377.03 s | 600 used 466.65 s | 700 used 543.33 s | 800 used 623.99 s | 900 used 703.19 s | 1000 used 781.93 s | 1100 used 859.09 s | 1200 used 935.04 s | 1300 used 1012.09 s | 1400 used 1089.78 s | 1500 used 1168.47 s | 1600 used 1246.21 s | 1700 used 1325.54 s | 1800 used 1405.45 s | 1900 used 1482.78 s | 2000 used 1560.11 s | 2100 used 1634.84 s | 2200 used 1712.90 s | 2300 used 1791.74 s | 2400 used 1869.42 s | 2500 used 1947.87 s | 2600 used 2024.53 s | 2700 used 2104.57 s | 2800 used 2184.78 s | 2900 used 2263.31 s | 3000 used 2343.04 s | 3100 used 2421.33 s | 3200 used 2500.04 s | 3300 used 2584.02 s | 3400 used 2665.13 s | 3500 used 2744.56 s | 3600 used 2823.52 s | 3700 used 2905.91 s | 3800 used 2984.73 s | 3900 used 3063.48 s | 4000 used 3137.32 s | 4100 used 3217.14 s | 4200 used 3293.20 s | 4300 used 3372.34 s | 4400 used 3450.98 s | 4500 used 3528.67 s | 4600 used 3606.49 s | 4700 used 3684.56 s | 4800 used 3761.46 s | 4900 used 3839.99 s | 5000 used 3921.36 s | 5100 used 4001.24 s | 5200 used 4078.72 s | 5300 used 4158.71 s | 5400 used 4236.49 s | 5500 used 4311.47 s | 5600 used 4392.90 s | 5700 used 4474.58 s | 5800 used 4553.11 s | 5900 used 4629.43 s | 6000 used 4706.29 s | 6100 used 4786.00 s | 6200 used 4863.36 s | 6300 used 4939.38 s | 6400 used 5017.14 s | 6500 used 5098.67 s | 6600 used 5177.66 s | 6700 used 5256.32 s | 6800 used 5333.61 s | 6900 used 5414.25 s | 7000 used 5492.35 s | 7100 used 5574.06 s | 7200 used 5653.17 s | 7300 used 5732.76 s | 7400 used 5810.18 s | 7500 used 5889.71 s | 7600 used 5968.58 s | 7700 used 6047.67 s | 7800 used 6128.54 s | 7900 used 6206.65 s | 8000 used 6285.13 s | 8100 used 6361.67 s | 8200 used 6442.69 s | 8300 used 6518.66 s | 8400 used 6598.98 s | 8500 used 6680.97 s | 8600 used 6762.00 s | 8700 used 6835.64 s | 8800 used 6911.74 s | 8900 used 6992.58 s | 9000 used 7067.18 s | 9100 used 7127.13 s | 9200 used 7184.80 s | 9300 used 7227.73 s | 9400 used 7261.93 s | 9500 used 7295.39 s | 9600 used 7328.94 s | 9700 used 7363.09 s | 9800 used 7396.83 s | 9900 used 7431.32 s |\n"
     ]
    },
    {
     "data": {
      "text/plain": [
       "7466.918219089508"
      ]
     },
     "execution_count": 1,
     "metadata": {},
     "output_type": "execute_result"
    }
   ],
   "source": [
    "from time import time\n",
    "start=time()\n",
    "start\n",
    "\n",
    "\n",
    "!python -u /root/openface/util/align-dlib_mod.py \\\n",
    "../real_soyoung_pics/img_12 align \\\n",
    "outerEyesAndNose \\\n",
    "../chopHead256_real_soyoung_pics \\\n",
    "--size 256\n",
    "\n",
    "end=time()-start\n",
    "end"
   ]
  },
  {
   "cell_type": "code",
   "execution_count": 2,
   "metadata": {},
   "outputs": [
    {
     "data": {
      "text/plain": [
       "2.0741666666666667"
      ]
     },
     "execution_count": 2,
     "metadata": {},
     "output_type": "execute_result"
    }
   ],
   "source": [
    "7467.0/60/60"
   ]
  },
  {
   "cell_type": "code",
   "execution_count": null,
   "metadata": {
    "collapsed": true
   },
   "outputs": [],
   "source": []
  }
 ],
 "metadata": {
  "kernelspec": {
   "display_name": "Python 2",
   "language": "python",
   "name": "python2"
  },
  "language_info": {
   "codemirror_mode": {
    "name": "ipython",
    "version": 2
   },
   "file_extension": ".py",
   "mimetype": "text/x-python",
   "name": "python",
   "nbconvert_exporter": "python",
   "pygments_lexer": "ipython2",
   "version": "2.7.6"
  }
 },
 "nbformat": 4,
 "nbformat_minor": 2
}
