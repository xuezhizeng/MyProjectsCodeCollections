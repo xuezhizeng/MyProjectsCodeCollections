{
 "cells": [
  {
   "cell_type": "markdown",
   "metadata": {},
   "source": [
    "https://hub.docker.com/r/sath89/oracle-12c/"
   ]
  },
  {
   "cell_type": "markdown",
   "metadata": {
    "collapsed": true
   },
   "source": [
    "https://hub.docker.com/_/mysql/"
   ]
  },
  {
   "cell_type": "markdown",
   "metadata": {},
   "source": [
    "https://stackoverflow.com/questions/8858008/how-to-move-a-file-in-python"
   ]
  },
  {
   "cell_type": "markdown",
   "metadata": {},
   "source": [
    "https://stackoverflow.com/questions/1894269/convert-string-representation-of-list-to-list-in-python"
   ]
  },
  {
   "cell_type": "code",
   "execution_count": 1,
   "metadata": {},
   "outputs": [
    {
     "name": "stdout",
     "output_type": "stream",
     "text": [
      "add_bidder\t      old\r\n",
      "addbidder.csv\t      Parse_html_save_2.ipynb\r\n",
      "addbidderPics\t      Parse_html_save.ipynb\r\n",
      "addbidder_urls.csv    Parse_html_save_parse_NoJson.ipynb\r\n",
      "addboss.csv\t      Parse_html_Stat-add1.ipynb\r\n",
      "addbossPics\t      Parse_html_Stat-add2-Copy1.ipynb\r\n",
      "addboss_urls.csv      Parse_html_Stat-add2.ipynb\r\n",
      "add_owner\t      Parse_html_Stat-Copy1.ipynb\r\n",
      "addtional\t      Parse_html_Stat.ipynb\r\n",
      "bidder1.csv\t      Parse_html_V5.ipynb\r\n",
      "bidderPics\t      parse.ipynb\r\n",
      "bidder_urls.csv       pic_down_func-add1.ipynb\r\n",
      "bid_pages2\t      pic_down_func-add2.ipynb\r\n",
      "boss1.csv\t      pic_down_func_bidder.ipynb\r\n",
      "boss1Data.csv\t      pic_down_func.ipynb\r\n",
      "boss1Data_Nojson.csv  picDown.py\r\n",
      "bossPics\t      picDown.pyc\r\n",
      "boss_urls.csv\t      pic_down_report.ipynb\r\n",
      "data\t\t      pic_report.ipynb\r\n",
      "emp_pages4\t      PicsWithFace.zip\r\n",
      "freelancer.py\t      recIpython\r\n",
      "headPics\t      Tensorflow\r\n"
     ]
    }
   ],
   "source": [
    "!ls"
   ]
  },
  {
   "cell_type": "code",
   "execution_count": 2,
   "metadata": {},
   "outputs": [],
   "source": [
    "# encoding=utf8\n",
    "import sys\n",
    "reload(sys)\n",
    "sys.setdefaultencoding('utf8')\n",
    "\n",
    "import pandas as pd\n",
    "import os\n",
    "from time import time, ctime\n",
    "\n",
    "import concurrent.futures\n",
    "\n",
    "from lxml import etree\n",
    "import json\n",
    "import re\n",
    "\n",
    "import ast"
   ]
  },
  {
   "cell_type": "code",
   "execution_count": 4,
   "metadata": {
    "collapsed": true
   },
   "outputs": [],
   "source": [
    "print 3"
   ]
  },
  {
   "cell_type": "code",
   "execution_count": 3,
   "metadata": {},
   "outputs": [
    {
     "data": {
      "text/plain": [
       "55150"
      ]
     },
     "execution_count": 3,
     "metadata": {},
     "output_type": "execute_result"
    }
   ],
   "source": [
    "# path='technosystem.html'\n",
    "\n",
    "folder='bid_pages2/'\n",
    "cont = os.listdir(folder)\n",
    "cont = [i for i in cont if i[-4:]=='html']\n",
    "len(cont)"
   ]
  },
  {
   "cell_type": "code",
   "execution_count": 7,
   "metadata": {
    "collapsed": true
   },
   "outputs": [],
   "source": [
    "def flatten_dict(data, layers=1, drop_deeper=False):\n",
    "\n",
    "        for _ in range(layers):\n",
    "            data = [(k, v) if not isinstance(v, dict) else [(k + '.' + k2, v2) for k2, v2 in v.items()] for k, v in\n",
    "                    data.items()]\n",
    "            data = [item for sublist in data for item in sublist if isinstance(sublist, list)] + [y for y in data if\n",
    "                                                                                                  not isinstance(y,\n",
    "                                                                                                                 list)]\n",
    "            data = dict(data)\n",
    "\n",
    "        if drop_deeper:\n",
    "            data = {k: v for k, v in data.items() if not isinstance(v, dict) or isinstance(v, list)}\n",
    "\n",
    "        return data"
   ]
  },
  {
   "cell_type": "code",
   "execution_count": 8,
   "metadata": {
    "collapsed": true
   },
   "outputs": [],
   "source": [
    "df = pd.read_csv('boss1.csv').set_index('name')\n"
   ]
  },
  {
   "cell_type": "code",
   "execution_count": 9,
   "metadata": {
    "collapsed": true
   },
   "outputs": [],
   "source": [
    "from collections import defaultdict\n",
    "iniDict = defaultdict(lambda: None)"
   ]
  },
  {
   "cell_type": "code",
   "execution_count": 10,
   "metadata": {},
   "outputs": [
    {
     "data": {
      "text/plain": [
       "73"
      ]
     },
     "execution_count": 10,
     "metadata": {},
     "output_type": "execute_result"
    }
   ],
   "source": [
    "for i in list(df.index):\n",
    "    iniDict[i]\n",
    "len(iniDict)"
   ]
  },
  {
   "cell_type": "code",
   "execution_count": 11,
   "metadata": {},
   "outputs": [
    {
     "data": {
      "text/plain": [
       "(0, 73)"
      ]
     },
     "execution_count": 11,
     "metadata": {},
     "output_type": "execute_result"
    }
   ],
   "source": [
    "initial = pd.DataFrame(columns=list(df.index))\n",
    "initial.shape"
   ]
  },
  {
   "cell_type": "code",
   "execution_count": 12,
   "metadata": {
    "collapsed": true
   },
   "outputs": [],
   "source": [
    "failed_names=[]\n",
    "def get_columns(path):\n",
    "    global failed_names\n",
    "    get=[]\n",
    "    \n",
    "    with open(folder+path,'r') as fl:\n",
    "        text=fl.read()\n",
    "        tree=etree.HTML(text)\n",
    "    try:\n",
    "        script = tree.xpath('//script')[-1]\n",
    "        data = re.search(r\"__export\\('profileServerData',(.*?)\\n\", script.text)        \n",
    "        jsondata=data.group(1)[:-2]\n",
    "        \n",
    "        json_dict = json.loads(jsondata)\n",
    "        flat = flatten_dict(json_dict, layers=1)\n",
    "        for i in flat:\n",
    "            iniDict[i]=str(flat[i])\n",
    "        return pd.DataFrame(iniDict, index=[0])\n",
    "            \n",
    "#         return pd.DataFrame(iniDict, index=[0])\n",
    "#         names = flat.keys()\n",
    "        return flat\n",
    "    except Exception as e:\n",
    "        print e\n",
    "        failed_names.append(path)\n",
    "        return initial\n",
    "        \n",
    "\n",
    "    "
   ]
  },
  {
   "cell_type": "code",
   "execution_count": 13,
   "metadata": {},
   "outputs": [
    {
     "data": {
      "text/plain": [
       "<function ast.literal_eval>"
      ]
     },
     "execution_count": 13,
     "metadata": {},
     "output_type": "execute_result"
    }
   ],
   "source": [
    "ast.literal_eval"
   ]
  },
  {
   "cell_type": "code",
   "execution_count": 14,
   "metadata": {},
   "outputs": [
    {
     "data": {
      "text/html": [
       "<div>\n",
       "<style>\n",
       "    .dataframe thead tr:only-child th {\n",
       "        text-align: right;\n",
       "    }\n",
       "\n",
       "    .dataframe thead th {\n",
       "        text-align: left;\n",
       "    }\n",
       "\n",
       "    .dataframe tbody tr th {\n",
       "        vertical-align: top;\n",
       "    }\n",
       "</style>\n",
       "<table border=\"1\" class=\"dataframe\">\n",
       "  <thead>\n",
       "    <tr style=\"text-align: right;\">\n",
       "      <th></th>\n",
       "      <th>abTests</th>\n",
       "      <th>about.account_balances</th>\n",
       "      <th>about.address</th>\n",
       "      <th>about.avatar</th>\n",
       "      <th>about.avatar_cdn</th>\n",
       "      <th>about.avatar_large</th>\n",
       "      <th>about.avatar_large_cdn</th>\n",
       "      <th>about.badges</th>\n",
       "      <th>about.chosen_role</th>\n",
       "      <th>about.closed</th>\n",
       "      <th>...</th>\n",
       "      <th>resume.education</th>\n",
       "      <th>resume.exams</th>\n",
       "      <th>resume.experience</th>\n",
       "      <th>resume.publications</th>\n",
       "      <th>resume.show</th>\n",
       "      <th>skills</th>\n",
       "      <th>timeOffset</th>\n",
       "      <th>userId</th>\n",
       "      <th>username</th>\n",
       "      <th>viewer</th>\n",
       "    </tr>\n",
       "  </thead>\n",
       "  <tbody>\n",
       "    <tr>\n",
       "      <th>0</th>\n",
       "      <td>[]</td>\n",
       "      <td>None</td>\n",
       "      <td>None</td>\n",
       "      <td>/img/unknown.png</td>\n",
       "      <td>//cdn6.f-cdn.com/img/unknown.png</td>\n",
       "      <td>/img/unknown.png</td>\n",
       "      <td>//cdn6.f-cdn.com/img/unknown.png</td>\n",
       "      <td>None</td>\n",
       "      <td>3</td>\n",
       "      <td>False</td>\n",
       "      <td>...</td>\n",
       "      <td>[]</td>\n",
       "      <td>[]</td>\n",
       "      <td>[]</td>\n",
       "      <td>[]</td>\n",
       "      <td>False</td>\n",
       "      <td>[{u'usages': 0, u'seo_url': u'php', u'islocal'...</td>\n",
       "      <td>-420</td>\n",
       "      <td>955594</td>\n",
       "      <td>timpears</td>\n",
       "      <td>0</td>\n",
       "    </tr>\n",
       "    <tr>\n",
       "      <th>1</th>\n",
       "      <td>[]</td>\n",
       "      <td>None</td>\n",
       "      <td>None</td>\n",
       "      <td>/img/unknown.png</td>\n",
       "      <td>//cdn6.f-cdn.com/img/unknown.png</td>\n",
       "      <td>/img/unknown.png</td>\n",
       "      <td>//cdn6.f-cdn.com/img/unknown.png</td>\n",
       "      <td>None</td>\n",
       "      <td>3</td>\n",
       "      <td>False</td>\n",
       "      <td>...</td>\n",
       "      <td>[]</td>\n",
       "      <td>[]</td>\n",
       "      <td>[]</td>\n",
       "      <td>[]</td>\n",
       "      <td>False</td>\n",
       "      <td>[]</td>\n",
       "      <td>60</td>\n",
       "      <td>1363275</td>\n",
       "      <td>emmat1707</td>\n",
       "      <td>0</td>\n",
       "    </tr>\n",
       "  </tbody>\n",
       "</table>\n",
       "<p>2 rows × 73 columns</p>\n",
       "</div>"
      ],
      "text/plain": [
       "  abTests about.account_balances about.address      about.avatar  \\\n",
       "0      []                   None          None  /img/unknown.png   \n",
       "1      []                   None          None  /img/unknown.png   \n",
       "\n",
       "                   about.avatar_cdn about.avatar_large  \\\n",
       "0  //cdn6.f-cdn.com/img/unknown.png   /img/unknown.png   \n",
       "1  //cdn6.f-cdn.com/img/unknown.png   /img/unknown.png   \n",
       "\n",
       "             about.avatar_large_cdn about.badges about.chosen_role  \\\n",
       "0  //cdn6.f-cdn.com/img/unknown.png         None                 3   \n",
       "1  //cdn6.f-cdn.com/img/unknown.png         None                 3   \n",
       "\n",
       "  about.closed  ...   resume.education resume.exams resume.experience  \\\n",
       "0        False  ...                 []           []                []   \n",
       "1        False  ...                 []           []                []   \n",
       "\n",
       "  resume.publications resume.show  \\\n",
       "0                  []       False   \n",
       "1                  []       False   \n",
       "\n",
       "                                              skills timeOffset   userId  \\\n",
       "0  [{u'usages': 0, u'seo_url': u'php', u'islocal'...       -420   955594   \n",
       "1                                                 []         60  1363275   \n",
       "\n",
       "    username viewer  \n",
       "0   timpears      0  \n",
       "1  emmat1707      0  \n",
       "\n",
       "[2 rows x 73 columns]"
      ]
     },
     "execution_count": 14,
     "metadata": {},
     "output_type": "execute_result"
    }
   ],
   "source": [
    "get_columns(cont[0]).append(get_columns(cont[1])).reset_index().drop('index',1)"
   ]
  },
  {
   "cell_type": "code",
   "execution_count": null,
   "metadata": {
    "collapsed": true
   },
   "outputs": [],
   "source": []
  },
  {
   "cell_type": "code",
   "execution_count": 21,
   "metadata": {},
   "outputs": [],
   "source": [
    "%%time\n",
    "start = initial.copy()\n",
    "for i in cont:\n",
    "    tmp = get_columns(i)\n",
    "    start = start.append(tmp)\n",
    "start = start.reset_index().drop('index',1)\n",
    "    \n"
   ]
  },
  {
   "cell_type": "code",
   "execution_count": 23,
   "metadata": {},
   "outputs": [
    {
     "data": {
      "text/plain": [
       "[]"
      ]
     },
     "execution_count": 23,
     "metadata": {},
     "output_type": "execute_result"
    }
   ],
   "source": [
    "failed_names"
   ]
  },
  {
   "cell_type": "code",
   "execution_count": 27,
   "metadata": {},
   "outputs": [],
   "source": [
    "start = start.reset_index().drop('index',1)"
   ]
  },
  {
   "cell_type": "code",
   "execution_count": 32,
   "metadata": {},
   "outputs": [],
   "source": [
    "start.to_csv('boss1Data.csv',index=False)"
   ]
  },
  {
   "cell_type": "code",
   "execution_count": 33,
   "metadata": {},
   "outputs": [
    {
     "data": {
      "text/plain": [
       "(11380, 73)"
      ]
     },
     "execution_count": 33,
     "metadata": {},
     "output_type": "execute_result"
    }
   ],
   "source": [
    "df = pd.read_csv('boss1Data.csv')\n",
    "df.shape"
   ]
  },
  {
   "cell_type": "code",
   "execution_count": 34,
   "metadata": {
    "collapsed": true
   },
   "outputs": [],
   "source": [
    "!ll -h"
   ]
  },
  {
   "cell_type": "code",
   "execution_count": null,
   "metadata": {
    "collapsed": true
   },
   "outputs": [],
   "source": []
  },
  {
   "cell_type": "code",
   "execution_count": null,
   "metadata": {
    "collapsed": true
   },
   "outputs": [],
   "source": []
  },
  {
   "cell_type": "code",
   "execution_count": null,
   "metadata": {
    "collapsed": true
   },
   "outputs": [],
   "source": []
  },
  {
   "cell_type": "code",
   "execution_count": null,
   "metadata": {
    "collapsed": true
   },
   "outputs": [],
   "source": []
  }
 ],
 "metadata": {
  "kernelspec": {
   "display_name": "Python 2",
   "language": "python",
   "name": "python2"
  },
  "language_info": {
   "codemirror_mode": {
    "name": "ipython",
    "version": 2
   },
   "file_extension": ".py",
   "mimetype": "text/x-python",
   "name": "python",
   "nbconvert_exporter": "python",
   "pygments_lexer": "ipython2",
   "version": "2.7.13"
  }
 },
 "nbformat": 4,
 "nbformat_minor": 2
}
