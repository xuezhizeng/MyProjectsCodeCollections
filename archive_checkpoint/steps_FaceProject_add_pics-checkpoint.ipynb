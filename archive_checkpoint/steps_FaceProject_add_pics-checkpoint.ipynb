{
 "cells": [
  {
   "cell_type": "markdown",
   "metadata": {},
   "source": [
    "## preprocessing\n",
    "1. download pics by theme into one folder\n",
    "2. run shrink_sinlge_argv_multi.py convert all pics into jpg and convert all pics to around 100KB\n",
    "3. open folder and sort by Type, remove all files that are not jpg\n",
    "4. run mv_file_5K.py and then mv_file_5K.py to move images to sub directories\n",
    "5. zip prepared folder\n",
    "5. prepared to scp/copy zip files to servers/laptops "
   ]
  },
  {
   "cell_type": "markdown",
   "metadata": {},
   "source": [
    "## Server side\n",
    "* unzip zip file\n",
    "* ###  in docker openface environment \n",
    "    1. docker exec -it openface bash\n",
    "    1. in the unzipped folder \n",
    "    2. open tmux, open 4-8 windows\n",
    "    ###  run process_96.sh parallelly in diff windows on diff subfolders ! not slash \"/\" in the end\n",
    "    4. if too many subfolders, use &&, e.g. ./process_96.sh sub1 && ./process_96 sub2\n",
    "    5. detach tmux, then wait hrs for processes done\n",
    "    6. create folder e.g. time, mv *.txt to time\n",
    "    7. create folder e.g. chopped, mv *._V96 to chopped\n",
    "    8. create folder e.g. ori_pics mv *(ori pics) to ori_pics\n",
    "    ###  run to_128_parameters_V2.sh,  e.g. to_128_parameters_V2.sh chopped, without \"/\",\n",
    "    9. detach tmux, wait hrs, when done, run para_combine_new2.py in the result folder\n",
    "    1. (optional) exit docker environment\n",
    "    10. in result folder, mv combine_para.csv to ori_pics folder\n",
    "    11. in ori_pics folder  run mv_out.py get pics to new_folder, e.g. all_pics\n",
    "    12. delete empty folders\n",
    "    13. in ori_pics folder run mv_keep.py on all_pics\n",
    "    13. (double check) in ori_pics folder run mv_keep.py on keep \n",
    "    14. if failed.csv is not empty, run rm_failed.py in ori_pics\n",
    "    15. if all set mv keep to Flask targeted folder /static/phos/\n",
    "    16. in flask target folder, move out * from keep, then delete empty folder keep\n",
    "    17. combine parameters, add multiple CSVs into flask/parameter, ipython notebook\n",
    "    1. exit docker environment\n",
    "    18. restart face\n",
    "    ### run ipython notebook mv_files_duplicate.ipynb \n",
    "    * remove duplicate photos\n",
    "    "
   ]
  },
  {
   "cell_type": "code",
   "execution_count": null,
   "metadata": {
    "collapsed": true
   },
   "outputs": [],
   "source": []
  }
 ],
 "metadata": {
  "kernelspec": {
   "display_name": "Python 2",
   "language": "python",
   "name": "python2"
  },
  "language_info": {
   "codemirror_mode": {
    "name": "ipython",
    "version": 2
   },
   "file_extension": ".py",
   "mimetype": "text/x-python",
   "name": "python",
   "nbconvert_exporter": "python",
   "pygments_lexer": "ipython2",
   "version": "2.7.13"
  }
 },
 "nbformat": 4,
 "nbformat_minor": 2
}
