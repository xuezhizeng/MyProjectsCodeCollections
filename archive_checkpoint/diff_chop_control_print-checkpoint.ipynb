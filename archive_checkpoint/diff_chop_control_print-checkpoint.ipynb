{
 "cells": [
  {
   "cell_type": "code",
   "execution_count": 1,
   "metadata": {
    "collapsed": true
   },
   "outputs": [],
   "source": [
    "# !ls"
   ]
  },
  {
   "cell_type": "code",
   "execution_count": 1,
   "metadata": {},
   "outputs": [
    {
     "name": "stdout",
     "output_type": "stream",
     "text": [
      "1 used 0.00 s | 100 used 13.81 s | 200 used 33.51 s |^C\n",
      "\n",
      "Traceback (most recent call last):\n",
      "  File \"/root/openface/util/align-dlib_mod.py\", line 180, in <module>\n",
      "    alignMain(args)\n",
      "  File \"/root/openface/util/align-dlib_mod.py\", line 124, in alignMain\n",
      "    skipMulti=args.skipMulti)\n",
      "  File \"/usr/local/lib/python2.7/dist-packages/openface/align_dlib.py\", line 175, in align\n",
      "    bb = self.getLargestFaceBoundingBox(rgbImg, skipMulti)\n",
      "  File \"/usr/local/lib/python2.7/dist-packages/openface/align_dlib.py\", line 123, in getLargestFaceBoundingBox\n",
      "    faces = self.getAllFaceBoundingBoxes(rgbImg)\n",
      "  File \"/usr/local/lib/python2.7/dist-packages/openface/align_dlib.py\", line 104, in getAllFaceBoundingBoxes\n",
      "    return self.detector(rgbImg, 1)\n",
      "KeyboardInterrupt\n"
     ]
    },
    {
     "data": {
      "text/plain": [
       "48.57288908958435"
      ]
     },
     "execution_count": 1,
     "metadata": {},
     "output_type": "execute_result"
    }
   ],
   "source": [
    "from time import time\n",
    "start=time()\n",
    "start\n",
    "\n",
    "\n",
    "!python -u /root/openface/util/align-dlib_mod.py \\\n",
    "real_soyoung_pics/img_10 align \\\n",
    "outerEyesAndNose \\\n",
    "chopHead256_real_soyoung_pics \\\n",
    "--size 256\n",
    "\n",
    "end=time()-start\n",
    "end"
   ]
  },
  {
   "cell_type": "code",
   "execution_count": null,
   "metadata": {
    "collapsed": true
   },
   "outputs": [],
   "source": []
  }
 ],
 "metadata": {
  "kernelspec": {
   "display_name": "Python 2",
   "language": "python",
   "name": "python2"
  },
  "language_info": {
   "codemirror_mode": {
    "name": "ipython",
    "version": 2
   },
   "file_extension": ".py",
   "mimetype": "text/x-python",
   "name": "python",
   "nbconvert_exporter": "python",
   "pygments_lexer": "ipython2",
   "version": "2.7.6"
  }
 },
 "nbformat": 4,
 "nbformat_minor": 2
}
