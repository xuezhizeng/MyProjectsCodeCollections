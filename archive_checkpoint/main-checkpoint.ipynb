{
 "cells": [
  {
   "cell_type": "code",
   "execution_count": 1,
   "metadata": {},
   "outputs": [
    {
     "name": "stdout",
     "output_type": "stream",
     "text": [
      "all_img_urls.csv  img_10  img_15  img_2   img_24  img_5  img_ready.py\r\n",
      "arch\t\t  img_11  img_16  img_20  img_25  img_6  img_ready_all.ipynb\r\n",
      "csv\t\t  img_12  img_17  img_21  img_26  img_7  main.ipynb\r\n",
      "diff_img_mod.py   img_13  img_18  img_22  img_3   img_8  split_csv.ipynb\r\n",
      "img_1\t\t  img_14  img_19  img_23  img_4   img_9\r\n"
     ]
    }
   ],
   "source": [
    "!ls"
   ]
  },
  {
   "cell_type": "code",
   "execution_count": null,
   "metadata": {},
   "outputs": [
    {
     "name": "stdout",
     "output_type": "stream",
     "text": [
      "[Errno 17] File exists: 'img_25'\n",
      "dir img_25 exists\n",
      "10000  pics\n",
      "(1043, 1)\n",
      "getiing  8956 diff new pics!\n",
      "used 30.31s| 1.12% 100/8956 used 26.70s| 2.23% 200/8956 X2 used 66.25s| 3.35% 300/8956 used 40.87s| 4.47% 400/8956 used 24.25s| 5.58% 500/8956 X2 used 40.49s| 6.70% 600/8956 used 29.58s| 7.82% 700/8956 used 30.36s| 8.93% 800/8956 used 43.27s| 10.05% 900/8956 X2 used 30.27s| 11.17% 1000/8956 used 59.76s| 12.28% 1100/8956 used 28.14s| 13.40% 1200/8956 used 30.78s| 14.52% 1300/8956 used 33.06s| 15.63% 1400/8956 used 30.46s| 16.75% 1500/8956 used 24.64s| 17.87% 1600/8956 used 33.50s| 18.98% 1700/8956 used 25.21s| 20.10% 1800/8956 used 28.31s| 21.21% 1900/8956 used 33.68s| 22.33% 2000/8956 used 33.47s| 23.45% 2100/8956 used 36.12s| 24.56% 2200/8956 X2 used 51.40s| 25.68% 2300/8956 used 31.16s| 26.80% 2400/8956 used 37.68s| 27.91% 2500/8956 used 32.64s| 29.03% 2600/8956 used 25.31s| 30.15% 2700/8956 used 48.71s| 31.26% 2800/8956 used 29.49s| 32.38% 2900/8956 used 35.95s| 33.50% 3000/8956 used 28.63s| 34.61% 3100/8956 used 33.31s| 35.73% 3200/8956 used 35.66s| 36.85% 3300/8956 used 45.66s| 37.96% 3400/8956 used 30.46s| 39.08% 3500/8956 used 29.54s| 40.20% 3600/8956 used 23.79s| 41.31% 3700/8956 used 22.82s| 42.43% 3800/8956 used 47.25s| 43.55% 3900/8956 used 27.69s| 44.66% 4000/8956 used 30.05s| 45.78% 4100/8956 used 44.96s| 46.90% 4200/8956 used 33.98s| 48.01% 4300/8956 used 26.99s| 49.13% 4400/8956 used 29.26s| 50.25% 4500/8956 used 27.70s| 51.36% 4600/8956 used 27.08s| 52.48% 4700/8956 used 27.55s| 53.60% 4800/8956 used 26.24s| 54.71% 4900/8956 used 33.36s| 55.83% 5000/8956 used 40.62s| 56.95% 5100/8956 used 31.76s| 58.06% 5200/8956 used 30.96s| 59.18% 5300/8956 used 27.77s| 60.29% 5400/8956 used 45.34s| 61.41% 5500/8956 used 32.36s| 62.53% 5600/8956 used 29.98s| 63.64% 5700/8956 used 38.68s| 64.76% 5800/8956 X2 used 72.89s| 65.88% 5900/8956 used 36.78s| 66.99% 6000/8956 used 30.61s| 68.11% 6100/8956 used 51.13s| 69.23% 6200/8956 used 38.14s| 70.34% 6300/8956 used 34.37s| 71.46% 6400/8956 used 32.14s| 72.58% 6500/8956 used 38.18s| 73.69% 6600/8956 used 37.13s| 74.81% 6700/8956 used 32.79s| 75.93% 6800/8956 used 32.16s| 77.04% 6900/8956 used 42.51s| 78.16% 7000/8956 used 37.38s| 79.28% 7100/8956 used 36.40s| 80.39% 7200/8956 used 37.68s| 81.51% 7300/8956 X2 X2 X2 X2 X2 used 29.74s| 82.63% 7400/8956 used 32.40s| 83.74% 7500/8956 used 39.02s| 84.86% 7600/8956 used 45.76s| 85.98% 7700/8956 used 35.61s| 87.09% 7800/8956 X2 used 84.75s| 88.21% 7900/8956 used 43.58s| 89.33% 8000/8956 used 27.99s| 90.44% 8100/8956 used 30.67s| 91.56% 8200/8956 used 44.25s| 92.68% 8300/8956 X2 used 48.71s| 93.79% 8400/8956 used 34.95s| 94.91% 8500/8956 used 32.39s| 96.03% 8600/8956 used 40.82s| 97.14% 8700/8956 used 23.06s| 98.26% 8800/8956 used 28.71s| 99.37% 8900/8956 used 19.18s| 100.49% 9000/8956\n",
      "\n",
      "Mon Sep  4 00:36:36 2017\n",
      "\n",
      "25 batch 10000 images used 3193.92 s \n",
      "\n",
      "\n",
      "!!!\n",
      "[Errno 17] File exists: 'img_26'\n",
      "dir img_26 exists\n",
      "10000  pics\n",
      "(407, 1)\n",
      "getiing  9593 diff new pics!\n",
      "used 27.21s| 1.04% 100/9593 used 26.16s| 2.08% 200/9593 used 27.61s| 3.13% 300/9593 used 48.84s| 4.17% 400/9593 used 34.37s| 5.21% 500/9593 used 31.31s| 6.25% 600/9593 used 25.13s| 7.30% 700/9593 used 27.67s| 8.34% 800/9593 used 32.16s| 9.38% 900/9593 used 29.90s| 10.42% 1000/9593 used 28.91s| 11.47% 1100/9593 used 29.60s| 12.51% 1200/9593 used 29.02s| 13.55% 1300/9593 used 24.10s| 14.59% 1400/9593 used 32.17s| 15.64% 1500/9593 used 24.70s| 16.68% 1600/9593 used 23.95s| 17.72% 1700/9593 X2 used 21.47s| 18.76% 1800/9593 used 23.49s| 19.81% 1900/9593 used 29.41s| 20.85% 2000/9593 used 24.19s| 21.89% 2100/9593 used 26.85s| 22.93% 2200/9593 used 25.75s| 23.98% 2300/9593 used 24.60s| 25.02% 2400/9593 X2 used 32.62s| 26.06% 2500/9593 used 26.34s| 27.10% 2600/9593 used 42.59s| 28.15% 2700/9593 used 32.11s| 29.19% 2800/9593 used 26.92s| 30.23% 2900/9593 used 41.29s| 31.27% 3000/9593 X2 used 44.03s| 32.32% 3100/9593 used 31.92s| 33.36% 3200/9593 X2 used 34.58s| 34.40% 3300/9593 X2 used 31.06s| 35.44% 3400/9593 used 29.31s| 36.48% 3500/9593 used 29.17s| 37.53% 3600/9593 used 30.38s| 38.57% 3700/9593 used 29.89s| 39.61% 3800/9593 used 27.11s| 40.65% 3900/9593 used 24.71s| 41.70% 4000/9593 used 26.17s| 42.74% 4100/9593 used 25.79s| 43.78% 4200/9593 used 29.83s| 44.82% 4300/9593 used 27.52s| 45.87% 4400/9593 used 29.42s| 46.91% 4500/9593 used 31.21s| 47.95% 4600/9593 used 30.06s| 48.99% 4700/9593 used 22.15s| 50.04% 4800/9593 used 29.91s| 51.08% 4900/9593 used 32.27s| 52.12% 5000/9593 used 29.36s| 53.16% 5100/9593 used 45.92s| 54.21% 5200/9593 used 36.94s| 55.25% 5300/9593 used 33.71s| 56.29% 5400/9593 used 29.33s| 57.33% 5500/9593 used 27.37s| 58.38% 5600/9593 used 39.98s| 59.42% 5700/9593 used 29.20s| 60.46% 5800/9593 used 30.62s| 61.50% 5900/9593 used 39.28s| 62.55% 6000/9593 used 35.41s| 63.59% 6100/9593 used 43.28s| 64.63% 6200/9593"
     ]
    }
   ],
   "source": [
    "from time import time,ctime\n",
    "for i in range(53,81):\n",
    "    start=time()\n",
    "    !python -u diff_img_mod.py {i}\n",
    "    print\n",
    "    print ctime()\n",
    "    print '\\n',i,'batch 10000 images used {:.2f} s'.format(time()-start),'\\n\\n\\n!!!'"
   ]
  },
  {
   "cell_type": "code",
   "execution_count": null,
   "metadata": {
    "collapsed": true
   },
   "outputs": [],
   "source": []
  }
 ],
 "metadata": {
  "kernelspec": {
   "display_name": "Python 2",
   "language": "python",
   "name": "python2"
  },
  "language_info": {
   "codemirror_mode": {
    "name": "ipython",
    "version": 2
   },
   "file_extension": ".py",
   "mimetype": "text/x-python",
   "name": "python",
   "nbconvert_exporter": "python",
   "pygments_lexer": "ipython2",
   "version": "2.7.13"
  }
 },
 "nbformat": 4,
 "nbformat_minor": 2
}
