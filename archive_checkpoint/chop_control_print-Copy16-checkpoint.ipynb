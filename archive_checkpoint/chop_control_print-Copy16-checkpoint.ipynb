{
 "cells": [
  {
   "cell_type": "code",
   "execution_count": 1,
   "metadata": {
    "collapsed": true
   },
   "outputs": [],
   "source": [
    "# !ls"
   ]
  },
  {
   "cell_type": "code",
   "execution_count": 1,
   "metadata": {
    "scrolled": true
   },
   "outputs": [
    {
     "name": "stdout",
     "output_type": "stream",
     "text": [
      "1 used 0.00 s | 100 used 36.53 s | 200 used 78.13 s | 300 used 119.42 s | 400 used 162.48 s | 500 used 204.10 s | 600 used 247.44 s | 700 used 286.82 s | 800 used 328.75 s | 900 used 370.20 s | 1000 used 410.64 s | 1100 used 451.33 s | 1200 used 494.02 s | 1300 used 533.82 s | 1400 used 576.57 s | 1500 used 617.48 s | 1600 used 658.35 s | 1700 used 700.70 s | 1800 used 742.43 s | 1900 used 784.36 s | 2000 used 824.34 s | 2100 used 865.15 s | 2200 used 907.96 s | 2300 used 950.19 s | 2400 used 991.48 s | 2500 used 1033.32 s | 2600 used 1076.07 s | 2700 used 1115.95 s | 2800 used 1156.60 s | 2900 used 1199.32 s | 3000 used 1240.60 s | 3100 used 1281.05 s | 3200 used 1323.51 s | 3300 used 1364.90 s | 3400 used 1405.73 s | 3500 used 1445.34 s | 3600 used 1487.77 s | 3700 used 1530.11 s | 3800 used 1571.26 s | 3900 used 1611.07 s | 4000 used 1654.46 s | 4100 used 1695.47 s | 4200 used 1738.30 s | 4300 used 1779.19 s | 4400 used 1819.80 s | 4500 used 1862.24 s | 4600 used 1903.92 s | 4700 used 1945.44 s | 4800 used 1987.20 s | 4900 used 2029.70 s | 5000 used 2071.24 s | 5100 used 2112.03 s | 5200 used 2153.10 s | 5300 used 2194.21 s | 5400 used 2238.33 s | 5500 used 2278.60 s | 5600 used 2321.26 s | 5700 used 2363.42 s | 5800 used 2405.62 s | 5900 used 2446.21 s | 6000 used 2488.53 s | 6100 used 2529.33 s | 6200 used 2571.36 s | 6300 used 2612.44 s | 6400 used 2653.93 s | 6500 used 2694.89 s | 6600 used 2737.25 s | 6700 used 2777.89 s | 6800 used 2819.74 s | 6900 used 2859.82 s | 7000 used 2900.51 s | 7100 used 2944.09 s | 7200 used 2984.15 s | 7300 used 3024.75 s | 7400 used 3066.60 s | 7500 used 3109.82 s | 7600 used 3151.13 s | 7700 used 3193.49 s | 7800 used 3237.06 s | 7900 used 3278.66 s | 8000 used 3318.50 s | 8100 used 3359.60 s | 8200 used 3400.66 s | 8300 used 3438.96 s | 8400 used 3481.73 s | 8500 used 3521.51 s | 8600 used 3563.49 s | 8700 used 3605.25 s | 8800 used 3647.25 s | 8900 used 3686.07 s | 9000 used 3727.56 s | 9100 used 3768.22 s | 9200 used 3809.59 s | 9300 used 3852.04 s | 9400 used 3894.90 s | 9500 used 3934.58 s | 9600 used 3976.61 s | 9700 used 4017.80 s | 9800 used 4053.02 s | 9900 used 4086.64 s |\n"
     ]
    },
    {
     "data": {
      "text/plain": [
       "4118.907392024994"
      ]
     },
     "execution_count": 1,
     "metadata": {},
     "output_type": "execute_result"
    }
   ],
   "source": [
    "from time import time\n",
    "start=time()\n",
    "start\n",
    "\n",
    "\n",
    "!python -u /root/openface/util/align-dlib_mod.py \\\n",
    "../real_soyoung_pics/img_18 align \\\n",
    "outerEyesAndNose \\\n",
    "../chopHead256_real_soyoung_pics \\\n",
    "--size 256\n",
    "\n",
    "end=time()-start\n",
    "end"
   ]
  },
  {
   "cell_type": "code",
   "execution_count": null,
   "metadata": {
    "collapsed": true
   },
   "outputs": [],
   "source": []
  }
 ],
 "metadata": {
  "kernelspec": {
   "display_name": "Python 2",
   "language": "python",
   "name": "python2"
  },
  "language_info": {
   "codemirror_mode": {
    "name": "ipython",
    "version": 2
   },
   "file_extension": ".py",
   "mimetype": "text/x-python",
   "name": "python",
   "nbconvert_exporter": "python",
   "pygments_lexer": "ipython2",
   "version": "2.7.6"
  }
 },
 "nbformat": 4,
 "nbformat_minor": 2
}
