{
 "cells": [
  {
   "cell_type": "code",
   "execution_count": 17,
   "metadata": {
    "collapsed": true
   },
   "outputs": [],
   "source": [
    "import pandas as pd\n",
    "import os\n",
    "from time import time, ctime"
   ]
  },
  {
   "cell_type": "code",
   "execution_count": 16,
   "metadata": {},
   "outputs": [
    {
     "name": "stdout",
     "output_type": "stream",
     "text": [
      "/home/soyoung/face/Freelancer/Tensorflow\r\n"
     ]
    }
   ],
   "source": [
    "!pwd"
   ]
  },
  {
   "cell_type": "code",
   "execution_count": 4,
   "metadata": {},
   "outputs": [
    {
     "name": "stdout",
     "output_type": "stream",
     "text": [
      "bidder1_gender_diff_predict_1.csv  bidder1_gender_predict.csv\r\n"
     ]
    }
   ],
   "source": [
    "!ls predict/bidder1/"
   ]
  },
  {
   "cell_type": "code",
   "execution_count": 5,
   "metadata": {},
   "outputs": [
    {
     "name": "stdout",
     "output_type": "stream",
     "text": [
      "bidder1_diff_10.txt  bidder1_diff_16.txt  bidder1_diff_4.txt\r\n",
      "bidder1_diff_11.txt  bidder1_diff_17.txt  bidder1_diff_5.txt\r\n",
      "bidder1_diff_12.txt  bidder1_diff_18.txt  bidder1_diff_6.txt\r\n",
      "bidder1_diff_13.txt  bidder1_diff_19.txt  bidder1_diff_7.txt\r\n",
      "bidder1_diff_14.txt  bidder1_diff_2.txt   bidder1_diff_8.txt\r\n",
      "bidder1_diff_15.txt  bidder1_diff_3.txt   bidder1_diff_9.txt\r\n"
     ]
    }
   ],
   "source": [
    "!ls bidder1_list/"
   ]
  },
  {
   "cell_type": "code",
   "execution_count": 13,
   "metadata": {
    "collapsed": true
   },
   "outputs": [],
   "source": [
    "path = 'bidder1_list/'"
   ]
  },
  {
   "cell_type": "code",
   "execution_count": 14,
   "metadata": {},
   "outputs": [
    {
     "data": {
      "text/plain": [
       "18"
      ]
     },
     "execution_count": 14,
     "metadata": {},
     "output_type": "execute_result"
    }
   ],
   "source": [
    "want = os.listdir(path)\n",
    "len(want)"
   ]
  },
  {
   "cell_type": "code",
   "execution_count": 7,
   "metadata": {
    "collapsed": true
   },
   "outputs": [],
   "source": [
    "start=time()"
   ]
  },
  {
   "cell_type": "code",
   "execution_count": 18,
   "metadata": {},
   "outputs": [
    {
     "name": "stdout",
     "output_type": "stream",
     "text": [
      "used 613.90 s, 10.23 m, 0.17 h Sun Oct  1 12:08:13 2017\n"
     ]
    }
   ],
   "source": [
    "print 'used {:.2f} s, {:.2f} m, {:.2f} h'.format(time()-start, (time()-start)/60.0,(time()-start)/3600.0), ctime()"
   ]
  },
  {
   "cell_type": "code",
   "execution_count": 20,
   "metadata": {},
   "outputs": [
    {
     "name": "stdout",
     "output_type": "stream",
     "text": [
      "used 2322.23 s, 38.70 m, 0.65 h Sun Oct  1 12:50:38 2017\n",
      "used 2322.19 s, 38.70 m, 0.65 h Sun Oct  1 13:29:20 2017\n",
      "^C\n",
      "used 144.17 s, 2.40 m, 0.04 h Sun Oct  1 13:31:44 2017\n",
      "used 3.40 s, 0.06 m, 0.00 h Sun Oct  1 13:31:47 2017\n",
      "^C\n",
      "used 0.34 s, 0.01 m, 0.00 h Sun Oct  1 13:31:48 2017\n",
      "^C\n",
      "used 0.22 s, 0.00 m, 0.00 h Sun Oct  1 13:31:48 2017\n",
      "^C\n",
      "used 0.25 s, 0.00 m, 0.00 h Sun Oct  1 13:31:48 2017\n",
      "^C\n",
      "used 0.25 s, 0.00 m, 0.00 h Sun Oct  1 13:31:48 2017\n",
      "^C\n",
      "used 0.27 s, 0.00 m, 0.00 h Sun Oct  1 13:31:49 2017\n",
      "^C\n",
      "used 0.27 s, 0.00 m, 0.00 h Sun Oct  1 13:31:49 2017\n",
      "^C\n",
      "used 0.26 s, 0.00 m, 0.00 h Sun Oct  1 13:31:49 2017\n",
      "^C\n",
      "used 0.25 s, 0.00 m, 0.00 h Sun Oct  1 13:31:49 2017\n",
      "^C\n",
      "used 0.27 s, 0.00 m, 0.00 h Sun Oct  1 13:31:50 2017\n",
      "^C\n",
      "used 0.26 s, 0.00 m, 0.00 h Sun Oct  1 13:31:50 2017\n",
      "^C\n",
      "used 0.27 s, 0.00 m, 0.00 h Sun Oct  1 13:31:50 2017\n",
      "^C\n",
      "used 0.27 s, 0.00 m, 0.00 h Sun Oct  1 13:31:51 2017\n",
      "^C\n",
      "used 0.26 s, 0.00 m, 0.00 h Sun Oct  1 13:31:51 2017\n",
      "^C\n",
      "used 0.28 s, 0.00 m, 0.00 h Sun Oct  1 13:31:51 2017\n"
     ]
    }
   ],
   "source": [
    "n=0\n",
    "for i in want:\n",
    "    start=time()\n",
    "    !python rude-carnie/guess.py --class_type gender --model_type inception --model_dir 21936 \\\n",
    "    --filename `pwd`/{path}{i} \\\n",
    "    --target `pwd`/predict/bidder1/predict_{i}.csv \\\n",
    "    >log_pred_bidder1.txt 2>&1 \n",
    "    print 'used {:.2f} s, {:.2f} m, {:.2f} h'.format(time()-start, (time()-start)/60.0,(time()-start)/3600.0), ctime()\n",
    "    n+=1\n",
    "    print n\n",
    "    print i"
   ]
  },
  {
   "cell_type": "code",
   "execution_count": 22,
   "metadata": {},
   "outputs": [
    {
     "name": "stdout",
     "output_type": "stream",
     "text": [
      "['bidder1_diff_3.txt', 'bidder1_diff_17.txt', 'bidder1_diff_15.txt', 'bidder1_diff_5.txt', 'bidder1_diff_2.txt', 'bidder1_diff_7.txt', 'bidder1_diff_9.txt', 'bidder1_diff_11.txt', 'bidder1_diff_19.txt', 'bidder1_diff_14.txt', 'bidder1_diff_4.txt', 'bidder1_diff_8.txt', 'bidder1_diff_6.txt', 'bidder1_diff_18.txt', 'bidder1_diff_12.txt', 'bidder1_diff_16.txt', 'bidder1_diff_10.txt', 'bidder1_diff_13.txt']\n"
     ]
    }
   ],
   "source": [
    "print want"
   ]
  },
  {
   "cell_type": "code",
   "execution_count": 25,
   "metadata": {
    "collapsed": true
   },
   "outputs": [],
   "source": [
    "want.remove('bidder1_diff_17.txt')\n",
    "want.remove('bidder1_diff_3.txt')"
   ]
  },
  {
   "cell_type": "code",
   "execution_count": 26,
   "metadata": {},
   "outputs": [
    {
     "name": "stdout",
     "output_type": "stream",
     "text": [
      "['bidder1_diff_15.txt', 'bidder1_diff_5.txt', 'bidder1_diff_2.txt', 'bidder1_diff_7.txt', 'bidder1_diff_9.txt', 'bidder1_diff_11.txt', 'bidder1_diff_19.txt', 'bidder1_diff_14.txt', 'bidder1_diff_4.txt', 'bidder1_diff_8.txt', 'bidder1_diff_6.txt', 'bidder1_diff_18.txt', 'bidder1_diff_12.txt', 'bidder1_diff_16.txt', 'bidder1_diff_10.txt', 'bidder1_diff_13.txt']\n"
     ]
    }
   ],
   "source": [
    "print want"
   ]
  },
  {
   "cell_type": "code",
   "execution_count": null,
   "metadata": {},
   "outputs": [
    {
     "name": "stdout",
     "output_type": "stream",
     "text": [
      "used 2325.78 s, 38.76 m, 0.65 h Sun Oct  1 14:12:41 2017\n",
      "1\n",
      "bidder1_diff_15.txt\n",
      "used 2339.08 s, 38.98 m, 0.65 h Sun Oct  1 14:51:40 2017\n",
      "2\n",
      "bidder1_diff_5.txt\n",
      "used 2339.86 s, 39.00 m, 0.65 h Sun Oct  1 15:30:40 2017\n",
      "3\n",
      "bidder1_diff_2.txt\n",
      "used 2340.91 s, 39.02 m, 0.65 h Sun Oct  1 16:09:41 2017\n",
      "4\n",
      "bidder1_diff_7.txt\n",
      "used 2332.95 s, 38.88 m, 0.65 h Sun Oct  1 16:48:34 2017\n",
      "5\n",
      "bidder1_diff_9.txt\n",
      "used 2332.00 s, 38.87 m, 0.65 h Sun Oct  1 17:27:26 2017\n",
      "6\n",
      "bidder1_diff_11.txt\n",
      "used 580.86 s, 9.68 m, 0.16 h Sun Oct  1 17:37:07 2017\n",
      "7\n",
      "bidder1_diff_19.txt\n",
      "used 2334.22 s, 38.90 m, 0.65 h Sun Oct  1 18:16:01 2017\n",
      "8\n",
      "bidder1_diff_14.txt\n",
      "used 2330.07 s, 38.83 m, 0.65 h Sun Oct  1 18:54:51 2017\n",
      "9\n",
      "bidder1_diff_4.txt\n",
      "used 2329.21 s, 38.82 m, 0.65 h Sun Oct  1 19:33:40 2017\n",
      "10\n",
      "bidder1_diff_8.txt\n",
      "used 2321.58 s, 38.69 m, 0.64 h Sun Oct  1 20:12:22 2017\n",
      "11\n",
      "bidder1_diff_6.txt\n",
      "used 2327.65 s, 38.79 m, 0.65 h Sun Oct  1 20:51:10 2017\n",
      "12\n",
      "bidder1_diff_18.txt\n",
      "used 2327.73 s, 38.80 m, 0.65 h Sun Oct  1 21:29:57 2017\n",
      "13\n",
      "bidder1_diff_12.txt\n",
      "used 2333.56 s, 38.89 m, 0.65 h Sun Oct  1 22:08:51 2017\n",
      "14\n",
      "bidder1_diff_16.txt\n"
     ]
    }
   ],
   "source": [
    "n=0\n",
    "for i in want:\n",
    "    start=time()\n",
    "    !python rude-carnie/guess.py --class_type gender --model_type inception --model_dir 21936 \\\n",
    "    --filename `pwd`/{path}{i} \\\n",
    "    --target `pwd`/predict/bidder1/predict_{i}.csv \\\n",
    "    >log_pred_bidder1.txt 2>&1 \n",
    "    print 'used {:.2f} s, {:.2f} m, {:.2f} h'.format(time()-start, (time()-start)/60.0,(time()-start)/3600.0), ctime()\n",
    "    n+=1\n",
    "    print n\n",
    "    print i"
   ]
  },
  {
   "cell_type": "code",
   "execution_count": null,
   "metadata": {
    "collapsed": true
   },
   "outputs": [],
   "source": []
  }
 ],
 "metadata": {
  "kernelspec": {
   "display_name": "Python 2",
   "language": "python",
   "name": "python2"
  },
  "language_info": {
   "codemirror_mode": {
    "name": "ipython",
    "version": 2
   },
   "file_extension": ".py",
   "mimetype": "text/x-python",
   "name": "python",
   "nbconvert_exporter": "python",
   "pygments_lexer": "ipython2",
   "version": "2.7.13"
  }
 },
 "nbformat": 4,
 "nbformat_minor": 2
}
