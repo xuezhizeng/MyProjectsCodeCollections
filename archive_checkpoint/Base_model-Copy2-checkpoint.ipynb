{
 "cells": [
  {
   "cell_type": "code",
   "execution_count": 1,
   "metadata": {
    "collapsed": true
   },
   "outputs": [],
   "source": [
    "import pandas as pd\n",
    "import os\n",
    "pd.options.display.max_columns=30"
   ]
  },
  {
   "cell_type": "code",
   "execution_count": 2,
   "metadata": {},
   "outputs": [
    {
     "data": {
      "text/plain": [
       "(1243807, 24)"
      ]
     },
     "execution_count": 2,
     "metadata": {},
     "output_type": "execute_result"
    }
   ],
   "source": [
    "df = pd.read_csv('./clean_state.csv', low_memory=False)\n",
    "ori = df.copy()\n",
    "df.shape"
   ]
  },
  {
   "cell_type": "code",
   "execution_count": 3,
   "metadata": {},
   "outputs": [
    {
     "data": {
      "text/html": [
       "<div>\n",
       "<style>\n",
       "    .dataframe thead tr:only-child th {\n",
       "        text-align: right;\n",
       "    }\n",
       "\n",
       "    .dataframe thead th {\n",
       "        text-align: left;\n",
       "    }\n",
       "\n",
       "    .dataframe tbody tr th {\n",
       "        vertical-align: top;\n",
       "    }\n",
       "</style>\n",
       "<table border=\"1\" class=\"dataframe\">\n",
       "  <thead>\n",
       "    <tr style=\"text-align: right;\">\n",
       "      <th></th>\n",
       "      <th>id</th>\n",
       "      <th>name</th>\n",
       "      <th>address</th>\n",
       "      <th>city</th>\n",
       "      <th>state</th>\n",
       "      <th>zip</th>\n",
       "      <th>type</th>\n",
       "      <th>source</th>\n",
       "      <th>association</th>\n",
       "      <th>service_type</th>\n",
       "      <th>received_time</th>\n",
       "      <th>sent_time</th>\n",
       "      <th>company</th>\n",
       "      <th>status</th>\n",
       "      <th>price</th>\n",
       "      <th>campaign</th>\n",
       "      <th>is_mobile</th>\n",
       "      <th>landing_page</th>\n",
       "      <th>contact_page</th>\n",
       "      <th>previous_page</th>\n",
       "      <th>inbound_number</th>\n",
       "      <th>call_status</th>\n",
       "      <th>duration</th>\n",
       "      <th>job_sold</th>\n",
       "    </tr>\n",
       "  </thead>\n",
       "  <tbody>\n",
       "    <tr>\n",
       "      <th>0</th>\n",
       "      <td>1003609</td>\n",
       "      <td>jason</td>\n",
       "      <td>340 colby lane</td>\n",
       "      <td>ambler</td>\n",
       "      <td>PA</td>\n",
       "      <td>NaN</td>\n",
       "      <td>Supercharged Phone Leads</td>\n",
       "      <td>Organic Search</td>\n",
       "      <td>Basement Systems, Inc.</td>\n",
       "      <td>Foundation Repair</td>\n",
       "      <td>2007-08-01 08:09:22</td>\n",
       "      <td>2007-08-01 08:09:22</td>\n",
       "      <td>BQ Basement Systems</td>\n",
       "      <td>Billable Lead</td>\n",
       "      <td>100.0</td>\n",
       "      <td>Phone Transfer</td>\n",
       "      <td>NaN</td>\n",
       "      <td>NaN</td>\n",
       "      <td>NaN</td>\n",
       "      <td>NaN</td>\n",
       "      <td>NaN</td>\n",
       "      <td>NaN</td>\n",
       "      <td>NaN</td>\n",
       "      <td>NaN</td>\n",
       "    </tr>\n",
       "    <tr>\n",
       "      <th>1</th>\n",
       "      <td>1003610</td>\n",
       "      <td>angelique</td>\n",
       "      <td>2820 dudley ave</td>\n",
       "      <td>bronx</td>\n",
       "      <td>NY</td>\n",
       "      <td>10461</td>\n",
       "      <td>Supercharged Phone Leads</td>\n",
       "      <td>Organic Search</td>\n",
       "      <td>Basement Systems, Inc.</td>\n",
       "      <td>Basement Waterproofing</td>\n",
       "      <td>2007-08-01 08:13:17</td>\n",
       "      <td>2007-08-01 08:13:17</td>\n",
       "      <td>Quality 1st Basement Systems</td>\n",
       "      <td>Billable Lead</td>\n",
       "      <td>100.0</td>\n",
       "      <td>Phone Transfer</td>\n",
       "      <td>NaN</td>\n",
       "      <td>NaN</td>\n",
       "      <td>NaN</td>\n",
       "      <td>NaN</td>\n",
       "      <td>NaN</td>\n",
       "      <td>NaN</td>\n",
       "      <td>NaN</td>\n",
       "      <td>NaN</td>\n",
       "    </tr>\n",
       "    <tr>\n",
       "      <th>2</th>\n",
       "      <td>1003611</td>\n",
       "      <td>Linda</td>\n",
       "      <td>164 Whiley Road</td>\n",
       "      <td>Groton</td>\n",
       "      <td>MA</td>\n",
       "      <td>01450</td>\n",
       "      <td>Supercharged Web Leads</td>\n",
       "      <td>Organic Search</td>\n",
       "      <td>Basement Systems, Inc.</td>\n",
       "      <td>Basement Waterproofing</td>\n",
       "      <td>2007-08-01 08:51:41</td>\n",
       "      <td>2007-08-01 08:51:41</td>\n",
       "      <td>Northeast Basement Systems</td>\n",
       "      <td>Billable Lead</td>\n",
       "      <td>60.0</td>\n",
       "      <td>NaN</td>\n",
       "      <td>NaN</td>\n",
       "      <td>NaN</td>\n",
       "      <td>NaN</td>\n",
       "      <td>NaN</td>\n",
       "      <td>NaN</td>\n",
       "      <td>NaN</td>\n",
       "      <td>NaN</td>\n",
       "      <td>NaN</td>\n",
       "    </tr>\n",
       "    <tr>\n",
       "      <th>3</th>\n",
       "      <td>1003613</td>\n",
       "      <td>bobby</td>\n",
       "      <td>NaN</td>\n",
       "      <td>durham</td>\n",
       "      <td>NC</td>\n",
       "      <td>NaN</td>\n",
       "      <td>Supercharged Phone Leads</td>\n",
       "      <td>Organic Search</td>\n",
       "      <td>Basement Systems, Inc.</td>\n",
       "      <td>Basement Waterproofing</td>\n",
       "      <td>2007-08-01 08:10:26</td>\n",
       "      <td>2007-08-01 08:10:26</td>\n",
       "      <td>Regional Waterproofing</td>\n",
       "      <td>Billable Lead</td>\n",
       "      <td>60.0</td>\n",
       "      <td>Phone Transfer</td>\n",
       "      <td>NaN</td>\n",
       "      <td>NaN</td>\n",
       "      <td>NaN</td>\n",
       "      <td>NaN</td>\n",
       "      <td>NaN</td>\n",
       "      <td>NaN</td>\n",
       "      <td>NaN</td>\n",
       "      <td>NaN</td>\n",
       "    </tr>\n",
       "    <tr>\n",
       "      <th>4</th>\n",
       "      <td>1003614</td>\n",
       "      <td>monica</td>\n",
       "      <td>1611 east elmer rd</td>\n",
       "      <td>east vineland</td>\n",
       "      <td>NJ</td>\n",
       "      <td>NaN</td>\n",
       "      <td>Supercharged Phone Leads</td>\n",
       "      <td>PPC Campaign (clicked on a PPC ad)</td>\n",
       "      <td>Basement Systems, Inc.</td>\n",
       "      <td>Basement Waterproofing</td>\n",
       "      <td>2007-08-01 09:31:39</td>\n",
       "      <td>2007-08-01 09:31:39</td>\n",
       "      <td>Dry Guys Basement Systems</td>\n",
       "      <td>Billable Lead</td>\n",
       "      <td>100.0</td>\n",
       "      <td>NaN</td>\n",
       "      <td>NaN</td>\n",
       "      <td>NaN</td>\n",
       "      <td>NaN</td>\n",
       "      <td>NaN</td>\n",
       "      <td>NaN</td>\n",
       "      <td>NaN</td>\n",
       "      <td>NaN</td>\n",
       "      <td>1.0</td>\n",
       "    </tr>\n",
       "  </tbody>\n",
       "</table>\n",
       "</div>"
      ],
      "text/plain": [
       "        id       name             address           city state    zip  \\\n",
       "0  1003609      jason      340 colby lane         ambler    PA    NaN   \n",
       "1  1003610  angelique     2820 dudley ave          bronx    NY  10461   \n",
       "2  1003611      Linda     164 Whiley Road         Groton    MA  01450   \n",
       "3  1003613      bobby                 NaN         durham    NC    NaN   \n",
       "4  1003614     monica  1611 east elmer rd  east vineland    NJ    NaN   \n",
       "\n",
       "                       type                              source  \\\n",
       "0  Supercharged Phone Leads                      Organic Search   \n",
       "1  Supercharged Phone Leads                      Organic Search   \n",
       "2    Supercharged Web Leads                      Organic Search   \n",
       "3  Supercharged Phone Leads                      Organic Search   \n",
       "4  Supercharged Phone Leads  PPC Campaign (clicked on a PPC ad)   \n",
       "\n",
       "              association            service_type        received_time  \\\n",
       "0  Basement Systems, Inc.       Foundation Repair  2007-08-01 08:09:22   \n",
       "1  Basement Systems, Inc.  Basement Waterproofing  2007-08-01 08:13:17   \n",
       "2  Basement Systems, Inc.  Basement Waterproofing  2007-08-01 08:51:41   \n",
       "3  Basement Systems, Inc.  Basement Waterproofing  2007-08-01 08:10:26   \n",
       "4  Basement Systems, Inc.  Basement Waterproofing  2007-08-01 09:31:39   \n",
       "\n",
       "             sent_time                       company         status  price  \\\n",
       "0  2007-08-01 08:09:22           BQ Basement Systems  Billable Lead  100.0   \n",
       "1  2007-08-01 08:13:17  Quality 1st Basement Systems  Billable Lead  100.0   \n",
       "2  2007-08-01 08:51:41    Northeast Basement Systems  Billable Lead   60.0   \n",
       "3  2007-08-01 08:10:26        Regional Waterproofing  Billable Lead   60.0   \n",
       "4  2007-08-01 09:31:39     Dry Guys Basement Systems  Billable Lead  100.0   \n",
       "\n",
       "         campaign  is_mobile landing_page contact_page previous_page  \\\n",
       "0  Phone Transfer        NaN          NaN          NaN           NaN   \n",
       "1  Phone Transfer        NaN          NaN          NaN           NaN   \n",
       "2             NaN        NaN          NaN          NaN           NaN   \n",
       "3  Phone Transfer        NaN          NaN          NaN           NaN   \n",
       "4             NaN        NaN          NaN          NaN           NaN   \n",
       "\n",
       "   inbound_number call_status  duration  job_sold  \n",
       "0             NaN         NaN       NaN       NaN  \n",
       "1             NaN         NaN       NaN       NaN  \n",
       "2             NaN         NaN       NaN       NaN  \n",
       "3             NaN         NaN       NaN       NaN  \n",
       "4             NaN         NaN       NaN       1.0  "
      ]
     },
     "execution_count": 3,
     "metadata": {},
     "output_type": "execute_result"
    }
   ],
   "source": [
    "df = ori.copy()\n",
    "df.head()"
   ]
  },
  {
   "cell_type": "code",
   "execution_count": 4,
   "metadata": {
    "collapsed": true
   },
   "outputs": [],
   "source": [
    "ck_null = lambda fd: (df[fd].isnull()).sum()\n",
    "ck_count = lambda fd: df[fd].value_counts().head(10)\n",
    "ck_count_uniq = lambda fd: len(df[fd].unique())"
   ]
  },
  {
   "cell_type": "markdown",
   "metadata": {},
   "source": [
    "### null percentage of total"
   ]
  },
  {
   "cell_type": "code",
   "execution_count": 5,
   "metadata": {},
   "outputs": [
    {
     "name": "stdout",
     "output_type": "stream",
     "text": [
      "0        1243807 0.0   % id\n",
      "3284     1243807 0.26  % name\n",
      "68868    1243807 5.54  % address\n",
      "3134     1243807 0.25  % city\n",
      "0        1243807 0.0   % state\n",
      "43797    1243807 3.52  % zip\n",
      "0        1243807 0.0   % type\n",
      "4        1243807 0.0   % source\n",
      "367      1243807 0.03  % association\n",
      "7111     1243807 0.57  % service_type\n",
      "0        1243807 0.0   % received_time\n",
      "0        1243807 0.0   % sent_time\n",
      "172      1243807 0.01  % company\n",
      "0        1243807 0.0   % status\n",
      "0        1243807 0.0   % price\n",
      "939164   1243807 75.51 % campaign\n",
      "978626   1243807 78.68 % is_mobile\n",
      "461169   1243807 37.08 % landing_page\n",
      "613968   1243807 49.36 % contact_page\n",
      "654039   1243807 52.58 % previous_page\n",
      "699281   1243807 56.22 % inbound_number\n",
      "699281   1243807 56.22 % call_status\n",
      "699281   1243807 56.22 % duration\n",
      "1221674  1243807 98.22 % job_sold\n"
     ]
    }
   ],
   "source": [
    "for i in df:\n",
    "    m, n = ck_null(i), df.shape[0]\n",
    "    print  str(m).ljust(8), n, str(round(m/float(n),4)*100).ljust(5)+' %', i"
   ]
  },
  {
   "cell_type": "markdown",
   "metadata": {},
   "source": [
    "### unique values of each variable (compare to all value counts)"
   ]
  },
  {
   "cell_type": "code",
   "execution_count": 6,
   "metadata": {},
   "outputs": [
    {
     "name": "stdout",
     "output_type": "stream",
     "text": [
      "1243807  1243807 100.0 % id\n",
      "132216   1243807 10.63 % name\n",
      "1130816  1243807 90.92 % address\n",
      "54170    1243807 4.36  % city\n",
      "59       1243807 0.0   % state\n",
      "109471   1243807 8.8   % zip\n",
      "2        1243807 0.0   % type\n",
      "17       1243807 0.0   % source\n",
      "21       1243807 0.0   % association\n",
      "227      1243807 0.02  % service_type\n",
      "1232886  1243807 99.12 % received_time\n",
      "1234264  1243807 99.23 % sent_time\n",
      "825      1243807 0.07  % company\n",
      "2        1243807 0.0   % status\n",
      "1164     1243807 0.09  % price\n",
      "59       1243807 0.0   % campaign\n",
      "3        1243807 0.0   % is_mobile\n",
      "190667   1243807 15.33 % landing_page\n",
      "3586     1243807 0.29  % contact_page\n",
      "39340    1243807 3.16  % previous_page\n",
      "33665    1243807 2.71  % inbound_number\n",
      "4        1243807 0.0   % call_status\n",
      "1893     1243807 0.15  % duration\n",
      "2        1243807 0.0   % job_sold\n"
     ]
    }
   ],
   "source": [
    "for i in df:\n",
    "    m, n = ck_count_uniq(i), df.shape[0]\n",
    "    print  str(m).ljust(8), n, str(round(m/float(n),4)*100).ljust(5)+' %', i"
   ]
  },
  {
   "cell_type": "markdown",
   "metadata": {},
   "source": [
    "### fillin null value with a string"
   ]
  },
  {
   "cell_type": "code",
   "execution_count": 7,
   "metadata": {
    "collapsed": true
   },
   "outputs": [],
   "source": [
    "df = df.fillna('No Data')"
   ]
  },
  {
   "cell_type": "markdown",
   "metadata": {},
   "source": [
    "### check the count of the variable we want to predict"
   ]
  },
  {
   "cell_type": "code",
   "execution_count": 8,
   "metadata": {},
   "outputs": [
    {
     "data": {
      "text/plain": [
       "Billable Lead    825202\n",
       "No Charge        418605\n",
       "Name: status, dtype: int64"
      ]
     },
     "execution_count": 8,
     "metadata": {},
     "output_type": "execute_result"
    }
   ],
   "source": [
    "ck_count('status')"
   ]
  },
  {
   "cell_type": "code",
   "execution_count": 9,
   "metadata": {
    "collapsed": true
   },
   "outputs": [],
   "source": [
    "def dm(x):\n",
    "    try:\n",
    "        return pd.Timestamp(x)\n",
    "    except:\n",
    "        print x\n",
    "        return x"
   ]
  },
  {
   "cell_type": "code",
   "execution_count": 10,
   "metadata": {},
   "outputs": [
    {
     "data": {
      "text/plain": [
       "(1243807, 27)"
      ]
     },
     "execution_count": 10,
     "metadata": {},
     "output_type": "execute_result"
    }
   ],
   "source": [
    "df['month']=df['sent_time'].apply(lambda x:x.split('-')[1])\n",
    "df['day']=df['sent_time'].apply(lambda x:x.split('-')[2][:2])\n",
    "df['hour']=df['sent_time'].apply(lambda x:x.split(' ')[-1][:2])\n",
    "df.shape"
   ]
  },
  {
   "cell_type": "markdown",
   "metadata": {},
   "source": [
    "### drop variables that may influence our predict variable"
   ]
  },
  {
   "cell_type": "code",
   "execution_count": 11,
   "metadata": {},
   "outputs": [],
   "source": [
    "df= df.drop(['source', 'id','price', 'name', 'address', 'sent_time', \n",
    "             'sent_time', 'received_time', 'duration', 'job_sold', 'inbound_number'], axis=1)"
   ]
  },
  {
   "cell_type": "code",
   "execution_count": 12,
   "metadata": {},
   "outputs": [
    {
     "name": "stdout",
     "output_type": "stream",
     "text": [
      "CPU times: user 1min 35s, sys: 11.4 s, total: 1min 47s\n",
      "Wall time: 1min 51s\n"
     ]
    }
   ],
   "source": [
    "%%time\n",
    "from sklearn.preprocessing import LabelEncoder\n",
    "def label_encode(df, columns):\n",
    "    for col in columns:\n",
    "        le = LabelEncoder()\n",
    "        col_values_unique = list(df[col].unique())\n",
    "        le_fitted = le.fit(col_values_unique)\n",
    " \n",
    "        col_values = list(df[col].values)\n",
    "        le.classes_\n",
    "        col_values_transformed = le.transform(col_values)\n",
    "        df[col] = col_values_transformed\n",
    " \n",
    "to_be_encoded_cols = df.columns.values\n",
    "label_encode(df, to_be_encoded_cols)"
   ]
  },
  {
   "cell_type": "code",
   "execution_count": 14,
   "metadata": {},
   "outputs": [
    {
     "data": {
      "text/html": [
       "<div>\n",
       "<style>\n",
       "    .dataframe thead tr:only-child th {\n",
       "        text-align: right;\n",
       "    }\n",
       "\n",
       "    .dataframe thead th {\n",
       "        text-align: left;\n",
       "    }\n",
       "\n",
       "    .dataframe tbody tr th {\n",
       "        vertical-align: top;\n",
       "    }\n",
       "</style>\n",
       "<table border=\"1\" class=\"dataframe\">\n",
       "  <thead>\n",
       "    <tr style=\"text-align: right;\">\n",
       "      <th></th>\n",
       "      <th>city</th>\n",
       "      <th>state</th>\n",
       "      <th>zip</th>\n",
       "      <th>type</th>\n",
       "      <th>association</th>\n",
       "      <th>service_type</th>\n",
       "      <th>company</th>\n",
       "      <th>status</th>\n",
       "      <th>campaign</th>\n",
       "      <th>is_mobile</th>\n",
       "      <th>landing_page</th>\n",
       "      <th>contact_page</th>\n",
       "      <th>previous_page</th>\n",
       "      <th>call_status</th>\n",
       "      <th>month</th>\n",
       "      <th>day</th>\n",
       "      <th>hour</th>\n",
       "    </tr>\n",
       "  </thead>\n",
       "  <tbody>\n",
       "    <tr>\n",
       "      <th>0</th>\n",
       "      <td>43379</td>\n",
       "      <td>44</td>\n",
       "      <td>71023</td>\n",
       "      <td>0</td>\n",
       "      <td>0</td>\n",
       "      <td>79</td>\n",
       "      <td>86</td>\n",
       "      <td>0</td>\n",
       "      <td>30</td>\n",
       "      <td>2</td>\n",
       "      <td>0</td>\n",
       "      <td>0</td>\n",
       "      <td>0</td>\n",
       "      <td>1</td>\n",
       "      <td>8</td>\n",
       "      <td>1</td>\n",
       "      <td>8</td>\n",
       "    </tr>\n",
       "    <tr>\n",
       "      <th>1</th>\n",
       "      <td>44269</td>\n",
       "      <td>39</td>\n",
       "      <td>4182</td>\n",
       "      <td>0</td>\n",
       "      <td>0</td>\n",
       "      <td>23</td>\n",
       "      <td>620</td>\n",
       "      <td>0</td>\n",
       "      <td>30</td>\n",
       "      <td>2</td>\n",
       "      <td>0</td>\n",
       "      <td>0</td>\n",
       "      <td>0</td>\n",
       "      <td>1</td>\n",
       "      <td>8</td>\n",
       "      <td>1</td>\n",
       "      <td>8</td>\n",
       "    </tr>\n",
       "    <tr>\n",
       "      <th>2</th>\n",
       "      <td>15030</td>\n",
       "      <td>21</td>\n",
       "      <td>886</td>\n",
       "      <td>1</td>\n",
       "      <td>0</td>\n",
       "      <td>23</td>\n",
       "      <td>551</td>\n",
       "      <td>0</td>\n",
       "      <td>25</td>\n",
       "      <td>2</td>\n",
       "      <td>0</td>\n",
       "      <td>0</td>\n",
       "      <td>0</td>\n",
       "      <td>1</td>\n",
       "      <td>8</td>\n",
       "      <td>1</td>\n",
       "      <td>8</td>\n",
       "    </tr>\n",
       "    <tr>\n",
       "      <th>3</th>\n",
       "      <td>45713</td>\n",
       "      <td>31</td>\n",
       "      <td>71023</td>\n",
       "      <td>0</td>\n",
       "      <td>0</td>\n",
       "      <td>23</td>\n",
       "      <td>639</td>\n",
       "      <td>0</td>\n",
       "      <td>30</td>\n",
       "      <td>2</td>\n",
       "      <td>0</td>\n",
       "      <td>0</td>\n",
       "      <td>0</td>\n",
       "      <td>1</td>\n",
       "      <td>8</td>\n",
       "      <td>1</td>\n",
       "      <td>8</td>\n",
       "    </tr>\n",
       "    <tr>\n",
       "      <th>4</th>\n",
       "      <td>45853</td>\n",
       "      <td>35</td>\n",
       "      <td>71023</td>\n",
       "      <td>0</td>\n",
       "      <td>0</td>\n",
       "      <td>23</td>\n",
       "      <td>299</td>\n",
       "      <td>0</td>\n",
       "      <td>25</td>\n",
       "      <td>2</td>\n",
       "      <td>0</td>\n",
       "      <td>0</td>\n",
       "      <td>0</td>\n",
       "      <td>1</td>\n",
       "      <td>8</td>\n",
       "      <td>1</td>\n",
       "      <td>9</td>\n",
       "    </tr>\n",
       "  </tbody>\n",
       "</table>\n",
       "</div>"
      ],
      "text/plain": [
       "    city  state    zip  type  association  service_type  company  status  \\\n",
       "0  43379     44  71023     0            0            79       86       0   \n",
       "1  44269     39   4182     0            0            23      620       0   \n",
       "2  15030     21    886     1            0            23      551       0   \n",
       "3  45713     31  71023     0            0            23      639       0   \n",
       "4  45853     35  71023     0            0            23      299       0   \n",
       "\n",
       "   campaign  is_mobile  landing_page  contact_page  previous_page  \\\n",
       "0        30          2             0             0              0   \n",
       "1        30          2             0             0              0   \n",
       "2        25          2             0             0              0   \n",
       "3        30          2             0             0              0   \n",
       "4        25          2             0             0              0   \n",
       "\n",
       "   call_status  month  day  hour  \n",
       "0            1      8    1     8  \n",
       "1            1      8    1     8  \n",
       "2            1      8    1     8  \n",
       "3            1      8    1     8  \n",
       "4            1      8    1     9  "
      ]
     },
     "execution_count": 14,
     "metadata": {},
     "output_type": "execute_result"
    }
   ],
   "source": [
    "df.head()"
   ]
  },
  {
   "cell_type": "code",
   "execution_count": 15,
   "metadata": {},
   "outputs": [
    {
     "data": {
      "text/plain": [
       "(1243807,)"
      ]
     },
     "execution_count": 15,
     "metadata": {},
     "output_type": "execute_result"
    }
   ],
   "source": [
    "mark = df.pop('status')\n",
    "mark.shape"
   ]
  },
  {
   "cell_type": "markdown",
   "metadata": {},
   "source": [
    "### unique values of input (after preprocessing)"
   ]
  },
  {
   "cell_type": "code",
   "execution_count": 48,
   "metadata": {},
   "outputs": [
    {
     "name": "stdout",
     "output_type": "stream",
     "text": [
      "54170    1243807 4.36  % city\n",
      "59       1243807 0.0   % state\n",
      "109471   1243807 8.8   % zip\n",
      "2        1243807 0.0   % type\n",
      "21       1243807 0.0   % association\n",
      "227      1243807 0.02  % service_type\n",
      "825      1243807 0.07  % company\n",
      "59       1243807 0.0   % campaign\n",
      "3        1243807 0.0   % is_mobile\n",
      "190667   1243807 15.33 % landing_page\n",
      "3586     1243807 0.29  % contact_page\n",
      "39340    1243807 3.16  % previous_page\n",
      "4        1243807 0.0   % call_status\n",
      "13       1243807 0.0   % month\n",
      "32       1243807 0.0   % day\n",
      "24       1243807 0.0   % hour\n"
     ]
    }
   ],
   "source": [
    "for i in df:\n",
    "    m, n = ck_count_uniq(i), df.shape[0]\n",
    "    print  str(m).ljust(8), n, str(round(m/float(n),4)*100).ljust(5)+' %', i"
   ]
  },
  {
   "cell_type": "code",
   "execution_count": 16,
   "metadata": {},
   "outputs": [
    {
     "data": {
      "text/plain": [
       "RandomForestClassifier(bootstrap=True, class_weight=None, criterion='gini',\n",
       "            max_depth=None, max_features='auto', max_leaf_nodes=None,\n",
       "            min_impurity_split=1e-07, min_samples_leaf=1,\n",
       "            min_samples_split=2, min_weight_fraction_leaf=0.0,\n",
       "            n_estimators=10, n_jobs=1, oob_score=False, random_state=None,\n",
       "            verbose=0, warm_start=False)"
      ]
     },
     "execution_count": 16,
     "metadata": {},
     "output_type": "execute_result"
    }
   ],
   "source": [
    "from sklearn.ensemble import RandomForestClassifier\n",
    "rf = RandomForestClassifier()\n",
    "rf"
   ]
  },
  {
   "cell_type": "code",
   "execution_count": 17,
   "metadata": {
    "collapsed": true
   },
   "outputs": [],
   "source": [
    "from sklearn.model_selection import cross_val_score\n",
    "from sklearn.model_selection import train_test_split\n",
    "from sklearn.metrics import accuracy_score\n",
    "dim = lambda *x: [i.shape for i in x]"
   ]
  },
  {
   "cell_type": "markdown",
   "metadata": {},
   "source": [
    "* train on 75% of and test on the remaining 25% of the data"
   ]
  },
  {
   "cell_type": "code",
   "execution_count": 19,
   "metadata": {},
   "outputs": [
    {
     "data": {
      "text/plain": [
       "[(932855, 16), (310952, 16), (932855,), (310952,)]"
      ]
     },
     "execution_count": 19,
     "metadata": {},
     "output_type": "execute_result"
    }
   ],
   "source": [
    "X_train, X_test, y_train, y_test = train_test_split(df, mark, test_size=0.25, random_state=0)\n",
    "dim(X_train, X_test, y_train, y_test)"
   ]
  },
  {
   "cell_type": "code",
   "execution_count": 20,
   "metadata": {},
   "outputs": [
    {
     "name": "stdout",
     "output_type": "stream",
     "text": [
      "CPU times: user 41.8 s, sys: 44 ms, total: 41.9 s\n",
      "Wall time: 43.1 s\n"
     ]
    }
   ],
   "source": [
    "%%time\n",
    "rf.fit(X_train, y_train)\n",
    "rf"
   ]
  },
  {
   "cell_type": "code",
   "execution_count": 21,
   "metadata": {},
   "outputs": [
    {
     "name": "stdout",
     "output_type": "stream",
     "text": [
      "(310952,)\n"
     ]
    },
    {
     "data": {
      "text/plain": [
       "array([0, 1, 1])"
      ]
     },
     "execution_count": 21,
     "metadata": {},
     "output_type": "execute_result"
    }
   ],
   "source": [
    "pred = rf.predict(X_test)\n",
    "print pred.shape\n",
    "pred[:3]"
   ]
  },
  {
   "cell_type": "markdown",
   "metadata": {},
   "source": [
    "### model accuracy \n"
   ]
  },
  {
   "cell_type": "code",
   "execution_count": 22,
   "metadata": {},
   "outputs": [
    {
     "data": {
      "text/plain": [
       "0.72666520877820373"
      ]
     },
     "execution_count": 22,
     "metadata": {},
     "output_type": "execute_result"
    }
   ],
   "source": [
    "accuracy_score(y_test, pred)"
   ]
  },
  {
   "cell_type": "code",
   "execution_count": 23,
   "metadata": {},
   "outputs": [
    {
     "data": {
      "text/plain": [
       "array([ 0.11662795,  0.03063017,  0.16759964,  0.00407409,  0.02923484,\n",
       "        0.04488525,  0.05319541,  0.02766469,  0.01552473,  0.10823343,\n",
       "        0.02899416,  0.03352382,  0.00797658,  0.09358678,  0.1293143 ,\n",
       "        0.10893415])"
      ]
     },
     "execution_count": 23,
     "metadata": {},
     "output_type": "execute_result"
    }
   ],
   "source": [
    "rf.feature_importances_"
   ]
  },
  {
   "cell_type": "code",
   "execution_count": 24,
   "metadata": {
    "collapsed": true
   },
   "outputs": [],
   "source": [
    "forest = rf\n",
    "import numpy as np\n",
    "import matplotlib.pyplot as plt\n",
    "X=X_train"
   ]
  },
  {
   "cell_type": "markdown",
   "metadata": {},
   "source": [
    "### feature importance"
   ]
  },
  {
   "cell_type": "code",
   "execution_count": 45,
   "metadata": {},
   "outputs": [
    {
     "data": {
      "image/png": "[encoded data removed]",
      "text/plain": [
       "<matplotlib.figure.Figure at 0x7f318ad8e590>"
      ]
     },
     "metadata": {},
     "output_type": "display_data"
    },
    {
     "name": "stdout",
     "output_type": "stream",
     "text": [
      "Feature ranking:\n",
      "1. feature zip (16.76 %)\n",
      "2. feature day (12.93 %)\n",
      "3. feature city (11.66 %)\n",
      "4. feature hour (10.89 %)\n",
      "5. feature landing_page (10.82 %)\n",
      "6. feature month (9.36 %)\n",
      "7. feature company (5.32 %)\n",
      "8. feature service_type (4.49 %)\n",
      "9. feature previous_page (3.35 %)\n",
      "10. feature state (3.06 %)\n",
      "11. feature association (2.92 %)\n",
      "12. feature contact_page (2.90 %)\n",
      "13. feature campaign (2.77 %)\n",
      "14. feature is_mobile (1.55 %)\n",
      "15. feature call_status (0.80 %)\n",
      "16. feature type (0.41 %)\n"
     ]
    }
   ],
   "source": [
    "importances = forest.feature_importances_\n",
    "std = np.std([tree.feature_importances_ for tree in forest.estimators_],\n",
    "             axis=0)\n",
    "indices = np.argsort(importances)[::-1]\n",
    "\n",
    "\n",
    "\n",
    "# Plot the feature importances of the forest\n",
    "plt.figure(figsize=(16,8))\n",
    "plt.title(\"Feature importances\")\n",
    "plt.barh(range(X.shape[1]), importances[indices],\n",
    "       color=\"r\", xerr=std[indices], \n",
    "        align=\"center\", alpha=.7)\n",
    "\n",
    "plt.yticks(range(X.shape[1]), list(X.columns[indices]))\n",
    "plt.ylim([-1, X.shape[1]])\n",
    "\n",
    "plt.gca().invert_yaxis()\n",
    "\n",
    "plt.show()\n",
    "\n",
    "# Print the feature ranking\n",
    "print(\"Feature ranking:\")\n",
    "for f in range(X.shape[1]):\n",
    "    print(\"{}. feature {} ({:.2f} %)\" .format (f + 1, X.columns[indices[f]], 100*importances[indices[f]]))"
   ]
  },
  {
   "cell_type": "markdown",
   "metadata": {},
   "source": [
    "### cross validation"
   ]
  },
  {
   "cell_type": "code",
   "execution_count": 46,
   "metadata": {},
   "outputs": [
    {
     "data": {
      "text/plain": [
       "array([ 0.70941937,  0.54113939,  0.66500511,  0.65254339,  0.61876814,\n",
       "        0.60713137,  0.55130246,  0.45880367,  0.5588921 ,  0.62875864])"
      ]
     },
     "execution_count": 46,
     "metadata": {},
     "output_type": "execute_result"
    }
   ],
   "source": [
    "cross_val_score(rf, df.values, mark.values, cv=10)"
   ]
  },
  {
   "cell_type": "markdown",
   "metadata": {},
   "source": [
    "### pred by prob"
   ]
  },
  {
   "cell_type": "code",
   "execution_count": 47,
   "metadata": {},
   "outputs": [
    {
     "data": {
      "text/plain": [
       "array([[ 0.6,  0.4],\n",
       "       [ 0. ,  1. ],\n",
       "       [ 0.3,  0.7],\n",
       "       ..., \n",
       "       [ 0. ,  1. ],\n",
       "       [ 0.2,  0.8],\n",
       "       [ 0.5,  0.5]])"
      ]
     },
     "execution_count": 47,
     "metadata": {},
     "output_type": "execute_result"
    }
   ],
   "source": [
    "rf.predict_proba(X_test)"
   ]
  },
  {
   "cell_type": "code",
   "execution_count": 49,
   "metadata": {},
   "outputs": [
    {
     "data": {
      "text/plain": [
       "array([0, 1, 1, ..., 1, 1, 0])"
      ]
     },
     "execution_count": 49,
     "metadata": {},
     "output_type": "execute_result"
    }
   ],
   "source": [
    "pred"
   ]
  },
  {
   "cell_type": "code",
   "execution_count": null,
   "metadata": {
    "collapsed": true
   },
   "outputs": [],
   "source": []
  }
 ],
 "metadata": {
  "kernelspec": {
   "display_name": "Python 2",
   "language": "python",
   "name": "python2"
  },
  "language_info": {
   "codemirror_mode": {
    "name": "ipython",
    "version": 2
   },
   "file_extension": ".py",
   "mimetype": "text/x-python",
   "name": "python",
   "nbconvert_exporter": "python",
   "pygments_lexer": "ipython2",
   "version": "2.7.13"
  }
 },
 "nbformat": 4,
 "nbformat_minor": 2
}
