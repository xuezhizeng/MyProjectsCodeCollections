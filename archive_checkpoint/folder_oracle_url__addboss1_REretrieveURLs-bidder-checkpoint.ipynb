{
 "cells": [
  {
   "cell_type": "code",
   "execution_count": 1,
   "metadata": {},
   "outputs": [
    {
     "name": "stdout",
     "output_type": "stream",
     "text": [
      "11.2.0.2.0\n"
     ]
    }
   ],
   "source": [
    "import pandas as pd\n",
    "import cx_Oracle\n",
    "import os\n",
    "import concurrent.futures\n",
    "\n",
    "import requests\n",
    "from lxml import etree\n",
    "from time import time, ctime\n",
    "\n",
    "db=cx_Oracle.connect(\"soyoung\", \"soyoung\", \"my.uconn.science:1521/xe\")\n",
    "print db.version\n",
    "conn=db.cursor()"
   ]
  },
  {
   "cell_type": "code",
   "execution_count": 2,
   "metadata": {},
   "outputs": [
    {
     "name": "stdout",
     "output_type": "stream",
     "text": [
      "create success\n"
     ]
    }
   ],
   "source": [
    "try:\n",
    "    conn.execute(\"drop table addboss1\")\n",
    "    db.commit()\n",
    "    print 'create success'\n",
    "except Exception as e:\n",
    "    print e"
   ]
  },
  {
   "cell_type": "code",
   "execution_count": 3,
   "metadata": {
    "collapsed": true
   },
   "outputs": [],
   "source": [
    "query=\"create table addboss1 (id number, url varchar2(1000), constraint addboss1_pk primary key(id))\""
   ]
  },
  {
   "cell_type": "code",
   "execution_count": 4,
   "metadata": {},
   "outputs": [
    {
     "name": "stdout",
     "output_type": "stream",
     "text": [
      "create success\n"
     ]
    }
   ],
   "source": [
    "try:\n",
    "    conn.execute(query)\n",
    "    db.commit()\n",
    "    print 'create success'\n",
    "except Exception as e:\n",
    "    print e"
   ]
  },
  {
   "cell_type": "code",
   "execution_count": 5,
   "metadata": {
    "collapsed": true
   },
   "outputs": [],
   "source": [
    "# !ls"
   ]
  },
  {
   "cell_type": "code",
   "execution_count": 6,
   "metadata": {
    "collapsed": true
   },
   "outputs": [],
   "source": [
    "folder='add_owner/'"
   ]
  },
  {
   "cell_type": "code",
   "execution_count": 7,
   "metadata": {},
   "outputs": [
    {
     "data": {
      "text/plain": [
       "23703"
      ]
     },
     "execution_count": 7,
     "metadata": {},
     "output_type": "execute_result"
    }
   ],
   "source": [
    "cont = os.listdir(folder)\n",
    "len(cont)"
   ]
  },
  {
   "cell_type": "code",
   "execution_count": 8,
   "metadata": {},
   "outputs": [
    {
     "data": {
      "text/plain": [
       "'3657562.html'"
      ]
     },
     "execution_count": 8,
     "metadata": {},
     "output_type": "execute_result"
    }
   ],
   "source": [
    "cont[0]"
   ]
  },
  {
   "cell_type": "code",
   "execution_count": 9,
   "metadata": {
    "collapsed": true
   },
   "outputs": [],
   "source": [
    "fail=[]\n",
    "def one(ID):\n",
    "    with open(folder+str(ID),'r') as fl:\n",
    "        tex=fl.read()\n",
    "        test=etree.HTML(tex).xpath('//img[@class=\"profile-image-ImageThumbnail-image ImageThumbnail-image\"]/@src')\n",
    "        test3=etree.HTML(tex).xpath('//img[@itemprop=\"logo\"]/@src')\n",
    "        if test==test3:\n",
    "            if test==[]:\n",
    "                return ID, \"None\"\n",
    "            else:\n",
    "                return ID, test[0]\n",
    "        else:\n",
    "            print 'X'\n",
    "            print ID, test, test3\n",
    "            fail.append(ID)\n",
    "            return ID, 'fail'"
   ]
  },
  {
   "cell_type": "code",
   "execution_count": 23,
   "metadata": {},
   "outputs": [
    {
     "name": "stdout",
     "output_type": "stream",
     "text": [
      "14038181.html\n",
      "line 1893: Tag fl-modal-container invalid (line 1893)\n",
      "9574837.html\n",
      "line 1414: Tag header invalid (line 1414)\n",
      "11528629.html\n",
      "line 1893: Tag fl-modal-container invalid (line 1893)\n",
      "12066136.html\n",
      "line 1950: Tag fl-modal-container invalid (line 1950)\n"
     ]
    }
   ],
   "source": [
    "# n=0\n",
    "# for i in cont:\n",
    "#     n+=1\n",
    "#     try:\n",
    "#         one(i)\n",
    "#     except Exception as e:\n",
    "#         print i\n",
    "#         print e\n",
    "        "
   ]
  },
  {
   "cell_type": "code",
   "execution_count": 26,
   "metadata": {
    "collapsed": true
   },
   "outputs": [],
   "source": [
    "fail=[]\n",
    "pre='https://www.freelancer.com/users/'\n",
    "def getsingle(name):\n",
    "    global fail\n",
    "    try:\n",
    "        one=requests.get(pre+str(name)+'.html')\n",
    "        with open('add_owner/{}.html'.format(name), 'w+') as fl:\n",
    "            fl.write(one.text.encode('utf-8').strip())\n",
    "        \n",
    "    except Exception as e:\n",
    "        print e\n",
    "#         print 'X',\n",
    "        fail.append(name)\n",
    "#         print 'O',\n",
    "#     return fail"
   ]
  },
  {
   "cell_type": "code",
   "execution_count": 27,
   "metadata": {},
   "outputs": [],
   "source": [
    "getsingle(14038181)"
   ]
  },
  {
   "cell_type": "code",
   "execution_count": 28,
   "metadata": {
    "collapsed": true
   },
   "outputs": [],
   "source": [
    "getsingle(9574837)"
   ]
  },
  {
   "cell_type": "code",
   "execution_count": 29,
   "metadata": {
    "collapsed": true
   },
   "outputs": [],
   "source": [
    "getsingle(11528629)"
   ]
  },
  {
   "cell_type": "code",
   "execution_count": 30,
   "metadata": {
    "collapsed": true
   },
   "outputs": [],
   "source": [
    "getsingle(12066136)"
   ]
  },
  {
   "cell_type": "code",
   "execution_count": null,
   "metadata": {
    "collapsed": true
   },
   "outputs": [],
   "source": []
  },
  {
   "cell_type": "code",
   "execution_count": 10,
   "metadata": {},
   "outputs": [
    {
     "data": {
      "text/plain": [
       "('3657562.html', '//cdn6.f-cdn.com/img/unknown.png')"
      ]
     },
     "execution_count": 10,
     "metadata": {},
     "output_type": "execute_result"
    }
   ],
   "source": [
    "one(cont[0])"
   ]
  },
  {
   "cell_type": "code",
   "execution_count": 11,
   "metadata": {},
   "outputs": [
    {
     "data": {
      "text/plain": [
       "'3657562'"
      ]
     },
     "execution_count": 11,
     "metadata": {},
     "output_type": "execute_result"
    }
   ],
   "source": [
    "one(cont[0])[0][:-5]"
   ]
  },
  {
   "cell_type": "code",
   "execution_count": 12,
   "metadata": {},
   "outputs": [
    {
     "name": "stdout",
     "output_type": "stream",
     "text": [
      "23703\n",
      "1000 : 9.23s | 2000 : 9.07s | 3000 : 8.90s | 4000 : 9.44s | 5000 : 9.20s | 6000 : 9.39s | 7000 : 9.27s | 8000 : 9.48s | 9000 : 9.42s | 10000 : 9.27s | 11000 : 9.14s | 12000 : 9.25s | 13000 : 9.43s | 14000 : 9.17s | 15000 : 9.34s | 16000 : 9.11s | 17000 : 9.18s | 18000 : 9.03s | 19000 : 9.11s | 20000 : 9.23s | 21000 : 9.22s | 22000 : 9.08s | 23000 : 8.74s |\n"
     ]
    }
   ],
   "source": [
    "failHTML=[]\n",
    "print len(cont)\n",
    "n=0\n",
    "start=time()\n",
    "for i in cont:\n",
    "    n+=1\n",
    "    try:\n",
    "    \n",
    "        tmp=one(i)\n",
    "        conn.execute(\"\"\"insert into addboss1 values({},'{}')\"\"\".format(tmp[0][:-5],tmp[-1]))\n",
    "    except:\n",
    "        print i\n",
    "        failHTML.append(i)\n",
    "    \n",
    "    if n%1000==0:\n",
    "        print n,':',\n",
    "        \n",
    "        print '{:.2f}s |'.format(time()-start),\n",
    "        start=time()\n",
    "        \n",
    "        db.commit()\n",
    "db.commit()"
   ]
  },
  {
   "cell_type": "code",
   "execution_count": 13,
   "metadata": {},
   "outputs": [],
   "source": [
    "failHTML=[]"
   ]
  },
  {
   "cell_type": "code",
   "execution_count": 117,
   "metadata": {
    "collapsed": true
   },
   "outputs": [],
   "source": [
    "db.commit()"
   ]
  },
  {
   "cell_type": "code",
   "execution_count": 119,
   "metadata": {},
   "outputs": [
    {
     "data": {
      "text/plain": [
       "[('timpears.html', '//cdn6.f-cdn.com/img/unknown.png'),\n",
       " ('emmat1707.html', '//cdn6.f-cdn.com/img/unknown.png'),\n",
       " ('pulsar77.html', '//cdn6.f-cdn.com/img/unknown.png'),\n",
       " ('seanfirth.html',\n",
       "  '//cdn3.f-cdn.com/ppic/56839106/logo/1537889/WCz7H/profile_logo_.jpg'),\n",
       " ('andtox.html', '//cdn6.f-cdn.com/img/unknown.png'),\n",
       " ('CoolProject.html', '//cdn6.f-cdn.com/img/unknown.png'),\n",
       " ('proga171078.html', '//cdn6.f-cdn.com/img/unknown.png'),\n",
       " ('goggy.html', '//cdn6.f-cdn.com/img/unknown.png'),\n",
       " ('mmc111.html', '//cdn6.f-cdn.com/img/unknown.png')]"
      ]
     },
     "execution_count": 119,
     "metadata": {},
     "output_type": "execute_result"
    }
   ],
   "source": [
    "conn.execute('select * from boss1 where rownum<10').fetchall()"
   ]
  },
  {
   "cell_type": "code",
   "execution_count": 121,
   "metadata": {
    "collapsed": true
   },
   "outputs": [],
   "source": [
    "db.commit()"
   ]
  },
  {
   "cell_type": "code",
   "execution_count": 130,
   "metadata": {},
   "outputs": [
    {
     "ename": "InterfaceError",
     "evalue": "not open",
     "output_type": "error",
     "traceback": [
      "\u001b[0;31m\u001b[0m",
      "\u001b[0;31mInterfaceError\u001b[0mTraceback (most recent call last)",
      "\u001b[0;32m<ipython-input-130-0d8b9bd62fd3>\u001b[0m in \u001b[0;36m<module>\u001b[0;34m()\u001b[0m\n\u001b[0;32m----> 1\u001b[0;31m \u001b[0mconn\u001b[0m\u001b[0;34m.\u001b[0m\u001b[0mexecute\u001b[0m\u001b[0;34m(\u001b[0m\u001b[0;34m'select count(*) from boss1'\u001b[0m\u001b[0;34m)\u001b[0m\u001b[0;34m.\u001b[0m\u001b[0mfetchall\u001b[0m\u001b[0;34m(\u001b[0m\u001b[0;34m)\u001b[0m\u001b[0;34m\u001b[0m\u001b[0m\n\u001b[0m",
      "\u001b[0;31mInterfaceError\u001b[0m: not open"
     ]
    }
   ],
   "source": [
    "conn.execute('select count(*) from boss1').fetchall()"
   ]
  },
  {
   "cell_type": "code",
   "execution_count": 128,
   "metadata": {
    "collapsed": true
   },
   "outputs": [],
   "source": [
    "conn.close()"
   ]
  },
  {
   "cell_type": "code",
   "execution_count": null,
   "metadata": {
    "collapsed": true
   },
   "outputs": [],
   "source": []
  }
 ],
 "metadata": {
  "kernelspec": {
   "display_name": "Python 2",
   "language": "python",
   "name": "python2"
  },
  "language_info": {
   "codemirror_mode": {
    "name": "ipython",
    "version": 2
   },
   "file_extension": ".py",
   "mimetype": "text/x-python",
   "name": "python",
   "nbconvert_exporter": "python",
   "pygments_lexer": "ipython2",
   "version": "2.7.13"
  }
 },
 "nbformat": 4,
 "nbformat_minor": 2
}
