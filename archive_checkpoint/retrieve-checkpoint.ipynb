{
 "cells": [
  {
   "cell_type": "code",
   "execution_count": 65,
   "metadata": {},
   "outputs": [
    {
     "name": "stdout",
     "output_type": "stream",
     "text": [
      "11.2.0.2.0\n"
     ]
    }
   ],
   "source": [
    "import concurrent.futures\n",
    "\n",
    "import requests\n",
    "from lxml import etree\n",
    "from time import time, ctime\n",
    "\n",
    "import pandas as pd\n",
    "import cx_Oracle\n",
    "\n",
    "\n",
    "\n",
    "db=cx_Oracle.connect(\"soyoung\", \"soyoung\", \"my.uconn.science:1521/xe\")\n",
    "print db.version\n",
    "conn=db.cursor()\n",
    "\n",
    "try:\n",
    "    conn.execute(\"create table sixfive \\\n",
    "             (ID int not null, urls varchar2(4000), get_time varchar2(50), ellipse number, \\\n",
    "             constraint col_pk primary key (ID))\")\n",
    "    db.commit()\n",
    "except:\n",
    "    print 'table exists'\n",
    "def single((ID, url)):\n",
    "    start=time()\n",
    "    content=etree.HTML(requests.get(url, timeout=60).text).xpath('//div[@class=\"c\"]//*[@title]/@src')\n",
    "    save.append([ID, content, ctime()[4:], '{:.2f}'.format(time()-start)])\n"
   ]
  },
  {
   "cell_type": "code",
   "execution_count": 66,
   "metadata": {},
   "outputs": [
    {
     "name": "stdout",
     "output_type": "stream",
     "text": [
      "(210467, 10)\n"
     ]
    },
    {
     "data": {
      "text/plain": [
       "210467"
      ]
     },
     "execution_count": 66,
     "metadata": {},
     "output_type": "execute_result"
    }
   ],
   "source": [
    "df=pd.read_csv('post_url.csv')\n",
    "print df.shape\n",
    "\n",
    "urls = zip(df['id'], df['post_url'])\n",
    "len(urls)"
   ]
  },
  {
   "cell_type": "code",
   "execution_count": 67,
   "metadata": {},
   "outputs": [
    {
     "data": {
      "text/plain": [
       "[(607843, 'http://www.soyoung.com/p12360175'),\n",
       " (607844, 'http://www.soyoung.com/p10127503'),\n",
       " (607845, 'http://www.soyoung.com/p7615001'),\n",
       " (607846, 'http://www.soyoung.com/p6941462'),\n",
       " (607847, 'http://www.soyoung.com/p6316803'),\n",
       " (607848, 'http://www.soyoung.com/p6280163'),\n",
       " (607849, 'http://www.soyoung.com/p6226179'),\n",
       " (607850, 'http://www.soyoung.com/p6208127'),\n",
       " (607851, 'http://www.soyoung.com/p6183393'),\n",
       " (607852, 'http://www.soyoung.com/p6171462')]"
      ]
     },
     "execution_count": 67,
     "metadata": {},
     "output_type": "execute_result"
    }
   ],
   "source": [
    "sub=urls[:10]\n",
    "sub"
   ]
  },
  {
   "cell_type": "code",
   "execution_count": 79,
   "metadata": {},
   "outputs": [],
   "source": [
    "\n",
    "# save=[]\n",
    "# with concurrent.futures.ThreadPoolExecutor(max_workers=8) as executor:\n",
    "#     executor.map(single, sub)\n",
    "    \n",
    "for i in save:\n",
    "    \n",
    "    conn.execute(\"insert into sixfive (ID, urls, get_time, ellipse) \\\n",
    "    values ({},'{}','{}',{})\".format(i[0], str(i[1]).replace(\"'\",\"\"), i[2], i[3]))\n",
    "\n",
    "db.commit()"
   ]
  },
  {
   "cell_type": "code",
   "execution_count": 77,
   "metadata": {},
   "outputs": [
    {
     "name": "stdout",
     "output_type": "stream",
     "text": [
      "insert into sixfive values (607844,'[http://img2.soyoung.com/tieba/ios/20161204/3/20161204100322806_570.jpg]','Aug 30 14:43:14 2017',1.55)\n"
     ]
    }
   ],
   "source": [
    "for i in save:\n",
    "    print \"insert into sixfive values ({},'{}','{}',{})\".format(i[0], str(i[1]).replace(\"'\",\"\"), i[2], i[3])\n",
    "    break"
   ]
  },
  {
   "cell_type": "code",
   "execution_count": 80,
   "metadata": {},
   "outputs": [
    {
     "name": "stdout",
     "output_type": "stream",
     "text": [
      "607844 ['http://img2.soyoung.com/tieba/ios/20161204/3/20161204100322806_570.jpg'] Aug 30 14:43:14 2017 1.55\n"
     ]
    }
   ],
   "source": [
    "for i in save:\n",
    "    print i[0], i[1],i[2],i[3]\n",
    "    break"
   ]
  },
  {
   "cell_type": "code",
   "execution_count": null,
   "metadata": {
    "collapsed": true
   },
   "outputs": [],
   "source": []
  },
  {
   "cell_type": "code",
   "execution_count": 81,
   "metadata": {},
   "outputs": [
    {
     "data": {
      "text/plain": [
       "10"
      ]
     },
     "execution_count": 81,
     "metadata": {},
     "output_type": "execute_result"
    }
   ],
   "source": [
    "conn.execute('select urls from sixfive')\n",
    "a=conn.fetchall()\n",
    "len(a)"
   ]
  },
  {
   "cell_type": "code",
   "execution_count": 93,
   "metadata": {},
   "outputs": [
    {
     "name": "stdout",
     "output_type": "stream",
     "text": [
      "http://img2.soyoung.com/tieba/ios/20161204/3/20161204100322806_570.jpg]\n",
      "http://img2.soyoung.com/tieba/ios/20160310/0/20160310153903246_570.jpg, http://img2.soyoung.com/tieba/ios/20160310/2/20160310153903414_570.jpg]\n",
      "http://img2.soyoung.com/tieba/ios/20170502/9/20170502234455472_570.jpg, http://img2.soyoung.com/tieba/ios/20170502/7/20170502234455783_570.jpg, http://img2.soyoung.com/tieba/ios/20170502/7/20170502234455758_570.jpg]\n",
      "http://img2.soyoung.com/tieba/ios/20160309/1/20160309095310887_570.jpg, http://img2.soyoung.com/tieba/ios/20160309/7/20160309095310467_570.jpg]\n",
      "http://img2.soyoung.com/tieba/ios/20160316/4/20160316232922652_570.jpg, http://img2.soyoung.com/tieba/ios/20160316/8/20160316232924219_570.jpg]\n",
      "http://img2.soyoung.com/tieba/ios/20160306/4/20160306201609158_570.jpg, http://img2.soyoung.com/tieba/ios/20160306/9/20160306201606674_570.jpg, http://img2.soyoung.com/tieba/ios/20160306/4/20160306201630951_570.jpg]\n",
      "http://img2.soyoung.com/tieba/ios/20160307/2/20160307161403784_570.jpg, http://img2.soyoung.com/tieba/ios/20160307/1/20160307161349544_570.jpg, http://img2.soyoung.com/tieba/ios/20160307/2/20160307161356626_570.jpg]\n",
      "http://img2.soyoung.com/tieba/ios/20160615/9/20160615125456426_570.jpg, http://img2.soyoung.com/tieba/ios/20160615/7/20160615125456910_570.jpg]\n",
      "http://img2.soyoung.com/tieba/ios/20160429/3/20160429155505802_570.jpg]\n",
      "http://img2.soyoung.com/tieba/ios/20160314/6/20160314102854469_570.jpg]\n"
     ]
    }
   ],
   "source": [
    "for i in a:\n",
    "    for k in i:\n",
    "        print k.strip('[')"
   ]
  },
  {
   "cell_type": "code",
   "execution_count": null,
   "metadata": {
    "collapsed": true
   },
   "outputs": [],
   "source": []
  }
 ],
 "metadata": {
  "kernelspec": {
   "display_name": "Python 2",
   "language": "python",
   "name": "python2"
  },
  "language_info": {
   "codemirror_mode": {
    "name": "ipython",
    "version": 2
   },
   "file_extension": ".py",
   "mimetype": "text/x-python",
   "name": "python",
   "nbconvert_exporter": "python",
   "pygments_lexer": "ipython2",
   "version": "2.7.13"
  }
 },
 "nbformat": 4,
 "nbformat_minor": 2
}
