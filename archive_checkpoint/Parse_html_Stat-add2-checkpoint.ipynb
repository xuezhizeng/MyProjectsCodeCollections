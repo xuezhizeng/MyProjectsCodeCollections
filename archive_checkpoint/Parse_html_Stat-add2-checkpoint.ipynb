{
 "cells": [
  {
   "cell_type": "markdown",
   "metadata": {},
   "source": [
    "https://hub.docker.com/r/sath89/oracle-12c/"
   ]
  },
  {
   "cell_type": "markdown",
   "metadata": {
    "collapsed": true
   },
   "source": [
    "https://hub.docker.com/_/mysql/"
   ]
  },
  {
   "cell_type": "markdown",
   "metadata": {},
   "source": [
    "https://stackoverflow.com/questions/8858008/how-to-move-a-file-in-python"
   ]
  },
  {
   "cell_type": "code",
   "execution_count": 1,
   "metadata": {
    "collapsed": true
   },
   "outputs": [],
   "source": [
    "# encoding=utf8\n",
    "# import sys\n",
    "# reload(sys)\n",
    "# sys.setdefaultencoding('utf8')\n",
    "\n",
    "import pandas as pd\n",
    "import os\n",
    "from time import time, ctime\n",
    "\n",
    "import concurrent.futures\n",
    "\n",
    "from lxml import etree\n",
    "import json\n",
    "import re\n"
   ]
  },
  {
   "cell_type": "code",
   "execution_count": 4,
   "metadata": {},
   "outputs": [
    {
     "name": "stdout",
     "output_type": "stream",
     "text": [
      "add_bidder\r\n",
      "addbidderPics\r\n",
      "addbidder_urls.csv\r\n",
      "addbossPics\r\n",
      "addboss_urls.csv\r\n",
      "add_owner\r\n",
      "addtional\r\n",
      "Parse_html_Stat-add1.ipynb\r\n",
      "pic_down_func-add1.ipynb\r\n",
      "pic_down_func-add2.ipynb\r\n"
     ]
    }
   ],
   "source": [
    "!ls|grep add"
   ]
  },
  {
   "cell_type": "code",
   "execution_count": 3,
   "metadata": {},
   "outputs": [
    {
     "name": "stdout",
     "output_type": "stream",
     "text": [
      "/home/soyoung/face/Freelancer\r\n"
     ]
    }
   ],
   "source": [
    "!pwd"
   ]
  },
  {
   "cell_type": "code",
   "execution_count": 5,
   "metadata": {},
   "outputs": [
    {
     "data": {
      "text/plain": [
       "23703"
      ]
     },
     "execution_count": 5,
     "metadata": {},
     "output_type": "execute_result"
    }
   ],
   "source": [
    "# path='technosystem.html'\n",
    "\n",
    "folder='add_owner/'\n",
    "cont = os.listdir(folder)\n",
    "len(cont)"
   ]
  },
  {
   "cell_type": "code",
   "execution_count": 6,
   "metadata": {
    "collapsed": true
   },
   "outputs": [],
   "source": [
    "def flatten_dict(data, layers=1, drop_deeper=False):\n",
    "\n",
    "        for _ in range(layers):\n",
    "            data = [(k, v) if not isinstance(v, dict) else [(k + '.' + k2, v2) for k2, v2 in v.items()] for k, v in\n",
    "                    data.items()]\n",
    "            data = [item for sublist in data for item in sublist if isinstance(sublist, list)] + [y for y in data if\n",
    "                                                                                                  not isinstance(y,\n",
    "                                                                                                                 list)]\n",
    "            data = dict(data)\n",
    "\n",
    "        if drop_deeper:\n",
    "            data = {k: v for k, v in data.items() if not isinstance(v, dict) or isinstance(v, list)}\n",
    "\n",
    "        return data"
   ]
  },
  {
   "cell_type": "code",
   "execution_count": 7,
   "metadata": {
    "collapsed": true
   },
   "outputs": [],
   "source": [
    "failed_names=[]\n",
    "\n",
    "def get_columns(path):\n",
    "    global failed_names\n",
    "    get=[]\n",
    "    \n",
    "    with open(folder+path,'r') as fl:\n",
    "        text=fl.read()\n",
    "        tree=etree.HTML(text)\n",
    "    try:\n",
    "        script = tree.xpath('//script')[-1]\n",
    "        data = re.search(r\"__export\\('profileServerData',(.*?)\\n\", script.text)        \n",
    "        jsondata=data.group(1)[:-2]\n",
    "        \n",
    "        json_dict = json.loads(jsondata)\n",
    "        flat = flatten_dict(json_dict, layers=1)\n",
    "        names = flat.keys()\n",
    "        return names\n",
    "    except Exception as e:\n",
    "        failed_names.append(path)\n",
    "        return []\n",
    "\n",
    "    "
   ]
  },
  {
   "cell_type": "code",
   "execution_count": 8,
   "metadata": {
    "collapsed": true
   },
   "outputs": [],
   "source": [
    "from collections import defaultdict\n",
    "stat = defaultdict(int)"
   ]
  },
  {
   "cell_type": "code",
   "execution_count": 9,
   "metadata": {},
   "outputs": [
    {
     "name": "stdout",
     "output_type": "stream",
     "text": [
      "CPU times: user 1min 42s, sys: 1.46 s, total: 1min 44s\n",
      "Wall time: 1min 58s\n"
     ]
    }
   ],
   "source": [
    "%%time\n",
    "for i in cont:\n",
    "    for k in get_columns(i):\n",
    "        stat[k]+=1\n",
    "len(stat),len(failed_names)"
   ]
  },
  {
   "cell_type": "code",
   "execution_count": 10,
   "metadata": {},
   "outputs": [
    {
     "data": {
      "text/plain": [
       "(73, 4325)"
      ]
     },
     "execution_count": 10,
     "metadata": {},
     "output_type": "execute_result"
    }
   ],
   "source": [
    "len(stat),len(failed_names)"
   ]
  },
  {
   "cell_type": "code",
   "execution_count": null,
   "metadata": {
    "collapsed": true
   },
   "outputs": [],
   "source": []
  },
  {
   "cell_type": "code",
   "execution_count": 11,
   "metadata": {},
   "outputs": [
    {
     "data": {
      "text/plain": [
       "(73,)"
      ]
     },
     "execution_count": 11,
     "metadata": {},
     "output_type": "execute_result"
    }
   ],
   "source": [
    "col = pd.Series(stat.values(), index=stat.keys())\n",
    "col.shape"
   ]
  },
  {
   "cell_type": "code",
   "execution_count": 12,
   "metadata": {},
   "outputs": [
    {
     "data": {
      "text/plain": [
       "19378    72\n",
       "5602      1\n",
       "dtype: int64"
      ]
     },
     "execution_count": 12,
     "metadata": {},
     "output_type": "execute_result"
    }
   ],
   "source": [
    "col.value_counts()"
   ]
  },
  {
   "cell_type": "code",
   "execution_count": 13,
   "metadata": {},
   "outputs": [
    {
     "data": {
      "text/plain": [
       "hourlyRate               5602\n",
       "about.support_status    19378\n",
       "about.id                19378\n",
       "about.corporate         19378\n",
       "about.role              19378\n",
       "dtype: int64"
      ]
     },
     "execution_count": 13,
     "metadata": {},
     "output_type": "execute_result"
    }
   ],
   "source": [
    "col.sort_values(ascending=True).head()"
   ]
  },
  {
   "cell_type": "code",
   "execution_count": 14,
   "metadata": {},
   "outputs": [
    {
     "name": "stdout",
     "output_type": "stream",
     "text": [
      "['13574941.html', '9358100.html', '13083150.html']\n"
     ]
    },
    {
     "data": {
      "text/plain": [
       "4325"
      ]
     },
     "execution_count": 14,
     "metadata": {},
     "output_type": "execute_result"
    }
   ],
   "source": [
    "print failed_names[:3]\n",
    "len(failed_names)"
   ]
  },
  {
   "cell_type": "code",
   "execution_count": 15,
   "metadata": {
    "collapsed": true
   },
   "outputs": [],
   "source": [
    "try:\n",
    "    os.mkdir(folder+'NoJson')\n",
    "except:\n",
    "    print 'exists'"
   ]
  },
  {
   "cell_type": "code",
   "execution_count": 16,
   "metadata": {},
   "outputs": [
    {
     "name": "stdout",
     "output_type": "stream",
     "text": [
      "      0       0       0\r\n"
     ]
    }
   ],
   "source": [
    "!ls {folder}'NoJson'|wc"
   ]
  },
  {
   "cell_type": "code",
   "execution_count": 17,
   "metadata": {
    "collapsed": true
   },
   "outputs": [],
   "source": [
    "import shutil"
   ]
  },
  {
   "cell_type": "code",
   "execution_count": 18,
   "metadata": {},
   "outputs": [
    {
     "name": "stdout",
     "output_type": "stream",
     "text": [
      "CPU times: user 44 ms, sys: 48 ms, total: 92 ms\n",
      "Wall time: 91.3 ms\n"
     ]
    }
   ],
   "source": [
    "%%time\n",
    "# os.rename(\"path/to/current/file.foo\", \"path/to/new/desination/for/file.foo\")\n",
    "for i in failed_names:\n",
    "    try:\n",
    "        shutil.move(folder+i, folder+'NoJson/')\n",
    "    except:\n",
    "        pass\n"
   ]
  },
  {
   "cell_type": "code",
   "execution_count": 19,
   "metadata": {},
   "outputs": [
    {
     "name": "stdout",
     "output_type": "stream",
     "text": [
      "   4325    4325   57349\r\n"
     ]
    }
   ],
   "source": [
    "!ls {folder}'NoJson'|wc"
   ]
  },
  {
   "cell_type": "code",
   "execution_count": 20,
   "metadata": {},
   "outputs": [
    {
     "name": "stdout",
     "output_type": "stream",
     "text": [
      "  19379   19379  255554\r\n"
     ]
    }
   ],
   "source": [
    "!ls {folder}|wc"
   ]
  },
  {
   "cell_type": "code",
   "execution_count": 21,
   "metadata": {
    "collapsed": true
   },
   "outputs": [],
   "source": [
    "col.to_csv('addboss.csv', header=['count'], index_label='name')"
   ]
  },
  {
   "cell_type": "code",
   "execution_count": 22,
   "metadata": {
    "collapsed": true
   },
   "outputs": [],
   "source": [
    "df1 = pd.read_csv('bidder1.csv').set_index('name')\n",
    "df2 = pd.read_csv('boss1.csv').set_index('name')\n",
    "df3 = pd.read_csv('addboss.csv').set_index('name')"
   ]
  },
  {
   "cell_type": "code",
   "execution_count": 23,
   "metadata": {},
   "outputs": [
    {
     "data": {
      "text/plain": [
       "((73, 1), (73, 1), (73, 1))"
      ]
     },
     "execution_count": 23,
     "metadata": {},
     "output_type": "execute_result"
    }
   ],
   "source": [
    "df1.shape, df2.shape, df3.shape"
   ]
  },
  {
   "cell_type": "code",
   "execution_count": 24,
   "metadata": {},
   "outputs": [
    {
     "data": {
      "text/html": [
       "<div>\n",
       "<style>\n",
       "    .dataframe thead tr:only-child th {\n",
       "        text-align: right;\n",
       "    }\n",
       "\n",
       "    .dataframe thead th {\n",
       "        text-align: left;\n",
       "    }\n",
       "\n",
       "    .dataframe tbody tr th {\n",
       "        vertical-align: top;\n",
       "    }\n",
       "</style>\n",
       "<table border=\"1\" class=\"dataframe\">\n",
       "  <thead>\n",
       "    <tr style=\"text-align: right;\">\n",
       "      <th></th>\n",
       "      <th>count</th>\n",
       "    </tr>\n",
       "    <tr>\n",
       "      <th>name</th>\n",
       "      <th></th>\n",
       "    </tr>\n",
       "  </thead>\n",
       "  <tbody>\n",
       "    <tr>\n",
       "      <th>abTests</th>\n",
       "      <td>85908</td>\n",
       "    </tr>\n",
       "    <tr>\n",
       "      <th>about.account_balances</th>\n",
       "      <td>85907</td>\n",
       "    </tr>\n",
       "    <tr>\n",
       "      <th>about.address</th>\n",
       "      <td>85907</td>\n",
       "    </tr>\n",
       "    <tr>\n",
       "      <th>about.avatar</th>\n",
       "      <td>85907</td>\n",
       "    </tr>\n",
       "    <tr>\n",
       "      <th>about.avatar_cdn</th>\n",
       "      <td>85907</td>\n",
       "    </tr>\n",
       "    <tr>\n",
       "      <th>about.avatar_large</th>\n",
       "      <td>85907</td>\n",
       "    </tr>\n",
       "    <tr>\n",
       "      <th>about.avatar_large_cdn</th>\n",
       "      <td>85907</td>\n",
       "    </tr>\n",
       "    <tr>\n",
       "      <th>about.badges</th>\n",
       "      <td>85907</td>\n",
       "    </tr>\n",
       "    <tr>\n",
       "      <th>about.chosen_role</th>\n",
       "      <td>85907</td>\n",
       "    </tr>\n",
       "    <tr>\n",
       "      <th>about.closed</th>\n",
       "      <td>85907</td>\n",
       "    </tr>\n",
       "    <tr>\n",
       "      <th>about.company</th>\n",
       "      <td>85907</td>\n",
       "    </tr>\n",
       "    <tr>\n",
       "      <th>about.corporate</th>\n",
       "      <td>85907</td>\n",
       "    </tr>\n",
       "    <tr>\n",
       "      <th>about.corporate_users</th>\n",
       "      <td>85907</td>\n",
       "    </tr>\n",
       "    <tr>\n",
       "      <th>about.cover_image</th>\n",
       "      <td>85907</td>\n",
       "    </tr>\n",
       "    <tr>\n",
       "      <th>about.display_name</th>\n",
       "      <td>85907</td>\n",
       "    </tr>\n",
       "    <tr>\n",
       "      <th>about.email</th>\n",
       "      <td>85907</td>\n",
       "    </tr>\n",
       "    <tr>\n",
       "      <th>about.employer_reputation</th>\n",
       "      <td>85907</td>\n",
       "    </tr>\n",
       "    <tr>\n",
       "      <th>about.endorsements</th>\n",
       "      <td>85907</td>\n",
       "    </tr>\n",
       "    <tr>\n",
       "      <th>about.first_name</th>\n",
       "      <td>85907</td>\n",
       "    </tr>\n",
       "    <tr>\n",
       "      <th>about.force_verify</th>\n",
       "      <td>85907</td>\n",
       "    </tr>\n",
       "    <tr>\n",
       "      <th>about.hourly_rate</th>\n",
       "      <td>85907</td>\n",
       "    </tr>\n",
       "    <tr>\n",
       "      <th>about.id</th>\n",
       "      <td>85907</td>\n",
       "    </tr>\n",
       "    <tr>\n",
       "      <th>about.is_active</th>\n",
       "      <td>85907</td>\n",
       "    </tr>\n",
       "    <tr>\n",
       "      <th>about.is_local</th>\n",
       "      <td>85907</td>\n",
       "    </tr>\n",
       "    <tr>\n",
       "      <th>about.jobs</th>\n",
       "      <td>85907</td>\n",
       "    </tr>\n",
       "    <tr>\n",
       "      <th>about.last_name</th>\n",
       "      <td>85907</td>\n",
       "    </tr>\n",
       "    <tr>\n",
       "      <th>about.limited_account</th>\n",
       "      <td>85907</td>\n",
       "    </tr>\n",
       "    <tr>\n",
       "      <th>about.location</th>\n",
       "      <td>85908</td>\n",
       "    </tr>\n",
       "    <tr>\n",
       "      <th>about.membership_package</th>\n",
       "      <td>85907</td>\n",
       "    </tr>\n",
       "    <tr>\n",
       "      <th>about.mobile_tracking</th>\n",
       "      <td>85907</td>\n",
       "    </tr>\n",
       "    <tr>\n",
       "      <th>...</th>\n",
       "      <td>...</td>\n",
       "    </tr>\n",
       "    <tr>\n",
       "      <th>about.search_languages</th>\n",
       "      <td>85907</td>\n",
       "    </tr>\n",
       "    <tr>\n",
       "      <th>about.spam_profile</th>\n",
       "      <td>85907</td>\n",
       "    </tr>\n",
       "    <tr>\n",
       "      <th>about.status</th>\n",
       "      <td>85907</td>\n",
       "    </tr>\n",
       "    <tr>\n",
       "      <th>about.support_status</th>\n",
       "      <td>85907</td>\n",
       "    </tr>\n",
       "    <tr>\n",
       "      <th>about.suspended</th>\n",
       "      <td>85907</td>\n",
       "    </tr>\n",
       "    <tr>\n",
       "      <th>about.tagline</th>\n",
       "      <td>85907</td>\n",
       "    </tr>\n",
       "    <tr>\n",
       "      <th>about.test_user</th>\n",
       "      <td>85907</td>\n",
       "    </tr>\n",
       "    <tr>\n",
       "      <th>about.timezone</th>\n",
       "      <td>85907</td>\n",
       "    </tr>\n",
       "    <tr>\n",
       "      <th>about.true_location</th>\n",
       "      <td>85907</td>\n",
       "    </tr>\n",
       "    <tr>\n",
       "      <th>about.user_id</th>\n",
       "      <td>85907</td>\n",
       "    </tr>\n",
       "    <tr>\n",
       "      <th>about.username</th>\n",
       "      <td>85907</td>\n",
       "    </tr>\n",
       "    <tr>\n",
       "      <th>about.username_sentence</th>\n",
       "      <td>85907</td>\n",
       "    </tr>\n",
       "    <tr>\n",
       "      <th>canViewEmployer</th>\n",
       "      <td>85908</td>\n",
       "    </tr>\n",
       "    <tr>\n",
       "      <th>hireMeCurrencyId</th>\n",
       "      <td>85908</td>\n",
       "    </tr>\n",
       "    <tr>\n",
       "      <th>hourlyRate</th>\n",
       "      <td>51299</td>\n",
       "    </tr>\n",
       "    <tr>\n",
       "      <th>isLoggedIn</th>\n",
       "      <td>85908</td>\n",
       "    </tr>\n",
       "    <tr>\n",
       "      <th>isOwner</th>\n",
       "      <td>85908</td>\n",
       "    </tr>\n",
       "    <tr>\n",
       "      <th>isSupportAgent</th>\n",
       "      <td>85908</td>\n",
       "    </tr>\n",
       "    <tr>\n",
       "      <th>jobsLimit</th>\n",
       "      <td>85908</td>\n",
       "    </tr>\n",
       "    <tr>\n",
       "      <th>resume.certifications</th>\n",
       "      <td>85908</td>\n",
       "    </tr>\n",
       "    <tr>\n",
       "      <th>resume.education</th>\n",
       "      <td>85908</td>\n",
       "    </tr>\n",
       "    <tr>\n",
       "      <th>resume.exams</th>\n",
       "      <td>85908</td>\n",
       "    </tr>\n",
       "    <tr>\n",
       "      <th>resume.experience</th>\n",
       "      <td>85908</td>\n",
       "    </tr>\n",
       "    <tr>\n",
       "      <th>resume.publications</th>\n",
       "      <td>85908</td>\n",
       "    </tr>\n",
       "    <tr>\n",
       "      <th>resume.show</th>\n",
       "      <td>85908</td>\n",
       "    </tr>\n",
       "    <tr>\n",
       "      <th>skills</th>\n",
       "      <td>85908</td>\n",
       "    </tr>\n",
       "    <tr>\n",
       "      <th>timeOffset</th>\n",
       "      <td>85908</td>\n",
       "    </tr>\n",
       "    <tr>\n",
       "      <th>userId</th>\n",
       "      <td>85908</td>\n",
       "    </tr>\n",
       "    <tr>\n",
       "      <th>username</th>\n",
       "      <td>85908</td>\n",
       "    </tr>\n",
       "    <tr>\n",
       "      <th>viewer</th>\n",
       "      <td>85908</td>\n",
       "    </tr>\n",
       "  </tbody>\n",
       "</table>\n",
       "<p>73 rows × 1 columns</p>\n",
       "</div>"
      ],
      "text/plain": [
       "                           count\n",
       "name                            \n",
       "abTests                    85908\n",
       "about.account_balances     85907\n",
       "about.address              85907\n",
       "about.avatar               85907\n",
       "about.avatar_cdn           85907\n",
       "about.avatar_large         85907\n",
       "about.avatar_large_cdn     85907\n",
       "about.badges               85907\n",
       "about.chosen_role          85907\n",
       "about.closed               85907\n",
       "about.company              85907\n",
       "about.corporate            85907\n",
       "about.corporate_users      85907\n",
       "about.cover_image          85907\n",
       "about.display_name         85907\n",
       "about.email                85907\n",
       "about.employer_reputation  85907\n",
       "about.endorsements         85907\n",
       "about.first_name           85907\n",
       "about.force_verify         85907\n",
       "about.hourly_rate          85907\n",
       "about.id                   85907\n",
       "about.is_active            85907\n",
       "about.is_local             85907\n",
       "about.jobs                 85907\n",
       "about.last_name            85907\n",
       "about.limited_account      85907\n",
       "about.location             85908\n",
       "about.membership_package   85907\n",
       "about.mobile_tracking      85907\n",
       "...                          ...\n",
       "about.search_languages     85907\n",
       "about.spam_profile         85907\n",
       "about.status               85907\n",
       "about.support_status       85907\n",
       "about.suspended            85907\n",
       "about.tagline              85907\n",
       "about.test_user            85907\n",
       "about.timezone             85907\n",
       "about.true_location        85907\n",
       "about.user_id              85907\n",
       "about.username             85907\n",
       "about.username_sentence    85907\n",
       "canViewEmployer            85908\n",
       "hireMeCurrencyId           85908\n",
       "hourlyRate                 51299\n",
       "isLoggedIn                 85908\n",
       "isOwner                    85908\n",
       "isSupportAgent             85908\n",
       "jobsLimit                  85908\n",
       "resume.certifications      85908\n",
       "resume.education           85908\n",
       "resume.exams               85908\n",
       "resume.experience          85908\n",
       "resume.publications        85908\n",
       "resume.show                85908\n",
       "skills                     85908\n",
       "timeOffset                 85908\n",
       "userId                     85908\n",
       "username                   85908\n",
       "viewer                     85908\n",
       "\n",
       "[73 rows x 1 columns]"
      ]
     },
     "execution_count": 24,
     "metadata": {},
     "output_type": "execute_result"
    }
   ],
   "source": [
    "df1+df2+df3"
   ]
  },
  {
   "cell_type": "code",
   "execution_count": null,
   "metadata": {
    "collapsed": true
   },
   "outputs": [],
   "source": []
  },
  {
   "cell_type": "code",
   "execution_count": null,
   "metadata": {
    "collapsed": true
   },
   "outputs": [],
   "source": []
  },
  {
   "cell_type": "code",
   "execution_count": null,
   "metadata": {
    "collapsed": true
   },
   "outputs": [],
   "source": []
  },
  {
   "cell_type": "code",
   "execution_count": 68,
   "metadata": {
    "collapsed": true
   },
   "outputs": [],
   "source": [
    "# group=[]\n",
    "# def batch(batchfiles):\n",
    "#     global group\n",
    "#     group=[]\n",
    "#     start=time()\n",
    "#     with concurrent.futures.ThreadPoolExecutor(max_workers=8) as executor:\n",
    "#         executor.map(get_single, batchfiles)\n",
    "#     past='{:.2f}'.format(time()-start)\n",
    "#     now=ctime()[4:]\n",
    "\n",
    "#     print 'profiles ',len(batchfiles),'  used ',past,'s', now\n",
    "#     return group\n"
   ]
  },
  {
   "cell_type": "code",
   "execution_count": 74,
   "metadata": {},
   "outputs": [
    {
     "name": "stdout",
     "output_type": "stream",
     "text": [
      "profiles  2   used  0.02 s Sep 28 01:07:10 2017\n"
     ]
    },
    {
     "data": {
      "text/plain": [
       "2"
      ]
     },
     "execution_count": 74,
     "metadata": {},
     "output_type": "execute_result"
    }
   ],
   "source": [
    "len(batch(cont[:2]))"
   ]
  },
  {
   "cell_type": "code",
   "execution_count": 84,
   "metadata": {},
   "outputs": [
    {
     "name": "stdout",
     "output_type": "stream",
     "text": [
      "'NoneType' object has no attribute 'group'\n",
      "'NoneType' object has no attribute 'group'\n",
      "profiles  10   used  0.06 s Sep 28 01:08:03 2017\n"
     ]
    },
    {
     "data": {
      "text/plain": [
       "168"
      ]
     },
     "execution_count": 84,
     "metadata": {},
     "output_type": "execute_result"
    }
   ],
   "source": [
    "len(batch(cont[:10])[6])"
   ]
  },
  {
   "cell_type": "code",
   "execution_count": null,
   "metadata": {
    "collapsed": true
   },
   "outputs": [],
   "source": []
  }
 ],
 "metadata": {
  "kernelspec": {
   "display_name": "Python 2",
   "language": "python",
   "name": "python2"
  },
  "language_info": {
   "codemirror_mode": {
    "name": "ipython",
    "version": 2
   },
   "file_extension": ".py",
   "mimetype": "text/x-python",
   "name": "python",
   "nbconvert_exporter": "python",
   "pygments_lexer": "ipython2",
   "version": "2.7.13"
  }
 },
 "nbformat": 4,
 "nbformat_minor": 2
}
