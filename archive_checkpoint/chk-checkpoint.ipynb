{
 "cells": [
  {
   "cell_type": "code",
   "execution_count": 1,
   "metadata": {
    "collapsed": true
   },
   "outputs": [],
   "source": [
    "import pandas as pd\n",
    "import numpy as np"
   ]
  },
  {
   "cell_type": "code",
   "execution_count": 2,
   "metadata": {},
   "outputs": [
    {
     "data": {
      "text/plain": [
       "(209521, 129)"
      ]
     },
     "execution_count": 2,
     "metadata": {},
     "output_type": "execute_result"
    }
   ],
   "source": [
    "df = pd.read_csv('20WpicsPara.csv')\n",
    "df.shape"
   ]
  },
  {
   "cell_type": "code",
   "execution_count": 3,
   "metadata": {},
   "outputs": [
    {
     "data": {
      "text/html": [
       "<div>\n",
       "<style>\n",
       "    .dataframe thead tr:only-child th {\n",
       "        text-align: right;\n",
       "    }\n",
       "\n",
       "    .dataframe thead th {\n",
       "        text-align: left;\n",
       "    }\n",
       "\n",
       "    .dataframe tbody tr th {\n",
       "        vertical-align: top;\n",
       "    }\n",
       "</style>\n",
       "<table border=\"1\" class=\"dataframe\">\n",
       "  <thead>\n",
       "    <tr style=\"text-align: right;\">\n",
       "      <th></th>\n",
       "      <th>0</th>\n",
       "      <th>1</th>\n",
       "      <th>2</th>\n",
       "      <th>3</th>\n",
       "      <th>4</th>\n",
       "      <th>5</th>\n",
       "      <th>6</th>\n",
       "      <th>7</th>\n",
       "      <th>8</th>\n",
       "      <th>9</th>\n",
       "      <th>...</th>\n",
       "      <th>119</th>\n",
       "      <th>120</th>\n",
       "      <th>121</th>\n",
       "      <th>122</th>\n",
       "      <th>123</th>\n",
       "      <th>124</th>\n",
       "      <th>125</th>\n",
       "      <th>126</th>\n",
       "      <th>127</th>\n",
       "      <th>name</th>\n",
       "    </tr>\n",
       "  </thead>\n",
       "  <tbody>\n",
       "    <tr>\n",
       "      <th>0</th>\n",
       "      <td>0.011476</td>\n",
       "      <td>0.165126</td>\n",
       "      <td>-0.129640</td>\n",
       "      <td>0.016787</td>\n",
       "      <td>0.022167</td>\n",
       "      <td>0.051669</td>\n",
       "      <td>0.014077</td>\n",
       "      <td>0.017761</td>\n",
       "      <td>0.011484</td>\n",
       "      <td>0.137340</td>\n",
       "      <td>...</td>\n",
       "      <td>0.157795</td>\n",
       "      <td>-0.054396</td>\n",
       "      <td>-0.000642</td>\n",
       "      <td>-0.096280</td>\n",
       "      <td>0.126662</td>\n",
       "      <td>-0.005746</td>\n",
       "      <td>-0.006710</td>\n",
       "      <td>-0.089524</td>\n",
       "      <td>0.049204</td>\n",
       "      <td>sub_28/1aa1269cc4cd42aeb12fb6f83beb89f4.jpg</td>\n",
       "    </tr>\n",
       "    <tr>\n",
       "      <th>1</th>\n",
       "      <td>-0.003138</td>\n",
       "      <td>-0.094253</td>\n",
       "      <td>-0.074803</td>\n",
       "      <td>0.001642</td>\n",
       "      <td>0.080649</td>\n",
       "      <td>-0.065988</td>\n",
       "      <td>-0.029929</td>\n",
       "      <td>0.026139</td>\n",
       "      <td>0.026266</td>\n",
       "      <td>-0.024320</td>\n",
       "      <td>...</td>\n",
       "      <td>0.135359</td>\n",
       "      <td>-0.071909</td>\n",
       "      <td>0.113172</td>\n",
       "      <td>0.045211</td>\n",
       "      <td>0.141725</td>\n",
       "      <td>-0.033956</td>\n",
       "      <td>0.012183</td>\n",
       "      <td>-0.019442</td>\n",
       "      <td>0.013153</td>\n",
       "      <td>sub_28/1985782_13_102812_1.jpg</td>\n",
       "    </tr>\n",
       "    <tr>\n",
       "      <th>2</th>\n",
       "      <td>0.052159</td>\n",
       "      <td>0.078025</td>\n",
       "      <td>-0.058801</td>\n",
       "      <td>0.111056</td>\n",
       "      <td>0.011825</td>\n",
       "      <td>0.077016</td>\n",
       "      <td>0.018737</td>\n",
       "      <td>0.034417</td>\n",
       "      <td>0.029392</td>\n",
       "      <td>-0.014144</td>\n",
       "      <td>...</td>\n",
       "      <td>0.076519</td>\n",
       "      <td>-0.007938</td>\n",
       "      <td>0.055379</td>\n",
       "      <td>-0.049870</td>\n",
       "      <td>0.153607</td>\n",
       "      <td>0.078589</td>\n",
       "      <td>-0.073745</td>\n",
       "      <td>0.036184</td>\n",
       "      <td>0.064255</td>\n",
       "      <td>sub_28/1993968735118832174.jpg</td>\n",
       "    </tr>\n",
       "    <tr>\n",
       "      <th>3</th>\n",
       "      <td>-0.022384</td>\n",
       "      <td>0.050678</td>\n",
       "      <td>-0.026818</td>\n",
       "      <td>0.041654</td>\n",
       "      <td>0.046246</td>\n",
       "      <td>0.022148</td>\n",
       "      <td>0.001582</td>\n",
       "      <td>0.021008</td>\n",
       "      <td>0.024489</td>\n",
       "      <td>0.015352</td>\n",
       "      <td>...</td>\n",
       "      <td>0.152728</td>\n",
       "      <td>-0.050696</td>\n",
       "      <td>-0.020838</td>\n",
       "      <td>-0.068645</td>\n",
       "      <td>0.067528</td>\n",
       "      <td>-0.124348</td>\n",
       "      <td>0.097163</td>\n",
       "      <td>0.079192</td>\n",
       "      <td>0.057003</td>\n",
       "      <td>sub_28/195943d29ir441i444lhtr.jpg</td>\n",
       "    </tr>\n",
       "    <tr>\n",
       "      <th>4</th>\n",
       "      <td>0.059199</td>\n",
       "      <td>0.078390</td>\n",
       "      <td>-0.108855</td>\n",
       "      <td>0.071035</td>\n",
       "      <td>-0.007066</td>\n",
       "      <td>-0.000059</td>\n",
       "      <td>0.007308</td>\n",
       "      <td>-0.022881</td>\n",
       "      <td>-0.106324</td>\n",
       "      <td>0.033876</td>\n",
       "      <td>...</td>\n",
       "      <td>0.116259</td>\n",
       "      <td>-0.019002</td>\n",
       "      <td>0.083863</td>\n",
       "      <td>0.170860</td>\n",
       "      <td>0.019041</td>\n",
       "      <td>0.054721</td>\n",
       "      <td>0.044380</td>\n",
       "      <td>0.145403</td>\n",
       "      <td>-0.038084</td>\n",
       "      <td>sub_28/1dd0675b-b9d6-4cca-a03e-2134403a74a9_si...</td>\n",
       "    </tr>\n",
       "  </tbody>\n",
       "</table>\n",
       "<p>5 rows × 129 columns</p>\n",
       "</div>"
      ],
      "text/plain": [
       "          0         1         2         3         4         5         6  \\\n",
       "0  0.011476  0.165126 -0.129640  0.016787  0.022167  0.051669  0.014077   \n",
       "1 -0.003138 -0.094253 -0.074803  0.001642  0.080649 -0.065988 -0.029929   \n",
       "2  0.052159  0.078025 -0.058801  0.111056  0.011825  0.077016  0.018737   \n",
       "3 -0.022384  0.050678 -0.026818  0.041654  0.046246  0.022148  0.001582   \n",
       "4  0.059199  0.078390 -0.108855  0.071035 -0.007066 -0.000059  0.007308   \n",
       "\n",
       "          7         8         9  \\\n",
       "0  0.017761  0.011484  0.137340   \n",
       "1  0.026139  0.026266 -0.024320   \n",
       "2  0.034417  0.029392 -0.014144   \n",
       "3  0.021008  0.024489  0.015352   \n",
       "4 -0.022881 -0.106324  0.033876   \n",
       "\n",
       "                         ...                               119       120  \\\n",
       "0                        ...                          0.157795 -0.054396   \n",
       "1                        ...                          0.135359 -0.071909   \n",
       "2                        ...                          0.076519 -0.007938   \n",
       "3                        ...                          0.152728 -0.050696   \n",
       "4                        ...                          0.116259 -0.019002   \n",
       "\n",
       "        121       122       123       124       125       126       127  \\\n",
       "0 -0.000642 -0.096280  0.126662 -0.005746 -0.006710 -0.089524  0.049204   \n",
       "1  0.113172  0.045211  0.141725 -0.033956  0.012183 -0.019442  0.013153   \n",
       "2  0.055379 -0.049870  0.153607  0.078589 -0.073745  0.036184  0.064255   \n",
       "3 -0.020838 -0.068645  0.067528 -0.124348  0.097163  0.079192  0.057003   \n",
       "4  0.083863  0.170860  0.019041  0.054721  0.044380  0.145403 -0.038084   \n",
       "\n",
       "                                                name  \n",
       "0        sub_28/1aa1269cc4cd42aeb12fb6f83beb89f4.jpg  \n",
       "1                     sub_28/1985782_13_102812_1.jpg  \n",
       "2                     sub_28/1993968735118832174.jpg  \n",
       "3                  sub_28/195943d29ir441i444lhtr.jpg  \n",
       "4  sub_28/1dd0675b-b9d6-4cca-a03e-2134403a74a9_si...  \n",
       "\n",
       "[5 rows x 129 columns]"
      ]
     },
     "execution_count": 3,
     "metadata": {},
     "output_type": "execute_result"
    }
   ],
   "source": [
    "df.head()"
   ]
  },
  {
   "cell_type": "code",
   "execution_count": 7,
   "metadata": {},
   "outputs": [],
   "source": [
    "data = df.iloc[:,:-1]"
   ]
  },
  {
   "cell_type": "code",
   "execution_count": 10,
   "metadata": {},
   "outputs": [],
   "source": [
    "# data.iloc[0]"
   ]
  },
  {
   "cell_type": "code",
   "execution_count": 17,
   "metadata": {},
   "outputs": [
    {
     "data": {
      "text/plain": [
       "(209521, 128)"
      ]
     },
     "execution_count": 17,
     "metadata": {},
     "output_type": "execute_result"
    }
   ],
   "source": [
    "data.shape"
   ]
  },
  {
   "cell_type": "code",
   "execution_count": 32,
   "metadata": {},
   "outputs": [
    {
     "data": {
      "text/plain": [
       "0.088387733153790837"
      ]
     },
     "execution_count": 32,
     "metadata": {},
     "output_type": "execute_result"
    }
   ],
   "source": [
    "# %%timeit\n",
    "np.std([data.iloc[0], data.iloc[1]])"
   ]
  },
  {
   "cell_type": "code",
   "execution_count": 38,
   "metadata": {},
   "outputs": [],
   "source": [
    "# %%time\n",
    "# for i in range(data.shape[0]):\n",
    "#     if np.std([data.iloc[36361], data.iloc[i]])<0.05:\n",
    "#         print i, np.std([data.iloc[36361], data.iloc[i]])"
   ]
  },
  {
   "cell_type": "code",
   "execution_count": 35,
   "metadata": {},
   "outputs": [
    {
     "data": {
      "text/html": [
       "<div>\n",
       "<style>\n",
       "    .dataframe thead tr:only-child th {\n",
       "        text-align: right;\n",
       "    }\n",
       "\n",
       "    .dataframe thead th {\n",
       "        text-align: left;\n",
       "    }\n",
       "\n",
       "    .dataframe tbody tr th {\n",
       "        vertical-align: top;\n",
       "    }\n",
       "</style>\n",
       "<table border=\"1\" class=\"dataframe\">\n",
       "  <thead>\n",
       "    <tr style=\"text-align: right;\">\n",
       "      <th></th>\n",
       "      <th>0</th>\n",
       "      <th>1</th>\n",
       "      <th>2</th>\n",
       "      <th>3</th>\n",
       "      <th>4</th>\n",
       "      <th>5</th>\n",
       "      <th>6</th>\n",
       "      <th>7</th>\n",
       "      <th>8</th>\n",
       "      <th>9</th>\n",
       "      <th>...</th>\n",
       "      <th>119</th>\n",
       "      <th>120</th>\n",
       "      <th>121</th>\n",
       "      <th>122</th>\n",
       "      <th>123</th>\n",
       "      <th>124</th>\n",
       "      <th>125</th>\n",
       "      <th>126</th>\n",
       "      <th>127</th>\n",
       "      <th>name</th>\n",
       "    </tr>\n",
       "  </thead>\n",
       "  <tbody>\n",
       "    <tr>\n",
       "      <th>36361</th>\n",
       "      <td>0.045286</td>\n",
       "      <td>0.189491</td>\n",
       "      <td>0.012533</td>\n",
       "      <td>0.113205</td>\n",
       "      <td>-0.04042</td>\n",
       "      <td>0.074714</td>\n",
       "      <td>-0.017322</td>\n",
       "      <td>0.006159</td>\n",
       "      <td>0.057158</td>\n",
       "      <td>0.045895</td>\n",
       "      <td>...</td>\n",
       "      <td>0.066937</td>\n",
       "      <td>0.006078</td>\n",
       "      <td>0.063212</td>\n",
       "      <td>-0.053941</td>\n",
       "      <td>0.147512</td>\n",
       "      <td>0.153599</td>\n",
       "      <td>-0.098349</td>\n",
       "      <td>0.089263</td>\n",
       "      <td>0.026891</td>\n",
       "      <td>sub_37/20141005051559961.jpg</td>\n",
       "    </tr>\n",
       "  </tbody>\n",
       "</table>\n",
       "<p>1 rows × 129 columns</p>\n",
       "</div>"
      ],
      "text/plain": [
       "              0         1         2         3        4         5         6  \\\n",
       "36361  0.045286  0.189491  0.012533  0.113205 -0.04042  0.074714 -0.017322   \n",
       "\n",
       "              7         8         9              ...                    119  \\\n",
       "36361  0.006159  0.057158  0.045895              ...               0.066937   \n",
       "\n",
       "            120       121       122       123       124       125       126  \\\n",
       "36361  0.006078  0.063212 -0.053941  0.147512  0.153599 -0.098349  0.089263   \n",
       "\n",
       "            127                          name  \n",
       "36361  0.026891  sub_37/20141005051559961.jpg  \n",
       "\n",
       "[1 rows x 129 columns]"
      ]
     },
     "execution_count": 35,
     "metadata": {},
     "output_type": "execute_result"
    }
   ],
   "source": [
    "df[df['name']==\"sub_37/20141005051559961.jpg\"]"
   ]
  },
  {
   "cell_type": "code",
   "execution_count": 42,
   "metadata": {},
   "outputs": [
    {
     "data": {
      "text/plain": [
       "<function numpy.testing.utils.assert_almost_equal>"
      ]
     },
     "execution_count": 42,
     "metadata": {},
     "output_type": "execute_result"
    }
   ],
   "source": [
    "np.testing.assert_almost_equal"
   ]
  },
  {
   "cell_type": "code",
   "execution_count": 55,
   "metadata": {},
   "outputs": [],
   "source": [
    "pd.testing.assert_frame_equal?"
   ]
  },
  {
   "cell_type": "code",
   "execution_count": null,
   "metadata": {
    "collapsed": true
   },
   "outputs": [],
   "source": []
  },
  {
   "cell_type": "code",
   "execution_count": 75,
   "metadata": {},
   "outputs": [
    {
     "data": {
      "text/plain": [
       "Series([], dtype: float64)"
      ]
     },
     "execution_count": 75,
     "metadata": {},
     "output_type": "execute_result"
    }
   ],
   "source": [
    "tmp[tmp>1].head(1)"
   ]
  },
  {
   "cell_type": "code",
   "execution_count": 56,
   "metadata": {},
   "outputs": [],
   "source": [
    "from sklearn.metrics.pairwise import cosine_similarity\n"
   ]
  },
  {
   "cell_type": "code",
   "execution_count": 83,
   "metadata": {},
   "outputs": [
    {
     "name": "stdout",
     "output_type": "stream",
     "text": [
      "Wall time: 4min 55s\n"
     ]
    }
   ],
   "source": [
    "%%time\n",
    "delete=[]\n",
    "for i in range(1000,2000):\n",
    "    precious=cosine_similarity(data.iloc[i].values.reshape(1,-1), data)\n",
    "    precious=pd.Series(precious[0])\n",
    "    \n",
    "    tmp=precious[precious>.99]\n",
    "    if len(tmp)>1:\n",
    "        delete.append(list(tmp.index))"
   ]
  },
  {
   "cell_type": "code",
   "execution_count": 84,
   "metadata": {},
   "outputs": [
    {
     "data": {
      "text/plain": [
       "[[1005, 47471],\n",
       " [1010, 194874],\n",
       " [1016, 8135, 102635],\n",
       " [1019, 73727, 75518],\n",
       " [1020, 205043],\n",
       " [1024, 81259],\n",
       " [1041, 178332],\n",
       " [1052, 45359],\n",
       " [1077, 142115, 146636],\n",
       " [1101, 25757, 38192, 56214, 65954, 84018],\n",
       " [1136, 48577],\n",
       " [1158, 160919],\n",
       " [1169, 164146],\n",
       " [1182, 39669],\n",
       " [1198, 160028],\n",
       " [1207, 191056, 199300],\n",
       " [1211, 47663, 173268],\n",
       " [1224, 31836, 92548, 127191],\n",
       " [1229, 3952, 208017],\n",
       " [1237, 14058, 164058],\n",
       " [1239, 35669],\n",
       " [1240, 20675, 46505, 49884, 68422, 68650, 80255, 163517],\n",
       " [105, 1249, 2484],\n",
       " [1255, 17356],\n",
       " [1262, 158057],\n",
       " [1271, 164571, 201870],\n",
       " [1282, 191470],\n",
       " [1298, 35382, 42901, 45642, 119524],\n",
       " [1308, 75024],\n",
       " [1313, 149985],\n",
       " [1318, 155724, 176554],\n",
       " [1329, 167591],\n",
       " [1333, 199862],\n",
       " [1351, 77330, 90260, 105192, 159768, 178168],\n",
       " [1353, 22934],\n",
       " [1356, 147625],\n",
       " [1368, 74400],\n",
       " [1389, 138081],\n",
       " [1429, 194664],\n",
       " [1440, 156322],\n",
       " [1445, 27828],\n",
       " [1467, 94404],\n",
       " [1478, 2692, 39938, 71363, 100955, 154743, 166931, 170464],\n",
       " [1483, 170426],\n",
       " [1488, 97388],\n",
       " [1494,\n",
       "  13936,\n",
       "  15216,\n",
       "  19644,\n",
       "  21621,\n",
       "  22539,\n",
       "  38184,\n",
       "  42437,\n",
       "  45063,\n",
       "  47639,\n",
       "  48166,\n",
       "  50003,\n",
       "  68681,\n",
       "  87690,\n",
       "  132837,\n",
       "  134669,\n",
       "  162904,\n",
       "  169307,\n",
       "  171553,\n",
       "  172157,\n",
       "  172388,\n",
       "  172832,\n",
       "  180310],\n",
       " [1517, 90412],\n",
       " [1527, 156808],\n",
       " [1531, 155325, 183005],\n",
       " [1541, 157484],\n",
       " [1548, 29794, 92941, 113666, 152321, 191923],\n",
       " [1559, 2991, 68753, 158326],\n",
       " [1563, 14536, 104386],\n",
       " [1570, 180398],\n",
       " [1580, 21706],\n",
       " [1592, 69266],\n",
       " [1595, 136130],\n",
       " [1602, 170911, 180707],\n",
       " [1616, 15197, 84562, 95273, 171451],\n",
       " [1618, 156073],\n",
       " [1635, 39778, 78695, 79534, 91321, 145786, 158460, 201231],\n",
       " [1663, 42989],\n",
       " [1667, 52598, 60464, 165323],\n",
       " [1669, 82553, 90817, 128740, 161838, 162523],\n",
       " [1696, 138331],\n",
       " [1701, 49119],\n",
       " [1714, 21118, 44098, 126145],\n",
       " [1725, 14058, 164058],\n",
       " [1734, 4884, 29234, 40135, 45313, 131339, 133036],\n",
       " [1747, 152872],\n",
       " [775, 1768],\n",
       " [1803, 2935],\n",
       " [1833, 195112],\n",
       " [1837, 145408],\n",
       " [1841, 7553, 11682, 20290],\n",
       " [1843,\n",
       "  3281,\n",
       "  5561,\n",
       "  7994,\n",
       "  8232,\n",
       "  9714,\n",
       "  13898,\n",
       "  15221,\n",
       "  17898,\n",
       "  26445,\n",
       "  34445,\n",
       "  41579,\n",
       "  43383,\n",
       "  47765,\n",
       "  48192,\n",
       "  48373,\n",
       "  55572,\n",
       "  55716,\n",
       "  81026,\n",
       "  106398,\n",
       "  110366,\n",
       "  110675,\n",
       "  111092,\n",
       "  124472,\n",
       "  130556,\n",
       "  148355,\n",
       "  167114,\n",
       "  168272,\n",
       "  174881,\n",
       "  175772,\n",
       "  176746,\n",
       "  179400,\n",
       "  179806,\n",
       "  191088,\n",
       "  191380],\n",
       " [1887, 3388],\n",
       " [1891, 114902],\n",
       " [1895, 171238, 176041],\n",
       " [1922, 169896],\n",
       " [1931, 87551],\n",
       " [1951, 91112, 92149, 101402, 178611, 179009, 196932],\n",
       " [1982, 37246, 40832, 117114]]"
      ]
     },
     "execution_count": 84,
     "metadata": {},
     "output_type": "execute_result"
    }
   ],
   "source": [
    "delete"
   ]
  },
  {
   "cell_type": "code",
   "execution_count": null,
   "metadata": {
    "collapsed": true
   },
   "outputs": [],
   "source": []
  },
  {
   "cell_type": "code",
   "execution_count": 80,
   "metadata": {},
   "outputs": [
    {
     "data": {
      "text/plain": [
       "18"
      ]
     },
     "execution_count": 80,
     "metadata": {},
     "output_type": "execute_result"
    }
   ],
   "source": [
    "220000/100*30/60/60"
   ]
  },
  {
   "cell_type": "code",
   "execution_count": 69,
   "metadata": {},
   "outputs": [
    {
     "data": {
      "text/plain": [
       "'sub_28/192009k8gg8o85bb5u9x9b.jpg'"
      ]
     },
     "execution_count": 69,
     "metadata": {},
     "output_type": "execute_result"
    }
   ],
   "source": [
    "df.loc[91,'name']"
   ]
  },
  {
   "cell_type": "code",
   "execution_count": 77,
   "metadata": {},
   "outputs": [
    {
     "data": {
      "text/plain": [
       "'sub_28/193327_1442257520eTMN.jpg'"
      ]
     },
     "execution_count": 77,
     "metadata": {},
     "output_type": "execute_result"
    }
   ],
   "source": [
    "df.loc[34,'name']"
   ]
  },
  {
   "cell_type": "code",
   "execution_count": null,
   "metadata": {
    "collapsed": true
   },
   "outputs": [],
   "source": []
  }
 ],
 "metadata": {
  "kernelspec": {
   "display_name": "Python 2",
   "language": "python",
   "name": "python2"
  },
  "language_info": {
   "codemirror_mode": {
    "name": "ipython",
    "version": 2
   },
   "file_extension": ".py",
   "mimetype": "text/x-python",
   "name": "python",
   "nbconvert_exporter": "python",
   "pygments_lexer": "ipython2",
   "version": "2.7.13"
  }
 },
 "nbformat": 4,
 "nbformat_minor": 2
}
