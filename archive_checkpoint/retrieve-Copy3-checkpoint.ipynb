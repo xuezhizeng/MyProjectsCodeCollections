{
 "cells": [
  {
   "cell_type": "code",
   "execution_count": 1,
   "metadata": {},
   "outputs": [
    {
     "name": "stdout",
     "output_type": "stream",
     "text": [
      "11.2.0.2.0\n"
     ]
    }
   ],
   "source": [
    "import concurrent.futures\n",
    "\n",
    "import requests\n",
    "from lxml import etree\n",
    "from time import time, ctime\n",
    "\n",
    "import pandas as pd\n",
    "import cx_Oracle\n",
    "\n",
    "\n",
    "\n",
    "db=cx_Oracle.connect(\"soyoung\", \"soyoung\", \"my.uconn.science:1521/xe\")\n",
    "print db.version\n",
    "conn=db.cursor()\n",
    "\n",
    "save=[]\n",
    "\n",
    "def single((ID, url)):\n",
    "    try:\n",
    "        content=etree.HTML(requests.get(url, timeout=600).text).xpath('//div[@class=\"c\"]//*[@title]/@src')\n",
    "    except:\n",
    "        save.append([ID, 'fail'])\n",
    "    for i in content:      \n",
    "        save.append([ID, i])\n"
   ]
  },
  {
   "cell_type": "code",
   "execution_count": 66,
   "metadata": {
    "collapsed": true
   },
   "outputs": [],
   "source": [
    "save.append([23333,'fail'])"
   ]
  },
  {
   "cell_type": "code",
   "execution_count": 75,
   "metadata": {},
   "outputs": [
    {
     "data": {
      "text/plain": [
       "2"
      ]
     },
     "execution_count": 75,
     "metadata": {},
     "output_type": "execute_result"
    }
   ],
   "source": [
    "sum(map(lambda x: x[1]=='fail', save))"
   ]
  },
  {
   "cell_type": "code",
   "execution_count": 71,
   "metadata": {},
   "outputs": [
    {
     "data": {
      "text/plain": [
       "346"
      ]
     },
     "execution_count": 71,
     "metadata": {},
     "output_type": "execute_result"
    }
   ],
   "source": [
    "len(map(lambda x: x[1], save))"
   ]
  },
  {
   "cell_type": "code",
   "execution_count": 2,
   "metadata": {},
   "outputs": [
    {
     "name": "stdout",
     "output_type": "stream",
     "text": [
      "create table single\n",
      "create table fail\n"
     ]
    }
   ],
   "source": [
    "try:\n",
    "    conn.execute(\"create table single \\\n",
    "             (ID int not null, url varchar2(150), get_time varchar2(50), ellipse number, \\\n",
    "             constraint single_pk primary key (url))\")\n",
    "    db.commit()\n",
    "    print 'create table single'\n",
    "except Exception as e:\n",
    "    print e\n",
    "    \n",
    "try:\n",
    "    conn.execute(\"create table fail \\\n",
    "             (ID int , url varchar2(150), get_time varchar2(50), ellipse number)\")\n",
    "    db.commit()\n",
    "    print 'create table fail'\n",
    "except Exception as e:\n",
    "    print e   "
   ]
  },
  {
   "cell_type": "code",
   "execution_count": 57,
   "metadata": {},
   "outputs": [
    {
     "name": "stdout",
     "output_type": "stream",
     "text": [
      "500\n"
     ]
    },
    {
     "data": {
      "text/plain": [
       "[(609998, 'http://www.soyoung.com/p10398626'),\n",
       " (609999, 'http://www.soyoung.com/p10398411'),\n",
       " (610000, 'http://www.soyoung.com/p10397217')]"
      ]
     },
     "execution_count": 57,
     "metadata": {},
     "output_type": "execute_result"
    }
   ],
   "source": [
    "del df\n",
    "\n",
    "sub=urls[1654:2154]\n",
    "print len(sub)\n",
    "\n",
    "del urls\n",
    "sub[-3:]"
   ]
  },
  {
   "cell_type": "code",
   "execution_count": 5,
   "metadata": {
    "collapsed": true
   },
   "outputs": [],
   "source": [
    "# db.commit()"
   ]
  },
  {
   "cell_type": "code",
   "execution_count": 6,
   "metadata": {
    "collapsed": true
   },
   "outputs": [],
   "source": [
    "# %%time\n",
    "\n",
    "def batch(subber):\n",
    "    global save\n",
    "    start=time()\n",
    "    save=[]\n",
    "    with concurrent.futures.ThreadPoolExecutor(max_workers=8) as executor:\n",
    "        executor.map(single, subber)\n",
    "\n",
    "    past='{:.2f}'.format(time()-start)\n",
    "    now=ctime()[4:]\n",
    "    \n",
    "    print 'get ',len(subber),' users used ',past,'s', now, 'images',len(save)\n",
    "\n",
    "    for i in save:\n",
    "        try:\n",
    "            conn.execute(\"insert into single (ID, url, get_time, ellipse) \\\n",
    "            values ({},'{}','{}',{})\".format(i[0], i[1], now, past))\n",
    "        except:\n",
    "            conn.execute(\"insert into fail (ID, url, get_time, ellipse) \\\n",
    "            values ({},'{}','{}',{})\".format(i[0], i[1], now, past))        \n",
    "\n",
    "    db.commit()\n",
    "    print 'saved to the database ',ctime()[4:]\n",
    "    "
   ]
  },
  {
   "cell_type": "code",
   "execution_count": 7,
   "metadata": {
    "collapsed": true
   },
   "outputs": [],
   "source": [
    "def spl(lists, n):\n",
    "    return  [lists[i:i + n] for i in range(0, len(lists), n)]"
   ]
  },
  {
   "cell_type": "code",
   "execution_count": null,
   "metadata": {
    "collapsed": true
   },
   "outputs": [],
   "source": [
    "if __name__=='__main__':\n",
    "    choose=raw_input('which set (61-85)?: ')\n",
    "    df=pd.read_csv(str(choose)+'.csv')\n",
    "    nn=df.shape[0]\n",
    "    print nn,' IDs'\n",
    "    \n",
    "    urls = zip(df['id'], df['post_url'])\n",
    "    print len(urls)==nn\n",
    "    \n",
    "    many=int(raw_input('how many IDs a batch?: '))\n",
    "      \n",
    "    \n",
    "    p=0\n",
    "    for i in spl(sub=urls, many):\n",
    "        batch(i)\n",
    "        p+=many/float(nn)\n",
    "        print p*100*10,'%', nn"
   ]
  }
 ],
 "metadata": {
  "kernelspec": {
   "display_name": "Python 2",
   "language": "python",
   "name": "python2"
  },
  "language_info": {
   "codemirror_mode": {
    "name": "ipython",
    "version": 2
   },
   "file_extension": ".py",
   "mimetype": "text/x-python",
   "name": "python",
   "nbconvert_exporter": "python",
   "pygments_lexer": "ipython2",
   "version": "2.7.13"
  }
 },
 "nbformat": 4,
 "nbformat_minor": 2
}
