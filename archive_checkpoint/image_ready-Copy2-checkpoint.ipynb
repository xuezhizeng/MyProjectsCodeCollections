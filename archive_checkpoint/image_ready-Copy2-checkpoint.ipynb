{
 "cells": [
  {
   "cell_type": "code",
   "execution_count": 1,
   "metadata": {
    "collapsed": true
   },
   "outputs": [],
   "source": [
    "import concurrent.futures\n",
    "import requests\n",
    "import os\n",
    "\n",
    "from time import time, ctime\n",
    "import pandas as pd\n",
    "\n",
    "fail=[]"
   ]
  },
  {
   "cell_type": "code",
   "execution_count": null,
   "metadata": {
    "collapsed": true
   },
   "outputs": [],
   "source": []
  },
  {
   "cell_type": "code",
   "execution_count": null,
   "metadata": {
    "collapsed": true
   },
   "outputs": [],
   "source": [
    " \n"
   ]
  },
  {
   "cell_type": "code",
   "execution_count": 2,
   "metadata": {
    "collapsed": true
   },
   "outputs": [],
   "source": [
    "def download_image(img_url):\n",
    "    global direct\n",
    "    \n",
    "    try:\n",
    "        ID, url = img_url.split('__')\n",
    "        cont = url.split('/')\n",
    "        name= str(ID)+'_'+str(cont[-4])+str(cont[-1]).replace('_570','')\n",
    "        \n",
    "    except Exception as e:\n",
    "        fail.append(img_url)\n",
    "        print e\n",
    "\n",
    "        \n",
    "        \n",
    "    try:\n",
    "        img_request = requests.request(\n",
    "            'get', url, stream=True, timeout=300)\n",
    "        if img_request.status_code != 200:\n",
    "            fail.append(img_url)\n",
    "            print 'X2'\n",
    "    except Exception as e:\n",
    "        fail.append(img_url)\n",
    "        print e\n",
    "\n",
    "    try:\n",
    "        img_content = img_request.content\n",
    "        with open(os.path.join(direct,  name), 'wb') as f:\n",
    "            byte_image = bytes(img_content)\n",
    "            f.write(byte_image)\n",
    "            \n",
    "    except Exception as e:\n",
    "        fail.append(img_url)\n",
    "        print e\n",
    "\n"
   ]
  },
  {
   "cell_type": "code",
   "execution_count": 3,
   "metadata": {
    "collapsed": true
   },
   "outputs": [],
   "source": [
    "def batch(subber):\n",
    "    start=time()\n",
    "    with concurrent.futures.ThreadPoolExecutor(max_workers=8) as executor:\n",
    "        executor.map(download_image, subber)\n",
    "    past='{:.2f}'.format(time()-start)\n",
    "    now=ctime()[4:]\n",
    "\n",
    "    print 'imges ',len(subber),'  used ',past,'s', now\n"
   ]
  },
  {
   "cell_type": "code",
   "execution_count": 4,
   "metadata": {
    "collapsed": true
   },
   "outputs": [],
   "source": [
    "def spl(lists, n):\n",
    "    return  [lists[i:i + n] for i in range(0, len(lists), n)]"
   ]
  },
  {
   "cell_type": "code",
   "execution_count": null,
   "metadata": {},
   "outputs": [
    {
     "name": "stdout",
     "output_type": "stream",
     "text": [
      "which set (1-24)?: 4\n",
      "10000  pics\n",
      "True\n",
      "how many IDs a batch?: 100\n",
      "list index out of range\n",
      "Invalid URL '(null)': No schema supplied. Perhaps you meant http://(null)?\n",
      "local variable 'img_request' referenced before assignment\n"
     ]
    }
   ],
   "source": [
    "if __name__=='__main__':\n",
    "    \n",
    "    choose=raw_input('which set (1-24)?: ')\n",
    "    try:\n",
    "        os.mkdir('img_'+str(choose))\n",
    "    except:\n",
    "        print 'dir img_'+str(choose)+' exists'\n",
    "    \n",
    "    direct='img_'+str(choose)\n",
    "    df=pd.read_csv('img_'+str(choose)+'.csv')\n",
    "    nn=df.shape[0]\n",
    "    print nn,' pics'\n",
    "    \n",
    "    \n",
    "    urls=[]\n",
    "    for i in df.itertuples():\n",
    "        urls.append(str(i[1])+'__'+str(i[2]))\n",
    "    print len(urls)==nn\n",
    "    \n",
    "    many=int(raw_input('how many IDs a batch?: '))\n",
    "      \n",
    "    \n",
    "    p=0\n",
    "    q=0\n",
    "    for i in spl(urls, many):\n",
    "        q+=1\n",
    "        batch(i)\n",
    "        p+=many/float(nn)\n",
    "        print p*100,'%', nn, many*q \n",
    "\n",
    "    fl = pd.DataFrame(fail, columns=['fail_url'])\n",
    "    fl.save('failed_img_'+str(choose)+'.csv')"
   ]
  },
  {
   "cell_type": "code",
   "execution_count": null,
   "metadata": {
    "collapsed": true
   },
   "outputs": [],
   "source": []
  },
  {
   "cell_type": "code",
   "execution_count": null,
   "metadata": {
    "collapsed": true
   },
   "outputs": [],
   "source": []
  },
  {
   "cell_type": "code",
   "execution_count": null,
   "metadata": {
    "collapsed": true
   },
   "outputs": [],
   "source": []
  },
  {
   "cell_type": "code",
   "execution_count": null,
   "metadata": {
    "collapsed": true
   },
   "outputs": [],
   "source": []
  },
  {
   "cell_type": "code",
   "execution_count": null,
   "metadata": {
    "collapsed": true
   },
   "outputs": [],
   "source": []
  }
 ],
 "metadata": {
  "kernelspec": {
   "display_name": "Python 2",
   "language": "python",
   "name": "python2"
  },
  "language_info": {
   "codemirror_mode": {
    "name": "ipython",
    "version": 2
   },
   "file_extension": ".py",
   "mimetype": "text/x-python",
   "name": "python",
   "nbconvert_exporter": "python",
   "pygments_lexer": "ipython2",
   "version": "2.7.13"
  }
 },
 "nbformat": 4,
 "nbformat_minor": 2
}
