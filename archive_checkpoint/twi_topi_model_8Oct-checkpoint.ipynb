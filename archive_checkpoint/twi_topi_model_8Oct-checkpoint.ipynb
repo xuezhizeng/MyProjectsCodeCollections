{
 "cells": [
  {
   "cell_type": "code",
   "execution_count": 1,
   "metadata": {
    "collapsed": true
   },
   "outputs": [],
   "source": [
    "import pandas as pd\n",
    "import re\n",
    "from time import time\n",
    "\n",
    "import sys\n",
    "reload(sys)\n",
    "sys.setdefaultencoding('utf8')"
   ]
  },
  {
   "cell_type": "code",
   "execution_count": 2,
   "metadata": {},
   "outputs": [],
   "source": [
    "!pwd"
   ]
  },
  {
   "cell_type": "code",
   "execution_count": 3,
   "metadata": {
    "collapsed": true
   },
   "outputs": [],
   "source": [
    "# !ls /home/saya/notebook/twitter/"
   ]
  },
  {
   "cell_type": "code",
   "execution_count": 4,
   "metadata": {},
   "outputs": [
    {
     "data": {
      "text/plain": [
       "(452275, 7)"
      ]
     },
     "execution_count": 4,
     "metadata": {},
     "output_type": "execute_result"
    }
   ],
   "source": [
    "df=pd.read_csv('/home/saya/notebook/twitter/twitter_basement.csv')\n",
    "df.shape"
   ]
  },
  {
   "cell_type": "code",
   "execution_count": 5,
   "metadata": {
    "collapsed": true
   },
   "outputs": [],
   "source": [
    "test=df['text'][0]"
   ]
  },
  {
   "cell_type": "code",
   "execution_count": 6,
   "metadata": {},
   "outputs": [],
   "source": [
    "print test"
   ]
  },
  {
   "cell_type": "code",
   "execution_count": 7,
   "metadata": {
    "collapsed": true
   },
   "outputs": [],
   "source": [
    "def clean(test):\n",
    "    return re.sub(r'@\\S+|#|RT|\\n|http\\S+','',str(test)).strip()"
   ]
  },
  {
   "cell_type": "code",
   "execution_count": 8,
   "metadata": {},
   "outputs": [
    {
     "data": {
      "text/plain": [
       "'Sundays Open House. #Realtor #Pool #Basement #Acre #RuralArea https://t.co/ELNiaVcvQs'"
      ]
     },
     "execution_count": 8,
     "metadata": {},
     "output_type": "execute_result"
    }
   ],
   "source": [
    "a = df['text'][29]\n",
    "a"
   ]
  },
  {
   "cell_type": "code",
   "execution_count": 9,
   "metadata": {},
   "outputs": [],
   "source": [
    "content = df['text'].apply(clean)"
   ]
  },
  {
   "cell_type": "code",
   "execution_count": 10,
   "metadata": {},
   "outputs": [
    {
     "data": {
      "text/plain": [
       "452275"
      ]
     },
     "execution_count": 10,
     "metadata": {},
     "output_type": "execute_result"
    }
   ],
   "source": [
    "len(content)"
   ]
  },
  {
   "cell_type": "markdown",
   "metadata": {},
   "source": [
    "### topic modeling"
   ]
  },
  {
   "cell_type": "code",
   "execution_count": 11,
   "metadata": {},
   "outputs": [],
   "source": [
    "import nltk\n",
    "import string\n",
    "from nltk.stem.wordnet import WordNetLemmatizer\n",
    "\n",
    "# nltk.download('stopwords')\n",
    "from nltk.corpus import stopwords \n",
    "stopwords = set(stopwords.words('english'))\n",
    "punctuation = set(string.punctuation) \n",
    "lemmatize = WordNetLemmatizer()\n"
   ]
  },
  {
   "cell_type": "code",
   "execution_count": 12,
   "metadata": {
    "collapsed": true
   },
   "outputs": [],
   "source": [
    "stop = pd.read_fwf('stop.txt',names=['words'])\n",
    "stopwords.update(set(stop['words'].values))\n",
    "# print (list(stopwords)[:10])\n",
    "stopwords.update(set(['dont','lot','wa','im','ha','doe','wa', 'able',]))"
   ]
  },
  {
   "cell_type": "code",
   "execution_count": 13,
   "metadata": {
    "collapsed": true
   },
   "outputs": [],
   "source": [
    "def cleaning(article):\n",
    "    article = str(article)\n",
    "    zero = \"\".join(i for i in article if i not in punctuation)\n",
    "    \n",
    "    one = \" \".join([i for i in zero.lower().split() if i not in stopwords])\n",
    "    \n",
    "    three = \" \".join(lemmatize.lemmatize(i) for i in one.split())\n",
    "    return three"
   ]
  },
  {
   "cell_type": "code",
   "execution_count": 14,
   "metadata": {
    "collapsed": true
   },
   "outputs": [],
   "source": [
    "all_content=content.copy()\n",
    "apple = all_content"
   ]
  },
  {
   "cell_type": "code",
   "execution_count": 15,
   "metadata": {},
   "outputs": [
    {
     "data": {
      "text/plain": [
       "'used: 50.57s'"
      ]
     },
     "execution_count": 15,
     "metadata": {},
     "output_type": "execute_result"
    }
   ],
   "source": [
    "# nltk.download('wordnet')\n",
    "start = time()\n",
    "\n",
    "ap_text = apple.apply(cleaning)\n",
    "ap_text_list = [i.split() for i in ap_text]\n",
    "print (len(ap_text_list))\n",
    "\n",
    "('used: {:.2f}s'.format(time()-start))"
   ]
  },
  {
   "cell_type": "code",
   "execution_count": 16,
   "metadata": {},
   "outputs": [
    {
     "data": {
      "text/plain": [
       "0    videogamesday dreamed converting basement arca...\n",
       "1           2player challenge eventide island basement\n",
       "2                         misogynist live mom basement\n",
       "3    kink lost abandoned house amp hearing tune pia...\n",
       "4    2k spade domino mode join godsc jewel inc toni...\n",
       "5                         misogynist live mom basement\n",
       "6        yo basement story pinegroves dope found base���\n",
       "7    mini child programming basement sweatshop produce\n",
       "8    videogamesday dreamed converting basement arca...\n",
       "9                            mind laundry basement def\n",
       "Name: text, dtype: object"
      ]
     },
     "execution_count": 16,
     "metadata": {},
     "output_type": "execute_result"
    }
   ],
   "source": [
    "ap_text[:10]"
   ]
  },
  {
   "cell_type": "code",
   "execution_count": 17,
   "metadata": {},
   "outputs": [
    {
     "data": {
      "text/plain": [
       "'used: 5.69s'"
      ]
     },
     "execution_count": 17,
     "metadata": {},
     "output_type": "execute_result"
    }
   ],
   "source": [
    "from gensim.models.phrases import Phraser, Phrases\n",
    "\n",
    "start = time()\n",
    "phs = Phrases(ap_text_list)\n",
    "('used: {:.2f}s'.format(time()-start))"
   ]
  },
  {
   "cell_type": "code",
   "execution_count": 18,
   "metadata": {},
   "outputs": [
    {
     "data": {
      "text/plain": [
       "'used: 11.04s'"
      ]
     },
     "execution_count": 18,
     "metadata": {},
     "output_type": "execute_result"
    }
   ],
   "source": [
    "bi_gram = Phraser(phs)\n",
    "start = time()\n",
    "\n",
    "new_bi_list = [bi_gram[i] for i in ap_text_list]\n",
    "\n",
    "('used: {:.2f}s'.format(time()-start))"
   ]
  },
  {
   "cell_type": "code",
   "execution_count": 19,
   "metadata": {},
   "outputs": [
    {
     "data": {
      "text/plain": [
       "'used: 7.51s'"
      ]
     },
     "execution_count": 19,
     "metadata": {},
     "output_type": "execute_result"
    }
   ],
   "source": [
    "start = time()\n",
    "\n",
    "phs3=Phrases(new_bi_list)\n",
    "tri_gram=Phraser(phs3)\n",
    "\n",
    "('used: {:.2f}s'.format(time()-start))"
   ]
  },
  {
   "cell_type": "code",
   "execution_count": 20,
   "metadata": {},
   "outputs": [
    {
     "data": {
      "text/plain": [
       "'used: 7.76s'"
      ]
     },
     "execution_count": 20,
     "metadata": {},
     "output_type": "execute_result"
    }
   ],
   "source": [
    "start = time()\n",
    "\n",
    "new_tri_list = [tri_gram[i] for i in new_bi_list]\n",
    "\n",
    "('used: {:.2f}s'.format(time()-start))"
   ]
  },
  {
   "cell_type": "code",
   "execution_count": 21,
   "metadata": {},
   "outputs": [
    {
     "data": {
      "text/plain": [
       "452275"
      ]
     },
     "execution_count": 21,
     "metadata": {},
     "output_type": "execute_result"
    }
   ],
   "source": [
    "len(new_tri_list)"
   ]
  },
  {
   "cell_type": "code",
   "execution_count": 22,
   "metadata": {},
   "outputs": [
    {
     "data": {
      "text/plain": [
       "[u'videogamesday_dreamed_converting',\n",
       " u'basement',\n",
       " u'arcade_youre_retrogames\\u2026']"
      ]
     },
     "execution_count": 22,
     "metadata": {},
     "output_type": "execute_result"
    }
   ],
   "source": [
    "new_tri_list[0]"
   ]
  },
  {
   "cell_type": "code",
   "execution_count": 23,
   "metadata": {
    "collapsed": true
   },
   "outputs": [],
   "source": [
    "make_dic = dict()\n",
    "for i,j in zip(range(len(new_tri_list)), new_tri_list):\n",
    "    make_dic[i]=j"
   ]
  },
  {
   "cell_type": "code",
   "execution_count": 24,
   "metadata": {},
   "outputs": [
    {
     "data": {
      "text/plain": [
       "0    [videogamesday_dreamed_converting, basement, a...\n",
       "1     [2player, challenge, eventide, island, basement]\n",
       "2                      [misogynist_live_mom, basement]\n",
       "3    [kink_lost_abandoned_house, amp_hearing_tune_p...\n",
       "4    [2k_spade_domino_mode, join_godsc_jewel_inc, t...\n",
       "dtype: object"
      ]
     },
     "execution_count": 24,
     "metadata": {},
     "output_type": "execute_result"
    }
   ],
   "source": [
    "without_stop = pd.Series(make_dic)\n",
    "without_stop.head()"
   ]
  },
  {
   "cell_type": "code",
   "execution_count": 25,
   "metadata": {
    "collapsed": true
   },
   "outputs": [],
   "source": [
    "ap_text_list = list(without_stop.values)"
   ]
  },
  {
   "cell_type": "code",
   "execution_count": 26,
   "metadata": {},
   "outputs": [
    {
     "data": {
      "text/plain": [
       "452275"
      ]
     },
     "execution_count": 26,
     "metadata": {},
     "output_type": "execute_result"
    }
   ],
   "source": [
    "len(ap_text_list)"
   ]
  },
  {
   "cell_type": "code",
   "execution_count": 27,
   "metadata": {},
   "outputs": [
    {
     "data": {
      "text/plain": [
       "[[u'broadcaster',\n",
       "  u'criticism',\n",
       "  u'stagebut',\n",
       "  u'guy',\n",
       "  u'eating',\n",
       "  u'soup',\n",
       "  u'mom',\n",
       "  u'basement',\n",
       "  u'look',\n",
       "  u'mirror\\u2026'],\n",
       " [u'nice', u'basement'],\n",
       " [u'buddy', u'basement', u'fuck']]"
      ]
     },
     "execution_count": 27,
     "metadata": {},
     "output_type": "execute_result"
    }
   ],
   "source": [
    "ap_text_list[100:103]"
   ]
  },
  {
   "cell_type": "code",
   "execution_count": null,
   "metadata": {
    "collapsed": true
   },
   "outputs": [],
   "source": []
  },
  {
   "cell_type": "markdown",
   "metadata": {},
   "source": [
    "### start building"
   ]
  },
  {
   "cell_type": "code",
   "execution_count": 28,
   "metadata": {
    "collapsed": true
   },
   "outputs": [],
   "source": [
    "# Importing Gensim\n",
    "import gensim\n",
    "from gensim import corpora\n",
    "\n",
    "from time import time\n",
    "import logging\n",
    "\n",
    "logging.basicConfig(format='%(asctime)s : %(levelname)s : %(message)s', level=logging.INFO,\n",
    "                   filename='twitter_running.log',filemode='w')"
   ]
  },
  {
   "cell_type": "code",
   "execution_count": 29,
   "metadata": {},
   "outputs": [
    {
     "data": {
      "text/plain": [
       "<gensim.corpora.dictionary.Dictionary at 0x7f61252fbdd0>"
      ]
     },
     "execution_count": 29,
     "metadata": {},
     "output_type": "execute_result"
    }
   ],
   "source": [
    "# Creating the term dictionary of our courpus, where every unique term is assigned an index. dictionary = corpora.Dictionary(doc_clean)\n",
    "dictionary = corpora.Dictionary(ap_text_list)\n",
    "dictionary.save('twitter.dict')\n",
    "(dictionary)"
   ]
  },
  {
   "cell_type": "code",
   "execution_count": 30,
   "metadata": {},
   "outputs": [
    {
     "data": {
      "text/plain": [
       "[(2, 1),\n",
       " (32, 1),\n",
       " (66, 1),\n",
       " (331, 1),\n",
       " (332, 1),\n",
       " (333, 1),\n",
       " (334, 1),\n",
       " (335, 1),\n",
       " (336, 1),\n",
       " (337, 1)]"
      ]
     },
     "execution_count": 30,
     "metadata": {},
     "output_type": "execute_result"
    }
   ],
   "source": [
    "# Converting list of documents (corpus) into Document Term Matrix using dictionary prepared above.\n",
    "doc_term_matrix = [dictionary.doc2bow(doc) for doc in ap_text_list]\n",
    "corpora.MmCorpus.serialize('twitter.mm', doc_term_matrix)\n",
    "\n",
    "(len(doc_term_matrix))\n",
    "(doc_term_matrix[100])"
   ]
  },
  {
   "cell_type": "code",
   "execution_count": 40,
   "metadata": {},
   "outputs": [
    {
     "data": {
      "text/plain": [
       "'used: 631.15s'"
      ]
     },
     "execution_count": 40,
     "metadata": {},
     "output_type": "execute_result"
    }
   ],
   "source": [
    "start = time()\n",
    "# Creating the object for LDA model using gensim library\n",
    "Lda = gensim.models.ldamodel.LdaModel\n",
    "\n",
    "# Running and Trainign LDA model on the document term matrix.\n",
    "ldamodel = Lda(doc_term_matrix, num_topics=30, id2word = dictionary, \n",
    "#                passes=5\n",
    "              )\n",
    "'used: {:.2f}s'.format(time()-start)"
   ]
  },
  {
   "cell_type": "code",
   "execution_count": 32,
   "metadata": {},
   "outputs": [
    {
     "data": {
      "text/plain": [
       "[(0,\n",
       "  u'0.138*\"basement\" + 0.037*\"gonna\" + 0.017*\"house\" + 0.014*\"home\" + 0.012*\"look\" + 0.011*\"live\" + 0.011*\"amp\" + 0.010*\"locked\" + 0.009*\"mom\" + 0.008*\"mommy\"'),\n",
       " (1,\n",
       "  u'0.033*\"survivalist_filled_massive\" + 0.033*\"food_\\u2014_decided_puerto\" + 0.032*\"ricans\" + 0.019*\"post_malone_look\" + 0.019*\"sitting_smoke_circle\" + 0.019*\"70_\\U0001f602\\U0001f602\" + 0.013*\"embracing_blessing_god\" + 0.013*\"happ\\u2026\" + 0.011*\"amp_letting_write_height\" + 0.011*\"thank_providing_artistic_home\"'),\n",
       " (2,\n",
       "  u'0.087*\"embracing_blessing_god\" + 0.023*\"america_trump_supporter_\\U0001f1fa\\U0001f1f8\" + 0.022*\"church_boycott_nfl_right\\u2026\" + 0.015*\"it\\u2019s\" + 0.015*\"crazed_lunatic_left_condoning\" + 0.015*\"shooting_look_loser_live\\u2026\" + 0.015*\"violence_amp_appears_mass\" + 0.014*\"someone\" + 0.012*\"wo_cry\" + 0.012*\"repeat_dark\"'),\n",
       " (3,\n",
       "  u'0.153*\"basement\" + 0.013*\"door\" + 0.011*\"3\" + 0.010*\"finished\" + 0.009*\"gun\" + 0.009*\"please\" + 0.009*\"real\" + 0.008*\"buildi\\u2026\" + 0.008*\"there\\u2019s_talk_including_video\" + 0.008*\"planning_ahead_2028_begun\"'),\n",
       " (4,\n",
       "  u'0.147*\"basement\" + 0.024*\"mom\" + 0.014*\"life\" + 0.012*\"parent\" + 0.011*\"guy\" + 0.011*\"living\" + 0.009*\"day\" + 0.009*\"dweller\" + 0.009*\"youre\" + 0.009*\"time\"'),\n",
       " (5,\n",
       "  u'0.193*\"basement\" + 0.033*\"\\u2014_can\\u2019t_believe_they\\u2019re\" + 0.033*\"wild_cat_spent_someone\\u2019s\" + 0.033*\"actually_feeling_grass_a\\u2026\" + 0.029*\"2011\" + 0.024*\"house_music\" + 0.021*\"logic_talking_updating_fan\" + 0.018*\"party\" + 0.012*\"housemusic\" + 0.005*\"stair\"'),\n",
       " (6,\n",
       "  u'0.339*\"basement\" + 0.023*\"spread_love\" + 0.023*\"hello_creative_project_called\" + 0.021*\"he\\u2019s_27\" + 0.021*\"mcm_tweeted_mom\" + 0.014*\"tell_nigga_wouldn\\u2019t_time\\u201d\" + 0.014*\"\\u201cbabe_weed_amp_gun\" + 0.012*\"vol_1_10_song\" + 0.012*\"maga\" + 0.011*\"fought_lift_flag_thst\"'),\n",
       " (7,\n",
       "  u'0.122*\"basement\" + 0.020*\"amp\" + 0.019*\"people\" + 0.013*\"love\" + 0.012*\"2\" + 0.010*\"night\" + 0.010*\"i\\u2019m\" + 0.007*\"check\" + 0.007*\"hoop\" + 0.007*\"found\"'),\n",
       " (8,\n",
       "  u'0.067*\"ima_steal_money_church\" + 0.056*\"lord_watchingbecause_that\\u2019s_exactly\" + 0.018*\"kid\" + 0.010*\"ive\" + 0.010*\"dude\" + 0.009*\"help\" + 0.009*\"window\" + 0.008*\"troll\" + 0.008*\"bitch\" + 0.007*\"the\\u2026\"'),\n",
       " (9,\n",
       "  u'0.113*\"basement\" + 0.107*\"period\" + 0.013*\"travis_scott\" + 0.012*\"freestyle_live_rodeo_tour\" + 0.008*\"boy\" + 0.007*\"fuck\" + 0.007*\"tonight\" + 0.007*\"fuck_girl_boyfriend\" + 0.007*\"god\" + 0.007*\"easily_wtf_create\"')]"
      ]
     },
     "execution_count": 32,
     "metadata": {},
     "output_type": "execute_result"
    }
   ],
   "source": [
    "ldamodel.print_topics()"
   ]
  },
  {
   "cell_type": "code",
   "execution_count": 33,
   "metadata": {
    "collapsed": true
   },
   "outputs": [],
   "source": [
    "ldamodel.save('twitter.model')"
   ]
  },
  {
   "cell_type": "markdown",
   "metadata": {},
   "source": [
    "### load saved model , plotting"
   ]
  },
  {
   "cell_type": "code",
   "execution_count": 34,
   "metadata": {
    "collapsed": true
   },
   "outputs": [],
   "source": [
    "from gensim.models import LdaModel\n",
    "loading = LdaModel.load('twitter.model')"
   ]
  },
  {
   "cell_type": "code",
   "execution_count": 35,
   "metadata": {
    "collapsed": true
   },
   "outputs": [],
   "source": [
    "import pyLDAvis.gensim\n",
    "import gensim\n",
    "from time import time\n",
    "pyLDAvis.enable_notebook()"
   ]
  },
  {
   "cell_type": "code",
   "execution_count": 36,
   "metadata": {
    "collapsed": true
   },
   "outputs": [],
   "source": [
    "d = gensim.corpora.Dictionary.load('twitter.dict')\n",
    "c = gensim.corpora.MmCorpus('twitter.mm')\n",
    "lda = gensim.models.LdaModel.load('twitter.model')"
   ]
  },
  {
   "cell_type": "code",
   "execution_count": 37,
   "metadata": {},
   "outputs": [
    {
     "data": {
      "text/plain": [
       "'used: 186.52s'"
      ]
     },
     "execution_count": 37,
     "metadata": {},
     "output_type": "execute_result"
    }
   ],
   "source": [
    "start = time()\n",
    "\n",
    "data = pyLDAvis.gensim.prepare(lda, c, d)\n",
    "\n",
    "('used: {:.2f}s'.format(time()-start))"
   ]
  },
  {
   "cell_type": "code",
   "execution_count": 38,
   "metadata": {
    "collapsed": true
   },
   "outputs": [],
   "source": [
    "pyLDAvis.save_html(data,'twitter.html')\n"
   ]
  },
  {
   "cell_type": "code",
   "execution_count": 39,
   "metadata": {},
   "outputs": [
    {
     "data": {
      "text/html": [
       "\n",
       "<link rel=\"stylesheet\" type=\"text/css\" href=\"https://cdn.rawgit.com/bmabey/pyLDAvis/files/ldavis.v1.0.0.css\">\n",
       "\n",
       "\n",
       "<div id=\"ldavis_el198101400543920658728890396563\"></div>\n",
       "<script type=\"text/javascript\">\n",
       "\n",
       "var ldavis_el198101400543920658728890396563_data = {\"plot.opts\": {\"xlab\": \"PC1\", \"ylab\": \"PC2\"}, \"topic.order\": [4, 1, 5, 10, 9, 8, 6, 3, 7, 2], \"token.table\": {\"Topic\": [6, 10, 5, 7, 8, 10, 6, 7, 6, 7, 1, 7, 2, 2, 8, 10, 9, 2, 7, 10, 5, 8, 10, 7, 2, 3, 4, 6, 2, 7, 9, 10, 10, 9, 2, 8, 2, 4, 1, 2, 3, 4, 6, 7, 8, 9, 5, 8, 10, 2, 3, 5, 8, 9, 5, 5, 1, 5, 6, 10, 6, 8, 8, 1, 3, 7, 9, 1, 4, 8, 10, 1, 7, 1, 3, 1, 6, 7, 9, 7, 2, 3, 5, 1, 1, 6, 6, 4, 5, 8, 10, 3, 7, 8, 1, 7, 9, 8, 9, 8, 10, 5, 2, 3, 2, 3, 4, 6, 5, 8, 6, 10, 3, 4, 1, 3, 1, 5, 3, 9, 4, 5, 5, 8, 10, 2, 6, 4, 1, 6, 4, 8, 3, 1, 3, 4, 5, 6, 7, 8, 9, 10, 9, 2, 6, 4, 4, 9, 3, 4, 4, 7, 5, 7, 8, 10, 3, 1, 3, 5, 7, 6, 2, 4, 2, 7, 9, 1, 3, 10, 7, 9, 10, 2, 6, 6, 9, 5, 1, 7, 9, 5, 10, 5, 8, 10, 2, 2, 7, 6, 2, 8, 1, 2, 4, 7, 7, 1, 1, 3, 7, 9, 7, 2, 4, 5, 5, 8, 10, 5, 8, 5, 6, 6, 9, 3, 1, 1, 10, 10, 5, 5, 9, 7, 10, 1, 9, 10, 6, 8, 10, 8, 2, 4, 9, 6, 3, 9, 1, 4, 2, 2, 3, 5, 1, 3, 2, 4, 7, 3, 2, 3, 2, 5, 6, 9, 4, 3, 1, 7, 9, 2, 8, 7, 2, 3, 5, 2, 6, 1, 4, 1, 3, 2, 2, 5, 6, 4, 6, 2, 6, 8, 2, 1, 7, 9, 7, 10, 2, 3, 7, 7, 6, 4, 7, 8, 8, 1, 3, 5, 7, 2, 9, 6, 1, 9, 1, 7, 8, 9, 10, 1, 10, 5, 3, 1, 7, 10, 8, 1, 1, 3, 8, 1, 7, 8, 9, 10, 1, 3, 4, 5, 6, 7, 8, 9, 10, 10, 8, 10, 5, 8, 10, 8, 6, 1, 9, 3, 9, 5, 7, 6, 8, 10, 5, 2, 4, 8, 10, 9, 9, 10, 9, 3, 10, 1, 3, 7, 10, 9, 8, 8, 6, 9, 3, 7, 4, 9, 7, 1, 6, 2, 3, 5, 4, 10, 6, 8, 10, 8, 9, 10, 2, 1, 3, 4, 5, 6, 7, 8, 9, 10, 8, 8, 4, 6, 10, 2, 1, 7, 9, 2, 7, 9, 10, 2, 4, 4, 6, 1, 3, 5, 7, 5, 10, 2, 3, 4, 6, 5, 1, 4, 7, 5, 4, 5, 8, 3, 4, 10, 4, 9, 4, 5, 7, 8, 10, 8, 1, 6, 5, 2, 3, 1, 8, 10, 10, 9, 9, 8, 10, 8, 4, 6, 4, 5, 3, 8, 2, 8, 5, 8, 10, 4, 7, 5, 10, 6, 1, 7, 8, 9, 10, 10, 7, 4, 10, 2, 4, 3, 7, 7, 1, 7, 9, 9, 9, 9, 3], \"Freq\": [0.99922496038762, 0.9985051840080683, 0.04969047574708858, 0.0013429858310023942, 0.1383275405932466, 0.8098204560944436, 0.9995718854373251, 0.999872397701963, 0.9988979061810537, 0.9983691767814638, 0.9995085335388302, 0.998441348063134, 0.9994151908320489, 0.9993707704025135, 0.999540946997219, 0.9996013801587742, 0.9976678213485706, 0.9996753292095727, 0.9998503998955979, 0.9959314893292076, 0.0018804690866247309, 0.9966486159111073, 0.0013431922047319506, 0.9966456171906337, 0.38778677123067345, 0.0379134328059198, 0.01305732333149935, 0.5609929518087552, 0.0007658702080023771, 0.0053610914560166395, 0.09190442496028525, 0.9014292348187979, 0.9982246746438566, 0.9992463928744321, 0.9996688450411922, 0.9984974398765634, 0.9990838133464731, 0.9997208450345804, 0.15218722928643444, 0.13661983603577302, 0.1411467464906542, 0.10124386123845698, 0.09612764883086937, 0.14883445832823347, 1.7857634930497747e-05, 0.22382313181012614, 0.015555934268121486, 0.22967879419402898, 0.7540052845254178, 0.004142066161107247, 0.9949242918979607, 0.9993768853924498, 0.9992084978341143, 0.9979366290304137, 0.9993712213857165, 0.9993305807522724, 0.9997107363866606, 0.999311116999233, 0.9994888135487028, 0.9957930125443829, 0.9989624461475699, 0.9982207480165648, 0.9992653559695617, 0.04325288154040772, 0.0043252881540407715, 0.02162644077020386, 0.9277743090417455, 0.9994733609033953, 0.9996702470124778, 0.9996617884777915, 0.996470692544152, 0.9986915571744325, 0.000798953245739546, 0.9992712555748094, 0.9995512392940665, 0.9105075740426912, 0.00048664220953644643, 0.08856888213563326, 0.9939689957067844, 0.9983840459613104, 0.9994961192691829, 0.9988412256492037, 0.9985231132614142, 0.9996468883967722, 0.9996754468839236, 0.9994896806195405, 0.9990542951947968, 0.9985086991953567, 0.0013467792072467915, 0.9974246808869738, 0.0013467792072467915, 0.9990241211232553, 0.9983691767814638, 0.9977758915456262, 0.071696059672978, 0.08013089022274013, 0.8477004702510929, 0.9979227747980066, 0.9984360216838221, 0.9554647319166045, 0.04431140785700195, 0.9990623204475799, 0.998636530458754, 0.9992344924151928, 0.3533580387988236, 0.6302714749490687, 0.006661147948631325, 0.009515925640901892, 0.9994420933054168, 0.9992579136925075, 0.9981349870903111, 0.9987088127381646, 0.9988050912979359, 0.9988660996425396, 0.9991918162884146, 0.9995453083116272, 0.9997010818517365, 0.9994764332630295, 0.9995949562666449, 0.9992565702449274, 0.9996059966139775, 0.9995036601237578, 0.0025971131926694827, 0.9110799768332968, 0.08627483337599598, 0.9985248121633076, 0.9986270237845685, 0.9990832826770848, 0.9998503521029728, 0.9995431370601466, 0.9984320704362614, 0.9985815177012238, 0.9988529321766906, 0.20674674891189224, 0.0026562751466196006, 0.0026562751466196006, 0.0030989876710562007, 0.0019184209392252671, 0.005017408610281468, 0.15037468746696517, 0.11289169373133302, 0.5145795242368082, 0.9994300337914321, 0.3334982728751672, 0.6659066821134875, 0.9995885894743967, 0.9577987399655424, 0.04157456291706571, 0.9989735179639495, 0.9991366119021612, 0.9994430028387876, 0.9991234148655869, 0.04969047574708858, 0.0013429858310023942, 0.1383275405932466, 0.8098204560944436, 0.9994936507934369, 0.9064297856762168, 0.0009699623174705369, 0.004849811587352685, 0.08778158973108359, 0.9989526841233698, 0.9996472268965261, 0.9993553934292466, 0.9999455595693896, 0.9983143945918614, 0.9981600400192683, 0.9997053511103509, 0.9996180015937018, 0.9981811173333349, 0.9978360949201669, 0.9993251026117953, 0.9992192551911665, 0.9993945728122123, 0.999406144494503, 0.9994476426518807, 0.9997279695485702, 0.9994973678009874, 0.04550925521704402, 0.015169751739014673, 0.9389766739679898, 0.9993743108203289, 0.9973888583363515, 0.015555934268121486, 0.22967879419402898, 0.7540052845254178, 0.9996464593846719, 0.00556867884184814, 0.9934523053857083, 0.9994267329460337, 0.9994233966334358, 0.9975836239274063, 0.9996599902643557, 0.9998629007036769, 0.9995488323492572, 0.999856727414878, 0.9996921158187073, 0.9996384971042029, 0.04325288154040772, 0.0043252881540407715, 0.02162644077020386, 0.9277743090417455, 0.9991458422846191, 0.9926053567629738, 0.006566297839666861, 0.999928984908132, 0.007496530206820749, 0.8854235122056062, 0.1066173184970062, 0.9993753830425892, 0.999730987323491, 0.9995586080727253, 0.9996938651917198, 0.9984940404578694, 0.9981412130107334, 0.9988364985596061, 0.9996359763565764, 0.9989349837310034, 0.9978754204797498, 0.9977072143538169, 0.9992080566809308, 0.9998434985308392, 0.9967345790106896, 0.9984787949665949, 0.9982246746438568, 0.9990445010338708, 0.99531614134011, 0.9985051840080683, 0.07556857874281656, 0.9091553084552436, 0.014927126665247715, 0.9983549137656483, 0.9815073558301884, 0.018140700156394532, 0.9941061640496219, 0.9990245023637216, 0.999603120730522, 0.9993695555463677, 0.9995035156314886, 0.9985557900226935, 0.9993052978522717, 0.7399771218594585, 0.25985040103047446, 0.9991746843541817, 0.9997617969924244, 0.9996539255713867, 0.999807638374533, 0.999265532712221, 0.9996910701631608, 0.999490220950585, 0.9998678107809165, 0.9993779233737127, 0.09236671039790534, 0.9074595164786151, 0.9996735030257188, 0.9998180507245596, 0.9984277436147617, 0.9985843952375811, 0.04550925521704402, 0.015169751739014673, 0.9389766739679898, 0.9989479624894294, 0.9990116342118368, 0.9990146196698638, 0.27815544863017555, 0.7217762924696453, 0.9995008337542423, 0.9996140156663584, 0.9983305985793118, 0.9992748876281528, 0.9994558381427592, 0.9988744292354844, 0.9995476347502732, 0.9988485321152515, 0.9992616781957977, 0.9990261006897092, 0.9985805294056749, 0.9988216247851599, 0.9994585285805406, 0.9987073171377164, 0.9992716451259632, 0.998214889382518, 0.9997513950089651, 0.071696059672978, 0.08013089022274013, 0.8477004702510929, 0.9990486798523438, 0.9982364840685795, 0.009033696720896066, 0.9906954070582686, 0.9996677304369675, 0.9996092452527648, 0.999845739935956, 0.999956450293073, 0.9996092452527648, 0.9986646503105996, 0.9985842136010818, 0.9064297856762168, 0.0009699623174705369, 0.004849811587352685, 0.08778158973108359, 0.999646616045248, 0.9995363572022278, 0.9996086276878721, 0.9996166866829973, 0.9981246159923974, 0.1021349896274633, 0.007043792388100918, 0.7233974782579642, 0.08875178409007156, 0.07853828512732523, 0.9989594083822163, 0.999322227130313, 0.9993536080525909, 0.9991153569572611, 0.9992628680202377, 0.9991856768978195, 0.9988463339199397, 0.9995246850045758, 0.9997852853366768, 0.9998564812711487, 0.998969190611968, 0.9978178917421855, 0.1021349896274633, 0.007043792388100918, 0.7233974782579642, 0.08875178409007156, 0.07853828512732523, 0.20998746308380462, 0.00014988398507052435, 0.002697911731269438, 0.0031475636864810113, 0.0019484918059168165, 0.005096055492397828, 0.1527317807868643, 0.11466124857895113, 0.5094556652547122, 0.9963372635573294, 0.9394561713352592, 0.060332047700429485, 0.007496530206820749, 0.8854235122056062, 0.1066173184970062, 0.9977490764160291, 0.9988439683660124, 0.9990569365579924, 0.9993031917580383, 0.9986759105071459, 0.99853141893041, 0.9993418177131302, 0.9978715527101906, 0.07556857874281656, 0.9091553084552436, 0.014927126665247715, 0.9993152442013424, 0.9478769860974876, 0.0520573173142785, 0.9554647319166045, 0.04431140785700195, 0.99859692033479, 0.9989914753347973, 0.9991386077824428, 0.9979718749166936, 0.9995541679989668, 0.9993222272219979, 0.999514858357045, 0.9991673175200038, 0.9991380153231953, 0.9984270126350531, 0.9976678213485706, 0.999611485944698, 0.9995881944251757, 0.9996485003419031, 0.9989914753347973, 0.9986812345679018, 0.9976913782344043, 0.9992520818462408, 0.9997279695485702, 0.9995438826762247, 0.9992446689219796, 0.9994603248632499, 0.9995557843591483, 0.9991262354318227, 0.9995219491612557, 0.9994800240107926, 0.9982246746438567, 0.07556857874281656, 0.9091553084552436, 0.014927126665247715, 0.9328578390430144, 0.007488537698739794, 0.059908301589918354, 0.9990321517833717, 0.20576570607480382, 0.0033780237257105554, 0.002643670741860435, 0.004552988499870749, 0.002937411935400483, 0.004993600290180821, 0.1496611381086546, 0.11279661831937855, 0.5131658651144644, 0.9983794944013209, 0.9994565798369093, 0.02288367301734984, 0.9760384013052258, 0.9987496898446446, 0.9987943675574633, 0.06510888285873902, 0.03880661892242723, 0.8960017124533753, 0.0007658702080023771, 0.0053610914560166395, 0.09190442496028525, 0.9014292348187979, 0.680168465465644, 0.3196238805196278, 0.015847553412153947, 0.983480520577789, 0.9064297856762168, 0.0009699623174705369, 0.004849811587352685, 0.08778158973108359, 0.9997492075130073, 0.9970261345711208, 0.24675391987674247, 0.49063557190306784, 0.0028722678504171082, 0.2592874523149262, 0.9990968241348762, 0.9994290232892884, 0.9994383122518017, 0.9991504577560957, 0.9988840145192082, 0.9997726398095373, 0.9998081859274989, 0.9990710032664677, 0.9996529096635524, 0.9986648429930347, 0.9982246746438566, 0.9990407606040806, 0.9962266835462205, 0.9995374560589194, 0.04969047574708858, 0.0013429858310023942, 0.1383275405932466, 0.8098204560944436, 0.9988859475794816, 0.9989594083822163, 0.9990849105700049, 0.998955051596944, 0.9991749599061208, 0.9997499858384655, 0.9998348707756086, 0.9554647319166045, 0.04431140785700195, 0.9989093582876396, 0.9995655988003237, 0.999494927388872, 0.9980773030833588, 0.9984632089269226, 0.9980903619971123, 0.9987596133930426, 0.9988925745342652, 0.9985222360028272, 0.9991431591284047, 0.9986345695299138, 0.9989198874072456, 0.9993981379919057, 0.9995910501231758, 0.007496530206820749, 0.8854235122056062, 0.1066173184970062, 0.9985600431746104, 0.9998577934825176, 0.9995929149500309, 0.9985051840080683, 0.9987142080963493, 0.1021349896274633, 0.007043792388100918, 0.7233974782579642, 0.08875178409007156, 0.07853828512732523, 0.9989976856827493, 0.99812533800338, 0.9995750969884698, 0.9987112526885943, 0.9988195142488081, 0.99922834133691, 0.999841212457153, 0.9988181673922419, 0.9998577934825176, 0.06510888285873902, 0.03880661892242723, 0.8960017124533753, 0.9987479877829082, 0.9954991653396146, 0.9977010675268183, 0.9987642019274048], \"Term\": [\"1\", \"101pm_knit_baller_brand\", \"10your_idea_arent_hateful\", \"10your_idea_arent_hateful\", \"10your_idea_arent_hateful\", \"10your_idea_arent_hateful\", \"2\", \"2011\", \"2017\", \"27_jeffrey_dahmer_lived\", \"3\", \"30\", \"4\", \"5\", \"6\", \"70_\\ud83d\\ude02\\ud83d\\ude02\", \"actual_schedule\", \"actually\", \"actually_feeling_grass_a\\u2026\", \"adult\", \"america_trump_supporter_\\ud83c\\uddfa\\ud83c\\uddf8\", \"america_trump_supporter_\\ud83c\\uddfa\\ud83c\\uddf8\", \"america_trump_supporter_\\ud83c\\uddfa\\ud83c\\uddf8\", \"american\", \"amp\", \"amp\", \"amp\", \"amp\", \"amp_letting_write_height\", \"amp_letting_write_height\", \"amp_letting_write_height\", \"amp_letting_write_height\", \"amp_tyler\\u2026\", \"apartment\", \"as\", \"assume\", \"bar\", \"bargain\", \"basement\", \"basement\", \"basement\", \"basement\", \"basement\", \"basement\", \"basement\", \"basement\", \"basementmy_mom_pizza_who\", \"basementmy_mom_pizza_who\", \"basementmy_mom_pizza_who\", \"basement\\u2026\", \"basement\\u2026\", \"baseme\\u2026\", \"basem\\u2026\", \"base\\u2026\", \"bathroom\", \"ba\\u2026\", \"beautiful\", \"bitch\", \"black\", \"block\", \"body\", \"bot\", \"bottom\", \"bowel_hell\", \"bowel_hell\", \"bowel_hell\", \"bowel_hell\", \"box\", \"boy\", \"bring\", \"bruhhh\", \"bruhhhhh\", \"bruhhhhh\", \"build\", \"building\", \"buildi\\u2026\", \"buildi\\u2026\", \"buildi\\u2026\", \"buyer_murder_happening\", \"b\\u2026\", \"call\", \"cant\", \"car\", \"cat\", \"chained\", \"check\", \"child\", \"church\", \"church_boycott_nfl_right\\u2026\", \"church_boycott_nfl_right\\u2026\", \"church_boycott_nfl_right\\u2026\", \"coming\", \"committed_murder\", \"conversion\", \"cook_make_pie\", \"cook_make_pie\", \"cook_make_pie\", \"country\", \"couple\", \"crazed_lunatic_left_condoning\", \"crazed_lunatic_left_condoning\", \"cry\", \"dad\", \"dark\", \"day\", \"day\", \"day\", \"day\", \"dead\", \"deep\", \"deg\", \"dick\", \"didnt\", \"doesnt\", \"dog\", \"don\\u2019t\", \"door\", \"dude\", \"dweller\", \"dweller_cound_burn_trump\", \"easily_wtf_create\", \"eating\", \"embracing_blessing_god\", \"embracing_blessing_god\", \"embracing_blessing_god\", \"family\", \"favorite\", \"feel\", \"finished\", \"fire\", \"flooded\", \"flooding\", \"floor\", \"food_\\u2014_decided_puerto\", \"food_\\u2014_decided_puerto\", \"food_\\u2014_decided_puerto\", \"food_\\u2014_decided_puerto\", \"food_\\u2014_decided_puerto\", \"food_\\u2014_decided_puerto\", \"food_\\u2014_decided_puerto\", \"food_\\u2014_decided_puerto\", \"food_\\u2014_decided_puerto\", \"fought_lift_flag_thst\", \"found\", \"found\", \"free\", \"freestyle_live_rodeo_tour\", \"freestyle_live_rodeo_tour\", \"friend\", \"fuck\", \"fuck_girl_boyfriend\", \"fun\", \"future_doesnt_belo\\u2026\", \"future_doesnt_belo\\u2026\", \"future_doesnt_belo\\u2026\", \"future_doesnt_belo\\u2026\", \"game\", \"gamers_future_olympics_la\", \"gamers_future_olympics_la\", \"gamers_future_olympics_la\", \"gamers_future_olympics_la\", \"getting\", \"girl\", \"god\", \"gonna\", \"grandmother\", \"guess\", \"gun\", \"guy\", \"g\\u2026\", \"halloween\", \"hang_formans\", \"happ\\u2026\", \"he\", \"head\", \"hell\", \"hello_creative_project_called\", \"help\", \"he\\u2019s_27\", \"he\\u2019s_27\", \"he\\u2019s_27\", \"hide\", \"hillary\", \"hocus_pocus_marathon_parent\", \"hocus_pocus_marathon_parent\", \"hocus_pocus_marathon_parent\", \"home\", \"homebrew_server\", \"homebrew_server\", \"hoop\", \"hope\", \"horror_movie\", \"hour\", \"house\", \"house_block_fat_as\", \"house_music\", \"housemusic\", \"huge\", \"human_evil_infinite_plunge\", \"human_evil_infinite_plunge\", \"human_evil_infinite_plunge\", \"human_evil_infinite_plunge\", \"h\\u2026\", \"ill\", \"ill\", \"ima_steal_money_church\", \"inviting_representing_1st_super\", \"inviting_representing_1st_super\", \"inviting_representing_1st_super\", \"in\\u2026\", \"it\\u2019s\", \"ive\", \"i\\u2019m\", \"jaxx\", \"jewel_check_bargain\", \"job\", \"johnny\", \"join\", \"joke\", \"keeping\", \"kept\", \"kid\", \"kill\", \"kitchen\", \"knocked_loose_turnstile_movement\", \"k\\u2026\", \"lady\", \"lamelo_ball_schedule510am_basketball\", \"lamelo_ball_schedule610am_hoop103pm\", \"lamelo_ball_schedule610am_hoop103pm\", \"lamelo_ball_schedule610am_hoop103pm\", \"learn\", \"leave\", \"leave\", \"leaving\", \"left\", \"life\", \"light\", \"listen\", \"literally\", \"little\", \"live\", \"live\", \"live_parent\", \"lived\", \"living\", \"locked\", \"logic\", \"logic_talking_updating_fan\", \"lol\", \"look\", \"looking\", \"lord_watchingbecause_that\\u2019s_exactly\", \"lord_watchingbecause_that\\u2019s_exactly\", \"love\", \"maga\", \"make\", \"maybe\", \"mcm_tweeted_mom\", \"mcm_tweeted_mom\", \"mcm_tweeted_mom\", \"mean\", \"medicine\", \"meet\", \"mom\", \"mom\", \"momma\", \"mommy\", \"mom\\u2019s\", \"money\", \"month\", \"morning\", \"mother\", \"move\", \"music\", \"name\", \"news\", \"nice\", \"night\", \"nothing\", \"office\", \"of\\u2026\", \"oh\", \"ok_calm_nowdissects\", \"ok_calm_nowdissects\", \"ok_calm_nowdissects\", \"okay\", \"online\", \"parent\", \"parent\", \"party\", \"password_password_try_fix\", \"people\", \"period\", \"phone_ham\\u2026\", \"photo\", \"picture\", \"planning_ahead_2028_begun\", \"planning_ahead_2028_begun\", \"planning_ahead_2028_begun\", \"planning_ahead_2028_begun\", \"play\", \"played\", \"playing\", \"please\", \"please_check_whats_bodacious\", \"pledge_listen_goodbye_kiss\", \"pledge_listen_goodbye_kiss\", \"pledge_listen_goodbye_kiss\", \"pledge_listen_goodbye_kiss\", \"pledge_listen_goodbye_kiss\", \"politicization_puertorico_tragedy_democratscnn\", \"post_malone_look\", \"pretty\", \"probably\", \"prof_democrat_ha\\u2026\", \"pussy\", \"racist\", \"radio_indie_rockpop_listen\", \"read\", \"real\", \"remember\", \"remodel\", \"repeat_dark\", \"repeat_dark\", \"repeat_dark\", \"repeat_dark\", \"repeat_dark\", \"ricans\", \"ricans\", \"ricans\", \"ricans\", \"ricans\", \"ricans\", \"ricans\", \"ricans\", \"ricans\", \"riva_starr\", \"rockbottomthen_strongbecomes_y\\u2026\", \"rockbottomthen_strongbecomes_y\\u2026\", \"rookie\\u2026\", \"rookie\\u2026\", \"rookie\\u2026\", \"round\", \"run\", \"sale\", \"scared\", \"school\", \"secret\", \"server\", \"service\", \"sew_bbb_merch_basement36pm\", \"sew_bbb_merch_basement36pm\", \"sew_bbb_merch_basement36pm\", \"shes\", \"shit\", \"shit\", \"shooting_look_loser_live\\u2026\", \"shooting_look_loser_live\\u2026\", \"shot\", \"showwe_liked_echoesheres_snippet\", \"sick\", \"sister\", \"sitting\", \"sitting_smoke_circle\", \"skate\", \"sleep\", \"sm\", \"smell\", \"snsd_fx_waiting_sm\", \"society\", \"someone\", \"song\", \"song_dahilan_\\ud83d\\udc95\", \"sound\", \"spa\", \"space\", \"spread_love\", \"stair\", \"start\", \"started\", \"stay\", \"stop\", \"store\", \"story\", \"story_neck_deep\", \"street_smart_professor_lavar610pm\", \"street_smart_professor_lavar610pm\", \"street_smart_professor_lavar610pm\", \"strong_youreally_landin_basementbelow\", \"strong_youreally_landin_basementbelow\", \"strong_youreally_landin_basementbelow\", \"stuff\", \"survivalist_filled_massive\", \"survivalist_filled_massive\", \"survivalist_filled_massive\", \"survivalist_filled_massive\", \"survivalist_filled_massive\", \"survivalist_filled_massive\", \"survivalist_filled_massive\", \"survivalist_filled_massive\", \"survivalist_filled_massive\", \"take\", \"taking\", \"talk\", \"talk\", \"tbt\", \"tell\", \"tell_nigga_wouldn\\u2019t_time\\u201d\", \"tell_nigga_wouldn\\u2019t_time\\u201d\", \"tell_nigga_wouldn\\u2019t_time\\u201d\", \"thank_providing_artistic_home\", \"thank_providing_artistic_home\", \"thank_providing_artistic_home\", \"thank_providing_artistic_home\", \"thats\", \"thats\", \"there\", \"there\", \"there\\u2019s_talk_including_video\", \"there\\u2019s_talk_including_video\", \"there\\u2019s_talk_including_video\", \"there\\u2019s_talk_including_video\", \"the\\u2026\", \"thread\", \"time\", \"time\", \"time\", \"time\", \"told\", \"tomorrow\", \"tonight\", \"top\", \"to\\u2026\", \"travis_scott\", \"troll\", \"true\", \"trump\", \"try\", \"turnover_citizen_title_fight\", \"twitter\", \"type\", \"t\\u2026\", \"unamerican_poisontheyre_dang_boring\", \"unamerican_poisontheyre_dang_boring\", \"unamerican_poisontheyre_dang_boring\", \"unamerican_poisontheyre_dang_boring\", \"unfinished\", \"union_refusal_deliver_supply\", \"update\", \"upstairs\", \"ur\", \"via\", \"video\", \"violence_amp_appears_mass\", \"violence_amp_appears_mass\", \"visit\", \"vol_1_10_song\", \"vol_1_20_song\", \"wait\", \"waiting\", \"walkout\", \"wall\", \"wanna\", \"watch\", \"watching\", \"water\", \"waterproofing\", \"week\", \"weekend\", \"weeklyidol_celebrate_10th_anniv\", \"weeklyidol_celebrate_10th_anniv\", \"weeklyidol_celebrate_10th_anniv\", \"white\", \"wild_cat_spent_someone\\u2019s\", \"window\", \"winter_merch_basement13pmonline_math\", \"wish\", \"wo_cry\", \"wo_cry\", \"wo_cry\", \"wo_cry\", \"wo_cry\", \"wonder\", \"wont\", \"wow\", \"ya\", \"yeah\", \"yes\", \"youre\", \"you\\u2026\", \"\\u2014_can\\u2019t_believe_they\\u2019re\", \"\\u201cbabe_weed_amp_gun\", \"\\u201cbabe_weed_amp_gun\", \"\\u201cbabe_weed_amp_gun\", \"\\u2026\", \"\\u21ba\\u2764\", \"\\ud83c\\udf55_shop\", \"\\ud83d\\ude02\"]}, \"mdsDat\": {\"y\": [-0.10172902785417252, 0.06836505889722953, 0.03341667353215352, 0.02506492472892981, 0.3751026896245218, 0.03682583398588168, -0.052660304541245644, -0.144251126531496, -0.10030283682422582, -0.13983188501757596], \"cluster\": [1, 1, 1, 1, 1, 1, 1, 1, 1, 1], \"Freq\": [12.21519132341131, 12.155632843519953, 11.78715943929939, 11.030406777074912, 10.719702347850749, 9.689508798900198, 9.49511870232816, 9.028271793319675, 8.111695570612088, 5.7673124036835555], \"topics\": [1, 2, 3, 4, 5, 6, 7, 8, 9, 10], \"x\": [0.06845419863391333, 0.13247975472427345, 0.13545533947812644, 0.10085324026405945, -0.20830056456450144, 0.09965574921489163, 0.13763118678534328, -0.3128241527313247, 0.15148938526895697, -0.30489413707373886]}, \"R\": 30, \"lambda.step\": 0.01, \"tinfo\": {\"Category\": [\"Default\", \"Default\", \"Default\", \"Default\", \"Default\", \"Default\", \"Default\", \"Default\", \"Default\", \"Default\", \"Default\", \"Default\", \"Default\", \"Default\", \"Default\", \"Default\", \"Default\", \"Default\", \"Default\", \"Default\", \"Default\", \"Default\", \"Default\", \"Default\", \"Default\", \"Default\", \"Default\", \"Default\", \"Default\", \"Default\", \"Topic1\", \"Topic1\", \"Topic1\", \"Topic1\", \"Topic1\", \"Topic1\", \"Topic1\", \"Topic1\", \"Topic1\", \"Topic1\", \"Topic1\", \"Topic1\", \"Topic1\", \"Topic1\", \"Topic1\", \"Topic1\", \"Topic1\", \"Topic1\", \"Topic1\", \"Topic1\", \"Topic1\", \"Topic1\", \"Topic1\", \"Topic1\", \"Topic1\", \"Topic1\", \"Topic1\", \"Topic1\", \"Topic1\", \"Topic1\", \"Topic1\", \"Topic1\", \"Topic1\", \"Topic1\", \"Topic1\", \"Topic1\", \"Topic1\", \"Topic1\", \"Topic1\", \"Topic2\", \"Topic2\", \"Topic2\", \"Topic2\", \"Topic2\", \"Topic2\", \"Topic2\", \"Topic2\", \"Topic2\", \"Topic2\", \"Topic2\", \"Topic2\", \"Topic2\", \"Topic2\", \"Topic2\", \"Topic2\", \"Topic2\", \"Topic2\", \"Topic2\", \"Topic2\", \"Topic2\", \"Topic2\", \"Topic2\", \"Topic2\", \"Topic2\", \"Topic2\", \"Topic2\", \"Topic2\", \"Topic2\", \"Topic2\", \"Topic2\", \"Topic2\", \"Topic2\", \"Topic2\", \"Topic2\", \"Topic2\", \"Topic2\", \"Topic2\", \"Topic2\", \"Topic2\", \"Topic2\", \"Topic3\", \"Topic3\", \"Topic3\", \"Topic3\", \"Topic3\", \"Topic3\", \"Topic3\", \"Topic3\", \"Topic3\", \"Topic3\", \"Topic3\", \"Topic3\", \"Topic3\", \"Topic3\", \"Topic3\", \"Topic3\", \"Topic3\", \"Topic3\", \"Topic3\", \"Topic3\", \"Topic3\", \"Topic3\", \"Topic3\", \"Topic3\", \"Topic3\", \"Topic3\", \"Topic3\", \"Topic3\", \"Topic3\", \"Topic3\", \"Topic3\", \"Topic3\", \"Topic3\", \"Topic3\", \"Topic3\", \"Topic3\", \"Topic3\", \"Topic4\", \"Topic4\", \"Topic4\", \"Topic4\", \"Topic4\", \"Topic4\", \"Topic4\", \"Topic4\", \"Topic4\", \"Topic4\", \"Topic4\", \"Topic4\", \"Topic4\", \"Topic4\", \"Topic4\", \"Topic4\", \"Topic4\", \"Topic4\", \"Topic4\", \"Topic4\", \"Topic4\", \"Topic4\", \"Topic4\", \"Topic4\", \"Topic4\", \"Topic4\", \"Topic4\", \"Topic4\", \"Topic4\", \"Topic4\", \"Topic4\", \"Topic4\", \"Topic5\", \"Topic5\", \"Topic5\", \"Topic5\", \"Topic5\", \"Topic5\", \"Topic5\", \"Topic5\", \"Topic5\", \"Topic5\", \"Topic5\", \"Topic5\", \"Topic5\", \"Topic5\", \"Topic5\", \"Topic5\", \"Topic5\", \"Topic5\", \"Topic5\", \"Topic5\", \"Topic5\", \"Topic5\", \"Topic5\", \"Topic5\", \"Topic5\", \"Topic5\", \"Topic5\", \"Topic5\", \"Topic5\", \"Topic5\", \"Topic5\", \"Topic6\", \"Topic6\", \"Topic6\", \"Topic6\", \"Topic6\", \"Topic6\", \"Topic6\", \"Topic6\", \"Topic6\", \"Topic6\", \"Topic6\", \"Topic6\", \"Topic6\", \"Topic6\", \"Topic6\", \"Topic6\", \"Topic6\", \"Topic6\", \"Topic6\", \"Topic6\", \"Topic6\", \"Topic6\", \"Topic6\", \"Topic6\", \"Topic6\", \"Topic6\", \"Topic6\", \"Topic6\", \"Topic6\", \"Topic6\", \"Topic6\", \"Topic6\", \"Topic6\", \"Topic6\", \"Topic6\", \"Topic6\", \"Topic7\", \"Topic7\", \"Topic7\", \"Topic7\", \"Topic7\", \"Topic7\", \"Topic7\", \"Topic7\", \"Topic7\", \"Topic7\", \"Topic7\", \"Topic7\", \"Topic7\", \"Topic7\", \"Topic7\", \"Topic7\", \"Topic7\", \"Topic7\", \"Topic7\", \"Topic7\", \"Topic7\", \"Topic7\", \"Topic7\", \"Topic7\", \"Topic7\", \"Topic7\", \"Topic7\", \"Topic7\", \"Topic7\", \"Topic7\", \"Topic7\", \"Topic7\", \"Topic8\", \"Topic8\", \"Topic8\", \"Topic8\", \"Topic8\", \"Topic8\", \"Topic8\", \"Topic8\", \"Topic8\", \"Topic8\", \"Topic8\", \"Topic8\", \"Topic8\", \"Topic8\", \"Topic8\", \"Topic8\", \"Topic8\", \"Topic8\", \"Topic8\", \"Topic8\", \"Topic8\", \"Topic8\", \"Topic8\", \"Topic8\", \"Topic8\", \"Topic8\", \"Topic8\", \"Topic8\", \"Topic8\", \"Topic8\", \"Topic8\", \"Topic8\", \"Topic8\", \"Topic8\", \"Topic8\", \"Topic8\", \"Topic8\", \"Topic8\", \"Topic8\", \"Topic8\", \"Topic8\", \"Topic8\", \"Topic8\", \"Topic8\", \"Topic8\", \"Topic8\", \"Topic8\", \"Topic8\", \"Topic8\", \"Topic8\", \"Topic9\", \"Topic9\", \"Topic9\", \"Topic9\", \"Topic9\", \"Topic9\", \"Topic9\", \"Topic9\", \"Topic9\", \"Topic9\", \"Topic9\", \"Topic9\", \"Topic9\", \"Topic9\", \"Topic9\", \"Topic9\", \"Topic9\", \"Topic9\", \"Topic9\", \"Topic9\", \"Topic9\", \"Topic9\", \"Topic9\", \"Topic9\", \"Topic9\", \"Topic9\", \"Topic9\", \"Topic9\", \"Topic9\", \"Topic9\", \"Topic9\", \"Topic9\", \"Topic9\", \"Topic9\", \"Topic9\", \"Topic9\", \"Topic9\", \"Topic9\", \"Topic9\", \"Topic9\", \"Topic9\", \"Topic9\", \"Topic9\", \"Topic9\", \"Topic10\", \"Topic10\", \"Topic10\", \"Topic10\", \"Topic10\", \"Topic10\", \"Topic10\", \"Topic10\", \"Topic10\", \"Topic10\", \"Topic10\", \"Topic10\", \"Topic10\", \"Topic10\", \"Topic10\", \"Topic10\", \"Topic10\", \"Topic10\", \"Topic10\", \"Topic10\", \"Topic10\", \"Topic10\", \"Topic10\", \"Topic10\", \"Topic10\", \"Topic10\", \"Topic10\", \"Topic10\", \"Topic10\", \"Topic10\", \"Topic10\", \"Topic10\", \"Topic10\", \"Topic10\", \"Topic10\", \"Topic10\", \"Topic10\", \"Topic10\", \"Topic10\", \"Topic10\", \"Topic10\"], \"Term\": [\"basement\", \"period\", \"embracing_blessing_god\", \"ima_steal_money_church\", \"lord_watchingbecause_that\\u2019s_exactly\", \"gonna\", \"\\u2014_can\\u2019t_believe_they\\u2019re\", \"wild_cat_spent_someone\\u2019s\", \"actually_feeling_grass_a\\u2026\", \"2011\", \"mom\", \"food_\\u2014_decided_puerto\", \"survivalist_filled_massive\", \"ricans\", \"house_music\", \"amp\", \"america_trump_supporter_\\ud83c\\uddfa\\ud83c\\uddf8\", \"church_boycott_nfl_right\\u2026\", \"spread_love\", \"hello_creative_project_called\", \"logic_talking_updating_fan\", \"house\", \"kid\", \"people\", \"party\", \"he\\u2019s_27\", \"mcm_tweeted_mom\", \"life\", \"home\", \"door\", \"door\", \"3\", \"finished\", \"gun\", \"please\", \"real\", \"skate\", \"video\", \"listen\", \"start\", \"money\", \"tomorrow\", \"box\", \"lived\", \"read\", \"prof_democrat_ha\\u2026\", \"dog\", \"huge\", \"cat\", \"morning\", \"join\", \"chained\", \"sale\", \"build\", \"beautiful\", \"hour\", \"union_refusal_deliver_supply\", \"politicization_puertorico_tragedy_democratscnn\", \"k\\u2026\", \"johnny\", \"bruhhhhh\", \"buildi\\u2026\", \"there\\u2019s_talk_including_video\", \"gamers_future_olympics_la\", \"planning_ahead_2028_begun\", \"basement\", \"ricans\", \"food_\\u2014_decided_puerto\", \"survivalist_filled_massive\", \"gonna\", \"house\", \"home\", \"look\", \"locked\", \"mommy\", \"call\", \"he\", \"ur\", \"little\", \"bar\", \"girl\", \"play\", \"oh\", \"as\", \"stay\", \"move\", \"mean\", \"tell\", \"actually\", \"dad\", \"4\", \"hope\", \"music\", \"5\", \"yeah\", \"stuff\", \"nothing\", \"week\", \"family\", \"ill\", \"leave\", \"shit\", \"live\", \"basement\", \"amp\", \"thats\", \"mom\", \"day\", \"lord_watchingbecause_that\\u2019s_exactly\", \"time\", \"life\", \"guy\", \"living\", \"dweller\", \"youre\", \"mother\", \"lol\", \"probably\", \"friend\", \"via\", \"remember\", \"job\", \"don\\u2019t\", \"cant\", \"trump\", \"\\ud83d\\ude02\", \"sitting\", \"building\", \"school\", \"game\", \"coming\", \"floor\", \"maybe\", \"didnt\", \"looking\", \"sound\", \"water\", \"dark\", \"stop\", \"sleep\", \"parent\", \"basement\\u2026\", \"mom\", \"day\", \"basement\", \"time\", \"live\", \"period\", \"travis_scott\", \"boy\", \"fuck\", \"tonight\", \"god\", \"fuck_girl_boyfriend\", \"easily_wtf_create\", \"logic\", \"bargain\", \"feel\", \"house_block_fat_as\", \"yes\", \"wall\", \"watch\", \"story\", \"t\\u2026\", \"nice\", \"free\", \"month\", \"literally\", \"twitter\", \"make\", \"space\", \"try\", \"flooded\", \"doesnt\", \"wow\", \"church\", \"white\", \"freestyle_live_rodeo_tour\", \"basement\", \"ima_steal_money_church\", \"kid\", \"ive\", \"dude\", \"help\", \"window\", \"troll\", \"bitch\", \"the\\u2026\", \"watching\", \"bathroom\", \"in\\u2026\", \"dead\", \"live_parent\", \"hide\", \"upstairs\", \"cry\", \"ba\\u2026\", \"name\", \"baseme\\u2026\", \"shes\", \"to\\u2026\", \"pretty\", \"told\", \"kept\", \"store\", \"momma\", \"eating\", \"server\", \"car\", \"lord_watchingbecause_that\\u2019s_exactly\", \"people\", \"love\", \"2\", \"night\", \"i\\u2019m\", \"check\", \"hoop\", \"playing\", \"1\", \"getting\", \"left\", \"fire\", \"black\", \"2017\", \"child\", \"song\", \"update\", \"run\", \"head\", \"hell\", \"jaxx\", \"deg\", \"news\", \"mom\\u2019s\", \"body\", \"office\", \"wish\", \"favorite\", \"started\", \"wanna\", \"there\", \"talk\", \"amp\", \"found\", \"basement\", \"time\", \"wild_cat_spent_someone\\u2019s\", \"\\u2014_can\\u2019t_believe_they\\u2019re\", \"2011\", \"actually_feeling_grass_a\\u2026\", \"house_music\", \"party\", \"logic_talking_updating_fan\", \"housemusic\", \"stair\", \"phone_ham\\u2026\", \"password_password_try_fix\", \"fun\", \"kitchen\", \"grandmother\", \"h\\u2026\", \"b\\u2026\", \"top\", \"wont\", \"meet\", \"committed_murder\", \"27_jeffrey_dahmer_lived\", \"30\", \"sm\", \"service\", \"you\\u2026\", \"pussy\", \"halloween\", \"okay\", \"american\", \"spa\", \"homebrew_server\", \"basement\", \"it\\u2019s\", \"someone\", \"taking\", \"society\", \"bring\", \"waterproofing\", \"photo\", \"weekend\", \"radio_indie_rockpop_listen\", \"6\", \"picture\", \"basem\\u2026\", \"true\", \"deep\", \"wait\", \"assume\", \"take\", \"bottom\", \"country\", \"walkout\", \"medicine\", \"bot\", \"learn\", \"round\", \"unfinished\", \"horror_movie\", \"flooding\", \"of\\u2026\", \"remodel\", \"conversion\", \"church_boycott_nfl_right\\u2026\", \"america_trump_supporter_\\ud83c\\uddfa\\ud83c\\uddf8\", \"embracing_blessing_god\", \"crazed_lunatic_left_condoning\", \"shooting_look_loser_live\\u2026\", \"violence_amp_appears_mass\", \"sew_bbb_merch_basement36pm\", \"street_smart_professor_lavar610pm\", \"lamelo_ball_schedule610am_hoop103pm\", \"rockbottomthen_strongbecomes_y\\u2026\", \"strong_youreally_landin_basementbelow\", \"rookie\\u2026\", \"inviting_representing_1st_super\", \"weeklyidol_celebrate_10th_anniv\", \"wo_cry\", \"repeat_dark\", \"pledge_listen_goodbye_kiss\", \"ricans\", \"food_\\u2014_decided_puerto\", \"survivalist_filled_massive\", \"spread_love\", \"hello_creative_project_called\", \"vol_1_10_song\", \"maga\", \"fought_lift_flag_thst\", \"dweller_cound_burn_trump\", \"vol_1_20_song\", \"scared\", \"played\", \"\\u2026\", \"showwe_liked_echoesheres_snippet\", \"song_dahilan_\\ud83d\\udc95\", \"light\", \"hang_formans\", \"apartment\", \"please_check_whats_bodacious\", \"jewel_check_bargain\", \"guess\", \"actual_schedule\", \"snsd_fx_waiting_sm\", \"secret\", \"sister\", \"shot\", \"couple\", \"kill\", \"\\u21ba\\u2764\", \"base\\u2026\", \"lady\", \"type\", \"leaving\", \"\\ud83c\\udf55_shop\", \"buyer_murder_happening\", \"he\\u2019s_27\", \"mcm_tweeted_mom\", \"\\u201cbabe_weed_amp_gun\", \"tell_nigga_wouldn\\u2019t_time\\u201d\", \"bowel_hell\", \"human_evil_infinite_plunge\", \"cook_make_pie\", \"ok_calm_nowdissects\", \"basement\", \"ricans\", \"survivalist_filled_massive\", \"food_\\u2014_decided_puerto\", \"post_malone_look\", \"sitting_smoke_circle\", \"70_\\ud83d\\ude02\\ud83d\\ude02\", \"happ\\u2026\", \"ya\", \"smell\", \"g\\u2026\", \"waiting\", \"wonder\", \"turnover_citizen_title_fight\", \"amp_tyler\\u2026\", \"story_neck_deep\", \"knocked_loose_turnstile_movement\", \"lamelo_ball_schedule510am_basketball\", \"winter_merch_basement13pmonline_math\", \"101pm_knit_baller_brand\", \"sick\", \"hillary\", \"racist\", \"keeping\", \"joke\", \"thread\", \"adult\", \"dick\", \"block\", \"online\", \"riva_starr\", \"tbt\", \"bruhhh\", \"visit\", \"amp_letting_write_height\", \"thank_providing_artistic_home\", \"hocus_pocus_marathon_parent\", \"food_\\u2014_decided_puerto\", \"basementmy_mom_pizza_who\", \"survivalist_filled_massive\", \"ricans\", \"10your_idea_arent_hateful\", \"future_doesnt_belo\\u2026\", \"unamerican_poisontheyre_dang_boring\", \"embracing_blessing_god\"], \"loglift\": [30.0, 29.0, 28.0, 27.0, 26.0, 25.0, 24.0, 23.0, 22.0, 21.0, 20.0, 19.0, 18.0, 17.0, 16.0, 15.0, 14.0, 13.0, 12.0, 11.0, 10.0, 9.0, 8.0, 7.0, 6.0, 5.0, 4.0, 3.0, 2.0, 1.0, 2.1022, 2.1022, 2.1021, 2.1021, 2.1021, 2.1021, 2.1021, 2.1021, 2.1021, 2.102, 2.102, 2.1019, 2.1019, 2.1019, 2.1019, 2.1019, 2.1019, 2.1018, 2.1018, 2.1017, 2.1017, 2.1017, 2.1017, 2.1017, 2.1017, 2.1016, 2.1016, 2.1016, 2.1016, 2.1016, 2.1014, 2.0087, 2.0043, 2.0043, 2.0043, 0.2198, 0.542, 0.5264, 0.5217, 2.1073, 2.1072, 2.1071, 2.1071, 2.107, 2.1069, 2.1069, 2.1069, 2.1069, 2.1068, 2.1068, 2.1068, 2.1067, 2.1067, 2.1067, 2.1067, 2.1066, 2.1066, 2.1065, 2.1065, 2.1065, 2.1065, 2.1065, 2.1065, 2.1065, 2.1064, 2.1064, 2.1064, 2.1064, 2.1064, 2.0997, 2.0888, 2.0537, 1.8063, 0.1168, 1.1602, 1.7219, 0.8278, 1.0673, -0.2743, 0.7083, 2.1379, 2.1378, 2.1378, 2.1378, 2.1377, 2.1377, 2.1376, 2.1375, 2.1375, 2.1375, 2.1374, 2.1374, 2.1374, 2.1374, 2.1374, 2.1373, 2.1373, 2.1373, 2.1373, 2.1373, 2.1373, 2.1372, 2.1372, 2.1372, 2.1372, 2.1372, 2.1372, 2.1371, 2.1371, 2.1371, 2.1288, 2.1332, 1.8121, 1.6766, 0.1802, 1.4262, 0.7902, 2.2045, 2.2042, 2.204, 2.204, 2.204, 2.204, 2.204, 2.204, 2.2039, 2.2039, 2.2038, 2.2037, 2.2037, 2.2037, 2.2036, 2.2036, 2.2036, 2.2036, 2.2036, 2.2036, 2.2035, 2.2035, 2.2035, 2.2035, 2.2035, 2.2035, 2.2035, 2.2034, 2.2034, 2.2034, 2.1614, -0.0857, 2.233, 2.2329, 2.2327, 2.2327, 2.2327, 2.2327, 2.2326, 2.2326, 2.2326, 2.2326, 2.2326, 2.2325, 2.2325, 2.2325, 2.2325, 2.2325, 2.2324, 2.2324, 2.2324, 2.2324, 2.2323, 2.2323, 2.2323, 2.2323, 2.2323, 2.2323, 2.2322, 2.2322, 2.2321, 2.2321, 2.136, 2.3339, 2.3338, 2.3338, 2.3337, 2.3337, 2.3335, 2.3335, 2.3335, 2.3334, 2.3334, 2.3334, 2.3334, 2.3334, 2.3333, 2.3333, 2.3333, 2.3333, 2.3332, 2.3332, 2.3331, 2.333, 2.333, 2.3329, 2.3329, 2.3329, 2.3329, 2.3328, 2.3328, 2.3328, 2.3328, 2.3172, 2.3102, 1.756, 1.9278, -0.008, 0.9846, 2.3543, 2.3543, 2.3542, 2.3542, 2.3542, 2.3541, 2.3541, 2.354, 2.3536, 2.3535, 2.3535, 2.3535, 2.3534, 2.3533, 2.3532, 2.3532, 2.353, 2.3529, 2.3529, 2.3529, 2.3529, 2.3528, 2.3528, 2.3527, 2.3525, 2.3525, 2.3524, 2.3524, 2.3523, 2.3523, 2.3483, 0.4495, 2.4045, 2.4045, 2.4042, 2.4042, 2.4041, 2.404, 2.404, 2.404, 2.4038, 2.4038, 2.4038, 2.4038, 2.4038, 2.4037, 2.4037, 2.4036, 2.4035, 2.4034, 2.4034, 2.4034, 2.4033, 2.4033, 2.4033, 2.4033, 2.4032, 2.4032, 2.4032, 2.4032, 2.4032, 2.4032, 2.4021, 2.4015, 2.3117, 2.3592, 2.3592, 2.3592, 2.3098, 2.3098, 2.3098, 2.3418, 2.3348, 2.2836, 2.2836, 2.2836, 2.0812, 2.0812, 2.0812, 0.5257, 0.5101, 0.5054, 2.5116, 2.5116, 2.5114, 2.5114, 2.5114, 2.5114, 2.5113, 2.5113, 2.5112, 2.5111, 2.5109, 2.5109, 2.5108, 2.5108, 2.5106, 2.5105, 2.5105, 2.5103, 2.5101, 2.5101, 2.5099, 2.5098, 2.5094, 2.5093, 2.5092, 2.5085, 2.5083, 2.5083, 2.5083, 2.508, 2.508, 2.5072, 2.449, 2.449, 2.4021, 2.4021, 2.4381, 2.4381, 2.3464, 2.3464, 1.015, 0.3462, 0.3292, 0.3306, 2.8524, 2.8524, 2.8524, 2.8524, 2.8521, 2.8519, 2.8517, 2.8516, 2.8514, 2.8513, 2.8513, 2.8513, 2.8513, 2.8513, 2.8513, 2.8513, 2.8513, 2.8512, 2.8511, 2.851, 2.8508, 2.8506, 2.8505, 2.8504, 2.8502, 2.8502, 2.8501, 2.85, 2.85, 2.85, 2.7491, 2.7491, 2.5711, 2.1885, 2.5711, 2.1858, 2.1786, 2.6427, 2.6427, 2.6427, 0.4025], \"Freq\": [223993.0, 21535.0, 15786.0, 13090.0, 12093.0, 8100.0, 5677.0, 5677.0, 5633.0, 5001.0, 7143.0, 6776.0, 6808.0, 6671.0, 4092.0, 6356.0, 3722.0, 3712.0, 3443.0, 3443.0, 3670.0, 3833.0, 3471.0, 3274.0, 3147.0, 3230.0, 3230.0, 3036.0, 3001.0, 2868.0, 2868.134137760386, 2438.475388837989, 2120.594059119781, 2113.899603721455, 1918.012082656314, 1915.5516220865518, 1829.1643986572396, 1742.5644764368608, 1714.1280049021302, 1519.42481274577, 1387.2830403502624, 1254.9935881629378, 1234.9273417971674, 1217.5667889263368, 1185.5312931566882, 1188.1201776616335, 1133.1930246090246, 1118.681242208825, 1025.6390458917567, 961.3594756402872, 949.2884000333487, 946.5840761119956, 943.1667402835428, 910.940984139666, 894.5355776577192, 853.5670459741251, 1311.253568029757, 1311.253568029757, 804.0455481636856, 790.5646318004497, 1250.3210580017183, 1870.9314938337616, 1869.1766817412567, 1869.1766817412567, 1869.1766817412567, 34088.6210664967, 1401.30090322606, 1401.3023944163765, 1401.2554662762486, 8099.650240873535, 3832.7248868288775, 3000.27060439363, 2564.5490361095967, 2274.647486841008, 1784.8992113283743, 1583.007433757149, 1553.150730581848, 1509.455937986061, 1409.1894263093218, 1380.475407049429, 1269.6581193120203, 1255.6539218148594, 1251.5212718854739, 1318.5649209033973, 1116.7063153751303, 998.3604006119014, 955.2156983026679, 939.3433690892663, 936.5139704214155, 935.4865239358035, 930.754668562406, 916.7389683020707, 894.8711945764223, 872.7595577002339, 842.205078440923, 835.0188674317491, 805.2519054674967, 780.6802707763807, 772.3504293138171, 906.7886763037304, 1028.1367872298633, 1747.7469344018366, 2543.111564176179, 30601.57490542761, 2465.2988390263226, 1229.8884976799668, 1986.9183541346003, 1114.1904585268062, 1117.3404560032118, 945.234942060566, 3035.4083041091844, 2459.13320784061, 2344.014764225384, 1964.9995326940143, 1890.5035958497315, 1646.9487043632678, 1442.939241983906, 1254.3136279242976, 1237.4733394811656, 1205.5048528703207, 1093.3311064552768, 1020.3914569160493, 999.6581841132041, 993.3553051199011, 992.5480375279702, 975.4096733806631, 959.6314904578618, 950.6301294187815, 919.4216453122207, 911.6652690972442, 880.0628835577248, 1134.2671147959811, 863.4266799115729, 848.2177695469544, 842.7280189047922, 807.268919932956, 799.2956590975591, 756.7831899283365, 752.861804187341, 745.8249173197432, 2632.006186437003, 1201.1135133339303, 5155.8366547569885, 1987.0132130772386, 31616.270377287154, 1879.2440088449189, 892.7487234336683, 21535.15619548783, 2638.8182560730984, 1509.716133507866, 1476.493571425082, 1458.0374192984398, 1412.1287224115117, 1413.0036158690932, 1410.7734876312372, 1300.1688136645423, 1244.5656617712768, 1050.181523959833, 982.6620045545654, 974.9709756440735, 914.353164988361, 860.4906370281786, 845.6581501251454, 836.6053568287213, 835.2028115604247, 830.5600550634613, 821.6655297713173, 807.3852413591807, 805.9919953688616, 799.476260622947, 794.8130653209502, 773.2515051459656, 753.400617247252, 749.0683109307674, 706.5186523832743, 704.2694918177311, 686.2059384694611, 2419.122049599967, 22678.368395845886, 13089.90493675989, 3470.808136612033, 2046.1683293341282, 1873.2460027811899, 1737.138349118678, 1698.956744385737, 1618.5754447092165, 1596.3650647944148, 1452.6293065286063, 1395.4611622013886, 1379.1324755919659, 1355.1117528816665, 1345.015641334005, 1248.2956896369908, 1225.0318051373251, 1165.4834789418735, 1080.2785050827404, 1067.980295470189, 1033.2718530103007, 1007.8933659849224, 984.939785803621, 977.3564022171222, 975.8961310946385, 936.1109721936638, 914.990045256053, 888.6900474332015, 844.6868626467947, 798.6616468831078, 779.7785795199571, 778.4155435381018, 10974.376993854918, 3273.7161133278482, 2336.974703212196, 2099.1103857987996, 1849.2131205546405, 1751.7479404761066, 1260.855251223635, 1240.918628331241, 1174.671480732521, 1159.1101537157526, 1135.4013654019402, 1110.2952855726076, 1076.7037359961193, 1065.7566640734697, 967.2783626549236, 939.1002679145425, 912.5323020997391, 900.0358424944908, 834.1766763307686, 810.6933407234371, 798.6530192871707, 717.2928626637706, 675.4727672304252, 653.139628271606, 651.2999955956709, 649.8865286098697, 643.6807980831139, 610.998042982032, 600.0363774660528, 590.530520772107, 580.8555756165996, 1054.6667307512741, 981.2780967928155, 3565.7757111314168, 1222.374589241622, 21531.68134672815, 993.297084945358, 5677.033862148504, 5677.033862148504, 5000.865202507143, 5632.870287779166, 4091.8135452170036, 3146.2727880076154, 3669.181555282301, 2032.8533134446127, 921.6478299694567, 889.5473506803452, 889.5473506803452, 848.9719889002091, 761.3864262309673, 681.3769918835978, 672.8024839483314, 626.2402874387978, 570.712622555671, 518.2000175961932, 511.73210908292475, 526.0598347799372, 526.0598347799372, 481.97951340870407, 474.6369058457432, 457.2018606804645, 409.7122481998488, 406.55875898107286, 393.07935662331045, 384.5937188367667, 373.4824962938665, 364.06893107722937, 892.3995214364468, 33337.94728004444, 2505.9442991070255, 2258.200194566791, 1144.8925135463496, 1127.7084485758753, 1106.644510777856, 951.2982893653053, 910.4867616974933, 900.6385842243576, 749.6265341461364, 735.6079884299547, 735.3120679715987, 722.8427042772672, 696.9181073422387, 662.7623181155221, 638.4990354781764, 602.1757141364164, 575.2032290457566, 533.6625425784989, 518.348211536363, 508.24189072794974, 493.7572865147356, 492.14689459100987, 483.06587036441306, 478.3483309721581, 467.79193161738954, 467.4011993331622, 465.9319547179414, 458.0890080797742, 452.25843997260466, 449.2708597809622, 3702.634541266384, 3710.2749165009077, 14383.49803392332, 2414.896941177817, 2414.896941177817, 2414.896941177817, 1949.352239006964, 1949.352239006964, 1949.352239006964, 871.5481721385947, 871.5482020329567, 1063.4793139984233, 1063.4793139984233, 1063.4793139984233, 2054.297035184447, 2054.297035184447, 2054.297035184447, 1018.949092949036, 1018.9510032047633, 1018.9512370679078, 3443.1343151640035, 3443.1343151640035, 1825.9910191333252, 1774.5258812532927, 1684.1632397411518, 1683.454992470667, 1553.9654408778017, 1331.1308655561784, 1174.7477894714036, 1019.4802115875934, 925.0666598074948, 925.0666598074948, 753.6783865273626, 734.6992538300822, 650.6937067009688, 566.2663312695303, 566.2569021811245, 496.11707474017635, 441.23063485787804, 441.23063485787804, 412.81019540883074, 379.97492766044957, 320.6537206524866, 306.68362833808453, 301.1888402573242, 236.26981761675225, 224.66787541354057, 222.24744176477228, 222.04359902824177, 206.42409959152013, 225.64203452955738, 238.32343215788714, 3033.451377514826, 3033.451377514826, 2078.0301532551366, 2078.0301532551366, 429.497273013657, 429.497273013657, 602.8859875340859, 602.8859875340859, 50135.42841806032, 765.046551102443, 767.6561619553812, 765.0468987135787, 1959.27276040365, 1959.2727600686624, 1958.7168242532691, 1359.2829042224635, 851.3248455153731, 735.3846994719771, 627.3693100383019, 555.0809502063545, 480.7093309424954, 458.0403825521378, 458.0403825521378, 458.04038255213754, 458.0403825521374, 464.90998823116445, 464.90998823116445, 464.90998823116445, 454.61899698489793, 429.3498589795334, 414.70607858899683, 393.1298680016601, 361.9974691817292, 332.2169669204573, 310.49309698344615, 297.61201136855954, 281.4138944778556, 276.7160779595291, 287.2225839867051, 262.5558625341564, 261.1510944594756, 258.5095468105739, 1176.9424180083324, 1176.9424180083324, 824.4227454187935, 3486.968855834185, 824.4227454187935, 3493.932093253089, 3399.0067436140944, 603.4378210381102, 603.4378210381102, 603.4378210381102, 1361.7254123375687], \"Total\": [223993.0, 21535.0, 15786.0, 13090.0, 12093.0, 8100.0, 5677.0, 5677.0, 5633.0, 5001.0, 7143.0, 6776.0, 6808.0, 6671.0, 4092.0, 6356.0, 3722.0, 3712.0, 3443.0, 3443.0, 3670.0, 3833.0, 3471.0, 3274.0, 3147.0, 3230.0, 3230.0, 3036.0, 3001.0, 2868.0, 2868.8575535875502, 2439.1987843946563, 2121.3174506954238, 2114.623071339997, 1918.735476860086, 1916.2750213551944, 1829.8877547517634, 1743.2878677734964, 1714.8513969128871, 1520.1482151901303, 1388.0064606568262, 1255.7169851537678, 1235.6507419904808, 1218.2902003898328, 1186.2547062798744, 1188.876358784043, 1133.9164127751042, 1119.4046680290612, 1026.3624204797884, 962.0828923766998, 950.0117779993076, 947.3074515852944, 943.8901482921254, 911.664370327521, 895.2589658433343, 854.290467075874, 1312.3656366809976, 1312.3656366809976, 804.7689559053405, 791.2880475580696, 1251.6376963640173, 2054.8977881564265, 2061.9357721190554, 2061.9357721190554, 2061.9357721190554, 223993.82760192352, 6671.826876830595, 6776.406436248504, 6808.71475974078, 8100.440991495711, 3833.525573658585, 3001.0609969514994, 2565.3391101736584, 2275.4377068959475, 1785.689248074509, 1583.7980453165408, 1553.940798007326, 1510.2460135127692, 1409.9795157978776, 1381.2654970133408, 1270.4481799472428, 1256.444007152172, 1252.3113308471782, 1319.436938084881, 1117.4964093836438, 999.1504897009214, 956.0057539134383, 940.1334553941373, 937.3043153329301, 936.2765846052912, 931.544775925318, 917.5290503393461, 895.6612862568232, 873.5496633030245, 842.9951437555274, 835.8089361883319, 806.0419566236088, 781.4703373064774, 773.1405275022253, 913.7569063276618, 1047.3686151139302, 1844.121152468007, 3436.5927335831657, 223993.82760192352, 6356.586100596259, 1808.3755164361241, 7143.48760660747, 3152.6097546467045, 12093.101456012566, 3829.726394912156, 3036.205006825094, 2459.939693042332, 2344.8114792929023, 1965.7962334454103, 1891.3003149297936, 1647.7453827515546, 1443.7359863587321, 1255.110324616542, 1238.2710630019326, 1206.3015924812019, 1094.1278372463407, 1021.1881538879618, 1000.454898526952, 994.151997835885, 993.3447803740286, 976.2063939801358, 960.4281896216277, 951.426963035576, 920.2184515828714, 912.462024422085, 880.8596122890103, 1135.3022687021585, 864.2233987590772, 849.0144948080247, 843.5247370225969, 808.0656490448263, 800.092470638296, 757.5799331849508, 753.6585201113783, 746.6216988077823, 2656.7196953252824, 1207.1270244180291, 7143.48760660747, 3152.6097546467045, 223993.82760192352, 3829.726394912156, 3436.5927335831657, 21535.937883783237, 2639.6001399905736, 1510.4980912582391, 1477.2754620511644, 1458.819400984367, 1412.9107715672405, 1413.7874756104727, 1411.5561579057758, 1300.9555092644107, 1245.3476449787695, 1050.9634363878872, 983.4436979828567, 975.7529482155262, 915.1351213480765, 861.272757873331, 846.440128543144, 837.3873284351054, 835.9851041266784, 831.3420228585804, 822.4475445833436, 808.1671630802521, 806.7738892982139, 800.2582110822134, 795.5950399734369, 774.0334561926612, 754.1825050461163, 749.8502554727223, 707.3005341270075, 705.0514437854322, 686.9892348376736, 2525.582775445106, 223993.82760192352, 13090.929653571986, 3471.54330162696, 2046.9034866749287, 1873.9811541980478, 1737.8735111845324, 1699.6919191698473, 1619.3106065620889, 1597.1002151887649, 1453.36449289568, 1396.1963180700934, 1379.8676312570765, 1355.846884955996, 1345.7508033824479, 1249.0308446982392, 1225.7669491168608, 1166.2186383037097, 1081.0136443902318, 1068.715418671602, 1034.0070187223696, 1008.6284911464246, 985.6749466353, 978.0915359530089, 976.6312865992455, 936.8461368201104, 915.7252024561884, 889.4251904582989, 845.4220061288803, 799.3967724951286, 780.5137203053638, 779.1507173618313, 12093.101456012566, 3274.505125370352, 2337.763272635101, 2099.898997340908, 1850.001723058987, 1752.5365124292366, 1261.6438413034546, 1241.7118324840833, 1175.460042514653, 1159.8989676462845, 1136.1899497732652, 1111.0838596788237, 1077.492266284444, 1066.5452034577036, 968.0669005474199, 939.8888574088085, 913.3210320304914, 900.8243348270826, 834.9652462379313, 811.4819029957051, 799.4415774296854, 718.0814015386737, 676.2612359353416, 653.9282318959754, 652.0885976313002, 650.675110467546, 644.4694024304277, 611.7866302959964, 600.8249183224954, 591.3191202270715, 581.6441275188095, 1072.7207889996578, 1005.0834052104294, 6356.586100596259, 1835.0919623175369, 223993.82760192352, 3829.726394912156, 5677.807421220307, 5677.807421220307, 5001.638220530889, 5633.842823474577, 4092.586355426977, 3147.0456674887796, 3670.1338138402875, 2033.626121313416, 922.4207320757092, 890.3479076716136, 890.3479076716136, 849.7448737243506, 762.1594007166271, 682.1498354517984, 673.5753395731867, 627.0132245525275, 571.485501074942, 518.972898770601, 512.505012358274, 526.8592142394815, 526.8592142394815, 482.75244303035606, 475.40979595931975, 457.97477516900955, 410.48512470537645, 407.3316996132455, 393.85225890374556, 385.3666070174896, 374.2553958662062, 364.84228283516285, 897.8790377396937, 223993.82760192352, 2506.6743271698883, 2258.9302400659985, 1145.6225543953499, 1128.4384141844534, 1107.3745268243722, 952.0282977530617, 911.2167930615913, 901.3686145839073, 750.356655770404, 736.3380181783066, 736.0420783635786, 723.5727093666395, 697.6481128179629, 663.4923686018652, 639.2290437113713, 602.9059023670814, 575.9333031422077, 534.3925883249234, 519.0782424069341, 508.97195218229126, 494.48873574904644, 492.8769522949603, 483.79588595221594, 479.07836879889976, 468.52195802139977, 468.13118098456613, 466.66195171802434, 458.8190427447065, 452.9884698808217, 450.00085069650953, 3712.5610293772315, 3722.4754449775915, 15786.758973665495, 2527.5658214570158, 2527.5658214570158, 2527.5658214570158, 2143.7481383808545, 2143.7481383808545, 2143.7481383808545, 928.1965743655896, 934.7619363895293, 1200.555423869474, 1200.555423869474, 1200.555423869474, 2839.3795413087432, 2839.3795413087432, 2839.3795413087432, 6671.826876830595, 6776.406436248504, 6808.71475974078, 3443.936855697551, 3443.936855697551, 1826.793561314596, 1775.3230187369318, 1684.960370473946, 1684.2521231433889, 1554.7852794608407, 1331.928098476719, 1175.5450329880018, 1020.2773997693339, 925.933827102979, 925.933827102979, 754.4756549920903, 735.4963845889931, 651.4909682359057, 567.0634617474569, 567.0540326581161, 496.914302430325, 442.03089501663004, 442.03089501663004, 413.6074160214111, 380.7722537588755, 321.45102139147536, 307.4808934499948, 301.9861117879125, 237.06699936758721, 225.46521838626967, 223.04470989598897, 222.84084904226538, 207.22132851569089, 226.5207559216379, 239.44408832467118, 3230.11218924422, 3230.11218924422, 2319.191996084641, 2319.191996084641, 462.3969383708134, 462.3969383708134, 711.3361631395445, 711.3361631395445, 223993.82760192352, 6671.826876830595, 6808.71475974078, 6776.406436248504, 1960.3286575797774, 1960.328657399923, 1959.7812076738403, 1360.061861237854, 852.0981391859297, 736.1579671809807, 628.142517537344, 555.8542318213954, 481.4825969003803, 458.8145450956758, 458.8145450956758, 458.8145450956757, 458.81454509567567, 465.6961300225384, 465.6961300225384, 465.6961300225384, 455.3922713584839, 430.1231123792316, 415.4793244035307, 393.90313545495763, 362.7707352747108, 332.99026824689264, 311.2663906317443, 298.385271261372, 282.18715783314025, 277.48935690169577, 288.05506980165853, 263.32924322700876, 261.9244117793615, 259.28278462020376, 1305.7042688842862, 1305.7042688842862, 1092.83053701492, 6776.406436248504, 1092.83053701492, 6808.71475974078, 6671.826876830595, 744.6094939464907, 744.6094939464907, 744.6094939464907, 15786.758973665495], \"logprob\": [30.0, 29.0, 28.0, 27.0, 26.0, 25.0, 24.0, 23.0, 22.0, 21.0, 20.0, 19.0, 18.0, 17.0, 16.0, 15.0, 14.0, 13.0, 12.0, 11.0, 10.0, 9.0, 8.0, 7.0, 6.0, 5.0, 4.0, 3.0, 2.0, 1.0, -4.352, -4.5143, -4.6539, -4.6571, -4.7543, -4.7556, -4.8018, -4.8503, -4.8667, -4.9873, -5.0783, -5.1785, -5.1946, -5.2088, -5.2354, -5.2333, -5.2806, -5.2935, -5.3803, -5.445, -5.4577, -5.4605, -5.4642, -5.4989, -5.5171, -5.564, -5.1347, -5.1347, -5.6237, -5.6406, -5.1822, -4.7792, -4.7801, -4.7801, -4.7801, -1.8767, -5.0682, -5.0682, -5.0683, -3.3089, -4.0572, -4.302, -4.459, -4.5789, -4.8214, -4.9414, -4.9605, -4.989, -5.0577, -5.0783, -5.162, -5.1731, -5.1764, -5.1242, -5.2904, -5.4024, -5.4466, -5.4633, -5.4663, -5.4674, -5.4725, -5.4877, -5.5118, -5.5368, -5.5725, -5.5811, -5.6174, -5.6483, -5.6591, -5.4986, -5.373, -4.8424, -4.4674, -1.9797, -4.4984, -5.1938, -4.7142, -5.2926, -5.2898, -5.4571, -4.2596, -4.4702, -4.5181, -4.6945, -4.7331, -4.871, -5.0033, -5.1434, -5.1569, -5.1831, -5.2807, -5.3498, -5.3703, -5.3766, -5.3774, -5.3949, -5.4112, -5.4206, -5.454, -5.4625, -5.4977, -5.244, -5.5168, -5.5346, -5.5411, -5.5841, -5.594, -5.6486, -5.6538, -5.6632, -4.4022, -5.1867, -3.7298, -4.6833, -1.9163, -4.7391, -5.4834, -2.2339, -4.3333, -4.8917, -4.9139, -4.9265, -4.9585, -4.9579, -4.9595, -5.0411, -5.0848, -5.2547, -5.3211, -5.329, -5.3932, -5.4539, -5.4713, -5.482, -5.4837, -5.4893, -5.5, -5.5176, -5.5193, -5.5274, -5.5333, -5.5608, -5.5868, -5.5925, -5.651, -5.6542, -5.6802, -4.4202, -2.1822, -2.7032, -4.0307, -4.5591, -4.6474, -4.7228, -4.745, -4.7935, -4.8073, -4.9017, -4.9418, -4.9536, -4.9712, -4.9786, -5.0533, -5.0721, -5.1219, -5.1978, -5.2093, -5.2423, -5.2672, -5.2902, -5.2979, -5.2994, -5.3411, -5.3639, -5.393, -5.4438, -5.4999, -5.5238, -5.5255, -2.8795, -3.9881, -4.3251, -4.4325, -4.5592, -4.6134, -4.9422, -4.9581, -5.013, -5.0263, -5.047, -5.0694, -5.1001, -5.1103, -5.2073, -5.2368, -5.2655, -5.2793, -5.3553, -5.3839, -5.3988, -5.5063, -5.5663, -5.6, -5.6028, -5.605, -5.6146, -5.6667, -5.6848, -5.7007, -5.7173, -5.1208, -5.1929, -3.9026, -4.9732, -2.1045, -5.1807, -3.4173, -3.4173, -3.5441, -3.4251, -3.7447, -4.0075, -3.8538, -4.4443, -5.2353, -5.2708, -5.2708, -5.3175, -5.4263, -5.5374, -5.55, -5.6218, -5.7146, -5.8111, -5.8237, -5.7961, -5.7961, -5.8836, -5.8989, -5.9364, -6.046, -6.0538, -6.0875, -6.1093, -6.1386, -6.1641, -5.2676, -1.647, -4.1847, -4.2888, -4.968, -4.9831, -5.002, -5.1532, -5.1971, -5.208, -5.3915, -5.4104, -5.4108, -5.4279, -5.4644, -5.5147, -5.552, -5.6105, -5.6564, -5.7313, -5.7604, -5.7801, -5.809, -5.8123, -5.8309, -5.8407, -5.8631, -5.8639, -5.867, -5.884, -5.8968, -5.9034, -3.7943, -3.7922, -2.4372, -4.2217, -4.2217, -4.2217, -4.4358, -4.4358, -4.4358, -5.2408, -5.2408, -5.0418, -5.0418, -5.0418, -4.3834, -4.3834, -4.3834, -5.0845, -5.0845, -5.0845, -3.7599, -3.7599, -4.3941, -4.4227, -4.475, -4.4754, -4.5555, -4.7102, -4.8352, -4.977, -5.0742, -5.0742, -5.2791, -5.3046, -5.426, -5.565, -5.565, -5.6972, -5.8145, -5.8145, -5.881, -5.9639, -6.1337, -6.1782, -6.1963, -6.439, -6.4894, -6.5002, -6.5011, -6.5741, -6.4851, -6.4304, -3.8866, -3.8866, -4.2648, -4.2648, -5.8414, -5.8414, -5.5023, -5.5023, -1.0815, -5.2641, -5.2607, -5.2641, -3.9826, -3.9826, -3.9829, -4.3482, -4.8161, -4.9625, -5.1214, -5.2438, -5.3877, -5.436, -5.436, -5.436, -5.436, -5.4211, -5.4211, -5.4211, -5.4435, -5.5006, -5.5353, -5.5888, -5.6713, -5.7571, -5.8248, -5.8671, -5.9231, -5.9399, -5.9027, -5.9925, -5.9978, -6.008, -4.4922, -4.4922, -4.8482, -3.4061, -4.8482, -3.4041, -3.4317, -5.1603, -5.1603, -5.1603, -4.3464]}};\n",
       "\n",
       "function LDAvis_load_lib(url, callback){\n",
       "  var s = document.createElement('script');\n",
       "  s.src = url;\n",
       "  s.async = true;\n",
       "  s.onreadystatechange = s.onload = callback;\n",
       "  s.onerror = function(){console.warn(\"failed to load library \" + url);};\n",
       "  document.getElementsByTagName(\"head\")[0].appendChild(s);\n",
       "}\n",
       "\n",
       "if(typeof(LDAvis) !== \"undefined\"){\n",
       "   // already loaded: just create the visualization\n",
       "   !function(LDAvis){\n",
       "       new LDAvis(\"#\" + \"ldavis_el198101400543920658728890396563\", ldavis_el198101400543920658728890396563_data);\n",
       "   }(LDAvis);\n",
       "}else if(typeof define === \"function\" && define.amd){\n",
       "   // require.js is available: use it to load d3/LDAvis\n",
       "   require.config({paths: {d3: \"https://cdnjs.cloudflare.com/ajax/libs/d3/3.5.5/d3.min\"}});\n",
       "   require([\"d3\"], function(d3){\n",
       "      window.d3 = d3;\n",
       "      LDAvis_load_lib(\"https://cdn.rawgit.com/bmabey/pyLDAvis/files/ldavis.v1.0.0.js\", function(){\n",
       "        new LDAvis(\"#\" + \"ldavis_el198101400543920658728890396563\", ldavis_el198101400543920658728890396563_data);\n",
       "      });\n",
       "    });\n",
       "}else{\n",
       "    // require.js not available: dynamically load d3 & LDAvis\n",
       "    LDAvis_load_lib(\"https://cdnjs.cloudflare.com/ajax/libs/d3/3.5.5/d3.min.js\", function(){\n",
       "         LDAvis_load_lib(\"https://cdn.rawgit.com/bmabey/pyLDAvis/files/ldavis.v1.0.0.js\", function(){\n",
       "                 new LDAvis(\"#\" + \"ldavis_el198101400543920658728890396563\", ldavis_el198101400543920658728890396563_data);\n",
       "            })\n",
       "         });\n",
       "}\n",
       "</script>"
      ],
      "text/plain": [
       "PreparedData(topic_coordinates=            Freq  cluster  topics         x         y\n",
       "topic                                                \n",
       "3      12.215191        1       1  0.068454 -0.101729\n",
       "0      12.155633        1       2  0.132480  0.068365\n",
       "4      11.787159        1       3  0.135455  0.033417\n",
       "9      11.030407        1       4  0.100853  0.025065\n",
       "8      10.719702        1       5 -0.208301  0.375103\n",
       "7       9.689509        1       6  0.099656  0.036826\n",
       "5       9.495119        1       7  0.137631 -0.052660\n",
       "2       9.028272        1       8 -0.312824 -0.144251\n",
       "6       8.111696        1       9  0.151489 -0.100303\n",
       "1       5.767312        1      10 -0.304894 -0.139832, topic_info=      Category           Freq                                  Term  \\\n",
       "term                                                                  \n",
       "86365  Default  223993.000000                              basement   \n",
       "9700   Default   21535.000000                                period   \n",
       "6289   Default   15786.000000                embracing_blessing_god   \n",
       "47861  Default   13090.000000                ima_steal_money_church   \n",
       "17200  Default   12093.000000   lord_watchingbecause_that���s_exactly   \n",
       "24753  Default    8100.000000                                 gonna   \n",
       "7744   Default    5677.000000               ���_can���t_believe_they���re   \n",
       "80957  Default    5677.000000              wild_cat_spent_someone���s   \n",
       "40084  Default    5633.000000             actually_feeling_grass_a���   \n",
       "25183  Default    5001.000000                                  2011   \n",
       "65886  Default    7143.000000                                   mom   \n",
       "89365  Default    6776.000000                 food_���_decided_puerto   \n",
       "12170  Default    6808.000000            survivalist_filled_massive   \n",
       "27985  Default    6671.000000                                ricans   \n",
       "37274  Default    4092.000000                           house_music   \n",
       "36566  Default    6356.000000                                   amp   \n",
       "25593  Default    3722.000000            america_trump_supporter_��������   \n",
       "42830  Default    3712.000000             church_boycott_nfl_right���   \n",
       "24637  Default    3443.000000                           spread_love   \n",
       "12986  Default    3443.000000         hello_creative_project_called   \n",
       "81270  Default    3670.000000            logic_talking_updating_fan   \n",
       "42233  Default    3833.000000                                 house   \n",
       "29102  Default    3471.000000                                   kid   \n",
       "11894  Default    3274.000000                                people   \n",
       "52066  Default    3147.000000                                 party   \n",
       "51762  Default    3230.000000                               he���s_27   \n",
       "62800  Default    3230.000000                       mcm_tweeted_mom   \n",
       "11786  Default    3036.000000                                  life   \n",
       "33799  Default    3001.000000                                  home   \n",
       "48014  Default    2868.000000                                  door   \n",
       "...        ...            ...                                   ...   \n",
       "74993  Topic10     458.040383                       story_neck_deep   \n",
       "69207  Topic10     458.040383      knocked_loose_turnstile_movement   \n",
       "16560  Topic10     464.909988  lamelo_ball_schedule510am_basketball   \n",
       "56340  Topic10     464.909988  winter_merch_basement13pmonline_math   \n",
       "28976  Topic10     464.909988               101pm_knit_baller_brand   \n",
       "93508  Topic10     454.618997                                  sick   \n",
       "41562  Topic10     429.349859                               hillary   \n",
       "21330  Topic10     414.706079                                racist   \n",
       "59647  Topic10     393.129868                               keeping   \n",
       "8184   Topic10     361.997469                                  joke   \n",
       "92383  Topic10     332.216967                                thread   \n",
       "28673  Topic10     310.493097                                 adult   \n",
       "76733  Topic10     297.612011                                  dick   \n",
       "39643  Topic10     281.413894                                 block   \n",
       "38576  Topic10     276.716078                                online   \n",
       "31414  Topic10     287.222584                            riva_starr   \n",
       "75217  Topic10     262.555863                                   tbt   \n",
       "11408  Topic10     261.151094                                bruhhh   \n",
       "53088  Topic10     258.509547                                 visit   \n",
       "78764  Topic10    1176.942418              amp_letting_write_height   \n",
       "57067  Topic10    1176.942418         thank_providing_artistic_home   \n",
       "87566  Topic10     824.422745           hocus_pocus_marathon_parent   \n",
       "89365  Topic10    3486.968856                 food_���_decided_puerto   \n",
       "83836  Topic10     824.422745              basementmy_mom_pizza_who   \n",
       "12170  Topic10    3493.932093            survivalist_filled_massive   \n",
       "27985  Topic10    3399.006744                                ricans   \n",
       "40621  Topic10     603.437821             10your_idea_arent_hateful   \n",
       "75546  Topic10     603.437821                   future_doesnt_belo���   \n",
       "91016  Topic10     603.437821   unamerican_poisontheyre_dang_boring   \n",
       "6289   Topic10    1361.725412                embracing_blessing_god   \n",
       "\n",
       "               Total  loglift  logprob  \n",
       "term                                    \n",
       "86365  223993.000000  30.0000  30.0000  \n",
       "9700    21535.000000  29.0000  29.0000  \n",
       "6289    15786.000000  28.0000  28.0000  \n",
       "47861   13090.000000  27.0000  27.0000  \n",
       "17200   12093.000000  26.0000  26.0000  \n",
       "24753    8100.000000  25.0000  25.0000  \n",
       "7744     5677.000000  24.0000  24.0000  \n",
       "80957    5677.000000  23.0000  23.0000  \n",
       "40084    5633.000000  22.0000  22.0000  \n",
       "25183    5001.000000  21.0000  21.0000  \n",
       "65886    7143.000000  20.0000  20.0000  \n",
       "89365    6776.000000  19.0000  19.0000  \n",
       "12170    6808.000000  18.0000  18.0000  \n",
       "27985    6671.000000  17.0000  17.0000  \n",
       "37274    4092.000000  16.0000  16.0000  \n",
       "36566    6356.000000  15.0000  15.0000  \n",
       "25593    3722.000000  14.0000  14.0000  \n",
       "42830    3712.000000  13.0000  13.0000  \n",
       "24637    3443.000000  12.0000  12.0000  \n",
       "12986    3443.000000  11.0000  11.0000  \n",
       "81270    3670.000000  10.0000  10.0000  \n",
       "42233    3833.000000   9.0000   9.0000  \n",
       "29102    3471.000000   8.0000   8.0000  \n",
       "11894    3274.000000   7.0000   7.0000  \n",
       "52066    3147.000000   6.0000   6.0000  \n",
       "51762    3230.000000   5.0000   5.0000  \n",
       "62800    3230.000000   4.0000   4.0000  \n",
       "11786    3036.000000   3.0000   3.0000  \n",
       "33799    3001.000000   2.0000   2.0000  \n",
       "48014    2868.000000   1.0000   1.0000  \n",
       "...              ...      ...      ...  \n",
       "74993     458.814545   2.8513  -5.4360  \n",
       "69207     458.814545   2.8513  -5.4360  \n",
       "16560     465.696130   2.8513  -5.4211  \n",
       "56340     465.696130   2.8513  -5.4211  \n",
       "28976     465.696130   2.8513  -5.4211  \n",
       "93508     455.392271   2.8513  -5.4435  \n",
       "41562     430.123112   2.8512  -5.5006  \n",
       "21330     415.479324   2.8511  -5.5353  \n",
       "59647     393.903135   2.8510  -5.5888  \n",
       "8184      362.770735   2.8508  -5.6713  \n",
       "92383     332.990268   2.8506  -5.7571  \n",
       "28673     311.266391   2.8505  -5.8248  \n",
       "76733     298.385271   2.8504  -5.8671  \n",
       "39643     282.187158   2.8502  -5.9231  \n",
       "38576     277.489357   2.8502  -5.9399  \n",
       "31414     288.055070   2.8501  -5.9027  \n",
       "75217     263.329243   2.8500  -5.9925  \n",
       "11408     261.924412   2.8500  -5.9978  \n",
       "53088     259.282785   2.8500  -6.0080  \n",
       "78764    1305.704269   2.7491  -4.4922  \n",
       "57067    1305.704269   2.7491  -4.4922  \n",
       "87566    1092.830537   2.5711  -4.8482  \n",
       "89365    6776.406436   2.1885  -3.4061  \n",
       "83836    1092.830537   2.5711  -4.8482  \n",
       "12170    6808.714760   2.1858  -3.4041  \n",
       "27985    6671.826877   2.1786  -3.4317  \n",
       "40621     744.609494   2.6427  -5.1603  \n",
       "75546     744.609494   2.6427  -5.1603  \n",
       "91016     744.609494   2.6427  -5.1603  \n",
       "6289    15786.758974   0.4025  -4.3464  \n",
       "\n",
       "[413 rows x 6 columns], token_table=       Topic      Freq                                  Term\n",
       "term                                                        \n",
       "79424      6  0.999225                                     1\n",
       "28976     10  0.998505               101pm_knit_baller_brand\n",
       "40621      5  0.049690             10your_idea_arent_hateful\n",
       "40621      7  0.001343             10your_idea_arent_hateful\n",
       "40621      8  0.138328             10your_idea_arent_hateful\n",
       "40621     10  0.809820             10your_idea_arent_hateful\n",
       "12333      6  0.999572                                     2\n",
       "25183      7  0.999872                                  2011\n",
       "25181      6  0.998898                                  2017\n",
       "69212      7  0.998369               27_jeffrey_dahmer_lived\n",
       "38665      1  0.999509                                     3\n",
       "77877      7  0.998441                                    30\n",
       "27294      2  0.999415                                     4\n",
       "92094      2  0.999371                                     5\n",
       "24333      8  0.999541                                     6\n",
       "69582     10  0.999601                                 70_��������\n",
       "21477      9  0.997668                       actual_schedule\n",
       "50539      2  0.999675                              actually\n",
       "40084      7  0.999850             actually_feeling_grass_a���\n",
       "28673     10  0.995931                                 adult\n",
       "25593      5  0.001880            america_trump_supporter_��������\n",
       "25593      8  0.996649            america_trump_supporter_��������\n",
       "25593     10  0.001343            america_trump_supporter_��������\n",
       "4474       7  0.996646                              american\n",
       "36566      2  0.387787                                   amp\n",
       "36566      3  0.037913                                   amp\n",
       "36566      4  0.013057                                   amp\n",
       "36566      6  0.560993                                   amp\n",
       "78764      2  0.000766              amp_letting_write_height\n",
       "78764      7  0.005361              amp_letting_write_height\n",
       "...      ...       ...                                   ...\n",
       "52969      8  0.999591                               weekend\n",
       "25656      5  0.007497       weeklyidol_celebrate_10th_anniv\n",
       "25656      8  0.885424       weeklyidol_celebrate_10th_anniv\n",
       "25656     10  0.106617       weeklyidol_celebrate_10th_anniv\n",
       "91668      4  0.998560                                 white\n",
       "80957      7  0.999858              wild_cat_spent_someone���s\n",
       "15008      5  0.999593                                window\n",
       "56340     10  0.998505  winter_merch_basement13pmonline_math\n",
       "66709      6  0.998714                                  wish\n",
       "5256       1  0.102135                                wo_cry\n",
       "5256       7  0.007044                                wo_cry\n",
       "5256       8  0.723397                                wo_cry\n",
       "5256       9  0.088752                                wo_cry\n",
       "5256      10  0.078538                                wo_cry\n",
       "6792      10  0.998998                                wonder\n",
       "61861      7  0.998125                                  wont\n",
       "62828      4  0.999575                                   wow\n",
       "27317     10  0.998711                                    ya\n",
       "3743       2  0.998820                                  yeah\n",
       "52824      4  0.999228                                   yes\n",
       "37820      3  0.999841                                 youre\n",
       "35949      7  0.998818                                  you���\n",
       "7744       7  0.999858               ���_can���t_believe_they���re\n",
       "38411      1  0.065109                    ���babe_weed_amp_gun\n",
       "38411      7  0.038807                    ���babe_weed_amp_gun\n",
       "38411      9  0.896002                    ���babe_weed_amp_gun\n",
       "66162      9  0.998748                                     ���\n",
       "84642      9  0.995499                                    ������\n",
       "6866       9  0.997701                                ����_shop\n",
       "5440       3  0.998764                                     ����\n",
       "\n",
       "[499 rows x 3 columns], R=30, lambda_step=0.01, plot_opts={'xlab': 'PC1', 'ylab': 'PC2'}, topic_order=[4, 1, 5, 10, 9, 8, 6, 3, 7, 2])"
      ]
     },
     "execution_count": 39,
     "metadata": {},
     "output_type": "execute_result"
    }
   ],
   "source": [
    "data"
   ]
  },
  {
   "cell_type": "code",
   "execution_count": null,
   "metadata": {
    "collapsed": true
   },
   "outputs": [],
   "source": []
  }
 ],
 "metadata": {
  "kernelspec": {
   "display_name": "Python 2",
   "language": "python",
   "name": "python2"
  },
  "language_info": {
   "codemirror_mode": {
    "name": "ipython",
    "version": 2
   },
   "file_extension": ".py",
   "mimetype": "text/x-python",
   "name": "python",
   "nbconvert_exporter": "python",
   "pygments_lexer": "ipython2",
   "version": "2.7.13"
  }
 },
 "nbformat": 4,
 "nbformat_minor": 2
}
