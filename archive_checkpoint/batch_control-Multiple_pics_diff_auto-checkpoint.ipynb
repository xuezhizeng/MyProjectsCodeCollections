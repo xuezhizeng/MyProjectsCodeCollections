{
 "cells": [
  {
   "cell_type": "code",
   "execution_count": 17,
   "metadata": {
    "collapsed": true
   },
   "outputs": [],
   "source": [
    "import pandas as pd\n",
    "import os\n",
    "from time import time, ctime"
   ]
  },
  {
   "cell_type": "code",
   "execution_count": 16,
   "metadata": {},
   "outputs": [
    {
     "name": "stdout",
     "output_type": "stream",
     "text": [
      "/home/soyoung/face/Freelancer/Tensorflow\r\n"
     ]
    }
   ],
   "source": [
    "!pwd"
   ]
  },
  {
   "cell_type": "code",
   "execution_count": 4,
   "metadata": {},
   "outputs": [
    {
     "name": "stdout",
     "output_type": "stream",
     "text": [
      "bidder1_gender_diff_predict_1.csv  bidder1_gender_predict.csv\r\n"
     ]
    }
   ],
   "source": [
    "!ls predict/bidder1/"
   ]
  },
  {
   "cell_type": "code",
   "execution_count": 5,
   "metadata": {},
   "outputs": [
    {
     "name": "stdout",
     "output_type": "stream",
     "text": [
      "bidder1_diff_10.txt  bidder1_diff_16.txt  bidder1_diff_4.txt\r\n",
      "bidder1_diff_11.txt  bidder1_diff_17.txt  bidder1_diff_5.txt\r\n",
      "bidder1_diff_12.txt  bidder1_diff_18.txt  bidder1_diff_6.txt\r\n",
      "bidder1_diff_13.txt  bidder1_diff_19.txt  bidder1_diff_7.txt\r\n",
      "bidder1_diff_14.txt  bidder1_diff_2.txt   bidder1_diff_8.txt\r\n",
      "bidder1_diff_15.txt  bidder1_diff_3.txt   bidder1_diff_9.txt\r\n"
     ]
    }
   ],
   "source": [
    "!ls bidder1_list/"
   ]
  },
  {
   "cell_type": "code",
   "execution_count": 13,
   "metadata": {
    "collapsed": true
   },
   "outputs": [],
   "source": [
    "path = 'bidder1_list/'"
   ]
  },
  {
   "cell_type": "code",
   "execution_count": 14,
   "metadata": {},
   "outputs": [
    {
     "data": {
      "text/plain": [
       "18"
      ]
     },
     "execution_count": 14,
     "metadata": {},
     "output_type": "execute_result"
    }
   ],
   "source": [
    "want = os.listdir(path)\n",
    "len(want)"
   ]
  },
  {
   "cell_type": "code",
   "execution_count": 7,
   "metadata": {
    "collapsed": true
   },
   "outputs": [],
   "source": [
    "start=time()"
   ]
  },
  {
   "cell_type": "code",
   "execution_count": 18,
   "metadata": {},
   "outputs": [
    {
     "name": "stdout",
     "output_type": "stream",
     "text": [
      "used 613.90 s, 10.23 m, 0.17 h Sun Oct  1 12:08:13 2017\n"
     ]
    }
   ],
   "source": [
    "print 'used {:.2f} s, {:.2f} m, {:.2f} h'.format(time()-start, (time()-start)/60.0,(time()-start)/3600.0), ctime()"
   ]
  },
  {
   "cell_type": "code",
   "execution_count": null,
   "metadata": {},
   "outputs": [],
   "source": [
    "n=0\n",
    "for i in want:\n",
    "    start=time()\n",
    "    !python rude-carnie/guess.py --class_type gender --model_type inception --model_dir 21936 \\\n",
    "    --filename `pwd`/{path}{i} \\\n",
    "    --target `pwd`/predict/bidder1/predict_{i}.csv \\\n",
    "    >log_pred_bidder1.txt 2>&1 \n",
    "    print 'used {:.2f} s, {:.2f} m, {:.2f} h'.format(time()-start, (time()-start)/60.0,(time()-start)/3600.0), ctime()\n",
    "    n+=1\n",
    "    print n\n",
    "    print i"
   ]
  },
  {
   "cell_type": "code",
   "execution_count": null,
   "metadata": {
    "collapsed": true
   },
   "outputs": [],
   "source": []
  }
 ],
 "metadata": {
  "kernelspec": {
   "display_name": "Python 2",
   "language": "python",
   "name": "python2"
  },
  "language_info": {
   "codemirror_mode": {
    "name": "ipython",
    "version": 2
   },
   "file_extension": ".py",
   "mimetype": "text/x-python",
   "name": "python",
   "nbconvert_exporter": "python",
   "pygments_lexer": "ipython2",
   "version": "2.7.13"
  }
 },
 "nbformat": 4,
 "nbformat_minor": 2
}
