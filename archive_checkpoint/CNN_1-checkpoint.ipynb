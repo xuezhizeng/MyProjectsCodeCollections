{
 "cells": [
  {
   "cell_type": "code",
   "execution_count": 1,
   "metadata": {},
   "outputs": [],
   "source": [
    "# !wget http://www.superdatascience.com/wp-content/uploads/2017/04/Convolutional_Neural_Networks.zip"
   ]
  },
  {
   "cell_type": "code",
   "execution_count": 2,
   "metadata": {
    "collapsed": true
   },
   "outputs": [],
   "source": [
    "# !unzip Convolutional_Neural_Networks.zip"
   ]
  },
  {
   "cell_type": "markdown",
   "metadata": {},
   "source": [
    "https://keras.io/preprocessing/image/"
   ]
  },
  {
   "cell_type": "code",
   "execution_count": 1,
   "metadata": {},
   "outputs": [
    {
     "name": "stderr",
     "output_type": "stream",
     "text": [
      "Using TensorFlow backend.\n"
     ]
    }
   ],
   "source": [
    "import os\n",
    "os.environ[\"CUDA_DEVICE_ORDER\"] = \"PCI_BUS_ID\"   # see issue #152\n",
    "os.environ[\"CUDA_VISIBLE_DEVICES\"] = \"0\"\n",
    "\n",
    "from keras.models import Sequential\n",
    "from keras.layers import Convolution2D, MaxPooling2D, Flatten, Dense"
   ]
  },
  {
   "cell_type": "code",
   "execution_count": 2,
   "metadata": {},
   "outputs": [
    {
     "name": "stdout",
     "output_type": "stream",
     "text": [
      "[name: \"/cpu:0\"\n",
      "device_type: \"CPU\"\n",
      "memory_limit: 268435456\n",
      "locality {\n",
      "}\n",
      "incarnation: 9030884635517559437\n",
      ", name: \"/gpu:0\"\n",
      "device_type: \"GPU\"\n",
      "memory_limit: 1545273344\n",
      "locality {\n",
      "  bus_id: 1\n",
      "}\n",
      "incarnation: 476681660033636762\n",
      "physical_device_desc: \"device: 0, name: GeForce GTX 750 Ti, pci bus id: 0000:02:00.0\"\n",
      "]\n"
     ]
    }
   ],
   "source": [
    "from tensorflow.python.client import device_lib\n",
    "print(device_lib.list_local_devices())"
   ]
  },
  {
   "cell_type": "code",
   "execution_count": 3,
   "metadata": {},
   "outputs": [],
   "source": [
    "# initializing\n",
    "classifier = Sequential()\n",
    "# Step 1  - Convolution\n",
    "classifier.add(Convolution2D(32, (3, 3), input_shape=(64, 64, 3), activation='relu'))\n",
    "# step 2 - Pooling\n",
    "classifier.add(MaxPooling2D(pool_size=(2,2)))\n",
    "# step 3 - Flattening\n",
    "classifier.add(Flatten())\n",
    "# step 4 - full Connection\n",
    "classifier.add(Dense(128, activation='relu'))\n",
    "# step 5 - Output layer\n",
    "classifier.add(Dense(1, activation='sigmoid'))\n",
    "# compile\n",
    "classifier.compile(optimizer='adam', loss='binary_crossentropy', metrics=['accuracy'])"
   ]
  },
  {
   "cell_type": "code",
   "execution_count": 4,
   "metadata": {},
   "outputs": [
    {
     "name": "stdout",
     "output_type": "stream",
     "text": [
      "_________________________________________________________________\n",
      "Layer (type)                 Output Shape              Param #   \n",
      "=================================================================\n",
      "conv2d_1 (Conv2D)            (None, 62, 62, 32)        896       \n",
      "_________________________________________________________________\n",
      "max_pooling2d_1 (MaxPooling2 (None, 31, 31, 32)        0         \n",
      "_________________________________________________________________\n",
      "flatten_1 (Flatten)          (None, 30752)             0         \n",
      "_________________________________________________________________\n",
      "dense_1 (Dense)              (None, 128)               3936384   \n",
      "_________________________________________________________________\n",
      "dense_2 (Dense)              (None, 1)                 129       \n",
      "=================================================================\n",
      "Total params: 3,937,409\n",
      "Trainable params: 3,937,409\n",
      "Non-trainable params: 0\n",
      "_________________________________________________________________\n"
     ]
    }
   ],
   "source": [
    "classifier.summary()"
   ]
  },
  {
   "cell_type": "markdown",
   "metadata": {},
   "source": [
    "### image proprocessing & trainning, testing"
   ]
  },
  {
   "cell_type": "code",
   "execution_count": 5,
   "metadata": {},
   "outputs": [
    {
     "name": "stdout",
     "output_type": "stream",
     "text": [
      "single_prediction  test_set  training_set\r\n"
     ]
    }
   ],
   "source": [
    "!ls Convolutional_Neural_Networks/dataset/"
   ]
  },
  {
   "cell_type": "code",
   "execution_count": 6,
   "metadata": {
    "collapsed": true
   },
   "outputs": [],
   "source": [
    "from keras.preprocessing.image import ImageDataGenerator"
   ]
  },
  {
   "cell_type": "code",
   "execution_count": 7,
   "metadata": {},
   "outputs": [
    {
     "data": {
      "text/plain": [
       "(1, 1.0, 7.0, 9)"
      ]
     },
     "execution_count": 7,
     "metadata": {},
     "output_type": "execute_result"
    }
   ],
   "source": [
    "1, 1.,7., 9"
   ]
  },
  {
   "cell_type": "code",
   "execution_count": 8,
   "metadata": {},
   "outputs": [
    {
     "name": "stdout",
     "output_type": "stream",
     "text": [
      "Found 8000 images belonging to 2 classes.\n",
      "Found 2000 images belonging to 2 classes.\n"
     ]
    }
   ],
   "source": [
    "train_datagen = ImageDataGenerator(\n",
    "        rescale=1./255,\n",
    "        shear_range=0.2,\n",
    "        zoom_range=0.2,\n",
    "        horizontal_flip=True)\n",
    "\n",
    "test_datagen = ImageDataGenerator(rescale=1./255)\n",
    "\n",
    "training_set = train_datagen.flow_from_directory(\n",
    "        'Convolutional_Neural_Networks/dataset/training_set',\n",
    "        target_size=(64, 64),\n",
    "        batch_size=32,\n",
    "        class_mode='binary')\n",
    "\n",
    "test_set = test_datagen.flow_from_directory(\n",
    "        'Convolutional_Neural_Networks/dataset/test_set',\n",
    "        target_size=(64, 64),\n",
    "        batch_size=32,\n",
    "        class_mode='binary')\n"
   ]
  },
  {
   "cell_type": "code",
   "execution_count": 9,
   "metadata": {},
   "outputs": [
    {
     "name": "stdout",
     "output_type": "stream",
     "text": [
      "Epoch 1/25\n",
      "250/250 [==============================] - 78s - loss: 0.6890 - acc: 0.5964 - val_loss: 0.7368 - val_acc: 0.5615\n",
      "Epoch 2/25\n",
      "250/250 [==============================] - 72s - loss: 0.5933 - acc: 0.6807 - val_loss: 0.5637 - val_acc: 0.7263\n",
      "Epoch 3/25\n",
      "250/250 [==============================] - 72s - loss: 0.5561 - acc: 0.7125 - val_loss: 0.5602 - val_acc: 0.7167\n",
      "Epoch 4/25\n",
      "250/250 [==============================] - 72s - loss: 0.5483 - acc: 0.7198 - val_loss: 0.5684 - val_acc: 0.7087\n",
      "Epoch 5/25\n",
      "250/250 [==============================] - 72s - loss: 0.5341 - acc: 0.7330 - val_loss: 0.5359 - val_acc: 0.7384\n",
      "Epoch 6/25\n",
      "250/250 [==============================] - 71s - loss: 0.5159 - acc: 0.7444 - val_loss: 0.5813 - val_acc: 0.7036\n",
      "Epoch 7/25\n",
      "250/250 [==============================] - 72s - loss: 0.5101 - acc: 0.7461 - val_loss: 0.5359 - val_acc: 0.7339\n",
      "Epoch 8/25\n",
      "250/250 [==============================] - 70s - loss: 0.4977 - acc: 0.7586 - val_loss: 0.4954 - val_acc: 0.7692\n",
      "Epoch 9/25\n",
      "250/250 [==============================] - 71s - loss: 0.4888 - acc: 0.7606 - val_loss: 0.5282 - val_acc: 0.7460\n",
      "Epoch 10/25\n",
      "250/250 [==============================] - 71s - loss: 0.4805 - acc: 0.7614 - val_loss: 0.4936 - val_acc: 0.7742\n",
      "Epoch 11/25\n",
      "250/250 [==============================] - 71s - loss: 0.4788 - acc: 0.7655 - val_loss: 0.4868 - val_acc: 0.7626\n",
      "Epoch 12/25\n",
      "250/250 [==============================] - 71s - loss: 0.4793 - acc: 0.7714 - val_loss: 0.4840 - val_acc: 0.7692\n",
      "Epoch 13/25\n",
      "250/250 [==============================] - 71s - loss: 0.4658 - acc: 0.7740 - val_loss: 0.4970 - val_acc: 0.7616\n",
      "Epoch 14/25\n",
      "250/250 [==============================] - 70s - loss: 0.4578 - acc: 0.7781 - val_loss: 0.4855 - val_acc: 0.7742\n",
      "Epoch 15/25\n",
      "250/250 [==============================] - 71s - loss: 0.4581 - acc: 0.7796 - val_loss: 0.4948 - val_acc: 0.7712\n",
      "Epoch 16/25\n",
      "250/250 [==============================] - 71s - loss: 0.4510 - acc: 0.7870 - val_loss: 0.4821 - val_acc: 0.7717\n",
      "Epoch 17/25\n",
      "250/250 [==============================] - 70s - loss: 0.4397 - acc: 0.7931 - val_loss: 0.5315 - val_acc: 0.7480\n",
      "Epoch 18/25\n",
      "250/250 [==============================] - 71s - loss: 0.4391 - acc: 0.7920 - val_loss: 0.5280 - val_acc: 0.7571\n",
      "Epoch 19/25\n",
      "250/250 [==============================] - 71s - loss: 0.4350 - acc: 0.7925 - val_loss: 0.4794 - val_acc: 0.7762\n",
      "Epoch 20/25\n",
      "250/250 [==============================] - 70s - loss: 0.4309 - acc: 0.7979 - val_loss: 0.4996 - val_acc: 0.7616\n",
      "Epoch 21/25\n",
      "250/250 [==============================] - 71s - loss: 0.4277 - acc: 0.8016 - val_loss: 0.4904 - val_acc: 0.7787\n",
      "Epoch 22/25\n",
      "250/250 [==============================] - 70s - loss: 0.4160 - acc: 0.8087 - val_loss: 0.4925 - val_acc: 0.7671\n",
      "Epoch 23/25\n",
      "250/250 [==============================] - 71s - loss: 0.4098 - acc: 0.8103 - val_loss: 0.5197 - val_acc: 0.7812\n",
      "Epoch 24/25\n",
      "250/250 [==============================] - 70s - loss: 0.4107 - acc: 0.8116 - val_loss: 0.4904 - val_acc: 0.7752\n",
      "Epoch 25/25\n",
      "250/250 [==============================] - 71s - loss: 0.4148 - acc: 0.8036 - val_loss: 0.5056 - val_acc: 0.7656\n"
     ]
    },
    {
     "ename": "NameError",
     "evalue": "name 'eclipse' is not defined",
     "output_type": "error",
     "traceback": [
      "\u001b[0;31m\u001b[0m",
      "\u001b[0;31mNameError\u001b[0mTraceback (most recent call last)",
      "\u001b[0;32m<ipython-input-9-eb37efba96fc>\u001b[0m in \u001b[0;36m<module>\u001b[0;34m()\u001b[0m\n\u001b[1;32m      7\u001b[0m         \u001b[0mvalidation_data\u001b[0m\u001b[0;34m=\u001b[0m \u001b[0mtest_set\u001b[0m\u001b[0;34m,\u001b[0m\u001b[0;34m\u001b[0m\u001b[0m\n\u001b[1;32m      8\u001b[0m         validation_steps= (2000/32))\n\u001b[0;32m----> 9\u001b[0;31m \u001b[0;32mprint\u001b[0m \u001b[0;34m'used: {:.2f} s'\u001b[0m\u001b[0;34m.\u001b[0m\u001b[0mformat\u001b[0m\u001b[0;34m(\u001b[0m\u001b[0meclipse\u001b[0m\u001b[0;34m)\u001b[0m\u001b[0;34m\u001b[0m\u001b[0m\n\u001b[0m",
      "\u001b[0;31mNameError\u001b[0m: name 'eclipse' is not defined"
     ]
    }
   ],
   "source": [
    "from time import time, ctime\n",
    "start = time()\n",
    "classifier.fit_generator(\n",
    "        training_set,\n",
    "        steps_per_epoch= (8000/32),\n",
    "        epochs=25,\n",
    "        validation_data= test_set,\n",
    "        validation_steps= (2000/32))\n",
    "eclipse=time()-start\n",
    "print 'used: {:.2f} s'.format(eclipse)"
   ]
  },
  {
   "cell_type": "code",
   "execution_count": 12,
   "metadata": {
    "collapsed": true
   },
   "outputs": [],
   "source": [
    "eclipse=time()-start"
   ]
  },
  {
   "cell_type": "code",
   "execution_count": 14,
   "metadata": {},
   "outputs": [
    {
     "name": "stdout",
     "output_type": "stream",
     "text": [
      "2077.55613303\n"
     ]
    },
    {
     "data": {
      "text/plain": [
       "'Thu Oct 26 19:29:36 2017'"
      ]
     },
     "execution_count": 14,
     "metadata": {},
     "output_type": "execute_result"
    }
   ],
   "source": [
    "print eclipse\n",
    "ctime()"
   ]
  },
  {
   "cell_type": "code",
   "execution_count": 15,
   "metadata": {},
   "outputs": [
    {
     "data": {
      "text/plain": [
       "34.62593555053075"
      ]
     },
     "execution_count": 15,
     "metadata": {},
     "output_type": "execute_result"
    }
   ],
   "source": [
    "eclipse/60"
   ]
  },
  {
   "cell_type": "code",
   "execution_count": null,
   "metadata": {
    "collapsed": true
   },
   "outputs": [],
   "source": []
  }
 ],
 "metadata": {
  "kernelspec": {
   "display_name": "Python 2",
   "language": "python",
   "name": "python2"
  },
  "language_info": {
   "codemirror_mode": {
    "name": "ipython",
    "version": 2
   },
   "file_extension": ".py",
   "mimetype": "text/x-python",
   "name": "python",
   "nbconvert_exporter": "python",
   "pygments_lexer": "ipython2",
   "version": "2.7.13"
  }
 },
 "nbformat": 4,
 "nbformat_minor": 2
}
