{
 "cells": [
  {
   "cell_type": "code",
   "execution_count": 1,
   "metadata": {
    "collapsed": true
   },
   "outputs": [],
   "source": [
    "import concurrent.futures\n",
    "import requests\n",
    "import os\n",
    "\n",
    "from time import time, ctime\n",
    "import pandas as pd\n",
    "\n",
    "from picDown import download_image, batch"
   ]
  },
  {
   "cell_type": "code",
   "execution_count": 2,
   "metadata": {
    "collapsed": true
   },
   "outputs": [],
   "source": [
    "csv = 'boss_urls.csv'\n",
    "direct = 'bossPics'"
   ]
  },
  {
   "cell_type": "code",
   "execution_count": 3,
   "metadata": {},
   "outputs": [
    {
     "data": {
      "text/plain": [
       "(14362, 3)"
      ]
     },
     "execution_count": 3,
     "metadata": {},
     "output_type": "execute_result"
    }
   ],
   "source": [
    "df=pd.read_csv(csv)\n",
    "df.shape"
   ]
  },
  {
   "cell_type": "code",
   "execution_count": 4,
   "metadata": {
    "scrolled": true
   },
   "outputs": [],
   "source": [
    "# df['URL'].value_counts().head()"
   ]
  },
  {
   "cell_type": "markdown",
   "metadata": {},
   "source": [
    "#### most pics like this"
   ]
  },
  {
   "cell_type": "markdown",
   "metadata": {},
   "source": [
    "//cdn6.f-cdn.com/img/unknown.png\n",
    "\n",
    "![title](//cdn6.f-cdn.com/img/unknown.png)"
   ]
  },
  {
   "cell_type": "code",
   "execution_count": 5,
   "metadata": {},
   "outputs": [
    {
     "data": {
      "text/plain": [
       "4205"
      ]
     },
     "execution_count": 5,
     "metadata": {},
     "output_type": "execute_result"
    }
   ],
   "source": [
    "df.shape[0]-df['URL'].value_counts()[0]-df['URL'].value_counts()[1]"
   ]
  },
  {
   "cell_type": "markdown",
   "metadata": {},
   "source": [
    "### : about 30% pics meaningful"
   ]
  },
  {
   "cell_type": "code",
   "execution_count": 6,
   "metadata": {},
   "outputs": [
    {
     "data": {
      "text/plain": [
       "29.278651998328925"
      ]
     },
     "execution_count": 6,
     "metadata": {},
     "output_type": "execute_result"
    }
   ],
   "source": [
    "4205.0/df.shape[0]*100"
   ]
  },
  {
   "cell_type": "code",
   "execution_count": null,
   "metadata": {
    "collapsed": true
   },
   "outputs": [],
   "source": []
  },
  {
   "cell_type": "code",
   "execution_count": 7,
   "metadata": {},
   "outputs": [
    {
     "data": {
      "text/plain": [
       "(4204, 3)"
      ]
     },
     "execution_count": 7,
     "metadata": {},
     "output_type": "execute_result"
    }
   ],
   "source": [
    "gdf=df[-(df['URL'].str.contains('None') | df['URL'].str.contains('//cdn6.f-cdn.com/img/unknown.png')\\\n",
    "            |df['URL'].isnull())]\n",
    "gdf.shape"
   ]
  },
  {
   "cell_type": "code",
   "execution_count": 8,
   "metadata": {},
   "outputs": [
    {
     "name": "stdout",
     "output_type": "stream",
     "text": [
      "exists\n"
     ]
    }
   ],
   "source": [
    "try:\n",
    "    os.mkdir(direct)\n",
    "except:\n",
    "    print 'exists'"
   ]
  },
  {
   "cell_type": "code",
   "execution_count": 9,
   "metadata": {
    "collapsed": true
   },
   "outputs": [],
   "source": [
    "gdf = gdf[['ID','URL']]"
   ]
  },
  {
   "cell_type": "markdown",
   "metadata": {},
   "source": [
    "### apply diff"
   ]
  },
  {
   "cell_type": "code",
   "execution_count": 10,
   "metadata": {},
   "outputs": [
    {
     "name": "stdout",
     "output_type": "stream",
     "text": [
      "4204  pics\n",
      "(3533, 1)\n",
      "(4204, 3)\n",
      "(671, 2)\n",
      "getiing  671 diff new pics!\n"
     ]
    }
   ],
   "source": [
    "# direct='img_'+str(choose)\n",
    "df=gdf\n",
    "nn=df.shape[0]\n",
    "print nn,' pics'\n",
    "\n",
    "#apply diff\n",
    "folder = pd.DataFrame(os.listdir(direct), columns=['name'])\n",
    "folder = folder[folder['name'].str.contains('.jpg')]\n",
    "print folder.shape\n",
    "\n",
    "df['parse']=df['ID']\n",
    "folder['parse']=folder['name'].apply(lambda x: int(x.split('_')[0]))\n",
    "\n",
    "joind=df.set_index('parse').join(folder.set_index('parse'),)\n",
    "print joind.shape\n",
    "\n",
    "new_df = joind[joind['name'].isnull()][['ID','URL']]\n",
    "print new_df.shape\n",
    "\n",
    "nnn=new_df.shape[0]\n",
    "print 'getiing ',nnn,'diff new pics!'\n",
    "\n",
    "gdf=new_df\n"
   ]
  },
  {
   "cell_type": "code",
   "execution_count": null,
   "metadata": {},
   "outputs": [
    {
     "data": {
      "text/plain": [
       "671"
      ]
     },
     "execution_count": 11,
     "metadata": {},
     "output_type": "execute_result"
    }
   ],
   "source": [
    "want=[]\n",
    "for i in range(gdf.shape[0]):\n",
    "    tmp = gdf.iloc[i,:].tolist()\n",
    "    try:\n",
    "        want.append([tmp[0], \"http:\"+tmp[1], direct])\n",
    "    except Exception as e:\n",
    "        print e\n",
    "        print tmp\n",
    "#     break\n",
    "len(want)"
   ]
  },
  {
   "cell_type": "code",
   "execution_count": null,
   "metadata": {
    "collapsed": true
   },
   "outputs": [],
   "source": []
  },
  {
   "cell_type": "code",
   "execution_count": null,
   "metadata": {},
   "outputs": [
    {
     "name": "stdout",
     "output_type": "stream",
     "text": [
      "X3 X4 [453463] X3 X4 [1036652] X3 X4 [5814] X3 X4 [1473425] X3 X4 [1047271] X3 X4 [1322139] X3 X4 [114017] X3 X4 [872397] X3 X4 [863283] X3 X4 [240521] X3 X4 [1388921] X3 X4 [1166873] X3 X4 [1455510] X3 X4 [1261509] X3 X4 [1285860] X3 X4 [852492] X3 X4 [1563164] X3 X4 [1407701] X3 X4 [273043] X3 X4 [318693] X3 X4 [1253471] X3 X4 [1418862] X3 X4 [1016390] X3 X4 [1110034] X3 X4 [1456470] X3 X4 [128289] X3 X4 [52636] X3 X4 [1433084] X3 X4 [1546681] X3 X4 [361033] X3 X4 [337949] X3 X4 [1280296] X3 X4 [1189152] X3 X4 [1332651] X3 X4 [440621] X3 X4 [1487259] X3 X4 [306684] X3 X4 [1258912] X3 X4 [862465] X3 X4 [714005] X3 X4 [34205] X3 X4 [1217417] X3 X4 [430141] X3 X4 [933652] X3 X4 [242523] X3 X4 [1347944] X3 X4 [1459628] X3 X4 [255590] X3 X4 [1317169] X3 X4 [1507691] X3 X4 [832189] X3 X4 [1308481] X3 X4 [879106] X3 X4 [603055] X3 X4 [1565379] X3 X4 [1556598] X3 X4 [1416496] X3 X4 [862378] X3 X4 [769029] X3 X4 [1261713] X3 X4 [1029309] X3 X4 [709922] X3 X4 [705040] X3 X4 [1335864] X3 X4 [321845] X3 X4 [1170068] X3 X4 [645106] X3 X4 [1571298] X3 X4 [199729] X3 X4 [1427554] X3 X4 [603772] X3 X4 [1288766] X3 X4 [1278630] X3 X4 [305070] X3 X4 [933609] X3 X4 [1127745] X3 X4 [689597] X3 X4 [1380633] X3 X4 [1022136] X3 X4 [816158] X3 X4 [1527860] X3 X4 [231319] X3 X4 [1042751] X3 X4 [1341294] X3 X4 [72637] X3 X4 [1563326] X3 X4 [1234757] X3 X4 [1163441] X3 X4 [1365355] X3 X4 [1497574] X3 X4 [859821] X3 X4 [1170582] X3 X4 [871966] X3 X4 [1253550] X3 X4 [567708] X3 X4 [748671] X3 X4 [688012] X3 X4 [1267821] X3 X4 [714999] X3 X4 [845912] X3 X4 [705608] X3 X4 [626962] X3 X4 [1339516] X3 X4 [80870] X3X3  X4X4  [84353][375547] X3 X4 [1389804] X3 X4 [681246] X3X3  X4X4  [977835][1556156] X3 X4 [484419] X3 X4 [177697] X3 X4 [25283] X3 X4 [1008298] X3 X4 [309431] X3 X4 [1419483] X3 X4 [1452229] X3 X4 [48591] X3 X4 [101320] X3 X4 [1371702] X3 X4 [417345] X3 X4 [1157809] X3 X4 [1543413] X3 X4 [499069] X3 X4 [747874] X3 X4 [1339240] X3 X4 [1319246] X3 X4 [1585713] X3 X4 [375260] X3 X4 [1029461] X3 X4 [73779] X3 X4 [817347] X3 X4 [1234117] X3 X4 [272981] X3 X4 [685190] X3 X4 [1090791] X3 X4 [1027658]"
     ]
    }
   ],
   "source": [
    "batch(download_image, want)"
   ]
  },
  {
   "cell_type": "code",
   "execution_count": null,
   "metadata": {
    "collapsed": true
   },
   "outputs": [],
   "source": []
  }
 ],
 "metadata": {
  "kernelspec": {
   "display_name": "Python 2",
   "language": "python",
   "name": "python2"
  },
  "language_info": {
   "codemirror_mode": {
    "name": "ipython",
    "version": 2
   },
   "file_extension": ".py",
   "mimetype": "text/x-python",
   "name": "python",
   "nbconvert_exporter": "python",
   "pygments_lexer": "ipython2",
   "version": "2.7.13"
  }
 },
 "nbformat": 4,
 "nbformat_minor": 2
}
