{
 "cells": [
  {
   "cell_type": "markdown",
   "metadata": {},
   "source": [
    "#### learn tablespace, etc\n",
    "\n",
    "http://nonfunctionaltestingtools.blogspot.com/2012/12/using-sql-developer-to-create-and-view.html\n",
    "\n",
    "http://www.rebellionrider.com/tablespace-in-oracle/how-to-create-tablespace-using-sql-developer-rebellionrider.htm#.WbqexsiGPIU"
   ]
  },
  {
   "cell_type": "markdown",
   "metadata": {},
   "source": [
    "https://hub.docker.com/r/wnameless/oracle-xe-11g/"
   ]
  },
  {
   "cell_type": "code",
   "execution_count": 12,
   "metadata": {},
   "outputs": [
    {
     "name": "stdout",
     "output_type": "stream",
     "text": [
      "11.2.0.2.0\n"
     ]
    }
   ],
   "source": [
    "import pandas as pd\n",
    "import cx_Oracle\n",
    "\n",
    "db=cx_Oracle.connect(\"soyoung\", \"soyoung\", \"my.uconn.science:1521/xe\")\n",
    "print db.version"
   ]
  },
  {
   "cell_type": "code",
   "execution_count": 15,
   "metadata": {},
   "outputs": [],
   "source": [
    "# db.commit()\n",
    "# try:\n",
    "#     db.cursor().execute('drop table basementinfo')\n",
    "# except:\n",
    "#     print 'not exists'\n",
    "# db.commit()"
   ]
  },
  {
   "cell_type": "code",
   "execution_count": 16,
   "metadata": {
    "collapsed": true
   },
   "outputs": [],
   "source": [
    "# zp=pd.read_csv('zip_code.csv')\n",
    "# zp.shape"
   ]
  },
  {
   "cell_type": "code",
   "execution_count": 17,
   "metadata": {
    "collapsed": true
   },
   "outputs": [],
   "source": [
    "# zp.columns"
   ]
  },
  {
   "cell_type": "code",
   "execution_count": 18,
   "metadata": {
    "collapsed": true
   },
   "outputs": [],
   "source": [
    "# zp.head(2)"
   ]
  },
  {
   "cell_type": "code",
   "execution_count": 19,
   "metadata": {},
   "outputs": [
    {
     "data": {
      "text/plain": [
       "(1558719, 24)"
      ]
     },
     "execution_count": 19,
     "metadata": {},
     "output_type": "execute_result"
    }
   ],
   "source": [
    "df=pd.read_csv('UCONN Updated 10 Years.csv')\n",
    "df.shape"
   ]
  },
  {
   "cell_type": "code",
   "execution_count": 20,
   "metadata": {},
   "outputs": [
    {
     "data": {
      "text/plain": [
       "Index([u'id', u'name', u'address', u'city', u'state', u'zip', u'type',\n",
       "       u'source', u'association', u'service_type', u'received_time',\n",
       "       u'sent_time', u'company', u'status', u'price', u'campaign',\n",
       "       u'is_mobile', u'landing_page', u'contact_page', u'previous_page',\n",
       "       u'inbound_number', u'call_status', u'duration', u'job_sold'],\n",
       "      dtype='object')"
      ]
     },
     "execution_count": 20,
     "metadata": {},
     "output_type": "execute_result"
    }
   ],
   "source": [
    "df.columns"
   ]
  },
  {
   "cell_type": "code",
   "execution_count": 21,
   "metadata": {},
   "outputs": [
    {
     "data": {
      "text/plain": [
       "1558719"
      ]
     },
     "execution_count": 21,
     "metadata": {},
     "output_type": "execute_result"
    }
   ],
   "source": [
    "len(df['id'].unique())"
   ]
  },
  {
   "cell_type": "code",
   "execution_count": 22,
   "metadata": {},
   "outputs": [
    {
     "data": {
      "text/plain": [
       "<cx_Oracle.Cursor on <cx_Oracle.Connection to soyoung@my.uconn.science:1521/xe>>"
      ]
     },
     "execution_count": 22,
     "metadata": {},
     "output_type": "execute_result"
    }
   ],
   "source": [
    "cur=db.cursor()\n",
    "cur"
   ]
  },
  {
   "cell_type": "code",
   "execution_count": 23,
   "metadata": {},
   "outputs": [
    {
     "name": "stdout",
     "output_type": "stream",
     "text": [
      "create success\n"
     ]
    }
   ],
   "source": [
    "try:\n",
    "    cur.execute(\"\"\"CREATE TABLE basementinfo ( \n",
    "    id NUMBER(9),\n",
    "    name VARCHAR2(250),\n",
    "    address VARCHAR2(250),\n",
    "    city VARCHAR2(250),\n",
    "    state VARCHAR2(12),\n",
    "    zip VARCHAR2(24),\n",
    "    type VARCHAR2(124),\n",
    "    source VARCHAR2(250),\n",
    "    association VARCHAR2(250),\n",
    "    service_type VARCHAR2(122),\n",
    "    received_time VARCHAR2(119),\n",
    "    sent_time VARCHAR2(119),\n",
    "    company VARCHAR2(250),\n",
    "    status VARCHAR2(88),\n",
    "    price NUMBER,\n",
    "    campaign VARCHAR2(250),\n",
    "    is_mobile VARCHAR2(11),\n",
    "    landing_page VARCHAR2(2500),\n",
    "    contact_page VARCHAR2(2500),\n",
    "    previous_page VARCHAR2(2500),\n",
    "    inbound_number VARCHAR2(11),\n",
    "    call_status VARCHAR2(11),\n",
    "    duration VARCHAR2(111),\n",
    "    job_sold NUMBER(11),\n",
    "    CONSTRAINT baseinfo_PK PRIMARY KEY (id))\n",
    "    TABLESPACE basement PARALLEL\"\"\")\n",
    "    db.commit()\n",
    "    print 'create success'\n",
    "except Exception as e:\n",
    "    print e"
   ]
  },
  {
   "cell_type": "code",
   "execution_count": 24,
   "metadata": {},
   "outputs": [],
   "source": [
    "# df.iloc[20,:]"
   ]
  },
  {
   "cell_type": "code",
   "execution_count": 25,
   "metadata": {
    "collapsed": true
   },
   "outputs": [],
   "source": [
    "def helper(x):\n",
    "    try:\n",
    "        a=x.replace(\"'\",\"''\")\n",
    "        return a\n",
    "    except:\n",
    "        return x\n",
    "    "
   ]
  },
  {
   "cell_type": "code",
   "execution_count": 26,
   "metadata": {},
   "outputs": [],
   "source": [
    "# string2 = str(\"insert into basementinfo values \"\\\n",
    "#                  +str(tuple(df.iloc[20,:].map(helper)\\\n",
    "#                             .tolist())).replace('nan','null').replace(', \"',\",'\").replace('\",',\"',\"))\n",
    "# print string2"
   ]
  },
  {
   "cell_type": "code",
   "execution_count": 27,
   "metadata": {},
   "outputs": [],
   "source": [
    "# string = str(\"insert into basementinfo values \"\\\n",
    "#                  +str(tuple(df.iloc[12168,:].map(helper)\\\n",
    "#                             .tolist())).replace('nan','null'))\n",
    "# print string"
   ]
  },
  {
   "cell_type": "code",
   "execution_count": 28,
   "metadata": {},
   "outputs": [],
   "source": [
    "# df.iloc[20,:].map(helper).tolist()"
   ]
  },
  {
   "cell_type": "code",
   "execution_count": null,
   "metadata": {},
   "outputs": [
    {
     "name": "stdout",
     "output_type": "stream",
     "text": [
      "1W: 11.65s  2W: 10.30s  3W: 9.78s  4W: 11.24s  5W: 9.90s  6W: 10.11s  7W: 10.98s  8W: 9.90s  9W: 9.66s  10W: 10.79s  11W: 10.59s  12W: 10.50s  13W: 10.02s  14W: 10.38s  ORA-12899: value too large for column \"SOYOUNG\".\"BASEMENTINFO\".\"PREVIOUS_PAGE\" (actual: 541, maximum: 250)\n",
      "146671 insert into basementinfo values (7176278, 'Milla', '617 Fermery Drive', 'New Milford', 'NJ', '07646', 'Supercharged Web Leads', 'Organic Search', 'Basement Systems, Inc.', 'Basement Waterproofing', '2011-10-12 13:03:32', '2011-10-12 13:03:32', 'Quality 1st Basement Systems', 'Billable Lead', 100.0, null, null, 'http://www.quality1stbasementsystems.com/basement-waterproofing/basement-flooding.html', 'http://www.quality1stbasementsystems.com/estimate-confirmation.html', 'http://www.quality1stbasementsystems.com/core/%20is%20an%20Authorized%20Basement%20Systems%20Dealer.%3C/p%3E%3Cp%3EAn%20Authorized%20Basement%20Systems%20Dealer%20follows%20high%20standards%20of%20integrity,%20industry%20knowledge,%20and%20workmanship.%20%20Basement%20Systems%20only%20selects%20the%20best%20basement%20waterproofers%20to%20become%20dealerships.%3C/p%3E%3Cp%3EYou%20can%20expect%20these%20qualities%20and%20attributes%20from%20a%20%3Cstrong%3EBasement%20Systems%20Dealer%3C/strong%3E:%3C/p%3E%3Cul%3E%3Cli%3E%3Cspan%20class=', null, null, null, null)\n",
      "15W: 11.03s  16W: 10.88s  17W: 10.65s  18W: 10.61s "
     ]
    }
   ],
   "source": [
    "from time import time\n",
    "start=time()\n",
    "n=0\n",
    "for i in range(df.shape[0]):\n",
    "    string = str(\"insert into basementinfo values \"\\\n",
    "                 +str(tuple(df.iloc[i,:].map(helper)\\\n",
    "                            .tolist())).replace('nan','null')\\\n",
    "                             .replace(', \"',\",'\").replace('\",',\"',\"))\n",
    "    n+=1\n",
    "    try:\n",
    "        cur.execute(string)\n",
    "    except Exception as e:\n",
    "        print e\n",
    "        print i,string\n",
    "#     if n==100:\n",
    "#         db.commit()\n",
    "#         break\n",
    "    if n%10000==0:\n",
    "        db.commit()\n",
    "        print str(i//10000+1)+'W:',\n",
    "        print '{:.2f}s '.format(time()-start),\n",
    "        start=time()"
   ]
  },
  {
   "cell_type": "code",
   "execution_count": null,
   "metadata": {},
   "outputs": [],
   "source": [
    "# a =df.iloc[7,:]\n",
    "# a"
   ]
  },
  {
   "cell_type": "code",
   "execution_count": null,
   "metadata": {},
   "outputs": [],
   "source": [
    "# str(tuple(a.tolist()))"
   ]
  },
  {
   "cell_type": "code",
   "execution_count": null,
   "metadata": {},
   "outputs": [],
   "source": [
    "# one = \"insert into basementinfo values \"+str(tuple(a.tolist())).replace('nan','null')\n",
    "# one"
   ]
  },
  {
   "cell_type": "code",
   "execution_count": null,
   "metadata": {
    "collapsed": true
   },
   "outputs": [],
   "source": [
    "# cur.execute(one)"
   ]
  },
  {
   "cell_type": "code",
   "execution_count": null,
   "metadata": {},
   "outputs": [],
   "source": [
    "# print \"insert into basementinfo values \"+str(tuple(a.tolist())).replace('nan','null')"
   ]
  },
  {
   "cell_type": "code",
   "execution_count": null,
   "metadata": {
    "collapsed": true
   },
   "outputs": [],
   "source": []
  }
 ],
 "metadata": {
  "kernelspec": {
   "display_name": "Python 2",
   "language": "python",
   "name": "python2"
  },
  "language_info": {
   "codemirror_mode": {
    "name": "ipython",
    "version": 2
   },
   "file_extension": ".py",
   "mimetype": "text/x-python",
   "name": "python",
   "nbconvert_exporter": "python",
   "pygments_lexer": "ipython2",
   "version": "2.7.13"
  }
 },
 "nbformat": 4,
 "nbformat_minor": 2
}
