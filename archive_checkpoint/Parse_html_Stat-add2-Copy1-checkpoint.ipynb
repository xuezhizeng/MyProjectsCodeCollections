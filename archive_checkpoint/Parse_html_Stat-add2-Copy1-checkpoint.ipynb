{
 "cells": [
  {
   "cell_type": "markdown",
   "metadata": {},
   "source": [
    "https://hub.docker.com/r/sath89/oracle-12c/"
   ]
  },
  {
   "cell_type": "markdown",
   "metadata": {
    "collapsed": true
   },
   "source": [
    "https://hub.docker.com/_/mysql/"
   ]
  },
  {
   "cell_type": "markdown",
   "metadata": {},
   "source": [
    "https://stackoverflow.com/questions/8858008/how-to-move-a-file-in-python"
   ]
  },
  {
   "cell_type": "code",
   "execution_count": 1,
   "metadata": {
    "collapsed": true
   },
   "outputs": [],
   "source": [
    "# encoding=utf8\n",
    "# import sys\n",
    "# reload(sys)\n",
    "# sys.setdefaultencoding('utf8')\n",
    "\n",
    "import pandas as pd\n",
    "import os\n",
    "from time import time, ctime\n",
    "\n",
    "import concurrent.futures\n",
    "\n",
    "from lxml import etree\n",
    "import json\n",
    "import re\n"
   ]
  },
  {
   "cell_type": "code",
   "execution_count": 2,
   "metadata": {},
   "outputs": [
    {
     "name": "stdout",
     "output_type": "stream",
     "text": [
      "add_bidder\r\n",
      "addbidderPics\r\n",
      "addbidder_urls.csv\r\n",
      "addboss.csv\r\n",
      "addbossPics\r\n",
      "addboss_urls.csv\r\n",
      "add_owner\r\n",
      "addtional\r\n",
      "Parse_html_Stat-add1.ipynb\r\n",
      "Parse_html_Stat-add2.ipynb\r\n",
      "pic_down_func-add1.ipynb\r\n",
      "pic_down_func-add2.ipynb\r\n"
     ]
    }
   ],
   "source": [
    "!ls|grep add"
   ]
  },
  {
   "cell_type": "code",
   "execution_count": 3,
   "metadata": {},
   "outputs": [
    {
     "name": "stdout",
     "output_type": "stream",
     "text": [
      "/home/soyoung/face/Freelancer\r\n"
     ]
    }
   ],
   "source": [
    "!pwd"
   ]
  },
  {
   "cell_type": "code",
   "execution_count": 4,
   "metadata": {},
   "outputs": [
    {
     "data": {
      "text/plain": [
       "82195"
      ]
     },
     "execution_count": 4,
     "metadata": {},
     "output_type": "execute_result"
    }
   ],
   "source": [
    "# path='technosystem.html'\n",
    "\n",
    "folder='add_bidder/'\n",
    "cont = os.listdir(folder)\n",
    "len(cont)"
   ]
  },
  {
   "cell_type": "code",
   "execution_count": 5,
   "metadata": {
    "collapsed": true
   },
   "outputs": [],
   "source": [
    "def flatten_dict(data, layers=1, drop_deeper=False):\n",
    "\n",
    "        for _ in range(layers):\n",
    "            data = [(k, v) if not isinstance(v, dict) else [(k + '.' + k2, v2) for k2, v2 in v.items()] for k, v in\n",
    "                    data.items()]\n",
    "            data = [item for sublist in data for item in sublist if isinstance(sublist, list)] + [y for y in data if\n",
    "                                                                                                  not isinstance(y,\n",
    "                                                                                                                 list)]\n",
    "            data = dict(data)\n",
    "\n",
    "        if drop_deeper:\n",
    "            data = {k: v for k, v in data.items() if not isinstance(v, dict) or isinstance(v, list)}\n",
    "\n",
    "        return data"
   ]
  },
  {
   "cell_type": "code",
   "execution_count": 6,
   "metadata": {
    "collapsed": true
   },
   "outputs": [],
   "source": [
    "failed_names=[]\n",
    "\n",
    "def get_columns(path):\n",
    "    global failed_names\n",
    "    get=[]\n",
    "    \n",
    "    with open(folder+path,'r') as fl:\n",
    "        text=fl.read()\n",
    "        tree=etree.HTML(text)\n",
    "    try:\n",
    "        script = tree.xpath('//script')[-1]\n",
    "        data = re.search(r\"__export\\('profileServerData',(.*?)\\n\", script.text)        \n",
    "        jsondata=data.group(1)[:-2]\n",
    "        \n",
    "        json_dict = json.loads(jsondata)\n",
    "        flat = flatten_dict(json_dict, layers=1)\n",
    "        names = flat.keys()\n",
    "        return names\n",
    "    except Exception as e:\n",
    "        failed_names.append(path)\n",
    "        return []\n",
    "\n",
    "    "
   ]
  },
  {
   "cell_type": "code",
   "execution_count": 7,
   "metadata": {
    "collapsed": true
   },
   "outputs": [],
   "source": [
    "from collections import defaultdict\n",
    "stat = defaultdict(int)"
   ]
  },
  {
   "cell_type": "code",
   "execution_count": 8,
   "metadata": {},
   "outputs": [
    {
     "name": "stdout",
     "output_type": "stream",
     "text": [
      "CPU times: user 6min 26s, sys: 5.62 s, total: 6min 32s\n",
      "Wall time: 7min 24s\n"
     ]
    }
   ],
   "source": [
    "%%time\n",
    "for i in cont:\n",
    "    for k in get_columns(i):\n",
    "        stat[k]+=1\n",
    "len(stat),len(failed_names)"
   ]
  },
  {
   "cell_type": "code",
   "execution_count": 9,
   "metadata": {},
   "outputs": [
    {
     "data": {
      "text/plain": [
       "(73, 17431)"
      ]
     },
     "execution_count": 9,
     "metadata": {},
     "output_type": "execute_result"
    }
   ],
   "source": [
    "len(stat),len(failed_names)"
   ]
  },
  {
   "cell_type": "code",
   "execution_count": null,
   "metadata": {
    "collapsed": true
   },
   "outputs": [],
   "source": []
  },
  {
   "cell_type": "code",
   "execution_count": 10,
   "metadata": {},
   "outputs": [
    {
     "data": {
      "text/plain": [
       "(73,)"
      ]
     },
     "execution_count": 10,
     "metadata": {},
     "output_type": "execute_result"
    }
   ],
   "source": [
    "col = pd.Series(stat.values(), index=stat.keys())\n",
    "col.shape"
   ]
  },
  {
   "cell_type": "code",
   "execution_count": 11,
   "metadata": {},
   "outputs": [
    {
     "data": {
      "text/plain": [
       "64764    72\n",
       "52546     1\n",
       "dtype: int64"
      ]
     },
     "execution_count": 11,
     "metadata": {},
     "output_type": "execute_result"
    }
   ],
   "source": [
    "col.value_counts()"
   ]
  },
  {
   "cell_type": "code",
   "execution_count": 12,
   "metadata": {},
   "outputs": [
    {
     "data": {
      "text/plain": [
       "hourlyRate               52546\n",
       "about.support_status     64764\n",
       "about.mobile_tracking    64764\n",
       "about.timezone           64764\n",
       "about.id                 64764\n",
       "dtype: int64"
      ]
     },
     "execution_count": 12,
     "metadata": {},
     "output_type": "execute_result"
    }
   ],
   "source": [
    "col.sort_values(ascending=True).head()"
   ]
  },
  {
   "cell_type": "code",
   "execution_count": 13,
   "metadata": {},
   "outputs": [
    {
     "name": "stdout",
     "output_type": "stream",
     "text": [
      "['7323710.html', '6147909.html', '8871804.html']\n"
     ]
    },
    {
     "data": {
      "text/plain": [
       "17431"
      ]
     },
     "execution_count": 13,
     "metadata": {},
     "output_type": "execute_result"
    }
   ],
   "source": [
    "print failed_names[:3]\n",
    "len(failed_names)"
   ]
  },
  {
   "cell_type": "code",
   "execution_count": 14,
   "metadata": {
    "collapsed": true
   },
   "outputs": [],
   "source": [
    "try:\n",
    "    os.mkdir(folder+'NoJson')\n",
    "except:\n",
    "    print 'exists'"
   ]
  },
  {
   "cell_type": "code",
   "execution_count": 15,
   "metadata": {},
   "outputs": [
    {
     "name": "stdout",
     "output_type": "stream",
     "text": [
      "      0       0       0\r\n"
     ]
    }
   ],
   "source": [
    "!ls {folder}'NoJson'|wc"
   ]
  },
  {
   "cell_type": "code",
   "execution_count": 16,
   "metadata": {
    "collapsed": true
   },
   "outputs": [],
   "source": [
    "import shutil"
   ]
  },
  {
   "cell_type": "code",
   "execution_count": 17,
   "metadata": {},
   "outputs": [
    {
     "name": "stdout",
     "output_type": "stream",
     "text": [
      "CPU times: user 192 ms, sys: 192 ms, total: 384 ms\n",
      "Wall time: 387 ms\n"
     ]
    }
   ],
   "source": [
    "%%time\n",
    "# os.rename(\"path/to/current/file.foo\", \"path/to/new/desination/for/file.foo\")\n",
    "for i in failed_names:\n",
    "    try:\n",
    "        shutil.move(folder+i, folder+'NoJson/')\n",
    "    except:\n",
    "        pass\n"
   ]
  },
  {
   "cell_type": "code",
   "execution_count": 18,
   "metadata": {},
   "outputs": [
    {
     "name": "stdout",
     "output_type": "stream",
     "text": [
      "  17431   17431  232625\r\n"
     ]
    }
   ],
   "source": [
    "!ls {folder}'NoJson'|wc"
   ]
  },
  {
   "cell_type": "code",
   "execution_count": 19,
   "metadata": {},
   "outputs": [
    {
     "name": "stdout",
     "output_type": "stream",
     "text": [
      "  64765   64765  860532\r\n"
     ]
    }
   ],
   "source": [
    "!ls {folder}|wc"
   ]
  },
  {
   "cell_type": "code",
   "execution_count": 20,
   "metadata": {
    "collapsed": true
   },
   "outputs": [],
   "source": [
    "col.to_csv('addbidder.csv', header=['count'], index_label='name')"
   ]
  },
  {
   "cell_type": "code",
   "execution_count": 21,
   "metadata": {
    "collapsed": true
   },
   "outputs": [],
   "source": [
    "df1 = pd.read_csv('bidder1.csv').set_index('name')\n",
    "df2 = pd.read_csv('boss1.csv').set_index('name')\n",
    "df3 = pd.read_csv('addboss.csv').set_index('name')\n",
    "df4 = pd.read_csv('addbidder.csv').set_index('name')"
   ]
  },
  {
   "cell_type": "code",
   "execution_count": 22,
   "metadata": {},
   "outputs": [
    {
     "data": {
      "text/plain": [
       "((73, 1), (73, 1), (73, 1), (73, 1))"
      ]
     },
     "execution_count": 22,
     "metadata": {},
     "output_type": "execute_result"
    }
   ],
   "source": [
    "df1.shape, df2.shape, df3.shape, df4.shape"
   ]
  },
  {
   "cell_type": "code",
   "execution_count": 27,
   "metadata": {},
   "outputs": [
    {
     "data": {
      "text/html": [
       "<div>\n",
       "<style>\n",
       "    .dataframe thead tr:only-child th {\n",
       "        text-align: right;\n",
       "    }\n",
       "\n",
       "    .dataframe thead th {\n",
       "        text-align: left;\n",
       "    }\n",
       "\n",
       "    .dataframe tbody tr th {\n",
       "        vertical-align: top;\n",
       "    }\n",
       "</style>\n",
       "<table border=\"1\" class=\"dataframe\">\n",
       "  <thead>\n",
       "    <tr style=\"text-align: right;\">\n",
       "      <th></th>\n",
       "      <th>count</th>\n",
       "    </tr>\n",
       "    <tr>\n",
       "      <th>name</th>\n",
       "      <th></th>\n",
       "    </tr>\n",
       "  </thead>\n",
       "  <tbody>\n",
       "    <tr>\n",
       "      <th>hourlyRate</th>\n",
       "      <td>103845</td>\n",
       "    </tr>\n",
       "    <tr>\n",
       "      <th>about.qualifications</th>\n",
       "      <td>150671</td>\n",
       "    </tr>\n",
       "    <tr>\n",
       "      <th>about.preferred_freelancer</th>\n",
       "      <td>150671</td>\n",
       "    </tr>\n",
       "    <tr>\n",
       "      <th>about.primary_currency</th>\n",
       "      <td>150671</td>\n",
       "    </tr>\n",
       "    <tr>\n",
       "      <th>about.primary_language</th>\n",
       "      <td>150671</td>\n",
       "    </tr>\n",
       "    <tr>\n",
       "      <th>about.profile_description</th>\n",
       "      <td>150671</td>\n",
       "    </tr>\n",
       "    <tr>\n",
       "      <th>about.public_name</th>\n",
       "      <td>150671</td>\n",
       "    </tr>\n",
       "    <tr>\n",
       "      <th>about.recommendations</th>\n",
       "      <td>150671</td>\n",
       "    </tr>\n",
       "    <tr>\n",
       "      <th>about.registration_date</th>\n",
       "      <td>150671</td>\n",
       "    </tr>\n",
       "    <tr>\n",
       "      <th>about.registration_date_human</th>\n",
       "      <td>150671</td>\n",
       "    </tr>\n",
       "    <tr>\n",
       "      <th>about.reputation</th>\n",
       "      <td>150671</td>\n",
       "    </tr>\n",
       "    <tr>\n",
       "      <th>about.responsiveness</th>\n",
       "      <td>150671</td>\n",
       "    </tr>\n",
       "    <tr>\n",
       "      <th>about.role</th>\n",
       "      <td>150671</td>\n",
       "    </tr>\n",
       "    <tr>\n",
       "      <th>about.search_languages</th>\n",
       "      <td>150671</td>\n",
       "    </tr>\n",
       "    <tr>\n",
       "      <th>about.spam_profile</th>\n",
       "      <td>150671</td>\n",
       "    </tr>\n",
       "    <tr>\n",
       "      <th>about.status</th>\n",
       "      <td>150671</td>\n",
       "    </tr>\n",
       "    <tr>\n",
       "      <th>about.support_status</th>\n",
       "      <td>150671</td>\n",
       "    </tr>\n",
       "    <tr>\n",
       "      <th>about.suspended</th>\n",
       "      <td>150671</td>\n",
       "    </tr>\n",
       "    <tr>\n",
       "      <th>about.tagline</th>\n",
       "      <td>150671</td>\n",
       "    </tr>\n",
       "    <tr>\n",
       "      <th>about.test_user</th>\n",
       "      <td>150671</td>\n",
       "    </tr>\n",
       "    <tr>\n",
       "      <th>about.timezone</th>\n",
       "      <td>150671</td>\n",
       "    </tr>\n",
       "    <tr>\n",
       "      <th>about.true_location</th>\n",
       "      <td>150671</td>\n",
       "    </tr>\n",
       "    <tr>\n",
       "      <th>about.user_id</th>\n",
       "      <td>150671</td>\n",
       "    </tr>\n",
       "    <tr>\n",
       "      <th>about.username</th>\n",
       "      <td>150671</td>\n",
       "    </tr>\n",
       "    <tr>\n",
       "      <th>about.username_sentence</th>\n",
       "      <td>150671</td>\n",
       "    </tr>\n",
       "    <tr>\n",
       "      <th>about.mobile_tracking</th>\n",
       "      <td>150671</td>\n",
       "    </tr>\n",
       "    <tr>\n",
       "      <th>about.membership_package</th>\n",
       "      <td>150671</td>\n",
       "    </tr>\n",
       "    <tr>\n",
       "      <th>about.portfolio_count</th>\n",
       "      <td>150671</td>\n",
       "    </tr>\n",
       "    <tr>\n",
       "      <th>about.limited_account</th>\n",
       "      <td>150671</td>\n",
       "    </tr>\n",
       "    <tr>\n",
       "      <th>about.account_balances</th>\n",
       "      <td>150671</td>\n",
       "    </tr>\n",
       "    <tr>\n",
       "      <th>...</th>\n",
       "      <td>...</td>\n",
       "    </tr>\n",
       "    <tr>\n",
       "      <th>about.employer_reputation</th>\n",
       "      <td>150671</td>\n",
       "    </tr>\n",
       "    <tr>\n",
       "      <th>about.last_name</th>\n",
       "      <td>150671</td>\n",
       "    </tr>\n",
       "    <tr>\n",
       "      <th>about.jobs</th>\n",
       "      <td>150671</td>\n",
       "    </tr>\n",
       "    <tr>\n",
       "      <th>about.email</th>\n",
       "      <td>150671</td>\n",
       "    </tr>\n",
       "    <tr>\n",
       "      <th>about.is_active</th>\n",
       "      <td>150671</td>\n",
       "    </tr>\n",
       "    <tr>\n",
       "      <th>about.id</th>\n",
       "      <td>150671</td>\n",
       "    </tr>\n",
       "    <tr>\n",
       "      <th>about.is_local</th>\n",
       "      <td>150671</td>\n",
       "    </tr>\n",
       "    <tr>\n",
       "      <th>about.force_verify</th>\n",
       "      <td>150671</td>\n",
       "    </tr>\n",
       "    <tr>\n",
       "      <th>about.first_name</th>\n",
       "      <td>150671</td>\n",
       "    </tr>\n",
       "    <tr>\n",
       "      <th>about.endorsements</th>\n",
       "      <td>150671</td>\n",
       "    </tr>\n",
       "    <tr>\n",
       "      <th>about.hourly_rate</th>\n",
       "      <td>150671</td>\n",
       "    </tr>\n",
       "    <tr>\n",
       "      <th>timeOffset</th>\n",
       "      <td>150672</td>\n",
       "    </tr>\n",
       "    <tr>\n",
       "      <th>resume.exams</th>\n",
       "      <td>150672</td>\n",
       "    </tr>\n",
       "    <tr>\n",
       "      <th>skills</th>\n",
       "      <td>150672</td>\n",
       "    </tr>\n",
       "    <tr>\n",
       "      <th>resume.show</th>\n",
       "      <td>150672</td>\n",
       "    </tr>\n",
       "    <tr>\n",
       "      <th>userId</th>\n",
       "      <td>150672</td>\n",
       "    </tr>\n",
       "    <tr>\n",
       "      <th>resume.publications</th>\n",
       "      <td>150672</td>\n",
       "    </tr>\n",
       "    <tr>\n",
       "      <th>resume.experience</th>\n",
       "      <td>150672</td>\n",
       "    </tr>\n",
       "    <tr>\n",
       "      <th>resume.education</th>\n",
       "      <td>150672</td>\n",
       "    </tr>\n",
       "    <tr>\n",
       "      <th>abTests</th>\n",
       "      <td>150672</td>\n",
       "    </tr>\n",
       "    <tr>\n",
       "      <th>jobsLimit</th>\n",
       "      <td>150672</td>\n",
       "    </tr>\n",
       "    <tr>\n",
       "      <th>isSupportAgent</th>\n",
       "      <td>150672</td>\n",
       "    </tr>\n",
       "    <tr>\n",
       "      <th>isOwner</th>\n",
       "      <td>150672</td>\n",
       "    </tr>\n",
       "    <tr>\n",
       "      <th>isLoggedIn</th>\n",
       "      <td>150672</td>\n",
       "    </tr>\n",
       "    <tr>\n",
       "      <th>hireMeCurrencyId</th>\n",
       "      <td>150672</td>\n",
       "    </tr>\n",
       "    <tr>\n",
       "      <th>canViewEmployer</th>\n",
       "      <td>150672</td>\n",
       "    </tr>\n",
       "    <tr>\n",
       "      <th>username</th>\n",
       "      <td>150672</td>\n",
       "    </tr>\n",
       "    <tr>\n",
       "      <th>about.location</th>\n",
       "      <td>150672</td>\n",
       "    </tr>\n",
       "    <tr>\n",
       "      <th>resume.certifications</th>\n",
       "      <td>150672</td>\n",
       "    </tr>\n",
       "    <tr>\n",
       "      <th>viewer</th>\n",
       "      <td>150672</td>\n",
       "    </tr>\n",
       "  </tbody>\n",
       "</table>\n",
       "<p>73 rows × 1 columns</p>\n",
       "</div>"
      ],
      "text/plain": [
       "                                count\n",
       "name                                 \n",
       "hourlyRate                     103845\n",
       "about.qualifications           150671\n",
       "about.preferred_freelancer     150671\n",
       "about.primary_currency         150671\n",
       "about.primary_language         150671\n",
       "about.profile_description      150671\n",
       "about.public_name              150671\n",
       "about.recommendations          150671\n",
       "about.registration_date        150671\n",
       "about.registration_date_human  150671\n",
       "about.reputation               150671\n",
       "about.responsiveness           150671\n",
       "about.role                     150671\n",
       "about.search_languages         150671\n",
       "about.spam_profile             150671\n",
       "about.status                   150671\n",
       "about.support_status           150671\n",
       "about.suspended                150671\n",
       "about.tagline                  150671\n",
       "about.test_user                150671\n",
       "about.timezone                 150671\n",
       "about.true_location            150671\n",
       "about.user_id                  150671\n",
       "about.username                 150671\n",
       "about.username_sentence        150671\n",
       "about.mobile_tracking          150671\n",
       "about.membership_package       150671\n",
       "about.portfolio_count          150671\n",
       "about.limited_account          150671\n",
       "about.account_balances         150671\n",
       "...                               ...\n",
       "about.employer_reputation      150671\n",
       "about.last_name                150671\n",
       "about.jobs                     150671\n",
       "about.email                    150671\n",
       "about.is_active                150671\n",
       "about.id                       150671\n",
       "about.is_local                 150671\n",
       "about.force_verify             150671\n",
       "about.first_name               150671\n",
       "about.endorsements             150671\n",
       "about.hourly_rate              150671\n",
       "timeOffset                     150672\n",
       "resume.exams                   150672\n",
       "skills                         150672\n",
       "resume.show                    150672\n",
       "userId                         150672\n",
       "resume.publications            150672\n",
       "resume.experience              150672\n",
       "resume.education               150672\n",
       "abTests                        150672\n",
       "jobsLimit                      150672\n",
       "isSupportAgent                 150672\n",
       "isOwner                        150672\n",
       "isLoggedIn                     150672\n",
       "hireMeCurrencyId               150672\n",
       "canViewEmployer                150672\n",
       "username                       150672\n",
       "about.location                 150672\n",
       "resume.certifications          150672\n",
       "viewer                         150672\n",
       "\n",
       "[73 rows x 1 columns]"
      ]
     },
     "execution_count": 27,
     "metadata": {},
     "output_type": "execute_result"
    }
   ],
   "source": [
    "(df1+df2+df3+df4).sort_values('count')"
   ]
  },
  {
   "cell_type": "code",
   "execution_count": null,
   "metadata": {
    "collapsed": true
   },
   "outputs": [],
   "source": []
  },
  {
   "cell_type": "code",
   "execution_count": null,
   "metadata": {
    "collapsed": true
   },
   "outputs": [],
   "source": []
  },
  {
   "cell_type": "code",
   "execution_count": null,
   "metadata": {
    "collapsed": true
   },
   "outputs": [],
   "source": []
  },
  {
   "cell_type": "code",
   "execution_count": 68,
   "metadata": {
    "collapsed": true
   },
   "outputs": [],
   "source": [
    "# group=[]\n",
    "# def batch(batchfiles):\n",
    "#     global group\n",
    "#     group=[]\n",
    "#     start=time()\n",
    "#     with concurrent.futures.ThreadPoolExecutor(max_workers=8) as executor:\n",
    "#         executor.map(get_single, batchfiles)\n",
    "#     past='{:.2f}'.format(time()-start)\n",
    "#     now=ctime()[4:]\n",
    "\n",
    "#     print 'profiles ',len(batchfiles),'  used ',past,'s', now\n",
    "#     return group\n"
   ]
  },
  {
   "cell_type": "code",
   "execution_count": 74,
   "metadata": {},
   "outputs": [
    {
     "name": "stdout",
     "output_type": "stream",
     "text": [
      "profiles  2   used  0.02 s Sep 28 01:07:10 2017\n"
     ]
    },
    {
     "data": {
      "text/plain": [
       "2"
      ]
     },
     "execution_count": 74,
     "metadata": {},
     "output_type": "execute_result"
    }
   ],
   "source": [
    "len(batch(cont[:2]))"
   ]
  },
  {
   "cell_type": "code",
   "execution_count": 84,
   "metadata": {},
   "outputs": [
    {
     "name": "stdout",
     "output_type": "stream",
     "text": [
      "'NoneType' object has no attribute 'group'\n",
      "'NoneType' object has no attribute 'group'\n",
      "profiles  10   used  0.06 s Sep 28 01:08:03 2017\n"
     ]
    },
    {
     "data": {
      "text/plain": [
       "168"
      ]
     },
     "execution_count": 84,
     "metadata": {},
     "output_type": "execute_result"
    }
   ],
   "source": [
    "len(batch(cont[:10])[6])"
   ]
  },
  {
   "cell_type": "code",
   "execution_count": null,
   "metadata": {
    "collapsed": true
   },
   "outputs": [],
   "source": []
  }
 ],
 "metadata": {
  "kernelspec": {
   "display_name": "Python 2",
   "language": "python",
   "name": "python2"
  },
  "language_info": {
   "codemirror_mode": {
    "name": "ipython",
    "version": 2
   },
   "file_extension": ".py",
   "mimetype": "text/x-python",
   "name": "python",
   "nbconvert_exporter": "python",
   "pygments_lexer": "ipython2",
   "version": "2.7.13"
  }
 },
 "nbformat": 4,
 "nbformat_minor": 2
}
