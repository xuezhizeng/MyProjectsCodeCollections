{
 "cells": [
  {
   "cell_type": "code",
   "execution_count": 1,
   "metadata": {
    "collapsed": true
   },
   "outputs": [],
   "source": [
    "# !ls"
   ]
  },
  {
   "cell_type": "code",
   "execution_count": 2,
   "metadata": {},
   "outputs": [
    {
     "name": "stdout",
     "output_type": "stream",
     "text": [
      "1 used 0.00 s | 100 used 14.36 s | 200 used 31.27 s | 300 used 46.69 s | 400 used 66.44 s | 500 used 83.58 s | 600 used 102.77 s | 700 used 119.70 s | 800 used 138.66 s | 900 used 156.37 s | 1000 used 173.90 s | 1100 used 194.38 s | 1200 used 210.88 s | 1300 used 228.87 s | 1400 used 245.27 s | 1500 used 263.49 s | 1600 used 281.26 s | 1700 used 298.90 s | 1800 used 314.88 s | 1900 used 332.68 s | 2000 used 348.83 s | 2100 used 366.66 s | 2200 used 382.72 s | 2300 used 401.44 s | 2400 used 418.50 s | 2500 used 437.56 s | 2600 used 453.14 s | 2700 used 473.90 s | 2800 used 490.06 s | 2900 used 506.82 s | 3000 used 524.52 s | 3100 used 544.03 s | 3200 used 558.21 s | 3300 used 576.06 s | 3400 used 594.59 s | 3500 used 610.49 s | 3600 used 624.82 s | 3700 used 642.41 s | 3800 used 661.55 s | 3900 used 680.92 s | 4000 used 696.45 s | 4100 used 713.49 s | 4200 used 732.20 s | 4300 used 750.54 s | 4400 used 767.56 s | 4500 used 786.38 s | 4600 used 806.21 s | 4700 used 822.77 s | 4800 used 838.91 s | 4900 used 858.78 s | 5000 used 875.78 s | 5100 used 891.51 s | 5200 used 908.12 s | 5300 used 928.59 s | 5400 used 943.91 s | 5500 used 965.17 s | 5600 used 983.29 s | 5700 used 1000.04 s | 5800 used 1016.58 s | 5900 used 1033.71 s | 6000 used 1049.50 s | 6100 used 1068.28 s | 6200 used 1083.06 s | 6300 used 1102.40 s | 6400 used 1117.57 s | 6500 used 1134.04 s | 6600 used 1153.06 s | 6700 used 1173.23 s | 6800 used 1192.26 s | 6900 used 1209.59 s | 7000 used 1227.22 s | 7100 used 1245.41 s | 7200 used 1259.93 s | 7300 used 1275.42 s | 7400 used 1289.62 s | 7500 used 1306.34 s | 7600 used 1320.81 s | 7700 used 1337.63 s | 7800 used 1352.55 s | 7900 used 1370.02 s | 8000 used 1388.62 s | 8100 used 1404.78 s | 8200 used 1423.67 s | 8300 used 1443.36 s | 8400 used 1460.50 s | 8500 used 1479.15 s | 8600 used 1496.28 s | 8700 used 1515.02 s | 8800 used 1529.31 s | 8900 used 1546.01 s | 9000 used 1557.69 s | 9100 used 1576.39 s | 9200 used 1591.79 s | 9300 used 1611.88 s | 9400 used 1627.93 s | 9500 used 1645.24 s | 9600 used 1661.25 s | 9700 used 1678.52 s | 9800 used 1695.63 s | 9900 used 1710.42 s |\n"
     ]
    },
    {
     "data": {
      "text/plain": [
       "1726.3631279468536"
      ]
     },
     "execution_count": 2,
     "metadata": {},
     "output_type": "execute_result"
    }
   ],
   "source": [
    "from time import time\n",
    "start=time()\n",
    "start\n",
    "\n",
    "\n",
    "!python -u /root/openface/util/align-dlib_mod.py \\\n",
    "real_soyoung_pics/img_10 align \\\n",
    "outerEyesAndNose \\\n",
    "chopHead256_real_soyoung_pics \\\n",
    "--size 256\n",
    "\n",
    "end=time()-start\n",
    "end"
   ]
  },
  {
   "cell_type": "code",
   "execution_count": null,
   "metadata": {
    "collapsed": true
   },
   "outputs": [],
   "source": []
  }
 ],
 "metadata": {
  "kernelspec": {
   "display_name": "Python 2",
   "language": "python",
   "name": "python2"
  },
  "language_info": {
   "codemirror_mode": {
    "name": "ipython",
    "version": 2
   },
   "file_extension": ".py",
   "mimetype": "text/x-python",
   "name": "python",
   "nbconvert_exporter": "python",
   "pygments_lexer": "ipython2",
   "version": "2.7.6"
  }
 },
 "nbformat": 4,
 "nbformat_minor": 2
}
