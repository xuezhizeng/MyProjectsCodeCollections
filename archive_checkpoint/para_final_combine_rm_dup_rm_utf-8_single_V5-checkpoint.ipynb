{
 "cells": [
  {
   "cell_type": "code",
   "execution_count": 1,
   "metadata": {
    "collapsed": true
   },
   "outputs": [],
   "source": [
    "import pandas as pd\n",
    "import os\n",
    "data = [i for i in os.listdir('.') if i.find('csv')>0]"
   ]
  },
  {
   "cell_type": "code",
   "execution_count": 2,
   "metadata": {},
   "outputs": [
    {
     "name": "stdout",
     "output_type": "stream",
     "text": [
      "29_Oct_47W_V4.csv\n",
      "loli1_para.csv\n"
     ]
    }
   ],
   "source": [
    "for i in data:\n",
    "    print i"
   ]
  },
  {
   "cell_type": "code",
   "execution_count": 4,
   "metadata": {},
   "outputs": [
    {
     "data": {
      "text/plain": [
       "((470814, 126), (96303, 129))"
      ]
     },
     "execution_count": 4,
     "metadata": {},
     "output_type": "execute_result"
    }
   ],
   "source": [
    "batch0 = pd.read_csv(data[0]) \n",
    "batch0= batch0.iloc[:,:-3]\n",
    "\n",
    "batch1 = pd.read_csv(data[1])\n",
    "# batch2 = pd.read_csv(data[0])\n",
    "batch0.shape, batch1.shape\n",
    "# batch2.shape"
   ]
  },
  {
   "cell_type": "code",
   "execution_count": 5,
   "metadata": {
    "collapsed": true
   },
   "outputs": [],
   "source": [
    "# batch0.head()\n",
    "# batch1.head()\n",
    "# batch2.head()"
   ]
  },
  {
   "cell_type": "code",
   "execution_count": 19,
   "metadata": {},
   "outputs": [
    {
     "data": {
      "text/plain": [
       "(576541, 129)"
      ]
     },
     "execution_count": 19,
     "metadata": {},
     "output_type": "execute_result"
    }
   ],
   "source": [
    "df = batch0.append(batch1).append(batch2).reset_index(drop=True)\n",
    "df.shape"
   ]
  },
  {
   "cell_type": "code",
   "execution_count": 20,
   "metadata": {},
   "outputs": [
    {
     "data": {
      "text/html": [
       "<div>\n",
       "<style>\n",
       "    .dataframe thead tr:only-child th {\n",
       "        text-align: right;\n",
       "    }\n",
       "\n",
       "    .dataframe thead th {\n",
       "        text-align: left;\n",
       "    }\n",
       "\n",
       "    .dataframe tbody tr th {\n",
       "        vertical-align: top;\n",
       "    }\n",
       "</style>\n",
       "<table border=\"1\" class=\"dataframe\">\n",
       "  <thead>\n",
       "    <tr style=\"text-align: right;\">\n",
       "      <th></th>\n",
       "      <th>0</th>\n",
       "      <th>1</th>\n",
       "      <th>2</th>\n",
       "      <th>3</th>\n",
       "      <th>4</th>\n",
       "      <th>5</th>\n",
       "      <th>6</th>\n",
       "      <th>7</th>\n",
       "      <th>8</th>\n",
       "      <th>9</th>\n",
       "      <th>...</th>\n",
       "      <th>119</th>\n",
       "      <th>120</th>\n",
       "      <th>121</th>\n",
       "      <th>122</th>\n",
       "      <th>123</th>\n",
       "      <th>124</th>\n",
       "      <th>125</th>\n",
       "      <th>126</th>\n",
       "      <th>127</th>\n",
       "      <th>name</th>\n",
       "    </tr>\n",
       "  </thead>\n",
       "  <tbody>\n",
       "    <tr>\n",
       "      <th>0</th>\n",
       "      <td>0.011476</td>\n",
       "      <td>0.165126</td>\n",
       "      <td>-0.129640</td>\n",
       "      <td>0.016787</td>\n",
       "      <td>0.022167</td>\n",
       "      <td>0.051669</td>\n",
       "      <td>0.014077</td>\n",
       "      <td>0.017761</td>\n",
       "      <td>0.011484</td>\n",
       "      <td>0.137340</td>\n",
       "      <td>...</td>\n",
       "      <td>0.157795</td>\n",
       "      <td>-0.054396</td>\n",
       "      <td>-0.000642</td>\n",
       "      <td>-0.096280</td>\n",
       "      <td>0.126662</td>\n",
       "      <td>-0.005746</td>\n",
       "      <td>-0.006710</td>\n",
       "      <td>-0.089524</td>\n",
       "      <td>0.049204</td>\n",
       "      <td>sub_28/1aa1269cc4cd42aeb12fb6f83beb89f4.jpg</td>\n",
       "    </tr>\n",
       "    <tr>\n",
       "      <th>1</th>\n",
       "      <td>-0.003138</td>\n",
       "      <td>-0.094253</td>\n",
       "      <td>-0.074803</td>\n",
       "      <td>0.001642</td>\n",
       "      <td>0.080649</td>\n",
       "      <td>-0.065988</td>\n",
       "      <td>-0.029929</td>\n",
       "      <td>0.026139</td>\n",
       "      <td>0.026266</td>\n",
       "      <td>-0.024320</td>\n",
       "      <td>...</td>\n",
       "      <td>0.135359</td>\n",
       "      <td>-0.071909</td>\n",
       "      <td>0.113172</td>\n",
       "      <td>0.045211</td>\n",
       "      <td>0.141725</td>\n",
       "      <td>-0.033956</td>\n",
       "      <td>0.012183</td>\n",
       "      <td>-0.019442</td>\n",
       "      <td>0.013153</td>\n",
       "      <td>sub_28/1985782_13_102812_1.jpg</td>\n",
       "    </tr>\n",
       "    <tr>\n",
       "      <th>2</th>\n",
       "      <td>0.052159</td>\n",
       "      <td>0.078025</td>\n",
       "      <td>-0.058801</td>\n",
       "      <td>0.111056</td>\n",
       "      <td>0.011825</td>\n",
       "      <td>0.077016</td>\n",
       "      <td>0.018737</td>\n",
       "      <td>0.034417</td>\n",
       "      <td>0.029392</td>\n",
       "      <td>-0.014144</td>\n",
       "      <td>...</td>\n",
       "      <td>0.076519</td>\n",
       "      <td>-0.007938</td>\n",
       "      <td>0.055379</td>\n",
       "      <td>-0.049870</td>\n",
       "      <td>0.153607</td>\n",
       "      <td>0.078589</td>\n",
       "      <td>-0.073745</td>\n",
       "      <td>0.036184</td>\n",
       "      <td>0.064255</td>\n",
       "      <td>sub_28/1993968735118832174.jpg</td>\n",
       "    </tr>\n",
       "    <tr>\n",
       "      <th>3</th>\n",
       "      <td>-0.022384</td>\n",
       "      <td>0.050678</td>\n",
       "      <td>-0.026818</td>\n",
       "      <td>0.041654</td>\n",
       "      <td>0.046246</td>\n",
       "      <td>0.022148</td>\n",
       "      <td>0.001582</td>\n",
       "      <td>0.021008</td>\n",
       "      <td>0.024489</td>\n",
       "      <td>0.015352</td>\n",
       "      <td>...</td>\n",
       "      <td>0.152728</td>\n",
       "      <td>-0.050696</td>\n",
       "      <td>-0.020838</td>\n",
       "      <td>-0.068645</td>\n",
       "      <td>0.067528</td>\n",
       "      <td>-0.124348</td>\n",
       "      <td>0.097163</td>\n",
       "      <td>0.079192</td>\n",
       "      <td>0.057003</td>\n",
       "      <td>sub_28/195943d29ir441i444lhtr.jpg</td>\n",
       "    </tr>\n",
       "    <tr>\n",
       "      <th>4</th>\n",
       "      <td>0.059199</td>\n",
       "      <td>0.078390</td>\n",
       "      <td>-0.108855</td>\n",
       "      <td>0.071035</td>\n",
       "      <td>-0.007066</td>\n",
       "      <td>-0.000059</td>\n",
       "      <td>0.007308</td>\n",
       "      <td>-0.022881</td>\n",
       "      <td>-0.106324</td>\n",
       "      <td>0.033876</td>\n",
       "      <td>...</td>\n",
       "      <td>0.116259</td>\n",
       "      <td>-0.019002</td>\n",
       "      <td>0.083863</td>\n",
       "      <td>0.170860</td>\n",
       "      <td>0.019041</td>\n",
       "      <td>0.054721</td>\n",
       "      <td>0.044380</td>\n",
       "      <td>0.145403</td>\n",
       "      <td>-0.038084</td>\n",
       "      <td>sub_28/1dd0675b-b9d6-4cca-a03e-2134403a74a9_si...</td>\n",
       "    </tr>\n",
       "  </tbody>\n",
       "</table>\n",
       "<p>5 rows × 129 columns</p>\n",
       "</div>"
      ],
      "text/plain": [
       "          0         1         2         3         4         5         6  \\\n",
       "0  0.011476  0.165126 -0.129640  0.016787  0.022167  0.051669  0.014077   \n",
       "1 -0.003138 -0.094253 -0.074803  0.001642  0.080649 -0.065988 -0.029929   \n",
       "2  0.052159  0.078025 -0.058801  0.111056  0.011825  0.077016  0.018737   \n",
       "3 -0.022384  0.050678 -0.026818  0.041654  0.046246  0.022148  0.001582   \n",
       "4  0.059199  0.078390 -0.108855  0.071035 -0.007066 -0.000059  0.007308   \n",
       "\n",
       "          7         8         9  \\\n",
       "0  0.017761  0.011484  0.137340   \n",
       "1  0.026139  0.026266 -0.024320   \n",
       "2  0.034417  0.029392 -0.014144   \n",
       "3  0.021008  0.024489  0.015352   \n",
       "4 -0.022881 -0.106324  0.033876   \n",
       "\n",
       "                         ...                               119       120  \\\n",
       "0                        ...                          0.157795 -0.054396   \n",
       "1                        ...                          0.135359 -0.071909   \n",
       "2                        ...                          0.076519 -0.007938   \n",
       "3                        ...                          0.152728 -0.050696   \n",
       "4                        ...                          0.116259 -0.019002   \n",
       "\n",
       "        121       122       123       124       125       126       127  \\\n",
       "0 -0.000642 -0.096280  0.126662 -0.005746 -0.006710 -0.089524  0.049204   \n",
       "1  0.113172  0.045211  0.141725 -0.033956  0.012183 -0.019442  0.013153   \n",
       "2  0.055379 -0.049870  0.153607  0.078589 -0.073745  0.036184  0.064255   \n",
       "3 -0.020838 -0.068645  0.067528 -0.124348  0.097163  0.079192  0.057003   \n",
       "4  0.083863  0.170860  0.019041  0.054721  0.044380  0.145403 -0.038084   \n",
       "\n",
       "                                                name  \n",
       "0        sub_28/1aa1269cc4cd42aeb12fb6f83beb89f4.jpg  \n",
       "1                     sub_28/1985782_13_102812_1.jpg  \n",
       "2                     sub_28/1993968735118832174.jpg  \n",
       "3                  sub_28/195943d29ir441i444lhtr.jpg  \n",
       "4  sub_28/1dd0675b-b9d6-4cca-a03e-2134403a74a9_si...  \n",
       "\n",
       "[5 rows x 129 columns]"
      ]
     },
     "execution_count": 20,
     "metadata": {},
     "output_type": "execute_result"
    }
   ],
   "source": [
    "df.head()"
   ]
  },
  {
   "cell_type": "code",
   "execution_count": 21,
   "metadata": {},
   "outputs": [
    {
     "data": {
      "text/plain": [
       "6"
      ]
     },
     "execution_count": 21,
     "metadata": {},
     "output_type": "execute_result"
    }
   ],
   "source": [
    "exclude = [\n",
    "'euroB1',           \n",
    "'euroG2',          \n",
    "'euroG1',         \n",
    "'euroB2',        \n",
    "'east1',       \n",
    "'east2' ] \n",
    "len(exclude)"
   ]
  },
  {
   "cell_type": "code",
   "execution_count": 23,
   "metadata": {},
   "outputs": [
    {
     "data": {
      "text/plain": [
       "(576541, 130)"
      ]
     },
     "execution_count": 23,
     "metadata": {},
     "output_type": "execute_result"
    }
   ],
   "source": [
    "df['taobao'] = df['name'].apply(lambda x: 1 if x.split('/')[0] in exclude else 0)\n",
    "df.shape"
   ]
  },
  {
   "cell_type": "code",
   "execution_count": 24,
   "metadata": {},
   "outputs": [
    {
     "data": {
      "text/html": [
       "<div>\n",
       "<style>\n",
       "    .dataframe thead tr:only-child th {\n",
       "        text-align: right;\n",
       "    }\n",
       "\n",
       "    .dataframe thead th {\n",
       "        text-align: left;\n",
       "    }\n",
       "\n",
       "    .dataframe tbody tr th {\n",
       "        vertical-align: top;\n",
       "    }\n",
       "</style>\n",
       "<table border=\"1\" class=\"dataframe\">\n",
       "  <thead>\n",
       "    <tr style=\"text-align: right;\">\n",
       "      <th></th>\n",
       "      <th>0</th>\n",
       "      <th>1</th>\n",
       "      <th>2</th>\n",
       "      <th>3</th>\n",
       "      <th>4</th>\n",
       "      <th>5</th>\n",
       "      <th>6</th>\n",
       "      <th>7</th>\n",
       "      <th>8</th>\n",
       "      <th>9</th>\n",
       "      <th>...</th>\n",
       "      <th>120</th>\n",
       "      <th>121</th>\n",
       "      <th>122</th>\n",
       "      <th>123</th>\n",
       "      <th>124</th>\n",
       "      <th>125</th>\n",
       "      <th>126</th>\n",
       "      <th>127</th>\n",
       "      <th>name</th>\n",
       "      <th>taobao</th>\n",
       "    </tr>\n",
       "  </thead>\n",
       "  <tbody>\n",
       "    <tr>\n",
       "      <th>0</th>\n",
       "      <td>0.011476</td>\n",
       "      <td>0.165126</td>\n",
       "      <td>-0.129640</td>\n",
       "      <td>0.016787</td>\n",
       "      <td>0.022167</td>\n",
       "      <td>0.051669</td>\n",
       "      <td>0.014077</td>\n",
       "      <td>0.017761</td>\n",
       "      <td>0.011484</td>\n",
       "      <td>0.137340</td>\n",
       "      <td>...</td>\n",
       "      <td>-0.054396</td>\n",
       "      <td>-0.000642</td>\n",
       "      <td>-0.096280</td>\n",
       "      <td>0.126662</td>\n",
       "      <td>-0.005746</td>\n",
       "      <td>-0.006710</td>\n",
       "      <td>-0.089524</td>\n",
       "      <td>0.049204</td>\n",
       "      <td>sub_28/1aa1269cc4cd42aeb12fb6f83beb89f4.jpg</td>\n",
       "      <td>0</td>\n",
       "    </tr>\n",
       "    <tr>\n",
       "      <th>1</th>\n",
       "      <td>-0.003138</td>\n",
       "      <td>-0.094253</td>\n",
       "      <td>-0.074803</td>\n",
       "      <td>0.001642</td>\n",
       "      <td>0.080649</td>\n",
       "      <td>-0.065988</td>\n",
       "      <td>-0.029929</td>\n",
       "      <td>0.026139</td>\n",
       "      <td>0.026266</td>\n",
       "      <td>-0.024320</td>\n",
       "      <td>...</td>\n",
       "      <td>-0.071909</td>\n",
       "      <td>0.113172</td>\n",
       "      <td>0.045211</td>\n",
       "      <td>0.141725</td>\n",
       "      <td>-0.033956</td>\n",
       "      <td>0.012183</td>\n",
       "      <td>-0.019442</td>\n",
       "      <td>0.013153</td>\n",
       "      <td>sub_28/1985782_13_102812_1.jpg</td>\n",
       "      <td>0</td>\n",
       "    </tr>\n",
       "    <tr>\n",
       "      <th>2</th>\n",
       "      <td>0.052159</td>\n",
       "      <td>0.078025</td>\n",
       "      <td>-0.058801</td>\n",
       "      <td>0.111056</td>\n",
       "      <td>0.011825</td>\n",
       "      <td>0.077016</td>\n",
       "      <td>0.018737</td>\n",
       "      <td>0.034417</td>\n",
       "      <td>0.029392</td>\n",
       "      <td>-0.014144</td>\n",
       "      <td>...</td>\n",
       "      <td>-0.007938</td>\n",
       "      <td>0.055379</td>\n",
       "      <td>-0.049870</td>\n",
       "      <td>0.153607</td>\n",
       "      <td>0.078589</td>\n",
       "      <td>-0.073745</td>\n",
       "      <td>0.036184</td>\n",
       "      <td>0.064255</td>\n",
       "      <td>sub_28/1993968735118832174.jpg</td>\n",
       "      <td>0</td>\n",
       "    </tr>\n",
       "    <tr>\n",
       "      <th>3</th>\n",
       "      <td>-0.022384</td>\n",
       "      <td>0.050678</td>\n",
       "      <td>-0.026818</td>\n",
       "      <td>0.041654</td>\n",
       "      <td>0.046246</td>\n",
       "      <td>0.022148</td>\n",
       "      <td>0.001582</td>\n",
       "      <td>0.021008</td>\n",
       "      <td>0.024489</td>\n",
       "      <td>0.015352</td>\n",
       "      <td>...</td>\n",
       "      <td>-0.050696</td>\n",
       "      <td>-0.020838</td>\n",
       "      <td>-0.068645</td>\n",
       "      <td>0.067528</td>\n",
       "      <td>-0.124348</td>\n",
       "      <td>0.097163</td>\n",
       "      <td>0.079192</td>\n",
       "      <td>0.057003</td>\n",
       "      <td>sub_28/195943d29ir441i444lhtr.jpg</td>\n",
       "      <td>0</td>\n",
       "    </tr>\n",
       "    <tr>\n",
       "      <th>4</th>\n",
       "      <td>0.059199</td>\n",
       "      <td>0.078390</td>\n",
       "      <td>-0.108855</td>\n",
       "      <td>0.071035</td>\n",
       "      <td>-0.007066</td>\n",
       "      <td>-0.000059</td>\n",
       "      <td>0.007308</td>\n",
       "      <td>-0.022881</td>\n",
       "      <td>-0.106324</td>\n",
       "      <td>0.033876</td>\n",
       "      <td>...</td>\n",
       "      <td>-0.019002</td>\n",
       "      <td>0.083863</td>\n",
       "      <td>0.170860</td>\n",
       "      <td>0.019041</td>\n",
       "      <td>0.054721</td>\n",
       "      <td>0.044380</td>\n",
       "      <td>0.145403</td>\n",
       "      <td>-0.038084</td>\n",
       "      <td>sub_28/1dd0675b-b9d6-4cca-a03e-2134403a74a9_si...</td>\n",
       "      <td>0</td>\n",
       "    </tr>\n",
       "  </tbody>\n",
       "</table>\n",
       "<p>5 rows × 130 columns</p>\n",
       "</div>"
      ],
      "text/plain": [
       "          0         1         2         3         4         5         6  \\\n",
       "0  0.011476  0.165126 -0.129640  0.016787  0.022167  0.051669  0.014077   \n",
       "1 -0.003138 -0.094253 -0.074803  0.001642  0.080649 -0.065988 -0.029929   \n",
       "2  0.052159  0.078025 -0.058801  0.111056  0.011825  0.077016  0.018737   \n",
       "3 -0.022384  0.050678 -0.026818  0.041654  0.046246  0.022148  0.001582   \n",
       "4  0.059199  0.078390 -0.108855  0.071035 -0.007066 -0.000059  0.007308   \n",
       "\n",
       "          7         8         9   ...         120       121       122  \\\n",
       "0  0.017761  0.011484  0.137340   ...   -0.054396 -0.000642 -0.096280   \n",
       "1  0.026139  0.026266 -0.024320   ...   -0.071909  0.113172  0.045211   \n",
       "2  0.034417  0.029392 -0.014144   ...   -0.007938  0.055379 -0.049870   \n",
       "3  0.021008  0.024489  0.015352   ...   -0.050696 -0.020838 -0.068645   \n",
       "4 -0.022881 -0.106324  0.033876   ...   -0.019002  0.083863  0.170860   \n",
       "\n",
       "        123       124       125       126       127  \\\n",
       "0  0.126662 -0.005746 -0.006710 -0.089524  0.049204   \n",
       "1  0.141725 -0.033956  0.012183 -0.019442  0.013153   \n",
       "2  0.153607  0.078589 -0.073745  0.036184  0.064255   \n",
       "3  0.067528 -0.124348  0.097163  0.079192  0.057003   \n",
       "4  0.019041  0.054721  0.044380  0.145403 -0.038084   \n",
       "\n",
       "                                                name  taobao  \n",
       "0        sub_28/1aa1269cc4cd42aeb12fb6f83beb89f4.jpg       0  \n",
       "1                     sub_28/1985782_13_102812_1.jpg       0  \n",
       "2                     sub_28/1993968735118832174.jpg       0  \n",
       "3                  sub_28/195943d29ir441i444lhtr.jpg       0  \n",
       "4  sub_28/1dd0675b-b9d6-4cca-a03e-2134403a74a9_si...       0  \n",
       "\n",
       "[5 rows x 130 columns]"
      ]
     },
     "execution_count": 24,
     "metadata": {},
     "output_type": "execute_result"
    }
   ],
   "source": [
    "df.head()"
   ]
  },
  {
   "cell_type": "code",
   "execution_count": 25,
   "metadata": {},
   "outputs": [
    {
     "data": {
      "text/plain": [
       "(3805, 130)"
      ]
     },
     "execution_count": 25,
     "metadata": {},
     "output_type": "execute_result"
    }
   ],
   "source": [
    "df[df['taobao']==1].shape"
   ]
  },
  {
   "cell_type": "code",
   "execution_count": 26,
   "metadata": {},
   "outputs": [
    {
     "data": {
      "text/plain": [
       "(576541, 131)"
      ]
     },
     "execution_count": 26,
     "metadata": {},
     "output_type": "execute_result"
    }
   ],
   "source": [
    "# df['name'].apply(lambda x: x.count('a')).sort_values(ascending=False).head(3)\n",
    "# df['name'].apply(lambda x: x.count('/')).sort_values(ascending=False).head(3)\n",
    "\n",
    "df['real_name'] = df['name'].apply(lambda x: x.split('/')[-1])\n",
    "df.shape"
   ]
  },
  {
   "cell_type": "code",
   "execution_count": 27,
   "metadata": {},
   "outputs": [
    {
     "data": {
      "text/html": [
       "<div>\n",
       "<style>\n",
       "    .dataframe thead tr:only-child th {\n",
       "        text-align: right;\n",
       "    }\n",
       "\n",
       "    .dataframe thead th {\n",
       "        text-align: left;\n",
       "    }\n",
       "\n",
       "    .dataframe tbody tr th {\n",
       "        vertical-align: top;\n",
       "    }\n",
       "</style>\n",
       "<table border=\"1\" class=\"dataframe\">\n",
       "  <thead>\n",
       "    <tr style=\"text-align: right;\">\n",
       "      <th></th>\n",
       "      <th>0</th>\n",
       "      <th>1</th>\n",
       "      <th>2</th>\n",
       "      <th>3</th>\n",
       "      <th>4</th>\n",
       "      <th>5</th>\n",
       "      <th>6</th>\n",
       "      <th>7</th>\n",
       "      <th>8</th>\n",
       "      <th>9</th>\n",
       "      <th>...</th>\n",
       "      <th>121</th>\n",
       "      <th>122</th>\n",
       "      <th>123</th>\n",
       "      <th>124</th>\n",
       "      <th>125</th>\n",
       "      <th>126</th>\n",
       "      <th>127</th>\n",
       "      <th>name</th>\n",
       "      <th>taobao</th>\n",
       "      <th>real_name</th>\n",
       "    </tr>\n",
       "  </thead>\n",
       "  <tbody>\n",
       "    <tr>\n",
       "      <th>0</th>\n",
       "      <td>0.011476</td>\n",
       "      <td>0.165126</td>\n",
       "      <td>-0.129640</td>\n",
       "      <td>0.016787</td>\n",
       "      <td>0.022167</td>\n",
       "      <td>0.051669</td>\n",
       "      <td>0.014077</td>\n",
       "      <td>0.017761</td>\n",
       "      <td>0.011484</td>\n",
       "      <td>0.137340</td>\n",
       "      <td>...</td>\n",
       "      <td>-0.000642</td>\n",
       "      <td>-0.096280</td>\n",
       "      <td>0.126662</td>\n",
       "      <td>-0.005746</td>\n",
       "      <td>-0.006710</td>\n",
       "      <td>-0.089524</td>\n",
       "      <td>0.049204</td>\n",
       "      <td>sub_28/1aa1269cc4cd42aeb12fb6f83beb89f4.jpg</td>\n",
       "      <td>0</td>\n",
       "      <td>1aa1269cc4cd42aeb12fb6f83beb89f4.jpg</td>\n",
       "    </tr>\n",
       "    <tr>\n",
       "      <th>1</th>\n",
       "      <td>-0.003138</td>\n",
       "      <td>-0.094253</td>\n",
       "      <td>-0.074803</td>\n",
       "      <td>0.001642</td>\n",
       "      <td>0.080649</td>\n",
       "      <td>-0.065988</td>\n",
       "      <td>-0.029929</td>\n",
       "      <td>0.026139</td>\n",
       "      <td>0.026266</td>\n",
       "      <td>-0.024320</td>\n",
       "      <td>...</td>\n",
       "      <td>0.113172</td>\n",
       "      <td>0.045211</td>\n",
       "      <td>0.141725</td>\n",
       "      <td>-0.033956</td>\n",
       "      <td>0.012183</td>\n",
       "      <td>-0.019442</td>\n",
       "      <td>0.013153</td>\n",
       "      <td>sub_28/1985782_13_102812_1.jpg</td>\n",
       "      <td>0</td>\n",
       "      <td>1985782_13_102812_1.jpg</td>\n",
       "    </tr>\n",
       "    <tr>\n",
       "      <th>2</th>\n",
       "      <td>0.052159</td>\n",
       "      <td>0.078025</td>\n",
       "      <td>-0.058801</td>\n",
       "      <td>0.111056</td>\n",
       "      <td>0.011825</td>\n",
       "      <td>0.077016</td>\n",
       "      <td>0.018737</td>\n",
       "      <td>0.034417</td>\n",
       "      <td>0.029392</td>\n",
       "      <td>-0.014144</td>\n",
       "      <td>...</td>\n",
       "      <td>0.055379</td>\n",
       "      <td>-0.049870</td>\n",
       "      <td>0.153607</td>\n",
       "      <td>0.078589</td>\n",
       "      <td>-0.073745</td>\n",
       "      <td>0.036184</td>\n",
       "      <td>0.064255</td>\n",
       "      <td>sub_28/1993968735118832174.jpg</td>\n",
       "      <td>0</td>\n",
       "      <td>1993968735118832174.jpg</td>\n",
       "    </tr>\n",
       "    <tr>\n",
       "      <th>3</th>\n",
       "      <td>-0.022384</td>\n",
       "      <td>0.050678</td>\n",
       "      <td>-0.026818</td>\n",
       "      <td>0.041654</td>\n",
       "      <td>0.046246</td>\n",
       "      <td>0.022148</td>\n",
       "      <td>0.001582</td>\n",
       "      <td>0.021008</td>\n",
       "      <td>0.024489</td>\n",
       "      <td>0.015352</td>\n",
       "      <td>...</td>\n",
       "      <td>-0.020838</td>\n",
       "      <td>-0.068645</td>\n",
       "      <td>0.067528</td>\n",
       "      <td>-0.124348</td>\n",
       "      <td>0.097163</td>\n",
       "      <td>0.079192</td>\n",
       "      <td>0.057003</td>\n",
       "      <td>sub_28/195943d29ir441i444lhtr.jpg</td>\n",
       "      <td>0</td>\n",
       "      <td>195943d29ir441i444lhtr.jpg</td>\n",
       "    </tr>\n",
       "    <tr>\n",
       "      <th>4</th>\n",
       "      <td>0.059199</td>\n",
       "      <td>0.078390</td>\n",
       "      <td>-0.108855</td>\n",
       "      <td>0.071035</td>\n",
       "      <td>-0.007066</td>\n",
       "      <td>-0.000059</td>\n",
       "      <td>0.007308</td>\n",
       "      <td>-0.022881</td>\n",
       "      <td>-0.106324</td>\n",
       "      <td>0.033876</td>\n",
       "      <td>...</td>\n",
       "      <td>0.083863</td>\n",
       "      <td>0.170860</td>\n",
       "      <td>0.019041</td>\n",
       "      <td>0.054721</td>\n",
       "      <td>0.044380</td>\n",
       "      <td>0.145403</td>\n",
       "      <td>-0.038084</td>\n",
       "      <td>sub_28/1dd0675b-b9d6-4cca-a03e-2134403a74a9_si...</td>\n",
       "      <td>0</td>\n",
       "      <td>1dd0675b-b9d6-4cca-a03e-2134403a74a9_size162_w...</td>\n",
       "    </tr>\n",
       "  </tbody>\n",
       "</table>\n",
       "<p>5 rows × 131 columns</p>\n",
       "</div>"
      ],
      "text/plain": [
       "          0         1         2         3         4         5         6  \\\n",
       "0  0.011476  0.165126 -0.129640  0.016787  0.022167  0.051669  0.014077   \n",
       "1 -0.003138 -0.094253 -0.074803  0.001642  0.080649 -0.065988 -0.029929   \n",
       "2  0.052159  0.078025 -0.058801  0.111056  0.011825  0.077016  0.018737   \n",
       "3 -0.022384  0.050678 -0.026818  0.041654  0.046246  0.022148  0.001582   \n",
       "4  0.059199  0.078390 -0.108855  0.071035 -0.007066 -0.000059  0.007308   \n",
       "\n",
       "          7         8         9  \\\n",
       "0  0.017761  0.011484  0.137340   \n",
       "1  0.026139  0.026266 -0.024320   \n",
       "2  0.034417  0.029392 -0.014144   \n",
       "3  0.021008  0.024489  0.015352   \n",
       "4 -0.022881 -0.106324  0.033876   \n",
       "\n",
       "                         ...                               121       122  \\\n",
       "0                        ...                         -0.000642 -0.096280   \n",
       "1                        ...                          0.113172  0.045211   \n",
       "2                        ...                          0.055379 -0.049870   \n",
       "3                        ...                         -0.020838 -0.068645   \n",
       "4                        ...                          0.083863  0.170860   \n",
       "\n",
       "        123       124       125       126       127  \\\n",
       "0  0.126662 -0.005746 -0.006710 -0.089524  0.049204   \n",
       "1  0.141725 -0.033956  0.012183 -0.019442  0.013153   \n",
       "2  0.153607  0.078589 -0.073745  0.036184  0.064255   \n",
       "3  0.067528 -0.124348  0.097163  0.079192  0.057003   \n",
       "4  0.019041  0.054721  0.044380  0.145403 -0.038084   \n",
       "\n",
       "                                                name  taobao  \\\n",
       "0        sub_28/1aa1269cc4cd42aeb12fb6f83beb89f4.jpg       0   \n",
       "1                     sub_28/1985782_13_102812_1.jpg       0   \n",
       "2                     sub_28/1993968735118832174.jpg       0   \n",
       "3                  sub_28/195943d29ir441i444lhtr.jpg       0   \n",
       "4  sub_28/1dd0675b-b9d6-4cca-a03e-2134403a74a9_si...       0   \n",
       "\n",
       "                                           real_name  \n",
       "0               1aa1269cc4cd42aeb12fb6f83beb89f4.jpg  \n",
       "1                            1985782_13_102812_1.jpg  \n",
       "2                            1993968735118832174.jpg  \n",
       "3                         195943d29ir441i444lhtr.jpg  \n",
       "4  1dd0675b-b9d6-4cca-a03e-2134403a74a9_size162_w...  \n",
       "\n",
       "[5 rows x 131 columns]"
      ]
     },
     "execution_count": 27,
     "metadata": {},
     "output_type": "execute_result"
    }
   ],
   "source": [
    "df.head()"
   ]
  },
  {
   "cell_type": "code",
   "execution_count": 28,
   "metadata": {},
   "outputs": [
    {
     "data": {
      "text/plain": [
       "(3).jpg               4\n",
       "(7).jpg               4\n",
       "2-150111133633.jpg    3\n",
       "211Z0F55-0.jpg        3\n",
       "1F314145048-15.jpg    3\n",
       "Name: real_name, dtype: int64"
      ]
     },
     "execution_count": 28,
     "metadata": {},
     "output_type": "execute_result"
    }
   ],
   "source": [
    "df['real_name'].value_counts().head()"
   ]
  },
  {
   "cell_type": "code",
   "execution_count": 29,
   "metadata": {},
   "outputs": [
    {
     "data": {
      "text/plain": [
       "107972"
      ]
     },
     "execution_count": 29,
     "metadata": {},
     "output_type": "execute_result"
    }
   ],
   "source": [
    "df['real_name'].duplicated().sum()"
   ]
  },
  {
   "cell_type": "code",
   "execution_count": 30,
   "metadata": {},
   "outputs": [
    {
     "data": {
      "text/plain": [
       "e3b1e6be801f57ebfec585cb5ef5666a_799_1200.jpg      3\n",
       "342ac65c10385343dc7480eb9a13b07ecb808844(1).jpg    3\n",
       "53e2e1d5N97140b10.jpg                              3\n",
       "6598176974867148607.jpg                            3\n",
       "09172_2.jpg                                        3\n",
       "Name: real_name, dtype: int64"
      ]
     },
     "execution_count": 30,
     "metadata": {},
     "output_type": "execute_result"
    }
   ],
   "source": [
    "df[df['taobao']==0]['real_name'].value_counts().head()"
   ]
  },
  {
   "cell_type": "code",
   "execution_count": 31,
   "metadata": {},
   "outputs": [
    {
     "data": {
      "text/plain": [
       "105710"
      ]
     },
     "execution_count": 31,
     "metadata": {},
     "output_type": "execute_result"
    }
   ],
   "source": [
    "df[df['taobao']==0]['real_name'].duplicated().sum()"
   ]
  },
  {
   "cell_type": "code",
   "execution_count": 32,
   "metadata": {},
   "outputs": [
    {
     "data": {
      "text/plain": [
       "(3805, 131)"
      ]
     },
     "execution_count": 32,
     "metadata": {},
     "output_type": "execute_result"
    }
   ],
   "source": [
    "taobao = df[df['taobao']==1]\n",
    "taobao.shape"
   ]
  },
  {
   "cell_type": "code",
   "execution_count": 33,
   "metadata": {},
   "outputs": [
    {
     "data": {
      "text/plain": [
       "(572736, 131)"
      ]
     },
     "execution_count": 33,
     "metadata": {},
     "output_type": "execute_result"
    }
   ],
   "source": [
    "df1 = df[df['taobao']==0]\n",
    "df1.shape"
   ]
  },
  {
   "cell_type": "code",
   "execution_count": 34,
   "metadata": {},
   "outputs": [
    {
     "data": {
      "text/plain": [
       "(105710, 131)"
      ]
     },
     "execution_count": 34,
     "metadata": {},
     "output_type": "execute_result"
    }
   ],
   "source": [
    "to_be_deleted = df1[df1['real_name'].duplicated()]\n",
    "to_be_deleted.shape"
   ]
  },
  {
   "cell_type": "code",
   "execution_count": 35,
   "metadata": {
    "collapsed": true
   },
   "outputs": [],
   "source": [
    "to_be_deleted.to_csv('to_be_delete2.csv')"
   ]
  },
  {
   "cell_type": "code",
   "execution_count": 36,
   "metadata": {},
   "outputs": [
    {
     "data": {
      "text/plain": [
       "(467026, 131)"
      ]
     },
     "execution_count": 36,
     "metadata": {},
     "output_type": "execute_result"
    }
   ],
   "source": [
    "df1[~df1['real_name'].duplicated()].shape"
   ]
  },
  {
   "cell_type": "code",
   "execution_count": 37,
   "metadata": {},
   "outputs": [
    {
     "data": {
      "text/plain": [
       "(467026, 131)"
      ]
     },
     "execution_count": 37,
     "metadata": {},
     "output_type": "execute_result"
    }
   ],
   "source": [
    "df2 = df1[~df1['real_name'].duplicated()]\n",
    "df2.shape"
   ]
  },
  {
   "cell_type": "code",
   "execution_count": 38,
   "metadata": {},
   "outputs": [
    {
     "data": {
      "text/plain": [
       "(470831, 131)"
      ]
     },
     "execution_count": 38,
     "metadata": {},
     "output_type": "execute_result"
    }
   ],
   "source": [
    "df3 = df2.append(taobao)\n",
    "df3.shape"
   ]
  },
  {
   "cell_type": "code",
   "execution_count": 39,
   "metadata": {},
   "outputs": [
    {
     "data": {
      "text/html": [
       "<div>\n",
       "<style>\n",
       "    .dataframe thead tr:only-child th {\n",
       "        text-align: right;\n",
       "    }\n",
       "\n",
       "    .dataframe thead th {\n",
       "        text-align: left;\n",
       "    }\n",
       "\n",
       "    .dataframe tbody tr th {\n",
       "        vertical-align: top;\n",
       "    }\n",
       "</style>\n",
       "<table border=\"1\" class=\"dataframe\">\n",
       "  <thead>\n",
       "    <tr style=\"text-align: right;\">\n",
       "      <th></th>\n",
       "      <th>0</th>\n",
       "      <th>1</th>\n",
       "      <th>2</th>\n",
       "      <th>3</th>\n",
       "      <th>4</th>\n",
       "      <th>5</th>\n",
       "      <th>6</th>\n",
       "      <th>7</th>\n",
       "      <th>8</th>\n",
       "      <th>9</th>\n",
       "      <th>...</th>\n",
       "      <th>121</th>\n",
       "      <th>122</th>\n",
       "      <th>123</th>\n",
       "      <th>124</th>\n",
       "      <th>125</th>\n",
       "      <th>126</th>\n",
       "      <th>127</th>\n",
       "      <th>name</th>\n",
       "      <th>taobao</th>\n",
       "      <th>real_name</th>\n",
       "    </tr>\n",
       "  </thead>\n",
       "  <tbody>\n",
       "    <tr>\n",
       "      <th>364370</th>\n",
       "      <td>0.048079</td>\n",
       "      <td>-0.005735</td>\n",
       "      <td>0.032212</td>\n",
       "      <td>0.108099</td>\n",
       "      <td>-0.034226</td>\n",
       "      <td>0.037377</td>\n",
       "      <td>0.059349</td>\n",
       "      <td>0.087101</td>\n",
       "      <td>0.150105</td>\n",
       "      <td>-0.095889</td>\n",
       "      <td>...</td>\n",
       "      <td>0.009989</td>\n",
       "      <td>-0.143778</td>\n",
       "      <td>0.178605</td>\n",
       "      <td>-0.003081</td>\n",
       "      <td>0.003301</td>\n",
       "      <td>0.086064</td>\n",
       "      <td>0.028129</td>\n",
       "      <td>east1/(455).jpg</td>\n",
       "      <td>1</td>\n",
       "      <td>(455).jpg</td>\n",
       "    </tr>\n",
       "    <tr>\n",
       "      <th>364371</th>\n",
       "      <td>0.036722</td>\n",
       "      <td>0.102138</td>\n",
       "      <td>-0.004209</td>\n",
       "      <td>0.140337</td>\n",
       "      <td>-0.059118</td>\n",
       "      <td>0.030608</td>\n",
       "      <td>-0.010955</td>\n",
       "      <td>0.045253</td>\n",
       "      <td>0.105136</td>\n",
       "      <td>0.031112</td>\n",
       "      <td>...</td>\n",
       "      <td>0.052320</td>\n",
       "      <td>-0.101862</td>\n",
       "      <td>0.182439</td>\n",
       "      <td>0.160878</td>\n",
       "      <td>-0.070499</td>\n",
       "      <td>0.112281</td>\n",
       "      <td>0.075241</td>\n",
       "      <td>east1/(162).jpg</td>\n",
       "      <td>1</td>\n",
       "      <td>(162).jpg</td>\n",
       "    </tr>\n",
       "    <tr>\n",
       "      <th>364372</th>\n",
       "      <td>-0.040984</td>\n",
       "      <td>0.214801</td>\n",
       "      <td>-0.011364</td>\n",
       "      <td>0.080878</td>\n",
       "      <td>-0.045407</td>\n",
       "      <td>0.056833</td>\n",
       "      <td>-0.051260</td>\n",
       "      <td>0.029586</td>\n",
       "      <td>0.126758</td>\n",
       "      <td>0.122906</td>\n",
       "      <td>...</td>\n",
       "      <td>0.080878</td>\n",
       "      <td>-0.057504</td>\n",
       "      <td>0.135926</td>\n",
       "      <td>0.162637</td>\n",
       "      <td>-0.080175</td>\n",
       "      <td>0.087601</td>\n",
       "      <td>0.090195</td>\n",
       "      <td>east1/(675).jpg</td>\n",
       "      <td>1</td>\n",
       "      <td>(675).jpg</td>\n",
       "    </tr>\n",
       "    <tr>\n",
       "      <th>364373</th>\n",
       "      <td>0.031182</td>\n",
       "      <td>0.099060</td>\n",
       "      <td>0.016765</td>\n",
       "      <td>0.127419</td>\n",
       "      <td>-0.007815</td>\n",
       "      <td>0.043578</td>\n",
       "      <td>0.002895</td>\n",
       "      <td>0.058311</td>\n",
       "      <td>0.084792</td>\n",
       "      <td>-0.024607</td>\n",
       "      <td>...</td>\n",
       "      <td>0.095798</td>\n",
       "      <td>-0.118035</td>\n",
       "      <td>0.209204</td>\n",
       "      <td>0.173771</td>\n",
       "      <td>-0.102763</td>\n",
       "      <td>0.085837</td>\n",
       "      <td>0.057860</td>\n",
       "      <td>east1/(349).jpg</td>\n",
       "      <td>1</td>\n",
       "      <td>(349).jpg</td>\n",
       "    </tr>\n",
       "    <tr>\n",
       "      <th>364374</th>\n",
       "      <td>0.023592</td>\n",
       "      <td>0.028497</td>\n",
       "      <td>-0.009194</td>\n",
       "      <td>0.040042</td>\n",
       "      <td>-0.030671</td>\n",
       "      <td>0.070353</td>\n",
       "      <td>0.064105</td>\n",
       "      <td>0.141149</td>\n",
       "      <td>0.151046</td>\n",
       "      <td>-0.056462</td>\n",
       "      <td>...</td>\n",
       "      <td>-0.005828</td>\n",
       "      <td>-0.185796</td>\n",
       "      <td>0.209589</td>\n",
       "      <td>-0.003248</td>\n",
       "      <td>-0.015919</td>\n",
       "      <td>-0.046378</td>\n",
       "      <td>0.039214</td>\n",
       "      <td>east1/(582).jpg</td>\n",
       "      <td>1</td>\n",
       "      <td>(582).jpg</td>\n",
       "    </tr>\n",
       "  </tbody>\n",
       "</table>\n",
       "<p>5 rows × 131 columns</p>\n",
       "</div>"
      ],
      "text/plain": [
       "               0         1         2         3         4         5         6  \\\n",
       "364370  0.048079 -0.005735  0.032212  0.108099 -0.034226  0.037377  0.059349   \n",
       "364371  0.036722  0.102138 -0.004209  0.140337 -0.059118  0.030608 -0.010955   \n",
       "364372 -0.040984  0.214801 -0.011364  0.080878 -0.045407  0.056833 -0.051260   \n",
       "364373  0.031182  0.099060  0.016765  0.127419 -0.007815  0.043578  0.002895   \n",
       "364374  0.023592  0.028497 -0.009194  0.040042 -0.030671  0.070353  0.064105   \n",
       "\n",
       "               7         8         9    ...           121       122       123  \\\n",
       "364370  0.087101  0.150105 -0.095889    ...      0.009989 -0.143778  0.178605   \n",
       "364371  0.045253  0.105136  0.031112    ...      0.052320 -0.101862  0.182439   \n",
       "364372  0.029586  0.126758  0.122906    ...      0.080878 -0.057504  0.135926   \n",
       "364373  0.058311  0.084792 -0.024607    ...      0.095798 -0.118035  0.209204   \n",
       "364374  0.141149  0.151046 -0.056462    ...     -0.005828 -0.185796  0.209589   \n",
       "\n",
       "             124       125       126       127             name  taobao  \\\n",
       "364370 -0.003081  0.003301  0.086064  0.028129  east1/(455).jpg       1   \n",
       "364371  0.160878 -0.070499  0.112281  0.075241  east1/(162).jpg       1   \n",
       "364372  0.162637 -0.080175  0.087601  0.090195  east1/(675).jpg       1   \n",
       "364373  0.173771 -0.102763  0.085837  0.057860  east1/(349).jpg       1   \n",
       "364374 -0.003248 -0.015919 -0.046378  0.039214  east1/(582).jpg       1   \n",
       "\n",
       "        real_name  \n",
       "364370  (455).jpg  \n",
       "364371  (162).jpg  \n",
       "364372  (675).jpg  \n",
       "364373  (349).jpg  \n",
       "364374  (582).jpg  \n",
       "\n",
       "[5 rows x 131 columns]"
      ]
     },
     "execution_count": 39,
     "metadata": {},
     "output_type": "execute_result"
    }
   ],
   "source": [
    "df3.tail()"
   ]
  },
  {
   "cell_type": "code",
   "execution_count": 40,
   "metadata": {},
   "outputs": [
    {
     "data": {
      "text/plain": [
       "(470831, 131)"
      ]
     },
     "execution_count": 40,
     "metadata": {},
     "output_type": "execute_result"
    }
   ],
   "source": [
    "df4 = df3.reset_index(drop=True)\n",
    "df4.shape"
   ]
  },
  {
   "cell_type": "code",
   "execution_count": 41,
   "metadata": {},
   "outputs": [
    {
     "data": {
      "text/html": [
       "<div>\n",
       "<style>\n",
       "    .dataframe thead tr:only-child th {\n",
       "        text-align: right;\n",
       "    }\n",
       "\n",
       "    .dataframe thead th {\n",
       "        text-align: left;\n",
       "    }\n",
       "\n",
       "    .dataframe tbody tr th {\n",
       "        vertical-align: top;\n",
       "    }\n",
       "</style>\n",
       "<table border=\"1\" class=\"dataframe\">\n",
       "  <thead>\n",
       "    <tr style=\"text-align: right;\">\n",
       "      <th></th>\n",
       "      <th>0</th>\n",
       "      <th>1</th>\n",
       "      <th>2</th>\n",
       "      <th>3</th>\n",
       "      <th>4</th>\n",
       "      <th>5</th>\n",
       "      <th>6</th>\n",
       "      <th>7</th>\n",
       "      <th>8</th>\n",
       "      <th>9</th>\n",
       "      <th>...</th>\n",
       "      <th>121</th>\n",
       "      <th>122</th>\n",
       "      <th>123</th>\n",
       "      <th>124</th>\n",
       "      <th>125</th>\n",
       "      <th>126</th>\n",
       "      <th>127</th>\n",
       "      <th>name</th>\n",
       "      <th>taobao</th>\n",
       "      <th>real_name</th>\n",
       "    </tr>\n",
       "  </thead>\n",
       "  <tbody>\n",
       "    <tr>\n",
       "      <th>470826</th>\n",
       "      <td>0.048079</td>\n",
       "      <td>-0.005735</td>\n",
       "      <td>0.032212</td>\n",
       "      <td>0.108099</td>\n",
       "      <td>-0.034226</td>\n",
       "      <td>0.037377</td>\n",
       "      <td>0.059349</td>\n",
       "      <td>0.087101</td>\n",
       "      <td>0.150105</td>\n",
       "      <td>-0.095889</td>\n",
       "      <td>...</td>\n",
       "      <td>0.009989</td>\n",
       "      <td>-0.143778</td>\n",
       "      <td>0.178605</td>\n",
       "      <td>-0.003081</td>\n",
       "      <td>0.003301</td>\n",
       "      <td>0.086064</td>\n",
       "      <td>0.028129</td>\n",
       "      <td>east1/(455).jpg</td>\n",
       "      <td>1</td>\n",
       "      <td>(455).jpg</td>\n",
       "    </tr>\n",
       "    <tr>\n",
       "      <th>470827</th>\n",
       "      <td>0.036722</td>\n",
       "      <td>0.102138</td>\n",
       "      <td>-0.004209</td>\n",
       "      <td>0.140337</td>\n",
       "      <td>-0.059118</td>\n",
       "      <td>0.030608</td>\n",
       "      <td>-0.010955</td>\n",
       "      <td>0.045253</td>\n",
       "      <td>0.105136</td>\n",
       "      <td>0.031112</td>\n",
       "      <td>...</td>\n",
       "      <td>0.052320</td>\n",
       "      <td>-0.101862</td>\n",
       "      <td>0.182439</td>\n",
       "      <td>0.160878</td>\n",
       "      <td>-0.070499</td>\n",
       "      <td>0.112281</td>\n",
       "      <td>0.075241</td>\n",
       "      <td>east1/(162).jpg</td>\n",
       "      <td>1</td>\n",
       "      <td>(162).jpg</td>\n",
       "    </tr>\n",
       "    <tr>\n",
       "      <th>470828</th>\n",
       "      <td>-0.040984</td>\n",
       "      <td>0.214801</td>\n",
       "      <td>-0.011364</td>\n",
       "      <td>0.080878</td>\n",
       "      <td>-0.045407</td>\n",
       "      <td>0.056833</td>\n",
       "      <td>-0.051260</td>\n",
       "      <td>0.029586</td>\n",
       "      <td>0.126758</td>\n",
       "      <td>0.122906</td>\n",
       "      <td>...</td>\n",
       "      <td>0.080878</td>\n",
       "      <td>-0.057504</td>\n",
       "      <td>0.135926</td>\n",
       "      <td>0.162637</td>\n",
       "      <td>-0.080175</td>\n",
       "      <td>0.087601</td>\n",
       "      <td>0.090195</td>\n",
       "      <td>east1/(675).jpg</td>\n",
       "      <td>1</td>\n",
       "      <td>(675).jpg</td>\n",
       "    </tr>\n",
       "    <tr>\n",
       "      <th>470829</th>\n",
       "      <td>0.031182</td>\n",
       "      <td>0.099060</td>\n",
       "      <td>0.016765</td>\n",
       "      <td>0.127419</td>\n",
       "      <td>-0.007815</td>\n",
       "      <td>0.043578</td>\n",
       "      <td>0.002895</td>\n",
       "      <td>0.058311</td>\n",
       "      <td>0.084792</td>\n",
       "      <td>-0.024607</td>\n",
       "      <td>...</td>\n",
       "      <td>0.095798</td>\n",
       "      <td>-0.118035</td>\n",
       "      <td>0.209204</td>\n",
       "      <td>0.173771</td>\n",
       "      <td>-0.102763</td>\n",
       "      <td>0.085837</td>\n",
       "      <td>0.057860</td>\n",
       "      <td>east1/(349).jpg</td>\n",
       "      <td>1</td>\n",
       "      <td>(349).jpg</td>\n",
       "    </tr>\n",
       "    <tr>\n",
       "      <th>470830</th>\n",
       "      <td>0.023592</td>\n",
       "      <td>0.028497</td>\n",
       "      <td>-0.009194</td>\n",
       "      <td>0.040042</td>\n",
       "      <td>-0.030671</td>\n",
       "      <td>0.070353</td>\n",
       "      <td>0.064105</td>\n",
       "      <td>0.141149</td>\n",
       "      <td>0.151046</td>\n",
       "      <td>-0.056462</td>\n",
       "      <td>...</td>\n",
       "      <td>-0.005828</td>\n",
       "      <td>-0.185796</td>\n",
       "      <td>0.209589</td>\n",
       "      <td>-0.003248</td>\n",
       "      <td>-0.015919</td>\n",
       "      <td>-0.046378</td>\n",
       "      <td>0.039214</td>\n",
       "      <td>east1/(582).jpg</td>\n",
       "      <td>1</td>\n",
       "      <td>(582).jpg</td>\n",
       "    </tr>\n",
       "  </tbody>\n",
       "</table>\n",
       "<p>5 rows × 131 columns</p>\n",
       "</div>"
      ],
      "text/plain": [
       "               0         1         2         3         4         5         6  \\\n",
       "470826  0.048079 -0.005735  0.032212  0.108099 -0.034226  0.037377  0.059349   \n",
       "470827  0.036722  0.102138 -0.004209  0.140337 -0.059118  0.030608 -0.010955   \n",
       "470828 -0.040984  0.214801 -0.011364  0.080878 -0.045407  0.056833 -0.051260   \n",
       "470829  0.031182  0.099060  0.016765  0.127419 -0.007815  0.043578  0.002895   \n",
       "470830  0.023592  0.028497 -0.009194  0.040042 -0.030671  0.070353  0.064105   \n",
       "\n",
       "               7         8         9    ...           121       122       123  \\\n",
       "470826  0.087101  0.150105 -0.095889    ...      0.009989 -0.143778  0.178605   \n",
       "470827  0.045253  0.105136  0.031112    ...      0.052320 -0.101862  0.182439   \n",
       "470828  0.029586  0.126758  0.122906    ...      0.080878 -0.057504  0.135926   \n",
       "470829  0.058311  0.084792 -0.024607    ...      0.095798 -0.118035  0.209204   \n",
       "470830  0.141149  0.151046 -0.056462    ...     -0.005828 -0.185796  0.209589   \n",
       "\n",
       "             124       125       126       127             name  taobao  \\\n",
       "470826 -0.003081  0.003301  0.086064  0.028129  east1/(455).jpg       1   \n",
       "470827  0.160878 -0.070499  0.112281  0.075241  east1/(162).jpg       1   \n",
       "470828  0.162637 -0.080175  0.087601  0.090195  east1/(675).jpg       1   \n",
       "470829  0.173771 -0.102763  0.085837  0.057860  east1/(349).jpg       1   \n",
       "470830 -0.003248 -0.015919 -0.046378  0.039214  east1/(582).jpg       1   \n",
       "\n",
       "        real_name  \n",
       "470826  (455).jpg  \n",
       "470827  (162).jpg  \n",
       "470828  (675).jpg  \n",
       "470829  (349).jpg  \n",
       "470830  (582).jpg  \n",
       "\n",
       "[5 rows x 131 columns]"
      ]
     },
     "execution_count": 41,
     "metadata": {},
     "output_type": "execute_result"
    }
   ],
   "source": [
    "df4.tail()"
   ]
  },
  {
   "cell_type": "code",
   "execution_count": 42,
   "metadata": {},
   "outputs": [
    {
     "data": {
      "text/plain": [
       "'ascii'"
      ]
     },
     "execution_count": 42,
     "metadata": {},
     "output_type": "execute_result"
    }
   ],
   "source": [
    "import chardet\n",
    "\n",
    "the_encoding = chardet.detect('your string')['encoding']\n",
    "the_encoding"
   ]
  },
  {
   "cell_type": "code",
   "execution_count": 43,
   "metadata": {},
   "outputs": [
    {
     "name": "stdout",
     "output_type": "stream",
     "text": [
      "CPU times: user 5.48 s, sys: 0 ns, total: 5.48 s\n",
      "Wall time: 5.48 s\n"
     ]
    }
   ],
   "source": [
    "%%time\n",
    "df4['chk'] = df4['real_name'].apply(lambda x: chardet.detect(x)['encoding'])"
   ]
  },
  {
   "cell_type": "code",
   "execution_count": 44,
   "metadata": {},
   "outputs": [
    {
     "data": {
      "text/plain": [
       "ascii    470814\n",
       "utf-8        17\n",
       "Name: chk, dtype: int64"
      ]
     },
     "execution_count": 44,
     "metadata": {},
     "output_type": "execute_result"
    }
   ],
   "source": [
    "df4['chk'].value_counts()"
   ]
  },
  {
   "cell_type": "code",
   "execution_count": 45,
   "metadata": {},
   "outputs": [
    {
     "data": {
      "text/plain": [
       "(470831, 132)"
      ]
     },
     "execution_count": 45,
     "metadata": {},
     "output_type": "execute_result"
    }
   ],
   "source": [
    "df4.shape"
   ]
  },
  {
   "cell_type": "code",
   "execution_count": 46,
   "metadata": {},
   "outputs": [
    {
     "data": {
      "text/html": [
       "<div>\n",
       "<style>\n",
       "    .dataframe thead tr:only-child th {\n",
       "        text-align: right;\n",
       "    }\n",
       "\n",
       "    .dataframe thead th {\n",
       "        text-align: left;\n",
       "    }\n",
       "\n",
       "    .dataframe tbody tr th {\n",
       "        vertical-align: top;\n",
       "    }\n",
       "</style>\n",
       "<table border=\"1\" class=\"dataframe\">\n",
       "  <thead>\n",
       "    <tr style=\"text-align: right;\">\n",
       "      <th></th>\n",
       "      <th>0</th>\n",
       "      <th>1</th>\n",
       "      <th>2</th>\n",
       "      <th>3</th>\n",
       "      <th>4</th>\n",
       "      <th>5</th>\n",
       "      <th>6</th>\n",
       "      <th>7</th>\n",
       "      <th>8</th>\n",
       "      <th>9</th>\n",
       "      <th>...</th>\n",
       "      <th>122</th>\n",
       "      <th>123</th>\n",
       "      <th>124</th>\n",
       "      <th>125</th>\n",
       "      <th>126</th>\n",
       "      <th>127</th>\n",
       "      <th>name</th>\n",
       "      <th>taobao</th>\n",
       "      <th>real_name</th>\n",
       "      <th>chk</th>\n",
       "    </tr>\n",
       "  </thead>\n",
       "  <tbody>\n",
       "    <tr>\n",
       "      <th>0</th>\n",
       "      <td>0.011476</td>\n",
       "      <td>0.165126</td>\n",
       "      <td>-0.129640</td>\n",
       "      <td>0.016787</td>\n",
       "      <td>0.022167</td>\n",
       "      <td>0.051669</td>\n",
       "      <td>0.014077</td>\n",
       "      <td>0.017761</td>\n",
       "      <td>0.011484</td>\n",
       "      <td>0.137340</td>\n",
       "      <td>...</td>\n",
       "      <td>-0.096280</td>\n",
       "      <td>0.126662</td>\n",
       "      <td>-0.005746</td>\n",
       "      <td>-0.006710</td>\n",
       "      <td>-0.089524</td>\n",
       "      <td>0.049204</td>\n",
       "      <td>sub_28/1aa1269cc4cd42aeb12fb6f83beb89f4.jpg</td>\n",
       "      <td>0</td>\n",
       "      <td>1aa1269cc4cd42aeb12fb6f83beb89f4.jpg</td>\n",
       "      <td>ascii</td>\n",
       "    </tr>\n",
       "    <tr>\n",
       "      <th>1</th>\n",
       "      <td>-0.003138</td>\n",
       "      <td>-0.094253</td>\n",
       "      <td>-0.074803</td>\n",
       "      <td>0.001642</td>\n",
       "      <td>0.080649</td>\n",
       "      <td>-0.065988</td>\n",
       "      <td>-0.029929</td>\n",
       "      <td>0.026139</td>\n",
       "      <td>0.026266</td>\n",
       "      <td>-0.024320</td>\n",
       "      <td>...</td>\n",
       "      <td>0.045211</td>\n",
       "      <td>0.141725</td>\n",
       "      <td>-0.033956</td>\n",
       "      <td>0.012183</td>\n",
       "      <td>-0.019442</td>\n",
       "      <td>0.013153</td>\n",
       "      <td>sub_28/1985782_13_102812_1.jpg</td>\n",
       "      <td>0</td>\n",
       "      <td>1985782_13_102812_1.jpg</td>\n",
       "      <td>ascii</td>\n",
       "    </tr>\n",
       "    <tr>\n",
       "      <th>2</th>\n",
       "      <td>0.052159</td>\n",
       "      <td>0.078025</td>\n",
       "      <td>-0.058801</td>\n",
       "      <td>0.111056</td>\n",
       "      <td>0.011825</td>\n",
       "      <td>0.077016</td>\n",
       "      <td>0.018737</td>\n",
       "      <td>0.034417</td>\n",
       "      <td>0.029392</td>\n",
       "      <td>-0.014144</td>\n",
       "      <td>...</td>\n",
       "      <td>-0.049870</td>\n",
       "      <td>0.153607</td>\n",
       "      <td>0.078589</td>\n",
       "      <td>-0.073745</td>\n",
       "      <td>0.036184</td>\n",
       "      <td>0.064255</td>\n",
       "      <td>sub_28/1993968735118832174.jpg</td>\n",
       "      <td>0</td>\n",
       "      <td>1993968735118832174.jpg</td>\n",
       "      <td>ascii</td>\n",
       "    </tr>\n",
       "    <tr>\n",
       "      <th>3</th>\n",
       "      <td>-0.022384</td>\n",
       "      <td>0.050678</td>\n",
       "      <td>-0.026818</td>\n",
       "      <td>0.041654</td>\n",
       "      <td>0.046246</td>\n",
       "      <td>0.022148</td>\n",
       "      <td>0.001582</td>\n",
       "      <td>0.021008</td>\n",
       "      <td>0.024489</td>\n",
       "      <td>0.015352</td>\n",
       "      <td>...</td>\n",
       "      <td>-0.068645</td>\n",
       "      <td>0.067528</td>\n",
       "      <td>-0.124348</td>\n",
       "      <td>0.097163</td>\n",
       "      <td>0.079192</td>\n",
       "      <td>0.057003</td>\n",
       "      <td>sub_28/195943d29ir441i444lhtr.jpg</td>\n",
       "      <td>0</td>\n",
       "      <td>195943d29ir441i444lhtr.jpg</td>\n",
       "      <td>ascii</td>\n",
       "    </tr>\n",
       "    <tr>\n",
       "      <th>4</th>\n",
       "      <td>0.059199</td>\n",
       "      <td>0.078390</td>\n",
       "      <td>-0.108855</td>\n",
       "      <td>0.071035</td>\n",
       "      <td>-0.007066</td>\n",
       "      <td>-0.000059</td>\n",
       "      <td>0.007308</td>\n",
       "      <td>-0.022881</td>\n",
       "      <td>-0.106324</td>\n",
       "      <td>0.033876</td>\n",
       "      <td>...</td>\n",
       "      <td>0.170860</td>\n",
       "      <td>0.019041</td>\n",
       "      <td>0.054721</td>\n",
       "      <td>0.044380</td>\n",
       "      <td>0.145403</td>\n",
       "      <td>-0.038084</td>\n",
       "      <td>sub_28/1dd0675b-b9d6-4cca-a03e-2134403a74a9_si...</td>\n",
       "      <td>0</td>\n",
       "      <td>1dd0675b-b9d6-4cca-a03e-2134403a74a9_size162_w...</td>\n",
       "      <td>ascii</td>\n",
       "    </tr>\n",
       "  </tbody>\n",
       "</table>\n",
       "<p>5 rows × 132 columns</p>\n",
       "</div>"
      ],
      "text/plain": [
       "          0         1         2         3         4         5         6  \\\n",
       "0  0.011476  0.165126 -0.129640  0.016787  0.022167  0.051669  0.014077   \n",
       "1 -0.003138 -0.094253 -0.074803  0.001642  0.080649 -0.065988 -0.029929   \n",
       "2  0.052159  0.078025 -0.058801  0.111056  0.011825  0.077016  0.018737   \n",
       "3 -0.022384  0.050678 -0.026818  0.041654  0.046246  0.022148  0.001582   \n",
       "4  0.059199  0.078390 -0.108855  0.071035 -0.007066 -0.000059  0.007308   \n",
       "\n",
       "          7         8         9  ...         122       123       124  \\\n",
       "0  0.017761  0.011484  0.137340  ...   -0.096280  0.126662 -0.005746   \n",
       "1  0.026139  0.026266 -0.024320  ...    0.045211  0.141725 -0.033956   \n",
       "2  0.034417  0.029392 -0.014144  ...   -0.049870  0.153607  0.078589   \n",
       "3  0.021008  0.024489  0.015352  ...   -0.068645  0.067528 -0.124348   \n",
       "4 -0.022881 -0.106324  0.033876  ...    0.170860  0.019041  0.054721   \n",
       "\n",
       "        125       126       127  \\\n",
       "0 -0.006710 -0.089524  0.049204   \n",
       "1  0.012183 -0.019442  0.013153   \n",
       "2 -0.073745  0.036184  0.064255   \n",
       "3  0.097163  0.079192  0.057003   \n",
       "4  0.044380  0.145403 -0.038084   \n",
       "\n",
       "                                                name  taobao  \\\n",
       "0        sub_28/1aa1269cc4cd42aeb12fb6f83beb89f4.jpg       0   \n",
       "1                     sub_28/1985782_13_102812_1.jpg       0   \n",
       "2                     sub_28/1993968735118832174.jpg       0   \n",
       "3                  sub_28/195943d29ir441i444lhtr.jpg       0   \n",
       "4  sub_28/1dd0675b-b9d6-4cca-a03e-2134403a74a9_si...       0   \n",
       "\n",
       "                                           real_name    chk  \n",
       "0               1aa1269cc4cd42aeb12fb6f83beb89f4.jpg  ascii  \n",
       "1                            1985782_13_102812_1.jpg  ascii  \n",
       "2                            1993968735118832174.jpg  ascii  \n",
       "3                         195943d29ir441i444lhtr.jpg  ascii  \n",
       "4  1dd0675b-b9d6-4cca-a03e-2134403a74a9_size162_w...  ascii  \n",
       "\n",
       "[5 rows x 132 columns]"
      ]
     },
     "execution_count": 46,
     "metadata": {},
     "output_type": "execute_result"
    }
   ],
   "source": [
    "df4.head()"
   ]
  },
  {
   "cell_type": "code",
   "execution_count": 47,
   "metadata": {},
   "outputs": [
    {
     "data": {
      "text/plain": [
       "(470814, 132)"
      ]
     },
     "execution_count": 47,
     "metadata": {},
     "output_type": "execute_result"
    }
   ],
   "source": [
    "df4[df4['chk']=='ascii'].shape"
   ]
  },
  {
   "cell_type": "code",
   "execution_count": 48,
   "metadata": {},
   "outputs": [
    {
     "data": {
      "text/plain": [
       "(470814, 132)"
      ]
     },
     "execution_count": 48,
     "metadata": {},
     "output_type": "execute_result"
    }
   ],
   "source": [
    "df5 = df4[df4['chk']=='ascii']\n",
    "df6 = df5.reset_index(drop=True)\n",
    "df6.shape"
   ]
  },
  {
   "cell_type": "code",
   "execution_count": 49,
   "metadata": {},
   "outputs": [
    {
     "data": {
      "text/plain": [
       "(17, 132)"
      ]
     },
     "execution_count": 49,
     "metadata": {},
     "output_type": "execute_result"
    }
   ],
   "source": [
    "df99 = df4[df4['chk']=='utf-8']\n",
    "df99.shape"
   ]
  },
  {
   "cell_type": "code",
   "execution_count": 50,
   "metadata": {},
   "outputs": [
    {
     "data": {
      "text/html": [
       "<div>\n",
       "<style>\n",
       "    .dataframe thead tr:only-child th {\n",
       "        text-align: right;\n",
       "    }\n",
       "\n",
       "    .dataframe thead th {\n",
       "        text-align: left;\n",
       "    }\n",
       "\n",
       "    .dataframe tbody tr th {\n",
       "        vertical-align: top;\n",
       "    }\n",
       "</style>\n",
       "<table border=\"1\" class=\"dataframe\">\n",
       "  <thead>\n",
       "    <tr style=\"text-align: right;\">\n",
       "      <th></th>\n",
       "      <th>0</th>\n",
       "      <th>1</th>\n",
       "      <th>2</th>\n",
       "      <th>3</th>\n",
       "      <th>4</th>\n",
       "      <th>5</th>\n",
       "      <th>6</th>\n",
       "      <th>7</th>\n",
       "      <th>8</th>\n",
       "      <th>9</th>\n",
       "      <th>...</th>\n",
       "      <th>122</th>\n",
       "      <th>123</th>\n",
       "      <th>124</th>\n",
       "      <th>125</th>\n",
       "      <th>126</th>\n",
       "      <th>127</th>\n",
       "      <th>name</th>\n",
       "      <th>taobao</th>\n",
       "      <th>real_name</th>\n",
       "      <th>chk</th>\n",
       "    </tr>\n",
       "  </thead>\n",
       "  <tbody>\n",
       "    <tr>\n",
       "      <th>470809</th>\n",
       "      <td>0.048079</td>\n",
       "      <td>-0.005735</td>\n",
       "      <td>0.032212</td>\n",
       "      <td>0.108099</td>\n",
       "      <td>-0.034226</td>\n",
       "      <td>0.037377</td>\n",
       "      <td>0.059349</td>\n",
       "      <td>0.087101</td>\n",
       "      <td>0.150105</td>\n",
       "      <td>-0.095889</td>\n",
       "      <td>...</td>\n",
       "      <td>-0.143778</td>\n",
       "      <td>0.178605</td>\n",
       "      <td>-0.003081</td>\n",
       "      <td>0.003301</td>\n",
       "      <td>0.086064</td>\n",
       "      <td>0.028129</td>\n",
       "      <td>east1/(455).jpg</td>\n",
       "      <td>1</td>\n",
       "      <td>(455).jpg</td>\n",
       "      <td>ascii</td>\n",
       "    </tr>\n",
       "    <tr>\n",
       "      <th>470810</th>\n",
       "      <td>0.036722</td>\n",
       "      <td>0.102138</td>\n",
       "      <td>-0.004209</td>\n",
       "      <td>0.140337</td>\n",
       "      <td>-0.059118</td>\n",
       "      <td>0.030608</td>\n",
       "      <td>-0.010955</td>\n",
       "      <td>0.045253</td>\n",
       "      <td>0.105136</td>\n",
       "      <td>0.031112</td>\n",
       "      <td>...</td>\n",
       "      <td>-0.101862</td>\n",
       "      <td>0.182439</td>\n",
       "      <td>0.160878</td>\n",
       "      <td>-0.070499</td>\n",
       "      <td>0.112281</td>\n",
       "      <td>0.075241</td>\n",
       "      <td>east1/(162).jpg</td>\n",
       "      <td>1</td>\n",
       "      <td>(162).jpg</td>\n",
       "      <td>ascii</td>\n",
       "    </tr>\n",
       "    <tr>\n",
       "      <th>470811</th>\n",
       "      <td>-0.040984</td>\n",
       "      <td>0.214801</td>\n",
       "      <td>-0.011364</td>\n",
       "      <td>0.080878</td>\n",
       "      <td>-0.045407</td>\n",
       "      <td>0.056833</td>\n",
       "      <td>-0.051260</td>\n",
       "      <td>0.029586</td>\n",
       "      <td>0.126758</td>\n",
       "      <td>0.122906</td>\n",
       "      <td>...</td>\n",
       "      <td>-0.057504</td>\n",
       "      <td>0.135926</td>\n",
       "      <td>0.162637</td>\n",
       "      <td>-0.080175</td>\n",
       "      <td>0.087601</td>\n",
       "      <td>0.090195</td>\n",
       "      <td>east1/(675).jpg</td>\n",
       "      <td>1</td>\n",
       "      <td>(675).jpg</td>\n",
       "      <td>ascii</td>\n",
       "    </tr>\n",
       "    <tr>\n",
       "      <th>470812</th>\n",
       "      <td>0.031182</td>\n",
       "      <td>0.099060</td>\n",
       "      <td>0.016765</td>\n",
       "      <td>0.127419</td>\n",
       "      <td>-0.007815</td>\n",
       "      <td>0.043578</td>\n",
       "      <td>0.002895</td>\n",
       "      <td>0.058311</td>\n",
       "      <td>0.084792</td>\n",
       "      <td>-0.024607</td>\n",
       "      <td>...</td>\n",
       "      <td>-0.118035</td>\n",
       "      <td>0.209204</td>\n",
       "      <td>0.173771</td>\n",
       "      <td>-0.102763</td>\n",
       "      <td>0.085837</td>\n",
       "      <td>0.057860</td>\n",
       "      <td>east1/(349).jpg</td>\n",
       "      <td>1</td>\n",
       "      <td>(349).jpg</td>\n",
       "      <td>ascii</td>\n",
       "    </tr>\n",
       "    <tr>\n",
       "      <th>470813</th>\n",
       "      <td>0.023592</td>\n",
       "      <td>0.028497</td>\n",
       "      <td>-0.009194</td>\n",
       "      <td>0.040042</td>\n",
       "      <td>-0.030671</td>\n",
       "      <td>0.070353</td>\n",
       "      <td>0.064105</td>\n",
       "      <td>0.141149</td>\n",
       "      <td>0.151046</td>\n",
       "      <td>-0.056462</td>\n",
       "      <td>...</td>\n",
       "      <td>-0.185796</td>\n",
       "      <td>0.209589</td>\n",
       "      <td>-0.003248</td>\n",
       "      <td>-0.015919</td>\n",
       "      <td>-0.046378</td>\n",
       "      <td>0.039214</td>\n",
       "      <td>east1/(582).jpg</td>\n",
       "      <td>1</td>\n",
       "      <td>(582).jpg</td>\n",
       "      <td>ascii</td>\n",
       "    </tr>\n",
       "  </tbody>\n",
       "</table>\n",
       "<p>5 rows × 132 columns</p>\n",
       "</div>"
      ],
      "text/plain": [
       "               0         1         2         3         4         5         6  \\\n",
       "470809  0.048079 -0.005735  0.032212  0.108099 -0.034226  0.037377  0.059349   \n",
       "470810  0.036722  0.102138 -0.004209  0.140337 -0.059118  0.030608 -0.010955   \n",
       "470811 -0.040984  0.214801 -0.011364  0.080878 -0.045407  0.056833 -0.051260   \n",
       "470812  0.031182  0.099060  0.016765  0.127419 -0.007815  0.043578  0.002895   \n",
       "470813  0.023592  0.028497 -0.009194  0.040042 -0.030671  0.070353  0.064105   \n",
       "\n",
       "               7         8         9  ...         122       123       124  \\\n",
       "470809  0.087101  0.150105 -0.095889  ...   -0.143778  0.178605 -0.003081   \n",
       "470810  0.045253  0.105136  0.031112  ...   -0.101862  0.182439  0.160878   \n",
       "470811  0.029586  0.126758  0.122906  ...   -0.057504  0.135926  0.162637   \n",
       "470812  0.058311  0.084792 -0.024607  ...   -0.118035  0.209204  0.173771   \n",
       "470813  0.141149  0.151046 -0.056462  ...   -0.185796  0.209589 -0.003248   \n",
       "\n",
       "             125       126       127             name  taobao  real_name  \\\n",
       "470809  0.003301  0.086064  0.028129  east1/(455).jpg       1  (455).jpg   \n",
       "470810 -0.070499  0.112281  0.075241  east1/(162).jpg       1  (162).jpg   \n",
       "470811 -0.080175  0.087601  0.090195  east1/(675).jpg       1  (675).jpg   \n",
       "470812 -0.102763  0.085837  0.057860  east1/(349).jpg       1  (349).jpg   \n",
       "470813 -0.015919 -0.046378  0.039214  east1/(582).jpg       1  (582).jpg   \n",
       "\n",
       "          chk  \n",
       "470809  ascii  \n",
       "470810  ascii  \n",
       "470811  ascii  \n",
       "470812  ascii  \n",
       "470813  ascii  \n",
       "\n",
       "[5 rows x 132 columns]"
      ]
     },
     "execution_count": 50,
     "metadata": {},
     "output_type": "execute_result"
    }
   ],
   "source": [
    "df6.tail()"
   ]
  },
  {
   "cell_type": "code",
   "execution_count": 51,
   "metadata": {
    "collapsed": true
   },
   "outputs": [],
   "source": [
    "df99.to_csv('to_be_deleted_ch.csv')"
   ]
  },
  {
   "cell_type": "code",
   "execution_count": 56,
   "metadata": {
    "collapsed": true
   },
   "outputs": [],
   "source": [
    "df6.tail()\n",
    "df6 = df6.iloc[:,:129]"
   ]
  },
  {
   "cell_type": "code",
   "execution_count": 57,
   "metadata": {
    "collapsed": true
   },
   "outputs": [],
   "source": [
    "df6.to_csv('29_Oct_47W_V4.csv', index=False)"
   ]
  },
  {
   "cell_type": "code",
   "execution_count": null,
   "metadata": {
    "collapsed": true
   },
   "outputs": [],
   "source": [
    "# df4.to_csv('28_Oct_40W_V2.csv', index=False)"
   ]
  },
  {
   "cell_type": "code",
   "execution_count": 35,
   "metadata": {
    "collapsed": true
   },
   "outputs": [],
   "source": [
    "# .replace({r'[^\\x00-\\x7F]+':''}, regex=True, inplace=True)"
   ]
  },
  {
   "cell_type": "code",
   "execution_count": 36,
   "metadata": {
    "collapsed": true
   },
   "outputs": [],
   "source": [
    "# 'abe'.find(r'[^\\x00-\\x7F]+',regex=True )"
   ]
  },
  {
   "cell_type": "code",
   "execution_count": 58,
   "metadata": {},
   "outputs": [
    {
     "data": {
      "text/html": [
       "<div>\n",
       "<style>\n",
       "    .dataframe thead tr:only-child th {\n",
       "        text-align: right;\n",
       "    }\n",
       "\n",
       "    .dataframe thead th {\n",
       "        text-align: left;\n",
       "    }\n",
       "\n",
       "    .dataframe tbody tr th {\n",
       "        vertical-align: top;\n",
       "    }\n",
       "</style>\n",
       "<table border=\"1\" class=\"dataframe\">\n",
       "  <thead>\n",
       "    <tr style=\"text-align: right;\">\n",
       "      <th></th>\n",
       "      <th>0</th>\n",
       "      <th>1</th>\n",
       "      <th>2</th>\n",
       "      <th>3</th>\n",
       "      <th>4</th>\n",
       "      <th>5</th>\n",
       "      <th>6</th>\n",
       "      <th>7</th>\n",
       "      <th>8</th>\n",
       "      <th>9</th>\n",
       "      <th>...</th>\n",
       "      <th>119</th>\n",
       "      <th>120</th>\n",
       "      <th>121</th>\n",
       "      <th>122</th>\n",
       "      <th>123</th>\n",
       "      <th>124</th>\n",
       "      <th>125</th>\n",
       "      <th>126</th>\n",
       "      <th>127</th>\n",
       "      <th>name</th>\n",
       "    </tr>\n",
       "  </thead>\n",
       "  <tbody>\n",
       "    <tr>\n",
       "      <th>470809</th>\n",
       "      <td>0.048079</td>\n",
       "      <td>-0.005735</td>\n",
       "      <td>0.032212</td>\n",
       "      <td>0.108099</td>\n",
       "      <td>-0.034226</td>\n",
       "      <td>0.037377</td>\n",
       "      <td>0.059349</td>\n",
       "      <td>0.087101</td>\n",
       "      <td>0.150105</td>\n",
       "      <td>-0.095889</td>\n",
       "      <td>...</td>\n",
       "      <td>0.155191</td>\n",
       "      <td>-0.071256</td>\n",
       "      <td>0.009989</td>\n",
       "      <td>-0.143778</td>\n",
       "      <td>0.178605</td>\n",
       "      <td>-0.003081</td>\n",
       "      <td>0.003301</td>\n",
       "      <td>0.086064</td>\n",
       "      <td>0.028129</td>\n",
       "      <td>east1/(455).jpg</td>\n",
       "    </tr>\n",
       "    <tr>\n",
       "      <th>470810</th>\n",
       "      <td>0.036722</td>\n",
       "      <td>0.102138</td>\n",
       "      <td>-0.004209</td>\n",
       "      <td>0.140337</td>\n",
       "      <td>-0.059118</td>\n",
       "      <td>0.030608</td>\n",
       "      <td>-0.010955</td>\n",
       "      <td>0.045253</td>\n",
       "      <td>0.105136</td>\n",
       "      <td>0.031112</td>\n",
       "      <td>...</td>\n",
       "      <td>0.066564</td>\n",
       "      <td>-0.015882</td>\n",
       "      <td>0.052320</td>\n",
       "      <td>-0.101862</td>\n",
       "      <td>0.182439</td>\n",
       "      <td>0.160878</td>\n",
       "      <td>-0.070499</td>\n",
       "      <td>0.112281</td>\n",
       "      <td>0.075241</td>\n",
       "      <td>east1/(162).jpg</td>\n",
       "    </tr>\n",
       "    <tr>\n",
       "      <th>470811</th>\n",
       "      <td>-0.040984</td>\n",
       "      <td>0.214801</td>\n",
       "      <td>-0.011364</td>\n",
       "      <td>0.080878</td>\n",
       "      <td>-0.045407</td>\n",
       "      <td>0.056833</td>\n",
       "      <td>-0.051260</td>\n",
       "      <td>0.029586</td>\n",
       "      <td>0.126758</td>\n",
       "      <td>0.122906</td>\n",
       "      <td>...</td>\n",
       "      <td>0.065558</td>\n",
       "      <td>0.033576</td>\n",
       "      <td>0.080878</td>\n",
       "      <td>-0.057504</td>\n",
       "      <td>0.135926</td>\n",
       "      <td>0.162637</td>\n",
       "      <td>-0.080175</td>\n",
       "      <td>0.087601</td>\n",
       "      <td>0.090195</td>\n",
       "      <td>east1/(675).jpg</td>\n",
       "    </tr>\n",
       "    <tr>\n",
       "      <th>470812</th>\n",
       "      <td>0.031182</td>\n",
       "      <td>0.099060</td>\n",
       "      <td>0.016765</td>\n",
       "      <td>0.127419</td>\n",
       "      <td>-0.007815</td>\n",
       "      <td>0.043578</td>\n",
       "      <td>0.002895</td>\n",
       "      <td>0.058311</td>\n",
       "      <td>0.084792</td>\n",
       "      <td>-0.024607</td>\n",
       "      <td>...</td>\n",
       "      <td>0.076707</td>\n",
       "      <td>-0.023888</td>\n",
       "      <td>0.095798</td>\n",
       "      <td>-0.118035</td>\n",
       "      <td>0.209204</td>\n",
       "      <td>0.173771</td>\n",
       "      <td>-0.102763</td>\n",
       "      <td>0.085837</td>\n",
       "      <td>0.057860</td>\n",
       "      <td>east1/(349).jpg</td>\n",
       "    </tr>\n",
       "    <tr>\n",
       "      <th>470813</th>\n",
       "      <td>0.023592</td>\n",
       "      <td>0.028497</td>\n",
       "      <td>-0.009194</td>\n",
       "      <td>0.040042</td>\n",
       "      <td>-0.030671</td>\n",
       "      <td>0.070353</td>\n",
       "      <td>0.064105</td>\n",
       "      <td>0.141149</td>\n",
       "      <td>0.151046</td>\n",
       "      <td>-0.056462</td>\n",
       "      <td>...</td>\n",
       "      <td>0.188724</td>\n",
       "      <td>0.004253</td>\n",
       "      <td>-0.005828</td>\n",
       "      <td>-0.185796</td>\n",
       "      <td>0.209589</td>\n",
       "      <td>-0.003248</td>\n",
       "      <td>-0.015919</td>\n",
       "      <td>-0.046378</td>\n",
       "      <td>0.039214</td>\n",
       "      <td>east1/(582).jpg</td>\n",
       "    </tr>\n",
       "  </tbody>\n",
       "</table>\n",
       "<p>5 rows × 129 columns</p>\n",
       "</div>"
      ],
      "text/plain": [
       "               0         1         2         3         4         5         6  \\\n",
       "470809  0.048079 -0.005735  0.032212  0.108099 -0.034226  0.037377  0.059349   \n",
       "470810  0.036722  0.102138 -0.004209  0.140337 -0.059118  0.030608 -0.010955   \n",
       "470811 -0.040984  0.214801 -0.011364  0.080878 -0.045407  0.056833 -0.051260   \n",
       "470812  0.031182  0.099060  0.016765  0.127419 -0.007815  0.043578  0.002895   \n",
       "470813  0.023592  0.028497 -0.009194  0.040042 -0.030671  0.070353  0.064105   \n",
       "\n",
       "               7         8         9       ...              119       120  \\\n",
       "470809  0.087101  0.150105 -0.095889       ...         0.155191 -0.071256   \n",
       "470810  0.045253  0.105136  0.031112       ...         0.066564 -0.015882   \n",
       "470811  0.029586  0.126758  0.122906       ...         0.065558  0.033576   \n",
       "470812  0.058311  0.084792 -0.024607       ...         0.076707 -0.023888   \n",
       "470813  0.141149  0.151046 -0.056462       ...         0.188724  0.004253   \n",
       "\n",
       "             121       122       123       124       125       126       127  \\\n",
       "470809  0.009989 -0.143778  0.178605 -0.003081  0.003301  0.086064  0.028129   \n",
       "470810  0.052320 -0.101862  0.182439  0.160878 -0.070499  0.112281  0.075241   \n",
       "470811  0.080878 -0.057504  0.135926  0.162637 -0.080175  0.087601  0.090195   \n",
       "470812  0.095798 -0.118035  0.209204  0.173771 -0.102763  0.085837  0.057860   \n",
       "470813 -0.005828 -0.185796  0.209589 -0.003248 -0.015919 -0.046378  0.039214   \n",
       "\n",
       "                   name  \n",
       "470809  east1/(455).jpg  \n",
       "470810  east1/(162).jpg  \n",
       "470811  east1/(675).jpg  \n",
       "470812  east1/(349).jpg  \n",
       "470813  east1/(582).jpg  \n",
       "\n",
       "[5 rows x 129 columns]"
      ]
     },
     "execution_count": 58,
     "metadata": {},
     "output_type": "execute_result"
    }
   ],
   "source": [
    "df6.tail()"
   ]
  },
  {
   "cell_type": "code",
   "execution_count": null,
   "metadata": {
    "collapsed": true
   },
   "outputs": [],
   "source": []
  },
  {
   "cell_type": "code",
   "execution_count": null,
   "metadata": {
    "collapsed": true
   },
   "outputs": [],
   "source": []
  },
  {
   "cell_type": "code",
   "execution_count": null,
   "metadata": {
    "collapsed": true
   },
   "outputs": [],
   "source": []
  },
  {
   "cell_type": "code",
   "execution_count": null,
   "metadata": {
    "collapsed": true
   },
   "outputs": [],
   "source": []
  },
  {
   "cell_type": "code",
   "execution_count": null,
   "metadata": {
    "collapsed": true
   },
   "outputs": [],
   "source": []
  },
  {
   "cell_type": "code",
   "execution_count": null,
   "metadata": {
    "collapsed": true
   },
   "outputs": [],
   "source": []
  },
  {
   "cell_type": "code",
   "execution_count": null,
   "metadata": {
    "collapsed": true
   },
   "outputs": [],
   "source": []
  },
  {
   "cell_type": "code",
   "execution_count": null,
   "metadata": {
    "collapsed": true
   },
   "outputs": [],
   "source": []
  },
  {
   "cell_type": "code",
   "execution_count": null,
   "metadata": {
    "collapsed": true
   },
   "outputs": [],
   "source": []
  },
  {
   "cell_type": "code",
   "execution_count": null,
   "metadata": {
    "collapsed": true
   },
   "outputs": [],
   "source": []
  },
  {
   "cell_type": "code",
   "execution_count": null,
   "metadata": {
    "collapsed": true
   },
   "outputs": [],
   "source": []
  },
  {
   "cell_type": "code",
   "execution_count": null,
   "metadata": {
    "collapsed": true
   },
   "outputs": [],
   "source": []
  },
  {
   "cell_type": "code",
   "execution_count": 37,
   "metadata": {},
   "outputs": [
    {
     "data": {
      "text/html": [
       "<div>\n",
       "<style>\n",
       "    .dataframe thead tr:only-child th {\n",
       "        text-align: right;\n",
       "    }\n",
       "\n",
       "    .dataframe thead th {\n",
       "        text-align: left;\n",
       "    }\n",
       "\n",
       "    .dataframe tbody tr th {\n",
       "        vertical-align: top;\n",
       "    }\n",
       "</style>\n",
       "<table border=\"1\" class=\"dataframe\">\n",
       "  <thead>\n",
       "    <tr style=\"text-align: right;\">\n",
       "      <th></th>\n",
       "      <th>99</th>\n",
       "      <th>name</th>\n",
       "      <th>real_name</th>\n",
       "      <th>taobao</th>\n",
       "    </tr>\n",
       "  </thead>\n",
       "  <tbody>\n",
       "    <tr>\n",
       "      <th>0</th>\n",
       "      <td>0.004116</td>\n",
       "      <td>face1_sub_58/remoteimage2_20170509105919_53406...</td>\n",
       "      <td>remoteimage2_20170509105919_53406.jpg</td>\n",
       "      <td>0</td>\n",
       "    </tr>\n",
       "    <tr>\n",
       "      <th>1</th>\n",
       "      <td>-0.049566</td>\n",
       "      <td>face1_sub_59/tusaJDAyJDI0LzE2OTEzMjIwMzIvVEIyQ...</td>\n",
       "      <td>tusaJDAyJDI0LzE2OTEzMjIwMzIvVEIyQ01JLmRGJDZjbF...</td>\n",
       "      <td>0</td>\n",
       "    </tr>\n",
       "    <tr>\n",
       "      <th>2</th>\n",
       "      <td>0.025333</td>\n",
       "      <td>face1_sub_57/n_v1bkujjd2lod2fr2mg2vya_cdebc1e0...</td>\n",
       "      <td>n_v1bkujjd2lod2fr2mg2vya_cdebc1e04c8f0db9.jpg</td>\n",
       "      <td>0</td>\n",
       "    </tr>\n",
       "    <tr>\n",
       "      <th>3</th>\n",
       "      <td>-0.045781</td>\n",
       "      <td>face1_sub_6/0df3d7ca7bcb0a46e39596cd6163f6246a...</td>\n",
       "      <td>0df3d7ca7bcb0a46e39596cd6163f6246a60af8a.jpg</td>\n",
       "      <td>0</td>\n",
       "    </tr>\n",
       "    <tr>\n",
       "      <th>4</th>\n",
       "      <td>0.042494</td>\n",
       "      <td>face1_sub_6/1(188).jpg</td>\n",
       "      <td>1(188).jpg</td>\n",
       "      <td>0</td>\n",
       "    </tr>\n",
       "  </tbody>\n",
       "</table>\n",
       "</div>"
      ],
      "text/plain": [
       "         99                                               name  \\\n",
       "0  0.004116  face1_sub_58/remoteimage2_20170509105919_53406...   \n",
       "1 -0.049566  face1_sub_59/tusaJDAyJDI0LzE2OTEzMjIwMzIvVEIyQ...   \n",
       "2  0.025333  face1_sub_57/n_v1bkujjd2lod2fr2mg2vya_cdebc1e0...   \n",
       "3 -0.045781  face1_sub_6/0df3d7ca7bcb0a46e39596cd6163f6246a...   \n",
       "4  0.042494                             face1_sub_6/1(188).jpg   \n",
       "\n",
       "                                           real_name  taobao  \n",
       "0              remoteimage2_20170509105919_53406.jpg       0  \n",
       "1  tusaJDAyJDI0LzE2OTEzMjIwMzIvVEIyQ01JLmRGJDZjbF...       0  \n",
       "2      n_v1bkujjd2lod2fr2mg2vya_cdebc1e04c8f0db9.jpg       0  \n",
       "3       0df3d7ca7bcb0a46e39596cd6163f6246a60af8a.jpg       0  \n",
       "4                                         1(188).jpg       0  "
      ]
     },
     "execution_count": 37,
     "metadata": {},
     "output_type": "execute_result"
    }
   ],
   "source": [
    "df.iloc[:5,-4:]"
   ]
  },
  {
   "cell_type": "code",
   "execution_count": 38,
   "metadata": {},
   "outputs": [
    {
     "data": {
      "text/plain": [
       "456811                               56d843585d7b3.jpg\n",
       "456810    622762d0f703918f6f805d3f5b3d269758eec4f6.jpg\n",
       "456809                52423dd10ffc1049.jpg!600x600.jpg\n",
       "456808                         5929402048403255325.jpg\n",
       "456807    5d6034a85edf8db1c797c1ec0323dd54574e74f8.jpg\n",
       "Name: real_name, dtype: object"
      ]
     },
     "execution_count": 38,
     "metadata": {},
     "output_type": "execute_result"
    }
   ],
   "source": [
    "df['real_name'][::-1].head()"
   ]
  },
  {
   "cell_type": "code",
   "execution_count": null,
   "metadata": {
    "collapsed": true
   },
   "outputs": [],
   "source": []
  }
 ],
 "metadata": {
  "kernelspec": {
   "display_name": "Python 2",
   "language": "python",
   "name": "python2"
  },
  "language_info": {
   "codemirror_mode": {
    "name": "ipython",
    "version": 2
   },
   "file_extension": ".py",
   "mimetype": "text/x-python",
   "name": "python",
   "nbconvert_exporter": "python",
   "pygments_lexer": "ipython2",
   "version": "2.7.13"
  }
 },
 "nbformat": 4,
 "nbformat_minor": 2
}
