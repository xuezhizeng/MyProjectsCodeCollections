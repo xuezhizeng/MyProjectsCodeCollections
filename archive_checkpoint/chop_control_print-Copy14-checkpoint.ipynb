{
 "cells": [
  {
   "cell_type": "code",
   "execution_count": 1,
   "metadata": {
    "collapsed": true
   },
   "outputs": [],
   "source": [
    "# !ls"
   ]
  },
  {
   "cell_type": "code",
   "execution_count": 1,
   "metadata": {
    "scrolled": true
   },
   "outputs": [
    {
     "name": "stdout",
     "output_type": "stream",
     "text": [
      "1 used 0.00 s | 100 used 38.49 s | 200 used 79.89 s | 300 used 121.82 s | 400 used 161.64 s | 500 used 203.76 s | 600 used 245.50 s | 700 used 288.04 s | 800 used 329.97 s | 900 used 373.24 s | 1000 used 414.58 s | 1100 used 456.75 s | 1200 used 498.47 s | 1300 used 539.71 s | 1400 used 581.87 s | 1500 used 622.99 s | 1600 used 663.35 s | 1700 used 705.09 s | 1800 used 746.20 s | 1900 used 786.34 s | 2000 used 827.59 s | 2100 used 868.28 s | 2200 used 911.54 s | 2300 used 954.31 s | 2400 used 996.84 s | 2500 used 1038.14 s | 2600 used 1078.45 s | 2700 used 1118.70 s | 2800 used 1161.40 s | 2900 used 1200.95 s | 3000 used 1241.44 s | 3100 used 1283.95 s | 3200 used 1323.61 s | 3300 used 1364.42 s | 3400 used 1404.04 s | 3500 used 1447.60 s | 3600 used 1487.77 s | 3700 used 1527.46 s | 3800 used 1568.55 s | 3900 used 1608.93 s | 4000 used 1649.81 s | 4100 used 1692.62 s | 4200 used 1735.02 s | 4300 used 1776.88 s | 4400 used 1819.60 s | 4500 used 1861.40 s | 4600 used 1902.37 s | 4700 used 1944.72 s | 4800 used 1985.54 s | 4900 used 2027.40 s | 5000 used 2068.19 s | 5100 used 2107.39 s | 5200 used 2148.34 s | 5300 used 2191.06 s | 5400 used 2231.77 s | 5500 used 2270.80 s | 5600 used 2312.25 s | 5700 used 2352.10 s | 5800 used 2393.72 s | 5900 used 2436.63 s | 6000 used 2477.00 s | 6100 used 2518.39 s | 6200 used 2560.07 s | 6300 used 2601.94 s | 6400 used 2643.39 s | 6500 used 2686.97 s | 6600 used 2728.32 s | 6700 used 2769.04 s | 6800 used 2808.25 s | 6900 used 2849.41 s | 7000 used 2889.13 s | 7100 used 2931.47 s | 7200 used 2972.71 s | 7300 used 3012.53 s | 7400 used 3054.26 s | 7500 used 3094.77 s | 7600 used 3134.59 s | 7700 used 3175.18 s | 7800 used 3215.87 s | 7900 used 3258.99 s | 8000 used 3300.72 s | 8100 used 3345.32 s | 8200 used 3386.23 s | 8300 used 3429.58 s | 8400 used 3470.76 s | 8500 used 3511.17 s | 8600 used 3552.35 s | 8700 used 3594.78 s | 8800 used 3634.82 s | 8900 used 3676.42 s | 9000 used 3718.59 s | 9100 used 3757.33 s | 9200 used 3797.96 s | 9300 used 3839.59 s | 9400 used 3881.14 s | 9500 used 3921.79 s | 9600 used 3962.55 s | 9700 used 4004.26 s | 9800 used 4046.51 s | 9900 used 4088.18 s |\n"
     ]
    },
    {
     "data": {
      "text/plain": [
       "4123.274214029312"
      ]
     },
     "execution_count": 1,
     "metadata": {},
     "output_type": "execute_result"
    }
   ],
   "source": [
    "from time import time\n",
    "start=time()\n",
    "start\n",
    "\n",
    "\n",
    "!python -u /root/openface/util/align-dlib_mod.py \\\n",
    "../real_soyoung_pics/img_16 align \\\n",
    "outerEyesAndNose \\\n",
    "../chopHead256_real_soyoung_pics \\\n",
    "--size 256\n",
    "\n",
    "end=time()-start\n",
    "end"
   ]
  },
  {
   "cell_type": "code",
   "execution_count": 2,
   "metadata": {},
   "outputs": [
    {
     "data": {
      "text/plain": [
       "2.0741666666666667"
      ]
     },
     "execution_count": 2,
     "metadata": {},
     "output_type": "execute_result"
    }
   ],
   "source": [
    "7467.0/60/60"
   ]
  },
  {
   "cell_type": "code",
   "execution_count": null,
   "metadata": {
    "collapsed": true
   },
   "outputs": [],
   "source": []
  }
 ],
 "metadata": {
  "kernelspec": {
   "display_name": "Python 2",
   "language": "python",
   "name": "python2"
  },
  "language_info": {
   "codemirror_mode": {
    "name": "ipython",
    "version": 2
   },
   "file_extension": ".py",
   "mimetype": "text/x-python",
   "name": "python",
   "nbconvert_exporter": "python",
   "pygments_lexer": "ipython2",
   "version": "2.7.6"
  }
 },
 "nbformat": 4,
 "nbformat_minor": 2
}
