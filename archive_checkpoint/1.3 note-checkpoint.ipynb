{
 "cells": [
  {
   "cell_type": "markdown",
   "metadata": {},
   "source": [
    "career\n",
    "\n",
    "conda \n",
    "\n",
    "https://docs.anaconda.com/anaconda-cloud/user-guide/tasks/work-with-packages#uploading-packages\n",
    "\n",
    "https://conda.io/docs/user-guide/tutorials/build-pkgs-skeleton.html\n",
    "\n",
    "http://shujianliu.com/\n",
    "\n",
    "\n",
    "https://rpubs.com/JDAHAN/172473\n",
    "\n",
    "http://www.shujianliu.com/blogs/data-sience/data-scientist-interview/"
   ]
  },
  {
   "cell_type": "code",
   "execution_count": null,
   "metadata": {
    "collapsed": true
   },
   "outputs": [],
   "source": []
  },
  {
   "cell_type": "markdown",
   "metadata": {},
   "source": [
    "https://www.kaggle.com/c/tensorflow-speech-recognition-challenge"
   ]
  },
  {
   "cell_type": "code",
   "execution_count": null,
   "metadata": {
    "collapsed": true
   },
   "outputs": [],
   "source": []
  }
 ],
 "metadata": {
  "kernelspec": {
   "display_name": "Python 2",
   "language": "python",
   "name": "python2"
  },
  "language_info": {
   "codemirror_mode": {
    "name": "ipython",
    "version": 2
   },
   "file_extension": ".py",
   "mimetype": "text/x-python",
   "name": "python",
   "nbconvert_exporter": "python",
   "pygments_lexer": "ipython2",
   "version": "2.7.13"
  }
 },
 "nbformat": 4,
 "nbformat_minor": 2
}
