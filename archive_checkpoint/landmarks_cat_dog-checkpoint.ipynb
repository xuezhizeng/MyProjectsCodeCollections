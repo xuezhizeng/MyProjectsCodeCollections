{
 "cells": [
  {
   "cell_type": "markdown",
   "metadata": {},
   "source": [
    "http://www.pyimagesearch.com/2017/04/03/facial-landmarks-dlib-opencv-python/"
   ]
  },
  {
   "cell_type": "code",
   "execution_count": 21,
   "metadata": {},
   "outputs": [
    {
     "name": "stdout",
     "output_type": "stream",
     "text": [
      "\u001b[0m\u001b[01;34mcatDogData\u001b[0m/       \u001b[01;34mcatDog_Head_192\u001b[0m/  \u001b[01;34mcatDog_data_128\u001b[0m/  \u001b[01;34mcatDog_data_96\u001b[0m/\r\n",
      "\u001b[01;34mcatDog_Head\u001b[0m/      \u001b[01;34mcatDog_Head_256\u001b[0m/  \u001b[01;34mcatDog_data_192\u001b[0m/  \u001b[01;34mcatVsdog\u001b[0m/\r\n",
      "\u001b[01;34mcatDog_Head_128\u001b[0m/  \u001b[01;34mcatDog_Head_96\u001b[0m/   \u001b[01;34mcatDog_data_256\u001b[0m/  \u001b[01;34mtest_catDog\u001b[0m/\r\n"
     ]
    }
   ],
   "source": [
    "%ls catDog_test/catDogData/"
   ]
  },
  {
   "cell_type": "code",
   "execution_count": 2,
   "metadata": {
    "collapsed": true
   },
   "outputs": [],
   "source": [
    "import matplotlib.pyplot as plt\n",
    "import os\n",
    "from time import time"
   ]
  },
  {
   "cell_type": "code",
   "execution_count": 3,
   "metadata": {},
   "outputs": [
    {
     "data": {
      "text/plain": [
       "376"
      ]
     },
     "execution_count": 3,
     "metadata": {},
     "output_type": "execute_result"
    }
   ],
   "source": [
    "cat=os.listdir('catDog_test/catDogData/catVsdog/cat')\n",
    "len(cat)"
   ]
  },
  {
   "cell_type": "code",
   "execution_count": 4,
   "metadata": {},
   "outputs": [
    {
     "data": {
      "text/plain": [
       "418"
      ]
     },
     "execution_count": 4,
     "metadata": {},
     "output_type": "execute_result"
    }
   ],
   "source": [
    "dog=os.listdir('catDog_test/catDogData/catVsdog/dog')\n",
    "len(dog)"
   ]
  },
  {
   "cell_type": "code",
   "execution_count": 5,
   "metadata": {},
   "outputs": [
    {
     "data": {
      "text/plain": [
       "60"
      ]
     },
     "execution_count": 5,
     "metadata": {},
     "output_type": "execute_result"
    }
   ],
   "source": [
    "test=os.listdir('catDog_test/catDogData/test_catDog/')\n",
    "len(test)"
   ]
  },
  {
   "cell_type": "code",
   "execution_count": 6,
   "metadata": {},
   "outputs": [],
   "source": [
    "# os.mkdir('landmarkCatDog/test')"
   ]
  },
  {
   "cell_type": "code",
   "execution_count": 7,
   "metadata": {},
   "outputs": [
    {
     "data": {
      "text/plain": [
       "'131098_14.jpg'"
      ]
     },
     "execution_count": 7,
     "metadata": {},
     "output_type": "execute_result"
    }
   ],
   "source": [
    "cat[0]"
   ]
  },
  {
   "cell_type": "code",
   "execution_count": 8,
   "metadata": {
    "collapsed": true
   },
   "outputs": [],
   "source": [
    "# ! python facial_landmarks.py --shape-predictor shape_predictor_68_face_landmarks.dat \\\n",
    "# --image catDog_test/catDogData/catVsdog/cat/131098_14.jpg --output landmarkCatDog/cat"
   ]
  },
  {
   "cell_type": "code",
   "execution_count": 14,
   "metadata": {},
   "outputs": [],
   "source": [
    "def chop(folder,name):\n",
    "    tt=time()\n",
    "    n=0\n",
    "    for i in folder:\n",
    "        if n%10==0:\n",
    "            start=time()\n",
    "        n+=1\n",
    "        ! python facial_landmarks2.py --shape-predictor shape_predictor_68_face_landmarks.dat \\\n",
    "        --image catDog_test/catDogData/catVsdog/{name}/{i} --output landmarkCatDog/{name}\n",
    "        if n%10==0 or n==1:\n",
    "            print str(n)+'/'+str(len(folder)),'used {:.2f} s'.format(time()-start)\n",
    "    print 'total used {:.2f} s'.format(time()-tt)"
   ]
  },
  {
   "cell_type": "code",
   "execution_count": 15,
   "metadata": {},
   "outputs": [
    {
     "name": "stdout",
     "output_type": "stream",
     "text": [
      "1/376 used 1.87 s\n",
      "10/376 used 19.31 s\n",
      "20/376 used 19.42 s\n",
      "30/376 used 19.68 s\n",
      "40/376 used 19.77 s\n",
      "50/376 used 19.30 s\n",
      "60/376 used 20.21 s\n",
      "70/376 used 19.77 s\n",
      "80/376 used 19.67 s\n",
      "90/376 used 19.54 s\n",
      "100/376 used 19.05 s\n",
      "110/376 used 19.36 s\n",
      "120/376 used 19.32 s\n",
      "130/376 used 19.43 s\n",
      "140/376 used 19.70 s\n",
      "150/376 used 19.45 s\n",
      "160/376 used 19.90 s\n",
      "170/376 used 19.28 s\n",
      "180/376 used 19.61 s\n",
      "190/376 used 20.15 s\n",
      "200/376 used 19.39 s\n",
      "210/376 used 19.54 s\n",
      "220/376 used 19.52 s\n",
      "230/376 used 19.81 s\n",
      "240/376 used 20.04 s\n",
      "250/376 used 19.86 s\n",
      "260/376 used 19.41 s\n",
      "270/376 used 19.62 s\n",
      "280/376 used 19.66 s\n",
      "290/376 used 19.77 s\n",
      "300/376 used 20.02 s\n",
      "310/376 used 19.67 s\n",
      "320/376 used 19.78 s\n",
      "330/376 used 21.27 s\n",
      "340/376 used 19.66 s\n",
      "350/376 used 19.46 s\n",
      "360/376 used 19.75 s\n",
      "370/376 used 19.70 s\n",
      "total used 739.73 s\n"
     ]
    }
   ],
   "source": [
    "chop(cat,'cat')"
   ]
  },
  {
   "cell_type": "code",
   "execution_count": 16,
   "metadata": {},
   "outputs": [
    {
     "name": "stdout",
     "output_type": "stream",
     "text": [
      "1/418 used 1.96 s\n",
      "10/418 used 19.37 s\n",
      "20/418 used 19.48 s\n",
      "30/418 used 20.19 s\n",
      "40/418 used 19.29 s\n",
      "50/418 used 19.57 s\n",
      "60/418 used 19.42 s\n",
      "70/418 used 19.75 s\n",
      "80/418 used 19.37 s\n",
      "90/418 used 19.51 s\n",
      "100/418 used 19.80 s\n",
      "110/418 used 19.80 s\n",
      "120/418 used 19.45 s\n",
      "130/418 used 19.63 s\n",
      "140/418 used 19.83 s\n",
      "150/418 used 20.01 s\n",
      "160/418 used 19.42 s\n",
      "170/418 used 19.70 s\n",
      "180/418 used 19.52 s\n",
      "190/418 used 19.69 s\n",
      "200/418 used 19.76 s\n",
      "210/418 used 19.68 s\n",
      "220/418 used 19.81 s\n",
      "230/418 used 19.86 s\n",
      "240/418 used 19.48 s\n",
      "250/418 used 19.74 s\n",
      "260/418 used 19.07 s\n",
      "270/418 used 19.71 s\n",
      "280/418 used 19.84 s\n",
      "290/418 used 19.70 s\n",
      "300/418 used 19.29 s\n",
      "310/418 used 19.72 s\n",
      "320/418 used 19.75 s\n",
      "330/418 used 19.81 s\n",
      "340/418 used 19.47 s\n",
      "350/418 used 19.62 s\n",
      "360/418 used 19.85 s\n",
      "370/418 used 19.46 s\n",
      "380/418 used 19.30 s\n",
      "390/418 used 19.71 s\n",
      "400/418 used 20.02 s\n",
      "410/418 used 19.86 s\n",
      "total used 820.81 s\n"
     ]
    }
   ],
   "source": [
    "chop(dog,'dog')"
   ]
  },
  {
   "cell_type": "code",
   "execution_count": 24,
   "metadata": {},
   "outputs": [
    {
     "name": "stdout",
     "output_type": "stream",
     "text": [
      "1/60 used 1.87 s\n",
      "10/60 used 19.37 s\n",
      "20/60 used 19.99 s\n",
      "30/60 used 19.63 s\n",
      "40/60 used 19.64 s\n",
      "50/60 used 19.75 s\n",
      "60/60 used 19.59 s\n",
      "total used 117.98 s\n"
     ]
    }
   ],
   "source": [
    "\n",
    "tt=time()\n",
    "n=0\n",
    "for i in test:\n",
    "    if n%10==0:\n",
    "        start=time()\n",
    "    n+=1\n",
    "    ! python facial_landmarks2.py --shape-predictor shape_predictor_68_face_landmarks.dat \\\n",
    "    --image catDog_test/catDogData/test_catDog/{i} --output landmarkCatDog/test\n",
    "    if n%10==0 or n==1:\n",
    "        print str(n)+'/'+str(len(test)),'used {:.2f} s'.format(time()-start)\n",
    "        \n",
    "print 'total used {:.2f} s'.format(time()-tt)"
   ]
  },
  {
   "cell_type": "code",
   "execution_count": null,
   "metadata": {
    "collapsed": true
   },
   "outputs": [],
   "source": []
  }
 ],
 "metadata": {
  "kernelspec": {
   "display_name": "Python 2",
   "language": "python",
   "name": "python2"
  },
  "language_info": {
   "codemirror_mode": {
    "name": "ipython",
    "version": 2
   },
   "file_extension": ".py",
   "mimetype": "text/x-python",
   "name": "python",
   "nbconvert_exporter": "python",
   "pygments_lexer": "ipython2",
   "version": "2.7.6"
  }
 },
 "nbformat": 4,
 "nbformat_minor": 2
}
