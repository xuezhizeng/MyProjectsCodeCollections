{
 "cells": [
  {
   "cell_type": "code",
   "execution_count": 1,
   "metadata": {},
   "outputs": [],
   "source": [
    "import concurrent.futures\n",
    "import requests\n",
    "import os\n",
    "\n",
    "from time import time, ctime\n",
    "import pandas as pd\n",
    "\n",
    "from picDown import download_image"
   ]
  },
  {
   "cell_type": "code",
   "execution_count": 2,
   "metadata": {},
   "outputs": [
    {
     "data": {
      "text/plain": [
       "(14362, 3)"
      ]
     },
     "execution_count": 2,
     "metadata": {},
     "output_type": "execute_result"
    }
   ],
   "source": [
    "boss=pd.read_csv('boss_urls.csv')\n",
    "boss.shape"
   ]
  },
  {
   "cell_type": "code",
   "execution_count": 3,
   "metadata": {},
   "outputs": [
    {
     "data": {
      "text/html": [
       "<div>\n",
       "<style>\n",
       "    .dataframe thead tr:only-child th {\n",
       "        text-align: right;\n",
       "    }\n",
       "\n",
       "    .dataframe thead th {\n",
       "        text-align: left;\n",
       "    }\n",
       "\n",
       "    .dataframe tbody tr th {\n",
       "        vertical-align: top;\n",
       "    }\n",
       "</style>\n",
       "<table border=\"1\" class=\"dataframe\">\n",
       "  <thead>\n",
       "    <tr style=\"text-align: right;\">\n",
       "      <th></th>\n",
       "      <th>ID</th>\n",
       "      <th>URL</th>\n",
       "      <th>NAME</th>\n",
       "    </tr>\n",
       "  </thead>\n",
       "  <tbody>\n",
       "    <tr>\n",
       "      <th>0</th>\n",
       "      <td>955594</td>\n",
       "      <td>//cdn6.f-cdn.com/img/unknown.png</td>\n",
       "      <td>timpears.html</td>\n",
       "    </tr>\n",
       "    <tr>\n",
       "      <th>1</th>\n",
       "      <td>1363275</td>\n",
       "      <td>//cdn6.f-cdn.com/img/unknown.png</td>\n",
       "      <td>emmat1707.html</td>\n",
       "    </tr>\n",
       "    <tr>\n",
       "      <th>2</th>\n",
       "      <td>1532767</td>\n",
       "      <td>//cdn6.f-cdn.com/img/unknown.png</td>\n",
       "      <td>pulsar77.html</td>\n",
       "    </tr>\n",
       "    <tr>\n",
       "      <th>3</th>\n",
       "      <td>1537889</td>\n",
       "      <td>//cdn3.f-cdn.com/ppic/56839106/logo/1537889/WC...</td>\n",
       "      <td>seanfirth.html</td>\n",
       "    </tr>\n",
       "    <tr>\n",
       "      <th>4</th>\n",
       "      <td>1064494</td>\n",
       "      <td>//cdn6.f-cdn.com/img/unknown.png</td>\n",
       "      <td>andtox.html</td>\n",
       "    </tr>\n",
       "  </tbody>\n",
       "</table>\n",
       "</div>"
      ],
      "text/plain": [
       "        ID                                                URL            NAME\n",
       "0   955594                   //cdn6.f-cdn.com/img/unknown.png   timpears.html\n",
       "1  1363275                   //cdn6.f-cdn.com/img/unknown.png  emmat1707.html\n",
       "2  1532767                   //cdn6.f-cdn.com/img/unknown.png   pulsar77.html\n",
       "3  1537889  //cdn3.f-cdn.com/ppic/56839106/logo/1537889/WC...  seanfirth.html\n",
       "4  1064494                   //cdn6.f-cdn.com/img/unknown.png     andtox.html"
      ]
     },
     "execution_count": 3,
     "metadata": {},
     "output_type": "execute_result"
    }
   ],
   "source": [
    "boss.head()"
   ]
  },
  {
   "cell_type": "code",
   "execution_count": 4,
   "metadata": {
    "scrolled": true
   },
   "outputs": [
    {
     "data": {
      "text/plain": [
       "//cdn6.f-cdn.com/img/unknown.png                                     8649\n",
       "None                                                                 1508\n",
       "//cdn6.f-cdn.com/ppic/21460/logo/473171/logo.gif                        1\n",
       "//cdn2.f-cdn.com/ppic/1471257/logo/521182/two_flowers.preview.jpg       1\n",
       "//cdn3.f-cdn.com/ppic/1204788/logo/1321857/rose.jpg                     1\n",
       "Name: URL, dtype: int64"
      ]
     },
     "execution_count": 4,
     "metadata": {},
     "output_type": "execute_result"
    }
   ],
   "source": [
    "boss['URL'].value_counts().head()"
   ]
  },
  {
   "cell_type": "markdown",
   "metadata": {},
   "source": [
    "#### most pics like this"
   ]
  },
  {
   "cell_type": "markdown",
   "metadata": {},
   "source": [
    "//cdn6.f-cdn.com/img/unknown.png\n",
    "\n",
    "![title](//cdn6.f-cdn.com/img/unknown.png)"
   ]
  },
  {
   "cell_type": "code",
   "execution_count": 5,
   "metadata": {},
   "outputs": [
    {
     "data": {
      "text/plain": [
       "4205"
      ]
     },
     "execution_count": 5,
     "metadata": {},
     "output_type": "execute_result"
    }
   ],
   "source": [
    "boss.shape[0]-boss['URL'].value_counts()[0]-boss['URL'].value_counts()[1]"
   ]
  },
  {
   "cell_type": "markdown",
   "metadata": {},
   "source": [
    "### boss1: about 30% pics meaningful"
   ]
  },
  {
   "cell_type": "code",
   "execution_count": 6,
   "metadata": {},
   "outputs": [
    {
     "data": {
      "text/plain": [
       "29.278651998328925"
      ]
     },
     "execution_count": 6,
     "metadata": {},
     "output_type": "execute_result"
    }
   ],
   "source": [
    "4205.0/boss.shape[0]*100"
   ]
  },
  {
   "cell_type": "code",
   "execution_count": 7,
   "metadata": {},
   "outputs": [
    {
     "data": {
      "text/plain": [
       "(4205, 3)"
      ]
     },
     "execution_count": 7,
     "metadata": {},
     "output_type": "execute_result"
    }
   ],
   "source": [
    "gboss=boss[-(boss['URL'].str.contains('None') | boss['URL'].str.contains('//cdn6.f-cdn.com/img/unknown.png'))]\n",
    "gboss.shape"
   ]
  },
  {
   "cell_type": "code",
   "execution_count": 8,
   "metadata": {},
   "outputs": [],
   "source": [
    "# os.mkdir('bossPics')"
   ]
  },
  {
   "cell_type": "code",
   "execution_count": 9,
   "metadata": {
    "collapsed": true
   },
   "outputs": [],
   "source": [
    "direct='bossPics'"
   ]
  },
  {
   "cell_type": "code",
   "execution_count": 10,
   "metadata": {},
   "outputs": [],
   "source": [
    "gboss = gboss[['ID','URL']]"
   ]
  },
  {
   "cell_type": "code",
   "execution_count": null,
   "metadata": {},
   "outputs": [
    {
     "name": "stdout",
     "output_type": "stream",
     "text": [
      "0 : 0.56 s|"
     ]
    }
   ],
   "source": [
    "failed=[]\n",
    "start=time()\n",
    "for i in range(gboss.shape[0]):\n",
    "    tmp = gboss.iloc[i,:].tolist()\n",
    "#     print tmp\n",
    "    failed=failed+download_image(tmp[0], \"http:\"+tmp[1], direct)\n",
    "    if i%100==0:\n",
    "        print i,': {:.2f} s|'.format(time()-start),\n",
    "        start=time()\n",
    "#     break\n",
    "failed"
   ]
  },
  {
   "cell_type": "code",
   "execution_count": null,
   "metadata": {
    "collapsed": true
   },
   "outputs": [],
   "source": []
  }
 ],
 "metadata": {
  "kernelspec": {
   "display_name": "Python 2",
   "language": "python",
   "name": "python2"
  },
  "language_info": {
   "codemirror_mode": {
    "name": "ipython",
    "version": 2
   },
   "file_extension": ".py",
   "mimetype": "text/x-python",
   "name": "python",
   "nbconvert_exporter": "python",
   "pygments_lexer": "ipython2",
   "version": "2.7.13"
  }
 },
 "nbformat": 4,
 "nbformat_minor": 2
}
