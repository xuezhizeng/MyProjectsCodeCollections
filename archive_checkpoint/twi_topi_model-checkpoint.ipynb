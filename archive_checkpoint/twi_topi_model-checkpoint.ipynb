{
 "cells": [
  {
   "cell_type": "code",
   "execution_count": 1,
   "metadata": {
    "collapsed": true
   },
   "outputs": [],
   "source": [
    "import pandas as pd\n",
    "\n",
    "# import sys\n",
    "# reload(sys)\n",
    "# sys.setdefaultencoding('utf8')"
   ]
  },
  {
   "cell_type": "code",
   "execution_count": 3,
   "metadata": {},
   "outputs": [
    {
     "name": "stdout",
     "output_type": "stream",
     "text": [
      "/home/saya/notebook/Basement\r\n"
     ]
    }
   ],
   "source": [
    "!pwd"
   ]
  },
  {
   "cell_type": "code",
   "execution_count": 4,
   "metadata": {
    "collapsed": true
   },
   "outputs": [],
   "source": [
    "# !ls /home/saya/notebook/twitter/"
   ]
  },
  {
   "cell_type": "code",
   "execution_count": 5,
   "metadata": {},
   "outputs": [
    {
     "data": {
      "text/plain": [
       "(287685, 7)"
      ]
     },
     "execution_count": 5,
     "metadata": {},
     "output_type": "execute_result"
    }
   ],
   "source": [
    "df=pd.read_csv('/home/saya/notebook/twitter/twitter_basement.csv')\n",
    "df.shape"
   ]
  },
  {
   "cell_type": "code",
   "execution_count": 6,
   "metadata": {
    "collapsed": true
   },
   "outputs": [],
   "source": [
    "import re"
   ]
  },
  {
   "cell_type": "code",
   "execution_count": 7,
   "metadata": {
    "collapsed": true
   },
   "outputs": [],
   "source": [
    "re.sub?"
   ]
  },
  {
   "cell_type": "code",
   "execution_count": 8,
   "metadata": {
    "collapsed": true
   },
   "outputs": [],
   "source": [
    "test=df['text'][0]"
   ]
  },
  {
   "cell_type": "code",
   "execution_count": 9,
   "metadata": {},
   "outputs": [
    {
     "name": "stdout",
     "output_type": "stream",
     "text": [
      "RT @WiseBasementSys: It's #VideoGamesDay - Have you ever dreamed of converting your basement into an arcade?\n",
      "\n",
      "RT if you're a retro-games… \n"
     ]
    }
   ],
   "source": [
    "print test"
   ]
  },
  {
   "cell_type": "code",
   "execution_count": 88,
   "metadata": {},
   "outputs": [],
   "source": [
    "def clean(test):\n",
    "    return re.sub(r'@\\S+|#|RT|\\n|http\\S+','',str(test)).strip()"
   ]
  },
  {
   "cell_type": "code",
   "execution_count": 89,
   "metadata": {
    "collapsed": true
   },
   "outputs": [],
   "source": [
    "# def clean(test):\n",
    "#     return re.sub(r'@.*? |#|RT|\\n|http\\S+','',str(test)).strip()"
   ]
  },
  {
   "cell_type": "code",
   "execution_count": 90,
   "metadata": {},
   "outputs": [
    {
     "data": {
      "text/plain": [
       "'Sundays Open House. #Realtor #Pool #Basement #Acre #RuralArea https://t.co/ELNiaVcvQs'"
      ]
     },
     "execution_count": 90,
     "metadata": {},
     "output_type": "execute_result"
    }
   ],
   "source": [
    "a = df['text'][29]\n",
    "a"
   ]
  },
  {
   "cell_type": "code",
   "execution_count": 92,
   "metadata": {},
   "outputs": [],
   "source": [
    "# clean(a)"
   ]
  },
  {
   "cell_type": "code",
   "execution_count": 93,
   "metadata": {},
   "outputs": [
    {
     "data": {
      "text/plain": [
       "0         It's VideoGamesDay - Have you ever dreamed of ...\n",
       "1         2-PLAYER CHALLENGE on Eventide Island...   in ...\n",
       "2         How can I be a misogynist if I live in my MOM'...\n",
       "3         My kink is being lost in an abandoned house &a...\n",
       "4         2k, Spades, Dominoes, we in a whole different ...\n",
       "5         How can I be a misogynist if I live in my MOM'...\n",
       "6         Yo you like Basement and The Story So Far too?...\n",
       "7         However many your mini \"child programming\" bas...\n",
       "8         It's VideoGamesDay - Have you ever dreamed of ...\n",
       "9         If you don't mind laundry in basement, I would...\n",
       "10        How can I be a misogynist if I live in my MOM'...\n",
       "11        Wait, so am I getting this right? I Get $1,000...\n",
       "12        You can have the warmth of wood in the basemen...\n",
       "13        i only just realised tyler is probably talking...\n",
       "14        I found a flaw in the basement and i can hear ...\n",
       "15        It's funny how their only response is \"IMMA PU...\n",
       "16        2k, Spades, Dominoes, we in a whole different ...\n",
       "17        Oh hey look! there IS a revolution!! It's in t...\n",
       "18        How can I be a misogynist if I live in my MOM'...\n",
       "19        It's VideoGamesDay - Have you ever dreamed of ...\n",
       "20        to whoever is playing \"my heart will go on\" on...\n",
       "21        Uploaded \"Basement Shapes Episode 14 - Septemb...\n",
       "22        I'm SICK about that girl murdered in Chicago h...\n",
       "23            i have Bad Apple by Basement stuck in my head\n",
       "24        Friendly reminder: If you defended  ableist sc...\n",
       "25        How can I be a misogynist if I live in my MOM'...\n",
       "26        This was the best show fucking ever that basem...\n",
       "27        Horrible news for MCD today. Just got moved to...\n",
       "28        Keep coloring snowflake and playing your video...\n",
       "29        Sundays Open House. Realtor Pool Basement Acre...\n",
       "                                ...                        \n",
       "287655    if you're lucky enough to find someone who mak...\n",
       "287656    Basement Beauty: Great Ways to Make the Most o...\n",
       "287657    This album I made in my basement with the homi...\n",
       "287658    This album I made in my basement with the homi...\n",
       "287659    This album I made in my basement with the homi...\n",
       "287660    This album I made in my basement with the homi...\n",
       "287661    This album I made in my basement with the homi...\n",
       "287662              No you don’t . You’re a little spoiled…\n",
       "287663    Have those lights arrived yet? Back to the bas...\n",
       "287664                          what kind of period you got\n",
       "287665    Well there's one who actually wore his mom's p...\n",
       "287666                    basement dweller: \"emptyhad mate\"\n",
       "287667          Elaine has never left her mom's basement. 😏\n",
       "287668    This album I made in my basement with the homi...\n",
       "287669    It was bondage I was 13, Playing cops &amp; ro...\n",
       "287670    KRBX is raffling this 2015 Electric Fiat 500E!...\n",
       "287671    Steelers fan my whole life ,Steeler's shrine i...\n",
       "287672    So I looking through my things in the basement...\n",
       "287673    Isn't it time for you to put your tinfoil hat ...\n",
       "287674    The End of Reconciliation, my flute-metal Tool...\n",
       "287675    Yes. I'm interested.TheBasement horror horrort...\n",
       "287676    Cleveland ! We have been known to have giant h...\n",
       "287677    This album I made in my basement with the homi...\n",
       "287678    I C Ur still living in Mommy's Basement SnowFl...\n",
       "287679                             i gotta update my period\n",
       "287680    They will learn that they CANNOT conspire to c...\n",
       "287681    This album I made in my basement with the homi...\n",
       "287682    Old footage found in the church basement, or a...\n",
       "287683    This album I made in my basement with the homi...\n",
       "287684    I mean I live in the basement suite of the nor...\n",
       "Name: text, Length: 287685, dtype: object"
      ]
     },
     "execution_count": 93,
     "metadata": {},
     "output_type": "execute_result"
    }
   ],
   "source": [
    "df['text'].apply(clean)"
   ]
  },
  {
   "cell_type": "code",
   "execution_count": null,
   "metadata": {
    "collapsed": true
   },
   "outputs": [],
   "source": []
  },
  {
   "cell_type": "code",
   "execution_count": null,
   "metadata": {
    "collapsed": true
   },
   "outputs": [],
   "source": []
  }
 ],
 "metadata": {
  "kernelspec": {
   "display_name": "Python 2",
   "language": "python",
   "name": "python2"
  },
  "language_info": {
   "codemirror_mode": {
    "name": "ipython",
    "version": 2
   },
   "file_extension": ".py",
   "mimetype": "text/x-python",
   "name": "python",
   "nbconvert_exporter": "python",
   "pygments_lexer": "ipython2",
   "version": "2.7.13"
  }
 },
 "nbformat": 4,
 "nbformat_minor": 2
}
