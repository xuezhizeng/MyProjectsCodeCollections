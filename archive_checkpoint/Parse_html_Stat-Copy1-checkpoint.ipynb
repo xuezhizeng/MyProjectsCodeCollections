{
 "cells": [
  {
   "cell_type": "markdown",
   "metadata": {},
   "source": [
    "https://hub.docker.com/r/sath89/oracle-12c/"
   ]
  },
  {
   "cell_type": "markdown",
   "metadata": {
    "collapsed": true
   },
   "source": [
    "https://hub.docker.com/_/mysql/"
   ]
  },
  {
   "cell_type": "markdown",
   "metadata": {},
   "source": [
    "https://stackoverflow.com/questions/8858008/how-to-move-a-file-in-python"
   ]
  },
  {
   "cell_type": "code",
   "execution_count": 105,
   "metadata": {
    "collapsed": true
   },
   "outputs": [],
   "source": [
    "# encoding=utf8\n",
    "# import sys\n",
    "# reload(sys)\n",
    "# sys.setdefaultencoding('utf8')\n",
    "\n",
    "import pandas as pd\n",
    "import os\n",
    "from time import time, ctime\n",
    "\n",
    "import concurrent.futures\n",
    "\n",
    "from lxml import etree\n",
    "import json\n",
    "import re\n"
   ]
  },
  {
   "cell_type": "code",
   "execution_count": 128,
   "metadata": {},
   "outputs": [
    {
     "name": "stdout",
     "output_type": "stream",
     "text": [
      "add_bidder\t    boss_urls.csv\t      pic_down_func_bidder.ipynb\r\n",
      "addbidderPics\t    data\t\t      pic_down_func.ipynb\r\n",
      "addbidder_urls.csv  emp_pages4\t\t      picDown.py\r\n",
      "addbossPics\t    freelancer.py\t      picDown.pyc\r\n",
      "addboss_urls.csv    headPics\t\t      pic_down_report.ipynb\r\n",
      "add_owner\t    old\t\t\t      pic_report.ipynb\r\n",
      "addtional\t    Parse_html_Stat.ipynb     PicsWithFace.zip\r\n",
      "bidderPics\t    Parse_html_V5.ipynb       recIpython\r\n",
      "bidder_urls.csv     parse.ipynb\t\t      Tensorflow\r\n",
      "bid_pages2\t    pic_down_func-add1.ipynb\r\n",
      "bossPics\t    pic_down_func-add2.ipynb\r\n"
     ]
    }
   ],
   "source": [
    "!ls"
   ]
  },
  {
   "cell_type": "code",
   "execution_count": 106,
   "metadata": {},
   "outputs": [
    {
     "name": "stdout",
     "output_type": "stream",
     "text": [
      "/home/soyoung/face/Freelancer\r\n"
     ]
    }
   ],
   "source": [
    "!pwd"
   ]
  },
  {
   "cell_type": "code",
   "execution_count": 107,
   "metadata": {},
   "outputs": [
    {
     "data": {
      "text/plain": [
       "14362"
      ]
     },
     "execution_count": 107,
     "metadata": {},
     "output_type": "execute_result"
    }
   ],
   "source": [
    "# path='technosystem.html'\n",
    "\n",
    "folder='emp_pages4/'\n",
    "cont = os.listdir(folder)\n",
    "len(cont)"
   ]
  },
  {
   "cell_type": "code",
   "execution_count": 108,
   "metadata": {
    "collapsed": true
   },
   "outputs": [],
   "source": [
    "def flatten_dict(data, layers=1, drop_deeper=False):\n",
    "\n",
    "        for _ in range(layers):\n",
    "            data = [(k, v) if not isinstance(v, dict) else [(k + '.' + k2, v2) for k2, v2 in v.items()] for k, v in\n",
    "                    data.items()]\n",
    "            data = [item for sublist in data for item in sublist if isinstance(sublist, list)] + [y for y in data if\n",
    "                                                                                                  not isinstance(y,\n",
    "                                                                                                                 list)]\n",
    "            data = dict(data)\n",
    "\n",
    "        if drop_deeper:\n",
    "            data = {k: v for k, v in data.items() if not isinstance(v, dict) or isinstance(v, list)}\n",
    "\n",
    "        return data"
   ]
  },
  {
   "cell_type": "code",
   "execution_count": 109,
   "metadata": {
    "collapsed": true
   },
   "outputs": [],
   "source": [
    "failed_names=[]\n",
    "\n",
    "def get_columns(path):\n",
    "    global failed_names\n",
    "    get=[]\n",
    "    \n",
    "    with open(folder+path,'r') as fl:\n",
    "        text=fl.read()\n",
    "        tree=etree.HTML(text)\n",
    "    try:\n",
    "        script = tree.xpath('//script')[-1]\n",
    "        data = re.search(r\"__export\\('profileServerData',(.*?)\\n\", script.text)        \n",
    "        jsondata=data.group(1)[:-2]\n",
    "        \n",
    "        json_dict = json.loads(jsondata)\n",
    "        flat = flatten_dict(json_dict, layers=1)\n",
    "        names = flat.keys()\n",
    "        return names\n",
    "    except Exception as e:\n",
    "        failed_names.append(path)\n",
    "        return []\n",
    "\n",
    "    "
   ]
  },
  {
   "cell_type": "code",
   "execution_count": 110,
   "metadata": {
    "collapsed": true
   },
   "outputs": [],
   "source": [
    "from collections import defaultdict\n",
    "stat = defaultdict(int)"
   ]
  },
  {
   "cell_type": "code",
   "execution_count": 111,
   "metadata": {},
   "outputs": [
    {
     "name": "stdout",
     "output_type": "stream",
     "text": [
      "CPU times: user 54.1 s, sys: 468 ms, total: 54.6 s\n",
      "Wall time: 54.6 s\n"
     ]
    }
   ],
   "source": [
    "%%time\n",
    "for i in cont:\n",
    "    for k in get_columns(i):\n",
    "        stat[k]+=1\n",
    "len(stat),len(failed_names)"
   ]
  },
  {
   "cell_type": "code",
   "execution_count": 112,
   "metadata": {},
   "outputs": [
    {
     "data": {
      "text/plain": [
       "(73, 2982)"
      ]
     },
     "execution_count": 112,
     "metadata": {},
     "output_type": "execute_result"
    }
   ],
   "source": [
    "len(stat),len(failed_names)"
   ]
  },
  {
   "cell_type": "code",
   "execution_count": null,
   "metadata": {},
   "outputs": [],
   "source": []
  },
  {
   "cell_type": "code",
   "execution_count": 113,
   "metadata": {},
   "outputs": [
    {
     "data": {
      "text/plain": [
       "(73,)"
      ]
     },
     "execution_count": 113,
     "metadata": {},
     "output_type": "execute_result"
    }
   ],
   "source": [
    "col = pd.Series(stat.values(), index=stat.keys())\n",
    "col.shape"
   ]
  },
  {
   "cell_type": "code",
   "execution_count": 114,
   "metadata": {},
   "outputs": [
    {
     "data": {
      "text/plain": [
       "11379    53\n",
       "11380    19\n",
       "3054      1\n",
       "dtype: int64"
      ]
     },
     "execution_count": 114,
     "metadata": {},
     "output_type": "execute_result"
    }
   ],
   "source": [
    "col.value_counts()"
   ]
  },
  {
   "cell_type": "code",
   "execution_count": 117,
   "metadata": {},
   "outputs": [
    {
     "data": {
      "text/plain": [
       "resume.publications    11380\n",
       "resume.exams           11380\n",
       "isLoggedIn             11380\n",
       "hireMeCurrencyId       11380\n",
       "resume.education       11380\n",
       "dtype: int64"
      ]
     },
     "execution_count": 117,
     "metadata": {},
     "output_type": "execute_result"
    }
   ],
   "source": [
    "col.sort_values(ascending=False).head()"
   ]
  },
  {
   "cell_type": "code",
   "execution_count": 118,
   "metadata": {},
   "outputs": [
    {
     "name": "stdout",
     "output_type": "stream",
     "text": [
      "['CoolProject.html', 'goggy.html', 'banatelnet.html']\n"
     ]
    },
    {
     "data": {
      "text/plain": [
       "2982"
      ]
     },
     "execution_count": 118,
     "metadata": {},
     "output_type": "execute_result"
    }
   ],
   "source": [
    "print failed_names[:3]\n",
    "len(failed_names)"
   ]
  },
  {
   "cell_type": "code",
   "execution_count": 119,
   "metadata": {
    "collapsed": true
   },
   "outputs": [],
   "source": [
    "try:\n",
    "    os.mkdir(folder+'NoJson')\n",
    "except:\n",
    "    print 'exists'"
   ]
  },
  {
   "cell_type": "code",
   "execution_count": 120,
   "metadata": {},
   "outputs": [
    {
     "name": "stdout",
     "output_type": "stream",
     "text": [
      "      0       0       0\r\n"
     ]
    }
   ],
   "source": [
    "!ls {folder}'NoJson'|wc"
   ]
  },
  {
   "cell_type": "code",
   "execution_count": 121,
   "metadata": {
    "collapsed": true
   },
   "outputs": [],
   "source": [
    "import shutil"
   ]
  },
  {
   "cell_type": "code",
   "execution_count": 122,
   "metadata": {},
   "outputs": [
    {
     "name": "stdout",
     "output_type": "stream",
     "text": [
      "CPU times: user 24 ms, sys: 36 ms, total: 60 ms\n",
      "Wall time: 60.7 ms\n"
     ]
    }
   ],
   "source": [
    "%%time\n",
    "# os.rename(\"path/to/current/file.foo\", \"path/to/new/desination/for/file.foo\")\n",
    "for i in failed_names:\n",
    "    try:\n",
    "        shutil.move(folder+i, folder+'NoJson/')\n",
    "    except:\n",
    "        pass\n"
   ]
  },
  {
   "cell_type": "code",
   "execution_count": 123,
   "metadata": {},
   "outputs": [
    {
     "name": "stdout",
     "output_type": "stream",
     "text": [
      "   2982    2982   44855\r\n"
     ]
    }
   ],
   "source": [
    "!ls {folder}'NoJson'|wc"
   ]
  },
  {
   "cell_type": "code",
   "execution_count": 124,
   "metadata": {},
   "outputs": [
    {
     "name": "stdout",
     "output_type": "stream",
     "text": [
      "  11381   11381  169171\r\n"
     ]
    }
   ],
   "source": [
    "!ls {folder}|wc"
   ]
  },
  {
   "cell_type": "code",
   "execution_count": null,
   "metadata": {
    "collapsed": true
   },
   "outputs": [],
   "source": []
  },
  {
   "cell_type": "code",
   "execution_count": null,
   "metadata": {
    "collapsed": true
   },
   "outputs": [],
   "source": []
  },
  {
   "cell_type": "code",
   "execution_count": null,
   "metadata": {
    "collapsed": true
   },
   "outputs": [],
   "source": []
  },
  {
   "cell_type": "code",
   "execution_count": null,
   "metadata": {
    "collapsed": true
   },
   "outputs": [],
   "source": []
  },
  {
   "cell_type": "code",
   "execution_count": null,
   "metadata": {
    "collapsed": true
   },
   "outputs": [],
   "source": []
  },
  {
   "cell_type": "code",
   "execution_count": null,
   "metadata": {
    "collapsed": true
   },
   "outputs": [],
   "source": []
  },
  {
   "cell_type": "code",
   "execution_count": 68,
   "metadata": {
    "collapsed": true
   },
   "outputs": [],
   "source": [
    "# group=[]\n",
    "# def batch(batchfiles):\n",
    "#     global group\n",
    "#     group=[]\n",
    "#     start=time()\n",
    "#     with concurrent.futures.ThreadPoolExecutor(max_workers=8) as executor:\n",
    "#         executor.map(get_single, batchfiles)\n",
    "#     past='{:.2f}'.format(time()-start)\n",
    "#     now=ctime()[4:]\n",
    "\n",
    "#     print 'profiles ',len(batchfiles),'  used ',past,'s', now\n",
    "#     return group\n"
   ]
  },
  {
   "cell_type": "code",
   "execution_count": 74,
   "metadata": {},
   "outputs": [
    {
     "name": "stdout",
     "output_type": "stream",
     "text": [
      "profiles  2   used  0.02 s Sep 28 01:07:10 2017\n"
     ]
    },
    {
     "data": {
      "text/plain": [
       "2"
      ]
     },
     "execution_count": 74,
     "metadata": {},
     "output_type": "execute_result"
    }
   ],
   "source": [
    "len(batch(cont[:2]))"
   ]
  },
  {
   "cell_type": "code",
   "execution_count": 84,
   "metadata": {},
   "outputs": [
    {
     "name": "stdout",
     "output_type": "stream",
     "text": [
      "'NoneType' object has no attribute 'group'\n",
      "'NoneType' object has no attribute 'group'\n",
      "profiles  10   used  0.06 s Sep 28 01:08:03 2017\n"
     ]
    },
    {
     "data": {
      "text/plain": [
       "168"
      ]
     },
     "execution_count": 84,
     "metadata": {},
     "output_type": "execute_result"
    }
   ],
   "source": [
    "len(batch(cont[:10])[6])"
   ]
  },
  {
   "cell_type": "code",
   "execution_count": null,
   "metadata": {
    "collapsed": true
   },
   "outputs": [],
   "source": []
  }
 ],
 "metadata": {
  "kernelspec": {
   "display_name": "Python 2",
   "language": "python",
   "name": "python2"
  },
  "language_info": {
   "codemirror_mode": {
    "name": "ipython",
    "version": 2
   },
   "file_extension": ".py",
   "mimetype": "text/x-python",
   "name": "python",
   "nbconvert_exporter": "python",
   "pygments_lexer": "ipython2",
   "version": "2.7.13"
  }
 },
 "nbformat": 4,
 "nbformat_minor": 2
}
