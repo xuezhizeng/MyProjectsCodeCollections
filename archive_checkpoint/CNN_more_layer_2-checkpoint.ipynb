{
 "cells": [
  {
   "cell_type": "code",
   "execution_count": 1,
   "metadata": {
    "collapsed": true
   },
   "outputs": [],
   "source": [
    "# !wget http://www.superdatascience.com/wp-content/uploads/2017/04/Convolutional_Neural_Networks.zip"
   ]
  },
  {
   "cell_type": "code",
   "execution_count": 2,
   "metadata": {
    "collapsed": true
   },
   "outputs": [],
   "source": [
    "# !unzip Convolutional_Neural_Networks.zip"
   ]
  },
  {
   "cell_type": "markdown",
   "metadata": {},
   "source": [
    "https://keras.io/preprocessing/image/"
   ]
  },
  {
   "cell_type": "code",
   "execution_count": 3,
   "metadata": {},
   "outputs": [
    {
     "name": "stderr",
     "output_type": "stream",
     "text": [
      "Using TensorFlow backend.\n"
     ]
    }
   ],
   "source": [
    "import os\n",
    "os.environ[\"CUDA_DEVICE_ORDER\"] = \"PCI_BUS_ID\"   # see issue #152\n",
    "os.environ[\"CUDA_VISIBLE_DEVICES\"] = \"0\"\n",
    "\n",
    "from keras.models import Sequential\n",
    "from keras.layers import Convolution2D, MaxPooling2D, Flatten, Dense"
   ]
  },
  {
   "cell_type": "code",
   "execution_count": 4,
   "metadata": {},
   "outputs": [
    {
     "name": "stdout",
     "output_type": "stream",
     "text": [
      "[name: \"/cpu:0\"\n",
      "device_type: \"CPU\"\n",
      "memory_limit: 268435456\n",
      "locality {\n",
      "}\n",
      "incarnation: 13686081783824385105\n",
      ", name: \"/gpu:0\"\n",
      "device_type: \"GPU\"\n",
      "memory_limit: 1545404416\n",
      "locality {\n",
      "  bus_id: 1\n",
      "}\n",
      "incarnation: 911972436304515544\n",
      "physical_device_desc: \"device: 0, name: GeForce GTX 750 Ti, pci bus id: 0000:02:00.0\"\n",
      "]\n"
     ]
    }
   ],
   "source": [
    "from tensorflow.python.client import device_lib\n",
    "print(device_lib.list_local_devices())"
   ]
  },
  {
   "cell_type": "code",
   "execution_count": 5,
   "metadata": {
    "collapsed": true
   },
   "outputs": [],
   "source": [
    "# initializing\n",
    "classifier = Sequential()\n",
    "# Step 1  - Convolution\n",
    "classifier.add(Convolution2D(48, (6, 6), input_shape=(64, 64, 3), activation='relu'))\n",
    "# step 2 - Pooling\n",
    "classifier.add(MaxPooling2D(pool_size=(4,4)))\n",
    "\n",
    "\n",
    "# add another convolution layer\n",
    "# classifier.add(Convolution2D(4, (4, 4), activation='relu'))\n",
    "# classifier.add(MaxPooling2D(pool_size=(4,4)))\n",
    "\n",
    "# # add another convolution layer\n",
    "# classifier.add(Convolution2D(64, (4, 4), activation='relu'))\n",
    "# classifier.add(MaxPooling2D(pool_size=(3,3)))\n",
    "\n",
    "\n",
    "# step 3 - Flattening\n",
    "classifier.add(Flatten())\n",
    "# step 4 - full Connection\n",
    "classifier.add(Dense(64, activation='relu'))\n",
    "# step 5 - Output layer\n",
    "classifier.add(Dense(1, activation='sigmoid'))\n",
    "# compile\n",
    "classifier.compile(optimizer='adam', loss='binary_crossentropy', metrics=['accuracy'])"
   ]
  },
  {
   "cell_type": "code",
   "execution_count": 6,
   "metadata": {},
   "outputs": [
    {
     "name": "stdout",
     "output_type": "stream",
     "text": [
      "_________________________________________________________________\n",
      "Layer (type)                 Output Shape              Param #   \n",
      "=================================================================\n",
      "conv2d_1 (Conv2D)            (None, 59, 59, 48)        5232      \n",
      "_________________________________________________________________\n",
      "max_pooling2d_1 (MaxPooling2 (None, 14, 14, 48)        0         \n",
      "_________________________________________________________________\n",
      "flatten_1 (Flatten)          (None, 9408)              0         \n",
      "_________________________________________________________________\n",
      "dense_1 (Dense)              (None, 64)                602176    \n",
      "_________________________________________________________________\n",
      "dense_2 (Dense)              (None, 1)                 65        \n",
      "=================================================================\n",
      "Total params: 607,473\n",
      "Trainable params: 607,473\n",
      "Non-trainable params: 0\n",
      "_________________________________________________________________\n"
     ]
    }
   ],
   "source": [
    "classifier.summary()"
   ]
  },
  {
   "cell_type": "markdown",
   "metadata": {},
   "source": [
    "### image proprocessing & trainning, testing"
   ]
  },
  {
   "cell_type": "code",
   "execution_count": 7,
   "metadata": {},
   "outputs": [
    {
     "name": "stdout",
     "output_type": "stream",
     "text": [
      "single_prediction  test_set  training_set\r\n"
     ]
    }
   ],
   "source": [
    "!ls Convolutional_Neural_Networks/dataset/"
   ]
  },
  {
   "cell_type": "code",
   "execution_count": 8,
   "metadata": {
    "collapsed": true
   },
   "outputs": [],
   "source": [
    "from keras.preprocessing.image import ImageDataGenerator"
   ]
  },
  {
   "cell_type": "code",
   "execution_count": 9,
   "metadata": {},
   "outputs": [
    {
     "data": {
      "text/plain": [
       "(1, 1.0, 7.0, 9)"
      ]
     },
     "execution_count": 9,
     "metadata": {},
     "output_type": "execute_result"
    }
   ],
   "source": [
    "1, 1.,7., 9"
   ]
  },
  {
   "cell_type": "code",
   "execution_count": 10,
   "metadata": {},
   "outputs": [
    {
     "name": "stdout",
     "output_type": "stream",
     "text": [
      "Found 8000 images belonging to 2 classes.\n",
      "Found 2000 images belonging to 2 classes.\n"
     ]
    }
   ],
   "source": [
    "train_datagen = ImageDataGenerator(\n",
    "        rescale=1./255,\n",
    "        shear_range=0.2,\n",
    "        zoom_range=0.2,\n",
    "        horizontal_flip=True)\n",
    "\n",
    "test_datagen = ImageDataGenerator(rescale=1./255)\n",
    "\n",
    "training_set = train_datagen.flow_from_directory(\n",
    "        'Convolutional_Neural_Networks/dataset/training_set',\n",
    "        target_size=(64, 64),\n",
    "        batch_size=32,\n",
    "        class_mode='binary')\n",
    "\n",
    "test_set = test_datagen.flow_from_directory(\n",
    "        'Convolutional_Neural_Networks/dataset/test_set',\n",
    "        target_size=(64, 64),\n",
    "        batch_size=32,\n",
    "        class_mode='binary')\n"
   ]
  },
  {
   "cell_type": "code",
   "execution_count": 11,
   "metadata": {},
   "outputs": [
    {
     "name": "stdout",
     "output_type": "stream",
     "text": [
      "Epoch 1/25\n",
      "250/250 [==============================] - 76s - loss: 0.6743 - acc: 0.5767 - val_loss: 0.6298 - val_acc: 0.6699\n",
      "Epoch 2/25\n",
      "250/250 [==============================] - 71s - loss: 0.6171 - acc: 0.6644 - val_loss: 0.6229 - val_acc: 0.6310\n",
      "Epoch 3/25\n",
      "250/250 [==============================] - 71s - loss: 0.5842 - acc: 0.6956 - val_loss: 0.5540 - val_acc: 0.7198\n",
      "Epoch 4/25\n",
      "250/250 [==============================] - 71s - loss: 0.5598 - acc: 0.7123 - val_loss: 0.5461 - val_acc: 0.7243\n",
      "Epoch 5/25\n",
      "250/250 [==============================] - 71s - loss: 0.5402 - acc: 0.7258 - val_loss: 0.5229 - val_acc: 0.7369\n",
      "Epoch 6/25\n",
      "250/250 [==============================] - 70s - loss: 0.5300 - acc: 0.7372 - val_loss: 0.5171 - val_acc: 0.7500\n",
      "Epoch 7/25\n",
      "250/250 [==============================] - 71s - loss: 0.5206 - acc: 0.7389 - val_loss: 0.5298 - val_acc: 0.7419\n",
      "Epoch 8/25\n",
      "250/250 [==============================] - 71s - loss: 0.5008 - acc: 0.7525 - val_loss: 0.5006 - val_acc: 0.7525\n",
      "Epoch 9/25\n",
      "250/250 [==============================] - 71s - loss: 0.4911 - acc: 0.7640 - val_loss: 0.5336 - val_acc: 0.7298\n",
      "Epoch 10/25\n",
      "250/250 [==============================] - 71s - loss: 0.4849 - acc: 0.7642 - val_loss: 0.4973 - val_acc: 0.7656\n",
      "Epoch 11/25\n",
      "250/250 [==============================] - 70s - loss: 0.4778 - acc: 0.7724 - val_loss: 0.5034 - val_acc: 0.7606\n",
      "Epoch 12/25\n",
      "250/250 [==============================] - 70s - loss: 0.4656 - acc: 0.7770 - val_loss: 0.4931 - val_acc: 0.7727\n",
      "Epoch 13/25\n",
      "250/250 [==============================] - 74s - loss: 0.4635 - acc: 0.7762 - val_loss: 0.4934 - val_acc: 0.7727\n",
      "Epoch 14/25\n",
      "250/250 [==============================] - 80s - loss: 0.4607 - acc: 0.7815 - val_loss: 0.5056 - val_acc: 0.7626\n",
      "Epoch 15/25\n",
      "250/250 [==============================] - 71s - loss: 0.4542 - acc: 0.7871 - val_loss: 0.4842 - val_acc: 0.7747\n",
      "Epoch 16/25\n",
      "250/250 [==============================] - 70s - loss: 0.4385 - acc: 0.7939 - val_loss: 0.4889 - val_acc: 0.7747\n",
      "Epoch 17/25\n",
      "250/250 [==============================] - 70s - loss: 0.4322 - acc: 0.7966 - val_loss: 0.4820 - val_acc: 0.7797\n",
      "Epoch 18/25\n",
      "250/250 [==============================] - 70s - loss: 0.4243 - acc: 0.8043 - val_loss: 0.4889 - val_acc: 0.7828\n",
      "Epoch 19/25\n",
      "250/250 [==============================] - 70s - loss: 0.4182 - acc: 0.8101 - val_loss: 0.4841 - val_acc: 0.7757\n",
      "Epoch 20/25\n",
      "250/250 [==============================] - 69s - loss: 0.4140 - acc: 0.8045 - val_loss: 0.4809 - val_acc: 0.7848\n",
      "Epoch 21/25\n",
      "250/250 [==============================] - 70s - loss: 0.3922 - acc: 0.8217 - val_loss: 0.5182 - val_acc: 0.7692\n",
      "Epoch 22/25\n",
      "250/250 [==============================] - 70s - loss: 0.3941 - acc: 0.8194 - val_loss: 0.4984 - val_acc: 0.7752\n",
      "Epoch 23/25\n",
      "250/250 [==============================] - 70s - loss: 0.3838 - acc: 0.8299 - val_loss: 0.5145 - val_acc: 0.7858\n",
      "Epoch 24/25\n",
      "250/250 [==============================] - 70s - loss: 0.3807 - acc: 0.8289 - val_loss: 0.5505 - val_acc: 0.7550\n",
      "Epoch 25/25\n",
      "250/250 [==============================] - 71s - loss: 0.3726 - acc: 0.8297 - val_loss: 0.5063 - val_acc: 0.7717\n",
      "used: 1793.50 s\n"
     ]
    }
   ],
   "source": [
    "from time import time, ctime\n",
    "start = time()\n",
    "classifier.fit_generator(\n",
    "        training_set,\n",
    "        steps_per_epoch= (8000/32),\n",
    "        epochs=25,\n",
    "        validation_data= test_set,\n",
    "        validation_steps= (2000/32))\n",
    "eclipse=time()-start\n",
    "print 'used: {:.2f} s'.format(eclipse)"
   ]
  },
  {
   "cell_type": "code",
   "execution_count": 12,
   "metadata": {},
   "outputs": [
    {
     "name": "stdout",
     "output_type": "stream",
     "text": [
      "1793.50147414\n"
     ]
    },
    {
     "data": {
      "text/plain": [
       "'Thu Oct 26 20:14:35 2017'"
      ]
     },
     "execution_count": 12,
     "metadata": {},
     "output_type": "execute_result"
    }
   ],
   "source": [
    "print eclipse\n",
    "ctime()"
   ]
  },
  {
   "cell_type": "code",
   "execution_count": 14,
   "metadata": {},
   "outputs": [
    {
     "data": {
      "text/plain": [
       "29.89169123570124"
      ]
     },
     "execution_count": 14,
     "metadata": {},
     "output_type": "execute_result"
    }
   ],
   "source": [
    "eclipse/60"
   ]
  },
  {
   "cell_type": "markdown",
   "metadata": {},
   "source": [
    "### predict"
   ]
  },
  {
   "cell_type": "code",
   "execution_count": 124,
   "metadata": {
    "collapsed": true
   },
   "outputs": [],
   "source": [
    "import numpy as np\n",
    "from keras.preprocessing import image"
   ]
  },
  {
   "cell_type": "code",
   "execution_count": 125,
   "metadata": {},
   "outputs": [],
   "source": [
    "t1 = image.load_img('./Convolutional_Neural_Networks/dataset/single_prediction/pred/4-ways-cheer-up-depressed-cat.jpg',\n",
    "                  target_size=(64,64))"
   ]
  },
  {
   "cell_type": "code",
   "execution_count": 126,
   "metadata": {},
   "outputs": [
    {
     "data": {
      "text/plain": [
       "PIL.Image.Image"
      ]
     },
     "execution_count": 126,
     "metadata": {},
     "output_type": "execute_result"
    }
   ],
   "source": [
    "type(t1)"
   ]
  },
  {
   "cell_type": "code",
   "execution_count": null,
   "metadata": {},
   "outputs": [],
   "source": [
    "t1"
   ]
  },
  {
   "cell_type": "code",
   "execution_count": 128,
   "metadata": {},
   "outputs": [
    {
     "data": {
      "text/plain": [
       "(64, 64)"
      ]
     },
     "execution_count": 128,
     "metadata": {},
     "output_type": "execute_result"
    }
   ],
   "source": [
    "t1.size"
   ]
  },
  {
   "cell_type": "code",
   "execution_count": 129,
   "metadata": {},
   "outputs": [
    {
     "data": {
      "text/plain": [
       "(64, 64, 3)"
      ]
     },
     "execution_count": 129,
     "metadata": {},
     "output_type": "execute_result"
    }
   ],
   "source": [
    "arr1 = image.img_to_array(t1)\n",
    "arr1.shape"
   ]
  },
  {
   "cell_type": "code",
   "execution_count": 191,
   "metadata": {},
   "outputs": [
    {
     "data": {
      "text/plain": [
       "array([[ 186.,  183.,  190.],\n",
       "       [ 175.,  172.,  179.],\n",
       "       [ 153.,  152.,  160.],\n",
       "       [ 154.,  154.,  164.],\n",
       "       [ 180.,  180.,  192.],\n",
       "       [ 206.,  205.,  213.]], dtype=float32)"
      ]
     },
     "execution_count": 191,
     "metadata": {},
     "output_type": "execute_result"
    }
   ],
   "source": [
    "arr1[:1][0][0:6]"
   ]
  },
  {
   "cell_type": "code",
   "execution_count": 172,
   "metadata": {
    "collapsed": true
   },
   "outputs": [],
   "source": [
    "t2 = image.load_img('./Convolutional_Neural_Networks/dataset/single_prediction/pred/cat_or_dog_1.jpg',\n",
    "                  target_size=(64,64))"
   ]
  },
  {
   "cell_type": "code",
   "execution_count": 173,
   "metadata": {},
   "outputs": [
    {
     "data": {
      "image/png": "[encoded data removed]",
      "text/plain": [
       "<PIL.Image.Image image mode=RGB size=64x64 at 0x7F47F573D9D0>"
      ]
     },
     "execution_count": 173,
     "metadata": {},
     "output_type": "execute_result"
    }
   ],
   "source": [
    "t2"
   ]
  },
  {
   "cell_type": "code",
   "execution_count": 174,
   "metadata": {},
   "outputs": [
    {
     "data": {
      "text/plain": [
       "(64, 64, 3)"
      ]
     },
     "execution_count": 174,
     "metadata": {},
     "output_type": "execute_result"
    }
   ],
   "source": [
    "arr2 = image.img_to_array(t2)\n",
    "arr2.shape"
   ]
  },
  {
   "cell_type": "code",
   "execution_count": 175,
   "metadata": {},
   "outputs": [
    {
     "data": {
      "text/plain": [
       "(1, 64, 64, 3)"
      ]
     },
     "execution_count": 175,
     "metadata": {},
     "output_type": "execute_result"
    }
   ],
   "source": [
    "np.expand_dims(arr1, axis=0).shape"
   ]
  },
  {
   "cell_type": "code",
   "execution_count": 176,
   "metadata": {},
   "outputs": [
    {
     "data": {
      "text/plain": [
       "(128, 64, 3)"
      ]
     },
     "execution_count": 176,
     "metadata": {},
     "output_type": "execute_result"
    }
   ],
   "source": [
    "np.concatenate([arr1, arr2]).shape"
   ]
  },
  {
   "cell_type": "code",
   "execution_count": 177,
   "metadata": {},
   "outputs": [
    {
     "data": {
      "text/plain": [
       "(64, 64, 6)"
      ]
     },
     "execution_count": 177,
     "metadata": {},
     "output_type": "execute_result"
    }
   ],
   "source": [
    "np.concatenate([arr1, arr2], axis=2).shape"
   ]
  },
  {
   "cell_type": "code",
   "execution_count": 178,
   "metadata": {},
   "outputs": [
    {
     "data": {
      "text/plain": [
       "(2, 64, 64, 3)"
      ]
     },
     "execution_count": 178,
     "metadata": {},
     "output_type": "execute_result"
    }
   ],
   "source": [
    "np.concatenate([np.expand_dims(arr1, axis=0), np.expand_dims(arr2, axis=0)]).shape"
   ]
  },
  {
   "cell_type": "markdown",
   "metadata": {},
   "source": [
    "#### predict only takes batch of input"
   ]
  },
  {
   "cell_type": "code",
   "execution_count": 194,
   "metadata": {},
   "outputs": [
    {
     "data": {
      "text/plain": [
       "array([[ 0.99896753]], dtype=float32)"
      ]
     },
     "execution_count": 194,
     "metadata": {},
     "output_type": "execute_result"
    }
   ],
   "source": [
    "classifier.predict(np.expand_dims(arr2, axis=0)/255.0)"
   ]
  },
  {
   "cell_type": "code",
   "execution_count": 195,
   "metadata": {},
   "outputs": [
    {
     "data": {
      "text/plain": [
       "array([[ 0.80829364],\n",
       "       [ 0.99896753]], dtype=float32)"
      ]
     },
     "execution_count": 195,
     "metadata": {},
     "output_type": "execute_result"
    }
   ],
   "source": [
    "classifier.predict(np.concatenate([np.expand_dims(arr1, axis=0), np.expand_dims(arr2, axis=0)])/255.0)"
   ]
  },
  {
   "cell_type": "code",
   "execution_count": 196,
   "metadata": {},
   "outputs": [
    {
     "data": {
      "text/plain": [
       "{'cats': 0, 'dogs': 1}"
      ]
     },
     "execution_count": 196,
     "metadata": {},
     "output_type": "execute_result"
    }
   ],
   "source": [
    "training_set.class_indices"
   ]
  },
  {
   "cell_type": "code",
   "execution_count": null,
   "metadata": {
    "collapsed": true
   },
   "outputs": [],
   "source": []
  },
  {
   "cell_type": "code",
   "execution_count": null,
   "metadata": {
    "collapsed": true
   },
   "outputs": [],
   "source": []
  },
  {
   "cell_type": "code",
   "execution_count": null,
   "metadata": {
    "collapsed": true
   },
   "outputs": [],
   "source": []
  },
  {
   "cell_type": "markdown",
   "metadata": {},
   "source": [
    "### folder"
   ]
  },
  {
   "cell_type": "code",
   "execution_count": 168,
   "metadata": {},
   "outputs": [
    {
     "name": "stdout",
     "output_type": "stream",
     "text": [
      "Found 4 images belonging to 1 classes.\n"
     ]
    }
   ],
   "source": [
    "pred = test_datagen.flow_from_directory(\n",
    "        'Convolutional_Neural_Networks/dataset/single_prediction/',\n",
    "        target_size=(64, 64))"
   ]
  },
  {
   "cell_type": "code",
   "execution_count": 169,
   "metadata": {},
   "outputs": [],
   "source": [
    "rl = classifier.predict_generator(pred, steps=1)"
   ]
  },
  {
   "cell_type": "code",
   "execution_count": 170,
   "metadata": {},
   "outputs": [
    {
     "data": {
      "text/plain": [
       "array([[ 0.8082937 ],\n",
       "       [ 0.76738149],\n",
       "       [ 0.99896753],\n",
       "       [ 0.07975663]], dtype=float32)"
      ]
     },
     "execution_count": 170,
     "metadata": {},
     "output_type": "execute_result"
    }
   ],
   "source": [
    "rl"
   ]
  },
  {
   "cell_type": "code",
   "execution_count": 171,
   "metadata": {},
   "outputs": [
    {
     "data": {
      "text/plain": [
       "['pred/51d6e3dcccd3bdac300202a5a3e99de0--pretty-cats-beautiful-cats.jpg',\n",
       " 'pred/4-ways-cheer-up-depressed-cat.jpg',\n",
       " 'pred/cat_or_dog_2.jpg',\n",
       " 'pred/cat_or_dog_1.jpg']"
      ]
     },
     "execution_count": 171,
     "metadata": {},
     "output_type": "execute_result"
    }
   ],
   "source": [
    "pred.filenames"
   ]
  },
  {
   "cell_type": "code",
   "execution_count": null,
   "metadata": {},
   "outputs": [],
   "source": []
  },
  {
   "cell_type": "code",
   "execution_count": null,
   "metadata": {
    "collapsed": true
   },
   "outputs": [],
   "source": []
  }
 ],
 "metadata": {
  "kernelspec": {
   "display_name": "Python 2",
   "language": "python",
   "name": "python2"
  },
  "language_info": {
   "codemirror_mode": {
    "name": "ipython",
    "version": 2
   },
   "file_extension": ".py",
   "mimetype": "text/x-python",
   "name": "python",
   "nbconvert_exporter": "python",
   "pygments_lexer": "ipython2",
   "version": "2.7.13"
  }
 },
 "nbformat": 4,
 "nbformat_minor": 2
}
