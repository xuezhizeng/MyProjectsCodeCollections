{
 "cells": [
  {
   "cell_type": "code",
   "execution_count": 1,
   "metadata": {
    "collapsed": true
   },
   "outputs": [],
   "source": [
    "import pandas as pd\n",
    "import os\n",
    "data = [i for i in os.listdir('.') if i.find('csv')>0]"
   ]
  },
  {
   "cell_type": "code",
   "execution_count": 2,
   "metadata": {},
   "outputs": [
    {
     "name": "stdout",
     "output_type": "stream",
     "text": [
      "to_be_delete.csv\n",
      "28_Oct_40W_V2.csv\n",
      "para_face1.csv\n",
      "para_face2.csv\n",
      "27_Oct_31W.csv\n"
     ]
    }
   ],
   "source": [
    "for i in data:\n",
    "    print i"
   ]
  },
  {
   "cell_type": "code",
   "execution_count": 3,
   "metadata": {},
   "outputs": [
    {
     "data": {
      "text/plain": [
       "((49896, 129), (364513, 131), (42403, 129))"
      ]
     },
     "execution_count": 3,
     "metadata": {},
     "output_type": "execute_result"
    }
   ],
   "source": [
    "batch0 = pd.read_csv(data[3]) \n",
    "batch1 = pd.read_csv(data[1])\n",
    "batch2 = pd.read_csv(data[2])\n",
    "batch0.shape, batch1.shape, batch2.shape"
   ]
  },
  {
   "cell_type": "code",
   "execution_count": 4,
   "metadata": {
    "collapsed": true
   },
   "outputs": [],
   "source": [
    "# batch0.head()\n",
    "# batch1.head()\n",
    "# batch2.head()"
   ]
  },
  {
   "cell_type": "code",
   "execution_count": 5,
   "metadata": {},
   "outputs": [
    {
     "data": {
      "text/plain": [
       "(456812, 131)"
      ]
     },
     "execution_count": 5,
     "metadata": {},
     "output_type": "execute_result"
    }
   ],
   "source": [
    "df = batch0.append(batch1).append(batch2).reset_index(drop=True)\n",
    "df.shape"
   ]
  },
  {
   "cell_type": "code",
   "execution_count": 6,
   "metadata": {
    "collapsed": true
   },
   "outputs": [],
   "source": [
    "exclude = [\n",
    "'euroB1',           \n",
    "'euroG2',          \n",
    "'euroG1',         \n",
    "'euroB2',        \n",
    "'east1',       \n",
    "'east2' ] "
   ]
  },
  {
   "cell_type": "code",
   "execution_count": 7,
   "metadata": {},
   "outputs": [
    {
     "data": {
      "text/plain": [
       "6"
      ]
     },
     "execution_count": 7,
     "metadata": {},
     "output_type": "execute_result"
    }
   ],
   "source": [
    "len(exclude)"
   ]
  },
  {
   "cell_type": "code",
   "execution_count": 8,
   "metadata": {
    "collapsed": true
   },
   "outputs": [],
   "source": [
    "df['taobao'] = df['name'].apply(lambda x: 1 if x.split('/')[0] in exclude else 0)"
   ]
  },
  {
   "cell_type": "code",
   "execution_count": 9,
   "metadata": {},
   "outputs": [
    {
     "data": {
      "text/plain": [
       "(456812, 131)"
      ]
     },
     "execution_count": 9,
     "metadata": {},
     "output_type": "execute_result"
    }
   ],
   "source": [
    "df.shape"
   ]
  },
  {
   "cell_type": "code",
   "execution_count": 10,
   "metadata": {},
   "outputs": [
    {
     "data": {
      "text/html": [
       "<div>\n",
       "<style>\n",
       "    .dataframe thead tr:only-child th {\n",
       "        text-align: right;\n",
       "    }\n",
       "\n",
       "    .dataframe thead th {\n",
       "        text-align: left;\n",
       "    }\n",
       "\n",
       "    .dataframe tbody tr th {\n",
       "        vertical-align: top;\n",
       "    }\n",
       "</style>\n",
       "<table border=\"1\" class=\"dataframe\">\n",
       "  <thead>\n",
       "    <tr style=\"text-align: right;\">\n",
       "      <th></th>\n",
       "      <th>0</th>\n",
       "      <th>1</th>\n",
       "      <th>10</th>\n",
       "      <th>100</th>\n",
       "      <th>101</th>\n",
       "      <th>102</th>\n",
       "      <th>103</th>\n",
       "      <th>104</th>\n",
       "      <th>105</th>\n",
       "      <th>106</th>\n",
       "      <th>...</th>\n",
       "      <th>93</th>\n",
       "      <th>94</th>\n",
       "      <th>95</th>\n",
       "      <th>96</th>\n",
       "      <th>97</th>\n",
       "      <th>98</th>\n",
       "      <th>99</th>\n",
       "      <th>name</th>\n",
       "      <th>real_name</th>\n",
       "      <th>taobao</th>\n",
       "    </tr>\n",
       "  </thead>\n",
       "  <tbody>\n",
       "    <tr>\n",
       "      <th>0</th>\n",
       "      <td>0.091726</td>\n",
       "      <td>-0.190638</td>\n",
       "      <td>0.080588</td>\n",
       "      <td>0.164116</td>\n",
       "      <td>-0.143746</td>\n",
       "      <td>-0.017891</td>\n",
       "      <td>-0.005637</td>\n",
       "      <td>0.155343</td>\n",
       "      <td>-0.063125</td>\n",
       "      <td>-0.039380</td>\n",
       "      <td>...</td>\n",
       "      <td>-0.003497</td>\n",
       "      <td>-0.012994</td>\n",
       "      <td>0.068126</td>\n",
       "      <td>-0.224206</td>\n",
       "      <td>0.072268</td>\n",
       "      <td>0.005975</td>\n",
       "      <td>0.004116</td>\n",
       "      <td>face1_sub_58/remoteimage2_20170509105919_53406...</td>\n",
       "      <td>NaN</td>\n",
       "      <td>0</td>\n",
       "    </tr>\n",
       "    <tr>\n",
       "      <th>1</th>\n",
       "      <td>0.086613</td>\n",
       "      <td>-0.037368</td>\n",
       "      <td>0.047840</td>\n",
       "      <td>0.016557</td>\n",
       "      <td>0.038489</td>\n",
       "      <td>0.065889</td>\n",
       "      <td>0.079712</td>\n",
       "      <td>-0.116698</td>\n",
       "      <td>0.047217</td>\n",
       "      <td>-0.160569</td>\n",
       "      <td>...</td>\n",
       "      <td>-0.082512</td>\n",
       "      <td>-0.112541</td>\n",
       "      <td>0.002202</td>\n",
       "      <td>-0.057949</td>\n",
       "      <td>-0.081063</td>\n",
       "      <td>0.072769</td>\n",
       "      <td>-0.049566</td>\n",
       "      <td>face1_sub_59/tusaJDAyJDI0LzE2OTEzMjIwMzIvVEIyQ...</td>\n",
       "      <td>NaN</td>\n",
       "      <td>0</td>\n",
       "    </tr>\n",
       "    <tr>\n",
       "      <th>2</th>\n",
       "      <td>0.054699</td>\n",
       "      <td>0.243838</td>\n",
       "      <td>0.132632</td>\n",
       "      <td>-0.007688</td>\n",
       "      <td>0.034593</td>\n",
       "      <td>0.012737</td>\n",
       "      <td>0.097909</td>\n",
       "      <td>0.108398</td>\n",
       "      <td>0.042306</td>\n",
       "      <td>0.064177</td>\n",
       "      <td>...</td>\n",
       "      <td>-0.008184</td>\n",
       "      <td>-0.019533</td>\n",
       "      <td>-0.062699</td>\n",
       "      <td>-0.078083</td>\n",
       "      <td>0.000636</td>\n",
       "      <td>-0.028517</td>\n",
       "      <td>0.025333</td>\n",
       "      <td>face1_sub_57/n_v1bkujjd2lod2fr2mg2vya_cdebc1e0...</td>\n",
       "      <td>NaN</td>\n",
       "      <td>0</td>\n",
       "    </tr>\n",
       "    <tr>\n",
       "      <th>3</th>\n",
       "      <td>0.005894</td>\n",
       "      <td>0.079416</td>\n",
       "      <td>0.084070</td>\n",
       "      <td>0.006754</td>\n",
       "      <td>-0.085878</td>\n",
       "      <td>-0.002007</td>\n",
       "      <td>0.066119</td>\n",
       "      <td>-0.019743</td>\n",
       "      <td>0.011711</td>\n",
       "      <td>-0.092034</td>\n",
       "      <td>...</td>\n",
       "      <td>-0.084295</td>\n",
       "      <td>-0.004480</td>\n",
       "      <td>-0.030521</td>\n",
       "      <td>-0.139109</td>\n",
       "      <td>-0.026094</td>\n",
       "      <td>-0.025716</td>\n",
       "      <td>-0.045781</td>\n",
       "      <td>face1_sub_6/0df3d7ca7bcb0a46e39596cd6163f6246a...</td>\n",
       "      <td>NaN</td>\n",
       "      <td>0</td>\n",
       "    </tr>\n",
       "    <tr>\n",
       "      <th>4</th>\n",
       "      <td>0.020187</td>\n",
       "      <td>0.100711</td>\n",
       "      <td>0.156477</td>\n",
       "      <td>-0.083183</td>\n",
       "      <td>0.044668</td>\n",
       "      <td>0.061593</td>\n",
       "      <td>0.034896</td>\n",
       "      <td>0.097767</td>\n",
       "      <td>0.017030</td>\n",
       "      <td>-0.006578</td>\n",
       "      <td>...</td>\n",
       "      <td>-0.088092</td>\n",
       "      <td>0.003028</td>\n",
       "      <td>-0.146583</td>\n",
       "      <td>-0.095546</td>\n",
       "      <td>-0.093680</td>\n",
       "      <td>-0.098496</td>\n",
       "      <td>0.042494</td>\n",
       "      <td>face1_sub_6/1(188).jpg</td>\n",
       "      <td>NaN</td>\n",
       "      <td>0</td>\n",
       "    </tr>\n",
       "  </tbody>\n",
       "</table>\n",
       "<p>5 rows × 131 columns</p>\n",
       "</div>"
      ],
      "text/plain": [
       "          0         1        10       100       101       102       103  \\\n",
       "0  0.091726 -0.190638  0.080588  0.164116 -0.143746 -0.017891 -0.005637   \n",
       "1  0.086613 -0.037368  0.047840  0.016557  0.038489  0.065889  0.079712   \n",
       "2  0.054699  0.243838  0.132632 -0.007688  0.034593  0.012737  0.097909   \n",
       "3  0.005894  0.079416  0.084070  0.006754 -0.085878 -0.002007  0.066119   \n",
       "4  0.020187  0.100711  0.156477 -0.083183  0.044668  0.061593  0.034896   \n",
       "\n",
       "        104       105       106   ...          93        94        95  \\\n",
       "0  0.155343 -0.063125 -0.039380   ...   -0.003497 -0.012994  0.068126   \n",
       "1 -0.116698  0.047217 -0.160569   ...   -0.082512 -0.112541  0.002202   \n",
       "2  0.108398  0.042306  0.064177   ...   -0.008184 -0.019533 -0.062699   \n",
       "3 -0.019743  0.011711 -0.092034   ...   -0.084295 -0.004480 -0.030521   \n",
       "4  0.097767  0.017030 -0.006578   ...   -0.088092  0.003028 -0.146583   \n",
       "\n",
       "         96        97        98        99  \\\n",
       "0 -0.224206  0.072268  0.005975  0.004116   \n",
       "1 -0.057949 -0.081063  0.072769 -0.049566   \n",
       "2 -0.078083  0.000636 -0.028517  0.025333   \n",
       "3 -0.139109 -0.026094 -0.025716 -0.045781   \n",
       "4 -0.095546 -0.093680 -0.098496  0.042494   \n",
       "\n",
       "                                                name  real_name  taobao  \n",
       "0  face1_sub_58/remoteimage2_20170509105919_53406...        NaN       0  \n",
       "1  face1_sub_59/tusaJDAyJDI0LzE2OTEzMjIwMzIvVEIyQ...        NaN       0  \n",
       "2  face1_sub_57/n_v1bkujjd2lod2fr2mg2vya_cdebc1e0...        NaN       0  \n",
       "3  face1_sub_6/0df3d7ca7bcb0a46e39596cd6163f6246a...        NaN       0  \n",
       "4                             face1_sub_6/1(188).jpg        NaN       0  \n",
       "\n",
       "[5 rows x 131 columns]"
      ]
     },
     "execution_count": 10,
     "metadata": {},
     "output_type": "execute_result"
    }
   ],
   "source": [
    "df.head()"
   ]
  },
  {
   "cell_type": "code",
   "execution_count": 11,
   "metadata": {},
   "outputs": [
    {
     "data": {
      "text/plain": [
       "(3805, 131)"
      ]
     },
     "execution_count": 11,
     "metadata": {},
     "output_type": "execute_result"
    }
   ],
   "source": [
    "df[df['taobao']==1].shape"
   ]
  },
  {
   "cell_type": "code",
   "execution_count": 12,
   "metadata": {},
   "outputs": [
    {
     "data": {
      "text/plain": [
       "77476     53\n",
       "143254    15\n",
       "408698    12\n",
       "Name: name, dtype: int64"
      ]
     },
     "execution_count": 12,
     "metadata": {},
     "output_type": "execute_result"
    }
   ],
   "source": [
    "df['name'].apply(lambda x: x.count('a')).sort_values(ascending=False).head(3)"
   ]
  },
  {
   "cell_type": "code",
   "execution_count": 13,
   "metadata": {},
   "outputs": [
    {
     "data": {
      "text/plain": [
       "456811    1\n",
       "152274    1\n",
       "152263    1\n",
       "Name: name, dtype: int64"
      ]
     },
     "execution_count": 13,
     "metadata": {},
     "output_type": "execute_result"
    }
   ],
   "source": [
    "df['name'].apply(lambda x: x.count('/')).sort_values(ascending=False).head(3)"
   ]
  },
  {
   "cell_type": "code",
   "execution_count": 14,
   "metadata": {},
   "outputs": [
    {
     "data": {
      "text/plain": [
       "(456812, 131)"
      ]
     },
     "execution_count": 14,
     "metadata": {},
     "output_type": "execute_result"
    }
   ],
   "source": [
    "df['real_name'] = df['name'].apply(lambda x: x.split('/')[-1])\n",
    "df.shape"
   ]
  },
  {
   "cell_type": "code",
   "execution_count": 15,
   "metadata": {},
   "outputs": [
    {
     "data": {
      "text/html": [
       "<div>\n",
       "<style>\n",
       "    .dataframe thead tr:only-child th {\n",
       "        text-align: right;\n",
       "    }\n",
       "\n",
       "    .dataframe thead th {\n",
       "        text-align: left;\n",
       "    }\n",
       "\n",
       "    .dataframe tbody tr th {\n",
       "        vertical-align: top;\n",
       "    }\n",
       "</style>\n",
       "<table border=\"1\" class=\"dataframe\">\n",
       "  <thead>\n",
       "    <tr style=\"text-align: right;\">\n",
       "      <th></th>\n",
       "      <th>0</th>\n",
       "      <th>1</th>\n",
       "      <th>10</th>\n",
       "      <th>100</th>\n",
       "      <th>101</th>\n",
       "      <th>102</th>\n",
       "      <th>103</th>\n",
       "      <th>104</th>\n",
       "      <th>105</th>\n",
       "      <th>106</th>\n",
       "      <th>...</th>\n",
       "      <th>93</th>\n",
       "      <th>94</th>\n",
       "      <th>95</th>\n",
       "      <th>96</th>\n",
       "      <th>97</th>\n",
       "      <th>98</th>\n",
       "      <th>99</th>\n",
       "      <th>name</th>\n",
       "      <th>real_name</th>\n",
       "      <th>taobao</th>\n",
       "    </tr>\n",
       "  </thead>\n",
       "  <tbody>\n",
       "    <tr>\n",
       "      <th>0</th>\n",
       "      <td>0.091726</td>\n",
       "      <td>-0.190638</td>\n",
       "      <td>0.080588</td>\n",
       "      <td>0.164116</td>\n",
       "      <td>-0.143746</td>\n",
       "      <td>-0.017891</td>\n",
       "      <td>-0.005637</td>\n",
       "      <td>0.155343</td>\n",
       "      <td>-0.063125</td>\n",
       "      <td>-0.039380</td>\n",
       "      <td>...</td>\n",
       "      <td>-0.003497</td>\n",
       "      <td>-0.012994</td>\n",
       "      <td>0.068126</td>\n",
       "      <td>-0.224206</td>\n",
       "      <td>0.072268</td>\n",
       "      <td>0.005975</td>\n",
       "      <td>0.004116</td>\n",
       "      <td>face1_sub_58/remoteimage2_20170509105919_53406...</td>\n",
       "      <td>remoteimage2_20170509105919_53406.jpg</td>\n",
       "      <td>0</td>\n",
       "    </tr>\n",
       "    <tr>\n",
       "      <th>1</th>\n",
       "      <td>0.086613</td>\n",
       "      <td>-0.037368</td>\n",
       "      <td>0.047840</td>\n",
       "      <td>0.016557</td>\n",
       "      <td>0.038489</td>\n",
       "      <td>0.065889</td>\n",
       "      <td>0.079712</td>\n",
       "      <td>-0.116698</td>\n",
       "      <td>0.047217</td>\n",
       "      <td>-0.160569</td>\n",
       "      <td>...</td>\n",
       "      <td>-0.082512</td>\n",
       "      <td>-0.112541</td>\n",
       "      <td>0.002202</td>\n",
       "      <td>-0.057949</td>\n",
       "      <td>-0.081063</td>\n",
       "      <td>0.072769</td>\n",
       "      <td>-0.049566</td>\n",
       "      <td>face1_sub_59/tusaJDAyJDI0LzE2OTEzMjIwMzIvVEIyQ...</td>\n",
       "      <td>tusaJDAyJDI0LzE2OTEzMjIwMzIvVEIyQ01JLmRGJDZjbF...</td>\n",
       "      <td>0</td>\n",
       "    </tr>\n",
       "    <tr>\n",
       "      <th>2</th>\n",
       "      <td>0.054699</td>\n",
       "      <td>0.243838</td>\n",
       "      <td>0.132632</td>\n",
       "      <td>-0.007688</td>\n",
       "      <td>0.034593</td>\n",
       "      <td>0.012737</td>\n",
       "      <td>0.097909</td>\n",
       "      <td>0.108398</td>\n",
       "      <td>0.042306</td>\n",
       "      <td>0.064177</td>\n",
       "      <td>...</td>\n",
       "      <td>-0.008184</td>\n",
       "      <td>-0.019533</td>\n",
       "      <td>-0.062699</td>\n",
       "      <td>-0.078083</td>\n",
       "      <td>0.000636</td>\n",
       "      <td>-0.028517</td>\n",
       "      <td>0.025333</td>\n",
       "      <td>face1_sub_57/n_v1bkujjd2lod2fr2mg2vya_cdebc1e0...</td>\n",
       "      <td>n_v1bkujjd2lod2fr2mg2vya_cdebc1e04c8f0db9.jpg</td>\n",
       "      <td>0</td>\n",
       "    </tr>\n",
       "  </tbody>\n",
       "</table>\n",
       "<p>3 rows × 131 columns</p>\n",
       "</div>"
      ],
      "text/plain": [
       "          0         1        10       100       101       102       103  \\\n",
       "0  0.091726 -0.190638  0.080588  0.164116 -0.143746 -0.017891 -0.005637   \n",
       "1  0.086613 -0.037368  0.047840  0.016557  0.038489  0.065889  0.079712   \n",
       "2  0.054699  0.243838  0.132632 -0.007688  0.034593  0.012737  0.097909   \n",
       "\n",
       "        104       105       106   ...          93        94        95  \\\n",
       "0  0.155343 -0.063125 -0.039380   ...   -0.003497 -0.012994  0.068126   \n",
       "1 -0.116698  0.047217 -0.160569   ...   -0.082512 -0.112541  0.002202   \n",
       "2  0.108398  0.042306  0.064177   ...   -0.008184 -0.019533 -0.062699   \n",
       "\n",
       "         96        97        98        99  \\\n",
       "0 -0.224206  0.072268  0.005975  0.004116   \n",
       "1 -0.057949 -0.081063  0.072769 -0.049566   \n",
       "2 -0.078083  0.000636 -0.028517  0.025333   \n",
       "\n",
       "                                                name  \\\n",
       "0  face1_sub_58/remoteimage2_20170509105919_53406...   \n",
       "1  face1_sub_59/tusaJDAyJDI0LzE2OTEzMjIwMzIvVEIyQ...   \n",
       "2  face1_sub_57/n_v1bkujjd2lod2fr2mg2vya_cdebc1e0...   \n",
       "\n",
       "                                           real_name  taobao  \n",
       "0              remoteimage2_20170509105919_53406.jpg       0  \n",
       "1  tusaJDAyJDI0LzE2OTEzMjIwMzIvVEIyQ01JLmRGJDZjbF...       0  \n",
       "2      n_v1bkujjd2lod2fr2mg2vya_cdebc1e04c8f0db9.jpg       0  \n",
       "\n",
       "[3 rows x 131 columns]"
      ]
     },
     "execution_count": 15,
     "metadata": {},
     "output_type": "execute_result"
    }
   ],
   "source": [
    "df.head(3)"
   ]
  },
  {
   "cell_type": "code",
   "execution_count": 16,
   "metadata": {},
   "outputs": [
    {
     "data": {
      "text/plain": [
       "(3).jpg      4\n",
       "(1).jpg      4\n",
       "(7).jpg      4\n",
       "(375).jpg    3\n",
       "(152).jpg    3\n",
       "Name: real_name, dtype: int64"
      ]
     },
     "execution_count": 16,
     "metadata": {},
     "output_type": "execute_result"
    }
   ],
   "source": [
    "df['real_name'].value_counts().head()"
   ]
  },
  {
   "cell_type": "code",
   "execution_count": 17,
   "metadata": {},
   "outputs": [
    {
     "data": {
      "text/plain": [
       "94561"
      ]
     },
     "execution_count": 17,
     "metadata": {},
     "output_type": "execute_result"
    }
   ],
   "source": [
    "df['real_name'].duplicated().sum()"
   ]
  },
  {
   "cell_type": "code",
   "execution_count": 18,
   "metadata": {},
   "outputs": [
    {
     "data": {
      "text/plain": [
       "2773-11121610005613.jpg                                          2\n",
       "aazhi.jpg                                                        2\n",
       "001e4f9daa870bf5aad313.jpg                                       2\n",
       "20150919123358178.jpg                                            2\n",
       "BF42BD98A242CE82F2B1D0E6F41AB9814BAB3AC4_size95_w600_h424.jpg    2\n",
       "Name: real_name, dtype: int64"
      ]
     },
     "execution_count": 18,
     "metadata": {},
     "output_type": "execute_result"
    }
   ],
   "source": [
    "df[df['taobao']==0]['real_name'].value_counts().head()"
   ]
  },
  {
   "cell_type": "code",
   "execution_count": 19,
   "metadata": {},
   "outputs": [
    {
     "data": {
      "text/plain": [
       "92299"
      ]
     },
     "execution_count": 19,
     "metadata": {},
     "output_type": "execute_result"
    }
   ],
   "source": [
    "df[df['taobao']==0]['real_name'].duplicated().sum()"
   ]
  },
  {
   "cell_type": "code",
   "execution_count": 20,
   "metadata": {},
   "outputs": [
    {
     "data": {
      "text/plain": [
       "(3805, 131)"
      ]
     },
     "execution_count": 20,
     "metadata": {},
     "output_type": "execute_result"
    }
   ],
   "source": [
    "taobao = df[df['taobao']==1]\n",
    "taobao.shape"
   ]
  },
  {
   "cell_type": "code",
   "execution_count": 21,
   "metadata": {},
   "outputs": [
    {
     "data": {
      "text/plain": [
       "(453007, 131)"
      ]
     },
     "execution_count": 21,
     "metadata": {},
     "output_type": "execute_result"
    }
   ],
   "source": [
    "df1 = df[df['taobao']==0]\n",
    "df1.shape"
   ]
  },
  {
   "cell_type": "code",
   "execution_count": 22,
   "metadata": {},
   "outputs": [
    {
     "data": {
      "text/plain": [
       "(92299, 131)"
      ]
     },
     "execution_count": 22,
     "metadata": {},
     "output_type": "execute_result"
    }
   ],
   "source": [
    "to_be_deleted = df1[df1['real_name'].duplicated()]\n",
    "to_be_deleted.shape"
   ]
  },
  {
   "cell_type": "code",
   "execution_count": 23,
   "metadata": {
    "collapsed": true
   },
   "outputs": [],
   "source": [
    "# to_be_deleted.to_csv('to_be_delete.csv')"
   ]
  },
  {
   "cell_type": "code",
   "execution_count": 24,
   "metadata": {},
   "outputs": [
    {
     "data": {
      "text/plain": [
       "(360708, 131)"
      ]
     },
     "execution_count": 24,
     "metadata": {},
     "output_type": "execute_result"
    }
   ],
   "source": [
    "df1[~df1['real_name'].duplicated()].shape"
   ]
  },
  {
   "cell_type": "code",
   "execution_count": 25,
   "metadata": {},
   "outputs": [
    {
     "data": {
      "text/plain": [
       "(360708, 131)"
      ]
     },
     "execution_count": 25,
     "metadata": {},
     "output_type": "execute_result"
    }
   ],
   "source": [
    "df2 = df1[~df1['real_name'].duplicated()]\n",
    "df2.shape"
   ]
  },
  {
   "cell_type": "code",
   "execution_count": 26,
   "metadata": {},
   "outputs": [
    {
     "data": {
      "text/plain": [
       "(364513, 131)"
      ]
     },
     "execution_count": 26,
     "metadata": {},
     "output_type": "execute_result"
    }
   ],
   "source": [
    "df3 = df2.append(taobao)\n",
    "df3.shape"
   ]
  },
  {
   "cell_type": "code",
   "execution_count": 27,
   "metadata": {},
   "outputs": [
    {
     "data": {
      "text/html": [
       "<div>\n",
       "<style>\n",
       "    .dataframe thead tr:only-child th {\n",
       "        text-align: right;\n",
       "    }\n",
       "\n",
       "    .dataframe thead th {\n",
       "        text-align: left;\n",
       "    }\n",
       "\n",
       "    .dataframe tbody tr th {\n",
       "        vertical-align: top;\n",
       "    }\n",
       "</style>\n",
       "<table border=\"1\" class=\"dataframe\">\n",
       "  <thead>\n",
       "    <tr style=\"text-align: right;\">\n",
       "      <th></th>\n",
       "      <th>0</th>\n",
       "      <th>1</th>\n",
       "      <th>10</th>\n",
       "      <th>100</th>\n",
       "      <th>101</th>\n",
       "      <th>102</th>\n",
       "      <th>103</th>\n",
       "      <th>104</th>\n",
       "      <th>105</th>\n",
       "      <th>106</th>\n",
       "      <th>...</th>\n",
       "      <th>93</th>\n",
       "      <th>94</th>\n",
       "      <th>95</th>\n",
       "      <th>96</th>\n",
       "      <th>97</th>\n",
       "      <th>98</th>\n",
       "      <th>99</th>\n",
       "      <th>name</th>\n",
       "      <th>real_name</th>\n",
       "      <th>taobao</th>\n",
       "    </tr>\n",
       "  </thead>\n",
       "  <tbody>\n",
       "    <tr>\n",
       "      <th>414404</th>\n",
       "      <td>0.048079</td>\n",
       "      <td>-0.005735</td>\n",
       "      <td>0.124547</td>\n",
       "      <td>0.059931</td>\n",
       "      <td>0.016490</td>\n",
       "      <td>-0.007811</td>\n",
       "      <td>-0.044786</td>\n",
       "      <td>0.098052</td>\n",
       "      <td>0.088020</td>\n",
       "      <td>0.054360</td>\n",
       "      <td>...</td>\n",
       "      <td>-0.073449</td>\n",
       "      <td>-0.063805</td>\n",
       "      <td>-0.076159</td>\n",
       "      <td>-0.162145</td>\n",
       "      <td>-0.048054</td>\n",
       "      <td>-0.028791</td>\n",
       "      <td>0.016230</td>\n",
       "      <td>east1/(455).jpg</td>\n",
       "      <td>(455).jpg</td>\n",
       "      <td>1</td>\n",
       "    </tr>\n",
       "    <tr>\n",
       "      <th>414405</th>\n",
       "      <td>0.036722</td>\n",
       "      <td>0.102138</td>\n",
       "      <td>0.221006</td>\n",
       "      <td>-0.019993</td>\n",
       "      <td>0.035208</td>\n",
       "      <td>0.050035</td>\n",
       "      <td>0.042233</td>\n",
       "      <td>0.174321</td>\n",
       "      <td>0.025956</td>\n",
       "      <td>0.051993</td>\n",
       "      <td>...</td>\n",
       "      <td>-0.085428</td>\n",
       "      <td>-0.006967</td>\n",
       "      <td>-0.115601</td>\n",
       "      <td>-0.160783</td>\n",
       "      <td>-0.069154</td>\n",
       "      <td>-0.061887</td>\n",
       "      <td>0.040377</td>\n",
       "      <td>east1/(162).jpg</td>\n",
       "      <td>(162).jpg</td>\n",
       "      <td>1</td>\n",
       "    </tr>\n",
       "    <tr>\n",
       "      <th>414406</th>\n",
       "      <td>-0.040984</td>\n",
       "      <td>0.214801</td>\n",
       "      <td>0.182931</td>\n",
       "      <td>-0.057222</td>\n",
       "      <td>0.003393</td>\n",
       "      <td>0.014975</td>\n",
       "      <td>0.111515</td>\n",
       "      <td>0.159685</td>\n",
       "      <td>0.020779</td>\n",
       "      <td>0.020265</td>\n",
       "      <td>...</td>\n",
       "      <td>-0.052205</td>\n",
       "      <td>0.031163</td>\n",
       "      <td>-0.141384</td>\n",
       "      <td>-0.133257</td>\n",
       "      <td>-0.025430</td>\n",
       "      <td>-0.102006</td>\n",
       "      <td>0.041018</td>\n",
       "      <td>east1/(675).jpg</td>\n",
       "      <td>(675).jpg</td>\n",
       "      <td>1</td>\n",
       "    </tr>\n",
       "    <tr>\n",
       "      <th>414407</th>\n",
       "      <td>0.031182</td>\n",
       "      <td>0.099060</td>\n",
       "      <td>0.157530</td>\n",
       "      <td>-0.032536</td>\n",
       "      <td>0.023513</td>\n",
       "      <td>0.065447</td>\n",
       "      <td>-0.003731</td>\n",
       "      <td>0.152552</td>\n",
       "      <td>-0.017506</td>\n",
       "      <td>0.039926</td>\n",
       "      <td>...</td>\n",
       "      <td>-0.125411</td>\n",
       "      <td>-0.058213</td>\n",
       "      <td>-0.104495</td>\n",
       "      <td>-0.138635</td>\n",
       "      <td>-0.057158</td>\n",
       "      <td>-0.084812</td>\n",
       "      <td>0.056367</td>\n",
       "      <td>east1/(349).jpg</td>\n",
       "      <td>(349).jpg</td>\n",
       "      <td>1</td>\n",
       "    </tr>\n",
       "    <tr>\n",
       "      <th>414408</th>\n",
       "      <td>0.023592</td>\n",
       "      <td>0.028497</td>\n",
       "      <td>0.132468</td>\n",
       "      <td>0.009200</td>\n",
       "      <td>-0.027968</td>\n",
       "      <td>0.001981</td>\n",
       "      <td>0.035389</td>\n",
       "      <td>0.047474</td>\n",
       "      <td>0.023918</td>\n",
       "      <td>-0.037779</td>\n",
       "      <td>...</td>\n",
       "      <td>-0.073958</td>\n",
       "      <td>-0.080462</td>\n",
       "      <td>-0.058240</td>\n",
       "      <td>-0.154617</td>\n",
       "      <td>-0.122753</td>\n",
       "      <td>-0.021383</td>\n",
       "      <td>0.011598</td>\n",
       "      <td>east1/(582).jpg</td>\n",
       "      <td>(582).jpg</td>\n",
       "      <td>1</td>\n",
       "    </tr>\n",
       "  </tbody>\n",
       "</table>\n",
       "<p>5 rows × 131 columns</p>\n",
       "</div>"
      ],
      "text/plain": [
       "               0         1        10       100       101       102       103  \\\n",
       "414404  0.048079 -0.005735  0.124547  0.059931  0.016490 -0.007811 -0.044786   \n",
       "414405  0.036722  0.102138  0.221006 -0.019993  0.035208  0.050035  0.042233   \n",
       "414406 -0.040984  0.214801  0.182931 -0.057222  0.003393  0.014975  0.111515   \n",
       "414407  0.031182  0.099060  0.157530 -0.032536  0.023513  0.065447 -0.003731   \n",
       "414408  0.023592  0.028497  0.132468  0.009200 -0.027968  0.001981  0.035389   \n",
       "\n",
       "             104       105       106   ...          93        94        95  \\\n",
       "414404  0.098052  0.088020  0.054360   ...   -0.073449 -0.063805 -0.076159   \n",
       "414405  0.174321  0.025956  0.051993   ...   -0.085428 -0.006967 -0.115601   \n",
       "414406  0.159685  0.020779  0.020265   ...   -0.052205  0.031163 -0.141384   \n",
       "414407  0.152552 -0.017506  0.039926   ...   -0.125411 -0.058213 -0.104495   \n",
       "414408  0.047474  0.023918 -0.037779   ...   -0.073958 -0.080462 -0.058240   \n",
       "\n",
       "              96        97        98        99             name  real_name  \\\n",
       "414404 -0.162145 -0.048054 -0.028791  0.016230  east1/(455).jpg  (455).jpg   \n",
       "414405 -0.160783 -0.069154 -0.061887  0.040377  east1/(162).jpg  (162).jpg   \n",
       "414406 -0.133257 -0.025430 -0.102006  0.041018  east1/(675).jpg  (675).jpg   \n",
       "414407 -0.138635 -0.057158 -0.084812  0.056367  east1/(349).jpg  (349).jpg   \n",
       "414408 -0.154617 -0.122753 -0.021383  0.011598  east1/(582).jpg  (582).jpg   \n",
       "\n",
       "        taobao  \n",
       "414404       1  \n",
       "414405       1  \n",
       "414406       1  \n",
       "414407       1  \n",
       "414408       1  \n",
       "\n",
       "[5 rows x 131 columns]"
      ]
     },
     "execution_count": 27,
     "metadata": {},
     "output_type": "execute_result"
    }
   ],
   "source": [
    "df3.tail()"
   ]
  },
  {
   "cell_type": "code",
   "execution_count": 28,
   "metadata": {},
   "outputs": [
    {
     "data": {
      "text/plain": [
       "(364513, 131)"
      ]
     },
     "execution_count": 28,
     "metadata": {},
     "output_type": "execute_result"
    }
   ],
   "source": [
    "df4 = df3.reset_index(drop=True)\n",
    "df4.shape"
   ]
  },
  {
   "cell_type": "code",
   "execution_count": 29,
   "metadata": {},
   "outputs": [
    {
     "data": {
      "text/html": [
       "<div>\n",
       "<style>\n",
       "    .dataframe thead tr:only-child th {\n",
       "        text-align: right;\n",
       "    }\n",
       "\n",
       "    .dataframe thead th {\n",
       "        text-align: left;\n",
       "    }\n",
       "\n",
       "    .dataframe tbody tr th {\n",
       "        vertical-align: top;\n",
       "    }\n",
       "</style>\n",
       "<table border=\"1\" class=\"dataframe\">\n",
       "  <thead>\n",
       "    <tr style=\"text-align: right;\">\n",
       "      <th></th>\n",
       "      <th>0</th>\n",
       "      <th>1</th>\n",
       "      <th>10</th>\n",
       "      <th>100</th>\n",
       "      <th>101</th>\n",
       "      <th>102</th>\n",
       "      <th>103</th>\n",
       "      <th>104</th>\n",
       "      <th>105</th>\n",
       "      <th>106</th>\n",
       "      <th>...</th>\n",
       "      <th>93</th>\n",
       "      <th>94</th>\n",
       "      <th>95</th>\n",
       "      <th>96</th>\n",
       "      <th>97</th>\n",
       "      <th>98</th>\n",
       "      <th>99</th>\n",
       "      <th>name</th>\n",
       "      <th>real_name</th>\n",
       "      <th>taobao</th>\n",
       "    </tr>\n",
       "  </thead>\n",
       "  <tbody>\n",
       "    <tr>\n",
       "      <th>364508</th>\n",
       "      <td>0.048079</td>\n",
       "      <td>-0.005735</td>\n",
       "      <td>0.124547</td>\n",
       "      <td>0.059931</td>\n",
       "      <td>0.016490</td>\n",
       "      <td>-0.007811</td>\n",
       "      <td>-0.044786</td>\n",
       "      <td>0.098052</td>\n",
       "      <td>0.088020</td>\n",
       "      <td>0.054360</td>\n",
       "      <td>...</td>\n",
       "      <td>-0.073449</td>\n",
       "      <td>-0.063805</td>\n",
       "      <td>-0.076159</td>\n",
       "      <td>-0.162145</td>\n",
       "      <td>-0.048054</td>\n",
       "      <td>-0.028791</td>\n",
       "      <td>0.016230</td>\n",
       "      <td>east1/(455).jpg</td>\n",
       "      <td>(455).jpg</td>\n",
       "      <td>1</td>\n",
       "    </tr>\n",
       "    <tr>\n",
       "      <th>364509</th>\n",
       "      <td>0.036722</td>\n",
       "      <td>0.102138</td>\n",
       "      <td>0.221006</td>\n",
       "      <td>-0.019993</td>\n",
       "      <td>0.035208</td>\n",
       "      <td>0.050035</td>\n",
       "      <td>0.042233</td>\n",
       "      <td>0.174321</td>\n",
       "      <td>0.025956</td>\n",
       "      <td>0.051993</td>\n",
       "      <td>...</td>\n",
       "      <td>-0.085428</td>\n",
       "      <td>-0.006967</td>\n",
       "      <td>-0.115601</td>\n",
       "      <td>-0.160783</td>\n",
       "      <td>-0.069154</td>\n",
       "      <td>-0.061887</td>\n",
       "      <td>0.040377</td>\n",
       "      <td>east1/(162).jpg</td>\n",
       "      <td>(162).jpg</td>\n",
       "      <td>1</td>\n",
       "    </tr>\n",
       "    <tr>\n",
       "      <th>364510</th>\n",
       "      <td>-0.040984</td>\n",
       "      <td>0.214801</td>\n",
       "      <td>0.182931</td>\n",
       "      <td>-0.057222</td>\n",
       "      <td>0.003393</td>\n",
       "      <td>0.014975</td>\n",
       "      <td>0.111515</td>\n",
       "      <td>0.159685</td>\n",
       "      <td>0.020779</td>\n",
       "      <td>0.020265</td>\n",
       "      <td>...</td>\n",
       "      <td>-0.052205</td>\n",
       "      <td>0.031163</td>\n",
       "      <td>-0.141384</td>\n",
       "      <td>-0.133257</td>\n",
       "      <td>-0.025430</td>\n",
       "      <td>-0.102006</td>\n",
       "      <td>0.041018</td>\n",
       "      <td>east1/(675).jpg</td>\n",
       "      <td>(675).jpg</td>\n",
       "      <td>1</td>\n",
       "    </tr>\n",
       "    <tr>\n",
       "      <th>364511</th>\n",
       "      <td>0.031182</td>\n",
       "      <td>0.099060</td>\n",
       "      <td>0.157530</td>\n",
       "      <td>-0.032536</td>\n",
       "      <td>0.023513</td>\n",
       "      <td>0.065447</td>\n",
       "      <td>-0.003731</td>\n",
       "      <td>0.152552</td>\n",
       "      <td>-0.017506</td>\n",
       "      <td>0.039926</td>\n",
       "      <td>...</td>\n",
       "      <td>-0.125411</td>\n",
       "      <td>-0.058213</td>\n",
       "      <td>-0.104495</td>\n",
       "      <td>-0.138635</td>\n",
       "      <td>-0.057158</td>\n",
       "      <td>-0.084812</td>\n",
       "      <td>0.056367</td>\n",
       "      <td>east1/(349).jpg</td>\n",
       "      <td>(349).jpg</td>\n",
       "      <td>1</td>\n",
       "    </tr>\n",
       "    <tr>\n",
       "      <th>364512</th>\n",
       "      <td>0.023592</td>\n",
       "      <td>0.028497</td>\n",
       "      <td>0.132468</td>\n",
       "      <td>0.009200</td>\n",
       "      <td>-0.027968</td>\n",
       "      <td>0.001981</td>\n",
       "      <td>0.035389</td>\n",
       "      <td>0.047474</td>\n",
       "      <td>0.023918</td>\n",
       "      <td>-0.037779</td>\n",
       "      <td>...</td>\n",
       "      <td>-0.073958</td>\n",
       "      <td>-0.080462</td>\n",
       "      <td>-0.058240</td>\n",
       "      <td>-0.154617</td>\n",
       "      <td>-0.122753</td>\n",
       "      <td>-0.021383</td>\n",
       "      <td>0.011598</td>\n",
       "      <td>east1/(582).jpg</td>\n",
       "      <td>(582).jpg</td>\n",
       "      <td>1</td>\n",
       "    </tr>\n",
       "  </tbody>\n",
       "</table>\n",
       "<p>5 rows × 131 columns</p>\n",
       "</div>"
      ],
      "text/plain": [
       "               0         1        10       100       101       102       103  \\\n",
       "364508  0.048079 -0.005735  0.124547  0.059931  0.016490 -0.007811 -0.044786   \n",
       "364509  0.036722  0.102138  0.221006 -0.019993  0.035208  0.050035  0.042233   \n",
       "364510 -0.040984  0.214801  0.182931 -0.057222  0.003393  0.014975  0.111515   \n",
       "364511  0.031182  0.099060  0.157530 -0.032536  0.023513  0.065447 -0.003731   \n",
       "364512  0.023592  0.028497  0.132468  0.009200 -0.027968  0.001981  0.035389   \n",
       "\n",
       "             104       105       106   ...          93        94        95  \\\n",
       "364508  0.098052  0.088020  0.054360   ...   -0.073449 -0.063805 -0.076159   \n",
       "364509  0.174321  0.025956  0.051993   ...   -0.085428 -0.006967 -0.115601   \n",
       "364510  0.159685  0.020779  0.020265   ...   -0.052205  0.031163 -0.141384   \n",
       "364511  0.152552 -0.017506  0.039926   ...   -0.125411 -0.058213 -0.104495   \n",
       "364512  0.047474  0.023918 -0.037779   ...   -0.073958 -0.080462 -0.058240   \n",
       "\n",
       "              96        97        98        99             name  real_name  \\\n",
       "364508 -0.162145 -0.048054 -0.028791  0.016230  east1/(455).jpg  (455).jpg   \n",
       "364509 -0.160783 -0.069154 -0.061887  0.040377  east1/(162).jpg  (162).jpg   \n",
       "364510 -0.133257 -0.025430 -0.102006  0.041018  east1/(675).jpg  (675).jpg   \n",
       "364511 -0.138635 -0.057158 -0.084812  0.056367  east1/(349).jpg  (349).jpg   \n",
       "364512 -0.154617 -0.122753 -0.021383  0.011598  east1/(582).jpg  (582).jpg   \n",
       "\n",
       "        taobao  \n",
       "364508       1  \n",
       "364509       1  \n",
       "364510       1  \n",
       "364511       1  \n",
       "364512       1  \n",
       "\n",
       "[5 rows x 131 columns]"
      ]
     },
     "execution_count": 29,
     "metadata": {},
     "output_type": "execute_result"
    }
   ],
   "source": [
    "df4.tail()"
   ]
  },
  {
   "cell_type": "code",
   "execution_count": 30,
   "metadata": {
    "collapsed": true
   },
   "outputs": [],
   "source": [
    "# df4.to_csv('28_Oct_40W_V2.csv', index=False)"
   ]
  },
  {
   "cell_type": "code",
   "execution_count": 44,
   "metadata": {},
   "outputs": [],
   "source": [
    "# df4['real_name']"
   ]
  },
  {
   "cell_type": "code",
   "execution_count": 43,
   "metadata": {
    "collapsed": true
   },
   "outputs": [],
   "source": [
    "# def whatisthis(s):\n",
    "#     if isinstance(s, str):\n",
    "#         return  \"ordinary string\"\n",
    "#     elif isinstance(s, unicode):\n",
    "#         return \"unicode string\"\n",
    "#     else:\n",
    "#         return \"not a string\""
   ]
  },
  {
   "cell_type": "code",
   "execution_count": 46,
   "metadata": {},
   "outputs": [],
   "source": [
    "# whatisthis('abc')"
   ]
  },
  {
   "cell_type": "code",
   "execution_count": 42,
   "metadata": {},
   "outputs": [
    {
     "data": {
      "text/plain": [
       "'ascii'"
      ]
     },
     "execution_count": 42,
     "metadata": {},
     "output_type": "execute_result"
    }
   ],
   "source": [
    "import chardet\n",
    "\n",
    "the_encoding = chardet.detect('your string')['encoding']\n",
    "the_encoding"
   ]
  },
  {
   "cell_type": "code",
   "execution_count": 47,
   "metadata": {},
   "outputs": [
    {
     "name": "stdout",
     "output_type": "stream",
     "text": [
      "CPU times: user 8.99 s, sys: 0 ns, total: 8.99 s\n",
      "Wall time: 9.56 s\n"
     ]
    }
   ],
   "source": [
    "%%time\n",
    "df4['chk'] = df4['real_name'].apply(lambda x: chardet.detect(x)['encoding'])"
   ]
  },
  {
   "cell_type": "code",
   "execution_count": 48,
   "metadata": {},
   "outputs": [
    {
     "data": {
      "text/plain": [
       "ascii    364375\n",
       "utf-8       138\n",
       "Name: chk, dtype: int64"
      ]
     },
     "execution_count": 48,
     "metadata": {},
     "output_type": "execute_result"
    }
   ],
   "source": [
    "df4['chk'].value_counts()"
   ]
  },
  {
   "cell_type": "code",
   "execution_count": null,
   "metadata": {
    "collapsed": true
   },
   "outputs": [],
   "source": []
  },
  {
   "cell_type": "code",
   "execution_count": null,
   "metadata": {
    "collapsed": true
   },
   "outputs": [],
   "source": []
  },
  {
   "cell_type": "code",
   "execution_count": 35,
   "metadata": {
    "collapsed": true
   },
   "outputs": [],
   "source": [
    "# .replace({r'[^\\x00-\\x7F]+':''}, regex=True, inplace=True)"
   ]
  },
  {
   "cell_type": "code",
   "execution_count": 36,
   "metadata": {},
   "outputs": [],
   "source": [
    "# 'abe'.find(r'[^\\x00-\\x7F]+',regex=True )"
   ]
  },
  {
   "cell_type": "code",
   "execution_count": null,
   "metadata": {
    "collapsed": true
   },
   "outputs": [],
   "source": []
  },
  {
   "cell_type": "code",
   "execution_count": null,
   "metadata": {
    "collapsed": true
   },
   "outputs": [],
   "source": []
  },
  {
   "cell_type": "code",
   "execution_count": null,
   "metadata": {
    "collapsed": true
   },
   "outputs": [],
   "source": []
  },
  {
   "cell_type": "code",
   "execution_count": null,
   "metadata": {
    "collapsed": true
   },
   "outputs": [],
   "source": []
  },
  {
   "cell_type": "code",
   "execution_count": null,
   "metadata": {
    "collapsed": true
   },
   "outputs": [],
   "source": []
  },
  {
   "cell_type": "code",
   "execution_count": null,
   "metadata": {
    "collapsed": true
   },
   "outputs": [],
   "source": []
  },
  {
   "cell_type": "code",
   "execution_count": null,
   "metadata": {
    "collapsed": true
   },
   "outputs": [],
   "source": []
  },
  {
   "cell_type": "code",
   "execution_count": null,
   "metadata": {
    "collapsed": true
   },
   "outputs": [],
   "source": []
  },
  {
   "cell_type": "code",
   "execution_count": null,
   "metadata": {
    "collapsed": true
   },
   "outputs": [],
   "source": []
  },
  {
   "cell_type": "code",
   "execution_count": null,
   "metadata": {
    "collapsed": true
   },
   "outputs": [],
   "source": []
  },
  {
   "cell_type": "code",
   "execution_count": null,
   "metadata": {
    "collapsed": true
   },
   "outputs": [],
   "source": []
  },
  {
   "cell_type": "code",
   "execution_count": null,
   "metadata": {
    "collapsed": true
   },
   "outputs": [],
   "source": []
  },
  {
   "cell_type": "code",
   "execution_count": null,
   "metadata": {
    "collapsed": true
   },
   "outputs": [],
   "source": []
  },
  {
   "cell_type": "code",
   "execution_count": 37,
   "metadata": {},
   "outputs": [
    {
     "data": {
      "text/html": [
       "<div>\n",
       "<style>\n",
       "    .dataframe thead tr:only-child th {\n",
       "        text-align: right;\n",
       "    }\n",
       "\n",
       "    .dataframe thead th {\n",
       "        text-align: left;\n",
       "    }\n",
       "\n",
       "    .dataframe tbody tr th {\n",
       "        vertical-align: top;\n",
       "    }\n",
       "</style>\n",
       "<table border=\"1\" class=\"dataframe\">\n",
       "  <thead>\n",
       "    <tr style=\"text-align: right;\">\n",
       "      <th></th>\n",
       "      <th>99</th>\n",
       "      <th>name</th>\n",
       "      <th>real_name</th>\n",
       "      <th>taobao</th>\n",
       "    </tr>\n",
       "  </thead>\n",
       "  <tbody>\n",
       "    <tr>\n",
       "      <th>0</th>\n",
       "      <td>0.004116</td>\n",
       "      <td>face1_sub_58/remoteimage2_20170509105919_53406...</td>\n",
       "      <td>remoteimage2_20170509105919_53406.jpg</td>\n",
       "      <td>0</td>\n",
       "    </tr>\n",
       "    <tr>\n",
       "      <th>1</th>\n",
       "      <td>-0.049566</td>\n",
       "      <td>face1_sub_59/tusaJDAyJDI0LzE2OTEzMjIwMzIvVEIyQ...</td>\n",
       "      <td>tusaJDAyJDI0LzE2OTEzMjIwMzIvVEIyQ01JLmRGJDZjbF...</td>\n",
       "      <td>0</td>\n",
       "    </tr>\n",
       "    <tr>\n",
       "      <th>2</th>\n",
       "      <td>0.025333</td>\n",
       "      <td>face1_sub_57/n_v1bkujjd2lod2fr2mg2vya_cdebc1e0...</td>\n",
       "      <td>n_v1bkujjd2lod2fr2mg2vya_cdebc1e04c8f0db9.jpg</td>\n",
       "      <td>0</td>\n",
       "    </tr>\n",
       "    <tr>\n",
       "      <th>3</th>\n",
       "      <td>-0.045781</td>\n",
       "      <td>face1_sub_6/0df3d7ca7bcb0a46e39596cd6163f6246a...</td>\n",
       "      <td>0df3d7ca7bcb0a46e39596cd6163f6246a60af8a.jpg</td>\n",
       "      <td>0</td>\n",
       "    </tr>\n",
       "    <tr>\n",
       "      <th>4</th>\n",
       "      <td>0.042494</td>\n",
       "      <td>face1_sub_6/1(188).jpg</td>\n",
       "      <td>1(188).jpg</td>\n",
       "      <td>0</td>\n",
       "    </tr>\n",
       "  </tbody>\n",
       "</table>\n",
       "</div>"
      ],
      "text/plain": [
       "         99                                               name  \\\n",
       "0  0.004116  face1_sub_58/remoteimage2_20170509105919_53406...   \n",
       "1 -0.049566  face1_sub_59/tusaJDAyJDI0LzE2OTEzMjIwMzIvVEIyQ...   \n",
       "2  0.025333  face1_sub_57/n_v1bkujjd2lod2fr2mg2vya_cdebc1e0...   \n",
       "3 -0.045781  face1_sub_6/0df3d7ca7bcb0a46e39596cd6163f6246a...   \n",
       "4  0.042494                             face1_sub_6/1(188).jpg   \n",
       "\n",
       "                                           real_name  taobao  \n",
       "0              remoteimage2_20170509105919_53406.jpg       0  \n",
       "1  tusaJDAyJDI0LzE2OTEzMjIwMzIvVEIyQ01JLmRGJDZjbF...       0  \n",
       "2      n_v1bkujjd2lod2fr2mg2vya_cdebc1e04c8f0db9.jpg       0  \n",
       "3       0df3d7ca7bcb0a46e39596cd6163f6246a60af8a.jpg       0  \n",
       "4                                         1(188).jpg       0  "
      ]
     },
     "execution_count": 37,
     "metadata": {},
     "output_type": "execute_result"
    }
   ],
   "source": [
    "df.iloc[:5,-4:]"
   ]
  },
  {
   "cell_type": "code",
   "execution_count": 38,
   "metadata": {},
   "outputs": [
    {
     "data": {
      "text/plain": [
       "456811                               56d843585d7b3.jpg\n",
       "456810    622762d0f703918f6f805d3f5b3d269758eec4f6.jpg\n",
       "456809                52423dd10ffc1049.jpg!600x600.jpg\n",
       "456808                         5929402048403255325.jpg\n",
       "456807    5d6034a85edf8db1c797c1ec0323dd54574e74f8.jpg\n",
       "Name: real_name, dtype: object"
      ]
     },
     "execution_count": 38,
     "metadata": {},
     "output_type": "execute_result"
    }
   ],
   "source": [
    "df['real_name'][::-1].head()"
   ]
  },
  {
   "cell_type": "code",
   "execution_count": null,
   "metadata": {
    "collapsed": true
   },
   "outputs": [],
   "source": []
  }
 ],
 "metadata": {
  "kernelspec": {
   "display_name": "Python 2",
   "language": "python",
   "name": "python2"
  },
  "language_info": {
   "codemirror_mode": {
    "name": "ipython",
    "version": 2
   },
   "file_extension": ".py",
   "mimetype": "text/x-python",
   "name": "python",
   "nbconvert_exporter": "python",
   "pygments_lexer": "ipython2",
   "version": "2.7.13"
  }
 },
 "nbformat": 4,
 "nbformat_minor": 2
}
