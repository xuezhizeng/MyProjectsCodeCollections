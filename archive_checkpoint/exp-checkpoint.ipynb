{
 "cells": [
  {
   "cell_type": "code",
   "execution_count": 1,
   "metadata": {
    "collapsed": true
   },
   "outputs": [],
   "source": [
    "import pandas as pd"
   ]
  },
  {
   "cell_type": "code",
   "execution_count": 2,
   "metadata": {},
   "outputs": [
    {
     "data": {
      "text/plain": [
       "(10000, 2)"
      ]
     },
     "execution_count": 2,
     "metadata": {},
     "output_type": "execute_result"
    }
   ],
   "source": [
    "df=pd.read_csv('img_3.csv')\n",
    "df.shape"
   ]
  },
  {
   "cell_type": "code",
   "execution_count": 8,
   "metadata": {},
   "outputs": [
    {
     "data": {
      "text/html": [
       "<div>\n",
       "<style>\n",
       "    .dataframe thead tr:only-child th {\n",
       "        text-align: right;\n",
       "    }\n",
       "\n",
       "    .dataframe thead th {\n",
       "        text-align: left;\n",
       "    }\n",
       "\n",
       "    .dataframe tbody tr th {\n",
       "        vertical-align: top;\n",
       "    }\n",
       "</style>\n",
       "<table border=\"1\" class=\"dataframe\">\n",
       "  <thead>\n",
       "    <tr style=\"text-align: right;\">\n",
       "      <th></th>\n",
       "      <th>ID</th>\n",
       "      <th>URL</th>\n",
       "    </tr>\n",
       "  </thead>\n",
       "  <tbody>\n",
       "  </tbody>\n",
       "</table>\n",
       "</div>"
      ],
      "text/plain": [
       "Empty DataFrame\n",
       "Columns: [ID, URL]\n",
       "Index: []"
      ]
     },
     "execution_count": 8,
     "metadata": {},
     "output_type": "execute_result"
    }
   ],
   "source": [
    "df[df['URL'].str.startswith('http')!=True]"
   ]
  },
  {
   "cell_type": "code",
   "execution_count": 18,
   "metadata": {},
   "outputs": [
    {
     "data": {
      "text/plain": [
       "array([ 'http://img2.soyoung.com/tieba/android/20170102/9/20170102102736573_570.jpg'], dtype=object)"
      ]
     },
     "execution_count": 18,
     "metadata": {},
     "output_type": "execute_result"
    }
   ],
   "source": [
    "df[df['URL'].str.contains(\"/20170102/9/20170102102736573_570.jpg\")]['URL'].values"
   ]
  },
  {
   "cell_type": "code",
   "execution_count": 19,
   "metadata": {
    "collapsed": true
   },
   "outputs": [],
   "source": [
    "test= df[df['URL'].str.contains(\"/20170102/9/20170102102736573_570.jpg\")]"
   ]
  },
  {
   "cell_type": "code",
   "execution_count": 25,
   "metadata": {
    "collapsed": true
   },
   "outputs": [],
   "source": [
    "a=[]\n",
    "for i in test.itertuples():\n",
    "    a.append(str(i[1])+'__'+str(i[2]))"
   ]
  },
  {
   "cell_type": "code",
   "execution_count": 26,
   "metadata": {},
   "outputs": [
    {
     "data": {
      "text/plain": [
       "['612257__http://img2.soyoung.com/tieba/android/20170102/9/20170102102736573_570.jpg']"
      ]
     },
     "execution_count": 26,
     "metadata": {},
     "output_type": "execute_result"
    }
   ],
   "source": [
    "a"
   ]
  },
  {
   "cell_type": "code",
   "execution_count": 27,
   "metadata": {
    "collapsed": true
   },
   "outputs": [],
   "source": [
    "ID, url = a[0].split('__')"
   ]
  },
  {
   "cell_type": "code",
   "execution_count": 28,
   "metadata": {},
   "outputs": [
    {
     "data": {
      "text/plain": [
       "'612257'"
      ]
     },
     "execution_count": 28,
     "metadata": {},
     "output_type": "execute_result"
    }
   ],
   "source": [
    "ID"
   ]
  },
  {
   "cell_type": "code",
   "execution_count": 29,
   "metadata": {},
   "outputs": [
    {
     "data": {
      "text/plain": [
       "'http://img2.soyoung.com/tieba/android/20170102/9/20170102102736573_570.jpg'"
      ]
     },
     "execution_count": 29,
     "metadata": {},
     "output_type": "execute_result"
    }
   ],
   "source": [
    "url"
   ]
  },
  {
   "cell_type": "markdown",
   "metadata": {},
   "source": [
    "### -----"
   ]
  },
  {
   "cell_type": "code",
   "execution_count": 30,
   "metadata": {
    "collapsed": true
   },
   "outputs": [],
   "source": [
    "import os"
   ]
  },
  {
   "cell_type": "code",
   "execution_count": 32,
   "metadata": {},
   "outputs": [
    {
     "data": {
      "text/plain": [
       "7452"
      ]
     },
     "execution_count": 32,
     "metadata": {},
     "output_type": "execute_result"
    }
   ],
   "source": [
    "already = os.listdir('img_3')\n",
    "len(already)"
   ]
  },
  {
   "cell_type": "code",
   "execution_count": 33,
   "metadata": {},
   "outputs": [
    {
     "data": {
      "text/plain": [
       "(10000, 2)"
      ]
     },
     "execution_count": 33,
     "metadata": {},
     "output_type": "execute_result"
    }
   ],
   "source": [
    "will=pd.read_csv('img_3.csv')\n",
    "will.shape"
   ]
  },
  {
   "cell_type": "code",
   "execution_count": 35,
   "metadata": {},
   "outputs": [
    {
     "data": {
      "text/html": [
       "<div>\n",
       "<style>\n",
       "    .dataframe thead tr:only-child th {\n",
       "        text-align: right;\n",
       "    }\n",
       "\n",
       "    .dataframe thead th {\n",
       "        text-align: left;\n",
       "    }\n",
       "\n",
       "    .dataframe tbody tr th {\n",
       "        vertical-align: top;\n",
       "    }\n",
       "</style>\n",
       "<table border=\"1\" class=\"dataframe\">\n",
       "  <thead>\n",
       "    <tr style=\"text-align: right;\">\n",
       "      <th></th>\n",
       "      <th>ID</th>\n",
       "      <th>URL</th>\n",
       "    </tr>\n",
       "  </thead>\n",
       "  <tbody>\n",
       "    <tr>\n",
       "      <th>0</th>\n",
       "      <td>611451</td>\n",
       "      <td>http://img2.soyoung.com/tieba/ios/20170331/7/2...</td>\n",
       "    </tr>\n",
       "    <tr>\n",
       "      <th>1</th>\n",
       "      <td>611451</td>\n",
       "      <td>http://img2.soyoung.com/tieba/ios/20170331/5/2...</td>\n",
       "    </tr>\n",
       "    <tr>\n",
       "      <th>2</th>\n",
       "      <td>611451</td>\n",
       "      <td>http://img2.soyoung.com/tieba/ios/20170331/2/2...</td>\n",
       "    </tr>\n",
       "    <tr>\n",
       "      <th>3</th>\n",
       "      <td>611451</td>\n",
       "      <td>http://img2.soyoung.com/tieba/ios/20170331/0/2...</td>\n",
       "    </tr>\n",
       "    <tr>\n",
       "      <th>4</th>\n",
       "      <td>611451</td>\n",
       "      <td>http://img2.soyoung.com/tieba/ios/20170331/8/2...</td>\n",
       "    </tr>\n",
       "  </tbody>\n",
       "</table>\n",
       "</div>"
      ],
      "text/plain": [
       "       ID                                                URL\n",
       "0  611451  http://img2.soyoung.com/tieba/ios/20170331/7/2...\n",
       "1  611451  http://img2.soyoung.com/tieba/ios/20170331/5/2...\n",
       "2  611451  http://img2.soyoung.com/tieba/ios/20170331/2/2...\n",
       "3  611451  http://img2.soyoung.com/tieba/ios/20170331/0/2...\n",
       "4  611451  http://img2.soyoung.com/tieba/ios/20170331/8/2..."
      ]
     },
     "execution_count": 35,
     "metadata": {},
     "output_type": "execute_result"
    }
   ],
   "source": [
    "will.head()"
   ]
  },
  {
   "cell_type": "code",
   "execution_count": 55,
   "metadata": {},
   "outputs": [
    {
     "data": {
      "text/plain": [
       "0    20170331111126724_570.jpg\n",
       "1    20170331111128388_570.jpg\n",
       "2    20170331111128442_570.jpg\n",
       "Name: URL, dtype: object"
      ]
     },
     "execution_count": 55,
     "metadata": {},
     "output_type": "execute_result"
    }
   ],
   "source": [
    "will['URL'].apply(lambda x: x.split('/')[-1])[:3]"
   ]
  },
  {
   "cell_type": "code",
   "execution_count": 53,
   "metadata": {},
   "outputs": [
    {
     "data": {
      "text/plain": [
       "25.0"
      ]
     },
     "execution_count": 53,
     "metadata": {},
     "output_type": "execute_result"
    }
   ],
   "source": [
    "will['URL'].apply(lambda x: x.split('/')[-1]).str.len().mean()"
   ]
  },
  {
   "cell_type": "code",
   "execution_count": 60,
   "metadata": {},
   "outputs": [
    {
     "data": {
      "text/plain": [
       "0    20170331111126724\n",
       "1    20170331111128388\n",
       "2    20170331111128442\n",
       "Name: URL, dtype: object"
      ]
     },
     "execution_count": 60,
     "metadata": {},
     "output_type": "execute_result"
    }
   ],
   "source": [
    "will['URL'].apply(lambda x: x.split('/')[-1]).apply(lambda x: x.split('_')[0])[:3]"
   ]
  },
  {
   "cell_type": "code",
   "execution_count": 61,
   "metadata": {},
   "outputs": [
    {
     "data": {
      "text/plain": [
       "17.0"
      ]
     },
     "execution_count": 61,
     "metadata": {},
     "output_type": "execute_result"
    }
   ],
   "source": [
    "will['URL'].apply(lambda x: x.split('/')[-1]).apply(lambda x: x.split('_')[0]).str.len().mean()"
   ]
  },
  {
   "cell_type": "code",
   "execution_count": null,
   "metadata": {
    "collapsed": true
   },
   "outputs": [],
   "source": []
  },
  {
   "cell_type": "code",
   "execution_count": 73,
   "metadata": {},
   "outputs": [
    {
     "data": {
      "text/plain": [
       "(10000, 3)"
      ]
     },
     "execution_count": 73,
     "metadata": {},
     "output_type": "execute_result"
    }
   ],
   "source": [
    "will['parse']=will['URL'].apply(lambda x: x.split('/')[-1]).apply(lambda x: x.split('_')[0])\n",
    "will.shape"
   ]
  },
  {
   "cell_type": "code",
   "execution_count": 74,
   "metadata": {},
   "outputs": [
    {
     "data": {
      "text/html": [
       "<div>\n",
       "<style>\n",
       "    .dataframe thead tr:only-child th {\n",
       "        text-align: right;\n",
       "    }\n",
       "\n",
       "    .dataframe thead th {\n",
       "        text-align: left;\n",
       "    }\n",
       "\n",
       "    .dataframe tbody tr th {\n",
       "        vertical-align: top;\n",
       "    }\n",
       "</style>\n",
       "<table border=\"1\" class=\"dataframe\">\n",
       "  <thead>\n",
       "    <tr style=\"text-align: right;\">\n",
       "      <th></th>\n",
       "      <th>ID</th>\n",
       "      <th>URL</th>\n",
       "      <th>parse</th>\n",
       "    </tr>\n",
       "  </thead>\n",
       "  <tbody>\n",
       "    <tr>\n",
       "      <th>0</th>\n",
       "      <td>611451</td>\n",
       "      <td>http://img2.soyoung.com/tieba/ios/20170331/7/2...</td>\n",
       "      <td>20170331111126724</td>\n",
       "    </tr>\n",
       "    <tr>\n",
       "      <th>1</th>\n",
       "      <td>611451</td>\n",
       "      <td>http://img2.soyoung.com/tieba/ios/20170331/5/2...</td>\n",
       "      <td>20170331111128388</td>\n",
       "    </tr>\n",
       "    <tr>\n",
       "      <th>2</th>\n",
       "      <td>611451</td>\n",
       "      <td>http://img2.soyoung.com/tieba/ios/20170331/2/2...</td>\n",
       "      <td>20170331111128442</td>\n",
       "    </tr>\n",
       "    <tr>\n",
       "      <th>3</th>\n",
       "      <td>611451</td>\n",
       "      <td>http://img2.soyoung.com/tieba/ios/20170331/0/2...</td>\n",
       "      <td>20170331111127399</td>\n",
       "    </tr>\n",
       "    <tr>\n",
       "      <th>4</th>\n",
       "      <td>611451</td>\n",
       "      <td>http://img2.soyoung.com/tieba/ios/20170331/8/2...</td>\n",
       "      <td>20170331111129868</td>\n",
       "    </tr>\n",
       "  </tbody>\n",
       "</table>\n",
       "</div>"
      ],
      "text/plain": [
       "       ID                                                URL  \\\n",
       "0  611451  http://img2.soyoung.com/tieba/ios/20170331/7/2...   \n",
       "1  611451  http://img2.soyoung.com/tieba/ios/20170331/5/2...   \n",
       "2  611451  http://img2.soyoung.com/tieba/ios/20170331/2/2...   \n",
       "3  611451  http://img2.soyoung.com/tieba/ios/20170331/0/2...   \n",
       "4  611451  http://img2.soyoung.com/tieba/ios/20170331/8/2...   \n",
       "\n",
       "               parse  \n",
       "0  20170331111126724  \n",
       "1  20170331111128388  \n",
       "2  20170331111128442  \n",
       "3  20170331111127399  \n",
       "4  20170331111129868  "
      ]
     },
     "execution_count": 74,
     "metadata": {},
     "output_type": "execute_result"
    }
   ],
   "source": [
    "will.head()"
   ]
  },
  {
   "cell_type": "code",
   "execution_count": 64,
   "metadata": {},
   "outputs": [
    {
     "data": {
      "text/html": [
       "<div>\n",
       "<style>\n",
       "    .dataframe thead tr:only-child th {\n",
       "        text-align: right;\n",
       "    }\n",
       "\n",
       "    .dataframe thead th {\n",
       "        text-align: left;\n",
       "    }\n",
       "\n",
       "    .dataframe tbody tr th {\n",
       "        vertical-align: top;\n",
       "    }\n",
       "</style>\n",
       "<table border=\"1\" class=\"dataframe\">\n",
       "  <thead>\n",
       "    <tr style=\"text-align: right;\">\n",
       "      <th></th>\n",
       "      <th>url</th>\n",
       "    </tr>\n",
       "  </thead>\n",
       "  <tbody>\n",
       "    <tr>\n",
       "      <th>0</th>\n",
       "      <td>631946_ios20170601143711832.jpg</td>\n",
       "    </tr>\n",
       "    <tr>\n",
       "      <th>1</th>\n",
       "      <td>609485_web20170508132548945.jpg</td>\n",
       "    </tr>\n",
       "    <tr>\n",
       "      <th>2</th>\n",
       "      <td>611574_ios20161229151130159.jpg</td>\n",
       "    </tr>\n",
       "    <tr>\n",
       "      <th>3</th>\n",
       "      <td>632138_android20160923163738282.jpg</td>\n",
       "    </tr>\n",
       "    <tr>\n",
       "      <th>4</th>\n",
       "      <td>609785_ios20170403163102426.jpg</td>\n",
       "    </tr>\n",
       "  </tbody>\n",
       "</table>\n",
       "</div>"
      ],
      "text/plain": [
       "                                   url\n",
       "0      631946_ios20170601143711832.jpg\n",
       "1      609485_web20170508132548945.jpg\n",
       "2      611574_ios20161229151130159.jpg\n",
       "3  632138_android20160923163738282.jpg\n",
       "4      609785_ios20170403163102426.jpg"
      ]
     },
     "execution_count": 64,
     "metadata": {},
     "output_type": "execute_result"
    }
   ],
   "source": [
    "df = pd.DataFrame(already, columns=['url'])\n",
    "df.head()"
   ]
  },
  {
   "cell_type": "code",
   "execution_count": 80,
   "metadata": {},
   "outputs": [
    {
     "data": {
      "text/plain": [
       "0    20170601143711832\n",
       "1    20170508132548945\n",
       "2    20161229151130159\n",
       "3    20160923163738282\n",
       "4    20170403163102426\n",
       "5    20170324134447489\n",
       "6    20161012141938826\n",
       "Name: url, dtype: object"
      ]
     },
     "execution_count": 80,
     "metadata": {},
     "output_type": "execute_result"
    }
   ],
   "source": [
    "df['url'].apply(lambda x: x.split('_')[-1][:-4][-17:])[:7]"
   ]
  },
  {
   "cell_type": "code",
   "execution_count": 70,
   "metadata": {},
   "outputs": [
    {
     "data": {
      "text/plain": [
       "17.0"
      ]
     },
     "execution_count": 70,
     "metadata": {},
     "output_type": "execute_result"
    }
   ],
   "source": [
    "df['url'].apply(lambda x: x.split('_')[-1][:-4][-17:]).str.len().mean()"
   ]
  },
  {
   "cell_type": "code",
   "execution_count": 78,
   "metadata": {},
   "outputs": [
    {
     "data": {
      "text/plain": [
       "(7452, 2)"
      ]
     },
     "execution_count": 78,
     "metadata": {},
     "output_type": "execute_result"
    }
   ],
   "source": [
    "df['parse']=df['url'].apply(lambda x: x.split('_')[-1][:-4][-17:])\n",
    "df.shape"
   ]
  },
  {
   "cell_type": "code",
   "execution_count": 79,
   "metadata": {},
   "outputs": [
    {
     "data": {
      "text/html": [
       "<div>\n",
       "<style>\n",
       "    .dataframe thead tr:only-child th {\n",
       "        text-align: right;\n",
       "    }\n",
       "\n",
       "    .dataframe thead th {\n",
       "        text-align: left;\n",
       "    }\n",
       "\n",
       "    .dataframe tbody tr th {\n",
       "        vertical-align: top;\n",
       "    }\n",
       "</style>\n",
       "<table border=\"1\" class=\"dataframe\">\n",
       "  <thead>\n",
       "    <tr style=\"text-align: right;\">\n",
       "      <th></th>\n",
       "      <th>url</th>\n",
       "      <th>parse</th>\n",
       "    </tr>\n",
       "  </thead>\n",
       "  <tbody>\n",
       "    <tr>\n",
       "      <th>0</th>\n",
       "      <td>631946_ios20170601143711832.jpg</td>\n",
       "      <td>20170601143711832</td>\n",
       "    </tr>\n",
       "    <tr>\n",
       "      <th>1</th>\n",
       "      <td>609485_web20170508132548945.jpg</td>\n",
       "      <td>20170508132548945</td>\n",
       "    </tr>\n",
       "    <tr>\n",
       "      <th>2</th>\n",
       "      <td>611574_ios20161229151130159.jpg</td>\n",
       "      <td>20161229151130159</td>\n",
       "    </tr>\n",
       "    <tr>\n",
       "      <th>3</th>\n",
       "      <td>632138_android20160923163738282.jpg</td>\n",
       "      <td>20160923163738282</td>\n",
       "    </tr>\n",
       "    <tr>\n",
       "      <th>4</th>\n",
       "      <td>609785_ios20170403163102426.jpg</td>\n",
       "      <td>20170403163102426</td>\n",
       "    </tr>\n",
       "  </tbody>\n",
       "</table>\n",
       "</div>"
      ],
      "text/plain": [
       "                                   url              parse\n",
       "0      631946_ios20170601143711832.jpg  20170601143711832\n",
       "1      609485_web20170508132548945.jpg  20170508132548945\n",
       "2      611574_ios20161229151130159.jpg  20161229151130159\n",
       "3  632138_android20160923163738282.jpg  20160923163738282\n",
       "4      609785_ios20170403163102426.jpg  20170403163102426"
      ]
     },
     "execution_count": 79,
     "metadata": {},
     "output_type": "execute_result"
    }
   ],
   "source": [
    "df.head()"
   ]
  },
  {
   "cell_type": "code",
   "execution_count": 36,
   "metadata": {},
   "outputs": [
    {
     "name": "stdout",
     "output_type": "stream",
     "text": [
      "['__add__', '__class__', '__contains__', '__delattr__', '__doc__', '__eq__', '__format__', '__ge__', '__getattribute__', '__getitem__', '__getnewargs__', '__getslice__', '__gt__', '__hash__', '__init__', '__le__', '__len__', '__lt__', '__mod__', '__mul__', '__ne__', '__new__', '__reduce__', '__reduce_ex__', '__repr__', '__rmod__', '__rmul__', '__setattr__', '__sizeof__', '__str__', '__subclasshook__', '_formatter_field_name_split', '_formatter_parser', 'capitalize', 'center', 'count', 'decode', 'encode', 'endswith', 'expandtabs', 'find', 'format', 'index', 'isalnum', 'isalpha', 'isdigit', 'islower', 'isspace', 'istitle', 'isupper', 'join', 'ljust', 'lower', 'lstrip', 'partition', 'replace', 'rfind', 'rindex', 'rjust', 'rpartition', 'rsplit', 'rstrip', 'split', 'splitlines', 'startswith', 'strip', 'swapcase', 'title', 'translate', 'upper', 'zfill']\n"
     ]
    }
   ],
   "source": [
    "s=\"631946_ios20170601143711832.jpg\"\n",
    "print dir(s)"
   ]
  },
  {
   "cell_type": "code",
   "execution_count": 63,
   "metadata": {},
   "outputs": [
    {
     "data": {
      "text/plain": [
       "['631946', 'ios20170601143711832.jpg']"
      ]
     },
     "execution_count": 63,
     "metadata": {},
     "output_type": "execute_result"
    }
   ],
   "source": [
    "s.split('_')"
   ]
  },
  {
   "cell_type": "markdown",
   "metadata": {},
   "source": [
    "### join"
   ]
  },
  {
   "cell_type": "code",
   "execution_count": 84,
   "metadata": {},
   "outputs": [
    {
     "data": {
      "text/html": [
       "<div>\n",
       "<style>\n",
       "    .dataframe thead tr:only-child th {\n",
       "        text-align: right;\n",
       "    }\n",
       "\n",
       "    .dataframe thead th {\n",
       "        text-align: left;\n",
       "    }\n",
       "\n",
       "    .dataframe tbody tr th {\n",
       "        vertical-align: top;\n",
       "    }\n",
       "</style>\n",
       "<table border=\"1\" class=\"dataframe\">\n",
       "  <thead>\n",
       "    <tr style=\"text-align: right;\">\n",
       "      <th></th>\n",
       "      <th>url</th>\n",
       "      <th>parse</th>\n",
       "    </tr>\n",
       "  </thead>\n",
       "  <tbody>\n",
       "    <tr>\n",
       "      <th>0</th>\n",
       "      <td>631946_ios20170601143711832.jpg</td>\n",
       "      <td>20170601143711832</td>\n",
       "    </tr>\n",
       "    <tr>\n",
       "      <th>1</th>\n",
       "      <td>609485_web20170508132548945.jpg</td>\n",
       "      <td>20170508132548945</td>\n",
       "    </tr>\n",
       "    <tr>\n",
       "      <th>2</th>\n",
       "      <td>611574_ios20161229151130159.jpg</td>\n",
       "      <td>20161229151130159</td>\n",
       "    </tr>\n",
       "    <tr>\n",
       "      <th>3</th>\n",
       "      <td>632138_android20160923163738282.jpg</td>\n",
       "      <td>20160923163738282</td>\n",
       "    </tr>\n",
       "    <tr>\n",
       "      <th>4</th>\n",
       "      <td>609785_ios20170403163102426.jpg</td>\n",
       "      <td>20170403163102426</td>\n",
       "    </tr>\n",
       "  </tbody>\n",
       "</table>\n",
       "</div>"
      ],
      "text/plain": [
       "                                   url              parse\n",
       "0      631946_ios20170601143711832.jpg  20170601143711832\n",
       "1      609485_web20170508132548945.jpg  20170508132548945\n",
       "2      611574_ios20161229151130159.jpg  20161229151130159\n",
       "3  632138_android20160923163738282.jpg  20160923163738282\n",
       "4      609785_ios20170403163102426.jpg  20170403163102426"
      ]
     },
     "execution_count": 84,
     "metadata": {},
     "output_type": "execute_result"
    }
   ],
   "source": [
    "df.head()"
   ]
  },
  {
   "cell_type": "code",
   "execution_count": 86,
   "metadata": {},
   "outputs": [
    {
     "data": {
      "text/html": [
       "<div>\n",
       "<style>\n",
       "    .dataframe thead tr:only-child th {\n",
       "        text-align: right;\n",
       "    }\n",
       "\n",
       "    .dataframe thead th {\n",
       "        text-align: left;\n",
       "    }\n",
       "\n",
       "    .dataframe tbody tr th {\n",
       "        vertical-align: top;\n",
       "    }\n",
       "</style>\n",
       "<table border=\"1\" class=\"dataframe\">\n",
       "  <thead>\n",
       "    <tr style=\"text-align: right;\">\n",
       "      <th></th>\n",
       "      <th>ID</th>\n",
       "      <th>URL</th>\n",
       "      <th>parse</th>\n",
       "    </tr>\n",
       "  </thead>\n",
       "  <tbody>\n",
       "    <tr>\n",
       "      <th>0</th>\n",
       "      <td>611451</td>\n",
       "      <td>http://img2.soyoung.com/tieba/ios/20170331/7/2...</td>\n",
       "      <td>20170331111126724</td>\n",
       "    </tr>\n",
       "    <tr>\n",
       "      <th>1</th>\n",
       "      <td>611451</td>\n",
       "      <td>http://img2.soyoung.com/tieba/ios/20170331/5/2...</td>\n",
       "      <td>20170331111128388</td>\n",
       "    </tr>\n",
       "    <tr>\n",
       "      <th>2</th>\n",
       "      <td>611451</td>\n",
       "      <td>http://img2.soyoung.com/tieba/ios/20170331/2/2...</td>\n",
       "      <td>20170331111128442</td>\n",
       "    </tr>\n",
       "    <tr>\n",
       "      <th>3</th>\n",
       "      <td>611451</td>\n",
       "      <td>http://img2.soyoung.com/tieba/ios/20170331/0/2...</td>\n",
       "      <td>20170331111127399</td>\n",
       "    </tr>\n",
       "    <tr>\n",
       "      <th>4</th>\n",
       "      <td>611451</td>\n",
       "      <td>http://img2.soyoung.com/tieba/ios/20170331/8/2...</td>\n",
       "      <td>20170331111129868</td>\n",
       "    </tr>\n",
       "  </tbody>\n",
       "</table>\n",
       "</div>"
      ],
      "text/plain": [
       "       ID                                                URL  \\\n",
       "0  611451  http://img2.soyoung.com/tieba/ios/20170331/7/2...   \n",
       "1  611451  http://img2.soyoung.com/tieba/ios/20170331/5/2...   \n",
       "2  611451  http://img2.soyoung.com/tieba/ios/20170331/2/2...   \n",
       "3  611451  http://img2.soyoung.com/tieba/ios/20170331/0/2...   \n",
       "4  611451  http://img2.soyoung.com/tieba/ios/20170331/8/2...   \n",
       "\n",
       "               parse  \n",
       "0  20170331111126724  \n",
       "1  20170331111128388  \n",
       "2  20170331111128442  \n",
       "3  20170331111127399  \n",
       "4  20170331111129868  "
      ]
     },
     "execution_count": 86,
     "metadata": {},
     "output_type": "execute_result"
    }
   ],
   "source": [
    "will.head()"
   ]
  },
  {
   "cell_type": "code",
   "execution_count": 89,
   "metadata": {},
   "outputs": [
    {
     "data": {
      "text/plain": [
       "((7452, 2), (10000, 3))"
      ]
     },
     "execution_count": 89,
     "metadata": {},
     "output_type": "execute_result"
    }
   ],
   "source": [
    "df.shape, will.shape"
   ]
  },
  {
   "cell_type": "code",
   "execution_count": 88,
   "metadata": {},
   "outputs": [
    {
     "data": {
      "text/html": [
       "<div>\n",
       "<style>\n",
       "    .dataframe thead tr:only-child th {\n",
       "        text-align: right;\n",
       "    }\n",
       "\n",
       "    .dataframe thead th {\n",
       "        text-align: left;\n",
       "    }\n",
       "\n",
       "    .dataframe tbody tr th {\n",
       "        vertical-align: top;\n",
       "    }\n",
       "</style>\n",
       "<table border=\"1\" class=\"dataframe\">\n",
       "  <thead>\n",
       "    <tr style=\"text-align: right;\">\n",
       "      <th></th>\n",
       "      <th>ID</th>\n",
       "      <th>URL</th>\n",
       "      <th>url</th>\n",
       "    </tr>\n",
       "    <tr>\n",
       "      <th>parse</th>\n",
       "      <th></th>\n",
       "      <th></th>\n",
       "      <th></th>\n",
       "    </tr>\n",
       "  </thead>\n",
       "  <tbody>\n",
       "    <tr>\n",
       "      <th>20141103094647561</th>\n",
       "      <td>611674</td>\n",
       "      <td>http://img1.soyoung.com/tieba/android/20141103...</td>\n",
       "      <td>NaN</td>\n",
       "    </tr>\n",
       "    <tr>\n",
       "      <th>20141103094651170</th>\n",
       "      <td>611674</td>\n",
       "      <td>http://img1.soyoung.com/tieba/android/20141103...</td>\n",
       "      <td>NaN</td>\n",
       "    </tr>\n",
       "    <tr>\n",
       "      <th>20150213085631843</th>\n",
       "      <td>632089</td>\n",
       "      <td>http://img1.soyoung.com/tieba/android/20150213...</td>\n",
       "      <td>632089_android20150213085631843.jpg</td>\n",
       "    </tr>\n",
       "    <tr>\n",
       "      <th>20150213085643757</th>\n",
       "      <td>632089</td>\n",
       "      <td>http://img1.soyoung.com/tieba/android/20150213...</td>\n",
       "      <td>632089_android20150213085643757.jpg</td>\n",
       "    </tr>\n",
       "    <tr>\n",
       "      <th>20150213085645704</th>\n",
       "      <td>632089</td>\n",
       "      <td>http://img1.soyoung.com/tieba/android/20150213...</td>\n",
       "      <td>632089_android20150213085645704.jpg</td>\n",
       "    </tr>\n",
       "    <tr>\n",
       "      <th>20150213085648755</th>\n",
       "      <td>632089</td>\n",
       "      <td>http://img1.soyoung.com/tieba/android/20150213...</td>\n",
       "      <td>632089_android20150213085648755.jpg</td>\n",
       "    </tr>\n",
       "    <tr>\n",
       "      <th>20150213085651261</th>\n",
       "      <td>632089</td>\n",
       "      <td>http://img1.soyoung.com/tieba/android/20150213...</td>\n",
       "      <td>632089_android20150213085651261.jpg</td>\n",
       "    </tr>\n",
       "    <tr>\n",
       "      <th>20150626000507893</th>\n",
       "      <td>622194</td>\n",
       "      <td>http://img2.soyoung.com/tieba/ios/20150626/5/2...</td>\n",
       "      <td>622194_ios20150626000507893.jpg</td>\n",
       "    </tr>\n",
       "    <tr>\n",
       "      <th>20150626000509233</th>\n",
       "      <td>622194</td>\n",
       "      <td>http://img2.soyoung.com/tieba/ios/20150626/0/2...</td>\n",
       "      <td>622194_ios20150626000509233.jpg</td>\n",
       "    </tr>\n",
       "    <tr>\n",
       "      <th>20150626000512319</th>\n",
       "      <td>622194</td>\n",
       "      <td>http://img2.soyoung.com/tieba/ios/20150626/5/2...</td>\n",
       "      <td>622194_ios20150626000512319.jpg</td>\n",
       "    </tr>\n",
       "    <tr>\n",
       "      <th>20150629001242228</th>\n",
       "      <td>622193</td>\n",
       "      <td>http://img2.soyoung.com/tieba/ios/20150629/7/2...</td>\n",
       "      <td>622193_ios20150629001242228.jpg</td>\n",
       "    </tr>\n",
       "    <tr>\n",
       "      <th>20150629001244997</th>\n",
       "      <td>622193</td>\n",
       "      <td>http://img2.soyoung.com/tieba/ios/20150629/9/2...</td>\n",
       "      <td>622193_ios20150629001244997.jpg</td>\n",
       "    </tr>\n",
       "    <tr>\n",
       "      <th>20150629001247745</th>\n",
       "      <td>622193</td>\n",
       "      <td>http://img2.soyoung.com/tieba/ios/20150629/4/2...</td>\n",
       "      <td>622193_ios20150629001247745.jpg</td>\n",
       "    </tr>\n",
       "    <tr>\n",
       "      <th>20150629001249149</th>\n",
       "      <td>622193</td>\n",
       "      <td>http://img2.soyoung.com/tieba/ios/20150629/6/2...</td>\n",
       "      <td>622193_ios20150629001249149.jpg</td>\n",
       "    </tr>\n",
       "    <tr>\n",
       "      <th>20150630143727313</th>\n",
       "      <td>609419</td>\n",
       "      <td>http://img1.soyoung.com/tieba/web/20150630/9/2...</td>\n",
       "      <td>609419_web20150630143727313.jpg</td>\n",
       "    </tr>\n",
       "    <tr>\n",
       "      <th>20150630191231510</th>\n",
       "      <td>622192</td>\n",
       "      <td>http://img2.soyoung.com/tieba/ios/20150630/5/2...</td>\n",
       "      <td>622192_ios20150630191231510.jpg</td>\n",
       "    </tr>\n",
       "    <tr>\n",
       "      <th>20150630191235125</th>\n",
       "      <td>622192</td>\n",
       "      <td>http://img2.soyoung.com/tieba/ios/20150630/3/2...</td>\n",
       "      <td>622192_ios20150630191235125.jpg</td>\n",
       "    </tr>\n",
       "    <tr>\n",
       "      <th>20150630191238361</th>\n",
       "      <td>622192</td>\n",
       "      <td>http://img2.soyoung.com/tieba/ios/20150630/1/2...</td>\n",
       "      <td>622192_ios20150630191238361.jpg</td>\n",
       "    </tr>\n",
       "    <tr>\n",
       "      <th>20150630191242718</th>\n",
       "      <td>622192</td>\n",
       "      <td>http://img2.soyoung.com/tieba/ios/20150630/3/2...</td>\n",
       "      <td>622192_ios20150630191242718.jpg</td>\n",
       "    </tr>\n",
       "    <tr>\n",
       "      <th>20150630191244467</th>\n",
       "      <td>622192</td>\n",
       "      <td>http://img2.soyoung.com/tieba/ios/20150630/0/2...</td>\n",
       "      <td>622192_ios20150630191244467.jpg</td>\n",
       "    </tr>\n",
       "    <tr>\n",
       "      <th>20150630191247368</th>\n",
       "      <td>622192</td>\n",
       "      <td>http://img2.soyoung.com/tieba/ios/20150630/3/2...</td>\n",
       "      <td>622192_ios20150630191247368.jpg</td>\n",
       "    </tr>\n",
       "    <tr>\n",
       "      <th>20150704083255558</th>\n",
       "      <td>622191</td>\n",
       "      <td>http://img2.soyoung.com/tieba/ios/20150704/9/2...</td>\n",
       "      <td>622191_ios20150704083255558.jpg</td>\n",
       "    </tr>\n",
       "    <tr>\n",
       "      <th>20150704083301278</th>\n",
       "      <td>622191</td>\n",
       "      <td>http://img2.soyoung.com/tieba/ios/20150704/6/2...</td>\n",
       "      <td>622191_ios20150704083301278.jpg</td>\n",
       "    </tr>\n",
       "    <tr>\n",
       "      <th>20150708000759296</th>\n",
       "      <td>622190</td>\n",
       "      <td>http://img2.soyoung.com/tieba/ios/20150708/9/2...</td>\n",
       "      <td>622190_ios20150708000759296.jpg</td>\n",
       "    </tr>\n",
       "    <tr>\n",
       "      <th>20150708000802662</th>\n",
       "      <td>622190</td>\n",
       "      <td>http://img2.soyoung.com/tieba/ios/20150708/4/2...</td>\n",
       "      <td>622190_ios20150708000802662.jpg</td>\n",
       "    </tr>\n",
       "    <tr>\n",
       "      <th>20150708000804345</th>\n",
       "      <td>622190</td>\n",
       "      <td>http://img2.soyoung.com/tieba/ios/20150708/3/2...</td>\n",
       "      <td>622190_ios20150708000804345.jpg</td>\n",
       "    </tr>\n",
       "    <tr>\n",
       "      <th>20150708000807771</th>\n",
       "      <td>622190</td>\n",
       "      <td>http://img2.soyoung.com/tieba/ios/20150708/4/2...</td>\n",
       "      <td>622190_ios20150708000807771.jpg</td>\n",
       "    </tr>\n",
       "    <tr>\n",
       "      <th>20150709185028132</th>\n",
       "      <td>622189</td>\n",
       "      <td>http://img2.soyoung.com/tieba/ios/20150709/4/2...</td>\n",
       "      <td>622189_ios20150709185028132.jpg</td>\n",
       "    </tr>\n",
       "    <tr>\n",
       "      <th>20150711121749471</th>\n",
       "      <td>622188</td>\n",
       "      <td>http://img2.soyoung.com/tieba/ios/20150711/5/2...</td>\n",
       "      <td>622188_ios20150711121749471.jpg</td>\n",
       "    </tr>\n",
       "    <tr>\n",
       "      <th>20150711121749695</th>\n",
       "      <td>622188</td>\n",
       "      <td>http://img2.soyoung.com/tieba/ios/20150711/5/2...</td>\n",
       "      <td>622188_ios20150711121749695.jpg</td>\n",
       "    </tr>\n",
       "    <tr>\n",
       "      <th>...</th>\n",
       "      <td>...</td>\n",
       "      <td>...</td>\n",
       "      <td>...</td>\n",
       "    </tr>\n",
       "    <tr>\n",
       "      <th>20170619183356120</th>\n",
       "      <td>609425</td>\n",
       "      <td>http://img2.soyoung.com/tieba/ios/20170619/7/2...</td>\n",
       "      <td>NaN</td>\n",
       "    </tr>\n",
       "    <tr>\n",
       "      <th>20170619183356241</th>\n",
       "      <td>609425</td>\n",
       "      <td>http://img2.soyoung.com/tieba/ios/20170619/9/2...</td>\n",
       "      <td>NaN</td>\n",
       "    </tr>\n",
       "    <tr>\n",
       "      <th>20170619183357266</th>\n",
       "      <td>609425</td>\n",
       "      <td>http://img2.soyoung.com/tieba/ios/20170619/6/2...</td>\n",
       "      <td>NaN</td>\n",
       "    </tr>\n",
       "    <tr>\n",
       "      <th>20170620150527862</th>\n",
       "      <td>611656</td>\n",
       "      <td>http://img2.soyoung.com/tieba/web/20170620/2/2...</td>\n",
       "      <td>NaN</td>\n",
       "    </tr>\n",
       "    <tr>\n",
       "      <th>20170620150528757</th>\n",
       "      <td>611656</td>\n",
       "      <td>http://img2.soyoung.com/tieba/web/20170620/0/2...</td>\n",
       "      <td>NaN</td>\n",
       "    </tr>\n",
       "    <tr>\n",
       "      <th>20170620150529328</th>\n",
       "      <td>611656</td>\n",
       "      <td>http://img2.soyoung.com/tieba/web/20170620/4/2...</td>\n",
       "      <td>NaN</td>\n",
       "    </tr>\n",
       "    <tr>\n",
       "      <th>20170620150531353</th>\n",
       "      <td>611656</td>\n",
       "      <td>http://img2.soyoung.com/tieba/web/20170620/6/2...</td>\n",
       "      <td>NaN</td>\n",
       "    </tr>\n",
       "    <tr>\n",
       "      <th>20170620150532204</th>\n",
       "      <td>611656</td>\n",
       "      <td>http://img2.soyoung.com/tieba/web/20170620/3/2...</td>\n",
       "      <td>NaN</td>\n",
       "    </tr>\n",
       "    <tr>\n",
       "      <th>20170620150532854</th>\n",
       "      <td>611656</td>\n",
       "      <td>http://img2.soyoung.com/tieba/web/20170620/9/2...</td>\n",
       "      <td>NaN</td>\n",
       "    </tr>\n",
       "    <tr>\n",
       "      <th>20170620190142242</th>\n",
       "      <td>611629</td>\n",
       "      <td>http://img2.soyoung.com/tieba/ios/20170620/8/2...</td>\n",
       "      <td>NaN</td>\n",
       "    </tr>\n",
       "    <tr>\n",
       "      <th>20170620190142909</th>\n",
       "      <td>611629</td>\n",
       "      <td>http://img2.soyoung.com/tieba/ios/20170620/8/2...</td>\n",
       "      <td>NaN</td>\n",
       "    </tr>\n",
       "    <tr>\n",
       "      <th>20170620190142975</th>\n",
       "      <td>611629</td>\n",
       "      <td>http://img2.soyoung.com/tieba/ios/20170620/5/2...</td>\n",
       "      <td>NaN</td>\n",
       "    </tr>\n",
       "    <tr>\n",
       "      <th>20170620211618427</th>\n",
       "      <td>609774</td>\n",
       "      <td>http://img2.soyoung.com/tieba/ios/20170620/4/2...</td>\n",
       "      <td>609774_ios20170620211618427.jpg</td>\n",
       "    </tr>\n",
       "    <tr>\n",
       "      <th>20170620230509835</th>\n",
       "      <td>611687</td>\n",
       "      <td>http://img2.soyoung.com/tieba/web/20170620/7/2...</td>\n",
       "      <td>NaN</td>\n",
       "    </tr>\n",
       "    <tr>\n",
       "      <th>20170620230516578</th>\n",
       "      <td>611687</td>\n",
       "      <td>http://img2.soyoung.com/tieba/web/20170620/6/2...</td>\n",
       "      <td>NaN</td>\n",
       "    </tr>\n",
       "    <tr>\n",
       "      <th>20170620230523912</th>\n",
       "      <td>611687</td>\n",
       "      <td>http://img2.soyoung.com/tieba/web/20170620/1/2...</td>\n",
       "      <td>NaN</td>\n",
       "    </tr>\n",
       "    <tr>\n",
       "      <th>20170620230532528</th>\n",
       "      <td>611687</td>\n",
       "      <td>http://img2.soyoung.com/tieba/web/20170620/9/2...</td>\n",
       "      <td>NaN</td>\n",
       "    </tr>\n",
       "    <tr>\n",
       "      <th>20170620230538823</th>\n",
       "      <td>611687</td>\n",
       "      <td>http://img2.soyoung.com/tieba/web/20170620/2/2...</td>\n",
       "      <td>NaN</td>\n",
       "    </tr>\n",
       "    <tr>\n",
       "      <th>20170620230551399</th>\n",
       "      <td>611687</td>\n",
       "      <td>http://img2.soyoung.com/tieba/web/20170620/1/2...</td>\n",
       "      <td>NaN</td>\n",
       "    </tr>\n",
       "    <tr>\n",
       "      <th>20170620230557100</th>\n",
       "      <td>611687</td>\n",
       "      <td>http://img2.soyoung.com/tieba/web/20170620/5/2...</td>\n",
       "      <td>NaN</td>\n",
       "    </tr>\n",
       "    <tr>\n",
       "      <th>20170620230604139</th>\n",
       "      <td>611687</td>\n",
       "      <td>http://img2.soyoung.com/tieba/web/20170620/8/2...</td>\n",
       "      <td>NaN</td>\n",
       "    </tr>\n",
       "    <tr>\n",
       "      <th>20170620233929103</th>\n",
       "      <td>611686</td>\n",
       "      <td>http://img2.soyoung.com/tieba/ios/20170620/9/2...</td>\n",
       "      <td>611686_ios20170620233929103.jpg</td>\n",
       "    </tr>\n",
       "    <tr>\n",
       "      <th>20170620233929820</th>\n",
       "      <td>611686</td>\n",
       "      <td>http://img2.soyoung.com/tieba/ios/20170620/2/2...</td>\n",
       "      <td>NaN</td>\n",
       "    </tr>\n",
       "    <tr>\n",
       "      <th>20170620233930269</th>\n",
       "      <td>611686</td>\n",
       "      <td>http://img2.soyoung.com/tieba/ios/20170620/8/2...</td>\n",
       "      <td>NaN</td>\n",
       "    </tr>\n",
       "    <tr>\n",
       "      <th>20170620233930683</th>\n",
       "      <td>611686</td>\n",
       "      <td>http://img2.soyoung.com/tieba/ios/20170620/4/2...</td>\n",
       "      <td>NaN</td>\n",
       "    </tr>\n",
       "    <tr>\n",
       "      <th>20170620233931866</th>\n",
       "      <td>611686</td>\n",
       "      <td>http://img2.soyoung.com/tieba/ios/20170620/6/2...</td>\n",
       "      <td>NaN</td>\n",
       "    </tr>\n",
       "    <tr>\n",
       "      <th>20170620233931950</th>\n",
       "      <td>611686</td>\n",
       "      <td>http://img2.soyoung.com/tieba/ios/20170620/8/2...</td>\n",
       "      <td>NaN</td>\n",
       "    </tr>\n",
       "    <tr>\n",
       "      <th>20170620233931985</th>\n",
       "      <td>611686</td>\n",
       "      <td>http://img2.soyoung.com/tieba/ios/20170620/8/2...</td>\n",
       "      <td>NaN</td>\n",
       "    </tr>\n",
       "    <tr>\n",
       "      <th>20170620233932723</th>\n",
       "      <td>611686</td>\n",
       "      <td>http://img2.soyoung.com/tieba/ios/20170620/0/2...</td>\n",
       "      <td>NaN</td>\n",
       "    </tr>\n",
       "    <tr>\n",
       "      <th>20170620233932899</th>\n",
       "      <td>611686</td>\n",
       "      <td>http://img2.soyoung.com/tieba/ios/20170620/8/2...</td>\n",
       "      <td>NaN</td>\n",
       "    </tr>\n",
       "  </tbody>\n",
       "</table>\n",
       "<p>10000 rows × 3 columns</p>\n",
       "</div>"
      ],
      "text/plain": [
       "                       ID                                                URL  \\\n",
       "parse                                                                          \n",
       "20141103094647561  611674  http://img1.soyoung.com/tieba/android/20141103...   \n",
       "20141103094651170  611674  http://img1.soyoung.com/tieba/android/20141103...   \n",
       "20150213085631843  632089  http://img1.soyoung.com/tieba/android/20150213...   \n",
       "20150213085643757  632089  http://img1.soyoung.com/tieba/android/20150213...   \n",
       "20150213085645704  632089  http://img1.soyoung.com/tieba/android/20150213...   \n",
       "20150213085648755  632089  http://img1.soyoung.com/tieba/android/20150213...   \n",
       "20150213085651261  632089  http://img1.soyoung.com/tieba/android/20150213...   \n",
       "20150626000507893  622194  http://img2.soyoung.com/tieba/ios/20150626/5/2...   \n",
       "20150626000509233  622194  http://img2.soyoung.com/tieba/ios/20150626/0/2...   \n",
       "20150626000512319  622194  http://img2.soyoung.com/tieba/ios/20150626/5/2...   \n",
       "20150629001242228  622193  http://img2.soyoung.com/tieba/ios/20150629/7/2...   \n",
       "20150629001244997  622193  http://img2.soyoung.com/tieba/ios/20150629/9/2...   \n",
       "20150629001247745  622193  http://img2.soyoung.com/tieba/ios/20150629/4/2...   \n",
       "20150629001249149  622193  http://img2.soyoung.com/tieba/ios/20150629/6/2...   \n",
       "20150630143727313  609419  http://img1.soyoung.com/tieba/web/20150630/9/2...   \n",
       "20150630191231510  622192  http://img2.soyoung.com/tieba/ios/20150630/5/2...   \n",
       "20150630191235125  622192  http://img2.soyoung.com/tieba/ios/20150630/3/2...   \n",
       "20150630191238361  622192  http://img2.soyoung.com/tieba/ios/20150630/1/2...   \n",
       "20150630191242718  622192  http://img2.soyoung.com/tieba/ios/20150630/3/2...   \n",
       "20150630191244467  622192  http://img2.soyoung.com/tieba/ios/20150630/0/2...   \n",
       "20150630191247368  622192  http://img2.soyoung.com/tieba/ios/20150630/3/2...   \n",
       "20150704083255558  622191  http://img2.soyoung.com/tieba/ios/20150704/9/2...   \n",
       "20150704083301278  622191  http://img2.soyoung.com/tieba/ios/20150704/6/2...   \n",
       "20150708000759296  622190  http://img2.soyoung.com/tieba/ios/20150708/9/2...   \n",
       "20150708000802662  622190  http://img2.soyoung.com/tieba/ios/20150708/4/2...   \n",
       "20150708000804345  622190  http://img2.soyoung.com/tieba/ios/20150708/3/2...   \n",
       "20150708000807771  622190  http://img2.soyoung.com/tieba/ios/20150708/4/2...   \n",
       "20150709185028132  622189  http://img2.soyoung.com/tieba/ios/20150709/4/2...   \n",
       "20150711121749471  622188  http://img2.soyoung.com/tieba/ios/20150711/5/2...   \n",
       "20150711121749695  622188  http://img2.soyoung.com/tieba/ios/20150711/5/2...   \n",
       "...                   ...                                                ...   \n",
       "20170619183356120  609425  http://img2.soyoung.com/tieba/ios/20170619/7/2...   \n",
       "20170619183356241  609425  http://img2.soyoung.com/tieba/ios/20170619/9/2...   \n",
       "20170619183357266  609425  http://img2.soyoung.com/tieba/ios/20170619/6/2...   \n",
       "20170620150527862  611656  http://img2.soyoung.com/tieba/web/20170620/2/2...   \n",
       "20170620150528757  611656  http://img2.soyoung.com/tieba/web/20170620/0/2...   \n",
       "20170620150529328  611656  http://img2.soyoung.com/tieba/web/20170620/4/2...   \n",
       "20170620150531353  611656  http://img2.soyoung.com/tieba/web/20170620/6/2...   \n",
       "20170620150532204  611656  http://img2.soyoung.com/tieba/web/20170620/3/2...   \n",
       "20170620150532854  611656  http://img2.soyoung.com/tieba/web/20170620/9/2...   \n",
       "20170620190142242  611629  http://img2.soyoung.com/tieba/ios/20170620/8/2...   \n",
       "20170620190142909  611629  http://img2.soyoung.com/tieba/ios/20170620/8/2...   \n",
       "20170620190142975  611629  http://img2.soyoung.com/tieba/ios/20170620/5/2...   \n",
       "20170620211618427  609774  http://img2.soyoung.com/tieba/ios/20170620/4/2...   \n",
       "20170620230509835  611687  http://img2.soyoung.com/tieba/web/20170620/7/2...   \n",
       "20170620230516578  611687  http://img2.soyoung.com/tieba/web/20170620/6/2...   \n",
       "20170620230523912  611687  http://img2.soyoung.com/tieba/web/20170620/1/2...   \n",
       "20170620230532528  611687  http://img2.soyoung.com/tieba/web/20170620/9/2...   \n",
       "20170620230538823  611687  http://img2.soyoung.com/tieba/web/20170620/2/2...   \n",
       "20170620230551399  611687  http://img2.soyoung.com/tieba/web/20170620/1/2...   \n",
       "20170620230557100  611687  http://img2.soyoung.com/tieba/web/20170620/5/2...   \n",
       "20170620230604139  611687  http://img2.soyoung.com/tieba/web/20170620/8/2...   \n",
       "20170620233929103  611686  http://img2.soyoung.com/tieba/ios/20170620/9/2...   \n",
       "20170620233929820  611686  http://img2.soyoung.com/tieba/ios/20170620/2/2...   \n",
       "20170620233930269  611686  http://img2.soyoung.com/tieba/ios/20170620/8/2...   \n",
       "20170620233930683  611686  http://img2.soyoung.com/tieba/ios/20170620/4/2...   \n",
       "20170620233931866  611686  http://img2.soyoung.com/tieba/ios/20170620/6/2...   \n",
       "20170620233931950  611686  http://img2.soyoung.com/tieba/ios/20170620/8/2...   \n",
       "20170620233931985  611686  http://img2.soyoung.com/tieba/ios/20170620/8/2...   \n",
       "20170620233932723  611686  http://img2.soyoung.com/tieba/ios/20170620/0/2...   \n",
       "20170620233932899  611686  http://img2.soyoung.com/tieba/ios/20170620/8/2...   \n",
       "\n",
       "                                                   url  \n",
       "parse                                                   \n",
       "20141103094647561                                  NaN  \n",
       "20141103094651170                                  NaN  \n",
       "20150213085631843  632089_android20150213085631843.jpg  \n",
       "20150213085643757  632089_android20150213085643757.jpg  \n",
       "20150213085645704  632089_android20150213085645704.jpg  \n",
       "20150213085648755  632089_android20150213085648755.jpg  \n",
       "20150213085651261  632089_android20150213085651261.jpg  \n",
       "20150626000507893      622194_ios20150626000507893.jpg  \n",
       "20150626000509233      622194_ios20150626000509233.jpg  \n",
       "20150626000512319      622194_ios20150626000512319.jpg  \n",
       "20150629001242228      622193_ios20150629001242228.jpg  \n",
       "20150629001244997      622193_ios20150629001244997.jpg  \n",
       "20150629001247745      622193_ios20150629001247745.jpg  \n",
       "20150629001249149      622193_ios20150629001249149.jpg  \n",
       "20150630143727313      609419_web20150630143727313.jpg  \n",
       "20150630191231510      622192_ios20150630191231510.jpg  \n",
       "20150630191235125      622192_ios20150630191235125.jpg  \n",
       "20150630191238361      622192_ios20150630191238361.jpg  \n",
       "20150630191242718      622192_ios20150630191242718.jpg  \n",
       "20150630191244467      622192_ios20150630191244467.jpg  \n",
       "20150630191247368      622192_ios20150630191247368.jpg  \n",
       "20150704083255558      622191_ios20150704083255558.jpg  \n",
       "20150704083301278      622191_ios20150704083301278.jpg  \n",
       "20150708000759296      622190_ios20150708000759296.jpg  \n",
       "20150708000802662      622190_ios20150708000802662.jpg  \n",
       "20150708000804345      622190_ios20150708000804345.jpg  \n",
       "20150708000807771      622190_ios20150708000807771.jpg  \n",
       "20150709185028132      622189_ios20150709185028132.jpg  \n",
       "20150711121749471      622188_ios20150711121749471.jpg  \n",
       "20150711121749695      622188_ios20150711121749695.jpg  \n",
       "...                                                ...  \n",
       "20170619183356120                                  NaN  \n",
       "20170619183356241                                  NaN  \n",
       "20170619183357266                                  NaN  \n",
       "20170620150527862                                  NaN  \n",
       "20170620150528757                                  NaN  \n",
       "20170620150529328                                  NaN  \n",
       "20170620150531353                                  NaN  \n",
       "20170620150532204                                  NaN  \n",
       "20170620150532854                                  NaN  \n",
       "20170620190142242                                  NaN  \n",
       "20170620190142909                                  NaN  \n",
       "20170620190142975                                  NaN  \n",
       "20170620211618427      609774_ios20170620211618427.jpg  \n",
       "20170620230509835                                  NaN  \n",
       "20170620230516578                                  NaN  \n",
       "20170620230523912                                  NaN  \n",
       "20170620230532528                                  NaN  \n",
       "20170620230538823                                  NaN  \n",
       "20170620230551399                                  NaN  \n",
       "20170620230557100                                  NaN  \n",
       "20170620230604139                                  NaN  \n",
       "20170620233929103      611686_ios20170620233929103.jpg  \n",
       "20170620233929820                                  NaN  \n",
       "20170620233930269                                  NaN  \n",
       "20170620233930683                                  NaN  \n",
       "20170620233931866                                  NaN  \n",
       "20170620233931950                                  NaN  \n",
       "20170620233931985                                  NaN  \n",
       "20170620233932723                                  NaN  \n",
       "20170620233932899                                  NaN  \n",
       "\n",
       "[10000 rows x 3 columns]"
      ]
     },
     "execution_count": 88,
     "metadata": {},
     "output_type": "execute_result"
    }
   ],
   "source": [
    "will.set_index('parse').join(df.set_index('parse'))\n"
   ]
  },
  {
   "cell_type": "code",
   "execution_count": 117,
   "metadata": {
    "collapsed": true
   },
   "outputs": [],
   "source": [
    "joind=will.set_index('parse').join(df.set_index('parse'))"
   ]
  },
  {
   "cell_type": "code",
   "execution_count": 120,
   "metadata": {},
   "outputs": [
    {
     "data": {
      "text/plain": [
       "(2545, 3)"
      ]
     },
     "execution_count": 120,
     "metadata": {},
     "output_type": "execute_result"
    }
   ],
   "source": [
    "joind[joind['url'].isnull()].shape"
   ]
  },
  {
   "cell_type": "code",
   "execution_count": 127,
   "metadata": {},
   "outputs": [
    {
     "data": {
      "text/html": [
       "<div>\n",
       "<style>\n",
       "    .dataframe thead tr:only-child th {\n",
       "        text-align: right;\n",
       "    }\n",
       "\n",
       "    .dataframe thead th {\n",
       "        text-align: left;\n",
       "    }\n",
       "\n",
       "    .dataframe tbody tr th {\n",
       "        vertical-align: top;\n",
       "    }\n",
       "</style>\n",
       "<table border=\"1\" class=\"dataframe\">\n",
       "  <thead>\n",
       "    <tr style=\"text-align: right;\">\n",
       "      <th></th>\n",
       "      <th>ID</th>\n",
       "      <th>URL</th>\n",
       "    </tr>\n",
       "    <tr>\n",
       "      <th>parse</th>\n",
       "      <th></th>\n",
       "      <th></th>\n",
       "    </tr>\n",
       "  </thead>\n",
       "  <tbody>\n",
       "    <tr>\n",
       "      <th>20141103094647561</th>\n",
       "      <td>611674</td>\n",
       "      <td>http://img1.soyoung.com/tieba/android/20141103...</td>\n",
       "    </tr>\n",
       "    <tr>\n",
       "      <th>20141103094651170</th>\n",
       "      <td>611674</td>\n",
       "      <td>http://img1.soyoung.com/tieba/android/20141103...</td>\n",
       "    </tr>\n",
       "    <tr>\n",
       "      <th>20150822183200896</th>\n",
       "      <td>621780</td>\n",
       "      <td>http://img2.soyoung.com/tieba/android/20150822...</td>\n",
       "    </tr>\n",
       "    <tr>\n",
       "      <th>20150920185653265</th>\n",
       "      <td>621779</td>\n",
       "      <td>http://img2.soyoung.com/tieba/android/20150920...</td>\n",
       "    </tr>\n",
       "    <tr>\n",
       "      <th>20151014101752122</th>\n",
       "      <td>609189</td>\n",
       "      <td>http://img2.soyoung.com/tieba/web/20151014/7/2...</td>\n",
       "    </tr>\n",
       "  </tbody>\n",
       "</table>\n",
       "</div>"
      ],
      "text/plain": [
       "                       ID                                                URL\n",
       "parse                                                                       \n",
       "20141103094647561  611674  http://img1.soyoung.com/tieba/android/20141103...\n",
       "20141103094651170  611674  http://img1.soyoung.com/tieba/android/20141103...\n",
       "20150822183200896  621780  http://img2.soyoung.com/tieba/android/20150822...\n",
       "20150920185653265  621779  http://img2.soyoung.com/tieba/android/20150920...\n",
       "20151014101752122  609189  http://img2.soyoung.com/tieba/web/20151014/7/2..."
      ]
     },
     "execution_count": 127,
     "metadata": {},
     "output_type": "execute_result"
    }
   ],
   "source": []
  },
  {
   "cell_type": "code",
   "execution_count": 131,
   "metadata": {},
   "outputs": [
    {
     "name": "stdout",
     "output_type": "stream",
     "text": [
      "Pandas(Index='20141103094647561', ID=611674, URL='http://img1.soyoung.com/tieba/android/20141103/6/20141103094647561_570.jpg') 20141103094647561 611674 http://img1.soyoung.com/tieba/android/20141103/6/20141103094647561_570.jpg\n"
     ]
    }
   ],
   "source": [
    "for i in joind[joind['url'].isnull()][['ID','URL']].itertuples():\n",
    "    print i, i[0], i[1], i[2]\n",
    "    break"
   ]
  },
  {
   "cell_type": "code",
   "execution_count": 136,
   "metadata": {},
   "outputs": [
    {
     "data": {
      "text/plain": [
       "['631946_ios20170601143711832.jpg',\n",
       " '609485_web20170508132548945.jpg',\n",
       " '611574_ios20161229151130159.jpg']"
      ]
     },
     "execution_count": 136,
     "metadata": {},
     "output_type": "execute_result"
    }
   ],
   "source": [
    "os.listdir('./img_'+str(3))[:3]"
   ]
  },
  {
   "cell_type": "code",
   "execution_count": null,
   "metadata": {
    "collapsed": true
   },
   "outputs": [],
   "source": []
  },
  {
   "cell_type": "code",
   "execution_count": 1,
   "metadata": {},
   "outputs": [
    {
     "name": "stdout",
     "output_type": "stream",
     "text": [
      "11.2.0.2.0\n"
     ]
    }
   ],
   "source": [
    "import pandas as pd\n",
    "import cx_Oracle\n",
    "\n",
    "\n",
    "\n",
    "db=cx_Oracle.connect(\"soyoung\", \"soyoung\", \"my.uconn.science:1521/xe\")\n",
    "print db.version\n",
    "conn=db.cursor()"
   ]
  },
  {
   "cell_type": "code",
   "execution_count": 2,
   "metadata": {
    "collapsed": true
   },
   "outputs": [],
   "source": [
    "df=pd.read_sql?"
   ]
  },
  {
   "cell_type": "code",
   "execution_count": 3,
   "metadata": {},
   "outputs": [
    {
     "data": {
      "text/plain": [
       "(488262, 4)"
      ]
     },
     "execution_count": 3,
     "metadata": {},
     "output_type": "execute_result"
    }
   ],
   "source": [
    "df=pd.read_sql(\"select * from single\", db)\n",
    "df.shape"
   ]
  },
  {
   "cell_type": "code",
   "execution_count": 4,
   "metadata": {},
   "outputs": [
    {
     "data": {
      "text/html": [
       "<div>\n",
       "<style>\n",
       "    .dataframe thead tr:only-child th {\n",
       "        text-align: right;\n",
       "    }\n",
       "\n",
       "    .dataframe thead th {\n",
       "        text-align: left;\n",
       "    }\n",
       "\n",
       "    .dataframe tbody tr th {\n",
       "        vertical-align: top;\n",
       "    }\n",
       "</style>\n",
       "<table border=\"1\" class=\"dataframe\">\n",
       "  <thead>\n",
       "    <tr style=\"text-align: right;\">\n",
       "      <th></th>\n",
       "      <th>ID</th>\n",
       "      <th>URL</th>\n",
       "      <th>GET_TIME</th>\n",
       "      <th>ELLIPSE</th>\n",
       "    </tr>\n",
       "  </thead>\n",
       "  <tbody>\n",
       "    <tr>\n",
       "      <th>0</th>\n",
       "      <td>607847</td>\n",
       "      <td>http://img2.soyoung.com/tieba/ios/20160316/4/2...</td>\n",
       "      <td>Aug 30 19:19:24 2017</td>\n",
       "      <td>19.78</td>\n",
       "    </tr>\n",
       "    <tr>\n",
       "      <th>1</th>\n",
       "      <td>607847</td>\n",
       "      <td>http://img2.soyoung.com/tieba/ios/20160316/8/2...</td>\n",
       "      <td>Aug 30 19:19:24 2017</td>\n",
       "      <td>19.78</td>\n",
       "    </tr>\n",
       "    <tr>\n",
       "      <th>2</th>\n",
       "      <td>607849</td>\n",
       "      <td>http://img2.soyoung.com/tieba/ios/20160310/0/2...</td>\n",
       "      <td>Aug 30 19:19:24 2017</td>\n",
       "      <td>19.78</td>\n",
       "    </tr>\n",
       "    <tr>\n",
       "      <th>3</th>\n",
       "      <td>607849</td>\n",
       "      <td>http://img2.soyoung.com/tieba/ios/20160310/2/2...</td>\n",
       "      <td>Aug 30 19:19:24 2017</td>\n",
       "      <td>19.78</td>\n",
       "    </tr>\n",
       "    <tr>\n",
       "      <th>4</th>\n",
       "      <td>607850</td>\n",
       "      <td>http://img2.soyoung.com/tieba/ios/20160309/1/2...</td>\n",
       "      <td>Aug 30 19:19:24 2017</td>\n",
       "      <td>19.78</td>\n",
       "    </tr>\n",
       "  </tbody>\n",
       "</table>\n",
       "</div>"
      ],
      "text/plain": [
       "       ID                                                URL  \\\n",
       "0  607847  http://img2.soyoung.com/tieba/ios/20160316/4/2...   \n",
       "1  607847  http://img2.soyoung.com/tieba/ios/20160316/8/2...   \n",
       "2  607849  http://img2.soyoung.com/tieba/ios/20160310/0/2...   \n",
       "3  607849  http://img2.soyoung.com/tieba/ios/20160310/2/2...   \n",
       "4  607850  http://img2.soyoung.com/tieba/ios/20160309/1/2...   \n",
       "\n",
       "               GET_TIME  ELLIPSE  \n",
       "0  Aug 30 19:19:24 2017    19.78  \n",
       "1  Aug 30 19:19:24 2017    19.78  \n",
       "2  Aug 30 19:19:24 2017    19.78  \n",
       "3  Aug 30 19:19:24 2017    19.78  \n",
       "4  Aug 30 19:19:24 2017    19.78  "
      ]
     },
     "execution_count": 4,
     "metadata": {},
     "output_type": "execute_result"
    }
   ],
   "source": [
    "df.head()"
   ]
  },
  {
   "cell_type": "code",
   "execution_count": 7,
   "metadata": {},
   "outputs": [
    {
     "data": {
      "text/plain": [
       "(10000, 2)"
      ]
     },
     "execution_count": 7,
     "metadata": {},
     "output_type": "execute_result"
    }
   ],
   "source": [
    "p = df.iloc[230000:240000,:][['ID','URL']]\n",
    "p.shape"
   ]
  },
  {
   "cell_type": "code",
   "execution_count": 9,
   "metadata": {},
   "outputs": [
    {
     "data": {
      "text/html": [
       "<div>\n",
       "<style>\n",
       "    .dataframe thead tr:only-child th {\n",
       "        text-align: right;\n",
       "    }\n",
       "\n",
       "    .dataframe thead th {\n",
       "        text-align: left;\n",
       "    }\n",
       "\n",
       "    .dataframe tbody tr th {\n",
       "        vertical-align: top;\n",
       "    }\n",
       "</style>\n",
       "<table border=\"1\" class=\"dataframe\">\n",
       "  <thead>\n",
       "    <tr style=\"text-align: right;\">\n",
       "      <th></th>\n",
       "      <th>ID</th>\n",
       "      <th>URL</th>\n",
       "    </tr>\n",
       "  </thead>\n",
       "  <tbody>\n",
       "    <tr>\n",
       "      <th>239995</th>\n",
       "      <td>680084</td>\n",
       "      <td>http://img2.soyoung.com/tieba/ios/20160723/7/2...</td>\n",
       "    </tr>\n",
       "    <tr>\n",
       "      <th>239996</th>\n",
       "      <td>680084</td>\n",
       "      <td>http://img2.soyoung.com/tieba/ios/20160723/8/2...</td>\n",
       "    </tr>\n",
       "    <tr>\n",
       "      <th>239997</th>\n",
       "      <td>680084</td>\n",
       "      <td>http://img2.soyoung.com/tieba/ios/20160723/0/2...</td>\n",
       "    </tr>\n",
       "    <tr>\n",
       "      <th>239998</th>\n",
       "      <td>680084</td>\n",
       "      <td>http://img2.soyoung.com/tieba/ios/20160723/4/2...</td>\n",
       "    </tr>\n",
       "    <tr>\n",
       "      <th>239999</th>\n",
       "      <td>680084</td>\n",
       "      <td>http://img2.soyoung.com/tieba/ios/20160723/0/2...</td>\n",
       "    </tr>\n",
       "  </tbody>\n",
       "</table>\n",
       "</div>"
      ],
      "text/plain": [
       "            ID                                                URL\n",
       "239995  680084  http://img2.soyoung.com/tieba/ios/20160723/7/2...\n",
       "239996  680084  http://img2.soyoung.com/tieba/ios/20160723/8/2...\n",
       "239997  680084  http://img2.soyoung.com/tieba/ios/20160723/0/2...\n",
       "239998  680084  http://img2.soyoung.com/tieba/ios/20160723/4/2...\n",
       "239999  680084  http://img2.soyoung.com/tieba/ios/20160723/0/2..."
      ]
     },
     "execution_count": 9,
     "metadata": {},
     "output_type": "execute_result"
    }
   ],
   "source": [
    "p.tail()"
   ]
  },
  {
   "cell_type": "code",
   "execution_count": 10,
   "metadata": {
    "collapsed": true
   },
   "outputs": [],
   "source": [
    "p.to_csv('img_24.csv', index=False)"
   ]
  },
  {
   "cell_type": "code",
   "execution_count": null,
   "metadata": {
    "collapsed": true
   },
   "outputs": [],
   "source": []
  }
 ],
 "metadata": {
  "kernelspec": {
   "display_name": "Python 2",
   "language": "python",
   "name": "python2"
  },
  "language_info": {
   "codemirror_mode": {
    "name": "ipython",
    "version": 2
   },
   "file_extension": ".py",
   "mimetype": "text/x-python",
   "name": "python",
   "nbconvert_exporter": "python",
   "pygments_lexer": "ipython2",
   "version": "2.7.13"
  }
 },
 "nbformat": 4,
 "nbformat_minor": 2
}
