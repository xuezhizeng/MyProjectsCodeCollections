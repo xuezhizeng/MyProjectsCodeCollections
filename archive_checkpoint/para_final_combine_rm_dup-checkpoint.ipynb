{
 "cells": [
  {
   "cell_type": "code",
   "execution_count": 1,
   "metadata": {
    "collapsed": true
   },
   "outputs": [],
   "source": [
    "import pandas as pd\n",
    "import os\n",
    "data = [i for i in os.listdir('.') if i.find('csv')>0]"
   ]
  },
  {
   "cell_type": "code",
   "execution_count": 2,
   "metadata": {},
   "outputs": [
    {
     "name": "stdout",
     "output_type": "stream",
     "text": [
      "para_face1.csv\n",
      "para_face2.csv\n",
      "27_Oct_31W.csv\n"
     ]
    }
   ],
   "source": [
    "for i in data:\n",
    "    print i"
   ]
  },
  {
   "cell_type": "code",
   "execution_count": 3,
   "metadata": {},
   "outputs": [
    {
     "data": {
      "text/plain": [
       "((312788, 129), (42403, 129), (49896, 129))"
      ]
     },
     "execution_count": 3,
     "metadata": {},
     "output_type": "execute_result"
    }
   ],
   "source": [
    "batch0 = pd.read_csv(data[2]) \n",
    "batch1 = pd.read_csv(data[0])\n",
    "batch2 = pd.read_csv(data[1])\n",
    "batch0.shape, batch1.shape, batch2.shape"
   ]
  },
  {
   "cell_type": "code",
   "execution_count": 4,
   "metadata": {
    "collapsed": true
   },
   "outputs": [],
   "source": [
    "# batch0.head()\n",
    "# batch1.head()\n",
    "# batch2.head()"
   ]
  },
  {
   "cell_type": "code",
   "execution_count": 5,
   "metadata": {},
   "outputs": [
    {
     "data": {
      "text/plain": [
       "(405087, 129)"
      ]
     },
     "execution_count": 5,
     "metadata": {},
     "output_type": "execute_result"
    }
   ],
   "source": [
    "df = batch0.append(batch1).append(batch2).reset_index(drop=True)\n",
    "df.shape"
   ]
  },
  {
   "cell_type": "code",
   "execution_count": 6,
   "metadata": {
    "collapsed": true
   },
   "outputs": [],
   "source": [
    "exclude = [\n",
    "'euroB1',           \n",
    "'euroG2',          \n",
    "'euroG1',         \n",
    "'euroB2',        \n",
    "'east1',       \n",
    "'east2' ] "
   ]
  },
  {
   "cell_type": "code",
   "execution_count": 7,
   "metadata": {},
   "outputs": [
    {
     "data": {
      "text/plain": [
       "6"
      ]
     },
     "execution_count": 7,
     "metadata": {},
     "output_type": "execute_result"
    }
   ],
   "source": [
    "len(exclude)"
   ]
  },
  {
   "cell_type": "code",
   "execution_count": 2,
   "metadata": {},
   "outputs": [
    {
     "ename": "NameError",
     "evalue": "name 'df' is not defined",
     "output_type": "error",
     "traceback": [
      "\u001b[0;31m\u001b[0m",
      "\u001b[0;31mNameError\u001b[0mTraceback (most recent call last)",
      "\u001b[0;32m<ipython-input-2-439a6627a0c6>\u001b[0m in \u001b[0;36m<module>\u001b[0;34m()\u001b[0m\n\u001b[0;32m----> 1\u001b[0;31m \u001b[0mdf\u001b[0m\u001b[0;34m[\u001b[0m\u001b[0;34m'name'\u001b[0m\u001b[0;34m]\u001b[0m\u001b[0;34m.\u001b[0m\u001b[0mapply\u001b[0m\u001b[0;34m(\u001b[0m\u001b[0;32mlambda\u001b[0m \u001b[0mx\u001b[0m\u001b[0;34m:\u001b[0m \u001b[0mFalse\u001b[0m \u001b[0;32mif\u001b[0m \u001b[0mx\u001b[0m\u001b[0;34m.\u001b[0m\u001b[0msplit\u001b[0m\u001b[0;34m(\u001b[0m\u001b[0;34m'/'\u001b[0m\u001b[0;34m)\u001b[0m\u001b[0;34m[\u001b[0m\u001b[0;36m0\u001b[0m\u001b[0;34m]\u001b[0m \u001b[0;32min\u001b[0m \u001b[0mexclude\u001b[0m \u001b[0;32melse\u001b[0m \u001b[0mFalse\u001b[0m\u001b[0;34m)\u001b[0m\u001b[0;34m\u001b[0m\u001b[0m\n\u001b[0m",
      "\u001b[0;31mNameError\u001b[0m: name 'df' is not defined"
     ]
    }
   ],
   "source": [
    "df['name'].apply(lambda x: False if x.split('/')[0] in exclude else False)"
   ]
  },
  {
   "cell_type": "code",
   "execution_count": 11,
   "metadata": {},
   "outputs": [
    {
     "data": {
      "text/plain": [
       "0                      1aa1269cc4cd42aeb12fb6f83beb89f4.jpg\n",
       "1                                   1985782_13_102812_1.jpg\n",
       "2                                   1993968735118832174.jpg\n",
       "3                                195943d29ir441i444lhtr.jpg\n",
       "4         1dd0675b-b9d6-4cca-a03e-2134403a74a9_size162_w...\n",
       "5                                   1973139586742322799.jpg\n",
       "6              1e30e924b899a9010889a12f17950a7b0208f56f.jpg\n",
       "7              1e30e924b899a901e27d08f714950a7b0308f5a3.jpg\n",
       "8                    1b27734b215bce3fce5d35f699130a8f_1.jpg\n",
       "9                                               1948553.jpg\n",
       "10             1b4c510fd9f9d72a19e4e995de2a2834359bbbb2.jpg\n",
       "11        1a46a1a097ab339f5101e1ccdbd34c8b1469098804_wat...\n",
       "12             1e30e924b899a901a89d5c531a950a7b0208f52f.jpg\n",
       "13                                   1920x1080bz0611_03.jpg\n",
       "14                     1da2f74b98d847d0835432b61fe2bfb4.jpg\n",
       "15                     193c35ab69c24d5c8b98d27e6d221eca.jpg\n",
       "16                                                 1931.jpg\n",
       "17             1b4c510fd9f9d72a38c3c8b7de2a2834359bbbf1.jpg\n",
       "18                               194030mkbgbh004gehpg0k.jpg\n",
       "19                                   1920x1080bz0730_06.jpg\n",
       "20                                     1d75b9a50d3a823c.jpg\n",
       "21                               1931052_155503912000_2.jpg\n",
       "22                                           19214a0U_0.jpg\n",
       "23             1b4c510fd9f9d72a7d490d00de2a2834349bbbf9.jpg\n",
       "24                                         194a92393849.jpg\n",
       "25                      19228744_19228744_1364213732447.jpg\n",
       "26                     1b504c894a115a426ed77b94d483f5dd.jpg\n",
       "27                  1b1e50be14414aaa8e07b6c3abf73ed7_th.jpg\n",
       "28                        19300000876508141924301118916.jpg\n",
       "29                                     1e88b8f1634bfd4b.jpg\n",
       "                                ...                        \n",
       "405057                                  m_1315033374346.jpg\n",
       "405058                   img_0_1254154064D2191744786_23.jpg\n",
       "405059                                     Img278274334.jpg\n",
       "405060                                    hurry-16460_1.jpg\n",
       "405061         f11f3a292df5e0fead8ae6f7566034a85fdf72b1.jpg\n",
       "405062                       mp24675009_1438146349589_9.jpg\n",
       "405063                 F865BB25C1E22D9BA82345CBBC7F34A3.jpg\n",
       "405064                                     Img263858895.jpg\n",
       "405065                 F1FD25051CECD5FC057BE4E6E2978350.jpg\n",
       "405066                                     K8820DEQ63RM.jpg\n",
       "405067                           f8bc1269b6df1627e64a33.jpg\n",
       "405068                                     Img403574129.jpg\n",
       "405069                  MAIN201611040936000263593998149.jpg\n",
       "405070                         Medium_20121031163015145.jpg\n",
       "405071           Fm9gZZiYJwbfF77sxywqD1AWMBwq.jpg!730x0.jpg\n",
       "405072                               img201012171053475.jpg\n",
       "405073                 f1c4a8c1a24dda5718ab07b12431732b.jpg\n",
       "405074                                 f59573c6fd3a8a1f.jpg\n",
       "405075                                  file_1384932960.jpg\n",
       "405076                                     Img8343463_n.jpg\n",
       "405077                               img201403041211130.jpg\n",
       "405078                                 e7afdf327543deb5.jpg\n",
       "405079                                img04011271451924.jpg\n",
       "405080                 MTQ2MzAwNjIzNDEyMy01MDQ0NjgyMjc=.jpg\n",
       "405081                                     GBQ7Q51NN7D3.jpg\n",
       "405082                                     Img321620937.jpg\n",
       "405083                 MTQ2ODEyNDcyNzUxMDE5MzA2NzM4NTA=.jpg\n",
       "405084                                     Img328265345.jpg\n",
       "405085                               img201212051915226.jpg\n",
       "405086                                    liPUN2CQXHmQk.jpg\n",
       "Name: name, Length: 405087, dtype: object"
      ]
     },
     "execution_count": 11,
     "metadata": {},
     "output_type": "execute_result"
    }
   ],
   "source": [
    "df['name'].apply(lambda x: x.split('/')[-1])"
   ]
  },
  {
   "cell_type": "code",
   "execution_count": null,
   "metadata": {
    "collapsed": true
   },
   "outputs": [],
   "source": []
  },
  {
   "cell_type": "code",
   "execution_count": null,
   "metadata": {
    "collapsed": true
   },
   "outputs": [],
   "source": []
  },
  {
   "cell_type": "code",
   "execution_count": 9,
   "metadata": {
    "collapsed": true
   },
   "outputs": [],
   "source": [
    "df.to_csv('28_Oct_40W_V2.csv', index=False)"
   ]
  },
  {
   "cell_type": "code",
   "execution_count": null,
   "metadata": {
    "collapsed": true
   },
   "outputs": [],
   "source": []
  }
 ],
 "metadata": {
  "kernelspec": {
   "display_name": "Python 2",
   "language": "python",
   "name": "python2"
  },
  "language_info": {
   "codemirror_mode": {
    "name": "ipython",
    "version": 2
   },
   "file_extension": ".py",
   "mimetype": "text/x-python",
   "name": "python",
   "nbconvert_exporter": "python",
   "pygments_lexer": "ipython2",
   "version": "2.7.13"
  }
 },
 "nbformat": 4,
 "nbformat_minor": 2
}
