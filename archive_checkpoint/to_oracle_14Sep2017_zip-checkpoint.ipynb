{
 "cells": [
  {
   "cell_type": "markdown",
   "metadata": {},
   "source": [
    "#### learn tablespace, etc\n",
    "\n",
    "http://nonfunctionaltestingtools.blogspot.com/2012/12/using-sql-developer-to-create-and-view.html\n",
    "\n",
    "http://www.rebellionrider.com/tablespace-in-oracle/how-to-create-tablespace-using-sql-developer-rebellionrider.htm#.WbqexsiGPIU"
   ]
  },
  {
   "cell_type": "markdown",
   "metadata": {},
   "source": [
    "https://hub.docker.com/r/wnameless/oracle-xe-11g/"
   ]
  },
  {
   "cell_type": "code",
   "execution_count": 3,
   "metadata": {},
   "outputs": [
    {
     "name": "stdout",
     "output_type": "stream",
     "text": [
      "11.2.0.2.0\n"
     ]
    }
   ],
   "source": [
    "import pandas as pd\n",
    "import cx_Oracle\n",
    "\n",
    "db=cx_Oracle.connect(\"soyoung\", \"soyoung\", \"my.uconn.science:1521/xe\")\n",
    "print db.version"
   ]
  },
  {
   "cell_type": "code",
   "execution_count": 26,
   "metadata": {},
   "outputs": [
    {
     "name": "stdout",
     "output_type": "stream",
     "text": [
      "drop done\n"
     ]
    }
   ],
   "source": [
    "db.commit()\n",
    "try:\n",
    "    db.cursor().execute('drop table basementzip')\n",
    "    print 'drop done'\n",
    "except:\n",
    "    print 'not exists'\n",
    "db.commit()"
   ]
  },
  {
   "cell_type": "code",
   "execution_count": 23,
   "metadata": {
    "collapsed": true
   },
   "outputs": [],
   "source": [
    "# df=pd.read_csv('zip_code.csv')\n",
    "# df.shape\n",
    "\n",
    "# df.columns=(map(lambda x:x.replace('zipcode.',''),df.columns))\n",
    "# df.columns=map(lambda x: x.replace('.','_'),df.columns)\n",
    "# df.to_csv('new_zip_code.csv', index=False)"
   ]
  },
  {
   "cell_type": "code",
   "execution_count": 24,
   "metadata": {},
   "outputs": [
    {
     "data": {
      "text/plain": [
       "(941296, 62)"
      ]
     },
     "execution_count": 24,
     "metadata": {},
     "output_type": "execute_result"
    }
   ],
   "source": [
    "df=pd.read_csv('new_zip_code.csv')\n",
    "df.shape"
   ]
  },
  {
   "cell_type": "code",
   "execution_count": 22,
   "metadata": {
    "collapsed": true
   },
   "outputs": [],
   "source": []
  },
  {
   "cell_type": "code",
   "execution_count": 19,
   "metadata": {},
   "outputs": [
    {
     "data": {
      "text/plain": [
       "941296"
      ]
     },
     "execution_count": 19,
     "metadata": {},
     "output_type": "execute_result"
    }
   ],
   "source": [
    "len(df['id'].unique())"
   ]
  },
  {
   "cell_type": "code",
   "execution_count": 10,
   "metadata": {},
   "outputs": [
    {
     "data": {
      "text/plain": [
       "<cx_Oracle.Cursor on <cx_Oracle.Connection to soyoung@my.uconn.science:1521/xe>>"
      ]
     },
     "execution_count": 10,
     "metadata": {},
     "output_type": "execute_result"
    }
   ],
   "source": [
    "cur=db.cursor()\n",
    "cur"
   ]
  },
  {
   "cell_type": "code",
   "execution_count": 27,
   "metadata": {},
   "outputs": [
    {
     "name": "stdout",
     "output_type": "stream",
     "text": [
      "create success\n"
     ]
    }
   ],
   "source": [
    "try:\n",
    "    cur.execute(\"\"\"CREATE TABLE basementzip \n",
    "    ( id NUMBER,\n",
    "    zip NUMBER,\n",
    "    fsa VARCHAR2(128),\n",
    "    primary_record VARCHAR2(128),\n",
    "    population NUMBER,\n",
    "    households_per_zipcode NUMBER,\n",
    "    white_population NUMBER,\n",
    "    black_population NUMBER,\n",
    "    hispanic_population NUMBER,\n",
    "    asian_population NUMBER,\n",
    "    hawaiian_population NUMBER,\n",
    "    indian_population NUMBER,\n",
    "    other_population NUMBER,\n",
    "    male_population NUMBER,\n",
    "    female_population NUMBER,\n",
    "    persons_per_household NUMBER,\n",
    "    avarage_house_value NUMBER,\n",
    "    income_per_household NUMBER,\n",
    "    latitude NUMBER,\n",
    "    longitude NUMBER,\n",
    "    elevation NUMBER,\n",
    "    state VARCHAR2(128),\n",
    "    state_full_name VARCHAR2(128),\n",
    "    city_type VARCHAR2(128),\n",
    "    city_alias_abbreviation VARCHAR2(128),\n",
    "    area_code VARCHAR2(128),\n",
    "    city VARCHAR2(128),\n",
    "    city_alias_name VARCHAR2(128),\n",
    "    country VARCHAR2(128),\n",
    "    county VARCHAR2(128),\n",
    "    county_fips NUMBER,\n",
    "    state_fips NUMBER,\n",
    "    time_zone NUMBER,\n",
    "    day_light_saving VARCHAR2(128),\n",
    "    msa NUMBER,\n",
    "    pmsa NUMBER,\n",
    "    csa NUMBER,\n",
    "    cbsa NUMBER,\n",
    "    cbsa_div NUMBER,\n",
    "    cbsa_type VARCHAR2(128),\n",
    "    cbsa_name VARCHAR2(128),\n",
    "    msa_name VARCHAR2(128),\n",
    "    pmsa_name VARCHAR2(128),\n",
    "    region VARCHAR2(128),\n",
    "    division VARCHAR2(128),\n",
    "    mailing_name VARCHAR2(128),\n",
    "    preferred_last_line_key VARCHAR2(128),\n",
    "    classification_code VARCHAR2(128),\n",
    "    multi_county VARCHAR2(128),\n",
    "    csa_name VARCHAR2(128),\n",
    "    cbsa_div_name VARCHAR2(128),\n",
    "    city_state_key VARCHAR2(128),\n",
    "    city_alias_code VARCHAR2(128),\n",
    "    city_mixed_case VARCHAR2(128),\n",
    "    city_alias_mixed_case VARCHAR2(128),\n",
    "    state_ansi NUMBER,\n",
    "    county_ansi NUMBER,\n",
    "    facility_code VARCHAR2(128),\n",
    "    city_delivery_indicator VARCHAR2(128),\n",
    "    carrier_route_rate_sortation VARCHAR2(128),\n",
    "    finance_NUMBER NUMBER,\n",
    "    unique_zip_name VARCHAR2(128),\n",
    "    CONSTRAINT basezip_PK PRIMARY KEY (id))\n",
    "    TABLESPACE basement PARALLEL\"\"\")\n",
    "    db.commit()\n",
    "    print 'create success'\n",
    "except Exception as e:\n",
    "    print e"
   ]
  },
  {
   "cell_type": "code",
   "execution_count": 31,
   "metadata": {
    "collapsed": true
   },
   "outputs": [],
   "source": [
    "# df.head()"
   ]
  },
  {
   "cell_type": "code",
   "execution_count": 30,
   "metadata": {
    "collapsed": true
   },
   "outputs": [],
   "source": [
    "# df.iloc[20,:]"
   ]
  },
  {
   "cell_type": "code",
   "execution_count": 2,
   "metadata": {
    "collapsed": true
   },
   "outputs": [],
   "source": [
    "def helper(x):\n",
    "    try:\n",
    "        a=x.replace(\"'\",\"''\")\n",
    "        return a\n",
    "    except:\n",
    "        return x\n",
    "    "
   ]
  },
  {
   "cell_type": "code",
   "execution_count": 1,
   "metadata": {
    "collapsed": true
   },
   "outputs": [],
   "source": [
    "# from time import time\n",
    "# start=time()\n",
    "# n=0\n",
    "# for i in range(df.shape[0]):\n",
    "#     string = str(\"insert into basementzip values \"\\\n",
    "#                  +str(tuple(df.iloc[i,:].tolist()))\\\n",
    "#                  .replace('nan','null'))\n",
    "#     n+=1\n",
    "#     try:\n",
    "#         cur.execute(string)\n",
    "#     except Exception as e:\n",
    "#         print e\n",
    "#         print i,string\n",
    "# #     if n==100:\n",
    "# #         db.commit()\n",
    "# #         break\n",
    "#     if n%10000==0:\n",
    "#         db.commit()\n",
    "#         print str(i//10000+1)+'W:',\n",
    "#         print '{:.2f}s '.format(time()-start),\n",
    "#         start=time()\n",
    "# db.commit()"
   ]
  },
  {
   "cell_type": "code",
   "execution_count": null,
   "metadata": {
    "collapsed": true
   },
   "outputs": [],
   "source": []
  }
 ],
 "metadata": {
  "kernelspec": {
   "display_name": "Python 2",
   "language": "python",
   "name": "python2"
  },
  "language_info": {
   "codemirror_mode": {
    "name": "ipython",
    "version": 2
   },
   "file_extension": ".py",
   "mimetype": "text/x-python",
   "name": "python",
   "nbconvert_exporter": "python",
   "pygments_lexer": "ipython2",
   "version": "2.7.13"
  }
 },
 "nbformat": 4,
 "nbformat_minor": 2
}
