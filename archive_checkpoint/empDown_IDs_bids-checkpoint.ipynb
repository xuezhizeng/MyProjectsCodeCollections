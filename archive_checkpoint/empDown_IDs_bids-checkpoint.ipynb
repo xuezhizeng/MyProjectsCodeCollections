{
 "cells": [
  {
   "cell_type": "code",
   "execution_count": 1,
   "metadata": {
    "collapsed": true
   },
   "outputs": [],
   "source": [
    "# encoding=utf8\n",
    "# import sys\n",
    "# reload(sys)\n",
    "# sys.setdefaultencoding('utf8')\n",
    "\n",
    "import pandas as pd\n",
    "import os\n",
    "from time import time, ctime\n",
    "\n",
    "import concurrent.futures\n",
    "import requests\n",
    "from lxml import etree\n",
    "from bs4 import BeautifulSoup"
   ]
  },
  {
   "cell_type": "code",
   "execution_count": 3,
   "metadata": {},
   "outputs": [
    {
     "name": "stdout",
     "output_type": "stream",
     "text": [
      "bidder_id_list.csv  owner_id_list.csv\r\n"
     ]
    }
   ],
   "source": [
    "!ls addtional"
   ]
  },
  {
   "cell_type": "code",
   "execution_count": 6,
   "metadata": {
    "collapsed": true
   },
   "outputs": [],
   "source": [
    "# os.mkdir('emp_pages4')"
   ]
  },
  {
   "cell_type": "code",
   "execution_count": 8,
   "metadata": {},
   "outputs": [
    {
     "data": {
      "text/plain": [
       "(23703, 1)"
      ]
     },
     "execution_count": 8,
     "metadata": {},
     "output_type": "execute_result"
    }
   ],
   "source": [
    "empname=pd.read_csv('addtional/owner_id_list.csv')\n",
    "empname.shape"
   ]
  },
  {
   "cell_type": "code",
   "execution_count": 9,
   "metadata": {
    "collapsed": true
   },
   "outputs": [],
   "source": [
    "pre='https://www.freelancer.com/users/'"
   ]
  },
  {
   "cell_type": "code",
   "execution_count": 10,
   "metadata": {
    "scrolled": true
   },
   "outputs": [
    {
     "data": {
      "text/html": [
       "<div>\n",
       "<style>\n",
       "    .dataframe thead tr:only-child th {\n",
       "        text-align: right;\n",
       "    }\n",
       "\n",
       "    .dataframe thead th {\n",
       "        text-align: left;\n",
       "    }\n",
       "\n",
       "    .dataframe tbody tr th {\n",
       "        vertical-align: top;\n",
       "    }\n",
       "</style>\n",
       "<table border=\"1\" class=\"dataframe\">\n",
       "  <thead>\n",
       "    <tr style=\"text-align: right;\">\n",
       "      <th></th>\n",
       "      <th>owner_id</th>\n",
       "    </tr>\n",
       "  </thead>\n",
       "  <tbody>\n",
       "    <tr>\n",
       "      <th>0</th>\n",
       "      <td>142775</td>\n",
       "    </tr>\n",
       "    <tr>\n",
       "      <th>1</th>\n",
       "      <td>1103569</td>\n",
       "    </tr>\n",
       "    <tr>\n",
       "      <th>2</th>\n",
       "      <td>2860262</td>\n",
       "    </tr>\n",
       "    <tr>\n",
       "      <th>3</th>\n",
       "      <td>6956373</td>\n",
       "    </tr>\n",
       "    <tr>\n",
       "      <th>4</th>\n",
       "      <td>7028111</td>\n",
       "    </tr>\n",
       "  </tbody>\n",
       "</table>\n",
       "</div>"
      ],
      "text/plain": [
       "   owner_id\n",
       "0    142775\n",
       "1   1103569\n",
       "2   2860262\n",
       "3   6956373\n",
       "4   7028111"
      ]
     },
     "execution_count": 10,
     "metadata": {},
     "output_type": "execute_result"
    }
   ],
   "source": [
    "empname.head()"
   ]
  },
  {
   "cell_type": "code",
   "execution_count": 11,
   "metadata": {},
   "outputs": [
    {
     "data": {
      "text/plain": [
       "(23703, (23703, 1))"
      ]
     },
     "execution_count": 11,
     "metadata": {},
     "output_type": "execute_result"
    }
   ],
   "source": [
    "len(empname['owner_id'].unique()), empname.shape"
   ]
  },
  {
   "cell_type": "code",
   "execution_count": 12,
   "metadata": {
    "collapsed": true
   },
   "outputs": [],
   "source": [
    "fail=[]"
   ]
  },
  {
   "cell_type": "code",
   "execution_count": 13,
   "metadata": {},
   "outputs": [
    {
     "name": "stdout",
     "output_type": "stream",
     "text": [
      "23703\n"
     ]
    },
    {
     "data": {
      "text/plain": [
       "[142775, 1103569, 2860262]"
      ]
     },
     "execution_count": 13,
     "metadata": {},
     "output_type": "execute_result"
    }
   ],
   "source": [
    "allemp=empname['owner_id'].tolist()\n",
    "print len(allemp)\n",
    "allemp[:3]"
   ]
  },
  {
   "cell_type": "code",
   "execution_count": 14,
   "metadata": {},
   "outputs": [
    {
     "data": {
      "text/plain": [
       "23703"
      ]
     },
     "execution_count": 14,
     "metadata": {},
     "output_type": "execute_result"
    }
   ],
   "source": [
    "len(allemp)"
   ]
  },
  {
   "cell_type": "code",
   "execution_count": 23,
   "metadata": {},
   "outputs": [],
   "source": [
    "# getsingle(allemp[7])"
   ]
  },
  {
   "cell_type": "code",
   "execution_count": 22,
   "metadata": {
    "collapsed": true
   },
   "outputs": [],
   "source": [
    "os.mkdir('add_owner')"
   ]
  },
  {
   "cell_type": "code",
   "execution_count": 24,
   "metadata": {},
   "outputs": [],
   "source": [
    "fail=[]\n",
    "def getsingle(name):\n",
    "    global fail\n",
    "    try:\n",
    "        one=requests.get(pre+str(name)+'.html')\n",
    "        with open('add_owner/{}.html'.format(name), 'w+') as fl:\n",
    "            fl.write(one.text.encode('utf-8').strip())\n",
    "        \n",
    "    except Exception as e:\n",
    "        print e\n",
    "#         print 'X',\n",
    "        fail.append(name)\n",
    "#         print 'O',\n",
    "#     return fail"
   ]
  },
  {
   "cell_type": "code",
   "execution_count": 25,
   "metadata": {},
   "outputs": [],
   "source": [
    "def batch(allnames):\n",
    "    start=time()\n",
    "    with concurrent.futures.ThreadPoolExecutor(max_workers=8) as executor:\n",
    "        executor.map(getsingle, allnames)\n",
    "    past='{:.2f}'.format(time()-start)\n",
    "    now=ctime()[4:]\n",
    "\n",
    "    print 'profiles ',len(allnames),'  used ',past,'s', now\n"
   ]
  },
  {
   "cell_type": "code",
   "execution_count": 26,
   "metadata": {},
   "outputs": [
    {
     "name": "stdout",
     "output_type": "stream",
     "text": [
      "profiles  23703   used  2372.10 s Sep 19 15:02:07 2017\n"
     ]
    }
   ],
   "source": [
    "batch(allemp)"
   ]
  },
  {
   "cell_type": "code",
   "execution_count": 28,
   "metadata": {},
   "outputs": [
    {
     "data": {
      "text/plain": [
       "0"
      ]
     },
     "execution_count": 28,
     "metadata": {},
     "output_type": "execute_result"
    }
   ],
   "source": [
    "len(fail)"
   ]
  },
  {
   "cell_type": "code",
   "execution_count": 29,
   "metadata": {},
   "outputs": [
    {
     "data": {
      "text/plain": [
       "23703"
      ]
     },
     "execution_count": 29,
     "metadata": {},
     "output_type": "execute_result"
    }
   ],
   "source": [
    "len(allemp)-len(fail)"
   ]
  },
  {
   "cell_type": "code",
   "execution_count": 22,
   "metadata": {},
   "outputs": [
    {
     "data": {
      "text/plain": [
       "1466"
      ]
     },
     "execution_count": 22,
     "metadata": {},
     "output_type": "execute_result"
    }
   ],
   "source": [
    "new=list(fail)\n",
    "len(new)"
   ]
  },
  {
   "cell_type": "code",
   "execution_count": 23,
   "metadata": {
    "collapsed": true
   },
   "outputs": [],
   "source": [
    "fail=[]"
   ]
  },
  {
   "cell_type": "code",
   "execution_count": 24,
   "metadata": {},
   "outputs": [
    {
     "data": {
      "text/plain": [
       "1466"
      ]
     },
     "execution_count": 24,
     "metadata": {},
     "output_type": "execute_result"
    }
   ],
   "source": [
    "len(new)"
   ]
  },
  {
   "cell_type": "code",
   "execution_count": 25,
   "metadata": {},
   "outputs": [
    {
     "name": "stdout",
     "output_type": "stream",
     "text": [
      "HTTPSConnectionPool(host='www.freelancer.com', port=443): Max retries exceeded with url: /u/weirman (Caused by NewConnectionError('<requests.packages.urllib3.connection.VerifiedHTTPSConnection object at 0x7fd8d912b7d0>: Failed to establish a new connection: [Errno -2] Name or service not known',))\n",
      "HTTPSConnectionPool(host='www.freelancer.com', port=443): Max retries exceeded with url: /u/getspyware (Caused by NewConnectionError('<requests.packages.urllib3.connection.VerifiedHTTPSConnection object at 0x7fd8d912b390>: Failed to establish a new connection: [Errno -2] Name or service not known',))\n",
      "HTTPSConnectionPool(host='www.freelancer.com', port=443): Max retries exceeded with url: /u/kern (Caused by NewConnectionError('<requests.packages.urllib3.connection.VerifiedHTTPSConnection object at 0x7fd8d912b790>: Failed to establish a new connection: [Errno -2] Name or service not known',))\n",
      "HTTPSConnectionPool(host='www.freelancer.com', port=443): Max retries exceeded with url: /u/bernsoft (Caused by NewConnectionError('<requests.packages.urllib3.connection.VerifiedHTTPSConnection object at 0x7fd8d912b790>: Failed to establish a new connection: [Errno -2] Name or service not known',))\n",
      "HTTPSConnectionPool(host='www.freelancer.com', port=443): Max retries exceeded with url: /u/Shielduk (Caused by NewConnectionError('<requests.packages.urllib3.connection.VerifiedHTTPSConnection object at 0x7fd8d9160290>: Failed to establish a new connection: [Errno -5] No address associated with hostname',))\n",
      "HTTPSConnectionPool(host='www.freelancer.com', port=443): Max retries exceeded with url: /u/ammandj (Caused by NewConnectionError('<requests.packages.urllib3.connection.VerifiedHTTPSConnection object at 0x7fd8d911cd90>: Failed to establish a new connection: [Errno -2] Name or service not known',))\n",
      "HTTPSConnectionPool(host='www.freelancer.com', port=443): Max retries exceeded with url: /u/madcore (Caused by NewConnectionError('<requests.packages.urllib3.connection.VerifiedHTTPSConnection object at 0x7fd8d911c150>: Failed to establish a new connection: [Errno -2] Name or service not known',))\n",
      "HTTPSConnectionPool(host='www.freelancer.com', port=443): Max retries exceeded with url: /u/NYBsolutions (Caused by NewConnectionError('<requests.packages.urllib3.connection.VerifiedHTTPSConnection object at 0x7fd8d91047d0>: Failed to establish a new connection: [Errno -2] Name or service not known',))\n",
      "HTTPSConnectionPool(host='www.freelancer.com', port=443): Max retries exceeded with url: /u/Draypolk (Caused by NewConnectionError('<requests.packages.urllib3.connection.VerifiedHTTPSConnection object at 0x7fd8d911cd90>: Failed to establish a new connection: [Errno -2] Name or service not known',))\n",
      "HTTPSConnectionPool(host='www.freelancer.com', port=443): Max retries exceeded with url: /u/andgomez (Caused by NewConnectionError('<requests.packages.urllib3.connection.VerifiedHTTPSConnection object at 0x7fd8d9104050>: Failed to establish a new connection: [Errno -2] Name or service not known',))\n",
      "HTTPSConnectionPool(host='www.freelancer.com', port=443): Max retries exceeded with url: /u/ltfc1 (Caused by NewConnectionError('<requests.packages.urllib3.connection.VerifiedHTTPSConnection object at 0x7fd8d9104050>: Failed to establish a new connection: [Errno -2] Name or service not known',))\n",
      "HTTPSConnectionPool(host='www.freelancer.com', port=443): Max retries exceeded with url: /u/holywarde (Caused by NewConnectionError('<requests.packages.urllib3.connection.VerifiedHTTPSConnection object at 0x7fd8d90c2210>: Failed to establish a new connection: [Errno -2] Name or service not known',))\n",
      "HTTPSConnectionPool(host='www.freelancer.com', port=443): Max retries exceeded with url: /u/unknowncitizen (Caused by NewConnectionError('<requests.packages.urllib3.connection.VerifiedHTTPSConnection object at 0x7fd8d911c790>: Failed to establish a new connection: [Errno -2] Name or service not known',))\n",
      "HTTPSConnectionPool(host='www.freelancer.com', port=443): Max retries exceeded with url: /u/totalmotion (Caused by NewConnectionError('<requests.packages.urllib3.connection.VerifiedHTTPSConnection object at 0x7fd8d912bbd0>: Failed to establish a new connection: [Errno -5] No address associated with hostname',))\n",
      "HTTPSConnectionPool(host='www.freelancer.com', port=443): Max retries exceeded with url: /u/fsstudio1098 (Caused by NewConnectionError('<requests.packages.urllib3.connection.VerifiedHTTPSConnection object at 0x7fd8d912ba90>: Failed to establish a new connection: [Errno -2] Name or service not known',))\n",
      "HTTPSConnectionPool(host='www.freelancer.com', port=443): Max retries exceeded with url: /u/svendesmedt (Caused by NewConnectionError('<requests.packages.urllib3.connection.VerifiedHTTPSConnection object at 0x7fd8d91042d0>: Failed to establish a new connection: [Errno -2] Name or service not known',))\n",
      "HTTPSConnectionPool(host='www.freelancer.com', port=443): Max retries exceeded with url: /u/SAP64 (Caused by NewConnectionError('<requests.packages.urllib3.connection.VerifiedHTTPSConnection object at 0x7fd8d9104d90>: Failed to establish a new connection: [Errno -2] Name or service not known',))\n",
      "HTTPSConnectionPool(host='www.freelancer.com', port=443): Max retries exceeded with url: /u/halopunker (Caused by NewConnectionError('<requests.packages.urllib3.connection.VerifiedHTTPSConnection object at 0x7fd8d9176e90>: Failed to establish a new connection: [Errno -2] Name or service not known',))\n",
      "HTTPSConnectionPool(host='www.freelancer.com', port=443): Max retries exceeded with url: /u/bakken (Caused by NewConnectionError('<requests.packages.urllib3.connection.VerifiedHTTPSConnection object at 0x7fd8d9176d50>: Failed to establish a new connection: [Errno -2] Name or service not known',))\n",
      "HTTPSConnectionPool(host='www.freelancer.com', port=443): Max retries exceeded with url: /u/kaizenXL (Caused by NewConnectionError('<requests.packages.urllib3.connection.VerifiedHTTPSConnection object at 0x7fd8d9176f50>: Failed to establish a new connection: [Errno -2] Name or service not known',))\n",
      "HTTPSConnectionPool(host='www.freelancer.com', port=443): Max retries exceeded with url: /u/Nicoleleone (Caused by NewConnectionError('<requests.packages.urllib3.connection.VerifiedHTTPSConnection object at 0x7fd8d91762d0>: Failed to establish a new connection: [Errno -2] Name or service not known',))\n",
      "HTTPSConnectionPool(host='www.freelancer.com', port=443): Max retries exceeded with url: /u/dangervol (Caused by NewConnectionError('<requests.packages.urllib3.connection.VerifiedHTTPSConnection object at 0x7fd8d912b450>: Failed to establish a new connection: [Errno -5] No address associated with hostname',))\n",
      "HTTPSConnectionPool(host='www.freelancer.com', port=443): Max retries exceeded with url: /u/lollipop (Caused by NewConnectionError('<requests.packages.urllib3.connection.VerifiedHTTPSConnection object at 0x7fd8d9160210>: Failed to establish a new connection: [Errno -2] Name or service not known',))\n",
      "HTTPSConnectionPool(host='www.freelancer.com', port=443): Max retries exceeded with url: /u/partsace (Caused by NewConnectionError('<requests.packages.urllib3.connection.VerifiedHTTPSConnection object at 0x7fd8d9160f50>: Failed to establish a new connection: [Errno -2] Name or service not known',))\n",
      "HTTPSConnectionPool(host='www.freelancer.com', port=443): Max retries exceeded with url: /u/onemore (Caused by NewConnectionError('<requests.packages.urllib3.connection.VerifiedHTTPSConnection object at 0x7fd8d9176d50>: Failed to establish a new connection: [Errno -5] No address associated with hostname',))\n",
      "HTTPSConnectionPool(host='www.freelancer.com', port=443): Max retries exceeded with url: /u/hyasir (Caused by NewConnectionError('<requests.packages.urllib3.connection.VerifiedHTTPSConnection object at 0x7fd8d9176150>: Failed to establish a new connection: [Errno -5] No address associated with hostname',))\n",
      "HTTPSConnectionPool(host='www.freelancer.com', port=443): Max retries exceeded with url: /u/milesf01 (Caused by NewConnectionError('<requests.packages.urllib3.connection.VerifiedHTTPSConnection object at 0x7fd8d9176d50>: Failed to establish a new connection: [Errno -2] Name or service not known',))\n",
      "HTTPSConnectionPool(host='www.freelancer.com', port=443): Max retries exceeded with url: /u/fas007 (Caused by NewConnectionError('<requests.packages.urllib3.connection.VerifiedHTTPSConnection object at 0x7fd8d9104610>: Failed to establish a new connection: [Errno -2] Name or service not known',))\n"
     ]
    },
    {
     "name": "stdout",
     "output_type": "stream",
     "text": [
      "HTTPSConnectionPool(host='www.freelancer.com', port=443): Max retries exceeded with url: /u/GEHAD1010 (Caused by NewConnectionError('<requests.packages.urllib3.connection.VerifiedHTTPSConnection object at 0x7fd8d9176750>: Failed to establish a new connection: [Errno 111] Connection refused',))\n",
      "HTTPSConnectionPool(host='www.freelancer.com', port=443): Max retries exceeded with url: /u/pooh2008 (Caused by NewConnectionError('<requests.packages.urllib3.connection.VerifiedHTTPSConnection object at 0x7fd8d9233ed0>: Failed to establish a new connection: [Errno -2] Name or service not known',))\n",
      "HTTPSConnectionPool(host='www.freelancer.com', port=443): Max retries exceeded with url: /u/jfaulk (Caused by NewConnectionError('<requests.packages.urllib3.connection.VerifiedHTTPSConnection object at 0x7fd8d922aed0>: Failed to establish a new connection: [Errno -2] Name or service not known',))\n",
      "HTTPSConnectionPool(host='www.freelancer.com', port=443): Max retries exceeded with url: /u/nanovation (Caused by NewConnectionError('<requests.packages.urllib3.connection.VerifiedHTTPSConnection object at 0x7fd8d922a510>: Failed to establish a new connection: [Errno -2] Name or service not known',))\n",
      "HTTPSConnectionPool(host='www.freelancer.com', port=443): Max retries exceeded with url: /u/Quicksolbizz (Caused by NewConnectionError('<requests.packages.urllib3.connection.VerifiedHTTPSConnection object at 0x7fd8d91fee90>: Failed to establish a new connection: [Errno -2] Name or service not known',))\n",
      "HTTPSConnectionPool(host='www.freelancer.com', port=443): Max retries exceeded with url: /u/brianthelion (Caused by NewConnectionError('<requests.packages.urllib3.connection.VerifiedHTTPSConnection object at 0x7fd8d91fe890>: Failed to establish a new connection: [Errno -2] Name or service not known',))\n",
      "HTTPSConnectionPool(host='www.freelancer.com', port=443): Max retries exceeded with url: /u/valerio71 (Caused by NewConnectionError('<requests.packages.urllib3.connection.VerifiedHTTPSConnection object at 0x7fd8d91fee90>: Failed to establish a new connection: [Errno -2] Name or service not known',))\n",
      "HTTPSConnectionPool(host='www.freelancer.com', port=443): Max retries exceeded with url: /u/glosco (Caused by NewConnectionError('<requests.packages.urllib3.connection.VerifiedHTTPSConnection object at 0x7fd8d922a2d0>: Failed to establish a new connection: [Errno -2] Name or service not known',))\n",
      "HTTPSConnectionPool(host='www.freelancer.com', port=443): Max retries exceeded with url: /u/dmitry777 (Caused by NewConnectionError('<requests.packages.urllib3.connection.VerifiedHTTPSConnection object at 0x7fd8d922a390>: Failed to establish a new connection: [Errno -2] Name or service not known',))\n",
      "HTTPSConnectionPool(host='www.freelancer.com', port=443): Max retries exceeded with url: /u/jwisniewski (Caused by NewConnectionError('<requests.packages.urllib3.connection.VerifiedHTTPSConnection object at 0x7fd8d922a790>: Failed to establish a new connection: [Errno -2] Name or service not known',))\n",
      "HTTPSConnectionPool(host='www.freelancer.com', port=443): Max retries exceeded with url: /u/samsonwebdesign (Caused by NewConnectionError('<requests.packages.urllib3.connection.VerifiedHTTPSConnection object at 0x7fd8d9215a90>: Failed to establish a new connection: [Errno -2] Name or service not known',))\n",
      "HTTPSConnectionPool(host='www.freelancer.com', port=443): Max retries exceeded with url: /u/DorianSol (Caused by NewConnectionError('<requests.packages.urllib3.connection.VerifiedHTTPSConnection object at 0x7fd8d922a750>: Failed to establish a new connection: [Errno -2] Name or service not known',))\n",
      "HTTPSConnectionPool(host='www.freelancer.com', port=443): Max retries exceeded with url: /u/uditkhanna (Caused by NewConnectionError('<requests.packages.urllib3.connection.VerifiedHTTPSConnection object at 0x7fd8d9215990>: Failed to establish a new connection: [Errno -2] Name or service not known',))\n",
      "HTTPSConnectionPool(host='www.freelancer.com', port=443): Max retries exceeded with url: /u/Phenom981 (Caused by NewConnectionError('<requests.packages.urllib3.connection.VerifiedHTTPSConnection object at 0x7fd8d9215c50>: Failed to establish a new connection: [Errno -2] Name or service not known',))\n",
      "HTTPSConnectionPool(host='www.freelancer.com', port=443): Max retries exceeded with url: /u/ScorpioGirl (Caused by NewConnectionError('<requests.packages.urllib3.connection.VerifiedHTTPSConnection object at 0x7fd8d922a050>: Failed to establish a new connection: [Errno -2] Name or service not known',))\n",
      "HTTPSConnectionPool(host='www.freelancer.com', port=443): Max retries exceeded with url: /u/azgard9 (Caused by NewConnectionError('<requests.packages.urllib3.connection.VerifiedHTTPSConnection object at 0x7fd8d92156d0>: Failed to establish a new connection: [Errno -2] Name or service not known',))\n",
      "HTTPSConnectionPool(host='www.freelancer.com', port=443): Max retries exceeded with url: /u/searchessence (Caused by NewConnectionError('<requests.packages.urllib3.connection.VerifiedHTTPSConnection object at 0x7fd8d91fee50>: Failed to establish a new connection: [Errno -2] Name or service not known',))\n",
      "HTTPSConnectionPool(host='www.freelancer.com', port=443): Max retries exceeded with url: /u/YvesBirrer (Caused by NewConnectionError('<requests.packages.urllib3.connection.VerifiedHTTPSConnection object at 0x7fd8d922ad90>: Failed to establish a new connection: [Errno -2] Name or service not known',))\n",
      "HTTPSConnectionPool(host='www.freelancer.com', port=443): Max retries exceeded with url: /u/Jakesully (Caused by NewConnectionError('<requests.packages.urllib3.connection.VerifiedHTTPSConnection object at 0x7fd8d922a110>: Failed to establish a new connection: [Errno -2] Name or service not known',))\n",
      "HTTPSConnectionPool(host='www.freelancer.com', port=443): Max retries exceeded with url: /u/MyCaricature (Caused by NewConnectionError('<requests.packages.urllib3.connection.VerifiedHTTPSConnection object at 0x7fd8d922a750>: Failed to establish a new connection: [Errno -2] Name or service not known',))\n",
      "HTTPSConnectionPool(host='www.freelancer.com', port=443): Max retries exceeded with url: /u/alanswim (Caused by NewConnectionError('<requests.packages.urllib3.connection.VerifiedHTTPSConnection object at 0x7fd8d922ad50>: Failed to establish a new connection: [Errno -2] Name or service not known',))\n",
      "HTTPSConnectionPool(host='www.freelancer.com', port=443): Max retries exceeded with url: /u/bbreger (Caused by NewConnectionError('<requests.packages.urllib3.connection.VerifiedHTTPSConnection object at 0x7fd8d922ad50>: Failed to establish a new connection: [Errno -2] Name or service not known',))\n",
      "HTTPSConnectionPool(host='www.freelancer.com', port=443): Max retries exceeded with url: /u/CraiglistExperts (Caused by NewConnectionError('<requests.packages.urllib3.connection.VerifiedHTTPSConnection object at 0x7fd8d922a110>: Failed to establish a new connection: [Errno -2] Name or service not known',))\n",
      "HTTPSConnectionPool(host='www.freelancer.com', port=443): Max retries exceeded with url: /u/boolean22 (Caused by NewConnectionError('<requests.packages.urllib3.connection.VerifiedHTTPSConnection object at 0x7fd8d920c090>: Failed to establish a new connection: [Errno -2] Name or service not known',))\n",
      "HTTPSConnectionPool(host='www.freelancer.com', port=443): Max retries exceeded with url: /u/tomhypno (Caused by NewConnectionError('<requests.packages.urllib3.connection.VerifiedHTTPSConnection object at 0x7fd8d922ac50>: Failed to establish a new connection: [Errno -2] Name or service not known',))\n",
      "HTTPSConnectionPool(host='www.freelancer.com', port=443): Max retries exceeded with url: /u/gotogiga (Caused by NewConnectionError('<requests.packages.urllib3.connection.VerifiedHTTPSConnection object at 0x7fd8d91fe590>: Failed to establish a new connection: [Errno -2] Name or service not known',))\n",
      "HTTPSConnectionPool(host='www.freelancer.com', port=443): Max retries exceeded with url: /u/adeeltalib (Caused by NewConnectionError('<requests.packages.urllib3.connection.VerifiedHTTPSConnection object at 0x7fd8d91fe1d0>: Failed to establish a new connection: [Errno -2] Name or service not known',))\n",
      "HTTPSConnectionPool(host='www.freelancer.com', port=443): Max retries exceeded with url: /u/KaleoMgmt (Caused by NewConnectionError('<requests.packages.urllib3.connection.VerifiedHTTPSConnection object at 0x7fd8d91fe1d0>: Failed to establish a new connection: [Errno -2] Name or service not known',))\n",
      "HTTPSConnectionPool(host='www.freelancer.com', port=443): Max retries exceeded with url: /u/lindsays (Caused by NewConnectionError('<requests.packages.urllib3.connection.VerifiedHTTPSConnection object at 0x7fd8d9268790>: Failed to establish a new connection: [Errno -2] Name or service not known',))\n",
      "HTTPSConnectionPool(host='www.freelancer.com', port=443): Max retries exceeded with url: /u/ivoire (Caused by NewConnectionError('<requests.packages.urllib3.connection.VerifiedHTTPSConnection object at 0x7fd8d922a610>: Failed to establish a new connection: [Errno -5] No address associated with hostname',))\n",
      "HTTPSConnectionPool(host='www.freelancer.com', port=443): Max retries exceeded with url: /u/jamhuris (Caused by NewConnectionError('<requests.packages.urllib3.connection.VerifiedHTTPSConnection object at 0x7fd8d925ff10>: Failed to establish a new connection: [Errno -2] Name or service not known',))\n",
      "HTTPSConnectionPool(host='www.freelancer.com', port=443): Max retries exceeded with url: /u/jmccullough (Caused by NewConnectionError('<requests.packages.urllib3.connection.VerifiedHTTPSConnection object at 0x7fd8d91fec90>: Failed to establish a new connection: [Errno -2] Name or service not known',))\n"
     ]
    },
    {
     "name": "stdout",
     "output_type": "stream",
     "text": [
      "HTTPSConnectionPool(host='www.freelancer.com', port=443): Max retries exceeded with url: /u/alexjudd99 (Caused by NewConnectionError('<requests.packages.urllib3.connection.VerifiedHTTPSConnection object at 0x7fd8d925fd50>: Failed to establish a new connection: [Errno -2] Name or service not known',))\n",
      "HTTPSConnectionPool(host='www.freelancer.com', port=443): Max retries exceeded with url: /u/Alex1333 (Caused by NewConnectionError('<requests.packages.urllib3.connection.VerifiedHTTPSConnection object at 0x7fd8d925f610>: Failed to establish a new connection: [Errno -5] No address associated with hostname',))\n",
      "HTTPSConnectionPool(host='www.freelancer.com', port=443): Max retries exceeded with url: /u/majestic7 (Caused by NewConnectionError('<requests.packages.urllib3.connection.VerifiedHTTPSConnection object at 0x7fd8d925f9d0>: Failed to establish a new connection: [Errno -2] Name or service not known',))\n",
      "HTTPSConnectionPool(host='www.freelancer.com', port=443): Max retries exceeded with url: /u/VirtuocITy (Caused by NewConnectionError('<requests.packages.urllib3.connection.VerifiedHTTPSConnection object at 0x7fd8d925f2d0>: Failed to establish a new connection: [Errno -2] Name or service not known',))\n",
      "HTTPSConnectionPool(host='www.freelancer.com', port=443): Max retries exceeded with url: /u/nethead01 (Caused by NewConnectionError('<requests.packages.urllib3.connection.VerifiedHTTPSConnection object at 0x7fd8d925fd90>: Failed to establish a new connection: [Errno -2] Name or service not known',))\n",
      "HTTPSConnectionPool(host='www.freelancer.com', port=443): Max retries exceeded with url: /u/Chaze00 (Caused by NewConnectionError('<requests.packages.urllib3.connection.VerifiedHTTPSConnection object at 0x7fd8d925fa90>: Failed to establish a new connection: [Errno -2] Name or service not known',))\n",
      "HTTPSConnectionPool(host='www.freelancer.com', port=443): Max retries exceeded with url: /u/NAshbaugh (Caused by NewConnectionError('<requests.packages.urllib3.connection.VerifiedHTTPSConnection object at 0x7fd8d925f190>: Failed to establish a new connection: [Errno -2] Name or service not known',))\n",
      "HTTPSConnectionPool(host='www.freelancer.com', port=443): Max retries exceeded with url: /u/ncmonroe1981 (Caused by NewConnectionError('<requests.packages.urllib3.connection.VerifiedHTTPSConnection object at 0x7fd8d925f0d0>: Failed to establish a new connection: [Errno -2] Name or service not known',))\n",
      "HTTPSConnectionPool(host='www.freelancer.com', port=443): Max retries exceeded with url: /u/blieb73 (Caused by NewConnectionError('<requests.packages.urllib3.connection.VerifiedHTTPSConnection object at 0x7fd8d925f590>: Failed to establish a new connection: [Errno -5] No address associated with hostname',))\n",
      "HTTPSConnectionPool(host='www.freelancer.com', port=443): Max retries exceeded with url: /u/rajum03 (Caused by NewConnectionError('<requests.packages.urllib3.connection.VerifiedHTTPSConnection object at 0x7fd8d925f590>: Failed to establish a new connection: [Errno -2] Name or service not known',))\n",
      "HTTPSConnectionPool(host='www.freelancer.com', port=443): Max retries exceeded with url: /u/oswaldo (Caused by NewConnectionError('<requests.packages.urllib3.connection.VerifiedHTTPSConnection object at 0x7fd8d9250e10>: Failed to establish a new connection: [Errno -5] No address associated with hostname',))\n",
      "HTTPSConnectionPool(host='www.freelancer.com', port=443): Max retries exceeded with url: /u/activicom (Caused by NewConnectionError('<requests.packages.urllib3.connection.VerifiedHTTPSConnection object at 0x7fd8d926e910>: Failed to establish a new connection: [Errno -2] Name or service not known',))\n",
      "HTTPSConnectionPool(host='www.freelancer.com', port=443): Max retries exceeded with url: /u/ankordesign (Caused by NewConnectionError('<requests.packages.urllib3.connection.VerifiedHTTPSConnection object at 0x7fd8d926ef10>: Failed to establish a new connection: [Errno -2] Name or service not known',))\n",
      "HTTPSConnectionPool(host='www.freelancer.com', port=443): Max retries exceeded with url: /u/MSC708 (Caused by NewConnectionError('<requests.packages.urllib3.connection.VerifiedHTTPSConnection object at 0x7fd8d926e450>: Failed to establish a new connection: [Errno -2] Name or service not known',))\n",
      "HTTPSConnectionPool(host='www.freelancer.com', port=443): Max retries exceeded with url: /u/Lsidis (Caused by NewConnectionError('<requests.packages.urllib3.connection.VerifiedHTTPSConnection object at 0x7fd8d9215990>: Failed to establish a new connection: [Errno 111] Connection refused',))\n",
      "HTTPSConnectionPool(host='www.freelancer.com', port=443): Max retries exceeded with url: /u/desireds (Caused by NewConnectionError('<requests.packages.urllib3.connection.VerifiedHTTPSConnection object at 0x7fd8d922a7d0>: Failed to establish a new connection: [Errno 111] Connection refused',))\n",
      "HTTPSConnectionPool(host='www.freelancer.com', port=443): Max retries exceeded with url: /u/dgtizer (Caused by NewConnectionError('<requests.packages.urllib3.connection.VerifiedHTTPSConnection object at 0x7fd8d920c850>: Failed to establish a new connection: [Errno 111] Connection refused',))\n",
      "HTTPSConnectionPool(host='www.freelancer.com', port=443): Max retries exceeded with url: /u/chetanpatel1 (Caused by NewConnectionError('<requests.packages.urllib3.connection.VerifiedHTTPSConnection object at 0x7fd8d926e0d0>: Failed to establish a new connection: [Errno 111] Connection refused',))\n",
      "HTTPSConnectionPool(host='www.freelancer.com', port=443): Max retries exceeded with url: /u/aspiregraphics (Caused by NewConnectionError('<requests.packages.urllib3.connection.VerifiedHTTPSConnection object at 0x7fd8d9630790>: Failed to establish a new connection: [Errno -2] Name or service not known',))\n",
      "HTTPSConnectionPool(host='www.freelancer.com', port=443): Max retries exceeded with url: /u/ghv105 (Caused by NewConnectionError('<requests.packages.urllib3.connection.VerifiedHTTPSConnection object at 0x7fd8d920c6d0>: Failed to establish a new connection: [Errno -2] Name or service not known',))\n",
      "HTTPSConnectionPool(host='www.freelancer.com', port=443): Max retries exceeded with url: /u/mel870 (Caused by NewConnectionError('<requests.packages.urllib3.connection.VerifiedHTTPSConnection object at 0x7fd8d920c410>: Failed to establish a new connection: [Errno -5] No address associated with hostname',))\n",
      "HTTPSConnectionPool(host='www.freelancer.com', port=443): Max retries exceeded with url: /u/AGCOS (Caused by NewConnectionError('<requests.packages.urllib3.connection.VerifiedHTTPSConnection object at 0x7fd8d920c410>: Failed to establish a new connection: [Errno -2] Name or service not known',))\n",
      "HTTPSConnectionPool(host='www.freelancer.com', port=443): Max retries exceeded with url: /u/checkout9000 (Caused by NewConnectionError('<requests.packages.urllib3.connection.VerifiedHTTPSConnection object at 0x7fd8d920c510>: Failed to establish a new connection: [Errno -2] Name or service not known',))\n",
      "HTTPSConnectionPool(host='www.freelancer.com', port=443): Max retries exceeded with url: /u/baileynash (Caused by NewConnectionError('<requests.packages.urllib3.connection.VerifiedHTTPSConnection object at 0x7fd8f38542d0>: Failed to establish a new connection: [Errno -5] No address associated with hostname',))\n",
      "HTTPSConnectionPool(host='www.freelancer.com', port=443): Max retries exceeded with url: /u/dyeung (Caused by NewConnectionError('<requests.packages.urllib3.connection.VerifiedHTTPSConnection object at 0x7fd8f391fa90>: Failed to establish a new connection: [Errno -2] Name or service not known',))\n",
      "HTTPSConnectionPool(host='www.freelancer.com', port=443): Max retries exceeded with url: /u/alexborovik7 (Caused by NewConnectionError('<requests.packages.urllib3.connection.VerifiedHTTPSConnection object at 0x7fd8f391ffd0>: Failed to establish a new connection: [Errno -2] Name or service not known',))\n",
      "HTTPSConnectionPool(host='www.freelancer.com', port=443): Max retries exceeded with url: /u/kmnaco (Caused by NewConnectionError('<requests.packages.urllib3.connection.VerifiedHTTPSConnection object at 0x7fd8d920c110>: Failed to establish a new connection: [Errno -2] Name or service not known',))\n",
      "HTTPSConnectionPool(host='www.freelancer.com', port=443): Max retries exceeded with url: /u/Contentwomen (Caused by NewConnectionError('<requests.packages.urllib3.connection.VerifiedHTTPSConnection object at 0x7fd8d92b26d0>: Failed to establish a new connection: [Errno -2] Name or service not known',))\n",
      "HTTPSConnectionPool(host='www.freelancer.com', port=443): Max retries exceeded with url: /u/bcdtravel (Caused by NewConnectionError('<requests.packages.urllib3.connection.VerifiedHTTPSConnection object at 0x7fd8d920c090>: Failed to establish a new connection: [Errno -2] Name or service not known',))\n",
      "HTTPSConnectionPool(host='www.freelancer.com', port=443): Max retries exceeded with url: /u/quantanalyst (Caused by NewConnectionError('<requests.packages.urllib3.connection.VerifiedHTTPSConnection object at 0x7fd8d920cf50>: Failed to establish a new connection: [Errno -2] Name or service not known',))\n",
      "HTTPSConnectionPool(host='www.freelancer.com', port=443): Max retries exceeded with url: /u/mcazel (Caused by NewConnectionError('<requests.packages.urllib3.connection.VerifiedHTTPSConnection object at 0x7fd8d920c4d0>: Failed to establish a new connection: [Errno -2] Name or service not known',))\n",
      "HTTPSConnectionPool(host='www.freelancer.com', port=443): Max retries exceeded with url: /u/ebaylancer (Caused by NewConnectionError('<requests.packages.urllib3.connection.VerifiedHTTPSConnection object at 0x7fd8f389e0d0>: Failed to establish a new connection: [Errno -2] Name or service not known',))\n",
      "HTTPSConnectionPool(host='www.freelancer.com', port=443): Max retries exceeded with url: /u/reva1966 (Caused by NewConnectionError('<requests.packages.urllib3.connection.VerifiedHTTPSConnection object at 0x7fd8d920c1d0>: Failed to establish a new connection: [Errno -2] Name or service not known',))\n",
      "HTTPSConnectionPool(host='www.freelancer.com', port=443): Max retries exceeded with url: /u/drvarta (Caused by NewConnectionError('<requests.packages.urllib3.connection.VerifiedHTTPSConnection object at 0x7fd8d920cf50>: Failed to establish a new connection: [Errno -5] No address associated with hostname',))\n",
      "HTTPSConnectionPool(host='www.freelancer.com', port=443): Max retries exceeded with url: /u/reffo (Caused by NewConnectionError('<requests.packages.urllib3.connection.VerifiedHTTPSConnection object at 0x7fd8f389e510>: Failed to establish a new connection: [Errno -2] Name or service not known',))\n",
      "HTTPSConnectionPool(host='www.freelancer.com', port=443): Max retries exceeded with url: /u/matatuzun (Caused by NewConnectionError('<requests.packages.urllib3.connection.VerifiedHTTPSConnection object at 0x7fd8d920c5d0>: Failed to establish a new connection: [Errno -2] Name or service not known',))\n",
      "HTTPSConnectionPool(host='www.freelancer.com', port=443): Max retries exceeded with url: /u/oneninetyeight (Caused by NewConnectionError('<requests.packages.urllib3.connection.VerifiedHTTPSConnection object at 0x7fd8f389e110>: Failed to establish a new connection: [Errno -2] Name or service not known',))\n",
      "HTTPSConnectionPool(host='www.freelancer.com', port=443): Max retries exceeded with url: /u/jollyjourney (Caused by NewConnectionError('<requests.packages.urllib3.connection.VerifiedHTTPSConnection object at 0x7fd8f389ea50>: Failed to establish a new connection: [Errno -2] Name or service not known',))\n",
      "HTTPSConnectionPool(host='www.freelancer.com', port=443): Max retries exceeded with url: /u/jjacksonchi (Caused by NewConnectionError('<requests.packages.urllib3.connection.VerifiedHTTPSConnection object at 0x7fd8f389e710>: Failed to establish a new connection: [Errno -2] Name or service not known',))\n",
      "HTTPSConnectionPool(host='www.freelancer.com', port=443): Max retries exceeded with url: /u/icw510 (Caused by NewConnectionError('<requests.packages.urllib3.connection.VerifiedHTTPSConnection object at 0x7fd8f389e790>: Failed to establish a new connection: [Errno -2] Name or service not known',))\n",
      "HTTPSConnectionPool(host='www.freelancer.com', port=443): Max retries exceeded with url: /u/maxpayneyahh (Caused by NewConnectionError('<requests.packages.urllib3.connection.VerifiedHTTPSConnection object at 0x7fd8f389ed10>: Failed to establish a new connection: [Errno -2] Name or service not known',))\n",
      "HTTPSConnectionPool(host='www.freelancer.com', port=443): Max retries exceeded with url: /u/hakboy (Caused by NewConnectionError('<requests.packages.urllib3.connection.VerifiedHTTPSConnection object at 0x7fd8d9665f90>: Failed to establish a new connection: [Errno -2] Name or service not known',))\n",
      "HTTPSConnectionPool(host='www.freelancer.com', port=443): Max retries exceeded with url: /u/author3000 (Caused by NewConnectionError('<requests.packages.urllib3.connection.VerifiedHTTPSConnection object at 0x7fd8f389ec50>: Failed to establish a new connection: [Errno -2] Name or service not known',))\n",
      "HTTPSConnectionPool(host='www.freelancer.com', port=443): Max retries exceeded with url: /u/nicolasrobert (Caused by NewConnectionError('<requests.packages.urllib3.connection.VerifiedHTTPSConnection object at 0x7fd8f389e650>: Failed to establish a new connection: [Errno -2] Name or service not known',))\n",
      "HTTPSConnectionPool(host='www.freelancer.com', port=443): Max retries exceeded with url: /u/signs22408 (Caused by NewConnectionError('<requests.packages.urllib3.connection.VerifiedHTTPSConnection object at 0x7fd8d96654d0>: Failed to establish a new connection: [Errno -2] Name or service not known',))\n",
      "HTTPSConnectionPool(host='www.freelancer.com', port=443): Max retries exceeded with url: /u/gxatzis (Caused by NewConnectionError('<requests.packages.urllib3.connection.VerifiedHTTPSConnection object at 0x7fd8d9665190>: Failed to establish a new connection: [Errno -2] Name or service not known',))\n",
      "HTTPSConnectionPool(host='www.freelancer.com', port=443): Max retries exceeded with url: /u/motoqueen (Caused by NewConnectionError('<requests.packages.urllib3.connection.VerifiedHTTPSConnection object at 0x7fd8f37af3d0>: Failed to establish a new connection: [Errno -2] Name or service not known',))\n"
     ]
    },
    {
     "name": "stdout",
     "output_type": "stream",
     "text": [
      "HTTPSConnectionPool(host='www.freelancer.com', port=443): Max retries exceeded with url: /u/webb2009 (Caused by NewConnectionError('<requests.packages.urllib3.connection.VerifiedHTTPSConnection object at 0x7fd8f37afb50>: Failed to establish a new connection: [Errno -2] Name or service not known',))\n",
      "HTTPSConnectionPool(host='www.freelancer.com', port=443): Max retries exceeded with url: /u/caldwellsj (Caused by NewConnectionError('<requests.packages.urllib3.connection.VerifiedHTTPSConnection object at 0x7fd8d9630190>: Failed to establish a new connection: [Errno -2] Name or service not known',))\n",
      "HTTPSConnectionPool(host='www.freelancer.com', port=443): Max retries exceeded with url: /u/erraticfl (Caused by NewConnectionError('<requests.packages.urllib3.connection.VerifiedHTTPSConnection object at 0x7fd8d9630390>: Failed to establish a new connection: [Errno -2] Name or service not known',))\n",
      "HTTPSConnectionPool(host='www.freelancer.com', port=443): Max retries exceeded with url: /u/epl (Caused by NewConnectionError('<requests.packages.urllib3.connection.VerifiedHTTPSConnection object at 0x7fd8d9630150>: Failed to establish a new connection: [Errno -2] Name or service not known',))\n",
      "HTTPSConnectionPool(host='www.freelancer.com', port=443): Max retries exceeded with url: /u/foreallycom (Caused by NewConnectionError('<requests.packages.urllib3.connection.VerifiedHTTPSConnection object at 0x7fd8d9665d10>: Failed to establish a new connection: [Errno -2] Name or service not known',))\n",
      "HTTPSConnectionPool(host='www.freelancer.com', port=443): Max retries exceeded with url: /u/mechacyber (Caused by NewConnectionError('<requests.packages.urllib3.connection.VerifiedHTTPSConnection object at 0x7fd8d9665090>: Failed to establish a new connection: [Errno -2] Name or service not known',))\n",
      "HTTPSConnectionPool(host='www.freelancer.com', port=443): Max retries exceeded with url: /u/thbritton (Caused by NewConnectionError('<requests.packages.urllib3.connection.VerifiedHTTPSConnection object at 0x7fd8f37af150>: Failed to establish a new connection: [Errno -2] Name or service not known',))\n",
      "HTTPSConnectionPool(host='www.freelancer.com', port=443): Max retries exceeded with url: /u/qualitymomentum (Caused by NewConnectionError('<requests.packages.urllib3.connection.VerifiedHTTPSConnection object at 0x7fd8f37af490>: Failed to establish a new connection: [Errno -2] Name or service not known',))\n",
      "HTTPSConnectionPool(host='www.freelancer.com', port=443): Max retries exceeded with url: /u/rttrjohn (Caused by NewConnectionError('<requests.packages.urllib3.connection.VerifiedHTTPSConnection object at 0x7fd8f37af490>: Failed to establish a new connection: [Errno -2] Name or service not known',))\n",
      "HTTPSConnectionPool(host='www.freelancer.com', port=443): Max retries exceeded with url: /u/AlexMorales10 (Caused by NewConnectionError('<requests.packages.urllib3.connection.VerifiedHTTPSConnection object at 0x7fd8f3911f90>: Failed to establish a new connection: [Errno -2] Name or service not known',))\n",
      "HTTPSConnectionPool(host='www.freelancer.com', port=443): Max retries exceeded with url: /u/martinh7 (Caused by NewConnectionError('<requests.packages.urllib3.connection.VerifiedHTTPSConnection object at 0x7fd8f3911ed0>: Failed to establish a new connection: [Errno -5] No address associated with hostname',))\n",
      "HTTPSConnectionPool(host='www.freelancer.com', port=443): Max retries exceeded with url: /u/johncooper2 (Caused by NewConnectionError('<requests.packages.urllib3.connection.VerifiedHTTPSConnection object at 0x7fd8f3911890>: Failed to establish a new connection: [Errno -2] Name or service not known',))\n",
      "HTTPSConnectionPool(host='www.freelancer.com', port=443): Max retries exceeded with url: /u/rwheale (Caused by NewConnectionError('<requests.packages.urllib3.connection.VerifiedHTTPSConnection object at 0x7fd8f3911450>: Failed to establish a new connection: [Errno -2] Name or service not known',))\n",
      "HTTPSConnectionPool(host='www.freelancer.com', port=443): Max retries exceeded with url: /u/layracingtips (Caused by NewConnectionError('<requests.packages.urllib3.connection.VerifiedHTTPSConnection object at 0x7fd8f3911ed0>: Failed to establish a new connection: [Errno -2] Name or service not known',))\n",
      "HTTPSConnectionPool(host='www.freelancer.com', port=443): Max retries exceeded with url: /u/sndonline (Caused by NewConnectionError('<requests.packages.urllib3.connection.VerifiedHTTPSConnection object at 0x7fd8f3911f90>: Failed to establish a new connection: [Errno -2] Name or service not known',))\n",
      "HTTPSConnectionPool(host='www.freelancer.com', port=443): Max retries exceeded with url: /u/scampy (Caused by NewConnectionError('<requests.packages.urllib3.connection.VerifiedHTTPSConnection object at 0x7fd8f383e510>: Failed to establish a new connection: [Errno -2] Name or service not known',))\n",
      "HTTPSConnectionPool(host='www.freelancer.com', port=443): Max retries exceeded with url: /u/thpantry (Caused by NewConnectionError('<requests.packages.urllib3.connection.VerifiedHTTPSConnection object at 0x7fd8f383ec50>: Failed to establish a new connection: [Errno -2] Name or service not known',))\n",
      "HTTPSConnectionPool(host='www.freelancer.com', port=443): Max retries exceeded with url: /u/jeffdwyatt (Caused by NewConnectionError('<requests.packages.urllib3.connection.VerifiedHTTPSConnection object at 0x7fd8f383efd0>: Failed to establish a new connection: [Errno -2] Name or service not known',))\n",
      "HTTPSConnectionPool(host='www.freelancer.com', port=443): Max retries exceeded with url: /u/Turion256 (Caused by NewConnectionError('<requests.packages.urllib3.connection.VerifiedHTTPSConnection object at 0x7fd8d96304d0>: Failed to establish a new connection: [Errno 111] Connection refused',))\n",
      "HTTPSConnectionPool(host='www.freelancer.com', port=443): Max retries exceeded with url: /u/pro2netjobs (Caused by NewConnectionError('<requests.packages.urllib3.connection.VerifiedHTTPSConnection object at 0x7fd8f37afd10>: Failed to establish a new connection: [Errno 111] Connection refused',))\n",
      "HTTPSConnectionPool(host='www.freelancer.com', port=443): Max retries exceeded with url: /u/anj0399 (Caused by NewConnectionError('<requests.packages.urllib3.connection.VerifiedHTTPSConnection object at 0x7fd8d912c050>: Failed to establish a new connection: [Errno -5] No address associated with hostname',))\n",
      "HTTPSConnectionPool(host='www.freelancer.com', port=443): Max retries exceeded with url: /u/faedgarjr (Caused by NewConnectionError('<requests.packages.urllib3.connection.VerifiedHTTPSConnection object at 0x7fd8d912c690>: Failed to establish a new connection: [Errno -2] Name or service not known',))\n",
      "HTTPSConnectionPool(host='www.freelancer.com', port=443): Max retries exceeded with url: /u/sydpub (Caused by NewConnectionError('<requests.packages.urllib3.connection.VerifiedHTTPSConnection object at 0x7fd8d911b690>: Failed to establish a new connection: [Errno -2] Name or service not known',))\n",
      "HTTPSConnectionPool(host='www.freelancer.com', port=443): Max retries exceeded with url: /u/mas33 (Caused by NewConnectionError('<requests.packages.urllib3.connection.VerifiedHTTPSConnection object at 0x7fd8d9111590>: Failed to establish a new connection: [Errno -2] Name or service not known',))\n",
      "HTTPSConnectionPool(host='www.freelancer.com', port=443): Max retries exceeded with url: /u/Brassy2010 (Caused by NewConnectionError('<requests.packages.urllib3.connection.VerifiedHTTPSConnection object at 0x7fd8d912c2d0>: Failed to establish a new connection: [Errno -2] Name or service not known',))\n",
      "HTTPSConnectionPool(host='www.freelancer.com', port=443): Max retries exceeded with url: /u/s3enterprises (Caused by NewConnectionError('<requests.packages.urllib3.connection.VerifiedHTTPSConnection object at 0x7fd8d911b710>: Failed to establish a new connection: [Errno -2] Name or service not known',))\n",
      "HTTPSConnectionPool(host='www.freelancer.com', port=443): Max retries exceeded with url: /u/Tam2000 (Caused by NewConnectionError('<requests.packages.urllib3.connection.VerifiedHTTPSConnection object at 0x7fd8d911b250>: Failed to establish a new connection: [Errno -2] Name or service not known',))\n",
      "HTTPSConnectionPool(host='www.freelancer.com', port=443): Max retries exceeded with url: /u/lioness888 (Caused by NewConnectionError('<requests.packages.urllib3.connection.VerifiedHTTPSConnection object at 0x7fd8d911b250>: Failed to establish a new connection: [Errno -2] Name or service not known',))\n",
      "HTTPSConnectionPool(host='www.freelancer.com', port=443): Max retries exceeded with url: /u/App222 (Caused by NewConnectionError('<requests.packages.urllib3.connection.VerifiedHTTPSConnection object at 0x7fd8d912c650>: Failed to establish a new connection: [Errno -2] Name or service not known',))\n",
      "HTTPSConnectionPool(host='www.freelancer.com', port=443): Max retries exceeded with url: /u/horsenoble (Caused by NewConnectionError('<requests.packages.urllib3.connection.VerifiedHTTPSConnection object at 0x7fd8d912c4d0>: Failed to establish a new connection: [Errno -2] Name or service not known',))\n",
      "HTTPSConnectionPool(host='www.freelancer.com', port=443): Max retries exceeded with url: /u/reportsplus (Caused by NewConnectionError('<requests.packages.urllib3.connection.VerifiedHTTPSConnection object at 0x7fd8d912c190>: Failed to establish a new connection: [Errno -2] Name or service not known',))\n",
      "HTTPSConnectionPool(host='www.freelancer.com', port=443): Max retries exceeded with url: /u/denlarsen (Caused by NewConnectionError('<requests.packages.urllib3.connection.VerifiedHTTPSConnection object at 0x7fd8d9111190>: Failed to establish a new connection: [Errno -2] Name or service not known',))\n",
      "HTTPSConnectionPool(host='www.freelancer.com', port=443): Max retries exceeded with url: /u/obstinato5 (Caused by NewConnectionError('<requests.packages.urllib3.connection.VerifiedHTTPSConnection object at 0x7fd8d90e5690>: Failed to establish a new connection: [Errno -5] No address associated with hostname',))\n"
     ]
    },
    {
     "name": "stdout",
     "output_type": "stream",
     "text": [
      "HTTPSConnectionPool(host='www.freelancer.com', port=443): Max retries exceeded with url: /u/azert (Caused by NewConnectionError('<requests.packages.urllib3.connection.VerifiedHTTPSConnection object at 0x7fd8d91310d0>: Failed to establish a new connection: [Errno -2] Name or service not known',))\n",
      "HTTPSConnectionPool(host='www.freelancer.com', port=443): Max retries exceeded with url: /u/rahulkukreja (Caused by NewConnectionError('<requests.packages.urllib3.connection.VerifiedHTTPSConnection object at 0x7fd8d90e5a10>: Failed to establish a new connection: [Errno -5] No address associated with hostname',))\n",
      "HTTPSConnectionPool(host='www.freelancer.com', port=443): Max retries exceeded with url: /u/dipperu (Caused by NewConnectionError('<requests.packages.urllib3.connection.VerifiedHTTPSConnection object at 0x7fd8d9111e90>: Failed to establish a new connection: [Errno -5] No address associated with hostname',))\n",
      "HTTPSConnectionPool(host='www.freelancer.com', port=443): Max retries exceeded with url: /u/lollodev (Caused by NewConnectionError('<requests.packages.urllib3.connection.VerifiedHTTPSConnection object at 0x7fd8d9111950>: Failed to establish a new connection: [Errno -2] Name or service not known',))\n",
      "HTTPSConnectionPool(host='www.freelancer.com', port=443): Max retries exceeded with url: /u/tcwebdesign (Caused by NewConnectionError('<requests.packages.urllib3.connection.VerifiedHTTPSConnection object at 0x7fd8d9111b50>: Failed to establish a new connection: [Errno -2] Name or service not known',))\n",
      "HTTPSConnectionPool(host='www.freelancer.com', port=443): Max retries exceeded with url: /u/rainman2000 (Caused by NewConnectionError('<requests.packages.urllib3.connection.VerifiedHTTPSConnection object at 0x7fd8d90e5390>: Failed to establish a new connection: [Errno -2] Name or service not known',))\n",
      "HTTPSConnectionPool(host='www.freelancer.com', port=443): Max retries exceeded with url: /u/alexmichael (Caused by NewConnectionError('<requests.packages.urllib3.connection.VerifiedHTTPSConnection object at 0x7fd8d911b4d0>: Failed to establish a new connection: [Errno -2] Name or service not known',))\n",
      "HTTPSConnectionPool(host='www.freelancer.com', port=443): Max retries exceeded with url: /u/fedulova (Caused by NewConnectionError('<requests.packages.urllib3.connection.VerifiedHTTPSConnection object at 0x7fd8d912ca50>: Failed to establish a new connection: [Errno -2] Name or service not known',))\n",
      "HTTPSConnectionPool(host='www.freelancer.com', port=443): Max retries exceeded with url: /u/robice (Caused by NewConnectionError('<requests.packages.urllib3.connection.VerifiedHTTPSConnection object at 0x7fd8d90e5910>: Failed to establish a new connection: [Errno -2] Name or service not known',))\n",
      "HTTPSConnectionPool(host='www.freelancer.com', port=443): Max retries exceeded with url: /u/cegner (Caused by NewConnectionError('<requests.packages.urllib3.connection.VerifiedHTTPSConnection object at 0x7fd8d912ca90>: Failed to establish a new connection: [Errno -2] Name or service not known',))\n",
      "HTTPSConnectionPool(host='www.freelancer.com', port=443): Max retries exceeded with url: /u/fenick (Caused by NewConnectionError('<requests.packages.urllib3.connection.VerifiedHTTPSConnection object at 0x7fd8f3be1a50>: Failed to establish a new connection: [Errno -2] Name or service not known',))\n",
      "HTTPSConnectionPool(host='www.freelancer.com', port=443): Max retries exceeded with url: /u/mcrock (Caused by NewConnectionError('<requests.packages.urllib3.connection.VerifiedHTTPSConnection object at 0x7fd8d90e5910>: Failed to establish a new connection: [Errno -2] Name or service not known',))\n",
      "HTTPSConnectionPool(host='www.freelancer.com', port=443): Max retries exceeded with url: /u/sarahanma (Caused by NewConnectionError('<requests.packages.urllib3.connection.VerifiedHTTPSConnection object at 0x7fd8d90e5950>: Failed to establish a new connection: [Errno -2] Name or service not known',))\n",
      "HTTPSConnectionPool(host='www.freelancer.com', port=443): Max retries exceeded with url: /u/chrisww123 (Caused by NewConnectionError('<requests.packages.urllib3.connection.VerifiedHTTPSConnection object at 0x7fd8d912cb10>: Failed to establish a new connection: [Errno -2] Name or service not known',))\n",
      "HTTPSConnectionPool(host='www.freelancer.com', port=443): Max retries exceeded with url: /u/mk6chlfn9 (Caused by NewConnectionError('<requests.packages.urllib3.connection.VerifiedHTTPSConnection object at 0x7fd8d912c250>: Failed to establish a new connection: [Errno -2] Name or service not known',))\n",
      "HTTPSConnectionPool(host='www.freelancer.com', port=443): Max retries exceeded with url: /u/mikaeel (Caused by NewConnectionError('<requests.packages.urllib3.connection.VerifiedHTTPSConnection object at 0x7fd8d912c690>: Failed to establish a new connection: [Errno -2] Name or service not known',))\n",
      "HTTPSConnectionPool(host='www.freelancer.com', port=443): Max retries exceeded with url: /u/mobilotronics (Caused by NewConnectionError('<requests.packages.urllib3.connection.VerifiedHTTPSConnection object at 0x7fd8d912c410>: Failed to establish a new connection: [Errno -2] Name or service not known',))\n",
      "HTTPSConnectionPool(host='www.freelancer.com', port=443): Max retries exceeded with url: /u/semacore (Caused by NewConnectionError('<requests.packages.urllib3.connection.VerifiedHTTPSConnection object at 0x7fd8d911b990>: Failed to establish a new connection: [Errno -5] No address associated with hostname',))\n",
      "HTTPSConnectionPool(host='www.freelancer.com', port=443): Max retries exceeded with url: /u/Naveed1980 (Caused by NewConnectionError('<requests.packages.urllib3.connection.VerifiedHTTPSConnection object at 0x7fd8d911b310>: Failed to establish a new connection: [Errno -2] Name or service not known',))\n",
      "HTTPSConnectionPool(host='www.freelancer.com', port=443): Max retries exceeded with url: /u/dataforgesys (Caused by NewConnectionError('<requests.packages.urllib3.connection.VerifiedHTTPSConnection object at 0x7fd8d911b250>: Failed to establish a new connection: [Errno -2] Name or service not known',))\n",
      "HTTPSConnectionPool(host='www.freelancer.com', port=443): Max retries exceeded with url: /u/turtlebox (Caused by NewConnectionError('<requests.packages.urllib3.connection.VerifiedHTTPSConnection object at 0x7fd8d912ca90>: Failed to establish a new connection: [Errno -2] Name or service not known',))\n",
      "HTTPSConnectionPool(host='www.freelancer.com', port=443): Max retries exceeded with url: /u/dircorporation (Caused by NewConnectionError('<requests.packages.urllib3.connection.VerifiedHTTPSConnection object at 0x7fd8d912c650>: Failed to establish a new connection: [Errno -2] Name or service not known',))\n",
      "HTTPSConnectionPool(host='www.freelancer.com', port=443): Max retries exceeded with url: /u/Hunatilla (Caused by NewConnectionError('<requests.packages.urllib3.connection.VerifiedHTTPSConnection object at 0x7fd8d90dfbd0>: Failed to establish a new connection: [Errno -2] Name or service not known',))\n",
      "HTTPSConnectionPool(host='www.freelancer.com', port=443): Max retries exceeded with url: /u/aacosta (Caused by NewConnectionError('<requests.packages.urllib3.connection.VerifiedHTTPSConnection object at 0x7fd8d911b310>: Failed to establish a new connection: [Errno -2] Name or service not known',))\n",
      "HTTPSConnectionPool(host='www.freelancer.com', port=443): Max retries exceeded with url: /u/markhanslow (Caused by NewConnectionError('<requests.packages.urllib3.connection.VerifiedHTTPSConnection object at 0x7fd8d90df610>: Failed to establish a new connection: [Errno -2] Name or service not known',))\n",
      "HTTPSConnectionPool(host='www.freelancer.com', port=443): Max retries exceeded with url: /u/abbey007 (Caused by NewConnectionError('<requests.packages.urllib3.connection.VerifiedHTTPSConnection object at 0x7fd8d911ba10>: Failed to establish a new connection: [Errno -2] Name or service not known',))\n",
      "HTTPSConnectionPool(host='www.freelancer.com', port=443): Max retries exceeded with url: /u/horizongroupsj (Caused by NewConnectionError('<requests.packages.urllib3.connection.VerifiedHTTPSConnection object at 0x7fd8d911b990>: Failed to establish a new connection: [Errno -2] Name or service not known',))\n",
      "HTTPSConnectionPool(host='www.freelancer.com', port=443): Max retries exceeded with url: /u/keavenen (Caused by NewConnectionError('<requests.packages.urllib3.connection.VerifiedHTTPSConnection object at 0x7fd8d9111e10>: Failed to establish a new connection: [Errno -2] Name or service not known',))\n",
      "HTTPSConnectionPool(host='www.freelancer.com', port=443): Max retries exceeded with url: /u/Ferdinandkjaer (Caused by NewConnectionError('<requests.packages.urllib3.connection.VerifiedHTTPSConnection object at 0x7fd8d90dffd0>: Failed to establish a new connection: [Errno -2] Name or service not known',))\n",
      "HTTPSConnectionPool(host='www.freelancer.com', port=443): Max retries exceeded with url: /u/adultche (Caused by NewConnectionError('<requests.packages.urllib3.connection.VerifiedHTTPSConnection object at 0x7fd8d9111490>: Failed to establish a new connection: [Errno -2] Name or service not known',))\n",
      "HTTPSConnectionPool(host='www.freelancer.com', port=443): Max retries exceeded with url: /u/zero3 (Caused by NewConnectionError('<requests.packages.urllib3.connection.VerifiedHTTPSConnection object at 0x7fd8d9111510>: Failed to establish a new connection: [Errno -2] Name or service not known',))\n",
      "HTTPSConnectionPool(host='www.freelancer.com', port=443): Max retries exceeded with url: /u/synoangel (Caused by NewConnectionError('<requests.packages.urllib3.connection.VerifiedHTTPSConnection object at 0x7fd8d911bfd0>: Failed to establish a new connection: [Errno -2] Name or service not known',))\n",
      "HTTPSConnectionPool(host='www.freelancer.com', port=443): Max retries exceeded with url: /u/sjsidewinder (Caused by NewConnectionError('<requests.packages.urllib3.connection.VerifiedHTTPSConnection object at 0x7fd8d911ba50>: Failed to establish a new connection: [Errno -2] Name or service not known',))\n",
      "HTTPSConnectionPool(host='www.freelancer.com', port=443): Max retries exceeded with url: /u/brr300 (Caused by NewConnectionError('<requests.packages.urllib3.connection.VerifiedHTTPSConnection object at 0x7fd8d90de490>: Failed to establish a new connection: [Errno -2] Name or service not known',))\n",
      "HTTPSConnectionPool(host='www.freelancer.com', port=443): Max retries exceeded with url: /u/tomsa92 (Caused by NewConnectionError('<requests.packages.urllib3.connection.VerifiedHTTPSConnection object at 0x7fd8d90de410>: Failed to establish a new connection: [Errno -2] Name or service not known',))\n",
      "HTTPSConnectionPool(host='www.freelancer.com', port=443): Max retries exceeded with url: /u/LazyCatsLazyCats (Caused by NewConnectionError('<requests.packages.urllib3.connection.VerifiedHTTPSConnection object at 0x7fd8d9111510>: Failed to establish a new connection: [Errno -5] No address associated with hostname',))\n",
      "HTTPSConnectionPool(host='www.freelancer.com', port=443): Max retries exceeded with url: /u/omd34322 (Caused by NewConnectionError('<requests.packages.urllib3.connection.VerifiedHTTPSConnection object at 0x7fd8d91113d0>: Failed to establish a new connection: [Errno -2] Name or service not known',))\n",
      "HTTPSConnectionPool(host='www.freelancer.com', port=443): Max retries exceeded with url: /u/EduardoBento (Caused by NewConnectionError('<requests.packages.urllib3.connection.VerifiedHTTPSConnection object at 0x7fd8d9111e10>: Failed to establish a new connection: [Errno -2] Name or service not known',))\n"
     ]
    },
    {
     "name": "stdout",
     "output_type": "stream",
     "text": [
      "HTTPSConnectionPool(host='www.freelancer.com', port=443): Max retries exceeded with url: /u/freewoo (Caused by NewConnectionError('<requests.packages.urllib3.connection.VerifiedHTTPSConnection object at 0x7fd8d90fc190>: Failed to establish a new connection: [Errno -2] Name or service not known',))\n",
      "HTTPSConnectionPool(host='www.freelancer.com', port=443): Max retries exceeded with url: /u/brlasw (Caused by NewConnectionError('<requests.packages.urllib3.connection.VerifiedHTTPSConnection object at 0x7fd8d90de2d0>: Failed to establish a new connection: [Errno -5] No address associated with hostname',))\n",
      "HTTPSConnectionPool(host='www.freelancer.com', port=443): Max retries exceeded with url: /u/GlocalReturns (Caused by NewConnectionError('<requests.packages.urllib3.connection.VerifiedHTTPSConnection object at 0x7fd8d90fc7d0>: Failed to establish a new connection: [Errno -2] Name or service not known',))\n",
      "HTTPSConnectionPool(host='www.freelancer.com', port=443): Max retries exceeded with url: /u/rootzoom (Caused by NewConnectionError('<requests.packages.urllib3.connection.VerifiedHTTPSConnection object at 0x7fd8d90fc710>: Failed to establish a new connection: [Errno -2] Name or service not known',))\n",
      "HTTPSConnectionPool(host='www.freelancer.com', port=443): Max retries exceeded with url: /u/scoopbh (Caused by NewConnectionError('<requests.packages.urllib3.connection.VerifiedHTTPSConnection object at 0x7fd8d90fc110>: Failed to establish a new connection: [Errno -2] Name or service not known',))\n",
      "HTTPSConnectionPool(host='www.freelancer.com', port=443): Max retries exceeded with url: /u/abibuzze (Caused by NewConnectionError('<requests.packages.urllib3.connection.VerifiedHTTPSConnection object at 0x7fd8d90fce10>: Failed to establish a new connection: [Errno -2] Name or service not known',))\n",
      "HTTPSConnectionPool(host='www.freelancer.com', port=443): Max retries exceeded with url: /u/ddrmaniac123 (Caused by NewConnectionError('<requests.packages.urllib3.connection.VerifiedHTTPSConnection object at 0x7fd8d90de490>: Failed to establish a new connection: [Errno -2] Name or service not known',))\n",
      "HTTPSConnectionPool(host='www.freelancer.com', port=443): Max retries exceeded with url: /u/sreiser (Caused by NewConnectionError('<requests.packages.urllib3.connection.VerifiedHTTPSConnection object at 0x7fd8d90de9d0>: Failed to establish a new connection: [Errno -2] Name or service not known',))\n",
      "HTTPSConnectionPool(host='www.freelancer.com', port=443): Max retries exceeded with url: /u/urbansouth (Caused by NewConnectionError('<requests.packages.urllib3.connection.VerifiedHTTPSConnection object at 0x7fd8d90e8610>: Failed to establish a new connection: [Errno -2] Name or service not known',))\n",
      "HTTPSConnectionPool(host='www.freelancer.com', port=443): Max retries exceeded with url: /u/MDMusic (Caused by NewConnectionError('<requests.packages.urllib3.connection.VerifiedHTTPSConnection object at 0x7fd8d90fcc50>: Failed to establish a new connection: [Errno -2] Name or service not known',))\n",
      "HTTPSConnectionPool(host='www.freelancer.com', port=443): Max retries exceeded with url: /u/sso26 (Caused by NewConnectionError('<requests.packages.urllib3.connection.VerifiedHTTPSConnection object at 0x7fd8d90e8dd0>: Failed to establish a new connection: [Errno -2] Name or service not known',))\n",
      "HTTPSConnectionPool(host='www.freelancer.com', port=443): Max retries exceeded with url: /u/ChrisRip (Caused by NewConnectionError('<requests.packages.urllib3.connection.VerifiedHTTPSConnection object at 0x7fd8d90de7d0>: Failed to establish a new connection: [Errno -2] Name or service not known',))\n",
      "HTTPSConnectionPool(host='www.freelancer.com', port=443): Max retries exceeded with url: /u/jm2010 (Caused by NewConnectionError('<requests.packages.urllib3.connection.VerifiedHTTPSConnection object at 0x7fd8d90e8f90>: Failed to establish a new connection: [Errno -2] Name or service not known',))\n",
      "HTTPSConnectionPool(host='www.freelancer.com', port=443): Max retries exceeded with url: /u/robgprod (Caused by NewConnectionError('<requests.packages.urllib3.connection.VerifiedHTTPSConnection object at 0x7fd8d90e8e90>: Failed to establish a new connection: [Errno -5] No address associated with hostname',))\n",
      "HTTPSConnectionPool(host='www.freelancer.com', port=443): Max retries exceeded with url: /u/carimay (Caused by NewConnectionError('<requests.packages.urllib3.connection.VerifiedHTTPSConnection object at 0x7fd8d90e8dd0>: Failed to establish a new connection: [Errno -2] Name or service not known',))\n",
      "HTTPSConnectionPool(host='www.freelancer.com', port=443): Max retries exceeded with url: /u/mrsam (Caused by NewConnectionError('<requests.packages.urllib3.connection.VerifiedHTTPSConnection object at 0x7fd8d90e8910>: Failed to establish a new connection: [Errno -2] Name or service not known',))\n",
      "HTTPSConnectionPool(host='www.freelancer.com', port=443): Max retries exceeded with url: /u/gleurini (Caused by NewConnectionError('<requests.packages.urllib3.connection.VerifiedHTTPSConnection object at 0x7fd8d90f2150>: Failed to establish a new connection: [Errno -2] Name or service not known',))\n",
      "HTTPSConnectionPool(host='www.freelancer.com', port=443): Max retries exceeded with url: /u/lsherbin (Caused by NewConnectionError('<requests.packages.urllib3.connection.VerifiedHTTPSConnection object at 0x7fd8d90f24d0>: Failed to establish a new connection: [Errno -2] Name or service not known',))\n",
      "HTTPSConnectionPool(host='www.freelancer.com', port=443): Max retries exceeded with url: /u/everdreamweb (Caused by NewConnectionError('<requests.packages.urllib3.connection.VerifiedHTTPSConnection object at 0x7fd8d90e8590>: Failed to establish a new connection: [Errno -2] Name or service not known',))\n",
      "HTTPSConnectionPool(host='www.freelancer.com', port=443): Max retries exceeded with url: /u/seo4whitehats (Caused by NewConnectionError('<requests.packages.urllib3.connection.VerifiedHTTPSConnection object at 0x7fd8d90f2c10>: Failed to establish a new connection: [Errno -5] No address associated with hostname',))\n",
      "HTTPSConnectionPool(host='www.freelancer.com', port=443): Max retries exceeded with url: /u/Theg1819 (Caused by NewConnectionError('<requests.packages.urllib3.connection.VerifiedHTTPSConnection object at 0x7fd8d90f2e90>: Failed to establish a new connection: [Errno -2] Name or service not known',))\n",
      "HTTPSConnectionPool(host='www.freelancer.com', port=443): Max retries exceeded with url: /u/mmsamb (Caused by NewConnectionError('<requests.packages.urllib3.connection.VerifiedHTTPSConnection object at 0x7fd8d90f2750>: Failed to establish a new connection: [Errno -2] Name or service not known',))\n",
      "HTTPSConnectionPool(host='www.freelancer.com', port=443): Max retries exceeded with url: /u/darknight007 (Caused by NewConnectionError('<requests.packages.urllib3.connection.VerifiedHTTPSConnection object at 0x7fd8d90f2790>: Failed to establish a new connection: [Errno -2] Name or service not known',))\n",
      "HTTPSConnectionPool(host='www.freelancer.com', port=443): Max retries exceeded with url: /u/wickedsoft (Caused by NewConnectionError('<requests.packages.urllib3.connection.VerifiedHTTPSConnection object at 0x7fd8d90f21d0>: Failed to establish a new connection: [Errno -2] Name or service not known',))\n",
      "HTTPSConnectionPool(host='www.freelancer.com', port=443): Max retries exceeded with url: /u/AndrewKX (Caused by NewConnectionError('<requests.packages.urllib3.connection.VerifiedHTTPSConnection object at 0x7fd8d90f2750>: Failed to establish a new connection: [Errno -2] Name or service not known',))\n",
      "HTTPSConnectionPool(host='www.freelancer.com', port=443): Max retries exceeded with url: /u/denmarion (Caused by NewConnectionError('<requests.packages.urllib3.connection.VerifiedHTTPSConnection object at 0x7fd8d90e9750>: Failed to establish a new connection: [Errno -5] No address associated with hostname',))\n",
      "HTTPSConnectionPool(host='www.freelancer.com', port=443): Max retries exceeded with url: /u/celabe (Caused by NewConnectionError('<requests.packages.urllib3.connection.VerifiedHTTPSConnection object at 0x7fd8d90e9310>: Failed to establish a new connection: [Errno -2] Name or service not known',))\n",
      "HTTPSConnectionPool(host='www.freelancer.com', port=443): Max retries exceeded with url: /u/tinklevision (Caused by NewConnectionError('<requests.packages.urllib3.connection.VerifiedHTTPSConnection object at 0x7fd8d90e99d0>: Failed to establish a new connection: [Errno -2] Name or service not known',))\n",
      "HTTPSConnectionPool(host='www.freelancer.com', port=443): Max retries exceeded with url: /u/insideloscabos (Caused by NewConnectionError('<requests.packages.urllib3.connection.VerifiedHTTPSConnection object at 0x7fd8d90e9b50>: Failed to establish a new connection: [Errno -2] Name or service not known',))\n",
      "HTTPSConnectionPool(host='www.freelancer.com', port=443): Max retries exceeded with url: /u/Ruevavin (Caused by NewConnectionError('<requests.packages.urllib3.connection.VerifiedHTTPSConnection object at 0x7fd8d90e9c50>: Failed to establish a new connection: [Errno -2] Name or service not known',))\n",
      "HTTPSConnectionPool(host='www.freelancer.com', port=443): Max retries exceeded with url: /u/SaikoMarc (Caused by NewConnectionError('<requests.packages.urllib3.connection.VerifiedHTTPSConnection object at 0x7fd8d90e9dd0>: Failed to establish a new connection: [Errno -2] Name or service not known',))\n"
     ]
    },
    {
     "name": "stdout",
     "output_type": "stream",
     "text": [
      "HTTPSConnectionPool(host='www.freelancer.com', port=443): Max retries exceeded with url: /u/Gin0 (Caused by NewConnectionError('<requests.packages.urllib3.connection.VerifiedHTTPSConnection object at 0x7fd8d90e9ed0>: Failed to establish a new connection: [Errno -2] Name or service not known',))\n",
      "HTTPSConnectionPool(host='www.freelancer.com', port=443): Max retries exceeded with url: /u/FeketeEVe (Caused by NewConnectionError('<requests.packages.urllib3.connection.VerifiedHTTPSConnection object at 0x7fd8d90e9d10>: Failed to establish a new connection: [Errno -2] Name or service not known',))\n",
      "HTTPSConnectionPool(host='www.freelancer.com', port=443): Max retries exceeded with url: /u/nolanb (Caused by NewConnectionError('<requests.packages.urllib3.connection.VerifiedHTTPSConnection object at 0x7fd8d90e9b90>: Failed to establish a new connection: [Errno -2] Name or service not known',))\n",
      "HTTPSConnectionPool(host='www.freelancer.com', port=443): Max retries exceeded with url: /u/scoho7 (Caused by NewConnectionError('<requests.packages.urllib3.connection.VerifiedHTTPSConnection object at 0x7fd8d90e9910>: Failed to establish a new connection: [Errno -5] No address associated with hostname',))\n",
      "HTTPSConnectionPool(host='www.freelancer.com', port=443): Max retries exceeded with url: /u/JillWasuario (Caused by NewConnectionError('<requests.packages.urllib3.connection.VerifiedHTTPSConnection object at 0x7fd8d90e9b90>: Failed to establish a new connection: [Errno -2] Name or service not known',))\n",
      "HTTPSConnectionPool(host='www.freelancer.com', port=443): Max retries exceeded with url: /u/dannyt0812 (Caused by NewConnectionError('<requests.packages.urllib3.connection.VerifiedHTTPSConnection object at 0x7fd8d912cc50>: Failed to establish a new connection: [Errno 111] Connection refused',))\n",
      "HTTPSConnectionPool(host='www.freelancer.com', port=443): Max retries exceeded with url: /u/Starforsaken (Caused by NewConnectionError('<requests.packages.urllib3.connection.VerifiedHTTPSConnection object at 0x7fd8d911b310>: Failed to establish a new connection: [Errno 111] Connection refused',))\n",
      "HTTPSConnectionPool(host='www.freelancer.com', port=443): Max retries exceeded with url: /u/dchristian (Caused by NewConnectionError('<requests.packages.urllib3.connection.VerifiedHTTPSConnection object at 0x7fd8d90def50>: Failed to establish a new connection: [Errno 111] Connection refused',))\n",
      "profiles  1466   used  139.08 s Sep 18 14:33:05 2017\n"
     ]
    }
   ],
   "source": [
    "batch(new)"
   ]
  },
  {
   "cell_type": "code",
   "execution_count": 27,
   "metadata": {},
   "outputs": [
    {
     "data": {
      "text/plain": [
       "0"
      ]
     },
     "execution_count": 27,
     "metadata": {},
     "output_type": "execute_result"
    }
   ],
   "source": [
    "len(fail)"
   ]
  },
  {
   "cell_type": "code",
   "execution_count": 27,
   "metadata": {},
   "outputs": [
    {
     "name": "stdout",
     "output_type": "stream",
     "text": [
      "217\n"
     ]
    }
   ],
   "source": [
    "new2=list(fail)\n",
    "print len(new2)\n",
    "fail=[]"
   ]
  },
  {
   "cell_type": "code",
   "execution_count": 28,
   "metadata": {},
   "outputs": [
    {
     "name": "stdout",
     "output_type": "stream",
     "text": [
      "profiles  217   used  17.04 s Sep 18 14:35:25 2017\n"
     ]
    }
   ],
   "source": [
    "batch(new2)"
   ]
  },
  {
   "cell_type": "code",
   "execution_count": null,
   "metadata": {
    "collapsed": true
   },
   "outputs": [],
   "source": []
  }
 ],
 "metadata": {
  "kernelspec": {
   "display_name": "Python 2",
   "language": "python",
   "name": "python2"
  },
  "language_info": {
   "codemirror_mode": {
    "name": "ipython",
    "version": 2
   },
   "file_extension": ".py",
   "mimetype": "text/x-python",
   "name": "python",
   "nbconvert_exporter": "python",
   "pygments_lexer": "ipython2",
   "version": "2.7.13"
  }
 },
 "nbformat": 4,
 "nbformat_minor": 2
}
