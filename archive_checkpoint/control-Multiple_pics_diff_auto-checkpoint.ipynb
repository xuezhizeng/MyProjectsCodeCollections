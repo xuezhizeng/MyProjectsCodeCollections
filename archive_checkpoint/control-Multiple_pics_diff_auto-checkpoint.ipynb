{
 "cells": [
  {
   "cell_type": "code",
   "execution_count": 17,
   "metadata": {
    "collapsed": true
   },
   "outputs": [],
   "source": [
    "import pandas as pd\n",
    "import os"
   ]
  },
  {
   "cell_type": "markdown",
   "metadata": {},
   "source": [
    "https://stackoverflow.com/questions/29580178/no-output-from-python-in-terminal"
   ]
  },
  {
   "cell_type": "code",
   "execution_count": 12,
   "metadata": {
    "collapsed": true
   },
   "outputs": [],
   "source": [
    "import os\n",
    "import cv2\n",
    "from IPython.core.display import Image  \n",
    "import matplotlib.pyplot as plt\n",
    "\n"
   ]
  },
  {
   "cell_type": "code",
   "execution_count": 3,
   "metadata": {},
   "outputs": [
    {
     "name": "stdout",
     "output_type": "stream",
     "text": [
      "bidder1_gender_diff_predict.csv  boss1_gender_diff_predict_1.csv\r\n",
      "bidder1_gender_predict.csv\t boss1_gender_predict.csv\r\n"
     ]
    }
   ],
   "source": [
    "!ls predict"
   ]
  },
  {
   "cell_type": "code",
   "execution_count": 4,
   "metadata": {
    "collapsed": true
   },
   "outputs": [],
   "source": [
    "n=1"
   ]
  },
  {
   "cell_type": "code",
   "execution_count": 11,
   "metadata": {},
   "outputs": [],
   "source": [
    "# def loop(n)\n",
    "# %%time\n",
    "# !python rude-carnie/guess.py --class_type gender --model_type inception --model_dir 21936 \\\n",
    "# --filename /home/soyoung/face/Freelancer/Tensorflow/bidder1.txt \\\n",
    "# --target /home/soyoung/face/Freelancer/Tensorflow/bidder1_gender_predict.csv\n"
   ]
  },
  {
   "cell_type": "markdown",
   "metadata": {},
   "source": [
    "CPU times: user 2min 18s, sys: 17 s, total: 2min 35s\n",
    "Wall time: 1h 34min 33s"
   ]
  },
  {
   "cell_type": "code",
   "execution_count": 25,
   "metadata": {},
   "outputs": [
    {
     "name": "stdout",
     "output_type": "stream",
     "text": [
      "(896, 3)\n",
      "(896, 3)\n"
     ]
    },
    {
     "data": {
      "text/plain": [
       "8666"
      ]
     },
     "execution_count": 25,
     "metadata": {},
     "output_type": "execute_result"
    }
   ],
   "source": [
    "df = pd.read_csv('predict/bidder1_gender_predict.csv')\n",
    "print df.shape\n",
    "done1 = df['file']\n",
    "\n",
    "df2 = pd.read_csv('predict/bidder1_gender_diff_predict_1.csv')\n",
    "print df2.shape\n",
    "done2 = df2['file']\n",
    "\n",
    "should = pd.read_fwf('bidder1.txt',names =['url'])\n",
    "wanted=should['url']\n",
    "\n",
    "diff = list(set(wanted)-set(done1)-set(done2))\n",
    "len(diff)"
   ]
  },
  {
   "cell_type": "code",
   "execution_count": 16,
   "metadata": {},
   "outputs": [
    {
     "data": {
      "text/plain": [
       "17.332"
      ]
     },
     "execution_count": 16,
     "metadata": {},
     "output_type": "execute_result"
    }
   ],
   "source": [
    "8666/500.0"
   ]
  },
  {
   "cell_type": "code",
   "execution_count": 18,
   "metadata": {
    "collapsed": true
   },
   "outputs": [],
   "source": [
    "os.mkdir('bidder1_list')"
   ]
  },
  {
   "cell_type": "code",
   "execution_count": 26,
   "metadata": {},
   "outputs": [
    {
     "name": "stdout",
     "output_type": "stream",
     "text": [
      "CPU times: user 48 ms, sys: 8 ms, total: 56 ms\n",
      "Wall time: 53.5 ms\n"
     ]
    }
   ],
   "source": [
    "%%time\n",
    "for i in range(2,20):\n",
    "    with open('bidder1_list/bidder1_diff_{}.txt'.format(i),'w+') as fl:\n",
    "        for j in diff[(i-2)*500:(i-1)*500]:\n",
    "            fl.writelines(j+'\\n')\n",
    "    \n"
   ]
  },
  {
   "cell_type": "code",
   "execution_count": null,
   "metadata": {
    "collapsed": true
   },
   "outputs": [],
   "source": []
  },
  {
   "cell_type": "code",
   "execution_count": null,
   "metadata": {
    "collapsed": true
   },
   "outputs": [],
   "source": []
  },
  {
   "cell_type": "code",
   "execution_count": null,
   "metadata": {
    "collapsed": true
   },
   "outputs": [],
   "source": []
  },
  {
   "cell_type": "code",
   "execution_count": null,
   "metadata": {
    "collapsed": true
   },
   "outputs": [],
   "source": [
    "%%time\n",
    "!python rude-carnie/guess.py --class_type gender --model_type inception --model_dir 21936 \\\n",
    "--filename /home/soyoung/face/Freelancer/Tensorflow/bidder1_diff.txt --target /home/soyoung/face/Freelancer/Tensorflow/bidder1_gender_diff_predict.csv\n"
   ]
  },
  {
   "cell_type": "code",
   "execution_count": null,
   "metadata": {
    "collapsed": true
   },
   "outputs": [],
   "source": []
  }
 ],
 "metadata": {
  "kernelspec": {
   "display_name": "Python 2",
   "language": "python",
   "name": "python2"
  },
  "language_info": {
   "codemirror_mode": {
    "name": "ipython",
    "version": 2
   },
   "file_extension": ".py",
   "mimetype": "text/x-python",
   "name": "python",
   "nbconvert_exporter": "python",
   "pygments_lexer": "ipython2",
   "version": "2.7.13"
  }
 },
 "nbformat": 4,
 "nbformat_minor": 2
}
