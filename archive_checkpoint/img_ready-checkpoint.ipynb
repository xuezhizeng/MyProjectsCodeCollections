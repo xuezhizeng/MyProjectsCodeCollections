{
 "cells": [
  {
   "cell_type": "code",
   "execution_count": 8,
   "metadata": {
    "collapsed": true
   },
   "outputs": [],
   "source": [
    "import concurrent.futures\n",
    "import requests\n",
    "import os\n",
    "\n",
    "from time import time, ctime\n",
    "import pandas as pd\n",
    "\n",
    "fail=[]"
   ]
  },
  {
   "cell_type": "code",
   "execution_count": null,
   "metadata": {
    "collapsed": true
   },
   "outputs": [],
   "source": []
  },
  {
   "cell_type": "code",
   "execution_count": null,
   "metadata": {},
   "outputs": [],
   "source": [
    "\n"
   ]
  },
  {
   "cell_type": "code",
   "execution_count": 16,
   "metadata": {
    "collapsed": true
   },
   "outputs": [],
   "source": [
    "def download_image(img_url):\n",
    "    global direct\n",
    "    \n",
    "    try:\n",
    "        ID, url = img_url.split('__')\n",
    "        cont = url.split('/')\n",
    "        name= str(ID)+'_'+str(cont[-4])+str(cont[-1]).replace('_570','')\n",
    "        \n",
    "    except Exception as e:\n",
    "        fail.append(img_url)\n",
    "        print e\n",
    "\n",
    "        \n",
    "        \n",
    "    try:\n",
    "        img_request = requests.request(\n",
    "            'get', url, stream=True, timeout=300)\n",
    "        if img_request.status_code != 200:\n",
    "            fail.append(img_url)\n",
    "            print 'X2'\n",
    "    except Exception as e:\n",
    "        fail.append(img_url)\n",
    "        print e\n",
    "\n",
    "    try:\n",
    "        img_content = img_request.content\n",
    "        with open(os.path.join(direct,  name), 'wb') as f:\n",
    "            byte_image = bytes(img_content)\n",
    "            f.write(byte_image)\n",
    "            \n",
    "    except Exception as e:\n",
    "        fail.append(img_url)\n",
    "        print e\n",
    "\n"
   ]
  },
  {
   "cell_type": "code",
   "execution_count": 17,
   "metadata": {
    "collapsed": true
   },
   "outputs": [],
   "source": [
    "def batch(subber):\n",
    "    start=time()\n",
    "    with concurrent.futures.ThreadPoolExecutor(max_workers=8) as executor:\n",
    "        executor.map(download_image, subber)\n",
    "    past='{:.2f}'.format(time()-start)\n",
    "    now=ctime()[4:]\n",
    "\n",
    "    print 'imges ',len(subber),'  used ',past,'s', now\n"
   ]
  },
  {
   "cell_type": "code",
   "execution_count": 18,
   "metadata": {
    "collapsed": true
   },
   "outputs": [],
   "source": [
    "def spl(lists, n):\n",
    "    return  [lists[i:i + n] for i in range(0, len(lists), n)]"
   ]
  },
  {
   "cell_type": "code",
   "execution_count": null,
   "metadata": {},
   "outputs": [
    {
     "name": "stdout",
     "output_type": "stream",
     "text": [
      "which set (1-24)?: 1\n",
      "dir img_1 exists\n",
      "10000  pics\n",
      "True\n",
      "how many IDs a batch?: 100\n",
      "imges  100   used  9.92 s Aug 30 23:14:54 2017\n",
      "1.0 % 10000 100\n",
      "imges  100   used  5.30 s Aug 30 23:15:00 2017\n",
      "2.0 % 10000 200\n",
      "imges  100   used  4.54 s Aug 30 23:15:04 2017\n",
      "3.0 % 10000 300\n",
      "HTTPConnectionPool(host='img2.soyoung.com', port=80): Max retries exceeded with url: /tieba/ios/20170514/2/20170514145505539_570.jpg (Caused by NewConnectionError('<requests.packages.urllib3.connection.HTTPConnection object at 0x7f5a1c36bf50>: Failed to establish a new connection: [Errno -2] Name or service not known',))\n",
      "local variable 'img_request' referenced before assignment\n",
      "HTTPConnectionPool(host='img2.soyoung.com', port=80): Max retries exceeded with url: /tieba/ios/20170523/7/20170523164954746_570.jpg (Caused by NewConnectionError('<requests.packages.urllib3.connection.HTTPConnection object at 0x7f5a1c088590>: Failed to establish a new connection: [Errno -2] Name or service not known',))\n",
      "local variable 'img_request' referenced before assignment\n",
      "HTTPConnectionPool(host='img2.soyoung.com', port=80): Max retries exceeded with url: /tieba/ios/20170523/7/20170523164955821_570.jpg (Caused by NewConnectionError('<requests.packages.urllib3.connection.HTTPConnection object at 0x7f5a1c3147d0>: Failed to establish a new connection: [Errno -2] Name or service not known',))\n",
      "local variable 'img_request' referenced before assignment\n",
      "HTTPConnectionPool(host='img2.soyoung.com', port=80): Max retries exceeded with url: /tieba/ios/20170525/3/20170525100859853_570.jpg (Caused by NewConnectionError('<requests.packages.urllib3.connection.HTTPConnection object at 0x7f5a1c4063d0>: Failed to establish a new connection: [Errno -2] Name or service not known',))\n",
      "local variable 'img_request' referenced before assignment\n",
      "HTTPConnectionPool(host='img2.soyoung.com', port=80): Max retries exceeded with url: /tieba/ios/20170525/9/20170525100859674_570.jpg (Caused by NewConnectionError('<requests.packages.urllib3.connection.HTTPConnection object at 0x7f5a1c365790>: Failed to establish a new connection: [Errno -2] Name or service not known',))\n",
      "local variable 'img_request' referenced before assignment\n",
      "HTTPConnectionPool(host='img2.soyoung.com', port=80): Max retries exceeded with url: /tieba/ios/20170523/3/20170523164957357_570.jpg (Caused by NewConnectionError('<requests.packages.urllib3.connection.HTTPConnection object at 0x7f5a1c406110>: Failed to establish a new connection: [Errno -2] Name or service not known',))\n",
      "local variable 'img_request' referenced before assignment\n",
      "HTTPConnectionPool(host='img2.soyoung.com', port=80): Max retries exceeded with url: /tieba/ios/20170525/7/20170525100900739_570.jpg (Caused by NewConnectionError('<requests.packages.urllib3.connection.HTTPConnection object at 0x7f5a1c406190>: Failed to establish a new connection: [Errno -2] Name or service not known',))\n",
      "local variable 'img_request' referenced before assignment\n",
      "HTTPConnectionPool(host='img2.soyoung.com', port=80): Max retries exceeded with url: /tieba/ios/20170525/0/20170525100900311_570.jpg (Caused by NewConnectionError('<requests.packages.urllib3.connection.HTTPConnection object at 0x7f5a1c406510>: Failed to establish a new connection: [Errno -2] Name or service not known',))\n",
      "local variable 'img_request' referenced before assignment\n",
      "HTTPConnectionPool(host='img2.soyoung.com', port=80): Max retries exceeded with url: /tieba/ios/20170524/0/20170524184407848_570.jpg (Caused by NewConnectionError('<requests.packages.urllib3.connection.HTTPConnection object at 0x7f5a1c3650d0>: Failed to establish a new connection: [Errno -2] Name or service not known',))\n",
      "local variable 'img_request' referenced before assignment\n",
      "HTTPConnectionPool(host='img2.soyoung.com', port=80): Max retries exceeded with url: /tieba/ios/20170524/4/20170524184407721_570.jpg (Caused by NewConnectionError('<requests.packages.urllib3.connection.HTTPConnection object at 0x7f5a1c406b10>: Failed to establish a new connection: [Errno -2] Name or service not known',))\n",
      "local variable 'img_request' referenced before assignment\n",
      "HTTPConnectionPool(host='img2.soyoung.com', port=80): Max retries exceeded with url: /tieba/ios/20170521/8/20170521175337864_570.jpg (Caused by NewConnectionError('<requests.packages.urllib3.connection.HTTPConnection object at 0x7f5a1c406290>: Failed to establish a new connection: [Errno -2] Name or service not known',))\n",
      "local variable 'img_request' referenced before assignment\n",
      "HTTPConnectionPool(host='img2.soyoung.com', port=80): Max retries exceeded with url: /tieba/ios/20170523/6/20170523164954785_570.jpg (Caused by NewConnectionError('<requests.packages.urllib3.connection.HTTPConnection object at 0x7f5a1c406c90>: Failed to establish a new connection: [Errno -2] Name or service not known',))\n",
      "local variable 'img_request' referenced before assignment\n",
      "HTTPConnectionPool(host='img2.soyoung.com', port=80): Max retries exceeded with url: /tieba/ios/20170521/9/20170521175337349_570.jpg (Caused by NewConnectionError('<requests.packages.urllib3.connection.HTTPConnection object at 0x7f5a1c3145d0>: Failed to establish a new connection: [Errno -2] Name or service not known',))\n",
      "local variable 'img_request' referenced before assignment\n",
      "HTTPConnectionPool(host='img2.soyoung.com', port=80): Max retries exceeded with url: /tieba/ios/20170521/4/20170521175337969_570.jpg (Caused by NewConnectionError('<requests.packages.urllib3.connection.HTTPConnection object at 0x7f5a1c3f7950>: Failed to establish a new connection: [Errno -2] Name or service not known',))\n",
      "local variable 'img_request' referenced before assignment\n",
      "HTTPConnectionPool(host='img2.soyoung.com', port=80): Max retries exceeded with url: /tieba/ios/20170521/0/20170521175338361_570.jpg (Caused by NewConnectionError('<requests.packages.urllib3.connection.HTTPConnection object at 0x7f5a1c35ed90>: Failed to establish a new connection: [Errno -2] Name or service not known',))\n",
      "local variable 'img_request' referenced before assignment\n",
      "HTTPConnectionPool(host='img2.soyoung.com', port=80): Max retries exceeded with url: /tieba/ios/20170523/8/20170523111744339_570.jpg (Caused by NewConnectionError('<requests.packages.urllib3.connection.HTTPConnection object at 0x7f5a1c4f7e50>: Failed to establish a new connection: [Errno -2] Name or service not known',))\n",
      "local variable 'img_request' referenced before assignment\n",
      "HTTPConnectionPool(host='img2.soyoung.com', port=80): Max retries exceeded with url: /tieba/web/20161121/7/20161121102137289_570.jpg (Caused by NewConnectionError('<requests.packages.urllib3.connection.HTTPConnection object at 0x7f5a1c3149d0>: Failed to establish a new connection: [Errno -2] Name or service not known',))\n",
      "local variable 'img_request' referenced before assignment\n",
      "HTTPConnectionPool(host='img2.soyoung.com', port=80): Max retries exceeded with url: /tieba/ios/20170524/1/20170524184408440_570.jpg (Caused by NewConnectionError('<requests.packages.urllib3.connection.HTTPConnection object at 0x7f5a1c365e90>: Failed to establish a new connection: [Errno -2] Name or service not known',))\n",
      "local variable 'img_request' referenced before assignment\n",
      "HTTPConnectionPool(host='img2.soyoung.com', port=80): Max retries exceeded with url: /tieba/web/20161121/2/20161121102044653_570.jpg (Caused by NewConnectionError('<requests.packages.urllib3.connection.HTTPConnection object at 0x7f5a1c4f7950>: Failed to establish a new connection: [Errno -2] Name or service not known',))\n",
      "local variable 'img_request' referenced before assignment\n",
      "HTTPConnectionPool(host='img2.soyoung.com', port=80): Max retries exceeded with url: /tieba/web/20161222/0/20161222145726369_570.jpg (Caused by NewConnectionError('<requests.packages.urllib3.connection.HTTPConnection object at 0x7f5a1c41be90>: Failed to establish a new connection: [Errno -2] Name or service not known',))\n",
      "local variable 'img_request' referenced before assignment\n",
      "HTTPConnectionPool(host='img2.soyoung.com', port=80): Max retries exceeded with url: /tieba/web/20161221/0/20161221172947582_570.jpg (Caused by NewConnectionError('<requests.packages.urllib3.connection.HTTPConnection object at 0x7f5a1c4f7410>: Failed to establish a new connection: [Errno -2] Name or service not known',))\n",
      "local variable 'img_request' referenced before assignment\n"
     ]
    },
    {
     "name": "stdout",
     "output_type": "stream",
     "text": [
      "HTTPConnectionPool(host='img2.soyoung.com', port=80): Max retries exceeded with url: /tieba/android/20161107/4/20161107161335742_570.jpg (Caused by NewConnectionError('<requests.packages.urllib3.connection.HTTPConnection object at 0x7f5a1c41be90>: Failed to establish a new connection: [Errno -2] Name or service not known',))\n",
      "local variable 'img_request' referenced before assignment\n",
      "HTTPConnectionPool(host='img2.soyoung.com', port=80): Max retries exceeded with url: /tieba/android/20161107/5/20161107161336456_570.jpg (Caused by NewConnectionError('<requests.packages.urllib3.connection.HTTPConnection object at 0x7f5a1c4f7050>: Failed to establish a new connection: [Errno -2] Name or service not known',))\n",
      "local variable 'img_request' referenced before assignment\n",
      "HTTPConnectionPool(host='img2.soyoung.com', port=80): Max retries exceeded with url: /tieba/android/20161107/5/20161107161335307_570.jpg (Caused by NewConnectionError('<requests.packages.urllib3.connection.HTTPConnection object at 0x7f5a1c4f7d10>: Failed to establish a new connection: [Errno -2] Name or service not known',))\n",
      "local variable 'img_request' referenced before assignment\n",
      "HTTPConnectionPool(host='img2.soyoung.com', port=80): Max retries exceeded with url: /tieba/android/20161107/9/20161107161336208_570.jpg (Caused by NewConnectionError('<requests.packages.urllib3.connection.HTTPConnection object at 0x7f5a1c5116d0>: Failed to establish a new connection: [Errno -2] Name or service not known',))\n",
      "local variable 'img_request' referenced before assignment\n",
      "HTTPConnectionPool(host='img2.soyoung.com', port=80): Max retries exceeded with url: /tieba/android/20161107/9/20161107161339589_570.jpg (Caused by NewConnectionError('<requests.packages.urllib3.connection.HTTPConnection object at 0x7f5a1c365d50>: Failed to establish a new connection: [Errno -2] Name or service not known',))\n",
      "local variable 'img_request' referenced before assignment\n",
      "HTTPConnectionPool(host='img2.soyoung.com', port=80): Max retries exceeded with url: /tieba/android/20161107/1/20161107161341947_570.jpg (Caused by NewConnectionError('<requests.packages.urllib3.connection.HTTPConnection object at 0x7f5a1c511350>: Failed to establish a new connection: [Errno -2] Name or service not known',))\n",
      "local variable 'img_request' referenced before assignment\n",
      "HTTPConnectionPool(host='img2.soyoung.com', port=80): Max retries exceeded with url: /tieba/web/20161121/3/20161121102034619_570.jpg (Caused by NewConnectionError('<requests.packages.urllib3.connection.HTTPConnection object at 0x7f5a1c4f7e90>: Failed to establish a new connection: [Errno -2] Name or service not known',))\n",
      "local variable 'img_request' referenced before assignment\n",
      "HTTPConnectionPool(host='img2.soyoung.com', port=80): Max retries exceeded with url: /tieba/web/20161122/0/20161122110528869_570.jpg (Caused by NewConnectionError('<requests.packages.urllib3.connection.HTTPConnection object at 0x7f5a1c511290>: Failed to establish a new connection: [Errno -2] Name or service not known',))\n",
      "local variable 'img_request' referenced before assignment\n",
      "HTTPConnectionPool(host='img2.soyoung.com', port=80): Max retries exceeded with url: /tieba/android/20161107/2/20161107161340931_570.jpg (Caused by NewConnectionError('<requests.packages.urllib3.connection.HTTPConnection object at 0x7f5a1c511410>: Failed to establish a new connection: [Errno -2] Name or service not known',))\n",
      "local variable 'img_request' referenced before assignment\n",
      "HTTPConnectionPool(host='img2.soyoung.com', port=80): Max retries exceeded with url: /tieba/web/20161221/2/20161221172957822_570.jpg (Caused by NewConnectionError('<requests.packages.urllib3.connection.HTTPConnection object at 0x7f5a1c4f7990>: Failed to establish a new connection: [Errno -2] Name or service not known',))\n",
      "local variable 'img_request' referenced before assignment\n",
      "HTTPConnectionPool(host='img2.soyoung.com', port=80): Max retries exceeded with url: /tieba/web/20161122/9/20161122110520400_570.jpg (Caused by NewConnectionError('<requests.packages.urllib3.connection.HTTPConnection object at 0x7f5a1c511f90>: Failed to establish a new connection: [Errno -2] Name or service not known',))\n",
      "local variable 'img_request' referenced before assignment\n",
      "HTTPConnectionPool(host='img2.soyoung.com', port=80): Max retries exceeded with url: /tieba/web/20161122/0/20161122110550936_570.jpg (Caused by NewConnectionError('<requests.packages.urllib3.connection.HTTPConnection object at 0x7f5a1c511490>: Failed to establish a new connection: [Errno -2] Name or service not known',))\n",
      "local variable 'img_request' referenced before assignment\n",
      "imges  100   used  18.24 s Aug 30 23:15:22 2017\n",
      "4.0 % 10000 400\n",
      "imges  100   used  61.88 s Aug 30 23:16:24 2017\n",
      "5.0 % 10000 500\n",
      "imges  100   used  45.36 s Aug 30 23:17:10 2017\n",
      "6.0 % 10000 600\n",
      "imges  100   used  37.03 s Aug 30 23:17:47 2017\n",
      "7.0 % 10000 700\n",
      "imges  100   used  10.81 s Aug 30 23:17:57 2017\n",
      "8.0 % 10000 800\n",
      "X2\n",
      "imges  100   used  64.21 s Aug 30 23:19:02 2017\n",
      "9.0 % 10000 900\n"
     ]
    }
   ],
   "source": [
    "if __name__=='__main__':\n",
    "    \n",
    "    choose=raw_input('which set (1-24)?: ')\n",
    "    try:\n",
    "        os.mkdir('img_'+str(choose))\n",
    "    except:\n",
    "        print 'dir img_'+str(choose)+' exists'\n",
    "    \n",
    "    direct='img_'+str(choose)\n",
    "    df=pd.read_csv('img_'+str(choose)+'.csv')\n",
    "    nn=df.shape[0]\n",
    "    print nn,' pics'\n",
    "    \n",
    "    \n",
    "    urls=[]\n",
    "    for i in df.itertuples():\n",
    "        urls.append(str(i[1])+'__'+str(i[2]))\n",
    "    print len(urls)==nn\n",
    "    \n",
    "    many=int(raw_input('how many IDs a batch?: '))\n",
    "      \n",
    "    \n",
    "    p=0\n",
    "    q=0\n",
    "    for i in spl(urls, many):\n",
    "        q+=1\n",
    "        batch(i)\n",
    "        p+=many/float(nn)\n",
    "        print p*100,'%', nn, many*q \n"
   ]
  },
  {
   "cell_type": "code",
   "execution_count": null,
   "metadata": {
    "collapsed": true
   },
   "outputs": [],
   "source": []
  }
 ],
 "metadata": {
  "kernelspec": {
   "display_name": "Python 2",
   "language": "python",
   "name": "python2"
  },
  "language_info": {
   "codemirror_mode": {
    "name": "ipython",
    "version": 2
   },
   "file_extension": ".py",
   "mimetype": "text/x-python",
   "name": "python",
   "nbconvert_exporter": "python",
   "pygments_lexer": "ipython2",
   "version": "2.7.13"
  }
 },
 "nbformat": 4,
 "nbformat_minor": 2
}
