{
 "cells": [
  {
   "cell_type": "code",
   "execution_count": 1,
   "metadata": {
    "collapsed": true
   },
   "outputs": [],
   "source": [
    "# !ls"
   ]
  },
  {
   "cell_type": "code",
   "execution_count": 2,
   "metadata": {
    "collapsed": true
   },
   "outputs": [],
   "source": [
    "# encoding=utf8\n",
    "import sys\n",
    "reload(sys)\n",
    "sys.setdefaultencoding('utf8')"
   ]
  },
  {
   "cell_type": "code",
   "execution_count": 9,
   "metadata": {
    "collapsed": true
   },
   "outputs": [],
   "source": [
    "import pandas as pd\n",
    "import os\n",
    "from time import time, ctime\n",
    "\n",
    "import concurrent.futures\n",
    "\n",
    "from lxml import etree\n",
    "import json\n",
    "import re\n",
    "\n",
    "import ast"
   ]
  },
  {
   "cell_type": "code",
   "execution_count": 10,
   "metadata": {},
   "outputs": [
    {
     "data": {
      "text/plain": [
       "68229"
      ]
     },
     "execution_count": 10,
     "metadata": {},
     "output_type": "execute_result"
    }
   ],
   "source": [
    "# path='technosystem.html'\n",
    "\n",
    "folder='bidder_pages/'\n",
    "cont = os.listdir(folder)\n",
    "cont = [i for i in cont if i[-4:]=='html']\n",
    "len(cont)"
   ]
  },
  {
   "cell_type": "code",
   "execution_count": 11,
   "metadata": {
    "collapsed": true
   },
   "outputs": [],
   "source": [
    "def flatten_dict(data, layers=1, drop_deeper=False):\n",
    "\n",
    "        for _ in range(layers):\n",
    "            data = [(k, v) if not isinstance(v, dict) else [(k + '.' + k2, v2) for k2, v2 in v.items()] for k, v in\n",
    "                    data.items()]\n",
    "            data = [item for sublist in data for item in sublist if isinstance(sublist, list)] + [y for y in data if\n",
    "                                                                                                  not isinstance(y,\n",
    "                                                                                                                 list)]\n",
    "            data = dict(data)\n",
    "\n",
    "        if drop_deeper:\n",
    "            data = {k: v for k, v in data.items() if not isinstance(v, dict) or isinstance(v, list)}\n",
    "\n",
    "        return data"
   ]
  },
  {
   "cell_type": "code",
   "execution_count": 12,
   "metadata": {
    "collapsed": true
   },
   "outputs": [],
   "source": [
    "from collections import defaultdict\n",
    "iniDict = defaultdict(lambda: None)"
   ]
  },
  {
   "cell_type": "code",
   "execution_count": 8,
   "metadata": {},
   "outputs": [
    {
     "data": {
      "text/plain": [
       "73"
      ]
     },
     "execution_count": 8,
     "metadata": {},
     "output_type": "execute_result"
    }
   ],
   "source": [
    "df = pd.read_csv('boss1.csv').set_index('name')\n",
    "for i in list(df.index):\n",
    "    iniDict[i]\n",
    "len(iniDict)"
   ]
  },
  {
   "cell_type": "code",
   "execution_count": 14,
   "metadata": {},
   "outputs": [
    {
     "data": {
      "text/plain": [
       "(0, 73)"
      ]
     },
     "execution_count": 14,
     "metadata": {},
     "output_type": "execute_result"
    }
   ],
   "source": [
    "initial = pd.DataFrame(columns=list(df.index))\n",
    "initial.shape"
   ]
  },
  {
   "cell_type": "code",
   "execution_count": 15,
   "metadata": {},
   "outputs": [
    {
     "data": {
      "text/html": [
       "<div>\n",
       "<style>\n",
       "    .dataframe thead tr:only-child th {\n",
       "        text-align: right;\n",
       "    }\n",
       "\n",
       "    .dataframe thead th {\n",
       "        text-align: left;\n",
       "    }\n",
       "\n",
       "    .dataframe tbody tr th {\n",
       "        vertical-align: top;\n",
       "    }\n",
       "</style>\n",
       "<table border=\"1\" class=\"dataframe\">\n",
       "  <thead>\n",
       "    <tr style=\"text-align: right;\">\n",
       "      <th></th>\n",
       "      <th>about.support_status</th>\n",
       "      <th>about.test_user</th>\n",
       "      <th>viewer</th>\n",
       "      <th>about.avatar</th>\n",
       "      <th>about.tagline</th>\n",
       "      <th>userId</th>\n",
       "      <th>about.status</th>\n",
       "      <th>about.location</th>\n",
       "      <th>timeOffset</th>\n",
       "      <th>isSupportAgent</th>\n",
       "      <th>...</th>\n",
       "      <th>skills</th>\n",
       "      <th>about.corporate_users</th>\n",
       "      <th>about.user_id</th>\n",
       "      <th>isOwner</th>\n",
       "      <th>about.first_name</th>\n",
       "      <th>about.primary_currency</th>\n",
       "      <th>about.limited_account</th>\n",
       "      <th>about.address</th>\n",
       "      <th>about.employer_reputation</th>\n",
       "      <th>about.badges</th>\n",
       "    </tr>\n",
       "  </thead>\n",
       "  <tbody>\n",
       "  </tbody>\n",
       "</table>\n",
       "<p>0 rows × 73 columns</p>\n",
       "</div>"
      ],
      "text/plain": [
       "Empty DataFrame\n",
       "Columns: [about.support_status, about.test_user, viewer, about.avatar, about.tagline, userId, about.status, about.location, timeOffset, isSupportAgent, resume.publications, resume.experience, jobsLimit, isLoggedIn, about.email, about.closed, about.endorsements, about.true_location, about.company, about.profile_description, about.display_name, resume.show, about.force_verify, canViewEmployer, about.registration_date, hourlyRate, resume.exams, about.recommendations, about.suspended, about.last_name, about.portfolio_count, about.reputation, about.is_local, about.avatar_large, about.public_name, about.qualifications, about.responsiveness, about.spam_profile, about.chosen_role, username, about.account_balances, about.avatar_cdn, resume.certifications, about.search_languages, about.is_active, about.hourly_rate, about.jobs, about.membership_package, abTests, about.role, about.corporate, about.id, about.timezone, about.mobile_tracking, about.cover_image, hireMeCurrencyId, resume.education, about.registration_date_human, about.username, about.primary_language, about.preferred_freelancer, about.avatar_large_cdn, about.username_sentence, skills, about.corporate_users, about.user_id, isOwner, about.first_name, about.primary_currency, about.limited_account, about.address, about.employer_reputation, about.badges]\n",
       "Index: []\n",
       "\n",
       "[0 rows x 73 columns]"
      ]
     },
     "execution_count": 15,
     "metadata": {},
     "output_type": "execute_result"
    }
   ],
   "source": [
    "initial"
   ]
  },
  {
   "cell_type": "code",
   "execution_count": 16,
   "metadata": {},
   "outputs": [
    {
     "data": {
      "text/plain": [
       "'Ukrabel.html'"
      ]
     },
     "execution_count": 16,
     "metadata": {},
     "output_type": "execute_result"
    }
   ],
   "source": [
    "cont[0]"
   ]
  },
  {
   "cell_type": "code",
   "execution_count": null,
   "metadata": {
    "collapsed": true
   },
   "outputs": [],
   "source": []
  },
  {
   "cell_type": "code",
   "execution_count": null,
   "metadata": {
    "collapsed": true
   },
   "outputs": [],
   "source": []
  },
  {
   "cell_type": "code",
   "execution_count": 17,
   "metadata": {},
   "outputs": [
    {
     "data": {
      "text/html": [
       "<div>\n",
       "<style>\n",
       "    .dataframe thead tr:only-child th {\n",
       "        text-align: right;\n",
       "    }\n",
       "\n",
       "    .dataframe thead th {\n",
       "        text-align: left;\n",
       "    }\n",
       "\n",
       "    .dataframe tbody tr th {\n",
       "        vertical-align: top;\n",
       "    }\n",
       "</style>\n",
       "<table border=\"1\" class=\"dataframe\">\n",
       "  <thead>\n",
       "    <tr style=\"text-align: right;\">\n",
       "      <th></th>\n",
       "      <th>0</th>\n",
       "      <th>1</th>\n",
       "      <th>2</th>\n",
       "    </tr>\n",
       "  </thead>\n",
       "  <tbody>\n",
       "    <tr>\n",
       "      <th>ac</th>\n",
       "      <td>1</td>\n",
       "      <td>2</td>\n",
       "      <td>3</td>\n",
       "    </tr>\n",
       "  </tbody>\n",
       "</table>\n",
       "</div>"
      ],
      "text/plain": [
       "    0  1  2\n",
       "ac  1  2  3"
      ]
     },
     "execution_count": 17,
     "metadata": {},
     "output_type": "execute_result"
    }
   ],
   "source": [
    "pd.DataFrame([[1,2,3]], index=['ac'])"
   ]
  },
  {
   "cell_type": "code",
   "execution_count": 18,
   "metadata": {},
   "outputs": [
    {
     "data": {
      "text/plain": [
       "<bound method DataFrame.set_index of     0  1  2\n",
       "ac  1  2  3>"
      ]
     },
     "execution_count": 18,
     "metadata": {},
     "output_type": "execute_result"
    }
   ],
   "source": [
    "pd.DataFrame([[1,2,3]], index=['ac']).set_index"
   ]
  },
  {
   "cell_type": "code",
   "execution_count": 19,
   "metadata": {},
   "outputs": [
    {
     "data": {
      "text/html": [
       "<div>\n",
       "<style>\n",
       "    .dataframe thead tr:only-child th {\n",
       "        text-align: right;\n",
       "    }\n",
       "\n",
       "    .dataframe thead th {\n",
       "        text-align: left;\n",
       "    }\n",
       "\n",
       "    .dataframe tbody tr th {\n",
       "        vertical-align: top;\n",
       "    }\n",
       "</style>\n",
       "<table border=\"1\" class=\"dataframe\">\n",
       "  <thead>\n",
       "    <tr style=\"text-align: right;\">\n",
       "      <th></th>\n",
       "      <th>about.support_status</th>\n",
       "      <th>about.test_user</th>\n",
       "      <th>viewer</th>\n",
       "      <th>about.avatar</th>\n",
       "      <th>about.tagline</th>\n",
       "      <th>userId</th>\n",
       "      <th>about.status</th>\n",
       "      <th>about.location</th>\n",
       "      <th>timeOffset</th>\n",
       "      <th>isSupportAgent</th>\n",
       "      <th>...</th>\n",
       "      <th>skills</th>\n",
       "      <th>about.corporate_users</th>\n",
       "      <th>about.user_id</th>\n",
       "      <th>isOwner</th>\n",
       "      <th>about.first_name</th>\n",
       "      <th>about.primary_currency</th>\n",
       "      <th>about.limited_account</th>\n",
       "      <th>about.address</th>\n",
       "      <th>about.employer_reputation</th>\n",
       "      <th>about.badges</th>\n",
       "    </tr>\n",
       "  </thead>\n",
       "  <tbody>\n",
       "    <tr>\n",
       "      <th>abc</th>\n",
       "      <td>NaN</td>\n",
       "      <td>NaN</td>\n",
       "      <td>NaN</td>\n",
       "      <td>NaN</td>\n",
       "      <td>NaN</td>\n",
       "      <td>NaN</td>\n",
       "      <td>NaN</td>\n",
       "      <td>NaN</td>\n",
       "      <td>NaN</td>\n",
       "      <td>NaN</td>\n",
       "      <td>...</td>\n",
       "      <td>NaN</td>\n",
       "      <td>NaN</td>\n",
       "      <td>NaN</td>\n",
       "      <td>NaN</td>\n",
       "      <td>NaN</td>\n",
       "      <td>NaN</td>\n",
       "      <td>NaN</td>\n",
       "      <td>NaN</td>\n",
       "      <td>NaN</td>\n",
       "      <td>NaN</td>\n",
       "    </tr>\n",
       "  </tbody>\n",
       "</table>\n",
       "<p>1 rows × 73 columns</p>\n",
       "</div>"
      ],
      "text/plain": [
       "    about.support_status about.test_user viewer about.avatar about.tagline  \\\n",
       "abc                  NaN             NaN    NaN          NaN           NaN   \n",
       "\n",
       "    userId about.status about.location timeOffset isSupportAgent     ...       \\\n",
       "abc    NaN          NaN            NaN        NaN            NaN     ...        \n",
       "\n",
       "    skills about.corporate_users about.user_id isOwner about.first_name  \\\n",
       "abc    NaN                   NaN           NaN     NaN              NaN   \n",
       "\n",
       "    about.primary_currency about.limited_account about.address  \\\n",
       "abc                    NaN                   NaN           NaN   \n",
       "\n",
       "    about.employer_reputation about.badges  \n",
       "abc                       NaN          NaN  \n",
       "\n",
       "[1 rows x 73 columns]"
      ]
     },
     "execution_count": 19,
     "metadata": {},
     "output_type": "execute_result"
    }
   ],
   "source": [
    "pd.DataFrame(initial, index=['abc'])"
   ]
  },
  {
   "cell_type": "code",
   "execution_count": 20,
   "metadata": {
    "collapsed": true
   },
   "outputs": [],
   "source": [
    "# aaa = [pd.DataFrame(initial, index=[3]), pd.DataFrame(initial, index=[6]), pd.DataFrame(initial, index=[8])]\n",
    "# len(aaa)"
   ]
  },
  {
   "cell_type": "code",
   "execution_count": 21,
   "metadata": {
    "collapsed": true
   },
   "outputs": [],
   "source": [
    "# for i in aaa:\n",
    "#     initial=initial.append(i)\n",
    "# initial"
   ]
  },
  {
   "cell_type": "code",
   "execution_count": 34,
   "metadata": {
    "collapsed": true
   },
   "outputs": [],
   "source": [
    "\n",
    "def get_columns(path):\n",
    "    global failed_names, collect\n",
    "    get=[]\n",
    "    \n",
    "    with open(folder+path,'r') as fl:\n",
    "        text=fl.read()\n",
    "#         tree=etree.HTML(text)\n",
    "    try:\n",
    "#         script = tree.xpath('//script')[-2]\n",
    "        data = re.search(r\"__export\\('profileServerData',(.*?)\\n\", text)        \n",
    "        jsondata=data.group(1)[:-2]\n",
    "        \n",
    "        json_dict = json.loads(jsondata)\n",
    "        flat = flatten_dict(json_dict, layers=1)\n",
    "        for i in flat:\n",
    "            iniDict[i]=str(flat[i])\n",
    "        collect.append(pd.DataFrame(iniDict, index=[path]))\n",
    "            \n",
    "#         return pd.DataFrame(iniDict, index=[0])\n",
    "#         names = flat.keys()\n",
    "#         return flat\n",
    "    except Exception as e:\n",
    "        print 'X',\n",
    "        failed_names.append(path)\n",
    "        collect.append(pd.DataFrame(initial, index=[path]))\n",
    "        \n",
    "\n",
    "    "
   ]
  },
  {
   "cell_type": "code",
   "execution_count": 23,
   "metadata": {},
   "outputs": [
    {
     "data": {
      "text/plain": [
       "<function ast.literal_eval>"
      ]
     },
     "execution_count": 23,
     "metadata": {},
     "output_type": "execute_result"
    }
   ],
   "source": [
    "ast.literal_eval"
   ]
  },
  {
   "cell_type": "code",
   "execution_count": 24,
   "metadata": {},
   "outputs": [
    {
     "data": {
      "text/plain": [
       "0"
      ]
     },
     "execution_count": 24,
     "metadata": {},
     "output_type": "execute_result"
    }
   ],
   "source": [
    "len(failed_names)"
   ]
  },
  {
   "cell_type": "markdown",
   "metadata": {},
   "source": [
    "1533"
   ]
  },
  {
   "cell_type": "markdown",
   "metadata": {},
   "source": [
    "### multi"
   ]
  },
  {
   "cell_type": "code",
   "execution_count": 25,
   "metadata": {
    "collapsed": true
   },
   "outputs": [],
   "source": [
    "def batch(allnames):\n",
    "    global collect\n",
    "    start=time()\n",
    "    with concurrent.futures.ThreadPoolExecutor(max_workers=8) as executor:\n",
    "        executor.map(get_columns, allnames)\n",
    "    past='{:.2f}'.format(time()-start)\n",
    "    now=ctime()[4:]\n",
    "\n",
    "    print 'profiles ',len(allnames),'  used ',past,'s', now\n"
   ]
  },
  {
   "cell_type": "code",
   "execution_count": 26,
   "metadata": {
    "collapsed": true
   },
   "outputs": [],
   "source": [
    "# print len(initial)\n",
    "# for i in collect:\n",
    "#     initial=initial.append(i)\n",
    "# initial.shape"
   ]
  },
  {
   "cell_type": "code",
   "execution_count": 27,
   "metadata": {
    "collapsed": true
   },
   "outputs": [],
   "source": [
    "start=initial.copy()"
   ]
  },
  {
   "cell_type": "code",
   "execution_count": 28,
   "metadata": {},
   "outputs": [],
   "source": [
    "gp=cont[:10]"
   ]
  },
  {
   "cell_type": "markdown",
   "metadata": {},
   "source": [
    "### multi starts"
   ]
  },
  {
   "cell_type": "code",
   "execution_count": 38,
   "metadata": {},
   "outputs": [
    {
     "data": {
      "text/plain": [
       "(68239, 73)"
      ]
     },
     "execution_count": 38,
     "metadata": {},
     "output_type": "execute_result"
    }
   ],
   "source": [
    "# initialize\n",
    "initial = pd.DataFrame(columns=list(df.index))\n",
    "collect=[]\n",
    "failed_names=[]\n",
    "\n",
    "# start\n",
    "batch(cont)\n",
    "\n",
    "# to DataFrame\n",
    "print len(initial)\n",
    "for i in collect:\n",
    "    initial=initial.append(i)\n",
    "initial.shape"
   ]
  },
  {
   "cell_type": "code",
   "execution_count": 37,
   "metadata": {},
   "outputs": [
    {
     "data": {
      "text/html": [
       "<div>\n",
       "<style>\n",
       "    .dataframe thead tr:only-child th {\n",
       "        text-align: right;\n",
       "    }\n",
       "\n",
       "    .dataframe thead th {\n",
       "        text-align: left;\n",
       "    }\n",
       "\n",
       "    .dataframe tbody tr th {\n",
       "        vertical-align: top;\n",
       "    }\n",
       "</style>\n",
       "<table border=\"1\" class=\"dataframe\">\n",
       "  <thead>\n",
       "    <tr style=\"text-align: right;\">\n",
       "      <th></th>\n",
       "      <th>abTests</th>\n",
       "      <th>about.account_balances</th>\n",
       "      <th>about.address</th>\n",
       "      <th>about.avatar</th>\n",
       "      <th>about.avatar_cdn</th>\n",
       "      <th>about.avatar_large</th>\n",
       "      <th>about.avatar_large_cdn</th>\n",
       "      <th>about.badges</th>\n",
       "      <th>about.chosen_role</th>\n",
       "      <th>about.closed</th>\n",
       "      <th>...</th>\n",
       "      <th>resume.education</th>\n",
       "      <th>resume.exams</th>\n",
       "      <th>resume.experience</th>\n",
       "      <th>resume.publications</th>\n",
       "      <th>resume.show</th>\n",
       "      <th>skills</th>\n",
       "      <th>timeOffset</th>\n",
       "      <th>userId</th>\n",
       "      <th>username</th>\n",
       "      <th>viewer</th>\n",
       "    </tr>\n",
       "  </thead>\n",
       "  <tbody>\n",
       "    <tr>\n",
       "      <th>Ukrabel.html</th>\n",
       "      <td>[]</td>\n",
       "      <td>None</td>\n",
       "      <td>None</td>\n",
       "      <td>/ppic/165393/logo/1315741/profile_logo_1315741...</td>\n",
       "      <td>//cdn6.f-cdn.com/ppic/165393/logo/1315741/prof...</td>\n",
       "      <td>/ppic/264223/logo/1315741/1.jpg</td>\n",
       "      <td>//cdn2.f-cdn.com/ppic/264223/logo/1315741/1.jpg</td>\n",
       "      <td>None</td>\n",
       "      <td>1</td>\n",
       "      <td>False</td>\n",
       "      <td>...</td>\n",
       "      <td>[{u'activities': None, u'start_year': u'2009',...</td>\n",
       "      <td>[]</td>\n",
       "      <td>[]</td>\n",
       "      <td>[]</td>\n",
       "      <td>True</td>\n",
       "      <td>[{u'usages': 0, u'seo_url': u'copywriting', u'...</td>\n",
       "      <td>180</td>\n",
       "      <td>1315741</td>\n",
       "      <td>ukrabel</td>\n",
       "      <td>0</td>\n",
       "    </tr>\n",
       "    <tr>\n",
       "      <th>Glukodrom.html</th>\n",
       "      <td>[]</td>\n",
       "      <td>None</td>\n",
       "      <td>None</td>\n",
       "      <td>/ppic/2741669/logo/1495236/profile_logo_149523...</td>\n",
       "      <td>//cdn6.f-cdn.com/ppic/2741669/logo/1495236/pro...</td>\n",
       "      <td>/ppic/2741668/logo/1495236/will_work_for_a_whi...</td>\n",
       "      <td>//cdn3.f-cdn.com/ppic/2741668/logo/1495236/wil...</td>\n",
       "      <td>None</td>\n",
       "      <td>1</td>\n",
       "      <td>False</td>\n",
       "      <td>...</td>\n",
       "      <td>[{u'activities': None, u'start_year': u'2004',...</td>\n",
       "      <td>[]</td>\n",
       "      <td>[]</td>\n",
       "      <td>[]</td>\n",
       "      <td>True</td>\n",
       "      <td>[{u'usages': 0, u'seo_url': u'php', u'islocal'...</td>\n",
       "      <td>180</td>\n",
       "      <td>1495236</td>\n",
       "      <td>glukodrom</td>\n",
       "      <td>0</td>\n",
       "    </tr>\n",
       "    <tr>\n",
       "      <th>Ixintro.html</th>\n",
       "      <td>[]</td>\n",
       "      <td>None</td>\n",
       "      <td>None</td>\n",
       "      <td>/img/unknown.png</td>\n",
       "      <td>//cdn6.f-cdn.com/img/unknown.png</td>\n",
       "      <td>/img/unknown.png</td>\n",
       "      <td>//cdn6.f-cdn.com/img/unknown.png</td>\n",
       "      <td>None</td>\n",
       "      <td>1</td>\n",
       "      <td>False</td>\n",
       "      <td>...</td>\n",
       "      <td>[]</td>\n",
       "      <td>[]</td>\n",
       "      <td>[]</td>\n",
       "      <td>[]</td>\n",
       "      <td>False</td>\n",
       "      <td>[{u'usages': 0, u'seo_url': u'flash', u'isloca...</td>\n",
       "      <td>-240</td>\n",
       "      <td>1275180</td>\n",
       "      <td>ixintro</td>\n",
       "      <td>0</td>\n",
       "    </tr>\n",
       "    <tr>\n",
       "      <th>RichardWeiss.html</th>\n",
       "      <td>[]</td>\n",
       "      <td>None</td>\n",
       "      <td>None</td>\n",
       "      <td>/img/unknown.png</td>\n",
       "      <td>//cdn6.f-cdn.com/img/unknown.png</td>\n",
       "      <td>/img/unknown.png</td>\n",
       "      <td>//cdn6.f-cdn.com/img/unknown.png</td>\n",
       "      <td>None</td>\n",
       "      <td>1</td>\n",
       "      <td>False</td>\n",
       "      <td>...</td>\n",
       "      <td>[]</td>\n",
       "      <td>[]</td>\n",
       "      <td>[]</td>\n",
       "      <td>[]</td>\n",
       "      <td>False</td>\n",
       "      <td>[{u'usages': 1, u'seo_url': u'articles', u'isl...</td>\n",
       "      <td>60</td>\n",
       "      <td>1450038</td>\n",
       "      <td>richardweiss</td>\n",
       "      <td>0</td>\n",
       "    </tr>\n",
       "    <tr>\n",
       "      <th>observer.html</th>\n",
       "      <td>[]</td>\n",
       "      <td>None</td>\n",
       "      <td>None</td>\n",
       "      <td>/ppic/103601/logo/295905/profile_logo_295905.jpg</td>\n",
       "      <td>//cdn2.f-cdn.com/ppic/103601/logo/295905/profi...</td>\n",
       "      <td>/ppic/12967/logo/295905/logo.jpg</td>\n",
       "      <td>//cdn6.f-cdn.com/ppic/12967/logo/295905/logo.jpg</td>\n",
       "      <td>None</td>\n",
       "      <td>1</td>\n",
       "      <td>False</td>\n",
       "      <td>...</td>\n",
       "      <td>[{u'activities': None, u'start_year': u'2000',...</td>\n",
       "      <td>{u'2': {u'examEnabled': u'1', u'description': ...</td>\n",
       "      <td>[{u'year_interval': u'-2007', u'month_interval...</td>\n",
       "      <td>[{u'publisher': u'Spider Magzine', u'title': u...</td>\n",
       "      <td>True</td>\n",
       "      <td>[{u'usages': 22, u'seo_url': u'php', u'islocal...</td>\n",
       "      <td>300</td>\n",
       "      <td>295905</td>\n",
       "      <td>observer</td>\n",
       "      <td>0</td>\n",
       "    </tr>\n",
       "    <tr>\n",
       "      <th>blugraphic.html</th>\n",
       "      <td>[]</td>\n",
       "      <td>None</td>\n",
       "      <td>None</td>\n",
       "      <td>/img/unknown.png</td>\n",
       "      <td>//cdn6.f-cdn.com/img/unknown.png</td>\n",
       "      <td>/img/unknown.png</td>\n",
       "      <td>//cdn6.f-cdn.com/img/unknown.png</td>\n",
       "      <td>None</td>\n",
       "      <td>3</td>\n",
       "      <td>False</td>\n",
       "      <td>...</td>\n",
       "      <td>[]</td>\n",
       "      <td>[]</td>\n",
       "      <td>[]</td>\n",
       "      <td>[]</td>\n",
       "      <td>False</td>\n",
       "      <td>[{u'usages': 0, u'seo_url': u'php', u'islocal'...</td>\n",
       "      <td>180</td>\n",
       "      <td>1355684</td>\n",
       "      <td>blugraphic</td>\n",
       "      <td>0</td>\n",
       "    </tr>\n",
       "    <tr>\n",
       "      <th>p30patel.html</th>\n",
       "      <td>[]</td>\n",
       "      <td>None</td>\n",
       "      <td>None</td>\n",
       "      <td>/img/unknown.png</td>\n",
       "      <td>//cdn6.f-cdn.com/img/unknown.png</td>\n",
       "      <td>/img/unknown.png</td>\n",
       "      <td>//cdn6.f-cdn.com/img/unknown.png</td>\n",
       "      <td>None</td>\n",
       "      <td>1</td>\n",
       "      <td>False</td>\n",
       "      <td>...</td>\n",
       "      <td>[]</td>\n",
       "      <td>[]</td>\n",
       "      <td>[]</td>\n",
       "      <td>[]</td>\n",
       "      <td>False</td>\n",
       "      <td>[{u'usages': 0, u'seo_url': u'asp', u'islocal'...</td>\n",
       "      <td>-240</td>\n",
       "      <td>1388559</td>\n",
       "      <td>p30patel</td>\n",
       "      <td>0</td>\n",
       "    </tr>\n",
       "    <tr>\n",
       "      <th>spaprikar.html</th>\n",
       "      <td>[]</td>\n",
       "      <td>None</td>\n",
       "      <td>None</td>\n",
       "      <td>/img/unknown.png</td>\n",
       "      <td>//cdn6.f-cdn.com/img/unknown.png</td>\n",
       "      <td>/img/unknown.png</td>\n",
       "      <td>//cdn6.f-cdn.com/img/unknown.png</td>\n",
       "      <td>None</td>\n",
       "      <td>1</td>\n",
       "      <td>False</td>\n",
       "      <td>...</td>\n",
       "      <td>[]</td>\n",
       "      <td>[]</td>\n",
       "      <td>[]</td>\n",
       "      <td>[]</td>\n",
       "      <td>False</td>\n",
       "      <td>[{u'usages': 0, u'seo_url': u'flash', u'isloca...</td>\n",
       "      <td>330</td>\n",
       "      <td>1469479</td>\n",
       "      <td>spaprikar</td>\n",
       "      <td>0</td>\n",
       "    </tr>\n",
       "    <tr>\n",
       "      <th>mcabezas.html</th>\n",
       "      <td>[]</td>\n",
       "      <td>None</td>\n",
       "      <td>None</td>\n",
       "      <td>/img/unknown.png</td>\n",
       "      <td>//cdn6.f-cdn.com/img/unknown.png</td>\n",
       "      <td>/img/unknown.png</td>\n",
       "      <td>//cdn6.f-cdn.com/img/unknown.png</td>\n",
       "      <td>None</td>\n",
       "      <td>1</td>\n",
       "      <td>False</td>\n",
       "      <td>...</td>\n",
       "      <td>[{u'activities': u'Former President of the Com...</td>\n",
       "      <td>[]</td>\n",
       "      <td>[]</td>\n",
       "      <td>[]</td>\n",
       "      <td>True</td>\n",
       "      <td>[{u'usages': 0, u'seo_url': u'visual_basic', u...</td>\n",
       "      <td>-360</td>\n",
       "      <td>1520721</td>\n",
       "      <td>mcabezas</td>\n",
       "      <td>0</td>\n",
       "    </tr>\n",
       "    <tr>\n",
       "      <th>jdbkrihn123.html</th>\n",
       "      <td>[]</td>\n",
       "      <td>None</td>\n",
       "      <td>None</td>\n",
       "      <td>/ppic/103496799/logo/1570175/profile_logo_1570...</td>\n",
       "      <td>//cdn5.f-cdn.com/ppic/103496799/logo/1570175/p...</td>\n",
       "      <td>/ppic/103496797/logo/1570175/QRxqp/profile_log...</td>\n",
       "      <td>//cdn2.f-cdn.com/ppic/103496797/logo/1570175/Q...</td>\n",
       "      <td>None</td>\n",
       "      <td>3</td>\n",
       "      <td>False</td>\n",
       "      <td>...</td>\n",
       "      <td>[]</td>\n",
       "      <td>[]</td>\n",
       "      <td>[]</td>\n",
       "      <td>[]</td>\n",
       "      <td>False</td>\n",
       "      <td>[{u'usages': 0, u'seo_url': u'php', u'islocal'...</td>\n",
       "      <td>480</td>\n",
       "      <td>1570175</td>\n",
       "      <td>jdbkrihn123</td>\n",
       "      <td>0</td>\n",
       "    </tr>\n",
       "  </tbody>\n",
       "</table>\n",
       "<p>10 rows × 73 columns</p>\n",
       "</div>"
      ],
      "text/plain": [
       "                  abTests about.account_balances about.address  \\\n",
       "Ukrabel.html           []                   None          None   \n",
       "Glukodrom.html         []                   None          None   \n",
       "Ixintro.html           []                   None          None   \n",
       "RichardWeiss.html      []                   None          None   \n",
       "observer.html          []                   None          None   \n",
       "blugraphic.html        []                   None          None   \n",
       "p30patel.html          []                   None          None   \n",
       "spaprikar.html         []                   None          None   \n",
       "mcabezas.html          []                   None          None   \n",
       "jdbkrihn123.html       []                   None          None   \n",
       "\n",
       "                                                        about.avatar  \\\n",
       "Ukrabel.html       /ppic/165393/logo/1315741/profile_logo_1315741...   \n",
       "Glukodrom.html     /ppic/2741669/logo/1495236/profile_logo_149523...   \n",
       "Ixintro.html                                        /img/unknown.png   \n",
       "RichardWeiss.html                                   /img/unknown.png   \n",
       "observer.html       /ppic/103601/logo/295905/profile_logo_295905.jpg   \n",
       "blugraphic.html                                     /img/unknown.png   \n",
       "p30patel.html                                       /img/unknown.png   \n",
       "spaprikar.html                                      /img/unknown.png   \n",
       "mcabezas.html                                       /img/unknown.png   \n",
       "jdbkrihn123.html   /ppic/103496799/logo/1570175/profile_logo_1570...   \n",
       "\n",
       "                                                    about.avatar_cdn  \\\n",
       "Ukrabel.html       //cdn6.f-cdn.com/ppic/165393/logo/1315741/prof...   \n",
       "Glukodrom.html     //cdn6.f-cdn.com/ppic/2741669/logo/1495236/pro...   \n",
       "Ixintro.html                        //cdn6.f-cdn.com/img/unknown.png   \n",
       "RichardWeiss.html                   //cdn6.f-cdn.com/img/unknown.png   \n",
       "observer.html      //cdn2.f-cdn.com/ppic/103601/logo/295905/profi...   \n",
       "blugraphic.html                     //cdn6.f-cdn.com/img/unknown.png   \n",
       "p30patel.html                       //cdn6.f-cdn.com/img/unknown.png   \n",
       "spaprikar.html                      //cdn6.f-cdn.com/img/unknown.png   \n",
       "mcabezas.html                       //cdn6.f-cdn.com/img/unknown.png   \n",
       "jdbkrihn123.html   //cdn5.f-cdn.com/ppic/103496799/logo/1570175/p...   \n",
       "\n",
       "                                                  about.avatar_large  \\\n",
       "Ukrabel.html                         /ppic/264223/logo/1315741/1.jpg   \n",
       "Glukodrom.html     /ppic/2741668/logo/1495236/will_work_for_a_whi...   \n",
       "Ixintro.html                                        /img/unknown.png   \n",
       "RichardWeiss.html                                   /img/unknown.png   \n",
       "observer.html                       /ppic/12967/logo/295905/logo.jpg   \n",
       "blugraphic.html                                     /img/unknown.png   \n",
       "p30patel.html                                       /img/unknown.png   \n",
       "spaprikar.html                                      /img/unknown.png   \n",
       "mcabezas.html                                       /img/unknown.png   \n",
       "jdbkrihn123.html   /ppic/103496797/logo/1570175/QRxqp/profile_log...   \n",
       "\n",
       "                                              about.avatar_large_cdn  \\\n",
       "Ukrabel.html         //cdn2.f-cdn.com/ppic/264223/logo/1315741/1.jpg   \n",
       "Glukodrom.html     //cdn3.f-cdn.com/ppic/2741668/logo/1495236/wil...   \n",
       "Ixintro.html                        //cdn6.f-cdn.com/img/unknown.png   \n",
       "RichardWeiss.html                   //cdn6.f-cdn.com/img/unknown.png   \n",
       "observer.html       //cdn6.f-cdn.com/ppic/12967/logo/295905/logo.jpg   \n",
       "blugraphic.html                     //cdn6.f-cdn.com/img/unknown.png   \n",
       "p30patel.html                       //cdn6.f-cdn.com/img/unknown.png   \n",
       "spaprikar.html                      //cdn6.f-cdn.com/img/unknown.png   \n",
       "mcabezas.html                       //cdn6.f-cdn.com/img/unknown.png   \n",
       "jdbkrihn123.html   //cdn2.f-cdn.com/ppic/103496797/logo/1570175/Q...   \n",
       "\n",
       "                  about.badges about.chosen_role about.closed  ...    \\\n",
       "Ukrabel.html              None                 1        False  ...     \n",
       "Glukodrom.html            None                 1        False  ...     \n",
       "Ixintro.html              None                 1        False  ...     \n",
       "RichardWeiss.html         None                 1        False  ...     \n",
       "observer.html             None                 1        False  ...     \n",
       "blugraphic.html           None                 3        False  ...     \n",
       "p30patel.html             None                 1        False  ...     \n",
       "spaprikar.html            None                 1        False  ...     \n",
       "mcabezas.html             None                 1        False  ...     \n",
       "jdbkrihn123.html          None                 3        False  ...     \n",
       "\n",
       "                                                    resume.education  \\\n",
       "Ukrabel.html       [{u'activities': None, u'start_year': u'2009',...   \n",
       "Glukodrom.html     [{u'activities': None, u'start_year': u'2004',...   \n",
       "Ixintro.html                                                      []   \n",
       "RichardWeiss.html                                                 []   \n",
       "observer.html      [{u'activities': None, u'start_year': u'2000',...   \n",
       "blugraphic.html                                                   []   \n",
       "p30patel.html                                                     []   \n",
       "spaprikar.html                                                    []   \n",
       "mcabezas.html      [{u'activities': u'Former President of the Com...   \n",
       "jdbkrihn123.html                                                  []   \n",
       "\n",
       "                                                        resume.exams  \\\n",
       "Ukrabel.html                                                      []   \n",
       "Glukodrom.html                                                    []   \n",
       "Ixintro.html                                                      []   \n",
       "RichardWeiss.html                                                 []   \n",
       "observer.html      {u'2': {u'examEnabled': u'1', u'description': ...   \n",
       "blugraphic.html                                                   []   \n",
       "p30patel.html                                                     []   \n",
       "spaprikar.html                                                    []   \n",
       "mcabezas.html                                                     []   \n",
       "jdbkrihn123.html                                                  []   \n",
       "\n",
       "                                                   resume.experience  \\\n",
       "Ukrabel.html                                                      []   \n",
       "Glukodrom.html                                                    []   \n",
       "Ixintro.html                                                      []   \n",
       "RichardWeiss.html                                                 []   \n",
       "observer.html      [{u'year_interval': u'-2007', u'month_interval...   \n",
       "blugraphic.html                                                   []   \n",
       "p30patel.html                                                     []   \n",
       "spaprikar.html                                                    []   \n",
       "mcabezas.html                                                     []   \n",
       "jdbkrihn123.html                                                  []   \n",
       "\n",
       "                                                 resume.publications  \\\n",
       "Ukrabel.html                                                      []   \n",
       "Glukodrom.html                                                    []   \n",
       "Ixintro.html                                                      []   \n",
       "RichardWeiss.html                                                 []   \n",
       "observer.html      [{u'publisher': u'Spider Magzine', u'title': u...   \n",
       "blugraphic.html                                                   []   \n",
       "p30patel.html                                                     []   \n",
       "spaprikar.html                                                    []   \n",
       "mcabezas.html                                                     []   \n",
       "jdbkrihn123.html                                                  []   \n",
       "\n",
       "                  resume.show  \\\n",
       "Ukrabel.html             True   \n",
       "Glukodrom.html           True   \n",
       "Ixintro.html            False   \n",
       "RichardWeiss.html       False   \n",
       "observer.html            True   \n",
       "blugraphic.html         False   \n",
       "p30patel.html           False   \n",
       "spaprikar.html          False   \n",
       "mcabezas.html            True   \n",
       "jdbkrihn123.html        False   \n",
       "\n",
       "                                                              skills  \\\n",
       "Ukrabel.html       [{u'usages': 0, u'seo_url': u'copywriting', u'...   \n",
       "Glukodrom.html     [{u'usages': 0, u'seo_url': u'php', u'islocal'...   \n",
       "Ixintro.html       [{u'usages': 0, u'seo_url': u'flash', u'isloca...   \n",
       "RichardWeiss.html  [{u'usages': 1, u'seo_url': u'articles', u'isl...   \n",
       "observer.html      [{u'usages': 22, u'seo_url': u'php', u'islocal...   \n",
       "blugraphic.html    [{u'usages': 0, u'seo_url': u'php', u'islocal'...   \n",
       "p30patel.html      [{u'usages': 0, u'seo_url': u'asp', u'islocal'...   \n",
       "spaprikar.html     [{u'usages': 0, u'seo_url': u'flash', u'isloca...   \n",
       "mcabezas.html      [{u'usages': 0, u'seo_url': u'visual_basic', u...   \n",
       "jdbkrihn123.html   [{u'usages': 0, u'seo_url': u'php', u'islocal'...   \n",
       "\n",
       "                  timeOffset   userId      username viewer  \n",
       "Ukrabel.html             180  1315741       ukrabel      0  \n",
       "Glukodrom.html           180  1495236     glukodrom      0  \n",
       "Ixintro.html            -240  1275180       ixintro      0  \n",
       "RichardWeiss.html         60  1450038  richardweiss      0  \n",
       "observer.html            300   295905      observer      0  \n",
       "blugraphic.html          180  1355684    blugraphic      0  \n",
       "p30patel.html           -240  1388559      p30patel      0  \n",
       "spaprikar.html           330  1469479     spaprikar      0  \n",
       "mcabezas.html           -360  1520721      mcabezas      0  \n",
       "jdbkrihn123.html         480  1570175   jdbkrihn123      0  \n",
       "\n",
       "[10 rows x 73 columns]"
      ]
     },
     "execution_count": 37,
     "metadata": {},
     "output_type": "execute_result"
    }
   ],
   "source": [
    "initial"
   ]
  },
  {
   "cell_type": "code",
   "execution_count": 31,
   "metadata": {
    "collapsed": true
   },
   "outputs": [],
   "source": [
    "batch(gp)\n"
   ]
  },
  {
   "cell_type": "code",
   "execution_count": 32,
   "metadata": {},
   "outputs": [
    {
     "data": {
      "text/plain": [
       "[]"
      ]
     },
     "execution_count": 32,
     "metadata": {},
     "output_type": "execute_result"
    }
   ],
   "source": [
    "failed_names"
   ]
  },
  {
   "cell_type": "code",
   "execution_count": 33,
   "metadata": {},
   "outputs": [
    {
     "data": {
      "text/plain": [
       "['Ukrabel.html',\n",
       " 'observer.html',\n",
       " 'Ixintro.html',\n",
       " 'Glukodrom.html',\n",
       " 'blugraphic.html',\n",
       " 'RichardWeiss.html',\n",
       " 'spaprikar.html',\n",
       " 'p30patel.html',\n",
       " 'mcabezas.html',\n",
       " 'jdbkrihn123.html']"
      ]
     },
     "execution_count": 33,
     "metadata": {},
     "output_type": "execute_result"
    }
   ],
   "source": [
    "gp"
   ]
  },
  {
   "cell_type": "code",
   "execution_count": 60,
   "metadata": {
    "collapsed": true
   },
   "outputs": [],
   "source": [
    "# sss=time()\n",
    "# start = initial.copy()\n",
    "# for i in cont:\n",
    "#     tmp = get_columns(i)\n",
    "#     start = start.append(tmp)\n",
    "    \n",
    "# start = start.reset_index().drop('index',1)\n",
    "# 'used {:.2f} s'.format(time()-sss)\n"
   ]
  },
  {
   "cell_type": "code",
   "execution_count": 33,
   "metadata": {},
   "outputs": [
    {
     "data": {
      "text/plain": [
       "(3847, 73)"
      ]
     },
     "execution_count": 33,
     "metadata": {},
     "output_type": "execute_result"
    }
   ],
   "source": [
    "start.shape"
   ]
  },
  {
   "cell_type": "code",
   "execution_count": 61,
   "metadata": {},
   "outputs": [
    {
     "ename": "NameError",
     "evalue": "name 'start' is not defined",
     "output_type": "error",
     "traceback": [
      "\u001b[0;31m\u001b[0m",
      "\u001b[0;31mNameError\u001b[0mTraceback (most recent call last)",
      "\u001b[0;32m<ipython-input-61-f296b01c9640>\u001b[0m in \u001b[0;36m<module>\u001b[0;34m()\u001b[0m\n\u001b[0;32m----> 1\u001b[0;31m \u001b[0mstart\u001b[0m\u001b[0;34m.\u001b[0m\u001b[0mhead\u001b[0m\u001b[0;34m(\u001b[0m\u001b[0;34m)\u001b[0m\u001b[0;34m\u001b[0m\u001b[0m\n\u001b[0m",
      "\u001b[0;31mNameError\u001b[0m: name 'start' is not defined"
     ]
    }
   ],
   "source": [
    "start.head()"
   ]
  },
  {
   "cell_type": "code",
   "execution_count": null,
   "metadata": {
    "collapsed": true
   },
   "outputs": [],
   "source": [
    "start = start.reset_index(drop=True)\n",
    "start.to_csv('addbidder_JSON.csv',index=False)"
   ]
  },
  {
   "cell_type": "code",
   "execution_count": null,
   "metadata": {
    "collapsed": true
   },
   "outputs": [],
   "source": []
  },
  {
   "cell_type": "code",
   "execution_count": null,
   "metadata": {
    "collapsed": true
   },
   "outputs": [],
   "source": []
  },
  {
   "cell_type": "code",
   "execution_count": null,
   "metadata": {
    "collapsed": true
   },
   "outputs": [],
   "source": []
  },
  {
   "cell_type": "code",
   "execution_count": null,
   "metadata": {
    "collapsed": true
   },
   "outputs": [],
   "source": []
  },
  {
   "cell_type": "code",
   "execution_count": null,
   "metadata": {
    "collapsed": true
   },
   "outputs": [],
   "source": []
  },
  {
   "cell_type": "code",
   "execution_count": null,
   "metadata": {
    "collapsed": true
   },
   "outputs": [],
   "source": []
  },
  {
   "cell_type": "code",
   "execution_count": null,
   "metadata": {
    "collapsed": true
   },
   "outputs": [],
   "source": []
  },
  {
   "cell_type": "code",
   "execution_count": 15,
   "metadata": {
    "collapsed": true
   },
   "outputs": [],
   "source": [
    "start = start.reset_index().drop('index',1)"
   ]
  },
  {
   "cell_type": "code",
   "execution_count": 16,
   "metadata": {
    "collapsed": true
   },
   "outputs": [],
   "source": [
    "start.to_csv('addbidderData_Nojson.csv',index=False)"
   ]
  },
  {
   "cell_type": "code",
   "execution_count": 17,
   "metadata": {},
   "outputs": [
    {
     "data": {
      "text/plain": [
       "(8109, 73)"
      ]
     },
     "execution_count": 17,
     "metadata": {},
     "output_type": "execute_result"
    }
   ],
   "source": [
    "df = pd.read_csv('addbidderData_Nojson.csv')\n",
    "df.shape"
   ]
  },
  {
   "cell_type": "code",
   "execution_count": 18,
   "metadata": {
    "collapsed": true
   },
   "outputs": [],
   "source": [
    "import shutil"
   ]
  },
  {
   "cell_type": "code",
   "execution_count": 19,
   "metadata": {
    "collapsed": true
   },
   "outputs": [],
   "source": [
    "try:\n",
    "    os.mkdir(folder+'Closed')\n",
    "except:\n",
    "    print 'exists'"
   ]
  },
  {
   "cell_type": "code",
   "execution_count": 20,
   "metadata": {
    "collapsed": true
   },
   "outputs": [],
   "source": [
    "%%time\n",
    "# os.rename(\"path/to/current/file.foo\", \"path/to/new/desination/for/file.foo\")\n",
    "for i in failed_names:\n",
    "    try:\n",
    "        shutil.move(folder+i, folder+'/Closed')\n",
    "    except:\n",
    "        print 'X',\n"
   ]
  },
  {
   "cell_type": "code",
   "execution_count": null,
   "metadata": {
    "collapsed": true
   },
   "outputs": [],
   "source": []
  }
 ],
 "metadata": {
  "kernelspec": {
   "display_name": "Python 2",
   "language": "python",
   "name": "python2"
  },
  "language_info": {
   "codemirror_mode": {
    "name": "ipython",
    "version": 2
   },
   "file_extension": ".py",
   "mimetype": "text/x-python",
   "name": "python",
   "nbconvert_exporter": "python",
   "pygments_lexer": "ipython2",
   "version": "2.7.13"
  }
 },
 "nbformat": 4,
 "nbformat_minor": 2
}
