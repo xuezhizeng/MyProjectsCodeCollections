{
 "cells": [
  {
   "cell_type": "code",
   "execution_count": 172,
   "metadata": {
    "collapsed": true
   },
   "outputs": [],
   "source": [
    "import requests\n",
    "from scrapy.selector import Selector\n",
    "import re"
   ]
  },
  {
   "cell_type": "code",
   "execution_count": 131,
   "metadata": {},
   "outputs": [
    {
     "data": {
      "text/plain": [
       "<200 http://www.soyoung.com/p16546028>"
      ]
     },
     "execution_count": 131,
     "metadata": {},
     "output_type": "execute_result"
    }
   ],
   "source": [
    "c = requests.get('http://www.soyoung.com/p16546028')\n",
    "from scrapy.http import TextResponse\n",
    "response = TextResponse(c.url, body=c.text, encoding='utf-8')\n",
    "response"
   ]
  },
  {
   "cell_type": "code",
   "execution_count": 177,
   "metadata": {},
   "outputs": [
    {
     "name": "stdout",
     "output_type": "stream",
     "text": [
      "http://www.soyoung.com/u18592763\n",
      "一千只羊儿\n"
     ]
    }
   ],
   "source": [
    "user = response.css('li.first_f div.head_pic')\n",
    "print user.css('a.name::attr(href)').extract()[0].strip()\n",
    "print user.css('a.name::text').extract()[0].strip()"
   ]
  },
  {
   "cell_type": "code",
   "execution_count": 133,
   "metadata": {},
   "outputs": [
    {
     "data": {
      "text/plain": [
       "0"
      ]
     },
     "execution_count": 133,
     "metadata": {},
     "output_type": "execute_result"
    }
   ],
   "source": [
    "int(response.css('div.date_box span.day::text').extract()[0])"
   ]
  },
  {
   "cell_type": "code",
   "execution_count": 178,
   "metadata": {},
   "outputs": [
    {
     "name": "stdout",
     "output_type": "stream",
     "text": [
      "天生脸上骨骼宽大，加上平时喜欢吃瓜子吃甘蔗，咬肌就特别大……羡慕天生丽质的小姐姐们\n",
      "第一次打瘦脸针，也不知道有没有效果，就打算试一下看看\n",
      "医院干净整洁，医生护士们性格都很好，一位美女医生帮我看了一下咬肌部位，觉得要打100单位才能有效果，所以我就选择打100单位的瘦脸针。填写完各种信息签了字拍了照片之后就准备去打针了……医生技术熟练，在我咬牙和放松两种状态下坐了标记，很快就打完了，护士小姐姐给我绷带之类的东西让我轻轻压住针口防止渗血……\n",
      "然后我就出到外面签字的地方听护士小姐姐交待注意事项……注射后避免吃硬壳类食物，一周内禁食辛辣海鲜忌烟酒，六小时内不宜洗脸，不要化妆，不要摸注射部位，不要剧烈运动，不要按摩脸部，不要热敷，不要揉搓……希望一周之后能看到效果，我真是受不了我的大脸了，又不敢动手术，只能期待看到瘦脸针的效果了\n",
      "现在感觉就是左脸咬肌酸胀略微疼痛，可能左边咬肌太发达了\n",
      "右边脸没什么感觉，吃东西的时候还吃要吃流食或半流食比较好，万一没效果我就白打了\n",
      "注射部位的皮肤轻微红肿，还有轻微淤血。\n",
      "现在表情都不敢太夸张，看综艺想笑一直憋着\n",
      "为了能有好的效果，一定要忌口\n",
      "听说四周之后可以看到非常明显的效果，想想都有点儿小激动\n",
      "希望小姐姐们都可以变成小仙女\n",
      "嘿嘿，希望瘦脸之后能有美颜相机拍出来的这么美\n"
     ]
    }
   ],
   "source": [
    "text = response.css('li.first_f div.content div.c ::text').extract()\n",
    "\n",
    "string=''\n",
    "for t in text:\n",
    "    try:\n",
    "        string = string +'\\n' + t.strip()\n",
    "    except Exception as e:\n",
    "        print e\n",
    "        pass\n",
    "string = re.sub(r'\\n\\n+', '\\n', string.strip())    \n",
    "print string"
   ]
  },
  {
   "cell_type": "code",
   "execution_count": 183,
   "metadata": {},
   "outputs": [
    {
     "name": "stdout",
     "output_type": "stream",
     "text": [
      "http://img2.soyoung.com/tieba/ios/20180114/7/20180114122641678_570.jpg\n",
      "http://img2.soyoung.com/tieba/ios/20180114/3/20180114122641408_570.jpg\n",
      "http://img2.soyoung.com/tieba/ios/20180114/1/20180114122641451_570.jpg\n",
      "http://img2.soyoung.com/tieba/ios/20180114/5/20180114122641988_570.jpg\n",
      "http://img2.soyoung.com/tieba/ios/20180114/4/20180114122641249_570.jpg\n"
     ]
    }
   ],
   "source": [
    "for i in response.css('li.first_f div.content div.c img::attr(src)'):\n",
    "    pic = i.extract().strip()\n",
    "    if pic.startswith('http://img2.soyoung.com'):\n",
    "        print pic"
   ]
  },
  {
   "cell_type": "code",
   "execution_count": 110,
   "metadata": {},
   "outputs": [
    {
     "name": "stdout",
     "output_type": "stream",
     "text": [
      "【其他】【八大处@付苏】乳头内陷矫正\n",
      "http://y.soyoung.com/cp81256\n"
     ]
    }
   ],
   "source": [
    "product= response.css('li.first_f div.con_t a.name')\n",
    "print product.css('::text').extract()[0].strip()\n",
    "print product.css('::attr(href)').extract()[0].strip()"
   ]
  },
  {
   "cell_type": "code",
   "execution_count": null,
   "metadata": {
    "collapsed": true
   },
   "outputs": [],
   "source": []
  },
  {
   "cell_type": "code",
   "execution_count": 127,
   "metadata": {},
   "outputs": [
    {
     "name": "stdout",
     "output_type": "stream",
     "text": [
      "[u'\\u8f7b\\u5fae\\u80bf\\u80c0']\n",
      " 100%\n",
      " 40%\n",
      " 20%\n",
      " 0%\n"
     ]
    }
   ],
   "source": [
    "rate = response.css('div.level_box ul.level_list')\n",
    "s = rate.css('span.sym a::text').extract()\n",
    "r = rate.css('span.level span')\n",
    "print s\n",
    "for w in r.css('::attr(style)').extract():\n",
    "    print w.split('width:')[-1].replace(';','')"
   ]
  },
  {
   "cell_type": "code",
   "execution_count": 130,
   "metadata": {},
   "outputs": [
    {
     "data": {
      "text/plain": [
       "[u'100%', u'40%', u'20%', u'0%']"
      ]
     },
     "execution_count": 130,
     "metadata": {},
     "output_type": "execute_result"
    }
   ],
   "source": [
    "[i.split('width:')[-1].replace(';','').strip() for i in r.css('::attr(style)').extract()]"
   ]
  },
  {
   "cell_type": "code",
   "execution_count": 159,
   "metadata": {},
   "outputs": [],
   "source": [
    "a = 'aaabbcccccccs'"
   ]
  },
  {
   "cell_type": "code",
   "execution_count": 160,
   "metadata": {
    "collapsed": true
   },
   "outputs": [],
   "source": [
    "import re"
   ]
  },
  {
   "cell_type": "code",
   "execution_count": 171,
   "metadata": {},
   "outputs": [
    {
     "data": {
      "text/plain": [
       "'aaabbcs'"
      ]
     },
     "execution_count": 171,
     "metadata": {},
     "output_type": "execute_result"
    }
   ],
   "source": [
    "re.sub(r'cc+', 'c', a)"
   ]
  },
  {
   "cell_type": "code",
   "execution_count": null,
   "metadata": {
    "collapsed": true
   },
   "outputs": [],
   "source": []
  }
 ],
 "metadata": {
  "kernelspec": {
   "display_name": "Python 2",
   "language": "python",
   "name": "python2"
  },
  "language_info": {
   "codemirror_mode": {
    "name": "ipython",
    "version": 2
   },
   "file_extension": ".py",
   "mimetype": "text/x-python",
   "name": "python",
   "nbconvert_exporter": "python",
   "pygments_lexer": "ipython2",
   "version": "2.7.13"
  }
 },
 "nbformat": 4,
 "nbformat_minor": 2
}
