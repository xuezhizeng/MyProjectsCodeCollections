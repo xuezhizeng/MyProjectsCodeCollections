{
 "cells": [
  {
   "cell_type": "markdown",
   "metadata": {},
   "source": [
    "https://support.scrapinghub.com/support/solutions/articles/22000200400-deploying-python-dependencies-for-your-projects-in-scrapy-cloud"
   ]
  },
  {
   "cell_type": "code",
   "execution_count": 1,
   "metadata": {
    "collapsed": true
   },
   "outputs": [],
   "source": [
    "import requests\n",
    "from scrapy.selector import Selector\n",
    "import re"
   ]
  },
  {
   "cell_type": "code",
   "execution_count": 2,
   "metadata": {},
   "outputs": [
    {
     "data": {
      "text/plain": [
       "<200 http://www.soyoung.com/p14924391>"
      ]
     },
     "execution_count": 2,
     "metadata": {},
     "output_type": "execute_result"
    }
   ],
   "source": [
    "c = requests.get('http://www.soyoung.com/p14924391')\n",
    "from scrapy.http import TextResponse\n",
    "response = TextResponse(c.url, body=c.text, encoding='utf-8')\n",
    "response"
   ]
  },
  {
   "cell_type": "code",
   "execution_count": 3,
   "metadata": {},
   "outputs": [
    {
     "name": "stdout",
     "output_type": "stream",
     "text": [
      "http://www.soyoung.com/u16687931\n",
      "小白sysysy\n"
     ]
    }
   ],
   "source": [
    "user = response.css('li.first_f div.head_pic')\n",
    "print user.css('a.name::attr(href)').extract()[0].strip()\n",
    "print user.css('a.name::text').extract()[0].strip()"
   ]
  },
  {
   "cell_type": "code",
   "execution_count": 4,
   "metadata": {},
   "outputs": [
    {
     "data": {
      "text/plain": [
       "0"
      ]
     },
     "execution_count": 4,
     "metadata": {},
     "output_type": "execute_result"
    }
   ],
   "source": [
    "int(response.css('div.date_box span.day::text').extract()[0])"
   ]
  },
  {
   "cell_type": "code",
   "execution_count": 14,
   "metadata": {},
   "outputs": [
    {
     "name": "stdout",
     "output_type": "stream",
     "text": [
      "这是我手术后的样子，都不肿不痛噢，效果自然是我想要的，马上就有萌萌哒大眼睛啦️咨询师小姐姐都久不久过来问我感觉疼不疼呀，有什么需要吗？好热情噢。\n"
     ]
    }
   ],
   "source": [
    "text = response.css('li.first_f div.content div.c ::text').extract()\n",
    "\n",
    "string=''\n",
    "for t in text:\n",
    "    try:\n",
    "        string = string +'\\n' + t.strip()\n",
    "    except Exception as e:\n",
    "        print e\n",
    "        pass\n",
    "string = re.sub(r'\\n\\n+', '\\n', string.strip()).strip()    \n",
    "\n",
    "if string:\n",
    "    print string"
   ]
  },
  {
   "cell_type": "code",
   "execution_count": 13,
   "metadata": {},
   "outputs": [],
   "source": [
    "for i in response.css('li.first_f div.content div.c img ::attr(src)'):\n",
    "    pic = i.extract().strip()\n",
    "    if pic.startswith('http://img2.soyoung.com'):\n",
    "        print pic"
   ]
  },
  {
   "cell_type": "code",
   "execution_count": 20,
   "metadata": {},
   "outputs": [
    {
     "name": "stdout",
     "output_type": "stream",
     "text": [
      "http://videosy.soyoung.com/43cd246106c1287e6e3313efba627a5c\n"
     ]
    }
   ],
   "source": [
    "for v in response.css('li.first_f div.content div.c video ::attr(src)').extract():\n",
    "    print v\n"
   ]
  },
  {
   "cell_type": "code",
   "execution_count": 22,
   "metadata": {},
   "outputs": [
    {
     "name": "stdout",
     "output_type": "stream",
     "text": [
      "http://videosy.soyoung.com/43cd246106c1287e6e3313efba627a5c\n"
     ]
    }
   ],
   "source": [
    "N=0\n",
    "for v in response.css('li.first_f div.content div.c video ::attr(src)'):\n",
    "    N+=1\n",
    "    print v.extract().strip()"
   ]
  },
  {
   "cell_type": "code",
   "execution_count": 110,
   "metadata": {},
   "outputs": [
    {
     "name": "stdout",
     "output_type": "stream",
     "text": [
      "【其他】【八大处@付苏】乳头内陷矫正\n",
      "http://y.soyoung.com/cp81256\n"
     ]
    }
   ],
   "source": [
    "product= response.css('li.first_f div.con_t a.name')\n",
    "print product.css('::text').extract()[0].strip()\n",
    "print product.css('::attr(href)').extract()[0].strip()"
   ]
  },
  {
   "cell_type": "code",
   "execution_count": null,
   "metadata": {
    "collapsed": true
   },
   "outputs": [],
   "source": []
  },
  {
   "cell_type": "code",
   "execution_count": 127,
   "metadata": {},
   "outputs": [
    {
     "name": "stdout",
     "output_type": "stream",
     "text": [
      "[u'\\u8f7b\\u5fae\\u80bf\\u80c0']\n",
      " 100%\n",
      " 40%\n",
      " 20%\n",
      " 0%\n"
     ]
    }
   ],
   "source": [
    "rate = response.css('div.level_box ul.level_list')\n",
    "s = rate.css('span.sym a::text').extract()\n",
    "r = rate.css('span.level span')\n",
    "print s\n",
    "for w in r.css('::attr(style)').extract():\n",
    "    print w.split('width:')[-1].replace(';','')"
   ]
  },
  {
   "cell_type": "code",
   "execution_count": 130,
   "metadata": {},
   "outputs": [
    {
     "data": {
      "text/plain": [
       "[u'100%', u'40%', u'20%', u'0%']"
      ]
     },
     "execution_count": 130,
     "metadata": {},
     "output_type": "execute_result"
    }
   ],
   "source": [
    "[i.split('width:')[-1].replace(';','').strip() for i in r.css('::attr(style)').extract()]"
   ]
  },
  {
   "cell_type": "code",
   "execution_count": 159,
   "metadata": {
    "collapsed": true
   },
   "outputs": [],
   "source": [
    "a = 'aaabbcccccccs'"
   ]
  },
  {
   "cell_type": "code",
   "execution_count": 160,
   "metadata": {
    "collapsed": true
   },
   "outputs": [],
   "source": [
    "import re"
   ]
  },
  {
   "cell_type": "code",
   "execution_count": 171,
   "metadata": {},
   "outputs": [
    {
     "data": {
      "text/plain": [
       "'aaabbcs'"
      ]
     },
     "execution_count": 171,
     "metadata": {},
     "output_type": "execute_result"
    }
   ],
   "source": [
    "re.sub(r'cc+', 'c', a)"
   ]
  },
  {
   "cell_type": "code",
   "execution_count": null,
   "metadata": {
    "collapsed": true
   },
   "outputs": [],
   "source": []
  }
 ],
 "metadata": {
  "kernelspec": {
   "display_name": "Python 2",
   "language": "python",
   "name": "python2"
  },
  "language_info": {
   "codemirror_mode": {
    "name": "ipython",
    "version": 2
   },
   "file_extension": ".py",
   "mimetype": "text/x-python",
   "name": "python",
   "nbconvert_exporter": "python",
   "pygments_lexer": "ipython2",
   "version": "2.7.13"
  }
 },
 "nbformat": 4,
 "nbformat_minor": 2
}
