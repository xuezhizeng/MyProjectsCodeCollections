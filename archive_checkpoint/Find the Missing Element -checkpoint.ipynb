{
 "cells": [
  {
   "cell_type": "markdown",
   "metadata": {},
   "source": [
    "# Find the Missing Element\n",
    "\n",
    "## Problem\n",
    "\n",
    "Consider an array of non-negative integers. A second array is formed by shuffling the elements of the first array and deleting a random element. Given these two arrays, find which element is missing in the second array. \n",
    "\n",
    "Here is an example input, the first array is shuffled and the number 5 is removed to construct the second array.\n",
    "\n",
    "Input:\n",
    "    \n",
    "    finder([1,2,3,4,5,6,7],[3,7,2,1,4,6])\n",
    "\n",
    "Output:\n",
    "\n",
    "    5 is the missing number\n",
    "\n",
    "## Solution\n",
    "\n",
    "Fill out your solution below:"
   ]
  },
  {
   "cell_type": "code",
   "execution_count": 45,
   "metadata": {
    "collapsed": true
   },
   "outputs": [],
   "source": [
    "def finder(arr1,arr2):\n",
    "    for i in arr2:\n",
    "        arr1.remove(i)\n",
    "    return arr1[0]"
   ]
  },
  {
   "cell_type": "code",
   "execution_count": 54,
   "metadata": {
    "collapsed": true
   },
   "outputs": [],
   "source": [
    "def finder(arr1,arr2):\n",
    "    return sum(arr1)-sum(arr2)"
   ]
  },
  {
   "cell_type": "code",
   "execution_count": 50,
   "metadata": {
    "collapsed": true
   },
   "outputs": [],
   "source": [
    "def finder(arr1, arr2):\n",
    "    arr1.sort()\n",
    "    arr2.sort()\n",
    "    \n",
    "    for num1, num2 in zip(arr1, arr2):\n",
    "        if num1!=num2:\n",
    "            return num1\n",
    "    return arr1[-1]"
   ]
  },
  {
   "cell_type": "code",
   "execution_count": 55,
   "metadata": {
    "collapsed": true
   },
   "outputs": [],
   "source": [
    "import collections"
   ]
  },
  {
   "cell_type": "code",
   "execution_count": 56,
   "metadata": {
    "collapsed": true
   },
   "outputs": [],
   "source": [
    "def finder(arr1, arr2):\n",
    "    d = collections.defaultdict(int)\n",
    "    \n",
    "    for num in arr2:\n",
    "        d[num]+ = 1\n",
    "    for num in arr1:\n",
    "        if d[num]==0:\n",
    "            return num\n",
    "        else:\n",
    "            d[num]- = 1"
   ]
  },
  {
   "cell_type": "markdown",
   "metadata": {},
   "source": [
    "### XOR"
   ]
  },
  {
   "cell_type": "code",
   "execution_count": 83,
   "metadata": {},
   "outputs": [],
   "source": [
    "b=7"
   ]
  },
  {
   "cell_type": "code",
   "execution_count": 88,
   "metadata": {},
   "outputs": [],
   "source": [
    "b^=7"
   ]
  },
  {
   "cell_type": "code",
   "execution_count": 89,
   "metadata": {},
   "outputs": [
    {
     "data": {
      "text/plain": [
       "7"
      ]
     },
     "execution_count": 89,
     "metadata": {},
     "output_type": "execute_result"
    }
   ],
   "source": [
    "b"
   ]
  },
  {
   "cell_type": "code",
   "execution_count": 71,
   "metadata": {
    "collapsed": true
   },
   "outputs": [],
   "source": [
    "def finder(arr1, arr2):\n",
    "    result=0\n",
    "    \n",
    "    for num in arr1+arr2:\n",
    "        result^=num\n",
    "    return result"
   ]
  },
  {
   "cell_type": "code",
   "execution_count": 72,
   "metadata": {},
   "outputs": [
    {
     "data": {
      "text/plain": [
       "5"
      ]
     },
     "execution_count": 72,
     "metadata": {},
     "output_type": "execute_result"
    }
   ],
   "source": [
    "arr1 = [1,2,3,4,5,6,7]\n",
    "arr2 = [3,7,2,1,4,6]\n",
    "finder(arr1,arr2)"
   ]
  },
  {
   "cell_type": "code",
   "execution_count": 73,
   "metadata": {},
   "outputs": [
    {
     "data": {
      "text/plain": [
       "5"
      ]
     },
     "execution_count": 73,
     "metadata": {},
     "output_type": "execute_result"
    }
   ],
   "source": [
    "arr1 = [5,5,7,7]\n",
    "arr2 = [5,7,7]\n",
    "\n",
    "finder(arr1,arr2)"
   ]
  },
  {
   "cell_type": "markdown",
   "metadata": {},
   "source": [
    "___"
   ]
  },
  {
   "cell_type": "markdown",
   "metadata": {},
   "source": [
    "# Test Your Solution"
   ]
  },
  {
   "cell_type": "code",
   "execution_count": 76,
   "metadata": {},
   "outputs": [
    {
     "name": "stdout",
     "output_type": "stream",
     "text": [
      "ALL TEST CASES PASSED\n"
     ]
    }
   ],
   "source": [
    "# %%timeit\n",
    "\"\"\"\n",
    "RUN THIS CELL TO TEST YOUR SOLUTION\n",
    "\"\"\"\n",
    "from nose.tools import assert_equal\n",
    "\n",
    "class TestFinder(object):\n",
    "    \n",
    "    def test(self,sol):\n",
    "        assert_equal(sol([5,5,7,7],[5,7,7]),5)\n",
    "        assert_equal(sol([1,2,3,4,5,6,7],[3,7,2,1,4,6]),5)\n",
    "        assert_equal(sol([9,8,7,6,5,4,3,2,1],[9,8,7,5,4,3,2,1]),6)\n",
    "        print 'ALL TEST CASES PASSED'\n",
    "\n",
    "# Run test\n",
    "t = TestFinder()\n",
    "t.test(finder)"
   ]
  },
  {
   "cell_type": "markdown",
   "metadata": {},
   "source": [
    "## Good Job!"
   ]
  },
  {
   "cell_type": "code",
   "execution_count": null,
   "metadata": {
    "collapsed": true
   },
   "outputs": [],
   "source": []
  }
 ],
 "metadata": {
  "kernelspec": {
   "display_name": "Python 2",
   "language": "python",
   "name": "python2"
  },
  "language_info": {
   "codemirror_mode": {
    "name": "ipython",
    "version": 2
   },
   "file_extension": ".py",
   "mimetype": "text/x-python",
   "name": "python",
   "nbconvert_exporter": "python",
   "pygments_lexer": "ipython2",
   "version": "2.7.13"
  }
 },
 "nbformat": 4,
 "nbformat_minor": 1
}
