{
 "cells": [
  {
   "cell_type": "code",
   "execution_count": 1,
   "metadata": {
    "collapsed": true
   },
   "outputs": [],
   "source": [
    "# !ls"
   ]
  },
  {
   "cell_type": "code",
   "execution_count": 1,
   "metadata": {
    "scrolled": true
   },
   "outputs": [
    {
     "name": "stdout",
     "output_type": "stream",
     "text": [
      "1 used 0.00 s | 100 used 39.44 s | 200 used 83.69 s | 300 used 126.72 s | 400 used 170.12 s | 500 used 212.59 s | 600 used 256.50 s | 700 used 299.30 s | 800 used 344.53 s | 900 used 386.44 s | 1000 used 426.30 s | 1100 used 469.67 s | 1200 used 511.29 s | 1300 used 553.67 s | 1400 used 596.83 s | 1500 used 637.71 s | 1600 used 680.72 s | 1700 used 724.55 s | 1800 used 765.64 s | 1900 used 809.87 s | 2000 used 851.25 s | 2100 used 892.06 s | 2200 used 933.84 s | 2300 used 978.09 s | 2400 used 1021.86 s | 2500 used 1063.93 s | 2600 used 1105.74 s | 2700 used 1147.38 s | 2800 used 1191.03 s | 2900 used 1234.74 s | 3000 used 1276.00 s | 3100 used 1317.24 s | 3200 used 1359.23 s | 3300 used 1402.22 s | 3400 used 1443.78 s | 3500 used 1489.05 s | 3600 used 1531.94 s | 3700 used 1573.23 s | 3800 used 1617.73 s | 3900 used 1660.42 s | 4000 used 1704.86 s | 4100 used 1747.42 s | 4200 used 1788.98 s | 4300 used 1830.34 s | 4400 used 1872.07 s | 4500 used 1913.57 s | 4600 used 1956.18 s | 4700 used 1998.82 s | 4800 used 2040.45 s | 4900 used 2082.59 s | 5000 used 2125.81 s | 5100 used 2168.49 s | 5200 used 2212.71 s | 5300 used 2253.81 s | 5400 used 2294.54 s | 5500 used 2338.02 s | 5600 used 2382.26 s | 5700 used 2423.92 s | 5800 used 2466.17 s | 5900 used 2506.68 s | 6000 used 2549.24 s | 6100 used 2589.55 s | 6200 used 2633.67 s | 6300 used 2677.44 s | 6400 used 2720.28 s | 6500 used 2766.64 s | 6600 used 2807.93 s | 6700 used 2851.41 s | 6800 used 2893.36 s | 6900 used 2935.80 s | 7000 used 2978.75 s | 7100 used 3021.63 s | 7200 used 3063.91 s | 7300 used 3107.28 s | 7400 used 3150.40 s | 7500 used 3194.20 s | 7600 used 3236.97 s | 7700 used 3280.44 s | 7800 used 3324.54 s | 7900 used 3368.38 s | 8000 used 3409.65 s | 8100 used 3451.34 s | 8200 used 3494.88 s | 8300 used 3537.51 s | 8400 used 3579.24 s | 8500 used 3620.37 s | 8600 used 3663.92 s | 8700 used 3707.87 s | 8800 used 3749.74 s | 8900 used 3791.54 s | 9000 used 3834.52 s | 9100 used 3877.30 s | 9200 used 3919.86 s | 9300 used 3960.64 s | 9400 used 4002.07 s | 9500 used 4041.00 s | 9600 used 4076.23 s | 9700 used 4110.40 s | 9800 used 4144.95 s | 9900 used 4180.21 s |\n"
     ]
    },
    {
     "data": {
      "text/plain": [
       "4216.07014298439"
      ]
     },
     "execution_count": 1,
     "metadata": {},
     "output_type": "execute_result"
    }
   ],
   "source": [
    "from time import time\n",
    "start=time()\n",
    "start\n",
    "\n",
    "\n",
    "!python -u /root/openface/util/align-dlib_mod.py \\\n",
    "../real_soyoung_pics/img_22 align \\\n",
    "outerEyesAndNose \\\n",
    "../chopHead256_real_soyoung_pics \\\n",
    "--size 256\n",
    "\n",
    "end=time()-start\n",
    "end"
   ]
  },
  {
   "cell_type": "code",
   "execution_count": null,
   "metadata": {
    "collapsed": true
   },
   "outputs": [],
   "source": []
  }
 ],
 "metadata": {
  "kernelspec": {
   "display_name": "Python 2",
   "language": "python",
   "name": "python2"
  },
  "language_info": {
   "codemirror_mode": {
    "name": "ipython",
    "version": 2
   },
   "file_extension": ".py",
   "mimetype": "text/x-python",
   "name": "python",
   "nbconvert_exporter": "python",
   "pygments_lexer": "ipython2",
   "version": "2.7.6"
  }
 },
 "nbformat": 4,
 "nbformat_minor": 2
}
