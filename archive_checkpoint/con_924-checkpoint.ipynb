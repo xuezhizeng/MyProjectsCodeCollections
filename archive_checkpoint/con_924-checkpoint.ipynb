{
 "cells": [
  {
   "cell_type": "code",
   "execution_count": 1,
   "metadata": {},
   "outputs": [
    {
     "name": "stdout",
     "output_type": "stream",
     "text": [
      "con_924.ipynb\t     geo.csv\t     index.pyc\t      onlyLL.csv\r\n",
      "control-Copy1.ipynb  geo.ipynb\t     mod_traffic.csv  parsing.ipynb\r\n",
      "control.ipynb\t     geo.py\t     mod_traffic.zip  sample.csv\r\n",
      "control-new.ipynb    geo-test.ipynb  newgeo.py\t      traffic1.csv\r\n",
      "first_newgeo.py      index.pkl\t     noGeo.csv\t      traffic.csv\r\n",
      "geo-Copy1.ipynb      index.py\t     noGeo.zip\t      Untitled.ipynb\r\n"
     ]
    }
   ],
   "source": [
    "!ls"
   ]
  },
  {
   "cell_type": "code",
   "execution_count": 3,
   "metadata": {
    "collapsed": true
   },
   "outputs": [],
   "source": [
    "import pandas as pd"
   ]
  },
  {
   "cell_type": "code",
   "execution_count": 4,
   "metadata": {},
   "outputs": [
    {
     "data": {
      "text/plain": [
       "(569274, 2)"
      ]
     },
     "execution_count": 4,
     "metadata": {},
     "output_type": "execute_result"
    }
   ],
   "source": [
    "df=pd.read_csv('onlyLL.csv')\n",
    "df.shape"
   ]
  },
  {
   "cell_type": "code",
   "execution_count": 10,
   "metadata": {
    "scrolled": true
   },
   "outputs": [
    {
     "data": {
      "text/html": [
       "<div>\n",
       "<style>\n",
       "    .dataframe thead tr:only-child th {\n",
       "        text-align: right;\n",
       "    }\n",
       "\n",
       "    .dataframe thead th {\n",
       "        text-align: left;\n",
       "    }\n",
       "\n",
       "    .dataframe tbody tr th {\n",
       "        vertical-align: top;\n",
       "    }\n",
       "</style>\n",
       "<table border=\"1\" class=\"dataframe\">\n",
       "  <thead>\n",
       "    <tr style=\"text-align: right;\">\n",
       "      <th></th>\n",
       "      <th>index</th>\n",
       "      <th>geo</th>\n",
       "    </tr>\n",
       "  </thead>\n",
       "  <tbody>\n",
       "    <tr>\n",
       "      <th>0</th>\n",
       "      <td>1</td>\n",
       "      <td>38.981725, -77.0927566666667</td>\n",
       "    </tr>\n",
       "    <tr>\n",
       "      <th>1</th>\n",
       "      <td>2</td>\n",
       "      <td>39.1628883333333, -77.2290883333333</td>\n",
       "    </tr>\n",
       "    <tr>\n",
       "      <th>2</th>\n",
       "      <td>3</td>\n",
       "      <td>39.056975, -76.9546333333333</td>\n",
       "    </tr>\n",
       "    <tr>\n",
       "      <th>3</th>\n",
       "      <td>6</td>\n",
       "      <td>39.0933833333333, -77.0795516666667</td>\n",
       "    </tr>\n",
       "    <tr>\n",
       "      <th>4</th>\n",
       "      <td>10</td>\n",
       "      <td>39.2348434333333, -77.28153995</td>\n",
       "    </tr>\n",
       "  </tbody>\n",
       "</table>\n",
       "</div>"
      ],
      "text/plain": [
       "   index                                  geo\n",
       "0      1         38.981725, -77.0927566666667\n",
       "1      2  39.1628883333333, -77.2290883333333\n",
       "2      3         39.056975, -76.9546333333333\n",
       "3      6  39.0933833333333, -77.0795516666667\n",
       "4     10       39.2348434333333, -77.28153995"
      ]
     },
     "execution_count": 10,
     "metadata": {},
     "output_type": "execute_result"
    }
   ],
   "source": [
    "df.iloc[:10000,:].head()"
   ]
  },
  {
   "cell_type": "code",
   "execution_count": 11,
   "metadata": {},
   "outputs": [
    {
     "data": {
      "text/html": [
       "<div>\n",
       "<style>\n",
       "    .dataframe thead tr:only-child th {\n",
       "        text-align: right;\n",
       "    }\n",
       "\n",
       "    .dataframe thead th {\n",
       "        text-align: left;\n",
       "    }\n",
       "\n",
       "    .dataframe tbody tr th {\n",
       "        vertical-align: top;\n",
       "    }\n",
       "</style>\n",
       "<table border=\"1\" class=\"dataframe\">\n",
       "  <thead>\n",
       "    <tr style=\"text-align: right;\">\n",
       "      <th></th>\n",
       "      <th>index</th>\n",
       "      <th>geo</th>\n",
       "    </tr>\n",
       "  </thead>\n",
       "  <tbody>\n",
       "    <tr>\n",
       "      <th>9995</th>\n",
       "      <td>21052</td>\n",
       "      <td>39.1298465333333, -77.0056424</td>\n",
       "    </tr>\n",
       "    <tr>\n",
       "      <th>9996</th>\n",
       "      <td>21053</td>\n",
       "      <td>39.0760523, -76.93998715</td>\n",
       "    </tr>\n",
       "    <tr>\n",
       "      <th>9997</th>\n",
       "      <td>21054</td>\n",
       "      <td>38.99950885, -76.9943146166667</td>\n",
       "    </tr>\n",
       "    <tr>\n",
       "      <th>9998</th>\n",
       "      <td>21057</td>\n",
       "      <td>39.0555016666667, -76.95948</td>\n",
       "    </tr>\n",
       "    <tr>\n",
       "      <th>9999</th>\n",
       "      <td>21058</td>\n",
       "      <td>39.0543433333333, -77.0862033333333</td>\n",
       "    </tr>\n",
       "  </tbody>\n",
       "</table>\n",
       "</div>"
      ],
      "text/plain": [
       "      index                                  geo\n",
       "9995  21052        39.1298465333333, -77.0056424\n",
       "9996  21053             39.0760523, -76.93998715\n",
       "9997  21054       38.99950885, -76.9943146166667\n",
       "9998  21057          39.0555016666667, -76.95948\n",
       "9999  21058  39.0543433333333, -77.0862033333333"
      ]
     },
     "execution_count": 11,
     "metadata": {},
     "output_type": "execute_result"
    }
   ],
   "source": [
    "df.iloc[:10000,:].tail()"
   ]
  },
  {
   "cell_type": "code",
   "execution_count": 9,
   "metadata": {},
   "outputs": [
    {
     "data": {
      "text/plain": [
       "RangeIndex(start=0, stop=569274, step=1)"
      ]
     },
     "execution_count": 9,
     "metadata": {},
     "output_type": "execute_result"
    }
   ],
   "source": [
    "df.index"
   ]
  },
  {
   "cell_type": "code",
   "execution_count": 6,
   "metadata": {},
   "outputs": [
    {
     "data": {
      "text/html": [
       "<div>\n",
       "<style>\n",
       "    .dataframe thead tr:only-child th {\n",
       "        text-align: right;\n",
       "    }\n",
       "\n",
       "    .dataframe thead th {\n",
       "        text-align: left;\n",
       "    }\n",
       "\n",
       "    .dataframe tbody tr th {\n",
       "        vertical-align: top;\n",
       "    }\n",
       "</style>\n",
       "<table border=\"1\" class=\"dataframe\">\n",
       "  <thead>\n",
       "    <tr style=\"text-align: right;\">\n",
       "      <th></th>\n",
       "      <th>index</th>\n",
       "      <th>geo</th>\n",
       "    </tr>\n",
       "  </thead>\n",
       "  <tbody>\n",
       "    <tr>\n",
       "      <th>569269</th>\n",
       "      <td>1163600</td>\n",
       "      <td>39.1568459666667, -77.2029032166667</td>\n",
       "    </tr>\n",
       "    <tr>\n",
       "      <th>569270</th>\n",
       "      <td>1163601</td>\n",
       "      <td>39.1431373333333, -77.1586750333333</td>\n",
       "    </tr>\n",
       "    <tr>\n",
       "      <th>569271</th>\n",
       "      <td>1163602</td>\n",
       "      <td>39.1527700833333, -77.2202923833333</td>\n",
       "    </tr>\n",
       "    <tr>\n",
       "      <th>569272</th>\n",
       "      <td>1163603</td>\n",
       "      <td>39.0800610666667, -77.0743472</td>\n",
       "    </tr>\n",
       "    <tr>\n",
       "      <th>569273</th>\n",
       "      <td>1163604</td>\n",
       "      <td>39.0171391166667, -77.0063790833333</td>\n",
       "    </tr>\n",
       "  </tbody>\n",
       "</table>\n",
       "</div>"
      ],
      "text/plain": [
       "          index                                  geo\n",
       "569269  1163600  39.1568459666667, -77.2029032166667\n",
       "569270  1163601  39.1431373333333, -77.1586750333333\n",
       "569271  1163602  39.1527700833333, -77.2202923833333\n",
       "569272  1163603        39.0800610666667, -77.0743472\n",
       "569273  1163604  39.0171391166667, -77.0063790833333"
      ]
     },
     "execution_count": 6,
     "metadata": {},
     "output_type": "execute_result"
    }
   ],
   "source": [
    "df.tail()"
   ]
  },
  {
   "cell_type": "code",
   "execution_count": null,
   "metadata": {
    "collapsed": true
   },
   "outputs": [],
   "source": []
  },
  {
   "cell_type": "code",
   "execution_count": null,
   "metadata": {},
   "outputs": [
    {
     "name": "stdout",
     "output_type": "stream",
     "text": [
      "2\n",
      "http://localhost:8080/reverse\n",
      "569274\n",
      "569274\n",
      "11.2.0.2.0\n",
      "Sep 24 17:11:53 2017 start\n",
      "first [10000, 10001, 10002, 10003, 10004, 10005, 10006, 10007, 10008, 10009]\n",
      "last [19990, 19991, 19992, 19993, 19994, 19995, 19996, 19997, 19998, 19999]\n",
      "99 1/100 1.00 s | 100 2/100 1.02 s | 100 3/100 0.98 s | 100 4/100 1.01 s | 100 5/100 1.01 s | 100 6/100 1.01 s | 100 7/100 1.01 s | 100 8/100 0.96 s | 100 9/100 0.97 s | 100 10/100 0.98 s | 100 11/100 1.01 s | 100 12/100 1.01 s | 100 13/100 1.01 s | 100 14/100 0.99 s |"
     ]
    }
   ],
   "source": [
    "for i in range(3,58):\n",
    "    print i\n",
    "    !python -u newgeo.py {i}\n",
    "    # break\n",
    "    "
   ]
  },
  {
   "cell_type": "code",
   "execution_count": null,
   "metadata": {
    "collapsed": true
   },
   "outputs": [],
   "source": []
  }
 ],
 "metadata": {
  "kernelspec": {
   "display_name": "Python 2",
   "language": "python",
   "name": "python2"
  },
  "language_info": {
   "codemirror_mode": {
    "name": "ipython",
    "version": 2
   },
   "file_extension": ".py",
   "mimetype": "text/x-python",
   "name": "python",
   "nbconvert_exporter": "python",
   "pygments_lexer": "ipython2",
   "version": "2.7.13"
  }
 },
 "nbformat": 4,
 "nbformat_minor": 2
}
